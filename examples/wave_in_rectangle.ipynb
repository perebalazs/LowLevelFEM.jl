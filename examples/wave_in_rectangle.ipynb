{
 "cells": [
  {
   "cell_type": "code",
   "execution_count": 1,
   "metadata": {},
   "outputs": [],
   "source": [
    "using Plots"
   ]
  },
  {
   "cell_type": "code",
   "execution_count": 2,
   "metadata": {},
   "outputs": [],
   "source": [
    "import LowLevelFEM as FEM\n",
    "using LowLevelFEM\n",
    "using SparseArrays\n",
    "\n",
    "gmsh.initialize()"
   ]
  },
  {
   "cell_type": "code",
   "execution_count": null,
   "metadata": {},
   "outputs": [],
   "source": [
    "#gmsh.open(\"wave_in_rectangle.geo\")\n",
    "gmsh.open(\"wave_in_rectangle_2.geo\")"
   ]
  },
  {
   "cell_type": "code",
   "execution_count": null,
   "metadata": {},
   "outputs": [],
   "source": [
    "mat = FEM.material(\"body\", E=2.e5, ν=0.3, ρ=7.85e-9)\n",
    "problem = FEM.Problem([mat], type=\"PlaneStress\")"
   ]
  },
  {
   "cell_type": "code",
   "execution_count": 5,
   "metadata": {},
   "outputs": [],
   "source": [
    "supp1 = FEM.displacementConstraint(\"left\", ux=0)\n",
    "supp2 = FEM.displacementConstraint(\"middle\", uy=0)\n",
    "load = FEM.load(\"source\", fx=-1);"
   ]
  },
  {
   "cell_type": "code",
   "execution_count": 6,
   "metadata": {},
   "outputs": [],
   "source": [
    "dof = problem.non * problem.dim\n",
    "u0 = zeros(dof)\n",
    "v0 = zeros(dof);"
   ]
  },
  {
   "cell_type": "code",
   "execution_count": null,
   "metadata": {},
   "outputs": [],
   "source": [
    "K = FEM.stiffnessMatrix(problem)\n",
    "M = FEM.massMatrix(problem)\n",
    "f = FEM.loadVector(problem, [load])\n",
    "C = spzeros(dof, dof)\n",
    "dof"
   ]
  },
  {
   "cell_type": "code",
   "execution_count": 8,
   "metadata": {},
   "outputs": [],
   "source": [
    "FEM.applyBoundaryConditions!(problem, K, M, C, f, [supp1, supp2]);"
   ]
  },
  {
   "cell_type": "code",
   "execution_count": null,
   "metadata": {},
   "outputs": [],
   "source": [
    "Tₘᵢₙ = FEM.smallestPeriodTime(K, M)"
   ]
  },
  {
   "cell_type": "code",
   "execution_count": null,
   "metadata": {},
   "outputs": [],
   "source": [
    "u1, v1, t1 = FEM.CDM(K, M, C, f, u0, v0, Tₘᵢₙ, Tₘᵢₙ / π)"
   ]
  },
  {
   "cell_type": "code",
   "execution_count": null,
   "metadata": {},
   "outputs": [],
   "source": [
    "sts = length(t1)\n",
    "u0 = u1[:, sts]\n",
    "v0 = v1[:, sts]\n",
    "\n",
    "f .*= 0\n",
    "u2, v2, t2 = FEM.CDM(K, M, C, f, u0, v0, 20Tₘᵢₙ, Tₘᵢₙ / π)"
   ]
  },
  {
   "cell_type": "code",
   "execution_count": null,
   "metadata": {},
   "outputs": [],
   "source": [
    "sts = length(t1)\n",
    "u0 = u1[:, sts]\n",
    "v0 = v1[:, sts]\n",
    "\n",
    "f .*= 0\n",
    "u3, v3, t3 = FEM.HHT(K, M, f, u0, v0, 20Tₘᵢₙ, Tₘᵢₙ / π)"
   ]
  },
  {
   "cell_type": "code",
   "execution_count": null,
   "metadata": {},
   "outputs": [],
   "source": [
    "plt = FEM.HHTdampingCharacter(2π / Tₘᵢₙ, 10Tₘᵢₙ / π, γ=0.9, β=0.49)\n",
    "plot(plt)"
   ]
  },
  {
   "cell_type": "code",
   "execution_count": 14,
   "metadata": {},
   "outputs": [],
   "source": [
    "gmsh.option.setNumber(\"General.Trackball\", 0)\n",
    "gmsh.option.setNumber(\"General.RotationX\", 298)\n",
    "gmsh.option.setNumber(\"General.RotationY\", 346)\n",
    "gmsh.option.setNumber(\"General.RotationZ\", 332)"
   ]
  },
  {
   "cell_type": "code",
   "execution_count": null,
   "metadata": {},
   "outputs": [],
   "source": [
    "vvec1 = FEM.showDoFResults(problem, v1, t=t1, \"vvec\", name=\"v1(t)\", visible=false)\n",
    "gmsh.option.setNumber(\"Mesh.SurfaceEdges\", 0)\n",
    "gmsh.option.setNumber(\"View[$vvec1].NormalRaise\", 5)\n",
    "gmsh.option.setNumber(\"View[$vvec1].VectorType\", 5)\n",
    "gmsh.option.setNumber(\"View[$vvec1].IntervalsType\", 3)\n",
    "gmsh.option.setNumber(\"View[$vvec1].NbIso\", 20)"
   ]
  },
  {
   "cell_type": "code",
   "execution_count": null,
   "metadata": {},
   "outputs": [],
   "source": [
    "vvec2 = FEM.showDoFResults(problem, v2, t=t2, \"vvec\", name=\"v2(t) CDM\", visible=true)\n",
    "gmsh.option.setNumber(\"Mesh.SurfaceEdges\", 0)\n",
    "gmsh.option.setNumber(\"View[$vvec2].NormalRaise\", 5)\n",
    "gmsh.option.setNumber(\"View[$vvec2].VectorType\", 5)\n",
    "gmsh.option.setNumber(\"View[$vvec2].IntervalsType\", 3)\n",
    "gmsh.option.setNumber(\"View[$vvec2].NbIso\", 20)"
   ]
  },
  {
   "cell_type": "code",
   "execution_count": null,
   "metadata": {},
   "outputs": [],
   "source": [
    "vvec3 = FEM.showDoFResults(problem, v3, t=t3, \"vvec\", name=\"v3(t) HHT\", visible=false)\n",
    "gmsh.option.setNumber(\"Mesh.SurfaceEdges\", 0)\n",
    "gmsh.option.setNumber(\"View[$vvec3].NormalRaise\", 5)\n",
    "gmsh.option.setNumber(\"View[$vvec3].VectorType\", 5)\n",
    "gmsh.option.setNumber(\"View[$vvec3].IntervalsType\", 3)\n",
    "gmsh.option.setNumber(\"View[$vvec3].NbIso\", 20)"
   ]
  },
  {
   "cell_type": "code",
   "execution_count": null,
   "metadata": {},
   "outputs": [],
   "source": [
    "S2 = FEM.solveStress(problem, u2)"
   ]
  },
  {
   "cell_type": "code",
   "execution_count": null,
   "metadata": {},
   "outputs": [],
   "source": [
    "s2 = FEM.showStressResults(problem, S2, \"seqv\", name=\"σ(t)\", t=t2, visible=false, smooth=true)\n",
    "gmsh.option.setNumber(\"Mesh.SurfaceEdges\", 0)\n",
    "gmsh.option.setNumber(\"View[$s2].NormalRaise\", 100)\n",
    "#gmsh.option.setNumber(\"View[$s2].VectorType\", 5)\n",
    "gmsh.option.setNumber(\"View[$s2].IntervalsType\", 3)\n",
    "gmsh.option.setNumber(\"View[$s2].NbIso\", 20)"
   ]
  },
  {
   "cell_type": "code",
   "execution_count": 20,
   "metadata": {},
   "outputs": [],
   "source": [
    "#seqv = FEM.showStressResults(problem, S2, \"seqv\", name=\"σeqv(t)\", t=t2, visible=false, smooth=true)\n",
    "#gmsh.option.setNumber(\"Mesh.SurfaceEdges\", 0)\n",
    "#gmsh.option.setNumber(\"View[$seqv].NormalRaise\", 100)\n",
    "##gmsh.option.setNumber(\"View[$seqv].VectorType\", 5)\n",
    "#gmsh.option.setNumber(\"View[$seqv].IntervalsType\", 3)\n",
    "#gmsh.option.setNumber(\"View[$seqv].NbIso\", 20)"
   ]
  },
  {
   "cell_type": "code",
   "execution_count": null,
   "metadata": {},
   "outputs": [],
   "source": [
    "ph, x, y = FEM.plotOnPath(problem, \"path\", s2, 500, step=100, plot=true)\n",
    "#ph = FEM.plotOnPath(problem, \"path\", s2, 500, step=1, plot=false)"
   ]
  },
  {
   "cell_type": "code",
   "execution_count": null,
   "metadata": {},
   "outputs": [],
   "source": [
    "plot(x, y)"
   ]
  },
  {
   "cell_type": "code",
   "execution_count": null,
   "metadata": {},
   "outputs": [],
   "source": [
    "gmsh.fltk.run()"
   ]
  },
  {
   "cell_type": "code",
   "execution_count": null,
   "metadata": {},
   "outputs": [],
   "source": [
    "dataType, tags, data, time, numComponents = gmsh.view.getModelData(s2, 0)"
   ]
  },
  {
   "cell_type": "code",
   "execution_count": 25,
   "metadata": {},
   "outputs": [],
   "source": [
    "gmsh.finalize()"
   ]
  },
  {
   "cell_type": "code",
   "execution_count": null,
   "metadata": {},
   "outputs": [],
   "source": [
    "function vec_test(a; b=false)\n",
    "    if b == true\n",
    "        b = [i for i in 1:a]\n",
    "        return a, b\n",
    "    else\n",
    "        return a\n",
    "    end\n",
    "end\n",
    "\n",
    "vec_test(3, b=true)"
   ]
  },
  {
   "cell_type": "code",
   "execution_count": null,
   "metadata": {},
   "outputs": [],
   "source": [
    "using Plots\n",
    "x = 0:0.01:2π\n",
    "y = sin.(x)\n",
    "z = x, y\n",
    "plot(z)"
   ]
  },
  {
   "cell_type": "code",
   "execution_count": null,
   "metadata": {},
   "outputs": [],
   "source": [
    "range(0, length=10, stop=10)"
   ]
  },
  {
   "cell_type": "code",
   "execution_count": null,
   "metadata": {},
   "outputs": [],
   "source": [
    "findmax([1, 2, 5, 3])\n",
    "maximum(abs, [1, -2 + 8im, 5im, 3])"
   ]
  },
  {
   "cell_type": "code",
   "execution_count": 30,
   "metadata": {},
   "outputs": [],
   "source": [
    "using LinearAlgebra\n",
    "A = [10 30im 0; 30 90 0; 0 0 20]\n",
    "eig = eigen(A)\n",
    "maxval, idx = findmax(abs, eig.values)\n",
    "#eig.values[idx]"
   ]
  }
 ],
 "metadata": {
  "kernelspec": {
   "display_name": "Julia 1.11.1",
   "language": "julia",
   "name": "julia-1.11"
  },
  "language_info": {
   "file_extension": ".jl",
   "mimetype": "application/julia",
   "name": "julia",
   "version": "1.11.1"
  }
 },
 "nbformat": 4,
 "nbformat_minor": 4
}
