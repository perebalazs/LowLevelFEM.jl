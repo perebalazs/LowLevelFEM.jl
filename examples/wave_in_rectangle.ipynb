{
 "cells": [
  {
   "cell_type": "code",
   "execution_count": 121,
   "metadata": {},
   "outputs": [],
   "source": [
    "import LowLevelFEM as FEM\n",
    "using LowLevelFEM\n",
    "using SparseArrays\n",
    "\n",
    "gmsh.initialize()"
   ]
  },
  {
   "cell_type": "code",
   "execution_count": 122,
   "metadata": {},
   "outputs": [
    {
     "name": "stdout",
     "output_type": "stream",
     "text": [
      "Info    : Reading 'wave_in_rectangle_2.geo'...\n",
      "Info    : Meshing 1D...\n",
      "Info    : [  0%] Meshing curve 1 (Line)\n",
      "Info    : [ 20%] Meshing curve 2 (Line)\n",
      "Info    : [ 30%] Meshing curve 3 (Line)\n",
      "Info    : [ 50%] Meshing curve 4 (Line)\n",
      "Info    : [ 60%] Meshing curve 5 (Line)\n",
      "Info    : [ 80%] Meshing curve 6 (Line)\n",
      "Info    : [ 90%] Meshing curve 7 (Line)\n",
      "Info    : Done meshing 1D (Wall 0.00109634s, CPU 0.001082s)\n",
      "Info    : Meshing 2D...\n",
      "Info    : Meshing surface 1 (Transfinite)\n",
      "Info    : Done meshing 2D (Wall 0.0282086s, CPU 0.021987s)\n",
      "Info    : 40401 nodes 80807 elements\n",
      "Info    : Done reading 'wave_in_rectangle_2.geo'\n"
     ]
    }
   ],
   "source": [
    "#gmsh.open(\"wave_in_rectangle.geo\")\n",
    "gmsh.open(\"wave_in_rectangle_2.geo\")"
   ]
  },
  {
   "cell_type": "code",
   "execution_count": 123,
   "metadata": {},
   "outputs": [
    {
     "name": "stdout",
     "output_type": "stream",
     "text": [
      "Info    : RCMK renumbering...\n",
      "Info    : Done RCMK renumbering (bandwidth is now 401)\n"
     ]
    },
    {
     "data": {
      "text/plain": [
       "LowLevelFEM.Problem(\"wave_in_rectangle_2\", \"PlaneStress\", 2, [(\"body\", 200000.0, 0.3, 7.85e-9)], 1.0, 40401)"
      ]
     },
     "metadata": {},
     "output_type": "display_data"
    }
   ],
   "source": [
    "mat = FEM.material(\"body\", E=2.e5, ν=0.3, ρ=7.85e-9)\n",
    "problem = FEM.Problem([mat], type=\"PlaneStress\")"
   ]
  },
  {
   "cell_type": "code",
   "execution_count": 124,
   "metadata": {},
   "outputs": [],
   "source": [
    "supp1 = FEM.displacementConstraint(\"left\", ux=0)\n",
    "supp2 = FEM.displacementConstraint(\"middle\", uy=0)\n",
    "load = FEM.load(\"source\", fx=-1);"
   ]
  },
  {
   "cell_type": "code",
   "execution_count": 125,
   "metadata": {},
   "outputs": [],
   "source": [
    "dof = problem.non * problem.dim\n",
    "u0 = zeros(dof)\n",
    "v0 = zeros(dof);"
   ]
  },
  {
   "cell_type": "code",
   "execution_count": 126,
   "metadata": {},
   "outputs": [
    {
     "data": {
      "text/plain": [
       "80802"
      ]
     },
     "metadata": {},
     "output_type": "display_data"
    }
   ],
   "source": [
    "K = FEM.stiffnessMatrix(problem)\n",
    "M = FEM.massMatrix(problem)\n",
    "f = FEM.loadVector(problem, [load])\n",
    "C = spzeros(dof, dof)\n",
    "dof"
   ]
  },
  {
   "cell_type": "code",
   "execution_count": 127,
   "metadata": {},
   "outputs": [],
   "source": [
    "FEM.applyBoundaryConditions!(problem, K, M, C, f, [supp1, supp2]);"
   ]
  },
  {
   "cell_type": "code",
   "execution_count": 128,
   "metadata": {},
   "outputs": [
    {
     "data": {
      "text/plain": [
       "2.209812832939239e-7"
      ]
     },
     "metadata": {},
     "output_type": "display_data"
    }
   ],
   "source": [
    "Tₘᵢₙ = FEM.smallestPeriodTime(K, M)"
   ]
  },
  {
   "cell_type": "code",
   "execution_count": 129,
   "metadata": {},
   "outputs": [
    {
     "data": {
      "text/plain": [
       "([0.0 0.0 … 0.0 0.0; 0.0 0.0 … 0.0 0.0; … ; 0.0 0.0 … 0.0 0.0; 0.0 0.0 … 0.0 0.0], [0.0 0.0 … 0.0 0.0; 0.0 0.0 … 0.0 0.0; … ; 0.0 0.0 … 0.0 0.0; 0.0 0.0 … 0.0 0.0], [0.0, 7.034052713403693e-8, 1.4068105426807386e-7, 2.110215814021108e-7, 2.813621085361477e-7, 3.517026356701846e-7, 4.2204316280422154e-7])"
      ]
     },
     "metadata": {},
     "output_type": "display_data"
    }
   ],
   "source": [
    "u1, v1, t1 = FEM.CDM(K, M, C, f, u0, v0, 2Tₘᵢₙ, Tₘᵢₙ / π)"
   ]
  },
  {
   "cell_type": "code",
   "execution_count": 130,
   "metadata": {},
   "outputs": [
    {
     "data": {
      "text/plain": [
       "([0.0 0.0 … 8.008372408890389e-32 5.9006412627521285e-30; 0.0 0.0 … 2.4076661029907953e-31 1.8025938328316598e-29; … ; 0.0 0.0 … 0.0 0.0; 0.0 0.0 … 0.0 0.0], [0.0 0.0 … 1.1385146991619907e-24 8.274827863561356e-23; 0.0 0.0 … 3.422871850822049e-24 2.5284387880868597e-22; … ; 0.0 0.0 … 0.0 0.0; 0.0 0.0 … 0.0 0.0], [0.0, 7.034052713403693e-8, 1.4068105426807386e-7, 2.110215814021108e-7, 2.813621085361477e-7, 3.517026356701846e-7, 4.2204316280422154e-7, 4.923836899382585e-7, 5.627242170722954e-7, 6.330647442063324e-7  …  5.9789448063931425e-6, 6.04928533352718e-6, 6.119625860661217e-6, 6.189966387795254e-6, 6.260306914929291e-6, 6.330647442063328e-6, 6.4009879691973655e-6, 6.471328496331403e-6, 6.54166902346544e-6, 6.612009550599477e-6])"
      ]
     },
     "metadata": {},
     "output_type": "display_data"
    }
   ],
   "source": [
    "sts = length(t1)\n",
    "u0 = u1[:, sts]\n",
    "v0 = v1[:, sts]\n",
    "\n",
    "f .*= 0\n",
    "u2, v2, t2 = FEM.CDM(K, M, C, f, u0, v0, 30Tₘᵢₙ, Tₘᵢₙ / π)"
   ]
  },
  {
   "cell_type": "code",
   "execution_count": 131,
   "metadata": {},
   "outputs": [],
   "source": [
    "gmsh.option.setNumber(\"General.Trackball\", 0)\n",
    "gmsh.option.setNumber(\"General.RotationX\", 298)\n",
    "gmsh.option.setNumber(\"General.RotationY\", 346)\n",
    "gmsh.option.setNumber(\"General.RotationZ\", 332)"
   ]
  },
  {
   "cell_type": "code",
   "execution_count": 132,
   "metadata": {},
   "outputs": [],
   "source": [
    "vvec1 = FEM.showDoFResults(problem, v1, t=t1, \"vvec\", name=\"v1(t)\", visible=false)\n",
    "gmsh.option.setNumber(\"Mesh.SurfaceEdges\", 0)\n",
    "gmsh.option.setNumber(\"View[$vvec1].NormalRaise\", 5)\n",
    "gmsh.option.setNumber(\"View[$vvec1].VectorType\", 5)\n",
    "gmsh.option.setNumber(\"View[$vvec1].IntervalsType\", 3)\n",
    "gmsh.option.setNumber(\"View[$vvec1].NbIso\", 20)"
   ]
  },
  {
   "cell_type": "code",
   "execution_count": 133,
   "metadata": {},
   "outputs": [],
   "source": [
    "vvec2 = FEM.showDoFResults(problem, v2, t=t2, \"vvec\", name=\"v2(t)\", visible=true)\n",
    "gmsh.option.setNumber(\"Mesh.SurfaceEdges\", 0)\n",
    "gmsh.option.setNumber(\"View[$vvec2].NormalRaise\", 5)\n",
    "gmsh.option.setNumber(\"View[$vvec2].VectorType\", 5)\n",
    "gmsh.option.setNumber(\"View[$vvec2].IntervalsType\", 3)\n",
    "gmsh.option.setNumber(\"View[$vvec2].NbIso\", 20)"
   ]
  },
  {
   "cell_type": "code",
   "execution_count": 134,
   "metadata": {},
   "outputs": [
    {
     "data": {
      "text/plain": [
       "LowLevelFEM.StressField([[0.0 0.0 … 0.0 0.0; 0.0 0.0 … 0.0 0.0; … ; 0.0 0.0 … 0.0 0.0; 0.0 0.0 … 0.0 0.0], [0.0 0.0 … 0.0 0.0; 0.0 0.0 … 0.0 0.0; … ; 0.0 0.0 … 0.0 0.0; 0.0 0.0 … 0.0 0.0], [0.0 0.0 … 0.0 0.0; 0.0 0.0 … 0.0 0.0; … ; 0.0 0.0 … 0.0 0.0; 0.0 0.0 … 0.0 0.0], [0.0 0.0 … 0.0 0.0; 0.0 0.0 … 0.0 0.0; … ; 0.0 0.0 … 0.0 0.0; 0.0 0.0 … 0.0 0.0], [0.0 0.0 … 0.0 0.0; 0.0 0.0 … 0.0 0.0; … ; 0.0 0.0 … 0.0 0.0; 0.0 0.0 … 0.0 0.0], [0.0 0.0 … 0.0 0.0; 0.0 0.0 … 0.0 0.0; … ; 0.0 0.0 … 0.0 0.0; 0.0 0.0 … 0.0 0.0], [0.0 0.0 … 0.0 0.0; 0.0 0.0 … 0.0 0.0; … ; 0.0 0.0 … 0.0 0.0; 0.0 0.0 … 0.0 0.0], [0.0 0.0 … 0.0 0.0; 0.0 0.0 … 0.0 0.0; … ; 0.0 0.0 … 0.0 0.0; 0.0 0.0 … 0.0 0.0], [0.0 0.0 … 0.0 0.0; 0.0 0.0 … 0.0 0.0; … ; 0.0 0.0 … 0.0 0.0; 0.0 0.0 … 0.0 0.0], [0.0 0.0 … 0.0 0.0; 0.0 0.0 … 0.0 0.0; … ; 0.0 0.0 … 0.0 0.0; 0.0 0.0 … 0.0 0.0]  …  [0.0 0.0 … -1.7450385911531523e-18 -1.9593176413955226e-17; 0.0 0.0 … -8.251751973711184e-19 -9.309084656255614e-18; … ; 0.0 0.0 … 0.0 0.0; 0.0 0.0 … 0.0 0.0], [0.0 0.0 … -2.0875201032897416e-18 -2.3372605458821822e-17; 0.0 0.0 … -3.9307371906972813e-19 -4.354212769154641e-18; … ; 0.0 0.0 … 0.0 0.0; 0.0 0.0 … 0.0 0.0], [0.0 0.0 … 3.257972777294843e-21 5.779290946627627e-20; 0.0 0.0 … 8.245892626782262e-21 1.0247685162217905e-19; … ; 0.0 0.0 … 0.0 0.0; 0.0 0.0 … 0.0 0.0], [0.0 0.0 … -8.796901056834731e-20 -1.2234672626772645e-18; 0.0 0.0 … -7.837630784723985e-21 -1.1279457285067236e-19; … ; 0.0 0.0 … 0.0 0.0; 0.0 0.0 … 0.0 0.0], [0.0 0.0 … -2.6934825824824937e-21 -4.712248088615128e-20; 0.0 0.0 … -1.2217714564995584e-21 -2.197166947717876e-20; … ; 0.0 0.0 … 0.0 0.0; 0.0 0.0 … 0.0 0.0], [0.0 0.0 … -3.2240343899462208e-21 -5.640710259762582e-20; 0.0 0.0 … -6.083074929472796e-22 -1.0689561985276154e-20; … ; 0.0 0.0 … 0.0 0.0; 0.0 0.0 … 0.0 0.0], [0.0 0.0 … -4.065260879433714e-25 3.340069019481362e-23; 0.0 0.0 … 9.658984564428777e-24 1.9380552720920727e-22; … ; 0.0 0.0 … 0.0 0.0; 0.0 0.0 … 0.0 0.0], [0.0 0.0 … -7.37654837425895e-23 -1.79263221286328e-21; 0.0 0.0 … -6.5613523087094514e-24 -1.5805383261295855e-22; … ; 0.0 0.0 … 0.0 0.0; 0.0 0.0 … 0.0 0.0], [0.0 0.0 … -1.1181309719901807e-24 -3.977143970862746e-23; 0.0 0.0 … -4.297929203793246e-25 -1.7227523421945042e-23; … ; 0.0 0.0 … 0.0 0.0; 0.0 0.0 … 0.0 0.0], [0.0 0.0 … -1.2988493543317355e-24 -4.5934814616603937e-23; 0.0 0.0 … -2.1909170801009277e-25 -7.88671344299805e-24; … ; 0.0 0.0 … 0.0 0.0; 0.0 0.0 … 0.0 0.0]], [808, 809, 810, 811, 812, 813, 814, 815, 816, 817  …  80798, 80799, 80800, 80801, 80802, 80803, 80804, 80805, 80806, 80807], 95)"
      ]
     },
     "metadata": {},
     "output_type": "display_data"
    }
   ],
   "source": [
    "S2 = FEM.solveStress(problem, u2)"
   ]
  },
  {
   "cell_type": "code",
   "execution_count": 135,
   "metadata": {},
   "outputs": [
    {
     "name": "stdout",
     "output_type": "stream",
     "text": [
      "Info    : Running Plugin(Smooth)...\n",
      "Info    : Done running Plugin(Smooth)\n"
     ]
    }
   ],
   "source": [
    "s2 = FEM.showStressResults(problem, S2, \"seqv\", name=\"σ(t)\", t=t2, visible=false, smooth=true)\n",
    "gmsh.option.setNumber(\"Mesh.SurfaceEdges\", 0)\n",
    "gmsh.option.setNumber(\"View[$s2].NormalRaise\", 100)\n",
    "#gmsh.option.setNumber(\"View[$s2].VectorType\", 5)\n",
    "gmsh.option.setNumber(\"View[$s2].IntervalsType\", 3)\n",
    "gmsh.option.setNumber(\"View[$s2].NbIso\", 20)"
   ]
  },
  {
   "cell_type": "code",
   "execution_count": 136,
   "metadata": {},
   "outputs": [],
   "source": [
    "#seqv = FEM.showStressResults(problem, S2, \"seqv\", name=\"σeqv(t)\", t=t2, visible=false, smooth=true)\n",
    "#gmsh.option.setNumber(\"Mesh.SurfaceEdges\", 0)\n",
    "#gmsh.option.setNumber(\"View[$seqv].NormalRaise\", 100)\n",
    "##gmsh.option.setNumber(\"View[$seqv].VectorType\", 5)\n",
    "#gmsh.option.setNumber(\"View[$seqv].IntervalsType\", 3)\n",
    "#gmsh.option.setNumber(\"View[$seqv].NbIso\", 20)"
   ]
  },
  {
   "cell_type": "code",
   "execution_count": 137,
   "metadata": {},
   "outputs": [
    {
     "data": {
      "text/plain": [
       "3"
      ]
     },
     "metadata": {},
     "output_type": "display_data"
    }
   ],
   "source": [
    "FEM.plotOnPath(problem, \"path\", step=1im, s2, 500)"
   ]
  },
  {
   "cell_type": "code",
   "execution_count": 138,
   "metadata": {},
   "outputs": [
    {
     "name": "stdout",
     "output_type": "stream",
     "text": [
      "-------------------------------------------------------\n",
      "Version       : 4.12.2\n",
      "License       : GNU General Public License\n",
      "Build OS      : Linux64-sdk\n",
      "Build date    : 19700101\n",
      "Build host    : amdci7.julia.csail.mit.edu\n",
      "Build options : 64Bit ALGLIB[contrib] ANN[contrib] Bamg Blossom Cairo DIntegration Dlopen DomHex Eigen[contrib] Fltk GMP Gmm[contrib] Hxt Jpeg Kbipack LinuxJoystick MathEx[contrib] Mesh Metis[contrib] Mmg Mpeg Netgen ONELAB ONELABMetamodel OpenCASCADE OpenCASCADE-CAF OpenGL OpenMP OptHom Parser Plugins Png Post QuadMeshingTools QuadTri Solver TetGen/BR Voro++[contrib] WinslowUntangler Zlib\n",
      "FLTK version  : 1.3.8\n",
      "OCC version   : 7.6.2\n",
      "Packaged by   : root\n",
      "Web site      : https://gmsh.info\n",
      "Issue tracker : https://gitlab.onelab.info/gmsh/gmsh/issues\n",
      "-------------------------------------------------------\n"
     ]
    },
    {
     "name": "stderr",
     "output_type": "stream",
     "text": [
      "XRequest.18: BadValue 0x0\n"
     ]
    }
   ],
   "source": [
    "gmsh.fltk.run()"
   ]
  },
  {
   "cell_type": "code",
   "execution_count": 139,
   "metadata": {},
   "outputs": [],
   "source": [
    "dataType, tags, data, time, numComponents = gmsh.view.getModelData(seqv, 0)"
   ]
  },
  {
   "cell_type": "code",
   "execution_count": null,
   "metadata": {},
   "outputs": [],
   "source": [
    "gmsh.finalize()"
   ]
  }
 ],
 "metadata": {
  "kernelspec": {
   "display_name": "Julia 1.10.2",
   "language": "julia",
   "name": "julia-1.10"
  },
  "language_info": {
   "file_extension": ".jl",
   "mimetype": "application/julia",
   "name": "julia",
   "version": "1.10.2"
  }
 },
 "nbformat": 4,
 "nbformat_minor": 2
}
