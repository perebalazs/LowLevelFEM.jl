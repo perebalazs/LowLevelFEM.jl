{
 "cells": [
  {
   "cell_type": "code",
   "execution_count": 1,
   "metadata": {},
   "outputs": [],
   "source": [
    "using Plots"
   ]
  },
  {
   "cell_type": "code",
   "execution_count": 2,
   "metadata": {},
   "outputs": [],
   "source": [
    "import LowLevelFEM as FEM\n",
    "using LowLevelFEM\n",
    "using SparseArrays\n",
    "\n",
    "gmsh.initialize()"
   ]
  },
  {
   "cell_type": "code",
   "execution_count": 3,
   "metadata": {},
   "outputs": [
    {
     "name": "stdout",
     "output_type": "stream",
     "text": [
      "Info    : Reading 'wave_in_rectangle_2.geo'...\n",
      "Info    : Meshing 1D...\n",
      "Info    : [  0%] Meshing curve 1 (Line)\n",
      "Info    : [ 20%] Meshing curve 2 (Line)\n",
      "Info    : [ 30%] Meshing curve 3 (Line)\n",
      "Info    : [ 50%] Meshing curve 4 (Line)\n",
      "Info    : [ 60%] Meshing curve 5 (Line)\n",
      "Info    : [ 80%] Meshing curve 6 (Line)\n",
      "Info    : [ 90%] Meshing curve 7 (Line)\n",
      "Info    : Done meshing 1D (Wall 0.0005953s, CPU 0.000566s)\n",
      "Info    : Meshing 2D...\n",
      "Info    : Meshing surface 1 (Transfinite)\n",
      "Info    : Done meshing 2D (Wall 0.00757612s, CPU 0.0056s)\n",
      "Info    : 40401 nodes 40807 elements\n",
      "Info    : Done reading 'wave_in_rectangle_2.geo'\n"
     ]
    }
   ],
   "source": [
    "#gmsh.open(\"wave_in_rectangle.geo\")\n",
    "gmsh.open(\"wave_in_rectangle_2.geo\")"
   ]
  },
  {
   "cell_type": "code",
   "execution_count": 4,
   "metadata": {},
   "outputs": [
    {
     "name": "stdout",
     "output_type": "stream",
     "text": [
      "Info    : RCMK renumbering...\n",
      "Info    : Done RCMK renumbering (bandwidth is now 401)\n"
     ]
    },
    {
     "data": {
      "text/plain": [
       "LowLevelFEM.Problem(\"wave_in_rectangle_2\", \"PlaneStress\", 2, [(\"body\", 200000.0, 0.3, 7.85e-9)], 1.0, 40401)"
      ]
     },
     "metadata": {},
     "output_type": "display_data"
    }
   ],
   "source": [
    "mat = FEM.material(\"body\", E=2.e5, ν=0.3, ρ=7.85e-9)\n",
    "problem = FEM.Problem([mat], type=\"PlaneStress\")"
   ]
  },
  {
   "cell_type": "code",
   "execution_count": 5,
   "metadata": {},
   "outputs": [],
   "source": [
    "supp1 = FEM.displacementConstraint(\"left\", ux=0)\n",
    "supp2 = FEM.displacementConstraint(\"middle\", uy=0)\n",
    "load = FEM.load(\"source\", fx=-1);"
   ]
  },
  {
   "cell_type": "code",
   "execution_count": 6,
   "metadata": {},
   "outputs": [],
   "source": [
    "dof = problem.non * problem.dim\n",
    "u0 = zeros(dof)\n",
    "v0 = zeros(dof);"
   ]
  },
  {
   "cell_type": "code",
   "execution_count": 7,
   "metadata": {},
   "outputs": [
    {
     "data": {
      "text/plain": [
       "80802"
      ]
     },
     "metadata": {},
     "output_type": "display_data"
    }
   ],
   "source": [
    "K = FEM.stiffnessMatrix(problem)\n",
    "M = FEM.massMatrix(problem)\n",
    "f = FEM.loadVector(problem, [load])\n",
    "C = spzeros(dof, dof)\n",
    "dof"
   ]
  },
  {
   "cell_type": "code",
   "execution_count": 8,
   "metadata": {},
   "outputs": [],
   "source": [
    "FEM.applyBoundaryConditions!(problem, K, M, C, f, [supp1, supp2]);"
   ]
  },
  {
   "cell_type": "code",
   "execution_count": 9,
   "metadata": {},
   "outputs": [
    {
     "data": {
      "text/plain": [
       "2.964524311460143e-7"
      ]
     },
     "metadata": {},
     "output_type": "display_data"
    }
   ],
   "source": [
    "Tₘᵢₙ = FEM.smallestPeriodTime(K, M)"
   ]
  },
  {
   "cell_type": "code",
   "execution_count": 10,
   "metadata": {},
   "outputs": [
    {
     "data": {
      "text/plain": [
       "([0.0 0.0 … 0.0 0.0; 0.0 0.0 … 0.0 0.0; … ; 0.0 0.0 … 0.0 0.0; 0.0 0.0 … 0.0 0.0], [0.0 0.0 … 0.0 0.0; 0.0 0.0 … 0.0 0.0; … ; 0.0 0.0 … 0.0 0.0; 0.0 0.0 … 0.0 0.0], [0.0, 9.436373961699586e-8, 1.8872747923399172e-7, 2.830912188509876e-7, 3.7745495846798345e-7, 4.718186980849793e-7, 5.661824377019752e-7])"
      ]
     },
     "metadata": {},
     "output_type": "display_data"
    }
   ],
   "source": [
    "u1, v1, t1 = FEM.CDM(K, M, C, f, u0, v0, 2Tₘᵢₙ, Tₘᵢₙ / π)"
   ]
  },
  {
   "cell_type": "code",
   "execution_count": 11,
   "metadata": {},
   "outputs": [
    {
     "data": {
      "text/plain": [
       "([0.0; 0.0; … ; 0.0; 0.0;;], [0.0; 0.0; … ; 0.0; 0.0;;], [0.0])"
      ]
     },
     "metadata": {},
     "output_type": "display_data"
    }
   ],
   "source": [
    "sts = length(t1)\n",
    "u0 = u1[:, sts]\n",
    "v0 = v1[:, sts]\n",
    "\n",
    "f .*= 0\n",
    "u2, v2, t2 = FEM.CDM(K, M, C, f, u0, v0, Tₘᵢₙ, 5Tₘᵢₙ / π)"
   ]
  },
  {
   "cell_type": "code",
   "execution_count": 12,
   "metadata": {},
   "outputs": [],
   "source": [
    "gmsh.option.setNumber(\"General.Trackball\", 0)\n",
    "gmsh.option.setNumber(\"General.RotationX\", 298)\n",
    "gmsh.option.setNumber(\"General.RotationY\", 346)\n",
    "gmsh.option.setNumber(\"General.RotationZ\", 332)"
   ]
  },
  {
   "cell_type": "code",
   "execution_count": 13,
   "metadata": {},
   "outputs": [
    {
     "name": "stderr",
     "output_type": "stream",
     "text": [
      "Warning : View[1] does not exist\n",
      "Warning : View[1] does not exist\n",
      "Warning : View[1] does not exist\n",
      "Warning : View[1] does not exist\n"
     ]
    }
   ],
   "source": [
    "vvec1 = FEM.showDoFResults(problem, v1, t=t1, \"vvec\", name=\"v1(t)\", visible=false)\n",
    "gmsh.option.setNumber(\"Mesh.SurfaceEdges\", 0)\n",
    "gmsh.option.setNumber(\"View[$vvec1].NormalRaise\", 5)\n",
    "gmsh.option.setNumber(\"View[$vvec1].VectorType\", 5)\n",
    "gmsh.option.setNumber(\"View[$vvec1].IntervalsType\", 3)\n",
    "gmsh.option.setNumber(\"View[$vvec1].NbIso\", 20)"
   ]
  },
  {
   "cell_type": "code",
   "execution_count": 14,
   "metadata": {},
   "outputs": [
    {
     "name": "stderr",
     "output_type": "stream",
     "text": [
      "Warning : View[2] does not exist\n",
      "Warning : View[2] does not exist\n",
      "Warning : View[2] does not exist\n",
      "Warning : View[2] does not exist\n"
     ]
    }
   ],
   "source": [
    "vvec2 = FEM.showDoFResults(problem, v2, t=t2, \"vvec\", name=\"v2(t)\", visible=true)\n",
    "gmsh.option.setNumber(\"Mesh.SurfaceEdges\", 0)\n",
    "gmsh.option.setNumber(\"View[$vvec2].NormalRaise\", 5)\n",
    "gmsh.option.setNumber(\"View[$vvec2].VectorType\", 5)\n",
    "gmsh.option.setNumber(\"View[$vvec2].IntervalsType\", 3)\n",
    "gmsh.option.setNumber(\"View[$vvec2].NbIso\", 20)"
   ]
  },
  {
   "cell_type": "code",
   "execution_count": 15,
   "metadata": {},
   "outputs": [
    {
     "data": {
      "text/plain": [
       "LowLevelFEM.StressField([[0.0; 0.0; … ; 0.0; 0.0;;], [0.0; 0.0; … ; 0.0; 0.0;;], [0.0; 0.0; … ; 0.0; 0.0;;], [0.0; 0.0; … ; 0.0; 0.0;;], [0.0; 0.0; … ; 0.0; 0.0;;], [0.0; 0.0; … ; 0.0; 0.0;;], [0.0; 0.0; … ; 0.0; 0.0;;], [0.0; 0.0; … ; 0.0; 0.0;;], [0.0; 0.0; … ; 0.0; 0.0;;], [0.0; 0.0; … ; 0.0; 0.0;;]  …  [0.0; 0.0; … ; 0.0; 0.0;;], [0.0; 0.0; … ; 0.0; 0.0;;], [0.0; 0.0; … ; 0.0; 0.0;;], [0.0; 0.0; … ; 0.0; 0.0;;], [0.0; 0.0; … ; 0.0; 0.0;;], [0.0; 0.0; … ; 0.0; 0.0;;], [0.0; 0.0; … ; 0.0; 0.0;;], [0.0; 0.0; … ; 0.0; 0.0;;], [0.0; 0.0; … ; 0.0; 0.0;;], [0.0; 0.0; … ; 0.0; 0.0;;]], [808, 809, 810, 811, 812, 813, 814, 815, 816, 817  …  40798, 40799, 40800, 40801, 40802, 40803, 40804, 40805, 40806, 40807], 1)"
      ]
     },
     "metadata": {},
     "output_type": "display_data"
    }
   ],
   "source": [
    "S2 = FEM.solveStress(problem, u2)"
   ]
  },
  {
   "cell_type": "code",
   "execution_count": 16,
   "metadata": {},
   "outputs": [
    {
     "name": "stdout",
     "output_type": "stream",
     "text": [
      "Info    : Running Plugin(Smooth)...\n",
      "Info    : Done running Plugin(Smooth)\n"
     ]
    },
    {
     "name": "stderr",
     "output_type": "stream",
     "text": [
      "Warning : View[3] does not exist\n",
      "Warning : View[3] does not exist\n",
      "Warning : View[3] does not exist\n"
     ]
    }
   ],
   "source": [
    "s2 = FEM.showStressResults(problem, S2, \"seqv\", name=\"σ(t)\", t=t2, visible=false, smooth=true)\n",
    "gmsh.option.setNumber(\"Mesh.SurfaceEdges\", 0)\n",
    "gmsh.option.setNumber(\"View[$s2].NormalRaise\", 100)\n",
    "#gmsh.option.setNumber(\"View[$s2].VectorType\", 5)\n",
    "gmsh.option.setNumber(\"View[$s2].IntervalsType\", 3)\n",
    "gmsh.option.setNumber(\"View[$s2].NbIso\", 20)"
   ]
  },
  {
   "cell_type": "code",
   "execution_count": 17,
   "metadata": {},
   "outputs": [],
   "source": [
    "#seqv = FEM.showStressResults(problem, S2, \"seqv\", name=\"σeqv(t)\", t=t2, visible=false, smooth=true)\n",
    "#gmsh.option.setNumber(\"Mesh.SurfaceEdges\", 0)\n",
    "#gmsh.option.setNumber(\"View[$seqv].NormalRaise\", 100)\n",
    "##gmsh.option.setNumber(\"View[$seqv].VectorType\", 5)\n",
    "#gmsh.option.setNumber(\"View[$seqv].IntervalsType\", 3)\n",
    "#gmsh.option.setNumber(\"View[$seqv].NbIso\", 20)"
   ]
  },
  {
   "cell_type": "code",
   "execution_count": 18,
   "metadata": {},
   "outputs": [
    {
     "name": "stderr",
     "output_type": "stream",
     "text": [
      "┌ Warning: plotOnPath: step is greater than max. number of steps (max. number is chosen)  100 <==> 1!\n",
      "└ @ LowLevelFEM /home/perebal/Dokumentumok/GitHub/LowLevelFEM.jl/src/LowLevelFEM.jl:1308\n"
     ]
    },
    {
     "data": {
      "text/plain": [
       "(4, [0.0, 0.20040080160320642, 0.40080160320641284, 0.6012024048096193, 0.8016032064128257, 1.0020040080160322, 1.2024048096192386, 1.402805611222445, 1.6032064128256514, 1.8036072144288577  …  98.19639278557115, 98.39679358717436, 98.59719438877755, 98.79759519038076, 98.99799599198397, 99.19839679358718, 99.39879759519039, 99.5991983967936, 99.79959919839679, 100.0], [0.0, 0.0, 0.0, 0.0, 0.0, 0.0, 0.0, 0.0, 0.0, 0.0  …  0.7991015358532716, 0.896191639600991, 0.9880265892127791, 1.0742813236080766, 1.1605360580033743, 1.1083376756533554, 1.0547407769725772, 1.048094705875738, 1.0893479639301789, 1.1306012219846229])"
      ]
     },
     "metadata": {},
     "output_type": "display_data"
    }
   ],
   "source": [
    "ph, x, y = FEM.plotOnPath(problem, \"path\", s2, 500, step=100, plot=true)\n",
    "#ph = FEM.plotOnPath(problem, \"path\", s2, 500, step=1, plot=false)"
   ]
  },
  {
   "cell_type": "code",
   "execution_count": 19,
   "metadata": {},
   "outputs": [
    {
     "data": {
      "image/png": "[encoded data removed]",
      "image/svg+xml": [
       "<?xml version=\"1.0\" encoding=\"utf-8\"?>\n",
       "<svg xmlns=\"http://www.w3.org/2000/svg\" xmlns:xlink=\"http://www.w3.org/1999/xlink\" width=\"600\" height=\"400\" viewBox=\"0 0 2400 1600\">\n",
       "<defs>\n",
       "  <clipPath id=\"clip010\">\n",
       "    <rect x=\"0\" y=\"0\" width=\"2400\" height=\"1600\"/>\n",
       "  </clipPath>\n",
       "</defs>\n",
       "<path clip-path=\"url(#clip010)\" d=\"M0 1600 L2400 1600 L2400 0 L0 0  Z\" fill=\"#ffffff\" fill-rule=\"evenodd\" fill-opacity=\"1\"/>\n",
       "<defs>\n",
       "  <clipPath id=\"clip011\">\n",
       "    <rect x=\"480\" y=\"0\" width=\"1681\" height=\"1600\"/>\n",
       "  </clipPath>\n",
       "</defs>\n",
       "<path clip-path=\"url(#clip010)\" d=\"M186.274 1486.45 L2352.76 1486.45 L2352.76 47.2441 L186.274 47.2441  Z\" fill=\"#ffffff\" fill-rule=\"evenodd\" fill-opacity=\"1\"/>\n",
       "<defs>\n",
       "  <clipPath id=\"clip012\">\n",
       "    <rect x=\"186\" y=\"47\" width=\"2167\" height=\"1440\"/>\n",
       "  </clipPath>\n",
       "</defs>\n",
       "<polyline clip-path=\"url(#clip012)\" style=\"stroke:#000000; stroke-linecap:round; stroke-linejoin:round; stroke-width:2; stroke-opacity:0.1; fill:none\" points=\"247.59,1486.45 247.59,47.2441 \"/>\n",
       "<polyline clip-path=\"url(#clip012)\" style=\"stroke:#000000; stroke-linecap:round; stroke-linejoin:round; stroke-width:2; stroke-opacity:0.1; fill:none\" points=\"758.552,1486.45 758.552,47.2441 \"/>\n",
       "<polyline clip-path=\"url(#clip012)\" style=\"stroke:#000000; stroke-linecap:round; stroke-linejoin:round; stroke-width:2; stroke-opacity:0.1; fill:none\" points=\"1269.51,1486.45 1269.51,47.2441 \"/>\n",
       "<polyline clip-path=\"url(#clip012)\" style=\"stroke:#000000; stroke-linecap:round; stroke-linejoin:round; stroke-width:2; stroke-opacity:0.1; fill:none\" points=\"1780.48,1486.45 1780.48,47.2441 \"/>\n",
       "<polyline clip-path=\"url(#clip012)\" style=\"stroke:#000000; stroke-linecap:round; stroke-linejoin:round; stroke-width:2; stroke-opacity:0.1; fill:none\" points=\"2291.44,1486.45 2291.44,47.2441 \"/>\n",
       "<polyline clip-path=\"url(#clip010)\" style=\"stroke:#000000; stroke-linecap:round; stroke-linejoin:round; stroke-width:4; stroke-opacity:1; fill:none\" points=\"186.274,1486.45 2352.76,1486.45 \"/>\n",
       "<polyline clip-path=\"url(#clip010)\" style=\"stroke:#000000; stroke-linecap:round; stroke-linejoin:round; stroke-width:4; stroke-opacity:1; fill:none\" points=\"247.59,1486.45 247.59,1467.55 \"/>\n",
       "<polyline clip-path=\"url(#clip010)\" style=\"stroke:#000000; stroke-linecap:round; stroke-linejoin:round; stroke-width:4; stroke-opacity:1; fill:none\" points=\"758.552,1486.45 758.552,1467.55 \"/>\n",
       "<polyline clip-path=\"url(#clip010)\" style=\"stroke:#000000; stroke-linecap:round; stroke-linejoin:round; stroke-width:4; stroke-opacity:1; fill:none\" points=\"1269.51,1486.45 1269.51,1467.55 \"/>\n",
       "<polyline clip-path=\"url(#clip010)\" style=\"stroke:#000000; stroke-linecap:round; stroke-linejoin:round; stroke-width:4; stroke-opacity:1; fill:none\" points=\"1780.48,1486.45 1780.48,1467.55 \"/>\n",
       "<polyline clip-path=\"url(#clip010)\" style=\"stroke:#000000; stroke-linecap:round; stroke-linejoin:round; stroke-width:4; stroke-opacity:1; fill:none\" points=\"2291.44,1486.45 2291.44,1467.55 \"/>\n",
       "<path clip-path=\"url(#clip010)\" d=\"M247.59 1517.37 Q243.978 1517.37 242.15 1520.93 Q240.344 1524.47 240.344 1531.6 Q240.344 1538.71 242.15 1542.27 Q243.978 1545.82 247.59 1545.82 Q251.224 1545.82 253.029 1542.27 Q254.858 1538.71 254.858 1531.6 Q254.858 1524.47 253.029 1520.93 Q251.224 1517.37 247.59 1517.37 M247.59 1513.66 Q253.4 1513.66 256.455 1518.27 Q259.534 1522.85 259.534 1531.6 Q259.534 1540.33 256.455 1544.94 Q253.4 1549.52 247.59 1549.52 Q241.779 1549.52 238.701 1544.94 Q235.645 1540.33 235.645 1531.6 Q235.645 1522.85 238.701 1518.27 Q241.779 1513.66 247.59 1513.66 Z\" fill=\"#000000\" fill-rule=\"nonzero\" fill-opacity=\"1\" /><path clip-path=\"url(#clip010)\" d=\"M737.823 1544.91 L754.143 1544.91 L754.143 1548.85 L732.198 1548.85 L732.198 1544.91 Q734.86 1542.16 739.444 1537.53 Q744.05 1532.88 745.231 1531.53 Q747.476 1529.01 748.356 1527.27 Q749.258 1525.51 749.258 1523.82 Q749.258 1521.07 747.314 1519.33 Q745.393 1517.6 742.291 1517.6 Q740.092 1517.6 737.638 1518.36 Q735.207 1519.13 732.43 1520.68 L732.43 1515.95 Q735.254 1514.82 737.707 1514.24 Q740.161 1513.66 742.198 1513.66 Q747.569 1513.66 750.763 1516.35 Q753.957 1519.03 753.957 1523.52 Q753.957 1525.65 753.147 1527.57 Q752.36 1529.47 750.254 1532.07 Q749.675 1532.74 746.573 1535.95 Q743.471 1539.15 737.823 1544.91 Z\" fill=\"#000000\" fill-rule=\"nonzero\" fill-opacity=\"1\" /><path clip-path=\"url(#clip010)\" d=\"M764.004 1514.29 L782.36 1514.29 L782.36 1518.22 L768.286 1518.22 L768.286 1526.7 Q769.304 1526.35 770.323 1526.19 Q771.342 1526 772.36 1526 Q778.147 1526 781.527 1529.17 Q784.906 1532.34 784.906 1537.76 Q784.906 1543.34 781.434 1546.44 Q777.962 1549.52 771.642 1549.52 Q769.467 1549.52 767.198 1549.15 Q764.953 1548.78 762.545 1548.04 L762.545 1543.34 Q764.629 1544.47 766.851 1545.03 Q769.073 1545.58 771.55 1545.58 Q775.554 1545.58 777.892 1543.48 Q780.23 1541.37 780.23 1537.76 Q780.23 1534.15 777.892 1532.04 Q775.554 1529.94 771.55 1529.94 Q769.675 1529.94 767.8 1530.35 Q765.948 1530.77 764.004 1531.65 L764.004 1514.29 Z\" fill=\"#000000\" fill-rule=\"nonzero\" fill-opacity=\"1\" /><path clip-path=\"url(#clip010)\" d=\"M1244.21 1514.29 L1262.57 1514.29 L1262.57 1518.22 L1248.5 1518.22 L1248.5 1526.7 Q1249.52 1526.35 1250.53 1526.19 Q1251.55 1526 1252.57 1526 Q1258.36 1526 1261.74 1529.17 Q1265.12 1532.34 1265.12 1537.76 Q1265.12 1543.34 1261.64 1546.44 Q1258.17 1549.52 1251.85 1549.52 Q1249.68 1549.52 1247.41 1549.15 Q1245.16 1548.78 1242.76 1548.04 L1242.76 1543.34 Q1244.84 1544.47 1247.06 1545.03 Q1249.28 1545.58 1251.76 1545.58 Q1255.77 1545.58 1258.1 1543.48 Q1260.44 1541.37 1260.44 1537.76 Q1260.44 1534.15 1258.1 1532.04 Q1255.77 1529.94 1251.76 1529.94 Q1249.89 1529.94 1248.01 1530.35 Q1246.16 1530.77 1244.21 1531.65 L1244.21 1514.29 Z\" fill=\"#000000\" fill-rule=\"nonzero\" fill-opacity=\"1\" /><path clip-path=\"url(#clip010)\" d=\"M1284.33 1517.37 Q1280.72 1517.37 1278.89 1520.93 Q1277.08 1524.47 1277.08 1531.6 Q1277.08 1538.71 1278.89 1542.27 Q1280.72 1545.82 1284.33 1545.82 Q1287.96 1545.82 1289.77 1542.27 Q1291.6 1538.71 1291.6 1531.6 Q1291.6 1524.47 1289.77 1520.93 Q1287.96 1517.37 1284.33 1517.37 M1284.33 1513.66 Q1290.14 1513.66 1293.2 1518.27 Q1296.27 1522.85 1296.27 1531.6 Q1296.27 1540.33 1293.2 1544.94 Q1290.14 1549.52 1284.33 1549.52 Q1278.52 1549.52 1275.44 1544.94 Q1272.39 1540.33 1272.39 1531.6 Q1272.39 1522.85 1275.44 1518.27 Q1278.52 1513.66 1284.33 1513.66 Z\" fill=\"#000000\" fill-rule=\"nonzero\" fill-opacity=\"1\" /><path clip-path=\"url(#clip010)\" d=\"M1754.33 1514.29 L1776.55 1514.29 L1776.55 1516.28 L1764.01 1548.85 L1759.12 1548.85 L1770.93 1518.22 L1754.33 1518.22 L1754.33 1514.29 Z\" fill=\"#000000\" fill-rule=\"nonzero\" fill-opacity=\"1\" /><path clip-path=\"url(#clip010)\" d=\"M1785.72 1514.29 L1804.08 1514.29 L1804.08 1518.22 L1790 1518.22 L1790 1526.7 Q1791.02 1526.35 1792.04 1526.19 Q1793.06 1526 1794.08 1526 Q1799.86 1526 1803.24 1529.17 Q1806.62 1532.34 1806.62 1537.76 Q1806.62 1543.34 1803.15 1546.44 Q1799.68 1549.52 1793.36 1549.52 Q1791.18 1549.52 1788.92 1549.15 Q1786.67 1548.78 1784.26 1548.04 L1784.26 1543.34 Q1786.35 1544.47 1788.57 1545.03 Q1790.79 1545.58 1793.27 1545.58 Q1797.27 1545.58 1799.61 1543.48 Q1801.95 1541.37 1801.95 1537.76 Q1801.95 1534.15 1799.61 1532.04 Q1797.27 1529.94 1793.27 1529.94 Q1791.39 1529.94 1789.52 1530.35 Q1787.67 1530.77 1785.72 1531.65 L1785.72 1514.29 Z\" fill=\"#000000\" fill-rule=\"nonzero\" fill-opacity=\"1\" /><path clip-path=\"url(#clip010)\" d=\"M2251.05 1544.91 L2258.69 1544.91 L2258.69 1518.55 L2250.38 1520.21 L2250.38 1515.95 L2258.64 1514.29 L2263.32 1514.29 L2263.32 1544.91 L2270.95 1544.91 L2270.95 1548.85 L2251.05 1548.85 L2251.05 1544.91 Z\" fill=\"#000000\" fill-rule=\"nonzero\" fill-opacity=\"1\" /><path clip-path=\"url(#clip010)\" d=\"M2290.4 1517.37 Q2286.79 1517.37 2284.96 1520.93 Q2283.15 1524.47 2283.15 1531.6 Q2283.15 1538.71 2284.96 1542.27 Q2286.79 1545.82 2290.4 1545.82 Q2294.03 1545.82 2295.84 1542.27 Q2297.67 1538.71 2297.67 1531.6 Q2297.67 1524.47 2295.84 1520.93 Q2294.03 1517.37 2290.4 1517.37 M2290.4 1513.66 Q2296.21 1513.66 2299.26 1518.27 Q2302.34 1522.85 2302.34 1531.6 Q2302.34 1540.33 2299.26 1544.94 Q2296.21 1549.52 2290.4 1549.52 Q2284.59 1549.52 2281.51 1544.94 Q2278.45 1540.33 2278.45 1531.6 Q2278.45 1522.85 2281.51 1518.27 Q2284.59 1513.66 2290.4 1513.66 Z\" fill=\"#000000\" fill-rule=\"nonzero\" fill-opacity=\"1\" /><path clip-path=\"url(#clip010)\" d=\"M2320.56 1517.37 Q2316.95 1517.37 2315.12 1520.93 Q2313.32 1524.47 2313.32 1531.6 Q2313.32 1538.71 2315.12 1542.27 Q2316.95 1545.82 2320.56 1545.82 Q2324.19 1545.82 2326 1542.27 Q2327.83 1538.71 2327.83 1531.6 Q2327.83 1524.47 2326 1520.93 Q2324.19 1517.37 2320.56 1517.37 M2320.56 1513.66 Q2326.37 1513.66 2329.43 1518.27 Q2332.5 1522.85 2332.5 1531.6 Q2332.5 1540.33 2329.43 1544.94 Q2326.37 1549.52 2320.56 1549.52 Q2314.75 1549.52 2311.67 1544.94 Q2308.62 1540.33 2308.62 1531.6 Q2308.62 1522.85 2311.67 1518.27 Q2314.75 1513.66 2320.56 1513.66 Z\" fill=\"#000000\" fill-rule=\"nonzero\" fill-opacity=\"1\" /><polyline clip-path=\"url(#clip012)\" style=\"stroke:#000000; stroke-linecap:round; stroke-linejoin:round; stroke-width:2; stroke-opacity:0.1; fill:none\" points=\"186.274,1445.72 2352.76,1445.72 \"/>\n",
       "<polyline clip-path=\"url(#clip012)\" style=\"stroke:#000000; stroke-linecap:round; stroke-linejoin:round; stroke-width:2; stroke-opacity:0.1; fill:none\" points=\"186.274,1153.23 2352.76,1153.23 \"/>\n",
       "<polyline clip-path=\"url(#clip012)\" style=\"stroke:#000000; stroke-linecap:round; stroke-linejoin:round; stroke-width:2; stroke-opacity:0.1; fill:none\" points=\"186.274,860.754 2352.76,860.754 \"/>\n",
       "<polyline clip-path=\"url(#clip012)\" style=\"stroke:#000000; stroke-linecap:round; stroke-linejoin:round; stroke-width:2; stroke-opacity:0.1; fill:none\" points=\"186.274,568.272 2352.76,568.272 \"/>\n",
       "<polyline clip-path=\"url(#clip012)\" style=\"stroke:#000000; stroke-linecap:round; stroke-linejoin:round; stroke-width:2; stroke-opacity:0.1; fill:none\" points=\"186.274,275.791 2352.76,275.791 \"/>\n",
       "<polyline clip-path=\"url(#clip010)\" style=\"stroke:#000000; stroke-linecap:round; stroke-linejoin:round; stroke-width:4; stroke-opacity:1; fill:none\" points=\"186.274,1486.45 186.274,47.2441 \"/>\n",
       "<polyline clip-path=\"url(#clip010)\" style=\"stroke:#000000; stroke-linecap:round; stroke-linejoin:round; stroke-width:4; stroke-opacity:1; fill:none\" points=\"186.274,1445.72 205.172,1445.72 \"/>\n",
       "<polyline clip-path=\"url(#clip010)\" style=\"stroke:#000000; stroke-linecap:round; stroke-linejoin:round; stroke-width:4; stroke-opacity:1; fill:none\" points=\"186.274,1153.23 205.172,1153.23 \"/>\n",
       "<polyline clip-path=\"url(#clip010)\" style=\"stroke:#000000; stroke-linecap:round; stroke-linejoin:round; stroke-width:4; stroke-opacity:1; fill:none\" points=\"186.274,860.754 205.172,860.754 \"/>\n",
       "<polyline clip-path=\"url(#clip010)\" style=\"stroke:#000000; stroke-linecap:round; stroke-linejoin:round; stroke-width:4; stroke-opacity:1; fill:none\" points=\"186.274,568.272 205.172,568.272 \"/>\n",
       "<polyline clip-path=\"url(#clip010)\" style=\"stroke:#000000; stroke-linecap:round; stroke-linejoin:round; stroke-width:4; stroke-opacity:1; fill:none\" points=\"186.274,275.791 205.172,275.791 \"/>\n",
       "<path clip-path=\"url(#clip010)\" d=\"M62.9365 1431.51 Q59.3254 1431.51 57.4967 1435.08 Q55.6912 1438.62 55.6912 1445.75 Q55.6912 1452.86 57.4967 1456.42 Q59.3254 1459.96 62.9365 1459.96 Q66.5707 1459.96 68.3763 1456.42 Q70.205 1452.86 70.205 1445.75 Q70.205 1438.62 68.3763 1435.08 Q66.5707 1431.51 62.9365 1431.51 M62.9365 1427.81 Q68.7467 1427.81 71.8022 1432.42 Q74.8809 1437 74.8809 1445.75 Q74.8809 1454.48 71.8022 1459.08 Q68.7467 1463.67 62.9365 1463.67 Q57.1264 1463.67 54.0477 1459.08 Q50.9921 1454.48 50.9921 1445.75 Q50.9921 1437 54.0477 1432.42 Q57.1264 1427.81 62.9365 1427.81 Z\" fill=\"#000000\" fill-rule=\"nonzero\" fill-opacity=\"1\" /><path clip-path=\"url(#clip010)\" d=\"M83.0984 1457.12 L87.9827 1457.12 L87.9827 1463 L83.0984 1463 L83.0984 1457.12 Z\" fill=\"#000000\" fill-rule=\"nonzero\" fill-opacity=\"1\" /><path clip-path=\"url(#clip010)\" d=\"M108.168 1431.51 Q104.557 1431.51 102.728 1435.08 Q100.922 1438.62 100.922 1445.75 Q100.922 1452.86 102.728 1456.42 Q104.557 1459.96 108.168 1459.96 Q111.802 1459.96 113.608 1456.42 Q115.436 1452.86 115.436 1445.75 Q115.436 1438.62 113.608 1435.08 Q111.802 1431.51 108.168 1431.51 M108.168 1427.81 Q113.978 1427.81 117.033 1432.42 Q120.112 1437 120.112 1445.75 Q120.112 1454.48 117.033 1459.08 Q113.978 1463.67 108.168 1463.67 Q102.358 1463.67 99.2789 1459.08 Q96.2234 1454.48 96.2234 1445.75 Q96.2234 1437 99.2789 1432.42 Q102.358 1427.81 108.168 1427.81 Z\" fill=\"#000000\" fill-rule=\"nonzero\" fill-opacity=\"1\" /><path clip-path=\"url(#clip010)\" d=\"M138.33 1431.51 Q134.719 1431.51 132.89 1435.08 Q131.084 1438.62 131.084 1445.75 Q131.084 1452.86 132.89 1456.42 Q134.719 1459.96 138.33 1459.96 Q141.964 1459.96 143.769 1456.42 Q145.598 1452.86 145.598 1445.75 Q145.598 1438.62 143.769 1435.08 Q141.964 1431.51 138.33 1431.51 M138.33 1427.81 Q144.14 1427.81 147.195 1432.42 Q150.274 1437 150.274 1445.75 Q150.274 1454.48 147.195 1459.08 Q144.14 1463.67 138.33 1463.67 Q132.519 1463.67 129.441 1459.08 Q126.385 1454.48 126.385 1445.75 Q126.385 1437 129.441 1432.42 Q132.519 1427.81 138.33 1427.81 Z\" fill=\"#000000\" fill-rule=\"nonzero\" fill-opacity=\"1\" /><path clip-path=\"url(#clip010)\" d=\"M63.9319 1139.03 Q60.3208 1139.03 58.4921 1142.6 Q56.6865 1146.14 56.6865 1153.27 Q56.6865 1160.38 58.4921 1163.94 Q60.3208 1167.48 63.9319 1167.48 Q67.5661 1167.48 69.3717 1163.94 Q71.2004 1160.38 71.2004 1153.27 Q71.2004 1146.14 69.3717 1142.6 Q67.5661 1139.03 63.9319 1139.03 M63.9319 1135.33 Q69.742 1135.33 72.7976 1139.94 Q75.8763 1144.52 75.8763 1153.27 Q75.8763 1162 72.7976 1166.6 Q69.742 1171.19 63.9319 1171.19 Q58.1217 1171.19 55.043 1166.6 Q51.9875 1162 51.9875 1153.27 Q51.9875 1144.52 55.043 1139.94 Q58.1217 1135.33 63.9319 1135.33 Z\" fill=\"#000000\" fill-rule=\"nonzero\" fill-opacity=\"1\" /><path clip-path=\"url(#clip010)\" d=\"M84.0938 1164.64 L88.978 1164.64 L88.978 1170.51 L84.0938 1170.51 L84.0938 1164.64 Z\" fill=\"#000000\" fill-rule=\"nonzero\" fill-opacity=\"1\" /><path clip-path=\"url(#clip010)\" d=\"M103.191 1166.58 L119.51 1166.58 L119.51 1170.51 L97.566 1170.51 L97.566 1166.58 Q100.228 1163.82 104.811 1159.2 Q109.418 1154.54 110.598 1153.2 Q112.844 1150.68 113.723 1148.94 Q114.626 1147.18 114.626 1145.49 Q114.626 1142.74 112.682 1141 Q110.76 1139.26 107.658 1139.26 Q105.459 1139.26 103.006 1140.03 Q100.575 1140.79 97.7974 1142.34 L97.7974 1137.62 Q100.621 1136.49 103.075 1135.91 Q105.529 1135.33 107.566 1135.33 Q112.936 1135.33 116.131 1138.01 Q119.325 1140.7 119.325 1145.19 Q119.325 1147.32 118.515 1149.24 Q117.728 1151.14 115.621 1153.73 Q115.043 1154.4 111.941 1157.62 Q108.839 1160.82 103.191 1166.58 Z\" fill=\"#000000\" fill-rule=\"nonzero\" fill-opacity=\"1\" /><path clip-path=\"url(#clip010)\" d=\"M129.371 1135.95 L147.728 1135.95 L147.728 1139.89 L133.654 1139.89 L133.654 1148.36 Q134.672 1148.01 135.691 1147.85 Q136.709 1147.67 137.728 1147.67 Q143.515 1147.67 146.894 1150.84 Q150.274 1154.01 150.274 1159.43 Q150.274 1165.01 146.802 1168.11 Q143.33 1171.19 137.01 1171.19 Q134.834 1171.19 132.566 1170.82 Q130.32 1170.45 127.913 1169.7 L127.913 1165.01 Q129.996 1166.14 132.219 1166.7 Q134.441 1167.25 136.918 1167.25 Q140.922 1167.25 143.26 1165.14 Q145.598 1163.04 145.598 1159.43 Q145.598 1155.82 143.26 1153.71 Q140.922 1151.6 136.918 1151.6 Q135.043 1151.6 133.168 1152.02 Q131.316 1152.44 129.371 1153.32 L129.371 1135.95 Z\" fill=\"#000000\" fill-rule=\"nonzero\" fill-opacity=\"1\" /><path clip-path=\"url(#clip010)\" d=\"M62.9365 846.552 Q59.3254 846.552 57.4967 850.117 Q55.6912 853.659 55.6912 860.788 Q55.6912 867.895 57.4967 871.459 Q59.3254 875.001 62.9365 875.001 Q66.5707 875.001 68.3763 871.459 Q70.205 867.895 70.205 860.788 Q70.205 853.659 68.3763 850.117 Q66.5707 846.552 62.9365 846.552 M62.9365 842.849 Q68.7467 842.849 71.8022 847.455 Q74.8809 852.038 74.8809 860.788 Q74.8809 869.515 71.8022 874.121 Q68.7467 878.705 62.9365 878.705 Q57.1264 878.705 54.0477 874.121 Q50.9921 869.515 50.9921 860.788 Q50.9921 852.038 54.0477 847.455 Q57.1264 842.849 62.9365 842.849 Z\" fill=\"#000000\" fill-rule=\"nonzero\" fill-opacity=\"1\" /><path clip-path=\"url(#clip010)\" d=\"M83.0984 872.154 L87.9827 872.154 L87.9827 878.034 L83.0984 878.034 L83.0984 872.154 Z\" fill=\"#000000\" fill-rule=\"nonzero\" fill-opacity=\"1\" /><path clip-path=\"url(#clip010)\" d=\"M98.2141 843.474 L116.57 843.474 L116.57 847.409 L102.496 847.409 L102.496 855.881 Q103.515 855.534 104.534 855.372 Q105.552 855.186 106.571 855.186 Q112.358 855.186 115.737 858.358 Q119.117 861.529 119.117 866.946 Q119.117 872.524 115.645 875.626 Q112.172 878.705 105.853 878.705 Q103.677 878.705 101.409 878.334 Q99.1632 877.964 96.7558 877.223 L96.7558 872.524 Q98.8391 873.659 101.061 874.214 Q103.284 874.77 105.76 874.77 Q109.765 874.77 112.103 872.663 Q114.441 870.557 114.441 866.946 Q114.441 863.335 112.103 861.228 Q109.765 859.122 105.76 859.122 Q103.885 859.122 102.01 859.538 Q100.159 859.955 98.2141 860.835 L98.2141 843.474 Z\" fill=\"#000000\" fill-rule=\"nonzero\" fill-opacity=\"1\" /><path clip-path=\"url(#clip010)\" d=\"M138.33 846.552 Q134.719 846.552 132.89 850.117 Q131.084 853.659 131.084 860.788 Q131.084 867.895 132.89 871.459 Q134.719 875.001 138.33 875.001 Q141.964 875.001 143.769 871.459 Q145.598 867.895 145.598 860.788 Q145.598 853.659 143.769 850.117 Q141.964 846.552 138.33 846.552 M138.33 842.849 Q144.14 842.849 147.195 847.455 Q150.274 852.038 150.274 860.788 Q150.274 869.515 147.195 874.121 Q144.14 878.705 138.33 878.705 Q132.519 878.705 129.441 874.121 Q126.385 869.515 126.385 860.788 Q126.385 852.038 129.441 847.455 Q132.519 842.849 138.33 842.849 Z\" fill=\"#000000\" fill-rule=\"nonzero\" fill-opacity=\"1\" /><path clip-path=\"url(#clip010)\" d=\"M63.9319 554.071 Q60.3208 554.071 58.4921 557.636 Q56.6865 561.178 56.6865 568.307 Q56.6865 575.414 58.4921 578.978 Q60.3208 582.52 63.9319 582.52 Q67.5661 582.52 69.3717 578.978 Q71.2004 575.414 71.2004 568.307 Q71.2004 561.178 69.3717 557.636 Q67.5661 554.071 63.9319 554.071 M63.9319 550.367 Q69.742 550.367 72.7976 554.974 Q75.8763 559.557 75.8763 568.307 Q75.8763 577.034 72.7976 581.64 Q69.742 586.224 63.9319 586.224 Q58.1217 586.224 55.043 581.64 Q51.9875 577.034 51.9875 568.307 Q51.9875 559.557 55.043 554.974 Q58.1217 550.367 63.9319 550.367 Z\" fill=\"#000000\" fill-rule=\"nonzero\" fill-opacity=\"1\" /><path clip-path=\"url(#clip010)\" d=\"M84.0938 579.673 L88.978 579.673 L88.978 585.552 L84.0938 585.552 L84.0938 579.673 Z\" fill=\"#000000\" fill-rule=\"nonzero\" fill-opacity=\"1\" /><path clip-path=\"url(#clip010)\" d=\"M97.9826 550.992 L120.205 550.992 L120.205 552.983 L107.658 585.552 L102.774 585.552 L114.58 554.928 L97.9826 554.928 L97.9826 550.992 Z\" fill=\"#000000\" fill-rule=\"nonzero\" fill-opacity=\"1\" /><path clip-path=\"url(#clip010)\" d=\"M129.371 550.992 L147.728 550.992 L147.728 554.928 L133.654 554.928 L133.654 563.4 Q134.672 563.053 135.691 562.89 Q136.709 562.705 137.728 562.705 Q143.515 562.705 146.894 565.877 Q150.274 569.048 150.274 574.465 Q150.274 580.043 146.802 583.145 Q143.33 586.224 137.01 586.224 Q134.834 586.224 132.566 585.853 Q130.32 585.483 127.913 584.742 L127.913 580.043 Q129.996 581.177 132.219 581.733 Q134.441 582.289 136.918 582.289 Q140.922 582.289 143.26 580.182 Q145.598 578.076 145.598 574.465 Q145.598 570.853 143.26 568.747 Q140.922 566.64 136.918 566.64 Q135.043 566.64 133.168 567.057 Q131.316 567.474 129.371 568.353 L129.371 550.992 Z\" fill=\"#000000\" fill-rule=\"nonzero\" fill-opacity=\"1\" /><path clip-path=\"url(#clip010)\" d=\"M53.7467 289.136 L61.3856 289.136 L61.3856 262.771 L53.0754 264.437 L53.0754 260.178 L61.3393 258.511 L66.0152 258.511 L66.0152 289.136 L73.654 289.136 L73.654 293.071 L53.7467 293.071 L53.7467 289.136 Z\" fill=\"#000000\" fill-rule=\"nonzero\" fill-opacity=\"1\" /><path clip-path=\"url(#clip010)\" d=\"M83.0984 287.192 L87.9827 287.192 L87.9827 293.071 L83.0984 293.071 L83.0984 287.192 Z\" fill=\"#000000\" fill-rule=\"nonzero\" fill-opacity=\"1\" /><path clip-path=\"url(#clip010)\" d=\"M108.168 261.59 Q104.557 261.59 102.728 265.155 Q100.922 268.696 100.922 275.826 Q100.922 282.932 102.728 286.497 Q104.557 290.039 108.168 290.039 Q111.802 290.039 113.608 286.497 Q115.436 282.932 115.436 275.826 Q115.436 268.696 113.608 265.155 Q111.802 261.59 108.168 261.59 M108.168 257.886 Q113.978 257.886 117.033 262.493 Q120.112 267.076 120.112 275.826 Q120.112 284.553 117.033 289.159 Q113.978 293.743 108.168 293.743 Q102.358 293.743 99.2789 289.159 Q96.2234 284.553 96.2234 275.826 Q96.2234 267.076 99.2789 262.493 Q102.358 257.886 108.168 257.886 Z\" fill=\"#000000\" fill-rule=\"nonzero\" fill-opacity=\"1\" /><path clip-path=\"url(#clip010)\" d=\"M138.33 261.59 Q134.719 261.59 132.89 265.155 Q131.084 268.696 131.084 275.826 Q131.084 282.932 132.89 286.497 Q134.719 290.039 138.33 290.039 Q141.964 290.039 143.769 286.497 Q145.598 282.932 145.598 275.826 Q145.598 268.696 143.769 265.155 Q141.964 261.59 138.33 261.59 M138.33 257.886 Q144.14 257.886 147.195 262.493 Q150.274 267.076 150.274 275.826 Q150.274 284.553 147.195 289.159 Q144.14 293.743 138.33 293.743 Q132.519 293.743 129.441 289.159 Q126.385 284.553 126.385 275.826 Q126.385 267.076 129.441 262.493 Q132.519 257.886 138.33 257.886 Z\" fill=\"#000000\" fill-rule=\"nonzero\" fill-opacity=\"1\" /><polyline clip-path=\"url(#clip012)\" style=\"stroke:#009af9; stroke-linecap:round; stroke-linejoin:round; stroke-width:4; stroke-opacity:1; fill:none\" points=\"247.59,1445.72 251.685,1445.72 255.781,1445.72 259.877,1445.72 263.973,1445.72 268.069,1445.72 272.165,1445.72 276.261,1445.72 280.357,1445.72 284.453,1445.72 288.548,1445.72 292.644,1445.72 296.74,1445.72 300.836,1445.72 304.932,1445.72 309.028,1445.72 313.124,1445.72 317.22,1445.72 321.316,1445.72 325.412,1445.72 329.507,1445.72 333.603,1445.72 337.699,1445.72 341.795,1445.72 345.891,1445.72 349.987,1445.72 354.083,1445.72 358.179,1445.72 362.275,1445.72 366.37,1445.72 370.466,1445.72 374.562,1445.72 378.658,1445.72 382.754,1445.72 386.85,1445.72 390.946,1445.72 395.042,1445.72 399.138,1445.72 403.233,1445.72 407.329,1445.72 411.425,1445.72 415.521,1445.72 419.617,1445.72 423.713,1445.72 427.809,1445.72 431.905,1445.72 436.001,1445.72 440.097,1445.72 444.192,1445.72 448.288,1445.72 452.384,1445.72 456.48,1445.72 460.576,1445.72 464.672,1445.72 468.768,1445.72 472.864,1445.72 476.96,1445.72 481.055,1445.72 485.151,1445.72 489.247,1445.72 493.343,1445.72 497.439,1445.72 501.535,1445.72 505.631,1445.72 509.727,1445.72 513.823,1445.72 517.918,1445.72 522.014,1445.72 526.11,1445.72 530.206,1445.72 534.302,1445.72 538.398,1445.72 542.494,1445.72 546.59,1445.72 550.686,1445.72 554.782,1445.72 558.877,1445.72 562.973,1445.72 567.069,1445.72 571.165,1445.72 575.261,1445.72 579.357,1445.72 583.453,1445.72 587.549,1445.72 591.645,1445.72 595.74,1445.72 599.836,1445.72 603.932,1445.72 608.028,1445.72 612.124,1445.72 616.22,1445.72 620.316,1445.72 624.412,1445.72 628.508,1445.72 632.604,1445.72 636.699,1445.72 640.795,1445.72 644.891,1445.72 648.987,1445.72 653.083,1445.72 657.179,1445.72 661.275,1445.72 665.371,1445.72 669.467,1445.72 673.562,1445.72 677.658,1445.72 681.754,1445.72 685.85,1445.72 689.946,1445.72 694.042,1445.72 698.138,1445.72 702.234,1445.72 706.33,1445.72 710.425,1445.72 714.521,1445.72 718.617,1445.72 722.713,1445.72 726.809,1445.72 730.905,1445.72 735.001,1445.72 739.097,1445.72 743.193,1445.72 747.289,1445.72 751.384,1445.72 755.48,1445.72 759.576,1445.72 763.672,1445.72 767.768,1445.72 771.864,1445.72 775.96,1445.72 780.056,1445.72 784.152,1445.72 788.247,1445.72 792.343,1445.72 796.439,1445.72 800.535,1445.72 804.631,1445.72 808.727,1445.72 812.823,1445.72 816.919,1445.72 821.015,1445.72 825.111,1445.72 829.206,1445.72 833.302,1445.72 837.398,1445.72 841.494,1445.72 845.59,1445.72 849.686,1445.72 853.782,1445.72 857.878,1445.72 861.974,1445.72 866.069,1445.72 870.165,1445.72 874.261,1445.72 878.357,1445.72 882.453,1445.72 886.549,1445.72 890.645,1445.72 894.741,1445.72 898.837,1445.72 902.932,1445.72 907.028,1445.72 911.124,1445.72 915.22,1445.72 919.316,1445.72 923.412,1445.72 927.508,1445.72 931.604,1445.72 935.7,1445.72 939.796,1445.72 943.891,1445.72 947.987,1445.72 952.083,1445.72 956.179,1445.72 960.275,1445.72 964.371,1445.72 968.467,1445.72 972.563,1445.72 976.659,1445.72 980.754,1445.72 984.85,1445.72 988.946,1445.72 993.042,1445.72 997.138,1445.72 1001.23,1445.72 1005.33,1445.72 1009.43,1445.72 1013.52,1445.72 1017.62,1445.72 1021.71,1445.72 1025.81,1445.72 1029.91,1445.72 1034,1445.72 1038.1,1445.72 1042.19,1445.72 1046.29,1445.72 1050.38,1445.72 1054.48,1445.72 1058.58,1445.72 1062.67,1445.72 1066.77,1445.72 1070.86,1445.72 1074.96,1445.72 1079.06,1445.72 1083.15,1445.72 1087.25,1445.72 1091.34,1445.72 1095.44,1445.72 1099.54,1445.72 1103.63,1445.72 1107.73,1445.72 1111.82,1445.72 1115.92,1445.72 1120.01,1445.72 1124.11,1445.72 1128.21,1445.72 1132.3,1445.72 1136.4,1445.72 1140.49,1445.72 1144.59,1445.72 1148.69,1445.72 1152.78,1445.72 1156.88,1445.72 1160.97,1445.72 1165.07,1445.72 1169.17,1445.72 1173.26,1445.72 1177.36,1445.72 1181.45,1445.72 1185.55,1445.72 1189.65,1445.72 1193.74,1445.72 1197.84,1445.72 1201.93,1445.72 1206.03,1445.72 1210.12,1445.72 1214.22,1445.72 1218.32,1445.72 1222.41,1445.72 1226.51,1445.72 1230.6,1445.72 1234.7,1445.72 1238.8,1445.72 1242.89,1445.72 1246.99,1445.72 1251.08,1445.72 1255.18,1445.72 1259.28,1445.72 1263.37,1445.72 1267.47,1445.72 1271.56,1445.72 1275.66,1445.72 1279.75,1445.72 1283.85,1445.72 1287.95,1445.72 1292.04,1445.72 1296.14,1445.72 1300.23,1445.72 1304.33,1445.72 1308.43,1445.72 1312.52,1445.72 1316.62,1445.72 1320.71,1445.72 1324.81,1445.72 1328.91,1445.72 1333,1445.72 1337.1,1445.72 1341.19,1445.72 1345.29,1445.72 1349.38,1445.72 1353.48,1445.72 1357.58,1445.72 1361.67,1445.72 1365.77,1445.72 1369.86,1445.72 1373.96,1445.72 1378.06,1445.72 1382.15,1445.72 1386.25,1445.72 1390.34,1445.72 1394.44,1445.72 1398.54,1445.72 1402.63,1445.72 1406.73,1445.72 1410.82,1445.72 1414.92,1445.72 1419.02,1445.72 1423.11,1445.72 1427.21,1445.72 1431.3,1445.72 1435.4,1445.72 1439.49,1445.72 1443.59,1445.72 1447.69,1445.72 1451.78,1445.72 1455.88,1445.72 1459.97,1445.72 1464.07,1445.72 1468.17,1445.72 1472.26,1445.72 1476.36,1445.72 1480.45,1445.72 1484.55,1445.72 1488.65,1445.72 1492.74,1445.72 1496.84,1445.72 1500.93,1445.72 1505.03,1445.72 1509.12,1445.72 1513.22,1445.72 1517.32,1445.72 1521.41,1445.72 1525.51,1445.72 1529.6,1445.72 1533.7,1445.72 1537.8,1445.72 1541.89,1445.72 1545.99,1445.72 1550.08,1445.72 1554.18,1445.72 1558.28,1445.72 1562.37,1445.72 1566.47,1445.72 1570.56,1445.72 1574.66,1445.72 1578.75,1445.72 1582.85,1445.72 1586.95,1445.72 1591.04,1445.72 1595.14,1445.72 1599.23,1445.72 1603.33,1445.72 1607.43,1445.72 1611.52,1445.72 1615.62,1445.72 1619.71,1445.72 1623.81,1445.72 1627.91,1445.72 1632,1445.72 1636.1,1445.72 1640.19,1445.72 1644.29,1445.72 1648.39,1445.72 1652.48,1445.72 1656.58,1445.72 1660.67,1445.72 1664.77,1445.72 1668.86,1445.72 1672.96,1445.72 1677.06,1445.72 1681.15,1445.72 1685.25,1445.72 1689.34,1445.72 1693.44,1445.72 1697.54,1445.72 1701.63,1445.72 1705.73,1445.72 1709.82,1445.72 1713.92,1445.72 1718.02,1445.72 1722.11,1445.72 1726.21,1445.72 1730.3,1445.72 1734.4,1445.72 1738.49,1445.72 1742.59,1445.72 1746.69,1445.72 1750.78,1445.72 1754.88,1445.72 1758.97,1445.72 1763.07,1445.72 1767.17,1445.72 1771.26,1445.72 1775.36,1445.72 1779.45,1445.72 1783.55,1445.72 1787.65,1445.72 1791.74,1445.72 1795.84,1445.72 1799.93,1445.72 1804.03,1445.72 1808.12,1445.72 1812.22,1445.72 1816.32,1445.72 1820.41,1445.72 1824.51,1445.72 1828.6,1445.72 1832.7,1445.72 1836.8,1445.72 1840.89,1445.72 1844.99,1445.72 1849.08,1445.72 1853.18,1445.72 1857.28,1445.72 1861.37,1445.72 1865.47,1445.72 1869.56,1445.72 1873.66,1445.72 1877.76,1445.72 1881.85,1445.72 1885.95,1445.72 1890.04,1445.72 1894.14,1445.72 1898.23,1445.72 1902.33,1445.72 1906.43,1445.72 1910.52,1445.72 1914.62,1445.72 1918.71,1445.72 1922.81,1445.72 1926.91,1445.72 1931,1445.72 1935.1,1445.72 1939.19,1445.72 1943.29,1445.72 1947.39,1445.72 1951.48,1445.72 1955.58,1445.72 1959.67,1445.72 1963.77,1445.72 1967.86,1445.72 1971.96,1445.72 1976.06,1445.72 1980.15,1445.72 1984.25,1445.72 1988.34,1445.72 1992.44,1445.72 1996.54,1445.72 2000.63,1445.72 2004.73,1445.72 2008.82,1445.72 2012.92,1445.72 2017.02,1445.72 2021.11,1445.72 2025.21,1445.72 2029.3,1445.72 2033.4,1445.72 2037.49,1445.72 2041.59,1445.72 2045.69,1445.72 2049.78,1445.72 2053.88,1445.72 2057.97,1445.72 2062.07,1445.72 2066.17,1445.72 2070.26,1445.72 2074.36,1445.72 2078.45,1445.72 2082.55,1445.72 2086.65,1445.72 2090.74,1445.72 2094.84,1445.72 2098.93,1445.72 2103.03,1445.72 2107.13,1445.72 2111.22,1445.72 2115.32,1445.72 2119.41,1445.72 2123.51,1445.72 2127.6,1445.72 2131.7,1445.72 2135.8,1445.72 2139.89,1445.72 2143.99,1445.72 2148.08,1445.72 2152.18,1445.72 2156.28,1445.72 2160.37,1445.72 2164.47,1445.72 2168.56,1445.72 2172.66,1445.72 2176.76,1445.72 2180.85,1445.72 2184.95,1445.72 2189.04,1445.72 2193.14,1445.72 2197.23,1445.72 2201.33,1445.72 2205.43,1445.72 2209.52,1445.72 2213.62,1445.72 2217.71,1445.72 2221.81,1378.95 2225.91,1235.37 2230,1091.79 2234.1,922.286 2238.19,751.977 2242.29,654.87 2246.39,638.669 2250.48,622.468 2254.58,510.827 2258.67,397.239 2262.77,289.799 2266.87,188.888 2270.96,87.9763 2275.06,149.044 2279.15,211.749 2283.25,219.524 2287.34,171.261 2291.44,122.998 \"/>\n",
       "<path clip-path=\"url(#clip010)\" d=\"M258.49 198.898 L527.569 198.898 L527.569 95.2176 L258.49 95.2176  Z\" fill=\"#ffffff\" fill-rule=\"evenodd\" fill-opacity=\"1\"/>\n",
       "<polyline clip-path=\"url(#clip010)\" style=\"stroke:#000000; stroke-linecap:round; stroke-linejoin:round; stroke-width:4; stroke-opacity:1; fill:none\" points=\"258.49,198.898 527.569,198.898 527.569,95.2176 258.49,95.2176 258.49,198.898 \"/>\n",
       "<polyline clip-path=\"url(#clip010)\" style=\"stroke:#009af9; stroke-linecap:round; stroke-linejoin:round; stroke-width:4; stroke-opacity:1; fill:none\" points=\"282.562,147.058 426.994,147.058 \"/>\n",
       "<path clip-path=\"url(#clip010)\" d=\"M464.909 166.745 Q463.103 171.375 461.39 172.787 Q459.677 174.199 456.807 174.199 L453.404 174.199 L453.404 170.634 L455.904 170.634 Q457.663 170.634 458.636 169.8 Q459.608 168.967 460.788 165.865 L461.552 163.921 L451.066 138.412 L455.58 138.412 L463.682 158.689 L471.784 138.412 L476.298 138.412 L464.909 166.745 Z\" fill=\"#000000\" fill-rule=\"nonzero\" fill-opacity=\"1\" /><path clip-path=\"url(#clip010)\" d=\"M483.589 160.402 L491.228 160.402 L491.228 134.037 L482.918 135.703 L482.918 131.444 L491.182 129.778 L495.858 129.778 L495.858 160.402 L503.497 160.402 L503.497 164.338 L483.589 164.338 L483.589 160.402 Z\" fill=\"#000000\" fill-rule=\"nonzero\" fill-opacity=\"1\" /></svg>\n"
      ],
      "text/html": [
       "<?xml version=\"1.0\" encoding=\"utf-8\"?>\n",
       "<svg xmlns=\"http://www.w3.org/2000/svg\" xmlns:xlink=\"http://www.w3.org/1999/xlink\" width=\"600\" height=\"400\" viewBox=\"0 0 2400 1600\">\n",
       "<defs>\n",
       "  <clipPath id=\"clip060\">\n",
       "    <rect x=\"0\" y=\"0\" width=\"2400\" height=\"1600\"/>\n",
       "  </clipPath>\n",
       "</defs>\n",
       "<path clip-path=\"url(#clip060)\" d=\"M0 1600 L2400 1600 L2400 0 L0 0  Z\" fill=\"#ffffff\" fill-rule=\"evenodd\" fill-opacity=\"1\"/>\n",
       "<defs>\n",
       "  <clipPath id=\"clip061\">\n",
       "    <rect x=\"480\" y=\"0\" width=\"1681\" height=\"1600\"/>\n",
       "  </clipPath>\n",
       "</defs>\n",
       "<path clip-path=\"url(#clip060)\" d=\"M186.274 1486.45 L2352.76 1486.45 L2352.76 47.2441 L186.274 47.2441  Z\" fill=\"#ffffff\" fill-rule=\"evenodd\" fill-opacity=\"1\"/>\n",
       "<defs>\n",
       "  <clipPath id=\"clip062\">\n",
       "    <rect x=\"186\" y=\"47\" width=\"2167\" height=\"1440\"/>\n",
       "  </clipPath>\n",
       "</defs>\n",
       "<polyline clip-path=\"url(#clip062)\" style=\"stroke:#000000; stroke-linecap:round; stroke-linejoin:round; stroke-width:2; stroke-opacity:0.1; fill:none\" points=\"247.59,1486.45 247.59,47.2441 \"/>\n",
       "<polyline clip-path=\"url(#clip062)\" style=\"stroke:#000000; stroke-linecap:round; stroke-linejoin:round; stroke-width:2; stroke-opacity:0.1; fill:none\" points=\"758.552,1486.45 758.552,47.2441 \"/>\n",
       "<polyline clip-path=\"url(#clip062)\" style=\"stroke:#000000; stroke-linecap:round; stroke-linejoin:round; stroke-width:2; stroke-opacity:0.1; fill:none\" points=\"1269.51,1486.45 1269.51,47.2441 \"/>\n",
       "<polyline clip-path=\"url(#clip062)\" style=\"stroke:#000000; stroke-linecap:round; stroke-linejoin:round; stroke-width:2; stroke-opacity:0.1; fill:none\" points=\"1780.48,1486.45 1780.48,47.2441 \"/>\n",
       "<polyline clip-path=\"url(#clip062)\" style=\"stroke:#000000; stroke-linecap:round; stroke-linejoin:round; stroke-width:2; stroke-opacity:0.1; fill:none\" points=\"2291.44,1486.45 2291.44,47.2441 \"/>\n",
       "<polyline clip-path=\"url(#clip060)\" style=\"stroke:#000000; stroke-linecap:round; stroke-linejoin:round; stroke-width:4; stroke-opacity:1; fill:none\" points=\"186.274,1486.45 2352.76,1486.45 \"/>\n",
       "<polyline clip-path=\"url(#clip060)\" style=\"stroke:#000000; stroke-linecap:round; stroke-linejoin:round; stroke-width:4; stroke-opacity:1; fill:none\" points=\"247.59,1486.45 247.59,1467.55 \"/>\n",
       "<polyline clip-path=\"url(#clip060)\" style=\"stroke:#000000; stroke-linecap:round; stroke-linejoin:round; stroke-width:4; stroke-opacity:1; fill:none\" points=\"758.552,1486.45 758.552,1467.55 \"/>\n",
       "<polyline clip-path=\"url(#clip060)\" style=\"stroke:#000000; stroke-linecap:round; stroke-linejoin:round; stroke-width:4; stroke-opacity:1; fill:none\" points=\"1269.51,1486.45 1269.51,1467.55 \"/>\n",
       "<polyline clip-path=\"url(#clip060)\" style=\"stroke:#000000; stroke-linecap:round; stroke-linejoin:round; stroke-width:4; stroke-opacity:1; fill:none\" points=\"1780.48,1486.45 1780.48,1467.55 \"/>\n",
       "<polyline clip-path=\"url(#clip060)\" style=\"stroke:#000000; stroke-linecap:round; stroke-linejoin:round; stroke-width:4; stroke-opacity:1; fill:none\" points=\"2291.44,1486.45 2291.44,1467.55 \"/>\n",
       "<path clip-path=\"url(#clip060)\" d=\"M247.59 1517.37 Q243.978 1517.37 242.15 1520.93 Q240.344 1524.47 240.344 1531.6 Q240.344 1538.71 242.15 1542.27 Q243.978 1545.82 247.59 1545.82 Q251.224 1545.82 253.029 1542.27 Q254.858 1538.71 254.858 1531.6 Q254.858 1524.47 253.029 1520.93 Q251.224 1517.37 247.59 1517.37 M247.59 1513.66 Q253.4 1513.66 256.455 1518.27 Q259.534 1522.85 259.534 1531.6 Q259.534 1540.33 256.455 1544.94 Q253.4 1549.52 247.59 1549.52 Q241.779 1549.52 238.701 1544.94 Q235.645 1540.33 235.645 1531.6 Q235.645 1522.85 238.701 1518.27 Q241.779 1513.66 247.59 1513.66 Z\" fill=\"#000000\" fill-rule=\"nonzero\" fill-opacity=\"1\" /><path clip-path=\"url(#clip060)\" d=\"M737.823 1544.91 L754.143 1544.91 L754.143 1548.85 L732.198 1548.85 L732.198 1544.91 Q734.86 1542.16 739.444 1537.53 Q744.05 1532.88 745.231 1531.53 Q747.476 1529.01 748.356 1527.27 Q749.258 1525.51 749.258 1523.82 Q749.258 1521.07 747.314 1519.33 Q745.393 1517.6 742.291 1517.6 Q740.092 1517.6 737.638 1518.36 Q735.207 1519.13 732.43 1520.68 L732.43 1515.95 Q735.254 1514.82 737.707 1514.24 Q740.161 1513.66 742.198 1513.66 Q747.569 1513.66 750.763 1516.35 Q753.957 1519.03 753.957 1523.52 Q753.957 1525.65 753.147 1527.57 Q752.36 1529.47 750.254 1532.07 Q749.675 1532.74 746.573 1535.95 Q743.471 1539.15 737.823 1544.91 Z\" fill=\"#000000\" fill-rule=\"nonzero\" fill-opacity=\"1\" /><path clip-path=\"url(#clip060)\" d=\"M764.004 1514.29 L782.36 1514.29 L782.36 1518.22 L768.286 1518.22 L768.286 1526.7 Q769.304 1526.35 770.323 1526.19 Q771.342 1526 772.36 1526 Q778.147 1526 781.527 1529.17 Q784.906 1532.34 784.906 1537.76 Q784.906 1543.34 781.434 1546.44 Q777.962 1549.52 771.642 1549.52 Q769.467 1549.52 767.198 1549.15 Q764.953 1548.78 762.545 1548.04 L762.545 1543.34 Q764.629 1544.47 766.851 1545.03 Q769.073 1545.58 771.55 1545.58 Q775.554 1545.58 777.892 1543.48 Q780.23 1541.37 780.23 1537.76 Q780.23 1534.15 777.892 1532.04 Q775.554 1529.94 771.55 1529.94 Q769.675 1529.94 767.8 1530.35 Q765.948 1530.77 764.004 1531.65 L764.004 1514.29 Z\" fill=\"#000000\" fill-rule=\"nonzero\" fill-opacity=\"1\" /><path clip-path=\"url(#clip060)\" d=\"M1244.21 1514.29 L1262.57 1514.29 L1262.57 1518.22 L1248.5 1518.22 L1248.5 1526.7 Q1249.52 1526.35 1250.53 1526.19 Q1251.55 1526 1252.57 1526 Q1258.36 1526 1261.74 1529.17 Q1265.12 1532.34 1265.12 1537.76 Q1265.12 1543.34 1261.64 1546.44 Q1258.17 1549.52 1251.85 1549.52 Q1249.68 1549.52 1247.41 1549.15 Q1245.16 1548.78 1242.76 1548.04 L1242.76 1543.34 Q1244.84 1544.47 1247.06 1545.03 Q1249.28 1545.58 1251.76 1545.58 Q1255.77 1545.58 1258.1 1543.48 Q1260.44 1541.37 1260.44 1537.76 Q1260.44 1534.15 1258.1 1532.04 Q1255.77 1529.94 1251.76 1529.94 Q1249.89 1529.94 1248.01 1530.35 Q1246.16 1530.77 1244.21 1531.65 L1244.21 1514.29 Z\" fill=\"#000000\" fill-rule=\"nonzero\" fill-opacity=\"1\" /><path clip-path=\"url(#clip060)\" d=\"M1284.33 1517.37 Q1280.72 1517.37 1278.89 1520.93 Q1277.08 1524.47 1277.08 1531.6 Q1277.08 1538.71 1278.89 1542.27 Q1280.72 1545.82 1284.33 1545.82 Q1287.96 1545.82 1289.77 1542.27 Q1291.6 1538.71 1291.6 1531.6 Q1291.6 1524.47 1289.77 1520.93 Q1287.96 1517.37 1284.33 1517.37 M1284.33 1513.66 Q1290.14 1513.66 1293.2 1518.27 Q1296.27 1522.85 1296.27 1531.6 Q1296.27 1540.33 1293.2 1544.94 Q1290.14 1549.52 1284.33 1549.52 Q1278.52 1549.52 1275.44 1544.94 Q1272.39 1540.33 1272.39 1531.6 Q1272.39 1522.85 1275.44 1518.27 Q1278.52 1513.66 1284.33 1513.66 Z\" fill=\"#000000\" fill-rule=\"nonzero\" fill-opacity=\"1\" /><path clip-path=\"url(#clip060)\" d=\"M1754.33 1514.29 L1776.55 1514.29 L1776.55 1516.28 L1764.01 1548.85 L1759.12 1548.85 L1770.93 1518.22 L1754.33 1518.22 L1754.33 1514.29 Z\" fill=\"#000000\" fill-rule=\"nonzero\" fill-opacity=\"1\" /><path clip-path=\"url(#clip060)\" d=\"M1785.72 1514.29 L1804.08 1514.29 L1804.08 1518.22 L1790 1518.22 L1790 1526.7 Q1791.02 1526.35 1792.04 1526.19 Q1793.06 1526 1794.08 1526 Q1799.86 1526 1803.24 1529.17 Q1806.62 1532.34 1806.62 1537.76 Q1806.62 1543.34 1803.15 1546.44 Q1799.68 1549.52 1793.36 1549.52 Q1791.18 1549.52 1788.92 1549.15 Q1786.67 1548.78 1784.26 1548.04 L1784.26 1543.34 Q1786.35 1544.47 1788.57 1545.03 Q1790.79 1545.58 1793.27 1545.58 Q1797.27 1545.58 1799.61 1543.48 Q1801.95 1541.37 1801.95 1537.76 Q1801.95 1534.15 1799.61 1532.04 Q1797.27 1529.94 1793.27 1529.94 Q1791.39 1529.94 1789.52 1530.35 Q1787.67 1530.77 1785.72 1531.65 L1785.72 1514.29 Z\" fill=\"#000000\" fill-rule=\"nonzero\" fill-opacity=\"1\" /><path clip-path=\"url(#clip060)\" d=\"M2251.05 1544.91 L2258.69 1544.91 L2258.69 1518.55 L2250.38 1520.21 L2250.38 1515.95 L2258.64 1514.29 L2263.32 1514.29 L2263.32 1544.91 L2270.95 1544.91 L2270.95 1548.85 L2251.05 1548.85 L2251.05 1544.91 Z\" fill=\"#000000\" fill-rule=\"nonzero\" fill-opacity=\"1\" /><path clip-path=\"url(#clip060)\" d=\"M2290.4 1517.37 Q2286.79 1517.37 2284.96 1520.93 Q2283.15 1524.47 2283.15 1531.6 Q2283.15 1538.71 2284.96 1542.27 Q2286.79 1545.82 2290.4 1545.82 Q2294.03 1545.82 2295.84 1542.27 Q2297.67 1538.71 2297.67 1531.6 Q2297.67 1524.47 2295.84 1520.93 Q2294.03 1517.37 2290.4 1517.37 M2290.4 1513.66 Q2296.21 1513.66 2299.26 1518.27 Q2302.34 1522.85 2302.34 1531.6 Q2302.34 1540.33 2299.26 1544.94 Q2296.21 1549.52 2290.4 1549.52 Q2284.59 1549.52 2281.51 1544.94 Q2278.45 1540.33 2278.45 1531.6 Q2278.45 1522.85 2281.51 1518.27 Q2284.59 1513.66 2290.4 1513.66 Z\" fill=\"#000000\" fill-rule=\"nonzero\" fill-opacity=\"1\" /><path clip-path=\"url(#clip060)\" d=\"M2320.56 1517.37 Q2316.95 1517.37 2315.12 1520.93 Q2313.32 1524.47 2313.32 1531.6 Q2313.32 1538.71 2315.12 1542.27 Q2316.95 1545.82 2320.56 1545.82 Q2324.19 1545.82 2326 1542.27 Q2327.83 1538.71 2327.83 1531.6 Q2327.83 1524.47 2326 1520.93 Q2324.19 1517.37 2320.56 1517.37 M2320.56 1513.66 Q2326.37 1513.66 2329.43 1518.27 Q2332.5 1522.85 2332.5 1531.6 Q2332.5 1540.33 2329.43 1544.94 Q2326.37 1549.52 2320.56 1549.52 Q2314.75 1549.52 2311.67 1544.94 Q2308.62 1540.33 2308.62 1531.6 Q2308.62 1522.85 2311.67 1518.27 Q2314.75 1513.66 2320.56 1513.66 Z\" fill=\"#000000\" fill-rule=\"nonzero\" fill-opacity=\"1\" /><polyline clip-path=\"url(#clip062)\" style=\"stroke:#000000; stroke-linecap:round; stroke-linejoin:round; stroke-width:2; stroke-opacity:0.1; fill:none\" points=\"186.274,1445.72 2352.76,1445.72 \"/>\n",
       "<polyline clip-path=\"url(#clip062)\" style=\"stroke:#000000; stroke-linecap:round; stroke-linejoin:round; stroke-width:2; stroke-opacity:0.1; fill:none\" points=\"186.274,1153.23 2352.76,1153.23 \"/>\n",
       "<polyline clip-path=\"url(#clip062)\" style=\"stroke:#000000; stroke-linecap:round; stroke-linejoin:round; stroke-width:2; stroke-opacity:0.1; fill:none\" points=\"186.274,860.754 2352.76,860.754 \"/>\n",
       "<polyline clip-path=\"url(#clip062)\" style=\"stroke:#000000; stroke-linecap:round; stroke-linejoin:round; stroke-width:2; stroke-opacity:0.1; fill:none\" points=\"186.274,568.272 2352.76,568.272 \"/>\n",
       "<polyline clip-path=\"url(#clip062)\" style=\"stroke:#000000; stroke-linecap:round; stroke-linejoin:round; stroke-width:2; stroke-opacity:0.1; fill:none\" points=\"186.274,275.791 2352.76,275.791 \"/>\n",
       "<polyline clip-path=\"url(#clip060)\" style=\"stroke:#000000; stroke-linecap:round; stroke-linejoin:round; stroke-width:4; stroke-opacity:1; fill:none\" points=\"186.274,1486.45 186.274,47.2441 \"/>\n",
       "<polyline clip-path=\"url(#clip060)\" style=\"stroke:#000000; stroke-linecap:round; stroke-linejoin:round; stroke-width:4; stroke-opacity:1; fill:none\" points=\"186.274,1445.72 205.172,1445.72 \"/>\n",
       "<polyline clip-path=\"url(#clip060)\" style=\"stroke:#000000; stroke-linecap:round; stroke-linejoin:round; stroke-width:4; stroke-opacity:1; fill:none\" points=\"186.274,1153.23 205.172,1153.23 \"/>\n",
       "<polyline clip-path=\"url(#clip060)\" style=\"stroke:#000000; stroke-linecap:round; stroke-linejoin:round; stroke-width:4; stroke-opacity:1; fill:none\" points=\"186.274,860.754 205.172,860.754 \"/>\n",
       "<polyline clip-path=\"url(#clip060)\" style=\"stroke:#000000; stroke-linecap:round; stroke-linejoin:round; stroke-width:4; stroke-opacity:1; fill:none\" points=\"186.274,568.272 205.172,568.272 \"/>\n",
       "<polyline clip-path=\"url(#clip060)\" style=\"stroke:#000000; stroke-linecap:round; stroke-linejoin:round; stroke-width:4; stroke-opacity:1; fill:none\" points=\"186.274,275.791 205.172,275.791 \"/>\n",
       "<path clip-path=\"url(#clip060)\" d=\"M62.9365 1431.51 Q59.3254 1431.51 57.4967 1435.08 Q55.6912 1438.62 55.6912 1445.75 Q55.6912 1452.86 57.4967 1456.42 Q59.3254 1459.96 62.9365 1459.96 Q66.5707 1459.96 68.3763 1456.42 Q70.205 1452.86 70.205 1445.75 Q70.205 1438.62 68.3763 1435.08 Q66.5707 1431.51 62.9365 1431.51 M62.9365 1427.81 Q68.7467 1427.81 71.8022 1432.42 Q74.8809 1437 74.8809 1445.75 Q74.8809 1454.48 71.8022 1459.08 Q68.7467 1463.67 62.9365 1463.67 Q57.1264 1463.67 54.0477 1459.08 Q50.9921 1454.48 50.9921 1445.75 Q50.9921 1437 54.0477 1432.42 Q57.1264 1427.81 62.9365 1427.81 Z\" fill=\"#000000\" fill-rule=\"nonzero\" fill-opacity=\"1\" /><path clip-path=\"url(#clip060)\" d=\"M83.0984 1457.12 L87.9827 1457.12 L87.9827 1463 L83.0984 1463 L83.0984 1457.12 Z\" fill=\"#000000\" fill-rule=\"nonzero\" fill-opacity=\"1\" /><path clip-path=\"url(#clip060)\" d=\"M108.168 1431.51 Q104.557 1431.51 102.728 1435.08 Q100.922 1438.62 100.922 1445.75 Q100.922 1452.86 102.728 1456.42 Q104.557 1459.96 108.168 1459.96 Q111.802 1459.96 113.608 1456.42 Q115.436 1452.86 115.436 1445.75 Q115.436 1438.62 113.608 1435.08 Q111.802 1431.51 108.168 1431.51 M108.168 1427.81 Q113.978 1427.81 117.033 1432.42 Q120.112 1437 120.112 1445.75 Q120.112 1454.48 117.033 1459.08 Q113.978 1463.67 108.168 1463.67 Q102.358 1463.67 99.2789 1459.08 Q96.2234 1454.48 96.2234 1445.75 Q96.2234 1437 99.2789 1432.42 Q102.358 1427.81 108.168 1427.81 Z\" fill=\"#000000\" fill-rule=\"nonzero\" fill-opacity=\"1\" /><path clip-path=\"url(#clip060)\" d=\"M138.33 1431.51 Q134.719 1431.51 132.89 1435.08 Q131.084 1438.62 131.084 1445.75 Q131.084 1452.86 132.89 1456.42 Q134.719 1459.96 138.33 1459.96 Q141.964 1459.96 143.769 1456.42 Q145.598 1452.86 145.598 1445.75 Q145.598 1438.62 143.769 1435.08 Q141.964 1431.51 138.33 1431.51 M138.33 1427.81 Q144.14 1427.81 147.195 1432.42 Q150.274 1437 150.274 1445.75 Q150.274 1454.48 147.195 1459.08 Q144.14 1463.67 138.33 1463.67 Q132.519 1463.67 129.441 1459.08 Q126.385 1454.48 126.385 1445.75 Q126.385 1437 129.441 1432.42 Q132.519 1427.81 138.33 1427.81 Z\" fill=\"#000000\" fill-rule=\"nonzero\" fill-opacity=\"1\" /><path clip-path=\"url(#clip060)\" d=\"M63.9319 1139.03 Q60.3208 1139.03 58.4921 1142.6 Q56.6865 1146.14 56.6865 1153.27 Q56.6865 1160.38 58.4921 1163.94 Q60.3208 1167.48 63.9319 1167.48 Q67.5661 1167.48 69.3717 1163.94 Q71.2004 1160.38 71.2004 1153.27 Q71.2004 1146.14 69.3717 1142.6 Q67.5661 1139.03 63.9319 1139.03 M63.9319 1135.33 Q69.742 1135.33 72.7976 1139.94 Q75.8763 1144.52 75.8763 1153.27 Q75.8763 1162 72.7976 1166.6 Q69.742 1171.19 63.9319 1171.19 Q58.1217 1171.19 55.043 1166.6 Q51.9875 1162 51.9875 1153.27 Q51.9875 1144.52 55.043 1139.94 Q58.1217 1135.33 63.9319 1135.33 Z\" fill=\"#000000\" fill-rule=\"nonzero\" fill-opacity=\"1\" /><path clip-path=\"url(#clip060)\" d=\"M84.0938 1164.64 L88.978 1164.64 L88.978 1170.51 L84.0938 1170.51 L84.0938 1164.64 Z\" fill=\"#000000\" fill-rule=\"nonzero\" fill-opacity=\"1\" /><path clip-path=\"url(#clip060)\" d=\"M103.191 1166.58 L119.51 1166.58 L119.51 1170.51 L97.566 1170.51 L97.566 1166.58 Q100.228 1163.82 104.811 1159.2 Q109.418 1154.54 110.598 1153.2 Q112.844 1150.68 113.723 1148.94 Q114.626 1147.18 114.626 1145.49 Q114.626 1142.74 112.682 1141 Q110.76 1139.26 107.658 1139.26 Q105.459 1139.26 103.006 1140.03 Q100.575 1140.79 97.7974 1142.34 L97.7974 1137.62 Q100.621 1136.49 103.075 1135.91 Q105.529 1135.33 107.566 1135.33 Q112.936 1135.33 116.131 1138.01 Q119.325 1140.7 119.325 1145.19 Q119.325 1147.32 118.515 1149.24 Q117.728 1151.14 115.621 1153.73 Q115.043 1154.4 111.941 1157.62 Q108.839 1160.82 103.191 1166.58 Z\" fill=\"#000000\" fill-rule=\"nonzero\" fill-opacity=\"1\" /><path clip-path=\"url(#clip060)\" d=\"M129.371 1135.95 L147.728 1135.95 L147.728 1139.89 L133.654 1139.89 L133.654 1148.36 Q134.672 1148.01 135.691 1147.85 Q136.709 1147.67 137.728 1147.67 Q143.515 1147.67 146.894 1150.84 Q150.274 1154.01 150.274 1159.43 Q150.274 1165.01 146.802 1168.11 Q143.33 1171.19 137.01 1171.19 Q134.834 1171.19 132.566 1170.82 Q130.32 1170.45 127.913 1169.7 L127.913 1165.01 Q129.996 1166.14 132.219 1166.7 Q134.441 1167.25 136.918 1167.25 Q140.922 1167.25 143.26 1165.14 Q145.598 1163.04 145.598 1159.43 Q145.598 1155.82 143.26 1153.71 Q140.922 1151.6 136.918 1151.6 Q135.043 1151.6 133.168 1152.02 Q131.316 1152.44 129.371 1153.32 L129.371 1135.95 Z\" fill=\"#000000\" fill-rule=\"nonzero\" fill-opacity=\"1\" /><path clip-path=\"url(#clip060)\" d=\"M62.9365 846.552 Q59.3254 846.552 57.4967 850.117 Q55.6912 853.659 55.6912 860.788 Q55.6912 867.895 57.4967 871.459 Q59.3254 875.001 62.9365 875.001 Q66.5707 875.001 68.3763 871.459 Q70.205 867.895 70.205 860.788 Q70.205 853.659 68.3763 850.117 Q66.5707 846.552 62.9365 846.552 M62.9365 842.849 Q68.7467 842.849 71.8022 847.455 Q74.8809 852.038 74.8809 860.788 Q74.8809 869.515 71.8022 874.121 Q68.7467 878.705 62.9365 878.705 Q57.1264 878.705 54.0477 874.121 Q50.9921 869.515 50.9921 860.788 Q50.9921 852.038 54.0477 847.455 Q57.1264 842.849 62.9365 842.849 Z\" fill=\"#000000\" fill-rule=\"nonzero\" fill-opacity=\"1\" /><path clip-path=\"url(#clip060)\" d=\"M83.0984 872.154 L87.9827 872.154 L87.9827 878.034 L83.0984 878.034 L83.0984 872.154 Z\" fill=\"#000000\" fill-rule=\"nonzero\" fill-opacity=\"1\" /><path clip-path=\"url(#clip060)\" d=\"M98.2141 843.474 L116.57 843.474 L116.57 847.409 L102.496 847.409 L102.496 855.881 Q103.515 855.534 104.534 855.372 Q105.552 855.186 106.571 855.186 Q112.358 855.186 115.737 858.358 Q119.117 861.529 119.117 866.946 Q119.117 872.524 115.645 875.626 Q112.172 878.705 105.853 878.705 Q103.677 878.705 101.409 878.334 Q99.1632 877.964 96.7558 877.223 L96.7558 872.524 Q98.8391 873.659 101.061 874.214 Q103.284 874.77 105.76 874.77 Q109.765 874.77 112.103 872.663 Q114.441 870.557 114.441 866.946 Q114.441 863.335 112.103 861.228 Q109.765 859.122 105.76 859.122 Q103.885 859.122 102.01 859.538 Q100.159 859.955 98.2141 860.835 L98.2141 843.474 Z\" fill=\"#000000\" fill-rule=\"nonzero\" fill-opacity=\"1\" /><path clip-path=\"url(#clip060)\" d=\"M138.33 846.552 Q134.719 846.552 132.89 850.117 Q131.084 853.659 131.084 860.788 Q131.084 867.895 132.89 871.459 Q134.719 875.001 138.33 875.001 Q141.964 875.001 143.769 871.459 Q145.598 867.895 145.598 860.788 Q145.598 853.659 143.769 850.117 Q141.964 846.552 138.33 846.552 M138.33 842.849 Q144.14 842.849 147.195 847.455 Q150.274 852.038 150.274 860.788 Q150.274 869.515 147.195 874.121 Q144.14 878.705 138.33 878.705 Q132.519 878.705 129.441 874.121 Q126.385 869.515 126.385 860.788 Q126.385 852.038 129.441 847.455 Q132.519 842.849 138.33 842.849 Z\" fill=\"#000000\" fill-rule=\"nonzero\" fill-opacity=\"1\" /><path clip-path=\"url(#clip060)\" d=\"M63.9319 554.071 Q60.3208 554.071 58.4921 557.636 Q56.6865 561.178 56.6865 568.307 Q56.6865 575.414 58.4921 578.978 Q60.3208 582.52 63.9319 582.52 Q67.5661 582.52 69.3717 578.978 Q71.2004 575.414 71.2004 568.307 Q71.2004 561.178 69.3717 557.636 Q67.5661 554.071 63.9319 554.071 M63.9319 550.367 Q69.742 550.367 72.7976 554.974 Q75.8763 559.557 75.8763 568.307 Q75.8763 577.034 72.7976 581.64 Q69.742 586.224 63.9319 586.224 Q58.1217 586.224 55.043 581.64 Q51.9875 577.034 51.9875 568.307 Q51.9875 559.557 55.043 554.974 Q58.1217 550.367 63.9319 550.367 Z\" fill=\"#000000\" fill-rule=\"nonzero\" fill-opacity=\"1\" /><path clip-path=\"url(#clip060)\" d=\"M84.0938 579.673 L88.978 579.673 L88.978 585.552 L84.0938 585.552 L84.0938 579.673 Z\" fill=\"#000000\" fill-rule=\"nonzero\" fill-opacity=\"1\" /><path clip-path=\"url(#clip060)\" d=\"M97.9826 550.992 L120.205 550.992 L120.205 552.983 L107.658 585.552 L102.774 585.552 L114.58 554.928 L97.9826 554.928 L97.9826 550.992 Z\" fill=\"#000000\" fill-rule=\"nonzero\" fill-opacity=\"1\" /><path clip-path=\"url(#clip060)\" d=\"M129.371 550.992 L147.728 550.992 L147.728 554.928 L133.654 554.928 L133.654 563.4 Q134.672 563.053 135.691 562.89 Q136.709 562.705 137.728 562.705 Q143.515 562.705 146.894 565.877 Q150.274 569.048 150.274 574.465 Q150.274 580.043 146.802 583.145 Q143.33 586.224 137.01 586.224 Q134.834 586.224 132.566 585.853 Q130.32 585.483 127.913 584.742 L127.913 580.043 Q129.996 581.177 132.219 581.733 Q134.441 582.289 136.918 582.289 Q140.922 582.289 143.26 580.182 Q145.598 578.076 145.598 574.465 Q145.598 570.853 143.26 568.747 Q140.922 566.64 136.918 566.64 Q135.043 566.64 133.168 567.057 Q131.316 567.474 129.371 568.353 L129.371 550.992 Z\" fill=\"#000000\" fill-rule=\"nonzero\" fill-opacity=\"1\" /><path clip-path=\"url(#clip060)\" d=\"M53.7467 289.136 L61.3856 289.136 L61.3856 262.771 L53.0754 264.437 L53.0754 260.178 L61.3393 258.511 L66.0152 258.511 L66.0152 289.136 L73.654 289.136 L73.654 293.071 L53.7467 293.071 L53.7467 289.136 Z\" fill=\"#000000\" fill-rule=\"nonzero\" fill-opacity=\"1\" /><path clip-path=\"url(#clip060)\" d=\"M83.0984 287.192 L87.9827 287.192 L87.9827 293.071 L83.0984 293.071 L83.0984 287.192 Z\" fill=\"#000000\" fill-rule=\"nonzero\" fill-opacity=\"1\" /><path clip-path=\"url(#clip060)\" d=\"M108.168 261.59 Q104.557 261.59 102.728 265.155 Q100.922 268.696 100.922 275.826 Q100.922 282.932 102.728 286.497 Q104.557 290.039 108.168 290.039 Q111.802 290.039 113.608 286.497 Q115.436 282.932 115.436 275.826 Q115.436 268.696 113.608 265.155 Q111.802 261.59 108.168 261.59 M108.168 257.886 Q113.978 257.886 117.033 262.493 Q120.112 267.076 120.112 275.826 Q120.112 284.553 117.033 289.159 Q113.978 293.743 108.168 293.743 Q102.358 293.743 99.2789 289.159 Q96.2234 284.553 96.2234 275.826 Q96.2234 267.076 99.2789 262.493 Q102.358 257.886 108.168 257.886 Z\" fill=\"#000000\" fill-rule=\"nonzero\" fill-opacity=\"1\" /><path clip-path=\"url(#clip060)\" d=\"M138.33 261.59 Q134.719 261.59 132.89 265.155 Q131.084 268.696 131.084 275.826 Q131.084 282.932 132.89 286.497 Q134.719 290.039 138.33 290.039 Q141.964 290.039 143.769 286.497 Q145.598 282.932 145.598 275.826 Q145.598 268.696 143.769 265.155 Q141.964 261.59 138.33 261.59 M138.33 257.886 Q144.14 257.886 147.195 262.493 Q150.274 267.076 150.274 275.826 Q150.274 284.553 147.195 289.159 Q144.14 293.743 138.33 293.743 Q132.519 293.743 129.441 289.159 Q126.385 284.553 126.385 275.826 Q126.385 267.076 129.441 262.493 Q132.519 257.886 138.33 257.886 Z\" fill=\"#000000\" fill-rule=\"nonzero\" fill-opacity=\"1\" /><polyline clip-path=\"url(#clip062)\" style=\"stroke:#009af9; stroke-linecap:round; stroke-linejoin:round; stroke-width:4; stroke-opacity:1; fill:none\" points=\"247.59,1445.72 251.685,1445.72 255.781,1445.72 259.877,1445.72 263.973,1445.72 268.069,1445.72 272.165,1445.72 276.261,1445.72 280.357,1445.72 284.453,1445.72 288.548,1445.72 292.644,1445.72 296.74,1445.72 300.836,1445.72 304.932,1445.72 309.028,1445.72 313.124,1445.72 317.22,1445.72 321.316,1445.72 325.412,1445.72 329.507,1445.72 333.603,1445.72 337.699,1445.72 341.795,1445.72 345.891,1445.72 349.987,1445.72 354.083,1445.72 358.179,1445.72 362.275,1445.72 366.37,1445.72 370.466,1445.72 374.562,1445.72 378.658,1445.72 382.754,1445.72 386.85,1445.72 390.946,1445.72 395.042,1445.72 399.138,1445.72 403.233,1445.72 407.329,1445.72 411.425,1445.72 415.521,1445.72 419.617,1445.72 423.713,1445.72 427.809,1445.72 431.905,1445.72 436.001,1445.72 440.097,1445.72 444.192,1445.72 448.288,1445.72 452.384,1445.72 456.48,1445.72 460.576,1445.72 464.672,1445.72 468.768,1445.72 472.864,1445.72 476.96,1445.72 481.055,1445.72 485.151,1445.72 489.247,1445.72 493.343,1445.72 497.439,1445.72 501.535,1445.72 505.631,1445.72 509.727,1445.72 513.823,1445.72 517.918,1445.72 522.014,1445.72 526.11,1445.72 530.206,1445.72 534.302,1445.72 538.398,1445.72 542.494,1445.72 546.59,1445.72 550.686,1445.72 554.782,1445.72 558.877,1445.72 562.973,1445.72 567.069,1445.72 571.165,1445.72 575.261,1445.72 579.357,1445.72 583.453,1445.72 587.549,1445.72 591.645,1445.72 595.74,1445.72 599.836,1445.72 603.932,1445.72 608.028,1445.72 612.124,1445.72 616.22,1445.72 620.316,1445.72 624.412,1445.72 628.508,1445.72 632.604,1445.72 636.699,1445.72 640.795,1445.72 644.891,1445.72 648.987,1445.72 653.083,1445.72 657.179,1445.72 661.275,1445.72 665.371,1445.72 669.467,1445.72 673.562,1445.72 677.658,1445.72 681.754,1445.72 685.85,1445.72 689.946,1445.72 694.042,1445.72 698.138,1445.72 702.234,1445.72 706.33,1445.72 710.425,1445.72 714.521,1445.72 718.617,1445.72 722.713,1445.72 726.809,1445.72 730.905,1445.72 735.001,1445.72 739.097,1445.72 743.193,1445.72 747.289,1445.72 751.384,1445.72 755.48,1445.72 759.576,1445.72 763.672,1445.72 767.768,1445.72 771.864,1445.72 775.96,1445.72 780.056,1445.72 784.152,1445.72 788.247,1445.72 792.343,1445.72 796.439,1445.72 800.535,1445.72 804.631,1445.72 808.727,1445.72 812.823,1445.72 816.919,1445.72 821.015,1445.72 825.111,1445.72 829.206,1445.72 833.302,1445.72 837.398,1445.72 841.494,1445.72 845.59,1445.72 849.686,1445.72 853.782,1445.72 857.878,1445.72 861.974,1445.72 866.069,1445.72 870.165,1445.72 874.261,1445.72 878.357,1445.72 882.453,1445.72 886.549,1445.72 890.645,1445.72 894.741,1445.72 898.837,1445.72 902.932,1445.72 907.028,1445.72 911.124,1445.72 915.22,1445.72 919.316,1445.72 923.412,1445.72 927.508,1445.72 931.604,1445.72 935.7,1445.72 939.796,1445.72 943.891,1445.72 947.987,1445.72 952.083,1445.72 956.179,1445.72 960.275,1445.72 964.371,1445.72 968.467,1445.72 972.563,1445.72 976.659,1445.72 980.754,1445.72 984.85,1445.72 988.946,1445.72 993.042,1445.72 997.138,1445.72 1001.23,1445.72 1005.33,1445.72 1009.43,1445.72 1013.52,1445.72 1017.62,1445.72 1021.71,1445.72 1025.81,1445.72 1029.91,1445.72 1034,1445.72 1038.1,1445.72 1042.19,1445.72 1046.29,1445.72 1050.38,1445.72 1054.48,1445.72 1058.58,1445.72 1062.67,1445.72 1066.77,1445.72 1070.86,1445.72 1074.96,1445.72 1079.06,1445.72 1083.15,1445.72 1087.25,1445.72 1091.34,1445.72 1095.44,1445.72 1099.54,1445.72 1103.63,1445.72 1107.73,1445.72 1111.82,1445.72 1115.92,1445.72 1120.01,1445.72 1124.11,1445.72 1128.21,1445.72 1132.3,1445.72 1136.4,1445.72 1140.49,1445.72 1144.59,1445.72 1148.69,1445.72 1152.78,1445.72 1156.88,1445.72 1160.97,1445.72 1165.07,1445.72 1169.17,1445.72 1173.26,1445.72 1177.36,1445.72 1181.45,1445.72 1185.55,1445.72 1189.65,1445.72 1193.74,1445.72 1197.84,1445.72 1201.93,1445.72 1206.03,1445.72 1210.12,1445.72 1214.22,1445.72 1218.32,1445.72 1222.41,1445.72 1226.51,1445.72 1230.6,1445.72 1234.7,1445.72 1238.8,1445.72 1242.89,1445.72 1246.99,1445.72 1251.08,1445.72 1255.18,1445.72 1259.28,1445.72 1263.37,1445.72 1267.47,1445.72 1271.56,1445.72 1275.66,1445.72 1279.75,1445.72 1283.85,1445.72 1287.95,1445.72 1292.04,1445.72 1296.14,1445.72 1300.23,1445.72 1304.33,1445.72 1308.43,1445.72 1312.52,1445.72 1316.62,1445.72 1320.71,1445.72 1324.81,1445.72 1328.91,1445.72 1333,1445.72 1337.1,1445.72 1341.19,1445.72 1345.29,1445.72 1349.38,1445.72 1353.48,1445.72 1357.58,1445.72 1361.67,1445.72 1365.77,1445.72 1369.86,1445.72 1373.96,1445.72 1378.06,1445.72 1382.15,1445.72 1386.25,1445.72 1390.34,1445.72 1394.44,1445.72 1398.54,1445.72 1402.63,1445.72 1406.73,1445.72 1410.82,1445.72 1414.92,1445.72 1419.02,1445.72 1423.11,1445.72 1427.21,1445.72 1431.3,1445.72 1435.4,1445.72 1439.49,1445.72 1443.59,1445.72 1447.69,1445.72 1451.78,1445.72 1455.88,1445.72 1459.97,1445.72 1464.07,1445.72 1468.17,1445.72 1472.26,1445.72 1476.36,1445.72 1480.45,1445.72 1484.55,1445.72 1488.65,1445.72 1492.74,1445.72 1496.84,1445.72 1500.93,1445.72 1505.03,1445.72 1509.12,1445.72 1513.22,1445.72 1517.32,1445.72 1521.41,1445.72 1525.51,1445.72 1529.6,1445.72 1533.7,1445.72 1537.8,1445.72 1541.89,1445.72 1545.99,1445.72 1550.08,1445.72 1554.18,1445.72 1558.28,1445.72 1562.37,1445.72 1566.47,1445.72 1570.56,1445.72 1574.66,1445.72 1578.75,1445.72 1582.85,1445.72 1586.95,1445.72 1591.04,1445.72 1595.14,1445.72 1599.23,1445.72 1603.33,1445.72 1607.43,1445.72 1611.52,1445.72 1615.62,1445.72 1619.71,1445.72 1623.81,1445.72 1627.91,1445.72 1632,1445.72 1636.1,1445.72 1640.19,1445.72 1644.29,1445.72 1648.39,1445.72 1652.48,1445.72 1656.58,1445.72 1660.67,1445.72 1664.77,1445.72 1668.86,1445.72 1672.96,1445.72 1677.06,1445.72 1681.15,1445.72 1685.25,1445.72 1689.34,1445.72 1693.44,1445.72 1697.54,1445.72 1701.63,1445.72 1705.73,1445.72 1709.82,1445.72 1713.92,1445.72 1718.02,1445.72 1722.11,1445.72 1726.21,1445.72 1730.3,1445.72 1734.4,1445.72 1738.49,1445.72 1742.59,1445.72 1746.69,1445.72 1750.78,1445.72 1754.88,1445.72 1758.97,1445.72 1763.07,1445.72 1767.17,1445.72 1771.26,1445.72 1775.36,1445.72 1779.45,1445.72 1783.55,1445.72 1787.65,1445.72 1791.74,1445.72 1795.84,1445.72 1799.93,1445.72 1804.03,1445.72 1808.12,1445.72 1812.22,1445.72 1816.32,1445.72 1820.41,1445.72 1824.51,1445.72 1828.6,1445.72 1832.7,1445.72 1836.8,1445.72 1840.89,1445.72 1844.99,1445.72 1849.08,1445.72 1853.18,1445.72 1857.28,1445.72 1861.37,1445.72 1865.47,1445.72 1869.56,1445.72 1873.66,1445.72 1877.76,1445.72 1881.85,1445.72 1885.95,1445.72 1890.04,1445.72 1894.14,1445.72 1898.23,1445.72 1902.33,1445.72 1906.43,1445.72 1910.52,1445.72 1914.62,1445.72 1918.71,1445.72 1922.81,1445.72 1926.91,1445.72 1931,1445.72 1935.1,1445.72 1939.19,1445.72 1943.29,1445.72 1947.39,1445.72 1951.48,1445.72 1955.58,1445.72 1959.67,1445.72 1963.77,1445.72 1967.86,1445.72 1971.96,1445.72 1976.06,1445.72 1980.15,1445.72 1984.25,1445.72 1988.34,1445.72 1992.44,1445.72 1996.54,1445.72 2000.63,1445.72 2004.73,1445.72 2008.82,1445.72 2012.92,1445.72 2017.02,1445.72 2021.11,1445.72 2025.21,1445.72 2029.3,1445.72 2033.4,1445.72 2037.49,1445.72 2041.59,1445.72 2045.69,1445.72 2049.78,1445.72 2053.88,1445.72 2057.97,1445.72 2062.07,1445.72 2066.17,1445.72 2070.26,1445.72 2074.36,1445.72 2078.45,1445.72 2082.55,1445.72 2086.65,1445.72 2090.74,1445.72 2094.84,1445.72 2098.93,1445.72 2103.03,1445.72 2107.13,1445.72 2111.22,1445.72 2115.32,1445.72 2119.41,1445.72 2123.51,1445.72 2127.6,1445.72 2131.7,1445.72 2135.8,1445.72 2139.89,1445.72 2143.99,1445.72 2148.08,1445.72 2152.18,1445.72 2156.28,1445.72 2160.37,1445.72 2164.47,1445.72 2168.56,1445.72 2172.66,1445.72 2176.76,1445.72 2180.85,1445.72 2184.95,1445.72 2189.04,1445.72 2193.14,1445.72 2197.23,1445.72 2201.33,1445.72 2205.43,1445.72 2209.52,1445.72 2213.62,1445.72 2217.71,1445.72 2221.81,1378.95 2225.91,1235.37 2230,1091.79 2234.1,922.286 2238.19,751.977 2242.29,654.87 2246.39,638.669 2250.48,622.468 2254.58,510.827 2258.67,397.239 2262.77,289.799 2266.87,188.888 2270.96,87.9763 2275.06,149.044 2279.15,211.749 2283.25,219.524 2287.34,171.261 2291.44,122.998 \"/>\n",
       "<path clip-path=\"url(#clip060)\" d=\"M258.49 198.898 L527.569 198.898 L527.569 95.2176 L258.49 95.2176  Z\" fill=\"#ffffff\" fill-rule=\"evenodd\" fill-opacity=\"1\"/>\n",
       "<polyline clip-path=\"url(#clip060)\" style=\"stroke:#000000; stroke-linecap:round; stroke-linejoin:round; stroke-width:4; stroke-opacity:1; fill:none\" points=\"258.49,198.898 527.569,198.898 527.569,95.2176 258.49,95.2176 258.49,198.898 \"/>\n",
       "<polyline clip-path=\"url(#clip060)\" style=\"stroke:#009af9; stroke-linecap:round; stroke-linejoin:round; stroke-width:4; stroke-opacity:1; fill:none\" points=\"282.562,147.058 426.994,147.058 \"/>\n",
       "<path clip-path=\"url(#clip060)\" d=\"M464.909 166.745 Q463.103 171.375 461.39 172.787 Q459.677 174.199 456.807 174.199 L453.404 174.199 L453.404 170.634 L455.904 170.634 Q457.663 170.634 458.636 169.8 Q459.608 168.967 460.788 165.865 L461.552 163.921 L451.066 138.412 L455.58 138.412 L463.682 158.689 L471.784 138.412 L476.298 138.412 L464.909 166.745 Z\" fill=\"#000000\" fill-rule=\"nonzero\" fill-opacity=\"1\" /><path clip-path=\"url(#clip060)\" d=\"M483.589 160.402 L491.228 160.402 L491.228 134.037 L482.918 135.703 L482.918 131.444 L491.182 129.778 L495.858 129.778 L495.858 160.402 L503.497 160.402 L503.497 164.338 L483.589 164.338 L483.589 160.402 Z\" fill=\"#000000\" fill-rule=\"nonzero\" fill-opacity=\"1\" /></svg>\n"
      ]
     },
     "metadata": {},
     "output_type": "display_data"
    }
   ],
   "source": [
    "plot(x, y)"
   ]
  },
  {
   "cell_type": "code",
   "execution_count": 20,
   "metadata": {},
   "outputs": [
    {
     "name": "stdout",
     "output_type": "stream",
     "text": [
      "-------------------------------------------------------\n",
      "Version       : 4.12.2\n",
      "License       : GNU General Public License\n",
      "Build OS      : Linux64-sdk\n",
      "Build date    : 19700101\n",
      "Build host    : amdci7.julia.csail.mit.edu\n",
      "Build options : 64Bit ALGLIB[contrib] ANN[contrib] Bamg Blossom Cairo DIntegration Dlopen DomHex Eigen[contrib] Fltk GMP Gmm[contrib] Hxt Jpeg Kbipack LinuxJoystick MathEx[contrib] Mesh Metis[contrib] Mmg Mpeg Netgen ONELAB ONELABMetamodel OpenCASCADE OpenCASCADE-CAF OpenGL OpenMP OptHom Parser Plugins Png Post QuadMeshingTools QuadTri Solver TetGen/BR Voro++[contrib] WinslowUntangler Zlib\n",
      "FLTK version  : 1.3.8\n",
      "OCC version   : 7.6.2\n",
      "Packaged by   : root\n",
      "Web site      : https://gmsh.info\n",
      "Issue tracker : https://gitlab.onelab.info/gmsh/gmsh/issues\n",
      "-------------------------------------------------------\n"
     ]
    },
    {
     "name": "stderr",
     "output_type": "stream",
     "text": [
      "XOpenIM() failed\n",
      "XRequest.18: BadValue 0x0\n"
     ]
    }
   ],
   "source": [
    "gmsh.fltk.run()"
   ]
  },
  {
   "cell_type": "code",
   "execution_count": 21,
   "metadata": {},
   "outputs": [
    {
     "data": {
      "text/plain": [
       "(\"NodeData\", UInt64[0x0000000000000001, 0x0000000000000002, 0x0000000000000003, 0x0000000000000004, 0x0000000000000005, 0x0000000000000006, 0x0000000000000007, 0x0000000000000008, 0x0000000000000009, 0x000000000000000a  …  0x0000000000009dc8, 0x0000000000009dc9, 0x0000000000009dca, 0x0000000000009dcb, 0x0000000000009dcc, 0x0000000000009dcd, 0x0000000000009dce, 0x0000000000009dcf, 0x0000000000009dd0, 0x0000000000009dd1], [[0.0], [0.0], [0.0], [0.0], [0.0], [0.0], [0.0], [0.0], [0.0], [0.0]  …  [0.0], [0.0], [0.0], [0.0], [0.0], [0.0], [0.0], [0.0], [0.0], [0.0]], 0.0, 1)"
      ]
     },
     "metadata": {},
     "output_type": "display_data"
    }
   ],
   "source": [
    "dataType, tags, data, time, numComponents = gmsh.view.getModelData(s2, 0)"
   ]
  },
  {
   "cell_type": "code",
   "execution_count": 22,
   "metadata": {},
   "outputs": [],
   "source": [
    "gmsh.finalize()"
   ]
  },
  {
   "cell_type": "code",
   "execution_count": 23,
   "metadata": {},
   "outputs": [
    {
     "data": {
      "text/plain": [
       "(3, [1, 2, 3])"
      ]
     },
     "metadata": {},
     "output_type": "display_data"
    }
   ],
   "source": [
    "function vec_test(a; b=false)\n",
    "    if b == true\n",
    "        b = [i for i in 1:a]\n",
    "        return a, b\n",
    "    else\n",
    "        return a\n",
    "    end\n",
    "end\n",
    "\n",
    "vec_test(3, b=true)"
   ]
  }
 ],
 "metadata": {
  "kernelspec": {
   "display_name": "Julia 1.10.2",
   "language": "julia",
   "name": "julia-1.10"
  },
  "language_info": {
   "file_extension": ".jl",
   "mimetype": "application/julia",
   "name": "julia",
   "version": "1.10.2"
  }
 },
 "nbformat": 4,
 "nbformat_minor": 2
}
