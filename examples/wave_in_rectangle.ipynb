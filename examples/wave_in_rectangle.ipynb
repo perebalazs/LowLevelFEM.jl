{
 "cells": [
  {
   "cell_type": "code",
   "execution_count": 1,
   "metadata": {},
   "outputs": [],
   "source": [
    "using Plots"
   ]
  },
  {
   "cell_type": "code",
   "execution_count": 2,
   "metadata": {},
   "outputs": [],
   "source": [
    "import LowLevelFEM as FEM\n",
    "using LowLevelFEM\n",
    "using SparseArrays\n",
    "\n",
    "gmsh.initialize()"
   ]
  },
  {
   "cell_type": "code",
   "execution_count": 3,
   "metadata": {},
   "outputs": [
    {
     "name": "stdout",
     "output_type": "stream",
     "text": [
      "Info    : Reading 'wave_in_rectangle_2.geo'...\n",
      "Info    : Meshing 1D...\n",
      "Info    : [  0%] Meshing curve 1 (Line)\n",
      "Info    : [ 20%] Meshing curve 2 (Line)\n",
      "Info    : [ 30%] Meshing curve 3 (Line)\n",
      "Info    : [ 50%] Meshing curve 4 (Line)\n",
      "Info    : [ 60%] Meshing curve 5 (Line)\n",
      "Info    : [ 80%] Meshing curve 6 (Line)\n",
      "Info    : [ 90%] Meshing curve 7 (Line)\n",
      "Info    : Done meshing 1D (Wall 0.00104817s, CPU 0.001045s)\n",
      "Info    : Meshing 2D...\n",
      "Info    : Meshing surface 1 (Transfinite)\n",
      "Info    : Done meshing 2D (Wall 0.00748848s, CPU 0.006468s)\n",
      "Info    : 40401 nodes 40807 elements\n",
      "Info    : Done reading 'wave_in_rectangle_2.geo'\n"
     ]
    }
   ],
   "source": [
    "#gmsh.open(\"wave_in_rectangle.geo\")\n",
    "gmsh.open(\"wave_in_rectangle_2.geo\")"
   ]
  },
  {
   "cell_type": "code",
   "execution_count": 4,
   "metadata": {},
   "outputs": [
    {
     "name": "stdout",
     "output_type": "stream",
     "text": [
      "Info    : RCMK renumbering...\n",
      "Info    : Done RCMK renumbering (bandwidth is now 401)\n"
     ]
    },
    {
     "data": {
      "text/plain": [
       "LowLevelFEM.Problem(\"wave_in_rectangle_2\", \"PlaneStress\", 2, [(\"body\", 200000.0, 0.3, 7.85e-9)], 1.0, 40401)"
      ]
     },
     "metadata": {},
     "output_type": "display_data"
    }
   ],
   "source": [
    "mat = FEM.material(\"body\", E=2.e5, ν=0.3, ρ=7.85e-9)\n",
    "problem = FEM.Problem([mat], type=\"PlaneStress\")"
   ]
  },
  {
   "cell_type": "code",
   "execution_count": 5,
   "metadata": {},
   "outputs": [],
   "source": [
    "supp1 = FEM.displacementConstraint(\"left\", ux=0)\n",
    "supp2 = FEM.displacementConstraint(\"middle\", uy=0)\n",
    "load = FEM.load(\"source\", fx=-1);"
   ]
  },
  {
   "cell_type": "code",
   "execution_count": 6,
   "metadata": {},
   "outputs": [],
   "source": [
    "dof = problem.non * problem.dim\n",
    "u0 = zeros(dof)\n",
    "v0 = zeros(dof);"
   ]
  },
  {
   "cell_type": "code",
   "execution_count": 7,
   "metadata": {},
   "outputs": [
    {
     "data": {
      "text/plain": [
       "80802"
      ]
     },
     "metadata": {},
     "output_type": "display_data"
    }
   ],
   "source": [
    "K = FEM.stiffnessMatrix(problem)\n",
    "M = FEM.massMatrix(problem)\n",
    "f = FEM.loadVector(problem, [load])\n",
    "C = spzeros(dof, dof)\n",
    "dof"
   ]
  },
  {
   "cell_type": "code",
   "execution_count": 8,
   "metadata": {},
   "outputs": [],
   "source": [
    "FEM.applyBoundaryConditions!(problem, K, M, C, f, [supp1, supp2]);"
   ]
  },
  {
   "cell_type": "code",
   "execution_count": 9,
   "metadata": {},
   "outputs": [
    {
     "data": {
      "text/plain": [
       "2.964524311460139e-7"
      ]
     },
     "metadata": {},
     "output_type": "display_data"
    }
   ],
   "source": [
    "Tₘᵢₙ = FEM.smallestPeriodTime(K, M)"
   ]
  },
  {
   "cell_type": "code",
   "execution_count": 10,
   "metadata": {},
   "outputs": [
    {
     "data": {
      "text/plain": [
       "([0.0 0.0 0.0 0.0; 0.0 0.0 0.0 0.0; … ; 0.0 0.0 0.0 0.0; 0.0 0.0 0.0 0.0], [0.0 0.0 0.0 0.0; 0.0 0.0 0.0 0.0; … ; 0.0 0.0 0.0 0.0; 0.0 0.0 0.0 0.0], [0.0, 9.436373961699573e-8, 1.8872747923399146e-7, 2.830912188509872e-7])"
      ]
     },
     "metadata": {},
     "output_type": "display_data"
    }
   ],
   "source": [
    "u1, v1, t1 = FEM.CDM(K, M, C, f, u0, v0, Tₘᵢₙ, Tₘᵢₙ / π)"
   ]
  },
  {
   "cell_type": "code",
   "execution_count": 11,
   "metadata": {},
   "outputs": [
    {
     "data": {
      "text/plain": [
       "([0.0 0.0 … 0.0 0.0; 0.0 0.0 … 0.0 0.0; … ; 0.0 0.0 … 0.0 0.0; 0.0 0.0 … 0.0 0.0], [0.0 0.0 … 0.0 0.0; 0.0 0.0 … 0.0 0.0; … ; 0.0 0.0 … 0.0 0.0; 0.0 0.0 … 0.0 0.0], [0.0, 9.436373961699573e-8, 1.8872747923399146e-7, 2.830912188509872e-7, 3.774549584679829e-7, 4.718186980849786e-7, 5.661824377019743e-7, 6.6054617731897e-7, 7.549099169359657e-7, 8.492736565529614e-7  …  5.001278199700779e-6, 5.095641939317775e-6, 5.190005678934771e-6, 5.284369418551767e-6, 5.378733158168763e-6, 5.473096897785759e-6, 5.567460637402755e-6, 5.661824377019751e-6, 5.7561881166367466e-6, 5.8505518562537425e-6])"
      ]
     },
     "metadata": {},
     "output_type": "display_data"
    }
   ],
   "source": [
    "sts = length(t1)\n",
    "u0 = u1[:, sts]\n",
    "v0 = v1[:, sts]\n",
    "\n",
    "f .*= 0\n",
    "u2, v2, t2 = FEM.CDM(K, M, C, f, u0, v0, 20Tₘᵢₙ, Tₘᵢₙ / π)"
   ]
  },
  {
   "cell_type": "code",
   "execution_count": 12,
   "metadata": {},
   "outputs": [
    {
     "data": {
      "text/plain": [
       "([0.0 0.0 … 0.0 0.0; 0.0 -1.4868664465136907e-170 … -5.8172336216717e-88 -4.99092368666419e-87; … ; 0.0 4.016068227498792e-82 … 2.596202594362258e-21 8.645825773493212e-21; 0.0 4.1006128407071147e-81 … 2.1561043577627583e-20 7.160205544408752e-20], [0.0 0.0 … 0.0 0.0; 0.0 -3.1513512553626963e-163 … -9.793057578881493e-81 -8.365809945226449e-80; … ; 0.0 8.511888663588874e-75 … 2.996342242792651e-14 9.825581101248632e-14; 0.0 8.691077435783518e-74 … 2.4837861641602186e-13 8.122197038618047e-13], [0.0, 9.436373961699573e-8, 1.8872747923399146e-7, 2.830912188509872e-7, 3.774549584679829e-7, 4.718186980849786e-7, 5.661824377019743e-7, 6.6054617731897e-7, 7.549099169359657e-7, 8.492736565529614e-7  …  5.001278199700779e-6, 5.095641939317775e-6, 5.190005678934771e-6, 5.284369418551767e-6, 5.378733158168763e-6, 5.473096897785759e-6, 5.567460637402755e-6, 5.661824377019751e-6, 5.7561881166367466e-6, 5.8505518562537425e-6])"
      ]
     },
     "metadata": {},
     "output_type": "display_data"
    }
   ],
   "source": [
    "sts = length(t1)\n",
    "u0 = u1[:, sts]\n",
    "v0 = v1[:, sts]\n",
    "\n",
    "f .*= 0\n",
    "u3, v3, t3 = FEM.HHT(K, M, f, u0, v0, 20Tₘᵢₙ, Tₘᵢₙ / π)"
   ]
  },
  {
   "cell_type": "code",
   "execution_count": 13,
   "metadata": {},
   "outputs": [
    {
     "ename": "UndefVarError",
     "evalue": "UndefVarError: `HHTdampingCharacter` not defined in `LowLevelFEM`\nSuggestion: check for spelling errors or missing imports.",
     "output_type": "error",
     "traceback": [
      "UndefVarError: `HHTdampingCharacter` not defined in `LowLevelFEM`\n",
      "Suggestion: check for spelling errors or missing imports.\n",
      "\n",
      "Stacktrace:\n",
      " [1] getproperty(x::Module, f::Symbol)\n",
      "   @ Base ./Base.jl:42\n",
      " [2] top-level scope\n",
      "   @ ~/Dokumentumok/GitHub/LowLevelFEM.jl/examples/jl_notebook_cell_df34fa98e69747e1a8f8a730347b8e2f_X15sZmlsZQ==.jl:1"
     ]
    }
   ],
   "source": [
    "plt = FEM.HHTdampingCharacter(2π / Tₘᵢₙ, 10Tₘᵢₙ / π, γ=0.9, β=0.49)\n",
    "plot(plt)"
   ]
  },
  {
   "cell_type": "code",
   "execution_count": 14,
   "metadata": {},
   "outputs": [],
   "source": [
    "gmsh.option.setNumber(\"General.Trackball\", 0)\n",
    "gmsh.option.setNumber(\"General.RotationX\", 298)\n",
    "gmsh.option.setNumber(\"General.RotationY\", 346)\n",
    "gmsh.option.setNumber(\"General.RotationZ\", 332)"
   ]
  },
  {
   "cell_type": "code",
   "execution_count": 15,
   "metadata": {},
   "outputs": [
    {
     "name": "stderr",
     "output_type": "stream",
     "text": [
      "Warning : View[1] does not exist\n",
      "Warning : View[1] does not exist\n",
      "Warning : View[1] does not exist\n",
      "Warning : View[1] does not exist\n"
     ]
    }
   ],
   "source": [
    "vvec1 = FEM.showDoFResults(problem, v1, t=t1, \"vvec\", name=\"v1(t)\", visible=false)\n",
    "gmsh.option.setNumber(\"Mesh.SurfaceEdges\", 0)\n",
    "gmsh.option.setNumber(\"View[$vvec1].NormalRaise\", 5)\n",
    "gmsh.option.setNumber(\"View[$vvec1].VectorType\", 5)\n",
    "gmsh.option.setNumber(\"View[$vvec1].IntervalsType\", 3)\n",
    "gmsh.option.setNumber(\"View[$vvec1].NbIso\", 20)"
   ]
  },
  {
   "cell_type": "code",
   "execution_count": 16,
   "metadata": {},
   "outputs": [
    {
     "name": "stderr",
     "output_type": "stream",
     "text": [
      "Warning : View[2] does not exist\n",
      "Warning : View[2] does not exist\n",
      "Warning : View[2] does not exist\n",
      "Warning : View[2] does not exist\n"
     ]
    }
   ],
   "source": [
    "vvec2 = FEM.showDoFResults(problem, v2, t=t2, \"vvec\", name=\"v2(t) CDM\", visible=true)\n",
    "gmsh.option.setNumber(\"Mesh.SurfaceEdges\", 0)\n",
    "gmsh.option.setNumber(\"View[$vvec2].NormalRaise\", 5)\n",
    "gmsh.option.setNumber(\"View[$vvec2].VectorType\", 5)\n",
    "gmsh.option.setNumber(\"View[$vvec2].IntervalsType\", 3)\n",
    "gmsh.option.setNumber(\"View[$vvec2].NbIso\", 20)"
   ]
  },
  {
   "cell_type": "code",
   "execution_count": 17,
   "metadata": {},
   "outputs": [
    {
     "name": "stderr",
     "output_type": "stream",
     "text": [
      "Warning : View[3] does not exist\n",
      "Warning : View[3] does not exist\n",
      "Warning : View[3] does not exist\n",
      "Warning : View[3] does not exist\n"
     ]
    }
   ],
   "source": [
    "vvec3 = FEM.showDoFResults(problem, v3, t=t3, \"vvec\", name=\"v3(t) HHT\", visible=false)\n",
    "gmsh.option.setNumber(\"Mesh.SurfaceEdges\", 0)\n",
    "gmsh.option.setNumber(\"View[$vvec3].NormalRaise\", 5)\n",
    "gmsh.option.setNumber(\"View[$vvec3].VectorType\", 5)\n",
    "gmsh.option.setNumber(\"View[$vvec3].IntervalsType\", 3)\n",
    "gmsh.option.setNumber(\"View[$vvec3].NbIso\", 20)"
   ]
  },
  {
   "cell_type": "code",
   "execution_count": 18,
   "metadata": {},
   "outputs": [
    {
     "data": {
      "text/plain": [
       "LowLevelFEM.StressField([[0.0 0.0 … 0.0 0.0; 0.0 0.0 … 0.0 0.0; … ; 0.0 0.0 … 0.0 0.0; 0.0 0.0 … 0.0 0.0], [0.0 0.0 … 0.0 0.0; 0.0 0.0 … 0.0 0.0; … ; 0.0 0.0 … 0.0 0.0; 0.0 0.0 … 0.0 0.0], [0.0 0.0 … 0.0 0.0; 0.0 0.0 … 0.0 0.0; … ; 0.0 0.0 … 0.0 0.0; 0.0 0.0 … 0.0 0.0], [0.0 0.0 … 0.0 0.0; 0.0 0.0 … 0.0 0.0; … ; 0.0 0.0 … 0.0 0.0; 0.0 0.0 … 0.0 0.0], [0.0 0.0 … 0.0 0.0; 0.0 0.0 … 0.0 0.0; … ; 0.0 0.0 … 0.0 0.0; 0.0 0.0 … 0.0 0.0], [0.0 0.0 … 0.0 0.0; 0.0 0.0 … 0.0 0.0; … ; 0.0 0.0 … 0.0 0.0; 0.0 0.0 … 0.0 0.0], [0.0 0.0 … 0.0 0.0; 0.0 0.0 … 0.0 0.0; … ; 0.0 0.0 … 0.0 0.0; 0.0 0.0 … 0.0 0.0], [0.0 0.0 … 0.0 0.0; 0.0 0.0 … 0.0 0.0; … ; 0.0 0.0 … 0.0 0.0; 0.0 0.0 … 0.0 0.0], [0.0 0.0 … 0.0 0.0; 0.0 0.0 … 0.0 0.0; … ; 0.0 0.0 … 0.0 0.0; 0.0 0.0 … 0.0 0.0], [0.0 0.0 … 0.0 0.0; 0.0 0.0 … 0.0 0.0; … ; 0.0 0.0 … 0.0 0.0; 0.0 0.0 … 0.0 0.0]  …  [0.0 0.0 … 0.0 0.0; 0.0 0.0 … 0.0 0.0; … ; 0.0 0.0 … 0.0 0.0; 0.0 0.0 … 0.0 0.0], [0.0 0.0 … 0.0 0.0; 0.0 0.0 … 0.0 0.0; … ; 0.0 0.0 … 0.0 0.0; 0.0 0.0 … 0.0 0.0], [0.0 0.0 … 0.0 0.0; 0.0 0.0 … 0.0 0.0; … ; 0.0 0.0 … 0.0 0.0; 0.0 0.0 … 0.0 0.0], [0.0 0.0 … 0.0 0.0; 0.0 0.0 … 0.0 0.0; … ; 0.0 0.0 … 0.0 0.0; 0.0 0.0 … 0.0 0.0], [0.0 0.0 … 0.0 0.0; 0.0 0.0 … 0.0 0.0; … ; 0.0 0.0 … 0.0 0.0; 0.0 0.0 … 0.0 0.0], [0.0 0.0 … 0.0 0.0; 0.0 0.0 … 0.0 0.0; … ; 0.0 0.0 … 0.0 0.0; 0.0 0.0 … 0.0 0.0], [0.0 0.0 … 0.0 0.0; 0.0 0.0 … 0.0 0.0; … ; 0.0 0.0 … 0.0 0.0; 0.0 0.0 … 0.0 0.0], [0.0 0.0 … 0.0 0.0; 0.0 0.0 … 0.0 0.0; … ; 0.0 0.0 … 0.0 0.0; 0.0 0.0 … 0.0 0.0], [0.0 0.0 … 0.0 0.0; 0.0 0.0 … 0.0 0.0; … ; 0.0 0.0 … 0.0 0.0; 0.0 0.0 … 0.0 0.0], [0.0 0.0 … 0.0 0.0; 0.0 0.0 … 0.0 0.0; … ; 0.0 0.0 … 0.0 0.0; 0.0 0.0 … 0.0 0.0]], [808, 809, 810, 811, 812, 813, 814, 815, 816, 817  …  40798, 40799, 40800, 40801, 40802, 40803, 40804, 40805, 40806, 40807], 63)"
      ]
     },
     "metadata": {},
     "output_type": "display_data"
    }
   ],
   "source": [
    "S2 = FEM.solveStress(problem, u2)"
   ]
  },
  {
   "cell_type": "code",
   "execution_count": 19,
   "metadata": {},
   "outputs": [
    {
     "name": "stdout",
     "output_type": "stream",
     "text": [
      "Info    : Running Plugin(Smooth)...\n",
      "Info    : Done running Plugin(Smooth)\n"
     ]
    },
    {
     "name": "stderr",
     "output_type": "stream",
     "text": [
      "Warning : View[4] does not exist\n",
      "Warning : View[4] does not exist\n",
      "Warning : View[4] does not exist\n"
     ]
    }
   ],
   "source": [
    "s2 = FEM.showStressResults(problem, S2, \"seqv\", name=\"σ(t)\", t=t2, visible=false, smooth=true)\n",
    "gmsh.option.setNumber(\"Mesh.SurfaceEdges\", 0)\n",
    "gmsh.option.setNumber(\"View[$s2].NormalRaise\", 100)\n",
    "#gmsh.option.setNumber(\"View[$s2].VectorType\", 5)\n",
    "gmsh.option.setNumber(\"View[$s2].IntervalsType\", 3)\n",
    "gmsh.option.setNumber(\"View[$s2].NbIso\", 20)"
   ]
  },
  {
   "cell_type": "code",
   "execution_count": 20,
   "metadata": {},
   "outputs": [],
   "source": [
    "#seqv = FEM.showStressResults(problem, S2, \"seqv\", name=\"σeqv(t)\", t=t2, visible=false, smooth=true)\n",
    "#gmsh.option.setNumber(\"Mesh.SurfaceEdges\", 0)\n",
    "#gmsh.option.setNumber(\"View[$seqv].NormalRaise\", 100)\n",
    "##gmsh.option.setNumber(\"View[$seqv].VectorType\", 5)\n",
    "#gmsh.option.setNumber(\"View[$seqv].IntervalsType\", 3)\n",
    "#gmsh.option.setNumber(\"View[$seqv].NbIso\", 20)"
   ]
  },
  {
   "cell_type": "code",
   "execution_count": 21,
   "metadata": {},
   "outputs": [
    {
     "name": "stderr",
     "output_type": "stream",
     "text": [
      "┌ Warning: plotOnPath: step is greater than max. number of steps (max. number is chosen)  100 <==> 63!\n",
      "└ @ LowLevelFEM /home/perebal/Dokumentumok/GitHub/LowLevelFEM.jl/src/LowLevelFEM.jl:2179\n"
     ]
    },
    {
     "ename": "BoundsError",
     "evalue": "BoundsError: attempt to access 2000-element Vector{Any} at index [2004]",
     "output_type": "error",
     "traceback": [
      "BoundsError: attempt to access 2000-element Vector{Any} at index [2004]\n",
      "\n",
      "Stacktrace:\n",
      " [1] throw_boundserror(A::Vector{Any}, I::Tuple{Int64})\n",
      "   @ Base ./essentials.jl:14\n",
      " [2] getindex\n",
      "   @ ./essentials.jl:916 [inlined]\n",
      " [3] plotOnPath(problem::LowLevelFEM.Problem, pathName::String, field::Int32, points::Int64; step::Int64, plot::Bool, name::String, visible::Bool)\n",
      "   @ LowLevelFEM ~/Dokumentumok/GitHub/LowLevelFEM.jl/src/LowLevelFEM.jl:2230\n",
      " [4] top-level scope\n",
      "   @ ~/Dokumentumok/GitHub/LowLevelFEM.jl/examples/jl_notebook_cell_df34fa98e69747e1a8f8a730347b8e2f_X26sZmlsZQ==.jl:1"
     ]
    }
   ],
   "source": [
    "ph, x, y = FEM.plotOnPath(problem, \"path\", s2, 500, step=100, plot=true)\n",
    "#ph = FEM.plotOnPath(problem, \"path\", s2, 500, step=1, plot=false)"
   ]
  },
  {
   "cell_type": "code",
   "execution_count": 22,
   "metadata": {},
   "outputs": [
    {
     "ename": "UndefVarError",
     "evalue": "UndefVarError: `x` not defined in `Main`\nSuggestion: check for spelling errors or missing imports.",
     "output_type": "error",
     "traceback": [
      "UndefVarError: `x` not defined in `Main`\n",
      "Suggestion: check for spelling errors or missing imports.\n",
      "\n",
      "Stacktrace:\n",
      " [1] top-level scope\n",
      "   @ ~/Dokumentumok/GitHub/LowLevelFEM.jl/examples/jl_notebook_cell_df34fa98e69747e1a8f8a730347b8e2f_X30sZmlsZQ==.jl:1"
     ]
    }
   ],
   "source": [
    "plot(x, y)"
   ]
  },
  {
   "cell_type": "code",
   "execution_count": 23,
   "metadata": {},
   "outputs": [
    {
     "name": "stdout",
     "output_type": "stream",
     "text": [
      "-------------------------------------------------------\n",
      "Version       : 4.13.1\n",
      "License       : GNU General Public License\n",
      "Build OS      : Linux64-sdk\n",
      "Build date    : 19700101\n",
      "Build host    : amdci7.julia.csail.mit.edu\n",
      "Build options : 64Bit ALGLIB[contrib] ANN[contrib] Bamg Blossom Cairo DIntegration Dlopen DomHex Eigen[contrib] Fltk GMP Gmm[contrib] Hxt Jpeg Kbipack LinuxJoystick MathEx[contrib] Mesh Metis[contrib] Mmg Mpeg Netgen Nii2mesh ONELAB ONELABMetamodel OpenCASCADE OpenCASCADE-CAF OpenGL OpenMP OptHom Parser Plugins Png Post QuadMeshingTools QuadTri Solver TetGen/BR TinyXML2[contrib] Untangle Voro++[contrib] WinslowUntangler Zlib\n",
      "FLTK version  : 1.3.8\n",
      "OCC version   : 7.7.2\n",
      "Packaged by   : root\n",
      "Web site      : https://gmsh.info\n",
      "Issue tracker : https://gitlab.onelab.info/gmsh/gmsh/issues\n",
      "-------------------------------------------------------\n",
      "Info    : No or invalid current view: saving View[0]\n",
      "Info    : Writing '/home/perebal/tmp/para/wave'...\n",
      "Info    : Writing VTK data in /home/perebal/tmp/para/wave/data0.vtu: fieldname = v1(t) - numElm = 40000 - numNod = 90000 nodes\n",
      "Info    : Writing VTK data in /home/perebal/tmp/para/wave/data1.vtu: fieldname = v1(t) - numElm = 40000 - numNod = 90000 nodes\n",
      "Info    : Writing VTK data in /home/perebal/tmp/para/wave/data2.vtu: fieldname = v1(t) - numElm = 40000 - numNod = 90000 nodes\n",
      "Info    : Writing VTK data in /home/perebal/tmp/para/wave/data3.vtu: fieldname = v1(t) - numElm = 40000 - numNod = 90000 nodes\n",
      "Info    : Done writing VTK data\n",
      "Info    : Writing '/home/perebal/tmp/para/wave2_0'...\n",
      "Info    : Writing VTK data in /home/perebal/tmp/para/wave2_0/data0.vtu: fieldname = v1(t) - numElm = 40000 - numNod = 90000 nodes\n",
      "Info    : Writing VTK data in /home/perebal/tmp/para/wave2_0/data1.vtu: fieldname = v1(t) - numElm = 40000 - numNod = 90000 nodes\n",
      "Info    : Writing VTK data in /home/perebal/tmp/para/wave2_0/data2.vtu: fieldname = v1(t) - numElm = 40000 - numNod = 90000 nodes\n",
      "Info    : Writing VTK data in /home/perebal/tmp/para/wave2_0/data3.vtu: fieldname = v1(t) - numElm = 40000 - numNod = 90000 nodes\n",
      "Info    : Done writing VTK data\n",
      "Info    : Writing '/home/perebal/tmp/para/wave2_1'...\n",
      "Info    : Writing VTK data in /home/perebal/tmp/para/wave2_1/data0.vtu: fieldname = v2(t) CDM - numElm = 40000 - numNod = 90000 nodes\n",
      "Info    : Writing VTK data in /home/perebal/tmp/para/wave2_1/data1.vtu: fieldname = v2(t) CDM - numElm = 40000 - numNod = 90000 nodes\n",
      "Info    : Writing VTK data in /home/perebal/tmp/para/wave2_1/data2.vtu: fieldname = v2(t) CDM - numElm = 40000 - numNod = 90000 nodes\n",
      "Info    : Writing VTK data in /home/perebal/tmp/para/wave2_1/data3.vtu: fieldname = v2(t) CDM - numElm = 40000 - numNod = 90000 nodes\n",
      "Info    : Done writing VTK data\n",
      "Info    : Writing '/home/perebal/tmp/para/wave2_2'...\n",
      "Info    : Writing VTK data in /home/perebal/tmp/para/wave2_2/data0.vtu: fieldname = v3(t) HHT - numElm = 40000 - numNod = 90000 nodes\n",
      "Info    : Writing VTK data in /home/perebal/tmp/para/wave2_2/data1.vtu: fieldname = v3(t) HHT - numElm = 40000 - numNod = 90000 nodes\n",
      "Info    : Writing VTK data in /home/perebal/tmp/para/wave2_2/data2.vtu: fieldname = v3(t) HHT - numElm = 40000 - numNod = 90000 nodes\n",
      "Info    : Writing VTK data in /home/perebal/tmp/para/wave2_2/data3.vtu: fieldname = v3(t) HHT - numElm = 40000 - numNod = 90000 nodes\n",
      "Info    : Done writing VTK data\n",
      "Info    : Writing '/home/perebal/tmp/para/wave2_3'...\n",
      "Info    : Writing VTK data in /home/perebal/tmp/para/wave2_3/data0.vtu: fieldname = σ(t) - numElm = 40000 - numNod = 90000 nodes\n",
      "Info    : Writing VTK data in /home/perebal/tmp/para/wave2_3/data1.vtu: fieldname = σ(t) - numElm = 40000 - numNod = 90000 nodes\n",
      "Info    : Writing VTK data in /home/perebal/tmp/para/wave2_3/data2.vtu: fieldname = σ(t) - numElm = 40000 - numNod = 90000 nodes\n",
      "Info    : Writing VTK data in /home/perebal/tmp/para/wave2_3/data3.vtu: fieldname = σ(t) - numElm = 40000 - numNod = 90000 nodes\n",
      "Info    : Done writing VTK data\n",
      "Info    : Writing '/home/perebal/tmp/para/wave2_4'...\n",
      "Info    : Done writing VTK data\n",
      "Info    : Writing '/home/perebal/tmp/para/ww'...\n",
      "Info    : Done writing '/home/perebal/tmp/para/ww'\n",
      "Info    : Writing '/home/perebal/tmp/para/ss'...\n",
      "Info    : Done writing '/home/perebal/tmp/para/ss'\n",
      "Info    : Writing '/home/perebal/tmp/para/ww_0'...\n",
      "Info    : Writing VTK data in /home/perebal/tmp/para/ww_0/data0.vtu: fieldname = v1(t) - numElm = 40000 - numNod = 90000 nodes\n",
      "Info    : Writing VTK data in /home/perebal/tmp/para/ww_0/data1.vtu: fieldname = v1(t) - numElm = 40000 - numNod = 90000 nodes\n",
      "Info    : Writing VTK data in /home/perebal/tmp/para/ww_0/data2.vtu: fieldname = v1(t) - numElm = 40000 - numNod = 90000 nodes\n",
      "Info    : Writing VTK data in /home/perebal/tmp/para/ww_0/data3.vtu: fieldname = v1(t) - numElm = 40000 - numNod = 90000 nodes\n",
      "Info    : Done writing VTK data\n",
      "Info    : Writing '/home/perebal/tmp/para/ww_1'...\n",
      "Info    : Writing VTK data in /home/perebal/tmp/para/ww_1/data0.vtu: fieldname = v2(t) CDM - numElm = 40000 - numNod = 90000 nodes\n",
      "Info    : Writing VTK data in /home/perebal/tmp/para/ww_1/data1.vtu: fieldname = v2(t) CDM - numElm = 40000 - numNod = 90000 nodes\n",
      "Info    : Writing VTK data in /home/perebal/tmp/para/ww_1/data2.vtu: fieldname = v2(t) CDM - numElm = 40000 - numNod = 90000 nodes\n",
      "Info    : Writing VTK data in /home/perebal/tmp/para/ww_1/data3.vtu: fieldname = v2(t) CDM - numElm = 40000 - numNod = 90000 nodes\n",
      "Info    : Done writing VTK data\n",
      "Info    : Writing '/home/perebal/tmp/para/ww_2'...\n",
      "Info    : Writing VTK data in /home/perebal/tmp/para/ww_2/data0.vtu: fieldname = v3(t) HHT - numElm = 40000 - numNod = 90000 nodes\n",
      "Info    : Writing VTK data in /home/perebal/tmp/para/ww_2/data1.vtu: fieldname = v3(t) HHT - numElm = 40000 - numNod = 90000 nodes\n",
      "Info    : Writing VTK data in /home/perebal/tmp/para/ww_2/data2.vtu: fieldname = v3(t) HHT - numElm = 40000 - numNod = 90000 nodes\n",
      "Info    : Writing VTK data in /home/perebal/tmp/para/ww_2/data3.vtu: fieldname = v3(t) HHT - numElm = 40000 - numNod = 90000 nodes\n",
      "Info    : Done writing VTK data\n",
      "Info    : Writing '/home/perebal/tmp/para/ww_3'...\n",
      "Info    : Writing VTK data in /home/perebal/tmp/para/ww_3/data0.vtu: fieldname = σ(t) - numElm = 40000 - numNod = 90000 nodes\n",
      "Info    : Writing VTK data in /home/perebal/tmp/para/ww_3/data1.vtu: fieldname = σ(t) - numElm = 40000 - numNod = 90000 nodes\n",
      "Info    : Writing VTK data in /home/perebal/tmp/para/ww_3/data2.vtu: fieldname = σ(t) - numElm = 40000 - numNod = 90000 nodes\n",
      "Info    : Writing VTK data in /home/perebal/tmp/para/ww_3/data3.vtu: fieldname = σ(t) - numElm = 40000 - numNod = 90000 nodes\n",
      "Info    : Done writing VTK data\n",
      "Info    : Writing '/home/perebal/tmp/para/ww_4'...\n",
      "Info    : Done writing VTK data\n"
     ]
    },
    {
     "name": "stderr",
     "output_type": "stream",
     "text": [
      "XOpenIM() failed\n",
      "XRequest.18: BadValue 0x0\n",
      "Warning : Discarding interpolation matrices when saving in .pos format\n",
      "Warning : Only parsed .pos files can be exported for this view type\n",
      "Error   : Unknown output file format\n"
     ]
    }
   ],
   "source": [
    "gmsh.fltk.run()"
   ]
  },
  {
   "cell_type": "code",
   "execution_count": 24,
   "metadata": {},
   "outputs": [
    {
     "data": {
      "text/plain": [
       "(\"NodeData\", UInt64[0x0000000000000001, 0x0000000000000002, 0x0000000000000003, 0x0000000000000004, 0x0000000000000005, 0x0000000000000006, 0x0000000000000007, 0x0000000000000008, 0x0000000000000009, 0x000000000000000a  …  0x0000000000009dc8, 0x0000000000009dc9, 0x0000000000009dca, 0x0000000000009dcb, 0x0000000000009dcc, 0x0000000000009dcd, 0x0000000000009dce, 0x0000000000009dcf, 0x0000000000009dd0, 0x0000000000009dd1], [[0.0], [0.0], [0.5739398478129156], [0.5739398478129276], [0.0], [0.0], [0.0], [0.0], [0.0], [0.0]  …  [0.0], [0.0], [0.0], [0.0], [0.0], [0.0], [0.0], [0.0], [0.0], [0.0]], 0.0, 1)"
      ]
     },
     "metadata": {},
     "output_type": "display_data"
    }
   ],
   "source": [
    "dataType, tags, data, time, numComponents = gmsh.view.getModelData(s2, 0)"
   ]
  },
  {
   "cell_type": "code",
   "execution_count": 25,
   "metadata": {},
   "outputs": [],
   "source": [
    "gmsh.finalize()"
   ]
  },
  {
   "cell_type": "code",
   "execution_count": 26,
   "metadata": {},
   "outputs": [
    {
     "data": {
      "text/plain": [
       "(3, [1, 2, 3])"
      ]
     },
     "metadata": {},
     "output_type": "display_data"
    }
   ],
   "source": [
    "function vec_test(a; b=false)\n",
    "    if b == true\n",
    "        b = [i for i in 1:a]\n",
    "        return a, b\n",
    "    else\n",
    "        return a\n",
    "    end\n",
    "end\n",
    "\n",
    "vec_test(3, b=true)"
   ]
  },
  {
   "cell_type": "code",
   "execution_count": 27,
   "metadata": {},
   "outputs": [
    {
     "data": {
      "image/png": "[encoded data removed]",
      "image/svg+xml": [
       "<?xml version=\"1.0\" encoding=\"utf-8\"?>\n",
       "<svg xmlns=\"http://www.w3.org/2000/svg\" xmlns:xlink=\"http://www.w3.org/1999/xlink\" width=\"600\" height=\"400\" viewBox=\"0 0 2400 1600\">\n",
       "<defs>\n",
       "  <clipPath id=\"clip420\">\n",
       "    <rect x=\"0\" y=\"0\" width=\"2400\" height=\"1600\"/>\n",
       "  </clipPath>\n",
       "</defs>\n",
       "<path clip-path=\"url(#clip420)\" d=\"M0 1600 L2400 1600 L2400 0 L0 0  Z\" fill=\"#ffffff\" fill-rule=\"evenodd\" fill-opacity=\"1\"/>\n",
       "<defs>\n",
       "  <clipPath id=\"clip421\">\n",
       "    <rect x=\"480\" y=\"0\" width=\"1681\" height=\"1600\"/>\n",
       "  </clipPath>\n",
       "</defs>\n",
       "<path clip-path=\"url(#clip420)\" d=\"M193.936 1486.45 L2352.76 1486.45 L2352.76 47.2441 L193.936 47.2441  Z\" fill=\"#ffffff\" fill-rule=\"evenodd\" fill-opacity=\"1\"/>\n",
       "<defs>\n",
       "  <clipPath id=\"clip422\">\n",
       "    <rect x=\"193\" y=\"47\" width=\"2160\" height=\"1440\"/>\n",
       "  </clipPath>\n",
       "</defs>\n",
       "<polyline clip-path=\"url(#clip422)\" style=\"stroke:#000000; stroke-linecap:round; stroke-linejoin:round; stroke-width:2; stroke-opacity:0.1; fill:none\" points=\"255.035,1486.45 255.035,47.2441 \"/>\n",
       "<polyline clip-path=\"url(#clip422)\" style=\"stroke:#000000; stroke-linecap:round; stroke-linejoin:round; stroke-width:2; stroke-opacity:0.1; fill:none\" points=\"579.338,1486.45 579.338,47.2441 \"/>\n",
       "<polyline clip-path=\"url(#clip422)\" style=\"stroke:#000000; stroke-linecap:round; stroke-linejoin:round; stroke-width:2; stroke-opacity:0.1; fill:none\" points=\"903.641,1486.45 903.641,47.2441 \"/>\n",
       "<polyline clip-path=\"url(#clip422)\" style=\"stroke:#000000; stroke-linecap:round; stroke-linejoin:round; stroke-width:2; stroke-opacity:0.1; fill:none\" points=\"1227.94,1486.45 1227.94,47.2441 \"/>\n",
       "<polyline clip-path=\"url(#clip422)\" style=\"stroke:#000000; stroke-linecap:round; stroke-linejoin:round; stroke-width:2; stroke-opacity:0.1; fill:none\" points=\"1552.25,1486.45 1552.25,47.2441 \"/>\n",
       "<polyline clip-path=\"url(#clip422)\" style=\"stroke:#000000; stroke-linecap:round; stroke-linejoin:round; stroke-width:2; stroke-opacity:0.1; fill:none\" points=\"1876.55,1486.45 1876.55,47.2441 \"/>\n",
       "<polyline clip-path=\"url(#clip422)\" style=\"stroke:#000000; stroke-linecap:round; stroke-linejoin:round; stroke-width:2; stroke-opacity:0.1; fill:none\" points=\"2200.85,1486.45 2200.85,47.2441 \"/>\n",
       "<polyline clip-path=\"url(#clip422)\" style=\"stroke:#000000; stroke-linecap:round; stroke-linejoin:round; stroke-width:2; stroke-opacity:0.1; fill:none\" points=\"193.936,1445.72 2352.76,1445.72 \"/>\n",
       "<polyline clip-path=\"url(#clip422)\" style=\"stroke:#000000; stroke-linecap:round; stroke-linejoin:round; stroke-width:2; stroke-opacity:0.1; fill:none\" points=\"193.936,1106.28 2352.76,1106.28 \"/>\n",
       "<polyline clip-path=\"url(#clip422)\" style=\"stroke:#000000; stroke-linecap:round; stroke-linejoin:round; stroke-width:2; stroke-opacity:0.1; fill:none\" points=\"193.936,766.847 2352.76,766.847 \"/>\n",
       "<polyline clip-path=\"url(#clip422)\" style=\"stroke:#000000; stroke-linecap:round; stroke-linejoin:round; stroke-width:2; stroke-opacity:0.1; fill:none\" points=\"193.936,427.411 2352.76,427.411 \"/>\n",
       "<polyline clip-path=\"url(#clip422)\" style=\"stroke:#000000; stroke-linecap:round; stroke-linejoin:round; stroke-width:2; stroke-opacity:0.1; fill:none\" points=\"193.936,87.9761 2352.76,87.9761 \"/>\n",
       "<polyline clip-path=\"url(#clip420)\" style=\"stroke:#000000; stroke-linecap:round; stroke-linejoin:round; stroke-width:4; stroke-opacity:1; fill:none\" points=\"193.936,1486.45 2352.76,1486.45 \"/>\n",
       "<polyline clip-path=\"url(#clip420)\" style=\"stroke:#000000; stroke-linecap:round; stroke-linejoin:round; stroke-width:4; stroke-opacity:1; fill:none\" points=\"255.035,1486.45 255.035,1467.55 \"/>\n",
       "<polyline clip-path=\"url(#clip420)\" style=\"stroke:#000000; stroke-linecap:round; stroke-linejoin:round; stroke-width:4; stroke-opacity:1; fill:none\" points=\"579.338,1486.45 579.338,1467.55 \"/>\n",
       "<polyline clip-path=\"url(#clip420)\" style=\"stroke:#000000; stroke-linecap:round; stroke-linejoin:round; stroke-width:4; stroke-opacity:1; fill:none\" points=\"903.641,1486.45 903.641,1467.55 \"/>\n",
       "<polyline clip-path=\"url(#clip420)\" style=\"stroke:#000000; stroke-linecap:round; stroke-linejoin:round; stroke-width:4; stroke-opacity:1; fill:none\" points=\"1227.94,1486.45 1227.94,1467.55 \"/>\n",
       "<polyline clip-path=\"url(#clip420)\" style=\"stroke:#000000; stroke-linecap:round; stroke-linejoin:round; stroke-width:4; stroke-opacity:1; fill:none\" points=\"1552.25,1486.45 1552.25,1467.55 \"/>\n",
       "<polyline clip-path=\"url(#clip420)\" style=\"stroke:#000000; stroke-linecap:round; stroke-linejoin:round; stroke-width:4; stroke-opacity:1; fill:none\" points=\"1876.55,1486.45 1876.55,1467.55 \"/>\n",
       "<polyline clip-path=\"url(#clip420)\" style=\"stroke:#000000; stroke-linecap:round; stroke-linejoin:round; stroke-width:4; stroke-opacity:1; fill:none\" points=\"2200.85,1486.45 2200.85,1467.55 \"/>\n",
       "<path clip-path=\"url(#clip420)\" d=\"M255.035 1517.37 Q251.424 1517.37 249.595 1520.93 Q247.789 1524.47 247.789 1531.6 Q247.789 1538.71 249.595 1542.27 Q251.424 1545.82 255.035 1545.82 Q258.669 1545.82 260.474 1542.27 Q262.303 1538.71 262.303 1531.6 Q262.303 1524.47 260.474 1520.93 Q258.669 1517.37 255.035 1517.37 M255.035 1513.66 Q260.845 1513.66 263.9 1518.27 Q266.979 1522.85 266.979 1531.6 Q266.979 1540.33 263.9 1544.94 Q260.845 1549.52 255.035 1549.52 Q249.225 1549.52 246.146 1544.94 Q243.09 1540.33 243.09 1531.6 Q243.09 1522.85 246.146 1518.27 Q249.225 1513.66 255.035 1513.66 Z\" fill=\"#000000\" fill-rule=\"nonzero\" fill-opacity=\"1\" /><path clip-path=\"url(#clip420)\" d=\"M569.72 1544.91 L577.358 1544.91 L577.358 1518.55 L569.048 1520.21 L569.048 1515.95 L577.312 1514.29 L581.988 1514.29 L581.988 1544.91 L589.627 1544.91 L589.627 1548.85 L569.72 1548.85 L569.72 1544.91 Z\" fill=\"#000000\" fill-rule=\"nonzero\" fill-opacity=\"1\" /><path clip-path=\"url(#clip420)\" d=\"M898.293 1544.91 L914.613 1544.91 L914.613 1548.85 L892.668 1548.85 L892.668 1544.91 Q895.33 1542.16 899.914 1537.53 Q904.52 1532.88 905.701 1531.53 Q907.946 1529.01 908.826 1527.27 Q909.729 1525.51 909.729 1523.82 Q909.729 1521.07 907.784 1519.33 Q905.863 1517.6 902.761 1517.6 Q900.562 1517.6 898.108 1518.36 Q895.678 1519.13 892.9 1520.68 L892.9 1515.95 Q895.724 1514.82 898.178 1514.24 Q900.631 1513.66 902.668 1513.66 Q908.039 1513.66 911.233 1516.35 Q914.428 1519.03 914.428 1523.52 Q914.428 1525.65 913.617 1527.57 Q912.83 1529.47 910.724 1532.07 Q910.145 1532.74 907.043 1535.95 Q903.942 1539.15 898.293 1544.91 Z\" fill=\"#000000\" fill-rule=\"nonzero\" fill-opacity=\"1\" /><path clip-path=\"url(#clip420)\" d=\"M1232.19 1530.21 Q1235.55 1530.93 1237.42 1533.2 Q1239.32 1535.47 1239.32 1538.8 Q1239.32 1543.92 1235.8 1546.72 Q1232.28 1549.52 1225.8 1549.52 Q1223.63 1549.52 1221.31 1549.08 Q1219.02 1548.66 1216.57 1547.81 L1216.57 1543.29 Q1218.51 1544.43 1220.83 1545.01 Q1223.14 1545.58 1225.66 1545.58 Q1230.06 1545.58 1232.35 1543.85 Q1234.67 1542.11 1234.67 1538.8 Q1234.67 1535.75 1232.52 1534.03 Q1230.39 1532.3 1226.57 1532.3 L1222.54 1532.3 L1222.54 1528.45 L1226.75 1528.45 Q1230.2 1528.45 1232.03 1527.09 Q1233.86 1525.7 1233.86 1523.11 Q1233.86 1520.45 1231.96 1519.03 Q1230.08 1517.6 1226.57 1517.6 Q1224.64 1517.6 1222.45 1518.01 Q1220.25 1518.43 1217.61 1519.31 L1217.61 1515.14 Q1220.27 1514.4 1222.58 1514.03 Q1224.92 1513.66 1226.98 1513.66 Q1232.31 1513.66 1235.41 1516.09 Q1238.51 1518.5 1238.51 1522.62 Q1238.51 1525.49 1236.87 1527.48 Q1235.22 1529.45 1232.19 1530.21 Z\" fill=\"#000000\" fill-rule=\"nonzero\" fill-opacity=\"1\" /><path clip-path=\"url(#clip420)\" d=\"M1555.26 1518.36 L1543.45 1536.81 L1555.26 1536.81 L1555.26 1518.36 M1554.03 1514.29 L1559.91 1514.29 L1559.91 1536.81 L1564.84 1536.81 L1564.84 1540.7 L1559.91 1540.7 L1559.91 1548.85 L1555.26 1548.85 L1555.26 1540.7 L1539.65 1540.7 L1539.65 1536.19 L1554.03 1514.29 Z\" fill=\"#000000\" fill-rule=\"nonzero\" fill-opacity=\"1\" /><path clip-path=\"url(#clip420)\" d=\"M1866.83 1514.29 L1885.18 1514.29 L1885.18 1518.22 L1871.11 1518.22 L1871.11 1526.7 Q1872.13 1526.35 1873.15 1526.19 Q1874.17 1526 1875.18 1526 Q1880.97 1526 1884.35 1529.17 Q1887.73 1532.34 1887.73 1537.76 Q1887.73 1543.34 1884.26 1546.44 Q1880.79 1549.52 1874.47 1549.52 Q1872.29 1549.52 1870.02 1549.15 Q1867.78 1548.78 1865.37 1548.04 L1865.37 1543.34 Q1867.45 1544.47 1869.67 1545.03 Q1871.9 1545.58 1874.37 1545.58 Q1878.38 1545.58 1880.72 1543.48 Q1883.05 1541.37 1883.05 1537.76 Q1883.05 1534.15 1880.72 1532.04 Q1878.38 1529.94 1874.37 1529.94 Q1872.5 1529.94 1870.62 1530.35 Q1868.77 1530.77 1866.83 1531.65 L1866.83 1514.29 Z\" fill=\"#000000\" fill-rule=\"nonzero\" fill-opacity=\"1\" /><path clip-path=\"url(#clip420)\" d=\"M2201.26 1529.7 Q2198.11 1529.7 2196.26 1531.86 Q2194.43 1534.01 2194.43 1537.76 Q2194.43 1541.49 2196.26 1543.66 Q2198.11 1545.82 2201.26 1545.82 Q2204.41 1545.82 2206.23 1543.66 Q2208.09 1541.49 2208.09 1537.76 Q2208.09 1534.01 2206.23 1531.86 Q2204.41 1529.7 2201.26 1529.7 M2210.54 1515.05 L2210.54 1519.31 Q2208.78 1518.48 2206.98 1518.04 Q2205.19 1517.6 2203.43 1517.6 Q2198.8 1517.6 2196.35 1520.72 Q2193.92 1523.85 2193.57 1530.17 Q2194.94 1528.15 2197 1527.09 Q2199.06 1526 2201.54 1526 Q2206.74 1526 2209.75 1529.17 Q2212.79 1532.32 2212.79 1537.76 Q2212.79 1543.08 2209.64 1546.3 Q2206.49 1549.52 2201.26 1549.52 Q2195.26 1549.52 2192.09 1544.94 Q2188.92 1540.33 2188.92 1531.6 Q2188.92 1523.41 2192.81 1518.55 Q2196.7 1513.66 2203.25 1513.66 Q2205.01 1513.66 2206.79 1514.01 Q2208.6 1514.36 2210.54 1515.05 Z\" fill=\"#000000\" fill-rule=\"nonzero\" fill-opacity=\"1\" /><polyline clip-path=\"url(#clip420)\" style=\"stroke:#000000; stroke-linecap:round; stroke-linejoin:round; stroke-width:4; stroke-opacity:1; fill:none\" points=\"193.936,1486.45 193.936,47.2441 \"/>\n",
       "<polyline clip-path=\"url(#clip420)\" style=\"stroke:#000000; stroke-linecap:round; stroke-linejoin:round; stroke-width:4; stroke-opacity:1; fill:none\" points=\"193.936,1445.72 212.834,1445.72 \"/>\n",
       "<polyline clip-path=\"url(#clip420)\" style=\"stroke:#000000; stroke-linecap:round; stroke-linejoin:round; stroke-width:4; stroke-opacity:1; fill:none\" points=\"193.936,1106.28 212.834,1106.28 \"/>\n",
       "<polyline clip-path=\"url(#clip420)\" style=\"stroke:#000000; stroke-linecap:round; stroke-linejoin:round; stroke-width:4; stroke-opacity:1; fill:none\" points=\"193.936,766.847 212.834,766.847 \"/>\n",
       "<polyline clip-path=\"url(#clip420)\" style=\"stroke:#000000; stroke-linecap:round; stroke-linejoin:round; stroke-width:4; stroke-opacity:1; fill:none\" points=\"193.936,427.411 212.834,427.411 \"/>\n",
       "<polyline clip-path=\"url(#clip420)\" style=\"stroke:#000000; stroke-linecap:round; stroke-linejoin:round; stroke-width:4; stroke-opacity:1; fill:none\" points=\"193.936,87.9761 212.834,87.9761 \"/>\n",
       "<path clip-path=\"url(#clip420)\" d=\"M50.9921 1446.17 L80.6679 1446.17 L80.6679 1450.1 L50.9921 1450.1 L50.9921 1446.17 Z\" fill=\"#000000\" fill-rule=\"nonzero\" fill-opacity=\"1\" /><path clip-path=\"url(#clip420)\" d=\"M91.5706 1459.06 L99.2095 1459.06 L99.2095 1432.7 L90.8993 1434.36 L90.8993 1430.1 L99.1632 1428.44 L103.839 1428.44 L103.839 1459.06 L111.478 1459.06 L111.478 1463 L91.5706 1463 L91.5706 1459.06 Z\" fill=\"#000000\" fill-rule=\"nonzero\" fill-opacity=\"1\" /><path clip-path=\"url(#clip420)\" d=\"M120.922 1457.12 L125.807 1457.12 L125.807 1463 L120.922 1463 L120.922 1457.12 Z\" fill=\"#000000\" fill-rule=\"nonzero\" fill-opacity=\"1\" /><path clip-path=\"url(#clip420)\" d=\"M145.992 1431.52 Q142.381 1431.52 140.552 1435.08 Q138.746 1438.62 138.746 1445.75 Q138.746 1452.86 140.552 1456.42 Q142.381 1459.97 145.992 1459.97 Q149.626 1459.97 151.431 1456.42 Q153.26 1452.86 153.26 1445.75 Q153.26 1438.62 151.431 1435.08 Q149.626 1431.52 145.992 1431.52 M145.992 1427.81 Q151.802 1427.81 154.857 1432.42 Q157.936 1437 157.936 1445.75 Q157.936 1454.48 154.857 1459.09 Q151.802 1463.67 145.992 1463.67 Q140.181 1463.67 137.103 1459.09 Q134.047 1454.48 134.047 1445.75 Q134.047 1437 137.103 1432.42 Q140.181 1427.81 145.992 1427.81 Z\" fill=\"#000000\" fill-rule=\"nonzero\" fill-opacity=\"1\" /><path clip-path=\"url(#clip420)\" d=\"M51.9875 1106.73 L81.6633 1106.73 L81.6633 1110.67 L51.9875 1110.67 L51.9875 1106.73 Z\" fill=\"#000000\" fill-rule=\"nonzero\" fill-opacity=\"1\" /><path clip-path=\"url(#clip420)\" d=\"M101.756 1092.08 Q98.1447 1092.08 96.316 1095.65 Q94.5104 1099.19 94.5104 1106.32 Q94.5104 1113.42 96.316 1116.99 Q98.1447 1120.53 101.756 1120.53 Q105.39 1120.53 107.196 1116.99 Q109.024 1113.42 109.024 1106.32 Q109.024 1099.19 107.196 1095.65 Q105.39 1092.08 101.756 1092.08 M101.756 1088.38 Q107.566 1088.38 110.621 1092.98 Q113.7 1097.57 113.7 1106.32 Q113.7 1115.04 110.621 1119.65 Q107.566 1124.23 101.756 1124.23 Q95.9456 1124.23 92.8669 1119.65 Q89.8114 1115.04 89.8114 1106.32 Q89.8114 1097.57 92.8669 1092.98 Q95.9456 1088.38 101.756 1088.38 Z\" fill=\"#000000\" fill-rule=\"nonzero\" fill-opacity=\"1\" /><path clip-path=\"url(#clip420)\" d=\"M121.918 1117.68 L126.802 1117.68 L126.802 1123.56 L121.918 1123.56 L121.918 1117.68 Z\" fill=\"#000000\" fill-rule=\"nonzero\" fill-opacity=\"1\" /><path clip-path=\"url(#clip420)\" d=\"M137.033 1089 L155.39 1089 L155.39 1092.94 L141.316 1092.94 L141.316 1101.41 Q142.334 1101.06 143.353 1100.9 Q144.371 1100.72 145.39 1100.72 Q151.177 1100.72 154.556 1103.89 Q157.936 1107.06 157.936 1112.47 Q157.936 1118.05 154.464 1121.15 Q150.992 1124.23 144.672 1124.23 Q142.496 1124.23 140.228 1123.86 Q137.982 1123.49 135.575 1122.75 L135.575 1118.05 Q137.658 1119.19 139.881 1119.74 Q142.103 1120.3 144.58 1120.3 Q148.584 1120.3 150.922 1118.19 Q153.26 1116.09 153.26 1112.47 Q153.26 1108.86 150.922 1106.76 Q148.584 1104.65 144.58 1104.65 Q142.705 1104.65 140.83 1105.07 Q138.978 1105.48 137.033 1106.36 L137.033 1089 Z\" fill=\"#000000\" fill-rule=\"nonzero\" fill-opacity=\"1\" /><path clip-path=\"url(#clip420)\" d=\"M100.76 752.646 Q97.1493 752.646 95.3206 756.21 Q93.515 759.752 93.515 766.882 Q93.515 773.988 95.3206 777.553 Q97.1493 781.094 100.76 781.094 Q104.395 781.094 106.2 777.553 Q108.029 773.988 108.029 766.882 Q108.029 759.752 106.2 756.21 Q104.395 752.646 100.76 752.646 M100.76 748.942 Q106.571 748.942 109.626 753.548 Q112.705 758.132 112.705 766.882 Q112.705 775.608 109.626 780.215 Q106.571 784.798 100.76 784.798 Q94.9502 784.798 91.8715 780.215 Q88.816 775.608 88.816 766.882 Q88.816 758.132 91.8715 753.548 Q94.9502 748.942 100.76 748.942 Z\" fill=\"#000000\" fill-rule=\"nonzero\" fill-opacity=\"1\" /><path clip-path=\"url(#clip420)\" d=\"M120.922 778.247 L125.807 778.247 L125.807 784.127 L120.922 784.127 L120.922 778.247 Z\" fill=\"#000000\" fill-rule=\"nonzero\" fill-opacity=\"1\" /><path clip-path=\"url(#clip420)\" d=\"M145.992 752.646 Q142.381 752.646 140.552 756.21 Q138.746 759.752 138.746 766.882 Q138.746 773.988 140.552 777.553 Q142.381 781.094 145.992 781.094 Q149.626 781.094 151.431 777.553 Q153.26 773.988 153.26 766.882 Q153.26 759.752 151.431 756.21 Q149.626 752.646 145.992 752.646 M145.992 748.942 Q151.802 748.942 154.857 753.548 Q157.936 758.132 157.936 766.882 Q157.936 775.608 154.857 780.215 Q151.802 784.798 145.992 784.798 Q140.181 784.798 137.103 780.215 Q134.047 775.608 134.047 766.882 Q134.047 758.132 137.103 753.548 Q140.181 748.942 145.992 748.942 Z\" fill=\"#000000\" fill-rule=\"nonzero\" fill-opacity=\"1\" /><path clip-path=\"url(#clip420)\" d=\"M101.756 413.21 Q98.1447 413.21 96.316 416.775 Q94.5104 420.317 94.5104 427.446 Q94.5104 434.553 96.316 438.117 Q98.1447 441.659 101.756 441.659 Q105.39 441.659 107.196 438.117 Q109.024 434.553 109.024 427.446 Q109.024 420.317 107.196 416.775 Q105.39 413.21 101.756 413.21 M101.756 409.506 Q107.566 409.506 110.621 414.113 Q113.7 418.696 113.7 427.446 Q113.7 436.173 110.621 440.779 Q107.566 445.363 101.756 445.363 Q95.9456 445.363 92.8669 440.779 Q89.8114 436.173 89.8114 427.446 Q89.8114 418.696 92.8669 414.113 Q95.9456 409.506 101.756 409.506 Z\" fill=\"#000000\" fill-rule=\"nonzero\" fill-opacity=\"1\" /><path clip-path=\"url(#clip420)\" d=\"M121.918 438.812 L126.802 438.812 L126.802 444.691 L121.918 444.691 L121.918 438.812 Z\" fill=\"#000000\" fill-rule=\"nonzero\" fill-opacity=\"1\" /><path clip-path=\"url(#clip420)\" d=\"M137.033 410.131 L155.39 410.131 L155.39 414.067 L141.316 414.067 L141.316 422.539 Q142.334 422.192 143.353 422.03 Q144.371 421.844 145.39 421.844 Q151.177 421.844 154.556 425.016 Q157.936 428.187 157.936 433.604 Q157.936 439.182 154.464 442.284 Q150.992 445.363 144.672 445.363 Q142.496 445.363 140.228 444.992 Q137.982 444.622 135.575 443.881 L135.575 439.182 Q137.658 440.316 139.881 440.872 Q142.103 441.428 144.58 441.428 Q148.584 441.428 150.922 439.321 Q153.26 437.215 153.26 433.604 Q153.26 429.992 150.922 427.886 Q148.584 425.78 144.58 425.78 Q142.705 425.78 140.83 426.196 Q138.978 426.613 137.033 427.492 L137.033 410.131 Z\" fill=\"#000000\" fill-rule=\"nonzero\" fill-opacity=\"1\" /><path clip-path=\"url(#clip420)\" d=\"M91.5706 101.321 L99.2095 101.321 L99.2095 74.9553 L90.8993 76.622 L90.8993 72.3627 L99.1632 70.6961 L103.839 70.6961 L103.839 101.321 L111.478 101.321 L111.478 105.256 L91.5706 105.256 L91.5706 101.321 Z\" fill=\"#000000\" fill-rule=\"nonzero\" fill-opacity=\"1\" /><path clip-path=\"url(#clip420)\" d=\"M120.922 99.3765 L125.807 99.3765 L125.807 105.256 L120.922 105.256 L120.922 99.3765 Z\" fill=\"#000000\" fill-rule=\"nonzero\" fill-opacity=\"1\" /><path clip-path=\"url(#clip420)\" d=\"M145.992 73.7747 Q142.381 73.7747 140.552 77.3395 Q138.746 80.8812 138.746 88.0108 Q138.746 95.1172 140.552 98.682 Q142.381 102.224 145.992 102.224 Q149.626 102.224 151.431 98.682 Q153.26 95.1172 153.26 88.0108 Q153.26 80.8812 151.431 77.3395 Q149.626 73.7747 145.992 73.7747 M145.992 70.0711 Q151.802 70.0711 154.857 74.6775 Q157.936 79.2608 157.936 88.0108 Q157.936 96.7376 154.857 101.344 Q151.802 105.927 145.992 105.927 Q140.181 105.927 137.103 101.344 Q134.047 96.7376 134.047 88.0108 Q134.047 79.2608 137.103 74.6775 Q140.181 70.0711 145.992 70.0711 Z\" fill=\"#000000\" fill-rule=\"nonzero\" fill-opacity=\"1\" /><polyline clip-path=\"url(#clip422)\" style=\"stroke:#009af9; stroke-linecap:round; stroke-linejoin:round; stroke-width:4; stroke-opacity:1; fill:none\" points=\"255.035,766.847 258.278,760.058 261.521,753.27 264.764,746.484 268.007,739.699 271.25,732.917 274.493,726.139 277.736,719.365 280.979,712.595 284.222,705.831 287.465,699.073 290.708,692.322 293.951,685.578 297.194,678.842 300.437,672.115 303.68,665.398 306.923,658.69 310.166,651.994 313.409,645.309 316.652,638.636 319.895,631.976 323.138,625.33 326.381,618.697 329.624,612.08 332.867,605.477 336.11,598.892 339.353,592.322 342.596,585.771 345.84,579.237 349.083,572.722 352.326,566.227 355.569,559.751 358.812,553.297 362.055,546.864 365.298,540.452 368.541,534.064 371.784,527.698 375.027,521.357 378.27,515.04 381.513,508.748 384.756,502.482 387.999,496.243 391.242,490.03 394.485,483.845 397.728,477.689 400.971,471.561 404.214,465.463 407.457,459.396 410.7,453.358 413.943,447.353 417.186,441.379 420.429,435.438 423.672,429.529 426.915,423.655 430.158,417.815 433.401,412.01 436.644,406.24 439.887,400.506 443.13,394.809 446.373,389.15 449.616,383.528 452.859,377.944 456.103,372.399 459.346,366.894 462.589,361.428 465.832,356.003 469.075,350.62 472.318,345.278 475.561,339.978 478.804,334.72 482.047,329.506 485.29,324.336 488.533,319.21 491.776,314.129 495.019,309.092 498.262,304.102 501.505,299.158 504.748,294.261 507.991,289.411 511.234,284.609 514.477,279.855 517.72,275.149 520.963,270.493 524.206,265.887 527.449,261.33 530.692,256.825 533.935,252.37 537.178,247.966 540.421,243.615 543.664,239.316 546.907,235.069 550.15,230.876 553.393,226.736 556.636,222.65 559.879,218.619 563.122,214.643 566.366,210.722 569.609,206.856 572.852,203.046 576.095,199.293 579.338,195.597 582.581,191.957 585.824,188.376 589.067,184.852 592.31,181.386 595.553,177.979 598.796,174.63 602.039,171.341 605.282,168.111 608.525,164.942 611.768,161.832 615.011,158.783 618.254,155.795 621.497,152.868 624.74,150.002 627.983,147.198 631.226,144.456 634.469,141.776 637.712,139.159 640.955,136.604 644.198,134.113 647.441,131.684 650.684,129.32 653.927,127.019 657.17,124.782 660.413,122.609 663.656,120.501 666.899,118.457 670.142,116.478 673.385,114.564 676.629,112.715 679.872,110.932 683.115,109.214 686.358,107.563 689.601,105.977 692.844,104.457 696.087,103.003 699.33,101.616 702.573,100.295 705.816,99.0411 709.059,97.8538 712.302,96.7334 715.545,95.68 718.788,94.6938 722.031,93.7747 725.274,92.923 728.517,92.1387 731.76,91.4218 735.003,90.7724 738.246,90.1907 741.489,89.6766 744.732,89.2303 747.975,88.8517 751.218,88.5409 754.461,88.298 757.704,88.1229 760.947,88.0156 764.19,87.9763 767.433,88.0048 770.676,88.1012 773.919,88.2655 777.162,88.4977 780.405,88.7977 783.648,89.1655 786.892,89.601 790.135,90.1043 793.378,90.6753 796.621,91.3138 799.864,92.02 803.107,92.7936 806.35,93.6346 809.593,94.5429 812.836,95.5185 816.079,96.5612 819.322,97.6709 822.565,98.8475 825.808,100.091 829.051,101.401 832.294,102.778 835.537,104.221 838.78,105.73 842.023,107.306 845.266,108.947 848.509,110.654 851.752,112.427 854.995,114.265 858.238,116.169 861.481,118.137 864.724,120.171 867.967,122.269 871.21,124.431 874.453,126.658 877.696,128.949 880.939,131.304 884.182,133.722 887.425,136.203 890.668,138.748 893.911,141.355 897.155,144.025 900.398,146.757 903.641,149.551 906.884,152.407 910.127,155.325 913.37,158.303 916.613,161.343 919.856,164.442 923.099,167.603 926.342,170.823 929.585,174.102 932.828,177.441 936.071,180.839 939.314,184.296 942.557,187.81 945.8,191.383 949.043,195.013 952.286,198.701 955.529,202.445 958.772,206.246 962.015,210.102 965.258,214.015 968.501,217.982 971.744,222.005 974.987,226.082 978.23,230.213 981.473,234.398 984.716,238.636 987.959,242.927 991.202,247.27 994.445,251.665 997.688,256.112 1000.93,260.609 1004.17,265.158 1007.42,269.756 1010.66,274.405 1013.9,279.102 1017.15,283.848 1020.39,288.643 1023.63,293.485 1026.88,298.375 1030.12,303.312 1033.36,308.295 1036.6,313.323 1039.85,318.398 1043.09,323.517 1046.33,328.68 1049.58,333.887 1052.82,339.137 1056.06,344.431 1059.31,349.766 1062.55,355.143 1065.79,360.562 1069.04,366.021 1072.28,371.52 1075.52,377.058 1078.76,382.636 1082.01,388.252 1085.25,393.905 1088.49,399.597 1091.74,405.324 1094.98,411.088 1098.22,416.888 1101.47,422.723 1104.71,428.592 1107.95,434.494 1111.19,440.43 1114.44,446.399 1117.68,452.4 1120.92,458.432 1124.17,464.495 1127.41,470.588 1130.65,476.711 1133.9,482.863 1137.14,489.043 1140.38,495.251 1143.62,501.487 1146.87,507.748 1150.11,514.036 1153.35,520.349 1156.6,526.687 1159.84,533.048 1163.08,539.433 1166.33,545.841 1169.57,552.271 1172.81,558.722 1176.06,565.194 1179.3,571.686 1182.54,578.198 1185.78,584.729 1189.03,591.278 1192.27,597.844 1195.51,604.427 1198.76,611.027 1202,617.642 1205.24,624.272 1208.49,630.917 1211.73,637.574 1214.97,644.245 1218.21,650.928 1221.46,657.623 1224.7,664.329 1227.94,671.045 1231.19,677.77 1234.43,684.504 1237.67,691.247 1240.92,697.997 1244.16,704.754 1247.4,711.517 1250.64,718.286 1253.89,725.06 1257.13,731.838 1260.37,738.619 1263.62,745.403 1266.86,752.189 1270.1,758.977 1273.35,765.766 1276.59,772.554 1279.83,779.342 1283.08,786.129 1286.32,792.914 1289.56,799.696 1292.8,806.475 1296.05,813.25 1299.29,820.021 1302.53,826.786 1305.78,833.545 1309.02,840.297 1312.26,847.042 1315.51,853.779 1318.75,860.508 1321.99,867.227 1325.23,873.936 1328.48,880.634 1331.72,887.321 1334.96,893.996 1338.21,900.658 1341.45,907.307 1344.69,913.941 1347.94,920.561 1351.18,927.166 1354.42,933.754 1357.66,940.326 1360.91,946.881 1364.15,953.417 1367.39,959.935 1370.64,966.434 1373.88,972.912 1377.12,979.37 1380.37,985.807 1383.61,992.222 1386.85,998.614 1390.1,1004.98 1393.34,1011.33 1396.58,1017.65 1399.82,1023.95 1403.07,1030.22 1406.31,1036.46 1409.55,1042.68 1412.8,1048.87 1416.04,1055.03 1419.28,1061.16 1422.53,1067.26 1425.77,1073.33 1429.01,1079.38 1432.25,1085.39 1435.5,1091.37 1438.74,1097.31 1441.98,1103.23 1445.23,1109.11 1448.47,1114.95 1451.71,1120.76 1454.96,1126.54 1458.2,1132.28 1461.44,1137.98 1464.68,1143.65 1467.93,1149.27 1471.17,1154.86 1474.41,1160.41 1477.66,1165.93 1480.9,1171.4 1484.14,1176.83 1487.39,1182.22 1490.63,1187.57 1493.87,1192.87 1497.11,1198.14 1500.36,1203.36 1503.6,1208.54 1506.84,1213.67 1510.09,1218.76 1513.33,1223.8 1516.57,1228.8 1519.82,1233.75 1523.06,1238.66 1526.3,1243.51 1529.55,1248.32 1532.79,1253.09 1536.03,1257.8 1539.27,1262.46 1542.52,1267.08 1545.76,1271.64 1549,1276.15 1552.25,1280.62 1555.49,1285.03 1558.73,1289.39 1561.98,1293.7 1565.22,1297.95 1568.46,1302.15 1571.7,1306.3 1574.95,1310.4 1578.19,1314.44 1581.43,1318.42 1584.68,1322.35 1587.92,1326.23 1591.16,1330.04 1594.41,1333.81 1597.65,1337.51 1600.89,1341.16 1604.13,1344.75 1607.38,1348.28 1610.62,1351.76 1613.86,1355.18 1617.11,1358.53 1620.35,1361.83 1623.59,1365.07 1626.84,1368.25 1630.08,1371.37 1633.32,1374.43 1636.57,1377.43 1639.81,1380.36 1643.05,1383.24 1646.29,1386.05 1649.54,1388.81 1652.78,1391.49 1656.02,1394.12 1659.27,1396.69 1662.51,1399.19 1665.75,1401.63 1669,1404 1672.24,1406.31 1675.48,1408.56 1678.72,1410.74 1681.97,1412.86 1685.21,1414.92 1688.45,1416.91 1691.7,1418.83 1694.94,1420.69 1698.18,1422.48 1701.43,1424.21 1704.67,1425.87 1707.91,1427.47 1711.15,1429 1714.4,1430.46 1717.64,1431.86 1720.88,1433.19 1724.13,1434.46 1727.37,1435.66 1730.61,1436.79 1733.86,1437.85 1737.1,1438.85 1740.34,1439.78 1743.59,1440.64 1746.83,1441.43 1750.07,1442.16 1753.31,1442.82 1756.56,1443.41 1759.8,1443.94 1763.04,1444.4 1766.29,1444.79 1769.53,1445.11 1772.77,1445.36 1776.02,1445.55 1779.26,1445.67 1782.5,1445.72 1785.74,1445.7 1788.99,1445.61 1792.23,1445.46 1795.47,1445.24 1798.72,1444.95 1801.96,1444.59 1805.2,1444.17 1808.45,1443.67 1811.69,1443.11 1814.93,1442.49 1818.17,1441.79 1821.42,1441.03 1824.66,1440.2 1827.9,1439.3 1831.15,1438.34 1834.39,1437.3 1837.63,1436.2 1840.88,1435.04 1844.12,1433.81 1847.36,1432.51 1850.61,1431.14 1853.85,1429.71 1857.09,1428.21 1860.33,1426.64 1863.58,1425.01 1866.82,1423.32 1870.06,1421.55 1873.31,1419.73 1876.55,1417.83 1879.79,1415.87 1883.04,1413.85 1886.28,1411.76 1889.52,1409.61 1892.76,1407.39 1896.01,1405.11 1899.25,1402.77 1902.49,1400.36 1905.74,1397.89 1908.98,1395.36 1912.22,1392.76 1915.47,1390.1 1918.71,1387.38 1921.95,1384.59 1925.19,1381.75 1928.44,1378.84 1931.68,1375.87 1934.92,1372.84 1938.17,1369.75 1941.41,1366.6 1944.65,1363.39 1947.9,1360.12 1951.14,1356.79 1954.38,1353.4 1957.63,1349.95 1960.87,1346.45 1964.11,1342.88 1967.35,1339.26 1970.6,1335.58 1973.84,1331.85 1977.08,1328.06 1980.33,1324.21 1983.57,1320.31 1986.81,1316.35 1990.06,1312.33 1993.3,1308.26 1996.54,1304.14 1999.78,1299.97 2003.03,1295.74 2006.27,1291.45 2009.51,1287.12 2012.76,1282.73 2016,1278.29 2019.24,1273.8 2022.49,1269.26 2025.73,1264.67 2028.97,1260.03 2032.21,1255.34 2035.46,1250.6 2038.7,1245.82 2041.94,1240.98 2045.19,1236.1 2048.43,1231.17 2051.67,1226.2 2054.92,1221.17 2058.16,1216.11 2061.4,1211 2064.65,1205.84 2067.89,1200.64 2071.13,1195.4 2074.37,1190.11 2077.62,1184.78 2080.86,1179.41 2084.1,1174 2087.35,1168.55 2090.59,1163.05 2093.83,1157.52 2097.08,1151.95 2100.32,1146.34 2103.56,1140.69 2106.8,1135.01 2110.05,1129.28 2113.29,1123.53 2116.53,1117.73 2119.78,1111.9 2123.02,1106.04 2126.26,1100.14 2129.51,1094.21 2132.75,1088.25 2135.99,1082.25 2139.23,1076.22 2142.48,1070.17 2145.72,1064.08 2148.96,1057.96 2152.21,1051.81 2155.45,1045.64 2158.69,1039.43 2161.94,1033.2 2165.18,1026.94 2168.42,1020.66 2171.67,1014.35 2174.91,1008.02 2178.15,1001.66 2181.39,995.279 2184.64,988.875 2187.88,982.448 2191.12,976.001 2194.37,969.532 2197.61,963.043 2200.85,956.534 2204.1,950.006 2207.34,943.46 2210.58,936.896 2213.82,930.316 2217.07,923.719 2220.31,917.106 2223.55,910.478 2226.8,903.836 2230.04,897.18 2233.28,890.512 2236.53,883.83 2239.77,877.138 2243.01,870.434 2246.25,863.719 2249.5,856.995 2252.74,850.262 2255.98,843.521 2259.23,836.772 2262.47,830.016 2265.71,823.254 2268.96,816.486 2272.2,809.713 2275.44,802.936 2278.69,796.155 2281.93,789.371 2285.17,782.585 2288.41,775.798 2291.66,769.009 \"/>\n",
       "<path clip-path=\"url(#clip420)\" d=\"M2012.48 198.898 L2280.8 198.898 L2280.8 95.2176 L2012.48 95.2176  Z\" fill=\"#ffffff\" fill-rule=\"evenodd\" fill-opacity=\"1\"/>\n",
       "<polyline clip-path=\"url(#clip420)\" style=\"stroke:#000000; stroke-linecap:round; stroke-linejoin:round; stroke-width:4; stroke-opacity:1; fill:none\" points=\"2012.48,198.898 2280.8,198.898 2280.8,95.2176 2012.48,95.2176 2012.48,198.898 \"/>\n",
       "<polyline clip-path=\"url(#clip420)\" style=\"stroke:#009af9; stroke-linecap:round; stroke-linejoin:round; stroke-width:4; stroke-opacity:1; fill:none\" points=\"2036.47,147.058 2180.39,147.058 \"/>\n",
       "<path clip-path=\"url(#clip420)\" d=\"M2218.22 166.745 Q2216.42 171.375 2214.7 172.787 Q2212.99 174.199 2210.12 174.199 L2206.72 174.199 L2206.72 170.634 L2209.22 170.634 Q2210.98 170.634 2211.95 169.8 Q2212.92 168.967 2214.1 165.865 L2214.86 163.921 L2204.38 138.412 L2208.89 138.412 L2216.99 158.689 L2225.1 138.412 L2229.61 138.412 L2218.22 166.745 Z\" fill=\"#000000\" fill-rule=\"nonzero\" fill-opacity=\"1\" /><path clip-path=\"url(#clip420)\" d=\"M2236.9 160.402 L2244.54 160.402 L2244.54 134.037 L2236.23 135.703 L2236.23 131.444 L2244.49 129.778 L2249.17 129.778 L2249.17 160.402 L2256.81 160.402 L2256.81 164.338 L2236.9 164.338 L2236.9 160.402 Z\" fill=\"#000000\" fill-rule=\"nonzero\" fill-opacity=\"1\" /></svg>\n"
      ],
      "text/html": [
       "<?xml version=\"1.0\" encoding=\"utf-8\"?>\n",
       "<svg xmlns=\"http://www.w3.org/2000/svg\" xmlns:xlink=\"http://www.w3.org/1999/xlink\" width=\"600\" height=\"400\" viewBox=\"0 0 2400 1600\">\n",
       "<defs>\n",
       "  <clipPath id=\"clip470\">\n",
       "    <rect x=\"0\" y=\"0\" width=\"2400\" height=\"1600\"/>\n",
       "  </clipPath>\n",
       "</defs>\n",
       "<path clip-path=\"url(#clip470)\" d=\"M0 1600 L2400 1600 L2400 0 L0 0  Z\" fill=\"#ffffff\" fill-rule=\"evenodd\" fill-opacity=\"1\"/>\n",
       "<defs>\n",
       "  <clipPath id=\"clip471\">\n",
       "    <rect x=\"480\" y=\"0\" width=\"1681\" height=\"1600\"/>\n",
       "  </clipPath>\n",
       "</defs>\n",
       "<path clip-path=\"url(#clip470)\" d=\"M193.936 1486.45 L2352.76 1486.45 L2352.76 47.2441 L193.936 47.2441  Z\" fill=\"#ffffff\" fill-rule=\"evenodd\" fill-opacity=\"1\"/>\n",
       "<defs>\n",
       "  <clipPath id=\"clip472\">\n",
       "    <rect x=\"193\" y=\"47\" width=\"2160\" height=\"1440\"/>\n",
       "  </clipPath>\n",
       "</defs>\n",
       "<polyline clip-path=\"url(#clip472)\" style=\"stroke:#000000; stroke-linecap:round; stroke-linejoin:round; stroke-width:2; stroke-opacity:0.1; fill:none\" points=\"255.035,1486.45 255.035,47.2441 \"/>\n",
       "<polyline clip-path=\"url(#clip472)\" style=\"stroke:#000000; stroke-linecap:round; stroke-linejoin:round; stroke-width:2; stroke-opacity:0.1; fill:none\" points=\"579.338,1486.45 579.338,47.2441 \"/>\n",
       "<polyline clip-path=\"url(#clip472)\" style=\"stroke:#000000; stroke-linecap:round; stroke-linejoin:round; stroke-width:2; stroke-opacity:0.1; fill:none\" points=\"903.641,1486.45 903.641,47.2441 \"/>\n",
       "<polyline clip-path=\"url(#clip472)\" style=\"stroke:#000000; stroke-linecap:round; stroke-linejoin:round; stroke-width:2; stroke-opacity:0.1; fill:none\" points=\"1227.94,1486.45 1227.94,47.2441 \"/>\n",
       "<polyline clip-path=\"url(#clip472)\" style=\"stroke:#000000; stroke-linecap:round; stroke-linejoin:round; stroke-width:2; stroke-opacity:0.1; fill:none\" points=\"1552.25,1486.45 1552.25,47.2441 \"/>\n",
       "<polyline clip-path=\"url(#clip472)\" style=\"stroke:#000000; stroke-linecap:round; stroke-linejoin:round; stroke-width:2; stroke-opacity:0.1; fill:none\" points=\"1876.55,1486.45 1876.55,47.2441 \"/>\n",
       "<polyline clip-path=\"url(#clip472)\" style=\"stroke:#000000; stroke-linecap:round; stroke-linejoin:round; stroke-width:2; stroke-opacity:0.1; fill:none\" points=\"2200.85,1486.45 2200.85,47.2441 \"/>\n",
       "<polyline clip-path=\"url(#clip472)\" style=\"stroke:#000000; stroke-linecap:round; stroke-linejoin:round; stroke-width:2; stroke-opacity:0.1; fill:none\" points=\"193.936,1445.72 2352.76,1445.72 \"/>\n",
       "<polyline clip-path=\"url(#clip472)\" style=\"stroke:#000000; stroke-linecap:round; stroke-linejoin:round; stroke-width:2; stroke-opacity:0.1; fill:none\" points=\"193.936,1106.28 2352.76,1106.28 \"/>\n",
       "<polyline clip-path=\"url(#clip472)\" style=\"stroke:#000000; stroke-linecap:round; stroke-linejoin:round; stroke-width:2; stroke-opacity:0.1; fill:none\" points=\"193.936,766.847 2352.76,766.847 \"/>\n",
       "<polyline clip-path=\"url(#clip472)\" style=\"stroke:#000000; stroke-linecap:round; stroke-linejoin:round; stroke-width:2; stroke-opacity:0.1; fill:none\" points=\"193.936,427.411 2352.76,427.411 \"/>\n",
       "<polyline clip-path=\"url(#clip472)\" style=\"stroke:#000000; stroke-linecap:round; stroke-linejoin:round; stroke-width:2; stroke-opacity:0.1; fill:none\" points=\"193.936,87.9761 2352.76,87.9761 \"/>\n",
       "<polyline clip-path=\"url(#clip470)\" style=\"stroke:#000000; stroke-linecap:round; stroke-linejoin:round; stroke-width:4; stroke-opacity:1; fill:none\" points=\"193.936,1486.45 2352.76,1486.45 \"/>\n",
       "<polyline clip-path=\"url(#clip470)\" style=\"stroke:#000000; stroke-linecap:round; stroke-linejoin:round; stroke-width:4; stroke-opacity:1; fill:none\" points=\"255.035,1486.45 255.035,1467.55 \"/>\n",
       "<polyline clip-path=\"url(#clip470)\" style=\"stroke:#000000; stroke-linecap:round; stroke-linejoin:round; stroke-width:4; stroke-opacity:1; fill:none\" points=\"579.338,1486.45 579.338,1467.55 \"/>\n",
       "<polyline clip-path=\"url(#clip470)\" style=\"stroke:#000000; stroke-linecap:round; stroke-linejoin:round; stroke-width:4; stroke-opacity:1; fill:none\" points=\"903.641,1486.45 903.641,1467.55 \"/>\n",
       "<polyline clip-path=\"url(#clip470)\" style=\"stroke:#000000; stroke-linecap:round; stroke-linejoin:round; stroke-width:4; stroke-opacity:1; fill:none\" points=\"1227.94,1486.45 1227.94,1467.55 \"/>\n",
       "<polyline clip-path=\"url(#clip470)\" style=\"stroke:#000000; stroke-linecap:round; stroke-linejoin:round; stroke-width:4; stroke-opacity:1; fill:none\" points=\"1552.25,1486.45 1552.25,1467.55 \"/>\n",
       "<polyline clip-path=\"url(#clip470)\" style=\"stroke:#000000; stroke-linecap:round; stroke-linejoin:round; stroke-width:4; stroke-opacity:1; fill:none\" points=\"1876.55,1486.45 1876.55,1467.55 \"/>\n",
       "<polyline clip-path=\"url(#clip470)\" style=\"stroke:#000000; stroke-linecap:round; stroke-linejoin:round; stroke-width:4; stroke-opacity:1; fill:none\" points=\"2200.85,1486.45 2200.85,1467.55 \"/>\n",
       "<path clip-path=\"url(#clip470)\" d=\"M255.035 1517.37 Q251.424 1517.37 249.595 1520.93 Q247.789 1524.47 247.789 1531.6 Q247.789 1538.71 249.595 1542.27 Q251.424 1545.82 255.035 1545.82 Q258.669 1545.82 260.474 1542.27 Q262.303 1538.71 262.303 1531.6 Q262.303 1524.47 260.474 1520.93 Q258.669 1517.37 255.035 1517.37 M255.035 1513.66 Q260.845 1513.66 263.9 1518.27 Q266.979 1522.85 266.979 1531.6 Q266.979 1540.33 263.9 1544.94 Q260.845 1549.52 255.035 1549.52 Q249.225 1549.52 246.146 1544.94 Q243.09 1540.33 243.09 1531.6 Q243.09 1522.85 246.146 1518.27 Q249.225 1513.66 255.035 1513.66 Z\" fill=\"#000000\" fill-rule=\"nonzero\" fill-opacity=\"1\" /><path clip-path=\"url(#clip470)\" d=\"M569.72 1544.91 L577.358 1544.91 L577.358 1518.55 L569.048 1520.21 L569.048 1515.95 L577.312 1514.29 L581.988 1514.29 L581.988 1544.91 L589.627 1544.91 L589.627 1548.85 L569.72 1548.85 L569.72 1544.91 Z\" fill=\"#000000\" fill-rule=\"nonzero\" fill-opacity=\"1\" /><path clip-path=\"url(#clip470)\" d=\"M898.293 1544.91 L914.613 1544.91 L914.613 1548.85 L892.668 1548.85 L892.668 1544.91 Q895.33 1542.16 899.914 1537.53 Q904.52 1532.88 905.701 1531.53 Q907.946 1529.01 908.826 1527.27 Q909.729 1525.51 909.729 1523.82 Q909.729 1521.07 907.784 1519.33 Q905.863 1517.6 902.761 1517.6 Q900.562 1517.6 898.108 1518.36 Q895.678 1519.13 892.9 1520.68 L892.9 1515.95 Q895.724 1514.82 898.178 1514.24 Q900.631 1513.66 902.668 1513.66 Q908.039 1513.66 911.233 1516.35 Q914.428 1519.03 914.428 1523.52 Q914.428 1525.65 913.617 1527.57 Q912.83 1529.47 910.724 1532.07 Q910.145 1532.74 907.043 1535.95 Q903.942 1539.15 898.293 1544.91 Z\" fill=\"#000000\" fill-rule=\"nonzero\" fill-opacity=\"1\" /><path clip-path=\"url(#clip470)\" d=\"M1232.19 1530.21 Q1235.55 1530.93 1237.42 1533.2 Q1239.32 1535.47 1239.32 1538.8 Q1239.32 1543.92 1235.8 1546.72 Q1232.28 1549.52 1225.8 1549.52 Q1223.63 1549.52 1221.31 1549.08 Q1219.02 1548.66 1216.57 1547.81 L1216.57 1543.29 Q1218.51 1544.43 1220.83 1545.01 Q1223.14 1545.58 1225.66 1545.58 Q1230.06 1545.58 1232.35 1543.85 Q1234.67 1542.11 1234.67 1538.8 Q1234.67 1535.75 1232.52 1534.03 Q1230.39 1532.3 1226.57 1532.3 L1222.54 1532.3 L1222.54 1528.45 L1226.75 1528.45 Q1230.2 1528.45 1232.03 1527.09 Q1233.86 1525.7 1233.86 1523.11 Q1233.86 1520.45 1231.96 1519.03 Q1230.08 1517.6 1226.57 1517.6 Q1224.64 1517.6 1222.45 1518.01 Q1220.25 1518.43 1217.61 1519.31 L1217.61 1515.14 Q1220.27 1514.4 1222.58 1514.03 Q1224.92 1513.66 1226.98 1513.66 Q1232.31 1513.66 1235.41 1516.09 Q1238.51 1518.5 1238.51 1522.62 Q1238.51 1525.49 1236.87 1527.48 Q1235.22 1529.45 1232.19 1530.21 Z\" fill=\"#000000\" fill-rule=\"nonzero\" fill-opacity=\"1\" /><path clip-path=\"url(#clip470)\" d=\"M1555.26 1518.36 L1543.45 1536.81 L1555.26 1536.81 L1555.26 1518.36 M1554.03 1514.29 L1559.91 1514.29 L1559.91 1536.81 L1564.84 1536.81 L1564.84 1540.7 L1559.91 1540.7 L1559.91 1548.85 L1555.26 1548.85 L1555.26 1540.7 L1539.65 1540.7 L1539.65 1536.19 L1554.03 1514.29 Z\" fill=\"#000000\" fill-rule=\"nonzero\" fill-opacity=\"1\" /><path clip-path=\"url(#clip470)\" d=\"M1866.83 1514.29 L1885.18 1514.29 L1885.18 1518.22 L1871.11 1518.22 L1871.11 1526.7 Q1872.13 1526.35 1873.15 1526.19 Q1874.17 1526 1875.18 1526 Q1880.97 1526 1884.35 1529.17 Q1887.73 1532.34 1887.73 1537.76 Q1887.73 1543.34 1884.26 1546.44 Q1880.79 1549.52 1874.47 1549.52 Q1872.29 1549.52 1870.02 1549.15 Q1867.78 1548.78 1865.37 1548.04 L1865.37 1543.34 Q1867.45 1544.47 1869.67 1545.03 Q1871.9 1545.58 1874.37 1545.58 Q1878.38 1545.58 1880.72 1543.48 Q1883.05 1541.37 1883.05 1537.76 Q1883.05 1534.15 1880.72 1532.04 Q1878.38 1529.94 1874.37 1529.94 Q1872.5 1529.94 1870.62 1530.35 Q1868.77 1530.77 1866.83 1531.65 L1866.83 1514.29 Z\" fill=\"#000000\" fill-rule=\"nonzero\" fill-opacity=\"1\" /><path clip-path=\"url(#clip470)\" d=\"M2201.26 1529.7 Q2198.11 1529.7 2196.26 1531.86 Q2194.43 1534.01 2194.43 1537.76 Q2194.43 1541.49 2196.26 1543.66 Q2198.11 1545.82 2201.26 1545.82 Q2204.41 1545.82 2206.23 1543.66 Q2208.09 1541.49 2208.09 1537.76 Q2208.09 1534.01 2206.23 1531.86 Q2204.41 1529.7 2201.26 1529.7 M2210.54 1515.05 L2210.54 1519.31 Q2208.78 1518.48 2206.98 1518.04 Q2205.19 1517.6 2203.43 1517.6 Q2198.8 1517.6 2196.35 1520.72 Q2193.92 1523.85 2193.57 1530.17 Q2194.94 1528.15 2197 1527.09 Q2199.06 1526 2201.54 1526 Q2206.74 1526 2209.75 1529.17 Q2212.79 1532.32 2212.79 1537.76 Q2212.79 1543.08 2209.64 1546.3 Q2206.49 1549.52 2201.26 1549.52 Q2195.26 1549.52 2192.09 1544.94 Q2188.92 1540.33 2188.92 1531.6 Q2188.92 1523.41 2192.81 1518.55 Q2196.7 1513.66 2203.25 1513.66 Q2205.01 1513.66 2206.79 1514.01 Q2208.6 1514.36 2210.54 1515.05 Z\" fill=\"#000000\" fill-rule=\"nonzero\" fill-opacity=\"1\" /><polyline clip-path=\"url(#clip470)\" style=\"stroke:#000000; stroke-linecap:round; stroke-linejoin:round; stroke-width:4; stroke-opacity:1; fill:none\" points=\"193.936,1486.45 193.936,47.2441 \"/>\n",
       "<polyline clip-path=\"url(#clip470)\" style=\"stroke:#000000; stroke-linecap:round; stroke-linejoin:round; stroke-width:4; stroke-opacity:1; fill:none\" points=\"193.936,1445.72 212.834,1445.72 \"/>\n",
       "<polyline clip-path=\"url(#clip470)\" style=\"stroke:#000000; stroke-linecap:round; stroke-linejoin:round; stroke-width:4; stroke-opacity:1; fill:none\" points=\"193.936,1106.28 212.834,1106.28 \"/>\n",
       "<polyline clip-path=\"url(#clip470)\" style=\"stroke:#000000; stroke-linecap:round; stroke-linejoin:round; stroke-width:4; stroke-opacity:1; fill:none\" points=\"193.936,766.847 212.834,766.847 \"/>\n",
       "<polyline clip-path=\"url(#clip470)\" style=\"stroke:#000000; stroke-linecap:round; stroke-linejoin:round; stroke-width:4; stroke-opacity:1; fill:none\" points=\"193.936,427.411 212.834,427.411 \"/>\n",
       "<polyline clip-path=\"url(#clip470)\" style=\"stroke:#000000; stroke-linecap:round; stroke-linejoin:round; stroke-width:4; stroke-opacity:1; fill:none\" points=\"193.936,87.9761 212.834,87.9761 \"/>\n",
       "<path clip-path=\"url(#clip470)\" d=\"M50.9921 1446.17 L80.6679 1446.17 L80.6679 1450.1 L50.9921 1450.1 L50.9921 1446.17 Z\" fill=\"#000000\" fill-rule=\"nonzero\" fill-opacity=\"1\" /><path clip-path=\"url(#clip470)\" d=\"M91.5706 1459.06 L99.2095 1459.06 L99.2095 1432.7 L90.8993 1434.36 L90.8993 1430.1 L99.1632 1428.44 L103.839 1428.44 L103.839 1459.06 L111.478 1459.06 L111.478 1463 L91.5706 1463 L91.5706 1459.06 Z\" fill=\"#000000\" fill-rule=\"nonzero\" fill-opacity=\"1\" /><path clip-path=\"url(#clip470)\" d=\"M120.922 1457.12 L125.807 1457.12 L125.807 1463 L120.922 1463 L120.922 1457.12 Z\" fill=\"#000000\" fill-rule=\"nonzero\" fill-opacity=\"1\" /><path clip-path=\"url(#clip470)\" d=\"M145.992 1431.52 Q142.381 1431.52 140.552 1435.08 Q138.746 1438.62 138.746 1445.75 Q138.746 1452.86 140.552 1456.42 Q142.381 1459.97 145.992 1459.97 Q149.626 1459.97 151.431 1456.42 Q153.26 1452.86 153.26 1445.75 Q153.26 1438.62 151.431 1435.08 Q149.626 1431.52 145.992 1431.52 M145.992 1427.81 Q151.802 1427.81 154.857 1432.42 Q157.936 1437 157.936 1445.75 Q157.936 1454.48 154.857 1459.09 Q151.802 1463.67 145.992 1463.67 Q140.181 1463.67 137.103 1459.09 Q134.047 1454.48 134.047 1445.75 Q134.047 1437 137.103 1432.42 Q140.181 1427.81 145.992 1427.81 Z\" fill=\"#000000\" fill-rule=\"nonzero\" fill-opacity=\"1\" /><path clip-path=\"url(#clip470)\" d=\"M51.9875 1106.73 L81.6633 1106.73 L81.6633 1110.67 L51.9875 1110.67 L51.9875 1106.73 Z\" fill=\"#000000\" fill-rule=\"nonzero\" fill-opacity=\"1\" /><path clip-path=\"url(#clip470)\" d=\"M101.756 1092.08 Q98.1447 1092.08 96.316 1095.65 Q94.5104 1099.19 94.5104 1106.32 Q94.5104 1113.42 96.316 1116.99 Q98.1447 1120.53 101.756 1120.53 Q105.39 1120.53 107.196 1116.99 Q109.024 1113.42 109.024 1106.32 Q109.024 1099.19 107.196 1095.65 Q105.39 1092.08 101.756 1092.08 M101.756 1088.38 Q107.566 1088.38 110.621 1092.98 Q113.7 1097.57 113.7 1106.32 Q113.7 1115.04 110.621 1119.65 Q107.566 1124.23 101.756 1124.23 Q95.9456 1124.23 92.8669 1119.65 Q89.8114 1115.04 89.8114 1106.32 Q89.8114 1097.57 92.8669 1092.98 Q95.9456 1088.38 101.756 1088.38 Z\" fill=\"#000000\" fill-rule=\"nonzero\" fill-opacity=\"1\" /><path clip-path=\"url(#clip470)\" d=\"M121.918 1117.68 L126.802 1117.68 L126.802 1123.56 L121.918 1123.56 L121.918 1117.68 Z\" fill=\"#000000\" fill-rule=\"nonzero\" fill-opacity=\"1\" /><path clip-path=\"url(#clip470)\" d=\"M137.033 1089 L155.39 1089 L155.39 1092.94 L141.316 1092.94 L141.316 1101.41 Q142.334 1101.06 143.353 1100.9 Q144.371 1100.72 145.39 1100.72 Q151.177 1100.72 154.556 1103.89 Q157.936 1107.06 157.936 1112.47 Q157.936 1118.05 154.464 1121.15 Q150.992 1124.23 144.672 1124.23 Q142.496 1124.23 140.228 1123.86 Q137.982 1123.49 135.575 1122.75 L135.575 1118.05 Q137.658 1119.19 139.881 1119.74 Q142.103 1120.3 144.58 1120.3 Q148.584 1120.3 150.922 1118.19 Q153.26 1116.09 153.26 1112.47 Q153.26 1108.86 150.922 1106.76 Q148.584 1104.65 144.58 1104.65 Q142.705 1104.65 140.83 1105.07 Q138.978 1105.48 137.033 1106.36 L137.033 1089 Z\" fill=\"#000000\" fill-rule=\"nonzero\" fill-opacity=\"1\" /><path clip-path=\"url(#clip470)\" d=\"M100.76 752.646 Q97.1493 752.646 95.3206 756.21 Q93.515 759.752 93.515 766.882 Q93.515 773.988 95.3206 777.553 Q97.1493 781.094 100.76 781.094 Q104.395 781.094 106.2 777.553 Q108.029 773.988 108.029 766.882 Q108.029 759.752 106.2 756.21 Q104.395 752.646 100.76 752.646 M100.76 748.942 Q106.571 748.942 109.626 753.548 Q112.705 758.132 112.705 766.882 Q112.705 775.608 109.626 780.215 Q106.571 784.798 100.76 784.798 Q94.9502 784.798 91.8715 780.215 Q88.816 775.608 88.816 766.882 Q88.816 758.132 91.8715 753.548 Q94.9502 748.942 100.76 748.942 Z\" fill=\"#000000\" fill-rule=\"nonzero\" fill-opacity=\"1\" /><path clip-path=\"url(#clip470)\" d=\"M120.922 778.247 L125.807 778.247 L125.807 784.127 L120.922 784.127 L120.922 778.247 Z\" fill=\"#000000\" fill-rule=\"nonzero\" fill-opacity=\"1\" /><path clip-path=\"url(#clip470)\" d=\"M145.992 752.646 Q142.381 752.646 140.552 756.21 Q138.746 759.752 138.746 766.882 Q138.746 773.988 140.552 777.553 Q142.381 781.094 145.992 781.094 Q149.626 781.094 151.431 777.553 Q153.26 773.988 153.26 766.882 Q153.26 759.752 151.431 756.21 Q149.626 752.646 145.992 752.646 M145.992 748.942 Q151.802 748.942 154.857 753.548 Q157.936 758.132 157.936 766.882 Q157.936 775.608 154.857 780.215 Q151.802 784.798 145.992 784.798 Q140.181 784.798 137.103 780.215 Q134.047 775.608 134.047 766.882 Q134.047 758.132 137.103 753.548 Q140.181 748.942 145.992 748.942 Z\" fill=\"#000000\" fill-rule=\"nonzero\" fill-opacity=\"1\" /><path clip-path=\"url(#clip470)\" d=\"M101.756 413.21 Q98.1447 413.21 96.316 416.775 Q94.5104 420.317 94.5104 427.446 Q94.5104 434.553 96.316 438.117 Q98.1447 441.659 101.756 441.659 Q105.39 441.659 107.196 438.117 Q109.024 434.553 109.024 427.446 Q109.024 420.317 107.196 416.775 Q105.39 413.21 101.756 413.21 M101.756 409.506 Q107.566 409.506 110.621 414.113 Q113.7 418.696 113.7 427.446 Q113.7 436.173 110.621 440.779 Q107.566 445.363 101.756 445.363 Q95.9456 445.363 92.8669 440.779 Q89.8114 436.173 89.8114 427.446 Q89.8114 418.696 92.8669 414.113 Q95.9456 409.506 101.756 409.506 Z\" fill=\"#000000\" fill-rule=\"nonzero\" fill-opacity=\"1\" /><path clip-path=\"url(#clip470)\" d=\"M121.918 438.812 L126.802 438.812 L126.802 444.691 L121.918 444.691 L121.918 438.812 Z\" fill=\"#000000\" fill-rule=\"nonzero\" fill-opacity=\"1\" /><path clip-path=\"url(#clip470)\" d=\"M137.033 410.131 L155.39 410.131 L155.39 414.067 L141.316 414.067 L141.316 422.539 Q142.334 422.192 143.353 422.03 Q144.371 421.844 145.39 421.844 Q151.177 421.844 154.556 425.016 Q157.936 428.187 157.936 433.604 Q157.936 439.182 154.464 442.284 Q150.992 445.363 144.672 445.363 Q142.496 445.363 140.228 444.992 Q137.982 444.622 135.575 443.881 L135.575 439.182 Q137.658 440.316 139.881 440.872 Q142.103 441.428 144.58 441.428 Q148.584 441.428 150.922 439.321 Q153.26 437.215 153.26 433.604 Q153.26 429.992 150.922 427.886 Q148.584 425.78 144.58 425.78 Q142.705 425.78 140.83 426.196 Q138.978 426.613 137.033 427.492 L137.033 410.131 Z\" fill=\"#000000\" fill-rule=\"nonzero\" fill-opacity=\"1\" /><path clip-path=\"url(#clip470)\" d=\"M91.5706 101.321 L99.2095 101.321 L99.2095 74.9553 L90.8993 76.622 L90.8993 72.3627 L99.1632 70.6961 L103.839 70.6961 L103.839 101.321 L111.478 101.321 L111.478 105.256 L91.5706 105.256 L91.5706 101.321 Z\" fill=\"#000000\" fill-rule=\"nonzero\" fill-opacity=\"1\" /><path clip-path=\"url(#clip470)\" d=\"M120.922 99.3765 L125.807 99.3765 L125.807 105.256 L120.922 105.256 L120.922 99.3765 Z\" fill=\"#000000\" fill-rule=\"nonzero\" fill-opacity=\"1\" /><path clip-path=\"url(#clip470)\" d=\"M145.992 73.7747 Q142.381 73.7747 140.552 77.3395 Q138.746 80.8812 138.746 88.0108 Q138.746 95.1172 140.552 98.682 Q142.381 102.224 145.992 102.224 Q149.626 102.224 151.431 98.682 Q153.26 95.1172 153.26 88.0108 Q153.26 80.8812 151.431 77.3395 Q149.626 73.7747 145.992 73.7747 M145.992 70.0711 Q151.802 70.0711 154.857 74.6775 Q157.936 79.2608 157.936 88.0108 Q157.936 96.7376 154.857 101.344 Q151.802 105.927 145.992 105.927 Q140.181 105.927 137.103 101.344 Q134.047 96.7376 134.047 88.0108 Q134.047 79.2608 137.103 74.6775 Q140.181 70.0711 145.992 70.0711 Z\" fill=\"#000000\" fill-rule=\"nonzero\" fill-opacity=\"1\" /><polyline clip-path=\"url(#clip472)\" style=\"stroke:#009af9; stroke-linecap:round; stroke-linejoin:round; stroke-width:4; stroke-opacity:1; fill:none\" points=\"255.035,766.847 258.278,760.058 261.521,753.27 264.764,746.484 268.007,739.699 271.25,732.917 274.493,726.139 277.736,719.365 280.979,712.595 284.222,705.831 287.465,699.073 290.708,692.322 293.951,685.578 297.194,678.842 300.437,672.115 303.68,665.398 306.923,658.69 310.166,651.994 313.409,645.309 316.652,638.636 319.895,631.976 323.138,625.33 326.381,618.697 329.624,612.08 332.867,605.477 336.11,598.892 339.353,592.322 342.596,585.771 345.84,579.237 349.083,572.722 352.326,566.227 355.569,559.751 358.812,553.297 362.055,546.864 365.298,540.452 368.541,534.064 371.784,527.698 375.027,521.357 378.27,515.04 381.513,508.748 384.756,502.482 387.999,496.243 391.242,490.03 394.485,483.845 397.728,477.689 400.971,471.561 404.214,465.463 407.457,459.396 410.7,453.358 413.943,447.353 417.186,441.379 420.429,435.438 423.672,429.529 426.915,423.655 430.158,417.815 433.401,412.01 436.644,406.24 439.887,400.506 443.13,394.809 446.373,389.15 449.616,383.528 452.859,377.944 456.103,372.399 459.346,366.894 462.589,361.428 465.832,356.003 469.075,350.62 472.318,345.278 475.561,339.978 478.804,334.72 482.047,329.506 485.29,324.336 488.533,319.21 491.776,314.129 495.019,309.092 498.262,304.102 501.505,299.158 504.748,294.261 507.991,289.411 511.234,284.609 514.477,279.855 517.72,275.149 520.963,270.493 524.206,265.887 527.449,261.33 530.692,256.825 533.935,252.37 537.178,247.966 540.421,243.615 543.664,239.316 546.907,235.069 550.15,230.876 553.393,226.736 556.636,222.65 559.879,218.619 563.122,214.643 566.366,210.722 569.609,206.856 572.852,203.046 576.095,199.293 579.338,195.597 582.581,191.957 585.824,188.376 589.067,184.852 592.31,181.386 595.553,177.979 598.796,174.63 602.039,171.341 605.282,168.111 608.525,164.942 611.768,161.832 615.011,158.783 618.254,155.795 621.497,152.868 624.74,150.002 627.983,147.198 631.226,144.456 634.469,141.776 637.712,139.159 640.955,136.604 644.198,134.113 647.441,131.684 650.684,129.32 653.927,127.019 657.17,124.782 660.413,122.609 663.656,120.501 666.899,118.457 670.142,116.478 673.385,114.564 676.629,112.715 679.872,110.932 683.115,109.214 686.358,107.563 689.601,105.977 692.844,104.457 696.087,103.003 699.33,101.616 702.573,100.295 705.816,99.0411 709.059,97.8538 712.302,96.7334 715.545,95.68 718.788,94.6938 722.031,93.7747 725.274,92.923 728.517,92.1387 731.76,91.4218 735.003,90.7724 738.246,90.1907 741.489,89.6766 744.732,89.2303 747.975,88.8517 751.218,88.5409 754.461,88.298 757.704,88.1229 760.947,88.0156 764.19,87.9763 767.433,88.0048 770.676,88.1012 773.919,88.2655 777.162,88.4977 780.405,88.7977 783.648,89.1655 786.892,89.601 790.135,90.1043 793.378,90.6753 796.621,91.3138 799.864,92.02 803.107,92.7936 806.35,93.6346 809.593,94.5429 812.836,95.5185 816.079,96.5612 819.322,97.6709 822.565,98.8475 825.808,100.091 829.051,101.401 832.294,102.778 835.537,104.221 838.78,105.73 842.023,107.306 845.266,108.947 848.509,110.654 851.752,112.427 854.995,114.265 858.238,116.169 861.481,118.137 864.724,120.171 867.967,122.269 871.21,124.431 874.453,126.658 877.696,128.949 880.939,131.304 884.182,133.722 887.425,136.203 890.668,138.748 893.911,141.355 897.155,144.025 900.398,146.757 903.641,149.551 906.884,152.407 910.127,155.325 913.37,158.303 916.613,161.343 919.856,164.442 923.099,167.603 926.342,170.823 929.585,174.102 932.828,177.441 936.071,180.839 939.314,184.296 942.557,187.81 945.8,191.383 949.043,195.013 952.286,198.701 955.529,202.445 958.772,206.246 962.015,210.102 965.258,214.015 968.501,217.982 971.744,222.005 974.987,226.082 978.23,230.213 981.473,234.398 984.716,238.636 987.959,242.927 991.202,247.27 994.445,251.665 997.688,256.112 1000.93,260.609 1004.17,265.158 1007.42,269.756 1010.66,274.405 1013.9,279.102 1017.15,283.848 1020.39,288.643 1023.63,293.485 1026.88,298.375 1030.12,303.312 1033.36,308.295 1036.6,313.323 1039.85,318.398 1043.09,323.517 1046.33,328.68 1049.58,333.887 1052.82,339.137 1056.06,344.431 1059.31,349.766 1062.55,355.143 1065.79,360.562 1069.04,366.021 1072.28,371.52 1075.52,377.058 1078.76,382.636 1082.01,388.252 1085.25,393.905 1088.49,399.597 1091.74,405.324 1094.98,411.088 1098.22,416.888 1101.47,422.723 1104.71,428.592 1107.95,434.494 1111.19,440.43 1114.44,446.399 1117.68,452.4 1120.92,458.432 1124.17,464.495 1127.41,470.588 1130.65,476.711 1133.9,482.863 1137.14,489.043 1140.38,495.251 1143.62,501.487 1146.87,507.748 1150.11,514.036 1153.35,520.349 1156.6,526.687 1159.84,533.048 1163.08,539.433 1166.33,545.841 1169.57,552.271 1172.81,558.722 1176.06,565.194 1179.3,571.686 1182.54,578.198 1185.78,584.729 1189.03,591.278 1192.27,597.844 1195.51,604.427 1198.76,611.027 1202,617.642 1205.24,624.272 1208.49,630.917 1211.73,637.574 1214.97,644.245 1218.21,650.928 1221.46,657.623 1224.7,664.329 1227.94,671.045 1231.19,677.77 1234.43,684.504 1237.67,691.247 1240.92,697.997 1244.16,704.754 1247.4,711.517 1250.64,718.286 1253.89,725.06 1257.13,731.838 1260.37,738.619 1263.62,745.403 1266.86,752.189 1270.1,758.977 1273.35,765.766 1276.59,772.554 1279.83,779.342 1283.08,786.129 1286.32,792.914 1289.56,799.696 1292.8,806.475 1296.05,813.25 1299.29,820.021 1302.53,826.786 1305.78,833.545 1309.02,840.297 1312.26,847.042 1315.51,853.779 1318.75,860.508 1321.99,867.227 1325.23,873.936 1328.48,880.634 1331.72,887.321 1334.96,893.996 1338.21,900.658 1341.45,907.307 1344.69,913.941 1347.94,920.561 1351.18,927.166 1354.42,933.754 1357.66,940.326 1360.91,946.881 1364.15,953.417 1367.39,959.935 1370.64,966.434 1373.88,972.912 1377.12,979.37 1380.37,985.807 1383.61,992.222 1386.85,998.614 1390.1,1004.98 1393.34,1011.33 1396.58,1017.65 1399.82,1023.95 1403.07,1030.22 1406.31,1036.46 1409.55,1042.68 1412.8,1048.87 1416.04,1055.03 1419.28,1061.16 1422.53,1067.26 1425.77,1073.33 1429.01,1079.38 1432.25,1085.39 1435.5,1091.37 1438.74,1097.31 1441.98,1103.23 1445.23,1109.11 1448.47,1114.95 1451.71,1120.76 1454.96,1126.54 1458.2,1132.28 1461.44,1137.98 1464.68,1143.65 1467.93,1149.27 1471.17,1154.86 1474.41,1160.41 1477.66,1165.93 1480.9,1171.4 1484.14,1176.83 1487.39,1182.22 1490.63,1187.57 1493.87,1192.87 1497.11,1198.14 1500.36,1203.36 1503.6,1208.54 1506.84,1213.67 1510.09,1218.76 1513.33,1223.8 1516.57,1228.8 1519.82,1233.75 1523.06,1238.66 1526.3,1243.51 1529.55,1248.32 1532.79,1253.09 1536.03,1257.8 1539.27,1262.46 1542.52,1267.08 1545.76,1271.64 1549,1276.15 1552.25,1280.62 1555.49,1285.03 1558.73,1289.39 1561.98,1293.7 1565.22,1297.95 1568.46,1302.15 1571.7,1306.3 1574.95,1310.4 1578.19,1314.44 1581.43,1318.42 1584.68,1322.35 1587.92,1326.23 1591.16,1330.04 1594.41,1333.81 1597.65,1337.51 1600.89,1341.16 1604.13,1344.75 1607.38,1348.28 1610.62,1351.76 1613.86,1355.18 1617.11,1358.53 1620.35,1361.83 1623.59,1365.07 1626.84,1368.25 1630.08,1371.37 1633.32,1374.43 1636.57,1377.43 1639.81,1380.36 1643.05,1383.24 1646.29,1386.05 1649.54,1388.81 1652.78,1391.49 1656.02,1394.12 1659.27,1396.69 1662.51,1399.19 1665.75,1401.63 1669,1404 1672.24,1406.31 1675.48,1408.56 1678.72,1410.74 1681.97,1412.86 1685.21,1414.92 1688.45,1416.91 1691.7,1418.83 1694.94,1420.69 1698.18,1422.48 1701.43,1424.21 1704.67,1425.87 1707.91,1427.47 1711.15,1429 1714.4,1430.46 1717.64,1431.86 1720.88,1433.19 1724.13,1434.46 1727.37,1435.66 1730.61,1436.79 1733.86,1437.85 1737.1,1438.85 1740.34,1439.78 1743.59,1440.64 1746.83,1441.43 1750.07,1442.16 1753.31,1442.82 1756.56,1443.41 1759.8,1443.94 1763.04,1444.4 1766.29,1444.79 1769.53,1445.11 1772.77,1445.36 1776.02,1445.55 1779.26,1445.67 1782.5,1445.72 1785.74,1445.7 1788.99,1445.61 1792.23,1445.46 1795.47,1445.24 1798.72,1444.95 1801.96,1444.59 1805.2,1444.17 1808.45,1443.67 1811.69,1443.11 1814.93,1442.49 1818.17,1441.79 1821.42,1441.03 1824.66,1440.2 1827.9,1439.3 1831.15,1438.34 1834.39,1437.3 1837.63,1436.2 1840.88,1435.04 1844.12,1433.81 1847.36,1432.51 1850.61,1431.14 1853.85,1429.71 1857.09,1428.21 1860.33,1426.64 1863.58,1425.01 1866.82,1423.32 1870.06,1421.55 1873.31,1419.73 1876.55,1417.83 1879.79,1415.87 1883.04,1413.85 1886.28,1411.76 1889.52,1409.61 1892.76,1407.39 1896.01,1405.11 1899.25,1402.77 1902.49,1400.36 1905.74,1397.89 1908.98,1395.36 1912.22,1392.76 1915.47,1390.1 1918.71,1387.38 1921.95,1384.59 1925.19,1381.75 1928.44,1378.84 1931.68,1375.87 1934.92,1372.84 1938.17,1369.75 1941.41,1366.6 1944.65,1363.39 1947.9,1360.12 1951.14,1356.79 1954.38,1353.4 1957.63,1349.95 1960.87,1346.45 1964.11,1342.88 1967.35,1339.26 1970.6,1335.58 1973.84,1331.85 1977.08,1328.06 1980.33,1324.21 1983.57,1320.31 1986.81,1316.35 1990.06,1312.33 1993.3,1308.26 1996.54,1304.14 1999.78,1299.97 2003.03,1295.74 2006.27,1291.45 2009.51,1287.12 2012.76,1282.73 2016,1278.29 2019.24,1273.8 2022.49,1269.26 2025.73,1264.67 2028.97,1260.03 2032.21,1255.34 2035.46,1250.6 2038.7,1245.82 2041.94,1240.98 2045.19,1236.1 2048.43,1231.17 2051.67,1226.2 2054.92,1221.17 2058.16,1216.11 2061.4,1211 2064.65,1205.84 2067.89,1200.64 2071.13,1195.4 2074.37,1190.11 2077.62,1184.78 2080.86,1179.41 2084.1,1174 2087.35,1168.55 2090.59,1163.05 2093.83,1157.52 2097.08,1151.95 2100.32,1146.34 2103.56,1140.69 2106.8,1135.01 2110.05,1129.28 2113.29,1123.53 2116.53,1117.73 2119.78,1111.9 2123.02,1106.04 2126.26,1100.14 2129.51,1094.21 2132.75,1088.25 2135.99,1082.25 2139.23,1076.22 2142.48,1070.17 2145.72,1064.08 2148.96,1057.96 2152.21,1051.81 2155.45,1045.64 2158.69,1039.43 2161.94,1033.2 2165.18,1026.94 2168.42,1020.66 2171.67,1014.35 2174.91,1008.02 2178.15,1001.66 2181.39,995.279 2184.64,988.875 2187.88,982.448 2191.12,976.001 2194.37,969.532 2197.61,963.043 2200.85,956.534 2204.1,950.006 2207.34,943.46 2210.58,936.896 2213.82,930.316 2217.07,923.719 2220.31,917.106 2223.55,910.478 2226.8,903.836 2230.04,897.18 2233.28,890.512 2236.53,883.83 2239.77,877.138 2243.01,870.434 2246.25,863.719 2249.5,856.995 2252.74,850.262 2255.98,843.521 2259.23,836.772 2262.47,830.016 2265.71,823.254 2268.96,816.486 2272.2,809.713 2275.44,802.936 2278.69,796.155 2281.93,789.371 2285.17,782.585 2288.41,775.798 2291.66,769.009 \"/>\n",
       "<path clip-path=\"url(#clip470)\" d=\"M2012.48 198.898 L2280.8 198.898 L2280.8 95.2176 L2012.48 95.2176  Z\" fill=\"#ffffff\" fill-rule=\"evenodd\" fill-opacity=\"1\"/>\n",
       "<polyline clip-path=\"url(#clip470)\" style=\"stroke:#000000; stroke-linecap:round; stroke-linejoin:round; stroke-width:4; stroke-opacity:1; fill:none\" points=\"2012.48,198.898 2280.8,198.898 2280.8,95.2176 2012.48,95.2176 2012.48,198.898 \"/>\n",
       "<polyline clip-path=\"url(#clip470)\" style=\"stroke:#009af9; stroke-linecap:round; stroke-linejoin:round; stroke-width:4; stroke-opacity:1; fill:none\" points=\"2036.47,147.058 2180.39,147.058 \"/>\n",
       "<path clip-path=\"url(#clip470)\" d=\"M2218.22 166.745 Q2216.42 171.375 2214.7 172.787 Q2212.99 174.199 2210.12 174.199 L2206.72 174.199 L2206.72 170.634 L2209.22 170.634 Q2210.98 170.634 2211.95 169.8 Q2212.92 168.967 2214.1 165.865 L2214.86 163.921 L2204.38 138.412 L2208.89 138.412 L2216.99 158.689 L2225.1 138.412 L2229.61 138.412 L2218.22 166.745 Z\" fill=\"#000000\" fill-rule=\"nonzero\" fill-opacity=\"1\" /><path clip-path=\"url(#clip470)\" d=\"M2236.9 160.402 L2244.54 160.402 L2244.54 134.037 L2236.23 135.703 L2236.23 131.444 L2244.49 129.778 L2249.17 129.778 L2249.17 160.402 L2256.81 160.402 L2256.81 164.338 L2236.9 164.338 L2236.9 160.402 Z\" fill=\"#000000\" fill-rule=\"nonzero\" fill-opacity=\"1\" /></svg>\n"
      ]
     },
     "metadata": {},
     "output_type": "display_data"
    }
   ],
   "source": [
    "using Plots\n",
    "x = 0:0.01:2π\n",
    "y = sin.(x)\n",
    "z = x, y\n",
    "plot(z)"
   ]
  },
  {
   "cell_type": "code",
   "execution_count": 28,
   "metadata": {},
   "outputs": [
    {
     "data": {
      "text/plain": [
       "0.0:1.1111111111111112:10.0"
      ]
     },
     "metadata": {},
     "output_type": "display_data"
    }
   ],
   "source": [
    "range(0, length=10, stop=10)"
   ]
  },
  {
   "cell_type": "code",
   "execution_count": 29,
   "metadata": {},
   "outputs": [
    {
     "data": {
      "text/plain": [
       "8.246211251235321"
      ]
     },
     "metadata": {},
     "output_type": "display_data"
    }
   ],
   "source": [
    "findmax([1, 2, 5, 3])\n",
    "maximum(abs, [1, -2 + 8im, 5im, 3])"
   ]
  },
  {
   "cell_type": "code",
   "execution_count": 30,
   "metadata": {},
   "outputs": [
    {
     "data": {
      "text/plain": [
       "(92.08954958615486, 3)"
      ]
     },
     "metadata": {},
     "output_type": "display_data"
    }
   ],
   "source": [
    "using LinearAlgebra\n",
    "A = [10 30im 0; 30 90 0; 0 0 20]\n",
    "eig = eigen(A)\n",
    "maxval, idx = findmax(abs, eig.values)\n",
    "#eig.values[idx]"
   ]
  }
 ],
 "metadata": {
  "kernelspec": {
   "display_name": "Julia 1.11.1",
   "language": "julia",
   "name": "julia-1.11"
  },
  "language_info": {
   "file_extension": ".jl",
   "mimetype": "application/julia",
   "name": "julia",
   "version": "1.11.1"
  }
 },
 "nbformat": 4,
 "nbformat_minor": 4
}
