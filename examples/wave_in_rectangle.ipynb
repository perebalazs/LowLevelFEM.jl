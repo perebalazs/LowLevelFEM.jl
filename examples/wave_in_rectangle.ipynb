{
 "cells": [
  {
   "cell_type": "code",
   "execution_count": 41,
   "metadata": {},
   "outputs": [],
   "source": [
    "import LowLevelFEM as FEM\n",
    "using LowLevelFEM\n",
    "using SparseArrays\n",
    "\n",
    "gmsh.initialize()"
   ]
  },
  {
   "cell_type": "code",
   "execution_count": 42,
   "metadata": {},
   "outputs": [
    {
     "name": "stdout",
     "output_type": "stream",
     "text": [
      "Info    : Reading 'wave_in_rectangle_2.geo'...\n",
      "Info    : Meshing 1D...\n",
      "Info    : [  0%] Meshing curve 1 (Line)\n",
      "Info    : [ 20%] Meshing curve 2 (Line)\n",
      "Info    : [ 30%] Meshing curve 3 (Line)\n",
      "Info    : [ 50%] Meshing curve 4 (Line)\n",
      "Info    : [ 60%] Meshing curve 5 (Line)\n",
      "Info    : [ 80%] Meshing curve 6 (Line)\n",
      "Info    : [ 90%] Meshing curve 7 (Line)\n",
      "Info    : Done meshing 1D (Wall 0.000828822s, CPU 0.000828s)\n",
      "Info    : Meshing 2D...\n",
      "Info    : Meshing surface 1 (Transfinite)\n",
      "Info    : Done meshing 2D (Wall 0.0055138s, CPU 0.005324s)\n",
      "Info    : 10201 nodes 10407 elements\n",
      "Info    : Done reading 'wave_in_rectangle_2.geo'\n"
     ]
    }
   ],
   "source": [
    "#gmsh.open(\"wave_in_rectangle.geo\")\n",
    "gmsh.open(\"wave_in_rectangle_2.geo\")"
   ]
  },
  {
   "cell_type": "code",
   "execution_count": 43,
   "metadata": {},
   "outputs": [
    {
     "name": "stdout",
     "output_type": "stream",
     "text": [
      "Info    : RCMK renumbering...\n",
      "Info    : Done RCMK renumbering (bandwidth is now 201)\n"
     ]
    },
    {
     "data": {
      "text/plain": [
       "LowLevelFEM.Problem(\"wave_in_rectangle_2\", \"PlaneStress\", 2, [(\"body\", 200000.0, 0.3, 7.85e-9)], 1.0, 10201)"
      ]
     },
     "metadata": {},
     "output_type": "display_data"
    }
   ],
   "source": [
    "mat = FEM.material(\"body\", E=2.e5, ν=0.3, ρ=7.85e-9)\n",
    "problem = FEM.Problem([mat], type=\"PlaneStress\")"
   ]
  },
  {
   "cell_type": "code",
   "execution_count": 44,
   "metadata": {},
   "outputs": [],
   "source": [
    "supp1 = FEM.displacementConstraint(\"left\", ux=0)\n",
    "supp2 = FEM.displacementConstraint(\"middle\", uy=0)\n",
    "load = FEM.load(\"source\", fx=-1);"
   ]
  },
  {
   "cell_type": "code",
   "execution_count": 45,
   "metadata": {},
   "outputs": [],
   "source": [
    "dof = problem.non * problem.dim\n",
    "u0 = zeros(dof)\n",
    "v0 = zeros(dof);"
   ]
  },
  {
   "cell_type": "code",
   "execution_count": 46,
   "metadata": {},
   "outputs": [
    {
     "data": {
      "text/plain": [
       "20402"
      ]
     },
     "metadata": {},
     "output_type": "display_data"
    }
   ],
   "source": [
    "K = FEM.stiffnessMatrix(problem)\n",
    "M = FEM.massMatrix(problem)\n",
    "f = FEM.loadVector(problem, [load])\n",
    "C = spzeros(dof, dof)\n",
    "dof"
   ]
  },
  {
   "cell_type": "code",
   "execution_count": 47,
   "metadata": {},
   "outputs": [],
   "source": [
    "FEM.applyBoundaryConditions!(problem, K, M, C, f, [supp1, supp2]);"
   ]
  },
  {
   "cell_type": "code",
   "execution_count": 48,
   "metadata": {},
   "outputs": [
    {
     "data": {
      "text/plain": [
       "5.92904847515697e-7"
      ]
     },
     "metadata": {},
     "output_type": "display_data"
    }
   ],
   "source": [
    "Tₘᵢₙ = FEM.smallestPeriodTime(K, M)"
   ]
  },
  {
   "cell_type": "code",
   "execution_count": 49,
   "metadata": {},
   "outputs": [
    {
     "data": {
      "text/plain": [
       "([0.0 0.0 … 0.0 0.0; 0.0 0.0 … 0.0 0.0; … ; 0.0 0.0 … 0.0 0.0; 0.0 0.0 … 0.0 0.0], [0.0 0.0 … 0.0 0.0; 0.0 0.0 … 0.0 0.0; … ; 0.0 0.0 … 0.0 0.0; 0.0 0.0 … 0.0 0.0], [0.0, 1.887274745305393e-7, 3.774549490610786e-7, 5.661824235916178e-7, 7.549098981221572e-7, 9.436373726526965e-7, 1.1323648471832357e-6])"
      ]
     },
     "metadata": {},
     "output_type": "display_data"
    }
   ],
   "source": [
    "u1, v1, t1 = FEM.CDM(K, M, C, f, u0, v0, 2Tₘᵢₙ, Tₘᵢₙ / π)"
   ]
  },
  {
   "cell_type": "code",
   "execution_count": 50,
   "metadata": {},
   "outputs": [
    {
     "data": {
      "text/plain": [
       "([0.0 0.0 … -1.7756843307919433e-6 -4.683301687735873e-6; 0.0 0.0 … -4.9697562664407475e-6 -1.4827030132254326e-6; … ; 0.0 0.0 … 0.0 0.0; 0.0 0.0 … 0.0 0.0], [0.0 0.0 … -13.554748245954427 -15.406433876024915; 0.0 0.0 … 13.697662955867486 18.47665933054729; … ; 0.0 0.0 … 0.0 0.0; 0.0 0.0 … 0.0 0.0], [0.0, 1.887274745305393e-7, 3.774549490610786e-7, 5.661824235916178e-7, 7.549098981221572e-7, 9.436373726526965e-7, 1.1323648471832357e-6, 1.321092321713775e-6, 1.5098197962443141e-6, 1.6985472707748533e-6  …  1.604183533509585e-5, 1.623056280962639e-5, 1.6419290284156928e-5, 1.6608017758687466e-5, 1.6796745233218004e-5, 1.6985472707748542e-5, 1.717420018227908e-5, 1.736292765680962e-5, 1.7551655131340157e-5, 1.7740382605870695e-5])"
      ]
     },
     "metadata": {},
     "output_type": "display_data"
    }
   ],
   "source": [
    "sts = length(t1)\n",
    "u0 = u1[:, sts]\n",
    "v0 = v1[:, sts]\n",
    "\n",
    "f .*= 0\n",
    "u2, v2, t2 = FEM.CDM(K, M, C, f, u0, v0, 30Tₘᵢₙ, Tₘᵢₙ / π)"
   ]
  },
  {
   "cell_type": "code",
   "execution_count": 51,
   "metadata": {},
   "outputs": [],
   "source": [
    "gmsh.option.setNumber(\"General.Trackball\", 0)\n",
    "gmsh.option.setNumber(\"General.RotationX\", 298)\n",
    "gmsh.option.setNumber(\"General.RotationY\", 346)\n",
    "gmsh.option.setNumber(\"General.RotationZ\", 332)"
   ]
  },
  {
   "cell_type": "code",
   "execution_count": 52,
   "metadata": {},
   "outputs": [],
   "source": [
    "vvec1 = FEM.showDoFResults(problem, v1, t=t1, \"vvec\", name=\"v1(t)\", visible=false)\n",
    "gmsh.option.setNumber(\"Mesh.SurfaceEdges\", 0)\n",
    "gmsh.option.setNumber(\"View[$vvec1].NormalRaise\", 5)\n",
    "gmsh.option.setNumber(\"View[$vvec1].VectorType\", 5)\n",
    "gmsh.option.setNumber(\"View[$vvec1].IntervalsType\", 3)\n",
    "gmsh.option.setNumber(\"View[$vvec1].NbIso\", 20)"
   ]
  },
  {
   "cell_type": "code",
   "execution_count": 53,
   "metadata": {},
   "outputs": [],
   "source": [
    "vvec2 = FEM.showDoFResults(problem, v2, t=t2, \"vvec\", name=\"v2(t)\", visible=true)\n",
    "gmsh.option.setNumber(\"Mesh.SurfaceEdges\", 0)\n",
    "gmsh.option.setNumber(\"View[$vvec2].NormalRaise\", 5)\n",
    "gmsh.option.setNumber(\"View[$vvec2].VectorType\", 5)\n",
    "gmsh.option.setNumber(\"View[$vvec2].IntervalsType\", 3)\n",
    "gmsh.option.setNumber(\"View[$vvec2].NbIso\", 20)"
   ]
  },
  {
   "cell_type": "code",
   "execution_count": 54,
   "metadata": {},
   "outputs": [
    {
     "data": {
      "text/plain": [
       "LowLevelFEM.StressField([[0.0 0.0 … 0.0 -2.8084380082238363e-9; 0.0 0.0 … 0.0 -3.8667492575266114e-10; … ; 0.0 0.0 … 0.0 0.0; 0.0 0.0 … 0.0 0.0], [0.0 0.0 … 0.0 -3.300752643269579e-9; 0.0 0.0 … 0.0 -3.287606563154661e-10; … ; 0.0 0.0 … 0.0 0.0; 0.0 0.0 … 0.0 0.0], [0.0 0.0 … 0.0 -6.028353080626717e-9; 0.0 0.0 … 0.0 -6.60925968751474e-10; … ; 0.0 0.0 … 0.0 0.0; 0.0 0.0 … 0.0 0.0], [0.0 0.0 … 0.0 -1.1594134384450572e-8; 0.0 0.0 … 0.0 -1.2893407899989747e-9; … ; 0.0 0.0 … 0.0 0.0; 0.0 0.0 … 0.0 0.0], [0.0 0.0 … 0.0 -2.2242705963299e-8; 0.0 0.0 … 0.0 -2.4378019021641644e-9; … ; 0.0 0.0 … 0.0 0.0; 0.0 0.0 … 0.0 0.0], [0.0 0.0 … 0.0 -4.210441456442558e-8; 0.0 0.0 … 0.0 -4.51380510964074e-9; … ; 0.0 0.0 … 0.0 0.0; 0.0 0.0 … 0.0 0.0], [0.0 0.0 … 0.0 -7.845615611538149e-8; 0.0 0.0 … 0.0 -8.209304996764692e-9; … ; 0.0 0.0 … 0.0 0.0; 0.0 0.0 … 0.0 0.0], [0.0 0.0 … 0.0 -1.4384902655843103e-7; 0.0 0.0 … 0.0 -1.4678199693296598e-8; … ; 0.0 0.0 … 0.0 0.0; 0.0 0.0 … 0.0 0.0], [0.0 0.0 … 0.0 -2.5952992944970647e-7; 0.0 0.0 … 0.0 -2.5810116320804327e-8; … ; 0.0 0.0 … 0.0 0.0; 0.0 0.0 … 0.0 0.0], [0.0 0.0 … 0.0 -4.6082181938769106e-7; 0.0 0.0 … 0.0 -4.4642045157621563e-8; … ; 0.0 0.0 … 0.0 0.0; 0.0 0.0 … 0.0 0.0]  …  [0.0 0.0 … -0.017643880173796853 -0.016183538560171438; 0.0 0.0 … 0.017412319479051287 -0.027707731995574213; … ; 0.0 0.0 … 0.0 0.0; 0.0 0.0 … 0.0 0.0], [0.0 0.0 … -0.01065686195156721 0.035541418221936204; 0.0 0.0 … 0.005779841728950384 0.017037871911666922; … ; 0.0 0.0 … 0.0 0.0; 0.0 0.0 … 0.0 0.0], [0.0 0.0 … -0.004574749169619537 0.04448662350758138; 0.0 0.0 … -0.04387126887371139 0.006604084184537537; … ; 0.0 0.0 … 0.0 0.0; 0.0 0.0 … 0.0 0.0], [0.0 0.0 … -0.008182174612382674 -0.01573422498986353; 0.0 0.0 … -0.019950464321214268 -0.03707831869552794; … ; 0.0 0.0 … 0.0 0.0; 0.0 0.0 … 0.0 0.0], [0.0 0.0 … 0.009833591733061683 -0.028779448058744852; 0.0 0.0 … 0.041393905614658326 -0.006084406509354437; … ; 0.0 0.0 … 0.0 0.0; 0.0 0.0 … 0.0 0.0], [0.0 0.0 … 0.02696255926170138 0.018759245320380785; 0.0 0.0 … 0.0005116437315610282 0.031177655680776965; … ; 0.0 0.0 … 0.0 0.0; 0.0 0.0 … 0.0 0.0], [0.0 0.0 … 0.024759507212919807 0.025311251000433212; 0.0 0.0 … -0.09468938754032358 -0.026117718560339728; … ; 0.0 0.0 … 0.0 0.0; 0.0 0.0 … 0.0 0.0], [0.0 0.0 … -0.009306345363566774 -0.017879606563591232; 0.0 0.0 … -0.09371688454587654 -0.0997276896747978; … ; 0.0 0.0 … 0.0 0.0; 0.0 0.0 … 0.0 0.0], [0.0 0.0 … 0.00556091635175197 -0.03306871600201805; 0.0 0.0 … -0.008398393939890439 -0.06609275094200186; … ; 0.0 0.0 … 0.0 0.0; 0.0 0.0 … 0.0 0.0], [0.0 0.0 … 0.02022888203056976 -0.02057189749778402; 0.0 0.0 … 0.024706123627242865 0.03134185780970059; … ; 0.0 0.0 … 0.0 0.0; 0.0 0.0 … 0.0 0.0]], [408, 409, 410, 411, 412, 413, 414, 415, 416, 417  …  10398, 10399, 10400, 10401, 10402, 10403, 10404, 10405, 10406, 10407], 95)"
      ]
     },
     "metadata": {},
     "output_type": "display_data"
    }
   ],
   "source": [
    "S2 = FEM.solveStress(problem, u2)"
   ]
  },
  {
   "cell_type": "code",
   "execution_count": 55,
   "metadata": {},
   "outputs": [
    {
     "name": "stdout",
     "output_type": "stream",
     "text": [
      "Info    : Running Plugin(Smooth)...\n",
      "Info    : Done running Plugin(Smooth)\n"
     ]
    }
   ],
   "source": [
    "s2 = FEM.showStressResults(problem, S2, \"seqv\", name=\"σ(t)\", t=t2, visible=false, smooth=true)\n",
    "gmsh.option.setNumber(\"Mesh.SurfaceEdges\", 0)\n",
    "gmsh.option.setNumber(\"View[$s2].NormalRaise\", 100)\n",
    "#gmsh.option.setNumber(\"View[$s2].VectorType\", 5)\n",
    "gmsh.option.setNumber(\"View[$s2].IntervalsType\", 3)\n",
    "gmsh.option.setNumber(\"View[$s2].NbIso\", 20)"
   ]
  },
  {
   "cell_type": "code",
   "execution_count": 56,
   "metadata": {},
   "outputs": [
    {
     "name": "stdout",
     "output_type": "stream",
     "text": [
      "Info    : Running Plugin(Smooth)...\n",
      "Info    : Done running Plugin(Smooth)\n"
     ]
    }
   ],
   "source": [
    "seqv = FEM.showStressResults(problem, S2, \"seqv\", name=\"σeqv(t)\", t=t2, visible=false, smooth=true)\n",
    "gmsh.option.setNumber(\"Mesh.SurfaceEdges\", 0)\n",
    "gmsh.option.setNumber(\"View[$seqv].NormalRaise\", 100)\n",
    "#gmsh.option.setNumber(\"View[$seqv].VectorType\", 5)\n",
    "gmsh.option.setNumber(\"View[$seqv].IntervalsType\", 3)\n",
    "gmsh.option.setNumber(\"View[$seqv].NbIso\", 20)"
   ]
  },
  {
   "cell_type": "code",
   "execution_count": 57,
   "metadata": {},
   "outputs": [
    {
     "data": {
      "text/plain": [
       "4"
      ]
     },
     "metadata": {},
     "output_type": "display_data"
    }
   ],
   "source": [
    "FEM.plotOnPath(problem, \"path\", step=1im, s2, 500)"
   ]
  },
  {
   "cell_type": "code",
   "execution_count": 58,
   "metadata": {},
   "outputs": [
    {
     "name": "stdout",
     "output_type": "stream",
     "text": [
      "-------------------------------------------------------\n",
      "Version       : 4.12.2\n",
      "License       : GNU General Public License\n",
      "Build OS      : Linux64-sdk\n",
      "Build date    : 19700101\n",
      "Build host    : amdci7.julia.csail.mit.edu\n",
      "Build options : 64Bit ALGLIB[contrib] ANN[contrib] Bamg Blossom Cairo DIntegration Dlopen DomHex Eigen[contrib] Fltk GMP Gmm[contrib] Hxt Jpeg Kbipack LinuxJoystick MathEx[contrib] Mesh Metis[contrib] Mmg Mpeg Netgen ONELAB ONELABMetamodel OpenCASCADE OpenCASCADE-CAF OpenGL OpenMP OptHom Parser Plugins Png Post QuadMeshingTools QuadTri Solver TetGen/BR Voro++[contrib] WinslowUntangler Zlib\n",
      "FLTK version  : 1.3.8\n",
      "OCC version   : 7.6.2\n",
      "Packaged by   : root\n",
      "Web site      : https://gmsh.info\n",
      "Issue tracker : https://gitlab.onelab.info/gmsh/gmsh/issues\n",
      "-------------------------------------------------------\n"
     ]
    },
    {
     "name": "stderr",
     "output_type": "stream",
     "text": [
      "XRequest.18: BadValue 0x0\n"
     ]
    }
   ],
   "source": [
    "gmsh.fltk.run()"
   ]
  },
  {
   "cell_type": "code",
   "execution_count": 59,
   "metadata": {},
   "outputs": [
    {
     "data": {
      "text/plain": [
       "(\"NodeData\", UInt64[0x0000000000000001, 0x0000000000000002, 0x0000000000000003, 0x0000000000000004, 0x0000000000000005, 0x0000000000000006, 0x0000000000000007, 0x0000000000000008, 0x0000000000000009, 0x000000000000000a  …  0x00000000000027d0, 0x00000000000027d1, 0x00000000000027d2, 0x00000000000027d3, 0x00000000000027d4, 0x00000000000027d5, 0x00000000000027d6, 0x00000000000027d7, 0x00000000000027d8, 0x00000000000027d9], [[0.0], [0.0], [0.0], [0.0], [0.0], [0.0], [0.0], [0.0], [0.0], [0.0]  …  [0.0], [0.0], [0.0], [0.0], [0.0], [0.0], [0.0], [0.0], [0.0], [0.0]], 0.0, 1)"
      ]
     },
     "metadata": {},
     "output_type": "display_data"
    }
   ],
   "source": [
    "dataType, tags, data, time, numComponents = gmsh.view.getModelData(seqv, 0)"
   ]
  },
  {
   "cell_type": "code",
   "execution_count": 60,
   "metadata": {},
   "outputs": [],
   "source": [
    "gmsh.finalize()"
   ]
  }
 ],
 "metadata": {
  "kernelspec": {
   "display_name": "Julia 1.10.2",
   "language": "julia",
   "name": "julia-1.10"
  },
  "language_info": {
   "file_extension": ".jl",
   "mimetype": "application/julia",
   "name": "julia",
   "version": "1.10.2"
  }
 },
 "nbformat": 4,
 "nbformat_minor": 2
}
