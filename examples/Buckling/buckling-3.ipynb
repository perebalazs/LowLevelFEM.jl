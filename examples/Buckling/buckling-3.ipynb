{
 "cells": [
  {
   "cell_type": "code",
   "execution_count": 18,
   "metadata": {},
   "outputs": [],
   "source": [
    "import LowLevelFEM as FEM\n",
    "using LowLevelFEM\n",
    "\n",
    "gmsh.initialize()"
   ]
  },
  {
   "cell_type": "code",
   "execution_count": 19,
   "metadata": {},
   "outputs": [
    {
     "name": "stdout",
     "output_type": "stream",
     "text": [
      "Info    : Reading 'buckling-3.geo'...\n",
      "Info    : Meshing 1D...                                                                                                     \n",
      "Info    : [  0%] Meshing curve 1 (Line)\n",
      "Info    : [ 10%] Meshing curve 2 (Line)\n",
      "Info    : [ 20%] Meshing curve 3 (Line)\n",
      "Info    : [ 20%] Meshing curve 4 (Line)\n",
      "Info    : [ 30%] Meshing curve 5 (Line)\n",
      "Info    : [ 30%] Meshing curve 6 (Line)\n",
      "Info    : [ 40%] Meshing curve 7 (Line)\n",
      "Info    : [ 40%] Meshing curve 8 (Line)\n",
      "Info    : [ 50%] Meshing curve 9 (Line)\n",
      "Info    : [ 50%] Meshing curve 10 (Line)\n",
      "Info    : [ 60%] Meshing curve 11 (Line)\n",
      "Info    : [ 60%] Meshing curve 12 (Line)\n",
      "Info    : [ 70%] Meshing curve 13 (Line)\n",
      "Info    : [ 70%] Meshing curve 14 (Line)\n",
      "Info    : [ 80%] Meshing curve 15 (Line)\n",
      "Info    : [ 80%] Meshing curve 16 (Line)\n",
      "Info    : [ 90%] Meshing curve 17 (Line)\n",
      "Info    : [ 90%] Meshing curve 18 (Line)\n",
      "Info    : [100%] Meshing curve 19 (Line)\n",
      "Info    : [100%] Meshing curve 20 (Line)\n",
      "Info    : Done meshing 1D (Wall 0.00104597s, CPU 0.001046s)\n",
      "Info    : Meshing 2D...\n",
      "Info    : [  0%] Meshing surface 1 (Transfinite)\n",
      "Info    : [ 10%] Meshing surface 2 (Transfinite)\n",
      "Info    : [ 20%] Meshing surface 3 (Transfinite)\n",
      "Info    : [ 30%] Meshing surface 4 (Transfinite)\n",
      "Info    : [ 40%] Meshing surface 5 (Transfinite)\n",
      "Info    : [ 50%] Meshing surface 6 (Transfinite)\n",
      "Info    : [ 60%] Meshing surface 7 (Transfinite)\n",
      "Info    : [ 70%] Meshing surface 8 (Transfinite)\n",
      "Info    : [ 80%] Meshing surface 9 (Transfinite)\n",
      "Info    : [ 90%] Meshing surface 10 (Transfinite)\n",
      "Info    : [100%] Meshing surface 11 (Transfinite)\n",
      "Info    : Done meshing 2D (Wall 0.000652831s, CPU 0.000651s)\n",
      "Info    : Meshing 3D...\n",
      "Info    : Meshing volume 1 (Transfinite)\n",
      "Info    : Meshing volume 2 (Transfinite)\n",
      "Info    : Done meshing 3D (Wall 0.00210936s, CPU 0.002107s)\n",
      "Info    : Optimizing mesh...\n",
      "Info    : Done optimizing mesh (Wall 2.7079e-05s, CPU 2.7e-05s)\n",
      "Info    : 775 nodes 1344 elements\n",
      "Info    : Done reading 'buckling-3.geo'\n"
     ]
    }
   ],
   "source": [
    "gmsh.open(\"buckling-3.geo\")"
   ]
  },
  {
   "cell_type": "code",
   "execution_count": 20,
   "metadata": {},
   "outputs": [
    {
     "name": "stdout",
     "output_type": "stream",
     "text": [
      "Info    : RCMK renumbering...\n",
      "Info    : Done RCMK renumbering (bandwidth is now 61)\n"
     ]
    },
    {
     "data": {
      "text/plain": [
       "LowLevelFEM.Problem(\"buckling-3\", \"Solid\", 3, 3, LowLevelFEM.Material[LowLevelFEM.Material(\"body\", 200000.0, 0.3, 7.85e-9, 45.0, 4.2e8, 1.2e-5)], 1.0, 775)"
      ]
     },
     "metadata": {},
     "output_type": "display_data"
    }
   ],
   "source": [
    "mat = FEM.material(\"body\", E=2.0e5, ν=0.3)\n",
    "problem = FEM.Problem([mat], type=\"Solid\", bandwidth=\"none\")"
   ]
  },
  {
   "cell_type": "code",
   "execution_count": 21,
   "metadata": {},
   "outputs": [
    {
     "data": {
      "text/plain": [
       "-43181"
      ]
     },
     "metadata": {},
     "output_type": "display_data"
    }
   ],
   "source": [
    "l = gmsh.parser.getNumber(\"l\")[1]\n",
    "a = gmsh.parser.getNumber(\"a\")[1]\n",
    "F = -43275 + 94"
   ]
  },
  {
   "cell_type": "code",
   "execution_count": 22,
   "metadata": {},
   "outputs": [
    {
     "data": {
      "text/plain": [
       "Fy (generic function with 1 method)"
      ]
     },
     "metadata": {},
     "output_type": "display_data"
    }
   ],
   "source": [
    "Fy(x, y, z) = -100z / 10"
   ]
  },
  {
   "cell_type": "code",
   "execution_count": 23,
   "metadata": {},
   "outputs": [
    {
     "data": {
      "text/plain": [
       "(\"right\", 0, Main.Fy, 0)"
      ]
     },
     "metadata": {},
     "output_type": "display_data"
    }
   ],
   "source": [
    "supp = FEM.displacementConstraint(\"supp\", ux=0, uy=0, uz=0)\n",
    "supp0 = FEM.displacementConstraint(\"left\", ux=0, uy=0, uz=0)\n",
    "supp1 = FEM.displacementConstraint(\"load\", uy=0, uz=0)\n",
    "supp2 = FEM.displacementConstraint(\"load\", ux=0, uy=0, uz=0)\n",
    "load = FEM.load(\"load\", fx=F / a^2)\n",
    "load0 = FEM.load(\"right\", fx=F / a^2)\n",
    "loadBand = FEM.load(\"right\", fy=Fy)"
   ]
  },
  {
   "cell_type": "code",
   "execution_count": 24,
   "metadata": {},
   "outputs": [
    {
     "data": {
      "text/plain": [
       "LowLevelFEM.Eigen([1.0000134518454247, 1.0000134518462185, 8.488058737572048, 8.48805873757483, 21.240793701882094, 21.24079370188233], [-2.4245516570032817e-17 -2.2572979727273432e-17 … -1.1855677905805616e-17 2.915503628083669e-18; -1.839243105281654e-17 -1.7179950987969113e-17 … -7.054093571835156e-19 3.650825681921301e-18; … ; 0.06872677421753781 0.06300438961033106 … 0.023821248134359912 -0.017020935737640602; 0.01313116309477728 -0.03042925478960272 … 0.0008463689460581035 0.016552104495186917])"
      ]
     },
     "metadata": {},
     "output_type": "display_data"
    }
   ],
   "source": [
    "B = FEM.solveBuckling(problem, [load0], [supp0])"
   ]
  },
  {
   "cell_type": "code",
   "execution_count": 25,
   "metadata": {},
   "outputs": [
    {
     "data": {
      "text/plain": [
       "6-element Vector{Float64}:\n",
       "  1.0000134518454247\n",
       "  1.0000134518462185\n",
       "  8.488058737572048\n",
       "  8.48805873757483\n",
       " 21.240793701882094\n",
       " 21.24079370188233"
      ]
     },
     "metadata": {},
     "output_type": "display_data"
    }
   ],
   "source": [
    "B.f"
   ]
  },
  {
   "cell_type": "code",
   "execution_count": 26,
   "metadata": {},
   "outputs": [
    {
     "data": {
      "text/plain": [
       "0"
      ]
     },
     "metadata": {},
     "output_type": "display_data"
    }
   ],
   "source": [
    "bk = FEM.showBucklingResults(problem, B, visible=false)"
   ]
  },
  {
   "cell_type": "code",
   "execution_count": 27,
   "metadata": {},
   "outputs": [
    {
     "data": {
      "text/plain": [
       "LowLevelFEM.Eigen([3.2008237473921834, 3.2008244100976033, 4550.402122808056, 4550.402125012284, 6942.794620770964, 12658.088891621863, 12780.99080740868, 12780.9908130363, 20811.083894084983, 23508.291759058502], [1.2530302262992076e-19 7.052498345489531e-19 … -2.372154946732958e-18 -3.940082359254047e-18; -5.1854961460719077e-20 -2.8319470579759245e-19 … 2.26966207468516e-19 3.339747008743278e-19; … ; 0.06961978273423193 -0.013650179359273453 … 0.02508597864821466 0.03756792027903171; 0.006987982212164928 0.0686240851371404 … -0.025085978596522618 0.00939820422797368])"
      ]
     },
     "metadata": {},
     "output_type": "display_data"
    }
   ],
   "source": [
    "M = FEM.solveModalAnalysis(problem, load=[load0], bc=[supp0], n=10, fₘᵢₙ=1.01)"
   ]
  },
  {
   "cell_type": "code",
   "execution_count": 28,
   "metadata": {},
   "outputs": [
    {
     "data": {
      "text/plain": [
       "1"
      ]
     },
     "metadata": {},
     "output_type": "display_data"
    }
   ],
   "source": [
    "ma = FEM.showModalResults(problem, M, visible=false)"
   ]
  },
  {
   "cell_type": "code",
   "execution_count": 29,
   "metadata": {},
   "outputs": [],
   "source": [
    "gmsh.view.option.setNumber(bk, \"DisplacementFactor\", 300)\n",
    "gmsh.view.option.setNumber(ma, \"DisplacementFactor\", 300)"
   ]
  },
  {
   "cell_type": "code",
   "execution_count": 30,
   "metadata": {},
   "outputs": [
    {
     "data": {
      "text/plain": [
       "\"λ = 69.28203230275508\""
      ]
     },
     "metadata": {},
     "output_type": "display_data"
    },
    {
     "data": {
      "text/plain": [
       "\"theory: Fₖᵣ = 41123.351671205666\""
      ]
     },
     "metadata": {},
     "output_type": "display_data"
    },
    {
     "data": {
      "text/plain": [
       "\"fem: Fₖᵣ = 43181.580864137286\""
      ]
     },
     "metadata": {},
     "output_type": "display_data"
    }
   ],
   "source": [
    "E = problem.material[1].E\n",
    "A = a * a\n",
    "I = a^4 / 12\n",
    "i = √(I / A)\n",
    "β = 2\n",
    "l0 = β * l\n",
    "λ = l0 / i\n",
    "display(\"λ = $λ\")\n",
    "σₖᵣ = π^2 * E / λ^2\n",
    "Fₖᵣ = σₖᵣ * A\n",
    "display(\"theory: Fₖᵣ = $Fₖᵣ\")\n",
    "\n",
    "Fkrfem = -F * B.f[1]\n",
    "display(\"fem: Fₖᵣ = $Fkrfem\")"
   ]
  },
  {
   "cell_type": "code",
   "execution_count": 31,
   "metadata": {},
   "outputs": [
    {
     "data": {
      "text/plain": [
       "\"ω0 = 12618.86162812672\""
      ]
     },
     "metadata": {},
     "output_type": "display_data"
    },
    {
     "data": {
      "text/plain": [
       "\"i = 1\""
      ]
     },
     "metadata": {},
     "output_type": "display_data"
    },
    {
     "data": {
      "text/plain": [
       "\"ω0i = 2288.808319845581\""
      ]
     },
     "metadata": {},
     "output_type": "display_data"
    },
    {
     "data": {
      "text/plain": [
       "\"ωi = 2288.808319845581\""
      ]
     },
     "metadata": {},
     "output_type": "display_data"
    },
    {
     "data": {
      "text/plain": [
       "10-element Vector{Float64}:\n",
       "     3.2008237473921834\n",
       "     3.2008244100976033\n",
       "  4550.402122808056\n",
       "  4550.402125012284\n",
       "  6942.794620770964\n",
       " 12658.088891621863\n",
       " 12780.99080740868\n",
       " 12780.9908130363\n",
       " 20811.083894084983\n",
       " 23508.291759058502"
      ]
     },
     "metadata": {},
     "output_type": "display_data"
    }
   ],
   "source": [
    "n = 1\n",
    "ρ = problem.material[1].ρ\n",
    "ω0 = π / 2 / l * √(E / ρ) / 2π\n",
    "ω0i = n^2 * π^2 / l^2 * √(E * I / (ρ * A)) / 2π\n",
    "ωi = n^2 * π^2 / l^2 * √(E * I / (ρ * A)) * √(1 + l^2 * 0F / (n^2 * π^2 * E * I)) / 2π\n",
    "display(\"ω0 = $ω0\")\n",
    "display(\"i = $n\")\n",
    "display(\"ω0i = $ω0i\")\n",
    "display(\"ωi = $ωi\")\n",
    "display(M.f)"
   ]
  },
  {
   "cell_type": "code",
   "execution_count": 32,
   "metadata": {},
   "outputs": [
    {
     "data": {
      "text/plain": [
       "\"err(1) = 0.00037964263030337787\""
      ]
     },
     "metadata": {},
     "output_type": "display_data"
    },
    {
     "data": {
      "text/plain": [
       "\"err(2) = 0.0034178664468301843\""
      ]
     },
     "metadata": {},
     "output_type": "display_data"
    },
    {
     "data": {
      "text/plain": [
       "\"err(3) = 2.4051050870009733e-5\""
      ]
     },
     "metadata": {},
     "output_type": "display_data"
    },
    {
     "data": {
      "text/plain": [
       "\"err(4) = 2.8462974824623095e-5\""
      ]
     },
     "metadata": {},
     "output_type": "display_data"
    },
    {
     "data": {
      "text/plain": [
       "\"err(5) = 4.1372501998703386e-7\""
      ]
     },
     "metadata": {},
     "output_type": "display_data"
    },
    {
     "data": {
      "text/plain": [
       "\"err(6) = 3.131090964132681e-7\""
      ]
     },
     "metadata": {},
     "output_type": "display_data"
    },
    {
     "data": {
      "text/plain": [
       "\"err(7) = 6.783928119666768e-9\""
      ]
     },
     "metadata": {},
     "output_type": "display_data"
    }
   ],
   "source": [
    "K = FEM.stiffnessMatrix(problem)\n",
    "f = FEM.loadVector(problem, [loadBand])\n",
    "FEM.applyBoundaryConditions!(problem, K, f, [supp0])\n",
    "q = FEM.solveDisplacement(K, f)\n",
    "\n",
    "err = 1\n",
    "counter = 0\n",
    "\n",
    "while err > 1e-8 && counter < 20\n",
    "    counter += 1\n",
    "    q0 = copy(q)\n",
    "    f = FEM.loadVector(problem, [loadBand])\n",
    "    K = FEM.stiffnessMatrix(problem)\n",
    "    Knl = FEM.nonLinearStiffnessMatrix(problem, q)\n",
    "    FEM.applyBoundaryConditions!(problem, K, Knl, f, [supp0])\n",
    "    q = FEM.solveDisplacement(K + Knl, f)\n",
    "    err = sum(abs, q - q0) / sum(abs, q0)\n",
    "    display(\"err($counter) = $err\")\n",
    "end\n",
    "\n",
    "u = FEM.showDoFResults(problem, q, \"uvec\", visible=true)\n",
    "gmsh.view.option.setNumber(u, \"DisplacementFactor\", 1)\n",
    "gmsh.view.option.setNumber(u, \"VectorType\", 5)"
   ]
  },
  {
   "cell_type": "code",
   "execution_count": 33,
   "metadata": {},
   "outputs": [
    {
     "name": "stdout",
     "output_type": "stream",
     "text": [
      "-------------------------------------------------------\n",
      "Version       : 4.13.1\n",
      "License       : GNU General Public License\n",
      "Build OS      : Linux64-sdk\n",
      "Build date    : 19700101\n",
      "Build host    : amdci7.julia.csail.mit.edu\n",
      "Build options : 64Bit ALGLIB[contrib] ANN[contrib] Bamg Blossom Cairo DIntegration Dlopen DomHex Eigen[contrib] Fltk GMP Gmm[contrib] Hxt Jpeg Kbipack LinuxJoystick MathEx[contrib] Mesh Metis[contrib] Mmg Mpeg Netgen Nii2mesh ONELAB ONELABMetamodel OpenCASCADE OpenCASCADE-CAF OpenGL OpenMP OptHom Parser Plugins Png Post QuadMeshingTools QuadTri Solver TetGen/BR TinyXML2[contrib] Untangle Voro++[contrib] WinslowUntangler Zlib\n",
      "FLTK version  : 1.3.8\n",
      "OCC version   : 7.7.2\n",
      "Packaged by   : root\n",
      "Web site      : https://gmsh.info\n",
      "Issue tracker : https://gitlab.onelab.info/gmsh/gmsh/issues\n",
      "-------------------------------------------------------\n"
     ]
    },
    {
     "name": "stderr",
     "output_type": "stream",
     "text": [
      "XRequest.18: BadValue 0x0\n"
     ]
    }
   ],
   "source": [
    "gmsh.fltk.run()"
   ]
  },
  {
   "cell_type": "code",
   "execution_count": 34,
   "metadata": {
    "slideshow": {
     "slide_type": ""
    },
    "tags": []
   },
   "outputs": [],
   "source": [
    "gmsh.finalize()"
   ]
  }
 ],
 "metadata": {
  "kernelspec": {
   "display_name": "Julia 1.11.3",
   "language": "julia",
   "name": "julia-1.11"
  },
  "language_info": {
   "file_extension": ".jl",
   "mimetype": "application/julia",
   "name": "julia",
   "version": "1.11.3"
  },
  "varInspector": {
   "cols": {
    "lenName": 16,
    "lenType": 16,
    "lenVar": 40
   },
   "kernels_config": {
    "python": {
     "delete_cmd_postfix": "",
     "delete_cmd_prefix": "del ",
     "library": "var_list.py",
     "varRefreshCmd": "print(var_dic_list())"
    },
    "r": {
     "delete_cmd_postfix": ") ",
     "delete_cmd_prefix": "rm(",
     "library": "var_list.r",
     "varRefreshCmd": "cat(var_dic_list()) "
    }
   },
   "types_to_exclude": [
    "module",
    "function",
    "builtin_function_or_method",
    "instance",
    "_Feature"
   ],
   "window_display": false
  }
 },
 "nbformat": 4,
 "nbformat_minor": 4
}
