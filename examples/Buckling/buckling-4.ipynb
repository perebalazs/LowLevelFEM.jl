{
 "cells": [
  {
   "cell_type": "code",
   "execution_count": 22,
   "metadata": {},
   "outputs": [],
   "source": [
    "import LowLevelFEM as FEM\n",
    "using LowLevelFEM\n",
    "\n",
    "gmsh.initialize()"
   ]
  },
  {
   "cell_type": "code",
   "execution_count": 23,
   "metadata": {},
   "outputs": [
    {
     "name": "stdout",
     "output_type": "stream",
     "text": [
      "Info    : Reading 'buckling-3.geo'...\n",
      "Info    : Meshing 1D...                                                                                                     \n",
      "Info    : [  0%] Meshing curve 1 (Line)\n",
      "Info    : [ 10%] Meshing curve 2 (Line)\n",
      "Info    : [ 20%] Meshing curve 3 (Line)\n",
      "Info    : [ 20%] Meshing curve 4 (Line)\n",
      "Info    : [ 30%] Meshing curve 5 (Line)\n",
      "Info    : [ 30%] Meshing curve 6 (Line)\n",
      "Info    : [ 40%] Meshing curve 7 (Line)\n",
      "Info    : [ 40%] Meshing curve 8 (Line)\n",
      "Info    : [ 50%] Meshing curve 9 (Line)\n",
      "Info    : [ 50%] Meshing curve 10 (Line)\n",
      "Info    : [ 60%] Meshing curve 11 (Line)\n",
      "Info    : [ 60%] Meshing curve 12 (Line)\n",
      "Info    : [ 70%] Meshing curve 13 (Line)\n",
      "Info    : [ 70%] Meshing curve 14 (Line)\n",
      "Info    : [ 80%] Meshing curve 15 (Line)\n",
      "Info    : [ 80%] Meshing curve 16 (Line)\n",
      "Info    : [ 90%] Meshing curve 17 (Line)\n",
      "Info    : [ 90%] Meshing curve 18 (Line)\n",
      "Info    : [100%] Meshing curve 19 (Line)\n",
      "Info    : [100%] Meshing curve 20 (Line)\n",
      "Info    : Done meshing 1D (Wall 0.00336547s, CPU 0.001726s)\n",
      "Info    : Meshing 2D...\n",
      "Info    : [  0%] Meshing surface 1 (Transfinite)\n",
      "Info    : [ 10%] Meshing surface 2 (Transfinite)\n",
      "Info    : [ 20%] Meshing surface 3 (Transfinite)\n",
      "Info    : [ 30%] Meshing surface 4 (Transfinite)\n",
      "Info    : [ 40%] Meshing surface 5 (Transfinite)\n",
      "Info    : [ 50%] Meshing surface 6 (Transfinite)\n",
      "Info    : [ 60%] Meshing surface 7 (Transfinite)\n",
      "Info    : [ 70%] Meshing surface 8 (Transfinite)\n",
      "Info    : [ 80%] Meshing surface 9 (Transfinite)\n",
      "Info    : [ 90%] Meshing surface 10 (Transfinite)\n",
      "Info    : [100%] Meshing surface 11 (Transfinite)\n",
      "Info    : Done meshing 2D (Wall 0.00177322s, CPU 0.001226s)\n",
      "Info    : Meshing 3D...\n",
      "Info    : Meshing volume 1 (Transfinite)\n",
      "Info    : Meshing volume 2 (Transfinite)\n",
      "Info    : Done meshing 3D (Wall 0.0041574s, CPU 0.003658s)\n",
      "Info    : Optimizing mesh...\n",
      "Info    : Done optimizing mesh (Wall 0.000135884s, CPU 8.4e-05s)\n",
      "Info    : Meshing order 2 (curvilinear on)...\n",
      "Info    : [  0%] Meshing curve 1 order 2\n",
      "Info    : [ 10%] Meshing curve 2 order 2\n",
      "Info    : [ 10%] Meshing curve 3 order 2\n",
      "Info    : [ 10%] Meshing curve 4 order 2\n",
      "Info    : [ 20%] Meshing curve 5 order 2\n",
      "Info    : [ 20%] Meshing curve 6 order 2\n",
      "Info    : [ 20%] Meshing curve 7 order 2\n",
      "Info    : [ 30%] Meshing curve 8 order 2\n",
      "Info    : [ 30%] Meshing curve 9 order 2\n",
      "Info    : [ 30%] Meshing curve 10 order 2\n",
      "Info    : [ 40%] Meshing curve 11 order 2\n",
      "Info    : [ 40%] Meshing curve 12 order 2\n",
      "Info    : [ 40%] Meshing curve 13 order 2\n",
      "Info    : [ 40%] Meshing curve 14 order 2\n",
      "Info    : [ 50%] Meshing curve 15 order 2\n",
      "Info    : [ 50%] Meshing curve 16 order 2\n",
      "Info    : [ 50%] Meshing curve 17 order 2\n",
      "Info    : [ 60%] Meshing curve 18 order 2\n",
      "Info    : [ 60%] Meshing curve 19 order 2\n",
      "Info    : [ 60%] Meshing curve 20 order 2\n",
      "Info    : [ 70%] Meshing surface 1 order 2\n",
      "Info    : [ 70%] Meshing surface 2 order 2\n",
      "Info    : [ 70%] Meshing surface 3 order 2\n",
      "Info    : [ 70%] Meshing surface 4 order 2\n",
      "Info    : [ 80%] Meshing surface 5 order 2\n",
      "Info    : [ 80%] Meshing surface 6 order 2\n",
      "Info    : [ 80%] Meshing surface 7 order 2\n",
      "Info    : [ 90%] Meshing surface 8 order 2\n",
      "Info    : [ 90%] Meshing surface 9 order 2\n",
      "Info    : [ 90%] Meshing surface 10 order 2\n",
      "Info    : [100%] Meshing surface 11 order 2\n",
      "Info    : [100%] Meshing volume 1 order 2\n",
      "Info    : [100%] Meshing volume 2 order 2\n",
      "Info    : Done meshing order 2 (Wall 0.0359411s, CPU 0.027594s)\n",
      "Info    : 4941 nodes 1344 elements\n",
      "Info    : Done reading 'buckling-3.geo'\n"
     ]
    }
   ],
   "source": [
    "gmsh.open(\"buckling-3.geo\")"
   ]
  },
  {
   "cell_type": "code",
   "execution_count": 24,
   "metadata": {},
   "outputs": [],
   "source": [
    "#gmsh.fltk.run()"
   ]
  },
  {
   "cell_type": "code",
   "execution_count": 25,
   "metadata": {},
   "outputs": [
    {
     "name": "stdout",
     "output_type": "stream",
     "text": [
      "Info    : RCMK renumbering...\n",
      "Info    : Done RCMK renumbering (bandwidth is now 386)\n"
     ]
    }
   ],
   "source": [
    "mat = FEM.material(\"body\", E=2.0e5, ν=0.3)\n",
    "problem = FEM.Problem([mat], type=\"Solid\", bandwidth=\"none\");"
   ]
  },
  {
   "cell_type": "code",
   "execution_count": 26,
   "metadata": {},
   "outputs": [],
   "source": [
    "supp = FEM.displacementConstraint(\"left\", ux=0, uy=0, uz=0)\n",
    "load = FEM.load(\"right\", fx=-100);"
   ]
  },
  {
   "cell_type": "code",
   "execution_count": 27,
   "metadata": {},
   "outputs": [],
   "source": [
    "B = FEM.solveBuckling(problem, [load], [supp]);"
   ]
  },
  {
   "cell_type": "code",
   "execution_count": 28,
   "metadata": {},
   "outputs": [
    {
     "data": {
      "text/plain": [
       "0"
      ]
     },
     "metadata": {},
     "output_type": "display_data"
    }
   ],
   "source": [
    "bk = FEM.showBucklingResults(problem, B, visible=false)"
   ]
  },
  {
   "cell_type": "code",
   "execution_count": 29,
   "metadata": {},
   "outputs": [],
   "source": [
    "M = FEM.solveModalAnalysis(problem, loads=[load], constraints=[supp], n=40, fₘᵢₙ=0.1);"
   ]
  },
  {
   "cell_type": "code",
   "execution_count": 30,
   "metadata": {},
   "outputs": [
    {
     "data": {
      "text/plain": [
       "1"
      ]
     },
     "metadata": {},
     "output_type": "display_data"
    }
   ],
   "source": [
    "ma = FEM.showModalResults(problem, M, visible=false)"
   ]
  },
  {
   "cell_type": "code",
   "execution_count": 31,
   "metadata": {},
   "outputs": [],
   "source": [
    "gmsh.view.option.setNumber(bk, \"DisplacementFactor\", 300)\n",
    "gmsh.view.option.setNumber(ma, \"DisplacementFactor\", 300)"
   ]
  },
  {
   "cell_type": "code",
   "execution_count": 32,
   "metadata": {},
   "outputs": [],
   "source": [
    "load2 = FEM.load(\"right\", fy=-200);"
   ]
  },
  {
   "cell_type": "code",
   "execution_count": 33,
   "metadata": {},
   "outputs": [],
   "source": [
    "q = FEM.solveDisplacement(problem, [load, load2], [supp]);"
   ]
  },
  {
   "cell_type": "code",
   "execution_count": 34,
   "metadata": {},
   "outputs": [],
   "source": [
    "S = FEM.solveStress(problem, q, DoFResults=false);"
   ]
  },
  {
   "cell_type": "code",
   "execution_count": 35,
   "metadata": {},
   "outputs": [
    {
     "name": "stdout",
     "output_type": "stream",
     "text": [
      "Info    : Running Plugin(Smooth)...\n",
      "Info    : Done running Plugin(Smooth)\n"
     ]
    },
    {
     "data": {
      "text/plain": [
       "3"
      ]
     },
     "metadata": {},
     "output_type": "display_data"
    }
   ],
   "source": [
    "qq = FEM.showDoFResults(problem, q, \"uvec\")\n",
    "SS = FEM.showStressResults(problem, S, \"s\")\n",
    "#SS = FEM.showDoFResults(problem, S, \"s\")"
   ]
  },
  {
   "cell_type": "code",
   "execution_count": 36,
   "metadata": {},
   "outputs": [
    {
     "name": "stdout",
     "output_type": "stream",
     "text": [
      "Info    : Running Plugin(Smooth)...\n",
      "Info    : Done running Plugin(Smooth)\n",
      "Info    : Running Plugin(Smooth)...\n",
      "Info    : Done running Plugin(Smooth)\n"
     ]
    },
    {
     "data": {
      "text/plain": [
       "5"
      ]
     },
     "metadata": {},
     "output_type": "display_data"
    }
   ],
   "source": [
    "Sx = FEM.showStressResults(problem, S, \"sx\")\n",
    "Sxy = FEM.showStressResults(problem, S, \"sxy\")\n",
    "#Sx = FEM.showDoFResults(problem, S, \"sx\")\n",
    "#Sxy = FEM.showDoFResults(problem, S, \"sxy\")"
   ]
  },
  {
   "cell_type": "code",
   "execution_count": 37,
   "metadata": {},
   "outputs": [
    {
     "data": {
      "text/plain": [
       "26155.996820546334"
      ]
     },
     "metadata": {},
     "output_type": "display_data"
    }
   ],
   "source": [
    "FEM.resultant(problem, Sx, \"left\", grad=true, component=:x)"
   ]
  },
  {
   "cell_type": "code",
   "execution_count": 38,
   "metadata": {},
   "outputs": [
    {
     "data": {
      "text/plain": [
       "299911.466309165"
      ]
     },
     "metadata": {},
     "output_type": "display_data"
    }
   ],
   "source": [
    "FEM.resultant(problem, Sx, \"left\", grad=true, component=:y)"
   ]
  },
  {
   "cell_type": "code",
   "execution_count": 39,
   "metadata": {},
   "outputs": [
    {
     "data": {
      "text/plain": [
       "-20776.378982419657"
      ]
     },
     "metadata": {},
     "output_type": "display_data"
    }
   ],
   "source": [
    "FEM.resultant(problem, Sxy, \"right\")"
   ]
  },
  {
   "cell_type": "code",
   "execution_count": 40,
   "metadata": {},
   "outputs": [
    {
     "data": {
      "text/plain": [
       "14823×14823 SparseArrays.SparseMatrixCSC{Float64, Int64} with 2360239 stored entries:\n",
       "⎡⣿⣿⣛⢹⣿⠶⣶⣇⣃⣀⣸⣾⣿⣛⠉⠀⠈⣃⡛⢛⣿⣶⣇⡃⠘⠸⢤⡏⢧⣟⣛⣀⡃⠁⠐⠈⠀⠃⠁⠋⎤\n",
       "⎢⣟⣘⣻⣾⣃⠀⠀⡛⡋⠉⢛⢉⣛⣿⣶⣶⣶⡿⢿⣷⣙⠈⡉⡁⢀⢈⠉⣋⡋⣻⣿⠾⠷⠆⠐⢸⣽⣧⣯⣷⎥\n",
       "⎢⢻⡟⠉⠘⡿⣯⡛⠃⠁⠀⢸⡗⣿⠁⠀⠀⠀⠀⠀⠸⣿⣝⠂⢯⡛⠸⣟⠃⢿⠋⠀⠀⠀⠀⠀⠀⠀⠀⠀⠀⎥\n",
       "⎢⠼⢿⣤⠠⠿⠈⠻⣦⣤⣀⣸⣷⣿⡤⠀⠀⠀⣤⣠⣠⣿⣝⣦⣬⣳⣤⣜⣧⣬⣧⣤⣀⡀⣤⣀⠠⣄⡀⣤⡀⎥\n",
       "⎢⠉⢸⡏⠈⠁⠀⠀⢻⠻⣦⣹⣿⣿⡏⠀⠀⠀⣿⢹⡟⣿⢧⢻⡻⣌⣏⢧⣹⣽⣻⡟⣦⠁⢳⡌⠘⢧⡁⢻⡁⎥\n",
       "⎢⣲⣾⡟⢐⢶⠶⢶⣾⣷⣾⣿⣿⡟⠓⠀⠀⠀⠛⠛⢳⣿⣾⣿⡇⠙⠘⠀⠃⠃⠛⠛⠈⠃⠀⠙⠀⠈⠃⠀⠃⎥\n",
       "⎢⣿⢻⣿⣼⠟⠛⠛⡿⡿⠿⢿⠉⠿⣧⣠⡀⢀⣄⣤⣄⠿⠀⠁⠁⠀⠨⠿⠿⠿⢿⣤⡀⡄⣄⢠⣠⡀⣄⣄⣄⎥\n",
       "⎢⠃⠀⢸⣿⠀⠀⠀⠀⠀⠀⠀⠀⠀⠺⡿⣯⡙⣯⣿⣿⠀⠀⠀⠀⠀⠀⠀⠀⠀⢸⡿⣍⢯⢿⡹⡿⣏⢻⢿⣟⎥\n",
       "⎢⠦⢠⣼⡿⠀⠀⠀⣤⣤⣤⣤⠀⠀⢴⡷⣬⣿⣿⡿⠿⠀⠀⠀⠀⠀⠀⠀⠀⠀⢨⣷⣽⣾⡆⠳⠻⠘⠏⠏⠿⎥\n",
       "⎢⣿⢈⢿⣷⣀⡀⠀⣺⣷⠶⢿⣀⠀⢿⣿⣿⣿⡏⢻⣶⣀⡀⣀⣀⢀⡀⠀⠀⠀⠈⣿⠉⠋⠃⠀⢰⣶⣶⣶⣶⎥\n",
       "⎢⢻⣿⡓⠘⣟⢿⣟⢿⠿⣟⣻⣿⠛⠃⠀⠀⠀⠀⠀⠸⡿⣯⣿⡻⣟⣟⠛⠛⠛⠛⠀⠀⠀⠀⠀⠀⠀⠀⠀⠀⎥\n",
       "⎢⠭⠹⠇⠨⡬⣄⡈⣿⣿⡲⠿⠿⠅⠀⠀⠀⠀⠀⠀⢸⣿⡻⣿⣿⡾⡿⣄⢤⠀⠀⠀⠀⠀⠀⠀⠀⠀⠀⠀⠀⎥\n",
       "⎢⣒⡀⡀⢐⣛⡈⠙⣾⡦⢽⣓⠀⡀⡀⠀⠀⠀⠀⠀⠰⣿⢽⣾⡯⣿⣿⣮⣻⣇⡀⠀⠀⠀⠀⠀⠀⠀⠀⠀⠀⎥\n",
       "⎢⡤⠷⡧⢠⠿⠙⠶⣽⣍⣳⠤⠀⣿⡇⠀⠀⠀⠀⠀⠀⣿⠀⠀⣝⣮⣻⣻⣾⣟⣿⠀⠀⠀⠀⠀⠀⠀⠀⠀⠀⎥\n",
       "⎢⣭⢷⣯⣨⡿⠓⠦⣿⣷⣻⣭⠀⣿⣇⣀⣀⡀⣀⡀⠀⣿⠀⠀⠀⠉⠹⣿⣽⣿⣿⣀⣀⣀⣀⣀⡀⠀⠀⠀⠀⎥\n",
       "⎢⠛⢸⣻⡟⠀⠀⠀⢻⠻⣭⡛⠀⠀⠻⡟⢯⣝⣿⡟⠛⠀⠀⠀⠀⠀⠀⠀⠀⠀⢸⡿⣯⣯⡻⣟⣟⠉⠋⠋⠛⎥\n",
       "⎢⠍⠈⠹⠇⠀⠀⠀⣬⢥⣀⠉⠀⠀⢭⣯⣗⠺⠿⠯⠀⠀⠀⠀⠀⠀⠀⠀⠀⠀⢸⣯⡻⣿⣿⣺⡿⣄⢤⠀⠀⎥\n",
       "⎢⡐⠀⣐⣀⠀⠀⠀⡘⣂⠉⠓⠀⠀⣲⣷⡮⣽⡂⢀⣀⠀⠀⠀⠀⠀⠀⠀⠀⠀⠸⣿⢽⣾⡾⣿⣿⣮⣿⣇⡀⎥\n",
       "⎢⠤⠀⠷⣿⠀⠀⠀⠹⠍⠳⠦⠀⠀⢬⣯⣙⡶⠄⢸⣿⠀⠀⠀⠀⠀⠀⠀⠀⠀⠀⡧⠀⠀⣝⣮⣿⣿⣿⣟⣿⎥\n",
       "⎣⡥⠀⢯⣿⠀⠀⠀⠻⠟⠲⠤⠀⠀⢽⣿⢷⣯⡅⢸⣿⠀⠀⠀⠀⠀⠀⠀⠀⠀⠀⣯⠀⠀⠀⠉⠹⣿⣽⣿⣿⎦"
      ]
     },
     "metadata": {},
     "output_type": "display_data"
    }
   ],
   "source": [
    "FEM.stiffnessMatrix(problem)"
   ]
  },
  {
   "cell_type": "code",
   "execution_count": 41,
   "metadata": {},
   "outputs": [
    {
     "name": "stdout",
     "output_type": "stream",
     "text": [
      "-------------------------------------------------------\n",
      "Version       : 4.13.1\n",
      "License       : GNU General Public License\n",
      "Build OS      : Linux64-sdk\n",
      "Build date    : 19700101\n",
      "Build host    : amdci7.julia.csail.mit.edu\n",
      "Build options : 64Bit ALGLIB[contrib] ANN[contrib] Bamg Blossom Cairo DIntegration Dlopen DomHex Eigen[contrib] Fltk GMP Gmm[contrib] Hxt Jpeg Kbipack LinuxJoystick MathEx[contrib] Mesh Metis[contrib] Mmg Mpeg Netgen Nii2mesh ONELAB ONELABMetamodel OpenCASCADE OpenCASCADE-CAF OpenGL OpenMP OptHom Parser Plugins Png Post QuadMeshingTools QuadTri Solver TetGen/BR TinyXML2[contrib] Untangle Voro++[contrib] WinslowUntangler Zlib\n",
      "FLTK version  : 1.3.8\n",
      "OCC version   : 7.7.2\n",
      "Packaged by   : root\n",
      "Web site      : https://gmsh.info\n",
      "Issue tracker : https://gitlab.onelab.info/gmsh/gmsh/issues\n",
      "-------------------------------------------------------\n"
     ]
    },
    {
     "name": "stderr",
     "output_type": "stream",
     "text": [
      "XRequest.18: BadValue 0x0\n"
     ]
    }
   ],
   "source": [
    "gmsh.fltk.run()"
   ]
  },
  {
   "cell_type": "code",
   "execution_count": 42,
   "metadata": {
    "slideshow": {
     "slide_type": ""
    },
    "tags": []
   },
   "outputs": [],
   "source": [
    "gmsh.finalize()"
   ]
  }
 ],
 "metadata": {
  "kernelspec": {
   "display_name": "Julia 1.11.3",
   "language": "julia",
   "name": "julia-1.11"
  },
  "language_info": {
   "file_extension": ".jl",
   "mimetype": "application/julia",
   "name": "julia",
   "version": "1.11.3"
  },
  "varInspector": {
   "cols": {
    "lenName": 16,
    "lenType": 16,
    "lenVar": 40
   },
   "kernels_config": {
    "python": {
     "delete_cmd_postfix": "",
     "delete_cmd_prefix": "del ",
     "library": "var_list.py",
     "varRefreshCmd": "print(var_dic_list())"
    },
    "r": {
     "delete_cmd_postfix": ") ",
     "delete_cmd_prefix": "rm(",
     "library": "var_list.r",
     "varRefreshCmd": "cat(var_dic_list()) "
    }
   },
   "types_to_exclude": [
    "module",
    "function",
    "builtin_function_or_method",
    "instance",
    "_Feature"
   ],
   "window_display": false
  }
 },
 "nbformat": 4,
 "nbformat_minor": 4
}
