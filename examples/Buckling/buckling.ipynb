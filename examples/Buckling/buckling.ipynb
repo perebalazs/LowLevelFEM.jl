{
 "cells": [
  {
   "cell_type": "code",
   "execution_count": 1,
   "metadata": {},
   "outputs": [],
   "source": [
    "import LowLevelFEM as FEM\n",
    "using LowLevelFEM\n",
    "\n",
    "gmsh.initialize()"
   ]
  },
  {
   "cell_type": "code",
   "execution_count": 2,
   "metadata": {},
   "outputs": [
    {
     "name": "stdout",
     "output_type": "stream",
     "text": [
      "Info    : Reading 'buckling.geo'...\n",
      "Info    : Meshing 1D...\n",
      "Info    : [  0%] Meshing curve 1 (Line)\n",
      "Info    : [ 10%] Meshing curve 2 (Line)\n",
      "Info    : [ 20%] Meshing curve 3 (Line)\n",
      "Info    : [ 30%] Meshing curve 4 (Line)\n",
      "Info    : [ 40%] Meshing curve 5 (Line)\n",
      "Info    : [ 50%] Meshing curve 6 (Line)\n",
      "Info    : [ 60%] Meshing curve 7 (Line)\n",
      "Info    : [ 60%] Meshing curve 8 (Line)\n",
      "Info    : [ 70%] Meshing curve 9 (Line)\n",
      "Info    : [ 80%] Meshing curve 10 (Line)\n",
      "Info    : [ 90%] Meshing curve 11 (Line)\n",
      "Info    : [100%] Meshing curve 12 (Line)\n",
      "Info    : Done meshing 1D (Wall 0.000673095s, CPU 0.000674s)\n",
      "Info    : Meshing 2D...\n",
      "Info    : [  0%] Meshing surface 1 (Transfinite)\n",
      "Info    : [ 20%] Meshing surface 2 (Transfinite)\n",
      "Info    : [ 40%] Meshing surface 3 (Transfinite)\n",
      "Info    : [ 60%] Meshing surface 4 (Transfinite)\n",
      "Info    : [ 70%] Meshing surface 5 (Transfinite)\n",
      "Info    : [ 90%] Meshing surface 6 (Transfinite)\n",
      "Info    : Done meshing 2D (Wall 0.000446019s, CPU 0.000439s)\n",
      "Info    : Meshing 3D...\n",
      "Info    : Meshing volume 1 (Transfinite)\n",
      "Info    : Done meshing 3D (Wall 0.000850604s, CPU 0.00085s)\n",
      "Info    : Optimizing mesh...\n",
      "Info    : Done optimizing mesh (Wall 7.386e-06s, CPU 8e-06s)\n",
      "Info    : 496 nodes 800 elements\n",
      "Info    : Done reading 'buckling.geo'\n"
     ]
    }
   ],
   "source": [
    "gmsh.open(\"buckling.geo\")"
   ]
  },
  {
   "cell_type": "code",
   "execution_count": 3,
   "metadata": {},
   "outputs": [
    {
     "name": "stdout",
     "output_type": "stream",
     "text": [
      "Info    : RCMK renumbering...\n",
      "Info    : Done RCMK renumbering (bandwidth is now 37)\n"
     ]
    },
    {
     "data": {
      "text/plain": [
       "LowLevelFEM.Problem(\"bending3D\", \"Solid\", 3, 3, LowLevelFEM.Material[LowLevelFEM.Material(\"body\", 200000.0, 0.3, 7.85e-9, 45.0, 4.2e8, 1.2e-5)], 1.0, 496)"
      ]
     },
     "metadata": {},
     "output_type": "display_data"
    }
   ],
   "source": [
    "mat = FEM.material(\"body\", E=2.e5, ν=0.3)\n",
    "problem = FEM.Problem([mat], type=\"Solid\", bandwidth=\"none\")"
   ]
  },
  {
   "cell_type": "code",
   "execution_count": 4,
   "metadata": {},
   "outputs": [],
   "source": [
    "#gmsh.fltk.run()"
   ]
  },
  {
   "cell_type": "code",
   "execution_count": 5,
   "metadata": {},
   "outputs": [],
   "source": [
    "# Néhány láthatósági beállítás 0:kikapcs. 1:bekapcs.\n",
    "gmsh.option.setNumber(\"Geometry.CurveLabels\", 0)\n",
    "gmsh.option.setNumber(\"Geometry.Points\", 0)\n",
    "gmsh.option.setNumber(\"Geometry.Curves\", 0)\n",
    "gmsh.option.setNumber(\"Mesh.Points\", 0)\n",
    "gmsh.option.setNumber(\"Mesh.Lines\", 0)\n",
    "gmsh.option.setNumber(\"Mesh.SurfaceEdges\", 0)\n",
    "gmsh.option.setNumber(\"Mesh.NodeLabels\", 0)\n",
    "gmsh.option.setNumber(\"Mesh.LineLabels\", 0)\n",
    "gmsh.option.setNumber(\"Mesh.SurfaceLabels\", 0)"
   ]
  },
  {
   "cell_type": "code",
   "execution_count": 6,
   "metadata": {},
   "outputs": [
    {
     "data": {
      "text/plain": [
       "-1.0"
      ]
     },
     "metadata": {},
     "output_type": "display_data"
    }
   ],
   "source": [
    "l = gmsh.parser.getNumber(\"l\")[1]\n",
    "a = gmsh.parser.getNumber(\"a\")[1]\n",
    "F = -1.0"
   ]
  },
  {
   "cell_type": "code",
   "execution_count": 7,
   "metadata": {},
   "outputs": [
    {
     "data": {
      "text/plain": [
       "1488×1488 SparseArrays.SparseMatrixCSC{Float64, Int64} with 81656 stored entries:\n",
       "⎡⢿⢗⡇⠀⡿⠀⢸⠀⠀⡇⠀⣿⡇⠀⠀⠀⢸⠀⠀⠀⠀⡇⠀⢸⠀⢸⠀⠀⡇⠀⣺⠀⢸⠀⠀⡇⠀⡯⠀⢐⎤\n",
       "⎢⠉⠉⠻⣦⡁⠀⠀⠀⠀⠁⠀⠉⠙⠶⢤⣀⠈⠀⠀⠀⠀⠙⢦⡈⠀⠈⠀⠀⠀⠀⠘⢦⡈⠀⠀⠁⠀⠀⠀⠀⎥\n",
       "⎢⠛⠋⠁⠈⠻⣦⡀⠀⠀⠀⠀⠘⠳⠦⣄⡈⠉⠀⠀⠀⠀⠀⠀⠉⠀⠘⢷⣀⠀⠀⠀⠀⠉⠀⠀⠳⣄⠀⠀⠀⎥\n",
       "⎢⠒⠒⠀⠀⠀⠈⠻⣦⡀⠀⠀⠒⠀⠀⠈⠙⠳⢦⣄⡀⠀⠀⠀⠰⣄⠀⠀⠙⠃⠀⠀⠀⠐⣦⡀⠀⠈⠃⠀⠀⎥\n",
       "⎢⠤⠤⠄⠀⠀⠀⠀⠈⠻⣦⡀⠠⠀⠀⠀⠀⠠⣤⣈⠙⠳⠆⠀⠀⠈⠳⠀⠀⢤⡀⠀⠀⠀⠈⠻⠆⠀⢤⡀⠀⎥\n",
       "⎢⣤⣤⡄⠀⣀⠀⢠⠀⠀⡈⠻⣦⡄⠀⠀⠀⢠⠀⠉⠛⠶⡄⠀⢠⠀⢀⠀⠀⡀⠛⣦⠀⢠⠀⠀⡄⠀⣤⠙⢦⎥\n",
       "⎢⠉⠉⢳⡄⠹⡆⠀⠀⠀⠀⠀⠉⠻⣦⡀⠀⠀⠀⠀⠀⠀⢻⡄⠀⠀⠈⢧⠀⠁⠀⠹⣆⠈⠀⠀⢳⡄⠁⠀⠈⎥\n",
       "⎢⠀⠀⠀⢳⡀⠹⣆⠀⠀⠀⠀⠀⠀⠈⠻⣦⡀⠀⠀⠀⠀⠀⢻⡄⠀⠀⠈⢧⠀⠀⠀⠹⣆⠀⠀⠀⢳⡀⠀⠀⎥\n",
       "⎢⠒⠒⠂⠀⠃⠀⠹⣆⠀⣦⠀⠒⠀⠀⠀⠈⠻⣦⡀⠀⠀⠀⠀⢻⡄⠀⠀⠈⢧⠀⠀⠀⠹⣆⠀⠀⠈⢳⡀⠀⎥\n",
       "⎢⠀⠀⠀⠀⠀⠀⠀⠹⣆⠘⣧⠀⠀⠀⠀⠀⠀⠈⠻⣦⡀⠀⠀⠀⢻⡄⠀⠀⠈⣧⠀⠀⠀⠹⣆⠀⠀⠀⢳⡀⎥\n",
       "⎢⠤⠤⣄⠀⠀⠀⠀⠀⠹⠆⠘⠧⣤⣀⠀⠀⠀⠀⠀⠈⠻⣦⡀⢠⡀⠻⠀⠀⠀⠈⢧⡀⢠⣄⠹⠆⠀⠀⠀⠻⎥\n",
       "⎢⣀⣀⡈⠳⡄⠀⢀⡀⠀⠀⠀⣀⠀⠉⠛⠶⣤⣀⠀⠀⠀⣈⠻⣦⡙⢦⠀⠀⠀⠀⢀⡙⢦⡙⢷⡄⠀⠀⠀⠀⎥\n",
       "⎢⣀⣀⡀⠀⣀⠀⠀⠙⢦⡀⠀⢀⡀⠀⠀⠀⠀⠉⠛⠶⣤⡈⠳⣌⠻⣦⡀⠀⡀⠀⠈⠻⣆⠙⢦⡀⠀⣀⠀⠀⎥\n",
       "⎢⠀⠀⠀⠀⠙⢳⣄⠀⠀⠀⠀⠀⠉⠓⠦⣄⡀⠀⠀⠀⠀⠀⠀⠀⠀⠈⠻⣦⡙⢦⡀⠀⠀⠀⠀⠙⢦⡙⢳⣄⎥\n",
       "⎢⠉⠉⠀⠀⠀⠀⠉⠀⠀⠳⣤⠈⠁⠀⠀⠀⠉⠓⠦⣤⡀⠀⠀⠀⠀⠈⠳⣌⠻⣦⡉⠀⠀⠀⠀⠻⣦⡙⢦⡉⎥\n",
       "⎢⠚⠚⠲⣄⠀⠀⠀⠀⠀⠀⠈⠛⠳⢦⣄⡀⠀⠀⠀⠀⠉⠳⣄⠰⣦⡀⠀⠈⠃⠈⠻⣦⡐⢦⡀⠲⣌⠳⣤⡙⎥\n",
       "⎢⠒⠒⠂⠈⠃⠀⠰⣤⡀⠀⠀⠒⠂⠀⠈⠙⠳⢦⣄⡀⠀⢶⣌⠳⣌⠙⠀⠀⠀⠀⠰⣌⠻⣦⡙⢦⡈⠳⣌⠛⎥\n",
       "⎢⠤⠤⠄⠀⢤⡀⠀⠈⠻⠆⠀⠤⢤⣀⠀⠀⠀⠀⠈⠙⠳⠆⠙⠷⠈⠳⣄⠀⣤⡀⢠⡈⠳⣌⠻⣦⡙⢦⡈⠳⎥\n",
       "⎢⡤⡤⠀⠀⠀⠙⠦⠀⠀⣄⠀⣤⠄⠉⠙⠲⢦⣀⠀⠀⠀⠀⠀⠀⠀⢠⣌⠳⣌⠻⢦⡙⢦⡈⠳⣌⠻⣦⡙⠦⎥\n",
       "⎣⢀⢀⠀⠀⠀⠀⠀⠀⠀⠈⠳⣄⡀⠀⠀⠀⠀⠈⠙⠲⣤⡀⠀⠀⠀⠀⠙⢶⡌⠳⣄⠻⣦⠙⢦⡈⠳⡌⠻⣦⎦"
      ]
     },
     "metadata": {},
     "output_type": "display_data"
    }
   ],
   "source": [
    "K = FEM.stiffnessMatrix(problem)"
   ]
  },
  {
   "cell_type": "code",
   "execution_count": 8,
   "metadata": {},
   "outputs": [
    {
     "data": {
      "text/plain": [
       "(\"load\", -0.01, 0, 0)"
      ]
     },
     "metadata": {},
     "output_type": "display_data"
    }
   ],
   "source": [
    "supp = FEM.displacementConstraint(\"supp\", ux=0, uy=0, uz=0)\n",
    "load = FEM.load(\"load\", fx=F / a^2)"
   ]
  },
  {
   "cell_type": "code",
   "execution_count": 9,
   "metadata": {},
   "outputs": [
    {
     "data": {
      "text/plain": [
       "1488-element Vector{Float64}:\n",
       " 0.0\n",
       " 0.0\n",
       " 0.0\n",
       " 0.0\n",
       " 0.0\n",
       " 0.0\n",
       " 0.0\n",
       " 0.0\n",
       " 0.0\n",
       " 0.0\n",
       " ⋮\n",
       " 0.0\n",
       " 0.0\n",
       " 0.0\n",
       " 0.0\n",
       " 0.0\n",
       " 0.0\n",
       " 0.0\n",
       " 0.0\n",
       " 0.0"
      ]
     },
     "metadata": {},
     "output_type": "display_data"
    }
   ],
   "source": [
    "f = FEM.loadVector(problem, [load])"
   ]
  },
  {
   "cell_type": "code",
   "execution_count": 10,
   "metadata": {},
   "outputs": [],
   "source": [
    "FEM.applyBoundaryConditions!(problem, K, f, [supp])"
   ]
  },
  {
   "cell_type": "code",
   "execution_count": 11,
   "metadata": {},
   "outputs": [
    {
     "data": {
      "text/plain": [
       "1488-element Vector{Float64}:\n",
       "  0.0\n",
       "  0.0\n",
       "  0.0\n",
       "  0.0\n",
       "  0.0\n",
       "  0.0\n",
       "  0.0\n",
       "  0.0\n",
       "  0.0\n",
       "  0.0\n",
       "  ⋮\n",
       " -4.47744074494357e-6\n",
       "  2.5000000002650967e-8\n",
       "  2.5000000000810735e-8\n",
       " -4.644107411610237e-6\n",
       "  2.5000000002805134e-8\n",
       "  2.5000000000863943e-8\n",
       " -4.810774078276908e-6\n",
       "  2.5000000002960336e-8\n",
       "  2.5000000000916515e-8"
      ]
     },
     "metadata": {},
     "output_type": "display_data"
    }
   ],
   "source": [
    "q = FEM.solveDisplacement(K, f)"
   ]
  },
  {
   "cell_type": "code",
   "execution_count": 12,
   "metadata": {},
   "outputs": [
    {
     "data": {
      "text/plain": [
       "1488×1488 SparseArrays.SparseMatrixCSC{Float64, Int64} with 27300 stored entries:\n",
       "⎡⢿⢗⡇⠀⡿⠀⢸⠀⠀⡇⠀⣿⡇⠀⠀⠀⢸⠀⠀⠀⠀⡇⠀⢸⠀⢸⠀⠀⡇⠀⣺⠀⢸⠀⠀⡇⠀⡯⠀⢐⎤\n",
       "⎢⠉⠉⠻⣦⡁⠀⠀⠀⠀⠁⠀⠉⠙⠲⢤⣀⠈⠀⠀⠀⠀⠙⢦⡈⠀⠈⠀⠀⠀⠀⠘⢦⡈⠀⠀⠁⠀⠀⠀⠀⎥\n",
       "⎢⠛⠋⠁⠈⠻⣦⡀⠀⠀⠀⠀⠘⠳⠦⣄⡈⠉⠀⠀⠀⠀⠀⠀⠉⠀⠘⢦⣀⠀⠀⠀⠀⠉⠀⠀⠳⣄⠀⠀⠀⎥\n",
       "⎢⠒⠒⠀⠀⠀⠈⠻⣦⡀⠀⠀⠒⠀⠀⠀⠉⠳⢦⣄⡀⠀⠀⠀⠰⣄⠀⠀⠙⠃⠀⠀⠀⠐⣦⡀⠀⠈⠃⠀⠀⎥\n",
       "⎢⠤⠤⠄⠀⠀⠀⠀⠈⠻⣦⡀⠠⠀⠀⠀⠀⠠⣤⣈⠙⠳⠆⠀⠀⠈⠳⠀⠀⢤⡀⠀⠀⠀⠈⠻⠆⠀⢤⡀⠀⎥\n",
       "⎢⣤⣤⡄⠀⣀⠀⢠⠀⠀⡈⠻⣦⡄⠀⠀⠀⢠⠀⠉⠛⠶⡄⠀⢠⠀⢀⠀⠀⡀⠙⣦⠀⢠⠀⠀⡄⠀⣤⠙⢦⎥\n",
       "⎢⠉⠉⢳⡀⠹⡆⠀⠀⠀⠀⠀⠉⠻⣦⡀⠀⠀⠀⠀⠀⠀⢻⡄⠀⠀⠈⢧⠀⠁⠀⠸⣆⠈⠀⠀⢳⡀⠁⠀⠈⎥\n",
       "⎢⠀⠀⠀⢳⡀⠹⡄⠀⠀⠀⠀⠀⠀⠈⠻⣦⡀⠀⠀⠀⠀⠀⢻⡄⠀⠀⠈⢧⠀⠀⠀⠹⣆⠀⠀⠀⢳⡀⠀⠀⎥\n",
       "⎢⠒⠒⠂⠀⠃⠀⠹⣆⠀⣦⠀⠒⠀⠀⠀⠈⠻⣦⡀⠀⠀⠀⠀⢻⡄⠀⠀⠈⢧⠀⠀⠀⠹⣆⠀⠀⠀⢳⡀⠀⎥\n",
       "⎢⠀⠀⠀⠀⠀⠀⠀⠹⣆⠘⣧⠀⠀⠀⠀⠀⠀⠈⠻⣦⡀⠀⠀⠀⢻⡄⠀⠀⠈⢧⠀⠀⠀⠹⣆⠀⠀⠀⢳⡀⎥\n",
       "⎢⠤⠤⣄⠀⠀⠀⠀⠀⠹⠆⠘⠧⣤⣀⠀⠀⠀⠀⠀⠈⠻⣦⡀⢠⡀⠻⠀⠀⠀⠈⢧⡀⢠⣄⠹⠆⠀⠀⠀⠳⎥\n",
       "⎢⣀⣀⡈⠳⡄⠀⢀⡀⠀⠀⠀⣀⠀⠉⠛⠶⣤⣀⠀⠀⠀⣈⠻⣦⡙⢦⠀⠀⠀⠀⢀⡙⢦⡙⢷⡄⠀⠀⠀⠀⎥\n",
       "⎢⣀⣀⡀⠀⣀⠀⠀⠙⢦⡀⠀⢀⡀⠀⠀⠀⠀⠉⠛⠶⣤⡈⠳⣌⠻⣦⡀⠀⡀⠀⠈⠳⣄⠙⢦⡀⠀⣀⠀⠀⎥\n",
       "⎢⠀⠀⠀⠀⠈⢳⣄⠀⠀⠀⠀⠀⠉⠓⠦⣄⡀⠀⠀⠀⠀⠀⠀⠀⠀⠈⠻⣦⡙⢦⡀⠀⠀⠀⠀⠙⢦⡙⢳⣄⎥\n",
       "⎢⠉⠉⠀⠀⠀⠀⠉⠀⠀⠳⣄⠈⠁⠀⠀⠀⠉⠓⠦⣄⡀⠀⠀⠀⠀⠈⠳⣌⠻⣦⡉⠀⠀⠀⠀⠳⣦⠙⢦⡉⎥\n",
       "⎢⠚⠚⠲⣄⠀⠀⠀⠀⠀⠀⠈⠛⠲⢦⣄⡀⠀⠀⠀⠀⠉⠳⣄⠰⢦⡀⠀⠈⠃⠈⠻⣦⡐⢦⡀⠲⣌⠳⣤⡙⎥\n",
       "⎢⠒⠒⠂⠈⠃⠀⠰⣤⡀⠀⠀⠒⠂⠀⠈⠙⠳⢦⣄⡀⠀⢶⣌⠳⣄⠙⠀⠀⠀⠀⠰⣌⠻⣦⡙⢦⡈⠳⣌⠛⎥\n",
       "⎢⠤⠤⠄⠀⢤⡀⠀⠈⠻⠆⠀⠤⢤⣀⠀⠀⠀⠀⠈⠙⠳⠆⠙⠷⠈⠳⣄⠀⢤⡀⢠⡈⠳⣌⠻⣦⡙⢦⡈⠳⎥\n",
       "⎢⡤⡤⠀⠀⠀⠙⠦⠀⠀⣄⠀⣤⠄⠈⠙⠲⢤⣀⠀⠀⠀⠀⠀⠀⠀⢠⣌⠳⣌⠛⢦⡙⢦⡈⠳⣌⠻⣦⡙⠦⎥\n",
       "⎣⢀⢀⠀⠀⠀⠀⠀⠀⠀⠈⠳⣄⡀⠀⠀⠀⠀⠈⠙⠲⢤⡀⠀⠀⠀⠀⠙⢶⡌⠳⣄⠻⣦⠙⢦⡈⠳⡌⠻⣦⎦"
      ]
     },
     "metadata": {},
     "output_type": "display_data"
    }
   ],
   "source": [
    "Knl = FEM.nonLinearStiffnessMatrix(problem, q)"
   ]
  },
  {
   "cell_type": "code",
   "execution_count": 13,
   "metadata": {},
   "outputs": [],
   "source": [
    "FEM.applyBoundaryConditions!(problem, Knl, f, [supp])"
   ]
  },
  {
   "cell_type": "code",
   "execution_count": 14,
   "metadata": {},
   "outputs": [
    {
     "data": {
      "text/plain": [
       "43589.7487365855"
      ]
     },
     "metadata": {},
     "output_type": "display_data"
    }
   ],
   "source": [
    "p = FEM.smallestEigenValue(K, -Knl)"
   ]
  },
  {
   "cell_type": "code",
   "execution_count": 15,
   "metadata": {},
   "outputs": [
    {
     "data": {
      "text/plain": [
       "LowLevelFEM.Modal([33.22862070832252, 33.228620708327355, 96.85645282352546, 96.85645282372498, 153.34027010845162, 153.340270109976, 201.03932693300038, 201.03932693901746], [-9.680127323855253e-19 -1.6869453681781808e-19 … -3.347619352783284e-18 -3.4289484930715846e-18; 8.580889579585887e-18 1.4146691945330998e-18 … 2.6970862422933996e-17 1.594425232671277e-18; … ; 0.05881124942382571 0.08547751341320652 … 0.0441222382355635 0.012486550159168998; -0.06469237148864827 -0.018373049144352723 … -0.016469228030694505 0.04528560771146961])"
      ]
     },
     "metadata": {},
     "output_type": "display_data"
    }
   ],
   "source": [
    "B = FEM.solveEigenModes(K, -Knl, n=8, fₘᵢₙ=0)"
   ]
  },
  {
   "cell_type": "code",
   "execution_count": 16,
   "metadata": {},
   "outputs": [],
   "source": [
    "gmsh.option.setNumber(\"General.Axes\", 3)\n",
    "gmsh.option.setNumber(\"General.RotationX\", 306.0)\n",
    "gmsh.option.setNumber(\"General.RotationY\", 5.0)\n",
    "gmsh.option.setNumber(\"General.RotationZ\", 317.0)"
   ]
  },
  {
   "cell_type": "code",
   "execution_count": 17,
   "metadata": {},
   "outputs": [
    {
     "data": {
      "text/plain": [
       "8-element Vector{Float64}:\n",
       "  43589.74873705232\n",
       "  43589.74873706503\n",
       " 370353.8437399708\n",
       " 370353.8437414966\n",
       " 928265.4462440655\n",
       " 928265.4462625216\n",
       "      1.595591741855071e6\n",
       "      1.5955917419505825e6"
      ]
     },
     "metadata": {},
     "output_type": "display_data"
    }
   ],
   "source": [
    "(B.f * 2π) .^ 2"
   ]
  },
  {
   "cell_type": "code",
   "execution_count": 18,
   "metadata": {},
   "outputs": [
    {
     "data": {
      "text/plain": [
       "1"
      ]
     },
     "metadata": {},
     "output_type": "display_data"
    }
   ],
   "source": [
    "bk = FEM.showModalResults(problem, B, visible=true)"
   ]
  },
  {
   "cell_type": "code",
   "execution_count": 19,
   "metadata": {},
   "outputs": [],
   "source": [
    "gmsh.view.option.setNumber(bk, \"DisplacementFactor\", 300)"
   ]
  },
  {
   "cell_type": "code",
   "execution_count": 20,
   "metadata": {},
   "outputs": [],
   "source": [
    "#S = FEM.solveStress(problem, q)"
   ]
  },
  {
   "cell_type": "code",
   "execution_count": 21,
   "metadata": {},
   "outputs": [],
   "source": [
    "#gmsh.option.setNumber(\"View.IntervalsType\", 3)\n",
    "#gmsh.option.setNumber(\"View.VectorType\", 5)"
   ]
  },
  {
   "cell_type": "code",
   "execution_count": 22,
   "metadata": {},
   "outputs": [],
   "source": [
    "#u = FEM.showDoFResults(problem, q, \"uvec\", name=\"uvec\", visible=false)\n",
    "#ux = FEM.showDoFResults(problem, q, \"ux\", name=\"ux\", visible=false)\n",
    "#uy = FEM.showDoFResults(problem, q, \"uy\", name=\"uy\", visible=false)\n",
    "#uz = FEM.showDoFResults(problem, q, \"uz\", name=\"uz\", visible=false)\n",
    "#s = FEM.showStressResults(problem, S, \"s\", name=\"σ\", visible=true, smooth=true)\n",
    "#sx = FEM.showStressResults(problem, S, \"sx\", name=\"σx\", visible=false, smooth=true)\n",
    "#sy = FEM.showStressResults(problem, S, \"sy\", name=\"σy\", visible=false, smooth=true)\n",
    "#sz = FEM.showStressResults(problem, S, \"sz\", name=\"σz\", visible=false, smooth=true)\n",
    "#sxy = FEM.showStressResults(problem, S, \"sxy\", name=\"τxy\", visible=false, smooth=true)\n",
    "#syz = FEM.showStressResults(problem, S, \"syz\", name=\"τyz\", visible=false, smooth=true)\n",
    "#szx = FEM.showStressResults(problem, S, \"szx\", name=\"τzx\", visible=false, smooth=true)"
   ]
  },
  {
   "cell_type": "code",
   "execution_count": 23,
   "metadata": {},
   "outputs": [],
   "source": [
    "#FEM.plotOnPath(problem, \"path\", sx, name=\"σx\", visible=false);\n",
    "#FEM.plotOnPath(problem, \"path\", sxy, name=\"τxy\", visible=false);\n",
    "#FEM.plotOnPath(problem, \"path\", ux, name=\"ux\", visible=false);"
   ]
  },
  {
   "cell_type": "code",
   "execution_count": 24,
   "metadata": {},
   "outputs": [],
   "source": [
    "#gmsh.option.setNumber(\"PostProcessing.Binary\", 1)\n",
    "#gmsh.option.setNumber(\"PostProcessing.SaveMesh\", 1)\n",
    "\n",
    "#gmsh.write(\"rect.msh\")\n",
    "#gmsh.write(\"rect.opt\")\n",
    "#gmsh.view.write(4, \"rect.pos\")"
   ]
  },
  {
   "cell_type": "code",
   "execution_count": 25,
   "metadata": {},
   "outputs": [
    {
     "data": {
      "text/plain": [
       "\"λ = 69.28203230275508\""
      ]
     },
     "metadata": {},
     "output_type": "display_data"
    },
    {
     "data": {
      "text/plain": [
       "\"theory: Fₖᵣ = 41123.351671205666\""
      ]
     },
     "metadata": {},
     "output_type": "display_data"
    },
    {
     "data": {
      "text/plain": [
       "\"fem: Fₖᵣ = 43589.7487365855\""
      ]
     },
     "metadata": {},
     "output_type": "display_data"
    }
   ],
   "source": [
    "E = problem.material[1].E\n",
    "A = a * a\n",
    "I = a^4 / 12\n",
    "i = √(I / A)\n",
    "β = 2\n",
    "l0 = β * l\n",
    "λ = l0 / i\n",
    "display(\"λ = $λ\")\n",
    "σₖᵣ = π^2 * E / λ^2\n",
    "Fₖᵣ = σₖᵣ * A\n",
    "display(\"theory: Fₖᵣ = $Fₖᵣ\")\n",
    "\n",
    "Fkrfem = -F * p\n",
    "display(\"fem: Fₖᵣ = $Fkrfem\")"
   ]
  },
  {
   "cell_type": "code",
   "execution_count": 26,
   "metadata": {},
   "outputs": [
    {
     "name": "stdout",
     "output_type": "stream",
     "text": [
      "-------------------------------------------------------\n",
      "Version       : 4.13.1\n",
      "License       : GNU General Public License\n",
      "Build OS      : Linux64-sdk\n",
      "Build date    : 19700101\n",
      "Build host    : amdci7.julia.csail.mit.edu\n",
      "Build options : 64Bit ALGLIB[contrib] ANN[contrib] Bamg Blossom Cairo DIntegration Dlopen DomHex Eigen[contrib] Fltk GMP Gmm[contrib] Hxt Jpeg Kbipack LinuxJoystick MathEx[contrib] Mesh Metis[contrib] Mmg Mpeg Netgen Nii2mesh ONELAB ONELABMetamodel OpenCASCADE OpenCASCADE-CAF OpenGL OpenMP OptHom Parser Plugins Png Post QuadMeshingTools QuadTri Solver TetGen/BR TinyXML2[contrib] Untangle Voro++[contrib] WinslowUntangler Zlib\n",
      "FLTK version  : 1.3.8\n",
      "OCC version   : 7.7.2\n",
      "Packaged by   : root\n",
      "Web site      : https://gmsh.info\n",
      "Issue tracker : https://gitlab.onelab.info/gmsh/gmsh/issues\n",
      "-------------------------------------------------------\n"
     ]
    },
    {
     "name": "stderr",
     "output_type": "stream",
     "text": [
      "XOpenIM() failed\n",
      "XRequest.18: BadValue 0x0\n"
     ]
    }
   ],
   "source": [
    "gmsh.fltk.run()"
   ]
  },
  {
   "cell_type": "code",
   "execution_count": 27,
   "metadata": {
    "slideshow": {
     "slide_type": ""
    },
    "tags": []
   },
   "outputs": [],
   "source": [
    "gmsh.finalize()"
   ]
  }
 ],
 "metadata": {
  "kernelspec": {
   "display_name": "Julia 1.11.2",
   "language": "julia",
   "name": "julia-1.11"
  },
  "language_info": {
   "file_extension": ".jl",
   "mimetype": "application/julia",
   "name": "julia",
   "version": "1.11.2"
  },
  "varInspector": {
   "cols": {
    "lenName": 16,
    "lenType": 16,
    "lenVar": 40
   },
   "kernels_config": {
    "python": {
     "delete_cmd_postfix": "",
     "delete_cmd_prefix": "del ",
     "library": "var_list.py",
     "varRefreshCmd": "print(var_dic_list())"
    },
    "r": {
     "delete_cmd_postfix": ") ",
     "delete_cmd_prefix": "rm(",
     "library": "var_list.r",
     "varRefreshCmd": "cat(var_dic_list()) "
    }
   },
   "types_to_exclude": [
    "module",
    "function",
    "builtin_function_or_method",
    "instance",
    "_Feature"
   ],
   "window_display": false
  }
 },
 "nbformat": 4,
 "nbformat_minor": 4
}
