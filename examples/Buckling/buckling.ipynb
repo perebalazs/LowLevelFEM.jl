{
 "cells": [
  {
   "cell_type": "code",
   "execution_count": 105,
   "metadata": {},
   "outputs": [],
   "source": [
    "import LowLevelFEM as FEM\n",
    "using LowLevelFEM\n",
    "\n",
    "gmsh.initialize()"
   ]
  },
  {
   "cell_type": "code",
   "execution_count": 106,
   "metadata": {},
   "outputs": [
    {
     "name": "stdout",
     "output_type": "stream",
     "text": [
      "Info    : Reading 'buckling.geo'...\n",
      "Info    : Meshing 1D...\n",
      "Info    : [  0%] Meshing curve 1 (Line)\n",
      "Info    : [ 10%] Meshing curve 2 (Line)\n",
      "Info    : [ 20%] Meshing curve 3 (Line)\n",
      "Info    : [ 30%] Meshing curve 4 (Line)\n",
      "Info    : [ 40%] Meshing curve 5 (Line)\n",
      "Info    : [ 50%] Meshing curve 6 (Line)\n",
      "Info    : [ 60%] Meshing curve 7 (Line)\n",
      "Info    : [ 60%] Meshing curve 8 (Line)\n",
      "Info    : [ 70%] Meshing curve 9 (Line)\n",
      "Info    : [ 80%] Meshing curve 10 (Line)\n",
      "Info    : [ 90%] Meshing curve 11 (Line)\n",
      "Info    : [100%] Meshing curve 12 (Line)\n",
      "Info    : Done meshing 1D (Wall 0.00754189s, CPU 0.007475s)\n",
      "Info    : Meshing 2D...\n",
      "Info    : [  0%] Meshing surface 1 (Transfinite)\n",
      "Info    : [ 20%] Meshing surface 2 (Transfinite)\n",
      "Info    : [ 40%] Meshing surface 3 (Transfinite)\n",
      "Info    : [ 60%] Meshing surface 4 (Transfinite)\n",
      "Info    : [ 70%] Meshing surface 5 (Transfinite)\n",
      "Info    : [ 90%] Meshing surface 6 (Transfinite)\n",
      "Info    : Done meshing 2D (Wall 0.0195604s, CPU 0.019257s)\n",
      "Info    : Meshing 3D...\n",
      "Info    : Meshing volume 1 (Transfinite)\n",
      "Info    : Done meshing 3D (Wall 0.150415s, CPU 0.149376s)\n",
      "Info    : Optimizing mesh...\n",
      "Info    : Done optimizing mesh (Wall 0.00166585s, CPU 0.001664s)\n",
      "Info    : 48016 nodes 75050 elements\n",
      "Info    : Done reading 'buckling.geo'\n"
     ]
    }
   ],
   "source": [
    "gmsh.open(\"buckling.geo\")"
   ]
  },
  {
   "cell_type": "code",
   "execution_count": 107,
   "metadata": {},
   "outputs": [
    {
     "name": "stdout",
     "output_type": "stream",
     "text": [
      "Info    : RCMK renumbering...\n",
      "Info    : Done RCMK renumbering (bandwidth is now 37)\n"
     ]
    },
    {
     "data": {
      "text/plain": [
       "LowLevelFEM.Problem(\"bending3D\", \"Solid\", 3, 3, LowLevelFEM.Material[LowLevelFEM.Material(\"body\", 200000.0, 0.3, 7.85e-9, 45.0, 4.2e8, 1.2e-5)], 1.0, 48016)"
      ]
     },
     "metadata": {},
     "output_type": "display_data"
    }
   ],
   "source": [
    "mat = FEM.material(\"body\", E=2.e5, ν=0.3)\n",
    "problem = FEM.Problem([mat], type=\"Solid\", bandwidth=\"none\")"
   ]
  },
  {
   "cell_type": "code",
   "execution_count": 108,
   "metadata": {},
   "outputs": [],
   "source": [
    "#gmsh.fltk.run()"
   ]
  },
  {
   "cell_type": "code",
   "execution_count": 109,
   "metadata": {},
   "outputs": [],
   "source": [
    "# Néhány láthatósági beállítás 0:kikapcs. 1:bekapcs.\n",
    "gmsh.option.setNumber(\"Geometry.CurveLabels\", 0)\n",
    "gmsh.option.setNumber(\"Geometry.Points\", 0)\n",
    "gmsh.option.setNumber(\"Geometry.Curves\", 0)\n",
    "gmsh.option.setNumber(\"Mesh.Points\", 0)\n",
    "gmsh.option.setNumber(\"Mesh.Lines\", 0)\n",
    "gmsh.option.setNumber(\"Mesh.SurfaceEdges\", 0)\n",
    "gmsh.option.setNumber(\"Mesh.NodeLabels\", 0)\n",
    "gmsh.option.setNumber(\"Mesh.LineLabels\", 0)\n",
    "gmsh.option.setNumber(\"Mesh.SurfaceLabels\", 0)"
   ]
  },
  {
   "cell_type": "code",
   "execution_count": 110,
   "metadata": {},
   "outputs": [
    {
     "data": {
      "text/plain": [
       "144048×144048 SparseArrays.SparseMatrixCSC{Float64, Int64} with 8099019 stored entries:\n",
       "⎡⠻⣦⡈⠀⠀⠁⠀⠈⠀⠀⠙⠲⢤⣀⠀⠁⠀⠀⠀⠀⠳⣄⠁⠀⠈⠀⠀⠁⠀⠈⠳⣄⠁⠀⠈⠀⠀⠁⠀⠈⎤\n",
       "⎢⠂⠈⠻⣦⡀⠀⠀⠀⠀⠀⠲⢤⣀⠈⠙⠂⠀⠀⠀⠀⠀⠈⠃⠀⠐⢦⡀⠀⠀⠀⠀⠈⠃⠀⠐⢦⡀⠀⠀⠀⎥\n",
       "⎢⠄⠀⠀⠈⠻⣦⡀⠀⠀⠀⠄⠀⠈⠙⠲⢤⣀⠀⠀⠀⠀⠀⢤⡀⠀⠀⠙⠆⠀⠀⠀⠀⢤⡀⠀⠀⠙⠆⠀⠀⎥\n",
       "⎢⡀⠀⠀⠀⠀⠈⠻⣦⡀⠀⡀⠀⠀⠀⠀⣀⠈⠙⠲⢤⡀⠀⠀⠙⢦⠀⠀⣀⠀⠀⠀⠀⠀⠙⢦⠀⠀⣀⠀⠀⎥\n",
       "⎢⠀⠀⠀⠀⠀⠀⠀⠈⠻⣦⡀⠀⠀⠀⠀⠈⠙⠲⢤⣀⠀⠀⠀⠀⠀⠀⠀⠈⠳⣄⠀⠀⠀⠀⠀⠀⠀⠈⠳⣄⎥\n",
       "⎢⢳⡀⠘⣆⠀⠁⠀⠈⠀⠈⠻⣦⡀⠀⠀⠁⠀⠀⠀⠈⢧⠀⠁⠀⠈⢧⠀⠁⠀⠈⢧⠀⠁⠀⠘⣆⠀⠁⠀⠈⎥\n",
       "⎢⠀⢳⡀⠘⣆⠀⠀⠀⠀⠀⠀⠈⠻⣦⡀⠀⠀⠀⠀⠀⠈⢧⠀⠀⠀⠈⢧⠀⠀⠀⠈⢧⠀⠀⠀⠘⣆⠀⠀⠀⎥\n",
       "⎢⠄⠀⠳⠀⠘⣆⠀⢠⡀⠀⠄⠀⠀⠈⠻⣦⡀⠀⠀⠀⠀⠈⢧⠀⠀⠀⠈⢧⠀⠀⠀⠈⢧⠀⠀⠀⠘⣆⠀⠀⎥\n",
       "⎢⠀⠀⠀⠀⠀⠘⣆⠀⢳⡀⠀⠀⠀⠀⠀⠈⠻⣦⡀⠀⠀⠀⠈⢧⠀⠀⠀⠈⢧⠀⠀⠀⠈⢧⠀⠀⠀⠘⣆⠀⎥\n",
       "⎢⠀⠀⠀⠀⠀⠀⠘⣆⠀⢳⡀⠀⠀⠀⠀⠀⠀⠈⠻⣦⡀⠀⠀⠈⢧⠀⠀⠀⠈⢧⠀⠀⠀⠈⢧⠀⠀⠀⠘⣆⎥\n",
       "⎢⠙⢦⡀⠀⠀⠀⠀⠈⠀⠀⠉⠓⠦⣄⡀⠀⠀⠀⠀⠈⠻⣦⡙⢦⡈⠀⠀⠀⠀⠈⠳⣄⠙⢦⡈⠀⠀⠀⠀⠈⎥\n",
       "⎢⠁⠀⠉⠀⠀⠳⣄⠀⠀⠀⠁⠀⠀⠀⠉⠓⠦⣄⡀⠀⠳⣌⠻⣦⡉⠀⠀⠀⠀⠘⢦⡈⠳⣄⠉⠀⠀⠀⠀⠀⎥\n",
       "⎢⠂⠀⠰⣄⠀⠀⠈⠓⠀⠀⠦⣄⡀⠀⠀⠀⠀⠀⠉⠓⠂⠈⠃⠈⠻⣦⡀⢦⡀⠀⠀⠙⠂⠈⠳⣄⠀⢦⡀⠀⎥\n",
       "⎢⠄⠀⠀⠈⠳⠄⠀⢠⡀⠀⠄⠀⠉⠓⠦⣄⡀⠀⠀⠀⠀⠀⠀⠀⠠⣌⠻⣦⡙⠦⠀⠀⠀⠀⢠⡈⠳⣄⠙⠦⎥\n",
       "⎢⡀⠀⠀⠀⠀⠀⠀⠀⠙⢦⡀⠀⠀⠀⠀⠀⠉⠓⠦⣄⡀⠀⣀⠀⠀⠈⠳⡌⠻⣦⡀⠀⡀⠀⢀⠙⢦⡈⠳⣄⎥\n",
       "⎢⠙⢦⡀⠀⠀⠀⠀⠀⠀⠀⠉⠓⠦⣄⡀⠀⠀⠀⠀⠀⠙⢦⡈⠳⣄⠀⠀⠀⠀⠈⠻⣦⡙⢦⡈⠳⣄⠙⢦⡀⎥\n",
       "⎢⠁⠀⠉⠀⠀⠳⣄⠀⠀⠀⠁⠀⠀⠀⠉⠓⠦⣄⡀⠀⠳⣄⠙⢦⡈⠀⠀⠀⠀⠈⠳⣌⠻⣦⡙⢦⡈⠳⣄⠉⎥\n",
       "⎢⠂⠀⠰⣄⠀⠀⠈⠓⠀⠀⠲⢤⣀⠀⠀⠀⠀⠀⠉⠓⠂⠈⠃⠀⠙⢦⡀⠲⣄⠐⢦⡈⠳⣌⠻⣦⡙⢦⡈⠓⎥\n",
       "⎢⠄⠀⠀⠈⠳⠄⠀⢠⡀⠀⠄⠀⠈⠙⠲⢤⣀⠀⠀⠀⠀⠀⠀⠀⠠⣄⠙⢦⡈⠳⣄⠙⢦⡈⠳⣌⠻⣦⡙⠦⎥\n",
       "⎣⡀⠀⠀⠀⠀⠀⠀⠀⠙⢦⡀⠀⠀⠀⠀⠀⠈⠙⠲⢤⡀⠀⠀⠀⠀⠈⠳⡄⠙⢦⠈⠳⡄⠙⢦⠈⠳⡌⠻⣦⎦"
      ]
     },
     "metadata": {},
     "output_type": "display_data"
    }
   ],
   "source": [
    "K = FEM.stiffnessMatrix(problem)"
   ]
  },
  {
   "cell_type": "code",
   "execution_count": 111,
   "metadata": {},
   "outputs": [
    {
     "data": {
      "text/plain": [
       "(\"load\", -1, 0, 0)"
      ]
     },
     "metadata": {},
     "output_type": "display_data"
    }
   ],
   "source": [
    "supp = FEM.displacementConstraint(\"supp\", ux=0, uy=0, uz=0)\n",
    "load = FEM.load(\"load\", fx=-1)"
   ]
  },
  {
   "cell_type": "code",
   "execution_count": 112,
   "metadata": {},
   "outputs": [
    {
     "data": {
      "text/plain": [
       "144048-element Vector{Float64}:\n",
       " 0.0\n",
       " 0.0\n",
       " 0.0\n",
       " 0.0\n",
       " 0.0\n",
       " 0.0\n",
       " 0.0\n",
       " 0.0\n",
       " 0.0\n",
       " 0.0\n",
       " ⋮\n",
       " 0.0\n",
       " 0.0\n",
       " 0.0\n",
       " 0.0\n",
       " 0.0\n",
       " 0.0\n",
       " 0.0\n",
       " 0.0\n",
       " 0.0"
      ]
     },
     "metadata": {},
     "output_type": "display_data"
    }
   ],
   "source": [
    "f = FEM.loadVector(problem, [load])"
   ]
  },
  {
   "cell_type": "code",
   "execution_count": 113,
   "metadata": {},
   "outputs": [],
   "source": [
    "FEM.applyBoundaryConditions!(problem, K, f, [supp])"
   ]
  },
  {
   "cell_type": "code",
   "execution_count": 114,
   "metadata": {},
   "outputs": [
    {
     "data": {
      "text/plain": [
       "144048-element Vector{Float64}:\n",
       "  0.0\n",
       "  0.0\n",
       "  0.0\n",
       "  0.0\n",
       "  0.0\n",
       "  0.0\n",
       "  0.0\n",
       "  0.0\n",
       "  0.0\n",
       "  0.0\n",
       "  ⋮\n",
       " -0.0499477436930492\n",
       "  1.2178850793905832e-6\n",
       "  2.085004263713161e-6\n",
       " -0.04996441035971587\n",
       "  1.2173048111815979e-6\n",
       "  2.0848189659553875e-6\n",
       " -0.04998107702638253\n",
       "  1.216724542960781e-6\n",
       "  2.084633668187328e-6"
      ]
     },
     "metadata": {},
     "output_type": "display_data"
    }
   ],
   "source": [
    "q = FEM.solveDisplacement(K, f)"
   ]
  },
  {
   "cell_type": "code",
   "execution_count": 115,
   "metadata": {},
   "outputs": [
    {
     "data": {
      "text/plain": [
       "144048×144048 SparseArrays.SparseMatrixCSC{Float64, Int64} with 2700300 stored entries:\n",
       "⎡⠻⣦⡈⠀⠀⠁⠀⠈⠀⠀⠙⠲⢤⣀⠀⠁⠀⠀⠀⠀⠳⣄⠁⠀⠈⠀⠀⠁⠀⠈⠳⣄⠁⠀⠈⠀⠀⠁⠀⠈⎤\n",
       "⎢⠂⠈⠻⣦⡀⠀⠀⠀⠀⠀⠲⢤⣀⠈⠙⠂⠀⠀⠀⠀⠀⠈⠃⠀⠐⢦⡀⠀⠀⠀⠀⠈⠃⠀⠐⢦⡀⠀⠀⠀⎥\n",
       "⎢⠄⠀⠀⠈⠻⣦⡀⠀⠀⠀⠄⠀⠈⠙⠲⢤⣀⠀⠀⠀⠀⠀⢤⡀⠀⠀⠙⠆⠀⠀⠀⠀⢤⡀⠀⠀⠙⠆⠀⠀⎥\n",
       "⎢⡀⠀⠀⠀⠀⠈⠻⣦⡀⠀⡀⠀⠀⠀⠀⣀⠈⠙⠲⢤⡀⠀⠀⠙⢦⠀⠀⣀⠀⠀⠀⠀⠀⠙⢦⠀⠀⣀⠀⠀⎥\n",
       "⎢⠀⠀⠀⠀⠀⠀⠀⠈⠻⣦⡀⠀⠀⠀⠀⠈⠙⠲⢤⣀⠀⠀⠀⠀⠀⠀⠀⠈⠳⣄⠀⠀⠀⠀⠀⠀⠀⠈⠳⣄⎥\n",
       "⎢⢳⡀⠘⣆⠀⠁⠀⠈⠀⠈⠻⣦⡀⠀⠀⠁⠀⠀⠀⠈⢧⠀⠁⠀⠈⢧⠀⠁⠀⠈⢧⠀⠁⠀⠘⣆⠀⠁⠀⠈⎥\n",
       "⎢⠀⢳⡀⠘⣆⠀⠀⠀⠀⠀⠀⠈⠻⣦⡀⠀⠀⠀⠀⠀⠈⢧⠀⠀⠀⠈⢧⠀⠀⠀⠈⢧⠀⠀⠀⠘⣆⠀⠀⠀⎥\n",
       "⎢⠄⠀⠳⠀⠘⣆⠀⢠⡀⠀⠄⠀⠀⠈⠻⣦⡀⠀⠀⠀⠀⠈⢧⠀⠀⠀⠈⢧⠀⠀⠀⠈⢧⠀⠀⠀⠘⣆⠀⠀⎥\n",
       "⎢⠀⠀⠀⠀⠀⠘⣆⠀⢳⡀⠀⠀⠀⠀⠀⠈⠻⣦⡀⠀⠀⠀⠈⢧⠀⠀⠀⠈⢧⠀⠀⠀⠈⢧⠀⠀⠀⠘⣆⠀⎥\n",
       "⎢⠀⠀⠀⠀⠀⠀⠘⣆⠀⢳⡀⠀⠀⠀⠀⠀⠀⠈⠻⣦⡀⠀⠀⠈⢧⠀⠀⠀⠈⢧⠀⠀⠀⠈⢧⠀⠀⠀⠘⣆⎥\n",
       "⎢⠙⢦⡀⠀⠀⠀⠀⠈⠀⠀⠉⠓⠦⣄⡀⠀⠀⠀⠀⠈⠻⣦⡙⢦⡈⠀⠀⠀⠀⠈⠳⣄⠙⢦⡈⠀⠀⠀⠀⠈⎥\n",
       "⎢⠁⠀⠉⠀⠀⠳⣄⠀⠀⠀⠁⠀⠀⠀⠉⠓⠦⣄⡀⠀⠳⣌⠻⣦⡉⠀⠀⠀⠀⠘⢦⡈⠳⣄⠉⠀⠀⠀⠀⠀⎥\n",
       "⎢⠂⠀⠰⣄⠀⠀⠈⠓⠀⠀⠦⣄⡀⠀⠀⠀⠀⠀⠉⠓⠂⠈⠃⠈⠻⣦⡀⢦⡀⠀⠀⠙⠂⠈⠳⣄⠀⢦⡀⠀⎥\n",
       "⎢⠄⠀⠀⠈⠳⠄⠀⢠⡀⠀⠄⠀⠉⠓⠦⣄⡀⠀⠀⠀⠀⠀⠀⠀⠠⣌⠻⣦⡙⠦⠀⠀⠀⠀⢠⡈⠳⣄⠙⠦⎥\n",
       "⎢⡀⠀⠀⠀⠀⠀⠀⠀⠙⢦⡀⠀⠀⠀⠀⠀⠉⠓⠦⣄⡀⠀⣀⠀⠀⠈⠳⡌⠻⣦⡀⠀⡀⠀⢀⠙⢦⡈⠳⣄⎥\n",
       "⎢⠙⢦⡀⠀⠀⠀⠀⠀⠀⠀⠉⠓⠦⣄⡀⠀⠀⠀⠀⠀⠙⢦⡈⠳⣄⠀⠀⠀⠀⠈⠻⣦⡙⢦⡈⠳⣄⠙⢦⡀⎥\n",
       "⎢⠁⠀⠉⠀⠀⠳⣄⠀⠀⠀⠁⠀⠀⠀⠉⠓⠦⣄⡀⠀⠳⣄⠙⢦⡈⠀⠀⠀⠀⠈⠳⣌⠻⣦⡙⢦⡈⠳⣄⠉⎥\n",
       "⎢⠂⠀⠰⣄⠀⠀⠈⠓⠀⠀⠲⢤⣀⠀⠀⠀⠀⠀⠉⠓⠂⠈⠃⠀⠙⢦⡀⠲⣄⠐⢦⡈⠳⣌⠻⣦⡙⢦⡈⠓⎥\n",
       "⎢⠄⠀⠀⠈⠳⠄⠀⢠⡀⠀⠄⠀⠈⠙⠲⢤⣀⠀⠀⠀⠀⠀⠀⠀⠠⣄⠙⢦⡈⠳⣄⠙⢦⡈⠳⣌⠻⣦⡙⠦⎥\n",
       "⎣⡀⠀⠀⠀⠀⠀⠀⠀⠙⢦⡀⠀⠀⠀⠀⠀⠈⠙⠲⢤⡀⠀⠀⠀⠀⠈⠳⡄⠙⢦⠈⠳⡄⠙⢦⠈⠳⡌⠻⣦⎦"
      ]
     },
     "metadata": {},
     "output_type": "display_data"
    }
   ],
   "source": [
    "Knl = FEM.nonLinearStiffnessMatrix(problem, q)"
   ]
  },
  {
   "cell_type": "code",
   "execution_count": 116,
   "metadata": {},
   "outputs": [
    {
     "data": {
      "text/plain": [
       "0.04358673450568537"
      ]
     },
     "metadata": {},
     "output_type": "display_data"
    }
   ],
   "source": [
    "FEM.smallestEigenValue(K, -Knl)"
   ]
  },
  {
   "cell_type": "code",
   "execution_count": 117,
   "metadata": {},
   "outputs": [
    {
     "data": {
      "text/plain": [
       "LowLevelFEM.TensorField([[-1.0794658879274304; -0.046715611054509484; … ; -0.0017609160586329645; 0.0701665939934437;;], [-1.0389771258080784; 0.02130550079580722; … ; -0.0040736354269385365; 0.005682799593428267;;], [-1.034500958254383; 0.016280391099535524; … ; -0.0007584023130929427; 0.009367670069441558;;], [-1.0027323616353911; 0.0021431514734455747; … ; 3.0330821357836494e-5; 0.0001782617762771943;;], [-0.9997262533460551; -9.065867428184085e-5; … ; 4.8792929182009495e-5; -0.00012014303857577069;;], [-0.9996044258725643; -0.00018341933202271812; … ; 1.2192333579868793e-5; -0.00010789546404174621;;], [-0.9999283445078455; -4.222246393537281e-5; … ; 9.362634625359785e-7; -1.3163857692150005e-5;;], [-0.9999959063360776; -3.33996417065782e-6; … ; -4.2372500046584813e-7; 3.41709439077853e-8;;], [-1.0000039260364013; 1.6692004490304393e-6; … ; -1.7952002799994685e-7; 1.1719625039596782e-6;;], [-1.0000012238775753; 6.37882469480454e-7; … ; -2.7689553958337078e-8; 2.723416212269125e-7;;]  …  [-1.0000000000051295; 9.172226582104307e-13; … ; -1.8612734561156274e-13; -1.1023681967259336e-12;;], [-1.0000000000073936; 8.396865653463832e-13; … ; -3.596224979424388e-13; 8.862355294070312e-14;;], [-1.000000000001937; 1.3770801030938182e-13; … ; -3.0665036054876597e-13; 1.0487166690609229e-12;;], [-1.0000000000033973; -2.5814957977088755e-13; … ; -7.637956710914259e-14; -6.409039965404872e-13;;], [-1.0000000000006228; 1.2145149336015507e-13; … ; -2.732658600603489e-13; -1.401517790711182e-12;;], [-1.0000000000043279; 2.898970261977843e-13; … ; -1.802388377186314e-13; 1.8283430325283234e-12;;], [-1.0000000000001288; -9.072537319850532e-13; … ; 2.7316812548951186e-14; 2.745303984141856e-13;;], [-0.9999999999996144; 9.424870447718042e-14; … ; -1.2414733860574326e-13; -7.124856260531942e-13;;], [-1.0000000000007094; -3.638169399408615e-13; … ; -3.6197627219009736e-13; 1.3297696277447812e-12;;], [-0.9999999999977621; 9.348311700562364e-14; … ; 2.385700874132016e-13; -8.922862448912383e-13;;]], [19, 20, 21, 22, 23, 24, 25, 26, 27, 28  …  27009, 27010, 27011, 27012, 27013, 27014, 27015, 27016, 27017, 27018], 1, \"s\")"
      ]
     },
     "metadata": {},
     "output_type": "display_data"
    }
   ],
   "source": [
    "S = FEM.solveStress(problem, q)"
   ]
  },
  {
   "cell_type": "code",
   "execution_count": 118,
   "metadata": {},
   "outputs": [],
   "source": [
    "gmsh.option.setNumber(\"View.IntervalsType\", 3)\n",
    "gmsh.option.setNumber(\"View.VectorType\", 5)"
   ]
  },
  {
   "cell_type": "code",
   "execution_count": 119,
   "metadata": {},
   "outputs": [
    {
     "name": "stdout",
     "output_type": "stream",
     "text": [
      "Info    : Running Plugin(Smooth)...\n",
      "Info    : Done running Plugin(Smooth)\n",
      "Info    : Running Plugin(Smooth)...\n",
      "Info    : Done running Plugin(Smooth)\n",
      "Info    : Running Plugin(Smooth)...\n",
      "Info    : Done running Plugin(Smooth)\n",
      "Info    : Running Plugin(Smooth)...\n",
      "Info    : Done running Plugin(Smooth)\n",
      "Info    : Running Plugin(Smooth)...\n",
      "Info    : Done running Plugin(Smooth)\n",
      "Info    : Running Plugin(Smooth)...\n",
      "Info    : Done running Plugin(Smooth)\n",
      "Info    : Running Plugin(Smooth)...\n",
      "Info    : Done running Plugin(Smooth)\n"
     ]
    },
    {
     "data": {
      "text/plain": [
       "10"
      ]
     },
     "metadata": {},
     "output_type": "display_data"
    }
   ],
   "source": [
    "u = FEM.showDoFResults(problem, q, \"uvec\", name=\"uvec\", visible=false)\n",
    "ux = FEM.showDoFResults(problem, q, \"ux\", name=\"ux\", visible=false)\n",
    "uy = FEM.showDoFResults(problem, q, \"uy\", name=\"uy\", visible=false)\n",
    "uz = FEM.showDoFResults(problem, q, \"uz\", name=\"uz\", visible=false)\n",
    "s = FEM.showStressResults(problem, S, \"s\", name=\"σ\", visible=true, smooth=true)\n",
    "sx = FEM.showStressResults(problem, S, \"sx\", name=\"σx\", visible=false, smooth=true)\n",
    "sy = FEM.showStressResults(problem, S, \"sy\", name=\"σy\", visible=false, smooth=true)\n",
    "sz = FEM.showStressResults(problem, S, \"sz\", name=\"σz\", visible=false, smooth=true)\n",
    "sxy = FEM.showStressResults(problem, S, \"sxy\", name=\"τxy\", visible=false, smooth=true)\n",
    "syz = FEM.showStressResults(problem, S, \"syz\", name=\"τyz\", visible=false, smooth=true)\n",
    "szx = FEM.showStressResults(problem, S, \"szx\", name=\"τzx\", visible=false, smooth=true)"
   ]
  },
  {
   "cell_type": "code",
   "execution_count": 120,
   "metadata": {},
   "outputs": [],
   "source": [
    "FEM.plotOnPath(problem, \"path\", sx, name=\"σx\", visible=false);\n",
    "FEM.plotOnPath(problem, \"path\", sxy, name=\"τxy\", visible=false);\n",
    "FEM.plotOnPath(problem, \"path\", ux, name=\"ux\", visible=false);"
   ]
  },
  {
   "cell_type": "code",
   "execution_count": 121,
   "metadata": {},
   "outputs": [],
   "source": [
    "#gmsh.option.setNumber(\"PostProcessing.Binary\", 1)\n",
    "#gmsh.option.setNumber(\"PostProcessing.SaveMesh\", 1)\n",
    "\n",
    "#gmsh.write(\"rect.msh\")\n",
    "#gmsh.write(\"rect.opt\")\n",
    "#gmsh.view.write(4, \"rect.pos\")"
   ]
  },
  {
   "cell_type": "code",
   "execution_count": 122,
   "metadata": {},
   "outputs": [
    {
     "name": "stdout",
     "output_type": "stream",
     "text": [
      "-------------------------------------------------------\n",
      "Version       : 4.13.1\n",
      "License       : GNU General Public License\n",
      "Build OS      : Linux64-sdk\n",
      "Build date    : 19700101\n",
      "Build host    : amdci7.julia.csail.mit.edu\n",
      "Build options : 64Bit ALGLIB[contrib] ANN[contrib] Bamg Blossom Cairo DIntegration Dlopen DomHex Eigen[contrib] Fltk GMP Gmm[contrib] Hxt Jpeg Kbipack LinuxJoystick MathEx[contrib] Mesh Metis[contrib] Mmg Mpeg Netgen Nii2mesh ONELAB ONELABMetamodel OpenCASCADE OpenCASCADE-CAF OpenGL OpenMP OptHom Parser Plugins Png Post QuadMeshingTools QuadTri Solver TetGen/BR TinyXML2[contrib] Untangle Voro++[contrib] WinslowUntangler Zlib\n",
      "FLTK version  : 1.3.8\n",
      "OCC version   : 7.7.2\n",
      "Packaged by   : root\n",
      "Web site      : https://gmsh.info\n",
      "Issue tracker : https://gitlab.onelab.info/gmsh/gmsh/issues\n",
      "-------------------------------------------------------\n"
     ]
    },
    {
     "name": "stderr",
     "output_type": "stream",
     "text": [
      "XRequest.18: BadValue 0x0\n"
     ]
    }
   ],
   "source": [
    "gmsh.fltk.run()"
   ]
  },
  {
   "cell_type": "code",
   "execution_count": 123,
   "metadata": {
    "slideshow": {
     "slide_type": ""
    },
    "tags": []
   },
   "outputs": [],
   "source": [
    "gmsh.finalize()"
   ]
  }
 ],
 "metadata": {
  "kernelspec": {
   "display_name": "Julia 1.11.2",
   "language": "julia",
   "name": "julia-1.11"
  },
  "language_info": {
   "file_extension": ".jl",
   "mimetype": "application/julia",
   "name": "julia",
   "version": "1.11.2"
  },
  "varInspector": {
   "cols": {
    "lenName": 16,
    "lenType": 16,
    "lenVar": 40
   },
   "kernels_config": {
    "python": {
     "delete_cmd_postfix": "",
     "delete_cmd_prefix": "del ",
     "library": "var_list.py",
     "varRefreshCmd": "print(var_dic_list())"
    },
    "r": {
     "delete_cmd_postfix": ") ",
     "delete_cmd_prefix": "rm(",
     "library": "var_list.r",
     "varRefreshCmd": "cat(var_dic_list()) "
    }
   },
   "types_to_exclude": [
    "module",
    "function",
    "builtin_function_or_method",
    "instance",
    "_Feature"
   ],
   "window_display": false
  }
 },
 "nbformat": 4,
 "nbformat_minor": 4
}
