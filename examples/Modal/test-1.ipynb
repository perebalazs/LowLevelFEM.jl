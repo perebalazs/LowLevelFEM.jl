{
 "cells": [
  {
   "cell_type": "code",
   "execution_count": 1,
   "metadata": {},
   "outputs": [],
   "source": [
    "import LowLevelFEM as FEM\n",
    "using LowLevelFEM\n",
    "\n",
    "gmsh.initialize()"
   ]
  },
  {
   "cell_type": "code",
   "execution_count": 2,
   "metadata": {},
   "outputs": [
    {
     "name": "stdout",
     "output_type": "stream",
     "text": [
      "Info    : Reading 'test-1.geo'...\n",
      "Info    : Meshing 1D...\n",
      "Info    : [  0%] Meshing curve 1 (Line)\n",
      "Info    : [ 30%] Meshing curve 2 (Line)\n",
      "Info    : [ 60%] Meshing curve 3 (Line)\n",
      "Info    : [ 80%] Meshing curve 4 (Line)\n",
      "Info    : Done meshing 1D (Wall 0.000556639s, CPU 0.000537s)\n",
      "Info    : Meshing 2D...\n",
      "Info    : Meshing surface 1 (Plane, Frontal-Delaunay)\n",
      "Info    : Done meshing 2D (Wall 0.0093776s, CPU 0.009376s)\n",
      "Info    : Meshing order 4 (curvilinear on)...\n",
      "Info    : [  0%] Meshing curve 1 order 4\n",
      "Info    : [ 30%] Meshing curve 2 order 4\n",
      "Info    : [ 50%] Meshing curve 3 order 4\n",
      "Info    : [ 70%] Meshing curve 4 order 4\n",
      "Info    : [ 90%] Meshing surface 1 order 4\n",
      "Info    : Surface mesh: worst distortion = 1 (0 elements in ]0, 0.2]); worst gamma = 0.820606\n",
      "Info    : Done meshing order 4 (Wall 0.0046653s, CPU 0.004483s)\n",
      "Info    : 1361 nodes 198 elements\n",
      "Info    : Done reading 'test-1.geo'\n"
     ]
    }
   ],
   "source": [
    "gmsh.open(\"test-1.geo\")"
   ]
  },
  {
   "cell_type": "code",
   "execution_count": 3,
   "metadata": {},
   "outputs": [],
   "source": [
    "#gmsh.fltk.run()"
   ]
  },
  {
   "cell_type": "code",
   "execution_count": 4,
   "metadata": {},
   "outputs": [
    {
     "name": "stdout",
     "output_type": "stream",
     "text": [
      "Info    : RCMK renumbering...\n",
      "Info    : Done RCMK renumbering (bandwidth is now 274)\n"
     ]
    },
    {
     "data": {
      "text/plain": [
       "LowLevelFEM.Problem(\"test-1\", \"PlaneStress\", 2, 2, LowLevelFEM.Material[LowLevelFEM.Material(\"body\", 200000.0, 0.3, 7.85e-9, 45.0, 4.2e8, 1.2e-5)], 1.0, 1361)"
      ]
     },
     "metadata": {},
     "output_type": "display_data"
    }
   ],
   "source": [
    "mat = FEM.material(\"body\", E=2e5, ν=0.3, ρ=7.85e-9)\n",
    "problem = FEM.Problem([mat], type=\"PlaneStress\")"
   ]
  },
  {
   "cell_type": "code",
   "execution_count": 5,
   "metadata": {},
   "outputs": [
    {
     "data": {
      "text/plain": [
       "2722×2722 SparseArrays.SparseMatrixCSC{Float64, Int64} with 123364 stored entries:\n",
       "⎡⡿⣯⡍⢹⡇⣿⠠⠒⠀⠄⠀⠀⠀⠀⠀⠹⠇⠀⠀⠀⠛⠇⢠⣤⠀⠀⠴⠀⣤⠠⢠⡝⢯⣿⢠⡭⠒⠀⠀⠤⎤\n",
       "⎢⣇⣉⠿⣧⣟⣿⢠⡀⢀⣀⠀⠀⠈⠛⡇⣀⠡⠄⠀⠀⢀⡀⠀⡙⢻⣤⠠⡤⢀⢻⢄⣿⡍⠀⠀⠌⠁⣀⡀⠀⎥\n",
       "⎢⣭⣭⣿⣽⣿⣿⣿⣿⣿⣻⣿⣿⡿⠿⡿⣮⢽⡭⠟⢶⣭⣿⢿⡩⣻⢭⢿⣽⣽⣿⣿⣭⣽⣿⣯⣭⣵⣶⣿⣷⎥\n",
       "⎢⢠⠂⠀⠲⣿⣿⠿⣧⣍⡰⡀⢂⢀⠀⠀⠁⠀⠀⠀⠁⠀⡄⠘⠀⠀⠒⣤⠠⠰⠀⣐⠀⠀⠀⠀⠀⠀⠀⠀⠀⎥\n",
       "⎢⠀⠄⠀⢰⣿⣻⢃⡹⠻⣦⣢⡠⠐⠐⢀⡀⠀⠂⠀⠈⠀⢀⡀⠄⠀⠀⠉⠀⢈⠱⠀⠄⠀⠀⠈⠀⠁⠀⠀⠀⎥\n",
       "⎢⠀⠀⠀⠀⣿⣿⠠⢈⠈⡺⣿⣿⣌⠀⠀⠂⠀⠤⠄⠺⠃⠀⠐⠀⢀⠀⠄⠛⡄⠀⡄⠀⠀⣠⢤⠉⠀⠀⠀⠁⎥\n",
       "⎢⠀⠀⣦⠀⣿⡏⠀⠐⢐⠀⠂⠙⠱⣦⡀⠀⢀⡀⠠⠐⠈⠶⠀⢰⡀⠀⠀⠀⠠⠖⠃⠀⠀⠌⠉⠉⠈⠀⠈⠉⎥\n",
       "⎢⣄⡀⠉⢩⡻⣯⠄⠀⠀⠰⠠⠀⠀⠈⠱⣦⡀⠁⠲⠖⣀⡐⠢⠈⠁⠁⠀⢀⠀⠀⠀⠀⠀⠀⠀⠀⠀⢠⣄⠀⎥\n",
       "⎢⠉⠁⠁⠆⡗⡷⠀⠀⠠⠀⠀⡄⠀⠰⠄⠈⣿⣿⡄⠐⠂⢁⡀⠈⠱⢾⡆⠀⡀⠀⢀⡀⠀⠂⠂⠀⠀⠀⠐⠂⎥\n",
       "⎢⠀⠀⠀⠀⢻⣅⠄⠀⡀⠀⣠⡁⢀⠂⢸⠆⢀⠉⠻⣦⡀⢸⠷⠀⠀⠀⠅⣀⣠⡁⠀⠀⠀⢀⡀⠀⠀⠀⠀⠀⎥\n",
       "⎢⠿⠄⠀⠰⣧⣿⠀⠤⠀⢀⠉⠀⢢⡄⢀⠸⠌⢀⣀⣈⠻⣦⣀⠀⠀⠀⠠⠉⠀⠀⠀⠀⠁⠀⠀⠉⢀⡤⡔⠀⎥\n",
       "⎢⠀⣶⣄⠠⡟⡳⠒⠀⠀⠌⠐⠀⢀⣀⡈⠂⡀⠈⠙⠃⠀⠘⠻⣦⡀⠀⠒⠀⠻⣠⠰⠄⠸⠀⠀⠠⠀⠀⠀⠀⎥\n",
       "⎢⠀⠀⠛⣶⡟⣞⢠⠀⠀⠀⠀⠐⠀⠈⠅⠀⣱⣆⠀⠀⠀⠀⠀⠈⠻⣦⡐⡖⠀⠐⡄⠉⠀⠂⢀⠈⡁⠀⡀⠀⎥\n",
       "⎢⠐⠃⠀⡦⣟⣷⠀⡛⠃⠀⣤⠁⠀⠀⠀⢀⠈⠉⠁⢡⡄⠂⠘⠀⢰⠬⢻⣶⡛⢰⠍⠠⢀⠂⣀⡄⢒⡀⣀⢀⎥\n",
       "⎢⠀⡛⣤⣐⣷⣿⠐⠂⢆⡐⠀⠉⢠⠆⠀⠀⠀⠈⠄⠺⠀⠀⠛⣢⢀⠀⢛⣈⠻⣦⠘⡁⡜⠏⠥⠀⡄⠀⠀⠀⎥\n",
       "⎢⣄⠶⣤⣵⡟⣿⠐⠘⠀⠄⠀⠉⠉⠀⠀⠀⠀⠰⠀⠀⠀⠀⠐⠆⡄⠉⠃⡁⠖⠠⠻⣦⡀⠐⠚⣬⡅⠀⠀⠁⎥\n",
       "⎢⣯⣷⠃⠉⣷⣿⠀⠀⠀⠀⠀⣠⡀⠄⠀⠀⠠⠀⠀⢀⠁⠀⠒⠂⠠⠀⠠⠐⡶⠍⢀⠈⢻⣶⣄⠙⢵⠂⠠⣖⎥\n",
       "⎢⡄⡶⡀⠄⡏⣿⠀⠀⠂⠀⡄⠓⡇⠀⠀⠀⠈⠀⠀⠈⡄⠀⠀⡀⡀⠐⠀⠼⠁⠃⡚⣤⣄⠙⠿⣧⡊⠀⠊⡍⎥\n",
       "⎢⠘⠀⠁⢠⢱⣿⠀⠀⠁⠀⠀⠀⠂⠀⠀⣀⠀⠀⠀⠀⠀⡴⠀⠀⠁⠈⠘⠰⠀⠉⠁⠉⠱⠓⠊⠈⢻⣶⣗⠱⎥\n",
       "⎣⠀⡄⠀⠈⢿⣿⠀⠀⠀⠀⠄⠀⡆⠀⠀⠙⠰⠀⠀⠀⠐⠉⠀⠀⠀⠈⠀⢘⠀⠀⠄⠀⢠⢦⡎⠤⢝⡙⠻⣦⎦"
      ]
     },
     "metadata": {},
     "output_type": "display_data"
    }
   ],
   "source": [
    "K = FEM.stiffnessMatrix(problem)"
   ]
  },
  {
   "cell_type": "code",
   "execution_count": 6,
   "metadata": {},
   "outputs": [
    {
     "data": {
      "text/plain": [
       "2722×2722 SparseArrays.SparseMatrixCSC{Float64, Int64} with 61682 stored entries:\n",
       "⎡⡿⣯⡍⢹⡇⣿⠠⠒⠀⠄⠀⠀⠀⠀⠀⠹⠇⠀⠀⠀⠛⠇⢠⣤⠀⠀⠴⠀⣤⠠⢠⡝⢯⣿⢠⡭⠒⠀⠀⠤⎤\n",
       "⎢⣇⣉⠿⣧⣟⣿⢠⠀⢀⣀⠀⠀⠈⠛⡇⣀⠡⠄⠀⠀⢀⡀⠀⡙⢻⣤⠠⡤⢀⢻⢄⣿⡍⠀⠀⠌⠁⣀⡀⠀⎥\n",
       "⎢⣭⣭⣿⣽⣿⣿⣿⣿⣿⣻⣿⣿⡿⠿⡿⣮⢽⡭⠟⢶⣭⣿⢿⡩⣻⢭⢿⣽⣽⣿⣿⣭⣽⣿⣯⣭⣵⣶⣿⣷⎥\n",
       "⎢⢠⠂⠀⠒⣿⣿⠿⣧⣍⡰⡀⢂⢀⠀⠀⠁⠀⠀⠀⠁⠀⡄⠘⠀⠀⠒⣤⠠⠰⠀⣐⠀⠀⠀⠀⠀⠀⠀⠀⠀⎥\n",
       "⎢⠀⠄⠀⢰⣿⣻⢃⡹⠻⣦⣢⡠⠐⠐⢀⡀⠀⠂⠀⠈⠀⢀⡀⠄⠀⠀⠉⠀⢈⠱⠀⠄⠀⠀⠈⠀⠁⠀⠀⠀⎥\n",
       "⎢⠀⠀⠀⠀⣿⣿⠠⢈⠈⡺⣿⣿⣌⠀⠀⠂⠀⠤⠄⠺⠃⠀⠐⠀⢀⠀⠄⠛⡄⠀⡄⠀⠀⣠⢤⠉⠀⠀⠀⠁⎥\n",
       "⎢⠀⠀⣦⠀⣿⡏⠀⠐⢐⠀⠂⠙⠱⣦⡀⠀⢀⡀⠠⠐⠈⠶⠀⢰⡀⠀⠀⠀⠠⠖⠃⠀⠀⠌⠉⠉⠈⠀⠈⠉⎥\n",
       "⎢⣄⡀⠉⢩⡻⣯⠄⠀⠀⠰⠠⠀⠀⠈⠱⣦⡀⠁⠲⠖⣀⡐⠢⠈⠁⠁⠀⢀⠀⠀⠀⠀⠀⠀⠀⠀⠀⢠⣄⠀⎥\n",
       "⎢⠉⠁⠁⠆⡗⡷⠀⠀⠠⠀⠀⡄⠀⠰⠄⠈⣿⣿⡄⠐⠂⢁⡀⠈⠱⢾⡆⠀⡀⠀⢀⡀⠀⠂⠂⠀⠀⠀⠐⠂⎥\n",
       "⎢⠀⠀⠀⠀⢻⣅⠄⠀⡀⠀⣠⡁⢀⠂⢸⠆⢀⠉⠻⣦⡀⢸⠷⠀⠀⠀⠅⣀⣠⡁⠀⠀⠀⢀⡀⠀⠀⠀⠀⠀⎥\n",
       "⎢⠿⠄⠀⠰⣧⣿⠀⠤⠀⢀⠉⠀⢢⡄⢀⠸⠌⢀⣀⣈⠻⣦⣀⠀⠀⠀⠠⠉⠀⠀⠀⠀⠁⠀⠀⠉⢀⡤⡔⠀⎥\n",
       "⎢⠀⣶⣄⠠⡟⡳⠒⠀⠀⠌⠐⠀⢀⣀⡈⠂⡀⠈⠙⠃⠀⠘⠻⣦⡀⠀⠒⠀⠻⣠⠰⠄⠸⠀⠀⠠⠀⠀⠀⠀⎥\n",
       "⎢⠀⠀⠛⣶⡟⣞⢠⠀⠀⠀⠀⠐⠀⠈⠅⠀⣱⣆⠀⠀⠀⠀⠀⠈⠻⣦⡐⡖⠀⠐⡄⠉⠀⠂⢀⠈⡁⠀⡀⠀⎥\n",
       "⎢⠐⠃⠀⡦⣟⣷⠀⡛⠃⠀⣤⠁⠀⠀⠀⢀⠈⠉⠁⢡⡄⠂⠘⠀⢰⠬⢻⣶⡛⢰⠍⠠⢀⠂⣀⡄⢒⡀⣀⢀⎥\n",
       "⎢⠀⡛⣤⣐⣷⣿⠐⠂⢆⡐⠀⠉⢠⠆⠀⠀⠀⠈⠄⠺⠀⠀⠛⣢⢀⠀⢛⣈⠻⣦⠘⡁⡜⠏⠥⠀⡄⠀⠀⠀⎥\n",
       "⎢⣄⠶⣤⣵⡟⣿⠐⠘⠀⠄⠀⠉⠉⠀⠀⠀⠀⠰⠀⠀⠀⠀⠐⠆⡄⠉⠃⡁⠖⠠⠻⣦⡀⠐⠚⣬⡁⠀⠀⠁⎥\n",
       "⎢⣯⣷⠃⠉⣷⣿⠀⠀⠀⠀⠀⣠⡀⠄⠀⠀⠠⠀⠀⢀⠁⠀⠒⠂⠠⠀⠠⠐⡶⠍⢀⠈⢻⣶⣄⠙⢵⠂⠠⣖⎥\n",
       "⎢⡄⡶⡀⠄⡏⣿⠀⠀⠂⠀⡄⠓⡇⠀⠀⠀⠈⠀⠀⠈⡄⠀⠀⡀⡀⠐⠀⠼⠁⠃⡚⣤⣄⠙⠿⣧⡊⠀⠊⡍⎥\n",
       "⎢⠘⠀⠁⢠⢱⣿⠀⠀⠁⠀⠀⠀⠂⠀⠀⣀⠀⠀⠀⠀⠀⡴⠀⠀⠁⠈⠘⠰⠀⠉⠁⠈⠱⠓⠊⠈⢻⣶⣗⠱⎥\n",
       "⎣⠀⡄⠀⠈⢿⣿⠀⠀⠀⠀⠄⠀⡆⠀⠀⠙⠰⠀⠀⠀⠐⠉⠀⠀⠀⠈⠀⢘⠀⠀⠄⠀⢠⢦⡎⠤⢝⡙⠻⣦⎦"
      ]
     },
     "metadata": {},
     "output_type": "display_data"
    }
   ],
   "source": [
    "M = FEM.massMatrix(problem, lumped=false)"
   ]
  },
  {
   "cell_type": "code",
   "execution_count": 7,
   "metadata": {},
   "outputs": [],
   "source": [
    "#using Arpack\n",
    "\n",
    "#fₘᵢₙ = 30000\n",
    "#n = 6\n",
    "#ωₘᵢₙ² = (2π * fₘᵢₙ)^2\n",
    "#ω², ϕ = Arpack.eigs(K, M, nev=n, which=:LR, sigma=ωₘᵢₙ², maxiter=10000)\n",
    "#f = sqrt.(abs.(real.(ω²))) / 2π\n",
    "#f\n",
    "#real(ϕ)"
   ]
  },
  {
   "cell_type": "code",
   "execution_count": 8,
   "metadata": {},
   "outputs": [
    {
     "data": {
      "text/plain": [
       "LowLevelFEM.Modal([19542.467059726394, 20814.263367611657, 20814.263386519146, 22134.947590207787, 25157.690021765615, 29072.400945590347, 31353.503172132387, 31353.50318715708, 36237.56257568086, 41842.34352129622, 41842.343857630294, 42489.60545678779, 44269.89576440414, 44521.9331292619, 50891.60117382547, 51365.2936961992, 51365.29410172282, 54860.025297530716, 54860.025385868816, 57622.26332838742], [-0.026220821141624315 -0.015619821639956651 … -0.033010131407807744 0.04241341165795025; -0.026220822228286183 -0.0003733428635839755 … 0.0662750368150528 0.042413368931645656; … ; -0.02224882580384785 -0.010846217333701596 … -0.0028326244000850135 0.0028631692657706325; -0.0203768317684754 -0.01248720386946546 … -0.01604004323261604 0.002401627063718967])"
      ]
     },
     "metadata": {},
     "output_type": "display_data"
    }
   ],
   "source": [
    "E = FEM.solveEigenModes(K, M, n=20, fₘᵢₙ=1)"
   ]
  },
  {
   "cell_type": "code",
   "execution_count": 9,
   "metadata": {},
   "outputs": [
    {
     "data": {
      "text/plain": [
       "20-element Vector{Float64}:\n",
       " 19542.467059726394\n",
       " 20814.263367611657\n",
       " 20814.263386519146\n",
       " 22134.947590207787\n",
       " 25157.690021765615\n",
       " 29072.400945590347\n",
       " 31353.503172132387\n",
       " 31353.50318715708\n",
       " 36237.56257568086\n",
       " 41842.34352129622\n",
       " 41842.343857630294\n",
       " 42489.60545678779\n",
       " 44269.89576440414\n",
       " 44521.9331292619\n",
       " 50891.60117382547\n",
       " 51365.2936961992\n",
       " 51365.29410172282\n",
       " 54860.025297530716\n",
       " 54860.025385868816\n",
       " 57622.26332838742"
      ]
     },
     "metadata": {},
     "output_type": "display_data"
    }
   ],
   "source": [
    "E.f"
   ]
  },
  {
   "cell_type": "code",
   "execution_count": 10,
   "metadata": {},
   "outputs": [
    {
     "data": {
      "text/plain": [
       "2722×20 Matrix{Float64}:\n",
       " -0.0262208  -0.0156198     0.0507527   …  -0.0330101     0.0424134\n",
       " -0.0262208  -0.000373343  -0.0398815       0.066275      0.0424134\n",
       " -0.0262208   0.0626971    -0.0478183       0.024918      0.0424135\n",
       "  0.0262208   0.0607214    -0.0360735       0.0626387    -0.0424135\n",
       "  0.0262208  -0.0156198     0.0507527      -0.0330102    -0.0424133\n",
       "  0.0262208  -0.000373337  -0.0398816   …   0.066275     -0.0424134\n",
       "  0.0262208   0.0626971    -0.0478183       0.0249175    -0.0424135\n",
       " -0.0262208   0.0607214    -0.0360735       0.0626386     0.0424133\n",
       " -0.0246119  -0.0148641     0.0481489      -0.020002      0.0223355\n",
       " -0.025769   -0.0039977    -0.0217599       0.00341431    0.0353819\n",
       "  ⋮                                     ⋱                \n",
       "  0.0120671  -0.0108752     0.018704        0.00998476    0.00813278\n",
       " -0.0216656   0.00620461   -0.00848237      0.0108646    -0.0127452\n",
       "  0.0133052  -0.00972397    0.0176659   …   0.00246676    0.00687728\n",
       " -0.0226021  -0.0115534     0.0154741       0.00122397    0.00712916\n",
       " -0.0218759  -0.0105212     0.00117618     -0.0176661     0.00669623\n",
       " -0.0229729  -0.0105654     0.0159027       0.000423465   0.00616113\n",
       " -0.0212166  -0.0117471     0.00322146     -0.0172461     0.00518307\n",
       " -0.0222488  -0.0108462     0.0137705   …  -0.00283262    0.00286317\n",
       " -0.0203768  -0.0124872     0.00546123     -0.01604       0.00240163"
      ]
     },
     "metadata": {},
     "output_type": "display_data"
    }
   ],
   "source": [
    "E.ϕ"
   ]
  },
  {
   "cell_type": "code",
   "execution_count": 11,
   "metadata": {},
   "outputs": [
    {
     "data": {
      "text/plain": [
       "1"
      ]
     },
     "metadata": {},
     "output_type": "display_data"
    }
   ],
   "source": [
    "T1 = FEM.showModalResults(problem, E, visible=true)"
   ]
  },
  {
   "cell_type": "code",
   "execution_count": 12,
   "metadata": {},
   "outputs": [
    {
     "name": "stdout",
     "output_type": "stream",
     "text": [
      "-------------------------------------------------------\n",
      "Version       : 4.13.1\n",
      "License       : GNU General Public License\n",
      "Build OS      : Linux64-sdk\n",
      "Build date    : 19700101\n",
      "Build host    : amdci7.julia.csail.mit.edu\n",
      "Build options : 64Bit ALGLIB[contrib] ANN[contrib] Bamg Blossom Cairo DIntegration Dlopen DomHex Eigen[contrib] Fltk GMP Gmm[contrib] Hxt Jpeg Kbipack LinuxJoystick MathEx[contrib] Mesh Metis[contrib] Mmg Mpeg Netgen Nii2mesh ONELAB ONELABMetamodel OpenCASCADE OpenCASCADE-CAF OpenGL OpenMP OptHom Parser Plugins Png Post QuadMeshingTools QuadTri Solver TetGen/BR TinyXML2[contrib] Untangle Voro++[contrib] WinslowUntangler Zlib\n",
      "FLTK version  : 1.3.8\n",
      "OCC version   : 7.7.2\n",
      "Packaged by   : root\n",
      "Web site      : https://gmsh.info\n",
      "Issue tracker : https://gitlab.onelab.info/gmsh/gmsh/issues\n",
      "-------------------------------------------------------\n"
     ]
    },
    {
     "name": "stderr",
     "output_type": "stream",
     "text": [
      "XOpenIM() failed\n",
      "XRequest.18: BadValue 0x0\n"
     ]
    }
   ],
   "source": [
    "gmsh.fltk.run()"
   ]
  },
  {
   "cell_type": "code",
   "execution_count": 13,
   "metadata": {},
   "outputs": [],
   "source": [
    "gmsh.finalize()"
   ]
  }
 ],
 "metadata": {
  "kernelspec": {
   "display_name": "Julia 1.11.1",
   "language": "julia",
   "name": "julia-1.11"
  },
  "language_info": {
   "file_extension": ".jl",
   "mimetype": "application/julia",
   "name": "julia",
   "version": "1.11.1"
  }
 },
 "nbformat": 4,
 "nbformat_minor": 2
}
