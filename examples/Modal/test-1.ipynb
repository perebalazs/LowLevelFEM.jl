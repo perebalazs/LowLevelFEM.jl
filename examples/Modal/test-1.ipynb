{
 "cells": [
  {
   "cell_type": "code",
   "execution_count": 1,
   "metadata": {},
   "outputs": [],
   "source": [
    "import LowLevelFEM as FEM\n",
    "using LowLevelFEM\n",
    "\n",
    "gmsh.initialize()"
   ]
  },
  {
   "cell_type": "code",
   "execution_count": 2,
   "metadata": {},
   "outputs": [
    {
     "name": "stdout",
     "output_type": "stream",
     "text": [
      "Info    : Reading 'test-1.geo'...\n",
      "Info    : Meshing 1D...\n",
      "Info    : [  0%] Meshing curve 1 (Line)\n",
      "Info    : [ 30%] Meshing curve 2 (Line)\n",
      "Info    : [ 60%] Meshing curve 3 (Line)\n",
      "Info    : [ 80%] Meshing curve 4 (Line)\n",
      "Info    : Done meshing 1D (Wall 0.000594442s, CPU 0.000594s)\n",
      "Info    : Meshing 2D...\n",
      "Info    : Meshing surface 1 (Plane, Frontal-Delaunay)\n",
      "Info    : Done meshing 2D (Wall 0.00331932s, CPU 0.003318s)\n",
      "Info    : 32 nodes 66 elements\n",
      "Info    : Done reading 'test-1.geo'\n"
     ]
    }
   ],
   "source": [
    "gmsh.open(\"test-1.geo\")"
   ]
  },
  {
   "cell_type": "code",
   "execution_count": 3,
   "metadata": {},
   "outputs": [],
   "source": [
    "#gmsh.fltk.run()"
   ]
  },
  {
   "cell_type": "code",
   "execution_count": 4,
   "metadata": {},
   "outputs": [
    {
     "name": "stdout",
     "output_type": "stream",
     "text": [
      "Info    : RCMK renumbering...\n",
      "Info    : Done RCMK renumbering (bandwidth is now 4)\n"
     ]
    },
    {
     "data": {
      "text/plain": [
       "LowLevelFEM.Problem(\"test-1\", \"PlaneStress\", 2, 2, LowLevelFEM.Material[LowLevelFEM.Material(\"body\", 200000.0, 0.3, 7.85e-9, 45.0, 4.2e8, 1.2e-5)], 1.0, 32)"
      ]
     },
     "metadata": {},
     "output_type": "display_data"
    }
   ],
   "source": [
    "mat = FEM.material(\"body\", E=2e5, ν=0.3, ρ=7.85e-9)\n",
    "problem = FEM.Problem([mat], type=\"PlaneStress\")"
   ]
  },
  {
   "cell_type": "code",
   "execution_count": 5,
   "metadata": {},
   "outputs": [
    {
     "data": {
      "text/plain": [
       "64×64 SparseArrays.SparseMatrixCSC{Float64, Int64} with 696 stored entries:\n",
       "⎡⣿⣿⠀⠀⣤⠀⠀⠀⠀⠀⠀⠀⠀⠀⠀⠀⠀⠀⠀⠀⠀⠛⣿⠀⠀⠀⠀⠀⠀⠀⠀⠀⎤\n",
       "⎢⠀⠀⣿⣿⠀⠀⠀⠀⠀⠀⠀⠀⠛⣤⠀⠀⠀⠀⠀⠀⠀⠀⠀⠀⠀⠀⠀⣿⠀⠀⠀⠀⎥\n",
       "⎢⠀⠛⠀⠀⣿⣿⣤⠀⠀⠀⠀⠀⠀⠀⠀⠀⠀⠀⠀⠀⣤⠛⠛⠀⠀⠀⠀⠀⣿⠀⠀⣤⎥\n",
       "⎢⠀⠀⠀⠀⠀⠛⣿⣿⣤⠀⠀⠀⠀⠀⠀⠀⠀⠀⠀⠀⠀⠀⠀⣤⠀⣿⠀⠀⠀⠀⠀⠛⎥\n",
       "⎢⠀⠀⠀⠀⠀⠀⠀⠛⣿⣿⣤⠀⠀⠀⠀⠀⠀⠀⠀⠀⠀⠀⠀⠛⣿⠀⣤⠀⠀⠀⠀⠀⎥\n",
       "⎢⠀⠀⠀⠀⠀⠀⠀⠀⠀⠛⣿⣿⣤⠀⣤⠀⠀⠀⠀⠀⠀⠀⠀⠀⠀⠀⠛⠀⠀⣿⣤⠀⎥\n",
       "⎢⠀⠀⠛⣤⠀⠀⠀⠀⠀⠀⠀⠛⣿⣿⣤⠀⠀⠀⠀⠀⠀⠀⠀⠀⠀⠀⠀⣿⠀⠀⣿⠀⎥\n",
       "⎢⠀⠀⠀⠀⠀⠀⠀⠀⠀⠀⠀⠛⠀⠛⣿⣿⣤⠀⠀⠀⠀⠀⠀⠀⠀⠀⣤⠀⠀⣿⠛⠀⎥\n",
       "⎢⠀⠀⠀⠀⠀⠀⠀⠀⠀⠀⠀⠀⠀⠀⠀⠛⣿⣿⣤⠀⠀⠀⠀⣤⣿⠀⠛⠀⠀⠀⠀⠀⎥\n",
       "⎢⠀⠀⠀⠀⠀⠀⠀⠀⠀⠀⠀⠀⠀⠀⠀⠀⠀⠛⣿⣿⣤⠀⠀⠛⠀⣿⠀⠀⠀⠀⠀⣤⎥\n",
       "⎢⣤⠀⠀⠀⣤⠛⠀⠀⠀⠀⠀⠀⠀⠀⠀⠀⠀⠀⠀⠛⣿⣿⣤⠀⠀⠀⠀⠀⣿⠀⠀⠛⎥\n",
       "⎢⠛⠛⠀⠀⠛⠀⠀⣤⣤⠀⠀⠀⠀⠀⠀⠀⠀⣤⣤⠀⠀⠛⠛⣤⣤⣤⠀⠀⠀⠀⠀⠀⎥\n",
       "⎢⠀⠀⠀⠀⠀⠀⣤⣤⠛⠛⠀⠀⠀⠀⠀⠀⠛⠛⣤⣤⠀⠀⠀⣿⠛⣤⠛⠀⠀⠀⠀⣤⎥\n",
       "⎢⠀⠀⣤⣤⠀⠀⠀⠀⠀⠛⠛⠀⣤⣤⠀⠛⠛⠀⠀⠀⠀⠀⠀⠀⠛⠀⠛⣤⠀⠛⠀⠀⎥\n",
       "⎢⠀⠀⠀⠀⠛⠛⠀⠀⠀⠀⣤⣤⠀⠀⣤⣤⠀⠀⠀⠀⠛⠛⠀⠀⠀⠀⣤⠀⠛⣤⠀⠀⎥\n",
       "⎣⠀⠀⠀⠀⠀⣤⣤⠀⠀⠀⠀⠛⠛⠛⠛⠀⠀⠀⠀⣤⣤⠀⠀⠀⠀⣤⠀⠀⠀⠀⠛⣤⎦"
      ]
     },
     "metadata": {},
     "output_type": "display_data"
    }
   ],
   "source": [
    "K = FEM.stiffnessMatrix(problem)"
   ]
  },
  {
   "cell_type": "code",
   "execution_count": 6,
   "metadata": {},
   "outputs": [
    {
     "data": {
      "text/plain": [
       "64×64 SparseArrays.SparseMatrixCSC{Float64, Int64} with 348 stored entries:\n",
       "⎡⢕⢕⠀⠀⢄⠀⠀⠀⠀⠀⠀⠀⠀⠀⠀⠀⠀⠀⠀⠀⠀⠑⢕⠀⠀⠀⠀⠀⠀⠀⠀⠀⎤\n",
       "⎢⠀⠀⢕⢕⠀⠀⠀⠀⠀⠀⠀⠀⠑⢄⠀⠀⠀⠀⠀⠀⠀⠀⠀⠀⠀⠀⠀⢕⠀⠀⠀⠀⎥\n",
       "⎢⠀⠑⠀⠀⢕⢕⢄⠀⠀⠀⠀⠀⠀⠀⠀⠀⠀⠀⠀⠀⢄⠑⠑⠀⠀⠀⠀⠀⢕⠀⠀⢄⎥\n",
       "⎢⠀⠀⠀⠀⠀⠑⢕⢕⢄⠀⠀⠀⠀⠀⠀⠀⠀⠀⠀⠀⠀⠀⠀⢄⠀⢕⠀⠀⠀⠀⠀⠑⎥\n",
       "⎢⠀⠀⠀⠀⠀⠀⠀⠑⢕⢕⢄⠀⠀⠀⠀⠀⠀⠀⠀⠀⠀⠀⠀⠑⢕⠀⢄⠀⠀⠀⠀⠀⎥\n",
       "⎢⠀⠀⠀⠀⠀⠀⠀⠀⠀⠑⢕⢕⢄⠀⢄⠀⠀⠀⠀⠀⠀⠀⠀⠀⠀⠀⠑⠀⠀⢕⢄⠀⎥\n",
       "⎢⠀⠀⠑⢄⠀⠀⠀⠀⠀⠀⠀⠑⢕⢕⢄⠀⠀⠀⠀⠀⠀⠀⠀⠀⠀⠀⠀⢕⠀⠀⢕⠀⎥\n",
       "⎢⠀⠀⠀⠀⠀⠀⠀⠀⠀⠀⠀⠑⠀⠑⢕⢕⢄⠀⠀⠀⠀⠀⠀⠀⠀⠀⢄⠀⠀⢕⠑⠀⎥\n",
       "⎢⠀⠀⠀⠀⠀⠀⠀⠀⠀⠀⠀⠀⠀⠀⠀⠑⢕⢕⢄⠀⠀⠀⠀⢄⢕⠀⠑⠀⠀⠀⠀⠀⎥\n",
       "⎢⠀⠀⠀⠀⠀⠀⠀⠀⠀⠀⠀⠀⠀⠀⠀⠀⠀⠑⢕⢕⢄⠀⠀⠑⠀⢕⠀⠀⠀⠀⠀⢄⎥\n",
       "⎢⢄⠀⠀⠀⢄⠑⠀⠀⠀⠀⠀⠀⠀⠀⠀⠀⠀⠀⠀⠑⢕⢕⢄⠀⠀⠀⠀⠀⢕⠀⠀⠑⎥\n",
       "⎢⠑⠑⠀⠀⠑⠀⠀⢄⢄⠀⠀⠀⠀⠀⠀⠀⠀⢄⢄⠀⠀⠑⠑⢄⢄⢄⠀⠀⠀⠀⠀⠀⎥\n",
       "⎢⠀⠀⠀⠀⠀⠀⢄⢄⠑⠑⠀⠀⠀⠀⠀⠀⠑⠑⢄⢄⠀⠀⠀⢕⠑⢄⠑⠀⠀⠀⠀⢄⎥\n",
       "⎢⠀⠀⢄⢄⠀⠀⠀⠀⠀⠑⠑⠀⢄⢄⠀⠑⠑⠀⠀⠀⠀⠀⠀⠀⠑⠀⠑⢄⠀⠑⠀⠀⎥\n",
       "⎢⠀⠀⠀⠀⠑⠑⠀⠀⠀⠀⢄⢄⠀⠀⢄⢄⠀⠀⠀⠀⠑⠑⠀⠀⠀⠀⢄⠀⠑⢄⠀⠀⎥\n",
       "⎣⠀⠀⠀⠀⠀⢄⢄⠀⠀⠀⠀⠑⠑⠑⠑⠀⠀⠀⠀⢄⢄⠀⠀⠀⠀⢄⠀⠀⠀⠀⠑⢄⎦"
      ]
     },
     "metadata": {},
     "output_type": "display_data"
    }
   ],
   "source": [
    "M = FEM.massMatrix(problem, lumped=false)"
   ]
  },
  {
   "cell_type": "code",
   "execution_count": 7,
   "metadata": {},
   "outputs": [],
   "source": [
    "#using Arpack\n",
    "\n",
    "#fₘᵢₙ = 30000\n",
    "#n = 6\n",
    "#ωₘᵢₙ² = (2π * fₘᵢₙ)^2\n",
    "#ω², ϕ = Arpack.eigs(K, M, nev=n, which=:LR, sigma=ωₘᵢₙ², maxiter=10000)\n",
    "#f = sqrt.(abs.(real.(ω²))) / 2π\n",
    "#f\n",
    "#real(ϕ)"
   ]
  },
  {
   "cell_type": "code",
   "execution_count": 8,
   "metadata": {},
   "outputs": [
    {
     "data": {
      "text/plain": [
       "LowLevelFEM.Modal([694.7614700282653, 1816.4623256774387, 2527.54371864962, 3343.8246889227235, 5083.309407357154, 5317.259438651744, 7696.9250952590255, 7803.445876276317, 10303.878756130582, 10361.989842495603, 12724.972433496156, 13079.380138964727, 15911.074181120406, 16303.993187669854, 17570.473202261375, 18282.926146434358, 18759.021749438816, 19706.26759166372, 20412.083630307465, 21250.593408566354], [-0.3091431443423373 -0.29353771021365466 … 0.06530755574205194 -0.08272297002110979; 0.07153809948988057 0.11406560790532919 … 0.2912925186399355 0.185444641501394; … ; 0.03354725790234628 0.1808763331261369 … 0.10721199932752927 -1.902275141255639e-9; -4.108240175581179e-13 1.5536218957007844e-11 … -1.0256930295307095e-11 0.24989621738229614])"
      ]
     },
     "metadata": {},
     "output_type": "display_data"
    }
   ],
   "source": [
    "E = FEM.solveEigenModes(K, M, n=20, fₘᵢₙ=1)"
   ]
  },
  {
   "cell_type": "code",
   "execution_count": 9,
   "metadata": {},
   "outputs": [
    {
     "data": {
      "text/plain": [
       "20-element Vector{Float64}:\n",
       "   694.7614700282653\n",
       "  1816.4623256774387\n",
       "  2527.54371864962\n",
       "  3343.8246889227235\n",
       "  5083.309407357154\n",
       "  5317.259438651744\n",
       "  7696.9250952590255\n",
       "  7803.445876276317\n",
       " 10303.878756130582\n",
       " 10361.989842495603\n",
       " 12724.972433496156\n",
       " 13079.380138964727\n",
       " 15911.074181120406\n",
       " 16303.993187669854\n",
       " 17570.473202261375\n",
       " 18282.926146434358\n",
       " 18759.021749438816\n",
       " 19706.26759166372\n",
       " 20412.083630307465\n",
       " 21250.593408566354"
      ]
     },
     "metadata": {},
     "output_type": "display_data"
    }
   ],
   "source": [
    "E.f"
   ]
  },
  {
   "cell_type": "code",
   "execution_count": 10,
   "metadata": {},
   "outputs": [
    {
     "data": {
      "text/plain": [
       "64×20 Matrix{Float64}:\n",
       " -0.309143     -0.293538      9.21665e-5   …   0.0653076    -0.082723\n",
       "  0.0715381     0.114066     -0.242252         0.291293      0.185445\n",
       " -0.309143     -0.293538     -9.21665e-5       0.0653076     0.082723\n",
       " -0.0715381    -0.114066     -0.242252        -0.291293      0.185445\n",
       " -0.309143      0.293538     -9.21665e-5       0.0653076    -0.082723\n",
       "  0.0715381    -0.114066      0.242252     …   0.291293      0.185445\n",
       " -0.309143      0.293538      9.21665e-5       0.0653076     0.082723\n",
       " -0.0715381     0.114066      0.242252        -0.291293      0.185445\n",
       " -0.165148     -0.0611455    -0.00356975      -0.0347077     0.0902868\n",
       " -0.0699186    -0.103996     -0.230368        -0.113551     -0.142153\n",
       "  ⋮                                        ⋱                \n",
       "  2.81419e-12  -4.86882e-11   0.239794     …  -1.1312e-10    0.0526836\n",
       " -0.0944174     0.0442926     3.96423e-12     -0.0960339     2.27433e-9\n",
       " -8.39828e-13   3.01954e-11  -0.21633         -2.30522e-10  -0.188155\n",
       "  0.0335473    -0.180876      4.69821e-12      0.107212     -1.21983e-9\n",
       "  1.61642e-12  -4.16285e-11   0.171696        -7.22985e-10   0.249896\n",
       " -0.0944174    -0.0442926     7.99858e-12  …  -0.0960339     8.59485e-10\n",
       "  3.12742e-13  -2.4545e-11    0.21633          5.26042e-10  -0.188155\n",
       "  0.0335473     0.180876      4.81632e-12      0.107212     -1.90228e-9\n",
       " -4.10824e-13   1.55362e-11  -0.171696        -1.02569e-11   0.249896"
      ]
     },
     "metadata": {},
     "output_type": "display_data"
    }
   ],
   "source": [
    "E.ϕ"
   ]
  },
  {
   "cell_type": "code",
   "execution_count": 11,
   "metadata": {},
   "outputs": [
    {
     "data": {
      "text/plain": [
       "1"
      ]
     },
     "metadata": {},
     "output_type": "display_data"
    }
   ],
   "source": [
    "T1 = FEM.showModalResults(problem, E, visible=true)"
   ]
  },
  {
   "cell_type": "code",
   "execution_count": 12,
   "metadata": {},
   "outputs": [
    {
     "name": "stdout",
     "output_type": "stream",
     "text": [
      "-------------------------------------------------------\n",
      "Version       : 4.13.1\n",
      "License       : GNU General Public License\n",
      "Build OS      : Linux64-sdk\n",
      "Build date    : 19700101\n",
      "Build host    : amdci7.julia.csail.mit.edu\n",
      "Build options : 64Bit ALGLIB[contrib] ANN[contrib] Bamg Blossom Cairo DIntegration Dlopen DomHex Eigen[contrib] Fltk GMP Gmm[contrib] Hxt Jpeg Kbipack LinuxJoystick MathEx[contrib] Mesh Metis[contrib] Mmg Mpeg Netgen Nii2mesh ONELAB ONELABMetamodel OpenCASCADE OpenCASCADE-CAF OpenGL OpenMP OptHom Parser Plugins Png Post QuadMeshingTools QuadTri Solver TetGen/BR TinyXML2[contrib] Untangle Voro++[contrib] WinslowUntangler Zlib\n",
      "FLTK version  : 1.3.8\n",
      "OCC version   : 7.7.2\n",
      "Packaged by   : root\n",
      "Web site      : https://gmsh.info\n",
      "Issue tracker : https://gitlab.onelab.info/gmsh/gmsh/issues\n",
      "-------------------------------------------------------\n"
     ]
    },
    {
     "name": "stderr",
     "output_type": "stream",
     "text": [
      "XOpenIM() failed\n",
      "XRequest.18: BadValue 0x0\n"
     ]
    }
   ],
   "source": [
    "gmsh.fltk.run()"
   ]
  },
  {
   "cell_type": "code",
   "execution_count": 13,
   "metadata": {},
   "outputs": [],
   "source": [
    "gmsh.finalize()"
   ]
  }
 ],
 "metadata": {
  "kernelspec": {
   "display_name": "Julia 1.11.1",
   "language": "julia",
   "name": "julia-1.11"
  },
  "language_info": {
   "file_extension": ".jl",
   "mimetype": "application/julia",
   "name": "julia",
   "version": "1.11.1"
  }
 },
 "nbformat": 4,
 "nbformat_minor": 2
}
