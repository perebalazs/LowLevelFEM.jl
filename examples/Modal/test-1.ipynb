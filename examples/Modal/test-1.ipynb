{
 "cells": [
  {
   "cell_type": "code",
   "execution_count": 14,
   "metadata": {},
   "outputs": [],
   "source": [
    "import LowLevelFEM as FEM\n",
    "using LowLevelFEM\n",
    "\n",
    "gmsh.initialize()"
   ]
  },
  {
   "cell_type": "code",
   "execution_count": 15,
   "metadata": {},
   "outputs": [
    {
     "name": "stdout",
     "output_type": "stream",
     "text": [
      "Info    : Reading 'test-1.geo'...\n",
      "Info    : Meshing 1D...\n",
      "Info    : [  0%] Meshing curve 1 (Line)\n",
      "Info    : [ 30%] Meshing curve 2 (Line)\n",
      "Info    : [ 60%] Meshing curve 3 (Line)\n",
      "Info    : [ 80%] Meshing curve 4 (Line)\n",
      "Info    : Done meshing 1D (Wall 0.00514981s, CPU 0.002149s)\n",
      "Info    : Meshing 2D...\n",
      "Info    : Meshing surface 1 (Plane, Frontal-Delaunay)\n",
      "Info    : Done meshing 2D (Wall 8.25414s, CPU 8.17543s)\n",
      "Info    : 116857 nodes 233716 elements\n",
      "Info    : Done reading 'test-1.geo'\n"
     ]
    }
   ],
   "source": [
    "gmsh.open(\"test-1.geo\")"
   ]
  },
  {
   "cell_type": "code",
   "execution_count": 16,
   "metadata": {},
   "outputs": [],
   "source": [
    "#gmsh.fltk.run()"
   ]
  },
  {
   "cell_type": "code",
   "execution_count": 17,
   "metadata": {},
   "outputs": [
    {
     "name": "stdout",
     "output_type": "stream",
     "text": [
      "Info    : RCMK renumbering...\n",
      "Info    : Done RCMK renumbering (bandwidth is now 161)\n"
     ]
    },
    {
     "data": {
      "text/plain": [
       "LowLevelFEM.Problem(\"test-1\", :PlaneStress, 2, 2, LowLevelFEM.Material[LowLevelFEM.Material(\"body\", 200000.0, 0.3, 7.85e-9, 45.0, 4.2e8, 1.2e-5, 115384.61538461536, 76923.07692307692, 166666.66666666666)], 1.0, 116857)"
      ]
     },
     "metadata": {},
     "output_type": "display_data"
    }
   ],
   "source": [
    "mat = FEM.material(\"body\", E=2e5, ν=0.3, ρ=7.85e-9)\n",
    "problem = FEM.Problem([mat], type=:PlaneStress)"
   ]
  },
  {
   "cell_type": "code",
   "execution_count": 18,
   "metadata": {},
   "outputs": [
    {
     "data": {
      "text/plain": [
       "233714×233714 SparseArrays.SparseMatrixCSC{Float64, Int64} with 3254351 stored entries:\n",
       "⎡⠿⣧⡤⠀⠀⠠⠤⠀⠀⠀⠀⠄⢠⣤⣄⢠⡄⠀⣄⣤⠀⠸⢤⢰⣶⡷⣷⣿⣯⣶⣷⣿⣴⣾⣷⣦⣤⣶⣆⡿⎤\n",
       "⎢⠀⠋⣻⣾⡀⣘⢛⠃⠐⠦⠰⡇⢺⣿⣟⣿⣿⠐⡇⢮⠆⠘⣛⢘⠼⡏⣿⣿⣿⣿⣿⣿⣿⣿⣿⣷⣾⣿⣟⠂⎥\n",
       "⎢⠀⡀⣀⢨⡿⣯⣭⡅⠀⡁⢈⡅⢨⣭⣭⣭⣍⠀⡅⢨⠀⣨⣭⢸⢹⡯⣿⣿⣿⣿⣿⣿⣿⣿⣿⣿⣿⣿⣿⡆⎥\n",
       "⎢⠀⠃⠿⠐⠇⠿⠿⣧⡶⠟⠸⠇⠻⣿⡿⢿⢿⠲⠃⢻⠀⠂⢾⢰⣼⣷⣿⣿⣿⣿⣿⣿⣿⣿⣿⣿⣿⣿⡿⠆⎥\n",
       "⎢⠀⠀⠰⡄⠄⠠⣼⠏⢻⣶⣰⡆⢰⣿⣿⢾⡷⠆⡆⢒⡄⠈⠿⢸⣿⡏⣿⣿⣿⣿⣿⣿⣿⣿⣿⣿⣿⡿⠽⠏⎥\n",
       "⎢⠀⠄⠴⠦⠆⠴⠶⠆⠰⠾⠻⣦⡴⣿⠿⠷⠆⠀⠆⠰⠉⠹⠶⠠⠸⣦⣿⣿⣿⣿⣿⣿⣿⣿⣿⣿⣿⠯⠽⠆⎥\n",
       "⎢⠀⣶⣾⣶⡆⣶⣿⣦⣴⣶⣴⣯⣿⣿⣿⣿⣿⣳⡇⣻⡤⣼⣿⢸⣿⣧⣿⣿⣿⣿⣿⣿⣿⣿⣿⣿⣿⣿⣿⣆⎥\n",
       "⎢⠀⣙⣿⣽⡇⣿⣿⣏⣻⣟⢿⡇⣿⣿⣿⣿⣿⣿⣧⣿⣟⣿⣿⢸⣾⣇⣿⣿⣿⣿⣿⣿⣿⣿⣿⣿⣿⣿⣿⣷⎥\n",
       "⎢⠀⠉⢛⠛⠃⠙⢻⡓⠹⠏⠈⠁⢿⣻⣿⣿⣿⣿⡿⣿⡟⣻⢿⢸⣽⡇⣿⣿⣿⣿⣿⣿⣿⣿⣿⣿⣿⣿⣿⡟⎥\n",
       "⎢⠀⣽⡩⣍⡁⣉⣭⣀⢨⢉⢈⡁⣭⣩⣭⣿⣿⣯⣿⣿⣯⣿⣿⢸⣽⣯⣿⣿⣿⣿⣿⣿⣿⣿⣿⣿⣿⣿⣿⣭⎥\n",
       "⎢⣀⡀⣈⠁⡀⣠⠠⠀⡀⠉⣇⡀⣀⣯⣿⣽⣿⣩⣯⣿⡻⣮⣌⢘⣹⡗⣿⣿⣿⣿⣿⣿⣿⣿⣿⣿⣿⣿⣭⣁⎥\n",
       "⎢⢀⣓⣛⢘⣃⣛⢚⣓⣛⣃⠘⡃⣛⣛⣛⣛⣛⣓⣛⣛⣂⢙⣻⣾⣺⡧⣿⣿⣿⣿⣿⣿⣿⣿⣿⣻⣿⣿⢿⣅⎥\n",
       "⎢⢼⡿⡶⠧⡷⡶⢶⣿⡿⠿⠲⣦⠿⣿⠾⢿⠷⠿⡷⣿⢷⠾⠾⡾⠿⣧⣿⣿⣿⣿⣿⣿⣿⣿⣿⣿⣿⣿⣿⣿⎥\n",
       "⎢⣽⣿⣿⣿⣿⣿⣿⣿⣿⣿⣿⣿⣿⣿⣿⣿⣿⣿⣿⣿⣿⣿⣿⣿⣿⣿⣿⣿⣿⣿⣿⣿⣿⣿⣿⣿⣿⣿⣿⣿⎥\n",
       "⎢⢫⣿⣿⣿⣿⣿⣿⣿⣿⣿⣿⣿⣿⣿⣿⣿⣿⣿⣿⣿⣿⣿⣿⣿⣿⣿⣿⣿⣿⣿⣿⣿⣿⣿⣿⣿⣿⣿⣿⣿⎥\n",
       "⎢⣽⣿⣿⣿⣿⣿⣿⣿⣿⣿⣿⣿⣿⣿⣿⣿⣿⣿⣿⣿⣿⣿⣿⣿⣿⣿⣿⣿⣿⣿⣿⣿⣿⣿⣿⣿⣿⣿⣿⣿⎥\n",
       "⎢⣰⣿⣿⣿⣿⣿⣿⣿⣿⣿⣿⣿⣿⣿⣿⣿⣿⣿⣿⣿⣿⣿⣿⣿⣿⣿⣿⣿⣿⣿⣿⣿⣿⣿⣿⣿⣿⣿⣿⣿⎥\n",
       "⎢⠹⣿⢿⣿⣿⣿⣿⣿⣿⣿⣿⣿⣿⣿⣿⣿⣿⣿⣿⣿⣿⣿⣿⣻⣿⣿⣿⣿⣿⣿⣿⣿⣿⣿⣿⣿⣿⣿⣿⣿⎥\n",
       "⎢⢠⣿⣾⣿⣿⣿⣿⣿⣿⡿⡿⡟⣿⣿⣿⣿⣿⣿⣿⣿⣿⣿⣿⣿⣿⣿⣿⣿⣿⣿⣿⣿⣿⣿⣿⣿⣿⣿⣷⢿⎥\n",
       "⎣⣬⡽⠻⠙⠻⠿⠻⠏⡷⠇⠳⠇⠻⢿⢿⣿⣿⠿⡟⣿⠇⢻⠟⢷⣿⣿⣿⣿⣿⣿⣿⣿⣿⣿⣿⣿⣽⣟⠿⣧⎦"
      ]
     },
     "metadata": {},
     "output_type": "display_data"
    }
   ],
   "source": [
    "K = FEM.stiffnessMatrix(problem)"
   ]
  },
  {
   "cell_type": "code",
   "execution_count": 19,
   "metadata": {},
   "outputs": [
    {
     "data": {
      "text/plain": [
       "233714×233714 SparseArrays.SparseMatrixCSC{Float64, Int64} with 1627186 stored entries:\n",
       "⎡⠿⣧⡤⠀⠀⠠⠤⠀⠀⠀⠀⠄⢠⣤⣄⢠⡄⠀⣄⣤⠀⠸⢤⢰⣶⡷⣷⣿⣯⣶⣷⣿⣴⣾⣷⣦⣤⣶⣆⡿⎤\n",
       "⎢⠀⠋⣻⣾⡀⣘⢛⠃⠐⠦⠰⡇⢺⣿⣟⣿⣿⠐⡇⢮⠆⠘⣛⢘⠼⡏⣿⣿⣿⣿⣿⣿⣿⣿⣿⣷⣾⣿⣟⠂⎥\n",
       "⎢⠀⡀⣀⢨⡿⣯⣭⡅⠀⡁⢈⡅⢨⣭⣭⣭⣍⠀⡅⢨⠀⣨⣭⢸⢹⡯⣿⣿⣿⣿⣿⣿⣿⣿⣿⣿⣿⣿⣿⡆⎥\n",
       "⎢⠀⠃⠿⠐⠇⠿⠿⣧⡶⠟⠸⠇⠻⣿⡿⢿⢿⠲⠃⢻⠀⠂⢾⢰⣼⣷⣿⣿⣿⣿⣿⣿⣿⣿⣿⣿⣿⣿⡿⠆⎥\n",
       "⎢⠀⠀⠰⡄⠄⠠⣼⠏⢻⣶⣰⡆⢰⣿⣿⢾⡷⠆⡆⢒⡄⠈⠿⢸⣿⡏⣿⣿⣿⣿⣿⣿⣿⣿⣿⣿⣿⡿⠽⠏⎥\n",
       "⎢⠀⠄⠴⠦⠆⠴⠶⠆⠰⠾⠻⣦⡴⣿⠿⠷⠆⠀⠆⠰⠉⠹⠶⠠⠸⣦⣿⣿⣿⣿⣿⣿⣿⣿⣿⣿⣿⠯⠽⠆⎥\n",
       "⎢⠀⣶⣾⣶⡆⣶⣿⣦⣴⣶⣴⣯⣿⣿⣿⣿⣿⣳⡇⣻⡤⣼⣿⢸⣿⣧⣿⣿⣿⣿⣿⣿⣿⣿⣿⣿⣿⣿⣿⣆⎥\n",
       "⎢⠀⣙⣿⣽⡇⣿⣿⣏⣻⣟⢿⡇⣿⣿⣿⣿⣿⣿⣧⣿⣟⣿⣿⢸⣾⣇⣿⣿⣿⣿⣿⣿⣿⣿⣿⣿⣿⣿⣿⣷⎥\n",
       "⎢⠀⠉⢛⠛⠃⠙⢻⡓⠹⠏⠈⠁⢿⣻⣿⣿⣿⣿⡿⣿⡟⣻⢿⢸⣽⡇⣿⣿⣿⣿⣿⣿⣿⣿⣿⣿⣿⣿⣿⡟⎥\n",
       "⎢⠀⣽⡩⣍⡁⣉⣭⣀⢨⢉⢈⡁⣭⣩⣭⣿⣿⣯⣿⣿⣯⣿⣿⢸⣽⣯⣿⣿⣿⣿⣿⣿⣿⣿⣿⣿⣿⣿⣿⣭⎥\n",
       "⎢⣀⡀⣈⠁⡀⣠⠠⠀⡀⠉⣇⡀⣀⣯⣿⣽⣿⣩⣯⣿⡻⣮⣌⢘⣹⡗⣿⣿⣿⣿⣿⣿⣿⣿⣿⣿⣿⣿⣭⣁⎥\n",
       "⎢⢀⣓⣛⢘⣃⣛⢚⣓⣛⣃⠘⡃⣛⣛⣛⣛⣛⣓⣛⣛⣂⢙⣻⣾⣺⡧⣿⣿⣿⣿⣿⣿⣿⣿⣿⣻⣿⣿⢿⣅⎥\n",
       "⎢⢼⡿⡶⠧⡷⡶⢶⣿⡿⠿⠲⣦⠿⣿⠾⢿⠷⠿⡷⣿⢷⠾⠾⡾⠿⣧⣿⣿⣿⣿⣿⣿⣿⣿⣿⣿⣿⣿⣿⣿⎥\n",
       "⎢⣽⣿⣿⣿⣿⣿⣿⣿⣿⣿⣿⣿⣿⣿⣿⣿⣿⣿⣿⣿⣿⣿⣿⣿⣿⣿⣿⣿⣿⣿⣿⣿⣿⣿⣿⣿⣿⣿⣿⣿⎥\n",
       "⎢⢫⣿⣿⣿⣿⣿⣿⣿⣿⣿⣿⣿⣿⣿⣿⣿⣿⣿⣿⣿⣿⣿⣿⣿⣿⣿⣿⣿⣿⣿⣿⣿⣿⣿⣿⣿⣿⣿⣿⣿⎥\n",
       "⎢⣽⣿⣿⣿⣿⣿⣿⣿⣿⣿⣿⣿⣿⣿⣿⣿⣿⣿⣿⣿⣿⣿⣿⣿⣿⣿⣿⣿⣿⣿⣿⣿⣿⣿⣿⣿⣿⣿⣿⣿⎥\n",
       "⎢⣰⣿⣿⣿⣿⣿⣿⣿⣿⣿⣿⣿⣿⣿⣿⣿⣿⣿⣿⣿⣿⣿⣿⣿⣿⣿⣿⣿⣿⣿⣿⣿⣿⣿⣿⣿⣿⣿⣿⣿⎥\n",
       "⎢⠹⣿⢿⣿⣿⣿⣿⣿⣿⣿⣿⣿⣿⣿⣿⣿⣿⣿⣿⣿⣿⣿⣿⣻⣿⣿⣿⣿⣿⣿⣿⣿⣿⣿⣿⣿⣿⣿⣿⣿⎥\n",
       "⎢⢠⣿⣾⣿⣿⣿⣿⣿⣿⡿⡿⡟⣿⣿⣿⣿⣿⣿⣿⣿⣿⣿⣿⣿⣿⣿⣿⣿⣿⣿⣿⣿⣿⣿⣿⣿⣿⣿⣷⢿⎥\n",
       "⎣⣬⡽⠻⠙⠻⠿⠻⠏⡷⠇⠳⠇⠻⢿⢿⣿⣿⠿⡟⣿⠇⢻⠟⢷⣿⣿⣿⣿⣿⣿⣿⣿⣿⣿⣿⣿⣽⣟⠿⣧⎦"
      ]
     },
     "metadata": {},
     "output_type": "display_data"
    }
   ],
   "source": [
    "M = FEM.massMatrix(problem, lumped=false)"
   ]
  },
  {
   "cell_type": "code",
   "execution_count": 20,
   "metadata": {},
   "outputs": [],
   "source": [
    "#using Arpack\n",
    "\n",
    "#fₘᵢₙ = 30000\n",
    "#n = 6\n",
    "#ωₘᵢₙ² = (2π * fₘᵢₙ)^2\n",
    "#ω², ϕ = Arpack.eigs(K, M, nev=n, which=:LR, sigma=ωₘᵢₙ², maxiter=10000)\n",
    "#f = sqrt.(abs.(real.(ω²))) / 2π\n",
    "#f\n",
    "#real(ϕ)"
   ]
  },
  {
   "cell_type": "code",
   "execution_count": 21,
   "metadata": {},
   "outputs": [
    {
     "data": {
      "text/plain": [
       "LowLevelFEM.Eigen([501.42731066275377, 1306.0711383569894, 2386.3168087255503, 2522.830205010792, 3647.7275800844714, 5025.578666774054, 5039.786960796987, 6474.840768896953, 7543.798207393378, 7965.1386629950275, 9474.932528774676, 10024.889681258926, 10987.097463805972, 12467.148221461279, 12483.770850100404, 13937.102667170917, 14842.693104440074, 15253.953223919145, 15959.766012303417, 16196.383868036983], [0.005693706836402634 -0.005473386761667853 … -0.0018007643704732335 -0.0014795315627974843; -0.001297402427856757 0.002063542447980471 … 0.0017337972691747303 -0.004235334020748073; … ; 0.0008713375928463218 0.0018671539554804442 … -0.00022662154903779335 -0.0022711765254117; -0.001144133526866418 0.0013288221143150278 … -0.0017435678207055895 -0.0040519431753526566])"
      ]
     },
     "metadata": {},
     "output_type": "display_data"
    }
   ],
   "source": [
    "E = FEM.solveEigenModes(K, M, n=20, fₘᵢₙ=1)"
   ]
  },
  {
   "cell_type": "code",
   "execution_count": 22,
   "metadata": {},
   "outputs": [
    {
     "data": {
      "text/plain": [
       "20-element Vector{Float64}:\n",
       "   501.42731066275377\n",
       "  1306.0711383569894\n",
       "  2386.3168087255503\n",
       "  2522.830205010792\n",
       "  3647.7275800844714\n",
       "  5025.578666774054\n",
       "  5039.786960796987\n",
       "  6474.840768896953\n",
       "  7543.798207393378\n",
       "  7965.1386629950275\n",
       "  9474.932528774676\n",
       " 10024.889681258926\n",
       " 10987.097463805972\n",
       " 12467.148221461279\n",
       " 12483.770850100404\n",
       " 13937.102667170917\n",
       " 14842.693104440074\n",
       " 15253.953223919145\n",
       " 15959.766012303417\n",
       " 16196.383868036983"
      ]
     },
     "metadata": {},
     "output_type": "display_data"
    }
   ],
   "source": [
    "E.f"
   ]
  },
  {
   "cell_type": "code",
   "execution_count": 23,
   "metadata": {},
   "outputs": [
    {
     "data": {
      "text/plain": [
       "233714×20 Matrix{Float64}:\n",
       "  0.00569371   -0.00547339    0.00523223   …  -0.00180076   -0.00147953\n",
       " -0.0012974     0.00206354   -0.00267659       0.0017338    -0.00423533\n",
       "  0.00569371   -0.00547339    0.00523223      -0.00180077   -0.00147954\n",
       "  0.0012974    -0.00206354    0.00267659      -0.00173381    0.00423533\n",
       "  0.00569371    0.00547339    0.00523223       0.00180075   -0.00147939\n",
       " -0.0012974    -0.00206354   -0.00267659   …  -0.00173377   -0.00423547\n",
       "  0.00569371    0.00547339    0.00523223       0.00180076   -0.00147938\n",
       "  0.0012974     0.00206354    0.00267659       0.00173378    0.00423548\n",
       "  0.00569371   -0.00547338    0.0052322       -0.00180031   -0.00147933\n",
       " -0.0012714     0.00202196   -0.0026221        0.00168687   -0.0041794\n",
       "  ⋮                                        ⋱                \n",
       " -0.00114872   -0.00135232   -0.000788447  …   0.00168354   -0.00422473\n",
       "  0.00272237    0.000721595  -0.000921034      0.00105588    0.00216046\n",
       " -0.00123282   -0.00181969   -0.00201365       0.00210937   -0.00435008\n",
       " -0.00277075    0.00306135    0.00113636       0.00115673    0.0003769\n",
       "  0.000546315   0.000742499  -0.00162541       0.0052253     0.000623415\n",
       " -0.000902608   0.00349233   -0.00307087   …  -0.000642073   0.00256668\n",
       "  0.000961912  -0.000508071  -0.000832051      0.00479697    0.00377111\n",
       "  0.000871338   0.00186715   -0.0033275       -0.000226622  -0.00227118\n",
       " -0.00114413    0.00132882   -0.000733423     -0.00174357   -0.00405194"
      ]
     },
     "metadata": {},
     "output_type": "display_data"
    }
   ],
   "source": [
    "E.ϕ"
   ]
  },
  {
   "cell_type": "code",
   "execution_count": 24,
   "metadata": {},
   "outputs": [
    {
     "data": {
      "text/plain": [
       "0"
      ]
     },
     "metadata": {},
     "output_type": "display_data"
    }
   ],
   "source": [
    "T1 = FEM.showModalResults(problem, E, visible=true)"
   ]
  },
  {
   "cell_type": "code",
   "execution_count": 25,
   "metadata": {},
   "outputs": [
    {
     "name": "stdout",
     "output_type": "stream",
     "text": [
      "-------------------------------------------------------\n",
      "Version       : 4.13.1\n",
      "License       : GNU General Public License\n",
      "Build OS      : Linux64-sdk\n",
      "Build date    : 19700101\n",
      "Build host    : amdci7.julia.csail.mit.edu\n",
      "Build options : 64Bit ALGLIB[contrib] ANN[contrib] Bamg Blossom Cairo DIntegration Dlopen DomHex Eigen[contrib] Fltk GMP Gmm[contrib] Hxt Jpeg Kbipack LinuxJoystick MathEx[contrib] Mesh Metis[contrib] Mmg Mpeg Netgen Nii2mesh ONELAB ONELABMetamodel OpenCASCADE OpenCASCADE-CAF OpenGL OpenMP OptHom Parser Plugins Png Post QuadMeshingTools QuadTri Solver TetGen/BR TinyXML2[contrib] Untangle Voro++[contrib] WinslowUntangler Zlib\n",
      "FLTK version  : 1.3.8\n",
      "OCC version   : 7.7.2\n",
      "Packaged by   : root\n",
      "Web site      : https://gmsh.info\n",
      "Issue tracker : https://gitlab.onelab.info/gmsh/gmsh/issues\n",
      "-------------------------------------------------------\n"
     ]
    },
    {
     "name": "stderr",
     "output_type": "stream",
     "text": [
      "XRequest.18: BadValue 0x0\n"
     ]
    }
   ],
   "source": [
    "gmsh.fltk.run()"
   ]
  },
  {
   "cell_type": "code",
   "execution_count": 26,
   "metadata": {},
   "outputs": [],
   "source": [
    "gmsh.finalize()"
   ]
  }
 ],
 "metadata": {
  "kernelspec": {
   "display_name": "Julia 1.11.5",
   "language": "julia",
   "name": "julia-1.11"
  },
  "language_info": {
   "file_extension": ".jl",
   "mimetype": "application/julia",
   "name": "julia",
   "version": "1.11.5"
  }
 },
 "nbformat": 4,
 "nbformat_minor": 2
}
