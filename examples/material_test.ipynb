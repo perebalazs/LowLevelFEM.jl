{
 "cells": [
  {
   "cell_type": "code",
   "execution_count": 18,
   "metadata": {},
   "outputs": [],
   "source": [
    "import LowLevelFEM as FEM\n",
    "using LowLevelFEM\n",
    "\n",
    "gmsh.initialize()"
   ]
  },
  {
   "cell_type": "code",
   "execution_count": 19,
   "metadata": {},
   "outputs": [
    {
     "name": "stdout",
     "output_type": "stream",
     "text": [
      "Info    : Reading 'material_test.geo'...\n",
      "Info    : Meshing 1D...\n",
      "Info    : [  0%] Meshing curve 1 (Line)\n",
      "Info    : [ 10%] Meshing curve 2 (Line)\n",
      "Info    : [ 10%] Meshing curve 3 (Line)\n",
      "Info    : [ 20%] Meshing curve 4 (Line)\n",
      "Info    : [ 20%] Meshing curve 5 (Line)\n",
      "Info    : [ 20%] Meshing curve 6 (Line)\n",
      "Info    : [ 30%] Meshing curve 7 (Line)\n",
      "Info    : [ 30%] Meshing curve 8 (Line)\n",
      "Info    : [ 30%] Meshing curve 9 (Line)\n",
      "Info    : [ 40%] Meshing curve 10 (Line)\n",
      "Info    : [ 40%] Meshing curve 11 (Line)\n",
      "Info    : [ 40%] Meshing curve 12 (Line)\n",
      "Info    : [ 50%] Meshing curve 13 (Line)\n",
      "Info    : [ 50%] Meshing curve 14 (Line)\n",
      "Info    : [ 50%] Meshing curve 15 (Line)\n",
      "Info    : [ 60%] Meshing curve 16 (Line)\n",
      "Info    : [ 60%] Meshing curve 17 (Line)\n",
      "Info    : [ 70%] Meshing curve 18 (Line)\n",
      "Info    : [ 70%] Meshing curve 19 (Line)\n",
      "Info    : [ 70%] Meshing curve 20 (Line)\n",
      "Info    : [ 80%] Meshing curve 21 (Line)\n",
      "Info    : [ 80%] Meshing curve 22 (Line)\n",
      "Info    : [ 80%] Meshing curve 23 (Line)\n",
      "Info    : [ 90%] Meshing curve 24 (Line)\n",
      "Info    : [ 90%] Meshing curve 25 (Line)\n",
      "Info    : [ 90%] Meshing curve 26 (Line)\n",
      "Info    : [100%] Meshing curve 27 (Line)\n",
      "Info    : [100%] Meshing curve 28 (Line)\n",
      "Info    : Done meshing 1D (Wall 0.00896084s, CPU 0.008962s)\n",
      "Info    : Meshing 2D...\n",
      "Info    : [  0%] Meshing surface 1 (Plane, Frontal-Delaunay)\n",
      "Info    : [ 10%] Meshing surface 2 (Plane, Frontal-Delaunay)\n",
      "Info    : [ 20%] Meshing surface 3 (Plane, Frontal-Delaunay)\n",
      "Info    : [ 20%] Meshing surface 4 (Plane, Frontal-Delaunay)\n",
      "Info    : [ 30%] Meshing surface 5 (Plane, Frontal-Delaunay)\n",
      "Info    : [ 40%] Meshing surface 6 (Plane, Frontal-Delaunay)\n",
      "Info    : [ 40%] Meshing surface 7 (Plane, Frontal-Delaunay)\n",
      "Info    : [ 50%] Meshing surface 8 (Plane, Frontal-Delaunay)\n",
      "Info    : [ 50%] Meshing surface 9 (Plane, Frontal-Delaunay)\n",
      "Info    : [ 60%] Meshing surface 10 (Plane, Frontal-Delaunay)\n",
      "Info    : [ 70%] Meshing surface 11 (Plane, Frontal-Delaunay)\n",
      "Info    : [ 70%] Meshing surface 12 (Plane, Frontal-Delaunay)\n",
      "Info    : [ 80%] Meshing surface 13 (Plane, Frontal-Delaunay)\n",
      "Info    : [ 90%] Meshing surface 14 (Plane, Frontal-Delaunay)\n",
      "Info    : [ 90%] Meshing surface 15 (Plane, Frontal-Delaunay)\n",
      "Info    : [100%] Meshing surface 16 (Plane, Frontal-Delaunay)\n",
      "Info    : Done meshing 2D (Wall 0.0772759s, CPU 0.075548s)\n",
      "Info    : Meshing 3D...\n",
      "Info    : 3D Meshing 3 volumes with 1 connected component\n",
      "Info    : Tetrahedrizing 336 nodes...\n",
      "Info    : Done tetrahedrizing 344 nodes (Wall 0.0113603s, CPU 0.010401s)\n",
      "Info    : Reconstructing mesh...\n",
      "Info    :  - Creating surface mesh\n",
      "Info    :  - Identifying boundary edges\n",
      "Info    :  - Recovering boundary\n",
      "Info    : Done reconstructing mesh (Wall 0.022197s, CPU 0.021235s)\n",
      "Info    : Found volume 1\n",
      "Info    : Found volume 2\n",
      "Info    : Found volume 3\n",
      "Info    : It. 0 - 0 nodes created - worst tet radius 1.85474 (nodes removed 0 0)\n",
      "Info    : 3D refinement terminated (363 nodes total):\n",
      "Info    :  - 0 Delaunay cavities modified for star shapeness\n",
      "Info    :  - 0 nodes could not be inserted\n",
      "Info    :  - 1153 tetrahedra created in 0.00888804 sec. (129724 tets/s)\n",
      "Info    : 0 node relocations\n",
      "Info    : Done meshing 3D (Wall 0.0642539s, CPU 0.063125s)\n",
      "Info    : Optimizing mesh...\n",
      "Info    : Optimizing volume 1\n",
      "Info    : Optimization starts (volume = 1e+06) with worst = 0.0448069 / average = 0.745741:\n",
      "Info    : 0.00 < quality < 0.10 :         2 elements\n",
      "Info    : 0.10 < quality < 0.20 :         2 elements\n",
      "Info    : 0.20 < quality < 0.30 :         1 elements\n",
      "Info    : 0.30 < quality < 0.40 :         1 elements\n",
      "Info    : 0.40 < quality < 0.50 :        14 elements\n",
      "Info    : 0.50 < quality < 0.60 :        26 elements\n",
      "Info    : 0.60 < quality < 0.70 :        84 elements\n",
      "Info    : 0.70 < quality < 0.80 :       120 elements\n",
      "Info    : 0.80 < quality < 0.90 :        94 elements\n",
      "Info    : 0.90 < quality < 1.00 :        45 elements\n",
      "Info    : 5 edge swaps, 0 node relocations (volume = 1e+06): worst = 0.326683 / average = 0.754506 (Wall 0.000379292s, CPU 0.00038s)\n",
      "Info    : No ill-shaped tets in the mesh :-)\n",
      "Info    : 0.00 < quality < 0.10 :         0 elements\n",
      "Info    : 0.10 < quality < 0.20 :         0 elements\n",
      "Info    : 0.20 < quality < 0.30 :         0 elements\n",
      "Info    : 0.30 < quality < 0.40 :         1 elements\n",
      "Info    : 0.40 < quality < 0.50 :        14 elements\n",
      "Info    : 0.50 < quality < 0.60 :        27 elements\n",
      "Info    : 0.60 < quality < 0.70 :        81 elements\n",
      "Info    : 0.70 < quality < 0.80 :       119 elements\n",
      "Info    : 0.80 < quality < 0.90 :        96 elements\n",
      "Info    : 0.90 < quality < 1.00 :        46 elements\n",
      "Info    : Optimizing volume 2\n",
      "Info    : Optimization starts (volume = 1e+06) with worst = 0.0166325 / average = 0.752183:\n",
      "Info    : 0.00 < quality < 0.10 :         2 elements\n",
      "Info    : 0.10 < quality < 0.20 :         7 elements\n",
      "Info    : 0.20 < quality < 0.30 :         1 elements\n",
      "Info    : 0.30 < quality < 0.40 :         0 elements\n",
      "Info    : 0.40 < quality < 0.50 :         5 elements\n",
      "Info    : 0.50 < quality < 0.60 :        15 elements\n",
      "Info    : 0.60 < quality < 0.70 :        91 elements\n",
      "Info    : 0.70 < quality < 0.80 :       116 elements\n",
      "Info    : 0.80 < quality < 0.90 :        95 elements\n",
      "Info    : 0.90 < quality < 1.00 :        47 elements\n",
      "Info    : 10 edge swaps, 2 node relocations (volume = 1e+06): worst = 0.278017 / average = 0.769139 (Wall 0.000734301s, CPU 0.000736s)\n",
      "Info    : 11 edge swaps, 2 node relocations (volume = 1e+06): worst = 0.434105 / average = 0.77089 (Wall 0.000924088s, CPU 0.000927s)\n",
      "Info    : No ill-shaped tets in the mesh :-)\n",
      "Info    : 0.00 < quality < 0.10 :         0 elements\n",
      "Info    : 0.10 < quality < 0.20 :         0 elements\n",
      "Info    : 0.20 < quality < 0.30 :         0 elements\n",
      "Info    : 0.30 < quality < 0.40 :         0 elements\n",
      "Info    : 0.40 < quality < 0.50 :         3 elements\n",
      "Info    : 0.50 < quality < 0.60 :        15 elements\n",
      "Info    : 0.60 < quality < 0.70 :        91 elements\n",
      "Info    : 0.70 < quality < 0.80 :       111 elements\n",
      "Info    : 0.80 < quality < 0.90 :       100 elements\n",
      "Info    : 0.90 < quality < 1.00 :        49 elements\n",
      "Info    : Optimizing volume 3\n",
      "Info    : Optimization starts (volume = 1e+06) with worst = 0.0449929 / average = 0.752958:\n",
      "Info    : 0.00 < quality < 0.10 :         4 elements\n",
      "Info    : 0.10 < quality < 0.20 :         2 elements\n",
      "Info    : 0.20 < quality < 0.30 :         1 elements\n",
      "Info    : 0.30 < quality < 0.40 :         2 elements\n",
      "Info    : 0.40 < quality < 0.50 :         9 elements\n",
      "Info    : 0.50 < quality < 0.60 :        15 elements\n",
      "Info    : 0.60 < quality < 0.70 :        95 elements\n",
      "Info    : 0.70 < quality < 0.80 :       108 elements\n",
      "Info    : 0.80 < quality < 0.90 :       103 elements\n",
      "Info    : 0.90 < quality < 1.00 :        44 elements\n",
      "Info    : 7 edge swaps, 0 node relocations (volume = 1e+06): worst = 0.369853 / average = 0.76605 (Wall 0.000541956s, CPU 0.000538s)\n",
      "Info    : No ill-shaped tets in the mesh :-)\n",
      "Info    : 0.00 < quality < 0.10 :         0 elements\n",
      "Info    : 0.10 < quality < 0.20 :         0 elements\n",
      "Info    : 0.20 < quality < 0.30 :         0 elements\n",
      "Info    : 0.30 < quality < 0.40 :         2 elements\n",
      "Info    : 0.40 < quality < 0.50 :         9 elements\n",
      "Info    : 0.50 < quality < 0.60 :        15 elements\n",
      "Info    : 0.60 < quality < 0.70 :        92 elements\n",
      "Info    : 0.70 < quality < 0.80 :       108 elements\n",
      "Info    : 0.80 < quality < 0.90 :       105 elements\n",
      "Info    : 0.90 < quality < 1.00 :        45 elements\n",
      "Info    : Done optimizing mesh (Wall 0.00571039s, CPU 0.005707s)\n",
      "Info    : 363 nodes 1955 elements\n",
      "Info    : Done reading 'material_test.geo'\n"
     ]
    }
   ],
   "source": [
    "gmsh.open(\"material_test.geo\")"
   ]
  },
  {
   "cell_type": "code",
   "execution_count": 20,
   "metadata": {},
   "outputs": [
    {
     "name": "stdout",
     "output_type": "stream",
     "text": [
      "Info    : RCMK renumbering...\n",
      "Info    : Done RCMK renumbering (bandwidth is now 71)\n",
      "Info    : Mapping does not contain a node tag (13) - incrementing after last provided tag (252)\n"
     ]
    },
    {
     "data": {
      "text/plain": [
       "LowLevelFEM.Problem(\"mat_test\", \"Solid\", 3, [(\"mat1\", 200000.0, 0.3, 7.85e-9), (\"mat2\", 100000.0, 0.4, 7.85e-9)], 1.0, 252)"
      ]
     },
     "metadata": {},
     "output_type": "display_data"
    }
   ],
   "source": [
    "mat1 = FEM.material(\"mat1\", E=2.e5, ν=0.3)\n",
    "mat2 = FEM.material(\"mat2\", E=1.e5, ν=0.4)\n",
    "#mat3 = FEM.material(\"mat3\", E=3.e5, ν=0.4)\n",
    "problem = FEM.Problem([mat1, mat2], bandwidth=\"none\")"
   ]
  },
  {
   "cell_type": "code",
   "execution_count": 21,
   "metadata": {},
   "outputs": [],
   "source": [
    "#gmsh.fltk.run()"
   ]
  },
  {
   "cell_type": "code",
   "execution_count": 22,
   "metadata": {},
   "outputs": [],
   "source": [
    "# Néhány láthatósági beállítás 0:kikapcs. 1:bekapcs.\n",
    "gmsh.option.setNumber(\"Geometry.CurveLabels\", 0)\n",
    "gmsh.option.setNumber(\"Geometry.Points\", 0)\n",
    "gmsh.option.setNumber(\"Geometry.Curves\", 0)\n",
    "gmsh.option.setNumber(\"Mesh.Points\", 0)\n",
    "gmsh.option.setNumber(\"Mesh.Lines\", 0)\n",
    "gmsh.option.setNumber(\"Mesh.SurfaceEdges\", 0)\n",
    "gmsh.option.setNumber(\"Mesh.NodeLabels\", 0)\n",
    "gmsh.option.setNumber(\"Mesh.LineLabels\", 0)\n",
    "gmsh.option.setNumber(\"Mesh.SurfaceLabels\", 0)"
   ]
  },
  {
   "cell_type": "code",
   "execution_count": 23,
   "metadata": {},
   "outputs": [
    {
     "data": {
      "text/plain": [
       "756×756 SparseArrays.SparseMatrixCSC{Float64, Int64} with 24263 stored entries:\n",
       "⎡⠛⢄⡛⠚⠦⠾⠳⢦⣀⣐⣤⡄⠀⠛⠀⠴⠄⠰⠟⠀⠶⠀⠰⠃⠠⠇⠀⣀⠀⢴⡀⢠⡄⠀⣆⠀⢤⠀⠀⠀⎤\n",
       "⎢⣻⠈⠻⢆⠀⠀⠀⠀⠈⠈⠈⠹⣞⣯⠀⠀⠀⠙⠫⠠⢤⡀⣀⡒⠶⠆⠀⠈⠀⠀⠀⠈⠁⠀⠈⠀⠀⠀⠀⠀⎥\n",
       "⎢⣨⡇⠀⠀⠻⣦⡀⠀⠀⠀⠀⠀⠀⠈⢧⣿⡎⠈⣱⠄⠦⣄⣠⡘⠘⠂⠀⠀⠁⠉⠆⠤⢦⢀⡜⠓⠓⠀⠀⠀⎥\n",
       "⎢⠹⣆⠀⠀⠀⠈⠻⣦⡀⠀⠀⠀⠀⠀⠀⠀⠛⠛⢫⣶⣔⠾⠿⡅⡞⣅⡀⢀⣀⢀⡀⠀⠀⠀⠀⠀⠀⠀⠆⠀⎥\n",
       "⎢⢀⢸⡂⠀⠀⠀⠀⠈⠻⣦⡀⠀⠀⠀⠀⠀⠀⠀⠀⠀⠀⠀⠀⠀⠀⢸⡿⢷⢉⣈⡲⠐⢦⣠⣼⠘⠘⠀⠀⡀⎥\n",
       "⎢⠀⠿⣆⡀⠀⠀⠀⠀⠀⠈⠻⢆⣀⣀⠀⠀⠀⣀⢀⠀⢀⠀⠀⣀⠀⡀⠀⠘⠈⠙⠡⠶⠎⠇⠻⠧⢹⣀⡀⠀⎥\n",
       "⎢⣤⠀⡾⣽⡀⠀⠀⠀⠀⠀⠀⢸⣿⣿⡀⣀⣀⢲⣬⠨⢼⠇⢗⡏⠭⠄⠀⠀⡀⢀⠀⠀⠀⠀⠀⠀⢘⣿⡇⢀⎥\n",
       "⎢⢀⡄⠀⠀⣭⣷⠀⠀⠀⠀⠀⠀⠀⢨⣿⣿⣯⢨⡜⠂⣓⠶⢠⢈⢨⡀⠀⠀⡅⣬⠃⣂⠱⠰⡌⠉⣍⣿⣿⣿⎥\n",
       "⎢⢀⡁⣄⠀⡊⠉⣿⠀⠀⠀⠀⢠⢠⣘⡋⣛⣿⣿⣏⠀⠁⠨⢩⠀⣼⠃⠀⠀⠀⠀⠀⠀⠁⠀⠁⠀⠐⣿⡏⠉⎥\n",
       "⎢⠛⠁⠋⡂⠑⠞⢫⣶⠀⠀⠀⠐⡂⡛⠲⠉⠋⠙⢻⣶⣶⣠⣇⠇⡏⠇⠀⠀⠀⠀⠀⠀⠀⠀⠀⠀⠠⢽⡇⠀⎥\n",
       "⎢⠘⠃⠀⠳⠈⢧⣰⡝⠀⠀⠀⠐⠶⠗⢹⡜⡁⡀⠘⣻⡻⣮⣿⡆⠃⠃⠀⠀⠀⠀⠀⠀⠀⠀⠀⠀⢐⣾⡇⠀⎥\n",
       "⎢⠴⠂⢠⠸⣀⠺⠟⠧⠀⠀⠀⢠⡽⠵⡀⢒⠃⠒⠭⠝⠻⠿⠟⣥⣤⣤⠀⠀⠀⠀⠀⠀⠀⠀⠀⠀⠀⣯⠇⠀⎥\n",
       "⎢⠤⠆⠸⠇⠲⠀⠞⢭⣀⣀⠀⠠⠃⠇⠂⠲⠶⠛⠯⠍⠭⠀⠀⣿⣿⢟⣀⣀⡀⢀⣀⠀⣀⠀⠀⠀⠀⣿⢀⣀⎥\n",
       "⎢⠀⢠⡀⠀⠀⠀⠀⢈⢿⣏⣀⠀⠀⠀⠀⠀⠀⠀⠀⠀⠀⠀⠀⠀⠀⢸⣿⣿⢩⣠⡶⢰⣞⠐⣲⡘⢨⠀⢻⣿⎥\n",
       "⎢⢀⣄⠀⠀⡅⠀⠀⢘⡃⢰⣆⠀⠀⢈⡁⣭⠀⠀⠀⠀⠀⠀⠀⠀⠀⢈⠃⣲⣿⣿⡇⠀⠠⢔⣤⠆⣆⠀⠂⣟⎥\n",
       "⎢⠀⣈⡀⠀⠈⡅⠀⠈⢘⠊⢡⡆⠀⠀⠩⢠⠀⠀⠀⠀⠀⠀⠀⠀⠀⠘⢘⣋⠉⠉⣿⣿⣿⡄⣍⠦⢐⠀⢹⣿⎥\n",
       "⎢⠀⠉⠁⠀⠈⢓⠀⠀⠈⣳⠮⠅⠀⠀⢑⡂⠁⠀⠀⠀⠀⠀⠀⠀⠀⠘⢚⠙⢀⢆⠛⠿⢿⣷⣿⠉⠈⠀⢼⣿⎥\n",
       "⎢⠈⠙⠂⠀⢶⠉⠀⠀⣒⠛⠿⡆⠀⠀⡆⠉⠁⠀⠀⠀⠀⠀⠀⠀⠀⠀⣘⠺⠠⠟⠣⡝⡟⠛⢻⣶⣶⠀⢸⡟⎥\n",
       "⎢⠀⠓⠀⠀⠙⠀⠀⠀⠒⠀⠓⢲⣶⣴⣧⣽⣴⣤⣄⣆⣰⣴⡤⣤⣤⣤⠂⠒⠈⠙⠐⠐⠂⠀⠘⠛⢱⣶⡖⠃⎥\n",
       "⎣⠀⠀⠀⠀⠀⠀⠈⠁⠀⠠⠀⠈⠉⢉⣿⣿⡏⠉⠉⠉⠉⠉⠉⠁⠀⢰⣿⣶⣬⢤⣷⣶⣶⣷⣶⠶⠼⠉⣿⣿⎦"
      ]
     },
     "metadata": {},
     "output_type": "display_data"
    }
   ],
   "source": [
    "K = FEM.stiffnessMatrix(problem)"
   ]
  },
  {
   "cell_type": "code",
   "execution_count": 24,
   "metadata": {},
   "outputs": [
    {
     "data": {
      "text/plain": [
       "(\"load\", 0, -1, 0)"
      ]
     },
     "metadata": {},
     "output_type": "display_data"
    }
   ],
   "source": [
    "supp = FEM.displacementConstraint(\"supp\", ux=0, uy=0, uz=0)\n",
    "load = FEM.load(\"load\", fy=-1)"
   ]
  },
  {
   "cell_type": "code",
   "execution_count": 25,
   "metadata": {},
   "outputs": [
    {
     "data": {
      "text/plain": [
       "756-element Vector{Float64}:\n",
       " 0.0\n",
       " 0.0\n",
       " 0.0\n",
       " 0.0\n",
       " 0.0\n",
       " 0.0\n",
       " 0.0\n",
       " 0.0\n",
       " 0.0\n",
       " 0.0\n",
       " ⋮\n",
       " 0.0\n",
       " 0.0\n",
       " 0.0\n",
       " 0.0\n",
       " 0.0\n",
       " 0.0\n",
       " 0.0\n",
       " 0.0\n",
       " 0.0"
      ]
     },
     "metadata": {},
     "output_type": "display_data"
    }
   ],
   "source": [
    "f = FEM.loadVector(problem, [load])"
   ]
  },
  {
   "cell_type": "code",
   "execution_count": 26,
   "metadata": {},
   "outputs": [],
   "source": [
    "FEM.applyBoundaryConditions!(problem, K, f, [supp])"
   ]
  },
  {
   "cell_type": "code",
   "execution_count": 27,
   "metadata": {},
   "outputs": [
    {
     "data": {
      "text/plain": [
       "756-element Vector{Float64}:\n",
       "  0.0\n",
       "  0.0\n",
       "  0.0\n",
       "  0.0\n",
       "  0.0\n",
       "  0.0\n",
       "  0.0\n",
       "  0.0\n",
       "  0.0\n",
       "  0.0\n",
       "  ⋮\n",
       " -0.00096609189570633\n",
       " -0.005710035211328074\n",
       "  0.0007487852236607946\n",
       "  0.0009905915050077527\n",
       " -0.010600193274809886\n",
       " -0.0011192646750056384\n",
       " -0.0013473559533593226\n",
       " -0.0072369915718370394\n",
       "  0.0009151233198650791"
      ]
     },
     "metadata": {},
     "output_type": "display_data"
    }
   ],
   "source": [
    "q = FEM.solveDisplacement(K, f)"
   ]
  },
  {
   "cell_type": "code",
   "execution_count": 28,
   "metadata": {},
   "outputs": [
    {
     "data": {
      "text/plain": [
       "LowLevelFEM.StressField([[2.4327508270242237; -2.314717804118521; … ; -0.21284929886420362; 0.6289944331760876;;], [0.03984349034753565; -1.0038837678140595; … ; -0.7338208225633323; -0.7629223035630746;;], [1.1391954840076617; -2.083822193473636; … ; 0.21044530395015984; -0.030507151370116226;;], [1.8957600109823365; -1.637244460361479; … ; -0.33761936280413885; -0.3052399922876503;;], [-2.3264848889787; -1.2037149552198843; … ; 0.6256365714289175; -1.7701519857469372;;], [0.807638769900975; -0.6595576772960938; … ; 0.32336699417801906; 1.0255774401537805;;], [-0.3025336360062356; -1.108550181745905; … ; 0.5537346540236349; -0.19970910000814862;;], [3.151490940807425; -0.9602457249900743; … ; 0.44876591468772575; 0.5612913115982987;;], [2.03126221711917; -0.1721068575886304; … ; -0.0937538058983268; 0.5008054361444478;;], [2.213218403853112; -1.875813141828786; … ; 0.0029008848876642215; 0.31773587456982194;;]  …  [-0.7787161145753556; -0.06983108622460477; … ; 0.18333086183569686; -0.49128741083541816;;], [-0.14205077703116414; -0.10149484595054532; … ; 0.03505404452911037; -0.07887375719124395;;], [-0.0028357362702133015; -0.39122701285515155; … ; 0.8699288524390657; 0.09377255228253849;;], [0.02279689592423534; -0.4081093099554714; … ; 0.8714775092344785; 0.05062051451080091;;], [0.01681813659547858; -0.0018398449117503263; … ; 0.054858425396573346; 0.08240021743133885;;], [0.004759493398110534; -0.04149447900689024; … ; -0.019066230962044475; -0.032365495769630846;;], [0.4422097794446146; -0.6095686248523707; … ; 0.44839253291002995; -0.6171382960893127;;], [0.2941374558337101; -0.2623885030141985; … ; 0.13204343735649032; -0.11837968545225075;;], [0.7019719779384312; -0.5468900159349135; … ; 0.08684336497978085; 0.36330184953978817;;], [-0.03543514667145953; -0.562377353827892; … ; 0.3617860109891465; -0.4007655818783642;;]], [87, 88, 89, 90, 91, 92, 93, 94, 95, 96  …  831, 832, 833, 834, 835, 836, 837, 838, 839, 840], 1)"
      ]
     },
     "metadata": {},
     "output_type": "display_data"
    }
   ],
   "source": [
    "S = FEM.solveStress(problem, q)"
   ]
  },
  {
   "cell_type": "code",
   "execution_count": 29,
   "metadata": {},
   "outputs": [],
   "source": [
    "gmsh.option.setNumber(\"View.IntervalsType\", 3)\n",
    "gmsh.option.setNumber(\"View.VectorType\", 5)"
   ]
  },
  {
   "cell_type": "code",
   "execution_count": 30,
   "metadata": {},
   "outputs": [
    {
     "data": {
      "text/plain": [
       "\"uvec..ok\""
      ]
     },
     "metadata": {},
     "output_type": "display_data"
    },
    {
     "data": {
      "text/plain": [
       "\"ux..ok\""
      ]
     },
     "metadata": {},
     "output_type": "display_data"
    },
    {
     "data": {
      "text/plain": [
       "\"uy..ok\""
      ]
     },
     "metadata": {},
     "output_type": "display_data"
    },
    {
     "data": {
      "text/plain": [
       "\"uz..ok\""
      ]
     },
     "metadata": {},
     "output_type": "display_data"
    },
    {
     "data": {
      "text/plain": [
       "3"
      ]
     },
     "metadata": {},
     "output_type": "display_data"
    }
   ],
   "source": [
    "u = FEM.showDoFResults(problem, q, \"uvec\", name=\"uvec\", visible=false)\n",
    "ux = FEM.showDoFResults(problem, q, \"ux\", name=\"ux\", visible=false)\n",
    "uy = FEM.showDoFResults(problem, q, \"uy\", name=\"uy\", visible=false)\n",
    "uz = FEM.showDoFResults(problem, q, \"uz\", name=\"uz\", visible=false)"
   ]
  },
  {
   "cell_type": "code",
   "execution_count": 31,
   "metadata": {},
   "outputs": [
    {
     "data": {
      "text/plain": [
       "\"s..ok\""
      ]
     },
     "metadata": {},
     "output_type": "display_data"
    },
    {
     "data": {
      "text/plain": [
       "\"sx..ok\""
      ]
     },
     "metadata": {},
     "output_type": "display_data"
    },
    {
     "data": {
      "text/plain": [
       "\"sy..ok\""
      ]
     },
     "metadata": {},
     "output_type": "display_data"
    },
    {
     "data": {
      "text/plain": [
       "\"sz..ok\""
      ]
     },
     "metadata": {},
     "output_type": "display_data"
    },
    {
     "data": {
      "text/plain": [
       "\"sxy..ok\""
      ]
     },
     "metadata": {},
     "output_type": "display_data"
    },
    {
     "data": {
      "text/plain": [
       "\"syz..ok\""
      ]
     },
     "metadata": {},
     "output_type": "display_data"
    },
    {
     "data": {
      "text/plain": [
       "\"szx..ok\""
      ]
     },
     "metadata": {},
     "output_type": "display_data"
    },
    {
     "name": "stdout",
     "output_type": "stream",
     "text": [
      "Info    : Running Plugin(Smooth)...\n",
      "Info    : Done running Plugin(Smooth)\n",
      "Info    : Running Plugin(Smooth)...\n",
      "Info    : Done running Plugin(Smooth)\n",
      "Info    : Running Plugin(Smooth)...\n",
      "Info    : Done running Plugin(Smooth)\n",
      "Info    : Running Plugin(Smooth)...\n",
      "Info    : Done running Plugin(Smooth)\n",
      "Info    : Running Plugin(Smooth)...\n",
      "Info    : Done running Plugin(Smooth)\n",
      "Info    : Running Plugin(Smooth)...\n",
      "Info    : Done running Plugin(Smooth)\n",
      "Info    : Running Plugin(Smooth)...\n",
      "Info    : Done running Plugin(Smooth)\n"
     ]
    },
    {
     "data": {
      "text/plain": [
       "10"
      ]
     },
     "metadata": {},
     "output_type": "display_data"
    }
   ],
   "source": [
    "s = FEM.showStressResults(problem, S, \"s\", name=\"σ\", visible=true, smooth=true)\n",
    "sx = FEM.showStressResults(problem, S, \"sx\", name=\"σx\", visible=false, smooth=true)\n",
    "sy = FEM.showStressResults(problem, S, \"sy\", name=\"σy\", visible=false, smooth=true)\n",
    "sz = FEM.showStressResults(problem, S, \"sz\", name=\"σz\", visible=false, smooth=true)\n",
    "sxy = FEM.showStressResults(problem, S, \"sxy\", name=\"τxy\", visible=false, smooth=true)\n",
    "syz = FEM.showStressResults(problem, S, \"syz\", name=\"τyz\", visible=false, smooth=true)\n",
    "szx = FEM.showStressResults(problem, S, \"szx\", name=\"τzx\", visible=false, smooth=true)"
   ]
  },
  {
   "cell_type": "code",
   "execution_count": 32,
   "metadata": {},
   "outputs": [],
   "source": [
    "#gmsh.option.setNumber(\"PostProcessing.Binary\", 1)\n",
    "#gmsh.option.setNumber(\"PostProcessing.SaveMesh\", 1)\n",
    "\n",
    "#gmsh.write(\"rect.msh\")\n",
    "#gmsh.write(\"rect.opt\")\n",
    "#gmsh.view.write(4, \"rect.pos\")"
   ]
  },
  {
   "cell_type": "code",
   "execution_count": 33,
   "metadata": {},
   "outputs": [
    {
     "name": "stdout",
     "output_type": "stream",
     "text": [
      "-------------------------------------------------------\n",
      "Version       : 4.12.2\n",
      "License       : GNU General Public License\n",
      "Build OS      : Linux64-sdk\n",
      "Build date    : 19700101\n",
      "Build host    : amdci7.julia.csail.mit.edu\n",
      "Build options : 64Bit ALGLIB[contrib] ANN[contrib] Bamg Blossom Cairo DIntegration Dlopen DomHex Eigen[contrib] Fltk GMP Gmm[contrib] Hxt Jpeg Kbipack LinuxJoystick MathEx[contrib] Mesh Metis[contrib] Mmg Mpeg Netgen ONELAB ONELABMetamodel OpenCASCADE OpenCASCADE-CAF OpenGL OpenMP OptHom Parser Plugins Png Post QuadMeshingTools QuadTri Solver TetGen/BR Voro++[contrib] WinslowUntangler Zlib\n",
      "FLTK version  : 1.3.8\n",
      "OCC version   : 7.6.2\n",
      "Packaged by   : root\n",
      "Web site      : https://gmsh.info\n",
      "Issue tracker : https://gitlab.onelab.info/gmsh/gmsh/issues\n",
      "-------------------------------------------------------\n"
     ]
    },
    {
     "name": "stderr",
     "output_type": "stream",
     "text": [
      "XRequest.18: BadValue 0x0\n"
     ]
    }
   ],
   "source": [
    "gmsh.fltk.run()"
   ]
  },
  {
   "cell_type": "code",
   "execution_count": 34,
   "metadata": {
    "slideshow": {
     "slide_type": ""
    },
    "tags": []
   },
   "outputs": [],
   "source": [
    "gmsh.finalize()"
   ]
  }
 ],
 "metadata": {
  "kernelspec": {
   "display_name": "Julia 1.10.2",
   "language": "julia",
   "name": "julia-1.10"
  },
  "language_info": {
   "file_extension": ".jl",
   "mimetype": "application/julia",
   "name": "julia",
   "version": "1.10.2"
  },
  "varInspector": {
   "cols": {
    "lenName": 16,
    "lenType": 16,
    "lenVar": 40
   },
   "kernels_config": {
    "python": {
     "delete_cmd_postfix": "",
     "delete_cmd_prefix": "del ",
     "library": "var_list.py",
     "varRefreshCmd": "print(var_dic_list())"
    },
    "r": {
     "delete_cmd_postfix": ") ",
     "delete_cmd_prefix": "rm(",
     "library": "var_list.r",
     "varRefreshCmd": "cat(var_dic_list()) "
    }
   },
   "types_to_exclude": [
    "module",
    "function",
    "builtin_function_or_method",
    "instance",
    "_Feature"
   ],
   "window_display": false
  }
 },
 "nbformat": 4,
 "nbformat_minor": 4
}
