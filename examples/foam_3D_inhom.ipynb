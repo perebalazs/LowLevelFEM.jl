{
 "cells": [
  {
   "cell_type": "code",
   "execution_count": 1,
   "metadata": {},
   "outputs": [],
   "source": [
    "import LowLevelFEM as FEM\n",
    "using LowLevelFEM\n",
    "\n",
    "gmsh.initialize()"
   ]
  },
  {
   "cell_type": "code",
   "execution_count": 2,
   "metadata": {},
   "outputs": [
    {
     "name": "stdout",
     "output_type": "stream",
     "text": [
      "Info    : Reading 'foam_3D_inhom.geo'...\n",
      "Info    : Meshing 1D...\n",
      "Info    : [  0%] Meshing curve 1 (Line)\n",
      "Info    : [ 10%] Meshing curve 2 (Line)\n",
      "Info    : [ 10%] Meshing curve 3 (Line)\n",
      "Info    : [ 10%] Meshing curve 4 (Line)\n",
      "Info    : [ 10%] Meshing curve 5 (Line)\n",
      "Info    : [ 10%] Meshing curve 6 (Line)\n",
      "Info    : [ 10%] Meshing curve 7 (Line)\n",
      "Info    : [ 10%] Meshing curve 8 (Line)\n",
      "Info    : [ 10%] Meshing curve 9 (Line)\n",
      "Info    : [ 10%] Meshing curve 10 (Line)\n",
      "Info    : [ 20%] Meshing curve 11 (Line)\n",
      "Info    : [ 20%] Meshing curve 12 (Line)\n",
      "Info    : [ 20%] Meshing curve 14 (Circle)\n",
      "Info    : [ 20%] Meshing curve 17 (Circle)\n",
      "Info    : [ 20%] Meshing curve 20 (Circle)\n",
      "Info    : [ 30%] Meshing curve 23 (Circle)\n",
      "Info    : [ 30%] Meshing curve 26 (Circle)\n",
      "Info    : [ 30%] Meshing curve 29 (Circle)\n",
      "Info    : [ 40%] Meshing curve 32 (Circle)\n",
      "Info    : [ 40%] Meshing curve 35 (Circle)\n",
      "Info    : [ 40%] Meshing curve 38 (Circle)\n",
      "Info    : [ 50%] Meshing curve 41 (Circle)\n",
      "Info    : [ 50%] Meshing curve 44 (Circle)\n",
      "Info    : [ 50%] Meshing curve 47 (Circle)\n",
      "Info    : [ 60%] Meshing curve 50 (Circle)\n",
      "Info    : [ 60%] Meshing curve 53 (Circle)\n",
      "Info    : [ 60%] Meshing curve 56 (Circle)\n",
      "Info    : [ 70%] Meshing curve 59 (Circle)\n",
      "Info    : [ 70%] Meshing curve 62 (Circle)\n",
      "Info    : [ 70%] Meshing curve 65 (Circle)\n",
      "Info    : [ 70%] Meshing curve 68 (Circle)\n",
      "Info    : [ 80%] Meshing curve 71 (Circle)\n",
      "Info    : [ 80%] Meshing curve 74 (Circle)\n",
      "Info    : [ 80%] Meshing curve 77 (Circle)\n",
      "Info    : [ 90%] Meshing curve 80 (Circle)\n",
      "Info    : [ 90%] Meshing curve 83 (Circle)\n",
      "Info    : [ 90%] Meshing curve 86 (Circle)\n",
      "Info    : [100%] Meshing curve 89 (Circle)\n",
      "Info    : [100%] Meshing curve 92 (Circle)\n",
      "Info    : [100%] Meshing curve 95 (Circle)\n",
      "Info    : Done meshing 1D (Wall 0.00740691s, CPU 0.005377s)\n",
      "Info    : Meshing 2D...\n",
      "Info    : [  0%] Meshing surface 1 (Transfinite)\n",
      "Info    : [ 10%] Meshing surface 2 (Transfinite)\n",
      "Info    : [ 10%] Meshing surface 3 (Transfinite)\n",
      "Info    : [ 10%] Meshing surface 4 (Transfinite)\n",
      "Info    : [ 20%] Meshing surface 5 (Transfinite)\n",
      "Info    : [ 20%] Meshing surface 6 (Transfinite)\n",
      "Info    : [ 20%] Meshing surface 7 (Sphere, Frontal-Delaunay)\n",
      "Info    : [ 30%] Meshing surface 8 (Sphere, Frontal-Delaunay)\n",
      "Info    : [ 30%] Meshing surface 9 (Sphere, Frontal-Delaunay)\n",
      "Info    : [ 30%] Meshing surface 10 (Sphere, Frontal-Delaunay)\n",
      "Info    : [ 30%] Meshing surface 11 (Sphere, Frontal-Delaunay)\n",
      "Info    : [ 40%] Meshing surface 12 (Sphere, Frontal-Delaunay)\n",
      "Info    : [ 40%] Meshing surface 13 (Sphere, Frontal-Delaunay)\n",
      "Info    : [ 40%] Meshing surface 14 (Sphere, Frontal-Delaunay)\n",
      "Info    : [ 50%] Meshing surface 15 (Sphere, Frontal-Delaunay)\n",
      "Info    : [ 50%] Meshing surface 16 (Sphere, Frontal-Delaunay)\n",
      "Info    : [ 50%] Meshing surface 17 (Sphere, Frontal-Delaunay)\n",
      "Info    : [ 50%] Meshing surface 18 (Sphere, Frontal-Delaunay)\n",
      "Info    : [ 60%] Meshing surface 19 (Sphere, Frontal-Delaunay)\n",
      "Info    : [ 60%] Meshing surface 20 (Sphere, Frontal-Delaunay)\n",
      "Info    : [ 60%] Meshing surface 21 (Sphere, Frontal-Delaunay)\n",
      "Info    : [ 70%] Meshing surface 22 (Sphere, Frontal-Delaunay)\n",
      "Info    : [ 70%] Meshing surface 23 (Sphere, Frontal-Delaunay)\n",
      "Info    : [ 70%] Meshing surface 24 (Sphere, Frontal-Delaunay)\n",
      "Info    : [ 80%] Meshing surface 25 (Sphere, Frontal-Delaunay)\n",
      "Info    : [ 80%] Meshing surface 26 (Sphere, Frontal-Delaunay)\n",
      "Info    : [ 80%] Meshing surface 27 (Sphere, Frontal-Delaunay)\n",
      "Info    : [ 80%] Meshing surface 28 (Sphere, Frontal-Delaunay)\n",
      "Info    : [ 90%] Meshing surface 29 (Sphere, Frontal-Delaunay)\n",
      "Info    : [ 90%] Meshing surface 30 (Sphere, Frontal-Delaunay)\n",
      "Info    : [ 90%] Meshing surface 31 (Sphere, Frontal-Delaunay)\n",
      "Info    : [100%] Meshing surface 32 (Sphere, Frontal-Delaunay)\n",
      "Info    : [100%] Meshing surface 33 (Sphere, Frontal-Delaunay)\n",
      "Info    : [100%] Meshing surface 34 (Sphere, Frontal-Delaunay)\n",
      "Info    : Done meshing 2D (Wall 5.16854s, CPU 5.15514s)\n",
      "Info    : Meshing 3D...\n",
      "Info    : 3D Meshing 15 volumes with 1 connected component\n",
      "Info    : Tetrahedrizing 66237 nodes...\n",
      "Info    : Done tetrahedrizing 66245 nodes (Wall 1.7985s, CPU 1.48997s)\n",
      "Info    : Reconstructing mesh...\n",
      "Info    :  - Creating surface mesh\n",
      "Info    :  - Identifying boundary edges\n",
      "Info    :  - Recovering boundary\n",
      "Info    : Done reconstructing mesh (Wall 4.13805s, CPU 3.19028s)\n",
      "Info    : Found void region\n",
      "Info    : Found void region\n",
      "Info    : Found void region\n",
      "Info    : Found void region\n",
      "Info    : Found void region\n",
      "Info    : Found void region\n",
      "Info    : Found void region\n",
      "Info    : Found void region\n",
      "Info    : Found void region\n",
      "Info    : Found void region\n",
      "Info    : Found void region\n",
      "Info    : Found void region\n",
      "Info    : Found void region\n",
      "Info    : Found void region\n",
      "Info    : Found volume 7\n",
      "Info    : Found volume 16\n",
      "Info    : Found volume 11\n",
      "Info    : Found volume 8\n",
      "Info    : Found volume 10\n",
      "Info    : Found volume 3\n",
      "Info    : Found volume 2\n",
      "Info    : Found volume 5\n",
      "Info    : Found volume 6\n",
      "Info    : Found volume 12\n",
      "Info    : Found volume 14\n",
      "Info    : Found volume 4\n",
      "Info    : Found volume 1\n",
      "Info    : Found volume 9\n",
      "Info    : Found volume 13\n",
      "Info    : It. 0 - 0 nodes created - worst tet radius 9.93516 (nodes removed 0 0)\n",
      "Info    : It. 500 - 269 nodes created - worst tet radius 3.32372 (nodes removed 0 231)\n",
      "Info    : It. 1000 - 539 nodes created - worst tet radius 2.67578 (nodes removed 0 461)\n",
      "Info    : It. 1500 - 802 nodes created - worst tet radius 2.38508 (nodes removed 0 698)\n",
      "Info    : It. 2000 - 1054 nodes created - worst tet radius 2.17161 (nodes removed 0 946)\n",
      "Info    : It. 2500 - 1340 nodes created - worst tet radius 2.02448 (nodes removed 0 1160)\n",
      "Info    : It. 3000 - 1641 nodes created - worst tet radius 1.92412 (nodes removed 0 1359)\n",
      "Info    : It. 3500 - 1935 nodes created - worst tet radius 1.84129 (nodes removed 0 1565)\n",
      "Info    : It. 4000 - 2238 nodes created - worst tet radius 1.75498 (nodes removed 0 1762)\n",
      "Info    : It. 4500 - 2549 nodes created - worst tet radius 1.68398 (nodes removed 0 1951)\n",
      "Info    : It. 5000 - 2861 nodes created - worst tet radius 1.62812 (nodes removed 0 2139)\n",
      "Info    : It. 5500 - 3171 nodes created - worst tet radius 1.58081 (nodes removed 0 2329)\n",
      "Info    : It. 6000 - 3455 nodes created - worst tet radius 1.5402 (nodes removed 0 2545)\n",
      "Info    : It. 6500 - 3744 nodes created - worst tet radius 1.50164 (nodes removed 0 2756)\n",
      "Info    : It. 7000 - 4042 nodes created - worst tet radius 1.47 (nodes removed 0 2958)\n",
      "Info    : It. 7500 - 4328 nodes created - worst tet radius 1.43999 (nodes removed 0 3172)\n",
      "Info    : It. 8000 - 4639 nodes created - worst tet radius 1.41336 (nodes removed 0 3361)\n",
      "Info    : It. 8500 - 4943 nodes created - worst tet radius 1.38659 (nodes removed 0 3557)\n",
      "Info    : It. 9000 - 5255 nodes created - worst tet radius 2.59827 (nodes removed 0 3745)\n",
      "Info    : It. 9500 - 5539 nodes created - worst tet radius 1.33935 (nodes removed 0 3961)\n",
      "Info    : It. 10000 - 5860 nodes created - worst tet radius 1.31778 (nodes removed 0 4140)\n",
      "Info    : It. 10500 - 6173 nodes created - worst tet radius 1.29595 (nodes removed 0 4327)\n",
      "Info    : It. 11000 - 6509 nodes created - worst tet radius 1.27543 (nodes removed 0 4491)\n",
      "Info    : It. 11500 - 6815 nodes created - worst tet radius 1.25465 (nodes removed 0 4685)\n",
      "Info    : It. 12000 - 7128 nodes created - worst tet radius 1.23536 (nodes removed 0 4872)\n",
      "Info    : It. 12500 - 7470 nodes created - worst tet radius 1.21823 (nodes removed 0 5030)\n",
      "Info    : It. 13000 - 7807 nodes created - worst tet radius 1.20065 (nodes removed 0 5193)\n",
      "Info    : It. 13500 - 8104 nodes created - worst tet radius 1.88221 (nodes removed 0 5396)\n",
      "Info    : It. 14000 - 8454 nodes created - worst tet radius 2.28851 (nodes removed 0 5546)\n",
      "Info    : It. 14500 - 8785 nodes created - worst tet radius 1.15864 (nodes removed 0 5715)\n",
      "Info    : It. 15000 - 9150 nodes created - worst tet radius 1.14425 (nodes removed 0 5850)\n",
      "Info    : It. 15500 - 9504 nodes created - worst tet radius 1.13144 (nodes removed 0 5996)\n",
      "Info    : It. 16000 - 9821 nodes created - worst tet radius 1.12034 (nodes removed 0 6179)\n",
      "Info    : It. 16500 - 10203 nodes created - worst tet radius 1.1084 (nodes removed 0 6297)\n",
      "Info    : It. 17000 - 10528 nodes created - worst tet radius 1.18431 (nodes removed 0 6472)\n",
      "Info    : It. 17500 - 10900 nodes created - worst tet radius 1.33856 (nodes removed 0 6600)\n",
      "Info    : It. 18000 - 11249 nodes created - worst tet radius 1.07654 (nodes removed 0 6751)\n",
      "Info    : It. 18500 - 11617 nodes created - worst tet radius 1.08267 (nodes removed 0 6883)\n",
      "Info    : It. 19000 - 11891 nodes created - worst tet radius 1.05986 (nodes removed 0 7109)\n",
      "Info    : It. 19500 - 12229 nodes created - worst tet radius 1.05391 (nodes removed 0 7271)\n",
      "Info    : It. 20000 - 12521 nodes created - worst tet radius 1.04386 (nodes removed 0 7479)\n",
      "Info    : It. 20500 - 12915 nodes created - worst tet radius 1.03446 (nodes removed 0 7585)\n",
      "Info    : It. 21000 - 13238 nodes created - worst tet radius 1.02575 (nodes removed 0 7762)\n",
      "Info    : It. 21500 - 13616 nodes created - worst tet radius 1.01765 (nodes removed 0 7884)\n",
      "Info    : It. 22000 - 13995 nodes created - worst tet radius 2.1812 (nodes removed 0 8005)\n",
      "Info    : It. 22500 - 14326 nodes created - worst tet radius 1.00306 (nodes removed 0 8174)\n",
      "Info    : 3D refinement terminated (80726 nodes total):\n",
      "Info    :  - 2 Delaunay cavities modified for star shapeness\n",
      "Info    :  - 8264 nodes could not be inserted\n",
      "Info    :  - 397841 tetrahedra created in 2.36163 sec. (168460 tets/s)\n",
      "Info    : 1144 node relocations\n",
      "Info    : Done meshing 3D (Wall 16.8764s, CPU 14.7295s)\n",
      "Info    : Optimizing mesh...\n",
      "Info    : Optimizing volume 1\n",
      "Info    : Optimization starts (volume = 0.138684) with worst = 0.0107693 / average = 0.706993:\n",
      "Info    : 0.00 < quality < 0.10 :        52 elements\n",
      "Info    : 0.10 < quality < 0.20 :       107 elements\n",
      "Info    : 0.20 < quality < 0.30 :       149 elements\n",
      "Info    : 0.30 < quality < 0.40 :       195 elements\n",
      "Info    : 0.40 < quality < 0.50 :       256 elements\n",
      "Info    : 0.50 < quality < 0.60 :       500 elements\n",
      "Info    : 0.60 < quality < 0.70 :      3384 elements\n",
      "Info    : 0.70 < quality < 0.80 :      8425 elements\n",
      "Info    : 0.80 < quality < 0.90 :      1591 elements\n",
      "Info    : 0.90 < quality < 1.00 :        10 elements\n",
      "Info    : 294 edge swaps, 0 node relocations (volume = 0.138684): worst = 0.0478863 / average = 0.71798 (Wall 0.0143756s, CPU 0.014376s)\n",
      "Info    : 298 edge swaps, 0 node relocations (volume = 0.138684): worst = 0.0478863 / average = 0.718034 (Wall 0.0177452s, CPU 0.017747s)\n",
      "Info    : No ill-shaped tets in the mesh :-)\n",
      "Info    : 0.00 < quality < 0.10 :         2 elements\n",
      "Info    : 0.10 < quality < 0.20 :         5 elements\n",
      "Info    : 0.20 < quality < 0.30 :        10 elements\n",
      "Info    : 0.30 < quality < 0.40 :       199 elements\n",
      "Info    : 0.40 < quality < 0.50 :       255 elements\n",
      "Info    : 0.50 < quality < 0.60 :       473 elements\n",
      "Info    : 0.60 < quality < 0.70 :      3378 elements\n",
      "Info    : 0.70 < quality < 0.80 :      8456 elements\n",
      "Info    : 0.80 < quality < 0.90 :      1596 elements\n",
      "Info    : 0.90 < quality < 1.00 :        10 elements\n",
      "Info    : Optimizing volume 2\n",
      "Info    : Optimization starts (volume = 0.138691) with worst = 0.00184198 / average = 0.713578:\n",
      "Info    : 0.00 < quality < 0.10 :        46 elements\n",
      "Info    : 0.10 < quality < 0.20 :        84 elements\n",
      "Info    : 0.20 < quality < 0.30 :       108 elements\n",
      "Info    : 0.30 < quality < 0.40 :       166 elements\n",
      "Info    : 0.40 < quality < 0.50 :       245 elements\n",
      "Info    : 0.50 < quality < 0.60 :       423 elements\n",
      "Info    : 0.60 < quality < 0.70 :      3076 elements\n",
      "Info    : 0.70 < quality < 0.80 :      8704 elements\n",
      "Info    : 0.80 < quality < 0.90 :      1737 elements\n",
      "Info    : 0.90 < quality < 1.00 :        10 elements\n",
      "Info    : 231 edge swaps, 0 node relocations (volume = 0.138691): worst = 0.0327233 / average = 0.72206 (Wall 0.00917586s, CPU 0.009176s)\n",
      "Info    : 238 edge swaps, 0 node relocations (volume = 0.138691): worst = 0.0719908 / average = 0.722152 (Wall 0.0123091s, CPU 0.012307s)\n",
      "Info    : 239 edge swaps, 0 node relocations (volume = 0.138691): worst = 0.0719908 / average = 0.722191 (Wall 0.0149596s, CPU 0.014959s)\n",
      "Info    : No ill-shaped tets in the mesh :-)\n",
      "Info    : 0.00 < quality < 0.10 :         1 elements\n",
      "Info    : 0.10 < quality < 0.20 :         4 elements\n",
      "Info    : 0.20 < quality < 0.30 :         6 elements\n",
      "Info    : 0.30 < quality < 0.40 :       175 elements\n",
      "Info    : 0.40 < quality < 0.50 :       243 elements\n",
      "Info    : 0.50 < quality < 0.60 :       408 elements\n",
      "Info    : 0.60 < quality < 0.70 :      3059 elements\n",
      "Info    : 0.70 < quality < 0.80 :      8734 elements\n",
      "Info    : 0.80 < quality < 0.90 :      1739 elements\n",
      "Info    : 0.90 < quality < 1.00 :        10 elements\n",
      "Info    : Optimizing volume 3\n",
      "Info    : Optimization starts (volume = 0.138692) with worst = 0.00112627 / average = 0.705076:\n",
      "Info    : 0.00 < quality < 0.10 :        69 elements\n",
      "Info    : 0.10 < quality < 0.20 :       113 elements\n",
      "Info    : 0.20 < quality < 0.30 :       157 elements\n",
      "Info    : 0.30 < quality < 0.40 :       203 elements\n",
      "Info    : 0.40 < quality < 0.50 :       279 elements\n",
      "Info    : 0.50 < quality < 0.60 :       475 elements\n",
      "Info    : 0.60 < quality < 0.70 :      3401 elements\n",
      "Info    : 0.70 < quality < 0.80 :      8367 elements\n",
      "Info    : 0.80 < quality < 0.90 :      1653 elements\n",
      "Info    : 0.90 < quality < 1.00 :        16 elements\n",
      "Info    : 325 edge swaps, 0 node relocations (volume = 0.138692): worst = 0.0024275 / average = 0.716618 (Wall 0.0100907s, CPU 0.010088s)\n",
      "Info    : 338 edge swaps, 0 node relocations (volume = 0.138692): worst = 0.0024275 / average = 0.716705 (Wall 0.0134567s, CPU 0.013455s)\n",
      "Info    : No ill-shaped tets in the mesh :-)\n",
      "Info    : 0.00 < quality < 0.10 :         2 elements\n",
      "Info    : 0.10 < quality < 0.20 :         8 elements\n",
      "Info    : 0.20 < quality < 0.30 :         9 elements\n",
      "Info    : 0.30 < quality < 0.40 :       211 elements\n",
      "Info    : 0.40 < quality < 0.50 :       281 elements\n",
      "Info    : 0.50 < quality < 0.60 :       454 elements\n",
      "Info    : 0.60 < quality < 0.70 :      3373 elements\n",
      "Info    : 0.70 < quality < 0.80 :      8400 elements\n",
      "Info    : 0.80 < quality < 0.90 :      1662 elements\n",
      "Info    : 0.90 < quality < 1.00 :        16 elements\n",
      "Info    : Optimizing volume 4\n",
      "Info    : Optimization starts (volume = 0.138693) with worst = 0.0117765 / average = 0.7101:\n",
      "Info    : 0.00 < quality < 0.10 :        47 elements\n",
      "Info    : 0.10 < quality < 0.20 :        76 elements\n",
      "Info    : 0.20 < quality < 0.30 :       124 elements\n",
      "Info    : 0.30 < quality < 0.40 :       214 elements\n",
      "Info    : 0.40 < quality < 0.50 :       287 elements\n",
      "Info    : 0.50 < quality < 0.60 :       499 elements\n",
      "Info    : 0.60 < quality < 0.70 :      3153 elements\n",
      "Info    : 0.70 < quality < 0.80 :      8464 elements\n",
      "Info    : 0.80 < quality < 0.90 :      1800 elements\n",
      "Info    : 0.90 < quality < 1.00 :         8 elements\n",
      "Info    : 241 edge swaps, 0 node relocations (volume = 0.138693): worst = 0.0368376 / average = 0.718301 (Wall 0.00922877s, CPU 0.009228s)\n",
      "Info    : 251 edge swaps, 0 node relocations (volume = 0.138693): worst = 0.0368376 / average = 0.718318 (Wall 0.0120503s, CPU 0.01205s)\n",
      "Info    : No ill-shaped tets in the mesh :-)\n",
      "Info    : 0.00 < quality < 0.10 :         2 elements\n",
      "Info    : 0.10 < quality < 0.20 :         2 elements\n",
      "Info    : 0.20 < quality < 0.30 :         6 elements\n",
      "Info    : 0.30 < quality < 0.40 :       224 elements\n",
      "Info    : 0.40 < quality < 0.50 :       290 elements\n",
      "Info    : 0.50 < quality < 0.60 :       482 elements\n",
      "Info    : 0.60 < quality < 0.70 :      3164 elements\n",
      "Info    : 0.70 < quality < 0.80 :      8469 elements\n",
      "Info    : 0.80 < quality < 0.90 :      1800 elements\n",
      "Info    : 0.90 < quality < 1.00 :         8 elements\n",
      "Info    : Optimizing volume 5\n",
      "Info    : Optimization starts (volume = 0.138658) with worst = 0.00138887 / average = 0.70812:\n",
      "Info    : 0.00 < quality < 0.10 :        68 elements\n",
      "Info    : 0.10 < quality < 0.20 :       109 elements\n",
      "Info    : 0.20 < quality < 0.30 :       140 elements\n",
      "Info    : 0.30 < quality < 0.40 :       193 elements\n",
      "Info    : 0.40 < quality < 0.50 :       229 elements\n",
      "Info    : 0.50 < quality < 0.60 :       426 elements\n",
      "Info    : 0.60 < quality < 0.70 :      3379 elements\n",
      "Info    : 0.70 < quality < 0.80 :      8497 elements\n",
      "Info    : 0.80 < quality < 0.90 :      1647 elements\n",
      "Info    : 0.90 < quality < 1.00 :        10 elements\n",
      "Info    : 304 edge swaps, 0 node relocations (volume = 0.138658): worst = 0.0056174 / average = 0.719254 (Wall 0.0101561s, CPU 0.010155s)\n",
      "Info    : 317 edge swaps, 0 node relocations (volume = 0.138658): worst = 0.0166531 / average = 0.719154 (Wall 0.0131089s, CPU 0.013107s)\n",
      "Info    : 319 edge swaps, 0 node relocations (volume = 0.138658): worst = 0.0166531 / average = 0.719166 (Wall 0.0160083s, CPU 0.016007s)\n",
      "Info    : No ill-shaped tets in the mesh :-)\n",
      "Info    : 0.00 < quality < 0.10 :         2 elements\n",
      "Info    : 0.10 < quality < 0.20 :        10 elements\n",
      "Info    : 0.20 < quality < 0.30 :         8 elements\n",
      "Info    : 0.30 < quality < 0.40 :       201 elements\n",
      "Info    : 0.40 < quality < 0.50 :       233 elements\n",
      "Info    : 0.50 < quality < 0.60 :       421 elements\n",
      "Info    : 0.60 < quality < 0.70 :      3349 elements\n",
      "Info    : 0.70 < quality < 0.80 :      8528 elements\n",
      "Info    : 0.80 < quality < 0.90 :      1647 elements\n",
      "Info    : 0.90 < quality < 1.00 :        10 elements\n",
      "Info    : Optimizing volume 6\n",
      "Info    : Optimization starts (volume = 0.138712) with worst = 0.00153673 / average = 0.704468:\n",
      "Info    : 0.00 < quality < 0.10 :        51 elements\n",
      "Info    : 0.10 < quality < 0.20 :        75 elements\n",
      "Info    : 0.20 < quality < 0.30 :       141 elements\n",
      "Info    : 0.30 < quality < 0.40 :       261 elements\n",
      "Info    : 0.40 < quality < 0.50 :       327 elements\n",
      "Info    : 0.50 < quality < 0.60 :       515 elements\n",
      "Info    : 0.60 < quality < 0.70 :      3534 elements\n",
      "Info    : 0.70 < quality < 0.80 :      8033 elements\n",
      "Info    : 0.80 < quality < 0.90 :      1714 elements\n",
      "Info    : 0.90 < quality < 1.00 :         8 elements\n",
      "Info    : 261 edge swaps, 0 node relocations (volume = 0.138712): worst = 0.0392006 / average = 0.713844 (Wall 0.00800718s, CPU 0.007999s)\n",
      "Info    : 267 edge swaps, 0 node relocations (volume = 0.138712): worst = 0.0532916 / average = 0.713972 (Wall 0.0110373s, CPU 0.011028s)\n",
      "Info    : 268 edge swaps, 0 node relocations (volume = 0.138712): worst = 0.0532916 / average = 0.713943 (Wall 0.0141311s, CPU 0.014121s)\n",
      "Info    : No ill-shaped tets in the mesh :-)\n",
      "Info    : 0.00 < quality < 0.10 :         1 elements\n",
      "Info    : 0.10 < quality < 0.20 :         1 elements\n",
      "Info    : 0.20 < quality < 0.30 :         9 elements\n",
      "Info    : 0.30 < quality < 0.40 :       266 elements\n",
      "Info    : 0.40 < quality < 0.50 :       331 elements\n",
      "Info    : 0.50 < quality < 0.60 :       500 elements\n",
      "Info    : 0.60 < quality < 0.70 :      3490 elements\n",
      "Info    : 0.70 < quality < 0.80 :      8085 elements\n",
      "Info    : 0.80 < quality < 0.90 :      1722 elements\n",
      "Info    : 0.90 < quality < 1.00 :         8 elements\n",
      "Info    : Optimizing volume 7\n",
      "Info    : Optimization starts (volume = 0.138691) with worst = 0.00113604 / average = 0.710374:\n",
      "Info    : 0.00 < quality < 0.10 :        65 elements\n",
      "Info    : 0.10 < quality < 0.20 :       112 elements\n",
      "Info    : 0.20 < quality < 0.30 :       141 elements\n",
      "Info    : 0.30 < quality < 0.40 :       123 elements\n",
      "Info    : 0.40 < quality < 0.50 :       239 elements\n",
      "Info    : 0.50 < quality < 0.60 :       418 elements\n",
      "Info    : 0.60 < quality < 0.70 :      3245 elements\n",
      "Info    : 0.70 < quality < 0.80 :      8638 elements\n",
      "Info    : 0.80 < quality < 0.90 :      1634 elements\n",
      "Info    : 0.90 < quality < 1.00 :         6 elements\n",
      "Info    : 312 edge swaps, 0 node relocations (volume = 0.138691): worst = 0.00113604 / average = 0.721971 (Wall 0.00829949s, CPU 0.008299s)\n",
      "Info    : 322 edge swaps, 0 node relocations (volume = 0.138691): worst = 0.00113604 / average = 0.722052 (Wall 0.0114596s, CPU 0.011458s)\n",
      "Info    : No ill-shaped tets in the mesh :-)\n",
      "Info    : 0.00 < quality < 0.10 :         3 elements\n",
      "Info    : 0.10 < quality < 0.20 :         1 elements\n",
      "Info    : 0.20 < quality < 0.30 :         4 elements\n",
      "Info    : 0.30 < quality < 0.40 :       126 elements\n",
      "Info    : 0.40 < quality < 0.50 :       244 elements\n",
      "Info    : 0.50 < quality < 0.60 :       402 elements\n",
      "Info    : 0.60 < quality < 0.70 :      3219 elements\n",
      "Info    : 0.70 < quality < 0.80 :      8674 elements\n",
      "Info    : 0.80 < quality < 0.90 :      1636 elements\n",
      "Info    : 0.90 < quality < 1.00 :         6 elements\n",
      "Info    : Optimizing volume 8\n",
      "Info    : Optimization starts (volume = 0.138701) with worst = 0.000799203 / average = 0.710291:\n",
      "Info    : 0.00 < quality < 0.10 :        57 elements\n",
      "Info    : 0.10 < quality < 0.20 :        82 elements\n",
      "Info    : 0.20 < quality < 0.30 :       150 elements\n",
      "Info    : 0.30 < quality < 0.40 :       186 elements\n",
      "Info    : 0.40 < quality < 0.50 :       224 elements\n",
      "Info    : 0.50 < quality < 0.60 :       397 elements\n",
      "Info    : 0.60 < quality < 0.70 :      3290 elements\n",
      "Info    : 0.70 < quality < 0.80 :      8608 elements\n",
      "Info    : 0.80 < quality < 0.90 :      1633 elements\n",
      "Info    : 0.90 < quality < 1.00 :        12 elements\n",
      "Info    : 284 edge swaps, 0 node relocations (volume = 0.138701): worst = 0.0394903 / average = 0.720557 (Wall 0.00788509s, CPU 0.007883s)\n",
      "Info    : 294 edge swaps, 0 node relocations (volume = 0.138701): worst = 0.0394903 / average = 0.720603 (Wall 0.0106415s, CPU 0.01064s)\n",
      "Info    : No ill-shaped tets in the mesh :-)\n",
      "Info    : 0.00 < quality < 0.10 :         1 elements\n",
      "Info    : 0.10 < quality < 0.20 :         3 elements\n",
      "Info    : 0.20 < quality < 0.30 :         7 elements\n",
      "Info    : 0.30 < quality < 0.40 :       190 elements\n",
      "Info    : 0.40 < quality < 0.50 :       222 elements\n",
      "Info    : 0.50 < quality < 0.60 :       375 elements\n",
      "Info    : 0.60 < quality < 0.70 :      3265 elements\n",
      "Info    : 0.70 < quality < 0.80 :      8648 elements\n",
      "Info    : 0.80 < quality < 0.90 :      1641 elements\n",
      "Info    : 0.90 < quality < 1.00 :        12 elements\n",
      "Info    : Optimizing volume 9\n",
      "Info    : Optimization starts (volume = 0.138674) with worst = 0.013996 / average = 0.708375:\n",
      "Info    : 0.00 < quality < 0.10 :        59 elements\n",
      "Info    : 0.10 < quality < 0.20 :       115 elements\n",
      "Info    : 0.20 < quality < 0.30 :       128 elements\n",
      "Info    : 0.30 < quality < 0.40 :       174 elements\n",
      "Info    : 0.40 < quality < 0.50 :       219 elements\n",
      "Info    : 0.50 < quality < 0.60 :       485 elements\n",
      "Info    : 0.60 < quality < 0.70 :      3318 elements\n",
      "Info    : 0.70 < quality < 0.80 :      8530 elements\n",
      "Info    : 0.80 < quality < 0.90 :      1595 elements\n",
      "Info    : 0.90 < quality < 1.00 :         6 elements\n",
      "Info    : 291 edge swaps, 0 node relocations (volume = 0.138674): worst = 0.0316848 / average = 0.719468 (Wall 0.0088141s, CPU 0.008814s)\n",
      "Info    : 298 edge swaps, 0 node relocations (volume = 0.138674): worst = 0.0679759 / average = 0.719482 (Wall 0.011533s, CPU 0.011534s)\n",
      "Info    : 300 edge swaps, 0 node relocations (volume = 0.138674): worst = 0.0679759 / average = 0.719477 (Wall 0.0141519s, CPU 0.014151s)\n",
      "Info    : No ill-shaped tets in the mesh :-)\n",
      "Info    : 0.00 < quality < 0.10 :         1 elements\n",
      "Info    : 0.10 < quality < 0.20 :         6 elements\n",
      "Info    : 0.20 < quality < 0.30 :         6 elements\n",
      "Info    : 0.30 < quality < 0.40 :       177 elements\n",
      "Info    : 0.40 < quality < 0.50 :       221 elements\n",
      "Info    : 0.50 < quality < 0.60 :       467 elements\n",
      "Info    : 0.60 < quality < 0.70 :      3298 elements\n",
      "Info    : 0.70 < quality < 0.80 :      8564 elements\n",
      "Info    : 0.80 < quality < 0.90 :      1600 elements\n",
      "Info    : 0.90 < quality < 1.00 :         6 elements\n",
      "Info    : Optimizing volume 10\n",
      "Info    : Optimization starts (volume = 0.138712) with worst = 0.00167939 / average = 0.714531:\n",
      "Info    : 0.00 < quality < 0.10 :        64 elements\n",
      "Info    : 0.10 < quality < 0.20 :        97 elements\n",
      "Info    : 0.20 < quality < 0.30 :       139 elements\n",
      "Info    : 0.30 < quality < 0.40 :       137 elements\n",
      "Info    : 0.40 < quality < 0.50 :       159 elements\n",
      "Info    : 0.50 < quality < 0.60 :       333 elements\n",
      "Info    : 0.60 < quality < 0.70 :      3108 elements\n",
      "Info    : 0.70 < quality < 0.80 :      8980 elements\n",
      "Info    : 0.80 < quality < 0.90 :      1587 elements\n",
      "Info    : 0.90 < quality < 1.00 :        11 elements\n",
      "Info    : 292 edge swaps, 0 node relocations (volume = 0.138712): worst = 0.00167939 / average = 0.725392 (Wall 0.00792069s, CPU 0.007918s)\n",
      "Info    : 299 edge swaps, 0 node relocations (volume = 0.138712): worst = 0.00167939 / average = 0.725434 (Wall 0.0107134s, CPU 0.010711s)\n",
      "Info    : No ill-shaped tets in the mesh :-)\n",
      "Info    : 0.00 < quality < 0.10 :         3 elements\n",
      "Info    : 0.10 < quality < 0.20 :         3 elements\n",
      "Info    : 0.20 < quality < 0.30 :         7 elements\n",
      "Info    : 0.30 < quality < 0.40 :       143 elements\n",
      "Info    : 0.40 < quality < 0.50 :       160 elements\n",
      "Info    : 0.50 < quality < 0.60 :       309 elements\n",
      "Info    : 0.60 < quality < 0.70 :      3105 elements\n",
      "Info    : 0.70 < quality < 0.80 :      9008 elements\n",
      "Info    : 0.80 < quality < 0.90 :      1587 elements\n",
      "Info    : 0.90 < quality < 1.00 :        11 elements\n",
      "Info    : Optimizing volume 11\n",
      "Info    : Optimization starts (volume = 0.138691) with worst = 0.00195475 / average = 0.709727:\n",
      "Info    : 0.00 < quality < 0.10 :        59 elements\n",
      "Info    : 0.10 < quality < 0.20 :        87 elements\n",
      "Info    : 0.20 < quality < 0.30 :       137 elements\n",
      "Info    : 0.30 < quality < 0.40 :       179 elements\n",
      "Info    : 0.40 < quality < 0.50 :       255 elements\n",
      "Info    : 0.50 < quality < 0.60 :       492 elements\n",
      "Info    : 0.60 < quality < 0.70 :      3204 elements\n",
      "Info    : 0.70 < quality < 0.80 :      8523 elements\n",
      "Info    : 0.80 < quality < 0.90 :      1708 elements\n",
      "Info    : 0.90 < quality < 1.00 :        10 elements\n",
      "Info    : 279 edge swaps, 0 node relocations (volume = 0.138691): worst = 0.00339246 / average = 0.719837 (Wall 0.00799869s, CPU 0.007998s)\n",
      "Info    : 285 edge swaps, 0 node relocations (volume = 0.138691): worst = 0.00339246 / average = 0.719913 (Wall 0.0106419s, CPU 0.010641s)\n",
      "Info    : No ill-shaped tets in the mesh :-)\n",
      "Info    : 0.00 < quality < 0.10 :         1 elements\n",
      "Info    : 0.10 < quality < 0.20 :         1 elements\n",
      "Info    : 0.20 < quality < 0.30 :         8 elements\n",
      "Info    : 0.30 < quality < 0.40 :       186 elements\n",
      "Info    : 0.40 < quality < 0.50 :       255 elements\n",
      "Info    : 0.50 < quality < 0.60 :       473 elements\n",
      "Info    : 0.60 < quality < 0.70 :      3197 elements\n",
      "Info    : 0.70 < quality < 0.80 :      8548 elements\n",
      "Info    : 0.80 < quality < 0.90 :      1710 elements\n",
      "Info    : 0.90 < quality < 1.00 :        10 elements\n",
      "Info    : Optimizing volume 12\n",
      "Info    : Optimization starts (volume = 0.138694) with worst = 0.00271561 / average = 0.707652:\n",
      "Info    : 0.00 < quality < 0.10 :        52 elements\n",
      "Info    : 0.10 < quality < 0.20 :        99 elements\n",
      "Info    : 0.20 < quality < 0.30 :       115 elements\n",
      "Info    : 0.30 < quality < 0.40 :       181 elements\n",
      "Info    : 0.40 < quality < 0.50 :       320 elements\n",
      "Info    : 0.50 < quality < 0.60 :       497 elements\n",
      "Info    : 0.60 < quality < 0.70 :      3352 elements\n",
      "Info    : 0.70 < quality < 0.80 :      8409 elements\n",
      "Info    : 0.80 < quality < 0.90 :      1657 elements\n",
      "Info    : 0.90 < quality < 1.00 :        10 elements\n",
      "Info    : 263 edge swaps, 0 node relocations (volume = 0.138694): worst = 0.00574064 / average = 0.71742 (Wall 0.00822655s, CPU 0.008226s)\n",
      "Info    : 270 edge swaps, 0 node relocations (volume = 0.138694): worst = 0.0883755 / average = 0.717445 (Wall 0.0107019s, CPU 0.010702s)\n",
      "Info    : 272 edge swaps, 0 node relocations (volume = 0.138694): worst = 0.0883755 / average = 0.717429 (Wall 0.0131161s, CPU 0.013107s)\n",
      "Info    : No ill-shaped tets in the mesh :-)\n",
      "Info    : 0.00 < quality < 0.10 :         1 elements\n",
      "Info    : 0.10 < quality < 0.20 :         2 elements\n",
      "Info    : 0.20 < quality < 0.30 :         3 elements\n",
      "Info    : 0.30 < quality < 0.40 :       188 elements\n",
      "Info    : 0.40 < quality < 0.50 :       317 elements\n",
      "Info    : 0.50 < quality < 0.60 :       484 elements\n",
      "Info    : 0.60 < quality < 0.70 :      3333 elements\n",
      "Info    : 0.70 < quality < 0.80 :      8436 elements\n",
      "Info    : 0.80 < quality < 0.90 :      1662 elements\n",
      "Info    : 0.90 < quality < 1.00 :        10 elements\n",
      "Info    : Optimizing volume 13\n",
      "Info    : Optimization starts (volume = 0.123188) with worst = 0.0107595 / average = 0.732583:\n",
      "Info    : 0.00 < quality < 0.10 :        67 elements\n",
      "Info    : 0.10 < quality < 0.20 :        80 elements\n",
      "Info    : 0.20 < quality < 0.30 :       103 elements\n",
      "Info    : 0.30 < quality < 0.40 :       160 elements\n",
      "Info    : 0.40 < quality < 0.50 :       242 elements\n",
      "Info    : 0.50 < quality < 0.60 :       421 elements\n",
      "Info    : 0.60 < quality < 0.70 :      1946 elements\n",
      "Info    : 0.70 < quality < 0.80 :      8624 elements\n",
      "Info    : 0.80 < quality < 0.90 :      2930 elements\n",
      "Info    : 0.90 < quality < 1.00 :        60 elements\n",
      "Info    : 244 edge swaps, 0 node relocations (volume = 0.123188): worst = 0.0692451 / average = 0.741875 (Wall 0.00827866s, CPU 0.008272s)\n",
      "Info    : 251 edge swaps, 0 node relocations (volume = 0.123188): worst = 0.0931331 / average = 0.741954 (Wall 0.010939s, CPU 0.010917s)\n",
      "Info    : 252 edge swaps, 0 node relocations (volume = 0.123188): worst = 0.0931331 / average = 0.741934 (Wall 0.0136291s, CPU 0.012616s)\n",
      "Info    : No ill-shaped tets in the mesh :-)\n",
      "Info    : 0.00 < quality < 0.10 :         1 elements\n",
      "Info    : 0.10 < quality < 0.20 :         3 elements\n",
      "Info    : 0.20 < quality < 0.30 :         5 elements\n",
      "Info    : 0.30 < quality < 0.40 :       167 elements\n",
      "Info    : 0.40 < quality < 0.50 :       249 elements\n",
      "Info    : 0.50 < quality < 0.60 :       411 elements\n",
      "Info    : 0.60 < quality < 0.70 :      1955 elements\n",
      "Info    : 0.70 < quality < 0.80 :      8617 elements\n",
      "Info    : 0.80 < quality < 0.90 :      2936 elements\n",
      "Info    : 0.90 < quality < 1.00 :        60 elements\n",
      "Info    : Optimizing volume 14\n",
      "Info    : Optimization starts (volume = 0.123186) with worst = 0.00246189 / average = 0.732096:\n",
      "Info    : 0.00 < quality < 0.10 :        46 elements\n",
      "Info    : 0.10 < quality < 0.20 :       104 elements\n",
      "Info    : 0.20 < quality < 0.30 :       136 elements\n",
      "Info    : 0.30 < quality < 0.40 :       199 elements\n",
      "Info    : 0.40 < quality < 0.50 :       231 elements\n",
      "Info    : 0.50 < quality < 0.60 :       370 elements\n",
      "Info    : 0.60 < quality < 0.70 :      1950 elements\n",
      "Info    : 0.70 < quality < 0.80 :      8444 elements\n",
      "Info    : 0.80 < quality < 0.90 :      3101 elements\n",
      "Info    : 0.90 < quality < 1.00 :        62 elements\n",
      "Info    : 276 edge swaps, 0 node relocations (volume = 0.123186): worst = 0.0506664 / average = 0.742198 (Wall 0.00891479s, CPU 0.008914s)\n",
      "Info    : 286 edge swaps, 0 node relocations (volume = 0.123186): worst = 0.0506664 / average = 0.742244 (Wall 0.0117921s, CPU 0.011792s)\n",
      "Info    : No ill-shaped tets in the mesh :-)\n",
      "Info    : 0.00 < quality < 0.10 :         2 elements\n",
      "Info    : 0.10 < quality < 0.20 :         4 elements\n",
      "Info    : 0.20 < quality < 0.30 :         8 elements\n",
      "Info    : 0.30 < quality < 0.40 :       202 elements\n",
      "Info    : 0.40 < quality < 0.50 :       240 elements\n",
      "Info    : 0.50 < quality < 0.60 :       361 elements\n",
      "Info    : 0.60 < quality < 0.70 :      1964 elements\n",
      "Info    : 0.70 < quality < 0.80 :      8422 elements\n",
      "Info    : 0.80 < quality < 0.90 :      3116 elements\n",
      "Info    : 0.90 < quality < 1.00 :        62 elements\n",
      "Info    : Optimizing volume 16\n",
      "Info    : Optimization starts (volume = 22.8447) with worst = 1.91563e-07 / average = 0.669165:\n",
      "Info    : 0.00 < quality < 0.10 :      4264 elements\n",
      "Info    : 0.10 < quality < 0.20 :      4971 elements\n",
      "Info    : 0.20 < quality < 0.30 :      5626 elements\n",
      "Info    : 0.30 < quality < 0.40 :      9853 elements\n",
      "Info    : 0.40 < quality < 0.50 :     15146 elements\n",
      "Info    : 0.50 < quality < 0.60 :     20151 elements\n",
      "Info    : 0.60 < quality < 0.70 :     26278 elements\n",
      "Info    : 0.70 < quality < 0.80 :     43429 elements\n",
      "Info    : 0.80 < quality < 0.90 :     42703 elements\n",
      "Info    : 0.90 < quality < 1.00 :     20264 elements\n",
      "Info    : 5739 edge swaps, 1013 node relocations (volume = 22.8447): worst = 5.16684e-05 / average = 0.682538 (Wall 0.367607s, CPU 0.365868s)\n",
      "Info    : 6622 edge swaps, 1587 node relocations (volume = 22.8447): worst = 0.000121375 / average = 0.683387 (Wall 0.618026s, CPU 0.616197s)\n",
      "Info    : 6986 edge swaps, 1940 node relocations (volume = 22.8447): worst = 0.0021262 / average = 0.683803 (Wall 0.881399s, CPU 0.879548s)\n",
      "Info    : 7136 edge swaps, 2132 node relocations (volume = 22.8447): worst = 0.0021262 / average = 0.683968 (Wall 1.12084s, CPU 1.11896s)\n",
      "Info    : No ill-shaped tets in the mesh :-)\n",
      "Info    : 0.00 < quality < 0.10 :      2950 elements\n",
      "Info    : 0.10 < quality < 0.20 :      3200 elements\n",
      "Info    : 0.20 < quality < 0.30 :      3052 elements\n",
      "Info    : 0.30 < quality < 0.40 :      9895 elements\n",
      "Info    : 0.40 < quality < 0.50 :     14780 elements\n",
      "Info    : 0.50 < quality < 0.60 :     20199 elements\n",
      "Info    : 0.60 < quality < 0.70 :     26553 elements\n",
      "Info    : 0.70 < quality < 0.80 :     43838 elements\n",
      "Info    : 0.80 < quality < 0.90 :     43079 elements\n",
      "Info    : 0.90 < quality < 1.00 :     20242 elements\n",
      "Info    : Done optimizing mesh (Wall 2.07742s, CPU 2.07329s)\n",
      "Info    : 80726 nodes 523269 elements\n",
      "Info    : Done reading 'foam_3D_inhom.geo'\n"
     ]
    }
   ],
   "source": [
    "gmsh.open(\"foam_3D_inhom.geo\")"
   ]
  },
  {
   "cell_type": "code",
   "execution_count": 3,
   "metadata": {},
   "outputs": [
    {
     "name": "stdout",
     "output_type": "stream",
     "text": [
      "Info    : RCMK renumbering...\n",
      "Info    : Done RCMK renumbering (bandwidth is now 5731)\n"
     ]
    },
    {
     "data": {
      "text/plain": [
       "LowLevelFEM.Problem(\"foam_3D_inhom\", \"Solid\", 3, [(\"Fe\", 200000.0, 0.3, 7.85e-9), (\"Al\", 100000.0, 0.4, 7.85e-9)], 1.0, 80726)"
      ]
     },
     "metadata": {},
     "output_type": "display_data"
    }
   ],
   "source": [
    "mat1 = FEM.material(\"Fe\", E=2e5, ν=0.3)\n",
    "mat2 = FEM.material(\"Al\", E=1e5, ν=0.4)\n",
    "\n",
    "problem = FEM.Problem([mat1, mat2], type=\"Solid\")"
   ]
  },
  {
   "cell_type": "code",
   "execution_count": 4,
   "metadata": {},
   "outputs": [
    {
     "data": {
      "text/plain": [
       "(\"load\", 1, 0, 0)"
      ]
     },
     "metadata": {},
     "output_type": "display_data"
    }
   ],
   "source": [
    "supp = FEM.displacementConstraint(\"supp\", ux=0, uy=0, uz=0)\n",
    "load = FEM.load(\"load\", fx=1)"
   ]
  },
  {
   "cell_type": "code",
   "execution_count": 5,
   "metadata": {},
   "outputs": [],
   "source": [
    "K = FEM.stiffnessMatrix(problem)\n",
    "f = FEM.loadVector(problem, [load]);"
   ]
  },
  {
   "cell_type": "code",
   "execution_count": 6,
   "metadata": {},
   "outputs": [
    {
     "data": {
      "text/plain": [
       "242178×242178 SparseArrays.SparseMatrixCSC{Float64, Int64} with 9792622 stored entries:\n",
       "⎡⠻⣦⣄⠀⠀⠀⠀⠀⠀⠀⠀⠀⠀⠀⠀⠀⠀⠀⠀⠀⠀⠀⠀⠀⠀⠀⠀⠀⠀⠀⠀⠀⠀⠀⠀⠀⠀⠀⠀⠀⎤\n",
       "⎢⠀⠙⢿⣷⣦⡀⠀⠀⠀⠀⠀⠀⠀⠀⠀⠀⠀⠀⠀⠀⠀⠀⠀⠀⠀⠀⠀⠀⠀⠀⠀⠀⠀⠀⠀⠀⠀⠀⠀⠀⎥\n",
       "⎢⠀⠀⠈⠻⣿⣿⣶⣄⠀⠀⠀⠀⠀⠀⠀⠀⠀⠀⠀⠀⠀⠀⠀⠀⠀⠀⠀⠀⠀⠀⠀⠀⠀⠀⠀⠀⠀⠀⠀⠀⎥\n",
       "⎢⠀⠀⠀⠀⠘⢿⣿⣿⣿⣦⡀⠀⠀⠀⠀⠀⠀⠀⠀⠀⠀⠀⠀⠀⠀⠀⠀⠀⠀⠀⠀⠀⠀⠀⠀⠀⠀⠀⠀⠀⎥\n",
       "⎢⠀⠀⠀⠀⠀⠀⠻⣿⣿⣿⣿⣦⠀⠀⠀⠀⠀⠀⠀⠀⠀⠀⠀⠀⠀⠀⠀⠀⠀⠀⠀⠀⠀⠀⠀⠀⠀⠀⠀⠀⎥\n",
       "⎢⠀⠀⠀⠀⠀⠀⠀⠈⠻⣿⣿⣿⣿⣦⡀⠀⠀⠀⠀⠀⠀⠀⠀⠀⠀⠀⠀⠀⠀⠀⠀⠀⠀⠀⠀⠀⠀⠀⠀⠀⎥\n",
       "⎢⠀⠀⠀⠀⠀⠀⠀⠀⠀⠀⠻⣿⣿⣿⣿⣦⡀⠀⠀⠀⠀⠀⠀⠀⠀⠀⠀⠀⠀⠀⠀⠀⠀⠀⠀⠀⠀⠀⠀⠀⎥\n",
       "⎢⠀⠀⠀⠀⠀⠀⠀⠀⠀⠀⠀⠈⠻⣿⣻⣾⣟⣶⣄⠀⠀⠀⠀⠀⠀⠀⠀⠀⠀⠀⠀⠀⠀⠀⠀⠀⠀⠀⠀⠀⎥\n",
       "⎢⠀⠀⠀⠀⠀⠀⠀⠀⠀⠀⠀⠀⠀⠈⢻⣽⡿⣯⣿⠷⣄⠀⠀⠀⠀⠀⠀⠀⠀⠀⠀⠀⠀⠀⠀⠀⠀⠀⠀⠀⎥\n",
       "⎢⠀⠀⠀⠀⠀⠀⠀⠀⠀⠀⠀⠀⠀⠀⠀⠙⢿⡟⢿⣷⡟⢷⣄⠀⠀⠀⠀⠀⠀⠀⠀⠀⠀⠀⠀⠀⠀⠀⠀⠀⎥\n",
       "⎢⠀⠀⠀⠀⠀⠀⠀⠀⠀⠀⠀⠀⠀⠀⠀⠀⠀⠙⢿⣍⡿⣯⡹⢷⡀⠀⠀⠀⠀⠀⠀⠀⠀⠀⠀⠀⠀⠀⠀⠀⎥\n",
       "⎢⠀⠀⠀⠀⠀⠀⠀⠀⠀⠀⠀⠀⠀⠀⠀⠀⠀⠀⠀⠙⢷⣎⢻⣶⣻⣦⡀⠀⠀⠀⠀⠀⠀⠀⠀⠀⠀⠀⠀⠀⎥\n",
       "⎢⠀⠀⠀⠀⠀⠀⠀⠀⠀⠀⠀⠀⠀⠀⠀⠀⠀⠀⠀⠀⠀⠈⠻⣾⢻⣶⡛⣦⡀⠀⠀⠀⠀⠀⠀⠀⠀⠀⠀⠀⎥\n",
       "⎢⠀⠀⠀⠀⠀⠀⠀⠀⠀⠀⠀⠀⠀⠀⠀⠀⠀⠀⠀⠀⠀⠀⠀⠈⠻⣬⡻⣮⡻⣄⠀⠀⠀⠀⠀⠀⠀⠀⠀⠀⎥\n",
       "⎢⠀⠀⠀⠀⠀⠀⠀⠀⠀⠀⠀⠀⠀⠀⠀⠀⠀⠀⠀⠀⠀⠀⠀⠀⠀⠈⠛⢮⡻⣮⣳⣄⠀⠀⠀⠀⠀⠀⠀⠀⎥\n",
       "⎢⠀⠀⠀⠀⠀⠀⠀⠀⠀⠀⠀⠀⠀⠀⠀⠀⠀⠀⠀⠀⠀⠀⠀⠀⠀⠀⠀⠀⠙⢾⣿⣿⣷⣄⠀⠀⠀⠀⠀⠀⎥\n",
       "⎢⠀⠀⠀⠀⠀⠀⠀⠀⠀⠀⠀⠀⠀⠀⠀⠀⠀⠀⠀⠀⠀⠀⠀⠀⠀⠀⠀⠀⠀⠀⠙⢿⡿⣯⡷⣄⠀⠀⠀⠀⎥\n",
       "⎢⠀⠀⠀⠀⠀⠀⠀⠀⠀⠀⠀⠀⠀⠀⠀⠀⠀⠀⠀⠀⠀⠀⠀⠀⠀⠀⠀⠀⠀⠀⠀⠀⠙⢯⣿⣿⣷⣄⠀⠀⎥\n",
       "⎢⠀⠀⠀⠀⠀⠀⠀⠀⠀⠀⠀⠀⠀⠀⠀⠀⠀⠀⠀⠀⠀⠀⠀⠀⠀⠀⠀⠀⠀⠀⠀⠀⠀⠀⠙⢿⣿⣿⣆⠀⎥\n",
       "⎣⠀⠀⠀⠀⠀⠀⠀⠀⠀⠀⠀⠀⠀⠀⠀⠀⠀⠀⠀⠀⠀⠀⠀⠀⠀⠀⠀⠀⠀⠀⠀⠀⠀⠀⠀⠀⠈⠙⠻⣦⎦"
      ]
     },
     "metadata": {},
     "output_type": "display_data"
    }
   ],
   "source": [
    "display(K)"
   ]
  },
  {
   "cell_type": "code",
   "execution_count": 7,
   "metadata": {},
   "outputs": [],
   "source": [
    "FEM.applyBoundaryConditions!(problem, K, f, [supp])"
   ]
  },
  {
   "cell_type": "code",
   "execution_count": 8,
   "metadata": {},
   "outputs": [
    {
     "data": {
      "text/plain": [
       "LowLevelFEM.StressField([[4.740656924647861; -0.5657008361482938; … ; 0.04176835797451062; 0.933609663262158;;], [3.952558882608753; -0.6250787572164838; … ; 0.06687108900996594; -0.19863630922252118;;], [6.220000879310982; -0.13124817990659957; … ; -0.32952466392517876; 0.1611289412796475;;], [3.715517452093123; -0.20189377555487883; … ; -0.0755744311326703; -0.2762945689344535;;], [1.4002481418231039; -1.7216836812703977; … ; 1.1849813176333017; -0.8556413671497102;;], [0.4448151170117825; -0.5872206409987041; … ; -0.8607750360956232; 0.7145087704231923;;], [4.07419976144905; -0.1048485002579385; … ; -0.04098181963588016; 0.09061465329681251;;], [0.7781750832979147; -0.9203642680419946; … ; -0.798773801253317; -0.36715465641024964;;], [4.761145358698491; 0.1286109574393678; … ; 0.1829461864249958; 0.25532017808423846;;], [4.4354120946280196; 1.2223519941655319; … ; 0.821192705175457; -0.47657688417139793;;]  …  [2.4443856003387943; 0.25415036832944093; … ; 0.013076085783001078; 0.08851406281691798;;], [2.6041604485739427; 0.50517180679544; … ; -0.03329197415074362; 0.08659802784006954;;], [3.8057203836577997; -0.5811827878750567; … ; -0.3584858419472155; -0.1657211858109653;;], [2.441108418166274; -0.38289341372627395; … ; -0.3181449777955768; -1.0414257861867742;;], [2.841400266127173; -0.056918091455466474; … ; 0.043436147816684235; 0.35083214804702423;;], [2.819266824389338; -0.06169607000909883; … ; 0.07685674436983235; 0.32177867322035536;;], [2.7683617018336824; -0.06506717212514575; … ; 0.07180250007666454; 0.3444712479936718;;], [2.68712555565965; -0.06758566059309146; … ; 0.08785609636497763; 0.2526939845905942;;], [3.001490596473917; -0.5266034438669283; … ; 0.08233909896765587; 0.0507872527056894;;], [2.6363440645728944; -0.5063708036718311; … ; 0.030707302338620294; -0.46327942772510133;;]], [133623, 133624, 133625, 133626, 133627, 133628, 133629, 133630, 133631, 133632  …  523260, 523261, 523262, 523263, 523264, 523265, 523266, 523267, 523268, 523269], 1)"
      ]
     },
     "metadata": {},
     "output_type": "display_data"
    }
   ],
   "source": [
    "q = FEM.solveDisplacement(K, f)\n",
    "S = FEM.solveStress(problem, q)"
   ]
  },
  {
   "cell_type": "code",
   "execution_count": 9,
   "metadata": {},
   "outputs": [
    {
     "data": {
      "text/plain": [
       "\"uvec..ok\""
      ]
     },
     "metadata": {},
     "output_type": "display_data"
    },
    {
     "data": {
      "text/plain": [
       "\"ux..ok\""
      ]
     },
     "metadata": {},
     "output_type": "display_data"
    },
    {
     "data": {
      "text/plain": [
       "\"uy..ok\""
      ]
     },
     "metadata": {},
     "output_type": "display_data"
    },
    {
     "data": {
      "text/plain": [
       "\"uz..ok\""
      ]
     },
     "metadata": {},
     "output_type": "display_data"
    },
    {
     "data": {
      "text/plain": [
       "\"s..ok\""
      ]
     },
     "metadata": {},
     "output_type": "display_data"
    },
    {
     "data": {
      "text/plain": [
       "\"sx..ok\""
      ]
     },
     "metadata": {},
     "output_type": "display_data"
    },
    {
     "data": {
      "text/plain": [
       "\"sy..ok\""
      ]
     },
     "metadata": {},
     "output_type": "display_data"
    },
    {
     "data": {
      "text/plain": [
       "\"sz..ok\""
      ]
     },
     "metadata": {},
     "output_type": "display_data"
    },
    {
     "data": {
      "text/plain": [
       "\"sxy..ok\""
      ]
     },
     "metadata": {},
     "output_type": "display_data"
    },
    {
     "data": {
      "text/plain": [
       "\"syz..ok\""
      ]
     },
     "metadata": {},
     "output_type": "display_data"
    },
    {
     "data": {
      "text/plain": [
       "\"szx..ok\""
      ]
     },
     "metadata": {},
     "output_type": "display_data"
    },
    {
     "name": "stdout",
     "output_type": "stream",
     "text": [
      "Info    : Running Plugin(Smooth)...\n",
      "Info    : Done running Plugin(Smooth)\n",
      "Info    : Running Plugin(Smooth)...\n",
      "Info    : Done running Plugin(Smooth)\n",
      "Info    : Running Plugin(Smooth)...\n",
      "Info    : Done running Plugin(Smooth)\n",
      "Info    : Running Plugin(Smooth)...\n",
      "Info    : Done running Plugin(Smooth)\n",
      "Info    : Running Plugin(Smooth)...\n",
      "Info    : Done running Plugin(Smooth)\n",
      "Info    : Running Plugin(Smooth)...\n",
      "Info    : Done running Plugin(Smooth)\n",
      "Info    : Running Plugin(Smooth)...\n",
      "Info    : Done running Plugin(Smooth)\n"
     ]
    },
    {
     "data": {
      "text/plain": [
       "11"
      ]
     },
     "metadata": {},
     "output_type": "display_data"
    }
   ],
   "source": [
    "u = FEM.showDoFResults(problem, q, \"uvec\", name=\"uvec\", visible=false)\n",
    "ux = FEM.showDoFResults(problem, q, \"ux\", name=\"ux\", visible=false)\n",
    "uy = FEM.showDoFResults(problem, q, \"uy\", name=\"uy\", visible=false)\n",
    "uz = FEM.showDoFResults(problem, q, \"uz\", name=\"uz\", visible=false)\n",
    "\n",
    "s = FEM.showStressResults(problem, S, \"s\", name=\"σ\", visible=true, smooth=true)\n",
    "sx = FEM.showStressResults(problem, S, \"sx\", name=\"σx\", visible=false, smooth=true)\n",
    "sy = FEM.showStressResults(problem, S, \"sy\", name=\"σy\", visible=false, smooth=true)\n",
    "sz = FEM.showStressResults(problem, S, \"sz\", name=\"σz\", visible=false, smooth=true)\n",
    "sxy = FEM.showStressResults(problem, S, \"sxy\", name=\"τxy\", visible=false, smooth=true)\n",
    "syz = FEM.showStressResults(problem, S, \"syz\", name=\"τyz\", visible=false, smooth=true)\n",
    "szx = FEM.showStressResults(problem, S, \"szx\", name=\"τzx\", visible=false, smooth=true)"
   ]
  },
  {
   "cell_type": "code",
   "execution_count": 10,
   "metadata": {},
   "outputs": [
    {
     "name": "stdout",
     "output_type": "stream",
     "text": [
      "-------------------------------------------------------\n",
      "Version       : 4.12.2\n",
      "License       : GNU General Public License\n",
      "Build OS      : Linux64-sdk\n",
      "Build date    : 19700101\n",
      "Build host    : amdci7.julia.csail.mit.edu\n",
      "Build options : 64Bit ALGLIB[contrib] ANN[contrib] Bamg Blossom Cairo DIntegration Dlopen DomHex Eigen[contrib] Fltk GMP Gmm[contrib] Hxt Jpeg Kbipack LinuxJoystick MathEx[contrib] Mesh Metis[contrib] Mmg Mpeg Netgen ONELAB ONELABMetamodel OpenCASCADE OpenCASCADE-CAF OpenGL OpenMP OptHom Parser Plugins Png Post QuadMeshingTools QuadTri Solver TetGen/BR Voro++[contrib] WinslowUntangler Zlib\n",
      "FLTK version  : 1.3.8\n",
      "OCC version   : 7.6.2\n",
      "Packaged by   : root\n",
      "Web site      : https://gmsh.info\n",
      "Issue tracker : https://gitlab.onelab.info/gmsh/gmsh/issues\n",
      "-------------------------------------------------------\n"
     ]
    },
    {
     "name": "stderr",
     "output_type": "stream",
     "text": [
      "XOpenIM() failed\n",
      "XRequest.18: BadValue 0x0\n"
     ]
    }
   ],
   "source": [
    "gmsh.fltk.run()"
   ]
  },
  {
   "cell_type": "code",
   "execution_count": 11,
   "metadata": {},
   "outputs": [],
   "source": [
    "gmsh.finalize()"
   ]
  }
 ],
 "metadata": {
  "kernelspec": {
   "display_name": "Julia 1.10.2",
   "language": "julia",
   "name": "julia-1.10"
  },
  "language_info": {
   "file_extension": ".jl",
   "mimetype": "application/julia",
   "name": "julia",
   "version": "1.10.2"
  }
 },
 "nbformat": 4,
 "nbformat_minor": 2
}
