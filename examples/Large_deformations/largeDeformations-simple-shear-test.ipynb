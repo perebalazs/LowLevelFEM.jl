{
 "cells": [
  {
   "cell_type": "code",
   "execution_count": 1,
   "id": "79fd9685",
   "metadata": {},
   "outputs": [],
   "source": [
    "using LowLevelFEM\n",
    "import LowLevelFEM as FEM\n",
    "\n",
    "gmsh.initialize()"
   ]
  },
  {
   "cell_type": "code",
   "execution_count": 2,
   "id": "22283e0a",
   "metadata": {},
   "outputs": [],
   "source": [
    "using SparseArrays, LinearAlgebra"
   ]
  },
  {
   "cell_type": "code",
   "execution_count": 3,
   "id": "fa18250b",
   "metadata": {},
   "outputs": [
    {
     "name": "stdout",
     "output_type": "stream",
     "text": [
      "Info    : Reading 'unit-cube.geo'...\n",
      "Info    : Meshing 1D...\n",
      "Info    : [  0%] Meshing curve 1 (Line)\n",
      "Info    : [ 10%] Meshing curve 2 (Line)\n",
      "Info    : [ 20%] Meshing curve 3 (Line)\n",
      "Info    : [ 30%] Meshing curve 4 (Line)\n",
      "Info    : [ 40%] Meshing curve 5 (Line)\n",
      "Info    : [ 50%] Meshing curve 6 (Line)\n",
      "Info    : [ 60%] Meshing curve 7 (Line)\n",
      "Info    : [ 60%] Meshing curve 8 (Line)\n",
      "Info    : [ 70%] Meshing curve 9 (Line)\n",
      "Info    : [ 80%] Meshing curve 10 (Line)\n",
      "Info    : [ 90%] Meshing curve 11 (Line)\n",
      "Info    : [100%] Meshing curve 12 (Line)\n",
      "Info    : Done meshing 1D (Wall 0.000591301s, CPU 0.000571s)\n",
      "Info    : Meshing 2D...\n",
      "Info    : [  0%] Meshing surface 1 (Transfinite)\n",
      "Info    : [ 20%] Meshing surface 2 (Transfinite)\n",
      "Info    : [ 40%] Meshing surface 3 (Transfinite)\n",
      "Info    : [ 60%] Meshing surface 4 (Transfinite)\n",
      "Info    : [ 70%] Meshing surface 5 (Transfinite)\n",
      "Info    : [ 90%] Meshing surface 6 (Transfinite)\n",
      "Info    : Done meshing 2D (Wall 0.000161045s, CPU 0.000154s)\n",
      "Info    : Meshing 3D...\n",
      "Info    : Meshing volume 1 (Transfinite)\n",
      "Info    : Done meshing 3D (Wall 0.000189612s, CPU 0.00019s)\n",
      "Info    : Optimizing mesh...\n",
      "Info    : Done optimizing mesh (Wall 1.793e-06s, CPU 2e-06s)\n",
      "Info    : Meshing order 2 (curvilinear on)...\n",
      "Info    : [  0%] Meshing curve 1 order 2\n",
      "Info    : [ 10%] Meshing curve 2 order 2\n",
      "Info    : [ 20%] Meshing curve 3 order 2\n",
      "Info    : [ 20%] Meshing curve 4 order 2\n",
      "Info    : [ 30%] Meshing curve 5 order 2\n",
      "Info    : [ 30%] Meshing curve 6 order 2\n",
      "Info    : [ 40%] Meshing curve 7 order 2\n",
      "Info    : [ 40%] Meshing curve 8 order 2\n",
      "Info    : [ 50%] Meshing curve 9 order 2\n",
      "Info    : [ 50%] Meshing curve 10 order 2\n",
      "Info    : [ 60%] Meshing curve 11 order 2\n",
      "Info    : [ 60%] Meshing curve 12 order 2\n",
      "Info    : [ 70%] Meshing surface 1 order 2\n",
      "Info    : [ 70%] Meshing surface 2 order 2\n",
      "Info    : [ 80%] Meshing surface 3 order 2\n",
      "Info    : [ 80%] Meshing surface 4 order 2\n",
      "Info    : [ 90%] Meshing surface 5 order 2\n",
      "Info    : [ 90%] Meshing surface 6 order 2\n",
      "Info    : [100%] Meshing volume 1 order 2\n",
      "Info    : Done meshing order 2 (Wall 0.000802219s, CPU 0.000801s)\n",
      "Info    : 245 nodes 100 elements\n",
      "Info    : Done reading 'unit-cube.geo'\n"
     ]
    }
   ],
   "source": [
    "gmsh.open(\"unit-cube.geo\")"
   ]
  },
  {
   "cell_type": "code",
   "execution_count": 4,
   "id": "936f1fab",
   "metadata": {},
   "outputs": [
    {
     "name": "stdout",
     "output_type": "stream",
     "text": [
      "Info    : RCMK renumbering...\n",
      "Info    : Done RCMK renumbering (bandwidth is now 162)\n",
      "Info    : RCMK renumbering...\n",
      "Info    : Done RCMK renumbering (bandwidth is now 162)\n"
     ]
    },
    {
     "data": {
      "text/plain": [
       "LowLevelFEM.Problem(\"unit-cube\", :Solid, 3, 3, LowLevelFEM.Material[LowLevelFEM.Material(\"body\", :NeoHookeCompressible, 260.0, 0.3, 7.85e-9, 45.0, 4.2e8, 1.2e-5, 150.0, 100.0, 216.66666666666666)], 1.0, 245)"
      ]
     },
     "metadata": {},
     "output_type": "display_data"
    }
   ],
   "source": [
    "hooke = FEM.material(\"body\", E=260, ν=0.3)\n",
    "nonlinear = FEM.material(\"body\", E=260, ν=0.3, type=:StVenantKirchhoff)\n",
    "nonlinear = FEM.material(\"body\", E=260, ν=0.3, type=:NeoHookeCompressible)\n",
    "lin = FEM.Problem([hooke])\n",
    "nonlin = FEM.Problem([nonlinear])"
   ]
  },
  {
   "cell_type": "code",
   "execution_count": 5,
   "id": "0d7a99f9",
   "metadata": {},
   "outputs": [
    {
     "data": {
      "text/plain": [
       "uz (generic function with 1 method)"
      ]
     },
     "metadata": {},
     "output_type": "display_data"
    }
   ],
   "source": [
    "ux(x, y, z) = 0.5 * y * y\n",
    "uy(x, y, z) = 0\n",
    "uz(x, y, z) = 0"
   ]
  },
  {
   "cell_type": "code",
   "execution_count": 6,
   "id": "88e1fd8e",
   "metadata": {},
   "outputs": [
    {
     "data": {
      "text/plain": [
       "LowLevelFEM.VectorField(Matrix{Float64}[], [0.0; 0.0; … ; 0.0; 0.0;;], [0.0], Int64[], 1, :u3D)"
      ]
     },
     "metadata": {},
     "output_type": "display_data"
    }
   ],
   "source": [
    "disp = FEM.field(\"body\", fx=ux, fy=uy, fz=uz)\n",
    "u = FEM.vectorField(lin, [disp])"
   ]
  },
  {
   "cell_type": "code",
   "execution_count": 7,
   "id": "46afbd94",
   "metadata": {},
   "outputs": [
    {
     "data": {
      "text/plain": [
       "1"
      ]
     },
     "metadata": {},
     "output_type": "display_data"
    }
   ],
   "source": [
    "FEM.showDoFResults(lin, u, :vector)"
   ]
  },
  {
   "cell_type": "code",
   "execution_count": 8,
   "id": "16a37c0e",
   "metadata": {},
   "outputs": [
    {
     "data": {
      "text/plain": [
       "LowLevelFEM.TensorField([[-9.71445146547012e-15; 33.33333333333335; … ; 0.0; 0.0;;], [0.0; 33.33333333333334; … ; 0.0; 0.0;;], [-3.885780586188048e-14; 66.66666666666667; … ; 0.0; 0.0;;], [3.885780586188048e-14; 66.66666666666674; … ; 0.0; 0.0;;], [0.0; 99.99999999999991; … ; 0.0; 0.0;;], [0.0; 100.00000000000009; … ; 0.0; 8.326672684688674e-15;;], [0.0; 33.33333333333333; … ; 0.0; 0.0;;], [-9.71445146547012e-15; 33.33333333333333; … ; 0.0; 0.0;;], [3.885780586188048e-14; 66.66666666666663; … ; 0.0; 0.0;;], [-3.885780586188048e-14; 66.66666666666666; … ; 0.0; 0.0;;], [0.0; 100.0; … ; 0.0; 0.0;;], [0.0; 100.0; … ; 0.0; 0.0;;], [0.0; 33.33333333333333; … ; 0.0; 0.0;;], [0.0; 33.33333333333333; … ; 0.0; 0.0;;], [0.0; 66.66666666666663; … ; 0.0; 2.0816681711721685e-15;;], [0.0; 66.66666666666663; … ; 0.0; 0.0;;], [0.0; 100.0; … ; 0.0; 0.0;;], [0.0; 100.0; … ; 0.0; 0.0;;]], Matrix{Float64}(undef, 0, 0), [0.0], [83, 84, 85, 86, 87, 88, 89, 90, 91, 92, 93, 94, 95, 96, 97, 98, 99, 100], 1, :s)"
      ]
     },
     "metadata": {},
     "output_type": "display_data"
    }
   ],
   "source": [
    "A1 = FEM.solveStrain(lin, u)\n",
    "F1 = FEM.solveStress(lin, u)"
   ]
  },
  {
   "cell_type": "code",
   "execution_count": 9,
   "id": "421a8215",
   "metadata": {},
   "outputs": [
    {
     "name": "stdout",
     "output_type": "stream",
     "text": [
      "Info    : Running Plugin(Smooth)...\n",
      "Info    : Done running Plugin(Smooth)\n",
      "Info    : Running Plugin(Smooth)...\n",
      "Info    : Done running Plugin(Smooth)\n",
      "Info    : Running Plugin(Smooth)...\n",
      "Info    : Done running Plugin(Smooth)\n",
      "Info    : Running Plugin(Smooth)...\n",
      "Info    : Done running Plugin(Smooth)\n",
      "Info    : Running Plugin(Smooth)...\n",
      "Info    : Done running Plugin(Smooth)\n",
      "Info    : Running Plugin(Smooth)...\n",
      "Info    : Done running Plugin(Smooth)\n"
     ]
    },
    {
     "data": {
      "text/plain": [
       "7"
      ]
     },
     "metadata": {},
     "output_type": "display_data"
    }
   ],
   "source": [
    "FEM.showElementResults(lin, A1, :ex)\n",
    "FEM.showElementResults(lin, A1, :ey)\n",
    "FEM.showElementResults(lin, A1, :ez)\n",
    "FEM.showElementResults(lin, A1, :exy)\n",
    "FEM.showElementResults(lin, A1, :eyz)\n",
    "FEM.showElementResults(lin, A1, :ezx)"
   ]
  },
  {
   "cell_type": "code",
   "execution_count": 10,
   "id": "fb86e9a2",
   "metadata": {},
   "outputs": [],
   "source": [
    "#r1 = FEM.showDeformationResults(nonlinelast, r, :uvec)"
   ]
  },
  {
   "cell_type": "code",
   "execution_count": 11,
   "id": "addfcb13",
   "metadata": {},
   "outputs": [
    {
     "data": {
      "text/plain": [
       "3×3 Matrix{Float64}:\n",
       "  4.18234e-47  0.25  -7.31853e-32\n",
       "  0.25         0.0    0.0\n",
       " -7.31853e-32  0.0    0.0"
      ]
     },
     "metadata": {},
     "output_type": "display_data"
    }
   ],
   "source": [
    "FEM.probe(A1, 0.5, 0.5, 0.5)"
   ]
  },
  {
   "cell_type": "code",
   "execution_count": 12,
   "id": "2c9a9496",
   "metadata": {},
   "outputs": [
    {
     "data": {
      "text/plain": [
       "LowLevelFEM.VectorField(Matrix{Float64}[], [0.0; 0.0; … ; 0.8333333333333331; 0.8333333333333337;;], [0.0], Int64[], 1, :u3D)"
      ]
     },
     "metadata": {},
     "output_type": "display_data"
    }
   ],
   "source": [
    "R = FEM.nodePositionVector(lin)"
   ]
  },
  {
   "cell_type": "code",
   "execution_count": 13,
   "id": "dd58aedb",
   "metadata": {},
   "outputs": [
    {
     "data": {
      "text/plain": [
       "3×245 Matrix{Float64}:\n",
       " 0.0  0.0  0.0  0.0  2.0  2.0  2.0  2.0  …  1.0       0.5       1.5\n",
       " 0.0  0.0  1.0  1.0  0.0  0.0  1.0  1.0     0.833333  0.833333  0.833333\n",
       " 1.0  0.0  1.0  0.0  1.0  0.0  1.0  0.0     0.833333  0.833333  0.833333"
      ]
     },
     "metadata": {},
     "output_type": "display_data"
    }
   ],
   "source": [
    "reshape(R.a, 3, :)"
   ]
  },
  {
   "cell_type": "code",
   "execution_count": 14,
   "id": "91aaf9cf",
   "metadata": {},
   "outputs": [
    {
     "data": {
      "text/plain": [
       "3×245 Matrix{Float64}:\n",
       " 0.0  0.0  0.5  0.5  0.0  0.0  0.5  …  0.125  0.347222  0.347222  0.347222\n",
       " 0.0  0.0  0.0  0.0  0.0  0.0  0.0     0.0    0.0       0.0       0.0\n",
       " 0.0  0.0  0.0  0.0  0.0  0.0  0.0     0.0    0.0       0.0       0.0"
      ]
     },
     "metadata": {},
     "output_type": "display_data"
    }
   ],
   "source": [
    "reshape(u.a, 3, :)"
   ]
  },
  {
   "cell_type": "code",
   "execution_count": 15,
   "id": "26e8843b",
   "metadata": {},
   "outputs": [
    {
     "data": {
      "text/plain": [
       "LowLevelFEM.VectorField(Matrix{Float64}[], [0.0; 0.0; … ; 0.8333333333333331; 0.8333333333333337;;], [0.0], Int64[], 1, :u3D)"
      ]
     },
     "metadata": {},
     "output_type": "display_data"
    }
   ],
   "source": [
    "r = R + u"
   ]
  },
  {
   "cell_type": "code",
   "execution_count": 16,
   "id": "3402cc5f",
   "metadata": {},
   "outputs": [
    {
     "data": {
      "text/plain": [
       "LowLevelFEM.VectorField([[1.5; 1.0; … ; 0.8333333333333331; 0.8333333333333337;;], [1.5; 1.0; … ; 0.8333333333333331; 0.8333333333333337;;], [1.5; 1.0; … ; 0.8333333333333331; 0.8333333333333337;;], [1.5; 1.0; … ; 0.8333333333333331; 0.8333333333333337;;], [1.5; 1.0; … ; 0.8333333333333331; 0.8333333333333337;;], [1.5; 1.0; … ; 0.8333333333333331; 0.8333333333333337;;], [1.5; 1.0; … ; 0.8333333333333331; 0.8333333333333337;;], [1.5; 1.0; … ; 0.8333333333333331; 0.8333333333333337;;], [1.5; 1.0; … ; 0.8333333333333331; 0.8333333333333337;;], [1.5; 1.0; … ; 0.8333333333333331; 0.8333333333333337;;], [1.5; 1.0; … ; 0.8333333333333331; 0.8333333333333337;;], [1.5; 1.0; … ; 0.8333333333333331; 0.8333333333333337;;], [1.5; 1.0; … ; 0.8333333333333331; 0.8333333333333337;;], [1.5; 1.0; … ; 0.8333333333333331; 0.8333333333333337;;], [1.5; 1.0; … ; 0.8333333333333331; 0.8333333333333337;;], [1.5; 1.0; … ; 0.8333333333333331; 0.8333333333333337;;], [1.5; 1.0; … ; 0.8333333333333331; 0.8333333333333337;;], [1.5; 1.0; … ; 0.8333333333333331; 0.8333333333333337;;]], Matrix{Float64}(undef, 0, 0), [0.0], [83, 84, 85, 86, 87, 88, 89, 90, 91, 92, 93, 94, 95, 96, 97, 98, 99, 100], 1, :q3D)"
      ]
     },
     "metadata": {},
     "output_type": "display_data"
    }
   ],
   "source": [
    "problem = lin\n",
    "\n",
    "dim = problem.dim\n",
    "pdim = problem.pdim\n",
    "nsteps = r.nsteps\n",
    "numElem = []\n",
    "v = []\n",
    "\n",
    "for ipg in 1:length(problem.material)\n",
    "    phName = problem.material[ipg].phName\n",
    "    dim = problem.dim\n",
    "    pdim = problem.pdim\n",
    "    if problem.dim != 3 || problem.type != :Solid\n",
    "        error(\"deformationGradient: dimension is $(problem.dim), problem type is $(problem.type). (They must be 3 and :Solid.)\")\n",
    "    end\n",
    "\n",
    "    dimTags = gmsh.model.getEntitiesForPhysicalName(phName)\n",
    "    for idm in 1:length(dimTags)\n",
    "        dimTag = dimTags[idm]\n",
    "        edim = dimTag[1]\n",
    "        etag = dimTag[2]\n",
    "        elemTypes, elemTags, elemNodeTags = gmsh.model.mesh.getElements(edim, etag)\n",
    "        for i in 1:length(elemTypes)\n",
    "            et = elemTypes[i]\n",
    "            elementName, dim, order, numNodes::Int64, localNodeCoord, numPrimaryNodes = gmsh.model.mesh.getElementProperties(et)\n",
    "            comp, dfun, ori = gmsh.model.mesh.getBasisFunctions(et, localNodeCoord, \"Lagrange\")\n",
    "            #display(\"localNodeCoord:\")\n",
    "            #display(reshape(localNodeCoord, 3, :))\n",
    "            v1 = zeros(3numNodes, nsteps)\n",
    "            h = reshape(dfun, :, numNodes)\n",
    "            H = spzeros(3 * numNodes, 3 * numNodes)\n",
    "            sizehint!(H, 3 * numNodes * numNodes)\n",
    "            for k in 1:numNodes, l in 1:numNodes\n",
    "                for kk in 1:3\n",
    "                    #H[k*3-(3-kk), l*3-(3-kk)] = h[(k-1)*numNodes+l]\n",
    "                    H[k*3-(3-kk), l*3-(3-kk)] = h[k, l]\n",
    "                end\n",
    "            end\n",
    "            nnet = zeros(Int, length(elemTags[i]), numNodes)\n",
    "            nn2 = zeros(Int, pdim * numNodes)\n",
    "            for j in 1:length(elemTags[i])\n",
    "                elem = elemTags[i][j]\n",
    "                for k in 1:numNodes\n",
    "                    nnet[j, k] = elemNodeTags[i][(j-1)*numNodes+k]\n",
    "                end\n",
    "                #display(\"nnet: $(nnet[j,:])\")\n",
    "                for k in 1:pdim\n",
    "                    nn2[k:pdim:pdim*numNodes] = pdim * nnet[j, :] .- (pdim - k)\n",
    "                end\n",
    "                #display(\"nn2: $(nn2')\")\n",
    "                push!(numElem, elem)\n",
    "                for k in 1:numNodes\n",
    "                    H1 = H[3k-(3-1):3k, 1:pdim*numNodes]\n",
    "                    for kk in 1:nsteps\n",
    "                        v0 = H1 * r.a[nn2, kk]\n",
    "                        #display(\"v0 = $v0\")\n",
    "                        v1[3k-(3-1):3k, kk] .= [v0[1]; v0[2]; v0[3]]\n",
    "                        #v1[3k-(3-1):3k, kk] = [k, v0[2], v0[3]]\n",
    "                    end\n",
    "                end\n",
    "                #display(reshape(v1, 3, :))\n",
    "                push!(v, v1)\n",
    "            end\n",
    "        end\n",
    "    end\n",
    "end\n",
    "ret = FEM.VectorField(v, [;;], r.t, numElem, nsteps, :q3D)\n"
   ]
  },
  {
   "cell_type": "code",
   "execution_count": 17,
   "id": "efef879a",
   "metadata": {},
   "outputs": [
    {
     "data": {
      "text/plain": [
       "LowLevelFEM.TensorField([[-2.7755575615628914e-17; 0.0; … ; 0.0; 0.0;;], [0.0; 0.0; … ; 0.0; 0.0;;], [-1.1102230246251565e-16; 0.0; … ; 0.0; 0.0;;], [1.1102230246251565e-16; 0.0; … ; 0.0; 0.0;;], [0.0; 0.0; … ; 0.0; 0.0;;], [0.0; 0.0; … ; 0.0; 0.0;;], [0.0; 0.0; … ; 0.0; 0.0;;], [-2.7755575615628914e-17; 0.0; … ; 0.0; 0.0;;], [1.1102230246251565e-16; 0.0; … ; 0.0; 0.0;;], [-1.1102230246251565e-16; 0.0; … ; 0.0; 0.0;;], [0.0; 0.0; … ; 0.0; 0.0;;], [0.0; 0.0; … ; 0.0; 0.0;;], [0.0; 0.0; … ; 0.0; 0.0;;], [0.0; 0.0; … ; 0.0; 0.0;;], [0.0; 0.0; … ; 0.0; 0.0;;], [0.0; 0.0; … ; 0.0; 0.0;;], [0.0; 0.0; … ; 0.0; 0.0;;], [0.0; 0.0; … ; 0.0; 0.0;;]], Matrix{Float64}(undef, 0, 0), [0.0], [83, 84, 85, 86, 87, 88, 89, 90, 91, 92, 93, 94, 95, 96, 97, 98, 99, 100], 1, :e)"
      ]
     },
     "metadata": {},
     "output_type": "display_data"
    }
   ],
   "source": [
    "q = u\n",
    "DoFResults = false\n",
    "\n",
    "    nsteps = q.nsteps\n",
    "    ε = []\n",
    "    numElem = Int[]\n",
    "    ncoord2 = zeros(3 * problem.non)\n",
    "    dim = problem.dim\n",
    "    pdim = problem.pdim\n",
    "    non = problem.non\n",
    "    type = :e\n",
    "    if DoFResults == true\n",
    "        E1 = zeros(non * 9, nsteps)\n",
    "        pcs = zeros(Int64, non * dim)\n",
    "    end\n",
    "\n",
    "    for ipg in 1:length(problem.material)\n",
    "        phName = problem.material[ipg].phName\n",
    "        ν = problem.material[ipg].ν\n",
    "        dim = 0\n",
    "        if problem.dim == 3 && problem.type == :Solid\n",
    "            dim = 3\n",
    "            rowsOfB = 9\n",
    "            b = 1\n",
    "        elseif problem.dim == 2 && problem.type == :PlaneStress\n",
    "            dim = 2\n",
    "            rowsOfB = 3\n",
    "            b = problem.thickness\n",
    "        elseif problem.dim == 2 && problem.type == :PlaneStrain\n",
    "            dim = 2\n",
    "            rowsOfB = 3\n",
    "            b = 1\n",
    "        elseif problem.dim == 2 && problem.type == :AxiSymmetric\n",
    "            dim = 2\n",
    "            rowsOfB = 4\n",
    "            b = 1\n",
    "        else\n",
    "            error(\"solveStrain: dimension is $(problem.dim), problem type is $(problem.type).\")\n",
    "        end\n",
    "\n",
    "        dimTags = gmsh.model.getEntitiesForPhysicalName(phName)\n",
    "        for idm in 1:length(dimTags)\n",
    "            dimTag = dimTags[idm]\n",
    "            edim = dimTag[1]\n",
    "            etag = dimTag[2]\n",
    "            elemTypes, elemTags, elemNodeTags = gmsh.model.mesh.getElements(edim, etag)\n",
    "            nodeTags, ncoord, parametricCoord = gmsh.model.mesh.getNodes(dim, -1, true, false)\n",
    "            ncoord2[nodeTags*3 .- 2] = ncoord[1:3:length(ncoord)]\n",
    "            ncoord2[nodeTags*3 .- 1] = ncoord[2:3:length(ncoord)]\n",
    "            ncoord2[nodeTags*3 .- 0] = ncoord[3:3:length(ncoord)]\n",
    "            for i in 1:length(elemTypes)\n",
    "                et = elemTypes[i]\n",
    "                elementName, dim, order, numNodes::Int64, localNodeCoord, numPrimaryNodes = gmsh.model.mesh.getElementProperties(et)\n",
    "                #e0 = zeros(rowsOfB * numNodes)\n",
    "                nodeCoord = zeros(numNodes * 3)\n",
    "                for k in 1:dim, j = 1:numNodes\n",
    "                    nodeCoord[k+(j-1)*3] = localNodeCoord[k+(j-1)*dim]\n",
    "                end\n",
    "                comp, dfun, ori = gmsh.model.mesh.getBasisFunctions(et, nodeCoord, \"GradLagrange\")\n",
    "                ∇h = reshape(dfun, :, numNodes)\n",
    "                comp, fun, ori = gmsh.model.mesh.getBasisFunctions(et, nodeCoord, \"Lagrange\")\n",
    "                h = reshape(fun, :, numNodes)\n",
    "                nnet = zeros(Int, length(elemTags[i]), numNodes)\n",
    "                invJac = zeros(3, 3numNodes)\n",
    "                ∂h = zeros(3, numNodes * numNodes)\n",
    "                B = zeros(rowsOfB * numNodes, pdim * numNodes)\n",
    "                nn2 = zeros(Int, pdim * numNodes)\n",
    "                r = zeros(numNodes)\n",
    "                for j in 1:length(elemTags[i])\n",
    "                    elem = elemTags[i][j]\n",
    "                    for k in 1:numNodes\n",
    "                        nnet[j, k] = elemNodeTags[i][(j-1)*numNodes+k]\n",
    "                    end\n",
    "                    jac, jacDet, coord = gmsh.model.mesh.getJacobian(elem, nodeCoord)\n",
    "                    Jac = reshape(jac, 3, :)\n",
    "                    for k in 1:numNodes\n",
    "                        invJac[1:3, 3*k-2:3*k] = inv(Jac[1:3, 3*k-2:3*k])'\n",
    "                        r[k] = h[:, k]' * ncoord2[nnet[j, :] * 3 .- 2]\n",
    "                    end\n",
    "                    ∂h .*= 0\n",
    "                    for k in 1:numNodes, l in 1:numNodes\n",
    "                        ∂h[1:dim, (k-1)*numNodes+l] = invJac[1:dim, k*3-2:k*3-(3-dim)] * ∇h[l*3-2:l*3-(3-dim), k] #??????????????????\n",
    "                    end\n",
    "                    B .*= 0\n",
    "                    if dim == 2 && rowsOfB == 3\n",
    "                        for k in 1:numNodes, l in 1:numNodes\n",
    "                            B[k*3-0, l*2-0] = B[k*3-2, l*2-1] = ∂h[1, (k-1)*numNodes+l]\n",
    "                            B[k*3-0, l*2-1] = B[k*3-1, l*2-0] = ∂h[2, (k-1)*numNodes+l]\n",
    "                        end\n",
    "                    elseif dim == 3 && rowsOfB == 9\n",
    "                        for k in 1:numNodes, l in 1:numNodes\n",
    "                            B[k*9-(9-1), l*3-(3-1)] = B[k*9-(9-2), l*3-(3-2)] = B[k*9-(9-3), l*3-(3-3)] = ∂h[1, (k-1)*numNodes+l]\n",
    "                            B[k*9-(9-4), l*3-(3-1)] = B[k*9-(9-5), l*3-(3-2)] = B[k*9-(9-6), l*3-(3-3)] = ∂h[2, (k-1)*numNodes+l]\n",
    "                            B[k*9-(9-7), l*3-(3-1)] = B[k*9-(9-8), l*3-(3-2)] = B[k*9-(9-9), l*3-(3-3)] = ∂h[3, (k-1)*numNodes+l]\n",
    "                        end\n",
    "                    elseif dim == 2 && rowsOfB == 4\n",
    "                        for k in 1:numNodes, l in 1:numNodes\n",
    "                            B[k*4-3, l*2-1] = B[k*4-0, l*2-0] = ∂h[1, (k-1)*numNodes+l]\n",
    "                            B[k*4-1, l*2-0] = B[k*4-0, l*2-1] = ∂h[2, (k-1)*numNodes+l]\n",
    "                            B[k*4-2, l*2-1] = r[k] < 1e-10 ? 0 : h[l, k] / r[k]\n",
    "                        end\n",
    "                    else\n",
    "                        error(\"solveStrain: rows of B is $rowsOfB, dimension of the problem is $dim.\")\n",
    "                    end\n",
    "                    push!(numElem, elem)\n",
    "                    for k in 1:dim\n",
    "                        nn2[k:dim:dim*numNodes] = dim * nnet[j, 1:numNodes] .- (dim - k)\n",
    "                    end\n",
    "                    e = zeros(9numNodes, nsteps) # tensors have nine elements\n",
    "                    for k in 1:numNodes\n",
    "                        if rowsOfB == 9 && dim == 3 && problem.type == :Solid\n",
    "                            B1 = B[k*9-8:k*9, 1:3*numNodes]\n",
    "                            for kk in 1:nsteps\n",
    "                                e0 = B1 * q.a[nn2, kk]\n",
    "                                if DoFResults == false\n",
    "                                    e[(k-1)*9+1:k*9, kk] = [e0[1], e0[2], e0[3],\n",
    "                                        e0[4], e0[5], e0[6],\n",
    "                                        e0[7], e0[8], e0[9]]\n",
    "                                end\n",
    "                                if DoFResults == true\n",
    "                                    E1[9*nnet[j, k]-8:9*nnet[j,k], kk] .+= [e0[1], e0[2], e0[3], e0[4], e0[5], e0[6], e0[7], e0[8], e0[9]]\n",
    "                                end\n",
    "                            end\n",
    "                        elseif rowsOfB == 3 && dim == 2 && problem.type == :PlaneStress\n",
    "                            B1 = B[k*3-2:k*3, 1:2*numNodes]\n",
    "                            for kk in 1:nsteps\n",
    "                                e0 = B1 * q.a[nn2, kk]\n",
    "                                if DoFResults == false\n",
    "                                    e[(k-1)*9+1:k*9, kk] = [e0[1], e0[3]/2, 0,\n",
    "                                        e0[3]/2, e0[2], 0,\n",
    "                                        0, 0, ν/(ν-1)*(e0[1]+e0[2])]\n",
    "                                end\n",
    "                                if DoFResults == true\n",
    "                                    E1[9*nnet[j, k]-8:9*nnet[j,k], kk] .+= [e0[1], e0[3], 0, e0[3], e0[2], 0, 0, 0, ν/(ν-1)*(e0[1]+e0[2])]\n",
    "                                end\n",
    "                            end\n",
    "                        elseif rowsOfB == 3 && dim == 2 && problem.type == :PlaneStrain\n",
    "                            B1 = B[k*3-2:k*3, 1:2*numNodes]\n",
    "                            for kk in 1:nsteps\n",
    "                                e0 = B1 * q.a[nn2, kk]\n",
    "                                if DoFResults == false\n",
    "                                    e[(k-1)*9+1:k*9, kk] = [e0[1], e0[3]/2, 0,\n",
    "                                        e0[3]/2, e0[2], 0,\n",
    "                                        0, 0, 0]\n",
    "                                end\n",
    "                                if DoFResults == true\n",
    "                                    E1[9*nnet[j, k]-8:9*nnet[j,k], kk] .+= [e0[1], e0[3], 0, e0[3], e0[2], 0, 0, 0, 0]\n",
    "                                end\n",
    "                            end\n",
    "                        elseif rowsOfB == 4 && dim == 2 && problem.type == :AxiSymmetric\n",
    "                            B1 = B[k*4-3:k*4, 1:2*numNodes]\n",
    "                            for kk in 1:nsteps\n",
    "                                e0 = B1 * q.a[nn2, kk]\n",
    "                                if DoFResults == false\n",
    "                                    e[(k-1)*9+1:k*9, kk] = [e0[1], e0[4]/2, 0,\n",
    "                                        e0[4]/2, e0[3], 0,\n",
    "                                        0, 0, e0[2]]\n",
    "                                end\n",
    "                                if DoFResults == true\n",
    "                                    E1[9*nnet[j, k]-8:9*nnet[j,k], kk] .+= [e0[1], e0[4], 0, e0[4], e0[3], 0, 0, 0, e0[2]]\n",
    "                                end\n",
    "                            end\n",
    "                        else\n",
    "                            error(\"solveStrain: rowsOfB is $rowsOfB, dimension of the problem is $dim, problem type is $(problem.type).\")\n",
    "                        end\n",
    "                    end\n",
    "                    if DoFResults == true\n",
    "                        pcs[nnet[j,1:numNodes]] .+= 1\n",
    "                    end\n",
    "                    if DoFResults == false\n",
    "                        push!(ε, e)\n",
    "                    end\n",
    "                end\n",
    "            end\n",
    "        end\n",
    "    end\n",
    "    if DoFResults == true\n",
    "        for k in 1:9\n",
    "            for l in 1:non\n",
    "                E1[k + 9 * l - 9, :] ./= pcs[l]\n",
    "            end\n",
    "        end\n",
    "    end\n",
    "    if DoFResults == true\n",
    "        epsilon = FEM.TensorField([], E1, q.t, [], nsteps, type)\n",
    "        #return epsilon\n",
    "    else\n",
    "        epsilon = FEM.TensorField(ε, [;;], q.t, numElem, nsteps, type)\n",
    "        #return epsilon\n",
    "    end\n",
    "\n",
    "\n"
   ]
  },
  {
   "cell_type": "code",
   "execution_count": 18,
   "id": "325f030e",
   "metadata": {},
   "outputs": [
    {
     "data": {
      "text/plain": [
       "3×3 Matrix{Float64}:\n",
       " 4.18234e-47  0.5  -1.46371e-31\n",
       " 0.0          0.0   0.0\n",
       " 0.0          0.0   0.0"
      ]
     },
     "metadata": {},
     "output_type": "display_data"
    }
   ],
   "source": [
    "FEM.probe(epsilon, 0.5, 0.5, 0.5)"
   ]
  },
  {
   "cell_type": "code",
   "execution_count": 19,
   "id": "c75c1e23",
   "metadata": {},
   "outputs": [
    {
     "name": "stdout",
     "output_type": "stream",
     "text": [
      "Info    : Running Plugin(Smooth)...\n",
      "Info    : Done running Plugin(Smooth)\n"
     ]
    },
    {
     "data": {
      "text/plain": [
       "8"
      ]
     },
     "metadata": {},
     "output_type": "display_data"
    }
   ],
   "source": [
    "ret3 = FEM.showElementResults(problem, epsilon, :exy, name=\"new\")"
   ]
  },
  {
   "cell_type": "code",
   "execution_count": 20,
   "id": "f7084b1a",
   "metadata": {},
   "outputs": [
    {
     "data": {
      "text/plain": [
       "LowLevelFEM.VectorField(Matrix{Float64}[], [1.2222222222222223; 0.6666666666666666; … ; 0.8333333333333331; 0.8333333333333337;;], [0.0], Int64[], 1, :q3D)"
      ]
     },
     "metadata": {},
     "output_type": "display_data"
    }
   ],
   "source": [
    "ret2 = FEM.elementsToNodes(problem, ret)"
   ]
  },
  {
   "cell_type": "code",
   "execution_count": 21,
   "id": "d474e74d",
   "metadata": {},
   "outputs": [
    {
     "data": {
      "text/plain": [
       "9"
      ]
     },
     "metadata": {},
     "output_type": "display_data"
    }
   ],
   "source": [
    "FEM.showDeformationResults(problem, ret2, :qvec, name=\"test\")"
   ]
  },
  {
   "cell_type": "code",
   "execution_count": 22,
   "id": "6c21f557",
   "metadata": {},
   "outputs": [
    {
     "data": {
      "text/plain": [
       "10"
      ]
     },
     "metadata": {},
     "output_type": "display_data"
    }
   ],
   "source": [
    "FEM.showDeformationResults(problem, ret2, :vector, name=\"elementsToNodes\")"
   ]
  },
  {
   "cell_type": "code",
   "execution_count": 23,
   "id": "8974139b",
   "metadata": {},
   "outputs": [
    {
     "ename": "ErrorException",
     "evalue": "type Array has no field a",
     "output_type": "error",
     "traceback": [
      "type Array has no field a\n",
      "\n",
      "Stacktrace:\n",
      " [1] getproperty\n",
      "   @ ./Base.jl:49 [inlined]\n",
      " [2] showDeformationResults(problem::LowLevelFEM.Problem, r::Vector{Float64}, comp::Symbol; name::String, visible::Bool)\n",
      "   @ LowLevelFEM ~/Dokumentumok/GitHub/LowLevelFEM.jl/src/nonlinear.jl:1318\n",
      " [3] top-level scope\n",
      "   @ ~/Dokumentumok/GitHub/LowLevelFEM.jl/examples/Large_deformations/jl_notebook_cell_df34fa98e69747e1a8f8a730347b8e2f_X25sZmlsZQ==.jl:1"
     ]
    }
   ],
   "source": [
    "FEM.showDeformationResults(problem, r, :vector, name=\"r-orig\")"
   ]
  },
  {
   "cell_type": "code",
   "execution_count": 24,
   "id": "cf3c0e93",
   "metadata": {},
   "outputs": [
    {
     "ename": "UndefVarError",
     "evalue": "UndefVarError: `q` not defined in `LowLevelFEM`\nSuggestion: check for spelling errors or missing imports.",
     "output_type": "error",
     "traceback": [
      "UndefVarError: `q` not defined in `LowLevelFEM`\n",
      "Suggestion: check for spelling errors or missing imports.\n",
      "\n",
      "Stacktrace:\n",
      " [1] deformationGradient(problem::LowLevelFEM.Problem, r::LowLevelFEM.VectorField)\n",
      "   @ LowLevelFEM ~/Dokumentumok/GitHub/LowLevelFEM.jl/src/nonlinear.jl:30\n",
      " [2] top-level scope\n",
      "   @ ~/Dokumentumok/GitHub/LowLevelFEM.jl/examples/Large_deformations/jl_notebook_cell_df34fa98e69747e1a8f8a730347b8e2f_X26sZmlsZQ==.jl:1"
     ]
    }
   ],
   "source": [
    "D = FEM.deformationGradient(lin, u)"
   ]
  },
  {
   "cell_type": "code",
   "execution_count": 25,
   "id": "ef5a437c",
   "metadata": {},
   "outputs": [
    {
     "data": {
      "text/plain": [
       "(-1.0, -19.0, 38.0)"
      ]
     },
     "metadata": {},
     "output_type": "display_data"
    }
   ],
   "source": [
    "gmsh.model.mesh.getLocalCoordinatesInElement(27, 0, 0, 0)"
   ]
  },
  {
   "cell_type": "code",
   "execution_count": 26,
   "id": "1fab7fca",
   "metadata": {},
   "outputs": [
    {
     "ename": "UndefVarError",
     "evalue": "UndefVarError: `D` not defined in `Main`\nSuggestion: check for spelling errors or missing imports.",
     "output_type": "error",
     "traceback": [
      "UndefVarError: `D` not defined in `Main`\n",
      "Suggestion: check for spelling errors or missing imports.\n",
      "\n",
      "Stacktrace:\n",
      " [1] top-level scope\n",
      "   @ ~/Dokumentumok/GitHub/LowLevelFEM.jl/examples/Large_deformations/jl_notebook_cell_df34fa98e69747e1a8f8a730347b8e2f_X31sZmlsZQ==.jl:1"
     ]
    }
   ],
   "source": [
    "FEM.probe(D, 0.5, 0.5, 0.5)"
   ]
  },
  {
   "cell_type": "code",
   "execution_count": 27,
   "id": "dffda210",
   "metadata": {},
   "outputs": [
    {
     "data": {
      "text/plain": [
       "LowLevelFEM.TensorField([[-2.7755575615628914e-17; 0.16666666666666674; … ; 0.0; 0.0;;], [0.0; 0.1666666666666667; … ; 0.0; 0.0;;], [-1.1102230246251565e-16; 0.33333333333333337; … ; 0.0; 0.0;;], [1.1102230246251565e-16; 0.3333333333333337; … ; 0.0; 0.0;;], [0.0; 0.49999999999999956; … ; 0.0; 0.0;;], [0.0; 0.5000000000000004; … ; 0.0; 0.0;;], [0.0; 0.16666666666666663; … ; 0.0; 0.0;;], [-2.7755575615628914e-17; 0.16666666666666663; … ; 0.0; 0.0;;], [1.1102230246251565e-16; 0.33333333333333315; … ; 0.0; 0.0;;], [-1.1102230246251565e-16; 0.33333333333333326; … ; 0.0; 0.0;;], [0.0; 0.5; … ; 0.0; 0.0;;], [0.0; 0.5; … ; 0.0; 0.0;;], [0.0; 0.16666666666666663; … ; 0.0; 0.0;;], [0.0; 0.16666666666666663; … ; 0.0; 0.0;;], [0.0; 0.33333333333333315; … ; 0.0; 0.0;;], [0.0; 0.33333333333333315; … ; 0.0; 0.0;;], [0.0; 0.5; … ; 0.0; 0.0;;], [0.0; 0.5; … ; 0.0; 0.0;;]], Matrix{Float64}(undef, 0, 0), [0.0], [83, 84, 85, 86, 87, 88, 89, 90, 91, 92, 93, 94, 95, 96, 97, 98, 99, 100], 1, :e)"
      ]
     },
     "metadata": {},
     "output_type": "display_data"
    }
   ],
   "source": [
    "D = epsilon\n",
    "A2 = (D + D') / 2"
   ]
  },
  {
   "cell_type": "code",
   "execution_count": 28,
   "id": "20e9cef8",
   "metadata": {},
   "outputs": [
    {
     "data": {
      "text/plain": [
       "3×3 Matrix{Float64}:\n",
       "  4.18234e-47  0.25  -7.31853e-32\n",
       "  0.25         0.0    0.0\n",
       " -7.31853e-32  0.0    0.0"
      ]
     },
     "metadata": {},
     "output_type": "display_data"
    }
   ],
   "source": [
    "FEM.probe(A1, 0.5, 0.5, 0.5)\n"
   ]
  },
  {
   "cell_type": "code",
   "execution_count": 29,
   "id": "135b2369",
   "metadata": {},
   "outputs": [
    {
     "data": {
      "text/plain": [
       "3×3 Matrix{Float64}:\n",
       "  4.18234e-47  0.25  -7.31853e-32\n",
       "  0.25         0.0    0.0\n",
       " -7.31853e-32  0.0    0.0"
      ]
     },
     "metadata": {},
     "output_type": "display_data"
    }
   ],
   "source": [
    "FEM.probe(A2, 0.5, 0.5, 0.5)"
   ]
  },
  {
   "cell_type": "code",
   "execution_count": 30,
   "id": "c373379d",
   "metadata": {},
   "outputs": [
    {
     "data": {
      "text/plain": [
       "LowLevelFEM.TensorField(Matrix{Float64}[], [0.0; 0.0; … ; 0.0; 0.0;;], [0.0], Int64[], 1, :e)"
      ]
     },
     "metadata": {},
     "output_type": "display_data"
    }
   ],
   "source": [
    "A3 = FEM.elementsToNodes(problem, A2)"
   ]
  },
  {
   "cell_type": "code",
   "execution_count": 31,
   "id": "f00f76fb",
   "metadata": {},
   "outputs": [
    {
     "data": {
      "text/plain": [
       "3×3 Matrix{Float64}:\n",
       "  4.62223e-33  0.25  -3.62075e-32\n",
       "  0.25         0.0    0.0\n",
       " -3.62075e-32  0.0    0.0"
      ]
     },
     "metadata": {},
     "output_type": "display_data"
    }
   ],
   "source": [
    "FEM.probe(A3, 0.5, 0.5, 0.5)"
   ]
  },
  {
   "cell_type": "code",
   "execution_count": 32,
   "id": "ff936cee",
   "metadata": {},
   "outputs": [
    {
     "data": {
      "text/plain": [
       "LowLevelFEM.TensorField([[-5.551115123125783e-15; 33.33333333333335; … ; 0.0; 0.0;;], [0.0; 33.33333333333334; … ; 0.0; 0.0;;], [-2.220446049250313e-14; 66.66666666666667; … ; 0.0; 0.0;;], [2.220446049250313e-14; 66.66666666666674; … ; 0.0; 0.0;;], [0.0; 99.99999999999991; … ; 0.0; 0.0;;], [0.0; 100.00000000000009; … ; 0.0; 0.0;;], [0.0; 33.33333333333333; … ; 0.0; 0.0;;], [-5.551115123125783e-15; 33.33333333333333; … ; 0.0; 0.0;;], [2.220446049250313e-14; 66.66666666666663; … ; 0.0; 0.0;;], [-2.220446049250313e-14; 66.66666666666666; … ; 0.0; 0.0;;], [0.0; 100.0; … ; 0.0; 0.0;;], [0.0; 100.0; … ; 0.0; 0.0;;], [0.0; 33.33333333333333; … ; 0.0; 0.0;;], [0.0; 33.33333333333333; … ; 0.0; 0.0;;], [0.0; 66.66666666666663; … ; 0.0; 0.0;;], [0.0; 66.66666666666663; … ; 0.0; 0.0;;], [0.0; 100.0; … ; 0.0; 0.0;;], [0.0; 100.0; … ; 0.0; 0.0;;]], Matrix{Float64}(undef, 0, 0), [0.0], [83, 84, 85, 86, 87, 88, 89, 90, 91, 92, 93, 94, 95, 96, 97, 98, 99, 100], 1, :e)"
      ]
     },
     "metadata": {},
     "output_type": "display_data"
    }
   ],
   "source": [
    "Ex = lin.material[1].E\n",
    "ν = lin.material[1].ν\n",
    "I = unitTensor(A2)\n",
    "F2 = Ex / (1 + ν) * (A2 + ν / (1 - 2ν) * I * trace(A2))"
   ]
  },
  {
   "cell_type": "code",
   "execution_count": 33,
   "id": "f43fff8d",
   "metadata": {},
   "outputs": [
    {
     "data": {
      "text/plain": [
       "3×3 Matrix{Float64}:\n",
       " -2.31112e-31  50.0          -1.46371e-29\n",
       " 50.0          -2.31112e-31   0.0\n",
       " -1.46371e-29   0.0          -2.31112e-31"
      ]
     },
     "metadata": {},
     "output_type": "display_data"
    }
   ],
   "source": [
    "FEM.probe(F2, 0.5, 0.5, 0.5)"
   ]
  },
  {
   "cell_type": "code",
   "execution_count": 34,
   "id": "c4c94d7a",
   "metadata": {},
   "outputs": [
    {
     "name": "stdout",
     "output_type": "stream",
     "text": [
      "Info    : Running Plugin(Smooth)...\n",
      "Info    : Done running Plugin(Smooth)\n",
      "Info    : Running Plugin(Smooth)...\n",
      "Info    : Done running Plugin(Smooth)\n",
      "Info    : Running Plugin(Smooth)...\n",
      "Info    : Done running Plugin(Smooth)\n",
      "Info    : Running Plugin(Smooth)...\n",
      "Info    : Done running Plugin(Smooth)\n",
      "Info    : Running Plugin(Smooth)...\n",
      "Info    : Done running Plugin(Smooth)\n",
      "Info    : Running Plugin(Smooth)...\n",
      "Info    : Done running Plugin(Smooth)\n"
     ]
    },
    {
     "data": {
      "text/plain": [
       "16"
      ]
     },
     "metadata": {},
     "output_type": "display_data"
    }
   ],
   "source": [
    "FEM.showElementResults(lin, A2, :ex)\n",
    "FEM.showElementResults(lin, A2, :ey)\n",
    "FEM.showElementResults(lin, A2, :ez)\n",
    "FEM.showElementResults(lin, A2, :exy)\n",
    "FEM.showElementResults(lin, A2, :eyz)\n",
    "FEM.showElementResults(lin, A2, :ezx)"
   ]
  },
  {
   "cell_type": "code",
   "execution_count": 35,
   "id": "32bc3809",
   "metadata": {},
   "outputs": [
    {
     "name": "stdout",
     "output_type": "stream",
     "text": [
      "-------------------------------------------------------\n",
      "Version       : 4.13.1\n",
      "License       : GNU General Public License\n",
      "Build OS      : Linux64-sdk\n",
      "Build date    : 19700101\n",
      "Build host    : amdci7.julia.csail.mit.edu\n",
      "Build options : 64Bit ALGLIB[contrib] ANN[contrib] Bamg Blossom Cairo DIntegration Dlopen DomHex Eigen[contrib] Fltk GMP Gmm[contrib] Hxt Jpeg Kbipack LinuxJoystick MathEx[contrib] Mesh Metis[contrib] Mmg Mpeg Netgen Nii2mesh ONELAB ONELABMetamodel OpenCASCADE OpenCASCADE-CAF OpenGL OpenMP OptHom Parser Plugins Png Post QuadMeshingTools QuadTri Solver TetGen/BR TinyXML2[contrib] Untangle Voro++[contrib] WinslowUntangler Zlib\n",
      "FLTK version  : 1.3.8\n",
      "OCC version   : 7.7.2\n",
      "Packaged by   : root\n",
      "Web site      : https://gmsh.info\n",
      "Issue tracker : https://gitlab.onelab.info/gmsh/gmsh/issues\n",
      "-------------------------------------------------------\n"
     ]
    },
    {
     "name": "stderr",
     "output_type": "stream",
     "text": [
      "XOpenIM() failed\n",
      "XRequest.18: BadValue 0x0\n"
     ]
    }
   ],
   "source": [
    "FEM.openPostProcessor()"
   ]
  },
  {
   "cell_type": "code",
   "execution_count": 36,
   "id": "7b517a53",
   "metadata": {},
   "outputs": [],
   "source": [
    "gmsh.finalize()"
   ]
  }
 ],
 "metadata": {
  "kernelspec": {
   "display_name": "Julia 1.11.5",
   "language": "julia",
   "name": "julia-1.11"
  },
  "language_info": {
   "file_extension": ".jl",
   "mimetype": "application/julia",
   "name": "julia",
   "version": "1.11.5"
  }
 },
 "nbformat": 4,
 "nbformat_minor": 5
}
