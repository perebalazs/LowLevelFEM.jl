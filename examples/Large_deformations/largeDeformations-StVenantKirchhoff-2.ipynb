{
 "cells": [
  {
   "cell_type": "code",
   "execution_count": 471,
   "id": "79fd9685",
   "metadata": {},
   "outputs": [],
   "source": [
    "using LowLevelFEM\n",
    "import LowLevelFEM as FEM\n",
    "\n",
    "gmsh.initialize()"
   ]
  },
  {
   "cell_type": "code",
   "execution_count": 472,
   "id": "22283e0a",
   "metadata": {},
   "outputs": [],
   "source": [
    "using SparseArrays, LinearAlgebra"
   ]
  },
  {
   "cell_type": "code",
   "execution_count": 473,
   "id": "fa18250b",
   "metadata": {},
   "outputs": [
    {
     "name": "stdout",
     "output_type": "stream",
     "text": [
      "Info    : Reading 'body2.geo'...\n",
      "Info    : Meshing 1D...\n",
      "Info    : [  0%] Meshing curve 1 (Line)\n",
      "Info    : [ 10%] Meshing curve 2 (Line)\n",
      "Info    : [ 20%] Meshing curve 3 (Line)\n",
      "Info    : [ 30%] Meshing curve 4 (Line)\n",
      "Info    : [ 40%] Meshing curve 5 (Line)\n",
      "Info    : [ 50%] Meshing curve 6 (Line)\n",
      "Info    : [ 60%] Meshing curve 7 (Line)\n",
      "Info    : [ 60%] Meshing curve 8 (Line)\n",
      "Info    : [ 70%] Meshing curve 9 (Line)\n",
      "Info    : [ 80%] Meshing curve 10 (Line)\n",
      "Info    : [ 90%] Meshing curve 11 (Line)\n",
      "Info    : [100%] Meshing curve 12 (Line)\n",
      "Info    : Done meshing 1D (Wall 0.00147938s, CPU 0.001474s)\n",
      "Info    : Meshing 2D...\n",
      "Info    : [  0%] Meshing surface 1 (Transfinite)\n",
      "Info    : [ 20%] Meshing surface 2 (Transfinite)\n",
      "Info    : [ 40%] Meshing surface 3 (Transfinite)\n",
      "Info    : [ 60%] Meshing surface 4 (Transfinite)\n",
      "Info    : [ 70%] Meshing surface 5 (Transfinite)\n",
      "Info    : [ 90%] Meshing surface 6 (Transfinite)\n",
      "Info    : Done meshing 2D (Wall 0.000554948s, CPU 0.000553s)\n",
      "Info    : Meshing 3D...\n",
      "Info    : Meshing volume 1 (Transfinite)\n",
      "Info    : Done meshing 3D (Wall 0.00144895s, CPU 0.001434s)\n",
      "Info    : Optimizing mesh...\n",
      "Info    : Done optimizing mesh (Wall 4.832e-05s, CPU 4.9e-05s)\n",
      "Info    : 275 nodes 432 elements\n",
      "Info    : Done reading 'body2.geo'\n"
     ]
    }
   ],
   "source": [
    "gmsh.open(\"body2.geo\")"
   ]
  },
  {
   "cell_type": "code",
   "execution_count": 474,
   "id": "33ef6d8f",
   "metadata": {},
   "outputs": [
    {
     "data": {
      "text/plain": [
       "2"
      ]
     },
     "metadata": {},
     "output_type": "display_data"
    }
   ],
   "source": [
    "λ = 1\n",
    "μ = 2"
   ]
  },
  {
   "cell_type": "code",
   "execution_count": 475,
   "id": "936f1fab",
   "metadata": {},
   "outputs": [
    {
     "name": "stdout",
     "output_type": "stream",
     "text": [
      "Info    : RCMK renumbering...\n",
      "Info    : Done RCMK renumbering (bandwidth is now 61)\n"
     ]
    },
    {
     "data": {
      "text/plain": [
       "LowLevelFEM.Problem(\"body2\", :Solid, 3, 3, LowLevelFEM.Material[LowLevelFEM.Material(\"body\", 10.0, 0.3, 7.85e-9, 45.0, 4.2e8, 1.2e-5, 5.769230769230768, 3.846153846153846, 8.333333333333334)], 1.0, 275)"
      ]
     },
     "metadata": {},
     "output_type": "display_data"
    }
   ],
   "source": [
    "#mat = FEM.material(\"body\", E=μ * (3λ + 2μ) / (λ + μ), ν=λ / 2 / (λ + μ))\n",
    "mat = FEM.material(\"body\", E=10, ν=0.3)\n",
    "problem = FEM.Problem([mat])"
   ]
  },
  {
   "cell_type": "code",
   "execution_count": 476,
   "id": "3aa5a1b2",
   "metadata": {},
   "outputs": [
    {
     "data": {
      "text/plain": [
       "LowLevelFEM.ScalarField([[2.0; 2.0; … ; 2.0; 2.0;;], [2.0; 2.0; … ; 2.0; 2.0;;], [2.0; 2.0; … ; 2.0; 2.0;;], [2.0; 2.0; … ; 2.0; 2.0;;], [2.0; 2.0; … ; 2.0; 2.0;;], [2.0; 2.0; … ; 2.0; 2.0;;], [2.0; 2.0; … ; 2.0; 2.0;;], [2.0; 2.0; … ; 2.0; 2.0;;], [2.0; 2.0; … ; 2.0; 2.0;;], [2.0; 2.0; … ; 2.0; 2.0;;]  …  [2.0; 2.0; … ; 2.0; 2.0;;], [2.0; 2.0; … ; 2.0; 2.0;;], [2.0; 2.0; … ; 2.0; 2.0;;], [2.0; 2.0; … ; 2.0; 2.0;;], [2.0; 2.0; … ; 2.0; 2.0;;], [2.0; 2.0; … ; 2.0; 2.0;;], [2.0; 2.0; … ; 2.0; 2.0;;], [2.0; 2.0; … ; 2.0; 2.0;;], [2.0; 2.0; … ; 2.0; 2.0;;], [2.0; 2.0; … ; 2.0; 2.0;;]], Matrix{Float64}(undef, 0, 0), [273, 274, 275, 276, 277, 278, 279, 280, 281, 282  …  423, 424, 425, 426, 427, 428, 429, 430, 431, 432], 1, :scalarInElements)"
      ]
     },
     "metadata": {},
     "output_type": "display_data"
    }
   ],
   "source": [
    "field = FEM.field(\"body\", f=2)\n",
    "sc = FEM.ScalarField(problem, [field])"
   ]
  },
  {
   "cell_type": "code",
   "execution_count": 477,
   "id": "70e2237c",
   "metadata": {},
   "outputs": [
    {
     "data": {
      "text/plain": [
       "LowLevelFEM.TensorField([[1.0; 0.0; … ; 0.0; 1.0;;], [1.0; 0.0; … ; 0.0; 1.0;;], [1.0; 0.0; … ; 0.0; 1.0;;], [1.0; 0.0; … ; 0.0; 1.0;;], [1.0; 0.0; … ; 0.0; 1.0;;], [1.0; 0.0; … ; 0.0; 1.0;;], [1.0; 0.0; … ; 0.0; 1.0;;], [1.0; 0.0; … ; 0.0; 1.0;;], [1.0; 0.0; … ; 0.0; 1.0;;], [1.0; 0.0; … ; 0.0; 1.0;;]  …  [1.0; 0.0; … ; 0.0; 1.0;;], [1.0; 0.0; … ; 0.0; 1.0;;], [1.0; 0.0; … ; 0.0; 1.0;;], [1.0; 0.0; … ; 0.0; 1.0;;], [1.0; 0.0; … ; 0.0; 1.0;;], [1.0; 0.0; … ; 0.0; 1.0;;], [1.0; 0.0; … ; 0.0; 1.0;;], [1.0; 0.0; … ; 0.0; 1.0;;], [1.0; 0.0; … ; 0.0; 1.0;;], [1.0; 0.0; … ; 0.0; 1.0;;]], Matrix{Float64}(undef, 0, 0), [273, 274, 275, 276, 277, 278, 279, 280, 281, 282  …  423, 424, 425, 426, 427, 428, 429, 430, 431, 432], 1, :F)"
      ]
     },
     "metadata": {},
     "output_type": "display_data"
    }
   ],
   "source": [
    "r0 = FEM.nodePositionVector(problem)\n",
    "F = FEM.deformationGradient(problem, r0)"
   ]
  },
  {
   "cell_type": "code",
   "execution_count": 478,
   "id": "9ad3f6f0",
   "metadata": {},
   "outputs": [
    {
     "data": {
      "text/plain": [
       "LowLevelFEM.TensorField([[2.0; 0.0; … ; 0.0; 2.0;;], [2.0; 0.0; … ; 0.0; 2.0;;], [2.0; 0.0; … ; 0.0; 2.0;;], [2.0; 0.0; … ; 0.0; 2.0;;], [2.0; 0.0; … ; 0.0; 2.0;;], [2.0; 0.0; … ; 0.0; 2.0;;], [2.0; 0.0; … ; 0.0; 2.0;;], [2.0; 0.0; … ; 0.0; 2.0;;], [2.0; 0.0; … ; 0.0; 2.0;;], [2.0; 0.0; … ; 0.0; 2.0;;]  …  [2.0; 0.0; … ; 0.0; 2.0;;], [2.0; 0.0; … ; 0.0; 2.0;;], [2.0; 0.0; … ; 0.0; 2.0;;], [2.0; 0.0; … ; 0.0; 2.0;;], [2.0; 0.0; … ; 0.0; 2.0;;], [2.0; 0.0; … ; 0.0; 2.0;;], [2.0; 0.0; … ; 0.0; 2.0;;], [2.0; 0.0; … ; 0.0; 2.0;;], [2.0; 0.0; … ; 0.0; 2.0;;], [2.0; 0.0; … ; 0.0; 2.0;;]], Matrix{Float64}(undef, 0, 0), [273, 274, 275, 276, 277, 278, 279, 280, 281, 282  …  423, 424, 425, 426, 427, 428, 429, 430, 431, 432], 1, :e)"
      ]
     },
     "metadata": {},
     "output_type": "display_data"
    }
   ],
   "source": [
    "sc * F"
   ]
  },
  {
   "cell_type": "code",
   "execution_count": 479,
   "id": "c2a10dc9",
   "metadata": {},
   "outputs": [
    {
     "data": {
      "text/plain": [
       "LowLevelFEM.TensorField([[-0.24731674822129115; -0.15496593353614502; … ; 0.015317524483590889; 0.04720835105580061;;], [-0.1526576686997555; -0.14665450842586153; … ; 0.009771076916924458; 0.0020007400737884554;;], [-0.14424594304094446; -0.1326502176071989; … ; 0.009408035068899994; 0.007786444182661285;;], [-0.12303559574180817; -0.11480899686021319; … ; 0.00786726338008227; 0.004402960832728422;;], [-0.1035556005690576; -0.09862492637769009; … ; 0.006607065119602396; 0.0029626353832782476;;], [-0.08387108166756281; -0.08199630918017675; … ; 0.005273081341656607; 0.0010526426032954651;;], [-0.06417216815470728; -0.06546261755654341; … ; 0.003950543742899921; -0.0007709552206131079;;], [-0.04464511464487497; -0.04889425459492823; … ; 0.002663255433821341; -0.0024243816490807386;;], [-0.024389952727944315; -0.03235387666033357; … ; 0.0012173944785086276; -0.005202931180020875;;], [-0.006738933740834405; -0.016135672826310933; … ; 0.00038159608422394075; -0.0018782729472206295;;]  …  [0.5120744030388683; -0.15576310123276185; … ; 0.012985572675790556; -0.035744309923969195;;], [0.3485573142356446; -0.14394634269621728; … ; 0.010123011915947392; 0.03687714570974766;;], [0.33608376646703875; -0.13397435306421843; … ; 0.008796678215378486; 0.021223774170278147;;], [0.2832047847036143; -0.1147927736253201; … ; 0.007635712729623324; 0.022366443206314313;;], [0.240240985581976; -0.09893820756211591; … ; 0.006326525971581311; 0.02022425909543503;;], [0.1950338293206249; -0.08224057825755475; … ; 0.005071420207928508; 0.018754040452603184;;], [0.15030263258550128; -0.06571612592487337; … ; 0.003801185713616695; 0.017206855252085578;;], [0.10548188230428941; -0.049165318479192324; … ; 0.0025428666504292994; 0.01532221770993905;;], [0.06039986235101661; -0.03256293935862174; … ; 0.001191653596721615; 0.015329206953949485;;], [0.01857318745670492; -0.01645649577976228; … ; 0.0004913638915237935; 0.0052728124690245215;;]], Matrix{Float64}(undef, 0, 0), [273, 274, 275, 276, 277, 278, 279, 280, 281, 282  …  423, 424, 425, 426, 427, 428, 429, 430, 431, 432], 1, :s)"
      ]
     },
     "metadata": {},
     "output_type": "display_data"
    }
   ],
   "source": [
    "supp = FEM.displacementConstraint(\"left\", ux=0, uy=0, uz=0)\n",
    "traction = FEM.load(\"right\", fy=-0.01)\n",
    "bodyforce = FEM.load(\"body\", fx=1)\n",
    "\n",
    "q = FEM.solveDisplacement(problem, [traction], [supp])\n",
    "S = FEM.solveStress(problem, q)"
   ]
  },
  {
   "cell_type": "code",
   "execution_count": 480,
   "id": "5ff50776",
   "metadata": {},
   "outputs": [
    {
     "name": "stdout",
     "output_type": "stream",
     "text": [
      "Info    : Running Plugin(Smooth)...\n",
      "Info    : Done running Plugin(Smooth)\n"
     ]
    },
    {
     "data": {
      "text/plain": [
       "1"
      ]
     },
     "metadata": {},
     "output_type": "display_data"
    }
   ],
   "source": [
    "u1 = FEM.showDoFResults(problem, q, :uvec)\n",
    "S1 = FEM.showElementResults(problem, S, :s)"
   ]
  },
  {
   "cell_type": "code",
   "execution_count": 481,
   "id": "02d09772",
   "metadata": {},
   "outputs": [],
   "source": [
    "followerLoad = false\n",
    "loadSteps = 20\n",
    "firstStep = 0.1\n",
    "maxIteration = 10\n",
    "saveSteps = true\n",
    "saveIterations = false\n",
    "plotConvergence = true\n",
    "ε = 1e-3\n",
    "\n",
    "r0 = FEM.nodePositionVector(problem)\n",
    "err0 = abs(maximum(r0) - minimum(r0))\n",
    "f = FEM.loadVector(problem, [traction])\n",
    "r = []\n",
    "r1 = []\n",
    "push!(r, r0)\n",
    "e = []\n",
    "\n",
    "for j in range(1, loadSteps)\n",
    "    fact = j / loadSteps\n",
    "    err = 1\n",
    "    i = 0\n",
    "    while err > ε && i < maxIteration\n",
    "        i += 1\n",
    "\n",
    "        Kl = FEM.stiffnessMatrixLinear(problem, r0)\n",
    "        Knl = FEM.stiffnessMatrixNonLinear(problem, r0)\n",
    "        if followerLoad == true\n",
    "            f = FEM.followerLoadVector(problem, r0, [traction])\n",
    "        end\n",
    "        fnl = FEM.loadVectorNonLinear(problem, r0)\n",
    "        K1, f1 = FEM.applyBoundaryConditions(problem, Kl + Knl, fact * f - fnl, [supp])\n",
    "        q = FEM.solveDisplacement(K1, f1)\n",
    "        r0 += q\n",
    "        if saveIterations == true\n",
    "            push!(r, r0)\n",
    "        end\n",
    "        err = maximum(abs.(q)) / err0\n",
    "        if plotConvergence == true\n",
    "            append!(e, err)\n",
    "        end\n",
    "    end\n",
    "    if saveSteps == true\n",
    "        push!(r, r0)\n",
    "    end\n",
    "end\n",
    "if saveIterations == true || saveSteps == true\n",
    "    n = length(r)\n",
    "    r1 = zeros(length(r0), n)\n",
    "    for i in 1:n\n",
    "        r1[:, i] = r[i]\n",
    "    end\n",
    "else\n",
    "    r1 = zeros(length(r0), 1)\n",
    "    r1 = r0\n",
    "end"
   ]
  },
  {
   "cell_type": "code",
   "execution_count": 482,
   "id": "1866e2da",
   "metadata": {},
   "outputs": [
    {
     "data": {
      "image/png": "[encoded data removed]",
      "image/svg+xml": [
       "<?xml version=\"1.0\" encoding=\"utf-8\"?>\n",
       "<svg xmlns=\"http://www.w3.org/2000/svg\" xmlns:xlink=\"http://www.w3.org/1999/xlink\" width=\"600\" height=\"400\" viewBox=\"0 0 2400 1600\">\n",
       "<defs>\n",
       "  <clipPath id=\"clip880\">\n",
       "    <rect x=\"0\" y=\"0\" width=\"2400\" height=\"1600\"/>\n",
       "  </clipPath>\n",
       "</defs>\n",
       "<path clip-path=\"url(#clip880)\" d=\"M0 1600 L2400 1600 L2400 0 L0 0  Z\" fill=\"#ffffff\" fill-rule=\"evenodd\" fill-opacity=\"1\"/>\n",
       "<defs>\n",
       "  <clipPath id=\"clip881\">\n",
       "    <rect x=\"480\" y=\"0\" width=\"1681\" height=\"1600\"/>\n",
       "  </clipPath>\n",
       "</defs>\n",
       "<path clip-path=\"url(#clip880)\" d=\"M148.057 1486.45 L2352.76 1486.45 L2352.76 47.2441 L148.057 47.2441  Z\" fill=\"#ffffff\" fill-rule=\"evenodd\" fill-opacity=\"1\"/>\n",
       "<defs>\n",
       "  <clipPath id=\"clip882\">\n",
       "    <rect x=\"148\" y=\"47\" width=\"2206\" height=\"1440\"/>\n",
       "  </clipPath>\n",
       "</defs>\n",
       "<polyline clip-path=\"url(#clip882)\" style=\"stroke:#000000; stroke-linecap:round; stroke-linejoin:round; stroke-width:2; stroke-opacity:0.1; fill:none\" points=\"192.976,1486.45 192.976,47.2441 \"/>\n",
       "<polyline clip-path=\"url(#clip882)\" style=\"stroke:#000000; stroke-linecap:round; stroke-linejoin:round; stroke-width:2; stroke-opacity:0.1; fill:none\" points=\"629.93,1486.45 629.93,47.2441 \"/>\n",
       "<polyline clip-path=\"url(#clip882)\" style=\"stroke:#000000; stroke-linecap:round; stroke-linejoin:round; stroke-width:2; stroke-opacity:0.1; fill:none\" points=\"1066.89,1486.45 1066.89,47.2441 \"/>\n",
       "<polyline clip-path=\"url(#clip882)\" style=\"stroke:#000000; stroke-linecap:round; stroke-linejoin:round; stroke-width:2; stroke-opacity:0.1; fill:none\" points=\"1503.84,1486.45 1503.84,47.2441 \"/>\n",
       "<polyline clip-path=\"url(#clip882)\" style=\"stroke:#000000; stroke-linecap:round; stroke-linejoin:round; stroke-width:2; stroke-opacity:0.1; fill:none\" points=\"1940.79,1486.45 1940.79,47.2441 \"/>\n",
       "<polyline clip-path=\"url(#clip882)\" style=\"stroke:#000000; stroke-linecap:round; stroke-linejoin:round; stroke-width:2; stroke-opacity:0.1; fill:none\" points=\"148.057,1219.57 2352.76,1219.57 \"/>\n",
       "<polyline clip-path=\"url(#clip882)\" style=\"stroke:#000000; stroke-linecap:round; stroke-linejoin:round; stroke-width:2; stroke-opacity:0.1; fill:none\" points=\"148.057,843.504 2352.76,843.504 \"/>\n",
       "<polyline clip-path=\"url(#clip882)\" style=\"stroke:#000000; stroke-linecap:round; stroke-linejoin:round; stroke-width:2; stroke-opacity:0.1; fill:none\" points=\"148.057,467.442 2352.76,467.442 \"/>\n",
       "<polyline clip-path=\"url(#clip882)\" style=\"stroke:#000000; stroke-linecap:round; stroke-linejoin:round; stroke-width:2; stroke-opacity:0.1; fill:none\" points=\"148.057,91.3792 2352.76,91.3792 \"/>\n",
       "<polyline clip-path=\"url(#clip880)\" style=\"stroke:#000000; stroke-linecap:round; stroke-linejoin:round; stroke-width:4; stroke-opacity:1; fill:none\" points=\"148.057,1486.45 2352.76,1486.45 \"/>\n",
       "<polyline clip-path=\"url(#clip880)\" style=\"stroke:#000000; stroke-linecap:round; stroke-linejoin:round; stroke-width:4; stroke-opacity:1; fill:none\" points=\"192.976,1486.45 192.976,1467.55 \"/>\n",
       "<polyline clip-path=\"url(#clip880)\" style=\"stroke:#000000; stroke-linecap:round; stroke-linejoin:round; stroke-width:4; stroke-opacity:1; fill:none\" points=\"629.93,1486.45 629.93,1467.55 \"/>\n",
       "<polyline clip-path=\"url(#clip880)\" style=\"stroke:#000000; stroke-linecap:round; stroke-linejoin:round; stroke-width:4; stroke-opacity:1; fill:none\" points=\"1066.89,1486.45 1066.89,1467.55 \"/>\n",
       "<polyline clip-path=\"url(#clip880)\" style=\"stroke:#000000; stroke-linecap:round; stroke-linejoin:round; stroke-width:4; stroke-opacity:1; fill:none\" points=\"1503.84,1486.45 1503.84,1467.55 \"/>\n",
       "<polyline clip-path=\"url(#clip880)\" style=\"stroke:#000000; stroke-linecap:round; stroke-linejoin:round; stroke-width:4; stroke-opacity:1; fill:none\" points=\"1940.79,1486.45 1940.79,1467.55 \"/>\n",
       "<path clip-path=\"url(#clip880)\" d=\"M192.976 1517.37 Q189.364 1517.37 187.536 1520.93 Q185.73 1524.47 185.73 1531.6 Q185.73 1538.71 187.536 1542.27 Q189.364 1545.82 192.976 1545.82 Q196.61 1545.82 198.415 1542.27 Q200.244 1538.71 200.244 1531.6 Q200.244 1524.47 198.415 1520.93 Q196.61 1517.37 192.976 1517.37 M192.976 1513.66 Q198.786 1513.66 201.841 1518.27 Q204.92 1522.85 204.92 1531.6 Q204.92 1540.33 201.841 1544.94 Q198.786 1549.52 192.976 1549.52 Q187.165 1549.52 184.087 1544.94 Q181.031 1540.33 181.031 1531.6 Q181.031 1522.85 184.087 1518.27 Q187.165 1513.66 192.976 1513.66 Z\" fill=\"#000000\" fill-rule=\"nonzero\" fill-opacity=\"1\" /><path clip-path=\"url(#clip880)\" d=\"M609.201 1544.91 L625.521 1544.91 L625.521 1548.85 L603.576 1548.85 L603.576 1544.91 Q606.238 1542.16 610.822 1537.53 Q615.428 1532.88 616.609 1531.53 Q618.854 1529.01 619.734 1527.27 Q620.636 1525.51 620.636 1523.82 Q620.636 1521.07 618.692 1519.33 Q616.771 1517.6 613.669 1517.6 Q611.47 1517.6 609.016 1518.36 Q606.586 1519.13 603.808 1520.68 L603.808 1515.95 Q606.632 1514.82 609.086 1514.24 Q611.539 1513.66 613.576 1513.66 Q618.947 1513.66 622.141 1516.35 Q625.336 1519.03 625.336 1523.52 Q625.336 1525.65 624.525 1527.57 Q623.738 1529.47 621.632 1532.07 Q621.053 1532.74 617.951 1535.95 Q614.849 1539.15 609.201 1544.91 Z\" fill=\"#000000\" fill-rule=\"nonzero\" fill-opacity=\"1\" /><path clip-path=\"url(#clip880)\" d=\"M635.382 1514.29 L653.738 1514.29 L653.738 1518.22 L639.664 1518.22 L639.664 1526.7 Q640.683 1526.35 641.701 1526.19 Q642.72 1526 643.738 1526 Q649.525 1526 652.905 1529.17 Q656.284 1532.34 656.284 1537.76 Q656.284 1543.34 652.812 1546.44 Q649.34 1549.52 643.021 1549.52 Q640.845 1549.52 638.576 1549.15 Q636.331 1548.78 633.923 1548.04 L633.923 1543.34 Q636.007 1544.47 638.229 1545.03 Q640.451 1545.58 642.928 1545.58 Q646.933 1545.58 649.271 1543.48 Q651.609 1541.37 651.609 1537.76 Q651.609 1534.15 649.271 1532.04 Q646.933 1529.94 642.928 1529.94 Q641.053 1529.94 639.178 1530.35 Q637.326 1530.77 635.382 1531.65 L635.382 1514.29 Z\" fill=\"#000000\" fill-rule=\"nonzero\" fill-opacity=\"1\" /><path clip-path=\"url(#clip880)\" d=\"M1041.58 1514.29 L1059.94 1514.29 L1059.94 1518.22 L1045.87 1518.22 L1045.87 1526.7 Q1046.89 1526.35 1047.9 1526.19 Q1048.92 1526 1049.94 1526 Q1055.73 1526 1059.11 1529.17 Q1062.49 1532.34 1062.49 1537.76 Q1062.49 1543.34 1059.01 1546.44 Q1055.54 1549.52 1049.22 1549.52 Q1047.05 1549.52 1044.78 1549.15 Q1042.53 1548.78 1040.13 1548.04 L1040.13 1543.34 Q1042.21 1544.47 1044.43 1545.03 Q1046.65 1545.58 1049.13 1545.58 Q1053.14 1545.58 1055.47 1543.48 Q1057.81 1541.37 1057.81 1537.76 Q1057.81 1534.15 1055.47 1532.04 Q1053.14 1529.94 1049.13 1529.94 Q1047.26 1529.94 1045.38 1530.35 Q1043.53 1530.77 1041.58 1531.65 L1041.58 1514.29 Z\" fill=\"#000000\" fill-rule=\"nonzero\" fill-opacity=\"1\" /><path clip-path=\"url(#clip880)\" d=\"M1081.7 1517.37 Q1078.09 1517.37 1076.26 1520.93 Q1074.45 1524.47 1074.45 1531.6 Q1074.45 1538.71 1076.26 1542.27 Q1078.09 1545.82 1081.7 1545.82 Q1085.33 1545.82 1087.14 1542.27 Q1088.97 1538.71 1088.97 1531.6 Q1088.97 1524.47 1087.14 1520.93 Q1085.33 1517.37 1081.7 1517.37 M1081.7 1513.66 Q1087.51 1513.66 1090.57 1518.27 Q1093.64 1522.85 1093.64 1531.6 Q1093.64 1540.33 1090.57 1544.94 Q1087.51 1549.52 1081.7 1549.52 Q1075.89 1549.52 1072.81 1544.94 Q1069.76 1540.33 1069.76 1531.6 Q1069.76 1522.85 1072.81 1518.27 Q1075.89 1513.66 1081.7 1513.66 Z\" fill=\"#000000\" fill-rule=\"nonzero\" fill-opacity=\"1\" /><path clip-path=\"url(#clip880)\" d=\"M1477.69 1514.29 L1499.92 1514.29 L1499.92 1516.28 L1487.37 1548.85 L1482.49 1548.85 L1494.29 1518.22 L1477.69 1518.22 L1477.69 1514.29 Z\" fill=\"#000000\" fill-rule=\"nonzero\" fill-opacity=\"1\" /><path clip-path=\"url(#clip880)\" d=\"M1509.08 1514.29 L1527.44 1514.29 L1527.44 1518.22 L1513.37 1518.22 L1513.37 1526.7 Q1514.38 1526.35 1515.4 1526.19 Q1516.42 1526 1517.44 1526 Q1523.23 1526 1526.61 1529.17 Q1529.99 1532.34 1529.99 1537.76 Q1529.99 1543.34 1526.51 1546.44 Q1523.04 1549.52 1516.72 1549.52 Q1514.55 1549.52 1512.28 1549.15 Q1510.03 1548.78 1507.62 1548.04 L1507.62 1543.34 Q1509.71 1544.47 1511.93 1545.03 Q1514.15 1545.58 1516.63 1545.58 Q1520.63 1545.58 1522.97 1543.48 Q1525.31 1541.37 1525.31 1537.76 Q1525.31 1534.15 1522.97 1532.04 Q1520.63 1529.94 1516.63 1529.94 Q1514.75 1529.94 1512.88 1530.35 Q1511.03 1530.77 1509.08 1531.65 L1509.08 1514.29 Z\" fill=\"#000000\" fill-rule=\"nonzero\" fill-opacity=\"1\" /><path clip-path=\"url(#clip880)\" d=\"M1900.4 1544.91 L1908.04 1544.91 L1908.04 1518.55 L1899.73 1520.21 L1899.73 1515.95 L1907.99 1514.29 L1912.67 1514.29 L1912.67 1544.91 L1920.31 1544.91 L1920.31 1548.85 L1900.4 1548.85 L1900.4 1544.91 Z\" fill=\"#000000\" fill-rule=\"nonzero\" fill-opacity=\"1\" /><path clip-path=\"url(#clip880)\" d=\"M1939.75 1517.37 Q1936.14 1517.37 1934.31 1520.93 Q1932.51 1524.47 1932.51 1531.6 Q1932.51 1538.71 1934.31 1542.27 Q1936.14 1545.82 1939.75 1545.82 Q1943.39 1545.82 1945.19 1542.27 Q1947.02 1538.71 1947.02 1531.6 Q1947.02 1524.47 1945.19 1520.93 Q1943.39 1517.37 1939.75 1517.37 M1939.75 1513.66 Q1945.56 1513.66 1948.62 1518.27 Q1951.7 1522.85 1951.7 1531.6 Q1951.7 1540.33 1948.62 1544.94 Q1945.56 1549.52 1939.75 1549.52 Q1933.94 1549.52 1930.86 1544.94 Q1927.81 1540.33 1927.81 1531.6 Q1927.81 1522.85 1930.86 1518.27 Q1933.94 1513.66 1939.75 1513.66 Z\" fill=\"#000000\" fill-rule=\"nonzero\" fill-opacity=\"1\" /><path clip-path=\"url(#clip880)\" d=\"M1969.92 1517.37 Q1966.3 1517.37 1964.48 1520.93 Q1962.67 1524.47 1962.67 1531.6 Q1962.67 1538.71 1964.48 1542.27 Q1966.3 1545.82 1969.92 1545.82 Q1973.55 1545.82 1975.35 1542.27 Q1977.18 1538.71 1977.18 1531.6 Q1977.18 1524.47 1975.35 1520.93 Q1973.55 1517.37 1969.92 1517.37 M1969.92 1513.66 Q1975.73 1513.66 1978.78 1518.27 Q1981.86 1522.85 1981.86 1531.6 Q1981.86 1540.33 1978.78 1544.94 Q1975.73 1549.52 1969.92 1549.52 Q1964.1 1549.52 1961.03 1544.94 Q1957.97 1540.33 1957.97 1531.6 Q1957.97 1522.85 1961.03 1518.27 Q1964.1 1513.66 1969.92 1513.66 Z\" fill=\"#000000\" fill-rule=\"nonzero\" fill-opacity=\"1\" /><polyline clip-path=\"url(#clip880)\" style=\"stroke:#000000; stroke-linecap:round; stroke-linejoin:round; stroke-width:4; stroke-opacity:1; fill:none\" points=\"148.057,1486.45 148.057,47.2441 \"/>\n",
       "<polyline clip-path=\"url(#clip880)\" style=\"stroke:#000000; stroke-linecap:round; stroke-linejoin:round; stroke-width:4; stroke-opacity:1; fill:none\" points=\"148.057,1219.57 166.954,1219.57 \"/>\n",
       "<polyline clip-path=\"url(#clip880)\" style=\"stroke:#000000; stroke-linecap:round; stroke-linejoin:round; stroke-width:4; stroke-opacity:1; fill:none\" points=\"148.057,843.504 166.954,843.504 \"/>\n",
       "<polyline clip-path=\"url(#clip880)\" style=\"stroke:#000000; stroke-linecap:round; stroke-linejoin:round; stroke-width:4; stroke-opacity:1; fill:none\" points=\"148.057,467.442 166.954,467.442 \"/>\n",
       "<polyline clip-path=\"url(#clip880)\" style=\"stroke:#000000; stroke-linecap:round; stroke-linejoin:round; stroke-width:4; stroke-opacity:1; fill:none\" points=\"148.057,91.3792 166.954,91.3792 \"/>\n",
       "<path clip-path=\"url(#clip880)\" d=\"M50.9921 1220.02 L80.6679 1220.02 L80.6679 1223.95 L50.9921 1223.95 L50.9921 1220.02 Z\" fill=\"#000000\" fill-rule=\"nonzero\" fill-opacity=\"1\" /><path clip-path=\"url(#clip880)\" d=\"M104.927 1218.21 Q108.283 1218.93 110.158 1221.2 Q112.057 1223.47 112.057 1226.8 Q112.057 1231.92 108.538 1234.72 Q105.02 1237.52 98.5382 1237.52 Q96.3623 1237.52 94.0475 1237.08 Q91.7558 1236.66 89.3021 1235.8 L89.3021 1231.29 Q91.2465 1232.43 93.5613 1233 Q95.8761 1233.58 98.3993 1233.58 Q102.797 1233.58 105.089 1231.85 Q107.404 1230.11 107.404 1226.8 Q107.404 1223.74 105.251 1222.03 Q103.121 1220.3 99.3021 1220.3 L95.2743 1220.3 L95.2743 1216.45 L99.4872 1216.45 Q102.936 1216.45 104.765 1215.09 Q106.594 1213.7 106.594 1211.11 Q106.594 1208.44 104.696 1207.03 Q102.821 1205.6 99.3021 1205.6 Q97.3808 1205.6 95.1817 1206.01 Q92.9826 1206.43 90.3438 1207.31 L90.3438 1203.14 Q93.0058 1202.4 95.3206 1202.03 Q97.6585 1201.66 99.7187 1201.66 Q105.043 1201.66 108.145 1204.09 Q111.246 1206.5 111.246 1210.62 Q111.246 1213.49 109.603 1215.48 Q107.959 1217.45 104.927 1218.21 Z\" fill=\"#000000\" fill-rule=\"nonzero\" fill-opacity=\"1\" /><path clip-path=\"url(#clip880)\" d=\"M51.9412 843.955 L81.617 843.955 L81.617 847.891 L51.9412 847.891 L51.9412 843.955 Z\" fill=\"#000000\" fill-rule=\"nonzero\" fill-opacity=\"1\" /><path clip-path=\"url(#clip880)\" d=\"M95.7373 856.849 L112.057 856.849 L112.057 860.784 L90.1123 860.784 L90.1123 856.849 Q92.7743 854.094 97.3576 849.465 Q101.964 844.812 103.145 843.469 Q105.39 840.946 106.27 839.21 Q107.172 837.451 107.172 835.761 Q107.172 833.006 105.228 831.27 Q103.307 829.534 100.205 829.534 Q98.0058 829.534 95.5521 830.298 Q93.1215 831.062 90.3438 832.613 L90.3438 827.891 Q93.1678 826.756 95.6215 826.178 Q98.0752 825.599 100.112 825.599 Q105.483 825.599 108.677 828.284 Q111.871 830.969 111.871 835.46 Q111.871 837.59 111.061 839.511 Q110.274 841.409 108.168 844.002 Q107.589 844.673 104.487 847.891 Q101.385 851.085 95.7373 856.849 Z\" fill=\"#000000\" fill-rule=\"nonzero\" fill-opacity=\"1\" /><path clip-path=\"url(#clip880)\" d=\"M51.5708 467.893 L81.2466 467.893 L81.2466 471.828 L51.5708 471.828 L51.5708 467.893 Z\" fill=\"#000000\" fill-rule=\"nonzero\" fill-opacity=\"1\" /><path clip-path=\"url(#clip880)\" d=\"M92.1493 480.786 L99.7882 480.786 L99.7882 454.421 L91.478 456.088 L91.478 451.828 L99.7419 450.162 L104.418 450.162 L104.418 480.786 L112.057 480.786 L112.057 484.722 L92.1493 484.722 L92.1493 480.786 Z\" fill=\"#000000\" fill-rule=\"nonzero\" fill-opacity=\"1\" /><path clip-path=\"url(#clip880)\" d=\"M100.112 77.1779 Q96.5011 77.1779 94.6724 80.7427 Q92.8669 84.2844 92.8669 91.414 Q92.8669 98.5204 94.6724 102.085 Q96.5011 105.627 100.112 105.627 Q103.746 105.627 105.552 102.085 Q107.381 98.5204 107.381 91.414 Q107.381 84.2844 105.552 80.7427 Q103.746 77.1779 100.112 77.1779 M100.112 73.4742 Q105.922 73.4742 108.978 78.0807 Q112.057 82.664 112.057 91.414 Q112.057 100.141 108.978 104.747 Q105.922 109.331 100.112 109.331 Q94.3021 109.331 91.2234 104.747 Q88.1679 100.141 88.1679 91.414 Q88.1679 82.664 91.2234 78.0807 Q94.3021 73.4742 100.112 73.4742 Z\" fill=\"#000000\" fill-rule=\"nonzero\" fill-opacity=\"1\" /><polyline clip-path=\"url(#clip882)\" style=\"stroke:#009af9; stroke-linecap:round; stroke-linejoin:round; stroke-width:4; stroke-opacity:1; fill:none\" points=\"210.454,743.766 227.932,1143.78 245.41,1358.94 262.888,749.186 280.367,1223.77 297.845,748.518 315.323,1145.73 332.801,1432.95 350.279,749.401 367.758,1211.92 385.236,1310.86 402.714,744.495 420.192,1151.22 437.67,1416.47 455.148,751.695 472.627,1224.51 490.105,751.73 507.583,1147.39 525.061,1445.72 542.539,754.163 560.018,1212.3 577.496,1333.04 594.974,749.173 612.452,1151.68 629.93,1380.65 647.409,759.566 664.887,1237.02 682.365,759.472 699.843,1158.11 717.321,1319.4 734.8,748.054 752.278,975.316 769.756,896.652 787.234,1027.93 804.712,776.041 822.191,999.707 839.669,506.138 857.147,787.718 874.625,629.399 892.103,720.066 909.581,657.558 927.06,675.25 944.538,713.243 962.016,598.258 979.494,676.301 996.972,626.463 1014.45,516.305 1031.93,623.116 1049.41,283.378 1066.89,481.144 1084.36,520.557 1101.84,87.9763 1119.32,308.599 1136.8,385.115 1154.28,467.065 1171.75,468.219 1189.23,556.718 1206.71,461.985 1224.19,574.867 1241.67,398.08 1259.15,587.308 1276.62,457.945 1294.1,663.797 1311.58,600.587 1329.06,605.161 1346.54,585.737 1364.01,533.201 1381.49,510.086 1398.97,609.94 1416.45,624.433 1433.93,609.491 1451.41,674.425 1468.88,482.375 1486.36,622.631 1503.84,358.714 1521.32,659.142 1538.8,602.454 1556.27,505.152 1573.75,730.84 1591.23,478.318 1608.71,776.039 1626.19,174.157 1643.67,398.363 1661.14,447.244 1678.62,523.965 1696.1,717.238 1713.58,459.623 1731.06,721.259 1748.53,472.64 1766.01,661.923 1783.49,569.557 1800.97,626.559 1818.45,586.669 1835.93,656.32 1853.4,631.134 1870.88,415.619 1888.36,665.402 1905.84,792.616 1923.32,501.941 1940.79,697.249 1958.27,426.593 1975.75,748.704 1993.23,466.827 2010.71,583.86 2028.19,534.636 2045.66,473.916 2063.14,627.903 2080.62,580.698 2098.1,631.701 2115.58,484.716 2133.06,722.772 2150.53,424.241 2168.01,748.291 2185.49,439.386 2202.97,699.86 2220.45,596.861 2237.92,671.655 2255.4,616.698 2272.88,750.76 2290.36,392.231 \"/>\n",
       "<path clip-path=\"url(#clip880)\" d=\"M221.547 198.898 L494.447 198.898 L494.447 95.2176 L221.547 95.2176  Z\" fill=\"#ffffff\" fill-rule=\"evenodd\" fill-opacity=\"1\"/>\n",
       "<polyline clip-path=\"url(#clip880)\" style=\"stroke:#000000; stroke-linecap:round; stroke-linejoin:round; stroke-width:4; stroke-opacity:1; fill:none\" points=\"221.547,198.898 494.447,198.898 494.447,95.2176 221.547,95.2176 221.547,198.898 \"/>\n",
       "<polyline clip-path=\"url(#clip880)\" style=\"stroke:#009af9; stroke-linecap:round; stroke-linejoin:round; stroke-width:4; stroke-opacity:1; fill:none\" points=\"246.043,147.058 393.023,147.058 \"/>\n",
       "<path clip-path=\"url(#clip880)\" d=\"M431.362 166.745 Q429.557 171.375 427.844 172.787 Q426.131 174.199 423.261 174.199 L419.858 174.199 L419.858 170.634 L422.358 170.634 Q424.117 170.634 425.089 169.8 Q426.061 168.967 427.242 165.865 L428.006 163.921 L417.52 138.412 L422.034 138.412 L430.136 158.689 L438.237 138.412 L442.751 138.412 L431.362 166.745 Z\" fill=\"#000000\" fill-rule=\"nonzero\" fill-opacity=\"1\" /><path clip-path=\"url(#clip880)\" d=\"M450.043 160.402 L457.682 160.402 L457.682 134.037 L449.372 135.703 L449.372 131.444 L457.635 129.778 L462.311 129.778 L462.311 160.402 L469.95 160.402 L469.95 164.338 L450.043 164.338 L450.043 160.402 Z\" fill=\"#000000\" fill-rule=\"nonzero\" fill-opacity=\"1\" /></svg>\n"
      ],
      "text/html": [
       "<?xml version=\"1.0\" encoding=\"utf-8\"?>\n",
       "<svg xmlns=\"http://www.w3.org/2000/svg\" xmlns:xlink=\"http://www.w3.org/1999/xlink\" width=\"600\" height=\"400\" viewBox=\"0 0 2400 1600\">\n",
       "<defs>\n",
       "  <clipPath id=\"clip930\">\n",
       "    <rect x=\"0\" y=\"0\" width=\"2400\" height=\"1600\"/>\n",
       "  </clipPath>\n",
       "</defs>\n",
       "<path clip-path=\"url(#clip930)\" d=\"M0 1600 L2400 1600 L2400 0 L0 0  Z\" fill=\"#ffffff\" fill-rule=\"evenodd\" fill-opacity=\"1\"/>\n",
       "<defs>\n",
       "  <clipPath id=\"clip931\">\n",
       "    <rect x=\"480\" y=\"0\" width=\"1681\" height=\"1600\"/>\n",
       "  </clipPath>\n",
       "</defs>\n",
       "<path clip-path=\"url(#clip930)\" d=\"M148.057 1486.45 L2352.76 1486.45 L2352.76 47.2441 L148.057 47.2441  Z\" fill=\"#ffffff\" fill-rule=\"evenodd\" fill-opacity=\"1\"/>\n",
       "<defs>\n",
       "  <clipPath id=\"clip932\">\n",
       "    <rect x=\"148\" y=\"47\" width=\"2206\" height=\"1440\"/>\n",
       "  </clipPath>\n",
       "</defs>\n",
       "<polyline clip-path=\"url(#clip932)\" style=\"stroke:#000000; stroke-linecap:round; stroke-linejoin:round; stroke-width:2; stroke-opacity:0.1; fill:none\" points=\"192.976,1486.45 192.976,47.2441 \"/>\n",
       "<polyline clip-path=\"url(#clip932)\" style=\"stroke:#000000; stroke-linecap:round; stroke-linejoin:round; stroke-width:2; stroke-opacity:0.1; fill:none\" points=\"629.93,1486.45 629.93,47.2441 \"/>\n",
       "<polyline clip-path=\"url(#clip932)\" style=\"stroke:#000000; stroke-linecap:round; stroke-linejoin:round; stroke-width:2; stroke-opacity:0.1; fill:none\" points=\"1066.89,1486.45 1066.89,47.2441 \"/>\n",
       "<polyline clip-path=\"url(#clip932)\" style=\"stroke:#000000; stroke-linecap:round; stroke-linejoin:round; stroke-width:2; stroke-opacity:0.1; fill:none\" points=\"1503.84,1486.45 1503.84,47.2441 \"/>\n",
       "<polyline clip-path=\"url(#clip932)\" style=\"stroke:#000000; stroke-linecap:round; stroke-linejoin:round; stroke-width:2; stroke-opacity:0.1; fill:none\" points=\"1940.79,1486.45 1940.79,47.2441 \"/>\n",
       "<polyline clip-path=\"url(#clip932)\" style=\"stroke:#000000; stroke-linecap:round; stroke-linejoin:round; stroke-width:2; stroke-opacity:0.1; fill:none\" points=\"148.057,1219.57 2352.76,1219.57 \"/>\n",
       "<polyline clip-path=\"url(#clip932)\" style=\"stroke:#000000; stroke-linecap:round; stroke-linejoin:round; stroke-width:2; stroke-opacity:0.1; fill:none\" points=\"148.057,843.504 2352.76,843.504 \"/>\n",
       "<polyline clip-path=\"url(#clip932)\" style=\"stroke:#000000; stroke-linecap:round; stroke-linejoin:round; stroke-width:2; stroke-opacity:0.1; fill:none\" points=\"148.057,467.442 2352.76,467.442 \"/>\n",
       "<polyline clip-path=\"url(#clip932)\" style=\"stroke:#000000; stroke-linecap:round; stroke-linejoin:round; stroke-width:2; stroke-opacity:0.1; fill:none\" points=\"148.057,91.3792 2352.76,91.3792 \"/>\n",
       "<polyline clip-path=\"url(#clip930)\" style=\"stroke:#000000; stroke-linecap:round; stroke-linejoin:round; stroke-width:4; stroke-opacity:1; fill:none\" points=\"148.057,1486.45 2352.76,1486.45 \"/>\n",
       "<polyline clip-path=\"url(#clip930)\" style=\"stroke:#000000; stroke-linecap:round; stroke-linejoin:round; stroke-width:4; stroke-opacity:1; fill:none\" points=\"192.976,1486.45 192.976,1467.55 \"/>\n",
       "<polyline clip-path=\"url(#clip930)\" style=\"stroke:#000000; stroke-linecap:round; stroke-linejoin:round; stroke-width:4; stroke-opacity:1; fill:none\" points=\"629.93,1486.45 629.93,1467.55 \"/>\n",
       "<polyline clip-path=\"url(#clip930)\" style=\"stroke:#000000; stroke-linecap:round; stroke-linejoin:round; stroke-width:4; stroke-opacity:1; fill:none\" points=\"1066.89,1486.45 1066.89,1467.55 \"/>\n",
       "<polyline clip-path=\"url(#clip930)\" style=\"stroke:#000000; stroke-linecap:round; stroke-linejoin:round; stroke-width:4; stroke-opacity:1; fill:none\" points=\"1503.84,1486.45 1503.84,1467.55 \"/>\n",
       "<polyline clip-path=\"url(#clip930)\" style=\"stroke:#000000; stroke-linecap:round; stroke-linejoin:round; stroke-width:4; stroke-opacity:1; fill:none\" points=\"1940.79,1486.45 1940.79,1467.55 \"/>\n",
       "<path clip-path=\"url(#clip930)\" d=\"M192.976 1517.37 Q189.364 1517.37 187.536 1520.93 Q185.73 1524.47 185.73 1531.6 Q185.73 1538.71 187.536 1542.27 Q189.364 1545.82 192.976 1545.82 Q196.61 1545.82 198.415 1542.27 Q200.244 1538.71 200.244 1531.6 Q200.244 1524.47 198.415 1520.93 Q196.61 1517.37 192.976 1517.37 M192.976 1513.66 Q198.786 1513.66 201.841 1518.27 Q204.92 1522.85 204.92 1531.6 Q204.92 1540.33 201.841 1544.94 Q198.786 1549.52 192.976 1549.52 Q187.165 1549.52 184.087 1544.94 Q181.031 1540.33 181.031 1531.6 Q181.031 1522.85 184.087 1518.27 Q187.165 1513.66 192.976 1513.66 Z\" fill=\"#000000\" fill-rule=\"nonzero\" fill-opacity=\"1\" /><path clip-path=\"url(#clip930)\" d=\"M609.201 1544.91 L625.521 1544.91 L625.521 1548.85 L603.576 1548.85 L603.576 1544.91 Q606.238 1542.16 610.822 1537.53 Q615.428 1532.88 616.609 1531.53 Q618.854 1529.01 619.734 1527.27 Q620.636 1525.51 620.636 1523.82 Q620.636 1521.07 618.692 1519.33 Q616.771 1517.6 613.669 1517.6 Q611.47 1517.6 609.016 1518.36 Q606.586 1519.13 603.808 1520.68 L603.808 1515.95 Q606.632 1514.82 609.086 1514.24 Q611.539 1513.66 613.576 1513.66 Q618.947 1513.66 622.141 1516.35 Q625.336 1519.03 625.336 1523.52 Q625.336 1525.65 624.525 1527.57 Q623.738 1529.47 621.632 1532.07 Q621.053 1532.74 617.951 1535.95 Q614.849 1539.15 609.201 1544.91 Z\" fill=\"#000000\" fill-rule=\"nonzero\" fill-opacity=\"1\" /><path clip-path=\"url(#clip930)\" d=\"M635.382 1514.29 L653.738 1514.29 L653.738 1518.22 L639.664 1518.22 L639.664 1526.7 Q640.683 1526.35 641.701 1526.19 Q642.72 1526 643.738 1526 Q649.525 1526 652.905 1529.17 Q656.284 1532.34 656.284 1537.76 Q656.284 1543.34 652.812 1546.44 Q649.34 1549.52 643.021 1549.52 Q640.845 1549.52 638.576 1549.15 Q636.331 1548.78 633.923 1548.04 L633.923 1543.34 Q636.007 1544.47 638.229 1545.03 Q640.451 1545.58 642.928 1545.58 Q646.933 1545.58 649.271 1543.48 Q651.609 1541.37 651.609 1537.76 Q651.609 1534.15 649.271 1532.04 Q646.933 1529.94 642.928 1529.94 Q641.053 1529.94 639.178 1530.35 Q637.326 1530.77 635.382 1531.65 L635.382 1514.29 Z\" fill=\"#000000\" fill-rule=\"nonzero\" fill-opacity=\"1\" /><path clip-path=\"url(#clip930)\" d=\"M1041.58 1514.29 L1059.94 1514.29 L1059.94 1518.22 L1045.87 1518.22 L1045.87 1526.7 Q1046.89 1526.35 1047.9 1526.19 Q1048.92 1526 1049.94 1526 Q1055.73 1526 1059.11 1529.17 Q1062.49 1532.34 1062.49 1537.76 Q1062.49 1543.34 1059.01 1546.44 Q1055.54 1549.52 1049.22 1549.52 Q1047.05 1549.52 1044.78 1549.15 Q1042.53 1548.78 1040.13 1548.04 L1040.13 1543.34 Q1042.21 1544.47 1044.43 1545.03 Q1046.65 1545.58 1049.13 1545.58 Q1053.14 1545.58 1055.47 1543.48 Q1057.81 1541.37 1057.81 1537.76 Q1057.81 1534.15 1055.47 1532.04 Q1053.14 1529.94 1049.13 1529.94 Q1047.26 1529.94 1045.38 1530.35 Q1043.53 1530.77 1041.58 1531.65 L1041.58 1514.29 Z\" fill=\"#000000\" fill-rule=\"nonzero\" fill-opacity=\"1\" /><path clip-path=\"url(#clip930)\" d=\"M1081.7 1517.37 Q1078.09 1517.37 1076.26 1520.93 Q1074.45 1524.47 1074.45 1531.6 Q1074.45 1538.71 1076.26 1542.27 Q1078.09 1545.82 1081.7 1545.82 Q1085.33 1545.82 1087.14 1542.27 Q1088.97 1538.71 1088.97 1531.6 Q1088.97 1524.47 1087.14 1520.93 Q1085.33 1517.37 1081.7 1517.37 M1081.7 1513.66 Q1087.51 1513.66 1090.57 1518.27 Q1093.64 1522.85 1093.64 1531.6 Q1093.64 1540.33 1090.57 1544.94 Q1087.51 1549.52 1081.7 1549.52 Q1075.89 1549.52 1072.81 1544.94 Q1069.76 1540.33 1069.76 1531.6 Q1069.76 1522.85 1072.81 1518.27 Q1075.89 1513.66 1081.7 1513.66 Z\" fill=\"#000000\" fill-rule=\"nonzero\" fill-opacity=\"1\" /><path clip-path=\"url(#clip930)\" d=\"M1477.69 1514.29 L1499.92 1514.29 L1499.92 1516.28 L1487.37 1548.85 L1482.49 1548.85 L1494.29 1518.22 L1477.69 1518.22 L1477.69 1514.29 Z\" fill=\"#000000\" fill-rule=\"nonzero\" fill-opacity=\"1\" /><path clip-path=\"url(#clip930)\" d=\"M1509.08 1514.29 L1527.44 1514.29 L1527.44 1518.22 L1513.37 1518.22 L1513.37 1526.7 Q1514.38 1526.35 1515.4 1526.19 Q1516.42 1526 1517.44 1526 Q1523.23 1526 1526.61 1529.17 Q1529.99 1532.34 1529.99 1537.76 Q1529.99 1543.34 1526.51 1546.44 Q1523.04 1549.52 1516.72 1549.52 Q1514.55 1549.52 1512.28 1549.15 Q1510.03 1548.78 1507.62 1548.04 L1507.62 1543.34 Q1509.71 1544.47 1511.93 1545.03 Q1514.15 1545.58 1516.63 1545.58 Q1520.63 1545.58 1522.97 1543.48 Q1525.31 1541.37 1525.31 1537.76 Q1525.31 1534.15 1522.97 1532.04 Q1520.63 1529.94 1516.63 1529.94 Q1514.75 1529.94 1512.88 1530.35 Q1511.03 1530.77 1509.08 1531.65 L1509.08 1514.29 Z\" fill=\"#000000\" fill-rule=\"nonzero\" fill-opacity=\"1\" /><path clip-path=\"url(#clip930)\" d=\"M1900.4 1544.91 L1908.04 1544.91 L1908.04 1518.55 L1899.73 1520.21 L1899.73 1515.95 L1907.99 1514.29 L1912.67 1514.29 L1912.67 1544.91 L1920.31 1544.91 L1920.31 1548.85 L1900.4 1548.85 L1900.4 1544.91 Z\" fill=\"#000000\" fill-rule=\"nonzero\" fill-opacity=\"1\" /><path clip-path=\"url(#clip930)\" d=\"M1939.75 1517.37 Q1936.14 1517.37 1934.31 1520.93 Q1932.51 1524.47 1932.51 1531.6 Q1932.51 1538.71 1934.31 1542.27 Q1936.14 1545.82 1939.75 1545.82 Q1943.39 1545.82 1945.19 1542.27 Q1947.02 1538.71 1947.02 1531.6 Q1947.02 1524.47 1945.19 1520.93 Q1943.39 1517.37 1939.75 1517.37 M1939.75 1513.66 Q1945.56 1513.66 1948.62 1518.27 Q1951.7 1522.85 1951.7 1531.6 Q1951.7 1540.33 1948.62 1544.94 Q1945.56 1549.52 1939.75 1549.52 Q1933.94 1549.52 1930.86 1544.94 Q1927.81 1540.33 1927.81 1531.6 Q1927.81 1522.85 1930.86 1518.27 Q1933.94 1513.66 1939.75 1513.66 Z\" fill=\"#000000\" fill-rule=\"nonzero\" fill-opacity=\"1\" /><path clip-path=\"url(#clip930)\" d=\"M1969.92 1517.37 Q1966.3 1517.37 1964.48 1520.93 Q1962.67 1524.47 1962.67 1531.6 Q1962.67 1538.71 1964.48 1542.27 Q1966.3 1545.82 1969.92 1545.82 Q1973.55 1545.82 1975.35 1542.27 Q1977.18 1538.71 1977.18 1531.6 Q1977.18 1524.47 1975.35 1520.93 Q1973.55 1517.37 1969.92 1517.37 M1969.92 1513.66 Q1975.73 1513.66 1978.78 1518.27 Q1981.86 1522.85 1981.86 1531.6 Q1981.86 1540.33 1978.78 1544.94 Q1975.73 1549.52 1969.92 1549.52 Q1964.1 1549.52 1961.03 1544.94 Q1957.97 1540.33 1957.97 1531.6 Q1957.97 1522.85 1961.03 1518.27 Q1964.1 1513.66 1969.92 1513.66 Z\" fill=\"#000000\" fill-rule=\"nonzero\" fill-opacity=\"1\" /><polyline clip-path=\"url(#clip930)\" style=\"stroke:#000000; stroke-linecap:round; stroke-linejoin:round; stroke-width:4; stroke-opacity:1; fill:none\" points=\"148.057,1486.45 148.057,47.2441 \"/>\n",
       "<polyline clip-path=\"url(#clip930)\" style=\"stroke:#000000; stroke-linecap:round; stroke-linejoin:round; stroke-width:4; stroke-opacity:1; fill:none\" points=\"148.057,1219.57 166.954,1219.57 \"/>\n",
       "<polyline clip-path=\"url(#clip930)\" style=\"stroke:#000000; stroke-linecap:round; stroke-linejoin:round; stroke-width:4; stroke-opacity:1; fill:none\" points=\"148.057,843.504 166.954,843.504 \"/>\n",
       "<polyline clip-path=\"url(#clip930)\" style=\"stroke:#000000; stroke-linecap:round; stroke-linejoin:round; stroke-width:4; stroke-opacity:1; fill:none\" points=\"148.057,467.442 166.954,467.442 \"/>\n",
       "<polyline clip-path=\"url(#clip930)\" style=\"stroke:#000000; stroke-linecap:round; stroke-linejoin:round; stroke-width:4; stroke-opacity:1; fill:none\" points=\"148.057,91.3792 166.954,91.3792 \"/>\n",
       "<path clip-path=\"url(#clip930)\" d=\"M50.9921 1220.02 L80.6679 1220.02 L80.6679 1223.95 L50.9921 1223.95 L50.9921 1220.02 Z\" fill=\"#000000\" fill-rule=\"nonzero\" fill-opacity=\"1\" /><path clip-path=\"url(#clip930)\" d=\"M104.927 1218.21 Q108.283 1218.93 110.158 1221.2 Q112.057 1223.47 112.057 1226.8 Q112.057 1231.92 108.538 1234.72 Q105.02 1237.52 98.5382 1237.52 Q96.3623 1237.52 94.0475 1237.08 Q91.7558 1236.66 89.3021 1235.8 L89.3021 1231.29 Q91.2465 1232.43 93.5613 1233 Q95.8761 1233.58 98.3993 1233.58 Q102.797 1233.58 105.089 1231.85 Q107.404 1230.11 107.404 1226.8 Q107.404 1223.74 105.251 1222.03 Q103.121 1220.3 99.3021 1220.3 L95.2743 1220.3 L95.2743 1216.45 L99.4872 1216.45 Q102.936 1216.45 104.765 1215.09 Q106.594 1213.7 106.594 1211.11 Q106.594 1208.44 104.696 1207.03 Q102.821 1205.6 99.3021 1205.6 Q97.3808 1205.6 95.1817 1206.01 Q92.9826 1206.43 90.3438 1207.31 L90.3438 1203.14 Q93.0058 1202.4 95.3206 1202.03 Q97.6585 1201.66 99.7187 1201.66 Q105.043 1201.66 108.145 1204.09 Q111.246 1206.5 111.246 1210.62 Q111.246 1213.49 109.603 1215.48 Q107.959 1217.45 104.927 1218.21 Z\" fill=\"#000000\" fill-rule=\"nonzero\" fill-opacity=\"1\" /><path clip-path=\"url(#clip930)\" d=\"M51.9412 843.955 L81.617 843.955 L81.617 847.891 L51.9412 847.891 L51.9412 843.955 Z\" fill=\"#000000\" fill-rule=\"nonzero\" fill-opacity=\"1\" /><path clip-path=\"url(#clip930)\" d=\"M95.7373 856.849 L112.057 856.849 L112.057 860.784 L90.1123 860.784 L90.1123 856.849 Q92.7743 854.094 97.3576 849.465 Q101.964 844.812 103.145 843.469 Q105.39 840.946 106.27 839.21 Q107.172 837.451 107.172 835.761 Q107.172 833.006 105.228 831.27 Q103.307 829.534 100.205 829.534 Q98.0058 829.534 95.5521 830.298 Q93.1215 831.062 90.3438 832.613 L90.3438 827.891 Q93.1678 826.756 95.6215 826.178 Q98.0752 825.599 100.112 825.599 Q105.483 825.599 108.677 828.284 Q111.871 830.969 111.871 835.46 Q111.871 837.59 111.061 839.511 Q110.274 841.409 108.168 844.002 Q107.589 844.673 104.487 847.891 Q101.385 851.085 95.7373 856.849 Z\" fill=\"#000000\" fill-rule=\"nonzero\" fill-opacity=\"1\" /><path clip-path=\"url(#clip930)\" d=\"M51.5708 467.893 L81.2466 467.893 L81.2466 471.828 L51.5708 471.828 L51.5708 467.893 Z\" fill=\"#000000\" fill-rule=\"nonzero\" fill-opacity=\"1\" /><path clip-path=\"url(#clip930)\" d=\"M92.1493 480.786 L99.7882 480.786 L99.7882 454.421 L91.478 456.088 L91.478 451.828 L99.7419 450.162 L104.418 450.162 L104.418 480.786 L112.057 480.786 L112.057 484.722 L92.1493 484.722 L92.1493 480.786 Z\" fill=\"#000000\" fill-rule=\"nonzero\" fill-opacity=\"1\" /><path clip-path=\"url(#clip930)\" d=\"M100.112 77.1779 Q96.5011 77.1779 94.6724 80.7427 Q92.8669 84.2844 92.8669 91.414 Q92.8669 98.5204 94.6724 102.085 Q96.5011 105.627 100.112 105.627 Q103.746 105.627 105.552 102.085 Q107.381 98.5204 107.381 91.414 Q107.381 84.2844 105.552 80.7427 Q103.746 77.1779 100.112 77.1779 M100.112 73.4742 Q105.922 73.4742 108.978 78.0807 Q112.057 82.664 112.057 91.414 Q112.057 100.141 108.978 104.747 Q105.922 109.331 100.112 109.331 Q94.3021 109.331 91.2234 104.747 Q88.1679 100.141 88.1679 91.414 Q88.1679 82.664 91.2234 78.0807 Q94.3021 73.4742 100.112 73.4742 Z\" fill=\"#000000\" fill-rule=\"nonzero\" fill-opacity=\"1\" /><polyline clip-path=\"url(#clip932)\" style=\"stroke:#009af9; stroke-linecap:round; stroke-linejoin:round; stroke-width:4; stroke-opacity:1; fill:none\" points=\"210.454,743.766 227.932,1143.78 245.41,1358.94 262.888,749.186 280.367,1223.77 297.845,748.518 315.323,1145.73 332.801,1432.95 350.279,749.401 367.758,1211.92 385.236,1310.86 402.714,744.495 420.192,1151.22 437.67,1416.47 455.148,751.695 472.627,1224.51 490.105,751.73 507.583,1147.39 525.061,1445.72 542.539,754.163 560.018,1212.3 577.496,1333.04 594.974,749.173 612.452,1151.68 629.93,1380.65 647.409,759.566 664.887,1237.02 682.365,759.472 699.843,1158.11 717.321,1319.4 734.8,748.054 752.278,975.316 769.756,896.652 787.234,1027.93 804.712,776.041 822.191,999.707 839.669,506.138 857.147,787.718 874.625,629.399 892.103,720.066 909.581,657.558 927.06,675.25 944.538,713.243 962.016,598.258 979.494,676.301 996.972,626.463 1014.45,516.305 1031.93,623.116 1049.41,283.378 1066.89,481.144 1084.36,520.557 1101.84,87.9763 1119.32,308.599 1136.8,385.115 1154.28,467.065 1171.75,468.219 1189.23,556.718 1206.71,461.985 1224.19,574.867 1241.67,398.08 1259.15,587.308 1276.62,457.945 1294.1,663.797 1311.58,600.587 1329.06,605.161 1346.54,585.737 1364.01,533.201 1381.49,510.086 1398.97,609.94 1416.45,624.433 1433.93,609.491 1451.41,674.425 1468.88,482.375 1486.36,622.631 1503.84,358.714 1521.32,659.142 1538.8,602.454 1556.27,505.152 1573.75,730.84 1591.23,478.318 1608.71,776.039 1626.19,174.157 1643.67,398.363 1661.14,447.244 1678.62,523.965 1696.1,717.238 1713.58,459.623 1731.06,721.259 1748.53,472.64 1766.01,661.923 1783.49,569.557 1800.97,626.559 1818.45,586.669 1835.93,656.32 1853.4,631.134 1870.88,415.619 1888.36,665.402 1905.84,792.616 1923.32,501.941 1940.79,697.249 1958.27,426.593 1975.75,748.704 1993.23,466.827 2010.71,583.86 2028.19,534.636 2045.66,473.916 2063.14,627.903 2080.62,580.698 2098.1,631.701 2115.58,484.716 2133.06,722.772 2150.53,424.241 2168.01,748.291 2185.49,439.386 2202.97,699.86 2220.45,596.861 2237.92,671.655 2255.4,616.698 2272.88,750.76 2290.36,392.231 \"/>\n",
       "<path clip-path=\"url(#clip930)\" d=\"M221.547 198.898 L494.447 198.898 L494.447 95.2176 L221.547 95.2176  Z\" fill=\"#ffffff\" fill-rule=\"evenodd\" fill-opacity=\"1\"/>\n",
       "<polyline clip-path=\"url(#clip930)\" style=\"stroke:#000000; stroke-linecap:round; stroke-linejoin:round; stroke-width:4; stroke-opacity:1; fill:none\" points=\"221.547,198.898 494.447,198.898 494.447,95.2176 221.547,95.2176 221.547,198.898 \"/>\n",
       "<polyline clip-path=\"url(#clip930)\" style=\"stroke:#009af9; stroke-linecap:round; stroke-linejoin:round; stroke-width:4; stroke-opacity:1; fill:none\" points=\"246.043,147.058 393.023,147.058 \"/>\n",
       "<path clip-path=\"url(#clip930)\" d=\"M431.362 166.745 Q429.557 171.375 427.844 172.787 Q426.131 174.199 423.261 174.199 L419.858 174.199 L419.858 170.634 L422.358 170.634 Q424.117 170.634 425.089 169.8 Q426.061 168.967 427.242 165.865 L428.006 163.921 L417.52 138.412 L422.034 138.412 L430.136 158.689 L438.237 138.412 L442.751 138.412 L431.362 166.745 Z\" fill=\"#000000\" fill-rule=\"nonzero\" fill-opacity=\"1\" /><path clip-path=\"url(#clip930)\" d=\"M450.043 160.402 L457.682 160.402 L457.682 134.037 L449.372 135.703 L449.372 131.444 L457.635 129.778 L462.311 129.778 L462.311 160.402 L469.95 160.402 L469.95 164.338 L450.043 164.338 L450.043 160.402 Z\" fill=\"#000000\" fill-rule=\"nonzero\" fill-opacity=\"1\" /></svg>\n"
      ]
     },
     "metadata": {},
     "output_type": "display_data"
    }
   ],
   "source": [
    "using Plots\n",
    "plot(log10.(e))"
   ]
  },
  {
   "cell_type": "code",
   "execution_count": 483,
   "id": "e03d785c",
   "metadata": {},
   "outputs": [
    {
     "data": {
      "text/plain": [
       "825×21 Matrix{Float64}:\n",
       " 0.0   0.0       0.0       0.0       …   0.0         0.0        0.0\n",
       " 0.0   0.0       0.0       0.0           0.0         0.0        0.0\n",
       " 1.0   1.0       1.0       1.0           1.0         1.0        1.0\n",
       " 0.0   0.0       0.0       0.0           0.0         0.0        0.0\n",
       " 0.0   0.0       0.0       0.0           0.0         0.0        0.0\n",
       " 0.0   0.0       0.0       0.0       …   0.0         0.0        0.0\n",
       " 0.0   0.0       0.0       0.0           0.0         0.0        0.0\n",
       " 1.0   1.0       1.0       1.0           1.0         1.0        1.0\n",
       " 1.0   1.0       1.0       1.0           1.0         1.0        1.0\n",
       " 0.0   0.0       0.0       0.0           0.0         0.0        0.0\n",
       " ⋮                                   ⋱                          ⋮\n",
       " 7.0   7.00475   7.00811   7.00971       6.99069     6.85023    6.59603\n",
       " 0.75  0.655726  0.561696  0.469389      0.718584   -1.0192    -1.5902\n",
       " 0.75  0.75009   0.750248  0.749688      0.181701    0.929106   1.42224\n",
       " 8.0   8.00478   8.00764   8.00821       7.96452     7.75952    7.42109\n",
       " 0.75  0.632342  0.514631  0.399552  …   0.752331   -1.46148   -2.13353\n",
       " 0.75  0.750214  0.750281  0.749713     -0.0337389   0.945615   1.74546\n",
       " 9.0   9.00467   9.00682   9.00613       8.94441     8.65601    8.2315\n",
       " 0.75  0.607953  0.46556   0.326753      0.811931   -1.9268    -2.68471\n",
       " 0.75  0.75037   0.750298  0.749758     -0.249227    0.964798   2.09444"
      ]
     },
     "metadata": {},
     "output_type": "display_data"
    }
   ],
   "source": [
    "r1"
   ]
  },
  {
   "cell_type": "code",
   "execution_count": 484,
   "id": "57ab41b8",
   "metadata": {},
   "outputs": [
    {
     "data": {
      "text/plain": [
       "2"
      ]
     },
     "metadata": {},
     "output_type": "display_data"
    }
   ],
   "source": [
    "u1 = similar(r1)\n",
    "r0 = FEM.nodePositionVector(problem)\n",
    "for i in 1:size(r1, 2)\n",
    "    u1[:, i] = r1[:, i] - r0\n",
    "end\n",
    "\n",
    "u2 = FEM.showDoFResults(problem, u1, :uvec, t=1:size(u1, 2), visible=true)"
   ]
  },
  {
   "cell_type": "code",
   "execution_count": 485,
   "id": "ec426fc2",
   "metadata": {},
   "outputs": [
    {
     "data": {
      "text/plain": [
       "825-element Vector{Float64}:\n",
       " 0.0\n",
       " 0.0\n",
       " 1.0\n",
       " 0.0\n",
       " 0.0\n",
       " 0.0\n",
       " 0.0\n",
       " 1.0\n",
       " 1.0\n",
       " 0.0\n",
       " ⋮\n",
       " 7.000000000000007\n",
       " 0.75\n",
       " 0.75\n",
       " 8.0\n",
       " 0.75\n",
       " 0.75\n",
       " 9.0\n",
       " 0.7499999999999998\n",
       " 0.7499999999999999"
      ]
     },
     "metadata": {},
     "output_type": "display_data"
    }
   ],
   "source": [
    "r0"
   ]
  },
  {
   "cell_type": "code",
   "execution_count": 486,
   "id": "d9e04c86",
   "metadata": {},
   "outputs": [
    {
     "data": {
      "text/plain": [
       "LowLevelFEM.TensorField([[0.3999999999999999; 0.0; … ; 0.0; 0.6000000000000001;;], [0.3999999999999999; 0.0; … ; 0.0; 0.6000000000000001;;], [0.3999999999999999; 0.0; … ; 0.0; 0.6000000000000001;;], [0.3999999999999999; 0.0; … ; 0.0; 0.6000000000000001;;], [0.3999999999999999; 0.0; … ; 0.0; 0.6000000000000001;;], [0.3999999999999999; 0.0; … ; 0.0; 0.6000000000000001;;], [0.3999999999999999; 0.0; … ; 0.0; 0.6000000000000001;;], [0.3999999999999999; 0.0; … ; 0.0; 0.6000000000000001;;], [0.3999999999999999; 0.0; … ; 0.0; 0.6000000000000001;;], [0.3999999999999999; 0.0; … ; 0.0; 0.6000000000000001;;]  …  [0.3999999999999999; 0.0; … ; 0.0; 0.6000000000000001;;], [0.3999999999999999; 0.0; … ; 0.0; 0.6000000000000001;;], [0.3999999999999999; 0.0; … ; 0.0; 0.6000000000000001;;], [0.3999999999999999; 0.0; … ; 0.0; 0.6000000000000001;;], [0.3999999999999999; 0.0; … ; 0.0; 0.6000000000000001;;], [0.3999999999999999; 0.0; … ; 0.0; 0.6000000000000001;;], [0.3999999999999999; 0.0; … ; 0.0; 0.6000000000000001;;], [0.3999999999999999; 0.0; … ; 0.0; 0.6000000000000001;;], [0.3999999999999999; 0.0; … ; 0.0; 0.6000000000000001;;], [0.3999999999999999; 0.0; … ; 0.0; 0.6000000000000001;;]], Matrix{Float64}(undef, 0, 0), [273, 274, 275, 276, 277, 278, 279, 280, 281, 282  …  423, 424, 425, 426, 427, 428, 429, 430, 431, 432], 1, :F)"
      ]
     },
     "metadata": {},
     "output_type": "display_data"
    }
   ],
   "source": [
    "r = FEM.nodePositionVector(problem)\n",
    "ux(x, y, z) = 0.4x\n",
    "uy(x, y, z) = 0.5y\n",
    "uz(x, y, z) = 0.6z\n",
    "q0 = FEM.field(\"body\", fx=ux, fy=uy, fz=uz)\n",
    "q = FEM.vectorField(problem, [q0])\n",
    "F = FEM.deformationGradient(problem, q)"
   ]
  },
  {
   "cell_type": "code",
   "execution_count": 487,
   "id": "bda3da4b",
   "metadata": {},
   "outputs": [
    {
     "data": {
      "text/plain": [
       "3×3 Matrix{Float64}:\n",
       " 0.4  0.0  0.0\n",
       " 0.0  0.5  0.0\n",
       " 0.0  0.0  0.6"
      ]
     },
     "metadata": {},
     "output_type": "display_data"
    }
   ],
   "source": [
    "reshape(F.A[1][1:9], 3, 3)"
   ]
  },
  {
   "cell_type": "code",
   "execution_count": 488,
   "id": "4aba7a4b",
   "metadata": {},
   "outputs": [
    {
     "ename": "MethodError",
     "evalue": "MethodError: no method matching LowLevelFEM.TensorField(::Vector{Any}, ::Vector{Int64}, ::Int64, ::Symbol)\nThe type `LowLevelFEM.TensorField` exists, but no method is defined for this combination of argument types when trying to construct it.\n\nClosest candidates are:\n  LowLevelFEM.TensorField(::Any, ::Any, ::Any, ::Any, !Matched::Any)\n   @ LowLevelFEM ~/Dokumentumok/GitHub/LowLevelFEM.jl/src/general.jl:402\n  LowLevelFEM.TensorField(!Matched::Vector{Matrix{Float64}}, !Matched::Matrix{Float64}, !Matched::Vector{Int64}, !Matched::Int64, !Matched::Symbol)\n   @ LowLevelFEM ~/Dokumentumok/GitHub/LowLevelFEM.jl/src/general.jl:402\n",
     "output_type": "error",
     "traceback": [
      "MethodError: no method matching LowLevelFEM.TensorField(::Vector{Any}, ::Vector{Int64}, ::Int64, ::Symbol)\n",
      "The type `LowLevelFEM.TensorField` exists, but no method is defined for this combination of argument types when trying to construct it.\n",
      "\n",
      "Closest candidates are:\n",
      "  LowLevelFEM.TensorField(::Any, ::Any, ::Any, ::Any, !Matched::Any)\n",
      "   @ LowLevelFEM ~/Dokumentumok/GitHub/LowLevelFEM.jl/src/general.jl:402\n",
      "  LowLevelFEM.TensorField(!Matched::Vector{Matrix{Float64}}, !Matched::Matrix{Float64}, !Matched::Vector{Int64}, !Matched::Int64, !Matched::Symbol)\n",
      "   @ LowLevelFEM ~/Dokumentumok/GitHub/LowLevelFEM.jl/src/general.jl:402\n",
      "\n",
      "\n",
      "Stacktrace:\n",
      " [1] unitTensor(A::LowLevelFEM.TensorField)\n",
      "   @ LowLevelFEM ~/Dokumentumok/GitHub/LowLevelFEM.jl/src/general.jl:831\n",
      " [2] top-level scope\n",
      "   @ ~/Dokumentumok/GitHub/LowLevelFEM.jl/examples/Large_deformations/jl_notebook_cell_df34fa98e69747e1a8f8a730347b8e2f_X21sZmlsZQ==.jl:1"
     ]
    }
   ],
   "source": [
    "E = (F' * F - FEM.unitTensor(F)) / 2\n",
    "\n",
    "reshape(E.A[1][1:9], 3, 3)"
   ]
  },
  {
   "cell_type": "code",
   "execution_count": 489,
   "id": "a7c506a2",
   "metadata": {},
   "outputs": [
    {
     "ename": "MethodError",
     "evalue": "MethodError: no method matching LowLevelFEM.TensorField(::Vector{Any}, ::Vector{Int64}, ::Int64, ::Symbol)\nThe type `LowLevelFEM.TensorField` exists, but no method is defined for this combination of argument types when trying to construct it.\n\nClosest candidates are:\n  LowLevelFEM.TensorField(::Any, ::Any, ::Any, ::Any, !Matched::Any)\n   @ LowLevelFEM ~/Dokumentumok/GitHub/LowLevelFEM.jl/src/general.jl:402\n  LowLevelFEM.TensorField(!Matched::Vector{Matrix{Float64}}, !Matched::Matrix{Float64}, !Matched::Vector{Int64}, !Matched::Int64, !Matched::Symbol)\n   @ LowLevelFEM ~/Dokumentumok/GitHub/LowLevelFEM.jl/src/general.jl:402\n",
     "output_type": "error",
     "traceback": [
      "MethodError: no method matching LowLevelFEM.TensorField(::Vector{Any}, ::Vector{Int64}, ::Int64, ::Symbol)\n",
      "The type `LowLevelFEM.TensorField` exists, but no method is defined for this combination of argument types when trying to construct it.\n",
      "\n",
      "Closest candidates are:\n",
      "  LowLevelFEM.TensorField(::Any, ::Any, ::Any, ::Any, !Matched::Any)\n",
      "   @ LowLevelFEM ~/Dokumentumok/GitHub/LowLevelFEM.jl/src/general.jl:402\n",
      "  LowLevelFEM.TensorField(!Matched::Vector{Matrix{Float64}}, !Matched::Matrix{Float64}, !Matched::Vector{Int64}, !Matched::Int64, !Matched::Symbol)\n",
      "   @ LowLevelFEM ~/Dokumentumok/GitHub/LowLevelFEM.jl/src/general.jl:402\n",
      "\n",
      "\n",
      "Stacktrace:\n",
      " [1] unitTensor(A::LowLevelFEM.TensorField)\n",
      "   @ LowLevelFEM ~/Dokumentumok/GitHub/LowLevelFEM.jl/src/general.jl:831\n",
      " [2] top-level scope\n",
      "   @ ~/Dokumentumok/GitHub/LowLevelFEM.jl/examples/Large_deformations/jl_notebook_cell_df34fa98e69747e1a8f8a730347b8e2f_X22sZmlsZQ==.jl:1"
     ]
    }
   ],
   "source": [
    "e = (FEM.unitTensor(F) - inv(F * F')) / 2\n",
    "\n",
    "reshape(e.A[1][1:9], 3, 3)"
   ]
  },
  {
   "cell_type": "code",
   "execution_count": 490,
   "id": "df5feea4",
   "metadata": {},
   "outputs": [
    {
     "ename": "MethodError",
     "evalue": "MethodError: no method matching LowLevelFEM.TensorField(::Vector{Any}, ::Vector{Int64}, ::Int64, ::Symbol)\nThe type `LowLevelFEM.TensorField` exists, but no method is defined for this combination of argument types when trying to construct it.\n\nClosest candidates are:\n  LowLevelFEM.TensorField(::Any, ::Any, ::Any, ::Any, !Matched::Any)\n   @ LowLevelFEM ~/Dokumentumok/GitHub/LowLevelFEM.jl/src/general.jl:402\n  LowLevelFEM.TensorField(!Matched::Vector{Matrix{Float64}}, !Matched::Matrix{Float64}, !Matched::Vector{Int64}, !Matched::Int64, !Matched::Symbol)\n   @ LowLevelFEM ~/Dokumentumok/GitHub/LowLevelFEM.jl/src/general.jl:402\n",
     "output_type": "error",
     "traceback": [
      "MethodError: no method matching LowLevelFEM.TensorField(::Vector{Any}, ::Vector{Int64}, ::Int64, ::Symbol)\n",
      "The type `LowLevelFEM.TensorField` exists, but no method is defined for this combination of argument types when trying to construct it.\n",
      "\n",
      "Closest candidates are:\n",
      "  LowLevelFEM.TensorField(::Any, ::Any, ::Any, ::Any, !Matched::Any)\n",
      "   @ LowLevelFEM ~/Dokumentumok/GitHub/LowLevelFEM.jl/src/general.jl:402\n",
      "  LowLevelFEM.TensorField(!Matched::Vector{Matrix{Float64}}, !Matched::Matrix{Float64}, !Matched::Vector{Int64}, !Matched::Int64, !Matched::Symbol)\n",
      "   @ LowLevelFEM ~/Dokumentumok/GitHub/LowLevelFEM.jl/src/general.jl:402\n",
      "\n",
      "\n",
      "Stacktrace:\n",
      " [1] inv(A::LowLevelFEM.TensorField)\n",
      "   @ LowLevelFEM ~/Dokumentumok/GitHub/LowLevelFEM.jl/src/general.jl:1149\n",
      " [2] top-level scope\n",
      "   @ ~/Dokumentumok/GitHub/LowLevelFEM.jl/examples/Large_deformations/jl_notebook_cell_df34fa98e69747e1a8f8a730347b8e2f_X23sZmlsZQ==.jl:1"
     ]
    }
   ],
   "source": [
    "e = inv(F') * E * inv(F)\n",
    "\n",
    "reshape(e.A[1][1:9], 3, 3)"
   ]
  },
  {
   "cell_type": "code",
   "execution_count": 491,
   "id": "eb7cd73d",
   "metadata": {},
   "outputs": [
    {
     "ename": "MethodError",
     "evalue": "MethodError: no method matching LowLevelFEM.TensorField(::Vector{Any}, ::Vector{Int64}, ::Int64, ::Symbol)\nThe type `LowLevelFEM.TensorField` exists, but no method is defined for this combination of argument types when trying to construct it.\n\nClosest candidates are:\n  LowLevelFEM.TensorField(::Any, ::Any, ::Any, ::Any, !Matched::Any)\n   @ LowLevelFEM ~/Dokumentumok/GitHub/LowLevelFEM.jl/src/general.jl:402\n  LowLevelFEM.TensorField(!Matched::Vector{Matrix{Float64}}, !Matched::Matrix{Float64}, !Matched::Vector{Int64}, !Matched::Int64, !Matched::Symbol)\n   @ LowLevelFEM ~/Dokumentumok/GitHub/LowLevelFEM.jl/src/general.jl:402\n",
     "output_type": "error",
     "traceback": [
      "MethodError: no method matching LowLevelFEM.TensorField(::Vector{Any}, ::Vector{Int64}, ::Int64, ::Symbol)\n",
      "The type `LowLevelFEM.TensorField` exists, but no method is defined for this combination of argument types when trying to construct it.\n",
      "\n",
      "Closest candidates are:\n",
      "  LowLevelFEM.TensorField(::Any, ::Any, ::Any, ::Any, !Matched::Any)\n",
      "   @ LowLevelFEM ~/Dokumentumok/GitHub/LowLevelFEM.jl/src/general.jl:402\n",
      "  LowLevelFEM.TensorField(!Matched::Vector{Matrix{Float64}}, !Matched::Matrix{Float64}, !Matched::Vector{Int64}, !Matched::Int64, !Matched::Symbol)\n",
      "   @ LowLevelFEM ~/Dokumentumok/GitHub/LowLevelFEM.jl/src/general.jl:402\n",
      "\n",
      "\n",
      "Stacktrace:\n",
      " [1] sqrt(A::LowLevelFEM.TensorField)\n",
      "   @ LowLevelFEM ~/Dokumentumok/GitHub/LowLevelFEM.jl/src/general.jl:1174\n",
      " [2] top-level scope\n",
      "   @ ~/Dokumentumok/GitHub/LowLevelFEM.jl/examples/Large_deformations/jl_notebook_cell_df34fa98e69747e1a8f8a730347b8e2f_X24sZmlsZQ==.jl:1"
     ]
    }
   ],
   "source": [
    "U = sqrt(F' * F)\n",
    "\n",
    "reshape(U.A[1][1:9], 3, 3)"
   ]
  },
  {
   "cell_type": "code",
   "execution_count": 492,
   "id": "49af293c",
   "metadata": {},
   "outputs": [
    {
     "ename": "MethodError",
     "evalue": "MethodError: no method matching LowLevelFEM.TensorField(::Vector{Any}, ::Vector{Int64}, ::Int64, ::Symbol)\nThe type `LowLevelFEM.TensorField` exists, but no method is defined for this combination of argument types when trying to construct it.\n\nClosest candidates are:\n  LowLevelFEM.TensorField(::Any, ::Any, ::Any, ::Any, !Matched::Any)\n   @ LowLevelFEM ~/Dokumentumok/GitHub/LowLevelFEM.jl/src/general.jl:402\n  LowLevelFEM.TensorField(!Matched::Vector{Matrix{Float64}}, !Matched::Matrix{Float64}, !Matched::Vector{Int64}, !Matched::Int64, !Matched::Symbol)\n   @ LowLevelFEM ~/Dokumentumok/GitHub/LowLevelFEM.jl/src/general.jl:402\n",
     "output_type": "error",
     "traceback": [
      "MethodError: no method matching LowLevelFEM.TensorField(::Vector{Any}, ::Vector{Int64}, ::Int64, ::Symbol)\n",
      "The type `LowLevelFEM.TensorField` exists, but no method is defined for this combination of argument types when trying to construct it.\n",
      "\n",
      "Closest candidates are:\n",
      "  LowLevelFEM.TensorField(::Any, ::Any, ::Any, ::Any, !Matched::Any)\n",
      "   @ LowLevelFEM ~/Dokumentumok/GitHub/LowLevelFEM.jl/src/general.jl:402\n",
      "  LowLevelFEM.TensorField(!Matched::Vector{Matrix{Float64}}, !Matched::Matrix{Float64}, !Matched::Vector{Int64}, !Matched::Int64, !Matched::Symbol)\n",
      "   @ LowLevelFEM ~/Dokumentumok/GitHub/LowLevelFEM.jl/src/general.jl:402\n",
      "\n",
      "\n",
      "Stacktrace:\n",
      " [1] unitTensor(A::LowLevelFEM.TensorField)\n",
      "   @ LowLevelFEM ~/Dokumentumok/GitHub/LowLevelFEM.jl/src/general.jl:831\n",
      " [2] top-level scope\n",
      "   @ ~/Dokumentumok/GitHub/LowLevelFEM.jl/examples/Large_deformations/jl_notebook_cell_df34fa98e69747e1a8f8a730347b8e2f_X25sZmlsZQ==.jl:5"
     ]
    }
   ],
   "source": [
    "Ex = 10\n",
    "νxy = 0.3\n",
    "λ = Ex * νxy / ((1 + νxy) * (1 - 2νxy))\n",
    "μ = Ex / (2 * (1 + νxy))\n",
    "I3 = FEM.unitTensor(F)\n",
    "iC = inv(F' * F)\n",
    "J1 = det(F)\n",
    "SII = μ * (I3 - iC) + λ * log(J1) / J1 * I3\n",
    "\n",
    "reshape(SII.A[1][1:9], 3, 3)"
   ]
  },
  {
   "cell_type": "code",
   "execution_count": 493,
   "id": "88fa00a0",
   "metadata": {},
   "outputs": [
    {
     "data": {
      "text/plain": [
       "probe (generic function with 1 method)"
      ]
     },
     "metadata": {},
     "output_type": "display_data"
    }
   ],
   "source": [
    "function probe(A, x, y, z)\n",
    "    elementTag, elementType, nodeTags, u, v, w = gmsh.model.mesh.getElementByCoordinates(x, y, z, 3, false)\n",
    "    elementName, dim, order, numNodes::Int64, localNodeCoord, numPrimaryNodes = gmsh.model.mesh.getElementProperties(elementType)\n",
    "    comp, fun, ori = gmsh.model.mesh.getBasisFunctions(elementType, [u, v, w], \"Lagrange\")\n",
    "    SS = [0.0, 0, 0, 0, 0, 0, 0, 0, 0]\n",
    "    if isa(A, FEM.TensorField)\n",
    "        ind = findfirst(i -> i == elementTag, SII.numElem)\n",
    "        for i in range(1, 9)\n",
    "            SS[i] = fun' * SII.A[ind][i:9:9numNodes, 1]\n",
    "        end\n",
    "    elseif isa(A, Matrix)\n",
    "        for i in range(1, 9)\n",
    "            SS[i] = fun' * A[9nodeTags.-(9-i), 1]\n",
    "        end\n",
    "    end\n",
    "    return reshape(SS, 3, 3)\n",
    "end"
   ]
  },
  {
   "cell_type": "code",
   "execution_count": 494,
   "id": "eb55a91c",
   "metadata": {},
   "outputs": [
    {
     "ename": "UndefVarError",
     "evalue": "UndefVarError: `SII` not defined in `Main`\nSuggestion: check for spelling errors or missing imports.",
     "output_type": "error",
     "traceback": [
      "UndefVarError: `SII` not defined in `Main`\n",
      "Suggestion: check for spelling errors or missing imports.\n",
      "\n",
      "Stacktrace:\n",
      " [1] top-level scope\n",
      "   @ ~/Dokumentumok/GitHub/LowLevelFEM.jl/examples/Large_deformations/jl_notebook_cell_df34fa98e69747e1a8f8a730347b8e2f_X30sZmlsZQ==.jl:1"
     ]
    }
   ],
   "source": [
    "SII2 = FEM.elementsToNodes(problem, SII)"
   ]
  },
  {
   "cell_type": "code",
   "execution_count": 495,
   "id": "0f94ba00",
   "metadata": {},
   "outputs": [
    {
     "ename": "UndefVarError",
     "evalue": "UndefVarError: `SII2` not defined in `Main`\nSuggestion: check for spelling errors or missing imports.",
     "output_type": "error",
     "traceback": [
      "UndefVarError: `SII2` not defined in `Main`\n",
      "Suggestion: check for spelling errors or missing imports.\n",
      "\n",
      "Stacktrace:\n",
      " [1] top-level scope\n",
      "   @ ~/Dokumentumok/GitHub/LowLevelFEM.jl/examples/Large_deformations/jl_notebook_cell_df34fa98e69747e1a8f8a730347b8e2f_X31sZmlsZQ==.jl:1"
     ]
    }
   ],
   "source": [
    "probe(SII2, 0, 0, 0)"
   ]
  },
  {
   "cell_type": "code",
   "execution_count": 496,
   "id": "9eac2964",
   "metadata": {},
   "outputs": [
    {
     "data": {
      "text/plain": [
       "LowLevelFEM.ScalarField([[2.0; 2.0; … ; 2.0; 2.0;;], [2.0; 2.0; … ; 2.0; 2.0;;], [2.0; 2.0; … ; 2.0; 2.0;;], [2.0; 2.0; … ; 2.0; 2.0;;], [2.0; 2.0; … ; 2.0; 2.0;;], [2.0; 2.0; … ; 2.0; 2.0;;], [2.0; 2.0; … ; 2.0; 2.0;;], [2.0; 2.0; … ; 2.0; 2.0;;], [2.0; 2.0; … ; 2.0; 2.0;;], [2.0; 2.0; … ; 2.0; 2.0;;]  …  [2.0; 2.0; … ; 2.0; 2.0;;], [2.0; 2.0; … ; 2.0; 2.0;;], [2.0; 2.0; … ; 2.0; 2.0;;], [2.0; 2.0; … ; 2.0; 2.0;;], [2.0; 2.0; … ; 2.0; 2.0;;], [2.0; 2.0; … ; 2.0; 2.0;;], [2.0; 2.0; … ; 2.0; 2.0;;], [2.0; 2.0; … ; 2.0; 2.0;;], [2.0; 2.0; … ; 2.0; 2.0;;], [2.0; 2.0; … ; 2.0; 2.0;;]], Matrix{Float64}(undef, 0, 0), [273, 274, 275, 276, 277, 278, 279, 280, 281, 282  …  423, 424, 425, 426, 427, 428, 429, 430, 431, 432], 1, :scalarInElements)"
      ]
     },
     "metadata": {},
     "output_type": "display_data"
    }
   ],
   "source": [
    "field = FEM.field(\"body\", f=2)\n",
    "sc = FEM.ScalarField(problem, [field])"
   ]
  },
  {
   "cell_type": "code",
   "execution_count": 497,
   "id": "b19e2ebf",
   "metadata": {},
   "outputs": [
    {
     "ename": "MethodError",
     "evalue": "MethodError: no method matching LowLevelFEM.TensorField(::Vector{Any}, ::Vector{Int64}, ::Int64, ::Symbol)\nThe type `LowLevelFEM.TensorField` exists, but no method is defined for this combination of argument types when trying to construct it.\n\nClosest candidates are:\n  LowLevelFEM.TensorField(::Any, ::Any, ::Any, ::Any, !Matched::Any)\n   @ LowLevelFEM ~/Dokumentumok/GitHub/LowLevelFEM.jl/src/general.jl:402\n  LowLevelFEM.TensorField(!Matched::Vector{Matrix{Float64}}, !Matched::Matrix{Float64}, !Matched::Vector{Int64}, !Matched::Int64, !Matched::Symbol)\n   @ LowLevelFEM ~/Dokumentumok/GitHub/LowLevelFEM.jl/src/general.jl:402\n",
     "output_type": "error",
     "traceback": [
      "MethodError: no method matching LowLevelFEM.TensorField(::Vector{Any}, ::Vector{Int64}, ::Int64, ::Symbol)\n",
      "The type `LowLevelFEM.TensorField` exists, but no method is defined for this combination of argument types when trying to construct it.\n",
      "\n",
      "Closest candidates are:\n",
      "  LowLevelFEM.TensorField(::Any, ::Any, ::Any, ::Any, !Matched::Any)\n",
      "   @ LowLevelFEM ~/Dokumentumok/GitHub/LowLevelFEM.jl/src/general.jl:402\n",
      "  LowLevelFEM.TensorField(!Matched::Vector{Matrix{Float64}}, !Matched::Matrix{Float64}, !Matched::Vector{Int64}, !Matched::Int64, !Matched::Symbol)\n",
      "   @ LowLevelFEM ~/Dokumentumok/GitHub/LowLevelFEM.jl/src/general.jl:402\n",
      "\n",
      "\n",
      "Stacktrace:\n",
      " [1] unitTensor(A::LowLevelFEM.TensorField)\n",
      "   @ LowLevelFEM ~/Dokumentumok/GitHub/LowLevelFEM.jl/src/general.jl:831\n",
      " [2] top-level scope\n",
      "   @ ~/Dokumentumok/GitHub/LowLevelFEM.jl/examples/Large_deformations/jl_notebook_cell_df34fa98e69747e1a8f8a730347b8e2f_X33sZmlsZQ==.jl:1"
     ]
    }
   ],
   "source": [
    "I3 = FEM.unitTensor(F)\n",
    "J = det(F)"
   ]
  },
  {
   "cell_type": "code",
   "execution_count": 498,
   "id": "dfdb8e2d",
   "metadata": {},
   "outputs": [
    {
     "ename": "UndefVarError",
     "evalue": "UndefVarError: `I3` not defined in `Main`\nSuggestion: check for spelling errors or missing imports.",
     "output_type": "error",
     "traceback": [
      "UndefVarError: `I3` not defined in `Main`\n",
      "Suggestion: check for spelling errors or missing imports.\n",
      "\n",
      "Stacktrace:\n",
      " [1] top-level scope\n",
      "   @ ~/Dokumentumok/GitHub/LowLevelFEM.jl/examples/Large_deformations/jl_notebook_cell_df34fa98e69747e1a8f8a730347b8e2f_X34sZmlsZQ==.jl:1"
     ]
    }
   ],
   "source": [
    "sc * I3"
   ]
  },
  {
   "cell_type": "code",
   "execution_count": 499,
   "id": "b48019c3",
   "metadata": {},
   "outputs": [
    {
     "ename": "UndefVarError",
     "evalue": "UndefVarError: `I3` not defined in `Main`\nSuggestion: check for spelling errors or missing imports.",
     "output_type": "error",
     "traceback": [
      "UndefVarError: `I3` not defined in `Main`\n",
      "Suggestion: check for spelling errors or missing imports.\n",
      "\n",
      "Stacktrace:\n",
      " [1] top-level scope\n",
      "   @ ~/Dokumentumok/GitHub/LowLevelFEM.jl/examples/Large_deformations/jl_notebook_cell_df34fa98e69747e1a8f8a730347b8e2f_X35sZmlsZQ==.jl:1"
     ]
    }
   ],
   "source": [
    "I3 - I3"
   ]
  },
  {
   "cell_type": "code",
   "execution_count": 500,
   "id": "ff567b87",
   "metadata": {},
   "outputs": [
    {
     "ename": "UndefVarError",
     "evalue": "UndefVarError: `SII` not defined in `Main`\nSuggestion: check for spelling errors or missing imports.",
     "output_type": "error",
     "traceback": [
      "UndefVarError: `SII` not defined in `Main`\n",
      "Suggestion: check for spelling errors or missing imports.\n",
      "\n",
      "Stacktrace:\n",
      " [1] top-level scope\n",
      "   @ ~/Dokumentumok/GitHub/LowLevelFEM.jl/examples/Large_deformations/jl_notebook_cell_df34fa98e69747e1a8f8a730347b8e2f_X36sZmlsZQ==.jl:1"
     ]
    }
   ],
   "source": [
    "σ = F * SII * F' / det(F)\n",
    "\n",
    "reshape(σ.A[1][1:9], 3, 3)"
   ]
  },
  {
   "cell_type": "code",
   "execution_count": 501,
   "id": "f1eee084",
   "metadata": {},
   "outputs": [
    {
     "data": {
      "text/plain": [
       "-119.05114807753088"
      ]
     },
     "metadata": {},
     "output_type": "display_data"
    }
   ],
   "source": [
    "J = 0.5 * 0.5 * 0.5\n",
    "μ / J * (J^(2 / 3) - 1) + λ / J * log(J)"
   ]
  },
  {
   "cell_type": "code",
   "execution_count": 502,
   "id": "32bc3809",
   "metadata": {},
   "outputs": [
    {
     "name": "stdout",
     "output_type": "stream",
     "text": [
      "-------------------------------------------------------\n",
      "Version       : 4.13.1\n",
      "License       : GNU General Public License\n",
      "Build OS      : Linux64-sdk\n",
      "Build date    : 19700101\n",
      "Build host    : amdci7.julia.csail.mit.edu\n",
      "Build options : 64Bit ALGLIB[contrib] ANN[contrib] Bamg Blossom Cairo DIntegration Dlopen DomHex Eigen[contrib] Fltk GMP Gmm[contrib] Hxt Jpeg Kbipack LinuxJoystick MathEx[contrib] Mesh Metis[contrib] Mmg Mpeg Netgen Nii2mesh ONELAB ONELABMetamodel OpenCASCADE OpenCASCADE-CAF OpenGL OpenMP OptHom Parser Plugins Png Post QuadMeshingTools QuadTri Solver TetGen/BR TinyXML2[contrib] Untangle Voro++[contrib] WinslowUntangler Zlib\n",
      "FLTK version  : 1.3.8\n",
      "OCC version   : 7.7.2\n",
      "Packaged by   : root\n",
      "Web site      : https://gmsh.info\n",
      "Issue tracker : https://gitlab.onelab.info/gmsh/gmsh/issues\n",
      "-------------------------------------------------------\n"
     ]
    },
    {
     "name": "stderr",
     "output_type": "stream",
     "text": [
      "XRequest.18: BadValue 0x0\n"
     ]
    }
   ],
   "source": [
    "FEM.openPostProcessor()"
   ]
  },
  {
   "cell_type": "code",
   "execution_count": 503,
   "id": "7b517a53",
   "metadata": {},
   "outputs": [],
   "source": [
    "gmsh.finalize()"
   ]
  }
 ],
 "metadata": {
  "kernelspec": {
   "display_name": "Julia 1.11.5",
   "language": "julia",
   "name": "julia-1.11"
  },
  "language_info": {
   "file_extension": ".jl",
   "mimetype": "application/julia",
   "name": "julia",
   "version": "1.11.5"
  }
 },
 "nbformat": 4,
 "nbformat_minor": 5
}
