{
 "cells": [
  {
   "cell_type": "code",
   "execution_count": 1,
   "id": "79fd9685",
   "metadata": {},
   "outputs": [],
   "source": [
    "using LowLevelFEM\n",
    "import LowLevelFEM as FEM\n",
    "\n",
    "gmsh.initialize()"
   ]
  },
  {
   "cell_type": "code",
   "execution_count": 2,
   "id": "22283e0a",
   "metadata": {},
   "outputs": [],
   "source": [
    "using SparseArrays, LinearAlgebra"
   ]
  },
  {
   "cell_type": "code",
   "execution_count": 3,
   "id": "fa18250b",
   "metadata": {},
   "outputs": [
    {
     "name": "stdout",
     "output_type": "stream",
     "text": [
      "Info    : Reading 'body2.geo'...\n",
      "Info    : Meshing 1D...\n",
      "Info    : [  0%] Meshing curve 1 (Line)\n",
      "Info    : [ 10%] Meshing curve 2 (Line)\n",
      "Info    : [ 20%] Meshing curve 3 (Line)\n",
      "Info    : [ 30%] Meshing curve 4 (Line)\n",
      "Info    : [ 40%] Meshing curve 5 (Line)\n",
      "Info    : [ 50%] Meshing curve 6 (Line)\n",
      "Info    : [ 60%] Meshing curve 7 (Line)\n",
      "Info    : [ 60%] Meshing curve 8 (Line)\n",
      "Info    : [ 70%] Meshing curve 9 (Line)\n",
      "Info    : [ 80%] Meshing curve 10 (Line)\n",
      "Info    : [ 90%] Meshing curve 11 (Line)\n",
      "Info    : [100%] Meshing curve 12 (Line)\n",
      "Info    : Done meshing 1D (Wall 0.000646263s, CPU 0.000621s)\n",
      "Info    : Meshing 2D...\n",
      "Info    : [  0%] Meshing surface 1 (Transfinite)\n",
      "Info    : [ 20%] Meshing surface 2 (Transfinite)\n",
      "Info    : [ 40%] Meshing surface 3 (Transfinite)\n",
      "Info    : [ 60%] Meshing surface 4 (Transfinite)\n",
      "Info    : [ 70%] Meshing surface 5 (Transfinite)\n",
      "Info    : [ 90%] Meshing surface 6 (Transfinite)\n",
      "Info    : Done meshing 2D (Wall 0.000302923s, CPU 0.000302s)\n",
      "Info    : Meshing 3D...\n",
      "Info    : Meshing volume 1 (Transfinite)\n",
      "Info    : Done meshing 3D (Wall 0.00171018s, CPU 0.001634s)\n",
      "Info    : Optimizing mesh...\n",
      "Info    : Done optimizing mesh (Wall 3.1954e-05s, CPU 3.1e-05s)\n",
      "Info    : Meshing order 2 (curvilinear on)...\n",
      "Info    : [  0%] Meshing curve 1 order 2\n",
      "Info    : [ 10%] Meshing curve 2 order 2\n",
      "Info    : [ 20%] Meshing curve 3 order 2\n",
      "Info    : [ 20%] Meshing curve 4 order 2\n",
      "Info    : [ 30%] Meshing curve 5 order 2\n",
      "Info    : [ 30%] Meshing curve 6 order 2\n",
      "Info    : [ 40%] Meshing curve 7 order 2\n",
      "Info    : [ 40%] Meshing curve 8 order 2\n",
      "Info    : [ 50%] Meshing curve 9 order 2\n",
      "Info    : [ 50%] Meshing curve 10 order 2\n",
      "Info    : [ 60%] Meshing curve 11 order 2\n",
      "Info    : [ 60%] Meshing curve 12 order 2\n",
      "Info    : [ 70%] Meshing surface 1 order 2\n",
      "Info    : [ 70%] Meshing surface 2 order 2\n",
      "Info    : [ 80%] Meshing surface 3 order 2\n",
      "Info    : [ 80%] Meshing surface 4 order 2\n",
      "Info    : [ 90%] Meshing surface 5 order 2\n",
      "Info    : [ 90%] Meshing surface 6 order 2\n",
      "Info    : [100%] Meshing volume 1 order 2\n",
      "Info    : Done meshing order 2 (Wall 0.0094888s, CPU 0.009487s)\n",
      "Info    : 3321 nodes 792 elements\n",
      "Info    : Done reading 'body2.geo'\n"
     ]
    }
   ],
   "source": [
    "gmsh.open(\"body2.geo\")"
   ]
  },
  {
   "cell_type": "code",
   "execution_count": 4,
   "id": "936f1fab",
   "metadata": {},
   "outputs": [
    {
     "name": "stdout",
     "output_type": "stream",
     "text": [
      "Info    : RCMK renumbering...\n",
      "Info    : Done RCMK renumbering (bandwidth is now 386)\n",
      "Info    : RCMK renumbering...\n",
      "Info    : Done RCMK renumbering (bandwidth is now 386)\n",
      "Info    : RCMK renumbering...\n",
      "Info    : Done RCMK renumbering (bandwidth is now 386)\n"
     ]
    },
    {
     "data": {
      "text/plain": [
       "LowLevelFEM.Problem(\"body2\", :NeoHookeCompressible, 3, 3, LowLevelFEM.Material[LowLevelFEM.Material(\"body\", :Hooke, 200000.0, 0.3, 7.85e-9, 45.0, 4.2e8, 1.2e-5, 150.0, 100.0, 216.66666666666666)], 1.0, 3321)"
      ]
     },
     "metadata": {},
     "output_type": "display_data"
    }
   ],
   "source": [
    "mat = FEM.material(\"body\", μ=100, ν=0.3)\n",
    "hooke = FEM.Problem([mat], type=:Solid)\n",
    "stvenkir = FEM.Problem([mat], type=:StVenantKirchhoff)\n",
    "neohooke = FEM.Problem([mat], type=:NeoHookeCompressible)"
   ]
  },
  {
   "cell_type": "code",
   "execution_count": 5,
   "id": "c2a10dc9",
   "metadata": {},
   "outputs": [
    {
     "data": {
      "text/plain": [
       "LowLevelFEM.TensorField([[97.78893062450794; 10.617215923497891; … ; 0.4973274783424476; 0.22698276163527886;;], [96.59034722576652; -3.5805596230001084; … ; 0.08383390338929118; -0.5488175555724908;;], [97.16638024454917; -0.6466345845668966; … ; 0.0011288559649065655; -0.07083103498406373;;], [97.40935700484073; -0.15165073724877992; … ; -0.0007391890702717718; -0.0011331401840060096;;], [97.59379793455084; -0.12456093062042946; … ; -6.987023169987929e-5; 0.0005741564493888518;;], [97.75003375274466; -0.1256206452419223; … ; 1.4190318942327348e-6; 6.128770404600914e-5;;], [97.90077022814746; -0.12581053977851592; … ; 8.167107499331179e-7; -1.6899008414839045e-8;;], [98.05083960652254; -0.12579206808662485; … ; 6.555464601394856e-8; -6.271298467197539e-7;;], [98.20084601924394; -0.12578415743979443; … ; -9.175686385911939e-10; -6.715738010143468e-8;;], [98.35084673604015; -0.1257828537842602; … ; -7.099022224766626e-10; -1.1006484612607892e-9;;]  …  [102.98902784610101; -0.017733984100654077; … ; -8.960513954757123e-11; 5.668958635851595e-10;;], [102.68902777933658; -0.017733967960453255; … ; -8.336145604168633e-13; -6.497913318526116e-12;;], [102.38902776388119; -0.01773396356699917; … ; 5.0381348487810044e-11; -8.502460957515723e-10;;], [102.08902772261607; -0.0177339497367161; … ; 4.664421142719289e-10; -6.259181617451759e-9;;], [101.78902747823402; -0.017733872030044874; … ; 5.857942276846697e-9; -4.435168321492711e-8;;], [101.4890259340088; -0.01773350385246777; … ; 7.38788037157024e-8; -3.4371293367030376e-7;;], [101.189019061798; -0.01773373448235262; … ; 7.891173692051381e-7; -2.8039429871284938e-6;;], [100.88905764495944; -0.017764843080688836; … ; 6.4831867838976136e-6; -1.825140971334349e-5;;], [100.58969334865225; -0.018189454327359574; … ; 6.02582359677763e-5; -2.105361165405384e-5;;], [100.29990389929112; -0.003122820241445979; … ; -3.7487270232450243e-6; 0.0011629716209498042;;]], Matrix{Float64}(undef, 0, 0), [0.0], [473, 474, 475, 476, 477, 478, 479, 480, 481, 482  …  783, 784, 785, 786, 787, 788, 789, 790, 791, 792], 1, :s)"
      ]
     },
     "metadata": {},
     "output_type": "display_data"
    }
   ],
   "source": [
    "supp = FEM.displacementConstraint(\"left\", ux=0, uy=0, uz=0)\n",
    "supp2 = FEM.displacementConstraint(\"right\", uz=0)\n",
    "traction = FEM.load(\"right\", fx=100, fy=-0.1)\n",
    "bodyforce = FEM.load(\"body\", fx=1)\n",
    "\n",
    "problem = hooke\n",
    "q = FEM.solveDisplacement(problem, [traction], [supp])\n",
    "S = FEM.solveStress(problem, q)"
   ]
  },
  {
   "cell_type": "code",
   "execution_count": 6,
   "id": "5ff50776",
   "metadata": {},
   "outputs": [
    {
     "name": "stdout",
     "output_type": "stream",
     "text": [
      "Info    : Running Plugin(Smooth)...\n",
      "Info    : Done running Plugin(Smooth)\n"
     ]
    },
    {
     "data": {
      "text/plain": [
       "2"
      ]
     },
     "metadata": {},
     "output_type": "display_data"
    }
   ],
   "source": [
    "u1 = FEM.showDoFResults(problem, q, :uvec)\n",
    "S1 = FEM.showElementResults(problem, S, :s)"
   ]
  },
  {
   "cell_type": "code",
   "execution_count": 7,
   "id": "970e4fc4",
   "metadata": {},
   "outputs": [
    {
     "data": {
      "text/plain": [
       "LowLevelFEM.Problem(\"body2\", :NeoHookeCompressible, 3, 3, LowLevelFEM.Material[LowLevelFEM.Material(\"body\", :Hooke, 200000.0, 0.3, 7.85e-9, 45.0, 4.2e8, 1.2e-5, 150.0, 100.0, 216.66666666666666)], 1.0, 3321)"
      ]
     },
     "metadata": {},
     "output_type": "display_data"
    }
   ],
   "source": [
    "problem = stvenkir\n",
    "problem = neohooke"
   ]
  },
  {
   "cell_type": "code",
   "execution_count": 8,
   "id": "02d09772",
   "metadata": {},
   "outputs": [
    {
     "ename": "MethodError",
     "evalue": "MethodError: no method matching iterate(::LowLevelFEM.VectorField)\nThe function `iterate` exists, but no method is defined for this combination of argument types.\n\nClosest candidates are:\n  iterate(!Matched::CompositeException, Any...)\n   @ Base task.jl:55\n  iterate(!Matched::Core.MethodMatch, !Matched::Int64)\n   @ Base deprecated.jl:293\n  iterate(!Matched::Core.MethodMatch)\n   @ Base deprecated.jl:293\n  ...\n",
     "output_type": "error",
     "traceback": [
      "MethodError: no method matching iterate(::LowLevelFEM.VectorField)\n",
      "The function `iterate` exists, but no method is defined for this combination of argument types.\n",
      "\n",
      "Closest candidates are:\n",
      "  iterate(!Matched::CompositeException, Any...)\n",
      "   @ Base task.jl:55\n",
      "  iterate(!Matched::Core.MethodMatch, !Matched::Int64)\n",
      "   @ Base deprecated.jl:293\n",
      "  iterate(!Matched::Core.MethodMatch)\n",
      "   @ Base deprecated.jl:293\n",
      "  ...\n",
      "\n",
      "\n",
      "Stacktrace:\n",
      " [1] _foldl_impl(op::Base.BottomRF{typeof(max)}, init::Base._InitialValue, itr::LowLevelFEM.VectorField)\n",
      "   @ Base ./reduce.jl:56\n",
      " [2] foldl_impl(op::Base.BottomRF{typeof(max)}, nt::Base._InitialValue, itr::LowLevelFEM.VectorField)\n",
      "   @ Base ./reduce.jl:48\n",
      " [3] mapfoldl_impl(f::typeof(identity), op::typeof(max), nt::Base._InitialValue, itr::LowLevelFEM.VectorField)\n",
      "   @ Base ./reduce.jl:44\n",
      " [4] mapfoldl(f::Function, op::Function, itr::LowLevelFEM.VectorField; init::Base._InitialValue)\n",
      "   @ Base ./reduce.jl:175\n",
      " [5] mapreduce(f::Function, op::Function, itr::LowLevelFEM.VectorField; kw::@Kwargs{})\n",
      "   @ Base ./reduce.jl:307\n",
      " [6] maximum(a::LowLevelFEM.VectorField; kw::@Kwargs{})\n",
      "   @ Base ./reduce.jl:761\n",
      " [7] top-level scope\n",
      "   @ ~/Dokumentumok/GitHub/LowLevelFEM.jl/examples/Large_deformations/jl_notebook_cell_df34fa98e69747e1a8f8a730347b8e2f_X10sZmlsZQ==.jl:11"
     ]
    }
   ],
   "source": [
    "followerLoad = false\n",
    "loadSteps = 10\n",
    "firstStep = 0.1\n",
    "maxIteration = 10\n",
    "saveSteps = true\n",
    "saveIterations = false\n",
    "plotConvergence = true\n",
    "ε = 1e-3\n",
    "\n",
    "r0 = FEM.nodePositionVector(problem)\n",
    "err0 = abs(maximum(r0) - minimum(r0))\n",
    "f = FEM.loadVector(problem, [traction])\n",
    "r = []\n",
    "r1 = []\n",
    "push!(r, r0)\n",
    "e = []\n",
    "\n",
    "for j in range(1, loadSteps)\n",
    "    fact = j / loadSteps\n",
    "    err = 1\n",
    "    i = 0\n",
    "    while err > ε && i < maxIteration\n",
    "        i += 1\n",
    "\n",
    "        Kl = FEM.stiffnessMatrixLinear(problem, r0)\n",
    "        Knl = FEM.stiffnessMatrixNonLinear(problem, r0)\n",
    "        if followerLoad == true\n",
    "            f = FEM.followerLoadVector(problem, r0, [traction])\n",
    "        end\n",
    "        fnl = FEM.loadVectorNonLinear(problem, r0)\n",
    "        K1, f1 = FEM.applyBoundaryConditions(problem, Kl + Knl, fact * f - fnl, [supp, supp2])\n",
    "        q = FEM.solveDisplacement(K1, f1)\n",
    "        r0 += q\n",
    "        if saveIterations == true\n",
    "            push!(r, r0)\n",
    "        end\n",
    "        err = maximum(abs.(q)) / err0\n",
    "        if plotConvergence == true\n",
    "            append!(e, err)\n",
    "        end\n",
    "    end\n",
    "    if saveSteps == true\n",
    "        push!(r, r0)\n",
    "    end\n",
    "end\n",
    "if saveIterations == true || saveSteps == true\n",
    "    n = length(r)\n",
    "    r1 = zeros(length(r0), n)\n",
    "    for i in 1:n\n",
    "        r1[:, i] = r[i]\n",
    "    end\n",
    "else\n",
    "    r1 = zeros(length(r0), 1)\n",
    "    r1 = r0\n",
    "end"
   ]
  },
  {
   "cell_type": "code",
   "execution_count": 9,
   "id": "1866e2da",
   "metadata": {},
   "outputs": [
    {
     "ename": "UndefVarError",
     "evalue": "UndefVarError: `e` not defined in `Main`\nSuggestion: check for spelling errors or missing imports.",
     "output_type": "error",
     "traceback": [
      "UndefVarError: `e` not defined in `Main`\n",
      "Suggestion: check for spelling errors or missing imports.\n",
      "\n",
      "Stacktrace:\n",
      " [1] top-level scope\n",
      "   @ ~/Dokumentumok/GitHub/LowLevelFEM.jl/examples/Large_deformations/jl_notebook_cell_df34fa98e69747e1a8f8a730347b8e2f_X11sZmlsZQ==.jl:2"
     ]
    }
   ],
   "source": [
    "using Plots\n",
    "plot(log10.(e))"
   ]
  },
  {
   "cell_type": "code",
   "execution_count": 10,
   "id": "57ab41b8",
   "metadata": {},
   "outputs": [
    {
     "ename": "UndefVarError",
     "evalue": "UndefVarError: `r1` not defined in `Main`\nSuggestion: check for spelling errors or missing imports.",
     "output_type": "error",
     "traceback": [
      "UndefVarError: `r1` not defined in `Main`\n",
      "Suggestion: check for spelling errors or missing imports.\n",
      "\n",
      "Stacktrace:\n",
      " [1] top-level scope\n",
      "   @ ~/Dokumentumok/GitHub/LowLevelFEM.jl/examples/Large_deformations/jl_notebook_cell_df34fa98e69747e1a8f8a730347b8e2f_X12sZmlsZQ==.jl:1"
     ]
    }
   ],
   "source": [
    "u1 = similar(r1)\n",
    "r0 = FEM.nodePositionVector(problem)\n",
    "for i in 1:size(r1, 2)\n",
    "    u1[:, i] = r1[:, i] - r0\n",
    "end\n",
    "\n",
    "u2 = FEM.showDoFResults(problem, u1, :uvec, t=1:size(u1, 2), visible=true)"
   ]
  },
  {
   "cell_type": "code",
   "execution_count": 11,
   "id": "d9e04c86",
   "metadata": {},
   "outputs": [
    {
     "ename": "ErrorException",
     "evalue": "deformationGradient: dimension is 3, problem type is NeoHookeCompressible. (They must be 3 and :Solid.)",
     "output_type": "error",
     "traceback": [
      "deformationGradient: dimension is 3, problem type is NeoHookeCompressible. (They must be 3 and :Solid.)\n",
      "\n",
      "Stacktrace:\n",
      " [1] error(s::String)\n",
      "   @ Base ./error.jl:35\n",
      " [2] deformationGradient(problem::LowLevelFEM.Problem, r::LowLevelFEM.VectorField)\n",
      "   @ LowLevelFEM ~/Dokumentumok/GitHub/LowLevelFEM.jl/src/nonlinear.jl:42\n",
      " [3] top-level scope\n",
      "   @ ~/Dokumentumok/GitHub/LowLevelFEM.jl/examples/Large_deformations/jl_notebook_cell_df34fa98e69747e1a8f8a730347b8e2f_X13sZmlsZQ==.jl:7"
     ]
    }
   ],
   "source": [
    "r = FEM.nodePositionVector(problem)\n",
    "ux(x, y, z) = 0.4x\n",
    "uy(x, y, z) = 0.5y\n",
    "uz(x, y, z) = 0.6z\n",
    "q0 = FEM.field(\"body\", fx=ux, fy=uy, fz=uz)\n",
    "q = FEM.vectorField(problem, [q0])\n",
    "F = FEM.deformationGradient(problem, q)"
   ]
  },
  {
   "cell_type": "code",
   "execution_count": 12,
   "id": "bda3da4b",
   "metadata": {},
   "outputs": [
    {
     "ename": "UndefVarError",
     "evalue": "UndefVarError: `F` not defined in `Main`\nSuggestion: check for spelling errors or missing imports.",
     "output_type": "error",
     "traceback": [
      "UndefVarError: `F` not defined in `Main`\n",
      "Suggestion: check for spelling errors or missing imports.\n",
      "\n",
      "Stacktrace:\n",
      " [1] top-level scope\n",
      "   @ ~/Dokumentumok/GitHub/LowLevelFEM.jl/examples/Large_deformations/jl_notebook_cell_df34fa98e69747e1a8f8a730347b8e2f_X14sZmlsZQ==.jl:1"
     ]
    }
   ],
   "source": [
    "reshape(F.A[1][1:9], 3, 3)"
   ]
  },
  {
   "cell_type": "code",
   "execution_count": 13,
   "id": "4aba7a4b",
   "metadata": {},
   "outputs": [
    {
     "ename": "UndefVarError",
     "evalue": "UndefVarError: `F` not defined in `Main`\nSuggestion: check for spelling errors or missing imports.",
     "output_type": "error",
     "traceback": [
      "UndefVarError: `F` not defined in `Main`\n",
      "Suggestion: check for spelling errors or missing imports.\n",
      "\n",
      "Stacktrace:\n",
      " [1] top-level scope\n",
      "   @ ~/Dokumentumok/GitHub/LowLevelFEM.jl/examples/Large_deformations/jl_notebook_cell_df34fa98e69747e1a8f8a730347b8e2f_X15sZmlsZQ==.jl:1"
     ]
    }
   ],
   "source": [
    "E = (F' * F - FEM.unitTensor(F)) / 2\n",
    "\n",
    "reshape(E.A[1][1:9], 3, 3)"
   ]
  },
  {
   "cell_type": "code",
   "execution_count": 14,
   "id": "a7c506a2",
   "metadata": {},
   "outputs": [
    {
     "ename": "UndefVarError",
     "evalue": "UndefVarError: `F` not defined in `Main`\nSuggestion: check for spelling errors or missing imports.",
     "output_type": "error",
     "traceback": [
      "UndefVarError: `F` not defined in `Main`\n",
      "Suggestion: check for spelling errors or missing imports.\n",
      "\n",
      "Stacktrace:\n",
      " [1] top-level scope\n",
      "   @ ~/Dokumentumok/GitHub/LowLevelFEM.jl/examples/Large_deformations/jl_notebook_cell_df34fa98e69747e1a8f8a730347b8e2f_X16sZmlsZQ==.jl:1"
     ]
    }
   ],
   "source": [
    "e = (FEM.unitTensor(F) - inv(F * F')) / 2\n",
    "\n",
    "reshape(e.A[1][1:9], 3, 3)"
   ]
  },
  {
   "cell_type": "code",
   "execution_count": 15,
   "id": "df5feea4",
   "metadata": {},
   "outputs": [
    {
     "ename": "UndefVarError",
     "evalue": "UndefVarError: `F` not defined in `Main`\nSuggestion: check for spelling errors or missing imports.",
     "output_type": "error",
     "traceback": [
      "UndefVarError: `F` not defined in `Main`\n",
      "Suggestion: check for spelling errors or missing imports.\n",
      "\n",
      "Stacktrace:\n",
      " [1] top-level scope\n",
      "   @ ~/Dokumentumok/GitHub/LowLevelFEM.jl/examples/Large_deformations/jl_notebook_cell_df34fa98e69747e1a8f8a730347b8e2f_X20sZmlsZQ==.jl:1"
     ]
    }
   ],
   "source": [
    "e = inv(F') * E * inv(F)\n",
    "\n",
    "reshape(e.A[1][1:9], 3, 3)"
   ]
  },
  {
   "cell_type": "code",
   "execution_count": 16,
   "id": "eb7cd73d",
   "metadata": {},
   "outputs": [
    {
     "ename": "UndefVarError",
     "evalue": "UndefVarError: `F` not defined in `Main`\nSuggestion: check for spelling errors or missing imports.",
     "output_type": "error",
     "traceback": [
      "UndefVarError: `F` not defined in `Main`\n",
      "Suggestion: check for spelling errors or missing imports.\n",
      "\n",
      "Stacktrace:\n",
      " [1] top-level scope\n",
      "   @ ~/Dokumentumok/GitHub/LowLevelFEM.jl/examples/Large_deformations/jl_notebook_cell_df34fa98e69747e1a8f8a730347b8e2f_X21sZmlsZQ==.jl:1"
     ]
    }
   ],
   "source": [
    "U = sqrt(F' * F)\n",
    "\n",
    "reshape(U.A[1][1:9], 3, 3)"
   ]
  },
  {
   "cell_type": "code",
   "execution_count": 17,
   "id": "49af293c",
   "metadata": {},
   "outputs": [
    {
     "ename": "UndefVarError",
     "evalue": "UndefVarError: `F` not defined in `Main`\nSuggestion: check for spelling errors or missing imports.",
     "output_type": "error",
     "traceback": [
      "UndefVarError: `F` not defined in `Main`\n",
      "Suggestion: check for spelling errors or missing imports.\n",
      "\n",
      "Stacktrace:\n",
      " [1] top-level scope\n",
      "   @ ~/Dokumentumok/GitHub/LowLevelFEM.jl/examples/Large_deformations/jl_notebook_cell_df34fa98e69747e1a8f8a730347b8e2f_X22sZmlsZQ==.jl:5"
     ]
    }
   ],
   "source": [
    "Ex = 10\n",
    "νxy = 0.3\n",
    "λ = Ex * νxy / ((1 + νxy) * (1 - 2νxy))\n",
    "μ = Ex / (2 * (1 + νxy))\n",
    "I3 = FEM.unitTensor(F)\n",
    "iC = inv(F' * F)\n",
    "J1 = det(F)\n",
    "SII = μ * (I3 - iC) + λ * log(J1) / J1 * I3\n",
    "\n",
    "reshape(SII.A[1][1:9], 3, 3)"
   ]
  },
  {
   "cell_type": "code",
   "execution_count": 18,
   "id": "88fa00a0",
   "metadata": {},
   "outputs": [
    {
     "data": {
      "text/plain": [
       "probe (generic function with 1 method)"
      ]
     },
     "metadata": {},
     "output_type": "display_data"
    }
   ],
   "source": [
    "function probe(A, x, y, z)\n",
    "    elementTag, elementType, nodeTags, u, v, w = gmsh.model.mesh.getElementByCoordinates(x, y, z, 3, false)\n",
    "    elementName, dim, order, numNodes::Int64, localNodeCoord, numPrimaryNodes = gmsh.model.mesh.getElementProperties(elementType)\n",
    "    comp, fun, ori = gmsh.model.mesh.getBasisFunctions(elementType, [u, v, w], \"Lagrange\")\n",
    "    SS = [0.0, 0, 0, 0, 0, 0, 0, 0, 0]\n",
    "    if isa(A, FEM.TensorField)\n",
    "        ind = findfirst(i -> i == elementTag, SII.numElem)\n",
    "        for i in range(1, 9)\n",
    "            SS[i] = fun' * SII.A[ind][i:9:9numNodes, 1]\n",
    "        end\n",
    "    elseif isa(A, Matrix)\n",
    "        for i in range(1, 9)\n",
    "            SS[i] = fun' * A[9nodeTags.-(9-i), 1]\n",
    "        end\n",
    "    end\n",
    "    return reshape(SS, 3, 3)\n",
    "end"
   ]
  },
  {
   "cell_type": "code",
   "execution_count": 19,
   "id": "eb55a91c",
   "metadata": {},
   "outputs": [
    {
     "ename": "UndefVarError",
     "evalue": "UndefVarError: `SII` not defined in `Main`\nSuggestion: check for spelling errors or missing imports.",
     "output_type": "error",
     "traceback": [
      "UndefVarError: `SII` not defined in `Main`\n",
      "Suggestion: check for spelling errors or missing imports.\n",
      "\n",
      "Stacktrace:\n",
      " [1] top-level scope\n",
      "   @ ~/Dokumentumok/GitHub/LowLevelFEM.jl/examples/Large_deformations/jl_notebook_cell_df34fa98e69747e1a8f8a730347b8e2f_X24sZmlsZQ==.jl:1"
     ]
    }
   ],
   "source": [
    "SII2 = FEM.elementsToNodes(problem, SII)"
   ]
  },
  {
   "cell_type": "code",
   "execution_count": 20,
   "id": "0f94ba00",
   "metadata": {},
   "outputs": [
    {
     "ename": "UndefVarError",
     "evalue": "UndefVarError: `SII2` not defined in `Main`\nSuggestion: check for spelling errors or missing imports.",
     "output_type": "error",
     "traceback": [
      "UndefVarError: `SII2` not defined in `Main`\n",
      "Suggestion: check for spelling errors or missing imports.\n",
      "\n",
      "Stacktrace:\n",
      " [1] top-level scope\n",
      "   @ ~/Dokumentumok/GitHub/LowLevelFEM.jl/examples/Large_deformations/jl_notebook_cell_df34fa98e69747e1a8f8a730347b8e2f_X25sZmlsZQ==.jl:1"
     ]
    }
   ],
   "source": [
    "probe(SII2, 0, 0, 0)"
   ]
  },
  {
   "cell_type": "code",
   "execution_count": 21,
   "id": "9eac2964",
   "metadata": {},
   "outputs": [
    {
     "data": {
      "text/plain": [
       "LowLevelFEM.ScalarField([[2.0; 2.0; … ; 2.0; 2.0;;], [2.0; 2.0; … ; 2.0; 2.0;;], [2.0; 2.0; … ; 2.0; 2.0;;], [2.0; 2.0; … ; 2.0; 2.0;;], [2.0; 2.0; … ; 2.0; 2.0;;], [2.0; 2.0; … ; 2.0; 2.0;;], [2.0; 2.0; … ; 2.0; 2.0;;], [2.0; 2.0; … ; 2.0; 2.0;;], [2.0; 2.0; … ; 2.0; 2.0;;], [2.0; 2.0; … ; 2.0; 2.0;;]  …  [2.0; 2.0; … ; 2.0; 2.0;;], [2.0; 2.0; … ; 2.0; 2.0;;], [2.0; 2.0; … ; 2.0; 2.0;;], [2.0; 2.0; … ; 2.0; 2.0;;], [2.0; 2.0; … ; 2.0; 2.0;;], [2.0; 2.0; … ; 2.0; 2.0;;], [2.0; 2.0; … ; 2.0; 2.0;;], [2.0; 2.0; … ; 2.0; 2.0;;], [2.0; 2.0; … ; 2.0; 2.0;;], [2.0; 2.0; … ; 2.0; 2.0;;]], Matrix{Float64}(undef, 0, 0), Float64[], [473, 474, 475, 476, 477, 478, 479, 480, 481, 482  …  783, 784, 785, 786, 787, 788, 789, 790, 791, 792], 1, :scalarInElements)"
      ]
     },
     "metadata": {},
     "output_type": "display_data"
    }
   ],
   "source": [
    "field = FEM.field(\"body\", f=2)\n",
    "sc = FEM.ScalarField(problem, [field])"
   ]
  },
  {
   "cell_type": "code",
   "execution_count": 22,
   "id": "b19e2ebf",
   "metadata": {},
   "outputs": [
    {
     "ename": "UndefVarError",
     "evalue": "UndefVarError: `F` not defined in `Main`\nSuggestion: check for spelling errors or missing imports.",
     "output_type": "error",
     "traceback": [
      "UndefVarError: `F` not defined in `Main`\n",
      "Suggestion: check for spelling errors or missing imports.\n",
      "\n",
      "Stacktrace:\n",
      " [1] top-level scope\n",
      "   @ ~/Dokumentumok/GitHub/LowLevelFEM.jl/examples/Large_deformations/jl_notebook_cell_df34fa98e69747e1a8f8a730347b8e2f_X30sZmlsZQ==.jl:1"
     ]
    }
   ],
   "source": [
    "I3 = FEM.unitTensor(F)\n",
    "J = det(F)"
   ]
  },
  {
   "cell_type": "code",
   "execution_count": 23,
   "id": "dfdb8e2d",
   "metadata": {},
   "outputs": [
    {
     "ename": "UndefVarError",
     "evalue": "UndefVarError: `I3` not defined in `Main`\nSuggestion: check for spelling errors or missing imports.",
     "output_type": "error",
     "traceback": [
      "UndefVarError: `I3` not defined in `Main`\n",
      "Suggestion: check for spelling errors or missing imports.\n",
      "\n",
      "Stacktrace:\n",
      " [1] top-level scope\n",
      "   @ ~/Dokumentumok/GitHub/LowLevelFEM.jl/examples/Large_deformations/jl_notebook_cell_df34fa98e69747e1a8f8a730347b8e2f_X31sZmlsZQ==.jl:1"
     ]
    }
   ],
   "source": [
    "sc * I3"
   ]
  },
  {
   "cell_type": "code",
   "execution_count": 24,
   "id": "b48019c3",
   "metadata": {},
   "outputs": [
    {
     "ename": "UndefVarError",
     "evalue": "UndefVarError: `I3` not defined in `Main`\nSuggestion: check for spelling errors or missing imports.",
     "output_type": "error",
     "traceback": [
      "UndefVarError: `I3` not defined in `Main`\n",
      "Suggestion: check for spelling errors or missing imports.\n",
      "\n",
      "Stacktrace:\n",
      " [1] top-level scope\n",
      "   @ ~/Dokumentumok/GitHub/LowLevelFEM.jl/examples/Large_deformations/jl_notebook_cell_df34fa98e69747e1a8f8a730347b8e2f_X32sZmlsZQ==.jl:1"
     ]
    }
   ],
   "source": [
    "I3 - I3"
   ]
  },
  {
   "cell_type": "code",
   "execution_count": 25,
   "id": "ff567b87",
   "metadata": {},
   "outputs": [
    {
     "ename": "UndefVarError",
     "evalue": "UndefVarError: `F` not defined in `Main`\nSuggestion: check for spelling errors or missing imports.",
     "output_type": "error",
     "traceback": [
      "UndefVarError: `F` not defined in `Main`\n",
      "Suggestion: check for spelling errors or missing imports.\n",
      "\n",
      "Stacktrace:\n",
      " [1] top-level scope\n",
      "   @ ~/Dokumentumok/GitHub/LowLevelFEM.jl/examples/Large_deformations/jl_notebook_cell_df34fa98e69747e1a8f8a730347b8e2f_X33sZmlsZQ==.jl:1"
     ]
    }
   ],
   "source": [
    "σ = F * SII * F' / det(F)\n",
    "\n",
    "reshape(σ.A[1][1:9], 3, 3)"
   ]
  },
  {
   "cell_type": "code",
   "execution_count": 26,
   "id": "f1eee084",
   "metadata": {},
   "outputs": [
    {
     "data": {
      "text/plain": [
       "-119.05114807753088"
      ]
     },
     "metadata": {},
     "output_type": "display_data"
    }
   ],
   "source": [
    "J = 0.5 * 0.5 * 0.5\n",
    "μ / J * (J^(2 / 3) - 1) + λ / J * log(J)"
   ]
  },
  {
   "cell_type": "code",
   "execution_count": 27,
   "id": "32bc3809",
   "metadata": {},
   "outputs": [
    {
     "name": "stdout",
     "output_type": "stream",
     "text": [
      "-------------------------------------------------------\n",
      "Version       : 4.13.1\n",
      "License       : GNU General Public License\n",
      "Build OS      : Linux64-sdk\n",
      "Build date    : 19700101\n",
      "Build host    : amdci7.julia.csail.mit.edu\n",
      "Build options : 64Bit ALGLIB[contrib] ANN[contrib] Bamg Blossom Cairo DIntegration Dlopen DomHex Eigen[contrib] Fltk GMP Gmm[contrib] Hxt Jpeg Kbipack LinuxJoystick MathEx[contrib] Mesh Metis[contrib] Mmg Mpeg Netgen Nii2mesh ONELAB ONELABMetamodel OpenCASCADE OpenCASCADE-CAF OpenGL OpenMP OptHom Parser Plugins Png Post QuadMeshingTools QuadTri Solver TetGen/BR TinyXML2[contrib] Untangle Voro++[contrib] WinslowUntangler Zlib\n",
      "FLTK version  : 1.3.8\n",
      "OCC version   : 7.7.2\n",
      "Packaged by   : root\n",
      "Web site      : https://gmsh.info\n",
      "Issue tracker : https://gitlab.onelab.info/gmsh/gmsh/issues\n",
      "-------------------------------------------------------\n"
     ]
    },
    {
     "name": "stderr",
     "output_type": "stream",
     "text": [
      "XOpenIM() failed\n",
      "XRequest.18: BadValue 0x0\n"
     ]
    }
   ],
   "source": [
    "FEM.openPostProcessor()"
   ]
  },
  {
   "cell_type": "code",
   "execution_count": 28,
   "id": "7b517a53",
   "metadata": {},
   "outputs": [],
   "source": [
    "gmsh.finalize()"
   ]
  }
 ],
 "metadata": {
  "kernelspec": {
   "display_name": "Julia 1.11.5",
   "language": "julia",
   "name": "julia-1.11"
  },
  "language_info": {
   "file_extension": ".jl",
   "mimetype": "application/julia",
   "name": "julia",
   "version": "1.11.5"
  }
 },
 "nbformat": 4,
 "nbformat_minor": 5
}
