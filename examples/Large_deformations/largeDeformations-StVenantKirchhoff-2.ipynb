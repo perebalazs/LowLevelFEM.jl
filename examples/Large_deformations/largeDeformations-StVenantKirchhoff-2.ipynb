{
 "cells": [
  {
   "cell_type": "code",
   "execution_count": 1,
   "id": "79fd9685",
   "metadata": {},
   "outputs": [],
   "source": [
    "using LowLevelFEM\n",
    "import LowLevelFEM as FEM\n",
    "\n",
    "gmsh.initialize()"
   ]
  },
  {
   "cell_type": "code",
   "execution_count": 2,
   "id": "22283e0a",
   "metadata": {},
   "outputs": [],
   "source": [
    "using SparseArrays, LinearAlgebra"
   ]
  },
  {
   "cell_type": "code",
   "execution_count": 3,
   "id": "fa18250b",
   "metadata": {},
   "outputs": [
    {
     "name": "stdout",
     "output_type": "stream",
     "text": [
      "Info    : Reading 'body2.geo'...\n",
      "Info    : Meshing 1D...\n",
      "Info    : [  0%] Meshing curve 1 (Line)\n",
      "Info    : [ 10%] Meshing curve 2 (Line)\n",
      "Info    : [ 20%] Meshing curve 3 (Line)\n",
      "Info    : [ 30%] Meshing curve 4 (Line)\n",
      "Info    : [ 40%] Meshing curve 5 (Line)\n",
      "Info    : [ 50%] Meshing curve 6 (Line)\n",
      "Info    : [ 60%] Meshing curve 7 (Line)\n",
      "Info    : [ 60%] Meshing curve 8 (Line)\n",
      "Info    : [ 70%] Meshing curve 9 (Line)\n",
      "Info    : [ 80%] Meshing curve 10 (Line)\n",
      "Info    : [ 90%] Meshing curve 11 (Line)\n",
      "Info    : [100%] Meshing curve 12 (Line)\n",
      "Info    : Done meshing 1D (Wall 0.000652852s, CPU 0.000654s)\n",
      "Info    : Meshing 2D...\n",
      "Info    : [  0%] Meshing surface 1 (Transfinite)\n",
      "Info    : [ 20%] Meshing surface 2 (Transfinite)\n",
      "Info    : [ 40%] Meshing surface 3 (Transfinite)\n",
      "Info    : [ 60%] Meshing surface 4 (Transfinite)\n",
      "Info    : [ 70%] Meshing surface 5 (Transfinite)\n",
      "Info    : [ 90%] Meshing surface 6 (Transfinite)\n",
      "Info    : Done meshing 2D (Wall 0.000230266s, CPU 0.000231s)\n",
      "Info    : Meshing 3D...\n",
      "Info    : Meshing volume 1 (Transfinite)\n",
      "Info    : Done meshing 3D (Wall 0.000822942s, CPU 0.000821s)\n",
      "Info    : Optimizing mesh...\n",
      "Info    : Done optimizing mesh (Wall 1.1026e-05s, CPU 1.1e-05s)\n",
      "Info    : 275 nodes 432 elements\n",
      "Info    : Done reading 'body2.geo'\n"
     ]
    }
   ],
   "source": [
    "gmsh.open(\"body2.geo\")"
   ]
  },
  {
   "cell_type": "code",
   "execution_count": 4,
   "id": "33ef6d8f",
   "metadata": {},
   "outputs": [
    {
     "data": {
      "text/plain": [
       "2"
      ]
     },
     "metadata": {},
     "output_type": "display_data"
    }
   ],
   "source": [
    "λ = 1\n",
    "μ = 2"
   ]
  },
  {
   "cell_type": "code",
   "execution_count": 5,
   "id": "936f1fab",
   "metadata": {},
   "outputs": [
    {
     "name": "stdout",
     "output_type": "stream",
     "text": [
      "Info    : RCMK renumbering...\n",
      "Info    : Done RCMK renumbering (bandwidth is now 61)\n"
     ]
    },
    {
     "data": {
      "text/plain": [
       "LowLevelFEM.Problem(\"body2\", :Solid, 3, 3, LowLevelFEM.Material[LowLevelFEM.Material(\"body\", 10.0, 0.3, 7.85e-9, 45.0, 4.2e8, 1.2e-5, 5.769230769230768, 3.846153846153846, 8.333333333333334)], 1.0, 275)"
      ]
     },
     "metadata": {},
     "output_type": "display_data"
    }
   ],
   "source": [
    "#mat = FEM.material(\"body\", E=μ * (3λ + 2μ) / (λ + μ), ν=λ / 2 / (λ + μ))\n",
    "mat = FEM.material(\"body\", E=10, ν=0.3)\n",
    "problem = FEM.Problem([mat])"
   ]
  },
  {
   "cell_type": "code",
   "execution_count": 6,
   "id": "3aa5a1b2",
   "metadata": {},
   "outputs": [
    {
     "data": {
      "text/plain": [
       "LowLevelFEM.ScalarField([[2.0; 2.0; … ; 2.0; 2.0;;], [2.0; 2.0; … ; 2.0; 2.0;;], [2.0; 2.0; … ; 2.0; 2.0;;], [2.0; 2.0; … ; 2.0; 2.0;;], [2.0; 2.0; … ; 2.0; 2.0;;], [2.0; 2.0; … ; 2.0; 2.0;;], [2.0; 2.0; … ; 2.0; 2.0;;], [2.0; 2.0; … ; 2.0; 2.0;;], [2.0; 2.0; … ; 2.0; 2.0;;], [2.0; 2.0; … ; 2.0; 2.0;;]  …  [2.0; 2.0; … ; 2.0; 2.0;;], [2.0; 2.0; … ; 2.0; 2.0;;], [2.0; 2.0; … ; 2.0; 2.0;;], [2.0; 2.0; … ; 2.0; 2.0;;], [2.0; 2.0; … ; 2.0; 2.0;;], [2.0; 2.0; … ; 2.0; 2.0;;], [2.0; 2.0; … ; 2.0; 2.0;;], [2.0; 2.0; … ; 2.0; 2.0;;], [2.0; 2.0; … ; 2.0; 2.0;;], [2.0; 2.0; … ; 2.0; 2.0;;]], Matrix{Float64}(undef, 0, 0), [273, 274, 275, 276, 277, 278, 279, 280, 281, 282  …  423, 424, 425, 426, 427, 428, 429, 430, 431, 432], 1, :scalarInElements)"
      ]
     },
     "metadata": {},
     "output_type": "display_data"
    }
   ],
   "source": [
    "field = FEM.field(\"body\", f=2)\n",
    "sc = FEM.ScalarField(problem, [field])"
   ]
  },
  {
   "cell_type": "code",
   "execution_count": 7,
   "id": "70e2237c",
   "metadata": {},
   "outputs": [
    {
     "data": {
      "text/plain": [
       "LowLevelFEM.TensorField([[1.0; 0.0; … ; 0.0; 1.0;;], [1.0; 0.0; … ; 0.0; 1.0;;], [1.0; 0.0; … ; 0.0; 1.0;;], [1.0; 0.0; … ; 0.0; 1.0;;], [1.0; 0.0; … ; 0.0; 1.0;;], [1.0; 0.0; … ; 0.0; 1.0;;], [1.0; 0.0; … ; 0.0; 1.0;;], [1.0; 0.0; … ; 0.0; 1.0;;], [1.0; 0.0; … ; 0.0; 1.0;;], [1.0; 0.0; … ; 0.0; 1.0;;]  …  [1.0; 0.0; … ; 0.0; 1.0;;], [1.0; 0.0; … ; 0.0; 1.0;;], [1.0; 0.0; … ; 0.0; 1.0;;], [1.0; 0.0; … ; 0.0; 1.0;;], [1.0; 0.0; … ; 0.0; 1.0;;], [1.0; 0.0; … ; 0.0; 1.0;;], [1.0; 0.0; … ; 0.0; 1.0;;], [1.0; 0.0; … ; 0.0; 1.0;;], [1.0; 0.0; … ; 0.0; 1.0;;], [1.0; 0.0; … ; 0.0; 1.0;;]], Matrix{Float64}(undef, 0, 0), [273, 274, 275, 276, 277, 278, 279, 280, 281, 282  …  423, 424, 425, 426, 427, 428, 429, 430, 431, 432], 1, :F)"
      ]
     },
     "metadata": {},
     "output_type": "display_data"
    }
   ],
   "source": [
    "r0 = FEM.nodePositionVector(problem)\n",
    "F = FEM.deformationGradient(problem, r0)"
   ]
  },
  {
   "cell_type": "code",
   "execution_count": 8,
   "id": "9ad3f6f0",
   "metadata": {},
   "outputs": [
    {
     "data": {
      "text/plain": [
       "LowLevelFEM.TensorField([[2.0; 0.0; … ; 0.0; 2.0;;], [2.0; 0.0; … ; 0.0; 2.0;;], [2.0; 0.0; … ; 0.0; 2.0;;], [2.0; 0.0; … ; 0.0; 2.0;;], [2.0; 0.0; … ; 0.0; 2.0;;], [2.0; 0.0; … ; 0.0; 2.0;;], [2.0; 0.0; … ; 0.0; 2.0;;], [2.0; 0.0; … ; 0.0; 2.0;;], [2.0; 0.0; … ; 0.0; 2.0;;], [2.0; 0.0; … ; 0.0; 2.0;;]  …  [2.0; 0.0; … ; 0.0; 2.0;;], [2.0; 0.0; … ; 0.0; 2.0;;], [2.0; 0.0; … ; 0.0; 2.0;;], [2.0; 0.0; … ; 0.0; 2.0;;], [2.0; 0.0; … ; 0.0; 2.0;;], [2.0; 0.0; … ; 0.0; 2.0;;], [2.0; 0.0; … ; 0.0; 2.0;;], [2.0; 0.0; … ; 0.0; 2.0;;], [2.0; 0.0; … ; 0.0; 2.0;;], [2.0; 0.0; … ; 0.0; 2.0;;]], Matrix{Float64}(undef, 0, 0), [273, 274, 275, 276, 277, 278, 279, 280, 281, 282  …  423, 424, 425, 426, 427, 428, 429, 430, 431, 432], 1, :e)"
      ]
     },
     "metadata": {},
     "output_type": "display_data"
    }
   ],
   "source": [
    "sc * F"
   ]
  },
  {
   "cell_type": "code",
   "execution_count": 9,
   "id": "c2a10dc9",
   "metadata": {},
   "outputs": [
    {
     "data": {
      "text/plain": [
       "LowLevelFEM.TensorField([[-0.02473167482212907; -0.015496593353614495; … ; 0.0015317524483591; 0.004720835105580081;;], [-0.015265766869975494; -0.014665450842586159; … ; 0.0009771076916923608; 0.000200074007378921;;], [-0.01442459430409445; -0.013265021760719874; … ; 0.0009408035068900779; 0.0007786444182653549;;], [-0.012303559574180487; -0.011480899686021206; … ; 0.0007867263380081994; 0.00044029608327318366;;], [-0.01035556005690565; -0.009862492637768998; … ; 0.000660706511961012; 0.00029626353832755675;;], [-0.008387108166756032; -0.008199630918017911; … ; 0.0005273081341650767; 0.0001052642603301037;;], [-0.006417216815471242; -0.006546261755654341; … ; 0.00039505437428952693; -7.709552206359581e-5;;], [-0.004464511464488133; -0.004889425459492759; … ; 0.00026632554338223665; -0.00024243816490597992;;], [-0.002438995272793079; -0.0032353876660332925; … ; 0.00012173944785080122; -0.0005202931180001811;;], [-0.0006738933740846494; -0.001613567282629727; … ; 3.815960842482907e-5; -0.00018782729472546336;;]  …  [0.051207440303886784; -0.01557631012327613; … ; 0.0012985572675789465; -0.0035744309923969255;;], [0.03485573142356438; -0.014394634269621653; … ; 0.0010123011915950592; 0.003687714570974717;;], [0.0336083766467041; -0.01339743530642194; … ; 0.000879667821538095; 0.0021223774170279763;;], [0.028320478470362172; -0.011479277362532037; … ; 0.0007635712729621801; 0.00223664432063179;;], [0.024024098558198054; -0.009893820756212007; … ; 0.00063265259715699; 0.002022425909543967;;], [0.019503382932061466; -0.0082240578257546; … ; 0.0005071420207957457; 0.0018754040452596075;;], [0.015030263258555486; -0.006571612592487828; … ; 0.00038011857136290765; 0.0017206855252061722;;], [0.010548188230428199; -0.004916531847918592; … ; 0.00025428666504308993; 0.0015322217709960802;;], [0.006039986235103985; -0.0032562939358632415; … ; 0.00011916535967326067; 0.0015329206953936;;], [0.001857318745670187; -0.001645649577975502; … ; 4.9136389151897235e-5; 0.0005272812469031762;;]], Matrix{Float64}(undef, 0, 0), [273, 274, 275, 276, 277, 278, 279, 280, 281, 282  …  423, 424, 425, 426, 427, 428, 429, 430, 431, 432], 1, :s)"
      ]
     },
     "metadata": {},
     "output_type": "display_data"
    }
   ],
   "source": [
    "supp = FEM.displacementConstraint(\"left\", ux=0, uy=0, uz=0)\n",
    "traction = FEM.load(\"right\", fy=-0.001)\n",
    "bodyforce = FEM.load(\"body\", fx=1)\n",
    "\n",
    "q = FEM.solveDisplacement(problem, [traction], [supp])\n",
    "S = FEM.solveStress(problem, q)"
   ]
  },
  {
   "cell_type": "code",
   "execution_count": 10,
   "id": "5ff50776",
   "metadata": {},
   "outputs": [
    {
     "name": "stdout",
     "output_type": "stream",
     "text": [
      "Info    : Running Plugin(Smooth)...\n",
      "Info    : Done running Plugin(Smooth)\n"
     ]
    },
    {
     "data": {
      "text/plain": [
       "2"
      ]
     },
     "metadata": {},
     "output_type": "display_data"
    }
   ],
   "source": [
    "u1 = FEM.showDoFResults(problem, q, :uvec)\n",
    "S1 = FEM.showElementResults(problem, S, :s)"
   ]
  },
  {
   "cell_type": "code",
   "execution_count": 11,
   "id": "02d09772",
   "metadata": {},
   "outputs": [],
   "source": [
    "followerLoad = false\n",
    "loadSteps = 2\n",
    "firstStep = 0.1\n",
    "maxIteration = 10\n",
    "saveSteps = true\n",
    "saveIterations = true\n",
    "plotConvergence = true\n",
    "ε = 1e-3\n",
    "\n",
    "r0 = FEM.nodePositionVector(problem)\n",
    "err0 = abs(maximum(r0) - minimum(r0))\n",
    "f = FEM.loadVector(problem, [traction])\n",
    "r = []\n",
    "push!(r, r0)\n",
    "e = []\n",
    "\n",
    "for j in range(1, loadSteps)\n",
    "    err = 1\n",
    "    i = 0\n",
    "    while err > ε && i < maxIteration\n",
    "        i += 1\n",
    "\n",
    "        Kl = FEM.stiffnessMatrixLinear(problem, last(r))\n",
    "        Knl = FEM.stiffnessMatrixNonLinear(problem, last(r))\n",
    "        if followerLoad == true\n",
    "            f = FEM.followerLoadVector(problem, last(r), [traction])\n",
    "        end\n",
    "        fnl = FEM.loadVectorNonLinear(problem, last(r))\n",
    "        K1, f1 = FEM.applyBoundaryConditions(problem, Kl + Knl, f - fnl, [supp])\n",
    "        q = FEM.solveDisplacement(K1, f1)\n",
    "        r0 .+= q\n",
    "        if saveIterations == true\n",
    "            push!(r, r0)\n",
    "        end\n",
    "        err = maximum(abs.(q)) / err0\n",
    "        if plotConvergence == true\n",
    "            append!(e, err)\n",
    "        end\n",
    "    end\n",
    "    if saveSteps == true\n",
    "        push!(r, r0)\n",
    "    end\n",
    "end\n",
    "\n",
    "if saveIterations == true || saveSteps == true\n",
    "    n = length(r)\n",
    "    r1 = zeros(length(r0), n)\n",
    "    for i in 1:n\n",
    "        r1[:, i] .= r[i]\n",
    "    end\n",
    "else\n",
    "    r1 = zeros(length(r0), 1)\n",
    "    r1 .= r0\n",
    "end"
   ]
  },
  {
   "cell_type": "code",
   "execution_count": 34,
   "id": "1866e2da",
   "metadata": {},
   "outputs": [
    {
     "data": {
      "image/png": "[encoded data removed]",
      "image/svg+xml": [
       "<?xml version=\"1.0\" encoding=\"utf-8\"?>\n",
       "<svg xmlns=\"http://www.w3.org/2000/svg\" xmlns:xlink=\"http://www.w3.org/1999/xlink\" width=\"600\" height=\"400\" viewBox=\"0 0 2400 1600\">\n",
       "<defs>\n",
       "  <clipPath id=\"clip790\">\n",
       "    <rect x=\"0\" y=\"0\" width=\"2400\" height=\"1600\"/>\n",
       "  </clipPath>\n",
       "</defs>\n",
       "<path clip-path=\"url(#clip790)\" d=\"M0 1600 L2400 1600 L2400 0 L0 0  Z\" fill=\"#ffffff\" fill-rule=\"evenodd\" fill-opacity=\"1\"/>\n",
       "<defs>\n",
       "  <clipPath id=\"clip791\">\n",
       "    <rect x=\"480\" y=\"0\" width=\"1681\" height=\"1600\"/>\n",
       "  </clipPath>\n",
       "</defs>\n",
       "<path clip-path=\"url(#clip790)\" d=\"M194.422 1486.45 L2352.76 1486.45 L2352.76 47.2441 L194.422 47.2441  Z\" fill=\"#ffffff\" fill-rule=\"evenodd\" fill-opacity=\"1\"/>\n",
       "<defs>\n",
       "  <clipPath id=\"clip792\">\n",
       "    <rect x=\"194\" y=\"47\" width=\"2159\" height=\"1440\"/>\n",
       "  </clipPath>\n",
       "</defs>\n",
       "<polyline clip-path=\"url(#clip792)\" style=\"stroke:#000000; stroke-linecap:round; stroke-linejoin:round; stroke-width:2; stroke-opacity:0.1; fill:none\" points=\"684.173,1486.45 684.173,47.2441 \"/>\n",
       "<polyline clip-path=\"url(#clip792)\" style=\"stroke:#000000; stroke-linecap:round; stroke-linejoin:round; stroke-width:2; stroke-opacity:0.1; fill:none\" points=\"1220.01,1486.45 1220.01,47.2441 \"/>\n",
       "<polyline clip-path=\"url(#clip792)\" style=\"stroke:#000000; stroke-linecap:round; stroke-linejoin:round; stroke-width:2; stroke-opacity:0.1; fill:none\" points=\"1755.84,1486.45 1755.84,47.2441 \"/>\n",
       "<polyline clip-path=\"url(#clip792)\" style=\"stroke:#000000; stroke-linecap:round; stroke-linejoin:round; stroke-width:2; stroke-opacity:0.1; fill:none\" points=\"2291.67,1486.45 2291.67,47.2441 \"/>\n",
       "<polyline clip-path=\"url(#clip792)\" style=\"stroke:#000000; stroke-linecap:round; stroke-linejoin:round; stroke-width:2; stroke-opacity:0.1; fill:none\" points=\"194.422,1230.87 2352.76,1230.87 \"/>\n",
       "<polyline clip-path=\"url(#clip792)\" style=\"stroke:#000000; stroke-linecap:round; stroke-linejoin:round; stroke-width:2; stroke-opacity:0.1; fill:none\" points=\"194.422,960.098 2352.76,960.098 \"/>\n",
       "<polyline clip-path=\"url(#clip792)\" style=\"stroke:#000000; stroke-linecap:round; stroke-linejoin:round; stroke-width:2; stroke-opacity:0.1; fill:none\" points=\"194.422,689.321 2352.76,689.321 \"/>\n",
       "<polyline clip-path=\"url(#clip792)\" style=\"stroke:#000000; stroke-linecap:round; stroke-linejoin:round; stroke-width:2; stroke-opacity:0.1; fill:none\" points=\"194.422,418.545 2352.76,418.545 \"/>\n",
       "<polyline clip-path=\"url(#clip792)\" style=\"stroke:#000000; stroke-linecap:round; stroke-linejoin:round; stroke-width:2; stroke-opacity:0.1; fill:none\" points=\"194.422,147.769 2352.76,147.769 \"/>\n",
       "<polyline clip-path=\"url(#clip790)\" style=\"stroke:#000000; stroke-linecap:round; stroke-linejoin:round; stroke-width:4; stroke-opacity:1; fill:none\" points=\"194.422,1486.45 2352.76,1486.45 \"/>\n",
       "<polyline clip-path=\"url(#clip790)\" style=\"stroke:#000000; stroke-linecap:round; stroke-linejoin:round; stroke-width:4; stroke-opacity:1; fill:none\" points=\"684.173,1486.45 684.173,1467.55 \"/>\n",
       "<polyline clip-path=\"url(#clip790)\" style=\"stroke:#000000; stroke-linecap:round; stroke-linejoin:round; stroke-width:4; stroke-opacity:1; fill:none\" points=\"1220.01,1486.45 1220.01,1467.55 \"/>\n",
       "<polyline clip-path=\"url(#clip790)\" style=\"stroke:#000000; stroke-linecap:round; stroke-linejoin:round; stroke-width:4; stroke-opacity:1; fill:none\" points=\"1755.84,1486.45 1755.84,1467.55 \"/>\n",
       "<polyline clip-path=\"url(#clip790)\" style=\"stroke:#000000; stroke-linecap:round; stroke-linejoin:round; stroke-width:4; stroke-opacity:1; fill:none\" points=\"2291.67,1486.45 2291.67,1467.55 \"/>\n",
       "<path clip-path=\"url(#clip790)\" d=\"M674.451 1514.29 L692.807 1514.29 L692.807 1518.22 L678.733 1518.22 L678.733 1526.7 Q679.752 1526.35 680.77 1526.19 Q681.789 1526 682.807 1526 Q688.594 1526 691.974 1529.17 Q695.354 1532.34 695.354 1537.76 Q695.354 1543.34 691.881 1546.44 Q688.409 1549.52 682.09 1549.52 Q679.914 1549.52 677.645 1549.15 Q675.4 1548.78 672.993 1548.04 L672.993 1543.34 Q675.076 1544.47 677.298 1545.03 Q679.52 1545.58 681.997 1545.58 Q686.002 1545.58 688.34 1543.48 Q690.678 1541.37 690.678 1537.76 Q690.678 1534.15 688.34 1532.04 Q686.002 1529.94 681.997 1529.94 Q680.122 1529.94 678.247 1530.35 Q676.395 1530.77 674.451 1531.65 L674.451 1514.29 Z\" fill=\"#000000\" fill-rule=\"nonzero\" fill-opacity=\"1\" /><path clip-path=\"url(#clip790)\" d=\"M1194.69 1544.91 L1202.33 1544.91 L1202.33 1518.55 L1194.02 1520.21 L1194.02 1515.95 L1202.29 1514.29 L1206.96 1514.29 L1206.96 1544.91 L1214.6 1544.91 L1214.6 1548.85 L1194.69 1548.85 L1194.69 1544.91 Z\" fill=\"#000000\" fill-rule=\"nonzero\" fill-opacity=\"1\" /><path clip-path=\"url(#clip790)\" d=\"M1234.05 1517.37 Q1230.43 1517.37 1228.61 1520.93 Q1226.8 1524.47 1226.8 1531.6 Q1226.8 1538.71 1228.61 1542.27 Q1230.43 1545.82 1234.05 1545.82 Q1237.68 1545.82 1239.48 1542.27 Q1241.31 1538.71 1241.31 1531.6 Q1241.31 1524.47 1239.48 1520.93 Q1237.68 1517.37 1234.05 1517.37 M1234.05 1513.66 Q1239.86 1513.66 1242.91 1518.27 Q1245.99 1522.85 1245.99 1531.6 Q1245.99 1540.33 1242.91 1544.94 Q1239.86 1549.52 1234.05 1549.52 Q1228.23 1549.52 1225.16 1544.94 Q1222.1 1540.33 1222.1 1531.6 Q1222.1 1522.85 1225.16 1518.27 Q1228.23 1513.66 1234.05 1513.66 Z\" fill=\"#000000\" fill-rule=\"nonzero\" fill-opacity=\"1\" /><path clip-path=\"url(#clip790)\" d=\"M1731.02 1544.91 L1738.66 1544.91 L1738.66 1518.55 L1730.35 1520.21 L1730.35 1515.95 L1738.62 1514.29 L1743.29 1514.29 L1743.29 1544.91 L1750.93 1544.91 L1750.93 1548.85 L1731.02 1548.85 L1731.02 1544.91 Z\" fill=\"#000000\" fill-rule=\"nonzero\" fill-opacity=\"1\" /><path clip-path=\"url(#clip790)\" d=\"M1760.42 1514.29 L1778.78 1514.29 L1778.78 1518.22 L1764.7 1518.22 L1764.7 1526.7 Q1765.72 1526.35 1766.74 1526.19 Q1767.76 1526 1768.78 1526 Q1774.57 1526 1777.94 1529.17 Q1781.32 1532.34 1781.32 1537.76 Q1781.32 1543.34 1777.85 1546.44 Q1774.38 1549.52 1768.06 1549.52 Q1765.88 1549.52 1763.62 1549.15 Q1761.37 1548.78 1758.96 1548.04 L1758.96 1543.34 Q1761.05 1544.47 1763.27 1545.03 Q1765.49 1545.58 1767.97 1545.58 Q1771.97 1545.58 1774.31 1543.48 Q1776.65 1541.37 1776.65 1537.76 Q1776.65 1534.15 1774.31 1532.04 Q1771.97 1529.94 1767.97 1529.94 Q1766.09 1529.94 1764.22 1530.35 Q1762.37 1530.77 1760.42 1531.65 L1760.42 1514.29 Z\" fill=\"#000000\" fill-rule=\"nonzero\" fill-opacity=\"1\" /><path clip-path=\"url(#clip790)\" d=\"M2270.44 1544.91 L2286.76 1544.91 L2286.76 1548.85 L2264.82 1548.85 L2264.82 1544.91 Q2267.48 1542.16 2272.06 1537.53 Q2276.67 1532.88 2277.85 1531.53 Q2280.1 1529.01 2280.98 1527.27 Q2281.88 1525.51 2281.88 1523.82 Q2281.88 1521.07 2279.93 1519.33 Q2278.01 1517.6 2274.91 1517.6 Q2272.71 1517.6 2270.26 1518.36 Q2267.83 1519.13 2265.05 1520.68 L2265.05 1515.95 Q2267.87 1514.82 2270.33 1514.24 Q2272.78 1513.66 2274.82 1513.66 Q2280.19 1513.66 2283.38 1516.35 Q2286.58 1519.03 2286.58 1523.52 Q2286.58 1525.65 2285.77 1527.57 Q2284.98 1529.47 2282.87 1532.07 Q2282.3 1532.74 2279.19 1535.95 Q2276.09 1539.15 2270.44 1544.91 Z\" fill=\"#000000\" fill-rule=\"nonzero\" fill-opacity=\"1\" /><path clip-path=\"url(#clip790)\" d=\"M2306.58 1517.37 Q2302.97 1517.37 2301.14 1520.93 Q2299.33 1524.47 2299.33 1531.6 Q2299.33 1538.71 2301.14 1542.27 Q2302.97 1545.82 2306.58 1545.82 Q2310.21 1545.82 2312.02 1542.27 Q2313.85 1538.71 2313.85 1531.6 Q2313.85 1524.47 2312.02 1520.93 Q2310.21 1517.37 2306.58 1517.37 M2306.58 1513.66 Q2312.39 1513.66 2315.44 1518.27 Q2318.52 1522.85 2318.52 1531.6 Q2318.52 1540.33 2315.44 1544.94 Q2312.39 1549.52 2306.58 1549.52 Q2300.77 1549.52 2297.69 1544.94 Q2294.63 1540.33 2294.63 1531.6 Q2294.63 1522.85 2297.69 1518.27 Q2300.77 1513.66 2306.58 1513.66 Z\" fill=\"#000000\" fill-rule=\"nonzero\" fill-opacity=\"1\" /><polyline clip-path=\"url(#clip790)\" style=\"stroke:#000000; stroke-linecap:round; stroke-linejoin:round; stroke-width:4; stroke-opacity:1; fill:none\" points=\"194.422,1486.45 194.422,47.2441 \"/>\n",
       "<polyline clip-path=\"url(#clip790)\" style=\"stroke:#000000; stroke-linecap:round; stroke-linejoin:round; stroke-width:4; stroke-opacity:1; fill:none\" points=\"194.422,1230.87 213.32,1230.87 \"/>\n",
       "<polyline clip-path=\"url(#clip790)\" style=\"stroke:#000000; stroke-linecap:round; stroke-linejoin:round; stroke-width:4; stroke-opacity:1; fill:none\" points=\"194.422,960.098 213.32,960.098 \"/>\n",
       "<polyline clip-path=\"url(#clip790)\" style=\"stroke:#000000; stroke-linecap:round; stroke-linejoin:round; stroke-width:4; stroke-opacity:1; fill:none\" points=\"194.422,689.321 213.32,689.321 \"/>\n",
       "<polyline clip-path=\"url(#clip790)\" style=\"stroke:#000000; stroke-linecap:round; stroke-linejoin:round; stroke-width:4; stroke-opacity:1; fill:none\" points=\"194.422,418.545 213.32,418.545 \"/>\n",
       "<polyline clip-path=\"url(#clip790)\" style=\"stroke:#000000; stroke-linecap:round; stroke-linejoin:round; stroke-width:4; stroke-opacity:1; fill:none\" points=\"194.422,147.769 213.32,147.769 \"/>\n",
       "<path clip-path=\"url(#clip790)\" d=\"M52.381 1231.33 L82.0568 1231.33 L82.0568 1235.26 L52.381 1235.26 L52.381 1231.33 Z\" fill=\"#000000\" fill-rule=\"nonzero\" fill-opacity=\"1\" /><path clip-path=\"url(#clip790)\" d=\"M96.1771 1244.22 L112.496 1244.22 L112.496 1248.15 L90.5521 1248.15 L90.5521 1244.22 Q93.2141 1241.46 97.7974 1236.83 Q102.404 1232.18 103.584 1230.84 Q105.83 1228.32 106.709 1226.58 Q107.612 1224.82 107.612 1223.13 Q107.612 1220.38 105.668 1218.64 Q103.746 1216.9 100.645 1216.9 Q98.4456 1216.9 95.9919 1217.67 Q93.5613 1218.43 90.7836 1219.98 L90.7836 1215.26 Q93.6076 1214.13 96.0613 1213.55 Q98.515 1212.97 100.552 1212.97 Q105.922 1212.97 109.117 1215.65 Q112.311 1218.34 112.311 1222.83 Q112.311 1224.96 111.501 1226.88 Q110.714 1228.78 108.608 1231.37 Q108.029 1232.04 104.927 1235.26 Q101.825 1238.45 96.1771 1244.22 Z\" fill=\"#000000\" fill-rule=\"nonzero\" fill-opacity=\"1\" /><path clip-path=\"url(#clip790)\" d=\"M122.311 1242.27 L127.195 1242.27 L127.195 1248.15 L122.311 1248.15 L122.311 1242.27 Z\" fill=\"#000000\" fill-rule=\"nonzero\" fill-opacity=\"1\" /><path clip-path=\"url(#clip790)\" d=\"M136.2 1213.59 L158.422 1213.59 L158.422 1215.58 L145.876 1248.15 L140.992 1248.15 L152.797 1217.53 L136.2 1217.53 L136.2 1213.59 Z\" fill=\"#000000\" fill-rule=\"nonzero\" fill-opacity=\"1\" /><path clip-path=\"url(#clip790)\" d=\"M50.9921 960.549 L80.6679 960.549 L80.6679 964.484 L50.9921 964.484 L50.9921 960.549 Z\" fill=\"#000000\" fill-rule=\"nonzero\" fill-opacity=\"1\" /><path clip-path=\"url(#clip790)\" d=\"M94.7882 973.442 L111.108 973.442 L111.108 977.378 L89.1632 977.378 L89.1632 973.442 Q91.8252 970.688 96.4085 966.058 Q101.015 961.406 102.196 960.063 Q104.441 957.54 105.321 955.804 Q106.223 954.044 106.223 952.355 Q106.223 949.6 104.279 947.864 Q102.358 946.128 99.2558 946.128 Q97.0567 946.128 94.603 946.892 Q92.1725 947.656 89.3947 949.206 L89.3947 944.484 Q92.2188 943.35 94.6724 942.771 Q97.1261 942.193 99.1632 942.193 Q104.534 942.193 107.728 944.878 Q110.922 947.563 110.922 952.054 Q110.922 954.183 110.112 956.105 Q109.325 958.003 107.219 960.595 Q106.64 961.267 103.538 964.484 Q100.436 967.679 94.7882 973.442 Z\" fill=\"#000000\" fill-rule=\"nonzero\" fill-opacity=\"1\" /><path clip-path=\"url(#clip790)\" d=\"M120.922 971.498 L125.807 971.498 L125.807 977.378 L120.922 977.378 L120.922 971.498 Z\" fill=\"#000000\" fill-rule=\"nonzero\" fill-opacity=\"1\" /><path clip-path=\"url(#clip790)\" d=\"M148.839 946.892 L137.033 965.341 L148.839 965.341 L148.839 946.892 M147.612 942.818 L153.492 942.818 L153.492 965.341 L158.422 965.341 L158.422 969.23 L153.492 969.23 L153.492 977.378 L148.839 977.378 L148.839 969.23 L133.237 969.23 L133.237 964.716 L147.612 942.818 Z\" fill=\"#000000\" fill-rule=\"nonzero\" fill-opacity=\"1\" /><path clip-path=\"url(#clip790)\" d=\"M52.7051 689.773 L82.3808 689.773 L82.3808 693.708 L52.7051 693.708 L52.7051 689.773 Z\" fill=\"#000000\" fill-rule=\"nonzero\" fill-opacity=\"1\" /><path clip-path=\"url(#clip790)\" d=\"M96.5011 702.666 L112.82 702.666 L112.82 706.601 L90.8762 706.601 L90.8762 702.666 Q93.5382 699.912 98.1215 695.282 Q102.728 690.629 103.909 689.287 Q106.154 686.764 107.033 685.027 Q107.936 683.268 107.936 681.578 Q107.936 678.824 105.992 677.088 Q104.071 675.352 100.969 675.352 Q98.7696 675.352 96.316 676.115 Q93.8854 676.879 91.1077 678.43 L91.1077 673.708 Q93.9317 672.574 96.3854 671.995 Q98.8391 671.416 100.876 671.416 Q106.246 671.416 109.441 674.102 Q112.635 676.787 112.635 681.277 Q112.635 683.407 111.825 685.328 Q111.038 687.227 108.932 689.819 Q108.353 690.49 105.251 693.708 Q102.149 696.902 96.5011 702.666 Z\" fill=\"#000000\" fill-rule=\"nonzero\" fill-opacity=\"1\" /><path clip-path=\"url(#clip790)\" d=\"M122.635 700.722 L127.519 700.722 L127.519 706.601 L122.635 706.601 L122.635 700.722 Z\" fill=\"#000000\" fill-rule=\"nonzero\" fill-opacity=\"1\" /><path clip-path=\"url(#clip790)\" d=\"M138.515 702.666 L146.154 702.666 L146.154 676.301 L137.844 677.967 L137.844 673.708 L146.107 672.041 L150.783 672.041 L150.783 702.666 L158.422 702.666 L158.422 706.601 L138.515 706.601 L138.515 702.666 Z\" fill=\"#000000\" fill-rule=\"nonzero\" fill-opacity=\"1\" /><path clip-path=\"url(#clip790)\" d=\"M51.5708 418.997 L81.2466 418.997 L81.2466 422.932 L51.5708 422.932 L51.5708 418.997 Z\" fill=\"#000000\" fill-rule=\"nonzero\" fill-opacity=\"1\" /><path clip-path=\"url(#clip790)\" d=\"M92.1493 431.89 L99.7882 431.89 L99.7882 405.524 L91.478 407.191 L91.478 402.932 L99.7419 401.265 L104.418 401.265 L104.418 431.89 L112.057 431.89 L112.057 435.825 L92.1493 435.825 L92.1493 431.89 Z\" fill=\"#000000\" fill-rule=\"nonzero\" fill-opacity=\"1\" /><path clip-path=\"url(#clip790)\" d=\"M121.501 429.946 L126.385 429.946 L126.385 435.825 L121.501 435.825 L121.501 429.946 Z\" fill=\"#000000\" fill-rule=\"nonzero\" fill-opacity=\"1\" /><path clip-path=\"url(#clip790)\" d=\"M146.57 419.413 Q143.237 419.413 141.316 421.196 Q139.418 422.978 139.418 426.103 Q139.418 429.228 141.316 431.01 Q143.237 432.793 146.57 432.793 Q149.904 432.793 151.825 431.01 Q153.746 429.205 153.746 426.103 Q153.746 422.978 151.825 421.196 Q149.927 419.413 146.57 419.413 M141.894 417.423 Q138.885 416.682 137.195 414.622 Q135.529 412.561 135.529 409.598 Q135.529 405.455 138.469 403.048 Q141.431 400.64 146.57 400.64 Q151.732 400.64 154.672 403.048 Q157.612 405.455 157.612 409.598 Q157.612 412.561 155.922 414.622 Q154.255 416.682 151.269 417.423 Q154.649 418.21 156.524 420.501 Q158.422 422.793 158.422 426.103 Q158.422 431.126 155.343 433.811 Q152.288 436.497 146.57 436.497 Q140.853 436.497 137.774 433.811 Q134.719 431.126 134.719 426.103 Q134.719 422.793 136.617 420.501 Q138.515 418.21 141.894 417.423 M140.181 410.038 Q140.181 412.723 141.848 414.228 Q143.538 415.733 146.57 415.733 Q149.58 415.733 151.269 414.228 Q152.982 412.723 152.982 410.038 Q152.982 407.353 151.269 405.849 Q149.58 404.344 146.57 404.344 Q143.538 404.344 141.848 405.849 Q140.181 407.353 140.181 410.038 Z\" fill=\"#000000\" fill-rule=\"nonzero\" fill-opacity=\"1\" /><path clip-path=\"url(#clip790)\" d=\"M52.4736 148.22 L82.1494 148.22 L82.1494 152.156 L52.4736 152.156 L52.4736 148.22 Z\" fill=\"#000000\" fill-rule=\"nonzero\" fill-opacity=\"1\" /><path clip-path=\"url(#clip790)\" d=\"M93.0521 161.114 L100.691 161.114 L100.691 134.748 L92.3808 136.415 L92.3808 132.156 L100.645 130.489 L105.321 130.489 L105.321 161.114 L112.959 161.114 L112.959 165.049 L93.0521 165.049 L93.0521 161.114 Z\" fill=\"#000000\" fill-rule=\"nonzero\" fill-opacity=\"1\" /><path clip-path=\"url(#clip790)\" d=\"M122.404 159.169 L127.288 159.169 L127.288 165.049 L122.404 165.049 L122.404 159.169 Z\" fill=\"#000000\" fill-rule=\"nonzero\" fill-opacity=\"1\" /><path clip-path=\"url(#clip790)\" d=\"M137.519 130.489 L155.876 130.489 L155.876 134.424 L141.802 134.424 L141.802 142.896 Q142.82 142.549 143.839 142.387 Q144.857 142.202 145.876 142.202 Q151.663 142.202 155.042 145.373 Q158.422 148.544 158.422 153.961 Q158.422 159.54 154.95 162.642 Q151.478 165.72 145.158 165.72 Q142.982 165.72 140.714 165.35 Q138.469 164.98 136.061 164.239 L136.061 159.54 Q138.144 160.674 140.367 161.23 Q142.589 161.785 145.066 161.785 Q149.07 161.785 151.408 159.679 Q153.746 157.572 153.746 153.961 Q153.746 150.35 151.408 148.244 Q149.07 146.137 145.066 146.137 Q143.191 146.137 141.316 146.554 Q139.464 146.97 137.519 147.85 L137.519 130.489 Z\" fill=\"#000000\" fill-rule=\"nonzero\" fill-opacity=\"1\" /><polyline clip-path=\"url(#clip792)\" style=\"stroke:#009af9; stroke-linecap:round; stroke-linejoin:round; stroke-width:4; stroke-opacity:1; fill:none\" points=\"255.507,87.9763 362.674,1228.06 469.84,1155.93 577.007,1445.72 684.173,1354.16 791.34,1441.39 898.506,1425.46 1005.67,1424.9 1112.84,1412.64 1220.01,1414.12 1327.17,1406.21 1434.34,1408.53 1541.51,1404.58 1648.67,1406.87 1755.84,1404.82 1863,1406.88 1970.17,1405.28 2077.34,1407.29 2184.5,1405.69 2291.67,1407.76 \"/>\n",
       "<path clip-path=\"url(#clip790)\" d=\"M2012.55 198.898 L2280.81 198.898 L2280.81 95.2176 L2012.55 95.2176  Z\" fill=\"#ffffff\" fill-rule=\"evenodd\" fill-opacity=\"1\"/>\n",
       "<polyline clip-path=\"url(#clip790)\" style=\"stroke:#000000; stroke-linecap:round; stroke-linejoin:round; stroke-width:4; stroke-opacity:1; fill:none\" points=\"2012.55,198.898 2280.81,198.898 2280.81,95.2176 2012.55,95.2176 2012.55,198.898 \"/>\n",
       "<polyline clip-path=\"url(#clip790)\" style=\"stroke:#009af9; stroke-linecap:round; stroke-linejoin:round; stroke-width:4; stroke-opacity:1; fill:none\" points=\"2036.53,147.058 2180.42,147.058 \"/>\n",
       "<path clip-path=\"url(#clip790)\" d=\"M2218.24 166.745 Q2216.44 171.375 2214.72 172.787 Q2213.01 174.199 2210.14 174.199 L2206.74 174.199 L2206.74 170.634 L2209.24 170.634 Q2211 170.634 2211.97 169.8 Q2212.94 168.967 2214.12 165.865 L2214.89 163.921 L2204.4 138.412 L2208.91 138.412 L2217.02 158.689 L2225.12 138.412 L2229.63 138.412 L2218.24 166.745 Z\" fill=\"#000000\" fill-rule=\"nonzero\" fill-opacity=\"1\" /><path clip-path=\"url(#clip790)\" d=\"M2236.92 160.402 L2244.56 160.402 L2244.56 134.037 L2236.25 135.703 L2236.25 131.444 L2244.52 129.778 L2249.19 129.778 L2249.19 160.402 L2256.83 160.402 L2256.83 164.338 L2236.92 164.338 L2236.92 160.402 Z\" fill=\"#000000\" fill-rule=\"nonzero\" fill-opacity=\"1\" /></svg>\n"
      ],
      "text/html": [
       "<?xml version=\"1.0\" encoding=\"utf-8\"?>\n",
       "<svg xmlns=\"http://www.w3.org/2000/svg\" xmlns:xlink=\"http://www.w3.org/1999/xlink\" width=\"600\" height=\"400\" viewBox=\"0 0 2400 1600\">\n",
       "<defs>\n",
       "  <clipPath id=\"clip840\">\n",
       "    <rect x=\"0\" y=\"0\" width=\"2400\" height=\"1600\"/>\n",
       "  </clipPath>\n",
       "</defs>\n",
       "<path clip-path=\"url(#clip840)\" d=\"M0 1600 L2400 1600 L2400 0 L0 0  Z\" fill=\"#ffffff\" fill-rule=\"evenodd\" fill-opacity=\"1\"/>\n",
       "<defs>\n",
       "  <clipPath id=\"clip841\">\n",
       "    <rect x=\"480\" y=\"0\" width=\"1681\" height=\"1600\"/>\n",
       "  </clipPath>\n",
       "</defs>\n",
       "<path clip-path=\"url(#clip840)\" d=\"M194.422 1486.45 L2352.76 1486.45 L2352.76 47.2441 L194.422 47.2441  Z\" fill=\"#ffffff\" fill-rule=\"evenodd\" fill-opacity=\"1\"/>\n",
       "<defs>\n",
       "  <clipPath id=\"clip842\">\n",
       "    <rect x=\"194\" y=\"47\" width=\"2159\" height=\"1440\"/>\n",
       "  </clipPath>\n",
       "</defs>\n",
       "<polyline clip-path=\"url(#clip842)\" style=\"stroke:#000000; stroke-linecap:round; stroke-linejoin:round; stroke-width:2; stroke-opacity:0.1; fill:none\" points=\"684.173,1486.45 684.173,47.2441 \"/>\n",
       "<polyline clip-path=\"url(#clip842)\" style=\"stroke:#000000; stroke-linecap:round; stroke-linejoin:round; stroke-width:2; stroke-opacity:0.1; fill:none\" points=\"1220.01,1486.45 1220.01,47.2441 \"/>\n",
       "<polyline clip-path=\"url(#clip842)\" style=\"stroke:#000000; stroke-linecap:round; stroke-linejoin:round; stroke-width:2; stroke-opacity:0.1; fill:none\" points=\"1755.84,1486.45 1755.84,47.2441 \"/>\n",
       "<polyline clip-path=\"url(#clip842)\" style=\"stroke:#000000; stroke-linecap:round; stroke-linejoin:round; stroke-width:2; stroke-opacity:0.1; fill:none\" points=\"2291.67,1486.45 2291.67,47.2441 \"/>\n",
       "<polyline clip-path=\"url(#clip842)\" style=\"stroke:#000000; stroke-linecap:round; stroke-linejoin:round; stroke-width:2; stroke-opacity:0.1; fill:none\" points=\"194.422,1230.87 2352.76,1230.87 \"/>\n",
       "<polyline clip-path=\"url(#clip842)\" style=\"stroke:#000000; stroke-linecap:round; stroke-linejoin:round; stroke-width:2; stroke-opacity:0.1; fill:none\" points=\"194.422,960.098 2352.76,960.098 \"/>\n",
       "<polyline clip-path=\"url(#clip842)\" style=\"stroke:#000000; stroke-linecap:round; stroke-linejoin:round; stroke-width:2; stroke-opacity:0.1; fill:none\" points=\"194.422,689.321 2352.76,689.321 \"/>\n",
       "<polyline clip-path=\"url(#clip842)\" style=\"stroke:#000000; stroke-linecap:round; stroke-linejoin:round; stroke-width:2; stroke-opacity:0.1; fill:none\" points=\"194.422,418.545 2352.76,418.545 \"/>\n",
       "<polyline clip-path=\"url(#clip842)\" style=\"stroke:#000000; stroke-linecap:round; stroke-linejoin:round; stroke-width:2; stroke-opacity:0.1; fill:none\" points=\"194.422,147.769 2352.76,147.769 \"/>\n",
       "<polyline clip-path=\"url(#clip840)\" style=\"stroke:#000000; stroke-linecap:round; stroke-linejoin:round; stroke-width:4; stroke-opacity:1; fill:none\" points=\"194.422,1486.45 2352.76,1486.45 \"/>\n",
       "<polyline clip-path=\"url(#clip840)\" style=\"stroke:#000000; stroke-linecap:round; stroke-linejoin:round; stroke-width:4; stroke-opacity:1; fill:none\" points=\"684.173,1486.45 684.173,1467.55 \"/>\n",
       "<polyline clip-path=\"url(#clip840)\" style=\"stroke:#000000; stroke-linecap:round; stroke-linejoin:round; stroke-width:4; stroke-opacity:1; fill:none\" points=\"1220.01,1486.45 1220.01,1467.55 \"/>\n",
       "<polyline clip-path=\"url(#clip840)\" style=\"stroke:#000000; stroke-linecap:round; stroke-linejoin:round; stroke-width:4; stroke-opacity:1; fill:none\" points=\"1755.84,1486.45 1755.84,1467.55 \"/>\n",
       "<polyline clip-path=\"url(#clip840)\" style=\"stroke:#000000; stroke-linecap:round; stroke-linejoin:round; stroke-width:4; stroke-opacity:1; fill:none\" points=\"2291.67,1486.45 2291.67,1467.55 \"/>\n",
       "<path clip-path=\"url(#clip840)\" d=\"M674.451 1514.29 L692.807 1514.29 L692.807 1518.22 L678.733 1518.22 L678.733 1526.7 Q679.752 1526.35 680.77 1526.19 Q681.789 1526 682.807 1526 Q688.594 1526 691.974 1529.17 Q695.354 1532.34 695.354 1537.76 Q695.354 1543.34 691.881 1546.44 Q688.409 1549.52 682.09 1549.52 Q679.914 1549.52 677.645 1549.15 Q675.4 1548.78 672.993 1548.04 L672.993 1543.34 Q675.076 1544.47 677.298 1545.03 Q679.52 1545.58 681.997 1545.58 Q686.002 1545.58 688.34 1543.48 Q690.678 1541.37 690.678 1537.76 Q690.678 1534.15 688.34 1532.04 Q686.002 1529.94 681.997 1529.94 Q680.122 1529.94 678.247 1530.35 Q676.395 1530.77 674.451 1531.65 L674.451 1514.29 Z\" fill=\"#000000\" fill-rule=\"nonzero\" fill-opacity=\"1\" /><path clip-path=\"url(#clip840)\" d=\"M1194.69 1544.91 L1202.33 1544.91 L1202.33 1518.55 L1194.02 1520.21 L1194.02 1515.95 L1202.29 1514.29 L1206.96 1514.29 L1206.96 1544.91 L1214.6 1544.91 L1214.6 1548.85 L1194.69 1548.85 L1194.69 1544.91 Z\" fill=\"#000000\" fill-rule=\"nonzero\" fill-opacity=\"1\" /><path clip-path=\"url(#clip840)\" d=\"M1234.05 1517.37 Q1230.43 1517.37 1228.61 1520.93 Q1226.8 1524.47 1226.8 1531.6 Q1226.8 1538.71 1228.61 1542.27 Q1230.43 1545.82 1234.05 1545.82 Q1237.68 1545.82 1239.48 1542.27 Q1241.31 1538.71 1241.31 1531.6 Q1241.31 1524.47 1239.48 1520.93 Q1237.68 1517.37 1234.05 1517.37 M1234.05 1513.66 Q1239.86 1513.66 1242.91 1518.27 Q1245.99 1522.85 1245.99 1531.6 Q1245.99 1540.33 1242.91 1544.94 Q1239.86 1549.52 1234.05 1549.52 Q1228.23 1549.52 1225.16 1544.94 Q1222.1 1540.33 1222.1 1531.6 Q1222.1 1522.85 1225.16 1518.27 Q1228.23 1513.66 1234.05 1513.66 Z\" fill=\"#000000\" fill-rule=\"nonzero\" fill-opacity=\"1\" /><path clip-path=\"url(#clip840)\" d=\"M1731.02 1544.91 L1738.66 1544.91 L1738.66 1518.55 L1730.35 1520.21 L1730.35 1515.95 L1738.62 1514.29 L1743.29 1514.29 L1743.29 1544.91 L1750.93 1544.91 L1750.93 1548.85 L1731.02 1548.85 L1731.02 1544.91 Z\" fill=\"#000000\" fill-rule=\"nonzero\" fill-opacity=\"1\" /><path clip-path=\"url(#clip840)\" d=\"M1760.42 1514.29 L1778.78 1514.29 L1778.78 1518.22 L1764.7 1518.22 L1764.7 1526.7 Q1765.72 1526.35 1766.74 1526.19 Q1767.76 1526 1768.78 1526 Q1774.57 1526 1777.94 1529.17 Q1781.32 1532.34 1781.32 1537.76 Q1781.32 1543.34 1777.85 1546.44 Q1774.38 1549.52 1768.06 1549.52 Q1765.88 1549.52 1763.62 1549.15 Q1761.37 1548.78 1758.96 1548.04 L1758.96 1543.34 Q1761.05 1544.47 1763.27 1545.03 Q1765.49 1545.58 1767.97 1545.58 Q1771.97 1545.58 1774.31 1543.48 Q1776.65 1541.37 1776.65 1537.76 Q1776.65 1534.15 1774.31 1532.04 Q1771.97 1529.94 1767.97 1529.94 Q1766.09 1529.94 1764.22 1530.35 Q1762.37 1530.77 1760.42 1531.65 L1760.42 1514.29 Z\" fill=\"#000000\" fill-rule=\"nonzero\" fill-opacity=\"1\" /><path clip-path=\"url(#clip840)\" d=\"M2270.44 1544.91 L2286.76 1544.91 L2286.76 1548.85 L2264.82 1548.85 L2264.82 1544.91 Q2267.48 1542.16 2272.06 1537.53 Q2276.67 1532.88 2277.85 1531.53 Q2280.1 1529.01 2280.98 1527.27 Q2281.88 1525.51 2281.88 1523.82 Q2281.88 1521.07 2279.93 1519.33 Q2278.01 1517.6 2274.91 1517.6 Q2272.71 1517.6 2270.26 1518.36 Q2267.83 1519.13 2265.05 1520.68 L2265.05 1515.95 Q2267.87 1514.82 2270.33 1514.24 Q2272.78 1513.66 2274.82 1513.66 Q2280.19 1513.66 2283.38 1516.35 Q2286.58 1519.03 2286.58 1523.52 Q2286.58 1525.65 2285.77 1527.57 Q2284.98 1529.47 2282.87 1532.07 Q2282.3 1532.74 2279.19 1535.95 Q2276.09 1539.15 2270.44 1544.91 Z\" fill=\"#000000\" fill-rule=\"nonzero\" fill-opacity=\"1\" /><path clip-path=\"url(#clip840)\" d=\"M2306.58 1517.37 Q2302.97 1517.37 2301.14 1520.93 Q2299.33 1524.47 2299.33 1531.6 Q2299.33 1538.71 2301.14 1542.27 Q2302.97 1545.82 2306.58 1545.82 Q2310.21 1545.82 2312.02 1542.27 Q2313.85 1538.71 2313.85 1531.6 Q2313.85 1524.47 2312.02 1520.93 Q2310.21 1517.37 2306.58 1517.37 M2306.58 1513.66 Q2312.39 1513.66 2315.44 1518.27 Q2318.52 1522.85 2318.52 1531.6 Q2318.52 1540.33 2315.44 1544.94 Q2312.39 1549.52 2306.58 1549.52 Q2300.77 1549.52 2297.69 1544.94 Q2294.63 1540.33 2294.63 1531.6 Q2294.63 1522.85 2297.69 1518.27 Q2300.77 1513.66 2306.58 1513.66 Z\" fill=\"#000000\" fill-rule=\"nonzero\" fill-opacity=\"1\" /><polyline clip-path=\"url(#clip840)\" style=\"stroke:#000000; stroke-linecap:round; stroke-linejoin:round; stroke-width:4; stroke-opacity:1; fill:none\" points=\"194.422,1486.45 194.422,47.2441 \"/>\n",
       "<polyline clip-path=\"url(#clip840)\" style=\"stroke:#000000; stroke-linecap:round; stroke-linejoin:round; stroke-width:4; stroke-opacity:1; fill:none\" points=\"194.422,1230.87 213.32,1230.87 \"/>\n",
       "<polyline clip-path=\"url(#clip840)\" style=\"stroke:#000000; stroke-linecap:round; stroke-linejoin:round; stroke-width:4; stroke-opacity:1; fill:none\" points=\"194.422,960.098 213.32,960.098 \"/>\n",
       "<polyline clip-path=\"url(#clip840)\" style=\"stroke:#000000; stroke-linecap:round; stroke-linejoin:round; stroke-width:4; stroke-opacity:1; fill:none\" points=\"194.422,689.321 213.32,689.321 \"/>\n",
       "<polyline clip-path=\"url(#clip840)\" style=\"stroke:#000000; stroke-linecap:round; stroke-linejoin:round; stroke-width:4; stroke-opacity:1; fill:none\" points=\"194.422,418.545 213.32,418.545 \"/>\n",
       "<polyline clip-path=\"url(#clip840)\" style=\"stroke:#000000; stroke-linecap:round; stroke-linejoin:round; stroke-width:4; stroke-opacity:1; fill:none\" points=\"194.422,147.769 213.32,147.769 \"/>\n",
       "<path clip-path=\"url(#clip840)\" d=\"M52.381 1231.33 L82.0568 1231.33 L82.0568 1235.26 L52.381 1235.26 L52.381 1231.33 Z\" fill=\"#000000\" fill-rule=\"nonzero\" fill-opacity=\"1\" /><path clip-path=\"url(#clip840)\" d=\"M96.1771 1244.22 L112.496 1244.22 L112.496 1248.15 L90.5521 1248.15 L90.5521 1244.22 Q93.2141 1241.46 97.7974 1236.83 Q102.404 1232.18 103.584 1230.84 Q105.83 1228.32 106.709 1226.58 Q107.612 1224.82 107.612 1223.13 Q107.612 1220.38 105.668 1218.64 Q103.746 1216.9 100.645 1216.9 Q98.4456 1216.9 95.9919 1217.67 Q93.5613 1218.43 90.7836 1219.98 L90.7836 1215.26 Q93.6076 1214.13 96.0613 1213.55 Q98.515 1212.97 100.552 1212.97 Q105.922 1212.97 109.117 1215.65 Q112.311 1218.34 112.311 1222.83 Q112.311 1224.96 111.501 1226.88 Q110.714 1228.78 108.608 1231.37 Q108.029 1232.04 104.927 1235.26 Q101.825 1238.45 96.1771 1244.22 Z\" fill=\"#000000\" fill-rule=\"nonzero\" fill-opacity=\"1\" /><path clip-path=\"url(#clip840)\" d=\"M122.311 1242.27 L127.195 1242.27 L127.195 1248.15 L122.311 1248.15 L122.311 1242.27 Z\" fill=\"#000000\" fill-rule=\"nonzero\" fill-opacity=\"1\" /><path clip-path=\"url(#clip840)\" d=\"M136.2 1213.59 L158.422 1213.59 L158.422 1215.58 L145.876 1248.15 L140.992 1248.15 L152.797 1217.53 L136.2 1217.53 L136.2 1213.59 Z\" fill=\"#000000\" fill-rule=\"nonzero\" fill-opacity=\"1\" /><path clip-path=\"url(#clip840)\" d=\"M50.9921 960.549 L80.6679 960.549 L80.6679 964.484 L50.9921 964.484 L50.9921 960.549 Z\" fill=\"#000000\" fill-rule=\"nonzero\" fill-opacity=\"1\" /><path clip-path=\"url(#clip840)\" d=\"M94.7882 973.442 L111.108 973.442 L111.108 977.378 L89.1632 977.378 L89.1632 973.442 Q91.8252 970.688 96.4085 966.058 Q101.015 961.406 102.196 960.063 Q104.441 957.54 105.321 955.804 Q106.223 954.044 106.223 952.355 Q106.223 949.6 104.279 947.864 Q102.358 946.128 99.2558 946.128 Q97.0567 946.128 94.603 946.892 Q92.1725 947.656 89.3947 949.206 L89.3947 944.484 Q92.2188 943.35 94.6724 942.771 Q97.1261 942.193 99.1632 942.193 Q104.534 942.193 107.728 944.878 Q110.922 947.563 110.922 952.054 Q110.922 954.183 110.112 956.105 Q109.325 958.003 107.219 960.595 Q106.64 961.267 103.538 964.484 Q100.436 967.679 94.7882 973.442 Z\" fill=\"#000000\" fill-rule=\"nonzero\" fill-opacity=\"1\" /><path clip-path=\"url(#clip840)\" d=\"M120.922 971.498 L125.807 971.498 L125.807 977.378 L120.922 977.378 L120.922 971.498 Z\" fill=\"#000000\" fill-rule=\"nonzero\" fill-opacity=\"1\" /><path clip-path=\"url(#clip840)\" d=\"M148.839 946.892 L137.033 965.341 L148.839 965.341 L148.839 946.892 M147.612 942.818 L153.492 942.818 L153.492 965.341 L158.422 965.341 L158.422 969.23 L153.492 969.23 L153.492 977.378 L148.839 977.378 L148.839 969.23 L133.237 969.23 L133.237 964.716 L147.612 942.818 Z\" fill=\"#000000\" fill-rule=\"nonzero\" fill-opacity=\"1\" /><path clip-path=\"url(#clip840)\" d=\"M52.7051 689.773 L82.3808 689.773 L82.3808 693.708 L52.7051 693.708 L52.7051 689.773 Z\" fill=\"#000000\" fill-rule=\"nonzero\" fill-opacity=\"1\" /><path clip-path=\"url(#clip840)\" d=\"M96.5011 702.666 L112.82 702.666 L112.82 706.601 L90.8762 706.601 L90.8762 702.666 Q93.5382 699.912 98.1215 695.282 Q102.728 690.629 103.909 689.287 Q106.154 686.764 107.033 685.027 Q107.936 683.268 107.936 681.578 Q107.936 678.824 105.992 677.088 Q104.071 675.352 100.969 675.352 Q98.7696 675.352 96.316 676.115 Q93.8854 676.879 91.1077 678.43 L91.1077 673.708 Q93.9317 672.574 96.3854 671.995 Q98.8391 671.416 100.876 671.416 Q106.246 671.416 109.441 674.102 Q112.635 676.787 112.635 681.277 Q112.635 683.407 111.825 685.328 Q111.038 687.227 108.932 689.819 Q108.353 690.49 105.251 693.708 Q102.149 696.902 96.5011 702.666 Z\" fill=\"#000000\" fill-rule=\"nonzero\" fill-opacity=\"1\" /><path clip-path=\"url(#clip840)\" d=\"M122.635 700.722 L127.519 700.722 L127.519 706.601 L122.635 706.601 L122.635 700.722 Z\" fill=\"#000000\" fill-rule=\"nonzero\" fill-opacity=\"1\" /><path clip-path=\"url(#clip840)\" d=\"M138.515 702.666 L146.154 702.666 L146.154 676.301 L137.844 677.967 L137.844 673.708 L146.107 672.041 L150.783 672.041 L150.783 702.666 L158.422 702.666 L158.422 706.601 L138.515 706.601 L138.515 702.666 Z\" fill=\"#000000\" fill-rule=\"nonzero\" fill-opacity=\"1\" /><path clip-path=\"url(#clip840)\" d=\"M51.5708 418.997 L81.2466 418.997 L81.2466 422.932 L51.5708 422.932 L51.5708 418.997 Z\" fill=\"#000000\" fill-rule=\"nonzero\" fill-opacity=\"1\" /><path clip-path=\"url(#clip840)\" d=\"M92.1493 431.89 L99.7882 431.89 L99.7882 405.524 L91.478 407.191 L91.478 402.932 L99.7419 401.265 L104.418 401.265 L104.418 431.89 L112.057 431.89 L112.057 435.825 L92.1493 435.825 L92.1493 431.89 Z\" fill=\"#000000\" fill-rule=\"nonzero\" fill-opacity=\"1\" /><path clip-path=\"url(#clip840)\" d=\"M121.501 429.946 L126.385 429.946 L126.385 435.825 L121.501 435.825 L121.501 429.946 Z\" fill=\"#000000\" fill-rule=\"nonzero\" fill-opacity=\"1\" /><path clip-path=\"url(#clip840)\" d=\"M146.57 419.413 Q143.237 419.413 141.316 421.196 Q139.418 422.978 139.418 426.103 Q139.418 429.228 141.316 431.01 Q143.237 432.793 146.57 432.793 Q149.904 432.793 151.825 431.01 Q153.746 429.205 153.746 426.103 Q153.746 422.978 151.825 421.196 Q149.927 419.413 146.57 419.413 M141.894 417.423 Q138.885 416.682 137.195 414.622 Q135.529 412.561 135.529 409.598 Q135.529 405.455 138.469 403.048 Q141.431 400.64 146.57 400.64 Q151.732 400.64 154.672 403.048 Q157.612 405.455 157.612 409.598 Q157.612 412.561 155.922 414.622 Q154.255 416.682 151.269 417.423 Q154.649 418.21 156.524 420.501 Q158.422 422.793 158.422 426.103 Q158.422 431.126 155.343 433.811 Q152.288 436.497 146.57 436.497 Q140.853 436.497 137.774 433.811 Q134.719 431.126 134.719 426.103 Q134.719 422.793 136.617 420.501 Q138.515 418.21 141.894 417.423 M140.181 410.038 Q140.181 412.723 141.848 414.228 Q143.538 415.733 146.57 415.733 Q149.58 415.733 151.269 414.228 Q152.982 412.723 152.982 410.038 Q152.982 407.353 151.269 405.849 Q149.58 404.344 146.57 404.344 Q143.538 404.344 141.848 405.849 Q140.181 407.353 140.181 410.038 Z\" fill=\"#000000\" fill-rule=\"nonzero\" fill-opacity=\"1\" /><path clip-path=\"url(#clip840)\" d=\"M52.4736 148.22 L82.1494 148.22 L82.1494 152.156 L52.4736 152.156 L52.4736 148.22 Z\" fill=\"#000000\" fill-rule=\"nonzero\" fill-opacity=\"1\" /><path clip-path=\"url(#clip840)\" d=\"M93.0521 161.114 L100.691 161.114 L100.691 134.748 L92.3808 136.415 L92.3808 132.156 L100.645 130.489 L105.321 130.489 L105.321 161.114 L112.959 161.114 L112.959 165.049 L93.0521 165.049 L93.0521 161.114 Z\" fill=\"#000000\" fill-rule=\"nonzero\" fill-opacity=\"1\" /><path clip-path=\"url(#clip840)\" d=\"M122.404 159.169 L127.288 159.169 L127.288 165.049 L122.404 165.049 L122.404 159.169 Z\" fill=\"#000000\" fill-rule=\"nonzero\" fill-opacity=\"1\" /><path clip-path=\"url(#clip840)\" d=\"M137.519 130.489 L155.876 130.489 L155.876 134.424 L141.802 134.424 L141.802 142.896 Q142.82 142.549 143.839 142.387 Q144.857 142.202 145.876 142.202 Q151.663 142.202 155.042 145.373 Q158.422 148.544 158.422 153.961 Q158.422 159.54 154.95 162.642 Q151.478 165.72 145.158 165.72 Q142.982 165.72 140.714 165.35 Q138.469 164.98 136.061 164.239 L136.061 159.54 Q138.144 160.674 140.367 161.23 Q142.589 161.785 145.066 161.785 Q149.07 161.785 151.408 159.679 Q153.746 157.572 153.746 153.961 Q153.746 150.35 151.408 148.244 Q149.07 146.137 145.066 146.137 Q143.191 146.137 141.316 146.554 Q139.464 146.97 137.519 147.85 L137.519 130.489 Z\" fill=\"#000000\" fill-rule=\"nonzero\" fill-opacity=\"1\" /><polyline clip-path=\"url(#clip842)\" style=\"stroke:#009af9; stroke-linecap:round; stroke-linejoin:round; stroke-width:4; stroke-opacity:1; fill:none\" points=\"255.507,87.9763 362.674,1228.06 469.84,1155.93 577.007,1445.72 684.173,1354.16 791.34,1441.39 898.506,1425.46 1005.67,1424.9 1112.84,1412.64 1220.01,1414.12 1327.17,1406.21 1434.34,1408.53 1541.51,1404.58 1648.67,1406.87 1755.84,1404.82 1863,1406.88 1970.17,1405.28 2077.34,1407.29 2184.5,1405.69 2291.67,1407.76 \"/>\n",
       "<path clip-path=\"url(#clip840)\" d=\"M2012.55 198.898 L2280.81 198.898 L2280.81 95.2176 L2012.55 95.2176  Z\" fill=\"#ffffff\" fill-rule=\"evenodd\" fill-opacity=\"1\"/>\n",
       "<polyline clip-path=\"url(#clip840)\" style=\"stroke:#000000; stroke-linecap:round; stroke-linejoin:round; stroke-width:4; stroke-opacity:1; fill:none\" points=\"2012.55,198.898 2280.81,198.898 2280.81,95.2176 2012.55,95.2176 2012.55,198.898 \"/>\n",
       "<polyline clip-path=\"url(#clip840)\" style=\"stroke:#009af9; stroke-linecap:round; stroke-linejoin:round; stroke-width:4; stroke-opacity:1; fill:none\" points=\"2036.53,147.058 2180.42,147.058 \"/>\n",
       "<path clip-path=\"url(#clip840)\" d=\"M2218.24 166.745 Q2216.44 171.375 2214.72 172.787 Q2213.01 174.199 2210.14 174.199 L2206.74 174.199 L2206.74 170.634 L2209.24 170.634 Q2211 170.634 2211.97 169.8 Q2212.94 168.967 2214.12 165.865 L2214.89 163.921 L2204.4 138.412 L2208.91 138.412 L2217.02 158.689 L2225.12 138.412 L2229.63 138.412 L2218.24 166.745 Z\" fill=\"#000000\" fill-rule=\"nonzero\" fill-opacity=\"1\" /><path clip-path=\"url(#clip840)\" d=\"M2236.92 160.402 L2244.56 160.402 L2244.56 134.037 L2236.25 135.703 L2236.25 131.444 L2244.52 129.778 L2249.19 129.778 L2249.19 160.402 L2256.83 160.402 L2256.83 164.338 L2236.92 164.338 L2236.92 160.402 Z\" fill=\"#000000\" fill-rule=\"nonzero\" fill-opacity=\"1\" /></svg>\n"
      ]
     },
     "metadata": {},
     "output_type": "display_data"
    }
   ],
   "source": [
    "using Plots\n",
    "plot(log10.(e))"
   ]
  },
  {
   "cell_type": "code",
   "execution_count": null,
   "id": "57ab41b8",
   "metadata": {},
   "outputs": [
    {
     "data": {
      "text/plain": [
       "3"
      ]
     },
     "metadata": {},
     "output_type": "display_data"
    }
   ],
   "source": [
    "u1 = similar(r1)\n",
    "r0 = FEM.nodePositionVector(problem)\n",
    "for i in size(r1, 2)\n",
    "    u1[:, i] = r1[:, i] .- r0[:]\n",
    "end\n",
    "\n",
    "u2 = FEM.showDoFResults(problem, u1, :uvec, t=1:size(u1, 2), visible=true)"
   ]
  },
  {
   "cell_type": "code",
   "execution_count": 14,
   "id": "d9e04c86",
   "metadata": {},
   "outputs": [
    {
     "data": {
      "text/plain": [
       "LowLevelFEM.TensorField([[0.3999999999999999; 0.0; … ; 0.0; 0.6000000000000001;;], [0.3999999999999999; 0.0; … ; 0.0; 0.6000000000000001;;], [0.3999999999999999; 0.0; … ; 0.0; 0.6000000000000001;;], [0.3999999999999999; 0.0; … ; 0.0; 0.6000000000000001;;], [0.3999999999999999; 0.0; … ; 0.0; 0.6000000000000001;;], [0.3999999999999999; 0.0; … ; 0.0; 0.6000000000000001;;], [0.3999999999999999; 0.0; … ; 0.0; 0.6000000000000001;;], [0.3999999999999999; 0.0; … ; 0.0; 0.6000000000000001;;], [0.3999999999999999; 0.0; … ; 0.0; 0.6000000000000001;;], [0.3999999999999999; 0.0; … ; 0.0; 0.6000000000000001;;]  …  [0.3999999999999999; 0.0; … ; 0.0; 0.6000000000000001;;], [0.3999999999999999; 0.0; … ; 0.0; 0.6000000000000001;;], [0.3999999999999999; 0.0; … ; 0.0; 0.6000000000000001;;], [0.3999999999999999; 0.0; … ; 0.0; 0.6000000000000001;;], [0.3999999999999999; 0.0; … ; 0.0; 0.6000000000000001;;], [0.3999999999999999; 0.0; … ; 0.0; 0.6000000000000001;;], [0.3999999999999999; 0.0; … ; 0.0; 0.6000000000000001;;], [0.3999999999999999; 0.0; … ; 0.0; 0.6000000000000001;;], [0.3999999999999999; 0.0; … ; 0.0; 0.6000000000000001;;], [0.3999999999999999; 0.0; … ; 0.0; 0.6000000000000001;;]], Matrix{Float64}(undef, 0, 0), [273, 274, 275, 276, 277, 278, 279, 280, 281, 282  …  423, 424, 425, 426, 427, 428, 429, 430, 431, 432], 1, :F)"
      ]
     },
     "metadata": {},
     "output_type": "display_data"
    }
   ],
   "source": [
    "r = FEM.nodePositionVector(problem)\n",
    "ux(x, y, z) = 0.4x\n",
    "uy(x, y, z) = 0.5y\n",
    "uz(x, y, z) = 0.6z\n",
    "q0 = FEM.field(\"body\", fx=ux, fy=uy, fz=uz)\n",
    "q = FEM.vectorField(problem, [q0])\n",
    "F = FEM.deformationGradient(problem, q)"
   ]
  },
  {
   "cell_type": "code",
   "execution_count": 15,
   "id": "bda3da4b",
   "metadata": {},
   "outputs": [
    {
     "data": {
      "text/plain": [
       "3×3 Matrix{Float64}:\n",
       " 0.4  0.0  0.0\n",
       " 0.0  0.5  0.0\n",
       " 0.0  0.0  0.6"
      ]
     },
     "metadata": {},
     "output_type": "display_data"
    }
   ],
   "source": [
    "reshape(F.A[1][1:9], 3, 3)"
   ]
  },
  {
   "cell_type": "code",
   "execution_count": 16,
   "id": "4aba7a4b",
   "metadata": {},
   "outputs": [
    {
     "ename": "MethodError",
     "evalue": "MethodError: no method matching LowLevelFEM.TensorField(::Vector{Any}, ::Vector{Int64}, ::Int64, ::Symbol)\nThe type `LowLevelFEM.TensorField` exists, but no method is defined for this combination of argument types when trying to construct it.\n\nClosest candidates are:\n  LowLevelFEM.TensorField(::Any, ::Any, ::Any, ::Any, !Matched::Any)\n   @ LowLevelFEM ~/Dokumentumok/GitHub/LowLevelFEM.jl/src/general.jl:402\n  LowLevelFEM.TensorField(!Matched::Vector{Matrix{Float64}}, !Matched::Matrix{Float64}, !Matched::Vector{Int64}, !Matched::Int64, !Matched::Symbol)\n   @ LowLevelFEM ~/Dokumentumok/GitHub/LowLevelFEM.jl/src/general.jl:402\n",
     "output_type": "error",
     "traceback": [
      "MethodError: no method matching LowLevelFEM.TensorField(::Vector{Any}, ::Vector{Int64}, ::Int64, ::Symbol)\n",
      "The type `LowLevelFEM.TensorField` exists, but no method is defined for this combination of argument types when trying to construct it.\n",
      "\n",
      "Closest candidates are:\n",
      "  LowLevelFEM.TensorField(::Any, ::Any, ::Any, ::Any, !Matched::Any)\n",
      "   @ LowLevelFEM ~/Dokumentumok/GitHub/LowLevelFEM.jl/src/general.jl:402\n",
      "  LowLevelFEM.TensorField(!Matched::Vector{Matrix{Float64}}, !Matched::Matrix{Float64}, !Matched::Vector{Int64}, !Matched::Int64, !Matched::Symbol)\n",
      "   @ LowLevelFEM ~/Dokumentumok/GitHub/LowLevelFEM.jl/src/general.jl:402\n",
      "\n",
      "\n",
      "Stacktrace:\n",
      " [1] unitTensor(A::LowLevelFEM.TensorField)\n",
      "   @ LowLevelFEM ~/Dokumentumok/GitHub/LowLevelFEM.jl/src/general.jl:831\n",
      " [2] top-level scope\n",
      "   @ ~/Dokumentumok/GitHub/LowLevelFEM.jl/examples/Large_deformations/jl_notebook_cell_df34fa98e69747e1a8f8a730347b8e2f_X16sZmlsZQ==.jl:1"
     ]
    }
   ],
   "source": [
    "E = (F' * F - FEM.unitTensor(F)) / 2\n",
    "\n",
    "reshape(E.A[1][1:9], 3, 3)"
   ]
  },
  {
   "cell_type": "code",
   "execution_count": 17,
   "id": "a7c506a2",
   "metadata": {},
   "outputs": [
    {
     "ename": "MethodError",
     "evalue": "MethodError: no method matching LowLevelFEM.TensorField(::Vector{Any}, ::Vector{Int64}, ::Int64, ::Symbol)\nThe type `LowLevelFEM.TensorField` exists, but no method is defined for this combination of argument types when trying to construct it.\n\nClosest candidates are:\n  LowLevelFEM.TensorField(::Any, ::Any, ::Any, ::Any, !Matched::Any)\n   @ LowLevelFEM ~/Dokumentumok/GitHub/LowLevelFEM.jl/src/general.jl:402\n  LowLevelFEM.TensorField(!Matched::Vector{Matrix{Float64}}, !Matched::Matrix{Float64}, !Matched::Vector{Int64}, !Matched::Int64, !Matched::Symbol)\n   @ LowLevelFEM ~/Dokumentumok/GitHub/LowLevelFEM.jl/src/general.jl:402\n",
     "output_type": "error",
     "traceback": [
      "MethodError: no method matching LowLevelFEM.TensorField(::Vector{Any}, ::Vector{Int64}, ::Int64, ::Symbol)\n",
      "The type `LowLevelFEM.TensorField` exists, but no method is defined for this combination of argument types when trying to construct it.\n",
      "\n",
      "Closest candidates are:\n",
      "  LowLevelFEM.TensorField(::Any, ::Any, ::Any, ::Any, !Matched::Any)\n",
      "   @ LowLevelFEM ~/Dokumentumok/GitHub/LowLevelFEM.jl/src/general.jl:402\n",
      "  LowLevelFEM.TensorField(!Matched::Vector{Matrix{Float64}}, !Matched::Matrix{Float64}, !Matched::Vector{Int64}, !Matched::Int64, !Matched::Symbol)\n",
      "   @ LowLevelFEM ~/Dokumentumok/GitHub/LowLevelFEM.jl/src/general.jl:402\n",
      "\n",
      "\n",
      "Stacktrace:\n",
      " [1] unitTensor(A::LowLevelFEM.TensorField)\n",
      "   @ LowLevelFEM ~/Dokumentumok/GitHub/LowLevelFEM.jl/src/general.jl:831\n",
      " [2] top-level scope\n",
      "   @ ~/Dokumentumok/GitHub/LowLevelFEM.jl/examples/Large_deformations/jl_notebook_cell_df34fa98e69747e1a8f8a730347b8e2f_X20sZmlsZQ==.jl:1"
     ]
    }
   ],
   "source": [
    "e = (FEM.unitTensor(F) - inv(F * F')) / 2\n",
    "\n",
    "reshape(e.A[1][1:9], 3, 3)"
   ]
  },
  {
   "cell_type": "code",
   "execution_count": 18,
   "id": "df5feea4",
   "metadata": {},
   "outputs": [
    {
     "ename": "MethodError",
     "evalue": "MethodError: no method matching LowLevelFEM.TensorField(::Vector{Any}, ::Vector{Int64}, ::Int64, ::Symbol)\nThe type `LowLevelFEM.TensorField` exists, but no method is defined for this combination of argument types when trying to construct it.\n\nClosest candidates are:\n  LowLevelFEM.TensorField(::Any, ::Any, ::Any, ::Any, !Matched::Any)\n   @ LowLevelFEM ~/Dokumentumok/GitHub/LowLevelFEM.jl/src/general.jl:402\n  LowLevelFEM.TensorField(!Matched::Vector{Matrix{Float64}}, !Matched::Matrix{Float64}, !Matched::Vector{Int64}, !Matched::Int64, !Matched::Symbol)\n   @ LowLevelFEM ~/Dokumentumok/GitHub/LowLevelFEM.jl/src/general.jl:402\n",
     "output_type": "error",
     "traceback": [
      "MethodError: no method matching LowLevelFEM.TensorField(::Vector{Any}, ::Vector{Int64}, ::Int64, ::Symbol)\n",
      "The type `LowLevelFEM.TensorField` exists, but no method is defined for this combination of argument types when trying to construct it.\n",
      "\n",
      "Closest candidates are:\n",
      "  LowLevelFEM.TensorField(::Any, ::Any, ::Any, ::Any, !Matched::Any)\n",
      "   @ LowLevelFEM ~/Dokumentumok/GitHub/LowLevelFEM.jl/src/general.jl:402\n",
      "  LowLevelFEM.TensorField(!Matched::Vector{Matrix{Float64}}, !Matched::Matrix{Float64}, !Matched::Vector{Int64}, !Matched::Int64, !Matched::Symbol)\n",
      "   @ LowLevelFEM ~/Dokumentumok/GitHub/LowLevelFEM.jl/src/general.jl:402\n",
      "\n",
      "\n",
      "Stacktrace:\n",
      " [1] inv(A::LowLevelFEM.TensorField)\n",
      "   @ LowLevelFEM ~/Dokumentumok/GitHub/LowLevelFEM.jl/src/general.jl:1149\n",
      " [2] top-level scope\n",
      "   @ ~/Dokumentumok/GitHub/LowLevelFEM.jl/examples/Large_deformations/jl_notebook_cell_df34fa98e69747e1a8f8a730347b8e2f_X21sZmlsZQ==.jl:1"
     ]
    }
   ],
   "source": [
    "e = inv(F') * E * inv(F)\n",
    "\n",
    "reshape(e.A[1][1:9], 3, 3)"
   ]
  },
  {
   "cell_type": "code",
   "execution_count": 19,
   "id": "eb7cd73d",
   "metadata": {},
   "outputs": [
    {
     "ename": "MethodError",
     "evalue": "MethodError: no method matching LowLevelFEM.TensorField(::Vector{Any}, ::Vector{Int64}, ::Int64, ::Symbol)\nThe type `LowLevelFEM.TensorField` exists, but no method is defined for this combination of argument types when trying to construct it.\n\nClosest candidates are:\n  LowLevelFEM.TensorField(::Any, ::Any, ::Any, ::Any, !Matched::Any)\n   @ LowLevelFEM ~/Dokumentumok/GitHub/LowLevelFEM.jl/src/general.jl:402\n  LowLevelFEM.TensorField(!Matched::Vector{Matrix{Float64}}, !Matched::Matrix{Float64}, !Matched::Vector{Int64}, !Matched::Int64, !Matched::Symbol)\n   @ LowLevelFEM ~/Dokumentumok/GitHub/LowLevelFEM.jl/src/general.jl:402\n",
     "output_type": "error",
     "traceback": [
      "MethodError: no method matching LowLevelFEM.TensorField(::Vector{Any}, ::Vector{Int64}, ::Int64, ::Symbol)\n",
      "The type `LowLevelFEM.TensorField` exists, but no method is defined for this combination of argument types when trying to construct it.\n",
      "\n",
      "Closest candidates are:\n",
      "  LowLevelFEM.TensorField(::Any, ::Any, ::Any, ::Any, !Matched::Any)\n",
      "   @ LowLevelFEM ~/Dokumentumok/GitHub/LowLevelFEM.jl/src/general.jl:402\n",
      "  LowLevelFEM.TensorField(!Matched::Vector{Matrix{Float64}}, !Matched::Matrix{Float64}, !Matched::Vector{Int64}, !Matched::Int64, !Matched::Symbol)\n",
      "   @ LowLevelFEM ~/Dokumentumok/GitHub/LowLevelFEM.jl/src/general.jl:402\n",
      "\n",
      "\n",
      "Stacktrace:\n",
      " [1] sqrt(A::LowLevelFEM.TensorField)\n",
      "   @ LowLevelFEM ~/Dokumentumok/GitHub/LowLevelFEM.jl/src/general.jl:1174\n",
      " [2] top-level scope\n",
      "   @ ~/Dokumentumok/GitHub/LowLevelFEM.jl/examples/Large_deformations/jl_notebook_cell_df34fa98e69747e1a8f8a730347b8e2f_X22sZmlsZQ==.jl:1"
     ]
    }
   ],
   "source": [
    "U = sqrt(F' * F)\n",
    "\n",
    "reshape(U.A[1][1:9], 3, 3)"
   ]
  },
  {
   "cell_type": "code",
   "execution_count": 20,
   "id": "49af293c",
   "metadata": {},
   "outputs": [
    {
     "ename": "MethodError",
     "evalue": "MethodError: no method matching LowLevelFEM.TensorField(::Vector{Any}, ::Vector{Int64}, ::Int64, ::Symbol)\nThe type `LowLevelFEM.TensorField` exists, but no method is defined for this combination of argument types when trying to construct it.\n\nClosest candidates are:\n  LowLevelFEM.TensorField(::Any, ::Any, ::Any, ::Any, !Matched::Any)\n   @ LowLevelFEM ~/Dokumentumok/GitHub/LowLevelFEM.jl/src/general.jl:402\n  LowLevelFEM.TensorField(!Matched::Vector{Matrix{Float64}}, !Matched::Matrix{Float64}, !Matched::Vector{Int64}, !Matched::Int64, !Matched::Symbol)\n   @ LowLevelFEM ~/Dokumentumok/GitHub/LowLevelFEM.jl/src/general.jl:402\n",
     "output_type": "error",
     "traceback": [
      "MethodError: no method matching LowLevelFEM.TensorField(::Vector{Any}, ::Vector{Int64}, ::Int64, ::Symbol)\n",
      "The type `LowLevelFEM.TensorField` exists, but no method is defined for this combination of argument types when trying to construct it.\n",
      "\n",
      "Closest candidates are:\n",
      "  LowLevelFEM.TensorField(::Any, ::Any, ::Any, ::Any, !Matched::Any)\n",
      "   @ LowLevelFEM ~/Dokumentumok/GitHub/LowLevelFEM.jl/src/general.jl:402\n",
      "  LowLevelFEM.TensorField(!Matched::Vector{Matrix{Float64}}, !Matched::Matrix{Float64}, !Matched::Vector{Int64}, !Matched::Int64, !Matched::Symbol)\n",
      "   @ LowLevelFEM ~/Dokumentumok/GitHub/LowLevelFEM.jl/src/general.jl:402\n",
      "\n",
      "\n",
      "Stacktrace:\n",
      " [1] unitTensor(A::LowLevelFEM.TensorField)\n",
      "   @ LowLevelFEM ~/Dokumentumok/GitHub/LowLevelFEM.jl/src/general.jl:831\n",
      " [2] top-level scope\n",
      "   @ ~/Dokumentumok/GitHub/LowLevelFEM.jl/examples/Large_deformations/jl_notebook_cell_df34fa98e69747e1a8f8a730347b8e2f_X23sZmlsZQ==.jl:5"
     ]
    }
   ],
   "source": [
    "Ex = 10\n",
    "νxy = 0.3\n",
    "λ = Ex * νxy / ((1 + νxy) * (1 - 2νxy))\n",
    "μ = Ex / (2 * (1 + νxy))\n",
    "I3 = FEM.unitTensor(F)\n",
    "iC = inv(F' * F)\n",
    "J1 = det(F)\n",
    "SII = μ * (I3 - iC) + λ * log(J1) / J1 * I3\n",
    "\n",
    "reshape(SII.A[1][1:9], 3, 3)"
   ]
  },
  {
   "cell_type": "code",
   "execution_count": 21,
   "id": "88fa00a0",
   "metadata": {},
   "outputs": [
    {
     "data": {
      "text/plain": [
       "probe (generic function with 1 method)"
      ]
     },
     "metadata": {},
     "output_type": "display_data"
    }
   ],
   "source": [
    "function probe(A, x, y, z)\n",
    "    elementTag, elementType, nodeTags, u, v, w = gmsh.model.mesh.getElementByCoordinates(x, y, z, 3, false)\n",
    "    elementName, dim, order, numNodes::Int64, localNodeCoord, numPrimaryNodes = gmsh.model.mesh.getElementProperties(elementType)\n",
    "    comp, fun, ori = gmsh.model.mesh.getBasisFunctions(elementType, [u, v, w], \"Lagrange\")\n",
    "    SS = [0.0, 0, 0, 0, 0, 0, 0, 0, 0]\n",
    "    if isa(A, FEM.TensorField)\n",
    "        ind = findfirst(i -> i == elementTag, SII.numElem)\n",
    "        for i in range(1, 9)\n",
    "            SS[i] = fun' * SII.A[ind][i:9:9numNodes, 1]\n",
    "        end\n",
    "    elseif isa(A, Matrix)\n",
    "        for i in range(1, 9)\n",
    "            SS[i] = fun' * A[9nodeTags.-(9-i), 1]\n",
    "        end\n",
    "    end\n",
    "    return reshape(SS, 3, 3)\n",
    "end"
   ]
  },
  {
   "cell_type": "code",
   "execution_count": 22,
   "id": "eb55a91c",
   "metadata": {},
   "outputs": [
    {
     "ename": "UndefVarError",
     "evalue": "UndefVarError: `SII` not defined in `Main`\nSuggestion: check for spelling errors or missing imports.",
     "output_type": "error",
     "traceback": [
      "UndefVarError: `SII` not defined in `Main`\n",
      "Suggestion: check for spelling errors or missing imports.\n",
      "\n",
      "Stacktrace:\n",
      " [1] top-level scope\n",
      "   @ ~/Dokumentumok/GitHub/LowLevelFEM.jl/examples/Large_deformations/jl_notebook_cell_df34fa98e69747e1a8f8a730347b8e2f_X25sZmlsZQ==.jl:1"
     ]
    }
   ],
   "source": [
    "SII2 = FEM.elementsToNodes(problem, SII)"
   ]
  },
  {
   "cell_type": "code",
   "execution_count": 23,
   "id": "0f94ba00",
   "metadata": {},
   "outputs": [
    {
     "ename": "UndefVarError",
     "evalue": "UndefVarError: `SII2` not defined in `Main`\nSuggestion: check for spelling errors or missing imports.",
     "output_type": "error",
     "traceback": [
      "UndefVarError: `SII2` not defined in `Main`\n",
      "Suggestion: check for spelling errors or missing imports.\n",
      "\n",
      "Stacktrace:\n",
      " [1] top-level scope\n",
      "   @ ~/Dokumentumok/GitHub/LowLevelFEM.jl/examples/Large_deformations/jl_notebook_cell_df34fa98e69747e1a8f8a730347b8e2f_X26sZmlsZQ==.jl:1"
     ]
    }
   ],
   "source": [
    "probe(SII2, 0, 0, 0)"
   ]
  },
  {
   "cell_type": "code",
   "execution_count": 24,
   "id": "9eac2964",
   "metadata": {},
   "outputs": [
    {
     "data": {
      "text/plain": [
       "LowLevelFEM.ScalarField([[2.0; 2.0; … ; 2.0; 2.0;;], [2.0; 2.0; … ; 2.0; 2.0;;], [2.0; 2.0; … ; 2.0; 2.0;;], [2.0; 2.0; … ; 2.0; 2.0;;], [2.0; 2.0; … ; 2.0; 2.0;;], [2.0; 2.0; … ; 2.0; 2.0;;], [2.0; 2.0; … ; 2.0; 2.0;;], [2.0; 2.0; … ; 2.0; 2.0;;], [2.0; 2.0; … ; 2.0; 2.0;;], [2.0; 2.0; … ; 2.0; 2.0;;]  …  [2.0; 2.0; … ; 2.0; 2.0;;], [2.0; 2.0; … ; 2.0; 2.0;;], [2.0; 2.0; … ; 2.0; 2.0;;], [2.0; 2.0; … ; 2.0; 2.0;;], [2.0; 2.0; … ; 2.0; 2.0;;], [2.0; 2.0; … ; 2.0; 2.0;;], [2.0; 2.0; … ; 2.0; 2.0;;], [2.0; 2.0; … ; 2.0; 2.0;;], [2.0; 2.0; … ; 2.0; 2.0;;], [2.0; 2.0; … ; 2.0; 2.0;;]], Matrix{Float64}(undef, 0, 0), [273, 274, 275, 276, 277, 278, 279, 280, 281, 282  …  423, 424, 425, 426, 427, 428, 429, 430, 431, 432], 1, :scalarInElements)"
      ]
     },
     "metadata": {},
     "output_type": "display_data"
    }
   ],
   "source": [
    "field = FEM.field(\"body\", f=2)\n",
    "sc = FEM.ScalarField(problem, [field])"
   ]
  },
  {
   "cell_type": "code",
   "execution_count": 25,
   "id": "b19e2ebf",
   "metadata": {},
   "outputs": [
    {
     "ename": "MethodError",
     "evalue": "MethodError: no method matching LowLevelFEM.TensorField(::Vector{Any}, ::Vector{Int64}, ::Int64, ::Symbol)\nThe type `LowLevelFEM.TensorField` exists, but no method is defined for this combination of argument types when trying to construct it.\n\nClosest candidates are:\n  LowLevelFEM.TensorField(::Any, ::Any, ::Any, ::Any, !Matched::Any)\n   @ LowLevelFEM ~/Dokumentumok/GitHub/LowLevelFEM.jl/src/general.jl:402\n  LowLevelFEM.TensorField(!Matched::Vector{Matrix{Float64}}, !Matched::Matrix{Float64}, !Matched::Vector{Int64}, !Matched::Int64, !Matched::Symbol)\n   @ LowLevelFEM ~/Dokumentumok/GitHub/LowLevelFEM.jl/src/general.jl:402\n",
     "output_type": "error",
     "traceback": [
      "MethodError: no method matching LowLevelFEM.TensorField(::Vector{Any}, ::Vector{Int64}, ::Int64, ::Symbol)\n",
      "The type `LowLevelFEM.TensorField` exists, but no method is defined for this combination of argument types when trying to construct it.\n",
      "\n",
      "Closest candidates are:\n",
      "  LowLevelFEM.TensorField(::Any, ::Any, ::Any, ::Any, !Matched::Any)\n",
      "   @ LowLevelFEM ~/Dokumentumok/GitHub/LowLevelFEM.jl/src/general.jl:402\n",
      "  LowLevelFEM.TensorField(!Matched::Vector{Matrix{Float64}}, !Matched::Matrix{Float64}, !Matched::Vector{Int64}, !Matched::Int64, !Matched::Symbol)\n",
      "   @ LowLevelFEM ~/Dokumentumok/GitHub/LowLevelFEM.jl/src/general.jl:402\n",
      "\n",
      "\n",
      "Stacktrace:\n",
      " [1] unitTensor(A::LowLevelFEM.TensorField)\n",
      "   @ LowLevelFEM ~/Dokumentumok/GitHub/LowLevelFEM.jl/src/general.jl:831\n",
      " [2] top-level scope\n",
      "   @ ~/Dokumentumok/GitHub/LowLevelFEM.jl/examples/Large_deformations/jl_notebook_cell_df34fa98e69747e1a8f8a730347b8e2f_X31sZmlsZQ==.jl:1"
     ]
    }
   ],
   "source": [
    "I3 = FEM.unitTensor(F)\n",
    "J = det(F)"
   ]
  },
  {
   "cell_type": "code",
   "execution_count": 26,
   "id": "dfdb8e2d",
   "metadata": {},
   "outputs": [
    {
     "ename": "UndefVarError",
     "evalue": "UndefVarError: `I3` not defined in `Main`\nSuggestion: check for spelling errors or missing imports.",
     "output_type": "error",
     "traceback": [
      "UndefVarError: `I3` not defined in `Main`\n",
      "Suggestion: check for spelling errors or missing imports.\n",
      "\n",
      "Stacktrace:\n",
      " [1] top-level scope\n",
      "   @ ~/Dokumentumok/GitHub/LowLevelFEM.jl/examples/Large_deformations/jl_notebook_cell_df34fa98e69747e1a8f8a730347b8e2f_X32sZmlsZQ==.jl:1"
     ]
    }
   ],
   "source": [
    "sc * I3"
   ]
  },
  {
   "cell_type": "code",
   "execution_count": 27,
   "id": "b48019c3",
   "metadata": {},
   "outputs": [
    {
     "ename": "UndefVarError",
     "evalue": "UndefVarError: `I3` not defined in `Main`\nSuggestion: check for spelling errors or missing imports.",
     "output_type": "error",
     "traceback": [
      "UndefVarError: `I3` not defined in `Main`\n",
      "Suggestion: check for spelling errors or missing imports.\n",
      "\n",
      "Stacktrace:\n",
      " [1] top-level scope\n",
      "   @ ~/Dokumentumok/GitHub/LowLevelFEM.jl/examples/Large_deformations/jl_notebook_cell_df34fa98e69747e1a8f8a730347b8e2f_X33sZmlsZQ==.jl:1"
     ]
    }
   ],
   "source": [
    "I3 - I3"
   ]
  },
  {
   "cell_type": "code",
   "execution_count": 28,
   "id": "ff567b87",
   "metadata": {},
   "outputs": [
    {
     "ename": "UndefVarError",
     "evalue": "UndefVarError: `SII` not defined in `Main`\nSuggestion: check for spelling errors or missing imports.",
     "output_type": "error",
     "traceback": [
      "UndefVarError: `SII` not defined in `Main`\n",
      "Suggestion: check for spelling errors or missing imports.\n",
      "\n",
      "Stacktrace:\n",
      " [1] top-level scope\n",
      "   @ ~/Dokumentumok/GitHub/LowLevelFEM.jl/examples/Large_deformations/jl_notebook_cell_df34fa98e69747e1a8f8a730347b8e2f_X34sZmlsZQ==.jl:1"
     ]
    }
   ],
   "source": [
    "σ = F * SII * F' / det(F)\n",
    "\n",
    "reshape(σ.A[1][1:9], 3, 3)"
   ]
  },
  {
   "cell_type": "code",
   "execution_count": 29,
   "id": "f1eee084",
   "metadata": {},
   "outputs": [
    {
     "data": {
      "text/plain": [
       "-119.05114807753088"
      ]
     },
     "metadata": {},
     "output_type": "display_data"
    }
   ],
   "source": [
    "J = 0.5 * 0.5 * 0.5\n",
    "μ / J * (J^(2 / 3) - 1) + λ / J * log(J)"
   ]
  },
  {
   "cell_type": "code",
   "execution_count": 30,
   "id": "32bc3809",
   "metadata": {},
   "outputs": [
    {
     "name": "stdout",
     "output_type": "stream",
     "text": [
      "-------------------------------------------------------\n",
      "Version       : 4.13.1\n",
      "License       : GNU General Public License\n",
      "Build OS      : Linux64-sdk\n",
      "Build date    : 19700101\n",
      "Build host    : amdci7.julia.csail.mit.edu\n",
      "Build options : 64Bit ALGLIB[contrib] ANN[contrib] Bamg Blossom Cairo DIntegration Dlopen DomHex Eigen[contrib] Fltk GMP Gmm[contrib] Hxt Jpeg Kbipack LinuxJoystick MathEx[contrib] Mesh Metis[contrib] Mmg Mpeg Netgen Nii2mesh ONELAB ONELABMetamodel OpenCASCADE OpenCASCADE-CAF OpenGL OpenMP OptHom Parser Plugins Png Post QuadMeshingTools QuadTri Solver TetGen/BR TinyXML2[contrib] Untangle Voro++[contrib] WinslowUntangler Zlib\n",
      "FLTK version  : 1.3.8\n",
      "OCC version   : 7.7.2\n",
      "Packaged by   : root\n",
      "Web site      : https://gmsh.info\n",
      "Issue tracker : https://gitlab.onelab.info/gmsh/gmsh/issues\n",
      "-------------------------------------------------------\n"
     ]
    },
    {
     "name": "stderr",
     "output_type": "stream",
     "text": [
      "XOpenIM() failed\n",
      "XRequest.18: BadValue 0x0\n"
     ]
    }
   ],
   "source": [
    "FEM.openPostProcessor()"
   ]
  },
  {
   "cell_type": "code",
   "execution_count": 31,
   "id": "7b517a53",
   "metadata": {},
   "outputs": [],
   "source": [
    "gmsh.finalize()"
   ]
  }
 ],
 "metadata": {
  "kernelspec": {
   "display_name": "Julia 1.11.5",
   "language": "julia",
   "name": "julia-1.11"
  },
  "language_info": {
   "file_extension": ".jl",
   "mimetype": "application/julia",
   "name": "julia",
   "version": "1.11.5"
  }
 },
 "nbformat": 4,
 "nbformat_minor": 5
}
