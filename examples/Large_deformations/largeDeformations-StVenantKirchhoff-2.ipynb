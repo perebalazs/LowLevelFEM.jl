{
 "cells": [
  {
   "cell_type": "code",
   "execution_count": 29,
   "id": "79fd9685",
   "metadata": {},
   "outputs": [],
   "source": [
    "using LowLevelFEM\n",
    "import LowLevelFEM as FEM\n",
    "\n",
    "gmsh.initialize()"
   ]
  },
  {
   "cell_type": "code",
   "execution_count": 30,
   "id": "22283e0a",
   "metadata": {},
   "outputs": [],
   "source": [
    "using SparseArrays, LinearAlgebra"
   ]
  },
  {
   "cell_type": "code",
   "execution_count": 31,
   "id": "fa18250b",
   "metadata": {},
   "outputs": [
    {
     "name": "stdout",
     "output_type": "stream",
     "text": [
      "Info    : Reading 'body2.geo'...\n",
      "Info    : Meshing 1D...\n",
      "Info    : [  0%] Meshing curve 1 (Line)\n",
      "Info    : [ 10%] Meshing curve 2 (Line)\n",
      "Info    : [ 20%] Meshing curve 3 (Line)\n",
      "Info    : [ 30%] Meshing curve 4 (Line)\n",
      "Info    : [ 40%] Meshing curve 5 (Line)\n",
      "Info    : [ 50%] Meshing curve 6 (Line)\n",
      "Info    : [ 60%] Meshing curve 7 (Line)\n",
      "Info    : [ 60%] Meshing curve 8 (Line)\n",
      "Info    : [ 70%] Meshing curve 9 (Line)\n",
      "Info    : [ 80%] Meshing curve 10 (Line)\n",
      "Info    : [ 90%] Meshing curve 11 (Line)\n",
      "Info    : [100%] Meshing curve 12 (Line)\n",
      "Info    : Done meshing 1D (Wall 0.00942365s, CPU 0.001104s)\n",
      "Info    : Meshing 2D...\n",
      "Info    : [  0%] Meshing surface 1 (Transfinite)\n",
      "Info    : [ 20%] Meshing surface 2 (Transfinite)\n",
      "Info    : [ 40%] Meshing surface 3 (Transfinite)\n",
      "Info    : [ 60%] Meshing surface 4 (Transfinite)\n",
      "Info    : [ 70%] Meshing surface 5 (Transfinite)\n",
      "Info    : [ 90%] Meshing surface 6 (Transfinite)\n",
      "Info    : Done meshing 2D (Wall 0.000309483s, CPU 0.000298s)\n",
      "Info    : Meshing 3D...\n",
      "Info    : Meshing volume 1 (Transfinite)\n",
      "Info    : Done meshing 3D (Wall 0.00102177s, CPU 0.00102s)\n",
      "Info    : Optimizing mesh...\n",
      "Info    : Done optimizing mesh (Wall 1.6835e-05s, CPU 1.6e-05s)\n",
      "Info    : 275 nodes 432 elements\n",
      "Info    : Done reading 'body2.geo'\n"
     ]
    }
   ],
   "source": [
    "gmsh.open(\"body2.geo\")"
   ]
  },
  {
   "cell_type": "code",
   "execution_count": 32,
   "id": "936f1fab",
   "metadata": {},
   "outputs": [
    {
     "name": "stdout",
     "output_type": "stream",
     "text": [
      "Info    : RCMK renumbering...\n",
      "Info    : Done RCMK renumbering (bandwidth is now 61)\n",
      "Info    : RCMK renumbering...\n",
      "Info    : Done RCMK renumbering (bandwidth is now 61)\n",
      "Info    : RCMK renumbering...\n",
      "Info    : Done RCMK renumbering (bandwidth is now 61)\n"
     ]
    },
    {
     "data": {
      "text/plain": [
       "LowLevelFEM.Problem(\"body2\", :NeoHookeCompressible, 3, 3, LowLevelFEM.Material[LowLevelFEM.Material(\"body\", 200000.0, 0.3, 7.85e-9, 45.0, 4.2e8, 1.2e-5, 150.0, 100.0, 216.66666666666666)], 1.0, 275)"
      ]
     },
     "metadata": {},
     "output_type": "display_data"
    }
   ],
   "source": [
    "mat = FEM.material(\"body\", μ=100, ν=0.3)\n",
    "hooke = FEM.Problem([mat], type=:Solid)\n",
    "stvenkir = FEM.Problem([mat], type=:StVenantKirchhoff)\n",
    "neohooke = FEM.Problem([mat], type=:NeoHookeCompressible)"
   ]
  },
  {
   "cell_type": "code",
   "execution_count": null,
   "id": "c2a10dc9",
   "metadata": {},
   "outputs": [
    {
     "data": {
      "text/plain": [
       "LowLevelFEM.TensorField([[176.08503604131278; 3.357389814451005; … ; 0.3081925793956768; -22.92254187937984;;], [144.95040670175868; -6.447408671823949; … ; 0.18090329730921656; 3.2321464408446055;;], [149.18811968814111; -0.044330421065123464; … ; 0.028452749338832194; -0.49336712570785934;;], [148.5852714523649; -1.330209211934322; … ; 0.10408104316476176; 0.20429201033767086;;], [149.01787170868087; -0.9838081661988622; … ; 0.058727154222827455; -0.020325867926338503;;], [149.1495134268418; -0.8133292890568331; … ; 0.05452885914637931; 0.024042129380696053;;], [149.3597932154759; -0.6566557471374752; … ; 0.039096572521552686; -0.01067525740985431;;], [149.55368538034347; -0.48863439576985973; … ; 0.026728582906505285; -0.02374739732807285;;], [149.75593704830067; -0.32353844230365425; … ; 0.012147084822909125; -0.05207718115443072;;], [149.93268068963607; -0.16137242556590534; … ; 0.0038318541145765544; -0.01879358773069839;;]  …  [191.3999539905794; -11.517191934022765; … ; 0.28487306131735746; -23.476161310315682;;], [140.34364867218008; 4.419886067887045; … ; 0.18442264729956706; 3.720479402510577;;], [156.90797505414355; -2.8091290636981565; … ; 0.022339180803367113; -0.4697813344504418;;], [152.0557188621866; -0.9072050076661485; … ; 0.10176553666025248; 0.42726833704041667;;], [152.54596307895014; -1.0124138945451693; … ; 0.05592176274261949; 0.13940051411009335;;], [151.92669163140988; -0.8224339136826696; … ; 0.052512247808671; 0.20438864775291066;;], [151.5070048778317; -0.6569922864697261; … ; 0.03760299222847176; 0.16828332583225603;;], [151.0539636652693; -0.4914927832386936; … ; 0.025524695073373717; 0.15392600660645428;;], [150.60424117469424; -0.3257401814799315; … ; 0.011889676004358713; 0.15318452606279465;;], [150.18564342959905; -0.16452054170483937; … ; 0.004929532188169122; 0.052750388448220775;;]], Matrix{Float64}(undef, 0, 0), [273, 274, 275, 276, 277, 278, 279, 280, 281, 282  …  423, 424, 425, 426, 427, 428, 429, 430, 431, 432], 1, :s)"
      ]
     },
     "metadata": {},
     "output_type": "display_data"
    }
   ],
   "source": [
    "supp = FEM.displacementConstraint(\"left\", ux=0, uy=0, uz=0)\n",
    "supp2 = FEM.displacementConstraint(\"right\", uz=0)\n",
    "traction = FEM.load(\"right\", fx=100, fy=-0.1)\n",
    "bodyforce = FEM.load(\"body\", fx=1)\n",
    "\n",
    "problem = hooke\n",
    "q = FEM.solveDisplacement(problem, [traction], [supp])\n",
    "S = FEM.solveStress(problem, q)"
   ]
  },
  {
   "cell_type": "code",
   "execution_count": 34,
   "id": "5ff50776",
   "metadata": {},
   "outputs": [
    {
     "name": "stdout",
     "output_type": "stream",
     "text": [
      "Info    : Running Plugin(Smooth)...\n",
      "Info    : Done running Plugin(Smooth)\n"
     ]
    },
    {
     "data": {
      "text/plain": [
       "1"
      ]
     },
     "metadata": {},
     "output_type": "display_data"
    }
   ],
   "source": [
    "u1 = FEM.showDoFResults(problem, q, :uvec)\n",
    "S1 = FEM.showElementResults(problem, S, :s)"
   ]
  },
  {
   "cell_type": "code",
   "execution_count": 35,
   "id": "970e4fc4",
   "metadata": {},
   "outputs": [
    {
     "data": {
      "text/plain": [
       "LowLevelFEM.Problem(\"body2\", :NeoHookeCompressible, 3, 3, LowLevelFEM.Material[LowLevelFEM.Material(\"body\", 200000.0, 0.3, 7.85e-9, 45.0, 4.2e8, 1.2e-5, 150.0, 100.0, 216.66666666666666)], 1.0, 275)"
      ]
     },
     "metadata": {},
     "output_type": "display_data"
    }
   ],
   "source": [
    "problem = stvenkir\n",
    "problem = neohooke"
   ]
  },
  {
   "cell_type": "code",
   "execution_count": 36,
   "id": "02d09772",
   "metadata": {},
   "outputs": [
    {
     "ename": "SingularException",
     "evalue": "SingularException(3)",
     "output_type": "error",
     "traceback": [
      "SingularException(3)\n",
      "\n",
      "Stacktrace:\n",
      "  [1] checknonsingular\n",
      "    @ ~/.julia/juliaup/julia-1.11.5+0.x64.linux.gnu/share/julia/stdlib/v1.11/LinearAlgebra/src/factorization.jl:69 [inlined]\n",
      "  [2] _check_lu_success\n",
      "    @ ~/.julia/juliaup/julia-1.11.5+0.x64.linux.gnu/share/julia/stdlib/v1.11/LinearAlgebra/src/lu.jl:84 [inlined]\n",
      "  [3] #lu!#182\n",
      "    @ ~/.julia/juliaup/julia-1.11.5+0.x64.linux.gnu/share/julia/stdlib/v1.11/LinearAlgebra/src/lu.jl:92 [inlined]\n",
      "  [4] lu!\n",
      "    @ ~/.julia/juliaup/julia-1.11.5+0.x64.linux.gnu/share/julia/stdlib/v1.11/LinearAlgebra/src/lu.jl:90 [inlined]\n",
      "  [5] lu!\n",
      "    @ ~/.julia/juliaup/julia-1.11.5+0.x64.linux.gnu/share/julia/stdlib/v1.11/LinearAlgebra/src/lu.jl:89 [inlined]\n",
      "  [6] _lu\n",
      "    @ ~/.julia/juliaup/julia-1.11.5+0.x64.linux.gnu/share/julia/stdlib/v1.11/LinearAlgebra/src/lu.jl:347 [inlined]\n",
      "  [7] lu(::Matrix{Float64}; kwargs::@Kwargs{})\n",
      "    @ LinearAlgebra ~/.julia/juliaup/julia-1.11.5+0.x64.linux.gnu/share/julia/stdlib/v1.11/LinearAlgebra/src/lu.jl:341\n",
      "  [8] lu\n",
      "    @ ~/.julia/juliaup/julia-1.11.5+0.x64.linux.gnu/share/julia/stdlib/v1.11/LinearAlgebra/src/lu.jl:341 [inlined]\n",
      "  [9] inv(A::Matrix{Float64})\n",
      "    @ LinearAlgebra ~/.julia/juliaup/julia-1.11.5+0.x64.linux.gnu/share/julia/stdlib/v1.11/LinearAlgebra/src/dense.jl:993\n",
      " [10] stiffnessMatrixLinear(problem::LowLevelFEM.Problem, r::Vector{Float64})\n",
      "    @ LowLevelFEM ~/Dokumentumok/GitHub/LowLevelFEM.jl/src/nonlinear.jl:263\n",
      " [11] top-level scope\n",
      "    @ ~/Dokumentumok/GitHub/LowLevelFEM.jl/examples/Large_deformations/jl_notebook_cell_df34fa98e69747e1a8f8a730347b8e2f_X13sZmlsZQ==.jl:25"
     ]
    }
   ],
   "source": [
    "followerLoad = false\n",
    "loadSteps = 10\n",
    "firstStep = 0.1\n",
    "maxIteration = 10\n",
    "saveSteps = true\n",
    "saveIterations = false\n",
    "plotConvergence = true\n",
    "ε = 1e-3\n",
    "\n",
    "r0 = FEM.nodePositionVector(problem)\n",
    "err0 = abs(maximum(r0) - minimum(r0))\n",
    "f = FEM.loadVector(problem, [traction])\n",
    "r = []\n",
    "r1 = []\n",
    "push!(r, r0)\n",
    "e = []\n",
    "\n",
    "for j in range(1, loadSteps)\n",
    "    fact = j / loadSteps\n",
    "    err = 1\n",
    "    i = 0\n",
    "    while err > ε && i < maxIteration\n",
    "        i += 1\n",
    "\n",
    "        Kl = FEM.stiffnessMatrixLinear(problem, r0)\n",
    "        Knl = FEM.stiffnessMatrixNonLinear(problem, r0)\n",
    "        if followerLoad == true\n",
    "            f = FEM.followerLoadVector(problem, r0, [traction])\n",
    "        end\n",
    "        fnl = FEM.loadVectorNonLinear(problem, r0)\n",
    "        K1, f1 = FEM.applyBoundaryConditions(problem, Kl + Knl, fact * f - fnl, [supp, supp2])\n",
    "        q = FEM.solveDisplacement(K1, f1)\n",
    "        r0 += q\n",
    "        if saveIterations == true\n",
    "            push!(r, r0)\n",
    "        end\n",
    "        err = maximum(abs.(q)) / err0\n",
    "        if plotConvergence == true\n",
    "            append!(e, err)\n",
    "        end\n",
    "    end\n",
    "    if saveSteps == true\n",
    "        push!(r, r0)\n",
    "    end\n",
    "end\n",
    "if saveIterations == true || saveSteps == true\n",
    "    n = length(r)\n",
    "    r1 = zeros(length(r0), n)\n",
    "    for i in 1:n\n",
    "        r1[:, i] = r[i]\n",
    "    end\n",
    "else\n",
    "    r1 = zeros(length(r0), 1)\n",
    "    r1 = r0\n",
    "end"
   ]
  },
  {
   "cell_type": "code",
   "execution_count": 37,
   "id": "1866e2da",
   "metadata": {},
   "outputs": [
    {
     "data": {
      "image/png": "[encoded data removed]",
      "image/svg+xml": [
       "<?xml version=\"1.0\" encoding=\"utf-8\"?>\n",
       "<svg xmlns=\"http://www.w3.org/2000/svg\" xmlns:xlink=\"http://www.w3.org/1999/xlink\" width=\"600\" height=\"400\" viewBox=\"0 0 2400 1600\">\n",
       "<defs>\n",
       "  <clipPath id=\"clip370\">\n",
       "    <rect x=\"0\" y=\"0\" width=\"2400\" height=\"1600\"/>\n",
       "  </clipPath>\n",
       "</defs>\n",
       "<path clip-path=\"url(#clip370)\" d=\"M0 1600 L2400 1600 L2400 0 L0 0  Z\" fill=\"#ffffff\" fill-rule=\"evenodd\" fill-opacity=\"1\"/>\n",
       "<defs>\n",
       "  <clipPath id=\"clip371\">\n",
       "    <rect x=\"480\" y=\"0\" width=\"1681\" height=\"1600\"/>\n",
       "  </clipPath>\n",
       "</defs>\n",
       "<path clip-path=\"url(#clip370)\" d=\"M184.191 1486.45 L2352.76 1486.45 L2352.76 47.2441 L184.191 47.2441  Z\" fill=\"#ffffff\" fill-rule=\"evenodd\" fill-opacity=\"1\"/>\n",
       "<defs>\n",
       "  <clipPath id=\"clip372\">\n",
       "    <rect x=\"184\" y=\"47\" width=\"2170\" height=\"1440\"/>\n",
       "  </clipPath>\n",
       "</defs>\n",
       "<polyline clip-path=\"url(#clip372)\" style=\"stroke:#000000; stroke-linecap:round; stroke-linejoin:round; stroke-width:2; stroke-opacity:0.1; fill:none\" points=\"221.497,1486.45 221.497,47.2441 \"/>\n",
       "<polyline clip-path=\"url(#clip372)\" style=\"stroke:#000000; stroke-linecap:round; stroke-linejoin:round; stroke-width:2; stroke-opacity:0.1; fill:none\" points=\"702.865,1486.45 702.865,47.2441 \"/>\n",
       "<polyline clip-path=\"url(#clip372)\" style=\"stroke:#000000; stroke-linecap:round; stroke-linejoin:round; stroke-width:2; stroke-opacity:0.1; fill:none\" points=\"1184.23,1486.45 1184.23,47.2441 \"/>\n",
       "<polyline clip-path=\"url(#clip372)\" style=\"stroke:#000000; stroke-linecap:round; stroke-linejoin:round; stroke-width:2; stroke-opacity:0.1; fill:none\" points=\"1665.6,1486.45 1665.6,47.2441 \"/>\n",
       "<polyline clip-path=\"url(#clip372)\" style=\"stroke:#000000; stroke-linecap:round; stroke-linejoin:round; stroke-width:2; stroke-opacity:0.1; fill:none\" points=\"2146.97,1486.45 2146.97,47.2441 \"/>\n",
       "<polyline clip-path=\"url(#clip372)\" style=\"stroke:#000000; stroke-linecap:round; stroke-linejoin:round; stroke-width:2; stroke-opacity:0.1; fill:none\" points=\"184.191,1236.87 2352.76,1236.87 \"/>\n",
       "<polyline clip-path=\"url(#clip372)\" style=\"stroke:#000000; stroke-linecap:round; stroke-linejoin:round; stroke-width:2; stroke-opacity:0.1; fill:none\" points=\"184.191,963.167 2352.76,963.167 \"/>\n",
       "<polyline clip-path=\"url(#clip372)\" style=\"stroke:#000000; stroke-linecap:round; stroke-linejoin:round; stroke-width:2; stroke-opacity:0.1; fill:none\" points=\"184.191,689.464 2352.76,689.464 \"/>\n",
       "<polyline clip-path=\"url(#clip372)\" style=\"stroke:#000000; stroke-linecap:round; stroke-linejoin:round; stroke-width:2; stroke-opacity:0.1; fill:none\" points=\"184.191,415.761 2352.76,415.761 \"/>\n",
       "<polyline clip-path=\"url(#clip372)\" style=\"stroke:#000000; stroke-linecap:round; stroke-linejoin:round; stroke-width:2; stroke-opacity:0.1; fill:none\" points=\"184.191,142.058 2352.76,142.058 \"/>\n",
       "<polyline clip-path=\"url(#clip370)\" style=\"stroke:#000000; stroke-linecap:round; stroke-linejoin:round; stroke-width:4; stroke-opacity:1; fill:none\" points=\"184.191,1486.45 2352.76,1486.45 \"/>\n",
       "<polyline clip-path=\"url(#clip370)\" style=\"stroke:#000000; stroke-linecap:round; stroke-linejoin:round; stroke-width:4; stroke-opacity:1; fill:none\" points=\"221.497,1486.45 221.497,1467.55 \"/>\n",
       "<polyline clip-path=\"url(#clip370)\" style=\"stroke:#000000; stroke-linecap:round; stroke-linejoin:round; stroke-width:4; stroke-opacity:1; fill:none\" points=\"702.865,1486.45 702.865,1467.55 \"/>\n",
       "<polyline clip-path=\"url(#clip370)\" style=\"stroke:#000000; stroke-linecap:round; stroke-linejoin:round; stroke-width:4; stroke-opacity:1; fill:none\" points=\"1184.23,1486.45 1184.23,1467.55 \"/>\n",
       "<polyline clip-path=\"url(#clip370)\" style=\"stroke:#000000; stroke-linecap:round; stroke-linejoin:round; stroke-width:4; stroke-opacity:1; fill:none\" points=\"1665.6,1486.45 1665.6,1467.55 \"/>\n",
       "<polyline clip-path=\"url(#clip370)\" style=\"stroke:#000000; stroke-linecap:round; stroke-linejoin:round; stroke-width:4; stroke-opacity:1; fill:none\" points=\"2146.97,1486.45 2146.97,1467.55 \"/>\n",
       "<path clip-path=\"url(#clip370)\" d=\"M221.497 1517.37 Q217.886 1517.37 216.057 1520.93 Q214.251 1524.47 214.251 1531.6 Q214.251 1538.71 216.057 1542.27 Q217.886 1545.82 221.497 1545.82 Q225.131 1545.82 226.937 1542.27 Q228.765 1538.71 228.765 1531.6 Q228.765 1524.47 226.937 1520.93 Q225.131 1517.37 221.497 1517.37 M221.497 1513.66 Q227.307 1513.66 230.362 1518.27 Q233.441 1522.85 233.441 1531.6 Q233.441 1540.33 230.362 1544.94 Q227.307 1549.52 221.497 1549.52 Q215.687 1549.52 212.608 1544.94 Q209.552 1540.33 209.552 1531.6 Q209.552 1522.85 212.608 1518.27 Q215.687 1513.66 221.497 1513.66 Z\" fill=\"#000000\" fill-rule=\"nonzero\" fill-opacity=\"1\" /><path clip-path=\"url(#clip370)\" d=\"M681.639 1544.91 L697.958 1544.91 L697.958 1548.85 L676.014 1548.85 L676.014 1544.91 Q678.676 1542.16 683.259 1537.53 Q687.865 1532.88 689.046 1531.53 Q691.291 1529.01 692.171 1527.27 Q693.074 1525.51 693.074 1523.82 Q693.074 1521.07 691.129 1519.33 Q689.208 1517.6 686.106 1517.6 Q683.907 1517.6 681.453 1518.36 Q679.023 1519.13 676.245 1520.68 L676.245 1515.95 Q679.069 1514.82 681.523 1514.24 Q683.976 1513.66 686.014 1513.66 Q691.384 1513.66 694.578 1516.35 Q697.773 1519.03 697.773 1523.52 Q697.773 1525.65 696.963 1527.57 Q696.175 1529.47 694.069 1532.07 Q693.49 1532.74 690.388 1535.95 Q687.287 1539.15 681.639 1544.91 Z\" fill=\"#000000\" fill-rule=\"nonzero\" fill-opacity=\"1\" /><path clip-path=\"url(#clip370)\" d=\"M717.773 1517.37 Q714.162 1517.37 712.333 1520.93 Q710.527 1524.47 710.527 1531.6 Q710.527 1538.71 712.333 1542.27 Q714.162 1545.82 717.773 1545.82 Q721.407 1545.82 723.212 1542.27 Q725.041 1538.71 725.041 1531.6 Q725.041 1524.47 723.212 1520.93 Q721.407 1517.37 717.773 1517.37 M717.773 1513.66 Q723.583 1513.66 726.638 1518.27 Q729.717 1522.85 729.717 1531.6 Q729.717 1540.33 726.638 1544.94 Q723.583 1549.52 717.773 1549.52 Q711.962 1549.52 708.884 1544.94 Q705.828 1540.33 705.828 1531.6 Q705.828 1522.85 708.884 1518.27 Q711.962 1513.66 717.773 1513.66 Z\" fill=\"#000000\" fill-rule=\"nonzero\" fill-opacity=\"1\" /><path clip-path=\"url(#clip370)\" d=\"M1172.41 1518.36 L1160.6 1536.81 L1172.41 1536.81 L1172.41 1518.36 M1171.18 1514.29 L1177.06 1514.29 L1177.06 1536.81 L1181.99 1536.81 L1181.99 1540.7 L1177.06 1540.7 L1177.06 1548.85 L1172.41 1548.85 L1172.41 1540.7 L1156.8 1540.7 L1156.8 1536.19 L1171.18 1514.29 Z\" fill=\"#000000\" fill-rule=\"nonzero\" fill-opacity=\"1\" /><path clip-path=\"url(#clip370)\" d=\"M1199.72 1517.37 Q1196.11 1517.37 1194.28 1520.93 Q1192.47 1524.47 1192.47 1531.6 Q1192.47 1538.71 1194.28 1542.27 Q1196.11 1545.82 1199.72 1545.82 Q1203.35 1545.82 1205.16 1542.27 Q1206.99 1538.71 1206.99 1531.6 Q1206.99 1524.47 1205.16 1520.93 Q1203.35 1517.37 1199.72 1517.37 M1199.72 1513.66 Q1205.53 1513.66 1208.59 1518.27 Q1211.66 1522.85 1211.66 1531.6 Q1211.66 1540.33 1208.59 1544.94 Q1205.53 1549.52 1199.72 1549.52 Q1193.91 1549.52 1190.83 1544.94 Q1187.78 1540.33 1187.78 1531.6 Q1187.78 1522.85 1190.83 1518.27 Q1193.91 1513.66 1199.72 1513.66 Z\" fill=\"#000000\" fill-rule=\"nonzero\" fill-opacity=\"1\" /><path clip-path=\"url(#clip370)\" d=\"M1651.01 1529.7 Q1647.86 1529.7 1646.01 1531.86 Q1644.18 1534.01 1644.18 1537.76 Q1644.18 1541.49 1646.01 1543.66 Q1647.86 1545.82 1651.01 1545.82 Q1654.16 1545.82 1655.98 1543.66 Q1657.84 1541.49 1657.84 1537.76 Q1657.84 1534.01 1655.98 1531.86 Q1654.16 1529.7 1651.01 1529.7 M1660.29 1515.05 L1660.29 1519.31 Q1658.53 1518.48 1656.73 1518.04 Q1654.94 1517.6 1653.18 1517.6 Q1648.55 1517.6 1646.1 1520.72 Q1643.67 1523.85 1643.32 1530.17 Q1644.69 1528.15 1646.75 1527.09 Q1648.81 1526 1651.29 1526 Q1656.49 1526 1659.5 1529.17 Q1662.54 1532.32 1662.54 1537.76 Q1662.54 1543.08 1659.39 1546.3 Q1656.24 1549.52 1651.01 1549.52 Q1645.01 1549.52 1641.84 1544.94 Q1638.67 1540.33 1638.67 1531.6 Q1638.67 1523.41 1642.56 1518.55 Q1646.45 1513.66 1653 1513.66 Q1654.76 1513.66 1656.54 1514.01 Q1658.35 1514.36 1660.29 1515.05 Z\" fill=\"#000000\" fill-rule=\"nonzero\" fill-opacity=\"1\" /><path clip-path=\"url(#clip370)\" d=\"M1680.59 1517.37 Q1676.98 1517.37 1675.15 1520.93 Q1673.35 1524.47 1673.35 1531.6 Q1673.35 1538.71 1675.15 1542.27 Q1676.98 1545.82 1680.59 1545.82 Q1684.22 1545.82 1686.03 1542.27 Q1687.86 1538.71 1687.86 1531.6 Q1687.86 1524.47 1686.03 1520.93 Q1684.22 1517.37 1680.59 1517.37 M1680.59 1513.66 Q1686.4 1513.66 1689.46 1518.27 Q1692.54 1522.85 1692.54 1531.6 Q1692.54 1540.33 1689.46 1544.94 Q1686.4 1549.52 1680.59 1549.52 Q1674.78 1549.52 1671.7 1544.94 Q1668.65 1540.33 1668.65 1531.6 Q1668.65 1522.85 1671.7 1518.27 Q1674.78 1513.66 1680.59 1513.66 Z\" fill=\"#000000\" fill-rule=\"nonzero\" fill-opacity=\"1\" /><path clip-path=\"url(#clip370)\" d=\"M2131.84 1532.44 Q2128.51 1532.44 2126.59 1534.22 Q2124.69 1536 2124.69 1539.13 Q2124.69 1542.25 2126.59 1544.03 Q2128.51 1545.82 2131.84 1545.82 Q2135.18 1545.82 2137.1 1544.03 Q2139.02 1542.23 2139.02 1539.13 Q2139.02 1536 2137.1 1534.22 Q2135.2 1532.44 2131.84 1532.44 M2127.17 1530.45 Q2124.16 1529.7 2122.47 1527.64 Q2120.8 1525.58 2120.8 1522.62 Q2120.8 1518.48 2123.74 1516.07 Q2126.7 1513.66 2131.84 1513.66 Q2137.01 1513.66 2139.95 1516.07 Q2142.89 1518.48 2142.89 1522.62 Q2142.89 1525.58 2141.2 1527.64 Q2139.53 1529.7 2136.54 1530.45 Q2139.92 1531.23 2141.8 1533.52 Q2143.7 1535.82 2143.7 1539.13 Q2143.7 1544.15 2140.62 1546.83 Q2137.56 1549.52 2131.84 1549.52 Q2126.13 1549.52 2123.05 1546.83 Q2119.99 1544.15 2119.99 1539.13 Q2119.99 1535.82 2121.89 1533.52 Q2123.79 1531.23 2127.17 1530.45 M2125.45 1523.06 Q2125.45 1525.75 2127.12 1527.25 Q2128.81 1528.76 2131.84 1528.76 Q2134.85 1528.76 2136.54 1527.25 Q2138.26 1525.75 2138.26 1523.06 Q2138.26 1520.38 2136.54 1518.87 Q2134.85 1517.37 2131.84 1517.37 Q2128.81 1517.37 2127.12 1518.87 Q2125.45 1520.38 2125.45 1523.06 Z\" fill=\"#000000\" fill-rule=\"nonzero\" fill-opacity=\"1\" /><path clip-path=\"url(#clip370)\" d=\"M2162.01 1517.37 Q2158.39 1517.37 2156.57 1520.93 Q2154.76 1524.47 2154.76 1531.6 Q2154.76 1538.71 2156.57 1542.27 Q2158.39 1545.82 2162.01 1545.82 Q2165.64 1545.82 2167.45 1542.27 Q2169.27 1538.71 2169.27 1531.6 Q2169.27 1524.47 2167.45 1520.93 Q2165.64 1517.37 2162.01 1517.37 M2162.01 1513.66 Q2167.82 1513.66 2170.87 1518.27 Q2173.95 1522.85 2173.95 1531.6 Q2173.95 1540.33 2170.87 1544.94 Q2167.82 1549.52 2162.01 1549.52 Q2156.2 1549.52 2153.12 1544.94 Q2150.06 1540.33 2150.06 1531.6 Q2150.06 1522.85 2153.12 1518.27 Q2156.2 1513.66 2162.01 1513.66 Z\" fill=\"#000000\" fill-rule=\"nonzero\" fill-opacity=\"1\" /><polyline clip-path=\"url(#clip370)\" style=\"stroke:#000000; stroke-linecap:round; stroke-linejoin:round; stroke-width:4; stroke-opacity:1; fill:none\" points=\"184.191,1486.45 184.191,47.2441 \"/>\n",
       "<polyline clip-path=\"url(#clip370)\" style=\"stroke:#000000; stroke-linecap:round; stroke-linejoin:round; stroke-width:4; stroke-opacity:1; fill:none\" points=\"184.191,1236.87 203.088,1236.87 \"/>\n",
       "<polyline clip-path=\"url(#clip370)\" style=\"stroke:#000000; stroke-linecap:round; stroke-linejoin:round; stroke-width:4; stroke-opacity:1; fill:none\" points=\"184.191,963.167 203.088,963.167 \"/>\n",
       "<polyline clip-path=\"url(#clip370)\" style=\"stroke:#000000; stroke-linecap:round; stroke-linejoin:round; stroke-width:4; stroke-opacity:1; fill:none\" points=\"184.191,689.464 203.088,689.464 \"/>\n",
       "<polyline clip-path=\"url(#clip370)\" style=\"stroke:#000000; stroke-linecap:round; stroke-linejoin:round; stroke-width:4; stroke-opacity:1; fill:none\" points=\"184.191,415.761 203.088,415.761 \"/>\n",
       "<polyline clip-path=\"url(#clip370)\" style=\"stroke:#000000; stroke-linecap:round; stroke-linejoin:round; stroke-width:4; stroke-opacity:1; fill:none\" points=\"184.191,142.058 203.088,142.058 \"/>\n",
       "<path clip-path=\"url(#clip370)\" d=\"M91.0151 1222.67 Q87.404 1222.67 85.5753 1226.23 Q83.7697 1229.77 83.7697 1236.9 Q83.7697 1244.01 85.5753 1247.58 Q87.404 1251.12 91.0151 1251.12 Q94.6493 1251.12 96.4548 1247.58 Q98.2835 1244.01 98.2835 1236.9 Q98.2835 1229.77 96.4548 1226.23 Q94.6493 1222.67 91.0151 1222.67 M91.0151 1218.96 Q96.8252 1218.96 99.8808 1223.57 Q102.959 1228.15 102.959 1236.9 Q102.959 1245.63 99.8808 1250.24 Q96.8252 1254.82 91.0151 1254.82 Q85.2049 1254.82 82.1262 1250.24 Q79.0707 1245.63 79.0707 1236.9 Q79.0707 1228.15 82.1262 1223.57 Q85.2049 1218.96 91.0151 1218.96 Z\" fill=\"#000000\" fill-rule=\"nonzero\" fill-opacity=\"1\" /><path clip-path=\"url(#clip370)\" d=\"M111.177 1248.27 L116.061 1248.27 L116.061 1254.15 L111.177 1254.15 L111.177 1248.27 Z\" fill=\"#000000\" fill-rule=\"nonzero\" fill-opacity=\"1\" /><path clip-path=\"url(#clip370)\" d=\"M136.246 1222.67 Q132.635 1222.67 130.807 1226.23 Q129.001 1229.77 129.001 1236.9 Q129.001 1244.01 130.807 1247.58 Q132.635 1251.12 136.246 1251.12 Q139.881 1251.12 141.686 1247.58 Q143.515 1244.01 143.515 1236.9 Q143.515 1229.77 141.686 1226.23 Q139.881 1222.67 136.246 1222.67 M136.246 1218.96 Q142.056 1218.96 145.112 1223.57 Q148.191 1228.15 148.191 1236.9 Q148.191 1245.63 145.112 1250.24 Q142.056 1254.82 136.246 1254.82 Q130.436 1254.82 127.357 1250.24 Q124.302 1245.63 124.302 1236.9 Q124.302 1228.15 127.357 1223.57 Q130.436 1218.96 136.246 1218.96 Z\" fill=\"#000000\" fill-rule=\"nonzero\" fill-opacity=\"1\" /><path clip-path=\"url(#clip370)\" d=\"M86.0382 976.512 L102.358 976.512 L102.358 980.447 L80.4133 980.447 L80.4133 976.512 Q83.0753 973.757 87.6586 969.127 Q92.2651 964.475 93.4456 963.132 Q95.691 960.609 96.5706 958.873 Q97.4734 957.114 97.4734 955.424 Q97.4734 952.669 95.5289 950.933 Q93.6076 949.197 90.5058 949.197 Q88.3067 949.197 85.8531 949.961 Q83.4225 950.725 80.6447 952.276 L80.6447 947.554 Q83.4688 946.419 85.9225 945.841 Q88.3762 945.262 90.4132 945.262 Q95.7836 945.262 98.978 947.947 Q102.172 950.632 102.172 955.123 Q102.172 957.253 101.362 959.174 Q100.575 961.072 98.4687 963.665 Q97.89 964.336 94.7882 967.553 Q91.6864 970.748 86.0382 976.512 Z\" fill=\"#000000\" fill-rule=\"nonzero\" fill-opacity=\"1\" /><path clip-path=\"url(#clip370)\" d=\"M112.172 974.567 L117.057 974.567 L117.057 980.447 L112.172 980.447 L112.172 974.567 Z\" fill=\"#000000\" fill-rule=\"nonzero\" fill-opacity=\"1\" /><path clip-path=\"url(#clip370)\" d=\"M127.288 945.887 L145.644 945.887 L145.644 949.822 L131.57 949.822 L131.57 958.294 Q132.589 957.947 133.607 957.785 Q134.626 957.6 135.644 957.6 Q141.431 957.6 144.811 960.771 Q148.191 963.942 148.191 969.359 Q148.191 974.938 144.718 978.039 Q141.246 981.118 134.927 981.118 Q132.751 981.118 130.482 980.748 Q128.237 980.377 125.83 979.637 L125.83 974.938 Q127.913 976.072 130.135 976.627 Q132.357 977.183 134.834 977.183 Q138.839 977.183 141.177 975.077 Q143.515 972.97 143.515 969.359 Q143.515 965.748 141.177 963.641 Q138.839 961.535 134.834 961.535 Q132.959 961.535 131.084 961.952 Q129.232 962.368 127.288 963.248 L127.288 945.887 Z\" fill=\"#000000\" fill-rule=\"nonzero\" fill-opacity=\"1\" /><path clip-path=\"url(#clip370)\" d=\"M81.0614 672.184 L99.4178 672.184 L99.4178 676.119 L85.3438 676.119 L85.3438 684.591 Q86.3623 684.244 87.3808 684.082 Q88.3993 683.897 89.4178 683.897 Q95.2049 683.897 98.5845 687.068 Q101.964 690.239 101.964 695.656 Q101.964 701.235 98.4919 704.337 Q95.0197 707.415 88.7003 707.415 Q86.5243 707.415 84.2558 707.045 Q82.0105 706.675 79.6031 705.934 L79.6031 701.235 Q81.6864 702.369 83.9086 702.925 Q86.1308 703.48 88.6077 703.48 Q92.6123 703.48 94.9502 701.374 Q97.2882 699.267 97.2882 695.656 Q97.2882 692.045 94.9502 689.938 Q92.6123 687.832 88.6077 687.832 Q86.7327 687.832 84.8577 688.249 Q83.0058 688.665 81.0614 689.545 L81.0614 672.184 Z\" fill=\"#000000\" fill-rule=\"nonzero\" fill-opacity=\"1\" /><path clip-path=\"url(#clip370)\" d=\"M111.177 700.864 L116.061 700.864 L116.061 706.744 L111.177 706.744 L111.177 700.864 Z\" fill=\"#000000\" fill-rule=\"nonzero\" fill-opacity=\"1\" /><path clip-path=\"url(#clip370)\" d=\"M136.246 675.263 Q132.635 675.263 130.807 678.827 Q129.001 682.369 129.001 689.499 Q129.001 696.605 130.807 700.17 Q132.635 703.712 136.246 703.712 Q139.881 703.712 141.686 700.17 Q143.515 696.605 143.515 689.499 Q143.515 682.369 141.686 678.827 Q139.881 675.263 136.246 675.263 M136.246 671.559 Q142.056 671.559 145.112 676.165 Q148.191 680.749 148.191 689.499 Q148.191 698.225 145.112 702.832 Q142.056 707.415 136.246 707.415 Q130.436 707.415 127.357 702.832 Q124.302 698.225 124.302 689.499 Q124.302 680.749 127.357 676.165 Q130.436 671.559 136.246 671.559 Z\" fill=\"#000000\" fill-rule=\"nonzero\" fill-opacity=\"1\" /><path clip-path=\"url(#clip370)\" d=\"M80.8299 398.481 L103.052 398.481 L103.052 400.472 L90.5058 433.041 L85.6216 433.041 L97.4271 402.416 L80.8299 402.416 L80.8299 398.481 Z\" fill=\"#000000\" fill-rule=\"nonzero\" fill-opacity=\"1\" /><path clip-path=\"url(#clip370)\" d=\"M112.172 427.161 L117.057 427.161 L117.057 433.041 L112.172 433.041 L112.172 427.161 Z\" fill=\"#000000\" fill-rule=\"nonzero\" fill-opacity=\"1\" /><path clip-path=\"url(#clip370)\" d=\"M127.288 398.481 L145.644 398.481 L145.644 402.416 L131.57 402.416 L131.57 410.888 Q132.589 410.541 133.607 410.379 Q134.626 410.194 135.644 410.194 Q141.431 410.194 144.811 413.365 Q148.191 416.537 148.191 421.953 Q148.191 427.532 144.718 430.634 Q141.246 433.712 134.927 433.712 Q132.751 433.712 130.482 433.342 Q128.237 432.972 125.83 432.231 L125.83 427.532 Q127.913 428.666 130.135 429.222 Q132.357 429.777 134.834 429.777 Q138.839 429.777 141.177 427.671 Q143.515 425.564 143.515 421.953 Q143.515 418.342 141.177 416.236 Q138.839 414.129 134.834 414.129 Q132.959 414.129 131.084 414.546 Q129.232 414.962 127.288 415.842 L127.288 398.481 Z\" fill=\"#000000\" fill-rule=\"nonzero\" fill-opacity=\"1\" /><path clip-path=\"url(#clip370)\" d=\"M51.6634 155.403 L59.3023 155.403 L59.3023 129.037 L50.9921 130.704 L50.9921 126.445 L59.256 124.778 L63.9319 124.778 L63.9319 155.403 L71.5707 155.403 L71.5707 159.338 L51.6634 159.338 L51.6634 155.403 Z\" fill=\"#000000\" fill-rule=\"nonzero\" fill-opacity=\"1\" /><path clip-path=\"url(#clip370)\" d=\"M91.0151 127.857 Q87.404 127.857 85.5753 131.422 Q83.7697 134.963 83.7697 142.093 Q83.7697 149.199 85.5753 152.764 Q87.404 156.306 91.0151 156.306 Q94.6493 156.306 96.4548 152.764 Q98.2835 149.199 98.2835 142.093 Q98.2835 134.963 96.4548 131.422 Q94.6493 127.857 91.0151 127.857 M91.0151 124.153 Q96.8252 124.153 99.8808 128.76 Q102.959 133.343 102.959 142.093 Q102.959 150.82 99.8808 155.426 Q96.8252 160.009 91.0151 160.009 Q85.2049 160.009 82.1262 155.426 Q79.0707 150.82 79.0707 142.093 Q79.0707 133.343 82.1262 128.76 Q85.2049 124.153 91.0151 124.153 Z\" fill=\"#000000\" fill-rule=\"nonzero\" fill-opacity=\"1\" /><path clip-path=\"url(#clip370)\" d=\"M111.177 153.459 L116.061 153.459 L116.061 159.338 L111.177 159.338 L111.177 153.459 Z\" fill=\"#000000\" fill-rule=\"nonzero\" fill-opacity=\"1\" /><path clip-path=\"url(#clip370)\" d=\"M136.246 127.857 Q132.635 127.857 130.807 131.422 Q129.001 134.963 129.001 142.093 Q129.001 149.199 130.807 152.764 Q132.635 156.306 136.246 156.306 Q139.881 156.306 141.686 152.764 Q143.515 149.199 143.515 142.093 Q143.515 134.963 141.686 131.422 Q139.881 127.857 136.246 127.857 M136.246 124.153 Q142.056 124.153 145.112 128.76 Q148.191 133.343 148.191 142.093 Q148.191 150.82 145.112 155.426 Q142.056 160.009 136.246 160.009 Q130.436 160.009 127.357 155.426 Q124.302 150.82 124.302 142.093 Q124.302 133.343 127.357 128.76 Q130.436 124.153 136.246 124.153 Z\" fill=\"#000000\" fill-rule=\"nonzero\" fill-opacity=\"1\" /><polyline clip-path=\"url(#clip372)\" style=\"stroke:#009af9; stroke-linecap:round; stroke-linejoin:round; stroke-width:4; stroke-opacity:1; fill:none\" points=\"245.565,1371.44 269.634,1414.67 293.702,1435.42 317.77,1404.75 341.839,1445.72 365.907,1376.77 389.976,1376.51 414.044,1381.75 438.113,1319.99 462.181,1225.35 486.249,1248.25 510.318,1177.11 534.386,1188.33 558.455,1221.02 582.523,1132.24 606.592,1128.75 630.66,1118.99 654.728,1061.94 678.797,880.268 702.865,883.444 726.934,877.84 751.002,814.913 775.071,816.702 799.139,819.736 823.207,796.356 847.276,778.716 871.344,733.844 895.413,712.199 919.481,759.239 943.55,673.399 967.618,662.913 991.686,674.624 1015.75,650.976 1039.82,676.806 1063.89,646.056 1087.96,632.697 1112.03,636.185 1136.1,637.509 1160.17,557.973 1184.23,557.844 1208.3,585.459 1232.37,471.15 1256.44,468.758 1280.51,491.28 1304.58,544.996 1328.64,490.71 1352.71,476.42 1376.78,425.455 1400.85,416.317 1424.92,431.896 1448.99,437.126 1473.05,439.884 1497.12,463.652 1521.19,451.603 1545.26,447.778 1569.33,416.836 1593.4,423.014 1617.47,380.693 1641.53,343.899 1665.6,392.176 1689.67,341.053 1713.74,378.872 1737.81,377.054 1761.88,275.806 1785.94,274.315 1810.01,350.323 1834.08,241.848 1858.15,244.842 1882.22,337.389 1906.29,296.471 1930.36,287.433 1954.42,176.232 1978.49,178.104 2002.56,87.9763 2026.63,88.4088 2050.7,151.414 2074.77,177.438 2098.83,165.923 2122.9,151.552 2146.97,174.768 2171.04,114.113 2195.11,92.6928 2219.18,126.508 2243.24,115.77 2267.31,88.0336 2291.38,92.1749 \"/>\n",
       "<path clip-path=\"url(#clip370)\" d=\"M256.476 198.898 L525.763 198.898 L525.763 95.2176 L256.476 95.2176  Z\" fill=\"#ffffff\" fill-rule=\"evenodd\" fill-opacity=\"1\"/>\n",
       "<polyline clip-path=\"url(#clip370)\" style=\"stroke:#000000; stroke-linecap:round; stroke-linejoin:round; stroke-width:4; stroke-opacity:1; fill:none\" points=\"256.476,198.898 525.763,198.898 525.763,95.2176 256.476,95.2176 256.476,198.898 \"/>\n",
       "<polyline clip-path=\"url(#clip370)\" style=\"stroke:#009af9; stroke-linecap:round; stroke-linejoin:round; stroke-width:4; stroke-opacity:1; fill:none\" points=\"280.571,147.058 425.142,147.058 \"/>\n",
       "<path clip-path=\"url(#clip370)\" d=\"M463.08 166.745 Q461.275 171.375 459.562 172.787 Q457.849 174.199 454.978 174.199 L451.575 174.199 L451.575 170.634 L454.075 170.634 Q455.835 170.634 456.807 169.8 Q457.779 168.967 458.96 165.865 L459.724 163.921 L449.238 138.412 L453.751 138.412 L461.853 158.689 L469.955 138.412 L474.469 138.412 L463.08 166.745 Z\" fill=\"#000000\" fill-rule=\"nonzero\" fill-opacity=\"1\" /><path clip-path=\"url(#clip370)\" d=\"M481.761 160.402 L489.399 160.402 L489.399 134.037 L481.089 135.703 L481.089 131.444 L489.353 129.778 L494.029 129.778 L494.029 160.402 L501.668 160.402 L501.668 164.338 L481.761 164.338 L481.761 160.402 Z\" fill=\"#000000\" fill-rule=\"nonzero\" fill-opacity=\"1\" /></svg>\n"
      ],
      "text/html": [
       "<?xml version=\"1.0\" encoding=\"utf-8\"?>\n",
       "<svg xmlns=\"http://www.w3.org/2000/svg\" xmlns:xlink=\"http://www.w3.org/1999/xlink\" width=\"600\" height=\"400\" viewBox=\"0 0 2400 1600\">\n",
       "<defs>\n",
       "  <clipPath id=\"clip420\">\n",
       "    <rect x=\"0\" y=\"0\" width=\"2400\" height=\"1600\"/>\n",
       "  </clipPath>\n",
       "</defs>\n",
       "<path clip-path=\"url(#clip420)\" d=\"M0 1600 L2400 1600 L2400 0 L0 0  Z\" fill=\"#ffffff\" fill-rule=\"evenodd\" fill-opacity=\"1\"/>\n",
       "<defs>\n",
       "  <clipPath id=\"clip421\">\n",
       "    <rect x=\"480\" y=\"0\" width=\"1681\" height=\"1600\"/>\n",
       "  </clipPath>\n",
       "</defs>\n",
       "<path clip-path=\"url(#clip420)\" d=\"M184.191 1486.45 L2352.76 1486.45 L2352.76 47.2441 L184.191 47.2441  Z\" fill=\"#ffffff\" fill-rule=\"evenodd\" fill-opacity=\"1\"/>\n",
       "<defs>\n",
       "  <clipPath id=\"clip422\">\n",
       "    <rect x=\"184\" y=\"47\" width=\"2170\" height=\"1440\"/>\n",
       "  </clipPath>\n",
       "</defs>\n",
       "<polyline clip-path=\"url(#clip422)\" style=\"stroke:#000000; stroke-linecap:round; stroke-linejoin:round; stroke-width:2; stroke-opacity:0.1; fill:none\" points=\"221.497,1486.45 221.497,47.2441 \"/>\n",
       "<polyline clip-path=\"url(#clip422)\" style=\"stroke:#000000; stroke-linecap:round; stroke-linejoin:round; stroke-width:2; stroke-opacity:0.1; fill:none\" points=\"702.865,1486.45 702.865,47.2441 \"/>\n",
       "<polyline clip-path=\"url(#clip422)\" style=\"stroke:#000000; stroke-linecap:round; stroke-linejoin:round; stroke-width:2; stroke-opacity:0.1; fill:none\" points=\"1184.23,1486.45 1184.23,47.2441 \"/>\n",
       "<polyline clip-path=\"url(#clip422)\" style=\"stroke:#000000; stroke-linecap:round; stroke-linejoin:round; stroke-width:2; stroke-opacity:0.1; fill:none\" points=\"1665.6,1486.45 1665.6,47.2441 \"/>\n",
       "<polyline clip-path=\"url(#clip422)\" style=\"stroke:#000000; stroke-linecap:round; stroke-linejoin:round; stroke-width:2; stroke-opacity:0.1; fill:none\" points=\"2146.97,1486.45 2146.97,47.2441 \"/>\n",
       "<polyline clip-path=\"url(#clip422)\" style=\"stroke:#000000; stroke-linecap:round; stroke-linejoin:round; stroke-width:2; stroke-opacity:0.1; fill:none\" points=\"184.191,1236.87 2352.76,1236.87 \"/>\n",
       "<polyline clip-path=\"url(#clip422)\" style=\"stroke:#000000; stroke-linecap:round; stroke-linejoin:round; stroke-width:2; stroke-opacity:0.1; fill:none\" points=\"184.191,963.167 2352.76,963.167 \"/>\n",
       "<polyline clip-path=\"url(#clip422)\" style=\"stroke:#000000; stroke-linecap:round; stroke-linejoin:round; stroke-width:2; stroke-opacity:0.1; fill:none\" points=\"184.191,689.464 2352.76,689.464 \"/>\n",
       "<polyline clip-path=\"url(#clip422)\" style=\"stroke:#000000; stroke-linecap:round; stroke-linejoin:round; stroke-width:2; stroke-opacity:0.1; fill:none\" points=\"184.191,415.761 2352.76,415.761 \"/>\n",
       "<polyline clip-path=\"url(#clip422)\" style=\"stroke:#000000; stroke-linecap:round; stroke-linejoin:round; stroke-width:2; stroke-opacity:0.1; fill:none\" points=\"184.191,142.058 2352.76,142.058 \"/>\n",
       "<polyline clip-path=\"url(#clip420)\" style=\"stroke:#000000; stroke-linecap:round; stroke-linejoin:round; stroke-width:4; stroke-opacity:1; fill:none\" points=\"184.191,1486.45 2352.76,1486.45 \"/>\n",
       "<polyline clip-path=\"url(#clip420)\" style=\"stroke:#000000; stroke-linecap:round; stroke-linejoin:round; stroke-width:4; stroke-opacity:1; fill:none\" points=\"221.497,1486.45 221.497,1467.55 \"/>\n",
       "<polyline clip-path=\"url(#clip420)\" style=\"stroke:#000000; stroke-linecap:round; stroke-linejoin:round; stroke-width:4; stroke-opacity:1; fill:none\" points=\"702.865,1486.45 702.865,1467.55 \"/>\n",
       "<polyline clip-path=\"url(#clip420)\" style=\"stroke:#000000; stroke-linecap:round; stroke-linejoin:round; stroke-width:4; stroke-opacity:1; fill:none\" points=\"1184.23,1486.45 1184.23,1467.55 \"/>\n",
       "<polyline clip-path=\"url(#clip420)\" style=\"stroke:#000000; stroke-linecap:round; stroke-linejoin:round; stroke-width:4; stroke-opacity:1; fill:none\" points=\"1665.6,1486.45 1665.6,1467.55 \"/>\n",
       "<polyline clip-path=\"url(#clip420)\" style=\"stroke:#000000; stroke-linecap:round; stroke-linejoin:round; stroke-width:4; stroke-opacity:1; fill:none\" points=\"2146.97,1486.45 2146.97,1467.55 \"/>\n",
       "<path clip-path=\"url(#clip420)\" d=\"M221.497 1517.37 Q217.886 1517.37 216.057 1520.93 Q214.251 1524.47 214.251 1531.6 Q214.251 1538.71 216.057 1542.27 Q217.886 1545.82 221.497 1545.82 Q225.131 1545.82 226.937 1542.27 Q228.765 1538.71 228.765 1531.6 Q228.765 1524.47 226.937 1520.93 Q225.131 1517.37 221.497 1517.37 M221.497 1513.66 Q227.307 1513.66 230.362 1518.27 Q233.441 1522.85 233.441 1531.6 Q233.441 1540.33 230.362 1544.94 Q227.307 1549.52 221.497 1549.52 Q215.687 1549.52 212.608 1544.94 Q209.552 1540.33 209.552 1531.6 Q209.552 1522.85 212.608 1518.27 Q215.687 1513.66 221.497 1513.66 Z\" fill=\"#000000\" fill-rule=\"nonzero\" fill-opacity=\"1\" /><path clip-path=\"url(#clip420)\" d=\"M681.639 1544.91 L697.958 1544.91 L697.958 1548.85 L676.014 1548.85 L676.014 1544.91 Q678.676 1542.16 683.259 1537.53 Q687.865 1532.88 689.046 1531.53 Q691.291 1529.01 692.171 1527.27 Q693.074 1525.51 693.074 1523.82 Q693.074 1521.07 691.129 1519.33 Q689.208 1517.6 686.106 1517.6 Q683.907 1517.6 681.453 1518.36 Q679.023 1519.13 676.245 1520.68 L676.245 1515.95 Q679.069 1514.82 681.523 1514.24 Q683.976 1513.66 686.014 1513.66 Q691.384 1513.66 694.578 1516.35 Q697.773 1519.03 697.773 1523.52 Q697.773 1525.65 696.963 1527.57 Q696.175 1529.47 694.069 1532.07 Q693.49 1532.74 690.388 1535.95 Q687.287 1539.15 681.639 1544.91 Z\" fill=\"#000000\" fill-rule=\"nonzero\" fill-opacity=\"1\" /><path clip-path=\"url(#clip420)\" d=\"M717.773 1517.37 Q714.162 1517.37 712.333 1520.93 Q710.527 1524.47 710.527 1531.6 Q710.527 1538.71 712.333 1542.27 Q714.162 1545.82 717.773 1545.82 Q721.407 1545.82 723.212 1542.27 Q725.041 1538.71 725.041 1531.6 Q725.041 1524.47 723.212 1520.93 Q721.407 1517.37 717.773 1517.37 M717.773 1513.66 Q723.583 1513.66 726.638 1518.27 Q729.717 1522.85 729.717 1531.6 Q729.717 1540.33 726.638 1544.94 Q723.583 1549.52 717.773 1549.52 Q711.962 1549.52 708.884 1544.94 Q705.828 1540.33 705.828 1531.6 Q705.828 1522.85 708.884 1518.27 Q711.962 1513.66 717.773 1513.66 Z\" fill=\"#000000\" fill-rule=\"nonzero\" fill-opacity=\"1\" /><path clip-path=\"url(#clip420)\" d=\"M1172.41 1518.36 L1160.6 1536.81 L1172.41 1536.81 L1172.41 1518.36 M1171.18 1514.29 L1177.06 1514.29 L1177.06 1536.81 L1181.99 1536.81 L1181.99 1540.7 L1177.06 1540.7 L1177.06 1548.85 L1172.41 1548.85 L1172.41 1540.7 L1156.8 1540.7 L1156.8 1536.19 L1171.18 1514.29 Z\" fill=\"#000000\" fill-rule=\"nonzero\" fill-opacity=\"1\" /><path clip-path=\"url(#clip420)\" d=\"M1199.72 1517.37 Q1196.11 1517.37 1194.28 1520.93 Q1192.47 1524.47 1192.47 1531.6 Q1192.47 1538.71 1194.28 1542.27 Q1196.11 1545.82 1199.72 1545.82 Q1203.35 1545.82 1205.16 1542.27 Q1206.99 1538.71 1206.99 1531.6 Q1206.99 1524.47 1205.16 1520.93 Q1203.35 1517.37 1199.72 1517.37 M1199.72 1513.66 Q1205.53 1513.66 1208.59 1518.27 Q1211.66 1522.85 1211.66 1531.6 Q1211.66 1540.33 1208.59 1544.94 Q1205.53 1549.52 1199.72 1549.52 Q1193.91 1549.52 1190.83 1544.94 Q1187.78 1540.33 1187.78 1531.6 Q1187.78 1522.85 1190.83 1518.27 Q1193.91 1513.66 1199.72 1513.66 Z\" fill=\"#000000\" fill-rule=\"nonzero\" fill-opacity=\"1\" /><path clip-path=\"url(#clip420)\" d=\"M1651.01 1529.7 Q1647.86 1529.7 1646.01 1531.86 Q1644.18 1534.01 1644.18 1537.76 Q1644.18 1541.49 1646.01 1543.66 Q1647.86 1545.82 1651.01 1545.82 Q1654.16 1545.82 1655.98 1543.66 Q1657.84 1541.49 1657.84 1537.76 Q1657.84 1534.01 1655.98 1531.86 Q1654.16 1529.7 1651.01 1529.7 M1660.29 1515.05 L1660.29 1519.31 Q1658.53 1518.48 1656.73 1518.04 Q1654.94 1517.6 1653.18 1517.6 Q1648.55 1517.6 1646.1 1520.72 Q1643.67 1523.85 1643.32 1530.17 Q1644.69 1528.15 1646.75 1527.09 Q1648.81 1526 1651.29 1526 Q1656.49 1526 1659.5 1529.17 Q1662.54 1532.32 1662.54 1537.76 Q1662.54 1543.08 1659.39 1546.3 Q1656.24 1549.52 1651.01 1549.52 Q1645.01 1549.52 1641.84 1544.94 Q1638.67 1540.33 1638.67 1531.6 Q1638.67 1523.41 1642.56 1518.55 Q1646.45 1513.66 1653 1513.66 Q1654.76 1513.66 1656.54 1514.01 Q1658.35 1514.36 1660.29 1515.05 Z\" fill=\"#000000\" fill-rule=\"nonzero\" fill-opacity=\"1\" /><path clip-path=\"url(#clip420)\" d=\"M1680.59 1517.37 Q1676.98 1517.37 1675.15 1520.93 Q1673.35 1524.47 1673.35 1531.6 Q1673.35 1538.71 1675.15 1542.27 Q1676.98 1545.82 1680.59 1545.82 Q1684.22 1545.82 1686.03 1542.27 Q1687.86 1538.71 1687.86 1531.6 Q1687.86 1524.47 1686.03 1520.93 Q1684.22 1517.37 1680.59 1517.37 M1680.59 1513.66 Q1686.4 1513.66 1689.46 1518.27 Q1692.54 1522.85 1692.54 1531.6 Q1692.54 1540.33 1689.46 1544.94 Q1686.4 1549.52 1680.59 1549.52 Q1674.78 1549.52 1671.7 1544.94 Q1668.65 1540.33 1668.65 1531.6 Q1668.65 1522.85 1671.7 1518.27 Q1674.78 1513.66 1680.59 1513.66 Z\" fill=\"#000000\" fill-rule=\"nonzero\" fill-opacity=\"1\" /><path clip-path=\"url(#clip420)\" d=\"M2131.84 1532.44 Q2128.51 1532.44 2126.59 1534.22 Q2124.69 1536 2124.69 1539.13 Q2124.69 1542.25 2126.59 1544.03 Q2128.51 1545.82 2131.84 1545.82 Q2135.18 1545.82 2137.1 1544.03 Q2139.02 1542.23 2139.02 1539.13 Q2139.02 1536 2137.1 1534.22 Q2135.2 1532.44 2131.84 1532.44 M2127.17 1530.45 Q2124.16 1529.7 2122.47 1527.64 Q2120.8 1525.58 2120.8 1522.62 Q2120.8 1518.48 2123.74 1516.07 Q2126.7 1513.66 2131.84 1513.66 Q2137.01 1513.66 2139.95 1516.07 Q2142.89 1518.48 2142.89 1522.62 Q2142.89 1525.58 2141.2 1527.64 Q2139.53 1529.7 2136.54 1530.45 Q2139.92 1531.23 2141.8 1533.52 Q2143.7 1535.82 2143.7 1539.13 Q2143.7 1544.15 2140.62 1546.83 Q2137.56 1549.52 2131.84 1549.52 Q2126.13 1549.52 2123.05 1546.83 Q2119.99 1544.15 2119.99 1539.13 Q2119.99 1535.82 2121.89 1533.52 Q2123.79 1531.23 2127.17 1530.45 M2125.45 1523.06 Q2125.45 1525.75 2127.12 1527.25 Q2128.81 1528.76 2131.84 1528.76 Q2134.85 1528.76 2136.54 1527.25 Q2138.26 1525.75 2138.26 1523.06 Q2138.26 1520.38 2136.54 1518.87 Q2134.85 1517.37 2131.84 1517.37 Q2128.81 1517.37 2127.12 1518.87 Q2125.45 1520.38 2125.45 1523.06 Z\" fill=\"#000000\" fill-rule=\"nonzero\" fill-opacity=\"1\" /><path clip-path=\"url(#clip420)\" d=\"M2162.01 1517.37 Q2158.39 1517.37 2156.57 1520.93 Q2154.76 1524.47 2154.76 1531.6 Q2154.76 1538.71 2156.57 1542.27 Q2158.39 1545.82 2162.01 1545.82 Q2165.64 1545.82 2167.45 1542.27 Q2169.27 1538.71 2169.27 1531.6 Q2169.27 1524.47 2167.45 1520.93 Q2165.64 1517.37 2162.01 1517.37 M2162.01 1513.66 Q2167.82 1513.66 2170.87 1518.27 Q2173.95 1522.85 2173.95 1531.6 Q2173.95 1540.33 2170.87 1544.94 Q2167.82 1549.52 2162.01 1549.52 Q2156.2 1549.52 2153.12 1544.94 Q2150.06 1540.33 2150.06 1531.6 Q2150.06 1522.85 2153.12 1518.27 Q2156.2 1513.66 2162.01 1513.66 Z\" fill=\"#000000\" fill-rule=\"nonzero\" fill-opacity=\"1\" /><polyline clip-path=\"url(#clip420)\" style=\"stroke:#000000; stroke-linecap:round; stroke-linejoin:round; stroke-width:4; stroke-opacity:1; fill:none\" points=\"184.191,1486.45 184.191,47.2441 \"/>\n",
       "<polyline clip-path=\"url(#clip420)\" style=\"stroke:#000000; stroke-linecap:round; stroke-linejoin:round; stroke-width:4; stroke-opacity:1; fill:none\" points=\"184.191,1236.87 203.088,1236.87 \"/>\n",
       "<polyline clip-path=\"url(#clip420)\" style=\"stroke:#000000; stroke-linecap:round; stroke-linejoin:round; stroke-width:4; stroke-opacity:1; fill:none\" points=\"184.191,963.167 203.088,963.167 \"/>\n",
       "<polyline clip-path=\"url(#clip420)\" style=\"stroke:#000000; stroke-linecap:round; stroke-linejoin:round; stroke-width:4; stroke-opacity:1; fill:none\" points=\"184.191,689.464 203.088,689.464 \"/>\n",
       "<polyline clip-path=\"url(#clip420)\" style=\"stroke:#000000; stroke-linecap:round; stroke-linejoin:round; stroke-width:4; stroke-opacity:1; fill:none\" points=\"184.191,415.761 203.088,415.761 \"/>\n",
       "<polyline clip-path=\"url(#clip420)\" style=\"stroke:#000000; stroke-linecap:round; stroke-linejoin:round; stroke-width:4; stroke-opacity:1; fill:none\" points=\"184.191,142.058 203.088,142.058 \"/>\n",
       "<path clip-path=\"url(#clip420)\" d=\"M91.0151 1222.67 Q87.404 1222.67 85.5753 1226.23 Q83.7697 1229.77 83.7697 1236.9 Q83.7697 1244.01 85.5753 1247.58 Q87.404 1251.12 91.0151 1251.12 Q94.6493 1251.12 96.4548 1247.58 Q98.2835 1244.01 98.2835 1236.9 Q98.2835 1229.77 96.4548 1226.23 Q94.6493 1222.67 91.0151 1222.67 M91.0151 1218.96 Q96.8252 1218.96 99.8808 1223.57 Q102.959 1228.15 102.959 1236.9 Q102.959 1245.63 99.8808 1250.24 Q96.8252 1254.82 91.0151 1254.82 Q85.2049 1254.82 82.1262 1250.24 Q79.0707 1245.63 79.0707 1236.9 Q79.0707 1228.15 82.1262 1223.57 Q85.2049 1218.96 91.0151 1218.96 Z\" fill=\"#000000\" fill-rule=\"nonzero\" fill-opacity=\"1\" /><path clip-path=\"url(#clip420)\" d=\"M111.177 1248.27 L116.061 1248.27 L116.061 1254.15 L111.177 1254.15 L111.177 1248.27 Z\" fill=\"#000000\" fill-rule=\"nonzero\" fill-opacity=\"1\" /><path clip-path=\"url(#clip420)\" d=\"M136.246 1222.67 Q132.635 1222.67 130.807 1226.23 Q129.001 1229.77 129.001 1236.9 Q129.001 1244.01 130.807 1247.58 Q132.635 1251.12 136.246 1251.12 Q139.881 1251.12 141.686 1247.58 Q143.515 1244.01 143.515 1236.9 Q143.515 1229.77 141.686 1226.23 Q139.881 1222.67 136.246 1222.67 M136.246 1218.96 Q142.056 1218.96 145.112 1223.57 Q148.191 1228.15 148.191 1236.9 Q148.191 1245.63 145.112 1250.24 Q142.056 1254.82 136.246 1254.82 Q130.436 1254.82 127.357 1250.24 Q124.302 1245.63 124.302 1236.9 Q124.302 1228.15 127.357 1223.57 Q130.436 1218.96 136.246 1218.96 Z\" fill=\"#000000\" fill-rule=\"nonzero\" fill-opacity=\"1\" /><path clip-path=\"url(#clip420)\" d=\"M86.0382 976.512 L102.358 976.512 L102.358 980.447 L80.4133 980.447 L80.4133 976.512 Q83.0753 973.757 87.6586 969.127 Q92.2651 964.475 93.4456 963.132 Q95.691 960.609 96.5706 958.873 Q97.4734 957.114 97.4734 955.424 Q97.4734 952.669 95.5289 950.933 Q93.6076 949.197 90.5058 949.197 Q88.3067 949.197 85.8531 949.961 Q83.4225 950.725 80.6447 952.276 L80.6447 947.554 Q83.4688 946.419 85.9225 945.841 Q88.3762 945.262 90.4132 945.262 Q95.7836 945.262 98.978 947.947 Q102.172 950.632 102.172 955.123 Q102.172 957.253 101.362 959.174 Q100.575 961.072 98.4687 963.665 Q97.89 964.336 94.7882 967.553 Q91.6864 970.748 86.0382 976.512 Z\" fill=\"#000000\" fill-rule=\"nonzero\" fill-opacity=\"1\" /><path clip-path=\"url(#clip420)\" d=\"M112.172 974.567 L117.057 974.567 L117.057 980.447 L112.172 980.447 L112.172 974.567 Z\" fill=\"#000000\" fill-rule=\"nonzero\" fill-opacity=\"1\" /><path clip-path=\"url(#clip420)\" d=\"M127.288 945.887 L145.644 945.887 L145.644 949.822 L131.57 949.822 L131.57 958.294 Q132.589 957.947 133.607 957.785 Q134.626 957.6 135.644 957.6 Q141.431 957.6 144.811 960.771 Q148.191 963.942 148.191 969.359 Q148.191 974.938 144.718 978.039 Q141.246 981.118 134.927 981.118 Q132.751 981.118 130.482 980.748 Q128.237 980.377 125.83 979.637 L125.83 974.938 Q127.913 976.072 130.135 976.627 Q132.357 977.183 134.834 977.183 Q138.839 977.183 141.177 975.077 Q143.515 972.97 143.515 969.359 Q143.515 965.748 141.177 963.641 Q138.839 961.535 134.834 961.535 Q132.959 961.535 131.084 961.952 Q129.232 962.368 127.288 963.248 L127.288 945.887 Z\" fill=\"#000000\" fill-rule=\"nonzero\" fill-opacity=\"1\" /><path clip-path=\"url(#clip420)\" d=\"M81.0614 672.184 L99.4178 672.184 L99.4178 676.119 L85.3438 676.119 L85.3438 684.591 Q86.3623 684.244 87.3808 684.082 Q88.3993 683.897 89.4178 683.897 Q95.2049 683.897 98.5845 687.068 Q101.964 690.239 101.964 695.656 Q101.964 701.235 98.4919 704.337 Q95.0197 707.415 88.7003 707.415 Q86.5243 707.415 84.2558 707.045 Q82.0105 706.675 79.6031 705.934 L79.6031 701.235 Q81.6864 702.369 83.9086 702.925 Q86.1308 703.48 88.6077 703.48 Q92.6123 703.48 94.9502 701.374 Q97.2882 699.267 97.2882 695.656 Q97.2882 692.045 94.9502 689.938 Q92.6123 687.832 88.6077 687.832 Q86.7327 687.832 84.8577 688.249 Q83.0058 688.665 81.0614 689.545 L81.0614 672.184 Z\" fill=\"#000000\" fill-rule=\"nonzero\" fill-opacity=\"1\" /><path clip-path=\"url(#clip420)\" d=\"M111.177 700.864 L116.061 700.864 L116.061 706.744 L111.177 706.744 L111.177 700.864 Z\" fill=\"#000000\" fill-rule=\"nonzero\" fill-opacity=\"1\" /><path clip-path=\"url(#clip420)\" d=\"M136.246 675.263 Q132.635 675.263 130.807 678.827 Q129.001 682.369 129.001 689.499 Q129.001 696.605 130.807 700.17 Q132.635 703.712 136.246 703.712 Q139.881 703.712 141.686 700.17 Q143.515 696.605 143.515 689.499 Q143.515 682.369 141.686 678.827 Q139.881 675.263 136.246 675.263 M136.246 671.559 Q142.056 671.559 145.112 676.165 Q148.191 680.749 148.191 689.499 Q148.191 698.225 145.112 702.832 Q142.056 707.415 136.246 707.415 Q130.436 707.415 127.357 702.832 Q124.302 698.225 124.302 689.499 Q124.302 680.749 127.357 676.165 Q130.436 671.559 136.246 671.559 Z\" fill=\"#000000\" fill-rule=\"nonzero\" fill-opacity=\"1\" /><path clip-path=\"url(#clip420)\" d=\"M80.8299 398.481 L103.052 398.481 L103.052 400.472 L90.5058 433.041 L85.6216 433.041 L97.4271 402.416 L80.8299 402.416 L80.8299 398.481 Z\" fill=\"#000000\" fill-rule=\"nonzero\" fill-opacity=\"1\" /><path clip-path=\"url(#clip420)\" d=\"M112.172 427.161 L117.057 427.161 L117.057 433.041 L112.172 433.041 L112.172 427.161 Z\" fill=\"#000000\" fill-rule=\"nonzero\" fill-opacity=\"1\" /><path clip-path=\"url(#clip420)\" d=\"M127.288 398.481 L145.644 398.481 L145.644 402.416 L131.57 402.416 L131.57 410.888 Q132.589 410.541 133.607 410.379 Q134.626 410.194 135.644 410.194 Q141.431 410.194 144.811 413.365 Q148.191 416.537 148.191 421.953 Q148.191 427.532 144.718 430.634 Q141.246 433.712 134.927 433.712 Q132.751 433.712 130.482 433.342 Q128.237 432.972 125.83 432.231 L125.83 427.532 Q127.913 428.666 130.135 429.222 Q132.357 429.777 134.834 429.777 Q138.839 429.777 141.177 427.671 Q143.515 425.564 143.515 421.953 Q143.515 418.342 141.177 416.236 Q138.839 414.129 134.834 414.129 Q132.959 414.129 131.084 414.546 Q129.232 414.962 127.288 415.842 L127.288 398.481 Z\" fill=\"#000000\" fill-rule=\"nonzero\" fill-opacity=\"1\" /><path clip-path=\"url(#clip420)\" d=\"M51.6634 155.403 L59.3023 155.403 L59.3023 129.037 L50.9921 130.704 L50.9921 126.445 L59.256 124.778 L63.9319 124.778 L63.9319 155.403 L71.5707 155.403 L71.5707 159.338 L51.6634 159.338 L51.6634 155.403 Z\" fill=\"#000000\" fill-rule=\"nonzero\" fill-opacity=\"1\" /><path clip-path=\"url(#clip420)\" d=\"M91.0151 127.857 Q87.404 127.857 85.5753 131.422 Q83.7697 134.963 83.7697 142.093 Q83.7697 149.199 85.5753 152.764 Q87.404 156.306 91.0151 156.306 Q94.6493 156.306 96.4548 152.764 Q98.2835 149.199 98.2835 142.093 Q98.2835 134.963 96.4548 131.422 Q94.6493 127.857 91.0151 127.857 M91.0151 124.153 Q96.8252 124.153 99.8808 128.76 Q102.959 133.343 102.959 142.093 Q102.959 150.82 99.8808 155.426 Q96.8252 160.009 91.0151 160.009 Q85.2049 160.009 82.1262 155.426 Q79.0707 150.82 79.0707 142.093 Q79.0707 133.343 82.1262 128.76 Q85.2049 124.153 91.0151 124.153 Z\" fill=\"#000000\" fill-rule=\"nonzero\" fill-opacity=\"1\" /><path clip-path=\"url(#clip420)\" d=\"M111.177 153.459 L116.061 153.459 L116.061 159.338 L111.177 159.338 L111.177 153.459 Z\" fill=\"#000000\" fill-rule=\"nonzero\" fill-opacity=\"1\" /><path clip-path=\"url(#clip420)\" d=\"M136.246 127.857 Q132.635 127.857 130.807 131.422 Q129.001 134.963 129.001 142.093 Q129.001 149.199 130.807 152.764 Q132.635 156.306 136.246 156.306 Q139.881 156.306 141.686 152.764 Q143.515 149.199 143.515 142.093 Q143.515 134.963 141.686 131.422 Q139.881 127.857 136.246 127.857 M136.246 124.153 Q142.056 124.153 145.112 128.76 Q148.191 133.343 148.191 142.093 Q148.191 150.82 145.112 155.426 Q142.056 160.009 136.246 160.009 Q130.436 160.009 127.357 155.426 Q124.302 150.82 124.302 142.093 Q124.302 133.343 127.357 128.76 Q130.436 124.153 136.246 124.153 Z\" fill=\"#000000\" fill-rule=\"nonzero\" fill-opacity=\"1\" /><polyline clip-path=\"url(#clip422)\" style=\"stroke:#009af9; stroke-linecap:round; stroke-linejoin:round; stroke-width:4; stroke-opacity:1; fill:none\" points=\"245.565,1371.44 269.634,1414.67 293.702,1435.42 317.77,1404.75 341.839,1445.72 365.907,1376.77 389.976,1376.51 414.044,1381.75 438.113,1319.99 462.181,1225.35 486.249,1248.25 510.318,1177.11 534.386,1188.33 558.455,1221.02 582.523,1132.24 606.592,1128.75 630.66,1118.99 654.728,1061.94 678.797,880.268 702.865,883.444 726.934,877.84 751.002,814.913 775.071,816.702 799.139,819.736 823.207,796.356 847.276,778.716 871.344,733.844 895.413,712.199 919.481,759.239 943.55,673.399 967.618,662.913 991.686,674.624 1015.75,650.976 1039.82,676.806 1063.89,646.056 1087.96,632.697 1112.03,636.185 1136.1,637.509 1160.17,557.973 1184.23,557.844 1208.3,585.459 1232.37,471.15 1256.44,468.758 1280.51,491.28 1304.58,544.996 1328.64,490.71 1352.71,476.42 1376.78,425.455 1400.85,416.317 1424.92,431.896 1448.99,437.126 1473.05,439.884 1497.12,463.652 1521.19,451.603 1545.26,447.778 1569.33,416.836 1593.4,423.014 1617.47,380.693 1641.53,343.899 1665.6,392.176 1689.67,341.053 1713.74,378.872 1737.81,377.054 1761.88,275.806 1785.94,274.315 1810.01,350.323 1834.08,241.848 1858.15,244.842 1882.22,337.389 1906.29,296.471 1930.36,287.433 1954.42,176.232 1978.49,178.104 2002.56,87.9763 2026.63,88.4088 2050.7,151.414 2074.77,177.438 2098.83,165.923 2122.9,151.552 2146.97,174.768 2171.04,114.113 2195.11,92.6928 2219.18,126.508 2243.24,115.77 2267.31,88.0336 2291.38,92.1749 \"/>\n",
       "<path clip-path=\"url(#clip420)\" d=\"M256.476 198.898 L525.763 198.898 L525.763 95.2176 L256.476 95.2176  Z\" fill=\"#ffffff\" fill-rule=\"evenodd\" fill-opacity=\"1\"/>\n",
       "<polyline clip-path=\"url(#clip420)\" style=\"stroke:#000000; stroke-linecap:round; stroke-linejoin:round; stroke-width:4; stroke-opacity:1; fill:none\" points=\"256.476,198.898 525.763,198.898 525.763,95.2176 256.476,95.2176 256.476,198.898 \"/>\n",
       "<polyline clip-path=\"url(#clip420)\" style=\"stroke:#009af9; stroke-linecap:round; stroke-linejoin:round; stroke-width:4; stroke-opacity:1; fill:none\" points=\"280.571,147.058 425.142,147.058 \"/>\n",
       "<path clip-path=\"url(#clip420)\" d=\"M463.08 166.745 Q461.275 171.375 459.562 172.787 Q457.849 174.199 454.978 174.199 L451.575 174.199 L451.575 170.634 L454.075 170.634 Q455.835 170.634 456.807 169.8 Q457.779 168.967 458.96 165.865 L459.724 163.921 L449.238 138.412 L453.751 138.412 L461.853 158.689 L469.955 138.412 L474.469 138.412 L463.08 166.745 Z\" fill=\"#000000\" fill-rule=\"nonzero\" fill-opacity=\"1\" /><path clip-path=\"url(#clip420)\" d=\"M481.761 160.402 L489.399 160.402 L489.399 134.037 L481.089 135.703 L481.089 131.444 L489.353 129.778 L494.029 129.778 L494.029 160.402 L501.668 160.402 L501.668 164.338 L481.761 164.338 L481.761 160.402 Z\" fill=\"#000000\" fill-rule=\"nonzero\" fill-opacity=\"1\" /></svg>\n"
      ]
     },
     "metadata": {},
     "output_type": "display_data"
    }
   ],
   "source": [
    "using Plots\n",
    "plot(log10.(e))"
   ]
  },
  {
   "cell_type": "code",
   "execution_count": 38,
   "id": "57ab41b8",
   "metadata": {},
   "outputs": [
    {
     "ename": "DimensionMismatch",
     "evalue": "DimensionMismatch: a has size (0,), b has size (825,), mismatch at dim 1",
     "output_type": "error",
     "traceback": [
      "DimensionMismatch: a has size (0,), b has size (825,), mismatch at dim 1\n",
      "\n",
      "Stacktrace:\n",
      " [1] throw_promote_shape_mismatch(a::Tuple{Base.OneTo{Int64}}, b::Tuple{Base.OneTo{Int64}}, i::Int64)\n",
      "   @ Base ./indices.jl:135\n",
      " [2] promote_shape\n",
      "   @ ./indices.jl:196 [inlined]\n",
      " [3] promote_shape\n",
      "   @ ./indices.jl:188 [inlined]\n",
      " [4] -(A::Vector{Any}, B::Vector{Float64})\n",
      "   @ Base ./arraymath.jl:7\n",
      " [5] top-level scope\n",
      "   @ ~/Dokumentumok/GitHub/LowLevelFEM.jl/examples/Large_deformations/jl_notebook_cell_df34fa98e69747e1a8f8a730347b8e2f_X16sZmlsZQ==.jl:4"
     ]
    }
   ],
   "source": [
    "u1 = similar(r1)\n",
    "r0 = FEM.nodePositionVector(problem)\n",
    "for i in 1:size(r1, 2)\n",
    "    u1[:, i] = r1[:, i] - r0\n",
    "end\n",
    "\n",
    "u2 = FEM.showDoFResults(problem, u1, :uvec, t=1:size(u1, 2), visible=true)"
   ]
  },
  {
   "cell_type": "code",
   "execution_count": 39,
   "id": "d9e04c86",
   "metadata": {},
   "outputs": [
    {
     "data": {
      "text/plain": [
       "LowLevelFEM.TensorField([[0.3999999999999999; 0.0; … ; 0.0; 0.6000000000000001;;], [0.3999999999999999; 0.0; … ; 0.0; 0.6000000000000001;;], [0.3999999999999999; 0.0; … ; 0.0; 0.6000000000000001;;], [0.3999999999999999; 0.0; … ; 0.0; 0.6000000000000001;;], [0.3999999999999999; 0.0; … ; 0.0; 0.6000000000000001;;], [0.3999999999999999; 0.0; … ; 0.0; 0.6000000000000001;;], [0.3999999999999999; 0.0; … ; 0.0; 0.6000000000000001;;], [0.3999999999999999; 0.0; … ; 0.0; 0.6000000000000001;;], [0.3999999999999999; 0.0; … ; 0.0; 0.6000000000000001;;], [0.3999999999999999; 0.0; … ; 0.0; 0.6000000000000001;;]  …  [0.3999999999999999; 0.0; … ; 0.0; 0.6000000000000001;;], [0.3999999999999999; 0.0; … ; 0.0; 0.6000000000000001;;], [0.3999999999999999; 0.0; … ; 0.0; 0.6000000000000001;;], [0.3999999999999999; 0.0; … ; 0.0; 0.6000000000000001;;], [0.3999999999999999; 0.0; … ; 0.0; 0.6000000000000001;;], [0.3999999999999999; 0.0; … ; 0.0; 0.6000000000000001;;], [0.3999999999999999; 0.0; … ; 0.0; 0.6000000000000001;;], [0.3999999999999999; 0.0; … ; 0.0; 0.6000000000000001;;], [0.3999999999999999; 0.0; … ; 0.0; 0.6000000000000001;;], [0.3999999999999999; 0.0; … ; 0.0; 0.6000000000000001;;]], Matrix{Float64}(undef, 0, 0), [273, 274, 275, 276, 277, 278, 279, 280, 281, 282  …  423, 424, 425, 426, 427, 428, 429, 430, 431, 432], 1, :F)"
      ]
     },
     "metadata": {},
     "output_type": "display_data"
    }
   ],
   "source": [
    "r = FEM.nodePositionVector(problem)\n",
    "ux(x, y, z) = 0.4x\n",
    "uy(x, y, z) = 0.5y\n",
    "uz(x, y, z) = 0.6z\n",
    "q0 = FEM.field(\"body\", fx=ux, fy=uy, fz=uz)\n",
    "q = FEM.vectorField(problem, [q0])\n",
    "F = FEM.deformationGradient(problem, q)"
   ]
  },
  {
   "cell_type": "code",
   "execution_count": 40,
   "id": "bda3da4b",
   "metadata": {},
   "outputs": [
    {
     "data": {
      "text/plain": [
       "3×3 Matrix{Float64}:\n",
       " 0.4  0.0  0.0\n",
       " 0.0  0.5  0.0\n",
       " 0.0  0.0  0.6"
      ]
     },
     "metadata": {},
     "output_type": "display_data"
    }
   ],
   "source": [
    "reshape(F.A[1][1:9], 3, 3)"
   ]
  },
  {
   "cell_type": "code",
   "execution_count": 41,
   "id": "4aba7a4b",
   "metadata": {},
   "outputs": [
    {
     "data": {
      "text/plain": [
       "3×3 Matrix{Float64}:\n",
       " -0.42   0.0     0.0\n",
       "  0.0   -0.375   0.0\n",
       "  0.0    0.0    -0.32"
      ]
     },
     "metadata": {},
     "output_type": "display_data"
    }
   ],
   "source": [
    "E = (F' * F - FEM.unitTensor(F)) / 2\n",
    "\n",
    "reshape(E.A[1][1:9], 3, 3)"
   ]
  },
  {
   "cell_type": "code",
   "execution_count": 42,
   "id": "a7c506a2",
   "metadata": {},
   "outputs": [
    {
     "data": {
      "text/plain": [
       "3×3 Matrix{Float64}:\n",
       " -2.625   0.0   0.0\n",
       "  0.0    -1.5   0.0\n",
       "  0.0     0.0  -0.888889"
      ]
     },
     "metadata": {},
     "output_type": "display_data"
    }
   ],
   "source": [
    "e = (FEM.unitTensor(F) - inv(F * F')) / 2\n",
    "\n",
    "reshape(e.A[1][1:9], 3, 3)"
   ]
  },
  {
   "cell_type": "code",
   "execution_count": 43,
   "id": "df5feea4",
   "metadata": {},
   "outputs": [
    {
     "data": {
      "text/plain": [
       "3×3 Matrix{Float64}:\n",
       " -2.625   0.0   0.0\n",
       "  0.0    -1.5   0.0\n",
       "  0.0     0.0  -0.888889"
      ]
     },
     "metadata": {},
     "output_type": "display_data"
    }
   ],
   "source": [
    "e = inv(F') * E * inv(F)\n",
    "\n",
    "reshape(e.A[1][1:9], 3, 3)"
   ]
  },
  {
   "cell_type": "code",
   "execution_count": 44,
   "id": "eb7cd73d",
   "metadata": {},
   "outputs": [
    {
     "data": {
      "text/plain": [
       "3×3 Matrix{Float64}:\n",
       " 0.4  0.0  0.0\n",
       " 0.0  0.5  0.0\n",
       " 0.0  0.0  0.6"
      ]
     },
     "metadata": {},
     "output_type": "display_data"
    }
   ],
   "source": [
    "U = sqrt(F' * F)\n",
    "\n",
    "reshape(U.A[1][1:9], 3, 3)"
   ]
  },
  {
   "cell_type": "code",
   "execution_count": 45,
   "id": "49af293c",
   "metadata": {},
   "outputs": [
    {
     "data": {
      "text/plain": [
       "3×3 Matrix{Float64}:\n",
       " -122.128     0.0       0.0\n",
       "    0.0    -113.474     0.0\n",
       "    0.0       0.0    -108.773"
      ]
     },
     "metadata": {},
     "output_type": "display_data"
    }
   ],
   "source": [
    "Ex = 10\n",
    "νxy = 0.3\n",
    "λ = Ex * νxy / ((1 + νxy) * (1 - 2νxy))\n",
    "μ = Ex / (2 * (1 + νxy))\n",
    "I3 = FEM.unitTensor(F)\n",
    "iC = inv(F' * F)\n",
    "J1 = det(F)\n",
    "SII = μ * (I3 - iC) + λ * log(J1) / J1 * I3\n",
    "\n",
    "reshape(SII.A[1][1:9], 3, 3)"
   ]
  },
  {
   "cell_type": "code",
   "execution_count": 46,
   "id": "88fa00a0",
   "metadata": {},
   "outputs": [
    {
     "data": {
      "text/plain": [
       "probe (generic function with 1 method)"
      ]
     },
     "metadata": {},
     "output_type": "display_data"
    }
   ],
   "source": [
    "function probe(A, x, y, z)\n",
    "    elementTag, elementType, nodeTags, u, v, w = gmsh.model.mesh.getElementByCoordinates(x, y, z, 3, false)\n",
    "    elementName, dim, order, numNodes::Int64, localNodeCoord, numPrimaryNodes = gmsh.model.mesh.getElementProperties(elementType)\n",
    "    comp, fun, ori = gmsh.model.mesh.getBasisFunctions(elementType, [u, v, w], \"Lagrange\")\n",
    "    SS = [0.0, 0, 0, 0, 0, 0, 0, 0, 0]\n",
    "    if isa(A, FEM.TensorField)\n",
    "        ind = findfirst(i -> i == elementTag, SII.numElem)\n",
    "        for i in range(1, 9)\n",
    "            SS[i] = fun' * SII.A[ind][i:9:9numNodes, 1]\n",
    "        end\n",
    "    elseif isa(A, Matrix)\n",
    "        for i in range(1, 9)\n",
    "            SS[i] = fun' * A[9nodeTags.-(9-i), 1]\n",
    "        end\n",
    "    end\n",
    "    return reshape(SS, 3, 3)\n",
    "end"
   ]
  },
  {
   "cell_type": "code",
   "execution_count": 47,
   "id": "eb55a91c",
   "metadata": {},
   "outputs": [
    {
     "data": {
      "text/plain": [
       "2475×1 Matrix{Float64}:\n",
       " -122.12805462500447\n",
       "    0.0\n",
       "    4.74454284027845e-14\n",
       "    0.0\n",
       " -113.47420847115829\n",
       "    0.0\n",
       "    4.74454284027845e-14\n",
       "    0.0\n",
       " -108.7733537703036\n",
       " -122.12805462500434\n",
       "    ⋮\n",
       " -122.12805462500438\n",
       "   -8.540177112501207e-15\n",
       "    4.688942728868993e-15\n",
       "   -8.540177112501207e-15\n",
       " -113.47420847115822\n",
       "   -7.116814260417605e-16\n",
       "    4.688942728868993e-15\n",
       "   -7.116814260417605e-16\n",
       " -108.77335377030352"
      ]
     },
     "metadata": {},
     "output_type": "display_data"
    }
   ],
   "source": [
    "SII2 = FEM.elementsToNodes(problem, SII)"
   ]
  },
  {
   "cell_type": "code",
   "execution_count": 48,
   "id": "0f94ba00",
   "metadata": {},
   "outputs": [
    {
     "data": {
      "text/plain": [
       "3×3 Matrix{Float64}:\n",
       " -122.128           4.49134e-44    -9.48909e-15\n",
       "    4.49134e-44  -113.474           5.0568e-29\n",
       "   -9.48909e-15     5.0568e-29   -108.773"
      ]
     },
     "metadata": {},
     "output_type": "display_data"
    }
   ],
   "source": [
    "probe(SII2, 0, 0, 0)"
   ]
  },
  {
   "cell_type": "code",
   "execution_count": 49,
   "id": "9eac2964",
   "metadata": {},
   "outputs": [
    {
     "data": {
      "text/plain": [
       "LowLevelFEM.ScalarField([[2.0; 2.0; … ; 2.0; 2.0;;], [2.0; 2.0; … ; 2.0; 2.0;;], [2.0; 2.0; … ; 2.0; 2.0;;], [2.0; 2.0; … ; 2.0; 2.0;;], [2.0; 2.0; … ; 2.0; 2.0;;], [2.0; 2.0; … ; 2.0; 2.0;;], [2.0; 2.0; … ; 2.0; 2.0;;], [2.0; 2.0; … ; 2.0; 2.0;;], [2.0; 2.0; … ; 2.0; 2.0;;], [2.0; 2.0; … ; 2.0; 2.0;;]  …  [2.0; 2.0; … ; 2.0; 2.0;;], [2.0; 2.0; … ; 2.0; 2.0;;], [2.0; 2.0; … ; 2.0; 2.0;;], [2.0; 2.0; … ; 2.0; 2.0;;], [2.0; 2.0; … ; 2.0; 2.0;;], [2.0; 2.0; … ; 2.0; 2.0;;], [2.0; 2.0; … ; 2.0; 2.0;;], [2.0; 2.0; … ; 2.0; 2.0;;], [2.0; 2.0; … ; 2.0; 2.0;;], [2.0; 2.0; … ; 2.0; 2.0;;]], Matrix{Float64}(undef, 0, 0), [273, 274, 275, 276, 277, 278, 279, 280, 281, 282  …  423, 424, 425, 426, 427, 428, 429, 430, 431, 432], 1, :scalarInElements)"
      ]
     },
     "metadata": {},
     "output_type": "display_data"
    }
   ],
   "source": [
    "field = FEM.field(\"body\", f=2)\n",
    "sc = FEM.ScalarField(problem, [field])"
   ]
  },
  {
   "cell_type": "code",
   "execution_count": 50,
   "id": "b19e2ebf",
   "metadata": {},
   "outputs": [
    {
     "data": {
      "text/plain": [
       "LowLevelFEM.ScalarField([[0.12; 0.11999999999999994; … ; 0.12; 0.12;;], [0.12; 0.11999999999999994; … ; 0.12; 0.12;;], [0.12; 0.11999999999999994; … ; 0.12; 0.12;;], [0.12; 0.11999999999999994; … ; 0.12; 0.12;;], [0.12; 0.11999999999999994; … ; 0.12; 0.12;;], [0.12; 0.11999999999999994; … ; 0.12; 0.12;;], [0.12; 0.11999999999999994; … ; 0.12; 0.12;;], [0.12; 0.11999999999999994; … ; 0.12; 0.12;;], [0.12; 0.11999999999999994; … ; 0.12; 0.12;;], [0.12; 0.11999999999999994; … ; 0.12; 0.12;;]  …  [0.12; 0.11999999999999994; … ; 0.12; 0.12;;], [0.12; 0.11999999999999994; … ; 0.12; 0.12;;], [0.12; 0.11999999999999994; … ; 0.12; 0.12;;], [0.12; 0.11999999999999994; … ; 0.12; 0.12;;], [0.12; 0.11999999999999994; … ; 0.12; 0.12;;], [0.12; 0.11999999999999994; … ; 0.12; 0.12;;], [0.12; 0.11999999999999994; … ; 0.12; 0.12;;], [0.12; 0.11999999999999994; … ; 0.12; 0.12;;], [0.12; 0.11999999999999994; … ; 0.12; 0.12;;], [0.12; 0.11999999999999994; … ; 0.12; 0.12;;]], Matrix{Float64}(undef, 0, 0), [273, 274, 275, 276, 277, 278, 279, 280, 281, 282  …  423, 424, 425, 426, 427, 428, 429, 430, 431, 432], 1, :sc)"
      ]
     },
     "metadata": {},
     "output_type": "display_data"
    }
   ],
   "source": [
    "I3 = FEM.unitTensor(F)\n",
    "J = det(F)"
   ]
  },
  {
   "cell_type": "code",
   "execution_count": 51,
   "id": "dfdb8e2d",
   "metadata": {},
   "outputs": [
    {
     "data": {
      "text/plain": [
       "LowLevelFEM.TensorField([[2.0; 0.0; … ; 0.0; 2.0;;], [2.0; 0.0; … ; 0.0; 2.0;;], [2.0; 0.0; … ; 0.0; 2.0;;], [2.0; 0.0; … ; 0.0; 2.0;;], [2.0; 0.0; … ; 0.0; 2.0;;], [2.0; 0.0; … ; 0.0; 2.0;;], [2.0; 0.0; … ; 0.0; 2.0;;], [2.0; 0.0; … ; 0.0; 2.0;;], [2.0; 0.0; … ; 0.0; 2.0;;], [2.0; 0.0; … ; 0.0; 2.0;;]  …  [2.0; 0.0; … ; 0.0; 2.0;;], [2.0; 0.0; … ; 0.0; 2.0;;], [2.0; 0.0; … ; 0.0; 2.0;;], [2.0; 0.0; … ; 0.0; 2.0;;], [2.0; 0.0; … ; 0.0; 2.0;;], [2.0; 0.0; … ; 0.0; 2.0;;], [2.0; 0.0; … ; 0.0; 2.0;;], [2.0; 0.0; … ; 0.0; 2.0;;], [2.0; 0.0; … ; 0.0; 2.0;;], [2.0; 0.0; … ; 0.0; 2.0;;]], Matrix{Float64}(undef, 0, 0), [273, 274, 275, 276, 277, 278, 279, 280, 281, 282  …  423, 424, 425, 426, 427, 428, 429, 430, 431, 432], 1, :e)"
      ]
     },
     "metadata": {},
     "output_type": "display_data"
    }
   ],
   "source": [
    "sc * I3"
   ]
  },
  {
   "cell_type": "code",
   "execution_count": 52,
   "id": "b48019c3",
   "metadata": {},
   "outputs": [
    {
     "data": {
      "text/plain": [
       "LowLevelFEM.TensorField([[0.0; 0.0; … ; 0.0; 0.0;;], [0.0; 0.0; … ; 0.0; 0.0;;], [0.0; 0.0; … ; 0.0; 0.0;;], [0.0; 0.0; … ; 0.0; 0.0;;], [0.0; 0.0; … ; 0.0; 0.0;;], [0.0; 0.0; … ; 0.0; 0.0;;], [0.0; 0.0; … ; 0.0; 0.0;;], [0.0; 0.0; … ; 0.0; 0.0;;], [0.0; 0.0; … ; 0.0; 0.0;;], [0.0; 0.0; … ; 0.0; 0.0;;]  …  [0.0; 0.0; … ; 0.0; 0.0;;], [0.0; 0.0; … ; 0.0; 0.0;;], [0.0; 0.0; … ; 0.0; 0.0;;], [0.0; 0.0; … ; 0.0; 0.0;;], [0.0; 0.0; … ; 0.0; 0.0;;], [0.0; 0.0; … ; 0.0; 0.0;;], [0.0; 0.0; … ; 0.0; 0.0;;], [0.0; 0.0; … ; 0.0; 0.0;;], [0.0; 0.0; … ; 0.0; 0.0;;], [0.0; 0.0; … ; 0.0; 0.0;;]], Matrix{Float64}(undef, 0, 0), [273, 274, 275, 276, 277, 278, 279, 280, 281, 282  …  423, 424, 425, 426, 427, 428, 429, 430, 431, 432], 1, :e)"
      ]
     },
     "metadata": {},
     "output_type": "display_data"
    }
   ],
   "source": [
    "I3 - I3"
   ]
  },
  {
   "cell_type": "code",
   "execution_count": 53,
   "id": "ff567b87",
   "metadata": {},
   "outputs": [
    {
     "data": {
      "text/plain": [
       "3×3 Matrix{Float64}:\n",
       " -162.837     0.0       0.0\n",
       "    0.0    -236.405     0.0\n",
       "    0.0       0.0    -326.32"
      ]
     },
     "metadata": {},
     "output_type": "display_data"
    }
   ],
   "source": [
    "σ = F * SII * F' / det(F)\n",
    "\n",
    "reshape(σ.A[1][1:9], 3, 3)"
   ]
  },
  {
   "cell_type": "code",
   "execution_count": 54,
   "id": "f1eee084",
   "metadata": {},
   "outputs": [
    {
     "data": {
      "text/plain": [
       "-119.05114807753088"
      ]
     },
     "metadata": {},
     "output_type": "display_data"
    }
   ],
   "source": [
    "J = 0.5 * 0.5 * 0.5\n",
    "μ / J * (J^(2 / 3) - 1) + λ / J * log(J)"
   ]
  },
  {
   "cell_type": "code",
   "execution_count": 55,
   "id": "32bc3809",
   "metadata": {},
   "outputs": [
    {
     "name": "stdout",
     "output_type": "stream",
     "text": [
      "-------------------------------------------------------\n",
      "Version       : 4.13.1\n",
      "License       : GNU General Public License\n",
      "Build OS      : Linux64-sdk\n",
      "Build date    : 19700101\n",
      "Build host    : amdci7.julia.csail.mit.edu\n",
      "Build options : 64Bit ALGLIB[contrib] ANN[contrib] Bamg Blossom Cairo DIntegration Dlopen DomHex Eigen[contrib] Fltk GMP Gmm[contrib] Hxt Jpeg Kbipack LinuxJoystick MathEx[contrib] Mesh Metis[contrib] Mmg Mpeg Netgen Nii2mesh ONELAB ONELABMetamodel OpenCASCADE OpenCASCADE-CAF OpenGL OpenMP OptHom Parser Plugins Png Post QuadMeshingTools QuadTri Solver TetGen/BR TinyXML2[contrib] Untangle Voro++[contrib] WinslowUntangler Zlib\n",
      "FLTK version  : 1.3.8\n",
      "OCC version   : 7.7.2\n",
      "Packaged by   : root\n",
      "Web site      : https://gmsh.info\n",
      "Issue tracker : https://gitlab.onelab.info/gmsh/gmsh/issues\n",
      "-------------------------------------------------------\n"
     ]
    },
    {
     "name": "stderr",
     "output_type": "stream",
     "text": [
      "XRequest.18: BadValue 0x0\n"
     ]
    }
   ],
   "source": [
    "FEM.openPostProcessor()"
   ]
  },
  {
   "cell_type": "code",
   "execution_count": 56,
   "id": "7b517a53",
   "metadata": {},
   "outputs": [],
   "source": [
    "gmsh.finalize()"
   ]
  }
 ],
 "metadata": {
  "kernelspec": {
   "display_name": "Julia 1.11.5",
   "language": "julia",
   "name": "julia-1.11"
  },
  "language_info": {
   "file_extension": ".jl",
   "mimetype": "application/julia",
   "name": "julia",
   "version": "1.11.5"
  }
 },
 "nbformat": 4,
 "nbformat_minor": 5
}
