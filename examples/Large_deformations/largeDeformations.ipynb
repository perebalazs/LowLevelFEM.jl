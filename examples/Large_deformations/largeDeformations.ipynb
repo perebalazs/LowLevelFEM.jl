{
 "cells": [
  {
   "cell_type": "code",
   "execution_count": 29,
   "id": "79fd9685",
   "metadata": {},
   "outputs": [],
   "source": [
    "using LowLevelFEM\n",
    "import LowLevelFEM as FEM\n",
    "\n",
    "gmsh.initialize()"
   ]
  },
  {
   "cell_type": "code",
   "execution_count": 30,
   "id": "22283e0a",
   "metadata": {},
   "outputs": [],
   "source": [
    "using SparseArrays, LinearAlgebra"
   ]
  },
  {
   "cell_type": "code",
   "execution_count": 31,
   "id": "fa18250b",
   "metadata": {},
   "outputs": [
    {
     "name": "stdout",
     "output_type": "stream",
     "text": [
      "Info    : Reading 'body1.geo'...\n",
      "Info    : Meshing 1D...                                                                                                                       \n",
      "Info    : [  0%] Meshing curve 1 (Line)\n",
      "Info    : [ 10%] Meshing curve 2 (Line)\n",
      "Info    : [ 20%] Meshing curve 3 (Line)\n",
      "Info    : [ 30%] Meshing curve 4 (Line)\n",
      "Info    : [ 40%] Meshing curve 5 (Line)\n",
      "Info    : [ 50%] Meshing curve 6 (Line)\n",
      "Info    : [ 60%] Meshing curve 7 (Line)\n",
      "Info    : [ 60%] Meshing curve 8 (Line)\n",
      "Info    : [ 70%] Meshing curve 9 (Line)\n",
      "Info    : [ 80%] Meshing curve 10 (Line)\n",
      "Info    : [ 90%] Meshing curve 11 (Line)\n",
      "Info    : [100%] Meshing curve 12 (Line)\n",
      "Info    : Done meshing 1D (Wall 0.00105844s, CPU 0.000876s)\n",
      "Info    : Meshing 2D...\n",
      "Info    : [  0%] Meshing surface 1 (Transfinite)\n",
      "Info    : [ 20%] Meshing surface 2 (Transfinite)\n",
      "Info    : [ 40%] Meshing surface 3 (Transfinite)\n",
      "Info    : [ 60%] Meshing surface 4 (Transfinite)\n",
      "Info    : [ 70%] Meshing surface 5 (Transfinite)\n",
      "Info    : [ 90%] Meshing surface 6 (Transfinite)\n",
      "Info    : Done meshing 2D (Wall 0.000158924s, CPU 0.000157s)\n",
      "Info    : Meshing 3D...\n",
      "Info    : Meshing volume 1 (Transfinite)\n",
      "Info    : Done meshing 3D (Wall 6.244e-05s, CPU 6e-05s)\n",
      "Info    : Optimizing mesh...\n",
      "Info    : Done optimizing mesh (Wall 1.66e-06s, CPU 2e-06s)\n",
      "Info    : 8 nodes 27 elements\n",
      "Info    : Done reading 'body1.geo'\n"
     ]
    },
    {
     "name": "stderr",
     "output_type": "stream",
     "text": [
      "Warning : Boolean fragments skipped - too few arguments\n"
     ]
    }
   ],
   "source": [
    "gmsh.open(\"body1.geo\")"
   ]
  },
  {
   "cell_type": "code",
   "execution_count": 32,
   "id": "936f1fab",
   "metadata": {},
   "outputs": [
    {
     "name": "stdout",
     "output_type": "stream",
     "text": [
      "Info    : RCMK renumbering...\n",
      "Info    : Done RCMK renumbering (bandwidth is now 7)\n"
     ]
    },
    {
     "data": {
      "text/plain": [
       "LowLevelFEM.Problem(\"body1\", :Solid, 3, 3, LowLevelFEM.Material[LowLevelFEM.Material(\"body\", 200000.0, 0.3, 7.85e-9, 45.0, 4.2e8, 1.2e-5)], 1.0, 8)"
      ]
     },
     "metadata": {},
     "output_type": "display_data"
    }
   ],
   "source": [
    "mat = FEM.material(\"body\")\n",
    "problem = FEM.Problem([mat])"
   ]
  },
  {
   "cell_type": "code",
   "execution_count": 33,
   "id": "d1917225",
   "metadata": {},
   "outputs": [],
   "source": [
    "function nodePositionVector(problem)\n",
    "    dim = problem.dim\n",
    "    non = problem.non\n",
    "    if dim != 3\n",
    "        error(\"nodePositionVector: This function only works for 3D problems.\")\n",
    "    end\n",
    "    r = zeros(non * dim)\n",
    "    for ipg in 1:length(problem.material)\n",
    "        phName = problem.material[ipg].phName\n",
    "        dimTags = gmsh.model.getEntitiesForPhysicalName(phName)\n",
    "        for idm in 1:length(dimTags)\n",
    "            dimTag = dimTags[idm]\n",
    "            edim = dimTag[1]\n",
    "            etag = dimTag[2]\n",
    "            elemTypes, elemTags, elemNodeTags = gmsh.model.mesh.getElements(edim, etag)\n",
    "            nodeTags, ncoord, parametricCoord = gmsh.model.mesh.getNodes(dim, -1, true, false)\n",
    "            r[nodeTags*3 .- 2] = ncoord[1:3:length(ncoord)]\n",
    "            r[nodeTags*3 .- 1] = ncoord[2:3:length(ncoord)]\n",
    "            r[nodeTags*3 .- 0] = ncoord[3:3:length(ncoord)]\n",
    "        end\n",
    "    end\n",
    "    return r\n",
    "end\n",
    "\n",
    "r = nodePositionVector(problem);"
   ]
  },
  {
   "cell_type": "code",
   "execution_count": 34,
   "id": "67165db9",
   "metadata": {},
   "outputs": [
    {
     "data": {
      "text/plain": [
       "stiffnessMatrixLinear (generic function with 1 method)"
      ]
     },
     "metadata": {},
     "output_type": "display_data"
    }
   ],
   "source": [
    "function stiffnessMatrixLinear(problem, r)\n",
    "    gmsh.model.setCurrent(problem.name)\n",
    "    elemTypes, elemTags, elemNodeTags = gmsh.model.mesh.getElements(problem.dim, -1)\n",
    "    lengthOfIJV = sum([(div(length(elemNodeTags[i]), length(elemTags[i])) * problem.dim)^2 * length(elemTags[i]) for i in 1:length(elemTags)])\n",
    "    nn = []\n",
    "    I = []\n",
    "    J = []\n",
    "    V = []\n",
    "    V = convert(Vector{Float64}, V)\n",
    "    sizehint!(I, lengthOfIJV)\n",
    "    sizehint!(J, lengthOfIJV)\n",
    "    sizehint!(V, lengthOfIJV)\n",
    "\n",
    "    for ipg in 1:length(problem.material)\n",
    "        phName = problem.material[ipg].phName\n",
    "        E = problem.material[ipg].E\n",
    "        ν = problem.material[ipg].ν\n",
    "        dim = problem.dim\n",
    "        pdim = problem.pdim\n",
    "        if problem.dim == 3 && problem.type == :Solid\n",
    "            D = E / ((1 + ν) * (1 - 2ν)) * [1-ν ν ν 0 0 0;\n",
    "                ν 1-ν ν 0 0 0;\n",
    "                ν ν 1-ν 0 0 0;\n",
    "                0 0 0 (1-2ν)/2 0 0;\n",
    "                0 0 0 0 (1-2ν)/2 0;\n",
    "                0 0 0 0 0 (1-2ν)/2]\n",
    "\n",
    "            rowsOfB = 6\n",
    "            b = 1\n",
    "        elseif problem.dim == 2 && problem.type == :PlaneStress\n",
    "            D = E / (1 - ν^2) * [1 ν 0;\n",
    "                ν 1 0;\n",
    "                0 0 (1-ν)/2]\n",
    "            rowsOfB = 3\n",
    "            b = problem.thickness\n",
    "        elseif problem.dim == 2 && problem.type == :PlaneStrain\n",
    "            D = E / ((1 + ν) * (1 - 2ν)) * [1-ν ν 0;\n",
    "                ν 1-ν 0;\n",
    "                0 0 (1-2ν)/2]\n",
    "            rowsOfB = 3\n",
    "            b = 1\n",
    "        else\n",
    "            error(\"stiffnessMatrixSolid: dimension is $(problem.dim), problem type is $(problem.type).\")\n",
    "        end\n",
    "\n",
    "        dimTags = gmsh.model.getEntitiesForPhysicalName(phName)\n",
    "        for idm in 1:length(dimTags)\n",
    "            dimTag = dimTags[idm]\n",
    "            edim = dimTag[1]\n",
    "            etag = dimTag[2]\n",
    "            elemTypes, elemTags, elemNodeTags = gmsh.model.mesh.getElements(edim, etag)\n",
    "            for i in 1:length(elemTypes)\n",
    "                et = elemTypes[i]\n",
    "                elementName, dim, order, numNodes::Int64, localNodeCoord, numPrimaryNodes = gmsh.model.mesh.getElementProperties(et)\n",
    "                intPoints, intWeights = gmsh.model.mesh.getIntegrationPoints(et, \"Gauss\" * string(2order + 1))\n",
    "                numIntPoints = length(intWeights)\n",
    "                #comp, fun, ori = gmsh.model.mesh.getBasisFunctions(et, intPoints, \"Lagrange\")\n",
    "                #h = reshape(fun, :, numIntPoints)\n",
    "                comp, dfun, ori = gmsh.model.mesh.getBasisFunctions(et, intPoints, \"GradLagrange\")\n",
    "                ∇h = reshape(dfun, :, numIntPoints)\n",
    "                nnet = zeros(Int, length(elemTags[i]), numNodes)\n",
    "                invJac = zeros(3, 3numIntPoints)\n",
    "                Iidx = zeros(Int, numNodes * pdim, numNodes * pdim)\n",
    "                Jidx = zeros(Int, numNodes * pdim, numNodes * pdim)\n",
    "                for k in 1:numNodes*pdim, l in 1:numNodes*pdim\n",
    "                    Iidx[k, l] = l\n",
    "                    Jidx[k, l] = k\n",
    "                end\n",
    "                #H = zeros(9 * numIntPoints, pdim * numNodes)\n",
    "                ∂h = zeros(dim, numNodes * numIntPoints)\n",
    "                B = zeros(rowsOfB * numIntPoints, pdim * numNodes)\n",
    "                ∂H = spzeros(9 * numIntPoints, pdim * numNodes)\n",
    "                K1 = zeros(pdim * numNodes, pdim * numNodes)\n",
    "                nn2 = zeros(Int, pdim * numNodes)\n",
    "                sizehint!(∂H, 9 * numNodes)\n",
    "                #for k in 1:numIntPoints, l in 1:numNodes\n",
    "                #    for kk in 1:3:9, ll in 1:3\n",
    "                #H[k*9-(9-kk)-1+ll, l*pdim-(pdim-ll)] = h[(k-1)*numNodes+l]\n",
    "                #    end\n",
    "                #end\n",
    "                for j in 1:length(elemTags[i])\n",
    "                    elem = elemTags[i][j]\n",
    "                    for k in 1:numNodes\n",
    "                        nnet[j, k] = elemNodeTags[i][(j-1)*numNodes+k]\n",
    "                    end\n",
    "                    for k in 1:pdim\n",
    "                        nn2[k:pdim:pdim*numNodes] = pdim * nnet[j, 1:numNodes] .- (pdim - k)\n",
    "                    end\n",
    "                    jac, jacDet, coord = gmsh.model.mesh.getJacobian(elem, intPoints)\n",
    "                    Jac = reshape(jac, 3, :)\n",
    "                    for k in 1:numIntPoints\n",
    "                        invJac[1:3, 3*k-2:3*k] = @inline inv(Jac[1:3, 3*k-2:3*k])'\n",
    "                    end\n",
    "                    ∂h .*= 0\n",
    "                    for k in 1:numIntPoints, l in 1:numNodes\n",
    "                        ∂h[1:dim, (k-1)*numNodes+l] .= invJac[1:dim, k*3-2:k*3-(3-dim)] * ∇h[l*3-2:l*3-(3-dim), k]\n",
    "                    end\n",
    "                    r1 = r[nn2]\n",
    "                    B .*= 0\n",
    "                    ∂H .*= 0\n",
    "                    if dim == 2 && rowsOfB == 3\n",
    "                        for k in 1:numIntPoints\n",
    "                            for l in 1:numNodes\n",
    "                                B[k*rowsOfB-0, l*pdim-0] = B[k*rowsOfB-2, l*pdim-1] = ∂h[1, (k-1)*numNodes+l]\n",
    "                                B[k*rowsOfB-0, l*pdim-1] = B[k*rowsOfB-1, l*pdim-0] = ∂h[2, (k-1)*numNodes+l]\n",
    "                            end\n",
    "                        end\n",
    "                    elseif dim == 3 && rowsOfB == 6\n",
    "                        for k in 1:numIntPoints\n",
    "                            for l in 1:numNodes\n",
    "                                ∂H[k*9-(9-1), l*pdim-(pdim-1)] = ∂h[1, (k-1)*numNodes+l]\n",
    "                                ∂H[k*9-(9-2), l*pdim-(pdim-1)] = ∂h[2, (k-1)*numNodes+l]\n",
    "                                ∂H[k*9-(9-3), l*pdim-(pdim-1)] = ∂h[3, (k-1)*numNodes+l]\n",
    "                                ∂H[k*9-(9-4), l*pdim-(pdim-2)] = ∂h[1, (k-1)*numNodes+l]\n",
    "                                ∂H[k*9-(9-5), l*pdim-(pdim-2)] = ∂h[2, (k-1)*numNodes+l]\n",
    "                                ∂H[k*9-(9-6), l*pdim-(pdim-2)] = ∂h[3, (k-1)*numNodes+l]\n",
    "                                ∂H[k*9-(9-7), l*pdim-(pdim-3)] = ∂h[1, (k-1)*numNodes+l]\n",
    "                                ∂H[k*9-(9-8), l*pdim-(pdim-3)] = ∂h[2, (k-1)*numNodes+l]\n",
    "                                ∂H[k*9-(9-9), l*pdim-(pdim-3)] = ∂h[3, (k-1)*numNodes+l]\n",
    "                            end\n",
    "                            ∂H1 = ∂H[k*9-(9-1):k*9, 1:pdim*numNodes]\n",
    "                            F = ∂H1 * r1\n",
    "                            for l in 1:numNodes\n",
    "                                B[k*rowsOfB-5, l*pdim-2] = F[1] * ∂h[1, (k-1)*numNodes+l]\n",
    "                                B[k*rowsOfB-4, l*pdim-2] = F[4] * ∂h[2, (k-1)*numNodes+l]\n",
    "                                B[k*rowsOfB-3, l*pdim-2] = F[7] * ∂h[3, (k-1)*numNodes+l]\n",
    "                                B[k*rowsOfB-2, l*pdim-2] = (F[4] * ∂h[1, (k-1)*numNodes+l] + F[1] * ∂h[2, (k-1)*numNodes+l]) / 2\n",
    "                                B[k*rowsOfB-1, l*pdim-2] = (F[7] * ∂h[2, (k-1)*numNodes+l] + F[4] * ∂h[3, (k-1)*numNodes+l]) / 2\n",
    "                                B[k*rowsOfB-0, l*pdim-2] = (F[1] * ∂h[3, (k-1)*numNodes+l] + F[7] * ∂h[1, (k-1)*numNodes+l]) / 2\n",
    "                                B[k*rowsOfB-5, l*pdim-1] = F[2] * ∂h[1, (k-1)*numNodes+l]\n",
    "                                B[k*rowsOfB-4, l*pdim-1] = F[5] * ∂h[2, (k-1)*numNodes+l]\n",
    "                                B[k*rowsOfB-3, l*pdim-1] = F[8] * ∂h[3, (k-1)*numNodes+l]\n",
    "                                B[k*rowsOfB-2, l*pdim-1] = (F[5] * ∂h[1, (k-1)*numNodes+l] + F[2] * ∂h[2, (k-1)*numNodes+l]) / 2\n",
    "                                B[k*rowsOfB-1, l*pdim-1] = (F[8] * ∂h[2, (k-1)*numNodes+l] + F[5] * ∂h[3, (k-1)*numNodes+l]) / 2\n",
    "                                B[k*rowsOfB-0, l*pdim-1] = (F[2] * ∂h[3, (k-1)*numNodes+l] + F[8] * ∂h[1, (k-1)*numNodes+l]) / 2\n",
    "                                B[k*rowsOfB-5, l*pdim-0] = F[3] * ∂h[1, (k-1)*numNodes+l]\n",
    "                                B[k*rowsOfB-4, l*pdim-0] = F[6] * ∂h[2, (k-1)*numNodes+l]\n",
    "                                B[k*rowsOfB-3, l*pdim-0] = F[9] * ∂h[3, (k-1)*numNodes+l]\n",
    "                                B[k*rowsOfB-2, l*pdim-0] = (F[6] * ∂h[1, (k-1)*numNodes+l] + F[3] * ∂h[2, (k-1)*numNodes+l]) / 2\n",
    "                                B[k*rowsOfB-1, l*pdim-0] = (F[9] * ∂h[2, (k-1)*numNodes+l] + F[6] * ∂h[3, (k-1)*numNodes+l]) / 2\n",
    "                                B[k*rowsOfB-0, l*pdim-0] = (F[1] * ∂h[3, (k-1)*numNodes+l] + F[9] * ∂h[1, (k-1)*numNodes+l]) / 2\n",
    "                            end\n",
    "                        end\n",
    "                    else\n",
    "                        error(\"stiffnessMatrixLinear: rows of B is $rowsOfB, dimension of the problem is $dim.\")\n",
    "                    end\n",
    "                    K1 .*= 0\n",
    "                    for k in 1:numIntPoints\n",
    "                        λ = 1\n",
    "                        μ = 2\n",
    "                        ∂H1 = ∂H[k*9-(9-1):k*9, 1:pdim*numNodes]\n",
    "                        F1 = ∂H1 * r1\n",
    "                        F2 = reshape(F1, 3, 3)\n",
    "                        J1 = det(F2)\n",
    "                        C2 = F2' * F2\n",
    "                        iC2 = inv(C2)\n",
    "                        iC1 = reshape(C2, 9, 1)\n",
    "                        iCiC1 = iC1[[1, 5, 9, 4, 6, 3]] * iC1[[1, 5, 9, 4, 6, 3]]'\n",
    "                        i1 = [1, 2, 3, 1, 2, 3]\n",
    "                        j1 = [1, 2, 3, 2, 3, 1]\n",
    "                        k1 = [1, 2, 3, 1, 2, 3]\n",
    "                        l1 = [1, 2, 3, 2, 3, 1]\n",
    "                        II1 = zeros(6, 6)\n",
    "                        for i2 in 1:6, j2 in 1:6\n",
    "                            II1[i2, j2] = (iC2[i1[i2], k1[j2]] * iC2[j1[i2], l1[j2]] + iC2[i1[i2], l1[j2]] * iC2[j1[i2], k1[j2]]) / 2\n",
    "                        end\n",
    "                        C1 = λ * iCiC1 + 2 * (μ - λ * log(J1)) * II1\n",
    "                        B1 = B[k*rowsOfB-(rowsOfB-1):k*rowsOfB, 1:pdim*numNodes]\n",
    "                        K1 += B1' * C1 * B1 * b * jacDet[k] * intWeights[k]\n",
    "                    end\n",
    "                    append!(I, nn2[Iidx[:]])\n",
    "                    append!(J, nn2[Jidx[:]])\n",
    "                    append!(V, K1[:])\n",
    "                end\n",
    "                push!(nn, nnet)\n",
    "            end\n",
    "        end\n",
    "    end\n",
    "    dof = problem.pdim * problem.non\n",
    "    K = sparse(I, J, V, dof, dof)\n",
    "    dropzeros!(K)\n",
    "    return K\n",
    "end"
   ]
  },
  {
   "cell_type": "code",
   "execution_count": 35,
   "id": "fa0e7211",
   "metadata": {},
   "outputs": [
    {
     "data": {
      "text/plain": [
       "stiffnessMatrixNonLinear (generic function with 1 method)"
      ]
     },
     "metadata": {},
     "output_type": "display_data"
    }
   ],
   "source": [
    "function stiffnessMatrixNonLinear(problem, r, S)\n",
    "    gmsh.model.setCurrent(problem.name)\n",
    "    elemTypes, elemTags, elemNodeTags = gmsh.model.mesh.getElements(problem.dim, -1)\n",
    "    lengthOfIJV = sum([(div(length(elemNodeTags[i]), length(elemTags[i])) * problem.dim)^2 * length(elemTags[i]) for i in 1:length(elemTags)])\n",
    "    nn = []\n",
    "    I = []\n",
    "    J = []\n",
    "    V = []\n",
    "    V = convert(Vector{Float64}, V)\n",
    "    sizehint!(I, lengthOfIJV)\n",
    "    sizehint!(J, lengthOfIJV)\n",
    "    sizehint!(V, lengthOfIJV)\n",
    "\n",
    "    for ipg in 1:length(problem.material)\n",
    "        phName = problem.material[ipg].phName\n",
    "        E = problem.material[ipg].E\n",
    "        ν = problem.material[ipg].ν\n",
    "        dim = problem.dim\n",
    "        pdim = problem.pdim\n",
    "        if problem.dim == 3 && problem.type == :Solid\n",
    "            rowsOfB = 6\n",
    "            b = 1\n",
    "        elseif problem.dim == 2 && problem.type == :PlaneStress\n",
    "            rowsOfB = 3\n",
    "            b = problem.thickness\n",
    "        elseif problem.dim == 2 && problem.type == :PlaneStrain\n",
    "            rowsOfB = 3\n",
    "            b = 1\n",
    "        else\n",
    "            error(\"stiffnessMatrixSolid: dimension is $(problem.dim), problem type is $(problem.type).\")\n",
    "        end\n",
    "\n",
    "        dimTags = gmsh.model.getEntitiesForPhysicalName(phName)\n",
    "        for idm in 1:length(dimTags)\n",
    "            dimTag = dimTags[idm]\n",
    "            edim = dimTag[1]\n",
    "            etag = dimTag[2]\n",
    "            elemTypes, elemTags, elemNodeTags = gmsh.model.mesh.getElements(edim, etag)\n",
    "            for i in 1:length(elemTypes)\n",
    "                et = elemTypes[i]\n",
    "                elementName, dim, order, numNodes::Int64, localNodeCoord, numPrimaryNodes = gmsh.model.mesh.getElementProperties(et)\n",
    "                intPoints, intWeights = gmsh.model.mesh.getIntegrationPoints(et, \"Gauss\" * string(2order + 1))\n",
    "                numIntPoints = length(intWeights)\n",
    "                comp, fun, ori = gmsh.model.mesh.getBasisFunctions(et, intPoints, \"Lagrange\")\n",
    "                h = reshape(fun, :, numIntPoints)\n",
    "                comp, dfun, ori = gmsh.model.mesh.getBasisFunctions(et, intPoints, \"GradLagrange\")\n",
    "                ∇h = reshape(dfun, :, numIntPoints)\n",
    "                nnet = zeros(Int, length(elemTags[i]), numNodes)\n",
    "                invJac = zeros(3, 3numIntPoints)\n",
    "                Iidx = zeros(Int, numNodes * pdim, numNodes * pdim)\n",
    "                Jidx = zeros(Int, numNodes * pdim, numNodes * pdim)\n",
    "                for k in 1:numNodes*pdim, l in 1:numNodes*pdim\n",
    "                    Iidx[k, l] = l\n",
    "                    Jidx[k, l] = k\n",
    "                end\n",
    "                H = spzeros(9 * numIntPoints, 9 * numNodes)\n",
    "                sizehint!(H, 9 * numNodes * numIntPoints)\n",
    "                ∂h = zeros(dim, numNodes * numIntPoints)\n",
    "                B = zeros(rowsOfB * numIntPoints, pdim * numNodes)\n",
    "                ∂H = spzeros(9 * numIntPoints, pdim * numNodes)\n",
    "                K1 = zeros(pdim * numNodes, pdim * numNodes)\n",
    "                nn2 = zeros(Int, dim * numNodes)\n",
    "                nn9 = zeros(Int, 9 * numNodes)\n",
    "                sizehint!(∂H, 9 * numNodes * numIntPoints)\n",
    "                for k in 1:numIntPoints, l in 1:numNodes\n",
    "                    for kk in 1:9\n",
    "                        H[k*9-(9-kk), l*9-(9-kk)] = h[(k-1)*numNodes+l]\n",
    "                    end\n",
    "                end\n",
    "                for j in 1:length(elemTags[i])\n",
    "                    elem = elemTags[i][j]\n",
    "                    for k in 1:numNodes\n",
    "                        nnet[j, k] = elemNodeTags[i][(j-1)*numNodes+k]\n",
    "                    end\n",
    "                    for k in 1:dim\n",
    "                        nn2[k:dim:dim*numNodes] = dim * nnet[j, 1:numNodes] .- (dim - k)\n",
    "                    end\n",
    "                    for k in 1:9\n",
    "                        nn9[k:9:9*numNodes] = 9 * nnet[j, 1:numNodes] .- (9 - k)\n",
    "                    end\n",
    "                    jac, jacDet, coord = gmsh.model.mesh.getJacobian(elem, intPoints)\n",
    "                    Jac = reshape(jac, 3, :)\n",
    "                    for k in 1:numIntPoints\n",
    "                        invJac[1:3, 3*k-2:3*k] = @inline inv(Jac[1:3, 3*k-2:3*k])'\n",
    "                    end\n",
    "                    ∂h .*= 0\n",
    "                    for k in 1:numIntPoints, l in 1:numNodes\n",
    "                        ∂h[1:dim, (k-1)*numNodes+l] .= invJac[1:dim, k*3-2:k*3-(3-dim)] * ∇h[l*3-2:l*3-(3-dim), k]\n",
    "                    end\n",
    "                    r1 = r[nn2]\n",
    "                    S1 = S[nn9]\n",
    "                    B .*= 0\n",
    "                    ∂H .*= 0\n",
    "                    if dim == 2 && rowsOfB == 3\n",
    "                        for k in 1:numIntPoints\n",
    "                            for l in 1:numNodes\n",
    "                                B[k*rowsOfB-0, l*pdim-0] = B[k*rowsOfB-2, l*pdim-1] = ∂h[1, (k-1)*numNodes+l]\n",
    "                                B[k*rowsOfB-0, l*pdim-1] = B[k*rowsOfB-1, l*pdim-0] = ∂h[2, (k-1)*numNodes+l]\n",
    "                            end\n",
    "                        end\n",
    "                    elseif dim == 3 && rowsOfB == 6\n",
    "                        for k in 1:numIntPoints\n",
    "                            for l in 1:numNodes\n",
    "                                ∂H[k*9-(9-1), l*pdim-(pdim-1)] = ∂h[1, (k-1)*numNodes+l]\n",
    "                                ∂H[k*9-(9-2), l*pdim-(pdim-1)] = ∂h[2, (k-1)*numNodes+l]\n",
    "                                ∂H[k*9-(9-3), l*pdim-(pdim-1)] = ∂h[3, (k-1)*numNodes+l]\n",
    "                                ∂H[k*9-(9-4), l*pdim-(pdim-2)] = ∂h[1, (k-1)*numNodes+l]\n",
    "                                ∂H[k*9-(9-5), l*pdim-(pdim-2)] = ∂h[2, (k-1)*numNodes+l]\n",
    "                                ∂H[k*9-(9-6), l*pdim-(pdim-2)] = ∂h[3, (k-1)*numNodes+l]\n",
    "                                ∂H[k*9-(9-7), l*pdim-(pdim-3)] = ∂h[1, (k-1)*numNodes+l]\n",
    "                                ∂H[k*9-(9-8), l*pdim-(pdim-3)] = ∂h[2, (k-1)*numNodes+l]\n",
    "                                ∂H[k*9-(9-9), l*pdim-(pdim-3)] = ∂h[3, (k-1)*numNodes+l]\n",
    "                            end\n",
    "                        end\n",
    "                    else\n",
    "                        error(\"stiffnessMatrixLinear: rows of B is $rowsOfB, dimension of the problem is $dim.\")\n",
    "                    end\n",
    "                    K1 .*= 0\n",
    "                    for k in 1:numIntPoints\n",
    "                        λ = 1\n",
    "                        μ = 2\n",
    "                        I3 = [1 0 0; 0 1 0; 0 0 1]\n",
    "                        H1 = H[k*9-(9-1):k*9, 1:9*numNodes]\n",
    "                        ∂H0 = ∂H[k*9-(9-1):k*9, 1:pdim*numNodes]\n",
    "                        F1 = ∂H0 * r1\n",
    "                        F2 = reshape(F1, 3, 3)\n",
    "                        J1 = det(F2)\n",
    "                        C = F2' * F2\n",
    "                        iC = inv(C)\n",
    "                        S2 = μ * (I3 - iC) + λ * log(J1) / J1 * I3\n",
    "                        S0 = reshape(H1 * S1, 3, 3)\n",
    "                        ∂H1 = ∂H[k*9-(9-1):k*9-(9-3), 1:pdim*numNodes]\n",
    "                        ∂H2 = ∂H[k*9-(9-4):k*9-(9-6), 1:pdim*numNodes]\n",
    "                        ∂H3 = ∂H[k*9-(9-7):k*9-(9-9), 1:pdim*numNodes]\n",
    "                        #K1 += (∂H1' * S0 * ∂H1 + ∂H2' * S0 * ∂H2 + ∂H3' * S0 * ∂H3) * b * jacDet[k] * intWeights[k]\n",
    "                        K1 += (∂H1' * S2 * ∂H1 + ∂H2' * S2 * ∂H2 + ∂H3' * S2 * ∂H3) * b * jacDet[k] * intWeights[k]\n",
    "                    end\n",
    "                    append!(I, nn2[Iidx[:]])\n",
    "                    append!(J, nn2[Jidx[:]])\n",
    "                    append!(V, K1[:])\n",
    "                end\n",
    "                push!(nn, nnet)\n",
    "            end\n",
    "        end\n",
    "    end\n",
    "    dof = problem.pdim * problem.non\n",
    "    K = sparse(I, J, V, dof, dof)\n",
    "    dropzeros!(K)\n",
    "    return K\n",
    "end"
   ]
  },
  {
   "cell_type": "code",
   "execution_count": 36,
   "id": "4ece681e",
   "metadata": {},
   "outputs": [
    {
     "data": {
      "text/plain": [
       "loadVectorNonLinear (generic function with 1 method)"
      ]
     },
     "metadata": {},
     "output_type": "display_data"
    }
   ],
   "source": [
    "function loadVectorNonLinear(problem, r, S)\n",
    "    gmsh.model.setCurrent(problem.name)\n",
    "    elemTypes, elemTags, elemNodeTags = gmsh.model.mesh.getElements(problem.dim, -1)\n",
    "    #lengthOfIJV = sum([(div(length(elemNodeTags[i]), length(elemTags[i])) * problem.dim)^2 * length(elemTags[i]) for i in 1:length(elemTags)])\n",
    "    #nn = []\n",
    "    #I = []\n",
    "    #J = []\n",
    "    #V = []\n",
    "    #V = convert(Vector{Float64}, V)\n",
    "    #sizehint!(I, lengthOfIJV)\n",
    "    #sizehint!(J, lengthOfIJV)\n",
    "    #sizehint!(V, lengthOfIJV)\n",
    "    f = zeros(problem.non * problem.pdim)\n",
    "\n",
    "    for ipg in 1:length(problem.material)\n",
    "        phName = problem.material[ipg].phName\n",
    "        E = problem.material[ipg].E\n",
    "        ν = problem.material[ipg].ν\n",
    "        dim = problem.dim\n",
    "        pdim = problem.pdim\n",
    "        if problem.dim == 3 && problem.type == :Solid\n",
    "            D = E / ((1 + ν) * (1 - 2ν)) * [1-ν ν ν 0 0 0;\n",
    "                ν 1-ν ν 0 0 0;\n",
    "                ν ν 1-ν 0 0 0;\n",
    "                0 0 0 (1-2ν)/2 0 0;\n",
    "                0 0 0 0 (1-2ν)/2 0;\n",
    "                0 0 0 0 0 (1-2ν)/2]\n",
    "\n",
    "            rowsOfB = 6\n",
    "            b = 1\n",
    "        elseif problem.dim == 2 && problem.type == :PlaneStress\n",
    "            D = E / (1 - ν^2) * [1 ν 0;\n",
    "                ν 1 0;\n",
    "                0 0 (1-ν)/2]\n",
    "            rowsOfB = 3\n",
    "            b = problem.thickness\n",
    "        elseif problem.dim == 2 && problem.type == :PlaneStrain\n",
    "            D = E / ((1 + ν) * (1 - 2ν)) * [1-ν ν 0;\n",
    "                ν 1-ν 0;\n",
    "                0 0 (1-2ν)/2]\n",
    "            rowsOfB = 3\n",
    "            b = 1\n",
    "        else\n",
    "            error(\"stiffnessMatrixSolid: dimension is $(problem.dim), problem type is $(problem.type).\")\n",
    "        end\n",
    "\n",
    "        dimTags = gmsh.model.getEntitiesForPhysicalName(phName)\n",
    "        for idm in 1:length(dimTags)\n",
    "            dimTag = dimTags[idm]\n",
    "            edim = dimTag[1]\n",
    "            etag = dimTag[2]\n",
    "            elemTypes, elemTags, elemNodeTags = gmsh.model.mesh.getElements(edim, etag)\n",
    "            for i in 1:length(elemTypes)\n",
    "                et = elemTypes[i]\n",
    "                elementName, dim, order, numNodes::Int64, localNodeCoord, numPrimaryNodes = gmsh.model.mesh.getElementProperties(et)\n",
    "                intPoints, intWeights = gmsh.model.mesh.getIntegrationPoints(et, \"Gauss\" * string(2order + 1))\n",
    "                numIntPoints = length(intWeights)\n",
    "                comp, fun, ori = gmsh.model.mesh.getBasisFunctions(et, intPoints, \"Lagrange\")\n",
    "                h = reshape(fun, :, numIntPoints)\n",
    "                comp, dfun, ori = gmsh.model.mesh.getBasisFunctions(et, intPoints, \"GradLagrange\")\n",
    "                ∇h = reshape(dfun, :, numIntPoints)\n",
    "                nnet = zeros(Int, length(elemTags[i]), numNodes)\n",
    "                invJac = zeros(3, 3numIntPoints)\n",
    "                Iidx = zeros(Int, numNodes * pdim, numNodes * pdim)\n",
    "                Jidx = zeros(Int, numNodes * pdim, numNodes * pdim)\n",
    "                for k in 1:numNodes*pdim, l in 1:numNodes*pdim\n",
    "                    Iidx[k, l] = l\n",
    "                    Jidx[k, l] = k\n",
    "                end\n",
    "                H = spzeros(9 * numIntPoints, 9 * numNodes)\n",
    "                sizehint!(H, 9 * numNodes * numIntPoints)\n",
    "                ∂h = zeros(dim, numNodes * numIntPoints)\n",
    "                B = zeros(rowsOfB * numIntPoints, pdim * numNodes)\n",
    "                ∂H = spzeros(9 * numIntPoints, pdim * numNodes)\n",
    "                f1 = zeros(pdim * numNodes)\n",
    "                nn2 = zeros(Int, pdim * numNodes)\n",
    "                nn9 = zeros(Int, 9 * numNodes)\n",
    "                sizehint!(∂H, 9 * numNodes * numIntPoints)\n",
    "                #for k in 1:numIntPoints, l in 1:numNodes\n",
    "                #    for kk in 1:3:9, ll in 1:3\n",
    "                #H[k*9-(9-kk)-1+ll, l*pdim-(pdim-ll)] = h[(k-1)*numNodes+l]\n",
    "                #    end\n",
    "                #end\n",
    "                for j in 1:length(elemTags[i])\n",
    "                    elem = elemTags[i][j]\n",
    "                    for k in 1:numNodes\n",
    "                        nnet[j, k] = elemNodeTags[i][(j-1)*numNodes+k]\n",
    "                    end\n",
    "                    for k in 1:pdim\n",
    "                        nn2[k:pdim:pdim*numNodes] = pdim * nnet[j, 1:numNodes] .- (pdim - k)\n",
    "                    end\n",
    "                    for k in 1:9\n",
    "                        nn9[k:9:9*numNodes] = 9 * nnet[j, 1:numNodes] .- (9 - k)\n",
    "                    end\n",
    "                    jac, jacDet, coord = gmsh.model.mesh.getJacobian(elem, intPoints)\n",
    "                    Jac = reshape(jac, 3, :)\n",
    "                    for k in 1:numIntPoints\n",
    "                        invJac[1:3, 3*k-2:3*k] = @inline inv(Jac[1:3, 3*k-2:3*k])'\n",
    "                    end\n",
    "                    ∂h .*= 0\n",
    "                    for k in 1:numIntPoints, l in 1:numNodes\n",
    "                        ∂h[1:dim, (k-1)*numNodes+l] .= invJac[1:dim, k*3-2:k*3-(3-dim)] * ∇h[l*3-2:l*3-(3-dim), k]\n",
    "                    end\n",
    "                    r1 = r[nn2]\n",
    "                    S1 = S[nn9]\n",
    "                    B .*= 0\n",
    "                    ∂H .*= 0\n",
    "                    if dim == 2 && rowsOfB == 3\n",
    "                        for k in 1:numIntPoints\n",
    "                            for l in 1:numNodes\n",
    "                                B[k*rowsOfB-0, l*pdim-0] = B[k*rowsOfB-2, l*pdim-1] = ∂h[1, (k-1)*numNodes+l]\n",
    "                                B[k*rowsOfB-0, l*pdim-1] = B[k*rowsOfB-1, l*pdim-0] = ∂h[2, (k-1)*numNodes+l]\n",
    "                            end\n",
    "                        end\n",
    "                    elseif dim == 3 && rowsOfB == 6\n",
    "                        for k in 1:numIntPoints\n",
    "                            for l in 1:numNodes\n",
    "                                ∂H[k*9-(9-1), l*pdim-(pdim-1)] = ∂h[1, (k-1)*numNodes+l]\n",
    "                                ∂H[k*9-(9-2), l*pdim-(pdim-1)] = ∂h[2, (k-1)*numNodes+l]\n",
    "                                ∂H[k*9-(9-3), l*pdim-(pdim-1)] = ∂h[3, (k-1)*numNodes+l]\n",
    "                                ∂H[k*9-(9-4), l*pdim-(pdim-2)] = ∂h[1, (k-1)*numNodes+l]\n",
    "                                ∂H[k*9-(9-5), l*pdim-(pdim-2)] = ∂h[2, (k-1)*numNodes+l]\n",
    "                                ∂H[k*9-(9-6), l*pdim-(pdim-2)] = ∂h[3, (k-1)*numNodes+l]\n",
    "                                ∂H[k*9-(9-7), l*pdim-(pdim-3)] = ∂h[1, (k-1)*numNodes+l]\n",
    "                                ∂H[k*9-(9-8), l*pdim-(pdim-3)] = ∂h[2, (k-1)*numNodes+l]\n",
    "                                ∂H[k*9-(9-9), l*pdim-(pdim-3)] = ∂h[3, (k-1)*numNodes+l]\n",
    "                            end\n",
    "                            ∂H1 = ∂H[k*9-(9-1):k*9, 1:pdim*numNodes]\n",
    "                            F = ∂H1 * r1\n",
    "                            for l in 1:numNodes\n",
    "                                B[k*rowsOfB-5, l*pdim-2] = F[1] * ∂h[1, (k-1)*numNodes+l]\n",
    "                                B[k*rowsOfB-4, l*pdim-2] = F[4] * ∂h[2, (k-1)*numNodes+l]\n",
    "                                B[k*rowsOfB-3, l*pdim-2] = F[7] * ∂h[3, (k-1)*numNodes+l]\n",
    "                                B[k*rowsOfB-2, l*pdim-2] = (F[4] * ∂h[1, (k-1)*numNodes+l] + F[1] * ∂h[2, (k-1)*numNodes+l]) / 2\n",
    "                                B[k*rowsOfB-1, l*pdim-2] = (F[7] * ∂h[2, (k-1)*numNodes+l] + F[4] * ∂h[3, (k-1)*numNodes+l]) / 2\n",
    "                                B[k*rowsOfB-0, l*pdim-2] = (F[1] * ∂h[3, (k-1)*numNodes+l] + F[7] * ∂h[1, (k-1)*numNodes+l]) / 2\n",
    "                                B[k*rowsOfB-5, l*pdim-1] = F[2] * ∂h[1, (k-1)*numNodes+l]\n",
    "                                B[k*rowsOfB-4, l*pdim-1] = F[5] * ∂h[2, (k-1)*numNodes+l]\n",
    "                                B[k*rowsOfB-3, l*pdim-1] = F[8] * ∂h[3, (k-1)*numNodes+l]\n",
    "                                B[k*rowsOfB-2, l*pdim-1] = (F[5] * ∂h[1, (k-1)*numNodes+l] + F[2] * ∂h[2, (k-1)*numNodes+l]) / 2\n",
    "                                B[k*rowsOfB-1, l*pdim-1] = (F[8] * ∂h[2, (k-1)*numNodes+l] + F[5] * ∂h[3, (k-1)*numNodes+l]) / 2\n",
    "                                B[k*rowsOfB-0, l*pdim-1] = (F[2] * ∂h[3, (k-1)*numNodes+l] + F[8] * ∂h[1, (k-1)*numNodes+l]) / 2\n",
    "                                B[k*rowsOfB-5, l*pdim-0] = F[3] * ∂h[1, (k-1)*numNodes+l]\n",
    "                                B[k*rowsOfB-4, l*pdim-0] = F[6] * ∂h[2, (k-1)*numNodes+l]\n",
    "                                B[k*rowsOfB-3, l*pdim-0] = F[9] * ∂h[3, (k-1)*numNodes+l]\n",
    "                                B[k*rowsOfB-2, l*pdim-0] = (F[6] * ∂h[1, (k-1)*numNodes+l] + F[3] * ∂h[2, (k-1)*numNodes+l]) / 2\n",
    "                                B[k*rowsOfB-1, l*pdim-0] = (F[9] * ∂h[2, (k-1)*numNodes+l] + F[6] * ∂h[3, (k-1)*numNodes+l]) / 2\n",
    "                                B[k*rowsOfB-0, l*pdim-0] = (F[1] * ∂h[3, (k-1)*numNodes+l] + F[9] * ∂h[1, (k-1)*numNodes+l]) / 2\n",
    "                            end\n",
    "                        end\n",
    "                    else\n",
    "                        error(\"stiffnessMatrixLinear: rows of B is $rowsOfB, dimension of the problem is $dim.\")\n",
    "                    end\n",
    "                    f1 .*= 0\n",
    "                    for k in 1:numIntPoints\n",
    "                        H1 = H[k*9-(9-1):k*9, 1:9*numNodes]\n",
    "                        S0 = H1 * S1\n",
    "                        B1 = B[k*rowsOfB-(rowsOfB-1):k*rowsOfB, 1:pdim*numNodes]\n",
    "                        f1 += B1' * S0[[1, 5, 9, 4, 6, 3]] * b * jacDet[k] * intWeights[k]\n",
    "                    end\n",
    "                    #append!(I, nn2[Iidx[:]])\n",
    "                    #append!(J, nn2[Jidx[:]])\n",
    "                    #append!(V, K1[:])\n",
    "                end\n",
    "                #push!(nn, nnet)\n",
    "                f[nn2] += f1\n",
    "            end\n",
    "        end\n",
    "    end\n",
    "    #dof = problem.pdim * problem.non\n",
    "    #K = sparse(I, J, V, dof, dof)\n",
    "    #dropzeros!(K)\n",
    "    return f\n",
    "end"
   ]
  },
  {
   "cell_type": "code",
   "execution_count": 37,
   "id": "33177e41",
   "metadata": {},
   "outputs": [
    {
     "data": {
      "text/plain": [
       "deformationGradient (generic function with 1 method)"
      ]
     },
     "metadata": {},
     "output_type": "display_data"
    }
   ],
   "source": [
    "function deformationGradient(problem, r)\n",
    "    gmsh.model.setCurrent(problem.name)\n",
    "\n",
    "    type = :F\n",
    "    nsteps = size(r, 2)\n",
    "    F = []\n",
    "    numElem = Int[]\n",
    "    ncoord2 = zeros(3 * problem.non)\n",
    "    dim = problem.dim\n",
    "    pdim = problem.pdim\n",
    "    non = problem.non\n",
    "\n",
    "    for ipg in 1:length(problem.material)\n",
    "        phName = problem.material[ipg].phName\n",
    "        dim = problem.dim\n",
    "        pdim = problem.pdim\n",
    "        if problem.dim != 3 || problem.type != :Solid\n",
    "            error(\"deformationGradient: dimension is $(problem.dim), problem type is $(problem.type). (They must be 3 and :Solid.)\")\n",
    "        end\n",
    "\n",
    "        dimTags = gmsh.model.getEntitiesForPhysicalName(phName)\n",
    "        for idm in 1:length(dimTags)\n",
    "            dimTag = dimTags[idm]\n",
    "            edim = dimTag[1]\n",
    "            etag = dimTag[2]\n",
    "            elemTypes, elemTags, elemNodeTags = gmsh.model.mesh.getElements(edim, etag)\n",
    "            for i in 1:length(elemTypes)\n",
    "                et = elemTypes[i]\n",
    "                elementName, dim, order, numNodes::Int64, localNodeCoord, numPrimaryNodes = gmsh.model.mesh.getElementProperties(et)\n",
    "                nodeCoord = zeros(numNodes * 3)\n",
    "                for k in 1:dim, j = 1:numNodes\n",
    "                    nodeCoord[k+(j-1)*3] = localNodeCoord[k+(j-1)*dim]\n",
    "                end\n",
    "                comp, dfun, ori = gmsh.model.mesh.getBasisFunctions(et, nodeCoord, \"GradLagrange\")\n",
    "                ∇h = reshape(dfun, :, numNodes)\n",
    "                nnet = zeros(Int, length(elemTags[i]), numNodes)\n",
    "                invJac = zeros(3, 3numNodes)\n",
    "                ∂h = zeros(dim, numNodes * numNodes)\n",
    "                ∂H = spzeros(9 * numNodes, pdim * numNodes)\n",
    "                nn2 = zeros(Int, pdim * numNodes)\n",
    "                sizehint!(∂H, 9 * numNodes)\n",
    "                for j in 1:length(elemTags[i])\n",
    "                    elem = elemTags[i][j]\n",
    "                    for k in 1:numNodes\n",
    "                        nnet[j, k] = elemNodeTags[i][(j-1)*numNodes+k]\n",
    "                    end\n",
    "                    for k in 1:pdim\n",
    "                        nn2[k:pdim:pdim*numNodes] = pdim * nnet[j, 1:numNodes] .- (pdim - k)\n",
    "                    end\n",
    "                    jac, jacDet, coord = gmsh.model.mesh.getJacobian(elem, nodeCoord)\n",
    "                    Jac = reshape(jac, 3, :)\n",
    "                    for k in 1:numNodes\n",
    "                        invJac[1:3, 3*k-2:3*k] = @inline inv(Jac[1:3, 3*k-2:3*k])'\n",
    "                    end\n",
    "                    ∂h .*= 0\n",
    "                    for k in 1:numNodes, l in 1:numNodes\n",
    "                        ∂h[1:dim, (k-1)*numNodes+l] .= invJac[1:dim, k*3-2:k*3-(3-dim)] * ∇h[l*3-2:l*3-(3-dim), k]\n",
    "                    end\n",
    "                    r1 = r[nn2]\n",
    "                    ∂H .*= 0\n",
    "                    for k in 1:numNodes\n",
    "                        for l in 1:numNodes\n",
    "                            ∂H[k*9-(9-1), l*pdim-(pdim-1)] = ∂h[1, (k-1)*numNodes+l]\n",
    "                            ∂H[k*9-(9-2), l*pdim-(pdim-1)] = ∂h[2, (k-1)*numNodes+l]\n",
    "                            ∂H[k*9-(9-3), l*pdim-(pdim-1)] = ∂h[3, (k-1)*numNodes+l]\n",
    "                            ∂H[k*9-(9-4), l*pdim-(pdim-2)] = ∂h[1, (k-1)*numNodes+l]\n",
    "                            ∂H[k*9-(9-5), l*pdim-(pdim-2)] = ∂h[2, (k-1)*numNodes+l]\n",
    "                            ∂H[k*9-(9-6), l*pdim-(pdim-2)] = ∂h[3, (k-1)*numNodes+l]\n",
    "                            ∂H[k*9-(9-7), l*pdim-(pdim-3)] = ∂h[1, (k-1)*numNodes+l]\n",
    "                            ∂H[k*9-(9-8), l*pdim-(pdim-3)] = ∂h[2, (k-1)*numNodes+l]\n",
    "                            ∂H[k*9-(9-9), l*pdim-(pdim-3)] = ∂h[3, (k-1)*numNodes+l]\n",
    "                        end\n",
    "                    end\n",
    "                    push!(numElem, elem)\n",
    "                    F1 = zeros(9numNodes, nsteps)\n",
    "                    for k in 1:numNodes\n",
    "                        ∂H1 = ∂H[k*9-(9-1):k*9, 1:pdim*numNodes]\n",
    "                        for kk in 1:nsteps\n",
    "                            F0 = ∂H1 * r[nn2, kk]\n",
    "                            F1[(k-1)*9+1:k*9, kk] = [F0[1], F0[4], F0[7],\n",
    "                                F0[2], F0[5], F0[8],\n",
    "                                F0[3], F0[6], F0[9]]\n",
    "                        end\n",
    "                    end\n",
    "                    push!(F, F1)\n",
    "                end\n",
    "            end\n",
    "        end\n",
    "    end\n",
    "    sigma = FEM.TensorField(F, numElem, nsteps, type)\n",
    "    return sigma\n",
    "end"
   ]
  },
  {
   "cell_type": "code",
   "execution_count": 38,
   "id": "d3386bd0",
   "metadata": {},
   "outputs": [
    {
     "data": {
      "text/plain": [
       "sqrt (generic function with 20 methods)"
      ]
     },
     "metadata": {},
     "output_type": "display_data"
    }
   ],
   "source": [
    "import Base.*\n",
    "function *(A::FEM.TensorField, B::FEM.TensorField)\n",
    "    if (A.type == :s || A.type == :e || A.type == :F) && (B.type == :s || B.type == :e || B.type == :F)\n",
    "        if length(A.A) != length(B.A)\n",
    "            error(\"*(A::TensoeField, B::TensorField): size of A=$(length(A.A)) != size of B=$(length(B.A))\")\n",
    "        end\n",
    "        nsteps = A.nsteps\n",
    "        nsteps2 = B.nsteps\n",
    "        if nsteps != nsteps2\n",
    "            error(\"*(A::TensoeField, B::TensorField): nsteps of A=$(A.nsteps) != nsteps of B=$(B.nsteps)\")\n",
    "        end\n",
    "        C = []\n",
    "        for i in 1:length(A.A)\n",
    "            n = length(A.A[i]) ÷ 9\n",
    "            m = length(B.A[i]) ÷ 9\n",
    "            if n != m\n",
    "                error(\"*(A::TensoeField, B::TensorField): size of A.A[$i]=$(9n) != size of B.A[$j]=$(9m)\")\n",
    "            end\n",
    "            D = zeros(9n, nsteps)\n",
    "            for j in 1:n\n",
    "                for k in 1:nsteps\n",
    "                    D[9j-8:9j, k] = reshape(reshape(A.A[i][9j-8:9j, k], 3, 3) * reshape(B.A[i][9j-8:9j, k], 3, 3), 9, 1)\n",
    "                end\n",
    "            end\n",
    "            push!(C, D)\n",
    "        end\n",
    "        return FEM.TensorField(C, A.numElem, A.nsteps, :e)\n",
    "    else\n",
    "        error(\"*(A::TensorField, B::TensorField): TensorField type ($(A.type) or $(B.type)) is not yet implemented.\")\n",
    "    end\n",
    "end\n",
    "\n",
    "import Base.transpose\n",
    "function transpose(A::FEM.TensorField)\n",
    "    if A.type == :s || A.type == :e || A.type == :F\n",
    "        nsteps = A.nsteps\n",
    "        C = []\n",
    "        for i in 1:length(A.A)\n",
    "            n = length(A.A[i]) ÷ 9\n",
    "            D = zeros(9n, nsteps)\n",
    "            for j in 1:n\n",
    "                for k in 1:nsteps\n",
    "                    D[9j-8:9j, k] = reshape(transpose(reshape(A.A[i][9j-8:9j, k], 3, 3)), 9, 1)\n",
    "                end\n",
    "            end\n",
    "            push!(C, D)\n",
    "        end\n",
    "        return FEM.TensorField(C, A.numElem, A.nsteps, :e)\n",
    "    else\n",
    "        error(\"transpose(A::TensorField): TensorField type ($(A.type)) is not yet implemented.\")\n",
    "    end\n",
    "end\n",
    "\n",
    "import Base.adjoint\n",
    "function adjoint(A::FEM.TensorField)\n",
    "    if A.type == :s || A.type == :e || A.type == :F\n",
    "        nsteps = A.nsteps\n",
    "        C = []\n",
    "        for i in 1:length(A.A)\n",
    "            n = length(A.A[i]) ÷ 9\n",
    "            D = zeros(9n, nsteps)\n",
    "            for j in 1:n\n",
    "                for k in 1:nsteps\n",
    "                    D[9j-8:9j, k] = reshape(adjoint(reshape(A.A[i][9j-8:9j, k], 3, 3)), 9, 1)\n",
    "                end\n",
    "            end\n",
    "            push!(C, D)\n",
    "        end\n",
    "        return FEM.TensorField(C, A.numElem, A.nsteps, :e)\n",
    "    else\n",
    "        error(\"adjoint(A::TensorField): TensorField type ($(A.type)) is not yet implemented.\")\n",
    "    end\n",
    "end\n",
    "\n",
    "function unit(A::FEM.TensorField)\n",
    "    if A.type == :s || A.type == :e || A.type == :F\n",
    "        nsteps = A.nsteps\n",
    "        C = []\n",
    "        for i in 1:length(A.A)\n",
    "            n = length(A.A[i]) ÷ 9\n",
    "            D = zeros(9n, nsteps)\n",
    "            for j in 1:n\n",
    "                for k in 1:nsteps\n",
    "                    D[9j-8:9j, k] = reshape([1 0 0; 0 1 0; 0 0 1], 9, 1)\n",
    "                end\n",
    "            end\n",
    "            push!(C, D)\n",
    "        end\n",
    "        return FEM.TensorField(C, A.numElem, A.nsteps, :e)\n",
    "    else\n",
    "        error(\"unit(A::TensorField): TensorField type ($(A.type) is not yet implemented.\")\n",
    "    end\n",
    "end\n",
    "\n",
    "function traceI(A::FEM.TensorField)\n",
    "    if A.type == :s || A.type == :e || A.type == :F\n",
    "        nsteps = A.nsteps\n",
    "        C = []\n",
    "        for i in 1:length(A.A)\n",
    "            n = length(A.A[i]) ÷ 9\n",
    "            D = zeros(9n, nsteps)\n",
    "            for j in 1:n\n",
    "                for k in 1:nsteps\n",
    "                    trace = A.A[i][9j-8, k] + A.A[i][9j-4, k] + A.A[i][9j, k]\n",
    "                    D[9j-8:9j, k] = reshape([trace 0 0; 0 trace 0; 0 0 trace], 9, 1)\n",
    "                end\n",
    "            end\n",
    "            push!(C, D)\n",
    "        end\n",
    "        return FEM.TensorField(C, A.numElem, A.nsteps, :e)\n",
    "    else\n",
    "        error(\"unit(A::TensorField): TensorField type ($(A.type) is not yet implemented.\")\n",
    "    end\n",
    "end\n",
    "\n",
    "import Base.+\n",
    "function +(A::FEM.TensorField, B::FEM.TensorField)\n",
    "    if (A.type == :s || A.type == :e || A.type == :F) && (B.type == :s || B.type == :e || B.type == :F)\n",
    "        if length(A.A) != length(B.A)\n",
    "            error(\"+(A::TensoeField, B::TensorField): size of A=$(length(A.A)) != size of B=$(length(B.A))\")\n",
    "        end\n",
    "        nsteps = A.nsteps\n",
    "        nsteps2 = B.nsteps\n",
    "        if nsteps != nsteps2\n",
    "            error(\"*(A::TensoeField, B::TensorField): nsteps of A=$(A.nsteps) != nsteps of B=$(B.nsteps)\")\n",
    "        end\n",
    "        C = []\n",
    "        for i in 1:length(A.A)\n",
    "            n = length(A.A[i]) ÷ 9\n",
    "            m = length(B.A[i]) ÷ 9\n",
    "            if n != m\n",
    "                error(\"+(A::TensoeField, B::TensorField): size of A.A[$i]=$(9n) != size of B.A[$j]=$(9m)\")\n",
    "            end\n",
    "            D = A.A[i] + B.A[i]\n",
    "            push!(C, D)\n",
    "        end\n",
    "        return FEM.TensorField(C, A.numElem, A.nsteps, :e)\n",
    "    else\n",
    "        error(\"+(A::TensorField, B::TensorField): TensorField type ($(A.type) or $(B.type)) is not yet implemented.\")\n",
    "    end\n",
    "end\n",
    "\n",
    "import Base.-\n",
    "function -(A::FEM.TensorField, B::FEM.TensorField)\n",
    "    if (A.type == :s || A.type == :e || A.type == :F) && (B.type == :s || B.type == :e || B.type == :F)\n",
    "        if length(A.A) != length(B.A)\n",
    "            error(\"-(A::TensoeField, B::TensorField): size of A=$(length(A.A)) != size of B=$(length(B.A))\")\n",
    "        end\n",
    "        nsteps = A.nsteps\n",
    "        nsteps2 = B.nsteps\n",
    "        if nsteps != nsteps2\n",
    "            error(\"*(A::TensoeField, B::TensorField): nsteps of A=$(A.nsteps) != nsteps of B=$(B.nsteps)\")\n",
    "        end\n",
    "        C = []\n",
    "        for i in 1:length(A.A)\n",
    "            n = length(A.A[i]) ÷ 9\n",
    "            m = length(B.A[i]) ÷ 9\n",
    "            if n != m\n",
    "                error(\"-(A::TensoeField, B::TensorField): size of A.A[$i]=$(9n) != size of B.A[$j]=$(9m)\")\n",
    "            end\n",
    "            D = A.A[i] - B.A[i]\n",
    "            push!(C, D)\n",
    "        end\n",
    "        return FEM.TensorField(C, A.numElem, A.nsteps, :e)\n",
    "    else\n",
    "        error(\"-(A::TensorField, B::TensorField): TensorField type ($(A.type) or $(B.type)) is not yet implemented.\")\n",
    "    end\n",
    "end\n",
    "\n",
    "function *(A::FEM.TensorField, b)\n",
    "    if A.type == :s || A.type == :e || A.type == :F\n",
    "        nsteps = A.nsteps\n",
    "        C = []\n",
    "        for i in 1:length(A.A)\n",
    "            D = A.A[i] * b\n",
    "            push!(C, D)\n",
    "        end\n",
    "        return FEM.TensorField(C, A.numElem, A.nsteps, :e)\n",
    "    else\n",
    "        error(\"*(A::TensorField, b): TensorField type ($(A.type) or $(B.type)) is not yet implemented.\")\n",
    "    end\n",
    "end\n",
    "\n",
    "function *(b, A::FEM.TensorField)\n",
    "    if A.type == :s || A.type == :e || A.type == :F\n",
    "        nsteps = A.nsteps\n",
    "        C = []\n",
    "        for i in 1:length(A.A)\n",
    "            D = A.A[i] * b\n",
    "            push!(C, D)\n",
    "        end\n",
    "        return FEM.TensorField(C, A.numElem, A.nsteps, :e)\n",
    "    else\n",
    "        error(\"*(A::TensorField, b): TensorField type ($(A.type) or $(B.type)) is not yet implemented.\")\n",
    "    end\n",
    "end\n",
    "\n",
    "import Base./\n",
    "function /(A::FEM.TensorField, b)\n",
    "    if A.type == :s || A.type == :e || A.type == :F\n",
    "        nsteps = A.nsteps\n",
    "        C = []\n",
    "        for i in 1:length(A.A)\n",
    "            D = A.A[i] / b\n",
    "            push!(C, D)\n",
    "        end\n",
    "        return FEM.TensorField(C, A.numElem, A.nsteps, :e)\n",
    "    else\n",
    "        error(\"/(A::TensorField, b): TensorField type ($(A.type) or $(B.type)) is not yet implemented.\")\n",
    "    end\n",
    "end\n",
    "\n",
    "import Base.inv\n",
    "function inv(A::FEM.TensorField)\n",
    "    if A.type == :s || A.type == :e || A.type == :F\n",
    "        nsteps = A.nsteps\n",
    "        C = []\n",
    "        for i in 1:length(A.A)\n",
    "            n = length(A.A[i]) ÷ 9\n",
    "            D = zeros(9n, nsteps)\n",
    "            for j in 1:n\n",
    "                for k in 1:nsteps\n",
    "                    D[9j-8:9j, k] = reshape(inv(reshape(A.A[i][9j-8:9j, k], 3, 3)), 9, 1)\n",
    "                end\n",
    "            end\n",
    "            push!(C, D)\n",
    "        end\n",
    "        return FEM.TensorField(C, A.numElem, A.nsteps, :e)\n",
    "    else\n",
    "        error(\"adjoint(A::TensorField): TensorField type ($(A.type)) is not yet implemented.\")\n",
    "    end\n",
    "end\n",
    "\n",
    "import Base.sqrt\n",
    "function sqrt(A::FEM.TensorField)\n",
    "    if A.type == :s || A.type == :e || A.type == :F\n",
    "        nsteps = A.nsteps\n",
    "        C = []\n",
    "        for i in 1:length(A.A)\n",
    "            n = length(A.A[i]) ÷ 9\n",
    "            D = zeros(9n, nsteps)\n",
    "            for j in 1:n\n",
    "                for k in 1:nsteps\n",
    "                    D[9j-8:9j, k] = reshape(sqrt(reshape(A.A[i][9j-8:9j, k], 3, 3)), 9, 1)\n",
    "                end\n",
    "            end\n",
    "            push!(C, D)\n",
    "        end\n",
    "        return FEM.TensorField(C, A.numElem, A.nsteps, :e)\n",
    "    else\n",
    "        error(\"adjoint(A::TensorField): TensorField type ($(A.type)) is not yet implemented.\")\n",
    "    end\n",
    "end\n"
   ]
  },
  {
   "cell_type": "code",
   "execution_count": 39,
   "id": "c2a10dc9",
   "metadata": {},
   "outputs": [],
   "source": [
    "fx(x, y, z) = 1000 * (y - 0.5)\n",
    "supp1 = FEM.displacementConstraint(\"left\", ux=0)\n",
    "supp2 = FEM.displacementConstraint(\"bottom\", uy=0)\n",
    "supp3 = FEM.displacementConstraint(\"front\", uz=0)\n",
    "#load = FEM.load(\"right\", fx=1)\n",
    "load = FEM.load(\"body\", fx=1)\n",
    "\n",
    "q = FEM.solveDisplacement(problem, [load], [supp1, supp2, supp3])\n",
    "S = FEM.solveStress(problem, q)\n",
    "S = FEM.elementsToNodes(problem, S);"
   ]
  },
  {
   "cell_type": "code",
   "execution_count": 40,
   "id": "dca18561",
   "metadata": {},
   "outputs": [
    {
     "data": {
      "text/plain": [
       "24×24 SparseMatrixCSC{Float64, Int64} with 576 stored entries:\n",
       "⎡⣿⣿⣿⣿⣿⣿⣿⣿⣿⣿⣿⣿⎤\n",
       "⎢⣿⣿⣿⣿⣿⣿⣿⣿⣿⣿⣿⣿⎥\n",
       "⎢⣿⣿⣿⣿⣿⣿⣿⣿⣿⣿⣿⣿⎥\n",
       "⎢⣿⣿⣿⣿⣿⣿⣿⣿⣿⣿⣿⣿⎥\n",
       "⎢⣿⣿⣿⣿⣿⣿⣿⣿⣿⣿⣿⣿⎥\n",
       "⎣⣿⣿⣿⣿⣿⣿⣿⣿⣿⣿⣿⣿⎦"
      ]
     },
     "metadata": {},
     "output_type": "display_data"
    }
   ],
   "source": [
    "Kl = stiffnessMatrixLinear(problem, r)"
   ]
  },
  {
   "cell_type": "code",
   "execution_count": 41,
   "id": "124addc4",
   "metadata": {},
   "outputs": [
    {
     "ename": "MethodError",
     "evalue": "MethodError: no method matching stiffnessMatrixNonLinear(::LowLevelFEM.Problem, ::Matrix{Float64})\nThe function `stiffnessMatrixNonLinear` exists, but no method is defined for this combination of argument types.\n\nClosest candidates are:\n  stiffnessMatrixNonLinear(::Any, ::Any, !Matched::Any)\n   @ Main ~/Dokumentumok/GitHub/LowLevelFEM.jl/examples/Large_deformations/jl_notebook_cell_df34fa98e69747e1a8f8a730347b8e2f_W6sZmlsZQ==.jl:1\n",
     "output_type": "error",
     "traceback": [
      "MethodError: no method matching stiffnessMatrixNonLinear(::LowLevelFEM.Problem, ::Matrix{Float64})\n",
      "The function `stiffnessMatrixNonLinear` exists, but no method is defined for this combination of argument types.\n",
      "\n",
      "Closest candidates are:\n",
      "  stiffnessMatrixNonLinear(::Any, ::Any, !Matched::Any)\n",
      "   @ Main ~/Dokumentumok/GitHub/LowLevelFEM.jl/examples/Large_deformations/jl_notebook_cell_df34fa98e69747e1a8f8a730347b8e2f_W6sZmlsZQ==.jl:1\n",
      "\n",
      "\n",
      "Stacktrace:\n",
      " [1] top-level scope\n",
      "   @ ~/Dokumentumok/GitHub/LowLevelFEM.jl/examples/Large_deformations/jl_notebook_cell_df34fa98e69747e1a8f8a730347b8e2f_X15sZmlsZQ==.jl:1"
     ]
    }
   ],
   "source": [
    "Knl = stiffnessMatrixNonLinear(problem, S)"
   ]
  },
  {
   "cell_type": "code",
   "execution_count": 42,
   "id": "92ddf343",
   "metadata": {},
   "outputs": [
    {
     "data": {
      "text/plain": [
       "24×24 SparseMatrixCSC{Float64, Int64} with 576 stored entries:\n",
       "⎡⣿⣿⣿⣿⣿⣿⣿⣿⣿⣿⣿⣿⎤\n",
       "⎢⣿⣿⣿⣿⣿⣿⣿⣿⣿⣿⣿⣿⎥\n",
       "⎢⣿⣿⣿⣿⣿⣿⣿⣿⣿⣿⣿⣿⎥\n",
       "⎢⣿⣿⣿⣿⣿⣿⣿⣿⣿⣿⣿⣿⎥\n",
       "⎢⣿⣿⣿⣿⣿⣿⣿⣿⣿⣿⣿⣿⎥\n",
       "⎣⣿⣿⣿⣿⣿⣿⣿⣿⣿⣿⣿⣿⎦"
      ]
     },
     "metadata": {},
     "output_type": "display_data"
    }
   ],
   "source": [
    "K = FEM.stiffnessMatrix(problem)"
   ]
  },
  {
   "cell_type": "code",
   "execution_count": 43,
   "id": "81abd98e",
   "metadata": {},
   "outputs": [
    {
     "data": {
      "text/plain": [
       "24-element Vector{Float64}:\n",
       " 0.0\n",
       " 0.0\n",
       " 0.0\n",
       " 0.0\n",
       " 0.0\n",
       " 0.0\n",
       " 0.0\n",
       " 0.0\n",
       " 0.0\n",
       " 0.0\n",
       " ⋮\n",
       " 0.0\n",
       " 0.0\n",
       " 0.0\n",
       " 0.0\n",
       " 0.0\n",
       " 0.0\n",
       " 0.0\n",
       " 0.0\n",
       " 0.0"
      ]
     },
     "metadata": {},
     "output_type": "display_data"
    }
   ],
   "source": [
    "fnl = loadVectorNonLinear(problem, r, S)"
   ]
  },
  {
   "cell_type": "code",
   "execution_count": null,
   "id": "02d09772",
   "metadata": {},
   "outputs": [
    {
     "data": {
      "text/plain": [
       "\"1: |q| = 0.5669172474460954\""
      ]
     },
     "metadata": {},
     "output_type": "display_data"
    },
    {
     "data": {
      "text/plain": [
       "\"2: |q| = 0.5872940665598712\""
      ]
     },
     "metadata": {},
     "output_type": "display_data"
    },
    {
     "data": {
      "text/plain": [
       "\"3: |q| = 0.5504703724326858\""
      ]
     },
     "metadata": {},
     "output_type": "display_data"
    },
    {
     "data": {
      "text/plain": [
       "\"4: |q| = 0.48106218479311946\""
      ]
     },
     "metadata": {},
     "output_type": "display_data"
    },
    {
     "data": {
      "text/plain": [
       "\"5: |q| = 0.4099174085178323\""
      ]
     },
     "metadata": {},
     "output_type": "display_data"
    },
    {
     "data": {
      "text/plain": [
       "\"6: |q| = 0.34992024367521424\""
      ]
     },
     "metadata": {},
     "output_type": "display_data"
    },
    {
     "data": {
      "text/plain": [
       "\"7: |q| = 0.30221035817740627\""
      ]
     },
     "metadata": {},
     "output_type": "display_data"
    },
    {
     "data": {
      "text/plain": [
       "\"8: |q| = 0.2645767842920187\""
      ]
     },
     "metadata": {},
     "output_type": "display_data"
    },
    {
     "data": {
      "text/plain": [
       "\"9: |q| = 0.23460651040537459\""
      ]
     },
     "metadata": {},
     "output_type": "display_data"
    },
    {
     "data": {
      "text/plain": [
       "\"10: |q| = 0.21038259546850688\""
      ]
     },
     "metadata": {},
     "output_type": "display_data"
    },
    {
     "data": {
      "text/plain": [
       "\"11: |q| = 0.19049645007916496\""
      ]
     },
     "metadata": {},
     "output_type": "display_data"
    },
    {
     "data": {
      "text/plain": [
       "\"12: |q| = 0.1739301585773326\""
      ]
     },
     "metadata": {},
     "output_type": "display_data"
    },
    {
     "data": {
      "text/plain": [
       "\"13: |q| = 0.15994479898991593\""
      ]
     },
     "metadata": {},
     "output_type": "display_data"
    },
    {
     "data": {
      "text/plain": [
       "\"14: |q| = 0.14799730578381867\""
      ]
     },
     "metadata": {},
     "output_type": "display_data"
    },
    {
     "data": {
      "text/plain": [
       "\"15: |q| = 0.13768253340718503\""
      ]
     },
     "metadata": {},
     "output_type": "display_data"
    },
    {
     "data": {
      "text/plain": [
       "\"16: |q| = 0.12869353916065504\""
      ]
     },
     "metadata": {},
     "output_type": "display_data"
    },
    {
     "data": {
      "text/plain": [
       "\"17: |q| = 0.120794294930706\""
      ]
     },
     "metadata": {},
     "output_type": "display_data"
    },
    {
     "data": {
      "text/plain": [
       "\"18: |q| = 0.11380075024510004\""
      ]
     },
     "metadata": {},
     "output_type": "display_data"
    },
    {
     "data": {
      "text/plain": [
       "\"19: |q| = 0.1075675171123259\""
      ]
     },
     "metadata": {},
     "output_type": "display_data"
    },
    {
     "data": {
      "text/plain": [
       "\"20: |q| = 0.10197837503638853\""
      ]
     },
     "metadata": {},
     "output_type": "display_data"
    },
    {
     "data": {
      "text/plain": [
       "\"21: |q| = 0.09693940883218544\""
      ]
     },
     "metadata": {},
     "output_type": "display_data"
    },
    {
     "data": {
      "text/plain": [
       "\"22: |q| = 0.09237402012421014\""
      ]
     },
     "metadata": {},
     "output_type": "display_data"
    },
    {
     "data": {
      "text/plain": [
       "\"23: |q| = 0.08822745374833299\""
      ]
     },
     "metadata": {},
     "output_type": "display_data"
    },
    {
     "data": {
      "text/plain": [
       "\"24: |q| = 0.08443308216080454\""
      ]
     },
     "metadata": {},
     "output_type": "display_data"
    },
    {
     "data": {
      "text/plain": [
       "\"25: |q| = 0.0809439524755204\""
      ]
     },
     "metadata": {},
     "output_type": "display_data"
    },
    {
     "data": {
      "text/plain": [
       "\"26: |q| = 0.0777207979940939\""
      ]
     },
     "metadata": {},
     "output_type": "display_data"
    },
    {
     "data": {
      "text/plain": [
       "\"27: |q| = 0.07473052698960375\""
      ]
     },
     "metadata": {},
     "output_type": "display_data"
    },
    {
     "data": {
      "text/plain": [
       "\"28: |q| = 0.0719450211284683\""
      ]
     },
     "metadata": {},
     "output_type": "display_data"
    },
    {
     "data": {
      "text/plain": [
       "\"29: |q| = 0.06934019987517201\""
      ]
     },
     "metadata": {},
     "output_type": "display_data"
    },
    {
     "data": {
      "text/plain": [
       "\"30: |q| = 0.0668952824300422\""
      ]
     },
     "metadata": {},
     "output_type": "display_data"
    },
    {
     "data": {
      "text/plain": [
       "\"31: |q| = 0.06459219779703611\""
      ]
     },
     "metadata": {},
     "output_type": "display_data"
    },
    {
     "data": {
      "text/plain": [
       "\"32: |q| = 0.06241510748966603\""
      ]
     },
     "metadata": {},
     "output_type": "display_data"
    },
    {
     "data": {
      "text/plain": [
       "\"33: |q| = 0.06035001478737186\""
      ]
     },
     "metadata": {},
     "output_type": "display_data"
    },
    {
     "data": {
      "text/plain": [
       "\"34: |q| = 0.05838444094764006\""
      ]
     },
     "metadata": {},
     "output_type": "display_data"
    },
    {
     "data": {
      "text/plain": [
       "\"35: |q| = 0.05650715336732834\""
      ]
     },
     "metadata": {},
     "output_type": "display_data"
    },
    {
     "data": {
      "text/plain": [
       "\"36: |q| = 0.05519101282724111\""
      ]
     },
     "metadata": {},
     "output_type": "display_data"
    },
    {
     "data": {
      "text/plain": [
       "\"37: |q| = 0.05445871707549794\""
      ]
     },
     "metadata": {},
     "output_type": "display_data"
    },
    {
     "data": {
      "text/plain": [
       "\"38: |q| = 0.054230891189826345\""
      ]
     },
     "metadata": {},
     "output_type": "display_data"
    },
    {
     "data": {
      "text/plain": [
       "\"39: |q| = 0.054128973175508764\""
      ]
     },
     "metadata": {},
     "output_type": "display_data"
    },
    {
     "data": {
      "text/plain": [
       "\"40: |q| = 0.05407914926820128\""
      ]
     },
     "metadata": {},
     "output_type": "display_data"
    },
    {
     "data": {
      "text/plain": [
       "3"
      ]
     },
     "metadata": {},
     "output_type": "display_data"
    }
   ],
   "source": [
    "q = FEM.solveDisplacement(problem, [load], [supp1, supp2, supp3])\n",
    "S = FEM.solveStress(problem, q)\n",
    "S = FEM.elementsToNodes(problem, S)\n",
    "\n",
    "u1 = FEM.showDoFResults(problem, q, :uvec, visible=true)\n",
    "S1 = FEM.showDoFResults(problem, S, :s)\n",
    "\n",
    "f = FEM.loadVector(problem, [load])\n",
    "r = nodePositionVector(problem)\n",
    "for i in 1:40\n",
    "    F = deformationGradient(problem, r)\n",
    "\n",
    "    Kl = stiffnessMatrixLinear(problem, r)\n",
    "    Knl = stiffnessMatrixNonLinear(problem, r, S)\n",
    "    f = FEM.loadVector(problem, [load])\n",
    "    fnl = loadVectorNonLinear(problem, r, S)\n",
    "    K, f = FEM.applyBoundaryConditions(problem, Kl + Knl, f - fnl, [supp1, supp2, supp3])\n",
    "    q = FEM.solveDisplacement(K, f)\n",
    "    S = FEM.solveStress(problem, q)\n",
    "    S = FEM.elementsToNodes(problem, S)\n",
    "    r += q\n",
    "    display(\"$i: |q| = $(sum(abs, q))\")\n",
    "end\n",
    "\n",
    "r0 = nodePositionVector(problem)\n",
    "u2 = FEM.showDoFResults(problem, r - r0, :uvec, visible=true)\n",
    "S2 = FEM.showDoFResults(problem, S, :s)"
   ]
  },
  {
   "cell_type": "code",
   "execution_count": 45,
   "id": "d2db8980",
   "metadata": {},
   "outputs": [],
   "source": [
    "#gmsh.view.probe(u1, 1, 1, 0)"
   ]
  },
  {
   "cell_type": "code",
   "execution_count": 46,
   "id": "10b9a775",
   "metadata": {},
   "outputs": [],
   "source": [
    "#gmsh.view.probe(u2, 1, 1, 0)"
   ]
  },
  {
   "cell_type": "code",
   "execution_count": 47,
   "id": "c89054bb",
   "metadata": {},
   "outputs": [],
   "source": [
    "#gmsh.view.probe(S1, 1, 1, 0)"
   ]
  },
  {
   "cell_type": "code",
   "execution_count": 48,
   "id": "03c6af2f",
   "metadata": {},
   "outputs": [],
   "source": [
    "#gmsh.view.probe(S2, 1, 1, 0)"
   ]
  },
  {
   "cell_type": "code",
   "execution_count": 49,
   "id": "d9e04c86",
   "metadata": {},
   "outputs": [
    {
     "data": {
      "text/plain": [
       "LowLevelFEM.TensorField([[1.0; 0.0; … ; 0.0; 1.0;;]], [27], 1, :F)"
      ]
     },
     "metadata": {},
     "output_type": "display_data"
    }
   ],
   "source": [
    "r = nodePositionVector(problem)\n",
    "ux(x, y, z) = y / 2\n",
    "uy(x, y, z) = 0\n",
    "uz(x, y, z) = 0\n",
    "q0 = FEM.field(\"body\", fx=ux, fy=uy, fz=uz)\n",
    "q = FEM.vectorField(problem, [q0])\n",
    "F = deformationGradient(problem, r + q)"
   ]
  },
  {
   "cell_type": "code",
   "execution_count": 50,
   "id": "bda3da4b",
   "metadata": {},
   "outputs": [
    {
     "data": {
      "text/plain": [
       "3×3 Matrix{Float64}:\n",
       " 0.0   0.25   0.0\n",
       " 0.25  0.125  0.0\n",
       " 0.0   0.0    0.0"
      ]
     },
     "metadata": {},
     "output_type": "display_data"
    }
   ],
   "source": [
    "E = (F' * F - unit(F)) / 2\n",
    "\n",
    "reshape(E.A[1][1:9], 3, 3)"
   ]
  },
  {
   "cell_type": "code",
   "execution_count": 51,
   "id": "a7c506a2",
   "metadata": {},
   "outputs": [
    {
     "data": {
      "text/plain": [
       "3×3 Matrix{Float64}:\n",
       " 0.0    0.25   0.0\n",
       " 0.25  -0.125  0.0\n",
       " 0.0    0.0    0.0"
      ]
     },
     "metadata": {},
     "output_type": "display_data"
    }
   ],
   "source": [
    "e = (unit(F) - inv(F * F')) / 2\n",
    "\n",
    "reshape(e.A[1][1:9], 3, 3)"
   ]
  },
  {
   "cell_type": "code",
   "execution_count": 52,
   "id": "df5feea4",
   "metadata": {},
   "outputs": [
    {
     "data": {
      "text/plain": [
       "3×3 Matrix{Float64}:\n",
       " 0.0    0.25   0.0\n",
       " 0.25  -0.125  0.0\n",
       " 0.0    0.0    0.0"
      ]
     },
     "metadata": {},
     "output_type": "display_data"
    }
   ],
   "source": [
    "e = inv(F') * E * inv(F)\n",
    "\n",
    "reshape(e.A[1][1:9], 3, 3)"
   ]
  },
  {
   "cell_type": "code",
   "execution_count": 53,
   "id": "eb7cd73d",
   "metadata": {},
   "outputs": [
    {
     "data": {
      "text/plain": [
       "3×3 Matrix{Float64}:\n",
       " 0.970143  0.242536  0.0\n",
       " 0.242536  1.09141   0.0\n",
       " 0.0       0.0       1.0"
      ]
     },
     "metadata": {},
     "output_type": "display_data"
    }
   ],
   "source": [
    "U = sqrt(F' * F)\n",
    "\n",
    "reshape(U.A[1][1:9], 3, 3)"
   ]
  },
  {
   "cell_type": "code",
   "execution_count": 54,
   "id": "49af293c",
   "metadata": {},
   "outputs": [
    {
     "data": {
      "text/plain": [
       "3×3 Matrix{Float64}:\n",
       " 14.4231  38.4615   0.0\n",
       " 38.4615  33.6538   0.0\n",
       "  0.0      0.0     14.4231"
      ]
     },
     "metadata": {},
     "output_type": "display_data"
    }
   ],
   "source": [
    "Ex = 2e2\n",
    "νxy = 0.3\n",
    "λ = Ex * νxy / ((1 + νxy) * (1 - 2νxy))\n",
    "μ = Ex / (2 * (1 + νxy))\n",
    "SII = λ * traceI(E) + 2μ * E\n",
    "\n",
    "reshape(SII.A[1][1:9], 3, 3)"
   ]
  },
  {
   "cell_type": "code",
   "execution_count": 55,
   "id": "32bc3809",
   "metadata": {},
   "outputs": [
    {
     "name": "stdout",
     "output_type": "stream",
     "text": [
      "-------------------------------------------------------\n",
      "Version       : 4.13.1\n",
      "License       : GNU General Public License\n",
      "Build OS      : Linux64-sdk\n",
      "Build date    : 19700101\n",
      "Build host    : amdci7.julia.csail.mit.edu\n",
      "Build options : 64Bit ALGLIB[contrib] ANN[contrib] Bamg Blossom Cairo DIntegration Dlopen DomHex Eigen[contrib] Fltk GMP Gmm[contrib] Hxt Jpeg Kbipack LinuxJoystick MathEx[contrib] Mesh Metis[contrib] Mmg Mpeg Netgen Nii2mesh ONELAB ONELABMetamodel OpenCASCADE OpenCASCADE-CAF OpenGL OpenMP OptHom Parser Plugins Png Post QuadMeshingTools QuadTri Solver TetGen/BR TinyXML2[contrib] Untangle Voro++[contrib] WinslowUntangler Zlib\n",
      "FLTK version  : 1.3.8\n",
      "OCC version   : 7.7.2\n",
      "Packaged by   : root\n",
      "Web site      : https://gmsh.info\n",
      "Issue tracker : https://gitlab.onelab.info/gmsh/gmsh/issues\n",
      "-------------------------------------------------------\n"
     ]
    },
    {
     "name": "stderr",
     "output_type": "stream",
     "text": [
      "XRequest.18: BadValue 0x0\n"
     ]
    }
   ],
   "source": [
    "FEM.openPostProcessor()"
   ]
  },
  {
   "cell_type": "code",
   "execution_count": 56,
   "id": "7b517a53",
   "metadata": {},
   "outputs": [],
   "source": [
    "gmsh.finalize()"
   ]
  }
 ],
 "metadata": {
  "kernelspec": {
   "display_name": "Julia 1.11.5",
   "language": "julia",
   "name": "julia-1.11"
  },
  "language_info": {
   "file_extension": ".jl",
   "mimetype": "application/julia",
   "name": "julia",
   "version": "1.11.5"
  }
 },
 "nbformat": 4,
 "nbformat_minor": 5
}
