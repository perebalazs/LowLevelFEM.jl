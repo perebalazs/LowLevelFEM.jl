{
 "cells": [
  {
   "cell_type": "code",
   "execution_count": 198,
   "id": "79fd9685",
   "metadata": {},
   "outputs": [],
   "source": [
    "using LowLevelFEM\n",
    "import LowLevelFEM as FEM\n",
    "\n",
    "gmsh.initialize()"
   ]
  },
  {
   "cell_type": "code",
   "execution_count": 199,
   "id": "22283e0a",
   "metadata": {},
   "outputs": [],
   "source": [
    "using SparseArrays"
   ]
  },
  {
   "cell_type": "code",
   "execution_count": 200,
   "id": "fa18250b",
   "metadata": {},
   "outputs": [
    {
     "name": "stdout",
     "output_type": "stream",
     "text": [
      "Info    : Reading 'body1.geo'...\n",
      "Info    : Meshing 1D...                                                                                                                       \n",
      "Info    : [  0%] Meshing curve 1 (Line)\n",
      "Info    : [ 10%] Meshing curve 2 (Line)\n",
      "Info    : [ 20%] Meshing curve 3 (Line)\n",
      "Info    : [ 30%] Meshing curve 4 (Line)\n",
      "Info    : [ 40%] Meshing curve 5 (Line)\n",
      "Info    : [ 50%] Meshing curve 6 (Line)\n",
      "Info    : [ 60%] Meshing curve 7 (Line)\n",
      "Info    : [ 60%] Meshing curve 8 (Line)\n",
      "Info    : [ 70%] Meshing curve 9 (Line)\n",
      "Info    : [ 80%] Meshing curve 10 (Line)\n",
      "Info    : [ 90%] Meshing curve 11 (Line)\n",
      "Info    : [100%] Meshing curve 12 (Line)\n",
      "Info    : Done meshing 1D (Wall 0.000861396s, CPU 0.000848s)\n",
      "Info    : Meshing 2D...\n",
      "Info    : [  0%] Meshing surface 1 (Transfinite)\n",
      "Info    : [ 20%] Meshing surface 2 (Transfinite)\n",
      "Info    : [ 40%] Meshing surface 3 (Transfinite)\n",
      "Info    : [ 60%] Meshing surface 4 (Transfinite)\n",
      "Info    : [ 70%] Meshing surface 5 (Transfinite)\n",
      "Info    : [ 90%] Meshing surface 6 (Transfinite)\n",
      "Info    : Done meshing 2D (Wall 0.000134526s, CPU 0.000134s)\n",
      "Info    : Meshing 3D...\n",
      "Info    : Meshing volume 1 (Transfinite)\n",
      "Info    : Done meshing 3D (Wall 5.6538e-05s, CPU 5.6e-05s)\n",
      "Info    : Optimizing mesh...\n",
      "Info    : Done optimizing mesh (Wall 1.701e-06s, CPU 2e-06s)\n",
      "Info    : 8 nodes 27 elements\n",
      "Info    : Done reading 'body1.geo'\n"
     ]
    },
    {
     "name": "stderr",
     "output_type": "stream",
     "text": [
      "Warning : Boolean fragments skipped - too few arguments\n"
     ]
    }
   ],
   "source": [
    "gmsh.open(\"body1.geo\")"
   ]
  },
  {
   "cell_type": "code",
   "execution_count": 201,
   "id": "936f1fab",
   "metadata": {},
   "outputs": [
    {
     "name": "stdout",
     "output_type": "stream",
     "text": [
      "Info    : RCMK renumbering...\n",
      "Info    : Done RCMK renumbering (bandwidth is now 7)\n"
     ]
    },
    {
     "data": {
      "text/plain": [
       "LowLevelFEM.Problem(\"body1\", :Solid, 3, 3, LowLevelFEM.Material[LowLevelFEM.Material(\"body\", 200000.0, 0.3, 7.85e-9, 45.0, 4.2e8, 1.2e-5)], 1.0, 8)"
      ]
     },
     "metadata": {},
     "output_type": "display_data"
    }
   ],
   "source": [
    "mat = FEM.material(\"body\")\n",
    "problem = FEM.Problem([mat])"
   ]
  },
  {
   "cell_type": "code",
   "execution_count": 202,
   "id": "d1917225",
   "metadata": {},
   "outputs": [],
   "source": [
    "function nodePositionVector(problem)\n",
    "    dim = problem.dim\n",
    "    non = problem.non\n",
    "    if dim != 3\n",
    "        error(\"nodePositionVector: This function only works for 3D problems.\")\n",
    "    end\n",
    "    r = zeros(non * dim)\n",
    "    for ipg in 1:length(problem.material)\n",
    "        phName = problem.material[ipg].phName\n",
    "        dimTags = gmsh.model.getEntitiesForPhysicalName(phName)\n",
    "        for idm in 1:length(dimTags)\n",
    "            dimTag = dimTags[idm]\n",
    "            edim = dimTag[1]\n",
    "            etag = dimTag[2]\n",
    "            elemTypes, elemTags, elemNodeTags = gmsh.model.mesh.getElements(edim, etag)\n",
    "            nodeTags, ncoord, parametricCoord = gmsh.model.mesh.getNodes(dim, -1, true, false)\n",
    "            r[nodeTags*3 .- 2] = ncoord[1:3:length(ncoord)]\n",
    "            r[nodeTags*3 .- 1] = ncoord[2:3:length(ncoord)]\n",
    "            r[nodeTags*3 .- 0] = ncoord[3:3:length(ncoord)]\n",
    "        end\n",
    "    end\n",
    "    return r\n",
    "end\n",
    "\n",
    "r = nodePositionVector(problem);"
   ]
  },
  {
   "cell_type": "code",
   "execution_count": 203,
   "id": "67165db9",
   "metadata": {},
   "outputs": [
    {
     "data": {
      "text/plain": [
       "stiffnessMatrixLinear (generic function with 1 method)"
      ]
     },
     "metadata": {},
     "output_type": "display_data"
    }
   ],
   "source": [
    "function stiffnessMatrixLinear(problem, r)\n",
    "    gmsh.model.setCurrent(problem.name)\n",
    "    elemTypes, elemTags, elemNodeTags = gmsh.model.mesh.getElements(problem.dim, -1)\n",
    "    lengthOfIJV = sum([(div(length(elemNodeTags[i]), length(elemTags[i])) * problem.dim)^2 * length(elemTags[i]) for i in 1:length(elemTags)])\n",
    "    nn = []\n",
    "    I = []\n",
    "    J = []\n",
    "    V = []\n",
    "    V = convert(Vector{Float64}, V)\n",
    "    sizehint!(I, lengthOfIJV)\n",
    "    sizehint!(J, lengthOfIJV)\n",
    "    sizehint!(V, lengthOfIJV)\n",
    "\n",
    "    for ipg in 1:length(problem.material)\n",
    "        phName = problem.material[ipg].phName\n",
    "        E = problem.material[ipg].E\n",
    "        ν = problem.material[ipg].ν\n",
    "        dim = problem.dim\n",
    "        pdim = problem.pdim\n",
    "        if problem.dim == 3 && problem.type == :Solid\n",
    "            D = E / ((1 + ν) * (1 - 2ν)) * [1-ν ν ν 0 0 0;\n",
    "                ν 1-ν ν 0 0 0;\n",
    "                ν ν 1-ν 0 0 0;\n",
    "                0 0 0 (1-2ν)/2 0 0;\n",
    "                0 0 0 0 (1-2ν)/2 0;\n",
    "                0 0 0 0 0 (1-2ν)/2]\n",
    "\n",
    "            rowsOfB = 6\n",
    "            b = 1\n",
    "        elseif problem.dim == 2 && problem.type == :PlaneStress\n",
    "            D = E / (1 - ν^2) * [1 ν 0;\n",
    "                ν 1 0;\n",
    "                0 0 (1-ν)/2]\n",
    "            rowsOfB = 3\n",
    "            b = problem.thickness\n",
    "        elseif problem.dim == 2 && problem.type == :PlaneStrain\n",
    "            D = E / ((1 + ν) * (1 - 2ν)) * [1-ν ν 0;\n",
    "                ν 1-ν 0;\n",
    "                0 0 (1-2ν)/2]\n",
    "            rowsOfB = 3\n",
    "            b = 1\n",
    "        else\n",
    "            error(\"stiffnessMatrixSolid: dimension is $(problem.dim), problem type is $(problem.type).\")\n",
    "        end\n",
    "\n",
    "        dimTags = gmsh.model.getEntitiesForPhysicalName(phName)\n",
    "        for idm in 1:length(dimTags)\n",
    "            dimTag = dimTags[idm]\n",
    "            edim = dimTag[1]\n",
    "            etag = dimTag[2]\n",
    "            elemTypes, elemTags, elemNodeTags = gmsh.model.mesh.getElements(edim, etag)\n",
    "            for i in 1:length(elemTypes)\n",
    "                et = elemTypes[i]\n",
    "                elementName, dim, order, numNodes::Int64, localNodeCoord, numPrimaryNodes = gmsh.model.mesh.getElementProperties(et)\n",
    "                intPoints, intWeights = gmsh.model.mesh.getIntegrationPoints(et, \"Gauss\" * string(2order + 1))\n",
    "                numIntPoints = length(intWeights)\n",
    "                #comp, fun, ori = gmsh.model.mesh.getBasisFunctions(et, intPoints, \"Lagrange\")\n",
    "                #h = reshape(fun, :, numIntPoints)\n",
    "                comp, dfun, ori = gmsh.model.mesh.getBasisFunctions(et, intPoints, \"GradLagrange\")\n",
    "                ∇h = reshape(dfun, :, numIntPoints)\n",
    "                nnet = zeros(Int, length(elemTags[i]), numNodes)\n",
    "                invJac = zeros(3, 3numIntPoints)\n",
    "                Iidx = zeros(Int, numNodes * pdim, numNodes * pdim)\n",
    "                Jidx = zeros(Int, numNodes * pdim, numNodes * pdim)\n",
    "                for k in 1:numNodes*pdim, l in 1:numNodes*pdim\n",
    "                    Iidx[k, l] = l\n",
    "                    Jidx[k, l] = k\n",
    "                end\n",
    "                #H = zeros(9 * numIntPoints, pdim * numNodes)\n",
    "                ∂h = zeros(dim, numNodes * numIntPoints)\n",
    "                B = zeros(rowsOfB * numIntPoints, pdim * numNodes)\n",
    "                ∂H = spzeros(9 * numIntPoints, pdim * numNodes)\n",
    "                K1 = zeros(pdim * numNodes, pdim * numNodes)\n",
    "                nn2 = zeros(Int, pdim * numNodes)\n",
    "                sizehint!(∂H, 9 * numNodes)\n",
    "                #for k in 1:numIntPoints, l in 1:numNodes\n",
    "                #    for kk in 1:3:9, ll in 1:3\n",
    "                #H[k*9-(9-kk)-1+ll, l*pdim-(pdim-ll)] = h[(k-1)*numNodes+l]\n",
    "                #    end\n",
    "                #end\n",
    "                for j in 1:length(elemTags[i])\n",
    "                    elem = elemTags[i][j]\n",
    "                    for k in 1:numNodes\n",
    "                        nnet[j, k] = elemNodeTags[i][(j-1)*numNodes+k]\n",
    "                    end\n",
    "                    for k in 1:pdim\n",
    "                        nn2[k:pdim:pdim*numNodes] = pdim * nnet[j, 1:numNodes] .- (pdim - k)\n",
    "                    end\n",
    "                    jac, jacDet, coord = gmsh.model.mesh.getJacobian(elem, intPoints)\n",
    "                    Jac = reshape(jac, 3, :)\n",
    "                    for k in 1:numIntPoints\n",
    "                        invJac[1:3, 3*k-2:3*k] = @inline inv(Jac[1:3, 3*k-2:3*k])'\n",
    "                    end\n",
    "                    ∂h .*= 0\n",
    "                    for k in 1:numIntPoints, l in 1:numNodes\n",
    "                        ∂h[1:dim, (k-1)*numNodes+l] .= invJac[1:dim, k*3-2:k*3-(3-dim)] * ∇h[l*3-2:l*3-(3-dim), k]\n",
    "                    end\n",
    "                    r1 = r[nn2]\n",
    "                    B .*= 0\n",
    "                    ∂H .*= 0\n",
    "                    if dim == 2 && rowsOfB == 3\n",
    "                        for k in 1:numIntPoints\n",
    "                            for l in 1:numNodes\n",
    "                                B[k*rowsOfB-0, l*pdim-0] = B[k*rowsOfB-2, l*pdim-1] = ∂h[1, (k-1)*numNodes+l]\n",
    "                                B[k*rowsOfB-0, l*pdim-1] = B[k*rowsOfB-1, l*pdim-0] = ∂h[2, (k-1)*numNodes+l]\n",
    "                            end\n",
    "                        end\n",
    "                    elseif dim == 3 && rowsOfB == 6\n",
    "                        for k in 1:numIntPoints\n",
    "                            for l in 1:numNodes\n",
    "                                ∂H[k*9-(9-1), l*pdim-(pdim-1)] = ∂h[1, (k-1)*numNodes+l]\n",
    "                                ∂H[k*9-(9-2), l*pdim-(pdim-1)] = ∂h[2, (k-1)*numNodes+l]\n",
    "                                ∂H[k*9-(9-3), l*pdim-(pdim-1)] = ∂h[3, (k-1)*numNodes+l]\n",
    "                                ∂H[k*9-(9-4), l*pdim-(pdim-2)] = ∂h[1, (k-1)*numNodes+l]\n",
    "                                ∂H[k*9-(9-5), l*pdim-(pdim-2)] = ∂h[2, (k-1)*numNodes+l]\n",
    "                                ∂H[k*9-(9-6), l*pdim-(pdim-2)] = ∂h[3, (k-1)*numNodes+l]\n",
    "                                ∂H[k*9-(9-7), l*pdim-(pdim-3)] = ∂h[1, (k-1)*numNodes+l]\n",
    "                                ∂H[k*9-(9-8), l*pdim-(pdim-3)] = ∂h[2, (k-1)*numNodes+l]\n",
    "                                ∂H[k*9-(9-9), l*pdim-(pdim-3)] = ∂h[3, (k-1)*numNodes+l]\n",
    "                            end\n",
    "                            ∂H1 = ∂H[k*9-(9-1):k*9, 1:pdim*numNodes]\n",
    "                            F = ∂H1 * r1\n",
    "                            for l in 1:numNodes\n",
    "                                B[k*rowsOfB-5, l*pdim-2] = F[1] * ∂h[1, (k-1)*numNodes+l]\n",
    "                                B[k*rowsOfB-4, l*pdim-2] = F[4] * ∂h[2, (k-1)*numNodes+l]\n",
    "                                B[k*rowsOfB-3, l*pdim-2] = F[7] * ∂h[3, (k-1)*numNodes+l]\n",
    "                                B[k*rowsOfB-2, l*pdim-2] = (F[4] * ∂h[1, (k-1)*numNodes+l] + F[1] * ∂h[2, (k-1)*numNodes+l]) / 2\n",
    "                                B[k*rowsOfB-1, l*pdim-2] = (F[7] * ∂h[2, (k-1)*numNodes+l] + F[4] * ∂h[3, (k-1)*numNodes+l]) / 2\n",
    "                                B[k*rowsOfB-0, l*pdim-2] = (F[1] * ∂h[3, (k-1)*numNodes+l] + F[7] * ∂h[1, (k-1)*numNodes+l]) / 2\n",
    "                                B[k*rowsOfB-5, l*pdim-1] = F[2] * ∂h[1, (k-1)*numNodes+l]\n",
    "                                B[k*rowsOfB-4, l*pdim-1] = F[5] * ∂h[2, (k-1)*numNodes+l]\n",
    "                                B[k*rowsOfB-3, l*pdim-1] = F[8] * ∂h[3, (k-1)*numNodes+l]\n",
    "                                B[k*rowsOfB-2, l*pdim-1] = (F[5] * ∂h[1, (k-1)*numNodes+l] + F[2] * ∂h[2, (k-1)*numNodes+l]) / 2\n",
    "                                B[k*rowsOfB-1, l*pdim-1] = (F[8] * ∂h[2, (k-1)*numNodes+l] + F[5] * ∂h[3, (k-1)*numNodes+l]) / 2\n",
    "                                B[k*rowsOfB-0, l*pdim-1] = (F[2] * ∂h[3, (k-1)*numNodes+l] + F[8] * ∂h[1, (k-1)*numNodes+l]) / 2\n",
    "                                B[k*rowsOfB-5, l*pdim-0] = F[3] * ∂h[1, (k-1)*numNodes+l]\n",
    "                                B[k*rowsOfB-4, l*pdim-0] = F[6] * ∂h[2, (k-1)*numNodes+l]\n",
    "                                B[k*rowsOfB-3, l*pdim-0] = F[9] * ∂h[3, (k-1)*numNodes+l]\n",
    "                                B[k*rowsOfB-2, l*pdim-0] = (F[6] * ∂h[1, (k-1)*numNodes+l] + F[3] * ∂h[2, (k-1)*numNodes+l]) / 2\n",
    "                                B[k*rowsOfB-1, l*pdim-0] = (F[9] * ∂h[2, (k-1)*numNodes+l] + F[6] * ∂h[3, (k-1)*numNodes+l]) / 2\n",
    "                                B[k*rowsOfB-0, l*pdim-0] = (F[1] * ∂h[3, (k-1)*numNodes+l] + F[9] * ∂h[1, (k-1)*numNodes+l]) / 2\n",
    "                            end\n",
    "                        end\n",
    "                    else\n",
    "                        error(\"stiffnessMatrixLinear: rows of B is $rowsOfB, dimension of the problem is $dim.\")\n",
    "                    end\n",
    "                    K1 .*= 0\n",
    "                    for k in 1:numIntPoints\n",
    "                        B1 = B[k*rowsOfB-(rowsOfB-1):k*rowsOfB, 1:pdim*numNodes]\n",
    "                        K1 += B1' * D * B1 * b * jacDet[k] * intWeights[k]\n",
    "                    end\n",
    "                    append!(I, nn2[Iidx[:]])\n",
    "                    append!(J, nn2[Jidx[:]])\n",
    "                    append!(V, K1[:])\n",
    "                end\n",
    "                push!(nn, nnet)\n",
    "            end\n",
    "        end\n",
    "    end\n",
    "    dof = problem.pdim * problem.non\n",
    "    K = sparse(I, J, V, dof, dof)\n",
    "    dropzeros!(K)\n",
    "    return K\n",
    "end"
   ]
  },
  {
   "cell_type": "code",
   "execution_count": 204,
   "id": "fa0e7211",
   "metadata": {},
   "outputs": [
    {
     "data": {
      "text/plain": [
       "stiffnessMatrixNonLinear (generic function with 1 method)"
      ]
     },
     "metadata": {},
     "output_type": "display_data"
    }
   ],
   "source": [
    "function stiffnessMatrixNonLinear(problem, S)\n",
    "    gmsh.model.setCurrent(problem.name)\n",
    "    elemTypes, elemTags, elemNodeTags = gmsh.model.mesh.getElements(problem.dim, -1)\n",
    "    lengthOfIJV = sum([(div(length(elemNodeTags[i]), length(elemTags[i])) * problem.dim)^2 * length(elemTags[i]) for i in 1:length(elemTags)])\n",
    "    nn = []\n",
    "    I = []\n",
    "    J = []\n",
    "    V = []\n",
    "    V = convert(Vector{Float64}, V)\n",
    "    sizehint!(I, lengthOfIJV)\n",
    "    sizehint!(J, lengthOfIJV)\n",
    "    sizehint!(V, lengthOfIJV)\n",
    "\n",
    "    for ipg in 1:length(problem.material)\n",
    "        phName = problem.material[ipg].phName\n",
    "        E = problem.material[ipg].E\n",
    "        ν = problem.material[ipg].ν\n",
    "        dim = problem.dim\n",
    "        pdim = problem.pdim\n",
    "        if problem.dim == 3 && problem.type == :Solid\n",
    "            rowsOfB = 6\n",
    "            b = 1\n",
    "        elseif problem.dim == 2 && problem.type == :PlaneStress\n",
    "            rowsOfB = 3\n",
    "            b = problem.thickness\n",
    "        elseif problem.dim == 2 && problem.type == :PlaneStrain\n",
    "            rowsOfB = 3\n",
    "            b = 1\n",
    "        else\n",
    "            error(\"stiffnessMatrixSolid: dimension is $(problem.dim), problem type is $(problem.type).\")\n",
    "        end\n",
    "\n",
    "        dimTags = gmsh.model.getEntitiesForPhysicalName(phName)\n",
    "        for idm in 1:length(dimTags)\n",
    "            dimTag = dimTags[idm]\n",
    "            edim = dimTag[1]\n",
    "            etag = dimTag[2]\n",
    "            elemTypes, elemTags, elemNodeTags = gmsh.model.mesh.getElements(edim, etag)\n",
    "            for i in 1:length(elemTypes)\n",
    "                et = elemTypes[i]\n",
    "                elementName, dim, order, numNodes::Int64, localNodeCoord, numPrimaryNodes = gmsh.model.mesh.getElementProperties(et)\n",
    "                intPoints, intWeights = gmsh.model.mesh.getIntegrationPoints(et, \"Gauss\" * string(2order + 1))\n",
    "                numIntPoints = length(intWeights)\n",
    "                comp, fun, ori = gmsh.model.mesh.getBasisFunctions(et, intPoints, \"Lagrange\")\n",
    "                h = reshape(fun, :, numIntPoints)\n",
    "                comp, dfun, ori = gmsh.model.mesh.getBasisFunctions(et, intPoints, \"GradLagrange\")\n",
    "                ∇h = reshape(dfun, :, numIntPoints)\n",
    "                nnet = zeros(Int, length(elemTags[i]), numNodes)\n",
    "                invJac = zeros(3, 3numIntPoints)\n",
    "                Iidx = zeros(Int, numNodes * pdim, numNodes * pdim)\n",
    "                Jidx = zeros(Int, numNodes * pdim, numNodes * pdim)\n",
    "                for k in 1:numNodes*pdim, l in 1:numNodes*pdim\n",
    "                    Iidx[k, l] = l\n",
    "                    Jidx[k, l] = k\n",
    "                end\n",
    "                H = spzeros(9 * numIntPoints, 9 * numNodes)\n",
    "                sizehint!(H, 9 * numNodes * numIntPoints)\n",
    "                ∂h = zeros(dim, numNodes * numIntPoints)\n",
    "                B = zeros(rowsOfB * numIntPoints, pdim * numNodes)\n",
    "                ∂H = spzeros(9 * numIntPoints, pdim * numNodes)\n",
    "                K1 = zeros(pdim * numNodes, pdim * numNodes)\n",
    "                nn2 = zeros(Int, dim * numNodes)\n",
    "                nn9 = zeros(Int, 9 * numNodes)\n",
    "                sizehint!(∂H, 9 * numNodes * numIntPoints)\n",
    "                for k in 1:numIntPoints, l in 1:numNodes\n",
    "                    for kk in 1:9\n",
    "                        H[k*9-(9-kk), l*9-(9-kk)] = h[(k-1)*numNodes+l]\n",
    "                    end\n",
    "                end\n",
    "                for j in 1:length(elemTags[i])\n",
    "                    elem = elemTags[i][j]\n",
    "                    for k in 1:numNodes\n",
    "                        nnet[j, k] = elemNodeTags[i][(j-1)*numNodes+k]\n",
    "                    end\n",
    "                    for k in 1:dim\n",
    "                        nn2[k:dim:dim*numNodes] = dim * nnet[j, 1:numNodes] .- (dim - k)\n",
    "                    end\n",
    "                    for k in 1:9\n",
    "                        nn9[k:9:9*numNodes] = 9 * nnet[j, 1:numNodes] .- (9 - k)\n",
    "                    end\n",
    "                    jac, jacDet, coord = gmsh.model.mesh.getJacobian(elem, intPoints)\n",
    "                    Jac = reshape(jac, 3, :)\n",
    "                    for k in 1:numIntPoints\n",
    "                        invJac[1:3, 3*k-2:3*k] = @inline inv(Jac[1:3, 3*k-2:3*k])'\n",
    "                    end\n",
    "                    ∂h .*= 0\n",
    "                    for k in 1:numIntPoints, l in 1:numNodes\n",
    "                        ∂h[1:dim, (k-1)*numNodes+l] .= invJac[1:dim, k*3-2:k*3-(3-dim)] * ∇h[l*3-2:l*3-(3-dim), k]\n",
    "                    end\n",
    "                    S1 = S[nn9]\n",
    "                    B .*= 0\n",
    "                    ∂H .*= 0\n",
    "                    if dim == 2 && rowsOfB == 3\n",
    "                        for k in 1:numIntPoints\n",
    "                            for l in 1:numNodes\n",
    "                                B[k*rowsOfB-0, l*pdim-0] = B[k*rowsOfB-2, l*pdim-1] = ∂h[1, (k-1)*numNodes+l]\n",
    "                                B[k*rowsOfB-0, l*pdim-1] = B[k*rowsOfB-1, l*pdim-0] = ∂h[2, (k-1)*numNodes+l]\n",
    "                            end\n",
    "                        end\n",
    "                    elseif dim == 3 && rowsOfB == 6\n",
    "                        for k in 1:numIntPoints\n",
    "                            for l in 1:numNodes\n",
    "                                ∂H[k*9-(9-1), l*pdim-(pdim-1)] = ∂h[1, (k-1)*numNodes+l]\n",
    "                                ∂H[k*9-(9-2), l*pdim-(pdim-1)] = ∂h[2, (k-1)*numNodes+l]\n",
    "                                ∂H[k*9-(9-3), l*pdim-(pdim-1)] = ∂h[3, (k-1)*numNodes+l]\n",
    "                                ∂H[k*9-(9-4), l*pdim-(pdim-2)] = ∂h[1, (k-1)*numNodes+l]\n",
    "                                ∂H[k*9-(9-5), l*pdim-(pdim-2)] = ∂h[2, (k-1)*numNodes+l]\n",
    "                                ∂H[k*9-(9-6), l*pdim-(pdim-2)] = ∂h[3, (k-1)*numNodes+l]\n",
    "                                ∂H[k*9-(9-7), l*pdim-(pdim-3)] = ∂h[1, (k-1)*numNodes+l]\n",
    "                                ∂H[k*9-(9-8), l*pdim-(pdim-3)] = ∂h[2, (k-1)*numNodes+l]\n",
    "                                ∂H[k*9-(9-9), l*pdim-(pdim-3)] = ∂h[3, (k-1)*numNodes+l]\n",
    "                            end\n",
    "                        end\n",
    "                    else\n",
    "                        error(\"stiffnessMatrixLinear: rows of B is $rowsOfB, dimension of the problem is $dim.\")\n",
    "                    end\n",
    "                    K1 .*= 0\n",
    "                    for k in 1:numIntPoints\n",
    "                        H1 = H[k*9-(9-1):k*9, 1:9*numNodes]\n",
    "                        S0 = reshape(H1 * S1, 3, 3)\n",
    "                        ∂H1 = ∂H[k*9-(9-1):k*9-(9-3), 1:pdim*numNodes]\n",
    "                        ∂H2 = ∂H[k*9-(9-4):k*9-(9-6), 1:pdim*numNodes]\n",
    "                        ∂H3 = ∂H[k*9-(9-7):k*9-(9-9), 1:pdim*numNodes]\n",
    "                        K1 += (∂H1' * S0 * ∂H1 + ∂H2' * S0 * ∂H2 + ∂H3' * S0 * ∂H3) * b * jacDet[k] * intWeights[k]\n",
    "                    end\n",
    "                    append!(I, nn2[Iidx[:]])\n",
    "                    append!(J, nn2[Jidx[:]])\n",
    "                    append!(V, K1[:])\n",
    "                end\n",
    "                push!(nn, nnet)\n",
    "            end\n",
    "        end\n",
    "    end\n",
    "    dof = problem.pdim * problem.non\n",
    "    K = sparse(I, J, V, dof, dof)\n",
    "    dropzeros!(K)\n",
    "    return K\n",
    "end"
   ]
  },
  {
   "cell_type": "code",
   "execution_count": 205,
   "id": "4ece681e",
   "metadata": {},
   "outputs": [
    {
     "data": {
      "text/plain": [
       "loadVectorNonLinear (generic function with 1 method)"
      ]
     },
     "metadata": {},
     "output_type": "display_data"
    }
   ],
   "source": [
    "function loadVectorNonLinear(problem, r, S)\n",
    "    gmsh.model.setCurrent(problem.name)\n",
    "    elemTypes, elemTags, elemNodeTags = gmsh.model.mesh.getElements(problem.dim, -1)\n",
    "    #lengthOfIJV = sum([(div(length(elemNodeTags[i]), length(elemTags[i])) * problem.dim)^2 * length(elemTags[i]) for i in 1:length(elemTags)])\n",
    "    #nn = []\n",
    "    #I = []\n",
    "    #J = []\n",
    "    #V = []\n",
    "    #V = convert(Vector{Float64}, V)\n",
    "    #sizehint!(I, lengthOfIJV)\n",
    "    #sizehint!(J, lengthOfIJV)\n",
    "    #sizehint!(V, lengthOfIJV)\n",
    "    f = zeros(problem.non * problem.pdim)\n",
    "\n",
    "    for ipg in 1:length(problem.material)\n",
    "        phName = problem.material[ipg].phName\n",
    "        E = problem.material[ipg].E\n",
    "        ν = problem.material[ipg].ν\n",
    "        dim = problem.dim\n",
    "        pdim = problem.pdim\n",
    "        if problem.dim == 3 && problem.type == :Solid\n",
    "            D = E / ((1 + ν) * (1 - 2ν)) * [1-ν ν ν 0 0 0;\n",
    "                ν 1-ν ν 0 0 0;\n",
    "                ν ν 1-ν 0 0 0;\n",
    "                0 0 0 (1-2ν)/2 0 0;\n",
    "                0 0 0 0 (1-2ν)/2 0;\n",
    "                0 0 0 0 0 (1-2ν)/2]\n",
    "\n",
    "            rowsOfB = 6\n",
    "            b = 1\n",
    "        elseif problem.dim == 2 && problem.type == :PlaneStress\n",
    "            D = E / (1 - ν^2) * [1 ν 0;\n",
    "                ν 1 0;\n",
    "                0 0 (1-ν)/2]\n",
    "            rowsOfB = 3\n",
    "            b = problem.thickness\n",
    "        elseif problem.dim == 2 && problem.type == :PlaneStrain\n",
    "            D = E / ((1 + ν) * (1 - 2ν)) * [1-ν ν 0;\n",
    "                ν 1-ν 0;\n",
    "                0 0 (1-2ν)/2]\n",
    "            rowsOfB = 3\n",
    "            b = 1\n",
    "        else\n",
    "            error(\"stiffnessMatrixSolid: dimension is $(problem.dim), problem type is $(problem.type).\")\n",
    "        end\n",
    "\n",
    "        dimTags = gmsh.model.getEntitiesForPhysicalName(phName)\n",
    "        for idm in 1:length(dimTags)\n",
    "            dimTag = dimTags[idm]\n",
    "            edim = dimTag[1]\n",
    "            etag = dimTag[2]\n",
    "            elemTypes, elemTags, elemNodeTags = gmsh.model.mesh.getElements(edim, etag)\n",
    "            for i in 1:length(elemTypes)\n",
    "                et = elemTypes[i]\n",
    "                elementName, dim, order, numNodes::Int64, localNodeCoord, numPrimaryNodes = gmsh.model.mesh.getElementProperties(et)\n",
    "                intPoints, intWeights = gmsh.model.mesh.getIntegrationPoints(et, \"Gauss\" * string(2order + 1))\n",
    "                numIntPoints = length(intWeights)\n",
    "                comp, fun, ori = gmsh.model.mesh.getBasisFunctions(et, intPoints, \"Lagrange\")\n",
    "                h = reshape(fun, :, numIntPoints)\n",
    "                comp, dfun, ori = gmsh.model.mesh.getBasisFunctions(et, intPoints, \"GradLagrange\")\n",
    "                ∇h = reshape(dfun, :, numIntPoints)\n",
    "                nnet = zeros(Int, length(elemTags[i]), numNodes)\n",
    "                invJac = zeros(3, 3numIntPoints)\n",
    "                Iidx = zeros(Int, numNodes * pdim, numNodes * pdim)\n",
    "                Jidx = zeros(Int, numNodes * pdim, numNodes * pdim)\n",
    "                for k in 1:numNodes*pdim, l in 1:numNodes*pdim\n",
    "                    Iidx[k, l] = l\n",
    "                    Jidx[k, l] = k\n",
    "                end\n",
    "                H = spzeros(9 * numIntPoints, 9 * numNodes)\n",
    "                sizehint!(H, 9 * numNodes * numIntPoints)\n",
    "                ∂h = zeros(dim, numNodes * numIntPoints)\n",
    "                B = zeros(rowsOfB * numIntPoints, pdim * numNodes)\n",
    "                ∂H = spzeros(9 * numIntPoints, pdim * numNodes)\n",
    "                f1 = zeros(pdim * numNodes)\n",
    "                nn2 = zeros(Int, pdim * numNodes)\n",
    "                nn9 = zeros(Int, 9 * numNodes)\n",
    "                sizehint!(∂H, 9 * numNodes * numIntPoints)\n",
    "                #for k in 1:numIntPoints, l in 1:numNodes\n",
    "                #    for kk in 1:3:9, ll in 1:3\n",
    "                #H[k*9-(9-kk)-1+ll, l*pdim-(pdim-ll)] = h[(k-1)*numNodes+l]\n",
    "                #    end\n",
    "                #end\n",
    "                for j in 1:length(elemTags[i])\n",
    "                    elem = elemTags[i][j]\n",
    "                    for k in 1:numNodes\n",
    "                        nnet[j, k] = elemNodeTags[i][(j-1)*numNodes+k]\n",
    "                    end\n",
    "                    for k in 1:pdim\n",
    "                        nn2[k:pdim:pdim*numNodes] = pdim * nnet[j, 1:numNodes] .- (pdim - k)\n",
    "                    end\n",
    "                    for k in 1:9\n",
    "                        nn9[k:9:9*numNodes] = 9 * nnet[j, 1:numNodes] .- (9 - k)\n",
    "                    end\n",
    "                    jac, jacDet, coord = gmsh.model.mesh.getJacobian(elem, intPoints)\n",
    "                    Jac = reshape(jac, 3, :)\n",
    "                    for k in 1:numIntPoints\n",
    "                        invJac[1:3, 3*k-2:3*k] = @inline inv(Jac[1:3, 3*k-2:3*k])'\n",
    "                    end\n",
    "                    ∂h .*= 0\n",
    "                    for k in 1:numIntPoints, l in 1:numNodes\n",
    "                        ∂h[1:dim, (k-1)*numNodes+l] .= invJac[1:dim, k*3-2:k*3-(3-dim)] * ∇h[l*3-2:l*3-(3-dim), k]\n",
    "                    end\n",
    "                    r1 = r[nn2]\n",
    "                    S1 = S[nn9]\n",
    "                    B .*= 0\n",
    "                    ∂H .*= 0\n",
    "                    if dim == 2 && rowsOfB == 3\n",
    "                        for k in 1:numIntPoints\n",
    "                            for l in 1:numNodes\n",
    "                                B[k*rowsOfB-0, l*pdim-0] = B[k*rowsOfB-2, l*pdim-1] = ∂h[1, (k-1)*numNodes+l]\n",
    "                                B[k*rowsOfB-0, l*pdim-1] = B[k*rowsOfB-1, l*pdim-0] = ∂h[2, (k-1)*numNodes+l]\n",
    "                            end\n",
    "                        end\n",
    "                    elseif dim == 3 && rowsOfB == 6\n",
    "                        for k in 1:numIntPoints\n",
    "                            for l in 1:numNodes\n",
    "                                ∂H[k*9-(9-1), l*pdim-(pdim-1)] = ∂h[1, (k-1)*numNodes+l]\n",
    "                                ∂H[k*9-(9-2), l*pdim-(pdim-1)] = ∂h[2, (k-1)*numNodes+l]\n",
    "                                ∂H[k*9-(9-3), l*pdim-(pdim-1)] = ∂h[3, (k-1)*numNodes+l]\n",
    "                                ∂H[k*9-(9-4), l*pdim-(pdim-2)] = ∂h[1, (k-1)*numNodes+l]\n",
    "                                ∂H[k*9-(9-5), l*pdim-(pdim-2)] = ∂h[2, (k-1)*numNodes+l]\n",
    "                                ∂H[k*9-(9-6), l*pdim-(pdim-2)] = ∂h[3, (k-1)*numNodes+l]\n",
    "                                ∂H[k*9-(9-7), l*pdim-(pdim-3)] = ∂h[1, (k-1)*numNodes+l]\n",
    "                                ∂H[k*9-(9-8), l*pdim-(pdim-3)] = ∂h[2, (k-1)*numNodes+l]\n",
    "                                ∂H[k*9-(9-9), l*pdim-(pdim-3)] = ∂h[3, (k-1)*numNodes+l]\n",
    "                            end\n",
    "                            ∂H1 = ∂H[k*9-(9-1):k*9, 1:pdim*numNodes]\n",
    "                            F = ∂H1 * r1\n",
    "                            for l in 1:numNodes\n",
    "                                B[k*rowsOfB-5, l*pdim-2] = F[1] * ∂h[1, (k-1)*numNodes+l]\n",
    "                                B[k*rowsOfB-4, l*pdim-2] = F[4] * ∂h[2, (k-1)*numNodes+l]\n",
    "                                B[k*rowsOfB-3, l*pdim-2] = F[7] * ∂h[3, (k-1)*numNodes+l]\n",
    "                                B[k*rowsOfB-2, l*pdim-2] = (F[4] * ∂h[1, (k-1)*numNodes+l] + F[1] * ∂h[2, (k-1)*numNodes+l]) / 2\n",
    "                                B[k*rowsOfB-1, l*pdim-2] = (F[7] * ∂h[2, (k-1)*numNodes+l] + F[4] * ∂h[3, (k-1)*numNodes+l]) / 2\n",
    "                                B[k*rowsOfB-0, l*pdim-2] = (F[1] * ∂h[3, (k-1)*numNodes+l] + F[7] * ∂h[1, (k-1)*numNodes+l]) / 2\n",
    "                                B[k*rowsOfB-5, l*pdim-1] = F[2] * ∂h[1, (k-1)*numNodes+l]\n",
    "                                B[k*rowsOfB-4, l*pdim-1] = F[5] * ∂h[2, (k-1)*numNodes+l]\n",
    "                                B[k*rowsOfB-3, l*pdim-1] = F[8] * ∂h[3, (k-1)*numNodes+l]\n",
    "                                B[k*rowsOfB-2, l*pdim-1] = (F[5] * ∂h[1, (k-1)*numNodes+l] + F[2] * ∂h[2, (k-1)*numNodes+l]) / 2\n",
    "                                B[k*rowsOfB-1, l*pdim-1] = (F[8] * ∂h[2, (k-1)*numNodes+l] + F[5] * ∂h[3, (k-1)*numNodes+l]) / 2\n",
    "                                B[k*rowsOfB-0, l*pdim-1] = (F[2] * ∂h[3, (k-1)*numNodes+l] + F[8] * ∂h[1, (k-1)*numNodes+l]) / 2\n",
    "                                B[k*rowsOfB-5, l*pdim-0] = F[3] * ∂h[1, (k-1)*numNodes+l]\n",
    "                                B[k*rowsOfB-4, l*pdim-0] = F[6] * ∂h[2, (k-1)*numNodes+l]\n",
    "                                B[k*rowsOfB-3, l*pdim-0] = F[9] * ∂h[3, (k-1)*numNodes+l]\n",
    "                                B[k*rowsOfB-2, l*pdim-0] = (F[6] * ∂h[1, (k-1)*numNodes+l] + F[3] * ∂h[2, (k-1)*numNodes+l]) / 2\n",
    "                                B[k*rowsOfB-1, l*pdim-0] = (F[9] * ∂h[2, (k-1)*numNodes+l] + F[6] * ∂h[3, (k-1)*numNodes+l]) / 2\n",
    "                                B[k*rowsOfB-0, l*pdim-0] = (F[1] * ∂h[3, (k-1)*numNodes+l] + F[9] * ∂h[1, (k-1)*numNodes+l]) / 2\n",
    "                            end\n",
    "                        end\n",
    "                    else\n",
    "                        error(\"stiffnessMatrixLinear: rows of B is $rowsOfB, dimension of the problem is $dim.\")\n",
    "                    end\n",
    "                    f1 .*= 0\n",
    "                    for k in 1:numIntPoints\n",
    "                        H1 = H[k*9-(9-1):k*9, 1:9*numNodes]\n",
    "                        S0 = H1 * S1\n",
    "                        B1 = B[k*rowsOfB-(rowsOfB-1):k*rowsOfB, 1:pdim*numNodes]\n",
    "                        f1 += B1' * S0[[1, 5, 9, 4, 6, 3]] * b * jacDet[k] * intWeights[k]\n",
    "                    end\n",
    "                    #append!(I, nn2[Iidx[:]])\n",
    "                    #append!(J, nn2[Jidx[:]])\n",
    "                    #append!(V, K1[:])\n",
    "                end\n",
    "                #push!(nn, nnet)\n",
    "                f[nn2] += f1\n",
    "            end\n",
    "        end\n",
    "    end\n",
    "    #dof = problem.pdim * problem.non\n",
    "    #K = sparse(I, J, V, dof, dof)\n",
    "    #dropzeros!(K)\n",
    "    return f\n",
    "end"
   ]
  },
  {
   "cell_type": "code",
   "execution_count": 206,
   "id": "33177e41",
   "metadata": {},
   "outputs": [
    {
     "data": {
      "text/plain": [
       "deformationGradient (generic function with 1 method)"
      ]
     },
     "metadata": {},
     "output_type": "display_data"
    }
   ],
   "source": [
    "function deformationGradient(problem, r)\n",
    "    gmsh.model.setCurrent(problem.name)\n",
    "\n",
    "    type = :F\n",
    "    nsteps = size(r, 2)\n",
    "    F = []\n",
    "    numElem = Int[]\n",
    "    ncoord2 = zeros(3 * problem.non)\n",
    "    dim = problem.dim\n",
    "    pdim = problem.pdim\n",
    "    non = problem.non\n",
    "\n",
    "    for ipg in 1:length(problem.material)\n",
    "        phName = problem.material[ipg].phName\n",
    "        dim = problem.dim\n",
    "        pdim = problem.pdim\n",
    "        if problem.dim != 3 || problem.type != :Solid\n",
    "            error(\"deformationGradient: dimension is $(problem.dim), problem type is $(problem.type). (They must be 3 and :Solid.)\")\n",
    "        end\n",
    "\n",
    "        dimTags = gmsh.model.getEntitiesForPhysicalName(phName)\n",
    "        for idm in 1:length(dimTags)\n",
    "            dimTag = dimTags[idm]\n",
    "            edim = dimTag[1]\n",
    "            etag = dimTag[2]\n",
    "            elemTypes, elemTags, elemNodeTags = gmsh.model.mesh.getElements(edim, etag)\n",
    "            for i in 1:length(elemTypes)\n",
    "                et = elemTypes[i]\n",
    "                elementName, dim, order, numNodes::Int64, localNodeCoord, numPrimaryNodes = gmsh.model.mesh.getElementProperties(et)\n",
    "                nodeCoord = zeros(numNodes * 3)\n",
    "                for k in 1:dim, j = 1:numNodes\n",
    "                    nodeCoord[k+(j-1)*3] = localNodeCoord[k+(j-1)*dim]\n",
    "                end\n",
    "                comp, dfun, ori = gmsh.model.mesh.getBasisFunctions(et, nodeCoord, \"GradLagrange\")\n",
    "                ∇h = reshape(dfun, :, numNodes)\n",
    "                nnet = zeros(Int, length(elemTags[i]), numNodes)\n",
    "                invJac = zeros(3, 3numNodes)\n",
    "                ∂h = zeros(dim, numNodes * numNodes)\n",
    "                ∂H = spzeros(9 * numNodes, pdim * numNodes)\n",
    "                nn2 = zeros(Int, pdim * numNodes)\n",
    "                sizehint!(∂H, 9 * numNodes)\n",
    "                for j in 1:length(elemTags[i])\n",
    "                    elem = elemTags[i][j]\n",
    "                    for k in 1:numNodes\n",
    "                        nnet[j, k] = elemNodeTags[i][(j-1)*numNodes+k]\n",
    "                    end\n",
    "                    for k in 1:pdim\n",
    "                        nn2[k:pdim:pdim*numNodes] = pdim * nnet[j, 1:numNodes] .- (pdim - k)\n",
    "                    end\n",
    "                    jac, jacDet, coord = gmsh.model.mesh.getJacobian(elem, nodeCoord)\n",
    "                    Jac = reshape(jac, 3, :)\n",
    "                    for k in 1:numNodes\n",
    "                        invJac[1:3, 3*k-2:3*k] = @inline inv(Jac[1:3, 3*k-2:3*k])'\n",
    "                    end\n",
    "                    ∂h .*= 0\n",
    "                    for k in 1:numNodes, l in 1:numNodes\n",
    "                        ∂h[1:dim, (k-1)*numNodes+l] .= invJac[1:dim, k*3-2:k*3-(3-dim)] * ∇h[l*3-2:l*3-(3-dim), k]\n",
    "                    end\n",
    "                    r1 = r[nn2]\n",
    "                    ∂H .*= 0\n",
    "                    for k in 1:numNodes\n",
    "                        for l in 1:numNodes\n",
    "                            ∂H[k*9-(9-1), l*pdim-(pdim-1)] = ∂h[1, (k-1)*numNodes+l]\n",
    "                            ∂H[k*9-(9-2), l*pdim-(pdim-1)] = ∂h[2, (k-1)*numNodes+l]\n",
    "                            ∂H[k*9-(9-3), l*pdim-(pdim-1)] = ∂h[3, (k-1)*numNodes+l]\n",
    "                            ∂H[k*9-(9-4), l*pdim-(pdim-2)] = ∂h[1, (k-1)*numNodes+l]\n",
    "                            ∂H[k*9-(9-5), l*pdim-(pdim-2)] = ∂h[2, (k-1)*numNodes+l]\n",
    "                            ∂H[k*9-(9-6), l*pdim-(pdim-2)] = ∂h[3, (k-1)*numNodes+l]\n",
    "                            ∂H[k*9-(9-7), l*pdim-(pdim-3)] = ∂h[1, (k-1)*numNodes+l]\n",
    "                            ∂H[k*9-(9-8), l*pdim-(pdim-3)] = ∂h[2, (k-1)*numNodes+l]\n",
    "                            ∂H[k*9-(9-9), l*pdim-(pdim-3)] = ∂h[3, (k-1)*numNodes+l]\n",
    "                        end\n",
    "                    end\n",
    "                    push!(numElem, elem)\n",
    "                    F1 = zeros(9numNodes, nsteps)\n",
    "                    for k in 1:numNodes\n",
    "                        ∂H1 = ∂H[k*9-(9-1):k*9, 1:pdim*numNodes]\n",
    "                        for kk in 1:nsteps\n",
    "                            F0 = ∂H1 * r[nn2, kk]\n",
    "                            F1[(k-1)*9+1:k*9, kk] = [F0[1], F0[4], F0[7],\n",
    "                                F0[2], F0[5], F0[8],\n",
    "                                F0[3], F0[6], F0[9]]\n",
    "                        end\n",
    "                    end\n",
    "                    push!(F, F1)\n",
    "                end\n",
    "            end\n",
    "        end\n",
    "    end\n",
    "    sigma = FEM.TensorField(F, numElem, nsteps, type)\n",
    "    return sigma\n",
    "end"
   ]
  },
  {
   "cell_type": "code",
   "execution_count": 207,
   "id": "c2a10dc9",
   "metadata": {},
   "outputs": [],
   "source": [
    "fx(x, y, z) = 1000 * (y - 0.5)\n",
    "supp1 = FEM.displacementConstraint(\"left\", ux=0)\n",
    "supp2 = FEM.displacementConstraint(\"bottom\", uy=0)\n",
    "supp3 = FEM.displacementConstraint(\"front\", uz=0)\n",
    "load = FEM.load(\"right\", fx=1)\n",
    "\n",
    "q = FEM.solveDisplacement(problem, [load], [supp1, supp2, supp3])\n",
    "S = FEM.solveStress(problem, q)\n",
    "S = FEM.elementsToNodes(problem, S);"
   ]
  },
  {
   "cell_type": "code",
   "execution_count": 208,
   "id": "dca18561",
   "metadata": {},
   "outputs": [
    {
     "data": {
      "text/plain": [
       "24×24 SparseMatrixCSC{Float64, Int64} with 576 stored entries:\n",
       "⎡⣿⣿⣿⣿⣿⣿⣿⣿⣿⣿⣿⣿⎤\n",
       "⎢⣿⣿⣿⣿⣿⣿⣿⣿⣿⣿⣿⣿⎥\n",
       "⎢⣿⣿⣿⣿⣿⣿⣿⣿⣿⣿⣿⣿⎥\n",
       "⎢⣿⣿⣿⣿⣿⣿⣿⣿⣿⣿⣿⣿⎥\n",
       "⎢⣿⣿⣿⣿⣿⣿⣿⣿⣿⣿⣿⣿⎥\n",
       "⎣⣿⣿⣿⣿⣿⣿⣿⣿⣿⣿⣿⣿⎦"
      ]
     },
     "metadata": {},
     "output_type": "display_data"
    }
   ],
   "source": [
    "Kl = stiffnessMatrixLinear(problem, r)"
   ]
  },
  {
   "cell_type": "code",
   "execution_count": 209,
   "id": "124addc4",
   "metadata": {},
   "outputs": [
    {
     "data": {
      "text/plain": [
       "24×24 SparseMatrixCSC{Float64, Int64} with 192 stored entries:\n",
       "⎡⡑⢌⠢⡑⢌⠢⡑⢌⠢⡑⢌⠢⎤\n",
       "⎢⢌⠢⡑⢌⠢⡑⢌⠢⡑⢌⠢⡑⎥\n",
       "⎢⠢⡑⢌⠢⡑⢌⠢⡑⢌⠢⡑⢌⎥\n",
       "⎢⡑⢌⠢⡑⢌⠢⡑⢌⠢⡑⢌⠢⎥\n",
       "⎢⢌⠢⡑⢌⠢⡑⢌⠢⡑⢌⠢⡑⎥\n",
       "⎣⠢⡑⢌⠢⡑⢌⠢⡑⢌⠢⡑⢌⎦"
      ]
     },
     "metadata": {},
     "output_type": "display_data"
    }
   ],
   "source": [
    "Knl = stiffnessMatrixNonLinear(problem, S)"
   ]
  },
  {
   "cell_type": "code",
   "execution_count": 210,
   "id": "92ddf343",
   "metadata": {},
   "outputs": [
    {
     "data": {
      "text/plain": [
       "24×24 SparseMatrixCSC{Float64, Int64} with 576 stored entries:\n",
       "⎡⣿⣿⣿⣿⣿⣿⣿⣿⣿⣿⣿⣿⎤\n",
       "⎢⣿⣿⣿⣿⣿⣿⣿⣿⣿⣿⣿⣿⎥\n",
       "⎢⣿⣿⣿⣿⣿⣿⣿⣿⣿⣿⣿⣿⎥\n",
       "⎢⣿⣿⣿⣿⣿⣿⣿⣿⣿⣿⣿⣿⎥\n",
       "⎢⣿⣿⣿⣿⣿⣿⣿⣿⣿⣿⣿⣿⎥\n",
       "⎣⣿⣿⣿⣿⣿⣿⣿⣿⣿⣿⣿⣿⎦"
      ]
     },
     "metadata": {},
     "output_type": "display_data"
    }
   ],
   "source": [
    "K = FEM.stiffnessMatrix(problem)"
   ]
  },
  {
   "cell_type": "code",
   "execution_count": 211,
   "id": "81abd98e",
   "metadata": {},
   "outputs": [
    {
     "data": {
      "text/plain": [
       "24-element Vector{Float64}:\n",
       " 0.0\n",
       " 0.0\n",
       " 0.0\n",
       " 0.0\n",
       " 0.0\n",
       " 0.0\n",
       " 0.0\n",
       " 0.0\n",
       " 0.0\n",
       " 0.0\n",
       " ⋮\n",
       " 0.0\n",
       " 0.0\n",
       " 0.0\n",
       " 0.0\n",
       " 0.0\n",
       " 0.0\n",
       " 0.0\n",
       " 0.0\n",
       " 0.0"
      ]
     },
     "metadata": {},
     "output_type": "display_data"
    }
   ],
   "source": [
    "fnl = loadVectorNonLinear(problem, r, S)"
   ]
  },
  {
   "cell_type": "code",
   "execution_count": 212,
   "id": "02d09772",
   "metadata": {},
   "outputs": [
    {
     "data": {
      "text/plain": [
       "3"
      ]
     },
     "metadata": {},
     "output_type": "display_data"
    }
   ],
   "source": [
    "q = FEM.solveDisplacement(problem, [load], [supp1, supp2, supp3])\n",
    "S = FEM.solveStress(problem, q)\n",
    "S = FEM.elementsToNodes(problem, S)\n",
    "\n",
    "u1 = FEM.showDoFResults(problem, q, :uvec, visible=true)\n",
    "S1 = FEM.showDoFResults(problem, S, :s)\n",
    "\n",
    "f = FEM.loadVector(problem, [load])\n",
    "r = nodePositionVector(problem)\n",
    "for i in 1:1\n",
    "    Kl = stiffnessMatrixLinear(problem, r)\n",
    "    Knl = stiffnessMatrixNonLinear(problem, 0 * S)\n",
    "    f = FEM.loadVector(problem, [load])\n",
    "    fnl = loadVectorNonLinear(problem, r, 0 * S)\n",
    "    K, f = FEM.applyBoundaryConditions(problem, Kl + 1 * Knl, f - 1 * fnl, [supp1, supp2, supp3])\n",
    "    q = FEM.solveDisplacement(K, f)\n",
    "    S = FEM.solveStress(problem, q)\n",
    "    S = FEM.elementsToNodes(problem, S)\n",
    "    r += q\n",
    "end\n",
    "\n",
    "r0 = nodePositionVector(problem)\n",
    "u2 = FEM.showDoFResults(problem, r - r0, :uvec, visible=true)\n",
    "S2 = FEM.showDoFResults(problem, S, :s)"
   ]
  },
  {
   "cell_type": "code",
   "execution_count": 213,
   "id": "d2db8980",
   "metadata": {},
   "outputs": [
    {
     "data": {
      "text/plain": [
       "([5.000000000000001e-6, -1.4999999999999996e-6, 1.5000000000000002e-6], 0.0)"
      ]
     },
     "metadata": {},
     "output_type": "display_data"
    }
   ],
   "source": [
    "gmsh.view.probe(u1, 1, 1, 0)"
   ]
  },
  {
   "cell_type": "code",
   "execution_count": 214,
   "id": "10b9a775",
   "metadata": {},
   "outputs": [
    {
     "data": {
      "text/plain": [
       "([4.7249814276728586e-6, -1.371098471314447e-6, 1.6410461903605697e-6], 0.0)"
      ]
     },
     "metadata": {},
     "output_type": "display_data"
    }
   ],
   "source": [
    "gmsh.view.probe(u2, 1, 1, 0)"
   ]
  },
  {
   "cell_type": "code",
   "execution_count": 215,
   "id": "c89054bb",
   "metadata": {},
   "outputs": [
    {
     "data": {
      "text/plain": [
       "([1.0000000000000002, 1.303127611160462e-16, -1.7918004653456353e-16, 1.303127611160462e-16, 2.220446049250313e-16, -1.6289095139505776e-17, -1.7918004653456353e-16, -1.6289095139505776e-17, 1.1102230246251565e-16], 0.0)"
      ]
     },
     "metadata": {},
     "output_type": "display_data"
    }
   ],
   "source": [
    "gmsh.view.probe(S1, 1, 1, 0)"
   ]
  },
  {
   "cell_type": "code",
   "execution_count": 216,
   "id": "03c6af2f",
   "metadata": {},
   "outputs": [
    {
     "data": {
      "text/plain": [
       "([0.9245552310915889, 0.010016244165544795, 0.07089866203926, 0.010016244165544795, -0.013303214898972848, -0.010744903409091575, 0.07089866203926, -0.010744903409091575, -0.05483363321432913], 0.0)"
      ]
     },
     "metadata": {},
     "output_type": "display_data"
    }
   ],
   "source": [
    "gmsh.view.probe(S2, 1, 1, 0)"
   ]
  },
  {
   "cell_type": "code",
   "execution_count": 217,
   "id": "d9e04c86",
   "metadata": {},
   "outputs": [
    {
     "data": {
      "text/plain": [
       "LowLevelFEM.TensorField([[1.0; 0.0; … ; 0.0; 1.0;;]], [27], 1, :F)"
      ]
     },
     "metadata": {},
     "output_type": "display_data"
    }
   ],
   "source": [
    "r = nodePositionVector(problem)\n",
    "ux(x, y, z) = y / 2\n",
    "uy(x, y, z) = 0\n",
    "uz(x, y, z) = 0\n",
    "q0 = FEM.field(\"body\", fx=ux, fy=uy, fz=uz)\n",
    "q = FEM.vectorField(problem, [q0])\n",
    "F = deformationGradient(problem, r + q)"
   ]
  },
  {
   "cell_type": "code",
   "execution_count": null,
   "id": "bda3da4b",
   "metadata": {},
   "outputs": [
    {
     "data": {
      "text/plain": [
       "3×3 Matrix{Float64}:\n",
       " 1.0  0.5  0.0\n",
       " 0.0  1.0  0.0\n",
       " 0.0  0.0  1.0"
      ]
     },
     "metadata": {},
     "output_type": "display_data"
    }
   ],
   "source": [
    "reshape(F.sigma[1][1:9], 3, 3)"
   ]
  },
  {
   "cell_type": "code",
   "execution_count": 219,
   "id": "32bc3809",
   "metadata": {},
   "outputs": [],
   "source": [
    "#FEM.openPostProcessor()"
   ]
  },
  {
   "cell_type": "code",
   "execution_count": 220,
   "id": "7b517a53",
   "metadata": {},
   "outputs": [],
   "source": [
    "gmsh.finalize()"
   ]
  }
 ],
 "metadata": {
  "kernelspec": {
   "display_name": "Julia 1.11.5",
   "language": "julia",
   "name": "julia-1.11"
  },
  "language_info": {
   "file_extension": ".jl",
   "mimetype": "application/julia",
   "name": "julia",
   "version": "1.11.5"
  }
 },
 "nbformat": 4,
 "nbformat_minor": 5
}
