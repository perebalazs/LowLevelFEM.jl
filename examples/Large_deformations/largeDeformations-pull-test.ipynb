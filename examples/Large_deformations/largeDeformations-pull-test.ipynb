{
 "cells": [
  {
   "cell_type": "code",
   "execution_count": 30,
   "id": "79fd9685",
   "metadata": {},
   "outputs": [],
   "source": [
    "using LowLevelFEM\n",
    "import LowLevelFEM as FEM\n",
    "\n",
    "gmsh.initialize()"
   ]
  },
  {
   "cell_type": "code",
   "execution_count": 31,
   "id": "22283e0a",
   "metadata": {},
   "outputs": [],
   "source": [
    "using SparseArrays, LinearAlgebra"
   ]
  },
  {
   "cell_type": "code",
   "execution_count": 32,
   "id": "fa18250b",
   "metadata": {},
   "outputs": [
    {
     "name": "stdout",
     "output_type": "stream",
     "text": [
      "Info    : Reading 'body2.geo'...\n",
      "Info    : Meshing 1D...\n",
      "Info    : [  0%] Meshing curve 1 (Line)\n",
      "Info    : [ 10%] Meshing curve 2 (Line)\n",
      "Info    : [ 20%] Meshing curve 3 (Line)\n",
      "Info    : [ 30%] Meshing curve 4 (Line)\n",
      "Info    : [ 40%] Meshing curve 5 (Line)\n",
      "Info    : [ 50%] Meshing curve 6 (Line)\n",
      "Info    : [ 60%] Meshing curve 7 (Line)\n",
      "Info    : [ 60%] Meshing curve 8 (Line)\n",
      "Info    : [ 70%] Meshing curve 9 (Line)\n",
      "Info    : [ 80%] Meshing curve 10 (Line)\n",
      "Info    : [ 90%] Meshing curve 11 (Line)\n",
      "Info    : [100%] Meshing curve 12 (Line)\n",
      "Info    : Done meshing 1D (Wall 0.000672262s, CPU 0.000648s)\n",
      "Info    : Meshing 2D...\n",
      "Info    : [  0%] Meshing surface 1 (Transfinite)\n",
      "Info    : [ 20%] Meshing surface 2 (Transfinite)\n",
      "Info    : [ 40%] Meshing surface 3 (Transfinite)\n",
      "Info    : [ 60%] Meshing surface 4 (Transfinite)\n",
      "Info    : [ 70%] Meshing surface 5 (Transfinite)\n",
      "Info    : [ 90%] Meshing surface 6 (Transfinite)\n",
      "Info    : Done meshing 2D (Wall 0.000252103s, CPU 0.000252s)\n",
      "Info    : Meshing 3D...\n",
      "Info    : Meshing volume 1 (Transfinite)\n",
      "Info    : Done meshing 3D (Wall 0.000824864s, CPU 0.00082s)\n",
      "Info    : Optimizing mesh...\n",
      "Info    : Done optimizing mesh (Wall 1.0245e-05s, CPU 1e-05s)\n",
      "Info    : 275 nodes 432 elements\n",
      "Info    : Done reading 'body2.geo'\n"
     ]
    }
   ],
   "source": [
    "gmsh.open(\"body2.geo\")"
   ]
  },
  {
   "cell_type": "code",
   "execution_count": 33,
   "id": "936f1fab",
   "metadata": {},
   "outputs": [
    {
     "name": "stdout",
     "output_type": "stream",
     "text": [
      "Info    : RCMK renumbering...\n",
      "Info    : Done RCMK renumbering (bandwidth is now 61)\n",
      "Info    : RCMK renumbering...\n",
      "Info    : Done RCMK renumbering (bandwidth is now 61)\n",
      "Info    : RCMK renumbering...\n",
      "Info    : Done RCMK renumbering (bandwidth is now 61)\n"
     ]
    },
    {
     "data": {
      "text/plain": [
       "LowLevelFEM.Problem(\"body2\", :NeoHookeCompressible, 3, 3, LowLevelFEM.Material[LowLevelFEM.Material(\"body\", 200000.0, 0.3, 7.85e-9, 45.0, 4.2e8, 1.2e-5, 150.0, 100.0, 216.66666666666666)], 1.0, 275)"
      ]
     },
     "metadata": {},
     "output_type": "display_data"
    }
   ],
   "source": [
    "mat = FEM.material(\"body\", μ=100, ν=0.3)\n",
    "hooke = FEM.Problem([mat], type=:Solid)\n",
    "stvenkir = FEM.Problem([mat], type=:StVenantKirchhoff)\n",
    "neohooke = FEM.Problem([mat], type=:NeoHookeCompressible)"
   ]
  },
  {
   "cell_type": "code",
   "execution_count": 34,
   "id": "c2a10dc9",
   "metadata": {},
   "outputs": [
    {
     "data": {
      "text/plain": [
       "LowLevelFEM.TensorField([[2000.0000000000312; 5.004010026856174e-14; … ; -1.3344026738283132e-12; 1.0231815394945443e-12;;], [2000.000000000029; 1.367762740674021e-12; … ; 1.3344026738283131e-13; -2.3305801732931286e-12;;], [2000.0000000000282; -4.595349207996253e-12; … ; 2.6688053476566263e-13; 5.6843418860808015e-12;;], [2000.0000000000193; 1.4678429412111444e-12; … ; -2.2684845455081324e-12; 5.6274984672199935e-12;;], [2000.0000000000286; -4.87890977618477e-12; … ; 6.672013369141566e-13; -4.092726157978177e-12;;], [2000.0000000000234; -6.755413536255836e-13; … ; -2.6688053476566263e-13; 2.1032064978498966e-12;;], [2000.0000000000432; -9.365838766932472e-12; … ; 2.6688053476566263e-13; -5.4569682106375694e-12;;], [2000.000000000024; 1.7413954893459486e-11; … ; 4.003208021484939e-13; 6.87805368215777e-12;;], [2000.000000000009; -1.0950441942103595e-11; … ; -6.672013369141566e-13; 3.581135388230905e-12;;], [1999.999999999994; 5.946431915247421e-12; … ; -9.340818716798193e-13; 4.092726157978177e-12;;]  …  [2000.0000000000318; -3.669607353027861e-13; … ; -1.0675221390626505e-12; -2.1032064978498966e-12;;], [2000.0000000000298; -1.4011228075197287e-12; … ; 5.671211363770331e-13; 3.922195901395753e-12;;], [2000.0000000000277; -2.6688053476566264e-12; … ; -1.0008020053712348e-13; 1.1368683772161603e-12;;], [2000.0000000000227; 5.804651631153162e-12; … ; -1.2343224732911896e-12; 4.433786671143025e-12;;], [2000.000000000024; -2.76888554819375e-12; … ; 6.338412700684487e-13; -6.991740519879386e-12;;], [2000.0000000000393; 5.07073016054759e-12; … ; 2.6688053476566263e-13; -2.5011104298755527e-12;;], [2000.00000000002; 6.104892232764532e-12; … ; 5.337610695313253e-13; 2.8421709430404007e-13;;], [2000.0000000000184; 1.768083542822515e-12; … ; -1.3010426069826053e-12; 5.4569682106375694e-12;;], [2000.0000000000207; -5.604491230078915e-12; … ; -3.336006684570783e-14; -6.195932655828074e-12;;], [2000.0000000000073; 4.103288222022063e-12; … ; 3.669607353027861e-13; -1.0516032489249483e-11;;]], Matrix{Float64}(undef, 0, 0), [273, 274, 275, 276, 277, 278, 279, 280, 281, 282  …  423, 424, 425, 426, 427, 428, 429, 430, 431, 432], 1, :s)"
      ]
     },
     "metadata": {},
     "output_type": "display_data"
    }
   ],
   "source": [
    "supp = FEM.displacementConstraint(\"left\", ux=0, uy=0, uz=0)\n",
    "suppL = FEM.displacementConstraint(\"left\", ux=0)\n",
    "suppB = FEM.displacementConstraint(\"bottom\", uy=0)\n",
    "suppF = FEM.displacementConstraint(\"front\", uz=0)\n",
    "traction = FEM.load(\"right\", fx=2000)\n",
    "bodyforce = FEM.load(\"body\", fx=1)\n",
    "\n",
    "problem = hooke\n",
    "q = FEM.solveDisplacement(problem, [traction], [suppL, suppB, suppF])\n",
    "S = FEM.solveStress(problem, q)"
   ]
  },
  {
   "cell_type": "code",
   "execution_count": 35,
   "id": "5ff50776",
   "metadata": {},
   "outputs": [
    {
     "name": "stdout",
     "output_type": "stream",
     "text": [
      "Info    : Running Plugin(Smooth)...\n",
      "Info    : Done running Plugin(Smooth)\n"
     ]
    },
    {
     "data": {
      "text/plain": [
       "1"
      ]
     },
     "metadata": {},
     "output_type": "display_data"
    }
   ],
   "source": [
    "u1 = FEM.showDoFResults(problem, q, :uvec)\n",
    "S1 = FEM.showElementResults(problem, S, :s)"
   ]
  },
  {
   "cell_type": "code",
   "execution_count": 36,
   "id": "970e4fc4",
   "metadata": {},
   "outputs": [
    {
     "data": {
      "text/plain": [
       "LowLevelFEM.Problem(\"body2\", :NeoHookeCompressible, 3, 3, LowLevelFEM.Material[LowLevelFEM.Material(\"body\", 200000.0, 0.3, 7.85e-9, 45.0, 4.2e8, 1.2e-5, 150.0, 100.0, 216.66666666666666)], 1.0, 275)"
      ]
     },
     "metadata": {},
     "output_type": "display_data"
    }
   ],
   "source": [
    "problem = stvenkir\n",
    "problem = neohooke"
   ]
  },
  {
   "cell_type": "code",
   "execution_count": 37,
   "id": "02d09772",
   "metadata": {},
   "outputs": [],
   "source": [
    "followerLoad = false\n",
    "loadSteps = 10\n",
    "firstStep = 0.1\n",
    "maxIteration = 10\n",
    "saveSteps = true\n",
    "saveIterations = false\n",
    "plotConvergence = true\n",
    "ε = 1e-3\n",
    "\n",
    "r0 = FEM.nodePositionVector(problem)\n",
    "err0 = abs(maximum(r0) - minimum(r0))\n",
    "f = FEM.loadVector(problem, [traction])\n",
    "r = []\n",
    "r1 = []\n",
    "push!(r, r0)\n",
    "e = []\n",
    "\n",
    "for j in range(1, loadSteps)\n",
    "    fact = j / loadSteps\n",
    "    err = 1\n",
    "    i = 0\n",
    "    while err > ε && i < maxIteration\n",
    "        i += 1\n",
    "\n",
    "        Kl = FEM.stiffnessMatrixLinear(problem, r0)\n",
    "        Knl = FEM.stiffnessMatrixNonLinear(problem, r0)\n",
    "        if followerLoad == true\n",
    "            f = FEM.followerLoadVector(problem, r0, [traction])\n",
    "        end\n",
    "        fnl = FEM.loadVectorNonLinear(problem, r0)\n",
    "        K1, f1 = FEM.applyBoundaryConditions(problem, Kl + Knl, fact * f - fnl, [suppL, suppB, suppF])\n",
    "        q = FEM.solveDisplacement(K1, f1)\n",
    "        r0 += q\n",
    "        if saveIterations == true\n",
    "            push!(r, r0)\n",
    "        end\n",
    "        err = maximum(abs.(q)) / err0\n",
    "        if plotConvergence == true\n",
    "            append!(e, err)\n",
    "        end\n",
    "    end\n",
    "    if saveSteps == true\n",
    "        push!(r, r0)\n",
    "    end\n",
    "end\n",
    "if saveIterations == true || saveSteps == true\n",
    "    n = length(r)\n",
    "    r1 = zeros(length(r0), n)\n",
    "    for i in 1:n\n",
    "        r1[:, i] = r[i]\n",
    "    end\n",
    "else\n",
    "    r1 = zeros(length(r0), 1)\n",
    "    r1 = r0\n",
    "end"
   ]
  },
  {
   "cell_type": "code",
   "execution_count": 38,
   "id": "1866e2da",
   "metadata": {},
   "outputs": [
    {
     "data": {
      "image/png": "[encoded data removed]",
      "image/svg+xml": [
       "<?xml version=\"1.0\" encoding=\"utf-8\"?>\n",
       "<svg xmlns=\"http://www.w3.org/2000/svg\" xmlns:xlink=\"http://www.w3.org/1999/xlink\" width=\"600\" height=\"400\" viewBox=\"0 0 2400 1600\">\n",
       "<defs>\n",
       "  <clipPath id=\"clip700\">\n",
       "    <rect x=\"0\" y=\"0\" width=\"2400\" height=\"1600\"/>\n",
       "  </clipPath>\n",
       "</defs>\n",
       "<path clip-path=\"url(#clip700)\" d=\"M0 1600 L2400 1600 L2400 0 L0 0  Z\" fill=\"#ffffff\" fill-rule=\"evenodd\" fill-opacity=\"1\"/>\n",
       "<defs>\n",
       "  <clipPath id=\"clip701\">\n",
       "    <rect x=\"480\" y=\"0\" width=\"1681\" height=\"1600\"/>\n",
       "  </clipPath>\n",
       "</defs>\n",
       "<path clip-path=\"url(#clip700)\" d=\"M149.191 1486.45 L2352.76 1486.45 L2352.76 47.2441 L149.191 47.2441  Z\" fill=\"#ffffff\" fill-rule=\"evenodd\" fill-opacity=\"1\"/>\n",
       "<defs>\n",
       "  <clipPath id=\"clip702\">\n",
       "    <rect x=\"149\" y=\"47\" width=\"2205\" height=\"1440\"/>\n",
       "  </clipPath>\n",
       "</defs>\n",
       "<polyline clip-path=\"url(#clip702)\" style=\"stroke:#000000; stroke-linecap:round; stroke-linejoin:round; stroke-width:2; stroke-opacity:0.1; fill:none\" points=\"519.531,1486.45 519.531,47.2441 \"/>\n",
       "<polyline clip-path=\"url(#clip702)\" style=\"stroke:#000000; stroke-linecap:round; stroke-linejoin:round; stroke-width:2; stroke-opacity:0.1; fill:none\" points=\"904.501,1486.45 904.501,47.2441 \"/>\n",
       "<polyline clip-path=\"url(#clip702)\" style=\"stroke:#000000; stroke-linecap:round; stroke-linejoin:round; stroke-width:2; stroke-opacity:0.1; fill:none\" points=\"1289.47,1486.45 1289.47,47.2441 \"/>\n",
       "<polyline clip-path=\"url(#clip702)\" style=\"stroke:#000000; stroke-linecap:round; stroke-linejoin:round; stroke-width:2; stroke-opacity:0.1; fill:none\" points=\"1674.44,1486.45 1674.44,47.2441 \"/>\n",
       "<polyline clip-path=\"url(#clip702)\" style=\"stroke:#000000; stroke-linecap:round; stroke-linejoin:round; stroke-width:2; stroke-opacity:0.1; fill:none\" points=\"2059.41,1486.45 2059.41,47.2441 \"/>\n",
       "<polyline clip-path=\"url(#clip702)\" style=\"stroke:#000000; stroke-linecap:round; stroke-linejoin:round; stroke-width:2; stroke-opacity:0.1; fill:none\" points=\"149.191,1294.9 2352.76,1294.9 \"/>\n",
       "<polyline clip-path=\"url(#clip702)\" style=\"stroke:#000000; stroke-linecap:round; stroke-linejoin:round; stroke-width:2; stroke-opacity:0.1; fill:none\" points=\"149.191,1014.27 2352.76,1014.27 \"/>\n",
       "<polyline clip-path=\"url(#clip702)\" style=\"stroke:#000000; stroke-linecap:round; stroke-linejoin:round; stroke-width:2; stroke-opacity:0.1; fill:none\" points=\"149.191,733.642 2352.76,733.642 \"/>\n",
       "<polyline clip-path=\"url(#clip702)\" style=\"stroke:#000000; stroke-linecap:round; stroke-linejoin:round; stroke-width:2; stroke-opacity:0.1; fill:none\" points=\"149.191,453.011 2352.76,453.011 \"/>\n",
       "<polyline clip-path=\"url(#clip702)\" style=\"stroke:#000000; stroke-linecap:round; stroke-linejoin:round; stroke-width:2; stroke-opacity:0.1; fill:none\" points=\"149.191,172.381 2352.76,172.381 \"/>\n",
       "<polyline clip-path=\"url(#clip700)\" style=\"stroke:#000000; stroke-linecap:round; stroke-linejoin:round; stroke-width:4; stroke-opacity:1; fill:none\" points=\"149.191,1486.45 2352.76,1486.45 \"/>\n",
       "<polyline clip-path=\"url(#clip700)\" style=\"stroke:#000000; stroke-linecap:round; stroke-linejoin:round; stroke-width:4; stroke-opacity:1; fill:none\" points=\"519.531,1486.45 519.531,1467.55 \"/>\n",
       "<polyline clip-path=\"url(#clip700)\" style=\"stroke:#000000; stroke-linecap:round; stroke-linejoin:round; stroke-width:4; stroke-opacity:1; fill:none\" points=\"904.501,1486.45 904.501,1467.55 \"/>\n",
       "<polyline clip-path=\"url(#clip700)\" style=\"stroke:#000000; stroke-linecap:round; stroke-linejoin:round; stroke-width:4; stroke-opacity:1; fill:none\" points=\"1289.47,1486.45 1289.47,1467.55 \"/>\n",
       "<polyline clip-path=\"url(#clip700)\" style=\"stroke:#000000; stroke-linecap:round; stroke-linejoin:round; stroke-width:4; stroke-opacity:1; fill:none\" points=\"1674.44,1486.45 1674.44,1467.55 \"/>\n",
       "<polyline clip-path=\"url(#clip700)\" style=\"stroke:#000000; stroke-linecap:round; stroke-linejoin:round; stroke-width:4; stroke-opacity:1; fill:none\" points=\"2059.41,1486.45 2059.41,1467.55 \"/>\n",
       "<path clip-path=\"url(#clip700)\" d=\"M509.809 1514.29 L528.166 1514.29 L528.166 1518.22 L514.092 1518.22 L514.092 1526.7 Q515.11 1526.35 516.129 1526.19 Q517.147 1526 518.166 1526 Q523.953 1526 527.332 1529.17 Q530.712 1532.34 530.712 1537.76 Q530.712 1543.34 527.24 1546.44 Q523.768 1549.52 517.448 1549.52 Q515.272 1549.52 513.004 1549.15 Q510.758 1548.78 508.351 1548.04 L508.351 1543.34 Q510.434 1544.47 512.656 1545.03 Q514.879 1545.58 517.356 1545.58 Q521.36 1545.58 523.698 1543.48 Q526.036 1541.37 526.036 1537.76 Q526.036 1534.15 523.698 1532.04 Q521.36 1529.94 517.356 1529.94 Q515.481 1529.94 513.606 1530.35 Q511.754 1530.77 509.809 1531.65 L509.809 1514.29 Z\" fill=\"#000000\" fill-rule=\"nonzero\" fill-opacity=\"1\" /><path clip-path=\"url(#clip700)\" d=\"M879.189 1544.91 L886.827 1544.91 L886.827 1518.55 L878.517 1520.21 L878.517 1515.95 L886.781 1514.29 L891.457 1514.29 L891.457 1544.91 L899.096 1544.91 L899.096 1548.85 L879.189 1548.85 L879.189 1544.91 Z\" fill=\"#000000\" fill-rule=\"nonzero\" fill-opacity=\"1\" /><path clip-path=\"url(#clip700)\" d=\"M918.54 1517.37 Q914.929 1517.37 913.1 1520.93 Q911.295 1524.47 911.295 1531.6 Q911.295 1538.71 913.1 1542.27 Q914.929 1545.82 918.54 1545.82 Q922.174 1545.82 923.98 1542.27 Q925.809 1538.71 925.809 1531.6 Q925.809 1524.47 923.98 1520.93 Q922.174 1517.37 918.54 1517.37 M918.54 1513.66 Q924.35 1513.66 927.406 1518.27 Q930.485 1522.85 930.485 1531.6 Q930.485 1540.33 927.406 1544.94 Q924.35 1549.52 918.54 1549.52 Q912.73 1549.52 909.651 1544.94 Q906.596 1540.33 906.596 1531.6 Q906.596 1522.85 909.651 1518.27 Q912.73 1513.66 918.54 1513.66 Z\" fill=\"#000000\" fill-rule=\"nonzero\" fill-opacity=\"1\" /><path clip-path=\"url(#clip700)\" d=\"M1264.66 1544.91 L1272.29 1544.91 L1272.29 1518.55 L1263.98 1520.21 L1263.98 1515.95 L1272.25 1514.29 L1276.92 1514.29 L1276.92 1544.91 L1284.56 1544.91 L1284.56 1548.85 L1264.66 1548.85 L1264.66 1544.91 Z\" fill=\"#000000\" fill-rule=\"nonzero\" fill-opacity=\"1\" /><path clip-path=\"url(#clip700)\" d=\"M1294.05 1514.29 L1312.41 1514.29 L1312.41 1518.22 L1298.34 1518.22 L1298.34 1526.7 Q1299.35 1526.35 1300.37 1526.19 Q1301.39 1526 1302.41 1526 Q1308.2 1526 1311.58 1529.17 Q1314.96 1532.34 1314.96 1537.76 Q1314.96 1543.34 1311.48 1546.44 Q1308.01 1549.52 1301.69 1549.52 Q1299.52 1549.52 1297.25 1549.15 Q1295 1548.78 1292.6 1548.04 L1292.6 1543.34 Q1294.68 1544.47 1296.9 1545.03 Q1299.12 1545.58 1301.6 1545.58 Q1305.6 1545.58 1307.94 1543.48 Q1310.28 1541.37 1310.28 1537.76 Q1310.28 1534.15 1307.94 1532.04 Q1305.6 1529.94 1301.6 1529.94 Q1299.72 1529.94 1297.85 1530.35 Q1296 1530.77 1294.05 1531.65 L1294.05 1514.29 Z\" fill=\"#000000\" fill-rule=\"nonzero\" fill-opacity=\"1\" /><path clip-path=\"url(#clip700)\" d=\"M1653.21 1544.91 L1669.53 1544.91 L1669.53 1548.85 L1647.59 1548.85 L1647.59 1544.91 Q1650.25 1542.16 1654.83 1537.53 Q1659.44 1532.88 1660.62 1531.53 Q1662.87 1529.01 1663.75 1527.27 Q1664.65 1525.51 1664.65 1523.82 Q1664.65 1521.07 1662.7 1519.33 Q1660.78 1517.6 1657.68 1517.6 Q1655.48 1517.6 1653.03 1518.36 Q1650.6 1519.13 1647.82 1520.68 L1647.82 1515.95 Q1650.64 1514.82 1653.1 1514.24 Q1655.55 1513.66 1657.59 1513.66 Q1662.96 1513.66 1666.15 1516.35 Q1669.35 1519.03 1669.35 1523.52 Q1669.35 1525.65 1668.54 1527.57 Q1667.75 1529.47 1665.64 1532.07 Q1665.06 1532.74 1661.96 1535.95 Q1658.86 1539.15 1653.21 1544.91 Z\" fill=\"#000000\" fill-rule=\"nonzero\" fill-opacity=\"1\" /><path clip-path=\"url(#clip700)\" d=\"M1689.35 1517.37 Q1685.74 1517.37 1683.91 1520.93 Q1682.1 1524.47 1682.1 1531.6 Q1682.1 1538.71 1683.91 1542.27 Q1685.74 1545.82 1689.35 1545.82 Q1692.98 1545.82 1694.79 1542.27 Q1696.62 1538.71 1696.62 1531.6 Q1696.62 1524.47 1694.79 1520.93 Q1692.98 1517.37 1689.35 1517.37 M1689.35 1513.66 Q1695.16 1513.66 1698.21 1518.27 Q1701.29 1522.85 1701.29 1531.6 Q1701.29 1540.33 1698.21 1544.94 Q1695.16 1549.52 1689.35 1549.52 Q1683.54 1549.52 1680.46 1544.94 Q1677.4 1540.33 1677.4 1531.6 Q1677.4 1522.85 1680.46 1518.27 Q1683.54 1513.66 1689.35 1513.66 Z\" fill=\"#000000\" fill-rule=\"nonzero\" fill-opacity=\"1\" /><path clip-path=\"url(#clip700)\" d=\"M2038.68 1544.91 L2055 1544.91 L2055 1548.85 L2033.06 1548.85 L2033.06 1544.91 Q2035.72 1542.16 2040.3 1537.53 Q2044.91 1532.88 2046.09 1531.53 Q2048.33 1529.01 2049.21 1527.27 Q2050.12 1525.51 2050.12 1523.82 Q2050.12 1521.07 2048.17 1519.33 Q2046.25 1517.6 2043.15 1517.6 Q2040.95 1517.6 2038.49 1518.36 Q2036.06 1519.13 2033.29 1520.68 L2033.29 1515.95 Q2036.11 1514.82 2038.56 1514.24 Q2041.02 1513.66 2043.06 1513.66 Q2048.43 1513.66 2051.62 1516.35 Q2054.81 1519.03 2054.81 1523.52 Q2054.81 1525.65 2054 1527.57 Q2053.22 1529.47 2051.11 1532.07 Q2050.53 1532.74 2047.43 1535.95 Q2044.33 1539.15 2038.68 1544.91 Z\" fill=\"#000000\" fill-rule=\"nonzero\" fill-opacity=\"1\" /><path clip-path=\"url(#clip700)\" d=\"M2064.86 1514.29 L2083.22 1514.29 L2083.22 1518.22 L2069.14 1518.22 L2069.14 1526.7 Q2070.16 1526.35 2071.18 1526.19 Q2072.2 1526 2073.22 1526 Q2079 1526 2082.38 1529.17 Q2085.76 1532.34 2085.76 1537.76 Q2085.76 1543.34 2082.29 1546.44 Q2078.82 1549.52 2072.5 1549.52 Q2070.32 1549.52 2068.05 1549.15 Q2065.81 1548.78 2063.4 1548.04 L2063.4 1543.34 Q2065.49 1544.47 2067.71 1545.03 Q2069.93 1545.58 2072.41 1545.58 Q2076.41 1545.58 2078.75 1543.48 Q2081.09 1541.37 2081.09 1537.76 Q2081.09 1534.15 2078.75 1532.04 Q2076.41 1529.94 2072.41 1529.94 Q2070.53 1529.94 2068.66 1530.35 Q2066.8 1530.77 2064.86 1531.65 L2064.86 1514.29 Z\" fill=\"#000000\" fill-rule=\"nonzero\" fill-opacity=\"1\" /><polyline clip-path=\"url(#clip700)\" style=\"stroke:#000000; stroke-linecap:round; stroke-linejoin:round; stroke-width:4; stroke-opacity:1; fill:none\" points=\"149.191,1486.45 149.191,47.2441 \"/>\n",
       "<polyline clip-path=\"url(#clip700)\" style=\"stroke:#000000; stroke-linecap:round; stroke-linejoin:round; stroke-width:4; stroke-opacity:1; fill:none\" points=\"149.191,1294.9 168.089,1294.9 \"/>\n",
       "<polyline clip-path=\"url(#clip700)\" style=\"stroke:#000000; stroke-linecap:round; stroke-linejoin:round; stroke-width:4; stroke-opacity:1; fill:none\" points=\"149.191,1014.27 168.089,1014.27 \"/>\n",
       "<polyline clip-path=\"url(#clip700)\" style=\"stroke:#000000; stroke-linecap:round; stroke-linejoin:round; stroke-width:4; stroke-opacity:1; fill:none\" points=\"149.191,733.642 168.089,733.642 \"/>\n",
       "<polyline clip-path=\"url(#clip700)\" style=\"stroke:#000000; stroke-linecap:round; stroke-linejoin:round; stroke-width:4; stroke-opacity:1; fill:none\" points=\"149.191,453.011 168.089,453.011 \"/>\n",
       "<polyline clip-path=\"url(#clip700)\" style=\"stroke:#000000; stroke-linecap:round; stroke-linejoin:round; stroke-width:4; stroke-opacity:1; fill:none\" points=\"149.191,172.381 168.089,172.381 \"/>\n",
       "<path clip-path=\"url(#clip700)\" d=\"M50.9921 1295.35 L80.6679 1295.35 L80.6679 1299.29 L50.9921 1299.29 L50.9921 1295.35 Z\" fill=\"#000000\" fill-rule=\"nonzero\" fill-opacity=\"1\" /><path clip-path=\"url(#clip700)\" d=\"M103.608 1281.7 L91.8021 1300.15 L103.608 1300.15 L103.608 1281.7 M102.381 1277.62 L108.26 1277.62 L108.26 1300.15 L113.191 1300.15 L113.191 1304.03 L108.26 1304.03 L108.26 1312.18 L103.608 1312.18 L103.608 1304.03 L88.0058 1304.03 L88.0058 1299.52 L102.381 1277.62 Z\" fill=\"#000000\" fill-rule=\"nonzero\" fill-opacity=\"1\" /><path clip-path=\"url(#clip700)\" d=\"M52.1264 1014.72 L81.8021 1014.72 L81.8021 1018.66 L52.1264 1018.66 L52.1264 1014.72 Z\" fill=\"#000000\" fill-rule=\"nonzero\" fill-opacity=\"1\" /><path clip-path=\"url(#clip700)\" d=\"M106.061 1012.92 Q109.418 1013.64 111.293 1015.9 Q113.191 1018.17 113.191 1021.51 Q113.191 1026.62 109.672 1029.42 Q106.154 1032.22 99.6724 1032.22 Q97.4965 1032.22 95.1817 1031.78 Q92.89 1031.37 90.4364 1030.51 L90.4364 1026 Q92.3808 1027.13 94.6956 1027.71 Q97.0104 1028.29 99.5335 1028.29 Q103.932 1028.29 106.223 1026.55 Q108.538 1024.82 108.538 1021.51 Q108.538 1018.45 106.385 1016.74 Q104.256 1015 100.436 1015 L96.4085 1015 L96.4085 1011.16 L100.621 1011.16 Q104.071 1011.16 105.899 1009.79 Q107.728 1008.4 107.728 1005.81 Q107.728 1003.15 105.83 1001.74 Q103.955 1000.3 100.436 1000.3 Q98.515 1000.3 96.316 1000.72 Q94.1169 1001.14 91.478 1002.02 L91.478 997.849 Q94.14 997.108 96.4548 996.737 Q98.7928 996.367 100.853 996.367 Q106.177 996.367 109.279 998.798 Q112.381 1001.21 112.381 1005.33 Q112.381 1008.2 110.737 1010.19 Q109.094 1012.15 106.061 1012.92 Z\" fill=\"#000000\" fill-rule=\"nonzero\" fill-opacity=\"1\" /><path clip-path=\"url(#clip700)\" d=\"M53.0754 734.093 L82.7512 734.093 L82.7512 738.028 L53.0754 738.028 L53.0754 734.093 Z\" fill=\"#000000\" fill-rule=\"nonzero\" fill-opacity=\"1\" /><path clip-path=\"url(#clip700)\" d=\"M96.8715 746.987 L113.191 746.987 L113.191 750.922 L91.2465 750.922 L91.2465 746.987 Q93.9086 744.232 98.4919 739.602 Q103.098 734.95 104.279 733.607 Q106.524 731.084 107.404 729.348 Q108.307 727.589 108.307 725.899 Q108.307 723.144 106.362 721.408 Q104.441 719.672 101.339 719.672 Q99.14 719.672 96.6863 720.436 Q94.2558 721.2 91.478 722.751 L91.478 718.028 Q94.3021 716.894 96.7558 716.315 Q99.2095 715.737 101.246 715.737 Q106.617 715.737 109.811 718.422 Q113.006 721.107 113.006 725.598 Q113.006 727.727 112.196 729.649 Q111.408 731.547 109.302 734.139 Q108.723 734.811 105.621 738.028 Q102.52 741.223 96.8715 746.987 Z\" fill=\"#000000\" fill-rule=\"nonzero\" fill-opacity=\"1\" /><path clip-path=\"url(#clip700)\" d=\"M52.7051 453.463 L82.3808 453.463 L82.3808 457.398 L52.7051 457.398 L52.7051 453.463 Z\" fill=\"#000000\" fill-rule=\"nonzero\" fill-opacity=\"1\" /><path clip-path=\"url(#clip700)\" d=\"M93.2836 466.356 L100.922 466.356 L100.922 439.991 L92.6123 441.657 L92.6123 437.398 L100.876 435.731 L105.552 435.731 L105.552 466.356 L113.191 466.356 L113.191 470.291 L93.2836 470.291 L93.2836 466.356 Z\" fill=\"#000000\" fill-rule=\"nonzero\" fill-opacity=\"1\" /><path clip-path=\"url(#clip700)\" d=\"M101.246 158.18 Q97.6354 158.18 95.8067 161.745 Q94.0012 165.286 94.0012 172.416 Q94.0012 179.522 95.8067 183.087 Q97.6354 186.629 101.246 186.629 Q104.881 186.629 106.686 183.087 Q108.515 179.522 108.515 172.416 Q108.515 165.286 106.686 161.745 Q104.881 158.18 101.246 158.18 M101.246 154.476 Q107.057 154.476 110.112 159.083 Q113.191 163.666 113.191 172.416 Q113.191 181.143 110.112 185.749 Q107.057 190.332 101.246 190.332 Q95.4363 190.332 92.3576 185.749 Q89.3021 181.143 89.3021 172.416 Q89.3021 163.666 92.3576 159.083 Q95.4363 154.476 101.246 154.476 Z\" fill=\"#000000\" fill-rule=\"nonzero\" fill-opacity=\"1\" /><polyline clip-path=\"url(#clip702)\" style=\"stroke:#009af9; stroke-linecap:round; stroke-linejoin:round; stroke-width:4; stroke-opacity:1; fill:none\" points=\"211.556,204.357 288.55,274.751 365.544,521.287 442.538,1082.95 519.531,109.811 596.525,393.719 673.519,977.887 750.513,1368.83 827.507,92.6836 904.501,593.923 981.495,1037.07 1058.49,89.552 1135.48,749.023 1212.48,1198.93 1289.47,88.6494 1366.46,868.533 1443.46,1334.16 1520.45,88.3014 1597.45,964.811 1674.44,1445.72 1751.43,88.14 1828.43,1045.21 1905.42,88.0563 1982.42,1112.79 2059.41,88.0069 2136.4,1171.75 2213.4,87.9763 2290.39,1218.66 \"/>\n",
       "<path clip-path=\"url(#clip700)\" d=\"M222.643 1438.47 L495.43 1438.47 L495.43 1334.79 L222.643 1334.79  Z\" fill=\"#ffffff\" fill-rule=\"evenodd\" fill-opacity=\"1\"/>\n",
       "<polyline clip-path=\"url(#clip700)\" style=\"stroke:#000000; stroke-linecap:round; stroke-linejoin:round; stroke-width:4; stroke-opacity:1; fill:none\" points=\"222.643,1438.47 495.43,1438.47 495.43,1334.79 222.643,1334.79 222.643,1438.47 \"/>\n",
       "<polyline clip-path=\"url(#clip700)\" style=\"stroke:#009af9; stroke-linecap:round; stroke-linejoin:round; stroke-width:4; stroke-opacity:1; fill:none\" points=\"247.127,1386.63 394.031,1386.63 \"/>\n",
       "<path clip-path=\"url(#clip700)\" d=\"M432.358 1406.32 Q430.552 1410.95 428.84 1412.36 Q427.127 1413.78 424.256 1413.78 L420.853 1413.78 L420.853 1410.21 L423.353 1410.21 Q425.113 1410.21 426.085 1409.38 Q427.057 1408.54 428.238 1405.44 L429.002 1403.5 L418.515 1377.99 L423.029 1377.99 L431.131 1398.27 L439.233 1377.99 L443.747 1377.99 L432.358 1406.32 Z\" fill=\"#000000\" fill-rule=\"nonzero\" fill-opacity=\"1\" /><path clip-path=\"url(#clip700)\" d=\"M451.038 1399.98 L458.677 1399.98 L458.677 1373.61 L450.367 1375.28 L450.367 1371.02 L458.631 1369.35 L463.307 1369.35 L463.307 1399.98 L470.946 1399.98 L470.946 1403.91 L451.038 1403.91 L451.038 1399.98 Z\" fill=\"#000000\" fill-rule=\"nonzero\" fill-opacity=\"1\" /></svg>\n"
      ],
      "text/html": [
       "<?xml version=\"1.0\" encoding=\"utf-8\"?>\n",
       "<svg xmlns=\"http://www.w3.org/2000/svg\" xmlns:xlink=\"http://www.w3.org/1999/xlink\" width=\"600\" height=\"400\" viewBox=\"0 0 2400 1600\">\n",
       "<defs>\n",
       "  <clipPath id=\"clip750\">\n",
       "    <rect x=\"0\" y=\"0\" width=\"2400\" height=\"1600\"/>\n",
       "  </clipPath>\n",
       "</defs>\n",
       "<path clip-path=\"url(#clip750)\" d=\"M0 1600 L2400 1600 L2400 0 L0 0  Z\" fill=\"#ffffff\" fill-rule=\"evenodd\" fill-opacity=\"1\"/>\n",
       "<defs>\n",
       "  <clipPath id=\"clip751\">\n",
       "    <rect x=\"480\" y=\"0\" width=\"1681\" height=\"1600\"/>\n",
       "  </clipPath>\n",
       "</defs>\n",
       "<path clip-path=\"url(#clip750)\" d=\"M149.191 1486.45 L2352.76 1486.45 L2352.76 47.2441 L149.191 47.2441  Z\" fill=\"#ffffff\" fill-rule=\"evenodd\" fill-opacity=\"1\"/>\n",
       "<defs>\n",
       "  <clipPath id=\"clip752\">\n",
       "    <rect x=\"149\" y=\"47\" width=\"2205\" height=\"1440\"/>\n",
       "  </clipPath>\n",
       "</defs>\n",
       "<polyline clip-path=\"url(#clip752)\" style=\"stroke:#000000; stroke-linecap:round; stroke-linejoin:round; stroke-width:2; stroke-opacity:0.1; fill:none\" points=\"519.531,1486.45 519.531,47.2441 \"/>\n",
       "<polyline clip-path=\"url(#clip752)\" style=\"stroke:#000000; stroke-linecap:round; stroke-linejoin:round; stroke-width:2; stroke-opacity:0.1; fill:none\" points=\"904.501,1486.45 904.501,47.2441 \"/>\n",
       "<polyline clip-path=\"url(#clip752)\" style=\"stroke:#000000; stroke-linecap:round; stroke-linejoin:round; stroke-width:2; stroke-opacity:0.1; fill:none\" points=\"1289.47,1486.45 1289.47,47.2441 \"/>\n",
       "<polyline clip-path=\"url(#clip752)\" style=\"stroke:#000000; stroke-linecap:round; stroke-linejoin:round; stroke-width:2; stroke-opacity:0.1; fill:none\" points=\"1674.44,1486.45 1674.44,47.2441 \"/>\n",
       "<polyline clip-path=\"url(#clip752)\" style=\"stroke:#000000; stroke-linecap:round; stroke-linejoin:round; stroke-width:2; stroke-opacity:0.1; fill:none\" points=\"2059.41,1486.45 2059.41,47.2441 \"/>\n",
       "<polyline clip-path=\"url(#clip752)\" style=\"stroke:#000000; stroke-linecap:round; stroke-linejoin:round; stroke-width:2; stroke-opacity:0.1; fill:none\" points=\"149.191,1294.9 2352.76,1294.9 \"/>\n",
       "<polyline clip-path=\"url(#clip752)\" style=\"stroke:#000000; stroke-linecap:round; stroke-linejoin:round; stroke-width:2; stroke-opacity:0.1; fill:none\" points=\"149.191,1014.27 2352.76,1014.27 \"/>\n",
       "<polyline clip-path=\"url(#clip752)\" style=\"stroke:#000000; stroke-linecap:round; stroke-linejoin:round; stroke-width:2; stroke-opacity:0.1; fill:none\" points=\"149.191,733.642 2352.76,733.642 \"/>\n",
       "<polyline clip-path=\"url(#clip752)\" style=\"stroke:#000000; stroke-linecap:round; stroke-linejoin:round; stroke-width:2; stroke-opacity:0.1; fill:none\" points=\"149.191,453.011 2352.76,453.011 \"/>\n",
       "<polyline clip-path=\"url(#clip752)\" style=\"stroke:#000000; stroke-linecap:round; stroke-linejoin:round; stroke-width:2; stroke-opacity:0.1; fill:none\" points=\"149.191,172.381 2352.76,172.381 \"/>\n",
       "<polyline clip-path=\"url(#clip750)\" style=\"stroke:#000000; stroke-linecap:round; stroke-linejoin:round; stroke-width:4; stroke-opacity:1; fill:none\" points=\"149.191,1486.45 2352.76,1486.45 \"/>\n",
       "<polyline clip-path=\"url(#clip750)\" style=\"stroke:#000000; stroke-linecap:round; stroke-linejoin:round; stroke-width:4; stroke-opacity:1; fill:none\" points=\"519.531,1486.45 519.531,1467.55 \"/>\n",
       "<polyline clip-path=\"url(#clip750)\" style=\"stroke:#000000; stroke-linecap:round; stroke-linejoin:round; stroke-width:4; stroke-opacity:1; fill:none\" points=\"904.501,1486.45 904.501,1467.55 \"/>\n",
       "<polyline clip-path=\"url(#clip750)\" style=\"stroke:#000000; stroke-linecap:round; stroke-linejoin:round; stroke-width:4; stroke-opacity:1; fill:none\" points=\"1289.47,1486.45 1289.47,1467.55 \"/>\n",
       "<polyline clip-path=\"url(#clip750)\" style=\"stroke:#000000; stroke-linecap:round; stroke-linejoin:round; stroke-width:4; stroke-opacity:1; fill:none\" points=\"1674.44,1486.45 1674.44,1467.55 \"/>\n",
       "<polyline clip-path=\"url(#clip750)\" style=\"stroke:#000000; stroke-linecap:round; stroke-linejoin:round; stroke-width:4; stroke-opacity:1; fill:none\" points=\"2059.41,1486.45 2059.41,1467.55 \"/>\n",
       "<path clip-path=\"url(#clip750)\" d=\"M509.809 1514.29 L528.166 1514.29 L528.166 1518.22 L514.092 1518.22 L514.092 1526.7 Q515.11 1526.35 516.129 1526.19 Q517.147 1526 518.166 1526 Q523.953 1526 527.332 1529.17 Q530.712 1532.34 530.712 1537.76 Q530.712 1543.34 527.24 1546.44 Q523.768 1549.52 517.448 1549.52 Q515.272 1549.52 513.004 1549.15 Q510.758 1548.78 508.351 1548.04 L508.351 1543.34 Q510.434 1544.47 512.656 1545.03 Q514.879 1545.58 517.356 1545.58 Q521.36 1545.58 523.698 1543.48 Q526.036 1541.37 526.036 1537.76 Q526.036 1534.15 523.698 1532.04 Q521.36 1529.94 517.356 1529.94 Q515.481 1529.94 513.606 1530.35 Q511.754 1530.77 509.809 1531.65 L509.809 1514.29 Z\" fill=\"#000000\" fill-rule=\"nonzero\" fill-opacity=\"1\" /><path clip-path=\"url(#clip750)\" d=\"M879.189 1544.91 L886.827 1544.91 L886.827 1518.55 L878.517 1520.21 L878.517 1515.95 L886.781 1514.29 L891.457 1514.29 L891.457 1544.91 L899.096 1544.91 L899.096 1548.85 L879.189 1548.85 L879.189 1544.91 Z\" fill=\"#000000\" fill-rule=\"nonzero\" fill-opacity=\"1\" /><path clip-path=\"url(#clip750)\" d=\"M918.54 1517.37 Q914.929 1517.37 913.1 1520.93 Q911.295 1524.47 911.295 1531.6 Q911.295 1538.71 913.1 1542.27 Q914.929 1545.82 918.54 1545.82 Q922.174 1545.82 923.98 1542.27 Q925.809 1538.71 925.809 1531.6 Q925.809 1524.47 923.98 1520.93 Q922.174 1517.37 918.54 1517.37 M918.54 1513.66 Q924.35 1513.66 927.406 1518.27 Q930.485 1522.85 930.485 1531.6 Q930.485 1540.33 927.406 1544.94 Q924.35 1549.52 918.54 1549.52 Q912.73 1549.52 909.651 1544.94 Q906.596 1540.33 906.596 1531.6 Q906.596 1522.85 909.651 1518.27 Q912.73 1513.66 918.54 1513.66 Z\" fill=\"#000000\" fill-rule=\"nonzero\" fill-opacity=\"1\" /><path clip-path=\"url(#clip750)\" d=\"M1264.66 1544.91 L1272.29 1544.91 L1272.29 1518.55 L1263.98 1520.21 L1263.98 1515.95 L1272.25 1514.29 L1276.92 1514.29 L1276.92 1544.91 L1284.56 1544.91 L1284.56 1548.85 L1264.66 1548.85 L1264.66 1544.91 Z\" fill=\"#000000\" fill-rule=\"nonzero\" fill-opacity=\"1\" /><path clip-path=\"url(#clip750)\" d=\"M1294.05 1514.29 L1312.41 1514.29 L1312.41 1518.22 L1298.34 1518.22 L1298.34 1526.7 Q1299.35 1526.35 1300.37 1526.19 Q1301.39 1526 1302.41 1526 Q1308.2 1526 1311.58 1529.17 Q1314.96 1532.34 1314.96 1537.76 Q1314.96 1543.34 1311.48 1546.44 Q1308.01 1549.52 1301.69 1549.52 Q1299.52 1549.52 1297.25 1549.15 Q1295 1548.78 1292.6 1548.04 L1292.6 1543.34 Q1294.68 1544.47 1296.9 1545.03 Q1299.12 1545.58 1301.6 1545.58 Q1305.6 1545.58 1307.94 1543.48 Q1310.28 1541.37 1310.28 1537.76 Q1310.28 1534.15 1307.94 1532.04 Q1305.6 1529.94 1301.6 1529.94 Q1299.72 1529.94 1297.85 1530.35 Q1296 1530.77 1294.05 1531.65 L1294.05 1514.29 Z\" fill=\"#000000\" fill-rule=\"nonzero\" fill-opacity=\"1\" /><path clip-path=\"url(#clip750)\" d=\"M1653.21 1544.91 L1669.53 1544.91 L1669.53 1548.85 L1647.59 1548.85 L1647.59 1544.91 Q1650.25 1542.16 1654.83 1537.53 Q1659.44 1532.88 1660.62 1531.53 Q1662.87 1529.01 1663.75 1527.27 Q1664.65 1525.51 1664.65 1523.82 Q1664.65 1521.07 1662.7 1519.33 Q1660.78 1517.6 1657.68 1517.6 Q1655.48 1517.6 1653.03 1518.36 Q1650.6 1519.13 1647.82 1520.68 L1647.82 1515.95 Q1650.64 1514.82 1653.1 1514.24 Q1655.55 1513.66 1657.59 1513.66 Q1662.96 1513.66 1666.15 1516.35 Q1669.35 1519.03 1669.35 1523.52 Q1669.35 1525.65 1668.54 1527.57 Q1667.75 1529.47 1665.64 1532.07 Q1665.06 1532.74 1661.96 1535.95 Q1658.86 1539.15 1653.21 1544.91 Z\" fill=\"#000000\" fill-rule=\"nonzero\" fill-opacity=\"1\" /><path clip-path=\"url(#clip750)\" d=\"M1689.35 1517.37 Q1685.74 1517.37 1683.91 1520.93 Q1682.1 1524.47 1682.1 1531.6 Q1682.1 1538.71 1683.91 1542.27 Q1685.74 1545.82 1689.35 1545.82 Q1692.98 1545.82 1694.79 1542.27 Q1696.62 1538.71 1696.62 1531.6 Q1696.62 1524.47 1694.79 1520.93 Q1692.98 1517.37 1689.35 1517.37 M1689.35 1513.66 Q1695.16 1513.66 1698.21 1518.27 Q1701.29 1522.85 1701.29 1531.6 Q1701.29 1540.33 1698.21 1544.94 Q1695.16 1549.52 1689.35 1549.52 Q1683.54 1549.52 1680.46 1544.94 Q1677.4 1540.33 1677.4 1531.6 Q1677.4 1522.85 1680.46 1518.27 Q1683.54 1513.66 1689.35 1513.66 Z\" fill=\"#000000\" fill-rule=\"nonzero\" fill-opacity=\"1\" /><path clip-path=\"url(#clip750)\" d=\"M2038.68 1544.91 L2055 1544.91 L2055 1548.85 L2033.06 1548.85 L2033.06 1544.91 Q2035.72 1542.16 2040.3 1537.53 Q2044.91 1532.88 2046.09 1531.53 Q2048.33 1529.01 2049.21 1527.27 Q2050.12 1525.51 2050.12 1523.82 Q2050.12 1521.07 2048.17 1519.33 Q2046.25 1517.6 2043.15 1517.6 Q2040.95 1517.6 2038.49 1518.36 Q2036.06 1519.13 2033.29 1520.68 L2033.29 1515.95 Q2036.11 1514.82 2038.56 1514.24 Q2041.02 1513.66 2043.06 1513.66 Q2048.43 1513.66 2051.62 1516.35 Q2054.81 1519.03 2054.81 1523.52 Q2054.81 1525.65 2054 1527.57 Q2053.22 1529.47 2051.11 1532.07 Q2050.53 1532.74 2047.43 1535.95 Q2044.33 1539.15 2038.68 1544.91 Z\" fill=\"#000000\" fill-rule=\"nonzero\" fill-opacity=\"1\" /><path clip-path=\"url(#clip750)\" d=\"M2064.86 1514.29 L2083.22 1514.29 L2083.22 1518.22 L2069.14 1518.22 L2069.14 1526.7 Q2070.16 1526.35 2071.18 1526.19 Q2072.2 1526 2073.22 1526 Q2079 1526 2082.38 1529.17 Q2085.76 1532.34 2085.76 1537.76 Q2085.76 1543.34 2082.29 1546.44 Q2078.82 1549.52 2072.5 1549.52 Q2070.32 1549.52 2068.05 1549.15 Q2065.81 1548.78 2063.4 1548.04 L2063.4 1543.34 Q2065.49 1544.47 2067.71 1545.03 Q2069.93 1545.58 2072.41 1545.58 Q2076.41 1545.58 2078.75 1543.48 Q2081.09 1541.37 2081.09 1537.76 Q2081.09 1534.15 2078.75 1532.04 Q2076.41 1529.94 2072.41 1529.94 Q2070.53 1529.94 2068.66 1530.35 Q2066.8 1530.77 2064.86 1531.65 L2064.86 1514.29 Z\" fill=\"#000000\" fill-rule=\"nonzero\" fill-opacity=\"1\" /><polyline clip-path=\"url(#clip750)\" style=\"stroke:#000000; stroke-linecap:round; stroke-linejoin:round; stroke-width:4; stroke-opacity:1; fill:none\" points=\"149.191,1486.45 149.191,47.2441 \"/>\n",
       "<polyline clip-path=\"url(#clip750)\" style=\"stroke:#000000; stroke-linecap:round; stroke-linejoin:round; stroke-width:4; stroke-opacity:1; fill:none\" points=\"149.191,1294.9 168.089,1294.9 \"/>\n",
       "<polyline clip-path=\"url(#clip750)\" style=\"stroke:#000000; stroke-linecap:round; stroke-linejoin:round; stroke-width:4; stroke-opacity:1; fill:none\" points=\"149.191,1014.27 168.089,1014.27 \"/>\n",
       "<polyline clip-path=\"url(#clip750)\" style=\"stroke:#000000; stroke-linecap:round; stroke-linejoin:round; stroke-width:4; stroke-opacity:1; fill:none\" points=\"149.191,733.642 168.089,733.642 \"/>\n",
       "<polyline clip-path=\"url(#clip750)\" style=\"stroke:#000000; stroke-linecap:round; stroke-linejoin:round; stroke-width:4; stroke-opacity:1; fill:none\" points=\"149.191,453.011 168.089,453.011 \"/>\n",
       "<polyline clip-path=\"url(#clip750)\" style=\"stroke:#000000; stroke-linecap:round; stroke-linejoin:round; stroke-width:4; stroke-opacity:1; fill:none\" points=\"149.191,172.381 168.089,172.381 \"/>\n",
       "<path clip-path=\"url(#clip750)\" d=\"M50.9921 1295.35 L80.6679 1295.35 L80.6679 1299.29 L50.9921 1299.29 L50.9921 1295.35 Z\" fill=\"#000000\" fill-rule=\"nonzero\" fill-opacity=\"1\" /><path clip-path=\"url(#clip750)\" d=\"M103.608 1281.7 L91.8021 1300.15 L103.608 1300.15 L103.608 1281.7 M102.381 1277.62 L108.26 1277.62 L108.26 1300.15 L113.191 1300.15 L113.191 1304.03 L108.26 1304.03 L108.26 1312.18 L103.608 1312.18 L103.608 1304.03 L88.0058 1304.03 L88.0058 1299.52 L102.381 1277.62 Z\" fill=\"#000000\" fill-rule=\"nonzero\" fill-opacity=\"1\" /><path clip-path=\"url(#clip750)\" d=\"M52.1264 1014.72 L81.8021 1014.72 L81.8021 1018.66 L52.1264 1018.66 L52.1264 1014.72 Z\" fill=\"#000000\" fill-rule=\"nonzero\" fill-opacity=\"1\" /><path clip-path=\"url(#clip750)\" d=\"M106.061 1012.92 Q109.418 1013.64 111.293 1015.9 Q113.191 1018.17 113.191 1021.51 Q113.191 1026.62 109.672 1029.42 Q106.154 1032.22 99.6724 1032.22 Q97.4965 1032.22 95.1817 1031.78 Q92.89 1031.37 90.4364 1030.51 L90.4364 1026 Q92.3808 1027.13 94.6956 1027.71 Q97.0104 1028.29 99.5335 1028.29 Q103.932 1028.29 106.223 1026.55 Q108.538 1024.82 108.538 1021.51 Q108.538 1018.45 106.385 1016.74 Q104.256 1015 100.436 1015 L96.4085 1015 L96.4085 1011.16 L100.621 1011.16 Q104.071 1011.16 105.899 1009.79 Q107.728 1008.4 107.728 1005.81 Q107.728 1003.15 105.83 1001.74 Q103.955 1000.3 100.436 1000.3 Q98.515 1000.3 96.316 1000.72 Q94.1169 1001.14 91.478 1002.02 L91.478 997.849 Q94.14 997.108 96.4548 996.737 Q98.7928 996.367 100.853 996.367 Q106.177 996.367 109.279 998.798 Q112.381 1001.21 112.381 1005.33 Q112.381 1008.2 110.737 1010.19 Q109.094 1012.15 106.061 1012.92 Z\" fill=\"#000000\" fill-rule=\"nonzero\" fill-opacity=\"1\" /><path clip-path=\"url(#clip750)\" d=\"M53.0754 734.093 L82.7512 734.093 L82.7512 738.028 L53.0754 738.028 L53.0754 734.093 Z\" fill=\"#000000\" fill-rule=\"nonzero\" fill-opacity=\"1\" /><path clip-path=\"url(#clip750)\" d=\"M96.8715 746.987 L113.191 746.987 L113.191 750.922 L91.2465 750.922 L91.2465 746.987 Q93.9086 744.232 98.4919 739.602 Q103.098 734.95 104.279 733.607 Q106.524 731.084 107.404 729.348 Q108.307 727.589 108.307 725.899 Q108.307 723.144 106.362 721.408 Q104.441 719.672 101.339 719.672 Q99.14 719.672 96.6863 720.436 Q94.2558 721.2 91.478 722.751 L91.478 718.028 Q94.3021 716.894 96.7558 716.315 Q99.2095 715.737 101.246 715.737 Q106.617 715.737 109.811 718.422 Q113.006 721.107 113.006 725.598 Q113.006 727.727 112.196 729.649 Q111.408 731.547 109.302 734.139 Q108.723 734.811 105.621 738.028 Q102.52 741.223 96.8715 746.987 Z\" fill=\"#000000\" fill-rule=\"nonzero\" fill-opacity=\"1\" /><path clip-path=\"url(#clip750)\" d=\"M52.7051 453.463 L82.3808 453.463 L82.3808 457.398 L52.7051 457.398 L52.7051 453.463 Z\" fill=\"#000000\" fill-rule=\"nonzero\" fill-opacity=\"1\" /><path clip-path=\"url(#clip750)\" d=\"M93.2836 466.356 L100.922 466.356 L100.922 439.991 L92.6123 441.657 L92.6123 437.398 L100.876 435.731 L105.552 435.731 L105.552 466.356 L113.191 466.356 L113.191 470.291 L93.2836 470.291 L93.2836 466.356 Z\" fill=\"#000000\" fill-rule=\"nonzero\" fill-opacity=\"1\" /><path clip-path=\"url(#clip750)\" d=\"M101.246 158.18 Q97.6354 158.18 95.8067 161.745 Q94.0012 165.286 94.0012 172.416 Q94.0012 179.522 95.8067 183.087 Q97.6354 186.629 101.246 186.629 Q104.881 186.629 106.686 183.087 Q108.515 179.522 108.515 172.416 Q108.515 165.286 106.686 161.745 Q104.881 158.18 101.246 158.18 M101.246 154.476 Q107.057 154.476 110.112 159.083 Q113.191 163.666 113.191 172.416 Q113.191 181.143 110.112 185.749 Q107.057 190.332 101.246 190.332 Q95.4363 190.332 92.3576 185.749 Q89.3021 181.143 89.3021 172.416 Q89.3021 163.666 92.3576 159.083 Q95.4363 154.476 101.246 154.476 Z\" fill=\"#000000\" fill-rule=\"nonzero\" fill-opacity=\"1\" /><polyline clip-path=\"url(#clip752)\" style=\"stroke:#009af9; stroke-linecap:round; stroke-linejoin:round; stroke-width:4; stroke-opacity:1; fill:none\" points=\"211.556,204.357 288.55,274.751 365.544,521.287 442.538,1082.95 519.531,109.811 596.525,393.719 673.519,977.887 750.513,1368.83 827.507,92.6836 904.501,593.923 981.495,1037.07 1058.49,89.552 1135.48,749.023 1212.48,1198.93 1289.47,88.6494 1366.46,868.533 1443.46,1334.16 1520.45,88.3014 1597.45,964.811 1674.44,1445.72 1751.43,88.14 1828.43,1045.21 1905.42,88.0563 1982.42,1112.79 2059.41,88.0069 2136.4,1171.75 2213.4,87.9763 2290.39,1218.66 \"/>\n",
       "<path clip-path=\"url(#clip750)\" d=\"M222.643 1438.47 L495.43 1438.47 L495.43 1334.79 L222.643 1334.79  Z\" fill=\"#ffffff\" fill-rule=\"evenodd\" fill-opacity=\"1\"/>\n",
       "<polyline clip-path=\"url(#clip750)\" style=\"stroke:#000000; stroke-linecap:round; stroke-linejoin:round; stroke-width:4; stroke-opacity:1; fill:none\" points=\"222.643,1438.47 495.43,1438.47 495.43,1334.79 222.643,1334.79 222.643,1438.47 \"/>\n",
       "<polyline clip-path=\"url(#clip750)\" style=\"stroke:#009af9; stroke-linecap:round; stroke-linejoin:round; stroke-width:4; stroke-opacity:1; fill:none\" points=\"247.127,1386.63 394.031,1386.63 \"/>\n",
       "<path clip-path=\"url(#clip750)\" d=\"M432.358 1406.32 Q430.552 1410.95 428.84 1412.36 Q427.127 1413.78 424.256 1413.78 L420.853 1413.78 L420.853 1410.21 L423.353 1410.21 Q425.113 1410.21 426.085 1409.38 Q427.057 1408.54 428.238 1405.44 L429.002 1403.5 L418.515 1377.99 L423.029 1377.99 L431.131 1398.27 L439.233 1377.99 L443.747 1377.99 L432.358 1406.32 Z\" fill=\"#000000\" fill-rule=\"nonzero\" fill-opacity=\"1\" /><path clip-path=\"url(#clip750)\" d=\"M451.038 1399.98 L458.677 1399.98 L458.677 1373.61 L450.367 1375.28 L450.367 1371.02 L458.631 1369.35 L463.307 1369.35 L463.307 1399.98 L470.946 1399.98 L470.946 1403.91 L451.038 1403.91 L451.038 1399.98 Z\" fill=\"#000000\" fill-rule=\"nonzero\" fill-opacity=\"1\" /></svg>\n"
      ]
     },
     "metadata": {},
     "output_type": "display_data"
    }
   ],
   "source": [
    "using Plots\n",
    "plot(log10.(e))"
   ]
  },
  {
   "cell_type": "code",
   "execution_count": 39,
   "id": "57ab41b8",
   "metadata": {},
   "outputs": [
    {
     "data": {
      "text/plain": [
       "2"
      ]
     },
     "metadata": {},
     "output_type": "display_data"
    }
   ],
   "source": [
    "u1 = similar(r1)\n",
    "r0 = FEM.nodePositionVector(problem)\n",
    "for i in 1:size(r1, 2)\n",
    "    u1[:, i] = r1[:, i] - r0\n",
    "end\n",
    "\n",
    "u2 = FEM.showDoFResults(problem, u1, :uvec, t=1:size(u1, 2), visible=true)"
   ]
  },
  {
   "cell_type": "code",
   "execution_count": 40,
   "id": "f74412f6",
   "metadata": {},
   "outputs": [],
   "source": [
    "#FEM.plotOnPath(problem, \"horizontal\", u2)\n",
    "#FEM.plotOnPath(problem, \"vertical\", u2)"
   ]
  },
  {
   "cell_type": "code",
   "execution_count": 41,
   "id": "d9e04c86",
   "metadata": {},
   "outputs": [
    {
     "data": {
      "text/plain": [
       "LowLevelFEM.TensorField([[0.3999999999999999; 0.0; … ; 0.0; 0.6000000000000001;;], [0.3999999999999999; 0.0; … ; 0.0; 0.6000000000000001;;], [0.3999999999999999; 0.0; … ; 0.0; 0.6000000000000001;;], [0.3999999999999999; 0.0; … ; 0.0; 0.6000000000000001;;], [0.3999999999999999; 0.0; … ; 0.0; 0.6000000000000001;;], [0.3999999999999999; 0.0; … ; 0.0; 0.6000000000000001;;], [0.3999999999999999; 0.0; … ; 0.0; 0.6000000000000001;;], [0.3999999999999999; 0.0; … ; 0.0; 0.6000000000000001;;], [0.3999999999999999; 0.0; … ; 0.0; 0.6000000000000001;;], [0.3999999999999999; 0.0; … ; 0.0; 0.6000000000000001;;]  …  [0.3999999999999999; 0.0; … ; 0.0; 0.6000000000000001;;], [0.3999999999999999; 0.0; … ; 0.0; 0.6000000000000001;;], [0.3999999999999999; 0.0; … ; 0.0; 0.6000000000000001;;], [0.3999999999999999; 0.0; … ; 0.0; 0.6000000000000001;;], [0.3999999999999999; 0.0; … ; 0.0; 0.6000000000000001;;], [0.3999999999999999; 0.0; … ; 0.0; 0.6000000000000001;;], [0.3999999999999999; 0.0; … ; 0.0; 0.6000000000000001;;], [0.3999999999999999; 0.0; … ; 0.0; 0.6000000000000001;;], [0.3999999999999999; 0.0; … ; 0.0; 0.6000000000000001;;], [0.3999999999999999; 0.0; … ; 0.0; 0.6000000000000001;;]], Matrix{Float64}(undef, 0, 0), [273, 274, 275, 276, 277, 278, 279, 280, 281, 282  …  423, 424, 425, 426, 427, 428, 429, 430, 431, 432], 1, :F)"
      ]
     },
     "metadata": {},
     "output_type": "display_data"
    }
   ],
   "source": [
    "r = FEM.nodePositionVector(problem)\n",
    "ux(x, y, z) = 0.4x\n",
    "uy(x, y, z) = 0.5y\n",
    "uz(x, y, z) = 0.6z\n",
    "q0 = FEM.field(\"body\", fx=ux, fy=uy, fz=uz)\n",
    "q = FEM.vectorField(problem, [q0])\n",
    "F = FEM.deformationGradient(problem, q)"
   ]
  },
  {
   "cell_type": "code",
   "execution_count": 42,
   "id": "bda3da4b",
   "metadata": {},
   "outputs": [
    {
     "data": {
      "text/plain": [
       "3×3 Matrix{Float64}:\n",
       " 0.4  0.0  0.0\n",
       " 0.0  0.5  0.0\n",
       " 0.0  0.0  0.6"
      ]
     },
     "metadata": {},
     "output_type": "display_data"
    }
   ],
   "source": [
    "reshape(F.A[1][1:9], 3, 3)"
   ]
  },
  {
   "cell_type": "code",
   "execution_count": 43,
   "id": "4aba7a4b",
   "metadata": {},
   "outputs": [
    {
     "data": {
      "text/plain": [
       "3×3 Matrix{Float64}:\n",
       " -0.42   0.0     0.0\n",
       "  0.0   -0.375   0.0\n",
       "  0.0    0.0    -0.32"
      ]
     },
     "metadata": {},
     "output_type": "display_data"
    }
   ],
   "source": [
    "E = (F' * F - FEM.unitTensor(F)) / 2\n",
    "\n",
    "reshape(E.A[1][1:9], 3, 3)"
   ]
  },
  {
   "cell_type": "code",
   "execution_count": 44,
   "id": "a7c506a2",
   "metadata": {},
   "outputs": [
    {
     "data": {
      "text/plain": [
       "3×3 Matrix{Float64}:\n",
       " -2.625   0.0   0.0\n",
       "  0.0    -1.5   0.0\n",
       "  0.0     0.0  -0.888889"
      ]
     },
     "metadata": {},
     "output_type": "display_data"
    }
   ],
   "source": [
    "e = (FEM.unitTensor(F) - inv(F * F')) / 2\n",
    "\n",
    "reshape(e.A[1][1:9], 3, 3)"
   ]
  },
  {
   "cell_type": "code",
   "execution_count": 45,
   "id": "df5feea4",
   "metadata": {},
   "outputs": [
    {
     "data": {
      "text/plain": [
       "3×3 Matrix{Float64}:\n",
       " -2.625   0.0   0.0\n",
       "  0.0    -1.5   0.0\n",
       "  0.0     0.0  -0.888889"
      ]
     },
     "metadata": {},
     "output_type": "display_data"
    }
   ],
   "source": [
    "e = inv(F') * E * inv(F)\n",
    "\n",
    "reshape(e.A[1][1:9], 3, 3)"
   ]
  },
  {
   "cell_type": "code",
   "execution_count": 46,
   "id": "eb7cd73d",
   "metadata": {},
   "outputs": [
    {
     "data": {
      "text/plain": [
       "3×3 Matrix{Float64}:\n",
       " 0.4  0.0  0.0\n",
       " 0.0  0.5  0.0\n",
       " 0.0  0.0  0.6"
      ]
     },
     "metadata": {},
     "output_type": "display_data"
    }
   ],
   "source": [
    "U = sqrt(F' * F)\n",
    "\n",
    "reshape(U.A[1][1:9], 3, 3)"
   ]
  },
  {
   "cell_type": "code",
   "execution_count": 47,
   "id": "49af293c",
   "metadata": {},
   "outputs": [
    {
     "data": {
      "text/plain": [
       "3×3 Matrix{Float64}:\n",
       " -122.128     0.0       0.0\n",
       "    0.0    -113.474     0.0\n",
       "    0.0       0.0    -108.773"
      ]
     },
     "metadata": {},
     "output_type": "display_data"
    }
   ],
   "source": [
    "Ex = 10\n",
    "νxy = 0.3\n",
    "λ = Ex * νxy / ((1 + νxy) * (1 - 2νxy))\n",
    "μ = Ex / (2 * (1 + νxy))\n",
    "I3 = FEM.unitTensor(F)\n",
    "iC = inv(F' * F)\n",
    "J1 = det(F)\n",
    "SII = μ * (I3 - iC) + λ * log(J1) / J1 * I3\n",
    "\n",
    "reshape(SII.A[1][1:9], 3, 3)"
   ]
  },
  {
   "cell_type": "code",
   "execution_count": 48,
   "id": "88fa00a0",
   "metadata": {},
   "outputs": [
    {
     "data": {
      "text/plain": [
       "probe (generic function with 1 method)"
      ]
     },
     "metadata": {},
     "output_type": "display_data"
    }
   ],
   "source": [
    "function probe(A, x, y, z)\n",
    "    elementTag, elementType, nodeTags, u, v, w = gmsh.model.mesh.getElementByCoordinates(x, y, z, 3, false)\n",
    "    elementName, dim, order, numNodes::Int64, localNodeCoord, numPrimaryNodes = gmsh.model.mesh.getElementProperties(elementType)\n",
    "    comp, fun, ori = gmsh.model.mesh.getBasisFunctions(elementType, [u, v, w], \"Lagrange\")\n",
    "    SS = [0.0, 0, 0, 0, 0, 0, 0, 0, 0]\n",
    "    if isa(A, FEM.TensorField)\n",
    "        ind = findfirst(i -> i == elementTag, SII.numElem)\n",
    "        for i in range(1, 9)\n",
    "            SS[i] = fun' * SII.A[ind][i:9:9numNodes, 1]\n",
    "        end\n",
    "    elseif isa(A, Matrix)\n",
    "        for i in range(1, 9)\n",
    "            SS[i] = fun' * A[9nodeTags.-(9-i), 1]\n",
    "        end\n",
    "    end\n",
    "    return reshape(SS, 3, 3)\n",
    "end"
   ]
  },
  {
   "cell_type": "code",
   "execution_count": 49,
   "id": "eb55a91c",
   "metadata": {},
   "outputs": [
    {
     "data": {
      "text/plain": [
       "2475×1 Matrix{Float64}:\n",
       " -122.12805462500447\n",
       "    0.0\n",
       "    4.74454284027845e-14\n",
       "    0.0\n",
       " -113.47420847115829\n",
       "    0.0\n",
       "    4.74454284027845e-14\n",
       "    0.0\n",
       " -108.7733537703036\n",
       " -122.12805462500434\n",
       "    ⋮\n",
       " -122.12805462500438\n",
       "   -8.540177112501207e-15\n",
       "    4.688942728868993e-15\n",
       "   -8.540177112501207e-15\n",
       " -113.47420847115822\n",
       "   -7.116814260417605e-16\n",
       "    4.688942728868993e-15\n",
       "   -7.116814260417605e-16\n",
       " -108.77335377030352"
      ]
     },
     "metadata": {},
     "output_type": "display_data"
    }
   ],
   "source": [
    "SII2 = FEM.elementsToNodes(problem, SII)"
   ]
  },
  {
   "cell_type": "code",
   "execution_count": 50,
   "id": "0f94ba00",
   "metadata": {},
   "outputs": [
    {
     "data": {
      "text/plain": [
       "3×3 Matrix{Float64}:\n",
       " -122.128           4.49134e-44    -9.48909e-15\n",
       "    4.49134e-44  -113.474           5.0568e-29\n",
       "   -9.48909e-15     5.0568e-29   -108.773"
      ]
     },
     "metadata": {},
     "output_type": "display_data"
    }
   ],
   "source": [
    "probe(SII2, 0, 0, 0)"
   ]
  },
  {
   "cell_type": "code",
   "execution_count": 51,
   "id": "9eac2964",
   "metadata": {},
   "outputs": [
    {
     "data": {
      "text/plain": [
       "LowLevelFEM.ScalarField([[2.0; 2.0; … ; 2.0; 2.0;;], [2.0; 2.0; … ; 2.0; 2.0;;], [2.0; 2.0; … ; 2.0; 2.0;;], [2.0; 2.0; … ; 2.0; 2.0;;], [2.0; 2.0; … ; 2.0; 2.0;;], [2.0; 2.0; … ; 2.0; 2.0;;], [2.0; 2.0; … ; 2.0; 2.0;;], [2.0; 2.0; … ; 2.0; 2.0;;], [2.0; 2.0; … ; 2.0; 2.0;;], [2.0; 2.0; … ; 2.0; 2.0;;]  …  [2.0; 2.0; … ; 2.0; 2.0;;], [2.0; 2.0; … ; 2.0; 2.0;;], [2.0; 2.0; … ; 2.0; 2.0;;], [2.0; 2.0; … ; 2.0; 2.0;;], [2.0; 2.0; … ; 2.0; 2.0;;], [2.0; 2.0; … ; 2.0; 2.0;;], [2.0; 2.0; … ; 2.0; 2.0;;], [2.0; 2.0; … ; 2.0; 2.0;;], [2.0; 2.0; … ; 2.0; 2.0;;], [2.0; 2.0; … ; 2.0; 2.0;;]], Matrix{Float64}(undef, 0, 0), [273, 274, 275, 276, 277, 278, 279, 280, 281, 282  …  423, 424, 425, 426, 427, 428, 429, 430, 431, 432], 1, :scalarInElements)"
      ]
     },
     "metadata": {},
     "output_type": "display_data"
    }
   ],
   "source": [
    "field = FEM.field(\"body\", f=2)\n",
    "sc = FEM.ScalarField(problem, [field])"
   ]
  },
  {
   "cell_type": "code",
   "execution_count": 52,
   "id": "b19e2ebf",
   "metadata": {},
   "outputs": [
    {
     "data": {
      "text/plain": [
       "LowLevelFEM.ScalarField([[0.12; 0.11999999999999994; … ; 0.12; 0.12;;], [0.12; 0.11999999999999994; … ; 0.12; 0.12;;], [0.12; 0.11999999999999994; … ; 0.12; 0.12;;], [0.12; 0.11999999999999994; … ; 0.12; 0.12;;], [0.12; 0.11999999999999994; … ; 0.12; 0.12;;], [0.12; 0.11999999999999994; … ; 0.12; 0.12;;], [0.12; 0.11999999999999994; … ; 0.12; 0.12;;], [0.12; 0.11999999999999994; … ; 0.12; 0.12;;], [0.12; 0.11999999999999994; … ; 0.12; 0.12;;], [0.12; 0.11999999999999994; … ; 0.12; 0.12;;]  …  [0.12; 0.11999999999999994; … ; 0.12; 0.12;;], [0.12; 0.11999999999999994; … ; 0.12; 0.12;;], [0.12; 0.11999999999999994; … ; 0.12; 0.12;;], [0.12; 0.11999999999999994; … ; 0.12; 0.12;;], [0.12; 0.11999999999999994; … ; 0.12; 0.12;;], [0.12; 0.11999999999999994; … ; 0.12; 0.12;;], [0.12; 0.11999999999999994; … ; 0.12; 0.12;;], [0.12; 0.11999999999999994; … ; 0.12; 0.12;;], [0.12; 0.11999999999999994; … ; 0.12; 0.12;;], [0.12; 0.11999999999999994; … ; 0.12; 0.12;;]], Matrix{Float64}(undef, 0, 0), [273, 274, 275, 276, 277, 278, 279, 280, 281, 282  …  423, 424, 425, 426, 427, 428, 429, 430, 431, 432], 1, :sc)"
      ]
     },
     "metadata": {},
     "output_type": "display_data"
    }
   ],
   "source": [
    "I3 = FEM.unitTensor(F)\n",
    "J = det(F)"
   ]
  },
  {
   "cell_type": "code",
   "execution_count": 53,
   "id": "dfdb8e2d",
   "metadata": {},
   "outputs": [
    {
     "data": {
      "text/plain": [
       "LowLevelFEM.TensorField([[2.0; 0.0; … ; 0.0; 2.0;;], [2.0; 0.0; … ; 0.0; 2.0;;], [2.0; 0.0; … ; 0.0; 2.0;;], [2.0; 0.0; … ; 0.0; 2.0;;], [2.0; 0.0; … ; 0.0; 2.0;;], [2.0; 0.0; … ; 0.0; 2.0;;], [2.0; 0.0; … ; 0.0; 2.0;;], [2.0; 0.0; … ; 0.0; 2.0;;], [2.0; 0.0; … ; 0.0; 2.0;;], [2.0; 0.0; … ; 0.0; 2.0;;]  …  [2.0; 0.0; … ; 0.0; 2.0;;], [2.0; 0.0; … ; 0.0; 2.0;;], [2.0; 0.0; … ; 0.0; 2.0;;], [2.0; 0.0; … ; 0.0; 2.0;;], [2.0; 0.0; … ; 0.0; 2.0;;], [2.0; 0.0; … ; 0.0; 2.0;;], [2.0; 0.0; … ; 0.0; 2.0;;], [2.0; 0.0; … ; 0.0; 2.0;;], [2.0; 0.0; … ; 0.0; 2.0;;], [2.0; 0.0; … ; 0.0; 2.0;;]], Matrix{Float64}(undef, 0, 0), [273, 274, 275, 276, 277, 278, 279, 280, 281, 282  …  423, 424, 425, 426, 427, 428, 429, 430, 431, 432], 1, :e)"
      ]
     },
     "metadata": {},
     "output_type": "display_data"
    }
   ],
   "source": [
    "sc * I3"
   ]
  },
  {
   "cell_type": "code",
   "execution_count": 54,
   "id": "b48019c3",
   "metadata": {},
   "outputs": [
    {
     "data": {
      "text/plain": [
       "LowLevelFEM.TensorField([[0.0; 0.0; … ; 0.0; 0.0;;], [0.0; 0.0; … ; 0.0; 0.0;;], [0.0; 0.0; … ; 0.0; 0.0;;], [0.0; 0.0; … ; 0.0; 0.0;;], [0.0; 0.0; … ; 0.0; 0.0;;], [0.0; 0.0; … ; 0.0; 0.0;;], [0.0; 0.0; … ; 0.0; 0.0;;], [0.0; 0.0; … ; 0.0; 0.0;;], [0.0; 0.0; … ; 0.0; 0.0;;], [0.0; 0.0; … ; 0.0; 0.0;;]  …  [0.0; 0.0; … ; 0.0; 0.0;;], [0.0; 0.0; … ; 0.0; 0.0;;], [0.0; 0.0; … ; 0.0; 0.0;;], [0.0; 0.0; … ; 0.0; 0.0;;], [0.0; 0.0; … ; 0.0; 0.0;;], [0.0; 0.0; … ; 0.0; 0.0;;], [0.0; 0.0; … ; 0.0; 0.0;;], [0.0; 0.0; … ; 0.0; 0.0;;], [0.0; 0.0; … ; 0.0; 0.0;;], [0.0; 0.0; … ; 0.0; 0.0;;]], Matrix{Float64}(undef, 0, 0), [273, 274, 275, 276, 277, 278, 279, 280, 281, 282  …  423, 424, 425, 426, 427, 428, 429, 430, 431, 432], 1, :e)"
      ]
     },
     "metadata": {},
     "output_type": "display_data"
    }
   ],
   "source": [
    "I3 - I3"
   ]
  },
  {
   "cell_type": "code",
   "execution_count": 55,
   "id": "ff567b87",
   "metadata": {},
   "outputs": [
    {
     "data": {
      "text/plain": [
       "3×3 Matrix{Float64}:\n",
       " -162.837     0.0       0.0\n",
       "    0.0    -236.405     0.0\n",
       "    0.0       0.0    -326.32"
      ]
     },
     "metadata": {},
     "output_type": "display_data"
    }
   ],
   "source": [
    "σ = F * SII * F' / det(F)\n",
    "\n",
    "reshape(σ.A[1][1:9], 3, 3)"
   ]
  },
  {
   "cell_type": "code",
   "execution_count": 56,
   "id": "f1eee084",
   "metadata": {},
   "outputs": [
    {
     "data": {
      "text/plain": [
       "-119.05114807753088"
      ]
     },
     "metadata": {},
     "output_type": "display_data"
    }
   ],
   "source": [
    "J = 0.5 * 0.5 * 0.5\n",
    "μ / J * (J^(2 / 3) - 1) + λ / J * log(J)"
   ]
  },
  {
   "cell_type": "code",
   "execution_count": 57,
   "id": "32bc3809",
   "metadata": {},
   "outputs": [
    {
     "name": "stdout",
     "output_type": "stream",
     "text": [
      "-------------------------------------------------------\n",
      "Version       : 4.13.1\n",
      "License       : GNU General Public License\n",
      "Build OS      : Linux64-sdk\n",
      "Build date    : 19700101\n",
      "Build host    : amdci7.julia.csail.mit.edu\n",
      "Build options : 64Bit ALGLIB[contrib] ANN[contrib] Bamg Blossom Cairo DIntegration Dlopen DomHex Eigen[contrib] Fltk GMP Gmm[contrib] Hxt Jpeg Kbipack LinuxJoystick MathEx[contrib] Mesh Metis[contrib] Mmg Mpeg Netgen Nii2mesh ONELAB ONELABMetamodel OpenCASCADE OpenCASCADE-CAF OpenGL OpenMP OptHom Parser Plugins Png Post QuadMeshingTools QuadTri Solver TetGen/BR TinyXML2[contrib] Untangle Voro++[contrib] WinslowUntangler Zlib\n",
      "FLTK version  : 1.3.8\n",
      "OCC version   : 7.7.2\n",
      "Packaged by   : root\n",
      "Web site      : https://gmsh.info\n",
      "Issue tracker : https://gitlab.onelab.info/gmsh/gmsh/issues\n",
      "-------------------------------------------------------\n"
     ]
    },
    {
     "name": "stderr",
     "output_type": "stream",
     "text": [
      "XRequest.18: BadValue 0x0\n"
     ]
    }
   ],
   "source": [
    "FEM.openPostProcessor()"
   ]
  },
  {
   "cell_type": "code",
   "execution_count": 58,
   "id": "7b517a53",
   "metadata": {},
   "outputs": [],
   "source": [
    "gmsh.finalize()"
   ]
  }
 ],
 "metadata": {
  "kernelspec": {
   "display_name": "Julia 1.11.5",
   "language": "julia",
   "name": "julia-1.11"
  },
  "language_info": {
   "file_extension": ".jl",
   "mimetype": "application/julia",
   "name": "julia",
   "version": "1.11.5"
  }
 },
 "nbformat": 4,
 "nbformat_minor": 5
}
