{
 "cells": [
  {
   "cell_type": "code",
   "execution_count": 109,
   "id": "79fd9685",
   "metadata": {},
   "outputs": [],
   "source": [
    "using LowLevelFEM\n",
    "import LowLevelFEM as FEM\n",
    "\n",
    "gmsh.initialize()"
   ]
  },
  {
   "cell_type": "code",
   "execution_count": 110,
   "id": "22283e0a",
   "metadata": {},
   "outputs": [],
   "source": [
    "using SparseArrays, LinearAlgebra"
   ]
  },
  {
   "cell_type": "code",
   "execution_count": 111,
   "id": "d1917225",
   "metadata": {},
   "outputs": [
    {
     "data": {
      "text/plain": [
       "nodePositionVector (generic function with 1 method)"
      ]
     },
     "metadata": {},
     "output_type": "display_data"
    }
   ],
   "source": [
    "function nodePositionVector(problem)\n",
    "    dim = problem.dim\n",
    "    non = problem.non\n",
    "    if dim != 3\n",
    "        error(\"nodePositionVector: This function only works for 3D problems.\")\n",
    "    end\n",
    "    r = zeros(non * dim)\n",
    "    for ipg in 1:length(problem.material)\n",
    "        phName = problem.material[ipg].phName\n",
    "        dimTags = gmsh.model.getEntitiesForPhysicalName(phName)\n",
    "        for idm in 1:length(dimTags)\n",
    "            dimTag = dimTags[idm]\n",
    "            edim = dimTag[1]\n",
    "            etag = dimTag[2]\n",
    "            elemTypes, elemTags, elemNodeTags = gmsh.model.mesh.getElements(edim, etag)\n",
    "            nodeTags, ncoord, parametricCoord = gmsh.model.mesh.getNodes(dim, -1, true, false)\n",
    "            r[nodeTags*3 .- 2] = ncoord[1:3:length(ncoord)]\n",
    "            r[nodeTags*3 .- 1] = ncoord[2:3:length(ncoord)]\n",
    "            r[nodeTags*3 .- 0] = ncoord[3:3:length(ncoord)]\n",
    "        end\n",
    "    end\n",
    "    return r\n",
    "end"
   ]
  },
  {
   "cell_type": "code",
   "execution_count": 112,
   "id": "67165db9",
   "metadata": {},
   "outputs": [
    {
     "data": {
      "text/plain": [
       "stiffnessMatrixLinear (generic function with 1 method)"
      ]
     },
     "metadata": {},
     "output_type": "display_data"
    }
   ],
   "source": [
    "function stiffnessMatrixLinear(problem, r)\n",
    "    gmsh.model.setCurrent(problem.name)\n",
    "    elemTypes, elemTags, elemNodeTags = gmsh.model.mesh.getElements(problem.dim, -1)\n",
    "    lengthOfIJV = sum([(div(length(elemNodeTags[i]), length(elemTags[i])) * problem.dim)^2 * length(elemTags[i]) for i in 1:length(elemTags)])\n",
    "    nn = []\n",
    "    I = []\n",
    "    J = []\n",
    "    V = []\n",
    "    V = convert(Vector{Float64}, V)\n",
    "    sizehint!(I, lengthOfIJV)\n",
    "    sizehint!(J, lengthOfIJV)\n",
    "    sizehint!(V, lengthOfIJV)\n",
    "\n",
    "    for ipg in 1:length(problem.material)\n",
    "        phName = problem.material[ipg].phName\n",
    "        E = problem.material[ipg].E\n",
    "        ν = problem.material[ipg].ν\n",
    "        dim = problem.dim\n",
    "        pdim = problem.pdim\n",
    "        if problem.dim == 3 && problem.type == :Solid\n",
    "            D = E / ((1 + ν) * (1 - 2ν)) * [1-ν ν ν 0 0 0;\n",
    "                ν 1-ν ν 0 0 0;\n",
    "                ν ν 1-ν 0 0 0;\n",
    "                0 0 0 (1-2ν)/2 0 0;\n",
    "                0 0 0 0 (1-2ν)/2 0;\n",
    "                0 0 0 0 0 (1-2ν)/2]\n",
    "\n",
    "            rowsOfB = 6\n",
    "            b = 1\n",
    "        elseif problem.dim == 2 && problem.type == :PlaneStress\n",
    "            D = E / (1 - ν^2) * [1 ν 0;\n",
    "                ν 1 0;\n",
    "                0 0 (1-ν)/2]\n",
    "            rowsOfB = 3\n",
    "            b = problem.thickness\n",
    "        elseif problem.dim == 2 && problem.type == :PlaneStrain\n",
    "            D = E / ((1 + ν) * (1 - 2ν)) * [1-ν ν 0;\n",
    "                ν 1-ν 0;\n",
    "                0 0 (1-2ν)/2]\n",
    "            rowsOfB = 3\n",
    "            b = 1\n",
    "        else\n",
    "            error(\"stiffnessMatrixSolid: dimension is $(problem.dim), problem type is $(problem.type).\")\n",
    "        end\n",
    "\n",
    "        dimTags = gmsh.model.getEntitiesForPhysicalName(phName)\n",
    "        for idm in 1:length(dimTags)\n",
    "            dimTag = dimTags[idm]\n",
    "            edim = dimTag[1]\n",
    "            etag = dimTag[2]\n",
    "            elemTypes, elemTags, elemNodeTags = gmsh.model.mesh.getElements(edim, etag)\n",
    "            for i in 1:length(elemTypes)\n",
    "                et = elemTypes[i]\n",
    "                elementName, dim, order, numNodes::Int64, localNodeCoord, numPrimaryNodes = gmsh.model.mesh.getElementProperties(et)\n",
    "                intPoints, intWeights = gmsh.model.mesh.getIntegrationPoints(et, \"Gauss\" * string(2order + 1))\n",
    "                numIntPoints = length(intWeights)\n",
    "                #comp, fun, ori = gmsh.model.mesh.getBasisFunctions(et, intPoints, \"Lagrange\")\n",
    "                #h = reshape(fun, :, numIntPoints)\n",
    "                comp, dfun, ori = gmsh.model.mesh.getBasisFunctions(et, intPoints, \"GradLagrange\")\n",
    "                ∇h = reshape(dfun, :, numIntPoints)\n",
    "                nnet = zeros(Int, length(elemTags[i]), numNodes)\n",
    "                invJac = zeros(3, 3numIntPoints)\n",
    "                Iidx = zeros(Int, numNodes * pdim, numNodes * pdim)\n",
    "                Jidx = zeros(Int, numNodes * pdim, numNodes * pdim)\n",
    "                for k in 1:numNodes*pdim, l in 1:numNodes*pdim\n",
    "                    Iidx[k, l] = l\n",
    "                    Jidx[k, l] = k\n",
    "                end\n",
    "                #H = zeros(9 * numIntPoints, pdim * numNodes)\n",
    "                ∂h = zeros(dim, numNodes * numIntPoints)\n",
    "                B = zeros(rowsOfB * numIntPoints, pdim * numNodes)\n",
    "                ∂H = spzeros(9 * numIntPoints, pdim * numNodes)\n",
    "                K1 = zeros(pdim * numNodes, pdim * numNodes)\n",
    "                nn2 = zeros(Int, pdim * numNodes)\n",
    "                sizehint!(∂H, 9 * numNodes)\n",
    "                for j in 1:length(elemTags[i])\n",
    "                    elem = elemTags[i][j]\n",
    "                    for k in 1:numNodes\n",
    "                        nnet[j, k] = elemNodeTags[i][(j-1)*numNodes+k]\n",
    "                    end\n",
    "                    for k in 1:pdim\n",
    "                        nn2[k:pdim:pdim*numNodes] = pdim * nnet[j, 1:numNodes] .- (pdim - k)\n",
    "                    end\n",
    "                    jac, jacDet, coord = gmsh.model.mesh.getJacobian(elem, intPoints)\n",
    "                    Jac = reshape(jac, 3, :)\n",
    "                    for k in 1:numIntPoints\n",
    "                        invJac[1:3, 3*k-2:3*k] = @inline inv(Jac[1:3, 3*k-2:3*k])'\n",
    "                    end\n",
    "                    ∂h .*= 0\n",
    "                    for k in 1:numIntPoints, l in 1:numNodes\n",
    "                        ∂h[1:dim, (k-1)*numNodes+l] .= invJac[1:dim, k*3-2:k*3-(3-dim)] * ∇h[l*3-2:l*3-(3-dim), k]\n",
    "                    end\n",
    "                    r1 = r[nn2]\n",
    "                    B .*= 0\n",
    "                    ∂H .*= 0\n",
    "                    if dim == 2 && rowsOfB == 3\n",
    "                        for k in 1:numIntPoints\n",
    "                            for l in 1:numNodes\n",
    "                                B[k*rowsOfB-0, l*pdim-0] = B[k*rowsOfB-2, l*pdim-1] = ∂h[1, (k-1)*numNodes+l]\n",
    "                                B[k*rowsOfB-0, l*pdim-1] = B[k*rowsOfB-1, l*pdim-0] = ∂h[2, (k-1)*numNodes+l]\n",
    "                            end\n",
    "                        end\n",
    "                    elseif dim == 3 && rowsOfB == 6\n",
    "                        for k in 1:numIntPoints\n",
    "                            for l in 1:numNodes\n",
    "                                ∂H[k*9-(9-1), l*pdim-(pdim-1)] = ∂h[1, (k-1)*numNodes+l]\n",
    "                                ∂H[k*9-(9-2), l*pdim-(pdim-2)] = ∂h[1, (k-1)*numNodes+l]\n",
    "                                ∂H[k*9-(9-3), l*pdim-(pdim-3)] = ∂h[1, (k-1)*numNodes+l]\n",
    "                                ∂H[k*9-(9-4), l*pdim-(pdim-1)] = ∂h[2, (k-1)*numNodes+l]\n",
    "                                ∂H[k*9-(9-5), l*pdim-(pdim-2)] = ∂h[2, (k-1)*numNodes+l]\n",
    "                                ∂H[k*9-(9-6), l*pdim-(pdim-3)] = ∂h[2, (k-1)*numNodes+l]\n",
    "                                ∂H[k*9-(9-7), l*pdim-(pdim-1)] = ∂h[3, (k-1)*numNodes+l]\n",
    "                                ∂H[k*9-(9-8), l*pdim-(pdim-2)] = ∂h[3, (k-1)*numNodes+l]\n",
    "                                ∂H[k*9-(9-9), l*pdim-(pdim-3)] = ∂h[3, (k-1)*numNodes+l]\n",
    "                            end\n",
    "                            ∂H1 = ∂H[k*9-(9-1):k*9, 1:pdim*numNodes]\n",
    "                            F = ∂H1 * r1\n",
    "                            for l in 1:numNodes\n",
    "                                B[k*rowsOfB-5, l*pdim-2] = F[1] * ∂h[1, (k-1)*numNodes+l]\n",
    "                                B[k*rowsOfB-4, l*pdim-2] = F[4] * ∂h[2, (k-1)*numNodes+l]\n",
    "                                B[k*rowsOfB-3, l*pdim-2] = F[7] * ∂h[3, (k-1)*numNodes+l]\n",
    "                                B[k*rowsOfB-2, l*pdim-2] = (F[4] * ∂h[1, (k-1)*numNodes+l] + F[1] * ∂h[2, (k-1)*numNodes+l]) / 2\n",
    "                                B[k*rowsOfB-1, l*pdim-2] = (F[7] * ∂h[2, (k-1)*numNodes+l] + F[4] * ∂h[3, (k-1)*numNodes+l]) / 2\n",
    "                                B[k*rowsOfB-0, l*pdim-2] = (F[1] * ∂h[3, (k-1)*numNodes+l] + F[7] * ∂h[1, (k-1)*numNodes+l]) / 2\n",
    "                                B[k*rowsOfB-5, l*pdim-1] = F[2] * ∂h[1, (k-1)*numNodes+l]\n",
    "                                B[k*rowsOfB-4, l*pdim-1] = F[5] * ∂h[2, (k-1)*numNodes+l]\n",
    "                                B[k*rowsOfB-3, l*pdim-1] = F[8] * ∂h[3, (k-1)*numNodes+l]\n",
    "                                B[k*rowsOfB-2, l*pdim-1] = (F[5] * ∂h[1, (k-1)*numNodes+l] + F[2] * ∂h[2, (k-1)*numNodes+l]) / 2\n",
    "                                B[k*rowsOfB-1, l*pdim-1] = (F[8] * ∂h[2, (k-1)*numNodes+l] + F[5] * ∂h[3, (k-1)*numNodes+l]) / 2\n",
    "                                B[k*rowsOfB-0, l*pdim-1] = (F[2] * ∂h[3, (k-1)*numNodes+l] + F[8] * ∂h[1, (k-1)*numNodes+l]) / 2\n",
    "                                B[k*rowsOfB-5, l*pdim-0] = F[3] * ∂h[1, (k-1)*numNodes+l]\n",
    "                                B[k*rowsOfB-4, l*pdim-0] = F[6] * ∂h[2, (k-1)*numNodes+l]\n",
    "                                B[k*rowsOfB-3, l*pdim-0] = F[9] * ∂h[3, (k-1)*numNodes+l]\n",
    "                                B[k*rowsOfB-2, l*pdim-0] = (F[6] * ∂h[1, (k-1)*numNodes+l] + F[3] * ∂h[2, (k-1)*numNodes+l]) / 2\n",
    "                                B[k*rowsOfB-1, l*pdim-0] = (F[9] * ∂h[2, (k-1)*numNodes+l] + F[6] * ∂h[3, (k-1)*numNodes+l]) / 2\n",
    "                                B[k*rowsOfB-0, l*pdim-0] = (F[1] * ∂h[3, (k-1)*numNodes+l] + F[9] * ∂h[1, (k-1)*numNodes+l]) / 2\n",
    "                            end\n",
    "                        end\n",
    "                    else\n",
    "                        error(\"stiffnessMatrixLinear: rows of B is $rowsOfB, dimension of the problem is $dim.\")\n",
    "                    end\n",
    "                    K1 .*= 0\n",
    "                    for k in 1:numIntPoints\n",
    "                        Ex = 10\n",
    "                        νxy = 0.3\n",
    "                        λ = Ex * νxy / ((1 + νxy) * (1 - 2νxy))\n",
    "                        μ = Ex / (2 * (1 + νxy))\n",
    "                        #∂H1 = ∂H[k*9-(9-1):k*9, 1:pdim*numNodes]\n",
    "                        #F1 = ∂H1 * r1\n",
    "                        #F2 = reshape(F1, 3, 3)\n",
    "                        #F2 = [1.0 0 0; 0 1.0 0; 0 0 1.0]\n",
    "                        #J1 = det(F2)\n",
    "                        #C2 = F2' * F2\n",
    "                        #iC2 = inv(C2)\n",
    "                        #iC1 = reshape(iC2, 9, 1)\n",
    "                        #iCiC1 = iC1[[1, 5, 9, 4, 6, 3]] * iC1[[1, 5, 9, 4, 6, 3]]'\n",
    "                        #i1 = [1, 2, 3, 1, 2, 3]\n",
    "                        #j1 = [1, 2, 3, 2, 3, 1]\n",
    "                        #k1 = [1, 2, 3, 1, 2, 3]\n",
    "                        #l1 = [1, 2, 3, 2, 3, 1]\n",
    "                        #II1 = zeros(6, 6)\n",
    "                        #for i2 in 1:6, j2 in 1:6\n",
    "                        #    II1[i2, j2] = (iC2[i1[i2], k1[j2]] * iC2[j1[i2], l1[j2]] + iC2[i1[i2], l1[j2]] * iC2[j1[i2], k1[j2]]) / 2\n",
    "                        #end\n",
    "                        #C1 = λ * iCiC1 + 2 * (μ - λ * log(J1)) * II1\n",
    "                        λ0 = λ\n",
    "                        μ0 = μ\n",
    "                        C1 = [λ0+2μ0 λ0 λ0 0 0 0;\n",
    "                            λ0 λ0+2μ0 λ0 0 0 0;\n",
    "                            λ0 λ0 λ0+2μ0 0 0 0;\n",
    "                            0 0 0 μ0 0 0;\n",
    "                            0 0 0 0 μ0 0;\n",
    "                            0 0 0 0 0 μ0]\n",
    "                        B1 = B[k*rowsOfB-(rowsOfB-1):k*rowsOfB, 1:pdim*numNodes]\n",
    "                        K1 += B1' * C1 * B1 * b * jacDet[k] * intWeights[k]\n",
    "                    end\n",
    "                    append!(I, nn2[Iidx[:]])\n",
    "                    append!(J, nn2[Jidx[:]])\n",
    "                    append!(V, K1[:])\n",
    "                end\n",
    "                push!(nn, nnet)\n",
    "            end\n",
    "        end\n",
    "    end\n",
    "    dof = problem.pdim * problem.non\n",
    "    K = sparse(I, J, V, dof, dof)\n",
    "    dropzeros!(K)\n",
    "    return K\n",
    "end"
   ]
  },
  {
   "cell_type": "code",
   "execution_count": 113,
   "id": "fa0e7211",
   "metadata": {},
   "outputs": [
    {
     "data": {
      "text/plain": [
       "stiffnessMatrixNonLinear (generic function with 1 method)"
      ]
     },
     "metadata": {},
     "output_type": "display_data"
    }
   ],
   "source": [
    "function stiffnessMatrixNonLinear(problem, r)\n",
    "    gmsh.model.setCurrent(problem.name)\n",
    "    elemTypes, elemTags, elemNodeTags = gmsh.model.mesh.getElements(problem.dim, -1)\n",
    "    lengthOfIJV = sum([(div(length(elemNodeTags[i]), length(elemTags[i])) * problem.dim)^2 * length(elemTags[i]) for i in 1:length(elemTags)])\n",
    "    nn = []\n",
    "    I = []\n",
    "    J = []\n",
    "    V = []\n",
    "    V = convert(Vector{Float64}, V)\n",
    "    sizehint!(I, lengthOfIJV)\n",
    "    sizehint!(J, lengthOfIJV)\n",
    "    sizehint!(V, lengthOfIJV)\n",
    "\n",
    "    for ipg in 1:length(problem.material)\n",
    "        phName = problem.material[ipg].phName\n",
    "        E = problem.material[ipg].E\n",
    "        ν = problem.material[ipg].ν\n",
    "        dim = problem.dim\n",
    "        pdim = problem.pdim\n",
    "        if problem.dim == 3 && problem.type == :Solid\n",
    "            rowsOfB = 6\n",
    "            b = 1\n",
    "        elseif problem.dim == 2 && problem.type == :PlaneStress\n",
    "            rowsOfB = 3\n",
    "            b = problem.thickness\n",
    "        elseif problem.dim == 2 && problem.type == :PlaneStrain\n",
    "            rowsOfB = 3\n",
    "            b = 1\n",
    "        else\n",
    "            error(\"stiffnessMatrixSolid: dimension is $(problem.dim), problem type is $(problem.type).\")\n",
    "        end\n",
    "\n",
    "        dimTags = gmsh.model.getEntitiesForPhysicalName(phName)\n",
    "        for idm in 1:length(dimTags)\n",
    "            dimTag = dimTags[idm]\n",
    "            edim = dimTag[1]\n",
    "            etag = dimTag[2]\n",
    "            elemTypes, elemTags, elemNodeTags = gmsh.model.mesh.getElements(edim, etag)\n",
    "            for i in 1:length(elemTypes)\n",
    "                et = elemTypes[i]\n",
    "                elementName, dim, order, numNodes::Int64, localNodeCoord, numPrimaryNodes = gmsh.model.mesh.getElementProperties(et)\n",
    "                intPoints, intWeights = gmsh.model.mesh.getIntegrationPoints(et, \"Gauss\" * string(2order + 1))\n",
    "                numIntPoints = length(intWeights)\n",
    "                comp, fun, ori = gmsh.model.mesh.getBasisFunctions(et, intPoints, \"Lagrange\")\n",
    "                h = reshape(fun, :, numIntPoints)\n",
    "                comp, dfun, ori = gmsh.model.mesh.getBasisFunctions(et, intPoints, \"GradLagrange\")\n",
    "                ∇h = reshape(dfun, :, numIntPoints)\n",
    "                nnet = zeros(Int, length(elemTags[i]), numNodes)\n",
    "                invJac = zeros(3, 3numIntPoints)\n",
    "                Iidx = zeros(Int, numNodes * pdim, numNodes * pdim)\n",
    "                Jidx = zeros(Int, numNodes * pdim, numNodes * pdim)\n",
    "                for k in 1:numNodes*pdim, l in 1:numNodes*pdim\n",
    "                    Iidx[k, l] = l\n",
    "                    Jidx[k, l] = k\n",
    "                end\n",
    "                H = spzeros(9 * numIntPoints, 9 * numNodes)\n",
    "                sizehint!(H, 9 * numNodes * numIntPoints)\n",
    "                ∂h = zeros(dim, numNodes * numIntPoints)\n",
    "                B = zeros(rowsOfB * numIntPoints, pdim * numNodes)\n",
    "                ∂H = spzeros(9 * numIntPoints, pdim * numNodes)\n",
    "                K1 = zeros(pdim * numNodes, pdim * numNodes)\n",
    "                nn2 = zeros(Int, dim * numNodes)\n",
    "                nn9 = zeros(Int, 9 * numNodes)\n",
    "                sizehint!(∂H, 9 * numNodes * numIntPoints)\n",
    "                for k in 1:numIntPoints, l in 1:numNodes\n",
    "                    for kk in 1:9\n",
    "                        H[k*9-(9-kk), l*9-(9-kk)] = h[(k-1)*numNodes+l]\n",
    "                    end\n",
    "                end\n",
    "                for j in 1:length(elemTags[i])\n",
    "                    elem = elemTags[i][j]\n",
    "                    for k in 1:numNodes\n",
    "                        nnet[j, k] = elemNodeTags[i][(j-1)*numNodes+k]\n",
    "                    end\n",
    "                    for k in 1:dim\n",
    "                        nn2[k:dim:dim*numNodes] = dim * nnet[j, 1:numNodes] .- (dim - k)\n",
    "                    end\n",
    "                    for k in 1:9\n",
    "                        nn9[k:9:9*numNodes] = 9 * nnet[j, 1:numNodes] .- (9 - k)\n",
    "                    end\n",
    "                    jac, jacDet, coord = gmsh.model.mesh.getJacobian(elem, intPoints)\n",
    "                    Jac = reshape(jac, 3, :)\n",
    "                    for k in 1:numIntPoints\n",
    "                        invJac[1:3, 3*k-2:3*k] = @inline inv(Jac[1:3, 3*k-2:3*k])'\n",
    "                    end\n",
    "                    ∂h .*= 0\n",
    "                    for k in 1:numIntPoints, l in 1:numNodes\n",
    "                        ∂h[1:dim, (k-1)*numNodes+l] .= invJac[1:dim, k*3-2:k*3-(3-dim)] * ∇h[l*3-2:l*3-(3-dim), k]\n",
    "                    end\n",
    "                    r1 = r[nn2]\n",
    "                    #S1 = S[nn9]\n",
    "                    B .*= 0\n",
    "                    ∂H .*= 0\n",
    "                    if dim == 2 && rowsOfB == 3\n",
    "                        for k in 1:numIntPoints\n",
    "                            for l in 1:numNodes\n",
    "                                B[k*rowsOfB-0, l*pdim-0] = B[k*rowsOfB-2, l*pdim-1] = ∂h[1, (k-1)*numNodes+l]\n",
    "                                B[k*rowsOfB-0, l*pdim-1] = B[k*rowsOfB-1, l*pdim-0] = ∂h[2, (k-1)*numNodes+l]\n",
    "                            end\n",
    "                        end\n",
    "                    elseif dim == 3 && rowsOfB == 6\n",
    "                        for k in 1:numIntPoints\n",
    "                            for l in 1:numNodes\n",
    "                                ∂H[k*9-(9-1), l*pdim-(pdim-1)] = ∂h[1, (k-1)*numNodes+l]\n",
    "                                ∂H[k*9-(9-2), l*pdim-(pdim-2)] = ∂h[1, (k-1)*numNodes+l]\n",
    "                                ∂H[k*9-(9-3), l*pdim-(pdim-3)] = ∂h[1, (k-1)*numNodes+l]\n",
    "                                ∂H[k*9-(9-4), l*pdim-(pdim-1)] = ∂h[2, (k-1)*numNodes+l]\n",
    "                                ∂H[k*9-(9-5), l*pdim-(pdim-2)] = ∂h[2, (k-1)*numNodes+l]\n",
    "                                ∂H[k*9-(9-6), l*pdim-(pdim-3)] = ∂h[2, (k-1)*numNodes+l]\n",
    "                                ∂H[k*9-(9-7), l*pdim-(pdim-1)] = ∂h[3, (k-1)*numNodes+l]\n",
    "                                ∂H[k*9-(9-8), l*pdim-(pdim-2)] = ∂h[3, (k-1)*numNodes+l]\n",
    "                                ∂H[k*9-(9-9), l*pdim-(pdim-3)] = ∂h[3, (k-1)*numNodes+l]\n",
    "                            end\n",
    "                        end\n",
    "                    else\n",
    "                        error(\"stiffnessMatrixLinear: rows of B is $rowsOfB, dimension of the problem is $dim.\")\n",
    "                    end\n",
    "                    K1 .*= 0\n",
    "                    for k in 1:numIntPoints\n",
    "                        Ex = 10\n",
    "                        νxy = 0.3\n",
    "                        λ = Ex * νxy / ((1 + νxy) * (1 - 2νxy))\n",
    "                        μ = Ex / (2 * (1 + νxy))\n",
    "                        I3 = [1 0 0; 0 1 0; 0 0 1]\n",
    "                        #H1 = H[k*9-(9-1):k*9, 1:9*numNodes]\n",
    "                        ∂H0 = ∂H[k*9-(9-1):k*9, 1:pdim*numNodes]\n",
    "                        F1 = ∂H0 * r1\n",
    "                        F2 = reshape(F1, 3, 3)\n",
    "                        #J1 = det(F2)\n",
    "                        E = (F2' * F2 - I3) / 2\n",
    "                        #iC = inv(C)\n",
    "                        S2 = 2μ * E + λ * (E[1, 1] + E[2, 2] + E[3, 3]) * I3\n",
    "                        #S0 = reshape(H1 * S1, 3, 3)\n",
    "                        ∂H1 = ∂H[k*9-(9-1):3:k*9-(9-9), 1:pdim*numNodes]\n",
    "                        ∂H2 = ∂H[k*9-(9-2):3:k*9-(9-9), 1:pdim*numNodes]\n",
    "                        ∂H3 = ∂H[k*9-(9-3):3:k*9-(9-9), 1:pdim*numNodes]\n",
    "                        K1 += (∂H1' * S2 * ∂H1 + ∂H2' * S2 * ∂H2 + ∂H3' * S2 * ∂H3) * b * jacDet[k] * intWeights[k]\n",
    "                    end\n",
    "                    append!(I, nn2[Iidx[:]])\n",
    "                    append!(J, nn2[Jidx[:]])\n",
    "                    append!(V, K1[:])\n",
    "                end\n",
    "                push!(nn, nnet)\n",
    "            end\n",
    "        end\n",
    "    end\n",
    "    dof = problem.pdim * problem.non\n",
    "    K = sparse(I, J, V, dof, dof)\n",
    "    dropzeros!(K)\n",
    "    return K\n",
    "end"
   ]
  },
  {
   "cell_type": "code",
   "execution_count": 114,
   "id": "8e99291e",
   "metadata": {},
   "outputs": [],
   "source": [
    "#=\n",
    "function stiffnessMatrixLinear0(problem, r)\n",
    "    gmsh.model.setCurrent(problem.name)\n",
    "    elemTypes, elemTags, elemNodeTags = gmsh.model.mesh.getElements(problem.dim, -1)\n",
    "    lengthOfIJV = sum([(div(length(elemNodeTags[i]), length(elemTags[i])) * problem.dim)^2 * length(elemTags[i]) for i in 1:length(elemTags)])\n",
    "    nn = []\n",
    "    I = []\n",
    "    J = []\n",
    "    V = []\n",
    "    V = convert(Vector{Float64}, V)\n",
    "    sizehint!(I, lengthOfIJV)\n",
    "    sizehint!(J, lengthOfIJV)\n",
    "    sizehint!(V, lengthOfIJV)\n",
    "\n",
    "    for ipg in 1:length(problem.material)\n",
    "        phName = problem.material[ipg].phName\n",
    "        E = problem.material[ipg].E\n",
    "        ν = problem.material[ipg].ν\n",
    "        dim = problem.dim\n",
    "        pdim = problem.pdim\n",
    "        if problem.dim == 3 && problem.type == :Solid\n",
    "            D = E / ((1 + ν) * (1 - 2ν)) * [1-ν ν ν 0 0 0;\n",
    "                ν 1-ν ν 0 0 0;\n",
    "                ν ν 1-ν 0 0 0;\n",
    "                0 0 0 (1-2ν)/2 0 0;\n",
    "                0 0 0 0 (1-2ν)/2 0;\n",
    "                0 0 0 0 0 (1-2ν)/2]\n",
    "\n",
    "            rowsOfB = 6\n",
    "            b = 1\n",
    "        elseif problem.dim == 2 && problem.type == :PlaneStress\n",
    "            D = E / (1 - ν^2) * [1 ν 0;\n",
    "                ν 1 0;\n",
    "                0 0 (1-ν)/2]\n",
    "            rowsOfB = 3\n",
    "            b = problem.thickness\n",
    "        elseif problem.dim == 2 && problem.type == :PlaneStrain\n",
    "            D = E / ((1 + ν) * (1 - 2ν)) * [1-ν ν 0;\n",
    "                ν 1-ν 0;\n",
    "                0 0 (1-2ν)/2]\n",
    "            rowsOfB = 3\n",
    "            b = 1\n",
    "        else\n",
    "            error(\"stiffnessMatrixSolid: dimension is $(problem.dim), problem type is $(problem.type).\")\n",
    "        end\n",
    "\n",
    "        dimTags = gmsh.model.getEntitiesForPhysicalName(phName)\n",
    "        for idm in 1:length(dimTags)\n",
    "            dimTag = dimTags[idm]\n",
    "            edim = dimTag[1]\n",
    "            etag = dimTag[2]\n",
    "            elemTypes, elemTags, elemNodeTags = gmsh.model.mesh.getElements(edim, etag)\n",
    "            for i in 1:length(elemTypes)\n",
    "                et = elemTypes[i]\n",
    "                elementName, dim, order, numNodes::Int64, localNodeCoord, numPrimaryNodes = gmsh.model.mesh.getElementProperties(et)\n",
    "                intPoints, intWeights = gmsh.model.mesh.getIntegrationPoints(et, \"Gauss\" * string(4order + 1))\n",
    "                numIntPoints = length(intWeights)\n",
    "                #comp, fun, ori = gmsh.model.mesh.getBasisFunctions(et, intPoints, \"Lagrange\")\n",
    "                #h = reshape(fun, :, numIntPoints)\n",
    "                comp, dfun, ori = gmsh.model.mesh.getBasisFunctions(et, intPoints, \"GradLagrange\")\n",
    "                ∇h = reshape(dfun, :, numIntPoints)\n",
    "                nnet = zeros(Int, length(elemTags[i]), numNodes)\n",
    "                invJac = zeros(3, 3numIntPoints)\n",
    "                Iidx = zeros(Int, numNodes * pdim, numNodes * pdim)\n",
    "                Jidx = zeros(Int, numNodes * pdim, numNodes * pdim)\n",
    "                for k in 1:numNodes*pdim, l in 1:numNodes*pdim\n",
    "                    Iidx[k, l] = l\n",
    "                    Jidx[k, l] = k\n",
    "                end\n",
    "                #H = zeros(9 * numIntPoints, pdim * numNodes)\n",
    "                ∂h = zeros(dim, numNodes * numIntPoints)\n",
    "                B = zeros(rowsOfB * numIntPoints, pdim * numNodes)\n",
    "                ∂H = spzeros(9 * numIntPoints, pdim * numNodes)\n",
    "                K1 = zeros(pdim * numNodes, pdim * numNodes)\n",
    "                nn2 = zeros(Int, pdim * numNodes)\n",
    "                sizehint!(∂H, 9 * numNodes)\n",
    "                #for k in 1:numIntPoints, l in 1:numNodes\n",
    "                #    for kk in 1:3:9, ll in 1:3\n",
    "                #H[k*9-(9-kk)-1+ll, l*pdim-(pdim-ll)] = h[(k-1)*numNodes+l]\n",
    "                #    end\n",
    "                #end\n",
    "                for j in 1:length(elemTags[i])\n",
    "                    elem = elemTags[i][j]\n",
    "                    for k in 1:numNodes\n",
    "                        nnet[j, k] = elemNodeTags[i][(j-1)*numNodes+k]\n",
    "                    end\n",
    "                    for k in 1:pdim\n",
    "                        nn2[k:pdim:pdim*numNodes] = pdim * nnet[j, 1:numNodes] .- (pdim - k)\n",
    "                    end\n",
    "                    jac, jacDet, coord = gmsh.model.mesh.getJacobian(elem, intPoints)\n",
    "                    Jac = reshape(jac, 3, :)\n",
    "                    for k in 1:numIntPoints\n",
    "                        invJac[1:3, 3*k-2:3*k] = @inline inv(Jac[1:3, 3*k-2:3*k])'\n",
    "                    end\n",
    "                    ∂h .*= 0\n",
    "                    for k in 1:numIntPoints, l in 1:numNodes\n",
    "                        ∂h[1:dim, (k-1)*numNodes+l] .= invJac[1:dim, k*3-2:k*3-(3-dim)] * ∇h[l*3-2:l*3-(3-dim), k]\n",
    "                    end\n",
    "                    r1 = r[nn2]\n",
    "                    B .*= 0\n",
    "                    ∂H .*= 0\n",
    "                    if dim == 2 && rowsOfB == 3\n",
    "                        for k in 1:numIntPoints\n",
    "                            for l in 1:numNodes\n",
    "                                B[k*rowsOfB-0, l*pdim-0] = B[k*rowsOfB-2, l*pdim-1] = ∂h[1, (k-1)*numNodes+l]\n",
    "                                B[k*rowsOfB-0, l*pdim-1] = B[k*rowsOfB-1, l*pdim-0] = ∂h[2, (k-1)*numNodes+l]\n",
    "                            end\n",
    "                        end\n",
    "                    elseif dim == 3 && rowsOfB == 6\n",
    "                        for k in 1:numIntPoints\n",
    "                            for l in 1:numNodes\n",
    "                                ∂H[k*9-(9-1), l*pdim-(pdim-1)] = ∂h[1, (k-1)*numNodes+l]\n",
    "                                ∂H[k*9-(9-2), l*pdim-(pdim-1)] = ∂h[2, (k-1)*numNodes+l]\n",
    "                                ∂H[k*9-(9-3), l*pdim-(pdim-1)] = ∂h[3, (k-1)*numNodes+l]\n",
    "                                ∂H[k*9-(9-4), l*pdim-(pdim-2)] = ∂h[1, (k-1)*numNodes+l]\n",
    "                                ∂H[k*9-(9-5), l*pdim-(pdim-2)] = ∂h[2, (k-1)*numNodes+l]\n",
    "                                ∂H[k*9-(9-6), l*pdim-(pdim-2)] = ∂h[3, (k-1)*numNodes+l]\n",
    "                                ∂H[k*9-(9-7), l*pdim-(pdim-3)] = ∂h[1, (k-1)*numNodes+l]\n",
    "                                ∂H[k*9-(9-8), l*pdim-(pdim-3)] = ∂h[2, (k-1)*numNodes+l]\n",
    "                                ∂H[k*9-(9-9), l*pdim-(pdim-3)] = ∂h[3, (k-1)*numNodes+l]\n",
    "                            end\n",
    "                            ∂H1 = ∂H[k*9-(9-1):k*9, 1:pdim*numNodes]\n",
    "                            F = ∂H1 * r1\n",
    "                            for l in 1:numNodes\n",
    "                                B[k*rowsOfB-5, l*pdim-2] = F[1] * ∂h[1, (k-1)*numNodes+l]\n",
    "                                B[k*rowsOfB-4, l*pdim-2] = F[4] * ∂h[2, (k-1)*numNodes+l]\n",
    "                                B[k*rowsOfB-3, l*pdim-2] = F[7] * ∂h[3, (k-1)*numNodes+l]\n",
    "                                B[k*rowsOfB-2, l*pdim-2] = (F[4] * ∂h[1, (k-1)*numNodes+l] + F[1] * ∂h[2, (k-1)*numNodes+l]) / 2\n",
    "                                B[k*rowsOfB-1, l*pdim-2] = (F[7] * ∂h[2, (k-1)*numNodes+l] + F[4] * ∂h[3, (k-1)*numNodes+l]) / 2\n",
    "                                B[k*rowsOfB-0, l*pdim-2] = (F[1] * ∂h[3, (k-1)*numNodes+l] + F[7] * ∂h[1, (k-1)*numNodes+l]) / 2\n",
    "                                B[k*rowsOfB-5, l*pdim-1] = F[2] * ∂h[1, (k-1)*numNodes+l]\n",
    "                                B[k*rowsOfB-4, l*pdim-1] = F[5] * ∂h[2, (k-1)*numNodes+l]\n",
    "                                B[k*rowsOfB-3, l*pdim-1] = F[8] * ∂h[3, (k-1)*numNodes+l]\n",
    "                                B[k*rowsOfB-2, l*pdim-1] = (F[5] * ∂h[1, (k-1)*numNodes+l] + F[2] * ∂h[2, (k-1)*numNodes+l]) / 2\n",
    "                                B[k*rowsOfB-1, l*pdim-1] = (F[8] * ∂h[2, (k-1)*numNodes+l] + F[5] * ∂h[3, (k-1)*numNodes+l]) / 2\n",
    "                                B[k*rowsOfB-0, l*pdim-1] = (F[2] * ∂h[3, (k-1)*numNodes+l] + F[8] * ∂h[1, (k-1)*numNodes+l]) / 2\n",
    "                                B[k*rowsOfB-5, l*pdim-0] = F[3] * ∂h[1, (k-1)*numNodes+l]\n",
    "                                B[k*rowsOfB-4, l*pdim-0] = F[6] * ∂h[2, (k-1)*numNodes+l]\n",
    "                                B[k*rowsOfB-3, l*pdim-0] = F[9] * ∂h[3, (k-1)*numNodes+l]\n",
    "                                B[k*rowsOfB-2, l*pdim-0] = (F[6] * ∂h[1, (k-1)*numNodes+l] + F[3] * ∂h[2, (k-1)*numNodes+l]) / 2\n",
    "                                B[k*rowsOfB-1, l*pdim-0] = (F[9] * ∂h[2, (k-1)*numNodes+l] + F[6] * ∂h[3, (k-1)*numNodes+l]) / 2\n",
    "                                B[k*rowsOfB-0, l*pdim-0] = (F[1] * ∂h[3, (k-1)*numNodes+l] + F[9] * ∂h[1, (k-1)*numNodes+l]) / 2\n",
    "                            end\n",
    "                        end\n",
    "                    else\n",
    "                        error(\"stiffnessMatrixLinear: rows of B is $rowsOfB, dimension of the problem is $dim.\")\n",
    "                    end\n",
    "                    K1 .*= 0\n",
    "                    for k in 1:numIntPoints\n",
    "                        Ex = 10\n",
    "                        νxy = 0.3\n",
    "                        λ = Ex * νxy / ((1 + νxy) * (1 - 2νxy))\n",
    "                        μ = Ex / (2 * (1 + νxy))\n",
    "                        ∂H1 = ∂H[k*9-(9-1):k*9, 1:pdim*numNodes]\n",
    "                        F1 = ∂H1 * r1\n",
    "                        F2 = reshape(F1, 3, 3)\n",
    "                        J1 = det(F2)\n",
    "                        C2 = F2' * F2\n",
    "                        iC2 = inv(C2)\n",
    "                        iC1 = reshape(C2, 9, 1)\n",
    "                        iCiC1 = iC1[[1, 5, 9, 4, 6, 3]] * iC1[[1, 5, 9, 4, 6, 3]]'\n",
    "                        i1 = [1, 2, 3, 1, 2, 3]\n",
    "                        j1 = [1, 2, 3, 2, 3, 1]\n",
    "                        k1 = [1, 2, 3, 1, 2, 3]\n",
    "                        l1 = [1, 2, 3, 2, 3, 1]\n",
    "                        II1 = zeros(6, 6)\n",
    "                        for i2 in 1:6, j2 in 1:6\n",
    "                            II1[i2, j2] = (iC2[i1[i2], k1[j2]] * iC2[j1[i2], l1[j2]] + iC2[i1[i2], l1[j2]] * iC2[j1[i2], k1[j2]]) / 2\n",
    "                        end\n",
    "                        C1 = λ * iCiC1 + 2 * (μ - λ * log(J1)) * II1\n",
    "                        B1 = B[k*rowsOfB-(rowsOfB-1):k*rowsOfB, 1:pdim*numNodes]\n",
    "                        K1 += B1' * C1 * B1 * b * jacDet[k] * intWeights[k]\n",
    "                    end\n",
    "                    append!(I, nn2[Iidx[:]])\n",
    "                    append!(J, nn2[Jidx[:]])\n",
    "                    append!(V, K1[:])\n",
    "                end\n",
    "                push!(nn, nnet)\n",
    "            end\n",
    "        end\n",
    "    end\n",
    "    dof = problem.pdim * problem.non\n",
    "    K = sparse(I, J, V, dof, dof)\n",
    "    dropzeros!(K)\n",
    "    return K\n",
    "end\n",
    "=#"
   ]
  },
  {
   "cell_type": "code",
   "execution_count": 115,
   "id": "4ece681e",
   "metadata": {},
   "outputs": [
    {
     "data": {
      "text/plain": [
       "loadVectorNonLinear (generic function with 1 method)"
      ]
     },
     "metadata": {},
     "output_type": "display_data"
    }
   ],
   "source": [
    "function loadVectorNonLinear(problem, r)\n",
    "    gmsh.model.setCurrent(problem.name)\n",
    "    elemTypes, elemTags, elemNodeTags = gmsh.model.mesh.getElements(problem.dim, -1)\n",
    "    f = zeros(problem.non * problem.pdim)\n",
    "\n",
    "    for ipg in 1:length(problem.material)\n",
    "        phName = problem.material[ipg].phName\n",
    "        E = problem.material[ipg].E\n",
    "        ν = problem.material[ipg].ν\n",
    "        dim = problem.dim\n",
    "        pdim = problem.pdim\n",
    "        if problem.dim == 3 && problem.type == :Solid\n",
    "            D = E / ((1 + ν) * (1 - 2ν)) * [1-ν ν ν 0 0 0;\n",
    "                ν 1-ν ν 0 0 0;\n",
    "                ν ν 1-ν 0 0 0;\n",
    "                0 0 0 (1-2ν)/2 0 0;\n",
    "                0 0 0 0 (1-2ν)/2 0;\n",
    "                0 0 0 0 0 (1-2ν)/2]\n",
    "\n",
    "            rowsOfB = 6\n",
    "            b = 1\n",
    "        elseif problem.dim == 2 && problem.type == :PlaneStress\n",
    "            D = E / (1 - ν^2) * [1 ν 0;\n",
    "                ν 1 0;\n",
    "                0 0 (1-ν)/2]\n",
    "            rowsOfB = 3\n",
    "            b = problem.thickness\n",
    "        elseif problem.dim == 2 && problem.type == :PlaneStrain\n",
    "            D = E / ((1 + ν) * (1 - 2ν)) * [1-ν ν 0;\n",
    "                ν 1-ν 0;\n",
    "                0 0 (1-2ν)/2]\n",
    "            rowsOfB = 3\n",
    "            b = 1\n",
    "        else\n",
    "            error(\"stiffnessMatrixSolid: dimension is $(problem.dim), problem type is $(problem.type).\")\n",
    "        end\n",
    "\n",
    "        dimTags = gmsh.model.getEntitiesForPhysicalName(phName)\n",
    "        for idm in 1:length(dimTags)\n",
    "            dimTag = dimTags[idm]\n",
    "            edim = dimTag[1]\n",
    "            etag = dimTag[2]\n",
    "            elemTypes, elemTags, elemNodeTags = gmsh.model.mesh.getElements(edim, etag)\n",
    "            for i in 1:length(elemTypes)\n",
    "                et = elemTypes[i]\n",
    "                elementName, dim, order, numNodes::Int64, localNodeCoord, numPrimaryNodes = gmsh.model.mesh.getElementProperties(et)\n",
    "                intPoints, intWeights = gmsh.model.mesh.getIntegrationPoints(et, \"Gauss\" * string(2order + 1))\n",
    "                numIntPoints = length(intWeights)\n",
    "                comp, fun, ori = gmsh.model.mesh.getBasisFunctions(et, intPoints, \"Lagrange\")\n",
    "                h = reshape(fun, :, numIntPoints)\n",
    "                comp, dfun, ori = gmsh.model.mesh.getBasisFunctions(et, intPoints, \"GradLagrange\")\n",
    "                ∇h = reshape(dfun, :, numIntPoints)\n",
    "                nnet = zeros(Int, length(elemTags[i]), numNodes)\n",
    "                invJac = zeros(3, 3numIntPoints)\n",
    "                Iidx = zeros(Int, numNodes * pdim, numNodes * pdim)\n",
    "                Jidx = zeros(Int, numNodes * pdim, numNodes * pdim)\n",
    "                for k in 1:numNodes*pdim, l in 1:numNodes*pdim\n",
    "                    Iidx[k, l] = l\n",
    "                    Jidx[k, l] = k\n",
    "                end\n",
    "                H = spzeros(9 * numIntPoints, 9 * numNodes)\n",
    "                sizehint!(H, 9 * numNodes * numIntPoints)\n",
    "                ∂h = zeros(dim, numNodes * numIntPoints)\n",
    "                B = zeros(rowsOfB * numIntPoints, pdim * numNodes)\n",
    "                ∂H = spzeros(9 * numIntPoints, pdim * numNodes)\n",
    "                f1 = zeros(pdim * numNodes)\n",
    "                nn2 = zeros(Int, pdim * numNodes)\n",
    "                nn9 = zeros(Int, 9 * numNodes)\n",
    "                sizehint!(∂H, 9 * numNodes * numIntPoints)\n",
    "                #for k in 1:numIntPoints, l in 1:numNodes\n",
    "                #    for kk in 1:3:9, ll in 1:3\n",
    "                #H[k*9-(9-kk)-1+ll, l*pdim-(pdim-ll)] = h[(k-1)*numNodes+l]\n",
    "                #    end\n",
    "                #end\n",
    "                for j in 1:length(elemTags[i])\n",
    "                    elem = elemTags[i][j]\n",
    "                    for k in 1:numNodes\n",
    "                        nnet[j, k] = elemNodeTags[i][(j-1)*numNodes+k]\n",
    "                    end\n",
    "                    for k in 1:pdim\n",
    "                        nn2[k:pdim:pdim*numNodes] = pdim * nnet[j, 1:numNodes] .- (pdim - k)\n",
    "                    end\n",
    "                    for k in 1:9\n",
    "                        nn9[k:9:9*numNodes] = 9 * nnet[j, 1:numNodes] .- (9 - k)\n",
    "                    end\n",
    "                    jac, jacDet, coord = gmsh.model.mesh.getJacobian(elem, intPoints)\n",
    "                    Jac = reshape(jac, 3, :)\n",
    "                    for k in 1:numIntPoints\n",
    "                        invJac[1:3, 3*k-2:3*k] = @inline inv(Jac[1:3, 3*k-2:3*k])'\n",
    "                    end\n",
    "                    ∂h .*= 0\n",
    "                    for k in 1:numIntPoints, l in 1:numNodes\n",
    "                        ∂h[1:dim, (k-1)*numNodes+l] .= invJac[1:dim, k*3-2:k*3-(3-dim)] * ∇h[l*3-2:l*3-(3-dim), k]\n",
    "                    end\n",
    "                    r1 = r[nn2]\n",
    "                    #S1 = S[nn9]\n",
    "                    B .*= 0\n",
    "                    ∂H .*= 0\n",
    "                    if dim == 2 && rowsOfB == 3\n",
    "                        for k in 1:numIntPoints\n",
    "                            for l in 1:numNodes\n",
    "                                B[k*rowsOfB-0, l*pdim-0] = B[k*rowsOfB-2, l*pdim-1] = ∂h[1, (k-1)*numNodes+l]\n",
    "                                B[k*rowsOfB-0, l*pdim-1] = B[k*rowsOfB-1, l*pdim-0] = ∂h[2, (k-1)*numNodes+l]\n",
    "                            end\n",
    "                        end\n",
    "                    elseif dim == 3 && rowsOfB == 6\n",
    "                        for k in 1:numIntPoints\n",
    "                            for l in 1:numNodes\n",
    "                                ∂H[k*9-(9-1), l*pdim-(pdim-1)] = ∂h[1, (k-1)*numNodes+l]\n",
    "                                ∂H[k*9-(9-2), l*pdim-(pdim-2)] = ∂h[1, (k-1)*numNodes+l]\n",
    "                                ∂H[k*9-(9-3), l*pdim-(pdim-3)] = ∂h[1, (k-1)*numNodes+l]\n",
    "                                ∂H[k*9-(9-4), l*pdim-(pdim-1)] = ∂h[2, (k-1)*numNodes+l]\n",
    "                                ∂H[k*9-(9-5), l*pdim-(pdim-2)] = ∂h[2, (k-1)*numNodes+l]\n",
    "                                ∂H[k*9-(9-6), l*pdim-(pdim-3)] = ∂h[2, (k-1)*numNodes+l]\n",
    "                                ∂H[k*9-(9-7), l*pdim-(pdim-1)] = ∂h[3, (k-1)*numNodes+l]\n",
    "                                ∂H[k*9-(9-8), l*pdim-(pdim-2)] = ∂h[3, (k-1)*numNodes+l]\n",
    "                                ∂H[k*9-(9-9), l*pdim-(pdim-3)] = ∂h[3, (k-1)*numNodes+l]\n",
    "                            end\n",
    "                            ∂H1 = ∂H[k*9-(9-1):k*9, 1:pdim*numNodes]\n",
    "                            F = ∂H1 * r1\n",
    "                            for l in 1:numNodes\n",
    "                                B[k*rowsOfB-5, l*pdim-2] = F[1] * ∂h[1, (k-1)*numNodes+l]\n",
    "                                B[k*rowsOfB-4, l*pdim-2] = F[4] * ∂h[2, (k-1)*numNodes+l]\n",
    "                                B[k*rowsOfB-3, l*pdim-2] = F[7] * ∂h[3, (k-1)*numNodes+l]\n",
    "                                B[k*rowsOfB-2, l*pdim-2] = (F[4] * ∂h[1, (k-1)*numNodes+l] + F[1] * ∂h[2, (k-1)*numNodes+l]) / 2\n",
    "                                B[k*rowsOfB-1, l*pdim-2] = (F[7] * ∂h[2, (k-1)*numNodes+l] + F[4] * ∂h[3, (k-1)*numNodes+l]) / 2\n",
    "                                B[k*rowsOfB-0, l*pdim-2] = (F[1] * ∂h[3, (k-1)*numNodes+l] + F[7] * ∂h[1, (k-1)*numNodes+l]) / 2\n",
    "                                B[k*rowsOfB-5, l*pdim-1] = F[2] * ∂h[1, (k-1)*numNodes+l]\n",
    "                                B[k*rowsOfB-4, l*pdim-1] = F[5] * ∂h[2, (k-1)*numNodes+l]\n",
    "                                B[k*rowsOfB-3, l*pdim-1] = F[8] * ∂h[3, (k-1)*numNodes+l]\n",
    "                                B[k*rowsOfB-2, l*pdim-1] = (F[5] * ∂h[1, (k-1)*numNodes+l] + F[2] * ∂h[2, (k-1)*numNodes+l]) / 2\n",
    "                                B[k*rowsOfB-1, l*pdim-1] = (F[8] * ∂h[2, (k-1)*numNodes+l] + F[5] * ∂h[3, (k-1)*numNodes+l]) / 2\n",
    "                                B[k*rowsOfB-0, l*pdim-1] = (F[2] * ∂h[3, (k-1)*numNodes+l] + F[8] * ∂h[1, (k-1)*numNodes+l]) / 2\n",
    "                                B[k*rowsOfB-5, l*pdim-0] = F[3] * ∂h[1, (k-1)*numNodes+l]\n",
    "                                B[k*rowsOfB-4, l*pdim-0] = F[6] * ∂h[2, (k-1)*numNodes+l]\n",
    "                                B[k*rowsOfB-3, l*pdim-0] = F[9] * ∂h[3, (k-1)*numNodes+l]\n",
    "                                B[k*rowsOfB-2, l*pdim-0] = (F[6] * ∂h[1, (k-1)*numNodes+l] + F[3] * ∂h[2, (k-1)*numNodes+l]) / 2\n",
    "                                B[k*rowsOfB-1, l*pdim-0] = (F[9] * ∂h[2, (k-1)*numNodes+l] + F[6] * ∂h[3, (k-1)*numNodes+l]) / 2\n",
    "                                B[k*rowsOfB-0, l*pdim-0] = (F[1] * ∂h[3, (k-1)*numNodes+l] + F[9] * ∂h[1, (k-1)*numNodes+l]) / 2\n",
    "                            end\n",
    "                        end\n",
    "                    else\n",
    "                        error(\"stiffnessMatrixLinear: rows of B is $rowsOfB, dimension of the problem is $dim.\")\n",
    "                    end\n",
    "                    f1 .*= 0\n",
    "                    for k in 1:numIntPoints\n",
    "                        Ex = 10\n",
    "                        νxy = 0.3\n",
    "                        λ = Ex * νxy / ((1 + νxy) * (1 - 2νxy))\n",
    "                        μ = Ex / (2 * (1 + νxy))\n",
    "                        I3 = [1 0 0; 0 1 0; 0 0 1]\n",
    "                        #H1 = H[k*9-(9-1):k*9, 1:9*numNodes]\n",
    "                        ∂H0 = ∂H[k*9-(9-1):k*9, 1:pdim*numNodes]\n",
    "                        F1 = ∂H0 * r1\n",
    "                        F2 = reshape(F1, 3, 3)\n",
    "                        #J1 = det(F2)\n",
    "                        E = (F2' * F2 - I3) / 2\n",
    "                        #iC = inv(C)\n",
    "                        S2 = 2μ * E + λ * (E[1, 1] + E[2, 2] + E[3, 3]) * I3\n",
    "                        #S2 = [1 0 0; 0 0 0; 0 0 0]\n",
    "                        #S2 = -I3\n",
    "                        #S3 = reshape(S2, 9, 1)\n",
    "                        #H1 = H[k*9-(9-1):k*9, 1:9*numNodes]\n",
    "                        #S0 = H1 * S1\n",
    "                        B1 = B[k*rowsOfB-(rowsOfB-1):k*rowsOfB, 1:pdim*numNodes]\n",
    "                        f1 += B1' * S2[[1, 5, 9, 4, 6, 3]] * b * jacDet[k] * intWeights[k]\n",
    "                    end\n",
    "                    f[nn2] += f1\n",
    "                end\n",
    "            end\n",
    "        end\n",
    "    end\n",
    "    return f\n",
    "end"
   ]
  },
  {
   "cell_type": "code",
   "execution_count": 116,
   "id": "ec43515c",
   "metadata": {},
   "outputs": [
    {
     "data": {
      "text/plain": [
       "followerLoadVector (generic function with 1 method)"
      ]
     },
     "metadata": {},
     "output_type": "display_data"
    }
   ],
   "source": [
    "function followerLoadVector(problem, r, loads)\n",
    "    gmsh.model.setCurrent(problem.name)\n",
    "    if !isa(loads, Vector)\n",
    "        error(\"loadVector: loads are not arranged in a vector. Put them in [...]\")\n",
    "    end\n",
    "    pdim = problem.pdim\n",
    "    DIM = problem.dim\n",
    "    b = problem.thickness\n",
    "    non = problem.non\n",
    "    dof = pdim * non\n",
    "    fp = zeros(dof)\n",
    "    ncoord2 = zeros(3 * problem.non)\n",
    "    for n in 1:length(loads)\n",
    "        name, fx, fy, fz = loads[n]\n",
    "        if pdim == 3\n",
    "            f = [.0, .0, .0]\n",
    "        elseif pdim == 2\n",
    "            f = [.0, .0]\n",
    "        elseif pdim == 1\n",
    "            f = [.0]\n",
    "        else\n",
    "            error(\"loadVector: dimension of the problem is $(problem.dim).\")\n",
    "        end\n",
    "        dimTags = gmsh.model.getEntitiesForPhysicalName(name)\n",
    "        for i ∈ 1:length(dimTags)\n",
    "            dimTag = dimTags[i]\n",
    "            dim = dimTag[1]\n",
    "            tag = dimTag[2]\n",
    "            elementTypes, elementTags, elemNodeTags = gmsh.model.mesh.getElements(dim, tag)\n",
    "            nodeTags::Vector{Int64}, ncoord, parametricCoord = gmsh.model.mesh.getNodes(dim, tag, true, false)\n",
    "            ncoord2[nodeTags*3 .- 2] = ncoord[1:3:length(ncoord)]\n",
    "            ncoord2[nodeTags*3 .- 1] = ncoord[2:3:length(ncoord)]\n",
    "            ncoord2[nodeTags*3 .- 0] = ncoord[3:3:length(ncoord)]\n",
    "            for ii in 1:length(elementTypes)\n",
    "                elementName, dim, order, numNodes::Int64, localNodeCoord, numPrimaryNodes = gmsh.model.mesh.getElementProperties(elementTypes[ii])\n",
    "                nnoe = reshape(elemNodeTags[ii], numNodes, :)'\n",
    "                intPoints, intWeights = gmsh.model.mesh.getIntegrationPoints(elementTypes[ii], \"Gauss\" * string(order+1))\n",
    "                numIntPoints = length(intWeights)\n",
    "                comp, fun, ori = gmsh.model.mesh.getBasisFunctions(elementTypes[ii], intPoints, \"Lagrange\")\n",
    "                h = reshape(fun, :, numIntPoints)\n",
    "                comp, dfun, ori = gmsh.model.mesh.getBasisFunctions(elementTypes[ii], intPoints, \"GradLagrange\")\n",
    "                ∇h = reshape(dfun, :, numIntPoints)\n",
    "                nnet = zeros(Int, length(elementTags[ii]), numNodes)\n",
    "                invJac = zeros(3, 3numIntPoints)\n",
    "                H = zeros(pdim * numIntPoints, pdim * numNodes)\n",
    "                for j in 1:numIntPoints\n",
    "                    for k in 1:numNodes\n",
    "                        for l in 1:pdim\n",
    "                            H[j*pdim-(pdim-l), k*pdim-(pdim-l)] = h[k, j]\n",
    "                        end\n",
    "                    end\n",
    "                end\n",
    "                f1 = zeros(pdim * numNodes)\n",
    "                nn2 = zeros(Int, pdim * numNodes)\n",
    "                ∂h = zeros(pdim, numNodes * numIntPoints)\n",
    "                ∂H = spzeros(9 * numIntPoints, pdim * numNodes)\n",
    "                sizehint!(∂H, 9 * numNodes)\n",
    "                for l in 1:length(elementTags[ii])\n",
    "                    elem = elementTags[ii][l]\n",
    "                    for k in 1:numNodes\n",
    "                        nnet[l, k] = elemNodeTags[ii][(l-1)*numNodes+k]\n",
    "                    end\n",
    "                    for k in 1:pdim\n",
    "                        nn2[k:pdim:pdim*numNodes] = pdim * nnoe[l, 1:numNodes] .- (pdim - k)\n",
    "                    end\n",
    "                    jac, jacDet, coord = gmsh.model.mesh.getJacobian(elem, intPoints)\n",
    "                    Jac = reshape(jac, 3, :)\n",
    "                    for k in 1:numIntPoints\n",
    "                        invJac[1:3, 3*k-2:3*k] = @inline inv(Jac[1:3, 3*k-2:3*k])'\n",
    "                    end\n",
    "                    f1 .*= 0\n",
    "                    ∂H .*= 0\n",
    "                    ∂h .*= 0\n",
    "                    for k in 1:numIntPoints, l in 1:numNodes\n",
    "                        ∂h[1:dim, (k-1)*numNodes+l] .= invJac[1:dim, k*3-2:k*3-(3-dim)] * ∇h[l*3-2:l*3-(3-dim), k]\n",
    "                    end\n",
    "                    r1 = r[nn2]\n",
    "                    display(\"r1=$r1\")\n",
    "                    for j in 1:numIntPoints\n",
    "                        if DIM == 3 && pdim == 3\n",
    "                            for l in 1:numNodes\n",
    "                                ∂H[j*9-(9-1), l*pdim-(pdim-1)] = ∂h[1, (j-1)*numNodes+l]\n",
    "                                ∂H[j*9-(9-2), l*pdim-(pdim-2)] = ∂h[1, (j-1)*numNodes+l]\n",
    "                                ∂H[j*9-(9-3), l*pdim-(pdim-3)] = ∂h[1, (j-1)*numNodes+l]\n",
    "                                ∂H[j*9-(9-4), l*pdim-(pdim-1)] = ∂h[2, (j-1)*numNodes+l]\n",
    "                                ∂H[j*9-(9-5), l*pdim-(pdim-2)] = ∂h[2, (j-1)*numNodes+l]\n",
    "                                ∂H[j*9-(9-6), l*pdim-(pdim-3)] = ∂h[2, (j-1)*numNodes+l]\n",
    "                                ∂H[j*9-(9-7), l*pdim-(pdim-1)] = ∂h[3, (j-1)*numNodes+l]\n",
    "                                ∂H[j*9-(9-8), l*pdim-(pdim-2)] = ∂h[3, (j-1)*numNodes+l]\n",
    "                                ∂H[j*9-(9-9), l*pdim-(pdim-3)] = ∂h[3, (j-1)*numNodes+l]\n",
    "                            end\n",
    "                        else\n",
    "                            error(\"nonlinearLoadVector: dim=$dim and pdim=$pdim is not yet implemented.\")\n",
    "                        end\n",
    "                        ∂H1 = ∂H[j*9-(9-1):j*9, 1:pdim*numNodes]\n",
    "                        F1 = ∂H1 * r1\n",
    "                        display(\"F1=$F1\")\n",
    "                        F1 = reshape(F1, 3, 3)\n",
    "                        display(\"F1=$F1\")\n",
    "                        x = h[:, j]' * ncoord2[nnet[l, :] * 3 .- 2]\n",
    "                        y = 0\n",
    "                        z = 0\n",
    "                        if isa(fx, Function) || isa(fy, Function) || isa(fz, Function)\n",
    "                            y = h[:, j]' * ncoord2[nnet[l, :] * 3 .- 1]\n",
    "                            z = h[:, j]' * ncoord2[nnet[l, :] * 3 .- 0]\n",
    "                        end\n",
    "                        if fz == 2im\n",
    "                            if isa(fx, Function)\n",
    "                                error(\"heatConvectionVector: h cannot be a function.\")\n",
    "                            end\n",
    "                            f[1] = isa(fy, Function) ? fx * fy(x, y, z) : fx * fy\n",
    "                        else\n",
    "                            f[1] = isa(fx, Function) ? fx(x, y, z) : fx\n",
    "                        end\n",
    "                        if pdim > 1\n",
    "                            f[2] = isa(fy, Function) ? fy(x, y, z) : fy\n",
    "                        end\n",
    "                        if pdim == 3\n",
    "                            f[3] = isa(fz, Function) ? fz(x, y, z) : fz\n",
    "                        end\n",
    "                        r = x\n",
    "                        H1 = H[j*pdim-(pdim-1):j*pdim, 1:pdim*numNodes] # H1[...] .= H[...] ????\n",
    "                        ############### NANSON ######## 3D ###################################\n",
    "                        if DIM == 3 && dim == 3\n",
    "                            Ja = jacDet[j]\n",
    "                        elseif DIM == 3 && dim == 2\n",
    "                            xy = Jac[1, 3*j-2] * Jac[2, 3*j-1] - Jac[2, 3*j-2] * Jac[1, 3*j-1]\n",
    "                            yz = Jac[2, 3*j-2] * Jac[3, 3*j-1] - Jac[3, 3*j-2] * Jac[2, 3*j-1]\n",
    "                            zx = Jac[3, 3*j-2] * Jac[1, 3*j-1] - Jac[1, 3*j-2] * Jac[3, 3*j-1]\n",
    "                            Ja = √(xy^2 + yz^2 + zx^2)\n",
    "                        elseif DIM == 3 && dim == 1\n",
    "                            Ja = √((Jac[1, 3*j-2])^2 + (Jac[2, 3*j-2])^2 + (Jac[3, 3*j-2])^2)\n",
    "                        elseif DIM == 3 && dim == 0\n",
    "                            Ja = 1\n",
    "                        ############ 2D #######################################################\n",
    "                        elseif DIM == 2 && dim == 2 && problem.type != :AxiSymmetric && problem.type != :AxiSymmetricHeatConduction\n",
    "                            Ja = jacDet[j] * b\n",
    "                        elseif DIM == 2 && dim == 2 && (problem.type == :AxiSymmetric || problem.type == :AxiSymmetricHeatConduction)\n",
    "                            Ja = 2π * jacDet[j] * r\n",
    "                        elseif DIM == 2 && dim == 1 && problem.type != :AxiSymmetric && problem.type != :AxiSymmetricHeatConduction\n",
    "                            Ja = √((Jac[1, 3*j-2])^2 + (Jac[2, 3*j-2])^2) * b\n",
    "                        elseif DIM == 2 && dim == 1 && (problem.type == :AxiSymmetric || problem.type == :AxiSymmetricHeatConduction)\n",
    "                            Ja = 2π * √((Jac[1, 3*j-2])^2 + (Jac[2, 3*j-2])^2) * r\n",
    "                        elseif DIM == 2 && dim == 0\n",
    "                            Ja = 1\n",
    "                        ############ 1D #######################################################\n",
    "                        else\n",
    "                            error(\"loadVector: dimension of the problem is $(problem.dim), dimension of load is $dim.\")\n",
    "                        end\n",
    "                        f1 += H1' * F1 * f * Ja * intWeights[j]\n",
    "                    end\n",
    "                    fp[nn2] += f1\n",
    "                end\n",
    "            end\n",
    "        end\n",
    "    end\n",
    "    return fp\n",
    "end\n",
    "\n"
   ]
  },
  {
   "cell_type": "code",
   "execution_count": 117,
   "id": "33177e41",
   "metadata": {},
   "outputs": [
    {
     "data": {
      "text/plain": [
       "deformationGradient (generic function with 1 method)"
      ]
     },
     "metadata": {},
     "output_type": "display_data"
    }
   ],
   "source": [
    "function deformationGradient(problem, r)\n",
    "    gmsh.model.setCurrent(problem.name)\n",
    "\n",
    "    type = :F\n",
    "    nsteps = size(r, 2)\n",
    "    F = []\n",
    "    numElem = Int[]\n",
    "    ncoord2 = zeros(3 * problem.non)\n",
    "    dim = problem.dim\n",
    "    pdim = problem.pdim\n",
    "    non = problem.non\n",
    "\n",
    "    for ipg in 1:length(problem.material)\n",
    "        phName = problem.material[ipg].phName\n",
    "        dim = problem.dim\n",
    "        pdim = problem.pdim\n",
    "        if problem.dim != 3 || problem.type != :Solid\n",
    "            error(\"deformationGradient: dimension is $(problem.dim), problem type is $(problem.type). (They must be 3 and :Solid.)\")\n",
    "        end\n",
    "\n",
    "        dimTags = gmsh.model.getEntitiesForPhysicalName(phName)\n",
    "        for idm in 1:length(dimTags)\n",
    "            dimTag = dimTags[idm]\n",
    "            edim = dimTag[1]\n",
    "            etag = dimTag[2]\n",
    "            elemTypes, elemTags, elemNodeTags = gmsh.model.mesh.getElements(edim, etag)\n",
    "            for i in 1:length(elemTypes)\n",
    "                et = elemTypes[i]\n",
    "                elementName, dim, order, numNodes::Int64, localNodeCoord, numPrimaryNodes = gmsh.model.mesh.getElementProperties(et)\n",
    "                nodeCoord = zeros(numNodes * 3)\n",
    "                for k in 1:dim, j = 1:numNodes\n",
    "                    nodeCoord[k+(j-1)*3] = localNodeCoord[k+(j-1)*dim]\n",
    "                end\n",
    "                comp, dfun, ori = gmsh.model.mesh.getBasisFunctions(et, nodeCoord, \"GradLagrange\")\n",
    "                ∇h = reshape(dfun, :, numNodes)\n",
    "                nnet = zeros(Int, length(elemTags[i]), numNodes)\n",
    "                invJac = zeros(3, 3numNodes)\n",
    "                ∂h = zeros(dim, numNodes * numNodes)\n",
    "                ∂H = spzeros(9 * numNodes, pdim * numNodes)\n",
    "                nn2 = zeros(Int, pdim * numNodes)\n",
    "                sizehint!(∂H, 9 * numNodes)\n",
    "                for j in 1:length(elemTags[i])\n",
    "                    elem = elemTags[i][j]\n",
    "                    for k in 1:numNodes\n",
    "                        nnet[j, k] = elemNodeTags[i][(j-1)*numNodes+k]\n",
    "                    end\n",
    "                    for k in 1:pdim\n",
    "                        nn2[k:pdim:pdim*numNodes] = pdim * nnet[j, 1:numNodes] .- (pdim - k)\n",
    "                    end\n",
    "                    jac, jacDet, coord = gmsh.model.mesh.getJacobian(elem, nodeCoord)\n",
    "                    Jac = reshape(jac, 3, :)\n",
    "                    for k in 1:numNodes\n",
    "                        invJac[1:3, 3*k-2:3*k] = @inline inv(Jac[1:3, 3*k-2:3*k])'\n",
    "                    end\n",
    "                    ∂h .*= 0\n",
    "                    for k in 1:numNodes, l in 1:numNodes\n",
    "                        ∂h[1:dim, (k-1)*numNodes+l] .= invJac[1:dim, k*3-2:k*3-(3-dim)] * ∇h[l*3-2:l*3-(3-dim), k]\n",
    "                    end\n",
    "                    r1 = r[nn2]\n",
    "                    ∂H .*= 0\n",
    "                    for k in 1:numNodes\n",
    "                        for l in 1:numNodes\n",
    "                            ∂H[k*9-(9-1), l*pdim-(pdim-1)] = ∂h[1, (k-1)*numNodes+l]\n",
    "                            ∂H[k*9-(9-2), l*pdim-(pdim-1)] = ∂h[2, (k-1)*numNodes+l]\n",
    "                            ∂H[k*9-(9-3), l*pdim-(pdim-1)] = ∂h[3, (k-1)*numNodes+l]\n",
    "                            ∂H[k*9-(9-4), l*pdim-(pdim-2)] = ∂h[1, (k-1)*numNodes+l]\n",
    "                            ∂H[k*9-(9-5), l*pdim-(pdim-2)] = ∂h[2, (k-1)*numNodes+l]\n",
    "                            ∂H[k*9-(9-6), l*pdim-(pdim-2)] = ∂h[3, (k-1)*numNodes+l]\n",
    "                            ∂H[k*9-(9-7), l*pdim-(pdim-3)] = ∂h[1, (k-1)*numNodes+l]\n",
    "                            ∂H[k*9-(9-8), l*pdim-(pdim-3)] = ∂h[2, (k-1)*numNodes+l]\n",
    "                            ∂H[k*9-(9-9), l*pdim-(pdim-3)] = ∂h[3, (k-1)*numNodes+l]\n",
    "                        end\n",
    "                    end\n",
    "                    push!(numElem, elem)\n",
    "                    F1 = zeros(9numNodes, nsteps)\n",
    "                    for k in 1:numNodes\n",
    "                        ∂H1 = ∂H[k*9-(9-1):k*9, 1:pdim*numNodes]\n",
    "                        for kk in 1:nsteps\n",
    "                            F0 = ∂H1 * r[nn2, kk]\n",
    "                            F1[(k-1)*9+1:k*9, kk] = [F0[1], F0[4], F0[7],\n",
    "                                F0[2], F0[5], F0[8],\n",
    "                                F0[3], F0[6], F0[9]]\n",
    "                        end\n",
    "                    end\n",
    "                    push!(F, F1)\n",
    "                end\n",
    "            end\n",
    "        end\n",
    "    end\n",
    "    sigma = FEM.TensorField(F, numElem, nsteps, type)\n",
    "    return sigma\n",
    "end"
   ]
  },
  {
   "cell_type": "code",
   "execution_count": 118,
   "id": "d3386bd0",
   "metadata": {},
   "outputs": [
    {
     "data": {
      "text/plain": [
       "log (generic function with 27 methods)"
      ]
     },
     "metadata": {},
     "output_type": "display_data"
    }
   ],
   "source": [
    "import Base.*\n",
    "function *(A::FEM.TensorField, B::FEM.TensorField)\n",
    "    if (A.type == :s || A.type == :e || A.type == :F) && (B.type == :s || B.type == :e || B.type == :F)\n",
    "        if length(A.A) != length(B.A)\n",
    "            error(\"*(A::TensoeField, B::TensorField): size of A=$(length(A.A)) != size of B=$(length(B.A))\")\n",
    "        end\n",
    "        nsteps = A.nsteps\n",
    "        nsteps2 = B.nsteps\n",
    "        if nsteps != nsteps2\n",
    "            error(\"*(A::TensoeField, B::TensorField): nsteps of A=$(A.nsteps) != nsteps of B=$(B.nsteps)\")\n",
    "        end\n",
    "        C = []\n",
    "        for i in 1:length(A.A)\n",
    "            n = length(A.A[i]) ÷ 9\n",
    "            m = length(B.A[i]) ÷ 9\n",
    "            if n != m\n",
    "                error(\"*(A::TensoeField, B::TensorField): size of A.A[$i]=$(9n) != size of B.A[$j]=$(9m)\")\n",
    "            end\n",
    "            D = zeros(9n, nsteps)\n",
    "            for j in 1:n\n",
    "                for k in 1:nsteps\n",
    "                    D[9j-8:9j, k] = reshape(reshape(A.A[i][9j-8:9j, k], 3, 3) * reshape(B.A[i][9j-8:9j, k], 3, 3), 9, 1)\n",
    "                end\n",
    "            end\n",
    "            push!(C, D)\n",
    "        end\n",
    "        return FEM.TensorField(C, A.numElem, A.nsteps, :e)\n",
    "    else\n",
    "        error(\"*(A::TensorField, B::TensorField): TensorField type ($(A.type) or $(B.type)) is not yet implemented.\")\n",
    "    end\n",
    "end\n",
    "\n",
    "import Base.transpose\n",
    "function transpose(A::FEM.TensorField)\n",
    "    if A.type == :s || A.type == :e || A.type == :F\n",
    "        nsteps = A.nsteps\n",
    "        C = []\n",
    "        for i in 1:length(A.A)\n",
    "            n = length(A.A[i]) ÷ 9\n",
    "            D = zeros(9n, nsteps)\n",
    "            for j in 1:n\n",
    "                for k in 1:nsteps\n",
    "                    D[9j-8:9j, k] = reshape(transpose(reshape(A.A[i][9j-8:9j, k], 3, 3)), 9, 1)\n",
    "                end\n",
    "            end\n",
    "            push!(C, D)\n",
    "        end\n",
    "        return FEM.TensorField(C, A.numElem, A.nsteps, :e)\n",
    "    else\n",
    "        error(\"transpose(A::TensorField): TensorField type ($(A.type)) is not yet implemented.\")\n",
    "    end\n",
    "end\n",
    "\n",
    "import Base.adjoint\n",
    "function adjoint(A::FEM.TensorField)\n",
    "    if A.type == :s || A.type == :e || A.type == :F\n",
    "        nsteps = A.nsteps\n",
    "        C = []\n",
    "        for i in 1:length(A.A)\n",
    "            n = length(A.A[i]) ÷ 9\n",
    "            D = zeros(9n, nsteps)\n",
    "            for j in 1:n\n",
    "                for k in 1:nsteps\n",
    "                    D[9j-8:9j, k] = reshape(adjoint(reshape(A.A[i][9j-8:9j, k], 3, 3)), 9, 1)\n",
    "                end\n",
    "            end\n",
    "            push!(C, D)\n",
    "        end\n",
    "        return FEM.TensorField(C, A.numElem, A.nsteps, :e)\n",
    "    else\n",
    "        error(\"adjoint(A::TensorField): TensorField type ($(A.type)) is not yet implemented.\")\n",
    "    end\n",
    "end\n",
    "\n",
    "function unit(A::FEM.TensorField)\n",
    "    if A.type == :s || A.type == :e || A.type == :F\n",
    "        nsteps = A.nsteps\n",
    "        C = []\n",
    "        for i in 1:length(A.A)\n",
    "            n = length(A.A[i]) ÷ 9\n",
    "            D = zeros(9n, nsteps)\n",
    "            for j in 1:n\n",
    "                for k in 1:nsteps\n",
    "                    D[9j-8:9j, k] = reshape([1 0 0; 0 1 0; 0 0 1], 9, 1)\n",
    "                end\n",
    "            end\n",
    "            push!(C, D)\n",
    "        end\n",
    "        return FEM.TensorField(C, A.numElem, A.nsteps, :e)\n",
    "    else\n",
    "        error(\"unit(A::TensorField): TensorField type ($(A.type) is not yet implemented.\")\n",
    "    end\n",
    "end\n",
    "\n",
    "function traceI(A::FEM.TensorField)\n",
    "    if A.type == :s || A.type == :e || A.type == :F\n",
    "        nsteps = A.nsteps\n",
    "        C = []\n",
    "        for i in 1:length(A.A)\n",
    "            n = length(A.A[i]) ÷ 9\n",
    "            D = zeros(9n, nsteps)\n",
    "            for j in 1:n\n",
    "                for k in 1:nsteps\n",
    "                    trace = A.A[i][9j-8, k] + A.A[i][9j-4, k] + A.A[i][9j, k]\n",
    "                    D[9j-8:9j, k] = reshape([trace 0 0; 0 trace 0; 0 0 trace], 9, 1)\n",
    "                end\n",
    "            end\n",
    "            push!(C, D)\n",
    "        end\n",
    "        return FEM.TensorField(C, A.numElem, A.nsteps, :e)\n",
    "    else\n",
    "        error(\"traceI(A::TensorField): TensorField type ($(A.type) is not yet implemented.\")\n",
    "    end\n",
    "end\n",
    "\n",
    "function detI(A::FEM.TensorField)\n",
    "    if A.type == :s || A.type == :e || A.type == :F\n",
    "        nsteps = A.nsteps\n",
    "        C = []\n",
    "        for i in 1:length(A.A)\n",
    "            n = length(A.A[i]) ÷ 9\n",
    "            D = zeros(9n, nsteps)\n",
    "            for j in 1:n\n",
    "                for k in 1:nsteps\n",
    "                    d = det(reshape(A.A[i][9j-8:9j, k], 3, 3))\n",
    "                    D[9j-8:9j, k] = reshape([d 0 0; 0 d 0; 0 0 d], 9, 1)\n",
    "                end\n",
    "            end\n",
    "            push!(C, D)\n",
    "        end\n",
    "        return FEM.TensorField(C, A.numElem, A.nsteps, :e)\n",
    "    else\n",
    "        error(\"detI(A::TensorField): TensorField type ($(A.type) is not yet implemented.\")\n",
    "    end\n",
    "end\n",
    "\n",
    "import Base.+\n",
    "function +(A::FEM.TensorField, B::FEM.TensorField)\n",
    "    if (A.type == :s || A.type == :e || A.type == :F) && (B.type == :s || B.type == :e || B.type == :F)\n",
    "        if length(A.A) != length(B.A)\n",
    "            error(\"+(A::TensoeField, B::TensorField): size of A=$(length(A.A)) != size of B=$(length(B.A))\")\n",
    "        end\n",
    "        nsteps = A.nsteps\n",
    "        nsteps2 = B.nsteps\n",
    "        if nsteps != nsteps2\n",
    "            error(\"*(A::TensoeField, B::TensorField): nsteps of A=$(A.nsteps) != nsteps of B=$(B.nsteps)\")\n",
    "        end\n",
    "        C = []\n",
    "        for i in 1:length(A.A)\n",
    "            n = length(A.A[i]) ÷ 9\n",
    "            m = length(B.A[i]) ÷ 9\n",
    "            if n != m\n",
    "                error(\"+(A::TensoeField, B::TensorField): size of A.A[$i]=$(9n) != size of B.A[$j]=$(9m)\")\n",
    "            end\n",
    "            D = A.A[i] + B.A[i]\n",
    "            push!(C, D)\n",
    "        end\n",
    "        return FEM.TensorField(C, A.numElem, A.nsteps, :e)\n",
    "    else\n",
    "        error(\"+(A::TensorField, B::TensorField): TensorField type ($(A.type) or $(B.type)) is not yet implemented.\")\n",
    "    end\n",
    "end\n",
    "\n",
    "import Base.-\n",
    "function -(A::FEM.TensorField, B::FEM.TensorField)\n",
    "    if (A.type == :s || A.type == :e || A.type == :F) && (B.type == :s || B.type == :e || B.type == :F)\n",
    "        if length(A.A) != length(B.A)\n",
    "            error(\"-(A::TensoeField, B::TensorField): size of A=$(length(A.A)) != size of B=$(length(B.A))\")\n",
    "        end\n",
    "        nsteps = A.nsteps\n",
    "        nsteps2 = B.nsteps\n",
    "        if nsteps != nsteps2\n",
    "            error(\"*(A::TensoeField, B::TensorField): nsteps of A=$(A.nsteps) != nsteps of B=$(B.nsteps)\")\n",
    "        end\n",
    "        C = []\n",
    "        for i in 1:length(A.A)\n",
    "            n = length(A.A[i]) ÷ 9\n",
    "            m = length(B.A[i]) ÷ 9\n",
    "            if n != m\n",
    "                error(\"-(A::TensoeField, B::TensorField): size of A.A[$i]=$(9n) != size of B.A[$j]=$(9m)\")\n",
    "            end\n",
    "            D = A.A[i] - B.A[i]\n",
    "            push!(C, D)\n",
    "        end\n",
    "        return FEM.TensorField(C, A.numElem, A.nsteps, :e)\n",
    "    else\n",
    "        error(\"-(A::TensorField, B::TensorField): TensorField type ($(A.type) or $(B.type)) is not yet implemented.\")\n",
    "    end\n",
    "end\n",
    "\n",
    "function *(A::FEM.TensorField, b)\n",
    "    if A.type == :s || A.type == :e || A.type == :F\n",
    "        nsteps = A.nsteps\n",
    "        C = []\n",
    "        for i in 1:length(A.A)\n",
    "            D = A.A[i] * b\n",
    "            push!(C, D)\n",
    "        end\n",
    "        return FEM.TensorField(C, A.numElem, A.nsteps, :e)\n",
    "    else\n",
    "        error(\"*(A::TensorField, b): TensorField type ($(A.type) or $(B.type)) is not yet implemented.\")\n",
    "    end\n",
    "end\n",
    "\n",
    "function *(b, A::FEM.TensorField)\n",
    "    if A.type == :s || A.type == :e || A.type == :F\n",
    "        nsteps = A.nsteps\n",
    "        C = []\n",
    "        for i in 1:length(A.A)\n",
    "            D = A.A[i] * b\n",
    "            push!(C, D)\n",
    "        end\n",
    "        return FEM.TensorField(C, A.numElem, A.nsteps, :e)\n",
    "    else\n",
    "        error(\"*(A::TensorField, b): TensorField type ($(A.type) or $(B.type)) is not yet implemented.\")\n",
    "    end\n",
    "end\n",
    "\n",
    "import Base./\n",
    "function /(A::FEM.TensorField, b)\n",
    "    if A.type == :s || A.type == :e || A.type == :F\n",
    "        nsteps = A.nsteps\n",
    "        C = []\n",
    "        for i in 1:length(A.A)\n",
    "            D = A.A[i] / b\n",
    "            push!(C, D)\n",
    "        end\n",
    "        return FEM.TensorField(C, A.numElem, A.nsteps, :e)\n",
    "    else\n",
    "        error(\"/(A::TensorField, b): TensorField type ($(A.type) or $(B.type)) is not yet implemented.\")\n",
    "    end\n",
    "end\n",
    "\n",
    "import Base.inv\n",
    "function inv(A::FEM.TensorField)\n",
    "    if A.type == :s || A.type == :e || A.type == :F\n",
    "        nsteps = A.nsteps\n",
    "        C = []\n",
    "        for i in 1:length(A.A)\n",
    "            n = length(A.A[i]) ÷ 9\n",
    "            D = zeros(9n, nsteps)\n",
    "            for j in 1:n\n",
    "                for k in 1:nsteps\n",
    "                    D[9j-8:9j, k] = reshape(inv(reshape(A.A[i][9j-8:9j, k], 3, 3)), 9, 1)\n",
    "                end\n",
    "            end\n",
    "            push!(C, D)\n",
    "        end\n",
    "        return FEM.TensorField(C, A.numElem, A.nsteps, :e)\n",
    "    else\n",
    "        error(\"inv(A::TensorField): TensorField type ($(A.type)) is not yet implemented.\")\n",
    "    end\n",
    "end\n",
    "\n",
    "import Base.sqrt\n",
    "function sqrt(A::FEM.TensorField)\n",
    "    if A.type == :s || A.type == :e || A.type == :F\n",
    "        nsteps = A.nsteps\n",
    "        C = []\n",
    "        for i in 1:length(A.A)\n",
    "            n = length(A.A[i]) ÷ 9\n",
    "            D = zeros(9n, nsteps)\n",
    "            for j in 1:n\n",
    "                for k in 1:nsteps\n",
    "                    D[9j-8:9j, k] = reshape(sqrt(reshape(A.A[i][9j-8:9j, k], 3, 3)), 9, 1)\n",
    "                end\n",
    "            end\n",
    "            push!(C, D)\n",
    "        end\n",
    "        return FEM.TensorField(C, A.numElem, A.nsteps, :e)\n",
    "    else\n",
    "        error(\"sqrt(A::TensorField): TensorField type ($(A.type)) is not yet implemented.\")\n",
    "    end\n",
    "end\n",
    "\n",
    "import Base.log\n",
    "function log(A::FEM.TensorField)\n",
    "    if A.type == :s || A.type == :e || A.type == :F\n",
    "        nsteps = A.nsteps\n",
    "        C = []\n",
    "        for i in 1:length(A.A)\n",
    "            n = length(A.A[i]) ÷ 9\n",
    "            D = zeros(9n, nsteps)\n",
    "            for j in 1:n\n",
    "                for k in 1:nsteps\n",
    "                    D[9j-8:9j, k] = reshape(log(reshape(A.A[i][9j-8:9j, k], 3, 3)), 9, 1)\n",
    "                end\n",
    "            end\n",
    "            push!(C, D)\n",
    "        end\n",
    "        return FEM.TensorField(C, A.numElem, A.nsteps, :e)\n",
    "    else\n",
    "        error(\"log(A::TensorField): TensorField type ($(A.type)) is not yet implemented.\")\n",
    "    end\n",
    "end\n"
   ]
  },
  {
   "cell_type": "code",
   "execution_count": 119,
   "id": "fa18250b",
   "metadata": {},
   "outputs": [
    {
     "name": "stdout",
     "output_type": "stream",
     "text": [
      "Info    : Reading 'body2.geo'...\n",
      "Info    : Meshing 1D...                                                                                                                       \n",
      "Info    : [  0%] Meshing curve 1 (Line)\n",
      "Info    : [ 10%] Meshing curve 2 (Line)\n",
      "Info    : [ 20%] Meshing curve 3 (Line)\n",
      "Info    : [ 30%] Meshing curve 4 (Line)\n",
      "Info    : [ 40%] Meshing curve 5 (Line)\n",
      "Info    : [ 50%] Meshing curve 6 (Line)\n",
      "Info    : [ 60%] Meshing curve 7 (Line)\n",
      "Info    : [ 60%] Meshing curve 8 (Line)\n",
      "Info    : [ 70%] Meshing curve 9 (Line)\n",
      "Info    : [ 80%] Meshing curve 10 (Line)\n",
      "Info    : [ 90%] Meshing curve 11 (Line)\n",
      "Info    : [100%] Meshing curve 12 (Line)\n",
      "Info    : Done meshing 1D (Wall 0.00212219s, CPU 0.000996s)\n",
      "Info    : Meshing 2D...\n",
      "Info    : [  0%] Meshing surface 1 (Transfinite)\n",
      "Info    : [ 20%] Meshing surface 2 (Transfinite)\n",
      "Info    : [ 40%] Meshing surface 3 (Transfinite)\n",
      "Info    : [ 60%] Meshing surface 4 (Transfinite)\n",
      "Info    : [ 70%] Meshing surface 5 (Transfinite)\n",
      "Info    : [ 90%] Meshing surface 6 (Transfinite)\n",
      "Info    : Done meshing 2D (Wall 0.00023855s, CPU 0.000205s)\n",
      "Info    : Meshing 3D...\n",
      "Info    : Meshing volume 1 (Transfinite)\n",
      "Info    : Done meshing 3D (Wall 0.000468817s, CPU 0.000468s)\n",
      "Info    : Optimizing mesh...\n",
      "Info    : Done optimizing mesh (Wall 4.923e-06s, CPU 5e-06s)\n",
      "Info    : Meshing order 2 (curvilinear on)...\n",
      "Info    : [  0%] Meshing curve 1 order 2\n",
      "Info    : [ 10%] Meshing curve 2 order 2\n",
      "Info    : [ 20%] Meshing curve 3 order 2\n",
      "Info    : [ 20%] Meshing curve 4 order 2\n",
      "Info    : [ 30%] Meshing curve 5 order 2\n",
      "Info    : [ 30%] Meshing curve 6 order 2\n",
      "Info    : [ 40%] Meshing curve 7 order 2\n",
      "Info    : [ 40%] Meshing curve 8 order 2\n",
      "Info    : [ 50%] Meshing curve 9 order 2\n",
      "Info    : [ 50%] Meshing curve 10 order 2\n",
      "Info    : [ 60%] Meshing curve 11 order 2\n",
      "Info    : [ 60%] Meshing curve 12 order 2\n",
      "Info    : [ 70%] Meshing surface 1 order 2\n",
      "Info    : [ 70%] Meshing surface 2 order 2\n",
      "Info    : [ 80%] Meshing surface 3 order 2\n",
      "Info    : [ 80%] Meshing surface 4 order 2\n",
      "Info    : [ 90%] Meshing surface 5 order 2\n",
      "Info    : [ 90%] Meshing surface 6 order 2\n",
      "Info    : [100%] Meshing volume 1 order 2\n",
      "Info    : Done meshing order 2 (Wall 0.00346941s, CPU 0.003467s)\n",
      "Info    : 729 nodes 216 elements\n",
      "Info    : Done reading 'body2.geo'\n"
     ]
    },
    {
     "name": "stderr",
     "output_type": "stream",
     "text": [
      "Warning : Boolean fragments skipped - too few arguments\n"
     ]
    }
   ],
   "source": [
    "gmsh.open(\"body2.geo\")"
   ]
  },
  {
   "cell_type": "code",
   "execution_count": 120,
   "id": "33ef6d8f",
   "metadata": {},
   "outputs": [
    {
     "data": {
      "text/plain": [
       "2"
      ]
     },
     "metadata": {},
     "output_type": "display_data"
    }
   ],
   "source": [
    "λ = 1\n",
    "μ = 2"
   ]
  },
  {
   "cell_type": "code",
   "execution_count": 121,
   "id": "936f1fab",
   "metadata": {},
   "outputs": [
    {
     "name": "stdout",
     "output_type": "stream",
     "text": [
      "Info    : RCMK renumbering...\n",
      "Info    : Done RCMK renumbering (bandwidth is now 386)\n"
     ]
    },
    {
     "data": {
      "text/plain": [
       "LowLevelFEM.Problem(\"body2\", :Solid, 3, 3, LowLevelFEM.Material[LowLevelFEM.Material(\"body\", 10.0, 0.3, 7.85e-9, 45.0, 4.2e8, 1.2e-5)], 1.0, 729)"
      ]
     },
     "metadata": {},
     "output_type": "display_data"
    }
   ],
   "source": [
    "#mat = FEM.material(\"body\", E=μ * (3λ + 2μ) / (λ + μ), ν=λ / 2 / (λ + μ))\n",
    "mat = FEM.material(\"body\", E=10, ν=0.3)\n",
    "problem = FEM.Problem([mat])"
   ]
  },
  {
   "cell_type": "code",
   "execution_count": 122,
   "id": "c2a10dc9",
   "metadata": {},
   "outputs": [
    {
     "data": {
      "text/plain": [
       "LowLevelFEM.TensorField([[9.618374445510458; 1.1321533119369545; … ; 0.039894710942433596; 0.8281278495711031;;], [10.195307729543432; 0.26425030618763257; … ; 0.05148409829876735; 0.10072407892826485;;], [10.111013217948797; -0.14888322916465785; … ; 0.016431364249064755; -0.020301718959475856;;], [10.026115794483243; -0.12652376220178263; … ; -0.0011040861776706174; -0.036804483023955115;;], [9.273448219925701; 8.073220258908712e-15; … ; 0.015985149936658668; 0.9902480291651057;;], [10.349310820394384; -0.014767400377089925; … ; 0.02866676359942221; 0.11753598247600228;;], [10.299584909626494; -0.012696481220782494; … ; 0.012720220082831165; -0.006095819950114212;;], [10.07232367571421; -0.008037852924376348; … ; -0.0001925731154193657; -0.03405434796492224;;], [9.618374445510542; -1.132153311936942; … ; -0.01598514993665749; 0.9902480291651091;;], [10.557885711982864; -0.4076866089091499; … ; -0.028666763599421996; 0.11753598247600738;;]  …  [9.72289592534485; -0.012939362104094503; … ; -0.012720220082829992; -0.006095819950098891;;], [9.97546519660062; -0.008571222605426206; … ; 0.00019257311541669687; -0.03405434796492668;;], [15.041023191668538; -1.1346492962013959; … ; 0.015985149936656957; 0.9902480291651146;;], [9.585342848364744; -0.4139527039982182; … ; 0.028666763599421358; 0.11753598247601271;;], [9.631054638249648; 0.11203540038202249; … ; 0.012720220082831272; -0.006095819950100889;;], [9.928342260222372; 0.13023441209681053; … ; -0.00019257311541584285; -0.03405434796492335;;], [20.248753434264884; -3.7531561825720314; … ; 0.039894710942431785; 0.8281278495711188;;], [8.888150113323904; -0.11676287160802268; … ; 0.0514840982987618; 0.10072407892827062;;], [9.199749628780973; 0.0415928963806412; … ; 0.01643136424906134; -0.02030171895947608;;], [9.847459144731268; 0.02531033270854765; … ; -0.001104086177678517; -0.036804483023949786;;]], [153, 154, 155, 156, 157, 158, 159, 160, 161, 162  …  207, 208, 209, 210, 211, 212, 213, 214, 215, 216], 1, :s)"
      ]
     },
     "metadata": {},
     "output_type": "display_data"
    }
   ],
   "source": [
    "supp = FEM.displacementConstraint(\"left\", ux=0, uy=0, uz=0)\n",
    "traction = FEM.load(\"right\", fx=10)\n",
    "bodyforce = FEM.load(\"body\", fx=1)\n",
    "\n",
    "q = FEM.solveDisplacement(problem, [traction], [supp])\n",
    "S = FEM.solveStress(problem, q)"
   ]
  },
  {
   "cell_type": "code",
   "execution_count": 123,
   "id": "5ff50776",
   "metadata": {},
   "outputs": [
    {
     "name": "stdout",
     "output_type": "stream",
     "text": [
      "Info    : Running Plugin(Smooth)...\n",
      "Info    : Done running Plugin(Smooth)\n"
     ]
    },
    {
     "data": {
      "text/plain": [
       "1"
      ]
     },
     "metadata": {},
     "output_type": "display_data"
    }
   ],
   "source": [
    "u1 = FEM.showDoFResults(problem, q, :uvec)\n",
    "S1 = FEM.showElementResults(problem, S, :s)"
   ]
  },
  {
   "cell_type": "code",
   "execution_count": 124,
   "id": "02d09772",
   "metadata": {},
   "outputs": [
    {
     "data": {
      "text/plain": [
       "0.989859184575226"
      ]
     },
     "metadata": {},
     "output_type": "display_data"
    },
    {
     "data": {
      "text/plain": [
       "0.35396003776656826"
      ]
     },
     "metadata": {},
     "output_type": "display_data"
    },
    {
     "data": {
      "text/plain": [
       "0.15048506010155246"
      ]
     },
     "metadata": {},
     "output_type": "display_data"
    },
    {
     "data": {
      "text/plain": [
       "0.04234699932161559"
      ]
     },
     "metadata": {},
     "output_type": "display_data"
    },
    {
     "data": {
      "text/plain": [
       "0.00821166255684948"
      ]
     },
     "metadata": {},
     "output_type": "display_data"
    },
    {
     "data": {
      "text/plain": [
       "0.005154867977166608"
      ]
     },
     "metadata": {},
     "output_type": "display_data"
    },
    {
     "data": {
      "text/plain": [
       "0.004700896664797873"
      ]
     },
     "metadata": {},
     "output_type": "display_data"
    },
    {
     "data": {
      "text/plain": [
       "0.004034503137329453"
      ]
     },
     "metadata": {},
     "output_type": "display_data"
    },
    {
     "data": {
      "text/plain": [
       "0.003638885412416907"
      ]
     },
     "metadata": {},
     "output_type": "display_data"
    },
    {
     "data": {
      "text/plain": [
       "0.003194490472815396"
      ]
     },
     "metadata": {},
     "output_type": "display_data"
    },
    {
     "data": {
      "text/plain": [
       "0.0029063560256058145"
      ]
     },
     "metadata": {},
     "output_type": "display_data"
    },
    {
     "data": {
      "text/plain": [
       "0.00258879650005821"
      ]
     },
     "metadata": {},
     "output_type": "display_data"
    },
    {
     "data": {
      "text/plain": [
       "0.0023675647566999167"
      ]
     },
     "metadata": {},
     "output_type": "display_data"
    },
    {
     "data": {
      "text/plain": [
       "0.0021280545431424645"
      ]
     },
     "metadata": {},
     "output_type": "display_data"
    },
    {
     "data": {
      "text/plain": [
       "0.0019518638053777698"
      ]
     },
     "metadata": {},
     "output_type": "display_data"
    },
    {
     "data": {
      "text/plain": [
       "0.0017646676832712923"
      ]
     },
     "metadata": {},
     "output_type": "display_data"
    },
    {
     "data": {
      "text/plain": [
       "0.00162107006095611"
      ]
     },
     "metadata": {},
     "output_type": "display_data"
    },
    {
     "data": {
      "text/plain": [
       "0.0014712879696632598"
      ]
     },
     "metadata": {},
     "output_type": "display_data"
    },
    {
     "data": {
      "text/plain": [
       "0.0013525514726164642"
      ]
     },
     "metadata": {},
     "output_type": "display_data"
    },
    {
     "data": {
      "text/plain": [
       "0.001230817344792497"
      ]
     },
     "metadata": {},
     "output_type": "display_data"
    },
    {
     "data": {
      "text/plain": [
       "2"
      ]
     },
     "metadata": {},
     "output_type": "display_data"
    }
   ],
   "source": [
    "f = FEM.loadVector(problem, [traction])\n",
    "r0 = nodePositionVector(problem)\n",
    "n = 21\n",
    "r = zeros(length(r0), n + 1)\n",
    "q0 = zeros(length(r0), n)\n",
    "r[:, 1] = r0\n",
    "err = 1\n",
    "ε = 1e-3\n",
    "nlimit = 20\n",
    "\n",
    "i = 0\n",
    "while err > ε && i < nlimit\n",
    "    i += 1\n",
    "    #F = deformationGradient(problem, r[:, i])\n",
    "\n",
    "    Kl = stiffnessMatrixLinear(problem, r[:, i])\n",
    "    Knl = stiffnessMatrixNonLinear(problem, r[:, i])\n",
    "    #f = FEM.loadVector(problem, [traction])\n",
    "    fnl = loadVectorNonLinear(problem, r[:, i])\n",
    "    K1, f1 = FEM.applyBoundaryConditions(problem, Kl + Knl, f - fnl, [supp])\n",
    "    q = FEM.solveDisplacement(K1, f1)\n",
    "    r[:, i+1] = r[:, i] + q\n",
    "    err = maximum(abs.(q)) / abs(maximum(r0) - minimum(r0))\n",
    "    display(err)\n",
    "end\n",
    "\n",
    "for i in 1:n+1\n",
    "    r[:, i] -= r0\n",
    "end\n",
    "u2 = FEM.showDoFResults(problem, r, :uvec, t=1:n+1, visible=true)"
   ]
  },
  {
   "cell_type": "code",
   "execution_count": 125,
   "id": "d9e04c86",
   "metadata": {},
   "outputs": [
    {
     "data": {
      "text/plain": [
       "LowLevelFEM.TensorField([[0.5; 0.0; … ; 0.0; 0.5;;], [0.5; 0.0; … ; 0.0; 0.5;;], [0.5; 0.0; … ; 0.0; 0.5;;], [0.5; 0.0; … ; 0.0; 0.5;;], [0.5; 0.0; … ; 0.0; 0.5;;], [0.5; 0.0; … ; 0.0; 0.5;;], [0.5; 0.0; … ; 0.0; 0.5;;], [0.5; 0.0; … ; 0.0; 0.5;;], [0.5; 0.0; … ; 0.0; 0.5;;], [0.5; 0.0; … ; 0.0; 0.5;;]  …  [0.5; 0.0; … ; 0.0; 0.5;;], [0.5; 0.0; … ; 0.0; 0.5;;], [0.5; 0.0; … ; 0.0; 0.5;;], [0.5; 0.0; … ; 0.0; 0.5;;], [0.5; 0.0; … ; 0.0; 0.5;;], [0.5; 0.0; … ; 0.0; 0.5;;], [0.4999999999999999; 0.0; … ; 0.0; 0.5;;], [0.5; 0.0; … ; 0.0; 0.5;;], [0.5; 0.0; … ; 0.0; 0.5;;], [0.5; 0.0; … ; 0.0; 0.5;;]], [153, 154, 155, 156, 157, 158, 159, 160, 161, 162  …  207, 208, 209, 210, 211, 212, 213, 214, 215, 216], 1, :F)"
      ]
     },
     "metadata": {},
     "output_type": "display_data"
    }
   ],
   "source": [
    "r = nodePositionVector(problem)\n",
    "ux(x, y, z) = 0.5x\n",
    "uy(x, y, z) = 0.5y\n",
    "uz(x, y, z) = 0.5z\n",
    "q0 = FEM.field(\"body\", fx=ux, fy=uy, fz=uz)\n",
    "q = FEM.vectorField(problem, [q0])\n",
    "F = deformationGradient(problem, q)"
   ]
  },
  {
   "cell_type": "code",
   "execution_count": 126,
   "id": "bda3da4b",
   "metadata": {},
   "outputs": [
    {
     "data": {
      "text/plain": [
       "3×3 Matrix{Float64}:\n",
       " 0.5  0.0  0.0\n",
       " 0.0  0.5  0.0\n",
       " 0.0  0.0  0.5"
      ]
     },
     "metadata": {},
     "output_type": "display_data"
    }
   ],
   "source": [
    "reshape(F.A[1][1:9], 3, 3)"
   ]
  },
  {
   "cell_type": "code",
   "execution_count": 127,
   "id": "4aba7a4b",
   "metadata": {},
   "outputs": [
    {
     "data": {
      "text/plain": [
       "3×3 Matrix{Float64}:\n",
       " -0.375   0.0     0.0\n",
       "  0.0    -0.375   0.0\n",
       "  0.0     0.0    -0.375"
      ]
     },
     "metadata": {},
     "output_type": "display_data"
    }
   ],
   "source": [
    "E = (F' * F - unit(F)) / 2\n",
    "\n",
    "reshape(E.A[1][1:9], 3, 3)"
   ]
  },
  {
   "cell_type": "code",
   "execution_count": 128,
   "id": "a7c506a2",
   "metadata": {},
   "outputs": [
    {
     "data": {
      "text/plain": [
       "3×3 Matrix{Float64}:\n",
       " -1.5   0.0   0.0\n",
       "  0.0  -1.5   0.0\n",
       "  0.0   0.0  -1.5"
      ]
     },
     "metadata": {},
     "output_type": "display_data"
    }
   ],
   "source": [
    "e = (unit(F) - inv(F * F')) / 2\n",
    "\n",
    "reshape(e.A[1][1:9], 3, 3)"
   ]
  },
  {
   "cell_type": "code",
   "execution_count": 129,
   "id": "df5feea4",
   "metadata": {},
   "outputs": [
    {
     "data": {
      "text/plain": [
       "3×3 Matrix{Float64}:\n",
       " -1.5   0.0   0.0\n",
       "  0.0  -1.5   0.0\n",
       "  0.0   0.0  -1.5"
      ]
     },
     "metadata": {},
     "output_type": "display_data"
    }
   ],
   "source": [
    "e = inv(F') * E * inv(F)\n",
    "\n",
    "reshape(e.A[1][1:9], 3, 3)"
   ]
  },
  {
   "cell_type": "code",
   "execution_count": 130,
   "id": "eb7cd73d",
   "metadata": {},
   "outputs": [
    {
     "data": {
      "text/plain": [
       "3×3 Matrix{Float64}:\n",
       " 0.5  0.0  0.0\n",
       " 0.0  0.5  0.0\n",
       " 0.0  0.0  0.5"
      ]
     },
     "metadata": {},
     "output_type": "display_data"
    }
   ],
   "source": [
    "U = sqrt(F' * F)\n",
    "\n",
    "reshape(U.A[1][1:9], 3, 3)"
   ]
  },
  {
   "cell_type": "code",
   "execution_count": 131,
   "id": "49af293c",
   "metadata": {},
   "outputs": [
    {
     "data": {
      "text/plain": [
       "3×3 Matrix{Float64}:\n",
       " -2.77256e6   0.0         0.0\n",
       "  0.0        -2.77256e6   0.0\n",
       "  0.0         0.0        -2.77256e6"
      ]
     },
     "metadata": {},
     "output_type": "display_data"
    }
   ],
   "source": [
    "Ex = 10\n",
    "νxy = 0.49999\n",
    "λ = Ex * νxy / ((1 + νxy) * (1 - 2νxy))\n",
    "μ = Ex / (2 * (1 + νxy))\n",
    "I3 = unit(F)\n",
    "iC = inv(F' * F)\n",
    "J1 = detI(F)\n",
    "SII = μ * (I3 - iC) + λ * log(J1) * inv(J1)\n",
    "\n",
    "reshape(SII.A[1][1:9], 3, 3)"
   ]
  },
  {
   "cell_type": "code",
   "execution_count": 132,
   "id": "ff567b87",
   "metadata": {},
   "outputs": [
    {
     "data": {
      "text/plain": [
       "3×3 Matrix{Float64}:\n",
       " -5.54512e6   0.0         0.0\n",
       "  0.0        -5.54512e6   0.0\n",
       "  0.0         0.0        -5.54512e6"
      ]
     },
     "metadata": {},
     "output_type": "display_data"
    }
   ],
   "source": [
    "σ = F * SII * F' * inv(detI(F))\n",
    "\n",
    "reshape(σ.A[1][1:9], 3, 3)"
   ]
  },
  {
   "cell_type": "code",
   "execution_count": 133,
   "id": "f1eee084",
   "metadata": {},
   "outputs": [
    {
     "data": {
      "text/plain": [
       "-2.772571754274259e6"
      ]
     },
     "metadata": {},
     "output_type": "display_data"
    }
   ],
   "source": [
    "J = 0.5 * 0.5 * 0.5\n",
    "μ / J * (J^(2 / 3) - 1) + λ / J * log(J)"
   ]
  },
  {
   "cell_type": "code",
   "execution_count": 134,
   "id": "32bc3809",
   "metadata": {},
   "outputs": [
    {
     "name": "stdout",
     "output_type": "stream",
     "text": [
      "-------------------------------------------------------\n",
      "Version       : 4.13.1\n",
      "License       : GNU General Public License\n",
      "Build OS      : Linux64-sdk\n",
      "Build date    : 19700101\n",
      "Build host    : amdci7.julia.csail.mit.edu\n",
      "Build options : 64Bit ALGLIB[contrib] ANN[contrib] Bamg Blossom Cairo DIntegration Dlopen DomHex Eigen[contrib] Fltk GMP Gmm[contrib] Hxt Jpeg Kbipack LinuxJoystick MathEx[contrib] Mesh Metis[contrib] Mmg Mpeg Netgen Nii2mesh ONELAB ONELABMetamodel OpenCASCADE OpenCASCADE-CAF OpenGL OpenMP OptHom Parser Plugins Png Post QuadMeshingTools QuadTri Solver TetGen/BR TinyXML2[contrib] Untangle Voro++[contrib] WinslowUntangler Zlib\n",
      "FLTK version  : 1.3.8\n",
      "OCC version   : 7.7.2\n",
      "Packaged by   : root\n",
      "Web site      : https://gmsh.info\n",
      "Issue tracker : https://gitlab.onelab.info/gmsh/gmsh/issues\n",
      "-------------------------------------------------------\n"
     ]
    },
    {
     "name": "stderr",
     "output_type": "stream",
     "text": [
      "XRequest.18: BadValue 0x0\n"
     ]
    }
   ],
   "source": [
    "FEM.openPostProcessor()"
   ]
  },
  {
   "cell_type": "code",
   "execution_count": 135,
   "id": "7b517a53",
   "metadata": {},
   "outputs": [],
   "source": [
    "gmsh.finalize()"
   ]
  }
 ],
 "metadata": {
  "kernelspec": {
   "display_name": "Julia 1.11.5",
   "language": "julia",
   "name": "julia-1.11"
  },
  "language_info": {
   "file_extension": ".jl",
   "mimetype": "application/julia",
   "name": "julia",
   "version": "1.11.5"
  }
 },
 "nbformat": 4,
 "nbformat_minor": 5
}
