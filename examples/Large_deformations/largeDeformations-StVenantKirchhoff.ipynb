{
 "cells": [
  {
   "cell_type": "code",
   "execution_count": 515,
   "id": "79fd9685",
   "metadata": {},
   "outputs": [],
   "source": [
    "using LowLevelFEM\n",
    "import LowLevelFEM as FEM\n",
    "\n",
    "gmsh.initialize()"
   ]
  },
  {
   "cell_type": "code",
   "execution_count": 516,
   "id": "22283e0a",
   "metadata": {},
   "outputs": [],
   "source": [
    "using SparseArrays, LinearAlgebra"
   ]
  },
  {
   "cell_type": "code",
   "execution_count": 517,
   "id": "d1917225",
   "metadata": {},
   "outputs": [
    {
     "data": {
      "text/plain": [
       "nodePositionVector (generic function with 1 method)"
      ]
     },
     "metadata": {},
     "output_type": "display_data"
    }
   ],
   "source": [
    "function nodePositionVector(problem)\n",
    "    dim = problem.dim\n",
    "    non = problem.non\n",
    "    if dim != 3\n",
    "        error(\"nodePositionVector: This function only works for 3D problems.\")\n",
    "    end\n",
    "    r = zeros(non * dim)\n",
    "    for ipg in 1:length(problem.material)\n",
    "        phName = problem.material[ipg].phName\n",
    "        dimTags = gmsh.model.getEntitiesForPhysicalName(phName)\n",
    "        for idm in 1:length(dimTags)\n",
    "            dimTag = dimTags[idm]\n",
    "            edim = dimTag[1]\n",
    "            etag = dimTag[2]\n",
    "            elemTypes, elemTags, elemNodeTags = gmsh.model.mesh.getElements(edim, etag)\n",
    "            nodeTags, ncoord, parametricCoord = gmsh.model.mesh.getNodes(dim, -1, true, false)\n",
    "            r[nodeTags*3 .- 2] = ncoord[1:3:length(ncoord)]\n",
    "            r[nodeTags*3 .- 1] = ncoord[2:3:length(ncoord)]\n",
    "            r[nodeTags*3 .- 0] = ncoord[3:3:length(ncoord)]\n",
    "        end\n",
    "    end\n",
    "    return r\n",
    "end"
   ]
  },
  {
   "cell_type": "code",
   "execution_count": 518,
   "id": "67165db9",
   "metadata": {},
   "outputs": [
    {
     "data": {
      "text/plain": [
       "stiffnessMatrixLinear (generic function with 1 method)"
      ]
     },
     "metadata": {},
     "output_type": "display_data"
    }
   ],
   "source": [
    "function stiffnessMatrixLinear(problem, r)\n",
    "    gmsh.model.setCurrent(problem.name)\n",
    "    elemTypes, elemTags, elemNodeTags = gmsh.model.mesh.getElements(problem.dim, -1)\n",
    "    lengthOfIJV = sum([(div(length(elemNodeTags[i]), length(elemTags[i])) * problem.dim)^2 * length(elemTags[i]) for i in 1:length(elemTags)])\n",
    "    nn = []\n",
    "    I = []\n",
    "    J = []\n",
    "    V = []\n",
    "    V = convert(Vector{Float64}, V)\n",
    "    sizehint!(I, lengthOfIJV)\n",
    "    sizehint!(J, lengthOfIJV)\n",
    "    sizehint!(V, lengthOfIJV)\n",
    "\n",
    "    for ipg in 1:length(problem.material)\n",
    "        phName = problem.material[ipg].phName\n",
    "        E = problem.material[ipg].E\n",
    "        ν = problem.material[ipg].ν\n",
    "        dim = problem.dim\n",
    "        pdim = problem.pdim\n",
    "        if problem.dim == 3 && problem.type == :Solid\n",
    "            D = E / ((1 + ν) * (1 - 2ν)) * [1-ν ν ν 0 0 0;\n",
    "                ν 1-ν ν 0 0 0;\n",
    "                ν ν 1-ν 0 0 0;\n",
    "                0 0 0 (1-2ν)/2 0 0;\n",
    "                0 0 0 0 (1-2ν)/2 0;\n",
    "                0 0 0 0 0 (1-2ν)/2]\n",
    "\n",
    "            rowsOfB = 6\n",
    "            b = 1\n",
    "        elseif problem.dim == 2 && problem.type == :PlaneStress\n",
    "            D = E / (1 - ν^2) * [1 ν 0;\n",
    "                ν 1 0;\n",
    "                0 0 (1-ν)/2]\n",
    "            rowsOfB = 3\n",
    "            b = problem.thickness\n",
    "        elseif problem.dim == 2 && problem.type == :PlaneStrain\n",
    "            D = E / ((1 + ν) * (1 - 2ν)) * [1-ν ν 0;\n",
    "                ν 1-ν 0;\n",
    "                0 0 (1-2ν)/2]\n",
    "            rowsOfB = 3\n",
    "            b = 1\n",
    "        else\n",
    "            error(\"stiffnessMatrixSolid: dimension is $(problem.dim), problem type is $(problem.type).\")\n",
    "        end\n",
    "\n",
    "        dimTags = gmsh.model.getEntitiesForPhysicalName(phName)\n",
    "        for idm in 1:length(dimTags)\n",
    "            dimTag = dimTags[idm]\n",
    "            edim = dimTag[1]\n",
    "            etag = dimTag[2]\n",
    "            elemTypes, elemTags, elemNodeTags = gmsh.model.mesh.getElements(edim, etag)\n",
    "            for i in 1:length(elemTypes)\n",
    "                et = elemTypes[i]\n",
    "                elementName, dim, order, numNodes::Int64, localNodeCoord, numPrimaryNodes = gmsh.model.mesh.getElementProperties(et)\n",
    "                intPoints, intWeights = gmsh.model.mesh.getIntegrationPoints(et, \"Gauss\" * string(2order + 1))\n",
    "                numIntPoints = length(intWeights)\n",
    "                #comp, fun, ori = gmsh.model.mesh.getBasisFunctions(et, intPoints, \"Lagrange\")\n",
    "                #h = reshape(fun, :, numIntPoints)\n",
    "                comp, dfun, ori = gmsh.model.mesh.getBasisFunctions(et, intPoints, \"GradLagrange\")\n",
    "                ∇h = reshape(dfun, :, numIntPoints)\n",
    "                nnet = zeros(Int, length(elemTags[i]), numNodes)\n",
    "                invJac = zeros(3, 3numIntPoints)\n",
    "                Iidx = zeros(Int, numNodes * pdim, numNodes * pdim)\n",
    "                Jidx = zeros(Int, numNodes * pdim, numNodes * pdim)\n",
    "                for k in 1:numNodes*pdim, l in 1:numNodes*pdim\n",
    "                    Iidx[k, l] = l\n",
    "                    Jidx[k, l] = k\n",
    "                end\n",
    "                #H = zeros(9 * numIntPoints, pdim * numNodes)\n",
    "                ∂h = zeros(dim, numNodes * numIntPoints)\n",
    "                B = zeros(rowsOfB * numIntPoints, pdim * numNodes)\n",
    "                ∂H = spzeros(9 * numIntPoints, pdim * numNodes)\n",
    "                K1 = zeros(pdim * numNodes, pdim * numNodes)\n",
    "                nn2 = zeros(Int, pdim * numNodes)\n",
    "                sizehint!(∂H, 9 * numNodes)\n",
    "                #for k in 1:numIntPoints, l in 1:numNodes\n",
    "                #    for kk in 1:3:9, ll in 1:3\n",
    "                #H[k*9-(9-kk)-1+ll, l*pdim-(pdim-ll)] = h[(k-1)*numNodes+l]\n",
    "                #    end\n",
    "                #end\n",
    "                for j in 1:length(elemTags[i])\n",
    "                    elem = elemTags[i][j]\n",
    "                    for k in 1:numNodes\n",
    "                        nnet[j, k] = elemNodeTags[i][(j-1)*numNodes+k]\n",
    "                    end\n",
    "                    for k in 1:pdim\n",
    "                        nn2[k:pdim:pdim*numNodes] = pdim * nnet[j, 1:numNodes] .- (pdim - k)\n",
    "                    end\n",
    "                    jac, jacDet, coord = gmsh.model.mesh.getJacobian(elem, intPoints)\n",
    "                    Jac = reshape(jac, 3, :)\n",
    "                    for k in 1:numIntPoints\n",
    "                        invJac[1:3, 3*k-2:3*k] = @inline inv(Jac[1:3, 3*k-2:3*k])'\n",
    "                    end\n",
    "                    ∂h .*= 0\n",
    "                    for k in 1:numIntPoints, l in 1:numNodes\n",
    "                        ∂h[1:dim, (k-1)*numNodes+l] .= invJac[1:dim, k*3-2:k*3-(3-dim)] * ∇h[l*3-2:l*3-(3-dim), k]\n",
    "                    end\n",
    "                    r1 = r[nn2]\n",
    "                    B .*= 0\n",
    "                    ∂H .*= 0\n",
    "                    if dim == 2 && rowsOfB == 3\n",
    "                        for k in 1:numIntPoints\n",
    "                            for l in 1:numNodes\n",
    "                                B[k*rowsOfB-0, l*pdim-0] = B[k*rowsOfB-2, l*pdim-1] = ∂h[1, (k-1)*numNodes+l]\n",
    "                                B[k*rowsOfB-0, l*pdim-1] = B[k*rowsOfB-1, l*pdim-0] = ∂h[2, (k-1)*numNodes+l]\n",
    "                            end\n",
    "                        end\n",
    "                    elseif dim == 3 && rowsOfB == 6\n",
    "                        for k in 1:numIntPoints\n",
    "                            for l in 1:numNodes\n",
    "                                ∂H[k*9-(9-1), l*pdim-(pdim-1)] = ∂h[1, (k-1)*numNodes+l]\n",
    "                                ∂H[k*9-(9-2), l*pdim-(pdim-2)] = ∂h[1, (k-1)*numNodes+l]\n",
    "                                ∂H[k*9-(9-3), l*pdim-(pdim-3)] = ∂h[1, (k-1)*numNodes+l]\n",
    "                                ∂H[k*9-(9-4), l*pdim-(pdim-1)] = ∂h[2, (k-1)*numNodes+l]\n",
    "                                ∂H[k*9-(9-5), l*pdim-(pdim-2)] = ∂h[2, (k-1)*numNodes+l]\n",
    "                                ∂H[k*9-(9-6), l*pdim-(pdim-3)] = ∂h[2, (k-1)*numNodes+l]\n",
    "                                ∂H[k*9-(9-7), l*pdim-(pdim-1)] = ∂h[3, (k-1)*numNodes+l]\n",
    "                                ∂H[k*9-(9-8), l*pdim-(pdim-2)] = ∂h[3, (k-1)*numNodes+l]\n",
    "                                ∂H[k*9-(9-9), l*pdim-(pdim-3)] = ∂h[3, (k-1)*numNodes+l]\n",
    "                            end\n",
    "                            ∂H1 = ∂H[k*9-(9-1):k*9, 1:pdim*numNodes]\n",
    "                            F = ∂H1 * r1\n",
    "                            for l in 1:numNodes\n",
    "                                B[k*rowsOfB-5, l*pdim-2] = F[1] * ∂h[1, (k-1)*numNodes+l]\n",
    "                                B[k*rowsOfB-4, l*pdim-2] = F[4] * ∂h[2, (k-1)*numNodes+l]\n",
    "                                B[k*rowsOfB-3, l*pdim-2] = F[7] * ∂h[3, (k-1)*numNodes+l]\n",
    "                                B[k*rowsOfB-2, l*pdim-2] = (F[4] * ∂h[1, (k-1)*numNodes+l] + F[1] * ∂h[2, (k-1)*numNodes+l]) / 2\n",
    "                                B[k*rowsOfB-1, l*pdim-2] = (F[7] * ∂h[2, (k-1)*numNodes+l] + F[4] * ∂h[3, (k-1)*numNodes+l]) / 2\n",
    "                                B[k*rowsOfB-0, l*pdim-2] = (F[1] * ∂h[3, (k-1)*numNodes+l] + F[7] * ∂h[1, (k-1)*numNodes+l]) / 2\n",
    "                                B[k*rowsOfB-5, l*pdim-1] = F[2] * ∂h[1, (k-1)*numNodes+l]\n",
    "                                B[k*rowsOfB-4, l*pdim-1] = F[5] * ∂h[2, (k-1)*numNodes+l]\n",
    "                                B[k*rowsOfB-3, l*pdim-1] = F[8] * ∂h[3, (k-1)*numNodes+l]\n",
    "                                B[k*rowsOfB-2, l*pdim-1] = (F[5] * ∂h[1, (k-1)*numNodes+l] + F[2] * ∂h[2, (k-1)*numNodes+l]) / 2\n",
    "                                B[k*rowsOfB-1, l*pdim-1] = (F[8] * ∂h[2, (k-1)*numNodes+l] + F[5] * ∂h[3, (k-1)*numNodes+l]) / 2\n",
    "                                B[k*rowsOfB-0, l*pdim-1] = (F[2] * ∂h[3, (k-1)*numNodes+l] + F[8] * ∂h[1, (k-1)*numNodes+l]) / 2\n",
    "                                B[k*rowsOfB-5, l*pdim-0] = F[3] * ∂h[1, (k-1)*numNodes+l]\n",
    "                                B[k*rowsOfB-4, l*pdim-0] = F[6] * ∂h[2, (k-1)*numNodes+l]\n",
    "                                B[k*rowsOfB-3, l*pdim-0] = F[9] * ∂h[3, (k-1)*numNodes+l]\n",
    "                                B[k*rowsOfB-2, l*pdim-0] = (F[6] * ∂h[1, (k-1)*numNodes+l] + F[3] * ∂h[2, (k-1)*numNodes+l]) / 2\n",
    "                                B[k*rowsOfB-1, l*pdim-0] = (F[9] * ∂h[2, (k-1)*numNodes+l] + F[6] * ∂h[3, (k-1)*numNodes+l]) / 2\n",
    "                                B[k*rowsOfB-0, l*pdim-0] = (F[1] * ∂h[3, (k-1)*numNodes+l] + F[9] * ∂h[1, (k-1)*numNodes+l]) / 2\n",
    "                            end\n",
    "                        end\n",
    "                    else\n",
    "                        error(\"stiffnessMatrixLinear: rows of B is $rowsOfB, dimension of the problem is $dim.\")\n",
    "                    end\n",
    "                    K1 .*= 0\n",
    "                    for k in 1:numIntPoints\n",
    "                        Ex = 10\n",
    "                        νxy = 0.3\n",
    "                        λ = Ex * νxy / ((1 + νxy) * (1 - 2νxy))\n",
    "                        μ = Ex / (2 * (1 + νxy))\n",
    "                        #∂H1 = ∂H[k*9-(9-1):k*9, 1:pdim*numNodes]\n",
    "                        #F1 = ∂H1 * r1\n",
    "                        #F2 = reshape(F1, 3, 3)\n",
    "                        #F2 = [1.0 0 0; 0 1.0 0; 0 0 1.0]\n",
    "                        #display(\"F2=$F2\")\n",
    "                        #J1 = det(F2)\n",
    "                        #display(\"J1=$J1\")\n",
    "                        #if J1 <= 0\n",
    "                        #    display(\"J1=$J1\")\n",
    "                        #end\n",
    "                        #C2 = F2' * F2\n",
    "                        #iC2 = inv(C2)\n",
    "                        #iC1 = reshape(iC2, 9, 1)\n",
    "                        #iCiC1 = iC1[[1, 5, 9, 4, 6, 3]] * iC1[[1, 5, 9, 4, 6, 3]]'\n",
    "                        #i1 = [1, 2, 3, 1, 2, 3]\n",
    "                        #j1 = [1, 2, 3, 2, 3, 1]\n",
    "                        #k1 = [1, 2, 3, 1, 2, 3]\n",
    "                        #l1 = [1, 2, 3, 2, 3, 1]\n",
    "                        #II1 = zeros(6, 6)\n",
    "                        #for i2 in 1:6, j2 in 1:6\n",
    "                        #    II1[i2, j2] = (iC2[i1[i2], k1[j2]] * iC2[j1[i2], l1[j2]] + iC2[i1[i2], l1[j2]] * iC2[j1[i2], k1[j2]]) / 2\n",
    "                        #end\n",
    "                        #C1 = λ * iCiC1 + 2 * (μ - λ * log(J1)) * II1\n",
    "                        λ0 = λ\n",
    "                        μ0 = μ\n",
    "                        C1 = [λ0+2μ0 λ0 λ0 0 0 0;\n",
    "                            λ0 λ0+2μ0 λ0 0 0 0;\n",
    "                            λ0 λ0 λ0+2μ0 0 0 0;\n",
    "                            0 0 0 μ0 0 0;\n",
    "                            0 0 0 0 μ0 0;\n",
    "                            0 0 0 0 0 μ0]\n",
    "                        #display(\"C1 = $C1\")\n",
    "                        B1 = B[k*rowsOfB-(rowsOfB-1):k*rowsOfB, 1:pdim*numNodes]\n",
    "                        K1 += B1' * C1 * B1 * b * jacDet[k] * intWeights[k]\n",
    "                    end\n",
    "                    append!(I, nn2[Iidx[:]])\n",
    "                    append!(J, nn2[Jidx[:]])\n",
    "                    append!(V, K1[:])\n",
    "                end\n",
    "                push!(nn, nnet)\n",
    "            end\n",
    "        end\n",
    "    end\n",
    "    dof = problem.pdim * problem.non\n",
    "    K = sparse(I, J, V, dof, dof)\n",
    "    dropzeros!(K)\n",
    "    return K\n",
    "end"
   ]
  },
  {
   "cell_type": "code",
   "execution_count": 519,
   "id": "fa0e7211",
   "metadata": {},
   "outputs": [
    {
     "data": {
      "text/plain": [
       "stiffnessMatrixNonLinear (generic function with 1 method)"
      ]
     },
     "metadata": {},
     "output_type": "display_data"
    }
   ],
   "source": [
    "function stiffnessMatrixNonLinear(problem, r)\n",
    "    gmsh.model.setCurrent(problem.name)\n",
    "    elemTypes, elemTags, elemNodeTags = gmsh.model.mesh.getElements(problem.dim, -1)\n",
    "    lengthOfIJV = sum([(div(length(elemNodeTags[i]), length(elemTags[i])) * problem.dim)^2 * length(elemTags[i]) for i in 1:length(elemTags)])\n",
    "    nn = []\n",
    "    I = []\n",
    "    J = []\n",
    "    V = []\n",
    "    V = convert(Vector{Float64}, V)\n",
    "    sizehint!(I, lengthOfIJV)\n",
    "    sizehint!(J, lengthOfIJV)\n",
    "    sizehint!(V, lengthOfIJV)\n",
    "\n",
    "    for ipg in 1:length(problem.material)\n",
    "        phName = problem.material[ipg].phName\n",
    "        E = problem.material[ipg].E\n",
    "        ν = problem.material[ipg].ν\n",
    "        dim = problem.dim\n",
    "        pdim = problem.pdim\n",
    "        if problem.dim == 3 && problem.type == :Solid\n",
    "            rowsOfB = 6\n",
    "            b = 1\n",
    "        elseif problem.dim == 2 && problem.type == :PlaneStress\n",
    "            rowsOfB = 3\n",
    "            b = problem.thickness\n",
    "        elseif problem.dim == 2 && problem.type == :PlaneStrain\n",
    "            rowsOfB = 3\n",
    "            b = 1\n",
    "        else\n",
    "            error(\"stiffnessMatrixSolid: dimension is $(problem.dim), problem type is $(problem.type).\")\n",
    "        end\n",
    "\n",
    "        dimTags = gmsh.model.getEntitiesForPhysicalName(phName)\n",
    "        for idm in 1:length(dimTags)\n",
    "            dimTag = dimTags[idm]\n",
    "            edim = dimTag[1]\n",
    "            etag = dimTag[2]\n",
    "            elemTypes, elemTags, elemNodeTags = gmsh.model.mesh.getElements(edim, etag)\n",
    "            for i in 1:length(elemTypes)\n",
    "                et = elemTypes[i]\n",
    "                elementName, dim, order, numNodes::Int64, localNodeCoord, numPrimaryNodes = gmsh.model.mesh.getElementProperties(et)\n",
    "                intPoints, intWeights = gmsh.model.mesh.getIntegrationPoints(et, \"Gauss\" * string(2order + 1))\n",
    "                numIntPoints = length(intWeights)\n",
    "                comp, fun, ori = gmsh.model.mesh.getBasisFunctions(et, intPoints, \"Lagrange\")\n",
    "                h = reshape(fun, :, numIntPoints)\n",
    "                comp, dfun, ori = gmsh.model.mesh.getBasisFunctions(et, intPoints, \"GradLagrange\")\n",
    "                ∇h = reshape(dfun, :, numIntPoints)\n",
    "                nnet = zeros(Int, length(elemTags[i]), numNodes)\n",
    "                invJac = zeros(3, 3numIntPoints)\n",
    "                Iidx = zeros(Int, numNodes * pdim, numNodes * pdim)\n",
    "                Jidx = zeros(Int, numNodes * pdim, numNodes * pdim)\n",
    "                for k in 1:numNodes*pdim, l in 1:numNodes*pdim\n",
    "                    Iidx[k, l] = l\n",
    "                    Jidx[k, l] = k\n",
    "                end\n",
    "                H = spzeros(9 * numIntPoints, 9 * numNodes)\n",
    "                sizehint!(H, 9 * numNodes * numIntPoints)\n",
    "                ∂h = zeros(dim, numNodes * numIntPoints)\n",
    "                B = zeros(rowsOfB * numIntPoints, pdim * numNodes)\n",
    "                ∂H = spzeros(9 * numIntPoints, pdim * numNodes)\n",
    "                K1 = zeros(pdim * numNodes, pdim * numNodes)\n",
    "                nn2 = zeros(Int, dim * numNodes)\n",
    "                nn9 = zeros(Int, 9 * numNodes)\n",
    "                sizehint!(∂H, 9 * numNodes * numIntPoints)\n",
    "                for k in 1:numIntPoints, l in 1:numNodes\n",
    "                    for kk in 1:9\n",
    "                        H[k*9-(9-kk), l*9-(9-kk)] = h[(k-1)*numNodes+l]\n",
    "                    end\n",
    "                end\n",
    "                for j in 1:length(elemTags[i])\n",
    "                    elem = elemTags[i][j]\n",
    "                    for k in 1:numNodes\n",
    "                        nnet[j, k] = elemNodeTags[i][(j-1)*numNodes+k]\n",
    "                    end\n",
    "                    for k in 1:dim\n",
    "                        nn2[k:dim:dim*numNodes] = dim * nnet[j, 1:numNodes] .- (dim - k)\n",
    "                    end\n",
    "                    for k in 1:9\n",
    "                        nn9[k:9:9*numNodes] = 9 * nnet[j, 1:numNodes] .- (9 - k)\n",
    "                    end\n",
    "                    jac, jacDet, coord = gmsh.model.mesh.getJacobian(elem, intPoints)\n",
    "                    Jac = reshape(jac, 3, :)\n",
    "                    for k in 1:numIntPoints\n",
    "                        invJac[1:3, 3*k-2:3*k] = @inline inv(Jac[1:3, 3*k-2:3*k])'\n",
    "                    end\n",
    "                    ∂h .*= 0\n",
    "                    for k in 1:numIntPoints, l in 1:numNodes\n",
    "                        ∂h[1:dim, (k-1)*numNodes+l] .= invJac[1:dim, k*3-2:k*3-(3-dim)] * ∇h[l*3-2:l*3-(3-dim), k]\n",
    "                    end\n",
    "                    r1 = r[nn2]\n",
    "                    #S1 = S[nn9]\n",
    "                    B .*= 0\n",
    "                    ∂H .*= 0\n",
    "                    if dim == 2 && rowsOfB == 3\n",
    "                        for k in 1:numIntPoints\n",
    "                            for l in 1:numNodes\n",
    "                                B[k*rowsOfB-0, l*pdim-0] = B[k*rowsOfB-2, l*pdim-1] = ∂h[1, (k-1)*numNodes+l]\n",
    "                                B[k*rowsOfB-0, l*pdim-1] = B[k*rowsOfB-1, l*pdim-0] = ∂h[2, (k-1)*numNodes+l]\n",
    "                            end\n",
    "                        end\n",
    "                    elseif dim == 3 && rowsOfB == 6\n",
    "                        for k in 1:numIntPoints\n",
    "                            for l in 1:numNodes\n",
    "                                ∂H[k*9-(9-1), l*pdim-(pdim-1)] = ∂h[1, (k-1)*numNodes+l]\n",
    "                                ∂H[k*9-(9-2), l*pdim-(pdim-2)] = ∂h[1, (k-1)*numNodes+l]\n",
    "                                ∂H[k*9-(9-3), l*pdim-(pdim-3)] = ∂h[1, (k-1)*numNodes+l]\n",
    "                                ∂H[k*9-(9-4), l*pdim-(pdim-1)] = ∂h[2, (k-1)*numNodes+l]\n",
    "                                ∂H[k*9-(9-5), l*pdim-(pdim-2)] = ∂h[2, (k-1)*numNodes+l]\n",
    "                                ∂H[k*9-(9-6), l*pdim-(pdim-3)] = ∂h[2, (k-1)*numNodes+l]\n",
    "                                ∂H[k*9-(9-7), l*pdim-(pdim-1)] = ∂h[3, (k-1)*numNodes+l]\n",
    "                                ∂H[k*9-(9-8), l*pdim-(pdim-2)] = ∂h[3, (k-1)*numNodes+l]\n",
    "                                ∂H[k*9-(9-9), l*pdim-(pdim-3)] = ∂h[3, (k-1)*numNodes+l]\n",
    "                            end\n",
    "                        end\n",
    "                    else\n",
    "                        error(\"stiffnessMatrixLinear: rows of B is $rowsOfB, dimension of the problem is $dim.\")\n",
    "                    end\n",
    "                    K1 .*= 0\n",
    "                    for k in 1:numIntPoints\n",
    "                        Ex = 10\n",
    "                        νxy = 0.3\n",
    "                        λ = Ex * νxy / ((1 + νxy) * (1 - 2νxy))\n",
    "                        μ = Ex / (2 * (1 + νxy))\n",
    "                        I3 = [1 0 0; 0 1 0; 0 0 1]\n",
    "                        #H1 = H[k*9-(9-1):k*9, 1:9*numNodes]\n",
    "                        ∂H0 = ∂H[k*9-(9-1):k*9, 1:pdim*numNodes]\n",
    "                        F1 = ∂H0 * r1\n",
    "                        F2 = reshape(F1, 3, 3)\n",
    "                        #if k == 0\n",
    "                        #    display(\"F2=$F2\")\n",
    "                        #end\n",
    "                        #J1 = det(F2)\n",
    "                        E = (F2' * F2 - I3) / 2\n",
    "                        #iC = inv(C)\n",
    "                        S2 = 2μ * E + λ * (E[1, 1] + E[2, 2] + E[3, 3]) * I3\n",
    "                        #if k == 0\n",
    "                        #    display(\"S2=$S2\")\n",
    "                        #end\n",
    "                        #S0 = reshape(H1 * S1, 3, 3)\n",
    "                        ∂H1 = ∂H[k*9-(9-1):3:k*9-(9-9), 1:pdim*numNodes]\n",
    "                        ∂H2 = ∂H[k*9-(9-2):3:k*9-(9-9), 1:pdim*numNodes]\n",
    "                        ∂H3 = ∂H[k*9-(9-3):3:k*9-(9-9), 1:pdim*numNodes]\n",
    "                        #display(∂H1)\n",
    "                        #display(∂H2)\n",
    "                        #display(∂H3)\n",
    "                        #display(\"∂H1=$∂H1\")\n",
    "                        #display(\"∂H2=$∂H2\")\n",
    "                        #display(\"∂H3=$∂H3\")\n",
    "                        #∂H1 = ∂H[k*9-(9-1):k*9-(9-3), 1:pdim*numNodes]\n",
    "                        #∂H2 = ∂H[k*9-(9-4):k*9-(9-6), 1:pdim*numNodes]\n",
    "                        #∂H3 = ∂H[k*9-(9-7):k*9-(9-9), 1:pdim*numNodes]\n",
    "                        #K1 += (∂H1' * S0 * ∂H1 + ∂H2' * S0 * ∂H2 + ∂H3' * S0 * ∂H3) * b * jacDet[k] * intWeights[k]\n",
    "                        K1 += (∂H1' * S2 * ∂H1 + ∂H2' * S2 * ∂H2 + ∂H3' * S2 * ∂H3) * b * jacDet[k] * intWeights[k]\n",
    "                    end\n",
    "                    append!(I, nn2[Iidx[:]])\n",
    "                    append!(J, nn2[Jidx[:]])\n",
    "                    append!(V, K1[:])\n",
    "                end\n",
    "                push!(nn, nnet)\n",
    "            end\n",
    "        end\n",
    "    end\n",
    "    dof = problem.pdim * problem.non\n",
    "    K = sparse(I, J, V, dof, dof)\n",
    "    dropzeros!(K)\n",
    "    return K\n",
    "end"
   ]
  },
  {
   "cell_type": "code",
   "execution_count": 520,
   "id": "8e99291e",
   "metadata": {},
   "outputs": [
    {
     "data": {
      "text/plain": [
       "stiffnessMatrixLinear0 (generic function with 1 method)"
      ]
     },
     "metadata": {},
     "output_type": "display_data"
    }
   ],
   "source": [
    "function stiffnessMatrixLinear0(problem, r)\n",
    "    gmsh.model.setCurrent(problem.name)\n",
    "    elemTypes, elemTags, elemNodeTags = gmsh.model.mesh.getElements(problem.dim, -1)\n",
    "    lengthOfIJV = sum([(div(length(elemNodeTags[i]), length(elemTags[i])) * problem.dim)^2 * length(elemTags[i]) for i in 1:length(elemTags)])\n",
    "    nn = []\n",
    "    I = []\n",
    "    J = []\n",
    "    V = []\n",
    "    V = convert(Vector{Float64}, V)\n",
    "    sizehint!(I, lengthOfIJV)\n",
    "    sizehint!(J, lengthOfIJV)\n",
    "    sizehint!(V, lengthOfIJV)\n",
    "\n",
    "    for ipg in 1:length(problem.material)\n",
    "        phName = problem.material[ipg].phName\n",
    "        E = problem.material[ipg].E\n",
    "        ν = problem.material[ipg].ν\n",
    "        dim = problem.dim\n",
    "        pdim = problem.pdim\n",
    "        if problem.dim == 3 && problem.type == :Solid\n",
    "            D = E / ((1 + ν) * (1 - 2ν)) * [1-ν ν ν 0 0 0;\n",
    "                ν 1-ν ν 0 0 0;\n",
    "                ν ν 1-ν 0 0 0;\n",
    "                0 0 0 (1-2ν)/2 0 0;\n",
    "                0 0 0 0 (1-2ν)/2 0;\n",
    "                0 0 0 0 0 (1-2ν)/2]\n",
    "\n",
    "            rowsOfB = 6\n",
    "            b = 1\n",
    "        elseif problem.dim == 2 && problem.type == :PlaneStress\n",
    "            D = E / (1 - ν^2) * [1 ν 0;\n",
    "                ν 1 0;\n",
    "                0 0 (1-ν)/2]\n",
    "            rowsOfB = 3\n",
    "            b = problem.thickness\n",
    "        elseif problem.dim == 2 && problem.type == :PlaneStrain\n",
    "            D = E / ((1 + ν) * (1 - 2ν)) * [1-ν ν 0;\n",
    "                ν 1-ν 0;\n",
    "                0 0 (1-2ν)/2]\n",
    "            rowsOfB = 3\n",
    "            b = 1\n",
    "        else\n",
    "            error(\"stiffnessMatrixSolid: dimension is $(problem.dim), problem type is $(problem.type).\")\n",
    "        end\n",
    "\n",
    "        dimTags = gmsh.model.getEntitiesForPhysicalName(phName)\n",
    "        for idm in 1:length(dimTags)\n",
    "            dimTag = dimTags[idm]\n",
    "            edim = dimTag[1]\n",
    "            etag = dimTag[2]\n",
    "            elemTypes, elemTags, elemNodeTags = gmsh.model.mesh.getElements(edim, etag)\n",
    "            for i in 1:length(elemTypes)\n",
    "                et = elemTypes[i]\n",
    "                elementName, dim, order, numNodes::Int64, localNodeCoord, numPrimaryNodes = gmsh.model.mesh.getElementProperties(et)\n",
    "                intPoints, intWeights = gmsh.model.mesh.getIntegrationPoints(et, \"Gauss\" * string(4order + 1))\n",
    "                numIntPoints = length(intWeights)\n",
    "                #comp, fun, ori = gmsh.model.mesh.getBasisFunctions(et, intPoints, \"Lagrange\")\n",
    "                #h = reshape(fun, :, numIntPoints)\n",
    "                comp, dfun, ori = gmsh.model.mesh.getBasisFunctions(et, intPoints, \"GradLagrange\")\n",
    "                ∇h = reshape(dfun, :, numIntPoints)\n",
    "                nnet = zeros(Int, length(elemTags[i]), numNodes)\n",
    "                invJac = zeros(3, 3numIntPoints)\n",
    "                Iidx = zeros(Int, numNodes * pdim, numNodes * pdim)\n",
    "                Jidx = zeros(Int, numNodes * pdim, numNodes * pdim)\n",
    "                for k in 1:numNodes*pdim, l in 1:numNodes*pdim\n",
    "                    Iidx[k, l] = l\n",
    "                    Jidx[k, l] = k\n",
    "                end\n",
    "                #H = zeros(9 * numIntPoints, pdim * numNodes)\n",
    "                ∂h = zeros(dim, numNodes * numIntPoints)\n",
    "                B = zeros(rowsOfB * numIntPoints, pdim * numNodes)\n",
    "                ∂H = spzeros(9 * numIntPoints, pdim * numNodes)\n",
    "                K1 = zeros(pdim * numNodes, pdim * numNodes)\n",
    "                nn2 = zeros(Int, pdim * numNodes)\n",
    "                sizehint!(∂H, 9 * numNodes)\n",
    "                #for k in 1:numIntPoints, l in 1:numNodes\n",
    "                #    for kk in 1:3:9, ll in 1:3\n",
    "                #H[k*9-(9-kk)-1+ll, l*pdim-(pdim-ll)] = h[(k-1)*numNodes+l]\n",
    "                #    end\n",
    "                #end\n",
    "                for j in 1:length(elemTags[i])\n",
    "                    elem = elemTags[i][j]\n",
    "                    for k in 1:numNodes\n",
    "                        nnet[j, k] = elemNodeTags[i][(j-1)*numNodes+k]\n",
    "                    end\n",
    "                    for k in 1:pdim\n",
    "                        nn2[k:pdim:pdim*numNodes] = pdim * nnet[j, 1:numNodes] .- (pdim - k)\n",
    "                    end\n",
    "                    jac, jacDet, coord = gmsh.model.mesh.getJacobian(elem, intPoints)\n",
    "                    Jac = reshape(jac, 3, :)\n",
    "                    for k in 1:numIntPoints\n",
    "                        invJac[1:3, 3*k-2:3*k] = @inline inv(Jac[1:3, 3*k-2:3*k])'\n",
    "                    end\n",
    "                    ∂h .*= 0\n",
    "                    for k in 1:numIntPoints, l in 1:numNodes\n",
    "                        ∂h[1:dim, (k-1)*numNodes+l] .= invJac[1:dim, k*3-2:k*3-(3-dim)] * ∇h[l*3-2:l*3-(3-dim), k]\n",
    "                    end\n",
    "                    r1 = r[nn2]\n",
    "                    B .*= 0\n",
    "                    ∂H .*= 0\n",
    "                    if dim == 2 && rowsOfB == 3\n",
    "                        for k in 1:numIntPoints\n",
    "                            for l in 1:numNodes\n",
    "                                B[k*rowsOfB-0, l*pdim-0] = B[k*rowsOfB-2, l*pdim-1] = ∂h[1, (k-1)*numNodes+l]\n",
    "                                B[k*rowsOfB-0, l*pdim-1] = B[k*rowsOfB-1, l*pdim-0] = ∂h[2, (k-1)*numNodes+l]\n",
    "                            end\n",
    "                        end\n",
    "                    elseif dim == 3 && rowsOfB == 6\n",
    "                        for k in 1:numIntPoints\n",
    "                            for l in 1:numNodes\n",
    "                                ∂H[k*9-(9-1), l*pdim-(pdim-1)] = ∂h[1, (k-1)*numNodes+l]\n",
    "                                ∂H[k*9-(9-2), l*pdim-(pdim-1)] = ∂h[2, (k-1)*numNodes+l]\n",
    "                                ∂H[k*9-(9-3), l*pdim-(pdim-1)] = ∂h[3, (k-1)*numNodes+l]\n",
    "                                ∂H[k*9-(9-4), l*pdim-(pdim-2)] = ∂h[1, (k-1)*numNodes+l]\n",
    "                                ∂H[k*9-(9-5), l*pdim-(pdim-2)] = ∂h[2, (k-1)*numNodes+l]\n",
    "                                ∂H[k*9-(9-6), l*pdim-(pdim-2)] = ∂h[3, (k-1)*numNodes+l]\n",
    "                                ∂H[k*9-(9-7), l*pdim-(pdim-3)] = ∂h[1, (k-1)*numNodes+l]\n",
    "                                ∂H[k*9-(9-8), l*pdim-(pdim-3)] = ∂h[2, (k-1)*numNodes+l]\n",
    "                                ∂H[k*9-(9-9), l*pdim-(pdim-3)] = ∂h[3, (k-1)*numNodes+l]\n",
    "                            end\n",
    "                            ∂H1 = ∂H[k*9-(9-1):k*9, 1:pdim*numNodes]\n",
    "                            F = ∂H1 * r1\n",
    "                            for l in 1:numNodes\n",
    "                                B[k*rowsOfB-5, l*pdim-2] = F[1] * ∂h[1, (k-1)*numNodes+l]\n",
    "                                B[k*rowsOfB-4, l*pdim-2] = F[4] * ∂h[2, (k-1)*numNodes+l]\n",
    "                                B[k*rowsOfB-3, l*pdim-2] = F[7] * ∂h[3, (k-1)*numNodes+l]\n",
    "                                B[k*rowsOfB-2, l*pdim-2] = (F[4] * ∂h[1, (k-1)*numNodes+l] + F[1] * ∂h[2, (k-1)*numNodes+l]) / 2\n",
    "                                B[k*rowsOfB-1, l*pdim-2] = (F[7] * ∂h[2, (k-1)*numNodes+l] + F[4] * ∂h[3, (k-1)*numNodes+l]) / 2\n",
    "                                B[k*rowsOfB-0, l*pdim-2] = (F[1] * ∂h[3, (k-1)*numNodes+l] + F[7] * ∂h[1, (k-1)*numNodes+l]) / 2\n",
    "                                B[k*rowsOfB-5, l*pdim-1] = F[2] * ∂h[1, (k-1)*numNodes+l]\n",
    "                                B[k*rowsOfB-4, l*pdim-1] = F[5] * ∂h[2, (k-1)*numNodes+l]\n",
    "                                B[k*rowsOfB-3, l*pdim-1] = F[8] * ∂h[3, (k-1)*numNodes+l]\n",
    "                                B[k*rowsOfB-2, l*pdim-1] = (F[5] * ∂h[1, (k-1)*numNodes+l] + F[2] * ∂h[2, (k-1)*numNodes+l]) / 2\n",
    "                                B[k*rowsOfB-1, l*pdim-1] = (F[8] * ∂h[2, (k-1)*numNodes+l] + F[5] * ∂h[3, (k-1)*numNodes+l]) / 2\n",
    "                                B[k*rowsOfB-0, l*pdim-1] = (F[2] * ∂h[3, (k-1)*numNodes+l] + F[8] * ∂h[1, (k-1)*numNodes+l]) / 2\n",
    "                                B[k*rowsOfB-5, l*pdim-0] = F[3] * ∂h[1, (k-1)*numNodes+l]\n",
    "                                B[k*rowsOfB-4, l*pdim-0] = F[6] * ∂h[2, (k-1)*numNodes+l]\n",
    "                                B[k*rowsOfB-3, l*pdim-0] = F[9] * ∂h[3, (k-1)*numNodes+l]\n",
    "                                B[k*rowsOfB-2, l*pdim-0] = (F[6] * ∂h[1, (k-1)*numNodes+l] + F[3] * ∂h[2, (k-1)*numNodes+l]) / 2\n",
    "                                B[k*rowsOfB-1, l*pdim-0] = (F[9] * ∂h[2, (k-1)*numNodes+l] + F[6] * ∂h[3, (k-1)*numNodes+l]) / 2\n",
    "                                B[k*rowsOfB-0, l*pdim-0] = (F[1] * ∂h[3, (k-1)*numNodes+l] + F[9] * ∂h[1, (k-1)*numNodes+l]) / 2\n",
    "                            end\n",
    "                        end\n",
    "                    else\n",
    "                        error(\"stiffnessMatrixLinear: rows of B is $rowsOfB, dimension of the problem is $dim.\")\n",
    "                    end\n",
    "                    K1 .*= 0\n",
    "                    for k in 1:numIntPoints\n",
    "                        Ex = 10\n",
    "                        νxy = 0.3\n",
    "                        λ = Ex * νxy / ((1 + νxy) * (1 - 2νxy))\n",
    "                        μ = Ex / (2 * (1 + νxy))\n",
    "                        ∂H1 = ∂H[k*9-(9-1):k*9, 1:pdim*numNodes]\n",
    "                        F1 = ∂H1 * r1\n",
    "                        F2 = reshape(F1, 3, 3)\n",
    "                        J1 = det(F2)\n",
    "                        C2 = F2' * F2\n",
    "                        iC2 = inv(C2)\n",
    "                        iC1 = reshape(C2, 9, 1)\n",
    "                        iCiC1 = iC1[[1, 5, 9, 4, 6, 3]] * iC1[[1, 5, 9, 4, 6, 3]]'\n",
    "                        i1 = [1, 2, 3, 1, 2, 3]\n",
    "                        j1 = [1, 2, 3, 2, 3, 1]\n",
    "                        k1 = [1, 2, 3, 1, 2, 3]\n",
    "                        l1 = [1, 2, 3, 2, 3, 1]\n",
    "                        II1 = zeros(6, 6)\n",
    "                        for i2 in 1:6, j2 in 1:6\n",
    "                            II1[i2, j2] = (iC2[i1[i2], k1[j2]] * iC2[j1[i2], l1[j2]] + iC2[i1[i2], l1[j2]] * iC2[j1[i2], k1[j2]]) / 2\n",
    "                        end\n",
    "                        C1 = λ * iCiC1 + 2 * (μ - λ * log(J1)) * II1\n",
    "                        B1 = B[k*rowsOfB-(rowsOfB-1):k*rowsOfB, 1:pdim*numNodes]\n",
    "                        K1 += B1' * C1 * B1 * b * jacDet[k] * intWeights[k]\n",
    "                    end\n",
    "                    append!(I, nn2[Iidx[:]])\n",
    "                    append!(J, nn2[Jidx[:]])\n",
    "                    append!(V, K1[:])\n",
    "                end\n",
    "                push!(nn, nnet)\n",
    "            end\n",
    "        end\n",
    "    end\n",
    "    dof = problem.pdim * problem.non\n",
    "    K = sparse(I, J, V, dof, dof)\n",
    "    dropzeros!(K)\n",
    "    return K\n",
    "end"
   ]
  },
  {
   "cell_type": "code",
   "execution_count": 521,
   "id": "4ece681e",
   "metadata": {},
   "outputs": [
    {
     "data": {
      "text/plain": [
       "loadVectorNonLinear (generic function with 1 method)"
      ]
     },
     "metadata": {},
     "output_type": "display_data"
    }
   ],
   "source": [
    "function loadVectorNonLinear(problem, r)\n",
    "    gmsh.model.setCurrent(problem.name)\n",
    "    elemTypes, elemTags, elemNodeTags = gmsh.model.mesh.getElements(problem.dim, -1)\n",
    "    #lengthOfIJV = sum([(div(length(elemNodeTags[i]), length(elemTags[i])) * problem.dim)^2 * length(elemTags[i]) for i in 1:length(elemTags)])\n",
    "    #nn = []\n",
    "    #I = []\n",
    "    #J = []\n",
    "    #V = []\n",
    "    #V = convert(Vector{Float64}, V)\n",
    "    #sizehint!(I, lengthOfIJV)\n",
    "    #sizehint!(J, lengthOfIJV)\n",
    "    #sizehint!(V, lengthOfIJV)\n",
    "    f = zeros(problem.non * problem.pdim)\n",
    "\n",
    "    for ipg in 1:length(problem.material)\n",
    "        phName = problem.material[ipg].phName\n",
    "        E = problem.material[ipg].E\n",
    "        ν = problem.material[ipg].ν\n",
    "        dim = problem.dim\n",
    "        pdim = problem.pdim\n",
    "        if problem.dim == 3 && problem.type == :Solid\n",
    "            D = E / ((1 + ν) * (1 - 2ν)) * [1-ν ν ν 0 0 0;\n",
    "                ν 1-ν ν 0 0 0;\n",
    "                ν ν 1-ν 0 0 0;\n",
    "                0 0 0 (1-2ν)/2 0 0;\n",
    "                0 0 0 0 (1-2ν)/2 0;\n",
    "                0 0 0 0 0 (1-2ν)/2]\n",
    "\n",
    "            rowsOfB = 6\n",
    "            b = 1\n",
    "        elseif problem.dim == 2 && problem.type == :PlaneStress\n",
    "            D = E / (1 - ν^2) * [1 ν 0;\n",
    "                ν 1 0;\n",
    "                0 0 (1-ν)/2]\n",
    "            rowsOfB = 3\n",
    "            b = problem.thickness\n",
    "        elseif problem.dim == 2 && problem.type == :PlaneStrain\n",
    "            D = E / ((1 + ν) * (1 - 2ν)) * [1-ν ν 0;\n",
    "                ν 1-ν 0;\n",
    "                0 0 (1-2ν)/2]\n",
    "            rowsOfB = 3\n",
    "            b = 1\n",
    "        else\n",
    "            error(\"stiffnessMatrixSolid: dimension is $(problem.dim), problem type is $(problem.type).\")\n",
    "        end\n",
    "\n",
    "        dimTags = gmsh.model.getEntitiesForPhysicalName(phName)\n",
    "        for idm in 1:length(dimTags)\n",
    "            dimTag = dimTags[idm]\n",
    "            edim = dimTag[1]\n",
    "            etag = dimTag[2]\n",
    "            elemTypes, elemTags, elemNodeTags = gmsh.model.mesh.getElements(edim, etag)\n",
    "            for i in 1:length(elemTypes)\n",
    "                et = elemTypes[i]\n",
    "                elementName, dim, order, numNodes::Int64, localNodeCoord, numPrimaryNodes = gmsh.model.mesh.getElementProperties(et)\n",
    "                intPoints, intWeights = gmsh.model.mesh.getIntegrationPoints(et, \"Gauss\" * string(2order + 1))\n",
    "                numIntPoints = length(intWeights)\n",
    "                comp, fun, ori = gmsh.model.mesh.getBasisFunctions(et, intPoints, \"Lagrange\")\n",
    "                h = reshape(fun, :, numIntPoints)\n",
    "                comp, dfun, ori = gmsh.model.mesh.getBasisFunctions(et, intPoints, \"GradLagrange\")\n",
    "                ∇h = reshape(dfun, :, numIntPoints)\n",
    "                nnet = zeros(Int, length(elemTags[i]), numNodes)\n",
    "                invJac = zeros(3, 3numIntPoints)\n",
    "                Iidx = zeros(Int, numNodes * pdim, numNodes * pdim)\n",
    "                Jidx = zeros(Int, numNodes * pdim, numNodes * pdim)\n",
    "                for k in 1:numNodes*pdim, l in 1:numNodes*pdim\n",
    "                    Iidx[k, l] = l\n",
    "                    Jidx[k, l] = k\n",
    "                end\n",
    "                H = spzeros(9 * numIntPoints, 9 * numNodes)\n",
    "                sizehint!(H, 9 * numNodes * numIntPoints)\n",
    "                ∂h = zeros(dim, numNodes * numIntPoints)\n",
    "                B = zeros(rowsOfB * numIntPoints, pdim * numNodes)\n",
    "                ∂H = spzeros(9 * numIntPoints, pdim * numNodes)\n",
    "                f1 = zeros(pdim * numNodes)\n",
    "                nn2 = zeros(Int, pdim * numNodes)\n",
    "                nn9 = zeros(Int, 9 * numNodes)\n",
    "                sizehint!(∂H, 9 * numNodes * numIntPoints)\n",
    "                #for k in 1:numIntPoints, l in 1:numNodes\n",
    "                #    for kk in 1:3:9, ll in 1:3\n",
    "                #H[k*9-(9-kk)-1+ll, l*pdim-(pdim-ll)] = h[(k-1)*numNodes+l]\n",
    "                #    end\n",
    "                #end\n",
    "                for j in 1:length(elemTags[i])\n",
    "                    elem = elemTags[i][j]\n",
    "                    for k in 1:numNodes\n",
    "                        nnet[j, k] = elemNodeTags[i][(j-1)*numNodes+k]\n",
    "                    end\n",
    "                    for k in 1:pdim\n",
    "                        nn2[k:pdim:pdim*numNodes] = pdim * nnet[j, 1:numNodes] .- (pdim - k)\n",
    "                    end\n",
    "                    for k in 1:9\n",
    "                        nn9[k:9:9*numNodes] = 9 * nnet[j, 1:numNodes] .- (9 - k)\n",
    "                    end\n",
    "                    jac, jacDet, coord = gmsh.model.mesh.getJacobian(elem, intPoints)\n",
    "                    Jac = reshape(jac, 3, :)\n",
    "                    for k in 1:numIntPoints\n",
    "                        invJac[1:3, 3*k-2:3*k] = @inline inv(Jac[1:3, 3*k-2:3*k])'\n",
    "                    end\n",
    "                    ∂h .*= 0\n",
    "                    for k in 1:numIntPoints, l in 1:numNodes\n",
    "                        ∂h[1:dim, (k-1)*numNodes+l] .= invJac[1:dim, k*3-2:k*3-(3-dim)] * ∇h[l*3-2:l*3-(3-dim), k]\n",
    "                    end\n",
    "                    r1 = r[nn2]\n",
    "                    #display(\"nn2=$nn2\")\n",
    "                    #display(\"r1=$r1\")\n",
    "                    #S1 = S[nn9]\n",
    "                    B .*= 0\n",
    "                    ∂H .*= 0\n",
    "                    if dim == 2 && rowsOfB == 3\n",
    "                        for k in 1:numIntPoints\n",
    "                            for l in 1:numNodes\n",
    "                                B[k*rowsOfB-0, l*pdim-0] = B[k*rowsOfB-2, l*pdim-1] = ∂h[1, (k-1)*numNodes+l]\n",
    "                                B[k*rowsOfB-0, l*pdim-1] = B[k*rowsOfB-1, l*pdim-0] = ∂h[2, (k-1)*numNodes+l]\n",
    "                            end\n",
    "                        end\n",
    "                    elseif dim == 3 && rowsOfB == 6\n",
    "                        for k in 1:numIntPoints\n",
    "                            for l in 1:numNodes\n",
    "                                ∂H[k*9-(9-1), l*pdim-(pdim-1)] = ∂h[1, (k-1)*numNodes+l]\n",
    "                                ∂H[k*9-(9-2), l*pdim-(pdim-2)] = ∂h[1, (k-1)*numNodes+l]\n",
    "                                ∂H[k*9-(9-3), l*pdim-(pdim-3)] = ∂h[1, (k-1)*numNodes+l]\n",
    "                                ∂H[k*9-(9-4), l*pdim-(pdim-1)] = ∂h[2, (k-1)*numNodes+l]\n",
    "                                ∂H[k*9-(9-5), l*pdim-(pdim-2)] = ∂h[2, (k-1)*numNodes+l]\n",
    "                                ∂H[k*9-(9-6), l*pdim-(pdim-3)] = ∂h[2, (k-1)*numNodes+l]\n",
    "                                ∂H[k*9-(9-7), l*pdim-(pdim-1)] = ∂h[3, (k-1)*numNodes+l]\n",
    "                                ∂H[k*9-(9-8), l*pdim-(pdim-2)] = ∂h[3, (k-1)*numNodes+l]\n",
    "                                ∂H[k*9-(9-9), l*pdim-(pdim-3)] = ∂h[3, (k-1)*numNodes+l]\n",
    "                            end\n",
    "                            ∂H1 = ∂H[k*9-(9-1):k*9, 1:pdim*numNodes]\n",
    "                            F = ∂H1 * r1\n",
    "                            for l in 1:numNodes\n",
    "                                B[k*rowsOfB-5, l*pdim-2] = F[1] * ∂h[1, (k-1)*numNodes+l]\n",
    "                                B[k*rowsOfB-4, l*pdim-2] = F[4] * ∂h[2, (k-1)*numNodes+l]\n",
    "                                B[k*rowsOfB-3, l*pdim-2] = F[7] * ∂h[3, (k-1)*numNodes+l]\n",
    "                                B[k*rowsOfB-2, l*pdim-2] = (F[4] * ∂h[1, (k-1)*numNodes+l] + F[1] * ∂h[2, (k-1)*numNodes+l]) / 2\n",
    "                                B[k*rowsOfB-1, l*pdim-2] = (F[7] * ∂h[2, (k-1)*numNodes+l] + F[4] * ∂h[3, (k-1)*numNodes+l]) / 2\n",
    "                                B[k*rowsOfB-0, l*pdim-2] = (F[1] * ∂h[3, (k-1)*numNodes+l] + F[7] * ∂h[1, (k-1)*numNodes+l]) / 2\n",
    "                                B[k*rowsOfB-5, l*pdim-1] = F[2] * ∂h[1, (k-1)*numNodes+l]\n",
    "                                B[k*rowsOfB-4, l*pdim-1] = F[5] * ∂h[2, (k-1)*numNodes+l]\n",
    "                                B[k*rowsOfB-3, l*pdim-1] = F[8] * ∂h[3, (k-1)*numNodes+l]\n",
    "                                B[k*rowsOfB-2, l*pdim-1] = (F[5] * ∂h[1, (k-1)*numNodes+l] + F[2] * ∂h[2, (k-1)*numNodes+l]) / 2\n",
    "                                B[k*rowsOfB-1, l*pdim-1] = (F[8] * ∂h[2, (k-1)*numNodes+l] + F[5] * ∂h[3, (k-1)*numNodes+l]) / 2\n",
    "                                B[k*rowsOfB-0, l*pdim-1] = (F[2] * ∂h[3, (k-1)*numNodes+l] + F[8] * ∂h[1, (k-1)*numNodes+l]) / 2\n",
    "                                B[k*rowsOfB-5, l*pdim-0] = F[3] * ∂h[1, (k-1)*numNodes+l]\n",
    "                                B[k*rowsOfB-4, l*pdim-0] = F[6] * ∂h[2, (k-1)*numNodes+l]\n",
    "                                B[k*rowsOfB-3, l*pdim-0] = F[9] * ∂h[3, (k-1)*numNodes+l]\n",
    "                                B[k*rowsOfB-2, l*pdim-0] = (F[6] * ∂h[1, (k-1)*numNodes+l] + F[3] * ∂h[2, (k-1)*numNodes+l]) / 2\n",
    "                                B[k*rowsOfB-1, l*pdim-0] = (F[9] * ∂h[2, (k-1)*numNodes+l] + F[6] * ∂h[3, (k-1)*numNodes+l]) / 2\n",
    "                                B[k*rowsOfB-0, l*pdim-0] = (F[1] * ∂h[3, (k-1)*numNodes+l] + F[9] * ∂h[1, (k-1)*numNodes+l]) / 2\n",
    "                            end\n",
    "                        end\n",
    "                    else\n",
    "                        error(\"stiffnessMatrixLinear: rows of B is $rowsOfB, dimension of the problem is $dim.\")\n",
    "                    end\n",
    "                    f1 .*= 0\n",
    "                    for k in 1:numIntPoints\n",
    "                        Ex = 10\n",
    "                        νxy = 0.3\n",
    "                        λ = Ex * νxy / ((1 + νxy) * (1 - 2νxy))\n",
    "                        μ = Ex / (2 * (1 + νxy))\n",
    "                        I3 = [1 0 0; 0 1 0; 0 0 1]\n",
    "                        #H1 = H[k*9-(9-1):k*9, 1:9*numNodes]\n",
    "                        ∂H0 = ∂H[k*9-(9-1):k*9, 1:pdim*numNodes]\n",
    "                        F1 = ∂H0 * r1\n",
    "                        F2 = reshape(F1, 3, 3)\n",
    "                        #display(\"F2=$F2\")\n",
    "                        #J1 = det(F2)\n",
    "                        E = (F2' * F2 - I3) / 2\n",
    "                        #iC = inv(C)\n",
    "                        S2 = 2μ * E + λ * (E[1, 1] + E[2, 2] + E[3, 3]) * I3\n",
    "                        #S2 = [1 0 0; 0 0 0; 0 0 0]\n",
    "                        #if k == 3 && j == 1 && false\n",
    "                        #    display(\"S2=$S2\")\n",
    "                        #end\n",
    "                        #S2 = -I3\n",
    "                        #display(\"S2=$S2\")\n",
    "                        #S3 = reshape(S2, 9, 1)\n",
    "                        #H1 = H[k*9-(9-1):k*9, 1:9*numNodes]\n",
    "                        #S0 = H1 * S1\n",
    "                        #display(\"S: $(S2[[1, 5, 9, 4, 6, 3]])\")\n",
    "                        B1 = B[k*rowsOfB-(rowsOfB-1):k*rowsOfB, 1:pdim*numNodes]\n",
    "                        f1 += B1' * S2[[1, 5, 9, 4, 6, 3]] * b * jacDet[k] * intWeights[k]\n",
    "                    end\n",
    "                    #append!(I, nn2[Iidx[:]])\n",
    "                    #append!(J, nn2[Jidx[:]])\n",
    "                    #append!(V, K1[:])\n",
    "                    f[nn2] += f1\n",
    "                end\n",
    "                #push!(nn, nnet)\n",
    "            end\n",
    "        end\n",
    "    end\n",
    "    #dof = problem.pdim * problem.non\n",
    "    #K = sparse(I, J, V, dof, dof)\n",
    "    #dropzeros!(K)\n",
    "    return f\n",
    "end"
   ]
  },
  {
   "cell_type": "code",
   "execution_count": 522,
   "id": "ec43515c",
   "metadata": {},
   "outputs": [
    {
     "data": {
      "text/plain": [
       "followerLoadVector (generic function with 1 method)"
      ]
     },
     "metadata": {},
     "output_type": "display_data"
    }
   ],
   "source": [
    "function followerLoadVector(problem, r, loads)\n",
    "    gmsh.model.setCurrent(problem.name)\n",
    "    if !isa(loads, Vector)\n",
    "        error(\"loadVector: loads are not arranged in a vector. Put them in [...]\")\n",
    "    end\n",
    "    pdim = problem.pdim\n",
    "    DIM = problem.dim\n",
    "    b = problem.thickness\n",
    "    non = problem.non\n",
    "    dof = pdim * non\n",
    "    fp = zeros(dof)\n",
    "    ncoord2 = zeros(3 * problem.non)\n",
    "    for n in 1:length(loads)\n",
    "        name, fx, fy, fz = loads[n]\n",
    "        if pdim == 3\n",
    "            f = [.0, .0, .0]\n",
    "        elseif pdim == 2\n",
    "            f = [.0, .0]\n",
    "        elseif pdim == 1\n",
    "            f = [.0]\n",
    "        else\n",
    "            error(\"loadVector: dimension of the problem is $(problem.dim).\")\n",
    "        end\n",
    "        dimTags = gmsh.model.getEntitiesForPhysicalName(name)\n",
    "        for i ∈ 1:length(dimTags)\n",
    "            dimTag = dimTags[i]\n",
    "            dim = dimTag[1]\n",
    "            tag = dimTag[2]\n",
    "            elementTypes, elementTags, elemNodeTags = gmsh.model.mesh.getElements(dim, tag)\n",
    "            nodeTags::Vector{Int64}, ncoord, parametricCoord = gmsh.model.mesh.getNodes(dim, tag, true, false)\n",
    "            ncoord2[nodeTags*3 .- 2] = ncoord[1:3:length(ncoord)]\n",
    "            ncoord2[nodeTags*3 .- 1] = ncoord[2:3:length(ncoord)]\n",
    "            ncoord2[nodeTags*3 .- 0] = ncoord[3:3:length(ncoord)]\n",
    "            for ii in 1:length(elementTypes)\n",
    "                elementName, dim, order, numNodes::Int64, localNodeCoord, numPrimaryNodes = gmsh.model.mesh.getElementProperties(elementTypes[ii])\n",
    "                nnoe = reshape(elemNodeTags[ii], numNodes, :)'\n",
    "                intPoints, intWeights = gmsh.model.mesh.getIntegrationPoints(elementTypes[ii], \"Gauss\" * string(order+1))\n",
    "                numIntPoints = length(intWeights)\n",
    "                comp, fun, ori = gmsh.model.mesh.getBasisFunctions(elementTypes[ii], intPoints, \"Lagrange\")\n",
    "                h = reshape(fun, :, numIntPoints)\n",
    "                comp, dfun, ori = gmsh.model.mesh.getBasisFunctions(elementTypes[ii], intPoints, \"GradLagrange\")\n",
    "                ∇h = reshape(dfun, :, numIntPoints)\n",
    "                nnet = zeros(Int, length(elementTags[ii]), numNodes)\n",
    "                invJac = zeros(3, 3numIntPoints)\n",
    "                H = zeros(pdim * numIntPoints, pdim * numNodes)\n",
    "                for j in 1:numIntPoints\n",
    "                    for k in 1:numNodes\n",
    "                        for l in 1:pdim\n",
    "                            H[j*pdim-(pdim-l), k*pdim-(pdim-l)] = h[k, j]\n",
    "                        end\n",
    "                    end\n",
    "                end\n",
    "                f1 = zeros(pdim * numNodes)\n",
    "                nn2 = zeros(Int, pdim * numNodes)\n",
    "                ∂h = zeros(pdim, numNodes * numIntPoints)\n",
    "                ∂H = spzeros(9 * numIntPoints, pdim * numNodes)\n",
    "                sizehint!(∂H, 9 * numNodes)\n",
    "                for l in 1:length(elementTags[ii])\n",
    "                    elem = elementTags[ii][l]\n",
    "                    for k in 1:numNodes\n",
    "                        nnet[l, k] = elemNodeTags[ii][(l-1)*numNodes+k]\n",
    "                    end\n",
    "                    for k in 1:pdim\n",
    "                        nn2[k:pdim:pdim*numNodes] = pdim * nnoe[l, 1:numNodes] .- (pdim - k)\n",
    "                    end\n",
    "                    jac, jacDet, coord = gmsh.model.mesh.getJacobian(elem, intPoints)\n",
    "                    Jac = reshape(jac, 3, :)\n",
    "                    for k in 1:numIntPoints\n",
    "                        invJac[1:3, 3*k-2:3*k] = @inline inv(Jac[1:3, 3*k-2:3*k])'\n",
    "                    end\n",
    "                    f1 .*= 0\n",
    "                    ∂H .*= 0\n",
    "                    ∂h .*= 0\n",
    "                    for k in 1:numIntPoints, l in 1:numNodes\n",
    "                        ∂h[1:dim, (k-1)*numNodes+l] .= invJac[1:dim, k*3-2:k*3-(3-dim)] * ∇h[l*3-2:l*3-(3-dim), k]\n",
    "                    end\n",
    "                    r1 = r[nn2]\n",
    "                    display(\"r1=$r1\")\n",
    "                    for j in 1:numIntPoints\n",
    "                        if DIM == 3 && pdim == 3\n",
    "                            for l in 1:numNodes\n",
    "                                ∂H[j*9-(9-1), l*pdim-(pdim-1)] = ∂h[1, (j-1)*numNodes+l]\n",
    "                                ∂H[j*9-(9-2), l*pdim-(pdim-2)] = ∂h[1, (j-1)*numNodes+l]\n",
    "                                ∂H[j*9-(9-3), l*pdim-(pdim-3)] = ∂h[1, (j-1)*numNodes+l]\n",
    "                                ∂H[j*9-(9-4), l*pdim-(pdim-1)] = ∂h[2, (j-1)*numNodes+l]\n",
    "                                ∂H[j*9-(9-5), l*pdim-(pdim-2)] = ∂h[2, (j-1)*numNodes+l]\n",
    "                                ∂H[j*9-(9-6), l*pdim-(pdim-3)] = ∂h[2, (j-1)*numNodes+l]\n",
    "                                ∂H[j*9-(9-7), l*pdim-(pdim-1)] = ∂h[3, (j-1)*numNodes+l]\n",
    "                                ∂H[j*9-(9-8), l*pdim-(pdim-2)] = ∂h[3, (j-1)*numNodes+l]\n",
    "                                ∂H[j*9-(9-9), l*pdim-(pdim-3)] = ∂h[3, (j-1)*numNodes+l]\n",
    "                            end\n",
    "                        else\n",
    "                            error(\"nonlinearLoadVector: dim=$dim and pdim=$pdim is not yet implemented.\")\n",
    "                        end\n",
    "                        ∂H1 = ∂H[j*9-(9-1):j*9, 1:pdim*numNodes]\n",
    "                        F1 = ∂H1 * r1\n",
    "                        display(\"F1=$F1\")\n",
    "                        F1 = reshape(F1, 3, 3)\n",
    "                        display(\"F1=$F1\")\n",
    "                        x = h[:, j]' * ncoord2[nnet[l, :] * 3 .- 2]\n",
    "                        y = 0\n",
    "                        z = 0\n",
    "                        if isa(fx, Function) || isa(fy, Function) || isa(fz, Function)\n",
    "                            y = h[:, j]' * ncoord2[nnet[l, :] * 3 .- 1]\n",
    "                            z = h[:, j]' * ncoord2[nnet[l, :] * 3 .- 0]\n",
    "                        end\n",
    "                        if fz == 2im\n",
    "                            if isa(fx, Function)\n",
    "                                error(\"heatConvectionVector: h cannot be a function.\")\n",
    "                            end\n",
    "                            f[1] = isa(fy, Function) ? fx * fy(x, y, z) : fx * fy\n",
    "                        else\n",
    "                            f[1] = isa(fx, Function) ? fx(x, y, z) : fx\n",
    "                        end\n",
    "                        if pdim > 1\n",
    "                            f[2] = isa(fy, Function) ? fy(x, y, z) : fy\n",
    "                        end\n",
    "                        if pdim == 3\n",
    "                            f[3] = isa(fz, Function) ? fz(x, y, z) : fz\n",
    "                        end\n",
    "                        r = x\n",
    "                        H1 = H[j*pdim-(pdim-1):j*pdim, 1:pdim*numNodes] # H1[...] .= H[...] ????\n",
    "                        ############### NANSON ######## 3D ###################################\n",
    "                        if DIM == 3 && dim == 3\n",
    "                            Ja = jacDet[j]\n",
    "                        elseif DIM == 3 && dim == 2\n",
    "                            xy = Jac[1, 3*j-2] * Jac[2, 3*j-1] - Jac[2, 3*j-2] * Jac[1, 3*j-1]\n",
    "                            yz = Jac[2, 3*j-2] * Jac[3, 3*j-1] - Jac[3, 3*j-2] * Jac[2, 3*j-1]\n",
    "                            zx = Jac[3, 3*j-2] * Jac[1, 3*j-1] - Jac[1, 3*j-2] * Jac[3, 3*j-1]\n",
    "                            Ja = √(xy^2 + yz^2 + zx^2)\n",
    "                        elseif DIM == 3 && dim == 1\n",
    "                            Ja = √((Jac[1, 3*j-2])^2 + (Jac[2, 3*j-2])^2 + (Jac[3, 3*j-2])^2)\n",
    "                        elseif DIM == 3 && dim == 0\n",
    "                            Ja = 1\n",
    "                        ############ 2D #######################################################\n",
    "                        elseif DIM == 2 && dim == 2 && problem.type != :AxiSymmetric && problem.type != :AxiSymmetricHeatConduction\n",
    "                            Ja = jacDet[j] * b\n",
    "                        elseif DIM == 2 && dim == 2 && (problem.type == :AxiSymmetric || problem.type == :AxiSymmetricHeatConduction)\n",
    "                            Ja = 2π * jacDet[j] * r\n",
    "                        elseif DIM == 2 && dim == 1 && problem.type != :AxiSymmetric && problem.type != :AxiSymmetricHeatConduction\n",
    "                            Ja = √((Jac[1, 3*j-2])^2 + (Jac[2, 3*j-2])^2) * b\n",
    "                        elseif DIM == 2 && dim == 1 && (problem.type == :AxiSymmetric || problem.type == :AxiSymmetricHeatConduction)\n",
    "                            Ja = 2π * √((Jac[1, 3*j-2])^2 + (Jac[2, 3*j-2])^2) * r\n",
    "                        elseif DIM == 2 && dim == 0\n",
    "                            Ja = 1\n",
    "                        ############ 1D #######################################################\n",
    "                        else\n",
    "                            error(\"loadVector: dimension of the problem is $(problem.dim), dimension of load is $dim.\")\n",
    "                        end\n",
    "                        f1 += H1' * F1 * f * Ja * intWeights[j]\n",
    "                    end\n",
    "                    fp[nn2] += f1\n",
    "                end\n",
    "            end\n",
    "        end\n",
    "    end\n",
    "    return fp\n",
    "end\n",
    "\n"
   ]
  },
  {
   "cell_type": "code",
   "execution_count": 523,
   "id": "33177e41",
   "metadata": {},
   "outputs": [
    {
     "data": {
      "text/plain": [
       "deformationGradient (generic function with 1 method)"
      ]
     },
     "metadata": {},
     "output_type": "display_data"
    }
   ],
   "source": [
    "function deformationGradient(problem, r)\n",
    "    gmsh.model.setCurrent(problem.name)\n",
    "\n",
    "    type = :F\n",
    "    nsteps = size(r, 2)\n",
    "    F = []\n",
    "    numElem = Int[]\n",
    "    ncoord2 = zeros(3 * problem.non)\n",
    "    dim = problem.dim\n",
    "    pdim = problem.pdim\n",
    "    non = problem.non\n",
    "\n",
    "    for ipg in 1:length(problem.material)\n",
    "        phName = problem.material[ipg].phName\n",
    "        dim = problem.dim\n",
    "        pdim = problem.pdim\n",
    "        if problem.dim != 3 || problem.type != :Solid\n",
    "            error(\"deformationGradient: dimension is $(problem.dim), problem type is $(problem.type). (They must be 3 and :Solid.)\")\n",
    "        end\n",
    "\n",
    "        dimTags = gmsh.model.getEntitiesForPhysicalName(phName)\n",
    "        for idm in 1:length(dimTags)\n",
    "            dimTag = dimTags[idm]\n",
    "            edim = dimTag[1]\n",
    "            etag = dimTag[2]\n",
    "            elemTypes, elemTags, elemNodeTags = gmsh.model.mesh.getElements(edim, etag)\n",
    "            for i in 1:length(elemTypes)\n",
    "                et = elemTypes[i]\n",
    "                elementName, dim, order, numNodes::Int64, localNodeCoord, numPrimaryNodes = gmsh.model.mesh.getElementProperties(et)\n",
    "                nodeCoord = zeros(numNodes * 3)\n",
    "                for k in 1:dim, j = 1:numNodes\n",
    "                    nodeCoord[k+(j-1)*3] = localNodeCoord[k+(j-1)*dim]\n",
    "                end\n",
    "                comp, dfun, ori = gmsh.model.mesh.getBasisFunctions(et, nodeCoord, \"GradLagrange\")\n",
    "                ∇h = reshape(dfun, :, numNodes)\n",
    "                nnet = zeros(Int, length(elemTags[i]), numNodes)\n",
    "                invJac = zeros(3, 3numNodes)\n",
    "                ∂h = zeros(dim, numNodes * numNodes)\n",
    "                ∂H = spzeros(9 * numNodes, pdim * numNodes)\n",
    "                nn2 = zeros(Int, pdim * numNodes)\n",
    "                sizehint!(∂H, 9 * numNodes)\n",
    "                for j in 1:length(elemTags[i])\n",
    "                    elem = elemTags[i][j]\n",
    "                    for k in 1:numNodes\n",
    "                        nnet[j, k] = elemNodeTags[i][(j-1)*numNodes+k]\n",
    "                    end\n",
    "                    for k in 1:pdim\n",
    "                        nn2[k:pdim:pdim*numNodes] = pdim * nnet[j, 1:numNodes] .- (pdim - k)\n",
    "                    end\n",
    "                    jac, jacDet, coord = gmsh.model.mesh.getJacobian(elem, nodeCoord)\n",
    "                    Jac = reshape(jac, 3, :)\n",
    "                    for k in 1:numNodes\n",
    "                        invJac[1:3, 3*k-2:3*k] = @inline inv(Jac[1:3, 3*k-2:3*k])'\n",
    "                    end\n",
    "                    ∂h .*= 0\n",
    "                    for k in 1:numNodes, l in 1:numNodes\n",
    "                        ∂h[1:dim, (k-1)*numNodes+l] .= invJac[1:dim, k*3-2:k*3-(3-dim)] * ∇h[l*3-2:l*3-(3-dim), k]\n",
    "                    end\n",
    "                    r1 = r[nn2]\n",
    "                    ∂H .*= 0\n",
    "                    for k in 1:numNodes\n",
    "                        for l in 1:numNodes\n",
    "                            ∂H[k*9-(9-1), l*pdim-(pdim-1)] = ∂h[1, (k-1)*numNodes+l]\n",
    "                            ∂H[k*9-(9-2), l*pdim-(pdim-1)] = ∂h[2, (k-1)*numNodes+l]\n",
    "                            ∂H[k*9-(9-3), l*pdim-(pdim-1)] = ∂h[3, (k-1)*numNodes+l]\n",
    "                            ∂H[k*9-(9-4), l*pdim-(pdim-2)] = ∂h[1, (k-1)*numNodes+l]\n",
    "                            ∂H[k*9-(9-5), l*pdim-(pdim-2)] = ∂h[2, (k-1)*numNodes+l]\n",
    "                            ∂H[k*9-(9-6), l*pdim-(pdim-2)] = ∂h[3, (k-1)*numNodes+l]\n",
    "                            ∂H[k*9-(9-7), l*pdim-(pdim-3)] = ∂h[1, (k-1)*numNodes+l]\n",
    "                            ∂H[k*9-(9-8), l*pdim-(pdim-3)] = ∂h[2, (k-1)*numNodes+l]\n",
    "                            ∂H[k*9-(9-9), l*pdim-(pdim-3)] = ∂h[3, (k-1)*numNodes+l]\n",
    "                        end\n",
    "                    end\n",
    "                    push!(numElem, elem)\n",
    "                    F1 = zeros(9numNodes, nsteps)\n",
    "                    for k in 1:numNodes\n",
    "                        ∂H1 = ∂H[k*9-(9-1):k*9, 1:pdim*numNodes]\n",
    "                        for kk in 1:nsteps\n",
    "                            F0 = ∂H1 * r[nn2, kk]\n",
    "                            F1[(k-1)*9+1:k*9, kk] = [F0[1], F0[4], F0[7],\n",
    "                                F0[2], F0[5], F0[8],\n",
    "                                F0[3], F0[6], F0[9]]\n",
    "                        end\n",
    "                    end\n",
    "                    push!(F, F1)\n",
    "                end\n",
    "            end\n",
    "        end\n",
    "    end\n",
    "    sigma = FEM.TensorField(F, numElem, nsteps, type)\n",
    "    return sigma\n",
    "end"
   ]
  },
  {
   "cell_type": "code",
   "execution_count": 524,
   "id": "d3386bd0",
   "metadata": {},
   "outputs": [
    {
     "data": {
      "text/plain": [
       "log (generic function with 27 methods)"
      ]
     },
     "metadata": {},
     "output_type": "display_data"
    }
   ],
   "source": [
    "import Base.*\n",
    "function *(A::FEM.TensorField, B::FEM.TensorField)\n",
    "    if (A.type == :s || A.type == :e || A.type == :F) && (B.type == :s || B.type == :e || B.type == :F)\n",
    "        if length(A.A) != length(B.A)\n",
    "            error(\"*(A::TensoeField, B::TensorField): size of A=$(length(A.A)) != size of B=$(length(B.A))\")\n",
    "        end\n",
    "        nsteps = A.nsteps\n",
    "        nsteps2 = B.nsteps\n",
    "        if nsteps != nsteps2\n",
    "            error(\"*(A::TensoeField, B::TensorField): nsteps of A=$(A.nsteps) != nsteps of B=$(B.nsteps)\")\n",
    "        end\n",
    "        C = []\n",
    "        for i in 1:length(A.A)\n",
    "            n = length(A.A[i]) ÷ 9\n",
    "            m = length(B.A[i]) ÷ 9\n",
    "            if n != m\n",
    "                error(\"*(A::TensoeField, B::TensorField): size of A.A[$i]=$(9n) != size of B.A[$j]=$(9m)\")\n",
    "            end\n",
    "            D = zeros(9n, nsteps)\n",
    "            for j in 1:n\n",
    "                for k in 1:nsteps\n",
    "                    D[9j-8:9j, k] = reshape(reshape(A.A[i][9j-8:9j, k], 3, 3) * reshape(B.A[i][9j-8:9j, k], 3, 3), 9, 1)\n",
    "                end\n",
    "            end\n",
    "            push!(C, D)\n",
    "        end\n",
    "        return FEM.TensorField(C, A.numElem, A.nsteps, :e)\n",
    "    else\n",
    "        error(\"*(A::TensorField, B::TensorField): TensorField type ($(A.type) or $(B.type)) is not yet implemented.\")\n",
    "    end\n",
    "end\n",
    "\n",
    "import Base.transpose\n",
    "function transpose(A::FEM.TensorField)\n",
    "    if A.type == :s || A.type == :e || A.type == :F\n",
    "        nsteps = A.nsteps\n",
    "        C = []\n",
    "        for i in 1:length(A.A)\n",
    "            n = length(A.A[i]) ÷ 9\n",
    "            D = zeros(9n, nsteps)\n",
    "            for j in 1:n\n",
    "                for k in 1:nsteps\n",
    "                    D[9j-8:9j, k] = reshape(transpose(reshape(A.A[i][9j-8:9j, k], 3, 3)), 9, 1)\n",
    "                end\n",
    "            end\n",
    "            push!(C, D)\n",
    "        end\n",
    "        return FEM.TensorField(C, A.numElem, A.nsteps, :e)\n",
    "    else\n",
    "        error(\"transpose(A::TensorField): TensorField type ($(A.type)) is not yet implemented.\")\n",
    "    end\n",
    "end\n",
    "\n",
    "import Base.adjoint\n",
    "function adjoint(A::FEM.TensorField)\n",
    "    if A.type == :s || A.type == :e || A.type == :F\n",
    "        nsteps = A.nsteps\n",
    "        C = []\n",
    "        for i in 1:length(A.A)\n",
    "            n = length(A.A[i]) ÷ 9\n",
    "            D = zeros(9n, nsteps)\n",
    "            for j in 1:n\n",
    "                for k in 1:nsteps\n",
    "                    D[9j-8:9j, k] = reshape(adjoint(reshape(A.A[i][9j-8:9j, k], 3, 3)), 9, 1)\n",
    "                end\n",
    "            end\n",
    "            push!(C, D)\n",
    "        end\n",
    "        return FEM.TensorField(C, A.numElem, A.nsteps, :e)\n",
    "    else\n",
    "        error(\"adjoint(A::TensorField): TensorField type ($(A.type)) is not yet implemented.\")\n",
    "    end\n",
    "end\n",
    "\n",
    "function unit(A::FEM.TensorField)\n",
    "    if A.type == :s || A.type == :e || A.type == :F\n",
    "        nsteps = A.nsteps\n",
    "        C = []\n",
    "        for i in 1:length(A.A)\n",
    "            n = length(A.A[i]) ÷ 9\n",
    "            D = zeros(9n, nsteps)\n",
    "            for j in 1:n\n",
    "                for k in 1:nsteps\n",
    "                    D[9j-8:9j, k] = reshape([1 0 0; 0 1 0; 0 0 1], 9, 1)\n",
    "                end\n",
    "            end\n",
    "            push!(C, D)\n",
    "        end\n",
    "        return FEM.TensorField(C, A.numElem, A.nsteps, :e)\n",
    "    else\n",
    "        error(\"unit(A::TensorField): TensorField type ($(A.type) is not yet implemented.\")\n",
    "    end\n",
    "end\n",
    "\n",
    "function traceI(A::FEM.TensorField)\n",
    "    if A.type == :s || A.type == :e || A.type == :F\n",
    "        nsteps = A.nsteps\n",
    "        C = []\n",
    "        for i in 1:length(A.A)\n",
    "            n = length(A.A[i]) ÷ 9\n",
    "            D = zeros(9n, nsteps)\n",
    "            for j in 1:n\n",
    "                for k in 1:nsteps\n",
    "                    trace = A.A[i][9j-8, k] + A.A[i][9j-4, k] + A.A[i][9j, k]\n",
    "                    D[9j-8:9j, k] = reshape([trace 0 0; 0 trace 0; 0 0 trace], 9, 1)\n",
    "                end\n",
    "            end\n",
    "            push!(C, D)\n",
    "        end\n",
    "        return FEM.TensorField(C, A.numElem, A.nsteps, :e)\n",
    "    else\n",
    "        error(\"traceI(A::TensorField): TensorField type ($(A.type) is not yet implemented.\")\n",
    "    end\n",
    "end\n",
    "\n",
    "function detI(A::FEM.TensorField)\n",
    "    if A.type == :s || A.type == :e || A.type == :F\n",
    "        nsteps = A.nsteps\n",
    "        C = []\n",
    "        for i in 1:length(A.A)\n",
    "            n = length(A.A[i]) ÷ 9\n",
    "            D = zeros(9n, nsteps)\n",
    "            for j in 1:n\n",
    "                for k in 1:nsteps\n",
    "                    d = det(reshape(A.A[i][9j-8:9j, k], 3, 3))\n",
    "                    D[9j-8:9j, k] = reshape([d 0 0; 0 d 0; 0 0 d], 9, 1)\n",
    "                end\n",
    "            end\n",
    "            push!(C, D)\n",
    "        end\n",
    "        return FEM.TensorField(C, A.numElem, A.nsteps, :e)\n",
    "    else\n",
    "        error(\"detI(A::TensorField): TensorField type ($(A.type) is not yet implemented.\")\n",
    "    end\n",
    "end\n",
    "\n",
    "import Base.+\n",
    "function +(A::FEM.TensorField, B::FEM.TensorField)\n",
    "    if (A.type == :s || A.type == :e || A.type == :F) && (B.type == :s || B.type == :e || B.type == :F)\n",
    "        if length(A.A) != length(B.A)\n",
    "            error(\"+(A::TensoeField, B::TensorField): size of A=$(length(A.A)) != size of B=$(length(B.A))\")\n",
    "        end\n",
    "        nsteps = A.nsteps\n",
    "        nsteps2 = B.nsteps\n",
    "        if nsteps != nsteps2\n",
    "            error(\"*(A::TensoeField, B::TensorField): nsteps of A=$(A.nsteps) != nsteps of B=$(B.nsteps)\")\n",
    "        end\n",
    "        C = []\n",
    "        for i in 1:length(A.A)\n",
    "            n = length(A.A[i]) ÷ 9\n",
    "            m = length(B.A[i]) ÷ 9\n",
    "            if n != m\n",
    "                error(\"+(A::TensoeField, B::TensorField): size of A.A[$i]=$(9n) != size of B.A[$j]=$(9m)\")\n",
    "            end\n",
    "            D = A.A[i] + B.A[i]\n",
    "            push!(C, D)\n",
    "        end\n",
    "        return FEM.TensorField(C, A.numElem, A.nsteps, :e)\n",
    "    else\n",
    "        error(\"+(A::TensorField, B::TensorField): TensorField type ($(A.type) or $(B.type)) is not yet implemented.\")\n",
    "    end\n",
    "end\n",
    "\n",
    "import Base.-\n",
    "function -(A::FEM.TensorField, B::FEM.TensorField)\n",
    "    if (A.type == :s || A.type == :e || A.type == :F) && (B.type == :s || B.type == :e || B.type == :F)\n",
    "        if length(A.A) != length(B.A)\n",
    "            error(\"-(A::TensoeField, B::TensorField): size of A=$(length(A.A)) != size of B=$(length(B.A))\")\n",
    "        end\n",
    "        nsteps = A.nsteps\n",
    "        nsteps2 = B.nsteps\n",
    "        if nsteps != nsteps2\n",
    "            error(\"*(A::TensoeField, B::TensorField): nsteps of A=$(A.nsteps) != nsteps of B=$(B.nsteps)\")\n",
    "        end\n",
    "        C = []\n",
    "        for i in 1:length(A.A)\n",
    "            n = length(A.A[i]) ÷ 9\n",
    "            m = length(B.A[i]) ÷ 9\n",
    "            if n != m\n",
    "                error(\"-(A::TensoeField, B::TensorField): size of A.A[$i]=$(9n) != size of B.A[$j]=$(9m)\")\n",
    "            end\n",
    "            D = A.A[i] - B.A[i]\n",
    "            push!(C, D)\n",
    "        end\n",
    "        return FEM.TensorField(C, A.numElem, A.nsteps, :e)\n",
    "    else\n",
    "        error(\"-(A::TensorField, B::TensorField): TensorField type ($(A.type) or $(B.type)) is not yet implemented.\")\n",
    "    end\n",
    "end\n",
    "\n",
    "function *(A::FEM.TensorField, b)\n",
    "    if A.type == :s || A.type == :e || A.type == :F\n",
    "        nsteps = A.nsteps\n",
    "        C = []\n",
    "        for i in 1:length(A.A)\n",
    "            D = A.A[i] * b\n",
    "            push!(C, D)\n",
    "        end\n",
    "        return FEM.TensorField(C, A.numElem, A.nsteps, :e)\n",
    "    else\n",
    "        error(\"*(A::TensorField, b): TensorField type ($(A.type) or $(B.type)) is not yet implemented.\")\n",
    "    end\n",
    "end\n",
    "\n",
    "function *(b, A::FEM.TensorField)\n",
    "    if A.type == :s || A.type == :e || A.type == :F\n",
    "        nsteps = A.nsteps\n",
    "        C = []\n",
    "        for i in 1:length(A.A)\n",
    "            D = A.A[i] * b\n",
    "            push!(C, D)\n",
    "        end\n",
    "        return FEM.TensorField(C, A.numElem, A.nsteps, :e)\n",
    "    else\n",
    "        error(\"*(A::TensorField, b): TensorField type ($(A.type) or $(B.type)) is not yet implemented.\")\n",
    "    end\n",
    "end\n",
    "\n",
    "import Base./\n",
    "function /(A::FEM.TensorField, b)\n",
    "    if A.type == :s || A.type == :e || A.type == :F\n",
    "        nsteps = A.nsteps\n",
    "        C = []\n",
    "        for i in 1:length(A.A)\n",
    "            D = A.A[i] / b\n",
    "            push!(C, D)\n",
    "        end\n",
    "        return FEM.TensorField(C, A.numElem, A.nsteps, :e)\n",
    "    else\n",
    "        error(\"/(A::TensorField, b): TensorField type ($(A.type) or $(B.type)) is not yet implemented.\")\n",
    "    end\n",
    "end\n",
    "\n",
    "import Base.inv\n",
    "function inv(A::FEM.TensorField)\n",
    "    if A.type == :s || A.type == :e || A.type == :F\n",
    "        nsteps = A.nsteps\n",
    "        C = []\n",
    "        for i in 1:length(A.A)\n",
    "            n = length(A.A[i]) ÷ 9\n",
    "            D = zeros(9n, nsteps)\n",
    "            for j in 1:n\n",
    "                for k in 1:nsteps\n",
    "                    D[9j-8:9j, k] = reshape(inv(reshape(A.A[i][9j-8:9j, k], 3, 3)), 9, 1)\n",
    "                end\n",
    "            end\n",
    "            push!(C, D)\n",
    "        end\n",
    "        return FEM.TensorField(C, A.numElem, A.nsteps, :e)\n",
    "    else\n",
    "        error(\"inv(A::TensorField): TensorField type ($(A.type)) is not yet implemented.\")\n",
    "    end\n",
    "end\n",
    "\n",
    "import Base.sqrt\n",
    "function sqrt(A::FEM.TensorField)\n",
    "    if A.type == :s || A.type == :e || A.type == :F\n",
    "        nsteps = A.nsteps\n",
    "        C = []\n",
    "        for i in 1:length(A.A)\n",
    "            n = length(A.A[i]) ÷ 9\n",
    "            D = zeros(9n, nsteps)\n",
    "            for j in 1:n\n",
    "                for k in 1:nsteps\n",
    "                    D[9j-8:9j, k] = reshape(sqrt(reshape(A.A[i][9j-8:9j, k], 3, 3)), 9, 1)\n",
    "                end\n",
    "            end\n",
    "            push!(C, D)\n",
    "        end\n",
    "        return FEM.TensorField(C, A.numElem, A.nsteps, :e)\n",
    "    else\n",
    "        error(\"sqrt(A::TensorField): TensorField type ($(A.type)) is not yet implemented.\")\n",
    "    end\n",
    "end\n",
    "\n",
    "import Base.log\n",
    "function log(A::FEM.TensorField)\n",
    "    if A.type == :s || A.type == :e || A.type == :F\n",
    "        nsteps = A.nsteps\n",
    "        C = []\n",
    "        for i in 1:length(A.A)\n",
    "            n = length(A.A[i]) ÷ 9\n",
    "            D = zeros(9n, nsteps)\n",
    "            for j in 1:n\n",
    "                for k in 1:nsteps\n",
    "                    D[9j-8:9j, k] = reshape(log(reshape(A.A[i][9j-8:9j, k], 3, 3)), 9, 1)\n",
    "                end\n",
    "            end\n",
    "            push!(C, D)\n",
    "        end\n",
    "        return FEM.TensorField(C, A.numElem, A.nsteps, :e)\n",
    "    else\n",
    "        error(\"log(A::TensorField): TensorField type ($(A.type)) is not yet implemented.\")\n",
    "    end\n",
    "end\n"
   ]
  },
  {
   "cell_type": "code",
   "execution_count": 525,
   "id": "fa18250b",
   "metadata": {},
   "outputs": [
    {
     "name": "stdout",
     "output_type": "stream",
     "text": [
      "Info    : Reading 'body2.geo'...\n",
      "Info    : Meshing 1D...                                                                                                                       \n",
      "Info    : [  0%] Meshing curve 1 (Line)\n",
      "Info    : [ 10%] Meshing curve 2 (Line)\n",
      "Info    : [ 20%] Meshing curve 3 (Line)\n",
      "Info    : [ 30%] Meshing curve 4 (Line)\n",
      "Info    : [ 40%] Meshing curve 5 (Line)\n",
      "Info    : [ 50%] Meshing curve 6 (Line)\n",
      "Info    : [ 60%] Meshing curve 7 (Line)\n",
      "Info    : [ 60%] Meshing curve 8 (Line)\n",
      "Info    : [ 70%] Meshing curve 9 (Line)\n",
      "Info    : [ 80%] Meshing curve 10 (Line)\n",
      "Info    : [ 90%] Meshing curve 11 (Line)\n",
      "Info    : [100%] Meshing curve 12 (Line)\n",
      "Info    : Done meshing 1D (Wall 0.0010128s, CPU 0.001013s)\n",
      "Info    : Meshing 2D...\n",
      "Info    : [  0%] Meshing surface 1 (Transfinite)\n",
      "Info    : [ 20%] Meshing surface 2 (Transfinite)\n",
      "Info    : [ 40%] Meshing surface 3 (Transfinite)\n",
      "Info    : [ 60%] Meshing surface 4 (Transfinite)\n",
      "Info    : [ 70%] Meshing surface 5 (Transfinite)\n",
      "Info    : [ 90%] Meshing surface 6 (Transfinite)\n",
      "Info    : Done meshing 2D (Wall 0.000246982s, CPU 0.000246s)\n",
      "Info    : Meshing 3D...\n",
      "Info    : Meshing volume 1 (Transfinite)\n",
      "Info    : Done meshing 3D (Wall 0.000486237s, CPU 0.000485s)\n",
      "Info    : Optimizing mesh...\n",
      "Info    : Done optimizing mesh (Wall 5.449e-06s, CPU 5e-06s)\n",
      "Info    : Meshing order 2 (curvilinear on)...\n",
      "Info    : [  0%] Meshing curve 1 order 2\n",
      "Info    : [ 10%] Meshing curve 2 order 2\n",
      "Info    : [ 20%] Meshing curve 3 order 2\n",
      "Info    : [ 20%] Meshing curve 4 order 2\n",
      "Info    : [ 30%] Meshing curve 5 order 2\n",
      "Info    : [ 30%] Meshing curve 6 order 2\n",
      "Info    : [ 40%] Meshing curve 7 order 2\n",
      "Info    : [ 40%] Meshing curve 8 order 2\n",
      "Info    : [ 50%] Meshing curve 9 order 2\n",
      "Info    : [ 50%] Meshing curve 10 order 2\n",
      "Info    : [ 60%] Meshing curve 11 order 2\n",
      "Info    : [ 60%] Meshing curve 12 order 2\n",
      "Info    : [ 70%] Meshing surface 1 order 2\n",
      "Info    : [ 70%] Meshing surface 2 order 2\n",
      "Info    : [ 80%] Meshing surface 3 order 2\n",
      "Info    : [ 80%] Meshing surface 4 order 2\n",
      "Info    : [ 90%] Meshing surface 5 order 2\n",
      "Info    : [ 90%] Meshing surface 6 order 2\n",
      "Info    : [100%] Meshing volume 1 order 2\n",
      "Info    : Done meshing order 2 (Wall 0.00473671s, CPU 0.003167s)\n",
      "Info    : 729 nodes 216 elements\n",
      "Info    : Done reading 'body2.geo'\n"
     ]
    },
    {
     "name": "stderr",
     "output_type": "stream",
     "text": [
      "Warning : Boolean fragments skipped - too few arguments\n"
     ]
    }
   ],
   "source": [
    "gmsh.open(\"body2.geo\")"
   ]
  },
  {
   "cell_type": "code",
   "execution_count": 526,
   "id": "33ef6d8f",
   "metadata": {},
   "outputs": [
    {
     "data": {
      "text/plain": [
       "2"
      ]
     },
     "metadata": {},
     "output_type": "display_data"
    }
   ],
   "source": [
    "λ = 1\n",
    "μ = 2"
   ]
  },
  {
   "cell_type": "code",
   "execution_count": 527,
   "id": "936f1fab",
   "metadata": {},
   "outputs": [
    {
     "name": "stdout",
     "output_type": "stream",
     "text": [
      "Info    : RCMK renumbering...\n",
      "Info    : Done RCMK renumbering (bandwidth is now 386)\n"
     ]
    },
    {
     "data": {
      "text/plain": [
       "LowLevelFEM.Problem(\"body2\", :Solid, 3, 3, LowLevelFEM.Material[LowLevelFEM.Material(\"body\", 10.0, 0.3, 7.85e-9, 45.0, 4.2e8, 1.2e-5)], 1.0, 729)"
      ]
     },
     "metadata": {},
     "output_type": "display_data"
    }
   ],
   "source": [
    "#mat = FEM.material(\"body\", E=μ * (3λ + 2μ) / (λ + μ), ν=λ / 2 / (λ + μ))\n",
    "mat = FEM.material(\"body\", E=10, ν=0.3)\n",
    "problem = FEM.Problem([mat])"
   ]
  },
  {
   "cell_type": "code",
   "execution_count": 528,
   "id": "c2a10dc9",
   "metadata": {},
   "outputs": [],
   "source": [
    "fx(x, y, z) = 1000 * (y - 0.5)\n",
    "supp1 = FEM.displacementConstraint(\"left\", ux=0, uy=0, uz=0)\n",
    "supp2 = FEM.displacementConstraint(\"bottom\", uy=0)\n",
    "supp3 = FEM.displacementConstraint(\"front\", uz=0)\n",
    "traction = FEM.load(\"right\", fx=10)\n",
    "traction2 = FEM.load(\"top\", fy=-1)\n",
    "traction3 = FEM.load(\"rear\", fz=1)\n",
    "bodyforce = FEM.load(\"body\", fx=1)\n",
    "\n",
    "q = FEM.solveDisplacement(problem, [traction, traction2, traction3], [supp1, supp2, supp3])\n",
    "S = FEM.solveStress(problem, q)\n",
    "S = FEM.elementsToNodes(problem, S);"
   ]
  },
  {
   "cell_type": "code",
   "execution_count": 529,
   "id": "d594b760",
   "metadata": {},
   "outputs": [
    {
     "data": {
      "text/plain": [
       "0"
      ]
     },
     "metadata": {},
     "output_type": "display_data"
    }
   ],
   "source": [
    "r0 = nodePositionVector(problem)\n",
    "xx(x, y, z) = 1.1x\n",
    "yy(x, y, z) = y\n",
    "zz(x, y, z) = z\n",
    "fld0 = FEM.field(\"body\", fx=xx, fy=yy, fz=zz)\n",
    "r1 = FEM.vectorField(problem, [fld0])\n",
    "FEM.showDoFResults(problem, r1 - r0, :vector)"
   ]
  },
  {
   "cell_type": "code",
   "execution_count": 530,
   "id": "abd207f7",
   "metadata": {},
   "outputs": [
    {
     "data": {
      "text/plain": [
       "1"
      ]
     },
     "metadata": {},
     "output_type": "display_data"
    }
   ],
   "source": [
    "fnl0 = loadVectorNonLinear(problem, r0)\n",
    "FEM.showDoFResults(problem, fnl0, :vector)"
   ]
  },
  {
   "cell_type": "code",
   "execution_count": 531,
   "id": "d5e69765",
   "metadata": {},
   "outputs": [
    {
     "data": {
      "text/plain": [
       "2"
      ]
     },
     "metadata": {},
     "output_type": "display_data"
    }
   ],
   "source": [
    "fnl1 = loadVectorNonLinear(problem, r1)\n",
    "FEM.showDoFResults(problem, fnl1, :vector)"
   ]
  },
  {
   "cell_type": "code",
   "execution_count": 532,
   "id": "3ac709cc",
   "metadata": {},
   "outputs": [],
   "source": [
    "#fnl0 = followerLoadVector(problem, r, [traction])"
   ]
  },
  {
   "cell_type": "code",
   "execution_count": 533,
   "id": "81abd98e",
   "metadata": {},
   "outputs": [
    {
     "data": {
      "text/plain": [
       "2187-element Vector{Float64}:\n",
       " 0.0\n",
       " 0.0\n",
       " 0.0\n",
       " 0.0\n",
       " 0.0\n",
       " 0.0\n",
       " 0.0\n",
       " 0.0\n",
       " 0.0\n",
       " 0.0\n",
       " ⋮\n",
       " 0.0\n",
       " 0.0\n",
       " 0.0\n",
       " 0.0\n",
       " 0.0\n",
       " 0.0\n",
       " 0.0\n",
       " 0.0\n",
       " 0.0"
      ]
     },
     "metadata": {},
     "output_type": "display_data"
    }
   ],
   "source": [
    "Frigth = FEM.load(\"right\", fx=1)\n",
    "f0 = FEM.loadVector(problem, [Frigth])"
   ]
  },
  {
   "cell_type": "code",
   "execution_count": 534,
   "id": "5ff50776",
   "metadata": {},
   "outputs": [
    {
     "data": {
      "text/plain": [
       "3"
      ]
     },
     "metadata": {},
     "output_type": "display_data"
    }
   ],
   "source": [
    "FEM.showDoFResults(problem, f0 - fnl1, :vector)"
   ]
  },
  {
   "cell_type": "code",
   "execution_count": 535,
   "id": "a8263dce",
   "metadata": {},
   "outputs": [
    {
     "data": {
      "text/plain": [
       "2187×2187 SparseMatrixCSC{Float64, Int64} with 107811 stored entries:\n",
       "⎡⣿⣿⡟⢚⣿⣿⣿⣿⠓⠘⢻⡿⠚⣿⡕⢚⣗⣨⣿⠿⣽⣿⣿⢒⡀⣭⢺⠒⠀⠀⡄⢠⠗⠳⢨⡅⣷⠿⢬⡗⎤\n",
       "⎢⣻⢉⣿⣿⣿⣏⠁⢨⣿⠿⢿⣃⣽⢻⢰⣾⣯⣭⣿⠛⠲⣿⢿⣭⢡⡍⣾⡆⠛⠀⠀⠶⠆⠛⠒⠰⠶⠞⠒⠶⎥\n",
       "⎢⣿⣿⡿⢿⣿⣿⣯⣾⠟⠈⢿⣭⠉⣿⡷⢾⣯⣼⢿⣉⣶⣿⣷⢩⡄⣿⢺⣧⢠⡄⣤⢠⣭⢩⣴⡶⣶⣏⣰⡶⎥\n",
       "⎢⣿⣿⡁⣀⣫⣿⢿⣷⣀⡀⢸⣿⣀⡿⡇⢈⣉⣉⣱⣦⣤⣻⣿⣘⢃⡛⣘⠿⣸⢇⣟⣸⡿⢸⢶⡆⡶⣦⣤⡄⎥\n",
       "⎢⣙⠀⣿⡟⡛⠁⠀⠸⣿⣿⣽⡅⢿⣿⠘⣿⠛⠛⢛⣉⣉⢿⣯⠿⠸⠇⣿⡇⣿⢸⣿⣿⡇⣭⣭⢨⣭⣍⣉⡉⎥\n",
       "⎢⣿⡶⠿⢳⡟⣷⣶⣶⠗⠿⢿⣷⣾⠟⠀⢻⣶⠀⢸⡿⠙⣿⣿⣖⠀⠀⠀⣶⣶⠈⠈⠉⣷⡿⠉⠈⠛⣿⠉⠛⎥\n",
       "⎢⣾⣤⣷⣛⣧⣤⣤⡼⣿⣷⣾⠟⠿⣧⣤⣜⡟⢠⣼⠷⣤⣿⣧⠿⠀⣤⣤⡜⠿⠀⣤⣤⡝⠷⢠⣤⣤⡻⢠⣤⎥\n",
       "⎢⣱⢉⣰⣶⣹⣏⡉⢉⣶⣤⣤⣀⣀⢿⢿⣷⣇⣸⣿⠀⢻⣿⣿⣀⣀⡹⣿⡇⠀⠀⠻⣾⡆⠀⠈⢿⣿⡄⠸⣿⎥\n",
       "⎢⡙⣹⡏⣿⣋⣿⡇⢸⣿⠀⠘⠛⠛⣉⣉⣹⣿⣿⡍⠀⠀⣿⠸⢿⣿⣿⣭⡁⠀⠀⠀⠀⠀⠀⠀⠀⠀⠀⠀⠀⎥\n",
       "⎢⣿⡟⣿⠛⡟⢳⠱⣾⡟⢰⣶⡶⢶⡟⠛⠛⠃⠉⢻⣶⣖⠛⣖⠀⠈⠉⠛⠃⠀⠀⠀⠀⣶⣶⣶⣒⠒⣶⣶⡒⎥\n",
       "⎢⣷⣿⣼⣦⣼⣿⣤⣻⣧⣜⣷⣤⣤⣿⣿⣶⣤⣤⣼⠙⠻⣦⣿⣤⣤⣤⣤⣤⣤⣤⣤⣤⣀⣉⣛⣻⣿⠟⠻⠿⎥\n",
       "⎢⢻⢛⡟⣷⡝⣛⣛⢻⣯⡟⢻⢿⣭⡟⠛⢻⣶⣆⠘⠙⠛⣿⢻⣶⣿⣍⠉⣻⣿⣿⡛⠛⠋⠙⠛⠛⠛⠛⠛⠛⎥\n",
       "⎢⡄⣬⡅⠶⣤⣭⣭⠰⠶⠆⠀⠀⠀⣤⣄⡸⣿⣿⡆⠀⠀⣿⡟⢿⣿⣿⣷⡝⢿⣿⣿⣦⠀⠀⠀⠀⠀⠀⠀⠀⎥\n",
       "⎢⢺⠒⠺⠿⠾⣶⣶⡜⠿⠿⢠⣤⣀⠿⠿⠿⠇⠻⠿⠀⠀⣿⣧⣠⣝⠿⠿⣧⣠⣝⠿⠿⣧⣠⡄⠀⠀⠀⠀⠀⎥\n",
       "⎢⠀⠀⠛⠀⠀⠶⠶⢞⣛⣛⡘⠛⠛⠃⠀⠀⠀⠀⠀⠀⠀⣿⣿⣿⣿⣷⣄⢾⣿⣿⣷⣄⢿⣿⣿⣦⡀⠀⠀⠀⎥\n",
       "⎢⠀⣉⢠⡄⠀⣛⣛⣹⣿⣿⡆⠀⠀⣿⣻⣦⠀⠀⠀⠀⠀⣿⣿⠈⠻⣿⣿⡇⠙⢿⣿⣿⡆⠙⢿⣿⣿⡄⠀⠀⎥\n",
       "⎢⢽⡁⣬⠁⡇⣛⣛⣋⡍⣭⣽⡿⢷⡍⠈⠉⠀⠀⢸⣿⡄⢸⣏⠀⠀⠀⠉⣻⣿⣷⣌⠉⣿⣿⣷⣉⠉⣿⣧⠀⎥\n",
       "⎢⠆⠶⢘⡀⢰⡿⠸⠷⡃⣛⡃⠀⠀⣶⣦⣄⠀⠀⢸⢻⣿⣸⣿⠀⠀⠀⠀⠉⠻⣿⣿⣷⡝⢻⣿⣿⣷⣻⣿⣧⎥\n",
       "⎢⣽⡟⣸⠇⡼⢿⠸⣯⡇⢿⣿⣤⣤⡻⠛⠿⠀⠀⢸⣤⣿⠟⣿⠀⠀⠀⠀⠀⠀⠈⠛⠿⣧⣤⣽⣻⠿⣧⣽⡿⎥\n",
       "⎣⢦⠷⢸⡄⢰⡾⠀⠿⡇⠸⣧⠀⠀⣶⣶⣦⠀⠀⢸⠻⣿⡆⣿⠀⠀⠀⠀⠀⠀⠀⠀⠀⠉⠛⠿⣿⣷⡿⢿⣷⎦"
      ]
     },
     "metadata": {},
     "output_type": "display_data"
    }
   ],
   "source": [
    "stiffnessMatrixNonLinear(problem, r1)"
   ]
  },
  {
   "cell_type": "code",
   "execution_count": 536,
   "id": "53d20304",
   "metadata": {},
   "outputs": [
    {
     "data": {
      "text/plain": [
       "729×3 adjoint(::Matrix{Float64}) with eltype Float64:\n",
       " 0.0    0.0    1.0\n",
       " 0.0    0.0    0.0\n",
       " 0.0    1.0    1.0\n",
       " 0.0    1.0    0.0\n",
       " 1.0    0.0    1.0\n",
       " 1.0    0.0    0.0\n",
       " 1.0    1.0    1.0\n",
       " 1.0    1.0    0.0\n",
       " 0.0    0.0    0.25\n",
       " 0.0    0.0    0.5\n",
       " ⋮             \n",
       " 0.875  0.75   0.875\n",
       " 0.875  0.625  0.875\n",
       " 0.25   0.875  0.875\n",
       " 0.125  0.875  0.875\n",
       " 0.5    0.875  0.875\n",
       " 0.375  0.875  0.875\n",
       " 0.75   0.875  0.875\n",
       " 0.625  0.875  0.875\n",
       " 0.875  0.875  0.875"
      ]
     },
     "metadata": {},
     "output_type": "display_data"
    }
   ],
   "source": [
    "reshape(nodePositionVector(problem), 3, :)'"
   ]
  },
  {
   "cell_type": "code",
   "execution_count": 537,
   "id": "02d09772",
   "metadata": {},
   "outputs": [
    {
     "data": {
      "text/plain": [
       "\"f=[0.0, 0.0, 0.0, 0.0, 0.0, 0.0, 0.0, 0.0, 0.0, 0.0, 0.0, 0.0, 0.017361111111111122, 0.0, 0.0, 0.0173611111111111, 0.0, 0.0, 0.017361111111111067, 0.0, 0.0, 0.017361111111111115, 0.0, 0.0, 0.0, 0.0, 0.0, 0.0, 0.0, 0.0, 0.0, 0.0, 0.0, 0.0, 0.0, 0.0, 0.0, 0.0, 0.0, 0.0, 0\"\u001b[93m\u001b[1m ⋯ 11676 bytes ⋯ \u001b[22m\u001b[39m\"0.0, 0.0, 0.0, 0.0, 0.0, 0.0, 0.0, 0.0, 0.0, 0.0, 0.0, 0.0, 0.0, 0.0, 0.0, 0.0, 0.0, 0.0, 0.0, 0.0, 0.0, 0.0, 0.0, 0.0, 0.0, 0.0, 0.0, 0.0, 0.0, 0.0, 0.0, 0.0, 0.0, 0.0, 0.0, 0.0, 0.0, 0.0, 0.0, 0.0, 0.0, 0.0, 0.0, 0.0, 0.0, 0.0, 0.0, 0.0, 0.0, 0.0, 0.0, 0.0, 0.0, 0.0]\""
      ]
     },
     "metadata": {},
     "output_type": "display_data"
    },
    {
     "data": {
      "text/plain": [
       "\"fnl=[9.452142794586389e-18, -1.8400970975245816e-17, 2.401892758553085e-17, 4.692562459079341e-19, 8.311370516667546e-19, 2.9926738348733104e-19, -1.0053917235048599e-17, 4.454178285594733e-17, 4.313495145810034e-17, 4.9282475840658595e-18, -2.3934723493300145e-18, -1.0\"\u001b[93m\u001b[1m ⋯ 51705 bytes ⋯ \u001b[22m\u001b[39m\"8e-16, 1.758954635920614e-16, -9.246720686020638e-17, 7.709499163059319e-17, -2.9889440015586734e-16, -5.110749842280044e-16, 3.1515873791267874e-16, -8.222969744984272e-17, -7.966664989796174e-17, -1.229616664377602e-16, -2.189128356740458e-16, -2.323340697566672e-16]\""
      ]
     },
     "metadata": {},
     "output_type": "display_data"
    },
    {
     "data": {
      "text/plain": [
       "\"f1=[0.0, 0.0, 0.0, 0.0, 0.0, 0.0, 0.0, 0.0, 0.0, 0.0, 0.0, 0.0, 0.017361111111111115, -1.579173346283055e-17, -1.7657298627311242e-17, 0.01736111111111112, 1.4168169887845224e-17, 6.7158985531978626e-18, 0.017361111111111015, 5.800020748083655e-17, -3.167291738271057e-1\"\u001b[93m\u001b[1m ⋯ 46870 bytes ⋯ \u001b[22m\u001b[39m\"743908e-16, -1.758954635920614e-16, 9.246720686020638e-17, -7.709499163059319e-17, 2.9889440015586734e-16, 5.110749842280044e-16, -3.1515873791267874e-16, 8.222969744984272e-17, 7.966664989796174e-17, 1.229616664377602e-16, 2.189128356740458e-16, 2.323340697566672e-16]\""
      ]
     },
     "metadata": {},
     "output_type": "display_data"
    },
    {
     "data": {
      "text/plain": [
       "\"f-fnl=[-9.452142794586389e-18, 1.8400970975245816e-17, -2.401892758553085e-17, -4.692562459079341e-19, -8.311370516667546e-19, -2.9926738348733104e-19, 1.0053917235048599e-17, -4.454178285594733e-17, -4.313495145810034e-17, -4.9282475840658595e-18, 2.3934723493300145e-1\"\u001b[93m\u001b[1m ⋯ 51441 bytes ⋯ \u001b[22m\u001b[39m\"743908e-16, -1.758954635920614e-16, 9.246720686020638e-17, -7.709499163059319e-17, 2.9889440015586734e-16, 5.110749842280044e-16, -3.1515873791267874e-16, 8.222969744984272e-17, 7.966664989796174e-17, 1.229616664377602e-16, 2.189128356740458e-16, 2.323340697566672e-16]\""
      ]
     },
     "metadata": {},
     "output_type": "display_data"
    },
    {
     "data": {
      "text/plain": [
       "\"1: |q| = 509.9728285354303\""
      ]
     },
     "metadata": {},
     "output_type": "display_data"
    },
    {
     "data": {
      "text/plain": [
       "729×3 adjoint(::Matrix{Float64}) with eltype Float64:\n",
       " 0.0        0.0         0.0\n",
       " 0.0        0.0         0.0\n",
       " 0.0        0.0         0.0\n",
       " 0.0        0.0         0.0\n",
       " 0.985617   0.15135     0.128737\n",
       " 0.989859   0.151685    0.431527\n",
       " 0.985617  -0.15135     0.128737\n",
       " 0.989859  -0.151685    0.431527\n",
       " 0.0        0.0         0.0\n",
       " 0.0        0.0         0.0\n",
       " ⋮                     \n",
       " 0.855982  -0.0752451   0.129213\n",
       " 0.854371  -0.0376377   0.129276\n",
       " 0.233686  -0.107206   -0.0535376\n",
       " 0.10646   -0.0851038  -0.0632401\n",
       " 0.483772  -0.11241     0.0152437\n",
       " 0.358558  -0.111357   -0.0216983\n",
       " 0.733314  -0.112532    0.0912256\n",
       " 0.608534  -0.112482    0.0531552\n",
       " 0.85817   -0.112773    0.129153"
      ]
     },
     "metadata": {},
     "output_type": "display_data"
    },
    {
     "data": {
      "text/plain": [
       "\"f=[0.0, 0.0, 0.0, 0.0, 0.0, 0.0, 0.0, 0.0, 0.0, 0.0, 0.0, 0.0, 0.017361111111111122, 0.0, 0.0, 0.0173611111111111, 0.0, 0.0, 0.017361111111111067, 0.0, 0.0, 0.017361111111111115, 0.0, 0.0, 0.0, 0.0, 0.0, 0.0, 0.0, 0.0, 0.0, 0.0, 0.0, 0.0, 0.0, 0.0, 0.0, 0.0, 0.0, 0.0, 0\"\u001b[93m\u001b[1m ⋯ 11676 bytes ⋯ \u001b[22m\u001b[39m\"0.0, 0.0, 0.0, 0.0, 0.0, 0.0, 0.0, 0.0, 0.0, 0.0, 0.0, 0.0, 0.0, 0.0, 0.0, 0.0, 0.0, 0.0, 0.0, 0.0, 0.0, 0.0, 0.0, 0.0, 0.0, 0.0, 0.0, 0.0, 0.0, 0.0, 0.0, 0.0, 0.0, 0.0, 0.0, 0.0, 0.0, 0.0, 0.0, 0.0, 0.0, 0.0, 0.0, 0.0, 0.0, 0.0, 0.0, 0.0, 0.0, 0.0, 0.0, 0.0, 0.0, 0.0]\""
      ]
     },
     "metadata": {},
     "output_type": "display_data"
    },
    {
     "data": {
      "text/plain": [
       "\"fnl=[-0.1245966213530373, -0.09419934531723947, 0.07230887924732426, -0.1424287951403324, -0.10162489679289562, -0.12032230351836486, -0.12459662135303594, 0.0941993453172383, 0.07230887924732386, -0.14242879514032908, 0.10162489679289373, -0.12032230351836083, 0.063628\"\u001b[93m\u001b[1m ⋯ 48620 bytes ⋯ \u001b[22m\u001b[39m\", -0.03398529645536813, -0.016113133420903068, -0.03212097805807935, 0.0021894197204340715, 0.0006396374356287559, 0.0016748790250644963, 0.001826472069291759, 0.0007865350973744894, 0.0019241729701145133, 0.004118450741312257, 0.0043178938644771, 0.005922002789592533]\""
      ]
     },
     "metadata": {},
     "output_type": "display_data"
    },
    {
     "data": {
      "text/plain": [
       "\"f1=[0.0, 0.0, 0.0, 0.0, 0.0, 0.0, 0.0, 0.0, 0.0, 0.0, 0.0, 0.0, -0.046267833036553754, 0.004554672830505044, -0.01601879695765043, -0.04391845174768104, 0.004638625762742405, -0.004127005281176136, -0.04626783303655249, -0.004554672830505637, -0.016018796957650155, -0.0\"\u001b[93m\u001b[1m ⋯ 44579 bytes ⋯ \u001b[22m\u001b[39m\"398529645536813, 0.016113133420903068, 0.03212097805807935, -0.0021894197204340715, -0.0006396374356287559, -0.0016748790250644963, -0.001826472069291759, -0.0007865350973744894, -0.0019241729701145133, -0.004118450741312257, -0.0043178938644771, -0.005922002789592533]\""
      ]
     },
     "metadata": {},
     "output_type": "display_data"
    },
    {
     "data": {
      "text/plain": [
       "\"f-fnl=[0.1245966213530373, 0.09419934531723947, -0.07230887924732426, 0.1424287951403324, 0.10162489679289562, 0.12032230351836486, 0.12459662135303594, -0.0941993453172383, -0.07230887924732386, 0.14242879514032908, -0.10162489679289373, 0.12032230351836083, -0.0462678\"\u001b[93m\u001b[1m ⋯ 48480 bytes ⋯ \u001b[22m\u001b[39m\"398529645536813, 0.016113133420903068, 0.03212097805807935, -0.0021894197204340715, -0.0006396374356287559, -0.0016748790250644963, -0.001826472069291759, -0.0007865350973744894, -0.0019241729701145133, -0.004118450741312257, -0.0043178938644771, -0.005922002789592533]\""
      ]
     },
     "metadata": {},
     "output_type": "display_data"
    },
    {
     "data": {
      "text/plain": [
       "\"2: |q| = 186.38344035912485\""
      ]
     },
     "metadata": {},
     "output_type": "display_data"
    },
    {
     "data": {
      "text/plain": [
       "729×3 adjoint(::Matrix{Float64}) with eltype Float64:\n",
       "  0.0         0.0          0.0\n",
       "  0.0         0.0          0.0\n",
       "  0.0         0.0          0.0\n",
       "  0.0         0.0          0.0\n",
       " -0.35396    -0.0191503   -0.143297\n",
       " -0.340232   -0.0166264   -0.138199\n",
       " -0.35396     0.0191503   -0.143297\n",
       " -0.340232    0.0166264   -0.138199\n",
       "  0.0         0.0          0.0\n",
       "  0.0         0.0          0.0\n",
       "  ⋮                       \n",
       " -0.307243    0.0113967   -0.123712\n",
       " -0.306949    0.00597805  -0.124216\n",
       " -0.0903641   0.0316998   -0.00533539\n",
       " -0.0432736   0.0307401    0.0143923\n",
       " -0.178019    0.0228297   -0.0577034\n",
       " -0.134332    0.0271168   -0.0321693\n",
       " -0.264508    0.0171236   -0.102897\n",
       " -0.221328    0.019442    -0.0812048\n",
       " -0.307578    0.0157926   -0.123078"
      ]
     },
     "metadata": {},
     "output_type": "display_data"
    },
    {
     "data": {
      "text/plain": [
       "\"f=[0.0, 0.0, 0.0, 0.0, 0.0, 0.0, 0.0, 0.0, 0.0, 0.0, 0.0, 0.0, 0.017361111111111122, 0.0, 0.0, 0.0173611111111111, 0.0, 0.0, 0.017361111111111067, 0.0, 0.0, 0.017361111111111115, 0.0, 0.0, 0.0, 0.0, 0.0, 0.0, 0.0, 0.0, 0.0, 0.0, 0.0, 0.0, 0.0, 0.0, 0.0, 0.0, 0.0, 0.0, 0\"\u001b[93m\u001b[1m ⋯ 11676 bytes ⋯ \u001b[22m\u001b[39m\"0.0, 0.0, 0.0, 0.0, 0.0, 0.0, 0.0, 0.0, 0.0, 0.0, 0.0, 0.0, 0.0, 0.0, 0.0, 0.0, 0.0, 0.0, 0.0, 0.0, 0.0, 0.0, 0.0, 0.0, 0.0, 0.0, 0.0, 0.0, 0.0, 0.0, 0.0, 0.0, 0.0, 0.0, 0.0, 0.0, 0.0, 0.0, 0.0, 0.0, 0.0, 0.0, 0.0, 0.0, 0.0, 0.0, 0.0, 0.0, 0.0, 0.0, 0.0, 0.0, 0.0, 0.0]\""
      ]
     },
     "metadata": {},
     "output_type": "display_data"
    },
    {
     "data": {
      "text/plain": [
       "\"fnl=[-0.04867766302964969, -0.03549434386285824, 0.028124871146460548, -0.059153223200484266, -0.04096117153811776, -0.049343208767241666, -0.048677663029649265, 0.0354943438628578, 0.02812487114646062, -0.05915322320048329, 0.04096117153811713, -0.04934320876724022, 0.\"\u001b[93m\u001b[1m ⋯ 49442 bytes ⋯ \u001b[22m\u001b[39m\"006220752244250098, -0.0037113624533417957, -0.00933766867467655, 0.001151684261738839, 0.0004022622267874981, 0.0007474512958643709, 0.002108999568896817, 0.0007222445355013925, 0.000807423667993702, 0.0016947021946854875, 0.0015520948922765226, 0.0022230080316172985]\""
      ]
     },
     "metadata": {},
     "output_type": "display_data"
    },
    {
     "data": {
      "text/plain": [
       "\"f1=[0.0, 0.0, 0.0, 0.0, 0.0, 0.0, 0.0, 0.0, 0.0, 0.0, 0.0, 0.0, -0.008866401163703384, 0.00029609676296433725, -0.0029985687547753126, -0.008431413567405868, 0.0003214996530374845, -0.0023166095329478853, -0.008866401163703738, -0.00029609676296463963, -0.00299856875477\"\u001b[93m\u001b[1m ⋯ 45730 bytes ⋯ \u001b[22m\u001b[39m\"52244250098, 0.0037113624533417957, 0.00933766867467655, -0.001151684261738839, -0.0004022622267874981, -0.0007474512958643709, -0.002108999568896817, -0.0007222445355013925, -0.000807423667993702, -0.0016947021946854875, -0.0015520948922765226, -0.0022230080316172985]\""
      ]
     },
     "metadata": {},
     "output_type": "display_data"
    },
    {
     "data": {
      "text/plain": [
       "\"f-fnl=[0.04867766302964969, 0.03549434386285824, -0.028124871146460548, 0.059153223200484266, 0.04096117153811776, 0.049343208767241666, 0.048677663029649265, -0.0354943438628578, -0.02812487114646062, 0.05915322320048329, -0.04096117153811713, 0.04934320876724022, -0.0\"\u001b[93m\u001b[1m ⋯ 49748 bytes ⋯ \u001b[22m\u001b[39m\"52244250098, 0.0037113624533417957, 0.00933766867467655, -0.001151684261738839, -0.0004022622267874981, -0.0007474512958643709, -0.002108999568896817, -0.0007222445355013925, -0.000807423667993702, -0.0016947021946854875, -0.0015520948922765226, -0.0022230080316172985]\""
      ]
     },
     "metadata": {},
     "output_type": "display_data"
    },
    {
     "data": {
      "text/plain": [
       "\"3: |q| = 93.1728518154302\""
      ]
     },
     "metadata": {},
     "output_type": "display_data"
    },
    {
     "data": {
      "text/plain": [
       "729×3 adjoint(::Matrix{Float64}) with eltype Float64:\n",
       "  0.0          0.0          0.0\n",
       "  0.0          0.0          0.0\n",
       "  0.0          0.0          0.0\n",
       "  0.0          0.0          0.0\n",
       " -0.130771    -0.0276773   -0.0831666\n",
       " -0.101856    -0.0271481   -0.150485\n",
       " -0.130771     0.0276773   -0.0831666\n",
       " -0.101856     0.0271481   -0.150485\n",
       "  0.0          0.0          0.0\n",
       "  0.0          0.0          0.0\n",
       "  ⋮                        \n",
       " -0.107868     0.013651    -0.0781832\n",
       " -0.107945     0.00674738  -0.078448\n",
       " -0.0276482    0.0259899    0.00594086\n",
       " -0.00982134   0.0230327    0.0154527\n",
       " -0.061358     0.0228268   -0.0279406\n",
       " -0.0447788    0.0243934   -0.0105283\n",
       " -0.092672     0.0211005   -0.0615864\n",
       " -0.0772429    0.0217463   -0.0449537\n",
       " -0.107729     0.0207869   -0.0778772"
      ]
     },
     "metadata": {},
     "output_type": "display_data"
    },
    {
     "data": {
      "text/plain": [
       "\"f=[0.0, 0.0, 0.0, 0.0, 0.0, 0.0, 0.0, 0.0, 0.0, 0.0, 0.0, 0.0, 0.017361111111111122, 0.0, 0.0, 0.0173611111111111, 0.0, 0.0, 0.017361111111111067, 0.0, 0.0, 0.017361111111111115, 0.0, 0.0, 0.0, 0.0, 0.0, 0.0, 0.0, 0.0, 0.0, 0.0, 0.0, 0.0, 0.0, 0.0, 0.0, 0.0, 0.0, 0.0, 0\"\u001b[93m\u001b[1m ⋯ 11676 bytes ⋯ \u001b[22m\u001b[39m\"0.0, 0.0, 0.0, 0.0, 0.0, 0.0, 0.0, 0.0, 0.0, 0.0, 0.0, 0.0, 0.0, 0.0, 0.0, 0.0, 0.0, 0.0, 0.0, 0.0, 0.0, 0.0, 0.0, 0.0, 0.0, 0.0, 0.0, 0.0, 0.0, 0.0, 0.0, 0.0, 0.0, 0.0, 0.0, 0.0, 0.0, 0.0, 0.0, 0.0, 0.0, 0.0, 0.0, 0.0, 0.0, 0.0, 0.0, 0.0, 0.0, 0.0, 0.0, 0.0, 0.0, 0.0]\""
      ]
     },
     "metadata": {},
     "output_type": "display_data"
    },
    {
     "data": {
      "text/plain": [
       "\"fnl=[-0.027126580147958705, -0.015752683477409678, 0.013050070411184084, -0.03570219102800968, -0.01980402283519245, -0.023455535758330325, -0.02712658014795869, 0.0157526834774097, 0.01305007041118408, -0.03570219102800917, 0.019804022835192114, -0.023455535758329763, \"\u001b[93m\u001b[1m ⋯ 49724 bytes ⋯ \u001b[22m\u001b[39m\"02742249704766054, -0.00012409109135231157, 0.0014287007592914546, 0.0021780426067617986, 1.3627527040958615e-5, 0.001432281757071106, 0.004225213938880434, 8.560740575230675e-5, 0.0027264012230078013, 0.0044096808870181855, 0.0001342982204422855, 0.003033079228855228]\""
      ]
     },
     "metadata": {},
     "output_type": "display_data"
    },
    {
     "data": {
      "text/plain": [
       "\"f1=[0.0, 0.0, 0.0, 0.0, 0.0, 0.0, 0.0, 0.0, 0.0, 0.0, 0.0, 0.0, -0.0004688389472739529, 0.00015994103704129414, 0.000549922222891279, -0.0019897121237051653, 0.0001388220153657582, -0.0006677367317079159, -0.00046883894727391476, -0.0001599410370413135, 0.00054992222289\"\u001b[93m\u001b[1m ⋯ 45866 bytes ⋯ \u001b[22m\u001b[39m\"04766054, 0.00012409109135231157, -0.0014287007592914546, -0.0021780426067617986, -1.3627527040958615e-5, -0.001432281757071106, -0.004225213938880434, -8.560740575230675e-5, -0.0027264012230078013, -0.0044096808870181855, -0.0001342982204422855, -0.003033079228855228]\""
      ]
     },
     "metadata": {},
     "output_type": "display_data"
    },
    {
     "data": {
      "text/plain": [
       "\"f-fnl=[0.027126580147958705, 0.015752683477409678, -0.013050070411184084, 0.03570219102800968, 0.01980402283519245, 0.023455535758330325, 0.02712658014795869, -0.0157526834774097, -0.01305007041118408, 0.03570219102800917, -0.019804022835192114, 0.023455535758329763, -0\"\u001b[93m\u001b[1m ⋯ 49942 bytes ⋯ \u001b[22m\u001b[39m\"04766054, 0.00012409109135231157, -0.0014287007592914546, -0.0021780426067617986, -1.3627527040958615e-5, -0.001432281757071106, -0.004225213938880434, -8.560740575230675e-5, -0.0027264012230078013, -0.0044096808870181855, -0.0001342982204422855, -0.003033079228855228]\""
      ]
     },
     "metadata": {},
     "output_type": "display_data"
    },
    {
     "data": {
      "text/plain": [
       "\"4: |q| = 17.771291839297945\""
      ]
     },
     "metadata": {},
     "output_type": "display_data"
    },
    {
     "data": {
      "text/plain": [
       "729×3 adjoint(::Matrix{Float64}) with eltype Float64:\n",
       "  0.0           0.0           0.0\n",
       "  0.0           0.0           0.0\n",
       "  0.0           0.0           0.0\n",
       "  0.0           0.0           0.0\n",
       "  0.00855321    0.0010093    -0.00718108\n",
       " -0.042347     -0.00182794   -0.0379289\n",
       "  0.00855321   -0.0010093    -0.00718108\n",
       " -0.042347      0.00182794   -0.0379289\n",
       "  0.0           0.0           0.0\n",
       "  0.0           0.0           0.0\n",
       "  ⋮                          \n",
       " -0.00879829   -0.000973981  -0.00662958\n",
       " -0.00894401   -0.000471502  -0.00673673\n",
       " -0.00182311    0.00222393    0.00818426\n",
       " -0.000156758   0.00469428    0.0083763\n",
       " -0.00409996   -0.00099637    0.00336141\n",
       " -0.00293871    0.000147143   0.00633338\n",
       " -0.00682406   -0.00158232   -0.00317414\n",
       " -0.00534731   -0.00148156    0.00016913\n",
       " -0.00857234   -0.00150507   -0.00660434"
      ]
     },
     "metadata": {},
     "output_type": "display_data"
    },
    {
     "data": {
      "text/plain": [
       "\"f=[0.0, 0.0, 0.0, 0.0, 0.0, 0.0, 0.0, 0.0, 0.0, 0.0, 0.0, 0.0, 0.017361111111111122, 0.0, 0.0, 0.0173611111111111, 0.0, 0.0, 0.017361111111111067, 0.0, 0.0, 0.017361111111111115, 0.0, 0.0, 0.0, 0.0, 0.0, 0.0, 0.0, 0.0, 0.0, 0.0, 0.0, 0.0, 0.0, 0.0, 0.0, 0.0, 0.0, 0.0, 0\"\u001b[93m\u001b[1m ⋯ 11676 bytes ⋯ \u001b[22m\u001b[39m\"0.0, 0.0, 0.0, 0.0, 0.0, 0.0, 0.0, 0.0, 0.0, 0.0, 0.0, 0.0, 0.0, 0.0, 0.0, 0.0, 0.0, 0.0, 0.0, 0.0, 0.0, 0.0, 0.0, 0.0, 0.0, 0.0, 0.0, 0.0, 0.0, 0.0, 0.0, 0.0, 0.0, 0.0, 0.0, 0.0, 0.0, 0.0, 0.0, 0.0, 0.0, 0.0, 0.0, 0.0, 0.0, 0.0, 0.0, 0.0, 0.0, 0.0, 0.0, 0.0, 0.0, 0.0]\""
      ]
     },
     "metadata": {},
     "output_type": "display_data"
    },
    {
     "data": {
      "text/plain": [
       "\"fnl=[-0.026311983383408524, -0.013928229409913423, 0.010859999725616874, -0.02703048829491751, -0.013898267309917087, -0.01608277223849447, -0.026311983383408687, 0.013928229409913631, 0.01085999972561704, -0.02703048829491731, 0.013898267309916952, -0.01608277223849437\"\u001b[93m\u001b[1m ⋯ 49866 bytes ⋯ \u001b[22m\u001b[39m\"97289709381, 0.00016898122035234603, -0.012009435986660585, -0.0038184036968818003, -8.695794205002732e-5, -0.005545383748746519, -0.008709844221170791, -0.0001446165816707971, -0.011851794334951307, -0.007076874069905557, -0.00014278227312522626, -0.01066121268762667]\""
      ]
     },
     "metadata": {},
     "output_type": "display_data"
    },
    {
     "data": {
      "text/plain": [
       "\"f1=[0.0, 0.0, 0.0, 0.0, 0.0, 0.0, 0.0, 0.0, 0.0, 0.0, 0.0, 0.0, -0.001012573865330109, 0.0001658308618589529, -0.001116149828837584, -3.854077755711602e-5, 7.953681293302589e-5, 0.00017853449973625771, -0.0010125738653301852, -0.0001658308618589397, -0.00111614982883771\"\u001b[93m\u001b[1m ⋯ 46020 bytes ⋯ \u001b[22m\u001b[39m\"0.010832797289709381, -0.00016898122035234603, 0.012009435986660585, 0.0038184036968818003, 8.695794205002732e-5, 0.005545383748746519, 0.008709844221170791, 0.0001446165816707971, 0.011851794334951307, 0.007076874069905557, 0.00014278227312522626, 0.01066121268762667]\""
      ]
     },
     "metadata": {},
     "output_type": "display_data"
    },
    {
     "data": {
      "text/plain": [
       "\"f-fnl=[0.026311983383408524, 0.013928229409913423, -0.010859999725616874, 0.02703048829491751, 0.013898267309917087, 0.01608277223849447, 0.026311983383408687, -0.013928229409913631, -0.01085999972561704, 0.02703048829491731, -0.013898267309916952, 0.016082772238494376,\"\u001b[93m\u001b[1m ⋯ 50119 bytes ⋯ \u001b[22m\u001b[39m\"0.010832797289709381, -0.00016898122035234603, 0.012009435986660585, 0.0038184036968818003, 8.695794205002732e-5, 0.005545383748746519, 0.008709844221170791, 0.0001446165816707971, 0.011851794334951307, 0.007076874069905557, 0.00014278227312522626, 0.01066121268762667]\""
      ]
     },
     "metadata": {},
     "output_type": "display_data"
    },
    {
     "data": {
      "text/plain": [
       "\"5: |q| = 2.050975557152336\""
      ]
     },
     "metadata": {},
     "output_type": "display_data"
    },
    {
     "data": {
      "text/plain": [
       "729×3 adjoint(::Matrix{Float64}) with eltype Float64:\n",
       "  0.0           0.0           0.0\n",
       "  0.0           0.0           0.0\n",
       "  0.0           0.0           0.0\n",
       "  0.0           0.0           0.0\n",
       " -0.00821166   -0.00054674   -0.00174948\n",
       "  0.000465196   6.02095e-6   -0.000475299\n",
       " -0.00821166    0.00054674   -0.00174948\n",
       "  0.000465196  -6.02095e-6   -0.000475299\n",
       "  0.0           0.0           0.0\n",
       "  0.0           0.0           0.0\n",
       "  ⋮                          \n",
       "  0.00202001    0.000220406   0.000673151\n",
       "  0.00194252    0.000100612   0.000626206\n",
       "  0.00185353   -5.69872e-5    0.00047573\n",
       "  0.000955716  -0.000141027  -7.18199e-5\n",
       "  0.00250816    0.000282715   0.00120719\n",
       "  0.00237517    0.000142475   0.00097478\n",
       "  0.00226375    0.000395325   0.00107854\n",
       "  0.00242995    0.000362459   0.00121607\n",
       "  0.00209239    0.000392022   0.000815362"
      ]
     },
     "metadata": {},
     "output_type": "display_data"
    },
    {
     "data": {
      "text/plain": [
       "\"f=[0.0, 0.0, 0.0, 0.0, 0.0, 0.0, 0.0, 0.0, 0.0, 0.0, 0.0, 0.0, 0.017361111111111122, 0.0, 0.0, 0.0173611111111111, 0.0, 0.0, 0.017361111111111067, 0.0, 0.0, 0.017361111111111115, 0.0, 0.0, 0.0, 0.0, 0.0, 0.0, 0.0, 0.0, 0.0, 0.0, 0.0, 0.0, 0.0, 0.0, 0.0, 0.0, 0.0, 0.0, 0\"\u001b[93m\u001b[1m ⋯ 11676 bytes ⋯ \u001b[22m\u001b[39m\"0.0, 0.0, 0.0, 0.0, 0.0, 0.0, 0.0, 0.0, 0.0, 0.0, 0.0, 0.0, 0.0, 0.0, 0.0, 0.0, 0.0, 0.0, 0.0, 0.0, 0.0, 0.0, 0.0, 0.0, 0.0, 0.0, 0.0, 0.0, 0.0, 0.0, 0.0, 0.0, 0.0, 0.0, 0.0, 0.0, 0.0, 0.0, 0.0, 0.0, 0.0, 0.0, 0.0, 0.0, 0.0, 0.0, 0.0, 0.0, 0.0, 0.0, 0.0, 0.0, 0.0, 0.0]\""
      ]
     },
     "metadata": {},
     "output_type": "display_data"
    },
    {
     "data": {
      "text/plain": [
       "\"fnl=[-0.025404123973749172, -0.013477636727814914, 0.010815291472569866, -0.026131692087457855, -0.0134300190701834, -0.015548789352532325, -0.025404123973749384, 0.013477636727815144, 0.010815291472570028, -0.026131692087457845, 0.013430019070183449, -0.015548789352532\"\u001b[93m\u001b[1m ⋯ 49921 bytes ⋯ \u001b[22m\u001b[39m\"0.004819478945799855, -0.00023115447849074335, 0.004883431215069294, 0.00239942580511765, 4.8030692785809743e-5, 0.0020913048575129586, 0.0050255397936223595, 2.885584158445655e-5, 0.004545883973649413, 0.00464112414779427, 0.00010847281724603934, 0.003993649094714836]\""
      ]
     },
     "metadata": {},
     "output_type": "display_data"
    },
    {
     "data": {
      "text/plain": [
       "\"f1=[0.0, 0.0, 0.0, 0.0, 0.0, 0.0, 0.0, 0.0, 0.0, 0.0, 0.0, 0.0, 0.00010712239366059834, 3.5959417644197227e-5, 0.00043274500038206635, -0.0002081168568232282, 7.009995240430819e-6, -4.607196418431939e-5, 0.00010712239366044915, -3.595941764421739e-5, 0.00043274500038200\"\u001b[93m\u001b[1m ⋯ 45695 bytes ⋯ \u001b[22m\u001b[39m\"78945799855, 0.00023115447849074335, -0.004883431215069294, -0.00239942580511765, -4.8030692785809743e-5, -0.0020913048575129586, -0.0050255397936223595, -2.885584158445655e-5, -0.004545883973649413, -0.00464112414779427, -0.00010847281724603934, -0.003993649094714836]\""
      ]
     },
     "metadata": {},
     "output_type": "display_data"
    },
    {
     "data": {
      "text/plain": [
       "\"f-fnl=[0.025404123973749172, 0.013477636727814914, -0.010815291472569866, 0.026131692087457855, 0.0134300190701834, 0.015548789352532325, 0.025404123973749384, -0.013477636727815144, -0.010815291472570028, 0.026131692087457845, -0.013430019070183449, 0.01554878935253233\"\u001b[93m\u001b[1m ⋯ 49802 bytes ⋯ \u001b[22m\u001b[39m\"78945799855, 0.00023115447849074335, -0.004883431215069294, -0.00239942580511765, -4.8030692785809743e-5, -0.0020913048575129586, -0.0050255397936223595, -2.885584158445655e-5, -0.004545883973649413, -0.00464112414779427, -0.00010847281724603934, -0.003993649094714836]\""
      ]
     },
     "metadata": {},
     "output_type": "display_data"
    },
    {
     "data": {
      "text/plain": [
       "\"6: |q| = 0.8557473929527993\""
      ]
     },
     "metadata": {},
     "output_type": "display_data"
    },
    {
     "data": {
      "text/plain": [
       "729×3 adjoint(::Matrix{Float64}) with eltype Float64:\n",
       "  0.0           0.0           0.0\n",
       "  0.0           0.0           0.0\n",
       "  0.0           0.0           0.0\n",
       "  0.0           0.0           0.0\n",
       "  0.0047486     0.00043488    0.000427135\n",
       " -0.00261587   -0.000178872  -0.00015322\n",
       "  0.0047486    -0.00043488    0.000427135\n",
       " -0.00261587    0.000178872  -0.00015322\n",
       "  0.0           0.0           0.0\n",
       "  0.0           0.0           0.0\n",
       "  ⋮                          \n",
       " -0.00182113   -0.000241479   0.000100171\n",
       " -0.00176775   -0.000121967   0.000117381\n",
       " -0.000982674  -8.65473e-6   -0.000122735\n",
       " -0.00051943    1.76818e-5   -1.71303e-5\n",
       " -0.00161499   -0.000195238  -0.000152464\n",
       " -0.00135823   -9.64441e-5   -0.000149461\n",
       " -0.00186732   -0.000333592  -0.000127399\n",
       " -0.00176964   -0.000279445  -0.000143513\n",
       " -0.00194966   -0.000355551  -0.000101351"
      ]
     },
     "metadata": {},
     "output_type": "display_data"
    },
    {
     "data": {
      "text/plain": [
       "\"f=[0.0, 0.0, 0.0, 0.0, 0.0, 0.0, 0.0, 0.0, 0.0, 0.0, 0.0, 0.0, 0.017361111111111122, 0.0, 0.0, 0.0173611111111111, 0.0, 0.0, 0.017361111111111067, 0.0, 0.0, 0.017361111111111115, 0.0, 0.0, 0.0, 0.0, 0.0, 0.0, 0.0, 0.0, 0.0, 0.0, 0.0, 0.0, 0.0, 0.0, 0.0, 0.0, 0.0, 0.0, 0\"\u001b[93m\u001b[1m ⋯ 11676 bytes ⋯ \u001b[22m\u001b[39m\"0.0, 0.0, 0.0, 0.0, 0.0, 0.0, 0.0, 0.0, 0.0, 0.0, 0.0, 0.0, 0.0, 0.0, 0.0, 0.0, 0.0, 0.0, 0.0, 0.0, 0.0, 0.0, 0.0, 0.0, 0.0, 0.0, 0.0, 0.0, 0.0, 0.0, 0.0, 0.0, 0.0, 0.0, 0.0, 0.0, 0.0, 0.0, 0.0, 0.0, 0.0, 0.0, 0.0, 0.0, 0.0, 0.0, 0.0, 0.0, 0.0, 0.0, 0.0, 0.0, 0.0, 0.0]\""
      ]
     },
     "metadata": {},
     "output_type": "display_data"
    },
    {
     "data": {
      "text/plain": [
       "\"fnl=[-0.02585641362387845, -0.01376005928671944, 0.010881216740251082, -0.026039018387719475, -0.013361984490641594, -0.015520102174433751, -0.025856413623878586, 0.013760059286719492, 0.010881216740251193, -0.02603901838771937, 0.013361984490641566, -0.0155201021744337\"\u001b[93m\u001b[1m ⋯ 49663 bytes ⋯ \u001b[22m\u001b[39m\"09690330363846, 0.0002675349264345617, -0.004485023391495436, -0.0024928902545029996, -3.2863733380232574e-5, -0.002817862013567182, -0.0049375402233321, 2.1046523150973024e-5, -0.005524596586898891, -0.004934765229043278, -9.273940248041423e-5, -0.0055702444360626055]\""
      ]
     },
     "metadata": {},
     "output_type": "display_data"
    },
    {
     "data": {
      "text/plain": [
       "\"f1=[0.0, 0.0, 0.0, 0.0, 0.0, 0.0, 0.0, 0.0, 0.0, 0.0, 0.0, 0.0, -0.00032945559953641637, 2.8418481016175243e-5, -0.00045834380380496876, 9.604768326751043e-5, 1.0029904069806788e-5, 5.46525300568649e-5, -0.00032945559953623943, -2.841848101626939e-5, -0.0004583438038048\"\u001b[93m\u001b[1m ⋯ 45830 bytes ⋯ \u001b[22m\u001b[39m\" 0.004109690330363846, -0.0002675349264345617, 0.004485023391495436, 0.0024928902545029996, 3.2863733380232574e-5, 0.002817862013567182, 0.0049375402233321, -2.1046523150973024e-5, 0.005524596586898891, 0.004934765229043278, 9.273940248041423e-5, 0.0055702444360626055]\""
      ]
     },
     "metadata": {},
     "output_type": "display_data"
    },
    {
     "data": {
      "text/plain": [
       "\"f-fnl=[0.02585641362387845, 0.01376005928671944, -0.010881216740251082, 0.026039018387719475, 0.013361984490641594, 0.015520102174433751, 0.025856413623878586, -0.013760059286719492, -0.010881216740251193, 0.02603901838771937, -0.013361984490641566, 0.01552010217443372,\"\u001b[93m\u001b[1m ⋯ 49925 bytes ⋯ \u001b[22m\u001b[39m\" 0.004109690330363846, -0.0002675349264345617, 0.004485023391495436, 0.0024928902545029996, 3.2863733380232574e-5, 0.002817862013567182, 0.0049375402233321, -2.1046523150973024e-5, 0.005524596586898891, 0.004934765229043278, 9.273940248041423e-5, 0.0055702444360626055]\""
      ]
     },
     "metadata": {},
     "output_type": "display_data"
    },
    {
     "data": {
      "text/plain": [
       "\"7: |q| = 0.624593413264083\""
      ]
     },
     "metadata": {},
     "output_type": "display_data"
    },
    {
     "data": {
      "text/plain": [
       "729×3 adjoint(::Matrix{Float64}) with eltype Float64:\n",
       "  0.0           0.0           0.0\n",
       "  0.0           0.0           0.0\n",
       "  0.0           0.0           0.0\n",
       "  0.0           0.0           0.0\n",
       " -0.00436387   -0.000302104  -0.000291809\n",
       "  0.00193847    0.000197123   0.000181867\n",
       " -0.00436387    0.000302104  -0.000291809\n",
       "  0.00193847   -0.000197123   0.000181867\n",
       "  0.0           0.0           0.0\n",
       "  0.0           0.0           0.0\n",
       "  ⋮                          \n",
       "  0.00146491    0.000141462  -0.000179453\n",
       "  0.00144736    7.25639e-5   -0.000164229\n",
       "  0.00069911   -2.30427e-5   -5.23064e-5\n",
       "  0.000356423  -2.17738e-5   -6.09282e-5\n",
       "  0.00125873    6.33384e-5   -4.10317e-5\n",
       "  0.00101081    1.00321e-5   -5.37035e-5\n",
       "  0.00153313    0.000169099  -1.68786e-5\n",
       "  0.00142869    0.000121881  -2.76928e-5\n",
       "  0.00159268    0.00019733   -1.33374e-5"
      ]
     },
     "metadata": {},
     "output_type": "display_data"
    },
    {
     "data": {
      "text/plain": [
       "\"f=[0.0, 0.0, 0.0, 0.0, 0.0, 0.0, 0.0, 0.0, 0.0, 0.0, 0.0, 0.0, 0.017361111111111122, 0.0, 0.0, 0.0173611111111111, 0.0, 0.0, 0.017361111111111067, 0.0, 0.0, 0.017361111111111115, 0.0, 0.0, 0.0, 0.0, 0.0, 0.0, 0.0, 0.0, 0.0, 0.0, 0.0, 0.0, 0.0, 0.0, 0.0, 0.0, 0.0, 0.0, 0\"\u001b[93m\u001b[1m ⋯ 11676 bytes ⋯ \u001b[22m\u001b[39m\"0.0, 0.0, 0.0, 0.0, 0.0, 0.0, 0.0, 0.0, 0.0, 0.0, 0.0, 0.0, 0.0, 0.0, 0.0, 0.0, 0.0, 0.0, 0.0, 0.0, 0.0, 0.0, 0.0, 0.0, 0.0, 0.0, 0.0, 0.0, 0.0, 0.0, 0.0, 0.0, 0.0, 0.0, 0.0, 0.0, 0.0, 0.0, 0.0, 0.0, 0.0, 0.0, 0.0, 0.0, 0.0, 0.0, 0.0, 0.0, 0.0, 0.0, 0.0, 0.0, 0.0, 0.0]\""
      ]
     },
     "metadata": {},
     "output_type": "display_data"
    },
    {
     "data": {
      "text/plain": [
       "\"fnl=[-0.025531008651837387, -0.013550767190307417, 0.010841824834729867, -0.02613591180073763, -0.013430255611465814, -0.015554267449120132, -0.025531008651837647, 0.013550767190307615, 0.010841824834730061, -0.026135911800737592, 0.013430255611465854, -0.01555426744912\"\u001b[93m\u001b[1m ⋯ 49845 bytes ⋯ \u001b[22m\u001b[39m\", 0.003006962120622787, -0.00024326303974419878, 0.003124805387055851, 0.002244278576174319, 1.0534693065432713e-6, 0.002129400139871492, 0.004172787009172473, -7.924994184487828e-5, 0.00405629615035449, 0.004593642687387397, 4.56762154948322e-5, 0.0042978538550481745]\""
      ]
     },
     "metadata": {},
     "output_type": "display_data"
    },
    {
     "data": {
      "text/plain": [
       "\"f1=[0.0, 0.0, 0.0, 0.0, 0.0, 0.0, 0.0, 0.0, 0.0, 0.0, 0.0, 0.0, 0.00014596231334331952, 1.8267839473976986e-5, 0.0003519670293181961, -9.068439184350616e-5, -3.771230156979272e-6, -2.8871933117515824e-5, 0.00014596231334289972, -1.8267839474021594e-5, 0.0003519670293180\"\u001b[93m\u001b[1m ⋯ 45868 bytes ⋯ \u001b[22m\u001b[39m\"006962120622787, 0.00024326303974419878, -0.003124805387055851, -0.002244278576174319, -1.0534693065432713e-6, -0.002129400139871492, -0.004172787009172473, 7.924994184487828e-5, -0.00405629615035449, -0.004593642687387397, -4.56762154948322e-5, -0.0042978538550481745]\""
      ]
     },
     "metadata": {},
     "output_type": "display_data"
    },
    {
     "data": {
      "text/plain": [
       "\"f-fnl=[0.025531008651837387, 0.013550767190307417, -0.010841824834729867, 0.02613591180073763, 0.013430255611465814, 0.015554267449120132, 0.025531008651837647, -0.013550767190307615, -0.010841824834730061, 0.026135911800737592, -0.013430255611465854, 0.0155542674491201\"\u001b[93m\u001b[1m ⋯ 49969 bytes ⋯ \u001b[22m\u001b[39m\"006962120622787, 0.00024326303974419878, -0.003124805387055851, -0.002244278576174319, -1.0534693065432713e-6, -0.002129400139871492, -0.004172787009172473, 7.924994184487828e-5, -0.00405629615035449, -0.004593642687387397, -4.56762154948322e-5, -0.0042978538550481745]\""
      ]
     },
     "metadata": {},
     "output_type": "display_data"
    },
    {
     "data": {
      "text/plain": [
       "\"8: |q| = 0.4843618549566744\""
      ]
     },
     "metadata": {},
     "output_type": "display_data"
    },
    {
     "data": {
      "text/plain": [
       "729×3 adjoint(::Matrix{Float64}) with eltype Float64:\n",
       "  0.0           0.0           0.0\n",
       "  0.0           0.0           0.0\n",
       "  0.0           0.0           0.0\n",
       "  0.0           0.0           0.0\n",
       "  0.00362932    0.000368262   0.00027198\n",
       " -0.00138807   -0.000193152  -0.000130198\n",
       "  0.00362932   -0.000368262   0.00027198\n",
       " -0.00138807    0.000193152  -0.000130198\n",
       "  0.0           0.0           0.0\n",
       "  0.0           0.0           0.0\n",
       "  ⋮                          \n",
       " -0.00137263   -8.73467e-5    0.000181873\n",
       " -0.00137757   -4.53024e-5    0.000156778\n",
       " -0.000560063   3.9399e-5     5.60508e-5\n",
       " -0.000278706   2.57182e-5    5.66606e-5\n",
       " -0.00108081    7.88959e-6    5.60612e-5\n",
       " -0.000836589   3.41431e-5    6.00023e-5\n",
       " -0.00140416   -8.08661e-5    5.33089e-5\n",
       " -0.00127107   -3.54752e-5    5.26155e-5\n",
       " -0.00148704   -0.000114948   6.14802e-5"
      ]
     },
     "metadata": {},
     "output_type": "display_data"
    },
    {
     "data": {
      "text/plain": [
       "\"f=[0.0, 0.0, 0.0, 0.0, 0.0, 0.0, 0.0, 0.0, 0.0, 0.0, 0.0, 0.0, 0.017361111111111122, 0.0, 0.0, 0.0173611111111111, 0.0, 0.0, 0.017361111111111067, 0.0, 0.0, 0.017361111111111115, 0.0, 0.0, 0.0, 0.0, 0.0, 0.0, 0.0, 0.0, 0.0, 0.0, 0.0, 0.0, 0.0, 0.0, 0.0, 0.0, 0.0, 0.0, 0\"\u001b[93m\u001b[1m ⋯ 11676 bytes ⋯ \u001b[22m\u001b[39m\"0.0, 0.0, 0.0, 0.0, 0.0, 0.0, 0.0, 0.0, 0.0, 0.0, 0.0, 0.0, 0.0, 0.0, 0.0, 0.0, 0.0, 0.0, 0.0, 0.0, 0.0, 0.0, 0.0, 0.0, 0.0, 0.0, 0.0, 0.0, 0.0, 0.0, 0.0, 0.0, 0.0, 0.0, 0.0, 0.0, 0.0, 0.0, 0.0, 0.0, 0.0, 0.0, 0.0, 0.0, 0.0, 0.0, 0.0, 0.0, 0.0, 0.0, 0.0, 0.0, 0.0, 0.0]\""
      ]
     },
     "metadata": {},
     "output_type": "display_data"
    },
    {
     "data": {
      "text/plain": [
       "\"fnl=[-0.02577144291657529, -0.013708998370809267, 0.010870155468432873, -0.02606800322568348, -0.013381452828307383, -0.015532574456074281, -0.025771442916575307, 0.013708998370809277, 0.010870155468432903, -0.026068003225683384, 0.013381452828307322, -0.015532574456074\"\u001b[93m\u001b[1m ⋯ 49790 bytes ⋯ \u001b[22m\u001b[39m\"4564771751209, 0.0002504475780322183, -0.0029604487529328507, -0.002162555829260282, 1.8811048052123566e-5, -0.002344585494088726, -0.003971415678615291, 0.00011602744308284975, -0.004280869195793195, -0.004443505259161428, -4.915633684328253e-6, -0.004817269669215494]\""
      ]
     },
     "metadata": {},
     "output_type": "display_data"
    },
    {
     "data": {
      "text/plain": [
       "\"f1=[0.0, 0.0, 0.0, 0.0, 0.0, 0.0, 0.0, 0.0, 0.0, 0.0, 0.0, 0.0, -0.000244668202096298, 1.0584178809503908e-5, -0.0003612836347058429, 5.550331368230077e-5, 7.265925227074022e-6, 2.8281757557182467e-5, -0.0002446682020957672, -1.058417880938678e-5, -0.0003612836347055817\"\u001b[93m\u001b[1m ⋯ 45753 bytes ⋯ \u001b[22m\u001b[39m\"002774564771751209, -0.0002504475780322183, 0.0029604487529328507, 0.002162555829260282, -1.8811048052123566e-5, 0.002344585494088726, 0.003971415678615291, -0.00011602744308284975, 0.004280869195793195, 0.004443505259161428, 4.915633684328253e-6, 0.004817269669215494]\""
      ]
     },
     "metadata": {},
     "output_type": "display_data"
    },
    {
     "data": {
      "text/plain": [
       "\"f-fnl=[0.02577144291657529, 0.013708998370809267, -0.010870155468432873, 0.02606800322568348, 0.013381452828307383, 0.015532574456074281, 0.025771442916575307, -0.013708998370809277, -0.010870155468432903, 0.026068003225683384, -0.013381452828307322, 0.01553257445607424\"\u001b[93m\u001b[1m ⋯ 49859 bytes ⋯ \u001b[22m\u001b[39m\"002774564771751209, -0.0002504475780322183, 0.0029604487529328507, 0.002162555829260282, -1.8811048052123566e-5, 0.002344585494088726, 0.003971415678615291, -0.00011602744308284975, 0.004280869195793195, 0.004443505259161428, 4.915633684328253e-6, 0.004817269669215494]\""
      ]
     },
     "metadata": {},
     "output_type": "display_data"
    },
    {
     "data": {
      "text/plain": [
       "\"9: |q| = 0.41600559582323005\""
      ]
     },
     "metadata": {},
     "output_type": "display_data"
    },
    {
     "data": {
      "text/plain": [
       "729×3 adjoint(::Matrix{Float64}) with eltype Float64:\n",
       "  0.0           0.0           0.0\n",
       "  0.0           0.0           0.0\n",
       "  0.0           0.0           0.0\n",
       "  0.0           0.0           0.0\n",
       " -0.00320261   -0.000376918  -0.000203244\n",
       "  0.000999096   0.000159321   0.000125046\n",
       " -0.00320261    0.000376918  -0.000203244\n",
       "  0.000999096  -0.000159321   0.000125046\n",
       "  0.0           0.0           0.0\n",
       "  0.0           0.0           0.0\n",
       "  ⋮                          \n",
       "  0.00123732    4.74371e-5   -0.000128319\n",
       "  0.00125645    2.52566e-5   -0.000101983\n",
       "  0.000469825  -4.60048e-5   -4.84616e-5\n",
       "  0.000230056  -2.62851e-5   -4.77623e-5\n",
       "  0.000939193  -4.29242e-5   -4.71892e-5\n",
       "  0.000714357  -5.38288e-5   -5.16106e-5\n",
       "  0.00125406    2.52712e-5   -3.56531e-5\n",
       "  0.00112211   -1.25978e-5   -4.06129e-5\n",
       "  0.00133476    5.67771e-5   -3.72777e-5"
      ]
     },
     "metadata": {},
     "output_type": "display_data"
    },
    {
     "data": {
      "text/plain": [
       "\"f=[0.0, 0.0, 0.0, 0.0, 0.0, 0.0, 0.0, 0.0, 0.0, 0.0, 0.0, 0.0, 0.017361111111111122, 0.0, 0.0, 0.0173611111111111, 0.0, 0.0, 0.017361111111111067, 0.0, 0.0, 0.017361111111111115, 0.0, 0.0, 0.0, 0.0, 0.0, 0.0, 0.0, 0.0, 0.0, 0.0, 0.0, 0.0, 0.0, 0.0, 0.0, 0.0, 0.0, 0.0, 0\"\u001b[93m\u001b[1m ⋯ 11676 bytes ⋯ \u001b[22m\u001b[39m\"0.0, 0.0, 0.0, 0.0, 0.0, 0.0, 0.0, 0.0, 0.0, 0.0, 0.0, 0.0, 0.0, 0.0, 0.0, 0.0, 0.0, 0.0, 0.0, 0.0, 0.0, 0.0, 0.0, 0.0, 0.0, 0.0, 0.0, 0.0, 0.0, 0.0, 0.0, 0.0, 0.0, 0.0, 0.0, 0.0, 0.0, 0.0, 0.0, 0.0, 0.0, 0.0, 0.0, 0.0, 0.0, 0.0, 0.0, 0.0, 0.0, 0.0, 0.0, 0.0, 0.0, 0.0]\""
      ]
     },
     "metadata": {},
     "output_type": "display_data"
    },
    {
     "data": {
      "text/plain": [
       "\"fnl=[-0.025586570522704733, -0.013585365318253285, 0.010850906473167278, -0.0261150961323174, -0.013416042460805081, -0.01554573114520726, -0.02558657052270492, 0.013585365318253434, 0.010850906473167391, -0.026115096132317262, 0.013416042460804987, -0.01554573114520721\"\u001b[93m\u001b[1m ⋯ 49574 bytes ⋯ \u001b[22m\u001b[39m\"325336867965, -0.00022020785438574443, 0.0023481857865579143, 0.0019223869452171805, -3.389227279467291e-5, 0.0018850181889734753, 0.0034225567156799626, -0.00013235088646339552, 0.0034169143236072205, 0.004035448890136899, -2.0423263924745425e-5, 0.003904019225347012]\""
      ]
     },
     "metadata": {},
     "output_type": "display_data"
    },
    {
     "data": {
      "text/plain": [
       "\"f1=[0.0, 0.0, 0.0, 0.0, 0.0, 0.0, 0.0, 0.0, 0.0, 0.0, 0.0, 0.0, 0.0001236223283724476, 1.6688581139851695e-5, 0.00028554718118601236, -4.923673339311818e-5, -5.191051494701322e-6, -1.8443456242503426e-5, 0.00012362232837230883, -1.668858113986701e-5, 0.00028554718118588\"\u001b[93m\u001b[1m ⋯ 45731 bytes ⋯ \u001b[22m\u001b[39m\"336867965, 0.00022020785438574443, -0.0023481857865579143, -0.0019223869452171805, 3.389227279467291e-5, -0.0018850181889734753, -0.0034225567156799626, 0.00013235088646339552, -0.0034169143236072205, -0.004035448890136899, 2.0423263924745425e-5, -0.003904019225347012]\""
      ]
     },
     "metadata": {},
     "output_type": "display_data"
    },
    {
     "data": {
      "text/plain": [
       "\"f-fnl=[0.025586570522704733, 0.013585365318253285, -0.010850906473167278, 0.0261150961323174, 0.013416042460805081, 0.01554573114520726, 0.02558657052270492, -0.013585365318253434, -0.010850906473167391, 0.026115096132317262, -0.013416042460804987, 0.015545731145207214,\"\u001b[93m\u001b[1m ⋯ 49819 bytes ⋯ \u001b[22m\u001b[39m\"336867965, 0.00022020785438574443, -0.0023481857865579143, -0.0019223869452171805, 3.389227279467291e-5, -0.0018850181889734753, -0.0034225567156799626, 0.00013235088646339552, -0.0034169143236072205, -0.004035448890136899, 2.0423263924745425e-5, -0.003904019225347012]\""
      ]
     },
     "metadata": {},
     "output_type": "display_data"
    },
    {
     "data": {
      "text/plain": [
       "\"10: |q| = 0.3609556542432104\""
      ]
     },
     "metadata": {},
     "output_type": "display_data"
    },
    {
     "data": {
      "text/plain": [
       "729×3 adjoint(::Matrix{Float64}) with eltype Float64:\n",
       "  0.0           0.0           0.0\n",
       "  0.0           0.0           0.0\n",
       "  0.0           0.0           0.0\n",
       "  0.0           0.0           0.0\n",
       "  0.00273511    0.00040334    0.000151729\n",
       " -0.000743111  -0.000136429  -9.75279e-5\n",
       "  0.00273511   -0.00040334    0.000151729\n",
       " -0.000743111   0.000136429  -9.75279e-5\n",
       "  0.0           0.0           0.0\n",
       "  0.0           0.0           0.0\n",
       "  ⋮                          \n",
       " -0.00114355   -1.85059e-5    0.000108904\n",
       " -0.00117017   -1.08136e-5    8.52295e-5\n",
       " -0.000402201   4.74667e-5    3.93915e-5\n",
       " -0.000194602   2.49634e-5    3.8869e-5\n",
       " -0.00082961    6.53046e-5    4.16442e-5\n",
       " -0.000620848   6.40258e-5    4.31603e-5\n",
       " -0.00114015    1.5629e-5     3.70905e-5\n",
       " -0.00100685    4.64524e-5    3.86552e-5\n",
       " -0.00122431   -1.37279e-5    4.09925e-5"
      ]
     },
     "metadata": {},
     "output_type": "display_data"
    },
    {
     "data": {
      "text/plain": [
       "8"
      ]
     },
     "metadata": {},
     "output_type": "display_data"
    }
   ],
   "source": [
    "q = FEM.solveDisplacement(problem, [traction], [supp1])\n",
    "S = FEM.solveStress(problem, q)\n",
    "S = FEM.elementsToNodes(problem, S)\n",
    "\n",
    "u1 = FEM.showDoFResults(problem, q, :uvec, visible=false)\n",
    "S1 = FEM.showDoFResults(problem, S, :s)\n",
    "\n",
    "f = FEM.loadVector(problem, [traction])\n",
    "r0 = nodePositionVector(problem)\n",
    "n = 10\n",
    "r = zeros(length(r0), n + 1)\n",
    "q0 = zeros(length(r0), n)\n",
    "r[:, 1] = r0\n",
    "\n",
    "for i in 1:n\n",
    "    F = deformationGradient(problem, r[:, i])\n",
    "\n",
    "    Kl = stiffnessMatrixLinear(problem, r[:, i])\n",
    "    Knl = stiffnessMatrixNonLinear(problem, r[:, i])\n",
    "    f = FEM.loadVector(problem, [traction])\n",
    "    fnl = loadVectorNonLinear(problem, r[:, i])\n",
    "    #display(\"f=$f\")\n",
    "    #display(\"fnl=$fnl\")\n",
    "    K1, f1 = FEM.applyBoundaryConditions(problem, Kl + Knl, f - fnl, [supp1])\n",
    "    display(\"f=$f\")\n",
    "    display(\"fnl=$fnl\")\n",
    "    display(\"f1=$f1\")\n",
    "    display(\"f-fnl=$(f-fnl)\")\n",
    "    q = FEM.solveDisplacement(K1, f1)\n",
    "    #S = FEM.solveStress(problem, q)\n",
    "    #S = FEM.elementsToNodes(problem, S)\n",
    "    r[:, i+1] = r[:, i] + q\n",
    "    display(\"$i: |q| = $(sum(abs, q))\")\n",
    "    display(reshape(q, 3, :)')\n",
    "end\n",
    "\n",
    "r0 = nodePositionVector(problem)\n",
    "for i in 1:n+1\n",
    "    r[:, i] -= r0\n",
    "end\n",
    "for i in 1:n\n",
    "    q0[:, i] -= r[:, i+1] - r[:, i]\n",
    "end\n",
    "u2 = FEM.showDoFResults(problem, r, :uvec, t=1:n+1, visible=true)\n",
    "q2 = FEM.showDoFResults(problem, q0, :uvec, t=1:n, visible=false, name=\"increment\")\n",
    "S2 = FEM.showDoFResults(problem, S, :s)"
   ]
  },
  {
   "cell_type": "code",
   "execution_count": null,
   "id": "0d9ff630",
   "metadata": {},
   "outputs": [],
   "source": [
    "f - fnl"
   ]
  },
  {
   "cell_type": "code",
   "execution_count": null,
   "id": "d2db8980",
   "metadata": {},
   "outputs": [],
   "source": [
    "#gmsh.view.probe(u1, 1, 1, 0)"
   ]
  },
  {
   "cell_type": "code",
   "execution_count": null,
   "id": "10b9a775",
   "metadata": {},
   "outputs": [],
   "source": [
    "#gmsh.view.probe(u2, 1, 1, 0)"
   ]
  },
  {
   "cell_type": "code",
   "execution_count": null,
   "id": "c89054bb",
   "metadata": {},
   "outputs": [],
   "source": [
    "#gmsh.view.probe(S1, 1, 1, 0)"
   ]
  },
  {
   "cell_type": "code",
   "execution_count": null,
   "id": "03c6af2f",
   "metadata": {},
   "outputs": [],
   "source": [
    "#gmsh.view.probe(S2, 1, 1, 0)"
   ]
  },
  {
   "cell_type": "code",
   "execution_count": null,
   "id": "d9e04c86",
   "metadata": {},
   "outputs": [],
   "source": [
    "r = nodePositionVector(problem)\n",
    "ux(x, y, z) = 0.5x\n",
    "uy(x, y, z) = 0.5y\n",
    "uz(x, y, z) = 0.5z\n",
    "q0 = FEM.field(\"body\", fx=ux, fy=uy, fz=uz)\n",
    "q = FEM.vectorField(problem, [q0])\n",
    "F = deformationGradient(problem, q)"
   ]
  },
  {
   "cell_type": "code",
   "execution_count": null,
   "id": "bda3da4b",
   "metadata": {},
   "outputs": [],
   "source": [
    "reshape(F.A[1][1:9], 3, 3)"
   ]
  },
  {
   "cell_type": "code",
   "execution_count": null,
   "id": "4aba7a4b",
   "metadata": {},
   "outputs": [],
   "source": [
    "E = (F' * F - unit(F)) / 2\n",
    "\n",
    "reshape(E.A[1][1:9], 3, 3)"
   ]
  },
  {
   "cell_type": "code",
   "execution_count": null,
   "id": "a7c506a2",
   "metadata": {},
   "outputs": [],
   "source": [
    "e = (unit(F) - inv(F * F')) / 2\n",
    "\n",
    "reshape(e.A[1][1:9], 3, 3)"
   ]
  },
  {
   "cell_type": "code",
   "execution_count": null,
   "id": "df5feea4",
   "metadata": {},
   "outputs": [],
   "source": [
    "e = inv(F') * E * inv(F)\n",
    "\n",
    "reshape(e.A[1][1:9], 3, 3)"
   ]
  },
  {
   "cell_type": "code",
   "execution_count": null,
   "id": "eb7cd73d",
   "metadata": {},
   "outputs": [],
   "source": [
    "U = sqrt(F' * F)\n",
    "\n",
    "reshape(U.A[1][1:9], 3, 3)"
   ]
  },
  {
   "cell_type": "code",
   "execution_count": null,
   "id": "49af293c",
   "metadata": {},
   "outputs": [],
   "source": [
    "Ex = 10\n",
    "νxy = 0.49999\n",
    "λ = Ex * νxy / ((1 + νxy) * (1 - 2νxy))\n",
    "μ = Ex / (2 * (1 + νxy))\n",
    "I3 = unit(F)\n",
    "iC = inv(F' * F)\n",
    "J1 = detI(F)\n",
    "SII = μ * (I3 - iC) + λ * log(J1) * inv(J1)\n",
    "\n",
    "reshape(SII.A[1][1:9], 3, 3)"
   ]
  },
  {
   "cell_type": "code",
   "execution_count": null,
   "id": "ff567b87",
   "metadata": {},
   "outputs": [],
   "source": [
    "σ = F * SII * F' * inv(detI(F))\n",
    "\n",
    "reshape(σ.A[1][1:9], 3, 3)"
   ]
  },
  {
   "cell_type": "code",
   "execution_count": null,
   "id": "f1eee084",
   "metadata": {},
   "outputs": [],
   "source": [
    "J = 0.5 * 0.5 * 0.5\n",
    "μ / J * (J^(2 / 3) - 1) + λ / J * log(J)"
   ]
  },
  {
   "cell_type": "code",
   "execution_count": 538,
   "id": "32bc3809",
   "metadata": {},
   "outputs": [
    {
     "name": "stdout",
     "output_type": "stream",
     "text": [
      "-------------------------------------------------------\n",
      "Version       : 4.13.1\n",
      "License       : GNU General Public License\n",
      "Build OS      : Linux64-sdk\n",
      "Build date    : 19700101\n",
      "Build host    : amdci7.julia.csail.mit.edu\n",
      "Build options : 64Bit ALGLIB[contrib] ANN[contrib] Bamg Blossom Cairo DIntegration Dlopen DomHex Eigen[contrib] Fltk GMP Gmm[contrib] Hxt Jpeg Kbipack LinuxJoystick MathEx[contrib] Mesh Metis[contrib] Mmg Mpeg Netgen Nii2mesh ONELAB ONELABMetamodel OpenCASCADE OpenCASCADE-CAF OpenGL OpenMP OptHom Parser Plugins Png Post QuadMeshingTools QuadTri Solver TetGen/BR TinyXML2[contrib] Untangle Voro++[contrib] WinslowUntangler Zlib\n",
      "FLTK version  : 1.3.8\n",
      "OCC version   : 7.7.2\n",
      "Packaged by   : root\n",
      "Web site      : https://gmsh.info\n",
      "Issue tracker : https://gitlab.onelab.info/gmsh/gmsh/issues\n",
      "-------------------------------------------------------\n"
     ]
    },
    {
     "name": "stderr",
     "output_type": "stream",
     "text": [
      "XRequest.18: BadValue 0x0\n"
     ]
    }
   ],
   "source": [
    "FEM.openPostProcessor()"
   ]
  },
  {
   "cell_type": "code",
   "execution_count": 514,
   "id": "7b517a53",
   "metadata": {},
   "outputs": [],
   "source": [
    "gmsh.finalize()"
   ]
  }
 ],
 "metadata": {
  "kernelspec": {
   "display_name": "Julia 1.11.5",
   "language": "julia",
   "name": "julia-1.11"
  },
  "language_info": {
   "file_extension": ".jl",
   "mimetype": "application/julia",
   "name": "julia",
   "version": "1.11.5"
  }
 },
 "nbformat": 4,
 "nbformat_minor": 5
}
