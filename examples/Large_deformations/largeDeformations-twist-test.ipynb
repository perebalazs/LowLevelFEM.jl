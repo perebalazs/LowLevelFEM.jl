{
 "cells": [
  {
   "cell_type": "code",
   "execution_count": 81,
   "id": "79fd9685",
   "metadata": {},
   "outputs": [
    {
     "name": "stderr",
     "output_type": "stream",
     "text": [
      "Warning : Gmsh has aleady been initialized\n"
     ]
    }
   ],
   "source": [
    "using LowLevelFEM\n",
    "import LowLevelFEM as FEM\n",
    "\n",
    "gmsh.initialize()"
   ]
  },
  {
   "cell_type": "code",
   "execution_count": 82,
   "id": "22283e0a",
   "metadata": {},
   "outputs": [],
   "source": [
    "using SparseArrays, LinearAlgebra"
   ]
  },
  {
   "cell_type": "code",
   "execution_count": 83,
   "id": "fa18250b",
   "metadata": {},
   "outputs": [
    {
     "name": "stdout",
     "output_type": "stream",
     "text": [
      "Info    : Reading 'body2.geo'...\n",
      "Info    : Meshing 1D...\n",
      "Info    : [  0%] Meshing curve 1 (Line)\n",
      "Info    : [ 10%] Meshing curve 2 (Line)\n",
      "Info    : [ 20%] Meshing curve 3 (Line)\n",
      "Info    : [ 30%] Meshing curve 4 (Line)\n",
      "Info    : [ 40%] Meshing curve 5 (Line)\n",
      "Info    : [ 50%] Meshing curve 6 (Line)\n",
      "Info    : [ 60%] Meshing curve 7 (Line)\n",
      "Info    : [ 60%] Meshing curve 8 (Line)\n",
      "Info    : [ 70%] Meshing curve 9 (Line)\n",
      "Info    : [ 80%] Meshing curve 10 (Line)\n",
      "Info    : [ 90%] Meshing curve 11 (Line)\n",
      "Info    : [100%] Meshing curve 12 (Line)\n",
      "Info    : Done meshing 1D (Wall 0.000935977s, CPU 0.000937s)\n",
      "Info    : Meshing 2D...\n",
      "Info    : [  0%] Meshing surface 1 (Transfinite)\n",
      "Info    : [ 20%] Meshing surface 2 (Transfinite)\n",
      "Info    : [ 40%] Meshing surface 3 (Transfinite)\n",
      "Info    : [ 60%] Meshing surface 4 (Transfinite)\n",
      "Info    : [ 70%] Meshing surface 5 (Transfinite)\n",
      "Info    : [ 90%] Meshing surface 6 (Transfinite)\n",
      "Info    : Done meshing 2D (Wall 0.000407977s, CPU 0.000386s)\n",
      "Info    : Meshing 3D...\n",
      "Info    : Meshing volume 1 (Transfinite)\n",
      "Info    : Done meshing 3D (Wall 0.00142971s, CPU 0.001428s)\n",
      "Info    : Optimizing mesh...\n",
      "Info    : Done optimizing mesh (Wall 3.2749e-05s, CPU 3.3e-05s)\n",
      "Info    : 525 nodes 792 elements\n",
      "Info    : Done reading 'body2.geo'\n"
     ]
    }
   ],
   "source": [
    "gmsh.open(\"body2.geo\")"
   ]
  },
  {
   "cell_type": "code",
   "execution_count": 84,
   "id": "936f1fab",
   "metadata": {},
   "outputs": [
    {
     "name": "stdout",
     "output_type": "stream",
     "text": [
      "Info    : RCMK renumbering...\n",
      "Info    : Done RCMK renumbering (bandwidth is now 61)\n",
      "Info    : RCMK renumbering...\n",
      "Info    : Done RCMK renumbering (bandwidth is now 61)\n"
     ]
    },
    {
     "data": {
      "text/plain": [
       "LowLevelFEM.Problem(\"body2\", :Solid, 3, 3, LowLevelFEM.Material[LowLevelFEM.Material(\"body\", :NeoHookeCompressible, 260.0, 0.3, 7.85e-9, 45.0, 4.2e8, 1.2e-5, 150.0, 100.0, 216.66666666666666)], 1.0, 525)"
      ]
     },
     "metadata": {},
     "output_type": "display_data"
    }
   ],
   "source": [
    "hooke = FEM.material(\"body\", E=260, ν=0.3)\n",
    "nonlin = FEM.material(\"body\", E=260, ν=0.3, type=:StVenantKirchhoff)\n",
    "nonlin = FEM.material(\"body\", E=260, ν=0.3, type=:NeoHookeCompressible)\n",
    "linelast = FEM.Problem([hooke])\n",
    "nonlinelast = FEM.Problem([nonlin])"
   ]
  },
  {
   "cell_type": "code",
   "execution_count": 85,
   "id": "c2a10dc9",
   "metadata": {},
   "outputs": [
    {
     "data": {
      "text/plain": [
       "(\"right\", 0, 0 + 1im, 0 + 1im)"
      ]
     },
     "metadata": {},
     "output_type": "display_data"
    }
   ],
   "source": [
    "left = FEM.displacementConstraint(\"left\", ux=0, uy=0, uz=0)\n",
    "right = FEM.displacementConstraint(\"right\", ux=0)"
   ]
  },
  {
   "cell_type": "code",
   "execution_count": 86,
   "id": "0d7a99f9",
   "metadata": {},
   "outputs": [
    {
     "data": {
      "text/plain": [
       "(\"right\", 0, Main.fy, Main.fz)"
      ]
     },
     "metadata": {},
     "output_type": "display_data"
    }
   ],
   "source": [
    "fy(x, y, z) = (-z + 0.5) * 10\n",
    "fz(x, y, z) = (y - 0.5) * 10\n",
    "load = FEM.load(\"right\", fy=fy, fz=fz)"
   ]
  },
  {
   "cell_type": "code",
   "execution_count": 87,
   "id": "16a37c0e",
   "metadata": {},
   "outputs": [
    {
     "data": {
      "text/plain": [
       "LowLevelFEM.TensorField([[3.3958922927750415e-12; 2.692254832004152; … ; -0.23113781143210485; -0.9687202121567281;;], [2.27648802586522e-12; 1.0843452597353211; … ; 0.06397603450798428; -0.07620512119106138;;], [2.1924614901358552e-12; 1.1089682991113057; … ; -0.010785097652005193; 0.05333753161117462;;], [1.5668239275457019e-12; 1.1533473241406398; … ; 0.0011585449316564578; -0.012727946604050317;;], [3.680499264732684e-12; 1.1404263539153137; … ; -4.001999833191938e-5; 0.002004803437035546;;], [-5.70115791598616e-12; 1.1426354045103198; … ; -1.1090769697075231e-5; -0.00021094436312594708;;], [-4.2245643791451355e-11; 1.1424020391296446; … ; 1.3382276231599377e-6; 1.0950889176887524e-5;;], [-1.1462094930656007e-10; 1.1424072543165158; … ; 5.58645074644204e-7; -6.929103558289684e-8;;], [-4.910253030707036e-10; 1.142410570685437; … ; -2.9534225065575015e-7; 4.1891786931730346e-7;;], [6.769266848591261e-9; 1.1424100265258974; … ; 2.563147472045557e-8; -7.525818206469137e-8;;]  …  [-6.310151177762616e-9; -3.998435000291478; … ; -1.4372949497243326e-7; 1.8950379434071185e-7;;], [5.080299365952418e-7; -3.998435452533755; … ; 3.547251381519345e-8; 9.629118758423816e-7;;], [-9.109286151253037e-7; -3.998431491016896; … ; 2.4887534921802512e-6; -1.5324195734838647e-5;;], [-4.02153661627585e-6; -3.9984611226659306; … ; -1.1497165153251387e-5; 9.567539859256513e-5;;], [-4.224549353136542e-5; -3.9983049102846446; … ; -5.686060087217726e-5; -0.00021120379164489209;;], [-9.303435817450815e-5; -3.9988133021629846; … ; 0.0011439669943991149; -0.001510550373127681;;], [0.0007594001903434394; -3.9988926167267125; … ; -0.009267447320571165; 0.02198161473038014;;], [0.0028757662204117705; -3.98322108008603; … ; 0.0488137411463363; -0.15248958662470438;;], [0.025951437764393778; -4.1006120013919345; … ; -0.12640831830457167; 0.5785150679507414;;], [-0.0362039118851146; -3.709670645695562; … ; -0.4821542903265197; 0.03247881366270211;;]], Matrix{Float64}(undef, 0, 0), [0.0], [473, 474, 475, 476, 477, 478, 479, 480, 481, 482  …  783, 784, 785, 786, 787, 788, 789, 790, 791, 792], 1, :s)"
      ]
     },
     "metadata": {},
     "output_type": "display_data"
    }
   ],
   "source": [
    "q = FEM.solveDisplacement(linelast, [load], [left, right])\n",
    "A1 = FEM.solveStrain(linelast, q)\n",
    "F1 = FEM.solveStress(linelast, q)"
   ]
  },
  {
   "cell_type": "code",
   "execution_count": 88,
   "id": "5ff50776",
   "metadata": {},
   "outputs": [
    {
     "data": {
      "text/plain": [
       "14"
      ]
     },
     "metadata": {},
     "output_type": "display_data"
    }
   ],
   "source": [
    "u1 = FEM.showDoFResults(linelast, q, :uvec)"
   ]
  },
  {
   "cell_type": "code",
   "execution_count": 89,
   "id": "421a8215",
   "metadata": {},
   "outputs": [
    {
     "name": "stdout",
     "output_type": "stream",
     "text": [
      "Info    : Running Plugin(Smooth)...\n",
      "Info    : Done running Plugin(Smooth)\n",
      "Info    : Running Plugin(Smooth)...\n",
      "Info    : Done running Plugin(Smooth)\n",
      "Info    : Running Plugin(Smooth)...\n",
      "Info    : Done running Plugin(Smooth)\n",
      "Info    : Running Plugin(Smooth)...\n",
      "Info    : Done running Plugin(Smooth)\n",
      "Info    : Running Plugin(Smooth)...\n",
      "Info    : Done running Plugin(Smooth)\n",
      "Info    : Running Plugin(Smooth)...\n",
      "Info    : Done running Plugin(Smooth)\n"
     ]
    },
    {
     "data": {
      "text/plain": [
       "20"
      ]
     },
     "metadata": {},
     "output_type": "display_data"
    }
   ],
   "source": [
    "FEM.showElementResults(linelast, A1, :ex)\n",
    "FEM.showElementResults(linelast, A1, :ey)\n",
    "FEM.showElementResults(linelast, A1, :ez)\n",
    "FEM.showElementResults(linelast, A1, :exy)\n",
    "FEM.showElementResults(linelast, A1, :eyz)\n",
    "FEM.showElementResults(linelast, A1, :ezx)"
   ]
  },
  {
   "cell_type": "code",
   "execution_count": 90,
   "id": "4e261a4b",
   "metadata": {},
   "outputs": [
    {
     "data": {
      "text/plain": [
       "(LowLevelFEM.VectorField(Matrix{Float64}[], [0.0 0.0 … 0.0 0.0; 0.0 0.0 … 0.0 0.0; … ; 0.7499999999999999 0.7290692318177784 … 0.41900334587553173 0.4167730745835165; 0.75 0.7693152033925944 … 0.8436174136915999 0.8430744725105429], [1.0, 2.0, 3.0, 4.0, 5.0, 6.0, 7.0, 8.0, 9.0, 10.0  …  42.0, 43.0, 44.0, 45.0, 46.0, 47.0, 48.0, 49.0, 50.0, 51.0], Int64[], 51, :u3D), Any[0.00453908778045529, 0.0006115453729407558, 0.0009368605694813029, 0.0031926780324305266, 0.00025652054508748057, 0.002539657171016193, 0.0005857808340096339, 0.0031969662559981358, 0.0007060153086450901, 0.0032440032752175016  …  0.0012266752040584086, 0.0007078471777417202, 0.0012645437524237868, 0.0007664549350609921, 0.0013101319983766424, 0.0008322307308232322, 0.001363834007102898, 0.0009055473708859376, 0.0014259379908432204, 0.0009866664775125095])"
      ]
     },
     "metadata": {},
     "output_type": "display_data"
    }
   ],
   "source": [
    "r, e = FEM.solveDeformation(nonlinelast, [load], [left, right],\n",
    "    followerLoad=true,\n",
    "    loadSteps=50,\n",
    "    rampedLoad=true,\n",
    "    rampedSupport=false,\n",
    "    maxIteration=10,\n",
    "    saveSteps=true,\n",
    "    saveIterations=false,\n",
    "    plotConvergence=true,\n",
    "    relativeError=1e-3\n",
    ")"
   ]
  },
  {
   "cell_type": "code",
   "execution_count": 91,
   "id": "fb86e9a2",
   "metadata": {},
   "outputs": [
    {
     "data": {
      "text/plain": [
       "21"
      ]
     },
     "metadata": {},
     "output_type": "display_data"
    }
   ],
   "source": [
    "r1 = FEM.showDeformationResults(nonlinelast, r, :uvec)"
   ]
  },
  {
   "cell_type": "code",
   "execution_count": 92,
   "id": "1866e2da",
   "metadata": {},
   "outputs": [
    {
     "data": {
      "image/png": "[encoded data removed]",
      "image/svg+xml": [
       "<?xml version=\"1.0\" encoding=\"utf-8\"?>\n",
       "<svg xmlns=\"http://www.w3.org/2000/svg\" xmlns:xlink=\"http://www.w3.org/1999/xlink\" width=\"600\" height=\"400\" viewBox=\"0 0 2400 1600\">\n",
       "<defs>\n",
       "  <clipPath id=\"clip680\">\n",
       "    <rect x=\"0\" y=\"0\" width=\"2400\" height=\"1600\"/>\n",
       "  </clipPath>\n",
       "</defs>\n",
       "<path clip-path=\"url(#clip680)\" d=\"M0 1600 L2400 1600 L2400 0 L0 0  Z\" fill=\"#ffffff\" fill-rule=\"evenodd\" fill-opacity=\"1\"/>\n",
       "<defs>\n",
       "  <clipPath id=\"clip681\">\n",
       "    <rect x=\"480\" y=\"0\" width=\"1681\" height=\"1600\"/>\n",
       "  </clipPath>\n",
       "</defs>\n",
       "<path clip-path=\"url(#clip680)\" d=\"M224.098 1486.45 L2352.76 1486.45 L2352.76 47.2441 L224.098 47.2441  Z\" fill=\"#ffffff\" fill-rule=\"evenodd\" fill-opacity=\"1\"/>\n",
       "<defs>\n",
       "  <clipPath id=\"clip682\">\n",
       "    <rect x=\"224\" y=\"47\" width=\"2130\" height=\"1440\"/>\n",
       "  </clipPath>\n",
       "</defs>\n",
       "<polyline clip-path=\"url(#clip682)\" style=\"stroke:#000000; stroke-linecap:round; stroke-linejoin:round; stroke-width:2; stroke-opacity:0.1; fill:none\" points=\"263.851,1486.45 263.851,47.2441 \"/>\n",
       "<polyline clip-path=\"url(#clip682)\" style=\"stroke:#000000; stroke-linecap:round; stroke-linejoin:round; stroke-width:2; stroke-opacity:0.1; fill:none\" points=\"776.139,1486.45 776.139,47.2441 \"/>\n",
       "<polyline clip-path=\"url(#clip682)\" style=\"stroke:#000000; stroke-linecap:round; stroke-linejoin:round; stroke-width:2; stroke-opacity:0.1; fill:none\" points=\"1288.43,1486.45 1288.43,47.2441 \"/>\n",
       "<polyline clip-path=\"url(#clip682)\" style=\"stroke:#000000; stroke-linecap:round; stroke-linejoin:round; stroke-width:2; stroke-opacity:0.1; fill:none\" points=\"1800.71,1486.45 1800.71,47.2441 \"/>\n",
       "<polyline clip-path=\"url(#clip682)\" style=\"stroke:#000000; stroke-linecap:round; stroke-linejoin:round; stroke-width:2; stroke-opacity:0.1; fill:none\" points=\"2313,1486.45 2313,47.2441 \"/>\n",
       "<polyline clip-path=\"url(#clip682)\" style=\"stroke:#000000; stroke-linecap:round; stroke-linejoin:round; stroke-width:2; stroke-opacity:0.1; fill:none\" points=\"224.098,1265.88 2352.76,1265.88 \"/>\n",
       "<polyline clip-path=\"url(#clip682)\" style=\"stroke:#000000; stroke-linecap:round; stroke-linejoin:round; stroke-width:2; stroke-opacity:0.1; fill:none\" points=\"224.098,1011.36 2352.76,1011.36 \"/>\n",
       "<polyline clip-path=\"url(#clip682)\" style=\"stroke:#000000; stroke-linecap:round; stroke-linejoin:round; stroke-width:2; stroke-opacity:0.1; fill:none\" points=\"224.098,756.832 2352.76,756.832 \"/>\n",
       "<polyline clip-path=\"url(#clip682)\" style=\"stroke:#000000; stroke-linecap:round; stroke-linejoin:round; stroke-width:2; stroke-opacity:0.1; fill:none\" points=\"224.098,502.309 2352.76,502.309 \"/>\n",
       "<polyline clip-path=\"url(#clip682)\" style=\"stroke:#000000; stroke-linecap:round; stroke-linejoin:round; stroke-width:2; stroke-opacity:0.1; fill:none\" points=\"224.098,247.785 2352.76,247.785 \"/>\n",
       "<polyline clip-path=\"url(#clip680)\" style=\"stroke:#000000; stroke-linecap:round; stroke-linejoin:round; stroke-width:4; stroke-opacity:1; fill:none\" points=\"224.098,1486.45 2352.76,1486.45 \"/>\n",
       "<polyline clip-path=\"url(#clip680)\" style=\"stroke:#000000; stroke-linecap:round; stroke-linejoin:round; stroke-width:4; stroke-opacity:1; fill:none\" points=\"263.851,1486.45 263.851,1467.55 \"/>\n",
       "<polyline clip-path=\"url(#clip680)\" style=\"stroke:#000000; stroke-linecap:round; stroke-linejoin:round; stroke-width:4; stroke-opacity:1; fill:none\" points=\"776.139,1486.45 776.139,1467.55 \"/>\n",
       "<polyline clip-path=\"url(#clip680)\" style=\"stroke:#000000; stroke-linecap:round; stroke-linejoin:round; stroke-width:4; stroke-opacity:1; fill:none\" points=\"1288.43,1486.45 1288.43,1467.55 \"/>\n",
       "<polyline clip-path=\"url(#clip680)\" style=\"stroke:#000000; stroke-linecap:round; stroke-linejoin:round; stroke-width:4; stroke-opacity:1; fill:none\" points=\"1800.71,1486.45 1800.71,1467.55 \"/>\n",
       "<polyline clip-path=\"url(#clip680)\" style=\"stroke:#000000; stroke-linecap:round; stroke-linejoin:round; stroke-width:4; stroke-opacity:1; fill:none\" points=\"2313,1486.45 2313,1467.55 \"/>\n",
       "<path clip-path=\"url(#clip680)\" d=\"M263.851 1517.37 Q260.24 1517.37 258.412 1520.93 Q256.606 1524.47 256.606 1531.6 Q256.606 1538.71 258.412 1542.27 Q260.24 1545.82 263.851 1545.82 Q267.486 1545.82 269.291 1542.27 Q271.12 1538.71 271.12 1531.6 Q271.12 1524.47 269.291 1520.93 Q267.486 1517.37 263.851 1517.37 M263.851 1513.66 Q269.662 1513.66 272.717 1518.27 Q275.796 1522.85 275.796 1531.6 Q275.796 1540.33 272.717 1544.94 Q269.662 1549.52 263.851 1549.52 Q258.041 1549.52 254.963 1544.94 Q251.907 1540.33 251.907 1531.6 Q251.907 1522.85 254.963 1518.27 Q258.041 1513.66 263.851 1513.66 Z\" fill=\"#000000\" fill-rule=\"nonzero\" fill-opacity=\"1\" /><path clip-path=\"url(#clip680)\" d=\"M755.41 1544.91 L771.729 1544.91 L771.729 1548.85 L749.785 1548.85 L749.785 1544.91 Q752.447 1542.16 757.03 1537.53 Q761.637 1532.88 762.817 1531.53 Q765.063 1529.01 765.942 1527.27 Q766.845 1525.51 766.845 1523.82 Q766.845 1521.07 764.901 1519.33 Q762.979 1517.6 759.878 1517.6 Q757.679 1517.6 755.225 1518.36 Q752.794 1519.13 750.017 1520.68 L750.017 1515.95 Q752.841 1514.82 755.294 1514.24 Q757.748 1513.66 759.785 1513.66 Q765.155 1513.66 768.35 1516.35 Q771.544 1519.03 771.544 1523.52 Q771.544 1525.65 770.734 1527.57 Q769.947 1529.47 767.841 1532.07 Q767.262 1532.74 764.16 1535.95 Q761.058 1539.15 755.41 1544.91 Z\" fill=\"#000000\" fill-rule=\"nonzero\" fill-opacity=\"1\" /><path clip-path=\"url(#clip680)\" d=\"M781.591 1514.29 L799.947 1514.29 L799.947 1518.22 L785.873 1518.22 L785.873 1526.7 Q786.891 1526.35 787.91 1526.19 Q788.928 1526 789.947 1526 Q795.734 1526 799.114 1529.17 Q802.493 1532.34 802.493 1537.76 Q802.493 1543.34 799.021 1546.44 Q795.549 1549.52 789.229 1549.52 Q787.053 1549.52 784.785 1549.15 Q782.54 1548.78 780.132 1548.04 L780.132 1543.34 Q782.216 1544.47 784.438 1545.03 Q786.66 1545.58 789.137 1545.58 Q793.141 1545.58 795.479 1543.48 Q797.817 1541.37 797.817 1537.76 Q797.817 1534.15 795.479 1532.04 Q793.141 1529.94 789.137 1529.94 Q787.262 1529.94 785.387 1530.35 Q783.535 1530.77 781.591 1531.65 L781.591 1514.29 Z\" fill=\"#000000\" fill-rule=\"nonzero\" fill-opacity=\"1\" /><path clip-path=\"url(#clip680)\" d=\"M1263.13 1514.29 L1281.48 1514.29 L1281.48 1518.22 L1267.41 1518.22 L1267.41 1526.7 Q1268.43 1526.35 1269.45 1526.19 Q1270.46 1526 1271.48 1526 Q1277.27 1526 1280.65 1529.17 Q1284.03 1532.34 1284.03 1537.76 Q1284.03 1543.34 1280.56 1546.44 Q1277.08 1549.52 1270.76 1549.52 Q1268.59 1549.52 1266.32 1549.15 Q1264.08 1548.78 1261.67 1548.04 L1261.67 1543.34 Q1263.75 1544.47 1265.97 1545.03 Q1268.2 1545.58 1270.67 1545.58 Q1274.68 1545.58 1277.01 1543.48 Q1279.35 1541.37 1279.35 1537.76 Q1279.35 1534.15 1277.01 1532.04 Q1274.68 1529.94 1270.67 1529.94 Q1268.8 1529.94 1266.92 1530.35 Q1265.07 1530.77 1263.13 1531.65 L1263.13 1514.29 Z\" fill=\"#000000\" fill-rule=\"nonzero\" fill-opacity=\"1\" /><path clip-path=\"url(#clip680)\" d=\"M1303.24 1517.37 Q1299.63 1517.37 1297.8 1520.93 Q1296 1524.47 1296 1531.6 Q1296 1538.71 1297.8 1542.27 Q1299.63 1545.82 1303.24 1545.82 Q1306.88 1545.82 1308.68 1542.27 Q1310.51 1538.71 1310.51 1531.6 Q1310.51 1524.47 1308.68 1520.93 Q1306.88 1517.37 1303.24 1517.37 M1303.24 1513.66 Q1309.05 1513.66 1312.11 1518.27 Q1315.19 1522.85 1315.19 1531.6 Q1315.19 1540.33 1312.11 1544.94 Q1309.05 1549.52 1303.24 1549.52 Q1297.43 1549.52 1294.35 1544.94 Q1291.3 1540.33 1291.3 1531.6 Q1291.3 1522.85 1294.35 1518.27 Q1297.43 1513.66 1303.24 1513.66 Z\" fill=\"#000000\" fill-rule=\"nonzero\" fill-opacity=\"1\" /><path clip-path=\"url(#clip680)\" d=\"M1774.57 1514.29 L1796.79 1514.29 L1796.79 1516.28 L1784.24 1548.85 L1779.36 1548.85 L1791.17 1518.22 L1774.57 1518.22 L1774.57 1514.29 Z\" fill=\"#000000\" fill-rule=\"nonzero\" fill-opacity=\"1\" /><path clip-path=\"url(#clip680)\" d=\"M1805.96 1514.29 L1824.31 1514.29 L1824.31 1518.22 L1810.24 1518.22 L1810.24 1526.7 Q1811.26 1526.35 1812.28 1526.19 Q1813.3 1526 1814.31 1526 Q1820.1 1526 1823.48 1529.17 Q1826.86 1532.34 1826.86 1537.76 Q1826.86 1543.34 1823.39 1546.44 Q1819.92 1549.52 1813.6 1549.52 Q1811.42 1549.52 1809.15 1549.15 Q1806.91 1548.78 1804.5 1548.04 L1804.5 1543.34 Q1806.58 1544.47 1808.8 1545.03 Q1811.03 1545.58 1813.5 1545.58 Q1817.51 1545.58 1819.85 1543.48 Q1822.18 1541.37 1822.18 1537.76 Q1822.18 1534.15 1819.85 1532.04 Q1817.51 1529.94 1813.5 1529.94 Q1811.63 1529.94 1809.75 1530.35 Q1807.9 1530.77 1805.96 1531.65 L1805.96 1514.29 Z\" fill=\"#000000\" fill-rule=\"nonzero\" fill-opacity=\"1\" /><path clip-path=\"url(#clip680)\" d=\"M2272.61 1544.91 L2280.25 1544.91 L2280.25 1518.55 L2271.94 1520.21 L2271.94 1515.95 L2280.2 1514.29 L2284.88 1514.29 L2284.88 1544.91 L2292.52 1544.91 L2292.52 1548.85 L2272.61 1548.85 L2272.61 1544.91 Z\" fill=\"#000000\" fill-rule=\"nonzero\" fill-opacity=\"1\" /><path clip-path=\"url(#clip680)\" d=\"M2311.96 1517.37 Q2308.35 1517.37 2306.52 1520.93 Q2304.72 1524.47 2304.72 1531.6 Q2304.72 1538.71 2306.52 1542.27 Q2308.35 1545.82 2311.96 1545.82 Q2315.59 1545.82 2317.4 1542.27 Q2319.23 1538.71 2319.23 1531.6 Q2319.23 1524.47 2317.4 1520.93 Q2315.59 1517.37 2311.96 1517.37 M2311.96 1513.66 Q2317.77 1513.66 2320.83 1518.27 Q2323.91 1522.85 2323.91 1531.6 Q2323.91 1540.33 2320.83 1544.94 Q2317.77 1549.52 2311.96 1549.52 Q2306.15 1549.52 2303.07 1544.94 Q2300.02 1540.33 2300.02 1531.6 Q2300.02 1522.85 2303.07 1518.27 Q2306.15 1513.66 2311.96 1513.66 Z\" fill=\"#000000\" fill-rule=\"nonzero\" fill-opacity=\"1\" /><path clip-path=\"url(#clip680)\" d=\"M2342.12 1517.37 Q2338.51 1517.37 2336.68 1520.93 Q2334.88 1524.47 2334.88 1531.6 Q2334.88 1538.71 2336.68 1542.27 Q2338.51 1545.82 2342.12 1545.82 Q2345.76 1545.82 2347.56 1542.27 Q2349.39 1538.71 2349.39 1531.6 Q2349.39 1524.47 2347.56 1520.93 Q2345.76 1517.37 2342.12 1517.37 M2342.12 1513.66 Q2347.93 1513.66 2350.99 1518.27 Q2354.07 1522.85 2354.07 1531.6 Q2354.07 1540.33 2350.99 1544.94 Q2347.93 1549.52 2342.12 1549.52 Q2336.31 1549.52 2333.23 1544.94 Q2330.18 1540.33 2330.18 1531.6 Q2330.18 1522.85 2333.23 1518.27 Q2336.31 1513.66 2342.12 1513.66 Z\" fill=\"#000000\" fill-rule=\"nonzero\" fill-opacity=\"1\" /><polyline clip-path=\"url(#clip680)\" style=\"stroke:#000000; stroke-linecap:round; stroke-linejoin:round; stroke-width:4; stroke-opacity:1; fill:none\" points=\"224.098,1486.45 224.098,47.2441 \"/>\n",
       "<polyline clip-path=\"url(#clip680)\" style=\"stroke:#000000; stroke-linecap:round; stroke-linejoin:round; stroke-width:4; stroke-opacity:1; fill:none\" points=\"224.098,1265.88 242.996,1265.88 \"/>\n",
       "<polyline clip-path=\"url(#clip680)\" style=\"stroke:#000000; stroke-linecap:round; stroke-linejoin:round; stroke-width:4; stroke-opacity:1; fill:none\" points=\"224.098,1011.36 242.996,1011.36 \"/>\n",
       "<polyline clip-path=\"url(#clip680)\" style=\"stroke:#000000; stroke-linecap:round; stroke-linejoin:round; stroke-width:4; stroke-opacity:1; fill:none\" points=\"224.098,756.832 242.996,756.832 \"/>\n",
       "<polyline clip-path=\"url(#clip680)\" style=\"stroke:#000000; stroke-linecap:round; stroke-linejoin:round; stroke-width:4; stroke-opacity:1; fill:none\" points=\"224.098,502.309 242.996,502.309 \"/>\n",
       "<polyline clip-path=\"url(#clip680)\" style=\"stroke:#000000; stroke-linecap:round; stroke-linejoin:round; stroke-width:4; stroke-opacity:1; fill:none\" points=\"224.098,247.785 242.996,247.785 \"/>\n",
       "<path clip-path=\"url(#clip680)\" d=\"M50.9921 1266.33 L80.6679 1266.33 L80.6679 1270.27 L50.9921 1270.27 L50.9921 1266.33 Z\" fill=\"#000000\" fill-rule=\"nonzero\" fill-opacity=\"1\" /><path clip-path=\"url(#clip680)\" d=\"M104.927 1264.53 Q108.283 1265.24 110.158 1267.51 Q112.057 1269.78 112.057 1273.11 Q112.057 1278.23 108.538 1281.03 Q105.02 1283.83 98.5382 1283.83 Q96.3623 1283.83 94.0475 1283.39 Q91.7558 1282.97 89.3021 1282.12 L89.3021 1277.6 Q91.2465 1278.74 93.5613 1279.32 Q95.8761 1279.9 98.3993 1279.9 Q102.797 1279.9 105.089 1278.16 Q107.404 1276.42 107.404 1273.11 Q107.404 1270.06 105.251 1268.34 Q103.121 1266.61 99.3021 1266.61 L95.2743 1266.61 L95.2743 1262.77 L99.4872 1262.77 Q102.936 1262.77 104.765 1261.4 Q106.594 1260.01 106.594 1257.42 Q106.594 1254.76 104.696 1253.34 Q102.821 1251.91 99.3021 1251.91 Q97.3808 1251.91 95.1817 1252.33 Q92.9826 1252.74 90.3438 1253.62 L90.3438 1249.46 Q93.0058 1248.72 95.3206 1248.34 Q97.6585 1247.97 99.7187 1247.97 Q105.043 1247.97 108.145 1250.4 Q111.246 1252.81 111.246 1256.93 Q111.246 1259.8 109.603 1261.79 Q107.959 1263.76 104.927 1264.53 Z\" fill=\"#000000\" fill-rule=\"nonzero\" fill-opacity=\"1\" /><path clip-path=\"url(#clip680)\" d=\"M120.922 1277.28 L125.807 1277.28 L125.807 1283.16 L120.922 1283.16 L120.922 1277.28 Z\" fill=\"#000000\" fill-rule=\"nonzero\" fill-opacity=\"1\" /><path clip-path=\"url(#clip680)\" d=\"M136.038 1248.6 L154.394 1248.6 L154.394 1252.53 L140.32 1252.53 L140.32 1261.01 Q141.339 1260.66 142.357 1260.5 Q143.376 1260.31 144.394 1260.31 Q150.181 1260.31 153.561 1263.48 Q156.941 1266.65 156.941 1272.07 Q156.941 1277.65 153.468 1280.75 Q149.996 1283.83 143.677 1283.83 Q141.501 1283.83 139.232 1283.46 Q136.987 1283.09 134.58 1282.35 L134.58 1277.65 Q136.663 1278.78 138.885 1279.34 Q141.107 1279.9 143.584 1279.9 Q147.589 1279.9 149.927 1277.79 Q152.265 1275.68 152.265 1272.07 Q152.265 1268.46 149.927 1266.35 Q147.589 1264.25 143.584 1264.25 Q141.709 1264.25 139.834 1264.66 Q137.982 1265.08 136.038 1265.96 L136.038 1248.6 Z\" fill=\"#000000\" fill-rule=\"nonzero\" fill-opacity=\"1\" /><path clip-path=\"url(#clip680)\" d=\"M176.153 1251.68 Q172.542 1251.68 170.714 1255.24 Q168.908 1258.78 168.908 1265.91 Q168.908 1273.02 170.714 1276.59 Q172.542 1280.13 176.153 1280.13 Q179.788 1280.13 181.593 1276.59 Q183.422 1273.02 183.422 1265.91 Q183.422 1258.78 181.593 1255.24 Q179.788 1251.68 176.153 1251.68 M176.153 1247.97 Q181.964 1247.97 185.019 1252.58 Q188.098 1257.16 188.098 1265.91 Q188.098 1274.64 185.019 1279.25 Q181.964 1283.83 176.153 1283.83 Q170.343 1283.83 167.265 1279.25 Q164.209 1274.64 164.209 1265.91 Q164.209 1257.16 167.265 1252.58 Q170.343 1247.97 176.153 1247.97 Z\" fill=\"#000000\" fill-rule=\"nonzero\" fill-opacity=\"1\" /><path clip-path=\"url(#clip680)\" d=\"M51.9875 1011.81 L81.6633 1011.81 L81.6633 1015.74 L51.9875 1015.74 L51.9875 1011.81 Z\" fill=\"#000000\" fill-rule=\"nonzero\" fill-opacity=\"1\" /><path clip-path=\"url(#clip680)\" d=\"M105.922 1010 Q109.279 1010.72 111.154 1012.99 Q113.052 1015.26 113.052 1018.59 Q113.052 1023.71 109.533 1026.51 Q106.015 1029.31 99.5335 1029.31 Q97.3576 1029.31 95.0428 1028.87 Q92.7512 1028.45 90.2975 1027.59 L90.2975 1023.08 Q92.2419 1024.21 94.5567 1024.79 Q96.8715 1025.37 99.3946 1025.37 Q103.793 1025.37 106.084 1023.64 Q108.399 1021.9 108.399 1018.59 Q108.399 1015.53 106.246 1013.82 Q104.117 1012.08 100.297 1012.08 L96.2697 1012.08 L96.2697 1008.24 L100.483 1008.24 Q103.932 1008.24 105.76 1006.88 Q107.589 1005.49 107.589 1002.9 Q107.589 1000.23 105.691 998.821 Q103.816 997.386 100.297 997.386 Q98.3761 997.386 96.1771 997.803 Q93.978 998.219 91.3391 999.099 L91.3391 994.932 Q94.0012 994.192 96.316 993.821 Q98.6539 993.451 100.714 993.451 Q106.038 993.451 109.14 995.881 Q112.242 998.289 112.242 1002.41 Q112.242 1005.28 110.598 1007.27 Q108.955 1009.24 105.922 1010 Z\" fill=\"#000000\" fill-rule=\"nonzero\" fill-opacity=\"1\" /><path clip-path=\"url(#clip680)\" d=\"M121.918 1022.76 L126.802 1022.76 L126.802 1028.64 L121.918 1028.64 L121.918 1022.76 Z\" fill=\"#000000\" fill-rule=\"nonzero\" fill-opacity=\"1\" /><path clip-path=\"url(#clip680)\" d=\"M141.015 1024.7 L157.334 1024.7 L157.334 1028.64 L135.39 1028.64 L135.39 1024.7 Q138.052 1021.95 142.635 1017.32 Q147.242 1012.66 148.422 1011.32 Q150.668 1008.8 151.547 1007.06 Q152.45 1005.3 152.45 1003.61 Q152.45 1000.86 150.505 999.122 Q148.584 997.386 145.482 997.386 Q143.283 997.386 140.83 998.15 Q138.399 998.914 135.621 1000.46 L135.621 995.742 Q138.445 994.608 140.899 994.029 Q143.353 993.451 145.39 993.451 Q150.76 993.451 153.955 996.136 Q157.149 998.821 157.149 1003.31 Q157.149 1005.44 156.339 1007.36 Q155.552 1009.26 153.445 1011.85 Q152.867 1012.52 149.765 1015.74 Q146.663 1018.94 141.015 1024.7 Z\" fill=\"#000000\" fill-rule=\"nonzero\" fill-opacity=\"1\" /><path clip-path=\"url(#clip680)\" d=\"M167.195 994.076 L185.552 994.076 L185.552 998.011 L171.478 998.011 L171.478 1006.48 Q172.496 1006.14 173.515 1005.97 Q174.533 1005.79 175.552 1005.79 Q181.339 1005.79 184.718 1008.96 Q188.098 1012.13 188.098 1017.55 Q188.098 1023.13 184.626 1026.23 Q181.153 1029.31 174.834 1029.31 Q172.658 1029.31 170.39 1028.94 Q168.144 1028.57 165.737 1027.83 L165.737 1023.13 Q167.82 1024.26 170.042 1024.82 Q172.265 1025.37 174.741 1025.37 Q178.746 1025.37 181.084 1023.27 Q183.422 1021.16 183.422 1017.55 Q183.422 1013.94 181.084 1011.83 Q178.746 1009.72 174.741 1009.72 Q172.866 1009.72 170.991 1010.14 Q169.14 1010.56 167.195 1011.44 L167.195 994.076 Z\" fill=\"#000000\" fill-rule=\"nonzero\" fill-opacity=\"1\" /><path clip-path=\"url(#clip680)\" d=\"M50.9921 757.284 L80.6679 757.284 L80.6679 761.219 L50.9921 761.219 L50.9921 757.284 Z\" fill=\"#000000\" fill-rule=\"nonzero\" fill-opacity=\"1\" /><path clip-path=\"url(#clip680)\" d=\"M104.927 755.478 Q108.283 756.196 110.158 758.464 Q112.057 760.733 112.057 764.066 Q112.057 769.182 108.538 771.983 Q105.02 774.784 98.5382 774.784 Q96.3623 774.784 94.0475 774.344 Q91.7558 773.927 89.3021 773.071 L89.3021 768.557 Q91.2465 769.691 93.5613 770.27 Q95.8761 770.848 98.3993 770.848 Q102.797 770.848 105.089 769.112 Q107.404 767.376 107.404 764.066 Q107.404 761.01 105.251 759.297 Q103.121 757.561 99.3021 757.561 L95.2743 757.561 L95.2743 753.719 L99.4872 753.719 Q102.936 753.719 104.765 752.353 Q106.594 750.964 106.594 748.372 Q106.594 745.71 104.696 744.298 Q102.821 742.862 99.3021 742.862 Q97.3808 742.862 95.1817 743.279 Q92.9826 743.696 90.3438 744.575 L90.3438 740.409 Q93.0058 739.668 95.3206 739.298 Q97.6585 738.927 99.7187 738.927 Q105.043 738.927 108.145 741.358 Q111.246 743.765 111.246 747.886 Q111.246 750.756 109.603 752.747 Q107.959 754.714 104.927 755.478 Z\" fill=\"#000000\" fill-rule=\"nonzero\" fill-opacity=\"1\" /><path clip-path=\"url(#clip680)\" d=\"M120.922 768.233 L125.807 768.233 L125.807 774.112 L120.922 774.112 L120.922 768.233 Z\" fill=\"#000000\" fill-rule=\"nonzero\" fill-opacity=\"1\" /><path clip-path=\"url(#clip680)\" d=\"M145.992 742.631 Q142.381 742.631 140.552 746.196 Q138.746 749.737 138.746 756.867 Q138.746 763.973 140.552 767.538 Q142.381 771.08 145.992 771.08 Q149.626 771.08 151.431 767.538 Q153.26 763.973 153.26 756.867 Q153.26 749.737 151.431 746.196 Q149.626 742.631 145.992 742.631 M145.992 738.927 Q151.802 738.927 154.857 743.534 Q157.936 748.117 157.936 756.867 Q157.936 765.594 154.857 770.2 Q151.802 774.784 145.992 774.784 Q140.181 774.784 137.103 770.2 Q134.047 765.594 134.047 756.867 Q134.047 748.117 137.103 743.534 Q140.181 738.927 145.992 738.927 Z\" fill=\"#000000\" fill-rule=\"nonzero\" fill-opacity=\"1\" /><path clip-path=\"url(#clip680)\" d=\"M176.153 742.631 Q172.542 742.631 170.714 746.196 Q168.908 749.737 168.908 756.867 Q168.908 763.973 170.714 767.538 Q172.542 771.08 176.153 771.08 Q179.788 771.08 181.593 767.538 Q183.422 763.973 183.422 756.867 Q183.422 749.737 181.593 746.196 Q179.788 742.631 176.153 742.631 M176.153 738.927 Q181.964 738.927 185.019 743.534 Q188.098 748.117 188.098 756.867 Q188.098 765.594 185.019 770.2 Q181.964 774.784 176.153 774.784 Q170.343 774.784 167.265 770.2 Q164.209 765.594 164.209 756.867 Q164.209 748.117 167.265 743.534 Q170.343 738.927 176.153 738.927 Z\" fill=\"#000000\" fill-rule=\"nonzero\" fill-opacity=\"1\" /><path clip-path=\"url(#clip680)\" d=\"M51.9875 502.76 L81.6633 502.76 L81.6633 506.695 L51.9875 506.695 L51.9875 502.76 Z\" fill=\"#000000\" fill-rule=\"nonzero\" fill-opacity=\"1\" /><path clip-path=\"url(#clip680)\" d=\"M95.7836 515.653 L112.103 515.653 L112.103 519.589 L90.1586 519.589 L90.1586 515.653 Q92.8206 512.899 97.4039 508.269 Q102.01 503.617 103.191 502.274 Q105.436 499.751 106.316 498.015 Q107.219 496.255 107.219 494.566 Q107.219 491.811 105.274 490.075 Q103.353 488.339 100.251 488.339 Q98.0521 488.339 95.5984 489.103 Q93.1678 489.867 90.3901 491.418 L90.3901 486.695 Q93.2141 485.561 95.6678 484.982 Q98.1215 484.404 100.159 484.404 Q105.529 484.404 108.723 487.089 Q111.918 489.774 111.918 494.265 Q111.918 496.394 111.108 498.316 Q110.321 500.214 108.214 502.806 Q107.635 503.478 104.534 506.695 Q101.432 509.89 95.7836 515.653 Z\" fill=\"#000000\" fill-rule=\"nonzero\" fill-opacity=\"1\" /><path clip-path=\"url(#clip680)\" d=\"M121.918 513.709 L126.802 513.709 L126.802 519.589 L121.918 519.589 L121.918 513.709 Z\" fill=\"#000000\" fill-rule=\"nonzero\" fill-opacity=\"1\" /><path clip-path=\"url(#clip680)\" d=\"M135.806 485.029 L158.029 485.029 L158.029 487.019 L145.482 519.589 L140.598 519.589 L152.404 488.964 L135.806 488.964 L135.806 485.029 Z\" fill=\"#000000\" fill-rule=\"nonzero\" fill-opacity=\"1\" /><path clip-path=\"url(#clip680)\" d=\"M167.195 485.029 L185.552 485.029 L185.552 488.964 L171.478 488.964 L171.478 497.436 Q172.496 497.089 173.515 496.927 Q174.533 496.742 175.552 496.742 Q181.339 496.742 184.718 499.913 Q188.098 503.084 188.098 508.501 Q188.098 514.079 184.626 517.181 Q181.153 520.26 174.834 520.26 Q172.658 520.26 170.39 519.89 Q168.144 519.519 165.737 518.778 L165.737 514.079 Q167.82 515.214 170.042 515.769 Q172.265 516.325 174.741 516.325 Q178.746 516.325 181.084 514.218 Q183.422 512.112 183.422 508.501 Q183.422 504.89 181.084 502.783 Q178.746 500.677 174.741 500.677 Q172.866 500.677 170.991 501.093 Q169.14 501.51 167.195 502.39 L167.195 485.029 Z\" fill=\"#000000\" fill-rule=\"nonzero\" fill-opacity=\"1\" /><path clip-path=\"url(#clip680)\" d=\"M50.9921 248.236 L80.6679 248.236 L80.6679 252.172 L50.9921 252.172 L50.9921 248.236 Z\" fill=\"#000000\" fill-rule=\"nonzero\" fill-opacity=\"1\" /><path clip-path=\"url(#clip680)\" d=\"M94.7882 261.13 L111.108 261.13 L111.108 265.065 L89.1632 265.065 L89.1632 261.13 Q91.8252 258.375 96.4085 253.746 Q101.015 249.093 102.196 247.75 Q104.441 245.227 105.321 243.491 Q106.223 241.732 106.223 240.042 Q106.223 237.287 104.279 235.551 Q102.358 233.815 99.2558 233.815 Q97.0567 233.815 94.603 234.579 Q92.1725 235.343 89.3947 236.894 L89.3947 232.172 Q92.2188 231.037 94.6724 230.459 Q97.1261 229.88 99.1632 229.88 Q104.534 229.88 107.728 232.565 Q110.922 235.25 110.922 239.741 Q110.922 241.871 110.112 243.792 Q109.325 245.69 107.219 248.283 Q106.64 248.954 103.538 252.172 Q100.436 255.366 94.7882 261.13 Z\" fill=\"#000000\" fill-rule=\"nonzero\" fill-opacity=\"1\" /><path clip-path=\"url(#clip680)\" d=\"M120.922 259.185 L125.807 259.185 L125.807 265.065 L120.922 265.065 L120.922 259.185 Z\" fill=\"#000000\" fill-rule=\"nonzero\" fill-opacity=\"1\" /><path clip-path=\"url(#clip680)\" d=\"M136.038 230.505 L154.394 230.505 L154.394 234.44 L140.32 234.44 L140.32 242.912 Q141.339 242.565 142.357 242.403 Q143.376 242.218 144.394 242.218 Q150.181 242.218 153.561 245.389 Q156.941 248.561 156.941 253.977 Q156.941 259.556 153.468 262.658 Q149.996 265.736 143.677 265.736 Q141.501 265.736 139.232 265.366 Q136.987 264.996 134.58 264.255 L134.58 259.556 Q136.663 260.69 138.885 261.246 Q141.107 261.801 143.584 261.801 Q147.589 261.801 149.927 259.695 Q152.265 257.588 152.265 253.977 Q152.265 250.366 149.927 248.26 Q147.589 246.153 143.584 246.153 Q141.709 246.153 139.834 246.57 Q137.982 246.986 136.038 247.866 L136.038 230.505 Z\" fill=\"#000000\" fill-rule=\"nonzero\" fill-opacity=\"1\" /><path clip-path=\"url(#clip680)\" d=\"M176.153 233.584 Q172.542 233.584 170.714 237.149 Q168.908 240.69 168.908 247.82 Q168.908 254.926 170.714 258.491 Q172.542 262.033 176.153 262.033 Q179.788 262.033 181.593 258.491 Q183.422 254.926 183.422 247.82 Q183.422 240.69 181.593 237.149 Q179.788 233.584 176.153 233.584 M176.153 229.88 Q181.964 229.88 185.019 234.487 Q188.098 239.07 188.098 247.82 Q188.098 256.547 185.019 261.153 Q181.964 265.736 176.153 265.736 Q170.343 265.736 167.265 261.153 Q164.209 256.547 164.209 247.82 Q164.209 239.07 167.265 234.487 Q170.343 229.88 176.153 229.88 Z\" fill=\"#000000\" fill-rule=\"nonzero\" fill-opacity=\"1\" /><polyline clip-path=\"url(#clip682)\" style=\"stroke:#009af9; stroke-linecap:round; stroke-linejoin:round; stroke-width:4; stroke-opacity:1; fill:none\" points=\"284.343,87.9763 304.834,974.268 325.326,785.67 345.817,243.555 366.309,1358.4 386.8,344.733 407.292,993.3 427.783,242.961 448.275,910.754 468.766,236.503 489.258,818.371 509.75,223.349 530.241,768.342 550.733,215.005 571.224,733.699 591.716,780.267 612.207,322.767 632.699,1445.72 653.19,211.037 673.682,1059.18 694.173,415.528 714.665,985.485 735.156,273.071 755.648,919.372 776.139,313.275 796.631,872.486 817.122,299.069 837.614,844.159 858.105,309.43 878.597,832.784 899.088,317.314 919.58,828.749 940.071,329.334 960.563,832.282 981.054,343.253 1001.55,841.058 1022.04,359.051 1042.53,854.269 1063.02,376.387 1083.51,871.196 1104,395.022 1124.49,891.339 1144.99,414.742 1165.48,914.282 1185.97,435.352 1206.46,939.651 1226.95,456.672 1247.44,952.521 1267.94,478.537 1288.43,949.307 1308.92,500.799 1329.41,948.397 1349.9,523.33 1370.39,950.635 1390.88,546.022 1411.38,955.593 1431.87,568.785 1452.36,961.788 1472.85,591.549 1493.34,962.241 1513.83,614.256 1534.33,964.564 1554.82,636.865 1575.31,968.433 1595.8,659.344 1616.29,973.554 1636.78,681.673 1657.27,979.664 1677.77,703.843 1698.26,986.519 1718.75,725.852 1739.24,993.896 1759.73,747.712 1780.22,1001.59 1800.71,769.443 1821.21,683.726 1841.7,1119.01 1862.19,725.859 1882.68,1112.58 1903.17,708.179 1923.66,1067.98 1944.16,700.202 1964.65,1035.63 1985.14,693.916 2005.63,1005.8 2026.12,686.718 2046.61,975.311 2067.1,677.689 2087.6,943.286 2108.09,666.497 2128.58,909.608 2149.07,653.054 2169.56,874.436 2190.05,637.394 2210.54,838.032 2231.04,619.632 2251.53,800.701 2272.02,599.943 2292.51,762.767 \"/>\n",
       "<path clip-path=\"url(#clip680)\" d=\"M2016.5 198.898 L2281.8 198.898 L2281.8 95.2176 L2016.5 95.2176  Z\" fill=\"#ffffff\" fill-rule=\"evenodd\" fill-opacity=\"1\"/>\n",
       "<polyline clip-path=\"url(#clip680)\" style=\"stroke:#000000; stroke-linecap:round; stroke-linejoin:round; stroke-width:4; stroke-opacity:1; fill:none\" points=\"2016.5,198.898 2281.8,198.898 2281.8,95.2176 2016.5,95.2176 2016.5,198.898 \"/>\n",
       "<polyline clip-path=\"url(#clip680)\" style=\"stroke:#009af9; stroke-linecap:round; stroke-linejoin:round; stroke-width:4; stroke-opacity:1; fill:none\" points=\"2040.16,147.058 2182.07,147.058 \"/>\n",
       "<path clip-path=\"url(#clip680)\" d=\"M2219.56 166.745 Q2217.76 171.375 2216.04 172.787 Q2214.33 174.199 2211.46 174.199 L2208.06 174.199 L2208.06 170.634 L2210.56 170.634 Q2212.32 170.634 2213.29 169.8 Q2214.26 168.967 2215.44 165.865 L2216.2 163.921 L2205.72 138.412 L2210.23 138.412 L2218.33 158.689 L2226.44 138.412 L2230.95 138.412 L2219.56 166.745 Z\" fill=\"#000000\" fill-rule=\"nonzero\" fill-opacity=\"1\" /><path clip-path=\"url(#clip680)\" d=\"M2238.24 160.402 L2245.88 160.402 L2245.88 134.037 L2237.57 135.703 L2237.57 131.444 L2245.83 129.778 L2250.51 129.778 L2250.51 160.402 L2258.15 160.402 L2258.15 164.338 L2238.24 164.338 L2238.24 160.402 Z\" fill=\"#000000\" fill-rule=\"nonzero\" fill-opacity=\"1\" /></svg>\n"
      ],
      "text/html": [
       "<?xml version=\"1.0\" encoding=\"utf-8\"?>\n",
       "<svg xmlns=\"http://www.w3.org/2000/svg\" xmlns:xlink=\"http://www.w3.org/1999/xlink\" width=\"600\" height=\"400\" viewBox=\"0 0 2400 1600\">\n",
       "<defs>\n",
       "  <clipPath id=\"clip730\">\n",
       "    <rect x=\"0\" y=\"0\" width=\"2400\" height=\"1600\"/>\n",
       "  </clipPath>\n",
       "</defs>\n",
       "<path clip-path=\"url(#clip730)\" d=\"M0 1600 L2400 1600 L2400 0 L0 0  Z\" fill=\"#ffffff\" fill-rule=\"evenodd\" fill-opacity=\"1\"/>\n",
       "<defs>\n",
       "  <clipPath id=\"clip731\">\n",
       "    <rect x=\"480\" y=\"0\" width=\"1681\" height=\"1600\"/>\n",
       "  </clipPath>\n",
       "</defs>\n",
       "<path clip-path=\"url(#clip730)\" d=\"M224.098 1486.45 L2352.76 1486.45 L2352.76 47.2441 L224.098 47.2441  Z\" fill=\"#ffffff\" fill-rule=\"evenodd\" fill-opacity=\"1\"/>\n",
       "<defs>\n",
       "  <clipPath id=\"clip732\">\n",
       "    <rect x=\"224\" y=\"47\" width=\"2130\" height=\"1440\"/>\n",
       "  </clipPath>\n",
       "</defs>\n",
       "<polyline clip-path=\"url(#clip732)\" style=\"stroke:#000000; stroke-linecap:round; stroke-linejoin:round; stroke-width:2; stroke-opacity:0.1; fill:none\" points=\"263.851,1486.45 263.851,47.2441 \"/>\n",
       "<polyline clip-path=\"url(#clip732)\" style=\"stroke:#000000; stroke-linecap:round; stroke-linejoin:round; stroke-width:2; stroke-opacity:0.1; fill:none\" points=\"776.139,1486.45 776.139,47.2441 \"/>\n",
       "<polyline clip-path=\"url(#clip732)\" style=\"stroke:#000000; stroke-linecap:round; stroke-linejoin:round; stroke-width:2; stroke-opacity:0.1; fill:none\" points=\"1288.43,1486.45 1288.43,47.2441 \"/>\n",
       "<polyline clip-path=\"url(#clip732)\" style=\"stroke:#000000; stroke-linecap:round; stroke-linejoin:round; stroke-width:2; stroke-opacity:0.1; fill:none\" points=\"1800.71,1486.45 1800.71,47.2441 \"/>\n",
       "<polyline clip-path=\"url(#clip732)\" style=\"stroke:#000000; stroke-linecap:round; stroke-linejoin:round; stroke-width:2; stroke-opacity:0.1; fill:none\" points=\"2313,1486.45 2313,47.2441 \"/>\n",
       "<polyline clip-path=\"url(#clip732)\" style=\"stroke:#000000; stroke-linecap:round; stroke-linejoin:round; stroke-width:2; stroke-opacity:0.1; fill:none\" points=\"224.098,1265.88 2352.76,1265.88 \"/>\n",
       "<polyline clip-path=\"url(#clip732)\" style=\"stroke:#000000; stroke-linecap:round; stroke-linejoin:round; stroke-width:2; stroke-opacity:0.1; fill:none\" points=\"224.098,1011.36 2352.76,1011.36 \"/>\n",
       "<polyline clip-path=\"url(#clip732)\" style=\"stroke:#000000; stroke-linecap:round; stroke-linejoin:round; stroke-width:2; stroke-opacity:0.1; fill:none\" points=\"224.098,756.832 2352.76,756.832 \"/>\n",
       "<polyline clip-path=\"url(#clip732)\" style=\"stroke:#000000; stroke-linecap:round; stroke-linejoin:round; stroke-width:2; stroke-opacity:0.1; fill:none\" points=\"224.098,502.309 2352.76,502.309 \"/>\n",
       "<polyline clip-path=\"url(#clip732)\" style=\"stroke:#000000; stroke-linecap:round; stroke-linejoin:round; stroke-width:2; stroke-opacity:0.1; fill:none\" points=\"224.098,247.785 2352.76,247.785 \"/>\n",
       "<polyline clip-path=\"url(#clip730)\" style=\"stroke:#000000; stroke-linecap:round; stroke-linejoin:round; stroke-width:4; stroke-opacity:1; fill:none\" points=\"224.098,1486.45 2352.76,1486.45 \"/>\n",
       "<polyline clip-path=\"url(#clip730)\" style=\"stroke:#000000; stroke-linecap:round; stroke-linejoin:round; stroke-width:4; stroke-opacity:1; fill:none\" points=\"263.851,1486.45 263.851,1467.55 \"/>\n",
       "<polyline clip-path=\"url(#clip730)\" style=\"stroke:#000000; stroke-linecap:round; stroke-linejoin:round; stroke-width:4; stroke-opacity:1; fill:none\" points=\"776.139,1486.45 776.139,1467.55 \"/>\n",
       "<polyline clip-path=\"url(#clip730)\" style=\"stroke:#000000; stroke-linecap:round; stroke-linejoin:round; stroke-width:4; stroke-opacity:1; fill:none\" points=\"1288.43,1486.45 1288.43,1467.55 \"/>\n",
       "<polyline clip-path=\"url(#clip730)\" style=\"stroke:#000000; stroke-linecap:round; stroke-linejoin:round; stroke-width:4; stroke-opacity:1; fill:none\" points=\"1800.71,1486.45 1800.71,1467.55 \"/>\n",
       "<polyline clip-path=\"url(#clip730)\" style=\"stroke:#000000; stroke-linecap:round; stroke-linejoin:round; stroke-width:4; stroke-opacity:1; fill:none\" points=\"2313,1486.45 2313,1467.55 \"/>\n",
       "<path clip-path=\"url(#clip730)\" d=\"M263.851 1517.37 Q260.24 1517.37 258.412 1520.93 Q256.606 1524.47 256.606 1531.6 Q256.606 1538.71 258.412 1542.27 Q260.24 1545.82 263.851 1545.82 Q267.486 1545.82 269.291 1542.27 Q271.12 1538.71 271.12 1531.6 Q271.12 1524.47 269.291 1520.93 Q267.486 1517.37 263.851 1517.37 M263.851 1513.66 Q269.662 1513.66 272.717 1518.27 Q275.796 1522.85 275.796 1531.6 Q275.796 1540.33 272.717 1544.94 Q269.662 1549.52 263.851 1549.52 Q258.041 1549.52 254.963 1544.94 Q251.907 1540.33 251.907 1531.6 Q251.907 1522.85 254.963 1518.27 Q258.041 1513.66 263.851 1513.66 Z\" fill=\"#000000\" fill-rule=\"nonzero\" fill-opacity=\"1\" /><path clip-path=\"url(#clip730)\" d=\"M755.41 1544.91 L771.729 1544.91 L771.729 1548.85 L749.785 1548.85 L749.785 1544.91 Q752.447 1542.16 757.03 1537.53 Q761.637 1532.88 762.817 1531.53 Q765.063 1529.01 765.942 1527.27 Q766.845 1525.51 766.845 1523.82 Q766.845 1521.07 764.901 1519.33 Q762.979 1517.6 759.878 1517.6 Q757.679 1517.6 755.225 1518.36 Q752.794 1519.13 750.017 1520.68 L750.017 1515.95 Q752.841 1514.82 755.294 1514.24 Q757.748 1513.66 759.785 1513.66 Q765.155 1513.66 768.35 1516.35 Q771.544 1519.03 771.544 1523.52 Q771.544 1525.65 770.734 1527.57 Q769.947 1529.47 767.841 1532.07 Q767.262 1532.74 764.16 1535.95 Q761.058 1539.15 755.41 1544.91 Z\" fill=\"#000000\" fill-rule=\"nonzero\" fill-opacity=\"1\" /><path clip-path=\"url(#clip730)\" d=\"M781.591 1514.29 L799.947 1514.29 L799.947 1518.22 L785.873 1518.22 L785.873 1526.7 Q786.891 1526.35 787.91 1526.19 Q788.928 1526 789.947 1526 Q795.734 1526 799.114 1529.17 Q802.493 1532.34 802.493 1537.76 Q802.493 1543.34 799.021 1546.44 Q795.549 1549.52 789.229 1549.52 Q787.053 1549.52 784.785 1549.15 Q782.54 1548.78 780.132 1548.04 L780.132 1543.34 Q782.216 1544.47 784.438 1545.03 Q786.66 1545.58 789.137 1545.58 Q793.141 1545.58 795.479 1543.48 Q797.817 1541.37 797.817 1537.76 Q797.817 1534.15 795.479 1532.04 Q793.141 1529.94 789.137 1529.94 Q787.262 1529.94 785.387 1530.35 Q783.535 1530.77 781.591 1531.65 L781.591 1514.29 Z\" fill=\"#000000\" fill-rule=\"nonzero\" fill-opacity=\"1\" /><path clip-path=\"url(#clip730)\" d=\"M1263.13 1514.29 L1281.48 1514.29 L1281.48 1518.22 L1267.41 1518.22 L1267.41 1526.7 Q1268.43 1526.35 1269.45 1526.19 Q1270.46 1526 1271.48 1526 Q1277.27 1526 1280.65 1529.17 Q1284.03 1532.34 1284.03 1537.76 Q1284.03 1543.34 1280.56 1546.44 Q1277.08 1549.52 1270.76 1549.52 Q1268.59 1549.52 1266.32 1549.15 Q1264.08 1548.78 1261.67 1548.04 L1261.67 1543.34 Q1263.75 1544.47 1265.97 1545.03 Q1268.2 1545.58 1270.67 1545.58 Q1274.68 1545.58 1277.01 1543.48 Q1279.35 1541.37 1279.35 1537.76 Q1279.35 1534.15 1277.01 1532.04 Q1274.68 1529.94 1270.67 1529.94 Q1268.8 1529.94 1266.92 1530.35 Q1265.07 1530.77 1263.13 1531.65 L1263.13 1514.29 Z\" fill=\"#000000\" fill-rule=\"nonzero\" fill-opacity=\"1\" /><path clip-path=\"url(#clip730)\" d=\"M1303.24 1517.37 Q1299.63 1517.37 1297.8 1520.93 Q1296 1524.47 1296 1531.6 Q1296 1538.71 1297.8 1542.27 Q1299.63 1545.82 1303.24 1545.82 Q1306.88 1545.82 1308.68 1542.27 Q1310.51 1538.71 1310.51 1531.6 Q1310.51 1524.47 1308.68 1520.93 Q1306.88 1517.37 1303.24 1517.37 M1303.24 1513.66 Q1309.05 1513.66 1312.11 1518.27 Q1315.19 1522.85 1315.19 1531.6 Q1315.19 1540.33 1312.11 1544.94 Q1309.05 1549.52 1303.24 1549.52 Q1297.43 1549.52 1294.35 1544.94 Q1291.3 1540.33 1291.3 1531.6 Q1291.3 1522.85 1294.35 1518.27 Q1297.43 1513.66 1303.24 1513.66 Z\" fill=\"#000000\" fill-rule=\"nonzero\" fill-opacity=\"1\" /><path clip-path=\"url(#clip730)\" d=\"M1774.57 1514.29 L1796.79 1514.29 L1796.79 1516.28 L1784.24 1548.85 L1779.36 1548.85 L1791.17 1518.22 L1774.57 1518.22 L1774.57 1514.29 Z\" fill=\"#000000\" fill-rule=\"nonzero\" fill-opacity=\"1\" /><path clip-path=\"url(#clip730)\" d=\"M1805.96 1514.29 L1824.31 1514.29 L1824.31 1518.22 L1810.24 1518.22 L1810.24 1526.7 Q1811.26 1526.35 1812.28 1526.19 Q1813.3 1526 1814.31 1526 Q1820.1 1526 1823.48 1529.17 Q1826.86 1532.34 1826.86 1537.76 Q1826.86 1543.34 1823.39 1546.44 Q1819.92 1549.52 1813.6 1549.52 Q1811.42 1549.52 1809.15 1549.15 Q1806.91 1548.78 1804.5 1548.04 L1804.5 1543.34 Q1806.58 1544.47 1808.8 1545.03 Q1811.03 1545.58 1813.5 1545.58 Q1817.51 1545.58 1819.85 1543.48 Q1822.18 1541.37 1822.18 1537.76 Q1822.18 1534.15 1819.85 1532.04 Q1817.51 1529.94 1813.5 1529.94 Q1811.63 1529.94 1809.75 1530.35 Q1807.9 1530.77 1805.96 1531.65 L1805.96 1514.29 Z\" fill=\"#000000\" fill-rule=\"nonzero\" fill-opacity=\"1\" /><path clip-path=\"url(#clip730)\" d=\"M2272.61 1544.91 L2280.25 1544.91 L2280.25 1518.55 L2271.94 1520.21 L2271.94 1515.95 L2280.2 1514.29 L2284.88 1514.29 L2284.88 1544.91 L2292.52 1544.91 L2292.52 1548.85 L2272.61 1548.85 L2272.61 1544.91 Z\" fill=\"#000000\" fill-rule=\"nonzero\" fill-opacity=\"1\" /><path clip-path=\"url(#clip730)\" d=\"M2311.96 1517.37 Q2308.35 1517.37 2306.52 1520.93 Q2304.72 1524.47 2304.72 1531.6 Q2304.72 1538.71 2306.52 1542.27 Q2308.35 1545.82 2311.96 1545.82 Q2315.59 1545.82 2317.4 1542.27 Q2319.23 1538.71 2319.23 1531.6 Q2319.23 1524.47 2317.4 1520.93 Q2315.59 1517.37 2311.96 1517.37 M2311.96 1513.66 Q2317.77 1513.66 2320.83 1518.27 Q2323.91 1522.85 2323.91 1531.6 Q2323.91 1540.33 2320.83 1544.94 Q2317.77 1549.52 2311.96 1549.52 Q2306.15 1549.52 2303.07 1544.94 Q2300.02 1540.33 2300.02 1531.6 Q2300.02 1522.85 2303.07 1518.27 Q2306.15 1513.66 2311.96 1513.66 Z\" fill=\"#000000\" fill-rule=\"nonzero\" fill-opacity=\"1\" /><path clip-path=\"url(#clip730)\" d=\"M2342.12 1517.37 Q2338.51 1517.37 2336.68 1520.93 Q2334.88 1524.47 2334.88 1531.6 Q2334.88 1538.71 2336.68 1542.27 Q2338.51 1545.82 2342.12 1545.82 Q2345.76 1545.82 2347.56 1542.27 Q2349.39 1538.71 2349.39 1531.6 Q2349.39 1524.47 2347.56 1520.93 Q2345.76 1517.37 2342.12 1517.37 M2342.12 1513.66 Q2347.93 1513.66 2350.99 1518.27 Q2354.07 1522.85 2354.07 1531.6 Q2354.07 1540.33 2350.99 1544.94 Q2347.93 1549.52 2342.12 1549.52 Q2336.31 1549.52 2333.23 1544.94 Q2330.18 1540.33 2330.18 1531.6 Q2330.18 1522.85 2333.23 1518.27 Q2336.31 1513.66 2342.12 1513.66 Z\" fill=\"#000000\" fill-rule=\"nonzero\" fill-opacity=\"1\" /><polyline clip-path=\"url(#clip730)\" style=\"stroke:#000000; stroke-linecap:round; stroke-linejoin:round; stroke-width:4; stroke-opacity:1; fill:none\" points=\"224.098,1486.45 224.098,47.2441 \"/>\n",
       "<polyline clip-path=\"url(#clip730)\" style=\"stroke:#000000; stroke-linecap:round; stroke-linejoin:round; stroke-width:4; stroke-opacity:1; fill:none\" points=\"224.098,1265.88 242.996,1265.88 \"/>\n",
       "<polyline clip-path=\"url(#clip730)\" style=\"stroke:#000000; stroke-linecap:round; stroke-linejoin:round; stroke-width:4; stroke-opacity:1; fill:none\" points=\"224.098,1011.36 242.996,1011.36 \"/>\n",
       "<polyline clip-path=\"url(#clip730)\" style=\"stroke:#000000; stroke-linecap:round; stroke-linejoin:round; stroke-width:4; stroke-opacity:1; fill:none\" points=\"224.098,756.832 242.996,756.832 \"/>\n",
       "<polyline clip-path=\"url(#clip730)\" style=\"stroke:#000000; stroke-linecap:round; stroke-linejoin:round; stroke-width:4; stroke-opacity:1; fill:none\" points=\"224.098,502.309 242.996,502.309 \"/>\n",
       "<polyline clip-path=\"url(#clip730)\" style=\"stroke:#000000; stroke-linecap:round; stroke-linejoin:round; stroke-width:4; stroke-opacity:1; fill:none\" points=\"224.098,247.785 242.996,247.785 \"/>\n",
       "<path clip-path=\"url(#clip730)\" d=\"M50.9921 1266.33 L80.6679 1266.33 L80.6679 1270.27 L50.9921 1270.27 L50.9921 1266.33 Z\" fill=\"#000000\" fill-rule=\"nonzero\" fill-opacity=\"1\" /><path clip-path=\"url(#clip730)\" d=\"M104.927 1264.53 Q108.283 1265.24 110.158 1267.51 Q112.057 1269.78 112.057 1273.11 Q112.057 1278.23 108.538 1281.03 Q105.02 1283.83 98.5382 1283.83 Q96.3623 1283.83 94.0475 1283.39 Q91.7558 1282.97 89.3021 1282.12 L89.3021 1277.6 Q91.2465 1278.74 93.5613 1279.32 Q95.8761 1279.9 98.3993 1279.9 Q102.797 1279.9 105.089 1278.16 Q107.404 1276.42 107.404 1273.11 Q107.404 1270.06 105.251 1268.34 Q103.121 1266.61 99.3021 1266.61 L95.2743 1266.61 L95.2743 1262.77 L99.4872 1262.77 Q102.936 1262.77 104.765 1261.4 Q106.594 1260.01 106.594 1257.42 Q106.594 1254.76 104.696 1253.34 Q102.821 1251.91 99.3021 1251.91 Q97.3808 1251.91 95.1817 1252.33 Q92.9826 1252.74 90.3438 1253.62 L90.3438 1249.46 Q93.0058 1248.72 95.3206 1248.34 Q97.6585 1247.97 99.7187 1247.97 Q105.043 1247.97 108.145 1250.4 Q111.246 1252.81 111.246 1256.93 Q111.246 1259.8 109.603 1261.79 Q107.959 1263.76 104.927 1264.53 Z\" fill=\"#000000\" fill-rule=\"nonzero\" fill-opacity=\"1\" /><path clip-path=\"url(#clip730)\" d=\"M120.922 1277.28 L125.807 1277.28 L125.807 1283.16 L120.922 1283.16 L120.922 1277.28 Z\" fill=\"#000000\" fill-rule=\"nonzero\" fill-opacity=\"1\" /><path clip-path=\"url(#clip730)\" d=\"M136.038 1248.6 L154.394 1248.6 L154.394 1252.53 L140.32 1252.53 L140.32 1261.01 Q141.339 1260.66 142.357 1260.5 Q143.376 1260.31 144.394 1260.31 Q150.181 1260.31 153.561 1263.48 Q156.941 1266.65 156.941 1272.07 Q156.941 1277.65 153.468 1280.75 Q149.996 1283.83 143.677 1283.83 Q141.501 1283.83 139.232 1283.46 Q136.987 1283.09 134.58 1282.35 L134.58 1277.65 Q136.663 1278.78 138.885 1279.34 Q141.107 1279.9 143.584 1279.9 Q147.589 1279.9 149.927 1277.79 Q152.265 1275.68 152.265 1272.07 Q152.265 1268.46 149.927 1266.35 Q147.589 1264.25 143.584 1264.25 Q141.709 1264.25 139.834 1264.66 Q137.982 1265.08 136.038 1265.96 L136.038 1248.6 Z\" fill=\"#000000\" fill-rule=\"nonzero\" fill-opacity=\"1\" /><path clip-path=\"url(#clip730)\" d=\"M176.153 1251.68 Q172.542 1251.68 170.714 1255.24 Q168.908 1258.78 168.908 1265.91 Q168.908 1273.02 170.714 1276.59 Q172.542 1280.13 176.153 1280.13 Q179.788 1280.13 181.593 1276.59 Q183.422 1273.02 183.422 1265.91 Q183.422 1258.78 181.593 1255.24 Q179.788 1251.68 176.153 1251.68 M176.153 1247.97 Q181.964 1247.97 185.019 1252.58 Q188.098 1257.16 188.098 1265.91 Q188.098 1274.64 185.019 1279.25 Q181.964 1283.83 176.153 1283.83 Q170.343 1283.83 167.265 1279.25 Q164.209 1274.64 164.209 1265.91 Q164.209 1257.16 167.265 1252.58 Q170.343 1247.97 176.153 1247.97 Z\" fill=\"#000000\" fill-rule=\"nonzero\" fill-opacity=\"1\" /><path clip-path=\"url(#clip730)\" d=\"M51.9875 1011.81 L81.6633 1011.81 L81.6633 1015.74 L51.9875 1015.74 L51.9875 1011.81 Z\" fill=\"#000000\" fill-rule=\"nonzero\" fill-opacity=\"1\" /><path clip-path=\"url(#clip730)\" d=\"M105.922 1010 Q109.279 1010.72 111.154 1012.99 Q113.052 1015.26 113.052 1018.59 Q113.052 1023.71 109.533 1026.51 Q106.015 1029.31 99.5335 1029.31 Q97.3576 1029.31 95.0428 1028.87 Q92.7512 1028.45 90.2975 1027.59 L90.2975 1023.08 Q92.2419 1024.21 94.5567 1024.79 Q96.8715 1025.37 99.3946 1025.37 Q103.793 1025.37 106.084 1023.64 Q108.399 1021.9 108.399 1018.59 Q108.399 1015.53 106.246 1013.82 Q104.117 1012.08 100.297 1012.08 L96.2697 1012.08 L96.2697 1008.24 L100.483 1008.24 Q103.932 1008.24 105.76 1006.88 Q107.589 1005.49 107.589 1002.9 Q107.589 1000.23 105.691 998.821 Q103.816 997.386 100.297 997.386 Q98.3761 997.386 96.1771 997.803 Q93.978 998.219 91.3391 999.099 L91.3391 994.932 Q94.0012 994.192 96.316 993.821 Q98.6539 993.451 100.714 993.451 Q106.038 993.451 109.14 995.881 Q112.242 998.289 112.242 1002.41 Q112.242 1005.28 110.598 1007.27 Q108.955 1009.24 105.922 1010 Z\" fill=\"#000000\" fill-rule=\"nonzero\" fill-opacity=\"1\" /><path clip-path=\"url(#clip730)\" d=\"M121.918 1022.76 L126.802 1022.76 L126.802 1028.64 L121.918 1028.64 L121.918 1022.76 Z\" fill=\"#000000\" fill-rule=\"nonzero\" fill-opacity=\"1\" /><path clip-path=\"url(#clip730)\" d=\"M141.015 1024.7 L157.334 1024.7 L157.334 1028.64 L135.39 1028.64 L135.39 1024.7 Q138.052 1021.95 142.635 1017.32 Q147.242 1012.66 148.422 1011.32 Q150.668 1008.8 151.547 1007.06 Q152.45 1005.3 152.45 1003.61 Q152.45 1000.86 150.505 999.122 Q148.584 997.386 145.482 997.386 Q143.283 997.386 140.83 998.15 Q138.399 998.914 135.621 1000.46 L135.621 995.742 Q138.445 994.608 140.899 994.029 Q143.353 993.451 145.39 993.451 Q150.76 993.451 153.955 996.136 Q157.149 998.821 157.149 1003.31 Q157.149 1005.44 156.339 1007.36 Q155.552 1009.26 153.445 1011.85 Q152.867 1012.52 149.765 1015.74 Q146.663 1018.94 141.015 1024.7 Z\" fill=\"#000000\" fill-rule=\"nonzero\" fill-opacity=\"1\" /><path clip-path=\"url(#clip730)\" d=\"M167.195 994.076 L185.552 994.076 L185.552 998.011 L171.478 998.011 L171.478 1006.48 Q172.496 1006.14 173.515 1005.97 Q174.533 1005.79 175.552 1005.79 Q181.339 1005.79 184.718 1008.96 Q188.098 1012.13 188.098 1017.55 Q188.098 1023.13 184.626 1026.23 Q181.153 1029.31 174.834 1029.31 Q172.658 1029.31 170.39 1028.94 Q168.144 1028.57 165.737 1027.83 L165.737 1023.13 Q167.82 1024.26 170.042 1024.82 Q172.265 1025.37 174.741 1025.37 Q178.746 1025.37 181.084 1023.27 Q183.422 1021.16 183.422 1017.55 Q183.422 1013.94 181.084 1011.83 Q178.746 1009.72 174.741 1009.72 Q172.866 1009.72 170.991 1010.14 Q169.14 1010.56 167.195 1011.44 L167.195 994.076 Z\" fill=\"#000000\" fill-rule=\"nonzero\" fill-opacity=\"1\" /><path clip-path=\"url(#clip730)\" d=\"M50.9921 757.284 L80.6679 757.284 L80.6679 761.219 L50.9921 761.219 L50.9921 757.284 Z\" fill=\"#000000\" fill-rule=\"nonzero\" fill-opacity=\"1\" /><path clip-path=\"url(#clip730)\" d=\"M104.927 755.478 Q108.283 756.196 110.158 758.464 Q112.057 760.733 112.057 764.066 Q112.057 769.182 108.538 771.983 Q105.02 774.784 98.5382 774.784 Q96.3623 774.784 94.0475 774.344 Q91.7558 773.927 89.3021 773.071 L89.3021 768.557 Q91.2465 769.691 93.5613 770.27 Q95.8761 770.848 98.3993 770.848 Q102.797 770.848 105.089 769.112 Q107.404 767.376 107.404 764.066 Q107.404 761.01 105.251 759.297 Q103.121 757.561 99.3021 757.561 L95.2743 757.561 L95.2743 753.719 L99.4872 753.719 Q102.936 753.719 104.765 752.353 Q106.594 750.964 106.594 748.372 Q106.594 745.71 104.696 744.298 Q102.821 742.862 99.3021 742.862 Q97.3808 742.862 95.1817 743.279 Q92.9826 743.696 90.3438 744.575 L90.3438 740.409 Q93.0058 739.668 95.3206 739.298 Q97.6585 738.927 99.7187 738.927 Q105.043 738.927 108.145 741.358 Q111.246 743.765 111.246 747.886 Q111.246 750.756 109.603 752.747 Q107.959 754.714 104.927 755.478 Z\" fill=\"#000000\" fill-rule=\"nonzero\" fill-opacity=\"1\" /><path clip-path=\"url(#clip730)\" d=\"M120.922 768.233 L125.807 768.233 L125.807 774.112 L120.922 774.112 L120.922 768.233 Z\" fill=\"#000000\" fill-rule=\"nonzero\" fill-opacity=\"1\" /><path clip-path=\"url(#clip730)\" d=\"M145.992 742.631 Q142.381 742.631 140.552 746.196 Q138.746 749.737 138.746 756.867 Q138.746 763.973 140.552 767.538 Q142.381 771.08 145.992 771.08 Q149.626 771.08 151.431 767.538 Q153.26 763.973 153.26 756.867 Q153.26 749.737 151.431 746.196 Q149.626 742.631 145.992 742.631 M145.992 738.927 Q151.802 738.927 154.857 743.534 Q157.936 748.117 157.936 756.867 Q157.936 765.594 154.857 770.2 Q151.802 774.784 145.992 774.784 Q140.181 774.784 137.103 770.2 Q134.047 765.594 134.047 756.867 Q134.047 748.117 137.103 743.534 Q140.181 738.927 145.992 738.927 Z\" fill=\"#000000\" fill-rule=\"nonzero\" fill-opacity=\"1\" /><path clip-path=\"url(#clip730)\" d=\"M176.153 742.631 Q172.542 742.631 170.714 746.196 Q168.908 749.737 168.908 756.867 Q168.908 763.973 170.714 767.538 Q172.542 771.08 176.153 771.08 Q179.788 771.08 181.593 767.538 Q183.422 763.973 183.422 756.867 Q183.422 749.737 181.593 746.196 Q179.788 742.631 176.153 742.631 M176.153 738.927 Q181.964 738.927 185.019 743.534 Q188.098 748.117 188.098 756.867 Q188.098 765.594 185.019 770.2 Q181.964 774.784 176.153 774.784 Q170.343 774.784 167.265 770.2 Q164.209 765.594 164.209 756.867 Q164.209 748.117 167.265 743.534 Q170.343 738.927 176.153 738.927 Z\" fill=\"#000000\" fill-rule=\"nonzero\" fill-opacity=\"1\" /><path clip-path=\"url(#clip730)\" d=\"M51.9875 502.76 L81.6633 502.76 L81.6633 506.695 L51.9875 506.695 L51.9875 502.76 Z\" fill=\"#000000\" fill-rule=\"nonzero\" fill-opacity=\"1\" /><path clip-path=\"url(#clip730)\" d=\"M95.7836 515.653 L112.103 515.653 L112.103 519.589 L90.1586 519.589 L90.1586 515.653 Q92.8206 512.899 97.4039 508.269 Q102.01 503.617 103.191 502.274 Q105.436 499.751 106.316 498.015 Q107.219 496.255 107.219 494.566 Q107.219 491.811 105.274 490.075 Q103.353 488.339 100.251 488.339 Q98.0521 488.339 95.5984 489.103 Q93.1678 489.867 90.3901 491.418 L90.3901 486.695 Q93.2141 485.561 95.6678 484.982 Q98.1215 484.404 100.159 484.404 Q105.529 484.404 108.723 487.089 Q111.918 489.774 111.918 494.265 Q111.918 496.394 111.108 498.316 Q110.321 500.214 108.214 502.806 Q107.635 503.478 104.534 506.695 Q101.432 509.89 95.7836 515.653 Z\" fill=\"#000000\" fill-rule=\"nonzero\" fill-opacity=\"1\" /><path clip-path=\"url(#clip730)\" d=\"M121.918 513.709 L126.802 513.709 L126.802 519.589 L121.918 519.589 L121.918 513.709 Z\" fill=\"#000000\" fill-rule=\"nonzero\" fill-opacity=\"1\" /><path clip-path=\"url(#clip730)\" d=\"M135.806 485.029 L158.029 485.029 L158.029 487.019 L145.482 519.589 L140.598 519.589 L152.404 488.964 L135.806 488.964 L135.806 485.029 Z\" fill=\"#000000\" fill-rule=\"nonzero\" fill-opacity=\"1\" /><path clip-path=\"url(#clip730)\" d=\"M167.195 485.029 L185.552 485.029 L185.552 488.964 L171.478 488.964 L171.478 497.436 Q172.496 497.089 173.515 496.927 Q174.533 496.742 175.552 496.742 Q181.339 496.742 184.718 499.913 Q188.098 503.084 188.098 508.501 Q188.098 514.079 184.626 517.181 Q181.153 520.26 174.834 520.26 Q172.658 520.26 170.39 519.89 Q168.144 519.519 165.737 518.778 L165.737 514.079 Q167.82 515.214 170.042 515.769 Q172.265 516.325 174.741 516.325 Q178.746 516.325 181.084 514.218 Q183.422 512.112 183.422 508.501 Q183.422 504.89 181.084 502.783 Q178.746 500.677 174.741 500.677 Q172.866 500.677 170.991 501.093 Q169.14 501.51 167.195 502.39 L167.195 485.029 Z\" fill=\"#000000\" fill-rule=\"nonzero\" fill-opacity=\"1\" /><path clip-path=\"url(#clip730)\" d=\"M50.9921 248.236 L80.6679 248.236 L80.6679 252.172 L50.9921 252.172 L50.9921 248.236 Z\" fill=\"#000000\" fill-rule=\"nonzero\" fill-opacity=\"1\" /><path clip-path=\"url(#clip730)\" d=\"M94.7882 261.13 L111.108 261.13 L111.108 265.065 L89.1632 265.065 L89.1632 261.13 Q91.8252 258.375 96.4085 253.746 Q101.015 249.093 102.196 247.75 Q104.441 245.227 105.321 243.491 Q106.223 241.732 106.223 240.042 Q106.223 237.287 104.279 235.551 Q102.358 233.815 99.2558 233.815 Q97.0567 233.815 94.603 234.579 Q92.1725 235.343 89.3947 236.894 L89.3947 232.172 Q92.2188 231.037 94.6724 230.459 Q97.1261 229.88 99.1632 229.88 Q104.534 229.88 107.728 232.565 Q110.922 235.25 110.922 239.741 Q110.922 241.871 110.112 243.792 Q109.325 245.69 107.219 248.283 Q106.64 248.954 103.538 252.172 Q100.436 255.366 94.7882 261.13 Z\" fill=\"#000000\" fill-rule=\"nonzero\" fill-opacity=\"1\" /><path clip-path=\"url(#clip730)\" d=\"M120.922 259.185 L125.807 259.185 L125.807 265.065 L120.922 265.065 L120.922 259.185 Z\" fill=\"#000000\" fill-rule=\"nonzero\" fill-opacity=\"1\" /><path clip-path=\"url(#clip730)\" d=\"M136.038 230.505 L154.394 230.505 L154.394 234.44 L140.32 234.44 L140.32 242.912 Q141.339 242.565 142.357 242.403 Q143.376 242.218 144.394 242.218 Q150.181 242.218 153.561 245.389 Q156.941 248.561 156.941 253.977 Q156.941 259.556 153.468 262.658 Q149.996 265.736 143.677 265.736 Q141.501 265.736 139.232 265.366 Q136.987 264.996 134.58 264.255 L134.58 259.556 Q136.663 260.69 138.885 261.246 Q141.107 261.801 143.584 261.801 Q147.589 261.801 149.927 259.695 Q152.265 257.588 152.265 253.977 Q152.265 250.366 149.927 248.26 Q147.589 246.153 143.584 246.153 Q141.709 246.153 139.834 246.57 Q137.982 246.986 136.038 247.866 L136.038 230.505 Z\" fill=\"#000000\" fill-rule=\"nonzero\" fill-opacity=\"1\" /><path clip-path=\"url(#clip730)\" d=\"M176.153 233.584 Q172.542 233.584 170.714 237.149 Q168.908 240.69 168.908 247.82 Q168.908 254.926 170.714 258.491 Q172.542 262.033 176.153 262.033 Q179.788 262.033 181.593 258.491 Q183.422 254.926 183.422 247.82 Q183.422 240.69 181.593 237.149 Q179.788 233.584 176.153 233.584 M176.153 229.88 Q181.964 229.88 185.019 234.487 Q188.098 239.07 188.098 247.82 Q188.098 256.547 185.019 261.153 Q181.964 265.736 176.153 265.736 Q170.343 265.736 167.265 261.153 Q164.209 256.547 164.209 247.82 Q164.209 239.07 167.265 234.487 Q170.343 229.88 176.153 229.88 Z\" fill=\"#000000\" fill-rule=\"nonzero\" fill-opacity=\"1\" /><polyline clip-path=\"url(#clip732)\" style=\"stroke:#009af9; stroke-linecap:round; stroke-linejoin:round; stroke-width:4; stroke-opacity:1; fill:none\" points=\"284.343,87.9763 304.834,974.268 325.326,785.67 345.817,243.555 366.309,1358.4 386.8,344.733 407.292,993.3 427.783,242.961 448.275,910.754 468.766,236.503 489.258,818.371 509.75,223.349 530.241,768.342 550.733,215.005 571.224,733.699 591.716,780.267 612.207,322.767 632.699,1445.72 653.19,211.037 673.682,1059.18 694.173,415.528 714.665,985.485 735.156,273.071 755.648,919.372 776.139,313.275 796.631,872.486 817.122,299.069 837.614,844.159 858.105,309.43 878.597,832.784 899.088,317.314 919.58,828.749 940.071,329.334 960.563,832.282 981.054,343.253 1001.55,841.058 1022.04,359.051 1042.53,854.269 1063.02,376.387 1083.51,871.196 1104,395.022 1124.49,891.339 1144.99,414.742 1165.48,914.282 1185.97,435.352 1206.46,939.651 1226.95,456.672 1247.44,952.521 1267.94,478.537 1288.43,949.307 1308.92,500.799 1329.41,948.397 1349.9,523.33 1370.39,950.635 1390.88,546.022 1411.38,955.593 1431.87,568.785 1452.36,961.788 1472.85,591.549 1493.34,962.241 1513.83,614.256 1534.33,964.564 1554.82,636.865 1575.31,968.433 1595.8,659.344 1616.29,973.554 1636.78,681.673 1657.27,979.664 1677.77,703.843 1698.26,986.519 1718.75,725.852 1739.24,993.896 1759.73,747.712 1780.22,1001.59 1800.71,769.443 1821.21,683.726 1841.7,1119.01 1862.19,725.859 1882.68,1112.58 1903.17,708.179 1923.66,1067.98 1944.16,700.202 1964.65,1035.63 1985.14,693.916 2005.63,1005.8 2026.12,686.718 2046.61,975.311 2067.1,677.689 2087.6,943.286 2108.09,666.497 2128.58,909.608 2149.07,653.054 2169.56,874.436 2190.05,637.394 2210.54,838.032 2231.04,619.632 2251.53,800.701 2272.02,599.943 2292.51,762.767 \"/>\n",
       "<path clip-path=\"url(#clip730)\" d=\"M2016.5 198.898 L2281.8 198.898 L2281.8 95.2176 L2016.5 95.2176  Z\" fill=\"#ffffff\" fill-rule=\"evenodd\" fill-opacity=\"1\"/>\n",
       "<polyline clip-path=\"url(#clip730)\" style=\"stroke:#000000; stroke-linecap:round; stroke-linejoin:round; stroke-width:4; stroke-opacity:1; fill:none\" points=\"2016.5,198.898 2281.8,198.898 2281.8,95.2176 2016.5,95.2176 2016.5,198.898 \"/>\n",
       "<polyline clip-path=\"url(#clip730)\" style=\"stroke:#009af9; stroke-linecap:round; stroke-linejoin:round; stroke-width:4; stroke-opacity:1; fill:none\" points=\"2040.16,147.058 2182.07,147.058 \"/>\n",
       "<path clip-path=\"url(#clip730)\" d=\"M2219.56 166.745 Q2217.76 171.375 2216.04 172.787 Q2214.33 174.199 2211.46 174.199 L2208.06 174.199 L2208.06 170.634 L2210.56 170.634 Q2212.32 170.634 2213.29 169.8 Q2214.26 168.967 2215.44 165.865 L2216.2 163.921 L2205.72 138.412 L2210.23 138.412 L2218.33 158.689 L2226.44 138.412 L2230.95 138.412 L2219.56 166.745 Z\" fill=\"#000000\" fill-rule=\"nonzero\" fill-opacity=\"1\" /><path clip-path=\"url(#clip730)\" d=\"M2238.24 160.402 L2245.88 160.402 L2245.88 134.037 L2237.57 135.703 L2237.57 131.444 L2245.83 129.778 L2250.51 129.778 L2250.51 160.402 L2258.15 160.402 L2258.15 164.338 L2238.24 164.338 L2238.24 160.402 Z\" fill=\"#000000\" fill-rule=\"nonzero\" fill-opacity=\"1\" /></svg>\n"
      ]
     },
     "metadata": {},
     "output_type": "display_data"
    }
   ],
   "source": [
    "using Plots\n",
    "plot(log10.(e))"
   ]
  },
  {
   "cell_type": "code",
   "execution_count": 93,
   "id": "addfcb13",
   "metadata": {},
   "outputs": [
    {
     "data": {
      "text/plain": [
       "3-element Vector{Float64}:\n",
       " 5.000845126465302\n",
       " 0.43135187211600584\n",
       " 0.22555056381261565"
      ]
     },
     "metadata": {},
     "output_type": "display_data"
    }
   ],
   "source": [
    "FEM.probe(r, 5, 0.3, 0.3, step=r.nsteps)"
   ]
  },
  {
   "cell_type": "code",
   "execution_count": 94,
   "id": "b2a962d5",
   "metadata": {},
   "outputs": [
    {
     "data": {
      "text/plain": [
       "3-element Vector{Float64}:\n",
       " 9.001507061158605\n",
       " 0.42126691443388564\n",
       " 0.9170046295284803"
      ]
     },
     "metadata": {},
     "output_type": "display_data"
    }
   ],
   "source": [
    "FEM.probe(r, \"A\", step=r.nsteps)"
   ]
  },
  {
   "cell_type": "code",
   "execution_count": 95,
   "id": "cf3c0e93",
   "metadata": {},
   "outputs": [
    {
     "data": {
      "text/plain": [
       "LowLevelFEM.TensorField([[9.70254940792869e-15; 0.02692254832004152; … ; -0.05436463868986549; 0.0001652368964625492;;], [1.0690013110306628e-14; 0.02882311004533857; … ; -0.11127069701091191; -0.00010712709944750431;;], [8.964399402648737e-15; 0.028520215766313507; … ; -0.16858981002151896; 3.6899980028565205e-5;;], [8.342595038399949e-15; 0.028566940828273726; … ; -0.2256538836424923; -9.528280647014276e-6;;], [9.33576670734621e-15; 0.028558857433678878; … ; -0.28278533660639704; 2.0905990623099058e-6;;], [3.718782368354725e-15; 0.028560592558201564; … ; -0.33990422025694633; -4.2360972818400455e-7;;], [-1.9607012245603923e-13; 0.028560163684330037; … ; -0.3970249090521003; 8.569454218454453e-8;;], [-1.7190839917091555e-13; 0.02856027158288907; … ; -0.4541453894899274; -1.8382969202423993e-8;;], [-2.7542770425894086e-12; 0.02856024545710964; … ; -0.5112658940557641; 4.098327899271226e-9;;], [2.3098851502573697e-11; 0.02856025133471296; … ; -0.568386393770944; -3.3559099943403226e-10;;]  …  [6.019318726453245e-11; -0.05712050050864814; … ; -0.6255068956139602; -8.334957168898427e-10;;], [1.2626342404276942e-9; -0.057120505757950246; … ; -0.6826273975243486; 1.0461787214310903e-8;;], [-1.2390240716844705e-9; -0.05712045709180569; … ; -0.7397478532979833; -8.005725860016355e-8;;], [-1.6549902151269693e-8; -0.057120795619175935; … ; -0.796868678424244; 3.995805137879671e-7;;], [-1.1219940568698416e-7; -0.057119272364530516; … ; -0.8539881084920947; -7.720253047960313e-7;;], [-3.784037865637101e-7; -0.05712210919004146; … ; -0.9111059898329108; -5.4451272923916605e-6;;], [2.3757490551379623e-6; -0.05714108211371338; … ; -0.9682878801980151; 7.333761130401406e-5;;], [8.291755847045927e-6; -0.05689143976159705; … ; -1.0249502691987518; -0.0004618613335591881;;], [8.241006220591757e-5; -0.05827818018290731; … ; -1.083925406354556; 0.0013606298628952018;;], [-9.257053736613e-5; -0.05578855686290751; … ; -1.1413372617209385; 0.004000946482022094;;]], Matrix{Float64}(undef, 0, 0), [0.0], [473, 474, 475, 476, 477, 478, 479, 480, 481, 482  …  783, 784, 785, 786, 787, 788, 789, 790, 791, 792], 1, :e)"
      ]
     },
     "metadata": {},
     "output_type": "display_data"
    }
   ],
   "source": [
    "D = FEM.deformationGradient(linelast, q)"
   ]
  },
  {
   "cell_type": "code",
   "execution_count": 96,
   "id": "dffda210",
   "metadata": {},
   "outputs": [
    {
     "data": {
      "text/plain": [
       "LowLevelFEM.TensorField([[9.70254940792869e-15; 0.01346127416002076; … ; -0.0011556890571605173; 0.0001652368964625492;;], [1.0690013110306628e-14; 0.005421726298676606; … ; 0.0003198801725399214; -0.00010712709944750431;;], [8.964399402648737e-15; 0.005544841495556533; … ; -5.392548826002597e-5; 3.6899980028565205e-5;;], [8.342595038399949e-15; 0.005766736620703202; … ; 5.792724658268411e-6; -9.528280647014276e-6;;], [9.33576670734621e-15; 0.005702131769576579; … ; -2.000999916595969e-7; 2.0905990623099058e-6;;], [3.718782368354725e-15; 0.005713177022551606; … ; -5.5453848485376156e-8; -4.2360972818400455e-7;;], [-1.9607012245603923e-13; 0.00571201019564822; … ; 6.691138088044113e-9; 8.569454218454453e-8;;], [-1.7190839917091555e-13; 0.005712036271582569; … ; 2.7932253454654443e-9; -1.8382969202423993e-8;;], [-2.7542770425894086e-12; 0.005712052853427187; … ; -1.4767111977675995e-9; 4.098327899271226e-9;;], [2.3098851502573697e-11; 0.005712050132629489; … ; 1.281574291134291e-10; -3.3559099943403226e-10;;]  …  [6.019318726453245e-11; -0.019992175001457422; … ; -7.186474748621663e-10; -8.334957168898427e-10;;], [1.2626342404276942e-9; -0.019992177262668782; … ; 1.7736251356481603e-10; 1.0461787214310903e-8;;], [-1.2390240716844705e-9; -0.019992157455084446; … ; 1.2443767516412407e-8; -8.005725860016355e-8;;], [-1.6549902151269693e-8; -0.019992305613329667; … ; -5.7485825655234635e-8; 3.995805137879671e-7;;], [-1.1219940568698416e-7; -0.019991524551423237; … ; -2.843030043608863e-7; -7.720253047960313e-7;;], [-3.784037865637101e-7; -0.019994066510814954; … ; 5.719834971940063e-6; -5.4451272923916605e-6;;], [2.3757490551379623e-6; -0.019994463083633555; … ; -4.63372366027448e-5; 7.333761130401406e-5;;], [8.291755847045927e-6; -0.019916105400430165; … ; 0.00024406870573157047; -0.0004618613335591881;;], [8.241006220591757e-5; -0.02050306000695965; … ; -0.0006320415915227473; 0.0013606298628952018;;], [-9.257053736613e-5; -0.018548353228477817; … ; -0.0024107714516324874; 0.004000946482022094;;]], Matrix{Float64}(undef, 0, 0), [0.0], [473, 474, 475, 476, 477, 478, 479, 480, 481, 482  …  783, 784, 785, 786, 787, 788, 789, 790, 791, 792], 1, :e)"
      ]
     },
     "metadata": {},
     "output_type": "display_data"
    }
   ],
   "source": [
    "A2 = (D + D') / 2"
   ]
  },
  {
   "cell_type": "code",
   "execution_count": 97,
   "id": "f500caa2",
   "metadata": {},
   "outputs": [
    {
     "data": {
      "text/plain": [
       "3-element Vector{Float64}:\n",
       "  4.626985915021476e-6\n",
       " -0.30758922283217965\n",
       "  0.3075948783923025"
      ]
     },
     "metadata": {},
     "output_type": "display_data"
    }
   ],
   "source": [
    "FEM.probe(q, 9, 0.8, 0.8)"
   ]
  },
  {
   "cell_type": "code",
   "execution_count": 98,
   "id": "c4c5cdc2",
   "metadata": {},
   "outputs": [
    {
     "data": {
      "text/plain": [
       "3×3 Matrix{Float64}:\n",
       "  1.21151e-5  -0.00864136   0.00862699\n",
       " -0.00864136   3.99926e-5  -8.40705e-6\n",
       "  0.00862699  -8.40705e-6  -5.24081e-5"
      ]
     },
     "metadata": {},
     "output_type": "display_data"
    }
   ],
   "source": [
    "FEM.probe(A1, 9, 0.8, 0.8)"
   ]
  },
  {
   "cell_type": "code",
   "execution_count": 99,
   "id": "dd949f9d",
   "metadata": {},
   "outputs": [
    {
     "data": {
      "text/plain": [
       "3×3 Matrix{Float64}:\n",
       "  1.21151e-5  -0.00864136   0.00862699\n",
       " -0.00864136   3.99926e-5  -8.40705e-6\n",
       "  0.00862699  -8.40705e-6  -5.24081e-5"
      ]
     },
     "metadata": {},
     "output_type": "display_data"
    }
   ],
   "source": [
    "FEM.probe(A2, 9, 0.8, 0.8)"
   ]
  },
  {
   "cell_type": "code",
   "execution_count": 100,
   "id": "6fcb2dc5",
   "metadata": {},
   "outputs": [
    {
     "data": {
      "text/plain": [
       "LowLevelFEM.TensorField(Matrix{Float64}[], [3.375520215807991e-14; -0.0265158985280076; … ; 1.1750177934144457e-5; 0.0002133518923821226;;], [0.0], Int64[], 1, :e)"
      ]
     },
     "metadata": {},
     "output_type": "display_data"
    }
   ],
   "source": [
    "A11 = FEM.elementsToNodes(linelast, A1)\n",
    "A22 = FEM.elementsToNodes(linelast, A2)"
   ]
  },
  {
   "cell_type": "code",
   "execution_count": 101,
   "id": "fabe9ea9",
   "metadata": {},
   "outputs": [
    {
     "data": {
      "text/plain": [
       "3×3 Matrix{Float64}:\n",
       "  1.02288e-5  -0.0127044     0.0127071\n",
       " -0.0127044    0.000103211   1.52781e-7\n",
       "  0.0127071    1.52781e-7   -0.000110959"
      ]
     },
     "metadata": {},
     "output_type": "display_data"
    }
   ],
   "source": [
    "FEM.probe(A11, 9, 0.8, 0.8)"
   ]
  },
  {
   "cell_type": "code",
   "execution_count": 102,
   "id": "f25281ef",
   "metadata": {},
   "outputs": [
    {
     "data": {
      "text/plain": [
       "3×3 Matrix{Float64}:\n",
       "  1.02288e-5  -0.0127044     0.0127071\n",
       " -0.0127044    0.000103211   1.52781e-7\n",
       "  0.0127071    1.52781e-7   -0.000110959"
      ]
     },
     "metadata": {},
     "output_type": "display_data"
    }
   ],
   "source": [
    "FEM.probe(A22, 9, 0.8, 0.8)"
   ]
  },
  {
   "cell_type": "code",
   "execution_count": 103,
   "id": "ff936cee",
   "metadata": {},
   "outputs": [
    {
     "data": {
      "text/plain": [
       "LowLevelFEM.TensorField([[-0.017689804409948093; 2.692254832004152; … ; -0.23113781143210346; -0.7346631034492068;;], [-0.017689804409750598; 1.0843452597353211; … ; 0.06397603450798428; -0.7891359026312175;;], [-0.01768980441009572; 1.1089682991113066; … ; -0.010785097652005193; -0.7603304867360037;;], [-0.017689804410220084; 1.1533473241406405; … ; 0.0011585449316536822; -0.7696161388711196;;], [-0.017689804410021447; 1.1404263539153157; … ; -4.001999833191938e-5; -0.7672923629292547;;], [-0.017689804411144844; 1.1426354045103213; … ; -1.1090769697075231e-5; -0.7677952046873535;;], [-0.017689804451102624; 1.1424020391296439; … ; 1.3382276176088226e-6; -0.7676933438332798;;], [-0.01768980444627028; 1.1424072543165138; … ; 5.586450690930889e-7; -0.7677141593355572;;], [-0.01768980496274401; 1.1424105706854375; … ; -2.953422395535199e-7; -0.7677096630761369;;], [-0.0176897997921183; 1.1424100265258978; … ; 2.5631485822685818e-8; -0.7677105498599166;;]  …  [-0.017689792373251148; -3.9984350002914844; … ; -1.4372949497243326e-7; -0.7677106494408601;;], [-0.017689551885040518; -3.9984354525337564; … ; 3.5472502712963205e-8; -0.7677083903842739;;], [-0.017690052216702938; -3.998431491016889; … ; 2.4887535032824815e-6; -0.7677264941934367;;], [-0.017693114392318857; -3.9984611226659332; … ; -1.1497165131046927e-5; -0.7676305666389591;;], [-0.017712244293025998; -3.9983049102846473; … ; -5.686060087217726e-5; -0.7678648878026759;;], [-0.01776548516920134; -3.998813302162991; … ; 0.0011439669943880126; -0.768799508200195;;], [-0.01721465460086101; -3.998892616726711; … ; -0.00926744732054896; -0.7530429604809139;;], [-0.016031453242479416; -3.983221080086033; … ; 0.048813741146314094; -0.8600827494535543;;], [-0.0012077919707050872; -4.10061200139193; … ; -0.12640831830454946; -0.4955845101626763;;], [-0.036203911885114605; -3.7096706456955633; … ; -0.4821542903264975; 0.032478813662702166;;]], Matrix{Float64}(undef, 0, 0), [0.0], [473, 474, 475, 476, 477, 478, 479, 480, 481, 482  …  783, 784, 785, 786, 787, 788, 789, 790, 791, 792], 1, :e)"
      ]
     },
     "metadata": {},
     "output_type": "display_data"
    }
   ],
   "source": [
    "Ex = linelast.material[1].E\n",
    "ν = linelast.material[1].ν\n",
    "I = unitTensor(A2)\n",
    "F2 = Ex / (1 + ν) * (A2 + ν / (1 - 2ν) * I * trace(A2))"
   ]
  },
  {
   "cell_type": "code",
   "execution_count": 104,
   "id": "1ee5ce34",
   "metadata": {},
   "outputs": [
    {
     "data": {
      "text/plain": [
       "3×3 Matrix{Float64}:\n",
       "  0.00237795  -1.72827      1.7254\n",
       " -1.72827      0.00795344  -0.00168141\n",
       "  1.7254      -0.00168141  -0.0105267"
      ]
     },
     "metadata": {},
     "output_type": "display_data"
    }
   ],
   "source": [
    "FEM.probe(F1, 9, 0.8, 0.8)"
   ]
  },
  {
   "cell_type": "code",
   "execution_count": 105,
   "id": "2661e825",
   "metadata": {},
   "outputs": [
    {
     "data": {
      "text/plain": [
       "3×3 Matrix{Float64}:\n",
       " -0.000509195  -1.72827      1.7254\n",
       " -1.72827       0.00506629  -0.00168141\n",
       "  1.7254       -0.00168141  -0.0134138"
      ]
     },
     "metadata": {},
     "output_type": "display_data"
    }
   ],
   "source": [
    "FEM.probe(F2, 9, 0.8, 0.8)"
   ]
  },
  {
   "cell_type": "code",
   "execution_count": 106,
   "id": "c4c94d7a",
   "metadata": {},
   "outputs": [
    {
     "name": "stdout",
     "output_type": "stream",
     "text": [
      "Info    : Running Plugin(Smooth)...\n",
      "Info    : Done running Plugin(Smooth)\n",
      "Info    : Running Plugin(Smooth)...\n",
      "Info    : Done running Plugin(Smooth)\n",
      "Info    : Running Plugin(Smooth)...\n",
      "Info    : Done running Plugin(Smooth)\n",
      "Info    : Running Plugin(Smooth)...\n",
      "Info    : Done running Plugin(Smooth)\n",
      "Info    : Running Plugin(Smooth)...\n",
      "Info    : Done running Plugin(Smooth)\n",
      "Info    : Running Plugin(Smooth)...\n",
      "Info    : Done running Plugin(Smooth)\n"
     ]
    },
    {
     "data": {
      "text/plain": [
       "27"
      ]
     },
     "metadata": {},
     "output_type": "display_data"
    }
   ],
   "source": [
    "FEM.showElementResults(linelast, A2, :ex)\n",
    "FEM.showElementResults(linelast, A2, :ey)\n",
    "FEM.showElementResults(linelast, A2, :ez)\n",
    "FEM.showElementResults(linelast, A2, :exy)\n",
    "FEM.showElementResults(linelast, A2, :eyz)\n",
    "FEM.showElementResults(linelast, A2, :ezx)"
   ]
  },
  {
   "cell_type": "code",
   "execution_count": 107,
   "id": "32bc3809",
   "metadata": {},
   "outputs": [
    {
     "name": "stdout",
     "output_type": "stream",
     "text": [
      "-------------------------------------------------------\n",
      "Version       : 4.13.1\n",
      "License       : GNU General Public License\n",
      "Build OS      : Linux64-sdk\n",
      "Build date    : 19700101\n",
      "Build host    : amdci7.julia.csail.mit.edu\n",
      "Build options : 64Bit ALGLIB[contrib] ANN[contrib] Bamg Blossom Cairo DIntegration Dlopen DomHex Eigen[contrib] Fltk GMP Gmm[contrib] Hxt Jpeg Kbipack LinuxJoystick MathEx[contrib] Mesh Metis[contrib] Mmg Mpeg Netgen Nii2mesh ONELAB ONELABMetamodel OpenCASCADE OpenCASCADE-CAF OpenGL OpenMP OptHom Parser Plugins Png Post QuadMeshingTools QuadTri Solver TetGen/BR TinyXML2[contrib] Untangle Voro++[contrib] WinslowUntangler Zlib\n",
      "FLTK version  : 1.3.8\n",
      "OCC version   : 7.7.2\n",
      "Packaged by   : root\n",
      "Web site      : https://gmsh.info\n",
      "Issue tracker : https://gitlab.onelab.info/gmsh/gmsh/issues\n",
      "-------------------------------------------------------\n"
     ]
    },
    {
     "name": "stderr",
     "output_type": "stream",
     "text": [
      "XRequest.18: BadValue 0x0\n"
     ]
    }
   ],
   "source": [
    "FEM.openPostProcessor()"
   ]
  },
  {
   "cell_type": "code",
   "execution_count": 108,
   "id": "7b517a53",
   "metadata": {},
   "outputs": [],
   "source": [
    "gmsh.finalize()"
   ]
  }
 ],
 "metadata": {
  "kernelspec": {
   "display_name": "Julia 1.11.6",
   "language": "julia",
   "name": "julia-1.11"
  },
  "language_info": {
   "file_extension": ".jl",
   "mimetype": "application/julia",
   "name": "julia",
   "version": "1.11.6"
  }
 },
 "nbformat": 4,
 "nbformat_minor": 5
}
