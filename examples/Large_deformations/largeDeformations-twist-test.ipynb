{
 "cells": [
  {
   "cell_type": "code",
   "execution_count": 37,
   "id": "79fd9685",
   "metadata": {},
   "outputs": [],
   "source": [
    "using LowLevelFEM\n",
    "import LowLevelFEM as FEM\n",
    "\n",
    "gmsh.initialize()"
   ]
  },
  {
   "cell_type": "code",
   "execution_count": 38,
   "id": "22283e0a",
   "metadata": {},
   "outputs": [],
   "source": [
    "using SparseArrays, LinearAlgebra"
   ]
  },
  {
   "cell_type": "code",
   "execution_count": 39,
   "id": "fa18250b",
   "metadata": {},
   "outputs": [
    {
     "name": "stdout",
     "output_type": "stream",
     "text": [
      "Info    : Reading 'body2.geo'...\n",
      "Info    : Meshing 1D...\n",
      "Info    : [  0%] Meshing curve 1 (Line)\n",
      "Info    : [ 10%] Meshing curve 2 (Line)\n",
      "Info    : [ 20%] Meshing curve 3 (Line)\n",
      "Info    : [ 30%] Meshing curve 4 (Line)\n",
      "Info    : [ 40%] Meshing curve 5 (Line)\n",
      "Info    : [ 50%] Meshing curve 6 (Line)\n",
      "Info    : [ 60%] Meshing curve 7 (Line)\n",
      "Info    : [ 60%] Meshing curve 8 (Line)\n",
      "Info    : [ 70%] Meshing curve 9 (Line)\n",
      "Info    : [ 80%] Meshing curve 10 (Line)\n",
      "Info    : [ 90%] Meshing curve 11 (Line)\n",
      "Info    : [100%] Meshing curve 12 (Line)\n",
      "Info    : Done meshing 1D (Wall 0.00105283s, CPU 0.00105s)\n",
      "Info    : Meshing 2D...\n",
      "Info    : [  0%] Meshing surface 1 (Transfinite)\n",
      "Info    : [ 20%] Meshing surface 2 (Transfinite)\n",
      "Info    : [ 40%] Meshing surface 3 (Transfinite)\n",
      "Info    : [ 60%] Meshing surface 4 (Transfinite)\n",
      "Info    : [ 70%] Meshing surface 5 (Transfinite)\n",
      "Info    : [ 90%] Meshing surface 6 (Transfinite)\n",
      "Info    : Done meshing 2D (Wall 0.000655435s, CPU 0.000652s)\n",
      "Info    : Meshing 3D...\n",
      "Info    : Meshing volume 1 (Transfinite)\n",
      "Info    : Done meshing 3D (Wall 0.00283425s, CPU 0.002655s)\n",
      "Info    : Optimizing mesh...\n",
      "Info    : Done optimizing mesh (Wall 2.4529e-05s, CPU 2.4e-05s)\n",
      "Info    : 525 nodes 792 elements\n",
      "Info    : Done reading 'body2.geo'\n"
     ]
    }
   ],
   "source": [
    "gmsh.open(\"body2.geo\")"
   ]
  },
  {
   "cell_type": "code",
   "execution_count": 40,
   "id": "936f1fab",
   "metadata": {},
   "outputs": [
    {
     "name": "stdout",
     "output_type": "stream",
     "text": [
      "Info    : RCMK renumbering...\n",
      "Info    : Done RCMK renumbering (bandwidth is now 61)\n",
      "Info    : RCMK renumbering...\n",
      "Info    : Done RCMK renumbering (bandwidth is now 61)\n"
     ]
    },
    {
     "data": {
      "text/plain": [
       "LowLevelFEM.Problem(\"body2\", :Solid, 3, 3, LowLevelFEM.Material[LowLevelFEM.Material(\"body\", :NeoHookeCompressible, 260.0, 0.3, 7.85e-9, 45.0, 4.2e8, 1.2e-5, 150.0, 100.0, 216.66666666666666)], 1.0, 525)"
      ]
     },
     "metadata": {},
     "output_type": "display_data"
    }
   ],
   "source": [
    "hooke = FEM.material(\"body\", E=260, ν=0.3)\n",
    "nonlin = FEM.material(\"body\", E=260, ν=0.3, type=:StVenantKirchhoff)\n",
    "nonlin = FEM.material(\"body\", E=260, ν=0.3, type=:NeoHookeCompressible)\n",
    "linelast = FEM.Problem([hooke])\n",
    "nonlinelast = FEM.Problem([nonlin])"
   ]
  },
  {
   "cell_type": "code",
   "execution_count": 41,
   "id": "c2a10dc9",
   "metadata": {},
   "outputs": [
    {
     "data": {
      "text/plain": [
       "(\"right\", 0, 0 + 1im, 0 + 1im)"
      ]
     },
     "metadata": {},
     "output_type": "display_data"
    }
   ],
   "source": [
    "left = FEM.displacementConstraint(\"left\", ux=0, uy=0, uz=0)\n",
    "right = FEM.displacementConstraint(\"right\", ux=0)"
   ]
  },
  {
   "cell_type": "code",
   "execution_count": 42,
   "id": "0d7a99f9",
   "metadata": {},
   "outputs": [
    {
     "data": {
      "text/plain": [
       "(\"right\", 0, Main.fy, Main.fz)"
      ]
     },
     "metadata": {},
     "output_type": "display_data"
    }
   ],
   "source": [
    "fy(x, y, z) = (-z + 0.5) * 1\n",
    "fz(x, y, z) = (y - 0.5) * 1\n",
    "load = FEM.load(\"right\", fy=fy, fz=fz)"
   ]
  },
  {
   "cell_type": "code",
   "execution_count": 43,
   "id": "16a37c0e",
   "metadata": {},
   "outputs": [
    {
     "data": {
      "text/plain": [
       "LowLevelFEM.TensorField([[3.383732110933882e-13; 0.2692254832004146; … ; -0.023113781143209965; -0.09687202121567351;;], [2.2686366674129488e-13; 0.10843452597353223; … ; 0.006397603450795063; -0.007620512119103489;;], [2.1822799643744784e-13; 0.11089682991113017; … ; -0.0010785097652000336; 0.005333753161115146;;], [1.6001566391365962e-13; 0.11533473241406283; … ; 0.00011585449316356411; -0.0012727946603998883;;], [3.626064021527292e-13; 0.11404263539153398; … ; -4.001999831526604e-6; 0.0002004803437032944;;], [-5.644022033589324e-13; 0.11426354045102997; … ; -1.1090769677646328e-6; -2.1094436312643497e-5;;], [-4.225388763109007e-12; 0.11424020391296412; … ; 1.338227639813283e-7; 1.0950889074939994e-6;;], [-1.1459124529682071e-11; 0.11424072543165104; … ; 5.5864501219415885e-8; -6.929092450638427e-9;;], [-4.90954394509135e-11; 0.11424105706854502; … ; -2.953421673890233e-8; 4.1891778511816274e-8;;], [6.769182732488388e-10; 0.11424100265259272; … ; 2.563152468049168e-9; -7.5258030167967e-9;;]  …  [-6.310312245589473e-10; -0.3998435000291505; … ; -1.4372961154585084e-8; 1.8950384040846216e-8;;], [5.0802993968984e-8; -0.3998435452533755; … ; 3.54725970819203e-9; 9.629118223261623e-8;;], [-9.109284416049662e-8; -0.399843149101696; … ; 2.4887534533224454e-7; -1.5324196035054229e-6;;], [-4.021536914648178e-7; -0.3998461122665817; … ; -1.1497165192109193e-6; 9.567539911725393e-6;;], [-4.224549331038768e-6; -0.3998304910284675; … ; -5.686060075560384e-6; -2.1120379186295767e-5;;], [-9.303435822718574e-6; -0.39988133021629235; … ; 0.00011439669945212394; -0.00015105503732527003;;], [7.594001903468195e-5; -0.399889261672666; … ; -0.0009267447320437938; 0.0021981614730884813;;], [0.0002875766220657868; -0.39832210800860857; … ; 0.004881374114640291; -0.015248958662497295;;], [0.002595143776417364; -0.41006120013919317; … ; -0.012640831830454391; 0.05785150679507512;;], [-0.003620391188505205; -0.3709670645695523; … ; -0.04821542903263587; 0.0032478813662217554;;]], Matrix{Float64}(undef, 0, 0), [0.0], [473, 474, 475, 476, 477, 478, 479, 480, 481, 482  …  783, 784, 785, 786, 787, 788, 789, 790, 791, 792], 1, :s)"
      ]
     },
     "metadata": {},
     "output_type": "display_data"
    }
   ],
   "source": [
    "q = FEM.solveDisplacement(linelast, [load], [left, right])\n",
    "A1 = FEM.solveStrain(linelast, q)\n",
    "F1 = FEM.solveStress(linelast, q)"
   ]
  },
  {
   "cell_type": "code",
   "execution_count": 44,
   "id": "5ff50776",
   "metadata": {},
   "outputs": [
    {
     "data": {
      "text/plain": [
       "0"
      ]
     },
     "metadata": {},
     "output_type": "display_data"
    }
   ],
   "source": [
    "u1 = FEM.showDoFResults(linelast, q, :uvec)"
   ]
  },
  {
   "cell_type": "code",
   "execution_count": 45,
   "id": "421a8215",
   "metadata": {},
   "outputs": [
    {
     "name": "stdout",
     "output_type": "stream",
     "text": [
      "Info    : Running Plugin(Smooth)...\n",
      "Info    : Done running Plugin(Smooth)\n",
      "Info    : Running Plugin(Smooth)...\n",
      "Info    : Done running Plugin(Smooth)\n",
      "Info    : Running Plugin(Smooth)...\n",
      "Info    : Done running Plugin(Smooth)\n",
      "Info    : Running Plugin(Smooth)...\n",
      "Info    : Done running Plugin(Smooth)\n",
      "Info    : Running Plugin(Smooth)...\n",
      "Info    : Done running Plugin(Smooth)\n",
      "Info    : Running Plugin(Smooth)...\n",
      "Info    : Done running Plugin(Smooth)\n"
     ]
    },
    {
     "data": {
      "text/plain": [
       "6"
      ]
     },
     "metadata": {},
     "output_type": "display_data"
    }
   ],
   "source": [
    "FEM.showElementResults(linelast, A1, :ex)\n",
    "FEM.showElementResults(linelast, A1, :ey)\n",
    "FEM.showElementResults(linelast, A1, :ez)\n",
    "FEM.showElementResults(linelast, A1, :exy)\n",
    "FEM.showElementResults(linelast, A1, :eyz)\n",
    "FEM.showElementResults(linelast, A1, :ezx)"
   ]
  },
  {
   "cell_type": "code",
   "execution_count": 46,
   "id": "4e261a4b",
   "metadata": {},
   "outputs": [
    {
     "data": {
      "text/plain": [
       "(LowLevelFEM.VectorField(Matrix{Float64}[], [0.0 0.0 … 0.0 0.0; 0.0 0.0 … 0.0 0.0; … ; 0.7499999999999999 0.7449289647866972 … 0.6978633460236933 0.6918306886319705; 0.75 0.7549736454015263 … 0.7929965136868363 0.796979147993769], [1.0, 2.0, 3.0, 4.0, 5.0, 6.0, 7.0, 8.0, 9.0, 10.0, 11.0], Int64[], 11, :u3D), Any[0.0022695438902279553, 0.0005062422916037384, 0.0013067148847489868, 0.00033684511074466025, 0.0005920851673888309, 0.0004204032266897272, 0.0002923827420891627, 0.0002579002275516105, 0.0002446205209048219, 0.00023499058168081587  …  0.0025998637308164724, 0.0009647728528059047, 0.0008969765338765213, 0.00043916248287417076, 0.0005446389593539207, 0.0004965567000084397, 0.00044506170845835075, 0.00041202697474495675, 0.00039111236577226555, 0.00037793231975105423])"
      ]
     },
     "metadata": {},
     "output_type": "display_data"
    }
   ],
   "source": [
    "r, e = FEM.solveDeformation(nonlinelast, [load], [left, right],\n",
    "    followerLoad=true,\n",
    "    loadSteps=10,\n",
    "    rampedLoad=true,\n",
    "    rampedSupport=false,\n",
    "    maxIteration=10,\n",
    "    saveSteps=true,\n",
    "    saveIterations=false,\n",
    "    plotConvergence=true,\n",
    "    relativeError=1e-5\n",
    ")"
   ]
  },
  {
   "cell_type": "code",
   "execution_count": 47,
   "id": "fb86e9a2",
   "metadata": {},
   "outputs": [
    {
     "data": {
      "text/plain": [
       "7"
      ]
     },
     "metadata": {},
     "output_type": "display_data"
    }
   ],
   "source": [
    "r1 = FEM.showDeformationResults(nonlinelast, r, :uvec)"
   ]
  },
  {
   "cell_type": "code",
   "execution_count": 48,
   "id": "1866e2da",
   "metadata": {},
   "outputs": [
    {
     "data": {
      "image/png": "[encoded data removed]",
      "image/svg+xml": [
       "<?xml version=\"1.0\" encoding=\"utf-8\"?>\n",
       "<svg xmlns=\"http://www.w3.org/2000/svg\" xmlns:xlink=\"http://www.w3.org/1999/xlink\" width=\"600\" height=\"400\" viewBox=\"0 0 2400 1600\">\n",
       "<defs>\n",
       "  <clipPath id=\"clip810\">\n",
       "    <rect x=\"0\" y=\"0\" width=\"2400\" height=\"1600\"/>\n",
       "  </clipPath>\n",
       "</defs>\n",
       "<path clip-path=\"url(#clip810)\" d=\"M0 1600 L2400 1600 L2400 0 L0 0  Z\" fill=\"#ffffff\" fill-rule=\"evenodd\" fill-opacity=\"1\"/>\n",
       "<defs>\n",
       "  <clipPath id=\"clip811\">\n",
       "    <rect x=\"480\" y=\"0\" width=\"1681\" height=\"1600\"/>\n",
       "  </clipPath>\n",
       "</defs>\n",
       "<path clip-path=\"url(#clip810)\" d=\"M224.098 1486.45 L2352.76 1486.45 L2352.76 47.2441 L224.098 47.2441  Z\" fill=\"#ffffff\" fill-rule=\"evenodd\" fill-opacity=\"1\"/>\n",
       "<defs>\n",
       "  <clipPath id=\"clip812\">\n",
       "    <rect x=\"224\" y=\"47\" width=\"2130\" height=\"1440\"/>\n",
       "  </clipPath>\n",
       "</defs>\n",
       "<polyline clip-path=\"url(#clip812)\" style=\"stroke:#000000; stroke-linecap:round; stroke-linejoin:round; stroke-width:2; stroke-opacity:0.1; fill:none\" points=\"264.058,1486.45 264.058,47.2441 \"/>\n",
       "<polyline clip-path=\"url(#clip812)\" style=\"stroke:#000000; stroke-linecap:round; stroke-linejoin:round; stroke-width:2; stroke-opacity:0.1; fill:none\" points=\"771.172,1486.45 771.172,47.2441 \"/>\n",
       "<polyline clip-path=\"url(#clip812)\" style=\"stroke:#000000; stroke-linecap:round; stroke-linejoin:round; stroke-width:2; stroke-opacity:0.1; fill:none\" points=\"1278.28,1486.45 1278.28,47.2441 \"/>\n",
       "<polyline clip-path=\"url(#clip812)\" style=\"stroke:#000000; stroke-linecap:round; stroke-linejoin:round; stroke-width:2; stroke-opacity:0.1; fill:none\" points=\"1785.4,1486.45 1785.4,47.2441 \"/>\n",
       "<polyline clip-path=\"url(#clip812)\" style=\"stroke:#000000; stroke-linecap:round; stroke-linejoin:round; stroke-width:2; stroke-opacity:0.1; fill:none\" points=\"2292.51,1486.45 2292.51,47.2441 \"/>\n",
       "<polyline clip-path=\"url(#clip812)\" style=\"stroke:#000000; stroke-linecap:round; stroke-linejoin:round; stroke-width:2; stroke-opacity:0.1; fill:none\" points=\"224.098,1281.5 2352.76,1281.5 \"/>\n",
       "<polyline clip-path=\"url(#clip812)\" style=\"stroke:#000000; stroke-linecap:round; stroke-linejoin:round; stroke-width:2; stroke-opacity:0.1; fill:none\" points=\"224.098,963.13 2352.76,963.13 \"/>\n",
       "<polyline clip-path=\"url(#clip812)\" style=\"stroke:#000000; stroke-linecap:round; stroke-linejoin:round; stroke-width:2; stroke-opacity:0.1; fill:none\" points=\"224.098,644.76 2352.76,644.76 \"/>\n",
       "<polyline clip-path=\"url(#clip812)\" style=\"stroke:#000000; stroke-linecap:round; stroke-linejoin:round; stroke-width:2; stroke-opacity:0.1; fill:none\" points=\"224.098,326.389 2352.76,326.389 \"/>\n",
       "<polyline clip-path=\"url(#clip810)\" style=\"stroke:#000000; stroke-linecap:round; stroke-linejoin:round; stroke-width:4; stroke-opacity:1; fill:none\" points=\"224.098,1486.45 2352.76,1486.45 \"/>\n",
       "<polyline clip-path=\"url(#clip810)\" style=\"stroke:#000000; stroke-linecap:round; stroke-linejoin:round; stroke-width:4; stroke-opacity:1; fill:none\" points=\"264.058,1486.45 264.058,1467.55 \"/>\n",
       "<polyline clip-path=\"url(#clip810)\" style=\"stroke:#000000; stroke-linecap:round; stroke-linejoin:round; stroke-width:4; stroke-opacity:1; fill:none\" points=\"771.172,1486.45 771.172,1467.55 \"/>\n",
       "<polyline clip-path=\"url(#clip810)\" style=\"stroke:#000000; stroke-linecap:round; stroke-linejoin:round; stroke-width:4; stroke-opacity:1; fill:none\" points=\"1278.28,1486.45 1278.28,1467.55 \"/>\n",
       "<polyline clip-path=\"url(#clip810)\" style=\"stroke:#000000; stroke-linecap:round; stroke-linejoin:round; stroke-width:4; stroke-opacity:1; fill:none\" points=\"1785.4,1486.45 1785.4,1467.55 \"/>\n",
       "<polyline clip-path=\"url(#clip810)\" style=\"stroke:#000000; stroke-linecap:round; stroke-linejoin:round; stroke-width:4; stroke-opacity:1; fill:none\" points=\"2292.51,1486.45 2292.51,1467.55 \"/>\n",
       "<path clip-path=\"url(#clip810)\" d=\"M264.058 1517.37 Q260.447 1517.37 258.619 1520.93 Q256.813 1524.47 256.813 1531.6 Q256.813 1538.71 258.619 1542.27 Q260.447 1545.82 264.058 1545.82 Q267.693 1545.82 269.498 1542.27 Q271.327 1538.71 271.327 1531.6 Q271.327 1524.47 269.498 1520.93 Q267.693 1517.37 264.058 1517.37 M264.058 1513.66 Q269.869 1513.66 272.924 1518.27 Q276.003 1522.85 276.003 1531.6 Q276.003 1540.33 272.924 1544.94 Q269.869 1549.52 264.058 1549.52 Q258.248 1549.52 255.17 1544.94 Q252.114 1540.33 252.114 1531.6 Q252.114 1522.85 255.17 1518.27 Q258.248 1513.66 264.058 1513.66 Z\" fill=\"#000000\" fill-rule=\"nonzero\" fill-opacity=\"1\" /><path clip-path=\"url(#clip810)\" d=\"M750.442 1544.91 L766.762 1544.91 L766.762 1548.85 L744.817 1548.85 L744.817 1544.91 Q747.48 1542.16 752.063 1537.53 Q756.669 1532.88 757.85 1531.53 Q760.095 1529.01 760.975 1527.27 Q761.878 1525.51 761.878 1523.82 Q761.878 1521.07 759.933 1519.33 Q758.012 1517.6 754.91 1517.6 Q752.711 1517.6 750.257 1518.36 Q747.827 1519.13 745.049 1520.68 L745.049 1515.95 Q747.873 1514.82 750.327 1514.24 Q752.78 1513.66 754.817 1513.66 Q760.188 1513.66 763.382 1516.35 Q766.577 1519.03 766.577 1523.52 Q766.577 1525.65 765.766 1527.57 Q764.979 1529.47 762.873 1532.07 Q762.294 1532.74 759.192 1535.95 Q756.091 1539.15 750.442 1544.91 Z\" fill=\"#000000\" fill-rule=\"nonzero\" fill-opacity=\"1\" /><path clip-path=\"url(#clip810)\" d=\"M776.623 1514.29 L794.979 1514.29 L794.979 1518.22 L780.905 1518.22 L780.905 1526.7 Q781.924 1526.35 782.942 1526.19 Q783.961 1526 784.979 1526 Q790.766 1526 794.146 1529.17 Q797.526 1532.34 797.526 1537.76 Q797.526 1543.34 794.053 1546.44 Q790.581 1549.52 784.262 1549.52 Q782.086 1549.52 779.817 1549.15 Q777.572 1548.78 775.165 1548.04 L775.165 1543.34 Q777.248 1544.47 779.47 1545.03 Q781.692 1545.58 784.169 1545.58 Q788.174 1545.58 790.512 1543.48 Q792.85 1541.37 792.85 1537.76 Q792.85 1534.15 790.512 1532.04 Q788.174 1529.94 784.169 1529.94 Q782.294 1529.94 780.419 1530.35 Q778.567 1530.77 776.623 1531.65 L776.623 1514.29 Z\" fill=\"#000000\" fill-rule=\"nonzero\" fill-opacity=\"1\" /><path clip-path=\"url(#clip810)\" d=\"M1252.98 1514.29 L1271.34 1514.29 L1271.34 1518.22 L1257.27 1518.22 L1257.27 1526.7 Q1258.28 1526.35 1259.3 1526.19 Q1260.32 1526 1261.34 1526 Q1267.13 1526 1270.51 1529.17 Q1273.89 1532.34 1273.89 1537.76 Q1273.89 1543.34 1270.41 1546.44 Q1266.94 1549.52 1260.62 1549.52 Q1258.45 1549.52 1256.18 1549.15 Q1253.93 1548.78 1251.53 1548.04 L1251.53 1543.34 Q1253.61 1544.47 1255.83 1545.03 Q1258.05 1545.58 1260.53 1545.58 Q1264.53 1545.58 1266.87 1543.48 Q1269.21 1541.37 1269.21 1537.76 Q1269.21 1534.15 1266.87 1532.04 Q1264.53 1529.94 1260.53 1529.94 Q1258.66 1529.94 1256.78 1530.35 Q1254.93 1530.77 1252.98 1531.65 L1252.98 1514.29 Z\" fill=\"#000000\" fill-rule=\"nonzero\" fill-opacity=\"1\" /><path clip-path=\"url(#clip810)\" d=\"M1293.1 1517.37 Q1289.49 1517.37 1287.66 1520.93 Q1285.85 1524.47 1285.85 1531.6 Q1285.85 1538.71 1287.66 1542.27 Q1289.49 1545.82 1293.1 1545.82 Q1296.73 1545.82 1298.54 1542.27 Q1300.37 1538.71 1300.37 1531.6 Q1300.37 1524.47 1298.54 1520.93 Q1296.73 1517.37 1293.1 1517.37 M1293.1 1513.66 Q1298.91 1513.66 1301.97 1518.27 Q1305.04 1522.85 1305.04 1531.6 Q1305.04 1540.33 1301.97 1544.94 Q1298.91 1549.52 1293.1 1549.52 Q1287.29 1549.52 1284.21 1544.94 Q1281.15 1540.33 1281.15 1531.6 Q1281.15 1522.85 1284.21 1518.27 Q1287.29 1513.66 1293.1 1513.66 Z\" fill=\"#000000\" fill-rule=\"nonzero\" fill-opacity=\"1\" /><path clip-path=\"url(#clip810)\" d=\"M1759.25 1514.29 L1781.47 1514.29 L1781.47 1516.28 L1768.93 1548.85 L1764.04 1548.85 L1775.85 1518.22 L1759.25 1518.22 L1759.25 1514.29 Z\" fill=\"#000000\" fill-rule=\"nonzero\" fill-opacity=\"1\" /><path clip-path=\"url(#clip810)\" d=\"M1790.64 1514.29 L1809 1514.29 L1809 1518.22 L1794.92 1518.22 L1794.92 1526.7 Q1795.94 1526.35 1796.96 1526.19 Q1797.98 1526 1799 1526 Q1804.78 1526 1808.16 1529.17 Q1811.54 1532.34 1811.54 1537.76 Q1811.54 1543.34 1808.07 1546.44 Q1804.6 1549.52 1798.28 1549.52 Q1796.1 1549.52 1793.84 1549.15 Q1791.59 1548.78 1789.18 1548.04 L1789.18 1543.34 Q1791.27 1544.47 1793.49 1545.03 Q1795.71 1545.58 1798.19 1545.58 Q1802.19 1545.58 1804.53 1543.48 Q1806.87 1541.37 1806.87 1537.76 Q1806.87 1534.15 1804.53 1532.04 Q1802.19 1529.94 1798.19 1529.94 Q1796.31 1529.94 1794.44 1530.35 Q1792.59 1530.77 1790.64 1531.65 L1790.64 1514.29 Z\" fill=\"#000000\" fill-rule=\"nonzero\" fill-opacity=\"1\" /><path clip-path=\"url(#clip810)\" d=\"M2252.12 1544.91 L2259.76 1544.91 L2259.76 1518.55 L2251.45 1520.21 L2251.45 1515.95 L2259.71 1514.29 L2264.39 1514.29 L2264.39 1544.91 L2272.02 1544.91 L2272.02 1548.85 L2252.12 1548.85 L2252.12 1544.91 Z\" fill=\"#000000\" fill-rule=\"nonzero\" fill-opacity=\"1\" /><path clip-path=\"url(#clip810)\" d=\"M2291.47 1517.37 Q2287.86 1517.37 2286.03 1520.93 Q2284.22 1524.47 2284.22 1531.6 Q2284.22 1538.71 2286.03 1542.27 Q2287.86 1545.82 2291.47 1545.82 Q2295.1 1545.82 2296.91 1542.27 Q2298.74 1538.71 2298.74 1531.6 Q2298.74 1524.47 2296.91 1520.93 Q2295.1 1517.37 2291.47 1517.37 M2291.47 1513.66 Q2297.28 1513.66 2300.33 1518.27 Q2303.41 1522.85 2303.41 1531.6 Q2303.41 1540.33 2300.33 1544.94 Q2297.28 1549.52 2291.47 1549.52 Q2285.66 1549.52 2282.58 1544.94 Q2279.52 1540.33 2279.52 1531.6 Q2279.52 1522.85 2282.58 1518.27 Q2285.66 1513.66 2291.47 1513.66 Z\" fill=\"#000000\" fill-rule=\"nonzero\" fill-opacity=\"1\" /><path clip-path=\"url(#clip810)\" d=\"M2321.63 1517.37 Q2318.02 1517.37 2316.19 1520.93 Q2314.39 1524.47 2314.39 1531.6 Q2314.39 1538.71 2316.19 1542.27 Q2318.02 1545.82 2321.63 1545.82 Q2325.27 1545.82 2327.07 1542.27 Q2328.9 1538.71 2328.9 1531.6 Q2328.9 1524.47 2327.07 1520.93 Q2325.27 1517.37 2321.63 1517.37 M2321.63 1513.66 Q2327.44 1513.66 2330.5 1518.27 Q2333.58 1522.85 2333.58 1531.6 Q2333.58 1540.33 2330.5 1544.94 Q2327.44 1549.52 2321.63 1549.52 Q2315.82 1549.52 2312.74 1544.94 Q2309.69 1540.33 2309.69 1531.6 Q2309.69 1522.85 2312.74 1518.27 Q2315.82 1513.66 2321.63 1513.66 Z\" fill=\"#000000\" fill-rule=\"nonzero\" fill-opacity=\"1\" /><polyline clip-path=\"url(#clip810)\" style=\"stroke:#000000; stroke-linecap:round; stroke-linejoin:round; stroke-width:4; stroke-opacity:1; fill:none\" points=\"224.098,1486.45 224.098,47.2441 \"/>\n",
       "<polyline clip-path=\"url(#clip810)\" style=\"stroke:#000000; stroke-linecap:round; stroke-linejoin:round; stroke-width:4; stroke-opacity:1; fill:none\" points=\"224.098,1281.5 242.996,1281.5 \"/>\n",
       "<polyline clip-path=\"url(#clip810)\" style=\"stroke:#000000; stroke-linecap:round; stroke-linejoin:round; stroke-width:4; stroke-opacity:1; fill:none\" points=\"224.098,963.13 242.996,963.13 \"/>\n",
       "<polyline clip-path=\"url(#clip810)\" style=\"stroke:#000000; stroke-linecap:round; stroke-linejoin:round; stroke-width:4; stroke-opacity:1; fill:none\" points=\"224.098,644.76 242.996,644.76 \"/>\n",
       "<polyline clip-path=\"url(#clip810)\" style=\"stroke:#000000; stroke-linecap:round; stroke-linejoin:round; stroke-width:4; stroke-opacity:1; fill:none\" points=\"224.098,326.389 242.996,326.389 \"/>\n",
       "<path clip-path=\"url(#clip810)\" d=\"M50.9921 1281.95 L80.6679 1281.95 L80.6679 1285.89 L50.9921 1285.89 L50.9921 1281.95 Z\" fill=\"#000000\" fill-rule=\"nonzero\" fill-opacity=\"1\" /><path clip-path=\"url(#clip810)\" d=\"M104.927 1280.15 Q108.283 1280.86 110.158 1283.13 Q112.057 1285.4 112.057 1288.73 Q112.057 1293.85 108.538 1296.65 Q105.02 1299.45 98.5382 1299.45 Q96.3623 1299.45 94.0475 1299.01 Q91.7558 1298.6 89.3021 1297.74 L89.3021 1293.23 Q91.2465 1294.36 93.5613 1294.94 Q95.8761 1295.52 98.3993 1295.52 Q102.797 1295.52 105.089 1293.78 Q107.404 1292.04 107.404 1288.73 Q107.404 1285.68 105.251 1283.97 Q103.121 1282.23 99.3021 1282.23 L95.2743 1282.23 L95.2743 1278.39 L99.4872 1278.39 Q102.936 1278.39 104.765 1277.02 Q106.594 1275.63 106.594 1273.04 Q106.594 1270.38 104.696 1268.97 Q102.821 1267.53 99.3021 1267.53 Q97.3808 1267.53 95.1817 1267.95 Q92.9826 1268.36 90.3438 1269.24 L90.3438 1265.08 Q93.0058 1264.34 95.3206 1263.97 Q97.6585 1263.6 99.7187 1263.6 Q105.043 1263.6 108.145 1266.03 Q111.246 1268.43 111.246 1272.55 Q111.246 1275.42 109.603 1277.42 Q107.959 1279.38 104.927 1280.15 Z\" fill=\"#000000\" fill-rule=\"nonzero\" fill-opacity=\"1\" /><path clip-path=\"url(#clip810)\" d=\"M120.922 1292.9 L125.807 1292.9 L125.807 1298.78 L120.922 1298.78 L120.922 1292.9 Z\" fill=\"#000000\" fill-rule=\"nonzero\" fill-opacity=\"1\" /><path clip-path=\"url(#clip810)\" d=\"M136.038 1264.22 L154.394 1264.22 L154.394 1268.16 L140.32 1268.16 L140.32 1276.63 Q141.339 1276.28 142.357 1276.12 Q143.376 1275.93 144.394 1275.93 Q150.181 1275.93 153.561 1279.1 Q156.941 1282.28 156.941 1287.69 Q156.941 1293.27 153.468 1296.37 Q149.996 1299.45 143.677 1299.45 Q141.501 1299.45 139.232 1299.08 Q136.987 1298.71 134.58 1297.97 L134.58 1293.27 Q136.663 1294.41 138.885 1294.96 Q141.107 1295.52 143.584 1295.52 Q147.589 1295.52 149.927 1293.41 Q152.265 1291.3 152.265 1287.69 Q152.265 1284.08 149.927 1281.98 Q147.589 1279.87 143.584 1279.87 Q141.709 1279.87 139.834 1280.29 Q137.982 1280.7 136.038 1281.58 L136.038 1264.22 Z\" fill=\"#000000\" fill-rule=\"nonzero\" fill-opacity=\"1\" /><path clip-path=\"url(#clip810)\" d=\"M176.153 1267.3 Q172.542 1267.3 170.714 1270.86 Q168.908 1274.41 168.908 1281.54 Q168.908 1288.64 170.714 1292.21 Q172.542 1295.75 176.153 1295.75 Q179.788 1295.75 181.593 1292.21 Q183.422 1288.64 183.422 1281.54 Q183.422 1274.41 181.593 1270.86 Q179.788 1267.3 176.153 1267.3 M176.153 1263.6 Q181.964 1263.6 185.019 1268.2 Q188.098 1272.79 188.098 1281.54 Q188.098 1290.26 185.019 1294.87 Q181.964 1299.45 176.153 1299.45 Q170.343 1299.45 167.265 1294.87 Q164.209 1290.26 164.209 1281.54 Q164.209 1272.79 167.265 1268.2 Q170.343 1263.6 176.153 1263.6 Z\" fill=\"#000000\" fill-rule=\"nonzero\" fill-opacity=\"1\" /><path clip-path=\"url(#clip810)\" d=\"M51.9875 963.582 L81.6633 963.582 L81.6633 967.517 L51.9875 967.517 L51.9875 963.582 Z\" fill=\"#000000\" fill-rule=\"nonzero\" fill-opacity=\"1\" /><path clip-path=\"url(#clip810)\" d=\"M105.922 961.776 Q109.279 962.494 111.154 964.762 Q113.052 967.031 113.052 970.364 Q113.052 975.48 109.533 978.281 Q106.015 981.081 99.5335 981.081 Q97.3576 981.081 95.0428 980.642 Q92.7512 980.225 90.2975 979.369 L90.2975 974.855 Q92.2419 975.989 94.5567 976.568 Q96.8715 977.146 99.3946 977.146 Q103.793 977.146 106.084 975.41 Q108.399 973.674 108.399 970.364 Q108.399 967.308 106.246 965.595 Q104.117 963.859 100.297 963.859 L96.2697 963.859 L96.2697 960.017 L100.483 960.017 Q103.932 960.017 105.76 958.651 Q107.589 957.262 107.589 954.67 Q107.589 952.008 105.691 950.596 Q103.816 949.16 100.297 949.16 Q98.3761 949.16 96.1771 949.577 Q93.978 949.994 91.3391 950.873 L91.3391 946.707 Q94.0012 945.966 96.316 945.596 Q98.6539 945.225 100.714 945.225 Q106.038 945.225 109.14 947.656 Q112.242 950.063 112.242 954.183 Q112.242 957.054 110.598 959.045 Q108.955 961.012 105.922 961.776 Z\" fill=\"#000000\" fill-rule=\"nonzero\" fill-opacity=\"1\" /><path clip-path=\"url(#clip810)\" d=\"M121.918 974.531 L126.802 974.531 L126.802 980.41 L121.918 980.41 L121.918 974.531 Z\" fill=\"#000000\" fill-rule=\"nonzero\" fill-opacity=\"1\" /><path clip-path=\"url(#clip810)\" d=\"M141.015 976.475 L157.334 976.475 L157.334 980.41 L135.39 980.41 L135.39 976.475 Q138.052 973.72 142.635 969.091 Q147.242 964.438 148.422 963.095 Q150.668 960.572 151.547 958.836 Q152.45 957.077 152.45 955.387 Q152.45 952.633 150.505 950.896 Q148.584 949.16 145.482 949.16 Q143.283 949.16 140.83 949.924 Q138.399 950.688 135.621 952.239 L135.621 947.517 Q138.445 946.383 140.899 945.804 Q143.353 945.225 145.39 945.225 Q150.76 945.225 153.955 947.91 Q157.149 950.596 157.149 955.086 Q157.149 957.216 156.339 959.137 Q155.552 961.035 153.445 963.628 Q152.867 964.299 149.765 967.517 Q146.663 970.711 141.015 976.475 Z\" fill=\"#000000\" fill-rule=\"nonzero\" fill-opacity=\"1\" /><path clip-path=\"url(#clip810)\" d=\"M167.195 945.85 L185.552 945.85 L185.552 949.785 L171.478 949.785 L171.478 958.258 Q172.496 957.91 173.515 957.748 Q174.533 957.563 175.552 957.563 Q181.339 957.563 184.718 960.734 Q188.098 963.906 188.098 969.322 Q188.098 974.901 184.626 978.003 Q181.153 981.081 174.834 981.081 Q172.658 981.081 170.39 980.711 Q168.144 980.341 165.737 979.6 L165.737 974.901 Q167.82 976.035 170.042 976.591 Q172.265 977.146 174.741 977.146 Q178.746 977.146 181.084 975.04 Q183.422 972.933 183.422 969.322 Q183.422 965.711 181.084 963.605 Q178.746 961.498 174.741 961.498 Q172.866 961.498 170.991 961.915 Q169.14 962.332 167.195 963.211 L167.195 945.85 Z\" fill=\"#000000\" fill-rule=\"nonzero\" fill-opacity=\"1\" /><path clip-path=\"url(#clip810)\" d=\"M50.9921 645.211 L80.6679 645.211 L80.6679 649.146 L50.9921 649.146 L50.9921 645.211 Z\" fill=\"#000000\" fill-rule=\"nonzero\" fill-opacity=\"1\" /><path clip-path=\"url(#clip810)\" d=\"M104.927 643.405 Q108.283 644.123 110.158 646.392 Q112.057 648.66 112.057 651.993 Q112.057 657.109 108.538 659.91 Q105.02 662.711 98.5382 662.711 Q96.3623 662.711 94.0475 662.271 Q91.7558 661.854 89.3021 660.998 L89.3021 656.484 Q91.2465 657.618 93.5613 658.197 Q95.8761 658.776 98.3993 658.776 Q102.797 658.776 105.089 657.04 Q107.404 655.304 107.404 651.993 Q107.404 648.938 105.251 647.225 Q103.121 645.489 99.3021 645.489 L95.2743 645.489 L95.2743 641.646 L99.4872 641.646 Q102.936 641.646 104.765 640.28 Q106.594 638.892 106.594 636.299 Q106.594 633.637 104.696 632.225 Q102.821 630.79 99.3021 630.79 Q97.3808 630.79 95.1817 631.206 Q92.9826 631.623 90.3438 632.503 L90.3438 628.336 Q93.0058 627.595 95.3206 627.225 Q97.6585 626.855 99.7187 626.855 Q105.043 626.855 108.145 629.285 Q111.246 631.693 111.246 635.813 Q111.246 638.683 109.603 640.674 Q107.959 642.642 104.927 643.405 Z\" fill=\"#000000\" fill-rule=\"nonzero\" fill-opacity=\"1\" /><path clip-path=\"url(#clip810)\" d=\"M120.922 656.16 L125.807 656.16 L125.807 662.04 L120.922 662.04 L120.922 656.16 Z\" fill=\"#000000\" fill-rule=\"nonzero\" fill-opacity=\"1\" /><path clip-path=\"url(#clip810)\" d=\"M145.992 630.558 Q142.381 630.558 140.552 634.123 Q138.746 637.665 138.746 644.794 Q138.746 651.901 140.552 655.466 Q142.381 659.007 145.992 659.007 Q149.626 659.007 151.431 655.466 Q153.26 651.901 153.26 644.794 Q153.26 637.665 151.431 634.123 Q149.626 630.558 145.992 630.558 M145.992 626.855 Q151.802 626.855 154.857 631.461 Q157.936 636.044 157.936 644.794 Q157.936 653.521 154.857 658.128 Q151.802 662.711 145.992 662.711 Q140.181 662.711 137.103 658.128 Q134.047 653.521 134.047 644.794 Q134.047 636.044 137.103 631.461 Q140.181 626.855 145.992 626.855 Z\" fill=\"#000000\" fill-rule=\"nonzero\" fill-opacity=\"1\" /><path clip-path=\"url(#clip810)\" d=\"M176.153 630.558 Q172.542 630.558 170.714 634.123 Q168.908 637.665 168.908 644.794 Q168.908 651.901 170.714 655.466 Q172.542 659.007 176.153 659.007 Q179.788 659.007 181.593 655.466 Q183.422 651.901 183.422 644.794 Q183.422 637.665 181.593 634.123 Q179.788 630.558 176.153 630.558 M176.153 626.855 Q181.964 626.855 185.019 631.461 Q188.098 636.044 188.098 644.794 Q188.098 653.521 185.019 658.128 Q181.964 662.711 176.153 662.711 Q170.343 662.711 167.265 658.128 Q164.209 653.521 164.209 644.794 Q164.209 636.044 167.265 631.461 Q170.343 626.855 176.153 626.855 Z\" fill=\"#000000\" fill-rule=\"nonzero\" fill-opacity=\"1\" /><path clip-path=\"url(#clip810)\" d=\"M51.9875 326.84 L81.6633 326.84 L81.6633 330.776 L51.9875 330.776 L51.9875 326.84 Z\" fill=\"#000000\" fill-rule=\"nonzero\" fill-opacity=\"1\" /><path clip-path=\"url(#clip810)\" d=\"M95.7836 339.734 L112.103 339.734 L112.103 343.669 L90.1586 343.669 L90.1586 339.734 Q92.8206 336.979 97.4039 332.35 Q102.01 327.697 103.191 326.354 Q105.436 323.831 106.316 322.095 Q107.219 320.336 107.219 318.646 Q107.219 315.891 105.274 314.155 Q103.353 312.419 100.251 312.419 Q98.0521 312.419 95.5984 313.183 Q93.1678 313.947 90.3901 315.498 L90.3901 310.776 Q93.2141 309.641 95.6678 309.063 Q98.1215 308.484 100.159 308.484 Q105.529 308.484 108.723 311.169 Q111.918 313.854 111.918 318.345 Q111.918 320.475 111.108 322.396 Q110.321 324.294 108.214 326.887 Q107.635 327.558 104.534 330.776 Q101.432 333.97 95.7836 339.734 Z\" fill=\"#000000\" fill-rule=\"nonzero\" fill-opacity=\"1\" /><path clip-path=\"url(#clip810)\" d=\"M121.918 337.789 L126.802 337.789 L126.802 343.669 L121.918 343.669 L121.918 337.789 Z\" fill=\"#000000\" fill-rule=\"nonzero\" fill-opacity=\"1\" /><path clip-path=\"url(#clip810)\" d=\"M135.806 309.109 L158.029 309.109 L158.029 311.1 L145.482 343.669 L140.598 343.669 L152.404 313.044 L135.806 313.044 L135.806 309.109 Z\" fill=\"#000000\" fill-rule=\"nonzero\" fill-opacity=\"1\" /><path clip-path=\"url(#clip810)\" d=\"M167.195 309.109 L185.552 309.109 L185.552 313.044 L171.478 313.044 L171.478 321.516 Q172.496 321.169 173.515 321.007 Q174.533 320.822 175.552 320.822 Q181.339 320.822 184.718 323.993 Q188.098 327.165 188.098 332.581 Q188.098 338.16 184.626 341.262 Q181.153 344.34 174.834 344.34 Q172.658 344.34 170.39 343.97 Q168.144 343.6 165.737 342.859 L165.737 338.16 Q167.82 339.294 170.042 339.85 Q172.265 340.405 174.741 340.405 Q178.746 340.405 181.084 338.299 Q183.422 336.192 183.422 332.581 Q183.422 328.97 181.084 326.864 Q178.746 324.757 174.741 324.757 Q172.866 324.757 170.991 325.174 Q169.14 325.59 167.195 326.47 L167.195 309.109 Z\" fill=\"#000000\" fill-rule=\"nonzero\" fill-opacity=\"1\" /><polyline clip-path=\"url(#clip812)\" style=\"stroke:#009af9; stroke-linecap:round; stroke-linejoin:round; stroke-width:4; stroke-opacity:1; fill:none\" points=\"284.343,191.478 304.627,1021.25 324.912,496.805 345.196,1246.57 365.481,934.624 385.766,1124.01 406.05,1324.86 426.335,1394.27 446.619,1423.5 466.904,1445.72 487.188,138.26 507.473,952.428 527.757,452.176 548.042,1218.43 568.326,805.514 588.611,1010.28 608.895,1247.69 629.18,1310.1 649.464,1332.97 669.749,1351.23 690.033,117.128 710.318,910.53 730.602,444.286 750.887,1191.84 771.172,769.5 791.456,954.427 811.741,1160.44 832.025,1221.25 852.31,1248.69 872.594,1271.07 892.879,102.248 913.163,868.417 933.448,448.948 953.732,1170 974.017,760.986 994.301,922.418 1014.59,1090.72 1034.87,1152.35 1055.15,1186.84 1075.44,1215.22 1095.72,92.6442 1116.01,823.003 1136.29,463.089 1156.58,1151.86 1176.86,771.526 1197.15,909.451 1217.43,1042.27 1237.72,1104.58 1258,1146.31 1278.28,1181 1298.57,87.9763 1318.85,784.005 1339.14,487.19 1359.42,1136.23 1379.71,797.577 1399.99,914.312 1420.28,1018.39 1440.56,1080.27 1460.85,1127.76 1481.13,1167.64 1501.41,88.4683 1521.7,748.931 1541.98,523.539 1562.27,1122.46 1582.55,837.285 1602.84,936.133 1623.12,1020.84 1643.41,1081.56 1663.69,1131.92 1683.98,1173.89 1704.26,94.5784 1724.54,716.589 1744.83,575.291 1765.11,1110.78 1785.4,888.172 1805.68,971.19 1825.97,1045.52 1846.25,1103.78 1866.54,1151.89 1886.82,1189.61 1907.1,105.212 1927.39,687.753 1947.67,639.319 1967.96,1102.83 1988.24,941.03 2008.53,1007.75 2028.81,1075.58 2049.1,1127.34 2069.38,1166.36 2089.67,1193.78 2109.95,116.327 2130.23,664.594 2150.52,704.892 2170.8,1099.87 2191.09,980.82 2211.37,1031.94 2231.66,1092.49 2251.94,1135.14 2272.23,1163.96 2292.51,1182.92 \"/>\n",
       "<path clip-path=\"url(#clip810)\" d=\"M2016.5 198.898 L2281.8 198.898 L2281.8 95.2176 L2016.5 95.2176  Z\" fill=\"#ffffff\" fill-rule=\"evenodd\" fill-opacity=\"1\"/>\n",
       "<polyline clip-path=\"url(#clip810)\" style=\"stroke:#000000; stroke-linecap:round; stroke-linejoin:round; stroke-width:4; stroke-opacity:1; fill:none\" points=\"2016.5,198.898 2281.8,198.898 2281.8,95.2176 2016.5,95.2176 2016.5,198.898 \"/>\n",
       "<polyline clip-path=\"url(#clip810)\" style=\"stroke:#009af9; stroke-linecap:round; stroke-linejoin:round; stroke-width:4; stroke-opacity:1; fill:none\" points=\"2040.16,147.058 2182.07,147.058 \"/>\n",
       "<path clip-path=\"url(#clip810)\" d=\"M2219.56 166.745 Q2217.76 171.375 2216.04 172.787 Q2214.33 174.199 2211.46 174.199 L2208.06 174.199 L2208.06 170.634 L2210.56 170.634 Q2212.32 170.634 2213.29 169.8 Q2214.26 168.967 2215.44 165.865 L2216.2 163.921 L2205.72 138.412 L2210.23 138.412 L2218.33 158.689 L2226.44 138.412 L2230.95 138.412 L2219.56 166.745 Z\" fill=\"#000000\" fill-rule=\"nonzero\" fill-opacity=\"1\" /><path clip-path=\"url(#clip810)\" d=\"M2238.24 160.402 L2245.88 160.402 L2245.88 134.037 L2237.57 135.703 L2237.57 131.444 L2245.83 129.778 L2250.51 129.778 L2250.51 160.402 L2258.15 160.402 L2258.15 164.338 L2238.24 164.338 L2238.24 160.402 Z\" fill=\"#000000\" fill-rule=\"nonzero\" fill-opacity=\"1\" /></svg>\n"
      ],
      "text/html": [
       "<?xml version=\"1.0\" encoding=\"utf-8\"?>\n",
       "<svg xmlns=\"http://www.w3.org/2000/svg\" xmlns:xlink=\"http://www.w3.org/1999/xlink\" width=\"600\" height=\"400\" viewBox=\"0 0 2400 1600\">\n",
       "<defs>\n",
       "  <clipPath id=\"clip860\">\n",
       "    <rect x=\"0\" y=\"0\" width=\"2400\" height=\"1600\"/>\n",
       "  </clipPath>\n",
       "</defs>\n",
       "<path clip-path=\"url(#clip860)\" d=\"M0 1600 L2400 1600 L2400 0 L0 0  Z\" fill=\"#ffffff\" fill-rule=\"evenodd\" fill-opacity=\"1\"/>\n",
       "<defs>\n",
       "  <clipPath id=\"clip861\">\n",
       "    <rect x=\"480\" y=\"0\" width=\"1681\" height=\"1600\"/>\n",
       "  </clipPath>\n",
       "</defs>\n",
       "<path clip-path=\"url(#clip860)\" d=\"M224.098 1486.45 L2352.76 1486.45 L2352.76 47.2441 L224.098 47.2441  Z\" fill=\"#ffffff\" fill-rule=\"evenodd\" fill-opacity=\"1\"/>\n",
       "<defs>\n",
       "  <clipPath id=\"clip862\">\n",
       "    <rect x=\"224\" y=\"47\" width=\"2130\" height=\"1440\"/>\n",
       "  </clipPath>\n",
       "</defs>\n",
       "<polyline clip-path=\"url(#clip862)\" style=\"stroke:#000000; stroke-linecap:round; stroke-linejoin:round; stroke-width:2; stroke-opacity:0.1; fill:none\" points=\"264.058,1486.45 264.058,47.2441 \"/>\n",
       "<polyline clip-path=\"url(#clip862)\" style=\"stroke:#000000; stroke-linecap:round; stroke-linejoin:round; stroke-width:2; stroke-opacity:0.1; fill:none\" points=\"771.172,1486.45 771.172,47.2441 \"/>\n",
       "<polyline clip-path=\"url(#clip862)\" style=\"stroke:#000000; stroke-linecap:round; stroke-linejoin:round; stroke-width:2; stroke-opacity:0.1; fill:none\" points=\"1278.28,1486.45 1278.28,47.2441 \"/>\n",
       "<polyline clip-path=\"url(#clip862)\" style=\"stroke:#000000; stroke-linecap:round; stroke-linejoin:round; stroke-width:2; stroke-opacity:0.1; fill:none\" points=\"1785.4,1486.45 1785.4,47.2441 \"/>\n",
       "<polyline clip-path=\"url(#clip862)\" style=\"stroke:#000000; stroke-linecap:round; stroke-linejoin:round; stroke-width:2; stroke-opacity:0.1; fill:none\" points=\"2292.51,1486.45 2292.51,47.2441 \"/>\n",
       "<polyline clip-path=\"url(#clip862)\" style=\"stroke:#000000; stroke-linecap:round; stroke-linejoin:round; stroke-width:2; stroke-opacity:0.1; fill:none\" points=\"224.098,1281.5 2352.76,1281.5 \"/>\n",
       "<polyline clip-path=\"url(#clip862)\" style=\"stroke:#000000; stroke-linecap:round; stroke-linejoin:round; stroke-width:2; stroke-opacity:0.1; fill:none\" points=\"224.098,963.13 2352.76,963.13 \"/>\n",
       "<polyline clip-path=\"url(#clip862)\" style=\"stroke:#000000; stroke-linecap:round; stroke-linejoin:round; stroke-width:2; stroke-opacity:0.1; fill:none\" points=\"224.098,644.76 2352.76,644.76 \"/>\n",
       "<polyline clip-path=\"url(#clip862)\" style=\"stroke:#000000; stroke-linecap:round; stroke-linejoin:round; stroke-width:2; stroke-opacity:0.1; fill:none\" points=\"224.098,326.389 2352.76,326.389 \"/>\n",
       "<polyline clip-path=\"url(#clip860)\" style=\"stroke:#000000; stroke-linecap:round; stroke-linejoin:round; stroke-width:4; stroke-opacity:1; fill:none\" points=\"224.098,1486.45 2352.76,1486.45 \"/>\n",
       "<polyline clip-path=\"url(#clip860)\" style=\"stroke:#000000; stroke-linecap:round; stroke-linejoin:round; stroke-width:4; stroke-opacity:1; fill:none\" points=\"264.058,1486.45 264.058,1467.55 \"/>\n",
       "<polyline clip-path=\"url(#clip860)\" style=\"stroke:#000000; stroke-linecap:round; stroke-linejoin:round; stroke-width:4; stroke-opacity:1; fill:none\" points=\"771.172,1486.45 771.172,1467.55 \"/>\n",
       "<polyline clip-path=\"url(#clip860)\" style=\"stroke:#000000; stroke-linecap:round; stroke-linejoin:round; stroke-width:4; stroke-opacity:1; fill:none\" points=\"1278.28,1486.45 1278.28,1467.55 \"/>\n",
       "<polyline clip-path=\"url(#clip860)\" style=\"stroke:#000000; stroke-linecap:round; stroke-linejoin:round; stroke-width:4; stroke-opacity:1; fill:none\" points=\"1785.4,1486.45 1785.4,1467.55 \"/>\n",
       "<polyline clip-path=\"url(#clip860)\" style=\"stroke:#000000; stroke-linecap:round; stroke-linejoin:round; stroke-width:4; stroke-opacity:1; fill:none\" points=\"2292.51,1486.45 2292.51,1467.55 \"/>\n",
       "<path clip-path=\"url(#clip860)\" d=\"M264.058 1517.37 Q260.447 1517.37 258.619 1520.93 Q256.813 1524.47 256.813 1531.6 Q256.813 1538.71 258.619 1542.27 Q260.447 1545.82 264.058 1545.82 Q267.693 1545.82 269.498 1542.27 Q271.327 1538.71 271.327 1531.6 Q271.327 1524.47 269.498 1520.93 Q267.693 1517.37 264.058 1517.37 M264.058 1513.66 Q269.869 1513.66 272.924 1518.27 Q276.003 1522.85 276.003 1531.6 Q276.003 1540.33 272.924 1544.94 Q269.869 1549.52 264.058 1549.52 Q258.248 1549.52 255.17 1544.94 Q252.114 1540.33 252.114 1531.6 Q252.114 1522.85 255.17 1518.27 Q258.248 1513.66 264.058 1513.66 Z\" fill=\"#000000\" fill-rule=\"nonzero\" fill-opacity=\"1\" /><path clip-path=\"url(#clip860)\" d=\"M750.442 1544.91 L766.762 1544.91 L766.762 1548.85 L744.817 1548.85 L744.817 1544.91 Q747.48 1542.16 752.063 1537.53 Q756.669 1532.88 757.85 1531.53 Q760.095 1529.01 760.975 1527.27 Q761.878 1525.51 761.878 1523.82 Q761.878 1521.07 759.933 1519.33 Q758.012 1517.6 754.91 1517.6 Q752.711 1517.6 750.257 1518.36 Q747.827 1519.13 745.049 1520.68 L745.049 1515.95 Q747.873 1514.82 750.327 1514.24 Q752.78 1513.66 754.817 1513.66 Q760.188 1513.66 763.382 1516.35 Q766.577 1519.03 766.577 1523.52 Q766.577 1525.65 765.766 1527.57 Q764.979 1529.47 762.873 1532.07 Q762.294 1532.74 759.192 1535.95 Q756.091 1539.15 750.442 1544.91 Z\" fill=\"#000000\" fill-rule=\"nonzero\" fill-opacity=\"1\" /><path clip-path=\"url(#clip860)\" d=\"M776.623 1514.29 L794.979 1514.29 L794.979 1518.22 L780.905 1518.22 L780.905 1526.7 Q781.924 1526.35 782.942 1526.19 Q783.961 1526 784.979 1526 Q790.766 1526 794.146 1529.17 Q797.526 1532.34 797.526 1537.76 Q797.526 1543.34 794.053 1546.44 Q790.581 1549.52 784.262 1549.52 Q782.086 1549.52 779.817 1549.15 Q777.572 1548.78 775.165 1548.04 L775.165 1543.34 Q777.248 1544.47 779.47 1545.03 Q781.692 1545.58 784.169 1545.58 Q788.174 1545.58 790.512 1543.48 Q792.85 1541.37 792.85 1537.76 Q792.85 1534.15 790.512 1532.04 Q788.174 1529.94 784.169 1529.94 Q782.294 1529.94 780.419 1530.35 Q778.567 1530.77 776.623 1531.65 L776.623 1514.29 Z\" fill=\"#000000\" fill-rule=\"nonzero\" fill-opacity=\"1\" /><path clip-path=\"url(#clip860)\" d=\"M1252.98 1514.29 L1271.34 1514.29 L1271.34 1518.22 L1257.27 1518.22 L1257.27 1526.7 Q1258.28 1526.35 1259.3 1526.19 Q1260.32 1526 1261.34 1526 Q1267.13 1526 1270.51 1529.17 Q1273.89 1532.34 1273.89 1537.76 Q1273.89 1543.34 1270.41 1546.44 Q1266.94 1549.52 1260.62 1549.52 Q1258.45 1549.52 1256.18 1549.15 Q1253.93 1548.78 1251.53 1548.04 L1251.53 1543.34 Q1253.61 1544.47 1255.83 1545.03 Q1258.05 1545.58 1260.53 1545.58 Q1264.53 1545.58 1266.87 1543.48 Q1269.21 1541.37 1269.21 1537.76 Q1269.21 1534.15 1266.87 1532.04 Q1264.53 1529.94 1260.53 1529.94 Q1258.66 1529.94 1256.78 1530.35 Q1254.93 1530.77 1252.98 1531.65 L1252.98 1514.29 Z\" fill=\"#000000\" fill-rule=\"nonzero\" fill-opacity=\"1\" /><path clip-path=\"url(#clip860)\" d=\"M1293.1 1517.37 Q1289.49 1517.37 1287.66 1520.93 Q1285.85 1524.47 1285.85 1531.6 Q1285.85 1538.71 1287.66 1542.27 Q1289.49 1545.82 1293.1 1545.82 Q1296.73 1545.82 1298.54 1542.27 Q1300.37 1538.71 1300.37 1531.6 Q1300.37 1524.47 1298.54 1520.93 Q1296.73 1517.37 1293.1 1517.37 M1293.1 1513.66 Q1298.91 1513.66 1301.97 1518.27 Q1305.04 1522.85 1305.04 1531.6 Q1305.04 1540.33 1301.97 1544.94 Q1298.91 1549.52 1293.1 1549.52 Q1287.29 1549.52 1284.21 1544.94 Q1281.15 1540.33 1281.15 1531.6 Q1281.15 1522.85 1284.21 1518.27 Q1287.29 1513.66 1293.1 1513.66 Z\" fill=\"#000000\" fill-rule=\"nonzero\" fill-opacity=\"1\" /><path clip-path=\"url(#clip860)\" d=\"M1759.25 1514.29 L1781.47 1514.29 L1781.47 1516.28 L1768.93 1548.85 L1764.04 1548.85 L1775.85 1518.22 L1759.25 1518.22 L1759.25 1514.29 Z\" fill=\"#000000\" fill-rule=\"nonzero\" fill-opacity=\"1\" /><path clip-path=\"url(#clip860)\" d=\"M1790.64 1514.29 L1809 1514.29 L1809 1518.22 L1794.92 1518.22 L1794.92 1526.7 Q1795.94 1526.35 1796.96 1526.19 Q1797.98 1526 1799 1526 Q1804.78 1526 1808.16 1529.17 Q1811.54 1532.34 1811.54 1537.76 Q1811.54 1543.34 1808.07 1546.44 Q1804.6 1549.52 1798.28 1549.52 Q1796.1 1549.52 1793.84 1549.15 Q1791.59 1548.78 1789.18 1548.04 L1789.18 1543.34 Q1791.27 1544.47 1793.49 1545.03 Q1795.71 1545.58 1798.19 1545.58 Q1802.19 1545.58 1804.53 1543.48 Q1806.87 1541.37 1806.87 1537.76 Q1806.87 1534.15 1804.53 1532.04 Q1802.19 1529.94 1798.19 1529.94 Q1796.31 1529.94 1794.44 1530.35 Q1792.59 1530.77 1790.64 1531.65 L1790.64 1514.29 Z\" fill=\"#000000\" fill-rule=\"nonzero\" fill-opacity=\"1\" /><path clip-path=\"url(#clip860)\" d=\"M2252.12 1544.91 L2259.76 1544.91 L2259.76 1518.55 L2251.45 1520.21 L2251.45 1515.95 L2259.71 1514.29 L2264.39 1514.29 L2264.39 1544.91 L2272.02 1544.91 L2272.02 1548.85 L2252.12 1548.85 L2252.12 1544.91 Z\" fill=\"#000000\" fill-rule=\"nonzero\" fill-opacity=\"1\" /><path clip-path=\"url(#clip860)\" d=\"M2291.47 1517.37 Q2287.86 1517.37 2286.03 1520.93 Q2284.22 1524.47 2284.22 1531.6 Q2284.22 1538.71 2286.03 1542.27 Q2287.86 1545.82 2291.47 1545.82 Q2295.1 1545.82 2296.91 1542.27 Q2298.74 1538.71 2298.74 1531.6 Q2298.74 1524.47 2296.91 1520.93 Q2295.1 1517.37 2291.47 1517.37 M2291.47 1513.66 Q2297.28 1513.66 2300.33 1518.27 Q2303.41 1522.85 2303.41 1531.6 Q2303.41 1540.33 2300.33 1544.94 Q2297.28 1549.52 2291.47 1549.52 Q2285.66 1549.52 2282.58 1544.94 Q2279.52 1540.33 2279.52 1531.6 Q2279.52 1522.85 2282.58 1518.27 Q2285.66 1513.66 2291.47 1513.66 Z\" fill=\"#000000\" fill-rule=\"nonzero\" fill-opacity=\"1\" /><path clip-path=\"url(#clip860)\" d=\"M2321.63 1517.37 Q2318.02 1517.37 2316.19 1520.93 Q2314.39 1524.47 2314.39 1531.6 Q2314.39 1538.71 2316.19 1542.27 Q2318.02 1545.82 2321.63 1545.82 Q2325.27 1545.82 2327.07 1542.27 Q2328.9 1538.71 2328.9 1531.6 Q2328.9 1524.47 2327.07 1520.93 Q2325.27 1517.37 2321.63 1517.37 M2321.63 1513.66 Q2327.44 1513.66 2330.5 1518.27 Q2333.58 1522.85 2333.58 1531.6 Q2333.58 1540.33 2330.5 1544.94 Q2327.44 1549.52 2321.63 1549.52 Q2315.82 1549.52 2312.74 1544.94 Q2309.69 1540.33 2309.69 1531.6 Q2309.69 1522.85 2312.74 1518.27 Q2315.82 1513.66 2321.63 1513.66 Z\" fill=\"#000000\" fill-rule=\"nonzero\" fill-opacity=\"1\" /><polyline clip-path=\"url(#clip860)\" style=\"stroke:#000000; stroke-linecap:round; stroke-linejoin:round; stroke-width:4; stroke-opacity:1; fill:none\" points=\"224.098,1486.45 224.098,47.2441 \"/>\n",
       "<polyline clip-path=\"url(#clip860)\" style=\"stroke:#000000; stroke-linecap:round; stroke-linejoin:round; stroke-width:4; stroke-opacity:1; fill:none\" points=\"224.098,1281.5 242.996,1281.5 \"/>\n",
       "<polyline clip-path=\"url(#clip860)\" style=\"stroke:#000000; stroke-linecap:round; stroke-linejoin:round; stroke-width:4; stroke-opacity:1; fill:none\" points=\"224.098,963.13 242.996,963.13 \"/>\n",
       "<polyline clip-path=\"url(#clip860)\" style=\"stroke:#000000; stroke-linecap:round; stroke-linejoin:round; stroke-width:4; stroke-opacity:1; fill:none\" points=\"224.098,644.76 242.996,644.76 \"/>\n",
       "<polyline clip-path=\"url(#clip860)\" style=\"stroke:#000000; stroke-linecap:round; stroke-linejoin:round; stroke-width:4; stroke-opacity:1; fill:none\" points=\"224.098,326.389 242.996,326.389 \"/>\n",
       "<path clip-path=\"url(#clip860)\" d=\"M50.9921 1281.95 L80.6679 1281.95 L80.6679 1285.89 L50.9921 1285.89 L50.9921 1281.95 Z\" fill=\"#000000\" fill-rule=\"nonzero\" fill-opacity=\"1\" /><path clip-path=\"url(#clip860)\" d=\"M104.927 1280.15 Q108.283 1280.86 110.158 1283.13 Q112.057 1285.4 112.057 1288.73 Q112.057 1293.85 108.538 1296.65 Q105.02 1299.45 98.5382 1299.45 Q96.3623 1299.45 94.0475 1299.01 Q91.7558 1298.6 89.3021 1297.74 L89.3021 1293.23 Q91.2465 1294.36 93.5613 1294.94 Q95.8761 1295.52 98.3993 1295.52 Q102.797 1295.52 105.089 1293.78 Q107.404 1292.04 107.404 1288.73 Q107.404 1285.68 105.251 1283.97 Q103.121 1282.23 99.3021 1282.23 L95.2743 1282.23 L95.2743 1278.39 L99.4872 1278.39 Q102.936 1278.39 104.765 1277.02 Q106.594 1275.63 106.594 1273.04 Q106.594 1270.38 104.696 1268.97 Q102.821 1267.53 99.3021 1267.53 Q97.3808 1267.53 95.1817 1267.95 Q92.9826 1268.36 90.3438 1269.24 L90.3438 1265.08 Q93.0058 1264.34 95.3206 1263.97 Q97.6585 1263.6 99.7187 1263.6 Q105.043 1263.6 108.145 1266.03 Q111.246 1268.43 111.246 1272.55 Q111.246 1275.42 109.603 1277.42 Q107.959 1279.38 104.927 1280.15 Z\" fill=\"#000000\" fill-rule=\"nonzero\" fill-opacity=\"1\" /><path clip-path=\"url(#clip860)\" d=\"M120.922 1292.9 L125.807 1292.9 L125.807 1298.78 L120.922 1298.78 L120.922 1292.9 Z\" fill=\"#000000\" fill-rule=\"nonzero\" fill-opacity=\"1\" /><path clip-path=\"url(#clip860)\" d=\"M136.038 1264.22 L154.394 1264.22 L154.394 1268.16 L140.32 1268.16 L140.32 1276.63 Q141.339 1276.28 142.357 1276.12 Q143.376 1275.93 144.394 1275.93 Q150.181 1275.93 153.561 1279.1 Q156.941 1282.28 156.941 1287.69 Q156.941 1293.27 153.468 1296.37 Q149.996 1299.45 143.677 1299.45 Q141.501 1299.45 139.232 1299.08 Q136.987 1298.71 134.58 1297.97 L134.58 1293.27 Q136.663 1294.41 138.885 1294.96 Q141.107 1295.52 143.584 1295.52 Q147.589 1295.52 149.927 1293.41 Q152.265 1291.3 152.265 1287.69 Q152.265 1284.08 149.927 1281.98 Q147.589 1279.87 143.584 1279.87 Q141.709 1279.87 139.834 1280.29 Q137.982 1280.7 136.038 1281.58 L136.038 1264.22 Z\" fill=\"#000000\" fill-rule=\"nonzero\" fill-opacity=\"1\" /><path clip-path=\"url(#clip860)\" d=\"M176.153 1267.3 Q172.542 1267.3 170.714 1270.86 Q168.908 1274.41 168.908 1281.54 Q168.908 1288.64 170.714 1292.21 Q172.542 1295.75 176.153 1295.75 Q179.788 1295.75 181.593 1292.21 Q183.422 1288.64 183.422 1281.54 Q183.422 1274.41 181.593 1270.86 Q179.788 1267.3 176.153 1267.3 M176.153 1263.6 Q181.964 1263.6 185.019 1268.2 Q188.098 1272.79 188.098 1281.54 Q188.098 1290.26 185.019 1294.87 Q181.964 1299.45 176.153 1299.45 Q170.343 1299.45 167.265 1294.87 Q164.209 1290.26 164.209 1281.54 Q164.209 1272.79 167.265 1268.2 Q170.343 1263.6 176.153 1263.6 Z\" fill=\"#000000\" fill-rule=\"nonzero\" fill-opacity=\"1\" /><path clip-path=\"url(#clip860)\" d=\"M51.9875 963.582 L81.6633 963.582 L81.6633 967.517 L51.9875 967.517 L51.9875 963.582 Z\" fill=\"#000000\" fill-rule=\"nonzero\" fill-opacity=\"1\" /><path clip-path=\"url(#clip860)\" d=\"M105.922 961.776 Q109.279 962.494 111.154 964.762 Q113.052 967.031 113.052 970.364 Q113.052 975.48 109.533 978.281 Q106.015 981.081 99.5335 981.081 Q97.3576 981.081 95.0428 980.642 Q92.7512 980.225 90.2975 979.369 L90.2975 974.855 Q92.2419 975.989 94.5567 976.568 Q96.8715 977.146 99.3946 977.146 Q103.793 977.146 106.084 975.41 Q108.399 973.674 108.399 970.364 Q108.399 967.308 106.246 965.595 Q104.117 963.859 100.297 963.859 L96.2697 963.859 L96.2697 960.017 L100.483 960.017 Q103.932 960.017 105.76 958.651 Q107.589 957.262 107.589 954.67 Q107.589 952.008 105.691 950.596 Q103.816 949.16 100.297 949.16 Q98.3761 949.16 96.1771 949.577 Q93.978 949.994 91.3391 950.873 L91.3391 946.707 Q94.0012 945.966 96.316 945.596 Q98.6539 945.225 100.714 945.225 Q106.038 945.225 109.14 947.656 Q112.242 950.063 112.242 954.183 Q112.242 957.054 110.598 959.045 Q108.955 961.012 105.922 961.776 Z\" fill=\"#000000\" fill-rule=\"nonzero\" fill-opacity=\"1\" /><path clip-path=\"url(#clip860)\" d=\"M121.918 974.531 L126.802 974.531 L126.802 980.41 L121.918 980.41 L121.918 974.531 Z\" fill=\"#000000\" fill-rule=\"nonzero\" fill-opacity=\"1\" /><path clip-path=\"url(#clip860)\" d=\"M141.015 976.475 L157.334 976.475 L157.334 980.41 L135.39 980.41 L135.39 976.475 Q138.052 973.72 142.635 969.091 Q147.242 964.438 148.422 963.095 Q150.668 960.572 151.547 958.836 Q152.45 957.077 152.45 955.387 Q152.45 952.633 150.505 950.896 Q148.584 949.16 145.482 949.16 Q143.283 949.16 140.83 949.924 Q138.399 950.688 135.621 952.239 L135.621 947.517 Q138.445 946.383 140.899 945.804 Q143.353 945.225 145.39 945.225 Q150.76 945.225 153.955 947.91 Q157.149 950.596 157.149 955.086 Q157.149 957.216 156.339 959.137 Q155.552 961.035 153.445 963.628 Q152.867 964.299 149.765 967.517 Q146.663 970.711 141.015 976.475 Z\" fill=\"#000000\" fill-rule=\"nonzero\" fill-opacity=\"1\" /><path clip-path=\"url(#clip860)\" d=\"M167.195 945.85 L185.552 945.85 L185.552 949.785 L171.478 949.785 L171.478 958.258 Q172.496 957.91 173.515 957.748 Q174.533 957.563 175.552 957.563 Q181.339 957.563 184.718 960.734 Q188.098 963.906 188.098 969.322 Q188.098 974.901 184.626 978.003 Q181.153 981.081 174.834 981.081 Q172.658 981.081 170.39 980.711 Q168.144 980.341 165.737 979.6 L165.737 974.901 Q167.82 976.035 170.042 976.591 Q172.265 977.146 174.741 977.146 Q178.746 977.146 181.084 975.04 Q183.422 972.933 183.422 969.322 Q183.422 965.711 181.084 963.605 Q178.746 961.498 174.741 961.498 Q172.866 961.498 170.991 961.915 Q169.14 962.332 167.195 963.211 L167.195 945.85 Z\" fill=\"#000000\" fill-rule=\"nonzero\" fill-opacity=\"1\" /><path clip-path=\"url(#clip860)\" d=\"M50.9921 645.211 L80.6679 645.211 L80.6679 649.146 L50.9921 649.146 L50.9921 645.211 Z\" fill=\"#000000\" fill-rule=\"nonzero\" fill-opacity=\"1\" /><path clip-path=\"url(#clip860)\" d=\"M104.927 643.405 Q108.283 644.123 110.158 646.392 Q112.057 648.66 112.057 651.993 Q112.057 657.109 108.538 659.91 Q105.02 662.711 98.5382 662.711 Q96.3623 662.711 94.0475 662.271 Q91.7558 661.854 89.3021 660.998 L89.3021 656.484 Q91.2465 657.618 93.5613 658.197 Q95.8761 658.776 98.3993 658.776 Q102.797 658.776 105.089 657.04 Q107.404 655.304 107.404 651.993 Q107.404 648.938 105.251 647.225 Q103.121 645.489 99.3021 645.489 L95.2743 645.489 L95.2743 641.646 L99.4872 641.646 Q102.936 641.646 104.765 640.28 Q106.594 638.892 106.594 636.299 Q106.594 633.637 104.696 632.225 Q102.821 630.79 99.3021 630.79 Q97.3808 630.79 95.1817 631.206 Q92.9826 631.623 90.3438 632.503 L90.3438 628.336 Q93.0058 627.595 95.3206 627.225 Q97.6585 626.855 99.7187 626.855 Q105.043 626.855 108.145 629.285 Q111.246 631.693 111.246 635.813 Q111.246 638.683 109.603 640.674 Q107.959 642.642 104.927 643.405 Z\" fill=\"#000000\" fill-rule=\"nonzero\" fill-opacity=\"1\" /><path clip-path=\"url(#clip860)\" d=\"M120.922 656.16 L125.807 656.16 L125.807 662.04 L120.922 662.04 L120.922 656.16 Z\" fill=\"#000000\" fill-rule=\"nonzero\" fill-opacity=\"1\" /><path clip-path=\"url(#clip860)\" d=\"M145.992 630.558 Q142.381 630.558 140.552 634.123 Q138.746 637.665 138.746 644.794 Q138.746 651.901 140.552 655.466 Q142.381 659.007 145.992 659.007 Q149.626 659.007 151.431 655.466 Q153.26 651.901 153.26 644.794 Q153.26 637.665 151.431 634.123 Q149.626 630.558 145.992 630.558 M145.992 626.855 Q151.802 626.855 154.857 631.461 Q157.936 636.044 157.936 644.794 Q157.936 653.521 154.857 658.128 Q151.802 662.711 145.992 662.711 Q140.181 662.711 137.103 658.128 Q134.047 653.521 134.047 644.794 Q134.047 636.044 137.103 631.461 Q140.181 626.855 145.992 626.855 Z\" fill=\"#000000\" fill-rule=\"nonzero\" fill-opacity=\"1\" /><path clip-path=\"url(#clip860)\" d=\"M176.153 630.558 Q172.542 630.558 170.714 634.123 Q168.908 637.665 168.908 644.794 Q168.908 651.901 170.714 655.466 Q172.542 659.007 176.153 659.007 Q179.788 659.007 181.593 655.466 Q183.422 651.901 183.422 644.794 Q183.422 637.665 181.593 634.123 Q179.788 630.558 176.153 630.558 M176.153 626.855 Q181.964 626.855 185.019 631.461 Q188.098 636.044 188.098 644.794 Q188.098 653.521 185.019 658.128 Q181.964 662.711 176.153 662.711 Q170.343 662.711 167.265 658.128 Q164.209 653.521 164.209 644.794 Q164.209 636.044 167.265 631.461 Q170.343 626.855 176.153 626.855 Z\" fill=\"#000000\" fill-rule=\"nonzero\" fill-opacity=\"1\" /><path clip-path=\"url(#clip860)\" d=\"M51.9875 326.84 L81.6633 326.84 L81.6633 330.776 L51.9875 330.776 L51.9875 326.84 Z\" fill=\"#000000\" fill-rule=\"nonzero\" fill-opacity=\"1\" /><path clip-path=\"url(#clip860)\" d=\"M95.7836 339.734 L112.103 339.734 L112.103 343.669 L90.1586 343.669 L90.1586 339.734 Q92.8206 336.979 97.4039 332.35 Q102.01 327.697 103.191 326.354 Q105.436 323.831 106.316 322.095 Q107.219 320.336 107.219 318.646 Q107.219 315.891 105.274 314.155 Q103.353 312.419 100.251 312.419 Q98.0521 312.419 95.5984 313.183 Q93.1678 313.947 90.3901 315.498 L90.3901 310.776 Q93.2141 309.641 95.6678 309.063 Q98.1215 308.484 100.159 308.484 Q105.529 308.484 108.723 311.169 Q111.918 313.854 111.918 318.345 Q111.918 320.475 111.108 322.396 Q110.321 324.294 108.214 326.887 Q107.635 327.558 104.534 330.776 Q101.432 333.97 95.7836 339.734 Z\" fill=\"#000000\" fill-rule=\"nonzero\" fill-opacity=\"1\" /><path clip-path=\"url(#clip860)\" d=\"M121.918 337.789 L126.802 337.789 L126.802 343.669 L121.918 343.669 L121.918 337.789 Z\" fill=\"#000000\" fill-rule=\"nonzero\" fill-opacity=\"1\" /><path clip-path=\"url(#clip860)\" d=\"M135.806 309.109 L158.029 309.109 L158.029 311.1 L145.482 343.669 L140.598 343.669 L152.404 313.044 L135.806 313.044 L135.806 309.109 Z\" fill=\"#000000\" fill-rule=\"nonzero\" fill-opacity=\"1\" /><path clip-path=\"url(#clip860)\" d=\"M167.195 309.109 L185.552 309.109 L185.552 313.044 L171.478 313.044 L171.478 321.516 Q172.496 321.169 173.515 321.007 Q174.533 320.822 175.552 320.822 Q181.339 320.822 184.718 323.993 Q188.098 327.165 188.098 332.581 Q188.098 338.16 184.626 341.262 Q181.153 344.34 174.834 344.34 Q172.658 344.34 170.39 343.97 Q168.144 343.6 165.737 342.859 L165.737 338.16 Q167.82 339.294 170.042 339.85 Q172.265 340.405 174.741 340.405 Q178.746 340.405 181.084 338.299 Q183.422 336.192 183.422 332.581 Q183.422 328.97 181.084 326.864 Q178.746 324.757 174.741 324.757 Q172.866 324.757 170.991 325.174 Q169.14 325.59 167.195 326.47 L167.195 309.109 Z\" fill=\"#000000\" fill-rule=\"nonzero\" fill-opacity=\"1\" /><polyline clip-path=\"url(#clip862)\" style=\"stroke:#009af9; stroke-linecap:round; stroke-linejoin:round; stroke-width:4; stroke-opacity:1; fill:none\" points=\"284.343,191.478 304.627,1021.25 324.912,496.805 345.196,1246.57 365.481,934.624 385.766,1124.01 406.05,1324.86 426.335,1394.27 446.619,1423.5 466.904,1445.72 487.188,138.26 507.473,952.428 527.757,452.176 548.042,1218.43 568.326,805.514 588.611,1010.28 608.895,1247.69 629.18,1310.1 649.464,1332.97 669.749,1351.23 690.033,117.128 710.318,910.53 730.602,444.286 750.887,1191.84 771.172,769.5 791.456,954.427 811.741,1160.44 832.025,1221.25 852.31,1248.69 872.594,1271.07 892.879,102.248 913.163,868.417 933.448,448.948 953.732,1170 974.017,760.986 994.301,922.418 1014.59,1090.72 1034.87,1152.35 1055.15,1186.84 1075.44,1215.22 1095.72,92.6442 1116.01,823.003 1136.29,463.089 1156.58,1151.86 1176.86,771.526 1197.15,909.451 1217.43,1042.27 1237.72,1104.58 1258,1146.31 1278.28,1181 1298.57,87.9763 1318.85,784.005 1339.14,487.19 1359.42,1136.23 1379.71,797.577 1399.99,914.312 1420.28,1018.39 1440.56,1080.27 1460.85,1127.76 1481.13,1167.64 1501.41,88.4683 1521.7,748.931 1541.98,523.539 1562.27,1122.46 1582.55,837.285 1602.84,936.133 1623.12,1020.84 1643.41,1081.56 1663.69,1131.92 1683.98,1173.89 1704.26,94.5784 1724.54,716.589 1744.83,575.291 1765.11,1110.78 1785.4,888.172 1805.68,971.19 1825.97,1045.52 1846.25,1103.78 1866.54,1151.89 1886.82,1189.61 1907.1,105.212 1927.39,687.753 1947.67,639.319 1967.96,1102.83 1988.24,941.03 2008.53,1007.75 2028.81,1075.58 2049.1,1127.34 2069.38,1166.36 2089.67,1193.78 2109.95,116.327 2130.23,664.594 2150.52,704.892 2170.8,1099.87 2191.09,980.82 2211.37,1031.94 2231.66,1092.49 2251.94,1135.14 2272.23,1163.96 2292.51,1182.92 \"/>\n",
       "<path clip-path=\"url(#clip860)\" d=\"M2016.5 198.898 L2281.8 198.898 L2281.8 95.2176 L2016.5 95.2176  Z\" fill=\"#ffffff\" fill-rule=\"evenodd\" fill-opacity=\"1\"/>\n",
       "<polyline clip-path=\"url(#clip860)\" style=\"stroke:#000000; stroke-linecap:round; stroke-linejoin:round; stroke-width:4; stroke-opacity:1; fill:none\" points=\"2016.5,198.898 2281.8,198.898 2281.8,95.2176 2016.5,95.2176 2016.5,198.898 \"/>\n",
       "<polyline clip-path=\"url(#clip860)\" style=\"stroke:#009af9; stroke-linecap:round; stroke-linejoin:round; stroke-width:4; stroke-opacity:1; fill:none\" points=\"2040.16,147.058 2182.07,147.058 \"/>\n",
       "<path clip-path=\"url(#clip860)\" d=\"M2219.56 166.745 Q2217.76 171.375 2216.04 172.787 Q2214.33 174.199 2211.46 174.199 L2208.06 174.199 L2208.06 170.634 L2210.56 170.634 Q2212.32 170.634 2213.29 169.8 Q2214.26 168.967 2215.44 165.865 L2216.2 163.921 L2205.72 138.412 L2210.23 138.412 L2218.33 158.689 L2226.44 138.412 L2230.95 138.412 L2219.56 166.745 Z\" fill=\"#000000\" fill-rule=\"nonzero\" fill-opacity=\"1\" /><path clip-path=\"url(#clip860)\" d=\"M2238.24 160.402 L2245.88 160.402 L2245.88 134.037 L2237.57 135.703 L2237.57 131.444 L2245.83 129.778 L2250.51 129.778 L2250.51 160.402 L2258.15 160.402 L2258.15 164.338 L2238.24 164.338 L2238.24 160.402 Z\" fill=\"#000000\" fill-rule=\"nonzero\" fill-opacity=\"1\" /></svg>\n"
      ]
     },
     "metadata": {},
     "output_type": "display_data"
    }
   ],
   "source": [
    "using Plots\n",
    "plot(log10.(e))"
   ]
  },
  {
   "cell_type": "code",
   "execution_count": 49,
   "id": "addfcb13",
   "metadata": {},
   "outputs": [
    {
     "data": {
      "text/plain": [
       "3-element Vector{Float64}:\n",
       " 5.000044058185276\n",
       " 0.3235084663275875\n",
       " 0.2789740801167023"
      ]
     },
     "metadata": {},
     "output_type": "display_data"
    }
   ],
   "source": [
    "FEM.probe(r, 5, 0.3, 0.3, step=r.nsteps)"
   ]
  },
  {
   "cell_type": "code",
   "execution_count": 50,
   "id": "b2a962d5",
   "metadata": {},
   "outputs": [
    {
     "data": {
      "text/plain": [
       "3-element Vector{Float64}:\n",
       " 5.000044058185276\n",
       " 0.3235084663275875\n",
       " 0.2789740801167023"
      ]
     },
     "metadata": {},
     "output_type": "display_data"
    }
   ],
   "source": [
    "FEM.probe(r, \"A\", step=r.nsteps)"
   ]
  },
  {
   "cell_type": "code",
   "execution_count": 51,
   "id": "cf3c0e93",
   "metadata": {},
   "outputs": [
    {
     "data": {
      "text/plain": [
       "LowLevelFEM.TensorField([[-9.257053736618919e-6; -0.005578855686290726; … ; -0.11413372617209373; 0.0004000946482021206;;], [-9.257053736618919e-6; -0.005578855686290726; … ; -0.11413372617209373; 0.0004000946482021206;;], [-9.257053736618919e-6; -0.005578855686290726; … ; -0.11413372617209373; 0.0004000946482021206;;], [-9.257053736618919e-6; -0.005578855686290726; … ; -0.11413372617209373; 0.0004000946482021206;;], [-9.257053736618919e-6; -0.005578855686290726; … ; -0.11413372617209373; 0.0004000946482021206;;], [-9.257053736618919e-6; -0.005578855686290726; … ; -0.11413372617209373; 0.0004000946482021206;;], [-9.257053736618919e-6; -0.005578855686290726; … ; -0.11413372617209373; 0.0004000946482021206;;], [-9.257053736618919e-6; -0.005578855686290726; … ; -0.11413372617209373; 0.0004000946482021206;;], [-9.257053736618919e-6; -0.005578855686290726; … ; -0.11413372617209373; 0.0004000946482021206;;], [-9.257053736618919e-6; -0.005578855686290726; … ; -0.11413372617209373; 0.0004000946482021206;;]  …  [-9.257053736618919e-6; -0.005578855686290726; … ; -0.11413372617209373; 0.0004000946482021206;;], [-9.257053736618919e-6; -0.005578855686290726; … ; -0.11413372617209373; 0.0004000946482021206;;], [-9.257053736618919e-6; -0.005578855686290726; … ; -0.11413372617209373; 0.0004000946482021206;;], [-9.257053736618919e-6; -0.005578855686290726; … ; -0.11413372617209373; 0.0004000946482021206;;], [-9.257053736618919e-6; -0.005578855686290726; … ; -0.11413372617209373; 0.0004000946482021206;;], [-9.257053736618919e-6; -0.005578855686290726; … ; -0.11413372617209373; 0.0004000946482021206;;], [-9.257053736618919e-6; -0.005578855686290726; … ; -0.11413372617209373; 0.0004000946482021206;;], [-9.257053736618919e-6; -0.005578855686290726; … ; -0.11413372617209373; 0.0004000946482021206;;], [-9.257053736618919e-6; -0.005578855686290726; … ; -0.11413372617209373; 0.0004000946482021206;;], [-9.257053736618919e-6; -0.005578855686290726; … ; -0.11413372617209373; 0.0004000946482021206;;]], Matrix{Float64}(undef, 0, 0), [0.0], [473, 474, 475, 476, 477, 478, 479, 480, 481, 482  …  783, 784, 785, 786, 787, 788, 789, 790, 791, 792], 1, :F)"
      ]
     },
     "metadata": {},
     "output_type": "display_data"
    }
   ],
   "source": [
    "D = FEM.deformationGradient(linelast, q)"
   ]
  },
  {
   "cell_type": "code",
   "execution_count": 52,
   "id": "dffda210",
   "metadata": {},
   "outputs": [
    {
     "data": {
      "text/plain": [
       "LowLevelFEM.TensorField([[-9.257053736618919e-6; -0.0018548353228477587; … ; -0.00024107714516317935; 0.0004000946482021206;;], [-9.257053736618919e-6; -0.0018548353228477587; … ; -0.00024107714516317935; 0.0004000946482021206;;], [-9.257053736618919e-6; -0.0018548353228477587; … ; -0.00024107714516317935; 0.0004000946482021206;;], [-9.257053736618919e-6; -0.0018548353228477587; … ; -0.00024107714516317935; 0.0004000946482021206;;], [-9.257053736618919e-6; -0.0018548353228477587; … ; -0.00024107714516317935; 0.0004000946482021206;;], [-9.257053736618919e-6; -0.0018548353228477587; … ; -0.00024107714516317935; 0.0004000946482021206;;], [-9.257053736618919e-6; -0.0018548353228477587; … ; -0.00024107714516317935; 0.0004000946482021206;;], [-9.257053736618919e-6; -0.0018548353228477587; … ; -0.00024107714516317935; 0.0004000946482021206;;], [-9.257053736618919e-6; -0.0018548353228477587; … ; -0.00024107714516317935; 0.0004000946482021206;;], [-9.257053736618919e-6; -0.0018548353228477587; … ; -0.00024107714516317935; 0.0004000946482021206;;]  …  [-9.257053736618919e-6; -0.0018548353228477587; … ; -0.00024107714516317935; 0.0004000946482021206;;], [-9.257053736618919e-6; -0.0018548353228477587; … ; -0.00024107714516317935; 0.0004000946482021206;;], [-9.257053736618919e-6; -0.0018548353228477587; … ; -0.00024107714516317935; 0.0004000946482021206;;], [-9.257053736618919e-6; -0.0018548353228477587; … ; -0.00024107714516317935; 0.0004000946482021206;;], [-9.257053736618919e-6; -0.0018548353228477587; … ; -0.00024107714516317935; 0.0004000946482021206;;], [-9.257053736618919e-6; -0.0018548353228477587; … ; -0.00024107714516317935; 0.0004000946482021206;;], [-9.257053736618919e-6; -0.0018548353228477587; … ; -0.00024107714516317935; 0.0004000946482021206;;], [-9.257053736618919e-6; -0.0018548353228477587; … ; -0.00024107714516317935; 0.0004000946482021206;;], [-9.257053736618919e-6; -0.0018548353228477587; … ; -0.00024107714516317935; 0.0004000946482021206;;], [-9.257053736618919e-6; -0.0018548353228477587; … ; -0.00024107714516317935; 0.0004000946482021206;;]], Matrix{Float64}(undef, 0, 0), [0.0], [473, 474, 475, 476, 477, 478, 479, 480, 481, 482  …  783, 784, 785, 786, 787, 788, 789, 790, 791, 792], 1, :e)"
      ]
     },
     "metadata": {},
     "output_type": "display_data"
    }
   ],
   "source": [
    "A2 = (D + D') / 2"
   ]
  },
  {
   "cell_type": "code",
   "execution_count": 53,
   "id": "ff936cee",
   "metadata": {},
   "outputs": [
    {
     "data": {
      "text/plain": [
       "LowLevelFEM.TensorField([[-0.003620391188505205; -0.37096706456955175; … ; -0.04821542903263587; 0.0032478813662217636;;], [-0.003620391188505205; -0.37096706456955175; … ; -0.04821542903263587; 0.0032478813662217636;;], [-0.003620391188505205; -0.37096706456955175; … ; -0.04821542903263587; 0.0032478813662217636;;], [-0.003620391188505205; -0.37096706456955175; … ; -0.04821542903263587; 0.0032478813662217636;;], [-0.003620391188505205; -0.37096706456955175; … ; -0.04821542903263587; 0.0032478813662217636;;], [-0.003620391188505205; -0.37096706456955175; … ; -0.04821542903263587; 0.0032478813662217636;;], [-0.003620391188505205; -0.37096706456955175; … ; -0.04821542903263587; 0.0032478813662217636;;], [-0.003620391188505205; -0.37096706456955175; … ; -0.04821542903263587; 0.0032478813662217636;;], [-0.003620391188505205; -0.37096706456955175; … ; -0.04821542903263587; 0.0032478813662217636;;], [-0.003620391188505205; -0.37096706456955175; … ; -0.04821542903263587; 0.0032478813662217636;;]  …  [-0.003620391188505205; -0.37096706456955175; … ; -0.04821542903263587; 0.0032478813662217636;;], [-0.003620391188505205; -0.37096706456955175; … ; -0.04821542903263587; 0.0032478813662217636;;], [-0.003620391188505205; -0.37096706456955175; … ; -0.04821542903263587; 0.0032478813662217636;;], [-0.003620391188505205; -0.37096706456955175; … ; -0.04821542903263587; 0.0032478813662217636;;], [-0.003620391188505205; -0.37096706456955175; … ; -0.04821542903263587; 0.0032478813662217636;;], [-0.003620391188505205; -0.37096706456955175; … ; -0.04821542903263587; 0.0032478813662217636;;], [-0.003620391188505205; -0.37096706456955175; … ; -0.04821542903263587; 0.0032478813662217636;;], [-0.003620391188505205; -0.37096706456955175; … ; -0.04821542903263587; 0.0032478813662217636;;], [-0.003620391188505205; -0.37096706456955175; … ; -0.04821542903263587; 0.0032478813662217636;;], [-0.003620391188505205; -0.37096706456955175; … ; -0.04821542903263587; 0.0032478813662217636;;]], Matrix{Float64}(undef, 0, 0), [0.0], [473, 474, 475, 476, 477, 478, 479, 480, 481, 482  …  783, 784, 785, 786, 787, 788, 789, 790, 791, 792], 1, :e)"
      ]
     },
     "metadata": {},
     "output_type": "display_data"
    }
   ],
   "source": [
    "Ex = linelast.material[1].E\n",
    "ν = linelast.material[1].ν\n",
    "I = unitTensor(A)\n",
    "F2 = Ex / (1 + ν) * (A + ν / (1 - 2ν) * I * trace(A))"
   ]
  },
  {
   "cell_type": "code",
   "execution_count": 54,
   "id": "c4c94d7a",
   "metadata": {},
   "outputs": [
    {
     "name": "stdout",
     "output_type": "stream",
     "text": [
      "Info    : Running Plugin(Smooth)...\n",
      "Info    : Done running Plugin(Smooth)\n",
      "Info    : Running Plugin(Smooth)...\n",
      "Info    : Done running Plugin(Smooth)\n",
      "Info    : Running Plugin(Smooth)...\n",
      "Info    : Done running Plugin(Smooth)\n",
      "Info    : Running Plugin(Smooth)...\n",
      "Info    : Done running Plugin(Smooth)\n",
      "Info    : Running Plugin(Smooth)...\n",
      "Info    : Done running Plugin(Smooth)\n",
      "Info    : Running Plugin(Smooth)...\n",
      "Info    : Done running Plugin(Smooth)\n"
     ]
    },
    {
     "data": {
      "text/plain": [
       "13"
      ]
     },
     "metadata": {},
     "output_type": "display_data"
    }
   ],
   "source": [
    "FEM.showElementResults(linelast, A2, :ex)\n",
    "FEM.showElementResults(linelast, A2, :ey)\n",
    "FEM.showElementResults(linelast, A2, :ez)\n",
    "FEM.showElementResults(linelast, A2, :exy)\n",
    "FEM.showElementResults(linelast, A2, :eyz)\n",
    "FEM.showElementResults(linelast, A2, :ezx)"
   ]
  },
  {
   "cell_type": "code",
   "execution_count": 55,
   "id": "32bc3809",
   "metadata": {},
   "outputs": [
    {
     "name": "stdout",
     "output_type": "stream",
     "text": [
      "-------------------------------------------------------\n",
      "Version       : 4.13.1\n",
      "License       : GNU General Public License\n",
      "Build OS      : Linux64-sdk\n",
      "Build date    : 19700101\n",
      "Build host    : amdci7.julia.csail.mit.edu\n",
      "Build options : 64Bit ALGLIB[contrib] ANN[contrib] Bamg Blossom Cairo DIntegration Dlopen DomHex Eigen[contrib] Fltk GMP Gmm[contrib] Hxt Jpeg Kbipack LinuxJoystick MathEx[contrib] Mesh Metis[contrib] Mmg Mpeg Netgen Nii2mesh ONELAB ONELABMetamodel OpenCASCADE OpenCASCADE-CAF OpenGL OpenMP OptHom Parser Plugins Png Post QuadMeshingTools QuadTri Solver TetGen/BR TinyXML2[contrib] Untangle Voro++[contrib] WinslowUntangler Zlib\n",
      "FLTK version  : 1.3.8\n",
      "OCC version   : 7.7.2\n",
      "Packaged by   : root\n",
      "Web site      : https://gmsh.info\n",
      "Issue tracker : https://gitlab.onelab.info/gmsh/gmsh/issues\n",
      "-------------------------------------------------------\n"
     ]
    },
    {
     "name": "stderr",
     "output_type": "stream",
     "text": [
      "XRequest.18: BadValue 0x0\n"
     ]
    }
   ],
   "source": [
    "FEM.openPostProcessor()"
   ]
  },
  {
   "cell_type": "code",
   "execution_count": 56,
   "id": "7b517a53",
   "metadata": {},
   "outputs": [],
   "source": [
    "gmsh.finalize()"
   ]
  }
 ],
 "metadata": {
  "kernelspec": {
   "display_name": "Julia 1.11.5",
   "language": "julia",
   "name": "julia-1.11"
  },
  "language_info": {
   "file_extension": ".jl",
   "mimetype": "application/julia",
   "name": "julia",
   "version": "1.11.5"
  }
 },
 "nbformat": 4,
 "nbformat_minor": 5
}
