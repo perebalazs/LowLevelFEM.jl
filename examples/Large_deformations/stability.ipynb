{
 "cells": [
  {
   "cell_type": "code",
   "execution_count": 106,
   "id": "6f5b47ea",
   "metadata": {},
   "outputs": [],
   "source": [
    "using LowLevelFEM\n",
    "import LowLevelFEM as FEM\n",
    "\n",
    "gmsh.initialize()"
   ]
  },
  {
   "cell_type": "code",
   "execution_count": 107,
   "id": "a1485f53",
   "metadata": {},
   "outputs": [
    {
     "name": "stdout",
     "output_type": "stream",
     "text": [
      "Info    : Reading 'body2.geo'...\n",
      "Info    : Meshing 1D...\n",
      "Info    : [  0%] Meshing curve 1 (Line)\n",
      "Info    : [ 10%] Meshing curve 2 (Line)\n",
      "Info    : [ 20%] Meshing curve 3 (Line)\n",
      "Info    : [ 30%] Meshing curve 4 (Line)\n",
      "Info    : [ 40%] Meshing curve 5 (Line)\n",
      "Info    : [ 50%] Meshing curve 6 (Line)\n",
      "Info    : [ 60%] Meshing curve 7 (Line)\n",
      "Info    : [ 60%] Meshing curve 8 (Line)\n",
      "Info    : [ 70%] Meshing curve 9 (Line)\n",
      "Info    : [ 80%] Meshing curve 10 (Line)\n",
      "Info    : [ 90%] Meshing curve 11 (Line)\n",
      "Info    : [100%] Meshing curve 12 (Line)\n",
      "Info    : Done meshing 1D (Wall 0.0014556s, CPU 0.001429s)\n",
      "Info    : Meshing 2D...\n",
      "Info    : [  0%] Meshing surface 1 (Transfinite)\n",
      "Info    : [ 20%] Meshing surface 2 (Transfinite)\n",
      "Info    : [ 40%] Meshing surface 3 (Transfinite)\n",
      "Info    : [ 60%] Meshing surface 4 (Transfinite)\n",
      "Info    : [ 70%] Meshing surface 5 (Transfinite)\n",
      "Info    : [ 90%] Meshing surface 6 (Transfinite)\n",
      "Info    : Done meshing 2D (Wall 0.000441821s, CPU 0.000439s)\n",
      "Info    : Meshing 3D...\n",
      "Info    : Meshing volume 1 (Transfinite)\n",
      "Info    : Done meshing 3D (Wall 0.00122421s, CPU 0.001222s)\n",
      "Info    : Optimizing mesh...\n",
      "Info    : Done optimizing mesh (Wall 3.0427e-05s, CPU 3.1e-05s)\n",
      "Info    : 275 nodes 432 elements\n",
      "Info    : Done reading 'body2.geo'\n"
     ]
    }
   ],
   "source": [
    "gmsh.open(\"body2.geo\")"
   ]
  },
  {
   "cell_type": "code",
   "execution_count": 108,
   "id": "203f534d",
   "metadata": {},
   "outputs": [
    {
     "name": "stdout",
     "output_type": "stream",
     "text": [
      "Info    : RCMK renumbering...\n",
      "Info    : Done RCMK renumbering (bandwidth is now 61)\n"
     ]
    },
    {
     "data": {
      "text/plain": [
       "1"
      ]
     },
     "metadata": {},
     "output_type": "display_data"
    }
   ],
   "source": [
    "mat = FEM.material(\"body\", E=260, ν=0.3)\n",
    "problem = FEM.Problem([mat])\n",
    "\n",
    "supp = FEM.displacementConstraint(\"left\", ux=0, uy=0, uz=0)\n",
    "traction = FEM.load(\"right\", fy=-0.08475)\n",
    "bodyforce = FEM.load(\"body\", fx=1)\n",
    "\n",
    "b = FEM.solveBuckling(problem, [traction], [supp])\n",
    "u = FEM.solveDisplacement(problem, [traction], [supp])\n",
    "\n",
    "b1 = FEM.showBucklingResults(problem, b, visible=true)\n",
    "u1 = FEM.showDoFResults(problem, u, :uvec, visible=true)\n",
    "\n",
    "\n"
   ]
  },
  {
   "cell_type": "code",
   "execution_count": 109,
   "id": "69575b8e",
   "metadata": {},
   "outputs": [
    {
     "name": "stdout",
     "output_type": "stream",
     "text": [
      "-------------------------------------------------------\n",
      "Version       : 4.13.1\n",
      "License       : GNU General Public License\n",
      "Build OS      : Linux64-sdk\n",
      "Build date    : 19700101\n",
      "Build host    : amdci7.julia.csail.mit.edu\n",
      "Build options : 64Bit ALGLIB[contrib] ANN[contrib] Bamg Blossom Cairo DIntegration Dlopen DomHex Eigen[contrib] Fltk GMP Gmm[contrib] Hxt Jpeg Kbipack LinuxJoystick MathEx[contrib] Mesh Metis[contrib] Mmg Mpeg Netgen Nii2mesh ONELAB ONELABMetamodel OpenCASCADE OpenCASCADE-CAF OpenGL OpenMP OptHom Parser Plugins Png Post QuadMeshingTools QuadTri Solver TetGen/BR TinyXML2[contrib] Untangle Voro++[contrib] WinslowUntangler Zlib\n",
      "FLTK version  : 1.3.8\n",
      "OCC version   : 7.7.2\n",
      "Packaged by   : root\n",
      "Web site      : https://gmsh.info\n",
      "Issue tracker : https://gitlab.onelab.info/gmsh/gmsh/issues\n",
      "-------------------------------------------------------\n"
     ]
    },
    {
     "name": "stderr",
     "output_type": "stream",
     "text": [
      "XRequest.18: BadValue 0x0\n"
     ]
    }
   ],
   "source": [
    "FEM.openPostProcessor()"
   ]
  },
  {
   "cell_type": "code",
   "execution_count": 110,
   "id": "552dc423",
   "metadata": {},
   "outputs": [],
   "source": [
    "gmsh.finalize()"
   ]
  }
 ],
 "metadata": {
  "kernelspec": {
   "display_name": "Julia 1.11.5",
   "language": "julia",
   "name": "julia-1.11"
  },
  "language_info": {
   "file_extension": ".jl",
   "mimetype": "application/julia",
   "name": "julia",
   "version": "1.11.5"
  }
 },
 "nbformat": 4,
 "nbformat_minor": 5
}
