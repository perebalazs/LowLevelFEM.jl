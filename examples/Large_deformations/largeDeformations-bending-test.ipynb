{
 "cells": [
  {
   "cell_type": "code",
   "execution_count": 373,
   "id": "79fd9685",
   "metadata": {},
   "outputs": [],
   "source": [
    "using LowLevelFEM\n",
    "import LowLevelFEM as FEM\n",
    "\n",
    "gmsh.initialize()"
   ]
  },
  {
   "cell_type": "code",
   "execution_count": 374,
   "id": "22283e0a",
   "metadata": {},
   "outputs": [],
   "source": [
    "using SparseArrays, LinearAlgebra"
   ]
  },
  {
   "cell_type": "code",
   "execution_count": 375,
   "id": "fa18250b",
   "metadata": {},
   "outputs": [
    {
     "name": "stdout",
     "output_type": "stream",
     "text": [
      "Info    : Reading 'body2.geo'...\n",
      "Info    : Meshing 1D...\n",
      "Info    : [  0%] Meshing curve 1 (Line)\n",
      "Info    : [ 10%] Meshing curve 2 (Line)\n",
      "Info    : [ 20%] Meshing curve 3 (Line)\n",
      "Info    : [ 30%] Meshing curve 4 (Line)\n",
      "Info    : [ 40%] Meshing curve 5 (Line)\n",
      "Info    : [ 50%] Meshing curve 6 (Line)\n",
      "Info    : [ 60%] Meshing curve 7 (Line)\n",
      "Info    : [ 60%] Meshing curve 8 (Line)\n",
      "Info    : [ 70%] Meshing curve 9 (Line)\n",
      "Info    : [ 80%] Meshing curve 10 (Line)\n",
      "Info    : [ 90%] Meshing curve 11 (Line)\n",
      "Info    : [100%] Meshing curve 12 (Line)\n",
      "Info    : Done meshing 1D (Wall 0.00394336s, CPU 0.001131s)\n",
      "Info    : Meshing 2D...\n",
      "Info    : [  0%] Meshing surface 1 (Transfinite)\n",
      "Info    : [ 20%] Meshing surface 2 (Transfinite)\n",
      "Info    : [ 40%] Meshing surface 3 (Transfinite)\n",
      "Info    : [ 60%] Meshing surface 4 (Transfinite)\n",
      "Info    : [ 70%] Meshing surface 5 (Transfinite)\n",
      "Info    : [ 90%] Meshing surface 6 (Transfinite)\n",
      "Info    : Done meshing 2D (Wall 0.000525992s, CPU 0.000524s)\n",
      "Info    : Meshing 3D...\n",
      "Info    : Meshing volume 1 (Transfinite)\n",
      "Info    : Done meshing 3D (Wall 0.00248269s, CPU 0.002452s)\n",
      "Info    : Optimizing mesh...\n",
      "Info    : Done optimizing mesh (Wall 8.0463e-05s, CPU 7.8e-05s)\n",
      "Info    : 525 nodes 792 elements\n",
      "Info    : Done reading 'body2.geo'\n"
     ]
    }
   ],
   "source": [
    "gmsh.open(\"body2.geo\")"
   ]
  },
  {
   "cell_type": "code",
   "execution_count": 376,
   "id": "936f1fab",
   "metadata": {},
   "outputs": [
    {
     "name": "stdout",
     "output_type": "stream",
     "text": [
      "Info    : RCMK renumbering...\n",
      "Info    : Done RCMK renumbering (bandwidth is now 61)\n",
      "Info    : RCMK renumbering...\n",
      "Info    : Done RCMK renumbering (bandwidth is now 61)\n",
      "Info    : RCMK renumbering...\n",
      "Info    : Done RCMK renumbering (bandwidth is now 61)\n"
     ]
    },
    {
     "data": {
      "text/plain": [
       "LowLevelFEM.Problem(\"body2\", :Solid, 3, 3, LowLevelFEM.Material[LowLevelFEM.Material(\"body\", :StVenantKirchhoff, 260.0, 0.3, 7.85e-9, 45.0, 4.2e8, 1.2e-5, 150.0, 100.0, 216.66666666666666)], 1.0, 525)"
      ]
     },
     "metadata": {},
     "output_type": "display_data"
    }
   ],
   "source": [
    "mat = FEM.material(\"body\", E=260, ν=0.3, type=:StVenantKirchhoff)\n",
    "hooke = FEM.Problem([mat], type=:Solid)\n",
    "stvenkir = FEM.Problem([mat], type=:Solid)\n",
    "neohooke = FEM.Problem([mat], type=:Solid)"
   ]
  },
  {
   "cell_type": "code",
   "execution_count": 377,
   "id": "c2a10dc9",
   "metadata": {},
   "outputs": [
    {
     "data": {
      "text/plain": [
       "LowLevelFEM.TensorField([[-1.055018034048144; -0.3512667176812846; … ; 0.0707955318559422; 0.190483364698033;;], [-0.7755601037538373; -0.34937635543813383; … ; 0.050739265212312305; 0.04491424122807444;;], [-0.7441802137718759; -0.3428776441166743; … ; 0.04956730037930478; 0.06155340577863749;;], [-0.6981468944224277; -0.322167916382024; … ; 0.045842628916217536; 0.04848415922179655;;], [-0.656147314541736; -0.3039053228228644; … ; 0.04326680649374293; 0.04612008685962754;;], [-0.6129212511732651; -0.28609227234143997; … ; 0.04033631062703017; 0.042063286493362134;;], [-0.5700217085043116; -0.2679262782139008; … ; 0.03745614064414439; 0.038097574968447484;;], [-0.5270258211569353; -0.24986472226521117; … ; 0.034575980691194; 0.03411463869433903;;], [-0.4840561255238226; -0.23178187182389398; … ; 0.03169432921667835; 0.030144936315870577;;], [-0.441080600153008; -0.21370275676303452; … ; 0.028813112886232083; 0.026171146833947348;;]  …  [0.9157873914112376; -0.19673823136497348; … ; 0.024918495892730014; 0.0582306085816246;;], [0.8178807191170476; -0.17865854962449412; … ; 0.022149783207811774; 0.054773794569518364;;], [0.7199739672255628; -0.16057881236599125; … ; 0.019381050942068986; 0.05131723875555386;;], [0.6220678957221449; -0.14249936096210059; … ; 0.01661234617127042; 0.04785933741811413;;], [0.524160024201082; -0.124418988154118; … ; 0.013843539979976352; 0.04440814860045346;;], [0.4262570543543151; -0.1063397349649775; … ; 0.011075365811109947; 0.04092067205036479;;], [0.3283274223255068; -0.08826333642583117; … ; 0.008305051516628722; 0.03761675205414142;;], [0.23041384305191948; -0.07021476884617739; … ; 0.0055346749903639495; 0.03355356061476866;;], [0.1331446196918131; -0.05165398905969676; … ; 0.0027216107226129185; 0.032583173865558854;;], [0.043922189688834566; -0.03566298471713303; … ; 0.0017453854526239473; 0.009901040489515133;;]], Matrix{Float64}(undef, 0, 0), [0.0], [473, 474, 475, 476, 477, 478, 479, 480, 481, 482  …  783, 784, 785, 786, 787, 788, 789, 790, 791, 792], 1, :s)"
      ]
     },
     "metadata": {},
     "output_type": "display_data"
    }
   ],
   "source": [
    "supp = FEM.displacementConstraint(\"left\", ux=0, uy=0, uz=0)\n",
    "suppL = FEM.displacementConstraint(\"left\", ux=0)\n",
    "suppB = FEM.displacementConstraint(\"bottom\", uy=0)\n",
    "suppF = FEM.displacementConstraint(\"front\", uz=0)\n",
    "traction = FEM.load(\"right\", fy=-0.08 * 0.57 * 0.8 * 0.95)\n",
    "#bodyforce = FEM.load(\"body\", fx=1)\n",
    "\n",
    "problem = hooke\n",
    "q = FEM.solveDisplacement(problem, [traction], [supp])\n",
    "S = FEM.solveStress(problem, q)"
   ]
  },
  {
   "cell_type": "code",
   "execution_count": 378,
   "id": "5ff50776",
   "metadata": {},
   "outputs": [
    {
     "name": "stdout",
     "output_type": "stream",
     "text": [
      "Info    : Running Plugin(Smooth)...\n",
      "Info    : Done running Plugin(Smooth)\n"
     ]
    },
    {
     "data": {
      "text/plain": [
       "1"
      ]
     },
     "metadata": {},
     "output_type": "display_data"
    }
   ],
   "source": [
    "u1 = FEM.showDoFResults(problem, q, :uvec)\n",
    "S1 = FEM.showElementResults(problem, S, :s)"
   ]
  },
  {
   "cell_type": "code",
   "execution_count": 379,
   "id": "970e4fc4",
   "metadata": {},
   "outputs": [
    {
     "data": {
      "text/plain": [
       "LowLevelFEM.Problem(\"body2\", :Solid, 3, 3, LowLevelFEM.Material[LowLevelFEM.Material(\"body\", :StVenantKirchhoff, 260.0, 0.3, 7.85e-9, 45.0, 4.2e8, 1.2e-5, 150.0, 100.0, 216.66666666666666)], 1.0, 525)"
      ]
     },
     "metadata": {},
     "output_type": "display_data"
    }
   ],
   "source": [
    "problem = stvenkir\n",
    "problem = neohooke"
   ]
  },
  {
   "cell_type": "code",
   "execution_count": 380,
   "id": "02d09772",
   "metadata": {},
   "outputs": [],
   "source": [
    "followerLoad = false\n",
    "loadSteps = 100\n",
    "rampedLoad = true\n",
    "rampedSupport = false\n",
    "maxIteration = 10\n",
    "saveSteps = true\n",
    "saveIterations = false\n",
    "plotConvergence = true\n",
    "ε = 1e-5\n",
    "\n",
    "r0 = FEM.nodePositionVector(problem)\n",
    "err0 = abs(maximum(r0.a) - minimum(r0.a))\n",
    "f = FEM.loadVector(problem, [traction])\n",
    "r = []\n",
    "r1 = []\n",
    "push!(r, r0.a)\n",
    "r0 = copy(r0)\n",
    "e = []\n",
    "\n",
    "for j in range(1, loadSteps)\n",
    "    fact = rampedLoad == true ? j / loadSteps : 1\n",
    "    if rampedSupport == true\n",
    "        FEM.applyDeformationBoundaryConditions!(problem, r0, [supp], fact=1 / loadSteps)\n",
    "    elseif rampedSupport == false && j == 1\n",
    "        FEM.applyDeformationBoundaryConditions!(problem, r0, [supp])\n",
    "    end\n",
    "    err = 1\n",
    "    i = 0\n",
    "    while err > ε && i < maxIteration\n",
    "        i += 1\n",
    "\n",
    "        Kl = FEM.tangentMatrixConstitutive(problem, r0)\n",
    "        Knl = FEM.tangentMatrixInitialStress(problem, r0)\n",
    "        if followerLoad == false\n",
    "            f = FEM.nonFollowerLoadVector(problem, r0, [traction])\n",
    "        end\n",
    "        fnl = FEM.equivalentNodalForce(problem, r0)\n",
    "        K1, f1 = FEM.suppressDeformationAtBoundaries(problem, Kl + Knl, fact * f - fnl, [supp])\n",
    "        q = FEM.solveDisplacement(K1, f1)\n",
    "        r0 += q\n",
    "        if saveIterations == true\n",
    "            push!(r, r0.a)\n",
    "            r0 = copy(r0)\n",
    "        end\n",
    "        err = maximum(abs.(q.a)) / err0\n",
    "        if plotConvergence == true\n",
    "            append!(e, err)\n",
    "        end\n",
    "    end\n",
    "    if saveSteps == true\n",
    "        push!(r, r0.a)\n",
    "        r0 = copy(r0)\n",
    "    end\n",
    "end\n",
    "if saveIterations == true || saveSteps == true\n",
    "    n = length(r)\n",
    "    r1 = zeros(length(r0.a), n)\n",
    "    for i in 1:n\n",
    "        r1[:, i] = r[i]\n",
    "    end\n",
    "else\n",
    "    r1 = zeros(length(r0.a), 1)\n",
    "    r1 = r0\n",
    "end"
   ]
  },
  {
   "cell_type": "code",
   "execution_count": 381,
   "id": "a7f11918",
   "metadata": {},
   "outputs": [
    {
     "data": {
      "text/plain": [
       "LowLevelFEM.VectorField(Matrix{Float64}[], [0.0 0.0 … 0.0 0.0; 0.0 0.0 … 0.0 0.0; … ; 0.7499999999999999 0.7453988689187545 … 2.246733695781694 0.7430534870507103; 0.75 0.7499998554495974 … 1.2223236743150716 0.3560932834762963], [1.0, 2.0, 3.0, 4.0, 5.0, 6.0, 7.0, 8.0, 9.0, 10.0  …  92.0, 93.0, 94.0, 95.0, 96.0, 97.0, 98.0, 99.0, 100.0, 101.0], Int64[], 101, :u3D)"
      ]
     },
     "metadata": {},
     "output_type": "display_data"
    }
   ],
   "source": [
    "r1 = FEM.VectorField([], r1, 1:size(r1, 2), [], size(r1, 2), :u3D)"
   ]
  },
  {
   "cell_type": "code",
   "execution_count": 382,
   "id": "1866e2da",
   "metadata": {},
   "outputs": [
    {
     "data": {
      "image/png": "[encoded data removed]",
      "image/svg+xml": [
       "<?xml version=\"1.0\" encoding=\"utf-8\"?>\n",
       "<svg xmlns=\"http://www.w3.org/2000/svg\" xmlns:xlink=\"http://www.w3.org/1999/xlink\" width=\"600\" height=\"400\" viewBox=\"0 0 2400 1600\">\n",
       "<defs>\n",
       "  <clipPath id=\"clip270\">\n",
       "    <rect x=\"0\" y=\"0\" width=\"2400\" height=\"1600\"/>\n",
       "  </clipPath>\n",
       "</defs>\n",
       "<path clip-path=\"url(#clip270)\" d=\"M0 1600 L2400 1600 L2400 0 L0 0  Z\" fill=\"#ffffff\" fill-rule=\"evenodd\" fill-opacity=\"1\"/>\n",
       "<defs>\n",
       "  <clipPath id=\"clip271\">\n",
       "    <rect x=\"480\" y=\"0\" width=\"1681\" height=\"1600\"/>\n",
       "  </clipPath>\n",
       "</defs>\n",
       "<path clip-path=\"url(#clip270)\" d=\"M149.191 1486.45 L2352.76 1486.45 L2352.76 47.2441 L149.191 47.2441  Z\" fill=\"#ffffff\" fill-rule=\"evenodd\" fill-opacity=\"1\"/>\n",
       "<defs>\n",
       "  <clipPath id=\"clip272\">\n",
       "    <rect x=\"149\" y=\"47\" width=\"2205\" height=\"1440\"/>\n",
       "  </clipPath>\n",
       "</defs>\n",
       "<polyline clip-path=\"url(#clip272)\" style=\"stroke:#000000; stroke-linecap:round; stroke-linejoin:round; stroke-width:2; stroke-opacity:0.1; fill:none\" points=\"209.475,1486.45 209.475,47.2441 \"/>\n",
       "<polyline clip-path=\"url(#clip272)\" style=\"stroke:#000000; stroke-linecap:round; stroke-linejoin:round; stroke-width:2; stroke-opacity:0.1; fill:none\" points=\"729.704,1486.45 729.704,47.2441 \"/>\n",
       "<polyline clip-path=\"url(#clip272)\" style=\"stroke:#000000; stroke-linecap:round; stroke-linejoin:round; stroke-width:2; stroke-opacity:0.1; fill:none\" points=\"1249.93,1486.45 1249.93,47.2441 \"/>\n",
       "<polyline clip-path=\"url(#clip272)\" style=\"stroke:#000000; stroke-linecap:round; stroke-linejoin:round; stroke-width:2; stroke-opacity:0.1; fill:none\" points=\"1770.16,1486.45 1770.16,47.2441 \"/>\n",
       "<polyline clip-path=\"url(#clip272)\" style=\"stroke:#000000; stroke-linecap:round; stroke-linejoin:round; stroke-width:2; stroke-opacity:0.1; fill:none\" points=\"2290.39,1486.45 2290.39,47.2441 \"/>\n",
       "<polyline clip-path=\"url(#clip272)\" style=\"stroke:#000000; stroke-linecap:round; stroke-linejoin:round; stroke-width:2; stroke-opacity:0.1; fill:none\" points=\"149.191,1249.19 2352.76,1249.19 \"/>\n",
       "<polyline clip-path=\"url(#clip272)\" style=\"stroke:#000000; stroke-linecap:round; stroke-linejoin:round; stroke-width:2; stroke-opacity:0.1; fill:none\" points=\"149.191,1005.92 2352.76,1005.92 \"/>\n",
       "<polyline clip-path=\"url(#clip272)\" style=\"stroke:#000000; stroke-linecap:round; stroke-linejoin:round; stroke-width:2; stroke-opacity:0.1; fill:none\" points=\"149.191,762.647 2352.76,762.647 \"/>\n",
       "<polyline clip-path=\"url(#clip272)\" style=\"stroke:#000000; stroke-linecap:round; stroke-linejoin:round; stroke-width:2; stroke-opacity:0.1; fill:none\" points=\"149.191,519.373 2352.76,519.373 \"/>\n",
       "<polyline clip-path=\"url(#clip272)\" style=\"stroke:#000000; stroke-linecap:round; stroke-linejoin:round; stroke-width:2; stroke-opacity:0.1; fill:none\" points=\"149.191,276.1 2352.76,276.1 \"/>\n",
       "<polyline clip-path=\"url(#clip270)\" style=\"stroke:#000000; stroke-linecap:round; stroke-linejoin:round; stroke-width:4; stroke-opacity:1; fill:none\" points=\"149.191,1486.45 2352.76,1486.45 \"/>\n",
       "<polyline clip-path=\"url(#clip270)\" style=\"stroke:#000000; stroke-linecap:round; stroke-linejoin:round; stroke-width:4; stroke-opacity:1; fill:none\" points=\"209.475,1486.45 209.475,1467.55 \"/>\n",
       "<polyline clip-path=\"url(#clip270)\" style=\"stroke:#000000; stroke-linecap:round; stroke-linejoin:round; stroke-width:4; stroke-opacity:1; fill:none\" points=\"729.704,1486.45 729.704,1467.55 \"/>\n",
       "<polyline clip-path=\"url(#clip270)\" style=\"stroke:#000000; stroke-linecap:round; stroke-linejoin:round; stroke-width:4; stroke-opacity:1; fill:none\" points=\"1249.93,1486.45 1249.93,1467.55 \"/>\n",
       "<polyline clip-path=\"url(#clip270)\" style=\"stroke:#000000; stroke-linecap:round; stroke-linejoin:round; stroke-width:4; stroke-opacity:1; fill:none\" points=\"1770.16,1486.45 1770.16,1467.55 \"/>\n",
       "<polyline clip-path=\"url(#clip270)\" style=\"stroke:#000000; stroke-linecap:round; stroke-linejoin:round; stroke-width:4; stroke-opacity:1; fill:none\" points=\"2290.39,1486.45 2290.39,1467.55 \"/>\n",
       "<path clip-path=\"url(#clip270)\" d=\"M209.475 1517.37 Q205.864 1517.37 204.035 1520.93 Q202.23 1524.47 202.23 1531.6 Q202.23 1538.71 204.035 1542.27 Q205.864 1545.82 209.475 1545.82 Q213.109 1545.82 214.915 1542.27 Q216.743 1538.71 216.743 1531.6 Q216.743 1524.47 214.915 1520.93 Q213.109 1517.37 209.475 1517.37 M209.475 1513.66 Q215.285 1513.66 218.341 1518.27 Q221.419 1522.85 221.419 1531.6 Q221.419 1540.33 218.341 1544.94 Q215.285 1549.52 209.475 1549.52 Q203.665 1549.52 200.586 1544.94 Q197.531 1540.33 197.531 1531.6 Q197.531 1522.85 200.586 1518.27 Q203.665 1513.66 209.475 1513.66 Z\" fill=\"#000000\" fill-rule=\"nonzero\" fill-opacity=\"1\" /><path clip-path=\"url(#clip270)\" d=\"M693.396 1544.91 L709.716 1544.91 L709.716 1548.85 L687.771 1548.85 L687.771 1544.91 Q690.433 1542.16 695.017 1537.53 Q699.623 1532.88 700.804 1531.53 Q703.049 1529.01 703.929 1527.27 Q704.831 1525.51 704.831 1523.82 Q704.831 1521.07 702.887 1519.33 Q700.966 1517.6 697.864 1517.6 Q695.665 1517.6 693.211 1518.36 Q690.781 1519.13 688.003 1520.68 L688.003 1515.95 Q690.827 1514.82 693.281 1514.24 Q695.734 1513.66 697.771 1513.66 Q703.142 1513.66 706.336 1516.35 Q709.53 1519.03 709.53 1523.52 Q709.53 1525.65 708.72 1527.57 Q707.933 1529.47 705.827 1532.07 Q705.248 1532.74 702.146 1535.95 Q699.044 1539.15 693.396 1544.91 Z\" fill=\"#000000\" fill-rule=\"nonzero\" fill-opacity=\"1\" /><path clip-path=\"url(#clip270)\" d=\"M719.577 1514.29 L737.933 1514.29 L737.933 1518.22 L723.859 1518.22 L723.859 1526.7 Q724.878 1526.35 725.896 1526.19 Q726.915 1526 727.933 1526 Q733.72 1526 737.1 1529.17 Q740.479 1532.34 740.479 1537.76 Q740.479 1543.34 737.007 1546.44 Q733.535 1549.52 727.216 1549.52 Q725.04 1549.52 722.771 1549.15 Q720.526 1548.78 718.118 1548.04 L718.118 1543.34 Q720.202 1544.47 722.424 1545.03 Q724.646 1545.58 727.123 1545.58 Q731.128 1545.58 733.466 1543.48 Q735.803 1541.37 735.803 1537.76 Q735.803 1534.15 733.466 1532.04 Q731.128 1529.94 727.123 1529.94 Q725.248 1529.94 723.373 1530.35 Q721.521 1530.77 719.577 1531.65 L719.577 1514.29 Z\" fill=\"#000000\" fill-rule=\"nonzero\" fill-opacity=\"1\" /><path clip-path=\"url(#clip270)\" d=\"M759.692 1517.37 Q756.081 1517.37 754.252 1520.93 Q752.447 1524.47 752.447 1531.6 Q752.447 1538.71 754.252 1542.27 Q756.081 1545.82 759.692 1545.82 Q763.326 1545.82 765.132 1542.27 Q766.961 1538.71 766.961 1531.6 Q766.961 1524.47 765.132 1520.93 Q763.326 1517.37 759.692 1517.37 M759.692 1513.66 Q765.502 1513.66 768.558 1518.27 Q771.637 1522.85 771.637 1531.6 Q771.637 1540.33 768.558 1544.94 Q765.502 1549.52 759.692 1549.52 Q753.882 1549.52 750.803 1544.94 Q747.748 1540.33 747.748 1531.6 Q747.748 1522.85 750.803 1518.27 Q753.882 1513.66 759.692 1513.66 Z\" fill=\"#000000\" fill-rule=\"nonzero\" fill-opacity=\"1\" /><path clip-path=\"url(#clip270)\" d=\"M1209.55 1514.29 L1227.91 1514.29 L1227.91 1518.22 L1213.83 1518.22 L1213.83 1526.7 Q1214.85 1526.35 1215.87 1526.19 Q1216.89 1526 1217.91 1526 Q1223.69 1526 1227.07 1529.17 Q1230.45 1532.34 1230.45 1537.76 Q1230.45 1543.34 1226.98 1546.44 Q1223.51 1549.52 1217.19 1549.52 Q1215.01 1549.52 1212.75 1549.15 Q1210.5 1548.78 1208.09 1548.04 L1208.09 1543.34 Q1210.18 1544.47 1212.4 1545.03 Q1214.62 1545.58 1217.1 1545.58 Q1221.1 1545.58 1223.44 1543.48 Q1225.78 1541.37 1225.78 1537.76 Q1225.78 1534.15 1223.44 1532.04 Q1221.1 1529.94 1217.1 1529.94 Q1215.22 1529.94 1213.35 1530.35 Q1211.5 1530.77 1209.55 1531.65 L1209.55 1514.29 Z\" fill=\"#000000\" fill-rule=\"nonzero\" fill-opacity=\"1\" /><path clip-path=\"url(#clip270)\" d=\"M1249.67 1517.37 Q1246.06 1517.37 1244.23 1520.93 Q1242.42 1524.47 1242.42 1531.6 Q1242.42 1538.71 1244.23 1542.27 Q1246.06 1545.82 1249.67 1545.82 Q1253.3 1545.82 1255.11 1542.27 Q1256.94 1538.71 1256.94 1531.6 Q1256.94 1524.47 1255.11 1520.93 Q1253.3 1517.37 1249.67 1517.37 M1249.67 1513.66 Q1255.48 1513.66 1258.53 1518.27 Q1261.61 1522.85 1261.61 1531.6 Q1261.61 1540.33 1258.53 1544.94 Q1255.48 1549.52 1249.67 1549.52 Q1243.86 1549.52 1240.78 1544.94 Q1237.72 1540.33 1237.72 1531.6 Q1237.72 1522.85 1240.78 1518.27 Q1243.86 1513.66 1249.67 1513.66 Z\" fill=\"#000000\" fill-rule=\"nonzero\" fill-opacity=\"1\" /><path clip-path=\"url(#clip270)\" d=\"M1279.83 1517.37 Q1276.22 1517.37 1274.39 1520.93 Q1272.58 1524.47 1272.58 1531.6 Q1272.58 1538.71 1274.39 1542.27 Q1276.22 1545.82 1279.83 1545.82 Q1283.46 1545.82 1285.27 1542.27 Q1287.1 1538.71 1287.1 1531.6 Q1287.1 1524.47 1285.27 1520.93 Q1283.46 1517.37 1279.83 1517.37 M1279.83 1513.66 Q1285.64 1513.66 1288.69 1518.27 Q1291.77 1522.85 1291.77 1531.6 Q1291.77 1540.33 1288.69 1544.94 Q1285.64 1549.52 1279.83 1549.52 Q1274.02 1549.52 1270.94 1544.94 Q1267.88 1540.33 1267.88 1531.6 Q1267.88 1522.85 1270.94 1518.27 Q1274.02 1513.66 1279.83 1513.66 Z\" fill=\"#000000\" fill-rule=\"nonzero\" fill-opacity=\"1\" /><path clip-path=\"url(#clip270)\" d=\"M1728.44 1514.29 L1750.66 1514.29 L1750.66 1516.28 L1738.11 1548.85 L1733.23 1548.85 L1745.03 1518.22 L1728.44 1518.22 L1728.44 1514.29 Z\" fill=\"#000000\" fill-rule=\"nonzero\" fill-opacity=\"1\" /><path clip-path=\"url(#clip270)\" d=\"M1759.83 1514.29 L1778.18 1514.29 L1778.18 1518.22 L1764.11 1518.22 L1764.11 1526.7 Q1765.13 1526.35 1766.15 1526.19 Q1767.16 1526 1768.18 1526 Q1773.97 1526 1777.35 1529.17 Q1780.73 1532.34 1780.73 1537.76 Q1780.73 1543.34 1777.26 1546.44 Q1773.78 1549.52 1767.47 1549.52 Q1765.29 1549.52 1763.02 1549.15 Q1760.78 1548.78 1758.37 1548.04 L1758.37 1543.34 Q1760.45 1544.47 1762.67 1545.03 Q1764.9 1545.58 1767.37 1545.58 Q1771.38 1545.58 1773.72 1543.48 Q1776.05 1541.37 1776.05 1537.76 Q1776.05 1534.15 1773.72 1532.04 Q1771.38 1529.94 1767.37 1529.94 Q1765.5 1529.94 1763.62 1530.35 Q1761.77 1530.77 1759.83 1531.65 L1759.83 1514.29 Z\" fill=\"#000000\" fill-rule=\"nonzero\" fill-opacity=\"1\" /><path clip-path=\"url(#clip270)\" d=\"M1799.94 1517.37 Q1796.33 1517.37 1794.5 1520.93 Q1792.7 1524.47 1792.7 1531.6 Q1792.7 1538.71 1794.5 1542.27 Q1796.33 1545.82 1799.94 1545.82 Q1803.58 1545.82 1805.38 1542.27 Q1807.21 1538.71 1807.21 1531.6 Q1807.21 1524.47 1805.38 1520.93 Q1803.58 1517.37 1799.94 1517.37 M1799.94 1513.66 Q1805.75 1513.66 1808.81 1518.27 Q1811.89 1522.85 1811.89 1531.6 Q1811.89 1540.33 1808.81 1544.94 Q1805.75 1549.52 1799.94 1549.52 Q1794.13 1549.52 1791.05 1544.94 Q1788 1540.33 1788 1531.6 Q1788 1522.85 1791.05 1518.27 Q1794.13 1513.66 1799.94 1513.66 Z\" fill=\"#000000\" fill-rule=\"nonzero\" fill-opacity=\"1\" /><path clip-path=\"url(#clip270)\" d=\"M2234.92 1544.91 L2242.56 1544.91 L2242.56 1518.55 L2234.25 1520.21 L2234.25 1515.95 L2242.51 1514.29 L2247.19 1514.29 L2247.19 1544.91 L2254.82 1544.91 L2254.82 1548.85 L2234.92 1548.85 L2234.92 1544.91 Z\" fill=\"#000000\" fill-rule=\"nonzero\" fill-opacity=\"1\" /><path clip-path=\"url(#clip270)\" d=\"M2274.27 1517.37 Q2270.66 1517.37 2268.83 1520.93 Q2267.02 1524.47 2267.02 1531.6 Q2267.02 1538.71 2268.83 1542.27 Q2270.66 1545.82 2274.27 1545.82 Q2277.9 1545.82 2279.71 1542.27 Q2281.54 1538.71 2281.54 1531.6 Q2281.54 1524.47 2279.71 1520.93 Q2277.9 1517.37 2274.27 1517.37 M2274.27 1513.66 Q2280.08 1513.66 2283.13 1518.27 Q2286.21 1522.85 2286.21 1531.6 Q2286.21 1540.33 2283.13 1544.94 Q2280.08 1549.52 2274.27 1549.52 Q2268.46 1549.52 2265.38 1544.94 Q2262.32 1540.33 2262.32 1531.6 Q2262.32 1522.85 2265.38 1518.27 Q2268.46 1513.66 2274.27 1513.66 Z\" fill=\"#000000\" fill-rule=\"nonzero\" fill-opacity=\"1\" /><path clip-path=\"url(#clip270)\" d=\"M2304.43 1517.37 Q2300.82 1517.37 2298.99 1520.93 Q2297.18 1524.47 2297.18 1531.6 Q2297.18 1538.71 2298.99 1542.27 Q2300.82 1545.82 2304.43 1545.82 Q2308.06 1545.82 2309.87 1542.27 Q2311.7 1538.71 2311.7 1531.6 Q2311.7 1524.47 2309.87 1520.93 Q2308.06 1517.37 2304.43 1517.37 M2304.43 1513.66 Q2310.24 1513.66 2313.3 1518.27 Q2316.37 1522.85 2316.37 1531.6 Q2316.37 1540.33 2313.3 1544.94 Q2310.24 1549.52 2304.43 1549.52 Q2298.62 1549.52 2295.54 1544.94 Q2292.49 1540.33 2292.49 1531.6 Q2292.49 1522.85 2295.54 1518.27 Q2298.62 1513.66 2304.43 1513.66 Z\" fill=\"#000000\" fill-rule=\"nonzero\" fill-opacity=\"1\" /><path clip-path=\"url(#clip270)\" d=\"M2334.59 1517.37 Q2330.98 1517.37 2329.15 1520.93 Q2327.35 1524.47 2327.35 1531.6 Q2327.35 1538.71 2329.15 1542.27 Q2330.98 1545.82 2334.59 1545.82 Q2338.23 1545.82 2340.03 1542.27 Q2341.86 1538.71 2341.86 1531.6 Q2341.86 1524.47 2340.03 1520.93 Q2338.23 1517.37 2334.59 1517.37 M2334.59 1513.66 Q2340.4 1513.66 2343.46 1518.27 Q2346.54 1522.85 2346.54 1531.6 Q2346.54 1540.33 2343.46 1544.94 Q2340.4 1549.52 2334.59 1549.52 Q2328.78 1549.52 2325.7 1544.94 Q2322.65 1540.33 2322.65 1531.6 Q2322.65 1522.85 2325.7 1518.27 Q2328.78 1513.66 2334.59 1513.66 Z\" fill=\"#000000\" fill-rule=\"nonzero\" fill-opacity=\"1\" /><polyline clip-path=\"url(#clip270)\" style=\"stroke:#000000; stroke-linecap:round; stroke-linejoin:round; stroke-width:4; stroke-opacity:1; fill:none\" points=\"149.191,1486.45 149.191,47.2441 \"/>\n",
       "<polyline clip-path=\"url(#clip270)\" style=\"stroke:#000000; stroke-linecap:round; stroke-linejoin:round; stroke-width:4; stroke-opacity:1; fill:none\" points=\"149.191,1249.19 168.089,1249.19 \"/>\n",
       "<polyline clip-path=\"url(#clip270)\" style=\"stroke:#000000; stroke-linecap:round; stroke-linejoin:round; stroke-width:4; stroke-opacity:1; fill:none\" points=\"149.191,1005.92 168.089,1005.92 \"/>\n",
       "<polyline clip-path=\"url(#clip270)\" style=\"stroke:#000000; stroke-linecap:round; stroke-linejoin:round; stroke-width:4; stroke-opacity:1; fill:none\" points=\"149.191,762.647 168.089,762.647 \"/>\n",
       "<polyline clip-path=\"url(#clip270)\" style=\"stroke:#000000; stroke-linecap:round; stroke-linejoin:round; stroke-width:4; stroke-opacity:1; fill:none\" points=\"149.191,519.373 168.089,519.373 \"/>\n",
       "<polyline clip-path=\"url(#clip270)\" style=\"stroke:#000000; stroke-linecap:round; stroke-linejoin:round; stroke-width:4; stroke-opacity:1; fill:none\" points=\"149.191,276.1 168.089,276.1 \"/>\n",
       "<path clip-path=\"url(#clip270)\" d=\"M50.9921 1249.64 L80.6679 1249.64 L80.6679 1253.58 L50.9921 1253.58 L50.9921 1249.64 Z\" fill=\"#000000\" fill-rule=\"nonzero\" fill-opacity=\"1\" /><path clip-path=\"url(#clip270)\" d=\"M103.608 1235.99 L91.8021 1254.44 L103.608 1254.44 L103.608 1235.99 M102.381 1231.91 L108.26 1231.91 L108.26 1254.44 L113.191 1254.44 L113.191 1258.33 L108.26 1258.33 L108.26 1266.47 L103.608 1266.47 L103.608 1258.33 L88.0058 1258.33 L88.0058 1253.81 L102.381 1231.91 Z\" fill=\"#000000\" fill-rule=\"nonzero\" fill-opacity=\"1\" /><path clip-path=\"url(#clip270)\" d=\"M52.1264 1006.37 L81.8021 1006.37 L81.8021 1010.31 L52.1264 1010.31 L52.1264 1006.37 Z\" fill=\"#000000\" fill-rule=\"nonzero\" fill-opacity=\"1\" /><path clip-path=\"url(#clip270)\" d=\"M106.061 1004.57 Q109.418 1005.28 111.293 1007.55 Q113.191 1009.82 113.191 1013.15 Q113.191 1018.27 109.672 1021.07 Q106.154 1023.87 99.6724 1023.87 Q97.4965 1023.87 95.1817 1023.43 Q92.89 1023.01 90.4364 1022.16 L90.4364 1017.64 Q92.3808 1018.78 94.6956 1019.36 Q97.0104 1019.94 99.5335 1019.94 Q103.932 1019.94 106.223 1018.2 Q108.538 1016.46 108.538 1013.15 Q108.538 1010.1 106.385 1008.39 Q104.256 1006.65 100.436 1006.65 L96.4085 1006.65 L96.4085 1002.81 L100.621 1002.81 Q104.071 1002.81 105.899 1001.44 Q107.728 1000.05 107.728 997.459 Q107.728 994.797 105.83 993.385 Q103.955 991.95 100.436 991.95 Q98.515 991.95 96.316 992.367 Q94.1169 992.783 91.478 993.663 L91.478 989.496 Q94.14 988.756 96.4548 988.385 Q98.7928 988.015 100.853 988.015 Q106.177 988.015 109.279 990.445 Q112.381 992.853 112.381 996.973 Q112.381 999.843 110.737 1001.83 Q109.094 1003.8 106.061 1004.57 Z\" fill=\"#000000\" fill-rule=\"nonzero\" fill-opacity=\"1\" /><path clip-path=\"url(#clip270)\" d=\"M53.0754 763.098 L82.7512 763.098 L82.7512 767.033 L53.0754 767.033 L53.0754 763.098 Z\" fill=\"#000000\" fill-rule=\"nonzero\" fill-opacity=\"1\" /><path clip-path=\"url(#clip270)\" d=\"M96.8715 775.991 L113.191 775.991 L113.191 779.927 L91.2465 779.927 L91.2465 775.991 Q93.9086 773.237 98.4919 768.607 Q103.098 763.954 104.279 762.612 Q106.524 760.089 107.404 758.353 Q108.307 756.593 108.307 754.904 Q108.307 752.149 106.362 750.413 Q104.441 748.677 101.339 748.677 Q99.14 748.677 96.6863 749.441 Q94.2558 750.205 91.478 751.755 L91.478 747.033 Q94.3021 745.899 96.7558 745.32 Q99.2095 744.742 101.246 744.742 Q106.617 744.742 109.811 747.427 Q113.006 750.112 113.006 754.603 Q113.006 756.732 112.196 758.654 Q111.408 760.552 109.302 763.144 Q108.723 763.816 105.621 767.033 Q102.52 770.228 96.8715 775.991 Z\" fill=\"#000000\" fill-rule=\"nonzero\" fill-opacity=\"1\" /><path clip-path=\"url(#clip270)\" d=\"M52.7051 519.825 L82.3808 519.825 L82.3808 523.76 L52.7051 523.76 L52.7051 519.825 Z\" fill=\"#000000\" fill-rule=\"nonzero\" fill-opacity=\"1\" /><path clip-path=\"url(#clip270)\" d=\"M93.2836 532.718 L100.922 532.718 L100.922 506.353 L92.6123 508.019 L92.6123 503.76 L100.876 502.093 L105.552 502.093 L105.552 532.718 L113.191 532.718 L113.191 536.653 L93.2836 536.653 L93.2836 532.718 Z\" fill=\"#000000\" fill-rule=\"nonzero\" fill-opacity=\"1\" /><path clip-path=\"url(#clip270)\" d=\"M101.246 261.899 Q97.6354 261.899 95.8067 265.464 Q94.0012 269.005 94.0012 276.135 Q94.0012 283.241 95.8067 286.806 Q97.6354 290.348 101.246 290.348 Q104.881 290.348 106.686 286.806 Q108.515 283.241 108.515 276.135 Q108.515 269.005 106.686 265.464 Q104.881 261.899 101.246 261.899 M101.246 258.195 Q107.057 258.195 110.112 262.802 Q113.191 267.385 113.191 276.135 Q113.191 284.862 110.112 289.468 Q107.057 294.051 101.246 294.051 Q95.4363 294.051 92.3576 289.468 Q89.3021 284.862 89.3021 276.135 Q89.3021 267.385 92.3576 262.802 Q95.4363 258.195 101.246 258.195 Z\" fill=\"#000000\" fill-rule=\"nonzero\" fill-opacity=\"1\" /><polyline clip-path=\"url(#clip272)\" style=\"stroke:#009af9; stroke-linecap:round; stroke-linejoin:round; stroke-width:4; stroke-opacity:1; fill:none\" points=\"211.556,1073.95 213.637,1383.48 215.718,1442.84 217.799,1445.05 219.88,1445.26 221.96,1445.37 224.041,1445.47 226.122,1445.56 228.203,1445.64 230.284,1445.72 232.365,1070.86 234.446,1336.91 236.527,1371.15 238.608,1372.29 240.689,1372.42 242.77,1372.51 244.851,1372.59 246.931,1372.66 249.012,1372.73 251.093,1372.79 253.174,1067.88 255.255,1304.84 257.336,1329.02 259.417,1329.79 261.498,1329.9 263.579,1329.97 265.66,1330.04 267.741,1330.1 269.822,1330.16 271.902,1330.22 273.983,1064.99 276.064,1280.37 278.145,1299.09 280.226,1299.68 282.307,1299.77 284.388,1299.83 286.469,1299.89 288.55,1299.95 290.631,1300 292.712,1300.06 294.793,1062.19 296.873,1260.59 298.954,1275.87 301.035,1276.35 303.116,1276.42 305.197,1276.48 307.278,1276.54 309.359,1276.59 311.44,1276.64 313.521,1276.69 315.602,1059.47 317.683,1243.98 319.764,1256.91 321.844,1257.31 323.925,1257.38 326.006,1257.43 328.087,1257.48 330.168,1257.53 332.249,1257.58 334.33,1257.63 336.411,1056.82 338.492,1229.67 340.573,1240.88 342.654,1241.22 344.735,1241.29 346.815,1241.34 348.896,1241.39 350.977,1241.43 353.058,1241.48 355.139,1241.52 357.22,1054.25 359.301,1217.1 361.382,1227 363.463,1227.3 365.544,1227.36 367.625,1227.41 369.706,1227.46 371.786,1227.5 373.867,1227.54 375.948,1227.59 378.029,1051.75 380.11,1205.9 382.191,1214.77 384.272,1215.04 386.353,1215.09 388.434,1215.14 390.515,1215.18 392.596,1215.22 394.677,1215.26 396.757,1215.3 398.838,1049.31 400.919,1195.79 403,1203.83 405.081,1204.07 407.162,1204.12 409.243,1204.17 411.324,1204.21 413.405,1204.25 415.486,1204.29 417.567,1204.33 419.648,1046.93 421.728,1186.59 423.809,1193.94 425.89,1194.16 427.971,1194.21 430.052,1194.25 432.133,1194.29 434.214,1194.33 436.295,1194.37 438.376,1194.41 440.457,1044.61 442.538,1178.14 444.618,1184.92 446.699,1185.12 448.78,1185.17 450.861,1185.21 452.942,1185.25 455.023,1185.29 457.104,1185.32 459.185,1185.36 461.266,1042.35 463.347,1170.34 465.428,1176.62 467.509,1176.81 469.589,1176.86 471.67,1176.9 473.751,1176.93 475.832,1176.97 477.913,1177.01 479.994,1177.04 482.075,1040.14 484.156,1163.09 486.237,1168.95 488.318,1169.12 490.399,1169.17 492.48,1169.2 494.56,1169.24 496.641,1169.28 498.722,1169.31 500.803,1169.34 502.884,1037.98 504.965,1156.31 507.046,1161.81 509.127,1161.97 511.208,1162.01 513.289,1162.05 515.37,1162.08 517.451,1162.12 519.531,1162.15 521.612,1162.19 523.693,1035.86 525.774,1149.96 527.855,1155.13 529.936,1155.28 532.017,1155.33 534.098,1155.36 536.179,1155.4 538.26,1155.43 540.341,1155.46 542.422,1155.49 544.502,1033.79 546.583,1143.98 548.664,1148.87 550.745,1149.01 552.826,1149.05 554.907,1149.08 556.988,1149.12 559.069,1149.15 561.15,1149.18 563.231,1149.21 565.312,1031.77 567.393,1138.33 569.473,1142.96 571.554,1143.09 573.635,1143.13 575.716,1143.17 577.797,1143.2 579.878,1143.23 581.959,1143.26 584.04,1143.29 586.121,1029.79 588.202,1132.97 590.283,1137.38 592.364,1137.5 594.444,1137.54 596.525,1137.57 598.606,1137.61 600.687,1137.64 602.768,1137.67 604.849,1137.7 606.93,1027.84 609.011,1127.88 611.092,1132.08 613.173,1132.2 615.254,1132.24 617.335,1132.27 619.415,1132.3 621.496,1132.33 623.577,1132.36 625.658,1132.39 627.739,1025.94 629.82,1123.03 631.901,1127.05 633.982,1127.17 636.063,1127.2 638.144,1127.23 640.225,1127.26 642.305,1127.29 644.386,1127.32 646.467,1127.35 648.548,1024.07 650.629,1118.41 652.71,1122.26 654.791,1122.36 656.872,1122.4 658.953,1122.43 661.034,1122.46 663.115,1122.49 665.196,1122.52 667.276,1122.55 669.357,1022.24 671.438,1113.98 673.519,1117.68 675.6,1117.78 677.681,1117.81 679.762,1117.84 681.843,1117.87 683.924,1117.9 686.005,1117.93 688.086,1117.96 690.167,1020.45 692.247,1109.74 694.328,1113.29 696.409,1113.39 698.49,1113.42 700.571,1113.45 702.652,1113.48 704.733,1113.51 706.814,1113.54 708.895,1113.57 710.976,1018.68 713.057,1105.67 715.138,1109.09 717.218,1109.19 719.299,1109.22 721.38,1109.25 723.461,1109.27 725.542,1109.3 727.623,1109.33 729.704,1109.36 731.785,1016.95 733.866,1101.75 735.947,1105.06 738.028,1105.15 740.109,1105.18 742.189,1105.21 744.27,1105.23 746.351,1105.26 748.432,1105.29 750.513,1105.31 752.594,1015.25 754.675,1097.98 756.756,1101.18 758.837,1101.26 760.918,1101.29 762.999,1101.32 765.08,1101.35 767.16,1101.38 769.241,1101.4 771.322,1101.43 773.403,1013.58 775.484,1094.35 777.565,1097.44 779.646,1097.52 781.727,1097.55 783.808,1097.58 785.889,1097.61 787.97,1097.63 790.051,1097.66 792.131,1097.68 794.212,1011.94 796.293,1090.84 798.374,1093.83 800.455,1093.91 802.536,1093.94 804.617,1093.97 806.698,1094 808.779,1094.02 810.86,1094.05 812.941,1094.07 815.022,1010.32 817.102,1087.45 819.183,1090.35 821.264,1090.43 823.345,1090.46 825.426,1090.48 827.507,1090.51 829.588,1090.54 831.669,1090.56 833.75,1090.58 835.831,1008.73 837.912,1084.17 839.993,1086.99 842.073,1087.06 844.154,1087.09 846.235,1087.11 848.316,1087.14 850.397,1087.16 852.478,1087.19 854.559,1087.21 856.64,1007.17 858.721,1080.99 860.802,1083.73 862.883,1083.8 864.963,1083.83 867.044,1083.85 869.125,1083.88 871.206,1083.9 873.287,1083.93 875.368,1083.95 877.449,1005.63 879.53,1077.9 881.611,1080.57 883.692,1080.64 885.773,1080.67 887.854,1080.69 889.934,1080.72 892.015,1080.74 894.096,1080.77 896.177,1080.79 898.258,1004.12 900.339,1074.91 902.42,1077.51 904.501,1077.58 906.582,1077.6 908.663,1077.63 910.744,1077.65 912.825,1077.68 914.905,1077.7 916.986,1077.72 919.067,1002.63 921.148,1072 923.229,1074.54 925.31,1074.6 927.391,1074.63 929.472,1074.65 931.553,1074.68 933.634,1074.7 935.715,1074.72 937.796,1074.75 939.876,1001.16 941.957,1069.18 944.038,1071.65 946.119,1071.71 948.2,1071.74 950.281,1071.76 952.362,1071.78 954.443,1071.81 956.524,1071.83 958.605,1071.85 960.686,999.714 962.767,1066.43 964.847,1068.84 966.928,1068.9 969.009,1068.93 971.09,1068.95 973.171,1068.97 975.252,1068.99 977.333,1069.02 979.414,1069.04 981.495,998.288 983.576,1063.75 985.657,1066.11 987.738,1066.16 989.818,1066.19 991.899,1066.21 993.98,1066.23 996.061,1066.26 998.142,1066.28 1000.22,1066.3 1002.3,996.881 1004.38,1061.14 1006.47,1063.44 1008.55,1063.5 1010.63,1063.52 1012.71,1063.54 1014.79,1063.57 1016.87,1063.59 1018.95,1063.61 1021.03,1063.63 1023.11,995.494 1025.19,1058.59 1027.27,1060.85 1029.36,1060.9 1031.44,1060.92 1033.52,1060.94 1035.6,1060.96 1037.68,1060.98 1039.76,1061 1041.84,1061.02 1043.92,994.125 1046,1056.1 1048.08,1058.31 1050.17,1058.36 1052.25,1058.38 1054.33,1058.4 1056.41,1058.42 1058.49,1058.44 1060.57,1058.46 1062.65,1058.48 1064.73,992.772 1066.81,1053.66 1068.89,1055.83 1070.97,1055.87 1073.06,1055.9 1075.14,1055.92 1077.22,1055.93 1079.3,1055.95 1081.38,1055.97 1083.46,1055.99 1085.54,991.434 1087.62,1051.28 1089.7,1053.4 1091.78,1053.44 1093.86,1053.46 1095.95,1053.48 1098.03,1053.5 1100.11,1053.52 1102.19,1053.54 1104.27,1053.55 1106.35,990.109 1108.43,1048.94 1110.51,1051.02 1112.59,1051.06 1114.67,1051.08 1116.75,1051.1 1118.84,1051.11 1120.92,1051.13 1123,1051.15 1125.08,1051.16 1127.16,988.796 1129.24,1046.64 1131.32,1048.68 1133.4,1048.72 1135.48,1048.74 1137.56,1048.75 1139.64,1048.77 1141.73,1048.78 1143.81,1048.8 1145.89,1048.81 1147.97,987.49 1150.05,1044.37 1152.13,1046.38 1154.21,1046.41 1156.29,1046.43 1158.37,1046.44 1160.45,1046.45 1162.53,1046.47 1164.62,1046.48 1166.7,1046.49 1168.78,986.189 1170.86,1042.14 1172.94,1044.1 1175.02,1044.13 1177.1,1044.14 1179.18,1044.15 1181.26,1044.16 1183.34,1044.17 1185.42,1044.18 1187.51,1044.19 1189.59,984.887 1191.67,1039.92 1193.75,1041.84 1195.83,1041.87 1197.91,1041.87 1199.99,1041.88 1202.07,1041.89 1204.15,1041.89 1206.23,1041.89 1208.31,1041.9 1210.4,983.576 1212.48,1037.7 1214.56,1039.58 1216.64,1039.6 1218.72,1039.6 1220.8,1039.6 1222.88,1039.6 1224.96,1039.6 1227.04,1039.6 1229.12,1039.6 1231.2,982.246 1233.29,1035.46 1235.37,1037.31 1237.45,1037.32 1239.53,1037.31 1241.61,1037.31 1243.69,1037.3 1245.77,1037.29 1247.85,1037.28 1249.93,1037.26 1252.01,980.883 1254.09,1033.19 1256.18,1034.99 1258.26,1034.99 1260.34,1034.97 1262.42,1034.96 1264.5,1034.94 1266.58,1034.91 1268.66,1034.89 1270.74,1034.87 1272.82,979.467 1274.9,1030.84 1276.98,1032.6 1279.07,1032.58 1281.15,1032.55 1283.23,1032.52 1285.31,1032.48 1287.39,1032.44 1289.47,1032.4 1291.55,1032.36 1293.63,977.968 1295.71,1028.38 1297.79,1030.08 1299.87,1030.04 1301.96,1029.99 1304.04,1029.94 1306.12,1029.88 1308.2,1029.82 1310.28,1029.76 1312.36,1029.69 1314.44,976.351 1316.52,1025.74 1318.6,1027.37 1320.68,1027.31 1322.76,1027.23 1324.85,1027.15 1326.93,1027.06 1329.01,1026.98 1331.09,1026.88 1333.17,1026.8 1335.25,974.571 1337.33,1022.86 1339.41,1024.42 1341.49,1024.33 1343.57,1024.21 1345.66,1024.1 1347.74,1023.97 1349.82,1023.86 1351.9,1023.72 1353.98,1023.61 1356.06,972.587 1358.14,1019.69 1360.22,1021.15 1362.3,1021.04 1364.38,1020.87 1366.46,1020.74 1368.55,1020.57 1370.63,1020.44 1372.71,1020.26 1374.79,1020.13 1376.87,970.396 1378.95,1016.24 1381.03,1017.61 1383.11,1017.48 1385.19,1017.28 1387.27,1017.14 1389.35,1016.94 1391.44,1016.81 1393.52,1016.6 1395.6,1016.47 1397.68,968.079 1399.76,1012.67 1401.84,1013.94 1403.92,1013.84 1406,1013.62 1408.08,1013.52 1410.16,1013.31 1412.24,1013.21 1414.33,1013 1416.41,1012.92 1418.49,965.81 1420.57,1009.24 1422.65,1010.45 1424.73,1010.4 1426.81,1010.2 1428.89,1010.16 1430.97,1009.97 1433.05,1009.93 1435.13,1009.74 1437.22,1009.72 1439.3,963.751 1441.38,1006.17 1443.46,1007.34 1445.54,1007.35 1447.62,1007.19 1449.7,1007.21 1451.78,1007.05 1453.86,1007.07 1455.94,1006.91 1458.02,1006.94 1460.11,961.932 1462.19,1003.49 1464.27,1004.62 1466.35,1004.69 1468.43,1004.56 1470.51,1004.63 1472.59,1004.49 1474.67,1004.56 1476.75,1004.41 1478.83,1004.48 1480.91,960.294 1483,1001.09 1485.08,1002.18 1487.16,1002.3 1489.24,1002.21 1491.32,1002.32 1493.4,1002.19 1495.48,1002.3 1497.56,1002.15 1499.64,1002.26 1501.72,958.777 1503.8,998.889 1505.89,999.938 1507.97,1000.11 1510.05,1000.05 1512.13,1000.19 1514.21,1000.08 1516.29,1000.21 1518.37,1000.06 1520.45,1000.2 1522.53,957.348 1524.61,996.845 1526.69,997.858 1528.78,998.071 1530.86,998.05 1532.94,998.228 1535.02,998.114 1537.1,998.284 1539.18,998.124 1541.26,998.293 1543.34,955.99 1545.42,994.934 1547.5,995.917 1549.58,996.167 1551.67,996.2 1553.75,996.401 1555.83,996.286 1557.91,996.484 1559.99,996.306 1562.07,996.508 1564.15,954.689 1566.23,993.141 1568.31,994.104 1570.39,994.38 1572.47,994.481 1574.56,994.696 1576.64,994.572 1578.72,994.798 1580.8,994.594 1582.88,994.83 1584.96,953.432 1587.04,991.452 1589.12,992.408 1591.2,992.693 1593.28,992.879 1595.36,993.098 1597.45,992.955 1599.53,993.21 1601.61,992.971 1603.69,993.244 1605.77,952.209 1607.85,989.855 1609.93,990.823 1612.01,991.089 1614.09,991.383 1616.17,991.594 1618.26,991.416 1620.34,991.705 1622.42,991.422 1624.5,991.736 1626.58,951.008 1628.66,988.338 1630.74,989.342 1632.82,989.554 1634.9,989.98 1636.98,990.172 1639.06,989.94 1641.15,990.268 1643.23,989.934 1645.31,990.291 1647.39,949.819 1649.47,986.891 1651.55,987.963 1653.63,988.072 1655.71,988.658 1657.79,988.822 1659.87,988.508 1661.95,988.887 1664.04,988.497 1666.12,988.899 1668.2,948.634 1670.28,985.507 1672.36,986.685 1674.44,986.629 1676.52,987.407 1678.6,987.536 1680.68,987.108 1682.76,987.552 1684.84,987.106 1686.93,987.55 1689.01,947.445 1691.09,984.178 1693.17,985.515 1695.25,985.213 1697.33,986.221 1699.41,986.314 1701.49,985.731 1703.57,986.254 1705.65,985.761 1707.73,986.239 1709.82,946.248 1711.9,982.903 1713.98,984.46 1716.06,983.814 1718.14,985.098 1720.22,985.155 1722.3,984.37 1724.38,984.987 1726.46,984.471 1728.54,984.962 1730.62,945.044 1732.71,981.681 1734.79,983.54 1736.87,982.423 1738.95,984.042 1741.03,984.065 1743.11,983.031 1745.19,983.746 1747.27,983.255 1749.35,983.718 1751.43,943.836 1753.51,980.512 1755.6,982.779 1757.68,981.026 1759.76,983.072 1761.84,983.052 1763.92,981.725 1766,982.524 1768.08,982.146 1770.16,982.503 1772.24,942.638 1774.32,979.397 1776.4,982.218 1778.49,979.608 1780.57,982.227 1782.65,982.126 1784.73,980.487 1786.81,981.312 1788.89,981.198 1790.97,981.311 1793.05,941.473 1795.13,978.332 1797.21,981.913 1799.29,978.139 1801.38,981.579 1803.46,981.289 1805.54,979.369 1807.62,980.095 1809.7,980.488 1811.78,980.124 1813.86,940.383 1815.94,977.308 1818.02,977.168 1820.1,975.361 1822.18,973.37 1824.27,971.257 1826.35,969.147 1828.43,967.209 1830.51,965.297 1832.59,963.45 1834.67,939.423 1836.75,959.341 1838.83,957.87 1840.91,956.369 1842.99,954.701 1845.07,952.931 1847.16,951.188 1849.24,949.637 1851.32,948.14 1853.4,946.719 1855.48,938.629 1857.56,943.532 1859.64,942.523 1861.72,941.516 1863.8,940.371 1865.88,939.13 1867.96,937.932 1870.05,936.942 1872.13,936.03 1874.21,935.204 1876.29,934.051 1878.37,933.233 1880.45,932.839 1882.53,932.47 1884.61,931.976 1886.69,931.371 1888.77,930.809 1890.86,930.467 1892.94,930.213 1895.02,930.044 1897.1,929.533 1899.18,929.341 1901.26,929.595 1903.34,929.863 1905.42,929.986 1907.5,929.96 1909.58,929.965 1911.66,930.217 1913.75,930.557 1915.83,930.944 1917.91,930.951 1919.99,925.132 1922.07,927.06 1924.15,932.866 1926.23,930.223 1928.31,924.696 1930.39,925.391 1932.47,923.806 1934.55,922.664 1936.64,922.804 1938.72,920.878 1940.8,912.856 1942.88,914.658 1944.96,923.284 1947.04,917.639 1949.12,911.304 1951.2,912.327 1953.28,911.659 1955.36,910.093 1957.44,910.3 1959.53,908.432 1961.61,900.695 1963.69,902.536 1965.77,911.608 1967.85,905.871 1969.93,899.154 1972.01,900.619 1974.09,900.659 1976.17,899.052 1978.25,899.59 1980.33,897.975 1982.42,890.394 1984.5,892.609 1986.58,902.508 1988.66,896.784 1990.74,889.486 1992.82,891.709 1994.9,892.626 1996.98,891.049 1999.06,891.835 2001.14,890.65 2003.22,883.077 2005.31,885.79 2007.39,896.8 2009.47,890.975 2011.55,882.194 2013.63,885.549 2015.71,888.356 2017.79,886.193 2019.87,886.286 2021.95,885.865 2024.03,878.641 2026.11,881.478 2028.2,893.505 2030.28,887.46 2032.36,876.114 2034.44,880.864 2036.52,887.326 2038.6,883.378 2040.68,880.891 2042.76,881.888 2044.84,876.555 2046.92,878.39 2049,890.223 2051.09,884.464 2053.17,870.411 2055.25,876.386 2057.33,887.715 2059.41,881.1 2061.49,874.335 2063.57,877.339 2065.65,875.946 2067.73,875.454 2069.81,885.399 2071.89,880.873 2073.98,864.991 2076.06,871.714 2078.14,887.705 2080.22,878.549 2082.3,867.126 2084.38,872.285 2086.46,875.797 2088.54,872.404 2090.62,880.477 2092.7,877.46 2094.78,859.429 2096.87,867.119 2098.95,888.604 2101.03,876.626 2103.11,860.269 2105.19,867.835 2107.27,876.52 2109.35,869.681 2111.43,878.389 2113.51,876.687 2115.59,852.128 2117.67,862.78 2119.76,895.617 2121.84,876.194 2123.92,856.155 2126,866.059 2128.08,876.566 2130.16,860.964 2132.24,875.769 2134.32,883.261 2136.4,838.725 2138.48,857.86 2140.56,879.493 2142.65,864.25 2144.73,857.661 2146.81,839.652 2148.89,876.06 2150.97,839.02 2153.05,861.946 2155.13,838.736 2157.21,848.89 2159.29,853.887 2161.37,869.332 2163.45,874.098 2165.54,810.578 2167.62,853.785 2169.7,798.349 2171.78,865.627 2173.86,758.806 2175.94,849.219 2178.02,457.635 2180.1,626.777 2182.18,738.749 2184.26,183.855 2186.35,304.295 2188.43,351.342 2190.51,399.848 2192.59,460.069 2194.67,156.358 2196.75,271.88 2198.83,317.285 2200.91,355.642 2202.99,297.683 2205.07,369.148 2207.15,459.684 2209.24,87.9763 2211.32,201.169 2213.4,243.289 2215.48,185.355 2217.56,289.237 2219.64,338.535 2221.72,381.438 2223.8,423.024 2225.88,205.518 2227.96,329.146 2230.04,366.31 2232.13,393.018 2234.21,374.392 2236.29,294.532 2238.37,400.318 2240.45,176.474 2242.53,293.93 2244.61,336.148 2246.69,379.344 2248.77,401.87 2250.85,445.008 2252.93,286.151 2255.02,394.895 2257.1,437.125 2259.18,165.19 2261.26,286.421 2263.34,327.464 2265.42,370.372 2267.5,367.507 2269.58,457.317 2271.66,483.938 2273.74,537.803 2275.82,450.451 2277.91,396.36 2279.99,231.694 2282.07,346.028 2284.15,390.826 2286.23,240.159 2288.31,354.229 2290.39,390.385 \"/>\n",
       "<path clip-path=\"url(#clip270)\" d=\"M222.643 198.898 L495.43 198.898 L495.43 95.2176 L222.643 95.2176  Z\" fill=\"#ffffff\" fill-rule=\"evenodd\" fill-opacity=\"1\"/>\n",
       "<polyline clip-path=\"url(#clip270)\" style=\"stroke:#000000; stroke-linecap:round; stroke-linejoin:round; stroke-width:4; stroke-opacity:1; fill:none\" points=\"222.643,198.898 495.43,198.898 495.43,95.2176 222.643,95.2176 222.643,198.898 \"/>\n",
       "<polyline clip-path=\"url(#clip270)\" style=\"stroke:#009af9; stroke-linecap:round; stroke-linejoin:round; stroke-width:4; stroke-opacity:1; fill:none\" points=\"247.127,147.058 394.031,147.058 \"/>\n",
       "<path clip-path=\"url(#clip270)\" d=\"M432.358 166.745 Q430.552 171.375 428.84 172.787 Q427.127 174.199 424.256 174.199 L420.853 174.199 L420.853 170.634 L423.353 170.634 Q425.113 170.634 426.085 169.8 Q427.057 168.967 428.238 165.865 L429.002 163.921 L418.515 138.412 L423.029 138.412 L431.131 158.689 L439.233 138.412 L443.747 138.412 L432.358 166.745 Z\" fill=\"#000000\" fill-rule=\"nonzero\" fill-opacity=\"1\" /><path clip-path=\"url(#clip270)\" d=\"M451.038 160.402 L458.677 160.402 L458.677 134.037 L450.367 135.703 L450.367 131.444 L458.631 129.778 L463.307 129.778 L463.307 160.402 L470.946 160.402 L470.946 164.338 L451.038 164.338 L451.038 160.402 Z\" fill=\"#000000\" fill-rule=\"nonzero\" fill-opacity=\"1\" /></svg>\n"
      ],
      "text/html": [
       "<?xml version=\"1.0\" encoding=\"utf-8\"?>\n",
       "<svg xmlns=\"http://www.w3.org/2000/svg\" xmlns:xlink=\"http://www.w3.org/1999/xlink\" width=\"600\" height=\"400\" viewBox=\"0 0 2400 1600\">\n",
       "<defs>\n",
       "  <clipPath id=\"clip320\">\n",
       "    <rect x=\"0\" y=\"0\" width=\"2400\" height=\"1600\"/>\n",
       "  </clipPath>\n",
       "</defs>\n",
       "<path clip-path=\"url(#clip320)\" d=\"M0 1600 L2400 1600 L2400 0 L0 0  Z\" fill=\"#ffffff\" fill-rule=\"evenodd\" fill-opacity=\"1\"/>\n",
       "<defs>\n",
       "  <clipPath id=\"clip321\">\n",
       "    <rect x=\"480\" y=\"0\" width=\"1681\" height=\"1600\"/>\n",
       "  </clipPath>\n",
       "</defs>\n",
       "<path clip-path=\"url(#clip320)\" d=\"M149.191 1486.45 L2352.76 1486.45 L2352.76 47.2441 L149.191 47.2441  Z\" fill=\"#ffffff\" fill-rule=\"evenodd\" fill-opacity=\"1\"/>\n",
       "<defs>\n",
       "  <clipPath id=\"clip322\">\n",
       "    <rect x=\"149\" y=\"47\" width=\"2205\" height=\"1440\"/>\n",
       "  </clipPath>\n",
       "</defs>\n",
       "<polyline clip-path=\"url(#clip322)\" style=\"stroke:#000000; stroke-linecap:round; stroke-linejoin:round; stroke-width:2; stroke-opacity:0.1; fill:none\" points=\"209.475,1486.45 209.475,47.2441 \"/>\n",
       "<polyline clip-path=\"url(#clip322)\" style=\"stroke:#000000; stroke-linecap:round; stroke-linejoin:round; stroke-width:2; stroke-opacity:0.1; fill:none\" points=\"729.704,1486.45 729.704,47.2441 \"/>\n",
       "<polyline clip-path=\"url(#clip322)\" style=\"stroke:#000000; stroke-linecap:round; stroke-linejoin:round; stroke-width:2; stroke-opacity:0.1; fill:none\" points=\"1249.93,1486.45 1249.93,47.2441 \"/>\n",
       "<polyline clip-path=\"url(#clip322)\" style=\"stroke:#000000; stroke-linecap:round; stroke-linejoin:round; stroke-width:2; stroke-opacity:0.1; fill:none\" points=\"1770.16,1486.45 1770.16,47.2441 \"/>\n",
       "<polyline clip-path=\"url(#clip322)\" style=\"stroke:#000000; stroke-linecap:round; stroke-linejoin:round; stroke-width:2; stroke-opacity:0.1; fill:none\" points=\"2290.39,1486.45 2290.39,47.2441 \"/>\n",
       "<polyline clip-path=\"url(#clip322)\" style=\"stroke:#000000; stroke-linecap:round; stroke-linejoin:round; stroke-width:2; stroke-opacity:0.1; fill:none\" points=\"149.191,1249.19 2352.76,1249.19 \"/>\n",
       "<polyline clip-path=\"url(#clip322)\" style=\"stroke:#000000; stroke-linecap:round; stroke-linejoin:round; stroke-width:2; stroke-opacity:0.1; fill:none\" points=\"149.191,1005.92 2352.76,1005.92 \"/>\n",
       "<polyline clip-path=\"url(#clip322)\" style=\"stroke:#000000; stroke-linecap:round; stroke-linejoin:round; stroke-width:2; stroke-opacity:0.1; fill:none\" points=\"149.191,762.647 2352.76,762.647 \"/>\n",
       "<polyline clip-path=\"url(#clip322)\" style=\"stroke:#000000; stroke-linecap:round; stroke-linejoin:round; stroke-width:2; stroke-opacity:0.1; fill:none\" points=\"149.191,519.373 2352.76,519.373 \"/>\n",
       "<polyline clip-path=\"url(#clip322)\" style=\"stroke:#000000; stroke-linecap:round; stroke-linejoin:round; stroke-width:2; stroke-opacity:0.1; fill:none\" points=\"149.191,276.1 2352.76,276.1 \"/>\n",
       "<polyline clip-path=\"url(#clip320)\" style=\"stroke:#000000; stroke-linecap:round; stroke-linejoin:round; stroke-width:4; stroke-opacity:1; fill:none\" points=\"149.191,1486.45 2352.76,1486.45 \"/>\n",
       "<polyline clip-path=\"url(#clip320)\" style=\"stroke:#000000; stroke-linecap:round; stroke-linejoin:round; stroke-width:4; stroke-opacity:1; fill:none\" points=\"209.475,1486.45 209.475,1467.55 \"/>\n",
       "<polyline clip-path=\"url(#clip320)\" style=\"stroke:#000000; stroke-linecap:round; stroke-linejoin:round; stroke-width:4; stroke-opacity:1; fill:none\" points=\"729.704,1486.45 729.704,1467.55 \"/>\n",
       "<polyline clip-path=\"url(#clip320)\" style=\"stroke:#000000; stroke-linecap:round; stroke-linejoin:round; stroke-width:4; stroke-opacity:1; fill:none\" points=\"1249.93,1486.45 1249.93,1467.55 \"/>\n",
       "<polyline clip-path=\"url(#clip320)\" style=\"stroke:#000000; stroke-linecap:round; stroke-linejoin:round; stroke-width:4; stroke-opacity:1; fill:none\" points=\"1770.16,1486.45 1770.16,1467.55 \"/>\n",
       "<polyline clip-path=\"url(#clip320)\" style=\"stroke:#000000; stroke-linecap:round; stroke-linejoin:round; stroke-width:4; stroke-opacity:1; fill:none\" points=\"2290.39,1486.45 2290.39,1467.55 \"/>\n",
       "<path clip-path=\"url(#clip320)\" d=\"M209.475 1517.37 Q205.864 1517.37 204.035 1520.93 Q202.23 1524.47 202.23 1531.6 Q202.23 1538.71 204.035 1542.27 Q205.864 1545.82 209.475 1545.82 Q213.109 1545.82 214.915 1542.27 Q216.743 1538.71 216.743 1531.6 Q216.743 1524.47 214.915 1520.93 Q213.109 1517.37 209.475 1517.37 M209.475 1513.66 Q215.285 1513.66 218.341 1518.27 Q221.419 1522.85 221.419 1531.6 Q221.419 1540.33 218.341 1544.94 Q215.285 1549.52 209.475 1549.52 Q203.665 1549.52 200.586 1544.94 Q197.531 1540.33 197.531 1531.6 Q197.531 1522.85 200.586 1518.27 Q203.665 1513.66 209.475 1513.66 Z\" fill=\"#000000\" fill-rule=\"nonzero\" fill-opacity=\"1\" /><path clip-path=\"url(#clip320)\" d=\"M693.396 1544.91 L709.716 1544.91 L709.716 1548.85 L687.771 1548.85 L687.771 1544.91 Q690.433 1542.16 695.017 1537.53 Q699.623 1532.88 700.804 1531.53 Q703.049 1529.01 703.929 1527.27 Q704.831 1525.51 704.831 1523.82 Q704.831 1521.07 702.887 1519.33 Q700.966 1517.6 697.864 1517.6 Q695.665 1517.6 693.211 1518.36 Q690.781 1519.13 688.003 1520.68 L688.003 1515.95 Q690.827 1514.82 693.281 1514.24 Q695.734 1513.66 697.771 1513.66 Q703.142 1513.66 706.336 1516.35 Q709.53 1519.03 709.53 1523.52 Q709.53 1525.65 708.72 1527.57 Q707.933 1529.47 705.827 1532.07 Q705.248 1532.74 702.146 1535.95 Q699.044 1539.15 693.396 1544.91 Z\" fill=\"#000000\" fill-rule=\"nonzero\" fill-opacity=\"1\" /><path clip-path=\"url(#clip320)\" d=\"M719.577 1514.29 L737.933 1514.29 L737.933 1518.22 L723.859 1518.22 L723.859 1526.7 Q724.878 1526.35 725.896 1526.19 Q726.915 1526 727.933 1526 Q733.72 1526 737.1 1529.17 Q740.479 1532.34 740.479 1537.76 Q740.479 1543.34 737.007 1546.44 Q733.535 1549.52 727.216 1549.52 Q725.04 1549.52 722.771 1549.15 Q720.526 1548.78 718.118 1548.04 L718.118 1543.34 Q720.202 1544.47 722.424 1545.03 Q724.646 1545.58 727.123 1545.58 Q731.128 1545.58 733.466 1543.48 Q735.803 1541.37 735.803 1537.76 Q735.803 1534.15 733.466 1532.04 Q731.128 1529.94 727.123 1529.94 Q725.248 1529.94 723.373 1530.35 Q721.521 1530.77 719.577 1531.65 L719.577 1514.29 Z\" fill=\"#000000\" fill-rule=\"nonzero\" fill-opacity=\"1\" /><path clip-path=\"url(#clip320)\" d=\"M759.692 1517.37 Q756.081 1517.37 754.252 1520.93 Q752.447 1524.47 752.447 1531.6 Q752.447 1538.71 754.252 1542.27 Q756.081 1545.82 759.692 1545.82 Q763.326 1545.82 765.132 1542.27 Q766.961 1538.71 766.961 1531.6 Q766.961 1524.47 765.132 1520.93 Q763.326 1517.37 759.692 1517.37 M759.692 1513.66 Q765.502 1513.66 768.558 1518.27 Q771.637 1522.85 771.637 1531.6 Q771.637 1540.33 768.558 1544.94 Q765.502 1549.52 759.692 1549.52 Q753.882 1549.52 750.803 1544.94 Q747.748 1540.33 747.748 1531.6 Q747.748 1522.85 750.803 1518.27 Q753.882 1513.66 759.692 1513.66 Z\" fill=\"#000000\" fill-rule=\"nonzero\" fill-opacity=\"1\" /><path clip-path=\"url(#clip320)\" d=\"M1209.55 1514.29 L1227.91 1514.29 L1227.91 1518.22 L1213.83 1518.22 L1213.83 1526.7 Q1214.85 1526.35 1215.87 1526.19 Q1216.89 1526 1217.91 1526 Q1223.69 1526 1227.07 1529.17 Q1230.45 1532.34 1230.45 1537.76 Q1230.45 1543.34 1226.98 1546.44 Q1223.51 1549.52 1217.19 1549.52 Q1215.01 1549.52 1212.75 1549.15 Q1210.5 1548.78 1208.09 1548.04 L1208.09 1543.34 Q1210.18 1544.47 1212.4 1545.03 Q1214.62 1545.58 1217.1 1545.58 Q1221.1 1545.58 1223.44 1543.48 Q1225.78 1541.37 1225.78 1537.76 Q1225.78 1534.15 1223.44 1532.04 Q1221.1 1529.94 1217.1 1529.94 Q1215.22 1529.94 1213.35 1530.35 Q1211.5 1530.77 1209.55 1531.65 L1209.55 1514.29 Z\" fill=\"#000000\" fill-rule=\"nonzero\" fill-opacity=\"1\" /><path clip-path=\"url(#clip320)\" d=\"M1249.67 1517.37 Q1246.06 1517.37 1244.23 1520.93 Q1242.42 1524.47 1242.42 1531.6 Q1242.42 1538.71 1244.23 1542.27 Q1246.06 1545.82 1249.67 1545.82 Q1253.3 1545.82 1255.11 1542.27 Q1256.94 1538.71 1256.94 1531.6 Q1256.94 1524.47 1255.11 1520.93 Q1253.3 1517.37 1249.67 1517.37 M1249.67 1513.66 Q1255.48 1513.66 1258.53 1518.27 Q1261.61 1522.85 1261.61 1531.6 Q1261.61 1540.33 1258.53 1544.94 Q1255.48 1549.52 1249.67 1549.52 Q1243.86 1549.52 1240.78 1544.94 Q1237.72 1540.33 1237.72 1531.6 Q1237.72 1522.85 1240.78 1518.27 Q1243.86 1513.66 1249.67 1513.66 Z\" fill=\"#000000\" fill-rule=\"nonzero\" fill-opacity=\"1\" /><path clip-path=\"url(#clip320)\" d=\"M1279.83 1517.37 Q1276.22 1517.37 1274.39 1520.93 Q1272.58 1524.47 1272.58 1531.6 Q1272.58 1538.71 1274.39 1542.27 Q1276.22 1545.82 1279.83 1545.82 Q1283.46 1545.82 1285.27 1542.27 Q1287.1 1538.71 1287.1 1531.6 Q1287.1 1524.47 1285.27 1520.93 Q1283.46 1517.37 1279.83 1517.37 M1279.83 1513.66 Q1285.64 1513.66 1288.69 1518.27 Q1291.77 1522.85 1291.77 1531.6 Q1291.77 1540.33 1288.69 1544.94 Q1285.64 1549.52 1279.83 1549.52 Q1274.02 1549.52 1270.94 1544.94 Q1267.88 1540.33 1267.88 1531.6 Q1267.88 1522.85 1270.94 1518.27 Q1274.02 1513.66 1279.83 1513.66 Z\" fill=\"#000000\" fill-rule=\"nonzero\" fill-opacity=\"1\" /><path clip-path=\"url(#clip320)\" d=\"M1728.44 1514.29 L1750.66 1514.29 L1750.66 1516.28 L1738.11 1548.85 L1733.23 1548.85 L1745.03 1518.22 L1728.44 1518.22 L1728.44 1514.29 Z\" fill=\"#000000\" fill-rule=\"nonzero\" fill-opacity=\"1\" /><path clip-path=\"url(#clip320)\" d=\"M1759.83 1514.29 L1778.18 1514.29 L1778.18 1518.22 L1764.11 1518.22 L1764.11 1526.7 Q1765.13 1526.35 1766.15 1526.19 Q1767.16 1526 1768.18 1526 Q1773.97 1526 1777.35 1529.17 Q1780.73 1532.34 1780.73 1537.76 Q1780.73 1543.34 1777.26 1546.44 Q1773.78 1549.52 1767.47 1549.52 Q1765.29 1549.52 1763.02 1549.15 Q1760.78 1548.78 1758.37 1548.04 L1758.37 1543.34 Q1760.45 1544.47 1762.67 1545.03 Q1764.9 1545.58 1767.37 1545.58 Q1771.38 1545.58 1773.72 1543.48 Q1776.05 1541.37 1776.05 1537.76 Q1776.05 1534.15 1773.72 1532.04 Q1771.38 1529.94 1767.37 1529.94 Q1765.5 1529.94 1763.62 1530.35 Q1761.77 1530.77 1759.83 1531.65 L1759.83 1514.29 Z\" fill=\"#000000\" fill-rule=\"nonzero\" fill-opacity=\"1\" /><path clip-path=\"url(#clip320)\" d=\"M1799.94 1517.37 Q1796.33 1517.37 1794.5 1520.93 Q1792.7 1524.47 1792.7 1531.6 Q1792.7 1538.71 1794.5 1542.27 Q1796.33 1545.82 1799.94 1545.82 Q1803.58 1545.82 1805.38 1542.27 Q1807.21 1538.71 1807.21 1531.6 Q1807.21 1524.47 1805.38 1520.93 Q1803.58 1517.37 1799.94 1517.37 M1799.94 1513.66 Q1805.75 1513.66 1808.81 1518.27 Q1811.89 1522.85 1811.89 1531.6 Q1811.89 1540.33 1808.81 1544.94 Q1805.75 1549.52 1799.94 1549.52 Q1794.13 1549.52 1791.05 1544.94 Q1788 1540.33 1788 1531.6 Q1788 1522.85 1791.05 1518.27 Q1794.13 1513.66 1799.94 1513.66 Z\" fill=\"#000000\" fill-rule=\"nonzero\" fill-opacity=\"1\" /><path clip-path=\"url(#clip320)\" d=\"M2234.92 1544.91 L2242.56 1544.91 L2242.56 1518.55 L2234.25 1520.21 L2234.25 1515.95 L2242.51 1514.29 L2247.19 1514.29 L2247.19 1544.91 L2254.82 1544.91 L2254.82 1548.85 L2234.92 1548.85 L2234.92 1544.91 Z\" fill=\"#000000\" fill-rule=\"nonzero\" fill-opacity=\"1\" /><path clip-path=\"url(#clip320)\" d=\"M2274.27 1517.37 Q2270.66 1517.37 2268.83 1520.93 Q2267.02 1524.47 2267.02 1531.6 Q2267.02 1538.71 2268.83 1542.27 Q2270.66 1545.82 2274.27 1545.82 Q2277.9 1545.82 2279.71 1542.27 Q2281.54 1538.71 2281.54 1531.6 Q2281.54 1524.47 2279.71 1520.93 Q2277.9 1517.37 2274.27 1517.37 M2274.27 1513.66 Q2280.08 1513.66 2283.13 1518.27 Q2286.21 1522.85 2286.21 1531.6 Q2286.21 1540.33 2283.13 1544.94 Q2280.08 1549.52 2274.27 1549.52 Q2268.46 1549.52 2265.38 1544.94 Q2262.32 1540.33 2262.32 1531.6 Q2262.32 1522.85 2265.38 1518.27 Q2268.46 1513.66 2274.27 1513.66 Z\" fill=\"#000000\" fill-rule=\"nonzero\" fill-opacity=\"1\" /><path clip-path=\"url(#clip320)\" d=\"M2304.43 1517.37 Q2300.82 1517.37 2298.99 1520.93 Q2297.18 1524.47 2297.18 1531.6 Q2297.18 1538.71 2298.99 1542.27 Q2300.82 1545.82 2304.43 1545.82 Q2308.06 1545.82 2309.87 1542.27 Q2311.7 1538.71 2311.7 1531.6 Q2311.7 1524.47 2309.87 1520.93 Q2308.06 1517.37 2304.43 1517.37 M2304.43 1513.66 Q2310.24 1513.66 2313.3 1518.27 Q2316.37 1522.85 2316.37 1531.6 Q2316.37 1540.33 2313.3 1544.94 Q2310.24 1549.52 2304.43 1549.52 Q2298.62 1549.52 2295.54 1544.94 Q2292.49 1540.33 2292.49 1531.6 Q2292.49 1522.85 2295.54 1518.27 Q2298.62 1513.66 2304.43 1513.66 Z\" fill=\"#000000\" fill-rule=\"nonzero\" fill-opacity=\"1\" /><path clip-path=\"url(#clip320)\" d=\"M2334.59 1517.37 Q2330.98 1517.37 2329.15 1520.93 Q2327.35 1524.47 2327.35 1531.6 Q2327.35 1538.71 2329.15 1542.27 Q2330.98 1545.82 2334.59 1545.82 Q2338.23 1545.82 2340.03 1542.27 Q2341.86 1538.71 2341.86 1531.6 Q2341.86 1524.47 2340.03 1520.93 Q2338.23 1517.37 2334.59 1517.37 M2334.59 1513.66 Q2340.4 1513.66 2343.46 1518.27 Q2346.54 1522.85 2346.54 1531.6 Q2346.54 1540.33 2343.46 1544.94 Q2340.4 1549.52 2334.59 1549.52 Q2328.78 1549.52 2325.7 1544.94 Q2322.65 1540.33 2322.65 1531.6 Q2322.65 1522.85 2325.7 1518.27 Q2328.78 1513.66 2334.59 1513.66 Z\" fill=\"#000000\" fill-rule=\"nonzero\" fill-opacity=\"1\" /><polyline clip-path=\"url(#clip320)\" style=\"stroke:#000000; stroke-linecap:round; stroke-linejoin:round; stroke-width:4; stroke-opacity:1; fill:none\" points=\"149.191,1486.45 149.191,47.2441 \"/>\n",
       "<polyline clip-path=\"url(#clip320)\" style=\"stroke:#000000; stroke-linecap:round; stroke-linejoin:round; stroke-width:4; stroke-opacity:1; fill:none\" points=\"149.191,1249.19 168.089,1249.19 \"/>\n",
       "<polyline clip-path=\"url(#clip320)\" style=\"stroke:#000000; stroke-linecap:round; stroke-linejoin:round; stroke-width:4; stroke-opacity:1; fill:none\" points=\"149.191,1005.92 168.089,1005.92 \"/>\n",
       "<polyline clip-path=\"url(#clip320)\" style=\"stroke:#000000; stroke-linecap:round; stroke-linejoin:round; stroke-width:4; stroke-opacity:1; fill:none\" points=\"149.191,762.647 168.089,762.647 \"/>\n",
       "<polyline clip-path=\"url(#clip320)\" style=\"stroke:#000000; stroke-linecap:round; stroke-linejoin:round; stroke-width:4; stroke-opacity:1; fill:none\" points=\"149.191,519.373 168.089,519.373 \"/>\n",
       "<polyline clip-path=\"url(#clip320)\" style=\"stroke:#000000; stroke-linecap:round; stroke-linejoin:round; stroke-width:4; stroke-opacity:1; fill:none\" points=\"149.191,276.1 168.089,276.1 \"/>\n",
       "<path clip-path=\"url(#clip320)\" d=\"M50.9921 1249.64 L80.6679 1249.64 L80.6679 1253.58 L50.9921 1253.58 L50.9921 1249.64 Z\" fill=\"#000000\" fill-rule=\"nonzero\" fill-opacity=\"1\" /><path clip-path=\"url(#clip320)\" d=\"M103.608 1235.99 L91.8021 1254.44 L103.608 1254.44 L103.608 1235.99 M102.381 1231.91 L108.26 1231.91 L108.26 1254.44 L113.191 1254.44 L113.191 1258.33 L108.26 1258.33 L108.26 1266.47 L103.608 1266.47 L103.608 1258.33 L88.0058 1258.33 L88.0058 1253.81 L102.381 1231.91 Z\" fill=\"#000000\" fill-rule=\"nonzero\" fill-opacity=\"1\" /><path clip-path=\"url(#clip320)\" d=\"M52.1264 1006.37 L81.8021 1006.37 L81.8021 1010.31 L52.1264 1010.31 L52.1264 1006.37 Z\" fill=\"#000000\" fill-rule=\"nonzero\" fill-opacity=\"1\" /><path clip-path=\"url(#clip320)\" d=\"M106.061 1004.57 Q109.418 1005.28 111.293 1007.55 Q113.191 1009.82 113.191 1013.15 Q113.191 1018.27 109.672 1021.07 Q106.154 1023.87 99.6724 1023.87 Q97.4965 1023.87 95.1817 1023.43 Q92.89 1023.01 90.4364 1022.16 L90.4364 1017.64 Q92.3808 1018.78 94.6956 1019.36 Q97.0104 1019.94 99.5335 1019.94 Q103.932 1019.94 106.223 1018.2 Q108.538 1016.46 108.538 1013.15 Q108.538 1010.1 106.385 1008.39 Q104.256 1006.65 100.436 1006.65 L96.4085 1006.65 L96.4085 1002.81 L100.621 1002.81 Q104.071 1002.81 105.899 1001.44 Q107.728 1000.05 107.728 997.459 Q107.728 994.797 105.83 993.385 Q103.955 991.95 100.436 991.95 Q98.515 991.95 96.316 992.367 Q94.1169 992.783 91.478 993.663 L91.478 989.496 Q94.14 988.756 96.4548 988.385 Q98.7928 988.015 100.853 988.015 Q106.177 988.015 109.279 990.445 Q112.381 992.853 112.381 996.973 Q112.381 999.843 110.737 1001.83 Q109.094 1003.8 106.061 1004.57 Z\" fill=\"#000000\" fill-rule=\"nonzero\" fill-opacity=\"1\" /><path clip-path=\"url(#clip320)\" d=\"M53.0754 763.098 L82.7512 763.098 L82.7512 767.033 L53.0754 767.033 L53.0754 763.098 Z\" fill=\"#000000\" fill-rule=\"nonzero\" fill-opacity=\"1\" /><path clip-path=\"url(#clip320)\" d=\"M96.8715 775.991 L113.191 775.991 L113.191 779.927 L91.2465 779.927 L91.2465 775.991 Q93.9086 773.237 98.4919 768.607 Q103.098 763.954 104.279 762.612 Q106.524 760.089 107.404 758.353 Q108.307 756.593 108.307 754.904 Q108.307 752.149 106.362 750.413 Q104.441 748.677 101.339 748.677 Q99.14 748.677 96.6863 749.441 Q94.2558 750.205 91.478 751.755 L91.478 747.033 Q94.3021 745.899 96.7558 745.32 Q99.2095 744.742 101.246 744.742 Q106.617 744.742 109.811 747.427 Q113.006 750.112 113.006 754.603 Q113.006 756.732 112.196 758.654 Q111.408 760.552 109.302 763.144 Q108.723 763.816 105.621 767.033 Q102.52 770.228 96.8715 775.991 Z\" fill=\"#000000\" fill-rule=\"nonzero\" fill-opacity=\"1\" /><path clip-path=\"url(#clip320)\" d=\"M52.7051 519.825 L82.3808 519.825 L82.3808 523.76 L52.7051 523.76 L52.7051 519.825 Z\" fill=\"#000000\" fill-rule=\"nonzero\" fill-opacity=\"1\" /><path clip-path=\"url(#clip320)\" d=\"M93.2836 532.718 L100.922 532.718 L100.922 506.353 L92.6123 508.019 L92.6123 503.76 L100.876 502.093 L105.552 502.093 L105.552 532.718 L113.191 532.718 L113.191 536.653 L93.2836 536.653 L93.2836 532.718 Z\" fill=\"#000000\" fill-rule=\"nonzero\" fill-opacity=\"1\" /><path clip-path=\"url(#clip320)\" d=\"M101.246 261.899 Q97.6354 261.899 95.8067 265.464 Q94.0012 269.005 94.0012 276.135 Q94.0012 283.241 95.8067 286.806 Q97.6354 290.348 101.246 290.348 Q104.881 290.348 106.686 286.806 Q108.515 283.241 108.515 276.135 Q108.515 269.005 106.686 265.464 Q104.881 261.899 101.246 261.899 M101.246 258.195 Q107.057 258.195 110.112 262.802 Q113.191 267.385 113.191 276.135 Q113.191 284.862 110.112 289.468 Q107.057 294.051 101.246 294.051 Q95.4363 294.051 92.3576 289.468 Q89.3021 284.862 89.3021 276.135 Q89.3021 267.385 92.3576 262.802 Q95.4363 258.195 101.246 258.195 Z\" fill=\"#000000\" fill-rule=\"nonzero\" fill-opacity=\"1\" /><polyline clip-path=\"url(#clip322)\" style=\"stroke:#009af9; stroke-linecap:round; stroke-linejoin:round; stroke-width:4; stroke-opacity:1; fill:none\" points=\"211.556,1073.95 213.637,1383.48 215.718,1442.84 217.799,1445.05 219.88,1445.26 221.96,1445.37 224.041,1445.47 226.122,1445.56 228.203,1445.64 230.284,1445.72 232.365,1070.86 234.446,1336.91 236.527,1371.15 238.608,1372.29 240.689,1372.42 242.77,1372.51 244.851,1372.59 246.931,1372.66 249.012,1372.73 251.093,1372.79 253.174,1067.88 255.255,1304.84 257.336,1329.02 259.417,1329.79 261.498,1329.9 263.579,1329.97 265.66,1330.04 267.741,1330.1 269.822,1330.16 271.902,1330.22 273.983,1064.99 276.064,1280.37 278.145,1299.09 280.226,1299.68 282.307,1299.77 284.388,1299.83 286.469,1299.89 288.55,1299.95 290.631,1300 292.712,1300.06 294.793,1062.19 296.873,1260.59 298.954,1275.87 301.035,1276.35 303.116,1276.42 305.197,1276.48 307.278,1276.54 309.359,1276.59 311.44,1276.64 313.521,1276.69 315.602,1059.47 317.683,1243.98 319.764,1256.91 321.844,1257.31 323.925,1257.38 326.006,1257.43 328.087,1257.48 330.168,1257.53 332.249,1257.58 334.33,1257.63 336.411,1056.82 338.492,1229.67 340.573,1240.88 342.654,1241.22 344.735,1241.29 346.815,1241.34 348.896,1241.39 350.977,1241.43 353.058,1241.48 355.139,1241.52 357.22,1054.25 359.301,1217.1 361.382,1227 363.463,1227.3 365.544,1227.36 367.625,1227.41 369.706,1227.46 371.786,1227.5 373.867,1227.54 375.948,1227.59 378.029,1051.75 380.11,1205.9 382.191,1214.77 384.272,1215.04 386.353,1215.09 388.434,1215.14 390.515,1215.18 392.596,1215.22 394.677,1215.26 396.757,1215.3 398.838,1049.31 400.919,1195.79 403,1203.83 405.081,1204.07 407.162,1204.12 409.243,1204.17 411.324,1204.21 413.405,1204.25 415.486,1204.29 417.567,1204.33 419.648,1046.93 421.728,1186.59 423.809,1193.94 425.89,1194.16 427.971,1194.21 430.052,1194.25 432.133,1194.29 434.214,1194.33 436.295,1194.37 438.376,1194.41 440.457,1044.61 442.538,1178.14 444.618,1184.92 446.699,1185.12 448.78,1185.17 450.861,1185.21 452.942,1185.25 455.023,1185.29 457.104,1185.32 459.185,1185.36 461.266,1042.35 463.347,1170.34 465.428,1176.62 467.509,1176.81 469.589,1176.86 471.67,1176.9 473.751,1176.93 475.832,1176.97 477.913,1177.01 479.994,1177.04 482.075,1040.14 484.156,1163.09 486.237,1168.95 488.318,1169.12 490.399,1169.17 492.48,1169.2 494.56,1169.24 496.641,1169.28 498.722,1169.31 500.803,1169.34 502.884,1037.98 504.965,1156.31 507.046,1161.81 509.127,1161.97 511.208,1162.01 513.289,1162.05 515.37,1162.08 517.451,1162.12 519.531,1162.15 521.612,1162.19 523.693,1035.86 525.774,1149.96 527.855,1155.13 529.936,1155.28 532.017,1155.33 534.098,1155.36 536.179,1155.4 538.26,1155.43 540.341,1155.46 542.422,1155.49 544.502,1033.79 546.583,1143.98 548.664,1148.87 550.745,1149.01 552.826,1149.05 554.907,1149.08 556.988,1149.12 559.069,1149.15 561.15,1149.18 563.231,1149.21 565.312,1031.77 567.393,1138.33 569.473,1142.96 571.554,1143.09 573.635,1143.13 575.716,1143.17 577.797,1143.2 579.878,1143.23 581.959,1143.26 584.04,1143.29 586.121,1029.79 588.202,1132.97 590.283,1137.38 592.364,1137.5 594.444,1137.54 596.525,1137.57 598.606,1137.61 600.687,1137.64 602.768,1137.67 604.849,1137.7 606.93,1027.84 609.011,1127.88 611.092,1132.08 613.173,1132.2 615.254,1132.24 617.335,1132.27 619.415,1132.3 621.496,1132.33 623.577,1132.36 625.658,1132.39 627.739,1025.94 629.82,1123.03 631.901,1127.05 633.982,1127.17 636.063,1127.2 638.144,1127.23 640.225,1127.26 642.305,1127.29 644.386,1127.32 646.467,1127.35 648.548,1024.07 650.629,1118.41 652.71,1122.26 654.791,1122.36 656.872,1122.4 658.953,1122.43 661.034,1122.46 663.115,1122.49 665.196,1122.52 667.276,1122.55 669.357,1022.24 671.438,1113.98 673.519,1117.68 675.6,1117.78 677.681,1117.81 679.762,1117.84 681.843,1117.87 683.924,1117.9 686.005,1117.93 688.086,1117.96 690.167,1020.45 692.247,1109.74 694.328,1113.29 696.409,1113.39 698.49,1113.42 700.571,1113.45 702.652,1113.48 704.733,1113.51 706.814,1113.54 708.895,1113.57 710.976,1018.68 713.057,1105.67 715.138,1109.09 717.218,1109.19 719.299,1109.22 721.38,1109.25 723.461,1109.27 725.542,1109.3 727.623,1109.33 729.704,1109.36 731.785,1016.95 733.866,1101.75 735.947,1105.06 738.028,1105.15 740.109,1105.18 742.189,1105.21 744.27,1105.23 746.351,1105.26 748.432,1105.29 750.513,1105.31 752.594,1015.25 754.675,1097.98 756.756,1101.18 758.837,1101.26 760.918,1101.29 762.999,1101.32 765.08,1101.35 767.16,1101.38 769.241,1101.4 771.322,1101.43 773.403,1013.58 775.484,1094.35 777.565,1097.44 779.646,1097.52 781.727,1097.55 783.808,1097.58 785.889,1097.61 787.97,1097.63 790.051,1097.66 792.131,1097.68 794.212,1011.94 796.293,1090.84 798.374,1093.83 800.455,1093.91 802.536,1093.94 804.617,1093.97 806.698,1094 808.779,1094.02 810.86,1094.05 812.941,1094.07 815.022,1010.32 817.102,1087.45 819.183,1090.35 821.264,1090.43 823.345,1090.46 825.426,1090.48 827.507,1090.51 829.588,1090.54 831.669,1090.56 833.75,1090.58 835.831,1008.73 837.912,1084.17 839.993,1086.99 842.073,1087.06 844.154,1087.09 846.235,1087.11 848.316,1087.14 850.397,1087.16 852.478,1087.19 854.559,1087.21 856.64,1007.17 858.721,1080.99 860.802,1083.73 862.883,1083.8 864.963,1083.83 867.044,1083.85 869.125,1083.88 871.206,1083.9 873.287,1083.93 875.368,1083.95 877.449,1005.63 879.53,1077.9 881.611,1080.57 883.692,1080.64 885.773,1080.67 887.854,1080.69 889.934,1080.72 892.015,1080.74 894.096,1080.77 896.177,1080.79 898.258,1004.12 900.339,1074.91 902.42,1077.51 904.501,1077.58 906.582,1077.6 908.663,1077.63 910.744,1077.65 912.825,1077.68 914.905,1077.7 916.986,1077.72 919.067,1002.63 921.148,1072 923.229,1074.54 925.31,1074.6 927.391,1074.63 929.472,1074.65 931.553,1074.68 933.634,1074.7 935.715,1074.72 937.796,1074.75 939.876,1001.16 941.957,1069.18 944.038,1071.65 946.119,1071.71 948.2,1071.74 950.281,1071.76 952.362,1071.78 954.443,1071.81 956.524,1071.83 958.605,1071.85 960.686,999.714 962.767,1066.43 964.847,1068.84 966.928,1068.9 969.009,1068.93 971.09,1068.95 973.171,1068.97 975.252,1068.99 977.333,1069.02 979.414,1069.04 981.495,998.288 983.576,1063.75 985.657,1066.11 987.738,1066.16 989.818,1066.19 991.899,1066.21 993.98,1066.23 996.061,1066.26 998.142,1066.28 1000.22,1066.3 1002.3,996.881 1004.38,1061.14 1006.47,1063.44 1008.55,1063.5 1010.63,1063.52 1012.71,1063.54 1014.79,1063.57 1016.87,1063.59 1018.95,1063.61 1021.03,1063.63 1023.11,995.494 1025.19,1058.59 1027.27,1060.85 1029.36,1060.9 1031.44,1060.92 1033.52,1060.94 1035.6,1060.96 1037.68,1060.98 1039.76,1061 1041.84,1061.02 1043.92,994.125 1046,1056.1 1048.08,1058.31 1050.17,1058.36 1052.25,1058.38 1054.33,1058.4 1056.41,1058.42 1058.49,1058.44 1060.57,1058.46 1062.65,1058.48 1064.73,992.772 1066.81,1053.66 1068.89,1055.83 1070.97,1055.87 1073.06,1055.9 1075.14,1055.92 1077.22,1055.93 1079.3,1055.95 1081.38,1055.97 1083.46,1055.99 1085.54,991.434 1087.62,1051.28 1089.7,1053.4 1091.78,1053.44 1093.86,1053.46 1095.95,1053.48 1098.03,1053.5 1100.11,1053.52 1102.19,1053.54 1104.27,1053.55 1106.35,990.109 1108.43,1048.94 1110.51,1051.02 1112.59,1051.06 1114.67,1051.08 1116.75,1051.1 1118.84,1051.11 1120.92,1051.13 1123,1051.15 1125.08,1051.16 1127.16,988.796 1129.24,1046.64 1131.32,1048.68 1133.4,1048.72 1135.48,1048.74 1137.56,1048.75 1139.64,1048.77 1141.73,1048.78 1143.81,1048.8 1145.89,1048.81 1147.97,987.49 1150.05,1044.37 1152.13,1046.38 1154.21,1046.41 1156.29,1046.43 1158.37,1046.44 1160.45,1046.45 1162.53,1046.47 1164.62,1046.48 1166.7,1046.49 1168.78,986.189 1170.86,1042.14 1172.94,1044.1 1175.02,1044.13 1177.1,1044.14 1179.18,1044.15 1181.26,1044.16 1183.34,1044.17 1185.42,1044.18 1187.51,1044.19 1189.59,984.887 1191.67,1039.92 1193.75,1041.84 1195.83,1041.87 1197.91,1041.87 1199.99,1041.88 1202.07,1041.89 1204.15,1041.89 1206.23,1041.89 1208.31,1041.9 1210.4,983.576 1212.48,1037.7 1214.56,1039.58 1216.64,1039.6 1218.72,1039.6 1220.8,1039.6 1222.88,1039.6 1224.96,1039.6 1227.04,1039.6 1229.12,1039.6 1231.2,982.246 1233.29,1035.46 1235.37,1037.31 1237.45,1037.32 1239.53,1037.31 1241.61,1037.31 1243.69,1037.3 1245.77,1037.29 1247.85,1037.28 1249.93,1037.26 1252.01,980.883 1254.09,1033.19 1256.18,1034.99 1258.26,1034.99 1260.34,1034.97 1262.42,1034.96 1264.5,1034.94 1266.58,1034.91 1268.66,1034.89 1270.74,1034.87 1272.82,979.467 1274.9,1030.84 1276.98,1032.6 1279.07,1032.58 1281.15,1032.55 1283.23,1032.52 1285.31,1032.48 1287.39,1032.44 1289.47,1032.4 1291.55,1032.36 1293.63,977.968 1295.71,1028.38 1297.79,1030.08 1299.87,1030.04 1301.96,1029.99 1304.04,1029.94 1306.12,1029.88 1308.2,1029.82 1310.28,1029.76 1312.36,1029.69 1314.44,976.351 1316.52,1025.74 1318.6,1027.37 1320.68,1027.31 1322.76,1027.23 1324.85,1027.15 1326.93,1027.06 1329.01,1026.98 1331.09,1026.88 1333.17,1026.8 1335.25,974.571 1337.33,1022.86 1339.41,1024.42 1341.49,1024.33 1343.57,1024.21 1345.66,1024.1 1347.74,1023.97 1349.82,1023.86 1351.9,1023.72 1353.98,1023.61 1356.06,972.587 1358.14,1019.69 1360.22,1021.15 1362.3,1021.04 1364.38,1020.87 1366.46,1020.74 1368.55,1020.57 1370.63,1020.44 1372.71,1020.26 1374.79,1020.13 1376.87,970.396 1378.95,1016.24 1381.03,1017.61 1383.11,1017.48 1385.19,1017.28 1387.27,1017.14 1389.35,1016.94 1391.44,1016.81 1393.52,1016.6 1395.6,1016.47 1397.68,968.079 1399.76,1012.67 1401.84,1013.94 1403.92,1013.84 1406,1013.62 1408.08,1013.52 1410.16,1013.31 1412.24,1013.21 1414.33,1013 1416.41,1012.92 1418.49,965.81 1420.57,1009.24 1422.65,1010.45 1424.73,1010.4 1426.81,1010.2 1428.89,1010.16 1430.97,1009.97 1433.05,1009.93 1435.13,1009.74 1437.22,1009.72 1439.3,963.751 1441.38,1006.17 1443.46,1007.34 1445.54,1007.35 1447.62,1007.19 1449.7,1007.21 1451.78,1007.05 1453.86,1007.07 1455.94,1006.91 1458.02,1006.94 1460.11,961.932 1462.19,1003.49 1464.27,1004.62 1466.35,1004.69 1468.43,1004.56 1470.51,1004.63 1472.59,1004.49 1474.67,1004.56 1476.75,1004.41 1478.83,1004.48 1480.91,960.294 1483,1001.09 1485.08,1002.18 1487.16,1002.3 1489.24,1002.21 1491.32,1002.32 1493.4,1002.19 1495.48,1002.3 1497.56,1002.15 1499.64,1002.26 1501.72,958.777 1503.8,998.889 1505.89,999.938 1507.97,1000.11 1510.05,1000.05 1512.13,1000.19 1514.21,1000.08 1516.29,1000.21 1518.37,1000.06 1520.45,1000.2 1522.53,957.348 1524.61,996.845 1526.69,997.858 1528.78,998.071 1530.86,998.05 1532.94,998.228 1535.02,998.114 1537.1,998.284 1539.18,998.124 1541.26,998.293 1543.34,955.99 1545.42,994.934 1547.5,995.917 1549.58,996.167 1551.67,996.2 1553.75,996.401 1555.83,996.286 1557.91,996.484 1559.99,996.306 1562.07,996.508 1564.15,954.689 1566.23,993.141 1568.31,994.104 1570.39,994.38 1572.47,994.481 1574.56,994.696 1576.64,994.572 1578.72,994.798 1580.8,994.594 1582.88,994.83 1584.96,953.432 1587.04,991.452 1589.12,992.408 1591.2,992.693 1593.28,992.879 1595.36,993.098 1597.45,992.955 1599.53,993.21 1601.61,992.971 1603.69,993.244 1605.77,952.209 1607.85,989.855 1609.93,990.823 1612.01,991.089 1614.09,991.383 1616.17,991.594 1618.26,991.416 1620.34,991.705 1622.42,991.422 1624.5,991.736 1626.58,951.008 1628.66,988.338 1630.74,989.342 1632.82,989.554 1634.9,989.98 1636.98,990.172 1639.06,989.94 1641.15,990.268 1643.23,989.934 1645.31,990.291 1647.39,949.819 1649.47,986.891 1651.55,987.963 1653.63,988.072 1655.71,988.658 1657.79,988.822 1659.87,988.508 1661.95,988.887 1664.04,988.497 1666.12,988.899 1668.2,948.634 1670.28,985.507 1672.36,986.685 1674.44,986.629 1676.52,987.407 1678.6,987.536 1680.68,987.108 1682.76,987.552 1684.84,987.106 1686.93,987.55 1689.01,947.445 1691.09,984.178 1693.17,985.515 1695.25,985.213 1697.33,986.221 1699.41,986.314 1701.49,985.731 1703.57,986.254 1705.65,985.761 1707.73,986.239 1709.82,946.248 1711.9,982.903 1713.98,984.46 1716.06,983.814 1718.14,985.098 1720.22,985.155 1722.3,984.37 1724.38,984.987 1726.46,984.471 1728.54,984.962 1730.62,945.044 1732.71,981.681 1734.79,983.54 1736.87,982.423 1738.95,984.042 1741.03,984.065 1743.11,983.031 1745.19,983.746 1747.27,983.255 1749.35,983.718 1751.43,943.836 1753.51,980.512 1755.6,982.779 1757.68,981.026 1759.76,983.072 1761.84,983.052 1763.92,981.725 1766,982.524 1768.08,982.146 1770.16,982.503 1772.24,942.638 1774.32,979.397 1776.4,982.218 1778.49,979.608 1780.57,982.227 1782.65,982.126 1784.73,980.487 1786.81,981.312 1788.89,981.198 1790.97,981.311 1793.05,941.473 1795.13,978.332 1797.21,981.913 1799.29,978.139 1801.38,981.579 1803.46,981.289 1805.54,979.369 1807.62,980.095 1809.7,980.488 1811.78,980.124 1813.86,940.383 1815.94,977.308 1818.02,977.168 1820.1,975.361 1822.18,973.37 1824.27,971.257 1826.35,969.147 1828.43,967.209 1830.51,965.297 1832.59,963.45 1834.67,939.423 1836.75,959.341 1838.83,957.87 1840.91,956.369 1842.99,954.701 1845.07,952.931 1847.16,951.188 1849.24,949.637 1851.32,948.14 1853.4,946.719 1855.48,938.629 1857.56,943.532 1859.64,942.523 1861.72,941.516 1863.8,940.371 1865.88,939.13 1867.96,937.932 1870.05,936.942 1872.13,936.03 1874.21,935.204 1876.29,934.051 1878.37,933.233 1880.45,932.839 1882.53,932.47 1884.61,931.976 1886.69,931.371 1888.77,930.809 1890.86,930.467 1892.94,930.213 1895.02,930.044 1897.1,929.533 1899.18,929.341 1901.26,929.595 1903.34,929.863 1905.42,929.986 1907.5,929.96 1909.58,929.965 1911.66,930.217 1913.75,930.557 1915.83,930.944 1917.91,930.951 1919.99,925.132 1922.07,927.06 1924.15,932.866 1926.23,930.223 1928.31,924.696 1930.39,925.391 1932.47,923.806 1934.55,922.664 1936.64,922.804 1938.72,920.878 1940.8,912.856 1942.88,914.658 1944.96,923.284 1947.04,917.639 1949.12,911.304 1951.2,912.327 1953.28,911.659 1955.36,910.093 1957.44,910.3 1959.53,908.432 1961.61,900.695 1963.69,902.536 1965.77,911.608 1967.85,905.871 1969.93,899.154 1972.01,900.619 1974.09,900.659 1976.17,899.052 1978.25,899.59 1980.33,897.975 1982.42,890.394 1984.5,892.609 1986.58,902.508 1988.66,896.784 1990.74,889.486 1992.82,891.709 1994.9,892.626 1996.98,891.049 1999.06,891.835 2001.14,890.65 2003.22,883.077 2005.31,885.79 2007.39,896.8 2009.47,890.975 2011.55,882.194 2013.63,885.549 2015.71,888.356 2017.79,886.193 2019.87,886.286 2021.95,885.865 2024.03,878.641 2026.11,881.478 2028.2,893.505 2030.28,887.46 2032.36,876.114 2034.44,880.864 2036.52,887.326 2038.6,883.378 2040.68,880.891 2042.76,881.888 2044.84,876.555 2046.92,878.39 2049,890.223 2051.09,884.464 2053.17,870.411 2055.25,876.386 2057.33,887.715 2059.41,881.1 2061.49,874.335 2063.57,877.339 2065.65,875.946 2067.73,875.454 2069.81,885.399 2071.89,880.873 2073.98,864.991 2076.06,871.714 2078.14,887.705 2080.22,878.549 2082.3,867.126 2084.38,872.285 2086.46,875.797 2088.54,872.404 2090.62,880.477 2092.7,877.46 2094.78,859.429 2096.87,867.119 2098.95,888.604 2101.03,876.626 2103.11,860.269 2105.19,867.835 2107.27,876.52 2109.35,869.681 2111.43,878.389 2113.51,876.687 2115.59,852.128 2117.67,862.78 2119.76,895.617 2121.84,876.194 2123.92,856.155 2126,866.059 2128.08,876.566 2130.16,860.964 2132.24,875.769 2134.32,883.261 2136.4,838.725 2138.48,857.86 2140.56,879.493 2142.65,864.25 2144.73,857.661 2146.81,839.652 2148.89,876.06 2150.97,839.02 2153.05,861.946 2155.13,838.736 2157.21,848.89 2159.29,853.887 2161.37,869.332 2163.45,874.098 2165.54,810.578 2167.62,853.785 2169.7,798.349 2171.78,865.627 2173.86,758.806 2175.94,849.219 2178.02,457.635 2180.1,626.777 2182.18,738.749 2184.26,183.855 2186.35,304.295 2188.43,351.342 2190.51,399.848 2192.59,460.069 2194.67,156.358 2196.75,271.88 2198.83,317.285 2200.91,355.642 2202.99,297.683 2205.07,369.148 2207.15,459.684 2209.24,87.9763 2211.32,201.169 2213.4,243.289 2215.48,185.355 2217.56,289.237 2219.64,338.535 2221.72,381.438 2223.8,423.024 2225.88,205.518 2227.96,329.146 2230.04,366.31 2232.13,393.018 2234.21,374.392 2236.29,294.532 2238.37,400.318 2240.45,176.474 2242.53,293.93 2244.61,336.148 2246.69,379.344 2248.77,401.87 2250.85,445.008 2252.93,286.151 2255.02,394.895 2257.1,437.125 2259.18,165.19 2261.26,286.421 2263.34,327.464 2265.42,370.372 2267.5,367.507 2269.58,457.317 2271.66,483.938 2273.74,537.803 2275.82,450.451 2277.91,396.36 2279.99,231.694 2282.07,346.028 2284.15,390.826 2286.23,240.159 2288.31,354.229 2290.39,390.385 \"/>\n",
       "<path clip-path=\"url(#clip320)\" d=\"M222.643 198.898 L495.43 198.898 L495.43 95.2176 L222.643 95.2176  Z\" fill=\"#ffffff\" fill-rule=\"evenodd\" fill-opacity=\"1\"/>\n",
       "<polyline clip-path=\"url(#clip320)\" style=\"stroke:#000000; stroke-linecap:round; stroke-linejoin:round; stroke-width:4; stroke-opacity:1; fill:none\" points=\"222.643,198.898 495.43,198.898 495.43,95.2176 222.643,95.2176 222.643,198.898 \"/>\n",
       "<polyline clip-path=\"url(#clip320)\" style=\"stroke:#009af9; stroke-linecap:round; stroke-linejoin:round; stroke-width:4; stroke-opacity:1; fill:none\" points=\"247.127,147.058 394.031,147.058 \"/>\n",
       "<path clip-path=\"url(#clip320)\" d=\"M432.358 166.745 Q430.552 171.375 428.84 172.787 Q427.127 174.199 424.256 174.199 L420.853 174.199 L420.853 170.634 L423.353 170.634 Q425.113 170.634 426.085 169.8 Q427.057 168.967 428.238 165.865 L429.002 163.921 L418.515 138.412 L423.029 138.412 L431.131 158.689 L439.233 138.412 L443.747 138.412 L432.358 166.745 Z\" fill=\"#000000\" fill-rule=\"nonzero\" fill-opacity=\"1\" /><path clip-path=\"url(#clip320)\" d=\"M451.038 160.402 L458.677 160.402 L458.677 134.037 L450.367 135.703 L450.367 131.444 L458.631 129.778 L463.307 129.778 L463.307 160.402 L470.946 160.402 L470.946 164.338 L451.038 164.338 L451.038 160.402 Z\" fill=\"#000000\" fill-rule=\"nonzero\" fill-opacity=\"1\" /></svg>\n"
      ]
     },
     "metadata": {},
     "output_type": "display_data"
    }
   ],
   "source": [
    "using Plots\n",
    "plot(log10.(e))"
   ]
  },
  {
   "cell_type": "code",
   "execution_count": 383,
   "id": "57ab41b8",
   "metadata": {},
   "outputs": [
    {
     "data": {
      "text/plain": [
       "2"
      ]
     },
     "metadata": {},
     "output_type": "display_data"
    }
   ],
   "source": [
    "u1 = copy(r1)\n",
    "r0 = FEM.nodePositionVector(problem)\n",
    "for i in 1:size(r1.a, 2)\n",
    "    u1.a[:, i] = r1.a[:, i] - r0.a\n",
    "end\n",
    "\n",
    "u2 = FEM.showDoFResults(problem, u1, :uvec, visible=true)"
   ]
  },
  {
   "cell_type": "code",
   "execution_count": 384,
   "id": "b2ced203",
   "metadata": {},
   "outputs": [
    {
     "data": {
      "text/plain": [
       "3-element Vector{Float64}:\n",
       " 5.0\n",
       " 0.29999999999999993\n",
       " 0.3"
      ]
     },
     "metadata": {},
     "output_type": "display_data"
    }
   ],
   "source": [
    "phtag = FEM.getTagForPhysicalName(\"A\")\n",
    "pttag = gmsh.model.getEntitiesForPhysicalGroup(0, 31)[1]\n",
    "coord = gmsh.model.getValue(0, pttag, [])\n",
    "R1 = FEM.nodePositionVector(neohooke)\n",
    "FEM.probe(R1, coord[1], coord[2], coord[3])"
   ]
  },
  {
   "cell_type": "code",
   "execution_count": 385,
   "id": "f74412f6",
   "metadata": {},
   "outputs": [],
   "source": [
    "#FEM.plotOnPath(problem, \"horizontal\", u2)\n",
    "#FEM.plotOnPath(problem, \"vertical\", u2)"
   ]
  },
  {
   "cell_type": "code",
   "execution_count": 386,
   "id": "d9e04c86",
   "metadata": {},
   "outputs": [
    {
     "data": {
      "text/plain": [
       "LowLevelFEM.TensorField([[0.39999999999999947; 0.0; … ; 0.0; 0.6000000000000001;;], [0.39999999999999947; 0.0; … ; 0.0; 0.6000000000000001;;], [0.39999999999999947; 0.0; … ; 0.0; 0.6000000000000001;;], [0.39999999999999947; 0.0; … ; 0.0; 0.6000000000000001;;], [0.39999999999999947; 0.0; … ; 0.0; 0.6000000000000001;;], [0.39999999999999947; 0.0; … ; 0.0; 0.6000000000000001;;], [0.39999999999999947; 0.0; … ; 0.0; 0.6000000000000001;;], [0.39999999999999947; 0.0; … ; 0.0; 0.6000000000000001;;], [0.39999999999999947; 0.0; … ; 0.0; 0.6000000000000001;;], [0.39999999999999947; 0.0; … ; 0.0; 0.6000000000000001;;]  …  [0.39999999999999947; 0.0; … ; 0.0; 0.6000000000000001;;], [0.39999999999999947; 0.0; … ; 0.0; 0.6000000000000001;;], [0.39999999999999947; 0.0; … ; 0.0; 0.6000000000000001;;], [0.39999999999999947; 0.0; … ; 0.0; 0.6000000000000001;;], [0.39999999999999947; 0.0; … ; 0.0; 0.6000000000000001;;], [0.39999999999999947; 0.0; … ; 0.0; 0.6000000000000001;;], [0.39999999999999947; 0.0; … ; 0.0; 0.6000000000000001;;], [0.39999999999999947; 0.0; … ; 0.0; 0.6000000000000001;;], [0.39999999999999947; 0.0; … ; 0.0; 0.6000000000000001;;], [0.39999999999999947; 0.0; … ; 0.0; 0.6000000000000001;;]], Matrix{Float64}(undef, 0, 0), [0.0], [473, 474, 475, 476, 477, 478, 479, 480, 481, 482  …  783, 784, 785, 786, 787, 788, 789, 790, 791, 792], 1, :F)"
      ]
     },
     "metadata": {},
     "output_type": "display_data"
    }
   ],
   "source": [
    "r = FEM.nodePositionVector(problem)\n",
    "ux(x, y, z) = 0.4x\n",
    "uy(x, y, z) = 0.5y\n",
    "uz(x, y, z) = 0.6z\n",
    "q0 = FEM.field(\"body\", fx=ux, fy=uy, fz=uz)\n",
    "q = FEM.vectorField(problem, [q0])\n",
    "F = FEM.deformationGradient(problem, q)"
   ]
  },
  {
   "cell_type": "code",
   "execution_count": 387,
   "id": "bda3da4b",
   "metadata": {},
   "outputs": [
    {
     "data": {
      "text/plain": [
       "3×3 Matrix{Float64}:\n",
       " 0.4  0.0  0.0\n",
       " 0.0  0.5  0.0\n",
       " 0.0  0.0  0.6"
      ]
     },
     "metadata": {},
     "output_type": "display_data"
    }
   ],
   "source": [
    "reshape(F.A[1][1:9], 3, 3)"
   ]
  },
  {
   "cell_type": "code",
   "execution_count": 388,
   "id": "4aba7a4b",
   "metadata": {},
   "outputs": [
    {
     "data": {
      "text/plain": [
       "3×3 Matrix{Float64}:\n",
       " -0.42   0.0     0.0\n",
       "  0.0   -0.375   0.0\n",
       "  0.0    0.0    -0.32"
      ]
     },
     "metadata": {},
     "output_type": "display_data"
    }
   ],
   "source": [
    "E = (F' * F - FEM.unitTensor(F)) / 2\n",
    "\n",
    "reshape(E.A[1][1:9], 3, 3)"
   ]
  },
  {
   "cell_type": "code",
   "execution_count": 389,
   "id": "a7c506a2",
   "metadata": {},
   "outputs": [
    {
     "data": {
      "text/plain": [
       "3×3 Matrix{Float64}:\n",
       " -2.625   0.0   0.0\n",
       "  0.0    -1.5   0.0\n",
       "  0.0     0.0  -0.888889"
      ]
     },
     "metadata": {},
     "output_type": "display_data"
    }
   ],
   "source": [
    "e = (FEM.unitTensor(F) - inv(F * F')) / 2\n",
    "\n",
    "reshape(e.A[1][1:9], 3, 3)"
   ]
  },
  {
   "cell_type": "code",
   "execution_count": 390,
   "id": "df5feea4",
   "metadata": {},
   "outputs": [
    {
     "data": {
      "text/plain": [
       "3×3 Matrix{Float64}:\n",
       " -2.625   0.0   0.0\n",
       "  0.0    -1.5   0.0\n",
       "  0.0     0.0  -0.888889"
      ]
     },
     "metadata": {},
     "output_type": "display_data"
    }
   ],
   "source": [
    "e = inv(F') * E * inv(F)\n",
    "\n",
    "reshape(e.A[1][1:9], 3, 3)"
   ]
  },
  {
   "cell_type": "code",
   "execution_count": 391,
   "id": "eb7cd73d",
   "metadata": {},
   "outputs": [
    {
     "data": {
      "text/plain": [
       "3×3 Matrix{Float64}:\n",
       " 0.4  0.0  0.0\n",
       " 0.0  0.5  0.0\n",
       " 0.0  0.0  0.6"
      ]
     },
     "metadata": {},
     "output_type": "display_data"
    }
   ],
   "source": [
    "U = sqrt(F' * F)\n",
    "\n",
    "reshape(U.A[1][1:9], 3, 3)"
   ]
  },
  {
   "cell_type": "code",
   "execution_count": 392,
   "id": "49af293c",
   "metadata": {},
   "outputs": [
    {
     "data": {
      "text/plain": [
       "3×3 Matrix{Float64}:\n",
       " -122.128     0.0       0.0\n",
       "    0.0    -113.474     0.0\n",
       "    0.0       0.0    -108.773"
      ]
     },
     "metadata": {},
     "output_type": "display_data"
    }
   ],
   "source": [
    "Ex = 10\n",
    "νxy = 0.3\n",
    "λ = Ex * νxy / ((1 + νxy) * (1 - 2νxy))\n",
    "μ = Ex / (2 * (1 + νxy))\n",
    "I3 = FEM.unitTensor(F)\n",
    "iC = inv(F' * F)\n",
    "J1 = det(F)\n",
    "SII = μ * (I3 - iC) + λ * log(J1) / J1 * I3\n",
    "\n",
    "reshape(SII.A[1][1:9], 3, 3)"
   ]
  },
  {
   "cell_type": "code",
   "execution_count": 393,
   "id": "88fa00a0",
   "metadata": {},
   "outputs": [
    {
     "data": {
      "text/plain": [
       "probe (generic function with 1 method)"
      ]
     },
     "metadata": {},
     "output_type": "display_data"
    }
   ],
   "source": [
    "function probe(A, x, y, z)\n",
    "    elementTag, elementType, nodeTags, u, v, w = gmsh.model.mesh.getElementByCoordinates(x, y, z, 3, false)\n",
    "    elementName, dim, order, numNodes::Int64, localNodeCoord, numPrimaryNodes = gmsh.model.mesh.getElementProperties(elementType)\n",
    "    comp, fun, ori = gmsh.model.mesh.getBasisFunctions(elementType, [u, v, w], \"Lagrange\")\n",
    "    SS = [0.0, 0, 0, 0, 0, 0, 0, 0, 0]\n",
    "    if isa(A, FEM.TensorField)\n",
    "        ind = findfirst(i -> i == elementTag, SII.numElem)\n",
    "        for i in range(1, 9)\n",
    "            SS[i] = fun' * SII.A[ind][i:9:9numNodes, 1]\n",
    "        end\n",
    "    elseif isa(A, Matrix)\n",
    "        for i in range(1, 9)\n",
    "            SS[i] = fun' * A[9nodeTags.-(9-i), 1]\n",
    "        end\n",
    "    end\n",
    "    return reshape(SS, 3, 3)\n",
    "end"
   ]
  },
  {
   "cell_type": "code",
   "execution_count": 394,
   "id": "eb55a91c",
   "metadata": {},
   "outputs": [
    {
     "data": {
      "text/plain": [
       "LowLevelFEM.TensorField(Matrix{Float64}[], [-122.12805462500454; 0.0; … ; -4.2700885562489974e-16; -108.77335377030371;;], [0.0], Int64[], 1, :e)"
      ]
     },
     "metadata": {},
     "output_type": "display_data"
    }
   ],
   "source": [
    "SII2 = FEM.elementsToNodes(problem, SII)"
   ]
  },
  {
   "cell_type": "code",
   "execution_count": 395,
   "id": "0f94ba00",
   "metadata": {},
   "outputs": [
    {
     "data": {
      "text/plain": [
       "3×3 Matrix{Float64}:\n",
       " -122.128           8.7422e-27      5.04108e-15\n",
       "    8.7422e-27   -113.474          -4.55476e-15\n",
       "    5.04108e-15    -4.55476e-15  -108.773"
      ]
     },
     "metadata": {},
     "output_type": "display_data"
    }
   ],
   "source": [
    "probe(SII2, 0, 0, 0)"
   ]
  },
  {
   "cell_type": "code",
   "execution_count": 396,
   "id": "9eac2964",
   "metadata": {},
   "outputs": [
    {
     "data": {
      "text/plain": [
       "LowLevelFEM.ScalarField([[2.0; 2.0; … ; 2.0; 2.0;;], [2.0; 2.0; … ; 2.0; 2.0;;], [2.0; 2.0; … ; 2.0; 2.0;;], [2.0; 2.0; … ; 2.0; 2.0;;], [2.0; 2.0; … ; 2.0; 2.0;;], [2.0; 2.0; … ; 2.0; 2.0;;], [2.0; 2.0; … ; 2.0; 2.0;;], [2.0; 2.0; … ; 2.0; 2.0;;], [2.0; 2.0; … ; 2.0; 2.0;;], [2.0; 2.0; … ; 2.0; 2.0;;]  …  [2.0; 2.0; … ; 2.0; 2.0;;], [2.0; 2.0; … ; 2.0; 2.0;;], [2.0; 2.0; … ; 2.0; 2.0;;], [2.0; 2.0; … ; 2.0; 2.0;;], [2.0; 2.0; … ; 2.0; 2.0;;], [2.0; 2.0; … ; 2.0; 2.0;;], [2.0; 2.0; … ; 2.0; 2.0;;], [2.0; 2.0; … ; 2.0; 2.0;;], [2.0; 2.0; … ; 2.0; 2.0;;], [2.0; 2.0; … ; 2.0; 2.0;;]], Matrix{Float64}(undef, 0, 0), Float64[], [473, 474, 475, 476, 477, 478, 479, 480, 481, 482  …  783, 784, 785, 786, 787, 788, 789, 790, 791, 792], 1, :scalarInElements)"
      ]
     },
     "metadata": {},
     "output_type": "display_data"
    }
   ],
   "source": [
    "field = FEM.field(\"body\", f=2)\n",
    "sc = FEM.ScalarField(problem, [field])"
   ]
  },
  {
   "cell_type": "code",
   "execution_count": 397,
   "id": "b19e2ebf",
   "metadata": {},
   "outputs": [
    {
     "data": {
      "text/plain": [
       "LowLevelFEM.ScalarField([[0.11999999999999986; 0.11999999999999993; … ; 0.11999999999999986; 0.11999999999999986;;], [0.11999999999999986; 0.11999999999999993; … ; 0.11999999999999986; 0.11999999999999986;;], [0.11999999999999986; 0.11999999999999993; … ; 0.11999999999999986; 0.11999999999999986;;], [0.11999999999999986; 0.11999999999999993; … ; 0.11999999999999986; 0.11999999999999986;;], [0.11999999999999986; 0.11999999999999993; … ; 0.11999999999999986; 0.11999999999999986;;], [0.11999999999999986; 0.11999999999999993; … ; 0.11999999999999986; 0.11999999999999986;;], [0.11999999999999986; 0.11999999999999993; … ; 0.11999999999999986; 0.11999999999999986;;], [0.11999999999999986; 0.11999999999999993; … ; 0.11999999999999986; 0.11999999999999986;;], [0.11999999999999986; 0.11999999999999993; … ; 0.11999999999999986; 0.11999999999999986;;], [0.11999999999999986; 0.11999999999999993; … ; 0.11999999999999986; 0.11999999999999986;;]  …  [0.11999999999999986; 0.11999999999999993; … ; 0.11999999999999986; 0.11999999999999986;;], [0.11999999999999986; 0.11999999999999993; … ; 0.11999999999999986; 0.11999999999999986;;], [0.11999999999999986; 0.11999999999999993; … ; 0.11999999999999986; 0.11999999999999986;;], [0.11999999999999986; 0.11999999999999993; … ; 0.11999999999999986; 0.11999999999999986;;], [0.11999999999999986; 0.11999999999999993; … ; 0.11999999999999986; 0.11999999999999986;;], [0.11999999999999986; 0.11999999999999993; … ; 0.11999999999999986; 0.11999999999999986;;], [0.11999999999999986; 0.11999999999999993; … ; 0.11999999999999986; 0.11999999999999986;;], [0.11999999999999986; 0.11999999999999993; … ; 0.11999999999999986; 0.11999999999999986;;], [0.11999999999999986; 0.11999999999999993; … ; 0.11999999999999986; 0.11999999999999986;;], [0.11999999999999986; 0.11999999999999993; … ; 0.11999999999999986; 0.11999999999999986;;]], Matrix{Float64}(undef, 0, 0), [0.0], [473, 474, 475, 476, 477, 478, 479, 480, 481, 482  …  783, 784, 785, 786, 787, 788, 789, 790, 791, 792], 1, :sc)"
      ]
     },
     "metadata": {},
     "output_type": "display_data"
    }
   ],
   "source": [
    "I3 = FEM.unitTensor(F)\n",
    "J = det(F)"
   ]
  },
  {
   "cell_type": "code",
   "execution_count": 398,
   "id": "dfdb8e2d",
   "metadata": {},
   "outputs": [
    {
     "data": {
      "text/plain": [
       "LowLevelFEM.TensorField([[2.0; 0.0; … ; 0.0; 2.0;;], [2.0; 0.0; … ; 0.0; 2.0;;], [2.0; 0.0; … ; 0.0; 2.0;;], [2.0; 0.0; … ; 0.0; 2.0;;], [2.0; 0.0; … ; 0.0; 2.0;;], [2.0; 0.0; … ; 0.0; 2.0;;], [2.0; 0.0; … ; 0.0; 2.0;;], [2.0; 0.0; … ; 0.0; 2.0;;], [2.0; 0.0; … ; 0.0; 2.0;;], [2.0; 0.0; … ; 0.0; 2.0;;]  …  [2.0; 0.0; … ; 0.0; 2.0;;], [2.0; 0.0; … ; 0.0; 2.0;;], [2.0; 0.0; … ; 0.0; 2.0;;], [2.0; 0.0; … ; 0.0; 2.0;;], [2.0; 0.0; … ; 0.0; 2.0;;], [2.0; 0.0; … ; 0.0; 2.0;;], [2.0; 0.0; … ; 0.0; 2.0;;], [2.0; 0.0; … ; 0.0; 2.0;;], [2.0; 0.0; … ; 0.0; 2.0;;], [2.0; 0.0; … ; 0.0; 2.0;;]], Matrix{Float64}(undef, 0, 0), [0.0], [473, 474, 475, 476, 477, 478, 479, 480, 481, 482  …  783, 784, 785, 786, 787, 788, 789, 790, 791, 792], 1, :e)"
      ]
     },
     "metadata": {},
     "output_type": "display_data"
    }
   ],
   "source": [
    "sc * I3"
   ]
  },
  {
   "cell_type": "code",
   "execution_count": 399,
   "id": "b48019c3",
   "metadata": {},
   "outputs": [
    {
     "data": {
      "text/plain": [
       "LowLevelFEM.TensorField([[0.0; 0.0; … ; 0.0; 0.0;;], [0.0; 0.0; … ; 0.0; 0.0;;], [0.0; 0.0; … ; 0.0; 0.0;;], [0.0; 0.0; … ; 0.0; 0.0;;], [0.0; 0.0; … ; 0.0; 0.0;;], [0.0; 0.0; … ; 0.0; 0.0;;], [0.0; 0.0; … ; 0.0; 0.0;;], [0.0; 0.0; … ; 0.0; 0.0;;], [0.0; 0.0; … ; 0.0; 0.0;;], [0.0; 0.0; … ; 0.0; 0.0;;]  …  [0.0; 0.0; … ; 0.0; 0.0;;], [0.0; 0.0; … ; 0.0; 0.0;;], [0.0; 0.0; … ; 0.0; 0.0;;], [0.0; 0.0; … ; 0.0; 0.0;;], [0.0; 0.0; … ; 0.0; 0.0;;], [0.0; 0.0; … ; 0.0; 0.0;;], [0.0; 0.0; … ; 0.0; 0.0;;], [0.0; 0.0; … ; 0.0; 0.0;;], [0.0; 0.0; … ; 0.0; 0.0;;], [0.0; 0.0; … ; 0.0; 0.0;;]], Matrix{Float64}(undef, 0, 0), [0.0], [473, 474, 475, 476, 477, 478, 479, 480, 481, 482  …  783, 784, 785, 786, 787, 788, 789, 790, 791, 792], 1, :e)"
      ]
     },
     "metadata": {},
     "output_type": "display_data"
    }
   ],
   "source": [
    "I3 - I3"
   ]
  },
  {
   "cell_type": "code",
   "execution_count": 400,
   "id": "ff567b87",
   "metadata": {},
   "outputs": [
    {
     "data": {
      "text/plain": [
       "3×3 Matrix{Float64}:\n",
       " -162.837     0.0       0.0\n",
       "    0.0    -236.405     0.0\n",
       "    0.0       0.0    -326.32"
      ]
     },
     "metadata": {},
     "output_type": "display_data"
    }
   ],
   "source": [
    "σ = F * SII * F' / det(F)\n",
    "\n",
    "reshape(σ.A[1][1:9], 3, 3)"
   ]
  },
  {
   "cell_type": "code",
   "execution_count": 401,
   "id": "f1eee084",
   "metadata": {},
   "outputs": [
    {
     "data": {
      "text/plain": [
       "-119.05114807753088"
      ]
     },
     "metadata": {},
     "output_type": "display_data"
    }
   ],
   "source": [
    "J = 0.5 * 0.5 * 0.5\n",
    "μ / J * (J^(2 / 3) - 1) + λ / J * log(J)"
   ]
  },
  {
   "cell_type": "code",
   "execution_count": 402,
   "id": "32bc3809",
   "metadata": {},
   "outputs": [
    {
     "name": "stdout",
     "output_type": "stream",
     "text": [
      "-------------------------------------------------------\n",
      "Version       : 4.13.1\n",
      "License       : GNU General Public License\n",
      "Build OS      : Linux64-sdk\n",
      "Build date    : 19700101\n",
      "Build host    : amdci7.julia.csail.mit.edu\n",
      "Build options : 64Bit ALGLIB[contrib] ANN[contrib] Bamg Blossom Cairo DIntegration Dlopen DomHex Eigen[contrib] Fltk GMP Gmm[contrib] Hxt Jpeg Kbipack LinuxJoystick MathEx[contrib] Mesh Metis[contrib] Mmg Mpeg Netgen Nii2mesh ONELAB ONELABMetamodel OpenCASCADE OpenCASCADE-CAF OpenGL OpenMP OptHom Parser Plugins Png Post QuadMeshingTools QuadTri Solver TetGen/BR TinyXML2[contrib] Untangle Voro++[contrib] WinslowUntangler Zlib\n",
      "FLTK version  : 1.3.8\n",
      "OCC version   : 7.7.2\n",
      "Packaged by   : root\n",
      "Web site      : https://gmsh.info\n",
      "Issue tracker : https://gitlab.onelab.info/gmsh/gmsh/issues\n",
      "-------------------------------------------------------\n"
     ]
    },
    {
     "name": "stderr",
     "output_type": "stream",
     "text": [
      "XRequest.18: BadValue 0x0\n"
     ]
    }
   ],
   "source": [
    "FEM.openPostProcessor()"
   ]
  },
  {
   "cell_type": "code",
   "execution_count": 403,
   "id": "7b517a53",
   "metadata": {},
   "outputs": [],
   "source": [
    "gmsh.finalize()"
   ]
  }
 ],
 "metadata": {
  "kernelspec": {
   "display_name": "Julia 1.11.5",
   "language": "julia",
   "name": "julia-1.11"
  },
  "language_info": {
   "file_extension": ".jl",
   "mimetype": "application/julia",
   "name": "julia",
   "version": "1.11.5"
  }
 },
 "nbformat": 4,
 "nbformat_minor": 5
}
