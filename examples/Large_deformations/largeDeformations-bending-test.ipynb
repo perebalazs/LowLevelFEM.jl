{
 "cells": [
  {
   "cell_type": "code",
   "execution_count": 465,
   "id": "79fd9685",
   "metadata": {},
   "outputs": [],
   "source": [
    "using LowLevelFEM\n",
    "import LowLevelFEM as FEM\n",
    "\n",
    "gmsh.initialize()"
   ]
  },
  {
   "cell_type": "code",
   "execution_count": 466,
   "id": "22283e0a",
   "metadata": {},
   "outputs": [],
   "source": [
    "using SparseArrays, LinearAlgebra"
   ]
  },
  {
   "cell_type": "code",
   "execution_count": 467,
   "id": "fa18250b",
   "metadata": {},
   "outputs": [
    {
     "name": "stdout",
     "output_type": "stream",
     "text": [
      "Info    : Reading 'body2.geo'...\n",
      "Info    : Meshing 1D...\n",
      "Info    : [  0%] Meshing curve 1 (Line)\n",
      "Info    : [ 10%] Meshing curve 2 (Line)\n",
      "Info    : [ 20%] Meshing curve 3 (Line)\n",
      "Info    : [ 30%] Meshing curve 4 (Line)\n",
      "Info    : [ 40%] Meshing curve 5 (Line)\n",
      "Info    : [ 50%] Meshing curve 6 (Line)\n",
      "Info    : [ 60%] Meshing curve 7 (Line)\n",
      "Info    : [ 60%] Meshing curve 8 (Line)\n",
      "Info    : [ 70%] Meshing curve 9 (Line)\n",
      "Info    : [ 80%] Meshing curve 10 (Line)\n",
      "Info    : [ 90%] Meshing curve 11 (Line)\n",
      "Info    : [100%] Meshing curve 12 (Line)\n",
      "Info    : Done meshing 1D (Wall 0.00253651s, CPU 0.002522s)\n",
      "Info    : Meshing 2D...\n",
      "Info    : [  0%] Meshing surface 1 (Transfinite)\n",
      "Info    : [ 20%] Meshing surface 2 (Transfinite)\n",
      "Info    : [ 40%] Meshing surface 3 (Transfinite)\n",
      "Info    : [ 60%] Meshing surface 4 (Transfinite)\n",
      "Info    : [ 70%] Meshing surface 5 (Transfinite)\n",
      "Info    : [ 90%] Meshing surface 6 (Transfinite)\n",
      "Info    : Done meshing 2D (Wall 0.000783857s, CPU 0.000781s)\n",
      "Info    : Meshing 3D...\n",
      "Info    : Meshing volume 1 (Transfinite)\n",
      "Info    : Done meshing 3D (Wall 0.00274607s, CPU 0.00253s)\n",
      "Info    : Optimizing mesh...\n",
      "Info    : Done optimizing mesh (Wall 8.2965e-05s, CPU 9.4e-05s)\n",
      "Info    : 275 nodes 432 elements\n",
      "Info    : Done reading 'body2.geo'\n"
     ]
    }
   ],
   "source": [
    "gmsh.open(\"body2.geo\")"
   ]
  },
  {
   "cell_type": "code",
   "execution_count": 468,
   "id": "936f1fab",
   "metadata": {},
   "outputs": [
    {
     "name": "stdout",
     "output_type": "stream",
     "text": [
      "Info    : RCMK renumbering...\n",
      "Info    : Done RCMK renumbering (bandwidth is now 61)\n",
      "Info    : RCMK renumbering...\n",
      "Info    : Done RCMK renumbering (bandwidth is now 61)\n",
      "Info    : RCMK renumbering...\n",
      "Info    : Done RCMK renumbering (bandwidth is now 61)\n"
     ]
    },
    {
     "data": {
      "text/plain": [
       "LowLevelFEM.Problem(\"body2\", :NeoHookeCompressible, 3, 3, LowLevelFEM.Material[LowLevelFEM.Material(\"body\", 260.0, 0.3, 7.85e-9, 45.0, 4.2e8, 1.2e-5, 150.0, 100.0, 216.66666666666666)], 1.0, 275)"
      ]
     },
     "metadata": {},
     "output_type": "display_data"
    }
   ],
   "source": [
    "mat = FEM.material(\"body\", E=260, ν=0.3)\n",
    "hooke = FEM.Problem([mat], type=:Solid)\n",
    "stvenkir = FEM.Problem([mat], type=:StVenantKirchhoff)\n",
    "neohooke = FEM.Problem([mat], type=:NeoHookeCompressible)"
   ]
  },
  {
   "cell_type": "code",
   "execution_count": 469,
   "id": "c2a10dc9",
   "metadata": {},
   "outputs": [
    {
     "data": {
      "text/plain": [
       "LowLevelFEM.TensorField([[-12.365837411193727; -7.748296676922499; … ; 0.7658762241936724; 2.360417552822367;;], [-7.632883435065203; -7.332725421401482; … ; 0.4885538458550921; 0.10003700370271962;;], [-7.212297152118579; -6.632510880453079; … ; 0.4704017534532201; 0.3893222091452655;;], [-6.151779787148401; -5.740449843088413; … ; 0.3933631690103365; 0.22014804164611035;;], [-5.177780028499555; -4.931246318947213; … ; 0.330353255985418; 0.14813176916989357;;], [-4.193554083411257; -4.099815459056799; … ; 0.2636540670865677; 0.05263213016857793;;], [-3.2086084077573673; -3.27313087786103; … ; 0.19752718714722814; -0.03854776102930235;;], [-2.2322557322572045; -2.4447127297669624; … ; 0.13316277169061935; -0.12121908245057844;;], [-1.2194976364027623; -1.6176938330276336; … ; 0.06086972392696398; -0.2601465590016575;;], [-0.3369466870446143; -0.8067836413202301; … ; 0.019079804210832437; -0.09391364736091773;;]  …  [25.603720152211828; -7.788155061750461; … ; 0.6492786338023582; -1.7872154962071836;;], [17.427865711959658; -7.197317134919262; … ; 0.5061505958067634; 1.843857285519658;;], [16.80418832351909; -6.698717653306097; … ; 0.43983391077611; 1.0611887085355503;;], [14.16023923531532; -5.739638681344861; … ; 0.3817856364878431; 1.118322160336287;;], [12.012049279206568; -4.946910378170366; … ; 0.3163262985837868; 1.011212954789047;;], [9.751691466110763; -4.112028912927501; … ; 0.2535710104000558; 0.9377020226456461;;], [7.51513162932959; -3.285806296281546; … ; 0.19005928568135996; 0.86034276261697;;], [5.274094115244805; -2.4582659239815285; … ; 0.12714333252666918; 0.7661108855011356;;], [3.0199931175702717; -1.628146967944133; … ; 0.059582679836884526; 0.7664603476978957;;], [0.9286593728393555; -0.8228247889906726; … ; 0.024568194578464948; 0.2636406234547859;;]], Matrix{Float64}(undef, 0, 0), [273, 274, 275, 276, 277, 278, 279, 280, 281, 282  …  423, 424, 425, 426, 427, 428, 429, 430, 431, 432], 1, :s)"
      ]
     },
     "metadata": {},
     "output_type": "display_data"
    }
   ],
   "source": [
    "supp = FEM.displacementConstraint(\"left\", ux=0, uy=0, uz=0)\n",
    "suppL = FEM.displacementConstraint(\"left\", ux=0)\n",
    "suppB = FEM.displacementConstraint(\"bottom\", uy=0)\n",
    "suppF = FEM.displacementConstraint(\"front\", uz=0)\n",
    "traction = FEM.load(\"right\", fy=-0.5)\n",
    "#bodyforce = FEM.load(\"body\", fx=1)\n",
    "\n",
    "problem = hooke\n",
    "q = FEM.solveDisplacement(problem, [traction], [supp])\n",
    "S = FEM.solveStress(problem, q)"
   ]
  },
  {
   "cell_type": "code",
   "execution_count": 470,
   "id": "5ff50776",
   "metadata": {},
   "outputs": [
    {
     "name": "stdout",
     "output_type": "stream",
     "text": [
      "Info    : Running Plugin(Smooth)...\n",
      "Info    : Done running Plugin(Smooth)\n"
     ]
    },
    {
     "data": {
      "text/plain": [
       "1"
      ]
     },
     "metadata": {},
     "output_type": "display_data"
    }
   ],
   "source": [
    "u1 = FEM.showDoFResults(problem, q, :uvec)\n",
    "S1 = FEM.showElementResults(problem, S, :s)"
   ]
  },
  {
   "cell_type": "code",
   "execution_count": 471,
   "id": "970e4fc4",
   "metadata": {},
   "outputs": [
    {
     "data": {
      "text/plain": [
       "LowLevelFEM.Problem(\"body2\", :NeoHookeCompressible, 3, 3, LowLevelFEM.Material[LowLevelFEM.Material(\"body\", 260.0, 0.3, 7.85e-9, 45.0, 4.2e8, 1.2e-5, 150.0, 100.0, 216.66666666666666)], 1.0, 275)"
      ]
     },
     "metadata": {},
     "output_type": "display_data"
    }
   ],
   "source": [
    "problem = stvenkir\n",
    "problem = neohooke"
   ]
  },
  {
   "cell_type": "code",
   "execution_count": 472,
   "id": "02d09772",
   "metadata": {},
   "outputs": [
    {
     "ename": "DomainError",
     "evalue": "DomainError with -1.3860234934132827:\nlog was called with a negative real argument but will only return a complex result if called with a complex argument. Try log(Complex(x)).",
     "output_type": "error",
     "traceback": [
      "DomainError with -1.3860234934132827:\n",
      "log was called with a negative real argument but will only return a complex result if called with a complex argument. Try log(Complex(x)).\n",
      "\n",
      "Stacktrace:\n",
      " [1] throw_complex_domainerror(f::Symbol, x::Float64)\n",
      "   @ Base.Math ./math.jl:33\n",
      " [2] _log\n",
      "   @ ./special/log.jl:295 [inlined]\n",
      " [3] log(x::Float64)\n",
      "   @ Base.Math ./special/log.jl:261\n",
      " [4] stiffnessMatrixLinear(problem::LowLevelFEM.Problem, r::Vector{Float64})\n",
      "   @ LowLevelFEM ~/Dokumentumok/GitHub/LowLevelFEM.jl/src/nonlinear.jl:274\n",
      " [5] top-level scope\n",
      "   @ ~/Dokumentumok/GitHub/LowLevelFEM.jl/examples/Large_deformations/jl_notebook_cell_df34fa98e69747e1a8f8a730347b8e2f_X10sZmlsZQ==.jl:25"
     ]
    }
   ],
   "source": [
    "followerLoad = true\n",
    "loadSteps = 3\n",
    "firstStep = 0.1\n",
    "maxIteration = 20\n",
    "saveSteps = true\n",
    "saveIterations = false\n",
    "plotConvergence = true\n",
    "ε = 1e-5\n",
    "\n",
    "r0 = FEM.nodePositionVector(problem)\n",
    "err0 = abs(maximum(r0) - minimum(r0))\n",
    "f = FEM.loadVector(problem, [traction])\n",
    "r = []\n",
    "r1 = []\n",
    "push!(r, r0)\n",
    "e = []\n",
    "\n",
    "for j in range(1, loadSteps)\n",
    "    fact = j / loadSteps\n",
    "    err = 1\n",
    "    i = 0\n",
    "    while err > ε && i < maxIteration\n",
    "        i += 1\n",
    "\n",
    "        Kl = FEM.stiffnessMatrixLinear(problem, r0)\n",
    "        Knl = FEM.stiffnessMatrixNonLinear(problem, r0)\n",
    "        if followerLoad == true\n",
    "            f = FEM.followerLoadVector(problem, r0, [traction])\n",
    "        end\n",
    "        fnl = FEM.loadVectorNonLinear(problem, r0)\n",
    "        K1, f1 = FEM.applyBoundaryConditions(problem, Kl + Knl, fact * f - fnl, [supp])\n",
    "        q = FEM.solveDisplacement(K1, f1)\n",
    "        r0 += q\n",
    "        if saveIterations == true\n",
    "            push!(r, r0)\n",
    "        end\n",
    "        err = maximum(abs.(q)) / err0\n",
    "        if plotConvergence == true\n",
    "            append!(e, err)\n",
    "        end\n",
    "    end\n",
    "    if saveSteps == true\n",
    "        push!(r, r0)\n",
    "    end\n",
    "end\n",
    "if saveIterations == true || saveSteps == true\n",
    "    n = length(r)\n",
    "    r1 = zeros(length(r0), n)\n",
    "    for i in 1:n\n",
    "        r1[:, i] = r[i]\n",
    "    end\n",
    "else\n",
    "    r1 = zeros(length(r0), 1)\n",
    "    r1 = r0\n",
    "end"
   ]
  },
  {
   "cell_type": "code",
   "execution_count": 473,
   "id": "1866e2da",
   "metadata": {},
   "outputs": [
    {
     "data": {
      "image/png": "[encoded data removed]",
      "image/svg+xml": [
       "<?xml version=\"1.0\" encoding=\"utf-8\"?>\n",
       "<svg xmlns=\"http://www.w3.org/2000/svg\" xmlns:xlink=\"http://www.w3.org/1999/xlink\" width=\"600\" height=\"400\" viewBox=\"0 0 2400 1600\">\n",
       "<defs>\n",
       "  <clipPath id=\"clip040\">\n",
       "    <rect x=\"0\" y=\"0\" width=\"2400\" height=\"1600\"/>\n",
       "  </clipPath>\n",
       "</defs>\n",
       "<path clip-path=\"url(#clip040)\" d=\"M0 1600 L2400 1600 L2400 0 L0 0  Z\" fill=\"#ffffff\" fill-rule=\"evenodd\" fill-opacity=\"1\"/>\n",
       "<defs>\n",
       "  <clipPath id=\"clip041\">\n",
       "    <rect x=\"480\" y=\"0\" width=\"1681\" height=\"1600\"/>\n",
       "  </clipPath>\n",
       "</defs>\n",
       "<path clip-path=\"url(#clip040)\" d=\"M147.478 1486.45 L2352.76 1486.45 L2352.76 47.2441 L147.478 47.2441  Z\" fill=\"#ffffff\" fill-rule=\"evenodd\" fill-opacity=\"1\"/>\n",
       "<defs>\n",
       "  <clipPath id=\"clip042\">\n",
       "    <rect x=\"147\" y=\"47\" width=\"2206\" height=\"1440\"/>\n",
       "  </clipPath>\n",
       "</defs>\n",
       "<polyline clip-path=\"url(#clip042)\" style=\"stroke:#000000; stroke-linecap:round; stroke-linejoin:round; stroke-width:2; stroke-opacity:0.1; fill:none\" points=\"571.709,1486.45 571.709,47.2441 \"/>\n",
       "<polyline clip-path=\"url(#clip042)\" style=\"stroke:#000000; stroke-linecap:round; stroke-linejoin:round; stroke-width:2; stroke-opacity:0.1; fill:none\" points=\"1023.98,1486.45 1023.98,47.2441 \"/>\n",
       "<polyline clip-path=\"url(#clip042)\" style=\"stroke:#000000; stroke-linecap:round; stroke-linejoin:round; stroke-width:2; stroke-opacity:0.1; fill:none\" points=\"1476.25,1486.45 1476.25,47.2441 \"/>\n",
       "<polyline clip-path=\"url(#clip042)\" style=\"stroke:#000000; stroke-linecap:round; stroke-linejoin:round; stroke-width:2; stroke-opacity:0.1; fill:none\" points=\"1928.52,1486.45 1928.52,47.2441 \"/>\n",
       "<polyline clip-path=\"url(#clip042)\" style=\"stroke:#000000; stroke-linecap:round; stroke-linejoin:round; stroke-width:2; stroke-opacity:0.1; fill:none\" points=\"147.478,1242.69 2352.76,1242.69 \"/>\n",
       "<polyline clip-path=\"url(#clip042)\" style=\"stroke:#000000; stroke-linecap:round; stroke-linejoin:round; stroke-width:2; stroke-opacity:0.1; fill:none\" points=\"147.478,861.21 2352.76,861.21 \"/>\n",
       "<polyline clip-path=\"url(#clip042)\" style=\"stroke:#000000; stroke-linecap:round; stroke-linejoin:round; stroke-width:2; stroke-opacity:0.1; fill:none\" points=\"147.478,479.733 2352.76,479.733 \"/>\n",
       "<polyline clip-path=\"url(#clip042)\" style=\"stroke:#000000; stroke-linecap:round; stroke-linejoin:round; stroke-width:2; stroke-opacity:0.1; fill:none\" points=\"147.478,98.2572 2352.76,98.2572 \"/>\n",
       "<polyline clip-path=\"url(#clip040)\" style=\"stroke:#000000; stroke-linecap:round; stroke-linejoin:round; stroke-width:4; stroke-opacity:1; fill:none\" points=\"147.478,1486.45 2352.76,1486.45 \"/>\n",
       "<polyline clip-path=\"url(#clip040)\" style=\"stroke:#000000; stroke-linecap:round; stroke-linejoin:round; stroke-width:4; stroke-opacity:1; fill:none\" points=\"571.709,1486.45 571.709,1467.55 \"/>\n",
       "<polyline clip-path=\"url(#clip040)\" style=\"stroke:#000000; stroke-linecap:round; stroke-linejoin:round; stroke-width:4; stroke-opacity:1; fill:none\" points=\"1023.98,1486.45 1023.98,1467.55 \"/>\n",
       "<polyline clip-path=\"url(#clip040)\" style=\"stroke:#000000; stroke-linecap:round; stroke-linejoin:round; stroke-width:4; stroke-opacity:1; fill:none\" points=\"1476.25,1486.45 1476.25,1467.55 \"/>\n",
       "<polyline clip-path=\"url(#clip040)\" style=\"stroke:#000000; stroke-linecap:round; stroke-linejoin:round; stroke-width:4; stroke-opacity:1; fill:none\" points=\"1928.52,1486.45 1928.52,1467.55 \"/>\n",
       "<path clip-path=\"url(#clip040)\" d=\"M561.987 1514.29 L580.343 1514.29 L580.343 1518.22 L566.269 1518.22 L566.269 1526.7 Q567.288 1526.35 568.306 1526.19 Q569.325 1526 570.343 1526 Q576.13 1526 579.51 1529.17 Q582.889 1532.34 582.889 1537.76 Q582.889 1543.34 579.417 1546.44 Q575.945 1549.52 569.626 1549.52 Q567.45 1549.52 565.181 1549.15 Q562.936 1548.78 560.528 1548.04 L560.528 1543.34 Q562.612 1544.47 564.834 1545.03 Q567.056 1545.58 569.533 1545.58 Q573.538 1545.58 575.876 1543.48 Q578.214 1541.37 578.214 1537.76 Q578.214 1534.15 575.876 1532.04 Q573.538 1529.94 569.533 1529.94 Q567.658 1529.94 565.783 1530.35 Q563.931 1530.77 561.987 1531.65 L561.987 1514.29 Z\" fill=\"#000000\" fill-rule=\"nonzero\" fill-opacity=\"1\" /><path clip-path=\"url(#clip040)\" d=\"M998.669 1544.91 L1006.31 1544.91 L1006.31 1518.55 L997.997 1520.21 L997.997 1515.95 L1006.26 1514.29 L1010.94 1514.29 L1010.94 1544.91 L1018.58 1544.91 L1018.58 1548.85 L998.669 1548.85 L998.669 1544.91 Z\" fill=\"#000000\" fill-rule=\"nonzero\" fill-opacity=\"1\" /><path clip-path=\"url(#clip040)\" d=\"M1038.02 1517.37 Q1034.41 1517.37 1032.58 1520.93 Q1030.77 1524.47 1030.77 1531.6 Q1030.77 1538.71 1032.58 1542.27 Q1034.41 1545.82 1038.02 1545.82 Q1041.65 1545.82 1043.46 1542.27 Q1045.29 1538.71 1045.29 1531.6 Q1045.29 1524.47 1043.46 1520.93 Q1041.65 1517.37 1038.02 1517.37 M1038.02 1513.66 Q1043.83 1513.66 1046.89 1518.27 Q1049.96 1522.85 1049.96 1531.6 Q1049.96 1540.33 1046.89 1544.94 Q1043.83 1549.52 1038.02 1549.52 Q1032.21 1549.52 1029.13 1544.94 Q1026.08 1540.33 1026.08 1531.6 Q1026.08 1522.85 1029.13 1518.27 Q1032.21 1513.66 1038.02 1513.66 Z\" fill=\"#000000\" fill-rule=\"nonzero\" fill-opacity=\"1\" /><path clip-path=\"url(#clip040)\" d=\"M1451.44 1544.91 L1459.08 1544.91 L1459.08 1518.55 L1450.77 1520.21 L1450.77 1515.95 L1459.03 1514.29 L1463.71 1514.29 L1463.71 1544.91 L1471.35 1544.91 L1471.35 1548.85 L1451.44 1548.85 L1451.44 1544.91 Z\" fill=\"#000000\" fill-rule=\"nonzero\" fill-opacity=\"1\" /><path clip-path=\"url(#clip040)\" d=\"M1480.84 1514.29 L1499.19 1514.29 L1499.19 1518.22 L1485.12 1518.22 L1485.12 1526.7 Q1486.14 1526.35 1487.16 1526.19 Q1488.17 1526 1489.19 1526 Q1494.98 1526 1498.36 1529.17 Q1501.74 1532.34 1501.74 1537.76 Q1501.74 1543.34 1498.27 1546.44 Q1494.79 1549.52 1488.48 1549.52 Q1486.3 1549.52 1484.03 1549.15 Q1481.79 1548.78 1479.38 1548.04 L1479.38 1543.34 Q1481.46 1544.47 1483.68 1545.03 Q1485.91 1545.58 1488.38 1545.58 Q1492.39 1545.58 1494.73 1543.48 Q1497.06 1541.37 1497.06 1537.76 Q1497.06 1534.15 1494.73 1532.04 Q1492.39 1529.94 1488.38 1529.94 Q1486.51 1529.94 1484.63 1530.35 Q1482.78 1530.77 1480.84 1531.65 L1480.84 1514.29 Z\" fill=\"#000000\" fill-rule=\"nonzero\" fill-opacity=\"1\" /><path clip-path=\"url(#clip040)\" d=\"M1907.3 1544.91 L1923.62 1544.91 L1923.62 1548.85 L1901.67 1548.85 L1901.67 1544.91 Q1904.34 1542.16 1908.92 1537.53 Q1913.52 1532.88 1914.71 1531.53 Q1916.95 1529.01 1917.83 1527.27 Q1918.73 1525.51 1918.73 1523.82 Q1918.73 1521.07 1916.79 1519.33 Q1914.87 1517.6 1911.77 1517.6 Q1909.57 1517.6 1907.11 1518.36 Q1904.68 1519.13 1901.9 1520.68 L1901.9 1515.95 Q1904.73 1514.82 1907.18 1514.24 Q1909.64 1513.66 1911.67 1513.66 Q1917.04 1513.66 1920.24 1516.35 Q1923.43 1519.03 1923.43 1523.52 Q1923.43 1525.65 1922.62 1527.57 Q1921.84 1529.47 1919.73 1532.07 Q1919.15 1532.74 1916.05 1535.95 Q1912.95 1539.15 1907.3 1544.91 Z\" fill=\"#000000\" fill-rule=\"nonzero\" fill-opacity=\"1\" /><path clip-path=\"url(#clip040)\" d=\"M1943.43 1517.37 Q1939.82 1517.37 1937.99 1520.93 Q1936.19 1524.47 1936.19 1531.6 Q1936.19 1538.71 1937.99 1542.27 Q1939.82 1545.82 1943.43 1545.82 Q1947.07 1545.82 1948.87 1542.27 Q1950.7 1538.71 1950.7 1531.6 Q1950.7 1524.47 1948.87 1520.93 Q1947.07 1517.37 1943.43 1517.37 M1943.43 1513.66 Q1949.24 1513.66 1952.3 1518.27 Q1955.38 1522.85 1955.38 1531.6 Q1955.38 1540.33 1952.3 1544.94 Q1949.24 1549.52 1943.43 1549.52 Q1937.62 1549.52 1934.54 1544.94 Q1931.49 1540.33 1931.49 1531.6 Q1931.49 1522.85 1934.54 1518.27 Q1937.62 1513.66 1943.43 1513.66 Z\" fill=\"#000000\" fill-rule=\"nonzero\" fill-opacity=\"1\" /><polyline clip-path=\"url(#clip040)\" style=\"stroke:#000000; stroke-linecap:round; stroke-linejoin:round; stroke-width:4; stroke-opacity:1; fill:none\" points=\"147.478,1486.45 147.478,47.2441 \"/>\n",
       "<polyline clip-path=\"url(#clip040)\" style=\"stroke:#000000; stroke-linecap:round; stroke-linejoin:round; stroke-width:4; stroke-opacity:1; fill:none\" points=\"147.478,1242.69 166.376,1242.69 \"/>\n",
       "<polyline clip-path=\"url(#clip040)\" style=\"stroke:#000000; stroke-linecap:round; stroke-linejoin:round; stroke-width:4; stroke-opacity:1; fill:none\" points=\"147.478,861.21 166.376,861.21 \"/>\n",
       "<polyline clip-path=\"url(#clip040)\" style=\"stroke:#000000; stroke-linecap:round; stroke-linejoin:round; stroke-width:4; stroke-opacity:1; fill:none\" points=\"147.478,479.733 166.376,479.733 \"/>\n",
       "<polyline clip-path=\"url(#clip040)\" style=\"stroke:#000000; stroke-linecap:round; stroke-linejoin:round; stroke-width:4; stroke-opacity:1; fill:none\" points=\"147.478,98.2572 166.376,98.2572 \"/>\n",
       "<path clip-path=\"url(#clip040)\" d=\"M51.3625 1243.14 L81.0383 1243.14 L81.0383 1247.07 L51.3625 1247.07 L51.3625 1243.14 Z\" fill=\"#000000\" fill-rule=\"nonzero\" fill-opacity=\"1\" /><path clip-path=\"url(#clip040)\" d=\"M95.1586 1256.03 L111.478 1256.03 L111.478 1259.97 L89.5336 1259.97 L89.5336 1256.03 Q92.1956 1253.28 96.7789 1248.65 Q101.385 1243.99 102.566 1242.65 Q104.811 1240.13 105.691 1238.39 Q106.594 1236.63 106.594 1234.94 Q106.594 1232.19 104.649 1230.45 Q102.728 1228.72 99.6261 1228.72 Q97.4271 1228.72 94.9734 1229.48 Q92.5428 1230.24 89.7651 1231.79 L89.7651 1227.07 Q92.5891 1225.94 95.0428 1225.36 Q97.4965 1224.78 99.5335 1224.78 Q104.904 1224.78 108.098 1227.47 Q111.293 1230.15 111.293 1234.64 Q111.293 1236.77 110.483 1238.69 Q109.696 1240.59 107.589 1243.18 Q107.01 1243.85 103.909 1247.07 Q100.807 1250.27 95.1586 1256.03 Z\" fill=\"#000000\" fill-rule=\"nonzero\" fill-opacity=\"1\" /><path clip-path=\"url(#clip040)\" d=\"M50.9921 861.661 L80.6679 861.661 L80.6679 865.596 L50.9921 865.596 L50.9921 861.661 Z\" fill=\"#000000\" fill-rule=\"nonzero\" fill-opacity=\"1\" /><path clip-path=\"url(#clip040)\" d=\"M91.5706 874.554 L99.2095 874.554 L99.2095 848.189 L90.8993 849.855 L90.8993 845.596 L99.1632 843.93 L103.839 843.93 L103.839 874.554 L111.478 874.554 L111.478 878.49 L91.5706 878.49 L91.5706 874.554 Z\" fill=\"#000000\" fill-rule=\"nonzero\" fill-opacity=\"1\" /><path clip-path=\"url(#clip040)\" d=\"M99.5335 465.532 Q95.9224 465.532 94.0937 469.097 Q92.2882 472.639 92.2882 479.768 Q92.2882 486.875 94.0937 490.439 Q95.9224 493.981 99.5335 493.981 Q103.168 493.981 104.973 490.439 Q106.802 486.875 106.802 479.768 Q106.802 472.639 104.973 469.097 Q103.168 465.532 99.5335 465.532 M99.5335 461.828 Q105.344 461.828 108.399 466.435 Q111.478 471.018 111.478 479.768 Q111.478 488.495 108.399 493.101 Q105.344 497.685 99.5335 497.685 Q93.7234 497.685 90.6447 493.101 Q87.5892 488.495 87.5892 479.768 Q87.5892 471.018 90.6447 466.435 Q93.7234 461.828 99.5335 461.828 Z\" fill=\"#000000\" fill-rule=\"nonzero\" fill-opacity=\"1\" /><path clip-path=\"url(#clip040)\" d=\"M91.5706 111.602 L99.2095 111.602 L99.2095 85.2365 L90.8993 86.9031 L90.8993 82.6439 L99.1632 80.9772 L103.839 80.9772 L103.839 111.602 L111.478 111.602 L111.478 115.537 L91.5706 115.537 L91.5706 111.602 Z\" fill=\"#000000\" fill-rule=\"nonzero\" fill-opacity=\"1\" /><polyline clip-path=\"url(#clip042)\" style=\"stroke:#009af9; stroke-linecap:round; stroke-linejoin:round; stroke-width:4; stroke-opacity:1; fill:none\" points=\"209.891,720.526 300.346,1051.45 390.8,1181.72 481.255,981.263 571.709,1445.72 662.163,1284.81 752.618,1317.06 843.072,1328.54 933.527,1330.36 1023.98,1330.6 1114.44,1330.4 1204.89,1331.01 1295.34,1331.25 1385.8,1330.6 1476.25,1330.06 1566.71,1329.36 1657.16,1328.49 1747.62,1327.89 1838.07,1327.18 1928.52,1326.55 2018.98,760.02 2109.43,1114.99 2199.89,93.7673 2290.34,87.9763 \"/>\n",
       "<path clip-path=\"url(#clip040)\" d=\"M220.987 198.898 L493.945 198.898 L493.945 95.2176 L220.987 95.2176  Z\" fill=\"#ffffff\" fill-rule=\"evenodd\" fill-opacity=\"1\"/>\n",
       "<polyline clip-path=\"url(#clip040)\" style=\"stroke:#000000; stroke-linecap:round; stroke-linejoin:round; stroke-width:4; stroke-opacity:1; fill:none\" points=\"220.987,198.898 493.945,198.898 493.945,95.2176 220.987,95.2176 220.987,198.898 \"/>\n",
       "<polyline clip-path=\"url(#clip040)\" style=\"stroke:#009af9; stroke-linecap:round; stroke-linejoin:round; stroke-width:4; stroke-opacity:1; fill:none\" points=\"245.49,147.058 392.509,147.058 \"/>\n",
       "<path clip-path=\"url(#clip040)\" d=\"M430.854 166.745 Q429.049 171.375 427.336 172.787 Q425.623 174.199 422.753 174.199 L419.35 174.199 L419.35 170.634 L421.85 170.634 Q423.609 170.634 424.581 169.8 Q425.554 168.967 426.734 165.865 L427.498 163.921 L417.012 138.412 L421.526 138.412 L429.628 158.689 L437.729 138.412 L442.243 138.412 L430.854 166.745 Z\" fill=\"#000000\" fill-rule=\"nonzero\" fill-opacity=\"1\" /><path clip-path=\"url(#clip040)\" d=\"M449.535 160.402 L457.174 160.402 L457.174 134.037 L448.864 135.703 L448.864 131.444 L457.127 129.778 L461.803 129.778 L461.803 160.402 L469.442 160.402 L469.442 164.338 L449.535 164.338 L449.535 160.402 Z\" fill=\"#000000\" fill-rule=\"nonzero\" fill-opacity=\"1\" /></svg>\n"
      ],
      "text/html": [
       "<?xml version=\"1.0\" encoding=\"utf-8\"?>\n",
       "<svg xmlns=\"http://www.w3.org/2000/svg\" xmlns:xlink=\"http://www.w3.org/1999/xlink\" width=\"600\" height=\"400\" viewBox=\"0 0 2400 1600\">\n",
       "<defs>\n",
       "  <clipPath id=\"clip090\">\n",
       "    <rect x=\"0\" y=\"0\" width=\"2400\" height=\"1600\"/>\n",
       "  </clipPath>\n",
       "</defs>\n",
       "<path clip-path=\"url(#clip090)\" d=\"M0 1600 L2400 1600 L2400 0 L0 0  Z\" fill=\"#ffffff\" fill-rule=\"evenodd\" fill-opacity=\"1\"/>\n",
       "<defs>\n",
       "  <clipPath id=\"clip091\">\n",
       "    <rect x=\"480\" y=\"0\" width=\"1681\" height=\"1600\"/>\n",
       "  </clipPath>\n",
       "</defs>\n",
       "<path clip-path=\"url(#clip090)\" d=\"M147.478 1486.45 L2352.76 1486.45 L2352.76 47.2441 L147.478 47.2441  Z\" fill=\"#ffffff\" fill-rule=\"evenodd\" fill-opacity=\"1\"/>\n",
       "<defs>\n",
       "  <clipPath id=\"clip092\">\n",
       "    <rect x=\"147\" y=\"47\" width=\"2206\" height=\"1440\"/>\n",
       "  </clipPath>\n",
       "</defs>\n",
       "<polyline clip-path=\"url(#clip092)\" style=\"stroke:#000000; stroke-linecap:round; stroke-linejoin:round; stroke-width:2; stroke-opacity:0.1; fill:none\" points=\"571.709,1486.45 571.709,47.2441 \"/>\n",
       "<polyline clip-path=\"url(#clip092)\" style=\"stroke:#000000; stroke-linecap:round; stroke-linejoin:round; stroke-width:2; stroke-opacity:0.1; fill:none\" points=\"1023.98,1486.45 1023.98,47.2441 \"/>\n",
       "<polyline clip-path=\"url(#clip092)\" style=\"stroke:#000000; stroke-linecap:round; stroke-linejoin:round; stroke-width:2; stroke-opacity:0.1; fill:none\" points=\"1476.25,1486.45 1476.25,47.2441 \"/>\n",
       "<polyline clip-path=\"url(#clip092)\" style=\"stroke:#000000; stroke-linecap:round; stroke-linejoin:round; stroke-width:2; stroke-opacity:0.1; fill:none\" points=\"1928.52,1486.45 1928.52,47.2441 \"/>\n",
       "<polyline clip-path=\"url(#clip092)\" style=\"stroke:#000000; stroke-linecap:round; stroke-linejoin:round; stroke-width:2; stroke-opacity:0.1; fill:none\" points=\"147.478,1242.69 2352.76,1242.69 \"/>\n",
       "<polyline clip-path=\"url(#clip092)\" style=\"stroke:#000000; stroke-linecap:round; stroke-linejoin:round; stroke-width:2; stroke-opacity:0.1; fill:none\" points=\"147.478,861.21 2352.76,861.21 \"/>\n",
       "<polyline clip-path=\"url(#clip092)\" style=\"stroke:#000000; stroke-linecap:round; stroke-linejoin:round; stroke-width:2; stroke-opacity:0.1; fill:none\" points=\"147.478,479.733 2352.76,479.733 \"/>\n",
       "<polyline clip-path=\"url(#clip092)\" style=\"stroke:#000000; stroke-linecap:round; stroke-linejoin:round; stroke-width:2; stroke-opacity:0.1; fill:none\" points=\"147.478,98.2572 2352.76,98.2572 \"/>\n",
       "<polyline clip-path=\"url(#clip090)\" style=\"stroke:#000000; stroke-linecap:round; stroke-linejoin:round; stroke-width:4; stroke-opacity:1; fill:none\" points=\"147.478,1486.45 2352.76,1486.45 \"/>\n",
       "<polyline clip-path=\"url(#clip090)\" style=\"stroke:#000000; stroke-linecap:round; stroke-linejoin:round; stroke-width:4; stroke-opacity:1; fill:none\" points=\"571.709,1486.45 571.709,1467.55 \"/>\n",
       "<polyline clip-path=\"url(#clip090)\" style=\"stroke:#000000; stroke-linecap:round; stroke-linejoin:round; stroke-width:4; stroke-opacity:1; fill:none\" points=\"1023.98,1486.45 1023.98,1467.55 \"/>\n",
       "<polyline clip-path=\"url(#clip090)\" style=\"stroke:#000000; stroke-linecap:round; stroke-linejoin:round; stroke-width:4; stroke-opacity:1; fill:none\" points=\"1476.25,1486.45 1476.25,1467.55 \"/>\n",
       "<polyline clip-path=\"url(#clip090)\" style=\"stroke:#000000; stroke-linecap:round; stroke-linejoin:round; stroke-width:4; stroke-opacity:1; fill:none\" points=\"1928.52,1486.45 1928.52,1467.55 \"/>\n",
       "<path clip-path=\"url(#clip090)\" d=\"M561.987 1514.29 L580.343 1514.29 L580.343 1518.22 L566.269 1518.22 L566.269 1526.7 Q567.288 1526.35 568.306 1526.19 Q569.325 1526 570.343 1526 Q576.13 1526 579.51 1529.17 Q582.889 1532.34 582.889 1537.76 Q582.889 1543.34 579.417 1546.44 Q575.945 1549.52 569.626 1549.52 Q567.45 1549.52 565.181 1549.15 Q562.936 1548.78 560.528 1548.04 L560.528 1543.34 Q562.612 1544.47 564.834 1545.03 Q567.056 1545.58 569.533 1545.58 Q573.538 1545.58 575.876 1543.48 Q578.214 1541.37 578.214 1537.76 Q578.214 1534.15 575.876 1532.04 Q573.538 1529.94 569.533 1529.94 Q567.658 1529.94 565.783 1530.35 Q563.931 1530.77 561.987 1531.65 L561.987 1514.29 Z\" fill=\"#000000\" fill-rule=\"nonzero\" fill-opacity=\"1\" /><path clip-path=\"url(#clip090)\" d=\"M998.669 1544.91 L1006.31 1544.91 L1006.31 1518.55 L997.997 1520.21 L997.997 1515.95 L1006.26 1514.29 L1010.94 1514.29 L1010.94 1544.91 L1018.58 1544.91 L1018.58 1548.85 L998.669 1548.85 L998.669 1544.91 Z\" fill=\"#000000\" fill-rule=\"nonzero\" fill-opacity=\"1\" /><path clip-path=\"url(#clip090)\" d=\"M1038.02 1517.37 Q1034.41 1517.37 1032.58 1520.93 Q1030.77 1524.47 1030.77 1531.6 Q1030.77 1538.71 1032.58 1542.27 Q1034.41 1545.82 1038.02 1545.82 Q1041.65 1545.82 1043.46 1542.27 Q1045.29 1538.71 1045.29 1531.6 Q1045.29 1524.47 1043.46 1520.93 Q1041.65 1517.37 1038.02 1517.37 M1038.02 1513.66 Q1043.83 1513.66 1046.89 1518.27 Q1049.96 1522.85 1049.96 1531.6 Q1049.96 1540.33 1046.89 1544.94 Q1043.83 1549.52 1038.02 1549.52 Q1032.21 1549.52 1029.13 1544.94 Q1026.08 1540.33 1026.08 1531.6 Q1026.08 1522.85 1029.13 1518.27 Q1032.21 1513.66 1038.02 1513.66 Z\" fill=\"#000000\" fill-rule=\"nonzero\" fill-opacity=\"1\" /><path clip-path=\"url(#clip090)\" d=\"M1451.44 1544.91 L1459.08 1544.91 L1459.08 1518.55 L1450.77 1520.21 L1450.77 1515.95 L1459.03 1514.29 L1463.71 1514.29 L1463.71 1544.91 L1471.35 1544.91 L1471.35 1548.85 L1451.44 1548.85 L1451.44 1544.91 Z\" fill=\"#000000\" fill-rule=\"nonzero\" fill-opacity=\"1\" /><path clip-path=\"url(#clip090)\" d=\"M1480.84 1514.29 L1499.19 1514.29 L1499.19 1518.22 L1485.12 1518.22 L1485.12 1526.7 Q1486.14 1526.35 1487.16 1526.19 Q1488.17 1526 1489.19 1526 Q1494.98 1526 1498.36 1529.17 Q1501.74 1532.34 1501.74 1537.76 Q1501.74 1543.34 1498.27 1546.44 Q1494.79 1549.52 1488.48 1549.52 Q1486.3 1549.52 1484.03 1549.15 Q1481.79 1548.78 1479.38 1548.04 L1479.38 1543.34 Q1481.46 1544.47 1483.68 1545.03 Q1485.91 1545.58 1488.38 1545.58 Q1492.39 1545.58 1494.73 1543.48 Q1497.06 1541.37 1497.06 1537.76 Q1497.06 1534.15 1494.73 1532.04 Q1492.39 1529.94 1488.38 1529.94 Q1486.51 1529.94 1484.63 1530.35 Q1482.78 1530.77 1480.84 1531.65 L1480.84 1514.29 Z\" fill=\"#000000\" fill-rule=\"nonzero\" fill-opacity=\"1\" /><path clip-path=\"url(#clip090)\" d=\"M1907.3 1544.91 L1923.62 1544.91 L1923.62 1548.85 L1901.67 1548.85 L1901.67 1544.91 Q1904.34 1542.16 1908.92 1537.53 Q1913.52 1532.88 1914.71 1531.53 Q1916.95 1529.01 1917.83 1527.27 Q1918.73 1525.51 1918.73 1523.82 Q1918.73 1521.07 1916.79 1519.33 Q1914.87 1517.6 1911.77 1517.6 Q1909.57 1517.6 1907.11 1518.36 Q1904.68 1519.13 1901.9 1520.68 L1901.9 1515.95 Q1904.73 1514.82 1907.18 1514.24 Q1909.64 1513.66 1911.67 1513.66 Q1917.04 1513.66 1920.24 1516.35 Q1923.43 1519.03 1923.43 1523.52 Q1923.43 1525.65 1922.62 1527.57 Q1921.84 1529.47 1919.73 1532.07 Q1919.15 1532.74 1916.05 1535.95 Q1912.95 1539.15 1907.3 1544.91 Z\" fill=\"#000000\" fill-rule=\"nonzero\" fill-opacity=\"1\" /><path clip-path=\"url(#clip090)\" d=\"M1943.43 1517.37 Q1939.82 1517.37 1937.99 1520.93 Q1936.19 1524.47 1936.19 1531.6 Q1936.19 1538.71 1937.99 1542.27 Q1939.82 1545.82 1943.43 1545.82 Q1947.07 1545.82 1948.87 1542.27 Q1950.7 1538.71 1950.7 1531.6 Q1950.7 1524.47 1948.87 1520.93 Q1947.07 1517.37 1943.43 1517.37 M1943.43 1513.66 Q1949.24 1513.66 1952.3 1518.27 Q1955.38 1522.85 1955.38 1531.6 Q1955.38 1540.33 1952.3 1544.94 Q1949.24 1549.52 1943.43 1549.52 Q1937.62 1549.52 1934.54 1544.94 Q1931.49 1540.33 1931.49 1531.6 Q1931.49 1522.85 1934.54 1518.27 Q1937.62 1513.66 1943.43 1513.66 Z\" fill=\"#000000\" fill-rule=\"nonzero\" fill-opacity=\"1\" /><polyline clip-path=\"url(#clip090)\" style=\"stroke:#000000; stroke-linecap:round; stroke-linejoin:round; stroke-width:4; stroke-opacity:1; fill:none\" points=\"147.478,1486.45 147.478,47.2441 \"/>\n",
       "<polyline clip-path=\"url(#clip090)\" style=\"stroke:#000000; stroke-linecap:round; stroke-linejoin:round; stroke-width:4; stroke-opacity:1; fill:none\" points=\"147.478,1242.69 166.376,1242.69 \"/>\n",
       "<polyline clip-path=\"url(#clip090)\" style=\"stroke:#000000; stroke-linecap:round; stroke-linejoin:round; stroke-width:4; stroke-opacity:1; fill:none\" points=\"147.478,861.21 166.376,861.21 \"/>\n",
       "<polyline clip-path=\"url(#clip090)\" style=\"stroke:#000000; stroke-linecap:round; stroke-linejoin:round; stroke-width:4; stroke-opacity:1; fill:none\" points=\"147.478,479.733 166.376,479.733 \"/>\n",
       "<polyline clip-path=\"url(#clip090)\" style=\"stroke:#000000; stroke-linecap:round; stroke-linejoin:round; stroke-width:4; stroke-opacity:1; fill:none\" points=\"147.478,98.2572 166.376,98.2572 \"/>\n",
       "<path clip-path=\"url(#clip090)\" d=\"M51.3625 1243.14 L81.0383 1243.14 L81.0383 1247.07 L51.3625 1247.07 L51.3625 1243.14 Z\" fill=\"#000000\" fill-rule=\"nonzero\" fill-opacity=\"1\" /><path clip-path=\"url(#clip090)\" d=\"M95.1586 1256.03 L111.478 1256.03 L111.478 1259.97 L89.5336 1259.97 L89.5336 1256.03 Q92.1956 1253.28 96.7789 1248.65 Q101.385 1243.99 102.566 1242.65 Q104.811 1240.13 105.691 1238.39 Q106.594 1236.63 106.594 1234.94 Q106.594 1232.19 104.649 1230.45 Q102.728 1228.72 99.6261 1228.72 Q97.4271 1228.72 94.9734 1229.48 Q92.5428 1230.24 89.7651 1231.79 L89.7651 1227.07 Q92.5891 1225.94 95.0428 1225.36 Q97.4965 1224.78 99.5335 1224.78 Q104.904 1224.78 108.098 1227.47 Q111.293 1230.15 111.293 1234.64 Q111.293 1236.77 110.483 1238.69 Q109.696 1240.59 107.589 1243.18 Q107.01 1243.85 103.909 1247.07 Q100.807 1250.27 95.1586 1256.03 Z\" fill=\"#000000\" fill-rule=\"nonzero\" fill-opacity=\"1\" /><path clip-path=\"url(#clip090)\" d=\"M50.9921 861.661 L80.6679 861.661 L80.6679 865.596 L50.9921 865.596 L50.9921 861.661 Z\" fill=\"#000000\" fill-rule=\"nonzero\" fill-opacity=\"1\" /><path clip-path=\"url(#clip090)\" d=\"M91.5706 874.554 L99.2095 874.554 L99.2095 848.189 L90.8993 849.855 L90.8993 845.596 L99.1632 843.93 L103.839 843.93 L103.839 874.554 L111.478 874.554 L111.478 878.49 L91.5706 878.49 L91.5706 874.554 Z\" fill=\"#000000\" fill-rule=\"nonzero\" fill-opacity=\"1\" /><path clip-path=\"url(#clip090)\" d=\"M99.5335 465.532 Q95.9224 465.532 94.0937 469.097 Q92.2882 472.639 92.2882 479.768 Q92.2882 486.875 94.0937 490.439 Q95.9224 493.981 99.5335 493.981 Q103.168 493.981 104.973 490.439 Q106.802 486.875 106.802 479.768 Q106.802 472.639 104.973 469.097 Q103.168 465.532 99.5335 465.532 M99.5335 461.828 Q105.344 461.828 108.399 466.435 Q111.478 471.018 111.478 479.768 Q111.478 488.495 108.399 493.101 Q105.344 497.685 99.5335 497.685 Q93.7234 497.685 90.6447 493.101 Q87.5892 488.495 87.5892 479.768 Q87.5892 471.018 90.6447 466.435 Q93.7234 461.828 99.5335 461.828 Z\" fill=\"#000000\" fill-rule=\"nonzero\" fill-opacity=\"1\" /><path clip-path=\"url(#clip090)\" d=\"M91.5706 111.602 L99.2095 111.602 L99.2095 85.2365 L90.8993 86.9031 L90.8993 82.6439 L99.1632 80.9772 L103.839 80.9772 L103.839 111.602 L111.478 111.602 L111.478 115.537 L91.5706 115.537 L91.5706 111.602 Z\" fill=\"#000000\" fill-rule=\"nonzero\" fill-opacity=\"1\" /><polyline clip-path=\"url(#clip092)\" style=\"stroke:#009af9; stroke-linecap:round; stroke-linejoin:round; stroke-width:4; stroke-opacity:1; fill:none\" points=\"209.891,720.526 300.346,1051.45 390.8,1181.72 481.255,981.263 571.709,1445.72 662.163,1284.81 752.618,1317.06 843.072,1328.54 933.527,1330.36 1023.98,1330.6 1114.44,1330.4 1204.89,1331.01 1295.34,1331.25 1385.8,1330.6 1476.25,1330.06 1566.71,1329.36 1657.16,1328.49 1747.62,1327.89 1838.07,1327.18 1928.52,1326.55 2018.98,760.02 2109.43,1114.99 2199.89,93.7673 2290.34,87.9763 \"/>\n",
       "<path clip-path=\"url(#clip090)\" d=\"M220.987 198.898 L493.945 198.898 L493.945 95.2176 L220.987 95.2176  Z\" fill=\"#ffffff\" fill-rule=\"evenodd\" fill-opacity=\"1\"/>\n",
       "<polyline clip-path=\"url(#clip090)\" style=\"stroke:#000000; stroke-linecap:round; stroke-linejoin:round; stroke-width:4; stroke-opacity:1; fill:none\" points=\"220.987,198.898 493.945,198.898 493.945,95.2176 220.987,95.2176 220.987,198.898 \"/>\n",
       "<polyline clip-path=\"url(#clip090)\" style=\"stroke:#009af9; stroke-linecap:round; stroke-linejoin:round; stroke-width:4; stroke-opacity:1; fill:none\" points=\"245.49,147.058 392.509,147.058 \"/>\n",
       "<path clip-path=\"url(#clip090)\" d=\"M430.854 166.745 Q429.049 171.375 427.336 172.787 Q425.623 174.199 422.753 174.199 L419.35 174.199 L419.35 170.634 L421.85 170.634 Q423.609 170.634 424.581 169.8 Q425.554 168.967 426.734 165.865 L427.498 163.921 L417.012 138.412 L421.526 138.412 L429.628 158.689 L437.729 138.412 L442.243 138.412 L430.854 166.745 Z\" fill=\"#000000\" fill-rule=\"nonzero\" fill-opacity=\"1\" /><path clip-path=\"url(#clip090)\" d=\"M449.535 160.402 L457.174 160.402 L457.174 134.037 L448.864 135.703 L448.864 131.444 L457.127 129.778 L461.803 129.778 L461.803 160.402 L469.442 160.402 L469.442 164.338 L449.535 164.338 L449.535 160.402 Z\" fill=\"#000000\" fill-rule=\"nonzero\" fill-opacity=\"1\" /></svg>\n"
      ]
     },
     "metadata": {},
     "output_type": "display_data"
    }
   ],
   "source": [
    "using Plots\n",
    "plot(log10.(e))"
   ]
  },
  {
   "cell_type": "code",
   "execution_count": 474,
   "id": "57ab41b8",
   "metadata": {},
   "outputs": [
    {
     "ename": "DimensionMismatch",
     "evalue": "DimensionMismatch: a has size (0,), b has size (825,), mismatch at dim 1",
     "output_type": "error",
     "traceback": [
      "DimensionMismatch: a has size (0,), b has size (825,), mismatch at dim 1\n",
      "\n",
      "Stacktrace:\n",
      " [1] throw_promote_shape_mismatch(a::Tuple{Base.OneTo{Int64}}, b::Tuple{Base.OneTo{Int64}}, i::Int64)\n",
      "   @ Base ./indices.jl:135\n",
      " [2] promote_shape\n",
      "   @ ./indices.jl:196 [inlined]\n",
      " [3] promote_shape\n",
      "   @ ./indices.jl:188 [inlined]\n",
      " [4] -(A::Vector{Any}, B::Vector{Float64})\n",
      "   @ Base ./arraymath.jl:7\n",
      " [5] top-level scope\n",
      "   @ ~/Dokumentumok/GitHub/LowLevelFEM.jl/examples/Large_deformations/jl_notebook_cell_df34fa98e69747e1a8f8a730347b8e2f_X12sZmlsZQ==.jl:4"
     ]
    }
   ],
   "source": [
    "u1 = similar(r1)\n",
    "r0 = FEM.nodePositionVector(problem)\n",
    "for i in 1:size(r1, 2)\n",
    "    u1[:, i] = r1[:, i] - r0\n",
    "end\n",
    "\n",
    "u2 = FEM.showDoFResults(problem, u1, :uvec, t=1:size(u1, 2), visible=true)"
   ]
  },
  {
   "cell_type": "code",
   "execution_count": 475,
   "id": "f74412f6",
   "metadata": {},
   "outputs": [],
   "source": [
    "#FEM.plotOnPath(problem, \"horizontal\", u2)\n",
    "#FEM.plotOnPath(problem, \"vertical\", u2)"
   ]
  },
  {
   "cell_type": "code",
   "execution_count": 476,
   "id": "d9e04c86",
   "metadata": {},
   "outputs": [
    {
     "data": {
      "text/plain": [
       "LowLevelFEM.TensorField([[0.3999999999999999; 0.0; … ; 0.0; 0.6000000000000001;;], [0.3999999999999999; 0.0; … ; 0.0; 0.6000000000000001;;], [0.3999999999999999; 0.0; … ; 0.0; 0.6000000000000001;;], [0.3999999999999999; 0.0; … ; 0.0; 0.6000000000000001;;], [0.3999999999999999; 0.0; … ; 0.0; 0.6000000000000001;;], [0.3999999999999999; 0.0; … ; 0.0; 0.6000000000000001;;], [0.3999999999999999; 0.0; … ; 0.0; 0.6000000000000001;;], [0.3999999999999999; 0.0; … ; 0.0; 0.6000000000000001;;], [0.3999999999999999; 0.0; … ; 0.0; 0.6000000000000001;;], [0.3999999999999999; 0.0; … ; 0.0; 0.6000000000000001;;]  …  [0.3999999999999999; 0.0; … ; 0.0; 0.6000000000000001;;], [0.3999999999999999; 0.0; … ; 0.0; 0.6000000000000001;;], [0.3999999999999999; 0.0; … ; 0.0; 0.6000000000000001;;], [0.3999999999999999; 0.0; … ; 0.0; 0.6000000000000001;;], [0.3999999999999999; 0.0; … ; 0.0; 0.6000000000000001;;], [0.3999999999999999; 0.0; … ; 0.0; 0.6000000000000001;;], [0.3999999999999999; 0.0; … ; 0.0; 0.6000000000000001;;], [0.3999999999999999; 0.0; … ; 0.0; 0.6000000000000001;;], [0.3999999999999999; 0.0; … ; 0.0; 0.6000000000000001;;], [0.3999999999999999; 0.0; … ; 0.0; 0.6000000000000001;;]], Matrix{Float64}(undef, 0, 0), [273, 274, 275, 276, 277, 278, 279, 280, 281, 282  …  423, 424, 425, 426, 427, 428, 429, 430, 431, 432], 1, :F)"
      ]
     },
     "metadata": {},
     "output_type": "display_data"
    }
   ],
   "source": [
    "r = FEM.nodePositionVector(problem)\n",
    "ux(x, y, z) = 0.4x\n",
    "uy(x, y, z) = 0.5y\n",
    "uz(x, y, z) = 0.6z\n",
    "q0 = FEM.field(\"body\", fx=ux, fy=uy, fz=uz)\n",
    "q = FEM.vectorField(problem, [q0])\n",
    "F = FEM.deformationGradient(problem, q)"
   ]
  },
  {
   "cell_type": "code",
   "execution_count": 477,
   "id": "bda3da4b",
   "metadata": {},
   "outputs": [
    {
     "data": {
      "text/plain": [
       "3×3 Matrix{Float64}:\n",
       " 0.4  0.0  0.0\n",
       " 0.0  0.5  0.0\n",
       " 0.0  0.0  0.6"
      ]
     },
     "metadata": {},
     "output_type": "display_data"
    }
   ],
   "source": [
    "reshape(F.A[1][1:9], 3, 3)"
   ]
  },
  {
   "cell_type": "code",
   "execution_count": 478,
   "id": "4aba7a4b",
   "metadata": {},
   "outputs": [
    {
     "data": {
      "text/plain": [
       "3×3 Matrix{Float64}:\n",
       " -0.42   0.0     0.0\n",
       "  0.0   -0.375   0.0\n",
       "  0.0    0.0    -0.32"
      ]
     },
     "metadata": {},
     "output_type": "display_data"
    }
   ],
   "source": [
    "E = (F' * F - FEM.unitTensor(F)) / 2\n",
    "\n",
    "reshape(E.A[1][1:9], 3, 3)"
   ]
  },
  {
   "cell_type": "code",
   "execution_count": 479,
   "id": "a7c506a2",
   "metadata": {},
   "outputs": [
    {
     "data": {
      "text/plain": [
       "3×3 Matrix{Float64}:\n",
       " -2.625   0.0   0.0\n",
       "  0.0    -1.5   0.0\n",
       "  0.0     0.0  -0.888889"
      ]
     },
     "metadata": {},
     "output_type": "display_data"
    }
   ],
   "source": [
    "e = (FEM.unitTensor(F) - inv(F * F')) / 2\n",
    "\n",
    "reshape(e.A[1][1:9], 3, 3)"
   ]
  },
  {
   "cell_type": "code",
   "execution_count": 480,
   "id": "df5feea4",
   "metadata": {},
   "outputs": [
    {
     "data": {
      "text/plain": [
       "3×3 Matrix{Float64}:\n",
       " -2.625   0.0   0.0\n",
       "  0.0    -1.5   0.0\n",
       "  0.0     0.0  -0.888889"
      ]
     },
     "metadata": {},
     "output_type": "display_data"
    }
   ],
   "source": [
    "e = inv(F') * E * inv(F)\n",
    "\n",
    "reshape(e.A[1][1:9], 3, 3)"
   ]
  },
  {
   "cell_type": "code",
   "execution_count": 481,
   "id": "eb7cd73d",
   "metadata": {},
   "outputs": [
    {
     "data": {
      "text/plain": [
       "3×3 Matrix{Float64}:\n",
       " 0.4  0.0  0.0\n",
       " 0.0  0.5  0.0\n",
       " 0.0  0.0  0.6"
      ]
     },
     "metadata": {},
     "output_type": "display_data"
    }
   ],
   "source": [
    "U = sqrt(F' * F)\n",
    "\n",
    "reshape(U.A[1][1:9], 3, 3)"
   ]
  },
  {
   "cell_type": "code",
   "execution_count": 482,
   "id": "49af293c",
   "metadata": {},
   "outputs": [
    {
     "data": {
      "text/plain": [
       "3×3 Matrix{Float64}:\n",
       " -122.128     0.0       0.0\n",
       "    0.0    -113.474     0.0\n",
       "    0.0       0.0    -108.773"
      ]
     },
     "metadata": {},
     "output_type": "display_data"
    }
   ],
   "source": [
    "Ex = 10\n",
    "νxy = 0.3\n",
    "λ = Ex * νxy / ((1 + νxy) * (1 - 2νxy))\n",
    "μ = Ex / (2 * (1 + νxy))\n",
    "I3 = FEM.unitTensor(F)\n",
    "iC = inv(F' * F)\n",
    "J1 = det(F)\n",
    "SII = μ * (I3 - iC) + λ * log(J1) / J1 * I3\n",
    "\n",
    "reshape(SII.A[1][1:9], 3, 3)"
   ]
  },
  {
   "cell_type": "code",
   "execution_count": 483,
   "id": "88fa00a0",
   "metadata": {},
   "outputs": [
    {
     "data": {
      "text/plain": [
       "probe (generic function with 1 method)"
      ]
     },
     "metadata": {},
     "output_type": "display_data"
    }
   ],
   "source": [
    "function probe(A, x, y, z)\n",
    "    elementTag, elementType, nodeTags, u, v, w = gmsh.model.mesh.getElementByCoordinates(x, y, z, 3, false)\n",
    "    elementName, dim, order, numNodes::Int64, localNodeCoord, numPrimaryNodes = gmsh.model.mesh.getElementProperties(elementType)\n",
    "    comp, fun, ori = gmsh.model.mesh.getBasisFunctions(elementType, [u, v, w], \"Lagrange\")\n",
    "    SS = [0.0, 0, 0, 0, 0, 0, 0, 0, 0]\n",
    "    if isa(A, FEM.TensorField)\n",
    "        ind = findfirst(i -> i == elementTag, SII.numElem)\n",
    "        for i in range(1, 9)\n",
    "            SS[i] = fun' * SII.A[ind][i:9:9numNodes, 1]\n",
    "        end\n",
    "    elseif isa(A, Matrix)\n",
    "        for i in range(1, 9)\n",
    "            SS[i] = fun' * A[9nodeTags.-(9-i), 1]\n",
    "        end\n",
    "    end\n",
    "    return reshape(SS, 3, 3)\n",
    "end"
   ]
  },
  {
   "cell_type": "code",
   "execution_count": 484,
   "id": "eb55a91c",
   "metadata": {},
   "outputs": [
    {
     "data": {
      "text/plain": [
       "2475×1 Matrix{Float64}:\n",
       " -122.12805462500447\n",
       "    0.0\n",
       "    4.74454284027845e-14\n",
       "    0.0\n",
       " -113.47420847115829\n",
       "    0.0\n",
       "    4.74454284027845e-14\n",
       "    0.0\n",
       " -108.7733537703036\n",
       " -122.12805462500434\n",
       "    ⋮\n",
       " -122.12805462500438\n",
       "   -8.540177112501207e-15\n",
       "    4.688942728868993e-15\n",
       "   -8.540177112501207e-15\n",
       " -113.47420847115822\n",
       "   -7.116814260417605e-16\n",
       "    4.688942728868993e-15\n",
       "   -7.116814260417605e-16\n",
       " -108.77335377030352"
      ]
     },
     "metadata": {},
     "output_type": "display_data"
    }
   ],
   "source": [
    "SII2 = FEM.elementsToNodes(problem, SII)"
   ]
  },
  {
   "cell_type": "code",
   "execution_count": 485,
   "id": "0f94ba00",
   "metadata": {},
   "outputs": [
    {
     "data": {
      "text/plain": [
       "3×3 Matrix{Float64}:\n",
       " -122.128           4.49134e-44    -9.48909e-15\n",
       "    4.49134e-44  -113.474           5.0568e-29\n",
       "   -9.48909e-15     5.0568e-29   -108.773"
      ]
     },
     "metadata": {},
     "output_type": "display_data"
    }
   ],
   "source": [
    "probe(SII2, 0, 0, 0)"
   ]
  },
  {
   "cell_type": "code",
   "execution_count": 486,
   "id": "9eac2964",
   "metadata": {},
   "outputs": [
    {
     "data": {
      "text/plain": [
       "LowLevelFEM.ScalarField([[2.0; 2.0; … ; 2.0; 2.0;;], [2.0; 2.0; … ; 2.0; 2.0;;], [2.0; 2.0; … ; 2.0; 2.0;;], [2.0; 2.0; … ; 2.0; 2.0;;], [2.0; 2.0; … ; 2.0; 2.0;;], [2.0; 2.0; … ; 2.0; 2.0;;], [2.0; 2.0; … ; 2.0; 2.0;;], [2.0; 2.0; … ; 2.0; 2.0;;], [2.0; 2.0; … ; 2.0; 2.0;;], [2.0; 2.0; … ; 2.0; 2.0;;]  …  [2.0; 2.0; … ; 2.0; 2.0;;], [2.0; 2.0; … ; 2.0; 2.0;;], [2.0; 2.0; … ; 2.0; 2.0;;], [2.0; 2.0; … ; 2.0; 2.0;;], [2.0; 2.0; … ; 2.0; 2.0;;], [2.0; 2.0; … ; 2.0; 2.0;;], [2.0; 2.0; … ; 2.0; 2.0;;], [2.0; 2.0; … ; 2.0; 2.0;;], [2.0; 2.0; … ; 2.0; 2.0;;], [2.0; 2.0; … ; 2.0; 2.0;;]], Matrix{Float64}(undef, 0, 0), [273, 274, 275, 276, 277, 278, 279, 280, 281, 282  …  423, 424, 425, 426, 427, 428, 429, 430, 431, 432], 1, :scalarInElements)"
      ]
     },
     "metadata": {},
     "output_type": "display_data"
    }
   ],
   "source": [
    "field = FEM.field(\"body\", f=2)\n",
    "sc = FEM.ScalarField(problem, [field])"
   ]
  },
  {
   "cell_type": "code",
   "execution_count": 487,
   "id": "b19e2ebf",
   "metadata": {},
   "outputs": [
    {
     "data": {
      "text/plain": [
       "LowLevelFEM.ScalarField([[0.12; 0.11999999999999994; … ; 0.12; 0.12;;], [0.12; 0.11999999999999994; … ; 0.12; 0.12;;], [0.12; 0.11999999999999994; … ; 0.12; 0.12;;], [0.12; 0.11999999999999994; … ; 0.12; 0.12;;], [0.12; 0.11999999999999994; … ; 0.12; 0.12;;], [0.12; 0.11999999999999994; … ; 0.12; 0.12;;], [0.12; 0.11999999999999994; … ; 0.12; 0.12;;], [0.12; 0.11999999999999994; … ; 0.12; 0.12;;], [0.12; 0.11999999999999994; … ; 0.12; 0.12;;], [0.12; 0.11999999999999994; … ; 0.12; 0.12;;]  …  [0.12; 0.11999999999999994; … ; 0.12; 0.12;;], [0.12; 0.11999999999999994; … ; 0.12; 0.12;;], [0.12; 0.11999999999999994; … ; 0.12; 0.12;;], [0.12; 0.11999999999999994; … ; 0.12; 0.12;;], [0.12; 0.11999999999999994; … ; 0.12; 0.12;;], [0.12; 0.11999999999999994; … ; 0.12; 0.12;;], [0.12; 0.11999999999999994; … ; 0.12; 0.12;;], [0.12; 0.11999999999999994; … ; 0.12; 0.12;;], [0.12; 0.11999999999999994; … ; 0.12; 0.12;;], [0.12; 0.11999999999999994; … ; 0.12; 0.12;;]], Matrix{Float64}(undef, 0, 0), [273, 274, 275, 276, 277, 278, 279, 280, 281, 282  …  423, 424, 425, 426, 427, 428, 429, 430, 431, 432], 1, :sc)"
      ]
     },
     "metadata": {},
     "output_type": "display_data"
    }
   ],
   "source": [
    "I3 = FEM.unitTensor(F)\n",
    "J = det(F)"
   ]
  },
  {
   "cell_type": "code",
   "execution_count": 488,
   "id": "dfdb8e2d",
   "metadata": {},
   "outputs": [
    {
     "data": {
      "text/plain": [
       "LowLevelFEM.TensorField([[2.0; 0.0; … ; 0.0; 2.0;;], [2.0; 0.0; … ; 0.0; 2.0;;], [2.0; 0.0; … ; 0.0; 2.0;;], [2.0; 0.0; … ; 0.0; 2.0;;], [2.0; 0.0; … ; 0.0; 2.0;;], [2.0; 0.0; … ; 0.0; 2.0;;], [2.0; 0.0; … ; 0.0; 2.0;;], [2.0; 0.0; … ; 0.0; 2.0;;], [2.0; 0.0; … ; 0.0; 2.0;;], [2.0; 0.0; … ; 0.0; 2.0;;]  …  [2.0; 0.0; … ; 0.0; 2.0;;], [2.0; 0.0; … ; 0.0; 2.0;;], [2.0; 0.0; … ; 0.0; 2.0;;], [2.0; 0.0; … ; 0.0; 2.0;;], [2.0; 0.0; … ; 0.0; 2.0;;], [2.0; 0.0; … ; 0.0; 2.0;;], [2.0; 0.0; … ; 0.0; 2.0;;], [2.0; 0.0; … ; 0.0; 2.0;;], [2.0; 0.0; … ; 0.0; 2.0;;], [2.0; 0.0; … ; 0.0; 2.0;;]], Matrix{Float64}(undef, 0, 0), [273, 274, 275, 276, 277, 278, 279, 280, 281, 282  …  423, 424, 425, 426, 427, 428, 429, 430, 431, 432], 1, :e)"
      ]
     },
     "metadata": {},
     "output_type": "display_data"
    }
   ],
   "source": [
    "sc * I3"
   ]
  },
  {
   "cell_type": "code",
   "execution_count": 489,
   "id": "b48019c3",
   "metadata": {},
   "outputs": [
    {
     "data": {
      "text/plain": [
       "LowLevelFEM.TensorField([[0.0; 0.0; … ; 0.0; 0.0;;], [0.0; 0.0; … ; 0.0; 0.0;;], [0.0; 0.0; … ; 0.0; 0.0;;], [0.0; 0.0; … ; 0.0; 0.0;;], [0.0; 0.0; … ; 0.0; 0.0;;], [0.0; 0.0; … ; 0.0; 0.0;;], [0.0; 0.0; … ; 0.0; 0.0;;], [0.0; 0.0; … ; 0.0; 0.0;;], [0.0; 0.0; … ; 0.0; 0.0;;], [0.0; 0.0; … ; 0.0; 0.0;;]  …  [0.0; 0.0; … ; 0.0; 0.0;;], [0.0; 0.0; … ; 0.0; 0.0;;], [0.0; 0.0; … ; 0.0; 0.0;;], [0.0; 0.0; … ; 0.0; 0.0;;], [0.0; 0.0; … ; 0.0; 0.0;;], [0.0; 0.0; … ; 0.0; 0.0;;], [0.0; 0.0; … ; 0.0; 0.0;;], [0.0; 0.0; … ; 0.0; 0.0;;], [0.0; 0.0; … ; 0.0; 0.0;;], [0.0; 0.0; … ; 0.0; 0.0;;]], Matrix{Float64}(undef, 0, 0), [273, 274, 275, 276, 277, 278, 279, 280, 281, 282  …  423, 424, 425, 426, 427, 428, 429, 430, 431, 432], 1, :e)"
      ]
     },
     "metadata": {},
     "output_type": "display_data"
    }
   ],
   "source": [
    "I3 - I3"
   ]
  },
  {
   "cell_type": "code",
   "execution_count": 490,
   "id": "ff567b87",
   "metadata": {},
   "outputs": [
    {
     "data": {
      "text/plain": [
       "3×3 Matrix{Float64}:\n",
       " -162.837     0.0       0.0\n",
       "    0.0    -236.405     0.0\n",
       "    0.0       0.0    -326.32"
      ]
     },
     "metadata": {},
     "output_type": "display_data"
    }
   ],
   "source": [
    "σ = F * SII * F' / det(F)\n",
    "\n",
    "reshape(σ.A[1][1:9], 3, 3)"
   ]
  },
  {
   "cell_type": "code",
   "execution_count": 491,
   "id": "f1eee084",
   "metadata": {},
   "outputs": [
    {
     "data": {
      "text/plain": [
       "-119.05114807753088"
      ]
     },
     "metadata": {},
     "output_type": "display_data"
    }
   ],
   "source": [
    "J = 0.5 * 0.5 * 0.5\n",
    "μ / J * (J^(2 / 3) - 1) + λ / J * log(J)"
   ]
  },
  {
   "cell_type": "code",
   "execution_count": 492,
   "id": "32bc3809",
   "metadata": {},
   "outputs": [
    {
     "name": "stdout",
     "output_type": "stream",
     "text": [
      "-------------------------------------------------------\n",
      "Version       : 4.13.1\n",
      "License       : GNU General Public License\n",
      "Build OS      : Linux64-sdk\n",
      "Build date    : 19700101\n",
      "Build host    : amdci7.julia.csail.mit.edu\n",
      "Build options : 64Bit ALGLIB[contrib] ANN[contrib] Bamg Blossom Cairo DIntegration Dlopen DomHex Eigen[contrib] Fltk GMP Gmm[contrib] Hxt Jpeg Kbipack LinuxJoystick MathEx[contrib] Mesh Metis[contrib] Mmg Mpeg Netgen Nii2mesh ONELAB ONELABMetamodel OpenCASCADE OpenCASCADE-CAF OpenGL OpenMP OptHom Parser Plugins Png Post QuadMeshingTools QuadTri Solver TetGen/BR TinyXML2[contrib] Untangle Voro++[contrib] WinslowUntangler Zlib\n",
      "FLTK version  : 1.3.8\n",
      "OCC version   : 7.7.2\n",
      "Packaged by   : root\n",
      "Web site      : https://gmsh.info\n",
      "Issue tracker : https://gitlab.onelab.info/gmsh/gmsh/issues\n",
      "-------------------------------------------------------\n"
     ]
    },
    {
     "name": "stderr",
     "output_type": "stream",
     "text": [
      "XRequest.18: BadValue 0x0\n"
     ]
    }
   ],
   "source": [
    "FEM.openPostProcessor()"
   ]
  },
  {
   "cell_type": "code",
   "execution_count": 493,
   "id": "7b517a53",
   "metadata": {},
   "outputs": [],
   "source": [
    "gmsh.finalize()"
   ]
  }
 ],
 "metadata": {
  "kernelspec": {
   "display_name": "Julia 1.11.5",
   "language": "julia",
   "name": "julia-1.11"
  },
  "language_info": {
   "file_extension": ".jl",
   "mimetype": "application/julia",
   "name": "julia",
   "version": "1.11.5"
  }
 },
 "nbformat": 4,
 "nbformat_minor": 5
}
