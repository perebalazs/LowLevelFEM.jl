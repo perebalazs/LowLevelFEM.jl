{
 "cells": [
  {
   "cell_type": "code",
   "execution_count": 95,
   "id": "79fd9685",
   "metadata": {},
   "outputs": [],
   "source": [
    "using LowLevelFEM\n",
    "import LowLevelFEM as FEM\n",
    "\n",
    "gmsh.initialize()"
   ]
  },
  {
   "cell_type": "code",
   "execution_count": 96,
   "id": "22283e0a",
   "metadata": {},
   "outputs": [],
   "source": [
    "using SparseArrays, LinearAlgebra"
   ]
  },
  {
   "cell_type": "code",
   "execution_count": 97,
   "id": "fa18250b",
   "metadata": {},
   "outputs": [
    {
     "name": "stdout",
     "output_type": "stream",
     "text": [
      "Info    : Reading 'body2.geo'...\n",
      "Info    : Meshing 1D...\n",
      "Info    : [  0%] Meshing curve 1 (Line)\n",
      "Info    : [ 10%] Meshing curve 2 (Line)\n",
      "Info    : [ 20%] Meshing curve 3 (Line)\n",
      "Info    : [ 30%] Meshing curve 4 (Line)\n",
      "Info    : [ 40%] Meshing curve 5 (Line)\n",
      "Info    : [ 50%] Meshing curve 6 (Line)\n",
      "Info    : [ 60%] Meshing curve 7 (Line)\n",
      "Info    : [ 60%] Meshing curve 8 (Line)\n",
      "Info    : [ 70%] Meshing curve 9 (Line)\n",
      "Info    : [ 80%] Meshing curve 10 (Line)\n",
      "Info    : [ 90%] Meshing curve 11 (Line)\n",
      "Info    : [100%] Meshing curve 12 (Line)\n",
      "Info    : Done meshing 1D (Wall 0.00104908s, CPU 0.001048s)\n",
      "Info    : Meshing 2D...\n",
      "Info    : [  0%] Meshing surface 1 (Transfinite)\n",
      "Info    : [ 20%] Meshing surface 2 (Transfinite)\n",
      "Info    : [ 40%] Meshing surface 3 (Transfinite)\n",
      "Info    : [ 60%] Meshing surface 4 (Transfinite)\n",
      "Info    : [ 70%] Meshing surface 5 (Transfinite)\n",
      "Info    : [ 90%] Meshing surface 6 (Transfinite)\n",
      "Info    : Done meshing 2D (Wall 0.000726761s, CPU 0.000588s)\n",
      "Info    : Meshing 3D...\n",
      "Info    : Meshing volume 1 (Transfinite)\n",
      "Info    : Done meshing 3D (Wall 0.00226727s, CPU 0.002206s)\n",
      "Info    : Optimizing mesh...\n",
      "Info    : Done optimizing mesh (Wall 7.668e-05s, CPU 7.7e-05s)\n",
      "Info    : Meshing order 2 (curvilinear on)...\n",
      "Info    : [  0%] Meshing curve 1 order 2\n",
      "Info    : [ 10%] Meshing curve 2 order 2\n",
      "Info    : [ 20%] Meshing curve 3 order 2\n",
      "Info    : [ 20%] Meshing curve 4 order 2\n",
      "Info    : [ 30%] Meshing curve 5 order 2\n",
      "Info    : [ 30%] Meshing curve 6 order 2\n",
      "Info    : [ 40%] Meshing curve 7 order 2\n",
      "Info    : [ 40%] Meshing curve 8 order 2\n",
      "Info    : [ 50%] Meshing curve 9 order 2\n",
      "Info    : [ 50%] Meshing curve 10 order 2\n",
      "Info    : [ 60%] Meshing curve 11 order 2\n",
      "Info    : [ 60%] Meshing curve 12 order 2\n",
      "Info    : [ 70%] Meshing surface 1 order 2\n",
      "Info    : [ 70%] Meshing surface 2 order 2\n",
      "Info    : [ 80%] Meshing surface 3 order 2\n",
      "Info    : [ 80%] Meshing surface 4 order 2\n",
      "Info    : [ 90%] Meshing surface 5 order 2\n",
      "Info    : [ 90%] Meshing surface 6 order 2\n",
      "Info    : [100%] Meshing volume 1 order 2\n",
      "Info    : Done meshing order 2 (Wall 0.0215711s, CPU 0.017738s)\n",
      "Info    : 3321 nodes 792 elements\n",
      "Info    : Done reading 'body2.geo'\n"
     ]
    }
   ],
   "source": [
    "gmsh.open(\"body2.geo\")"
   ]
  },
  {
   "cell_type": "code",
   "execution_count": 98,
   "id": "936f1fab",
   "metadata": {},
   "outputs": [
    {
     "name": "stdout",
     "output_type": "stream",
     "text": [
      "Info    : RCMK renumbering...\n",
      "Info    : Done RCMK renumbering (bandwidth is now 386)\n",
      "Info    : RCMK renumbering...\n",
      "Info    : Done RCMK renumbering (bandwidth is now 386)\n",
      "Info    : RCMK renumbering...\n",
      "Info    : Done RCMK renumbering (bandwidth is now 386)\n"
     ]
    },
    {
     "data": {
      "text/plain": [
       "LowLevelFEM.Problem(\"body2\", :Solid, 3, 3, LowLevelFEM.Material[LowLevelFEM.Material(\"body\", :StVenantKirchhoff, 260.0, 0.3, 7.85e-9, 45.0, 4.2e8, 1.2e-5, 150.0, 100.0, 216.66666666666666)], 1.0, 3321)"
      ]
     },
     "metadata": {},
     "output_type": "display_data"
    }
   ],
   "source": [
    "mat = FEM.material(\"body\", E=260, ν=0.3, type=:StVenantKirchhoff)\n",
    "hooke = FEM.Problem([mat], type=:Solid)\n",
    "stvenkir = FEM.Problem([mat], type=:Solid)\n",
    "neohooke = FEM.Problem([mat], type=:Solid)"
   ]
  },
  {
   "cell_type": "code",
   "execution_count": 68,
   "id": "c2a10dc9",
   "metadata": {},
   "outputs": [
    {
     "data": {
      "text/plain": [
       "LowLevelFEM.TensorField([[-1.5139443207433696; -0.018822139801356885; … ; 0.01081538190407078; -0.005950162160140604;;], [-1.4048575636206837; -0.02417304447173141; … ; 0.0030849916949585166; 0.0038119689375645804;;], [-1.346437355766322; -0.06017414601759974; … ; 0.00027753353056450715; 0.0004345817517508177;;], [-1.273911250959673; -0.06272010507122894; … ; 1.671488044377403e-5; 1.2025334903076335e-5;;], [-1.1994471532665334; -0.06287955724573746; … ; 5.390101143198933e-7; -2.4937059037166698e-6;;], [-1.1245541356926843; -0.06289080916858092; … ; -1.5631444058955962e-9; -4.2124017202160857e-7;;], [-1.049572940082402; -0.06289146527526102; … ; 8.298863846123434e-10; -3.6316665397162495e-8;;], [-0.9745760038342751; -0.06289138604118616; … ; 5.804811263350028e-10; -1.6176479045171277e-9;;], [-0.8995764862984736; -0.0628913457835445; … ; 1.1293188606487092e-10; 1.0507214542876397e-10;;], [-0.8245765613336312; -0.06289133602797037; … ; 1.4410694859634532e-11; 4.356726091003793e-11;;]  …  [1.4945138865985272; -0.008866983089106384; … ; -9.325873406851315e-13; -1.4944323556420613e-11;;], [1.3445138849132363; -0.00886698279254361; … ; 3.857791557053305e-12; -5.5448617919395815e-11;;], [1.1945138813378933; -0.008866981613886438; … ; 2.58946517185244e-11; -4.310795609363538e-10;;], [1.0445138612654317; -0.008866974844501385; … ; 2.3337835652310435e-10; -3.130320169741907e-9;;], [0.8945137391394931; -0.008866936013429694; … ; 2.9287558192078812e-9; -2.217555739036925e-8;;], [0.7445129670272802; -0.008866751927971706; … ; 3.6939651337775103e-8; -1.718568177350166e-7;;], [0.5945095309099925; -0.008866867241508203; … ; 3.9455927414167036e-7; -1.401971621545206e-6;;], [0.44452882248969616; -0.00888242154557517; … ; 3.241593393710218e-6; -9.125704371192034e-6;;], [0.29484667433504963; -0.009094727174385753; … ; 3.0129117867261357e-5; -1.052680601584463e-5;;], [0.14995194964837066; -0.0015614101187999552; … ; -1.8743631535755867e-6; 0.0005814858102681734;;]], Matrix{Float64}(undef, 0, 0), [0.0], [473, 474, 475, 476, 477, 478, 479, 480, 481, 482  …  783, 784, 785, 786, 787, 788, 789, 790, 791, 792], 1, :s)"
      ]
     },
     "metadata": {},
     "output_type": "display_data"
    }
   ],
   "source": [
    "supp = FEM.displacementConstraint(\"left\", ux=0, uy=0, uz=0)\n",
    "suppL = FEM.displacementConstraint(\"left\", ux=0)\n",
    "suppB = FEM.displacementConstraint(\"bottom\", uy=0)\n",
    "suppF = FEM.displacementConstraint(\"front\", uz=0)\n",
    "traction = FEM.load(\"right\", fy=-0.05)\n",
    "#bodyforce = FEM.load(\"body\", fx=1)\n",
    "\n",
    "problem = hooke\n",
    "q = FEM.solveDisplacement(problem, [traction], [supp])\n",
    "S = FEM.solveStress(problem, q)"
   ]
  },
  {
   "cell_type": "code",
   "execution_count": 69,
   "id": "5ff50776",
   "metadata": {},
   "outputs": [
    {
     "name": "stdout",
     "output_type": "stream",
     "text": [
      "Info    : Running Plugin(Smooth)...\n",
      "Info    : Done running Plugin(Smooth)\n"
     ]
    },
    {
     "data": {
      "text/plain": [
       "1"
      ]
     },
     "metadata": {},
     "output_type": "display_data"
    }
   ],
   "source": [
    "u1 = FEM.showDoFResults(problem, q, :uvec)\n",
    "S1 = FEM.showElementResults(problem, S, :s)"
   ]
  },
  {
   "cell_type": "code",
   "execution_count": 70,
   "id": "970e4fc4",
   "metadata": {},
   "outputs": [
    {
     "data": {
      "text/plain": [
       "LowLevelFEM.Problem(\"body2\", :Solid, 3, 3, LowLevelFEM.Material[LowLevelFEM.Material(\"body\", :StVenantKirchhoff, 260.0, 0.3, 7.85e-9, 45.0, 4.2e8, 1.2e-5, 150.0, 100.0, 216.66666666666666)], 1.0, 3321)"
      ]
     },
     "metadata": {},
     "output_type": "display_data"
    }
   ],
   "source": [
    "problem = stvenkir\n",
    "problem = neohooke"
   ]
  },
  {
   "cell_type": "code",
   "execution_count": null,
   "id": "02d09772",
   "metadata": {},
   "outputs": [],
   "source": [
    "followerLoad = true\n",
    "loadSteps = 10\n",
    "firstStep = 0.1\n",
    "maxIteration = 20\n",
    "saveSteps = true\n",
    "saveIterations = false\n",
    "plotConvergence = true\n",
    "ε = 1e-5\n",
    "\n",
    "r0 = FEM.nodePositionVector(problem)\n",
    "err0 = abs(maximum(r0.a) - minimum(r0.a))\n",
    "f = FEM.loadVector(problem, [traction])\n",
    "r = []\n",
    "r1 = []\n",
    "push!(r, r0.a)\n",
    "e = []\n",
    "\n",
    "for j in range(1, loadSteps)\n",
    "    fact = j / loadSteps\n",
    "    err = 1\n",
    "    i = 0\n",
    "    while err > ε && i < maxIteration\n",
    "        i += 1\n",
    "\n",
    "        Kl = FEM.stiffnessMatrixLinear(problem, r0)\n",
    "        Knl = FEM.stiffnessMatrixNonLinear(problem, r0)\n",
    "        if followerLoad == true\n",
    "            f = FEM.followerLoadVector(problem, r0, [traction])\n",
    "        end\n",
    "        fnl = FEM.loadVectorNonLinear(problem, r0)\n",
    "        K1, f1 = FEM.applyBoundaryConditions(problem, Kl + Knl, fact * f - fnl, [supp])\n",
    "        q = FEM.solveDisplacement(K1, f1)\n",
    "        r0 += q\n",
    "        if saveIterations == true\n",
    "            push!(r, r0.a)\n",
    "        end\n",
    "        err = maximum(abs.(q.a)) / err0\n",
    "        if plotConvergence == true\n",
    "            append!(e, err)\n",
    "        end\n",
    "    end\n",
    "    if saveSteps == true\n",
    "        push!(r, r0.a)\n",
    "    end\n",
    "end\n",
    "if saveIterations == true || saveSteps == true\n",
    "    n = length(r)\n",
    "    r1 = zeros(length(r0.a), n)\n",
    "    for i in 1:n\n",
    "        r1[:, i] = r[i]\n",
    "    end\n",
    "else\n",
    "    r1 = zeros(length(r0.a), 1)\n",
    "    r1 = r0\n",
    "end"
   ]
  },
  {
   "cell_type": "code",
   "execution_count": 72,
   "id": "a7f11918",
   "metadata": {},
   "outputs": [
    {
     "data": {
      "text/plain": [
       "LowLevelFEM.VectorField(Matrix{Float64}[], [0.0 0.0; 0.0 0.0; … ; 0.875 0.15294467812836826; 0.875 0.8746214218208828], [1.0, 2.0], Int64[], 2, :u3D)"
      ]
     },
     "metadata": {},
     "output_type": "display_data"
    }
   ],
   "source": [
    "r1 = FEM.VectorField([], r1, 1:size(r1, 2), [], size(r1, 2), :u3D)"
   ]
  },
  {
   "cell_type": "code",
   "execution_count": 73,
   "id": "1866e2da",
   "metadata": {},
   "outputs": [
    {
     "data": {
      "image/png": "[encoded data removed]",
      "image/svg+xml": [
       "<?xml version=\"1.0\" encoding=\"utf-8\"?>\n",
       "<svg xmlns=\"http://www.w3.org/2000/svg\" xmlns:xlink=\"http://www.w3.org/1999/xlink\" width=\"600\" height=\"400\" viewBox=\"0 0 2400 1600\">\n",
       "<defs>\n",
       "  <clipPath id=\"clip080\">\n",
       "    <rect x=\"0\" y=\"0\" width=\"2400\" height=\"1600\"/>\n",
       "  </clipPath>\n",
       "</defs>\n",
       "<path clip-path=\"url(#clip080)\" d=\"M0 1600 L2400 1600 L2400 0 L0 0  Z\" fill=\"#ffffff\" fill-rule=\"evenodd\" fill-opacity=\"1\"/>\n",
       "<defs>\n",
       "  <clipPath id=\"clip081\">\n",
       "    <rect x=\"480\" y=\"0\" width=\"1681\" height=\"1600\"/>\n",
       "  </clipPath>\n",
       "</defs>\n",
       "<path clip-path=\"url(#clip080)\" d=\"M193.936 1486.45 L2352.76 1486.45 L2352.76 47.2441 L193.936 47.2441  Z\" fill=\"#ffffff\" fill-rule=\"evenodd\" fill-opacity=\"1\"/>\n",
       "<defs>\n",
       "  <clipPath id=\"clip082\">\n",
       "    <rect x=\"193\" y=\"47\" width=\"2160\" height=\"1440\"/>\n",
       "  </clipPath>\n",
       "</defs>\n",
       "<polyline clip-path=\"url(#clip082)\" style=\"stroke:#000000; stroke-linecap:round; stroke-linejoin:round; stroke-width:2; stroke-opacity:0.1; fill:none\" points=\"683.797,1486.45 683.797,47.2441 \"/>\n",
       "<polyline clip-path=\"url(#clip082)\" style=\"stroke:#000000; stroke-linecap:round; stroke-linejoin:round; stroke-width:2; stroke-opacity:0.1; fill:none\" points=\"1219.75,1486.45 1219.75,47.2441 \"/>\n",
       "<polyline clip-path=\"url(#clip082)\" style=\"stroke:#000000; stroke-linecap:round; stroke-linejoin:round; stroke-width:2; stroke-opacity:0.1; fill:none\" points=\"1755.7,1486.45 1755.7,47.2441 \"/>\n",
       "<polyline clip-path=\"url(#clip082)\" style=\"stroke:#000000; stroke-linecap:round; stroke-linejoin:round; stroke-width:2; stroke-opacity:0.1; fill:none\" points=\"2291.66,1486.45 2291.66,47.2441 \"/>\n",
       "<polyline clip-path=\"url(#clip082)\" style=\"stroke:#000000; stroke-linecap:round; stroke-linejoin:round; stroke-width:2; stroke-opacity:0.1; fill:none\" points=\"193.936,1263.09 2352.76,1263.09 \"/>\n",
       "<polyline clip-path=\"url(#clip082)\" style=\"stroke:#000000; stroke-linecap:round; stroke-linejoin:round; stroke-width:2; stroke-opacity:0.1; fill:none\" points=\"193.936,953.282 2352.76,953.282 \"/>\n",
       "<polyline clip-path=\"url(#clip082)\" style=\"stroke:#000000; stroke-linecap:round; stroke-linejoin:round; stroke-width:2; stroke-opacity:0.1; fill:none\" points=\"193.936,643.479 2352.76,643.479 \"/>\n",
       "<polyline clip-path=\"url(#clip082)\" style=\"stroke:#000000; stroke-linecap:round; stroke-linejoin:round; stroke-width:2; stroke-opacity:0.1; fill:none\" points=\"193.936,333.676 2352.76,333.676 \"/>\n",
       "<polyline clip-path=\"url(#clip080)\" style=\"stroke:#000000; stroke-linecap:round; stroke-linejoin:round; stroke-width:4; stroke-opacity:1; fill:none\" points=\"193.936,1486.45 2352.76,1486.45 \"/>\n",
       "<polyline clip-path=\"url(#clip080)\" style=\"stroke:#000000; stroke-linecap:round; stroke-linejoin:round; stroke-width:4; stroke-opacity:1; fill:none\" points=\"683.797,1486.45 683.797,1467.55 \"/>\n",
       "<polyline clip-path=\"url(#clip080)\" style=\"stroke:#000000; stroke-linecap:round; stroke-linejoin:round; stroke-width:4; stroke-opacity:1; fill:none\" points=\"1219.75,1486.45 1219.75,1467.55 \"/>\n",
       "<polyline clip-path=\"url(#clip080)\" style=\"stroke:#000000; stroke-linecap:round; stroke-linejoin:round; stroke-width:4; stroke-opacity:1; fill:none\" points=\"1755.7,1486.45 1755.7,1467.55 \"/>\n",
       "<polyline clip-path=\"url(#clip080)\" style=\"stroke:#000000; stroke-linecap:round; stroke-linejoin:round; stroke-width:4; stroke-opacity:1; fill:none\" points=\"2291.66,1486.45 2291.66,1467.55 \"/>\n",
       "<path clip-path=\"url(#clip080)\" d=\"M674.075 1514.29 L692.432 1514.29 L692.432 1518.22 L678.358 1518.22 L678.358 1526.7 Q679.376 1526.35 680.395 1526.19 Q681.413 1526 682.432 1526 Q688.219 1526 691.598 1529.17 Q694.978 1532.34 694.978 1537.76 Q694.978 1543.34 691.506 1546.44 Q688.033 1549.52 681.714 1549.52 Q679.538 1549.52 677.27 1549.15 Q675.024 1548.78 672.617 1548.04 L672.617 1543.34 Q674.7 1544.47 676.922 1545.03 Q679.145 1545.58 681.621 1545.58 Q685.626 1545.58 687.964 1543.48 Q690.302 1541.37 690.302 1537.76 Q690.302 1534.15 687.964 1532.04 Q685.626 1529.94 681.621 1529.94 Q679.746 1529.94 677.871 1530.35 Q676.02 1530.77 674.075 1531.65 L674.075 1514.29 Z\" fill=\"#000000\" fill-rule=\"nonzero\" fill-opacity=\"1\" /><path clip-path=\"url(#clip080)\" d=\"M1194.44 1544.91 L1202.08 1544.91 L1202.08 1518.55 L1193.77 1520.21 L1193.77 1515.95 L1202.03 1514.29 L1206.71 1514.29 L1206.71 1544.91 L1214.35 1544.91 L1214.35 1548.85 L1194.44 1548.85 L1194.44 1544.91 Z\" fill=\"#000000\" fill-rule=\"nonzero\" fill-opacity=\"1\" /><path clip-path=\"url(#clip080)\" d=\"M1233.79 1517.37 Q1230.18 1517.37 1228.35 1520.93 Q1226.54 1524.47 1226.54 1531.6 Q1226.54 1538.71 1228.35 1542.27 Q1230.18 1545.82 1233.79 1545.82 Q1237.42 1545.82 1239.23 1542.27 Q1241.06 1538.71 1241.06 1531.6 Q1241.06 1524.47 1239.23 1520.93 Q1237.42 1517.37 1233.79 1517.37 M1233.79 1513.66 Q1239.6 1513.66 1242.66 1518.27 Q1245.73 1522.85 1245.73 1531.6 Q1245.73 1540.33 1242.66 1544.94 Q1239.6 1549.52 1233.79 1549.52 Q1227.98 1549.52 1224.9 1544.94 Q1221.85 1540.33 1221.85 1531.6 Q1221.85 1522.85 1224.9 1518.27 Q1227.98 1513.66 1233.79 1513.66 Z\" fill=\"#000000\" fill-rule=\"nonzero\" fill-opacity=\"1\" /><path clip-path=\"url(#clip080)\" d=\"M1730.89 1544.91 L1738.53 1544.91 L1738.53 1518.55 L1730.22 1520.21 L1730.22 1515.95 L1738.48 1514.29 L1743.16 1514.29 L1743.16 1544.91 L1750.8 1544.91 L1750.8 1548.85 L1730.89 1548.85 L1730.89 1544.91 Z\" fill=\"#000000\" fill-rule=\"nonzero\" fill-opacity=\"1\" /><path clip-path=\"url(#clip080)\" d=\"M1760.29 1514.29 L1778.64 1514.29 L1778.64 1518.22 L1764.57 1518.22 L1764.57 1526.7 Q1765.59 1526.35 1766.61 1526.19 Q1767.63 1526 1768.64 1526 Q1774.43 1526 1777.81 1529.17 Q1781.19 1532.34 1781.19 1537.76 Q1781.19 1543.34 1777.72 1546.44 Q1774.25 1549.52 1767.93 1549.52 Q1765.75 1549.52 1763.48 1549.15 Q1761.24 1548.78 1758.83 1548.04 L1758.83 1543.34 Q1760.91 1544.47 1763.13 1545.03 Q1765.36 1545.58 1767.83 1545.58 Q1771.84 1545.58 1774.18 1543.48 Q1776.51 1541.37 1776.51 1537.76 Q1776.51 1534.15 1774.18 1532.04 Q1771.84 1529.94 1767.83 1529.94 Q1765.96 1529.94 1764.08 1530.35 Q1762.23 1530.77 1760.29 1531.65 L1760.29 1514.29 Z\" fill=\"#000000\" fill-rule=\"nonzero\" fill-opacity=\"1\" /><path clip-path=\"url(#clip080)\" d=\"M2270.43 1544.91 L2286.75 1544.91 L2286.75 1548.85 L2264.81 1548.85 L2264.81 1544.91 Q2267.47 1542.16 2272.05 1537.53 Q2276.66 1532.88 2277.84 1531.53 Q2280.08 1529.01 2280.96 1527.27 Q2281.87 1525.51 2281.87 1523.82 Q2281.87 1521.07 2279.92 1519.33 Q2278 1517.6 2274.9 1517.6 Q2272.7 1517.6 2270.25 1518.36 Q2267.81 1519.13 2265.04 1520.68 L2265.04 1515.95 Q2267.86 1514.82 2270.31 1514.24 Q2272.77 1513.66 2274.81 1513.66 Q2280.18 1513.66 2283.37 1516.35 Q2286.56 1519.03 2286.56 1523.52 Q2286.56 1525.65 2285.75 1527.57 Q2284.97 1529.47 2282.86 1532.07 Q2282.28 1532.74 2279.18 1535.95 Q2276.08 1539.15 2270.43 1544.91 Z\" fill=\"#000000\" fill-rule=\"nonzero\" fill-opacity=\"1\" /><path clip-path=\"url(#clip080)\" d=\"M2306.56 1517.37 Q2302.95 1517.37 2301.12 1520.93 Q2299.32 1524.47 2299.32 1531.6 Q2299.32 1538.71 2301.12 1542.27 Q2302.95 1545.82 2306.56 1545.82 Q2310.2 1545.82 2312 1542.27 Q2313.83 1538.71 2313.83 1531.6 Q2313.83 1524.47 2312 1520.93 Q2310.2 1517.37 2306.56 1517.37 M2306.56 1513.66 Q2312.37 1513.66 2315.43 1518.27 Q2318.51 1522.85 2318.51 1531.6 Q2318.51 1540.33 2315.43 1544.94 Q2312.37 1549.52 2306.56 1549.52 Q2300.75 1549.52 2297.68 1544.94 Q2294.62 1540.33 2294.62 1531.6 Q2294.62 1522.85 2297.68 1518.27 Q2300.75 1513.66 2306.56 1513.66 Z\" fill=\"#000000\" fill-rule=\"nonzero\" fill-opacity=\"1\" /><polyline clip-path=\"url(#clip080)\" style=\"stroke:#000000; stroke-linecap:round; stroke-linejoin:round; stroke-width:4; stroke-opacity:1; fill:none\" points=\"193.936,1486.45 193.936,47.2441 \"/>\n",
       "<polyline clip-path=\"url(#clip080)\" style=\"stroke:#000000; stroke-linecap:round; stroke-linejoin:round; stroke-width:4; stroke-opacity:1; fill:none\" points=\"193.936,1263.09 212.834,1263.09 \"/>\n",
       "<polyline clip-path=\"url(#clip080)\" style=\"stroke:#000000; stroke-linecap:round; stroke-linejoin:round; stroke-width:4; stroke-opacity:1; fill:none\" points=\"193.936,953.282 212.834,953.282 \"/>\n",
       "<polyline clip-path=\"url(#clip080)\" style=\"stroke:#000000; stroke-linecap:round; stroke-linejoin:round; stroke-width:4; stroke-opacity:1; fill:none\" points=\"193.936,643.479 212.834,643.479 \"/>\n",
       "<polyline clip-path=\"url(#clip080)\" style=\"stroke:#000000; stroke-linecap:round; stroke-linejoin:round; stroke-width:4; stroke-opacity:1; fill:none\" points=\"193.936,333.676 212.834,333.676 \"/>\n",
       "<path clip-path=\"url(#clip080)\" d=\"M50.9921 1263.54 L80.6679 1263.54 L80.6679 1267.47 L50.9921 1267.47 L50.9921 1263.54 Z\" fill=\"#000000\" fill-rule=\"nonzero\" fill-opacity=\"1\" /><path clip-path=\"url(#clip080)\" d=\"M104.927 1261.73 Q108.283 1262.45 110.158 1264.72 Q112.057 1266.99 112.057 1270.32 Q112.057 1275.43 108.538 1278.24 Q105.02 1281.04 98.5382 1281.04 Q96.3623 1281.04 94.0475 1280.6 Q91.7558 1280.18 89.3021 1279.32 L89.3021 1274.81 Q91.2465 1275.94 93.5613 1276.52 Q95.8761 1277.1 98.3993 1277.1 Q102.797 1277.1 105.089 1275.37 Q107.404 1273.63 107.404 1270.32 Q107.404 1267.26 105.251 1265.55 Q103.121 1263.81 99.3021 1263.81 L95.2743 1263.81 L95.2743 1259.97 L99.4872 1259.97 Q102.936 1259.97 104.765 1258.61 Q106.594 1257.22 106.594 1254.62 Q106.594 1251.96 104.696 1250.55 Q102.821 1249.12 99.3021 1249.12 Q97.3808 1249.12 95.1817 1249.53 Q92.9826 1249.95 90.3438 1250.83 L90.3438 1246.66 Q93.0058 1245.92 95.3206 1245.55 Q97.6585 1245.18 99.7187 1245.18 Q105.043 1245.18 108.145 1247.61 Q111.246 1250.02 111.246 1254.14 Q111.246 1257.01 109.603 1259 Q107.959 1260.97 104.927 1261.73 Z\" fill=\"#000000\" fill-rule=\"nonzero\" fill-opacity=\"1\" /><path clip-path=\"url(#clip080)\" d=\"M120.922 1274.49 L125.807 1274.49 L125.807 1280.37 L120.922 1280.37 L120.922 1274.49 Z\" fill=\"#000000\" fill-rule=\"nonzero\" fill-opacity=\"1\" /><path clip-path=\"url(#clip080)\" d=\"M145.992 1248.88 Q142.381 1248.88 140.552 1252.45 Q138.746 1255.99 138.746 1263.12 Q138.746 1270.23 140.552 1273.79 Q142.381 1277.33 145.992 1277.33 Q149.626 1277.33 151.431 1273.79 Q153.26 1270.23 153.26 1263.12 Q153.26 1255.99 151.431 1252.45 Q149.626 1248.88 145.992 1248.88 M145.992 1245.18 Q151.802 1245.18 154.857 1249.79 Q157.936 1254.37 157.936 1263.12 Q157.936 1271.85 154.857 1276.45 Q151.802 1281.04 145.992 1281.04 Q140.181 1281.04 137.103 1276.45 Q134.047 1271.85 134.047 1263.12 Q134.047 1254.37 137.103 1249.79 Q140.181 1245.18 145.992 1245.18 Z\" fill=\"#000000\" fill-rule=\"nonzero\" fill-opacity=\"1\" /><path clip-path=\"url(#clip080)\" d=\"M51.9875 953.734 L81.6633 953.734 L81.6633 957.669 L51.9875 957.669 L51.9875 953.734 Z\" fill=\"#000000\" fill-rule=\"nonzero\" fill-opacity=\"1\" /><path clip-path=\"url(#clip080)\" d=\"M95.7836 966.627 L112.103 966.627 L112.103 970.562 L90.1586 970.562 L90.1586 966.627 Q92.8206 963.872 97.4039 959.243 Q102.01 954.59 103.191 953.247 Q105.436 950.724 106.316 948.988 Q107.219 947.229 107.219 945.539 Q107.219 942.785 105.274 941.048 Q103.353 939.312 100.251 939.312 Q98.0521 939.312 95.5984 940.076 Q93.1678 940.84 90.3901 942.391 L90.3901 937.669 Q93.2141 936.535 95.6678 935.956 Q98.1215 935.377 100.159 935.377 Q105.529 935.377 108.723 938.062 Q111.918 940.748 111.918 945.238 Q111.918 947.368 111.108 949.289 Q110.321 951.187 108.214 953.78 Q107.635 954.451 104.534 957.669 Q101.432 960.863 95.7836 966.627 Z\" fill=\"#000000\" fill-rule=\"nonzero\" fill-opacity=\"1\" /><path clip-path=\"url(#clip080)\" d=\"M121.918 964.683 L126.802 964.683 L126.802 970.562 L121.918 970.562 L121.918 964.683 Z\" fill=\"#000000\" fill-rule=\"nonzero\" fill-opacity=\"1\" /><path clip-path=\"url(#clip080)\" d=\"M137.033 936.002 L155.39 936.002 L155.39 939.937 L141.316 939.937 L141.316 948.41 Q142.334 948.062 143.353 947.9 Q144.371 947.715 145.39 947.715 Q151.177 947.715 154.556 950.886 Q157.936 954.058 157.936 959.474 Q157.936 965.053 154.464 968.155 Q150.992 971.233 144.672 971.233 Q142.496 971.233 140.228 970.863 Q137.982 970.493 135.575 969.752 L135.575 965.053 Q137.658 966.187 139.881 966.743 Q142.103 967.298 144.58 967.298 Q148.584 967.298 150.922 965.192 Q153.26 963.085 153.26 959.474 Q153.26 955.863 150.922 953.757 Q148.584 951.65 144.58 951.65 Q142.705 951.65 140.83 952.067 Q138.978 952.484 137.033 953.363 L137.033 936.002 Z\" fill=\"#000000\" fill-rule=\"nonzero\" fill-opacity=\"1\" /><path clip-path=\"url(#clip080)\" d=\"M50.9921 643.931 L80.6679 643.931 L80.6679 647.866 L50.9921 647.866 L50.9921 643.931 Z\" fill=\"#000000\" fill-rule=\"nonzero\" fill-opacity=\"1\" /><path clip-path=\"url(#clip080)\" d=\"M94.7882 656.824 L111.108 656.824 L111.108 660.759 L89.1632 660.759 L89.1632 656.824 Q91.8252 654.07 96.4085 649.44 Q101.015 644.787 102.196 643.445 Q104.441 640.921 105.321 639.185 Q106.223 637.426 106.223 635.736 Q106.223 632.982 104.279 631.246 Q102.358 629.51 99.2558 629.51 Q97.0567 629.51 94.603 630.273 Q92.1725 631.037 89.3947 632.588 L89.3947 627.866 Q92.2188 626.732 94.6724 626.153 Q97.1261 625.574 99.1632 625.574 Q104.534 625.574 107.728 628.26 Q110.922 630.945 110.922 635.435 Q110.922 637.565 110.112 639.486 Q109.325 641.384 107.219 643.977 Q106.64 644.648 103.538 647.866 Q100.436 651.06 94.7882 656.824 Z\" fill=\"#000000\" fill-rule=\"nonzero\" fill-opacity=\"1\" /><path clip-path=\"url(#clip080)\" d=\"M120.922 654.88 L125.807 654.88 L125.807 660.759 L120.922 660.759 L120.922 654.88 Z\" fill=\"#000000\" fill-rule=\"nonzero\" fill-opacity=\"1\" /><path clip-path=\"url(#clip080)\" d=\"M145.992 629.278 Q142.381 629.278 140.552 632.843 Q138.746 636.384 138.746 643.514 Q138.746 650.621 140.552 654.185 Q142.381 657.727 145.992 657.727 Q149.626 657.727 151.431 654.185 Q153.26 650.621 153.26 643.514 Q153.26 636.384 151.431 632.843 Q149.626 629.278 145.992 629.278 M145.992 625.574 Q151.802 625.574 154.857 630.181 Q157.936 634.764 157.936 643.514 Q157.936 652.241 154.857 656.847 Q151.802 661.431 145.992 661.431 Q140.181 661.431 137.103 656.847 Q134.047 652.241 134.047 643.514 Q134.047 634.764 137.103 630.181 Q140.181 625.574 145.992 625.574 Z\" fill=\"#000000\" fill-rule=\"nonzero\" fill-opacity=\"1\" /><path clip-path=\"url(#clip080)\" d=\"M51.9875 334.128 L81.6633 334.128 L81.6633 338.063 L51.9875 338.063 L51.9875 334.128 Z\" fill=\"#000000\" fill-rule=\"nonzero\" fill-opacity=\"1\" /><path clip-path=\"url(#clip080)\" d=\"M92.566 347.021 L100.205 347.021 L100.205 320.656 L91.8947 322.322 L91.8947 318.063 L100.159 316.396 L104.834 316.396 L104.834 347.021 L112.473 347.021 L112.473 350.956 L92.566 350.956 L92.566 347.021 Z\" fill=\"#000000\" fill-rule=\"nonzero\" fill-opacity=\"1\" /><path clip-path=\"url(#clip080)\" d=\"M121.918 345.077 L126.802 345.077 L126.802 350.956 L121.918 350.956 L121.918 345.077 Z\" fill=\"#000000\" fill-rule=\"nonzero\" fill-opacity=\"1\" /><path clip-path=\"url(#clip080)\" d=\"M137.033 316.396 L155.39 316.396 L155.39 320.332 L141.316 320.332 L141.316 328.804 Q142.334 328.457 143.353 328.295 Q144.371 328.109 145.39 328.109 Q151.177 328.109 154.556 331.281 Q157.936 334.452 157.936 339.869 Q157.936 345.447 154.464 348.549 Q150.992 351.628 144.672 351.628 Q142.496 351.628 140.228 351.257 Q137.982 350.887 135.575 350.146 L135.575 345.447 Q137.658 346.582 139.881 347.137 Q142.103 347.693 144.58 347.693 Q148.584 347.693 150.922 345.586 Q153.26 343.48 153.26 339.869 Q153.26 336.257 150.922 334.151 Q148.584 332.045 144.58 332.045 Q142.705 332.045 140.83 332.461 Q138.978 332.878 137.033 333.758 L137.033 316.396 Z\" fill=\"#000000\" fill-rule=\"nonzero\" fill-opacity=\"1\" /><polyline clip-path=\"url(#clip082)\" style=\"stroke:#009af9; stroke-linecap:round; stroke-linejoin:round; stroke-width:4; stroke-opacity:1; fill:none\" points=\"255.035,87.9763 362.225,924.693 469.416,1445.72 576.607,1058.72 683.797,1063.89 790.988,1064.34 898.179,1064.6 1005.37,1064.84 1112.56,1065.05 1219.75,1065.24 1326.94,1065.41 1434.13,1065.56 1541.32,1065.69 1648.51,1065.81 1755.7,1065.9 1862.89,1065.98 1970.09,1066.03 2077.28,1066.06 2184.47,1066.07 2291.66,1066.04 \"/>\n",
       "<path clip-path=\"url(#clip080)\" d=\"M2012.48 198.898 L2280.8 198.898 L2280.8 95.2176 L2012.48 95.2176  Z\" fill=\"#ffffff\" fill-rule=\"evenodd\" fill-opacity=\"1\"/>\n",
       "<polyline clip-path=\"url(#clip080)\" style=\"stroke:#000000; stroke-linecap:round; stroke-linejoin:round; stroke-width:4; stroke-opacity:1; fill:none\" points=\"2012.48,198.898 2280.8,198.898 2280.8,95.2176 2012.48,95.2176 2012.48,198.898 \"/>\n",
       "<polyline clip-path=\"url(#clip080)\" style=\"stroke:#009af9; stroke-linecap:round; stroke-linejoin:round; stroke-width:4; stroke-opacity:1; fill:none\" points=\"2036.47,147.058 2180.39,147.058 \"/>\n",
       "<path clip-path=\"url(#clip080)\" d=\"M2218.22 166.745 Q2216.42 171.375 2214.7 172.787 Q2212.99 174.199 2210.12 174.199 L2206.72 174.199 L2206.72 170.634 L2209.22 170.634 Q2210.98 170.634 2211.95 169.8 Q2212.92 168.967 2214.1 165.865 L2214.86 163.921 L2204.38 138.412 L2208.89 138.412 L2216.99 158.689 L2225.1 138.412 L2229.61 138.412 L2218.22 166.745 Z\" fill=\"#000000\" fill-rule=\"nonzero\" fill-opacity=\"1\" /><path clip-path=\"url(#clip080)\" d=\"M2236.9 160.402 L2244.54 160.402 L2244.54 134.037 L2236.23 135.703 L2236.23 131.444 L2244.49 129.778 L2249.17 129.778 L2249.17 160.402 L2256.81 160.402 L2256.81 164.338 L2236.9 164.338 L2236.9 160.402 Z\" fill=\"#000000\" fill-rule=\"nonzero\" fill-opacity=\"1\" /></svg>\n"
      ],
      "text/html": [
       "<?xml version=\"1.0\" encoding=\"utf-8\"?>\n",
       "<svg xmlns=\"http://www.w3.org/2000/svg\" xmlns:xlink=\"http://www.w3.org/1999/xlink\" width=\"600\" height=\"400\" viewBox=\"0 0 2400 1600\">\n",
       "<defs>\n",
       "  <clipPath id=\"clip130\">\n",
       "    <rect x=\"0\" y=\"0\" width=\"2400\" height=\"1600\"/>\n",
       "  </clipPath>\n",
       "</defs>\n",
       "<path clip-path=\"url(#clip130)\" d=\"M0 1600 L2400 1600 L2400 0 L0 0  Z\" fill=\"#ffffff\" fill-rule=\"evenodd\" fill-opacity=\"1\"/>\n",
       "<defs>\n",
       "  <clipPath id=\"clip131\">\n",
       "    <rect x=\"480\" y=\"0\" width=\"1681\" height=\"1600\"/>\n",
       "  </clipPath>\n",
       "</defs>\n",
       "<path clip-path=\"url(#clip130)\" d=\"M193.936 1486.45 L2352.76 1486.45 L2352.76 47.2441 L193.936 47.2441  Z\" fill=\"#ffffff\" fill-rule=\"evenodd\" fill-opacity=\"1\"/>\n",
       "<defs>\n",
       "  <clipPath id=\"clip132\">\n",
       "    <rect x=\"193\" y=\"47\" width=\"2160\" height=\"1440\"/>\n",
       "  </clipPath>\n",
       "</defs>\n",
       "<polyline clip-path=\"url(#clip132)\" style=\"stroke:#000000; stroke-linecap:round; stroke-linejoin:round; stroke-width:2; stroke-opacity:0.1; fill:none\" points=\"683.797,1486.45 683.797,47.2441 \"/>\n",
       "<polyline clip-path=\"url(#clip132)\" style=\"stroke:#000000; stroke-linecap:round; stroke-linejoin:round; stroke-width:2; stroke-opacity:0.1; fill:none\" points=\"1219.75,1486.45 1219.75,47.2441 \"/>\n",
       "<polyline clip-path=\"url(#clip132)\" style=\"stroke:#000000; stroke-linecap:round; stroke-linejoin:round; stroke-width:2; stroke-opacity:0.1; fill:none\" points=\"1755.7,1486.45 1755.7,47.2441 \"/>\n",
       "<polyline clip-path=\"url(#clip132)\" style=\"stroke:#000000; stroke-linecap:round; stroke-linejoin:round; stroke-width:2; stroke-opacity:0.1; fill:none\" points=\"2291.66,1486.45 2291.66,47.2441 \"/>\n",
       "<polyline clip-path=\"url(#clip132)\" style=\"stroke:#000000; stroke-linecap:round; stroke-linejoin:round; stroke-width:2; stroke-opacity:0.1; fill:none\" points=\"193.936,1263.09 2352.76,1263.09 \"/>\n",
       "<polyline clip-path=\"url(#clip132)\" style=\"stroke:#000000; stroke-linecap:round; stroke-linejoin:round; stroke-width:2; stroke-opacity:0.1; fill:none\" points=\"193.936,953.282 2352.76,953.282 \"/>\n",
       "<polyline clip-path=\"url(#clip132)\" style=\"stroke:#000000; stroke-linecap:round; stroke-linejoin:round; stroke-width:2; stroke-opacity:0.1; fill:none\" points=\"193.936,643.479 2352.76,643.479 \"/>\n",
       "<polyline clip-path=\"url(#clip132)\" style=\"stroke:#000000; stroke-linecap:round; stroke-linejoin:round; stroke-width:2; stroke-opacity:0.1; fill:none\" points=\"193.936,333.676 2352.76,333.676 \"/>\n",
       "<polyline clip-path=\"url(#clip130)\" style=\"stroke:#000000; stroke-linecap:round; stroke-linejoin:round; stroke-width:4; stroke-opacity:1; fill:none\" points=\"193.936,1486.45 2352.76,1486.45 \"/>\n",
       "<polyline clip-path=\"url(#clip130)\" style=\"stroke:#000000; stroke-linecap:round; stroke-linejoin:round; stroke-width:4; stroke-opacity:1; fill:none\" points=\"683.797,1486.45 683.797,1467.55 \"/>\n",
       "<polyline clip-path=\"url(#clip130)\" style=\"stroke:#000000; stroke-linecap:round; stroke-linejoin:round; stroke-width:4; stroke-opacity:1; fill:none\" points=\"1219.75,1486.45 1219.75,1467.55 \"/>\n",
       "<polyline clip-path=\"url(#clip130)\" style=\"stroke:#000000; stroke-linecap:round; stroke-linejoin:round; stroke-width:4; stroke-opacity:1; fill:none\" points=\"1755.7,1486.45 1755.7,1467.55 \"/>\n",
       "<polyline clip-path=\"url(#clip130)\" style=\"stroke:#000000; stroke-linecap:round; stroke-linejoin:round; stroke-width:4; stroke-opacity:1; fill:none\" points=\"2291.66,1486.45 2291.66,1467.55 \"/>\n",
       "<path clip-path=\"url(#clip130)\" d=\"M674.075 1514.29 L692.432 1514.29 L692.432 1518.22 L678.358 1518.22 L678.358 1526.7 Q679.376 1526.35 680.395 1526.19 Q681.413 1526 682.432 1526 Q688.219 1526 691.598 1529.17 Q694.978 1532.34 694.978 1537.76 Q694.978 1543.34 691.506 1546.44 Q688.033 1549.52 681.714 1549.52 Q679.538 1549.52 677.27 1549.15 Q675.024 1548.78 672.617 1548.04 L672.617 1543.34 Q674.7 1544.47 676.922 1545.03 Q679.145 1545.58 681.621 1545.58 Q685.626 1545.58 687.964 1543.48 Q690.302 1541.37 690.302 1537.76 Q690.302 1534.15 687.964 1532.04 Q685.626 1529.94 681.621 1529.94 Q679.746 1529.94 677.871 1530.35 Q676.02 1530.77 674.075 1531.65 L674.075 1514.29 Z\" fill=\"#000000\" fill-rule=\"nonzero\" fill-opacity=\"1\" /><path clip-path=\"url(#clip130)\" d=\"M1194.44 1544.91 L1202.08 1544.91 L1202.08 1518.55 L1193.77 1520.21 L1193.77 1515.95 L1202.03 1514.29 L1206.71 1514.29 L1206.71 1544.91 L1214.35 1544.91 L1214.35 1548.85 L1194.44 1548.85 L1194.44 1544.91 Z\" fill=\"#000000\" fill-rule=\"nonzero\" fill-opacity=\"1\" /><path clip-path=\"url(#clip130)\" d=\"M1233.79 1517.37 Q1230.18 1517.37 1228.35 1520.93 Q1226.54 1524.47 1226.54 1531.6 Q1226.54 1538.71 1228.35 1542.27 Q1230.18 1545.82 1233.79 1545.82 Q1237.42 1545.82 1239.23 1542.27 Q1241.06 1538.71 1241.06 1531.6 Q1241.06 1524.47 1239.23 1520.93 Q1237.42 1517.37 1233.79 1517.37 M1233.79 1513.66 Q1239.6 1513.66 1242.66 1518.27 Q1245.73 1522.85 1245.73 1531.6 Q1245.73 1540.33 1242.66 1544.94 Q1239.6 1549.52 1233.79 1549.52 Q1227.98 1549.52 1224.9 1544.94 Q1221.85 1540.33 1221.85 1531.6 Q1221.85 1522.85 1224.9 1518.27 Q1227.98 1513.66 1233.79 1513.66 Z\" fill=\"#000000\" fill-rule=\"nonzero\" fill-opacity=\"1\" /><path clip-path=\"url(#clip130)\" d=\"M1730.89 1544.91 L1738.53 1544.91 L1738.53 1518.55 L1730.22 1520.21 L1730.22 1515.95 L1738.48 1514.29 L1743.16 1514.29 L1743.16 1544.91 L1750.8 1544.91 L1750.8 1548.85 L1730.89 1548.85 L1730.89 1544.91 Z\" fill=\"#000000\" fill-rule=\"nonzero\" fill-opacity=\"1\" /><path clip-path=\"url(#clip130)\" d=\"M1760.29 1514.29 L1778.64 1514.29 L1778.64 1518.22 L1764.57 1518.22 L1764.57 1526.7 Q1765.59 1526.35 1766.61 1526.19 Q1767.63 1526 1768.64 1526 Q1774.43 1526 1777.81 1529.17 Q1781.19 1532.34 1781.19 1537.76 Q1781.19 1543.34 1777.72 1546.44 Q1774.25 1549.52 1767.93 1549.52 Q1765.75 1549.52 1763.48 1549.15 Q1761.24 1548.78 1758.83 1548.04 L1758.83 1543.34 Q1760.91 1544.47 1763.13 1545.03 Q1765.36 1545.58 1767.83 1545.58 Q1771.84 1545.58 1774.18 1543.48 Q1776.51 1541.37 1776.51 1537.76 Q1776.51 1534.15 1774.18 1532.04 Q1771.84 1529.94 1767.83 1529.94 Q1765.96 1529.94 1764.08 1530.35 Q1762.23 1530.77 1760.29 1531.65 L1760.29 1514.29 Z\" fill=\"#000000\" fill-rule=\"nonzero\" fill-opacity=\"1\" /><path clip-path=\"url(#clip130)\" d=\"M2270.43 1544.91 L2286.75 1544.91 L2286.75 1548.85 L2264.81 1548.85 L2264.81 1544.91 Q2267.47 1542.16 2272.05 1537.53 Q2276.66 1532.88 2277.84 1531.53 Q2280.08 1529.01 2280.96 1527.27 Q2281.87 1525.51 2281.87 1523.82 Q2281.87 1521.07 2279.92 1519.33 Q2278 1517.6 2274.9 1517.6 Q2272.7 1517.6 2270.25 1518.36 Q2267.81 1519.13 2265.04 1520.68 L2265.04 1515.95 Q2267.86 1514.82 2270.31 1514.24 Q2272.77 1513.66 2274.81 1513.66 Q2280.18 1513.66 2283.37 1516.35 Q2286.56 1519.03 2286.56 1523.52 Q2286.56 1525.65 2285.75 1527.57 Q2284.97 1529.47 2282.86 1532.07 Q2282.28 1532.74 2279.18 1535.95 Q2276.08 1539.15 2270.43 1544.91 Z\" fill=\"#000000\" fill-rule=\"nonzero\" fill-opacity=\"1\" /><path clip-path=\"url(#clip130)\" d=\"M2306.56 1517.37 Q2302.95 1517.37 2301.12 1520.93 Q2299.32 1524.47 2299.32 1531.6 Q2299.32 1538.71 2301.12 1542.27 Q2302.95 1545.82 2306.56 1545.82 Q2310.2 1545.82 2312 1542.27 Q2313.83 1538.71 2313.83 1531.6 Q2313.83 1524.47 2312 1520.93 Q2310.2 1517.37 2306.56 1517.37 M2306.56 1513.66 Q2312.37 1513.66 2315.43 1518.27 Q2318.51 1522.85 2318.51 1531.6 Q2318.51 1540.33 2315.43 1544.94 Q2312.37 1549.52 2306.56 1549.52 Q2300.75 1549.52 2297.68 1544.94 Q2294.62 1540.33 2294.62 1531.6 Q2294.62 1522.85 2297.68 1518.27 Q2300.75 1513.66 2306.56 1513.66 Z\" fill=\"#000000\" fill-rule=\"nonzero\" fill-opacity=\"1\" /><polyline clip-path=\"url(#clip130)\" style=\"stroke:#000000; stroke-linecap:round; stroke-linejoin:round; stroke-width:4; stroke-opacity:1; fill:none\" points=\"193.936,1486.45 193.936,47.2441 \"/>\n",
       "<polyline clip-path=\"url(#clip130)\" style=\"stroke:#000000; stroke-linecap:round; stroke-linejoin:round; stroke-width:4; stroke-opacity:1; fill:none\" points=\"193.936,1263.09 212.834,1263.09 \"/>\n",
       "<polyline clip-path=\"url(#clip130)\" style=\"stroke:#000000; stroke-linecap:round; stroke-linejoin:round; stroke-width:4; stroke-opacity:1; fill:none\" points=\"193.936,953.282 212.834,953.282 \"/>\n",
       "<polyline clip-path=\"url(#clip130)\" style=\"stroke:#000000; stroke-linecap:round; stroke-linejoin:round; stroke-width:4; stroke-opacity:1; fill:none\" points=\"193.936,643.479 212.834,643.479 \"/>\n",
       "<polyline clip-path=\"url(#clip130)\" style=\"stroke:#000000; stroke-linecap:round; stroke-linejoin:round; stroke-width:4; stroke-opacity:1; fill:none\" points=\"193.936,333.676 212.834,333.676 \"/>\n",
       "<path clip-path=\"url(#clip130)\" d=\"M50.9921 1263.54 L80.6679 1263.54 L80.6679 1267.47 L50.9921 1267.47 L50.9921 1263.54 Z\" fill=\"#000000\" fill-rule=\"nonzero\" fill-opacity=\"1\" /><path clip-path=\"url(#clip130)\" d=\"M104.927 1261.73 Q108.283 1262.45 110.158 1264.72 Q112.057 1266.99 112.057 1270.32 Q112.057 1275.43 108.538 1278.24 Q105.02 1281.04 98.5382 1281.04 Q96.3623 1281.04 94.0475 1280.6 Q91.7558 1280.18 89.3021 1279.32 L89.3021 1274.81 Q91.2465 1275.94 93.5613 1276.52 Q95.8761 1277.1 98.3993 1277.1 Q102.797 1277.1 105.089 1275.37 Q107.404 1273.63 107.404 1270.32 Q107.404 1267.26 105.251 1265.55 Q103.121 1263.81 99.3021 1263.81 L95.2743 1263.81 L95.2743 1259.97 L99.4872 1259.97 Q102.936 1259.97 104.765 1258.61 Q106.594 1257.22 106.594 1254.62 Q106.594 1251.96 104.696 1250.55 Q102.821 1249.12 99.3021 1249.12 Q97.3808 1249.12 95.1817 1249.53 Q92.9826 1249.95 90.3438 1250.83 L90.3438 1246.66 Q93.0058 1245.92 95.3206 1245.55 Q97.6585 1245.18 99.7187 1245.18 Q105.043 1245.18 108.145 1247.61 Q111.246 1250.02 111.246 1254.14 Q111.246 1257.01 109.603 1259 Q107.959 1260.97 104.927 1261.73 Z\" fill=\"#000000\" fill-rule=\"nonzero\" fill-opacity=\"1\" /><path clip-path=\"url(#clip130)\" d=\"M120.922 1274.49 L125.807 1274.49 L125.807 1280.37 L120.922 1280.37 L120.922 1274.49 Z\" fill=\"#000000\" fill-rule=\"nonzero\" fill-opacity=\"1\" /><path clip-path=\"url(#clip130)\" d=\"M145.992 1248.88 Q142.381 1248.88 140.552 1252.45 Q138.746 1255.99 138.746 1263.12 Q138.746 1270.23 140.552 1273.79 Q142.381 1277.33 145.992 1277.33 Q149.626 1277.33 151.431 1273.79 Q153.26 1270.23 153.26 1263.12 Q153.26 1255.99 151.431 1252.45 Q149.626 1248.88 145.992 1248.88 M145.992 1245.18 Q151.802 1245.18 154.857 1249.79 Q157.936 1254.37 157.936 1263.12 Q157.936 1271.85 154.857 1276.45 Q151.802 1281.04 145.992 1281.04 Q140.181 1281.04 137.103 1276.45 Q134.047 1271.85 134.047 1263.12 Q134.047 1254.37 137.103 1249.79 Q140.181 1245.18 145.992 1245.18 Z\" fill=\"#000000\" fill-rule=\"nonzero\" fill-opacity=\"1\" /><path clip-path=\"url(#clip130)\" d=\"M51.9875 953.734 L81.6633 953.734 L81.6633 957.669 L51.9875 957.669 L51.9875 953.734 Z\" fill=\"#000000\" fill-rule=\"nonzero\" fill-opacity=\"1\" /><path clip-path=\"url(#clip130)\" d=\"M95.7836 966.627 L112.103 966.627 L112.103 970.562 L90.1586 970.562 L90.1586 966.627 Q92.8206 963.872 97.4039 959.243 Q102.01 954.59 103.191 953.247 Q105.436 950.724 106.316 948.988 Q107.219 947.229 107.219 945.539 Q107.219 942.785 105.274 941.048 Q103.353 939.312 100.251 939.312 Q98.0521 939.312 95.5984 940.076 Q93.1678 940.84 90.3901 942.391 L90.3901 937.669 Q93.2141 936.535 95.6678 935.956 Q98.1215 935.377 100.159 935.377 Q105.529 935.377 108.723 938.062 Q111.918 940.748 111.918 945.238 Q111.918 947.368 111.108 949.289 Q110.321 951.187 108.214 953.78 Q107.635 954.451 104.534 957.669 Q101.432 960.863 95.7836 966.627 Z\" fill=\"#000000\" fill-rule=\"nonzero\" fill-opacity=\"1\" /><path clip-path=\"url(#clip130)\" d=\"M121.918 964.683 L126.802 964.683 L126.802 970.562 L121.918 970.562 L121.918 964.683 Z\" fill=\"#000000\" fill-rule=\"nonzero\" fill-opacity=\"1\" /><path clip-path=\"url(#clip130)\" d=\"M137.033 936.002 L155.39 936.002 L155.39 939.937 L141.316 939.937 L141.316 948.41 Q142.334 948.062 143.353 947.9 Q144.371 947.715 145.39 947.715 Q151.177 947.715 154.556 950.886 Q157.936 954.058 157.936 959.474 Q157.936 965.053 154.464 968.155 Q150.992 971.233 144.672 971.233 Q142.496 971.233 140.228 970.863 Q137.982 970.493 135.575 969.752 L135.575 965.053 Q137.658 966.187 139.881 966.743 Q142.103 967.298 144.58 967.298 Q148.584 967.298 150.922 965.192 Q153.26 963.085 153.26 959.474 Q153.26 955.863 150.922 953.757 Q148.584 951.65 144.58 951.65 Q142.705 951.65 140.83 952.067 Q138.978 952.484 137.033 953.363 L137.033 936.002 Z\" fill=\"#000000\" fill-rule=\"nonzero\" fill-opacity=\"1\" /><path clip-path=\"url(#clip130)\" d=\"M50.9921 643.931 L80.6679 643.931 L80.6679 647.866 L50.9921 647.866 L50.9921 643.931 Z\" fill=\"#000000\" fill-rule=\"nonzero\" fill-opacity=\"1\" /><path clip-path=\"url(#clip130)\" d=\"M94.7882 656.824 L111.108 656.824 L111.108 660.759 L89.1632 660.759 L89.1632 656.824 Q91.8252 654.07 96.4085 649.44 Q101.015 644.787 102.196 643.445 Q104.441 640.921 105.321 639.185 Q106.223 637.426 106.223 635.736 Q106.223 632.982 104.279 631.246 Q102.358 629.51 99.2558 629.51 Q97.0567 629.51 94.603 630.273 Q92.1725 631.037 89.3947 632.588 L89.3947 627.866 Q92.2188 626.732 94.6724 626.153 Q97.1261 625.574 99.1632 625.574 Q104.534 625.574 107.728 628.26 Q110.922 630.945 110.922 635.435 Q110.922 637.565 110.112 639.486 Q109.325 641.384 107.219 643.977 Q106.64 644.648 103.538 647.866 Q100.436 651.06 94.7882 656.824 Z\" fill=\"#000000\" fill-rule=\"nonzero\" fill-opacity=\"1\" /><path clip-path=\"url(#clip130)\" d=\"M120.922 654.88 L125.807 654.88 L125.807 660.759 L120.922 660.759 L120.922 654.88 Z\" fill=\"#000000\" fill-rule=\"nonzero\" fill-opacity=\"1\" /><path clip-path=\"url(#clip130)\" d=\"M145.992 629.278 Q142.381 629.278 140.552 632.843 Q138.746 636.384 138.746 643.514 Q138.746 650.621 140.552 654.185 Q142.381 657.727 145.992 657.727 Q149.626 657.727 151.431 654.185 Q153.26 650.621 153.26 643.514 Q153.26 636.384 151.431 632.843 Q149.626 629.278 145.992 629.278 M145.992 625.574 Q151.802 625.574 154.857 630.181 Q157.936 634.764 157.936 643.514 Q157.936 652.241 154.857 656.847 Q151.802 661.431 145.992 661.431 Q140.181 661.431 137.103 656.847 Q134.047 652.241 134.047 643.514 Q134.047 634.764 137.103 630.181 Q140.181 625.574 145.992 625.574 Z\" fill=\"#000000\" fill-rule=\"nonzero\" fill-opacity=\"1\" /><path clip-path=\"url(#clip130)\" d=\"M51.9875 334.128 L81.6633 334.128 L81.6633 338.063 L51.9875 338.063 L51.9875 334.128 Z\" fill=\"#000000\" fill-rule=\"nonzero\" fill-opacity=\"1\" /><path clip-path=\"url(#clip130)\" d=\"M92.566 347.021 L100.205 347.021 L100.205 320.656 L91.8947 322.322 L91.8947 318.063 L100.159 316.396 L104.834 316.396 L104.834 347.021 L112.473 347.021 L112.473 350.956 L92.566 350.956 L92.566 347.021 Z\" fill=\"#000000\" fill-rule=\"nonzero\" fill-opacity=\"1\" /><path clip-path=\"url(#clip130)\" d=\"M121.918 345.077 L126.802 345.077 L126.802 350.956 L121.918 350.956 L121.918 345.077 Z\" fill=\"#000000\" fill-rule=\"nonzero\" fill-opacity=\"1\" /><path clip-path=\"url(#clip130)\" d=\"M137.033 316.396 L155.39 316.396 L155.39 320.332 L141.316 320.332 L141.316 328.804 Q142.334 328.457 143.353 328.295 Q144.371 328.109 145.39 328.109 Q151.177 328.109 154.556 331.281 Q157.936 334.452 157.936 339.869 Q157.936 345.447 154.464 348.549 Q150.992 351.628 144.672 351.628 Q142.496 351.628 140.228 351.257 Q137.982 350.887 135.575 350.146 L135.575 345.447 Q137.658 346.582 139.881 347.137 Q142.103 347.693 144.58 347.693 Q148.584 347.693 150.922 345.586 Q153.26 343.48 153.26 339.869 Q153.26 336.257 150.922 334.151 Q148.584 332.045 144.58 332.045 Q142.705 332.045 140.83 332.461 Q138.978 332.878 137.033 333.758 L137.033 316.396 Z\" fill=\"#000000\" fill-rule=\"nonzero\" fill-opacity=\"1\" /><polyline clip-path=\"url(#clip132)\" style=\"stroke:#009af9; stroke-linecap:round; stroke-linejoin:round; stroke-width:4; stroke-opacity:1; fill:none\" points=\"255.035,87.9763 362.225,924.693 469.416,1445.72 576.607,1058.72 683.797,1063.89 790.988,1064.34 898.179,1064.6 1005.37,1064.84 1112.56,1065.05 1219.75,1065.24 1326.94,1065.41 1434.13,1065.56 1541.32,1065.69 1648.51,1065.81 1755.7,1065.9 1862.89,1065.98 1970.09,1066.03 2077.28,1066.06 2184.47,1066.07 2291.66,1066.04 \"/>\n",
       "<path clip-path=\"url(#clip130)\" d=\"M2012.48 198.898 L2280.8 198.898 L2280.8 95.2176 L2012.48 95.2176  Z\" fill=\"#ffffff\" fill-rule=\"evenodd\" fill-opacity=\"1\"/>\n",
       "<polyline clip-path=\"url(#clip130)\" style=\"stroke:#000000; stroke-linecap:round; stroke-linejoin:round; stroke-width:4; stroke-opacity:1; fill:none\" points=\"2012.48,198.898 2280.8,198.898 2280.8,95.2176 2012.48,95.2176 2012.48,198.898 \"/>\n",
       "<polyline clip-path=\"url(#clip130)\" style=\"stroke:#009af9; stroke-linecap:round; stroke-linejoin:round; stroke-width:4; stroke-opacity:1; fill:none\" points=\"2036.47,147.058 2180.39,147.058 \"/>\n",
       "<path clip-path=\"url(#clip130)\" d=\"M2218.22 166.745 Q2216.42 171.375 2214.7 172.787 Q2212.99 174.199 2210.12 174.199 L2206.72 174.199 L2206.72 170.634 L2209.22 170.634 Q2210.98 170.634 2211.95 169.8 Q2212.92 168.967 2214.1 165.865 L2214.86 163.921 L2204.38 138.412 L2208.89 138.412 L2216.99 158.689 L2225.1 138.412 L2229.61 138.412 L2218.22 166.745 Z\" fill=\"#000000\" fill-rule=\"nonzero\" fill-opacity=\"1\" /><path clip-path=\"url(#clip130)\" d=\"M2236.9 160.402 L2244.54 160.402 L2244.54 134.037 L2236.23 135.703 L2236.23 131.444 L2244.49 129.778 L2249.17 129.778 L2249.17 160.402 L2256.81 160.402 L2256.81 164.338 L2236.9 164.338 L2236.9 160.402 Z\" fill=\"#000000\" fill-rule=\"nonzero\" fill-opacity=\"1\" /></svg>\n"
      ]
     },
     "metadata": {},
     "output_type": "display_data"
    }
   ],
   "source": [
    "using Plots\n",
    "plot(log10.(e))"
   ]
  },
  {
   "cell_type": "code",
   "execution_count": 101,
   "id": "57ab41b8",
   "metadata": {},
   "outputs": [
    {
     "data": {
      "text/plain": [
       "0"
      ]
     },
     "metadata": {},
     "output_type": "display_data"
    }
   ],
   "source": [
    "u1 = copy(r1)\n",
    "r0 = FEM.nodePositionVector(problem)\n",
    "for i in 1:size(r1.a, 2)\n",
    "    u1.a[:, i] = r1.a[:, i] - r0.a\n",
    "end\n",
    "\n",
    "u2 = FEM.showDoFResults(problem, u1, :uvec, visible=true)"
   ]
  },
  {
   "cell_type": "code",
   "execution_count": 75,
   "id": "f74412f6",
   "metadata": {},
   "outputs": [],
   "source": [
    "#FEM.plotOnPath(problem, \"horizontal\", u2)\n",
    "#FEM.plotOnPath(problem, \"vertical\", u2)"
   ]
  },
  {
   "cell_type": "code",
   "execution_count": 76,
   "id": "d9e04c86",
   "metadata": {},
   "outputs": [
    {
     "data": {
      "text/plain": [
       "LowLevelFEM.TensorField([[0.40000000000000213; 0.0; … ; 0.0; 0.6000000000000001;;], [0.40000000000000213; 0.0; … ; 0.0; 0.6000000000000001;;], [0.40000000000000213; 0.0; … ; 0.0; 0.6000000000000001;;], [0.40000000000000213; 0.0; … ; 0.0; 0.6000000000000001;;], [0.40000000000000213; 0.0; … ; 0.0; 0.6000000000000001;;], [0.40000000000000213; 0.0; … ; 0.0; 0.6000000000000001;;], [0.40000000000000213; 0.0; … ; 0.0; 0.6000000000000001;;], [0.40000000000000213; 0.0; … ; 0.0; 0.6000000000000001;;], [0.40000000000000213; 0.0; … ; 0.0; 0.6000000000000001;;], [0.40000000000000213; 0.0; … ; 0.0; 0.6000000000000001;;]  …  [0.40000000000000213; 0.0; … ; 0.0; 0.6000000000000001;;], [0.40000000000000213; 0.0; … ; 0.0; 0.6000000000000001;;], [0.40000000000000213; 0.0; … ; 0.0; 0.6000000000000001;;], [0.40000000000000213; 0.0; … ; 0.0; 0.6000000000000001;;], [0.40000000000000213; 0.0; … ; 0.0; 0.6000000000000001;;], [0.40000000000000213; 0.0; … ; 0.0; 0.6000000000000001;;], [0.40000000000000213; 0.0; … ; 0.0; 0.6000000000000001;;], [0.40000000000000213; 0.0; … ; 0.0; 0.6000000000000001;;], [0.40000000000000213; 0.0; … ; 0.0; 0.6000000000000001;;], [0.40000000000000213; 0.0; … ; 0.0; 0.6000000000000001;;]], Matrix{Float64}(undef, 0, 0), [0.0], [473, 474, 475, 476, 477, 478, 479, 480, 481, 482  …  783, 784, 785, 786, 787, 788, 789, 790, 791, 792], 1, :F)"
      ]
     },
     "metadata": {},
     "output_type": "display_data"
    }
   ],
   "source": [
    "r = FEM.nodePositionVector(problem)\n",
    "ux(x, y, z) = 0.4x\n",
    "uy(x, y, z) = 0.5y\n",
    "uz(x, y, z) = 0.6z\n",
    "q0 = FEM.field(\"body\", fx=ux, fy=uy, fz=uz)\n",
    "q = FEM.vectorField(problem, [q0])\n",
    "F = FEM.deformationGradient(problem, q)"
   ]
  },
  {
   "cell_type": "code",
   "execution_count": 77,
   "id": "bda3da4b",
   "metadata": {},
   "outputs": [
    {
     "data": {
      "text/plain": [
       "3×3 Matrix{Float64}:\n",
       " 0.4  0.0  0.0\n",
       " 0.0  0.5  0.0\n",
       " 0.0  0.0  0.6"
      ]
     },
     "metadata": {},
     "output_type": "display_data"
    }
   ],
   "source": [
    "reshape(F.A[1][1:9], 3, 3)"
   ]
  },
  {
   "cell_type": "code",
   "execution_count": 78,
   "id": "4aba7a4b",
   "metadata": {},
   "outputs": [
    {
     "data": {
      "text/plain": [
       "3×3 Matrix{Float64}:\n",
       " -0.42   0.0     0.0\n",
       "  0.0   -0.375   0.0\n",
       "  0.0    0.0    -0.32"
      ]
     },
     "metadata": {},
     "output_type": "display_data"
    }
   ],
   "source": [
    "E = (F' * F - FEM.unitTensor(F)) / 2\n",
    "\n",
    "reshape(E.A[1][1:9], 3, 3)"
   ]
  },
  {
   "cell_type": "code",
   "execution_count": 79,
   "id": "a7c506a2",
   "metadata": {},
   "outputs": [
    {
     "data": {
      "text/plain": [
       "3×3 Matrix{Float64}:\n",
       " -2.625   0.0   0.0\n",
       "  0.0    -1.5   0.0\n",
       "  0.0     0.0  -0.888889"
      ]
     },
     "metadata": {},
     "output_type": "display_data"
    }
   ],
   "source": [
    "e = (FEM.unitTensor(F) - inv(F * F')) / 2\n",
    "\n",
    "reshape(e.A[1][1:9], 3, 3)"
   ]
  },
  {
   "cell_type": "code",
   "execution_count": 80,
   "id": "df5feea4",
   "metadata": {},
   "outputs": [
    {
     "data": {
      "text/plain": [
       "3×3 Matrix{Float64}:\n",
       " -2.625   0.0   0.0\n",
       "  0.0    -1.5   0.0\n",
       "  0.0     0.0  -0.888889"
      ]
     },
     "metadata": {},
     "output_type": "display_data"
    }
   ],
   "source": [
    "e = inv(F') * E * inv(F)\n",
    "\n",
    "reshape(e.A[1][1:9], 3, 3)"
   ]
  },
  {
   "cell_type": "code",
   "execution_count": 81,
   "id": "eb7cd73d",
   "metadata": {},
   "outputs": [
    {
     "data": {
      "text/plain": [
       "3×3 Matrix{Float64}:\n",
       " 0.4  0.0  0.0\n",
       " 0.0  0.5  0.0\n",
       " 0.0  0.0  0.6"
      ]
     },
     "metadata": {},
     "output_type": "display_data"
    }
   ],
   "source": [
    "U = sqrt(F' * F)\n",
    "\n",
    "reshape(U.A[1][1:9], 3, 3)"
   ]
  },
  {
   "cell_type": "code",
   "execution_count": 82,
   "id": "49af293c",
   "metadata": {},
   "outputs": [
    {
     "data": {
      "text/plain": [
       "3×3 Matrix{Float64}:\n",
       " -122.128     0.0       0.0\n",
       "    0.0    -113.474     0.0\n",
       "    0.0       0.0    -108.773"
      ]
     },
     "metadata": {},
     "output_type": "display_data"
    }
   ],
   "source": [
    "Ex = 10\n",
    "νxy = 0.3\n",
    "λ = Ex * νxy / ((1 + νxy) * (1 - 2νxy))\n",
    "μ = Ex / (2 * (1 + νxy))\n",
    "I3 = FEM.unitTensor(F)\n",
    "iC = inv(F' * F)\n",
    "J1 = det(F)\n",
    "SII = μ * (I3 - iC) + λ * log(J1) / J1 * I3\n",
    "\n",
    "reshape(SII.A[1][1:9], 3, 3)"
   ]
  },
  {
   "cell_type": "code",
   "execution_count": 83,
   "id": "88fa00a0",
   "metadata": {},
   "outputs": [
    {
     "data": {
      "text/plain": [
       "probe (generic function with 1 method)"
      ]
     },
     "metadata": {},
     "output_type": "display_data"
    }
   ],
   "source": [
    "function probe(A, x, y, z)\n",
    "    elementTag, elementType, nodeTags, u, v, w = gmsh.model.mesh.getElementByCoordinates(x, y, z, 3, false)\n",
    "    elementName, dim, order, numNodes::Int64, localNodeCoord, numPrimaryNodes = gmsh.model.mesh.getElementProperties(elementType)\n",
    "    comp, fun, ori = gmsh.model.mesh.getBasisFunctions(elementType, [u, v, w], \"Lagrange\")\n",
    "    SS = [0.0, 0, 0, 0, 0, 0, 0, 0, 0]\n",
    "    if isa(A, FEM.TensorField)\n",
    "        ind = findfirst(i -> i == elementTag, SII.numElem)\n",
    "        for i in range(1, 9)\n",
    "            SS[i] = fun' * SII.A[ind][i:9:9numNodes, 1]\n",
    "        end\n",
    "    elseif isa(A, Matrix)\n",
    "        for i in range(1, 9)\n",
    "            SS[i] = fun' * A[9nodeTags.-(9-i), 1]\n",
    "        end\n",
    "    end\n",
    "    return reshape(SS, 3, 3)\n",
    "end"
   ]
  },
  {
   "cell_type": "code",
   "execution_count": 84,
   "id": "eb55a91c",
   "metadata": {},
   "outputs": [
    {
     "data": {
      "text/plain": [
       "LowLevelFEM.TensorField(Matrix{Float64}[], [-122.12805462500343; 0.0; … ; 0.0; -108.77335377030371;;], [0.0], Int64[], 1, :e)"
      ]
     },
     "metadata": {},
     "output_type": "display_data"
    }
   ],
   "source": [
    "SII2 = FEM.elementsToNodes(problem, SII)"
   ]
  },
  {
   "cell_type": "code",
   "execution_count": 85,
   "id": "0f94ba00",
   "metadata": {},
   "outputs": [
    {
     "data": {
      "text/plain": [
       "3×3 Matrix{Float64}:\n",
       " -122.128           5.46571e-14     1.7792e-14\n",
       "    5.46571e-14  -113.474          -4.55476e-15\n",
       "    1.7792e-14     -4.55476e-15  -108.773"
      ]
     },
     "metadata": {},
     "output_type": "display_data"
    }
   ],
   "source": [
    "probe(SII2, 0, 0, 0)"
   ]
  },
  {
   "cell_type": "code",
   "execution_count": 86,
   "id": "9eac2964",
   "metadata": {},
   "outputs": [
    {
     "data": {
      "text/plain": [
       "LowLevelFEM.ScalarField([[2.0; 2.0; … ; 2.0; 2.0;;], [2.0; 2.0; … ; 2.0; 2.0;;], [2.0; 2.0; … ; 2.0; 2.0;;], [2.0; 2.0; … ; 2.0; 2.0;;], [2.0; 2.0; … ; 2.0; 2.0;;], [2.0; 2.0; … ; 2.0; 2.0;;], [2.0; 2.0; … ; 2.0; 2.0;;], [2.0; 2.0; … ; 2.0; 2.0;;], [2.0; 2.0; … ; 2.0; 2.0;;], [2.0; 2.0; … ; 2.0; 2.0;;]  …  [2.0; 2.0; … ; 2.0; 2.0;;], [2.0; 2.0; … ; 2.0; 2.0;;], [2.0; 2.0; … ; 2.0; 2.0;;], [2.0; 2.0; … ; 2.0; 2.0;;], [2.0; 2.0; … ; 2.0; 2.0;;], [2.0; 2.0; … ; 2.0; 2.0;;], [2.0; 2.0; … ; 2.0; 2.0;;], [2.0; 2.0; … ; 2.0; 2.0;;], [2.0; 2.0; … ; 2.0; 2.0;;], [2.0; 2.0; … ; 2.0; 2.0;;]], Matrix{Float64}(undef, 0, 0), Float64[], [473, 474, 475, 476, 477, 478, 479, 480, 481, 482  …  783, 784, 785, 786, 787, 788, 789, 790, 791, 792], 1, :scalarInElements)"
      ]
     },
     "metadata": {},
     "output_type": "display_data"
    }
   ],
   "source": [
    "field = FEM.field(\"body\", f=2)\n",
    "sc = FEM.ScalarField(problem, [field])"
   ]
  },
  {
   "cell_type": "code",
   "execution_count": 87,
   "id": "b19e2ebf",
   "metadata": {},
   "outputs": [
    {
     "data": {
      "text/plain": [
       "LowLevelFEM.ScalarField([[0.12000000000000056; 0.12000000000000056; … ; 0.1199999999999996; 0.11999999999999986;;], [0.12000000000000056; 0.12000000000000056; … ; 0.1199999999999996; 0.11999999999999986;;], [0.12000000000000056; 0.12000000000000056; … ; 0.1199999999999996; 0.11999999999999986;;], [0.12000000000000056; 0.12000000000000056; … ; 0.1199999999999996; 0.11999999999999986;;], [0.12000000000000056; 0.12000000000000056; … ; 0.1199999999999996; 0.11999999999999986;;], [0.12000000000000056; 0.12000000000000056; … ; 0.1199999999999996; 0.11999999999999986;;], [0.12000000000000056; 0.12000000000000056; … ; 0.1199999999999996; 0.11999999999999986;;], [0.12000000000000056; 0.12000000000000056; … ; 0.1199999999999996; 0.11999999999999986;;], [0.12000000000000056; 0.12000000000000056; … ; 0.1199999999999996; 0.11999999999999986;;], [0.12000000000000056; 0.12000000000000056; … ; 0.1199999999999996; 0.11999999999999986;;]  …  [0.12000000000000056; 0.12000000000000056; … ; 0.1199999999999996; 0.11999999999999986;;], [0.12000000000000056; 0.12000000000000056; … ; 0.1199999999999996; 0.11999999999999986;;], [0.12000000000000056; 0.12000000000000056; … ; 0.1199999999999996; 0.11999999999999986;;], [0.12000000000000056; 0.12000000000000056; … ; 0.1199999999999996; 0.11999999999999986;;], [0.12000000000000056; 0.12000000000000056; … ; 0.1199999999999996; 0.11999999999999986;;], [0.12000000000000056; 0.12000000000000056; … ; 0.1199999999999996; 0.11999999999999986;;], [0.12000000000000056; 0.12000000000000056; … ; 0.1199999999999996; 0.11999999999999986;;], [0.12000000000000056; 0.12000000000000056; … ; 0.1199999999999996; 0.11999999999999986;;], [0.12000000000000056; 0.12000000000000056; … ; 0.1199999999999996; 0.11999999999999986;;], [0.12000000000000056; 0.12000000000000056; … ; 0.1199999999999996; 0.11999999999999986;;]], Matrix{Float64}(undef, 0, 0), [0.0], [473, 474, 475, 476, 477, 478, 479, 480, 481, 482  …  783, 784, 785, 786, 787, 788, 789, 790, 791, 792], 1, :sc)"
      ]
     },
     "metadata": {},
     "output_type": "display_data"
    }
   ],
   "source": [
    "I3 = FEM.unitTensor(F)\n",
    "J = det(F)"
   ]
  },
  {
   "cell_type": "code",
   "execution_count": 88,
   "id": "dfdb8e2d",
   "metadata": {},
   "outputs": [
    {
     "data": {
      "text/plain": [
       "LowLevelFEM.TensorField([[2.0; 0.0; … ; 0.0; 2.0;;], [2.0; 0.0; … ; 0.0; 2.0;;], [2.0; 0.0; … ; 0.0; 2.0;;], [2.0; 0.0; … ; 0.0; 2.0;;], [2.0; 0.0; … ; 0.0; 2.0;;], [2.0; 0.0; … ; 0.0; 2.0;;], [2.0; 0.0; … ; 0.0; 2.0;;], [2.0; 0.0; … ; 0.0; 2.0;;], [2.0; 0.0; … ; 0.0; 2.0;;], [2.0; 0.0; … ; 0.0; 2.0;;]  …  [2.0; 0.0; … ; 0.0; 2.0;;], [2.0; 0.0; … ; 0.0; 2.0;;], [2.0; 0.0; … ; 0.0; 2.0;;], [2.0; 0.0; … ; 0.0; 2.0;;], [2.0; 0.0; … ; 0.0; 2.0;;], [2.0; 0.0; … ; 0.0; 2.0;;], [2.0; 0.0; … ; 0.0; 2.0;;], [2.0; 0.0; … ; 0.0; 2.0;;], [2.0; 0.0; … ; 0.0; 2.0;;], [2.0; 0.0; … ; 0.0; 2.0;;]], Matrix{Float64}(undef, 0, 0), [0.0], [473, 474, 475, 476, 477, 478, 479, 480, 481, 482  …  783, 784, 785, 786, 787, 788, 789, 790, 791, 792], 1, :e)"
      ]
     },
     "metadata": {},
     "output_type": "display_data"
    }
   ],
   "source": [
    "sc * I3"
   ]
  },
  {
   "cell_type": "code",
   "execution_count": 89,
   "id": "b48019c3",
   "metadata": {},
   "outputs": [
    {
     "data": {
      "text/plain": [
       "LowLevelFEM.TensorField([[0.0; 0.0; … ; 0.0; 0.0;;], [0.0; 0.0; … ; 0.0; 0.0;;], [0.0; 0.0; … ; 0.0; 0.0;;], [0.0; 0.0; … ; 0.0; 0.0;;], [0.0; 0.0; … ; 0.0; 0.0;;], [0.0; 0.0; … ; 0.0; 0.0;;], [0.0; 0.0; … ; 0.0; 0.0;;], [0.0; 0.0; … ; 0.0; 0.0;;], [0.0; 0.0; … ; 0.0; 0.0;;], [0.0; 0.0; … ; 0.0; 0.0;;]  …  [0.0; 0.0; … ; 0.0; 0.0;;], [0.0; 0.0; … ; 0.0; 0.0;;], [0.0; 0.0; … ; 0.0; 0.0;;], [0.0; 0.0; … ; 0.0; 0.0;;], [0.0; 0.0; … ; 0.0; 0.0;;], [0.0; 0.0; … ; 0.0; 0.0;;], [0.0; 0.0; … ; 0.0; 0.0;;], [0.0; 0.0; … ; 0.0; 0.0;;], [0.0; 0.0; … ; 0.0; 0.0;;], [0.0; 0.0; … ; 0.0; 0.0;;]], Matrix{Float64}(undef, 0, 0), [0.0], [473, 474, 475, 476, 477, 478, 479, 480, 481, 482  …  783, 784, 785, 786, 787, 788, 789, 790, 791, 792], 1, :e)"
      ]
     },
     "metadata": {},
     "output_type": "display_data"
    }
   ],
   "source": [
    "I3 - I3"
   ]
  },
  {
   "cell_type": "code",
   "execution_count": 90,
   "id": "ff567b87",
   "metadata": {},
   "outputs": [
    {
     "data": {
      "text/plain": [
       "3×3 Matrix{Float64}:\n",
       " -162.837     0.0       0.0\n",
       "    0.0    -236.405     0.0\n",
       "    0.0       0.0    -326.32"
      ]
     },
     "metadata": {},
     "output_type": "display_data"
    }
   ],
   "source": [
    "σ = F * SII * F' / det(F)\n",
    "\n",
    "reshape(σ.A[1][1:9], 3, 3)"
   ]
  },
  {
   "cell_type": "code",
   "execution_count": 91,
   "id": "f1eee084",
   "metadata": {},
   "outputs": [
    {
     "data": {
      "text/plain": [
       "-119.05114807753088"
      ]
     },
     "metadata": {},
     "output_type": "display_data"
    }
   ],
   "source": [
    "J = 0.5 * 0.5 * 0.5\n",
    "μ / J * (J^(2 / 3) - 1) + λ / J * log(J)"
   ]
  },
  {
   "cell_type": "code",
   "execution_count": 102,
   "id": "32bc3809",
   "metadata": {},
   "outputs": [
    {
     "name": "stdout",
     "output_type": "stream",
     "text": [
      "-------------------------------------------------------\n",
      "Version       : 4.13.1\n",
      "License       : GNU General Public License\n",
      "Build OS      : Linux64-sdk\n",
      "Build date    : 19700101\n",
      "Build host    : amdci7.julia.csail.mit.edu\n",
      "Build options : 64Bit ALGLIB[contrib] ANN[contrib] Bamg Blossom Cairo DIntegration Dlopen DomHex Eigen[contrib] Fltk GMP Gmm[contrib] Hxt Jpeg Kbipack LinuxJoystick MathEx[contrib] Mesh Metis[contrib] Mmg Mpeg Netgen Nii2mesh ONELAB ONELABMetamodel OpenCASCADE OpenCASCADE-CAF OpenGL OpenMP OptHom Parser Plugins Png Post QuadMeshingTools QuadTri Solver TetGen/BR TinyXML2[contrib] Untangle Voro++[contrib] WinslowUntangler Zlib\n",
      "FLTK version  : 1.3.8\n",
      "OCC version   : 7.7.2\n",
      "Packaged by   : root\n",
      "Web site      : https://gmsh.info\n",
      "Issue tracker : https://gitlab.onelab.info/gmsh/gmsh/issues\n",
      "-------------------------------------------------------\n"
     ]
    },
    {
     "name": "stderr",
     "output_type": "stream",
     "text": [
      "XRequest.18: BadValue 0x0\n"
     ]
    }
   ],
   "source": [
    "FEM.openPostProcessor()"
   ]
  },
  {
   "cell_type": "code",
   "execution_count": 103,
   "id": "7b517a53",
   "metadata": {},
   "outputs": [],
   "source": [
    "gmsh.finalize()"
   ]
  }
 ],
 "metadata": {
  "kernelspec": {
   "display_name": "Julia 1.11.5",
   "language": "julia",
   "name": "julia-1.11"
  },
  "language_info": {
   "file_extension": ".jl",
   "mimetype": "application/julia",
   "name": "julia",
   "version": "1.11.5"
  }
 },
 "nbformat": 4,
 "nbformat_minor": 5
}
