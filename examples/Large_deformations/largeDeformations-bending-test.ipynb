{
 "cells": [
  {
   "cell_type": "code",
   "execution_count": 1,
   "id": "79fd9685",
   "metadata": {},
   "outputs": [],
   "source": [
    "using LowLevelFEM\n",
    "import LowLevelFEM as FEM\n",
    "\n",
    "gmsh.initialize()"
   ]
  },
  {
   "cell_type": "code",
   "execution_count": 2,
   "id": "22283e0a",
   "metadata": {},
   "outputs": [],
   "source": [
    "using SparseArrays, LinearAlgebra"
   ]
  },
  {
   "cell_type": "code",
   "execution_count": 3,
   "id": "fa18250b",
   "metadata": {},
   "outputs": [
    {
     "name": "stdout",
     "output_type": "stream",
     "text": [
      "Info    : Reading 'body2.geo'...\n",
      "Info    : Meshing 1D...\n",
      "Info    : [  0%] Meshing curve 1 (Line)\n",
      "Info    : [ 10%] Meshing curve 2 (Line)\n",
      "Info    : [ 20%] Meshing curve 3 (Line)\n",
      "Info    : [ 30%] Meshing curve 4 (Line)\n",
      "Info    : [ 40%] Meshing curve 5 (Line)\n",
      "Info    : [ 50%] Meshing curve 6 (Line)\n",
      "Info    : [ 60%] Meshing curve 7 (Line)\n",
      "Info    : [ 60%] Meshing curve 8 (Line)\n",
      "Info    : [ 70%] Meshing curve 9 (Line)\n",
      "Info    : [ 80%] Meshing curve 10 (Line)\n",
      "Info    : [ 90%] Meshing curve 11 (Line)\n",
      "Info    : [100%] Meshing curve 12 (Line)\n",
      "Info    : Done meshing 1D (Wall 0.000602558s, CPU 0.000581s)\n",
      "Info    : Meshing 2D...\n",
      "Info    : [  0%] Meshing surface 1 (Transfinite)\n",
      "Info    : [ 20%] Meshing surface 2 (Transfinite)\n",
      "Info    : [ 40%] Meshing surface 3 (Transfinite)\n",
      "Info    : [ 60%] Meshing surface 4 (Transfinite)\n",
      "Info    : [ 70%] Meshing surface 5 (Transfinite)\n",
      "Info    : [ 90%] Meshing surface 6 (Transfinite)\n",
      "Info    : Done meshing 2D (Wall 0.000240044s, CPU 0.000231s)\n",
      "Info    : Meshing 3D...\n",
      "Info    : Meshing volume 1 (Transfinite)\n",
      "Info    : Done meshing 3D (Wall 0.000965561s, CPU 0.000965s)\n",
      "Info    : Optimizing mesh...\n",
      "Info    : Done optimizing mesh (Wall 8.427e-06s, CPU 8e-06s)\n",
      "Info    : Meshing order 2 (curvilinear on)...\n",
      "Info    : [  0%] Meshing curve 1 order 2\n",
      "Info    : [ 10%] Meshing curve 2 order 2\n",
      "Info    : [ 20%] Meshing curve 3 order 2\n",
      "Info    : [ 20%] Meshing curve 4 order 2\n",
      "Info    : [ 30%] Meshing curve 5 order 2\n",
      "Info    : [ 30%] Meshing curve 6 order 2\n",
      "Info    : [ 40%] Meshing curve 7 order 2\n",
      "Info    : [ 40%] Meshing curve 8 order 2\n",
      "Info    : [ 50%] Meshing curve 9 order 2\n",
      "Info    : [ 50%] Meshing curve 10 order 2\n",
      "Info    : [ 60%] Meshing curve 11 order 2\n",
      "Info    : [ 60%] Meshing curve 12 order 2\n",
      "Info    : [ 70%] Meshing surface 1 order 2\n",
      "Info    : [ 70%] Meshing surface 2 order 2\n",
      "Info    : [ 80%] Meshing surface 3 order 2\n",
      "Info    : [ 80%] Meshing surface 4 order 2\n",
      "Info    : [ 90%] Meshing surface 5 order 2\n",
      "Info    : [ 90%] Meshing surface 6 order 2\n",
      "Info    : [100%] Meshing volume 1 order 2\n",
      "Info    : Done meshing order 2 (Wall 0.00794215s, CPU 0.007941s)\n",
      "Info    : 3321 nodes 792 elements\n",
      "Info    : Done reading 'body2.geo'\n"
     ]
    }
   ],
   "source": [
    "gmsh.open(\"body2.geo\")"
   ]
  },
  {
   "cell_type": "code",
   "execution_count": 4,
   "id": "936f1fab",
   "metadata": {},
   "outputs": [
    {
     "name": "stdout",
     "output_type": "stream",
     "text": [
      "Info    : RCMK renumbering...\n",
      "Info    : Done RCMK renumbering (bandwidth is now 386)\n",
      "Info    : RCMK renumbering...\n",
      "Info    : Done RCMK renumbering (bandwidth is now 386)\n",
      "Info    : RCMK renumbering...\n",
      "Info    : Done RCMK renumbering (bandwidth is now 386)\n"
     ]
    },
    {
     "data": {
      "text/plain": [
       "LowLevelFEM.Problem(\"body2\", :Solid, 3, 3, LowLevelFEM.Material[LowLevelFEM.Material(\"body\", :StVenantKirchhoff, 260.0, 0.3, 7.85e-9, 45.0, 4.2e8, 1.2e-5, 150.0, 100.0, 216.66666666666666)], 1.0, 3321)"
      ]
     },
     "metadata": {},
     "output_type": "display_data"
    }
   ],
   "source": [
    "mat = FEM.material(\"body\", E=260, ν=0.3, type=:StVenantKirchhoff)\n",
    "hooke = FEM.Problem([mat], type=:Solid)\n",
    "stvenkir = FEM.Problem([mat], type=:Solid)\n",
    "neohooke = FEM.Problem([mat], type=:Solid)"
   ]
  },
  {
   "cell_type": "code",
   "execution_count": 5,
   "id": "c2a10dc9",
   "metadata": {},
   "outputs": [
    {
     "data": {
      "text/plain": [
       "LowLevelFEM.TensorField([[-1.5139443208566907; -0.018822139803198468; … ; 0.010815381904283328; -0.005950162161375339;;], [-1.4048575637256966; -0.024173044474551375; … ; 0.0030849916949904355; 0.003811968937596999;;], [-1.3464373558671097; -0.06017414602172977; … ; 0.0002775335304770771; 0.00043458175154148515;;], [-1.273911251058208; -0.06272010507633041; … ; 1.6714880235607212e-5; 1.2025335105914081e-5;;], [-1.1994471533597562; -0.06287955725046146; … ; 5.390100810132026e-7; -2.493706689976616e-6;;], [-1.12455413578473; -0.06289080917358802; … ; -1.563394206076131e-9; -4.212407090364856e-7;;], [-1.0495729401665272; -0.06289146528146716; … ; 8.300029580299285e-10; -3.631708350715357e-8;;], [-0.9745760039166903; -0.06289138604778088; … ; 5.803923084930383e-10; -1.618302186701115e-9;;], [-0.8995764863752513; -0.0628913457905611; … ; 1.1306511282782594e-10; 1.0520906368327587e-10;;], [-0.824576561403346; -0.06289133603516461; … ; 1.5276668818842154e-11; 4.324501867714048e-11;;]  …  [1.4945138867218115; -0.008866983090172198; … ; -1.687538997430238e-12; -1.533981275336771e-11;;], [1.3445138850247889; -0.008866982792277156; … ; 4.235267385389166e-12; -5.569972261199041e-11;;], [1.1945138814332474; -0.008866981615085479; … ; 2.5850242797564933e-11; -4.3116787917796273e-10;;], [1.0445138613373826; -0.008866974844856657; … ; 2.3328953868105984e-10; -3.1303960257300645e-9;;], [0.8945137391919102; -0.008866936013518512; … ; 2.9285115701424364e-9; -2.2176560296460757e-8;;], [0.744512967064529; -0.008866751929303973; … ; 3.693960692885412e-8; -1.7185717542111956e-7;;], [0.5945095309260496; -0.008866867243995102; … ; 3.945594961862753e-7; -1.4019713489715757e-6;;], [0.44452882249195236; -0.008882421546907437; … ; 3.2415927719853244e-6; -9.125703323460688e-6;;], [0.29484667433467443; -0.009094727175629203; … ; 3.0129117423172147e-5; -1.0526805675967199e-5;;], [0.14995194964923303; -0.0015614101169347805; … ; -1.8743635088469546e-6; 0.0005814858099683854;;]], Matrix{Float64}(undef, 0, 0), [0.0], [473, 474, 475, 476, 477, 478, 479, 480, 481, 482  …  783, 784, 785, 786, 787, 788, 789, 790, 791, 792], 1, :s)"
      ]
     },
     "metadata": {},
     "output_type": "display_data"
    }
   ],
   "source": [
    "supp = FEM.displacementConstraint(\"left\", ux=0, uy=-1, uz=0)\n",
    "suppL = FEM.displacementConstraint(\"left\", ux=0)\n",
    "suppB = FEM.displacementConstraint(\"bottom\", uy=0)\n",
    "suppF = FEM.displacementConstraint(\"front\", uz=0)\n",
    "traction = FEM.load(\"right\", fy=-0.05)\n",
    "#bodyforce = FEM.load(\"body\", fx=1)\n",
    "\n",
    "problem = hooke\n",
    "q = FEM.solveDisplacement(problem, [traction], [supp])\n",
    "S = FEM.solveStress(problem, q)"
   ]
  },
  {
   "cell_type": "code",
   "execution_count": 6,
   "id": "5ff50776",
   "metadata": {},
   "outputs": [
    {
     "name": "stdout",
     "output_type": "stream",
     "text": [
      "Info    : Running Plugin(Smooth)...\n",
      "Info    : Done running Plugin(Smooth)\n"
     ]
    },
    {
     "data": {
      "text/plain": [
       "2"
      ]
     },
     "metadata": {},
     "output_type": "display_data"
    }
   ],
   "source": [
    "u1 = FEM.showDoFResults(problem, q, :uvec)\n",
    "S1 = FEM.showElementResults(problem, S, :s)"
   ]
  },
  {
   "cell_type": "code",
   "execution_count": 7,
   "id": "970e4fc4",
   "metadata": {},
   "outputs": [
    {
     "data": {
      "text/plain": [
       "LowLevelFEM.Problem(\"body2\", :Solid, 3, 3, LowLevelFEM.Material[LowLevelFEM.Material(\"body\", :StVenantKirchhoff, 260.0, 0.3, 7.85e-9, 45.0, 4.2e8, 1.2e-5, 150.0, 100.0, 216.66666666666666)], 1.0, 3321)"
      ]
     },
     "metadata": {},
     "output_type": "display_data"
    }
   ],
   "source": [
    "problem = stvenkir\n",
    "problem = neohooke"
   ]
  },
  {
   "cell_type": "code",
   "execution_count": 8,
   "id": "02d09772",
   "metadata": {},
   "outputs": [],
   "source": [
    "followerLoad = false\n",
    "loadSteps = 5\n",
    "firstStep = 0.1\n",
    "maxIteration = 5\n",
    "saveSteps = true\n",
    "saveIterations = false\n",
    "plotConvergence = true\n",
    "ε = 1e-5\n",
    "\n",
    "r0 = FEM.nodePositionVector(problem)\n",
    "FEM.applyDeformationBoundaryConditions!(problem, r0, [supp])\n",
    "err0 = abs(maximum(r0.a) - minimum(r0.a))\n",
    "f = FEM.loadVector(problem, [traction])\n",
    "r = []\n",
    "r1 = []\n",
    "push!(r, r0.a)\n",
    "e = []\n",
    "\n",
    "for j in range(1, loadSteps)\n",
    "    fact = j / loadSteps\n",
    "    err = 1\n",
    "    i = 0\n",
    "    while err > ε && i < maxIteration\n",
    "        i += 1\n",
    "\n",
    "        Kl = FEM.tangentMatrixConstitutive(problem, r0)\n",
    "        Knl = FEM.tangentMatrixInitialStress(problem, r0)\n",
    "        if followerLoad == false\n",
    "            f = FEM.nonFollowerLoadVector(problem, r0, [traction])\n",
    "        end\n",
    "        fnl = FEM.equivalentNodalForce(problem, r0)\n",
    "        K1, f1 = FEM.applyDeformationBoundaryConditions(problem, Kl + Knl, fact * f - fnl, [supp])\n",
    "        q = FEM.solveDisplacement(K1, f1)\n",
    "        r0 += q\n",
    "        if saveIterations == true\n",
    "            push!(r, r0.a)\n",
    "        end\n",
    "        err = maximum(abs.(q.a)) / err0\n",
    "        if plotConvergence == true\n",
    "            append!(e, err)\n",
    "        end\n",
    "    end\n",
    "    if saveSteps == true\n",
    "        push!(r, r0.a)\n",
    "    end\n",
    "end\n",
    "if saveIterations == true || saveSteps == true\n",
    "    n = length(r)\n",
    "    r1 = zeros(length(r0.a), n)\n",
    "    for i in 1:n\n",
    "        r1[:, i] = r[i]\n",
    "    end\n",
    "else\n",
    "    r1 = zeros(length(r0.a), 1)\n",
    "    r1 = r0\n",
    "end"
   ]
  },
  {
   "cell_type": "code",
   "execution_count": 9,
   "id": "a7f11918",
   "metadata": {},
   "outputs": [
    {
     "data": {
      "text/plain": [
       "LowLevelFEM.VectorField(Matrix{Float64}[], [0.0 0.0 … 0.0 0.0; -1.0 -1.0 … -1.0 -1.0; … ; 0.875 0.7595437498404223 … -0.7100354947748502 -0.8644224195710378; 0.875 0.8749882091664122 … 0.874948564912684 0.874921702213388], [1.0, 2.0, 3.0, 4.0, 5.0, 6.0], Int64[], 6, :u3D)"
      ]
     },
     "metadata": {},
     "output_type": "display_data"
    }
   ],
   "source": [
    "r1 = FEM.VectorField([], r1, 1:size(r1, 2), [], size(r1, 2), :u3D)"
   ]
  },
  {
   "cell_type": "code",
   "execution_count": 10,
   "id": "1866e2da",
   "metadata": {},
   "outputs": [
    {
     "data": {
      "image/png": "[encoded data removed]",
      "image/svg+xml": [
       "<?xml version=\"1.0\" encoding=\"utf-8\"?>\n",
       "<svg xmlns=\"http://www.w3.org/2000/svg\" xmlns:xlink=\"http://www.w3.org/1999/xlink\" width=\"600\" height=\"400\" viewBox=\"0 0 2400 1600\">\n",
       "<defs>\n",
       "  <clipPath id=\"clip020\">\n",
       "    <rect x=\"0\" y=\"0\" width=\"2400\" height=\"1600\"/>\n",
       "  </clipPath>\n",
       "</defs>\n",
       "<path clip-path=\"url(#clip020)\" d=\"M0 1600 L2400 1600 L2400 0 L0 0  Z\" fill=\"#ffffff\" fill-rule=\"evenodd\" fill-opacity=\"1\"/>\n",
       "<defs>\n",
       "  <clipPath id=\"clip021\">\n",
       "    <rect x=\"480\" y=\"0\" width=\"1681\" height=\"1600\"/>\n",
       "  </clipPath>\n",
       "</defs>\n",
       "<path clip-path=\"url(#clip020)\" d=\"M194.422 1486.45 L2352.76 1486.45 L2352.76 47.2441 L194.422 47.2441  Z\" fill=\"#ffffff\" fill-rule=\"evenodd\" fill-opacity=\"1\"/>\n",
       "<defs>\n",
       "  <clipPath id=\"clip022\">\n",
       "    <rect x=\"194\" y=\"47\" width=\"2159\" height=\"1440\"/>\n",
       "  </clipPath>\n",
       "</defs>\n",
       "<polyline clip-path=\"url(#clip022)\" style=\"stroke:#000000; stroke-linecap:round; stroke-linejoin:round; stroke-width:2; stroke-opacity:0.1; fill:none\" points=\"594.868,1486.45 594.868,47.2441 \"/>\n",
       "<polyline clip-path=\"url(#clip022)\" style=\"stroke:#000000; stroke-linecap:round; stroke-linejoin:round; stroke-width:2; stroke-opacity:0.1; fill:none\" points=\"1019.07,1486.45 1019.07,47.2441 \"/>\n",
       "<polyline clip-path=\"url(#clip022)\" style=\"stroke:#000000; stroke-linecap:round; stroke-linejoin:round; stroke-width:2; stroke-opacity:0.1; fill:none\" points=\"1443.27,1486.45 1443.27,47.2441 \"/>\n",
       "<polyline clip-path=\"url(#clip022)\" style=\"stroke:#000000; stroke-linecap:round; stroke-linejoin:round; stroke-width:2; stroke-opacity:0.1; fill:none\" points=\"1867.47,1486.45 1867.47,47.2441 \"/>\n",
       "<polyline clip-path=\"url(#clip022)\" style=\"stroke:#000000; stroke-linecap:round; stroke-linejoin:round; stroke-width:2; stroke-opacity:0.1; fill:none\" points=\"2291.67,1486.45 2291.67,47.2441 \"/>\n",
       "<polyline clip-path=\"url(#clip022)\" style=\"stroke:#000000; stroke-linecap:round; stroke-linejoin:round; stroke-width:2; stroke-opacity:0.1; fill:none\" points=\"194.422,1316.67 2352.76,1316.67 \"/>\n",
       "<polyline clip-path=\"url(#clip022)\" style=\"stroke:#000000; stroke-linecap:round; stroke-linejoin:round; stroke-width:2; stroke-opacity:0.1; fill:none\" points=\"194.422,1058.61 2352.76,1058.61 \"/>\n",
       "<polyline clip-path=\"url(#clip022)\" style=\"stroke:#000000; stroke-linecap:round; stroke-linejoin:round; stroke-width:2; stroke-opacity:0.1; fill:none\" points=\"194.422,800.55 2352.76,800.55 \"/>\n",
       "<polyline clip-path=\"url(#clip022)\" style=\"stroke:#000000; stroke-linecap:round; stroke-linejoin:round; stroke-width:2; stroke-opacity:0.1; fill:none\" points=\"194.422,542.488 2352.76,542.488 \"/>\n",
       "<polyline clip-path=\"url(#clip022)\" style=\"stroke:#000000; stroke-linecap:round; stroke-linejoin:round; stroke-width:2; stroke-opacity:0.1; fill:none\" points=\"194.422,284.426 2352.76,284.426 \"/>\n",
       "<polyline clip-path=\"url(#clip020)\" style=\"stroke:#000000; stroke-linecap:round; stroke-linejoin:round; stroke-width:4; stroke-opacity:1; fill:none\" points=\"194.422,1486.45 2352.76,1486.45 \"/>\n",
       "<polyline clip-path=\"url(#clip020)\" style=\"stroke:#000000; stroke-linecap:round; stroke-linejoin:round; stroke-width:4; stroke-opacity:1; fill:none\" points=\"594.868,1486.45 594.868,1467.55 \"/>\n",
       "<polyline clip-path=\"url(#clip020)\" style=\"stroke:#000000; stroke-linecap:round; stroke-linejoin:round; stroke-width:4; stroke-opacity:1; fill:none\" points=\"1019.07,1486.45 1019.07,1467.55 \"/>\n",
       "<polyline clip-path=\"url(#clip020)\" style=\"stroke:#000000; stroke-linecap:round; stroke-linejoin:round; stroke-width:4; stroke-opacity:1; fill:none\" points=\"1443.27,1486.45 1443.27,1467.55 \"/>\n",
       "<polyline clip-path=\"url(#clip020)\" style=\"stroke:#000000; stroke-linecap:round; stroke-linejoin:round; stroke-width:4; stroke-opacity:1; fill:none\" points=\"1867.47,1486.45 1867.47,1467.55 \"/>\n",
       "<polyline clip-path=\"url(#clip020)\" style=\"stroke:#000000; stroke-linecap:round; stroke-linejoin:round; stroke-width:4; stroke-opacity:1; fill:none\" points=\"2291.67,1486.45 2291.67,1467.55 \"/>\n",
       "<path clip-path=\"url(#clip020)\" d=\"M585.146 1514.29 L603.502 1514.29 L603.502 1518.22 L589.428 1518.22 L589.428 1526.7 Q590.446 1526.35 591.465 1526.19 Q592.483 1526 593.502 1526 Q599.289 1526 602.669 1529.17 Q606.048 1532.34 606.048 1537.76 Q606.048 1543.34 602.576 1546.44 Q599.104 1549.52 592.784 1549.52 Q590.608 1549.52 588.34 1549.15 Q586.095 1548.78 583.687 1548.04 L583.687 1543.34 Q585.771 1544.47 587.993 1545.03 Q590.215 1545.58 592.692 1545.58 Q596.696 1545.58 599.034 1543.48 Q601.372 1541.37 601.372 1537.76 Q601.372 1534.15 599.034 1532.04 Q596.696 1529.94 592.692 1529.94 Q590.817 1529.94 588.942 1530.35 Q587.09 1530.77 585.146 1531.65 L585.146 1514.29 Z\" fill=\"#000000\" fill-rule=\"nonzero\" fill-opacity=\"1\" /><path clip-path=\"url(#clip020)\" d=\"M993.756 1544.91 L1001.39 1544.91 L1001.39 1518.55 L993.085 1520.21 L993.085 1515.95 L1001.35 1514.29 L1006.02 1514.29 L1006.02 1544.91 L1013.66 1544.91 L1013.66 1548.85 L993.756 1548.85 L993.756 1544.91 Z\" fill=\"#000000\" fill-rule=\"nonzero\" fill-opacity=\"1\" /><path clip-path=\"url(#clip020)\" d=\"M1033.11 1517.37 Q1029.5 1517.37 1027.67 1520.93 Q1025.86 1524.47 1025.86 1531.6 Q1025.86 1538.71 1027.67 1542.27 Q1029.5 1545.82 1033.11 1545.82 Q1036.74 1545.82 1038.55 1542.27 Q1040.38 1538.71 1040.38 1531.6 Q1040.38 1524.47 1038.55 1520.93 Q1036.74 1517.37 1033.11 1517.37 M1033.11 1513.66 Q1038.92 1513.66 1041.97 1518.27 Q1045.05 1522.85 1045.05 1531.6 Q1045.05 1540.33 1041.97 1544.94 Q1038.92 1549.52 1033.11 1549.52 Q1027.3 1549.52 1024.22 1544.94 Q1021.16 1540.33 1021.16 1531.6 Q1021.16 1522.85 1024.22 1518.27 Q1027.3 1513.66 1033.11 1513.66 Z\" fill=\"#000000\" fill-rule=\"nonzero\" fill-opacity=\"1\" /><path clip-path=\"url(#clip020)\" d=\"M1418.45 1544.91 L1426.09 1544.91 L1426.09 1518.55 L1417.78 1520.21 L1417.78 1515.95 L1426.05 1514.29 L1430.72 1514.29 L1430.72 1544.91 L1438.36 1544.91 L1438.36 1548.85 L1418.45 1548.85 L1418.45 1544.91 Z\" fill=\"#000000\" fill-rule=\"nonzero\" fill-opacity=\"1\" /><path clip-path=\"url(#clip020)\" d=\"M1447.85 1514.29 L1466.21 1514.29 L1466.21 1518.22 L1452.14 1518.22 L1452.14 1526.7 Q1453.15 1526.35 1454.17 1526.19 Q1455.19 1526 1456.21 1526 Q1462 1526 1465.38 1529.17 Q1468.76 1532.34 1468.76 1537.76 Q1468.76 1543.34 1465.28 1546.44 Q1461.81 1549.52 1455.49 1549.52 Q1453.32 1549.52 1451.05 1549.15 Q1448.8 1548.78 1446.39 1548.04 L1446.39 1543.34 Q1448.48 1544.47 1450.7 1545.03 Q1452.92 1545.58 1455.4 1545.58 Q1459.4 1545.58 1461.74 1543.48 Q1464.08 1541.37 1464.08 1537.76 Q1464.08 1534.15 1461.74 1532.04 Q1459.4 1529.94 1455.4 1529.94 Q1453.52 1529.94 1451.65 1530.35 Q1449.8 1530.77 1447.85 1531.65 L1447.85 1514.29 Z\" fill=\"#000000\" fill-rule=\"nonzero\" fill-opacity=\"1\" /><path clip-path=\"url(#clip020)\" d=\"M1846.24 1544.91 L1862.56 1544.91 L1862.56 1548.85 L1840.62 1548.85 L1840.62 1544.91 Q1843.28 1542.16 1847.86 1537.53 Q1852.47 1532.88 1853.65 1531.53 Q1855.9 1529.01 1856.78 1527.27 Q1857.68 1525.51 1857.68 1523.82 Q1857.68 1521.07 1855.73 1519.33 Q1853.81 1517.6 1850.71 1517.6 Q1848.51 1517.6 1846.06 1518.36 Q1843.63 1519.13 1840.85 1520.68 L1840.85 1515.95 Q1843.67 1514.82 1846.13 1514.24 Q1848.58 1513.66 1850.62 1513.66 Q1855.99 1513.66 1859.18 1516.35 Q1862.38 1519.03 1862.38 1523.52 Q1862.38 1525.65 1861.57 1527.57 Q1860.78 1529.47 1858.67 1532.07 Q1858.1 1532.74 1854.99 1535.95 Q1851.89 1539.15 1846.24 1544.91 Z\" fill=\"#000000\" fill-rule=\"nonzero\" fill-opacity=\"1\" /><path clip-path=\"url(#clip020)\" d=\"M1882.38 1517.37 Q1878.77 1517.37 1876.94 1520.93 Q1875.13 1524.47 1875.13 1531.6 Q1875.13 1538.71 1876.94 1542.27 Q1878.77 1545.82 1882.38 1545.82 Q1886.01 1545.82 1887.82 1542.27 Q1889.65 1538.71 1889.65 1531.6 Q1889.65 1524.47 1887.82 1520.93 Q1886.01 1517.37 1882.38 1517.37 M1882.38 1513.66 Q1888.19 1513.66 1891.24 1518.27 Q1894.32 1522.85 1894.32 1531.6 Q1894.32 1540.33 1891.24 1544.94 Q1888.19 1549.52 1882.38 1549.52 Q1876.57 1549.52 1873.49 1544.94 Q1870.43 1540.33 1870.43 1531.6 Q1870.43 1522.85 1873.49 1518.27 Q1876.57 1513.66 1882.38 1513.66 Z\" fill=\"#000000\" fill-rule=\"nonzero\" fill-opacity=\"1\" /><path clip-path=\"url(#clip020)\" d=\"M2270.94 1544.91 L2287.26 1544.91 L2287.26 1548.85 L2265.32 1548.85 L2265.32 1544.91 Q2267.98 1542.16 2272.56 1537.53 Q2277.17 1532.88 2278.35 1531.53 Q2280.59 1529.01 2281.47 1527.27 Q2282.38 1525.51 2282.38 1523.82 Q2282.38 1521.07 2280.43 1519.33 Q2278.51 1517.6 2275.41 1517.6 Q2273.21 1517.6 2270.76 1518.36 Q2268.33 1519.13 2265.55 1520.68 L2265.55 1515.95 Q2268.37 1514.82 2270.83 1514.24 Q2273.28 1513.66 2275.32 1513.66 Q2280.69 1513.66 2283.88 1516.35 Q2287.08 1519.03 2287.08 1523.52 Q2287.08 1525.65 2286.27 1527.57 Q2285.48 1529.47 2283.37 1532.07 Q2282.79 1532.74 2279.69 1535.95 Q2276.59 1539.15 2270.94 1544.91 Z\" fill=\"#000000\" fill-rule=\"nonzero\" fill-opacity=\"1\" /><path clip-path=\"url(#clip020)\" d=\"M2297.12 1514.29 L2315.48 1514.29 L2315.48 1518.22 L2301.4 1518.22 L2301.4 1526.7 Q2302.42 1526.35 2303.44 1526.19 Q2304.46 1526 2305.48 1526 Q2311.27 1526 2314.65 1529.17 Q2318.03 1532.34 2318.03 1537.76 Q2318.03 1543.34 2314.55 1546.44 Q2311.08 1549.52 2304.76 1549.52 Q2302.59 1549.52 2300.32 1549.15 Q2298.07 1548.78 2295.66 1548.04 L2295.66 1543.34 Q2297.75 1544.47 2299.97 1545.03 Q2302.19 1545.58 2304.67 1545.58 Q2308.67 1545.58 2311.01 1543.48 Q2313.35 1541.37 2313.35 1537.76 Q2313.35 1534.15 2311.01 1532.04 Q2308.67 1529.94 2304.67 1529.94 Q2302.79 1529.94 2300.92 1530.35 Q2299.07 1530.77 2297.12 1531.65 L2297.12 1514.29 Z\" fill=\"#000000\" fill-rule=\"nonzero\" fill-opacity=\"1\" /><polyline clip-path=\"url(#clip020)\" style=\"stroke:#000000; stroke-linecap:round; stroke-linejoin:round; stroke-width:4; stroke-opacity:1; fill:none\" points=\"194.422,1486.45 194.422,47.2441 \"/>\n",
       "<polyline clip-path=\"url(#clip020)\" style=\"stroke:#000000; stroke-linecap:round; stroke-linejoin:round; stroke-width:4; stroke-opacity:1; fill:none\" points=\"194.422,1316.67 213.32,1316.67 \"/>\n",
       "<polyline clip-path=\"url(#clip020)\" style=\"stroke:#000000; stroke-linecap:round; stroke-linejoin:round; stroke-width:4; stroke-opacity:1; fill:none\" points=\"194.422,1058.61 213.32,1058.61 \"/>\n",
       "<polyline clip-path=\"url(#clip020)\" style=\"stroke:#000000; stroke-linecap:round; stroke-linejoin:round; stroke-width:4; stroke-opacity:1; fill:none\" points=\"194.422,800.55 213.32,800.55 \"/>\n",
       "<polyline clip-path=\"url(#clip020)\" style=\"stroke:#000000; stroke-linecap:round; stroke-linejoin:round; stroke-width:4; stroke-opacity:1; fill:none\" points=\"194.422,542.488 213.32,542.488 \"/>\n",
       "<polyline clip-path=\"url(#clip020)\" style=\"stroke:#000000; stroke-linecap:round; stroke-linejoin:round; stroke-width:4; stroke-opacity:1; fill:none\" points=\"194.422,284.426 213.32,284.426 \"/>\n",
       "<path clip-path=\"url(#clip020)\" d=\"M52.381 1317.12 L82.0568 1317.12 L82.0568 1321.06 L52.381 1321.06 L52.381 1317.12 Z\" fill=\"#000000\" fill-rule=\"nonzero\" fill-opacity=\"1\" /><path clip-path=\"url(#clip020)\" d=\"M96.1771 1330.02 L112.496 1330.02 L112.496 1333.95 L90.5521 1333.95 L90.5521 1330.02 Q93.2141 1327.26 97.7974 1322.63 Q102.404 1317.98 103.584 1316.64 Q105.83 1314.12 106.709 1312.38 Q107.612 1310.62 107.612 1308.93 Q107.612 1306.18 105.668 1304.44 Q103.746 1302.7 100.645 1302.7 Q98.4456 1302.7 95.9919 1303.47 Q93.5613 1304.23 90.7836 1305.78 L90.7836 1301.06 Q93.6076 1299.93 96.0613 1299.35 Q98.515 1298.77 100.552 1298.77 Q105.922 1298.77 109.117 1301.45 Q112.311 1304.14 112.311 1308.63 Q112.311 1310.76 111.501 1312.68 Q110.714 1314.58 108.608 1317.17 Q108.029 1317.84 104.927 1321.06 Q101.825 1324.25 96.1771 1330.02 Z\" fill=\"#000000\" fill-rule=\"nonzero\" fill-opacity=\"1\" /><path clip-path=\"url(#clip020)\" d=\"M122.311 1328.07 L127.195 1328.07 L127.195 1333.95 L122.311 1333.95 L122.311 1328.07 Z\" fill=\"#000000\" fill-rule=\"nonzero\" fill-opacity=\"1\" /><path clip-path=\"url(#clip020)\" d=\"M136.2 1299.39 L158.422 1299.39 L158.422 1301.38 L145.876 1333.95 L140.992 1333.95 L152.797 1303.33 L136.2 1303.33 L136.2 1299.39 Z\" fill=\"#000000\" fill-rule=\"nonzero\" fill-opacity=\"1\" /><path clip-path=\"url(#clip020)\" d=\"M50.9921 1059.06 L80.6679 1059.06 L80.6679 1063 L50.9921 1063 L50.9921 1059.06 Z\" fill=\"#000000\" fill-rule=\"nonzero\" fill-opacity=\"1\" /><path clip-path=\"url(#clip020)\" d=\"M94.7882 1071.96 L111.108 1071.96 L111.108 1075.89 L89.1632 1075.89 L89.1632 1071.96 Q91.8252 1069.2 96.4085 1064.57 Q101.015 1059.92 102.196 1058.58 Q104.441 1056.05 105.321 1054.32 Q106.223 1052.56 106.223 1050.87 Q106.223 1048.11 104.279 1046.38 Q102.358 1044.64 99.2558 1044.64 Q97.0567 1044.64 94.603 1045.41 Q92.1725 1046.17 89.3947 1047.72 L89.3947 1043 Q92.2188 1041.86 94.6724 1041.28 Q97.1261 1040.71 99.1632 1040.71 Q104.534 1040.71 107.728 1043.39 Q110.922 1046.08 110.922 1050.57 Q110.922 1052.7 110.112 1054.62 Q109.325 1056.52 107.219 1059.11 Q106.64 1059.78 103.538 1063 Q100.436 1066.19 94.7882 1071.96 Z\" fill=\"#000000\" fill-rule=\"nonzero\" fill-opacity=\"1\" /><path clip-path=\"url(#clip020)\" d=\"M120.922 1070.01 L125.807 1070.01 L125.807 1075.89 L120.922 1075.89 L120.922 1070.01 Z\" fill=\"#000000\" fill-rule=\"nonzero\" fill-opacity=\"1\" /><path clip-path=\"url(#clip020)\" d=\"M148.839 1045.41 L137.033 1063.85 L148.839 1063.85 L148.839 1045.41 M147.612 1041.33 L153.492 1041.33 L153.492 1063.85 L158.422 1063.85 L158.422 1067.74 L153.492 1067.74 L153.492 1075.89 L148.839 1075.89 L148.839 1067.74 L133.237 1067.74 L133.237 1063.23 L147.612 1041.33 Z\" fill=\"#000000\" fill-rule=\"nonzero\" fill-opacity=\"1\" /><path clip-path=\"url(#clip020)\" d=\"M52.7051 801.001 L82.3808 801.001 L82.3808 804.936 L52.7051 804.936 L52.7051 801.001 Z\" fill=\"#000000\" fill-rule=\"nonzero\" fill-opacity=\"1\" /><path clip-path=\"url(#clip020)\" d=\"M96.5011 813.894 L112.82 813.894 L112.82 817.83 L90.8762 817.83 L90.8762 813.894 Q93.5382 811.14 98.1215 806.51 Q102.728 801.857 103.909 800.515 Q106.154 797.992 107.033 796.256 Q107.936 794.496 107.936 792.807 Q107.936 790.052 105.992 788.316 Q104.071 786.58 100.969 786.58 Q98.7696 786.58 96.316 787.344 Q93.8854 788.107 91.1077 789.658 L91.1077 784.936 Q93.9317 783.802 96.3854 783.223 Q98.8391 782.645 100.876 782.645 Q106.246 782.645 109.441 785.33 Q112.635 788.015 112.635 792.506 Q112.635 794.635 111.825 796.557 Q111.038 798.455 108.932 801.047 Q108.353 801.719 105.251 804.936 Q102.149 808.131 96.5011 813.894 Z\" fill=\"#000000\" fill-rule=\"nonzero\" fill-opacity=\"1\" /><path clip-path=\"url(#clip020)\" d=\"M122.635 811.95 L127.519 811.95 L127.519 817.83 L122.635 817.83 L122.635 811.95 Z\" fill=\"#000000\" fill-rule=\"nonzero\" fill-opacity=\"1\" /><path clip-path=\"url(#clip020)\" d=\"M138.515 813.894 L146.154 813.894 L146.154 787.529 L137.844 789.195 L137.844 784.936 L146.107 783.27 L150.783 783.27 L150.783 813.894 L158.422 813.894 L158.422 817.83 L138.515 817.83 L138.515 813.894 Z\" fill=\"#000000\" fill-rule=\"nonzero\" fill-opacity=\"1\" /><path clip-path=\"url(#clip020)\" d=\"M51.5708 542.939 L81.2466 542.939 L81.2466 546.874 L51.5708 546.874 L51.5708 542.939 Z\" fill=\"#000000\" fill-rule=\"nonzero\" fill-opacity=\"1\" /><path clip-path=\"url(#clip020)\" d=\"M92.1493 555.833 L99.7882 555.833 L99.7882 529.467 L91.478 531.134 L91.478 526.874 L99.7419 525.208 L104.418 525.208 L104.418 555.833 L112.057 555.833 L112.057 559.768 L92.1493 559.768 L92.1493 555.833 Z\" fill=\"#000000\" fill-rule=\"nonzero\" fill-opacity=\"1\" /><path clip-path=\"url(#clip020)\" d=\"M121.501 553.888 L126.385 553.888 L126.385 559.768 L121.501 559.768 L121.501 553.888 Z\" fill=\"#000000\" fill-rule=\"nonzero\" fill-opacity=\"1\" /><path clip-path=\"url(#clip020)\" d=\"M146.57 543.356 Q143.237 543.356 141.316 545.138 Q139.418 546.921 139.418 550.046 Q139.418 553.171 141.316 554.953 Q143.237 556.735 146.57 556.735 Q149.904 556.735 151.825 554.953 Q153.746 553.147 153.746 550.046 Q153.746 546.921 151.825 545.138 Q149.927 543.356 146.57 543.356 M141.894 541.365 Q138.885 540.624 137.195 538.564 Q135.529 536.504 135.529 533.541 Q135.529 529.398 138.469 526.99 Q141.431 524.583 146.57 524.583 Q151.732 524.583 154.672 526.99 Q157.612 529.398 157.612 533.541 Q157.612 536.504 155.922 538.564 Q154.255 540.624 151.269 541.365 Q154.649 542.152 156.524 544.444 Q158.422 546.735 158.422 550.046 Q158.422 555.069 155.343 557.754 Q152.288 560.439 146.57 560.439 Q140.853 560.439 137.774 557.754 Q134.719 555.069 134.719 550.046 Q134.719 546.735 136.617 544.444 Q138.515 542.152 141.894 541.365 M140.181 533.981 Q140.181 536.666 141.848 538.171 Q143.538 539.675 146.57 539.675 Q149.58 539.675 151.269 538.171 Q152.982 536.666 152.982 533.981 Q152.982 531.296 151.269 529.791 Q149.58 528.286 146.57 528.286 Q143.538 528.286 141.848 529.791 Q140.181 531.296 140.181 533.981 Z\" fill=\"#000000\" fill-rule=\"nonzero\" fill-opacity=\"1\" /><path clip-path=\"url(#clip020)\" d=\"M52.4736 284.877 L82.1494 284.877 L82.1494 288.813 L52.4736 288.813 L52.4736 284.877 Z\" fill=\"#000000\" fill-rule=\"nonzero\" fill-opacity=\"1\" /><path clip-path=\"url(#clip020)\" d=\"M93.0521 297.771 L100.691 297.771 L100.691 271.405 L92.3808 273.072 L92.3808 268.813 L100.645 267.146 L105.321 267.146 L105.321 297.771 L112.959 297.771 L112.959 301.706 L93.0521 301.706 L93.0521 297.771 Z\" fill=\"#000000\" fill-rule=\"nonzero\" fill-opacity=\"1\" /><path clip-path=\"url(#clip020)\" d=\"M122.404 295.826 L127.288 295.826 L127.288 301.706 L122.404 301.706 L122.404 295.826 Z\" fill=\"#000000\" fill-rule=\"nonzero\" fill-opacity=\"1\" /><path clip-path=\"url(#clip020)\" d=\"M137.519 267.146 L155.876 267.146 L155.876 271.081 L141.802 271.081 L141.802 279.553 Q142.82 279.206 143.839 279.044 Q144.857 278.859 145.876 278.859 Q151.663 278.859 155.042 282.03 Q158.422 285.201 158.422 290.618 Q158.422 296.197 154.95 299.299 Q151.478 302.377 145.158 302.377 Q142.982 302.377 140.714 302.007 Q138.469 301.637 136.061 300.896 L136.061 296.197 Q138.144 297.331 140.367 297.887 Q142.589 298.442 145.066 298.442 Q149.07 298.442 151.408 296.336 Q153.746 294.229 153.746 290.618 Q153.746 287.007 151.408 284.901 Q149.07 282.794 145.066 282.794 Q143.191 282.794 141.316 283.211 Q139.464 283.627 137.519 284.507 L137.519 267.146 Z\" fill=\"#000000\" fill-rule=\"nonzero\" fill-opacity=\"1\" /><polyline clip-path=\"url(#clip022)\" style=\"stroke:#009af9; stroke-linecap:round; stroke-linejoin:round; stroke-width:4; stroke-opacity:1; fill:none\" points=\"255.507,87.9763 340.347,408.106 425.187,515.507 510.028,600.616 594.868,229.727 679.708,112.466 764.548,278.162 849.388,661.195 934.228,575.289 1019.07,1342.74 1103.91,553.58 1188.75,1370.17 1273.59,1379.46 1358.43,1386.69 1443.27,1393.36 1528.11,623.84 1612.95,1401.66 1697.79,1407.29 1782.63,1412.97 1867.47,1418.41 1952.31,564.208 2037.15,1433.28 2121.99,1436.79 2206.83,1441.45 2291.67,1445.72 \"/>\n",
       "<path clip-path=\"url(#clip020)\" d=\"M2012.55 198.898 L2280.81 198.898 L2280.81 95.2176 L2012.55 95.2176  Z\" fill=\"#ffffff\" fill-rule=\"evenodd\" fill-opacity=\"1\"/>\n",
       "<polyline clip-path=\"url(#clip020)\" style=\"stroke:#000000; stroke-linecap:round; stroke-linejoin:round; stroke-width:4; stroke-opacity:1; fill:none\" points=\"2012.55,198.898 2280.81,198.898 2280.81,95.2176 2012.55,95.2176 2012.55,198.898 \"/>\n",
       "<polyline clip-path=\"url(#clip020)\" style=\"stroke:#009af9; stroke-linecap:round; stroke-linejoin:round; stroke-width:4; stroke-opacity:1; fill:none\" points=\"2036.53,147.058 2180.42,147.058 \"/>\n",
       "<path clip-path=\"url(#clip020)\" d=\"M2218.24 166.745 Q2216.44 171.375 2214.72 172.787 Q2213.01 174.199 2210.14 174.199 L2206.74 174.199 L2206.74 170.634 L2209.24 170.634 Q2211 170.634 2211.97 169.8 Q2212.94 168.967 2214.12 165.865 L2214.89 163.921 L2204.4 138.412 L2208.91 138.412 L2217.02 158.689 L2225.12 138.412 L2229.63 138.412 L2218.24 166.745 Z\" fill=\"#000000\" fill-rule=\"nonzero\" fill-opacity=\"1\" /><path clip-path=\"url(#clip020)\" d=\"M2236.92 160.402 L2244.56 160.402 L2244.56 134.037 L2236.25 135.703 L2236.25 131.444 L2244.52 129.778 L2249.19 129.778 L2249.19 160.402 L2256.83 160.402 L2256.83 164.338 L2236.92 164.338 L2236.92 160.402 Z\" fill=\"#000000\" fill-rule=\"nonzero\" fill-opacity=\"1\" /></svg>\n"
      ],
      "text/html": [
       "<?xml version=\"1.0\" encoding=\"utf-8\"?>\n",
       "<svg xmlns=\"http://www.w3.org/2000/svg\" xmlns:xlink=\"http://www.w3.org/1999/xlink\" width=\"600\" height=\"400\" viewBox=\"0 0 2400 1600\">\n",
       "<defs>\n",
       "  <clipPath id=\"clip070\">\n",
       "    <rect x=\"0\" y=\"0\" width=\"2400\" height=\"1600\"/>\n",
       "  </clipPath>\n",
       "</defs>\n",
       "<path clip-path=\"url(#clip070)\" d=\"M0 1600 L2400 1600 L2400 0 L0 0  Z\" fill=\"#ffffff\" fill-rule=\"evenodd\" fill-opacity=\"1\"/>\n",
       "<defs>\n",
       "  <clipPath id=\"clip071\">\n",
       "    <rect x=\"480\" y=\"0\" width=\"1681\" height=\"1600\"/>\n",
       "  </clipPath>\n",
       "</defs>\n",
       "<path clip-path=\"url(#clip070)\" d=\"M194.422 1486.45 L2352.76 1486.45 L2352.76 47.2441 L194.422 47.2441  Z\" fill=\"#ffffff\" fill-rule=\"evenodd\" fill-opacity=\"1\"/>\n",
       "<defs>\n",
       "  <clipPath id=\"clip072\">\n",
       "    <rect x=\"194\" y=\"47\" width=\"2159\" height=\"1440\"/>\n",
       "  </clipPath>\n",
       "</defs>\n",
       "<polyline clip-path=\"url(#clip072)\" style=\"stroke:#000000; stroke-linecap:round; stroke-linejoin:round; stroke-width:2; stroke-opacity:0.1; fill:none\" points=\"594.868,1486.45 594.868,47.2441 \"/>\n",
       "<polyline clip-path=\"url(#clip072)\" style=\"stroke:#000000; stroke-linecap:round; stroke-linejoin:round; stroke-width:2; stroke-opacity:0.1; fill:none\" points=\"1019.07,1486.45 1019.07,47.2441 \"/>\n",
       "<polyline clip-path=\"url(#clip072)\" style=\"stroke:#000000; stroke-linecap:round; stroke-linejoin:round; stroke-width:2; stroke-opacity:0.1; fill:none\" points=\"1443.27,1486.45 1443.27,47.2441 \"/>\n",
       "<polyline clip-path=\"url(#clip072)\" style=\"stroke:#000000; stroke-linecap:round; stroke-linejoin:round; stroke-width:2; stroke-opacity:0.1; fill:none\" points=\"1867.47,1486.45 1867.47,47.2441 \"/>\n",
       "<polyline clip-path=\"url(#clip072)\" style=\"stroke:#000000; stroke-linecap:round; stroke-linejoin:round; stroke-width:2; stroke-opacity:0.1; fill:none\" points=\"2291.67,1486.45 2291.67,47.2441 \"/>\n",
       "<polyline clip-path=\"url(#clip072)\" style=\"stroke:#000000; stroke-linecap:round; stroke-linejoin:round; stroke-width:2; stroke-opacity:0.1; fill:none\" points=\"194.422,1316.67 2352.76,1316.67 \"/>\n",
       "<polyline clip-path=\"url(#clip072)\" style=\"stroke:#000000; stroke-linecap:round; stroke-linejoin:round; stroke-width:2; stroke-opacity:0.1; fill:none\" points=\"194.422,1058.61 2352.76,1058.61 \"/>\n",
       "<polyline clip-path=\"url(#clip072)\" style=\"stroke:#000000; stroke-linecap:round; stroke-linejoin:round; stroke-width:2; stroke-opacity:0.1; fill:none\" points=\"194.422,800.55 2352.76,800.55 \"/>\n",
       "<polyline clip-path=\"url(#clip072)\" style=\"stroke:#000000; stroke-linecap:round; stroke-linejoin:round; stroke-width:2; stroke-opacity:0.1; fill:none\" points=\"194.422,542.488 2352.76,542.488 \"/>\n",
       "<polyline clip-path=\"url(#clip072)\" style=\"stroke:#000000; stroke-linecap:round; stroke-linejoin:round; stroke-width:2; stroke-opacity:0.1; fill:none\" points=\"194.422,284.426 2352.76,284.426 \"/>\n",
       "<polyline clip-path=\"url(#clip070)\" style=\"stroke:#000000; stroke-linecap:round; stroke-linejoin:round; stroke-width:4; stroke-opacity:1; fill:none\" points=\"194.422,1486.45 2352.76,1486.45 \"/>\n",
       "<polyline clip-path=\"url(#clip070)\" style=\"stroke:#000000; stroke-linecap:round; stroke-linejoin:round; stroke-width:4; stroke-opacity:1; fill:none\" points=\"594.868,1486.45 594.868,1467.55 \"/>\n",
       "<polyline clip-path=\"url(#clip070)\" style=\"stroke:#000000; stroke-linecap:round; stroke-linejoin:round; stroke-width:4; stroke-opacity:1; fill:none\" points=\"1019.07,1486.45 1019.07,1467.55 \"/>\n",
       "<polyline clip-path=\"url(#clip070)\" style=\"stroke:#000000; stroke-linecap:round; stroke-linejoin:round; stroke-width:4; stroke-opacity:1; fill:none\" points=\"1443.27,1486.45 1443.27,1467.55 \"/>\n",
       "<polyline clip-path=\"url(#clip070)\" style=\"stroke:#000000; stroke-linecap:round; stroke-linejoin:round; stroke-width:4; stroke-opacity:1; fill:none\" points=\"1867.47,1486.45 1867.47,1467.55 \"/>\n",
       "<polyline clip-path=\"url(#clip070)\" style=\"stroke:#000000; stroke-linecap:round; stroke-linejoin:round; stroke-width:4; stroke-opacity:1; fill:none\" points=\"2291.67,1486.45 2291.67,1467.55 \"/>\n",
       "<path clip-path=\"url(#clip070)\" d=\"M585.146 1514.29 L603.502 1514.29 L603.502 1518.22 L589.428 1518.22 L589.428 1526.7 Q590.446 1526.35 591.465 1526.19 Q592.483 1526 593.502 1526 Q599.289 1526 602.669 1529.17 Q606.048 1532.34 606.048 1537.76 Q606.048 1543.34 602.576 1546.44 Q599.104 1549.52 592.784 1549.52 Q590.608 1549.52 588.34 1549.15 Q586.095 1548.78 583.687 1548.04 L583.687 1543.34 Q585.771 1544.47 587.993 1545.03 Q590.215 1545.58 592.692 1545.58 Q596.696 1545.58 599.034 1543.48 Q601.372 1541.37 601.372 1537.76 Q601.372 1534.15 599.034 1532.04 Q596.696 1529.94 592.692 1529.94 Q590.817 1529.94 588.942 1530.35 Q587.09 1530.77 585.146 1531.65 L585.146 1514.29 Z\" fill=\"#000000\" fill-rule=\"nonzero\" fill-opacity=\"1\" /><path clip-path=\"url(#clip070)\" d=\"M993.756 1544.91 L1001.39 1544.91 L1001.39 1518.55 L993.085 1520.21 L993.085 1515.95 L1001.35 1514.29 L1006.02 1514.29 L1006.02 1544.91 L1013.66 1544.91 L1013.66 1548.85 L993.756 1548.85 L993.756 1544.91 Z\" fill=\"#000000\" fill-rule=\"nonzero\" fill-opacity=\"1\" /><path clip-path=\"url(#clip070)\" d=\"M1033.11 1517.37 Q1029.5 1517.37 1027.67 1520.93 Q1025.86 1524.47 1025.86 1531.6 Q1025.86 1538.71 1027.67 1542.27 Q1029.5 1545.82 1033.11 1545.82 Q1036.74 1545.82 1038.55 1542.27 Q1040.38 1538.71 1040.38 1531.6 Q1040.38 1524.47 1038.55 1520.93 Q1036.74 1517.37 1033.11 1517.37 M1033.11 1513.66 Q1038.92 1513.66 1041.97 1518.27 Q1045.05 1522.85 1045.05 1531.6 Q1045.05 1540.33 1041.97 1544.94 Q1038.92 1549.52 1033.11 1549.52 Q1027.3 1549.52 1024.22 1544.94 Q1021.16 1540.33 1021.16 1531.6 Q1021.16 1522.85 1024.22 1518.27 Q1027.3 1513.66 1033.11 1513.66 Z\" fill=\"#000000\" fill-rule=\"nonzero\" fill-opacity=\"1\" /><path clip-path=\"url(#clip070)\" d=\"M1418.45 1544.91 L1426.09 1544.91 L1426.09 1518.55 L1417.78 1520.21 L1417.78 1515.95 L1426.05 1514.29 L1430.72 1514.29 L1430.72 1544.91 L1438.36 1544.91 L1438.36 1548.85 L1418.45 1548.85 L1418.45 1544.91 Z\" fill=\"#000000\" fill-rule=\"nonzero\" fill-opacity=\"1\" /><path clip-path=\"url(#clip070)\" d=\"M1447.85 1514.29 L1466.21 1514.29 L1466.21 1518.22 L1452.14 1518.22 L1452.14 1526.7 Q1453.15 1526.35 1454.17 1526.19 Q1455.19 1526 1456.21 1526 Q1462 1526 1465.38 1529.17 Q1468.76 1532.34 1468.76 1537.76 Q1468.76 1543.34 1465.28 1546.44 Q1461.81 1549.52 1455.49 1549.52 Q1453.32 1549.52 1451.05 1549.15 Q1448.8 1548.78 1446.39 1548.04 L1446.39 1543.34 Q1448.48 1544.47 1450.7 1545.03 Q1452.92 1545.58 1455.4 1545.58 Q1459.4 1545.58 1461.74 1543.48 Q1464.08 1541.37 1464.08 1537.76 Q1464.08 1534.15 1461.74 1532.04 Q1459.4 1529.94 1455.4 1529.94 Q1453.52 1529.94 1451.65 1530.35 Q1449.8 1530.77 1447.85 1531.65 L1447.85 1514.29 Z\" fill=\"#000000\" fill-rule=\"nonzero\" fill-opacity=\"1\" /><path clip-path=\"url(#clip070)\" d=\"M1846.24 1544.91 L1862.56 1544.91 L1862.56 1548.85 L1840.62 1548.85 L1840.62 1544.91 Q1843.28 1542.16 1847.86 1537.53 Q1852.47 1532.88 1853.65 1531.53 Q1855.9 1529.01 1856.78 1527.27 Q1857.68 1525.51 1857.68 1523.82 Q1857.68 1521.07 1855.73 1519.33 Q1853.81 1517.6 1850.71 1517.6 Q1848.51 1517.6 1846.06 1518.36 Q1843.63 1519.13 1840.85 1520.68 L1840.85 1515.95 Q1843.67 1514.82 1846.13 1514.24 Q1848.58 1513.66 1850.62 1513.66 Q1855.99 1513.66 1859.18 1516.35 Q1862.38 1519.03 1862.38 1523.52 Q1862.38 1525.65 1861.57 1527.57 Q1860.78 1529.47 1858.67 1532.07 Q1858.1 1532.74 1854.99 1535.95 Q1851.89 1539.15 1846.24 1544.91 Z\" fill=\"#000000\" fill-rule=\"nonzero\" fill-opacity=\"1\" /><path clip-path=\"url(#clip070)\" d=\"M1882.38 1517.37 Q1878.77 1517.37 1876.94 1520.93 Q1875.13 1524.47 1875.13 1531.6 Q1875.13 1538.71 1876.94 1542.27 Q1878.77 1545.82 1882.38 1545.82 Q1886.01 1545.82 1887.82 1542.27 Q1889.65 1538.71 1889.65 1531.6 Q1889.65 1524.47 1887.82 1520.93 Q1886.01 1517.37 1882.38 1517.37 M1882.38 1513.66 Q1888.19 1513.66 1891.24 1518.27 Q1894.32 1522.85 1894.32 1531.6 Q1894.32 1540.33 1891.24 1544.94 Q1888.19 1549.52 1882.38 1549.52 Q1876.57 1549.52 1873.49 1544.94 Q1870.43 1540.33 1870.43 1531.6 Q1870.43 1522.85 1873.49 1518.27 Q1876.57 1513.66 1882.38 1513.66 Z\" fill=\"#000000\" fill-rule=\"nonzero\" fill-opacity=\"1\" /><path clip-path=\"url(#clip070)\" d=\"M2270.94 1544.91 L2287.26 1544.91 L2287.26 1548.85 L2265.32 1548.85 L2265.32 1544.91 Q2267.98 1542.16 2272.56 1537.53 Q2277.17 1532.88 2278.35 1531.53 Q2280.59 1529.01 2281.47 1527.27 Q2282.38 1525.51 2282.38 1523.82 Q2282.38 1521.07 2280.43 1519.33 Q2278.51 1517.6 2275.41 1517.6 Q2273.21 1517.6 2270.76 1518.36 Q2268.33 1519.13 2265.55 1520.68 L2265.55 1515.95 Q2268.37 1514.82 2270.83 1514.24 Q2273.28 1513.66 2275.32 1513.66 Q2280.69 1513.66 2283.88 1516.35 Q2287.08 1519.03 2287.08 1523.52 Q2287.08 1525.65 2286.27 1527.57 Q2285.48 1529.47 2283.37 1532.07 Q2282.79 1532.74 2279.69 1535.95 Q2276.59 1539.15 2270.94 1544.91 Z\" fill=\"#000000\" fill-rule=\"nonzero\" fill-opacity=\"1\" /><path clip-path=\"url(#clip070)\" d=\"M2297.12 1514.29 L2315.48 1514.29 L2315.48 1518.22 L2301.4 1518.22 L2301.4 1526.7 Q2302.42 1526.35 2303.44 1526.19 Q2304.46 1526 2305.48 1526 Q2311.27 1526 2314.65 1529.17 Q2318.03 1532.34 2318.03 1537.76 Q2318.03 1543.34 2314.55 1546.44 Q2311.08 1549.52 2304.76 1549.52 Q2302.59 1549.52 2300.32 1549.15 Q2298.07 1548.78 2295.66 1548.04 L2295.66 1543.34 Q2297.75 1544.47 2299.97 1545.03 Q2302.19 1545.58 2304.67 1545.58 Q2308.67 1545.58 2311.01 1543.48 Q2313.35 1541.37 2313.35 1537.76 Q2313.35 1534.15 2311.01 1532.04 Q2308.67 1529.94 2304.67 1529.94 Q2302.79 1529.94 2300.92 1530.35 Q2299.07 1530.77 2297.12 1531.65 L2297.12 1514.29 Z\" fill=\"#000000\" fill-rule=\"nonzero\" fill-opacity=\"1\" /><polyline clip-path=\"url(#clip070)\" style=\"stroke:#000000; stroke-linecap:round; stroke-linejoin:round; stroke-width:4; stroke-opacity:1; fill:none\" points=\"194.422,1486.45 194.422,47.2441 \"/>\n",
       "<polyline clip-path=\"url(#clip070)\" style=\"stroke:#000000; stroke-linecap:round; stroke-linejoin:round; stroke-width:4; stroke-opacity:1; fill:none\" points=\"194.422,1316.67 213.32,1316.67 \"/>\n",
       "<polyline clip-path=\"url(#clip070)\" style=\"stroke:#000000; stroke-linecap:round; stroke-linejoin:round; stroke-width:4; stroke-opacity:1; fill:none\" points=\"194.422,1058.61 213.32,1058.61 \"/>\n",
       "<polyline clip-path=\"url(#clip070)\" style=\"stroke:#000000; stroke-linecap:round; stroke-linejoin:round; stroke-width:4; stroke-opacity:1; fill:none\" points=\"194.422,800.55 213.32,800.55 \"/>\n",
       "<polyline clip-path=\"url(#clip070)\" style=\"stroke:#000000; stroke-linecap:round; stroke-linejoin:round; stroke-width:4; stroke-opacity:1; fill:none\" points=\"194.422,542.488 213.32,542.488 \"/>\n",
       "<polyline clip-path=\"url(#clip070)\" style=\"stroke:#000000; stroke-linecap:round; stroke-linejoin:round; stroke-width:4; stroke-opacity:1; fill:none\" points=\"194.422,284.426 213.32,284.426 \"/>\n",
       "<path clip-path=\"url(#clip070)\" d=\"M52.381 1317.12 L82.0568 1317.12 L82.0568 1321.06 L52.381 1321.06 L52.381 1317.12 Z\" fill=\"#000000\" fill-rule=\"nonzero\" fill-opacity=\"1\" /><path clip-path=\"url(#clip070)\" d=\"M96.1771 1330.02 L112.496 1330.02 L112.496 1333.95 L90.5521 1333.95 L90.5521 1330.02 Q93.2141 1327.26 97.7974 1322.63 Q102.404 1317.98 103.584 1316.64 Q105.83 1314.12 106.709 1312.38 Q107.612 1310.62 107.612 1308.93 Q107.612 1306.18 105.668 1304.44 Q103.746 1302.7 100.645 1302.7 Q98.4456 1302.7 95.9919 1303.47 Q93.5613 1304.23 90.7836 1305.78 L90.7836 1301.06 Q93.6076 1299.93 96.0613 1299.35 Q98.515 1298.77 100.552 1298.77 Q105.922 1298.77 109.117 1301.45 Q112.311 1304.14 112.311 1308.63 Q112.311 1310.76 111.501 1312.68 Q110.714 1314.58 108.608 1317.17 Q108.029 1317.84 104.927 1321.06 Q101.825 1324.25 96.1771 1330.02 Z\" fill=\"#000000\" fill-rule=\"nonzero\" fill-opacity=\"1\" /><path clip-path=\"url(#clip070)\" d=\"M122.311 1328.07 L127.195 1328.07 L127.195 1333.95 L122.311 1333.95 L122.311 1328.07 Z\" fill=\"#000000\" fill-rule=\"nonzero\" fill-opacity=\"1\" /><path clip-path=\"url(#clip070)\" d=\"M136.2 1299.39 L158.422 1299.39 L158.422 1301.38 L145.876 1333.95 L140.992 1333.95 L152.797 1303.33 L136.2 1303.33 L136.2 1299.39 Z\" fill=\"#000000\" fill-rule=\"nonzero\" fill-opacity=\"1\" /><path clip-path=\"url(#clip070)\" d=\"M50.9921 1059.06 L80.6679 1059.06 L80.6679 1063 L50.9921 1063 L50.9921 1059.06 Z\" fill=\"#000000\" fill-rule=\"nonzero\" fill-opacity=\"1\" /><path clip-path=\"url(#clip070)\" d=\"M94.7882 1071.96 L111.108 1071.96 L111.108 1075.89 L89.1632 1075.89 L89.1632 1071.96 Q91.8252 1069.2 96.4085 1064.57 Q101.015 1059.92 102.196 1058.58 Q104.441 1056.05 105.321 1054.32 Q106.223 1052.56 106.223 1050.87 Q106.223 1048.11 104.279 1046.38 Q102.358 1044.64 99.2558 1044.64 Q97.0567 1044.64 94.603 1045.41 Q92.1725 1046.17 89.3947 1047.72 L89.3947 1043 Q92.2188 1041.86 94.6724 1041.28 Q97.1261 1040.71 99.1632 1040.71 Q104.534 1040.71 107.728 1043.39 Q110.922 1046.08 110.922 1050.57 Q110.922 1052.7 110.112 1054.62 Q109.325 1056.52 107.219 1059.11 Q106.64 1059.78 103.538 1063 Q100.436 1066.19 94.7882 1071.96 Z\" fill=\"#000000\" fill-rule=\"nonzero\" fill-opacity=\"1\" /><path clip-path=\"url(#clip070)\" d=\"M120.922 1070.01 L125.807 1070.01 L125.807 1075.89 L120.922 1075.89 L120.922 1070.01 Z\" fill=\"#000000\" fill-rule=\"nonzero\" fill-opacity=\"1\" /><path clip-path=\"url(#clip070)\" d=\"M148.839 1045.41 L137.033 1063.85 L148.839 1063.85 L148.839 1045.41 M147.612 1041.33 L153.492 1041.33 L153.492 1063.85 L158.422 1063.85 L158.422 1067.74 L153.492 1067.74 L153.492 1075.89 L148.839 1075.89 L148.839 1067.74 L133.237 1067.74 L133.237 1063.23 L147.612 1041.33 Z\" fill=\"#000000\" fill-rule=\"nonzero\" fill-opacity=\"1\" /><path clip-path=\"url(#clip070)\" d=\"M52.7051 801.001 L82.3808 801.001 L82.3808 804.936 L52.7051 804.936 L52.7051 801.001 Z\" fill=\"#000000\" fill-rule=\"nonzero\" fill-opacity=\"1\" /><path clip-path=\"url(#clip070)\" d=\"M96.5011 813.894 L112.82 813.894 L112.82 817.83 L90.8762 817.83 L90.8762 813.894 Q93.5382 811.14 98.1215 806.51 Q102.728 801.857 103.909 800.515 Q106.154 797.992 107.033 796.256 Q107.936 794.496 107.936 792.807 Q107.936 790.052 105.992 788.316 Q104.071 786.58 100.969 786.58 Q98.7696 786.58 96.316 787.344 Q93.8854 788.107 91.1077 789.658 L91.1077 784.936 Q93.9317 783.802 96.3854 783.223 Q98.8391 782.645 100.876 782.645 Q106.246 782.645 109.441 785.33 Q112.635 788.015 112.635 792.506 Q112.635 794.635 111.825 796.557 Q111.038 798.455 108.932 801.047 Q108.353 801.719 105.251 804.936 Q102.149 808.131 96.5011 813.894 Z\" fill=\"#000000\" fill-rule=\"nonzero\" fill-opacity=\"1\" /><path clip-path=\"url(#clip070)\" d=\"M122.635 811.95 L127.519 811.95 L127.519 817.83 L122.635 817.83 L122.635 811.95 Z\" fill=\"#000000\" fill-rule=\"nonzero\" fill-opacity=\"1\" /><path clip-path=\"url(#clip070)\" d=\"M138.515 813.894 L146.154 813.894 L146.154 787.529 L137.844 789.195 L137.844 784.936 L146.107 783.27 L150.783 783.27 L150.783 813.894 L158.422 813.894 L158.422 817.83 L138.515 817.83 L138.515 813.894 Z\" fill=\"#000000\" fill-rule=\"nonzero\" fill-opacity=\"1\" /><path clip-path=\"url(#clip070)\" d=\"M51.5708 542.939 L81.2466 542.939 L81.2466 546.874 L51.5708 546.874 L51.5708 542.939 Z\" fill=\"#000000\" fill-rule=\"nonzero\" fill-opacity=\"1\" /><path clip-path=\"url(#clip070)\" d=\"M92.1493 555.833 L99.7882 555.833 L99.7882 529.467 L91.478 531.134 L91.478 526.874 L99.7419 525.208 L104.418 525.208 L104.418 555.833 L112.057 555.833 L112.057 559.768 L92.1493 559.768 L92.1493 555.833 Z\" fill=\"#000000\" fill-rule=\"nonzero\" fill-opacity=\"1\" /><path clip-path=\"url(#clip070)\" d=\"M121.501 553.888 L126.385 553.888 L126.385 559.768 L121.501 559.768 L121.501 553.888 Z\" fill=\"#000000\" fill-rule=\"nonzero\" fill-opacity=\"1\" /><path clip-path=\"url(#clip070)\" d=\"M146.57 543.356 Q143.237 543.356 141.316 545.138 Q139.418 546.921 139.418 550.046 Q139.418 553.171 141.316 554.953 Q143.237 556.735 146.57 556.735 Q149.904 556.735 151.825 554.953 Q153.746 553.147 153.746 550.046 Q153.746 546.921 151.825 545.138 Q149.927 543.356 146.57 543.356 M141.894 541.365 Q138.885 540.624 137.195 538.564 Q135.529 536.504 135.529 533.541 Q135.529 529.398 138.469 526.99 Q141.431 524.583 146.57 524.583 Q151.732 524.583 154.672 526.99 Q157.612 529.398 157.612 533.541 Q157.612 536.504 155.922 538.564 Q154.255 540.624 151.269 541.365 Q154.649 542.152 156.524 544.444 Q158.422 546.735 158.422 550.046 Q158.422 555.069 155.343 557.754 Q152.288 560.439 146.57 560.439 Q140.853 560.439 137.774 557.754 Q134.719 555.069 134.719 550.046 Q134.719 546.735 136.617 544.444 Q138.515 542.152 141.894 541.365 M140.181 533.981 Q140.181 536.666 141.848 538.171 Q143.538 539.675 146.57 539.675 Q149.58 539.675 151.269 538.171 Q152.982 536.666 152.982 533.981 Q152.982 531.296 151.269 529.791 Q149.58 528.286 146.57 528.286 Q143.538 528.286 141.848 529.791 Q140.181 531.296 140.181 533.981 Z\" fill=\"#000000\" fill-rule=\"nonzero\" fill-opacity=\"1\" /><path clip-path=\"url(#clip070)\" d=\"M52.4736 284.877 L82.1494 284.877 L82.1494 288.813 L52.4736 288.813 L52.4736 284.877 Z\" fill=\"#000000\" fill-rule=\"nonzero\" fill-opacity=\"1\" /><path clip-path=\"url(#clip070)\" d=\"M93.0521 297.771 L100.691 297.771 L100.691 271.405 L92.3808 273.072 L92.3808 268.813 L100.645 267.146 L105.321 267.146 L105.321 297.771 L112.959 297.771 L112.959 301.706 L93.0521 301.706 L93.0521 297.771 Z\" fill=\"#000000\" fill-rule=\"nonzero\" fill-opacity=\"1\" /><path clip-path=\"url(#clip070)\" d=\"M122.404 295.826 L127.288 295.826 L127.288 301.706 L122.404 301.706 L122.404 295.826 Z\" fill=\"#000000\" fill-rule=\"nonzero\" fill-opacity=\"1\" /><path clip-path=\"url(#clip070)\" d=\"M137.519 267.146 L155.876 267.146 L155.876 271.081 L141.802 271.081 L141.802 279.553 Q142.82 279.206 143.839 279.044 Q144.857 278.859 145.876 278.859 Q151.663 278.859 155.042 282.03 Q158.422 285.201 158.422 290.618 Q158.422 296.197 154.95 299.299 Q151.478 302.377 145.158 302.377 Q142.982 302.377 140.714 302.007 Q138.469 301.637 136.061 300.896 L136.061 296.197 Q138.144 297.331 140.367 297.887 Q142.589 298.442 145.066 298.442 Q149.07 298.442 151.408 296.336 Q153.746 294.229 153.746 290.618 Q153.746 287.007 151.408 284.901 Q149.07 282.794 145.066 282.794 Q143.191 282.794 141.316 283.211 Q139.464 283.627 137.519 284.507 L137.519 267.146 Z\" fill=\"#000000\" fill-rule=\"nonzero\" fill-opacity=\"1\" /><polyline clip-path=\"url(#clip072)\" style=\"stroke:#009af9; stroke-linecap:round; stroke-linejoin:round; stroke-width:4; stroke-opacity:1; fill:none\" points=\"255.507,87.9763 340.347,408.106 425.187,515.507 510.028,600.616 594.868,229.727 679.708,112.466 764.548,278.162 849.388,661.195 934.228,575.289 1019.07,1342.74 1103.91,553.58 1188.75,1370.17 1273.59,1379.46 1358.43,1386.69 1443.27,1393.36 1528.11,623.84 1612.95,1401.66 1697.79,1407.29 1782.63,1412.97 1867.47,1418.41 1952.31,564.208 2037.15,1433.28 2121.99,1436.79 2206.83,1441.45 2291.67,1445.72 \"/>\n",
       "<path clip-path=\"url(#clip070)\" d=\"M2012.55 198.898 L2280.81 198.898 L2280.81 95.2176 L2012.55 95.2176  Z\" fill=\"#ffffff\" fill-rule=\"evenodd\" fill-opacity=\"1\"/>\n",
       "<polyline clip-path=\"url(#clip070)\" style=\"stroke:#000000; stroke-linecap:round; stroke-linejoin:round; stroke-width:4; stroke-opacity:1; fill:none\" points=\"2012.55,198.898 2280.81,198.898 2280.81,95.2176 2012.55,95.2176 2012.55,198.898 \"/>\n",
       "<polyline clip-path=\"url(#clip070)\" style=\"stroke:#009af9; stroke-linecap:round; stroke-linejoin:round; stroke-width:4; stroke-opacity:1; fill:none\" points=\"2036.53,147.058 2180.42,147.058 \"/>\n",
       "<path clip-path=\"url(#clip070)\" d=\"M2218.24 166.745 Q2216.44 171.375 2214.72 172.787 Q2213.01 174.199 2210.14 174.199 L2206.74 174.199 L2206.74 170.634 L2209.24 170.634 Q2211 170.634 2211.97 169.8 Q2212.94 168.967 2214.12 165.865 L2214.89 163.921 L2204.4 138.412 L2208.91 138.412 L2217.02 158.689 L2225.12 138.412 L2229.63 138.412 L2218.24 166.745 Z\" fill=\"#000000\" fill-rule=\"nonzero\" fill-opacity=\"1\" /><path clip-path=\"url(#clip070)\" d=\"M2236.92 160.402 L2244.56 160.402 L2244.56 134.037 L2236.25 135.703 L2236.25 131.444 L2244.52 129.778 L2249.19 129.778 L2249.19 160.402 L2256.83 160.402 L2256.83 164.338 L2236.92 164.338 L2236.92 160.402 Z\" fill=\"#000000\" fill-rule=\"nonzero\" fill-opacity=\"1\" /></svg>\n"
      ]
     },
     "metadata": {},
     "output_type": "display_data"
    }
   ],
   "source": [
    "using Plots\n",
    "plot(log10.(e))"
   ]
  },
  {
   "cell_type": "code",
   "execution_count": 11,
   "id": "57ab41b8",
   "metadata": {},
   "outputs": [
    {
     "data": {
      "text/plain": [
       "3"
      ]
     },
     "metadata": {},
     "output_type": "display_data"
    }
   ],
   "source": [
    "u1 = copy(r1)\n",
    "r0 = FEM.nodePositionVector(problem)\n",
    "for i in 1:size(r1.a, 2)\n",
    "    u1.a[:, i] = r1.a[:, i] - r0.a\n",
    "end\n",
    "\n",
    "u2 = FEM.showDoFResults(problem, u1, :uvec, visible=true)"
   ]
  },
  {
   "cell_type": "code",
   "execution_count": 12,
   "id": "f74412f6",
   "metadata": {},
   "outputs": [],
   "source": [
    "#FEM.plotOnPath(problem, \"horizontal\", u2)\n",
    "#FEM.plotOnPath(problem, \"vertical\", u2)"
   ]
  },
  {
   "cell_type": "code",
   "execution_count": 13,
   "id": "d9e04c86",
   "metadata": {},
   "outputs": [
    {
     "data": {
      "text/plain": [
       "LowLevelFEM.TensorField([[0.40000000000000213; 0.0; … ; 0.0; 0.6000000000000001;;], [0.40000000000000213; 0.0; … ; 0.0; 0.6000000000000001;;], [0.40000000000000213; 0.0; … ; 0.0; 0.6000000000000001;;], [0.40000000000000213; 0.0; … ; 0.0; 0.6000000000000001;;], [0.40000000000000213; 0.0; … ; 0.0; 0.6000000000000001;;], [0.40000000000000213; 0.0; … ; 0.0; 0.6000000000000001;;], [0.40000000000000213; 0.0; … ; 0.0; 0.6000000000000001;;], [0.40000000000000213; 0.0; … ; 0.0; 0.6000000000000001;;], [0.40000000000000213; 0.0; … ; 0.0; 0.6000000000000001;;], [0.40000000000000213; 0.0; … ; 0.0; 0.6000000000000001;;]  …  [0.40000000000000213; 0.0; … ; 0.0; 0.6000000000000001;;], [0.40000000000000213; 0.0; … ; 0.0; 0.6000000000000001;;], [0.40000000000000213; 0.0; … ; 0.0; 0.6000000000000001;;], [0.40000000000000213; 0.0; … ; 0.0; 0.6000000000000001;;], [0.40000000000000213; 0.0; … ; 0.0; 0.6000000000000001;;], [0.40000000000000213; 0.0; … ; 0.0; 0.6000000000000001;;], [0.40000000000000213; 0.0; … ; 0.0; 0.6000000000000001;;], [0.40000000000000213; 0.0; … ; 0.0; 0.6000000000000001;;], [0.40000000000000213; 0.0; … ; 0.0; 0.6000000000000001;;], [0.40000000000000213; 0.0; … ; 0.0; 0.6000000000000001;;]], Matrix{Float64}(undef, 0, 0), [0.0], [473, 474, 475, 476, 477, 478, 479, 480, 481, 482  …  783, 784, 785, 786, 787, 788, 789, 790, 791, 792], 1, :F)"
      ]
     },
     "metadata": {},
     "output_type": "display_data"
    }
   ],
   "source": [
    "r = FEM.nodePositionVector(problem)\n",
    "ux(x, y, z) = 0.4x\n",
    "uy(x, y, z) = 0.5y\n",
    "uz(x, y, z) = 0.6z\n",
    "q0 = FEM.field(\"body\", fx=ux, fy=uy, fz=uz)\n",
    "q = FEM.vectorField(problem, [q0])\n",
    "F = FEM.deformationGradient(problem, q)"
   ]
  },
  {
   "cell_type": "code",
   "execution_count": 14,
   "id": "bda3da4b",
   "metadata": {},
   "outputs": [
    {
     "data": {
      "text/plain": [
       "3×3 Matrix{Float64}:\n",
       " 0.4  0.0  0.0\n",
       " 0.0  0.5  0.0\n",
       " 0.0  0.0  0.6"
      ]
     },
     "metadata": {},
     "output_type": "display_data"
    }
   ],
   "source": [
    "reshape(F.A[1][1:9], 3, 3)"
   ]
  },
  {
   "cell_type": "code",
   "execution_count": 15,
   "id": "4aba7a4b",
   "metadata": {},
   "outputs": [
    {
     "data": {
      "text/plain": [
       "3×3 Matrix{Float64}:\n",
       " -0.42   0.0     0.0\n",
       "  0.0   -0.375   0.0\n",
       "  0.0    0.0    -0.32"
      ]
     },
     "metadata": {},
     "output_type": "display_data"
    }
   ],
   "source": [
    "E = (F' * F - FEM.unitTensor(F)) / 2\n",
    "\n",
    "reshape(E.A[1][1:9], 3, 3)"
   ]
  },
  {
   "cell_type": "code",
   "execution_count": 16,
   "id": "a7c506a2",
   "metadata": {},
   "outputs": [
    {
     "data": {
      "text/plain": [
       "3×3 Matrix{Float64}:\n",
       " -2.625   0.0   0.0\n",
       "  0.0    -1.5   0.0\n",
       "  0.0     0.0  -0.888889"
      ]
     },
     "metadata": {},
     "output_type": "display_data"
    }
   ],
   "source": [
    "e = (FEM.unitTensor(F) - inv(F * F')) / 2\n",
    "\n",
    "reshape(e.A[1][1:9], 3, 3)"
   ]
  },
  {
   "cell_type": "code",
   "execution_count": 17,
   "id": "df5feea4",
   "metadata": {},
   "outputs": [
    {
     "data": {
      "text/plain": [
       "3×3 Matrix{Float64}:\n",
       " -2.625   0.0   0.0\n",
       "  0.0    -1.5   0.0\n",
       "  0.0     0.0  -0.888889"
      ]
     },
     "metadata": {},
     "output_type": "display_data"
    }
   ],
   "source": [
    "e = inv(F') * E * inv(F)\n",
    "\n",
    "reshape(e.A[1][1:9], 3, 3)"
   ]
  },
  {
   "cell_type": "code",
   "execution_count": 18,
   "id": "eb7cd73d",
   "metadata": {},
   "outputs": [
    {
     "data": {
      "text/plain": [
       "3×3 Matrix{Float64}:\n",
       " 0.4  0.0  0.0\n",
       " 0.0  0.5  0.0\n",
       " 0.0  0.0  0.6"
      ]
     },
     "metadata": {},
     "output_type": "display_data"
    }
   ],
   "source": [
    "U = sqrt(F' * F)\n",
    "\n",
    "reshape(U.A[1][1:9], 3, 3)"
   ]
  },
  {
   "cell_type": "code",
   "execution_count": 19,
   "id": "49af293c",
   "metadata": {},
   "outputs": [
    {
     "data": {
      "text/plain": [
       "3×3 Matrix{Float64}:\n",
       " -122.128     0.0       0.0\n",
       "    0.0    -113.474     0.0\n",
       "    0.0       0.0    -108.773"
      ]
     },
     "metadata": {},
     "output_type": "display_data"
    }
   ],
   "source": [
    "Ex = 10\n",
    "νxy = 0.3\n",
    "λ = Ex * νxy / ((1 + νxy) * (1 - 2νxy))\n",
    "μ = Ex / (2 * (1 + νxy))\n",
    "I3 = FEM.unitTensor(F)\n",
    "iC = inv(F' * F)\n",
    "J1 = det(F)\n",
    "SII = μ * (I3 - iC) + λ * log(J1) / J1 * I3\n",
    "\n",
    "reshape(SII.A[1][1:9], 3, 3)"
   ]
  },
  {
   "cell_type": "code",
   "execution_count": 20,
   "id": "88fa00a0",
   "metadata": {},
   "outputs": [
    {
     "data": {
      "text/plain": [
       "probe (generic function with 1 method)"
      ]
     },
     "metadata": {},
     "output_type": "display_data"
    }
   ],
   "source": [
    "function probe(A, x, y, z)\n",
    "    elementTag, elementType, nodeTags, u, v, w = gmsh.model.mesh.getElementByCoordinates(x, y, z, 3, false)\n",
    "    elementName, dim, order, numNodes::Int64, localNodeCoord, numPrimaryNodes = gmsh.model.mesh.getElementProperties(elementType)\n",
    "    comp, fun, ori = gmsh.model.mesh.getBasisFunctions(elementType, [u, v, w], \"Lagrange\")\n",
    "    SS = [0.0, 0, 0, 0, 0, 0, 0, 0, 0]\n",
    "    if isa(A, FEM.TensorField)\n",
    "        ind = findfirst(i -> i == elementTag, SII.numElem)\n",
    "        for i in range(1, 9)\n",
    "            SS[i] = fun' * SII.A[ind][i:9:9numNodes, 1]\n",
    "        end\n",
    "    elseif isa(A, Matrix)\n",
    "        for i in range(1, 9)\n",
    "            SS[i] = fun' * A[9nodeTags.-(9-i), 1]\n",
    "        end\n",
    "    end\n",
    "    return reshape(SS, 3, 3)\n",
    "end"
   ]
  },
  {
   "cell_type": "code",
   "execution_count": 21,
   "id": "eb55a91c",
   "metadata": {},
   "outputs": [
    {
     "data": {
      "text/plain": [
       "LowLevelFEM.TensorField(Matrix{Float64}[], [-122.12805462500343; 0.0; … ; 0.0; -108.77335377030371;;], [0.0], Int64[], 1, :e)"
      ]
     },
     "metadata": {},
     "output_type": "display_data"
    }
   ],
   "source": [
    "SII2 = FEM.elementsToNodes(problem, SII)"
   ]
  },
  {
   "cell_type": "code",
   "execution_count": 22,
   "id": "0f94ba00",
   "metadata": {},
   "outputs": [
    {
     "data": {
      "text/plain": [
       "3×3 Matrix{Float64}:\n",
       " -122.128           5.46571e-14     1.7792e-14\n",
       "    5.46571e-14  -113.474          -4.55476e-15\n",
       "    1.7792e-14     -4.55476e-15  -108.773"
      ]
     },
     "metadata": {},
     "output_type": "display_data"
    }
   ],
   "source": [
    "probe(SII2, 0, 0, 0)"
   ]
  },
  {
   "cell_type": "code",
   "execution_count": 23,
   "id": "9eac2964",
   "metadata": {},
   "outputs": [
    {
     "data": {
      "text/plain": [
       "LowLevelFEM.ScalarField([[2.0; 2.0; … ; 2.0; 2.0;;], [2.0; 2.0; … ; 2.0; 2.0;;], [2.0; 2.0; … ; 2.0; 2.0;;], [2.0; 2.0; … ; 2.0; 2.0;;], [2.0; 2.0; … ; 2.0; 2.0;;], [2.0; 2.0; … ; 2.0; 2.0;;], [2.0; 2.0; … ; 2.0; 2.0;;], [2.0; 2.0; … ; 2.0; 2.0;;], [2.0; 2.0; … ; 2.0; 2.0;;], [2.0; 2.0; … ; 2.0; 2.0;;]  …  [2.0; 2.0; … ; 2.0; 2.0;;], [2.0; 2.0; … ; 2.0; 2.0;;], [2.0; 2.0; … ; 2.0; 2.0;;], [2.0; 2.0; … ; 2.0; 2.0;;], [2.0; 2.0; … ; 2.0; 2.0;;], [2.0; 2.0; … ; 2.0; 2.0;;], [2.0; 2.0; … ; 2.0; 2.0;;], [2.0; 2.0; … ; 2.0; 2.0;;], [2.0; 2.0; … ; 2.0; 2.0;;], [2.0; 2.0; … ; 2.0; 2.0;;]], Matrix{Float64}(undef, 0, 0), Float64[], [473, 474, 475, 476, 477, 478, 479, 480, 481, 482  …  783, 784, 785, 786, 787, 788, 789, 790, 791, 792], 1, :scalarInElements)"
      ]
     },
     "metadata": {},
     "output_type": "display_data"
    }
   ],
   "source": [
    "field = FEM.field(\"body\", f=2)\n",
    "sc = FEM.ScalarField(problem, [field])"
   ]
  },
  {
   "cell_type": "code",
   "execution_count": 24,
   "id": "b19e2ebf",
   "metadata": {},
   "outputs": [
    {
     "data": {
      "text/plain": [
       "LowLevelFEM.ScalarField([[0.12000000000000056; 0.12000000000000056; … ; 0.1199999999999996; 0.11999999999999986;;], [0.12000000000000056; 0.12000000000000056; … ; 0.1199999999999996; 0.11999999999999986;;], [0.12000000000000056; 0.12000000000000056; … ; 0.1199999999999996; 0.11999999999999986;;], [0.12000000000000056; 0.12000000000000056; … ; 0.1199999999999996; 0.11999999999999986;;], [0.12000000000000056; 0.12000000000000056; … ; 0.1199999999999996; 0.11999999999999986;;], [0.12000000000000056; 0.12000000000000056; … ; 0.1199999999999996; 0.11999999999999986;;], [0.12000000000000056; 0.12000000000000056; … ; 0.1199999999999996; 0.11999999999999986;;], [0.12000000000000056; 0.12000000000000056; … ; 0.1199999999999996; 0.11999999999999986;;], [0.12000000000000056; 0.12000000000000056; … ; 0.1199999999999996; 0.11999999999999986;;], [0.12000000000000056; 0.12000000000000056; … ; 0.1199999999999996; 0.11999999999999986;;]  …  [0.12000000000000056; 0.12000000000000056; … ; 0.1199999999999996; 0.11999999999999986;;], [0.12000000000000056; 0.12000000000000056; … ; 0.1199999999999996; 0.11999999999999986;;], [0.12000000000000056; 0.12000000000000056; … ; 0.1199999999999996; 0.11999999999999986;;], [0.12000000000000056; 0.12000000000000056; … ; 0.1199999999999996; 0.11999999999999986;;], [0.12000000000000056; 0.12000000000000056; … ; 0.1199999999999996; 0.11999999999999986;;], [0.12000000000000056; 0.12000000000000056; … ; 0.1199999999999996; 0.11999999999999986;;], [0.12000000000000056; 0.12000000000000056; … ; 0.1199999999999996; 0.11999999999999986;;], [0.12000000000000056; 0.12000000000000056; … ; 0.1199999999999996; 0.11999999999999986;;], [0.12000000000000056; 0.12000000000000056; … ; 0.1199999999999996; 0.11999999999999986;;], [0.12000000000000056; 0.12000000000000056; … ; 0.1199999999999996; 0.11999999999999986;;]], Matrix{Float64}(undef, 0, 0), [0.0], [473, 474, 475, 476, 477, 478, 479, 480, 481, 482  …  783, 784, 785, 786, 787, 788, 789, 790, 791, 792], 1, :sc)"
      ]
     },
     "metadata": {},
     "output_type": "display_data"
    }
   ],
   "source": [
    "I3 = FEM.unitTensor(F)\n",
    "J = det(F)"
   ]
  },
  {
   "cell_type": "code",
   "execution_count": 25,
   "id": "dfdb8e2d",
   "metadata": {},
   "outputs": [
    {
     "data": {
      "text/plain": [
       "LowLevelFEM.TensorField([[2.0; 0.0; … ; 0.0; 2.0;;], [2.0; 0.0; … ; 0.0; 2.0;;], [2.0; 0.0; … ; 0.0; 2.0;;], [2.0; 0.0; … ; 0.0; 2.0;;], [2.0; 0.0; … ; 0.0; 2.0;;], [2.0; 0.0; … ; 0.0; 2.0;;], [2.0; 0.0; … ; 0.0; 2.0;;], [2.0; 0.0; … ; 0.0; 2.0;;], [2.0; 0.0; … ; 0.0; 2.0;;], [2.0; 0.0; … ; 0.0; 2.0;;]  …  [2.0; 0.0; … ; 0.0; 2.0;;], [2.0; 0.0; … ; 0.0; 2.0;;], [2.0; 0.0; … ; 0.0; 2.0;;], [2.0; 0.0; … ; 0.0; 2.0;;], [2.0; 0.0; … ; 0.0; 2.0;;], [2.0; 0.0; … ; 0.0; 2.0;;], [2.0; 0.0; … ; 0.0; 2.0;;], [2.0; 0.0; … ; 0.0; 2.0;;], [2.0; 0.0; … ; 0.0; 2.0;;], [2.0; 0.0; … ; 0.0; 2.0;;]], Matrix{Float64}(undef, 0, 0), [0.0], [473, 474, 475, 476, 477, 478, 479, 480, 481, 482  …  783, 784, 785, 786, 787, 788, 789, 790, 791, 792], 1, :e)"
      ]
     },
     "metadata": {},
     "output_type": "display_data"
    }
   ],
   "source": [
    "sc * I3"
   ]
  },
  {
   "cell_type": "code",
   "execution_count": 26,
   "id": "b48019c3",
   "metadata": {},
   "outputs": [
    {
     "data": {
      "text/plain": [
       "LowLevelFEM.TensorField([[0.0; 0.0; … ; 0.0; 0.0;;], [0.0; 0.0; … ; 0.0; 0.0;;], [0.0; 0.0; … ; 0.0; 0.0;;], [0.0; 0.0; … ; 0.0; 0.0;;], [0.0; 0.0; … ; 0.0; 0.0;;], [0.0; 0.0; … ; 0.0; 0.0;;], [0.0; 0.0; … ; 0.0; 0.0;;], [0.0; 0.0; … ; 0.0; 0.0;;], [0.0; 0.0; … ; 0.0; 0.0;;], [0.0; 0.0; … ; 0.0; 0.0;;]  …  [0.0; 0.0; … ; 0.0; 0.0;;], [0.0; 0.0; … ; 0.0; 0.0;;], [0.0; 0.0; … ; 0.0; 0.0;;], [0.0; 0.0; … ; 0.0; 0.0;;], [0.0; 0.0; … ; 0.0; 0.0;;], [0.0; 0.0; … ; 0.0; 0.0;;], [0.0; 0.0; … ; 0.0; 0.0;;], [0.0; 0.0; … ; 0.0; 0.0;;], [0.0; 0.0; … ; 0.0; 0.0;;], [0.0; 0.0; … ; 0.0; 0.0;;]], Matrix{Float64}(undef, 0, 0), [0.0], [473, 474, 475, 476, 477, 478, 479, 480, 481, 482  …  783, 784, 785, 786, 787, 788, 789, 790, 791, 792], 1, :e)"
      ]
     },
     "metadata": {},
     "output_type": "display_data"
    }
   ],
   "source": [
    "I3 - I3"
   ]
  },
  {
   "cell_type": "code",
   "execution_count": 27,
   "id": "ff567b87",
   "metadata": {},
   "outputs": [
    {
     "data": {
      "text/plain": [
       "3×3 Matrix{Float64}:\n",
       " -162.837     0.0       0.0\n",
       "    0.0    -236.405     0.0\n",
       "    0.0       0.0    -326.32"
      ]
     },
     "metadata": {},
     "output_type": "display_data"
    }
   ],
   "source": [
    "σ = F * SII * F' / det(F)\n",
    "\n",
    "reshape(σ.A[1][1:9], 3, 3)"
   ]
  },
  {
   "cell_type": "code",
   "execution_count": 28,
   "id": "f1eee084",
   "metadata": {},
   "outputs": [
    {
     "data": {
      "text/plain": [
       "-119.05114807753088"
      ]
     },
     "metadata": {},
     "output_type": "display_data"
    }
   ],
   "source": [
    "J = 0.5 * 0.5 * 0.5\n",
    "μ / J * (J^(2 / 3) - 1) + λ / J * log(J)"
   ]
  },
  {
   "cell_type": "code",
   "execution_count": 29,
   "id": "32bc3809",
   "metadata": {},
   "outputs": [
    {
     "name": "stdout",
     "output_type": "stream",
     "text": [
      "-------------------------------------------------------\n",
      "Version       : 4.13.1\n",
      "License       : GNU General Public License\n",
      "Build OS      : Linux64-sdk\n",
      "Build date    : 19700101\n",
      "Build host    : amdci7.julia.csail.mit.edu\n",
      "Build options : 64Bit ALGLIB[contrib] ANN[contrib] Bamg Blossom Cairo DIntegration Dlopen DomHex Eigen[contrib] Fltk GMP Gmm[contrib] Hxt Jpeg Kbipack LinuxJoystick MathEx[contrib] Mesh Metis[contrib] Mmg Mpeg Netgen Nii2mesh ONELAB ONELABMetamodel OpenCASCADE OpenCASCADE-CAF OpenGL OpenMP OptHom Parser Plugins Png Post QuadMeshingTools QuadTri Solver TetGen/BR TinyXML2[contrib] Untangle Voro++[contrib] WinslowUntangler Zlib\n",
      "FLTK version  : 1.3.8\n",
      "OCC version   : 7.7.2\n",
      "Packaged by   : root\n",
      "Web site      : https://gmsh.info\n",
      "Issue tracker : https://gitlab.onelab.info/gmsh/gmsh/issues\n",
      "-------------------------------------------------------\n"
     ]
    },
    {
     "name": "stderr",
     "output_type": "stream",
     "text": [
      "XOpenIM() failed\n",
      "XRequest.18: BadValue 0x0\n"
     ]
    }
   ],
   "source": [
    "FEM.openPostProcessor()"
   ]
  },
  {
   "cell_type": "code",
   "execution_count": 30,
   "id": "7b517a53",
   "metadata": {},
   "outputs": [],
   "source": [
    "gmsh.finalize()"
   ]
  }
 ],
 "metadata": {
  "kernelspec": {
   "display_name": "Julia 1.11.5",
   "language": "julia",
   "name": "julia-1.11"
  },
  "language_info": {
   "file_extension": ".jl",
   "mimetype": "application/julia",
   "name": "julia",
   "version": "1.11.5"
  }
 },
 "nbformat": 4,
 "nbformat_minor": 5
}
