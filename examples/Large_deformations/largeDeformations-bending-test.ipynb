{
 "cells": [
  {
   "cell_type": "code",
   "execution_count": 117,
   "id": "79fd9685",
   "metadata": {},
   "outputs": [],
   "source": [
    "using LowLevelFEM\n",
    "import LowLevelFEM as FEM\n",
    "\n",
    "gmsh.initialize()"
   ]
  },
  {
   "cell_type": "code",
   "execution_count": 118,
   "id": "22283e0a",
   "metadata": {},
   "outputs": [],
   "source": [
    "using SparseArrays, LinearAlgebra"
   ]
  },
  {
   "cell_type": "code",
   "execution_count": 119,
   "id": "fa18250b",
   "metadata": {},
   "outputs": [
    {
     "name": "stdout",
     "output_type": "stream",
     "text": [
      "Info    : Reading 'body2.geo'...\n",
      "Info    : Meshing 1D...\n",
      "Info    : [  0%] Meshing curve 1 (Line)\n",
      "Info    : [ 10%] Meshing curve 2 (Line)\n",
      "Info    : [ 20%] Meshing curve 3 (Line)\n",
      "Info    : [ 30%] Meshing curve 4 (Line)\n",
      "Info    : [ 40%] Meshing curve 5 (Line)\n",
      "Info    : [ 50%] Meshing curve 6 (Line)\n",
      "Info    : [ 60%] Meshing curve 7 (Line)\n",
      "Info    : [ 60%] Meshing curve 8 (Line)\n",
      "Info    : [ 70%] Meshing curve 9 (Line)\n",
      "Info    : [ 80%] Meshing curve 10 (Line)\n",
      "Info    : [ 90%] Meshing curve 11 (Line)\n",
      "Info    : [100%] Meshing curve 12 (Line)\n",
      "Info    : Done meshing 1D (Wall 0.00211701s, CPU 0.001432s)\n",
      "Info    : Meshing 2D...\n",
      "Info    : [  0%] Meshing surface 1 (Transfinite)\n",
      "Info    : [ 20%] Meshing surface 2 (Transfinite)\n",
      "Info    : [ 40%] Meshing surface 3 (Transfinite)\n",
      "Info    : [ 60%] Meshing surface 4 (Transfinite)\n",
      "Info    : [ 70%] Meshing surface 5 (Transfinite)\n",
      "Info    : [ 90%] Meshing surface 6 (Transfinite)\n",
      "Info    : Done meshing 2D (Wall 0.0010474s, CPU 0.00054s)\n",
      "Info    : Meshing 3D...\n",
      "Info    : Meshing volume 1 (Transfinite)\n",
      "Info    : Done meshing 3D (Wall 0.00656078s, CPU 0.003242s)\n",
      "Info    : Optimizing mesh...\n",
      "Info    : Done optimizing mesh (Wall 7.7919e-05s, CPU 7.8e-05s)\n",
      "Info    : Meshing order 2 (curvilinear on)...\n",
      "Info    : [  0%] Meshing curve 1 order 2\n",
      "Info    : [ 10%] Meshing curve 2 order 2\n",
      "Info    : [ 20%] Meshing curve 3 order 2\n",
      "Info    : [ 20%] Meshing curve 4 order 2\n",
      "Info    : [ 30%] Meshing curve 5 order 2\n",
      "Info    : [ 30%] Meshing curve 6 order 2\n",
      "Info    : [ 40%] Meshing curve 7 order 2\n",
      "Info    : [ 40%] Meshing curve 8 order 2\n",
      "Info    : [ 50%] Meshing curve 9 order 2\n",
      "Info    : [ 50%] Meshing curve 10 order 2\n",
      "Info    : [ 60%] Meshing curve 11 order 2\n",
      "Info    : [ 60%] Meshing curve 12 order 2\n",
      "Info    : [ 70%] Meshing surface 1 order 2\n",
      "Info    : [ 70%] Meshing surface 2 order 2\n",
      "Info    : [ 80%] Meshing surface 3 order 2\n",
      "Info    : [ 80%] Meshing surface 4 order 2\n",
      "Info    : [ 90%] Meshing surface 5 order 2\n",
      "Info    : [ 90%] Meshing surface 6 order 2\n",
      "Info    : [100%] Meshing volume 1 order 2\n",
      "Info    : Done meshing order 2 (Wall 0.0219621s, CPU 0.016519s)\n",
      "Info    : 3321 nodes 792 elements\n",
      "Info    : Done reading 'body2.geo'\n"
     ]
    }
   ],
   "source": [
    "gmsh.open(\"body2.geo\")"
   ]
  },
  {
   "cell_type": "code",
   "execution_count": 120,
   "id": "936f1fab",
   "metadata": {},
   "outputs": [
    {
     "name": "stdout",
     "output_type": "stream",
     "text": [
      "Info    : RCMK renumbering...\n",
      "Info    : Done RCMK renumbering (bandwidth is now 386)\n",
      "Info    : RCMK renumbering...\n",
      "Info    : Done RCMK renumbering (bandwidth is now 386)\n",
      "Info    : RCMK renumbering...\n",
      "Info    : Done RCMK renumbering (bandwidth is now 386)\n"
     ]
    },
    {
     "data": {
      "text/plain": [
       "LowLevelFEM.Problem(\"body2\", :NeoHookeCompressible, 3, 3, LowLevelFEM.Material[LowLevelFEM.Material(\"body\", 260.0, 0.3, 7.85e-9, 45.0, 4.2e8, 1.2e-5, 150.0, 100.0, 216.66666666666666)], 1.0, 3321)"
      ]
     },
     "metadata": {},
     "output_type": "display_data"
    }
   ],
   "source": [
    "mat = FEM.material(\"body\", E=260, ν=0.3)\n",
    "hooke = FEM.Problem([mat], type=:Solid)\n",
    "stvenkir = FEM.Problem([mat], type=:StVenantKirchhoff)\n",
    "neohooke = FEM.Problem([mat], type=:NeoHookeCompressible)"
   ]
  },
  {
   "cell_type": "code",
   "execution_count": 121,
   "id": "c2a10dc9",
   "metadata": {},
   "outputs": [
    {
     "data": {
      "text/plain": [
       "LowLevelFEM.TensorField([[-1.5139443207433696; -0.018822139801356885; … ; 0.01081538190407078; -0.005950162160140604;;], [-1.4048575636206837; -0.02417304447173141; … ; 0.0030849916949585166; 0.0038119689375645804;;], [-1.346437355766322; -0.06017414601759974; … ; 0.00027753353056450715; 0.0004345817517508177;;], [-1.273911250959673; -0.06272010507122894; … ; 1.671488044377403e-5; 1.2025334903076335e-5;;], [-1.1994471532665334; -0.06287955724573746; … ; 5.390101143198933e-7; -2.4937059037166698e-6;;], [-1.1245541356926843; -0.06289080916858092; … ; -1.5631444058955962e-9; -4.2124017202160857e-7;;], [-1.049572940082402; -0.06289146527526102; … ; 8.298863846123434e-10; -3.6316665397162495e-8;;], [-0.9745760038342751; -0.06289138604118616; … ; 5.804811263350028e-10; -1.6176479045171277e-9;;], [-0.8995764862984736; -0.0628913457835445; … ; 1.1293188606487092e-10; 1.0507214542876397e-10;;], [-0.8245765613336312; -0.06289133602797037; … ; 1.4410694859634532e-11; 4.356726091003793e-11;;]  …  [1.4945138865985272; -0.008866983089106384; … ; -9.325873406851315e-13; -1.4944323556420613e-11;;], [1.3445138849132363; -0.00886698279254361; … ; 3.857791557053305e-12; -5.5448617919395815e-11;;], [1.1945138813378933; -0.008866981613886438; … ; 2.58946517185244e-11; -4.310795609363538e-10;;], [1.0445138612654317; -0.008866974844501385; … ; 2.3337835652310435e-10; -3.130320169741907e-9;;], [0.8945137391394931; -0.008866936013429694; … ; 2.9287558192078812e-9; -2.217555739036925e-8;;], [0.7445129670272802; -0.008866751927971706; … ; 3.6939651337775103e-8; -1.718568177350166e-7;;], [0.5945095309099925; -0.008866867241508203; … ; 3.9455927414167036e-7; -1.401971621545206e-6;;], [0.44452882248969616; -0.00888242154557517; … ; 3.241593393710218e-6; -9.125704371192034e-6;;], [0.29484667433504963; -0.009094727174385753; … ; 3.0129117867261357e-5; -1.052680601584463e-5;;], [0.14995194964837066; -0.0015614101187999552; … ; -1.8743631535755867e-6; 0.0005814858102681734;;]], Matrix{Float64}(undef, 0, 0), [473, 474, 475, 476, 477, 478, 479, 480, 481, 482  …  783, 784, 785, 786, 787, 788, 789, 790, 791, 792], 1, :s)"
      ]
     },
     "metadata": {},
     "output_type": "display_data"
    }
   ],
   "source": [
    "supp = FEM.displacementConstraint(\"left\", ux=0, uy=0, uz=0)\n",
    "suppL = FEM.displacementConstraint(\"left\", ux=0)\n",
    "suppB = FEM.displacementConstraint(\"bottom\", uy=0)\n",
    "suppF = FEM.displacementConstraint(\"front\", uz=0)\n",
    "traction = FEM.load(\"right\", fy=-0.05)\n",
    "#bodyforce = FEM.load(\"body\", fx=1)\n",
    "\n",
    "problem = hooke\n",
    "q = FEM.solveDisplacement(problem, [traction], [supp])\n",
    "S = FEM.solveStress(problem, q)"
   ]
  },
  {
   "cell_type": "code",
   "execution_count": 122,
   "id": "5ff50776",
   "metadata": {},
   "outputs": [
    {
     "name": "stdout",
     "output_type": "stream",
     "text": [
      "Info    : Running Plugin(Smooth)...\n",
      "Info    : Done running Plugin(Smooth)\n"
     ]
    },
    {
     "data": {
      "text/plain": [
       "1"
      ]
     },
     "metadata": {},
     "output_type": "display_data"
    }
   ],
   "source": [
    "u1 = FEM.showDoFResults(problem, q, :uvec)\n",
    "S1 = FEM.showElementResults(problem, S, :s)"
   ]
  },
  {
   "cell_type": "code",
   "execution_count": 123,
   "id": "970e4fc4",
   "metadata": {},
   "outputs": [
    {
     "data": {
      "text/plain": [
       "LowLevelFEM.Problem(\"body2\", :NeoHookeCompressible, 3, 3, LowLevelFEM.Material[LowLevelFEM.Material(\"body\", 260.0, 0.3, 7.85e-9, 45.0, 4.2e8, 1.2e-5, 150.0, 100.0, 216.66666666666666)], 1.0, 3321)"
      ]
     },
     "metadata": {},
     "output_type": "display_data"
    }
   ],
   "source": [
    "problem = stvenkir\n",
    "problem = neohooke"
   ]
  },
  {
   "cell_type": "code",
   "execution_count": 124,
   "id": "02d09772",
   "metadata": {},
   "outputs": [],
   "source": [
    "followerLoad = true\n",
    "loadSteps = 1\n",
    "firstStep = 0.1\n",
    "maxIteration = 20\n",
    "saveSteps = true\n",
    "saveIterations = false\n",
    "plotConvergence = true\n",
    "ε = 1e-5\n",
    "\n",
    "r0 = FEM.nodePositionVector(problem)\n",
    "err0 = abs(maximum(r0) - minimum(r0))\n",
    "f = FEM.loadVector(problem, [traction])\n",
    "r = []\n",
    "r1 = []\n",
    "push!(r, r0)\n",
    "e = []\n",
    "\n",
    "for j in range(1, loadSteps)\n",
    "    fact = j / loadSteps\n",
    "    err = 1\n",
    "    i = 0\n",
    "    while err > ε && i < maxIteration\n",
    "        i += 1\n",
    "\n",
    "        Kl = FEM.stiffnessMatrixLinear(problem, r0)\n",
    "        Knl = FEM.stiffnessMatrixNonLinear(problem, r0)\n",
    "        if followerLoad == true\n",
    "            f = FEM.followerLoadVector(problem, r0, [traction])\n",
    "        end\n",
    "        fnl = FEM.loadVectorNonLinear(problem, r0)\n",
    "        K1, f1 = FEM.applyBoundaryConditions(problem, Kl + Knl, fact * f - fnl, [supp])\n",
    "        q = FEM.solveDisplacement(K1, f1)\n",
    "        r0 += q\n",
    "        if saveIterations == true\n",
    "            push!(r, r0)\n",
    "        end\n",
    "        err = maximum(abs.(q)) / err0\n",
    "        if plotConvergence == true\n",
    "            append!(e, err)\n",
    "        end\n",
    "    end\n",
    "    if saveSteps == true\n",
    "        push!(r, r0)\n",
    "    end\n",
    "end\n",
    "if saveIterations == true || saveSteps == true\n",
    "    n = length(r)\n",
    "    r1 = zeros(length(r0), n)\n",
    "    for i in 1:n\n",
    "        r1[:, i] = r[i]\n",
    "    end\n",
    "else\n",
    "    r1 = zeros(length(r0), 1)\n",
    "    r1 = r0\n",
    "end"
   ]
  },
  {
   "cell_type": "code",
   "execution_count": 125,
   "id": "1866e2da",
   "metadata": {},
   "outputs": [
    {
     "data": {
      "image/png": "[encoded data removed]",
      "image/svg+xml": [
       "<?xml version=\"1.0\" encoding=\"utf-8\"?>\n",
       "<svg xmlns=\"http://www.w3.org/2000/svg\" xmlns:xlink=\"http://www.w3.org/1999/xlink\" width=\"600\" height=\"400\" viewBox=\"0 0 2400 1600\">\n",
       "<defs>\n",
       "  <clipPath id=\"clip580\">\n",
       "    <rect x=\"0\" y=\"0\" width=\"2400\" height=\"1600\"/>\n",
       "  </clipPath>\n",
       "</defs>\n",
       "<path clip-path=\"url(#clip580)\" d=\"M0 1600 L2400 1600 L2400 0 L0 0  Z\" fill=\"#ffffff\" fill-rule=\"evenodd\" fill-opacity=\"1\"/>\n",
       "<defs>\n",
       "  <clipPath id=\"clip581\">\n",
       "    <rect x=\"480\" y=\"0\" width=\"1681\" height=\"1600\"/>\n",
       "  </clipPath>\n",
       "</defs>\n",
       "<path clip-path=\"url(#clip580)\" d=\"M193.936 1486.45 L2352.76 1486.45 L2352.76 47.2441 L193.936 47.2441  Z\" fill=\"#ffffff\" fill-rule=\"evenodd\" fill-opacity=\"1\"/>\n",
       "<defs>\n",
       "  <clipPath id=\"clip582\">\n",
       "    <rect x=\"193\" y=\"47\" width=\"2160\" height=\"1440\"/>\n",
       "  </clipPath>\n",
       "</defs>\n",
       "<polyline clip-path=\"url(#clip582)\" style=\"stroke:#000000; stroke-linecap:round; stroke-linejoin:round; stroke-width:2; stroke-opacity:0.1; fill:none\" points=\"683.797,1486.45 683.797,47.2441 \"/>\n",
       "<polyline clip-path=\"url(#clip582)\" style=\"stroke:#000000; stroke-linecap:round; stroke-linejoin:round; stroke-width:2; stroke-opacity:0.1; fill:none\" points=\"1219.75,1486.45 1219.75,47.2441 \"/>\n",
       "<polyline clip-path=\"url(#clip582)\" style=\"stroke:#000000; stroke-linecap:round; stroke-linejoin:round; stroke-width:2; stroke-opacity:0.1; fill:none\" points=\"1755.7,1486.45 1755.7,47.2441 \"/>\n",
       "<polyline clip-path=\"url(#clip582)\" style=\"stroke:#000000; stroke-linecap:round; stroke-linejoin:round; stroke-width:2; stroke-opacity:0.1; fill:none\" points=\"2291.66,1486.45 2291.66,47.2441 \"/>\n",
       "<polyline clip-path=\"url(#clip582)\" style=\"stroke:#000000; stroke-linecap:round; stroke-linejoin:round; stroke-width:2; stroke-opacity:0.1; fill:none\" points=\"193.936,1258.49 2352.76,1258.49 \"/>\n",
       "<polyline clip-path=\"url(#clip582)\" style=\"stroke:#000000; stroke-linecap:round; stroke-linejoin:round; stroke-width:2; stroke-opacity:0.1; fill:none\" points=\"193.936,949.901 2352.76,949.901 \"/>\n",
       "<polyline clip-path=\"url(#clip582)\" style=\"stroke:#000000; stroke-linecap:round; stroke-linejoin:round; stroke-width:2; stroke-opacity:0.1; fill:none\" points=\"193.936,641.308 2352.76,641.308 \"/>\n",
       "<polyline clip-path=\"url(#clip582)\" style=\"stroke:#000000; stroke-linecap:round; stroke-linejoin:round; stroke-width:2; stroke-opacity:0.1; fill:none\" points=\"193.936,332.716 2352.76,332.716 \"/>\n",
       "<polyline clip-path=\"url(#clip580)\" style=\"stroke:#000000; stroke-linecap:round; stroke-linejoin:round; stroke-width:4; stroke-opacity:1; fill:none\" points=\"193.936,1486.45 2352.76,1486.45 \"/>\n",
       "<polyline clip-path=\"url(#clip580)\" style=\"stroke:#000000; stroke-linecap:round; stroke-linejoin:round; stroke-width:4; stroke-opacity:1; fill:none\" points=\"683.797,1486.45 683.797,1467.55 \"/>\n",
       "<polyline clip-path=\"url(#clip580)\" style=\"stroke:#000000; stroke-linecap:round; stroke-linejoin:round; stroke-width:4; stroke-opacity:1; fill:none\" points=\"1219.75,1486.45 1219.75,1467.55 \"/>\n",
       "<polyline clip-path=\"url(#clip580)\" style=\"stroke:#000000; stroke-linecap:round; stroke-linejoin:round; stroke-width:4; stroke-opacity:1; fill:none\" points=\"1755.7,1486.45 1755.7,1467.55 \"/>\n",
       "<polyline clip-path=\"url(#clip580)\" style=\"stroke:#000000; stroke-linecap:round; stroke-linejoin:round; stroke-width:4; stroke-opacity:1; fill:none\" points=\"2291.66,1486.45 2291.66,1467.55 \"/>\n",
       "<path clip-path=\"url(#clip580)\" d=\"M674.075 1514.29 L692.432 1514.29 L692.432 1518.22 L678.358 1518.22 L678.358 1526.7 Q679.376 1526.35 680.395 1526.19 Q681.413 1526 682.432 1526 Q688.219 1526 691.598 1529.17 Q694.978 1532.34 694.978 1537.76 Q694.978 1543.34 691.506 1546.44 Q688.033 1549.52 681.714 1549.52 Q679.538 1549.52 677.27 1549.15 Q675.024 1548.78 672.617 1548.04 L672.617 1543.34 Q674.7 1544.47 676.922 1545.03 Q679.145 1545.58 681.621 1545.58 Q685.626 1545.58 687.964 1543.48 Q690.302 1541.37 690.302 1537.76 Q690.302 1534.15 687.964 1532.04 Q685.626 1529.94 681.621 1529.94 Q679.746 1529.94 677.871 1530.35 Q676.02 1530.77 674.075 1531.65 L674.075 1514.29 Z\" fill=\"#000000\" fill-rule=\"nonzero\" fill-opacity=\"1\" /><path clip-path=\"url(#clip580)\" d=\"M1194.44 1544.91 L1202.08 1544.91 L1202.08 1518.55 L1193.77 1520.21 L1193.77 1515.95 L1202.03 1514.29 L1206.71 1514.29 L1206.71 1544.91 L1214.35 1544.91 L1214.35 1548.85 L1194.44 1548.85 L1194.44 1544.91 Z\" fill=\"#000000\" fill-rule=\"nonzero\" fill-opacity=\"1\" /><path clip-path=\"url(#clip580)\" d=\"M1233.79 1517.37 Q1230.18 1517.37 1228.35 1520.93 Q1226.54 1524.47 1226.54 1531.6 Q1226.54 1538.71 1228.35 1542.27 Q1230.18 1545.82 1233.79 1545.82 Q1237.42 1545.82 1239.23 1542.27 Q1241.06 1538.71 1241.06 1531.6 Q1241.06 1524.47 1239.23 1520.93 Q1237.42 1517.37 1233.79 1517.37 M1233.79 1513.66 Q1239.6 1513.66 1242.66 1518.27 Q1245.73 1522.85 1245.73 1531.6 Q1245.73 1540.33 1242.66 1544.94 Q1239.6 1549.52 1233.79 1549.52 Q1227.98 1549.52 1224.9 1544.94 Q1221.85 1540.33 1221.85 1531.6 Q1221.85 1522.85 1224.9 1518.27 Q1227.98 1513.66 1233.79 1513.66 Z\" fill=\"#000000\" fill-rule=\"nonzero\" fill-opacity=\"1\" /><path clip-path=\"url(#clip580)\" d=\"M1730.89 1544.91 L1738.53 1544.91 L1738.53 1518.55 L1730.22 1520.21 L1730.22 1515.95 L1738.48 1514.29 L1743.16 1514.29 L1743.16 1544.91 L1750.8 1544.91 L1750.8 1548.85 L1730.89 1548.85 L1730.89 1544.91 Z\" fill=\"#000000\" fill-rule=\"nonzero\" fill-opacity=\"1\" /><path clip-path=\"url(#clip580)\" d=\"M1760.29 1514.29 L1778.64 1514.29 L1778.64 1518.22 L1764.57 1518.22 L1764.57 1526.7 Q1765.59 1526.35 1766.61 1526.19 Q1767.63 1526 1768.64 1526 Q1774.43 1526 1777.81 1529.17 Q1781.19 1532.34 1781.19 1537.76 Q1781.19 1543.34 1777.72 1546.44 Q1774.25 1549.52 1767.93 1549.52 Q1765.75 1549.52 1763.48 1549.15 Q1761.24 1548.78 1758.83 1548.04 L1758.83 1543.34 Q1760.91 1544.47 1763.13 1545.03 Q1765.36 1545.58 1767.83 1545.58 Q1771.84 1545.58 1774.18 1543.48 Q1776.51 1541.37 1776.51 1537.76 Q1776.51 1534.15 1774.18 1532.04 Q1771.84 1529.94 1767.83 1529.94 Q1765.96 1529.94 1764.08 1530.35 Q1762.23 1530.77 1760.29 1531.65 L1760.29 1514.29 Z\" fill=\"#000000\" fill-rule=\"nonzero\" fill-opacity=\"1\" /><path clip-path=\"url(#clip580)\" d=\"M2270.43 1544.91 L2286.75 1544.91 L2286.75 1548.85 L2264.81 1548.85 L2264.81 1544.91 Q2267.47 1542.16 2272.05 1537.53 Q2276.66 1532.88 2277.84 1531.53 Q2280.08 1529.01 2280.96 1527.27 Q2281.87 1525.51 2281.87 1523.82 Q2281.87 1521.07 2279.92 1519.33 Q2278 1517.6 2274.9 1517.6 Q2272.7 1517.6 2270.25 1518.36 Q2267.81 1519.13 2265.04 1520.68 L2265.04 1515.95 Q2267.86 1514.82 2270.31 1514.24 Q2272.77 1513.66 2274.81 1513.66 Q2280.18 1513.66 2283.37 1516.35 Q2286.56 1519.03 2286.56 1523.52 Q2286.56 1525.65 2285.75 1527.57 Q2284.97 1529.47 2282.86 1532.07 Q2282.28 1532.74 2279.18 1535.95 Q2276.08 1539.15 2270.43 1544.91 Z\" fill=\"#000000\" fill-rule=\"nonzero\" fill-opacity=\"1\" /><path clip-path=\"url(#clip580)\" d=\"M2306.56 1517.37 Q2302.95 1517.37 2301.12 1520.93 Q2299.32 1524.47 2299.32 1531.6 Q2299.32 1538.71 2301.12 1542.27 Q2302.95 1545.82 2306.56 1545.82 Q2310.2 1545.82 2312 1542.27 Q2313.83 1538.71 2313.83 1531.6 Q2313.83 1524.47 2312 1520.93 Q2310.2 1517.37 2306.56 1517.37 M2306.56 1513.66 Q2312.37 1513.66 2315.43 1518.27 Q2318.51 1522.85 2318.51 1531.6 Q2318.51 1540.33 2315.43 1544.94 Q2312.37 1549.52 2306.56 1549.52 Q2300.75 1549.52 2297.68 1544.94 Q2294.62 1540.33 2294.62 1531.6 Q2294.62 1522.85 2297.68 1518.27 Q2300.75 1513.66 2306.56 1513.66 Z\" fill=\"#000000\" fill-rule=\"nonzero\" fill-opacity=\"1\" /><polyline clip-path=\"url(#clip580)\" style=\"stroke:#000000; stroke-linecap:round; stroke-linejoin:round; stroke-width:4; stroke-opacity:1; fill:none\" points=\"193.936,1486.45 193.936,47.2441 \"/>\n",
       "<polyline clip-path=\"url(#clip580)\" style=\"stroke:#000000; stroke-linecap:round; stroke-linejoin:round; stroke-width:4; stroke-opacity:1; fill:none\" points=\"193.936,1258.49 212.834,1258.49 \"/>\n",
       "<polyline clip-path=\"url(#clip580)\" style=\"stroke:#000000; stroke-linecap:round; stroke-linejoin:round; stroke-width:4; stroke-opacity:1; fill:none\" points=\"193.936,949.901 212.834,949.901 \"/>\n",
       "<polyline clip-path=\"url(#clip580)\" style=\"stroke:#000000; stroke-linecap:round; stroke-linejoin:round; stroke-width:4; stroke-opacity:1; fill:none\" points=\"193.936,641.308 212.834,641.308 \"/>\n",
       "<polyline clip-path=\"url(#clip580)\" style=\"stroke:#000000; stroke-linecap:round; stroke-linejoin:round; stroke-width:4; stroke-opacity:1; fill:none\" points=\"193.936,332.716 212.834,332.716 \"/>\n",
       "<path clip-path=\"url(#clip580)\" d=\"M50.9921 1258.94 L80.6679 1258.94 L80.6679 1262.88 L50.9921 1262.88 L50.9921 1258.94 Z\" fill=\"#000000\" fill-rule=\"nonzero\" fill-opacity=\"1\" /><path clip-path=\"url(#clip580)\" d=\"M104.927 1257.14 Q108.283 1257.86 110.158 1260.12 Q112.057 1262.39 112.057 1265.73 Q112.057 1270.84 108.538 1273.64 Q105.02 1276.44 98.5382 1276.44 Q96.3623 1276.44 94.0475 1276 Q91.7558 1275.59 89.3021 1274.73 L89.3021 1270.22 Q91.2465 1271.35 93.5613 1271.93 Q95.8761 1272.51 98.3993 1272.51 Q102.797 1272.51 105.089 1270.77 Q107.404 1269.04 107.404 1265.73 Q107.404 1262.67 105.251 1260.96 Q103.121 1259.22 99.3021 1259.22 L95.2743 1259.22 L95.2743 1255.38 L99.4872 1255.38 Q102.936 1255.38 104.765 1254.01 Q106.594 1252.62 106.594 1250.03 Q106.594 1247.37 104.696 1245.96 Q102.821 1244.52 99.3021 1244.52 Q97.3808 1244.52 95.1817 1244.94 Q92.9826 1245.36 90.3438 1246.24 L90.3438 1242.07 Q93.0058 1241.33 95.3206 1240.96 Q97.6585 1240.59 99.7187 1240.59 Q105.043 1240.59 108.145 1243.02 Q111.246 1245.43 111.246 1249.55 Q111.246 1252.42 109.603 1254.41 Q107.959 1256.37 104.927 1257.14 Z\" fill=\"#000000\" fill-rule=\"nonzero\" fill-opacity=\"1\" /><path clip-path=\"url(#clip580)\" d=\"M120.922 1269.89 L125.807 1269.89 L125.807 1275.77 L120.922 1275.77 L120.922 1269.89 Z\" fill=\"#000000\" fill-rule=\"nonzero\" fill-opacity=\"1\" /><path clip-path=\"url(#clip580)\" d=\"M145.992 1244.29 Q142.381 1244.29 140.552 1247.86 Q138.746 1251.4 138.746 1258.53 Q138.746 1265.63 140.552 1269.2 Q142.381 1272.74 145.992 1272.74 Q149.626 1272.74 151.431 1269.2 Q153.26 1265.63 153.26 1258.53 Q153.26 1251.4 151.431 1247.86 Q149.626 1244.29 145.992 1244.29 M145.992 1240.59 Q151.802 1240.59 154.857 1245.19 Q157.936 1249.78 157.936 1258.53 Q157.936 1267.25 154.857 1271.86 Q151.802 1276.44 145.992 1276.44 Q140.181 1276.44 137.103 1271.86 Q134.047 1267.25 134.047 1258.53 Q134.047 1249.78 137.103 1245.19 Q140.181 1240.59 145.992 1240.59 Z\" fill=\"#000000\" fill-rule=\"nonzero\" fill-opacity=\"1\" /><path clip-path=\"url(#clip580)\" d=\"M51.9875 950.352 L81.6633 950.352 L81.6633 954.287 L51.9875 954.287 L51.9875 950.352 Z\" fill=\"#000000\" fill-rule=\"nonzero\" fill-opacity=\"1\" /><path clip-path=\"url(#clip580)\" d=\"M95.7836 963.245 L112.103 963.245 L112.103 967.181 L90.1586 967.181 L90.1586 963.245 Q92.8206 960.491 97.4039 955.861 Q102.01 951.208 103.191 949.866 Q105.436 947.343 106.316 945.607 Q107.219 943.847 107.219 942.158 Q107.219 939.403 105.274 937.667 Q103.353 935.931 100.251 935.931 Q98.0521 935.931 95.5984 936.695 Q93.1678 937.459 90.3901 939.009 L90.3901 934.287 Q93.2141 933.153 95.6678 932.574 Q98.1215 931.996 100.159 931.996 Q105.529 931.996 108.723 934.681 Q111.918 937.366 111.918 941.857 Q111.918 943.986 111.108 945.908 Q110.321 947.806 108.214 950.398 Q107.635 951.07 104.534 954.287 Q101.432 957.482 95.7836 963.245 Z\" fill=\"#000000\" fill-rule=\"nonzero\" fill-opacity=\"1\" /><path clip-path=\"url(#clip580)\" d=\"M121.918 961.301 L126.802 961.301 L126.802 967.181 L121.918 967.181 L121.918 961.301 Z\" fill=\"#000000\" fill-rule=\"nonzero\" fill-opacity=\"1\" /><path clip-path=\"url(#clip580)\" d=\"M137.033 932.621 L155.39 932.621 L155.39 936.556 L141.316 936.556 L141.316 945.028 Q142.334 944.681 143.353 944.519 Q144.371 944.334 145.39 944.334 Q151.177 944.334 154.556 947.505 Q157.936 950.676 157.936 956.093 Q157.936 961.671 154.464 964.773 Q150.992 967.852 144.672 967.852 Q142.496 967.852 140.228 967.482 Q137.982 967.111 135.575 966.37 L135.575 961.671 Q137.658 962.806 139.881 963.361 Q142.103 963.917 144.58 963.917 Q148.584 963.917 150.922 961.81 Q153.26 959.704 153.26 956.093 Q153.26 952.482 150.922 950.375 Q148.584 948.269 144.58 948.269 Q142.705 948.269 140.83 948.685 Q138.978 949.102 137.033 949.982 L137.033 932.621 Z\" fill=\"#000000\" fill-rule=\"nonzero\" fill-opacity=\"1\" /><path clip-path=\"url(#clip580)\" d=\"M50.9921 641.76 L80.6679 641.76 L80.6679 645.695 L50.9921 645.695 L50.9921 641.76 Z\" fill=\"#000000\" fill-rule=\"nonzero\" fill-opacity=\"1\" /><path clip-path=\"url(#clip580)\" d=\"M94.7882 654.653 L111.108 654.653 L111.108 658.588 L89.1632 658.588 L89.1632 654.653 Q91.8252 651.899 96.4085 647.269 Q101.015 642.616 102.196 641.274 Q104.441 638.751 105.321 637.014 Q106.223 635.255 106.223 633.565 Q106.223 630.811 104.279 629.075 Q102.358 627.339 99.2558 627.339 Q97.0567 627.339 94.603 628.103 Q92.1725 628.866 89.3947 630.417 L89.3947 625.695 Q92.2188 624.561 94.6724 623.982 Q97.1261 623.403 99.1632 623.403 Q104.534 623.403 107.728 626.089 Q110.922 628.774 110.922 633.265 Q110.922 635.394 110.112 637.315 Q109.325 639.214 107.219 641.806 Q106.64 642.477 103.538 645.695 Q100.436 648.889 94.7882 654.653 Z\" fill=\"#000000\" fill-rule=\"nonzero\" fill-opacity=\"1\" /><path clip-path=\"url(#clip580)\" d=\"M120.922 652.709 L125.807 652.709 L125.807 658.588 L120.922 658.588 L120.922 652.709 Z\" fill=\"#000000\" fill-rule=\"nonzero\" fill-opacity=\"1\" /><path clip-path=\"url(#clip580)\" d=\"M145.992 627.107 Q142.381 627.107 140.552 630.672 Q138.746 634.214 138.746 641.343 Q138.746 648.45 140.552 652.014 Q142.381 655.556 145.992 655.556 Q149.626 655.556 151.431 652.014 Q153.26 648.45 153.26 641.343 Q153.26 634.214 151.431 630.672 Q149.626 627.107 145.992 627.107 M145.992 623.403 Q151.802 623.403 154.857 628.01 Q157.936 632.593 157.936 641.343 Q157.936 650.07 154.857 654.676 Q151.802 659.26 145.992 659.26 Q140.181 659.26 137.103 654.676 Q134.047 650.07 134.047 641.343 Q134.047 632.593 137.103 628.01 Q140.181 623.403 145.992 623.403 Z\" fill=\"#000000\" fill-rule=\"nonzero\" fill-opacity=\"1\" /><path clip-path=\"url(#clip580)\" d=\"M51.9875 333.168 L81.6633 333.168 L81.6633 337.103 L51.9875 337.103 L51.9875 333.168 Z\" fill=\"#000000\" fill-rule=\"nonzero\" fill-opacity=\"1\" /><path clip-path=\"url(#clip580)\" d=\"M92.566 346.061 L100.205 346.061 L100.205 319.696 L91.8947 321.362 L91.8947 317.103 L100.159 315.436 L104.834 315.436 L104.834 346.061 L112.473 346.061 L112.473 349.996 L92.566 349.996 L92.566 346.061 Z\" fill=\"#000000\" fill-rule=\"nonzero\" fill-opacity=\"1\" /><path clip-path=\"url(#clip580)\" d=\"M121.918 344.117 L126.802 344.117 L126.802 349.996 L121.918 349.996 L121.918 344.117 Z\" fill=\"#000000\" fill-rule=\"nonzero\" fill-opacity=\"1\" /><path clip-path=\"url(#clip580)\" d=\"M137.033 315.436 L155.39 315.436 L155.39 319.371 L141.316 319.371 L141.316 327.844 Q142.334 327.496 143.353 327.334 Q144.371 327.149 145.39 327.149 Q151.177 327.149 154.556 330.32 Q157.936 333.492 157.936 338.908 Q157.936 344.487 154.464 347.589 Q150.992 350.668 144.672 350.668 Q142.496 350.668 140.228 350.297 Q137.982 349.927 135.575 349.186 L135.575 344.487 Q137.658 345.621 139.881 346.177 Q142.103 346.732 144.58 346.732 Q148.584 346.732 150.922 344.626 Q153.26 342.519 153.26 338.908 Q153.26 335.297 150.922 333.191 Q148.584 331.084 144.58 331.084 Q142.705 331.084 140.83 331.501 Q138.978 331.918 137.033 332.797 L137.033 315.436 Z\" fill=\"#000000\" fill-rule=\"nonzero\" fill-opacity=\"1\" /><polyline clip-path=\"url(#clip582)\" style=\"stroke:#009af9; stroke-linecap:round; stroke-linejoin:round; stroke-width:4; stroke-opacity:1; fill:none\" points=\"255.035,87.9763 362.225,919.635 469.416,1445.72 576.607,1060.85 683.797,1046.04 790.988,1046.05 898.179,1046.35 1005.37,1046.55 1112.56,1046.73 1219.75,1046.87 1326.94,1047.01 1434.13,1047.1 1541.32,1047.18 1648.51,1047.22 1755.7,1047.25 1862.89,1047.22 1970.09,1047.19 2077.28,1047.08 2184.47,1046.96 2291.66,1046.74 \"/>\n",
       "<path clip-path=\"url(#clip580)\" d=\"M2012.48 198.898 L2280.8 198.898 L2280.8 95.2176 L2012.48 95.2176  Z\" fill=\"#ffffff\" fill-rule=\"evenodd\" fill-opacity=\"1\"/>\n",
       "<polyline clip-path=\"url(#clip580)\" style=\"stroke:#000000; stroke-linecap:round; stroke-linejoin:round; stroke-width:4; stroke-opacity:1; fill:none\" points=\"2012.48,198.898 2280.8,198.898 2280.8,95.2176 2012.48,95.2176 2012.48,198.898 \"/>\n",
       "<polyline clip-path=\"url(#clip580)\" style=\"stroke:#009af9; stroke-linecap:round; stroke-linejoin:round; stroke-width:4; stroke-opacity:1; fill:none\" points=\"2036.47,147.058 2180.39,147.058 \"/>\n",
       "<path clip-path=\"url(#clip580)\" d=\"M2218.22 166.745 Q2216.42 171.375 2214.7 172.787 Q2212.99 174.199 2210.12 174.199 L2206.72 174.199 L2206.72 170.634 L2209.22 170.634 Q2210.98 170.634 2211.95 169.8 Q2212.92 168.967 2214.1 165.865 L2214.86 163.921 L2204.38 138.412 L2208.89 138.412 L2216.99 158.689 L2225.1 138.412 L2229.61 138.412 L2218.22 166.745 Z\" fill=\"#000000\" fill-rule=\"nonzero\" fill-opacity=\"1\" /><path clip-path=\"url(#clip580)\" d=\"M2236.9 160.402 L2244.54 160.402 L2244.54 134.037 L2236.23 135.703 L2236.23 131.444 L2244.49 129.778 L2249.17 129.778 L2249.17 160.402 L2256.81 160.402 L2256.81 164.338 L2236.9 164.338 L2236.9 160.402 Z\" fill=\"#000000\" fill-rule=\"nonzero\" fill-opacity=\"1\" /></svg>\n"
      ],
      "text/html": [
       "<?xml version=\"1.0\" encoding=\"utf-8\"?>\n",
       "<svg xmlns=\"http://www.w3.org/2000/svg\" xmlns:xlink=\"http://www.w3.org/1999/xlink\" width=\"600\" height=\"400\" viewBox=\"0 0 2400 1600\">\n",
       "<defs>\n",
       "  <clipPath id=\"clip630\">\n",
       "    <rect x=\"0\" y=\"0\" width=\"2400\" height=\"1600\"/>\n",
       "  </clipPath>\n",
       "</defs>\n",
       "<path clip-path=\"url(#clip630)\" d=\"M0 1600 L2400 1600 L2400 0 L0 0  Z\" fill=\"#ffffff\" fill-rule=\"evenodd\" fill-opacity=\"1\"/>\n",
       "<defs>\n",
       "  <clipPath id=\"clip631\">\n",
       "    <rect x=\"480\" y=\"0\" width=\"1681\" height=\"1600\"/>\n",
       "  </clipPath>\n",
       "</defs>\n",
       "<path clip-path=\"url(#clip630)\" d=\"M193.936 1486.45 L2352.76 1486.45 L2352.76 47.2441 L193.936 47.2441  Z\" fill=\"#ffffff\" fill-rule=\"evenodd\" fill-opacity=\"1\"/>\n",
       "<defs>\n",
       "  <clipPath id=\"clip632\">\n",
       "    <rect x=\"193\" y=\"47\" width=\"2160\" height=\"1440\"/>\n",
       "  </clipPath>\n",
       "</defs>\n",
       "<polyline clip-path=\"url(#clip632)\" style=\"stroke:#000000; stroke-linecap:round; stroke-linejoin:round; stroke-width:2; stroke-opacity:0.1; fill:none\" points=\"683.797,1486.45 683.797,47.2441 \"/>\n",
       "<polyline clip-path=\"url(#clip632)\" style=\"stroke:#000000; stroke-linecap:round; stroke-linejoin:round; stroke-width:2; stroke-opacity:0.1; fill:none\" points=\"1219.75,1486.45 1219.75,47.2441 \"/>\n",
       "<polyline clip-path=\"url(#clip632)\" style=\"stroke:#000000; stroke-linecap:round; stroke-linejoin:round; stroke-width:2; stroke-opacity:0.1; fill:none\" points=\"1755.7,1486.45 1755.7,47.2441 \"/>\n",
       "<polyline clip-path=\"url(#clip632)\" style=\"stroke:#000000; stroke-linecap:round; stroke-linejoin:round; stroke-width:2; stroke-opacity:0.1; fill:none\" points=\"2291.66,1486.45 2291.66,47.2441 \"/>\n",
       "<polyline clip-path=\"url(#clip632)\" style=\"stroke:#000000; stroke-linecap:round; stroke-linejoin:round; stroke-width:2; stroke-opacity:0.1; fill:none\" points=\"193.936,1258.49 2352.76,1258.49 \"/>\n",
       "<polyline clip-path=\"url(#clip632)\" style=\"stroke:#000000; stroke-linecap:round; stroke-linejoin:round; stroke-width:2; stroke-opacity:0.1; fill:none\" points=\"193.936,949.901 2352.76,949.901 \"/>\n",
       "<polyline clip-path=\"url(#clip632)\" style=\"stroke:#000000; stroke-linecap:round; stroke-linejoin:round; stroke-width:2; stroke-opacity:0.1; fill:none\" points=\"193.936,641.308 2352.76,641.308 \"/>\n",
       "<polyline clip-path=\"url(#clip632)\" style=\"stroke:#000000; stroke-linecap:round; stroke-linejoin:round; stroke-width:2; stroke-opacity:0.1; fill:none\" points=\"193.936,332.716 2352.76,332.716 \"/>\n",
       "<polyline clip-path=\"url(#clip630)\" style=\"stroke:#000000; stroke-linecap:round; stroke-linejoin:round; stroke-width:4; stroke-opacity:1; fill:none\" points=\"193.936,1486.45 2352.76,1486.45 \"/>\n",
       "<polyline clip-path=\"url(#clip630)\" style=\"stroke:#000000; stroke-linecap:round; stroke-linejoin:round; stroke-width:4; stroke-opacity:1; fill:none\" points=\"683.797,1486.45 683.797,1467.55 \"/>\n",
       "<polyline clip-path=\"url(#clip630)\" style=\"stroke:#000000; stroke-linecap:round; stroke-linejoin:round; stroke-width:4; stroke-opacity:1; fill:none\" points=\"1219.75,1486.45 1219.75,1467.55 \"/>\n",
       "<polyline clip-path=\"url(#clip630)\" style=\"stroke:#000000; stroke-linecap:round; stroke-linejoin:round; stroke-width:4; stroke-opacity:1; fill:none\" points=\"1755.7,1486.45 1755.7,1467.55 \"/>\n",
       "<polyline clip-path=\"url(#clip630)\" style=\"stroke:#000000; stroke-linecap:round; stroke-linejoin:round; stroke-width:4; stroke-opacity:1; fill:none\" points=\"2291.66,1486.45 2291.66,1467.55 \"/>\n",
       "<path clip-path=\"url(#clip630)\" d=\"M674.075 1514.29 L692.432 1514.29 L692.432 1518.22 L678.358 1518.22 L678.358 1526.7 Q679.376 1526.35 680.395 1526.19 Q681.413 1526 682.432 1526 Q688.219 1526 691.598 1529.17 Q694.978 1532.34 694.978 1537.76 Q694.978 1543.34 691.506 1546.44 Q688.033 1549.52 681.714 1549.52 Q679.538 1549.52 677.27 1549.15 Q675.024 1548.78 672.617 1548.04 L672.617 1543.34 Q674.7 1544.47 676.922 1545.03 Q679.145 1545.58 681.621 1545.58 Q685.626 1545.58 687.964 1543.48 Q690.302 1541.37 690.302 1537.76 Q690.302 1534.15 687.964 1532.04 Q685.626 1529.94 681.621 1529.94 Q679.746 1529.94 677.871 1530.35 Q676.02 1530.77 674.075 1531.65 L674.075 1514.29 Z\" fill=\"#000000\" fill-rule=\"nonzero\" fill-opacity=\"1\" /><path clip-path=\"url(#clip630)\" d=\"M1194.44 1544.91 L1202.08 1544.91 L1202.08 1518.55 L1193.77 1520.21 L1193.77 1515.95 L1202.03 1514.29 L1206.71 1514.29 L1206.71 1544.91 L1214.35 1544.91 L1214.35 1548.85 L1194.44 1548.85 L1194.44 1544.91 Z\" fill=\"#000000\" fill-rule=\"nonzero\" fill-opacity=\"1\" /><path clip-path=\"url(#clip630)\" d=\"M1233.79 1517.37 Q1230.18 1517.37 1228.35 1520.93 Q1226.54 1524.47 1226.54 1531.6 Q1226.54 1538.71 1228.35 1542.27 Q1230.18 1545.82 1233.79 1545.82 Q1237.42 1545.82 1239.23 1542.27 Q1241.06 1538.71 1241.06 1531.6 Q1241.06 1524.47 1239.23 1520.93 Q1237.42 1517.37 1233.79 1517.37 M1233.79 1513.66 Q1239.6 1513.66 1242.66 1518.27 Q1245.73 1522.85 1245.73 1531.6 Q1245.73 1540.33 1242.66 1544.94 Q1239.6 1549.52 1233.79 1549.52 Q1227.98 1549.52 1224.9 1544.94 Q1221.85 1540.33 1221.85 1531.6 Q1221.85 1522.85 1224.9 1518.27 Q1227.98 1513.66 1233.79 1513.66 Z\" fill=\"#000000\" fill-rule=\"nonzero\" fill-opacity=\"1\" /><path clip-path=\"url(#clip630)\" d=\"M1730.89 1544.91 L1738.53 1544.91 L1738.53 1518.55 L1730.22 1520.21 L1730.22 1515.95 L1738.48 1514.29 L1743.16 1514.29 L1743.16 1544.91 L1750.8 1544.91 L1750.8 1548.85 L1730.89 1548.85 L1730.89 1544.91 Z\" fill=\"#000000\" fill-rule=\"nonzero\" fill-opacity=\"1\" /><path clip-path=\"url(#clip630)\" d=\"M1760.29 1514.29 L1778.64 1514.29 L1778.64 1518.22 L1764.57 1518.22 L1764.57 1526.7 Q1765.59 1526.35 1766.61 1526.19 Q1767.63 1526 1768.64 1526 Q1774.43 1526 1777.81 1529.17 Q1781.19 1532.34 1781.19 1537.76 Q1781.19 1543.34 1777.72 1546.44 Q1774.25 1549.52 1767.93 1549.52 Q1765.75 1549.52 1763.48 1549.15 Q1761.24 1548.78 1758.83 1548.04 L1758.83 1543.34 Q1760.91 1544.47 1763.13 1545.03 Q1765.36 1545.58 1767.83 1545.58 Q1771.84 1545.58 1774.18 1543.48 Q1776.51 1541.37 1776.51 1537.76 Q1776.51 1534.15 1774.18 1532.04 Q1771.84 1529.94 1767.83 1529.94 Q1765.96 1529.94 1764.08 1530.35 Q1762.23 1530.77 1760.29 1531.65 L1760.29 1514.29 Z\" fill=\"#000000\" fill-rule=\"nonzero\" fill-opacity=\"1\" /><path clip-path=\"url(#clip630)\" d=\"M2270.43 1544.91 L2286.75 1544.91 L2286.75 1548.85 L2264.81 1548.85 L2264.81 1544.91 Q2267.47 1542.16 2272.05 1537.53 Q2276.66 1532.88 2277.84 1531.53 Q2280.08 1529.01 2280.96 1527.27 Q2281.87 1525.51 2281.87 1523.82 Q2281.87 1521.07 2279.92 1519.33 Q2278 1517.6 2274.9 1517.6 Q2272.7 1517.6 2270.25 1518.36 Q2267.81 1519.13 2265.04 1520.68 L2265.04 1515.95 Q2267.86 1514.82 2270.31 1514.24 Q2272.77 1513.66 2274.81 1513.66 Q2280.18 1513.66 2283.37 1516.35 Q2286.56 1519.03 2286.56 1523.52 Q2286.56 1525.65 2285.75 1527.57 Q2284.97 1529.47 2282.86 1532.07 Q2282.28 1532.74 2279.18 1535.95 Q2276.08 1539.15 2270.43 1544.91 Z\" fill=\"#000000\" fill-rule=\"nonzero\" fill-opacity=\"1\" /><path clip-path=\"url(#clip630)\" d=\"M2306.56 1517.37 Q2302.95 1517.37 2301.12 1520.93 Q2299.32 1524.47 2299.32 1531.6 Q2299.32 1538.71 2301.12 1542.27 Q2302.95 1545.82 2306.56 1545.82 Q2310.2 1545.82 2312 1542.27 Q2313.83 1538.71 2313.83 1531.6 Q2313.83 1524.47 2312 1520.93 Q2310.2 1517.37 2306.56 1517.37 M2306.56 1513.66 Q2312.37 1513.66 2315.43 1518.27 Q2318.51 1522.85 2318.51 1531.6 Q2318.51 1540.33 2315.43 1544.94 Q2312.37 1549.52 2306.56 1549.52 Q2300.75 1549.52 2297.68 1544.94 Q2294.62 1540.33 2294.62 1531.6 Q2294.62 1522.85 2297.68 1518.27 Q2300.75 1513.66 2306.56 1513.66 Z\" fill=\"#000000\" fill-rule=\"nonzero\" fill-opacity=\"1\" /><polyline clip-path=\"url(#clip630)\" style=\"stroke:#000000; stroke-linecap:round; stroke-linejoin:round; stroke-width:4; stroke-opacity:1; fill:none\" points=\"193.936,1486.45 193.936,47.2441 \"/>\n",
       "<polyline clip-path=\"url(#clip630)\" style=\"stroke:#000000; stroke-linecap:round; stroke-linejoin:round; stroke-width:4; stroke-opacity:1; fill:none\" points=\"193.936,1258.49 212.834,1258.49 \"/>\n",
       "<polyline clip-path=\"url(#clip630)\" style=\"stroke:#000000; stroke-linecap:round; stroke-linejoin:round; stroke-width:4; stroke-opacity:1; fill:none\" points=\"193.936,949.901 212.834,949.901 \"/>\n",
       "<polyline clip-path=\"url(#clip630)\" style=\"stroke:#000000; stroke-linecap:round; stroke-linejoin:round; stroke-width:4; stroke-opacity:1; fill:none\" points=\"193.936,641.308 212.834,641.308 \"/>\n",
       "<polyline clip-path=\"url(#clip630)\" style=\"stroke:#000000; stroke-linecap:round; stroke-linejoin:round; stroke-width:4; stroke-opacity:1; fill:none\" points=\"193.936,332.716 212.834,332.716 \"/>\n",
       "<path clip-path=\"url(#clip630)\" d=\"M50.9921 1258.94 L80.6679 1258.94 L80.6679 1262.88 L50.9921 1262.88 L50.9921 1258.94 Z\" fill=\"#000000\" fill-rule=\"nonzero\" fill-opacity=\"1\" /><path clip-path=\"url(#clip630)\" d=\"M104.927 1257.14 Q108.283 1257.86 110.158 1260.12 Q112.057 1262.39 112.057 1265.73 Q112.057 1270.84 108.538 1273.64 Q105.02 1276.44 98.5382 1276.44 Q96.3623 1276.44 94.0475 1276 Q91.7558 1275.59 89.3021 1274.73 L89.3021 1270.22 Q91.2465 1271.35 93.5613 1271.93 Q95.8761 1272.51 98.3993 1272.51 Q102.797 1272.51 105.089 1270.77 Q107.404 1269.04 107.404 1265.73 Q107.404 1262.67 105.251 1260.96 Q103.121 1259.22 99.3021 1259.22 L95.2743 1259.22 L95.2743 1255.38 L99.4872 1255.38 Q102.936 1255.38 104.765 1254.01 Q106.594 1252.62 106.594 1250.03 Q106.594 1247.37 104.696 1245.96 Q102.821 1244.52 99.3021 1244.52 Q97.3808 1244.52 95.1817 1244.94 Q92.9826 1245.36 90.3438 1246.24 L90.3438 1242.07 Q93.0058 1241.33 95.3206 1240.96 Q97.6585 1240.59 99.7187 1240.59 Q105.043 1240.59 108.145 1243.02 Q111.246 1245.43 111.246 1249.55 Q111.246 1252.42 109.603 1254.41 Q107.959 1256.37 104.927 1257.14 Z\" fill=\"#000000\" fill-rule=\"nonzero\" fill-opacity=\"1\" /><path clip-path=\"url(#clip630)\" d=\"M120.922 1269.89 L125.807 1269.89 L125.807 1275.77 L120.922 1275.77 L120.922 1269.89 Z\" fill=\"#000000\" fill-rule=\"nonzero\" fill-opacity=\"1\" /><path clip-path=\"url(#clip630)\" d=\"M145.992 1244.29 Q142.381 1244.29 140.552 1247.86 Q138.746 1251.4 138.746 1258.53 Q138.746 1265.63 140.552 1269.2 Q142.381 1272.74 145.992 1272.74 Q149.626 1272.74 151.431 1269.2 Q153.26 1265.63 153.26 1258.53 Q153.26 1251.4 151.431 1247.86 Q149.626 1244.29 145.992 1244.29 M145.992 1240.59 Q151.802 1240.59 154.857 1245.19 Q157.936 1249.78 157.936 1258.53 Q157.936 1267.25 154.857 1271.86 Q151.802 1276.44 145.992 1276.44 Q140.181 1276.44 137.103 1271.86 Q134.047 1267.25 134.047 1258.53 Q134.047 1249.78 137.103 1245.19 Q140.181 1240.59 145.992 1240.59 Z\" fill=\"#000000\" fill-rule=\"nonzero\" fill-opacity=\"1\" /><path clip-path=\"url(#clip630)\" d=\"M51.9875 950.352 L81.6633 950.352 L81.6633 954.287 L51.9875 954.287 L51.9875 950.352 Z\" fill=\"#000000\" fill-rule=\"nonzero\" fill-opacity=\"1\" /><path clip-path=\"url(#clip630)\" d=\"M95.7836 963.245 L112.103 963.245 L112.103 967.181 L90.1586 967.181 L90.1586 963.245 Q92.8206 960.491 97.4039 955.861 Q102.01 951.208 103.191 949.866 Q105.436 947.343 106.316 945.607 Q107.219 943.847 107.219 942.158 Q107.219 939.403 105.274 937.667 Q103.353 935.931 100.251 935.931 Q98.0521 935.931 95.5984 936.695 Q93.1678 937.459 90.3901 939.009 L90.3901 934.287 Q93.2141 933.153 95.6678 932.574 Q98.1215 931.996 100.159 931.996 Q105.529 931.996 108.723 934.681 Q111.918 937.366 111.918 941.857 Q111.918 943.986 111.108 945.908 Q110.321 947.806 108.214 950.398 Q107.635 951.07 104.534 954.287 Q101.432 957.482 95.7836 963.245 Z\" fill=\"#000000\" fill-rule=\"nonzero\" fill-opacity=\"1\" /><path clip-path=\"url(#clip630)\" d=\"M121.918 961.301 L126.802 961.301 L126.802 967.181 L121.918 967.181 L121.918 961.301 Z\" fill=\"#000000\" fill-rule=\"nonzero\" fill-opacity=\"1\" /><path clip-path=\"url(#clip630)\" d=\"M137.033 932.621 L155.39 932.621 L155.39 936.556 L141.316 936.556 L141.316 945.028 Q142.334 944.681 143.353 944.519 Q144.371 944.334 145.39 944.334 Q151.177 944.334 154.556 947.505 Q157.936 950.676 157.936 956.093 Q157.936 961.671 154.464 964.773 Q150.992 967.852 144.672 967.852 Q142.496 967.852 140.228 967.482 Q137.982 967.111 135.575 966.37 L135.575 961.671 Q137.658 962.806 139.881 963.361 Q142.103 963.917 144.58 963.917 Q148.584 963.917 150.922 961.81 Q153.26 959.704 153.26 956.093 Q153.26 952.482 150.922 950.375 Q148.584 948.269 144.58 948.269 Q142.705 948.269 140.83 948.685 Q138.978 949.102 137.033 949.982 L137.033 932.621 Z\" fill=\"#000000\" fill-rule=\"nonzero\" fill-opacity=\"1\" /><path clip-path=\"url(#clip630)\" d=\"M50.9921 641.76 L80.6679 641.76 L80.6679 645.695 L50.9921 645.695 L50.9921 641.76 Z\" fill=\"#000000\" fill-rule=\"nonzero\" fill-opacity=\"1\" /><path clip-path=\"url(#clip630)\" d=\"M94.7882 654.653 L111.108 654.653 L111.108 658.588 L89.1632 658.588 L89.1632 654.653 Q91.8252 651.899 96.4085 647.269 Q101.015 642.616 102.196 641.274 Q104.441 638.751 105.321 637.014 Q106.223 635.255 106.223 633.565 Q106.223 630.811 104.279 629.075 Q102.358 627.339 99.2558 627.339 Q97.0567 627.339 94.603 628.103 Q92.1725 628.866 89.3947 630.417 L89.3947 625.695 Q92.2188 624.561 94.6724 623.982 Q97.1261 623.403 99.1632 623.403 Q104.534 623.403 107.728 626.089 Q110.922 628.774 110.922 633.265 Q110.922 635.394 110.112 637.315 Q109.325 639.214 107.219 641.806 Q106.64 642.477 103.538 645.695 Q100.436 648.889 94.7882 654.653 Z\" fill=\"#000000\" fill-rule=\"nonzero\" fill-opacity=\"1\" /><path clip-path=\"url(#clip630)\" d=\"M120.922 652.709 L125.807 652.709 L125.807 658.588 L120.922 658.588 L120.922 652.709 Z\" fill=\"#000000\" fill-rule=\"nonzero\" fill-opacity=\"1\" /><path clip-path=\"url(#clip630)\" d=\"M145.992 627.107 Q142.381 627.107 140.552 630.672 Q138.746 634.214 138.746 641.343 Q138.746 648.45 140.552 652.014 Q142.381 655.556 145.992 655.556 Q149.626 655.556 151.431 652.014 Q153.26 648.45 153.26 641.343 Q153.26 634.214 151.431 630.672 Q149.626 627.107 145.992 627.107 M145.992 623.403 Q151.802 623.403 154.857 628.01 Q157.936 632.593 157.936 641.343 Q157.936 650.07 154.857 654.676 Q151.802 659.26 145.992 659.26 Q140.181 659.26 137.103 654.676 Q134.047 650.07 134.047 641.343 Q134.047 632.593 137.103 628.01 Q140.181 623.403 145.992 623.403 Z\" fill=\"#000000\" fill-rule=\"nonzero\" fill-opacity=\"1\" /><path clip-path=\"url(#clip630)\" d=\"M51.9875 333.168 L81.6633 333.168 L81.6633 337.103 L51.9875 337.103 L51.9875 333.168 Z\" fill=\"#000000\" fill-rule=\"nonzero\" fill-opacity=\"1\" /><path clip-path=\"url(#clip630)\" d=\"M92.566 346.061 L100.205 346.061 L100.205 319.696 L91.8947 321.362 L91.8947 317.103 L100.159 315.436 L104.834 315.436 L104.834 346.061 L112.473 346.061 L112.473 349.996 L92.566 349.996 L92.566 346.061 Z\" fill=\"#000000\" fill-rule=\"nonzero\" fill-opacity=\"1\" /><path clip-path=\"url(#clip630)\" d=\"M121.918 344.117 L126.802 344.117 L126.802 349.996 L121.918 349.996 L121.918 344.117 Z\" fill=\"#000000\" fill-rule=\"nonzero\" fill-opacity=\"1\" /><path clip-path=\"url(#clip630)\" d=\"M137.033 315.436 L155.39 315.436 L155.39 319.371 L141.316 319.371 L141.316 327.844 Q142.334 327.496 143.353 327.334 Q144.371 327.149 145.39 327.149 Q151.177 327.149 154.556 330.32 Q157.936 333.492 157.936 338.908 Q157.936 344.487 154.464 347.589 Q150.992 350.668 144.672 350.668 Q142.496 350.668 140.228 350.297 Q137.982 349.927 135.575 349.186 L135.575 344.487 Q137.658 345.621 139.881 346.177 Q142.103 346.732 144.58 346.732 Q148.584 346.732 150.922 344.626 Q153.26 342.519 153.26 338.908 Q153.26 335.297 150.922 333.191 Q148.584 331.084 144.58 331.084 Q142.705 331.084 140.83 331.501 Q138.978 331.918 137.033 332.797 L137.033 315.436 Z\" fill=\"#000000\" fill-rule=\"nonzero\" fill-opacity=\"1\" /><polyline clip-path=\"url(#clip632)\" style=\"stroke:#009af9; stroke-linecap:round; stroke-linejoin:round; stroke-width:4; stroke-opacity:1; fill:none\" points=\"255.035,87.9763 362.225,919.635 469.416,1445.72 576.607,1060.85 683.797,1046.04 790.988,1046.05 898.179,1046.35 1005.37,1046.55 1112.56,1046.73 1219.75,1046.87 1326.94,1047.01 1434.13,1047.1 1541.32,1047.18 1648.51,1047.22 1755.7,1047.25 1862.89,1047.22 1970.09,1047.19 2077.28,1047.08 2184.47,1046.96 2291.66,1046.74 \"/>\n",
       "<path clip-path=\"url(#clip630)\" d=\"M2012.48 198.898 L2280.8 198.898 L2280.8 95.2176 L2012.48 95.2176  Z\" fill=\"#ffffff\" fill-rule=\"evenodd\" fill-opacity=\"1\"/>\n",
       "<polyline clip-path=\"url(#clip630)\" style=\"stroke:#000000; stroke-linecap:round; stroke-linejoin:round; stroke-width:4; stroke-opacity:1; fill:none\" points=\"2012.48,198.898 2280.8,198.898 2280.8,95.2176 2012.48,95.2176 2012.48,198.898 \"/>\n",
       "<polyline clip-path=\"url(#clip630)\" style=\"stroke:#009af9; stroke-linecap:round; stroke-linejoin:round; stroke-width:4; stroke-opacity:1; fill:none\" points=\"2036.47,147.058 2180.39,147.058 \"/>\n",
       "<path clip-path=\"url(#clip630)\" d=\"M2218.22 166.745 Q2216.42 171.375 2214.7 172.787 Q2212.99 174.199 2210.12 174.199 L2206.72 174.199 L2206.72 170.634 L2209.22 170.634 Q2210.98 170.634 2211.95 169.8 Q2212.92 168.967 2214.1 165.865 L2214.86 163.921 L2204.38 138.412 L2208.89 138.412 L2216.99 158.689 L2225.1 138.412 L2229.61 138.412 L2218.22 166.745 Z\" fill=\"#000000\" fill-rule=\"nonzero\" fill-opacity=\"1\" /><path clip-path=\"url(#clip630)\" d=\"M2236.9 160.402 L2244.54 160.402 L2244.54 134.037 L2236.23 135.703 L2236.23 131.444 L2244.49 129.778 L2249.17 129.778 L2249.17 160.402 L2256.81 160.402 L2256.81 164.338 L2236.9 164.338 L2236.9 160.402 Z\" fill=\"#000000\" fill-rule=\"nonzero\" fill-opacity=\"1\" /></svg>\n"
      ]
     },
     "metadata": {},
     "output_type": "display_data"
    }
   ],
   "source": [
    "using Plots\n",
    "plot(log10.(e))"
   ]
  },
  {
   "cell_type": "code",
   "execution_count": 126,
   "id": "57ab41b8",
   "metadata": {},
   "outputs": [
    {
     "data": {
      "text/plain": [
       "2"
      ]
     },
     "metadata": {},
     "output_type": "display_data"
    }
   ],
   "source": [
    "u1 = similar(r1)\n",
    "r0 = FEM.nodePositionVector(problem)\n",
    "for i in 1:size(r1, 2)\n",
    "    u1[:, i] = r1[:, i] - r0\n",
    "end\n",
    "\n",
    "u2 = FEM.showDoFResults(problem, u1, :uvec, t=1:size(u1, 2), visible=true)"
   ]
  },
  {
   "cell_type": "code",
   "execution_count": 127,
   "id": "f74412f6",
   "metadata": {},
   "outputs": [],
   "source": [
    "#FEM.plotOnPath(problem, \"horizontal\", u2)\n",
    "#FEM.plotOnPath(problem, \"vertical\", u2)"
   ]
  },
  {
   "cell_type": "code",
   "execution_count": 128,
   "id": "d9e04c86",
   "metadata": {},
   "outputs": [
    {
     "data": {
      "text/plain": [
       "LowLevelFEM.TensorField([[0.40000000000000213; 0.0; … ; 0.0; 0.6000000000000001;;], [0.40000000000000213; 0.0; … ; 0.0; 0.6000000000000001;;], [0.40000000000000213; 0.0; … ; 0.0; 0.6000000000000001;;], [0.40000000000000213; 0.0; … ; 0.0; 0.6000000000000001;;], [0.40000000000000213; 0.0; … ; 0.0; 0.6000000000000001;;], [0.40000000000000213; 0.0; … ; 0.0; 0.6000000000000001;;], [0.40000000000000213; 0.0; … ; 0.0; 0.6000000000000001;;], [0.40000000000000213; 0.0; … ; 0.0; 0.6000000000000001;;], [0.40000000000000213; 0.0; … ; 0.0; 0.6000000000000001;;], [0.40000000000000213; 0.0; … ; 0.0; 0.6000000000000001;;]  …  [0.40000000000000213; 0.0; … ; 0.0; 0.6000000000000001;;], [0.40000000000000213; 0.0; … ; 0.0; 0.6000000000000001;;], [0.40000000000000213; 0.0; … ; 0.0; 0.6000000000000001;;], [0.40000000000000213; 0.0; … ; 0.0; 0.6000000000000001;;], [0.40000000000000213; 0.0; … ; 0.0; 0.6000000000000001;;], [0.40000000000000213; 0.0; … ; 0.0; 0.6000000000000001;;], [0.40000000000000213; 0.0; … ; 0.0; 0.6000000000000001;;], [0.40000000000000213; 0.0; … ; 0.0; 0.6000000000000001;;], [0.40000000000000213; 0.0; … ; 0.0; 0.6000000000000001;;], [0.40000000000000213; 0.0; … ; 0.0; 0.6000000000000001;;]], Matrix{Float64}(undef, 0, 0), [473, 474, 475, 476, 477, 478, 479, 480, 481, 482  …  783, 784, 785, 786, 787, 788, 789, 790, 791, 792], 1, :F)"
      ]
     },
     "metadata": {},
     "output_type": "display_data"
    }
   ],
   "source": [
    "r = FEM.nodePositionVector(problem)\n",
    "ux(x, y, z) = 0.4x\n",
    "uy(x, y, z) = 0.5y\n",
    "uz(x, y, z) = 0.6z\n",
    "q0 = FEM.field(\"body\", fx=ux, fy=uy, fz=uz)\n",
    "q = FEM.vectorField(problem, [q0])\n",
    "F = FEM.deformationGradient(problem, q)"
   ]
  },
  {
   "cell_type": "code",
   "execution_count": 129,
   "id": "bda3da4b",
   "metadata": {},
   "outputs": [
    {
     "data": {
      "text/plain": [
       "3×3 Matrix{Float64}:\n",
       " 0.4  0.0  0.0\n",
       " 0.0  0.5  0.0\n",
       " 0.0  0.0  0.6"
      ]
     },
     "metadata": {},
     "output_type": "display_data"
    }
   ],
   "source": [
    "reshape(F.A[1][1:9], 3, 3)"
   ]
  },
  {
   "cell_type": "code",
   "execution_count": 130,
   "id": "4aba7a4b",
   "metadata": {},
   "outputs": [
    {
     "data": {
      "text/plain": [
       "3×3 Matrix{Float64}:\n",
       " -0.42   0.0     0.0\n",
       "  0.0   -0.375   0.0\n",
       "  0.0    0.0    -0.32"
      ]
     },
     "metadata": {},
     "output_type": "display_data"
    }
   ],
   "source": [
    "E = (F' * F - FEM.unitTensor(F)) / 2\n",
    "\n",
    "reshape(E.A[1][1:9], 3, 3)"
   ]
  },
  {
   "cell_type": "code",
   "execution_count": 131,
   "id": "a7c506a2",
   "metadata": {},
   "outputs": [
    {
     "data": {
      "text/plain": [
       "3×3 Matrix{Float64}:\n",
       " -2.625   0.0   0.0\n",
       "  0.0    -1.5   0.0\n",
       "  0.0     0.0  -0.888889"
      ]
     },
     "metadata": {},
     "output_type": "display_data"
    }
   ],
   "source": [
    "e = (FEM.unitTensor(F) - inv(F * F')) / 2\n",
    "\n",
    "reshape(e.A[1][1:9], 3, 3)"
   ]
  },
  {
   "cell_type": "code",
   "execution_count": 132,
   "id": "df5feea4",
   "metadata": {},
   "outputs": [
    {
     "data": {
      "text/plain": [
       "3×3 Matrix{Float64}:\n",
       " -2.625   0.0   0.0\n",
       "  0.0    -1.5   0.0\n",
       "  0.0     0.0  -0.888889"
      ]
     },
     "metadata": {},
     "output_type": "display_data"
    }
   ],
   "source": [
    "e = inv(F') * E * inv(F)\n",
    "\n",
    "reshape(e.A[1][1:9], 3, 3)"
   ]
  },
  {
   "cell_type": "code",
   "execution_count": 133,
   "id": "eb7cd73d",
   "metadata": {},
   "outputs": [
    {
     "data": {
      "text/plain": [
       "3×3 Matrix{Float64}:\n",
       " 0.4  0.0  0.0\n",
       " 0.0  0.5  0.0\n",
       " 0.0  0.0  0.6"
      ]
     },
     "metadata": {},
     "output_type": "display_data"
    }
   ],
   "source": [
    "U = sqrt(F' * F)\n",
    "\n",
    "reshape(U.A[1][1:9], 3, 3)"
   ]
  },
  {
   "cell_type": "code",
   "execution_count": 134,
   "id": "49af293c",
   "metadata": {},
   "outputs": [
    {
     "data": {
      "text/plain": [
       "3×3 Matrix{Float64}:\n",
       " -122.128     0.0       0.0\n",
       "    0.0    -113.474     0.0\n",
       "    0.0       0.0    -108.773"
      ]
     },
     "metadata": {},
     "output_type": "display_data"
    }
   ],
   "source": [
    "Ex = 10\n",
    "νxy = 0.3\n",
    "λ = Ex * νxy / ((1 + νxy) * (1 - 2νxy))\n",
    "μ = Ex / (2 * (1 + νxy))\n",
    "I3 = FEM.unitTensor(F)\n",
    "iC = inv(F' * F)\n",
    "J1 = det(F)\n",
    "SII = μ * (I3 - iC) + λ * log(J1) / J1 * I3\n",
    "\n",
    "reshape(SII.A[1][1:9], 3, 3)"
   ]
  },
  {
   "cell_type": "code",
   "execution_count": 135,
   "id": "88fa00a0",
   "metadata": {},
   "outputs": [
    {
     "data": {
      "text/plain": [
       "probe (generic function with 1 method)"
      ]
     },
     "metadata": {},
     "output_type": "display_data"
    }
   ],
   "source": [
    "function probe(A, x, y, z)\n",
    "    elementTag, elementType, nodeTags, u, v, w = gmsh.model.mesh.getElementByCoordinates(x, y, z, 3, false)\n",
    "    elementName, dim, order, numNodes::Int64, localNodeCoord, numPrimaryNodes = gmsh.model.mesh.getElementProperties(elementType)\n",
    "    comp, fun, ori = gmsh.model.mesh.getBasisFunctions(elementType, [u, v, w], \"Lagrange\")\n",
    "    SS = [0.0, 0, 0, 0, 0, 0, 0, 0, 0]\n",
    "    if isa(A, FEM.TensorField)\n",
    "        ind = findfirst(i -> i == elementTag, SII.numElem)\n",
    "        for i in range(1, 9)\n",
    "            SS[i] = fun' * SII.A[ind][i:9:9numNodes, 1]\n",
    "        end\n",
    "    elseif isa(A, Matrix)\n",
    "        for i in range(1, 9)\n",
    "            SS[i] = fun' * A[9nodeTags.-(9-i), 1]\n",
    "        end\n",
    "    end\n",
    "    return reshape(SS, 3, 3)\n",
    "end"
   ]
  },
  {
   "cell_type": "code",
   "execution_count": 136,
   "id": "eb55a91c",
   "metadata": {},
   "outputs": [
    {
     "data": {
      "text/plain": [
       "29889×1 Matrix{Float64}:\n",
       " -122.12805462500343\n",
       "    0.0\n",
       "   -1.8978171361113707e-13\n",
       "    0.0\n",
       " -113.47420847115752\n",
       "    0.0\n",
       "   -1.8978171361113707e-13\n",
       "    0.0\n",
       " -108.77335377030283\n",
       " -122.12805462500312\n",
       "    ⋮\n",
       " -122.12805462500462\n",
       "    0.0\n",
       "    0.0\n",
       "    0.0\n",
       " -113.4742084711584\n",
       "    0.0\n",
       "    0.0\n",
       "    0.0\n",
       " -108.77335377030371"
      ]
     },
     "metadata": {},
     "output_type": "display_data"
    }
   ],
   "source": [
    "SII2 = FEM.elementsToNodes(problem, SII)"
   ]
  },
  {
   "cell_type": "code",
   "execution_count": 137,
   "id": "0f94ba00",
   "metadata": {},
   "outputs": [
    {
     "data": {
      "text/plain": [
       "3×3 Matrix{Float64}:\n",
       " -122.128           5.46571e-14     1.7792e-14\n",
       "    5.46571e-14  -113.474          -4.55476e-15\n",
       "    1.7792e-14     -4.55476e-15  -108.773"
      ]
     },
     "metadata": {},
     "output_type": "display_data"
    }
   ],
   "source": [
    "probe(SII2, 0, 0, 0)"
   ]
  },
  {
   "cell_type": "code",
   "execution_count": 138,
   "id": "9eac2964",
   "metadata": {},
   "outputs": [
    {
     "data": {
      "text/plain": [
       "LowLevelFEM.ScalarField([[2.0; 2.0; … ; 2.0; 2.0;;], [2.0; 2.0; … ; 2.0; 2.0;;], [2.0; 2.0; … ; 2.0; 2.0;;], [2.0; 2.0; … ; 2.0; 2.0;;], [2.0; 2.0; … ; 2.0; 2.0;;], [2.0; 2.0; … ; 2.0; 2.0;;], [2.0; 2.0; … ; 2.0; 2.0;;], [2.0; 2.0; … ; 2.0; 2.0;;], [2.0; 2.0; … ; 2.0; 2.0;;], [2.0; 2.0; … ; 2.0; 2.0;;]  …  [2.0; 2.0; … ; 2.0; 2.0;;], [2.0; 2.0; … ; 2.0; 2.0;;], [2.0; 2.0; … ; 2.0; 2.0;;], [2.0; 2.0; … ; 2.0; 2.0;;], [2.0; 2.0; … ; 2.0; 2.0;;], [2.0; 2.0; … ; 2.0; 2.0;;], [2.0; 2.0; … ; 2.0; 2.0;;], [2.0; 2.0; … ; 2.0; 2.0;;], [2.0; 2.0; … ; 2.0; 2.0;;], [2.0; 2.0; … ; 2.0; 2.0;;]], Matrix{Float64}(undef, 0, 0), [473, 474, 475, 476, 477, 478, 479, 480, 481, 482  …  783, 784, 785, 786, 787, 788, 789, 790, 791, 792], 1, :scalarInElements)"
      ]
     },
     "metadata": {},
     "output_type": "display_data"
    }
   ],
   "source": [
    "field = FEM.field(\"body\", f=2)\n",
    "sc = FEM.ScalarField(problem, [field])"
   ]
  },
  {
   "cell_type": "code",
   "execution_count": 139,
   "id": "b19e2ebf",
   "metadata": {},
   "outputs": [
    {
     "data": {
      "text/plain": [
       "LowLevelFEM.ScalarField([[0.12000000000000056; 0.12000000000000056; … ; 0.1199999999999996; 0.11999999999999986;;], [0.12000000000000056; 0.12000000000000056; … ; 0.1199999999999996; 0.11999999999999986;;], [0.12000000000000056; 0.12000000000000056; … ; 0.1199999999999996; 0.11999999999999986;;], [0.12000000000000056; 0.12000000000000056; … ; 0.1199999999999996; 0.11999999999999986;;], [0.12000000000000056; 0.12000000000000056; … ; 0.1199999999999996; 0.11999999999999986;;], [0.12000000000000056; 0.12000000000000056; … ; 0.1199999999999996; 0.11999999999999986;;], [0.12000000000000056; 0.12000000000000056; … ; 0.1199999999999996; 0.11999999999999986;;], [0.12000000000000056; 0.12000000000000056; … ; 0.1199999999999996; 0.11999999999999986;;], [0.12000000000000056; 0.12000000000000056; … ; 0.1199999999999996; 0.11999999999999986;;], [0.12000000000000056; 0.12000000000000056; … ; 0.1199999999999996; 0.11999999999999986;;]  …  [0.12000000000000056; 0.12000000000000056; … ; 0.1199999999999996; 0.11999999999999986;;], [0.12000000000000056; 0.12000000000000056; … ; 0.1199999999999996; 0.11999999999999986;;], [0.12000000000000056; 0.12000000000000056; … ; 0.1199999999999996; 0.11999999999999986;;], [0.12000000000000056; 0.12000000000000056; … ; 0.1199999999999996; 0.11999999999999986;;], [0.12000000000000056; 0.12000000000000056; … ; 0.1199999999999996; 0.11999999999999986;;], [0.12000000000000056; 0.12000000000000056; … ; 0.1199999999999996; 0.11999999999999986;;], [0.12000000000000056; 0.12000000000000056; … ; 0.1199999999999996; 0.11999999999999986;;], [0.12000000000000056; 0.12000000000000056; … ; 0.1199999999999996; 0.11999999999999986;;], [0.12000000000000056; 0.12000000000000056; … ; 0.1199999999999996; 0.11999999999999986;;], [0.12000000000000056; 0.12000000000000056; … ; 0.1199999999999996; 0.11999999999999986;;]], Matrix{Float64}(undef, 0, 0), [473, 474, 475, 476, 477, 478, 479, 480, 481, 482  …  783, 784, 785, 786, 787, 788, 789, 790, 791, 792], 1, :sc)"
      ]
     },
     "metadata": {},
     "output_type": "display_data"
    }
   ],
   "source": [
    "I3 = FEM.unitTensor(F)\n",
    "J = det(F)"
   ]
  },
  {
   "cell_type": "code",
   "execution_count": 140,
   "id": "dfdb8e2d",
   "metadata": {},
   "outputs": [
    {
     "data": {
      "text/plain": [
       "LowLevelFEM.TensorField([[2.0; 0.0; … ; 0.0; 2.0;;], [2.0; 0.0; … ; 0.0; 2.0;;], [2.0; 0.0; … ; 0.0; 2.0;;], [2.0; 0.0; … ; 0.0; 2.0;;], [2.0; 0.0; … ; 0.0; 2.0;;], [2.0; 0.0; … ; 0.0; 2.0;;], [2.0; 0.0; … ; 0.0; 2.0;;], [2.0; 0.0; … ; 0.0; 2.0;;], [2.0; 0.0; … ; 0.0; 2.0;;], [2.0; 0.0; … ; 0.0; 2.0;;]  …  [2.0; 0.0; … ; 0.0; 2.0;;], [2.0; 0.0; … ; 0.0; 2.0;;], [2.0; 0.0; … ; 0.0; 2.0;;], [2.0; 0.0; … ; 0.0; 2.0;;], [2.0; 0.0; … ; 0.0; 2.0;;], [2.0; 0.0; … ; 0.0; 2.0;;], [2.0; 0.0; … ; 0.0; 2.0;;], [2.0; 0.0; … ; 0.0; 2.0;;], [2.0; 0.0; … ; 0.0; 2.0;;], [2.0; 0.0; … ; 0.0; 2.0;;]], Matrix{Float64}(undef, 0, 0), [473, 474, 475, 476, 477, 478, 479, 480, 481, 482  …  783, 784, 785, 786, 787, 788, 789, 790, 791, 792], 1, :e)"
      ]
     },
     "metadata": {},
     "output_type": "display_data"
    }
   ],
   "source": [
    "sc * I3"
   ]
  },
  {
   "cell_type": "code",
   "execution_count": 141,
   "id": "b48019c3",
   "metadata": {},
   "outputs": [
    {
     "data": {
      "text/plain": [
       "LowLevelFEM.TensorField([[0.0; 0.0; … ; 0.0; 0.0;;], [0.0; 0.0; … ; 0.0; 0.0;;], [0.0; 0.0; … ; 0.0; 0.0;;], [0.0; 0.0; … ; 0.0; 0.0;;], [0.0; 0.0; … ; 0.0; 0.0;;], [0.0; 0.0; … ; 0.0; 0.0;;], [0.0; 0.0; … ; 0.0; 0.0;;], [0.0; 0.0; … ; 0.0; 0.0;;], [0.0; 0.0; … ; 0.0; 0.0;;], [0.0; 0.0; … ; 0.0; 0.0;;]  …  [0.0; 0.0; … ; 0.0; 0.0;;], [0.0; 0.0; … ; 0.0; 0.0;;], [0.0; 0.0; … ; 0.0; 0.0;;], [0.0; 0.0; … ; 0.0; 0.0;;], [0.0; 0.0; … ; 0.0; 0.0;;], [0.0; 0.0; … ; 0.0; 0.0;;], [0.0; 0.0; … ; 0.0; 0.0;;], [0.0; 0.0; … ; 0.0; 0.0;;], [0.0; 0.0; … ; 0.0; 0.0;;], [0.0; 0.0; … ; 0.0; 0.0;;]], Matrix{Float64}(undef, 0, 0), [473, 474, 475, 476, 477, 478, 479, 480, 481, 482  …  783, 784, 785, 786, 787, 788, 789, 790, 791, 792], 1, :e)"
      ]
     },
     "metadata": {},
     "output_type": "display_data"
    }
   ],
   "source": [
    "I3 - I3"
   ]
  },
  {
   "cell_type": "code",
   "execution_count": 142,
   "id": "ff567b87",
   "metadata": {},
   "outputs": [
    {
     "data": {
      "text/plain": [
       "3×3 Matrix{Float64}:\n",
       " -162.837     0.0       0.0\n",
       "    0.0    -236.405     0.0\n",
       "    0.0       0.0    -326.32"
      ]
     },
     "metadata": {},
     "output_type": "display_data"
    }
   ],
   "source": [
    "σ = F * SII * F' / det(F)\n",
    "\n",
    "reshape(σ.A[1][1:9], 3, 3)"
   ]
  },
  {
   "cell_type": "code",
   "execution_count": 143,
   "id": "f1eee084",
   "metadata": {},
   "outputs": [
    {
     "data": {
      "text/plain": [
       "-119.05114807753088"
      ]
     },
     "metadata": {},
     "output_type": "display_data"
    }
   ],
   "source": [
    "J = 0.5 * 0.5 * 0.5\n",
    "μ / J * (J^(2 / 3) - 1) + λ / J * log(J)"
   ]
  },
  {
   "cell_type": "code",
   "execution_count": 144,
   "id": "32bc3809",
   "metadata": {},
   "outputs": [
    {
     "name": "stdout",
     "output_type": "stream",
     "text": [
      "-------------------------------------------------------\n",
      "Version       : 4.13.1\n",
      "License       : GNU General Public License\n",
      "Build OS      : Linux64-sdk\n",
      "Build date    : 19700101\n",
      "Build host    : amdci7.julia.csail.mit.edu\n",
      "Build options : 64Bit ALGLIB[contrib] ANN[contrib] Bamg Blossom Cairo DIntegration Dlopen DomHex Eigen[contrib] Fltk GMP Gmm[contrib] Hxt Jpeg Kbipack LinuxJoystick MathEx[contrib] Mesh Metis[contrib] Mmg Mpeg Netgen Nii2mesh ONELAB ONELABMetamodel OpenCASCADE OpenCASCADE-CAF OpenGL OpenMP OptHom Parser Plugins Png Post QuadMeshingTools QuadTri Solver TetGen/BR TinyXML2[contrib] Untangle Voro++[contrib] WinslowUntangler Zlib\n",
      "FLTK version  : 1.3.8\n",
      "OCC version   : 7.7.2\n",
      "Packaged by   : root\n",
      "Web site      : https://gmsh.info\n",
      "Issue tracker : https://gitlab.onelab.info/gmsh/gmsh/issues\n",
      "-------------------------------------------------------\n"
     ]
    },
    {
     "name": "stderr",
     "output_type": "stream",
     "text": [
      "XRequest.18: BadValue 0x0\n"
     ]
    }
   ],
   "source": [
    "FEM.openPostProcessor()"
   ]
  },
  {
   "cell_type": "code",
   "execution_count": 145,
   "id": "7b517a53",
   "metadata": {},
   "outputs": [],
   "source": [
    "gmsh.finalize()"
   ]
  }
 ],
 "metadata": {
  "kernelspec": {
   "display_name": "Julia 1.11.5",
   "language": "julia",
   "name": "julia-1.11"
  },
  "language_info": {
   "file_extension": ".jl",
   "mimetype": "application/julia",
   "name": "julia",
   "version": "1.11.5"
  }
 },
 "nbformat": 4,
 "nbformat_minor": 5
}
