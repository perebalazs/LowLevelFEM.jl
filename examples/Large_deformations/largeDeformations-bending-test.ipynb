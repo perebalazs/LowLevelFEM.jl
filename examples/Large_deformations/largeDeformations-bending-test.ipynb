{
 "cells": [
  {
   "cell_type": "code",
   "execution_count": 1,
   "id": "79fd9685",
   "metadata": {},
   "outputs": [],
   "source": [
    "using LowLevelFEM\n",
    "import LowLevelFEM as FEM\n",
    "\n",
    "gmsh.initialize()"
   ]
  },
  {
   "cell_type": "code",
   "execution_count": 2,
   "id": "22283e0a",
   "metadata": {},
   "outputs": [],
   "source": [
    "using SparseArrays, LinearAlgebra"
   ]
  },
  {
   "cell_type": "code",
   "execution_count": 3,
   "id": "fa18250b",
   "metadata": {},
   "outputs": [
    {
     "name": "stdout",
     "output_type": "stream",
     "text": [
      "Info    : Reading 'body2.geo'...\n",
      "Info    : Meshing 1D...\n",
      "Info    : [  0%] Meshing curve 1 (Line)\n",
      "Info    : [ 10%] Meshing curve 2 (Line)\n",
      "Info    : [ 20%] Meshing curve 3 (Line)\n",
      "Info    : [ 30%] Meshing curve 4 (Line)\n",
      "Info    : [ 40%] Meshing curve 5 (Line)\n",
      "Info    : [ 50%] Meshing curve 6 (Line)\n",
      "Info    : [ 60%] Meshing curve 7 (Line)\n",
      "Info    : [ 60%] Meshing curve 8 (Line)\n",
      "Info    : [ 70%] Meshing curve 9 (Line)\n",
      "Info    : [ 80%] Meshing curve 10 (Line)\n",
      "Info    : [ 90%] Meshing curve 11 (Line)\n",
      "Info    : [100%] Meshing curve 12 (Line)\n",
      "Info    : Done meshing 1D (Wall 0.00102129s, CPU 0.00102s)\n",
      "Info    : Meshing 2D...\n",
      "Info    : [  0%] Meshing surface 1 (Transfinite)\n",
      "Info    : [ 20%] Meshing surface 2 (Transfinite)\n",
      "Info    : [ 40%] Meshing surface 3 (Transfinite)\n",
      "Info    : [ 60%] Meshing surface 4 (Transfinite)\n",
      "Info    : [ 70%] Meshing surface 5 (Transfinite)\n",
      "Info    : [ 90%] Meshing surface 6 (Transfinite)\n",
      "Info    : Done meshing 2D (Wall 0.000506723s, CPU 0.000505s)\n",
      "Info    : Meshing 3D...\n",
      "Info    : Meshing volume 1 (Transfinite)\n",
      "Info    : Done meshing 3D (Wall 0.00151473s, CPU 0.001513s)\n",
      "Info    : Optimizing mesh...\n",
      "Info    : Done optimizing mesh (Wall 1.9531e-05s, CPU 1.8e-05s)\n",
      "Info    : Meshing order 2 (curvilinear on)...\n",
      "Info    : [  0%] Meshing curve 1 order 2\n",
      "Info    : [ 10%] Meshing curve 2 order 2\n",
      "Info    : [ 20%] Meshing curve 3 order 2\n",
      "Info    : [ 20%] Meshing curve 4 order 2\n",
      "Info    : [ 30%] Meshing curve 5 order 2\n",
      "Info    : [ 30%] Meshing curve 6 order 2\n",
      "Info    : [ 40%] Meshing curve 7 order 2\n",
      "Info    : [ 40%] Meshing curve 8 order 2\n",
      "Info    : [ 50%] Meshing curve 9 order 2\n",
      "Info    : [ 50%] Meshing curve 10 order 2\n",
      "Info    : [ 60%] Meshing curve 11 order 2\n",
      "Info    : [ 60%] Meshing curve 12 order 2\n",
      "Info    : [ 70%] Meshing surface 1 order 2\n",
      "Info    : [ 70%] Meshing surface 2 order 2\n",
      "Info    : [ 80%] Meshing surface 3 order 2\n",
      "Info    : [ 80%] Meshing surface 4 order 2\n",
      "Info    : [ 90%] Meshing surface 5 order 2\n",
      "Info    : [ 90%] Meshing surface 6 order 2\n",
      "Info    : [100%] Meshing volume 1 order 2\n",
      "Info    : Done meshing order 2 (Wall 0.0121854s, CPU 0.012176s)\n",
      "Info    : 3321 nodes 792 elements\n",
      "Info    : Done reading 'body2.geo'\n"
     ]
    }
   ],
   "source": [
    "gmsh.open(\"body2.geo\")"
   ]
  },
  {
   "cell_type": "code",
   "execution_count": 4,
   "id": "936f1fab",
   "metadata": {},
   "outputs": [
    {
     "name": "stdout",
     "output_type": "stream",
     "text": [
      "Info    : RCMK renumbering...\n",
      "Info    : Done RCMK renumbering (bandwidth is now 386)\n",
      "Info    : RCMK renumbering...\n",
      "Info    : Done RCMK renumbering (bandwidth is now 386)\n",
      "Info    : RCMK renumbering...\n",
      "Info    : Done RCMK renumbering (bandwidth is now 386)\n"
     ]
    },
    {
     "data": {
      "text/plain": [
       "LowLevelFEM.Problem(\"body2\", :Solid, 3, 3, LowLevelFEM.Material[LowLevelFEM.Material(\"body\", :StVenantKirchhoff, 260.0, 0.3, 7.85e-9, 45.0, 4.2e8, 1.2e-5, 150.0, 100.0, 216.66666666666666)], 1.0, 3321)"
      ]
     },
     "metadata": {},
     "output_type": "display_data"
    }
   ],
   "source": [
    "mat = FEM.material(\"body\", E=260, ν=0.3, type=:StVenantKirchhoff)\n",
    "hooke = FEM.Problem([mat], type=:Solid)\n",
    "stvenkir = FEM.Problem([mat], type=:Solid)\n",
    "neohooke = FEM.Problem([mat], type=:Solid)"
   ]
  },
  {
   "cell_type": "code",
   "execution_count": 5,
   "id": "c2a10dc9",
   "metadata": {},
   "outputs": [
    {
     "data": {
      "text/plain": [
       "LowLevelFEM.TensorField([[-1.5139443207433696; -0.018822139801356885; … ; 0.01081538190407078; -0.005950162160140604;;], [-1.4048575636206837; -0.02417304447173141; … ; 0.0030849916949585166; 0.0038119689375645804;;], [-1.346437355766322; -0.06017414601759974; … ; 0.00027753353056450715; 0.0004345817517508177;;], [-1.273911250959673; -0.06272010507122894; … ; 1.671488044377403e-5; 1.2025334903076335e-5;;], [-1.1994471532665334; -0.06287955724573746; … ; 5.390101143198933e-7; -2.4937059037166698e-6;;], [-1.1245541356926843; -0.06289080916858092; … ; -1.5631444058955962e-9; -4.2124017202160857e-7;;], [-1.049572940082402; -0.06289146527526102; … ; 8.298863846123434e-10; -3.6316665397162495e-8;;], [-0.9745760038342751; -0.06289138604118616; … ; 5.804811263350028e-10; -1.6176479045171277e-9;;], [-0.8995764862984736; -0.0628913457835445; … ; 1.1293188606487092e-10; 1.0507214542876397e-10;;], [-0.8245765613336312; -0.06289133602797037; … ; 1.4410694859634532e-11; 4.356726091003793e-11;;]  …  [1.4945138865985272; -0.008866983089106384; … ; -9.325873406851315e-13; -1.4944323556420613e-11;;], [1.3445138849132363; -0.00886698279254361; … ; 3.857791557053305e-12; -5.5448617919395815e-11;;], [1.1945138813378933; -0.008866981613886438; … ; 2.58946517185244e-11; -4.310795609363538e-10;;], [1.0445138612654317; -0.008866974844501385; … ; 2.3337835652310435e-10; -3.130320169741907e-9;;], [0.8945137391394931; -0.008866936013429694; … ; 2.9287558192078812e-9; -2.217555739036925e-8;;], [0.7445129670272802; -0.008866751927971706; … ; 3.6939651337775103e-8; -1.718568177350166e-7;;], [0.5945095309099925; -0.008866867241508203; … ; 3.9455927414167036e-7; -1.401971621545206e-6;;], [0.44452882248969616; -0.00888242154557517; … ; 3.241593393710218e-6; -9.125704371192034e-6;;], [0.29484667433504963; -0.009094727174385753; … ; 3.0129117867261357e-5; -1.052680601584463e-5;;], [0.14995194964837066; -0.0015614101187999552; … ; -1.8743631535755867e-6; 0.0005814858102681734;;]], Matrix{Float64}(undef, 0, 0), [0.0], [473, 474, 475, 476, 477, 478, 479, 480, 481, 482  …  783, 784, 785, 786, 787, 788, 789, 790, 791, 792], 1, :s)"
      ]
     },
     "metadata": {},
     "output_type": "display_data"
    }
   ],
   "source": [
    "supp = FEM.displacementConstraint(\"left\", ux=0, uy=0, uz=0)\n",
    "suppL = FEM.displacementConstraint(\"left\", ux=0)\n",
    "suppB = FEM.displacementConstraint(\"bottom\", uy=0)\n",
    "suppF = FEM.displacementConstraint(\"front\", uz=0)\n",
    "traction = FEM.load(\"right\", fy=-0.05)\n",
    "#bodyforce = FEM.load(\"body\", fx=1)\n",
    "\n",
    "problem = hooke\n",
    "q = FEM.solveDisplacement(problem, [traction], [supp])\n",
    "S = FEM.solveStress(problem, q)"
   ]
  },
  {
   "cell_type": "code",
   "execution_count": 6,
   "id": "5ff50776",
   "metadata": {},
   "outputs": [
    {
     "name": "stdout",
     "output_type": "stream",
     "text": [
      "Info    : Running Plugin(Smooth)...\n",
      "Info    : Done running Plugin(Smooth)\n"
     ]
    },
    {
     "data": {
      "text/plain": [
       "2"
      ]
     },
     "metadata": {},
     "output_type": "display_data"
    }
   ],
   "source": [
    "u1 = FEM.showDoFResults(problem, q, :uvec)\n",
    "S1 = FEM.showElementResults(problem, S, :s)"
   ]
  },
  {
   "cell_type": "code",
   "execution_count": 7,
   "id": "970e4fc4",
   "metadata": {},
   "outputs": [
    {
     "data": {
      "text/plain": [
       "LowLevelFEM.Problem(\"body2\", :Solid, 3, 3, LowLevelFEM.Material[LowLevelFEM.Material(\"body\", :StVenantKirchhoff, 260.0, 0.3, 7.85e-9, 45.0, 4.2e8, 1.2e-5, 150.0, 100.0, 216.66666666666666)], 1.0, 3321)"
      ]
     },
     "metadata": {},
     "output_type": "display_data"
    }
   ],
   "source": [
    "problem = stvenkir\n",
    "problem = neohooke"
   ]
  },
  {
   "cell_type": "code",
   "execution_count": 8,
   "id": "02d09772",
   "metadata": {},
   "outputs": [],
   "source": [
    "followerLoad = true\n",
    "loadSteps = 10\n",
    "firstStep = 0.1\n",
    "maxIteration = 20\n",
    "saveSteps = true\n",
    "saveIterations = false\n",
    "plotConvergence = true\n",
    "ε = 1e-5\n",
    "\n",
    "r0 = FEM.nodePositionVector(problem)\n",
    "err0 = abs(maximum(r0.a) - minimum(r0.a))\n",
    "f = FEM.loadVector(problem, [traction])\n",
    "r = []\n",
    "r1 = []\n",
    "push!(r, r0.a)\n",
    "e = []\n",
    "\n",
    "for j in range(1, loadSteps)\n",
    "    fact = j / loadSteps\n",
    "    err = 1\n",
    "    i = 0\n",
    "    while err > ε && i < maxIteration\n",
    "        i += 1\n",
    "\n",
    "        Kl = FEM.stiffnessMatrixLinear(problem, r0)\n",
    "        Knl = FEM.stiffnessMatrixNonLinear(problem, r0)\n",
    "        if followerLoad == true\n",
    "            f = FEM.followerLoadVector(problem, r0, [traction])\n",
    "        end\n",
    "        fnl = FEM.loadVectorNonLinear(problem, r0)\n",
    "        K1, f1 = FEM.applyBoundaryConditions(problem, Kl + Knl, fact * f - fnl, [supp])\n",
    "        q = FEM.solveDisplacement(K1, f1)\n",
    "        r0 += q\n",
    "        if saveIterations == true\n",
    "            push!(r, r0.a)\n",
    "        end\n",
    "        err = maximum(abs.(q.a)) / err0\n",
    "        if plotConvergence == true\n",
    "            append!(e, err)\n",
    "        end\n",
    "    end\n",
    "    if saveSteps == true\n",
    "        push!(r, r0.a)\n",
    "    end\n",
    "end\n",
    "if saveIterations == true || saveSteps == true\n",
    "    n = length(r)\n",
    "    r1 = zeros(length(r0.a), n)\n",
    "    for i in 1:n\n",
    "        r1[:, i] = r[i]\n",
    "    end\n",
    "else\n",
    "    r1 = zeros(length(r0.a), 1)\n",
    "    r1 = r0\n",
    "end"
   ]
  },
  {
   "cell_type": "code",
   "execution_count": 9,
   "id": "a7f11918",
   "metadata": {},
   "outputs": [
    {
     "data": {
      "text/plain": [
       "LowLevelFEM.VectorField(Matrix{Float64}[], [0.0 0.0 … 0.0 0.0; 0.0 0.0 … 0.0 0.0; … ; 0.875 0.8014967071887636 … 0.2236834798236243 0.15315435162446675; 0.875 0.8749970201067293 … 0.8693391373890472 0.8648184156725985], [1.0, 2.0, 3.0, 4.0, 5.0, 6.0, 7.0, 8.0, 9.0, 10.0, 11.0], Int64[], 11, :u3D)"
      ]
     },
     "metadata": {},
     "output_type": "display_data"
    }
   ],
   "source": [
    "r1 = FEM.VectorField([], r1, 1:size(r1, 2), [], size(r1, 2), :u3D)"
   ]
  },
  {
   "cell_type": "code",
   "execution_count": 10,
   "id": "1866e2da",
   "metadata": {},
   "outputs": [
    {
     "data": {
      "image/png": "[encoded data removed]",
      "image/svg+xml": [
       "<?xml version=\"1.0\" encoding=\"utf-8\"?>\n",
       "<svg xmlns=\"http://www.w3.org/2000/svg\" xmlns:xlink=\"http://www.w3.org/1999/xlink\" width=\"600\" height=\"400\" viewBox=\"0 0 2400 1600\">\n",
       "<defs>\n",
       "  <clipPath id=\"clip060\">\n",
       "    <rect x=\"0\" y=\"0\" width=\"2400\" height=\"1600\"/>\n",
       "  </clipPath>\n",
       "</defs>\n",
       "<path clip-path=\"url(#clip060)\" d=\"M0 1600 L2400 1600 L2400 0 L0 0  Z\" fill=\"#ffffff\" fill-rule=\"evenodd\" fill-opacity=\"1\"/>\n",
       "<defs>\n",
       "  <clipPath id=\"clip061\">\n",
       "    <rect x=\"480\" y=\"0\" width=\"1681\" height=\"1600\"/>\n",
       "  </clipPath>\n",
       "</defs>\n",
       "<path clip-path=\"url(#clip060)\" d=\"M193.936 1486.45 L2352.76 1486.45 L2352.76 47.2441 L193.936 47.2441  Z\" fill=\"#ffffff\" fill-rule=\"evenodd\" fill-opacity=\"1\"/>\n",
       "<defs>\n",
       "  <clipPath id=\"clip062\">\n",
       "    <rect x=\"193\" y=\"47\" width=\"2160\" height=\"1440\"/>\n",
       "  </clipPath>\n",
       "</defs>\n",
       "<polyline clip-path=\"url(#clip062)\" style=\"stroke:#000000; stroke-linecap:round; stroke-linejoin:round; stroke-width:2; stroke-opacity:0.1; fill:none\" points=\"244.8,1486.45 244.8,47.2441 \"/>\n",
       "<polyline clip-path=\"url(#clip062)\" style=\"stroke:#000000; stroke-linecap:round; stroke-linejoin:round; stroke-width:2; stroke-opacity:0.1; fill:none\" points=\"756.515,1486.45 756.515,47.2441 \"/>\n",
       "<polyline clip-path=\"url(#clip062)\" style=\"stroke:#000000; stroke-linecap:round; stroke-linejoin:round; stroke-width:2; stroke-opacity:0.1; fill:none\" points=\"1268.23,1486.45 1268.23,47.2441 \"/>\n",
       "<polyline clip-path=\"url(#clip062)\" style=\"stroke:#000000; stroke-linecap:round; stroke-linejoin:round; stroke-width:2; stroke-opacity:0.1; fill:none\" points=\"1779.94,1486.45 1779.94,47.2441 \"/>\n",
       "<polyline clip-path=\"url(#clip062)\" style=\"stroke:#000000; stroke-linecap:round; stroke-linejoin:round; stroke-width:2; stroke-opacity:0.1; fill:none\" points=\"2291.66,1486.45 2291.66,47.2441 \"/>\n",
       "<polyline clip-path=\"url(#clip062)\" style=\"stroke:#000000; stroke-linecap:round; stroke-linejoin:round; stroke-width:2; stroke-opacity:0.1; fill:none\" points=\"193.936,1329.75 2352.76,1329.75 \"/>\n",
       "<polyline clip-path=\"url(#clip062)\" style=\"stroke:#000000; stroke-linecap:round; stroke-linejoin:round; stroke-width:2; stroke-opacity:0.1; fill:none\" points=\"193.936,913.727 2352.76,913.727 \"/>\n",
       "<polyline clip-path=\"url(#clip062)\" style=\"stroke:#000000; stroke-linecap:round; stroke-linejoin:round; stroke-width:2; stroke-opacity:0.1; fill:none\" points=\"193.936,497.703 2352.76,497.703 \"/>\n",
       "<polyline clip-path=\"url(#clip062)\" style=\"stroke:#000000; stroke-linecap:round; stroke-linejoin:round; stroke-width:2; stroke-opacity:0.1; fill:none\" points=\"193.936,81.6797 2352.76,81.6797 \"/>\n",
       "<polyline clip-path=\"url(#clip060)\" style=\"stroke:#000000; stroke-linecap:round; stroke-linejoin:round; stroke-width:4; stroke-opacity:1; fill:none\" points=\"193.936,1486.45 2352.76,1486.45 \"/>\n",
       "<polyline clip-path=\"url(#clip060)\" style=\"stroke:#000000; stroke-linecap:round; stroke-linejoin:round; stroke-width:4; stroke-opacity:1; fill:none\" points=\"244.8,1486.45 244.8,1467.55 \"/>\n",
       "<polyline clip-path=\"url(#clip060)\" style=\"stroke:#000000; stroke-linecap:round; stroke-linejoin:round; stroke-width:4; stroke-opacity:1; fill:none\" points=\"756.515,1486.45 756.515,1467.55 \"/>\n",
       "<polyline clip-path=\"url(#clip060)\" style=\"stroke:#000000; stroke-linecap:round; stroke-linejoin:round; stroke-width:4; stroke-opacity:1; fill:none\" points=\"1268.23,1486.45 1268.23,1467.55 \"/>\n",
       "<polyline clip-path=\"url(#clip060)\" style=\"stroke:#000000; stroke-linecap:round; stroke-linejoin:round; stroke-width:4; stroke-opacity:1; fill:none\" points=\"1779.94,1486.45 1779.94,1467.55 \"/>\n",
       "<polyline clip-path=\"url(#clip060)\" style=\"stroke:#000000; stroke-linecap:round; stroke-linejoin:round; stroke-width:4; stroke-opacity:1; fill:none\" points=\"2291.66,1486.45 2291.66,1467.55 \"/>\n",
       "<path clip-path=\"url(#clip060)\" d=\"M244.8 1517.37 Q241.189 1517.37 239.361 1520.93 Q237.555 1524.47 237.555 1531.6 Q237.555 1538.71 239.361 1542.27 Q241.189 1545.82 244.8 1545.82 Q248.435 1545.82 250.24 1542.27 Q252.069 1538.71 252.069 1531.6 Q252.069 1524.47 250.24 1520.93 Q248.435 1517.37 244.8 1517.37 M244.8 1513.66 Q250.611 1513.66 253.666 1518.27 Q256.745 1522.85 256.745 1531.6 Q256.745 1540.33 253.666 1544.94 Q250.611 1549.52 244.8 1549.52 Q238.99 1549.52 235.912 1544.94 Q232.856 1540.33 232.856 1531.6 Q232.856 1522.85 235.912 1518.27 Q238.99 1513.66 244.8 1513.66 Z\" fill=\"#000000\" fill-rule=\"nonzero\" fill-opacity=\"1\" /><path clip-path=\"url(#clip060)\" d=\"M731.214 1514.29 L749.57 1514.29 L749.57 1518.22 L735.496 1518.22 L735.496 1526.7 Q736.515 1526.35 737.533 1526.19 Q738.552 1526 739.57 1526 Q745.357 1526 748.737 1529.17 Q752.116 1532.34 752.116 1537.76 Q752.116 1543.34 748.644 1546.44 Q745.172 1549.52 738.853 1549.52 Q736.677 1549.52 734.408 1549.15 Q732.163 1548.78 729.755 1548.04 L729.755 1543.34 Q731.839 1544.47 734.061 1545.03 Q736.283 1545.58 738.76 1545.58 Q742.765 1545.58 745.103 1543.48 Q747.441 1541.37 747.441 1537.76 Q747.441 1534.15 745.103 1532.04 Q742.765 1529.94 738.76 1529.94 Q736.885 1529.94 735.01 1530.35 Q733.158 1530.77 731.214 1531.65 L731.214 1514.29 Z\" fill=\"#000000\" fill-rule=\"nonzero\" fill-opacity=\"1\" /><path clip-path=\"url(#clip060)\" d=\"M771.329 1517.37 Q767.718 1517.37 765.89 1520.93 Q764.084 1524.47 764.084 1531.6 Q764.084 1538.71 765.89 1542.27 Q767.718 1545.82 771.329 1545.82 Q774.964 1545.82 776.769 1542.27 Q778.598 1538.71 778.598 1531.6 Q778.598 1524.47 776.769 1520.93 Q774.964 1517.37 771.329 1517.37 M771.329 1513.66 Q777.139 1513.66 780.195 1518.27 Q783.274 1522.85 783.274 1531.6 Q783.274 1540.33 780.195 1544.94 Q777.139 1549.52 771.329 1549.52 Q765.519 1549.52 762.44 1544.94 Q759.385 1540.33 759.385 1531.6 Q759.385 1522.85 762.44 1518.27 Q765.519 1513.66 771.329 1513.66 Z\" fill=\"#000000\" fill-rule=\"nonzero\" fill-opacity=\"1\" /><path clip-path=\"url(#clip060)\" d=\"M1227.84 1544.91 L1235.47 1544.91 L1235.47 1518.55 L1227.16 1520.21 L1227.16 1515.95 L1235.43 1514.29 L1240.1 1514.29 L1240.1 1544.91 L1247.74 1544.91 L1247.74 1548.85 L1227.84 1548.85 L1227.84 1544.91 Z\" fill=\"#000000\" fill-rule=\"nonzero\" fill-opacity=\"1\" /><path clip-path=\"url(#clip060)\" d=\"M1267.19 1517.37 Q1263.58 1517.37 1261.75 1520.93 Q1259.94 1524.47 1259.94 1531.6 Q1259.94 1538.71 1261.75 1542.27 Q1263.58 1545.82 1267.19 1545.82 Q1270.82 1545.82 1272.63 1542.27 Q1274.46 1538.71 1274.46 1531.6 Q1274.46 1524.47 1272.63 1520.93 Q1270.82 1517.37 1267.19 1517.37 M1267.19 1513.66 Q1273 1513.66 1276.05 1518.27 Q1279.13 1522.85 1279.13 1531.6 Q1279.13 1540.33 1276.05 1544.94 Q1273 1549.52 1267.19 1549.52 Q1261.38 1549.52 1258.3 1544.94 Q1255.24 1540.33 1255.24 1531.6 Q1255.24 1522.85 1258.3 1518.27 Q1261.38 1513.66 1267.19 1513.66 Z\" fill=\"#000000\" fill-rule=\"nonzero\" fill-opacity=\"1\" /><path clip-path=\"url(#clip060)\" d=\"M1297.35 1517.37 Q1293.74 1517.37 1291.91 1520.93 Q1290.1 1524.47 1290.1 1531.6 Q1290.1 1538.71 1291.91 1542.27 Q1293.74 1545.82 1297.35 1545.82 Q1300.98 1545.82 1302.79 1542.27 Q1304.62 1538.71 1304.62 1531.6 Q1304.62 1524.47 1302.79 1520.93 Q1300.98 1517.37 1297.35 1517.37 M1297.35 1513.66 Q1303.16 1513.66 1306.21 1518.27 Q1309.29 1522.85 1309.29 1531.6 Q1309.29 1540.33 1306.21 1544.94 Q1303.16 1549.52 1297.35 1549.52 Q1291.54 1549.52 1288.46 1544.94 Q1285.4 1540.33 1285.4 1531.6 Q1285.4 1522.85 1288.46 1518.27 Q1291.54 1513.66 1297.35 1513.66 Z\" fill=\"#000000\" fill-rule=\"nonzero\" fill-opacity=\"1\" /><path clip-path=\"url(#clip060)\" d=\"M1739.55 1544.91 L1747.19 1544.91 L1747.19 1518.55 L1738.88 1520.21 L1738.88 1515.95 L1747.14 1514.29 L1751.82 1514.29 L1751.82 1544.91 L1759.46 1544.91 L1759.46 1548.85 L1739.55 1548.85 L1739.55 1544.91 Z\" fill=\"#000000\" fill-rule=\"nonzero\" fill-opacity=\"1\" /><path clip-path=\"url(#clip060)\" d=\"M1768.95 1514.29 L1787.3 1514.29 L1787.3 1518.22 L1773.23 1518.22 L1773.23 1526.7 Q1774.25 1526.35 1775.27 1526.19 Q1776.29 1526 1777.3 1526 Q1783.09 1526 1786.47 1529.17 Q1789.85 1532.34 1789.85 1537.76 Q1789.85 1543.34 1786.38 1546.44 Q1782.91 1549.52 1776.59 1549.52 Q1774.41 1549.52 1772.14 1549.15 Q1769.9 1548.78 1767.49 1548.04 L1767.49 1543.34 Q1769.57 1544.47 1771.79 1545.03 Q1774.02 1545.58 1776.49 1545.58 Q1780.5 1545.58 1782.84 1543.48 Q1785.17 1541.37 1785.17 1537.76 Q1785.17 1534.15 1782.84 1532.04 Q1780.5 1529.94 1776.49 1529.94 Q1774.62 1529.94 1772.74 1530.35 Q1770.89 1530.77 1768.95 1531.65 L1768.95 1514.29 Z\" fill=\"#000000\" fill-rule=\"nonzero\" fill-opacity=\"1\" /><path clip-path=\"url(#clip060)\" d=\"M1809.06 1517.37 Q1805.45 1517.37 1803.62 1520.93 Q1801.82 1524.47 1801.82 1531.6 Q1801.82 1538.71 1803.62 1542.27 Q1805.45 1545.82 1809.06 1545.82 Q1812.7 1545.82 1814.5 1542.27 Q1816.33 1538.71 1816.33 1531.6 Q1816.33 1524.47 1814.5 1520.93 Q1812.7 1517.37 1809.06 1517.37 M1809.06 1513.66 Q1814.87 1513.66 1817.93 1518.27 Q1821.01 1522.85 1821.01 1531.6 Q1821.01 1540.33 1817.93 1544.94 Q1814.87 1549.52 1809.06 1549.52 Q1803.25 1549.52 1800.17 1544.94 Q1797.12 1540.33 1797.12 1531.6 Q1797.12 1522.85 1800.17 1518.27 Q1803.25 1513.66 1809.06 1513.66 Z\" fill=\"#000000\" fill-rule=\"nonzero\" fill-opacity=\"1\" /><path clip-path=\"url(#clip060)\" d=\"M2255.35 1544.91 L2271.67 1544.91 L2271.67 1548.85 L2249.72 1548.85 L2249.72 1544.91 Q2252.39 1542.16 2256.97 1537.53 Q2261.58 1532.88 2262.76 1531.53 Q2265 1529.01 2265.88 1527.27 Q2266.78 1525.51 2266.78 1523.82 Q2266.78 1521.07 2264.84 1519.33 Q2262.92 1517.6 2259.82 1517.6 Q2257.62 1517.6 2255.16 1518.36 Q2252.73 1519.13 2249.96 1520.68 L2249.96 1515.95 Q2252.78 1514.82 2255.23 1514.24 Q2257.69 1513.66 2259.72 1513.66 Q2265.09 1513.66 2268.29 1516.35 Q2271.48 1519.03 2271.48 1523.52 Q2271.48 1525.65 2270.67 1527.57 Q2269.89 1529.47 2267.78 1532.07 Q2267.2 1532.74 2264.1 1535.95 Q2261 1539.15 2255.35 1544.91 Z\" fill=\"#000000\" fill-rule=\"nonzero\" fill-opacity=\"1\" /><path clip-path=\"url(#clip060)\" d=\"M2291.48 1517.37 Q2287.87 1517.37 2286.04 1520.93 Q2284.24 1524.47 2284.24 1531.6 Q2284.24 1538.71 2286.04 1542.27 Q2287.87 1545.82 2291.48 1545.82 Q2295.12 1545.82 2296.92 1542.27 Q2298.75 1538.71 2298.75 1531.6 Q2298.75 1524.47 2296.92 1520.93 Q2295.12 1517.37 2291.48 1517.37 M2291.48 1513.66 Q2297.29 1513.66 2300.35 1518.27 Q2303.43 1522.85 2303.43 1531.6 Q2303.43 1540.33 2300.35 1544.94 Q2297.29 1549.52 2291.48 1549.52 Q2285.67 1549.52 2282.59 1544.94 Q2279.54 1540.33 2279.54 1531.6 Q2279.54 1522.85 2282.59 1518.27 Q2285.67 1513.66 2291.48 1513.66 Z\" fill=\"#000000\" fill-rule=\"nonzero\" fill-opacity=\"1\" /><path clip-path=\"url(#clip060)\" d=\"M2321.65 1517.37 Q2318.03 1517.37 2316.21 1520.93 Q2314.4 1524.47 2314.4 1531.6 Q2314.4 1538.71 2316.21 1542.27 Q2318.03 1545.82 2321.65 1545.82 Q2325.28 1545.82 2327.09 1542.27 Q2328.91 1538.71 2328.91 1531.6 Q2328.91 1524.47 2327.09 1520.93 Q2325.28 1517.37 2321.65 1517.37 M2321.65 1513.66 Q2327.46 1513.66 2330.51 1518.27 Q2333.59 1522.85 2333.59 1531.6 Q2333.59 1540.33 2330.51 1544.94 Q2327.46 1549.52 2321.65 1549.52 Q2315.84 1549.52 2312.76 1544.94 Q2309.7 1540.33 2309.7 1531.6 Q2309.7 1522.85 2312.76 1518.27 Q2315.84 1513.66 2321.65 1513.66 Z\" fill=\"#000000\" fill-rule=\"nonzero\" fill-opacity=\"1\" /><polyline clip-path=\"url(#clip060)\" style=\"stroke:#000000; stroke-linecap:round; stroke-linejoin:round; stroke-width:4; stroke-opacity:1; fill:none\" points=\"193.936,1486.45 193.936,47.2441 \"/>\n",
       "<polyline clip-path=\"url(#clip060)\" style=\"stroke:#000000; stroke-linecap:round; stroke-linejoin:round; stroke-width:4; stroke-opacity:1; fill:none\" points=\"193.936,1329.75 212.834,1329.75 \"/>\n",
       "<polyline clip-path=\"url(#clip060)\" style=\"stroke:#000000; stroke-linecap:round; stroke-linejoin:round; stroke-width:4; stroke-opacity:1; fill:none\" points=\"193.936,913.727 212.834,913.727 \"/>\n",
       "<polyline clip-path=\"url(#clip060)\" style=\"stroke:#000000; stroke-linecap:round; stroke-linejoin:round; stroke-width:4; stroke-opacity:1; fill:none\" points=\"193.936,497.703 212.834,497.703 \"/>\n",
       "<polyline clip-path=\"url(#clip060)\" style=\"stroke:#000000; stroke-linecap:round; stroke-linejoin:round; stroke-width:4; stroke-opacity:1; fill:none\" points=\"193.936,81.6797 212.834,81.6797 \"/>\n",
       "<path clip-path=\"url(#clip060)\" d=\"M51.9875 1330.2 L81.6633 1330.2 L81.6633 1334.14 L51.9875 1334.14 L51.9875 1330.2 Z\" fill=\"#000000\" fill-rule=\"nonzero\" fill-opacity=\"1\" /><path clip-path=\"url(#clip060)\" d=\"M105.922 1328.4 Q109.279 1329.11 111.154 1331.38 Q113.052 1333.65 113.052 1336.98 Q113.052 1342.1 109.533 1344.9 Q106.015 1347.7 99.5335 1347.7 Q97.3576 1347.7 95.0428 1347.26 Q92.7512 1346.84 90.2975 1345.99 L90.2975 1341.47 Q92.2419 1342.61 94.5567 1343.19 Q96.8715 1343.77 99.3946 1343.77 Q103.793 1343.77 106.084 1342.03 Q108.399 1340.29 108.399 1336.98 Q108.399 1333.93 106.246 1332.22 Q104.117 1330.48 100.297 1330.48 L96.2697 1330.48 L96.2697 1326.64 L100.483 1326.64 Q103.932 1326.64 105.76 1325.27 Q107.589 1323.88 107.589 1321.29 Q107.589 1318.63 105.691 1317.22 Q103.816 1315.78 100.297 1315.78 Q98.3761 1315.78 96.1771 1316.2 Q93.978 1316.61 91.3391 1317.49 L91.3391 1313.33 Q94.0012 1312.59 96.316 1312.22 Q98.6539 1311.85 100.714 1311.85 Q106.038 1311.85 109.14 1314.28 Q112.242 1316.68 112.242 1320.8 Q112.242 1323.67 110.598 1325.66 Q108.955 1327.63 105.922 1328.4 Z\" fill=\"#000000\" fill-rule=\"nonzero\" fill-opacity=\"1\" /><path clip-path=\"url(#clip060)\" d=\"M121.918 1341.15 L126.802 1341.15 L126.802 1347.03 L121.918 1347.03 L121.918 1341.15 Z\" fill=\"#000000\" fill-rule=\"nonzero\" fill-opacity=\"1\" /><path clip-path=\"url(#clip060)\" d=\"M137.033 1312.47 L155.39 1312.47 L155.39 1316.41 L141.316 1316.41 L141.316 1324.88 Q142.334 1324.53 143.353 1324.37 Q144.371 1324.18 145.39 1324.18 Q151.177 1324.18 154.556 1327.35 Q157.936 1330.53 157.936 1335.94 Q157.936 1341.52 154.464 1344.62 Q150.992 1347.7 144.672 1347.7 Q142.496 1347.7 140.228 1347.33 Q137.982 1346.96 135.575 1346.22 L135.575 1341.52 Q137.658 1342.66 139.881 1343.21 Q142.103 1343.77 144.58 1343.77 Q148.584 1343.77 150.922 1341.66 Q153.26 1339.55 153.26 1335.94 Q153.26 1332.33 150.922 1330.22 Q148.584 1328.12 144.58 1328.12 Q142.705 1328.12 140.83 1328.53 Q138.978 1328.95 137.033 1329.83 L137.033 1312.47 Z\" fill=\"#000000\" fill-rule=\"nonzero\" fill-opacity=\"1\" /><path clip-path=\"url(#clip060)\" d=\"M50.9921 914.178 L80.6679 914.178 L80.6679 918.113 L50.9921 918.113 L50.9921 914.178 Z\" fill=\"#000000\" fill-rule=\"nonzero\" fill-opacity=\"1\" /><path clip-path=\"url(#clip060)\" d=\"M104.927 912.373 Q108.283 913.09 110.158 915.359 Q112.057 917.627 112.057 920.96 Q112.057 926.076 108.538 928.877 Q105.02 931.678 98.5382 931.678 Q96.3623 931.678 94.0475 931.238 Q91.7558 930.821 89.3021 929.965 L89.3021 925.451 Q91.2465 926.585 93.5613 927.164 Q95.8761 927.743 98.3993 927.743 Q102.797 927.743 105.089 926.007 Q107.404 924.271 107.404 920.96 Q107.404 917.905 105.251 916.192 Q103.121 914.456 99.3021 914.456 L95.2743 914.456 L95.2743 910.613 L99.4872 910.613 Q102.936 910.613 104.765 909.248 Q106.594 907.859 106.594 905.266 Q106.594 902.604 104.696 901.192 Q102.821 899.757 99.3021 899.757 Q97.3808 899.757 95.1817 900.173 Q92.9826 900.59 90.3438 901.47 L90.3438 897.303 Q93.0058 896.562 95.3206 896.192 Q97.6585 895.822 99.7187 895.822 Q105.043 895.822 108.145 898.252 Q111.246 900.66 111.246 904.78 Q111.246 907.65 109.603 909.641 Q107.959 911.609 104.927 912.373 Z\" fill=\"#000000\" fill-rule=\"nonzero\" fill-opacity=\"1\" /><path clip-path=\"url(#clip060)\" d=\"M120.922 925.127 L125.807 925.127 L125.807 931.007 L120.922 931.007 L120.922 925.127 Z\" fill=\"#000000\" fill-rule=\"nonzero\" fill-opacity=\"1\" /><path clip-path=\"url(#clip060)\" d=\"M145.992 899.525 Q142.381 899.525 140.552 903.09 Q138.746 906.632 138.746 913.761 Q138.746 920.868 140.552 924.433 Q142.381 927.974 145.992 927.974 Q149.626 927.974 151.431 924.433 Q153.26 920.868 153.26 913.761 Q153.26 906.632 151.431 903.09 Q149.626 899.525 145.992 899.525 M145.992 895.822 Q151.802 895.822 154.857 900.428 Q157.936 905.011 157.936 913.761 Q157.936 922.488 154.857 927.095 Q151.802 931.678 145.992 931.678 Q140.181 931.678 137.103 927.095 Q134.047 922.488 134.047 913.761 Q134.047 905.011 137.103 900.428 Q140.181 895.822 145.992 895.822 Z\" fill=\"#000000\" fill-rule=\"nonzero\" fill-opacity=\"1\" /><path clip-path=\"url(#clip060)\" d=\"M51.9875 498.155 L81.6633 498.155 L81.6633 502.09 L51.9875 502.09 L51.9875 498.155 Z\" fill=\"#000000\" fill-rule=\"nonzero\" fill-opacity=\"1\" /><path clip-path=\"url(#clip060)\" d=\"M95.7836 511.048 L112.103 511.048 L112.103 514.983 L90.1586 514.983 L90.1586 511.048 Q92.8206 508.293 97.4039 503.664 Q102.01 499.011 103.191 497.668 Q105.436 495.145 106.316 493.409 Q107.219 491.65 107.219 489.96 Q107.219 487.206 105.274 485.469 Q103.353 483.733 100.251 483.733 Q98.0521 483.733 95.5984 484.497 Q93.1678 485.261 90.3901 486.812 L90.3901 482.09 Q93.2141 480.956 95.6678 480.377 Q98.1215 479.798 100.159 479.798 Q105.529 479.798 108.723 482.483 Q111.918 485.169 111.918 489.659 Q111.918 491.789 111.108 493.71 Q110.321 495.608 108.214 498.201 Q107.635 498.872 104.534 502.09 Q101.432 505.284 95.7836 511.048 Z\" fill=\"#000000\" fill-rule=\"nonzero\" fill-opacity=\"1\" /><path clip-path=\"url(#clip060)\" d=\"M121.918 509.104 L126.802 509.104 L126.802 514.983 L121.918 514.983 L121.918 509.104 Z\" fill=\"#000000\" fill-rule=\"nonzero\" fill-opacity=\"1\" /><path clip-path=\"url(#clip060)\" d=\"M137.033 480.423 L155.39 480.423 L155.39 484.358 L141.316 484.358 L141.316 492.831 Q142.334 492.483 143.353 492.321 Q144.371 492.136 145.39 492.136 Q151.177 492.136 154.556 495.307 Q157.936 498.479 157.936 503.895 Q157.936 509.474 154.464 512.576 Q150.992 515.654 144.672 515.654 Q142.496 515.654 140.228 515.284 Q137.982 514.914 135.575 514.173 L135.575 509.474 Q137.658 510.608 139.881 511.164 Q142.103 511.719 144.58 511.719 Q148.584 511.719 150.922 509.613 Q153.26 507.506 153.26 503.895 Q153.26 500.284 150.922 498.178 Q148.584 496.071 144.58 496.071 Q142.705 496.071 140.83 496.488 Q138.978 496.905 137.033 497.784 L137.033 480.423 Z\" fill=\"#000000\" fill-rule=\"nonzero\" fill-opacity=\"1\" /><path clip-path=\"url(#clip060)\" d=\"M50.9921 82.1311 L80.6679 82.1311 L80.6679 86.0663 L50.9921 86.0663 L50.9921 82.1311 Z\" fill=\"#000000\" fill-rule=\"nonzero\" fill-opacity=\"1\" /><path clip-path=\"url(#clip060)\" d=\"M94.7882 95.0246 L111.108 95.0246 L111.108 98.9597 L89.1632 98.9597 L89.1632 95.0246 Q91.8252 92.27 96.4085 87.6404 Q101.015 82.9876 102.196 81.645 Q104.441 79.1219 105.321 77.3858 Q106.223 75.6265 106.223 73.9367 Q106.223 71.1821 104.279 69.446 Q102.358 67.7099 99.2558 67.7099 Q97.0567 67.7099 94.603 68.4738 Q92.1725 69.2377 89.3947 70.7886 L89.3947 66.0664 Q92.2188 64.9321 94.6724 64.3534 Q97.1261 63.7747 99.1632 63.7747 Q104.534 63.7747 107.728 66.4599 Q110.922 69.1451 110.922 73.6358 Q110.922 75.7654 110.112 77.6867 Q109.325 79.5848 107.219 82.1774 Q106.64 82.8487 103.538 86.0663 Q100.436 89.2607 94.7882 95.0246 Z\" fill=\"#000000\" fill-rule=\"nonzero\" fill-opacity=\"1\" /><path clip-path=\"url(#clip060)\" d=\"M120.922 93.0801 L125.807 93.0801 L125.807 98.9597 L120.922 98.9597 L120.922 93.0801 Z\" fill=\"#000000\" fill-rule=\"nonzero\" fill-opacity=\"1\" /><path clip-path=\"url(#clip060)\" d=\"M145.992 67.4784 Q142.381 67.4784 140.552 71.0432 Q138.746 74.5849 138.746 81.7145 Q138.746 88.8209 140.552 92.3857 Q142.381 95.9274 145.992 95.9274 Q149.626 95.9274 151.431 92.3857 Q153.26 88.8209 153.26 81.7145 Q153.26 74.5849 151.431 71.0432 Q149.626 67.4784 145.992 67.4784 M145.992 63.7747 Q151.802 63.7747 154.857 68.3812 Q157.936 72.9645 157.936 81.7145 Q157.936 90.4413 154.857 95.0477 Q151.802 99.631 145.992 99.631 Q140.181 99.631 137.103 95.0477 Q134.047 90.4413 134.047 81.7145 Q134.047 72.9645 137.103 68.3812 Q140.181 63.7747 145.992 63.7747 Z\" fill=\"#000000\" fill-rule=\"nonzero\" fill-opacity=\"1\" /><polyline clip-path=\"url(#clip062)\" style=\"stroke:#009af9; stroke-linecap:round; stroke-linejoin:round; stroke-width:4; stroke-opacity:1; fill:none\" points=\"255.035,167.761 265.269,1426.67 275.503,1445.72 285.738,1433.36 295.972,1434.13 306.206,1434.63 316.44,1435.03 326.675,1435.38 336.909,1435.7 347.143,1436 357.378,1436.28 367.612,1436.54 377.846,1436.8 388.08,1437.04 398.315,1437.28 408.549,1437.51 418.783,1437.73 429.018,1437.95 439.252,1438.15 449.486,1438.36 459.72,157.048 469.955,1184.34 480.189,1199.88 490.423,1186.21 500.657,1186.67 510.892,1187.01 521.126,1187.3 531.36,1187.56 541.595,1187.8 551.829,1188.03 562.063,1188.26 572.297,1188.47 582.532,1188.68 592.766,1188.88 603,1189.07 613.235,1189.26 623.469,1189.45 633.703,1189.63 643.937,1189.81 654.172,1189.98 664.406,147.098 674.64,1040.78 684.875,1056.76 695.109,1042.27 705.343,1042.6 715.577,1042.87 725.812,1043.11 736.046,1043.32 746.28,1043.53 756.515,1043.73 766.749,1043.92 776.983,1044.1 787.217,1044.28 797.452,1044.46 807.686,1044.63 817.92,1044.8 828.155,1044.96 838.389,1045.12 848.623,1045.28 858.857,1045.44 869.092,137.844 879.326,938.367 889.56,955.783 899.795,940.645 910.029,940.883 920.263,941.121 930.497,941.326 940.732,941.516 950.966,941.698 961.2,941.872 971.435,942.042 981.669,942.207 991.903,942.367 1002.14,942.524 1012.37,942.678 1022.61,942.829 1032.84,942.977 1043.07,943.122 1053.31,943.265 1063.54,943.406 1073.78,129.233 1084.01,858.687 1094.25,877.913 1104.48,862.249 1114.71,862.409 1124.95,862.623 1135.18,862.803 1145.42,862.972 1155.65,863.133 1165.89,863.289 1176.12,863.441 1186.35,863.588 1196.59,863.731 1206.82,863.872 1217.06,864.009 1227.29,864.144 1237.53,864.276 1247.76,864.406 1257.99,864.533 1268.23,864.658 1278.46,121.21 1288.7,793.449 1298.93,814.659 1309.17,798.562 1319.4,798.641 1329.63,798.83 1339.87,798.984 1350.1,799.127 1360.34,799.264 1370.57,799.395 1380.81,799.522 1391.04,799.644 1401.27,799.763 1411.51,799.877 1421.74,799.989 1431.98,800.096 1442.21,800.2 1452.45,800.3 1462.68,800.397 1472.91,800.49 1483.15,113.696 1493.38,738.058 1503.62,761.42 1513.85,744.97 1524.09,744.936 1534.32,745.071 1544.55,745.168 1554.79,745.25 1565.02,745.325 1575.26,745.388 1585.49,745.447 1595.73,745.493 1605.96,745.534 1616.19,745.562 1626.43,745.585 1636.66,745.593 1646.9,745.595 1657.13,745.58 1667.37,745.56 1677.6,745.52 1687.83,106.461 1698.07,689.21 1708.3,715.17 1718.54,698.349 1728.77,698.037 1739.01,697.928 1749.24,697.767 1759.47,697.561 1769.71,697.334 1779.94,697.06 1790.18,696.759 1800.41,696.409 1810.65,696.021 1820.88,695.582 1831.11,695.089 1841.35,694.55 1851.58,693.935 1861.82,693.286 1872.05,692.53 1882.29,691.768 1892.52,98.1969 1902.75,641.686 1912.99,672.527 1923.22,654.547 1933.46,652.677 1943.69,651.099 1953.93,649.035 1964.16,647.258 1974.39,644.901 1984.63,643.154 1994.86,640.691 2005.1,639.282 2015.33,637.022 2025.57,636.226 2035.8,634.441 2046.03,634.273 2056.27,632.975 2066.5,633.203 2076.74,632.176 2086.97,632.577 2097.21,87.9763 2107.44,596.68 2117.67,637.54 2127.91,612.564 2138.14,601.101 2148.38,597.965 2158.61,588.07 2168.85,591.105 2179.08,591.269 2189.31,593.394 2199.55,593.67 2209.78,594.019 2220.02,591.573 2230.25,593.2 2240.49,591.888 2250.72,593.506 2260.95,592.263 2271.19,593.729 2281.42,591.987 2291.66,593.763 \"/>\n",
       "<path clip-path=\"url(#clip060)\" d=\"M2012.48 1438.47 L2280.8 1438.47 L2280.8 1334.79 L2012.48 1334.79  Z\" fill=\"#ffffff\" fill-rule=\"evenodd\" fill-opacity=\"1\"/>\n",
       "<polyline clip-path=\"url(#clip060)\" style=\"stroke:#000000; stroke-linecap:round; stroke-linejoin:round; stroke-width:4; stroke-opacity:1; fill:none\" points=\"2012.48,1438.47 2280.8,1438.47 2280.8,1334.79 2012.48,1334.79 2012.48,1438.47 \"/>\n",
       "<polyline clip-path=\"url(#clip060)\" style=\"stroke:#009af9; stroke-linecap:round; stroke-linejoin:round; stroke-width:4; stroke-opacity:1; fill:none\" points=\"2036.47,1386.63 2180.39,1386.63 \"/>\n",
       "<path clip-path=\"url(#clip060)\" d=\"M2218.22 1406.32 Q2216.42 1410.95 2214.7 1412.36 Q2212.99 1413.78 2210.12 1413.78 L2206.72 1413.78 L2206.72 1410.21 L2209.22 1410.21 Q2210.98 1410.21 2211.95 1409.38 Q2212.92 1408.54 2214.1 1405.44 L2214.86 1403.5 L2204.38 1377.99 L2208.89 1377.99 L2216.99 1398.27 L2225.1 1377.99 L2229.61 1377.99 L2218.22 1406.32 Z\" fill=\"#000000\" fill-rule=\"nonzero\" fill-opacity=\"1\" /><path clip-path=\"url(#clip060)\" d=\"M2236.9 1399.98 L2244.54 1399.98 L2244.54 1373.61 L2236.23 1375.28 L2236.23 1371.02 L2244.49 1369.35 L2249.17 1369.35 L2249.17 1399.98 L2256.81 1399.98 L2256.81 1403.91 L2236.9 1403.91 L2236.9 1399.98 Z\" fill=\"#000000\" fill-rule=\"nonzero\" fill-opacity=\"1\" /></svg>\n"
      ],
      "text/html": [
       "<?xml version=\"1.0\" encoding=\"utf-8\"?>\n",
       "<svg xmlns=\"http://www.w3.org/2000/svg\" xmlns:xlink=\"http://www.w3.org/1999/xlink\" width=\"600\" height=\"400\" viewBox=\"0 0 2400 1600\">\n",
       "<defs>\n",
       "  <clipPath id=\"clip110\">\n",
       "    <rect x=\"0\" y=\"0\" width=\"2400\" height=\"1600\"/>\n",
       "  </clipPath>\n",
       "</defs>\n",
       "<path clip-path=\"url(#clip110)\" d=\"M0 1600 L2400 1600 L2400 0 L0 0  Z\" fill=\"#ffffff\" fill-rule=\"evenodd\" fill-opacity=\"1\"/>\n",
       "<defs>\n",
       "  <clipPath id=\"clip111\">\n",
       "    <rect x=\"480\" y=\"0\" width=\"1681\" height=\"1600\"/>\n",
       "  </clipPath>\n",
       "</defs>\n",
       "<path clip-path=\"url(#clip110)\" d=\"M193.936 1486.45 L2352.76 1486.45 L2352.76 47.2441 L193.936 47.2441  Z\" fill=\"#ffffff\" fill-rule=\"evenodd\" fill-opacity=\"1\"/>\n",
       "<defs>\n",
       "  <clipPath id=\"clip112\">\n",
       "    <rect x=\"193\" y=\"47\" width=\"2160\" height=\"1440\"/>\n",
       "  </clipPath>\n",
       "</defs>\n",
       "<polyline clip-path=\"url(#clip112)\" style=\"stroke:#000000; stroke-linecap:round; stroke-linejoin:round; stroke-width:2; stroke-opacity:0.1; fill:none\" points=\"244.8,1486.45 244.8,47.2441 \"/>\n",
       "<polyline clip-path=\"url(#clip112)\" style=\"stroke:#000000; stroke-linecap:round; stroke-linejoin:round; stroke-width:2; stroke-opacity:0.1; fill:none\" points=\"756.515,1486.45 756.515,47.2441 \"/>\n",
       "<polyline clip-path=\"url(#clip112)\" style=\"stroke:#000000; stroke-linecap:round; stroke-linejoin:round; stroke-width:2; stroke-opacity:0.1; fill:none\" points=\"1268.23,1486.45 1268.23,47.2441 \"/>\n",
       "<polyline clip-path=\"url(#clip112)\" style=\"stroke:#000000; stroke-linecap:round; stroke-linejoin:round; stroke-width:2; stroke-opacity:0.1; fill:none\" points=\"1779.94,1486.45 1779.94,47.2441 \"/>\n",
       "<polyline clip-path=\"url(#clip112)\" style=\"stroke:#000000; stroke-linecap:round; stroke-linejoin:round; stroke-width:2; stroke-opacity:0.1; fill:none\" points=\"2291.66,1486.45 2291.66,47.2441 \"/>\n",
       "<polyline clip-path=\"url(#clip112)\" style=\"stroke:#000000; stroke-linecap:round; stroke-linejoin:round; stroke-width:2; stroke-opacity:0.1; fill:none\" points=\"193.936,1329.75 2352.76,1329.75 \"/>\n",
       "<polyline clip-path=\"url(#clip112)\" style=\"stroke:#000000; stroke-linecap:round; stroke-linejoin:round; stroke-width:2; stroke-opacity:0.1; fill:none\" points=\"193.936,913.727 2352.76,913.727 \"/>\n",
       "<polyline clip-path=\"url(#clip112)\" style=\"stroke:#000000; stroke-linecap:round; stroke-linejoin:round; stroke-width:2; stroke-opacity:0.1; fill:none\" points=\"193.936,497.703 2352.76,497.703 \"/>\n",
       "<polyline clip-path=\"url(#clip112)\" style=\"stroke:#000000; stroke-linecap:round; stroke-linejoin:round; stroke-width:2; stroke-opacity:0.1; fill:none\" points=\"193.936,81.6797 2352.76,81.6797 \"/>\n",
       "<polyline clip-path=\"url(#clip110)\" style=\"stroke:#000000; stroke-linecap:round; stroke-linejoin:round; stroke-width:4; stroke-opacity:1; fill:none\" points=\"193.936,1486.45 2352.76,1486.45 \"/>\n",
       "<polyline clip-path=\"url(#clip110)\" style=\"stroke:#000000; stroke-linecap:round; stroke-linejoin:round; stroke-width:4; stroke-opacity:1; fill:none\" points=\"244.8,1486.45 244.8,1467.55 \"/>\n",
       "<polyline clip-path=\"url(#clip110)\" style=\"stroke:#000000; stroke-linecap:round; stroke-linejoin:round; stroke-width:4; stroke-opacity:1; fill:none\" points=\"756.515,1486.45 756.515,1467.55 \"/>\n",
       "<polyline clip-path=\"url(#clip110)\" style=\"stroke:#000000; stroke-linecap:round; stroke-linejoin:round; stroke-width:4; stroke-opacity:1; fill:none\" points=\"1268.23,1486.45 1268.23,1467.55 \"/>\n",
       "<polyline clip-path=\"url(#clip110)\" style=\"stroke:#000000; stroke-linecap:round; stroke-linejoin:round; stroke-width:4; stroke-opacity:1; fill:none\" points=\"1779.94,1486.45 1779.94,1467.55 \"/>\n",
       "<polyline clip-path=\"url(#clip110)\" style=\"stroke:#000000; stroke-linecap:round; stroke-linejoin:round; stroke-width:4; stroke-opacity:1; fill:none\" points=\"2291.66,1486.45 2291.66,1467.55 \"/>\n",
       "<path clip-path=\"url(#clip110)\" d=\"M244.8 1517.37 Q241.189 1517.37 239.361 1520.93 Q237.555 1524.47 237.555 1531.6 Q237.555 1538.71 239.361 1542.27 Q241.189 1545.82 244.8 1545.82 Q248.435 1545.82 250.24 1542.27 Q252.069 1538.71 252.069 1531.6 Q252.069 1524.47 250.24 1520.93 Q248.435 1517.37 244.8 1517.37 M244.8 1513.66 Q250.611 1513.66 253.666 1518.27 Q256.745 1522.85 256.745 1531.6 Q256.745 1540.33 253.666 1544.94 Q250.611 1549.52 244.8 1549.52 Q238.99 1549.52 235.912 1544.94 Q232.856 1540.33 232.856 1531.6 Q232.856 1522.85 235.912 1518.27 Q238.99 1513.66 244.8 1513.66 Z\" fill=\"#000000\" fill-rule=\"nonzero\" fill-opacity=\"1\" /><path clip-path=\"url(#clip110)\" d=\"M731.214 1514.29 L749.57 1514.29 L749.57 1518.22 L735.496 1518.22 L735.496 1526.7 Q736.515 1526.35 737.533 1526.19 Q738.552 1526 739.57 1526 Q745.357 1526 748.737 1529.17 Q752.116 1532.34 752.116 1537.76 Q752.116 1543.34 748.644 1546.44 Q745.172 1549.52 738.853 1549.52 Q736.677 1549.52 734.408 1549.15 Q732.163 1548.78 729.755 1548.04 L729.755 1543.34 Q731.839 1544.47 734.061 1545.03 Q736.283 1545.58 738.76 1545.58 Q742.765 1545.58 745.103 1543.48 Q747.441 1541.37 747.441 1537.76 Q747.441 1534.15 745.103 1532.04 Q742.765 1529.94 738.76 1529.94 Q736.885 1529.94 735.01 1530.35 Q733.158 1530.77 731.214 1531.65 L731.214 1514.29 Z\" fill=\"#000000\" fill-rule=\"nonzero\" fill-opacity=\"1\" /><path clip-path=\"url(#clip110)\" d=\"M771.329 1517.37 Q767.718 1517.37 765.89 1520.93 Q764.084 1524.47 764.084 1531.6 Q764.084 1538.71 765.89 1542.27 Q767.718 1545.82 771.329 1545.82 Q774.964 1545.82 776.769 1542.27 Q778.598 1538.71 778.598 1531.6 Q778.598 1524.47 776.769 1520.93 Q774.964 1517.37 771.329 1517.37 M771.329 1513.66 Q777.139 1513.66 780.195 1518.27 Q783.274 1522.85 783.274 1531.6 Q783.274 1540.33 780.195 1544.94 Q777.139 1549.52 771.329 1549.52 Q765.519 1549.52 762.44 1544.94 Q759.385 1540.33 759.385 1531.6 Q759.385 1522.85 762.44 1518.27 Q765.519 1513.66 771.329 1513.66 Z\" fill=\"#000000\" fill-rule=\"nonzero\" fill-opacity=\"1\" /><path clip-path=\"url(#clip110)\" d=\"M1227.84 1544.91 L1235.47 1544.91 L1235.47 1518.55 L1227.16 1520.21 L1227.16 1515.95 L1235.43 1514.29 L1240.1 1514.29 L1240.1 1544.91 L1247.74 1544.91 L1247.74 1548.85 L1227.84 1548.85 L1227.84 1544.91 Z\" fill=\"#000000\" fill-rule=\"nonzero\" fill-opacity=\"1\" /><path clip-path=\"url(#clip110)\" d=\"M1267.19 1517.37 Q1263.58 1517.37 1261.75 1520.93 Q1259.94 1524.47 1259.94 1531.6 Q1259.94 1538.71 1261.75 1542.27 Q1263.58 1545.82 1267.19 1545.82 Q1270.82 1545.82 1272.63 1542.27 Q1274.46 1538.71 1274.46 1531.6 Q1274.46 1524.47 1272.63 1520.93 Q1270.82 1517.37 1267.19 1517.37 M1267.19 1513.66 Q1273 1513.66 1276.05 1518.27 Q1279.13 1522.85 1279.13 1531.6 Q1279.13 1540.33 1276.05 1544.94 Q1273 1549.52 1267.19 1549.52 Q1261.38 1549.52 1258.3 1544.94 Q1255.24 1540.33 1255.24 1531.6 Q1255.24 1522.85 1258.3 1518.27 Q1261.38 1513.66 1267.19 1513.66 Z\" fill=\"#000000\" fill-rule=\"nonzero\" fill-opacity=\"1\" /><path clip-path=\"url(#clip110)\" d=\"M1297.35 1517.37 Q1293.74 1517.37 1291.91 1520.93 Q1290.1 1524.47 1290.1 1531.6 Q1290.1 1538.71 1291.91 1542.27 Q1293.74 1545.82 1297.35 1545.82 Q1300.98 1545.82 1302.79 1542.27 Q1304.62 1538.71 1304.62 1531.6 Q1304.62 1524.47 1302.79 1520.93 Q1300.98 1517.37 1297.35 1517.37 M1297.35 1513.66 Q1303.16 1513.66 1306.21 1518.27 Q1309.29 1522.85 1309.29 1531.6 Q1309.29 1540.33 1306.21 1544.94 Q1303.16 1549.52 1297.35 1549.52 Q1291.54 1549.52 1288.46 1544.94 Q1285.4 1540.33 1285.4 1531.6 Q1285.4 1522.85 1288.46 1518.27 Q1291.54 1513.66 1297.35 1513.66 Z\" fill=\"#000000\" fill-rule=\"nonzero\" fill-opacity=\"1\" /><path clip-path=\"url(#clip110)\" d=\"M1739.55 1544.91 L1747.19 1544.91 L1747.19 1518.55 L1738.88 1520.21 L1738.88 1515.95 L1747.14 1514.29 L1751.82 1514.29 L1751.82 1544.91 L1759.46 1544.91 L1759.46 1548.85 L1739.55 1548.85 L1739.55 1544.91 Z\" fill=\"#000000\" fill-rule=\"nonzero\" fill-opacity=\"1\" /><path clip-path=\"url(#clip110)\" d=\"M1768.95 1514.29 L1787.3 1514.29 L1787.3 1518.22 L1773.23 1518.22 L1773.23 1526.7 Q1774.25 1526.35 1775.27 1526.19 Q1776.29 1526 1777.3 1526 Q1783.09 1526 1786.47 1529.17 Q1789.85 1532.34 1789.85 1537.76 Q1789.85 1543.34 1786.38 1546.44 Q1782.91 1549.52 1776.59 1549.52 Q1774.41 1549.52 1772.14 1549.15 Q1769.9 1548.78 1767.49 1548.04 L1767.49 1543.34 Q1769.57 1544.47 1771.79 1545.03 Q1774.02 1545.58 1776.49 1545.58 Q1780.5 1545.58 1782.84 1543.48 Q1785.17 1541.37 1785.17 1537.76 Q1785.17 1534.15 1782.84 1532.04 Q1780.5 1529.94 1776.49 1529.94 Q1774.62 1529.94 1772.74 1530.35 Q1770.89 1530.77 1768.95 1531.65 L1768.95 1514.29 Z\" fill=\"#000000\" fill-rule=\"nonzero\" fill-opacity=\"1\" /><path clip-path=\"url(#clip110)\" d=\"M1809.06 1517.37 Q1805.45 1517.37 1803.62 1520.93 Q1801.82 1524.47 1801.82 1531.6 Q1801.82 1538.71 1803.62 1542.27 Q1805.45 1545.82 1809.06 1545.82 Q1812.7 1545.82 1814.5 1542.27 Q1816.33 1538.71 1816.33 1531.6 Q1816.33 1524.47 1814.5 1520.93 Q1812.7 1517.37 1809.06 1517.37 M1809.06 1513.66 Q1814.87 1513.66 1817.93 1518.27 Q1821.01 1522.85 1821.01 1531.6 Q1821.01 1540.33 1817.93 1544.94 Q1814.87 1549.52 1809.06 1549.52 Q1803.25 1549.52 1800.17 1544.94 Q1797.12 1540.33 1797.12 1531.6 Q1797.12 1522.85 1800.17 1518.27 Q1803.25 1513.66 1809.06 1513.66 Z\" fill=\"#000000\" fill-rule=\"nonzero\" fill-opacity=\"1\" /><path clip-path=\"url(#clip110)\" d=\"M2255.35 1544.91 L2271.67 1544.91 L2271.67 1548.85 L2249.72 1548.85 L2249.72 1544.91 Q2252.39 1542.16 2256.97 1537.53 Q2261.58 1532.88 2262.76 1531.53 Q2265 1529.01 2265.88 1527.27 Q2266.78 1525.51 2266.78 1523.82 Q2266.78 1521.07 2264.84 1519.33 Q2262.92 1517.6 2259.82 1517.6 Q2257.62 1517.6 2255.16 1518.36 Q2252.73 1519.13 2249.96 1520.68 L2249.96 1515.95 Q2252.78 1514.82 2255.23 1514.24 Q2257.69 1513.66 2259.72 1513.66 Q2265.09 1513.66 2268.29 1516.35 Q2271.48 1519.03 2271.48 1523.52 Q2271.48 1525.65 2270.67 1527.57 Q2269.89 1529.47 2267.78 1532.07 Q2267.2 1532.74 2264.1 1535.95 Q2261 1539.15 2255.35 1544.91 Z\" fill=\"#000000\" fill-rule=\"nonzero\" fill-opacity=\"1\" /><path clip-path=\"url(#clip110)\" d=\"M2291.48 1517.37 Q2287.87 1517.37 2286.04 1520.93 Q2284.24 1524.47 2284.24 1531.6 Q2284.24 1538.71 2286.04 1542.27 Q2287.87 1545.82 2291.48 1545.82 Q2295.12 1545.82 2296.92 1542.27 Q2298.75 1538.71 2298.75 1531.6 Q2298.75 1524.47 2296.92 1520.93 Q2295.12 1517.37 2291.48 1517.37 M2291.48 1513.66 Q2297.29 1513.66 2300.35 1518.27 Q2303.43 1522.85 2303.43 1531.6 Q2303.43 1540.33 2300.35 1544.94 Q2297.29 1549.52 2291.48 1549.52 Q2285.67 1549.52 2282.59 1544.94 Q2279.54 1540.33 2279.54 1531.6 Q2279.54 1522.85 2282.59 1518.27 Q2285.67 1513.66 2291.48 1513.66 Z\" fill=\"#000000\" fill-rule=\"nonzero\" fill-opacity=\"1\" /><path clip-path=\"url(#clip110)\" d=\"M2321.65 1517.37 Q2318.03 1517.37 2316.21 1520.93 Q2314.4 1524.47 2314.4 1531.6 Q2314.4 1538.71 2316.21 1542.27 Q2318.03 1545.82 2321.65 1545.82 Q2325.28 1545.82 2327.09 1542.27 Q2328.91 1538.71 2328.91 1531.6 Q2328.91 1524.47 2327.09 1520.93 Q2325.28 1517.37 2321.65 1517.37 M2321.65 1513.66 Q2327.46 1513.66 2330.51 1518.27 Q2333.59 1522.85 2333.59 1531.6 Q2333.59 1540.33 2330.51 1544.94 Q2327.46 1549.52 2321.65 1549.52 Q2315.84 1549.52 2312.76 1544.94 Q2309.7 1540.33 2309.7 1531.6 Q2309.7 1522.85 2312.76 1518.27 Q2315.84 1513.66 2321.65 1513.66 Z\" fill=\"#000000\" fill-rule=\"nonzero\" fill-opacity=\"1\" /><polyline clip-path=\"url(#clip110)\" style=\"stroke:#000000; stroke-linecap:round; stroke-linejoin:round; stroke-width:4; stroke-opacity:1; fill:none\" points=\"193.936,1486.45 193.936,47.2441 \"/>\n",
       "<polyline clip-path=\"url(#clip110)\" style=\"stroke:#000000; stroke-linecap:round; stroke-linejoin:round; stroke-width:4; stroke-opacity:1; fill:none\" points=\"193.936,1329.75 212.834,1329.75 \"/>\n",
       "<polyline clip-path=\"url(#clip110)\" style=\"stroke:#000000; stroke-linecap:round; stroke-linejoin:round; stroke-width:4; stroke-opacity:1; fill:none\" points=\"193.936,913.727 212.834,913.727 \"/>\n",
       "<polyline clip-path=\"url(#clip110)\" style=\"stroke:#000000; stroke-linecap:round; stroke-linejoin:round; stroke-width:4; stroke-opacity:1; fill:none\" points=\"193.936,497.703 212.834,497.703 \"/>\n",
       "<polyline clip-path=\"url(#clip110)\" style=\"stroke:#000000; stroke-linecap:round; stroke-linejoin:round; stroke-width:4; stroke-opacity:1; fill:none\" points=\"193.936,81.6797 212.834,81.6797 \"/>\n",
       "<path clip-path=\"url(#clip110)\" d=\"M51.9875 1330.2 L81.6633 1330.2 L81.6633 1334.14 L51.9875 1334.14 L51.9875 1330.2 Z\" fill=\"#000000\" fill-rule=\"nonzero\" fill-opacity=\"1\" /><path clip-path=\"url(#clip110)\" d=\"M105.922 1328.4 Q109.279 1329.11 111.154 1331.38 Q113.052 1333.65 113.052 1336.98 Q113.052 1342.1 109.533 1344.9 Q106.015 1347.7 99.5335 1347.7 Q97.3576 1347.7 95.0428 1347.26 Q92.7512 1346.84 90.2975 1345.99 L90.2975 1341.47 Q92.2419 1342.61 94.5567 1343.19 Q96.8715 1343.77 99.3946 1343.77 Q103.793 1343.77 106.084 1342.03 Q108.399 1340.29 108.399 1336.98 Q108.399 1333.93 106.246 1332.22 Q104.117 1330.48 100.297 1330.48 L96.2697 1330.48 L96.2697 1326.64 L100.483 1326.64 Q103.932 1326.64 105.76 1325.27 Q107.589 1323.88 107.589 1321.29 Q107.589 1318.63 105.691 1317.22 Q103.816 1315.78 100.297 1315.78 Q98.3761 1315.78 96.1771 1316.2 Q93.978 1316.61 91.3391 1317.49 L91.3391 1313.33 Q94.0012 1312.59 96.316 1312.22 Q98.6539 1311.85 100.714 1311.85 Q106.038 1311.85 109.14 1314.28 Q112.242 1316.68 112.242 1320.8 Q112.242 1323.67 110.598 1325.66 Q108.955 1327.63 105.922 1328.4 Z\" fill=\"#000000\" fill-rule=\"nonzero\" fill-opacity=\"1\" /><path clip-path=\"url(#clip110)\" d=\"M121.918 1341.15 L126.802 1341.15 L126.802 1347.03 L121.918 1347.03 L121.918 1341.15 Z\" fill=\"#000000\" fill-rule=\"nonzero\" fill-opacity=\"1\" /><path clip-path=\"url(#clip110)\" d=\"M137.033 1312.47 L155.39 1312.47 L155.39 1316.41 L141.316 1316.41 L141.316 1324.88 Q142.334 1324.53 143.353 1324.37 Q144.371 1324.18 145.39 1324.18 Q151.177 1324.18 154.556 1327.35 Q157.936 1330.53 157.936 1335.94 Q157.936 1341.52 154.464 1344.62 Q150.992 1347.7 144.672 1347.7 Q142.496 1347.7 140.228 1347.33 Q137.982 1346.96 135.575 1346.22 L135.575 1341.52 Q137.658 1342.66 139.881 1343.21 Q142.103 1343.77 144.58 1343.77 Q148.584 1343.77 150.922 1341.66 Q153.26 1339.55 153.26 1335.94 Q153.26 1332.33 150.922 1330.22 Q148.584 1328.12 144.58 1328.12 Q142.705 1328.12 140.83 1328.53 Q138.978 1328.95 137.033 1329.83 L137.033 1312.47 Z\" fill=\"#000000\" fill-rule=\"nonzero\" fill-opacity=\"1\" /><path clip-path=\"url(#clip110)\" d=\"M50.9921 914.178 L80.6679 914.178 L80.6679 918.113 L50.9921 918.113 L50.9921 914.178 Z\" fill=\"#000000\" fill-rule=\"nonzero\" fill-opacity=\"1\" /><path clip-path=\"url(#clip110)\" d=\"M104.927 912.373 Q108.283 913.09 110.158 915.359 Q112.057 917.627 112.057 920.96 Q112.057 926.076 108.538 928.877 Q105.02 931.678 98.5382 931.678 Q96.3623 931.678 94.0475 931.238 Q91.7558 930.821 89.3021 929.965 L89.3021 925.451 Q91.2465 926.585 93.5613 927.164 Q95.8761 927.743 98.3993 927.743 Q102.797 927.743 105.089 926.007 Q107.404 924.271 107.404 920.96 Q107.404 917.905 105.251 916.192 Q103.121 914.456 99.3021 914.456 L95.2743 914.456 L95.2743 910.613 L99.4872 910.613 Q102.936 910.613 104.765 909.248 Q106.594 907.859 106.594 905.266 Q106.594 902.604 104.696 901.192 Q102.821 899.757 99.3021 899.757 Q97.3808 899.757 95.1817 900.173 Q92.9826 900.59 90.3438 901.47 L90.3438 897.303 Q93.0058 896.562 95.3206 896.192 Q97.6585 895.822 99.7187 895.822 Q105.043 895.822 108.145 898.252 Q111.246 900.66 111.246 904.78 Q111.246 907.65 109.603 909.641 Q107.959 911.609 104.927 912.373 Z\" fill=\"#000000\" fill-rule=\"nonzero\" fill-opacity=\"1\" /><path clip-path=\"url(#clip110)\" d=\"M120.922 925.127 L125.807 925.127 L125.807 931.007 L120.922 931.007 L120.922 925.127 Z\" fill=\"#000000\" fill-rule=\"nonzero\" fill-opacity=\"1\" /><path clip-path=\"url(#clip110)\" d=\"M145.992 899.525 Q142.381 899.525 140.552 903.09 Q138.746 906.632 138.746 913.761 Q138.746 920.868 140.552 924.433 Q142.381 927.974 145.992 927.974 Q149.626 927.974 151.431 924.433 Q153.26 920.868 153.26 913.761 Q153.26 906.632 151.431 903.09 Q149.626 899.525 145.992 899.525 M145.992 895.822 Q151.802 895.822 154.857 900.428 Q157.936 905.011 157.936 913.761 Q157.936 922.488 154.857 927.095 Q151.802 931.678 145.992 931.678 Q140.181 931.678 137.103 927.095 Q134.047 922.488 134.047 913.761 Q134.047 905.011 137.103 900.428 Q140.181 895.822 145.992 895.822 Z\" fill=\"#000000\" fill-rule=\"nonzero\" fill-opacity=\"1\" /><path clip-path=\"url(#clip110)\" d=\"M51.9875 498.155 L81.6633 498.155 L81.6633 502.09 L51.9875 502.09 L51.9875 498.155 Z\" fill=\"#000000\" fill-rule=\"nonzero\" fill-opacity=\"1\" /><path clip-path=\"url(#clip110)\" d=\"M95.7836 511.048 L112.103 511.048 L112.103 514.983 L90.1586 514.983 L90.1586 511.048 Q92.8206 508.293 97.4039 503.664 Q102.01 499.011 103.191 497.668 Q105.436 495.145 106.316 493.409 Q107.219 491.65 107.219 489.96 Q107.219 487.206 105.274 485.469 Q103.353 483.733 100.251 483.733 Q98.0521 483.733 95.5984 484.497 Q93.1678 485.261 90.3901 486.812 L90.3901 482.09 Q93.2141 480.956 95.6678 480.377 Q98.1215 479.798 100.159 479.798 Q105.529 479.798 108.723 482.483 Q111.918 485.169 111.918 489.659 Q111.918 491.789 111.108 493.71 Q110.321 495.608 108.214 498.201 Q107.635 498.872 104.534 502.09 Q101.432 505.284 95.7836 511.048 Z\" fill=\"#000000\" fill-rule=\"nonzero\" fill-opacity=\"1\" /><path clip-path=\"url(#clip110)\" d=\"M121.918 509.104 L126.802 509.104 L126.802 514.983 L121.918 514.983 L121.918 509.104 Z\" fill=\"#000000\" fill-rule=\"nonzero\" fill-opacity=\"1\" /><path clip-path=\"url(#clip110)\" d=\"M137.033 480.423 L155.39 480.423 L155.39 484.358 L141.316 484.358 L141.316 492.831 Q142.334 492.483 143.353 492.321 Q144.371 492.136 145.39 492.136 Q151.177 492.136 154.556 495.307 Q157.936 498.479 157.936 503.895 Q157.936 509.474 154.464 512.576 Q150.992 515.654 144.672 515.654 Q142.496 515.654 140.228 515.284 Q137.982 514.914 135.575 514.173 L135.575 509.474 Q137.658 510.608 139.881 511.164 Q142.103 511.719 144.58 511.719 Q148.584 511.719 150.922 509.613 Q153.26 507.506 153.26 503.895 Q153.26 500.284 150.922 498.178 Q148.584 496.071 144.58 496.071 Q142.705 496.071 140.83 496.488 Q138.978 496.905 137.033 497.784 L137.033 480.423 Z\" fill=\"#000000\" fill-rule=\"nonzero\" fill-opacity=\"1\" /><path clip-path=\"url(#clip110)\" d=\"M50.9921 82.1311 L80.6679 82.1311 L80.6679 86.0663 L50.9921 86.0663 L50.9921 82.1311 Z\" fill=\"#000000\" fill-rule=\"nonzero\" fill-opacity=\"1\" /><path clip-path=\"url(#clip110)\" d=\"M94.7882 95.0246 L111.108 95.0246 L111.108 98.9597 L89.1632 98.9597 L89.1632 95.0246 Q91.8252 92.27 96.4085 87.6404 Q101.015 82.9876 102.196 81.645 Q104.441 79.1219 105.321 77.3858 Q106.223 75.6265 106.223 73.9367 Q106.223 71.1821 104.279 69.446 Q102.358 67.7099 99.2558 67.7099 Q97.0567 67.7099 94.603 68.4738 Q92.1725 69.2377 89.3947 70.7886 L89.3947 66.0664 Q92.2188 64.9321 94.6724 64.3534 Q97.1261 63.7747 99.1632 63.7747 Q104.534 63.7747 107.728 66.4599 Q110.922 69.1451 110.922 73.6358 Q110.922 75.7654 110.112 77.6867 Q109.325 79.5848 107.219 82.1774 Q106.64 82.8487 103.538 86.0663 Q100.436 89.2607 94.7882 95.0246 Z\" fill=\"#000000\" fill-rule=\"nonzero\" fill-opacity=\"1\" /><path clip-path=\"url(#clip110)\" d=\"M120.922 93.0801 L125.807 93.0801 L125.807 98.9597 L120.922 98.9597 L120.922 93.0801 Z\" fill=\"#000000\" fill-rule=\"nonzero\" fill-opacity=\"1\" /><path clip-path=\"url(#clip110)\" d=\"M145.992 67.4784 Q142.381 67.4784 140.552 71.0432 Q138.746 74.5849 138.746 81.7145 Q138.746 88.8209 140.552 92.3857 Q142.381 95.9274 145.992 95.9274 Q149.626 95.9274 151.431 92.3857 Q153.26 88.8209 153.26 81.7145 Q153.26 74.5849 151.431 71.0432 Q149.626 67.4784 145.992 67.4784 M145.992 63.7747 Q151.802 63.7747 154.857 68.3812 Q157.936 72.9645 157.936 81.7145 Q157.936 90.4413 154.857 95.0477 Q151.802 99.631 145.992 99.631 Q140.181 99.631 137.103 95.0477 Q134.047 90.4413 134.047 81.7145 Q134.047 72.9645 137.103 68.3812 Q140.181 63.7747 145.992 63.7747 Z\" fill=\"#000000\" fill-rule=\"nonzero\" fill-opacity=\"1\" /><polyline clip-path=\"url(#clip112)\" style=\"stroke:#009af9; stroke-linecap:round; stroke-linejoin:round; stroke-width:4; stroke-opacity:1; fill:none\" points=\"255.035,167.761 265.269,1426.67 275.503,1445.72 285.738,1433.36 295.972,1434.13 306.206,1434.63 316.44,1435.03 326.675,1435.38 336.909,1435.7 347.143,1436 357.378,1436.28 367.612,1436.54 377.846,1436.8 388.08,1437.04 398.315,1437.28 408.549,1437.51 418.783,1437.73 429.018,1437.95 439.252,1438.15 449.486,1438.36 459.72,157.048 469.955,1184.34 480.189,1199.88 490.423,1186.21 500.657,1186.67 510.892,1187.01 521.126,1187.3 531.36,1187.56 541.595,1187.8 551.829,1188.03 562.063,1188.26 572.297,1188.47 582.532,1188.68 592.766,1188.88 603,1189.07 613.235,1189.26 623.469,1189.45 633.703,1189.63 643.937,1189.81 654.172,1189.98 664.406,147.098 674.64,1040.78 684.875,1056.76 695.109,1042.27 705.343,1042.6 715.577,1042.87 725.812,1043.11 736.046,1043.32 746.28,1043.53 756.515,1043.73 766.749,1043.92 776.983,1044.1 787.217,1044.28 797.452,1044.46 807.686,1044.63 817.92,1044.8 828.155,1044.96 838.389,1045.12 848.623,1045.28 858.857,1045.44 869.092,137.844 879.326,938.367 889.56,955.783 899.795,940.645 910.029,940.883 920.263,941.121 930.497,941.326 940.732,941.516 950.966,941.698 961.2,941.872 971.435,942.042 981.669,942.207 991.903,942.367 1002.14,942.524 1012.37,942.678 1022.61,942.829 1032.84,942.977 1043.07,943.122 1053.31,943.265 1063.54,943.406 1073.78,129.233 1084.01,858.687 1094.25,877.913 1104.48,862.249 1114.71,862.409 1124.95,862.623 1135.18,862.803 1145.42,862.972 1155.65,863.133 1165.89,863.289 1176.12,863.441 1186.35,863.588 1196.59,863.731 1206.82,863.872 1217.06,864.009 1227.29,864.144 1237.53,864.276 1247.76,864.406 1257.99,864.533 1268.23,864.658 1278.46,121.21 1288.7,793.449 1298.93,814.659 1309.17,798.562 1319.4,798.641 1329.63,798.83 1339.87,798.984 1350.1,799.127 1360.34,799.264 1370.57,799.395 1380.81,799.522 1391.04,799.644 1401.27,799.763 1411.51,799.877 1421.74,799.989 1431.98,800.096 1442.21,800.2 1452.45,800.3 1462.68,800.397 1472.91,800.49 1483.15,113.696 1493.38,738.058 1503.62,761.42 1513.85,744.97 1524.09,744.936 1534.32,745.071 1544.55,745.168 1554.79,745.25 1565.02,745.325 1575.26,745.388 1585.49,745.447 1595.73,745.493 1605.96,745.534 1616.19,745.562 1626.43,745.585 1636.66,745.593 1646.9,745.595 1657.13,745.58 1667.37,745.56 1677.6,745.52 1687.83,106.461 1698.07,689.21 1708.3,715.17 1718.54,698.349 1728.77,698.037 1739.01,697.928 1749.24,697.767 1759.47,697.561 1769.71,697.334 1779.94,697.06 1790.18,696.759 1800.41,696.409 1810.65,696.021 1820.88,695.582 1831.11,695.089 1841.35,694.55 1851.58,693.935 1861.82,693.286 1872.05,692.53 1882.29,691.768 1892.52,98.1969 1902.75,641.686 1912.99,672.527 1923.22,654.547 1933.46,652.677 1943.69,651.099 1953.93,649.035 1964.16,647.258 1974.39,644.901 1984.63,643.154 1994.86,640.691 2005.1,639.282 2015.33,637.022 2025.57,636.226 2035.8,634.441 2046.03,634.273 2056.27,632.975 2066.5,633.203 2076.74,632.176 2086.97,632.577 2097.21,87.9763 2107.44,596.68 2117.67,637.54 2127.91,612.564 2138.14,601.101 2148.38,597.965 2158.61,588.07 2168.85,591.105 2179.08,591.269 2189.31,593.394 2199.55,593.67 2209.78,594.019 2220.02,591.573 2230.25,593.2 2240.49,591.888 2250.72,593.506 2260.95,592.263 2271.19,593.729 2281.42,591.987 2291.66,593.763 \"/>\n",
       "<path clip-path=\"url(#clip110)\" d=\"M2012.48 1438.47 L2280.8 1438.47 L2280.8 1334.79 L2012.48 1334.79  Z\" fill=\"#ffffff\" fill-rule=\"evenodd\" fill-opacity=\"1\"/>\n",
       "<polyline clip-path=\"url(#clip110)\" style=\"stroke:#000000; stroke-linecap:round; stroke-linejoin:round; stroke-width:4; stroke-opacity:1; fill:none\" points=\"2012.48,1438.47 2280.8,1438.47 2280.8,1334.79 2012.48,1334.79 2012.48,1438.47 \"/>\n",
       "<polyline clip-path=\"url(#clip110)\" style=\"stroke:#009af9; stroke-linecap:round; stroke-linejoin:round; stroke-width:4; stroke-opacity:1; fill:none\" points=\"2036.47,1386.63 2180.39,1386.63 \"/>\n",
       "<path clip-path=\"url(#clip110)\" d=\"M2218.22 1406.32 Q2216.42 1410.95 2214.7 1412.36 Q2212.99 1413.78 2210.12 1413.78 L2206.72 1413.78 L2206.72 1410.21 L2209.22 1410.21 Q2210.98 1410.21 2211.95 1409.38 Q2212.92 1408.54 2214.1 1405.44 L2214.86 1403.5 L2204.38 1377.99 L2208.89 1377.99 L2216.99 1398.27 L2225.1 1377.99 L2229.61 1377.99 L2218.22 1406.32 Z\" fill=\"#000000\" fill-rule=\"nonzero\" fill-opacity=\"1\" /><path clip-path=\"url(#clip110)\" d=\"M2236.9 1399.98 L2244.54 1399.98 L2244.54 1373.61 L2236.23 1375.28 L2236.23 1371.02 L2244.49 1369.35 L2249.17 1369.35 L2249.17 1399.98 L2256.81 1399.98 L2256.81 1403.91 L2236.9 1403.91 L2236.9 1399.98 Z\" fill=\"#000000\" fill-rule=\"nonzero\" fill-opacity=\"1\" /></svg>\n"
      ]
     },
     "metadata": {},
     "output_type": "display_data"
    }
   ],
   "source": [
    "using Plots\n",
    "plot(log10.(e))"
   ]
  },
  {
   "cell_type": "code",
   "execution_count": 11,
   "id": "57ab41b8",
   "metadata": {},
   "outputs": [
    {
     "data": {
      "text/plain": [
       "3"
      ]
     },
     "metadata": {},
     "output_type": "display_data"
    }
   ],
   "source": [
    "u1 = copy(r1)\n",
    "r0 = FEM.nodePositionVector(problem)\n",
    "for i in 1:size(r1.a, 2)\n",
    "    u1.a[:, i] = r1.a[:, i] - r0.a\n",
    "end\n",
    "\n",
    "u2 = FEM.showDoFResults(problem, u1, :uvec, visible=true)"
   ]
  },
  {
   "cell_type": "code",
   "execution_count": 12,
   "id": "f74412f6",
   "metadata": {},
   "outputs": [],
   "source": [
    "#FEM.plotOnPath(problem, \"horizontal\", u2)\n",
    "#FEM.plotOnPath(problem, \"vertical\", u2)"
   ]
  },
  {
   "cell_type": "code",
   "execution_count": 13,
   "id": "d9e04c86",
   "metadata": {},
   "outputs": [
    {
     "data": {
      "text/plain": [
       "LowLevelFEM.TensorField([[0.40000000000000213; 0.0; … ; 0.0; 0.6000000000000001;;], [0.40000000000000213; 0.0; … ; 0.0; 0.6000000000000001;;], [0.40000000000000213; 0.0; … ; 0.0; 0.6000000000000001;;], [0.40000000000000213; 0.0; … ; 0.0; 0.6000000000000001;;], [0.40000000000000213; 0.0; … ; 0.0; 0.6000000000000001;;], [0.40000000000000213; 0.0; … ; 0.0; 0.6000000000000001;;], [0.40000000000000213; 0.0; … ; 0.0; 0.6000000000000001;;], [0.40000000000000213; 0.0; … ; 0.0; 0.6000000000000001;;], [0.40000000000000213; 0.0; … ; 0.0; 0.6000000000000001;;], [0.40000000000000213; 0.0; … ; 0.0; 0.6000000000000001;;]  …  [0.40000000000000213; 0.0; … ; 0.0; 0.6000000000000001;;], [0.40000000000000213; 0.0; … ; 0.0; 0.6000000000000001;;], [0.40000000000000213; 0.0; … ; 0.0; 0.6000000000000001;;], [0.40000000000000213; 0.0; … ; 0.0; 0.6000000000000001;;], [0.40000000000000213; 0.0; … ; 0.0; 0.6000000000000001;;], [0.40000000000000213; 0.0; … ; 0.0; 0.6000000000000001;;], [0.40000000000000213; 0.0; … ; 0.0; 0.6000000000000001;;], [0.40000000000000213; 0.0; … ; 0.0; 0.6000000000000001;;], [0.40000000000000213; 0.0; … ; 0.0; 0.6000000000000001;;], [0.40000000000000213; 0.0; … ; 0.0; 0.6000000000000001;;]], Matrix{Float64}(undef, 0, 0), [0.0], [473, 474, 475, 476, 477, 478, 479, 480, 481, 482  …  783, 784, 785, 786, 787, 788, 789, 790, 791, 792], 1, :F)"
      ]
     },
     "metadata": {},
     "output_type": "display_data"
    }
   ],
   "source": [
    "r = FEM.nodePositionVector(problem)\n",
    "ux(x, y, z) = 0.4x\n",
    "uy(x, y, z) = 0.5y\n",
    "uz(x, y, z) = 0.6z\n",
    "q0 = FEM.field(\"body\", fx=ux, fy=uy, fz=uz)\n",
    "q = FEM.vectorField(problem, [q0])\n",
    "F = FEM.deformationGradient(problem, q)"
   ]
  },
  {
   "cell_type": "code",
   "execution_count": 14,
   "id": "bda3da4b",
   "metadata": {},
   "outputs": [
    {
     "data": {
      "text/plain": [
       "3×3 Matrix{Float64}:\n",
       " 0.4  0.0  0.0\n",
       " 0.0  0.5  0.0\n",
       " 0.0  0.0  0.6"
      ]
     },
     "metadata": {},
     "output_type": "display_data"
    }
   ],
   "source": [
    "reshape(F.A[1][1:9], 3, 3)"
   ]
  },
  {
   "cell_type": "code",
   "execution_count": 15,
   "id": "4aba7a4b",
   "metadata": {},
   "outputs": [
    {
     "data": {
      "text/plain": [
       "3×3 Matrix{Float64}:\n",
       " -0.42   0.0     0.0\n",
       "  0.0   -0.375   0.0\n",
       "  0.0    0.0    -0.32"
      ]
     },
     "metadata": {},
     "output_type": "display_data"
    }
   ],
   "source": [
    "E = (F' * F - FEM.unitTensor(F)) / 2\n",
    "\n",
    "reshape(E.A[1][1:9], 3, 3)"
   ]
  },
  {
   "cell_type": "code",
   "execution_count": 16,
   "id": "a7c506a2",
   "metadata": {},
   "outputs": [
    {
     "data": {
      "text/plain": [
       "3×3 Matrix{Float64}:\n",
       " -2.625   0.0   0.0\n",
       "  0.0    -1.5   0.0\n",
       "  0.0     0.0  -0.888889"
      ]
     },
     "metadata": {},
     "output_type": "display_data"
    }
   ],
   "source": [
    "e = (FEM.unitTensor(F) - inv(F * F')) / 2\n",
    "\n",
    "reshape(e.A[1][1:9], 3, 3)"
   ]
  },
  {
   "cell_type": "code",
   "execution_count": 17,
   "id": "df5feea4",
   "metadata": {},
   "outputs": [
    {
     "data": {
      "text/plain": [
       "3×3 Matrix{Float64}:\n",
       " -2.625   0.0   0.0\n",
       "  0.0    -1.5   0.0\n",
       "  0.0     0.0  -0.888889"
      ]
     },
     "metadata": {},
     "output_type": "display_data"
    }
   ],
   "source": [
    "e = inv(F') * E * inv(F)\n",
    "\n",
    "reshape(e.A[1][1:9], 3, 3)"
   ]
  },
  {
   "cell_type": "code",
   "execution_count": 18,
   "id": "eb7cd73d",
   "metadata": {},
   "outputs": [
    {
     "data": {
      "text/plain": [
       "3×3 Matrix{Float64}:\n",
       " 0.4  0.0  0.0\n",
       " 0.0  0.5  0.0\n",
       " 0.0  0.0  0.6"
      ]
     },
     "metadata": {},
     "output_type": "display_data"
    }
   ],
   "source": [
    "U = sqrt(F' * F)\n",
    "\n",
    "reshape(U.A[1][1:9], 3, 3)"
   ]
  },
  {
   "cell_type": "code",
   "execution_count": 19,
   "id": "49af293c",
   "metadata": {},
   "outputs": [
    {
     "data": {
      "text/plain": [
       "3×3 Matrix{Float64}:\n",
       " -122.128     0.0       0.0\n",
       "    0.0    -113.474     0.0\n",
       "    0.0       0.0    -108.773"
      ]
     },
     "metadata": {},
     "output_type": "display_data"
    }
   ],
   "source": [
    "Ex = 10\n",
    "νxy = 0.3\n",
    "λ = Ex * νxy / ((1 + νxy) * (1 - 2νxy))\n",
    "μ = Ex / (2 * (1 + νxy))\n",
    "I3 = FEM.unitTensor(F)\n",
    "iC = inv(F' * F)\n",
    "J1 = det(F)\n",
    "SII = μ * (I3 - iC) + λ * log(J1) / J1 * I3\n",
    "\n",
    "reshape(SII.A[1][1:9], 3, 3)"
   ]
  },
  {
   "cell_type": "code",
   "execution_count": 20,
   "id": "88fa00a0",
   "metadata": {},
   "outputs": [
    {
     "data": {
      "text/plain": [
       "probe (generic function with 1 method)"
      ]
     },
     "metadata": {},
     "output_type": "display_data"
    }
   ],
   "source": [
    "function probe(A, x, y, z)\n",
    "    elementTag, elementType, nodeTags, u, v, w = gmsh.model.mesh.getElementByCoordinates(x, y, z, 3, false)\n",
    "    elementName, dim, order, numNodes::Int64, localNodeCoord, numPrimaryNodes = gmsh.model.mesh.getElementProperties(elementType)\n",
    "    comp, fun, ori = gmsh.model.mesh.getBasisFunctions(elementType, [u, v, w], \"Lagrange\")\n",
    "    SS = [0.0, 0, 0, 0, 0, 0, 0, 0, 0]\n",
    "    if isa(A, FEM.TensorField)\n",
    "        ind = findfirst(i -> i == elementTag, SII.numElem)\n",
    "        for i in range(1, 9)\n",
    "            SS[i] = fun' * SII.A[ind][i:9:9numNodes, 1]\n",
    "        end\n",
    "    elseif isa(A, Matrix)\n",
    "        for i in range(1, 9)\n",
    "            SS[i] = fun' * A[9nodeTags.-(9-i), 1]\n",
    "        end\n",
    "    end\n",
    "    return reshape(SS, 3, 3)\n",
    "end"
   ]
  },
  {
   "cell_type": "code",
   "execution_count": 21,
   "id": "eb55a91c",
   "metadata": {},
   "outputs": [
    {
     "data": {
      "text/plain": [
       "LowLevelFEM.TensorField(Matrix{Float64}[], [-122.12805462500343; 0.0; … ; 0.0; -108.77335377030371;;], [0.0], Int64[], 1, :e)"
      ]
     },
     "metadata": {},
     "output_type": "display_data"
    }
   ],
   "source": [
    "SII2 = FEM.elementsToNodes(problem, SII)"
   ]
  },
  {
   "cell_type": "code",
   "execution_count": 22,
   "id": "0f94ba00",
   "metadata": {},
   "outputs": [
    {
     "data": {
      "text/plain": [
       "3×3 Matrix{Float64}:\n",
       " -122.128           5.46571e-14     1.7792e-14\n",
       "    5.46571e-14  -113.474          -4.55476e-15\n",
       "    1.7792e-14     -4.55476e-15  -108.773"
      ]
     },
     "metadata": {},
     "output_type": "display_data"
    }
   ],
   "source": [
    "probe(SII2, 0, 0, 0)"
   ]
  },
  {
   "cell_type": "code",
   "execution_count": 23,
   "id": "9eac2964",
   "metadata": {},
   "outputs": [
    {
     "data": {
      "text/plain": [
       "LowLevelFEM.ScalarField([[2.0; 2.0; … ; 2.0; 2.0;;], [2.0; 2.0; … ; 2.0; 2.0;;], [2.0; 2.0; … ; 2.0; 2.0;;], [2.0; 2.0; … ; 2.0; 2.0;;], [2.0; 2.0; … ; 2.0; 2.0;;], [2.0; 2.0; … ; 2.0; 2.0;;], [2.0; 2.0; … ; 2.0; 2.0;;], [2.0; 2.0; … ; 2.0; 2.0;;], [2.0; 2.0; … ; 2.0; 2.0;;], [2.0; 2.0; … ; 2.0; 2.0;;]  …  [2.0; 2.0; … ; 2.0; 2.0;;], [2.0; 2.0; … ; 2.0; 2.0;;], [2.0; 2.0; … ; 2.0; 2.0;;], [2.0; 2.0; … ; 2.0; 2.0;;], [2.0; 2.0; … ; 2.0; 2.0;;], [2.0; 2.0; … ; 2.0; 2.0;;], [2.0; 2.0; … ; 2.0; 2.0;;], [2.0; 2.0; … ; 2.0; 2.0;;], [2.0; 2.0; … ; 2.0; 2.0;;], [2.0; 2.0; … ; 2.0; 2.0;;]], Matrix{Float64}(undef, 0, 0), Float64[], [473, 474, 475, 476, 477, 478, 479, 480, 481, 482  …  783, 784, 785, 786, 787, 788, 789, 790, 791, 792], 1, :scalarInElements)"
      ]
     },
     "metadata": {},
     "output_type": "display_data"
    }
   ],
   "source": [
    "field = FEM.field(\"body\", f=2)\n",
    "sc = FEM.ScalarField(problem, [field])"
   ]
  },
  {
   "cell_type": "code",
   "execution_count": 24,
   "id": "b19e2ebf",
   "metadata": {},
   "outputs": [
    {
     "data": {
      "text/plain": [
       "LowLevelFEM.ScalarField([[0.12000000000000056; 0.12000000000000056; … ; 0.1199999999999996; 0.11999999999999986;;], [0.12000000000000056; 0.12000000000000056; … ; 0.1199999999999996; 0.11999999999999986;;], [0.12000000000000056; 0.12000000000000056; … ; 0.1199999999999996; 0.11999999999999986;;], [0.12000000000000056; 0.12000000000000056; … ; 0.1199999999999996; 0.11999999999999986;;], [0.12000000000000056; 0.12000000000000056; … ; 0.1199999999999996; 0.11999999999999986;;], [0.12000000000000056; 0.12000000000000056; … ; 0.1199999999999996; 0.11999999999999986;;], [0.12000000000000056; 0.12000000000000056; … ; 0.1199999999999996; 0.11999999999999986;;], [0.12000000000000056; 0.12000000000000056; … ; 0.1199999999999996; 0.11999999999999986;;], [0.12000000000000056; 0.12000000000000056; … ; 0.1199999999999996; 0.11999999999999986;;], [0.12000000000000056; 0.12000000000000056; … ; 0.1199999999999996; 0.11999999999999986;;]  …  [0.12000000000000056; 0.12000000000000056; … ; 0.1199999999999996; 0.11999999999999986;;], [0.12000000000000056; 0.12000000000000056; … ; 0.1199999999999996; 0.11999999999999986;;], [0.12000000000000056; 0.12000000000000056; … ; 0.1199999999999996; 0.11999999999999986;;], [0.12000000000000056; 0.12000000000000056; … ; 0.1199999999999996; 0.11999999999999986;;], [0.12000000000000056; 0.12000000000000056; … ; 0.1199999999999996; 0.11999999999999986;;], [0.12000000000000056; 0.12000000000000056; … ; 0.1199999999999996; 0.11999999999999986;;], [0.12000000000000056; 0.12000000000000056; … ; 0.1199999999999996; 0.11999999999999986;;], [0.12000000000000056; 0.12000000000000056; … ; 0.1199999999999996; 0.11999999999999986;;], [0.12000000000000056; 0.12000000000000056; … ; 0.1199999999999996; 0.11999999999999986;;], [0.12000000000000056; 0.12000000000000056; … ; 0.1199999999999996; 0.11999999999999986;;]], Matrix{Float64}(undef, 0, 0), [0.0], [473, 474, 475, 476, 477, 478, 479, 480, 481, 482  …  783, 784, 785, 786, 787, 788, 789, 790, 791, 792], 1, :sc)"
      ]
     },
     "metadata": {},
     "output_type": "display_data"
    }
   ],
   "source": [
    "I3 = FEM.unitTensor(F)\n",
    "J = det(F)"
   ]
  },
  {
   "cell_type": "code",
   "execution_count": 25,
   "id": "dfdb8e2d",
   "metadata": {},
   "outputs": [
    {
     "data": {
      "text/plain": [
       "LowLevelFEM.TensorField([[2.0; 0.0; … ; 0.0; 2.0;;], [2.0; 0.0; … ; 0.0; 2.0;;], [2.0; 0.0; … ; 0.0; 2.0;;], [2.0; 0.0; … ; 0.0; 2.0;;], [2.0; 0.0; … ; 0.0; 2.0;;], [2.0; 0.0; … ; 0.0; 2.0;;], [2.0; 0.0; … ; 0.0; 2.0;;], [2.0; 0.0; … ; 0.0; 2.0;;], [2.0; 0.0; … ; 0.0; 2.0;;], [2.0; 0.0; … ; 0.0; 2.0;;]  …  [2.0; 0.0; … ; 0.0; 2.0;;], [2.0; 0.0; … ; 0.0; 2.0;;], [2.0; 0.0; … ; 0.0; 2.0;;], [2.0; 0.0; … ; 0.0; 2.0;;], [2.0; 0.0; … ; 0.0; 2.0;;], [2.0; 0.0; … ; 0.0; 2.0;;], [2.0; 0.0; … ; 0.0; 2.0;;], [2.0; 0.0; … ; 0.0; 2.0;;], [2.0; 0.0; … ; 0.0; 2.0;;], [2.0; 0.0; … ; 0.0; 2.0;;]], Matrix{Float64}(undef, 0, 0), [0.0], [473, 474, 475, 476, 477, 478, 479, 480, 481, 482  …  783, 784, 785, 786, 787, 788, 789, 790, 791, 792], 1, :e)"
      ]
     },
     "metadata": {},
     "output_type": "display_data"
    }
   ],
   "source": [
    "sc * I3"
   ]
  },
  {
   "cell_type": "code",
   "execution_count": 26,
   "id": "b48019c3",
   "metadata": {},
   "outputs": [
    {
     "data": {
      "text/plain": [
       "LowLevelFEM.TensorField([[0.0; 0.0; … ; 0.0; 0.0;;], [0.0; 0.0; … ; 0.0; 0.0;;], [0.0; 0.0; … ; 0.0; 0.0;;], [0.0; 0.0; … ; 0.0; 0.0;;], [0.0; 0.0; … ; 0.0; 0.0;;], [0.0; 0.0; … ; 0.0; 0.0;;], [0.0; 0.0; … ; 0.0; 0.0;;], [0.0; 0.0; … ; 0.0; 0.0;;], [0.0; 0.0; … ; 0.0; 0.0;;], [0.0; 0.0; … ; 0.0; 0.0;;]  …  [0.0; 0.0; … ; 0.0; 0.0;;], [0.0; 0.0; … ; 0.0; 0.0;;], [0.0; 0.0; … ; 0.0; 0.0;;], [0.0; 0.0; … ; 0.0; 0.0;;], [0.0; 0.0; … ; 0.0; 0.0;;], [0.0; 0.0; … ; 0.0; 0.0;;], [0.0; 0.0; … ; 0.0; 0.0;;], [0.0; 0.0; … ; 0.0; 0.0;;], [0.0; 0.0; … ; 0.0; 0.0;;], [0.0; 0.0; … ; 0.0; 0.0;;]], Matrix{Float64}(undef, 0, 0), [0.0], [473, 474, 475, 476, 477, 478, 479, 480, 481, 482  …  783, 784, 785, 786, 787, 788, 789, 790, 791, 792], 1, :e)"
      ]
     },
     "metadata": {},
     "output_type": "display_data"
    }
   ],
   "source": [
    "I3 - I3"
   ]
  },
  {
   "cell_type": "code",
   "execution_count": 27,
   "id": "ff567b87",
   "metadata": {},
   "outputs": [
    {
     "data": {
      "text/plain": [
       "3×3 Matrix{Float64}:\n",
       " -162.837     0.0       0.0\n",
       "    0.0    -236.405     0.0\n",
       "    0.0       0.0    -326.32"
      ]
     },
     "metadata": {},
     "output_type": "display_data"
    }
   ],
   "source": [
    "σ = F * SII * F' / det(F)\n",
    "\n",
    "reshape(σ.A[1][1:9], 3, 3)"
   ]
  },
  {
   "cell_type": "code",
   "execution_count": 28,
   "id": "f1eee084",
   "metadata": {},
   "outputs": [
    {
     "data": {
      "text/plain": [
       "-119.05114807753088"
      ]
     },
     "metadata": {},
     "output_type": "display_data"
    }
   ],
   "source": [
    "J = 0.5 * 0.5 * 0.5\n",
    "μ / J * (J^(2 / 3) - 1) + λ / J * log(J)"
   ]
  },
  {
   "cell_type": "code",
   "execution_count": 29,
   "id": "32bc3809",
   "metadata": {},
   "outputs": [
    {
     "name": "stdout",
     "output_type": "stream",
     "text": [
      "-------------------------------------------------------\n",
      "Version       : 4.13.1\n",
      "License       : GNU General Public License\n",
      "Build OS      : Linux64-sdk\n",
      "Build date    : 19700101\n",
      "Build host    : amdci7.julia.csail.mit.edu\n",
      "Build options : 64Bit ALGLIB[contrib] ANN[contrib] Bamg Blossom Cairo DIntegration Dlopen DomHex Eigen[contrib] Fltk GMP Gmm[contrib] Hxt Jpeg Kbipack LinuxJoystick MathEx[contrib] Mesh Metis[contrib] Mmg Mpeg Netgen Nii2mesh ONELAB ONELABMetamodel OpenCASCADE OpenCASCADE-CAF OpenGL OpenMP OptHom Parser Plugins Png Post QuadMeshingTools QuadTri Solver TetGen/BR TinyXML2[contrib] Untangle Voro++[contrib] WinslowUntangler Zlib\n",
      "FLTK version  : 1.3.8\n",
      "OCC version   : 7.7.2\n",
      "Packaged by   : root\n",
      "Web site      : https://gmsh.info\n",
      "Issue tracker : https://gitlab.onelab.info/gmsh/gmsh/issues\n",
      "-------------------------------------------------------\n"
     ]
    },
    {
     "name": "stderr",
     "output_type": "stream",
     "text": [
      "XOpenIM() failed\n",
      "XRequest.18: BadValue 0x0\n"
     ]
    }
   ],
   "source": [
    "FEM.openPostProcessor()"
   ]
  },
  {
   "cell_type": "code",
   "execution_count": 30,
   "id": "7b517a53",
   "metadata": {},
   "outputs": [],
   "source": [
    "gmsh.finalize()"
   ]
  }
 ],
 "metadata": {
  "kernelspec": {
   "display_name": "Julia 1.11.5",
   "language": "julia",
   "name": "julia-1.11"
  },
  "language_info": {
   "file_extension": ".jl",
   "mimetype": "application/julia",
   "name": "julia",
   "version": "1.11.5"
  }
 },
 "nbformat": 4,
 "nbformat_minor": 5
}
