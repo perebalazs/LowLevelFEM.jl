{
 "cells": [
  {
   "cell_type": "code",
   "execution_count": 119,
   "id": "79fd9685",
   "metadata": {},
   "outputs": [],
   "source": [
    "using LowLevelFEM\n",
    "import LowLevelFEM as FEM\n",
    "\n",
    "gmsh.initialize()"
   ]
  },
  {
   "cell_type": "code",
   "execution_count": 120,
   "id": "fa18250b",
   "metadata": {},
   "outputs": [
    {
     "name": "stdout",
     "output_type": "stream",
     "text": [
      "Info    : Reading 'body.geo'...\n",
      "Info    : Meshing 1D...                                                                                                     \n",
      "Info    : [  0%] Meshing curve 1 (Line)\n",
      "Info    : [ 10%] Meshing curve 2 (Line)\n",
      "Info    : [ 20%] Meshing curve 3 (Line)\n",
      "Info    : [ 20%] Meshing curve 4 (Line)\n",
      "Info    : [ 30%] Meshing curve 5 (Line)\n",
      "Info    : [ 30%] Meshing curve 6 (Line)\n",
      "Info    : [ 40%] Meshing curve 7 (Line)\n",
      "Info    : [ 40%] Meshing curve 8 (Line)\n",
      "Info    : [ 50%] Meshing curve 9 (Line)\n",
      "Info    : [ 50%] Meshing curve 10 (Line)\n",
      "Info    : [ 60%] Meshing curve 11 (Line)\n",
      "Info    : [ 60%] Meshing curve 12 (Line)\n",
      "Info    : [ 70%] Meshing curve 13 (Line)\n",
      "Info    : [ 70%] Meshing curve 14 (Line)\n",
      "Info    : [ 80%] Meshing curve 15 (Line)\n",
      "Info    : [ 80%] Meshing curve 16 (Line)\n",
      "Info    : [ 90%] Meshing curve 17 (Line)\n",
      "Info    : [ 90%] Meshing curve 18 (Line)\n",
      "Info    : [100%] Meshing curve 19 (Line)\n",
      "Info    : [100%] Meshing curve 20 (Line)\n",
      "Info    : Done meshing 1D (Wall 0.000850124s, CPU 0.000852s)\n",
      "Info    : Meshing 2D...\n",
      "Info    : [  0%] Meshing surface 1 (Transfinite)\n",
      "Info    : [ 10%] Meshing surface 2 (Transfinite)\n",
      "Info    : [ 20%] Meshing surface 3 (Transfinite)\n",
      "Info    : [ 30%] Meshing surface 4 (Transfinite)\n",
      "Info    : [ 40%] Meshing surface 5 (Transfinite)\n",
      "Info    : [ 50%] Meshing surface 6 (Transfinite)\n",
      "Info    : [ 60%] Meshing surface 7 (Transfinite)\n",
      "Info    : [ 70%] Meshing surface 8 (Transfinite)\n",
      "Info    : [ 80%] Meshing surface 9 (Transfinite)\n",
      "Info    : [ 90%] Meshing surface 10 (Transfinite)\n",
      "Info    : [100%] Meshing surface 11 (Transfinite)\n",
      "Info    : Done meshing 2D (Wall 0.000170458s, CPU 0.000169s)\n",
      "Info    : Meshing 3D...\n",
      "Info    : Meshing volume 1 (Transfinite)\n",
      "Info    : Meshing volume 2 (Transfinite)\n",
      "Info    : Done meshing 3D (Wall 5.271e-05s, CPU 5.1e-05s)\n",
      "Info    : Optimizing mesh...\n",
      "Info    : Done optimizing mesh (Wall 1.726e-06s, CPU 2e-06s)\n",
      "Info    : 12 nodes 45 elements\n",
      "Info    : Done reading 'body.geo'\n"
     ]
    }
   ],
   "source": [
    "gmsh.open(\"body.geo\")"
   ]
  },
  {
   "cell_type": "code",
   "execution_count": 121,
   "id": "936f1fab",
   "metadata": {},
   "outputs": [
    {
     "name": "stdout",
     "output_type": "stream",
     "text": [
      "Info    : RCMK renumbering...\n",
      "Info    : Done RCMK renumbering (bandwidth is now 7)\n"
     ]
    },
    {
     "data": {
      "text/plain": [
       "LowLevelFEM.Problem(\"body\", :Solid, 3, 3, LowLevelFEM.Material[LowLevelFEM.Material(\"body1\", 200000.0, 0.3, 7.85e-9, 45.0, 4.2e8, 1.2e-5), LowLevelFEM.Material(\"body2\", 200000.0, 0.3, 7.85e-9, 45.0, 4.2e8, 1.2e-5)], 1.0, 12)"
      ]
     },
     "metadata": {},
     "output_type": "display_data"
    }
   ],
   "source": [
    "mat1 = FEM.material(\"body1\")\n",
    "mat2 = FEM.material(\"body2\")\n",
    "problem = FEM.Problem([mat1, mat2])"
   ]
  },
  {
   "cell_type": "code",
   "execution_count": 122,
   "id": "d1917225",
   "metadata": {},
   "outputs": [],
   "source": [
    "function nodePositionVector(problem)\n",
    "    dim = problem.dim\n",
    "    non = problem.non\n",
    "    if dim != 3\n",
    "        error(\"nodePositionVector: This function only works for 3D problems.\")\n",
    "    end\n",
    "    r = zeros(non * dim)\n",
    "    for ipg in 1:length(problem.material)\n",
    "        phName = problem.material[ipg].phName\n",
    "        dimTags = gmsh.model.getEntitiesForPhysicalName(phName)\n",
    "        for idm in 1:length(dimTags)\n",
    "            dimTag = dimTags[idm]\n",
    "            edim = dimTag[1]\n",
    "            etag = dimTag[2]\n",
    "            elemTypes, elemTags, elemNodeTags = gmsh.model.mesh.getElements(edim, etag)\n",
    "            nodeTags, ncoord, parametricCoord = gmsh.model.mesh.getNodes(dim, -1, true, false)\n",
    "            r[nodeTags*3 .- 2] = ncoord[1:3:length(ncoord)]\n",
    "            r[nodeTags*3 .- 1] = ncoord[2:3:length(ncoord)]\n",
    "            r[nodeTags*3 .- 0] = ncoord[3:3:length(ncoord)]\n",
    "        end\n",
    "    end\n",
    "    return r\n",
    "end\n",
    "\n",
    "r = nodePositionVector(problem);"
   ]
  },
  {
   "cell_type": "code",
   "execution_count": 123,
   "id": "67165db9",
   "metadata": {},
   "outputs": [
    {
     "data": {
      "text/plain": [
       "stiffnessMatrixLinear (generic function with 1 method)"
      ]
     },
     "metadata": {},
     "output_type": "display_data"
    }
   ],
   "source": [
    "using SparseArrays\n",
    "\n",
    "function stiffnessMatrixLinear(problem, r)\n",
    "    gmsh.model.setCurrent(problem.name)\n",
    "    elemTypes, elemTags, elemNodeTags = gmsh.model.mesh.getElements(problem.dim, -1)\n",
    "    lengthOfIJV = sum([(div(length(elemNodeTags[i]), length(elemTags[i])) * problem.dim)^2 * length(elemTags[i]) for i in 1:length(elemTags)])\n",
    "    nn = []\n",
    "    I = []\n",
    "    J = []\n",
    "    V = []\n",
    "    V = convert(Vector{Float64}, V)\n",
    "    sizehint!(I, lengthOfIJV)\n",
    "    sizehint!(J, lengthOfIJV)\n",
    "    sizehint!(V, lengthOfIJV)\n",
    "\n",
    "    for ipg in 1:length(problem.material)\n",
    "        phName = problem.material[ipg].phName\n",
    "        E = problem.material[ipg].E\n",
    "        ν = problem.material[ipg].ν\n",
    "        dim = problem.dim\n",
    "        pdim = problem.pdim\n",
    "        if problem.dim == 3 && problem.type == :Solid\n",
    "            D = E / ((1 + ν) * (1 - 2ν)) * [1-ν ν ν 0 0 0;\n",
    "                ν 1-ν ν 0 0 0;\n",
    "                ν ν 1-ν 0 0 0;\n",
    "                0 0 0 (1-2ν)/2 0 0;\n",
    "                0 0 0 0 (1-2ν)/2 0;\n",
    "                0 0 0 0 0 (1-2ν)/2]\n",
    "\n",
    "            rowsOfB = 6\n",
    "            b = 1\n",
    "        elseif problem.dim == 2 && problem.type == :PlaneStress\n",
    "            D = E / (1 - ν^2) * [1 ν 0;\n",
    "                ν 1 0;\n",
    "                0 0 (1-ν)/2]\n",
    "            rowsOfB = 3\n",
    "            b = problem.thickness\n",
    "        elseif problem.dim == 2 && problem.type == :PlaneStrain\n",
    "            D = E / ((1 + ν) * (1 - 2ν)) * [1-ν ν 0;\n",
    "                ν 1-ν 0;\n",
    "                0 0 (1-2ν)/2]\n",
    "            rowsOfB = 3\n",
    "            b = 1\n",
    "        else\n",
    "            error(\"stiffnessMatrixSolid: dimension is $(problem.dim), problem type is $(problem.type).\")\n",
    "        end\n",
    "\n",
    "        dimTags = gmsh.model.getEntitiesForPhysicalName(phName)\n",
    "        for idm in 1:length(dimTags)\n",
    "            dimTag = dimTags[idm]\n",
    "            edim = dimTag[1]\n",
    "            etag = dimTag[2]\n",
    "            elemTypes, elemTags, elemNodeTags = gmsh.model.mesh.getElements(edim, etag)\n",
    "            for i in 1:length(elemTypes)\n",
    "                et = elemTypes[i]\n",
    "                elementName, dim, order, numNodes::Int64, localNodeCoord, numPrimaryNodes = gmsh.model.mesh.getElementProperties(et)\n",
    "                intPoints, intWeights = gmsh.model.mesh.getIntegrationPoints(et, \"Gauss\" * string(2order + 1))\n",
    "                numIntPoints = length(intWeights)\n",
    "                comp, fun, ori = gmsh.model.mesh.getBasisFunctions(et, intPoints, \"Lagrange\")\n",
    "                #h = reshape(fun, :, numIntPoints)\n",
    "                comp, dfun, ori = gmsh.model.mesh.getBasisFunctions(et, intPoints, \"GradLagrange\")\n",
    "                ∇h = reshape(dfun, :, numIntPoints)\n",
    "                nnet = zeros(Int, length(elemTags[i]), numNodes)\n",
    "                invJac = zeros(3, 3numIntPoints)\n",
    "                Iidx = zeros(Int, numNodes * pdim, numNodes * pdim)\n",
    "                Jidx = zeros(Int, numNodes * pdim, numNodes * pdim)\n",
    "                for k in 1:numNodes*pdim, l in 1:numNodes*pdim\n",
    "                    Iidx[k, l] = l\n",
    "                    Jidx[k, l] = k\n",
    "                end\n",
    "                H = zeros(9 * numIntPoints, pdim * numNodes)\n",
    "                ∂h = zeros(dim, numNodes * numIntPoints)\n",
    "                B = zeros(rowsOfB * numIntPoints, pdim * numNodes)\n",
    "                ∂H = zeros(9 * numIntPoints, pdim * numNodes)\n",
    "                K1 = zeros(pdim * numNodes, pdim * numNodes)\n",
    "                nn2 = zeros(Int, pdim * numNodes)\n",
    "                for k in 1:numIntPoints, l in 1:numNodes\n",
    "                    for kk in 1:3:9, ll in 1:3\n",
    "                        #H[k*9-(9-kk)-1+ll, l*pdim-(pdim-ll)] = h[(k-1)*numNodes+l]\n",
    "                    end\n",
    "                end\n",
    "                for j in 1:length(elemTags[i])\n",
    "                    elem = elemTags[i][j]\n",
    "                    for k in 1:numNodes\n",
    "                        nnet[j, k] = elemNodeTags[i][(j-1)*numNodes+k]\n",
    "                    end\n",
    "                    for k in 1:pdim\n",
    "                        nn2[k:pdim:pdim*numNodes] = pdim * nnet[j, 1:numNodes] .- (pdim - k)\n",
    "                    end\n",
    "                    jac, jacDet, coord = gmsh.model.mesh.getJacobian(elem, intPoints)\n",
    "                    Jac = reshape(jac, 3, :)\n",
    "                    for k in 1:numIntPoints\n",
    "                        invJac[1:3, 3*k-2:3*k] = @inline inv(Jac[1:3, 3*k-2:3*k])'\n",
    "                    end\n",
    "                    ∂h .*= 0\n",
    "                    for k in 1:numIntPoints, l in 1:numNodes\n",
    "                        ∂h[1:dim, (k-1)*numNodes+l] .= invJac[1:dim, k*3-2:k*3-(3-dim)] * ∇h[l*3-2:l*3-(3-dim), k]\n",
    "                    end\n",
    "                    r1 = r[nn2]\n",
    "                    B .*= 0\n",
    "                    ∂H .*= 0\n",
    "                    if dim == 2 && rowsOfB == 3\n",
    "                        for k in 1:numIntPoints\n",
    "                            for l in 1:numNodes\n",
    "                                B[k*rowsOfB-0, l*pdim-0] = B[k*rowsOfB-2, l*pdim-1] = ∂h[1, (k-1)*numNodes+l]\n",
    "                                B[k*rowsOfB-0, l*pdim-1] = B[k*rowsOfB-1, l*pdim-0] = ∂h[2, (k-1)*numNodes+l]\n",
    "                            end\n",
    "                        end\n",
    "                    elseif dim == 3 && rowsOfB == 6\n",
    "                        for k in 1:numIntPoints\n",
    "                            for l in 1:numNodes\n",
    "                                ∂H[k*9-(9-1), l*pdim-(pdim-1)] = ∂h[1, (k-1)*numNodes+l]\n",
    "                                ∂H[k*9-(9-2), l*pdim-(pdim-1)] = ∂h[2, (k-1)*numNodes+l]\n",
    "                                ∂H[k*9-(9-3), l*pdim-(pdim-1)] = ∂h[3, (k-1)*numNodes+l]\n",
    "                                ∂H[k*9-(9-4), l*pdim-(pdim-2)] = ∂h[1, (k-1)*numNodes+l]\n",
    "                                ∂H[k*9-(9-5), l*pdim-(pdim-2)] = ∂h[2, (k-1)*numNodes+l]\n",
    "                                ∂H[k*9-(9-6), l*pdim-(pdim-2)] = ∂h[3, (k-1)*numNodes+l]\n",
    "                                ∂H[k*9-(9-7), l*pdim-(pdim-3)] = ∂h[1, (k-1)*numNodes+l]\n",
    "                                ∂H[k*9-(9-8), l*pdim-(pdim-3)] = ∂h[2, (k-1)*numNodes+l]\n",
    "                                ∂H[k*9-(9-9), l*pdim-(pdim-3)] = ∂h[3, (k-1)*numNodes+l]\n",
    "                            end\n",
    "                            ∂H1 = ∂H[k*9-(9-1):k*9, 1:pdim*numNodes]\n",
    "                            F = ∂H1 * r1\n",
    "                            for l in 1:numNodes\n",
    "                                B[k*rowsOfB-5, l*pdim-2] = F[1] * ∂h[1, (k-1)*numNodes+l]\n",
    "                                B[k*rowsOfB-4, l*pdim-2] = F[4] * ∂h[2, (k-1)*numNodes+l]\n",
    "                                B[k*rowsOfB-3, l*pdim-2] = F[7] * ∂h[3, (k-1)*numNodes+l]\n",
    "                                B[k*rowsOfB-2, l*pdim-2] = F[4] * ∂h[1, (k-1)*numNodes+l] + F[1] * ∂h[2, (k-1)*numNodes+l]\n",
    "                                B[k*rowsOfB-1, l*pdim-2] = F[7] * ∂h[2, (k-1)*numNodes+l] + F[4] * ∂h[3, (k-1)*numNodes+l]\n",
    "                                B[k*rowsOfB-0, l*pdim-2] = F[1] * ∂h[3, (k-1)*numNodes+l] + F[7] * ∂h[1, (k-1)*numNodes+l]\n",
    "                                B[k*rowsOfB-5, l*pdim-1] = F[2] * ∂h[1, (k-1)*numNodes+l]\n",
    "                                B[k*rowsOfB-4, l*pdim-1] = F[5] * ∂h[2, (k-1)*numNodes+l]\n",
    "                                B[k*rowsOfB-3, l*pdim-1] = F[8] * ∂h[3, (k-1)*numNodes+l]\n",
    "                                B[k*rowsOfB-2, l*pdim-1] = F[5] * ∂h[1, (k-1)*numNodes+l] + F[2] * ∂h[2, (k-1)*numNodes+l]\n",
    "                                B[k*rowsOfB-1, l*pdim-1] = F[8] * ∂h[2, (k-1)*numNodes+l] + F[5] * ∂h[3, (k-1)*numNodes+l]\n",
    "                                B[k*rowsOfB-0, l*pdim-1] = F[2] * ∂h[3, (k-1)*numNodes+l] + F[8] * ∂h[1, (k-1)*numNodes+l]\n",
    "                                B[k*rowsOfB-5, l*pdim-0] = F[3] * ∂h[1, (k-1)*numNodes+l]\n",
    "                                B[k*rowsOfB-4, l*pdim-0] = F[6] * ∂h[2, (k-1)*numNodes+l]\n",
    "                                B[k*rowsOfB-3, l*pdim-0] = F[9] * ∂h[3, (k-1)*numNodes+l]\n",
    "                                B[k*rowsOfB-2, l*pdim-0] = F[6] * ∂h[1, (k-1)*numNodes+l] + F[3] * ∂h[2, (k-1)*numNodes+l]\n",
    "                                B[k*rowsOfB-1, l*pdim-0] = F[9] * ∂h[2, (k-1)*numNodes+l] + F[6] * ∂h[3, (k-1)*numNodes+l]\n",
    "                                B[k*rowsOfB-0, l*pdim-0] = F[1] * ∂h[3, (k-1)*numNodes+l] + F[9] * ∂h[1, (k-1)*numNodes+l]\n",
    "                            end\n",
    "                        end\n",
    "                    else\n",
    "                        error(\"stiffnessMatrixLinear: rows of B is $rowsOfB, dimension of the problem is $dim.\")\n",
    "                    end\n",
    "                    K1 .*= 0\n",
    "                    for k in 1:numIntPoints\n",
    "                        B1 = B[k*rowsOfB-(rowsOfB-1):k*rowsOfB, 1:pdim*numNodes]\n",
    "                        K1 += B1' * D * B1 * b * jacDet[k] * intWeights[k]\n",
    "                    end\n",
    "                    append!(I, nn2[Iidx[:]])\n",
    "                    append!(J, nn2[Jidx[:]])\n",
    "                    append!(V, K1[:])\n",
    "                end\n",
    "                push!(nn, nnet)\n",
    "            end\n",
    "        end\n",
    "    end\n",
    "    dof = problem.pdim * problem.non\n",
    "    K = sparse(I, J, V, dof, dof)\n",
    "    dropzeros!(K)\n",
    "    return K\n",
    "end\n",
    "\n"
   ]
  },
  {
   "cell_type": "code",
   "execution_count": 124,
   "id": "dca18561",
   "metadata": {},
   "outputs": [
    {
     "data": {
      "text/plain": [
       "36×36 SparseMatrixCSC{Float64, Int64} with 1002 stored entries:\n",
       "⎡⣿⣿⣿⣿⣿⣿⣿⣿⣿⣿⣿⣿⠀⠀⠀⠀⠀⠀⎤\n",
       "⎢⣿⣿⣿⣿⣿⣿⣿⣿⣿⣿⣿⣿⠀⠀⠀⠀⠀⠀⎥\n",
       "⎢⣿⣿⣿⣿⣿⣿⣿⣿⣿⣿⣿⣿⠀⠀⠀⠀⠀⠀⎥\n",
       "⎢⣿⣿⣿⣿⣿⣿⣷⣿⣿⣽⣿⣿⣿⣿⣿⣿⣿⣿⎥\n",
       "⎢⣿⣿⣿⣿⣿⣿⣿⣿⣿⣿⡿⣻⣿⣿⣿⣿⣿⣿⎥\n",
       "⎢⣿⣿⣿⣿⣿⣿⣿⣿⣿⣻⣿⣽⣿⣿⣿⣿⣿⣿⎥\n",
       "⎢⠀⠀⠀⠀⠀⠀⣿⣿⣿⣿⣿⣿⣿⣿⣿⣿⣿⣿⎥\n",
       "⎢⠀⠀⠀⠀⠀⠀⣿⣿⣿⣿⣿⣿⣿⣿⣿⣿⣿⣿⎥\n",
       "⎣⠀⠀⠀⠀⠀⠀⣿⣿⣿⣿⣿⣿⣿⣿⣿⣿⣿⣿⎦"
      ]
     },
     "metadata": {},
     "output_type": "display_data"
    }
   ],
   "source": [
    "stiffnessMatrixLinear(problem, r)"
   ]
  },
  {
   "cell_type": "code",
   "execution_count": 125,
   "id": "92ddf343",
   "metadata": {},
   "outputs": [
    {
     "data": {
      "text/plain": [
       "36×36 SparseMatrixCSC{Float64, Int64} with 962 stored entries:\n",
       "⎡⣿⣿⣿⣿⣿⣿⣿⣿⣿⣿⣿⣿⠀⠀⠀⠀⠀⠀⎤\n",
       "⎢⣿⣿⣿⣿⣿⣿⣿⣿⣿⣿⣿⣿⠀⠀⠀⠀⠀⠀⎥\n",
       "⎢⣿⣿⣿⣿⣿⣿⣿⣿⣿⣿⣿⣿⠀⠀⠀⠀⠀⠀⎥\n",
       "⎢⣿⣿⣿⣿⣿⣿⡱⣮⠶⡷⢟⠶⣿⣿⣿⣿⣿⣿⎥\n",
       "⎢⣿⣿⣿⣿⣿⣿⢾⡣⣟⢽⣫⣻⣿⣿⣿⣿⣿⣿⎥\n",
       "⎢⣿⣿⣿⣿⣿⣿⢮⡕⣯⣮⡕⣭⣿⣿⣿⣿⣿⣿⎥\n",
       "⎢⠀⠀⠀⠀⠀⠀⣿⣿⣿⣿⣿⣿⣿⣿⣿⣿⣿⣿⎥\n",
       "⎢⠀⠀⠀⠀⠀⠀⣿⣿⣿⣿⣿⣿⣿⣿⣿⣿⣿⣿⎥\n",
       "⎣⠀⠀⠀⠀⠀⠀⣿⣿⣿⣿⣿⣿⣿⣿⣿⣿⣿⣿⎦"
      ]
     },
     "metadata": {},
     "output_type": "display_data"
    }
   ],
   "source": [
    "FEM.stiffnessMatrix(problem)"
   ]
  },
  {
   "cell_type": "code",
   "execution_count": 126,
   "id": "7b517a53",
   "metadata": {},
   "outputs": [],
   "source": [
    "gmsh.finalize()"
   ]
  }
 ],
 "metadata": {
  "kernelspec": {
   "display_name": "Julia 1.11.5",
   "language": "julia",
   "name": "julia-1.11"
  },
  "language_info": {
   "file_extension": ".jl",
   "mimetype": "application/julia",
   "name": "julia",
   "version": "1.11.5"
  }
 },
 "nbformat": 4,
 "nbformat_minor": 5
}
