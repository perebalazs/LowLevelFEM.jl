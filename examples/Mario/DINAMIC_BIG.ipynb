{
 "cells": [
  {
   "cell_type": "code",
   "execution_count": 170,
   "metadata": {},
   "outputs": [],
   "source": [
    "using LowLevelFEM\n",
    "import LowLevelFEM as FEM\n",
    "\n",
    "gmsh.initialize()"
   ]
  },
  {
   "cell_type": "code",
   "execution_count": 171,
   "metadata": {},
   "outputs": [
    {
     "name": "stdout",
     "output_type": "stream",
     "text": [
      "Info    : Reading 'DINAMIC_BIG.geo'...\n",
      "Info    : Meshing 1D...\n",
      "Info    : [  0%] Meshing curve 1 (Line)\n",
      "Info    : [ 10%] Meshing curve 2 (Line)\n",
      "Info    : [ 10%] Meshing curve 3 (Line)\n",
      "Info    : [ 10%] Meshing curve 4 (Line)\n",
      "Info    : [ 10%] Meshing curve 5 (Circle)\n",
      "Info    : [ 20%] Meshing curve 6 (Circle)\n",
      "Info    : [ 20%] Meshing curve 7 (Circle)\n",
      "Info    : [ 20%] Meshing curve 8 (Circle)\n",
      "Info    : [ 20%] Meshing curve 9 (Circle)\n",
      "Info    : [ 20%] Meshing curve 10 (Circle)\n",
      "Info    : [ 30%] Meshing curve 11 (Circle)\n",
      "Info    : [ 30%] Meshing curve 12 (Circle)\n",
      "Info    : [ 30%] Meshing curve 13 (Circle)\n",
      "Info    : [ 30%] Meshing curve 14 (Circle)\n",
      "Info    : [ 30%] Meshing curve 15 (Circle)\n",
      "Info    : [ 40%] Meshing curve 16 (Circle)\n",
      "Info    : [ 40%] Meshing curve 17 (Circle)\n",
      "Info    : [ 40%] Meshing curve 18 (Circle)\n",
      "Info    : [ 40%] Meshing curve 19 (Circle)\n",
      "Info    : [ 40%] Meshing curve 20 (Circle)\n",
      "Info    : [ 50%] Meshing curve 21 (Circle)\n",
      "Info    : [ 50%] Meshing curve 22 (Circle)\n",
      "Info    : [ 50%] Meshing curve 23 (Circle)\n",
      "Info    : [ 50%] Meshing curve 24 (Circle)\n",
      "Info    : [ 50%] Meshing curve 25 (Circle)\n",
      "Info    : [ 60%] Meshing curve 26 (Circle)\n",
      "Info    : [ 60%] Meshing curve 27 (Circle)\n",
      "Info    : [ 60%] Meshing curve 28 (Circle)\n",
      "Info    : [ 60%] Meshing curve 29 (Circle)\n",
      "Info    : [ 60%] Meshing curve 30 (Circle)\n",
      "Info    : [ 70%] Meshing curve 31 (Circle)\n",
      "Info    : [ 70%] Meshing curve 32 (Circle)\n",
      "Info    : [ 70%] Meshing curve 33 (Circle)\n",
      "Info    : [ 70%] Meshing curve 34 (Circle)\n",
      "Info    : [ 70%] Meshing curve 35 (Circle)\n",
      "Info    : [ 80%] Meshing curve 36 (Circle)\n",
      "Info    : [ 80%] Meshing curve 37 (Circle)\n",
      "Info    : [ 80%] Meshing curve 38 (Circle)\n",
      "Info    : [ 80%] Meshing curve 39 (Circle)\n",
      "Info    : [ 80%] Meshing curve 40 (Circle)\n",
      "Info    : [ 90%] Meshing curve 41 (Circle)\n",
      "Info    : [ 90%] Meshing curve 42 (Circle)\n",
      "Info    : [ 90%] Meshing curve 43 (Circle)\n",
      "Info    : [ 90%] Meshing curve 44 (Circle)\n",
      "Info    : [ 90%] Meshing curve 45 (Circle)\n",
      "Info    : [100%] Meshing curve 46 (Circle)\n",
      "Info    : [100%] Meshing curve 47 (Line)\n",
      "Info    : [100%] Meshing curve 48 (Line)\n",
      "Info    : [100%] Meshing curve 49 (Line)\n",
      "Info    : Done meshing 1D (Wall 0.00782864s, CPU 0.006964s)\n",
      "Info    : Meshing 2D...\n",
      "Info    : [  0%] Meshing surface 1 (Plane, Frontal-Delaunay)\n",
      "Info    : [ 10%] Meshing surface 2 (Plane, Frontal-Delaunay)\n",
      "Info    : [ 10%] Blossom: 495 internal 198 closed\n",
      "Info    : [ 10%] Blossom recombination completed (Wall 0.0183147s, CPU 0.01827s): 198 quads, 0 triangles, 0 invalid quads, 0 quads with Q < 0.1, avg Q = 0.941783, min Q = 0.925948\n",
      "Info    : [ 10%] Meshing surface 3 (Plane, Frontal-Delaunay)\n",
      "Info    : [ 10%] Blossom: 495 internal 198 closed\n",
      "Info    : [ 10%] Blossom recombination completed (Wall 0.0175296s, CPU 0.017522s): 198 quads, 0 triangles, 0 invalid quads, 0 quads with Q < 0.1, avg Q = 0.940347, min Q = 0.924121\n",
      "Info    : [ 20%] Meshing surface 4 (Plane, Frontal-Delaunay)\n",
      "Info    : [ 20%] Blossom: 495 internal 198 closed\n",
      "Info    : [ 20%] Blossom recombination completed (Wall 0.020732s, CPU 0.020258s): 198 quads, 0 triangles, 0 invalid quads, 0 quads with Q < 0.1, avg Q = 0.93871, min Q = 0.921251\n",
      "Info    : [ 20%] Meshing surface 5 (Plane, Frontal-Delaunay)\n",
      "Info    : [ 20%] Blossom: 495 internal 198 closed\n",
      "Info    : [ 20%] Blossom recombination completed (Wall 0.0180694s, CPU 0.01807s): 198 quads, 0 triangles, 0 invalid quads, 0 quads with Q < 0.1, avg Q = 0.93874, min Q = 0.922297\n",
      "Info    : [ 30%] Meshing surface 6 (Plane, Frontal-Delaunay)\n",
      "Info    : [ 30%] Blossom: 495 internal 198 closed\n",
      "Info    : [ 30%] Blossom recombination completed (Wall 0.0199215s, CPU 0.019722s): 198 quads, 0 triangles, 0 invalid quads, 0 quads with Q < 0.1, avg Q = 0.938679, min Q = 0.921758\n",
      "Info    : [ 30%] Meshing surface 7 (Plane, Frontal-Delaunay)\n",
      "Info    : [ 30%] Blossom: 480 internal 192 closed\n",
      "Info    : [ 30%] Blossom recombination completed (Wall 0.0169497s, CPU 0.01695s): 192 quads, 0 triangles, 0 invalid quads, 0 quads with Q < 0.1, avg Q = 0.94006, min Q = 0.923488\n",
      "Info    : [ 40%] Meshing surface 8 (Plane, Frontal-Delaunay)\n",
      "Info    : [ 40%] Blossom: 495 internal 198 closed\n",
      "Info    : [ 40%] Blossom recombination completed (Wall 0.0173568s, CPU 0.017357s): 198 quads, 0 triangles, 0 invalid quads, 0 quads with Q < 0.1, avg Q = 0.941923, min Q = 0.926415\n",
      "Info    : [ 40%] Meshing surface 9 (Plane, Frontal-Delaunay)\n",
      "Info    : [ 40%] Blossom: 495 internal 198 closed\n",
      "Info    : [ 40%] Blossom recombination completed (Wall 0.0191334s, CPU 0.018976s): 198 quads, 0 triangles, 0 invalid quads, 0 quads with Q < 0.1, avg Q = 0.943285, min Q = 0.928284\n",
      "Info    : [ 40%] Meshing surface 10 (Plane, Frontal-Delaunay)\n",
      "Info    : [ 40%] Blossom: 480 internal 192 closed\n",
      "Info    : [ 40%] Blossom recombination completed (Wall 0.0171722s, CPU 0.017172s): 192 quads, 0 triangles, 0 invalid quads, 0 quads with Q < 0.1, avg Q = 0.938512, min Q = 0.921593\n",
      "Info    : [ 50%] Meshing surface 11 (Plane, Frontal-Delaunay)\n",
      "Info    : [ 50%] Blossom: 480 internal 192 closed\n",
      "Info    : [ 50%] Blossom recombination completed (Wall 0.0172687s, CPU 0.017269s): 192 quads, 0 triangles, 0 invalid quads, 0 quads with Q < 0.1, avg Q = 0.945864, min Q = 0.932319\n",
      "Info    : [ 50%] Meshing surface 12 (Plane, Frontal-Delaunay)\n",
      "Info    : [ 50%] Blossom: 495 internal 198 closed\n",
      "Info    : [ 50%] Blossom recombination completed (Wall 0.0183063s, CPU 0.018192s): 198 quads, 0 triangles, 0 invalid quads, 0 quads with Q < 0.1, avg Q = 0.954715, min Q = 0.947095\n",
      "Info    : [ 60%] Meshing surface 13 (Plane, Frontal-Delaunay)\n",
      "Info    : [ 60%] Blossom: 495 internal 198 closed\n",
      "Info    : [ 60%] Blossom recombination completed (Wall 0.0180797s, CPU 0.018079s): 198 quads, 0 triangles, 0 invalid quads, 0 quads with Q < 0.1, avg Q = 0.954664, min Q = 0.945273\n",
      "Info    : [ 60%] Meshing surface 14 (Plane, Frontal-Delaunay)\n",
      "Info    : [ 60%] Blossom: 495 internal 198 closed\n",
      "Info    : [ 60%] Blossom recombination completed (Wall 0.0170577s, CPU 0.017057s): 198 quads, 0 triangles, 0 invalid quads, 0 quads with Q < 0.1, avg Q = 0.954665, min Q = 0.947121\n",
      "Info    : [ 70%] Meshing surface 15 (Plane, Frontal-Delaunay)\n",
      "Info    : [ 70%] Blossom: 495 internal 198 closed\n",
      "Info    : [ 70%] Blossom recombination completed (Wall 0.0204894s, CPU 0.020384s): 198 quads, 0 triangles, 0 invalid quads, 0 quads with Q < 0.1, avg Q = 0.954675, min Q = 0.945421\n",
      "Info    : [ 70%] Meshing surface 16 (Plane, Frontal-Delaunay)\n",
      "Info    : [ 70%] Blossom: 495 internal 198 closed\n",
      "Info    : [ 70%] Blossom recombination completed (Wall 0.0173406s, CPU 0.01734s): 198 quads, 0 triangles, 0 invalid quads, 0 quads with Q < 0.1, avg Q = 0.938647, min Q = 0.921251\n",
      "Info    : [ 70%] Meshing surface 17 (Plane, Frontal-Delaunay)\n",
      "Info    : [ 70%] Blossom: 495 internal 198 closed\n",
      "Info    : [ 70%] Blossom recombination completed (Wall 0.0168751s, CPU 0.016875s): 198 quads, 0 triangles, 0 invalid quads, 0 quads with Q < 0.1, avg Q = 0.938678, min Q = 0.921758\n",
      "Info    : [ 80%] Meshing surface 18 (Plane, Frontal-Delaunay)\n",
      "Info    : [ 80%] Blossom: 495 internal 198 closed\n",
      "Info    : [ 80%] Blossom recombination completed (Wall 0.0184988s, CPU 0.018431s): 198 quads, 0 triangles, 0 invalid quads, 0 quads with Q < 0.1, avg Q = 0.935597, min Q = 0.917069\n",
      "Info    : [ 80%] Meshing surface 19 (Plane, Frontal-Delaunay)\n",
      "Info    : [ 80%] Blossom: 470 internal 188 closed\n",
      "Info    : [ 80%] Blossom recombination completed (Wall 0.0171229s, CPU 0.017123s): 188 quads, 0 triangles, 0 invalid quads, 0 quads with Q < 0.1, avg Q = 0.942666, min Q = 0.928447\n",
      "Info    : [ 90%] Meshing surface 20 (Plane, Frontal-Delaunay)\n",
      "Info    : [ 90%] Blossom: 495 internal 198 closed\n",
      "Info    : [ 90%] Blossom recombination completed (Wall 0.017919s, CPU 0.01792s): 198 quads, 0 triangles, 0 invalid quads, 0 quads with Q < 0.1, avg Q = 0.948172, min Q = 0.935661\n",
      "Info    : [ 90%] Meshing surface 21 (Plane, Frontal-Delaunay)\n",
      "Info    : [ 90%] Blossom: 495 internal 198 closed\n",
      "Info    : [ 90%] Blossom recombination completed (Wall 0.0287506s, CPU 0.027085s): 198 quads, 0 triangles, 0 invalid quads, 0 quads with Q < 0.1, avg Q = 0.844944, min Q = 0.477168\n",
      "Info    : [100%] Meshing surface 22 (Plane, Frontal-Delaunay)\n",
      "Info    : [100%] Blossom: 495 internal 198 closed\n",
      "Info    : [100%] Blossom recombination completed (Wall 0.0177384s, CPU 0.017738s): 198 quads, 0 triangles, 0 invalid quads, 0 quads with Q < 0.1, avg Q = 0.953212, min Q = 0.943347\n",
      "Info    : [100%] Meshing surface 23 (Plane, Frontal-Delaunay)\n",
      "Info    : Done meshing 2D (Wall 3.33286s, CPU 2.91295s)\n",
      "Info    : 15900 nodes 29923 elements\n",
      "Info    : Done reading 'DINAMIC_BIG.geo'\n"
     ]
    }
   ],
   "source": [
    "gmsh.open(\"DINAMIC_BIG.geo\")"
   ]
  },
  {
   "cell_type": "code",
   "execution_count": 172,
   "metadata": {},
   "outputs": [
    {
     "name": "stdout",
     "output_type": "stream",
     "text": [
      "Info    : RCMK renumbering...\n",
      "Info    : Done RCMK renumbering (bandwidth is now 216)\n"
     ]
    },
    {
     "data": {
      "text/plain": [
       "LowLevelFEM.Problem(\"DINAMIC_BIG\", :PlaneStress, 2, 2, LowLevelFEM.Material[LowLevelFEM.Material(\"alu\", 71000.0, 0.334, 2.7e-9, 45.0, 4.2e8, 1.2e-5), LowLevelFEM.Material(\"vas\", 196000.0, 0.25, 7.87e-9, 45.0, 4.2e8, 1.2e-5)], 1.0, 15900)"
      ]
     },
     "metadata": {},
     "output_type": "display_data"
    }
   ],
   "source": [
    "alu = FEM.material(\"alu\", E=0.71e5, ν=0.334, ρ=2.7e-9)\n",
    "vas = FEM.material(\"vas\", E=1.96e5, ν=0.25, ρ=7.87e-9)\n",
    "problem = FEM.Problem([alu, vas], type=:PlaneStress)"
   ]
  },
  {
   "cell_type": "code",
   "execution_count": 173,
   "metadata": {},
   "outputs": [
    {
     "data": {
      "text/plain": [
       "31800-element Vector{Float64}:\n",
       "  0.0\n",
       "  0.0\n",
       "  0.0\n",
       "  0.0\n",
       " -0.012499999999999956\n",
       "  0.0\n",
       " -0.012499999999999956\n",
       "  0.0\n",
       "  0.0\n",
       "  0.0\n",
       "  ⋮\n",
       "  0.0\n",
       "  0.0\n",
       "  0.0\n",
       "  0.0\n",
       "  0.0\n",
       "  0.0\n",
       "  0.0\n",
       "  0.0\n",
       "  0.0"
      ]
     },
     "metadata": {},
     "output_type": "display_data"
    }
   ],
   "source": [
    "supp = FEM.displacementConstraint(\"left\", ux=0, uy=0)\n",
    "force = FEM.load(\"right\", fx=-1)\n",
    "f = FEM.loadVector(problem, [force])"
   ]
  },
  {
   "cell_type": "code",
   "execution_count": 174,
   "metadata": {},
   "outputs": [
    {
     "data": {
      "text/plain": [
       "31800×31800 SparseArrays.SparseMatrixCSC{Float64, Int64} with 459102 stored entries:\n",
       "⎡⡿⣯⡉⠉⠉⠉⠉⠉⠉⠉⠉⢹⣿⣿⡍⠻⣑⢐⠟⡿⡗⡶⣶⣿⣿⣷⣿⣿⣿⣿⢿⣯⠉⠉⠉⠉⠩⠀⠤⠭⎤\n",
       "⎢⡇⠈⠻⣦⡀⠀⠀⠀⠀⠀⠀⢸⣿⣿⠀⠠⠘⠀⡃⢸⠷⣿⣿⣿⣷⣷⣭⢿⣿⣼⣻⡟⣧⠀⠀⠀⠀⠀⠀⠀⎥\n",
       "⎢⡇⠀⠀⠈⠻⣦⡀⠀⠀⠀⠀⢸⣿⣿⣆⡠⠨⠰⢫⣞⡧⠢⢾⣿⣗⣷⢿⢮⠞⣿⣸⡇⠘⣧⠀⠀⠀⠀⠀⠀⎥\n",
       "⎢⡇⠀⠀⠀⠀⠈⠻⣦⡀⠀⠀⢸⣿⣿⠂⠀⠀⠀⠃⠚⠆⠀⠘⢿⣿⣟⢿⡟⣿⣧⠉⠁⠀⠘⣧⠀⠀⠀⠀⠀⎥\n",
       "⎢⡇⠀⠀⠀⠀⠀⠀⠈⠻⣦⡀⢸⣿⣿⡣⣅⣿⣠⣟⣿⡷⣝⣿⣿⣻⣿⣾⣽⣿⣷⣿⡇⠀⠀⠘⣧⠀⠀⠀⠀⎥\n",
       "⎢⣇⣀⣀⣀⣀⣀⣀⣀⣀⣈⣻⣾⠿⠿⢐⣠⣀⣠⣂⣯⣌⣀⣐⣭⣿⣷⣿⣿⣯⣫⣝⡃⠀⠀⠀⠘⣧⢀⣀⣀⎥\n",
       "⎢⣿⣿⣿⣿⣿⣿⣿⣿⣿⣿⣿⡇⠱⣦⣾⣻⣿⣹⣿⣿⣿⣿⣿⣿⣿⣿⣿⣿⣿⣿⣿⡇⠀⠀⠀⠀⠀⠀⠀⠀⎥\n",
       "⎢⣧⡉⠀⡀⠈⡹⠈⠀⠍⢮⠐⣰⣾⣻⡻⣮⡽⢈⢽⣿⣷⡮⡿⣿⣿⣿⣿⣿⣿⣿⣿⡇⠀⠀⠀⠀⠀⠀⠀⠀⎥\n",
       "⎢⢑⢘⠒⠀⢂⡂⠀⠀⠛⣻⠀⣸⣟⣻⡓⢋⣻⣾⣿⣿⣿⣲⣿⣿⣿⣿⣿⣿⣿⣿⣿⡇⠀⠀⠀⠀⠀⠀⠀⠀⎥\n",
       "⎢⣿⡥⣉⣈⣫⢶⣩⠀⣿⣽⡬⣼⣿⣿⣷⣷⣿⣿⣿⣿⣿⣯⣿⣿⣿⣿⣿⣿⣿⣿⣿⡇⠀⠀⠀⠀⠀⠀⠀⠀⎥\n",
       "⎢⢹⡭⣽⣧⠩⡋⠈⠁⣝⢯⠂⢹⣿⣿⡹⡿⢻⣻⡿⣿⣿⣿⣿⣿⣿⣿⣿⣿⣿⣿⣿⡇⠀⠀⠀⠀⠀⠀⠀⠀⎥\n",
       "⎢⣼⣿⣿⣿⣾⣷⣶⣄⣿⣿⡔⣼⣿⣿⣿⣯⣿⣿⣿⣿⣿⣿⣿⣿⣿⣿⣿⣿⣿⣿⣿⡇⠀⠀⠀⠀⠀⠀⠀⠀⎥\n",
       "⎢⢿⣿⢽⣿⢽⣽⣿⢿⣿⣾⢿⣿⣿⣿⣿⣿⣿⣿⣿⣿⣿⣿⣿⣿⣿⣿⣿⣿⣿⣿⣿⡇⠀⠀⠀⠀⠀⠀⠀⠀⎥\n",
       "⎢⣿⣿⣧⣟⡻⣗⣿⠷⣞⣿⣿⣿⣿⣿⣿⣿⣿⣿⣿⣿⣿⣿⣿⣿⣿⣿⣿⣿⣿⣿⣿⡇⠀⠀⠀⠀⠀⠀⠀⠀⎥\n",
       "⎢⣿⣿⣛⣿⣾⣥⠿⣿⢿⣿⡯⣻⣿⣿⣿⣿⣿⣿⣿⣿⣿⣿⣿⣿⣿⣿⣿⣿⣿⣿⣿⡇⠀⠀⠀⠀⠀⠀⠀⠀⎥\n",
       "⎢⡿⣷⣿⠾⠶⠾⠇⠀⠿⠿⠷⠹⠿⠿⠿⠿⠿⠿⠿⠿⠿⠿⠿⠿⠿⠿⠿⠿⠿⠿⠿⣧⡀⠀⠀⠀⠀⠀⠀⠀⎥\n",
       "⎢⡇⠀⠉⠛⠶⣤⣀⠀⠀⠀⠀⠀⠀⠀⠀⠀⠀⠀⠀⠀⠀⠀⠀⠀⠀⠀⠀⠀⠀⠀⠀⠈⠻⣦⡀⠀⠀⠀⠀⠀⎥\n",
       "⎢⡇⠀⠀⠀⠀⠀⠉⠛⠶⣤⣀⠀⠀⠀⠀⠀⠀⠀⠀⠀⠀⠀⠀⠀⠀⠀⠀⠀⠀⠀⠀⠀⠀⠈⠻⣦⡀⠀⠀⠀⎥\n",
       "⎢⠃⠂⠀⠀⠀⠀⠀⠀⠀⠀⠉⢛⠀⠀⠀⠀⠀⠀⠀⠀⠀⠀⠀⠀⠀⠀⠀⠀⠀⠀⠀⠀⠀⠀⠀⠈⢻⣶⣶⣶⎥\n",
       "⎣⡄⡇⠀⠀⠀⠀⠀⠀⠀⠀⠀⢸⠀⠀⠀⠀⠀⠀⠀⠀⠀⠀⠀⠀⠀⠀⠀⠀⠀⠀⠀⠀⠀⠀⠀⠀⢸⣿⣿⣿⎦"
      ]
     },
     "metadata": {},
     "output_type": "display_data"
    }
   ],
   "source": [
    "K = FEM.stiffnessMatrix(problem)"
   ]
  },
  {
   "cell_type": "code",
   "execution_count": 175,
   "metadata": {},
   "outputs": [
    {
     "data": {
      "text/plain": [
       "31800×31800 SparseArrays.SparseMatrixCSC{Float64, Int64} with 31800 stored entries:\n",
       "⎡⠑⢄⠀⠀⠀⠀⠀⠀⠀⠀⠀⠀⠀⠀⠀⠀⠀⠀⠀⠀⠀⠀⠀⠀⠀⠀⠀⠀⠀⠀⠀⠀⠀⠀⠀⠀⠀⠀⠀⠀⎤\n",
       "⎢⠀⠀⠑⢄⠀⠀⠀⠀⠀⠀⠀⠀⠀⠀⠀⠀⠀⠀⠀⠀⠀⠀⠀⠀⠀⠀⠀⠀⠀⠀⠀⠀⠀⠀⠀⠀⠀⠀⠀⠀⎥\n",
       "⎢⠀⠀⠀⠀⠑⢄⠀⠀⠀⠀⠀⠀⠀⠀⠀⠀⠀⠀⠀⠀⠀⠀⠀⠀⠀⠀⠀⠀⠀⠀⠀⠀⠀⠀⠀⠀⠀⠀⠀⠀⎥\n",
       "⎢⠀⠀⠀⠀⠀⠀⠑⢄⠀⠀⠀⠀⠀⠀⠀⠀⠀⠀⠀⠀⠀⠀⠀⠀⠀⠀⠀⠀⠀⠀⠀⠀⠀⠀⠀⠀⠀⠀⠀⠀⎥\n",
       "⎢⠀⠀⠀⠀⠀⠀⠀⠀⠑⢄⠀⠀⠀⠀⠀⠀⠀⠀⠀⠀⠀⠀⠀⠀⠀⠀⠀⠀⠀⠀⠀⠀⠀⠀⠀⠀⠀⠀⠀⠀⎥\n",
       "⎢⠀⠀⠀⠀⠀⠀⠀⠀⠀⠀⠑⢄⠀⠀⠀⠀⠀⠀⠀⠀⠀⠀⠀⠀⠀⠀⠀⠀⠀⠀⠀⠀⠀⠀⠀⠀⠀⠀⠀⠀⎥\n",
       "⎢⠀⠀⠀⠀⠀⠀⠀⠀⠀⠀⠀⠀⠑⢄⠀⠀⠀⠀⠀⠀⠀⠀⠀⠀⠀⠀⠀⠀⠀⠀⠀⠀⠀⠀⠀⠀⠀⠀⠀⠀⎥\n",
       "⎢⠀⠀⠀⠀⠀⠀⠀⠀⠀⠀⠀⠀⠀⠀⠑⢄⠀⠀⠀⠀⠀⠀⠀⠀⠀⠀⠀⠀⠀⠀⠀⠀⠀⠀⠀⠀⠀⠀⠀⠀⎥\n",
       "⎢⠀⠀⠀⠀⠀⠀⠀⠀⠀⠀⠀⠀⠀⠀⠀⠀⠑⢄⠀⠀⠀⠀⠀⠀⠀⠀⠀⠀⠀⠀⠀⠀⠀⠀⠀⠀⠀⠀⠀⠀⎥\n",
       "⎢⠀⠀⠀⠀⠀⠀⠀⠀⠀⠀⠀⠀⠀⠀⠀⠀⠀⠀⠑⢄⠀⠀⠀⠀⠀⠀⠀⠀⠀⠀⠀⠀⠀⠀⠀⠀⠀⠀⠀⠀⎥\n",
       "⎢⠀⠀⠀⠀⠀⠀⠀⠀⠀⠀⠀⠀⠀⠀⠀⠀⠀⠀⠀⠀⠑⢄⠀⠀⠀⠀⠀⠀⠀⠀⠀⠀⠀⠀⠀⠀⠀⠀⠀⠀⎥\n",
       "⎢⠀⠀⠀⠀⠀⠀⠀⠀⠀⠀⠀⠀⠀⠀⠀⠀⠀⠀⠀⠀⠀⠀⠑⢄⠀⠀⠀⠀⠀⠀⠀⠀⠀⠀⠀⠀⠀⠀⠀⠀⎥\n",
       "⎢⠀⠀⠀⠀⠀⠀⠀⠀⠀⠀⠀⠀⠀⠀⠀⠀⠀⠀⠀⠀⠀⠀⠀⠀⠑⢄⠀⠀⠀⠀⠀⠀⠀⠀⠀⠀⠀⠀⠀⠀⎥\n",
       "⎢⠀⠀⠀⠀⠀⠀⠀⠀⠀⠀⠀⠀⠀⠀⠀⠀⠀⠀⠀⠀⠀⠀⠀⠀⠀⠀⠑⢄⠀⠀⠀⠀⠀⠀⠀⠀⠀⠀⠀⠀⎥\n",
       "⎢⠀⠀⠀⠀⠀⠀⠀⠀⠀⠀⠀⠀⠀⠀⠀⠀⠀⠀⠀⠀⠀⠀⠀⠀⠀⠀⠀⠀⠑⢄⠀⠀⠀⠀⠀⠀⠀⠀⠀⠀⎥\n",
       "⎢⠀⠀⠀⠀⠀⠀⠀⠀⠀⠀⠀⠀⠀⠀⠀⠀⠀⠀⠀⠀⠀⠀⠀⠀⠀⠀⠀⠀⠀⠀⠑⢄⠀⠀⠀⠀⠀⠀⠀⠀⎥\n",
       "⎢⠀⠀⠀⠀⠀⠀⠀⠀⠀⠀⠀⠀⠀⠀⠀⠀⠀⠀⠀⠀⠀⠀⠀⠀⠀⠀⠀⠀⠀⠀⠀⠀⠑⢄⠀⠀⠀⠀⠀⠀⎥\n",
       "⎢⠀⠀⠀⠀⠀⠀⠀⠀⠀⠀⠀⠀⠀⠀⠀⠀⠀⠀⠀⠀⠀⠀⠀⠀⠀⠀⠀⠀⠀⠀⠀⠀⠀⠀⠑⢄⠀⠀⠀⠀⎥\n",
       "⎢⠀⠀⠀⠀⠀⠀⠀⠀⠀⠀⠀⠀⠀⠀⠀⠀⠀⠀⠀⠀⠀⠀⠀⠀⠀⠀⠀⠀⠀⠀⠀⠀⠀⠀⠀⠀⠑⢄⠀⠀⎥\n",
       "⎣⠀⠀⠀⠀⠀⠀⠀⠀⠀⠀⠀⠀⠀⠀⠀⠀⠀⠀⠀⠀⠀⠀⠀⠀⠀⠀⠀⠀⠀⠀⠀⠀⠀⠀⠀⠀⠀⠀⠑⢄⎦"
      ]
     },
     "metadata": {},
     "output_type": "display_data"
    }
   ],
   "source": [
    "M = FEM.massMatrix(problem)"
   ]
  },
  {
   "cell_type": "code",
   "execution_count": 176,
   "metadata": {},
   "outputs": [
    {
     "data": {
      "text/plain": [
       "2.0321942607664769e9"
      ]
     },
     "metadata": {},
     "output_type": "display_data"
    }
   ],
   "source": [
    "ωmax = 2π / FEM.smallestPeriodTime(K, M)"
   ]
  },
  {
   "cell_type": "code",
   "execution_count": 177,
   "metadata": {},
   "outputs": [
    {
     "data": {
      "text/plain": [
       "31800×31800 SparseArrays.SparseMatrixCSC{Float64, Int64} with 0 stored entries:\n",
       "⎡⠀⠀⠀⠀⠀⠀⠀⠀⠀⠀⠀⠀⠀⠀⠀⠀⠀⠀⠀⠀⠀⠀⠀⠀⠀⠀⠀⠀⠀⠀⠀⠀⠀⠀⠀⠀⠀⠀⠀⠀⎤\n",
       "⎢⠀⠀⠀⠀⠀⠀⠀⠀⠀⠀⠀⠀⠀⠀⠀⠀⠀⠀⠀⠀⠀⠀⠀⠀⠀⠀⠀⠀⠀⠀⠀⠀⠀⠀⠀⠀⠀⠀⠀⠀⎥\n",
       "⎢⠀⠀⠀⠀⠀⠀⠀⠀⠀⠀⠀⠀⠀⠀⠀⠀⠀⠀⠀⠀⠀⠀⠀⠀⠀⠀⠀⠀⠀⠀⠀⠀⠀⠀⠀⠀⠀⠀⠀⠀⎥\n",
       "⎢⠀⠀⠀⠀⠀⠀⠀⠀⠀⠀⠀⠀⠀⠀⠀⠀⠀⠀⠀⠀⠀⠀⠀⠀⠀⠀⠀⠀⠀⠀⠀⠀⠀⠀⠀⠀⠀⠀⠀⠀⎥\n",
       "⎢⠀⠀⠀⠀⠀⠀⠀⠀⠀⠀⠀⠀⠀⠀⠀⠀⠀⠀⠀⠀⠀⠀⠀⠀⠀⠀⠀⠀⠀⠀⠀⠀⠀⠀⠀⠀⠀⠀⠀⠀⎥\n",
       "⎢⠀⠀⠀⠀⠀⠀⠀⠀⠀⠀⠀⠀⠀⠀⠀⠀⠀⠀⠀⠀⠀⠀⠀⠀⠀⠀⠀⠀⠀⠀⠀⠀⠀⠀⠀⠀⠀⠀⠀⠀⎥\n",
       "⎢⠀⠀⠀⠀⠀⠀⠀⠀⠀⠀⠀⠀⠀⠀⠀⠀⠀⠀⠀⠀⠀⠀⠀⠀⠀⠀⠀⠀⠀⠀⠀⠀⠀⠀⠀⠀⠀⠀⠀⠀⎥\n",
       "⎢⠀⠀⠀⠀⠀⠀⠀⠀⠀⠀⠀⠀⠀⠀⠀⠀⠀⠀⠀⠀⠀⠀⠀⠀⠀⠀⠀⠀⠀⠀⠀⠀⠀⠀⠀⠀⠀⠀⠀⠀⎥\n",
       "⎢⠀⠀⠀⠀⠀⠀⠀⠀⠀⠀⠀⠀⠀⠀⠀⠀⠀⠀⠀⠀⠀⠀⠀⠀⠀⠀⠀⠀⠀⠀⠀⠀⠀⠀⠀⠀⠀⠀⠀⠀⎥\n",
       "⎢⠀⠀⠀⠀⠀⠀⠀⠀⠀⠀⠀⠀⠀⠀⠀⠀⠀⠀⠀⠀⠀⠀⠀⠀⠀⠀⠀⠀⠀⠀⠀⠀⠀⠀⠀⠀⠀⠀⠀⠀⎥\n",
       "⎢⠀⠀⠀⠀⠀⠀⠀⠀⠀⠀⠀⠀⠀⠀⠀⠀⠀⠀⠀⠀⠀⠀⠀⠀⠀⠀⠀⠀⠀⠀⠀⠀⠀⠀⠀⠀⠀⠀⠀⠀⎥\n",
       "⎢⠀⠀⠀⠀⠀⠀⠀⠀⠀⠀⠀⠀⠀⠀⠀⠀⠀⠀⠀⠀⠀⠀⠀⠀⠀⠀⠀⠀⠀⠀⠀⠀⠀⠀⠀⠀⠀⠀⠀⠀⎥\n",
       "⎢⠀⠀⠀⠀⠀⠀⠀⠀⠀⠀⠀⠀⠀⠀⠀⠀⠀⠀⠀⠀⠀⠀⠀⠀⠀⠀⠀⠀⠀⠀⠀⠀⠀⠀⠀⠀⠀⠀⠀⠀⎥\n",
       "⎢⠀⠀⠀⠀⠀⠀⠀⠀⠀⠀⠀⠀⠀⠀⠀⠀⠀⠀⠀⠀⠀⠀⠀⠀⠀⠀⠀⠀⠀⠀⠀⠀⠀⠀⠀⠀⠀⠀⠀⠀⎥\n",
       "⎢⠀⠀⠀⠀⠀⠀⠀⠀⠀⠀⠀⠀⠀⠀⠀⠀⠀⠀⠀⠀⠀⠀⠀⠀⠀⠀⠀⠀⠀⠀⠀⠀⠀⠀⠀⠀⠀⠀⠀⠀⎥\n",
       "⎢⠀⠀⠀⠀⠀⠀⠀⠀⠀⠀⠀⠀⠀⠀⠀⠀⠀⠀⠀⠀⠀⠀⠀⠀⠀⠀⠀⠀⠀⠀⠀⠀⠀⠀⠀⠀⠀⠀⠀⠀⎥\n",
       "⎢⠀⠀⠀⠀⠀⠀⠀⠀⠀⠀⠀⠀⠀⠀⠀⠀⠀⠀⠀⠀⠀⠀⠀⠀⠀⠀⠀⠀⠀⠀⠀⠀⠀⠀⠀⠀⠀⠀⠀⠀⎥\n",
       "⎢⠀⠀⠀⠀⠀⠀⠀⠀⠀⠀⠀⠀⠀⠀⠀⠀⠀⠀⠀⠀⠀⠀⠀⠀⠀⠀⠀⠀⠀⠀⠀⠀⠀⠀⠀⠀⠀⠀⠀⠀⎥\n",
       "⎢⠀⠀⠀⠀⠀⠀⠀⠀⠀⠀⠀⠀⠀⠀⠀⠀⠀⠀⠀⠀⠀⠀⠀⠀⠀⠀⠀⠀⠀⠀⠀⠀⠀⠀⠀⠀⠀⠀⠀⠀⎥\n",
       "⎣⠀⠀⠀⠀⠀⠀⠀⠀⠀⠀⠀⠀⠀⠀⠀⠀⠀⠀⠀⠀⠀⠀⠀⠀⠀⠀⠀⠀⠀⠀⠀⠀⠀⠀⠀⠀⠀⠀⠀⠀⎦"
      ]
     },
     "metadata": {},
     "output_type": "display_data"
    }
   ],
   "source": [
    "C = FEM.dampingMatrix(K, M, ωmax, β=0)"
   ]
  },
  {
   "cell_type": "code",
   "execution_count": 178,
   "metadata": {},
   "outputs": [],
   "source": [
    "u0 = FEM.initialDisplacement(problem, \"alu\", ux=0, uy=0)\n",
    "v0 = FEM.initialVelocity(problem, \"alu\", vx=0, vy=0);"
   ]
  },
  {
   "cell_type": "code",
   "execution_count": 179,
   "metadata": {},
   "outputs": [
    {
     "data": {
      "text/plain": [
       "([0.0 0.0 … 0.0 0.0; 0.0 0.0 … 0.0 0.0; … ; 0.0 0.0 … 0.0 0.0; 0.0 0.0 … 0.0 0.0], [0.0 0.0 … 0.0 0.0; 0.0 0.0 … 0.0 0.0; … ; 0.0 0.0 … 0.0 0.0; 0.0 0.0 … 0.0 0.0], [0.0, 9.841578822517026e-10, 1.968315764503405e-9, 2.952473646755108e-9, 3.93663152900681e-9])"
      ]
     },
     "metadata": {},
     "output_type": "display_data"
    }
   ],
   "source": [
    "Δt = 2 / ωmax\n",
    "u1, v1, t1 = FEM.CDM(K, M, C, f, u0, v0, 5Δt, Δt)"
   ]
  },
  {
   "cell_type": "code",
   "execution_count": 180,
   "metadata": {},
   "outputs": [
    {
     "data": {
      "text/plain": [
       "500-element Vector{Float64}:\n",
       " 4.920789411258513e-9\n",
       " 5.904947293510215e-9\n",
       " 6.8891051757619174e-9\n",
       " 7.87326305801362e-9\n",
       " 8.857420940265324e-9\n",
       " 9.841578822517025e-9\n",
       " 1.0825736704768727e-8\n",
       " 1.180989458702043e-8\n",
       " 1.2794052469272133e-8\n",
       " 1.3778210351523837e-8\n",
       " ⋮\n",
       " 4.881423095968485e-7\n",
       " 4.891264674791002e-7\n",
       " 4.90110625361352e-7\n",
       " 4.910947832436037e-7\n",
       " 4.920789411258554e-7\n",
       " 4.930630990081071e-7\n",
       " 4.940472568903588e-7\n",
       " 4.950314147726106e-7\n",
       " 4.960155726548623e-7"
      ]
     },
     "metadata": {},
     "output_type": "display_data"
    }
   ],
   "source": [
    "u2, v2, t2 = FEM.CDM(K, M, C, 0f, u1[:, size(u1, 2)], v1[:, size(v1, 2)], 500Δt, Δt)\n",
    "t2 .+= last(t1) + Δt"
   ]
  },
  {
   "cell_type": "code",
   "execution_count": 181,
   "metadata": {},
   "outputs": [
    {
     "data": {
      "text/plain": [
       "LowLevelFEM.TensorField([[0.0 0.0 … 0.0 0.0; 0.0 0.0 … 0.0 0.0; … ; 0.0 0.0 … 0.0 0.0; 0.0 0.0 … 0.0 0.0], [0.0 0.0 … 0.0 0.0; 0.0 0.0 … 0.0 0.0; … ; 0.0 0.0 … 0.0 0.0; 0.0 0.0 … 0.0 0.0], [0.0 0.0 … 0.0 0.0; 0.0 0.0 … 0.0 0.0; … ; 0.0 0.0 … 0.0 0.0; 0.0 0.0 … 0.0 0.0], [0.0 0.0 … 0.0 0.0; 0.0 0.0 … 0.0 0.0; … ; 0.0 0.0 … 0.0 0.0; 0.0 0.0 … 0.0 0.0], [0.0 0.0 … 0.0 0.0; 0.0 0.0 … 0.0 0.0; … ; 0.0 0.0 … 0.0 0.0; 0.0 0.0 … 0.0 0.0], [0.0 0.0 … 0.0 0.0; 0.0 0.0 … 0.0 0.0; … ; 0.0 0.0 … 0.0 0.0; 0.0 0.0 … 0.0 0.0], [0.0 0.0 … 0.0 0.0; 0.0 0.0 … 0.0 0.0; … ; 0.0 0.0 … 0.0 0.0; 0.0 0.0 … 0.0 0.0], [0.0 0.0 … 0.0 0.0; 0.0 0.0 … 0.0 0.0; … ; 0.0 0.0 … 0.0 0.0; 0.0 0.0 … 0.0 0.0], [0.0 0.0 … 0.0 0.0; 0.0 0.0 … 0.0 0.0; … ; 0.0 0.0 … 0.0 0.0; 0.0 0.0 … 0.0 0.0], [0.0 0.0 … 0.0 0.0; 0.0 0.0 … 0.0 0.0; … ; 0.0 0.0 … 0.0 0.0; 0.0 0.0 … 0.0 0.0]  …  [0.0 0.0 … 0.0 0.0; 0.0 0.0 … 0.0 0.0; … ; 0.0 0.0 … 0.0 0.0; 0.0 0.0 … 0.0 0.0], [0.0 0.0 … 0.0 0.0; 0.0 0.0 … 0.0 0.0; … ; 0.0 0.0 … 0.0 0.0; 0.0 0.0 … 0.0 0.0], [0.0 0.0 … 0.0 0.0; 0.0 0.0 … 0.0 0.0; … ; 0.0 0.0 … 0.0 0.0; 0.0 0.0 … 0.0 0.0], [0.0 0.0 … 0.0 0.0; 0.0 0.0 … 0.0 0.0; … ; 0.0 0.0 … 0.0 0.0; 0.0 0.0 … 0.0 0.0], [0.0 0.0 … 0.0 0.0; 0.0 0.0 … 0.0 0.0; … ; 0.0 0.0 … 0.0 0.0; 0.0 0.0 … 0.0 0.0], [0.0 0.0 … 0.0 0.0; 0.0 0.0 … 0.0 0.0; … ; 0.0 0.0 … 0.0 0.0; 0.0 0.0 … 0.0 0.0], [0.0 0.0 … 0.0 0.0; 0.0 0.0 … 0.0 0.0; … ; 0.0 0.0 … 0.0 0.0; 0.0 0.0 … 0.0 0.0], [0.0 0.0 … 0.0 0.0; 0.0 0.0 … 0.0 0.0; … ; 0.0 0.0 … 0.0 0.0; 0.0 0.0 … 0.0 0.0], [0.0 0.0 … 0.0 0.0; 0.0 0.0 … 0.0 0.0; … ; 0.0 0.0 … 0.0 0.0; 0.0 0.0 … 0.0 0.0], [0.0 0.0 … 0.0 0.0; 0.0 0.0 … 0.0 0.0; … ; 0.0 0.0 … 0.0 0.0; 0.0 0.0 … 0.0 0.0]], [4663, 4664, 4665, 4666, 4667, 4668, 4669, 4670, 4671, 4672  …  27200, 27201, 27202, 27203, 27204, 27205, 27206, 27207, 27208, 27209], 5, :s)"
      ]
     },
     "metadata": {},
     "output_type": "display_data"
    }
   ],
   "source": [
    "S1 = FEM.solveStress(problem, u1)"
   ]
  },
  {
   "cell_type": "code",
   "execution_count": 182,
   "metadata": {},
   "outputs": [
    {
     "data": {
      "text/plain": [
       "LowLevelFEM.TensorField([[0.0 0.0 … -0.0009081328441039162 -0.0008627955955958283; 0.0 0.0 … 0.0005340517315430187 0.0005120409250869991; … ; 0.0 0.0 … 0.0 0.0; 0.0 0.0 … 0.0 0.0], [0.0 0.0 … -0.044653471026229345 0.0066437053497960105; 0.0 0.0 … 0.02905976692467706 0.020156024681539365; … ; 0.0 0.0 … 0.0 0.0; 0.0 0.0 … 0.0 0.0], [0.0 0.0 … 0.026955966540076905 0.035139125019781246; 0.0 0.0 … -0.04570972122559562 -0.03821633361196253; … ; 0.0 0.0 … 0.0 0.0; 0.0 0.0 … 0.0 0.0], [0.0 0.0 … -0.00027188763928405425 -0.000293843724391153; 0.0 0.0 … 0.0006759912333531296 0.0006795512154477481; … ; 0.0 0.0 … 0.0 0.0; 0.0 0.0 … 0.0 0.0], [0.0 0.0 … -0.023091971459205222 -0.026007989099801978; 0.0 0.0 … 0.000701192214590504 0.003200221520391721; … ; 0.0 0.0 … 0.0 0.0; 0.0 0.0 … 0.0 0.0], [0.0 0.0 … 0.005691058203387982 0.009361640543245071; 0.0 0.0 … 0.006978800358190417 0.008180055933089092; … ; 0.0 0.0 … 0.0 0.0; 0.0 0.0 … 0.0 0.0], [0.0 0.0 … -0.0005663044861586713 -0.0005876066818068065; 0.0 0.0 … 0.000977729167256364 0.0010295082728490384; … ; 0.0 0.0 … 0.0 0.0; 0.0 0.0 … 0.0 0.0], [0.0 0.0 … -0.02431832262582165 -0.03246518645311055; 0.0 0.0 … -0.0217060046817682 -0.018565689833028164; … ; 0.0 0.0 … 0.0 0.0; 0.0 0.0 … 0.0 0.0], [0.0 0.0 … 0.03481748576014326 0.0370519242345861; 0.0 0.0 … -0.038279440372678934 -0.0486719635112908; … ; 0.0 0.0 … 0.0 0.0; 0.0 0.0 … 0.0 0.0], [0.0 0.0 … -0.10783185222486937 -0.07817255758465405; 0.0 0.0 … 0.13354775358583734 0.1093384861325867; … ; 0.0 0.0 … 0.0 0.0; 0.0 0.0 … 0.0 0.0]  …  [0.0 0.0 … -0.018094375157432556 -0.005850414178451496; 0.0 0.0 … 0.02670425377975809 0.04661046037942458; … ; 0.0 0.0 … 0.0 0.0; 0.0 0.0 … 0.0 0.0], [0.0 0.0 … 0.06865143879808856 0.055362062007416765; 0.0 0.0 … 0.0747892238171719 0.053928615556793534; … ; 0.0 0.0 … 0.0 0.0; 0.0 0.0 … 0.0 0.0], [0.0 0.0 … -0.04885917963461197 -0.05883433368454317; 0.0 0.0 … -0.024376645212708627 0.009010959568293255; … ; 0.0 0.0 … 0.0 0.0; 0.0 0.0 … 0.0 0.0], [0.0 0.0 … 0.2304574617306902 0.253909773753873; 0.0 0.0 … -0.03003995014686172 -0.044721384453126053; … ; 0.0 0.0 … 0.0 0.0; 0.0 0.0 … 0.0 0.0], [0.0 0.0 … 0.015607111305670971 0.016543417537118722; 0.0 0.0 … 0.044077143936150566 0.03303811788010833; … ; 0.0 0.0 … 0.0 0.0; 0.0 0.0 … 0.0 0.0], [0.0 0.0 … -0.023772343270461946 0.004788660842907737; 0.0 0.0 … 0.03610453588772416 0.024027620238238824; … ; 0.0 0.0 … 0.0 0.0; 0.0 0.0 … 0.0 0.0], [0.0 0.0 … -0.07984691597082061 0.006769413927821672; 0.0 0.0 … -0.043175287605549215 -0.03435949638554794; … ; 0.0 0.0 … 0.0 0.0; 0.0 0.0 … 0.0 0.0], [0.0 0.0 … 0.04450606488432606 -0.009164848522991662; 0.0 0.0 … 0.03043551813935988 0.041487965122441725; … ; 0.0 0.0 … 0.0 0.0; 0.0 0.0 … 0.0 0.0], [0.0 0.0 … 0.07170084709231214 0.0895894015056306; 0.0 0.0 … -0.05894863834386252 -0.08569144368440113; … ; 0.0 0.0 … 0.0 0.0; 0.0 0.0 … 0.0 0.0], [0.0 0.0 … -0.2011123605248506 -0.18703059756577156; 0.0 0.0 … 0.005204106558803854 -0.06287610950006821; … ; 0.0 0.0 … 0.0 0.0; 0.0 0.0 … 0.0 0.0]], [4663, 4664, 4665, 4666, 4667, 4668, 4669, 4670, 4671, 4672  …  27200, 27201, 27202, 27203, 27204, 27205, 27206, 27207, 27208, 27209], 500, :s)"
      ]
     },
     "metadata": {},
     "output_type": "display_data"
    }
   ],
   "source": [
    "S2 = FEM.solveStress(problem, u2)"
   ]
  },
  {
   "cell_type": "code",
   "execution_count": 183,
   "metadata": {},
   "outputs": [
    {
     "data": {
      "text/plain": [
       "143100×5 Matrix{Float64}:\n",
       " 0.0  0.0  0.0  0.0  0.0\n",
       " 0.0  0.0  0.0  0.0  0.0\n",
       " 0.0  0.0  0.0  0.0  0.0\n",
       " 0.0  0.0  0.0  0.0  0.0\n",
       " 0.0  0.0  0.0  0.0  0.0\n",
       " 0.0  0.0  0.0  0.0  0.0\n",
       " 0.0  0.0  0.0  0.0  0.0\n",
       " 0.0  0.0  0.0  0.0  0.0\n",
       " 0.0  0.0  0.0  0.0  0.0\n",
       " 0.0  0.0  0.0  0.0  0.0\n",
       " ⋮                   \n",
       " 0.0  0.0  0.0  0.0  0.0\n",
       " 0.0  0.0  0.0  0.0  0.0\n",
       " 0.0  0.0  0.0  0.0  0.0\n",
       " 0.0  0.0  0.0  0.0  0.0\n",
       " 0.0  0.0  0.0  0.0  0.0\n",
       " 0.0  0.0  0.0  0.0  0.0\n",
       " 0.0  0.0  0.0  0.0  0.0\n",
       " 0.0  0.0  0.0  0.0  0.0\n",
       " 0.0  0.0  0.0  0.0  0.0"
      ]
     },
     "metadata": {},
     "output_type": "display_data"
    }
   ],
   "source": [
    "S1 = FEM.elementsToNodes(problem, S1)"
   ]
  },
  {
   "cell_type": "code",
   "execution_count": 184,
   "metadata": {},
   "outputs": [
    {
     "data": {
      "text/plain": [
       "143100×500 Matrix{Float64}:\n",
       " 0.0  0.0  0.0  0.0  0.0  0.0  0.0  0.0  0.0  …  -0.00667343   -0.00686272\n",
       " 0.0  0.0  0.0  0.0  0.0  0.0  0.0  0.0  0.0      0.000337094   0.000385708\n",
       " 0.0  0.0  0.0  0.0  0.0  0.0  0.0  0.0  0.0      0.0           0.0\n",
       " 0.0  0.0  0.0  0.0  0.0  0.0  0.0  0.0  0.0      0.000337094   0.000385708\n",
       " 0.0  0.0  0.0  0.0  0.0  0.0  0.0  0.0  0.0      0.000178186   0.000213464\n",
       " 0.0  0.0  0.0  0.0  0.0  0.0  0.0  0.0  0.0  …   0.0           0.0\n",
       " 0.0  0.0  0.0  0.0  0.0  0.0  0.0  0.0  0.0      0.0           0.0\n",
       " 0.0  0.0  0.0  0.0  0.0  0.0  0.0  0.0  0.0      0.0           0.0\n",
       " 0.0  0.0  0.0  0.0  0.0  0.0  0.0  0.0  0.0      0.0           0.0\n",
       " 0.0  0.0  0.0  0.0  0.0  0.0  0.0  0.0  0.0     -0.0093374    -0.00920843\n",
       " ⋮                        ⋮                   ⋱                \n",
       " 0.0  0.0  0.0  0.0  0.0  0.0  0.0  0.0  0.0     -0.000329063  -0.000372926\n",
       " 0.0  0.0  0.0  0.0  0.0  0.0  0.0  0.0  0.0     -8.25248e-5   -9.19754e-5\n",
       " 0.0  0.0  0.0  0.0  0.0  0.0  0.0  0.0  0.0      0.0           0.0\n",
       " 0.0  0.0  0.0  0.0  0.0  0.0  0.0  0.0  0.0     -8.25248e-5   -9.19754e-5\n",
       " 0.0  0.0  0.0  0.0  0.0  0.0  0.0  0.0  0.0  …  -0.000172294  -0.000196428\n",
       " 0.0  0.0  0.0  0.0  0.0  0.0  0.0  0.0  0.0      0.0           0.0\n",
       " 0.0  0.0  0.0  0.0  0.0  0.0  0.0  0.0  0.0      0.0           0.0\n",
       " 0.0  0.0  0.0  0.0  0.0  0.0  0.0  0.0  0.0      0.0           0.0\n",
       " 0.0  0.0  0.0  0.0  0.0  0.0  0.0  0.0  0.0      0.0           0.0"
      ]
     },
     "metadata": {},
     "output_type": "display_data"
    }
   ],
   "source": [
    "S2 = FEM.elementsToNodes(problem, S2)"
   ]
  },
  {
   "cell_type": "code",
   "execution_count": 185,
   "metadata": {},
   "outputs": [
    {
     "name": "stdout",
     "output_type": "stream",
     "text": [
      "-------------------------------------------------------\n",
      "Version       : 4.13.1\n",
      "License       : GNU General Public License\n",
      "Build OS      : Linux64-sdk\n",
      "Build date    : 19700101\n",
      "Build host    : amdci7.julia.csail.mit.edu\n",
      "Build options : 64Bit ALGLIB[contrib] ANN[contrib] Bamg Blossom Cairo DIntegration Dlopen DomHex Eigen[contrib] Fltk GMP Gmm[contrib] Hxt Jpeg Kbipack LinuxJoystick MathEx[contrib] Mesh Metis[contrib] Mmg Mpeg Netgen Nii2mesh ONELAB ONELABMetamodel OpenCASCADE OpenCASCADE-CAF OpenGL OpenMP OptHom Parser Plugins Png Post QuadMeshingTools QuadTri Solver TetGen/BR TinyXML2[contrib] Untangle Voro++[contrib] WinslowUntangler Zlib\n",
      "FLTK version  : 1.3.8\n",
      "OCC version   : 7.7.2\n",
      "Packaged by   : root\n",
      "Web site      : https://gmsh.info\n",
      "Issue tracker : https://gitlab.onelab.info/gmsh/gmsh/issues\n",
      "-------------------------------------------------------\n"
     ]
    },
    {
     "data": {
      "text/plain": [
       "0"
      ]
     },
     "metadata": {},
     "output_type": "display_data"
    }
   ],
   "source": [
    "sx1 = FEM.showDoFResults(problem, S1, :sx, t=t1)"
   ]
  },
  {
   "cell_type": "code",
   "execution_count": null,
   "metadata": {},
   "outputs": [],
   "source": [
    "sx2 = FEM.showDoFResults(problem, S2, :sx, t=t2)"
   ]
  },
  {
   "cell_type": "code",
   "execution_count": null,
   "metadata": {},
   "outputs": [],
   "source": [
    "nodes, steps = size(S2)\n",
    "nodes ÷= 9\n",
    "q = zeros(2 * nodes, steps)\n",
    "for i in 1:steps\n",
    "    for j in 1:nodes\n",
    "        q[(j-1)*2+1, i] = S2[(j-1)*9+1, i] * v2[(j-1)*2+1, i] + S2[(j-1)*9+4, i] * v2[(j-1)*2+2, i]\n",
    "        q[(j-1)*2+2, i] = S2[(j-1)*9+2, i] * v2[(j-1)*2+1, i] + S2[(j-1)*9+5, i] * v2[(j-1)*2+2, i]\n",
    "    end\n",
    "end\n",
    "q .*= -1;"
   ]
  },
  {
   "cell_type": "code",
   "execution_count": null,
   "metadata": {},
   "outputs": [],
   "source": [
    "q2 = FEM.showDoFResults(problem, q, :qvec, t=t2)"
   ]
  },
  {
   "cell_type": "code",
   "execution_count": null,
   "metadata": {},
   "outputs": [],
   "source": [
    "gmsh.fltk.run()"
   ]
  },
  {
   "cell_type": "code",
   "execution_count": null,
   "metadata": {},
   "outputs": [],
   "source": [
    "gmsh.finalize()"
   ]
  },
  {
   "cell_type": "code",
   "execution_count": null,
   "metadata": {},
   "outputs": [],
   "source": [
    "size(S2)"
   ]
  },
  {
   "cell_type": "code",
   "execution_count": null,
   "metadata": {},
   "outputs": [],
   "source": [
    "size(v2)"
   ]
  }
 ],
 "metadata": {
  "kernelspec": {
   "display_name": "Julia 1.11.3",
   "language": "julia",
   "name": "julia-1.11"
  },
  "language_info": {
   "file_extension": ".jl",
   "mimetype": "application/julia",
   "name": "julia",
   "version": "1.11.3"
  }
 },
 "nbformat": 4,
 "nbformat_minor": 2
}
