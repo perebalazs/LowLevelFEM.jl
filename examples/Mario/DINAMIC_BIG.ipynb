{
 "cells": [
  {
   "cell_type": "code",
   "execution_count": null,
   "metadata": {},
   "outputs": [],
   "source": [
    "using LowLevelFEM\n",
    "import LowLevelFEM as FEM\n",
    "\n",
    "gmsh.initialize()"
   ]
  },
  {
   "cell_type": "code",
   "execution_count": null,
   "metadata": {},
   "outputs": [],
   "source": [
    "gmsh.open(\"DINAMIC_BIG.geo\")"
   ]
  },
  {
   "cell_type": "code",
   "execution_count": null,
   "metadata": {},
   "outputs": [],
   "source": [
    "alu = FEM.material(\"alu\", E=0.71e5, ν=0.334, ρ=2.7e-9)\n",
    "vas = FEM.material(\"vas\", E=1.96e5, ν=0.25, ρ=7.87e-9)\n",
    "problem = FEM.Problem([alu, vas], type=:PlaneStress)"
   ]
  },
  {
   "cell_type": "code",
   "execution_count": null,
   "metadata": {},
   "outputs": [],
   "source": [
    "supp = FEM.displacementConstraint(\"left\", ux=0, uy=0)\n",
    "force = FEM.load(\"right\", fx=-1)\n",
    "f = FEM.loadVector(problem, [force])"
   ]
  },
  {
   "cell_type": "code",
   "execution_count": null,
   "metadata": {},
   "outputs": [],
   "source": [
    "K = FEM.stiffnessMatrix(problem)"
   ]
  },
  {
   "cell_type": "code",
   "execution_count": null,
   "metadata": {},
   "outputs": [],
   "source": [
    "M = FEM.massMatrix(problem)"
   ]
  },
  {
   "cell_type": "code",
   "execution_count": null,
   "metadata": {},
   "outputs": [],
   "source": [
    "ωmax = 2π / FEM.smallestPeriodTime(K, M)"
   ]
  },
  {
   "cell_type": "code",
   "execution_count": null,
   "metadata": {},
   "outputs": [],
   "source": [
    "C = FEM.dampingMatrix(K, M, ωmax, β=0)"
   ]
  },
  {
   "cell_type": "code",
   "execution_count": null,
   "metadata": {},
   "outputs": [],
   "source": [
    "u0 = FEM.initialDisplacement(problem, \"alu\", ux=0, uy=0)\n",
    "v0 = FEM.initialVelocity(problem, \"alu\", vx=0, vy=0);"
   ]
  },
  {
   "cell_type": "code",
   "execution_count": null,
   "metadata": {},
   "outputs": [],
   "source": [
    "Δt = 2 / ωmax\n",
    "u1, v1, t1 = FEM.CDM(K, M, C, f, u0, v0, 5Δt, Δt)"
   ]
  },
  {
   "cell_type": "code",
   "execution_count": null,
   "metadata": {},
   "outputs": [],
   "source": [
    "u2, v2, t2 = FEM.CDM(K, M, C, 0f, u1[:, size(u1, 2)], v1[:, size(v1, 2)], 1000Δt, Δt)\n",
    "t2 .+= last(t1) + Δt"
   ]
  },
  {
   "cell_type": "code",
   "execution_count": null,
   "metadata": {},
   "outputs": [],
   "source": [
    "S1 = FEM.solveStress(problem, u1)"
   ]
  },
  {
   "cell_type": "code",
   "execution_count": null,
   "metadata": {},
   "outputs": [],
   "source": [
    "S2 = FEM.solveStress(problem, u2)"
   ]
  },
  {
   "cell_type": "code",
   "execution_count": null,
   "metadata": {},
   "outputs": [],
   "source": [
    "S1 = FEM.elementsToNodes(problem, S1)"
   ]
  },
  {
   "cell_type": "code",
   "execution_count": null,
   "metadata": {},
   "outputs": [],
   "source": [
    "S2 = FEM.elementsToNodes(problem, S2)"
   ]
  },
  {
   "cell_type": "code",
   "execution_count": null,
   "metadata": {},
   "outputs": [],
   "source": [
    "sx1 = FEM.showDoFResults(problem, S1, :sx, t=t1)"
   ]
  },
  {
   "cell_type": "code",
   "execution_count": null,
   "metadata": {},
   "outputs": [],
   "source": [
    "sx2 = FEM.showDoFResults(problem, S2, :sx, t=t2)"
   ]
  },
  {
   "cell_type": "code",
   "execution_count": null,
   "metadata": {},
   "outputs": [],
   "source": [
    "nodes, steps = size(S2)\n",
    "nodes ÷= 9\n",
    "q = zeros(2 * nodes, steps)\n",
    "for i in 1:steps\n",
    "    for j in 1:nodes\n",
    "        q[(j-1)*2+1, i] = S2[(j-1)*9+1, i] * v2[(j-1)*2+1, i] + S2[(j-1)*9+4, i] * v2[(j-1)*2+2, i]\n",
    "        q[(j-1)*2+2, i] = S2[(j-1)*9+2, i] * v2[(j-1)*2+1, i] + S2[(j-1)*9+5, i] * v2[(j-1)*2+2, i]\n",
    "    end\n",
    "end\n",
    "q .*= -1;"
   ]
  },
  {
   "cell_type": "code",
   "execution_count": null,
   "metadata": {},
   "outputs": [],
   "source": [
    "q2 = FEM.showDoFResults(problem, q, :qvec, t=t2)"
   ]
  },
  {
   "cell_type": "code",
   "execution_count": null,
   "metadata": {},
   "outputs": [],
   "source": [
    "gmsh.fltk.run()"
   ]
  },
  {
   "cell_type": "code",
   "execution_count": null,
   "metadata": {},
   "outputs": [],
   "source": [
    "gmsh.finalize()"
   ]
  },
  {
   "cell_type": "code",
   "execution_count": null,
   "metadata": {},
   "outputs": [],
   "source": [
    "size(S2)"
   ]
  },
  {
   "cell_type": "code",
   "execution_count": null,
   "metadata": {},
   "outputs": [],
   "source": [
    "size(v2)"
   ]
  }
 ],
 "metadata": {
  "kernelspec": {
   "display_name": "Julia 1.11.4",
   "language": "julia",
   "name": "julia-1.11"
  },
  "language_info": {
   "file_extension": ".jl",
   "mimetype": "application/julia",
   "name": "julia",
   "version": "1.11.4"
  }
 },
 "nbformat": 4,
 "nbformat_minor": 2
}
