{
 "cells": [
  {
   "cell_type": "code",
   "execution_count": 1,
   "metadata": {},
   "outputs": [],
   "source": [
    "import LowLevelFEM as FEM\n",
    "using LowLevelFEM\n",
    "using SparseArrays\n",
    "using Plots\n",
    "\n",
    "gmsh.initialize()"
   ]
  },
  {
   "cell_type": "code",
   "execution_count": 2,
   "metadata": {},
   "outputs": [
    {
     "name": "stdout",
     "output_type": "stream",
     "text": [
      "Info    : Reading 'DINAMIC_BIG_2.geo'...\n",
      "Info    : Meshing 1D...\n",
      "Info    : [  0%] Meshing curve 1 (Line)\n",
      "Info    : [ 10%] Meshing curve 2 (Line)\n",
      "Info    : [ 10%] Meshing curve 3 (Line)\n",
      "Info    : [ 10%] Meshing curve 4 (Line)\n",
      "Info    : [ 10%] Meshing curve 5 (Circle)\n",
      "Info    : [ 20%] Meshing curve 6 (Circle)\n",
      "Info    : [ 20%] Meshing curve 7 (Circle)\n",
      "Info    : [ 20%] Meshing curve 8 (Circle)\n",
      "Info    : [ 20%] Meshing curve 9 (Circle)\n",
      "Info    : [ 20%] Meshing curve 10 (Circle)\n",
      "Info    : [ 30%] Meshing curve 11 (Circle)\n",
      "Info    : [ 30%] Meshing curve 12 (Circle)\n",
      "Info    : [ 30%] Meshing curve 13 (Circle)\n",
      "Info    : [ 30%] Meshing curve 14 (Circle)\n",
      "Info    : [ 30%] Meshing curve 15 (Circle)\n",
      "Info    : [ 40%] Meshing curve 16 (Circle)\n",
      "Info    : [ 40%] Meshing curve 17 (Circle)\n",
      "Info    : [ 40%] Meshing curve 18 (Circle)\n",
      "Info    : [ 40%] Meshing curve 19 (Circle)\n",
      "Info    : [ 40%] Meshing curve 20 (Circle)\n",
      "Info    : [ 50%] Meshing curve 21 (Circle)\n",
      "Info    : [ 50%] Meshing curve 22 (Circle)\n",
      "Info    : [ 50%] Meshing curve 23 (Circle)\n",
      "Info    : [ 50%] Meshing curve 24 (Circle)\n",
      "Info    : [ 50%] Meshing curve 25 (Circle)\n",
      "Info    : [ 60%] Meshing curve 26 (Circle)\n",
      "Info    : [ 60%] Meshing curve 27 (Circle)\n",
      "Info    : [ 60%] Meshing curve 28 (Circle)\n",
      "Info    : [ 60%] Meshing curve 29 (Circle)\n",
      "Info    : [ 60%] Meshing curve 30 (Circle)\n",
      "Info    : [ 70%] Meshing curve 31 (Circle)\n",
      "Info    : [ 70%] Meshing curve 32 (Circle)\n",
      "Info    : [ 70%] Meshing curve 33 (Circle)\n",
      "Info    : [ 70%] Meshing curve 34 (Circle)\n",
      "Info    : [ 70%] Meshing curve 35 (Circle)\n",
      "Info    : [ 80%] Meshing curve 36 (Circle)\n",
      "Info    : [ 80%] Meshing curve 37 (Circle)\n",
      "Info    : [ 80%] Meshing curve 38 (Circle)\n",
      "Info    : [ 80%] Meshing curve 39 (Circle)\n",
      "Info    : [ 80%] Meshing curve 40 (Circle)\n",
      "Info    : [ 90%] Meshing curve 41 (Circle)\n",
      "Info    : [ 90%] Meshing curve 42 (Circle)\n",
      "Info    : [ 90%] Meshing curve 43 (Circle)\n",
      "Info    : [ 90%] Meshing curve 44 (Circle)\n",
      "Info    : [ 90%] Meshing curve 45 (Circle)\n",
      "Info    : [100%] Meshing curve 46 (Circle)\n",
      "Info    : [100%] Meshing curve 47 (Line)\n",
      "Info    : [100%] Meshing curve 48 (Line)\n",
      "Info    : [100%] Meshing curve 49 (Line)\n",
      "Info    : Done meshing 1D (Wall 0.00371528s, CPU 0.003715s)\n",
      "Info    : Meshing 2D...\n",
      "Info    : [  0%] Meshing surface 1 (Plane, Frontal-Delaunay)\n",
      "Info    : [ 10%] Meshing surface 2 (Plane, Frontal-Delaunay)\n",
      "Info    : [ 10%] Blossom: 495 internal 198 closed\n",
      "Info    : [ 10%] Blossom recombination completed (Wall 0.0164373s, CPU 0.016438s): 198 quads, 0 triangles, 0 invalid quads, 0 quads with Q < 0.1, avg Q = 0.941783, min Q = 0.925948\n",
      "Info    : [ 10%] Meshing surface 3 (Plane, Frontal-Delaunay)\n",
      "Info    : [ 10%] Blossom: 495 internal 198 closed\n",
      "Info    : [ 10%] Blossom recombination completed (Wall 0.0175539s, CPU 0.017551s): 198 quads, 0 triangles, 0 invalid quads, 0 quads with Q < 0.1, avg Q = 0.940347, min Q = 0.924121\n",
      "Info    : [ 20%] Meshing surface 4 (Plane, Frontal-Delaunay)\n",
      "Info    : [ 20%] Blossom: 495 internal 198 closed\n",
      "Info    : [ 20%] Blossom recombination completed (Wall 0.0199988s, CPU 0.019996s): 198 quads, 0 triangles, 0 invalid quads, 0 quads with Q < 0.1, avg Q = 0.93871, min Q = 0.921251\n",
      "Info    : [ 20%] Meshing surface 5 (Plane, Frontal-Delaunay)\n",
      "Info    : [ 20%] Blossom: 495 internal 198 closed\n",
      "Info    : [ 20%] Blossom recombination completed (Wall 0.0176181s, CPU 0.017598s): 198 quads, 0 triangles, 0 invalid quads, 0 quads with Q < 0.1, avg Q = 0.93874, min Q = 0.922297\n",
      "Info    : [ 30%] Meshing surface 6 (Plane, Frontal-Delaunay)\n",
      "Info    : [ 30%] Blossom: 495 internal 198 closed\n",
      "Info    : [ 30%] Blossom recombination completed (Wall 0.017611s, CPU 0.01761s): 198 quads, 0 triangles, 0 invalid quads, 0 quads with Q < 0.1, avg Q = 0.938679, min Q = 0.921758\n",
      "Info    : [ 30%] Meshing surface 7 (Plane, Frontal-Delaunay)\n",
      "Info    : [ 30%] Blossom: 480 internal 192 closed\n",
      "Info    : [ 30%] Blossom recombination completed (Wall 0.0182287s, CPU 0.01821s): 192 quads, 0 triangles, 0 invalid quads, 0 quads with Q < 0.1, avg Q = 0.94006, min Q = 0.923488\n",
      "Info    : [ 40%] Meshing surface 8 (Plane, Frontal-Delaunay)\n",
      "Info    : [ 40%] Blossom: 495 internal 198 closed\n",
      "Info    : [ 40%] Blossom recombination completed (Wall 0.0173379s, CPU 0.017321s): 198 quads, 0 triangles, 0 invalid quads, 0 quads with Q < 0.1, avg Q = 0.941923, min Q = 0.926415\n",
      "Info    : [ 40%] Meshing surface 9 (Plane, Frontal-Delaunay)\n",
      "Info    : [ 40%] Blossom: 495 internal 198 closed\n",
      "Info    : [ 40%] Blossom recombination completed (Wall 0.0180942s, CPU 0.018095s): 198 quads, 0 triangles, 0 invalid quads, 0 quads with Q < 0.1, avg Q = 0.943285, min Q = 0.928284\n",
      "Info    : [ 40%] Meshing surface 10 (Plane, Frontal-Delaunay)\n",
      "Info    : [ 40%] Blossom: 480 internal 192 closed\n",
      "Info    : [ 40%] Blossom recombination completed (Wall 0.0223386s, CPU 0.022332s): 192 quads, 0 triangles, 0 invalid quads, 0 quads with Q < 0.1, avg Q = 0.938512, min Q = 0.921593\n",
      "Info    : [ 50%] Meshing surface 11 (Plane, Frontal-Delaunay)\n",
      "Info    : [ 50%] Blossom: 480 internal 192 closed\n",
      "Info    : [ 50%] Blossom recombination completed (Wall 0.0168925s, CPU 0.016892s): 192 quads, 0 triangles, 0 invalid quads, 0 quads with Q < 0.1, avg Q = 0.945864, min Q = 0.932319\n",
      "Info    : [ 50%] Meshing surface 12 (Plane, Frontal-Delaunay)\n",
      "Info    : [ 50%] Blossom: 495 internal 198 closed\n",
      "Info    : [ 50%] Blossom recombination completed (Wall 0.0174727s, CPU 0.017462s): 198 quads, 0 triangles, 0 invalid quads, 0 quads with Q < 0.1, avg Q = 0.954715, min Q = 0.947095\n",
      "Info    : [ 60%] Meshing surface 13 (Plane, Frontal-Delaunay)\n",
      "Info    : [ 60%] Blossom: 495 internal 198 closed\n",
      "Info    : [ 60%] Blossom recombination completed (Wall 0.01866s, CPU 0.018658s): 198 quads, 0 triangles, 0 invalid quads, 0 quads with Q < 0.1, avg Q = 0.954664, min Q = 0.945273\n",
      "Info    : [ 60%] Meshing surface 14 (Plane, Frontal-Delaunay)\n",
      "Info    : [ 60%] Blossom: 495 internal 198 closed\n",
      "Info    : [ 60%] Blossom recombination completed (Wall 0.0179005s, CPU 0.017887s): 198 quads, 0 triangles, 0 invalid quads, 0 quads with Q < 0.1, avg Q = 0.954665, min Q = 0.947121\n",
      "Info    : [ 70%] Meshing surface 15 (Plane, Frontal-Delaunay)\n",
      "Info    : [ 70%] Blossom: 495 internal 198 closed\n",
      "Info    : [ 70%] Blossom recombination completed (Wall 0.0173687s, CPU 0.017369s): 198 quads, 0 triangles, 0 invalid quads, 0 quads with Q < 0.1, avg Q = 0.954675, min Q = 0.945421\n",
      "Info    : [ 70%] Meshing surface 16 (Plane, Frontal-Delaunay)\n",
      "Info    : [ 70%] Blossom: 495 internal 198 closed\n",
      "Info    : [ 70%] Blossom recombination completed (Wall 0.0163623s, CPU 0.01635s): 198 quads, 0 triangles, 0 invalid quads, 0 quads with Q < 0.1, avg Q = 0.938647, min Q = 0.921251\n",
      "Info    : [ 70%] Meshing surface 17 (Plane, Frontal-Delaunay)\n",
      "Info    : [ 70%] Blossom: 495 internal 198 closed\n",
      "Info    : [ 70%] Blossom recombination completed (Wall 0.0163464s, CPU 0.016327s): 198 quads, 0 triangles, 0 invalid quads, 0 quads with Q < 0.1, avg Q = 0.938678, min Q = 0.921758\n",
      "Info    : [ 80%] Meshing surface 18 (Plane, Frontal-Delaunay)\n",
      "Info    : [ 80%] Blossom: 495 internal 198 closed\n",
      "Info    : [ 80%] Blossom recombination completed (Wall 0.0158468s, CPU 0.015846s): 198 quads, 0 triangles, 0 invalid quads, 0 quads with Q < 0.1, avg Q = 0.935597, min Q = 0.917069\n",
      "Info    : [ 80%] Meshing surface 19 (Plane, Frontal-Delaunay)\n",
      "Info    : [ 80%] Blossom: 470 internal 188 closed\n",
      "Info    : [ 80%] Blossom recombination completed (Wall 0.0157211s, CPU 0.015715s): 188 quads, 0 triangles, 0 invalid quads, 0 quads with Q < 0.1, avg Q = 0.942666, min Q = 0.928447\n",
      "Info    : [ 90%] Meshing surface 20 (Plane, Frontal-Delaunay)\n",
      "Info    : [ 90%] Blossom: 495 internal 198 closed\n",
      "Info    : [ 90%] Blossom recombination completed (Wall 0.016187s, CPU 0.016186s): 198 quads, 0 triangles, 0 invalid quads, 0 quads with Q < 0.1, avg Q = 0.948172, min Q = 0.935661\n",
      "Info    : [ 90%] Meshing surface 21 (Plane, Frontal-Delaunay)\n",
      "Info    : [ 90%] Blossom: 495 internal 198 closed\n",
      "Info    : [ 90%] Blossom recombination completed (Wall 0.0187905s, CPU 0.01879s): 198 quads, 0 triangles, 0 invalid quads, 0 quads with Q < 0.1, avg Q = 0.844944, min Q = 0.477168\n",
      "Info    : [100%] Meshing surface 22 (Plane, Frontal-Delaunay)\n",
      "Info    : [100%] Blossom: 495 internal 198 closed\n",
      "Info    : [100%] Blossom recombination completed (Wall 0.0154773s, CPU 0.015477s): 198 quads, 0 triangles, 0 invalid quads, 0 quads with Q < 0.1, avg Q = 0.953212, min Q = 0.943347\n",
      "Info    : [100%] Meshing surface 23 (Plane, Frontal-Delaunay)\n",
      "Info    : Done meshing 2D (Wall 2.31537s, CPU 2.30926s)\n",
      "Info    : 15900 nodes 29923 elements\n",
      "Info    : Done reading 'DINAMIC_BIG_2.geo'\n"
     ]
    }
   ],
   "source": [
    "gmsh.open(\"DINAMIC_BIG_2.geo\");"
   ]
  },
  {
   "cell_type": "code",
   "execution_count": 3,
   "metadata": {
    "scrolled": true
   },
   "outputs": [
    {
     "name": "stdout",
     "output_type": "stream",
     "text": [
      "Info    : RCMK renumbering...\n",
      "Info    : Done RCMK renumbering (bandwidth is now 216)\n"
     ]
    },
    {
     "data": {
      "text/plain": [
       "LowLevelFEM.Problem(\"DINAMIC_BIG_2\", \"PlaneStress\", 2, [(\"Fe\", 196000.0, 0.25, 7.874e-9), (\"Al\", 70000.0, 0.334, 2.7e-9)], 1.0, 15900)"
      ]
     },
     "metadata": {},
     "output_type": "display_data"
    }
   ],
   "source": [
    "#mat = FEM.material(\"body\")\n",
    "mat1 = FEM.material(\"Fe\", E=1.96e5, ν=0.25, ρ=7.874e-9)\n",
    "mat2 = FEM.material(\"Al\", E=7e4, ν=0.334, ρ=2.7e-9)\n",
    "problem = FEM.Problem([mat1, mat2], type=\"PlaneStress\")\n",
    "#problem = FEM.Problem([mat], type=\"PlaneStress\")"
   ]
  },
  {
   "cell_type": "code",
   "execution_count": 4,
   "metadata": {},
   "outputs": [],
   "source": [
    "load = FEM.load(\"right\", fx=-1);"
   ]
  },
  {
   "cell_type": "code",
   "execution_count": 5,
   "metadata": {},
   "outputs": [],
   "source": [
    "K = FEM.stiffnessMatrix(problem);"
   ]
  },
  {
   "cell_type": "code",
   "execution_count": 6,
   "metadata": {},
   "outputs": [],
   "source": [
    "M = FEM.massMatrix(problem, lumped=true);"
   ]
  },
  {
   "cell_type": "code",
   "execution_count": 7,
   "metadata": {},
   "outputs": [],
   "source": [
    "f = FEM.loadVector(problem, [load]);"
   ]
  },
  {
   "cell_type": "code",
   "execution_count": 8,
   "metadata": {},
   "outputs": [],
   "source": [
    "dof = problem.non * problem.dim;\n",
    "\n",
    "u0 = zeros(dof);\n",
    "v0 = zeros(dof);\n"
   ]
  },
  {
   "cell_type": "code",
   "execution_count": 9,
   "metadata": {},
   "outputs": [],
   "source": [
    "C = spzeros(dof, dof);\n",
    "C = 1e-8 * K;"
   ]
  },
  {
   "cell_type": "code",
   "execution_count": 10,
   "metadata": {},
   "outputs": [
    {
     "data": {
      "text/plain": [
       "3.0927567289999743e-9"
      ]
     },
     "metadata": {},
     "output_type": "display_data"
    }
   ],
   "source": [
    "Tₘᵢₙ = FEM.smallestPeriodTime(K, M)"
   ]
  },
  {
   "cell_type": "code",
   "execution_count": 11,
   "metadata": {},
   "outputs": [],
   "source": [
    "n = 3000; # egy lépéssel kevesebb lesz végül az átfedés miatt!\n",
    "\n",
    "u = zeros(dof, n - 1);\n",
    "v = zeros(dof, n - 1);\n",
    "t = zeros(n - 1);\n",
    "\n",
    "terhelt = 4;\n",
    "terheletlen = n - terhelt;\n",
    "\n",
    "u_1, v_1, t_1 = FEM.CDM(K, M, C, f, u0, v0, terhelt * Tₘᵢₙ / π / 1.3, Tₘᵢₙ / π / 1.3);\n",
    "\n",
    "u_1_kezdo = u_1[:, terhelt];\n",
    "v_1_kezdo = v_1[:, terhelt];\n",
    "\n",
    "#display(K)\n",
    "#display(M)\n",
    "#display(C)\n",
    "#display(f)\n",
    "#display(u_1_kezdo)\n",
    "#display(v_1_kezdo)\n",
    "#display(terheletlen)\n",
    "#display(Tₘᵢₙ)\n",
    "\n",
    "u_2, v_2, t_2 = FEM.CDM(K, M, C, f * 0, u_1_kezdo, v_1_kezdo, terheletlen * Tₘᵢₙ / π / 1.3, Tₘᵢₙ / π / 1.3);\n",
    "\n",
    "\n",
    "\n",
    "t_eltolas = t_1[terhelt];\n",
    "t_2 = t_2 .+ t_eltolas;\n",
    "\n",
    "u[:, 1:terhelt] = u_1;\n",
    "u[:, terhelt:n-1] = u_2;\n",
    "\n",
    "v[:, 1:terhelt] = v_1;\n",
    "v[:, terhelt:n-1] = v_2;\n",
    "\n",
    "t[1:terhelt] = t_1;\n",
    "t[terhelt:n-1] = t_2;"
   ]
  },
  {
   "cell_type": "code",
   "execution_count": 12,
   "metadata": {},
   "outputs": [],
   "source": [
    "S = FEM.solveStress(problem, u);"
   ]
  },
  {
   "cell_type": "code",
   "execution_count": null,
   "metadata": {},
   "outputs": [],
   "source": [
    "s = FEM.showStressResults(problem, S, \"s\", t=t, name=\"σred\", visible=true, smooth=false)"
   ]
  },
  {
   "cell_type": "code",
   "execution_count": null,
   "metadata": {},
   "outputs": [],
   "source": [
    "uvec = FEM.showDoFResults(problem, u, \"uvec\", t=t, name=\"u\", visible=false)"
   ]
  },
  {
   "cell_type": "code",
   "execution_count": null,
   "metadata": {},
   "outputs": [],
   "source": [
    "vvec = FEM.showDoFResults(problem, v, \"vvec\", t=t, name=\"v\", visible=false)"
   ]
  },
  {
   "cell_type": "code",
   "execution_count": null,
   "metadata": {},
   "outputs": [],
   "source": [
    "#Wi = [(u[:, i] - u[:, i-1])' * (i > 5 ? f * 0 : f) for i in 2:n-1]\n",
    "Wi = [(u[:, i] - u[:, i-1])' * f for i in 2:4]\n",
    "W = sum(Wi)"
   ]
  },
  {
   "cell_type": "code",
   "execution_count": null,
   "metadata": {},
   "outputs": [],
   "source": [
    "U = u[:, n-1]' * K * u[:, n-1] / 2 + v[:, n-1]' * M * v[:, n-1] / 2\n",
    "nn = 4    # vagy 5\n",
    "U = u[:, nn]' * K * u[:, nn] / 2 + v[:, nn]' * M * v[:, nn] / 2"
   ]
  },
  {
   "cell_type": "code",
   "execution_count": null,
   "metadata": {
    "scrolled": true
   },
   "outputs": [],
   "source": [
    "h = 2.5\n",
    "np = 100\n",
    "q = 0\n",
    "X = 7.4999\n",
    "#display(t)\n",
    "q_1 = zeros(n - 1, 1);\n",
    "for j ∈ 2:terhelt+2\n",
    "    for i ∈ 1:np\n",
    "        ΔA = h / np\n",
    "        y = (h / np) * (i - 1) + (h / np / 2)\n",
    "        Δt = t[j] - t[j-1]\n",
    "        ss = reshape(gmsh.view.probe(s, X, y, 0, j - 1)[1], 3, 3)\n",
    "        vv = gmsh.view.probe(vvec, X, y, 0, j - 1)[1]\n",
    "        q += [1, 0, 0]' * ss * vv * ΔA * Δt\n",
    "    end\n",
    "    q_1[j, 1] = q\n",
    "end\n",
    "#display(q_1)\n",
    "q\n",
    "plot(t, q_1)"
   ]
  },
  {
   "cell_type": "code",
   "execution_count": null,
   "metadata": {},
   "outputs": [],
   "source": []
  },
  {
   "cell_type": "code",
   "execution_count": null,
   "metadata": {},
   "outputs": [],
   "source": [
    "# Kompenzálás csillapításból\n",
    "C_E = 0;\n",
    "for i ∈ 1:terhelt\n",
    "     C_E += v[:, i]' * C * v[:, i]\n",
    "end"
   ]
  },
  {
   "cell_type": "code",
   "execution_count": null,
   "metadata": {},
   "outputs": [],
   "source": [
    "#display(U)\n",
    "#display(W)\n",
    "#display(q)\n",
    "(U - W) / U * 100"
   ]
  },
  {
   "cell_type": "code",
   "execution_count": null,
   "metadata": {},
   "outputs": [],
   "source": [
    "(U - q) / U * 100"
   ]
  },
  {
   "cell_type": "code",
   "execution_count": null,
   "metadata": {},
   "outputs": [],
   "source": [
    "(W - q) / W * 100"
   ]
  },
  {
   "cell_type": "code",
   "execution_count": null,
   "metadata": {},
   "outputs": [],
   "source": [
    "((U + C_E) - W) / U * 100"
   ]
  },
  {
   "cell_type": "code",
   "execution_count": null,
   "metadata": {},
   "outputs": [],
   "source": [
    "(U + C_E - q) / U * 100"
   ]
  },
  {
   "cell_type": "code",
   "execution_count": null,
   "metadata": {},
   "outputs": [],
   "source": []
  },
  {
   "cell_type": "code",
   "execution_count": null,
   "metadata": {},
   "outputs": [],
   "source": [
    "h = 2.5\n",
    "np = 100\n",
    "q = 0\n",
    "X = 5\n",
    "#display(t)\n",
    "q_2 = zeros(n - 1, 1);\n",
    "for j ∈ 2:n-1\n",
    "    for i ∈ 1:np\n",
    "        ΔA = h / np\n",
    "        y = (h / np) * (i - 1) + (h / np / 2)\n",
    "        Δt = t[j] - t[j-1]\n",
    "        ss = reshape(gmsh.view.probe(s, X, y, 0, j - 1)[1], 3, 3)\n",
    "        vv = gmsh.view.probe(vvec, X, y, 0, j - 1)[1]\n",
    "        q += [1, 0, 0]' * ss * vv * ΔA * Δt\n",
    "    end\n",
    "    q_2[j, 1] = q\n",
    "end\n",
    "#display(q_2)\n",
    "q\n",
    "plot!(t, q_2)\n",
    "# kérdéses, hogy miért nem csökken vissza, amikor a 2. fronton túlhalad a sebesség hullám."
   ]
  },
  {
   "cell_type": "code",
   "execution_count": null,
   "metadata": {},
   "outputs": [],
   "source": [
    "h = 2.5\n",
    "np = 100\n",
    "q = 0\n",
    "X = 0.001\n",
    "#display(t)\n",
    "q_3 = zeros(n - 1, 1);\n",
    "for j ∈ 2:n-1\n",
    "    for i ∈ 1:np\n",
    "        ΔA = h / np\n",
    "        y = (h / np) * (i - 1) + (h / np / 2)\n",
    "        Δt = t[j] - t[j-1]\n",
    "        ss = reshape(gmsh.view.probe(s, X, y, 0, j - 1)[1], 3, 3)\n",
    "        vv = gmsh.view.probe(vvec, X, y, 0, j - 1)[1]\n",
    "        q += [1, 0, 0]' * ss * vv * ΔA * Δt\n",
    "    end\n",
    "    q_3[j, 1] = q\n",
    "end\n",
    "#display(q_3)\n",
    "q\n",
    "plot!(t, q_3, label=[\"first surface\" \"second surface\" \"third surface\"], xlabel=\"t [s]\", ylabel=\"Work [mJ]\")\n",
    "Plots.pdf(\"surfaces.pdf\")"
   ]
  },
  {
   "cell_type": "code",
   "execution_count": null,
   "metadata": {},
   "outputs": [],
   "source": [
    "gmsh.fltk.run()"
   ]
  },
  {
   "cell_type": "code",
   "execution_count": null,
   "metadata": {},
   "outputs": [],
   "source": [
    "#gmsh.finalize()"
   ]
  }
 ],
 "metadata": {
  "kernelspec": {
   "display_name": "Julia 1.10.2",
   "language": "julia",
   "name": "julia-1.10"
  },
  "language_info": {
   "file_extension": ".jl",
   "mimetype": "application/julia",
   "name": "julia",
   "version": "1.10.2"
  }
 },
 "nbformat": 4,
 "nbformat_minor": 4
}
