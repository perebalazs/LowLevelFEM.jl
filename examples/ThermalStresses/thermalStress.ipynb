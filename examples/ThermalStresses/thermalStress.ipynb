{
 "cells": [
  {
   "cell_type": "code",
   "execution_count": 1,
   "metadata": {},
   "outputs": [],
   "source": [
    "import LowLevelFEM as FEM\n",
    "using LowLevelFEM\n",
    "\n",
    "gmsh.initialize()"
   ]
  },
  {
   "cell_type": "code",
   "execution_count": 2,
   "metadata": {},
   "outputs": [
    {
     "name": "stdout",
     "output_type": "stream",
     "text": [
      "Info    : Reading 'thermalStress.geo'...\n",
      "Info    : Meshing 1D...\n",
      "Info    : [  0%] Meshing curve 1 (Line)\n",
      "Info    : [ 30%] Meshing curve 2 (Line)\n",
      "Info    : [ 60%] Meshing curve 3 (Line)\n",
      "Info    : [ 80%] Meshing curve 4 (Line)\n",
      "Info    : Done meshing 1D (Wall 0.00064165s, CPU 0.000642s)\n",
      "Info    : Meshing 2D...\n",
      "Info    : Meshing surface 1 (Transfinite)\n",
      "Info    : Done meshing 2D (Wall 0.000781526s, CPU 0.000781s)\n",
      "Info    : 1111 nodes 1224 elements\n",
      "Info    : Done reading 'thermalStress.geo'\n"
     ]
    }
   ],
   "source": [
    "gmsh.open(\"thermalStress.geo\")"
   ]
  },
  {
   "cell_type": "code",
   "execution_count": 3,
   "metadata": {},
   "outputs": [
    {
     "name": "stdout",
     "output_type": "stream",
     "text": [
      "Info    : RCMK renumbering...\n",
      "Info    : Done RCMK renumbering (bandwidth is now 22)\n"
     ]
    },
    {
     "data": {
      "text/plain": [
       "LowLevelFEM.Problem(\"bending2D\", :PlaneHeatConduction, 2, 1, LowLevelFEM.Material[LowLevelFEM.Material(\"body\", 200000.0, 0.3, 7.85e-9, 45.0, 4.2e8, 1.2e-5)], 1.0, 1111)"
      ]
     },
     "metadata": {},
     "output_type": "display_data"
    }
   ],
   "source": [
    "mat = FEM.material(\"body\")\n",
    "problem = FEM.Problem([mat], type=:PlaneHeatConduction, bandwidth=:none)"
   ]
  },
  {
   "cell_type": "code",
   "execution_count": 4,
   "metadata": {},
   "outputs": [
    {
     "data": {
      "text/plain": [
       "1111×1111 SparseArrays.SparseMatrixCSC{Float64, Int64} with 9331 stored entries:\n",
       "⎡⠻⣦⡀⠈⠁⠀⠀⠈⠉⠓⠒⠒⠒⠲⠤⠤⠤⠤⣄⣀⣀⣀⣀⠀⠀⠀⠀⠀⠀⠀⠀⠀⠀⠀⠀⠀⠀⠀⠀⠉⎤\n",
       "⎢⡀⠈⠻⣦⡀⠀⠀⠀⠀⠀⠀⠀⠀⠀⠀⠀⠀⠀⠀⠀⠀⠀⠉⠉⠉⠉⠙⠓⠒⠒⠒⠶⠤⠤⠤⢤⣄⣀⣀⣀⎥\n",
       "⎢⠁⠀⠀⠈⠻⣦⡀⠀⠀⠀⠀⠀⠀⠀⠀⠀⠀⠀⠀⠀⠀⠀⠀⢀⣀⣀⣀⣀⣤⠤⠤⠤⠴⠖⠒⠒⠒⠛⠉⠉⎥\n",
       "⎢⡀⠀⠀⠀⠀⠈⠻⣦⣀⣀⣤⠤⠤⠤⠴⠖⠒⠒⠒⠛⠉⠉⠉⠉⠁⠀⠀⠀⠀⠀⠀⠀⠀⠀⠀⠀⠀⠀⠀⠀⎥\n",
       "⎢⢧⠀⠀⠀⠀⠀⠀⢸⠻⣦⡀⠀⠀⠀⠀⠀⠀⠀⠀⠀⠀⠀⠀⠀⠀⠀⠀⠀⠀⠀⠀⠀⠀⠀⠀⠀⠀⠀⠀⠀⎥\n",
       "⎢⢸⠀⠀⠀⠀⠀⠀⡟⠀⠈⠻⣦⡀⠀⠀⠀⠀⠀⠀⠀⠀⠀⠀⠀⠀⠀⠀⠀⠀⠀⠀⠀⠀⠀⠀⠀⠀⠀⠀⠀⎥\n",
       "⎢⢸⡀⠀⠀⠀⠀⠀⡇⠀⠀⠀⠈⠻⣦⡀⠀⠀⠀⠀⠀⠀⠀⠀⠀⠀⠀⠀⠀⠀⠀⠀⠀⠀⠀⠀⠀⠀⠀⠀⠀⎥\n",
       "⎢⠀⡇⠀⠀⠀⠀⢰⠇⠀⠀⠀⠀⠀⠈⠻⣦⡀⠀⠀⠀⠀⠀⠀⠀⠀⠀⠀⠀⠀⠀⠀⠀⠀⠀⠀⠀⠀⠀⠀⠀⎥\n",
       "⎢⠀⡇⠀⠀⠀⠀⢸⠀⠀⠀⠀⠀⠀⠀⠀⠈⠻⣦⡀⠀⠀⠀⠀⠀⠀⠀⠀⠀⠀⠀⠀⠀⠀⠀⠀⠀⠀⠀⠀⠀⎥\n",
       "⎢⠀⢹⠀⠀⠀⠀⣼⠀⠀⠀⠀⠀⠀⠀⠀⠀⠀⠈⠻⣦⡀⠀⠀⠀⠀⠀⠀⠀⠀⠀⠀⠀⠀⠀⠀⠀⠀⠀⠀⠀⎥\n",
       "⎢⠀⢸⠀⠀⠀⠀⡇⠀⠀⠀⠀⠀⠀⠀⠀⠀⠀⠀⠀⠈⠻⣦⡀⠀⠀⠀⠀⠀⠀⠀⠀⠀⠀⠀⠀⠀⠀⠀⠀⠀⎥\n",
       "⎢⠀⠘⡇⠀⠀⢀⡇⠀⠀⠀⠀⠀⠀⠀⠀⠀⠀⠀⠀⠀⠀⠈⠻⣦⡀⠀⠀⠀⠀⠀⠀⠀⠀⠀⠀⠀⠀⠀⠀⠀⎥\n",
       "⎢⠀⠀⡇⠀⠀⢸⠁⠀⠀⠀⠀⠀⠀⠀⠀⠀⠀⠀⠀⠀⠀⠀⠀⠈⠻⣦⡀⠀⠀⠀⠀⠀⠀⠀⠀⠀⠀⠀⠀⠀⎥\n",
       "⎢⠀⠀⢷⠀⠀⢸⠀⠀⠀⠀⠀⠀⠀⠀⠀⠀⠀⠀⠀⠀⠀⠀⠀⠀⠀⠈⠻⣦⡀⠀⠀⠀⠀⠀⠀⠀⠀⠀⠀⠀⎥\n",
       "⎢⠀⠀⢸⠀⠀⡟⠀⠀⠀⠀⠀⠀⠀⠀⠀⠀⠀⠀⠀⠀⠀⠀⠀⠀⠀⠀⠀⠈⠻⣦⡀⠀⠀⠀⠀⠀⠀⠀⠀⠀⎥\n",
       "⎢⠀⠀⢸⡄⠀⡇⠀⠀⠀⠀⠀⠀⠀⠀⠀⠀⠀⠀⠀⠀⠀⠀⠀⠀⠀⠀⠀⠀⠀⠈⠻⣦⡀⠀⠀⠀⠀⠀⠀⠀⎥\n",
       "⎢⠀⠀⠀⡇⢰⠇⠀⠀⠀⠀⠀⠀⠀⠀⠀⠀⠀⠀⠀⠀⠀⠀⠀⠀⠀⠀⠀⠀⠀⠀⠀⠈⠻⣦⡀⠀⠀⠀⠀⠀⎥\n",
       "⎢⠀⠀⠀⣇⢸⠀⠀⠀⠀⠀⠀⠀⠀⠀⠀⠀⠀⠀⠀⠀⠀⠀⠀⠀⠀⠀⠀⠀⠀⠀⠀⠀⠀⠈⠻⣦⡀⠀⠀⠀⎥\n",
       "⎢⠀⠀⠀⢹⣼⠀⠀⠀⠀⠀⠀⠀⠀⠀⠀⠀⠀⠀⠀⠀⠀⠀⠀⠀⠀⠀⠀⠀⠀⠀⠀⠀⠀⠀⠀⠈⠻⣦⡀⠀⎥\n",
       "⎣⡄⠀⠀⢸⡇⠀⠀⠀⠀⠀⠀⠀⠀⠀⠀⠀⠀⠀⠀⠀⠀⠀⠀⠀⠀⠀⠀⠀⠀⠀⠀⠀⠀⠀⠀⠀⠀⠈⠻⣦⎦"
      ]
     },
     "metadata": {},
     "output_type": "display_data"
    }
   ],
   "source": [
    "K = FEM.heatConductionMatrix(problem)"
   ]
  },
  {
   "cell_type": "code",
   "execution_count": 5,
   "metadata": {},
   "outputs": [
    {
     "data": {
      "text/plain": [
       "(\"left\", 0, 0, 0)"
      ]
     },
     "metadata": {},
     "output_type": "display_data"
    }
   ],
   "source": [
    "left = FEM.temperatureConstraint(\"left\", T=100)\n",
    "right = FEM.temperatureConstraint(\"right\", T=100)\n",
    "flux = FEM.heatFlux(\"left\", qn=0)\n",
    "#conv = FEM.heatConvection(\"outer\", h=0.01, Tₐ=-10)"
   ]
  },
  {
   "cell_type": "code",
   "execution_count": 6,
   "metadata": {},
   "outputs": [],
   "source": [
    "q = FEM.loadVector(problem, [flux]);"
   ]
  },
  {
   "cell_type": "code",
   "execution_count": 7,
   "metadata": {},
   "outputs": [],
   "source": [
    "FEM.applyBoundaryConditions!(problem, K, q, [left, right])"
   ]
  },
  {
   "cell_type": "code",
   "execution_count": 8,
   "metadata": {},
   "outputs": [],
   "source": [
    "T = FEM.solveTemperature(K, q);"
   ]
  },
  {
   "cell_type": "code",
   "execution_count": 9,
   "metadata": {},
   "outputs": [
    {
     "data": {
      "text/plain": [
       "LowLevelFEM.VectorField([[3.197442310920451e-12; 0.0; … ; 0.0; 0.0;;], [2.5579538487363607e-12; 0.0; … ; 0.0; 0.0;;], [3.197442310920451e-12; 0.0; … ; 0.0; 0.0;;], [3.836930773104541e-12; 0.0; … ; 0.0; 0.0;;], [4.3964831775156215e-12; 0.0; … ; 0.0; 0.0;;], [5.115907697472721e-12; 0.0; … ; 0.0; 0.0;;], [4.476419235288631e-12; 0.0; … ; 0.0; 0.0;;], [5.115907697472721e-12; 0.0; … ; 0.0; 0.0;;], [3.836930773104541e-12; 0.0; … ; 0.0; 0.0;;], [4.476419235288631e-12; 0.0; … ; 0.0; 0.0;;]  …  [-3.836930773104541e-12; 1.2789769243681803e-12; … ; 1.2789769243681803e-12; 0.0;;], [-5.115907697472721e-12; 0.0; … ; 0.0; 0.0;;], [-5.115907697472721e-12; -1.2789769243681803e-12; … ; -1.2789769243681803e-12; 0.0;;], [-3.7569947153315305e-12; -6.394884621840902e-13; … ; -6.394884621840902e-13; 0.0;;], [-3.197442310920451e-12; -6.394884621840902e-13; … ; -6.394884621840902e-13; 0.0;;], [-2.5579538487363607e-12; -6.394884621840902e-13; … ; -6.394884621840902e-13; 0.0;;], [-1.9184653865522705e-12; -6.394884621840902e-13; … ; -6.394884621840902e-13; 0.0;;], [-1.438849039914208e-12; 6.394884621840902e-13; … ; 6.394884621840902e-13; 0.0;;], [-1.9184653865522705e-12; 6.394884621840902e-13; … ; 6.394884621840902e-13; 0.0;;], [-2.5579538487363607e-12; 6.394884621840902e-13; … ; 6.394884621840902e-13; 0.0;;]], [121, 122, 123, 124, 125, 126, 127, 128, 129, 130  …  1111, 1112, 1113, 1114, 1115, 1116, 1117, 1118, 1119, 1120], 1, :q)"
      ]
     },
     "metadata": {},
     "output_type": "display_data"
    }
   ],
   "source": [
    "Q = FEM.solveHeatFlux(problem, T)"
   ]
  },
  {
   "cell_type": "code",
   "execution_count": 10,
   "metadata": {},
   "outputs": [
    {
     "data": {
      "text/plain": [
       "1"
      ]
     },
     "metadata": {},
     "output_type": "display_data"
    }
   ],
   "source": [
    "T1 = FEM.showDoFResults(problem, T, :T, name=\"T\", visible=true)"
   ]
  },
  {
   "cell_type": "code",
   "execution_count": 11,
   "metadata": {},
   "outputs": [
    {
     "data": {
      "text/plain": [
       "2"
      ]
     },
     "metadata": {},
     "output_type": "display_data"
    }
   ],
   "source": [
    "qq = FEM.showHeatFluxResults(problem, Q, :q, visible=false, smooth=false)"
   ]
  },
  {
   "cell_type": "code",
   "execution_count": 12,
   "metadata": {},
   "outputs": [],
   "source": [
    "FEM.plotOnPath(problem, \"path\", T1, name=\"T\", visible=false);"
   ]
  },
  {
   "cell_type": "code",
   "execution_count": 13,
   "metadata": {},
   "outputs": [
    {
     "name": "stdout",
     "output_type": "stream",
     "text": [
      "Info    : RCMK renumbering...\n",
      "Info    : Done RCMK renumbering (bandwidth is now 22)\n",
      "Info    : Renumbering nodal model data (1 step)\n"
     ]
    },
    {
     "data": {
      "text/plain": [
       "LowLevelFEM.Problem(\"bending2D\", :PlaneStress, 2, 2, LowLevelFEM.Material[LowLevelFEM.Material(\"body\", 200000.0, 0.3, 7.85e-9, 45.0, 4.2e8, 1.2e-5)], 1.0, 1111)"
      ]
     },
     "metadata": {},
     "output_type": "display_data"
    }
   ],
   "source": [
    "problem2 = FEM.Problem([mat], type=:PlaneStress, bandwidth=:none)"
   ]
  },
  {
   "cell_type": "code",
   "execution_count": 14,
   "metadata": {},
   "outputs": [
    {
     "data": {
      "text/plain": [
       "2222×2222 SparseArrays.SparseMatrixCSC{Float64, Int64} with 37026 stored entries:\n",
       "⎡⠻⣦⡀⠈⠁⠀⠀⠈⠙⠓⠒⠒⠒⠶⠤⠤⠤⢤⣄⣀⣀⣀⣀⠀⠀⠀⠀⠀⠀⠀⠀⠀⠀⠀⠀⠀⠀⠀⠀⠉⎤\n",
       "⎢⡀⠈⠻⣦⡀⠀⠀⠀⠀⠀⠀⠀⠀⠀⠀⠀⠀⠀⠀⠀⠀⠀⠉⠉⠉⠉⠙⠓⠒⠒⠒⠶⠤⠤⠤⢤⣄⣀⣀⣀⎥\n",
       "⎢⠁⠀⠀⠈⠻⣦⡀⠀⠀⠀⠀⠀⠀⠀⠀⠀⠀⠀⠀⠀⠀⠀⠀⢀⣀⣀⣀⣀⣤⠤⠤⠤⠴⠖⠒⠒⠒⠛⠉⠉⎥\n",
       "⎢⡀⠀⠀⠀⠀⠈⠻⣦⣀⣀⣤⠤⠤⠤⠴⠖⠒⠒⠒⠛⠉⠉⠉⠉⠁⠀⠀⠀⠀⠀⠀⠀⠀⠀⠀⠀⠀⠀⠀⠀⎥\n",
       "⎢⢷⠀⠀⠀⠀⠀⠀⢸⠻⣦⡀⠀⠀⠀⠀⠀⠀⠀⠀⠀⠀⠀⠀⠀⠀⠀⠀⠀⠀⠀⠀⠀⠀⠀⠀⠀⠀⠀⠀⠀⎥\n",
       "⎢⢸⠀⠀⠀⠀⠀⠀⡟⠀⠈⠻⣦⡀⠀⠀⠀⠀⠀⠀⠀⠀⠀⠀⠀⠀⠀⠀⠀⠀⠀⠀⠀⠀⠀⠀⠀⠀⠀⠀⠀⎥\n",
       "⎢⢸⡄⠀⠀⠀⠀⠀⡇⠀⠀⠀⠈⠻⣦⡀⠀⠀⠀⠀⠀⠀⠀⠀⠀⠀⠀⠀⠀⠀⠀⠀⠀⠀⠀⠀⠀⠀⠀⠀⠀⎥\n",
       "⎢⠀⡇⠀⠀⠀⠀⢰⠇⠀⠀⠀⠀⠀⠈⠻⣦⡀⠀⠀⠀⠀⠀⠀⠀⠀⠀⠀⠀⠀⠀⠀⠀⠀⠀⠀⠀⠀⠀⠀⠀⎥\n",
       "⎢⠀⣇⠀⠀⠀⠀⢸⠀⠀⠀⠀⠀⠀⠀⠀⠈⠻⣦⡀⠀⠀⠀⠀⠀⠀⠀⠀⠀⠀⠀⠀⠀⠀⠀⠀⠀⠀⠀⠀⠀⎥\n",
       "⎢⠀⢹⠀⠀⠀⠀⣼⠀⠀⠀⠀⠀⠀⠀⠀⠀⠀⠈⠻⣦⡀⠀⠀⠀⠀⠀⠀⠀⠀⠀⠀⠀⠀⠀⠀⠀⠀⠀⠀⠀⎥\n",
       "⎢⠀⢸⠀⠀⠀⠀⡇⠀⠀⠀⠀⠀⠀⠀⠀⠀⠀⠀⠀⠈⠻⣦⡀⠀⠀⠀⠀⠀⠀⠀⠀⠀⠀⠀⠀⠀⠀⠀⠀⠀⎥\n",
       "⎢⠀⠘⡇⠀⠀⢀⡇⠀⠀⠀⠀⠀⠀⠀⠀⠀⠀⠀⠀⠀⠀⠈⠻⣦⡀⠀⠀⠀⠀⠀⠀⠀⠀⠀⠀⠀⠀⠀⠀⠀⎥\n",
       "⎢⠀⠀⡇⠀⠀⢸⠁⠀⠀⠀⠀⠀⠀⠀⠀⠀⠀⠀⠀⠀⠀⠀⠀⠈⠻⣦⡀⠀⠀⠀⠀⠀⠀⠀⠀⠀⠀⠀⠀⠀⎥\n",
       "⎢⠀⠀⢷⠀⠀⢸⠀⠀⠀⠀⠀⠀⠀⠀⠀⠀⠀⠀⠀⠀⠀⠀⠀⠀⠀⠈⠻⣦⡀⠀⠀⠀⠀⠀⠀⠀⠀⠀⠀⠀⎥\n",
       "⎢⠀⠀⢸⠀⠀⡟⠀⠀⠀⠀⠀⠀⠀⠀⠀⠀⠀⠀⠀⠀⠀⠀⠀⠀⠀⠀⠀⠈⠻⣦⡀⠀⠀⠀⠀⠀⠀⠀⠀⠀⎥\n",
       "⎢⠀⠀⢸⡄⠀⡇⠀⠀⠀⠀⠀⠀⠀⠀⠀⠀⠀⠀⠀⠀⠀⠀⠀⠀⠀⠀⠀⠀⠀⠈⠻⣦⡀⠀⠀⠀⠀⠀⠀⠀⎥\n",
       "⎢⠀⠀⠀⡇⢰⠇⠀⠀⠀⠀⠀⠀⠀⠀⠀⠀⠀⠀⠀⠀⠀⠀⠀⠀⠀⠀⠀⠀⠀⠀⠀⠈⠻⣦⡀⠀⠀⠀⠀⠀⎥\n",
       "⎢⠀⠀⠀⣇⢸⠀⠀⠀⠀⠀⠀⠀⠀⠀⠀⠀⠀⠀⠀⠀⠀⠀⠀⠀⠀⠀⠀⠀⠀⠀⠀⠀⠀⠈⠻⣦⡀⠀⠀⠀⎥\n",
       "⎢⠀⠀⠀⢹⣼⠀⠀⠀⠀⠀⠀⠀⠀⠀⠀⠀⠀⠀⠀⠀⠀⠀⠀⠀⠀⠀⠀⠀⠀⠀⠀⠀⠀⠀⠀⠈⠻⣦⡀⠀⎥\n",
       "⎣⡄⠀⠀⢸⡇⠀⠀⠀⠀⠀⠀⠀⠀⠀⠀⠀⠀⠀⠀⠀⠀⠀⠀⠀⠀⠀⠀⠀⠀⠀⠀⠀⠀⠀⠀⠀⠀⠈⠻⣦⎦"
      ]
     },
     "metadata": {},
     "output_type": "display_data"
    }
   ],
   "source": [
    "K2 = FEM.stiffnessMatrix(problem2)"
   ]
  },
  {
   "cell_type": "code",
   "execution_count": 15,
   "metadata": {},
   "outputs": [],
   "source": [
    "left2 = FEM.displacementConstraint(\"left\", ux=0)\n",
    "right2 = FEM.displacementConstraint(\"right\", ux=0)\n",
    "bottom2 = FEM.displacementConstraint(\"bottom\", uy=0)\n",
    "load = FEM.load(\"left\", fx=0);"
   ]
  },
  {
   "cell_type": "code",
   "execution_count": 16,
   "metadata": {},
   "outputs": [],
   "source": [
    "f = FEM.loadVector(problem2, [load]);"
   ]
  },
  {
   "cell_type": "code",
   "execution_count": 17,
   "metadata": {},
   "outputs": [],
   "source": [
    "fT = FEM.thermalLoadVector(problem2, T);"
   ]
  },
  {
   "cell_type": "code",
   "execution_count": 18,
   "metadata": {},
   "outputs": [],
   "source": [
    "f2 = f + fT;"
   ]
  },
  {
   "cell_type": "code",
   "execution_count": 19,
   "metadata": {},
   "outputs": [],
   "source": [
    "FEM.applyBoundaryConditions!(problem2, K2, f2, [left2, right2, bottom2])\n",
    "#FEM.applyBoundaryConditions!(problem2, K2, f2, [left2, bottom2])"
   ]
  },
  {
   "cell_type": "code",
   "execution_count": 20,
   "metadata": {},
   "outputs": [],
   "source": [
    "q2 = FEM.solveDisplacement(K2, f2);"
   ]
  },
  {
   "cell_type": "code",
   "execution_count": 21,
   "metadata": {},
   "outputs": [
    {
     "data": {
      "text/plain": [
       "LowLevelFEM.TensorField([[1.7248408772231114e-17; 0.0; … ; 0.0; -0.0006685714285714326;;], [1.749640516969843e-17; -4.336808689942018e-19; … ; 0.0; -0.0006685714285714323;;], [1.825158741879874e-17; 8.673617379884035e-19; … ; 0.0; -0.0006685714285714322;;], [1.819431615985705e-17; 2.6020852139652106e-18; … ; 0.0; -0.0006685714285714326;;], [1.8417956787545343e-17; 8.618106228652541e-19; … ; 0.0; -0.0006685714285714326;;], [1.9333526038919352e-17; 0.0; … ; 0.0; -0.0006685714285714344;;], [1.8940233499373492e-17; -5.204170427930421e-18; … ; 0.0; -0.0006685714285714337;;], [1.994191222135464e-17; -3.469446951953614e-18; … ; 0.0; -0.000668571428571437;;], [2.2248030086435204e-17; -1.0408340855860843e-17; … ; 0.0; -0.0006685714285714344;;], [2.4844558709962926e-17; -5.204170427930421e-18; … ; 0.0; -0.000668571428571438;;]  …  [1.6471155452677077e-17; -1.5622297018205188e-19; … ; 0.0; -0.0006685714285714332;;], [1.662737842285913e-17; 3.459155328770308e-19; … ; 0.0; -0.0006685714285714328;;], [1.6350797923399737e-17; 7.319610559036428e-19; … ; 0.0; -0.0006685714285714329;;], [1.6181592834870226e-17; 2.655917538365823e-18; … ; 0.0; -0.0006685714285714333;;], [1.5389647503891482e-17; 3.2463716026118118e-18; … ; 0.0; -0.0006685714285714334;;], [1.4968224895144663e-17; 4.87740393983409e-18; … ; 0.0; -0.0006685714285714332;;], [1.593927777188761e-17; 6.682211080820179e-18; … ; 0.0; -0.0006685714285714357;;], [1.7603917582855135e-17; 2.0685110168129835e-18; … ; 0.0; -0.0006685714285714358;;], [1.7689573040928573e-17; 3.53682764963292e-18; … ; 0.0; -0.0006685714285714356;;], [1.5545130586111958e-17; -9.917584923349449e-18; … ; 0.0; -0.0006685714285714317;;]], [121, 122, 123, 124, 125, 126, 127, 128, 129, 130  …  1111, 1112, 1113, 1114, 1115, 1116, 1117, 1118, 1119, 1120], 1, :e)"
      ]
     },
     "metadata": {},
     "output_type": "display_data"
    }
   ],
   "source": [
    "E = FEM.solveStrain(problem2, q2)"
   ]
  },
  {
   "cell_type": "code",
   "execution_count": 22,
   "metadata": {},
   "outputs": [
    {
     "data": {
      "text/plain": [
       "LowLevelFEM.TensorField([[-239.99999999999673; 0.0; … ; 0.0; 0.0;;], [-239.99999999999676; -3.336006684570783e-14; … ; 0.0; 0.0;;], [-239.99999999999662; 6.672013369141566e-14; … ; 0.0; 0.0;;], [-239.9999999999966; 2.0016040107424696e-13; … ; 0.0; 0.0;;], [-239.9999999999966; 6.629312483578878e-14; … ; 0.0; 0.0;;], [-239.99999999999608; 0.0; … ; 0.0; 0.0;;], [-239.99999999999636; -4.003208021484939e-13; … ; 0.0; 0.0;;], [-239.9999999999958; -2.6688053476566263e-13; … ; 0.0; 0.0;;], [-239.99999999999585; -8.006416042969878e-13; … ; 0.0; 0.0;;], [-239.99999999999494; -4.003208021484939e-13; … ; 0.0; 0.0;;]  …  [-239.99999999999648; -1.2017151552465529e-14; … ; 0.0; 0.0;;], [-239.99999999999636; 2.6608887144386986e-14; … ; 0.0; 0.0;;], [-239.99999999999642; 5.630469660797252e-14; … ; 0.0; 0.0;;], [-239.99999999999645; 2.0430134910506332e-13; … ; 0.0; 0.0;;], [-239.99999999999662; 2.497208925086009e-13; … ; 0.0; 0.0;;], [-239.99999999999687; 3.7518491844877614e-13; … ; 0.0; 0.0;;], [-239.99999999999636; 5.140162369861677e-13; … ; 0.0; 0.0;;], [-239.99999999999608; 1.5911623206253719e-13; … ; 0.0; 0.0;;], [-239.99999999999588; 2.7206366535637845e-13; … ; 0.0; 0.0;;], [-239.99999999999704; -7.628911479499576e-13; … ; 0.0; 0.0;;]], [121, 122, 123, 124, 125, 126, 127, 128, 129, 130  …  1111, 1112, 1113, 1114, 1115, 1116, 1117, 1118, 1119, 1120], 1, :s)"
      ]
     },
     "metadata": {},
     "output_type": "display_data"
    }
   ],
   "source": [
    "S = FEM.solveStress(problem2, q2, T=T)"
   ]
  },
  {
   "cell_type": "code",
   "execution_count": 23,
   "metadata": {},
   "outputs": [
    {
     "data": {
      "text/plain": [
       "6"
      ]
     },
     "metadata": {},
     "output_type": "display_data"
    }
   ],
   "source": [
    "u = FEM.showDoFResults(problem2, q2, :uvec, visible=false)\n",
    "ux = FEM.showDoFResults(problem2, q2, :ux, visible=false)\n",
    "uy = FEM.showDoFResults(problem2, q2, :uy, visible=false)"
   ]
  },
  {
   "cell_type": "code",
   "execution_count": 24,
   "metadata": {},
   "outputs": [
    {
     "name": "stdout",
     "output_type": "stream",
     "text": [
      "Info    : Running Plugin(Smooth)...\n",
      "Info    : Done running Plugin(Smooth)\n",
      "Info    : Running Plugin(Smooth)...\n",
      "Info    : Done running Plugin(Smooth)\n",
      "Info    : Running Plugin(Smooth)...\n",
      "Info    : Done running Plugin(Smooth)\n"
     ]
    },
    {
     "data": {
      "text/plain": [
       "9"
      ]
     },
     "metadata": {},
     "output_type": "display_data"
    }
   ],
   "source": [
    "ex = FEM.showStrainResults(problem2, E, :ex, visible=false)\n",
    "ey = FEM.showStrainResults(problem2, E, :ey, visible=false)\n",
    "exy = FEM.showStrainResults(problem2, E, :exy, visible=false)"
   ]
  },
  {
   "cell_type": "code",
   "execution_count": 25,
   "metadata": {},
   "outputs": [
    {
     "name": "stdout",
     "output_type": "stream",
     "text": [
      "Info    : Running Plugin(Smooth)...\n",
      "Info    : Done running Plugin(Smooth)\n",
      "Info    : Running Plugin(Smooth)...\n",
      "Info    : Done running Plugin(Smooth)\n",
      "Info    : Running Plugin(Smooth)...\n",
      "Info    : Done running Plugin(Smooth)\n"
     ]
    },
    {
     "data": {
      "text/plain": [
       "12"
      ]
     },
     "metadata": {},
     "output_type": "display_data"
    }
   ],
   "source": [
    "sx = FEM.showStressResults(problem2, S, :sx, visible=false)\n",
    "sy = FEM.showStressResults(problem2, S, :sy, visible=false)\n",
    "sxy = FEM.showStressResults(problem2, S, :sxy, visible=false)"
   ]
  },
  {
   "cell_type": "code",
   "execution_count": 26,
   "metadata": {},
   "outputs": [
    {
     "data": {
      "text/plain": [
       "\"Δl = 0.12000000000000001\""
      ]
     },
     "metadata": {},
     "output_type": "display_data"
    },
    {
     "data": {
      "text/plain": [
       "\"ε₀ = 0.0012000000000000001\""
      ]
     },
     "metadata": {},
     "output_type": "display_data"
    },
    {
     "data": {
      "text/plain": [
       "\"ε₁ = -0.0012000000000000001\""
      ]
     },
     "metadata": {},
     "output_type": "display_data"
    },
    {
     "data": {
      "text/plain": [
       "\"ε₁ₖ = 0.00036\""
      ]
     },
     "metadata": {},
     "output_type": "display_data"
    },
    {
     "data": {
      "text/plain": [
       "\"ε₁ₖ+ε₀ = 0.0015600000000000002\""
      ]
     },
     "metadata": {},
     "output_type": "display_data"
    },
    {
     "data": {
      "text/plain": [
       "\"σₓ = -240.00000000000003\""
      ]
     },
     "metadata": {},
     "output_type": "display_data"
    },
    {
     "data": {
      "text/plain": [
       "\"p = 199.99999999999997\""
      ]
     },
     "metadata": {},
     "output_type": "display_data"
    }
   ],
   "source": [
    "ΔT = 100\n",
    "α = problem.material[1].α\n",
    "ν = problem.material[1].ν\n",
    "E = problem.material[1].E\n",
    "l₀ = 100\n",
    "Δl = l₀ * α * ΔT\n",
    "ε₀ = α * ΔT\n",
    "ε₁ = -Δl / l₀\n",
    "ε₁ₖ = -ν * ε₁\n",
    "σₓ = E * ε₁\n",
    "p = E * α / 3 / (1 - 2ν) * ΔT\n",
    "display(\"Δl = $Δl\")\n",
    "display(\"ε₀ = $ε₀\")\n",
    "display(\"ε₁ = $ε₁\")\n",
    "display(\"ε₁ₖ = $ε₁ₖ\")\n",
    "display(\"ε₁ₖ+ε₀ = $(ε₁ₖ+ε₀)\")\n",
    "display(\"σₓ = $σₓ\")\n",
    "display(\"p = $p\")"
   ]
  },
  {
   "cell_type": "code",
   "execution_count": 27,
   "metadata": {},
   "outputs": [
    {
     "data": {
      "text/plain": [
       "0.0012000000000000001"
      ]
     },
     "metadata": {},
     "output_type": "display_data"
    }
   ],
   "source": [
    "ε₁ = Δl / l₀"
   ]
  },
  {
   "cell_type": "code",
   "execution_count": 28,
   "metadata": {},
   "outputs": [
    {
     "data": {
      "text/plain": [
       "13"
      ]
     },
     "metadata": {},
     "output_type": "display_data"
    }
   ],
   "source": [
    "FF = FEM.showDoFResults(problem2, fT, :uvec, name=\"fT\", visible=false)"
   ]
  },
  {
   "cell_type": "code",
   "execution_count": 29,
   "metadata": {},
   "outputs": [
    {
     "name": "stdout",
     "output_type": "stream",
     "text": [
      "-------------------------------------------------------\n",
      "Version       : 4.13.1\n",
      "License       : GNU General Public License\n",
      "Build OS      : Linux64-sdk\n",
      "Build date    : 19700101\n",
      "Build host    : amdci7.julia.csail.mit.edu\n",
      "Build options : 64Bit ALGLIB[contrib] ANN[contrib] Bamg Blossom Cairo DIntegration Dlopen DomHex Eigen[contrib] Fltk GMP Gmm[contrib] Hxt Jpeg Kbipack LinuxJoystick MathEx[contrib] Mesh Metis[contrib] Mmg Mpeg Netgen Nii2mesh ONELAB ONELABMetamodel OpenCASCADE OpenCASCADE-CAF OpenGL OpenMP OptHom Parser Plugins Png Post QuadMeshingTools QuadTri Solver TetGen/BR TinyXML2[contrib] Untangle Voro++[contrib] WinslowUntangler Zlib\n",
      "FLTK version  : 1.3.8\n",
      "OCC version   : 7.7.2\n",
      "Packaged by   : root\n",
      "Web site      : https://gmsh.info\n",
      "Issue tracker : https://gitlab.onelab.info/gmsh/gmsh/issues\n",
      "-------------------------------------------------------\n"
     ]
    },
    {
     "name": "stderr",
     "output_type": "stream",
     "text": [
      "XOpenIM() failed\n",
      "XRequest.18: BadValue 0x0\n"
     ]
    }
   ],
   "source": [
    "gmsh.fltk.run()"
   ]
  },
  {
   "cell_type": "code",
   "execution_count": 30,
   "metadata": {},
   "outputs": [],
   "source": [
    "gmsh.finalize()"
   ]
  }
 ],
 "metadata": {
  "kernelspec": {
   "display_name": "Julia 1.11.3",
   "language": "julia",
   "name": "julia-1.11"
  },
  "language_info": {
   "file_extension": ".jl",
   "mimetype": "application/julia",
   "name": "julia",
   "version": "1.11.3"
  }
 },
 "nbformat": 4,
 "nbformat_minor": 2
}
