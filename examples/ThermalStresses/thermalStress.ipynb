{
 "cells": [
  {
   "cell_type": "code",
   "execution_count": 126,
   "metadata": {},
   "outputs": [],
   "source": [
    "import LowLevelFEM as FEM\n",
    "using LowLevelFEM\n",
    "\n",
    "gmsh.initialize()"
   ]
  },
  {
   "cell_type": "code",
   "execution_count": 127,
   "metadata": {},
   "outputs": [
    {
     "name": "stdout",
     "output_type": "stream",
     "text": [
      "Info    : Reading 'thermalStress.geo'...\n",
      "Info    : Meshing 1D...\n",
      "Info    : [  0%] Meshing curve 1 (Line)\n",
      "Info    : [ 30%] Meshing curve 2 (Line)\n",
      "Info    : [ 60%] Meshing curve 3 (Line)\n",
      "Info    : [ 80%] Meshing curve 4 (Line)\n",
      "Info    : Done meshing 1D (Wall 0.000222502s, CPU 0.000202s)\n",
      "Info    : Meshing 2D...\n",
      "Info    : Meshing surface 1 (Transfinite)\n",
      "Info    : Done meshing 2D (Wall 0.000217977s, CPU 0.000187s)\n",
      "Info    : Meshing order 3 (curvilinear on)...\n",
      "Info    : [  0%] Meshing curve 1 order 3\n",
      "Info    : [ 30%] Meshing curve 2 order 3\n",
      "Info    : [ 50%] Meshing curve 3 order 3\n",
      "Info    : [ 70%] Meshing curve 4 order 3\n",
      "Info    : [ 90%] Meshing surface 1 order 3\n",
      "Info    : Done meshing order 3 (Wall 0.00507374s, CPU 0.005011s)\n",
      "Info    : 910 nodes 160 elements\n",
      "Info    : Done reading 'thermalStress.geo'\n"
     ]
    }
   ],
   "source": [
    "gmsh.open(\"thermalStress.geo\")"
   ]
  },
  {
   "cell_type": "code",
   "execution_count": 128,
   "metadata": {},
   "outputs": [
    {
     "name": "stdout",
     "output_type": "stream",
     "text": [
      "Info    : RCMK renumbering...\n",
      "Info    : Done RCMK renumbering (bandwidth is now 60)\n"
     ]
    },
    {
     "data": {
      "text/plain": [
       "LowLevelFEM.Problem(\"bending2D\", \"PlaneHeatConduction\", 2, 1, LowLevelFEM.Material[LowLevelFEM.Material(\"body\", 200000.0, 0.3, 7.85e-9, 45.0, 4.2e8, 1.2e-5)], 1.0, 910)"
      ]
     },
     "metadata": {},
     "output_type": "display_data"
    }
   ],
   "source": [
    "mat = FEM.material(\"body\")\n",
    "problem = FEM.Problem([mat], type=\"PlaneHeatConduction\", bandwidth=\"none\")"
   ]
  },
  {
   "cell_type": "code",
   "execution_count": 129,
   "metadata": {},
   "outputs": [
    {
     "data": {
      "text/plain": [
       "910×910 SparseArrays.SparseMatrixCSC{Float64, Int64} with 20746 stored entries:\n",
       "⎡⣻⣾⠲⢤⡉⠈⠀⠀⢙⡳⢦⣍⣋⣛⣒⠒⠂⠂⠂⠒⠒⠒⠒⠲⠲⠦⠤⠠⠠⠠⠤⠤⠤⠤⡤⣤⣀⡀⡉⡉⎤\n",
       "⎢⠘⣆⠻⢆⠀⠀⠀⠀⠀⠙⢦⡀⠀⠀⠁⠉⠁⠁⠁⠛⠓⠒⠒⠒⠲⠲⠦⠠⠠⠠⣤⣀⣀⣀⣀⣀⣀⠀⠀⠀⎥\n",
       "⎢⡃⠈⠀⠀⣻⣾⡲⢤⣀⣠⠴⣃⣀⣀⣀⣀⣀⣀⣀⣠⣤⠤⠤⠤⠤⠤⠤⠤⠤⠤⠶⠖⠒⠒⠒⠒⠓⢓⢛⣛⎥\n",
       "⎢⠀⠀⠀⠀⠘⣎⠑⣤⡀⣠⠞⠁⠀⠀⠀⢀⢀⣀⣀⣀⣀⣠⣤⠤⠤⠤⠤⠦⠒⠒⠒⠒⠒⠋⠉⠉⠉⠉⠉⠁⎥\n",
       "⎢⢷⡰⣄⠀⠀⣸⠀⣨⠿⣧⡀⠚⠿⠿⠯⠭⠭⣥⣤⣤⣀⣀⣀⣀⣀⡀⠀⠀⠀⠀⠀⠀⠀⠀⠀⠀⠀⠀⠀⠀⎥\n",
       "⎢⡌⢷⠈⠳⠴⢣⠞⠁⣠⠈⠻⣦⣤⠀⠀⠀⠀⠀⠀⠀⠀⠀⠀⠉⠉⠉⠉⠉⠙⠛⠓⠒⠒⠒⠶⠶⠦⠤⠤⠤⎥\n",
       "⎢⣯⢸⠀⠀⠀⢸⠀⠀⣿⡇⠀⠛⣿⣿⣤⡀⠀⠀⠀⠀⠀⠀⠀⠀⠀⠀⠀⠀⠀⠀⠀⠀⠀⠀⠀⠀⠀⠀⠀⠀⎥\n",
       "⎢⢸⠘⡅⠀⠀⢸⠀⢀⡏⡇⠀⠀⠀⠻⣿⣿⣆⡀⠀⠀⠀⠀⠀⠀⠀⠀⠀⠀⠀⠀⠀⠀⠀⠀⠀⠀⠀⠀⠀⠀⎥\n",
       "⎢⠨⠀⠅⠀⠀⢸⠀⢰⠇⣧⠀⠀⠀⠀⠈⠹⢿⣷⣦⠀⠀⠀⠀⠀⠀⠀⠀⠀⠀⠀⠀⠀⠀⠀⠀⠀⠀⠀⠀⠀⎥\n",
       "⎢⢨⠀⣥⠀⠀⣸⠀⢸⠀⣿⠀⠀⠀⠀⠀⠀⠈⠛⣿⣿⣤⡀⠀⠀⠀⠀⠀⠀⠀⠀⠀⠀⠀⠀⠀⠀⠀⠀⠀⠀⎥\n",
       "⎢⢸⠀⢹⠀⠀⡟⠀⣸⠀⢸⠀⠀⠀⠀⠀⠀⠀⠀⠀⠻⣿⣿⣦⡀⠀⠀⠀⠀⠀⠀⠀⠀⠀⠀⠀⠀⠀⠀⠀⠀⎥\n",
       "⎢⢸⡀⢸⠀⠀⡇⠀⡟⠀⢸⡄⠀⠀⠀⠀⠀⠀⠀⠀⠀⠈⠻⢿⣷⣆⡀⠀⠀⠀⠀⠀⠀⠀⠀⠀⠀⠀⠀⠀⠀⎥\n",
       "⎢⠸⡆⢸⡂⠀⡇⠀⡇⠀⠸⡇⠀⠀⠀⠀⠀⠀⠀⠀⠀⠀⠀⠈⠹⣿⣿⣦⠀⠀⠀⠀⠀⠀⠀⠀⠀⠀⠀⠀⠀⎥\n",
       "⎢⠀⡃⠈⡃⠀⡇⠠⡇⠀⠀⡇⠀⠀⠀⠀⠀⠀⠀⠀⠀⠀⠀⠀⠀⠈⠛⣿⣿⣤⡀⠀⠀⠀⠀⠀⠀⠀⠀⠀⠀⎥\n",
       "⎢⠀⡂⠀⡂⠀⡇⢸⠀⠀⠀⣷⠀⠀⠀⠀⠀⠀⠀⠀⠀⠀⠀⠀⠀⠀⠀⠀⠻⢿⣷⣆⡀⠀⠀⠀⠀⠀⠀⠀⠀⎥\n",
       "⎢⠀⡇⠀⢻⢸⠇⢸⠀⠀⠀⢹⠀⠀⠀⠀⠀⠀⠀⠀⠀⠀⠀⠀⠀⠀⠀⠀⠀⠈⠹⣿⣿⣦⡀⠀⠀⠀⠀⠀⠀⎥\n",
       "⎢⠀⡇⠀⢸⢸⠀⡼⠀⠀⠀⢸⠀⠀⠀⠀⠀⠀⠀⠀⠀⠀⠀⠀⠀⠀⠀⠀⠀⠀⠀⠈⠻⣿⣿⣦⠀⠀⠀⠀⠀⎥\n",
       "⎢⠀⣯⠀⢸⢸⠀⡇⠀⠀⠀⢸⡇⠀⠀⠀⠀⠀⠀⠀⠀⠀⠀⠀⠀⠀⠀⠀⠀⠀⠀⠀⠀⠈⠛⣿⣿⣤⡀⠀⠀⎥\n",
       "⎢⠀⠸⠀⠘⢽⢀⡇⠀⠀⠀⠈⡇⠀⠀⠀⠀⠀⠀⠀⠀⠀⠀⠀⠀⠀⠀⠀⠀⠀⠀⠀⠀⠀⠀⠀⠻⢿⣷⣆⡀⎥\n",
       "⎣⡇⠨⠀⠀⣿⢰⠇⠀⠀⠀⠀⡇⠀⠀⠀⠀⠀⠀⠀⠀⠀⠀⠀⠀⠀⠀⠀⠀⠀⠀⠀⠀⠀⠀⠀⠀⠈⠹⣿⣿⎦"
      ]
     },
     "metadata": {},
     "output_type": "display_data"
    }
   ],
   "source": [
    "K = FEM.heatConductionMatrix(problem)"
   ]
  },
  {
   "cell_type": "code",
   "execution_count": 130,
   "metadata": {},
   "outputs": [
    {
     "data": {
      "text/plain": [
       "(\"left\", 0, 0, 0)"
      ]
     },
     "metadata": {},
     "output_type": "display_data"
    }
   ],
   "source": [
    "left = FEM.temperatureConstraint(\"left\", T=100)\n",
    "right = FEM.temperatureConstraint(\"right\", T=100)\n",
    "flux = FEM.heatFlux(\"left\", qn=0)\n",
    "#conv = FEM.heatConvection(\"outer\", h=0.01, Tₐ=-10)"
   ]
  },
  {
   "cell_type": "code",
   "execution_count": 131,
   "metadata": {},
   "outputs": [],
   "source": [
    "q = FEM.loadVector(problem, [flux]);"
   ]
  },
  {
   "cell_type": "code",
   "execution_count": 132,
   "metadata": {},
   "outputs": [],
   "source": [
    "FEM.applyBoundaryConditions!(problem, K, q, [left, right])"
   ]
  },
  {
   "cell_type": "code",
   "execution_count": 133,
   "metadata": {},
   "outputs": [
    {
     "data": {
      "text/plain": [
       "910-element Vector{Float64}:\n",
       " 100.0\n",
       " 100.0\n",
       " 100.0\n",
       " 100.0\n",
       " 100.0000000000023\n",
       " 100.00000000000468\n",
       " 100.00000000000631\n",
       " 100.00000000000749\n",
       " 100.00000000000789\n",
       " 100.00000000000819\n",
       "   ⋮\n",
       " 100.00000000000058\n",
       " 100.00000000000043\n",
       " 100.00000000000017\n",
       " 100.0000000000002\n",
       " 100.00000000000048\n",
       " 100.00000000000055\n",
       " 100.00000000000026\n",
       " 100.00000000000027\n",
       " 100.00000000000064"
      ]
     },
     "metadata": {},
     "output_type": "display_data"
    }
   ],
   "source": [
    "T = FEM.solveTemperature(K, q)"
   ]
  },
  {
   "cell_type": "code",
   "execution_count": 134,
   "metadata": {},
   "outputs": [
    {
     "data": {
      "text/plain": [
       "0"
      ]
     },
     "metadata": {},
     "output_type": "display_data"
    }
   ],
   "source": [
    "T1 = FEM.showDoFResults(problem, T, \"T\", name=\"T\", visible=true)"
   ]
  },
  {
   "cell_type": "code",
   "execution_count": 135,
   "metadata": {},
   "outputs": [],
   "source": [
    "FEM.plotOnPath(problem, \"path\", T1, 100, name=\"T\", visible=false);"
   ]
  },
  {
   "cell_type": "code",
   "execution_count": 136,
   "metadata": {},
   "outputs": [
    {
     "name": "stdout",
     "output_type": "stream",
     "text": [
      "Info    : RCMK renumbering...\n",
      "Info    : Done RCMK renumbering (bandwidth is now 60)\n",
      "Info    : Renumbering nodal model data (1 step)\n"
     ]
    },
    {
     "data": {
      "text/plain": [
       "LowLevelFEM.Problem(\"bending2D\", \"PlaneStress\", 2, 2, LowLevelFEM.Material[LowLevelFEM.Material(\"body\", 200000.0, 0.3, 7.85e-9, 45.0, 4.2e8, 1.2e-5)], 1.0, 910)"
      ]
     },
     "metadata": {},
     "output_type": "display_data"
    }
   ],
   "source": [
    "problem2 = FEM.Problem([mat], type=\"PlaneStress\", bandwidth=\"none\")"
   ]
  },
  {
   "cell_type": "code",
   "execution_count": 137,
   "metadata": {},
   "outputs": [
    {
     "data": {
      "text/plain": [
       "1820×1820 SparseArrays.SparseMatrixCSC{Float64, Int64} with 82984 stored entries:\n",
       "⎡⣻⣾⡲⢤⡉⠈⠀⠀⢙⡳⢦⣍⣋⣛⣒⠒⠂⠂⠂⠒⠒⠒⠲⠲⠶⠦⠤⠠⠠⠠⠤⠤⠤⠤⡤⣤⣀⡀⡉⡉⎤\n",
       "⎢⠘⣎⠻⢆⡀⠀⠀⠀⠀⠙⢦⡀⠀⠁⠉⠉⠁⠁⠁⠛⠓⠒⠒⠒⠲⠲⠦⠠⠠⠠⣤⣀⣀⣀⣀⣀⣀⠀⠀⠀⎥\n",
       "⎢⡃⠈⠀⠈⣻⣾⡲⢤⣀⣠⠴⣃⣀⣀⣀⣀⣀⣀⣀⣠⣤⠤⠤⠤⠤⠤⠤⠤⠤⠤⠶⠶⠖⠒⠒⠓⠛⢓⢛⣛⎥\n",
       "⎢⠀⠀⠀⠀⠘⣎⠱⣦⡀⣠⠞⠁⠀⠀⠀⢀⢀⣀⣀⣀⣀⣠⣤⠤⠤⠤⠤⠦⠶⠒⠒⠒⠒⠋⠉⠉⠉⠉⠉⠁⎥\n",
       "⎢⢷⡰⣄⠀⠀⣸⠀⣨⠿⣧⡀⠺⠿⠿⠯⠭⠭⣥⣤⣤⣀⣀⣀⣀⣀⡀⠀⠀⠀⠀⠀⠀⠀⠀⠀⠀⠀⠀⠀⠀⎥\n",
       "⎢⡌⢷⠈⠳⠴⢣⠞⠁⣠⡈⠻⣦⣤⠀⠀⠀⠀⠀⠀⠀⠀⠀⠈⠉⠉⠉⠉⠉⠙⠛⠛⠓⠒⠒⠶⠶⠦⠤⠤⠤⎥\n",
       "⎢⣯⢸⠄⠀⠀⢸⠀⠀⣿⡇⠀⠛⣿⣿⣤⡀⠀⠀⠀⠀⠀⠀⠀⠀⠀⠀⠀⠀⠀⠀⠀⠀⠀⠀⠀⠀⠀⠀⠀⠀⎥\n",
       "⎢⢸⠘⡇⠀⠀⢸⠀⢀⡏⡇⠀⠀⠀⠻⣿⣿⣆⡀⠀⠀⠀⠀⠀⠀⠀⠀⠀⠀⠀⠀⠀⠀⠀⠀⠀⠀⠀⠀⠀⠀⎥\n",
       "⎢⠨⠀⠅⠀⠀⢸⠀⢰⠇⣧⠀⠀⠀⠀⠈⠹⣿⣿⣦⠀⠀⠀⠀⠀⠀⠀⠀⠀⠀⠀⠀⠀⠀⠀⠀⠀⠀⠀⠀⠀⎥\n",
       "⎢⢨⠀⣥⠀⠀⣸⠀⢸⠀⣿⠀⠀⠀⠀⠀⠀⠈⠛⣿⣿⣤⡀⠀⠀⠀⠀⠀⠀⠀⠀⠀⠀⠀⠀⠀⠀⠀⠀⠀⠀⎥\n",
       "⎢⢸⠀⢹⠀⠀⡟⠀⣸⠀⢸⠀⠀⠀⠀⠀⠀⠀⠀⠀⠻⣿⣿⣦⡀⠀⠀⠀⠀⠀⠀⠀⠀⠀⠀⠀⠀⠀⠀⠀⠀⎥\n",
       "⎢⢸⡂⢸⠀⠀⡇⠀⡟⠀⢸⡆⠀⠀⠀⠀⠀⠀⠀⠀⠀⠈⠻⣿⣿⣆⡀⠀⠀⠀⠀⠀⠀⠀⠀⠀⠀⠀⠀⠀⠀⎥\n",
       "⎢⠸⡇⢸⡂⠀⡇⠀⡇⠀⠸⡇⠀⠀⠀⠀⠀⠀⠀⠀⠀⠀⠀⠈⠹⣿⣿⣦⠀⠀⠀⠀⠀⠀⠀⠀⠀⠀⠀⠀⠀⎥\n",
       "⎢⠀⡃⠈⡃⠀⡇⠠⡇⠀⠀⡇⠀⠀⠀⠀⠀⠀⠀⠀⠀⠀⠀⠀⠀⠈⠛⣿⣿⣤⡀⠀⠀⠀⠀⠀⠀⠀⠀⠀⠀⎥\n",
       "⎢⠀⡂⠀⡂⠀⡇⢸⠃⠀⠀⣷⠀⠀⠀⠀⠀⠀⠀⠀⠀⠀⠀⠀⠀⠀⠀⠀⠻⣿⣿⣆⡀⠀⠀⠀⠀⠀⠀⠀⠀⎥\n",
       "⎢⠀⡇⠀⢻⢸⡇⢸⠀⠀⠀⢿⠀⠀⠀⠀⠀⠀⠀⠀⠀⠀⠀⠀⠀⠀⠀⠀⠀⠈⠹⣿⣿⣦⡀⠀⠀⠀⠀⠀⠀⎥\n",
       "⎢⠀⡇⠀⢸⢸⠁⡼⠀⠀⠀⢸⠀⠀⠀⠀⠀⠀⠀⠀⠀⠀⠀⠀⠀⠀⠀⠀⠀⠀⠀⠈⠻⣿⣿⣦⠀⠀⠀⠀⠀⎥\n",
       "⎢⠀⣯⠀⢸⢼⠀⡇⠀⠀⠀⢸⡇⠀⠀⠀⠀⠀⠀⠀⠀⠀⠀⠀⠀⠀⠀⠀⠀⠀⠀⠀⠀⠈⠛⣿⣿⣦⡀⠀⠀⎥\n",
       "⎢⠀⠸⠀⠘⢿⢀⡇⠀⠀⠀⠈⡇⠀⠀⠀⠀⠀⠀⠀⠀⠀⠀⠀⠀⠀⠀⠀⠀⠀⠀⠀⠀⠀⠀⠈⠻⢿⣷⣆⡀⎥\n",
       "⎣⡇⠨⠀⠀⣿⢰⠇⠀⠀⠀⠀⡇⠀⠀⠀⠀⠀⠀⠀⠀⠀⠀⠀⠀⠀⠀⠀⠀⠀⠀⠀⠀⠀⠀⠀⠀⠈⠹⣿⣿⎦"
      ]
     },
     "metadata": {},
     "output_type": "display_data"
    }
   ],
   "source": [
    "K2 = FEM.stiffnessMatrix(problem2)"
   ]
  },
  {
   "cell_type": "code",
   "execution_count": 138,
   "metadata": {},
   "outputs": [],
   "source": [
    "left2 = FEM.displacementConstraint(\"left\", ux=0, uy=0)\n",
    "right2 = FEM.displacementConstraint(\"right\", ux=0, uy=0)\n",
    "load = FEM.load(\"left\", fx=0);"
   ]
  },
  {
   "cell_type": "code",
   "execution_count": 139,
   "metadata": {},
   "outputs": [],
   "source": [
    "f = FEM.loadVector(problem2, [load]);"
   ]
  },
  {
   "cell_type": "code",
   "execution_count": 140,
   "metadata": {},
   "outputs": [
    {
     "data": {
      "text/plain": [
       "1820-element Vector{Float64}:\n",
       "  142.8571428571428\n",
       "  142.857142857144\n",
       " -142.857142857143\n",
       "  142.85714285714022\n",
       " -142.85714285714448\n",
       " -142.85714285712515\n",
       "  142.85714285714195\n",
       " -142.85714285714076\n",
       "    3.979039320256561e-13\n",
       "  285.7142857142938\n",
       "    ⋮\n",
       "   -3.100097956121317e-11\n",
       "    2.170708057747106e-12\n",
       "   -2.8677504815277644e-11\n",
       "   -3.701927653310122e-12\n",
       "    1.6839862837514374e-11\n",
       "   -6.252776074688882e-13\n",
       "   -9.691802915767767e-12\n",
       "    1.1581846592889633e-12\n",
       "   -2.76685341304983e-11"
      ]
     },
     "metadata": {},
     "output_type": "display_data"
    }
   ],
   "source": [
    "fT = -FEM.thermalLoadVector(problem2, T)"
   ]
  },
  {
   "cell_type": "code",
   "execution_count": 141,
   "metadata": {},
   "outputs": [
    {
     "data": {
      "text/plain": [
       "1820-element Vector{Float64}:\n",
       "  142.8571428571428\n",
       "  142.857142857144\n",
       " -142.857142857143\n",
       "  142.85714285714022\n",
       " -142.85714285714448\n",
       " -142.85714285712515\n",
       "  142.85714285714195\n",
       " -142.85714285714076\n",
       "    3.979039320256561e-13\n",
       "  285.7142857142938\n",
       "    ⋮\n",
       "   -3.100097956121317e-11\n",
       "    2.170708057747106e-12\n",
       "   -2.8677504815277644e-11\n",
       "   -3.701927653310122e-12\n",
       "    1.6839862837514374e-11\n",
       "   -6.252776074688882e-13\n",
       "   -9.691802915767767e-12\n",
       "    1.1581846592889633e-12\n",
       "   -2.76685341304983e-11"
      ]
     },
     "metadata": {},
     "output_type": "display_data"
    }
   ],
   "source": [
    "f2 = f + fT"
   ]
  },
  {
   "cell_type": "code",
   "execution_count": 142,
   "metadata": {},
   "outputs": [],
   "source": [
    "FEM.applyBoundaryConditions!(problem2, K2, f2, [left2, right2])"
   ]
  },
  {
   "cell_type": "code",
   "execution_count": 143,
   "metadata": {},
   "outputs": [
    {
     "data": {
      "text/plain": [
       "1820-element Vector{Float64}:\n",
       "  0.0\n",
       "  0.0\n",
       "  0.0\n",
       "  0.0\n",
       "  0.0\n",
       "  0.0\n",
       "  0.0\n",
       "  0.0\n",
       "  0.0005815965071199747\n",
       "  0.006994828951817291\n",
       "  ⋮\n",
       " -0.0005247376276633599\n",
       "  0.0006866037741184563\n",
       " -0.002836518776966792\n",
       "  0.0005285117598245151\n",
       " -0.0015548403532740093\n",
       "  0.00022140997408772413\n",
       " -0.0025055312477609776\n",
       "  0.00010733315978083508\n",
       " -0.004343278219714698"
      ]
     },
     "metadata": {},
     "output_type": "display_data"
    }
   ],
   "source": [
    "q2 = FEM.solveDisplacement(K2, f2)"
   ]
  },
  {
   "cell_type": "code",
   "execution_count": 144,
   "metadata": {},
   "outputs": [
    {
     "data": {
      "text/plain": [
       "LowLevelFEM.TensorField([[0.0023245860649377236; 0.0051634331027137215; … ; 0.0; 0.0004110866306347033;;], [-0.0008208640741472597; 0.0007876712519244801; … ; 0.0; 0.0004059009349201236;;], [-0.0008208640741471999; -0.0007876712519245113; … ; 0.0; 0.0004580671892009732;;], [-0.0003797632072136264; -0.0002037602298338162; … ; 0.0; 0.0006424017124961679;;], [4.625639206154126e-5; 0.00023113910590422985; … ; 0.0; 0.0005926889051929881;;], [4.625639206161443e-5; -0.0001751832916296375; … ; 0.0; 0.0006882333656503225;;], [-0.00013570800317475542; -5.30417342701091e-6; … ; 0.0; 0.0006692665023980908;;], [7.188334632822286e-5; -9.606106787291614e-5; … ; 0.0; 0.0006551570792068884;;], [7.188334632828909e-5; 8.364140809390412e-5; … ; 0.0; 0.0006821350888533746;;], [-1.7301035576643725e-5; -6.529647420323214e-7; … ; 0.0; 0.0006676943890819229;;]  …  [1.703560402073569e-5; -1.0193040979890285e-5; … ; 0.0; 0.0006672603293092507;;], [-1.8565606667155957e-5; -4.75603287273725e-6; … ; 0.0; 0.0006695607220588359;;], [3.290481925315838e-5; 4.5663243486008855e-5; … ; 0.0; 0.0006611260173139947;;], [3.290481925321415e-5; -4.2853246848006944e-5; … ; 0.0; 0.0006767381045272024;;], [-0.00012437249000019386; 1.9119094217798075e-5; … ; 0.0; 0.0006575072788787581;;], [7.321508330037899e-5; 7.424314918181935e-5; … ; 0.0; 0.0006221793563102475;;], [7.321508330048504e-5; -6.182348940272243e-5; … ; 0.0; 0.000693212718582833;;], [-4.534886781241432e-5; -0.00022075554673016935; … ; 0.0; 0.0005486719811707698;;], [-3.9719897084999076e-5; -0.00014241378819211147; … ; 0.0; 0.00048415687782494963;;], [-3.971989708497213e-5; 8.645797391735317e-5; … ; 0.0; 0.0005695719043206776;;]], [7, 8, 9, 10, 11, 12, 13, 14, 15, 16  …  87, 88, 89, 90, 91, 92, 93, 94, 95, 96], 1)"
      ]
     },
     "metadata": {},
     "output_type": "display_data"
    }
   ],
   "source": [
    "E = FEM.solveStrain(problem2, q2)"
   ]
  },
  {
   "cell_type": "code",
   "execution_count": 145,
   "metadata": {},
   "outputs": [
    {
     "data": {
      "text/plain": [
       "LowLevelFEM.TensorField([[510.89803625004913; 397.18716174720936; … ; 0.0; 0.0;;], [-180.40968662577131; 60.59009630188308; … ; 0.0; 0.0;;], [-180.40968662575818; -60.59009630188548; … ; 0.0; 0.0;;], [-189.23724389043; -15.673863833370476; … ; 0.0; 0.0;;], [-75.6270563013929; 17.779931223402297; … ; 0.0; 0.0;;], [-81.67707812512609; -13.475637817664422; … ; 0.0; 0.0;;], [-129.28907352704718; -0.4080133405393008; … ; 0.0; 0.0;;], [-89.59231205397695; -7.389312913301241; … ; 0.0; 0.0;;], [-88.85829587015847; 6.433954468761855; … ; 0.0; 0.0;;], [-106.24145878746994; -0.05022805707940934; … ; 0.0; 0.0;;]  …  [-99.84946270713712; -0.7840800753761757; … ; 0.0; 0.0;;], [-106.51938649966792; -0.36584868251825003; … ; 0.0; 0.0;;], [-97.41075094022223; 3.5125571912314504; … ; 0.0; 0.0;;], [-97.60316788517441; -3.2964036036928417; … ; 0.0; 0.0;;], [-126.79775195021908; 1.4706995552152364; … ; 0.0; 0.0;;], [-89.29962260954424; 5.711011475524566; … ; 0.0; 0.0;;], [-88.56560642571799; -4.755653030978649; … ; 0.0; 0.0;;], [-115.73958687916571; -16.98119590232072; … ; 0.0; 0.0;;], [-94.5229440259055; -10.954906784008575; … ; 0.0; 0.0;;], [-100.57296584965779; 6.650613378257936; … ; 0.0; 0.0;;]], [7, 8, 9, 10, 11, 12, 13, 14, 15, 16  …  87, 88, 89, 90, 91, 92, 93, 94, 95, 96], 1)"
      ]
     },
     "metadata": {},
     "output_type": "display_data"
    }
   ],
   "source": [
    "S = FEM.solveStress(problem2, q2)"
   ]
  },
  {
   "cell_type": "code",
   "execution_count": 146,
   "metadata": {},
   "outputs": [
    {
     "data": {
      "text/plain": [
       "4"
      ]
     },
     "metadata": {},
     "output_type": "display_data"
    }
   ],
   "source": [
    "u = FEM.showDoFResults(problem2, q2, \"uvec\", visible=false)\n",
    "ux = FEM.showDoFResults(problem2, q2, \"ux\", visible=false)\n",
    "uy = FEM.showDoFResults(problem2, q2, \"uy\", visible=false)"
   ]
  },
  {
   "cell_type": "code",
   "execution_count": 147,
   "metadata": {},
   "outputs": [
    {
     "name": "stdout",
     "output_type": "stream",
     "text": [
      "Info    : Running Plugin(Smooth)...\n",
      "Info    : Done running Plugin(Smooth)\n",
      "Info    : Running Plugin(Smooth)...\n",
      "Info    : Done running Plugin(Smooth)\n",
      "Info    : Running Plugin(Smooth)...\n",
      "Info    : Done running Plugin(Smooth)\n"
     ]
    },
    {
     "data": {
      "text/plain": [
       "7"
      ]
     },
     "metadata": {},
     "output_type": "display_data"
    }
   ],
   "source": [
    "ex = FEM.showStrainResults(problem2, E, \"ex\", visible=false)\n",
    "ey = FEM.showStrainResults(problem2, E, \"ey\", visible=false)\n",
    "exy = FEM.showStrainResults(problem2, E, \"exy\", visible=false)"
   ]
  },
  {
   "cell_type": "code",
   "execution_count": 148,
   "metadata": {},
   "outputs": [
    {
     "name": "stdout",
     "output_type": "stream",
     "text": [
      "Info    : Running Plugin(Smooth)...\n",
      "Info    : Done running Plugin(Smooth)\n",
      "Info    : Running Plugin(Smooth)...\n",
      "Info    : Done running Plugin(Smooth)\n",
      "Info    : Running Plugin(Smooth)...\n",
      "Info    : Done running Plugin(Smooth)\n"
     ]
    },
    {
     "data": {
      "text/plain": [
       "10"
      ]
     },
     "metadata": {},
     "output_type": "display_data"
    }
   ],
   "source": [
    "sx = FEM.showStressResults(problem2, S, \"sx\", visible=false)\n",
    "sy = FEM.showStressResults(problem2, S, \"sy\", visible=false)\n",
    "sxy = FEM.showStressResults(problem2, S, \"sxy\", visible=false)"
   ]
  },
  {
   "cell_type": "code",
   "execution_count": 149,
   "metadata": {},
   "outputs": [
    {
     "data": {
      "text/plain": [
       "11"
      ]
     },
     "metadata": {},
     "output_type": "display_data"
    }
   ],
   "source": [
    "FF = FEM.showDoFResults(problem2, fT, \"uvec\", visible=false)"
   ]
  },
  {
   "cell_type": "code",
   "execution_count": 150,
   "metadata": {},
   "outputs": [
    {
     "name": "stdout",
     "output_type": "stream",
     "text": [
      "-------------------------------------------------------\n",
      "Version       : 4.13.1\n",
      "License       : GNU General Public License\n",
      "Build OS      : Linux64-sdk\n",
      "Build date    : 19700101\n",
      "Build host    : amdci7.julia.csail.mit.edu\n",
      "Build options : 64Bit ALGLIB[contrib] ANN[contrib] Bamg Blossom Cairo DIntegration Dlopen DomHex Eigen[contrib] Fltk GMP Gmm[contrib] Hxt Jpeg Kbipack LinuxJoystick MathEx[contrib] Mesh Metis[contrib] Mmg Mpeg Netgen Nii2mesh ONELAB ONELABMetamodel OpenCASCADE OpenCASCADE-CAF OpenGL OpenMP OptHom Parser Plugins Png Post QuadMeshingTools QuadTri Solver TetGen/BR TinyXML2[contrib] Untangle Voro++[contrib] WinslowUntangler Zlib\n",
      "FLTK version  : 1.3.8\n",
      "OCC version   : 7.7.2\n",
      "Packaged by   : root\n",
      "Web site      : https://gmsh.info\n",
      "Issue tracker : https://gitlab.onelab.info/gmsh/gmsh/issues\n",
      "-------------------------------------------------------\n"
     ]
    },
    {
     "name": "stderr",
     "output_type": "stream",
     "text": [
      "XRequest.18: BadValue 0x0\n"
     ]
    }
   ],
   "source": [
    "gmsh.fltk.run()"
   ]
  },
  {
   "cell_type": "code",
   "execution_count": 151,
   "metadata": {},
   "outputs": [],
   "source": [
    "gmsh.finalize()"
   ]
  }
 ],
 "metadata": {
  "kernelspec": {
   "display_name": "Julia 1.11.1",
   "language": "julia",
   "name": "julia-1.11"
  },
  "language_info": {
   "file_extension": ".jl",
   "mimetype": "application/julia",
   "name": "julia",
   "version": "1.11.1"
  }
 },
 "nbformat": 4,
 "nbformat_minor": 2
}
