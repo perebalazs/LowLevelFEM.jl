{
 "cells": [
  {
   "cell_type": "code",
   "execution_count": 1,
   "metadata": {},
   "outputs": [],
   "source": [
    "using LowLevelFEM\n",
    "import LowLevelFEM as FEM\n",
    "\n",
    "gmsh.initialize()"
   ]
  },
  {
   "cell_type": "code",
   "execution_count": 2,
   "metadata": {},
   "outputs": [
    {
     "name": "stdout",
     "output_type": "stream",
     "text": [
      "Info    : Reading 'thermalStress3.geo'...\n",
      "Info    : Meshing 1D...\n",
      "Info    : [  0%] Meshing curve 1 (Line)\n",
      "Info    : [ 10%] Meshing curve 2 (Line)\n",
      "Info    : [ 20%] Meshing curve 3 (Line)\n",
      "Info    : [ 30%] Meshing curve 4 (Line)\n",
      "Info    : [ 40%] Meshing curve 5 (Line)\n",
      "Info    : [ 50%] Meshing curve 6 (Line)\n",
      "Info    : [ 60%] Meshing curve 7 (Line)\n",
      "Info    : [ 60%] Meshing curve 8 (Line)\n",
      "Info    : [ 70%] Meshing curve 9 (Line)\n",
      "Info    : [ 80%] Meshing curve 10 (Line)\n",
      "Info    : [ 90%] Meshing curve 11 (Line)\n",
      "Info    : [100%] Meshing curve 12 (Line)\n",
      "Info    : Done meshing 1D (Wall 0.0015872s, CPU 0.001573s)\n",
      "Info    : Meshing 2D...\n",
      "Info    : [  0%] Meshing surface 1 (Plane, Frontal-Delaunay)\n",
      "Info    : [ 20%] Meshing surface 2 (Plane, Frontal-Delaunay)\n",
      "Info    : [ 40%] Meshing surface 3 (Plane, Frontal-Delaunay)\n",
      "Info    : [ 60%] Meshing surface 4 (Plane, Frontal-Delaunay)\n",
      "Info    : [ 70%] Meshing surface 5 (Plane, Frontal-Delaunay)\n",
      "Info    : [ 90%] Meshing surface 6 (Plane, Frontal-Delaunay)\n",
      "Info    : Done meshing 2D (Wall 0.0299714s, CPU 0.028774s)\n",
      "Info    : Meshing 3D...\n",
      "Info    : 3D Meshing 1 volume with 1 connected component\n",
      "Info    : Tetrahedrizing 644 nodes...\n",
      "Info    : Done tetrahedrizing 652 nodes (Wall 0.00883248s, CPU 0.008121s)\n",
      "Info    : Reconstructing mesh...\n",
      "Info    :  - Creating surface mesh\n",
      "Info    :  - Identifying boundary edges\n",
      "Info    :  - Recovering boundary\n",
      "Info    : Done reconstructing mesh (Wall 0.0159551s, CPU 0.013767s)\n",
      "Info    : Found volume 1\n",
      "Info    : It. 0 - 0 nodes created - worst tet radius 1.32527 (nodes removed 0 0)\n",
      "Info    : 3D refinement terminated (674 nodes total):\n",
      "Info    :  - 0 Delaunay cavities modified for star shapeness\n",
      "Info    :  - 0 nodes could not be inserted\n",
      "Info    :  - 1824 tetrahedra created in 0.00252278 sec. (723012 tets/s)\n",
      "Info    : 0 node relocations\n",
      "Info    : Done meshing 3D (Wall 0.0312917s, CPU 0.029088s)\n",
      "Info    : Optimizing mesh...\n",
      "Info    : Optimizing volume 1\n",
      "Info    : Optimization starts (volume = 2500) with worst = 0.0324292 / average = 0.731536:\n",
      "Info    : 0.00 < quality < 0.10 :        12 elements\n",
      "Info    : 0.10 < quality < 0.20 :        44 elements\n",
      "Info    : 0.20 < quality < 0.30 :        36 elements\n",
      "Info    : 0.30 < quality < 0.40 :         0 elements\n",
      "Info    : 0.40 < quality < 0.50 :        34 elements\n",
      "Info    : 0.50 < quality < 0.60 :        60 elements\n",
      "Info    : 0.60 < quality < 0.70 :       662 elements\n",
      "Info    : 0.70 < quality < 0.80 :       212 elements\n",
      "Info    : 0.80 < quality < 0.90 :       451 elements\n",
      "Info    : 0.90 < quality < 1.00 :       313 elements\n",
      "Info    : 92 edge swaps, 0 node relocations (volume = 2500): worst = 0.485795 / average = 0.766467 (Wall 0.000980133s, CPU 0.00098s)\n",
      "Info    : No ill-shaped tets in the mesh :-)\n",
      "Info    : 0.00 < quality < 0.10 :         0 elements\n",
      "Info    : 0.10 < quality < 0.20 :         0 elements\n",
      "Info    : 0.20 < quality < 0.30 :         0 elements\n",
      "Info    : 0.30 < quality < 0.40 :         0 elements\n",
      "Info    : 0.40 < quality < 0.50 :        16 elements\n",
      "Info    : 0.50 < quality < 0.60 :        67 elements\n",
      "Info    : 0.60 < quality < 0.70 :       642 elements\n",
      "Info    : 0.70 < quality < 0.80 :       237 elements\n",
      "Info    : 0.80 < quality < 0.90 :       457 elements\n",
      "Info    : 0.90 < quality < 1.00 :       313 elements\n",
      "Info    : Done optimizing mesh (Wall 0.00262139s, CPU 0.002622s)\n",
      "Info    : 674 nodes 3248 elements\n",
      "Info    : Done reading 'thermalStress3.geo'\n"
     ]
    }
   ],
   "source": [
    "gmsh.open(\"thermalStress3.geo\")"
   ]
  },
  {
   "cell_type": "code",
   "execution_count": 3,
   "metadata": {},
   "outputs": [],
   "source": [
    "#gmsh.fltk.run()"
   ]
  },
  {
   "cell_type": "code",
   "execution_count": 4,
   "metadata": {},
   "outputs": [
    {
     "name": "stdout",
     "output_type": "stream",
     "text": [
      "Info    : RCMK renumbering...\n",
      "Info    : Done RCMK renumbering (bandwidth is now 66)\n"
     ]
    },
    {
     "data": {
      "text/plain": [
       "LowLevelFEM.Problem(\"thermalStress3\", :Solid, 3, 3, LowLevelFEM.Material[LowLevelFEM.Material(\"body\", 200000.0, 0.3, 7.85e-9, 45.0, 4.2e8, 1.2e-5)], 1.0, 674)"
      ]
     },
     "metadata": {},
     "output_type": "display_data"
    }
   ],
   "source": [
    "mat = FEM.material(\"body\")\n",
    "problem = FEM.Problem([mat], type=:Solid, bandwidth=:none)"
   ]
  },
  {
   "cell_type": "code",
   "execution_count": 5,
   "metadata": {},
   "outputs": [
    {
     "data": {
      "text/plain": [
       "(\"front\", 0 + 1im, 0 + 1im, 0)"
      ]
     },
     "metadata": {},
     "output_type": "display_data"
    }
   ],
   "source": [
    "suppx = FEM.displacementConstraint(\"left\", ux=0)\n",
    "suppy = FEM.displacementConstraint(\"bottom\", uy=0)\n",
    "suppz = FEM.displacementConstraint(\"front\", uz=0)"
   ]
  },
  {
   "cell_type": "code",
   "execution_count": 6,
   "metadata": {},
   "outputs": [],
   "source": [
    "dof = problem.non\n",
    "T = zeros(dof) .+ 100;"
   ]
  },
  {
   "cell_type": "code",
   "execution_count": 7,
   "metadata": {},
   "outputs": [],
   "source": [
    "fT = FEM.thermalLoadVector(problem, T);"
   ]
  },
  {
   "cell_type": "code",
   "execution_count": 8,
   "metadata": {},
   "outputs": [
    {
     "data": {
      "text/plain": [
       "2022×2022 SparseArrays.SparseMatrixCSC{Float64, Int64} with 60804 stored entries:\n",
       "⎡⣿⣿⡀⠀⠚⠀⠀⠃⠀⠀⠃⠀⠀⢿⡆⠀⢀⡀⠀⢸⡇⠀⠀⠀⠀⢸⡆⠀⢀⡀⠀⢸⡆⠀⠀⠀⠀⠸⠀⠀⎤\n",
       "⎢⠀⠈⠻⣦⡀⠀⠀⠀⠀⠀⠀⠀⠀⠀⠹⡄⠀⢻⡀⠀⠀⠀⠀⠀⠀⠀⠹⡄⠀⢳⡀⠀⠀⠀⠀⠀⠀⠀⠀⠈⎥\n",
       "⎢⠚⠀⠀⠈⠻⣦⡀⠀⠀⠀⠀⠀⠀⠀⠀⢹⡄⠃⢳⡘⠀⠀⠀⠀⠀⠀⠀⠁⠀⠃⠁⠘⢧⠀⠐⣦⠀⠐⠀⠈⎥\n",
       "⎢⠤⠀⠀⠀⠀⠈⠻⣦⡀⠀⠀⠀⠀⠀⠀⠀⠳⠀⠀⠳⡄⠀⢠⡀⠀⠠⠀⢀⢠⡄⣄⠠⠈⠇⠀⠜⠆⠠⠀⠀⎥\n",
       "⎢⠀⠀⠀⠀⠀⠀⠀⠈⠻⣦⡀⠀⠀⠀⠀⠀⠀⠀⠀⠀⠹⡄⠀⠹⡄⠀⠀⠘⢇⠀⠘⣆⠀⠀⠀⠀⠀⠀⠀⠀⎥\n",
       "⎢⠉⠀⠀⠀⠀⠀⠀⠀⠀⠈⠻⣦⡀⠀⠀⠀⠀⠀⠀⠀⠀⠹⡄⠁⠹⡌⠀⠀⠈⠀⠀⠈⠀⠹⡌⠁⠻⡈⠀⠀⎥\n",
       "⎢⣤⣄⠀⠀⠀⠀⠀⠀⠀⠀⠀⠈⠻⣦⡄⠀⠀⠀⠀⢠⡄⠀⠹⠀⠀⢹⡄⠀⠀⠀⠀⢠⡄⠀⠹⠀⠀⢻⡄⠈⎥\n",
       "⎢⠈⠉⠓⠦⣄⣀⠀⠀⠀⠀⠀⠀⠀⠉⣻⣾⣮⣳⣝⢮⠁⠀⠀⠀⠀⠈⠳⡄⠈⠳⡄⠈⣀⠀⠀⣀⠀⠈⣿⣿⎥\n",
       "⎢⠀⠰⣤⣀⠤⠉⠙⠂⠀⠀⠀⠀⠀⠀⢮⣻⡻⣮⠿⠻⠂⠀⠀⠀⠀⠀⢤⠀⠐⣄⠄⠠⠌⠃⠠⠋⠃⠠⣿⣿⎥\n",
       "⎢⣀⣀⠀⠈⣙⠲⢤⡀⠀⠀⠀⠀⠀⣀⡳⣝⣿⡃⠛⣤⠀⠀⠀⠀⠀⠀⠀⠁⢀⠈⠁⢀⡳⡄⠘⠲⡄⢀⣿⣿⎥\n",
       "⎢⠉⠉⠀⠀⠀⠀⠀⠉⠓⠦⣄⡀⠀⠉⠁⠀⠈⠀⠀⠀⣛⣼⢮⣳⣝⢮⠁⠘⢦⠀⠙⢦⠀⣀⠀⠁⣀⠈⣿⣿⎥\n",
       "⎢⠀⠀⠀⠀⠀⠀⠀⠲⣄⡀⠄⠉⠓⠂⠀⠀⠀⠀⠀⠀⢮⣳⡻⣮⡿⠻⠂⢠⡰⠂⢢⡠⠀⠈⠳⠄⠌⠓⣿⣿⎥\n",
       "⎢⣀⣀⠀⠀⠀⠀⠀⡀⠀⠉⡓⠦⣄⣀⡀⠀⠀⠀⠀⠀⡳⣝⣿⡋⠻⣦⡀⠀⢉⡀⠀⢉⠀⠛⣤⡀⠳⣄⣿⣿⎥\n",
       "⎢⠈⠉⠓⠦⠄⠀⠀⢀⣀⠀⠀⠀⠀⠉⠙⠦⠀⠓⠄⠀⣁⠀⠈⣀⠀⠈⣱⢞⡮⣳⣝⡮⠁⠀⠈⠀⠀⠈⣿⣿⎥\n",
       "⎢⠀⠰⢤⣀⠤⠀⠀⠶⠉⠑⠂⠀⠀⠀⢦⡀⠐⢤⡀⠐⠈⠓⠰⠊⠃⠰⢮⣫⡱⢎⡏⠳⠄⠀⠀⠀⠀⠀⣿⣿⎥\n",
       "⎢⣀⣀⠀⠈⣁⠀⠀⡙⠲⢤⡀⠀⠀⣀⡀⠉⠀⡁⠁⢀⠳⣄⠈⡲⡄⢀⡳⡽⢯⡉⠱⢆⡀⠀⠀⠀⠀⠀⣿⣿⎥\n",
       "⎢⠈⠉⠀⠀⠉⠓⠦⠄⠀⠀⣄⡀⠀⠉⠀⠘⠦⠁⠙⠮⠀⢠⡀⠀⣤⠀⠁⠀⠀⠁⠀⠈⣿⣿⡮⣷⣽⠮⣿⣿⎥\n",
       "⎢⠀⠀⠀⠀⠰⣤⣀⠄⠀⠀⠆⠉⠓⠂⠀⢠⡤⠂⢲⡀⠄⠀⠙⠆⠀⠻⠂⠀⠀⠀⠀⠀⢮⣯⡻⣮⠏⠻⣿⣿⎥\n",
       "⎢⣀⡀⠀⠀⢀⠀⠈⡁⠀⠀⡛⠢⣤⣀⡀⠀⠉⡀⠀⢉⡀⠘⢦⠁⠙⢦⡀⠀⠀⠀⠀⠀⡳⡟⣯⡁⠛⣤⣿⣿⎥\n",
       "⎣⠀⠀⡀⠀⡀⠀⠀⠀⠀⠀⠀⠀⡀⠉⣿⣿⣿⣿⣿⣿⣿⣿⣿⣿⣿⣿⣿⣿⣿⣿⣿⣿⣿⣿⣿⣿⣿⣿⣿⣿⎦"
      ]
     },
     "metadata": {},
     "output_type": "display_data"
    }
   ],
   "source": [
    "K = FEM.stiffnessMatrix(problem)"
   ]
  },
  {
   "cell_type": "code",
   "execution_count": 9,
   "metadata": {},
   "outputs": [],
   "source": [
    "FEM.applyBoundaryConditions!(problem, K, fT, [suppx, suppy, suppz])"
   ]
  },
  {
   "cell_type": "code",
   "execution_count": 10,
   "metadata": {},
   "outputs": [],
   "source": [
    "q = FEM.solveDisplacement(K, fT);"
   ]
  },
  {
   "cell_type": "code",
   "execution_count": 11,
   "metadata": {},
   "outputs": [],
   "source": [
    "E = FEM.solveStrain(problem, q);"
   ]
  },
  {
   "cell_type": "code",
   "execution_count": 12,
   "metadata": {},
   "outputs": [],
   "source": [
    "S = FEM.solveStress(problem, q, T=T);"
   ]
  },
  {
   "cell_type": "code",
   "execution_count": 13,
   "metadata": {},
   "outputs": [
    {
     "data": {
      "text/plain": [
       "4"
      ]
     },
     "metadata": {},
     "output_type": "display_data"
    }
   ],
   "source": [
    "u = FEM.showDoFResults(problem, q, :uvec, visible=false)\n",
    "ux = FEM.showDoFResults(problem, q, :ux, visible=false)\n",
    "uy = FEM.showDoFResults(problem, q, :uy, visible=false)\n",
    "uz = FEM.showDoFResults(problem, q, :uz, visible=false)"
   ]
  },
  {
   "cell_type": "code",
   "execution_count": 14,
   "metadata": {},
   "outputs": [
    {
     "name": "stdout",
     "output_type": "stream",
     "text": [
      "Info    : Running Plugin(Smooth)...\n",
      "Info    : Done running Plugin(Smooth)\n",
      "Info    : Running Plugin(Smooth)...\n",
      "Info    : Done running Plugin(Smooth)\n",
      "Info    : Running Plugin(Smooth)...\n",
      "Info    : Done running Plugin(Smooth)\n"
     ]
    },
    {
     "data": {
      "text/plain": [
       "7"
      ]
     },
     "metadata": {},
     "output_type": "display_data"
    }
   ],
   "source": [
    "ex = FEM.showStrainResults(problem, E, :ex, visible=false)\n",
    "ey = FEM.showStrainResults(problem, E, :ey, visible=false)\n",
    "ez = FEM.showStrainResults(problem, E, :ez, visible=false)"
   ]
  },
  {
   "cell_type": "code",
   "execution_count": 15,
   "metadata": {},
   "outputs": [
    {
     "name": "stdout",
     "output_type": "stream",
     "text": [
      "Info    : Running Plugin(Smooth)...\n",
      "Info    : Done running Plugin(Smooth)\n",
      "Info    : Running Plugin(Smooth)...\n",
      "Info    : Done running Plugin(Smooth)\n",
      "Info    : Running Plugin(Smooth)...\n",
      "Info    : Done running Plugin(Smooth)\n"
     ]
    },
    {
     "data": {
      "text/plain": [
       "10"
      ]
     },
     "metadata": {},
     "output_type": "display_data"
    }
   ],
   "source": [
    "sx = FEM.showStressResults(problem, S, :sx, visible=false)\n",
    "sy = FEM.showStressResults(problem, S, :sy, visible=false)\n",
    "sz = FEM.showStressResults(problem, S, :sz, visible=false)"
   ]
  },
  {
   "cell_type": "code",
   "execution_count": 16,
   "metadata": {},
   "outputs": [
    {
     "data": {
      "text/plain": [
       "11"
      ]
     },
     "metadata": {},
     "output_type": "display_data"
    }
   ],
   "source": [
    "FF = FEM.showDoFResults(problem, fT, :uvec, name=\"fT\", visible=false)"
   ]
  },
  {
   "cell_type": "code",
   "execution_count": 17,
   "metadata": {},
   "outputs": [
    {
     "data": {
      "text/plain": [
       "-2.3305801732931286e-12"
      ]
     },
     "metadata": {},
     "output_type": "display_data"
    }
   ],
   "source": [
    "ux0 = gmsh.view.probe(ux, 100, 0, 0)[1][1]\n",
    "ex0 = gmsh.view.probe(ex, 100, 0, 0)[1][1]\n",
    "ey0 = gmsh.view.probe(ey, 100, 0, 0)[1][1]\n",
    "sx0 = gmsh.view.probe(sx, 100, 0, 0)[1][1]\n",
    "sy0 = gmsh.view.probe(sy, 100, 0, 0)[1][1]"
   ]
  },
  {
   "cell_type": "code",
   "execution_count": 18,
   "metadata": {},
   "outputs": [
    {
     "data": {
      "text/plain": [
       "200000.0"
      ]
     },
     "metadata": {},
     "output_type": "display_data"
    }
   ],
   "source": [
    "α = problem.material[1].α\n",
    "Ex = problem.material[1].E"
   ]
  },
  {
   "cell_type": "code",
   "execution_count": 19,
   "metadata": {},
   "outputs": [
    {
     "data": {
      "text/plain": [
       "\"Δl₁ = 0.12000000000000001    Δl₂ = 0.11999999999999661\""
      ]
     },
     "metadata": {},
     "output_type": "display_data"
    }
   ],
   "source": [
    "Δl₁ = 100 * 100 * α\n",
    "display(\"Δl₁ = $Δl₁    Δl₂ = $ux0\")"
   ]
  },
  {
   "cell_type": "code",
   "execution_count": 20,
   "metadata": {},
   "outputs": [
    {
     "data": {
      "text/plain": [
       "\"εₓ₁ = 0.0012000000000000001       εₓ₂ = 0.0011999999999999867\""
      ]
     },
     "metadata": {},
     "output_type": "display_data"
    }
   ],
   "source": [
    "display(\"εₓ₁ = $(α * 100)       εₓ₂ = $ex0\")"
   ]
  },
  {
   "cell_type": "code",
   "execution_count": 21,
   "metadata": {},
   "outputs": [
    {
     "data": {
      "text/plain": [
       "\"σₓ₁ = 0       σₓ₂ = -3.637978807091713e-12\""
      ]
     },
     "metadata": {},
     "output_type": "display_data"
    }
   ],
   "source": [
    "display(\"σₓ₁ = $(0)       σₓ₂ = $sx0\")"
   ]
  },
  {
   "cell_type": "code",
   "execution_count": 22,
   "metadata": {},
   "outputs": [
    {
     "name": "stdout",
     "output_type": "stream",
     "text": [
      "-------------------------------------------------------\n",
      "Version       : 4.13.1\n",
      "License       : GNU General Public License\n",
      "Build OS      : Linux64-sdk\n",
      "Build date    : 19700101\n",
      "Build host    : amdci7.julia.csail.mit.edu\n",
      "Build options : 64Bit ALGLIB[contrib] ANN[contrib] Bamg Blossom Cairo DIntegration Dlopen DomHex Eigen[contrib] Fltk GMP Gmm[contrib] Hxt Jpeg Kbipack LinuxJoystick MathEx[contrib] Mesh Metis[contrib] Mmg Mpeg Netgen Nii2mesh ONELAB ONELABMetamodel OpenCASCADE OpenCASCADE-CAF OpenGL OpenMP OptHom Parser Plugins Png Post QuadMeshingTools QuadTri Solver TetGen/BR TinyXML2[contrib] Untangle Voro++[contrib] WinslowUntangler Zlib\n",
      "FLTK version  : 1.3.8\n",
      "OCC version   : 7.7.2\n",
      "Packaged by   : root\n",
      "Web site      : https://gmsh.info\n",
      "Issue tracker : https://gitlab.onelab.info/gmsh/gmsh/issues\n",
      "-------------------------------------------------------\n"
     ]
    },
    {
     "name": "stderr",
     "output_type": "stream",
     "text": [
      "XOpenIM() failed\n",
      "XRequest.18: BadValue 0x0\n"
     ]
    }
   ],
   "source": [
    "gmsh.fltk.run()"
   ]
  },
  {
   "cell_type": "code",
   "execution_count": 23,
   "metadata": {},
   "outputs": [],
   "source": [
    "gmsh.finalize()"
   ]
  }
 ],
 "metadata": {
  "kernelspec": {
   "display_name": "Julia 1.11.3",
   "language": "julia",
   "name": "julia-1.11"
  },
  "language_info": {
   "file_extension": ".jl",
   "mimetype": "application/julia",
   "name": "julia",
   "version": "1.11.3"
  }
 },
 "nbformat": 4,
 "nbformat_minor": 2
}
