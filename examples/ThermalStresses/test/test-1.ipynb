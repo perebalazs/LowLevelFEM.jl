{
 "cells": [
  {
   "cell_type": "code",
   "execution_count": 34,
   "metadata": {},
   "outputs": [],
   "source": [
    "import LowLevelFEM as FEM\n",
    "using LowLevelFEM\n",
    "\n",
    "gmsh.initialize()"
   ]
  },
  {
   "cell_type": "code",
   "execution_count": 35,
   "metadata": {},
   "outputs": [
    {
     "name": "stdout",
     "output_type": "stream",
     "text": [
      "Info    : Reading 'test-1.geo'...\n",
      "Info    : Meshing 1D...\n",
      "Info    : [  0%] Meshing curve 1 (Line)\n",
      "Info    : [ 30%] Meshing curve 2 (Line)\n",
      "Info    : [ 60%] Meshing curve 3 (Line)\n",
      "Info    : [ 80%] Meshing curve 4 (Line)\n",
      "Info    : Done meshing 1D (Wall 0.000533148s, CPU 0.000527s)\n",
      "Info    : Meshing 2D...\n",
      "Info    : Meshing surface 1 (Plane, Frontal-Delaunay)\n",
      "Info    : Done meshing 2D (Wall 0.0195596s, CPU 0.011722s)\n",
      "Info    : 98 nodes 198 elements\n",
      "Info    : Done reading 'test-1.geo'\n"
     ]
    }
   ],
   "source": [
    "gmsh.open(\"test-1.geo\")"
   ]
  },
  {
   "cell_type": "code",
   "execution_count": 36,
   "metadata": {},
   "outputs": [],
   "source": [
    "#gmsh.fltk.run()"
   ]
  },
  {
   "cell_type": "code",
   "execution_count": 37,
   "metadata": {},
   "outputs": [
    {
     "name": "stdout",
     "output_type": "stream",
     "text": [
      "Info    : RCMK renumbering...\n",
      "Info    : Done RCMK renumbering (bandwidth is now 15)\n"
     ]
    },
    {
     "data": {
      "text/plain": [
       "LowLevelFEM.Problem(\"test-1\", \"AxiSymmetricHeatConduction\", 2, 1, LowLevelFEM.Material[LowLevelFEM.Material(\"body\", 300000.0, 0.2, 7.85e-9, 1.0, 4.2e8, 8.0e-6)], 1.0, 98)"
      ]
     },
     "metadata": {},
     "output_type": "display_data"
    }
   ],
   "source": [
    "mat = FEM.material(\"body\", E=3e5, ν=0.2, k=1, α=8e-6)\n",
    "#problem = FEM.Problem([mat], type=\"PlaneHeatConduction\", bandwidth=\"none\")\n",
    "problem = FEM.Problem([mat], type=\"AxiSymmetricHeatConduction\", bandwidth=\"none\")"
   ]
  },
  {
   "cell_type": "code",
   "execution_count": 38,
   "metadata": {},
   "outputs": [
    {
     "data": {
      "text/plain": [
       "98×98 SparseArrays.SparseMatrixCSC{Float64, Int64} with 616 stored entries:\n",
       "⎡⡑⢌⡀⠀⠒⠀⠀⠤⠀⠀⠄⠀⠈⠀⠀⠀⢀⠀⠀⠀⠀⠀⠀⠀⠀⠀⠀⠀⠀⠀⠀⠀⠀⠀⠀⠀⡥⠂⠀⠀⎤\n",
       "⎢⠀⠈⠻⣦⡀⠀⠀⠀⠀⠀⠀⠀⠀⠆⢀⠀⠈⠀⠀⠀⠀⠀⠀⠀⠀⠀⠀⠀⠀⠀⢣⢀⠀⠀⠀⠀⠀⠀⠀⠀⎥\n",
       "⎢⠘⠀⠀⠈⠱⣦⡀⠀⠀⠀⠀⠀⠀⢀⠀⠀⡄⠀⠀⠀⠀⠀⠀⠀⠀⠀⠀⠀⠀⠀⠀⠈⠀⠀⠆⡀⠀⠃⠀⠀⎥\n",
       "⎢⠀⡄⠀⠀⠀⠈⠻⢆⡀⠀⠀⠀⠀⠈⠀⡀⠀⠆⠀⠀⠀⠀⠀⠀⠀⠀⠀⠀⠀⠀⠀⠀⢀⠀⠀⠘⢠⠀⠀⠀⎥\n",
       "⎢⠀⠀⠀⠀⠀⠀⠀⠈⠻⣦⡀⠀⠀⠀⠆⠁⢀⠘⠀⠀⠀⠀⠀⠀⠀⠀⠀⢠⠀⠀⠀⠀⠀⠀⠀⠀⠀⠀⠀⠀⎥\n",
       "⎢⠀⠁⠀⠀⠀⠀⠀⠀⠀⠈⠻⣦⡀⠀⢠⠀⠈⠀⠀⠀⠀⠀⠀⠀⠀⠀⠀⠰⠀⢀⠀⠀⠃⠀⠀⠀⠁⠀⠀⠀⎥\n",
       "⎢⠂⠀⠠⠄⠀⢀⡀⠀⠀⠀⠀⠈⠛⢄⠀⠈⠀⠀⠀⠀⠀⠀⠀⢀⢀⡀⠀⠀⠀⠈⠤⠀⠃⠀⠀⣀⠂⠠⠠⠀⎥\n",
       "⎢⠀⠀⠀⠐⠀⠀⠀⠠⠌⠁⠀⠒⡀⠀⠑⢄⠀⠨⠉⠀⠀⠀⠀⠀⠂⠠⠀⡘⠒⢰⠐⠐⡠⠐⢀⠀⠀⠀⠐⠀⎥\n",
       "⎢⠀⠐⠂⠀⠀⠉⠠⠄⣀⠐⠂⠀⠀⠀⡀⡀⠑⢄⡀⠀⠀⠀⠀⠉⠁⠤⠀⠐⠀⢂⠂⠀⠢⠀⠑⠡⠢⠀⠀⠒⎥\n",
       "⎢⠀⠀⠀⠀⠀⠀⠀⠀⠀⠀⠀⠀⠀⠀⠃⠀⠀⠈⢿⣷⣂⡀⠀⠀⠀⠄⠀⠐⠀⠨⠀⡄⠀⠂⠀⠀⠀⠀⠀⠐⎥\n",
       "⎢⠀⠀⠀⠀⠀⠀⠀⠀⠀⠀⠀⠀⠀⠀⠀⠀⠀⠀⠈⠸⠻⣦⢦⡄⠀⠀⠄⠀⠀⠀⠀⠄⠀⢁⠃⠀⠀⠀⠁⠀⎥\n",
       "⎢⠀⠀⠀⠀⠀⠀⠀⠀⠀⠀⠀⠀⠀⢀⠀⠀⡄⠀⠀⠀⠈⠷⢱⣶⢔⠀⠍⠁⠀⠀⠀⠂⠀⠠⠁⡀⠀⠀⠠⠀⎥\n",
       "⎢⠀⠀⠀⠀⠀⠀⠀⠀⠀⠀⠀⠀⠀⠰⠈⡀⠁⡄⠀⠄⠀⠀⠐⠑⠱⣦⠀⠀⠀⢠⠀⠎⢀⠈⠁⠠⠀⠀⠀⠀⎥\n",
       "⎢⠀⠀⠀⠀⠀⠀⠀⠀⠀⣀⢀⡀⠀⠀⣀⠠⢀⠀⢀⠀⠀⠁⠇⠁⠀⠀⠻⢆⡠⡠⠀⠀⡀⠀⠴⠀⠀⠘⠈⢂⎥\n",
       "⎢⠀⠀⠀⠀⠀⠀⠀⠀⠀⠀⠀⢀⡀⠀⢘⣀⠠⢀⡀⡀⠀⠀⠀⠀⠀⣀⠀⡪⢟⢕⠀⠀⠄⠅⠂⠀⠀⠀⠃⠠⎥\n",
       "⎢⠀⠀⠉⢒⡀⠀⠀⠀⠀⠀⠀⠀⠀⠃⢐⠀⠈⠀⠀⠤⠀⠄⠠⠀⡠⠄⠀⠀⠀⠀⠑⢄⠀⠀⡀⠀⠀⡈⠐⠁⎥\n",
       "⎢⠀⠀⠀⠀⠀⠀⠀⠐⠀⠀⠉⠀⠉⠀⢀⠊⠈⠂⠠⠀⠄⢀⠀⡀⡀⠐⠀⠈⠄⠅⠀⠀⠑⢄⠈⠀⠑⠀⢄⠠⎥\n",
       "⎢⠀⠀⠀⠀⠈⠡⣀⠀⠀⠀⠀⠀⠀⢠⠀⠐⠕⡀⠀⠀⠉⠀⠁⠠⠁⡀⠐⠃⠈⠀⠀⠈⠂⠀⠑⢄⠀⠁⠁⠂⎥\n",
       "⎢⠡⠋⠀⠀⠤⠀⠀⠒⠀⠀⠁⠀⠈⡀⠀⠀⠈⠂⠀⠀⠀⠀⠀⠀⠀⠀⣀⠀⠀⠀⡀⠠⠑⠀⠄⠀⠑⢄⢀⡀⎥\n",
       "⎣⠀⠀⠀⠀⠀⠀⠀⠀⠀⠀⠀⠀⠀⠂⠐⠀⢠⠀⢀⠀⠁⠀⠀⠂⠀⠀⠢⢀⠉⡀⠔⠀⠀⡑⠡⠀⠀⠰⠑⢄⎦"
      ]
     },
     "metadata": {},
     "output_type": "display_data"
    }
   ],
   "source": [
    "K = FEM.heatConductionMatrix(problem)"
   ]
  },
  {
   "cell_type": "code",
   "execution_count": 39,
   "metadata": {},
   "outputs": [],
   "source": [
    "#fqn(x, y, z) = 10"
   ]
  },
  {
   "cell_type": "code",
   "execution_count": 40,
   "metadata": {},
   "outputs": [],
   "source": [
    "#right = FEM.temperatureConstraint(\"right\", T=0)\n",
    "right = FEM.heatConvection(\"right\", h=1, Tₐ=20)\n",
    "left = FEM.heatFlux(\"left\", qn=-1);"
   ]
  },
  {
   "cell_type": "code",
   "execution_count": 41,
   "metadata": {},
   "outputs": [],
   "source": [
    "q = FEM.heatFluxVector(problem, [left]);"
   ]
  },
  {
   "cell_type": "code",
   "execution_count": 42,
   "metadata": {},
   "outputs": [],
   "source": [
    "FEM.applyHeatConvection!(problem, K, q, [right]);"
   ]
  },
  {
   "cell_type": "code",
   "execution_count": 43,
   "metadata": {},
   "outputs": [],
   "source": [
    "#FEM.applyBoundaryConditions!(problem, K, q, [right])"
   ]
  },
  {
   "cell_type": "code",
   "execution_count": 44,
   "metadata": {},
   "outputs": [],
   "source": [
    "T = FEM.solveTemperature(K, q);"
   ]
  },
  {
   "cell_type": "code",
   "execution_count": 45,
   "metadata": {},
   "outputs": [],
   "source": [
    "Q = FEM.solveHeatFlux(problem, T);"
   ]
  },
  {
   "cell_type": "code",
   "execution_count": 46,
   "metadata": {},
   "outputs": [
    {
     "data": {
      "text/plain": [
       "0"
      ]
     },
     "metadata": {},
     "output_type": "display_data"
    }
   ],
   "source": [
    "T1 = FEM.showDoFResults(problem, T, \"T\", name=\"T\", visible=true)"
   ]
  },
  {
   "cell_type": "code",
   "execution_count": 47,
   "metadata": {},
   "outputs": [
    {
     "data": {
      "text/plain": [
       "2"
      ]
     },
     "metadata": {},
     "output_type": "display_data"
    }
   ],
   "source": [
    "q1 = FEM.showHeatFluxResults(problem, Q, \"qvec\", visible=false, smooth=false)\n",
    "qx = FEM.showHeatFluxResults(problem, Q, \"qx\", visible=false, smooth=false)"
   ]
  },
  {
   "cell_type": "code",
   "execution_count": 48,
   "metadata": {},
   "outputs": [
    {
     "data": {
      "text/plain": [
       "3"
      ]
     },
     "metadata": {},
     "output_type": "display_data"
    }
   ],
   "source": [
    "p1 = FEM.plotOnPath(problem, \"bottom\", qx)"
   ]
  },
  {
   "cell_type": "code",
   "execution_count": 49,
   "metadata": {},
   "outputs": [
    {
     "data": {
      "text/plain": [
       "4"
      ]
     },
     "metadata": {},
     "output_type": "display_data"
    }
   ],
   "source": [
    "fh0 = FEM.heatConvectionVector(problem, [right])\n",
    "fh = FEM.showDoFResults(problem, fh0, \"uvec\", name=\"fh\", visible=false)"
   ]
  },
  {
   "cell_type": "code",
   "execution_count": 50,
   "metadata": {},
   "outputs": [
    {
     "name": "stdout",
     "output_type": "stream",
     "text": [
      "-------------------------------------------------------\n",
      "Version       : 4.13.1\n",
      "License       : GNU General Public License\n",
      "Build OS      : Linux64-sdk\n",
      "Build date    : 19700101\n",
      "Build host    : amdci7.julia.csail.mit.edu\n",
      "Build options : 64Bit ALGLIB[contrib] ANN[contrib] Bamg Blossom Cairo DIntegration Dlopen DomHex Eigen[contrib] Fltk GMP Gmm[contrib] Hxt Jpeg Kbipack LinuxJoystick MathEx[contrib] Mesh Metis[contrib] Mmg Mpeg Netgen Nii2mesh ONELAB ONELABMetamodel OpenCASCADE OpenCASCADE-CAF OpenGL OpenMP OptHom Parser Plugins Png Post QuadMeshingTools QuadTri Solver TetGen/BR TinyXML2[contrib] Untangle Voro++[contrib] WinslowUntangler Zlib\n",
      "FLTK version  : 1.3.8\n",
      "OCC version   : 7.7.2\n",
      "Packaged by   : root\n",
      "Web site      : https://gmsh.info\n",
      "Issue tracker : https://gitlab.onelab.info/gmsh/gmsh/issues\n",
      "-------------------------------------------------------\n"
     ]
    },
    {
     "name": "stderr",
     "output_type": "stream",
     "text": [
      "XRequest.18: BadValue 0x0\n"
     ]
    }
   ],
   "source": [
    "gmsh.fltk.run()"
   ]
  },
  {
   "cell_type": "code",
   "execution_count": 51,
   "metadata": {},
   "outputs": [],
   "source": [
    "#problem2 = FEM.Problem([mat], type=\"AxiSymmetric\", bandwidth=\"none\")"
   ]
  },
  {
   "cell_type": "code",
   "execution_count": 52,
   "metadata": {},
   "outputs": [],
   "source": [
    "#K2 = FEM.stiffnessMatrix(problem2)"
   ]
  },
  {
   "cell_type": "code",
   "execution_count": 53,
   "metadata": {},
   "outputs": [],
   "source": [
    "#supp = FEM.displacementConstraint(\"support\", uy=0)\n",
    "#load = FEM.load(\"support\", fx=0);"
   ]
  },
  {
   "cell_type": "code",
   "execution_count": 54,
   "metadata": {},
   "outputs": [],
   "source": [
    "#f = FEM.loadVector(problem2, [load]);"
   ]
  },
  {
   "cell_type": "code",
   "execution_count": 55,
   "metadata": {},
   "outputs": [],
   "source": [
    "#fT = FEM.thermalLoadVector(problem2, T);"
   ]
  },
  {
   "cell_type": "code",
   "execution_count": 56,
   "metadata": {},
   "outputs": [],
   "source": [
    "#f2 = f + fT;"
   ]
  },
  {
   "cell_type": "code",
   "execution_count": 57,
   "metadata": {},
   "outputs": [],
   "source": [
    "#FEM.applyBoundaryConditions!(problem2, K2, f2, [supp])"
   ]
  },
  {
   "cell_type": "code",
   "execution_count": 58,
   "metadata": {},
   "outputs": [],
   "source": [
    "#q2 = FEM.solveDisplacement(K2, f2);"
   ]
  },
  {
   "cell_type": "code",
   "execution_count": 59,
   "metadata": {},
   "outputs": [],
   "source": [
    "#E = FEM.solveStrain(problem2, q2);"
   ]
  },
  {
   "cell_type": "code",
   "execution_count": 60,
   "metadata": {},
   "outputs": [],
   "source": [
    "#S = FEM.solveStress(problem2, q2, T=T);"
   ]
  },
  {
   "cell_type": "code",
   "execution_count": 61,
   "metadata": {},
   "outputs": [],
   "source": [
    "#u = FEM.showDoFResults(problem2, q2, \"uvec\", visible=false)\n",
    "#ux = FEM.showDoFResults(problem2, q2, \"ux\", visible=false)\n",
    "#uy = FEM.showDoFResults(problem2, q2, \"uy\", visible=false)"
   ]
  },
  {
   "cell_type": "code",
   "execution_count": 62,
   "metadata": {},
   "outputs": [],
   "source": [
    "#ex = FEM.showStrainResults(problem2, E, \"ex\", visible=false)\n",
    "#ey = FEM.showStrainResults(problem2, E, \"ey\", visible=false)\n",
    "#exy = FEM.showStrainResults(problem2, E, \"exy\", visible=false)"
   ]
  },
  {
   "cell_type": "code",
   "execution_count": 63,
   "metadata": {},
   "outputs": [],
   "source": [
    "#seqv = FEM.showStressResults(problem2, S, \"seqv\", visible=false)\n",
    "#sx = FEM.showStressResults(problem2, S, \"sx\", visible=false)\n",
    "#sy = FEM.showStressResults(problem2, S, \"sy\", visible=false)\n",
    "#sxy = FEM.showStressResults(problem2, S, \"sxy\", visible=false)"
   ]
  },
  {
   "cell_type": "code",
   "execution_count": 64,
   "metadata": {},
   "outputs": [],
   "source": [
    "#FF = FEM.showDoFResults(problem2, fT, \"uvec\", name=\"fT\", visible=false)"
   ]
  },
  {
   "cell_type": "code",
   "execution_count": 65,
   "metadata": {},
   "outputs": [],
   "source": [
    "#gmsh.fltk.run()"
   ]
  },
  {
   "cell_type": "code",
   "execution_count": 66,
   "metadata": {},
   "outputs": [],
   "source": [
    "gmsh.finalize()"
   ]
  }
 ],
 "metadata": {
  "kernelspec": {
   "display_name": "Julia 1.11.1",
   "language": "julia",
   "name": "julia-1.11"
  },
  "language_info": {
   "file_extension": ".jl",
   "mimetype": "application/julia",
   "name": "julia",
   "version": "1.11.1"
  }
 },
 "nbformat": 4,
 "nbformat_minor": 2
}
