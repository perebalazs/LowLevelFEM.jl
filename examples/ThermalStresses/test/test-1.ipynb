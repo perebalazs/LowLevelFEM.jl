{
 "cells": [
  {
   "cell_type": "code",
   "execution_count": 1,
   "metadata": {},
   "outputs": [],
   "source": [
    "import LowLevelFEM as FEM\n",
    "using LowLevelFEM\n",
    "\n",
    "gmsh.initialize()"
   ]
  },
  {
   "cell_type": "code",
   "execution_count": 2,
   "metadata": {},
   "outputs": [
    {
     "name": "stdout",
     "output_type": "stream",
     "text": [
      "Info    : Reading 'test-1.geo'...\n",
      "Info    : Reconstructing periodicity for curve connection 4 - 2\n",
      "Info    : Meshing 1D...\n",
      "Info    : [  0%] Meshing curve 1 (Line)\n",
      "Info    : [ 30%] Meshing curve 2 (Line)\n",
      "Info    : [ 60%] Meshing curve 3 (Line)\n",
      "Info    : [ 80%] Meshing curve 4 (Line) as a copy of curve 2\n",
      "Info    : Done meshing 1D (Wall 0.00188742s, CPU 0.001888s)\n",
      "Info    : Meshing 2D...\n",
      "Info    : Meshing surface 1 (Plane, Frontal-Delaunay)\n",
      "Info    : Done meshing 2D (Wall 0.00561051s, CPU 0.005592s)\n",
      "Info    : Reconstructing periodicity for curve connection 4 - 2\n",
      "Info    : 44 nodes 90 elements\n",
      "Info    : Done reading 'test-1.geo'\n"
     ]
    }
   ],
   "source": [
    "gmsh.open(\"test-1.geo\")"
   ]
  },
  {
   "cell_type": "code",
   "execution_count": 3,
   "metadata": {},
   "outputs": [],
   "source": [
    "#gmsh.fltk.run()"
   ]
  },
  {
   "cell_type": "code",
   "execution_count": 4,
   "metadata": {},
   "outputs": [
    {
     "name": "stdout",
     "output_type": "stream",
     "text": [
      "Info    : RCMK renumbering...\n",
      "Info    : Done RCMK renumbering (bandwidth is now 10)\n"
     ]
    },
    {
     "data": {
      "text/plain": [
       "LowLevelFEM.Problem(\"test-1\", \"AxiSymmetricHeatConduction\", 2, 1, LowLevelFEM.Material[LowLevelFEM.Material(\"body\", 300000.0, 0.2, 7.85e-9, 1.0, 4.2e8, 8.0e-6)], 1.0, 44)"
      ]
     },
     "metadata": {},
     "output_type": "display_data"
    }
   ],
   "source": [
    "mat = FEM.material(\"body\", E=3e5, ν=0.2, k=1, α=8e-6)\n",
    "#problem = FEM.Problem([mat], type=\"PlaneHeatConduction\", bandwidth=\"none\")\n",
    "problem = FEM.Problem([mat], type=\"AxiSymmetricHeatConduction\", bandwidth=\"none\")"
   ]
  },
  {
   "cell_type": "code",
   "execution_count": 5,
   "metadata": {},
   "outputs": [
    {
     "data": {
      "text/plain": [
       "44×44 SparseArrays.SparseMatrixCSC{Float64, Int64} with 262 stored entries:\n",
       "⎡⠑⢄⠁⠐⠂⠠⠄⢀⡀⠈⠀⠀⠀⠀⠀⠀⠀⠀⠀⢀⠡⠂⎤\n",
       "⎢⢁⠀⠻⣦⠀⠀⠀⠀⠀⠀⠀⠰⡄⠀⠀⠃⠀⠀⠀⠀⠁⡀⎥\n",
       "⎢⠈⡀⠀⠀⠻⣦⠀⠀⠀⠀⠆⠀⠀⠀⠀⠀⠀⠘⡄⠀⢀⠁⎥\n",
       "⎢⠀⢁⠀⠀⠀⠀⠻⣦⠀⠀⠀⠆⠀⠀⢠⠀⠀⠃⠀⢀⠈⠀⎥\n",
       "⎢⡀⠈⠀⠀⠀⠀⠀⠀⠻⣦⠰⠀⠀⠀⠀⠘⢠⠀⠀⠈⡀⠀⎥\n",
       "⎢⠀⠀⢀⡀⠈⠁⠠⠄⠐⠂⠑⢄⣈⡈⠥⡐⠒⠌⠡⠂⠀⠀⎥\n",
       "⎢⠀⠀⠀⠉⠀⠀⠀⠀⠀⠀⡂⠸⢻⣶⡀⠄⠀⠘⢀⠄⠀⢡⎥\n",
       "⎢⠀⠀⠤⠀⠀⠀⠀⠒⣀⠀⢁⠣⠀⠌⢑⢔⡢⠁⠙⢔⠄⠀⎥\n",
       "⎢⠀⠀⠀⠀⣀⠀⠤⠀⠀⠒⡘⠄⣀⠀⠌⠊⠑⢄⠌⠃⠢⡈⎥\n",
       "⎢⠀⢀⠀⠀⠀⠉⠀⢀⡀⠀⠡⠂⠀⠔⢓⢄⠦⠁⠑⢄⠈⠰⎥\n",
       "⎣⠡⠂⠁⠠⠄⠐⠂⠀⠀⠈⠀⠀⠄⣀⠀⠁⡈⠢⢂⡀⠑⢄⎦"
      ]
     },
     "metadata": {},
     "output_type": "display_data"
    }
   ],
   "source": [
    "K = FEM.heatConductionMatrix(problem)"
   ]
  },
  {
   "cell_type": "code",
   "execution_count": 6,
   "metadata": {},
   "outputs": [],
   "source": [
    "#fqn(x, y, z) = 10"
   ]
  },
  {
   "cell_type": "code",
   "execution_count": 7,
   "metadata": {},
   "outputs": [],
   "source": [
    "#right = FEM.temperatureConstraint(\"right\", T=0)\n",
    "right = FEM.heatConvection(\"right\", h=1, Tₐ=20)\n",
    "left = FEM.heatFlux(\"left\", qn=-1);"
   ]
  },
  {
   "cell_type": "code",
   "execution_count": 8,
   "metadata": {},
   "outputs": [],
   "source": [
    "q = FEM.heatFluxVector(problem, [left]);"
   ]
  },
  {
   "cell_type": "code",
   "execution_count": 9,
   "metadata": {},
   "outputs": [],
   "source": [
    "FEM.applyHeatConvection!(problem, K, q, [right]);"
   ]
  },
  {
   "cell_type": "code",
   "execution_count": 10,
   "metadata": {},
   "outputs": [],
   "source": [
    "#FEM.applyBoundaryConditions!(problem, K, q, [right])"
   ]
  },
  {
   "cell_type": "code",
   "execution_count": 11,
   "metadata": {},
   "outputs": [
    {
     "data": {
      "text/plain": [
       "44-element Vector{Float64}:\n",
       " 89.57604719204086\n",
       " 20.49723853878653\n",
       " 20.4972332473231\n",
       " 89.56879196388932\n",
       " 68.72730196129812\n",
       " 52.68066049265491\n",
       " 39.85321183064054\n",
       " 29.319788484910006\n",
       " 20.50348360583522\n",
       " 20.49774815933616\n",
       "  ⋮\n",
       " 28.407395034622365\n",
       " 27.714707078337543\n",
       " 49.74359756847307\n",
       " 63.05890948685673\n",
       " 75.78085444831679\n",
       " 76.15350775890259\n",
       " 26.810352008956365\n",
       " 26.81790127553062\n",
       " 54.02417084005417"
      ]
     },
     "metadata": {},
     "output_type": "display_data"
    }
   ],
   "source": [
    "T = FEM.solveTemperature(K, q)"
   ]
  },
  {
   "cell_type": "code",
   "execution_count": 12,
   "metadata": {},
   "outputs": [],
   "source": [
    "Q = FEM.solveHeatFlux(problem, T);"
   ]
  },
  {
   "cell_type": "code",
   "execution_count": 13,
   "metadata": {},
   "outputs": [
    {
     "data": {
      "text/plain": [
       "88×1 Matrix{Float64}:\n",
       "  0.9095075750699066\n",
       "  0.007974379362560402\n",
       "  0.5196012143129602\n",
       "  0.0021133344594331804\n",
       "  0.519525375037177\n",
       " -0.0020701348910341366\n",
       "  0.9085291862530954\n",
       " -0.008122842180218415\n",
       "  0.817392459557654\n",
       "  0.007039498940038784\n",
       "  ⋮\n",
       "  0.0002466385207982258\n",
       "  0.8744208943496986\n",
       " -0.00013340972906528137\n",
       "  0.5321458672748611\n",
       " -1.3429099421657931e-5\n",
       "  0.5328325186404279\n",
       "  1.6029365409053752e-5\n",
       "  0.6994248324782678\n",
       "  0.0008733324586931435"
      ]
     },
     "metadata": {},
     "output_type": "display_data"
    }
   ],
   "source": [
    "Q2 = FEM.solveHeatFlux(problem, T, DoFResults=true)"
   ]
  },
  {
   "cell_type": "code",
   "execution_count": 14,
   "metadata": {},
   "outputs": [
    {
     "data": {
      "text/plain": [
       "1"
      ]
     },
     "metadata": {},
     "output_type": "display_data"
    }
   ],
   "source": [
    "T1 = FEM.showDoFResults(problem, T, \"T\", name=\"T\", visible=true)"
   ]
  },
  {
   "cell_type": "code",
   "execution_count": 15,
   "metadata": {},
   "outputs": [
    {
     "name": "stdout",
     "output_type": "stream",
     "text": [
      "Info    : Running Plugin(Smooth)...\n",
      "Info    : Done running Plugin(Smooth)\n"
     ]
    },
    {
     "data": {
      "text/plain": [
       "4"
      ]
     },
     "metadata": {},
     "output_type": "display_data"
    }
   ],
   "source": [
    "q1 = FEM.showHeatFluxResults(problem, Q, \"qvec\", visible=false, smooth=false)\n",
    "qx = FEM.showHeatFluxResults(problem, Q, \"q\", visible=false, smooth=true)\n",
    "q2 = FEM.showDoFResults(problem, Q2, \"uvec\")"
   ]
  },
  {
   "cell_type": "code",
   "execution_count": 16,
   "metadata": {},
   "outputs": [
    {
     "data": {
      "text/plain": [
       "57963.48563273149"
      ]
     },
     "metadata": {},
     "output_type": "display_data"
    }
   ],
   "source": [
    "FEM.resultant(problem, qx, \"left\")"
   ]
  },
  {
   "cell_type": "code",
   "execution_count": 17,
   "metadata": {},
   "outputs": [
    {
     "data": {
      "text/plain": [
       "65271.23315794376"
      ]
     },
     "metadata": {},
     "output_type": "display_data"
    }
   ],
   "source": [
    "FEM.resultant(problem, qx, \"right\")"
   ]
  },
  {
   "cell_type": "code",
   "execution_count": 18,
   "metadata": {},
   "outputs": [
    {
     "data": {
      "text/plain": [
       "62831.85307179586"
      ]
     },
     "metadata": {},
     "output_type": "display_data"
    }
   ],
   "source": [
    "Qx = FEM.resultant(q, \"left\", dim=1)"
   ]
  },
  {
   "cell_type": "code",
   "execution_count": 19,
   "metadata": {},
   "outputs": [
    {
     "data": {
      "text/plain": [
       "5"
      ]
     },
     "metadata": {},
     "output_type": "display_data"
    }
   ],
   "source": [
    "p1 = FEM.plotOnPath(problem, \"bottom\", qx)"
   ]
  },
  {
   "cell_type": "code",
   "execution_count": 20,
   "metadata": {},
   "outputs": [
    {
     "data": {
      "text/plain": [
       "6"
      ]
     },
     "metadata": {},
     "output_type": "display_data"
    }
   ],
   "source": [
    "fh0 = FEM.heatConvectionVector(problem, [right])\n",
    "fh = FEM.showDoFResults(problem, fh0, \"uvec\", name=\"fh\", visible=false)"
   ]
  },
  {
   "cell_type": "code",
   "execution_count": 21,
   "metadata": {},
   "outputs": [
    {
     "name": "stdout",
     "output_type": "stream",
     "text": [
      "-------------------------------------------------------\n",
      "Version       : 4.13.1\n",
      "License       : GNU General Public License\n",
      "Build OS      : Linux64-sdk\n",
      "Build date    : 19700101\n",
      "Build host    : amdci7.julia.csail.mit.edu\n",
      "Build options : 64Bit ALGLIB[contrib] ANN[contrib] Bamg Blossom Cairo DIntegration Dlopen DomHex Eigen[contrib] Fltk GMP Gmm[contrib] Hxt Jpeg Kbipack LinuxJoystick MathEx[contrib] Mesh Metis[contrib] Mmg Mpeg Netgen Nii2mesh ONELAB ONELABMetamodel OpenCASCADE OpenCASCADE-CAF OpenGL OpenMP OptHom Parser Plugins Png Post QuadMeshingTools QuadTri Solver TetGen/BR TinyXML2[contrib] Untangle Voro++[contrib] WinslowUntangler Zlib\n",
      "FLTK version  : 1.3.8\n",
      "OCC version   : 7.7.2\n",
      "Packaged by   : root\n",
      "Web site      : https://gmsh.info\n",
      "Issue tracker : https://gitlab.onelab.info/gmsh/gmsh/issues\n",
      "-------------------------------------------------------\n"
     ]
    },
    {
     "name": "stderr",
     "output_type": "stream",
     "text": [
      "XOpenIM() failed\n",
      "XRequest.18: BadValue 0x0\n"
     ]
    }
   ],
   "source": [
    "gmsh.fltk.run()"
   ]
  },
  {
   "cell_type": "code",
   "execution_count": 22,
   "metadata": {},
   "outputs": [],
   "source": [
    "#problem2 = FEM.Problem([mat], type=\"AxiSymmetric\", bandwidth=\"none\")"
   ]
  },
  {
   "cell_type": "code",
   "execution_count": 23,
   "metadata": {},
   "outputs": [],
   "source": [
    "#K2 = FEM.stiffnessMatrix(problem2)"
   ]
  },
  {
   "cell_type": "code",
   "execution_count": 24,
   "metadata": {},
   "outputs": [],
   "source": [
    "#supp = FEM.displacementConstraint(\"support\", uy=0)\n",
    "#load = FEM.load(\"support\", fx=0);"
   ]
  },
  {
   "cell_type": "code",
   "execution_count": 25,
   "metadata": {},
   "outputs": [],
   "source": [
    "#f = FEM.loadVector(problem2, [load]);"
   ]
  },
  {
   "cell_type": "code",
   "execution_count": 26,
   "metadata": {},
   "outputs": [],
   "source": [
    "#fT = FEM.thermalLoadVector(problem2, T);"
   ]
  },
  {
   "cell_type": "code",
   "execution_count": 27,
   "metadata": {},
   "outputs": [],
   "source": [
    "#f2 = f + fT;"
   ]
  },
  {
   "cell_type": "code",
   "execution_count": 28,
   "metadata": {},
   "outputs": [],
   "source": [
    "#FEM.applyBoundaryConditions!(problem2, K2, f2, [supp])"
   ]
  },
  {
   "cell_type": "code",
   "execution_count": 29,
   "metadata": {},
   "outputs": [],
   "source": [
    "#q2 = FEM.solveDisplacement(K2, f2);"
   ]
  },
  {
   "cell_type": "code",
   "execution_count": 30,
   "metadata": {},
   "outputs": [],
   "source": [
    "#E = FEM.solveStrain(problem2, q2);"
   ]
  },
  {
   "cell_type": "code",
   "execution_count": 31,
   "metadata": {},
   "outputs": [],
   "source": [
    "#S = FEM.solveStress(problem2, q2, T=T);"
   ]
  },
  {
   "cell_type": "code",
   "execution_count": 32,
   "metadata": {},
   "outputs": [],
   "source": [
    "#u = FEM.showDoFResults(problem2, q2, \"uvec\", visible=false)\n",
    "#ux = FEM.showDoFResults(problem2, q2, \"ux\", visible=false)\n",
    "#uy = FEM.showDoFResults(problem2, q2, \"uy\", visible=false)"
   ]
  },
  {
   "cell_type": "code",
   "execution_count": 33,
   "metadata": {},
   "outputs": [],
   "source": [
    "#ex = FEM.showStrainResults(problem2, E, \"ex\", visible=false)\n",
    "#ey = FEM.showStrainResults(problem2, E, \"ey\", visible=false)\n",
    "#exy = FEM.showStrainResults(problem2, E, \"exy\", visible=false)"
   ]
  },
  {
   "cell_type": "code",
   "execution_count": 34,
   "metadata": {},
   "outputs": [],
   "source": [
    "#seqv = FEM.showStressResults(problem2, S, \"seqv\", visible=false)\n",
    "#sx = FEM.showStressResults(problem2, S, \"sx\", visible=false)\n",
    "#sy = FEM.showStressResults(problem2, S, \"sy\", visible=false)\n",
    "#sxy = FEM.showStressResults(problem2, S, \"sxy\", visible=false)"
   ]
  },
  {
   "cell_type": "code",
   "execution_count": 35,
   "metadata": {},
   "outputs": [],
   "source": [
    "#FF = FEM.showDoFResults(problem2, fT, \"uvec\", name=\"fT\", visible=false)"
   ]
  },
  {
   "cell_type": "code",
   "execution_count": 36,
   "metadata": {},
   "outputs": [],
   "source": [
    "#gmsh.fltk.run()"
   ]
  },
  {
   "cell_type": "code",
   "execution_count": 37,
   "metadata": {},
   "outputs": [],
   "source": [
    "gmsh.finalize()"
   ]
  }
 ],
 "metadata": {
  "kernelspec": {
   "display_name": "Julia 1.11.1",
   "language": "julia",
   "name": "julia-1.11"
  },
  "language_info": {
   "file_extension": ".jl",
   "mimetype": "application/julia",
   "name": "julia",
   "version": "1.11.1"
  }
 },
 "nbformat": 4,
 "nbformat_minor": 2
}
