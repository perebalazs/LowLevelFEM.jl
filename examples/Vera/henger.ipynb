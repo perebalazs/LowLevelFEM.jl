{
 "cells": [
  {
   "cell_type": "code",
   "execution_count": 29,
   "id": "434b125b",
   "metadata": {},
   "outputs": [],
   "source": [
    "\n",
    "\n",
    "using LowLevelFEM\n",
    "import LowLevelFEM as FEM\n",
    "\n",
    "gmsh.initialize()\n"
   ]
  },
  {
   "cell_type": "code",
   "execution_count": 30,
   "id": "bdc530ac",
   "metadata": {},
   "outputs": [
    {
     "name": "stdout",
     "output_type": "stream",
     "text": [
      "Info    : Reading 'henger.geo'...\n",
      "Info    : Meshing 1D...ence - Classify solids                                                                                        \n",
      "Info    : [  0%] Meshing curve 1 (Circle)\n",
      "Info    : [ 20%] Meshing curve 2 (Line)\n",
      "Info    : [ 40%] Meshing curve 3 (Circle)\n",
      "Info    : [ 60%] Meshing curve 4 (Circle)\n",
      "Info    : [ 70%] Meshing curve 5 (Line)\n",
      "Info    : [ 90%] Meshing curve 6 (Circle)\n",
      "Info    : Done meshing 1D (Wall 0.00674702s, CPU 0.004223s)\n",
      "Info    : Meshing 2D...\n",
      "Info    : [  0%] Meshing surface 1 (Cylinder, Frontal-Delaunay)\n",
      "Info    : [ 30%] Meshing surface 2 (Cylinder, Frontal-Delaunay)\n",
      "Info    : [ 60%] Meshing surface 3 (Plane, Frontal-Delaunay)\n",
      "Info    : [ 80%] Meshing surface 4 (Plane, Frontal-Delaunay)\n",
      "Info    : Done meshing 2D (Wall 0.918621s, CPU 0.870019s)\n",
      "Info    : Meshing 3D...\n",
      "Info    : 3D Meshing 1 volume with 1 connected component\n",
      "Info    : Tetrahedrizing 4506 nodes...\n",
      "Info    : Done tetrahedrizing 4514 nodes (Wall 0.219923s, CPU 0.212173s)\n",
      "Info    : Reconstructing mesh...\n",
      "Info    :  - Creating surface mesh\n",
      "Info    :  - Identifying boundary edges\n",
      "Info    :  - Recovering boundary\n",
      "Info    : Done reconstructing mesh (Wall 0.450337s, CPU 0.440702s)\n",
      "Info    : Found volume 2\n",
      "Info    : It. 0 - 0 nodes created - worst tet radius 5.29245 (nodes removed 0 0)\n",
      "Info    : It. 500 - 500 nodes created - worst tet radius 1.88115 (nodes removed 0 0)\n",
      "Info    : It. 1000 - 1000 nodes created - worst tet radius 1.60384 (nodes removed 0 0)\n",
      "Info    : It. 1500 - 1500 nodes created - worst tet radius 1.38444 (nodes removed 0 0)\n",
      "Info    : It. 2000 - 2000 nodes created - worst tet radius 1.28113 (nodes removed 0 0)\n",
      "Info    : It. 2500 - 2500 nodes created - worst tet radius 1.21167 (nodes removed 0 0)\n",
      "Info    : It. 3000 - 3000 nodes created - worst tet radius 1.15238 (nodes removed 0 0)\n",
      "Info    : It. 3500 - 3500 nodes created - worst tet radius 1.09636 (nodes removed 0 0)\n",
      "Info    : It. 4000 - 4000 nodes created - worst tet radius 1.05131 (nodes removed 0 0)\n",
      "Info    : It. 4500 - 4500 nodes created - worst tet radius 1.01248 (nodes removed 0 0)\n",
      "Info    : 3D refinement terminated (9192 nodes total):\n",
      "Info    :  - 0 Delaunay cavities modified for star shapeness\n",
      "Info    :  - 0 nodes could not be inserted\n",
      "Info    :  - 43425 tetrahedra created in 0.890456 sec. (48767 tets/s)\n",
      "Info    : 0 node relocations\n",
      "Info    : Done meshing 3D (Wall 2.15449s, CPU 2.13514s)\n",
      "Info    : Optimizing mesh...\n",
      "Info    : Optimizing volume 2\n",
      "Info    : Optimization starts (volume = 75398.2) with worst = 0.0132638 / average = 0.772717:\n",
      "Info    : 0.00 < quality < 0.10 :       117 elements\n",
      "Info    : 0.10 < quality < 0.20 :       342 elements\n",
      "Info    : 0.20 < quality < 0.30 :       470 elements\n",
      "Info    : 0.30 < quality < 0.40 :       728 elements\n",
      "Info    : 0.40 < quality < 0.50 :      1115 elements\n",
      "Info    : 0.50 < quality < 0.60 :      2040 elements\n",
      "Info    : 0.60 < quality < 0.70 :      4924 elements\n",
      "Info    : 0.70 < quality < 0.80 :     10674 elements\n",
      "Info    : 0.80 < quality < 0.90 :     15645 elements\n",
      "Info    : 0.90 < quality < 1.00 :      7370 elements\n",
      "Info    : 913 edge swaps, 29 node relocations (volume = 75398.2): worst = 0.09292 / average = 0.78617 (Wall 0.0517957s, CPU 0.05178s)\n",
      "Info    : 918 edge swaps, 30 node relocations (volume = 75398.2): worst = 0.224265 / average = 0.786254 (Wall 0.0682464s, CPU 0.068222s)\n",
      "Info    : 919 edge swaps, 30 node relocations (volume = 75398.2): worst = 0.300107 / average = 0.786275 (Wall 0.0900659s, CPU 0.09004s)\n",
      "Info    : No ill-shaped tets in the mesh :-)\n",
      "Info    : 0.00 < quality < 0.10 :         0 elements\n",
      "Info    : 0.10 < quality < 0.20 :         0 elements\n",
      "Info    : 0.20 < quality < 0.30 :         0 elements\n",
      "Info    : 0.30 < quality < 0.40 :       725 elements\n",
      "Info    : 0.40 < quality < 0.50 :      1073 elements\n",
      "Info    : 0.50 < quality < 0.60 :      1970 elements\n",
      "Info    : 0.60 < quality < 0.70 :      4936 elements\n",
      "Info    : 0.70 < quality < 0.80 :     10729 elements\n",
      "Info    : 0.80 < quality < 0.90 :     15801 elements\n",
      "Info    : 0.90 < quality < 1.00 :      7361 elements\n",
      "Info    : Done optimizing mesh (Wall 0.270478s, CPU 0.269726s)\n",
      "Info    : 9192 nodes 52009 elements\n",
      "Info    : Done reading 'henger.geo'\n"
     ]
    }
   ],
   "source": [
    "\n",
    "gmsh.open(\"henger.geo\")\n"
   ]
  },
  {
   "cell_type": "code",
   "execution_count": 31,
   "id": "66192c87",
   "metadata": {},
   "outputs": [
    {
     "name": "stdout",
     "output_type": "stream",
     "text": [
      "Info    : RCMK renumbering...\n",
      "Info    : Done RCMK renumbering (bandwidth is now 382)\n"
     ]
    },
    {
     "data": {
      "text/plain": [
       "LowLevelFEM.Problem(\"henger\", :Solid, 3, 3, LowLevelFEM.Material[LowLevelFEM.Material(\"body\", :Hooke, 200000.0, 0.3, 7.85e-9, 45.0, 4.2e8, 1.2e-5, 115384.61538461536, 76923.07692307692, 166666.66666666666)], 1.0, 9192)"
      ]
     },
     "metadata": {},
     "output_type": "display_data"
    }
   ],
   "source": [
    "\n",
    "mat = FEM.material(\"body\", E=2.e5, ν=0.3)\n",
    "problem = FEM.Problem([mat], type=:Solid)\n"
   ]
  },
  {
   "cell_type": "code",
   "execution_count": 32,
   "id": "8527b530",
   "metadata": {},
   "outputs": [
    {
     "data": {
      "text/plain": [
       "(\"outer\", 0, 0, 0)"
      ]
     },
     "metadata": {},
     "output_type": "display_data"
    }
   ],
   "source": [
    "\n",
    "supp = FEM.displacementConstraint(\"outer\", ux=0, uy=0, uz=0)\n"
   ]
  },
  {
   "cell_type": "code",
   "execution_count": 33,
   "id": "8d61649e",
   "metadata": {},
   "outputs": [
    {
     "data": {
      "text/plain": [
       "(\"inner\", Main.f2, Main.f1, 0)"
      ]
     },
     "metadata": {},
     "output_type": "display_data"
    }
   ],
   "source": [
    "\n",
    "p = 20\n",
    "f1(x, y, z) = p * (x / sqrt(x^2 + y^2))\n",
    "f2(x, y, z) = -p * (y / sqrt(x^2 + y^2))\n",
    "\n",
    "load = FEM.load(\"inner\", fx=f2, fy=f1)\n"
   ]
  },
  {
   "cell_type": "code",
   "execution_count": 34,
   "id": "c39cd44c",
   "metadata": {},
   "outputs": [
    {
     "data": {
      "text/plain": [
       "LowLevelFEM.TensorField(Matrix{Float64}[], [-0.15256590874325018; -18.76097880184551; … ; -0.013437171611565829; 0.1270113601953106;;], [0.0], Int64[], 1, :s)"
      ]
     },
     "metadata": {},
     "output_type": "display_data"
    }
   ],
   "source": [
    "\n",
    "q = FEM.solveDisplacement(problem, [load], [supp])\n",
    "S = FEM.solveStress(problem, q)\n",
    "S = FEM.elementsToNodes(problem, S)"
   ]
  },
  {
   "cell_type": "code",
   "execution_count": 35,
   "id": "96e7f0a3",
   "metadata": {},
   "outputs": [
    {
     "data": {
      "text/plain": [
       "LowLevelFEM.Transformation(sparse([1, 2, 1, 2, 3, 4, 5, 4, 5, 6  …  27571, 27572, 27571, 27572, 27573, 27574, 27575, 27574, 27575, 27576], [1, 1, 2, 2, 3, 4, 4, 5, 5, 6  …  27571, 27571, 27572, 27572, 27573, 27574, 27574, 27575, 27575, 27576], [1.0, -2.4492935982947064e-16, 2.4492935982947064e-16, 1.0, 1.0, 1.0, -2.4492935982947064e-16, 2.4492935982947064e-16, 1.0, 1.0  …  0.9997834039339183, 0.020812141127412562, -0.020812141127412562, 0.9997834039339183, 0.9999999999999997, -0.7426928612376161, -0.6696322228407792, 0.6696322228407792, -0.7426928612376161, 0.9999999999999998], 27576, 27576), 9192, 3)"
      ]
     },
     "metadata": {},
     "output_type": "display_data"
    }
   ],
   "source": [
    "n1x(x, y, z) = x\n",
    "n1y(x, y, z) = y\n",
    "n2x(x, y, z) = -y\n",
    "n2y = n1x\n",
    "cs = FEM.CoordinateSystem([n1x, n1y, 0], [n2x, n2y, 0])\n",
    "Q = FEM.rotateNodes(problem, \"body\", cs)"
   ]
  },
  {
   "cell_type": "markdown",
   "id": "36cd3897",
   "metadata": {},
   "source": [
    "# Az eredmenyek megjelenitese\n",
    "***\n",
    "*sdfsdf* **fdsgdfg**\n",
    "\n",
    "$\\int f(x)dx$"
   ]
  },
  {
   "cell_type": "code",
   "execution_count": 36,
   "id": "4e5a2bb3",
   "metadata": {},
   "outputs": [
    {
     "data": {
      "text/plain": [
       "7"
      ]
     },
     "metadata": {},
     "output_type": "display_data"
    }
   ],
   "source": [
    "\n",
    "u = FEM.showDoFResults(problem, q, :uvec)\n",
    "ux = FEM.showDoFResults(problem, q, :ux)\n",
    "uy = FEM.showDoFResults(problem, q, :uy)\n",
    "\n",
    "s = FEM.showDoFResults(problem, S, :s, visible=true)\n",
    "sx = FEM.showDoFResults(problem, S, :sx, name=\"σx\", visible=false)\n",
    "sy = FEM.showDoFResults(problem, S, :sy, name=\"σy\", visible=false)\n",
    "sxy = FEM.showDoFResults(problem, S, :sxy, name=\"τxy\", visible=false)\n",
    "sxy2 = FEM.showDoFResults(problem, Q' * S * Q, :sxy, name=\"τxy_HKR\", visible=false)\n"
   ]
  },
  {
   "cell_type": "code",
   "execution_count": 37,
   "id": "fd02895d",
   "metadata": {},
   "outputs": [
    {
     "name": "stdout",
     "output_type": "stream",
     "text": [
      "-------------------------------------------------------\n",
      "Version       : 4.13.1\n",
      "License       : GNU General Public License\n",
      "Build OS      : Linux64-sdk\n",
      "Build date    : 19700101\n",
      "Build host    : amdci7.julia.csail.mit.edu\n",
      "Build options : 64Bit ALGLIB[contrib] ANN[contrib] Bamg Blossom Cairo DIntegration Dlopen DomHex Eigen[contrib] Fltk GMP Gmm[contrib] Hxt Jpeg Kbipack LinuxJoystick MathEx[contrib] Mesh Metis[contrib] Mmg Mpeg Netgen Nii2mesh ONELAB ONELABMetamodel OpenCASCADE OpenCASCADE-CAF OpenGL OpenMP OptHom Parser Plugins Png Post QuadMeshingTools QuadTri Solver TetGen/BR TinyXML2[contrib] Untangle Voro++[contrib] WinslowUntangler Zlib\n",
      "FLTK version  : 1.3.8\n",
      "OCC version   : 7.7.2\n",
      "Packaged by   : root\n",
      "Web site      : https://gmsh.info\n",
      "Issue tracker : https://gitlab.onelab.info/gmsh/gmsh/issues\n",
      "-------------------------------------------------------\n"
     ]
    },
    {
     "name": "stderr",
     "output_type": "stream",
     "text": [
      "XRequest.18: BadValue 0x0\n"
     ]
    }
   ],
   "source": [
    "\n",
    "FEM.openPostProcessor()"
   ]
  },
  {
   "cell_type": "code",
   "execution_count": 38,
   "id": "30bbee60",
   "metadata": {},
   "outputs": [],
   "source": [
    "gmsh.finalize()"
   ]
  }
 ],
 "metadata": {
  "kernelspec": {
   "display_name": "Julia 1.11.5",
   "language": "julia",
   "name": "julia-1.11"
  },
  "language_info": {
   "file_extension": ".jl",
   "mimetype": "application/julia",
   "name": "julia",
   "version": "1.11.5"
  }
 },
 "nbformat": 4,
 "nbformat_minor": 5
}
