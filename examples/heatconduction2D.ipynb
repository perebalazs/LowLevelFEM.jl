{
 "cells": [
  {
   "cell_type": "code",
   "execution_count": 37,
   "metadata": {},
   "outputs": [],
   "source": [
    "import LowLevelFEM as FEM\n",
    "using LowLevelFEM\n",
    "\n",
    "gmsh.initialize()"
   ]
  },
  {
   "cell_type": "code",
   "execution_count": 38,
   "metadata": {},
   "outputs": [
    {
     "name": "stdout",
     "output_type": "stream",
     "text": [
      "Info    : Reading 'heatconduction2D.geo'...\n",
      "Info    : Meshing 1D...\n",
      "Info    : [  0%] Meshing curve 1 (Line)\n",
      "Info    : [ 30%] Meshing curve 2 (Line)\n",
      "Info    : [ 60%] Meshing curve 3 (Line)\n",
      "Info    : [ 80%] Meshing curve 4 (Line)\n",
      "Info    : Done meshing 1D (Wall 0.000399875s, CPU 0.00039s)\n",
      "Info    : Meshing 2D...\n",
      "Info    : Meshing surface 1 (Transfinite)\n",
      "Info    : Done meshing 2D (Wall 0.00178571s, CPU 0.00047s)\n",
      "Info    : 124 nodes 160 elements\n",
      "Info    : Done reading 'heatconduction2D.geo'\n"
     ]
    }
   ],
   "source": [
    "gmsh.open(\"heatconduction2D.geo\")"
   ]
  },
  {
   "cell_type": "code",
   "execution_count": 39,
   "metadata": {},
   "outputs": [
    {
     "name": "stdout",
     "output_type": "stream",
     "text": [
      "Info    : RCMK renumbering...\n",
      "Info    : Done RCMK renumbering (bandwidth is now 8)\n"
     ]
    },
    {
     "data": {
      "text/plain": [
       "LowLevelFEM.Problem(\"bending2D\", \"PlaneHeatConduction\", 2, 1, LowLevelFEM.Material[LowLevelFEM.Material(\"body\", 200000.0, 0.3, 7.85e-9, 45.0, 4.2e8, 0.01)], 1.0, 124)"
      ]
     },
     "metadata": {},
     "output_type": "display_data"
    }
   ],
   "source": [
    "mat = FEM.material(\"body\")\n",
    "problem = FEM.Problem([mat], type=\"PlaneHeatConduction\", bandwidth=\"none\")"
   ]
  },
  {
   "cell_type": "code",
   "execution_count": 40,
   "metadata": {},
   "outputs": [],
   "source": [
    "#gmsh.fltk.run()"
   ]
  },
  {
   "cell_type": "code",
   "execution_count": 41,
   "metadata": {},
   "outputs": [],
   "source": [
    "# Néhány láthatósági beállítás 0:kikapcs. 1:bekapcs.\n",
    "gmsh.option.setNumber(\"Geometry.CurveLabels\", 0)\n",
    "gmsh.option.setNumber(\"Geometry.Points\", 0)\n",
    "gmsh.option.setNumber(\"Geometry.Curves\", 0)\n",
    "gmsh.option.setNumber(\"Mesh.Points\", 0)\n",
    "gmsh.option.setNumber(\"Mesh.Lines\", 0)\n",
    "gmsh.option.setNumber(\"Mesh.SurfaceEdges\", 0)\n",
    "gmsh.option.setNumber(\"Mesh.NodeLabels\", 0)\n",
    "gmsh.option.setNumber(\"Mesh.LineLabels\", 0)\n",
    "gmsh.option.setNumber(\"Mesh.SurfaceLabels\", 0)"
   ]
  },
  {
   "cell_type": "code",
   "execution_count": 42,
   "metadata": {},
   "outputs": [
    {
     "data": {
      "text/plain": [
       "124×124 SparseArrays.SparseMatrixCSC{Float64, Int64} with 910 stored entries:\n",
       "⎡⡑⢌⡀⠀⠀⠀⠀⠀⠀⠀⠐⠂⠀⠀⠀⠀⠀⠀⠀⠀⠤⡡⣀⠀⠀⠀⠀⠀⠀⠀⠀⠀⠀⠀⠀⠀⠀⠀⠀⠒⎤\n",
       "⎢⠀⠈⠻⣦⡀⠀⠀⠀⠀⠀⠀⠀⠀⠀⠀⠀⠀⠀⠀⠀⠀⠀⠉⠃⠷⣤⢀⠀⠀⠀⠀⠀⠀⠀⠀⠀⠀⠀⠀⠀⎥\n",
       "⎢⠀⠀⠀⠈⠻⣦⡀⠀⠀⠀⠀⠀⠀⠀⠀⠀⠀⠀⠀⠀⠀⠀⠀⠀⠀⠈⠈⠻⠰⣤⡀⠀⠀⠀⠀⠀⠀⠀⠀⠀⎥\n",
       "⎢⠀⠀⠀⠀⠀⠈⠻⣦⡀⠀⠀⠀⠀⠀⠀⠀⠀⠀⠀⠀⠀⠀⠀⠀⠀⠀⠀⠀⠀⠈⠁⠛⠆⣦⣀⠀⠀⠀⠀⠀⎥\n",
       "⎢⠀⠀⠀⠀⠀⠀⠀⠈⠻⣦⡀⠀⠀⠀⠀⠀⠀⠀⠀⠀⠀⠀⠀⠀⠀⠀⠀⠀⠀⠀⠀⠀⠀⠀⠙⠘⢶⢠⣀⠀⎥\n",
       "⎢⠰⠀⠀⠀⠀⠀⠀⠀⠀⠈⠻⣦⡀⠀⠀⠀⠀⠀⠀⠀⠀⠀⠀⠀⠀⠀⠀⠀⠀⠀⠀⠀⠀⠀⠀⠀⠀⠀⡙⣷⎥\n",
       "⎢⠀⠀⠀⠀⠀⠀⠀⠀⠀⠀⠀⠈⠻⣦⡀⠀⠀⠀⠀⠀⠀⠀⠀⠀⠀⠀⠀⠀⠀⠀⠀⠀⠀⠀⢀⣤⠰⠟⠁⠁⎥\n",
       "⎢⠀⠀⠀⠀⠀⠀⠀⠀⠀⠀⠀⠀⠀⠈⠻⣦⡀⠀⠀⠀⠀⠀⠀⠀⠀⠀⠀⠀⠀⠀⣀⡄⡴⠟⠈⠁⠀⠀⠀⠀⎥\n",
       "⎢⠀⠀⠀⠀⠀⠀⠀⠀⠀⠀⠀⠀⠀⠀⠀⠈⠻⣦⡀⠀⠀⠀⠀⠀⠀⠀⣀⢠⡶⠃⠋⠀⠀⠀⠀⠀⠀⠀⠀⠀⎥\n",
       "⎢⠀⠀⠀⠀⠀⠀⠀⠀⠀⠀⠀⠀⠀⠀⠀⠀⠀⠈⠻⣦⡀⠀⡀⣠⡶⠘⠋⠀⠀⠀⠀⠀⠀⠀⠀⠀⠀⠀⠀⠀⎥\n",
       "⎢⠄⡣⠀⠀⠀⠀⠀⠀⠀⠀⠀⠀⠀⠀⠀⠀⠀⠀⠀⠈⣻⣾⡅⠁⠀⠀⠀⠀⠀⠀⠀⠀⠀⠀⠀⠀⠀⠀⠀⠀⎥\n",
       "⎢⠀⠘⠧⠀⠀⠀⠀⠀⠀⠀⠀⠀⠀⠀⠀⠀⠀⠀⠀⣨⠅⠉⢿⣷⡄⠀⠀⠀⠀⠀⠀⠀⠀⠀⠀⠀⠀⠀⠀⠀⎥\n",
       "⎢⠀⠀⠙⣧⡀⠀⠀⠀⠀⠀⠀⠀⠀⠀⠀⠀⠀⠀⣘⠋⠀⠀⠀⠉⢻⣶⣄⠀⠀⠀⠀⠀⠀⠀⠀⠀⠀⠀⠀⠀⎥\n",
       "⎢⠀⠀⠀⠐⣦⡀⠀⠀⠀⠀⠀⠀⠀⠀⠀⠀⠀⣘⠋⠀⠀⠀⠀⠀⠀⠙⢻⣶⣄⠀⠀⠀⠀⠀⠀⠀⠀⠀⠀⠀⎥\n",
       "⎢⠀⠀⠀⠀⠐⣦⡀⠀⠀⠀⠀⠀⠀⠀⠀⠀⠼⠋⠀⠀⠀⠀⠀⠀⠀⠀⠀⠙⠻⣦⣄⠀⠀⠀⠀⠀⠀⠀⠀⠀⎥\n",
       "⎢⠀⠀⠀⠀⠀⠈⣥⠀⠀⠀⠀⠀⠀⠀⠀⠼⠋⠀⠀⠀⠀⠀⠀⠀⠀⠀⠀⠀⠀⠙⠿⣧⣄⠀⠀⠀⠀⠀⠀⠀⎥\n",
       "⎢⠀⠀⠀⠀⠀⠀⠨⣥⠀⠀⠀⠀⠀⠀⣴⠏⠀⠀⠀⠀⠀⠀⠀⠀⠀⠀⠀⠀⠀⠀⠀⠙⠿⣧⣀⠀⠀⠀⠀⠀⎥\n",
       "⎢⠀⠀⠀⠀⠀⠀⠀⠘⣓⠀⠀⠀⠀⣴⠆⠀⠀⠀⠀⠀⠀⠀⠀⠀⠀⠀⠀⠀⠀⠀⠀⠀⠀⠘⢿⣷⣀⠀⠀⠀⎥\n",
       "⎢⠀⠀⠀⠀⠀⠀⠀⠀⠘⣓⠀⠀⣴⠆⠀⠀⠀⠀⠀⠀⠀⠀⠀⠀⠀⠀⠀⠀⠀⠀⠀⠀⠀⠀⠀⠘⢿⣷⡀⠀⎥\n",
       "⎣⢠⠀⠀⠀⠀⠀⠀⠀⠀⠘⢷⣬⠅⠀⠀⠀⠀⠀⠀⠀⠀⠀⠀⠀⠀⠀⠀⠀⠀⠀⠀⠀⠀⠀⠀⠀⠀⠈⢿⣷⎦"
      ]
     },
     "metadata": {},
     "output_type": "display_data"
    }
   ],
   "source": [
    "K = FEM.heatConductionMatrix(problem)"
   ]
  },
  {
   "cell_type": "code",
   "execution_count": 43,
   "metadata": {},
   "outputs": [
    {
     "data": {
      "text/plain": [
       "(\"load\", 1, 0, 0)"
      ]
     },
     "metadata": {},
     "output_type": "display_data"
    }
   ],
   "source": [
    "supp = FEM.temperatureConstraint(\"supp\", T=10)\n",
    "supp2 = FEM.temperatureConstraint(\"load\", T=20)\n",
    "load = FEM.heatFlux(\"load\", qn=-1)"
   ]
  },
  {
   "cell_type": "code",
   "execution_count": 44,
   "metadata": {},
   "outputs": [],
   "source": [
    "#fl2(x, y, z) = (y - 5) / 5\n",
    "#load2 = FEM.load(\"load\", fx=fl2)"
   ]
  },
  {
   "cell_type": "code",
   "execution_count": null,
   "metadata": {},
   "outputs": [
    {
     "data": {
      "text/plain": [
       "124-element Vector{Float64}:\n",
       " 0.0\n",
       " 0.0\n",
       " 0.0\n",
       " 0.0\n",
       " 0.0\n",
       " 0.0\n",
       " 0.0\n",
       " 0.0\n",
       " 0.0\n",
       " 0.0\n",
       " ⋮\n",
       " 0.0\n",
       " 0.0\n",
       " 0.0\n",
       " 0.0\n",
       " 0.0\n",
       " 0.0\n",
       " 0.0\n",
       " 0.0\n",
       " 0.0"
      ]
     },
     "metadata": {},
     "output_type": "display_data"
    }
   ],
   "source": [
    "f = FEM.loadVector(problem, [load]) * 0"
   ]
  },
  {
   "cell_type": "code",
   "execution_count": 46,
   "metadata": {},
   "outputs": [
    {
     "data": {
      "text/plain": [
       "\"dof = 124\""
      ]
     },
     "metadata": {},
     "output_type": "display_data"
    },
    {
     "data": {
      "text/plain": [
       "\"nodeTags = [1, 4, 65, 66]\""
      ]
     },
     "metadata": {},
     "output_type": "display_data"
    },
    {
     "data": {
      "text/plain": [
       "\"nodeTagsX = [1, 4, 65, 66]\""
      ]
     },
     "metadata": {},
     "output_type": "display_data"
    },
    {
     "data": {
      "text/plain": [
       "\"dof = 124\""
      ]
     },
     "metadata": {},
     "output_type": "display_data"
    },
    {
     "data": {
      "text/plain": [
       "\"nodeTags = [2, 3, 34, 35]\""
      ]
     },
     "metadata": {},
     "output_type": "display_data"
    },
    {
     "data": {
      "text/plain": [
       "\"nodeTagsX = [2, 3, 34, 35]\""
      ]
     },
     "metadata": {},
     "output_type": "display_data"
    }
   ],
   "source": [
    "FEM.applyBoundaryConditions!(problem, K, f, [supp, supp2])"
   ]
  },
  {
   "cell_type": "code",
   "execution_count": 47,
   "metadata": {},
   "outputs": [
    {
     "data": {
      "text/plain": [
       "124-element Vector{Float64}:\n",
       " 10.0\n",
       " 20.0\n",
       " 20.0\n",
       " 10.0\n",
       " 10.333333333333327\n",
       " 10.666666666666655\n",
       " 10.999999999999991\n",
       " 11.333333333333323\n",
       " 11.666666666666657\n",
       " 11.999999999999988\n",
       "  ⋮\n",
       " 18.333333333333325\n",
       " 18.66666666666666\n",
       " 18.666666666666657\n",
       " 18.99999999999999\n",
       " 18.999999999999993\n",
       " 19.33333333333333\n",
       " 19.33333333333332\n",
       " 19.666666666666668\n",
       " 19.66666666666666"
      ]
     },
     "metadata": {},
     "output_type": "display_data"
    }
   ],
   "source": [
    "q = FEM.solveDisplacement(K, f)"
   ]
  },
  {
   "cell_type": "code",
   "execution_count": 48,
   "metadata": {},
   "outputs": [],
   "source": [
    "#S = FEM.solveStress(problem, q)"
   ]
  },
  {
   "cell_type": "code",
   "execution_count": 49,
   "metadata": {},
   "outputs": [],
   "source": [
    "gmsh.option.setNumber(\"View.IntervalsType\", 3)\n",
    "gmsh.option.setNumber(\"View.VectorType\", 5)"
   ]
  },
  {
   "cell_type": "code",
   "execution_count": 50,
   "metadata": {},
   "outputs": [
    {
     "data": {
      "text/plain": [
       "0"
      ]
     },
     "metadata": {},
     "output_type": "display_data"
    }
   ],
   "source": [
    "T = FEM.showDoFResults(problem, q, \"T\", name=\"T\", visible=true)"
   ]
  },
  {
   "cell_type": "code",
   "execution_count": 51,
   "metadata": {},
   "outputs": [],
   "source": [
    "FEM.plotOnPath(problem, \"path\", T, 100, name=\"T\", visible=false);"
   ]
  },
  {
   "cell_type": "code",
   "execution_count": 52,
   "metadata": {},
   "outputs": [],
   "source": [
    "#gmsh.option.setNumber(\"PostProcessing.Binary\", 1)\n",
    "#gmsh.option.setNumber(\"PostProcessing.SaveMesh\", 1)\n",
    "\n",
    "#gmsh.write(\"rect.msh\")\n",
    "#gmsh.write(\"rect.opt\")\n",
    "#gmsh.view.write(4, \"rect.pos\")"
   ]
  },
  {
   "cell_type": "code",
   "execution_count": 53,
   "metadata": {},
   "outputs": [
    {
     "name": "stdout",
     "output_type": "stream",
     "text": [
      "-------------------------------------------------------\n",
      "Version       : 4.13.1\n",
      "License       : GNU General Public License\n",
      "Build OS      : Linux64-sdk\n",
      "Build date    : 19700101\n",
      "Build host    : amdci7.julia.csail.mit.edu\n",
      "Build options : 64Bit ALGLIB[contrib] ANN[contrib] Bamg Blossom Cairo DIntegration Dlopen DomHex Eigen[contrib] Fltk GMP Gmm[contrib] Hxt Jpeg Kbipack LinuxJoystick MathEx[contrib] Mesh Metis[contrib] Mmg Mpeg Netgen Nii2mesh ONELAB ONELABMetamodel OpenCASCADE OpenCASCADE-CAF OpenGL OpenMP OptHom Parser Plugins Png Post QuadMeshingTools QuadTri Solver TetGen/BR TinyXML2[contrib] Untangle Voro++[contrib] WinslowUntangler Zlib\n",
      "FLTK version  : 1.3.8\n",
      "OCC version   : 7.7.2\n",
      "Packaged by   : root\n",
      "Web site      : https://gmsh.info\n",
      "Issue tracker : https://gitlab.onelab.info/gmsh/gmsh/issues\n",
      "-------------------------------------------------------\n"
     ]
    },
    {
     "name": "stderr",
     "output_type": "stream",
     "text": [
      "XRequest.18: BadValue 0x0\n"
     ]
    }
   ],
   "source": [
    "gmsh.fltk.run()"
   ]
  },
  {
   "cell_type": "code",
   "execution_count": 54,
   "metadata": {
    "slideshow": {
     "slide_type": ""
    },
    "tags": []
   },
   "outputs": [],
   "source": [
    "gmsh.finalize()"
   ]
  }
 ],
 "metadata": {
  "kernelspec": {
   "display_name": "Julia 1.11.1",
   "language": "julia",
   "name": "julia-1.11"
  },
  "language_info": {
   "file_extension": ".jl",
   "mimetype": "application/julia",
   "name": "julia",
   "version": "1.11.1"
  },
  "varInspector": {
   "cols": {
    "lenName": 16,
    "lenType": 16,
    "lenVar": 40
   },
   "kernels_config": {
    "python": {
     "delete_cmd_postfix": "",
     "delete_cmd_prefix": "del ",
     "library": "var_list.py",
     "varRefreshCmd": "print(var_dic_list())"
    },
    "r": {
     "delete_cmd_postfix": ") ",
     "delete_cmd_prefix": "rm(",
     "library": "var_list.r",
     "varRefreshCmd": "cat(var_dic_list()) "
    }
   },
   "types_to_exclude": [
    "module",
    "function",
    "builtin_function_or_method",
    "instance",
    "_Feature"
   ],
   "window_display": false
  }
 },
 "nbformat": 4,
 "nbformat_minor": 4
}
