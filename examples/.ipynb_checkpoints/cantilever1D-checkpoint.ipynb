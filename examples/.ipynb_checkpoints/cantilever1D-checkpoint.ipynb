{
 "cells": [
  {
   "cell_type": "code",
   "execution_count": 221,
   "metadata": {},
   "outputs": [
    {
     "name": "stderr",
     "output_type": "stream",
     "text": [
      "WARNING: replacing module FEM.\n"
     ]
    }
   ],
   "source": [
    "using LinearAlgebra, SparseArrays\n",
    "import gmsh\n",
    "gmsh.initialize()\n",
    "\n",
    "include(\"../src/FEM.jl\")\n",
    "using .FEM"
   ]
  },
  {
   "cell_type": "code",
   "execution_count": 222,
   "metadata": {},
   "outputs": [
    {
     "name": "stdout",
     "output_type": "stream",
     "text": [
      "Info    : Reading 'cantilever1D.geo'...\n",
      "Info    : Meshing 1D...\n",
      "Info    : [  0%] Meshing curve 1 (Line)\n",
      "Info    : [ 30%] Meshing curve 2 (Line)\n",
      "Info    : [ 50%] Meshing curve 3 (Line)\n",
      "Info    : [ 80%] Meshing curve 4 (Line)\n",
      "Info    : Done meshing 1D (Wall 0.000314684s, CPU 0.000297s)\n",
      "Info    : Meshing 2D...\n",
      "Info    : Meshing surface 1 (Plane, Frontal-Delaunay)\n",
      "Info    : Blossom: 3 internal 4 closed\n",
      "Info    : Blossom recombination completed (Wall 5.0274e-05s, CPU 5.3e-05s): 2 quads, 0 triangles, 0 invalid quads, 0 quads with Q < 0.1, avg Q = 1, min Q = 1\n",
      "Info    : Done meshing 2D (Wall 0.000496383s, CPU 0.000496s)\n",
      "Info    : 6 nodes 12 elements\n",
      "Info    : Done reading 'cantilever1D.geo'\n"
     ]
    }
   ],
   "source": [
    "gmsh.open(\"cantilever1D.geo\")"
   ]
  },
  {
   "cell_type": "code",
   "execution_count": 223,
   "metadata": {},
   "outputs": [
    {
     "data": {
      "text/plain": [
       "Main.FEM.Problem(\"cantilever\", \"PlaneStress\", 2, 200000.0, 0.0, 1.0, 1.0, 6)"
      ]
     },
     "metadata": {},
     "output_type": "display_data"
    }
   ],
   "source": [
    "problem = FEM.Problem(type=\"PlaneStress\", E=2.0e5, ν=0.0, ρ=1.0)"
   ]
  },
  {
   "cell_type": "code",
   "execution_count": 224,
   "metadata": {},
   "outputs": [],
   "source": [
    "#gmsh.fltk.run()"
   ]
  },
  {
   "cell_type": "code",
   "execution_count": 225,
   "metadata": {},
   "outputs": [],
   "source": [
    "# Néhány láthatósági beállítás 0:kikapcs. 1:bekapcs.\n",
    "gmsh.option.setNumber(\"Geometry.CurveLabels\", 0)\n",
    "gmsh.option.setNumber(\"Geometry.Points\", 0)\n",
    "gmsh.option.setNumber(\"Geometry.Curves\", 0)\n",
    "gmsh.option.setNumber(\"Mesh.Points\", 0)\n",
    "gmsh.option.setNumber(\"Mesh.Lines\", 0)\n",
    "gmsh.option.setNumber(\"Mesh.SurfaceEdges\", 0)\n",
    "gmsh.option.setNumber(\"Mesh.NodeLabels\", 0)\n",
    "gmsh.option.setNumber(\"Mesh.LineLabels\", 0)\n",
    "gmsh.option.setNumber(\"Mesh.SurfaceLabels\", 0)"
   ]
  },
  {
   "cell_type": "code",
   "execution_count": 226,
   "metadata": {},
   "outputs": [
    {
     "data": {
      "text/plain": [
       "12×12 SparseMatrixCSC{Float64, Int64} with 112 stored entries:\n",
       "      1.81481e5   25000.0        …   -88518.5           -25000.0\n",
       "  25000.0             3.40741e5      -25000.0               -1.69259e5\n",
       "       ⋅               ⋅             -71481.5            25000.0\n",
       "       ⋅               ⋅              25000.0          -132963.0\n",
       "       ⋅               ⋅              51481.5           -25000.0\n",
       "       ⋅               ⋅         …    25000.0           122963.0\n",
       "     -1.61481e5  -25000.0             68518.5            25000.0\n",
       "  25000.0            -3.30741e5      -25000.0                1.59259e5\n",
       "  68518.5         25000.0           -340000.0                0.0\n",
       " -25000.0             1.59259e5           3.63798e-12       -6.97778e5\n",
       " -88518.5        -25000.0        …   380000.0                0.0\n",
       " -25000.0            -1.69259e5           0.0                7.17778e5"
      ]
     },
     "metadata": {},
     "output_type": "display_data"
    }
   ],
   "source": [
    "K = FEM.stiffnessMatrix(problem)"
   ]
  },
  {
   "cell_type": "code",
   "execution_count": 227,
   "metadata": {},
   "outputs": [],
   "source": [
    "#M = FEM.massMatrix(problem, lumped=false)"
   ]
  },
  {
   "cell_type": "code",
   "execution_count": 228,
   "metadata": {},
   "outputs": [],
   "source": [
    "#dof, dof = size(M)\n",
    "#a = zeros(dof)\n",
    "#a[1:2:dof] .= 10\n",
    "#fx = M * a"
   ]
  },
  {
   "cell_type": "code",
   "execution_count": 229,
   "metadata": {},
   "outputs": [
    {
     "data": {
      "text/plain": [
       "(\"body\", 1, 0, 0)"
      ]
     },
     "metadata": {},
     "output_type": "display_data"
    }
   ],
   "source": [
    "supp1 = FEM.displacementConstraint(\"bottom\", uy=0)\n",
    "supp2 = FEM.displacementConstraint(\"left\", ux=0)\n",
    "load1 = FEM.load(\"right\", fx=10)\n",
    "#load2 = FEM.traction(\"bottom\", fx=1)\n",
    "#load3 = FEM.traction(\"top\", fx=1)\n",
    "load4 = FEM.load(\"body\", fx=1)"
   ]
  },
  {
   "cell_type": "code",
   "execution_count": 230,
   "metadata": {},
   "outputs": [
    {
     "data": {
      "text/plain": [
       "12-element Vector{Float64}:\n",
       " 125.00000000000001\n",
       "   0.0\n",
       " 125.0\n",
       "   0.0\n",
       " 125.0\n",
       "   0.0\n",
       " 125.00000000000001\n",
       "   0.0\n",
       " 250.0\n",
       "   0.0\n",
       " 250.00000000000006\n",
       "   0.0"
      ]
     },
     "metadata": {},
     "output_type": "display_data"
    }
   ],
   "source": [
    "f = FEM.loadVector(problem, [load1])\n",
    "M = FEM.massMatrix(problem, lumped=false)\n",
    "dof, dof = size(M)\n",
    "g = zeros(dof)\n",
    "FEM.nodalAcceleration!(problem, \"body\", g, ax=1)\n",
    "fx = M * g"
   ]
  },
  {
   "cell_type": "code",
   "execution_count": 231,
   "metadata": {},
   "outputs": [
    {
     "data": {
      "text/plain": [
       "(sparse([1, 2, 3, 5, 6, 9, 11, 12, 4, 3  …  5, 6, 8, 9, 11, 3, 5, 6, 8, 12], [1, 2, 3, 3, 3, 3, 3, 3, 4, 5  …  11, 11, 11, 11, 11, 12, 12, 12, 12, 12], [1.0, 1.0, 198518.51851851857, -178518.51851851854, -25000.000000000007, 51481.48148148148, -71481.48148148149, 25000.000000000007, 1.0, -178518.51851851854  …  51481.48148148148, 25000.000000000007, -25000.000000000007, -340000.0000000001, 380000.0000000001, 25000.000000000004, -25000.000000000004, 122962.96296296298, 159259.25925925927, 717777.777777778], 12, 12), [0.0, 0.0, 175.0, 0.0, 175.0, 0.0, 0.0, 0.0, 250.0, 0.0, 250.00000000000006, 0.0])"
      ]
     },
     "metadata": {},
     "output_type": "display_data"
    }
   ],
   "source": [
    "K1, f1 = FEM.applyBoundaryConditions(problem, K, f + fx, [supp1 supp2])"
   ]
  },
  {
   "cell_type": "code",
   "execution_count": 232,
   "metadata": {},
   "outputs": [
    {
     "data": {
      "text/plain": [
       "12-element Vector{Float64}:\n",
       "  0.0\n",
       "  0.0\n",
       "  0.029999999999999978\n",
       "  0.0\n",
       "  0.029999999999999985\n",
       "  1.7406569676996357e-19\n",
       "  0.0\n",
       " -3.500087448132552e-19\n",
       "  0.021249999999999998\n",
       "  0.0\n",
       "  0.021249999999999995\n",
       "  2.205710509392185e-19"
      ]
     },
     "metadata": {},
     "output_type": "display_data"
    }
   ],
   "source": [
    "q = FEM.solveDisplacement(K1, f1)"
   ]
  },
  {
   "cell_type": "code",
   "execution_count": 233,
   "metadata": {},
   "outputs": [
    {
     "data": {
      "text/plain": [
       "12-element Vector{Float64}:\n",
       " -425.0\n",
       "    1.900399827472236e-13\n",
       "  124.99999999999909\n",
       "   -2.932778047673313e-14\n",
       "  125.00000000000068\n",
       "    2.54495745410573e-13\n",
       " -425.00000000000045\n",
       "    3.512798218661628e-14\n",
       "  250.0000000000009\n",
       "   -3.4518532312110134e-13\n",
       "  249.9999999999991\n",
       "   -1.0339117626614548e-13"
      ]
     },
     "metadata": {},
     "output_type": "display_data"
    }
   ],
   "source": [
    "FT = K * q - f"
   ]
  },
  {
   "cell_type": "code",
   "execution_count": 234,
   "metadata": {},
   "outputs": [
    {
     "data": {
      "text/plain": [
       "Main.FEM.StressField([[34.99999999999993; 8.673617379884035e-14; … ; 0.0; 0.0;;], [85.0; 0.0; … ; 0.0; 0.0;;]], [7, 8], 1)"
      ]
     },
     "metadata": {},
     "output_type": "display_data"
    }
   ],
   "source": [
    "S = FEM.solveStress(problem, q)"
   ]
  },
  {
   "cell_type": "code",
   "execution_count": 235,
   "metadata": {},
   "outputs": [],
   "source": [
    "gmsh.option.setNumber(\"View.IntervalsType\", 3)\n",
    "gmsh.option.setNumber(\"View.VectorType\", 5)\n",
    "gmsh.option.setString(\"View.Format\", \"%.6g\")"
   ]
  },
  {
   "cell_type": "code",
   "execution_count": 236,
   "metadata": {},
   "outputs": [
    {
     "data": {
      "text/plain": [
       "\"ux..ok\""
      ]
     },
     "metadata": {},
     "output_type": "display_data"
    },
    {
     "data": {
      "text/plain": [
       "\"sx..ok\""
      ]
     },
     "metadata": {},
     "output_type": "display_data"
    },
    {
     "data": {
      "text/plain": [
       "\"uvec..ok\""
      ]
     },
     "metadata": {},
     "output_type": "display_data"
    }
   ],
   "source": [
    "#u = FEM.showDoFResults(problem, q, \"uvec\", name=\"uvec\", visible=false)\n",
    "ux = FEM.showDoFResults(problem, q, \"ux\", name=\"ux\", visible=false)\n",
    "#uy = FEM.showDoFResults(problem, q, \"uy\", name=\"uy\", visible=false)\n",
    "#uz = FEM.showDoFResults(problem, q, \"uz\", name=\"uz\", visible=false)\n",
    "#s = FEM.showStressResults(problem, S, \"s\", name=\"σ\", visible=true, smooth=true)\n",
    "sx = FEM.showStressResults(problem, S, \"sx\", name=\"σx\", visible=false, smooth=false)\n",
    "gmsh.view.option.setNumber(sx, \"MaxRecursionLevel\", 0)\n",
    "#sy = FEM.showStressResults(problem, S, \"sy\", name=\"σy\", visible=false, smooth=true)\n",
    "#sz = FEM.showStressResults(problem, S, \"sz\", name=\"σz\", visible=false, smooth=true)\n",
    "#sxy = FEM.showStressResults(problem, S, \"sxy\", name=\"τxy\", visible=false, smooth=true)\n",
    "#syz = FEM.showStressResults(problem, S, \"syz\", name=\"τyz\", visible=false, smooth=true)\n",
    "#szx = FEM.showStressResults(problem, S, \"szx\", name=\"τzx\", visible=false, smooth=true)\n",
    "ft = FEM.showDoFResults(problem, FT, \"uvec\", name=\"F_T\", visible=false)\n",
    "gmsh.view.option.setNumber(ft, \"MaxRecursionLevel\", 0)"
   ]
  },
  {
   "cell_type": "code",
   "execution_count": 237,
   "metadata": {},
   "outputs": [],
   "source": [
    "FEM.plotOnPath(problem, \"path\", sx, 1000, name=\"σx\", visible=true);\n",
    "#FEM.plotOnPath(problem, \"path\", sxy, 100, name=\"τxy\", visible=false);\n",
    "FEM.plotOnPath(problem, \"path\", ux, 1000, name=\"ux\", visible=true);"
   ]
  },
  {
   "cell_type": "code",
   "execution_count": 238,
   "metadata": {},
   "outputs": [],
   "source": [
    "#gmsh.option.setNumber(\"PostProcessing.Binary\", 1)\n",
    "#gmsh.option.setNumber(\"PostProcessing.SaveMesh\", 1)\n",
    "\n",
    "#gmsh.write(\"rect.msh\")\n",
    "#gmsh.write(\"rect.opt\")\n",
    "#gmsh.view.write(4, \"rect.pos\")"
   ]
  },
  {
   "cell_type": "code",
   "execution_count": 239,
   "metadata": {},
   "outputs": [
    {
     "name": "stdout",
     "output_type": "stream",
     "text": [
      "-------------------------------------------------------\n",
      "Version       : 4.12.2\n",
      "License       : GNU General Public License\n",
      "Build OS      : Linux64-sdk\n",
      "Build date    : 20240121\n",
      "Build host    : gmsh.info\n",
      "Build options : 64Bit ALGLIB[contrib] ANN[contrib] Bamg Blas[petsc] Blossom Cgns DIntegration Dlopen DomHex Eigen[contrib] Fltk Gmm[contrib] Hxt Jpeg Kbipack Lapack[petsc] LinuxJoystick MathEx[contrib] Med Mesh Metis[contrib] Mmg Mpeg Netgen ONELAB ONELABMetamodel OpenCASCADE OpenCASCADE-CAF OpenGL OpenMP OptHom PETSc Parser Plugins Png Post QuadMeshingTools QuadTri Solver TetGen/BR Voro++[contrib] WinslowUntangler Zlib\n",
      "FLTK version  : 1.4.0\n",
      "PETSc version : 3.14.4 (real arithmtic)\n",
      "OCC version   : 7.7.2\n",
      "MED version   : 4.1.0\n",
      "Packaged by   : geuzaine\n",
      "Web site      : https://gmsh.info\n",
      "Issue tracker : https://gitlab.onelab.info/gmsh/gmsh/issues\n",
      "-------------------------------------------------------\n"
     ]
    }
   ],
   "source": [
    "gmsh.fltk.run()"
   ]
  },
  {
   "cell_type": "code",
   "execution_count": 240,
   "metadata": {
    "slideshow": {
     "slide_type": ""
    },
    "tags": []
   },
   "outputs": [],
   "source": [
    "gmsh.finalize()"
   ]
  }
 ],
 "metadata": {
  "kernelspec": {
   "display_name": "Julia 1.10.0",
   "language": "julia",
   "name": "julia-1.10"
  },
  "language_info": {
   "file_extension": ".jl",
   "mimetype": "application/julia",
   "name": "julia",
   "version": "1.10.0"
  },
  "varInspector": {
   "cols": {
    "lenName": 16,
    "lenType": 16,
    "lenVar": 40
   },
   "kernels_config": {
    "python": {
     "delete_cmd_postfix": "",
     "delete_cmd_prefix": "del ",
     "library": "var_list.py",
     "varRefreshCmd": "print(var_dic_list())"
    },
    "r": {
     "delete_cmd_postfix": ") ",
     "delete_cmd_prefix": "rm(",
     "library": "var_list.r",
     "varRefreshCmd": "cat(var_dic_list()) "
    }
   },
   "types_to_exclude": [
    "module",
    "function",
    "builtin_function_or_method",
    "instance",
    "_Feature"
   ],
   "window_display": false
  }
 },
 "nbformat": 4,
 "nbformat_minor": 4
}
