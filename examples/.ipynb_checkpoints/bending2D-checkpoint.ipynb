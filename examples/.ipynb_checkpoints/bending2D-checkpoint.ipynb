{
 "cells": [
  {
   "cell_type": "code",
   "execution_count": 51,
   "metadata": {},
   "outputs": [
    {
     "name": "stderr",
     "output_type": "stream",
     "text": [
      "WARNING: replacing module FEM.\n"
     ]
    }
   ],
   "source": [
    "using LinearAlgebra, SparseArrays\n",
    "import gmsh\n",
    "gmsh.initialize()\n",
    "\n",
    "include(\"../src/FEM.jl\")\n",
    "using .FEM"
   ]
  },
  {
   "cell_type": "code",
   "execution_count": 52,
   "metadata": {},
   "outputs": [
    {
     "data": {
      "text/plain": [
       "Main.FEM.Problem(\"bending2D\", \"PlaneStress\", 2, 200000.0, 0.3, 7.85e-9, 1.0)"
      ]
     },
     "metadata": {},
     "output_type": "display_data"
    }
   ],
   "source": [
    "problem = FEM.Problem(\"bending2D\", type=\"PlaneStress\")"
   ]
  },
  {
   "cell_type": "code",
   "execution_count": 53,
   "metadata": {},
   "outputs": [
    {
     "name": "stdout",
     "output_type": "stream",
     "text": [
      "Info    : Reading 'bending2D.geo'...\n",
      "Info    : Meshing 1D...\n",
      "Info    : [  0%] Meshing curve 1 (Line)\n",
      "Info    : [ 30%] Meshing curve 2 (Line)\n",
      "Info    : [ 50%] Meshing curve 3 (Line)\n",
      "Info    : [ 80%] Meshing curve 4 (Line)\n",
      "Info    : Done meshing 1D (Wall 0.000535309s, CPU 0.000511s)\n",
      "Info    : Meshing 2D...\n",
      "Info    : Meshing surface 1 (Plane, Frontal-Delaunay)\n",
      "Info    : Done meshing 2D (Wall 0.0144475s, CPU 0.014443s)\n",
      "Info    : Meshing order 3 (curvilinear on)...\n",
      "Info    : [  0%] Meshing curve 1 order 3\n",
      "Info    : [ 20%] Meshing curve 2 order 3\n",
      "Info    : [ 40%] Meshing curve 3 order 3\n",
      "Info    : [ 60%] Meshing curve 4 order 3\n",
      "Info    : [ 80%] Meshing surface 1 order 3\n",
      "Info    : Surface mesh: worst distortion = 1 (0 elements in ]0, 0.2]); worst gamma = 0.910792\n",
      "Info    : Done meshing order 3 (Wall 0.00672967s, CPU 0.006725s)\n",
      "Info    : 1393 nodes 364 elements\n",
      "Info    : Done reading 'bending2D.geo'\n"
     ]
    }
   ],
   "source": [
    "gmsh.open(\"bending2D.geo\")"
   ]
  },
  {
   "cell_type": "code",
   "execution_count": 54,
   "metadata": {},
   "outputs": [
    {
     "name": "stdout",
     "output_type": "stream",
     "text": [
      "-------------------------------------------------------\n",
      "Version       : 4.12.2\n",
      "License       : GNU General Public License\n",
      "Build OS      : Linux64-sdk\n",
      "Build date    : 20240121\n",
      "Build host    : gmsh.info\n",
      "Build options : 64Bit ALGLIB[contrib] ANN[contrib] Bamg Blas[petsc] Blossom Cgns DIntegration Dlopen DomHex Eigen[contrib] Fltk Gmm[contrib] Hxt Jpeg Kbipack Lapack[petsc] LinuxJoystick MathEx[contrib] Med Mesh Metis[contrib] Mmg Mpeg Netgen ONELAB ONELABMetamodel OpenCASCADE OpenCASCADE-CAF OpenGL OpenMP OptHom PETSc Parser Plugins Png Post QuadMeshingTools QuadTri Solver TetGen/BR Voro++[contrib] WinslowUntangler Zlib\n",
      "FLTK version  : 1.4.0\n",
      "PETSc version : 3.14.4 (real arithmtic)\n",
      "OCC version   : 7.7.2\n",
      "MED version   : 4.1.0\n",
      "Packaged by   : geuzaine\n",
      "Web site      : https://gmsh.info\n",
      "Issue tracker : https://gitlab.onelab.info/gmsh/gmsh/issues\n",
      "-------------------------------------------------------\n"
     ]
    }
   ],
   "source": [
    "gmsh.fltk.run()"
   ]
  },
  {
   "cell_type": "code",
   "execution_count": 55,
   "metadata": {},
   "outputs": [],
   "source": [
    "# Néhány láthatósági beállítás 0:kikapcs. 1:bekapcs.\n",
    "gmsh.option.setNumber(\"Geometry.CurveLabels\", 0)\n",
    "gmsh.option.setNumber(\"Geometry.Points\", 0)\n",
    "gmsh.option.setNumber(\"Geometry.Curves\", 0)\n",
    "gmsh.option.setNumber(\"Mesh.Points\", 0)\n",
    "gmsh.option.setNumber(\"Mesh.Lines\", 0)\n",
    "gmsh.option.setNumber(\"Mesh.SurfaceEdges\", 0)\n",
    "gmsh.option.setNumber(\"Mesh.NodeLabels\", 0)\n",
    "gmsh.option.setNumber(\"Mesh.LineLabels\", 0)\n",
    "gmsh.option.setNumber(\"Mesh.SurfaceLabels\", 0)"
   ]
  },
  {
   "cell_type": "code",
   "execution_count": 56,
   "metadata": {},
   "outputs": [
    {
     "data": {
      "text/plain": [
       "2786×2786 SparseMatrixCSC{Float64, Int64} with 89188 stored entries:\n",
       "⎡⣿⣿⡲⠍⠉⠀⠹⣿⡷⠼⠨⢭⠐⢲⢴⣺⣗⡆⡷⢚⡷⣓⠦⠦⠖⠤⠔⠄⠀⠀⠀⠀⠀⠀⠀⠀⠬⠥⠁⠀⎤\n",
       "⎢⡜⠎⠛⣤⣀⡀⠰⣹⣫⣬⢰⣀⣈⡙⣚⠑⠉⣃⢚⣉⠛⣁⣒⣦⢏⡄⢀⠄⠀⠀⠀⠀⠀⠀⠀⢀⢤⠤⣄⠤⎥\n",
       "⎢⠃⠀⠀⠸⡿⣯⢉⡿⡧⠝⠠⠒⠲⠄⠯⠁⠈⢭⣭⣝⣉⣛⢽⡁⠡⠄⠀⠀⠀⠀⠀⠀⠀⠀⠀⠨⠙⠉⠀⠀⎥\n",
       "⎢⣷⣦⣔⣢⣧⡴⣛⣼⣷⣿⣦⣤⣤⣴⣶⣷⣼⣤⢟⡦⣞⢷⡶⣷⣧⣶⣶⣶⣤⣴⣶⣶⣶⣶⣶⣶⣻⣋⣧⣭⎥\n",
       "⎢⣙⡏⡋⣾⣍⠏⣽⣿⣿⣿⡿⡒⠻⠽⠟⠟⠯⠽⠫⠟⠽⡿⠿⢿⣿⣟⣿⠻⠷⠿⠿⠿⠿⠿⠿⢿⣦⣤⣴⣦⎥\n",
       "⎢⡆⣆⠐⢲⢠⠂⠈⣿⢻⠫⢿⣷⣁⠀⠀⠀⡀⠁⠀⠀⡀⠁⠀⠘⢓⢿⢉⡂⠀⠀⠀⠀⠀⠀⠀⠐⠠⠀⠤⠀⎥\n",
       "⎢⢰⣀⣆⠸⠘⠆⢀⣿⣟⡆⠁⠘⠻⣦⣁⢀⠲⡠⡀⠼⣐⡞⠂⠀⠉⠈⠀⡠⠘⠂⣈⣄⠀⠀⠀⠀⠀⠀⠀⠀⎥\n",
       "⎢⣰⣳⢞⠘⠏⠃⢼⣿⣿⠅⠀⠀⠁⢘⢻⣶⡴⡟⡯⠈⠀⢨⢂⡆⠚⠐⠒⠀⠄⠡⠄⠌⢀⠀⠀⠈⠀⠀⠀⠀⎥\n",
       "⎢⠹⠽⠧⢠⡆⣄⠒⣿⣏⡇⠄⠈⠘⡢⣴⠯⠿⣧⡥⠰⠉⠄⣐⠂⢀⡄⣀⠑⠚⣁⠀⠈⠀⠁⢀⡂⠀⠀⠀⠀⎥\n",
       "⎢⣹⢋⡞⢰⣇⢿⠻⡵⣯⠆⠀⠀⣀⡌⡋⠋⢁⡋⡻⣮⡾⣥⢓⣃⠠⠀⠠⠀⠄⠠⣁⠈⡈⠂⠲⠀⠀⠀⠀⠀⎥\n",
       "⎢⢽⢫⠟⢠⣧⢸⢾⣝⣷⡧⠄⠈⣰⠼⡀⣀⠃⠄⠞⣯⣻⣾⢯⠀⢴⠂⠠⠂⡁⢀⠐⠀⠂⢐⠁⡰⠄⠀⠀⠀⎥\n",
       "⎢⠨⡇⠸⣼⠗⠳⢼⣯⣿⣇⣀⠀⠈⠀⠨⠴⠰⠘⠽⢰⠋⠓⢿⣷⣄⣄⡈⢡⡄⠐⢦⠈⡟⠗⠈⢁⡤⣀⠀⠀⎥\n",
       "⎢⠘⡅⠋⠵⠁⠆⢩⣿⣿⢿⣽⣔⡃⠀⢚⠀⠀⠴⠀⠂⠰⠓⠀⢽⣻⣾⣟⣄⠂⠀⠀⠀⠀⠀⠀⢺⠉⠉⢠⡄⎥\n",
       "⎢⠐⠅⠀⠔⠀⠀⢸⣿⣿⡛⠣⠰⠀⡠⠘⠀⢄⠘⠀⠂⠠⠂⠆⣈⠛⢽⣻⣾⣄⠀⢠⡤⡄⠄⣀⣸⠂⠀⠀⠀⎥\n",
       "⎢⠀⠀⠀⠀⠀⠀⢀⣿⣽⡇⠀⠀⠲⠀⠄⡁⠞⢠⠀⡁⠁⢈⢀⠉⠈⠀⠀⠙⡿⣯⣺⡴⣕⡀⢣⡇⠀⠀⠀⠀⎥\n",
       "⎢⠀⠀⠀⠀⠀⠀⢸⣿⣿⡇⠀⠀⠂⢼⡀⠅⡀⠀⡁⠘⠐⠀⡈⠓⠀⠀⠀⡶⢚⡾⣿⣿⣏⡽⡟⠁⠀⠀⠀⠀⎥\n",
       "⎢⠀⠀⠀⠀⠀⠀⢸⣿⣿⡇⠀⠀⠀⠀⠀⠐⠄⠀⠢⠈⢈⢀⢿⠍⠀⠀⠀⠍⠑⠹⣏⡽⣿⣿⣿⠃⠀⠀⠀⠀⎥\n",
       "⎢⠀⠀⠀⢀⡀⡀⢸⣿⣿⣇⢀⠀⠀⠀⡀⠀⠠⠰⠘⠂⢁⡠⠆⢀⣠⣀⣀⣸⠭⠶⠟⠉⠿⠛⣻⣾⡀⠀⢀⠀⎥\n",
       "⎢⠆⡇⠀⡗⡗⠀⡿⢺⠈⣿⠀⠂⠀⠀⠀⠀⠀⠀⠀⠀⠀⠁⠀⢫⡇⠀⠈⠀⠀⠀⠀⠀⠀⠀⠀⠈⣿⣿⣿⢽⎥\n",
       "⎣⠁⠀⠀⡝⠀⠀⡍⣿⠰⣿⠀⠃⠀⠀⠀⠀⠀⠀⠀⠀⠀⠀⠀⠀⠀⠶⠀⠀⠀⠀⠀⠀⠀⠀⠀⠐⣟⣟⣿⣿⎦"
      ]
     },
     "metadata": {},
     "output_type": "display_data"
    }
   ],
   "source": [
    "K = FEM.stiffnessMatrix(problem)"
   ]
  },
  {
   "cell_type": "code",
   "execution_count": 57,
   "metadata": {},
   "outputs": [
    {
     "data": {
      "text/plain": [
       "(\"load\", 0, -1, 0)"
      ]
     },
     "metadata": {},
     "output_type": "display_data"
    }
   ],
   "source": [
    "supp = FEM.displacementConstraint(\"supp\", ux=0, uy=0)\n",
    "load = FEM.traction(\"load\", fy=-1)"
   ]
  },
  {
   "cell_type": "code",
   "execution_count": 58,
   "metadata": {},
   "outputs": [
    {
     "data": {
      "text/plain": [
       "(sparse([1, 2, 3, 4, 73, 74, 207, 208, 209, 210  …  2699, 2700, 2701, 2702, 2769, 2770, 2771, 2772, 2785, 2786], [1, 2, 3, 3, 3, 3, 3, 3, 3, 3  …  2786, 2786, 2786, 2786, 2786, 2786, 2786, 2786, 2786, 2786], [1.0, 1.0, 98557.30313098678, -39807.27059513594, -9042.068985751785, -1181.5561965250201, 36627.44319159067, 2084.9035712093805, -68002.21221496687, -11587.389560000709  …  7137.150062925222, -244246.91112433732, -152254.78465792598, -128837.18956576491, 136681.46488126213, -101472.51191313771, 7137.150062921264, -244246.91112433746, 16872.339427481325, 949113.2252064617], 2786, 2786), [0.0; 0.0; … ; 0.0; 0.0;;])"
      ]
     },
     "metadata": {},
     "output_type": "display_data"
    }
   ],
   "source": [
    "K, f = FEM.applyBoundaryConditions!(problem, K, [supp], [load])"
   ]
  },
  {
   "cell_type": "code",
   "execution_count": 59,
   "metadata": {},
   "outputs": [
    {
     "data": {
      "text/plain": [
       "2786×1 Matrix{Float64}:\n",
       "  0.0\n",
       "  0.0\n",
       " -0.015004318788476129\n",
       " -0.20119870003235366\n",
       "  0.015004312964285362\n",
       " -0.20119870387331618\n",
       "  0.0\n",
       "  0.0\n",
       " -0.00087141735835065\n",
       " -0.00044823840706584035\n",
       "  ⋮\n",
       " -0.19712432128640095\n",
       " -0.006882783907138224\n",
       " -0.19722787949595008\n",
       "  0.0001619154518630002\n",
       " -5.0380382508802494e-5\n",
       "  7.67979757924978e-5\n",
       " -0.19313811732740332\n",
       " -3.908814352008205e-6\n",
       " -0.00018560659050654934"
      ]
     },
     "metadata": {},
     "output_type": "display_data"
    }
   ],
   "source": [
    "q = FEM.solveDisplacement(K, f)"
   ]
  },
  {
   "cell_type": "code",
   "execution_count": 60,
   "metadata": {},
   "outputs": [
    {
     "data": {
      "text/plain": [
       "Main.FEM.StressField([[-13.647588249525281, -1.1252665411165395, 0.0, -1.1252665411165395, 3.0047964116874937e-11, 0.0, 0.0, 0.0, 0.0, -14.504619192270017  …  0.0, -18.79308096000979, -0.8345826970656834, 0.0, -0.8345826970656834, 7.292833004157728e-12, 0.0, 0.0, 0.0, 0.0], [0.01624219285132577, -1.4999995033314133, 0.0, -1.4999995033314133, -2.0952795921902467e-11, 0.0, 0.0, 0.0, 0.0, -14.504619192280325  …  0.0, -9.381250668844329, -1.3341491205582559, 0.0, -1.3341491205582559, 2.2661872378648695e-12, 0.0, 0.0, 0.0, 0.0], [0.016242192847021625, -1.4999995033285742, 0.0, -1.4999995033285742, -1.1806853238149895e-11, 0.0, 0.0, 0.0, 0.0, -13.64758824954584  …  0.0, -4.485768046633069, -1.4595712834807892, 0.0, -1.4595712834807892, -1.8762769116165146e-13, 0.0, 0.0, 0.0, 0.0], [0.016242192842511, -1.499999503332876, 0.0, -1.499999503332876, -2.440862182512271e-11, 0.0, 0.0, 0.0, 0.0, 0.17795622993993396  …  0.0, 4.608686324326376, -1.4573669545767296, 0.0, -1.4573669545767296, -5.1523230126804265e-12, 0.0, 0.0, 0.0, 0.0], [-0.029628423039782668, -1.5026191131915905, 0.0, -1.5026191131915905, -0.0003099596461369706, 0.0, 0.0, 0.0, 0.0, -0.026196750065291936  …  0.0, 0.706157603665008, -1.4684134543339011, 0.0, -1.4684134543339011, 0.0053158615977713375, 0.0, 0.0, 0.0, 0.0], [-7.0586425420684344, -1.8735721010942248e-5, 0.0, -1.8735721010942248e-5, -3.037123086357951e-7, 0.0, 0.0, 0.0, 0.0, -3.1099526399677746  …  0.0, -4.717315026267932, -0.830804030672333, 0.0, -0.830804030672333, -8.53994457983287e-5, 0.0, 0.0, 0.0, 0.0], [24.705882353923688, -1.6899135550499767e-11, 0.0, -1.6899135550499767e-11, -1.8825829783963854e-11, 0.0, 0.0, 0.0, 0.0, 12.895909800966178  …  0.0, 16.510248769507424, -0.8299475061406532, 0.0, -0.8299475061406532, 1.305178187749334e-11, 0.0, 0.0, 0.0, 0.0], [-56.218284490624804, -0.004280974062549425, 0.0, -0.004280974062549425, -0.004468764879273834, 0.0, 0.0, 0.0, 0.0, -27.461134719598057  …  0.0, -37.30307901260637, -0.7630707484759044, 0.0, -0.7630707484759044, 0.05870911866806061, 0.0, 0.0, 0.0, 0.0], [3.5713626626362207, -0.0015578660919936282, 0.0, -0.0015578660919936282, -0.0009122884380414753, 0.0, 0.0, 0.0, 0.0, 2.1680507432925715  …  0.0, 2.301552250650674, -0.8297007894311084, 0.0, -0.8297007894311084, 0.014097383644007255, 0.0, 0.0, 0.0, 0.0], [-56.340833794594154, -0.030690318161429635, 0.0, -0.030690318161429635, -0.040572340415764074, 0.0, 0.0, 0.0, 0.0, -28.328702357433983  …  0.0, -47.36564954648716, -0.3131139591894436, 0.0, -0.3131139591894436, 0.047552195579196876, 0.0, 0.0, 0.0, 0.0]  …  [-14.776030012241149, -1.2206240750500035, 0.0, -1.2206240750500035, -0.9053105456982942, 0.0, 0.0, 0.0, 0.0, -38.65328768764637  …  0.0, -27.325277137484285, -1.3202510921556412, 0.0, -1.3202510921556412, -0.5358388982136457, 0.0, 0.0, 0.0, 0.0], [0.19015482467238654, -1.4703890067564527, 0.0, -1.4703890067564527, -0.0638043377792554, 0.0, 0.0, 0.0, 0.0, 0.5448405394815559  …  0.0, 0.6087103029561751, -1.196485364957537, 0.0, -1.196485364957537, 0.01202643430982156, 0.0, 0.0, 0.0, 0.0], [1.1853459554698613, -1.129159914156484, 0.0, -1.129159914156484, 0.05133317828694839, 0.0, 0.0, 0.0, 0.0, 0.01113752828895958  …  0.0, 0.40788770630140286, -1.4670302843548644, 0.0, -1.4670302843548644, 0.021801405050309502, 0.0, 0.0, 0.0, 0.0], [-28.14513619421735, -1.1061455140746579, 0.0, -1.1061455140746579, 0.11294618739036721, 0.0, 0.0, 0.0, 0.0, -0.06919380562118779  …  0.0, -14.522063826227619, -1.5484213023100777, 0.0, -1.5484213023100777, -0.15183762647719412, 0.0, 0.0, 0.0, 0.0], [-27.624099762431438, 1.0051597647093202, 0.0, 1.0051597647093202, -8.769935510302608, 0.0, 0.0, 0.0, 0.0, -39.01247843994914  …  0.0, -27.351478006773952, -1.2591208912190837, 0.0, -1.2591208912190837, -2.846985219244245, 0.0, 0.0, 0.0, 0.0], [-0.003368186544186691, -1.0144430696248705, 0.0, -1.0144430696248705, -1.2462106244097089, 0.0, 0.0, 0.0, 0.0, 0.568310978067637  …  0.0, 0.15507244704185771, -1.2255779039338017, 0.0, -1.2255779039338017, -0.2811855706090698, 0.0, 0.0, 0.0, 0.0], [-0.1879445515763125, -1.4788664031198329, 0.0, -1.4788664031198329, 0.06620809016920992, 0.0, 0.0, 0.0, 0.0, -0.5568249707466563  …  0.0, -0.14378350118582434, -1.2316607288424897, 0.0, -1.2316607288424897, 0.2950735750793281, 0.0, 0.0, 0.0, 0.0], [13.908142770874282, -1.1241814485898385, 0.0, -1.1241814485898385, 0.9501581410409736, 0.0, 0.0, 0.0, 0.0, 38.844282736377416  …  0.0, 26.983397795158417, -1.2138372749576458, 0.0, -1.2138372749576458, 2.9260146913543785, 0.0, 0.0, 0.0, 0.0], [0.18504654473951415, -1.463586796193318, 0.0, -1.463586796193318, -0.055116743165156815, 0.0, 0.0, 0.0, 0.0, 0.0019773122173604714  …  0.0, 0.00553888799290992, -1.583992447894334, 0.0, -1.583992447894334, -0.0011990583372851647, 0.0, 0.0, 0.0, 0.0], [-14.846007893071725, -1.190044743313109, 0.0, -1.190044743313109, -0.8812212353293769, 0.0, 0.0, 0.0, 0.0, -0.10015138957682938  …  0.0, -0.31621222777209756, -1.409842967678133, 0.0, -1.409842967678133, -0.016306931000779373, 0.0, 0.0, 0.0, 0.0]], [9, 10, 11, 12, 13, 14, 15, 16, 17, 18  …  283, 284, 285, 286, 287, 288, 289, 290, 291, 292])"
      ]
     },
     "metadata": {},
     "output_type": "display_data"
    }
   ],
   "source": [
    "S = FEM.solveStress(problem, q)"
   ]
  },
  {
   "cell_type": "code",
   "execution_count": 61,
   "metadata": {},
   "outputs": [],
   "source": [
    "gmsh.option.setNumber(\"View.IntervalsType\", 3)\n",
    "gmsh.option.setNumber(\"View.VectorType\", 5)\n",
    "gmsh.option.setString(\"View.Format\", \"%.6g\")"
   ]
  },
  {
   "cell_type": "code",
   "execution_count": 62,
   "metadata": {},
   "outputs": [
    {
     "data": {
      "text/plain": [
       "\"uvec..ok\""
      ]
     },
     "metadata": {},
     "output_type": "display_data"
    },
    {
     "data": {
      "text/plain": [
       "\"ux..ok\""
      ]
     },
     "metadata": {},
     "output_type": "display_data"
    },
    {
     "data": {
      "text/plain": [
       "\"uy..ok\""
      ]
     },
     "metadata": {},
     "output_type": "display_data"
    },
    {
     "data": {
      "text/plain": [
       "\"uz..ok\""
      ]
     },
     "metadata": {},
     "output_type": "display_data"
    },
    {
     "data": {
      "text/plain": [
       "\"s..ok\""
      ]
     },
     "metadata": {},
     "output_type": "display_data"
    },
    {
     "data": {
      "text/plain": [
       "\"sx..ok\""
      ]
     },
     "metadata": {},
     "output_type": "display_data"
    },
    {
     "data": {
      "text/plain": [
       "\"sy..ok\""
      ]
     },
     "metadata": {},
     "output_type": "display_data"
    },
    {
     "data": {
      "text/plain": [
       "\"sz..ok\""
      ]
     },
     "metadata": {},
     "output_type": "display_data"
    },
    {
     "data": {
      "text/plain": [
       "\"sxy..ok\""
      ]
     },
     "metadata": {},
     "output_type": "display_data"
    },
    {
     "data": {
      "text/plain": [
       "\"syz..ok\""
      ]
     },
     "metadata": {},
     "output_type": "display_data"
    },
    {
     "data": {
      "text/plain": [
       "\"szx..ok\""
      ]
     },
     "metadata": {},
     "output_type": "display_data"
    },
    {
     "name": "stdout",
     "output_type": "stream",
     "text": [
      "Info    : Running Plugin(Smooth)...\n",
      "Info    : Done running Plugin(Smooth)\n",
      "Info    : Running Plugin(Smooth)...\n",
      "Info    : Done running Plugin(Smooth)\n",
      "Info    : Running Plugin(Smooth)...\n",
      "Info    : Done running Plugin(Smooth)\n",
      "Info    : Running Plugin(Smooth)...\n",
      "Info    : Done running Plugin(Smooth)\n",
      "Info    : Running Plugin(Smooth)...\n",
      "Info    : Done running Plugin(Smooth)\n",
      "Info    : Running Plugin(Smooth)...\n",
      "Info    : Done running Plugin(Smooth)\n",
      "Info    : Running Plugin(Smooth)...\n",
      "Info    : Done running Plugin(Smooth)\n"
     ]
    },
    {
     "data": {
      "text/plain": [
       "10"
      ]
     },
     "metadata": {},
     "output_type": "display_data"
    }
   ],
   "source": [
    "u = FEM.showDoFResults(problem, q, \"uvec\", name=\"uvec\", visible=false)\n",
    "ux = FEM.showDoFResults(problem, q, \"ux\", name=\"ux\", visible=false)\n",
    "uy = FEM.showDoFResults(problem, q, \"uy\", name=\"uy\", visible=false)\n",
    "uz = FEM.showDoFResults(problem, q, \"uz\", name=\"uz\", visible=false)\n",
    "s = FEM.showStressResults(problem, S, \"s\", name=\"σ\", visible=true, smooth=true)\n",
    "sx = FEM.showStressResults(problem, S, \"sx\", name=\"σx\", visible=false, smooth=true)\n",
    "sy = FEM.showStressResults(problem, S, \"sy\", name=\"σy\", visible=false, smooth=true)\n",
    "sz = FEM.showStressResults(problem, S, \"sz\", name=\"σz\", visible=false, smooth=true)\n",
    "sxy = FEM.showStressResults(problem, S, \"sxy\", name=\"τxy\", visible=false, smooth=true)\n",
    "syz = FEM.showStressResults(problem, S, \"syz\", name=\"τyz\", visible=false, smooth=true)\n",
    "szx = FEM.showStressResults(problem, S, \"szx\", name=\"τzx\", visible=false, smooth=true)"
   ]
  },
  {
   "cell_type": "code",
   "execution_count": 63,
   "metadata": {},
   "outputs": [],
   "source": [
    "FEM.plotOnPath(problem, \"path\", sx, 100, name=\"σx\", visible=false);\n",
    "FEM.plotOnPath(problem, \"path\", sxy, 100, name=\"τxy\", visible=false);\n",
    "FEM.plotOnPath(problem, \"path\", ux, 100, name=\"ux\", visible=false);"
   ]
  },
  {
   "cell_type": "code",
   "execution_count": 64,
   "metadata": {},
   "outputs": [],
   "source": [
    "#gmsh.option.setNumber(\"PostProcessing.Binary\", 1)\n",
    "#gmsh.option.setNumber(\"PostProcessing.SaveMesh\", 1)\n",
    "\n",
    "#gmsh.write(\"rect.msh\")\n",
    "#gmsh.write(\"rect.opt\")\n",
    "#gmsh.view.write(4, \"rect.pos\")"
   ]
  },
  {
   "cell_type": "code",
   "execution_count": 65,
   "metadata": {},
   "outputs": [
    {
     "name": "stdout",
     "output_type": "stream",
     "text": [
      "-------------------------------------------------------\n",
      "Version       : 4.12.2\n",
      "License       : GNU General Public License\n",
      "Build OS      : Linux64-sdk\n",
      "Build date    : 20240121\n",
      "Build host    : gmsh.info\n",
      "Build options : 64Bit ALGLIB[contrib] ANN[contrib] Bamg Blas[petsc] Blossom Cgns DIntegration Dlopen DomHex Eigen[contrib] Fltk Gmm[contrib] Hxt Jpeg Kbipack Lapack[petsc] LinuxJoystick MathEx[contrib] Med Mesh Metis[contrib] Mmg Mpeg Netgen ONELAB ONELABMetamodel OpenCASCADE OpenCASCADE-CAF OpenGL OpenMP OptHom PETSc Parser Plugins Png Post QuadMeshingTools QuadTri Solver TetGen/BR Voro++[contrib] WinslowUntangler Zlib\n",
      "FLTK version  : 1.4.0\n",
      "PETSc version : 3.14.4 (real arithmtic)\n",
      "OCC version   : 7.7.2\n",
      "MED version   : 4.1.0\n",
      "Packaged by   : geuzaine\n",
      "Web site      : https://gmsh.info\n",
      "Issue tracker : https://gitlab.onelab.info/gmsh/gmsh/issues\n",
      "-------------------------------------------------------\n"
     ]
    }
   ],
   "source": [
    "gmsh.fltk.run()"
   ]
  },
  {
   "cell_type": "code",
   "execution_count": 66,
   "metadata": {
    "slideshow": {
     "slide_type": ""
    },
    "tags": []
   },
   "outputs": [],
   "source": [
    "gmsh.finalize()"
   ]
  }
 ],
 "metadata": {
  "kernelspec": {
   "display_name": "Julia 1.10.0",
   "language": "julia",
   "name": "julia-1.10"
  },
  "language_info": {
   "file_extension": ".jl",
   "mimetype": "application/julia",
   "name": "julia",
   "version": "1.10.0"
  },
  "varInspector": {
   "cols": {
    "lenName": 16,
    "lenType": 16,
    "lenVar": 40
   },
   "kernels_config": {
    "python": {
     "delete_cmd_postfix": "",
     "delete_cmd_prefix": "del ",
     "library": "var_list.py",
     "varRefreshCmd": "print(var_dic_list())"
    },
    "r": {
     "delete_cmd_postfix": ") ",
     "delete_cmd_prefix": "rm(",
     "library": "var_list.r",
     "varRefreshCmd": "cat(var_dic_list()) "
    }
   },
   "types_to_exclude": [
    "module",
    "function",
    "builtin_function_or_method",
    "instance",
    "_Feature"
   ],
   "window_display": false
  }
 },
 "nbformat": 4,
 "nbformat_minor": 4
}
