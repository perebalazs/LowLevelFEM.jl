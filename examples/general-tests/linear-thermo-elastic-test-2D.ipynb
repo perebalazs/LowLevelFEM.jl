{
 "cells": [
  {
   "cell_type": "code",
   "execution_count": 1,
   "id": "e95346f2",
   "metadata": {},
   "outputs": [
    {
     "name": "stdout",
     "output_type": "stream",
     "text": [
      "Info    : Increasing process stack size (8192 kB < 16 MB)\n"
     ]
    }
   ],
   "source": [
    "using LowLevelFEM\n",
    "import LowLevelFEM as FEM\n",
    "gmsh.initialize()"
   ]
  },
  {
   "cell_type": "code",
   "execution_count": 2,
   "id": "c376ef73",
   "metadata": {},
   "outputs": [
    {
     "name": "stdout",
     "output_type": "stream",
     "text": [
      "Info    : Reading 'body1-2D.geo'...\n",
      "Info    : Meshing 1D...\n",
      "Info    : [  0%] Meshing curve 1 (Line)\n",
      "Info    : [ 30%] Meshing curve 2 (Line)\n",
      "Info    : [ 60%] Meshing curve 3 (Line)\n",
      "Info    : [ 80%] Meshing curve 4 (Line)\n",
      "Info    : Done meshing 1D (Wall 0.00136627s, CPU 0.001335s)\n",
      "Info    : Meshing 2D...\n",
      "Info    : Meshing surface 1 (Plane, Frontal-Delaunay)\n",
      "Info    : Done meshing 2D (Wall 0.0198647s, CPU 0.018858s)\n",
      "Info    : Meshing order 2 (curvilinear on)...\n",
      "Info    : [  0%] Meshing curve 1 order 2\n",
      "Info    : [ 30%] Meshing curve 2 order 2\n",
      "Info    : [ 50%] Meshing curve 3 order 2\n",
      "Info    : [ 70%] Meshing curve 4 order 2\n",
      "Info    : [ 90%] Meshing surface 1 order 2\n",
      "Info    : Surface mesh: worst distortion = 1 (0 elements in ]0, 0.2]); worst gamma = 0.781163\n",
      "Info    : Done meshing order 2 (Wall 0.00300526s, CPU 0.002849s)\n",
      "Info    : 357 nodes 198 elements\n",
      "Info    : Done reading 'body1-2D.geo'\n"
     ]
    }
   ],
   "source": [
    "gmsh.open(\"body1-2D.geo\")"
   ]
  },
  {
   "cell_type": "code",
   "execution_count": 3,
   "id": "17d16e97",
   "metadata": {},
   "outputs": [
    {
     "name": "stdout",
     "output_type": "stream",
     "text": [
      "Info    : RCMK renumbering...\n",
      "Info    : Done RCMK renumbering (bandwidth is now 61)\n"
     ]
    },
    {
     "data": {
      "text/plain": [
       "LowLevelFEM.Problem(\"body1-2D\", :PlaneStress, 2, 2, LowLevelFEM.Material[LowLevelFEM.Material(\"body\", :Hooke, 200000.0, 0.3, 7.85e-9, 45.0, 4.2e8, 1.2e-5, 115384.61538461536, 76923.07692307692, 166666.66666666666)], 1.0, 357)"
      ]
     },
     "metadata": {},
     "output_type": "display_data"
    }
   ],
   "source": [
    "mat = FEM.material(\"body\")\n",
    "problem = FEM.Problem([mat], type=:PlaneStress)"
   ]
  },
  {
   "cell_type": "code",
   "execution_count": 4,
   "id": "cb740efb",
   "metadata": {},
   "outputs": [
    {
     "data": {
      "text/plain": [
       "(\"right\", 1, 0, 0)"
      ]
     },
     "metadata": {},
     "output_type": "display_data"
    }
   ],
   "source": [
    "supp = FEM.displacementConstraint(\"left\", ux=0, uy=0)\n",
    "load = FEM.load(\"right\", fx=1)"
   ]
  },
  {
   "cell_type": "code",
   "execution_count": 5,
   "id": "93379cdd",
   "metadata": {},
   "outputs": [
    {
     "data": {
      "text/plain": [
       "714×714 SparseArrays.SparseMatrixCSC{Float64, Int64} with 15415 stored entries:\n",
       "⎡⣿⣿⠅⠛⠛⠐⠓⣕⠤⠀⠀⢰⢐⢸⠀⠀⠀⠀⠀⠀⠀⠐⢤⣶⡆⠀⠀⡂⠄⠀⠀⠀⠀⡂⠀⣿⠃⠖⠀⠀⎤\n",
       "⎢⣥⠁⢿⣷⠀⠀⠀⣺⢹⠀⠀⣲⠇⢨⠘⠂⡆⢺⠀⠀⠀⢐⢙⠑⡾⠀⠀⢰⠁⠀⠀⠀⠸⠀⠀⣬⠍⠄⠀⠀⎥\n",
       "⎢⢛⠀⠀⠀⢿⣷⣀⠸⣷⠀⠀⠸⢝⣘⠀⠀⡀⠀⠀⠀⠀⠀⠸⠿⢰⡆⠀⠇⠨⢅⡈⠀⣃⡉⣀⡛⣋⠂⠀⠀⎥\n",
       "⎢⢝⢤⣠⣠⣀⡘⣟⣽⠧⠀⢠⣤⣐⡿⣀⣤⣄⣥⡀⣄⡀⣠⢤⣠⢄⣜⠥⡀⠀⡐⠂⠀⢚⡁⣻⠇⠃⠁⣀⡀⎥\n",
       "⎢⠀⠃⠓⠒⠙⠛⠉⠃⠻⣦⣩⠟⡟⡿⠟⠈⠉⠁⠬⠳⠛⠓⠛⠛⣾⢷⣱⣐⣯⢩⣭⣘⠋⢩⢯⠛⠜⠋⠁⠋⎥\n",
       "⎢⢀⣀⢠⣠⣀⡀⠀⣶⣧⠞⠻⣦⡿⣧⣭⣾⣶⣶⠷⣷⡿⡥⢤⣤⣅⡘⢋⡛⢁⡘⢙⠷⠕⠢⠔⠀⡛⢈⣉⡉⎥\n",
       "⎢⣐⣐⡉⣁⣓⢱⣴⡼⣿⡭⠿⣯⣱⣾⡟⠶⠼⠧⢍⣩⣶⡖⠄⠘⢋⠩⡦⢋⡩⠫⠏⢷⣺⣶⡤⣐⣿⣻⠉⠓⎥\n",
       "⎢⠀⠀⠲⠀⠀⠀⠀⣼⡛⠁⣣⣿⢻⡍⠻⣦⡄⡰⠐⡻⡏⠥⠈⠁⠐⠁⠀⡈⠀⠁⢈⣙⠒⠚⠁⠀⠛⠈⠙⠛⎥\n",
       "⎢⠀⠀⣨⣉⠀⠈⠄⣽⠇⠀⢸⣿⠶⡇⢀⡩⡵⣯⡱⣅⣐⢦⠀⠐⢀⠂⠄⠀⠀⠈⠀⠀⠈⡔⠩⠀⠀⠀⠀⠀⎥\n",
       "⎢⠀⠀⠀⠀⠀⠀⠀⢬⢦⡃⢽⣧⡇⣱⣴⡠⠕⢮⢿⣷⡸⡀⠄⠄⠈⣈⠀⠠⠀⠨⠈⢀⠈⢀⠀⠀⡰⠆⠀⠀⎥\n",
       "⎢⢀⠀⢀⢀⠀⠀⠀⣨⢿⠀⠟⡯⢸⠿⠏⡍⠰⣜⠒⠪⠻⣦⣄⠈⠁⠄⢁⡀⠀⠀⠀⠁⠁⡣⠄⠀⠽⠲⠀⠄⎥\n",
       "⎢⢠⣷⢗⠐⣶⡆⠀⣳⣿⠀⠀⣷⣀⠁⠆⠀⢀⠀⠀⠅⡀⠙⢿⣷⣆⡀⠈⡄⠄⠀⠀⠀⡀⠀⠁⠀⠀⠀⠰⠀⎥\n",
       "⎢⠈⠉⠚⠋⠰⠶⣀⢵⢾⣟⣁⠹⡏⡐⠔⠀⠠⠐⡂⢠⠁⠄⠈⠹⢿⣷⣨⠈⡐⠀⠐⣀⢑⡀⣀⠂⠀⠂⠀⠄⎥\n",
       "⎢⠠⠠⢀⣀⠤⠄⠁⠣⢑⢺⣯⠰⡬⢋⡀⠠⠀⠁⠀⡀⠁⠰⠂⠤⡂⠚⠱⣦⡂⢤⣨⠏⠀⠄⠊⢁⠉⡁⡀⡀⎥\n",
       "⎢⠀⠁⠁⠀⠆⢆⢀⠠⡏⣛⣁⠰⡧⡊⠄⠀⡀⠀⡀⡀⠀⠀⠀⠁⠐⠈⠈⣌⡻⢎⣹⠀⠄⠴⣒⠈⠀⠁⠤⠀⎥\n",
       "⎢⠀⠀⠀⠀⠂⠈⠈⠀⣃⢻⢷⡔⢯⣅⣆⢰⠀⠀⠂⢀⠄⠀⠀⠀⠐⢠⡦⠞⠓⠚⠿⣧⡉⣁⢨⠀⢠⡠⠦⢂⎥\n",
       "⎢⠠⠠⠒⠂⡍⠸⠞⠰⡏⣀⠱⡁⢺⣾⣸⠀⢂⠤⠂⢀⠥⡠⠀⠈⠑⠰⠀⠄⢀⡅⠇⢨⡿⣯⣢⠠⡛⣤⠀⢩⎥\n",
       "⎢⣤⣤⡀⣤⣤⠸⠿⠞⣯⠓⠐⠁⢀⢫⠁⠀⠃⠂⠀⠀⠀⠁⠁⠀⠠⠘⠎⢀⡘⠘⠂⠒⠈⡚⠛⣤⡅⣄⠀⠀⎥\n",
       "⎢⢩⠄⠃⠅⠫⠘⠍⠀⡶⠁⡛⢈⣿⣻⡛⠀⠀⠀⠰⠎⢳⡃⠀⠀⠠⠀⠇⠠⠄⠀⠀⡲⠛⣬⠁⢭⢻⣶⣀⡛⎥\n",
       "⎣⠀⠀⠀⠀⠀⠀⠀⠸⡥⠀⡇⠸⢧⠀⣷⠀⠀⠀⠀⠀⠀⠄⠐⠂⠀⠄⠀⠨⠀⠃⠨⢃⡄⣀⠀⠀⣤⠸⢿⣷⎦"
      ]
     },
     "metadata": {},
     "output_type": "display_data"
    },
    {
     "data": {
      "text/plain": []
     },
     "metadata": {},
     "output_type": "display_data"
    }
   ],
   "source": [
    "K = FEM.stiffnessMatrix(problem)"
   ]
  },
  {
   "cell_type": "code",
   "execution_count": 6,
   "id": "ff9a6b43",
   "metadata": {},
   "outputs": [
    {
     "data": {
      "text/plain": [
       "LowLevelFEM.VectorField(Matrix{Float64}[], [0.0; 0.0; … ; 0.0; 0.0;;], Float64[], Int64[], 1, :f2D, LowLevelFEM.Problem(\"body1-2D\", :PlaneStress, 2, 2, LowLevelFEM.Material[LowLevelFEM.Material(\"body\", :Hooke, 200000.0, 0.3, 7.85e-9, 45.0, 4.2e8, 1.2e-5, 115384.61538461536, 76923.07692307692, 166666.66666666666)], 1.0, 357))"
      ]
     },
     "metadata": {},
     "output_type": "display_data"
    }
   ],
   "source": [
    "f = FEM.loadVector(problem, [load])"
   ]
  },
  {
   "cell_type": "code",
   "execution_count": 7,
   "id": "cc13a09e",
   "metadata": {},
   "outputs": [],
   "source": [
    "FEM.applyBoundaryConditions!(K, f, [supp])"
   ]
  },
  {
   "cell_type": "code",
   "execution_count": 8,
   "id": "85a20107",
   "metadata": {},
   "outputs": [
    {
     "data": {
      "text/plain": [
       "LowLevelFEM.VectorField(Matrix{Float64}[], [0.0; 0.0; … ; 3.541641834233149e-6; -5.500791685861758e-7;;], [0.0], Int64[], 1, :u2D, LowLevelFEM.Problem(\"body1-2D\", :PlaneStress, 2, 2, LowLevelFEM.Material[LowLevelFEM.Material(\"body\", :Hooke, 200000.0, 0.3, 7.85e-9, 45.0, 4.2e8, 1.2e-5, 115384.61538461536, 76923.07692307692, 166666.66666666666)], 1.0, 357))"
      ]
     },
     "metadata": {},
     "output_type": "display_data"
    }
   ],
   "source": [
    "q1 = FEM.solveDisplacement(K, f)"
   ]
  },
  {
   "cell_type": "code",
   "execution_count": 9,
   "id": "7d844bc4",
   "metadata": {},
   "outputs": [
    {
     "data": {
      "text/plain": [
       "1"
      ]
     },
     "metadata": {},
     "output_type": "display_data"
    }
   ],
   "source": [
    "FEM.showDoFResults(q1, :uvec, visible=true)"
   ]
  },
  {
   "cell_type": "code",
   "execution_count": 10,
   "id": "868a2db1",
   "metadata": {},
   "outputs": [
    {
     "data": {
      "text/plain": [
       "LowLevelFEM.VectorField(Matrix{Float64}[], [0.0; 0.0; … ; 3.541641834233149e-6; -5.500791685861758e-7;;], [0.0], Int64[], 1, :u2D, LowLevelFEM.Problem(\"body1-2D\", :PlaneStress, 2, 2, LowLevelFEM.Material[LowLevelFEM.Material(\"body\", :Hooke, 200000.0, 0.3, 7.85e-9, 45.0, 4.2e8, 1.2e-5, 115384.61538461536, 76923.07692307692, 166666.66666666666)], 1.0, 357))"
      ]
     },
     "metadata": {},
     "output_type": "display_data"
    }
   ],
   "source": [
    "q2 = FEM.solveDisplacement(problem, [load], [supp])"
   ]
  },
  {
   "cell_type": "code",
   "execution_count": 11,
   "id": "44b8eba1",
   "metadata": {},
   "outputs": [
    {
     "data": {
      "text/plain": [
       "2"
      ]
     },
     "metadata": {},
     "output_type": "display_data"
    }
   ],
   "source": [
    "FEM.showDoFResults(q2, :uvec)"
   ]
  },
  {
   "cell_type": "code",
   "execution_count": 12,
   "id": "f73f1bf4",
   "metadata": {},
   "outputs": [
    {
     "data": {
      "text/plain": [
       "(\"left\", 1.0e6, 1.0e6, 0)"
      ]
     },
     "metadata": {},
     "output_type": "display_data"
    }
   ],
   "source": [
    "elsupp = FEM.elasticSupport(\"left\", kx=1e6, ky=1e6)"
   ]
  },
  {
   "cell_type": "code",
   "execution_count": 13,
   "id": "bc86a194",
   "metadata": {},
   "outputs": [
    {
     "data": {
      "text/plain": [
       "LowLevelFEM.VectorField(Matrix{Float64}[], [1.1826510130732662e-6; 1.9550560610230128e-7; … ; 4.5604487293270145e-6; -5.526032098272786e-7;;], [0.0], Int64[], 1, :u2D, LowLevelFEM.Problem(\"body1-2D\", :PlaneStress, 2, 2, LowLevelFEM.Material[LowLevelFEM.Material(\"body\", :Hooke, 200000.0, 0.3, 7.85e-9, 45.0, 4.2e8, 1.2e-5, 115384.61538461536, 76923.07692307692, 166666.66666666666)], 1.0, 357))"
      ]
     },
     "metadata": {},
     "output_type": "display_data"
    }
   ],
   "source": [
    "q4 = FEM.solveDisplacement(problem, [load], [], [elsupp])"
   ]
  },
  {
   "cell_type": "code",
   "execution_count": 14,
   "id": "893d44b2",
   "metadata": {},
   "outputs": [
    {
     "data": {
      "text/plain": [
       "3"
      ]
     },
     "metadata": {},
     "output_type": "display_data"
    }
   ],
   "source": [
    "FEM.showDoFResults(q4, :uvec)"
   ]
  },
  {
   "cell_type": "code",
   "execution_count": 15,
   "id": "0970c354",
   "metadata": {},
   "outputs": [
    {
     "data": {
      "text/plain": [
       "5.0"
      ]
     },
     "metadata": {},
     "output_type": "display_data"
    }
   ],
   "source": [
    "q3 = copy(q2)\n",
    "q3.a[1] = 5\n",
    "q2.a[1] = 3\n",
    "q3.a[1]"
   ]
  },
  {
   "cell_type": "code",
   "execution_count": 16,
   "id": "406e6594",
   "metadata": {},
   "outputs": [
    {
     "data": {
      "text/plain": [
       "LowLevelFEM.VectorField(Matrix{Float64}[], [1.5; 0.0; … ; 1.7708209171165744e-6; -2.750395842930879e-7;;], [0.0], Int64[], 1, :u2D, LowLevelFEM.Problem(\"body1-2D\", :PlaneStress, 2, 2, LowLevelFEM.Material[LowLevelFEM.Material(\"body\", :Hooke, 200000.0, 0.3, 7.85e-9, 45.0, 4.2e8, 1.2e-5, 115384.61538461536, 76923.07692307692, 166666.66666666666)], 1.0, 357))"
      ]
     },
     "metadata": {},
     "output_type": "display_data"
    }
   ],
   "source": [
    "q2 + q3\n",
    "q2 - q3\n",
    "q2 * 2\n",
    "2 * q2\n",
    "q2 / 2"
   ]
  },
  {
   "cell_type": "code",
   "execution_count": 17,
   "id": "09382e6e",
   "metadata": {},
   "outputs": [
    {
     "data": {
      "text/plain": [
       "LowLevelFEM.TensorField([[5.007136692909251e-6; -6.138400572211619e-8; … ; 0.0; -1.4914912705289633e-6;;], [5.020179838532117e-6; -3.34678293561645e-8; … ; 0.0; -1.4916962587350853e-6;;], [5.0310054541075565e-6; 1.536895340987948e-8; … ; 0.0; -1.4933678738869926e-6;;], [4.646638299519217e-6; -3.2814986320570154e-7; … ; 0.0; -1.6935175042441354e-6;;], [5.039209277387117e-6; 4.353481265582559e-8; … ; 0.0; -1.493464126770266e-6;;], [4.61891883457396e-6; -3.228806966864306e-7; … ; 0.0; -1.7157349721571612e-6;;], [5.031203110616433e-6; 1.7245787447303478e-9; … ; 0.0; -1.4672188509531917e-6;;], [4.806459778673738e-6; 6.082006201286674e-7; … ; 0.0; -1.7110945456483584e-6;;], [4.979638731231854e-6; 4.949494855848864e-8; … ; 0.0; -1.5540132307098161e-6;;], [4.795017458324782e-6; 2.8039312328669655e-7; … ; 0.0; -1.7090308948885548e-6;;]  …  [5.0441406834477145e-6; -3.2466805226966414e-7; … ; 0.0; -1.532207263802488e-6;;], [4.978136067333628e-6; -4.27524275046446e-8; … ; 0.0; -1.491263092943614e-6;;], [5.003597042048158e-6; 4.105888641283079e-8; … ; 0.0; -1.4910926948436977e-6;;], [5.0452081225965255e-6; -3.012398985965961e-7; … ; 0.0; -1.6620546062192526e-6;;], [5.018812783167632e-6; 6.761033637750502e-8; … ; 0.0; -1.496749701478747e-6;;], [4.9812100881885995e-6; 7.62536508923812e-8; … ; 0.0; -1.4868823702525476e-6;;], [4.828030864022548e-6; 6.903797096040842e-7; … ; 0.0; -1.6526916806136902e-6;;], [4.9485885248327975e-6; 5.947111676112926e-8; … ; 0.0; -1.4864872824670795e-6;;], [5.018618351774127e-6; -1.1108453540674353e-7; … ; 0.0; -1.6180697530567337e-6;;], [5.013870760176665e-6; 5.777759022027761e-8; … ; 0.0; -1.496410106018257e-6;;]], Matrix{Float64}(undef, 0, 0), [0.0], [33, 34, 35, 36, 37, 38, 39, 40, 41, 42  …  185, 186, 187, 188, 189, 190, 191, 192, 193, 194], 1, :e, LowLevelFEM.Problem(\"body1-2D\", :PlaneStress, 2, 2, LowLevelFEM.Material[LowLevelFEM.Material(\"body\", :Hooke, 200000.0, 0.3, 7.85e-9, 45.0, 4.2e8, 1.2e-5, 115384.61538461536, 76923.07692307692, 166666.66666666666)], 1.0, 357))"
      ]
     },
     "metadata": {},
     "output_type": "display_data"
    }
   ],
   "source": [
    "A1 = FEM.solveStrain(q1)"
   ]
  },
  {
   "cell_type": "code",
   "execution_count": 18,
   "id": "81dd947c",
   "metadata": {},
   "outputs": [
    {
     "data": {
      "text/plain": [
       "LowLevelFEM.TensorField(Matrix{Float64}[], [6.523539669593488e-6; 3.522839933039023e-6; … ; 0.0; -1.4876215851444566e-6;;], [0.0], Int64[], 1, :e, LowLevelFEM.Problem(\"body1-2D\", :PlaneStress, 2, 2, LowLevelFEM.Material[LowLevelFEM.Material(\"body\", :Hooke, 200000.0, 0.3, 7.85e-9, 45.0, 4.2e8, 1.2e-5, 115384.61538461536, 76923.07692307692, 166666.66666666666)], 1.0, 357))"
      ]
     },
     "metadata": {},
     "output_type": "display_data"
    }
   ],
   "source": [
    "A2 = FEM.solveStrain(q1, DoFResults=true)"
   ]
  },
  {
   "cell_type": "code",
   "execution_count": 19,
   "id": "a093e10e",
   "metadata": {},
   "outputs": [
    {
     "name": "stdout",
     "output_type": "stream",
     "text": [
      "Info    : Running Plugin(Smooth)...\n",
      "Info    : Done running Plugin(Smooth)\n"
     ]
    },
    {
     "data": {
      "text/plain": [
       "4"
      ]
     },
     "metadata": {},
     "output_type": "display_data"
    }
   ],
   "source": [
    "FEM.showStrainResults(A1, :e)"
   ]
  },
  {
   "cell_type": "code",
   "execution_count": 20,
   "id": "60dd8401",
   "metadata": {},
   "outputs": [
    {
     "data": {
      "text/plain": [
       "5"
      ]
     },
     "metadata": {},
     "output_type": "display_data"
    }
   ],
   "source": [
    "FEM.showDoFResults(A2, :e)"
   ]
  },
  {
   "cell_type": "code",
   "execution_count": 21,
   "id": "bfccc448",
   "metadata": {},
   "outputs": [
    {
     "data": {
      "text/plain": [
       "LowLevelFEM.TensorField(Matrix{Float64}[], [6.523539669593488e-6; 1.7614199665195116e-6; … ; 0.0; -1.4876215851444566e-6;;], [0.0], Int64[], 1, :e, LowLevelFEM.Problem(\"body1-2D\", :PlaneStress, 2, 2, LowLevelFEM.Material[LowLevelFEM.Material(\"body\", :Hooke, 200000.0, 0.3, 7.85e-9, 45.0, 4.2e8, 1.2e-5, 115384.61538461536, 76923.07692307692, 166666.66666666666)], 1.0, 357))"
      ]
     },
     "metadata": {},
     "output_type": "display_data"
    }
   ],
   "source": [
    "A3 = FEM.elementsToNodes(A1)"
   ]
  },
  {
   "cell_type": "code",
   "execution_count": 22,
   "id": "27dff127",
   "metadata": {},
   "outputs": [
    {
     "data": {
      "text/plain": [
       "6"
      ]
     },
     "metadata": {},
     "output_type": "display_data"
    }
   ],
   "source": [
    "FEM.showDoFResults(A3, :e)"
   ]
  },
  {
   "cell_type": "code",
   "execution_count": 23,
   "id": "739d00d8",
   "metadata": {},
   "outputs": [
    {
     "data": {
      "text/plain": [
       "LowLevelFEM.TensorField([[1.0002494019727641; -0.009443693188017875; … ; 0.0; 0.0;;], [1.001208433148213; -0.005148896824025307; … ; 0.0; 0.0;;], [1.002656733492678; 0.002364454370750689; … ; 0.0; 0.0;;], [0.9823932659068025; -0.0504845943393387; … ; 0.0; 0.0;;], [1.0060568945501698; 0.006697663485511629; … ; 0.0; 0.0;;], [0.9772576158673721; -0.049673953336373936; … ; 0.0; 0.0;;], [0.9994347339167858; 0.00026531980688159195; … ; 0.0; 0.0;;], [1.0068039021901292; 0.09356932617364112; … ; 0.0; 0.0;;], [0.9988325033790698; 0.0076146074705367136; … ; 0.0; 0.0;;], [0.9978143120249579; 0.0431374035825687; … ; 0.0; 0.0;;]  …  [1.0203143850747864; -0.04994893111840987; … ; 0.0; 0.0;;], [0.9951815668209081; -0.0065772965391760925; … ; 0.0; 0.0;;], [0.9992390623198564; 0.0063167517558201216; … ; 0.0; 0.0;;], [1.0146738000036395; -0.0463445997840917; … ; 0.0; 0.0;;], [1.0028809203785938; 0.010401590211923849; … ; 0.0; 0.0;;], [0.9956622314411903; 0.011731330906520185; … ; 0.0; 0.0;;], [1.0136744895867793; 0.10621226301601294; … ; 0.0; 0.0;;], [0.9895817433636399; 0.00914940257863527; … ; 0.0; 0.0;;], [1.0163656599909525; -0.017089928524114388; … ; 0.0; 0.0;;], [1.0012668255994366; 0.008888860033888864; … ; 0.0; 0.0;;]], Matrix{Float64}(undef, 0, 0), [0.0], [33, 34, 35, 36, 37, 38, 39, 40, 41, 42  …  185, 186, 187, 188, 189, 190, 191, 192, 193, 194], 1, :s, LowLevelFEM.Problem(\"body1-2D\", :PlaneStress, 2, 2, LowLevelFEM.Material[LowLevelFEM.Material(\"body\", :Hooke, 200000.0, 0.3, 7.85e-9, 45.0, 4.2e8, 1.2e-5, 115384.61538461536, 76923.07692307692, 166666.66666666666)], 1.0, 357))"
      ]
     },
     "metadata": {},
     "output_type": "display_data"
    }
   ],
   "source": [
    "S1 = FEM.solveStress(q1)"
   ]
  },
  {
   "cell_type": "code",
   "execution_count": 24,
   "id": "45fe3f5f",
   "metadata": {},
   "outputs": [
    {
     "data": {
      "text/plain": [
       "LowLevelFEM.TensorField(Matrix{Float64}[], [1.3827777810716255; 0.27098768715684796; … ; 0.0; 0.0;;], [0.0], Int64[], 1, :s, LowLevelFEM.Problem(\"body1-2D\", :PlaneStress, 2, 2, LowLevelFEM.Material[LowLevelFEM.Material(\"body\", :Hooke, 200000.0, 0.3, 7.85e-9, 45.0, 4.2e8, 1.2e-5, 115384.61538461536, 76923.07692307692, 166666.66666666666)], 1.0, 357))"
      ]
     },
     "metadata": {},
     "output_type": "display_data"
    }
   ],
   "source": [
    "S2 = FEM.solveStress(q1, DoFResults=true)"
   ]
  },
  {
   "cell_type": "code",
   "execution_count": 25,
   "id": "c9bdfc99",
   "metadata": {},
   "outputs": [
    {
     "name": "stdout",
     "output_type": "stream",
     "text": [
      "Info    : Running Plugin(Smooth)...\n",
      "Info    : Done running Plugin(Smooth)\n"
     ]
    },
    {
     "data": {
      "text/plain": [
       "7"
      ]
     },
     "metadata": {},
     "output_type": "display_data"
    }
   ],
   "source": [
    "FEM.showStressResults(S1, :s)"
   ]
  },
  {
   "cell_type": "code",
   "execution_count": 26,
   "id": "be62d671",
   "metadata": {},
   "outputs": [
    {
     "data": {
      "text/plain": [
       "8"
      ]
     },
     "metadata": {},
     "output_type": "display_data"
    }
   ],
   "source": [
    "FEM.showDoFResults(S2, :s)"
   ]
  },
  {
   "cell_type": "code",
   "execution_count": 27,
   "id": "1e24a75e",
   "metadata": {},
   "outputs": [
    {
     "data": {
      "text/plain": [
       "LowLevelFEM.TensorField(Matrix{Float64}[], [1.3827777810716255; 0.27098768715684796; … ; 0.0; 0.0;;], [0.0], Int64[], 1, :s, LowLevelFEM.Problem(\"body1-2D\", :PlaneStress, 2, 2, LowLevelFEM.Material[LowLevelFEM.Material(\"body\", :Hooke, 200000.0, 0.3, 7.85e-9, 45.0, 4.2e8, 1.2e-5, 115384.61538461536, 76923.07692307692, 166666.66666666666)], 1.0, 357))"
      ]
     },
     "metadata": {},
     "output_type": "display_data"
    }
   ],
   "source": [
    "S3 = FEM.elementsToNodes(S1)"
   ]
  },
  {
   "cell_type": "code",
   "execution_count": 28,
   "id": "7c44010a",
   "metadata": {},
   "outputs": [
    {
     "data": {
      "text/plain": [
       "9"
      ]
     },
     "metadata": {},
     "output_type": "display_data"
    }
   ],
   "source": [
    "FEM.showDoFResults(S3, :s)"
   ]
  },
  {
   "cell_type": "code",
   "execution_count": 29,
   "id": "a0686542",
   "metadata": {},
   "outputs": [
    {
     "name": "stdout",
     "output_type": "stream",
     "text": [
      "Info    : RCMK renumbering...\n",
      "Info    : Done RCMK renumbering (bandwidth is now 61)\n",
      "Info    : Renumbering nodal model data (9 steps)\n"
     ]
    },
    {
     "data": {
      "text/plain": [
       "LowLevelFEM.Problem(\"body1-2D\", :PlaneHeatConduction, 2, 1, LowLevelFEM.Material[LowLevelFEM.Material(\"body\", :Hooke, 200000.0, 0.3, 7.85e-9, 45.0, 4.2e8, 1.2e-5, 115384.61538461536, 76923.07692307692, 166666.66666666666)], 1.0, 357)"
      ]
     },
     "metadata": {},
     "output_type": "display_data"
    }
   ],
   "source": [
    "thermo = FEM.Problem([mat], type=:PlaneHeatConduction)"
   ]
  },
  {
   "cell_type": "code",
   "execution_count": 30,
   "id": "ba6bc157",
   "metadata": {},
   "outputs": [
    {
     "data": {
      "text/plain": [
       "LowLevelFEM.ScalarField(Matrix{Float64}[], [0.0; -0.020833333333333297; … ; 0.0; 0.0;;], Float64[], Int64[], 1, :qn, LowLevelFEM.Problem(\"body1-2D\", :PlaneHeatConduction, 2, 1, LowLevelFEM.Material[LowLevelFEM.Material(\"body\", :Hooke, 200000.0, 0.3, 7.85e-9, 45.0, 4.2e8, 1.2e-5, 115384.61538461536, 76923.07692307692, 166666.66666666666)], 1.0, 357))"
      ]
     },
     "metadata": {},
     "output_type": "display_data"
    }
   ],
   "source": [
    "temp = FEM.temperatureConstraint(\"left\", T=0)\n",
    "flux = FEM.heatFlux(\"right\", qn=1)\n",
    "\n",
    "flx = FEM.heatFluxVector(thermo, [flux])"
   ]
  },
  {
   "cell_type": "code",
   "execution_count": 31,
   "id": "216e0638",
   "metadata": {},
   "outputs": [
    {
     "data": {
      "text/plain": [
       "LowLevelFEM.ScalarField(Matrix{Float64}[], [0.0; -0.022222222222222063; … ; -0.015266271406736236; -0.01595726178468288;;], [0.0], Int64[], 1, :T, LowLevelFEM.Problem(\"body1-2D\", :PlaneHeatConduction, 2, 1, LowLevelFEM.Material[LowLevelFEM.Material(\"body\", :Hooke, 200000.0, 0.3, 7.85e-9, 45.0, 4.2e8, 1.2e-5, 115384.61538461536, 76923.07692307692, 166666.66666666666)], 1.0, 357))"
      ]
     },
     "metadata": {},
     "output_type": "display_data"
    }
   ],
   "source": [
    "KT = FEM.heatConductionMatrix(thermo)\n",
    "\n",
    "FEM.applyBoundaryConditions!(KT, flx, [temp])\n",
    "\n",
    "T1 = FEM.solveTemperature(KT, flx)"
   ]
  },
  {
   "cell_type": "code",
   "execution_count": 32,
   "id": "256a8b96",
   "metadata": {},
   "outputs": [
    {
     "data": {
      "text/plain": [
       "10"
      ]
     },
     "metadata": {},
     "output_type": "display_data"
    }
   ],
   "source": [
    "FEM.showDoFResults(T1, :T)"
   ]
  },
  {
   "cell_type": "code",
   "execution_count": 33,
   "id": "e5018b61",
   "metadata": {},
   "outputs": [
    {
     "data": {
      "text/plain": [
       "LowLevelFEM.ScalarField(Matrix{Float64}[], [0.0; -0.022222222222222063; … ; -0.015266271406736236; -0.01595726178468288;;], [0.0], Int64[], 1, :T, LowLevelFEM.Problem(\"body1-2D\", :PlaneHeatConduction, 2, 1, LowLevelFEM.Material[LowLevelFEM.Material(\"body\", :Hooke, 200000.0, 0.3, 7.85e-9, 45.0, 4.2e8, 1.2e-5, 115384.61538461536, 76923.07692307692, 166666.66666666666)], 1.0, 357))"
      ]
     },
     "metadata": {},
     "output_type": "display_data"
    }
   ],
   "source": [
    "T2 = FEM.solveTemperature(thermo, [flux], [temp])"
   ]
  },
  {
   "cell_type": "code",
   "execution_count": 34,
   "id": "62b2b69c",
   "metadata": {},
   "outputs": [
    {
     "data": {
      "text/plain": [
       "11"
      ]
     },
     "metadata": {},
     "output_type": "display_data"
    }
   ],
   "source": [
    "FEM.showDoFResults(T2, :T)"
   ]
  },
  {
   "cell_type": "code",
   "execution_count": 35,
   "id": "6701b1aa",
   "metadata": {},
   "outputs": [
    {
     "data": {
      "text/plain": [
       "LowLevelFEM.VectorField([[0.9999999999999877; 9.992007221626409e-15; … ; 0.9999999999999964; -4.9960036108132044e-15;;], [0.9999999999999927; 4.9960036108132044e-15; … ; 0.9999999999999952; 2.4980018054066022e-15;;], [0.9999999999999964; -1.4363510381087963e-14; … ; 1.0000000000000002; -1.2490009027033011e-14;;], [0.9999999999999896; 2.4980018054066022e-15; … ; 0.999999999999991; -6.245004513516506e-16;;], [1.0000000000000064; -7.494005416219807e-15; … ; 1.0000000000000002; -7.494005416219807e-15;;], [0.9999999999999908; 2.4980018054066022e-15; … ; 0.9999999999999911; 3.122502256758253e-16;;], [1.000000000000004; 0.0; … ; 1.000000000000004; -8.743006318923108e-15;;], [0.9999999999999873; -6.245004513516506e-16; … ; 0.9999999999999902; -6.245004513516506e-16;;], [0.9999999999999915; 6.245004513516506e-16; … ; 0.9999999999999915; -3.434752482434078e-15;;], [0.9999999999999942; -6.245004513516506e-16; … ; 0.999999999999993; -1.8735013540549517e-15;;]  …  [0.9999999999999852; -2.4980018054066022e-15; … ; 0.9999999999999852; -3.747002708109903e-15;;], [0.9999999999999771; 9.992007221626409e-15; … ; 0.9999999999999915; -2.4980018054066022e-15;;], [1.0000000000000213; 2.4980018054066022e-15; … ; 1.0000000000000089; -4.9960036108132044e-15;;], [0.9999999999999892; -2.4980018054066022e-15; … ; 0.9999999999999896; -1.8735013540549517e-15;;], [0.9999999999999989; -2.4980018054066022e-15; … ; 0.9999999999999927; -2.4980018054066022e-15;;], [0.9999999999999871; 9.992007221626409e-15; … ; 0.9999999999999952; 7.494005416219807e-15;;], [0.9999999999999902; -1.2490009027033011e-15; … ; 0.9999999999999923; -2.185751579730777e-15;;], [0.9999999999999989; 2.4980018054066022e-15; … ; 1.0000000000000042; -7.494005416219807e-15;;], [0.9999999999999852; -3.747002708109903e-15; … ; 0.9999999999999876; -8.743006318923108e-15;;], [1.0000000000000013; 2.4980018054066022e-14; … ; 0.9999999999999942; 1.4988010832439613e-14;;]], Matrix{Float64}(undef, 0, 0), [0.0], [33, 34, 35, 36, 37, 38, 39, 40, 41, 42  …  185, 186, 187, 188, 189, 190, 191, 192, 193, 194], 1, :q2D, LowLevelFEM.Problem(\"body1-2D\", :PlaneHeatConduction, 2, 1, LowLevelFEM.Material[LowLevelFEM.Material(\"body\", :Hooke, 200000.0, 0.3, 7.85e-9, 45.0, 4.2e8, 1.2e-5, 115384.61538461536, 76923.07692307692, 166666.66666666666)], 1.0, 357))"
      ]
     },
     "metadata": {},
     "output_type": "display_data"
    }
   ],
   "source": [
    "qT1 = FEM.solveHeatFlux(T2)"
   ]
  },
  {
   "cell_type": "code",
   "execution_count": 36,
   "id": "df8e8b88",
   "metadata": {},
   "outputs": [
    {
     "name": "stdout",
     "output_type": "stream",
     "text": [
      "Info    : Running Plugin(Smooth)...\n",
      "Info    : Done running Plugin(Smooth)\n"
     ]
    },
    {
     "data": {
      "text/plain": [
       "12"
      ]
     },
     "metadata": {},
     "output_type": "display_data"
    }
   ],
   "source": [
    "FEM.showElementResults(qT1, :qvec)"
   ]
  },
  {
   "cell_type": "code",
   "execution_count": 37,
   "id": "9182fc68",
   "metadata": {},
   "outputs": [
    {
     "data": {
      "text/plain": [
       "LowLevelFEM.VectorField(Matrix{Float64}[], [0.999999999999994; -1.4051260155412137e-15; … ; 1.0000000000000064; 2.4980018054066022e-15;;], [0.0], Int64[], 1, :q2D, LowLevelFEM.Problem(\"body1-2D\", :PlaneHeatConduction, 2, 1, LowLevelFEM.Material[LowLevelFEM.Material(\"body\", :Hooke, 200000.0, 0.3, 7.85e-9, 45.0, 4.2e8, 1.2e-5, 115384.61538461536, 76923.07692307692, 166666.66666666666)], 1.0, 357))"
      ]
     },
     "metadata": {},
     "output_type": "display_data"
    }
   ],
   "source": [
    "qT2 = FEM.solveHeatFlux(T2, DoFResults=true)"
   ]
  },
  {
   "cell_type": "code",
   "execution_count": 38,
   "id": "8f78b4be",
   "metadata": {},
   "outputs": [
    {
     "data": {
      "text/plain": [
       "13"
      ]
     },
     "metadata": {},
     "output_type": "display_data"
    }
   ],
   "source": [
    "FEM.showDoFResults(qT2, :qvec)"
   ]
  },
  {
   "cell_type": "code",
   "execution_count": 39,
   "id": "f21b2d03",
   "metadata": {},
   "outputs": [
    {
     "data": {
      "text/plain": [
       "LowLevelFEM.VectorField(Matrix{Float64}[], [0.999999999999994; -1.4051260155412137e-15; … ; 1.0000000000000064; 2.4980018054066022e-15;;], [0.0], Int64[], 1, :q2D, LowLevelFEM.Problem(\"body1-2D\", :PlaneHeatConduction, 2, 1, LowLevelFEM.Material[LowLevelFEM.Material(\"body\", :Hooke, 200000.0, 0.3, 7.85e-9, 45.0, 4.2e8, 1.2e-5, 115384.61538461536, 76923.07692307692, 166666.66666666666)], 1.0, 357))"
      ]
     },
     "metadata": {},
     "output_type": "display_data"
    }
   ],
   "source": [
    "qT3 = FEM.elementsToNodes(qT1)"
   ]
  },
  {
   "cell_type": "code",
   "execution_count": 40,
   "id": "fb70e93f",
   "metadata": {},
   "outputs": [
    {
     "data": {
      "text/plain": [
       "14"
      ]
     },
     "metadata": {},
     "output_type": "display_data"
    }
   ],
   "source": [
    "FEM.showDoFResults(qT3, :qvec)"
   ]
  },
  {
   "cell_type": "code",
   "execution_count": 41,
   "id": "e1daf3ac",
   "metadata": {},
   "outputs": [
    {
     "data": {
      "text/plain": [
       "(\"top\", 100, 20, 0 + 2im)"
      ]
     },
     "metadata": {},
     "output_type": "display_data"
    }
   ],
   "source": [
    "heatconvB = FEM.heatConvection(\"bottom\", h=1, Tₐ=0)\n",
    "heatconvT = FEM.heatConvection(\"top\", h=100, Tₐ=20)"
   ]
  },
  {
   "cell_type": "code",
   "execution_count": 42,
   "id": "5b4844cb",
   "metadata": {},
   "outputs": [
    {
     "data": {
      "text/plain": [
       "LowLevelFEM.ScalarField(Matrix{Float64}[], [0.0; 6.024616756215297; … ; 10.3796740180515; 10.98348867262736;;], [0.0], Int64[], 1, :T, LowLevelFEM.Problem(\"body1-2D\", :PlaneHeatConduction, 2, 1, LowLevelFEM.Material[LowLevelFEM.Material(\"body\", :Hooke, 200000.0, 0.3, 7.85e-9, 45.0, 4.2e8, 1.2e-5, 115384.61538461536, 76923.07692307692, 166666.66666666666)], 1.0, 357))"
      ]
     },
     "metadata": {},
     "output_type": "display_data"
    }
   ],
   "source": [
    "T3 = FEM.solveTemperature(thermo, [], [temp], [heatconvB, heatconvT])"
   ]
  },
  {
   "cell_type": "code",
   "execution_count": 43,
   "id": "fde6bb7d",
   "metadata": {},
   "outputs": [
    {
     "data": {
      "text/plain": [
       "15"
      ]
     },
     "metadata": {},
     "output_type": "display_data"
    }
   ],
   "source": [
    "FEM.showDoFResults(T3, :T)"
   ]
  },
  {
   "cell_type": "code",
   "execution_count": 44,
   "id": "8cb70d7c",
   "metadata": {},
   "outputs": [
    {
     "data": {
      "text/plain": [
       "LowLevelFEM.VectorField(Matrix{Float64}[], [-3.4813054132151744e-19; -6.776263578034403e-20; … ; 0.00022772146774481007; 1.734723475976807e-17;;], [0.0], Int64[], 1, :f2D, LowLevelFEM.Problem(\"body1-2D\", :PlaneStress, 2, 2, LowLevelFEM.Material[LowLevelFEM.Material(\"body\", :Hooke, 200000.0, 0.3, 7.85e-9, 45.0, 4.2e8, 1.2e-5, 115384.61538461536, 76923.07692307692, 166666.66666666666)], 1.0, 357))"
      ]
     },
     "metadata": {},
     "output_type": "display_data"
    }
   ],
   "source": [
    "fT = FEM.thermalLoadVector(problem, T1)"
   ]
  },
  {
   "cell_type": "code",
   "execution_count": 45,
   "id": "f38a169a",
   "metadata": {},
   "outputs": [
    {
     "data": {
      "text/plain": [
       "LowLevelFEM.VectorField(Matrix{Float64}[], [0.0; 0.0; … ; 3.541641834233149e-6; -5.500791685861758e-7;;], [0.0], Int64[], 1, :u2D, LowLevelFEM.Problem(\"body1-2D\", :PlaneStress, 2, 2, LowLevelFEM.Material[LowLevelFEM.Material(\"body\", :Hooke, 200000.0, 0.3, 7.85e-9, 45.0, 4.2e8, 1.2e-5, 115384.61538461536, 76923.07692307692, 166666.66666666666)], 1.0, 357))"
      ]
     },
     "metadata": {},
     "output_type": "display_data"
    }
   ],
   "source": [
    "FEM.applyBoundaryConditions!(K, f, [supp])\n",
    "q5 = FEM.solveDisplacement(K, f)"
   ]
  },
  {
   "cell_type": "code",
   "execution_count": 46,
   "id": "6475f2b5",
   "metadata": {},
   "outputs": [
    {
     "data": {
      "text/plain": [
       "LowLevelFEM.TensorField([[1.0585097638928427; -0.009443693188017875; … ; 0.0; 0.0;;], [1.0691510483502655; -0.005148896824025307; … ; 0.0; 0.0;;], [1.0696084179915326; 0.002364454370750689; … ; 0.0; 0.0;;], [0.9914037562002723; -0.0504845943393387; … ; 0.0; 0.0;;], [1.0636427113240392; 0.006697663485511629; … ; 0.0; 0.0;;], [0.9862681061608419; -0.049673953336373936; … ; 0.0; 0.0;;], [1.0756252101072616; 0.00026531980688159195; … ; 0.0; 0.0;;], [1.0151456311187925; 0.09356932617364112; … ; 0.0; 0.0;;], [1.0224433112696332; 0.0076146074705367136; … ; 0.0; 0.0;;], [1.0113665573104527; 0.0431374035825687; … ; 0.0; 0.0;;]  …  [1.0346000993605007; -0.04994893111840987; … ; 0.0; 0.0;;], [1.0570459728277564; -0.0065772965391760925; … ; 0.0; 0.0;;], [1.0662280499950034; 0.0063167517558201216; … ; 0.0; 0.0;;], [1.0289595142893537; -0.0463445997840917; … ; 0.0; 0.0;;], [1.055138547837934; 0.010401590211923849; … ; 0.0; 0.0;;], [1.0432812790602375; 0.011731330906520185; … ; 0.0; 0.0;;], [1.0220162185154427; 0.10621226301601294; … ; 0.0; 0.0;;], [1.0419390107171782; 0.00914940257863527; … ; 0.0; 0.0;;], [1.0402374833494268; -0.017089928524114388; … ; 0.0; 0.0;;], [1.06163462628409; 0.008888860033888864; … ; 0.0; 0.0;;]], Matrix{Float64}(undef, 0, 0), [0.0], [33, 34, 35, 36, 37, 38, 39, 40, 41, 42  …  185, 186, 187, 188, 189, 190, 191, 192, 193, 194], 1, :s, LowLevelFEM.Problem(\"body1-2D\", :PlaneStress, 2, 2, LowLevelFEM.Material[LowLevelFEM.Material(\"body\", :Hooke, 200000.0, 0.3, 7.85e-9, 45.0, 4.2e8, 1.2e-5, 115384.61538461536, 76923.07692307692, 166666.66666666666)], 1.0, 357))"
      ]
     },
     "metadata": {},
     "output_type": "display_data"
    }
   ],
   "source": [
    "ST1 = FEM.solveStress(q5, T=T1)"
   ]
  },
  {
   "cell_type": "code",
   "execution_count": 47,
   "id": "20c45766",
   "metadata": {},
   "outputs": [
    {
     "data": {
      "text/plain": [
       "LowLevelFEM.TensorField([[1.0002494019727641; -0.009443693188017875; … ; 0.0; 0.0;;], [1.001208433148213; -0.005148896824025307; … ; 0.0; 0.0;;], [1.002656733492678; 0.002364454370750689; … ; 0.0; 0.0;;], [0.9823932659068025; -0.0504845943393387; … ; 0.0; 0.0;;], [1.0060568945501698; 0.006697663485511629; … ; 0.0; 0.0;;], [0.9772576158673721; -0.049673953336373936; … ; 0.0; 0.0;;], [0.9994347339167858; 0.00026531980688159195; … ; 0.0; 0.0;;], [1.0068039021901292; 0.09356932617364112; … ; 0.0; 0.0;;], [0.9988325033790698; 0.0076146074705367136; … ; 0.0; 0.0;;], [0.9978143120249579; 0.0431374035825687; … ; 0.0; 0.0;;]  …  [1.0203143850747864; -0.04994893111840987; … ; 0.0; 0.0;;], [0.9951815668209081; -0.0065772965391760925; … ; 0.0; 0.0;;], [0.9992390623198564; 0.0063167517558201216; … ; 0.0; 0.0;;], [1.0146738000036395; -0.0463445997840917; … ; 0.0; 0.0;;], [1.0028809203785938; 0.010401590211923849; … ; 0.0; 0.0;;], [0.9956622314411903; 0.011731330906520185; … ; 0.0; 0.0;;], [1.0136744895867793; 0.10621226301601294; … ; 0.0; 0.0;;], [0.9895817433636399; 0.00914940257863527; … ; 0.0; 0.0;;], [1.0163656599909525; -0.017089928524114388; … ; 0.0; 0.0;;], [1.0012668255994366; 0.008888860033888864; … ; 0.0; 0.0;;]], Matrix{Float64}(undef, 0, 0), [0.0], [33, 34, 35, 36, 37, 38, 39, 40, 41, 42  …  185, 186, 187, 188, 189, 190, 191, 192, 193, 194], 1, :s, LowLevelFEM.Problem(\"body1-2D\", :PlaneStress, 2, 2, LowLevelFEM.Material[LowLevelFEM.Material(\"body\", :Hooke, 200000.0, 0.3, 7.85e-9, 45.0, 4.2e8, 1.2e-5, 115384.61538461536, 76923.07692307692, 166666.66666666666)], 1.0, 357))"
      ]
     },
     "metadata": {},
     "output_type": "display_data"
    }
   ],
   "source": [
    "ST2 = FEM.solveStress(q5, T=T1, T₀=T1)"
   ]
  },
  {
   "cell_type": "code",
   "execution_count": 48,
   "id": "0cf15977",
   "metadata": {},
   "outputs": [
    {
     "name": "stdout",
     "output_type": "stream",
     "text": [
      "Info    : Running Plugin(Smooth)...\n",
      "Info    : Done running Plugin(Smooth)\n"
     ]
    },
    {
     "data": {
      "text/plain": [
       "16"
      ]
     },
     "metadata": {},
     "output_type": "display_data"
    }
   ],
   "source": [
    "FEM.showElementResults(ST1, :s)"
   ]
  },
  {
   "cell_type": "code",
   "execution_count": 49,
   "id": "7b06da70",
   "metadata": {},
   "outputs": [
    {
     "name": "stdout",
     "output_type": "stream",
     "text": [
      "Info    : Running Plugin(Smooth)...\n",
      "Info    : Done running Plugin(Smooth)\n"
     ]
    },
    {
     "data": {
      "text/plain": [
       "17"
      ]
     },
     "metadata": {},
     "output_type": "display_data"
    }
   ],
   "source": [
    "FEM.showElementResults(ST2, :s)"
   ]
  },
  {
   "cell_type": "code",
   "execution_count": 50,
   "id": "e07f8b10",
   "metadata": {},
   "outputs": [
    {
     "name": "stdout",
     "output_type": "stream",
     "text": [
      "-------------------------------------------------------\n",
      "Version       : 4.13.1\n",
      "License       : GNU General Public License\n",
      "Build OS      : Linux64-sdk\n",
      "Build date    : 19700101\n",
      "Build host    : amdci7.julia.csail.mit.edu\n",
      "Build options : 64Bit ALGLIB[contrib] ANN[contrib] Bamg Blossom Cairo DIntegration Dlopen DomHex Eigen[contrib] Fltk GMP Gmm[contrib] Hxt Jpeg Kbipack LinuxJoystick MathEx[contrib] Mesh Metis[contrib] Mmg Mpeg Netgen Nii2mesh ONELAB ONELABMetamodel OpenCASCADE OpenCASCADE-CAF OpenGL OpenMP OptHom Parser Plugins Png Post QuadMeshingTools QuadTri Solver TetGen/BR TinyXML2[contrib] Untangle Voro++[contrib] WinslowUntangler Zlib\n",
      "FLTK version  : 1.3.8\n",
      "OCC version   : 7.7.2\n",
      "Packaged by   : root\n",
      "Web site      : https://gmsh.info\n",
      "Issue tracker : https://gitlab.onelab.info/gmsh/gmsh/issues\n",
      "-------------------------------------------------------\n"
     ]
    },
    {
     "name": "stderr",
     "output_type": "stream",
     "text": [
      "XOpenIM() failed\n",
      "XRequest.18: BadValue 0x0\n"
     ]
    }
   ],
   "source": [
    "FEM.openPostProcessor()"
   ]
  },
  {
   "cell_type": "code",
   "execution_count": 51,
   "id": "076f84a7",
   "metadata": {},
   "outputs": [],
   "source": [
    "gmsh.finalize()"
   ]
  }
 ],
 "metadata": {
  "kernelspec": {
   "display_name": "Julia 1.11.6",
   "language": "julia",
   "name": "julia-1.11"
  },
  "language_info": {
   "file_extension": ".jl",
   "mimetype": "application/julia",
   "name": "julia",
   "version": "1.11.6"
  }
 },
 "nbformat": 4,
 "nbformat_minor": 5
}
