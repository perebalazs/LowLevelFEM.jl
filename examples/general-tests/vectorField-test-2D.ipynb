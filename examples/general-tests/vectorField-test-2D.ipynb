{
 "cells": [
  {
   "cell_type": "code",
   "execution_count": 1,
   "id": "e95346f2",
   "metadata": {},
   "outputs": [],
   "source": [
    "using LowLevelFEM\n",
    "import LowLevelFEM as FEM\n",
    "gmsh.initialize()"
   ]
  },
  {
   "cell_type": "code",
   "execution_count": 2,
   "id": "c376ef73",
   "metadata": {},
   "outputs": [
    {
     "name": "stdout",
     "output_type": "stream",
     "text": [
      "Info    : Reading 'body1-2D.geo'...\n",
      "Info    : Meshing 1D...\n",
      "Info    : [  0%] Meshing curve 1 (Line)\n",
      "Info    : [ 30%] Meshing curve 2 (Line)\n",
      "Info    : [ 60%] Meshing curve 3 (Line)\n",
      "Info    : [ 80%] Meshing curve 4 (Line)\n",
      "Info    : Done meshing 1D (Wall 0.000537388s, CPU 0.000519s)\n",
      "Info    : Meshing 2D...\n",
      "Info    : Meshing surface 1 (Plane, Frontal-Delaunay)\n",
      "Info    : Done meshing 2D (Wall 0.00733567s, CPU 0.007334s)\n",
      "Info    : 98 nodes 198 elements\n",
      "Info    : Done reading 'body1-2D.geo'\n"
     ]
    }
   ],
   "source": [
    "gmsh.open(\"body1-2D.geo\")"
   ]
  },
  {
   "cell_type": "code",
   "execution_count": 3,
   "id": "17d16e97",
   "metadata": {},
   "outputs": [
    {
     "name": "stdout",
     "output_type": "stream",
     "text": [
      "Info    : RCMK renumbering...\n",
      "Info    : Done RCMK renumbering (bandwidth is now 16)\n"
     ]
    },
    {
     "data": {
      "text/plain": [
       "LowLevelFEM.Problem(\"body1-2D\", :PlaneStress, 2, 2, LowLevelFEM.Material[LowLevelFEM.Material(\"body\", 200000.0, 0.3, 7.85e-9, 45.0, 4.2e8, 1.2e-5, 115384.61538461536, 76923.07692307692, 166666.66666666666)], 1.0, 98)"
      ]
     },
     "metadata": {},
     "output_type": "display_data"
    }
   ],
   "source": [
    "mat = FEM.material(\"body\")\n",
    "problem = FEM.Problem([mat], type=:PlaneStress)"
   ]
  },
  {
   "cell_type": "code",
   "execution_count": 4,
   "id": "cb740efb",
   "metadata": {},
   "outputs": [
    {
     "data": {
      "text/plain": [
       "(\"right\", 1, 0, 0)"
      ]
     },
     "metadata": {},
     "output_type": "display_data"
    }
   ],
   "source": [
    "supp = FEM.displacementConstraint(\"left\", ux=0, uy=0)\n",
    "load = FEM.load(\"right\", fx=1)"
   ]
  },
  {
   "cell_type": "code",
   "execution_count": 5,
   "id": "93379cdd",
   "metadata": {},
   "outputs": [
    {
     "data": {
      "text/plain": [
       "LowLevelFEM.VectorField(Matrix{Float64}[], [0.0; 0.0; … ; 0.0; 0.0;;], Float64[], Int64[], 1, :f2D)"
      ]
     },
     "metadata": {},
     "output_type": "display_data"
    }
   ],
   "source": [
    "K = FEM.stiffnessMatrix(problem)\n",
    "f = FEM.loadVector(problem, [load])"
   ]
  },
  {
   "cell_type": "code",
   "execution_count": 6,
   "id": "cc13a09e",
   "metadata": {},
   "outputs": [],
   "source": [
    "FEM.applyBoundaryConditions!(problem, K, f, [supp])"
   ]
  },
  {
   "cell_type": "code",
   "execution_count": 7,
   "id": "85a20107",
   "metadata": {},
   "outputs": [
    {
     "data": {
      "text/plain": [
       "LowLevelFEM.VectorField(Matrix{Float64}[], [0.0; 0.0; … ; 3.6823357906910687e-6; -5.003913738015893e-7;;], [0.0], Int64[], 1, :u2D)"
      ]
     },
     "metadata": {},
     "output_type": "display_data"
    }
   ],
   "source": [
    "q1 = FEM.solveDisplacement(K, f)"
   ]
  },
  {
   "cell_type": "code",
   "execution_count": 8,
   "id": "7d844bc4",
   "metadata": {},
   "outputs": [
    {
     "data": {
      "text/plain": [
       "1"
      ]
     },
     "metadata": {},
     "output_type": "display_data"
    }
   ],
   "source": [
    "FEM.showDoFResults(problem, q1, :uvec, visible=true)"
   ]
  },
  {
   "cell_type": "code",
   "execution_count": 9,
   "id": "868a2db1",
   "metadata": {},
   "outputs": [
    {
     "data": {
      "text/plain": [
       "LowLevelFEM.VectorField(Matrix{Float64}[], [0.0; 0.0; … ; 3.6823357906910687e-6; -5.003913738015893e-7;;], [0.0], Int64[], 1, :u2D)"
      ]
     },
     "metadata": {},
     "output_type": "display_data"
    }
   ],
   "source": [
    "q2 = FEM.solveDisplacement(problem, [load], [supp])"
   ]
  },
  {
   "cell_type": "code",
   "execution_count": 10,
   "id": "44b8eba1",
   "metadata": {},
   "outputs": [
    {
     "data": {
      "text/plain": [
       "2"
      ]
     },
     "metadata": {},
     "output_type": "display_data"
    }
   ],
   "source": [
    "FEM.showDoFResults(problem, q2, :uvec)"
   ]
  },
  {
   "cell_type": "code",
   "execution_count": 11,
   "id": "f73f1bf4",
   "metadata": {},
   "outputs": [
    {
     "data": {
      "text/plain": [
       "(\"left\", 1.0e6, 1.0e6, 0)"
      ]
     },
     "metadata": {},
     "output_type": "display_data"
    }
   ],
   "source": [
    "elsupp = FEM.elasticSupport(\"left\", kx=1e6, ky=1e6)"
   ]
  },
  {
   "cell_type": "code",
   "execution_count": 12,
   "id": "bc86a194",
   "metadata": {},
   "outputs": [
    {
     "data": {
      "text/plain": [
       "LowLevelFEM.VectorField(Matrix{Float64}[], [1.138967824112648e-6; 2.281425095890338e-7; … ; 4.706195058928785e-6; -5.01577382158046e-7;;], [0.0], Int64[], 1, :u2D)"
      ]
     },
     "metadata": {},
     "output_type": "display_data"
    }
   ],
   "source": [
    "q4 = FEM.solveDisplacement(problem, [load], [], [elsupp])"
   ]
  },
  {
   "cell_type": "code",
   "execution_count": 13,
   "id": "893d44b2",
   "metadata": {},
   "outputs": [
    {
     "data": {
      "text/plain": [
       "3"
      ]
     },
     "metadata": {},
     "output_type": "display_data"
    }
   ],
   "source": [
    "FEM.showDoFResults(problem, q4, :uvec)"
   ]
  },
  {
   "cell_type": "code",
   "execution_count": 14,
   "id": "0970c354",
   "metadata": {},
   "outputs": [
    {
     "data": {
      "text/plain": [
       "5.0"
      ]
     },
     "metadata": {},
     "output_type": "display_data"
    }
   ],
   "source": [
    "q3 = copy(q2)\n",
    "q3.a[1] = 5\n",
    "q2.a[1] = 3\n",
    "q3.a[1]"
   ]
  },
  {
   "cell_type": "code",
   "execution_count": 15,
   "id": "406e6594",
   "metadata": {},
   "outputs": [
    {
     "data": {
      "text/plain": [
       "LowLevelFEM.VectorField(Matrix{Float64}[], [1.5; 0.0; … ; 1.8411678953455343e-6; -2.5019568690079463e-7;;], [0.0], Int64[], 1, :u2D)"
      ]
     },
     "metadata": {},
     "output_type": "display_data"
    }
   ],
   "source": [
    "q2 + q3\n",
    "q2 - q3\n",
    "q2 * 2\n",
    "2 * q2\n",
    "q2 / 2"
   ]
  },
  {
   "cell_type": "code",
   "execution_count": 16,
   "id": "09382e6e",
   "metadata": {},
   "outputs": [
    {
     "data": {
      "text/plain": [
       "LowLevelFEM.TensorField([[5.012303383292967e-6; -8.973864043055219e-8; … ; 0.0; -1.4883415359807896e-6;;], [5.018225207404288e-6; -1.0057662027384346e-7; … ; 0.0; -1.4920664199839504e-6;;], [5.039404666537472e-6; 5.731650329945527e-8; … ; 0.0; -1.4910217504842391e-6;;], [4.759118649841318e-6; -4.722950788291871e-7; … ; 0.0; -1.7209469432103706e-6;;], [5.026446288166567e-6; 4.424293245154461e-8; … ; 0.0; -1.4916657475601418e-6;;], [4.563490608043547e-6; -2.0587704497835933e-7; … ; 0.0; -1.7269046851085198e-6;;], [5.041076337414415e-6; -1.7652299919550645e-8; … ; 0.0; -1.4733912984116656e-6;;], [4.892474677915217e-6; 9.457634380193556e-7; … ; 0.0; -1.7427038191585938e-6;;], [4.999711244861671e-6; 1.9281720303763613e-7; … ; 0.0; -1.5280886003357257e-6;;], [4.597600845365214e-6; 6.856141676073498e-7; … ; 0.0; -1.7210692196345666e-6;;]  …  [5.009436437674425e-6; -5.227709925497364e-7; … ; 0.0; -1.6191852905909837e-6;;], [4.983109695225119e-6; -8.138365365930829e-8; … ; 0.0; -1.4844984328389285e-6;;], [4.986845637135392e-6; 7.827866151560266e-8; … ; 0.0; -1.4850847386071933e-6;;], [5.011711176490086e-6; -1.4843473215837247e-6; … ; 0.0; -1.8409265058115452e-6;;], [4.989443327331686e-6; 1.3434523710665353e-7; … ; 0.0; -1.492942515209276e-6;;], [4.989456843998189e-6; 1.3155219068288978e-7; … ; 0.0; -1.4910914732451537e-6;;], [5.024263100825799e-6; 1.4564602512354793e-6; … ; 0.0; -1.8468298281154845e-6;;], [4.9614250479047154e-6; 1.1546392305249115e-7; … ; 0.0; -1.4823220977372759e-6;;], [4.951196775332189e-6; -3.5871408631721925e-7; … ; 0.0; -1.584646586433039e-6;;], [5.021212926525422e-6; 1.2944073526372545e-7; … ; 0.0; -1.4986959651013352e-6;;]], Matrix{Float64}(undef, 0, 0), [0.0], [33, 34, 35, 36, 37, 38, 39, 40, 41, 42  …  185, 186, 187, 188, 189, 190, 191, 192, 193, 194], 1, :e)"
      ]
     },
     "metadata": {},
     "output_type": "display_data"
    }
   ],
   "source": [
    "A1 = FEM.solveStrain(problem, q1)"
   ]
  },
  {
   "cell_type": "code",
   "execution_count": 17,
   "id": "81dd947c",
   "metadata": {},
   "outputs": [
    {
     "data": {
      "text/plain": [
       "LowLevelFEM.TensorField(Matrix{Float64}[], [5.309073597201354e-6; 2.199325672808693e-6; … ; 0.0; 0.0;;], [0.0], Int64[], 1, :e)"
      ]
     },
     "metadata": {},
     "output_type": "display_data"
    }
   ],
   "source": [
    "A2 = FEM.solveStrain(problem, q1, DoFResults=true)"
   ]
  },
  {
   "cell_type": "code",
   "execution_count": 18,
   "id": "a093e10e",
   "metadata": {},
   "outputs": [
    {
     "name": "stdout",
     "output_type": "stream",
     "text": [
      "Info    : Running Plugin(Smooth)...\n",
      "Info    : Done running Plugin(Smooth)\n"
     ]
    },
    {
     "data": {
      "text/plain": [
       "4"
      ]
     },
     "metadata": {},
     "output_type": "display_data"
    }
   ],
   "source": [
    "FEM.showStrainResults(problem, A1, :e)"
   ]
  },
  {
   "cell_type": "code",
   "execution_count": 19,
   "id": "60dd8401",
   "metadata": {},
   "outputs": [
    {
     "data": {
      "text/plain": [
       "5"
      ]
     },
     "metadata": {},
     "output_type": "display_data"
    }
   ],
   "source": [
    "FEM.showDoFResults(problem, A2, :e)"
   ]
  },
  {
   "cell_type": "code",
   "execution_count": 20,
   "id": "bfccc448",
   "metadata": {},
   "outputs": [
    {
     "data": {
      "text/plain": [
       "LowLevelFEM.TensorField(Matrix{Float64}[], [5.309073597201354e-6; 2.199325672808693e-6; … ; 0.0; -1.4910719807924995e-6;;], [0.0], Int64[], 1, :e)"
      ]
     },
     "metadata": {},
     "output_type": "display_data"
    }
   ],
   "source": [
    "A3 = FEM.elementsToNodes(problem, A1)"
   ]
  },
  {
   "cell_type": "code",
   "execution_count": 21,
   "id": "27dff127",
   "metadata": {},
   "outputs": [
    {
     "data": {
      "text/plain": [
       "6"
      ]
     },
     "metadata": {},
     "output_type": "display_data"
    }
   ],
   "source": [
    "FEM.showDoFResults(problem, A3, :e)"
   ]
  },
  {
   "cell_type": "code",
   "execution_count": 22,
   "id": "739d00d8",
   "metadata": {},
   "outputs": [
    {
     "data": {
      "text/plain": [
       "LowLevelFEM.TensorField([[1.0000992183498087; -0.006902972340811707; … ; 0.0; 0.0;;], [1.0015833272904981; -0.007736663097987958; … ; 0.0; 0.0;;], [1.0046809872341094; 0.00440896179226579; … ; 0.0; 0.0;;], [0.9969331681617983; -0.03633039067916823; … ; 0.0; 0.0;;], [1.0027864670348783; 0.0034033024962726623; … ; 0.0; 0.0;;], [0.9677531220233949; -0.015836695767566102; … ; 0.0; 0.0;;], [1.0022257901270892; -0.0013578692245808188; … ; 0.0; 0.0;;], [1.0207966918575093; 0.07275103369379658; … ; 0.0; 0.0;;], [1.004276899261138; 0.014832092541356624; … ; 0.0; 0.0;;], [0.972103086923043; 0.052739551354411524; … ; 0.0; 0.0;;]  …  [1.0197879581946783; -0.04021315327305664; … ; 0.0; 0.0;;], [0.9950166350867765; -0.006260281050716022; … ; 0.0; 0.0;;], [0.9956815962680899; 0.006021435501200205; … ; 0.0; 0.0;;], [1.054251951123328; -0.11418056319874804; … ; 0.0; 0.0;;], [0.9972901296216864; 0.010334249008204118; … ; 0.0; 0.0;;], [0.9970074334220527; 0.010119399283299213; … ; 0.0; 0.0;;], [1.0570912198371207; 0.11203540394119071; … ; 0.0; 0.0;;], [0.9913457147141526; 0.00888184023480701; … ; 0.0; 0.0;;], [1.0055143633484966; -0.027593391255170713; … ; 0.0; 0.0;;], [1.0030629064041163; 0.009956979635671189; … ; 0.0; 0.0;;]], Matrix{Float64}(undef, 0, 0), [0.0], [33, 34, 35, 36, 37, 38, 39, 40, 41, 42  …  185, 186, 187, 188, 189, 190, 191, 192, 193, 194], 1, :s)"
      ]
     },
     "metadata": {},
     "output_type": "display_data"
    }
   ],
   "source": [
    "S1 = FEM.solveStress(problem, q1)"
   ]
  },
  {
   "cell_type": "code",
   "execution_count": 23,
   "id": "45fe3f5f",
   "metadata": {},
   "outputs": [
    {
     "data": {
      "text/plain": [
       "LowLevelFEM.TensorField(Matrix{Float64}[], [1.1303639290764707; 0.16917889790836102; … ; 0.0; 0.0;;], [0.0], Int64[], 1, :s)"
      ]
     },
     "metadata": {},
     "output_type": "display_data"
    }
   ],
   "source": [
    "S2 = FEM.solveStress(problem, q1, DoFResults=true)"
   ]
  },
  {
   "cell_type": "code",
   "execution_count": 24,
   "id": "c9bdfc99",
   "metadata": {},
   "outputs": [
    {
     "name": "stdout",
     "output_type": "stream",
     "text": [
      "Info    : Running Plugin(Smooth)...\n",
      "Info    : Done running Plugin(Smooth)\n"
     ]
    },
    {
     "data": {
      "text/plain": [
       "7"
      ]
     },
     "metadata": {},
     "output_type": "display_data"
    }
   ],
   "source": [
    "FEM.showStressResults(problem, S1, :s)"
   ]
  },
  {
   "cell_type": "code",
   "execution_count": 25,
   "id": "be62d671",
   "metadata": {},
   "outputs": [
    {
     "data": {
      "text/plain": [
       "8"
      ]
     },
     "metadata": {},
     "output_type": "display_data"
    }
   ],
   "source": [
    "FEM.showDoFResults(problem, S2, :s)"
   ]
  },
  {
   "cell_type": "code",
   "execution_count": 26,
   "id": "1e24a75e",
   "metadata": {},
   "outputs": [
    {
     "data": {
      "text/plain": [
       "LowLevelFEM.TensorField(Matrix{Float64}[], [1.1303639290764707; 0.16917889790836102; … ; 0.0; 0.0;;], [0.0], Int64[], 1, :s)"
      ]
     },
     "metadata": {},
     "output_type": "display_data"
    }
   ],
   "source": [
    "S3 = FEM.elementsToNodes(problem, S1)"
   ]
  },
  {
   "cell_type": "code",
   "execution_count": 27,
   "id": "7c44010a",
   "metadata": {},
   "outputs": [
    {
     "data": {
      "text/plain": [
       "9"
      ]
     },
     "metadata": {},
     "output_type": "display_data"
    }
   ],
   "source": [
    "FEM.showDoFResults(problem, S3, :s)"
   ]
  },
  {
   "cell_type": "code",
   "execution_count": 28,
   "id": "a0686542",
   "metadata": {},
   "outputs": [
    {
     "name": "stdout",
     "output_type": "stream",
     "text": [
      "Info    : RCMK renumbering...\n",
      "Info    : Done RCMK renumbering (bandwidth is now 16)\n",
      "Info    : Renumbering nodal model data (9 steps)\n"
     ]
    },
    {
     "data": {
      "text/plain": [
       "LowLevelFEM.Problem(\"body1-2D\", :PlaneHeatConduction, 2, 1, LowLevelFEM.Material[LowLevelFEM.Material(\"body\", 200000.0, 0.3, 7.85e-9, 45.0, 4.2e8, 1.2e-5, 115384.61538461536, 76923.07692307692, 166666.66666666666)], 1.0, 98)"
      ]
     },
     "metadata": {},
     "output_type": "display_data"
    }
   ],
   "source": [
    "thermo = FEM.Problem([mat], type=:PlaneHeatConduction)"
   ]
  },
  {
   "cell_type": "code",
   "execution_count": 29,
   "id": "ba6bc157",
   "metadata": {},
   "outputs": [
    {
     "data": {
      "text/plain": [
       "LowLevelFEM.ScalarField(Matrix{Float64}[], [0.0; -0.062499999999999924; … ; 0.0; 0.0;;], Float64[], Int64[], 1, :qn)"
      ]
     },
     "metadata": {},
     "output_type": "display_data"
    }
   ],
   "source": [
    "temp = FEM.temperatureConstraint(\"left\", T=0)\n",
    "flux = FEM.heatFlux(\"right\", qn=1)\n",
    "\n",
    "flx = FEM.heatFluxVector(thermo, [flux])"
   ]
  },
  {
   "cell_type": "code",
   "execution_count": 30,
   "id": "216e0638",
   "metadata": {},
   "outputs": [
    {
     "data": {
      "text/plain": [
       "LowLevelFEM.ScalarField(Matrix{Float64}[], [0.0; -0.02222222222222229; … ; -0.005781351831909781; -0.016643653924583945;;], [0.0], Int64[], 1, :T)"
      ]
     },
     "metadata": {},
     "output_type": "display_data"
    }
   ],
   "source": [
    "KT = FEM.heatConductionMatrix(thermo)\n",
    "\n",
    "FEM.applyBoundaryConditions!(thermo, KT, flx, [temp])\n",
    "\n",
    "T1 = FEM.solveTemperature(KT, flx)"
   ]
  },
  {
   "cell_type": "code",
   "execution_count": 31,
   "id": "256a8b96",
   "metadata": {},
   "outputs": [
    {
     "data": {
      "text/plain": [
       "10"
      ]
     },
     "metadata": {},
     "output_type": "display_data"
    }
   ],
   "source": [
    "FEM.showDoFResults(thermo, T1, :T)"
   ]
  },
  {
   "cell_type": "code",
   "execution_count": 32,
   "id": "e5018b61",
   "metadata": {},
   "outputs": [
    {
     "data": {
      "text/plain": [
       "LowLevelFEM.ScalarField(Matrix{Float64}[], [0.0; -0.02222222222222229; … ; -0.005781351831909781; -0.016643653924583945;;], [0.0], Int64[], 1, :T)"
      ]
     },
     "metadata": {},
     "output_type": "display_data"
    }
   ],
   "source": [
    "T2 = FEM.solveTemperature(thermo, [flux], [temp])"
   ]
  },
  {
   "cell_type": "code",
   "execution_count": 33,
   "id": "62b2b69c",
   "metadata": {},
   "outputs": [
    {
     "data": {
      "text/plain": [
       "11"
      ]
     },
     "metadata": {},
     "output_type": "display_data"
    }
   ],
   "source": [
    "FEM.showDoFResults(thermo, T2, :T)"
   ]
  },
  {
   "cell_type": "code",
   "execution_count": 34,
   "id": "6701b1aa",
   "metadata": {},
   "outputs": [
    {
     "data": {
      "text/plain": [
       "LowLevelFEM.VectorField([[0.9999999999999989; -1.2490009027033011e-15; … ; -1.2490009027033011e-15; 0.0;;], [0.9999999999999973; 1.2490009027033011e-15; … ; 1.2490009027033011e-15; 0.0;;], [1.0000000000000002; -8.118505867571457e-15; … ; -8.118505867571457e-15; 0.0;;], [1.0000000000000024; -4.683753385137379e-16; … ; -4.683753385137379e-16; 0.0;;], [1.000000000000004; -2.4980018054066022e-15; … ; -2.4980018054066022e-15; 0.0;;], [1.000000000000003; 7.806255641895632e-17; … ; 7.806255641895632e-17; 0.0;;], [0.9999999999999989; 7.494005416219807e-15; … ; 7.494005416219807e-15; 0.0;;], [1.000000000000004; -3.122502256758253e-16; … ; -3.122502256758253e-16; 0.0;;], [1.0000000000000042; -7.806255641895632e-16; … ; -7.806255641895632e-16; 0.0;;], [1.0000000000000044; -3.122502256758253e-16; … ; -3.122502256758253e-16; 0.0;;]  …  [1.0000000000000024; -3.1225022567582528e-15; … ; -3.1225022567582528e-15; 0.0;;], [1.000000000000003; 0.0; … ; 0.0; 0.0;;], [0.9999999999999977; 1.5612511283791264e-15; … ; 1.5612511283791264e-15; 0.0;;], [1.0000000000000029; -6.245004513516506e-16; … ; -6.245004513516506e-16; 0.0;;], [1.0000000000000033; 6.245004513516506e-16; … ; 6.245004513516506e-16; 0.0;;], [1.0000000000000033; -2.4980018054066022e-15; … ; -2.4980018054066022e-15; 0.0;;], [1.000000000000004; 3.903127820947816e-16; … ; 3.903127820947816e-16; 0.0;;], [1.0000000000000064; 6.245004513516506e-16; … ; 6.245004513516506e-16; 0.0;;], [1.000000000000002; 7.806255641895632e-16; … ; 7.806255641895632e-16; 0.0;;], [1.0000000000000027; 1.2490009027033011e-15; … ; 1.2490009027033011e-15; 0.0;;]], Matrix{Float64}(undef, 0, 0), [0.0], [33, 34, 35, 36, 37, 38, 39, 40, 41, 42  …  185, 186, 187, 188, 189, 190, 191, 192, 193, 194], 1, :q2D)"
      ]
     },
     "metadata": {},
     "output_type": "display_data"
    }
   ],
   "source": [
    "qT1 = FEM.solveHeatFlux(thermo, T2)"
   ]
  },
  {
   "cell_type": "code",
   "execution_count": 35,
   "id": "df8e8b88",
   "metadata": {},
   "outputs": [
    {
     "name": "stdout",
     "output_type": "stream",
     "text": [
      "Info    : Running Plugin(Smooth)...\n",
      "Info    : Done running Plugin(Smooth)\n"
     ]
    },
    {
     "data": {
      "text/plain": [
       "12"
      ]
     },
     "metadata": {},
     "output_type": "display_data"
    }
   ],
   "source": [
    "FEM.showElementResults(thermo, qT1, :qvec)"
   ]
  },
  {
   "cell_type": "code",
   "execution_count": 36,
   "id": "9182fc68",
   "metadata": {},
   "outputs": [
    {
     "data": {
      "text/plain": [
       "LowLevelFEM.VectorField(Matrix{Float64}[], [1.000000000000004; 7.806255641895632e-17; … ; 1.0000000000000027; 1.0408340855860843e-15;;], [0.0], Int64[], 1, :q2D)"
      ]
     },
     "metadata": {},
     "output_type": "display_data"
    }
   ],
   "source": [
    "qT2 = FEM.solveHeatFlux(thermo, T2, DoFResults=true)"
   ]
  },
  {
   "cell_type": "code",
   "execution_count": 37,
   "id": "8f78b4be",
   "metadata": {},
   "outputs": [
    {
     "data": {
      "text/plain": [
       "13"
      ]
     },
     "metadata": {},
     "output_type": "display_data"
    }
   ],
   "source": [
    "FEM.showDoFResults(thermo, qT2, :qvec)"
   ]
  },
  {
   "cell_type": "code",
   "execution_count": 38,
   "id": "f21b2d03",
   "metadata": {},
   "outputs": [
    {
     "data": {
      "text/plain": [
       "LowLevelFEM.VectorField(Matrix{Float64}[], [1.000000000000004; 7.806255641895632e-17; … ; 1.0408340855860843e-15; 0.0;;], [0.0], Int64[], 1, :q2D)"
      ]
     },
     "metadata": {},
     "output_type": "display_data"
    }
   ],
   "source": [
    "qT3 = FEM.elementsToNodes(thermo, qT1)"
   ]
  },
  {
   "cell_type": "code",
   "execution_count": 39,
   "id": "fb70e93f",
   "metadata": {},
   "outputs": [
    {
     "data": {
      "text/plain": [
       "14"
      ]
     },
     "metadata": {},
     "output_type": "display_data"
    }
   ],
   "source": [
    "FEM.showDoFResults(thermo, qT3, :qvec)"
   ]
  },
  {
   "cell_type": "code",
   "execution_count": 40,
   "id": "e1daf3ac",
   "metadata": {},
   "outputs": [
    {
     "data": {
      "text/plain": [
       "(\"top\", 100, 20, 0 + 2im)"
      ]
     },
     "metadata": {},
     "output_type": "display_data"
    }
   ],
   "source": [
    "heatconvB = FEM.heatConvection(\"bottom\", h=1, Tₐ=0)\n",
    "heatconvT = FEM.heatConvection(\"top\", h=100, Tₐ=20)"
   ]
  },
  {
   "cell_type": "code",
   "execution_count": 41,
   "id": "5b4844cb",
   "metadata": {},
   "outputs": [
    {
     "data": {
      "text/plain": [
       "LowLevelFEM.ScalarField(Matrix{Float64}[], [0.0; 6.028905064944964; … ; 6.149721965107743; 10.661603694875508;;], [0.0], Int64[], 1, :T)"
      ]
     },
     "metadata": {},
     "output_type": "display_data"
    }
   ],
   "source": [
    "T3 = FEM.solveTemperature(thermo, [], [temp], [heatconvB, heatconvT])"
   ]
  },
  {
   "cell_type": "code",
   "execution_count": 42,
   "id": "fde6bb7d",
   "metadata": {},
   "outputs": [
    {
     "data": {
      "text/plain": [
       "15"
      ]
     },
     "metadata": {},
     "output_type": "display_data"
    }
   ],
   "source": [
    "FEM.showDoFResults(thermo, T3, :T)"
   ]
  },
  {
   "cell_type": "code",
   "execution_count": 43,
   "id": "8cb70d7c",
   "metadata": {},
   "outputs": [
    {
     "data": {
      "text/plain": [
       "LowLevelFEM.VectorField(Matrix{Float64}[], [0.00029049635220987537; 0.00019841269841269923; … ; 0.0007247225068676066; 4.336808689942018e-19;;], [0.0], Int64[], 1, :f2D)"
      ]
     },
     "metadata": {},
     "output_type": "display_data"
    }
   ],
   "source": [
    "fT = FEM.thermalLoadVector(problem, T1)"
   ]
  },
  {
   "cell_type": "code",
   "execution_count": 44,
   "id": "f38a169a",
   "metadata": {},
   "outputs": [
    {
     "data": {
      "text/plain": [
       "LowLevelFEM.VectorField(Matrix{Float64}[], [0.0; 0.0; … ; 3.6823357906910687e-6; -5.003913738015893e-7;;], [0.0], Int64[], 1, :u2D)"
      ]
     },
     "metadata": {},
     "output_type": "display_data"
    }
   ],
   "source": [
    "FEM.applyBoundaryConditions!(problem, K, f, [supp])\n",
    "q5 = FEM.solveDisplacement(K, f)"
   ]
  },
  {
   "cell_type": "code",
   "execution_count": 45,
   "id": "6475f2b5",
   "metadata": {},
   "outputs": [
    {
     "data": {
      "text/plain": [
       "LowLevelFEM.TensorField([[1.058359580269888; -0.006902972340811707; … ; 0.0; 0.0;;], [1.0695259424925514; -0.007736663097987958; … ; 0.0; 0.0;;], [1.071632671732965; 0.00440896179226579; … ; 0.0; 0.0;;], [1.0059436584552681; -0.03633039067916823; … ; 0.0; 0.0;;], [1.0603722838087484; 0.0034033024962726623; … ; 0.0; 0.0;;], [0.9767636123168648; -0.015836695767566102; … ; 0.0; 0.0;;], [1.0784162663175658; -0.0013578692245808188; … ; 0.0; 0.0;;], [1.0291384207861727; 0.07275103369379658; … ; 0.0; 0.0;;], [1.0278877071517016; 0.014832092541356624; … ; 0.0; 0.0;;], [0.985655332208538; 0.052739551354411524; … ; 0.0; 0.0;;]  …  [1.0340736724803927; -0.04021315327305664; … ; 0.0; 0.0;;], [1.0568810410936256; -0.006260281050716022; … ; 0.0; 0.0;;], [1.0626705839432378; 0.006021435501200205; … ; 0.0; 0.0;;], [1.0685376654090424; -0.11418056319874804; … ; 0.0; 0.0;;], [1.0495477570810272; 0.010334249008204118; … ; 0.0; 0.0;;], [1.0446264810411006; 0.010119399283299213; … ; 0.0; 0.0;;], [1.065432948765784; 0.11203540394119071; … ; 0.0; 0.0;;], [1.0437029820676915; 0.00888184023480701; … ; 0.0; 0.0;;], [1.0293861867069711; -0.027593391255170713; … ; 0.0; 0.0;;], [1.0634307070887705; 0.009956979635671189; … ; 0.0; 0.0;;]], Matrix{Float64}(undef, 0, 0), [0.0], [33, 34, 35, 36, 37, 38, 39, 40, 41, 42  …  185, 186, 187, 188, 189, 190, 191, 192, 193, 194], 1, :s)"
      ]
     },
     "metadata": {},
     "output_type": "display_data"
    }
   ],
   "source": [
    "ST1 = FEM.solveStress(problem, q5, T=T1)"
   ]
  },
  {
   "cell_type": "code",
   "execution_count": 46,
   "id": "20c45766",
   "metadata": {},
   "outputs": [
    {
     "data": {
      "text/plain": [
       "LowLevelFEM.TensorField([[1.0000992183498087; -0.006902972340811707; … ; 0.0; 0.0;;], [1.0015833272904981; -0.007736663097987958; … ; 0.0; 0.0;;], [1.0046809872341094; 0.00440896179226579; … ; 0.0; 0.0;;], [0.9969331681617983; -0.03633039067916823; … ; 0.0; 0.0;;], [1.0027864670348783; 0.0034033024962726623; … ; 0.0; 0.0;;], [0.9677531220233949; -0.015836695767566102; … ; 0.0; 0.0;;], [1.0022257901270892; -0.0013578692245808188; … ; 0.0; 0.0;;], [1.0207966918575093; 0.07275103369379658; … ; 0.0; 0.0;;], [1.004276899261138; 0.014832092541356624; … ; 0.0; 0.0;;], [0.972103086923043; 0.052739551354411524; … ; 0.0; 0.0;;]  …  [1.0197879581946783; -0.04021315327305664; … ; 0.0; 0.0;;], [0.9950166350867765; -0.006260281050716022; … ; 0.0; 0.0;;], [0.9956815962680899; 0.006021435501200205; … ; 0.0; 0.0;;], [1.054251951123328; -0.11418056319874804; … ; 0.0; 0.0;;], [0.9972901296216864; 0.010334249008204118; … ; 0.0; 0.0;;], [0.9970074334220527; 0.010119399283299213; … ; 0.0; 0.0;;], [1.0570912198371207; 0.11203540394119071; … ; 0.0; 0.0;;], [0.9913457147141526; 0.00888184023480701; … ; 0.0; 0.0;;], [1.0055143633484966; -0.027593391255170713; … ; 0.0; 0.0;;], [1.0030629064041163; 0.009956979635671189; … ; 0.0; 0.0;;]], Matrix{Float64}(undef, 0, 0), [0.0], [33, 34, 35, 36, 37, 38, 39, 40, 41, 42  …  185, 186, 187, 188, 189, 190, 191, 192, 193, 194], 1, :s)"
      ]
     },
     "metadata": {},
     "output_type": "display_data"
    }
   ],
   "source": [
    "ST2 = FEM.solveStress(problem, q5, T=T1, T₀=T1)"
   ]
  },
  {
   "cell_type": "code",
   "execution_count": 47,
   "id": "0cf15977",
   "metadata": {},
   "outputs": [
    {
     "name": "stdout",
     "output_type": "stream",
     "text": [
      "Info    : Running Plugin(Smooth)...\n",
      "Info    : Done running Plugin(Smooth)\n"
     ]
    },
    {
     "data": {
      "text/plain": [
       "16"
      ]
     },
     "metadata": {},
     "output_type": "display_data"
    }
   ],
   "source": [
    "FEM.showElementResults(problem, ST1, :s)"
   ]
  },
  {
   "cell_type": "code",
   "execution_count": 48,
   "id": "7b06da70",
   "metadata": {},
   "outputs": [
    {
     "name": "stdout",
     "output_type": "stream",
     "text": [
      "Info    : Running Plugin(Smooth)...\n",
      "Info    : Done running Plugin(Smooth)\n"
     ]
    },
    {
     "data": {
      "text/plain": [
       "17"
      ]
     },
     "metadata": {},
     "output_type": "display_data"
    }
   ],
   "source": [
    "FEM.showElementResults(problem, ST2, :s)"
   ]
  },
  {
   "cell_type": "code",
   "execution_count": 49,
   "id": "e07f8b10",
   "metadata": {},
   "outputs": [
    {
     "name": "stdout",
     "output_type": "stream",
     "text": [
      "-------------------------------------------------------\n",
      "Version       : 4.13.1\n",
      "License       : GNU General Public License\n",
      "Build OS      : Linux64-sdk\n",
      "Build date    : 19700101\n",
      "Build host    : amdci7.julia.csail.mit.edu\n",
      "Build options : 64Bit ALGLIB[contrib] ANN[contrib] Bamg Blossom Cairo DIntegration Dlopen DomHex Eigen[contrib] Fltk GMP Gmm[contrib] Hxt Jpeg Kbipack LinuxJoystick MathEx[contrib] Mesh Metis[contrib] Mmg Mpeg Netgen Nii2mesh ONELAB ONELABMetamodel OpenCASCADE OpenCASCADE-CAF OpenGL OpenMP OptHom Parser Plugins Png Post QuadMeshingTools QuadTri Solver TetGen/BR TinyXML2[contrib] Untangle Voro++[contrib] WinslowUntangler Zlib\n",
      "FLTK version  : 1.3.8\n",
      "OCC version   : 7.7.2\n",
      "Packaged by   : root\n",
      "Web site      : https://gmsh.info\n",
      "Issue tracker : https://gitlab.onelab.info/gmsh/gmsh/issues\n",
      "-------------------------------------------------------\n"
     ]
    },
    {
     "name": "stderr",
     "output_type": "stream",
     "text": [
      "XOpenIM() failed\n",
      "XRequest.18: BadValue 0x0\n"
     ]
    }
   ],
   "source": [
    "FEM.openPostProcessor()"
   ]
  },
  {
   "cell_type": "code",
   "execution_count": 50,
   "id": "076f84a7",
   "metadata": {},
   "outputs": [],
   "source": [
    "gmsh.finalize()"
   ]
  }
 ],
 "metadata": {
  "kernelspec": {
   "display_name": "Julia 1.11.5",
   "language": "julia",
   "name": "julia-1.11"
  },
  "language_info": {
   "file_extension": ".jl",
   "mimetype": "application/julia",
   "name": "julia",
   "version": "1.11.5"
  }
 },
 "nbformat": 4,
 "nbformat_minor": 5
}
