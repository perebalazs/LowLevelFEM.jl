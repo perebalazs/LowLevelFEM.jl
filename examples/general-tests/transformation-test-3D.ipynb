{
 "cells": [
  {
   "cell_type": "code",
   "execution_count": 56,
   "id": "e6971cbb",
   "metadata": {},
   "outputs": [],
   "source": [
    "using LowLevelFEM\n",
    "import LowLevelFEM as FEM\n",
    "gmsh.initialize()"
   ]
  },
  {
   "cell_type": "code",
   "execution_count": 57,
   "id": "98dbf98c",
   "metadata": {},
   "outputs": [
    {
     "name": "stdout",
     "output_type": "stream",
     "text": [
      "Info    : Reading 'test-twist-3D.geo'...\n",
      "Info    : Meshing 1D...\n",
      "Info    : [  0%] Meshing curve 1 (Circle)\n",
      "Info    : [ 40%] Meshing curve 2 (Line)\n",
      "Info    : [ 70%] Meshing curve 3 (Circle)\n",
      "Info    : Done meshing 1D (Wall 0.000511112s, CPU 0.000503s)\n",
      "Info    : Meshing 2D...\n",
      "Info    : [  0%] Meshing surface 1 (Cylinder, Frontal-Delaunay)\n",
      "Info    : [ 40%] Meshing surface 2 (Plane, Frontal-Delaunay)\n",
      "Info    : [ 70%] Meshing surface 3 (Plane, Frontal-Delaunay)\n",
      "Info    : Done meshing 2D (Wall 0.0440311s, CPU 0.037442s)\n",
      "Info    : Meshing 3D...\n",
      "Info    : 3D Meshing 1 volume with 1 connected component\n",
      "Info    : Tetrahedrizing 351 nodes...\n",
      "Info    : Done tetrahedrizing 359 nodes (Wall 0.00665588s, CPU 0.00554s)\n",
      "Info    : Reconstructing mesh...\n",
      "Info    :  - Creating surface mesh\n",
      "Info    :  - Identifying boundary edges\n",
      "Info    :  - Recovering boundary\n",
      "Info    : Done reconstructing mesh (Wall 0.0158561s, CPU 0.014159s)\n",
      "Info    : Found volume 1\n",
      "Info    : It. 0 - 0 nodes created - worst tet radius 2.08616 (nodes removed 0 0)\n",
      "Info    : 3D refinement terminated (435 nodes total):\n",
      "Info    :  - 0 Delaunay cavities modified for star shapeness\n",
      "Info    :  - 0 nodes could not be inserted\n",
      "Info    :  - 1453 tetrahedra created in 0.0113718 sec. (127772 tets/s)\n",
      "Info    : 0 node relocations\n",
      "Info    : Done meshing 3D (Wall 0.0496948s, CPU 0.047587s)\n",
      "Info    : Optimizing mesh...\n",
      "Info    : Optimizing volume 1\n",
      "Info    : Optimization starts (volume = 30459.3) with worst = 0.0206338 / average = 0.763323:\n",
      "Info    : 0.00 < quality < 0.10 :         7 elements\n",
      "Info    : 0.10 < quality < 0.20 :         7 elements\n",
      "Info    : 0.20 < quality < 0.30 :        10 elements\n",
      "Info    : 0.30 < quality < 0.40 :        40 elements\n",
      "Info    : 0.40 < quality < 0.50 :        37 elements\n",
      "Info    : 0.50 < quality < 0.60 :        59 elements\n",
      "Info    : 0.60 < quality < 0.70 :       171 elements\n",
      "Info    : 0.70 < quality < 0.80 :       462 elements\n",
      "Info    : 0.80 < quality < 0.90 :       443 elements\n",
      "Info    : 0.90 < quality < 1.00 :       217 elements\n",
      "Info    : 24 edge swaps, 2 node relocations (volume = 30459.3): worst = 0.29713 / average = 0.774295 (Wall 0.00109817s, CPU 0.001073s)\n",
      "Info    : 25 edge swaps, 2 node relocations (volume = 30459.3): worst = 0.300163 / average = 0.774816 (Wall 0.00146757s, CPU 0.001411s)\n",
      "Info    : No ill-shaped tets in the mesh :-)\n",
      "Info    : 0.00 < quality < 0.10 :         0 elements\n",
      "Info    : 0.10 < quality < 0.20 :         0 elements\n",
      "Info    : 0.20 < quality < 0.30 :         0 elements\n",
      "Info    : 0.30 < quality < 0.40 :        39 elements\n",
      "Info    : 0.40 < quality < 0.50 :        39 elements\n",
      "Info    : 0.50 < quality < 0.60 :        58 elements\n",
      "Info    : 0.60 < quality < 0.70 :       164 elements\n",
      "Info    : 0.70 < quality < 0.80 :       457 elements\n",
      "Info    : 0.80 < quality < 0.90 :       454 elements\n",
      "Info    : 0.90 < quality < 1.00 :       219 elements\n",
      "Info    : Done optimizing mesh (Wall 0.00636915s, CPU 0.006143s)\n",
      "Info    : Meshing order 2 (curvilinear on)...\n",
      "Info    : [  0%] Meshing curve 1 order 2\n",
      "Info    : [ 20%] Meshing curve 2 order 2\n",
      "Info    : [ 30%] Meshing curve 3 order 2\n",
      "Info    : [ 50%] Meshing surface 1 order 2\n",
      "Info    : [ 60%] Meshing surface 2 order 2\n",
      "Info    : [ 80%] Meshing surface 3 order 2\n",
      "Info    : [ 90%] Meshing volume 1 order 2\n",
      "Info    : Surface mesh: worst distortion = 0.971153 (0 elements in ]0, 0.2]); worst gamma = 0.717041\n",
      "Info    : Volume mesh: worst distortion = 0.756548 (0 elements in ]0, 0.2])\n",
      "Info    : Done meshing order 2 (Wall 0.0195049s, CPU 0.019011s)\n",
      "Info    : 2648 nodes 2176 elements\n",
      "Info    : Done reading 'test-twist-3D.geo'\n"
     ]
    }
   ],
   "source": [
    "gmsh.open(\"test-twist-3D.geo\")"
   ]
  },
  {
   "cell_type": "code",
   "execution_count": 58,
   "id": "d6cfe4b5",
   "metadata": {},
   "outputs": [
    {
     "data": {
      "text/plain": [
       "LowLevelFEM.Material(\"body\", 200000.0, 0.0, 7.85e-9, 45.0, 4.2e8, 1.2e-5, 0.0, 100000.0, 66666.66666666667)"
      ]
     },
     "metadata": {},
     "output_type": "display_data"
    }
   ],
   "source": [
    "mat = FEM.material(\"body\", ν=0)"
   ]
  },
  {
   "cell_type": "code",
   "execution_count": 59,
   "id": "bd5fea8a",
   "metadata": {},
   "outputs": [
    {
     "name": "stdout",
     "output_type": "stream",
     "text": [
      "Info    : RCMK renumbering...\n",
      "Info    : Done RCMK renumbering (bandwidth is now 302)\n"
     ]
    },
    {
     "data": {
      "text/plain": [
       "LowLevelFEM.Problem(\"test-twist-3D\", :Solid, 3, 3, LowLevelFEM.Material[LowLevelFEM.Material(\"body\", 200000.0, 0.0, 7.85e-9, 45.0, 4.2e8, 1.2e-5, 0.0, 100000.0, 66666.66666666667)], 1.0, 2648)"
      ]
     },
     "metadata": {},
     "output_type": "display_data"
    }
   ],
   "source": [
    "problem = FEM.Problem([mat])"
   ]
  },
  {
   "cell_type": "code",
   "execution_count": 60,
   "id": "4eb4d450",
   "metadata": {},
   "outputs": [
    {
     "data": {
      "text/plain": [
       "LowLevelFEM.VectorField(Matrix{Float64}[], [-2.4492935982947064e-18; -0.00999999999999999; … ; -0.0024129373526609733; 0.008770688268828654;;], [0.0], Int64[], 1, :u3D)"
      ]
     },
     "metadata": {},
     "output_type": "display_data"
    }
   ],
   "source": [
    "ux(x, y, z) = -z * y / 100000\n",
    "uy(x, y, z) = z * x / 100000\n",
    "uz(x, y, z) = z / 10000\n",
    "f = FEM.field(\"body\", fx=ux, fy=uy, fz=uz)\n",
    "u = FEM.vectorField(problem, [f])"
   ]
  },
  {
   "cell_type": "code",
   "execution_count": 61,
   "id": "091b7cd4",
   "metadata": {},
   "outputs": [
    {
     "data": {
      "text/plain": [
       "0"
      ]
     },
     "metadata": {},
     "output_type": "display_data"
    }
   ],
   "source": [
    "FEM.showDoFResults(problem, u, :uvec)"
   ]
  },
  {
   "cell_type": "code",
   "execution_count": 62,
   "id": "39740b7a",
   "metadata": {},
   "outputs": [
    {
     "data": {
      "text/plain": [
       "LowLevelFEM.Transformation(sparse([1, 2, 1, 2, 3, 4, 5, 4, 5, 6  …  7939, 7940, 7939, 7940, 7941, 7942, 7943, 7942, 7943, 7944], [1, 1, 2, 2, 3, 4, 4, 5, 5, 6  …  7939, 7939, 7940, 7940, 7941, 7942, 7942, 7943, 7943, 7944], [-1.0, 2.449293598294709e-16, -2.449293598294709e-16, -1.0, 1.0, -1.0, 2.4492935982947064e-16, -2.4492935982947064e-16, -1.0, 1.0  …  0.29415176552189454, 0.9557587241769506, -0.9557587241769506, 0.2941517655218945, 1.0, -0.9014841566908509, 0.4328121015352799, -0.4328121015352798, -0.9014841566908509, 1.0], 7944, 7944), 2648, 3)"
      ]
     },
     "metadata": {},
     "output_type": "display_data"
    }
   ],
   "source": [
    "n1x(x, y, z) = x\n",
    "n1y(x, y, z) = y\n",
    "n2x(x, y, z) = -y\n",
    "n2y(x, y, z) = x\n",
    "cs = FEM.CoordinateSystem([n1x, n1y, 0], [n2x, n2y, 0])\n",
    "Q = FEM.rotateNodes(problem, \"body\", cs)"
   ]
  },
  {
   "cell_type": "code",
   "execution_count": 63,
   "id": "843bf77a",
   "metadata": {},
   "outputs": [
    {
     "data": {
      "text/plain": [
       "1"
      ]
     },
     "metadata": {},
     "output_type": "display_data"
    }
   ],
   "source": [
    "FEM.showDoFResults(problem, Q' * u, :uvec)"
   ]
  },
  {
   "cell_type": "code",
   "execution_count": 64,
   "id": "6cd30f4d",
   "metadata": {},
   "outputs": [
    {
     "data": {
      "text/plain": [
       "LowLevelFEM.TensorField([[2.168404344971009e-19; 8.673617379884035e-19; … ; -2.2947987790176635e-6; 0.00010000000000000113;;], [2.710505431213761e-19; 2.710505431213761e-19; … ; -1.779658706575387e-5; 9.999999999999972e-5;;], [4.336808689942018e-19; 8.673617379884035e-19; … ; -1.2761178435102382e-5; 9.99999999999994e-5;;], [0.0; -1.0842021724855044e-19; … ; 7.975637002282537e-6; 9.99999999999995e-5;;], [-2.710505431213761e-19; -1.0842021724855044e-19; … ; 1.9105829146866618e-5; 9.999999999999994e-5;;], [-3.2526065174565133e-19; -2.168404344971009e-19; … ; 1.1481441538822032e-5; 9.999999999999983e-5;;], [1.0842021724855044e-19; 2.168404344971009e-19; … ; -2.526285831533294e-5; 9.99999999999994e-5;;], [-2.168404344971009e-19; 0.0; … ; -2.7692411135723724e-6; 9.999999999999983e-5;;], [-1.4181267808148018e-6; -8.116477483107484e-7; … ; 1.9105829146866672e-5; 0.00010000000000000018;;], [-3.3881317890172014e-21; 0.0; … ; 1.1481441538823117e-5; 0.00010000000000000026;;]  …  [-2.2910715222132505e-6; 5.325259163080354e-7; … ; -1.1079176610753142e-5; 0.00010000000000000026;;], [1.8408668376827114e-6; -7.658901610184746e-7; … ; -2.1225512594462686e-5; 0.00010000000000000178;;], [-1.5039359445105492e-7; -2.7239714780643556e-7; … ; -3.725165027010995e-5; 0.0001;;], [-2.256949153578792e-36; 6.018531076210112e-36; … ; -2.6230608978260483e-5; 0.00010000000000000002;;], [-1.6215085631046504e-7; 2.287123060935696e-7; … ; -2.9588920299286527e-5; 9.999999999999918e-5;;], [-4.336808689942018e-19; 4.336808689942018e-19; … ; -2.8176309915413627e-5; 9.999999999999961e-5;;], [8.154182653741433e-7; -1.9848101668313678e-7; … ; -3.665980760413424e-5; 9.999999999999998e-5;;], [-4.4605540701931216e-21; 6.907482691882997e-21; … ; -2.2204373348101305e-5; 9.999999999999999e-5;;], [2.168404344971009e-19; 2.168404344971009e-19; … ; 1.9818476290304077e-5; 0.00010000000000000005;;], [8.131516293641283e-20; 5.421010862427522e-20; … ; 1.828809904538657e-5; 9.999999999999983e-5;;]], Matrix{Float64}(undef, 0, 0), [0.0], [83, 84, 85, 86, 87, 88, 89, 90, 91, 92  …  1503, 1504, 1505, 1506, 1507, 1508, 1509, 1510, 1511, 1512], 1, :e)"
      ]
     },
     "metadata": {},
     "output_type": "display_data"
    }
   ],
   "source": [
    "E = FEM.solveStrain(problem, u)"
   ]
  },
  {
   "cell_type": "code",
   "execution_count": 65,
   "id": "7d485af6",
   "metadata": {},
   "outputs": [
    {
     "data": {
      "text/plain": [
       "LowLevelFEM.TensorField(Matrix{Float64}[], [3.28791220023379e-8; -1.6199447148274298e-7; … ; -1.3755689854105446e-5; 9.999999999999885e-5;;], [0.0], Int64[], 1, :e)"
      ]
     },
     "metadata": {},
     "output_type": "display_data"
    }
   ],
   "source": [
    "E = FEM.elementsToNodes(problem, E)"
   ]
  },
  {
   "cell_type": "code",
   "execution_count": 66,
   "id": "44c8f763",
   "metadata": {},
   "outputs": [
    {
     "data": {
      "text/plain": [
       "7"
      ]
     },
     "metadata": {},
     "output_type": "display_data"
    }
   ],
   "source": [
    "FEM.showDoFResults(problem, E, :ex)\n",
    "FEM.showDoFResults(problem, E, :ey)\n",
    "FEM.showDoFResults(problem, E, :ez)\n",
    "FEM.showDoFResults(problem, E, :exy)\n",
    "FEM.showDoFResults(problem, E, :eyz)\n",
    "FEM.showDoFResults(problem, E, :ezx)"
   ]
  },
  {
   "cell_type": "code",
   "execution_count": 67,
   "id": "29ae2052",
   "metadata": {},
   "outputs": [
    {
     "data": {
      "text/plain": [
       "13"
      ]
     },
     "metadata": {},
     "output_type": "display_data"
    }
   ],
   "source": [
    "FEM.showDoFResults(problem, Q' * E * Q, :ex)\n",
    "FEM.showDoFResults(problem, Q' * E * Q, :ey)\n",
    "FEM.showDoFResults(problem, Q' * E * Q, :ez)\n",
    "FEM.showDoFResults(problem, Q' * E * Q, :exy)\n",
    "FEM.showDoFResults(problem, Q' * E * Q, :eyz)\n",
    "FEM.showDoFResults(problem, Q' * E * Q, :ezx)"
   ]
  },
  {
   "cell_type": "code",
   "execution_count": 68,
   "id": "17c2ee65",
   "metadata": {},
   "outputs": [
    {
     "data": {
      "text/plain": [
       "LowLevelFEM.TensorField([[4.336808689942018e-14; 1.734723475976807e-13; … ; -0.4589597558035327; 20.000000000000227;;], [5.421010862427522e-14; 5.421010862427522e-14; … ; -3.559317413150774; 19.999999999999943;;], [8.673617379884035e-14; 1.734723475976807e-13; … ; -2.5522356870204765; 19.99999999999988;;], [0.0; -2.168404344971009e-14; … ; 1.5951274004565075; 19.9999999999999;;], [-5.421010862427522e-14; -2.168404344971009e-14; … ; 3.8211658293733235; 19.999999999999986;;], [-6.505213034913027e-14; -4.336808689942018e-14; … ; 2.2962883077644065; 19.999999999999964;;], [2.168404344971009e-14; 4.336808689942018e-14; … ; -5.052571663066589; 19.99999999999988;;], [-4.336808689942018e-14; 0.0; … ; -0.5538482227144745; 19.999999999999964;;], [-0.28362535616296036; -0.16232954966214969; … ; 3.8211658293733346; 20.000000000000036;;], [-6.776263578034403e-16; 0.0; … ; 2.2962883077646232; 20.000000000000053;;]  …  [-0.4582143044426501; 0.10650518326160707; … ; -2.2158353221506286; 20.000000000000053;;], [0.3681733675365423; -0.1531780322036949; … ; -4.245102518892537; 20.000000000000355;;], [-0.030078718890210982; -0.05447942956128711; … ; -7.45033005402199; 20.0;;], [-4.513898307157584e-31; 1.2037062152420224e-30; … ; -5.246121795652097; 20.000000000000004;;], [-0.03243017126209301; 0.04574246121871392; … ; -5.917784059857305; 19.999999999999837;;], [-8.673617379884035e-14; 8.673617379884035e-14; … ; -5.635261983082725; 19.999999999999922;;], [0.16308365307482867; -0.03969620333662736; … ; -7.331961520826848; 19.999999999999996;;], [-8.921108140386244e-16; 1.3814965383765995e-15; … ; -4.440874669620261; 20.0;;], [4.336808689942018e-14; 4.336808689942018e-14; … ; 3.9636952580608154; 20.00000000000001;;], [1.6263032587282567e-14; 1.0842021724855044e-14; … ; 3.657619809077314; 19.999999999999964;;]], Matrix{Float64}(undef, 0, 0), [0.0], [83, 84, 85, 86, 87, 88, 89, 90, 91, 92  …  1503, 1504, 1505, 1506, 1507, 1508, 1509, 1510, 1511, 1512], 1, :s)"
      ]
     },
     "metadata": {},
     "output_type": "display_data"
    }
   ],
   "source": [
    "S = FEM.solveStress(problem, u)"
   ]
  },
  {
   "cell_type": "code",
   "execution_count": 69,
   "id": "9c1333ce",
   "metadata": {},
   "outputs": [
    {
     "data": {
      "text/plain": [
       "LowLevelFEM.TensorField(Matrix{Float64}[], [0.006575824400467581; -0.032398894296548596; … ; -2.7511379708210892; 19.99999999999977;;], [0.0], Int64[], 1, :s)"
      ]
     },
     "metadata": {},
     "output_type": "display_data"
    }
   ],
   "source": [
    "S = FEM.elementsToNodes(problem, S)"
   ]
  },
  {
   "cell_type": "code",
   "execution_count": 70,
   "id": "bb7afefb",
   "metadata": {},
   "outputs": [
    {
     "data": {
      "text/plain": [
       "19"
      ]
     },
     "metadata": {},
     "output_type": "display_data"
    }
   ],
   "source": [
    "FEM.showDoFResults(problem, S, :sx)\n",
    "FEM.showDoFResults(problem, S, :sy)\n",
    "FEM.showDoFResults(problem, S, :sz)\n",
    "FEM.showDoFResults(problem, S, :sxy)\n",
    "FEM.showDoFResults(problem, S, :syz)\n",
    "FEM.showDoFResults(problem, S, :szx)"
   ]
  },
  {
   "cell_type": "code",
   "execution_count": 71,
   "id": "f8be7749",
   "metadata": {},
   "outputs": [
    {
     "data": {
      "text/plain": [
       "25"
      ]
     },
     "metadata": {},
     "output_type": "display_data"
    }
   ],
   "source": [
    "FEM.showDoFResults(problem, Q' * S * Q, :sx)\n",
    "FEM.showDoFResults(problem, Q' * S * Q, :sy)\n",
    "FEM.showDoFResults(problem, Q' * S * Q, :sz)\n",
    "FEM.showDoFResults(problem, Q' * S * Q, :sxy)\n",
    "FEM.showDoFResults(problem, Q' * S * Q, :syz)\n",
    "FEM.showDoFResults(problem, Q' * S * Q, :szx)"
   ]
  },
  {
   "cell_type": "code",
   "execution_count": 72,
   "id": "66f4e99a",
   "metadata": {},
   "outputs": [
    {
     "data": {
      "text/plain": [
       "LowLevelFEM.TensorField(Matrix{Float64}[], [1.0; 0.0; … ; 0.0; 1.0;;], [0.0], Int64[], 1, :e)"
      ]
     },
     "metadata": {},
     "output_type": "display_data"
    }
   ],
   "source": [
    "I = FEM.unitTensor(FEM.solveStrain(problem, u))\n",
    "I = FEM.elementsToNodes(problem, I)"
   ]
  },
  {
   "cell_type": "code",
   "execution_count": 73,
   "id": "bdbc368e",
   "metadata": {},
   "outputs": [
    {
     "data": {
      "text/plain": [
       "3×3 Matrix{Float64}:\n",
       " 1.0          6.62846e-18  0.0\n",
       " 6.62846e-18  1.0          0.0\n",
       " 0.0          0.0          1.0"
      ]
     },
     "metadata": {},
     "output_type": "display_data"
    }
   ],
   "source": [
    "FEM.probe(Q' * I * Q, 1, 1, 1)"
   ]
  },
  {
   "cell_type": "code",
   "execution_count": 74,
   "id": "9a74f40d",
   "metadata": {},
   "outputs": [
    {
     "data": {
      "text/plain": [
       "3×3 Matrix{Float64}:\n",
       " -5.4517e-7   -1.2295e-8   -3.49377e-5\n",
       " -1.2295e-8    6.20192e-7   3.49355e-5\n",
       " -3.49377e-5   3.49355e-5   0.0001"
      ]
     },
     "metadata": {},
     "output_type": "display_data"
    }
   ],
   "source": [
    "FEM.probe(FEM.solveStrain(problem, u), 7, 7, 90)"
   ]
  },
  {
   "cell_type": "code",
   "execution_count": 75,
   "id": "3bfdeee5",
   "metadata": {},
   "outputs": [
    {
     "data": {
      "text/plain": [
       "3×3 Matrix{Float64}:\n",
       "  0.165495   -0.0729841  -4.9406\n",
       " -0.0729841  -0.0272115   4.93822\n",
       " -4.9406      4.93822    20.0"
      ]
     },
     "metadata": {},
     "output_type": "display_data"
    }
   ],
   "source": [
    "FEM.probe(FEM.solveStress(problem, u), 5, 5, 90)"
   ]
  },
  {
   "cell_type": "code",
   "execution_count": 76,
   "id": "b86da1a8",
   "metadata": {},
   "outputs": [
    {
     "data": {
      "text/plain": [
       "3×3 Matrix{Float64}:\n",
       " -3.24776e-7  1.11515e-7  -3.47485e-5\n",
       "  1.11515e-7  2.11477e-7   3.47836e-5\n",
       " -3.47485e-5  3.47836e-5   0.0001"
      ]
     },
     "metadata": {},
     "output_type": "display_data"
    }
   ],
   "source": [
    "FEM.probe(E, 7, 7, 90)"
   ]
  },
  {
   "cell_type": "code",
   "execution_count": 77,
   "id": "526eeaa5",
   "metadata": {},
   "outputs": [
    {
     "data": {
      "text/plain": [
       "3×3 Matrix{Float64}:\n",
       " -0.0649552  0.0223029  -6.94971\n",
       "  0.0223029  0.0422954   6.95672\n",
       " -6.94971    6.95672    20.0"
      ]
     },
     "metadata": {},
     "output_type": "display_data"
    }
   ],
   "source": [
    "FEM.probe(S, 7, 7, 90)"
   ]
  },
  {
   "cell_type": "code",
   "execution_count": null,
   "id": "9060a757",
   "metadata": {},
   "outputs": [
    {
     "data": {
      "text/plain": [
       "3×3 Matrix{Float64}:\n",
       " -0.109034    -0.00245901  -6.98754\n",
       " -0.00245901   0.124038     6.9871\n",
       " -6.98754      6.9871      20.0"
      ]
     },
     "metadata": {},
     "output_type": "display_data"
    }
   ],
   "source": [
    "FEM.probe(FEM.solveStress(problem, u), 7, 7, 90)"
   ]
  },
  {
   "cell_type": "code",
   "execution_count": 79,
   "id": "3a3382ef",
   "metadata": {},
   "outputs": [
    {
     "data": {
      "text/plain": [
       "3-element Vector{Float64}:\n",
       " -0.00629989056769188\n",
       "  0.006299890528339115\n",
       "  0.008999999999999998"
      ]
     },
     "metadata": {},
     "output_type": "display_data"
    }
   ],
   "source": [
    "FEM.probe(u, 7, 7, 90)"
   ]
  },
  {
   "cell_type": "code",
   "execution_count": 84,
   "id": "92af6d2a",
   "metadata": {},
   "outputs": [
    {
     "data": {
      "text/plain": [
       "3×3 Matrix{Float64}:\n",
       " 0.0  0.0  0.0\n",
       " 0.0  0.0  0.0\n",
       " 0.0  0.0  0.0"
      ]
     },
     "metadata": {},
     "output_type": "display_data"
    }
   ],
   "source": [
    "FEM.probe(F, 7, 7, 90)"
   ]
  },
  {
   "cell_type": "code",
   "execution_count": 80,
   "id": "5221211f",
   "metadata": {},
   "outputs": [
    {
     "name": "stdout",
     "output_type": "stream",
     "text": [
      "Info    : Running Plugin(Smooth)...\n",
      "Info    : Done running Plugin(Smooth)\n",
      "Info    : Running Plugin(Smooth)...\n",
      "Info    : Done running Plugin(Smooth)\n",
      "Info    : Running Plugin(Smooth)...\n",
      "Info    : Done running Plugin(Smooth)\n",
      "Info    : Running Plugin(Smooth)...\n",
      "Info    : Done running Plugin(Smooth)\n",
      "Info    : Running Plugin(Smooth)...\n",
      "Info    : Done running Plugin(Smooth)\n",
      "Info    : Running Plugin(Smooth)...\n",
      "Info    : Done running Plugin(Smooth)\n"
     ]
    },
    {
     "data": {
      "text/plain": [
       "31"
      ]
     },
     "metadata": {},
     "output_type": "display_data"
    }
   ],
   "source": [
    "F = 200000 * FEM.solveStrain(problem, u) - FEM.solveStress(problem, u)\n",
    "FEM.showElementResults(problem, F, :ex)\n",
    "FEM.showElementResults(problem, F, :ey)\n",
    "FEM.showElementResults(problem, F, :ez)\n",
    "FEM.showElementResults(problem, F, :exy)\n",
    "FEM.showElementResults(problem, F, :eyz)\n",
    "FEM.showElementResults(problem, F, :ezx)"
   ]
  },
  {
   "cell_type": "code",
   "execution_count": 81,
   "id": "8dd84fd2",
   "metadata": {},
   "outputs": [
    {
     "data": {
      "text/plain": [
       "3×3 Matrix{Float64}:\n",
       " 0.0  0.0  0.0\n",
       " 0.0  0.0  0.0\n",
       " 0.0  0.0  0.0"
      ]
     },
     "metadata": {},
     "output_type": "display_data"
    }
   ],
   "source": [
    "FEM.probe(F, 10, 0, 100)"
   ]
  },
  {
   "cell_type": "code",
   "execution_count": 53,
   "id": "812da666",
   "metadata": {},
   "outputs": [
    {
     "name": "stdout",
     "output_type": "stream",
     "text": [
      "-------------------------------------------------------\n",
      "Version       : 4.13.1\n",
      "License       : GNU General Public License\n",
      "Build OS      : Linux64-sdk\n",
      "Build date    : 19700101\n",
      "Build host    : amdci7.julia.csail.mit.edu\n",
      "Build options : 64Bit ALGLIB[contrib] ANN[contrib] Bamg Blossom Cairo DIntegration Dlopen DomHex Eigen[contrib] Fltk GMP Gmm[contrib] Hxt Jpeg Kbipack LinuxJoystick MathEx[contrib] Mesh Metis[contrib] Mmg Mpeg Netgen Nii2mesh ONELAB ONELABMetamodel OpenCASCADE OpenCASCADE-CAF OpenGL OpenMP OptHom Parser Plugins Png Post QuadMeshingTools QuadTri Solver TetGen/BR TinyXML2[contrib] Untangle Voro++[contrib] WinslowUntangler Zlib\n",
      "FLTK version  : 1.3.8\n",
      "OCC version   : 7.7.2\n",
      "Packaged by   : root\n",
      "Web site      : https://gmsh.info\n",
      "Issue tracker : https://gitlab.onelab.info/gmsh/gmsh/issues\n",
      "-------------------------------------------------------\n"
     ]
    },
    {
     "name": "stderr",
     "output_type": "stream",
     "text": [
      "XRequest.18: BadValue 0x0\n"
     ]
    }
   ],
   "source": [
    "FEM.openPostProcessor()"
   ]
  },
  {
   "cell_type": "code",
   "execution_count": 54,
   "id": "93228d4e",
   "metadata": {},
   "outputs": [],
   "source": [
    "gmsh.finalize()"
   ]
  }
 ],
 "metadata": {
  "kernelspec": {
   "display_name": "Julia 1.11.5",
   "language": "julia",
   "name": "julia-1.11"
  },
  "language_info": {
   "file_extension": ".jl",
   "mimetype": "application/julia",
   "name": "julia",
   "version": "1.11.5"
  }
 },
 "nbformat": 4,
 "nbformat_minor": 5
}
