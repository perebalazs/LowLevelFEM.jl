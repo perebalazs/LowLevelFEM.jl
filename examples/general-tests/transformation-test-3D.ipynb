{
 "cells": [
  {
   "cell_type": "code",
   "execution_count": 1,
   "id": "811e0e9a",
   "metadata": {},
   "outputs": [],
   "source": [
    "using LowLevelFEM\n",
    "import LowLevelFEM as FEM\n",
    "gmsh.initialize()"
   ]
  },
  {
   "cell_type": "code",
   "execution_count": 2,
   "id": "7e9b743b",
   "metadata": {},
   "outputs": [
    {
     "name": "stdout",
     "output_type": "stream",
     "text": [
      "Info    : Reading 'test-twist.geo'...\n",
      "Info    : Meshing 1D...\n",
      "Info    : [  0%] Meshing curve 1 (Circle)\n",
      "Info    : [ 40%] Meshing curve 2 (Line)\n",
      "Info    : [ 70%] Meshing curve 3 (Circle)\n",
      "Info    : Done meshing 1D (Wall 0.000329045s, CPU 0.000318s)\n",
      "Info    : Meshing 2D...\n",
      "Info    : [  0%] Meshing surface 1 (Cylinder, Frontal-Delaunay)\n",
      "Info    : [ 40%] Meshing surface 2 (Plane, Frontal-Delaunay)\n",
      "Info    : [ 70%] Meshing surface 3 (Plane, Frontal-Delaunay)\n",
      "Info    : Done meshing 2D (Wall 0.0206254s, CPU 0.020592s)\n",
      "Info    : Meshing 3D...\n",
      "Info    : 3D Meshing 1 volume with 1 connected component\n",
      "Info    : Tetrahedrizing 351 nodes...\n",
      "Info    : Done tetrahedrizing 359 nodes (Wall 0.00495319s, CPU 0.004951s)\n",
      "Info    : Reconstructing mesh...\n",
      "Info    :  - Creating surface mesh\n",
      "Info    :  - Identifying boundary edges\n",
      "Info    :  - Recovering boundary\n",
      "Info    : Done reconstructing mesh (Wall 0.00997796s, CPU 0.009012s)\n",
      "Info    : Found volume 1\n",
      "Info    : It. 0 - 0 nodes created - worst tet radius 2.09075 (nodes removed 0 0)\n",
      "Info    : 3D refinement terminated (436 nodes total):\n",
      "Info    :  - 0 Delaunay cavities modified for star shapeness\n",
      "Info    :  - 0 nodes could not be inserted\n",
      "Info    :  - 1458 tetrahedra created in 0.00537934 sec. (271036 tets/s)\n",
      "Info    : 0 node relocations\n",
      "Info    : Done meshing 3D (Wall 0.0284489s, CPU 0.027451s)\n",
      "Info    : Optimizing mesh...\n",
      "Info    : Optimizing volume 1\n",
      "Info    : Optimization starts (volume = 30459.3) with worst = 0.0206338 / average = 0.76532:\n",
      "Info    : 0.00 < quality < 0.10 :         7 elements\n",
      "Info    : 0.10 < quality < 0.20 :         9 elements\n",
      "Info    : 0.20 < quality < 0.30 :         9 elements\n",
      "Info    : 0.30 < quality < 0.40 :        36 elements\n",
      "Info    : 0.40 < quality < 0.50 :        37 elements\n",
      "Info    : 0.50 < quality < 0.60 :        58 elements\n",
      "Info    : 0.60 < quality < 0.70 :       170 elements\n",
      "Info    : 0.70 < quality < 0.80 :       463 elements\n",
      "Info    : 0.80 < quality < 0.90 :       439 elements\n",
      "Info    : 0.90 < quality < 1.00 :       230 elements\n",
      "Info    : 25 edge swaps, 2 node relocations (volume = 30459.3): worst = 0.29713 / average = 0.777527 (Wall 0.000657354s, CPU 0.000658s)\n",
      "Info    : 26 edge swaps, 2 node relocations (volume = 30459.3): worst = 0.300163 / average = 0.778048 (Wall 0.000760439s, CPU 0.000759s)\n",
      "Info    : No ill-shaped tets in the mesh :-)\n",
      "Info    : 0.00 < quality < 0.10 :         0 elements\n",
      "Info    : 0.10 < quality < 0.20 :         0 elements\n",
      "Info    : 0.20 < quality < 0.30 :         0 elements\n",
      "Info    : 0.30 < quality < 0.40 :        34 elements\n",
      "Info    : 0.40 < quality < 0.50 :        37 elements\n",
      "Info    : 0.50 < quality < 0.60 :        54 elements\n",
      "Info    : 0.60 < quality < 0.70 :       166 elements\n",
      "Info    : 0.70 < quality < 0.80 :       461 elements\n",
      "Info    : 0.80 < quality < 0.90 :       449 elements\n",
      "Info    : 0.90 < quality < 1.00 :       232 elements\n",
      "Info    : Done optimizing mesh (Wall 0.00263347s, CPU 0.002629s)\n",
      "Info    : 436 nodes 2179 elements\n",
      "Info    : Done reading 'test-twist.geo'\n"
     ]
    }
   ],
   "source": [
    "gmsh.open(\"test-twist.geo\")"
   ]
  },
  {
   "cell_type": "code",
   "execution_count": 3,
   "id": "6facfe3a",
   "metadata": {},
   "outputs": [
    {
     "name": "stdout",
     "output_type": "stream",
     "text": [
      "Info    : RCMK renumbering...\n",
      "Info    : Done RCMK renumbering (bandwidth is now 45)\n"
     ]
    },
    {
     "data": {
      "text/plain": [
       "LowLevelFEM.Problem(\"test-twist\", :Solid, 3, 3, LowLevelFEM.Material[LowLevelFEM.Material(\"body\", 200000.0, 0.3, 7.85e-9, 45.0, 4.2e8, 1.2e-5, 115384.61538461536, 76923.07692307692, 166666.66666666666)], 1.0, 436)"
      ]
     },
     "metadata": {},
     "output_type": "display_data"
    }
   ],
   "source": [
    "mat = FEM.material(\"body\")\n",
    "problem = FEM.Problem([mat])"
   ]
  },
  {
   "cell_type": "code",
   "execution_count": 4,
   "id": "ce82a6d3",
   "metadata": {},
   "outputs": [
    {
     "data": {
      "text/plain": [
       "(\"load\", 0, 0, Main.ff)"
      ]
     },
     "metadata": {},
     "output_type": "display_data"
    }
   ],
   "source": [
    "supp = FEM.displacementConstraint(\"supp\", ux=0, uz=0)\n",
    "ff(x, y, z) = √(y^2 + z^2)\n",
    "load = FEM.load(\"load\", fz=ff)"
   ]
  },
  {
   "cell_type": "code",
   "execution_count": 5,
   "id": "a0a1f1df",
   "metadata": {},
   "outputs": [
    {
     "data": {
      "text/plain": [
       "LowLevelFEM.Transformation(sparse([1, 2, 1, 2, 3, 4, 5, 4, 5, 6  …  1303, 1304, 1303, 1304, 1305, 1306, 1307, 1306, 1307, 1308], [1, 1, 2, 2, 3, 4, 4, 5, 5, 6  …  1303, 1303, 1304, 1304, 1305, 1306, 1306, 1307, 1307, 1308], [2.4492935982947064e-16, 1.0, -1.0, 2.4492935982947064e-16, 1.0, 2.4492935982947064e-16, 1.0, -1.0, 2.4492935982947064e-16, 1.0  …  -0.9693023760001109, -0.24587172240934843, 0.24587172240934843, -0.9693023760001109, 1.0, -0.4133062019964547, -0.9105921059350699, 0.9105921059350699, -0.4133062019964547, 0.9999999999999998], 1308, 1308), 436, 3)"
      ]
     },
     "metadata": {},
     "output_type": "display_data"
    }
   ],
   "source": [
    "n1x(x, y, z) = y\n",
    "n1y(x, y, z) = z\n",
    "n2x(x, y, z) = -z\n",
    "n2y = n1x\n",
    "cs = FEM.CoordinateSystem([n1x, n1y, 0], [n2x, n2y, 0])\n",
    "Q = FEM.rotateNodes(problem, \"body\", cs)"
   ]
  },
  {
   "cell_type": "code",
   "execution_count": 6,
   "id": "a7ef79c3",
   "metadata": {},
   "outputs": [
    {
     "data": {
      "text/plain": [
       "LowLevelFEM.VectorField(Matrix{Float64}[], [0.0; 0.0; … ; 0.0; 0.0;;], Float64[], Int64[], 1, :f3D)"
      ]
     },
     "metadata": {},
     "output_type": "display_data"
    }
   ],
   "source": [
    "K = FEM.stiffnessMatrix(problem)\n",
    "f = FEM.loadVector(problem, [load])"
   ]
  },
  {
   "cell_type": "code",
   "execution_count": 7,
   "id": "d9bfe1cf",
   "metadata": {},
   "outputs": [],
   "source": [
    "FEM.applyBoundaryConditions!(problem, K, f, [supp])"
   ]
  },
  {
   "cell_type": "code",
   "execution_count": 8,
   "id": "ae5c095b",
   "metadata": {},
   "outputs": [
    {
     "data": {
      "text/plain": [
       "LowLevelFEM.VectorField(Matrix{Float64}[], [-0.053624464615837406; 0.023824875921565375; … ; 0.023112857107774356; 0.1965274282656064;;], [0.0], Int64[], 1, :u3D)"
      ]
     },
     "metadata": {},
     "output_type": "display_data"
    }
   ],
   "source": [
    "q = FEM.solveDisplacement(K, f)"
   ]
  },
  {
   "cell_type": "code",
   "execution_count": 9,
   "id": "b78c51a7",
   "metadata": {},
   "outputs": [
    {
     "ename": "MethodError",
     "evalue": "MethodError: *(::LowLevelFEM.Transformation, ::LowLevelFEM.VectorField) is ambiguous.\n\nCandidates:\n  *(A::LowLevelFEM.Transformation, B)\n    @ LowLevelFEM ~/Dokumentumok/GitHub/LowLevelFEM.jl/src/general.jl:175\n  *(b, A::LowLevelFEM.VectorField)\n    @ LowLevelFEM ~/Dokumentumok/GitHub/LowLevelFEM.jl/src/general.jl:1277\n\nPossible fix, define\n  *(::LowLevelFEM.Transformation, ::LowLevelFEM.VectorField)\n",
     "output_type": "error",
     "traceback": [
      "MethodError: *(::LowLevelFEM.Transformation, ::LowLevelFEM.VectorField) is ambiguous.\n",
      "\n",
      "Candidates:\n",
      "  *(A::LowLevelFEM.Transformation, B)\n",
      "    @ LowLevelFEM ~/Dokumentumok/GitHub/LowLevelFEM.jl/src/general.jl:175\n",
      "  *(b, A::LowLevelFEM.VectorField)\n",
      "    @ LowLevelFEM ~/Dokumentumok/GitHub/LowLevelFEM.jl/src/general.jl:1277\n",
      "\n",
      "Possible fix, define\n",
      "  *(::LowLevelFEM.Transformation, ::LowLevelFEM.VectorField)\n",
      "\n",
      "\n",
      "Stacktrace:\n",
      " [1] top-level scope\n",
      "   @ ~/Dokumentumok/GitHub/LowLevelFEM.jl/examples/general-tests/jl_notebook_cell_df34fa98e69747e1a8f8a730347b8e2f_X11sZmlsZQ==.jl:1"
     ]
    }
   ],
   "source": [
    "FEM.showDoFResults(problem, Q * q, :uvec, visible=true)"
   ]
  },
  {
   "cell_type": "code",
   "execution_count": 10,
   "id": "6e886ad4",
   "metadata": {},
   "outputs": [
    {
     "name": "stdout",
     "output_type": "stream",
     "text": [
      "-------------------------------------------------------\n",
      "Version       : 4.13.1\n",
      "License       : GNU General Public License\n",
      "Build OS      : Linux64-sdk\n",
      "Build date    : 19700101\n",
      "Build host    : amdci7.julia.csail.mit.edu\n",
      "Build options : 64Bit ALGLIB[contrib] ANN[contrib] Bamg Blossom Cairo DIntegration Dlopen DomHex Eigen[contrib] Fltk GMP Gmm[contrib] Hxt Jpeg Kbipack LinuxJoystick MathEx[contrib] Mesh Metis[contrib] Mmg Mpeg Netgen Nii2mesh ONELAB ONELABMetamodel OpenCASCADE OpenCASCADE-CAF OpenGL OpenMP OptHom Parser Plugins Png Post QuadMeshingTools QuadTri Solver TetGen/BR TinyXML2[contrib] Untangle Voro++[contrib] WinslowUntangler Zlib\n",
      "FLTK version  : 1.3.8\n",
      "OCC version   : 7.7.2\n",
      "Packaged by   : root\n",
      "Web site      : https://gmsh.info\n",
      "Issue tracker : https://gitlab.onelab.info/gmsh/gmsh/issues\n",
      "-------------------------------------------------------\n"
     ]
    },
    {
     "name": "stderr",
     "output_type": "stream",
     "text": [
      "XOpenIM() failed\n",
      "XRequest.18: BadValue 0x0\n"
     ]
    }
   ],
   "source": [
    "FEM.openPostProcessor()"
   ]
  },
  {
   "cell_type": "code",
   "execution_count": 11,
   "id": "4e875250",
   "metadata": {},
   "outputs": [],
   "source": [
    "gmsh.finalize()"
   ]
  }
 ],
 "metadata": {
  "kernelspec": {
   "display_name": "Julia 1.11.5",
   "language": "julia",
   "name": "julia-1.11"
  },
  "language_info": {
   "file_extension": ".jl",
   "mimetype": "application/julia",
   "name": "julia",
   "version": "1.11.5"
  }
 },
 "nbformat": 4,
 "nbformat_minor": 5
}
