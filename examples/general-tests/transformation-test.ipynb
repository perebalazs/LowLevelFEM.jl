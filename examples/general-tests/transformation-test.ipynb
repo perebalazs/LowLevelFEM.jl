{
 "cells": [
  {
   "cell_type": "code",
   "execution_count": 1,
   "id": "811e0e9a",
   "metadata": {},
   "outputs": [],
   "source": [
    "using LowLevelFEM\n",
    "import LowLevelFEM as FEM\n",
    "gmsh.initialize()"
   ]
  },
  {
   "cell_type": "code",
   "execution_count": 2,
   "id": "7e9b743b",
   "metadata": {},
   "outputs": [
    {
     "name": "stdout",
     "output_type": "stream",
     "text": [
      "Info    : Reading 'test-twist-3D.geo'...\n",
      "Info    : Meshing 1D...\n",
      "Info    : [  0%] Meshing curve 1 (Circle)\n",
      "Info    : [ 40%] Meshing curve 2 (Line)\n",
      "Info    : [ 70%] Meshing curve 3 (Circle)\n",
      "Info    : Done meshing 1D (Wall 0.000410522s, CPU 0.000399s)\n",
      "Info    : Meshing 2D...\n",
      "Info    : [  0%] Meshing surface 1 (Cylinder, Frontal-Delaunay)\n",
      "Info    : [ 40%] Meshing surface 2 (Plane, Frontal-Delaunay)\n",
      "Info    : [ 70%] Meshing surface 3 (Plane, Frontal-Delaunay)\n",
      "Info    : Done meshing 2D (Wall 0.022223s, CPU 0.022213s)\n",
      "Info    : Meshing 3D...\n",
      "Info    : 3D Meshing 1 volume with 1 connected component\n",
      "Info    : Tetrahedrizing 351 nodes...\n",
      "Info    : Done tetrahedrizing 359 nodes (Wall 0.00438163s, CPU 0.003394s)\n",
      "Info    : Reconstructing mesh...\n",
      "Info    :  - Creating surface mesh\n",
      "Info    :  - Identifying boundary edges\n",
      "Info    :  - Recovering boundary\n",
      "Info    : Done reconstructing mesh (Wall 0.0096335s, CPU 0.008645s)\n",
      "Info    : Found volume 1\n",
      "Info    : It. 0 - 0 nodes created - worst tet radius 2.08616 (nodes removed 0 0)\n",
      "Info    : 3D refinement terminated (435 nodes total):\n",
      "Info    :  - 0 Delaunay cavities modified for star shapeness\n",
      "Info    :  - 0 nodes could not be inserted\n",
      "Info    :  - 1453 tetrahedra created in 0.00476426 sec. (304978 tets/s)\n",
      "Info    : 0 node relocations\n",
      "Info    : Done meshing 3D (Wall 0.0268741s, CPU 0.025871s)\n",
      "Info    : Optimizing mesh...\n",
      "Info    : Optimizing volume 1\n",
      "Info    : Optimization starts (volume = 30459.3) with worst = 0.0206338 / average = 0.763323:\n",
      "Info    : 0.00 < quality < 0.10 :         7 elements\n",
      "Info    : 0.10 < quality < 0.20 :         7 elements\n",
      "Info    : 0.20 < quality < 0.30 :        10 elements\n",
      "Info    : 0.30 < quality < 0.40 :        40 elements\n",
      "Info    : 0.40 < quality < 0.50 :        37 elements\n",
      "Info    : 0.50 < quality < 0.60 :        59 elements\n",
      "Info    : 0.60 < quality < 0.70 :       171 elements\n",
      "Info    : 0.70 < quality < 0.80 :       462 elements\n",
      "Info    : 0.80 < quality < 0.90 :       443 elements\n",
      "Info    : 0.90 < quality < 1.00 :       217 elements\n",
      "Info    : 24 edge swaps, 2 node relocations (volume = 30459.3): worst = 0.29713 / average = 0.774295 (Wall 0.000433006s, CPU 0.000433s)\n",
      "Info    : 25 edge swaps, 2 node relocations (volume = 30459.3): worst = 0.300163 / average = 0.774816 (Wall 0.000531032s, CPU 0.000532s)\n",
      "Info    : No ill-shaped tets in the mesh :-)\n",
      "Info    : 0.00 < quality < 0.10 :         0 elements\n",
      "Info    : 0.10 < quality < 0.20 :         0 elements\n",
      "Info    : 0.20 < quality < 0.30 :         0 elements\n",
      "Info    : 0.30 < quality < 0.40 :        39 elements\n",
      "Info    : 0.40 < quality < 0.50 :        39 elements\n",
      "Info    : 0.50 < quality < 0.60 :        58 elements\n",
      "Info    : 0.60 < quality < 0.70 :       164 elements\n",
      "Info    : 0.70 < quality < 0.80 :       457 elements\n",
      "Info    : 0.80 < quality < 0.90 :       454 elements\n",
      "Info    : 0.90 < quality < 1.00 :       219 elements\n",
      "Info    : Done optimizing mesh (Wall 0.00185851s, CPU 0.001856s)\n",
      "Info    : Meshing order 2 (curvilinear on)...\n",
      "Info    : [  0%] Meshing curve 1 order 2\n",
      "Info    : [ 20%] Meshing curve 2 order 2\n",
      "Info    : [ 30%] Meshing curve 3 order 2\n",
      "Info    : [ 50%] Meshing surface 1 order 2\n",
      "Info    : [ 60%] Meshing surface 2 order 2\n",
      "Info    : [ 80%] Meshing surface 3 order 2\n",
      "Info    : [ 90%] Meshing volume 1 order 2\n",
      "Info    : Surface mesh: worst distortion = 0.971153 (0 elements in ]0, 0.2]); worst gamma = 0.717041\n",
      "Info    : Volume mesh: worst distortion = 0.756548 (0 elements in ]0, 0.2])\n",
      "Info    : Done meshing order 2 (Wall 0.0093017s, CPU 0.009277s)\n",
      "Info    : 2648 nodes 2176 elements\n",
      "Info    : Done reading 'test-twist-3D.geo'\n"
     ]
    }
   ],
   "source": [
    "gmsh.open(\"test-twist-3D.geo\")"
   ]
  },
  {
   "cell_type": "code",
   "execution_count": 3,
   "id": "6facfe3a",
   "metadata": {},
   "outputs": [
    {
     "name": "stdout",
     "output_type": "stream",
     "text": [
      "Info    : RCMK renumbering...\n",
      "Info    : Done RCMK renumbering (bandwidth is now 302)\n"
     ]
    },
    {
     "data": {
      "text/plain": [
       "LowLevelFEM.Problem(\"test-twist-3D\", :Solid, 3, 3, LowLevelFEM.Material[LowLevelFEM.Material(\"body\", :Hooke, 200000.0, 0.3, 7.85e-9, 45.0, 4.2e8, 1.2e-5, 115384.61538461536, 76923.07692307692, 166666.66666666666)], 1.0, 2648)"
      ]
     },
     "metadata": {},
     "output_type": "display_data"
    }
   ],
   "source": [
    "mat = FEM.material(\"body\")\n",
    "problem = FEM.Problem([mat])"
   ]
  },
  {
   "cell_type": "code",
   "execution_count": 4,
   "id": "ce82a6d3",
   "metadata": {},
   "outputs": [
    {
     "data": {
      "text/plain": [
       "(\"load\", 0, Main.ff, 0)"
      ]
     },
     "metadata": {},
     "output_type": "display_data"
    }
   ],
   "source": [
    "supp = FEM.displacementConstraint(\"supp\", ux=0, uy=0)\n",
    "ff(x, y, z) = √(y^2 + z^2)\n",
    "load = FEM.load(\"load\", fy=ff)"
   ]
  },
  {
   "cell_type": "code",
   "execution_count": 5,
   "id": "a0a1f1df",
   "metadata": {},
   "outputs": [
    {
     "data": {
      "text/plain": [
       "LowLevelFEM.Transformation(sparse([1, 2, 1, 2, 3, 4, 5, 4, 5, 6  …  7939, 7940, 7939, 7940, 7941, 7942, 7943, 7942, 7943, 7944], [1, 1, 2, 2, 3, 4, 4, 5, 5, 6  …  7939, 7939, 7940, 7940, 7941, 7942, 7942, 7943, 7943, 7944], [2.4492935982947065e-17, 1.0, -1.0, 2.4492935982947065e-17, 1.0, 0.9107991560957914, 0.41284972720736285, -0.4128497272073629, 0.9107991560957914, 0.9999999999999998  …  0.1687220986435244, 0.9856636614126164, -0.9856636614126164, 0.16872209864352436, 1.0, 0.015058119843009733, 0.9998866200858942, -0.9998866200858942, 0.015058119843009735, 0.9999999999999999], 7944, 7944), 2648, 3)"
      ]
     },
     "metadata": {},
     "output_type": "display_data"
    }
   ],
   "source": [
    "n1x(x, y, z) = y\n",
    "n1y(x, y, z) = z\n",
    "n2x(x, y, z) = -z\n",
    "n2y = n1x\n",
    "cs = FEM.CoordinateSystem([n1x, n1y, 0], [n2x, n2y, 0])\n",
    "Q = FEM.rotateNodes(problem, \"body\", cs)"
   ]
  },
  {
   "cell_type": "code",
   "execution_count": 6,
   "id": "a7ef79c3",
   "metadata": {},
   "outputs": [
    {
     "data": {
      "text/plain": [
       "LowLevelFEM.VectorField(Matrix{Float64}[], [0.0; 4.5950432758863755; … ; 0.0; 0.0;;], Float64[], Int64[], 1, :f3D, LowLevelFEM.Problem(\"test-twist-3D\", :Solid, 3, 3, LowLevelFEM.Material[LowLevelFEM.Material(\"body\", :Hooke, 200000.0, 0.3, 7.85e-9, 45.0, 4.2e8, 1.2e-5, 115384.61538461536, 76923.07692307692, 166666.66666666666)], 1.0, 2648))"
      ]
     },
     "metadata": {},
     "output_type": "display_data"
    }
   ],
   "source": [
    "K = FEM.stiffnessMatrix(problem)\n",
    "f = FEM.loadVector(problem, [load])"
   ]
  },
  {
   "cell_type": "code",
   "execution_count": 7,
   "id": "7b311394",
   "metadata": {},
   "outputs": [
    {
     "data": {
      "text/plain": [
       "7944×7944 SparseArrays.SparseMatrixCSC{Float64, Int64} with 567122 stored entries:\n",
       "⎡⣿⣿⡀⣰⣿⣿⣳⣶⣦⣀⣀⠀⠀⠀⠀⠀⠀⠀⠀⣟⣧⣶⣿⣿⣒⣶⣶⣶⣗⣶⣶⣶⣶⣶⣷⣇⣿⣿⣿⣿⎤\n",
       "⎢⢀⣨⣿⣿⣿⣇⣠⣠⣠⣦⣽⡿⠿⣷⣶⣶⣤⣤⣀⠀⣀⣿⣿⣿⣿⣿⣿⣿⣿⣿⣿⣿⣾⣿⣿⣿⣿⣿⣿⣧⎥\n",
       "⎢⣿⣿⠿⢿⣿⣿⣷⣿⣿⣿⡿⠟⠻⠿⠿⠿⣿⣿⣿⣷⣦⣿⣿⣿⣿⡿⢿⣿⣿⣿⣿⣿⣿⣿⣿⣿⣿⣿⣿⣿⎥\n",
       "⎢⢹⣾⠀⣺⣽⣿⠻⣦⣳⢿⣃⠀⠀⠀⠀⠀⠈⣐⡮⠉⠀⣿⣇⣶⢖⣵⣤⣆⡞⣤⢶⡧⢞⢾⣿⡿⢻⣿⡻⡿⎥\n",
       "⎢⠈⢻⠠⣾⣿⣿⣽⣞⣿⣿⣇⠀⠀⠀⢠⠤⣶⢾⣾⠄⠛⣿⡿⣷⣦⣶⣿⣾⡥⣗⢿⣾⣾⢟⣻⢿⢭⣟⣻⣯⎥\n",
       "⎢⠀⠘⣷⡿⣿⠏⠉⠘⠉⠙⠻⣦⡀⠀⣤⠆⣜⡆⠩⠀⠀⣿⡿⠋⠿⣷⡿⡥⣭⡃⡉⣷⢸⣿⣻⣏⣝⣿⢫⡟⎥\n",
       "⎢⠀⠀⢿⣧⣿⡆⠀⠀⠀⠀⠀⠈⣿⣿⣇⡀⡠⡫⠄⠀⠀⣿⣷⢰⣾⠂⡰⣿⡻⣟⡗⣾⣼⣿⣿⣻⣽⣪⡷⠅⎥\n",
       "⎢⠀⠀⢸⣿⣿⡇⠀⠀⠀⡖⠠⠟⠉⠹⣻⣾⣿⣟⣿⠀⠀⣿⣿⣹⡝⡻⣿⢻⣿⣿⣻⠿⣷⣮⣿⣹⣿⣿⢿⡧⎥\n",
       "⎢⠀⠀⠀⣿⣿⣿⢂⢠⣸⣟⠲⠽⡤⡪⣿⢿⣿⣿⣿⠄⠀⣿⡿⣯⣯⣿⡿⣭⣸⣽⢿⣿⣳⡜⣿⣿⣿⣿⣿⣾⎥\n",
       "⎢⣤⢤⠀⠘⢿⣿⡎⠋⠚⠟⠃⠂⠀⠁⠛⠛⠛⠟⠻⣦⡄⣿⣯⠷⠺⠓⠚⢻⠿⠞⣼⡗⠛⡬⡟⣽⣿⡿⣷⣷⎥\n",
       "⎢⢩⣿⣤⣼⣬⣿⣤⣤⣿⣤⣤⣤⣤⣤⣤⣤⣤⣤⣤⣭⣿⣿⣧⣼⣤⣼⣤⣤⣧⣤⣿⣿⣿⣿⣼⣯⣯⣼⣿⣿⎥\n",
       "⎢⣿⣿⣿⣿⣿⣿⢩⣽⢿⣯⡿⠋⢙⣛⣟⣻⡿⣯⢯⡟⣉⣿⣿⣿⣯⣿⣿⣿⣿⣿⣿⣿⣿⣿⣿⣽⢿⣟⣯⣻⎥\n",
       "⎢⢸⣼⣿⣿⣿⡿⢜⣵⢨⣿⢿⣧⠺⠛⣷⡩⣯⣿⢾⠂⣀⣿⣯⣿⣿⣿⣿⣿⣿⣿⣿⣿⣿⡿⣿⣷⡟⣿⣻⢽⎥\n",
       "⎢⢸⣿⣿⣿⣿⣷⠠⢿⣻⣿⠟⡯⣴⣮⣿⣛⡟⣯⣾⣀⠀⣿⣿⣿⣿⣿⣿⣿⣏⣿⣿⣿⣿⣿⣿⣿⣿⣿⣻⣭⎥\n",
       "⎢⢹⣽⣿⣿⣿⣿⠚⣭⢥⢯⠧⠻⣿⢮⣿⣿⣖⣾⣻⠇⠉⣿⣿⣿⣿⣿⣯⣽⣿⣿⣿⣿⣿⣿⣿⣿⣿⣿⣿⣿⎥\n",
       "⎢⢸⣿⣿⣿⣿⣿⠼⡷⣻⣷⢧⣬⣹⣭⣿⡞⣿⣷⢶⠿⣿⣿⣿⣿⣿⣿⣿⣿⣿⣿⣿⣿⣿⣿⣿⣿⣿⣿⣿⣞⎥\n",
       "⎢⢸⣿⣾⣿⣿⣿⣺⣕⣾⢟⣶⣶⣶⣿⡹⣿⣙⠾⡛⡤⣿⣿⣿⣿⣿⡿⣿⣿⣿⣿⣿⣿⣿⣿⣿⣿⣿⣿⣿⣿⎥\n",
       "⎢⠽⢿⣿⣿⣿⣿⣿⡿⣿⣞⡿⢾⣿⣻⣟⣻⣿⣿⣟⣭⡶⣿⣟⣿⢿⣿⣿⣿⣿⣿⣿⣿⣿⣿⣿⣿⣿⣿⣿⣿⎥\n",
       "⎢⣿⣿⣿⣿⣿⣿⣿⣶⣧⢷⣷⣽⡳⣻⣿⣿⣿⣿⣿⡿⣋⣿⣿⢷⣿⣭⣿⣿⣿⣿⣿⣿⣿⣿⣿⣿⣿⣿⣿⣿⎥\n",
       "⎣⣿⣿⠿⣿⣿⣿⣿⡮⡿⣾⣯⠶⠝⠏⠿⡷⣻⣿⢽⣿⣿⣿⣯⣻⣟⣞⡟⣾⣿⣿⣻⢿⣿⣿⣿⣿⣿⣿⣿⣿⎦"
      ]
     },
     "metadata": {},
     "output_type": "display_data"
    }
   ],
   "source": [
    "K = Q' * K * Q"
   ]
  },
  {
   "cell_type": "code",
   "execution_count": 8,
   "id": "d9bfe1cf",
   "metadata": {},
   "outputs": [],
   "source": [
    "FEM.applyBoundaryConditions!(problem, K, f, [supp])"
   ]
  },
  {
   "cell_type": "code",
   "execution_count": 9,
   "id": "ae5c095b",
   "metadata": {},
   "outputs": [
    {
     "data": {
      "text/plain": [
       "LowLevelFEM.VectorField(Matrix{Float64}[], [1.3578071810835735e12; -2.598270000069679e12; … ; -2.2606706741193403e12; 1.0128123028409521e12;;], [0.0], Int64[], 1, :u3D, LowLevelFEM.Problem(\"test-twist-3D\", :Solid, 3, 3, LowLevelFEM.Material[LowLevelFEM.Material(\"body\", :Hooke, 200000.0, 0.3, 7.85e-9, 45.0, 4.2e8, 1.2e-5, 115384.61538461536, 76923.07692307692, 166666.66666666666)], 1.0, 2648))"
      ]
     },
     "metadata": {},
     "output_type": "display_data"
    }
   ],
   "source": [
    "q = FEM.solveDisplacement(K, f)"
   ]
  },
  {
   "cell_type": "code",
   "execution_count": 10,
   "id": "39f3e4ea",
   "metadata": {},
   "outputs": [
    {
     "data": {
      "text/plain": [
       "LowLevelFEM.VectorField(Matrix{Float64}[], [2.598270000069679e12; 1.3578071810835735e12; … ; 1.190890351446105e12; 1.012812302840952e12;;], [0.0], Int64[], 1, :u3D, LowLevelFEM.Problem(\"test-twist-3D\", :Solid, 3, 3, LowLevelFEM.Material[LowLevelFEM.Material(\"body\", :Hooke, 200000.0, 0.3, 7.85e-9, 45.0, 4.2e8, 1.2e-5, 115384.61538461536, 76923.07692307692, 166666.66666666666)], 1.0, 2648))"
      ]
     },
     "metadata": {},
     "output_type": "display_data"
    }
   ],
   "source": [
    "q1 = Q * q"
   ]
  },
  {
   "cell_type": "code",
   "execution_count": 11,
   "id": "c29a9ea8",
   "metadata": {},
   "outputs": [
    {
     "data": {
      "text/plain": [
       "3-element Vector{Float64}:\n",
       " 0.0\n",
       " 0.0\n",
       " 6.858598415224617e11"
      ]
     },
     "metadata": {},
     "output_type": "display_data"
    }
   ],
   "source": [
    "FEM.probe(q, 10, 1, 0)"
   ]
  },
  {
   "cell_type": "code",
   "execution_count": 12,
   "id": "b78c51a7",
   "metadata": {},
   "outputs": [
    {
     "data": {
      "text/plain": [
       "2"
      ]
     },
     "metadata": {},
     "output_type": "display_data"
    }
   ],
   "source": [
    "FEM.showDoFResults(problem, q, :uvec, visible=true)\n",
    "FEM.showDoFResults(problem, q1, :uvec, visible=true)"
   ]
  },
  {
   "cell_type": "code",
   "execution_count": 13,
   "id": "6e886ad4",
   "metadata": {},
   "outputs": [
    {
     "name": "stdout",
     "output_type": "stream",
     "text": [
      "-------------------------------------------------------\n",
      "Version       : 4.13.1\n",
      "License       : GNU General Public License\n",
      "Build OS      : Linux64-sdk\n",
      "Build date    : 19700101\n",
      "Build host    : amdci7.julia.csail.mit.edu\n",
      "Build options : 64Bit ALGLIB[contrib] ANN[contrib] Bamg Blossom Cairo DIntegration Dlopen DomHex Eigen[contrib] Fltk GMP Gmm[contrib] Hxt Jpeg Kbipack LinuxJoystick MathEx[contrib] Mesh Metis[contrib] Mmg Mpeg Netgen Nii2mesh ONELAB ONELABMetamodel OpenCASCADE OpenCASCADE-CAF OpenGL OpenMP OptHom Parser Plugins Png Post QuadMeshingTools QuadTri Solver TetGen/BR TinyXML2[contrib] Untangle Voro++[contrib] WinslowUntangler Zlib\n",
      "FLTK version  : 1.3.8\n",
      "OCC version   : 7.7.2\n",
      "Packaged by   : root\n",
      "Web site      : https://gmsh.info\n",
      "Issue tracker : https://gitlab.onelab.info/gmsh/gmsh/issues\n",
      "-------------------------------------------------------\n"
     ]
    },
    {
     "name": "stderr",
     "output_type": "stream",
     "text": [
      "XOpenIM() failed\n",
      "XRequest.18: BadValue 0x0\n"
     ]
    }
   ],
   "source": [
    "FEM.openPostProcessor()"
   ]
  },
  {
   "cell_type": "code",
   "execution_count": 14,
   "id": "4e875250",
   "metadata": {},
   "outputs": [],
   "source": [
    "gmsh.finalize()"
   ]
  }
 ],
 "metadata": {
  "kernelspec": {
   "display_name": "Julia 1.11.6",
   "language": "julia",
   "name": "julia-1.11"
  },
  "language_info": {
   "file_extension": ".jl",
   "mimetype": "application/julia",
   "name": "julia",
   "version": "1.11.6"
  }
 },
 "nbformat": 4,
 "nbformat_minor": 5
}
