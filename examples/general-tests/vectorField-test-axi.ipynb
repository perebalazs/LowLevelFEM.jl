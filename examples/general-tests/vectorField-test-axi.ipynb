{
 "cells": [
  {
   "cell_type": "code",
   "execution_count": 51,
   "id": "e95346f2",
   "metadata": {},
   "outputs": [],
   "source": [
    "using LowLevelFEM\n",
    "import LowLevelFEM as FEM\n",
    "gmsh.initialize()"
   ]
  },
  {
   "cell_type": "code",
   "execution_count": 52,
   "id": "c376ef73",
   "metadata": {},
   "outputs": [
    {
     "name": "stdout",
     "output_type": "stream",
     "text": [
      "Info    : Reading 'body1-2D.geo'...\n",
      "Info    : Meshing 1D...\n",
      "Info    : [  0%] Meshing curve 1 (Line)\n",
      "Info    : [ 30%] Meshing curve 2 (Line)\n",
      "Info    : [ 60%] Meshing curve 3 (Line)\n",
      "Info    : [ 80%] Meshing curve 4 (Line)\n",
      "Info    : Done meshing 1D (Wall 0.000646717s, CPU 0.000654s)\n",
      "Info    : Meshing 2D...\n",
      "Info    : Meshing surface 1 (Plane, Frontal-Delaunay)\n",
      "Info    : Done meshing 2D (Wall 0.0181345s, CPU 0.010119s)\n",
      "Info    : 98 nodes 198 elements\n",
      "Info    : Done reading 'body1-2D.geo'\n"
     ]
    }
   ],
   "source": [
    "gmsh.open(\"body1-2D.geo\")"
   ]
  },
  {
   "cell_type": "code",
   "execution_count": 53,
   "id": "17d16e97",
   "metadata": {},
   "outputs": [
    {
     "name": "stdout",
     "output_type": "stream",
     "text": [
      "Info    : RCMK renumbering...\n",
      "Info    : Done RCMK renumbering (bandwidth is now 16)\n"
     ]
    },
    {
     "data": {
      "text/plain": [
       "LowLevelFEM.Problem(\"body1-2D\", :AxiSymmetric, 2, 2, LowLevelFEM.Material[LowLevelFEM.Material(\"body\", :Hooke, 200000.0, 0.3, 7.85e-9, 45.0, 4.2e8, 1.2e-5, 115384.61538461536, 76923.07692307692, 166666.66666666666)], 1.0, 98)"
      ]
     },
     "metadata": {},
     "output_type": "display_data"
    }
   ],
   "source": [
    "mat = FEM.material(\"body\")\n",
    "problem = FEM.Problem([mat], type=:AxiSymmetric)"
   ]
  },
  {
   "cell_type": "code",
   "execution_count": 54,
   "id": "cb740efb",
   "metadata": {},
   "outputs": [
    {
     "data": {
      "text/plain": [
       "(\"right\", 1, 0, 0)"
      ]
     },
     "metadata": {},
     "output_type": "display_data"
    }
   ],
   "source": [
    "supp = FEM.displacementConstraint(\"left\", uy=0)\n",
    "load = FEM.load(\"right\", fx=1)"
   ]
  },
  {
   "cell_type": "code",
   "execution_count": 55,
   "id": "93379cdd",
   "metadata": {},
   "outputs": [
    {
     "data": {
      "text/plain": [
       "LowLevelFEM.VectorField(Matrix{Float64}[], [0.0; 0.0; … ; 0.0; 0.0;;], Float64[], Int64[], 1, :f2D)"
      ]
     },
     "metadata": {},
     "output_type": "display_data"
    }
   ],
   "source": [
    "K = FEM.stiffnessMatrix(problem)\n",
    "f = FEM.loadVector(problem, [load])"
   ]
  },
  {
   "cell_type": "code",
   "execution_count": 56,
   "id": "cc13a09e",
   "metadata": {},
   "outputs": [],
   "source": [
    "FEM.applyBoundaryConditions!(problem, K, f, [supp])"
   ]
  },
  {
   "cell_type": "code",
   "execution_count": 57,
   "id": "85a20107",
   "metadata": {},
   "outputs": [
    {
     "data": {
      "text/plain": [
       "LowLevelFEM.VectorField(Matrix{Float64}[], [9.482402621955039e-8; 0.0; … ; 2.5994609441980325e-6; -9.745989607018252e-7;;], [0.0], Int64[], 1, :u2D)"
      ]
     },
     "metadata": {},
     "output_type": "display_data"
    }
   ],
   "source": [
    "q1 = FEM.solveDisplacement(K, f)"
   ]
  },
  {
   "cell_type": "code",
   "execution_count": 58,
   "id": "7d844bc4",
   "metadata": {},
   "outputs": [
    {
     "data": {
      "text/plain": [
       "0"
      ]
     },
     "metadata": {},
     "output_type": "display_data"
    }
   ],
   "source": [
    "FEM.showDoFResults(problem, q1, :uvec, visible=true)"
   ]
  },
  {
   "cell_type": "code",
   "execution_count": 59,
   "id": "868a2db1",
   "metadata": {},
   "outputs": [
    {
     "data": {
      "text/plain": [
       "LowLevelFEM.VectorField(Matrix{Float64}[], [9.482402621955039e-8; 0.0; … ; 2.5994609441980325e-6; -9.745989607018252e-7;;], [0.0], Int64[], 1, :u2D)"
      ]
     },
     "metadata": {},
     "output_type": "display_data"
    }
   ],
   "source": [
    "q2 = FEM.solveDisplacement(problem, [load], [supp])"
   ]
  },
  {
   "cell_type": "code",
   "execution_count": 60,
   "id": "44b8eba1",
   "metadata": {},
   "outputs": [
    {
     "data": {
      "text/plain": [
       "1"
      ]
     },
     "metadata": {},
     "output_type": "display_data"
    }
   ],
   "source": [
    "FEM.showDoFResults(problem, q2, :uvec)"
   ]
  },
  {
   "cell_type": "code",
   "execution_count": 61,
   "id": "f73f1bf4",
   "metadata": {},
   "outputs": [
    {
     "data": {
      "text/plain": [
       "(\"left\", 1.0e6, 1.0e6, 0)"
      ]
     },
     "metadata": {},
     "output_type": "display_data"
    }
   ],
   "source": [
    "elsupp = FEM.elasticSupport(\"left\", kx=1e6, ky=1e6)"
   ]
  },
  {
   "cell_type": "code",
   "execution_count": 62,
   "id": "bc86a194",
   "metadata": {},
   "outputs": [
    {
     "data": {
      "text/plain": [
       "LowLevelFEM.VectorField(Matrix{Float64}[], [-5.518557609496582e-23; 9.054552941337081e-7; … ; 2.6213754931219642e-6; -1.5706097137120894e-6;;], [0.0], Int64[], 1, :u2D)"
      ]
     },
     "metadata": {},
     "output_type": "display_data"
    }
   ],
   "source": [
    "q4 = FEM.solveDisplacement(problem, [load], [], [elsupp])"
   ]
  },
  {
   "cell_type": "code",
   "execution_count": 63,
   "id": "893d44b2",
   "metadata": {},
   "outputs": [
    {
     "data": {
      "text/plain": [
       "2"
      ]
     },
     "metadata": {},
     "output_type": "display_data"
    }
   ],
   "source": [
    "FEM.showDoFResults(problem, q4, :uvec)"
   ]
  },
  {
   "cell_type": "code",
   "execution_count": 64,
   "id": "0970c354",
   "metadata": {},
   "outputs": [
    {
     "data": {
      "text/plain": [
       "5.0"
      ]
     },
     "metadata": {},
     "output_type": "display_data"
    }
   ],
   "source": [
    "q3 = copy(q2)\n",
    "q3.a[1] = 5\n",
    "q2.a[1] = 3\n",
    "q3.a[1]"
   ]
  },
  {
   "cell_type": "code",
   "execution_count": 65,
   "id": "406e6594",
   "metadata": {},
   "outputs": [
    {
     "data": {
      "text/plain": [
       "LowLevelFEM.VectorField(Matrix{Float64}[], [1.5; 0.0; … ; 1.2997304720990163e-6; -4.872994803509126e-7;;], [0.0], Int64[], 1, :u2D)"
      ]
     },
     "metadata": {},
     "output_type": "display_data"
    }
   ],
   "source": [
    "q2 + q3\n",
    "q2 - q3\n",
    "q2 * 2\n",
    "2 * q2\n",
    "q2 / 2"
   ]
  },
  {
   "cell_type": "code",
   "execution_count": 66,
   "id": "09382e6e",
   "metadata": {},
   "outputs": [
    {
     "data": {
      "text/plain": [
       "LowLevelFEM.TensorField([[3.521321241915711e-6; -1.9344964189217016e-8; … ; 0.0; 3.4675622061253977e-6;;], [3.52552792090209e-6; -2.3943325671370416e-8; … ; 0.0; 3.465151654427786e-6;;], [3.537480773224319e-6; 1.1755991649166643e-8; … ; 0.0; 3.4529687493902648e-6;;], [3.4865567547400394e-6; -3.374462459164065e-7; … ; 0.0; 3.2079852751169067e-6;;], [3.531900331356171e-6; 1.0010898386934864e-8; … ; 0.0; 3.4616469928091556e-6;;], [3.3032845102210406e-6; -2.0934706120525767e-7; … ; 0.0; 3.0902974050036788e-6;;], [3.5338241685441784e-6; -3.5455880042146624e-9; … ; 0.0; 3.471164594388493e-6;;], [3.5859640773687216e-6; 7.087529149366037e-7; … ; 0.0; 3.0921966026839223e-6;;], [3.6007017717707185e-6; 1.5279501441868856e-7; … ; 0.0; 3.2639366066559108e-6;;], [3.298760829647533e-6; 7.080164282638098e-7; … ; 0.0; 2.8963973985811887e-6;;]  …  [3.603543945240217e-6; -3.6827999290408716e-7; … ; 0.0; 3.4615642064369165e-6;;], [3.5020787267942713e-6; -1.863099657303845e-8; … ; 0.0; 3.4761245835837836e-6;;], [3.5034411912774747e-6; 1.8255573503814338e-8; … ; 0.0; 3.48131897553907e-6;;], [3.760185754511874e-6; -1.423940640636124e-6; … ; 0.0; 2.9805895553780573e-6;;], [3.5171456267415586e-6; 2.987064331702817e-8; … ; 0.0; 3.461440585691979e-6;;], [3.5171172960750546e-6; 3.284202880055235e-8; … ; 0.0; 3.4773970581106124e-6;;], [3.73408791515012e-6; 1.3614517976118352e-6; … ; 0.0; 3.3726409837881314e-6;;], [3.495296298126723e-6; 2.694246060688384e-8; … ; 0.0; 3.48131897553907e-6;;], [3.580807566943516e-6; -2.460894677599174e-7; … ; 0.0; 3.1654474155864216e-6;;], [3.532607331990359e-6; 3.102294765685427e-8; … ; 0.0; 3.4555193040028896e-6;;]], Matrix{Float64}(undef, 0, 0), [0.0], [33, 34, 35, 36, 37, 38, 39, 40, 41, 42  …  185, 186, 187, 188, 189, 190, 191, 192, 193, 194], 1, :e)"
      ]
     },
     "metadata": {},
     "output_type": "display_data"
    }
   ],
   "source": [
    "A1 = FEM.solveStrain(problem, q1)"
   ]
  },
  {
   "cell_type": "code",
   "execution_count": 67,
   "id": "81dd947c",
   "metadata": {},
   "outputs": [
    {
     "data": {
      "text/plain": [
       "LowLevelFEM.TensorField(Matrix{Float64}[], [3.3618534353672495e-6; 6.915791801805019e-6; … ; 0.0; 3.47074020054166e-6;;], [0.0], Int64[], 1, :e)"
      ]
     },
     "metadata": {},
     "output_type": "display_data"
    }
   ],
   "source": [
    "A2 = FEM.solveStrain(problem, q1, DoFResults=true)"
   ]
  },
  {
   "cell_type": "code",
   "execution_count": 68,
   "id": "a093e10e",
   "metadata": {},
   "outputs": [
    {
     "name": "stdout",
     "output_type": "stream",
     "text": [
      "Info    : Running Plugin(Smooth)...\n",
      "Info    : Done running Plugin(Smooth)\n"
     ]
    },
    {
     "data": {
      "text/plain": [
       "3"
      ]
     },
     "metadata": {},
     "output_type": "display_data"
    }
   ],
   "source": [
    "FEM.showStrainResults(problem, A1, :e)"
   ]
  },
  {
   "cell_type": "code",
   "execution_count": 69,
   "id": "60dd8401",
   "metadata": {},
   "outputs": [
    {
     "data": {
      "text/plain": [
       "4"
      ]
     },
     "metadata": {},
     "output_type": "display_data"
    }
   ],
   "source": [
    "FEM.showDoFResults(problem, A2, :e)"
   ]
  },
  {
   "cell_type": "code",
   "execution_count": 70,
   "id": "bfccc448",
   "metadata": {},
   "outputs": [
    {
     "data": {
      "text/plain": [
       "LowLevelFEM.TensorField(Matrix{Float64}[], [3.3618534353672495e-6; 3.4578959009025097e-6; … ; 0.0; 3.47074020054166e-6;;], [0.0], Int64[], 1, :e)"
      ]
     },
     "metadata": {},
     "output_type": "display_data"
    }
   ],
   "source": [
    "A3 = FEM.elementsToNodes(problem, A1)"
   ]
  },
  {
   "cell_type": "code",
   "execution_count": 71,
   "id": "27dff127",
   "metadata": {},
   "outputs": [
    {
     "data": {
      "text/plain": [
       "5"
      ]
     },
     "metadata": {},
     "output_type": "display_data"
    }
   ],
   "source": [
    "FEM.showDoFResults(problem, A3, :e)"
   ]
  },
  {
   "cell_type": "code",
   "execution_count": 72,
   "id": "739d00d8",
   "metadata": {},
   "outputs": [
    {
     "data": {
      "text/plain": [
       "LowLevelFEM.TensorField([[1.0007816986003326; -0.002976148336802618; … ; 0.0; 0.9927892182900088;;], [1.0026826387799341; -0.0036835885648262177; … ; 0.0; 0.9931158418187782;;], [1.0040008799206712; 0.0018086140998717912; … ; 0.0; 0.9899976943209448;;], [1.0182738526816022; -0.05191480706406254; … ; 0.0; 1.010360230418573;;], [1.002629274533723; 0.0015401382133745944; … ; 0.0; 0.9928224043825158;;], [0.9920061557218951; -0.03220724018542426; … ; 0.0; 0.9806030675851506;;], [1.0016686507612713; -0.0005454750775714865; … ; 0.0; 0.9922543801434888;;], [1.0447806767630978; 0.10903890999024672; … ; 0.0; 0.9914086657465211;;], [1.025220891547539; 0.023506925295182855; … ; 0.0; 0.9519103802624226;;], [1.0009319441830142; 0.10892560434827843; … ; 0.0; 0.9164376620071073;;]  …  [1.0491498767439236; -0.05665846044678264; … ; 0.0; 1.038228358374439;;], [0.99807737000123; -0.0028663071650828387; … ; 0.0; 0.9936236452591033;;], [0.9978082428735087; 0.0028085497698175903; … ; 0.0; 0.995025288315958;;], [1.1940583894071923; -0.219067790867096; … ; 0.0; 1.029544955864683;;], [1.0007175397309485; 0.0045954835872351035; … ; 0.0; 0.9928307582259079;;], [1.0003127267832914; 0.005052619815469592; … ; 0.0; 0.9960430523755273;;], [1.1452619107522475; 0.2094541227095131; … ; 0.0; 1.1446058734512043;;], [0.9970325237480895; 0.00414499393952059; … ; 0.0; 0.9953346953609649;;], [1.0265981735818532; -0.03785991811691036; … ; 0.0; 0.9453139065334831;;], [1.0045056705890947; 0.00477276117797758; … ; 0.0; 0.9915351858817721;;]], Matrix{Float64}(undef, 0, 0), [0.0], [33, 34, 35, 36, 37, 38, 39, 40, 41, 42  …  185, 186, 187, 188, 189, 190, 191, 192, 193, 194], 1, :s)"
      ]
     },
     "metadata": {},
     "output_type": "display_data"
    }
   ],
   "source": [
    "S1 = FEM.solveStress(problem, q1)"
   ]
  },
  {
   "cell_type": "code",
   "execution_count": 73,
   "id": "45fe3f5f",
   "metadata": {},
   "outputs": [
    {
     "data": {
      "text/plain": [
       "LowLevelFEM.TensorField(Matrix{Float64}[], [0.8216722333430653; 0.5319839847542323; … ; 0.0; 0.9941502236238554;;], [0.0], Int64[], 1, :s)"
      ]
     },
     "metadata": {},
     "output_type": "display_data"
    }
   ],
   "source": [
    "S2 = FEM.solveStress(problem, q1, DoFResults=true)"
   ]
  },
  {
   "cell_type": "code",
   "execution_count": 74,
   "id": "c9bdfc99",
   "metadata": {},
   "outputs": [
    {
     "name": "stdout",
     "output_type": "stream",
     "text": [
      "Info    : Running Plugin(Smooth)...\n",
      "Info    : Done running Plugin(Smooth)\n"
     ]
    },
    {
     "data": {
      "text/plain": [
       "6"
      ]
     },
     "metadata": {},
     "output_type": "display_data"
    }
   ],
   "source": [
    "FEM.showStressResults(problem, S1, :s)"
   ]
  },
  {
   "cell_type": "code",
   "execution_count": 75,
   "id": "be62d671",
   "metadata": {},
   "outputs": [
    {
     "data": {
      "text/plain": [
       "7"
      ]
     },
     "metadata": {},
     "output_type": "display_data"
    }
   ],
   "source": [
    "FEM.showDoFResults(problem, S2, :s)"
   ]
  },
  {
   "cell_type": "code",
   "execution_count": 76,
   "id": "1e24a75e",
   "metadata": {},
   "outputs": [
    {
     "data": {
      "text/plain": [
       "LowLevelFEM.TensorField(Matrix{Float64}[], [0.8216722333430653; 0.5319839847542323; … ; 0.0; 0.9941502236238554;;], [0.0], Int64[], 1, :s)"
      ]
     },
     "metadata": {},
     "output_type": "display_data"
    }
   ],
   "source": [
    "S3 = FEM.elementsToNodes(problem, S1)"
   ]
  },
  {
   "cell_type": "code",
   "execution_count": 77,
   "id": "7c44010a",
   "metadata": {},
   "outputs": [
    {
     "data": {
      "text/plain": [
       "8"
      ]
     },
     "metadata": {},
     "output_type": "display_data"
    }
   ],
   "source": [
    "FEM.showDoFResults(problem, S3, :s)"
   ]
  },
  {
   "cell_type": "code",
   "execution_count": 78,
   "id": "a0686542",
   "metadata": {},
   "outputs": [
    {
     "name": "stdout",
     "output_type": "stream",
     "text": [
      "Info    : RCMK renumbering...\n",
      "Info    : Done RCMK renumbering (bandwidth is now 16)\n",
      "Info    : Renumbering nodal model data (9 steps)\n"
     ]
    },
    {
     "data": {
      "text/plain": [
       "LowLevelFEM.Problem(\"body1-2D\", :PlaneHeatConduction, 2, 1, LowLevelFEM.Material[LowLevelFEM.Material(\"body\", :Hooke, 200000.0, 0.3, 7.85e-9, 45.0, 4.2e8, 1.2e-5, 115384.61538461536, 76923.07692307692, 166666.66666666666)], 1.0, 98)"
      ]
     },
     "metadata": {},
     "output_type": "display_data"
    }
   ],
   "source": [
    "thermo = FEM.Problem([mat], type=:PlaneHeatConduction)"
   ]
  },
  {
   "cell_type": "code",
   "execution_count": 79,
   "id": "ba6bc157",
   "metadata": {},
   "outputs": [
    {
     "data": {
      "text/plain": [
       "LowLevelFEM.ScalarField(Matrix{Float64}[], [0.0; -0.062499999999999924; … ; 0.0; 0.0;;], Float64[], Int64[], 1, :qn)"
      ]
     },
     "metadata": {},
     "output_type": "display_data"
    }
   ],
   "source": [
    "temp = FEM.temperatureConstraint(\"left\", T=0)\n",
    "flux = FEM.heatFlux(\"right\", qn=1)\n",
    "\n",
    "flx = FEM.heatFluxVector(thermo, [flux])"
   ]
  },
  {
   "cell_type": "code",
   "execution_count": 80,
   "id": "216e0638",
   "metadata": {},
   "outputs": [
    {
     "data": {
      "text/plain": [
       "LowLevelFEM.ScalarField(Matrix{Float64}[], [0.0; -0.02222222222222229; … ; -0.005781351831909781; -0.016643653924583945;;], [0.0], Int64[], 1, :T)"
      ]
     },
     "metadata": {},
     "output_type": "display_data"
    }
   ],
   "source": [
    "KT = FEM.heatConductionMatrix(thermo)\n",
    "\n",
    "FEM.applyBoundaryConditions!(thermo, KT, flx, [temp])\n",
    "\n",
    "T1 = FEM.solveTemperature(KT, flx)"
   ]
  },
  {
   "cell_type": "code",
   "execution_count": 81,
   "id": "256a8b96",
   "metadata": {},
   "outputs": [
    {
     "data": {
      "text/plain": [
       "9"
      ]
     },
     "metadata": {},
     "output_type": "display_data"
    }
   ],
   "source": [
    "FEM.showDoFResults(thermo, T1, :T)"
   ]
  },
  {
   "cell_type": "code",
   "execution_count": 82,
   "id": "e5018b61",
   "metadata": {},
   "outputs": [
    {
     "data": {
      "text/plain": [
       "LowLevelFEM.ScalarField(Matrix{Float64}[], [0.0; -0.02222222222222229; … ; -0.005781351831909781; -0.016643653924583945;;], [0.0], Int64[], 1, :T)"
      ]
     },
     "metadata": {},
     "output_type": "display_data"
    }
   ],
   "source": [
    "T2 = FEM.solveTemperature(thermo, [flux], [temp])"
   ]
  },
  {
   "cell_type": "code",
   "execution_count": 83,
   "id": "62b2b69c",
   "metadata": {},
   "outputs": [
    {
     "data": {
      "text/plain": [
       "10"
      ]
     },
     "metadata": {},
     "output_type": "display_data"
    }
   ],
   "source": [
    "FEM.showDoFResults(thermo, T2, :T)"
   ]
  },
  {
   "cell_type": "code",
   "execution_count": 84,
   "id": "6701b1aa",
   "metadata": {},
   "outputs": [
    {
     "data": {
      "text/plain": [
       "LowLevelFEM.VectorField([[0.9999999999999989; -1.2490009027033011e-15; … ; 0.9999999999999989; -1.2490009027033011e-15;;], [0.9999999999999973; 1.2490009027033011e-15; … ; 0.9999999999999973; 1.2490009027033011e-15;;], [1.0000000000000002; -8.118505867571457e-15; … ; 1.0000000000000002; -8.118505867571457e-15;;], [1.0000000000000024; -4.683753385137379e-16; … ; 1.0000000000000024; -4.683753385137379e-16;;], [1.000000000000004; -2.4980018054066022e-15; … ; 1.000000000000004; -2.4980018054066022e-15;;], [1.000000000000003; 7.806255641895632e-17; … ; 1.000000000000003; 7.806255641895632e-17;;], [0.9999999999999989; 7.494005416219807e-15; … ; 0.9999999999999989; 7.494005416219807e-15;;], [1.000000000000004; -3.122502256758253e-16; … ; 1.000000000000004; -3.122502256758253e-16;;], [1.0000000000000042; -7.806255641895632e-16; … ; 1.0000000000000042; -7.806255641895632e-16;;], [1.0000000000000044; -3.122502256758253e-16; … ; 1.0000000000000044; -3.122502256758253e-16;;]  …  [1.0000000000000024; -3.1225022567582528e-15; … ; 1.0000000000000024; -3.1225022567582528e-15;;], [1.000000000000003; 0.0; … ; 1.000000000000003; 0.0;;], [0.9999999999999977; 1.5612511283791264e-15; … ; 0.9999999999999977; 1.5612511283791264e-15;;], [1.0000000000000029; -6.245004513516506e-16; … ; 1.0000000000000029; -6.245004513516506e-16;;], [1.0000000000000033; 6.245004513516506e-16; … ; 1.0000000000000033; 6.245004513516506e-16;;], [1.0000000000000033; -2.4980018054066022e-15; … ; 1.0000000000000033; -2.4980018054066022e-15;;], [1.000000000000004; 3.903127820947816e-16; … ; 1.000000000000004; 3.903127820947816e-16;;], [1.0000000000000064; 6.245004513516506e-16; … ; 1.0000000000000064; 6.245004513516506e-16;;], [1.000000000000002; 7.806255641895632e-16; … ; 1.000000000000002; 7.806255641895632e-16;;], [1.0000000000000027; 1.2490009027033011e-15; … ; 1.0000000000000027; 1.2490009027033011e-15;;]], Matrix{Float64}(undef, 0, 0), [0.0], [33, 34, 35, 36, 37, 38, 39, 40, 41, 42  …  185, 186, 187, 188, 189, 190, 191, 192, 193, 194], 1, :q2D)"
      ]
     },
     "metadata": {},
     "output_type": "display_data"
    }
   ],
   "source": [
    "qT1 = FEM.solveHeatFlux(thermo, T2)"
   ]
  },
  {
   "cell_type": "code",
   "execution_count": 85,
   "id": "df8e8b88",
   "metadata": {},
   "outputs": [
    {
     "name": "stdout",
     "output_type": "stream",
     "text": [
      "Info    : Running Plugin(Smooth)...\n",
      "Info    : Done running Plugin(Smooth)\n"
     ]
    },
    {
     "data": {
      "text/plain": [
       "11"
      ]
     },
     "metadata": {},
     "output_type": "display_data"
    }
   ],
   "source": [
    "FEM.showElementResults(thermo, qT1, :qvec)"
   ]
  },
  {
   "cell_type": "code",
   "execution_count": 86,
   "id": "9182fc68",
   "metadata": {},
   "outputs": [
    {
     "data": {
      "text/plain": [
       "LowLevelFEM.VectorField(Matrix{Float64}[], [1.000000000000004; 7.806255641895632e-17; … ; 1.0000000000000027; 1.0408340855860843e-15;;], [0.0], Int64[], 1, :q2D)"
      ]
     },
     "metadata": {},
     "output_type": "display_data"
    }
   ],
   "source": [
    "qT2 = FEM.solveHeatFlux(thermo, T2, DoFResults=true)"
   ]
  },
  {
   "cell_type": "code",
   "execution_count": 87,
   "id": "8f78b4be",
   "metadata": {},
   "outputs": [
    {
     "data": {
      "text/plain": [
       "12"
      ]
     },
     "metadata": {},
     "output_type": "display_data"
    }
   ],
   "source": [
    "FEM.showDoFResults(thermo, qT2, :qvec)"
   ]
  },
  {
   "cell_type": "code",
   "execution_count": 88,
   "id": "f21b2d03",
   "metadata": {},
   "outputs": [
    {
     "data": {
      "text/plain": [
       "LowLevelFEM.VectorField(Matrix{Float64}[], [1.000000000000004; 7.806255641895632e-17; … ; 1.0000000000000027; 1.0408340855860843e-15;;], [0.0], Int64[], 1, :q2D)"
      ]
     },
     "metadata": {},
     "output_type": "display_data"
    }
   ],
   "source": [
    "qT3 = FEM.elementsToNodes(thermo, qT1)"
   ]
  },
  {
   "cell_type": "code",
   "execution_count": 89,
   "id": "fb70e93f",
   "metadata": {},
   "outputs": [
    {
     "data": {
      "text/plain": [
       "13"
      ]
     },
     "metadata": {},
     "output_type": "display_data"
    }
   ],
   "source": [
    "FEM.showDoFResults(thermo, qT3, :qvec)"
   ]
  },
  {
   "cell_type": "code",
   "execution_count": 90,
   "id": "e1daf3ac",
   "metadata": {},
   "outputs": [
    {
     "data": {
      "text/plain": [
       "(\"top\", 100, 20, 0 + 2im)"
      ]
     },
     "metadata": {},
     "output_type": "display_data"
    }
   ],
   "source": [
    "heatconvB = FEM.heatConvection(\"bottom\", h=1, Tₐ=0)\n",
    "heatconvT = FEM.heatConvection(\"top\", h=100, Tₐ=20)"
   ]
  },
  {
   "cell_type": "code",
   "execution_count": 91,
   "id": "5b4844cb",
   "metadata": {},
   "outputs": [
    {
     "data": {
      "text/plain": [
       "LowLevelFEM.ScalarField(Matrix{Float64}[], [0.0; 6.028905064944964; … ; 6.149721965107743; 10.661603694875508;;], [0.0], Int64[], 1, :T)"
      ]
     },
     "metadata": {},
     "output_type": "display_data"
    }
   ],
   "source": [
    "T3 = FEM.solveTemperature(thermo, [], [temp], [heatconvB, heatconvT])"
   ]
  },
  {
   "cell_type": "code",
   "execution_count": 92,
   "id": "fde6bb7d",
   "metadata": {},
   "outputs": [
    {
     "data": {
      "text/plain": [
       "14"
      ]
     },
     "metadata": {},
     "output_type": "display_data"
    }
   ],
   "source": [
    "FEM.showDoFResults(thermo, T3, :T)"
   ]
  },
  {
   "cell_type": "code",
   "execution_count": 93,
   "id": "8cb70d7c",
   "metadata": {},
   "outputs": [
    {
     "data": {
      "text/plain": [
       "LowLevelFEM.VectorField(Matrix{Float64}[], [0.00012298077901520512; 0.00013635384781205732; … ; 0.005981029859801124; 2.0816681711721685e-17;;], [0.0], Int64[], 1, :f2D)"
      ]
     },
     "metadata": {},
     "output_type": "display_data"
    }
   ],
   "source": [
    "fT = FEM.thermalLoadVector(problem, T1)"
   ]
  },
  {
   "cell_type": "code",
   "execution_count": 94,
   "id": "f38a169a",
   "metadata": {},
   "outputs": [
    {
     "data": {
      "text/plain": [
       "LowLevelFEM.VectorField(Matrix{Float64}[], [9.482402621955039e-8; 0.0; … ; 2.5994609441980325e-6; -9.745989607018252e-7;;], [0.0], Int64[], 1, :u2D)"
      ]
     },
     "metadata": {},
     "output_type": "display_data"
    }
   ],
   "source": [
    "FEM.applyBoundaryConditions!(problem, K, f, [supp])\n",
    "q5 = FEM.solveDisplacement(K, f)"
   ]
  },
  {
   "cell_type": "code",
   "execution_count": 95,
   "id": "6475f2b5",
   "metadata": {},
   "outputs": [
    {
     "data": {
      "text/plain": [
       "LowLevelFEM.TensorField([[1.1027373319604712; -0.002976148336802618; … ; 0.0; 1.1116887948936018;;], [1.1215822153835273; -0.0036835885648262177; … ; 0.0; 1.0950714751789168;;], [1.1211663277936685; 0.0018086140998717912; … ; 0.0; 1.0907728736752176;;], [1.0340422106951745; -0.05191480706406254; … ; 0.0; 1.0436935637519063;;], [1.103404453887996; 0.0015401382133745944; … ; 0.0; 1.109987852255513;;], [1.0077745137354674; -0.03220724018542426; … ; 0.0; 1.0056125413555745;;], [1.1350019840946053; -0.0005454750775714865; … ; 0.0; 1.1255877134768224;;], [1.0593787023882588; 0.10903890999024672; … ; 0.0; 1.0151250949961372;;], [1.0665398053560253; 0.023506925295182855; … ; 0.0; 0.9835861394848056;;], [1.0246483734326304; 0.10892560434827843; … ; 0.0; 0.9310356876322682;;]  …  [1.0741498767439237; -0.05665846044678264; … ; 0.0; 1.079895025041106;;], [1.1063400805132158; -0.0028663071650828387; … ; 0.0; 1.1130770433629182;;], [1.1150389713050173; 0.0028085497698175903; … ; 0.0; 1.1027781254917735;;], [1.2190583894071925; -0.219067790867096; … ; 0.0; 1.0433337269389782;;], [1.092168387784795; 0.0045954835872351035; … ; 0.0; 1.0761640915592416;;], [1.0836460601166251; 0.005052619815469592; … ; 0.0; 1.0876682702442206;;], [1.1598599363774085; 0.2094541227095131; … ; 0.0; 1.1700903209350026;;], [1.0886577416167829; 0.00414499393952059; … ; 0.0; 1.1030875325367802;;], [1.0683738644591836; -0.03785991811691036; … ; 0.0; 0.9721257651256298;;], [1.1101493217872396; 0.00477276117797758; … ; 0.0; 1.0829860339356188;;]], Matrix{Float64}(undef, 0, 0), [0.0], [33, 34, 35, 36, 37, 38, 39, 40, 41, 42  …  185, 186, 187, 188, 189, 190, 191, 192, 193, 194], 1, :s)"
      ]
     },
     "metadata": {},
     "output_type": "display_data"
    }
   ],
   "source": [
    "ST1 = FEM.solveStress(problem, q5, T=T1)"
   ]
  },
  {
   "cell_type": "code",
   "execution_count": 96,
   "id": "20c45766",
   "metadata": {},
   "outputs": [
    {
     "data": {
      "text/plain": [
       "LowLevelFEM.TensorField([[1.0007816986003326; -0.002976148336802618; … ; 0.0; 0.9927892182900088;;], [1.0026826387799341; -0.0036835885648262177; … ; 0.0; 0.9931158418187782;;], [1.0040008799206712; 0.0018086140998717912; … ; 0.0; 0.9899976943209448;;], [1.0182738526816022; -0.05191480706406254; … ; 0.0; 1.010360230418573;;], [1.002629274533723; 0.0015401382133745944; … ; 0.0; 0.9928224043825158;;], [0.9920061557218951; -0.03220724018542426; … ; 0.0; 0.9806030675851506;;], [1.0016686507612713; -0.0005454750775714865; … ; 0.0; 0.9922543801434888;;], [1.0447806767630978; 0.10903890999024672; … ; 0.0; 0.9914086657465211;;], [1.025220891547539; 0.023506925295182855; … ; 0.0; 0.9519103802624226;;], [1.0009319441830142; 0.10892560434827843; … ; 0.0; 0.9164376620071073;;]  …  [1.0491498767439236; -0.05665846044678264; … ; 0.0; 1.038228358374439;;], [0.99807737000123; -0.0028663071650828387; … ; 0.0; 0.9936236452591033;;], [0.9978082428735087; 0.0028085497698175903; … ; 0.0; 0.995025288315958;;], [1.1940583894071923; -0.219067790867096; … ; 0.0; 1.029544955864683;;], [1.0007175397309485; 0.0045954835872351035; … ; 0.0; 0.9928307582259079;;], [1.0003127267832914; 0.005052619815469592; … ; 0.0; 0.9960430523755273;;], [1.1452619107522475; 0.2094541227095131; … ; 0.0; 1.1446058734512043;;], [0.9970325237480895; 0.00414499393952059; … ; 0.0; 0.9953346953609649;;], [1.0265981735818532; -0.03785991811691036; … ; 0.0; 0.9453139065334831;;], [1.0045056705890947; 0.00477276117797758; … ; 0.0; 0.9915351858817721;;]], Matrix{Float64}(undef, 0, 0), [0.0], [33, 34, 35, 36, 37, 38, 39, 40, 41, 42  …  185, 186, 187, 188, 189, 190, 191, 192, 193, 194], 1, :s)"
      ]
     },
     "metadata": {},
     "output_type": "display_data"
    }
   ],
   "source": [
    "ST2 = FEM.solveStress(problem, q5, T=T1, T₀=T1)"
   ]
  },
  {
   "cell_type": "code",
   "execution_count": 97,
   "id": "0cf15977",
   "metadata": {},
   "outputs": [
    {
     "name": "stdout",
     "output_type": "stream",
     "text": [
      "Info    : Running Plugin(Smooth)...\n",
      "Info    : Done running Plugin(Smooth)\n"
     ]
    },
    {
     "data": {
      "text/plain": [
       "15"
      ]
     },
     "metadata": {},
     "output_type": "display_data"
    }
   ],
   "source": [
    "FEM.showElementResults(problem, ST1, :s)"
   ]
  },
  {
   "cell_type": "code",
   "execution_count": 98,
   "id": "7b06da70",
   "metadata": {},
   "outputs": [
    {
     "name": "stdout",
     "output_type": "stream",
     "text": [
      "Info    : Running Plugin(Smooth)...\n",
      "Info    : Done running Plugin(Smooth)\n"
     ]
    },
    {
     "data": {
      "text/plain": [
       "16"
      ]
     },
     "metadata": {},
     "output_type": "display_data"
    }
   ],
   "source": [
    "FEM.showElementResults(problem, ST2, :s)"
   ]
  },
  {
   "cell_type": "code",
   "execution_count": 99,
   "id": "e07f8b10",
   "metadata": {},
   "outputs": [
    {
     "name": "stdout",
     "output_type": "stream",
     "text": [
      "-------------------------------------------------------\n",
      "Version       : 4.13.1\n",
      "License       : GNU General Public License\n",
      "Build OS      : Linux64-sdk\n",
      "Build date    : 19700101\n",
      "Build host    : amdci7.julia.csail.mit.edu\n",
      "Build options : 64Bit ALGLIB[contrib] ANN[contrib] Bamg Blossom Cairo DIntegration Dlopen DomHex Eigen[contrib] Fltk GMP Gmm[contrib] Hxt Jpeg Kbipack LinuxJoystick MathEx[contrib] Mesh Metis[contrib] Mmg Mpeg Netgen Nii2mesh ONELAB ONELABMetamodel OpenCASCADE OpenCASCADE-CAF OpenGL OpenMP OptHom Parser Plugins Png Post QuadMeshingTools QuadTri Solver TetGen/BR TinyXML2[contrib] Untangle Voro++[contrib] WinslowUntangler Zlib\n",
      "FLTK version  : 1.3.8\n",
      "OCC version   : 7.7.2\n",
      "Packaged by   : root\n",
      "Web site      : https://gmsh.info\n",
      "Issue tracker : https://gitlab.onelab.info/gmsh/gmsh/issues\n",
      "-------------------------------------------------------\n"
     ]
    },
    {
     "name": "stderr",
     "output_type": "stream",
     "text": [
      "XRequest.18: BadValue 0x0\n"
     ]
    }
   ],
   "source": [
    "FEM.openPostProcessor()"
   ]
  },
  {
   "cell_type": "code",
   "execution_count": 100,
   "id": "076f84a7",
   "metadata": {},
   "outputs": [],
   "source": [
    "gmsh.finalize()"
   ]
  }
 ],
 "metadata": {
  "kernelspec": {
   "display_name": "Julia 1.11.5",
   "language": "julia",
   "name": "julia-1.11"
  },
  "language_info": {
   "file_extension": ".jl",
   "mimetype": "application/julia",
   "name": "julia",
   "version": "1.11.5"
  }
 },
 "nbformat": 4,
 "nbformat_minor": 5
}
