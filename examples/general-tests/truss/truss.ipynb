{
 "cells": [
  {
   "cell_type": "code",
   "execution_count": 1,
   "id": "30bd17cc",
   "metadata": {},
   "outputs": [],
   "source": [
    "using LowLevelFEM\n",
    "gmsh.initialize()"
   ]
  },
  {
   "cell_type": "code",
   "execution_count": 2,
   "id": "cd19855c",
   "metadata": {},
   "outputs": [
    {
     "name": "stdout",
     "output_type": "stream",
     "text": [
      "Info    : Reading 'truss.geo'...\n",
      "Info    : Meshing 1D...\n",
      "Info    : [  0%] Meshing curve 1 (Line)\n",
      "Info    : [ 60%] Meshing curve 2 (Line)\n",
      "Info    : Done meshing 1D (Wall 0.00011499s, CPU 0.00011s)\n",
      "Info    : 3 nodes 5 elements\n",
      "Info    : Done reading 'truss.geo'\n"
     ]
    }
   ],
   "source": [
    "gmsh.open(\"truss.geo\")"
   ]
  },
  {
   "cell_type": "code",
   "execution_count": 3,
   "id": "02b0d8ef",
   "metadata": {},
   "outputs": [
    {
     "name": "stdout",
     "output_type": "stream",
     "text": [
      "Info    : RCMK renumbering...\n",
      "Info    : Done RCMK renumbering (bandwidth is now 1)\n"
     ]
    },
    {
     "data": {
      "text/plain": [
       "Problem(\"truss\", :Truss, 3, 3, LowLevelFEM.Material[LowLevelFEM.Material(\"rod\", :Hooke, 200000.0, 0.3, 7.85e-9, 45.0, 4.2e8, 1.2e-5, 115384.61538461536, 76923.07692307692, 166666.66666666666, 1.0)], 1.0, 3)"
      ]
     },
     "metadata": {},
     "output_type": "display_data"
    }
   ],
   "source": [
    "mat = material(\"rod\")\n",
    "prob = Problem([mat], type=:Truss)"
   ]
  },
  {
   "cell_type": "code",
   "execution_count": 4,
   "id": "72bceeff",
   "metadata": {},
   "outputs": [
    {
     "data": {
      "text/plain": [
       "9×9 SparseArrays.SparseMatrixCSC{Float64, Int64} with 19 stored entries:\n",
       "  1000.0   ⋅    ⋅   -1000.0        ⋅      ⋅       ⋅         ⋅      ⋅ \n",
       "      ⋅    ⋅    ⋅        ⋅         ⋅      ⋅       ⋅         ⋅      ⋅ \n",
       "      ⋅    ⋅    ⋅        ⋅         ⋅      ⋅       ⋅         ⋅      ⋅ \n",
       " -1000.0   ⋅    ⋅    1715.54    357.771   ⋅   -715.542  -357.771   ⋅ \n",
       "      ⋅    ⋅    ⋅     357.771   178.885   ⋅   -357.771  -178.885   ⋅ \n",
       "      ⋅    ⋅    ⋅        ⋅         ⋅      ⋅       ⋅         ⋅      ⋅ \n",
       "      ⋅    ⋅    ⋅    -715.542  -357.771   ⋅    715.542   357.771   ⋅ \n",
       "      ⋅    ⋅    ⋅    -357.771  -178.885   ⋅    357.771   178.885   ⋅ \n",
       "      ⋅    ⋅    ⋅        ⋅         ⋅      ⋅       ⋅         ⋅      ⋅ "
      ]
     },
     "metadata": {},
     "output_type": "display_data"
    },
    {
     "data": {
      "text/plain": []
     },
     "metadata": {},
     "output_type": "display_data"
    }
   ],
   "source": [
    "K = stiffnessMatrix(prob)"
   ]
  },
  {
   "cell_type": "code",
   "execution_count": 5,
   "id": "ca0a310c",
   "metadata": {},
   "outputs": [
    {
     "data": {
      "text/plain": [
       "(\"C\", 0, -1, 0)"
      ]
     },
     "metadata": {},
     "output_type": "display_data"
    }
   ],
   "source": [
    "supp0 = displacementConstraint(\"rod\", uz=0)\n",
    "suppA = displacementConstraint(\"A\", ux=0, uy=0)\n",
    "suppB = displacementConstraint(\"B\", ux=0, uy=0)\n",
    "force = load(\"C\", fy=-1)"
   ]
  },
  {
   "cell_type": "code",
   "execution_count": 6,
   "id": "6d970d62",
   "metadata": {},
   "outputs": [
    {
     "data": {
      "text/plain": [
       "LowLevelFEM.VectorField(Matrix{Float64}[], [0.0; 0.0; … ; 0.0; 0.0;;], [0.0], Int64[], 1, :f3D, Problem(\"truss\", :Truss, 3, 3, LowLevelFEM.Material[LowLevelFEM.Material(\"rod\", :Hooke, 200000.0, 0.3, 7.85e-9, 45.0, 4.2e8, 1.2e-5, 115384.61538461536, 76923.07692307692, 166666.66666666666, 1.0)], 1.0, 3))"
      ]
     },
     "metadata": {},
     "output_type": "display_data"
    }
   ],
   "source": [
    "f = loadVector(prob, [force])"
   ]
  },
  {
   "cell_type": "code",
   "execution_count": 7,
   "id": "d6a18d74",
   "metadata": {},
   "outputs": [],
   "source": [
    "applyBoundaryConditions!(K, f, [supp0, suppA, suppB])"
   ]
  },
  {
   "cell_type": "code",
   "execution_count": 8,
   "id": "38e41647",
   "metadata": {},
   "outputs": [
    {
     "data": {
      "text/plain": [
       "9×9 SparseArrays.SparseMatrixCSC{Float64, Int64} with 11 stored entries:\n",
       " 1.0   ⋅    ⋅       ⋅        ⋅      ⋅    ⋅    ⋅    ⋅ \n",
       "  ⋅   1.0   ⋅       ⋅        ⋅      ⋅    ⋅    ⋅    ⋅ \n",
       "  ⋅    ⋅   1.0      ⋅        ⋅      ⋅    ⋅    ⋅    ⋅ \n",
       "  ⋅    ⋅    ⋅   1715.54   357.771   ⋅    ⋅    ⋅    ⋅ \n",
       "  ⋅    ⋅    ⋅    357.771  178.885   ⋅    ⋅    ⋅    ⋅ \n",
       "  ⋅    ⋅    ⋅       ⋅        ⋅     1.0   ⋅    ⋅    ⋅ \n",
       "  ⋅    ⋅    ⋅       ⋅        ⋅      ⋅   1.0   ⋅    ⋅ \n",
       "  ⋅    ⋅    ⋅       ⋅        ⋅      ⋅    ⋅   1.0   ⋅ \n",
       "  ⋅    ⋅    ⋅       ⋅        ⋅      ⋅    ⋅    ⋅   1.0"
      ]
     },
     "metadata": {},
     "output_type": "display_data"
    },
    {
     "data": {
      "text/plain": []
     },
     "metadata": {},
     "output_type": "display_data"
    }
   ],
   "source": [
    "K"
   ]
  },
  {
   "cell_type": "code",
   "execution_count": 9,
   "id": "7b247c28",
   "metadata": {},
   "outputs": [
    {
     "data": {
      "text/plain": [
       "LowLevelFEM.VectorField(Matrix{Float64}[], [0.0; 0.0; … ; 0.0; 0.0;;], [0.0], Int64[], 1, :u3D, Problem(\"truss\", :Truss, 3, 3, LowLevelFEM.Material[LowLevelFEM.Material(\"rod\", :Hooke, 200000.0, 0.3, 7.85e-9, 45.0, 4.2e8, 1.2e-5, 115384.61538461536, 76923.07692307692, 166666.66666666666, 1.0)], 1.0, 3))"
      ]
     },
     "metadata": {},
     "output_type": "display_data"
    }
   ],
   "source": [
    "q = K \\ f"
   ]
  },
  {
   "cell_type": "code",
   "execution_count": 10,
   "id": "9cfa79fc",
   "metadata": {},
   "outputs": [
    {
     "data": {
      "text/plain": [
       "9×1 Matrix{Float64}:\n",
       "  0.0\n",
       "  0.0\n",
       "  0.0\n",
       "  0.0020000000000000005\n",
       " -0.009590169943749475\n",
       "  0.0\n",
       "  0.0\n",
       "  0.0\n",
       "  0.0"
      ]
     },
     "metadata": {},
     "output_type": "display_data"
    }
   ],
   "source": [
    "q.a"
   ]
  },
  {
   "cell_type": "code",
   "execution_count": 11,
   "id": "1be1a8b2",
   "metadata": {},
   "outputs": [
    {
     "data": {
      "text/plain": [
       "LowLevelFEM.VectorField(Matrix{Float64}[], [0.0; 0.0; … ; 0.0; 0.0;;], [0.0], Int64[], 1, :u3D, Problem(\"truss\", :Truss, 3, 3, LowLevelFEM.Material[LowLevelFEM.Material(\"rod\", :Hooke, 200000.0, 0.3, 7.85e-9, 45.0, 4.2e8, 1.2e-5, 115384.61538461536, 76923.07692307692, 166666.66666666666, 1.0)], 1.0, 3))"
      ]
     },
     "metadata": {},
     "output_type": "display_data"
    }
   ],
   "source": [
    "q2 = solveDisplacement(prob, [force], [supp0, suppA, suppB])"
   ]
  },
  {
   "cell_type": "code",
   "execution_count": 12,
   "id": "afb53b13",
   "metadata": {},
   "outputs": [
    {
     "data": {
      "text/plain": [
       "1"
      ]
     },
     "metadata": {},
     "output_type": "display_data"
    }
   ],
   "source": [
    "showDoFResults(q, :uvec)"
   ]
  },
  {
   "cell_type": "code",
   "execution_count": 13,
   "id": "0d963000",
   "metadata": {},
   "outputs": [
    {
     "data": {
      "text/plain": [
       "2"
      ]
     },
     "metadata": {},
     "output_type": "display_data"
    }
   ],
   "source": [
    "showDoFResults(q2, :uvec)"
   ]
  },
  {
   "cell_type": "code",
   "execution_count": 14,
   "id": "2552a483",
   "metadata": {},
   "outputs": [
    {
     "data": {
      "text/plain": [
       "LowLevelFEM.ScalarField([[-2.2360679774997894; -2.2360679774997894;;], [2.0000000000000004; 2.0000000000000004;;]], Matrix{Float64}(undef, 0, 0), [0.0], [4, 5], 1, :i, Problem(\"truss\", :Truss, 3, 3, LowLevelFEM.Material[LowLevelFEM.Material(\"rod\", :Hooke, 200000.0, 0.3, 7.85e-9, 45.0, 4.2e8, 1.2e-5, 115384.61538461536, 76923.07692307692, 166666.66666666666, 1.0)], 1.0, 3))"
      ]
     },
     "metadata": {},
     "output_type": "display_data"
    }
   ],
   "source": [
    "N = solveAxialForce(q)"
   ]
  },
  {
   "cell_type": "code",
   "execution_count": 15,
   "id": "1a2e74f6",
   "metadata": {},
   "outputs": [
    {
     "data": {
      "text/plain": [
       "3"
      ]
     },
     "metadata": {},
     "output_type": "display_data"
    }
   ],
   "source": [
    "showElementResults(N, :scalar)"
   ]
  },
  {
   "cell_type": "code",
   "execution_count": 16,
   "id": "24c4dafc",
   "metadata": {},
   "outputs": [
    {
     "name": "stdout",
     "output_type": "stream",
     "text": [
      "Info    : Running Plugin(Smooth)...\n",
      "Info    : Done running Plugin(Smooth)\n"
     ]
    },
    {
     "data": {
      "text/plain": [
       "4"
      ]
     },
     "metadata": {},
     "output_type": "display_data"
    }
   ],
   "source": [
    "showElementResults(N, :scalar, smooth=true)"
   ]
  },
  {
   "cell_type": "code",
   "execution_count": 17,
   "id": "d241ff47",
   "metadata": {},
   "outputs": [
    {
     "data": {
      "text/plain": [
       "5"
      ]
     },
     "metadata": {},
     "output_type": "display_data"
    }
   ],
   "source": [
    "showDoFResults(N, :scalar)"
   ]
  },
  {
   "cell_type": "code",
   "execution_count": 18,
   "id": "501673d3",
   "metadata": {},
   "outputs": [
    {
     "data": {
      "text/plain": [
       "2-element Vector{Matrix{Float64}}:\n",
       " [-2.2360679774997894; -2.2360679774997894;;]\n",
       " [2.0000000000000004; 2.0000000000000004;;]"
      ]
     },
     "metadata": {},
     "output_type": "display_data"
    }
   ],
   "source": [
    "N.A"
   ]
  },
  {
   "cell_type": "code",
   "execution_count": 19,
   "id": "ad64d249",
   "metadata": {},
   "outputs": [
    {
     "data": {
      "text/plain": [
       "2-element Vector{Int64}:\n",
       " 4\n",
       " 5"
      ]
     },
     "metadata": {},
     "output_type": "display_data"
    }
   ],
   "source": [
    "N.numElem"
   ]
  },
  {
   "cell_type": "code",
   "execution_count": 20,
   "id": "08202f90",
   "metadata": {},
   "outputs": [
    {
     "data": {
      "text/plain": [
       "LowLevelFEM.ScalarField(Matrix{Float64}[], [2.0000000000000004; -0.11803398874989446; -2.2360679774997894;;], [0.0], Int64[], 1, :i, Problem(\"truss\", :Truss, 3, 3, LowLevelFEM.Material[LowLevelFEM.Material(\"rod\", :Hooke, 200000.0, 0.3, 7.85e-9, 45.0, 4.2e8, 1.2e-5, 115384.61538461536, 76923.07692307692, 166666.66666666666, 1.0)], 1.0, 3))"
      ]
     },
     "metadata": {},
     "output_type": "display_data"
    }
   ],
   "source": [
    "N1 = elementsToNodes(N)"
   ]
  },
  {
   "cell_type": "code",
   "execution_count": 21,
   "id": "0316523d",
   "metadata": {},
   "outputs": [
    {
     "data": {
      "text/plain": [
       "3×1 Matrix{Float64}:\n",
       "  2.0000000000000004\n",
       " -0.11803398874989446\n",
       " -2.2360679774997894"
      ]
     },
     "metadata": {},
     "output_type": "display_data"
    }
   ],
   "source": [
    "N1.a"
   ]
  },
  {
   "cell_type": "code",
   "execution_count": 22,
   "id": "d71229db",
   "metadata": {},
   "outputs": [
    {
     "data": {
      "text/plain": [
       "6"
      ]
     },
     "metadata": {},
     "output_type": "display_data"
    }
   ],
   "source": [
    "showDoFResults(N1, :scalar)"
   ]
  },
  {
   "cell_type": "code",
   "execution_count": 23,
   "id": "9db6a0d3",
   "metadata": {},
   "outputs": [
    {
     "data": {
      "text/plain": [
       "9×9 SparseArrays.SparseMatrixCSC{Float64, Int64} with 19 stored entries:\n",
       "  1000.0   ⋅    ⋅   -1000.0        ⋅      ⋅       ⋅         ⋅      ⋅ \n",
       "      ⋅    ⋅    ⋅        ⋅         ⋅      ⋅       ⋅         ⋅      ⋅ \n",
       "      ⋅    ⋅    ⋅        ⋅         ⋅      ⋅       ⋅         ⋅      ⋅ \n",
       " -1000.0   ⋅    ⋅    1715.54    357.771   ⋅   -715.542  -357.771   ⋅ \n",
       "      ⋅    ⋅    ⋅     357.771   178.885   ⋅   -357.771  -178.885   ⋅ \n",
       "      ⋅    ⋅    ⋅        ⋅         ⋅      ⋅       ⋅         ⋅      ⋅ \n",
       "      ⋅    ⋅    ⋅    -715.542  -357.771   ⋅    715.542   357.771   ⋅ \n",
       "      ⋅    ⋅    ⋅    -357.771  -178.885   ⋅    357.771   178.885   ⋅ \n",
       "      ⋅    ⋅    ⋅        ⋅         ⋅      ⋅       ⋅         ⋅      ⋅ "
      ]
     },
     "metadata": {},
     "output_type": "display_data"
    },
    {
     "data": {
      "text/plain": []
     },
     "metadata": {},
     "output_type": "display_data"
    }
   ],
   "source": [
    "K = stiffnessMatrix(prob)"
   ]
  },
  {
   "cell_type": "code",
   "execution_count": 24,
   "id": "c6ab9073",
   "metadata": {},
   "outputs": [
    {
     "data": {
      "text/plain": [
       "9×9 SparseArrays.SparseMatrixCSC{Float64, Int64} with 5 stored entries:\n",
       " 7.85e-7   ⋅    ⋅    ⋅           ⋅           ⋅    ⋅           ⋅           ⋅ \n",
       "  ⋅        ⋅    ⋅    ⋅           ⋅           ⋅    ⋅           ⋅           ⋅ \n",
       "  ⋅        ⋅    ⋅    ⋅           ⋅           ⋅    ⋅           ⋅           ⋅ \n",
       "  ⋅        ⋅    ⋅   1.83819e-6   ⋅           ⋅    ⋅           ⋅           ⋅ \n",
       "  ⋅        ⋅    ⋅    ⋅          5.26594e-7   ⋅    ⋅           ⋅           ⋅ \n",
       "  ⋅        ⋅    ⋅    ⋅           ⋅           ⋅    ⋅           ⋅           ⋅ \n",
       "  ⋅        ⋅    ⋅    ⋅           ⋅           ⋅   1.05319e-6   ⋅           ⋅ \n",
       "  ⋅        ⋅    ⋅    ⋅           ⋅           ⋅    ⋅          5.26594e-7   ⋅ \n",
       "  ⋅        ⋅    ⋅    ⋅           ⋅           ⋅    ⋅           ⋅           ⋅ "
      ]
     },
     "metadata": {},
     "output_type": "display_data"
    },
    {
     "data": {
      "text/plain": []
     },
     "metadata": {},
     "output_type": "display_data"
    }
   ],
   "source": [
    "M = massMatrix(prob)"
   ]
  },
  {
   "cell_type": "code",
   "execution_count": 25,
   "id": "bfce93ca",
   "metadata": {},
   "outputs": [
    {
     "data": {
      "text/plain": [
       "LowLevelFEM.VectorField(Matrix{Float64}[], [0.0; 0.0; … ; 0.0; 0.0;;], [0.0], Int64[], 1, :f3D, Problem(\"truss\", :Truss, 3, 3, LowLevelFEM.Material[LowLevelFEM.Material(\"rod\", :Hooke, 200000.0, 0.3, 7.85e-9, 45.0, 4.2e8, 1.2e-5, 115384.61538461536, 76923.07692307692, 166666.66666666666, 1.0)], 1.0, 3))"
      ]
     },
     "metadata": {},
     "output_type": "display_data"
    }
   ],
   "source": [
    "f = loadVector(prob, [force])"
   ]
  },
  {
   "cell_type": "code",
   "execution_count": 26,
   "id": "cdb4b5b5",
   "metadata": {},
   "outputs": [],
   "source": [
    "applyBoundaryConditions!(K, M, f, [supp0, suppA, suppB])"
   ]
  },
  {
   "cell_type": "code",
   "execution_count": 27,
   "id": "4905a1a8",
   "metadata": {},
   "outputs": [
    {
     "data": {
      "text/plain": [
       "0.00048604611621925656"
      ]
     },
     "metadata": {},
     "output_type": "display_data"
    }
   ],
   "source": [
    "dt = largestPeriodTime(K, M)"
   ]
  },
  {
   "cell_type": "code",
   "execution_count": 28,
   "id": "050078c0",
   "metadata": {},
   "outputs": [
    {
     "data": {
      "text/plain": [
       "LowLevelFEM.VectorField(Matrix{Float64}[], [0.0; 0.0; … ; 0.0; 0.0;;], [0.0], Int64[], 1, :u3D, Problem(\"truss\", :Truss, 3, 3, LowLevelFEM.Material[LowLevelFEM.Material(\"rod\", :Hooke, 200000.0, 0.3, 7.85e-9, 45.0, 4.2e8, 1.2e-5, 115384.61538461536, 76923.07692307692, 166666.66666666666, 1.0)], 1.0, 3))"
      ]
     },
     "metadata": {},
     "output_type": "display_data"
    }
   ],
   "source": [
    "u0 = initialDisplacement(prob, \"rod\")"
   ]
  },
  {
   "cell_type": "code",
   "execution_count": 29,
   "id": "ae98d982",
   "metadata": {},
   "outputs": [
    {
     "data": {
      "text/plain": [
       "LowLevelFEM.VectorField(Matrix{Float64}[], [0.0; 0.0; … ; 0.0; 0.0;;], [0.0], Int64[], 1, :v3D, Problem(\"truss\", :Truss, 3, 3, LowLevelFEM.Material[LowLevelFEM.Material(\"rod\", :Hooke, 200000.0, 0.3, 7.85e-9, 45.0, 4.2e8, 1.2e-5, 115384.61538461536, 76923.07692307692, 166666.66666666666, 1.0)], 1.0, 3))"
      ]
     },
     "metadata": {},
     "output_type": "display_data"
    }
   ],
   "source": [
    "v0 = initialVelocity(prob, \"rod\")"
   ]
  },
  {
   "cell_type": "code",
   "execution_count": 30,
   "id": "d88c7a5c",
   "metadata": {},
   "outputs": [
    {
     "data": {
      "text/plain": [
       "(LowLevelFEM.VectorField(Matrix{Float64}[], [0.0 0.0 … 0.0 0.0; 0.0 0.0 … 0.0 0.0; … ; 0.0 0.0 … 0.0 0.0; 0.0 0.0 … 0.0 0.0], [0.0, 4.8604611621925656e-5, 9.720922324385131e-5, 0.00014581383486577697, 0.00019441844648770263, 0.00024302305810962828, 0.00029162766973155394, 0.00034023228135347957, 0.00038883689297540525, 0.00043744150459733093  …  0.0019441844648770271, 0.0019927890764989526, 0.0020413936881208783, 0.002089998299742804, 0.0021386029113647296, 0.0021872075229866553, 0.002235812134608581, 0.0022844167462305067, 0.0023330213578524324, 0.002381625969474358], Int64[], 50, :u3D, Problem(\"truss\", :Truss, 3, 3, LowLevelFEM.Material[LowLevelFEM.Material(\"rod\", :Hooke, 200000.0, 0.3, 7.85e-9, 45.0, 4.2e8, 1.2e-5, 115384.61538461536, 76923.07692307692, 166666.66666666666, 1.0)], 1.0, 3)), LowLevelFEM.VectorField(Matrix{Float64}[], [0.0 0.0 … 0.0 0.0; 0.0 0.0 … 0.0 0.0; … ; 0.0 0.0 … 0.0 0.0; 0.0 0.0 … 0.0 0.0], [0.0, 4.8604611621925656e-5, 9.720922324385131e-5, 0.00014581383486577697, 0.00019441844648770263, 0.00024302305810962828, 0.00029162766973155394, 0.00034023228135347957, 0.00038883689297540525, 0.00043744150459733093  …  0.0019441844648770271, 0.0019927890764989526, 0.0020413936881208783, 0.002089998299742804, 0.0021386029113647296, 0.0021872075229866553, 0.002235812134608581, 0.0022844167462305067, 0.0023330213578524324, 0.002381625969474358], Int64[], 50, :v3D, Problem(\"truss\", :Truss, 3, 3, LowLevelFEM.Material[LowLevelFEM.Material(\"rod\", :Hooke, 200000.0, 0.3, 7.85e-9, 45.0, 4.2e8, 1.2e-5, 115384.61538461536, 76923.07692307692, 166666.66666666666, 1.0)], 1.0, 3)))"
      ]
     },
     "metadata": {},
     "output_type": "display_data"
    }
   ],
   "source": [
    "u, v = HHT(K, M, f, u0, v0, 5dt, dt / 10)"
   ]
  },
  {
   "cell_type": "code",
   "execution_count": 31,
   "id": "9aec58c7",
   "metadata": {},
   "outputs": [
    {
     "data": {
      "text/plain": [
       "7"
      ]
     },
     "metadata": {},
     "output_type": "display_data"
    }
   ],
   "source": [
    "showDoFResults(u, :uvec)"
   ]
  },
  {
   "cell_type": "code",
   "execution_count": 32,
   "id": "dba492fa",
   "metadata": {},
   "outputs": [
    {
     "name": "stderr",
     "output_type": "stream",
     "text": [
      "┌ Warning: Adjusting nev from 2 to 1\n",
      "└ @ Arpack /home/perebal/.julia/packages/Arpack/FCvNd/src/Arpack.jl:92\n",
      "┌ Error: XYAUPD_Exception: NCV-NEV >= 2 and less than or equal to N.\n",
      "│   info = -3\n",
      "└ @ Arpack /home/perebal/.julia/packages/Arpack/FCvNd/src/libarpack.jl:47\n"
     ]
    },
    {
     "ename": "Arpack.XYAUPD_Exception",
     "evalue": "",
     "output_type": "error",
     "traceback": [
      "\n",
      "\n",
      "Stacktrace:\n",
      " [1] aupd_wrapper(T::Type, matvecA!::Arpack.var\"#17#27\"{SparseArrays.SparseMatrixCSC{Float64, Int64}}, matvecB::Arpack.var\"#13#23\", solveSI::Arpack.var\"#18#28\", n::Int64, sym::Bool, cmplx::Bool, bmat::String, nev::Int64, ncv::Int64, which::String, tol::Float64, maxiter::Int64, mode::Int64, v0::Vector{Float64}, check::Int64)\n",
      "   @ Arpack ~/.julia/packages/Arpack/FCvNd/src/libarpack.jl:141\n",
      " [2] _eigs(A::SparseArrays.SparseMatrixCSC{Float64, Int64}, B::SparseArrays.SparseMatrixCSC{Float64, Int64}; nev::Int64, ncv::Int64, which::Symbol, tol::Float64, maxiter::Int64, sigma::Float64, v0::Vector{Float64}, ritzvec::Bool, explicittransform::Symbol, check::Int64)\n",
      "   @ Arpack ~/.julia/packages/Arpack/FCvNd/src/Arpack.jl:240\n",
      " [3] _eigs\n",
      "   @ ~/.julia/packages/Arpack/FCvNd/src/Arpack.jl:75 [inlined]\n",
      " [4] #eigs#5\n",
      "   @ ~/.julia/packages/Arpack/FCvNd/src/Arpack.jl:53 [inlined]\n",
      " [5] solveEigenModes(K::LowLevelFEM.SystemMatrix, M::LowLevelFEM.SystemMatrix; n::Int64, fₘᵢₙ::Float64)\n",
      "   @ LowLevelFEM ~/Dokumentumok/GitHub/LowLevelFEM.jl/src/linear.jl:2660\n",
      " [6] solveEigenModes\n",
      "   @ ~/Dokumentumok/GitHub/LowLevelFEM.jl/src/linear.jl:2654 [inlined]\n",
      " [7] solveModalAnalysis(problem::Problem; constraints::Vector{Tuple{String, Number, Number, Number}}, loads::Vector{Any}, n::Int64, fₘᵢₙ::Float64)\n",
      "   @ LowLevelFEM ~/Dokumentumok/GitHub/LowLevelFEM.jl/src/linear.jl:2744\n",
      " [8] top-level scope\n",
      "   @ ~/Dokumentumok/GitHub/LowLevelFEM.jl/examples/general-tests/truss/jl_notebook_cell_df34fa98e69747e1a8f8a730347b8e2f_X43sZmlsZQ==.jl:1"
     ]
    }
   ],
   "source": [
    "mod = solveModalAnalysis(prob, constraints=[supp0, suppA, suppB], n=2)"
   ]
  },
  {
   "cell_type": "code",
   "execution_count": 33,
   "id": "518186ca",
   "metadata": {},
   "outputs": [
    {
     "ename": "MethodError",
     "evalue": "MethodError: no method matching showDoFResults(::typeof(mod))\nThe function `showDoFResults` exists, but no method is defined for this combination of argument types.\n\nClosest candidates are:\n  showDoFResults(::Any, !Matched::Any; name, visible, ff, factor)\n   @ LowLevelFEM ~/Dokumentumok/GitHub/LowLevelFEM.jl/src/general.jl:1786\n",
     "output_type": "error",
     "traceback": [
      "MethodError: no method matching showDoFResults(::typeof(mod))\n",
      "The function `showDoFResults` exists, but no method is defined for this combination of argument types.\n",
      "\n",
      "Closest candidates are:\n",
      "  showDoFResults(::Any, !Matched::Any; name, visible, ff, factor)\n",
      "   @ LowLevelFEM ~/Dokumentumok/GitHub/LowLevelFEM.jl/src/general.jl:1786\n",
      "\n",
      "\n",
      "Stacktrace:\n",
      " [1] top-level scope\n",
      "   @ ~/Dokumentumok/GitHub/LowLevelFEM.jl/examples/general-tests/truss/jl_notebook_cell_df34fa98e69747e1a8f8a730347b8e2f_X44sZmlsZQ==.jl:1"
     ]
    }
   ],
   "source": [
    "showDoFResults(mod)"
   ]
  },
  {
   "cell_type": "code",
   "execution_count": 34,
   "id": "61f87afd",
   "metadata": {},
   "outputs": [
    {
     "name": "stdout",
     "output_type": "stream",
     "text": [
      "-------------------------------------------------------\n",
      "Version       : 4.13.1\n",
      "License       : GNU General Public License\n",
      "Build OS      : Linux64-sdk\n",
      "Build date    : 19700101\n",
      "Build host    : amdci7.julia.csail.mit.edu\n",
      "Build options : 64Bit ALGLIB[contrib] ANN[contrib] Bamg Blossom Cairo DIntegration Dlopen DomHex Eigen[contrib] Fltk GMP Gmm[contrib] Hxt Jpeg Kbipack LinuxJoystick MathEx[contrib] Mesh Metis[contrib] Mmg Mpeg Netgen Nii2mesh ONELAB ONELABMetamodel OpenCASCADE OpenCASCADE-CAF OpenGL OpenMP OptHom Parser Plugins Png Post QuadMeshingTools QuadTri Solver TetGen/BR TinyXML2[contrib] Untangle Voro++[contrib] WinslowUntangler Zlib\n",
      "FLTK version  : 1.3.8\n",
      "OCC version   : 7.7.2\n",
      "Packaged by   : root\n",
      "Web site      : https://gmsh.info\n",
      "Issue tracker : https://gitlab.onelab.info/gmsh/gmsh/issues\n",
      "-------------------------------------------------------\n"
     ]
    },
    {
     "name": "stderr",
     "output_type": "stream",
     "text": [
      "XOpenIM() failed\n",
      "XRequest.18: BadValue 0x0\n",
      "Fontconfig warning: using without calling FcInit()\n"
     ]
    }
   ],
   "source": [
    "openPostProcessor()"
   ]
  },
  {
   "cell_type": "code",
   "execution_count": 35,
   "id": "5749127a",
   "metadata": {},
   "outputs": [],
   "source": [
    "gmsh.finalize()"
   ]
  }
 ],
 "metadata": {
  "kernelspec": {
   "display_name": "Julia 1.11.6",
   "language": "julia",
   "name": "julia-1.11"
  },
  "language_info": {
   "file_extension": ".jl",
   "mimetype": "application/julia",
   "name": "julia",
   "version": "1.11.6"
  }
 },
 "nbformat": 4,
 "nbformat_minor": 5
}
