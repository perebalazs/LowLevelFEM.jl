{
 "cells": [
  {
   "cell_type": "code",
   "execution_count": 1,
   "id": "30bd17cc",
   "metadata": {},
   "outputs": [],
   "source": [
    "using LowLevelFEM\n",
    "gmsh.initialize()"
   ]
  },
  {
   "cell_type": "code",
   "execution_count": 2,
   "id": "cd19855c",
   "metadata": {},
   "outputs": [
    {
     "name": "stdout",
     "output_type": "stream",
     "text": [
      "Info    : Reading 'truss.geo'...\n",
      "Info    : Meshing 1D...\n",
      "Info    : [  0%] Meshing curve 1 (Line)\n",
      "Info    : [ 60%] Meshing curve 2 (Line)\n",
      "Info    : Done meshing 1D (Wall 0.000113588s, CPU 0.00011s)\n",
      "Info    : 3 nodes 5 elements\n",
      "Info    : Done reading 'truss.geo'\n"
     ]
    }
   ],
   "source": [
    "gmsh.open(\"truss.geo\")"
   ]
  },
  {
   "cell_type": "code",
   "execution_count": 3,
   "id": "02b0d8ef",
   "metadata": {},
   "outputs": [
    {
     "name": "stdout",
     "output_type": "stream",
     "text": [
      "Info    : RCMK renumbering...\n",
      "Info    : Done RCMK renumbering (bandwidth is now 1)\n"
     ]
    },
    {
     "data": {
      "text/plain": [
       "Problem(\"truss\", :Truss, 3, 3, LowLevelFEM.Material[LowLevelFEM.Material(\"rod\", :Hooke, 200000.0, 0.3, 7.85e-9, 45.0, 4.2e8, 1.2e-5, 115384.61538461536, 76923.07692307692, 166666.66666666666, 1.0)], 1.0, 3)"
      ]
     },
     "metadata": {},
     "output_type": "display_data"
    }
   ],
   "source": [
    "mat = material(\"rod\")\n",
    "prob = Problem([mat], type=:Truss)"
   ]
  },
  {
   "cell_type": "code",
   "execution_count": 4,
   "id": "72bceeff",
   "metadata": {},
   "outputs": [
    {
     "data": {
      "text/plain": [
       "9×9 SparseArrays.SparseMatrixCSC{Float64, Int64} with 19 stored entries:\n",
       "  1000.0   ⋅    ⋅   -1000.0        ⋅      ⋅       ⋅         ⋅      ⋅ \n",
       "      ⋅    ⋅    ⋅        ⋅         ⋅      ⋅       ⋅         ⋅      ⋅ \n",
       "      ⋅    ⋅    ⋅        ⋅         ⋅      ⋅       ⋅         ⋅      ⋅ \n",
       " -1000.0   ⋅    ⋅    1715.54    357.771   ⋅   -715.542  -357.771   ⋅ \n",
       "      ⋅    ⋅    ⋅     357.771   178.885   ⋅   -357.771  -178.885   ⋅ \n",
       "      ⋅    ⋅    ⋅        ⋅         ⋅      ⋅       ⋅         ⋅      ⋅ \n",
       "      ⋅    ⋅    ⋅    -715.542  -357.771   ⋅    715.542   357.771   ⋅ \n",
       "      ⋅    ⋅    ⋅    -357.771  -178.885   ⋅    357.771   178.885   ⋅ \n",
       "      ⋅    ⋅    ⋅        ⋅         ⋅      ⋅       ⋅         ⋅      ⋅ "
      ]
     },
     "metadata": {},
     "output_type": "display_data"
    },
    {
     "data": {
      "text/plain": []
     },
     "metadata": {},
     "output_type": "display_data"
    }
   ],
   "source": [
    "K = LowLevelFEM.stiffnessMatrixTruss(prob)"
   ]
  },
  {
   "cell_type": "code",
   "execution_count": 5,
   "id": "ca0a310c",
   "metadata": {},
   "outputs": [
    {
     "data": {
      "text/plain": [
       "(\"C\", 0, -1, 0)"
      ]
     },
     "metadata": {},
     "output_type": "display_data"
    }
   ],
   "source": [
    "supp0 = displacementConstraint(\"rod\", uz=0)\n",
    "suppA = displacementConstraint(\"A\", ux=0, uy=0)\n",
    "suppB = displacementConstraint(\"B\", ux=0, uy=0)\n",
    "force = load(\"C\", fy=-1)"
   ]
  },
  {
   "cell_type": "code",
   "execution_count": 6,
   "id": "6d970d62",
   "metadata": {},
   "outputs": [
    {
     "data": {
      "text/plain": [
       "LowLevelFEM.VectorField(Matrix{Float64}[], [0.0; 0.0; … ; 0.0; 0.0;;], [0.0], Int64[], 1, :f3D, Problem(\"truss\", :Truss, 3, 3, LowLevelFEM.Material[LowLevelFEM.Material(\"rod\", :Hooke, 200000.0, 0.3, 7.85e-9, 45.0, 4.2e8, 1.2e-5, 115384.61538461536, 76923.07692307692, 166666.66666666666, 1.0)], 1.0, 3))"
      ]
     },
     "metadata": {},
     "output_type": "display_data"
    }
   ],
   "source": [
    "f = loadVector(prob, [force])"
   ]
  },
  {
   "cell_type": "code",
   "execution_count": 7,
   "id": "d6a18d74",
   "metadata": {},
   "outputs": [],
   "source": [
    "applyBoundaryConditions!(K, f, [supp0, suppA, suppB])"
   ]
  },
  {
   "cell_type": "code",
   "execution_count": 8,
   "id": "38e41647",
   "metadata": {},
   "outputs": [
    {
     "data": {
      "text/plain": [
       "9×9 SparseArrays.SparseMatrixCSC{Float64, Int64} with 11 stored entries:\n",
       " 1.0   ⋅    ⋅       ⋅        ⋅      ⋅    ⋅    ⋅    ⋅ \n",
       "  ⋅   1.0   ⋅       ⋅        ⋅      ⋅    ⋅    ⋅    ⋅ \n",
       "  ⋅    ⋅   1.0      ⋅        ⋅      ⋅    ⋅    ⋅    ⋅ \n",
       "  ⋅    ⋅    ⋅   1715.54   357.771   ⋅    ⋅    ⋅    ⋅ \n",
       "  ⋅    ⋅    ⋅    357.771  178.885   ⋅    ⋅    ⋅    ⋅ \n",
       "  ⋅    ⋅    ⋅       ⋅        ⋅     1.0   ⋅    ⋅    ⋅ \n",
       "  ⋅    ⋅    ⋅       ⋅        ⋅      ⋅   1.0   ⋅    ⋅ \n",
       "  ⋅    ⋅    ⋅       ⋅        ⋅      ⋅    ⋅   1.0   ⋅ \n",
       "  ⋅    ⋅    ⋅       ⋅        ⋅      ⋅    ⋅    ⋅   1.0"
      ]
     },
     "metadata": {},
     "output_type": "display_data"
    },
    {
     "data": {
      "text/plain": []
     },
     "metadata": {},
     "output_type": "display_data"
    }
   ],
   "source": [
    "K"
   ]
  },
  {
   "cell_type": "code",
   "execution_count": 9,
   "id": "7b247c28",
   "metadata": {},
   "outputs": [
    {
     "data": {
      "text/plain": [
       "LowLevelFEM.VectorField(Matrix{Float64}[], [0.0; 0.0; … ; 0.0; 0.0;;], [0.0], Int64[], 1, :u3D, Problem(\"truss\", :Truss, 3, 3, LowLevelFEM.Material[LowLevelFEM.Material(\"rod\", :Hooke, 200000.0, 0.3, 7.85e-9, 45.0, 4.2e8, 1.2e-5, 115384.61538461536, 76923.07692307692, 166666.66666666666, 1.0)], 1.0, 3))"
      ]
     },
     "metadata": {},
     "output_type": "display_data"
    }
   ],
   "source": [
    "q = K \\ f"
   ]
  },
  {
   "cell_type": "code",
   "execution_count": 10,
   "id": "9cfa79fc",
   "metadata": {},
   "outputs": [
    {
     "data": {
      "text/plain": [
       "9×1 Matrix{Float64}:\n",
       "  0.0\n",
       "  0.0\n",
       "  0.0\n",
       "  0.0020000000000000005\n",
       " -0.009590169943749475\n",
       "  0.0\n",
       "  0.0\n",
       "  0.0\n",
       "  0.0"
      ]
     },
     "metadata": {},
     "output_type": "display_data"
    }
   ],
   "source": [
    "q.a"
   ]
  },
  {
   "cell_type": "code",
   "execution_count": 11,
   "id": "afb53b13",
   "metadata": {},
   "outputs": [
    {
     "data": {
      "text/plain": [
       "\"pdim = 3\""
      ]
     },
     "metadata": {},
     "output_type": "display_data"
    },
    {
     "data": {
      "text/plain": [
       "1"
      ]
     },
     "metadata": {},
     "output_type": "display_data"
    }
   ],
   "source": [
    "showDoFResults(q, :uvec)"
   ]
  },
  {
   "cell_type": "code",
   "execution_count": null,
   "id": "4dbd3158",
   "metadata": {},
   "outputs": [],
   "source": []
  },
  {
   "cell_type": "code",
   "execution_count": 12,
   "id": "61f87afd",
   "metadata": {},
   "outputs": [
    {
     "name": "stdout",
     "output_type": "stream",
     "text": [
      "-------------------------------------------------------\n",
      "Version       : 4.13.1\n",
      "License       : GNU General Public License\n",
      "Build OS      : Linux64-sdk\n",
      "Build date    : 19700101\n",
      "Build host    : amdci7.julia.csail.mit.edu\n",
      "Build options : 64Bit ALGLIB[contrib] ANN[contrib] Bamg Blossom Cairo DIntegration Dlopen DomHex Eigen[contrib] Fltk GMP Gmm[contrib] Hxt Jpeg Kbipack LinuxJoystick MathEx[contrib] Mesh Metis[contrib] Mmg Mpeg Netgen Nii2mesh ONELAB ONELABMetamodel OpenCASCADE OpenCASCADE-CAF OpenGL OpenMP OptHom Parser Plugins Png Post QuadMeshingTools QuadTri Solver TetGen/BR TinyXML2[contrib] Untangle Voro++[contrib] WinslowUntangler Zlib\n",
      "FLTK version  : 1.3.8\n",
      "OCC version   : 7.7.2\n",
      "Packaged by   : root\n",
      "Web site      : https://gmsh.info\n",
      "Issue tracker : https://gitlab.onelab.info/gmsh/gmsh/issues\n",
      "-------------------------------------------------------\n"
     ]
    },
    {
     "name": "stderr",
     "output_type": "stream",
     "text": [
      "XOpenIM() failed\n",
      "XRequest.18: BadValue 0x0\n",
      "Fontconfig warning: using without calling FcInit()\n"
     ]
    }
   ],
   "source": [
    "openPostProcessor()"
   ]
  }
 ],
 "metadata": {
  "kernelspec": {
   "display_name": "Julia 1.11.6",
   "language": "julia",
   "name": "julia-1.11"
  },
  "language_info": {
   "file_extension": ".jl",
   "mimetype": "application/julia",
   "name": "julia",
   "version": "1.11.6"
  }
 },
 "nbformat": 4,
 "nbformat_minor": 5
}
