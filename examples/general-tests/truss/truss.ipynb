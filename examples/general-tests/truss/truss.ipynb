{
 "cells": [
  {
   "cell_type": "code",
   "execution_count": 1,
   "id": "30bd17cc",
   "metadata": {},
   "outputs": [],
   "source": [
    "using LowLevelFEM\n",
    "gmsh.initialize()"
   ]
  },
  {
   "cell_type": "code",
   "execution_count": 2,
   "id": "cd19855c",
   "metadata": {},
   "outputs": [
    {
     "name": "stdout",
     "output_type": "stream",
     "text": [
      "Info    : Reading 'truss.geo'...\n",
      "Info    : Meshing 1D...\n",
      "Info    : [  0%] Meshing curve 1 (Line)\n",
      "Info    : [ 60%] Meshing curve 2 (Line)\n",
      "Info    : Done meshing 1D (Wall 0.000169225s, CPU 0.000162s)\n",
      "Info    : 3 nodes 5 elements\n",
      "Info    : Done reading 'truss.geo'\n"
     ]
    }
   ],
   "source": [
    "gmsh.open(\"truss.geo\")"
   ]
  },
  {
   "cell_type": "code",
   "execution_count": 3,
   "id": "02b0d8ef",
   "metadata": {},
   "outputs": [
    {
     "name": "stdout",
     "output_type": "stream",
     "text": [
      "Info    : RCMK renumbering...\n",
      "Info    : Done RCMK renumbering (bandwidth is now 1)\n"
     ]
    },
    {
     "data": {
      "text/plain": [
       "Problem(\"truss\", :Truss, 3, 3, LowLevelFEM.Material[LowLevelFEM.Material(\"rod\", :Hooke, 200000.0, 0.3, 7.85e-9, 45.0, 4.2e8, 1.2e-5, 115384.61538461536, 76923.07692307692, 166666.66666666666, 1.0)], 1.0, 3)"
      ]
     },
     "metadata": {},
     "output_type": "display_data"
    }
   ],
   "source": [
    "mat = material(\"rod\")\n",
    "prob = Problem([mat], type=:Truss)"
   ]
  },
  {
   "cell_type": "code",
   "execution_count": 4,
   "id": "72bceeff",
   "metadata": {},
   "outputs": [
    {
     "data": {
      "text/plain": [
       "9×9 SparseArrays.SparseMatrixCSC{Float64, Int64} with 19 stored entries:\n",
       "  1000.0   ⋅    ⋅   -1000.0        ⋅      ⋅       ⋅         ⋅      ⋅ \n",
       "      ⋅    ⋅    ⋅        ⋅         ⋅      ⋅       ⋅         ⋅      ⋅ \n",
       "      ⋅    ⋅    ⋅        ⋅         ⋅      ⋅       ⋅         ⋅      ⋅ \n",
       " -1000.0   ⋅    ⋅    1715.54    357.771   ⋅   -715.542  -357.771   ⋅ \n",
       "      ⋅    ⋅    ⋅     357.771   178.885   ⋅   -357.771  -178.885   ⋅ \n",
       "      ⋅    ⋅    ⋅        ⋅         ⋅      ⋅       ⋅         ⋅      ⋅ \n",
       "      ⋅    ⋅    ⋅    -715.542  -357.771   ⋅    715.542   357.771   ⋅ \n",
       "      ⋅    ⋅    ⋅    -357.771  -178.885   ⋅    357.771   178.885   ⋅ \n",
       "      ⋅    ⋅    ⋅        ⋅         ⋅      ⋅       ⋅         ⋅      ⋅ "
      ]
     },
     "metadata": {},
     "output_type": "display_data"
    },
    {
     "data": {
      "text/plain": []
     },
     "metadata": {},
     "output_type": "display_data"
    }
   ],
   "source": [
    "K = stiffnessMatrix(prob)"
   ]
  },
  {
   "cell_type": "code",
   "execution_count": 5,
   "id": "ca0a310c",
   "metadata": {},
   "outputs": [
    {
     "data": {
      "text/plain": [
       "(\"C\", 0, -1, 0)"
      ]
     },
     "metadata": {},
     "output_type": "display_data"
    }
   ],
   "source": [
    "supp0 = displacementConstraint(\"rod\", uz=0)\n",
    "suppA = displacementConstraint(\"A\", ux=0, uy=0)\n",
    "suppB = displacementConstraint(\"B\", ux=0, uy=0)\n",
    "force = load(\"C\", fy=-1)"
   ]
  },
  {
   "cell_type": "code",
   "execution_count": 6,
   "id": "6d970d62",
   "metadata": {},
   "outputs": [
    {
     "data": {
      "text/plain": [
       "9×1 Matrix{Float64}:\n",
       "  0.0\n",
       "  0.0\n",
       "  0.0\n",
       "  0.0\n",
       " -1.0\n",
       "  0.0\n",
       "  0.0\n",
       "  0.0\n",
       "  0.0"
      ]
     },
     "metadata": {},
     "output_type": "display_data"
    },
    {
     "data": {
      "text/plain": []
     },
     "metadata": {},
     "output_type": "display_data"
    }
   ],
   "source": [
    "f = loadVector(prob, [force])"
   ]
  },
  {
   "cell_type": "code",
   "execution_count": 7,
   "id": "d6a18d74",
   "metadata": {},
   "outputs": [],
   "source": [
    "applyBoundaryConditions!(K, f, [supp0, suppA, suppB])"
   ]
  },
  {
   "cell_type": "code",
   "execution_count": 8,
   "id": "38e41647",
   "metadata": {},
   "outputs": [
    {
     "data": {
      "text/plain": [
       "9×9 SparseArrays.SparseMatrixCSC{Float64, Int64} with 11 stored entries:\n",
       " 1.0   ⋅    ⋅       ⋅        ⋅      ⋅    ⋅    ⋅    ⋅ \n",
       "  ⋅   1.0   ⋅       ⋅        ⋅      ⋅    ⋅    ⋅    ⋅ \n",
       "  ⋅    ⋅   1.0      ⋅        ⋅      ⋅    ⋅    ⋅    ⋅ \n",
       "  ⋅    ⋅    ⋅   1715.54   357.771   ⋅    ⋅    ⋅    ⋅ \n",
       "  ⋅    ⋅    ⋅    357.771  178.885   ⋅    ⋅    ⋅    ⋅ \n",
       "  ⋅    ⋅    ⋅       ⋅        ⋅     1.0   ⋅    ⋅    ⋅ \n",
       "  ⋅    ⋅    ⋅       ⋅        ⋅      ⋅   1.0   ⋅    ⋅ \n",
       "  ⋅    ⋅    ⋅       ⋅        ⋅      ⋅    ⋅   1.0   ⋅ \n",
       "  ⋅    ⋅    ⋅       ⋅        ⋅      ⋅    ⋅    ⋅   1.0"
      ]
     },
     "metadata": {},
     "output_type": "display_data"
    },
    {
     "data": {
      "text/plain": []
     },
     "metadata": {},
     "output_type": "display_data"
    }
   ],
   "source": [
    "K"
   ]
  },
  {
   "cell_type": "code",
   "execution_count": 9,
   "id": "7b247c28",
   "metadata": {},
   "outputs": [
    {
     "data": {
      "text/plain": [
       "9×1 Matrix{Float64}:\n",
       "  0.0\n",
       "  0.0\n",
       "  0.0\n",
       "  0.0020000000000000005\n",
       " -0.009590169943749475\n",
       "  0.0\n",
       "  0.0\n",
       "  0.0\n",
       "  0.0"
      ]
     },
     "metadata": {},
     "output_type": "display_data"
    },
    {
     "data": {
      "text/plain": []
     },
     "metadata": {},
     "output_type": "display_data"
    }
   ],
   "source": [
    "q = K \\ f"
   ]
  },
  {
   "cell_type": "code",
   "execution_count": 10,
   "id": "9cfa79fc",
   "metadata": {},
   "outputs": [
    {
     "data": {
      "text/plain": [
       "9×1 Matrix{Float64}:\n",
       "  0.0\n",
       "  0.0\n",
       "  0.0\n",
       "  0.0020000000000000005\n",
       " -0.009590169943749475\n",
       "  0.0\n",
       "  0.0\n",
       "  0.0\n",
       "  0.0"
      ]
     },
     "metadata": {},
     "output_type": "display_data"
    }
   ],
   "source": [
    "q.a"
   ]
  },
  {
   "cell_type": "code",
   "execution_count": 11,
   "id": "1be1a8b2",
   "metadata": {},
   "outputs": [
    {
     "data": {
      "text/plain": [
       "9×1 Matrix{Float64}:\n",
       "  0.0\n",
       "  0.0\n",
       "  0.0\n",
       "  0.0020000000000000005\n",
       " -0.009590169943749475\n",
       "  0.0\n",
       "  0.0\n",
       "  0.0\n",
       "  0.0"
      ]
     },
     "metadata": {},
     "output_type": "display_data"
    },
    {
     "data": {
      "text/plain": []
     },
     "metadata": {},
     "output_type": "display_data"
    }
   ],
   "source": [
    "q2 = solveDisplacement(prob, [force], [supp0, suppA, suppB])"
   ]
  },
  {
   "cell_type": "code",
   "execution_count": 12,
   "id": "afb53b13",
   "metadata": {},
   "outputs": [
    {
     "data": {
      "text/plain": [
       "1"
      ]
     },
     "metadata": {},
     "output_type": "display_data"
    }
   ],
   "source": [
    "showDoFResults(q, :uvec)"
   ]
  },
  {
   "cell_type": "code",
   "execution_count": 13,
   "id": "0d963000",
   "metadata": {},
   "outputs": [
    {
     "data": {
      "text/plain": [
       "2"
      ]
     },
     "metadata": {},
     "output_type": "display_data"
    }
   ],
   "source": [
    "showDoFResults(q2, :uvec)"
   ]
  },
  {
   "cell_type": "code",
   "execution_count": 14,
   "id": "2552a483",
   "metadata": {},
   "outputs": [
    {
     "data": {
      "text/plain": [
       "2-element Vector{Matrix{Float64}}:\n",
       " [-2.2360679774997894; -2.2360679774997894;;]\n",
       " [2.0000000000000004; 2.0000000000000004;;]"
      ]
     },
     "metadata": {},
     "output_type": "display_data"
    },
    {
     "data": {
      "text/plain": []
     },
     "metadata": {},
     "output_type": "display_data"
    }
   ],
   "source": [
    "N = solveAxialForce(q)"
   ]
  },
  {
   "cell_type": "code",
   "execution_count": 15,
   "id": "1a2e74f6",
   "metadata": {},
   "outputs": [
    {
     "data": {
      "text/plain": [
       "3"
      ]
     },
     "metadata": {},
     "output_type": "display_data"
    }
   ],
   "source": [
    "showElementResults(N, :scalar)"
   ]
  },
  {
   "cell_type": "code",
   "execution_count": 16,
   "id": "24c4dafc",
   "metadata": {},
   "outputs": [
    {
     "name": "stdout",
     "output_type": "stream",
     "text": [
      "Info    : Running Plugin(Smooth)...\n",
      "Info    : Done running Plugin(Smooth)\n"
     ]
    },
    {
     "data": {
      "text/plain": [
       "4"
      ]
     },
     "metadata": {},
     "output_type": "display_data"
    }
   ],
   "source": [
    "showElementResults(N, :scalar, smooth=true)"
   ]
  },
  {
   "cell_type": "code",
   "execution_count": 17,
   "id": "d241ff47",
   "metadata": {},
   "outputs": [
    {
     "data": {
      "text/plain": [
       "5"
      ]
     },
     "metadata": {},
     "output_type": "display_data"
    }
   ],
   "source": [
    "showDoFResults(N, :scalar)"
   ]
  },
  {
   "cell_type": "code",
   "execution_count": 18,
   "id": "501673d3",
   "metadata": {},
   "outputs": [
    {
     "data": {
      "text/plain": [
       "2-element Vector{Matrix{Float64}}:\n",
       " [-2.2360679774997894; -2.2360679774997894;;]\n",
       " [2.0000000000000004; 2.0000000000000004;;]"
      ]
     },
     "metadata": {},
     "output_type": "display_data"
    }
   ],
   "source": [
    "N.A"
   ]
  },
  {
   "cell_type": "code",
   "execution_count": 19,
   "id": "ad64d249",
   "metadata": {},
   "outputs": [
    {
     "data": {
      "text/plain": [
       "2-element Vector{Int64}:\n",
       " 4\n",
       " 5"
      ]
     },
     "metadata": {},
     "output_type": "display_data"
    }
   ],
   "source": [
    "N.numElem"
   ]
  },
  {
   "cell_type": "code",
   "execution_count": 20,
   "id": "08202f90",
   "metadata": {},
   "outputs": [
    {
     "data": {
      "text/plain": [
       "3×1 Matrix{Float64}:\n",
       "  2.0000000000000004\n",
       " -0.11803398874989446\n",
       " -2.2360679774997894"
      ]
     },
     "metadata": {},
     "output_type": "display_data"
    },
    {
     "data": {
      "text/plain": []
     },
     "metadata": {},
     "output_type": "display_data"
    }
   ],
   "source": [
    "N1 = elementsToNodes(N)"
   ]
  },
  {
   "cell_type": "code",
   "execution_count": 21,
   "id": "0316523d",
   "metadata": {},
   "outputs": [
    {
     "data": {
      "text/plain": [
       "3×1 Matrix{Float64}:\n",
       "  2.0000000000000004\n",
       " -0.11803398874989446\n",
       " -2.2360679774997894"
      ]
     },
     "metadata": {},
     "output_type": "display_data"
    }
   ],
   "source": [
    "N1.a"
   ]
  },
  {
   "cell_type": "code",
   "execution_count": 22,
   "id": "d71229db",
   "metadata": {},
   "outputs": [
    {
     "data": {
      "text/plain": [
       "6"
      ]
     },
     "metadata": {},
     "output_type": "display_data"
    }
   ],
   "source": [
    "showDoFResults(N1, :scalar)"
   ]
  },
  {
   "cell_type": "code",
   "execution_count": 23,
   "id": "9db6a0d3",
   "metadata": {},
   "outputs": [
    {
     "data": {
      "text/plain": [
       "9×9 SparseArrays.SparseMatrixCSC{Float64, Int64} with 19 stored entries:\n",
       "  1000.0   ⋅    ⋅   -1000.0        ⋅      ⋅       ⋅         ⋅      ⋅ \n",
       "      ⋅    ⋅    ⋅        ⋅         ⋅      ⋅       ⋅         ⋅      ⋅ \n",
       "      ⋅    ⋅    ⋅        ⋅         ⋅      ⋅       ⋅         ⋅      ⋅ \n",
       " -1000.0   ⋅    ⋅    1715.54    357.771   ⋅   -715.542  -357.771   ⋅ \n",
       "      ⋅    ⋅    ⋅     357.771   178.885   ⋅   -357.771  -178.885   ⋅ \n",
       "      ⋅    ⋅    ⋅        ⋅         ⋅      ⋅       ⋅         ⋅      ⋅ \n",
       "      ⋅    ⋅    ⋅    -715.542  -357.771   ⋅    715.542   357.771   ⋅ \n",
       "      ⋅    ⋅    ⋅    -357.771  -178.885   ⋅    357.771   178.885   ⋅ \n",
       "      ⋅    ⋅    ⋅        ⋅         ⋅      ⋅       ⋅         ⋅      ⋅ "
      ]
     },
     "metadata": {},
     "output_type": "display_data"
    },
    {
     "data": {
      "text/plain": []
     },
     "metadata": {},
     "output_type": "display_data"
    }
   ],
   "source": [
    "K = stiffnessMatrix(prob)"
   ]
  },
  {
   "cell_type": "code",
   "execution_count": 24,
   "id": "c6ab9073",
   "metadata": {},
   "outputs": [
    {
     "data": {
      "text/plain": [
       "9×9 SparseArrays.SparseMatrixCSC{Float64, Int64} with 5 stored entries:\n",
       " 7.85e-7   ⋅    ⋅    ⋅           ⋅           ⋅    ⋅           ⋅           ⋅ \n",
       "  ⋅        ⋅    ⋅    ⋅           ⋅           ⋅    ⋅           ⋅           ⋅ \n",
       "  ⋅        ⋅    ⋅    ⋅           ⋅           ⋅    ⋅           ⋅           ⋅ \n",
       "  ⋅        ⋅    ⋅   1.83819e-6   ⋅           ⋅    ⋅           ⋅           ⋅ \n",
       "  ⋅        ⋅    ⋅    ⋅          5.26594e-7   ⋅    ⋅           ⋅           ⋅ \n",
       "  ⋅        ⋅    ⋅    ⋅           ⋅           ⋅    ⋅           ⋅           ⋅ \n",
       "  ⋅        ⋅    ⋅    ⋅           ⋅           ⋅   1.05319e-6   ⋅           ⋅ \n",
       "  ⋅        ⋅    ⋅    ⋅           ⋅           ⋅    ⋅          5.26594e-7   ⋅ \n",
       "  ⋅        ⋅    ⋅    ⋅           ⋅           ⋅    ⋅           ⋅           ⋅ "
      ]
     },
     "metadata": {},
     "output_type": "display_data"
    },
    {
     "data": {
      "text/plain": []
     },
     "metadata": {},
     "output_type": "display_data"
    }
   ],
   "source": [
    "M = massMatrix(prob)"
   ]
  },
  {
   "cell_type": "code",
   "execution_count": 25,
   "id": "bfce93ca",
   "metadata": {},
   "outputs": [
    {
     "data": {
      "text/plain": [
       "9×1 Matrix{Float64}:\n",
       "  0.0\n",
       "  0.0\n",
       "  0.0\n",
       "  0.0\n",
       " -1.0\n",
       "  0.0\n",
       "  0.0\n",
       "  0.0\n",
       "  0.0"
      ]
     },
     "metadata": {},
     "output_type": "display_data"
    },
    {
     "data": {
      "text/plain": []
     },
     "metadata": {},
     "output_type": "display_data"
    }
   ],
   "source": [
    "f = loadVector(prob, [force])"
   ]
  },
  {
   "cell_type": "code",
   "execution_count": 26,
   "id": "cdb4b5b5",
   "metadata": {},
   "outputs": [],
   "source": [
    "applyBoundaryConditions!(K, M, f, [supp0, suppA, suppB])"
   ]
  },
  {
   "cell_type": "code",
   "execution_count": 27,
   "id": "4905a1a8",
   "metadata": {},
   "outputs": [
    {
     "data": {
      "text/plain": [
       "0.00048604611621925656"
      ]
     },
     "metadata": {},
     "output_type": "display_data"
    }
   ],
   "source": [
    "dt = largestPeriodTime(K, M)"
   ]
  },
  {
   "cell_type": "code",
   "execution_count": 28,
   "id": "050078c0",
   "metadata": {},
   "outputs": [
    {
     "data": {
      "text/plain": [
       "9×1 Matrix{Float64}:\n",
       " 0.0\n",
       " 0.0\n",
       " 0.0\n",
       " 0.0\n",
       " 0.0\n",
       " 0.0\n",
       " 0.0\n",
       " 0.0\n",
       " 0.0"
      ]
     },
     "metadata": {},
     "output_type": "display_data"
    },
    {
     "data": {
      "text/plain": []
     },
     "metadata": {},
     "output_type": "display_data"
    }
   ],
   "source": [
    "u0 = initialDisplacement(prob, \"rod\")"
   ]
  },
  {
   "cell_type": "code",
   "execution_count": 29,
   "id": "ae98d982",
   "metadata": {},
   "outputs": [
    {
     "data": {
      "text/plain": [
       "9×1 Matrix{Float64}:\n",
       " 0.0\n",
       " 0.0\n",
       " 0.0\n",
       " 0.0\n",
       " 0.0\n",
       " 0.0\n",
       " 0.0\n",
       " 0.0\n",
       " 0.0"
      ]
     },
     "metadata": {},
     "output_type": "display_data"
    },
    {
     "data": {
      "text/plain": []
     },
     "metadata": {},
     "output_type": "display_data"
    }
   ],
   "source": [
    "v0 = initialVelocity(prob, \"rod\")"
   ]
  },
  {
   "cell_type": "code",
   "execution_count": 30,
   "id": "d88c7a5c",
   "metadata": {},
   "outputs": [
    {
     "data": {
      "text/plain": [
       "9×50 Matrix{Float64}:\n",
       " 0.0   0.0           0.0           0.0         …   0.0          0.0\n",
       " 0.0   0.0           0.0           0.0             0.0          0.0\n",
       " 0.0   0.0           0.0           0.0             0.0          0.0\n",
       " 0.0   0.000141963   0.000860342   0.00238466      0.00310781   0.0017476\n",
       " 0.0  -0.00191572   -0.00666991   -0.0121219      -0.0152394   -0.00997693\n",
       " 0.0   0.0           0.0           0.0         …   0.0          0.0\n",
       " 0.0   0.0           0.0           0.0             0.0          0.0\n",
       " 0.0   0.0           0.0           0.0             0.0          0.0\n",
       " 0.0   0.0           0.0           0.0             0.0          0.0"
      ]
     },
     "metadata": {},
     "output_type": "display_data"
    },
    {
     "data": {
      "text/plain": [
       "9×50 Matrix{Float64}:\n",
       " 0.0    0.0         0.0        0.0     …    0.0       0.0       0.0\n",
       " 0.0    0.0         0.0        0.0          0.0       0.0       0.0\n",
       " 0.0    0.0         0.0        0.0          0.0       0.0       0.0\n",
       " 0.0    5.84154    23.7186    39.0046     -20.4521  -32.5598  -23.4107\n",
       " 0.0  -78.8286   -116.799   -107.541       30.6971   90.4182  126.125\n",
       " 0.0    0.0         0.0        0.0     …    0.0       0.0       0.0\n",
       " 0.0    0.0         0.0        0.0          0.0       0.0       0.0\n",
       " 0.0    0.0         0.0        0.0          0.0       0.0       0.0\n",
       " 0.0    0.0         0.0        0.0          0.0       0.0       0.0"
      ]
     },
     "metadata": {},
     "output_type": "display_data"
    },
    {
     "data": {
      "text/plain": [
       "(, )"
      ]
     },
     "metadata": {},
     "output_type": "display_data"
    }
   ],
   "source": [
    "u, v = HHT(K, M, f, u0, v0, 5dt, dt / 10)"
   ]
  },
  {
   "cell_type": "code",
   "execution_count": 31,
   "id": "9aec58c7",
   "metadata": {},
   "outputs": [
    {
     "data": {
      "text/plain": [
       "7"
      ]
     },
     "metadata": {},
     "output_type": "display_data"
    }
   ],
   "source": [
    "showDoFResults(u, :uvec)"
   ]
  },
  {
   "cell_type": "code",
   "execution_count": 32,
   "id": "dba492fa",
   "metadata": {},
   "outputs": [
    {
     "ename": "ErrorException",
     "evalue": "type Array has no field model",
     "output_type": "error",
     "traceback": [
      "type Array has no field model\n",
      "\n",
      "Stacktrace:\n",
      " [1] getproperty\n",
      "   @ ./Base.jl:49 [inlined]\n",
      " [2] applyBoundaryConditions!(dispVec::Matrix{Float64}, supports::Vector{Tuple{String, Number, Number, Number}})\n",
      "   @ LowLevelFEM ~/Dokumentumok/GitHub/LowLevelFEM.jl/src/linear.jl:3119\n",
      " [3] solveModalAnalysis(problem::Problem; constraints::Vector{Tuple{String, Number, Number, Number}}, loads::Vector{Any}, n::Int64, fₘᵢₙ::Float64)\n",
      "   @ LowLevelFEM ~/Dokumentumok/GitHub/LowLevelFEM.jl/src/linear.jl:4398\n",
      " [4] top-level scope\n",
      "   @ ~/Dokumentumok/GitHub/LowLevelFEM.jl/examples/general-tests/truss/jl_notebook_cell_df34fa98e69747e1a8f8a730347b8e2f_X43sZmlsZQ==.jl:1"
     ]
    }
   ],
   "source": [
    "mod = solveModalAnalysis(prob, constraints=[supp0, suppA, suppB], n=2)"
   ]
  },
  {
   "cell_type": "code",
   "execution_count": 33,
   "id": "518186ca",
   "metadata": {},
   "outputs": [
    {
     "ename": "ErrorException",
     "evalue": "type #mod has no field type",
     "output_type": "error",
     "traceback": [
      "type #mod has no field type\n",
      "\n",
      "Stacktrace:\n",
      " [1] getproperty\n",
      "   @ ./Base.jl:49 [inlined]\n",
      " [2] showDoFResults(q::Function)\n",
      "   @ LowLevelFEM ~/Dokumentumok/GitHub/LowLevelFEM.jl/src/general.jl:2316\n",
      " [3] top-level scope\n",
      "   @ ~/Dokumentumok/GitHub/LowLevelFEM.jl/examples/general-tests/truss/jl_notebook_cell_df34fa98e69747e1a8f8a730347b8e2f_X44sZmlsZQ==.jl:1"
     ]
    }
   ],
   "source": [
    "showDoFResults(mod)"
   ]
  },
  {
   "cell_type": "code",
   "execution_count": 34,
   "id": "61f87afd",
   "metadata": {},
   "outputs": [
    {
     "name": "stdout",
     "output_type": "stream",
     "text": [
      "-------------------------------------------------------\n",
      "Version       : 4.13.1\n",
      "License       : GNU General Public License\n",
      "Build OS      : Linux64-sdk\n",
      "Build date    : 19700101\n",
      "Build host    : amdci7.julia.csail.mit.edu\n",
      "Build options : 64Bit ALGLIB[contrib] ANN[contrib] Bamg Blossom Cairo DIntegration Dlopen DomHex Eigen[contrib] Fltk GMP Gmm[contrib] Hxt Jpeg Kbipack LinuxJoystick MathEx[contrib] Mesh Metis[contrib] Mmg Mpeg Netgen Nii2mesh ONELAB ONELABMetamodel OpenCASCADE OpenCASCADE-CAF OpenGL OpenMP OptHom Parser Plugins Png Post QuadMeshingTools QuadTri Solver TetGen/BR TinyXML2[contrib] Untangle Voro++[contrib] WinslowUntangler Zlib\n",
      "FLTK version  : 1.3.8\n",
      "OCC version   : 7.7.2\n",
      "Packaged by   : root\n",
      "Web site      : https://gmsh.info\n",
      "Issue tracker : https://gitlab.onelab.info/gmsh/gmsh/issues\n",
      "-------------------------------------------------------\n"
     ]
    },
    {
     "name": "stderr",
     "output_type": "stream",
     "text": [
      "XOpenIM() failed\n",
      "XRequest.18: BadValue 0x0\n",
      "Fontconfig warning: using without calling FcInit()\n"
     ]
    }
   ],
   "source": [
    "openPostProcessor()"
   ]
  },
  {
   "cell_type": "code",
   "execution_count": 35,
   "id": "5749127a",
   "metadata": {},
   "outputs": [],
   "source": [
    "gmsh.finalize()"
   ]
  }
 ],
 "metadata": {
  "kernelspec": {
   "display_name": "Julia 1.11.7",
   "language": "julia",
   "name": "julia-1.11"
  },
  "language_info": {
   "file_extension": ".jl",
   "mimetype": "application/julia",
   "name": "julia",
   "version": "1.11.7"
  }
 },
 "nbformat": 4,
 "nbformat_minor": 5
}
