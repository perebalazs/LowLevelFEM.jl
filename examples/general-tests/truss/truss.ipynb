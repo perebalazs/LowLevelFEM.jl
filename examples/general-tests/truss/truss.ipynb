{
 "cells": [
  {
   "cell_type": "code",
   "execution_count": 71,
   "id": "30bd17cc",
   "metadata": {},
   "outputs": [],
   "source": [
    "using LowLevelFEM\n",
    "gmsh.initialize()"
   ]
  },
  {
   "cell_type": "code",
   "execution_count": 72,
   "id": "cd19855c",
   "metadata": {},
   "outputs": [
    {
     "name": "stdout",
     "output_type": "stream",
     "text": [
      "Info    : Reading 'truss.geo'...\n",
      "Info    : Meshing 1D...\n",
      "Info    : [  0%] Meshing curve 1 (Line)\n",
      "Info    : [ 60%] Meshing curve 2 (Line)\n",
      "Info    : Done meshing 1D (Wall 0.000126503s, CPU 0.000127s)\n",
      "Info    : 3 nodes 5 elements\n",
      "Info    : Done reading 'truss.geo'\n"
     ]
    }
   ],
   "source": [
    "gmsh.open(\"truss.geo\")"
   ]
  },
  {
   "cell_type": "code",
   "execution_count": 73,
   "id": "02b0d8ef",
   "metadata": {},
   "outputs": [
    {
     "name": "stdout",
     "output_type": "stream",
     "text": [
      "Info    : RCMK renumbering...\n",
      "Info    : Done RCMK renumbering (bandwidth is now 1)\n"
     ]
    },
    {
     "data": {
      "text/plain": [
       "Problem(\"truss\", :Truss, 3, 3, LowLevelFEM.Material[LowLevelFEM.Material(\"rod\", :Hooke, 200000.0, 0.3, 7.85e-9, 45.0, 4.2e8, 1.2e-5, 115384.61538461536, 76923.07692307692, 166666.66666666666, 1.0)], 1.0, 3)"
      ]
     },
     "metadata": {},
     "output_type": "display_data"
    }
   ],
   "source": [
    "mat = material(\"rod\")\n",
    "prob = Problem([mat], type=:Truss)"
   ]
  },
  {
   "cell_type": "code",
   "execution_count": 74,
   "id": "72bceeff",
   "metadata": {},
   "outputs": [
    {
     "data": {
      "text/plain": [
       "9×9 SparseArrays.SparseMatrixCSC{Float64, Int64} with 19 stored entries:\n",
       "  1000.0   ⋅    ⋅   -1000.0        ⋅      ⋅       ⋅         ⋅      ⋅ \n",
       "      ⋅    ⋅    ⋅        ⋅         ⋅      ⋅       ⋅         ⋅      ⋅ \n",
       "      ⋅    ⋅    ⋅        ⋅         ⋅      ⋅       ⋅         ⋅      ⋅ \n",
       " -1000.0   ⋅    ⋅    1715.54    357.771   ⋅   -715.542  -357.771   ⋅ \n",
       "      ⋅    ⋅    ⋅     357.771   178.885   ⋅   -357.771  -178.885   ⋅ \n",
       "      ⋅    ⋅    ⋅        ⋅         ⋅      ⋅       ⋅         ⋅      ⋅ \n",
       "      ⋅    ⋅    ⋅    -715.542  -357.771   ⋅    715.542   357.771   ⋅ \n",
       "      ⋅    ⋅    ⋅    -357.771  -178.885   ⋅    357.771   178.885   ⋅ \n",
       "      ⋅    ⋅    ⋅        ⋅         ⋅      ⋅       ⋅         ⋅      ⋅ "
      ]
     },
     "metadata": {},
     "output_type": "display_data"
    },
    {
     "data": {
      "text/plain": []
     },
     "metadata": {},
     "output_type": "display_data"
    }
   ],
   "source": [
    "K = stiffnessMatrix(prob)"
   ]
  },
  {
   "cell_type": "code",
   "execution_count": 75,
   "id": "ca0a310c",
   "metadata": {},
   "outputs": [
    {
     "data": {
      "text/plain": [
       "(\"C\", 0, -1, 0)"
      ]
     },
     "metadata": {},
     "output_type": "display_data"
    }
   ],
   "source": [
    "supp0 = displacementConstraint(\"rod\", uz=0)\n",
    "suppA = displacementConstraint(\"A\", ux=0, uy=0)\n",
    "suppB = displacementConstraint(\"B\", ux=0, uy=0)\n",
    "force = load(\"C\", fy=-1)"
   ]
  },
  {
   "cell_type": "code",
   "execution_count": 76,
   "id": "6d970d62",
   "metadata": {},
   "outputs": [
    {
     "data": {
      "text/plain": [
       "9×1 Matrix{Float64}:\n",
       "  0.0\n",
       "  0.0\n",
       "  0.0\n",
       "  0.0\n",
       " -1.0\n",
       "  0.0\n",
       "  0.0\n",
       "  0.0\n",
       "  0.0"
      ]
     },
     "metadata": {},
     "output_type": "display_data"
    },
    {
     "data": {
      "text/plain": []
     },
     "metadata": {},
     "output_type": "display_data"
    }
   ],
   "source": [
    "f = loadVector(prob, [force])"
   ]
  },
  {
   "cell_type": "code",
   "execution_count": 77,
   "id": "d6a18d74",
   "metadata": {},
   "outputs": [],
   "source": [
    "applyBoundaryConditions!(K, f, [supp0, suppA, suppB])"
   ]
  },
  {
   "cell_type": "code",
   "execution_count": 78,
   "id": "38e41647",
   "metadata": {},
   "outputs": [
    {
     "data": {
      "text/plain": [
       "9×9 SparseArrays.SparseMatrixCSC{Float64, Int64} with 11 stored entries:\n",
       " 1.0   ⋅    ⋅       ⋅        ⋅      ⋅    ⋅    ⋅    ⋅ \n",
       "  ⋅   1.0   ⋅       ⋅        ⋅      ⋅    ⋅    ⋅    ⋅ \n",
       "  ⋅    ⋅   1.0      ⋅        ⋅      ⋅    ⋅    ⋅    ⋅ \n",
       "  ⋅    ⋅    ⋅   1715.54   357.771   ⋅    ⋅    ⋅    ⋅ \n",
       "  ⋅    ⋅    ⋅    357.771  178.885   ⋅    ⋅    ⋅    ⋅ \n",
       "  ⋅    ⋅    ⋅       ⋅        ⋅     1.0   ⋅    ⋅    ⋅ \n",
       "  ⋅    ⋅    ⋅       ⋅        ⋅      ⋅   1.0   ⋅    ⋅ \n",
       "  ⋅    ⋅    ⋅       ⋅        ⋅      ⋅    ⋅   1.0   ⋅ \n",
       "  ⋅    ⋅    ⋅       ⋅        ⋅      ⋅    ⋅    ⋅   1.0"
      ]
     },
     "metadata": {},
     "output_type": "display_data"
    },
    {
     "data": {
      "text/plain": []
     },
     "metadata": {},
     "output_type": "display_data"
    }
   ],
   "source": [
    "K"
   ]
  },
  {
   "cell_type": "code",
   "execution_count": 79,
   "id": "7b247c28",
   "metadata": {},
   "outputs": [
    {
     "data": {
      "text/plain": [
       "9×1 Matrix{Float64}:\n",
       "  0.0\n",
       "  0.0\n",
       "  0.0\n",
       "  0.0020000000000000005\n",
       " -0.009590169943749475\n",
       "  0.0\n",
       "  0.0\n",
       "  0.0\n",
       "  0.0"
      ]
     },
     "metadata": {},
     "output_type": "display_data"
    },
    {
     "data": {
      "text/plain": []
     },
     "metadata": {},
     "output_type": "display_data"
    }
   ],
   "source": [
    "q = K \\ f"
   ]
  },
  {
   "cell_type": "code",
   "execution_count": 80,
   "id": "9cfa79fc",
   "metadata": {},
   "outputs": [
    {
     "data": {
      "text/plain": [
       "9×1 Matrix{Float64}:\n",
       "  0.0\n",
       "  0.0\n",
       "  0.0\n",
       "  0.0020000000000000005\n",
       " -0.009590169943749475\n",
       "  0.0\n",
       "  0.0\n",
       "  0.0\n",
       "  0.0"
      ]
     },
     "metadata": {},
     "output_type": "display_data"
    }
   ],
   "source": [
    "q.a"
   ]
  },
  {
   "cell_type": "code",
   "execution_count": 81,
   "id": "1be1a8b2",
   "metadata": {},
   "outputs": [
    {
     "data": {
      "text/plain": [
       "9×1 Matrix{Float64}:\n",
       "  0.0\n",
       "  0.0\n",
       "  0.0\n",
       "  0.0020000000000000005\n",
       " -0.009590169943749475\n",
       "  0.0\n",
       "  0.0\n",
       "  0.0\n",
       "  0.0"
      ]
     },
     "metadata": {},
     "output_type": "display_data"
    },
    {
     "data": {
      "text/plain": []
     },
     "metadata": {},
     "output_type": "display_data"
    }
   ],
   "source": [
    "q2 = solveDisplacement(prob, [force], [supp0, suppA, suppB])"
   ]
  },
  {
   "cell_type": "code",
   "execution_count": 82,
   "id": "afb53b13",
   "metadata": {},
   "outputs": [
    {
     "data": {
      "text/plain": [
       "0"
      ]
     },
     "metadata": {},
     "output_type": "display_data"
    }
   ],
   "source": [
    "showDoFResults(q, :uvec)"
   ]
  },
  {
   "cell_type": "code",
   "execution_count": 83,
   "id": "0d963000",
   "metadata": {},
   "outputs": [
    {
     "data": {
      "text/plain": [
       "1"
      ]
     },
     "metadata": {},
     "output_type": "display_data"
    }
   ],
   "source": [
    "showDoFResults(q2, :uvec)"
   ]
  },
  {
   "cell_type": "code",
   "execution_count": 84,
   "id": "2552a483",
   "metadata": {},
   "outputs": [
    {
     "data": {
      "text/plain": [
       "2-element Vector{Matrix{Float64}}:\n",
       " [-2.2360679774997894; -2.2360679774997894;;]\n",
       " [2.0000000000000004; 2.0000000000000004;;]"
      ]
     },
     "metadata": {},
     "output_type": "display_data"
    },
    {
     "data": {
      "text/plain": []
     },
     "metadata": {},
     "output_type": "display_data"
    }
   ],
   "source": [
    "N = solveAxialForce(q)"
   ]
  },
  {
   "cell_type": "code",
   "execution_count": 85,
   "id": "1a2e74f6",
   "metadata": {},
   "outputs": [
    {
     "data": {
      "text/plain": [
       "2"
      ]
     },
     "metadata": {},
     "output_type": "display_data"
    }
   ],
   "source": [
    "showElementResults(N, :scalar)"
   ]
  },
  {
   "cell_type": "code",
   "execution_count": 86,
   "id": "24c4dafc",
   "metadata": {},
   "outputs": [
    {
     "name": "stdout",
     "output_type": "stream",
     "text": [
      "Info    : Running Plugin(Smooth)...\n",
      "Info    : Done running Plugin(Smooth)\n"
     ]
    },
    {
     "data": {
      "text/plain": [
       "3"
      ]
     },
     "metadata": {},
     "output_type": "display_data"
    }
   ],
   "source": [
    "showElementResults(N, :scalar, smooth=true)"
   ]
  },
  {
   "cell_type": "code",
   "execution_count": 87,
   "id": "d241ff47",
   "metadata": {},
   "outputs": [
    {
     "data": {
      "text/plain": [
       "4"
      ]
     },
     "metadata": {},
     "output_type": "display_data"
    }
   ],
   "source": [
    "showDoFResults(N, :scalar)"
   ]
  },
  {
   "cell_type": "code",
   "execution_count": 88,
   "id": "501673d3",
   "metadata": {},
   "outputs": [
    {
     "data": {
      "text/plain": [
       "2-element Vector{Matrix{Float64}}:\n",
       " [-2.2360679774997894; -2.2360679774997894;;]\n",
       " [2.0000000000000004; 2.0000000000000004;;]"
      ]
     },
     "metadata": {},
     "output_type": "display_data"
    }
   ],
   "source": [
    "N.A"
   ]
  },
  {
   "cell_type": "code",
   "execution_count": 89,
   "id": "ad64d249",
   "metadata": {},
   "outputs": [
    {
     "data": {
      "text/plain": [
       "2-element Vector{Int64}:\n",
       " 4\n",
       " 5"
      ]
     },
     "metadata": {},
     "output_type": "display_data"
    }
   ],
   "source": [
    "N.numElem"
   ]
  },
  {
   "cell_type": "code",
   "execution_count": 90,
   "id": "08202f90",
   "metadata": {},
   "outputs": [
    {
     "data": {
      "text/plain": [
       "3×1 Matrix{Float64}:\n",
       "  2.0000000000000004\n",
       " -0.11803398874989446\n",
       " -2.2360679774997894"
      ]
     },
     "metadata": {},
     "output_type": "display_data"
    },
    {
     "data": {
      "text/plain": []
     },
     "metadata": {},
     "output_type": "display_data"
    }
   ],
   "source": [
    "N1 = elementsToNodes(N)"
   ]
  },
  {
   "cell_type": "code",
   "execution_count": 91,
   "id": "0316523d",
   "metadata": {},
   "outputs": [
    {
     "data": {
      "text/plain": [
       "3×1 Matrix{Float64}:\n",
       "  2.0000000000000004\n",
       " -0.11803398874989446\n",
       " -2.2360679774997894"
      ]
     },
     "metadata": {},
     "output_type": "display_data"
    }
   ],
   "source": [
    "N1.a"
   ]
  },
  {
   "cell_type": "code",
   "execution_count": 92,
   "id": "d71229db",
   "metadata": {},
   "outputs": [
    {
     "data": {
      "text/plain": [
       "5"
      ]
     },
     "metadata": {},
     "output_type": "display_data"
    }
   ],
   "source": [
    "showDoFResults(N1, :scalar)"
   ]
  },
  {
   "cell_type": "code",
   "execution_count": 93,
   "id": "9db6a0d3",
   "metadata": {},
   "outputs": [
    {
     "data": {
      "text/plain": [
       "9×9 SparseArrays.SparseMatrixCSC{Float64, Int64} with 19 stored entries:\n",
       "  1000.0   ⋅    ⋅   -1000.0        ⋅      ⋅       ⋅         ⋅      ⋅ \n",
       "      ⋅    ⋅    ⋅        ⋅         ⋅      ⋅       ⋅         ⋅      ⋅ \n",
       "      ⋅    ⋅    ⋅        ⋅         ⋅      ⋅       ⋅         ⋅      ⋅ \n",
       " -1000.0   ⋅    ⋅    1715.54    357.771   ⋅   -715.542  -357.771   ⋅ \n",
       "      ⋅    ⋅    ⋅     357.771   178.885   ⋅   -357.771  -178.885   ⋅ \n",
       "      ⋅    ⋅    ⋅        ⋅         ⋅      ⋅       ⋅         ⋅      ⋅ \n",
       "      ⋅    ⋅    ⋅    -715.542  -357.771   ⋅    715.542   357.771   ⋅ \n",
       "      ⋅    ⋅    ⋅    -357.771  -178.885   ⋅    357.771   178.885   ⋅ \n",
       "      ⋅    ⋅    ⋅        ⋅         ⋅      ⋅       ⋅         ⋅      ⋅ "
      ]
     },
     "metadata": {},
     "output_type": "display_data"
    },
    {
     "data": {
      "text/plain": []
     },
     "metadata": {},
     "output_type": "display_data"
    }
   ],
   "source": [
    "K = stiffnessMatrix(prob)"
   ]
  },
  {
   "cell_type": "code",
   "execution_count": 94,
   "id": "c6ab9073",
   "metadata": {},
   "outputs": [
    {
     "data": {
      "text/plain": [
       "9×9 SparseArrays.SparseMatrixCSC{Float64, Int64} with 5 stored entries:\n",
       " 7.85e-7   ⋅    ⋅    ⋅           ⋅           ⋅    ⋅           ⋅           ⋅ \n",
       "  ⋅        ⋅    ⋅    ⋅           ⋅           ⋅    ⋅           ⋅           ⋅ \n",
       "  ⋅        ⋅    ⋅    ⋅           ⋅           ⋅    ⋅           ⋅           ⋅ \n",
       "  ⋅        ⋅    ⋅   1.83819e-6   ⋅           ⋅    ⋅           ⋅           ⋅ \n",
       "  ⋅        ⋅    ⋅    ⋅          5.26594e-7   ⋅    ⋅           ⋅           ⋅ \n",
       "  ⋅        ⋅    ⋅    ⋅           ⋅           ⋅    ⋅           ⋅           ⋅ \n",
       "  ⋅        ⋅    ⋅    ⋅           ⋅           ⋅   1.05319e-6   ⋅           ⋅ \n",
       "  ⋅        ⋅    ⋅    ⋅           ⋅           ⋅    ⋅          5.26594e-7   ⋅ \n",
       "  ⋅        ⋅    ⋅    ⋅           ⋅           ⋅    ⋅           ⋅           ⋅ "
      ]
     },
     "metadata": {},
     "output_type": "display_data"
    },
    {
     "data": {
      "text/plain": []
     },
     "metadata": {},
     "output_type": "display_data"
    }
   ],
   "source": [
    "M = massMatrix(prob)"
   ]
  },
  {
   "cell_type": "code",
   "execution_count": 95,
   "id": "bfce93ca",
   "metadata": {},
   "outputs": [
    {
     "data": {
      "text/plain": [
       "9×1 Matrix{Float64}:\n",
       "  0.0\n",
       "  0.0\n",
       "  0.0\n",
       "  0.0\n",
       " -1.0\n",
       "  0.0\n",
       "  0.0\n",
       "  0.0\n",
       "  0.0"
      ]
     },
     "metadata": {},
     "output_type": "display_data"
    },
    {
     "data": {
      "text/plain": []
     },
     "metadata": {},
     "output_type": "display_data"
    }
   ],
   "source": [
    "f = loadVector(prob, [force])"
   ]
  },
  {
   "cell_type": "code",
   "execution_count": 96,
   "id": "cdb4b5b5",
   "metadata": {},
   "outputs": [],
   "source": [
    "applyBoundaryConditions!(K, M, f, [supp0, suppA, suppB])"
   ]
  },
  {
   "cell_type": "code",
   "execution_count": 97,
   "id": "4905a1a8",
   "metadata": {},
   "outputs": [
    {
     "data": {
      "text/plain": [
       "0.0004860460570437922"
      ]
     },
     "metadata": {},
     "output_type": "display_data"
    }
   ],
   "source": [
    "dt = largestPeriodTime(K, M)"
   ]
  },
  {
   "cell_type": "code",
   "execution_count": 98,
   "id": "050078c0",
   "metadata": {},
   "outputs": [
    {
     "data": {
      "text/plain": [
       "9×1 Matrix{Float64}:\n",
       " 0.0\n",
       " 0.0\n",
       " 0.0\n",
       " 0.0\n",
       " 0.0\n",
       " 0.0\n",
       " 0.0\n",
       " 0.0\n",
       " 0.0"
      ]
     },
     "metadata": {},
     "output_type": "display_data"
    },
    {
     "data": {
      "text/plain": []
     },
     "metadata": {},
     "output_type": "display_data"
    }
   ],
   "source": [
    "u0 = initialDisplacement(prob, \"rod\")"
   ]
  },
  {
   "cell_type": "code",
   "execution_count": 99,
   "id": "ae98d982",
   "metadata": {},
   "outputs": [
    {
     "data": {
      "text/plain": [
       "9×1 Matrix{Float64}:\n",
       " 0.0\n",
       " 0.0\n",
       " 0.0\n",
       " 0.0\n",
       " 0.0\n",
       " 0.0\n",
       " 0.0\n",
       " 0.0\n",
       " 0.0"
      ]
     },
     "metadata": {},
     "output_type": "display_data"
    },
    {
     "data": {
      "text/plain": []
     },
     "metadata": {},
     "output_type": "display_data"
    }
   ],
   "source": [
    "v0 = initialVelocity(prob, \"rod\")"
   ]
  },
  {
   "cell_type": "code",
   "execution_count": 100,
   "id": "d88c7a5c",
   "metadata": {},
   "outputs": [
    {
     "data": {
      "text/plain": [
       "9×50 Matrix{Float64}:\n",
       " 0.0   0.0           0.0           0.0         …   0.0          0.0\n",
       " 0.0   0.0           0.0           0.0             0.0          0.0\n",
       " 0.0   0.0           0.0           0.0             0.0          0.0\n",
       " 0.0   0.000141963   0.000860342   0.00238466      0.00310782   0.00174761\n",
       " 0.0  -0.00191572   -0.00666991   -0.0121219      -0.0152395   -0.00997697\n",
       " 0.0   0.0           0.0           0.0         …   0.0          0.0\n",
       " 0.0   0.0           0.0           0.0             0.0          0.0\n",
       " 0.0   0.0           0.0           0.0             0.0          0.0\n",
       " 0.0   0.0           0.0           0.0             0.0          0.0"
      ]
     },
     "metadata": {},
     "output_type": "display_data"
    },
    {
     "data": {
      "text/plain": [
       "9×50 Matrix{Float64}:\n",
       " 0.0    0.0         0.0        0.0     …    0.0       0.0       0.0\n",
       " 0.0    0.0         0.0        0.0          0.0       0.0       0.0\n",
       " 0.0    0.0         0.0        0.0          0.0       0.0       0.0\n",
       " 0.0    5.84154    23.7186    39.0046     -20.452   -32.5598  -23.4108\n",
       " 0.0  -78.8286   -116.799   -107.541       30.6967   90.4179  126.125\n",
       " 0.0    0.0         0.0        0.0     …    0.0       0.0       0.0\n",
       " 0.0    0.0         0.0        0.0          0.0       0.0       0.0\n",
       " 0.0    0.0         0.0        0.0          0.0       0.0       0.0\n",
       " 0.0    0.0         0.0        0.0          0.0       0.0       0.0"
      ]
     },
     "metadata": {},
     "output_type": "display_data"
    },
    {
     "data": {
      "text/plain": [
       "(, )"
      ]
     },
     "metadata": {},
     "output_type": "display_data"
    }
   ],
   "source": [
    "u, v = HHT(K, M, f, u0, v0, 5dt, dt / 10)"
   ]
  },
  {
   "cell_type": "code",
   "execution_count": 101,
   "id": "9aec58c7",
   "metadata": {},
   "outputs": [
    {
     "data": {
      "text/plain": [
       "6"
      ]
     },
     "metadata": {},
     "output_type": "display_data"
    }
   ],
   "source": [
    "showDoFResults(u, :uvec)"
   ]
  },
  {
   "cell_type": "code",
   "execution_count": null,
   "id": "dba492fa",
   "metadata": {},
   "outputs": [
    {
     "ename": "LinearAlgebra.ZeroPivotException",
     "evalue": "ZeroPivotException: factorization encountered one or more zero pivots. Consider switching to a pivoted LU factorization.",
     "output_type": "error",
     "traceback": [
      "ZeroPivotException: factorization encountered one or more zero pivots. Consider switching to a pivoted LU factorization.\n",
      "\n",
      "Stacktrace:\n",
      "  [1] #ldlt!#18\n",
      "    @ ~/.julia/juliaup/julia-1.11.7+0.x64.linux.gnu/share/julia/stdlib/v1.11/SparseArrays/src/solvers/cholmod.jl:1629 [inlined]\n",
      "  [2] ldlt!\n",
      "    @ ~/.julia/juliaup/julia-1.11.7+0.x64.linux.gnu/share/julia/stdlib/v1.11/SparseArrays/src/solvers/cholmod.jl:1621 [inlined]\n",
      "  [3] ldlt!(F::SparseArrays.CHOLMOD.Factor{Float64, Int64}, A::LinearAlgebra.Hermitian{Float64, SparseArrays.SparseMatrixCSC{Float64, Int64}}; shift::Float64, check::Bool)\n",
      "    @ SparseArrays.CHOLMOD ~/.julia/juliaup/julia-1.11.7+0.x64.linux.gnu/share/julia/stdlib/v1.11/SparseArrays/src/solvers/cholmod.jl:1649\n",
      "  [4] ldlt!\n",
      "    @ ~/.julia/juliaup/julia-1.11.7+0.x64.linux.gnu/share/julia/stdlib/v1.11/SparseArrays/src/solvers/cholmod.jl:1649 [inlined]\n",
      "  [5] factorize\n",
      "    @ ~/.julia/juliaup/julia-1.11.7+0.x64.linux.gnu/share/julia/stdlib/v1.11/SparseArrays/src/linalg.jl:1996 [inlined]\n",
      "  [6] factorize(A::SparseArrays.SparseMatrixCSC{Float64, Int64})\n",
      "    @ SparseArrays ~/.julia/juliaup/julia-1.11.7+0.x64.linux.gnu/share/julia/stdlib/v1.11/SparseArrays/src/linalg.jl:1974\n",
      "  [7] _eigs(A::SparseArrays.SparseMatrixCSC{Float64, Int64}, B::SparseArrays.SparseMatrixCSC{Float64, Int64}; nev::Int64, ncv::Int64, which::Symbol, tol::Float64, maxiter::Int64, sigma::Float64, v0::Vector{Float64}, ritzvec::Bool, explicittransform::Symbol, check::Int64)\n",
      "    @ Arpack ~/.julia/packages/Arpack/FCvNd/src/Arpack.jl:220\n",
      "  [8] _eigs\n",
      "    @ ~/.julia/packages/Arpack/FCvNd/src/Arpack.jl:75 [inlined]\n",
      "  [9] #eigs#5\n",
      "    @ ~/.julia/packages/Arpack/FCvNd/src/Arpack.jl:53 [inlined]\n",
      " [10] solveEigenModes(K::LowLevelFEM.SystemMatrix, M::LowLevelFEM.SystemMatrix; n::Int64, fₘᵢₙ::Float64)\n",
      "    @ LowLevelFEM ~/Dokumentumok/GitHub/LowLevelFEM.jl/src/linear.jl:4309\n",
      " [11] solveEigenModes\n",
      "    @ ~/Dokumentumok/GitHub/LowLevelFEM.jl/src/linear.jl:4300 [inlined]\n",
      " [12] solveModalAnalysis(problem::Problem; constraints::Vector{Any}, loads::Vector{Any}, n::Int64, fₘᵢₙ::Float64)\n",
      "    @ LowLevelFEM ~/Dokumentumok/GitHub/LowLevelFEM.jl/src/linear.jl:4386\n",
      " [13] top-level scope\n",
      "    @ ~/Dokumentumok/GitHub/LowLevelFEM.jl/examples/general-tests/truss/jl_notebook_cell_df34fa98e69747e1a8f8a730347b8e2f_X43sZmlsZQ==.jl:2"
     ]
    }
   ],
   "source": [
    "mod = solveModalAnalysis(prob, constraints=[supp0, suppA, suppB], n=2)"
   ]
  },
  {
   "cell_type": "code",
   "execution_count": 103,
   "id": "518186ca",
   "metadata": {},
   "outputs": [
    {
     "data": {
      "text/plain": [
       "7"
      ]
     },
     "metadata": {},
     "output_type": "display_data"
    }
   ],
   "source": [
    "showModalResults(mod)"
   ]
  },
  {
   "cell_type": "code",
   "execution_count": 104,
   "id": "61f87afd",
   "metadata": {},
   "outputs": [
    {
     "name": "stdout",
     "output_type": "stream",
     "text": [
      "-------------------------------------------------------\n",
      "Version       : 4.13.1\n",
      "License       : GNU General Public License\n",
      "Build OS      : Linux64-sdk\n",
      "Build date    : 19700101\n",
      "Build host    : amdci7.julia.csail.mit.edu\n",
      "Build options : 64Bit ALGLIB[contrib] ANN[contrib] Bamg Blossom Cairo DIntegration Dlopen DomHex Eigen[contrib] Fltk GMP Gmm[contrib] Hxt Jpeg Kbipack LinuxJoystick MathEx[contrib] Mesh Metis[contrib] Mmg Mpeg Netgen Nii2mesh ONELAB ONELABMetamodel OpenCASCADE OpenCASCADE-CAF OpenGL OpenMP OptHom Parser Plugins Png Post QuadMeshingTools QuadTri Solver TetGen/BR TinyXML2[contrib] Untangle Voro++[contrib] WinslowUntangler Zlib\n",
      "FLTK version  : 1.3.8\n",
      "OCC version   : 7.7.2\n",
      "Packaged by   : root\n",
      "Web site      : https://gmsh.info\n",
      "Issue tracker : https://gitlab.onelab.info/gmsh/gmsh/issues\n",
      "-------------------------------------------------------\n"
     ]
    },
    {
     "name": "stderr",
     "output_type": "stream",
     "text": [
      "XRequest.18: BadValue 0x0\n"
     ]
    }
   ],
   "source": [
    "openPostProcessor()"
   ]
  },
  {
   "cell_type": "code",
   "execution_count": 105,
   "id": "5749127a",
   "metadata": {},
   "outputs": [],
   "source": [
    "gmsh.finalize()"
   ]
  }
 ],
 "metadata": {
  "kernelspec": {
   "display_name": "Julia 1.11.7",
   "language": "julia",
   "name": "julia-1.11"
  },
  "language_info": {
   "file_extension": ".jl",
   "mimetype": "application/julia",
   "name": "julia",
   "version": "1.11.7"
  }
 },
 "nbformat": 4,
 "nbformat_minor": 5
}
