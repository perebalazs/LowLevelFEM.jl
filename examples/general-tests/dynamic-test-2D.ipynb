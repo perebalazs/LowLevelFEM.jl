{
 "cells": [
  {
   "cell_type": "code",
   "execution_count": 1,
   "id": "e95346f2",
   "metadata": {},
   "outputs": [
    {
     "name": "stdout",
     "output_type": "stream",
     "text": [
      "Info    : Increasing process stack size (8192 kB < 16 MB)\n"
     ]
    }
   ],
   "source": [
    "using LowLevelFEM\n",
    "import LowLevelFEM as FEM\n",
    "gmsh.initialize()"
   ]
  },
  {
   "cell_type": "code",
   "execution_count": 2,
   "id": "c376ef73",
   "metadata": {},
   "outputs": [
    {
     "name": "stdout",
     "output_type": "stream",
     "text": [
      "Info    : Reading 'body1-2D.geo'...\n",
      "Info    : Meshing 1D...\n",
      "Info    : [  0%] Meshing curve 1 (Line)\n",
      "Info    : [ 30%] Meshing curve 2 (Line)\n",
      "Info    : [ 60%] Meshing curve 3 (Line)\n",
      "Info    : [ 80%] Meshing curve 4 (Line)\n",
      "Info    : Done meshing 1D (Wall 0.000341279s, CPU 0.000343s)\n",
      "Info    : Meshing 2D...\n",
      "Info    : Meshing surface 1 (Plane, Frontal-Delaunay)\n",
      "Info    : Done meshing 2D (Wall 0.00576711s, CPU 0.005769s)\n",
      "Info    : Meshing order 2 (curvilinear on)...\n",
      "Info    : [  0%] Meshing curve 1 order 2\n",
      "Info    : [ 30%] Meshing curve 2 order 2\n",
      "Info    : [ 50%] Meshing curve 3 order 2\n",
      "Info    : [ 70%] Meshing curve 4 order 2\n",
      "Info    : [ 90%] Meshing surface 1 order 2\n",
      "Info    : Surface mesh: worst distortion = 1 (0 elements in ]0, 0.2]); worst gamma = 0.781163\n",
      "Info    : Done meshing order 2 (Wall 0.000696813s, CPU 0.000697s)\n",
      "Info    : 357 nodes 198 elements\n",
      "Info    : Done reading 'body1-2D.geo'\n"
     ]
    }
   ],
   "source": [
    "gmsh.open(\"body1-2D.geo\")"
   ]
  },
  {
   "cell_type": "code",
   "execution_count": 3,
   "id": "17d16e97",
   "metadata": {},
   "outputs": [
    {
     "name": "stdout",
     "output_type": "stream",
     "text": [
      "Info    : RCMK renumbering...\n",
      "Info    : Done RCMK renumbering (bandwidth is now 61)\n"
     ]
    },
    {
     "data": {
      "text/plain": [
       "LowLevelFEM.Problem(\"body1-2D\", :PlaneStress, 2, 2, LowLevelFEM.Material[LowLevelFEM.Material(\"body\", :Hooke, 200000.0, 0.3, 7.85e-9, 45.0, 4.2e8, 1.2e-5, 115384.61538461536, 76923.07692307692, 166666.66666666666)], 1.0, 357)"
      ]
     },
     "metadata": {},
     "output_type": "display_data"
    }
   ],
   "source": [
    "mat = FEM.material(\"body\")\n",
    "problem = FEM.Problem([mat], type=:PlaneStress)"
   ]
  },
  {
   "cell_type": "code",
   "execution_count": 4,
   "id": "cb740efb",
   "metadata": {},
   "outputs": [
    {
     "data": {
      "text/plain": [
       "(\"right\", 1, 0, 0)"
      ]
     },
     "metadata": {},
     "output_type": "display_data"
    }
   ],
   "source": [
    "supp = FEM.displacementConstraint(\"left\", ux=0, uy=0)\n",
    "load = FEM.load(\"right\", fx=1)"
   ]
  },
  {
   "cell_type": "code",
   "execution_count": 5,
   "id": "34e1f132",
   "metadata": {},
   "outputs": [
    {
     "data": {
      "text/plain": [
       "LowLevelFEM.VectorField(Matrix{Float64}[], [0.0; 0.0; … ; 0.0; 0.0;;], [0.0], Int64[], 1, :u2D, LowLevelFEM.Problem(\"body1-2D\", :PlaneStress, 2, 2, LowLevelFEM.Material[LowLevelFEM.Material(\"body\", :Hooke, 200000.0, 0.3, 7.85e-9, 45.0, 4.2e8, 1.2e-5, 115384.61538461536, 76923.07692307692, 166666.66666666666)], 1.0, 357))"
      ]
     },
     "metadata": {},
     "output_type": "display_data"
    }
   ],
   "source": [
    "u0 = FEM.initialDisplacement(problem, \"body\", ux=0, uy=0)"
   ]
  },
  {
   "cell_type": "code",
   "execution_count": 6,
   "id": "e2541d50",
   "metadata": {},
   "outputs": [
    {
     "data": {
      "text/plain": [
       "LowLevelFEM.VectorField(Matrix{Float64}[], [0.0; 0.0; … ; 0.0; 0.0;;], [0.0], Int64[], 1, :u2D, LowLevelFEM.Problem(\"body1-2D\", :PlaneStress, 2, 2, LowLevelFEM.Material[LowLevelFEM.Material(\"body\", :Hooke, 200000.0, 0.3, 7.85e-9, 45.0, 4.2e8, 1.2e-5, 115384.61538461536, 76923.07692307692, 166666.66666666666)], 1.0, 357))"
      ]
     },
     "metadata": {},
     "output_type": "display_data"
    }
   ],
   "source": [
    "FEM.initialDisplacement!(\"left\", u0, ux=0, uy=0)\n",
    "u0"
   ]
  },
  {
   "cell_type": "code",
   "execution_count": 7,
   "id": "8584fdfc",
   "metadata": {},
   "outputs": [
    {
     "data": {
      "text/plain": [
       "LowLevelFEM.VectorField(Matrix{Float64}[], [0.0; 0.0; … ; 0.0; 0.0;;], [0.0], Int64[], 1, :v2D, LowLevelFEM.Problem(\"body1-2D\", :PlaneStress, 2, 2, LowLevelFEM.Material[LowLevelFEM.Material(\"body\", :Hooke, 200000.0, 0.3, 7.85e-9, 45.0, 4.2e8, 1.2e-5, 115384.61538461536, 76923.07692307692, 166666.66666666666)], 1.0, 357))"
      ]
     },
     "metadata": {},
     "output_type": "display_data"
    }
   ],
   "source": [
    "v0 = FEM.initialVelocity(problem, \"body\", vx=0, vy=0)"
   ]
  },
  {
   "cell_type": "code",
   "execution_count": 8,
   "id": "c9e14625",
   "metadata": {},
   "outputs": [],
   "source": [
    "FEM.initialVelocity!(\"body\", v0, vx=0, vy=0)"
   ]
  },
  {
   "cell_type": "code",
   "execution_count": 9,
   "id": "93379cdd",
   "metadata": {},
   "outputs": [
    {
     "data": {
      "text/plain": [
       "LowLevelFEM.VectorField(Matrix{Float64}[], [0.0; 0.0; … ; 0.0; 0.0;;], Float64[], Int64[], 1, :f2D, LowLevelFEM.Problem(\"body1-2D\", :PlaneStress, 2, 2, LowLevelFEM.Material[LowLevelFEM.Material(\"body\", :Hooke, 200000.0, 0.3, 7.85e-9, 45.0, 4.2e8, 1.2e-5, 115384.61538461536, 76923.07692307692, 166666.66666666666)], 1.0, 357))"
      ]
     },
     "metadata": {},
     "output_type": "display_data"
    }
   ],
   "source": [
    "K = FEM.stiffnessMatrix(problem)\n",
    "M = FEM.massMatrix(problem)\n",
    "f = FEM.loadVector(problem, [load])"
   ]
  },
  {
   "cell_type": "code",
   "execution_count": 10,
   "id": "cc13a09e",
   "metadata": {},
   "outputs": [],
   "source": [
    "FEM.applyBoundaryConditions!(K, M, f, [supp])"
   ]
  },
  {
   "cell_type": "code",
   "execution_count": 11,
   "id": "826de555",
   "metadata": {},
   "outputs": [
    {
     "name": "stderr",
     "output_type": "stream",
     "text": [
      "┌ Warning: The error in the calculation of the largest eigenvalue is too large: 2.8616331443495193e9\n",
      "└ @ LowLevelFEM /home/perebal/Dokumentumok/GitHub/LowLevelFEM.jl/src/linear.jl:2399\n"
     ]
    },
    {
     "data": {
      "text/plain": [
       "6.729882186080665e-16"
      ]
     },
     "metadata": {},
     "output_type": "display_data"
    }
   ],
   "source": [
    "Tmin = FEM.smallestPeriodTime(K, M)"
   ]
  },
  {
   "cell_type": "code",
   "execution_count": 12,
   "id": "92275a67",
   "metadata": {},
   "outputs": [
    {
     "data": {
      "text/plain": [
       "(LowLevelFEM.VectorField(Matrix{Float64}[], [0.0 0.0 … 0.0 0.0; 0.0 0.0 … 0.0 0.0; … ; 0.0 0.0 … -9.863018604720215e-13 -3.119515388217235e-12; 0.0 0.0 … 1.9736983426493352e-12 6.281711664380167e-12], [0.0, 2.1421880326816568e-16, 4.2843760653633137e-16, 6.42656409804497e-16, 8.568752130726627e-16, 1.0710940163408283e-15, 1.285312819608994e-15, 1.4995316228771598e-15, 1.7137504261453255e-15, 1.927969229413491e-15  …  4.712813671899643e-15, 4.927032475167808e-15, 5.141251278435974e-15, 5.355470081704139e-15, 5.569688884972305e-15, 5.78390768824047e-15, 5.998126491508636e-15, 6.212345294776801e-15, 6.426564098044967e-15, 6.6407829013131324e-15], Int64[], 32, :u2D, LowLevelFEM.Problem(\"body1-2D\", :PlaneStress, 2, 2, LowLevelFEM.Material[LowLevelFEM.Material(\"body\", :Hooke, 200000.0, 0.3, 7.85e-9, 45.0, 4.2e8, 1.2e-5, 115384.61538461536, 76923.07692307692, 166666.66666666666)], 1.0, 357)), LowLevelFEM.VectorField(Matrix{Float64}[], [0.0 0.0 … 0.0 0.0; 0.0 0.0 … 0.0 0.0; … ; 0.0 0.0 … -3145.25317828989 -9958.105895469835; 0.0 0.0 … 6314.175110271661 20110.341650718347], [0.0, 2.1421880326816568e-16, 4.2843760653633137e-16, 6.42656409804497e-16, 8.568752130726627e-16, 1.0710940163408283e-15, 1.285312819608994e-15, 1.4995316228771598e-15, 1.7137504261453255e-15, 1.927969229413491e-15  …  4.712813671899643e-15, 4.927032475167808e-15, 5.141251278435974e-15, 5.355470081704139e-15, 5.569688884972305e-15, 5.78390768824047e-15, 5.998126491508636e-15, 6.212345294776801e-15, 6.426564098044967e-15, 6.6407829013131324e-15], Int64[], 32, :v2D, LowLevelFEM.Problem(\"body1-2D\", :PlaneStress, 2, 2, LowLevelFEM.Material[LowLevelFEM.Material(\"body\", :Hooke, 200000.0, 0.3, 7.85e-9, 45.0, 4.2e8, 1.2e-5, 115384.61538461536, 76923.07692307692, 166666.66666666666)], 1.0, 357)))"
      ]
     },
     "metadata": {},
     "output_type": "display_data"
    }
   ],
   "source": [
    "u, v = FEM.CDM(K, M, f, u0, v0, 10Tmin, Tmin / π)"
   ]
  },
  {
   "cell_type": "code",
   "execution_count": 13,
   "id": "7d844bc4",
   "metadata": {},
   "outputs": [
    {
     "data": {
      "text/plain": [
       "1"
      ]
     },
     "metadata": {},
     "output_type": "display_data"
    }
   ],
   "source": [
    "FEM.showDoFResults(u, :uvec, visible=true)"
   ]
  },
  {
   "cell_type": "code",
   "execution_count": 14,
   "id": "2444071a",
   "metadata": {},
   "outputs": [
    {
     "data": {
      "text/plain": [
       "2"
      ]
     },
     "metadata": {},
     "output_type": "display_data"
    }
   ],
   "source": [
    "FEM.showDoFResults(v, :vvec)"
   ]
  },
  {
   "cell_type": "code",
   "execution_count": 15,
   "id": "7f4dcd1b",
   "metadata": {},
   "outputs": [
    {
     "data": {
      "text/plain": [
       "LowLevelFEM.TensorField([[0.0 0.0 … 2.1656649644394256e6 9.435730353950625e6; 0.0 0.0 … -1.6295270620268112e7 -7.06413591756844e7; … ; 0.0 0.0 … 0.0 0.0; -0.0 -0.0 … -1.7464644351726726e7 -7.560837776779991e7], [0.0 0.0 … -147712.9267132491 -651001.9052613593; 0.0 0.0 … -786463.6153555952 -3.4107693340265425e6; … ; 0.0 0.0 … 0.0 0.0; -0.0 -0.0 … 777744.0477586671 3.399676263209797e6], [0.0 0.0 … -43072.20407786938 -139598.65356258227; 0.0 0.0 … -36998.220016823856 -120245.38692045017; … ; 0.0 0.0 … 0.0 0.0; -0.0 -0.0 … 23136.791246666 75341.49280105352], [0.0 0.0 … -0.00034132755408595837 -0.0010468338331834036; 0.0 0.0 … -0.00021408770581666736 -0.000617684716226905; … ; 0.0 0.0 … 0.0 0.0; -0.0 -0.0 … -0.000186206314946572 -0.0005356467927994401], [0.0 0.0 … 778.7093263240268 2654.8934302450784; 0.0 0.0 … -1006.7660504090962 -3247.666441927787; … ; 0.0 0.0 … 0.0 0.0; -0.0 -0.0 … -600.4502025001691 -1875.020095193216], [0.0 0.0 … -7.397537179186804e-5 -0.00031646034501837765; 0.0 0.0 … 4.912509552210304e-5 0.00021513514553619635; … ; 0.0 0.0 … 0.0 0.0; -0.0 -0.0 … -4.0711401715535806e-5 -0.00017464377668830735], [0.0 1.4988967225281366e-7 … -2654.5085020318647 -11296.903206758036; 0.0 3.444065233629419e-7 … 1002.0811636766837 6142.61078114703; … ; 0.0 0.0 … 0.0 0.0; -0.0 -6.87588807419529e-8 … 3992.7341631898103 16266.417644863479], [0.0 0.0 … -0.30484760163677 -1.282903600391481; 0.0 0.0 … 0.1558249774900341 0.6564178072641007; … ; 0.0 0.0 … 0.0 0.0; -0.0 -0.0 … 0.16323004829702376 0.6873046586263765], [0.0 0.0 … 20.920361777144056 88.31799191537385; 0.0 0.0 … 30.44919299811873 128.24022388400005; … ; 0.0 0.0 … 0.0 0.0; -0.0 -0.0 … -0.3515723305035853 -1.2408831500107393], [0.0 0.0 … -0.0143610823624468 -0.059989570709492825; 0.0 0.0 … -0.00017444106342782328 -0.0007049095526580359; … ; 0.0 0.0 … 0.0 0.0; -0.0 -0.0 … 0.0024394284050132933 0.010209358706557748]  …  [0.0 0.0 … 0.02473829893222145 0.07843530846605115; 0.0 0.0 … 0.013689789421673546 0.043921723198995344; … ; 0.0 0.0 … 0.0 0.0; -0.0 -0.0 … 0.011100095538423982 0.0352296400033374], [0.0 0.0 … -1.8101662446349418e8 -8.041496438095467e8; 0.0 0.0 … 7.03229867951232e8 3.0626412461896996e9; … ; 0.0 0.0 … 0.0 0.0; -0.0 -0.0 … 3.960991234439476e8 1.7175476749119744e9], [0.0 0.0 … -2.0964839621825464e7 -6.746373513730046e7; 0.0 0.0 … -3.461894545431753e6 -1.1002210235684924e7; … ; 0.0 0.0 … 0.0 0.0; -0.0 -0.0 … 5.905632261806252e6 1.8975855314197753e7], [0.0 0.0 … 0.0013158944159944502 0.004125989565514682; 0.0 0.0 … 4.1698020292234404e-5 0.00013435788727613433; … ; 0.0 0.0 … 0.0 0.0; -0.0 -0.0 … -0.00018334323128605217 -0.0005750555037283578], [0.0 0.0 … 20794.66102082305 64739.926421616794; 0.0 0.0 … -16001.702047787694 -51974.14691493341; … ; 0.0 0.0 … 0.0 0.0; -0.0 -0.0 … 5772.086141661597 19292.975823628334], [0.0 0.0 … 19479.682030003474 60695.27945841859; 0.0 0.0 … -34600.94200532694 -110073.3319396129; … ; 0.0 0.0 … 0.0 0.0; -0.0 -0.0 … -24208.76141122116 -76845.77275171896], [0.0 0.0 … -0.4351677563568891 -1.8323250313156505; 0.0 0.0 … 0.10479625695930402 0.4455081484220744; … ; 0.0 0.0 … 0.0 0.0; -0.0 -0.0 … -0.18873495109748542 -0.7953383528150213], [0.0 0.0 … 390634.72444390715 1.2563580370726883e6; 0.0 0.0 … 165429.0741355384 533964.0370921731; … ; 0.0 0.0 … 0.0 0.0; -0.0 -0.0 … 145354.92180525366 468084.4730879493], [0.0 0.0 … -0.07525421633036121 -0.23289837827806883; 0.0 0.0 … 0.014420560051318624 0.043399233845615656; … ; 0.0 0.0 … 0.0 0.0; -0.0 -0.0 … 0.008157793458534781 0.02512919851102048], [0.0 0.0 … -262658.0717263079 -839351.8845521546; 0.0 0.0 … -12163.578626862829 -40668.80964965121; … ; 0.0 0.0 … 0.0 0.0; -0.0 -0.0 … 33090.06274966014 106004.09397742644]], Matrix{Float64}(undef, 0, 0), [0.0, 2.1421880326816568e-16, 4.2843760653633137e-16, 6.42656409804497e-16, 8.568752130726627e-16, 1.0710940163408283e-15, 1.285312819608994e-15, 1.4995316228771598e-15, 1.7137504261453255e-15, 1.927969229413491e-15  …  4.712813671899643e-15, 4.927032475167808e-15, 5.141251278435974e-15, 5.355470081704139e-15, 5.569688884972305e-15, 5.78390768824047e-15, 5.998126491508636e-15, 6.212345294776801e-15, 6.426564098044967e-15, 6.6407829013131324e-15], [33, 34, 35, 36, 37, 38, 39, 40, 41, 42  …  185, 186, 187, 188, 189, 190, 191, 192, 193, 194], 32, :e, LowLevelFEM.Problem(\"body1-2D\", :PlaneStress, 2, 2, LowLevelFEM.Material[LowLevelFEM.Material(\"body\", :Hooke, 200000.0, 0.3, 7.85e-9, 45.0, 4.2e8, 1.2e-5, 115384.61538461536, 76923.07692307692, 166666.66666666666)], 1.0, 357))"
      ]
     },
     "metadata": {},
     "output_type": "display_data"
    }
   ],
   "source": [
    "e1 = FEM.solveStrain(u)"
   ]
  },
  {
   "cell_type": "code",
   "execution_count": 16,
   "id": "91be4964",
   "metadata": {},
   "outputs": [
    {
     "name": "stdout",
     "output_type": "stream",
     "text": [
      "Info    : Running Plugin(Smooth)...\n",
      "Info    : Done running Plugin(Smooth)\n"
     ]
    },
    {
     "data": {
      "text/plain": [
       "3"
      ]
     },
     "metadata": {},
     "output_type": "display_data"
    }
   ],
   "source": [
    "FEM.showStrainResults(e1, :e)"
   ]
  },
  {
   "cell_type": "code",
   "execution_count": 17,
   "id": "b0c70fc5",
   "metadata": {},
   "outputs": [
    {
     "data": {
      "text/plain": [
       "LowLevelFEM.TensorField(Matrix{Float64}[], [0.0 0.0 … -0.15744292613213204 -0.6707558419003363; 0.0 0.0 … 0.17982894550629724 0.7651409322379598; … ; 0.0 0.0 … 0.0 0.0; 0.0 0.0 … -58338.5252966283 -188459.45487268452], [0.0, 2.1421880326816568e-16, 4.2843760653633137e-16, 6.42656409804497e-16, 8.568752130726627e-16, 1.0710940163408283e-15, 1.285312819608994e-15, 1.4995316228771598e-15, 1.7137504261453255e-15, 1.927969229413491e-15  …  4.712813671899643e-15, 4.927032475167808e-15, 5.141251278435974e-15, 5.355470081704139e-15, 5.569688884972305e-15, 5.78390768824047e-15, 5.998126491508636e-15, 6.212345294776801e-15, 6.426564098044967e-15, 6.6407829013131324e-15], Int64[], 32, :e, LowLevelFEM.Problem(\"body1-2D\", :PlaneStress, 2, 2, LowLevelFEM.Material[LowLevelFEM.Material(\"body\", :Hooke, 200000.0, 0.3, 7.85e-9, 45.0, 4.2e8, 1.2e-5, 115384.61538461536, 76923.07692307692, 166666.66666666666)], 1.0, 357))"
      ]
     },
     "metadata": {},
     "output_type": "display_data"
    }
   ],
   "source": [
    "e2 = FEM.solveStrain(u, DoFResults=true)"
   ]
  },
  {
   "cell_type": "code",
   "execution_count": 18,
   "id": "b98876db",
   "metadata": {},
   "outputs": [
    {
     "data": {
      "text/plain": [
       "4"
      ]
     },
     "metadata": {},
     "output_type": "display_data"
    }
   ],
   "source": [
    "FEM.showDoFResults(e2, :e)"
   ]
  },
  {
   "cell_type": "code",
   "execution_count": 19,
   "id": "1c94217c",
   "metadata": {},
   "outputs": [
    {
     "data": {
      "text/plain": [
       "LowLevelFEM.TensorField(Matrix{Float64}[], [0.0 0.0 … -0.15744292613213204 -0.6707558419003363; 0.0 0.0 … 0.08991447275314862 0.3825704661189799; … ; 0.0 0.0 … 0.0 0.0; 0.0 0.0 … -58338.5252966283 -188459.45487268452], [0.0, 2.1421880326816568e-16, 4.2843760653633137e-16, 6.42656409804497e-16, 8.568752130726627e-16, 1.0710940163408283e-15, 1.285312819608994e-15, 1.4995316228771598e-15, 1.7137504261453255e-15, 1.927969229413491e-15  …  4.712813671899643e-15, 4.927032475167808e-15, 5.141251278435974e-15, 5.355470081704139e-15, 5.569688884972305e-15, 5.78390768824047e-15, 5.998126491508636e-15, 6.212345294776801e-15, 6.426564098044967e-15, 6.6407829013131324e-15], Int64[], 32, :e, LowLevelFEM.Problem(\"body1-2D\", :PlaneStress, 2, 2, LowLevelFEM.Material[LowLevelFEM.Material(\"body\", :Hooke, 200000.0, 0.3, 7.85e-9, 45.0, 4.2e8, 1.2e-5, 115384.61538461536, 76923.07692307692, 166666.66666666666)], 1.0, 357))"
      ]
     },
     "metadata": {},
     "output_type": "display_data"
    }
   ],
   "source": [
    "e3 = FEM.elementsToNodes(e1)"
   ]
  },
  {
   "cell_type": "code",
   "execution_count": 20,
   "id": "c9101a26",
   "metadata": {},
   "outputs": [
    {
     "data": {
      "text/plain": [
       "5"
      ]
     },
     "metadata": {},
     "output_type": "display_data"
    }
   ],
   "source": [
    "FEM.showDoFResults(e3, :e)"
   ]
  },
  {
   "cell_type": "code",
   "execution_count": 21,
   "id": "d928b289",
   "metadata": {},
   "outputs": [
    {
     "data": {
      "text/plain": [
       "LowLevelFEM.TensorField([[0.0 0.0 … 3.161122579002902e12 1.3698538252930828e13; 0.0 0.0 … -2.5069647108104785e12 -1.0867901411643754e13; … ; 0.0 0.0 … 0.0 0.0; 0.0 0.0 … 0.0 0.0], [0.0 0.0 … 1.2739515263917834e11 5.549981673076117e11; 0.0 0.0 … -1.2099440236239926e11 -5.247337436963912e11; … ; 0.0 0.0 … 0.0 0.0; 0.0 0.0 … 0.0 0.0], [0.0 0.0 … -1.0163301866416397e10 -3.299264096187829e10; 0.0 0.0 … -5.692033848742131e9 -1.8499290295453873e10; … ; 0.0 0.0 … 0.0 0.0; 0.0 0.0 … 0.0 0.0], [0.0 0.0 … -91.31892827479604 -285.6888387022043; 0.0 0.0 … -32.93657012564113 -95.02841788106231; … ; 0.0 0.0 … 0.0 0.0; 0.0 0.0 … 0.0 0.0], [0.0 0.0 … 6.621308479383464e8 2.1432892973543725e9; 0.0 0.0 … -1.548870846783225e8 -4.996409910658134e8; … ; 0.0 0.0 … 0.0 0.0; 0.0 0.0 … 0.0 0.0], [0.0 0.0 … -18.682322817465824 -78.88550871935782; 0.0 0.0 … 7.557707003400467 33.09771469787636; … ; 0.0 0.0 … 0.0 0.0; 0.0 0.0 … 0.0 0.0], [0.0 0.03294278511050849 … -4.6479970229160887e8 -1.5324010229788737e9; 0.0 0.052985618978914135 … 1.5416633287333596e8 9.450170432533892e8; … ; 0.0 0.0 … 0.0 0.0; 0.0 0.0 … 0.0 0.0], [0.0 0.0 … -72069.26509133015 -303348.53108470223; 0.0 0.0 … 23973.073460005246 100987.3549637078; … ; 0.0 0.0 … 0.0 0.0; 0.0 0.0 … 0.0 0.0], [0.0 0.0 … 2.0154985285099624e6 8.412492270067934e6; 0.0 0.0 … 4.684491230479805e6 1.9729265212923083e7; … ; 0.0 0.0 … 0.0 0.0; 0.0 0.0 … 0.0 0.0], [0.0 0.0 … -2879.584710729263 -12023.29956427259; 0.0 0.0 … -26.83708668120358 -108.44762348585166; … ; 0.0 0.0 … 0.0 0.0; 0.0 0.0 … 0.0 0.0]  …  [0.0 0.0 … 5762.867719956656 18291.592231676277; 0.0 0.0 … 2106.121449488238 6757.188184460822; … ; 0.0 0.0 … 0.0 0.0; 0.0 0.0 … 0.0 0.0], [0.0 0.0 … -1.3239228233060884e14 -5.771045969436766e14; 0.0 0.0 … 1.0818921045403569e14 4.711755763368769e14; … ; 0.0 0.0 … 0.0 0.0; 0.0 0.0 … 0.0 0.0], [0.0 0.0 … -4.668832160932357e12 -1.5017130992568201e13; 0.0 0.0 … -5.325991608356543e11 -1.6926477285669114e12; … ; 0.0 0.0 … 0.0 0.0; 0.0 0.0 … 0.0 0.0], [0.0 0.0 … 288.5877166280319 904.8960631275646; 0.0 0.0 … 6.415080044959139 20.670444196328358; … ; 0.0 0.0 … 0.0 0.0; 0.0 0.0 … 0.0 0.0], [0.0 0.0 … 2.424922017242047e9 7.354306725647667e9; 0.0 0.0 … -2.4618003150442605e9 -7.996022602297447e9; … ; 0.0 0.0 … 0.0 0.0; 0.0 0.0 … 0.0 0.0], [0.0 0.0 … 6.743133151895744e9 2.1233416427149437e10; 0.0 0.0 … -5.323221846973375e9 -1.6934358759940445e10; … ; 0.0 0.0 … 0.0 0.0; 0.0 0.0 … 0.0 0.0], [0.0 0.0 … -96820.10415099932 -407749.555316453; 0.0 0.0 … 16122.501070662156 68539.7151418576; … ; 0.0 0.0 … 0.0 0.0; 0.0 0.0 … 0.0 0.0], [0.0 0.0 … 9.086842737684254e10 2.9222278426452136e11; 0.0 0.0 … 2.545062679008283e10 8.214831339879587e10; … ; 0.0 0.0 … 0.0 0.0; 0.0 0.0 … 0.0 0.0], [0.0 0.0 … -14894.342481011943 -46015.73435364983; 0.0 0.0 … 2218.547700202865 6676.805207017793; … ; 0.0 0.0 … 0.0 0.0; 0.0 0.0 … 0.0 0.0], [0.0 0.0 … -4.681843230662797e10 -1.4962455845398987e11; 0.0 0.0 … -1.8713197887481275e9 -6.256739946100185e9; … ; 0.0 0.0 … 0.0 0.0; 0.0 0.0 … 0.0 0.0]], Matrix{Float64}(undef, 0, 0), [0.0, 2.1421880326816568e-16, 4.2843760653633137e-16, 6.42656409804497e-16, 8.568752130726627e-16, 1.0710940163408283e-15, 1.285312819608994e-15, 1.4995316228771598e-15, 1.7137504261453255e-15, 1.927969229413491e-15  …  4.712813671899643e-15, 4.927032475167808e-15, 5.141251278435974e-15, 5.355470081704139e-15, 5.569688884972305e-15, 5.78390768824047e-15, 5.998126491508636e-15, 6.212345294776801e-15, 6.426564098044967e-15, 6.6407829013131324e-15], [33, 34, 35, 36, 37, 38, 39, 40, 41, 42  …  185, 186, 187, 188, 189, 190, 191, 192, 193, 194], 32, :s, LowLevelFEM.Problem(\"body1-2D\", :PlaneStress, 2, 2, LowLevelFEM.Material[LowLevelFEM.Material(\"body\", :Hooke, 200000.0, 0.3, 7.85e-9, 45.0, 4.2e8, 1.2e-5, 115384.61538461536, 76923.07692307692, 166666.66666666666)], 1.0, 357))"
      ]
     },
     "metadata": {},
     "output_type": "display_data"
    }
   ],
   "source": [
    "s1 = FEM.solveStress(u)"
   ]
  },
  {
   "cell_type": "code",
   "execution_count": 22,
   "id": "cab94d1a",
   "metadata": {},
   "outputs": [
    {
     "name": "stdout",
     "output_type": "stream",
     "text": [
      "Info    : Running Plugin(Smooth)...\n",
      "Info    : Done running Plugin(Smooth)\n"
     ]
    },
    {
     "data": {
      "text/plain": [
       "6"
      ]
     },
     "metadata": {},
     "output_type": "display_data"
    }
   ],
   "source": [
    "FEM.showStressResults(s1, :s)"
   ]
  },
  {
   "cell_type": "code",
   "execution_count": 23,
   "id": "333756f3",
   "metadata": {},
   "outputs": [
    {
     "data": {
      "text/plain": [
       "LowLevelFEM.TensorField(Matrix{Float64}[], [0.0 0.0 … -35314.8004995398 -150443.3809107587; 0.0 0.0 … 13832.995808176713 58856.99478753536; … ; 0.0 0.0 … 0.0 0.0; 0.0 0.0 … 0.0 0.0], [0.0, 2.1421880326816568e-16, 4.2843760653633137e-16, 6.42656409804497e-16, 8.568752130726627e-16, 1.0710940163408283e-15, 1.285312819608994e-15, 1.4995316228771598e-15, 1.7137504261453255e-15, 1.927969229413491e-15  …  4.712813671899643e-15, 4.927032475167808e-15, 5.141251278435974e-15, 5.355470081704139e-15, 5.569688884972305e-15, 5.78390768824047e-15, 5.998126491508636e-15, 6.212345294776801e-15, 6.426564098044967e-15, 6.6407829013131324e-15], Int64[], 32, :s, LowLevelFEM.Problem(\"body1-2D\", :PlaneStress, 2, 2, LowLevelFEM.Material[LowLevelFEM.Material(\"body\", :Hooke, 200000.0, 0.3, 7.85e-9, 45.0, 4.2e8, 1.2e-5, 115384.61538461536, 76923.07692307692, 166666.66666666666)], 1.0, 357))"
      ]
     },
     "metadata": {},
     "output_type": "display_data"
    }
   ],
   "source": [
    "s2 = FEM.solveStress(u, DoFResults=true)"
   ]
  },
  {
   "cell_type": "code",
   "execution_count": 24,
   "id": "805958db",
   "metadata": {},
   "outputs": [
    {
     "data": {
      "text/plain": [
       "7"
      ]
     },
     "metadata": {},
     "output_type": "display_data"
    }
   ],
   "source": [
    "FEM.showDoFResults(s2, :s)"
   ]
  },
  {
   "cell_type": "code",
   "execution_count": 25,
   "id": "276261f2",
   "metadata": {},
   "outputs": [
    {
     "data": {
      "text/plain": [
       "LowLevelFEM.TensorField(Matrix{Float64}[], [0.0 0.0 … 0.17362010953784177 0.738815085276597; 0.0 0.0 … 0.09220908167021089 0.3923434447109912; … ; 0.0 0.0 … 0.0 0.0; 0.0 0.0 … 83295.87641762785 267685.95972034783], [0.0, 2.1421880326816568e-16, 4.2843760653633137e-16, 6.42656409804497e-16, 8.568752130726627e-16, 1.0710940163408283e-15, 1.285312819608994e-15, 1.4995316228771598e-15, 1.7137504261453255e-15, 1.927969229413491e-15  …  4.712813671899643e-15, 4.927032475167808e-15, 5.141251278435974e-15, 5.355470081704139e-15, 5.569688884972305e-15, 5.78390768824047e-15, 5.998126491508636e-15, 6.212345294776801e-15, 6.426564098044967e-15, 6.6407829013131324e-15], Int64[], 32, :e, LowLevelFEM.Problem(\"body1-2D\", :PlaneStress, 2, 2, LowLevelFEM.Material[LowLevelFEM.Material(\"body\", :Hooke, 200000.0, 0.3, 7.85e-9, 45.0, 4.2e8, 1.2e-5, 115384.61538461536, 76923.07692307692, 166666.66666666666)], 1.0, 357))"
      ]
     },
     "metadata": {},
     "output_type": "display_data"
    }
   ],
   "source": [
    "err1 = FEM.fieldError(e1)"
   ]
  },
  {
   "cell_type": "code",
   "execution_count": 26,
   "id": "4c6cccf6",
   "metadata": {},
   "outputs": [
    {
     "data": {
      "text/plain": [
       "8"
      ]
     },
     "metadata": {},
     "output_type": "display_data"
    }
   ],
   "source": [
    "FEM.showDoFResults(err1, :tensor)"
   ]
  },
  {
   "cell_type": "code",
   "execution_count": 27,
   "id": "7da85e1d",
   "metadata": {},
   "outputs": [
    {
     "data": {
      "text/plain": [
       "(LowLevelFEM.VectorField(Matrix{Float64}[], [0.0 0.0 … 0.0 0.0; 0.0 0.0 … 0.0 0.0; … ; 0.0 -3.5872029952351777e-28 … -3.4448715030461062e-9 -1.4886460525981895e-8; 0.0 5.7934801374396e-28 … 7.269168187948044e-9 3.144322500038513e-8], [0.0, 2.1421880326816568e-16, 4.2843760653633137e-16, 6.42656409804497e-16, 8.568752130726627e-16, 1.0710940163408283e-15, 1.285312819608994e-15, 1.4995316228771598e-15, 1.7137504261453255e-15, 1.927969229413491e-15  …  4.712813671899643e-15, 4.927032475167808e-15, 5.141251278435974e-15, 5.355470081704139e-15, 5.569688884972305e-15, 5.78390768824047e-15, 5.998126491508636e-15, 6.212345294776801e-15, 6.426564098044967e-15, 6.6407829013131324e-15], Int64[], 32, :u2D, LowLevelFEM.Problem(\"body1-2D\", :PlaneStress, 2, 2, LowLevelFEM.Material[LowLevelFEM.Material(\"body\", :Hooke, 200000.0, 0.3, 7.85e-9, 45.0, 4.2e8, 1.2e-5, 115384.61538461536, 76923.07692307692, 166666.66666666666)], 1.0, 357)), LowLevelFEM.VectorField(Matrix{Float64}[], [0.0 0.0 … 0.0 0.0; 0.0 0.0 … 0.0 0.0; … ; 0.0 -3.349101890691273e-12 … -1.998140239035013e7 -8.684011699432178e7; 0.0 5.408937076533981e-12 … 4.218362407439586e7 1.8351137975937366e8], [0.0, 2.1421880326816568e-16, 4.2843760653633137e-16, 6.42656409804497e-16, 8.568752130726627e-16, 1.0710940163408283e-15, 1.285312819608994e-15, 1.4995316228771598e-15, 1.7137504261453255e-15, 1.927969229413491e-15  …  4.712813671899643e-15, 4.927032475167808e-15, 5.141251278435974e-15, 5.355470081704139e-15, 5.569688884972305e-15, 5.78390768824047e-15, 5.998126491508636e-15, 6.212345294776801e-15, 6.426564098044967e-15, 6.6407829013131324e-15], Int64[], 32, :v2D, LowLevelFEM.Problem(\"body1-2D\", :PlaneStress, 2, 2, LowLevelFEM.Material[LowLevelFEM.Material(\"body\", :Hooke, 200000.0, 0.3, 7.85e-9, 45.0, 4.2e8, 1.2e-5, 115384.61538461536, 76923.07692307692, 166666.66666666666)], 1.0, 357)))"
      ]
     },
     "metadata": {},
     "output_type": "display_data"
    }
   ],
   "source": [
    "u2, v2 = FEM.HHT(K, M, f, u0, v0, 10Tmin, Tmin / π)"
   ]
  },
  {
   "cell_type": "code",
   "execution_count": 28,
   "id": "6d342af9",
   "metadata": {},
   "outputs": [
    {
     "data": {
      "text/plain": [
       "9"
      ]
     },
     "metadata": {},
     "output_type": "display_data"
    }
   ],
   "source": [
    "FEM.showDoFResults(u2, :uvec)"
   ]
  },
  {
   "cell_type": "code",
   "execution_count": 29,
   "id": "4be0f8c5",
   "metadata": {},
   "outputs": [
    {
     "data": {
      "text/plain": [
       "10"
      ]
     },
     "metadata": {},
     "output_type": "display_data"
    }
   ],
   "source": [
    "FEM.showDoFResults(v2, :vvec)"
   ]
  },
  {
   "cell_type": "code",
   "execution_count": 30,
   "id": "e07f8b10",
   "metadata": {},
   "outputs": [
    {
     "name": "stdout",
     "output_type": "stream",
     "text": [
      "-------------------------------------------------------\n",
      "Version       : 4.13.1\n",
      "License       : GNU General Public License\n",
      "Build OS      : Linux64-sdk\n",
      "Build date    : 19700101\n",
      "Build host    : amdci7.julia.csail.mit.edu\n",
      "Build options : 64Bit ALGLIB[contrib] ANN[contrib] Bamg Blossom Cairo DIntegration Dlopen DomHex Eigen[contrib] Fltk GMP Gmm[contrib] Hxt Jpeg Kbipack LinuxJoystick MathEx[contrib] Mesh Metis[contrib] Mmg Mpeg Netgen Nii2mesh ONELAB ONELABMetamodel OpenCASCADE OpenCASCADE-CAF OpenGL OpenMP OptHom Parser Plugins Png Post QuadMeshingTools QuadTri Solver TetGen/BR TinyXML2[contrib] Untangle Voro++[contrib] WinslowUntangler Zlib\n",
      "FLTK version  : 1.3.8\n",
      "OCC version   : 7.7.2\n",
      "Packaged by   : root\n",
      "Web site      : https://gmsh.info\n",
      "Issue tracker : https://gitlab.onelab.info/gmsh/gmsh/issues\n",
      "-------------------------------------------------------\n"
     ]
    },
    {
     "name": "stderr",
     "output_type": "stream",
     "text": [
      "XOpenIM() failed\n",
      "XRequest.18: BadValue 0x0\n"
     ]
    }
   ],
   "source": [
    "FEM.openPostProcessor()"
   ]
  },
  {
   "cell_type": "code",
   "execution_count": 31,
   "id": "076f84a7",
   "metadata": {},
   "outputs": [],
   "source": [
    "gmsh.finalize()"
   ]
  }
 ],
 "metadata": {
  "kernelspec": {
   "display_name": "Julia 1.11.6",
   "language": "julia",
   "name": "julia-1.11"
  },
  "language_info": {
   "file_extension": ".jl",
   "mimetype": "application/julia",
   "name": "julia",
   "version": "1.11.6"
  }
 },
 "nbformat": 4,
 "nbformat_minor": 5
}
