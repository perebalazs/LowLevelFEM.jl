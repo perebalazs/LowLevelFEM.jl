{
 "cells": [
  {
   "cell_type": "code",
   "execution_count": 32,
   "id": "e95346f2",
   "metadata": {},
   "outputs": [],
   "source": [
    "using LowLevelFEM\n",
    "import LowLevelFEM as FEM\n",
    "gmsh.initialize()"
   ]
  },
  {
   "cell_type": "code",
   "execution_count": 33,
   "id": "c376ef73",
   "metadata": {},
   "outputs": [
    {
     "name": "stdout",
     "output_type": "stream",
     "text": [
      "Info    : Reading 'body1-2D.geo'...\n",
      "Info    : Meshing 1D...\n",
      "Info    : [  0%] Meshing curve 1 (Line)\n",
      "Info    : [ 30%] Meshing curve 2 (Line)\n",
      "Info    : [ 60%] Meshing curve 3 (Line)\n",
      "Info    : [ 80%] Meshing curve 4 (Line)\n",
      "Info    : Done meshing 1D (Wall 0.00045893s, CPU 0.000456s)\n",
      "Info    : Meshing 2D...\n",
      "Info    : Meshing surface 1 (Plane, Frontal-Delaunay)\n",
      "Info    : Done meshing 2D (Wall 0.0124735s, CPU 0.011037s)\n",
      "Info    : 98 nodes 198 elements\n",
      "Info    : Done reading 'body1-2D.geo'\n"
     ]
    }
   ],
   "source": [
    "gmsh.open(\"body1-2D.geo\")"
   ]
  },
  {
   "cell_type": "code",
   "execution_count": 34,
   "id": "17d16e97",
   "metadata": {},
   "outputs": [
    {
     "data": {
      "text/plain": [
       "Problem(\"body1-2D\", :AxiSymmetric, 2, 2, LowLevelFEM.Material[LowLevelFEM.Material(\"body\", :Hooke, 200000.0, 0.3, 7.85e-9, 45.0, 4.2e8, 1.2e-5, 115384.61538461536, 76923.07692307692, 166666.66666666666, 1.0)], 1.0, 98)"
      ]
     },
     "metadata": {},
     "output_type": "display_data"
    }
   ],
   "source": [
    "mat = FEM.material(\"body\")\n",
    "problem = FEM.Problem([mat], type=:AxiSymmetric)"
   ]
  },
  {
   "cell_type": "code",
   "execution_count": 35,
   "id": "cb740efb",
   "metadata": {},
   "outputs": [
    {
     "data": {
      "text/plain": [
       "(\"right\", 1, 0, 0)"
      ]
     },
     "metadata": {},
     "output_type": "display_data"
    }
   ],
   "source": [
    "supp = FEM.displacementConstraint(\"left\", ux=0, uy=0)\n",
    "load = FEM.load(\"right\", fx=1)"
   ]
  },
  {
   "cell_type": "code",
   "execution_count": 36,
   "id": "34e1f132",
   "metadata": {},
   "outputs": [
    {
     "data": {
      "text/plain": [
       "VectorField"
      ]
     },
     "metadata": {},
     "output_type": "display_data"
    },
    {
     "data": {
      "text/plain": [
       "196×1 Matrix{Float64}:\n",
       " 0.0\n",
       " 0.0\n",
       " 0.0\n",
       " 0.0\n",
       " 0.0\n",
       " 0.0\n",
       " 0.0\n",
       " 0.0\n",
       " 0.0\n",
       " 0.0\n",
       " ⋮\n",
       " 0.0\n",
       " 0.0\n",
       " 0.0\n",
       " 0.0\n",
       " 0.0\n",
       " 0.0\n",
       " 0.0\n",
       " 0.0\n",
       " 0.0"
      ]
     },
     "metadata": {},
     "output_type": "display_data"
    },
    {
     "data": {
      "text/plain": []
     },
     "metadata": {},
     "output_type": "display_data"
    }
   ],
   "source": [
    "u0 = FEM.initialDisplacement(problem, \"body\", ux=0, uy=0)"
   ]
  },
  {
   "cell_type": "code",
   "execution_count": 37,
   "id": "e2541d50",
   "metadata": {},
   "outputs": [
    {
     "ename": "MethodError",
     "evalue": "MethodError: no method matching initialDisplacement!(::Problem, ::String, ::VectorField; ux::Int64, uy::Int64)\nThe function `initialDisplacement!` exists, but no method is defined for this combination of argument types.\n\nClosest candidates are:\n  initialDisplacement!(::Any, ::Any; ux, uy, uz)\n   @ LowLevelFEM ~/Dokumentumok/GitHub/LowLevelFEM.jl/src/linear.jl:5270\n",
     "output_type": "error",
     "traceback": [
      "MethodError: no method matching initialDisplacement!(::Problem, ::String, ::VectorField; ux::Int64, uy::Int64)\n",
      "The function `initialDisplacement!` exists, but no method is defined for this combination of argument types.\n",
      "\n",
      "Closest candidates are:\n",
      "  initialDisplacement!(::Any, ::Any; ux, uy, uz)\n",
      "   @ LowLevelFEM ~/Dokumentumok/GitHub/LowLevelFEM.jl/src/linear.jl:5270\n",
      "\n",
      "\n",
      "Stacktrace:\n",
      " [1] top-level scope\n",
      "   @ ~/Dokumentumok/GitHub/LowLevelFEM.jl/examples/general-tests/jl_notebook_cell_df34fa98e69747e1a8f8a730347b8e2f_W5sZmlsZQ==.jl:1"
     ]
    }
   ],
   "source": [
    "FEM.initialDisplacement!(problem, \"left\", u0, ux=0, uy=0)\n",
    "u0"
   ]
  },
  {
   "cell_type": "code",
   "execution_count": 38,
   "id": "8584fdfc",
   "metadata": {},
   "outputs": [
    {
     "data": {
      "text/plain": [
       "VectorField"
      ]
     },
     "metadata": {},
     "output_type": "display_data"
    },
    {
     "data": {
      "text/plain": [
       "196×1 Matrix{Float64}:\n",
       " 0.0\n",
       " 0.0\n",
       " 0.0\n",
       " 0.0\n",
       " 0.0\n",
       " 0.0\n",
       " 0.0\n",
       " 0.0\n",
       " 0.0\n",
       " 0.0\n",
       " ⋮\n",
       " 0.0\n",
       " 0.0\n",
       " 0.0\n",
       " 0.0\n",
       " 0.0\n",
       " 0.0\n",
       " 0.0\n",
       " 0.0\n",
       " 0.0"
      ]
     },
     "metadata": {},
     "output_type": "display_data"
    },
    {
     "data": {
      "text/plain": []
     },
     "metadata": {},
     "output_type": "display_data"
    }
   ],
   "source": [
    "v0 = FEM.initialVelocity(problem, \"body\", vx=0, vy=0)"
   ]
  },
  {
   "cell_type": "code",
   "execution_count": 39,
   "id": "c9e14625",
   "metadata": {},
   "outputs": [],
   "source": [
    "FEM.initialVelocity!(\"body\", v0, vx=0, vy=0)"
   ]
  },
  {
   "cell_type": "code",
   "execution_count": 40,
   "id": "93379cdd",
   "metadata": {},
   "outputs": [
    {
     "data": {
      "text/plain": [
       "VectorField"
      ]
     },
     "metadata": {},
     "output_type": "display_data"
    },
    {
     "data": {
      "text/plain": [
       "196×1 Matrix{Float64}:\n",
       " 0.0\n",
       " 0.0\n",
       " 0.39269908169872364\n",
       " 0.0\n",
       " 0.39269908169872586\n",
       " 0.0\n",
       " 0.0\n",
       " 0.0\n",
       " 0.0\n",
       " 0.0\n",
       " ⋮\n",
       " 0.0\n",
       " 0.0\n",
       " 0.0\n",
       " 0.0\n",
       " 0.0\n",
       " 0.0\n",
       " 0.0\n",
       " 0.0\n",
       " 0.0"
      ]
     },
     "metadata": {},
     "output_type": "display_data"
    },
    {
     "data": {
      "text/plain": []
     },
     "metadata": {},
     "output_type": "display_data"
    }
   ],
   "source": [
    "K = FEM.stiffnessMatrix(problem)\n",
    "M = FEM.massMatrix(problem)\n",
    "f = FEM.loadVector(problem, [load])"
   ]
  },
  {
   "cell_type": "code",
   "execution_count": 41,
   "id": "cc13a09e",
   "metadata": {},
   "outputs": [],
   "source": [
    "FEM.applyBoundaryConditions!(K, M, f, [supp])"
   ]
  },
  {
   "cell_type": "code",
   "execution_count": 42,
   "id": "826de555",
   "metadata": {},
   "outputs": [
    {
     "data": {
      "text/plain": [
       "4.282263524466636e-8"
      ]
     },
     "metadata": {},
     "output_type": "display_data"
    }
   ],
   "source": [
    "Tmin = FEM.smallestPeriodTime(K, M)"
   ]
  },
  {
   "cell_type": "code",
   "execution_count": 43,
   "id": "92275a67",
   "metadata": {},
   "outputs": [
    {
     "data": {
      "text/plain": [
       "VectorField"
      ]
     },
     "metadata": {},
     "output_type": "display_data"
    },
    {
     "data": {
      "text/plain": [
       "196×32 Matrix{Float64}:\n",
       " 0.0  0.0          0.0          0.0         …   0.0          0.0\n",
       " 0.0  0.0          0.0          0.0             0.0          0.0\n",
       " 0.0  2.01762e-7   6.06278e-7   9.77961e-7      3.08195e-6   2.97149e-6\n",
       " 0.0  0.0          1.24238e-7   3.601e-7        8.37878e-7   5.48817e-7\n",
       " 0.0  2.01762e-7   6.0749e-7    9.74008e-7      3.13395e-6   2.99303e-6\n",
       " 0.0  0.0         -1.20354e-7  -3.57607e-7  …  -8.18659e-7  -5.58659e-7\n",
       " 0.0  0.0          0.0          0.0             0.0          0.0\n",
       " 0.0  0.0          0.0          0.0             0.0          0.0\n",
       " 0.0  0.0          0.0          0.0             8.3774e-7    7.18592e-7\n",
       " 0.0  0.0          0.0          0.0             2.36919e-6   2.28505e-6\n",
       " ⋮                                          ⋱   ⋮           \n",
       " 0.0  0.0          0.0          0.0            -1.90052e-6  -1.75778e-6\n",
       " 0.0  0.0          0.0          0.0             2.83936e-6   2.60713e-6\n",
       " 0.0  0.0          0.0          0.0            -1.94444e-6  -1.77408e-6\n",
       " 0.0  0.0          0.0          0.0         …   3.14138e-6   2.9028e-6\n",
       " 0.0  0.0          0.0          0.0            -1.85065e-6  -1.58862e-6\n",
       " 0.0  0.0          0.0          0.0             1.79055e-6   1.81284e-6\n",
       " 0.0  0.0          0.0          0.0            -1.79524e-6  -1.69006e-6\n",
       " 0.0  0.0          0.0          3.81151e-8      3.40758e-6   3.12614e-6\n",
       " 0.0  0.0          0.0         -5.84611e-9  …  -1.50876e-6  -1.39556e-6"
      ]
     },
     "metadata": {},
     "output_type": "display_data"
    },
    {
     "data": {
      "text/plain": [
       "VectorField"
      ]
     },
     "metadata": {},
     "output_type": "display_data"
    },
    {
     "data": {
      "text/plain": [
       "196×32 Matrix{Float64}:\n",
       " 0.0   0.0      0.0        0.0       …    0.0        0.0        0.0\n",
       " 0.0   0.0      0.0        0.0            0.0        0.0        0.0\n",
       " 0.0  14.8018  29.6765    27.2677       -36.1018   -23.2071    -8.10409\n",
       " 0.0   0.0      9.11447   17.3035       -25.759    -19.9353   -21.2064\n",
       " 0.0  14.8018  29.7654    26.8889       -32.9414   -23.2074   -10.338\n",
       " 0.0   0.0     -8.8295   -17.4056    …   24.1745    20.1215    19.0743\n",
       " 0.0   0.0      0.0        0.0            0.0        0.0        0.0\n",
       " 0.0   0.0      0.0        0.0            0.0        0.0        0.0\n",
       " 0.0   0.0      0.0        0.0           -6.95185  -13.211     -8.74105\n",
       " 0.0   0.0      0.0        0.0           -2.23073   -4.22233   -6.17326\n",
       " ⋮                                   ⋱               ⋮        \n",
       " 0.0   0.0      0.0        0.0           10.5682    10.9096    10.4716\n",
       " 0.0   0.0      0.0        0.0           -3.89859  -10.3448   -17.0369\n",
       " 0.0   0.0      0.0        0.0           13.8807     8.20835   12.4984\n",
       " 0.0   0.0      0.0        0.0       …  -15.0409   -15.9858   -17.5036\n",
       " 0.0   0.0      0.0        0.0            5.53587   15.9049    19.2232\n",
       " 0.0   0.0      0.0        0.0            4.38122   12.4732     1.63565\n",
       " 0.0   0.0      0.0        0.0           10.7545    10.6008     7.7162\n",
       " 0.0   0.0      0.0        2.79623      -26.2467   -26.7565   -20.6472\n",
       " 0.0   0.0      0.0       -0.428888  …    8.92183   12.4817     8.30445"
      ]
     },
     "metadata": {},
     "output_type": "display_data"
    },
    {
     "data": {
      "text/plain": [
       "(, )"
      ]
     },
     "metadata": {},
     "output_type": "display_data"
    }
   ],
   "source": [
    "u, v = FEM.CDM(K, M, f, u0, v0, 10Tmin, Tmin / π)"
   ]
  },
  {
   "cell_type": "code",
   "execution_count": 44,
   "id": "7d844bc4",
   "metadata": {},
   "outputs": [
    {
     "data": {
      "text/plain": [
       "0"
      ]
     },
     "metadata": {},
     "output_type": "display_data"
    }
   ],
   "source": [
    "FEM.showDoFResults(u, :uvec, visible=true)"
   ]
  },
  {
   "cell_type": "code",
   "execution_count": 45,
   "id": "2444071a",
   "metadata": {},
   "outputs": [
    {
     "data": {
      "text/plain": [
       "1"
      ]
     },
     "metadata": {},
     "output_type": "display_data"
    }
   ],
   "source": [
    "FEM.showDoFResults(v, :vvec)"
   ]
  },
  {
   "cell_type": "code",
   "execution_count": 46,
   "id": "7f4dcd1b",
   "metadata": {},
   "outputs": [
    {
     "data": {
      "text/plain": [
       "TensorField"
      ]
     },
     "metadata": {},
     "output_type": "display_data"
    },
    {
     "data": {
      "text/plain": [
       "162-element Vector{Matrix{Float64}}:\n",
       " [0.0 0.0 … 3.5760857234376182e-6 3.5776392288356156e-6; 0.0 0.0 … 1.381719319916727e-6 6.883729177633206e-7; … ; 0.0 0.0 … 0.0 0.0; 0.0 0.0 … 5.263940016607379e-6 4.790102602245721e-6]\n",
       " [0.0 0.0 … 4.831474527863384e-6 4.2749515809470996e-6; 0.0 0.0 … 6.046148669035398e-7 7.477052500653154e-7; … ; 0.0 0.0 … 0.0 0.0; 0.0 0.0 … 4.906130075538841e-6 4.402881159260841e-6]\n",
       " [0.0 0.0 … 4.536500426209625e-6 5.140710339512859e-6; 0.0 0.0 … -6.750544137102992e-7 -6.987529555873798e-7; … ; 0.0 0.0 … 0.0 0.0; 0.0 0.0 … 5.5683927303032094e-6 5.005411762320361e-6]\n",
       " [0.0 0.0 … 6.932040936330064e-6 6.902503887604091e-6; 0.0 0.0 … -3.602120785082574e-7 -4.6196337892994256e-7; … ; 0.0 0.0 … 0.0 0.0; 0.0 0.0 … 6.014771259310582e-6 5.191691538754512e-6]\n",
       " [0.0 0.0 … 5.090681876932617e-6 5.751616912847466e-6; 0.0 0.0 … -7.306656924871694e-7 -7.036379353206922e-7; … ; 0.0 0.0 … 0.0 0.0; 0.0 0.0 … 5.710490628360037e-6 5.349746136948757e-6]\n",
       " [0.0 0.0 … 5.0404706024672845e-6 4.758228261782715e-6; 0.0 0.0 … 7.111589751825479e-7 8.140128381030739e-7; … ; 0.0 0.0 … 0.0 0.0; 0.0 0.0 … 4.418672121508961e-6 3.729808988257367e-6]\n",
       " [0.0 1.4191871068390881e-6 … 2.156398862826303e-6 3.4414951332832385e-6; 0.0 -4.965353920651367e-8 … 1.1168836133766688e-7 8.147634497885386e-8; … ; 0.0 0.0 … 0.0 0.0; 0.0 2.0087965143191826e-7 … 5.203625588839815e-6 5.015644293109223e-6]\n",
       " [0.0 0.0 … 5.923197708563617e-6 6.272311034339481e-6; 0.0 0.0 … 1.0559902502430092e-6 3.542293020693912e-8; … ; 0.0 0.0 … 0.0 0.0; 0.0 0.0 … 6.600695571456715e-6 5.097611247607983e-6]\n",
       " [0.0 0.0 … 6.0587995412344115e-6 4.045816463886809e-6; 0.0 0.0 … 1.2248486965954084e-6 9.260798479863722e-7; … ; 0.0 0.0 … 0.0 0.0; 0.0 0.0 … 6.833447194989063e-6 6.757137209704001e-6]\n",
       " [0.0 0.0 … 6.647006895731616e-6 5.916957514092845e-6; 0.0 0.0 … 6.778708178691285e-7 2.637700655171001e-7; … ; 0.0 0.0 … 0.0 0.0; 0.0 0.0 … 7.976007516548235e-6 7.587345642761266e-6]\n",
       " ⋮\n",
       " [0.0 0.0 … 2.766056859651646e-6 2.3495563172846164e-6; 0.0 0.0 … 7.56293256646198e-7 -1.9915394118650843e-8; … ; 0.0 0.0 … 0.0 0.0; 0.0 0.0 … 4.442704607706578e-6 4.034268704723476e-6]\n",
       " [0.0 0.0 … 2.6308882126713343e-6 1.884907795395317e-6; 0.0 0.0 … -3.4854032968753685e-7 -2.9374256309303446e-7; … ; 0.0 0.0 … 0.0 0.0; 0.0 0.0 … 3.999720106706364e-6 3.692120169552888e-6]\n",
       " [0.0 0.0 … 5.957977747814137e-6 7.399092559744782e-6; 0.0 0.0 … -4.737598302564339e-6 -2.545039786088891e-6; … ; 0.0 0.0 … 0.0 0.0; 0.0 0.0 … 7.768917722941195e-6 5.301900865786778e-6]\n",
       " [0.0 0.0 … 2.162239877095513e-6 1.8103584397502808e-6; 0.0 0.0 … -1.6135616915188443e-7 -1.1679501630441688e-7; … ; 0.0 0.0 … 0.0 0.0; 0.0 0.0 … 5.026215325624064e-6 4.644472766133285e-6]\n",
       " [0.0 0.0 … 2.1589191673739582e-6 1.8151554441812267e-6; 0.0 0.0 … 1.8594362476539512e-7 -6.148620949878189e-7; … ; 0.0 0.0 … 0.0 0.0; 0.0 0.0 … 4.519146330847161e-6 4.100015501409322e-6]\n",
       " [0.0 0.0 … 6.25306392851849e-6 6.561610290177326e-6; 0.0 0.0 … 4.7771873850933795e-6 3.507659648217179e-6; … ; 0.0 0.0 … 0.0 0.0; 0.0 0.0 … 5.565471533488191e-6 6.058107260182716e-6]\n",
       " [0.0 0.0 … 1.347077868975742e-6 1.656066267318641e-6; 0.0 0.0 … 1.9358732206131386e-7 1.1640054919101402e-7; … ; 0.0 0.0 … 0.0 0.0; 0.0 0.0 … 3.999720106706364e-6 3.692120169552888e-6]\n",
       " [0.0 0.0 … 5.07075634784996e-6 5.971569138880473e-6; 0.0 0.0 … -1.7042944437450733e-6 -1.3873229072781567e-6; … ; 0.0 0.0 … 0.0 0.0; 0.0 0.0 … 7.699824719652271e-6 6.587194222405409e-6]\n",
       " [0.0 0.0 … 3.4802032272551205e-6 4.1247994768688585e-6; 0.0 0.0 … -5.199931423394832e-7 -5.970930582480991e-7; … ; 0.0 0.0 … 0.0 0.0; 0.0 0.0 … 5.107917373786068e-6 4.588500354949046e-6]"
      ]
     },
     "metadata": {},
     "output_type": "display_data"
    },
    {
     "data": {
      "text/plain": []
     },
     "metadata": {},
     "output_type": "display_data"
    }
   ],
   "source": [
    "e1 = FEM.solveStrain(u)"
   ]
  },
  {
   "cell_type": "code",
   "execution_count": 47,
   "id": "91be4964",
   "metadata": {},
   "outputs": [
    {
     "name": "stdout",
     "output_type": "stream",
     "text": [
      "Info    : Running Plugin(Smooth)...\n",
      "Info    : Done running Plugin(Smooth)\n"
     ]
    },
    {
     "data": {
      "text/plain": [
       "2"
      ]
     },
     "metadata": {},
     "output_type": "display_data"
    }
   ],
   "source": [
    "FEM.showStrainResults(e1, :e)"
   ]
  },
  {
   "cell_type": "code",
   "execution_count": 48,
   "id": "b0c70fc5",
   "metadata": {},
   "outputs": [
    {
     "data": {
      "text/plain": [
       "TensorField"
      ]
     },
     "metadata": {},
     "output_type": "display_data"
    },
    {
     "data": {
      "text/plain": [
       "882×32 Matrix{Float64}:\n",
       " 0.0  0.0          0.0           0.0         …   5.56243e-6   5.50099e-6\n",
       " 0.0  0.0          0.0           0.0             1.69354e-5   1.74234e-5\n",
       " 0.0  0.0          0.0           0.0             0.0          0.0\n",
       " 0.0  0.0          0.0           0.0             1.69354e-5   1.74234e-5\n",
       " 0.0  0.0          0.0           0.0            -8.78639e-7  -6.09222e-7\n",
       " 0.0  0.0          0.0           0.0         …   0.0          0.0\n",
       " 0.0  0.0          0.0           0.0             0.0          0.0\n",
       " 0.0  0.0          0.0           0.0             0.0          0.0\n",
       " 0.0  0.0          0.0           0.0             0.0          0.0\n",
       " 0.0  2.19005e-6   4.50733e-6    4.13799e-6      1.46591e-6   2.82284e-6\n",
       " ⋮                                           ⋱   ⋮           \n",
       " 0.0  0.0          2.64362e-7    1.37523e-6      2.69045e-6   2.60033e-6\n",
       " 0.0  0.0         -4.1165e-9    -2.29259e-8     -5.87628e-7  -5.84259e-7\n",
       " 0.0  0.0          0.0           0.0         …   0.0          0.0\n",
       " 0.0  0.0         -4.1165e-9    -2.29259e-8     -5.87628e-7  -5.84259e-7\n",
       " 0.0  0.0         -6.98838e-10  -2.42723e-8     -3.42042e-6  -2.49516e-6\n",
       " 0.0  0.0          0.0           0.0             0.0          0.0\n",
       " 0.0  0.0          0.0           0.0             0.0          0.0\n",
       " 0.0  0.0          0.0           0.0         …   0.0          0.0\n",
       " 0.0  0.0          0.0           5.08904e-8      4.54972e-6   4.17395e-6"
      ]
     },
     "metadata": {},
     "output_type": "display_data"
    },
    {
     "data": {
      "text/plain": []
     },
     "metadata": {},
     "output_type": "display_data"
    }
   ],
   "source": [
    "e2 = FEM.solveStrain(u, DoFResults=true)"
   ]
  },
  {
   "cell_type": "code",
   "execution_count": 49,
   "id": "b98876db",
   "metadata": {},
   "outputs": [
    {
     "data": {
      "text/plain": [
       "3"
      ]
     },
     "metadata": {},
     "output_type": "display_data"
    }
   ],
   "source": [
    "FEM.showDoFResults(e2, :e)"
   ]
  },
  {
   "cell_type": "code",
   "execution_count": 50,
   "id": "1c94217c",
   "metadata": {},
   "outputs": [
    {
     "data": {
      "text/plain": [
       "TensorField"
      ]
     },
     "metadata": {},
     "output_type": "display_data"
    },
    {
     "data": {
      "text/plain": [
       "882×32 Matrix{Float64}:\n",
       " 0.0  0.0          0.0           0.0         …   5.56243e-6   5.50099e-6\n",
       " 0.0  0.0          0.0           0.0             8.46771e-6   8.71171e-6\n",
       " 0.0  0.0          0.0           0.0             0.0          0.0\n",
       " 0.0  0.0          0.0           0.0             8.46771e-6   8.71171e-6\n",
       " 0.0  0.0          0.0           0.0            -8.78639e-7  -6.09222e-7\n",
       " 0.0  0.0          0.0           0.0         …   0.0          0.0\n",
       " 0.0  0.0          0.0           0.0             0.0          0.0\n",
       " 0.0  0.0          0.0           0.0             0.0          0.0\n",
       " 0.0  0.0          0.0           0.0             0.0          0.0\n",
       " 0.0  2.19005e-6   4.50733e-6    4.13799e-6      1.46591e-6   2.82284e-6\n",
       " ⋮                                           ⋱   ⋮           \n",
       " 0.0  0.0          2.64362e-7    1.37523e-6      2.69045e-6   2.60033e-6\n",
       " 0.0  0.0         -2.05825e-9   -1.14629e-8     -2.93814e-7  -2.92129e-7\n",
       " 0.0  0.0          0.0           0.0         …   0.0          0.0\n",
       " 0.0  0.0         -2.05825e-9   -1.14629e-8     -2.93814e-7  -2.92129e-7\n",
       " 0.0  0.0         -6.98838e-10  -2.42723e-8     -3.42042e-6  -2.49516e-6\n",
       " 0.0  0.0          0.0           0.0             0.0          0.0\n",
       " 0.0  0.0          0.0           0.0             0.0          0.0\n",
       " 0.0  0.0          0.0           0.0         …   0.0          0.0\n",
       " 0.0  0.0          0.0           5.08904e-8      4.54972e-6   4.17395e-6"
      ]
     },
     "metadata": {},
     "output_type": "display_data"
    },
    {
     "data": {
      "text/plain": []
     },
     "metadata": {},
     "output_type": "display_data"
    }
   ],
   "source": [
    "e3 = FEM.elementsToNodes(e1)"
   ]
  },
  {
   "cell_type": "code",
   "execution_count": 51,
   "id": "c9101a26",
   "metadata": {},
   "outputs": [
    {
     "data": {
      "text/plain": [
       "4"
      ]
     },
     "metadata": {},
     "output_type": "display_data"
    }
   ],
   "source": [
    "FEM.showDoFResults(e3, :e)"
   ]
  },
  {
   "cell_type": "code",
   "execution_count": 52,
   "id": "d928b289",
   "metadata": {},
   "outputs": [
    {
     "data": {
      "text/plain": [
       "TensorField"
      ]
     },
     "metadata": {},
     "output_type": "display_data"
    },
    {
     "data": {
      "text/plain": [
       "162-element Vector{Matrix{Float64}}:\n",
       " [0.0 0.0 … 1.0919246202611257 1.1538754426017006; 0.0 0.0 … 0.21257220306411184 0.10590352580974163; … ; 0.0 0.0 … 0.0 0.0; 0.0 0.0 … 1.3928802739489974 1.3850876665476646]\n",
       " [0.0 0.0 … 1.4083021619902287 1.1787827110438611; 0.0 0.0 … 0.09301767183131382 0.11503157693312545; … ; 0.0 0.0 … 0.0 0.0; 0.0 0.0 … 1.3785018684323909 1.1537847873631046]\n",
       " [0.0 0.0 … 1.516596437758631 1.6203085259009444; 0.0 0.0 … -0.10385452518619988 -0.10750045470575073; … ; 0.0 0.0 … 0.0 0.0; 0.0 0.0 … 1.6589531886126254 1.5597624707988222]\n",
       " [0.0 0.0 … 2.0290695433130037 1.799188436233012; 0.0 0.0 … -0.05541724284742421 -0.071071289066145; … ; 0.0 0.0 … 0.0 0.0; 0.0 0.0 … 1.9613100729768524 1.7250848481822585]\n",
       " [0.0 0.0 … 1.4484825572125741 1.5453751029767238; 0.0 0.0 … -0.1124101065364876 -0.10825199004933725; … ; 0.0 0.0 … 0.0 0.0; 0.0 0.0 … 1.5602336610541192 1.5232797191417373]\n",
       " [0.0 0.0 … 1.7256740573444946 1.46317547228263; 0.0 0.0 … 0.10940907310500737 0.12523274432354983; … ; 0.0 0.0 … 0.0 0.0; 0.0 0.0 … 1.5192064089637194 1.3253766784551648]\n",
       " [0.0 0.40383494414478793 … 1.0928247654201528 1.4611676306562065; 0.0 -0.007639006031771334 … 0.01718282482117952 0.012534822304439057; … ; 0.0 0.0 … 0.0 0.0; 0.0 0.21783534155925738 … 1.5426590528486264 1.6803627185819208]\n",
       " [0.0 0.0 … 1.7257738327928922 1.8254641215648473; 0.0 0.0 … 0.16246003849892449 0.0054496815702983255; … ; 0.0 0.0 … 0.0 0.0; 0.0 0.0 … 1.6713144334197318 1.3574640318576996]\n",
       " [0.0 0.0 … 1.5760996121465687 1.10327336370626; 0.0 0.0 … 0.18843826101467823 0.1424738227671342; … ; 0.0 0.0 … 0.0 0.0; 0.0 0.0 … 1.7748688830526407 1.6018999590640979]\n",
       " [0.0 0.0 … 1.7845543855340966 1.4257971817655535; 0.0 0.0 … 0.10428781813371207 0.04058001007955386; … ; 0.0 0.0 … 0.0 0.0; 0.0 0.0 … 2.147705859324137 1.970057016386074]\n",
       " ⋮\n",
       " [0.0 0.0 … 1.0588431259980395 0.9849895662284006; 0.0 0.0 … 0.1163528087147997 -0.003063906787484745; … ; 0.0 0.0 … 0.0 0.0; 0.0 0.0 … 1.3617019176595464 1.2765985037434608]\n",
       " [0.0 0.0 … 1.0280542061025046 0.8167083811366669; 0.0 0.0 … -0.05362158918269798 -0.045191163552774534; … ; 0.0 0.0 … 0.0 0.0; 0.0 0.0 … 1.186058846556081 1.0508639754483038]\n",
       " [0.0 0.0 … 1.7424689223525163 2.1401207546525134; 0.0 0.0 … -0.7288612773175907 -0.39154458247521395; … ; 0.0 0.0 … 0.0 0.0; 0.0 0.0 … 2.2613325559995308 1.696411562023184]\n",
       " [0.0 0.0 … 0.799821663609139 0.7327193689998874; 0.0 0.0 … -0.024824026023366835 -0.017968464046833367; … ; 0.0 0.0 … 0.0 0.0; 0.0 0.0 … 1.2310061116717619 1.1751953128108388]\n",
       " [0.0 0.0 … 0.7101293198077098 0.6806184818487523; 0.0 0.0 … 0.02860671150236848 -0.09459416845966444; … ; 0.0 0.0 … 0.0 0.0; 0.0 0.0 … 1.0147332301754828 0.9693134216464634]\n",
       " [0.0 0.0 … 2.149902230788335 2.053711656506168; 0.0 0.0 … 0.7349519053989815 0.539639945879566; … ; 0.0 0.0 … 0.0 0.0; 0.0 0.0 … 1.7659800181228995 1.7997990692863952]\n",
       " [0.0 0.0 … 0.5072411816611868 0.7378021037611917; 0.0 0.0 … 0.029782664932509823 0.01790777679861754; … ; 0.0 0.0 … 0.0 0.0; 0.0 0.0 … 0.8554061923727292 1.003976319659949]\n",
       " [0.0 0.0 … 1.445188538451741 1.506360614731447; 0.0 0.0 … -0.26219914519154974 -0.21343429342740872; … ; 0.0 0.0 … 0.0 0.0; 0.0 0.0 … 1.9590108171708456 1.624884866430751]\n",
       " [0.0 0.0 … 1.095534520694759 1.2566099979472738; 0.0 0.0 … -0.0799989449753051 -0.09186047049970755; … ; 0.0 0.0 … 0.0 0.0; 0.0 0.0 … 1.3671222021932843 1.3315146949405219]"
      ]
     },
     "metadata": {},
     "output_type": "display_data"
    },
    {
     "data": {
      "text/plain": []
     },
     "metadata": {},
     "output_type": "display_data"
    }
   ],
   "source": [
    "s1 = FEM.solveStress(u)"
   ]
  },
  {
   "cell_type": "code",
   "execution_count": 53,
   "id": "cab94d1a",
   "metadata": {},
   "outputs": [
    {
     "data": {
      "text/plain": [
       "5"
      ]
     },
     "metadata": {},
     "output_type": "display_data"
    }
   ],
   "source": [
    "FEM.showStressResults(s1, :s)"
   ]
  },
  {
   "cell_type": "code",
   "execution_count": 54,
   "id": "333756f3",
   "metadata": {},
   "outputs": [
    {
     "data": {
      "text/plain": [
       "TensorField"
      ]
     },
     "metadata": {},
     "output_type": "display_data"
    },
    {
     "data": {
      "text/plain": [
       "882×32 Matrix{Float64}:\n",
       " 0.0  0.0        0.0          …   1.61284     1.39619     1.41074\n",
       " 0.0  0.0        0.0              1.27729     1.30272     1.34026\n",
       " 0.0  0.0        0.0              0.0         0.0         0.0\n",
       " 0.0  0.0        0.0              1.27729     1.30272     1.34026\n",
       " 0.0  0.0        0.0              0.438421    0.405262    0.470709\n",
       " 0.0  0.0        0.0          …   0.0         0.0         0.0\n",
       " 0.0  0.0        0.0              0.0         0.0         0.0\n",
       " 0.0  0.0        0.0              0.0         0.0         0.0\n",
       " 0.0  0.0        0.0              0.615379    0.540437    0.564435\n",
       " 0.0  0.612908   1.1989           0.643038    0.523899    0.935508\n",
       " ⋮                            ⋱               ⋮          \n",
       " 0.0  0.0        0.0710938        0.913498    0.854656    0.893796\n",
       " 0.0  0.0       -0.000316654     -0.0942556  -0.0452021  -0.044943\n",
       " 0.0  0.0        0.0          …   0.0         0.0         0.0\n",
       " 0.0  0.0       -0.000316654     -0.0942556  -0.0452021  -0.044943\n",
       " 0.0  0.0        0.0303152       -0.208717   -0.0854774   0.109874\n",
       " 0.0  0.0        0.0              0.0         0.0         0.0\n",
       " 0.0  0.0        0.0              0.0         0.0         0.0\n",
       " 0.0  0.0        0.0          …   0.0         0.0         0.0\n",
       " 0.0  0.0        0.0304227        1.21877     1.1407      1.13589"
      ]
     },
     "metadata": {},
     "output_type": "display_data"
    },
    {
     "data": {
      "text/plain": []
     },
     "metadata": {},
     "output_type": "display_data"
    }
   ],
   "source": [
    "s2 = FEM.solveStress(u, DoFResults=true)"
   ]
  },
  {
   "cell_type": "code",
   "execution_count": 55,
   "id": "805958db",
   "metadata": {},
   "outputs": [
    {
     "data": {
      "text/plain": [
       "6"
      ]
     },
     "metadata": {},
     "output_type": "display_data"
    }
   ],
   "source": [
    "FEM.showDoFResults(s2, :s)"
   ]
  },
  {
   "cell_type": "code",
   "execution_count": 56,
   "id": "276261f2",
   "metadata": {},
   "outputs": [
    {
     "data": {
      "text/plain": [
       "TensorField"
      ]
     },
     "metadata": {},
     "output_type": "display_data"
    },
    {
     "data": {
      "text/plain": [
       "882×32 Matrix{Float64}:\n",
       " 0.0  0.0         0.0         …  1.65902e-6  1.13949e-6  2.4774e-7\n",
       " 0.0  0.0         0.0            2.54396e-7  1.30427e-7  1.80741e-7\n",
       " 0.0  0.0         0.0            0.0         0.0         0.0\n",
       " 0.0  0.0         0.0            2.54396e-7  1.30427e-7  1.80741e-7\n",
       " 0.0  0.0         0.0            1.15023e-6  8.78639e-7  6.09222e-7\n",
       " 0.0  0.0         0.0         …  0.0         0.0         0.0\n",
       " 0.0  0.0         0.0            0.0         0.0         0.0\n",
       " 0.0  0.0         0.0            0.0         0.0         0.0\n",
       " 0.0  0.0         0.0            0.0         0.0         0.0\n",
       " 0.0  5.75954e-7  2.92263e-7     1.25963e-6  4.67808e-7  1.98176e-8\n",
       " ⋮                            ⋱              ⋮           \n",
       " 0.0  0.0         3.74825e-7     3.58785e-7  8.45807e-7  9.08439e-7\n",
       " 0.0  0.0         1.43028e-7     2.81032e-7  3.95437e-7  2.62779e-7\n",
       " 0.0  0.0         0.0         …  0.0         0.0         0.0\n",
       " 0.0  0.0         1.43028e-7     2.81032e-7  3.95437e-7  2.62779e-7\n",
       " 0.0  0.0         1.26318e-8     5.53654e-7  3.31396e-7  5.96193e-7\n",
       " 0.0  0.0         0.0            0.0         0.0         0.0\n",
       " 0.0  0.0         0.0            0.0         0.0         0.0\n",
       " 0.0  0.0         0.0         …  0.0         0.0         0.0\n",
       " 0.0  0.0         0.0            0.0         0.0         0.0"
      ]
     },
     "metadata": {},
     "output_type": "display_data"
    },
    {
     "data": {
      "text/plain": []
     },
     "metadata": {},
     "output_type": "display_data"
    }
   ],
   "source": [
    "err1 = FEM.fieldError(e1)"
   ]
  },
  {
   "cell_type": "code",
   "execution_count": 57,
   "id": "4c6cccf6",
   "metadata": {},
   "outputs": [
    {
     "data": {
      "text/plain": [
       "7"
      ]
     },
     "metadata": {},
     "output_type": "display_data"
    }
   ],
   "source": [
    "FEM.showDoFResults(err1, :tensor)"
   ]
  },
  {
   "cell_type": "code",
   "execution_count": 58,
   "id": "7da85e1d",
   "metadata": {},
   "outputs": [
    {
     "data": {
      "text/plain": [
       "VectorField"
      ]
     },
     "metadata": {},
     "output_type": "display_data"
    },
    {
     "data": {
      "text/plain": [
       "196×32 Matrix{Float64}:\n",
       " 0.0   0.0           0.0           0.0          …   0.0          0.0\n",
       " 0.0   0.0           0.0           0.0              0.0          0.0\n",
       " 0.0   1.66718e-7    5.66996e-7    1.00939e-6       3.21666e-6   2.82394e-6\n",
       " 0.0   1.70835e-8    1.04397e-7    2.96255e-7       9.52397e-7   7.03375e-7\n",
       " 0.0   1.66716e-7    5.66556e-7    1.00655e-6       3.16339e-6   2.8372e-6\n",
       " 0.0  -1.67178e-8   -1.02552e-7   -2.92484e-7   …  -9.71317e-7  -6.51553e-7\n",
       " 0.0   0.0           0.0           0.0              0.0          0.0\n",
       " 0.0   0.0           0.0           0.0              0.0          0.0\n",
       " 0.0   1.08732e-14   2.96567e-13   3.96307e-12      1.08458e-6   1.06781e-6\n",
       " 0.0   4.58426e-15   1.30617e-13   1.82464e-12      2.20452e-6   2.07657e-6\n",
       " ⋮                                              ⋱   ⋮           \n",
       " 0.0  -3.55475e-14  -8.74652e-13  -1.04034e-11     -1.87704e-6  -1.6847e-6\n",
       " 0.0   9.85216e-12   1.69497e-10   1.41748e-9       2.73945e-6   2.52782e-6\n",
       " 0.0  -4.39858e-13  -8.37953e-12  -7.99779e-11     -1.91181e-6  -1.72704e-6\n",
       " 0.0   1.16914e-10   1.5885e-9     1.04433e-8   …   3.15667e-6   2.90701e-6\n",
       " 0.0  -1.16558e-13  -2.61911e-11  -3.65498e-10     -1.88903e-6  -1.70206e-6\n",
       " 0.0   1.00965e-13   2.42761e-12   2.85067e-11      1.64503e-6   1.68221e-6\n",
       " 0.0  -4.86438e-15  -1.33044e-13  -1.78022e-12     -1.78792e-6  -1.61856e-6\n",
       " 0.0   1.38014e-9    1.38993e-8    6.73146e-8       3.54179e-6   3.2509e-6\n",
       " 0.0  -1.63643e-10  -1.62048e-9   -7.90639e-9   …  -1.58351e-6  -1.42786e-6"
      ]
     },
     "metadata": {},
     "output_type": "display_data"
    },
    {
     "data": {
      "text/plain": [
       "VectorField"
      ]
     },
     "metadata": {},
     "output_type": "display_data"
    },
    {
     "data": {
      "text/plain": [
       "196×32 Matrix{Float64}:\n",
       " 0.0   0.0           0.0          …    0.0        0.0        0.0\n",
       " 0.0   0.0           0.0               0.0        0.0        0.0\n",
       " 0.0  24.4618       34.2694          -30.3815   -31.2284   -26.394\n",
       " 0.0   2.50659      10.3046          -21.3853   -20.0694   -16.4686\n",
       " 0.0  24.4615       34.2052          -34.4288   -27.1441   -20.7159\n",
       " 0.0  -2.45293     -10.1412       …   23.35      25.8289    21.0887\n",
       " 0.0   0.0           0.0               0.0        0.0        0.0\n",
       " 0.0   0.0           0.0               0.0        0.0        0.0\n",
       " 0.0   1.59538e-6    4.03232e-5       12.4907     5.44836   -7.90899\n",
       " 0.0   6.72629e-7    1.78196e-5      -16.38     -12.1857    -6.58682\n",
       " ⋮                                ⋱               ⋮        \n",
       " 0.0  -5.21574e-6   -0.000117903      14.7992    14.1894    14.0323\n",
       " 0.0   0.00144557    0.0219785       -11.2618   -16.1677   -14.8844\n",
       " 0.0  -6.45385e-5   -0.00110042       15.6092    14.7981    12.3128\n",
       " 0.0   0.0171543     0.198765     …  -16.8672   -18.0861   -18.545\n",
       " 0.0  -1.71021e-5   -0.0038087         7.41407   11.559     15.8735\n",
       " 0.0   1.48142e-5    0.000326564       6.67992    6.19102   -0.735318\n",
       " 0.0  -7.1373e-7    -1.80936e-5       11.3646    12.3579    12.491\n",
       " 0.0   0.202502      1.63438         -18.3429   -19.8661   -22.8156\n",
       " 0.0  -0.0240106    -0.189745     …    6.58692    9.41497   13.4222"
      ]
     },
     "metadata": {},
     "output_type": "display_data"
    },
    {
     "data": {
      "text/plain": [
       "(, )"
      ]
     },
     "metadata": {},
     "output_type": "display_data"
    }
   ],
   "source": [
    "u2, v2 = FEM.HHT(K, M, f, u0, v0, 10Tmin, Tmin / π)"
   ]
  },
  {
   "cell_type": "code",
   "execution_count": 59,
   "id": "6d342af9",
   "metadata": {},
   "outputs": [
    {
     "data": {
      "text/plain": [
       "8"
      ]
     },
     "metadata": {},
     "output_type": "display_data"
    }
   ],
   "source": [
    "FEM.showDoFResults(u2, :uvec)"
   ]
  },
  {
   "cell_type": "code",
   "execution_count": 60,
   "id": "4be0f8c5",
   "metadata": {},
   "outputs": [
    {
     "data": {
      "text/plain": [
       "9"
      ]
     },
     "metadata": {},
     "output_type": "display_data"
    }
   ],
   "source": [
    "FEM.showDoFResults(v2, :vvec)"
   ]
  },
  {
   "cell_type": "code",
   "execution_count": 61,
   "id": "e07f8b10",
   "metadata": {},
   "outputs": [
    {
     "name": "stdout",
     "output_type": "stream",
     "text": [
      "-------------------------------------------------------\n",
      "Version       : 4.13.1\n",
      "License       : GNU General Public License\n",
      "Build OS      : Linux64-sdk\n",
      "Build date    : 19700101\n",
      "Build host    : amdci7.julia.csail.mit.edu\n",
      "Build options : 64Bit ALGLIB[contrib] ANN[contrib] Bamg Blossom Cairo DIntegration Dlopen DomHex Eigen[contrib] Fltk GMP Gmm[contrib] Hxt Jpeg Kbipack LinuxJoystick MathEx[contrib] Mesh Metis[contrib] Mmg Mpeg Netgen Nii2mesh ONELAB ONELABMetamodel OpenCASCADE OpenCASCADE-CAF OpenGL OpenMP OptHom Parser Plugins Png Post QuadMeshingTools QuadTri Solver TetGen/BR TinyXML2[contrib] Untangle Voro++[contrib] WinslowUntangler Zlib\n",
      "FLTK version  : 1.3.8\n",
      "OCC version   : 7.7.2\n",
      "Packaged by   : root\n",
      "Web site      : https://gmsh.info\n",
      "Issue tracker : https://gitlab.onelab.info/gmsh/gmsh/issues\n",
      "-------------------------------------------------------\n"
     ]
    },
    {
     "name": "stderr",
     "output_type": "stream",
     "text": [
      "XRequest.18: BadValue 0x0\n"
     ]
    }
   ],
   "source": [
    "FEM.openPostProcessor()"
   ]
  },
  {
   "cell_type": "code",
   "execution_count": 62,
   "id": "076f84a7",
   "metadata": {},
   "outputs": [],
   "source": [
    "gmsh.finalize()"
   ]
  }
 ],
 "metadata": {
  "kernelspec": {
   "display_name": "Julia 1.11.7",
   "language": "julia",
   "name": "julia-1.11"
  },
  "language_info": {
   "file_extension": ".jl",
   "mimetype": "application/julia",
   "name": "julia",
   "version": "1.11.7"
  }
 },
 "nbformat": 4,
 "nbformat_minor": 5
}
