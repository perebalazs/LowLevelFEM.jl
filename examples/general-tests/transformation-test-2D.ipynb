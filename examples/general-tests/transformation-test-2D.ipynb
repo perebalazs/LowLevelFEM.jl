{
 "cells": [
  {
   "cell_type": "code",
   "execution_count": 1,
   "id": "e6971cbb",
   "metadata": {},
   "outputs": [],
   "source": [
    "using LowLevelFEM\n",
    "import LowLevelFEM as FEM\n",
    "gmsh.initialize()"
   ]
  },
  {
   "cell_type": "code",
   "execution_count": 2,
   "id": "98dbf98c",
   "metadata": {},
   "outputs": [
    {
     "name": "stdout",
     "output_type": "stream",
     "text": [
      "Info    : Reading 'test-twist-2D.geo'...\n",
      "Info    : Meshing 1D...\n",
      "Info    : Meshing curve 1 (Ellipse)\n",
      "Info    : Done meshing 1D (Wall 0.00020384s, CPU 0.000205s)\n",
      "Info    : Meshing 2D...\n",
      "Info    : Meshing surface 1 (Plane, Frontal-Delaunay)\n",
      "Info    : Done meshing 2D (Wall 0.01368s, CPU 0.013669s)\n",
      "Info    : Meshing 3D...\n",
      "Info    : Done meshing 3D (Wall 6.1704e-05s, CPU 6.1e-05s)\n",
      "Info    : Meshing order 2 (curvilinear on)...\n",
      "Info    : [  0%] Meshing curve 1 order 2\n",
      "Info    : [ 60%] Meshing surface 1 order 2\n",
      "Info    : Surface mesh: worst distortion = 1 (0 elements in ]0, 0.2]); worst gamma = 0.832493\n",
      "Info    : Done meshing order 2 (Wall 0.00190182s, CPU 0.001882s)\n",
      "Info    : 457 nodes 245 elements\n",
      "Info    : Done reading 'test-twist-2D.geo'\n"
     ]
    }
   ],
   "source": [
    "gmsh.open(\"test-twist-2D.geo\")"
   ]
  },
  {
   "cell_type": "code",
   "execution_count": 3,
   "id": "d6cfe4b5",
   "metadata": {},
   "outputs": [
    {
     "data": {
      "text/plain": [
       "LowLevelFEM.Material(\"body\", :Hooke, 200000.0, 0.0, 7.85e-9, 45.0, 4.2e8, 1.2e-5, 0.0, 100000.0, 66666.66666666667)"
      ]
     },
     "metadata": {},
     "output_type": "display_data"
    }
   ],
   "source": [
    "mat = FEM.material(\"body\", ν=0)"
   ]
  },
  {
   "cell_type": "code",
   "execution_count": 4,
   "id": "bd5fea8a",
   "metadata": {},
   "outputs": [
    {
     "name": "stdout",
     "output_type": "stream",
     "text": [
      "Info    : RCMK renumbering...\n",
      "Info    : Done RCMK renumbering (bandwidth is now 61)\n"
     ]
    },
    {
     "data": {
      "text/plain": [
       "LowLevelFEM.Problem(\"test-twist-2D\", :PlaneStress, 2, 2, LowLevelFEM.Material[LowLevelFEM.Material(\"body\", :Hooke, 200000.0, 0.0, 7.85e-9, 45.0, 4.2e8, 1.2e-5, 0.0, 100000.0, 66666.66666666667)], 1.0, 457)"
      ]
     },
     "metadata": {},
     "output_type": "display_data"
    }
   ],
   "source": [
    "problem = FEM.Problem([mat], type=:PlaneStress)"
   ]
  },
  {
   "cell_type": "code",
   "execution_count": 5,
   "id": "4eb4d450",
   "metadata": {},
   "outputs": [
    {
     "data": {
      "text/plain": [
       "LowLevelFEM.VectorField(Matrix{Float64}[], [-0.0; 0.001; … ; -0.0005123403412240721; -0.000320041499416656;;], [0.0], Int64[], 1, :u2D, LowLevelFEM.Problem(\"test-twist-2D\", :PlaneStress, 2, 2, LowLevelFEM.Material[LowLevelFEM.Material(\"body\", :Hooke, 200000.0, 0.0, 7.85e-9, 45.0, 4.2e8, 1.2e-5, 0.0, 100000.0, 66666.66666666667)], 1.0, 457))"
      ]
     },
     "metadata": {},
     "output_type": "display_data"
    }
   ],
   "source": [
    "ux(x, y, z) = -y * √(x^2 + y^2) / 100000\n",
    "uy(x, y, z) = x * √(x^2 + y^2) / 100000\n",
    "f = FEM.field(\"body\", fx=ux, fy=uy)\n",
    "u = FEM.vectorField(problem, [f])"
   ]
  },
  {
   "cell_type": "code",
   "execution_count": 6,
   "id": "091b7cd4",
   "metadata": {},
   "outputs": [
    {
     "data": {
      "text/plain": [
       "1"
      ]
     },
     "metadata": {},
     "output_type": "display_data"
    }
   ],
   "source": [
    "FEM.showDoFResults(problem, u, :uvec)"
   ]
  },
  {
   "cell_type": "code",
   "execution_count": 7,
   "id": "39740b7a",
   "metadata": {},
   "outputs": [
    {
     "data": {
      "text/plain": [
       "LowLevelFEM.Transformation(sparse([1, 2, 3, 4, 3, 4, 5, 6, 5, 6  …  909, 910, 911, 912, 911, 912, 913, 914, 913, 914], [1, 2, 3, 3, 4, 4, 5, 5, 6, 6  …  910, 910, 911, 911, 912, 912, 913, 913, 914, 914], [1.0, 1.0, 0.9807852804032307, 0.19509032201612778, -0.19509032201612778, 0.9807852804032307, 0.9238795325112872, 0.38268343236508884, -0.38268343236508884, 0.9238795325112872  …  0.5619822202213418, -0.827149311886972, 0.8844897680815804, -0.4665595890762423, 0.4665595890762423, 0.8844897680815804, -0.5297951123401976, 0.8481256622343398, -0.8481256622343398, -0.5297951123401976], 914, 914), 457, 2)"
      ]
     },
     "metadata": {},
     "output_type": "display_data"
    }
   ],
   "source": [
    "n1x(x, y) = x\n",
    "n1y(x, y) = y\n",
    "cs = FEM.CoordinateSystem([n1x, n1y])\n",
    "Q = FEM.rotateNodes(problem, \"body\", cs)"
   ]
  },
  {
   "cell_type": "code",
   "execution_count": 8,
   "id": "843bf77a",
   "metadata": {},
   "outputs": [
    {
     "data": {
      "text/plain": [
       "2"
      ]
     },
     "metadata": {},
     "output_type": "display_data"
    }
   ],
   "source": [
    "FEM.showDoFResults(problem, Q' * u, :uvec)"
   ]
  },
  {
   "cell_type": "code",
   "execution_count": 9,
   "id": "6cd30f4d",
   "metadata": {},
   "outputs": [
    {
     "data": {
      "text/plain": [
       "LowLevelFEM.TensorField([[3.9948259072060616e-5; 8.33332581824252e-6; … ; 0.0; 0.0;;], [2.6727478018022345e-5; 1.433317310303901e-5; … ; 0.0; -0.0;;], [3.203232161048302e-5; -9.519651913838276e-6; … ; 0.0; -0.0;;], [-1.6297475706821967e-5; 3.0555717684616415e-5; … ; 0.0; -0.0;;], [-3.4311241072321154e-5; 2.284905814242574e-5; … ; 0.0; -0.0;;], [-4.080935971924446e-5; -8.048033729158899e-6; … ; 0.0; -0.0;;], [3.942078175910122e-5; 7.508049792883341e-6; … ; 0.0; -0.0;;], [2.9483557923072612e-5; -4.4313318359132385e-6; … ; 0.0; 0.0;;], [-2.2357434235985144e-5; -3.426097418493285e-5; … ; 0.0; 0.0;;], [-2.8608212747288436e-5; 1.8112864456804349e-6; … ; 0.0; 0.0;;]  …  [-1.79521148075754e-5; 3.0320683752887664e-5; … ; 0.0; -0.0;;], [8.119419214513155e-6; -4.191447014125101e-5; … ; 0.0; 0.0;;], [3.4446508894494946e-5; -2.2982731009733897e-5; … ; 0.0; 0.0;;], [-9.426074365744134e-6; 4.165546763267334e-5; … ; 0.0; -0.0;;], [-3.696463838133272e-5; 5.042313726791856e-6; … ; 0.0; 0.0;;], [8.434070867616552e-6; -4.009056201278907e-5; … ; 0.0; 0.0;;], [8.283199438269815e-6; -2.8189550106770328e-5; … ; 0.0; -0.0;;], [2.3905814306168565e-5; -3.5553557328224495e-5; … ; 0.0; 0.0;;], [2.3864909942530248e-5; 3.4827641007044885e-5; … ; 0.0; 0.0;;], [4.239870946750517e-5; -8.368776303756004e-6; … ; 0.0; -0.0;;]], Matrix{Float64}(undef, 0, 0), [0.0], [34, 35, 36, 37, 38, 39, 40, 41, 42, 43  …  236, 237, 238, 239, 240, 241, 242, 243, 244, 245], 1, :e, LowLevelFEM.Problem(\"test-twist-2D\", :PlaneStress, 2, 2, LowLevelFEM.Material[LowLevelFEM.Material(\"body\", :Hooke, 200000.0, 0.0, 7.85e-9, 45.0, 4.2e8, 1.2e-5, 0.0, 100000.0, 66666.66666666667)], 1.0, 457))"
      ]
     },
     "metadata": {},
     "output_type": "display_data"
    }
   ],
   "source": [
    "E = FEM.solveStrain(problem, u)"
   ]
  },
  {
   "cell_type": "code",
   "execution_count": 10,
   "id": "7d485af6",
   "metadata": {},
   "outputs": [
    {
     "data": {
      "text/plain": [
       "LowLevelFEM.TensorField(Matrix{Float64}[], [2.0539206736704552e-8; 5.00368115043577e-5; … ; 0.0; 0.0;;], [0.0], Int64[], 1, :e, LowLevelFEM.Problem(\"test-twist-2D\", :PlaneStress, 2, 2, LowLevelFEM.Material[LowLevelFEM.Material(\"body\", :Hooke, 200000.0, 0.0, 7.85e-9, 45.0, 4.2e8, 1.2e-5, 0.0, 100000.0, 66666.66666666667)], 1.0, 457))"
      ]
     },
     "metadata": {},
     "output_type": "display_data"
    }
   ],
   "source": [
    "E1 = FEM.elementsToNodes(problem, E)"
   ]
  },
  {
   "cell_type": "code",
   "execution_count": 11,
   "id": "44c8f763",
   "metadata": {},
   "outputs": [
    {
     "data": {
      "text/plain": [
       "8"
      ]
     },
     "metadata": {},
     "output_type": "display_data"
    }
   ],
   "source": [
    "FEM.showDoFResults(problem, E1, :ex)\n",
    "FEM.showDoFResults(problem, E1, :ey)\n",
    "FEM.showDoFResults(problem, E1, :ez)\n",
    "FEM.showDoFResults(problem, E1, :exy)\n",
    "FEM.showDoFResults(problem, E1, :eyz)\n",
    "FEM.showDoFResults(problem, E1, :ezx)"
   ]
  },
  {
   "cell_type": "code",
   "execution_count": 12,
   "id": "29ae2052",
   "metadata": {},
   "outputs": [
    {
     "data": {
      "text/plain": [
       "14"
      ]
     },
     "metadata": {},
     "output_type": "display_data"
    }
   ],
   "source": [
    "FEM.showDoFResults(problem, Q' * E1 * Q, :ex)\n",
    "FEM.showDoFResults(problem, Q' * E1 * Q, :ey)\n",
    "FEM.showDoFResults(problem, Q' * E1 * Q, :ez)\n",
    "FEM.showDoFResults(problem, Q' * E1 * Q, :exy)\n",
    "FEM.showDoFResults(problem, Q' * E1 * Q, :eyz)\n",
    "FEM.showDoFResults(problem, Q' * E1 * Q, :ezx)"
   ]
  },
  {
   "cell_type": "code",
   "execution_count": 13,
   "id": "17c2ee65",
   "metadata": {},
   "outputs": [
    {
     "data": {
      "text/plain": [
       "LowLevelFEM.TensorField([[7.989651814412123; 1.666665163648504; … ; 0.0; 0.0;;], [5.345495603604469; 2.866634620607802; … ; 0.0; 0.0;;], [6.406464322096603; -1.903930382767655; … ; 0.0; 0.0;;], [-3.2594951413643933; 6.111143536923283; … ; 0.0; 0.0;;], [-6.8622482144642305; 4.569811628485148; … ; 0.0; 0.0;;], [-8.161871943848892; -1.6096067458317798; … ; 0.0; 0.0;;], [7.884156351820244; 1.5016099585766682; … ; 0.0; 0.0;;], [5.896711584614522; -0.8862663671826477; … ; 0.0; 0.0;;], [-4.471486847197029; -6.85219483698657; … ; 0.0; 0.0;;], [-5.7216425494576875; 0.36225728913608696; … ; 0.0; 0.0;;]  …  [-3.5904229615150802; 6.064136750577533; … ; 0.0; 0.0;;], [1.623883842902631; -8.382894028250202; … ; 0.0; 0.0;;], [6.889301778898989; -4.596546201946779; … ; 0.0; 0.0;;], [-1.8852148731488267; 8.331093526534668; … ; 0.0; 0.0;;], [-7.392927676266544; 1.0084627453583712; … ; 0.0; 0.0;;], [1.6868141735233104; -8.018112402557813; … ; 0.0; 0.0;;], [1.656639887653963; -5.637910021354066; … ; 0.0; 0.0;;], [4.781162861233713; -7.110711465644899; … ; 0.0; 0.0;;], [4.772981988506049; 6.965528201408977; … ; 0.0; 0.0;;], [8.479741893501034; -1.673755260751201; … ; 0.0; 0.0;;]], Matrix{Float64}(undef, 0, 0), [0.0], [34, 35, 36, 37, 38, 39, 40, 41, 42, 43  …  236, 237, 238, 239, 240, 241, 242, 243, 244, 245], 1, :s, LowLevelFEM.Problem(\"test-twist-2D\", :PlaneStress, 2, 2, LowLevelFEM.Material[LowLevelFEM.Material(\"body\", :Hooke, 200000.0, 0.0, 7.85e-9, 45.0, 4.2e8, 1.2e-5, 0.0, 100000.0, 66666.66666666667)], 1.0, 457))"
      ]
     },
     "metadata": {},
     "output_type": "display_data"
    }
   ],
   "source": [
    "S = FEM.solveStress(problem, u)"
   ]
  },
  {
   "cell_type": "code",
   "execution_count": 14,
   "id": "9c1333ce",
   "metadata": {},
   "outputs": [
    {
     "data": {
      "text/plain": [
       "LowLevelFEM.TensorField(Matrix{Float64}[], [0.0041078413473409105; 10.00736230087154; … ; 0.0; 0.0;;], [0.0], Int64[], 1, :s, LowLevelFEM.Problem(\"test-twist-2D\", :PlaneStress, 2, 2, LowLevelFEM.Material[LowLevelFEM.Material(\"body\", :Hooke, 200000.0, 0.0, 7.85e-9, 45.0, 4.2e8, 1.2e-5, 0.0, 100000.0, 66666.66666666667)], 1.0, 457))"
      ]
     },
     "metadata": {},
     "output_type": "display_data"
    }
   ],
   "source": [
    "S1 = FEM.elementsToNodes(problem, S)"
   ]
  },
  {
   "cell_type": "code",
   "execution_count": 15,
   "id": "bb7afefb",
   "metadata": {},
   "outputs": [
    {
     "data": {
      "text/plain": [
       "20"
      ]
     },
     "metadata": {},
     "output_type": "display_data"
    }
   ],
   "source": [
    "FEM.showDoFResults(problem, S1, :sx)\n",
    "FEM.showDoFResults(problem, S1, :sy)\n",
    "FEM.showDoFResults(problem, S1, :sz)\n",
    "FEM.showDoFResults(problem, S1, :sxy)\n",
    "FEM.showDoFResults(problem, S1, :syz)\n",
    "FEM.showDoFResults(problem, S1, :szx)"
   ]
  },
  {
   "cell_type": "code",
   "execution_count": 16,
   "id": "f8be7749",
   "metadata": {},
   "outputs": [
    {
     "data": {
      "text/plain": [
       "26"
      ]
     },
     "metadata": {},
     "output_type": "display_data"
    }
   ],
   "source": [
    "FEM.showDoFResults(problem, Q' * S1 * Q, :sx)\n",
    "FEM.showDoFResults(problem, Q' * S1 * Q, :sy)\n",
    "FEM.showDoFResults(problem, Q' * S1 * Q, :sz)\n",
    "FEM.showDoFResults(problem, Q' * S1 * Q, :sxy)\n",
    "FEM.showDoFResults(problem, Q' * S1 * Q, :syz)\n",
    "FEM.showDoFResults(problem, Q' * S1 * Q, :szx)"
   ]
  },
  {
   "cell_type": "code",
   "execution_count": 17,
   "id": "398fb162",
   "metadata": {},
   "outputs": [
    {
     "data": {
      "text/plain": [
       "3×3 Matrix{Float64}:\n",
       "  0.0272757  10.0009      0.0\n",
       " 10.0009     -0.00470896  0.0\n",
       "  0.0         0.0         0.0"
      ]
     },
     "metadata": {},
     "output_type": "display_data"
    }
   ],
   "source": [
    "FEM.probe(S, 10, 0, 0)"
   ]
  },
  {
   "cell_type": "code",
   "execution_count": 18,
   "id": "ba2fb59d",
   "metadata": {},
   "outputs": [
    {
     "data": {
      "text/plain": [
       "2-element Vector{Float64}:\n",
       " 0.0\n",
       " 0.001"
      ]
     },
     "metadata": {},
     "output_type": "display_data"
    }
   ],
   "source": [
    "FEM.probe(u, 10, 0, 0)"
   ]
  },
  {
   "cell_type": "code",
   "execution_count": 19,
   "id": "812da666",
   "metadata": {},
   "outputs": [
    {
     "name": "stdout",
     "output_type": "stream",
     "text": [
      "-------------------------------------------------------\n",
      "Version       : 4.13.1\n",
      "License       : GNU General Public License\n",
      "Build OS      : Linux64-sdk\n",
      "Build date    : 19700101\n",
      "Build host    : amdci7.julia.csail.mit.edu\n",
      "Build options : 64Bit ALGLIB[contrib] ANN[contrib] Bamg Blossom Cairo DIntegration Dlopen DomHex Eigen[contrib] Fltk GMP Gmm[contrib] Hxt Jpeg Kbipack LinuxJoystick MathEx[contrib] Mesh Metis[contrib] Mmg Mpeg Netgen Nii2mesh ONELAB ONELABMetamodel OpenCASCADE OpenCASCADE-CAF OpenGL OpenMP OptHom Parser Plugins Png Post QuadMeshingTools QuadTri Solver TetGen/BR TinyXML2[contrib] Untangle Voro++[contrib] WinslowUntangler Zlib\n",
      "FLTK version  : 1.3.8\n",
      "OCC version   : 7.7.2\n",
      "Packaged by   : root\n",
      "Web site      : https://gmsh.info\n",
      "Issue tracker : https://gitlab.onelab.info/gmsh/gmsh/issues\n",
      "-------------------------------------------------------\n"
     ]
    },
    {
     "name": "stderr",
     "output_type": "stream",
     "text": [
      "XOpenIM() failed\n",
      "XRequest.18: BadValue 0x0\n"
     ]
    }
   ],
   "source": [
    "FEM.openPostProcessor()"
   ]
  },
  {
   "cell_type": "code",
   "execution_count": 20,
   "id": "93228d4e",
   "metadata": {},
   "outputs": [],
   "source": [
    "gmsh.finalize()"
   ]
  }
 ],
 "metadata": {
  "kernelspec": {
   "display_name": "Julia 1.11.6",
   "language": "julia",
   "name": "julia-1.11"
  },
  "language_info": {
   "file_extension": ".jl",
   "mimetype": "application/julia",
   "name": "julia",
   "version": "1.11.6"
  }
 },
 "nbformat": 4,
 "nbformat_minor": 5
}
