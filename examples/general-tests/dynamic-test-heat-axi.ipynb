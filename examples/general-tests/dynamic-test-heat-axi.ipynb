{
 "cells": [
  {
   "cell_type": "code",
   "execution_count": 1,
   "id": "e95346f2",
   "metadata": {},
   "outputs": [
    {
     "name": "stdout",
     "output_type": "stream",
     "text": [
      "Info    : Increasing process stack size (8192 kB < 16 MB)\n"
     ]
    }
   ],
   "source": [
    "using LowLevelFEM\n",
    "import LowLevelFEM as FEM\n",
    "gmsh.initialize()"
   ]
  },
  {
   "cell_type": "code",
   "execution_count": 2,
   "id": "c376ef73",
   "metadata": {},
   "outputs": [
    {
     "name": "stdout",
     "output_type": "stream",
     "text": [
      "Info    : Reading 'body1-2D.geo'...\n",
      "Info    : Meshing 1D...\n",
      "Info    : [  0%] Meshing curve 1 (Line)\n",
      "Info    : [ 30%] Meshing curve 2 (Line)\n",
      "Info    : [ 60%] Meshing curve 3 (Line)\n",
      "Info    : [ 80%] Meshing curve 4 (Line)\n",
      "Info    : Done meshing 1D (Wall 0.00056861s, CPU 0.000567s)\n",
      "Info    : Meshing 2D...\n",
      "Info    : Meshing surface 1 (Plane, Frontal-Delaunay)\n",
      "Info    : Done meshing 2D (Wall 0.00783317s, CPU 0.007817s)\n",
      "Info    : Meshing order 2 (curvilinear on)...\n",
      "Info    : [  0%] Meshing curve 1 order 2\n",
      "Info    : [ 30%] Meshing curve 2 order 2\n",
      "Info    : [ 50%] Meshing curve 3 order 2\n",
      "Info    : [ 70%] Meshing curve 4 order 2\n",
      "Info    : [ 90%] Meshing surface 1 order 2\n",
      "Info    : Surface mesh: worst distortion = 1 (0 elements in ]0, 0.2]); worst gamma = 0.781163\n",
      "Info    : Done meshing order 2 (Wall 0.000923179s, CPU 0.000921s)\n",
      "Info    : 357 nodes 198 elements\n",
      "Info    : Done reading 'body1-2D.geo'\n"
     ]
    }
   ],
   "source": [
    "gmsh.open(\"body1-2D.geo\")"
   ]
  },
  {
   "cell_type": "code",
   "execution_count": 3,
   "id": "17d16e97",
   "metadata": {},
   "outputs": [
    {
     "name": "stdout",
     "output_type": "stream",
     "text": [
      "Info    : RCMK renumbering...\n",
      "Info    : Done RCMK renumbering (bandwidth is now 61)\n"
     ]
    },
    {
     "data": {
      "text/plain": [
       "LowLevelFEM.Problem(\"body1-2D\", :AxiSymmetricHeatConduction, 2, 1, LowLevelFEM.Material[LowLevelFEM.Material(\"body\", :Hooke, 200000.0, 0.3, 7.85e-9, 45.0, 4.2e8, 1.2e-5, 115384.61538461536, 76923.07692307692, 166666.66666666666)], 1.0, 357)"
      ]
     },
     "metadata": {},
     "output_type": "display_data"
    }
   ],
   "source": [
    "mat = FEM.material(\"body\")\n",
    "problem = FEM.Problem([mat], type=:AxiSymmetricHeatConduction)"
   ]
  },
  {
   "cell_type": "code",
   "execution_count": 4,
   "id": "cb740efb",
   "metadata": {},
   "outputs": [
    {
     "data": {
      "text/plain": [
       "(\"right\", 1, 0, 0)"
      ]
     },
     "metadata": {},
     "output_type": "display_data"
    }
   ],
   "source": [
    "supp = FEM.temperatureConstraint(\"left\", T=0)\n",
    "load = FEM.heatFlux(\"right\", qn=-1)"
   ]
  },
  {
   "cell_type": "code",
   "execution_count": 5,
   "id": "34e1f132",
   "metadata": {},
   "outputs": [
    {
     "data": {
      "text/plain": [
       "LowLevelFEM.ScalarField(Matrix{Float64}[], [0.0; 0.0; … ; 0.0; 0.0;;], [0.0], Int64[], 1, :T, LowLevelFEM.Problem(\"body1-2D\", :AxiSymmetricHeatConduction, 2, 1, LowLevelFEM.Material[LowLevelFEM.Material(\"body\", :Hooke, 200000.0, 0.3, 7.85e-9, 45.0, 4.2e8, 1.2e-5, 115384.61538461536, 76923.07692307692, 166666.66666666666)], 1.0, 357))"
      ]
     },
     "metadata": {},
     "output_type": "display_data"
    }
   ],
   "source": [
    "T0 = FEM.initialTemperature(problem, \"body\", T=0)"
   ]
  },
  {
   "cell_type": "code",
   "execution_count": 6,
   "id": "e2541d50",
   "metadata": {},
   "outputs": [
    {
     "data": {
      "text/plain": [
       "LowLevelFEM.ScalarField(Matrix{Float64}[], [0.0; 0.0; … ; 0.0; 0.0;;], [0.0], Int64[], 1, :T, LowLevelFEM.Problem(\"body1-2D\", :AxiSymmetricHeatConduction, 2, 1, LowLevelFEM.Material[LowLevelFEM.Material(\"body\", :Hooke, 200000.0, 0.3, 7.85e-9, 45.0, 4.2e8, 1.2e-5, 115384.61538461536, 76923.07692307692, 166666.66666666666)], 1.0, 357))"
      ]
     },
     "metadata": {},
     "output_type": "display_data"
    }
   ],
   "source": [
    "FEM.initialTemperature!(\"left\", T0, T=0)\n",
    "T0"
   ]
  },
  {
   "cell_type": "code",
   "execution_count": 7,
   "id": "93379cdd",
   "metadata": {},
   "outputs": [
    {
     "data": {
      "text/plain": [
       "LowLevelFEM.ScalarField(Matrix{Float64}[], [0.0; 0.1308996938995745; … ; 0.0; 0.0;;], Float64[], Int64[], 1, :qn, LowLevelFEM.Problem(\"body1-2D\", :AxiSymmetricHeatConduction, 2, 1, LowLevelFEM.Material[LowLevelFEM.Material(\"body\", :Hooke, 200000.0, 0.3, 7.85e-9, 45.0, 4.2e8, 1.2e-5, 115384.61538461536, 76923.07692307692, 166666.66666666666)], 1.0, 357))"
      ]
     },
     "metadata": {},
     "output_type": "display_data"
    }
   ],
   "source": [
    "K = FEM.heatConductionMatrix(problem)\n",
    "C = FEM.heatCapacityMatrix(problem)\n",
    "q = FEM.heatFluxVector(problem, [load])"
   ]
  },
  {
   "cell_type": "code",
   "execution_count": 8,
   "id": "cc13a09e",
   "metadata": {},
   "outputs": [],
   "source": [
    "FEM.applyBoundaryConditions!(K, C, q, [supp])"
   ]
  },
  {
   "cell_type": "code",
   "execution_count": 9,
   "id": "826de555",
   "metadata": {},
   "outputs": [
    {
     "data": {
      "text/plain": [
       "161562.79141166466"
      ]
     },
     "metadata": {},
     "output_type": "display_data"
    }
   ],
   "source": [
    "λmax = FEM.largestEigenValue(K, C)"
   ]
  },
  {
   "cell_type": "code",
   "execution_count": 10,
   "id": "92275a67",
   "metadata": {},
   "outputs": [
    {
     "data": {
      "text/plain": [
       "LowLevelFEM.ScalarField(Matrix{Float64}[], [0.0 0.0 … 0.0 0.0; 0.0 0.002644830444842868 … -0.8667328493325244 1.4552714235166495; … ; 0.0 2.0907265732800836e-6 … -0.05986754181062643 0.13312668815817752; 0.0 4.349831195705991e-6 … 0.06948173008849448 -0.08656855572588229], [0.0, 0.00036409082127011156, 0.0007281816425402231, 0.0010922724638103348, 0.0014563632850804462, 0.0018204541063505577, 0.002184544927620669, 0.0025486357488907806, 0.002912726570160892, 0.0032768173914310035, 0.003640908212701115, 0.004004999033971226, 0.004369089855241338, 0.00473318067651145, 0.005097271497781562, 0.005461362319051674, 0.005825453140321786, 0.006189543961591898, 0.00655363478286201, 0.0069177256041321215], Int64[], 20, :T, LowLevelFEM.Problem(\"body1-2D\", :AxiSymmetricHeatConduction, 2, 1, LowLevelFEM.Material[LowLevelFEM.Material(\"body\", :Hooke, 200000.0, 0.3, 7.85e-9, 45.0, 4.2e8, 1.2e-5, 115384.61538461536, 76923.07692307692, 166666.66666666666)], 1.0, 357))"
      ]
     },
     "metadata": {},
     "output_type": "display_data"
    }
   ],
   "source": [
    "ϑ = 0.33\n",
    "T = FEM.FDM(K, C, q, T0, 200 * (2 / ((1 - 2ϑ) * λmax)), 10 * 2 / ((1 - 2ϑ) * λmax), ϑ=ϑ)"
   ]
  },
  {
   "cell_type": "code",
   "execution_count": 11,
   "id": "dbc09cfb",
   "metadata": {},
   "outputs": [
    {
     "data": {
      "text/plain": [
       "LowLevelFEM.ScalarField(Matrix{Float64}[], [0.0 0.0 … 0.0 0.0; 0.0 0.012121530046179921 … 0.06540158786374889 0.06840790461983615; … ; 0.0 0.005276551637608011 … 0.05831544416510987 0.06124834953421595; 0.0 0.00570802450428725 … 0.05904444980835037 0.06199196309294858], [0.0, 0.01, 0.02, 0.03, 0.04, 0.05, 0.060000000000000005, 0.07, 0.08, 0.09, 0.09999999999999999, 0.10999999999999999, 0.11999999999999998, 0.12999999999999998, 0.13999999999999999], Int64[], 15, :T, LowLevelFEM.Problem(\"body1-2D\", :AxiSymmetricHeatConduction, 2, 1, LowLevelFEM.Material[LowLevelFEM.Material(\"body\", :Hooke, 200000.0, 0.3, 7.85e-9, 45.0, 4.2e8, 1.2e-5, 115384.61538461536, 76923.07692307692, 166666.66666666666)], 1.0, 357))"
      ]
     },
     "metadata": {},
     "output_type": "display_data"
    }
   ],
   "source": [
    "ϑ = 0.66\n",
    "T = FEM.FDM(K, C, q, T0, 0.15, 0.01, ϑ=ϑ)"
   ]
  },
  {
   "cell_type": "code",
   "execution_count": 12,
   "id": "7d844bc4",
   "metadata": {},
   "outputs": [
    {
     "data": {
      "text/plain": [
       "1"
      ]
     },
     "metadata": {},
     "output_type": "display_data"
    }
   ],
   "source": [
    "FEM.showDoFResults(T, :T, visible=true)"
   ]
  },
  {
   "cell_type": "code",
   "execution_count": 13,
   "id": "7f4dcd1b",
   "metadata": {},
   "outputs": [
    {
     "data": {
      "text/plain": [
       "LowLevelFEM.VectorField([[0.0 -0.7378240105496102 … -1.025693324301331 -1.0414608980229474; 0.0 -0.0011129965148889975 … 0.00030193798761235513 0.00032434667751601864; … ; 0.0 -0.9117353098320614 … -1.0133148658954534 -1.0245255708764034; 0.0 -0.00045505024536297844 … 0.0005471045078875303 0.0005848745906089636], [0.0 -1.0860352038863887 … -1.000999395625008 -1.0076542030550257; 0.0 0.0007947705814120853 … 0.0008882092071238468 0.0009428199164585038; … ; 0.0 -0.912030621722692 … -1.013299345263169 -1.0245079621662683; 0.0 -5.256251290469693e-6 … 0.0005234647988072716 0.000558054498671634], [0.0 -1.0458527507951125 … -1.0027659885373286 -1.0103166609734449; 0.0 -0.0001402941440262727 … 0.0006864738575984575 0.000726756273097956; … ; 0.0 -0.8820833096183798 … -1.0160853614731664 -1.0281164359788337; 0.0 0.0009631377078497122 … 0.0010856779282686357 0.0011497899077639318], [0.0 -0.19807986971391423 … -4.196609760463232 -4.421429445030323; 0.0 0.01482037780762585 … 0.36258815671512457 0.3823104531317717; … ; 0.0 -0.18610107208860235 … -3.070417075659022 -3.230725559136042; 0.0 0.0051764419921411856 … 0.1351872863982051 0.14256591077310865], [0.0 -0.7189002738420575 … -1.0293705633936967 -1.045880010003799; 0.0 0.0010842840916156643 … 0.0015421217374453344 0.0016334636678322356; … ; 0.0 -0.8826673087813321 … -1.0161264163716321 -1.028158172780838; 0.0 -1.5117080998244825e-5 … 0.0010169070231280664 0.0010798767485920013], [0.0 -0.1861092502752959 … -3.8532978887355505 -4.059343339021236; 0.0 0.021498912815752086 … 0.5541254757148206 0.5843221157142858; … ; 0.0 -0.17427467462144414 … -3.163751742820506 -3.3306733598748366; 0.0 0.012213426521499437 … 0.31014651809687016 0.3270443079441726], [0.0 -1.497882348979638 … -0.998414830519978 -0.9981233562486891; 0.0 0.0026597962276414533 … 0.001092934226620823 0.0011508203863264121; … ; 0.0 -1.4981206120754837 … -0.9984213193148245 -0.9981291867612568; 0.0 0.00011191284799809409 … 0.0007731385755654907 0.0008220973700490131], [0.0 -0.20452567612993566 … -4.446658816132658 -4.685472702122026; 0.0 -0.015683914113173193 … -0.3838363092486441 -0.40469969181266774; … ; 0.0 -0.18650826184040817 … -3.587421164054639 -3.777845239063055; 0.0 -0.006970020313532086 … -0.16782017979034392 -0.1769347285212236], [0.0 -0.20429541090203723 … -1.7590705092750314 -1.841530301771036; 0.0 -6.473376920407975e-5 … -0.005295302109588063 -0.005581619805480331; … ; 0.0 -0.1895717960162815 … -1.9606636590726878 -2.0560379236185655; 0.0 0.0008919780941672381 … 0.008041079326113199 0.00846851793872283], [0.0 -0.16141297185875295 … -2.563533260170183 -2.696654777419745; 0.0 -0.0022941172547029376 … -0.045738476590223565 -0.048188992426783095; … ; 0.0 -0.17596377313907474 … -3.3084637368734655 -3.483681931703157; 0.0 -0.012985744465049773 … -0.3269678615292293 -0.34475749951547396]  …  [0.0 -0.16991646387020298 … -2.6874151277425486 -2.826824964199901; 0.0 0.002865357326061399 … 0.046795695282434435 0.049311292265226125; … ; 0.0 -0.18613554882953626 … -2.191923128940258 -2.301107085803138; 0.0 3.2773362143509455e-5 … 0.0019814261074890815 0.00209161880801334], [0.0 -0.8571443418173693 … -1.0142489888756105 -1.0265088047879813; 0.0 -0.0028106792333185138 … -0.0002839360282091974 -0.00029512659867947377; … ; 0.0 -0.9806113805044668 … -1.0079249232467347 -1.017270835258478; 0.0 -0.001391315237955909 … 0.00012759590964805945 0.00014117327391094392], [0.0 -1.0516092701796411 … -1.0040713738877627 -1.0116647051173766; 0.0 0.0008928940288025627 … 0.00042000874069691996 0.0004386221143243274; … ; 0.0 -0.949155335758277 … -1.0100827178351734 -1.0201781938717758; 0.0 0.002262008567571333 … 0.0007474875901647415 0.0007866470995898656], [0.0 -0.16522888277934664 … -2.540887522824749 -2.6723093239766342; 0.0 -0.002322437769826588 … -0.050364159203020176 -0.05308048523931075; … ; 0.0 -0.1846739666656532 … -3.5045382002686405 -3.6903348546636856; 0.0 -0.012797951846872293 … -0.32161934514449986 -0.33911519643011256], [0.0 -0.5924360642190052 … -1.0631098853001586 -1.0857089344941828; 0.0 9.196627440213878e-5 … 0.0006143138978209617 0.0006557667218742846; … ; 0.0 -0.5407461174611993 … -1.0815829105721435 -1.1070340339195157; 0.0 0.002095555291223364 … 0.0021749060873066384 0.0022979722092447696], [0.0 -0.48901559996860083 … -1.1000275992280537 -1.1283292969816554; 0.0 -0.004346748086387631 … -0.002163532423216097 -0.0022710658090319136; … ; 0.0 -0.5418043617799388 … -1.0813244253242227 -1.1067223543417986; 0.0 -0.0023508249703012296 … -0.000711602971468217 -0.0007441298618393599], [0.0 -0.19423225992247692 … -4.155277368511131 -4.378159842172412; 0.0 0.020997787748523566 … 0.5357028224520444 0.5648688439835094; … ; 0.0 -0.17918276412075296 … -3.312317063886216 -3.487434293182219; 0.0 0.011546970669206388 … 0.2890842538256011 0.3048096120744048], [0.0 -0.5889778610087865 … -1.0606198217770935 -1.0830062218612269; 0.0 0.0045898669634328315 … 0.0025027742279337684 0.002640146860003467; … ; 0.0 -0.7173959166819318 … -1.0375312690015979 -1.0549766312042523; 0.0 -6.674941875853269e-5 … 0.0005553357400234216 0.000587969805153632], [0.0 -0.20383193797055943 … -1.7120200798385465 -1.7917700286889249; 0.0 0.0021685083640186203 … 0.034284333727175875 0.03613940430969187; … ; 0.0 -0.1877709063673107 … -2.131770410811768 -2.2373090004098355; 0.0 5.257487362964053e-6 … 0.00025263459341506866 0.00028062936095918367], [0.0 -0.8088199311622859 … -1.01902290838499 -1.0327404482406877; 0.0 0.003041352240408454 … 0.0019051440502682038 0.002014365207346769; … ; 0.0 -0.6985640930431313 … -1.0403157690620286 -1.0584335908149234; 0.0 -0.0001690647736245221 … 0.0006284582035576136 0.0006697579807457554]], Matrix{Float64}(undef, 0, 0), [0.0, 0.01, 0.02, 0.03, 0.04, 0.05, 0.060000000000000005, 0.07, 0.08, 0.09, 0.09999999999999999, 0.10999999999999999, 0.11999999999999998, 0.12999999999999998, 0.13999999999999999], [33, 34, 35, 36, 37, 38, 39, 40, 41, 42  …  185, 186, 187, 188, 189, 190, 191, 192, 193, 194], 15, :q2D, LowLevelFEM.Problem(\"body1-2D\", :AxiSymmetricHeatConduction, 2, 1, LowLevelFEM.Material[LowLevelFEM.Material(\"body\", :Hooke, 200000.0, 0.3, 7.85e-9, 45.0, 4.2e8, 1.2e-5, 115384.61538461536, 76923.07692307692, 166666.66666666666)], 1.0, 357))"
      ]
     },
     "metadata": {},
     "output_type": "display_data"
    }
   ],
   "source": [
    "q1 = FEM.solveHeatFlux(T)"
   ]
  },
  {
   "cell_type": "code",
   "execution_count": 14,
   "id": "18d60b6e",
   "metadata": {},
   "outputs": [
    {
     "data": {
      "text/plain": [
       "2-element Vector{Float64}:\n",
       " -1.0404450218969667\n",
       "  0.0020624831301164644"
      ]
     },
     "metadata": {},
     "output_type": "display_data"
    }
   ],
   "source": [
    "FEM.probe(q1, 0.5, 0.5, 0, step=10)"
   ]
  },
  {
   "cell_type": "code",
   "execution_count": 15,
   "id": "91be4964",
   "metadata": {},
   "outputs": [
    {
     "name": "stdout",
     "output_type": "stream",
     "text": [
      "Info    : Running Plugin(Smooth)...\n",
      "Info    : Done running Plugin(Smooth)\n"
     ]
    },
    {
     "data": {
      "text/plain": [
       "2"
      ]
     },
     "metadata": {},
     "output_type": "display_data"
    }
   ],
   "source": [
    "FEM.showHeatFluxResults(q1, :qvec)"
   ]
  },
  {
   "cell_type": "code",
   "execution_count": 16,
   "id": "b0c70fc5",
   "metadata": {},
   "outputs": [
    {
     "data": {
      "text/plain": [
       "LowLevelFEM.VectorField(Matrix{Float64}[], [0.0 -1.1326265559023114 … -28.886331411411753 -30.459591900261834; 0.0 -0.11832727642773351 … -2.986485213769326 -3.149013430773377; … ; 0.0 -0.651909998557965 … -1.04732919626435 -1.0671121606837013; 0.0 0.002375305075317455 … 0.0017128343656588885 0.0018085362762801371], [0.0, 0.01, 0.02, 0.03, 0.04, 0.05, 0.060000000000000005, 0.07, 0.08, 0.09, 0.09999999999999999, 0.10999999999999999, 0.11999999999999998, 0.12999999999999998, 0.13999999999999999], Int64[], 15, :q2D, LowLevelFEM.Problem(\"body1-2D\", :AxiSymmetricHeatConduction, 2, 1, LowLevelFEM.Material[LowLevelFEM.Material(\"body\", :Hooke, 200000.0, 0.3, 7.85e-9, 45.0, 4.2e8, 1.2e-5, 115384.61538461536, 76923.07692307692, 166666.66666666666)], 1.0, 357))"
      ]
     },
     "metadata": {},
     "output_type": "display_data"
    }
   ],
   "source": [
    "q2 = FEM.solveHeatFlux(T, DoFResults=true)"
   ]
  },
  {
   "cell_type": "code",
   "execution_count": 17,
   "id": "b98876db",
   "metadata": {},
   "outputs": [
    {
     "data": {
      "text/plain": [
       "3"
      ]
     },
     "metadata": {},
     "output_type": "display_data"
    }
   ],
   "source": [
    "FEM.showDoFResults(q2, :qvec)"
   ]
  },
  {
   "cell_type": "code",
   "execution_count": 18,
   "id": "669d2044",
   "metadata": {},
   "outputs": [
    {
     "data": {
      "text/plain": [
       "2-element Vector{Float64}:\n",
       " -1.0404930265575518\n",
       "  0.0023792349006771757"
      ]
     },
     "metadata": {},
     "output_type": "display_data"
    }
   ],
   "source": [
    "FEM.probe(q2, 0.5, 0.5, 0, step=10)"
   ]
  },
  {
   "cell_type": "code",
   "execution_count": 19,
   "id": "1c94217c",
   "metadata": {},
   "outputs": [
    {
     "data": {
      "text/plain": [
       "LowLevelFEM.VectorField(Matrix{Float64}[], [0.0 -1.1326265559023114 … -28.886331411411753 -30.459591900261834; 0.0 -0.11832727642773351 … -2.986485213769326 -3.149013430773377; … ; 0.0 -0.651909998557965 … -1.04732919626435 -1.0671121606837013; 0.0 0.002375305075317455 … 0.0017128343656588885 0.0018085362762801371], [0.0, 0.01, 0.02, 0.03, 0.04, 0.05, 0.060000000000000005, 0.07, 0.08, 0.09, 0.09999999999999999, 0.10999999999999999, 0.11999999999999998, 0.12999999999999998, 0.13999999999999999], Int64[], 15, :q2D, LowLevelFEM.Problem(\"body1-2D\", :AxiSymmetricHeatConduction, 2, 1, LowLevelFEM.Material[LowLevelFEM.Material(\"body\", :Hooke, 200000.0, 0.3, 7.85e-9, 45.0, 4.2e8, 1.2e-5, 115384.61538461536, 76923.07692307692, 166666.66666666666)], 1.0, 357))"
      ]
     },
     "metadata": {},
     "output_type": "display_data"
    }
   ],
   "source": [
    "q3 = FEM.elementsToNodes(q1)"
   ]
  },
  {
   "cell_type": "code",
   "execution_count": 20,
   "id": "c9101a26",
   "metadata": {},
   "outputs": [
    {
     "data": {
      "text/plain": [
       "4"
      ]
     },
     "metadata": {},
     "output_type": "display_data"
    }
   ],
   "source": [
    "FEM.showDoFResults(q3, :qvec)"
   ]
  },
  {
   "cell_type": "code",
   "execution_count": 21,
   "id": "276261f2",
   "metadata": {},
   "outputs": [
    {
     "data": {
      "text/plain": [
       "LowLevelFEM.VectorField(Matrix{Float64}[], [0.0 0.11832727642773344 … 2.9864852137693205 3.1490134307733744; 0.0 0.11832727642773351 … 2.986485213769326 3.149013430773377; … ; 0.0 0.00023879051160785592 … 0.0002710010623833137 0.0002850349771360561; 0.0 0.0002102775886964059 … 0.00023864201951800945 0.00025100020634688525], [0.0, 0.01, 0.02, 0.03, 0.04, 0.05, 0.060000000000000005, 0.07, 0.08, 0.09, 0.09999999999999999, 0.10999999999999999, 0.11999999999999998, 0.12999999999999998, 0.13999999999999999], Int64[], 15, :q2D, LowLevelFEM.Problem(\"body1-2D\", :AxiSymmetricHeatConduction, 2, 1, LowLevelFEM.Material[LowLevelFEM.Material(\"body\", :Hooke, 200000.0, 0.3, 7.85e-9, 45.0, 4.2e8, 1.2e-5, 115384.61538461536, 76923.07692307692, 166666.66666666666)], 1.0, 357))"
      ]
     },
     "metadata": {},
     "output_type": "display_data"
    }
   ],
   "source": [
    "err1 = FEM.fieldError(q1)"
   ]
  },
  {
   "cell_type": "code",
   "execution_count": 22,
   "id": "4c6cccf6",
   "metadata": {},
   "outputs": [
    {
     "data": {
      "text/plain": [
       "5"
      ]
     },
     "metadata": {},
     "output_type": "display_data"
    }
   ],
   "source": [
    "FEM.showDoFResults(err1, :vector)"
   ]
  },
  {
   "cell_type": "code",
   "execution_count": 23,
   "id": "e07f8b10",
   "metadata": {},
   "outputs": [
    {
     "name": "stdout",
     "output_type": "stream",
     "text": [
      "-------------------------------------------------------\n",
      "Version       : 4.13.1\n",
      "License       : GNU General Public License\n",
      "Build OS      : Linux64-sdk\n",
      "Build date    : 19700101\n",
      "Build host    : amdci7.julia.csail.mit.edu\n",
      "Build options : 64Bit ALGLIB[contrib] ANN[contrib] Bamg Blossom Cairo DIntegration Dlopen DomHex Eigen[contrib] Fltk GMP Gmm[contrib] Hxt Jpeg Kbipack LinuxJoystick MathEx[contrib] Mesh Metis[contrib] Mmg Mpeg Netgen Nii2mesh ONELAB ONELABMetamodel OpenCASCADE OpenCASCADE-CAF OpenGL OpenMP OptHom Parser Plugins Png Post QuadMeshingTools QuadTri Solver TetGen/BR TinyXML2[contrib] Untangle Voro++[contrib] WinslowUntangler Zlib\n",
      "FLTK version  : 1.3.8\n",
      "OCC version   : 7.7.2\n",
      "Packaged by   : root\n",
      "Web site      : https://gmsh.info\n",
      "Issue tracker : https://gitlab.onelab.info/gmsh/gmsh/issues\n",
      "-------------------------------------------------------\n"
     ]
    },
    {
     "name": "stderr",
     "output_type": "stream",
     "text": [
      "XOpenIM() failed\n",
      "XRequest.18: BadValue 0x0\n"
     ]
    }
   ],
   "source": [
    "FEM.openPostProcessor()"
   ]
  },
  {
   "cell_type": "code",
   "execution_count": 24,
   "id": "076f84a7",
   "metadata": {},
   "outputs": [],
   "source": [
    "gmsh.finalize()"
   ]
  }
 ],
 "metadata": {
  "kernelspec": {
   "display_name": "Julia 1.11.6",
   "language": "julia",
   "name": "julia-1.11"
  },
  "language_info": {
   "file_extension": ".jl",
   "mimetype": "application/julia",
   "name": "julia",
   "version": "1.11.6"
  }
 },
 "nbformat": 4,
 "nbformat_minor": 5
}
