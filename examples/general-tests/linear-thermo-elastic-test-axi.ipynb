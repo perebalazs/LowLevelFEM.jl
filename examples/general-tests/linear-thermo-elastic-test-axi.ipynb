{
 "cells": [
  {
   "cell_type": "code",
   "execution_count": 52,
   "id": "e95346f2",
   "metadata": {},
   "outputs": [],
   "source": [
    "using LowLevelFEM\n",
    "import LowLevelFEM as FEM\n",
    "gmsh.initialize()"
   ]
  },
  {
   "cell_type": "code",
   "execution_count": 53,
   "id": "c376ef73",
   "metadata": {},
   "outputs": [
    {
     "name": "stdout",
     "output_type": "stream",
     "text": [
      "Info    : Reading 'body1-2D.geo'...\n",
      "Info    : Meshing 1D...\n",
      "Info    : [  0%] Meshing curve 1 (Line)\n",
      "Info    : [ 30%] Meshing curve 2 (Line)\n",
      "Info    : [ 60%] Meshing curve 3 (Line)\n",
      "Info    : [ 80%] Meshing curve 4 (Line)\n",
      "Info    : Done meshing 1D (Wall 0.0004988s, CPU 0.000492s)\n",
      "Info    : Meshing 2D...\n",
      "Info    : Meshing surface 1 (Plane, Frontal-Delaunay)\n",
      "Info    : Done meshing 2D (Wall 0.0151588s, CPU 0.011106s)\n",
      "Info    : Meshing order 2 (curvilinear on)...\n",
      "Info    : [  0%] Meshing curve 1 order 2\n",
      "Info    : [ 30%] Meshing curve 2 order 2\n",
      "Info    : [ 50%] Meshing curve 3 order 2\n",
      "Info    : [ 70%] Meshing curve 4 order 2\n",
      "Info    : [ 90%] Meshing surface 1 order 2\n",
      "Info    : Surface mesh: worst distortion = 1 (0 elements in ]0, 0.2]); worst gamma = 0.781163\n",
      "Info    : Done meshing order 2 (Wall 0.00159145s, CPU 0.001587s)\n",
      "Info    : 357 nodes 198 elements\n",
      "Info    : Done reading 'body1-2D.geo'\n"
     ]
    }
   ],
   "source": [
    "gmsh.open(\"body1-2D.geo\")"
   ]
  },
  {
   "cell_type": "code",
   "execution_count": 54,
   "id": "17d16e97",
   "metadata": {},
   "outputs": [
    {
     "name": "stdout",
     "output_type": "stream",
     "text": [
      "Info    : RCMK renumbering...\n",
      "Info    : Done RCMK renumbering (bandwidth is now 61)\n"
     ]
    },
    {
     "data": {
      "text/plain": [
       "LowLevelFEM.Problem(\"body1-2D\", :AxiSymmetric, 2, 2, LowLevelFEM.Material[LowLevelFEM.Material(\"body\", :Hooke, 200000.0, 0.3, 7.85e-9, 45.0, 4.2e8, 1.2e-5, 115384.61538461536, 76923.07692307692, 166666.66666666666)], 1.0, 357)"
      ]
     },
     "metadata": {},
     "output_type": "display_data"
    }
   ],
   "source": [
    "mat = FEM.material(\"body\")\n",
    "problem = FEM.Problem([mat], type=:AxiSymmetric)"
   ]
  },
  {
   "cell_type": "code",
   "execution_count": 55,
   "id": "cb740efb",
   "metadata": {},
   "outputs": [
    {
     "data": {
      "text/plain": [
       "(\"right\", 1, 0, 0)"
      ]
     },
     "metadata": {},
     "output_type": "display_data"
    }
   ],
   "source": [
    "supp = FEM.displacementConstraint(\"left\", uy=0)\n",
    "load = FEM.load(\"right\", fx=1)"
   ]
  },
  {
   "cell_type": "code",
   "execution_count": 56,
   "id": "93379cdd",
   "metadata": {},
   "outputs": [
    {
     "data": {
      "text/plain": [
       "LowLevelFEM.VectorField(Matrix{Float64}[], [0.0; 0.0; … ; 0.0; 0.0;;], Float64[], Int64[], 1, :f2D, LowLevelFEM.Problem(\"body1-2D\", :AxiSymmetric, 2, 2, LowLevelFEM.Material[LowLevelFEM.Material(\"body\", :Hooke, 200000.0, 0.3, 7.85e-9, 45.0, 4.2e8, 1.2e-5, 115384.61538461536, 76923.07692307692, 166666.66666666666)], 1.0, 357))"
      ]
     },
     "metadata": {},
     "output_type": "display_data"
    }
   ],
   "source": [
    "K = FEM.stiffnessMatrix(problem)\n",
    "f = FEM.loadVector(problem, [load])"
   ]
  },
  {
   "cell_type": "code",
   "execution_count": 57,
   "id": "cc13a09e",
   "metadata": {},
   "outputs": [],
   "source": [
    "FEM.applyBoundaryConditions!(K, f, [supp])"
   ]
  },
  {
   "cell_type": "code",
   "execution_count": 58,
   "id": "85a20107",
   "metadata": {},
   "outputs": [
    {
     "data": {
      "text/plain": [
       "LowLevelFEM.VectorField(Matrix{Float64}[], [1.0253765896062089e-7; 0.0; … ; 2.502072421399843e-6; -1.0772663155238555e-6;;], [0.0], Int64[], 1, :u2D, LowLevelFEM.Problem(\"body1-2D\", :AxiSymmetric, 2, 2, LowLevelFEM.Material[LowLevelFEM.Material(\"body\", :Hooke, 200000.0, 0.3, 7.85e-9, 45.0, 4.2e8, 1.2e-5, 115384.61538461536, 76923.07692307692, 166666.66666666666)], 1.0, 357))"
      ]
     },
     "metadata": {},
     "output_type": "display_data"
    }
   ],
   "source": [
    "q1 = FEM.solveDisplacement(K, f)"
   ]
  },
  {
   "cell_type": "code",
   "execution_count": 59,
   "id": "7d844bc4",
   "metadata": {},
   "outputs": [
    {
     "data": {
      "text/plain": [
       "0"
      ]
     },
     "metadata": {},
     "output_type": "display_data"
    }
   ],
   "source": [
    "FEM.showDoFResults(q1, :uvec, visible=true)"
   ]
  },
  {
   "cell_type": "code",
   "execution_count": 60,
   "id": "868a2db1",
   "metadata": {},
   "outputs": [
    {
     "data": {
      "text/plain": [
       "LowLevelFEM.VectorField(Matrix{Float64}[], [1.0253765896062089e-7; 0.0; … ; 2.502072421399843e-6; -1.0772663155238555e-6;;], [0.0], Int64[], 1, :u2D, LowLevelFEM.Problem(\"body1-2D\", :AxiSymmetric, 2, 2, LowLevelFEM.Material[LowLevelFEM.Material(\"body\", :Hooke, 200000.0, 0.3, 7.85e-9, 45.0, 4.2e8, 1.2e-5, 115384.61538461536, 76923.07692307692, 166666.66666666666)], 1.0, 357))"
      ]
     },
     "metadata": {},
     "output_type": "display_data"
    }
   ],
   "source": [
    "q2 = FEM.solveDisplacement(problem, [load], [supp])"
   ]
  },
  {
   "cell_type": "code",
   "execution_count": 61,
   "id": "44b8eba1",
   "metadata": {},
   "outputs": [
    {
     "data": {
      "text/plain": [
       "1"
      ]
     },
     "metadata": {},
     "output_type": "display_data"
    }
   ],
   "source": [
    "FEM.showDoFResults(q2, :uvec)"
   ]
  },
  {
   "cell_type": "code",
   "execution_count": 62,
   "id": "f73f1bf4",
   "metadata": {},
   "outputs": [
    {
     "data": {
      "text/plain": [
       "(\"left\", 1.0e6, 1.0e6, 0)"
      ]
     },
     "metadata": {},
     "output_type": "display_data"
    }
   ],
   "source": [
    "elsupp = FEM.elasticSupport(\"left\", kx=1e6, ky=1e6)"
   ]
  },
  {
   "cell_type": "code",
   "execution_count": 63,
   "id": "bc86a194",
   "metadata": {},
   "outputs": [
    {
     "data": {
      "text/plain": [
       "LowLevelFEM.VectorField(Matrix{Float64}[], [-7.549409658927643e-22; 3.6624771905145024e-6; … ; 2.5132687310875674e-6; 1.0811844657212682e-6;;], [0.0], Int64[], 1, :u2D, LowLevelFEM.Problem(\"body1-2D\", :AxiSymmetric, 2, 2, LowLevelFEM.Material[LowLevelFEM.Material(\"body\", :Hooke, 200000.0, 0.3, 7.85e-9, 45.0, 4.2e8, 1.2e-5, 115384.61538461536, 76923.07692307692, 166666.66666666666)], 1.0, 357))"
      ]
     },
     "metadata": {},
     "output_type": "display_data"
    }
   ],
   "source": [
    "q4 = FEM.solveDisplacement(problem, [load], [], [elsupp])"
   ]
  },
  {
   "cell_type": "code",
   "execution_count": 64,
   "id": "893d44b2",
   "metadata": {},
   "outputs": [
    {
     "data": {
      "text/plain": [
       "2"
      ]
     },
     "metadata": {},
     "output_type": "display_data"
    }
   ],
   "source": [
    "FEM.showDoFResults(q4, :uvec)"
   ]
  },
  {
   "cell_type": "code",
   "execution_count": 65,
   "id": "0970c354",
   "metadata": {},
   "outputs": [
    {
     "data": {
      "text/plain": [
       "5.0"
      ]
     },
     "metadata": {},
     "output_type": "display_data"
    }
   ],
   "source": [
    "q3 = copy(q2)\n",
    "q3.a[1] = 5\n",
    "q2.a[1] = 3\n",
    "q3.a[1]"
   ]
  },
  {
   "cell_type": "code",
   "execution_count": 66,
   "id": "406e6594",
   "metadata": {},
   "outputs": [
    {
     "data": {
      "text/plain": [
       "LowLevelFEM.VectorField(Matrix{Float64}[], [1.5; 0.0; … ; 1.2510362106999216e-6; -5.386331577619278e-7;;], [0.0], Int64[], 1, :u2D, LowLevelFEM.Problem(\"body1-2D\", :AxiSymmetric, 2, 2, LowLevelFEM.Material[LowLevelFEM.Material(\"body\", :Hooke, 200000.0, 0.3, 7.85e-9, 45.0, 4.2e8, 1.2e-5, 115384.61538461536, 76923.07692307692, 166666.66666666666)], 1.0, 357))"
      ]
     },
     "metadata": {},
     "output_type": "display_data"
    }
   ],
   "source": [
    "q2 + q3\n",
    "q2 - q3\n",
    "q2 * 2\n",
    "2 * q2\n",
    "q2 / 2"
   ]
  },
  {
   "cell_type": "code",
   "execution_count": 67,
   "id": "09382e6e",
   "metadata": {},
   "outputs": [
    {
     "data": {
      "text/plain": [
       "LowLevelFEM.TensorField([[3.5143893525596915e-6; -2.1330733375845147e-8; … ; 0.0; 3.4784369620687236e-6;;], [3.51661214180191e-6; -1.1241680009389777e-8; … ; 0.0; 3.4784369620687236e-6;;], [3.5221771599354824e-6; 5.207359571490251e-9; … ; 0.0; 3.4720883536917085e-6;;], [3.395574282596782e-6; -4.397295166857885e-7; … ; 0.0; 3.2351449934507607e-6;;], [3.529097469936771e-6; 1.4919398241477146e-8; … ; 0.0; 3.4720883536917085e-6;;], [3.3695918659032263e-6; -4.075856478185839e-7; … ; 0.0; 3.177569486831874e-6;;], [3.5199348048809825e-6; 3.9552280604214984e-10; … ; 0.0; 3.4801548324537486e-6;;], [3.4719399568205177e-6; 8.743441232337806e-7; … ; 0.0; 3.1956448796464524e-6;;], [3.5318067850261125e-6; 8.145692002670482e-8; … ; 0.0; 3.4245958336343843e-6;;], [3.484557416248788e-6; 2.6911085629103045e-7; … ; 0.0; 3.1956448796464524e-6;;]  …  [3.5921099119496475e-6; -3.9825592034097e-7; … ; 0.0; 3.4832505004954827e-6;;], [3.498618681649571e-6; -1.5563760901750583e-8; … ; 0.0; 3.4867012347257137e-6;;], [3.5085814160152077e-6; 1.4401940741652804e-8; … ; 0.0; 3.4869783207043824e-6;;], [3.602704099153262e-6; -3.315145823217877e-7; … ; 0.0; 3.317931532437432e-6;;], [3.5236876358148253e-6; 2.3094477280778734e-8; … ; 0.0; 3.4737682445459696e-6;;], [3.5089644202708073e-6; 2.6868014949471336e-8; … ; 0.0; 3.482958804775026e-6;;], [3.614624227728328e-6; 9.6966714089657e-7; … ; 0.0; 3.313168882672345e-6;;], [3.4899875830503654e-6; 2.1941295633864542e-8; … ; 0.0; 3.48834162309763e-6;;], [3.5729240890525344e-6; -1.0299367744895832e-7; … ; 0.0; 3.3478209265605662e-6;;], [3.5164019245057605e-6; 2.0091854245436603e-8; … ; 0.0; 3.4750504447762233e-6;;]], Matrix{Float64}(undef, 0, 0), [0.0], [33, 34, 35, 36, 37, 38, 39, 40, 41, 42  …  185, 186, 187, 188, 189, 190, 191, 192, 193, 194], 1, :e, LowLevelFEM.Problem(\"body1-2D\", :AxiSymmetric, 2, 2, LowLevelFEM.Material[LowLevelFEM.Material(\"body\", :Hooke, 200000.0, 0.3, 7.85e-9, 45.0, 4.2e8, 1.2e-5, 115384.61538461536, 76923.07692307692, 166666.66666666666)], 1.0, 357))"
      ]
     },
     "metadata": {},
     "output_type": "display_data"
    }
   ],
   "source": [
    "A1 = FEM.solveStrain(q1)"
   ]
  },
  {
   "cell_type": "code",
   "execution_count": 68,
   "id": "81dd947c",
   "metadata": {},
   "outputs": [
    {
     "data": {
      "text/plain": [
       "LowLevelFEM.TensorField(Matrix{Float64}[], [3.5053156208313836e-6; 1.647887933086298e-5; … ; 0.0; 3.4844079212770398e-6;;], [0.0], Int64[], 1, :e, LowLevelFEM.Problem(\"body1-2D\", :AxiSymmetric, 2, 2, LowLevelFEM.Material[LowLevelFEM.Material(\"body\", :Hooke, 200000.0, 0.3, 7.85e-9, 45.0, 4.2e8, 1.2e-5, 115384.61538461536, 76923.07692307692, 166666.66666666666)], 1.0, 357))"
      ]
     },
     "metadata": {},
     "output_type": "display_data"
    }
   ],
   "source": [
    "A2 = FEM.solveStrain(q1, DoFResults=true)"
   ]
  },
  {
   "cell_type": "code",
   "execution_count": 69,
   "id": "a093e10e",
   "metadata": {},
   "outputs": [
    {
     "name": "stdout",
     "output_type": "stream",
     "text": [
      "Info    : Running Plugin(Smooth)...\n",
      "Info    : Done running Plugin(Smooth)\n"
     ]
    },
    {
     "data": {
      "text/plain": [
       "3"
      ]
     },
     "metadata": {},
     "output_type": "display_data"
    }
   ],
   "source": [
    "FEM.showStrainResults(A1, :e)"
   ]
  },
  {
   "cell_type": "code",
   "execution_count": 70,
   "id": "60dd8401",
   "metadata": {},
   "outputs": [
    {
     "data": {
      "text/plain": [
       "4"
      ]
     },
     "metadata": {},
     "output_type": "display_data"
    }
   ],
   "source": [
    "FEM.showDoFResults(A2, :e)"
   ]
  },
  {
   "cell_type": "code",
   "execution_count": 71,
   "id": "bfccc448",
   "metadata": {},
   "outputs": [
    {
     "data": {
      "text/plain": [
       "LowLevelFEM.TensorField(Matrix{Float64}[], [3.5053156208313836e-6; 8.23943966543149e-6; … ; 0.0; 3.4844079212770398e-6;;], [0.0], Int64[], 1, :e, LowLevelFEM.Problem(\"body1-2D\", :AxiSymmetric, 2, 2, LowLevelFEM.Material[LowLevelFEM.Material(\"body\", :Hooke, 200000.0, 0.3, 7.85e-9, 45.0, 4.2e8, 1.2e-5, 115384.61538461536, 76923.07692307692, 166666.66666666666)], 1.0, 357))"
      ]
     },
     "metadata": {},
     "output_type": "display_data"
    }
   ],
   "source": [
    "A3 = FEM.elementsToNodes(A1)"
   ]
  },
  {
   "cell_type": "code",
   "execution_count": 72,
   "id": "27dff127",
   "metadata": {},
   "outputs": [
    {
     "data": {
      "text/plain": [
       "5"
      ]
     },
     "metadata": {},
     "output_type": "display_data"
    }
   ],
   "source": [
    "FEM.showDoFResults(A3, :e)"
   ]
  },
  {
   "cell_type": "code",
   "execution_count": 73,
   "id": "739d00d8",
   "metadata": {},
   "outputs": [
    {
     "data": {
      "text/plain": [
       "LowLevelFEM.TensorField([[1.0013965325584007; -0.003281651288591561; … ; 0.0; 0.9955360058695047;;], [1.0010285218049446; -0.0017294892322138118; … ; 0.0; 0.9955630659764536;;], [1.0017390479654018; 0.0008011322417677309; … ; 0.0; 0.9946259264848133;;], [1.0210961619574674; -0.0676506948747367; … ; 0.0; 0.9866169587305373;;], [1.0040142737137316; 0.00229529203715033; … ; 0.0; 0.9946474000816148;;], [1.0191725348280045; -0.06270548427978213; … ; 0.0; 0.9820645634728655;;], [0.9997579722206935; 6.084966246802305e-5; … ; 0.0; 0.9937651383465806;;], [1.042113521547475; 0.1345144804975047; … ; 0.0; 0.987609406345219;;], [1.011003579616287; 0.01253183385026228; … ; 0.0; 0.9969055137602518;;], [1.024278657751167; 0.041401670198620066; … ; 0.0; 0.9902911478839054;;]  …  [1.035622739307955; -0.06127014159091846; … ; 0.0; 1.0074034413918214;;], [0.9987689411059633; -0.0023944247541154745; … ; 0.0; 0.9969024302490664;;], [1.0002502931198696; 0.002215683191023508; … ; 0.0; 0.9969488985794341;;], [1.016132075067191; -0.05100224343412118; … ; 0.0; 0.9942721128065894;;], [1.0033777764821692; 0.00355299650473519; … ; 0.0; 0.9955025582056096;;], [1.00041688727202; 0.004133540761457129; … ; 0.0; 0.9962552915457688;;], [1.0555089256347663; 0.14917956013793385; … ; 0.0; 0.9902968041584896;;], [0.9970525257625285; 0.003375583943671468; … ; 0.0; 0.9969277618718551;;], [1.0231036267058857; -0.01584518114599359; … ; 0.0; 0.9922807590979009;;], [1.0016724955233018; 0.0030910544992979387; … ; 0.0; 0.9955297874284731;;]], Matrix{Float64}(undef, 0, 0), [0.0], [33, 34, 35, 36, 37, 38, 39, 40, 41, 42  …  185, 186, 187, 188, 189, 190, 191, 192, 193, 194], 1, :s, LowLevelFEM.Problem(\"body1-2D\", :AxiSymmetric, 2, 2, LowLevelFEM.Material[LowLevelFEM.Material(\"body\", :Hooke, 200000.0, 0.3, 7.85e-9, 45.0, 4.2e8, 1.2e-5, 115384.61538461536, 76923.07692307692, 166666.66666666666)], 1.0, 357))"
      ]
     },
     "metadata": {},
     "output_type": "display_data"
    }
   ],
   "source": [
    "S1 = FEM.solveStress(q1)"
   ]
  },
  {
   "cell_type": "code",
   "execution_count": 74,
   "id": "45fe3f5f",
   "metadata": {},
   "outputs": [
    {
     "data": {
      "text/plain": [
       "LowLevelFEM.TensorField(Matrix{Float64}[], [0.8795607725586441; 1.2676061023740752; … ; 0.0; 0.9963882187485966;;], [0.0], Int64[], 1, :s, LowLevelFEM.Problem(\"body1-2D\", :AxiSymmetric, 2, 2, LowLevelFEM.Material[LowLevelFEM.Material(\"body\", :Hooke, 200000.0, 0.3, 7.85e-9, 45.0, 4.2e8, 1.2e-5, 115384.61538461536, 76923.07692307692, 166666.66666666666)], 1.0, 357))"
      ]
     },
     "metadata": {},
     "output_type": "display_data"
    }
   ],
   "source": [
    "S2 = FEM.solveStress(q1, DoFResults=true)"
   ]
  },
  {
   "cell_type": "code",
   "execution_count": 75,
   "id": "c9bdfc99",
   "metadata": {},
   "outputs": [
    {
     "name": "stdout",
     "output_type": "stream",
     "text": [
      "Info    : Running Plugin(Smooth)...\n",
      "Info    : Done running Plugin(Smooth)\n"
     ]
    },
    {
     "data": {
      "text/plain": [
       "6"
      ]
     },
     "metadata": {},
     "output_type": "display_data"
    }
   ],
   "source": [
    "FEM.showStressResults(S1, :s)"
   ]
  },
  {
   "cell_type": "code",
   "execution_count": 76,
   "id": "be62d671",
   "metadata": {},
   "outputs": [
    {
     "data": {
      "text/plain": [
       "7"
      ]
     },
     "metadata": {},
     "output_type": "display_data"
    }
   ],
   "source": [
    "FEM.showDoFResults(S2, :s)"
   ]
  },
  {
   "cell_type": "code",
   "execution_count": 77,
   "id": "1e24a75e",
   "metadata": {},
   "outputs": [
    {
     "data": {
      "text/plain": [
       "LowLevelFEM.TensorField(Matrix{Float64}[], [0.8795607725586441; 1.2676061023740752; … ; 0.0; 0.9963882187485966;;], [0.0], Int64[], 1, :s, LowLevelFEM.Problem(\"body1-2D\", :AxiSymmetric, 2, 2, LowLevelFEM.Material[LowLevelFEM.Material(\"body\", :Hooke, 200000.0, 0.3, 7.85e-9, 45.0, 4.2e8, 1.2e-5, 115384.61538461536, 76923.07692307692, 166666.66666666666)], 1.0, 357))"
      ]
     },
     "metadata": {},
     "output_type": "display_data"
    }
   ],
   "source": [
    "S3 = FEM.elementsToNodes(S1)"
   ]
  },
  {
   "cell_type": "code",
   "execution_count": 78,
   "id": "7c44010a",
   "metadata": {},
   "outputs": [
    {
     "data": {
      "text/plain": [
       "8"
      ]
     },
     "metadata": {},
     "output_type": "display_data"
    }
   ],
   "source": [
    "FEM.showDoFResults(S3, :s)"
   ]
  },
  {
   "cell_type": "code",
   "execution_count": 79,
   "id": "a0686542",
   "metadata": {},
   "outputs": [
    {
     "name": "stdout",
     "output_type": "stream",
     "text": [
      "Info    : RCMK renumbering...\n",
      "Info    : Done RCMK renumbering (bandwidth is now 61)\n",
      "Info    : Renumbering nodal model data (9 steps)\n"
     ]
    },
    {
     "data": {
      "text/plain": [
       "LowLevelFEM.Problem(\"body1-2D\", :PlaneHeatConduction, 2, 1, LowLevelFEM.Material[LowLevelFEM.Material(\"body\", :Hooke, 200000.0, 0.3, 7.85e-9, 45.0, 4.2e8, 1.2e-5, 115384.61538461536, 76923.07692307692, 166666.66666666666)], 1.0, 357)"
      ]
     },
     "metadata": {},
     "output_type": "display_data"
    }
   ],
   "source": [
    "thermo = FEM.Problem([mat], type=:PlaneHeatConduction)"
   ]
  },
  {
   "cell_type": "code",
   "execution_count": 80,
   "id": "ba6bc157",
   "metadata": {},
   "outputs": [
    {
     "data": {
      "text/plain": [
       "LowLevelFEM.ScalarField(Matrix{Float64}[], [0.0; -0.020833333333333297; … ; 0.0; 0.0;;], Float64[], Int64[], 1, :qn, LowLevelFEM.Problem(\"body1-2D\", :PlaneHeatConduction, 2, 1, LowLevelFEM.Material[LowLevelFEM.Material(\"body\", :Hooke, 200000.0, 0.3, 7.85e-9, 45.0, 4.2e8, 1.2e-5, 115384.61538461536, 76923.07692307692, 166666.66666666666)], 1.0, 357))"
      ]
     },
     "metadata": {},
     "output_type": "display_data"
    }
   ],
   "source": [
    "temp = FEM.temperatureConstraint(\"left\", T=0)\n",
    "flux = FEM.heatFlux(\"right\", qn=1)\n",
    "\n",
    "flx = FEM.heatFluxVector(thermo, [flux])"
   ]
  },
  {
   "cell_type": "code",
   "execution_count": 81,
   "id": "216e0638",
   "metadata": {},
   "outputs": [
    {
     "data": {
      "text/plain": [
       "LowLevelFEM.ScalarField(Matrix{Float64}[], [0.0; -0.022222222222222063; … ; -0.015266271406736236; -0.01595726178468288;;], [0.0], Int64[], 1, :T, LowLevelFEM.Problem(\"body1-2D\", :PlaneHeatConduction, 2, 1, LowLevelFEM.Material[LowLevelFEM.Material(\"body\", :Hooke, 200000.0, 0.3, 7.85e-9, 45.0, 4.2e8, 1.2e-5, 115384.61538461536, 76923.07692307692, 166666.66666666666)], 1.0, 357))"
      ]
     },
     "metadata": {},
     "output_type": "display_data"
    }
   ],
   "source": [
    "KT = FEM.heatConductionMatrix(thermo)\n",
    "\n",
    "FEM.applyBoundaryConditions!(KT, flx, [temp])\n",
    "\n",
    "T1 = FEM.solveTemperature(KT, flx)"
   ]
  },
  {
   "cell_type": "code",
   "execution_count": 82,
   "id": "256a8b96",
   "metadata": {},
   "outputs": [
    {
     "data": {
      "text/plain": [
       "9"
      ]
     },
     "metadata": {},
     "output_type": "display_data"
    }
   ],
   "source": [
    "FEM.showDoFResults(T1, :T)"
   ]
  },
  {
   "cell_type": "code",
   "execution_count": 83,
   "id": "e5018b61",
   "metadata": {},
   "outputs": [
    {
     "data": {
      "text/plain": [
       "LowLevelFEM.ScalarField(Matrix{Float64}[], [0.0; -0.022222222222222063; … ; -0.015266271406736236; -0.01595726178468288;;], [0.0], Int64[], 1, :T, LowLevelFEM.Problem(\"body1-2D\", :PlaneHeatConduction, 2, 1, LowLevelFEM.Material[LowLevelFEM.Material(\"body\", :Hooke, 200000.0, 0.3, 7.85e-9, 45.0, 4.2e8, 1.2e-5, 115384.61538461536, 76923.07692307692, 166666.66666666666)], 1.0, 357))"
      ]
     },
     "metadata": {},
     "output_type": "display_data"
    }
   ],
   "source": [
    "T2 = FEM.solveTemperature(thermo, [flux], [temp])"
   ]
  },
  {
   "cell_type": "code",
   "execution_count": 84,
   "id": "62b2b69c",
   "metadata": {},
   "outputs": [
    {
     "data": {
      "text/plain": [
       "10"
      ]
     },
     "metadata": {},
     "output_type": "display_data"
    }
   ],
   "source": [
    "FEM.showDoFResults(T2, :T)"
   ]
  },
  {
   "cell_type": "code",
   "execution_count": 85,
   "id": "6701b1aa",
   "metadata": {},
   "outputs": [
    {
     "data": {
      "text/plain": [
       "LowLevelFEM.VectorField([[0.9999999999999877; 9.992007221626409e-15; … ; 0.9999999999999964; -4.9960036108132044e-15;;], [0.9999999999999927; 4.9960036108132044e-15; … ; 0.9999999999999952; 2.4980018054066022e-15;;], [0.9999999999999964; -1.4363510381087963e-14; … ; 1.0000000000000002; -1.2490009027033011e-14;;], [0.9999999999999896; 2.4980018054066022e-15; … ; 0.999999999999991; -6.245004513516506e-16;;], [1.0000000000000064; -7.494005416219807e-15; … ; 1.0000000000000002; -7.494005416219807e-15;;], [0.9999999999999908; 2.4980018054066022e-15; … ; 0.9999999999999911; 3.122502256758253e-16;;], [1.000000000000004; 0.0; … ; 1.000000000000004; -8.743006318923108e-15;;], [0.9999999999999873; -6.245004513516506e-16; … ; 0.9999999999999902; -6.245004513516506e-16;;], [0.9999999999999915; 6.245004513516506e-16; … ; 0.9999999999999915; -3.434752482434078e-15;;], [0.9999999999999942; -6.245004513516506e-16; … ; 0.999999999999993; -1.8735013540549517e-15;;]  …  [0.9999999999999852; -2.4980018054066022e-15; … ; 0.9999999999999852; -3.747002708109903e-15;;], [0.9999999999999771; 9.992007221626409e-15; … ; 0.9999999999999915; -2.4980018054066022e-15;;], [1.0000000000000213; 2.4980018054066022e-15; … ; 1.0000000000000089; -4.9960036108132044e-15;;], [0.9999999999999892; -2.4980018054066022e-15; … ; 0.9999999999999896; -1.8735013540549517e-15;;], [0.9999999999999989; -2.4980018054066022e-15; … ; 0.9999999999999927; -2.4980018054066022e-15;;], [0.9999999999999871; 9.992007221626409e-15; … ; 0.9999999999999952; 7.494005416219807e-15;;], [0.9999999999999902; -1.2490009027033011e-15; … ; 0.9999999999999923; -2.185751579730777e-15;;], [0.9999999999999989; 2.4980018054066022e-15; … ; 1.0000000000000042; -7.494005416219807e-15;;], [0.9999999999999852; -3.747002708109903e-15; … ; 0.9999999999999876; -8.743006318923108e-15;;], [1.0000000000000013; 2.4980018054066022e-14; … ; 0.9999999999999942; 1.4988010832439613e-14;;]], Matrix{Float64}(undef, 0, 0), [0.0], [33, 34, 35, 36, 37, 38, 39, 40, 41, 42  …  185, 186, 187, 188, 189, 190, 191, 192, 193, 194], 1, :q2D, LowLevelFEM.Problem(\"body1-2D\", :PlaneHeatConduction, 2, 1, LowLevelFEM.Material[LowLevelFEM.Material(\"body\", :Hooke, 200000.0, 0.3, 7.85e-9, 45.0, 4.2e8, 1.2e-5, 115384.61538461536, 76923.07692307692, 166666.66666666666)], 1.0, 357))"
      ]
     },
     "metadata": {},
     "output_type": "display_data"
    }
   ],
   "source": [
    "qT1 = FEM.solveHeatFlux(T2)"
   ]
  },
  {
   "cell_type": "code",
   "execution_count": 86,
   "id": "df8e8b88",
   "metadata": {},
   "outputs": [
    {
     "name": "stdout",
     "output_type": "stream",
     "text": [
      "Info    : Running Plugin(Smooth)...\n",
      "Info    : Done running Plugin(Smooth)\n"
     ]
    },
    {
     "data": {
      "text/plain": [
       "11"
      ]
     },
     "metadata": {},
     "output_type": "display_data"
    }
   ],
   "source": [
    "FEM.showElementResults(qT1, :qvec)"
   ]
  },
  {
   "cell_type": "code",
   "execution_count": 87,
   "id": "9182fc68",
   "metadata": {},
   "outputs": [
    {
     "data": {
      "text/plain": [
       "LowLevelFEM.VectorField(Matrix{Float64}[], [0.999999999999994; -1.4051260155412137e-15; … ; 1.0000000000000064; 2.4980018054066022e-15;;], [0.0], Int64[], 1, :q2D, LowLevelFEM.Problem(\"body1-2D\", :PlaneHeatConduction, 2, 1, LowLevelFEM.Material[LowLevelFEM.Material(\"body\", :Hooke, 200000.0, 0.3, 7.85e-9, 45.0, 4.2e8, 1.2e-5, 115384.61538461536, 76923.07692307692, 166666.66666666666)], 1.0, 357))"
      ]
     },
     "metadata": {},
     "output_type": "display_data"
    }
   ],
   "source": [
    "qT2 = FEM.solveHeatFlux(T2, DoFResults=true)"
   ]
  },
  {
   "cell_type": "code",
   "execution_count": 88,
   "id": "8f78b4be",
   "metadata": {},
   "outputs": [
    {
     "data": {
      "text/plain": [
       "12"
      ]
     },
     "metadata": {},
     "output_type": "display_data"
    }
   ],
   "source": [
    "FEM.showDoFResults(qT2, :qvec)"
   ]
  },
  {
   "cell_type": "code",
   "execution_count": 89,
   "id": "f21b2d03",
   "metadata": {},
   "outputs": [
    {
     "data": {
      "text/plain": [
       "LowLevelFEM.VectorField(Matrix{Float64}[], [0.999999999999994; -1.4051260155412137e-15; … ; 1.0000000000000064; 2.4980018054066022e-15;;], [0.0], Int64[], 1, :q2D, LowLevelFEM.Problem(\"body1-2D\", :PlaneHeatConduction, 2, 1, LowLevelFEM.Material[LowLevelFEM.Material(\"body\", :Hooke, 200000.0, 0.3, 7.85e-9, 45.0, 4.2e8, 1.2e-5, 115384.61538461536, 76923.07692307692, 166666.66666666666)], 1.0, 357))"
      ]
     },
     "metadata": {},
     "output_type": "display_data"
    }
   ],
   "source": [
    "qT3 = FEM.elementsToNodes(qT1)"
   ]
  },
  {
   "cell_type": "code",
   "execution_count": 90,
   "id": "fb70e93f",
   "metadata": {},
   "outputs": [
    {
     "data": {
      "text/plain": [
       "13"
      ]
     },
     "metadata": {},
     "output_type": "display_data"
    }
   ],
   "source": [
    "FEM.showDoFResults(qT3, :qvec)"
   ]
  },
  {
   "cell_type": "code",
   "execution_count": 91,
   "id": "e1daf3ac",
   "metadata": {},
   "outputs": [
    {
     "data": {
      "text/plain": [
       "(\"top\", 100, 20, 0 + 2im)"
      ]
     },
     "metadata": {},
     "output_type": "display_data"
    }
   ],
   "source": [
    "heatconvB = FEM.heatConvection(\"bottom\", h=1, Tₐ=0)\n",
    "heatconvT = FEM.heatConvection(\"top\", h=100, Tₐ=20)"
   ]
  },
  {
   "cell_type": "code",
   "execution_count": 92,
   "id": "5b4844cb",
   "metadata": {},
   "outputs": [
    {
     "data": {
      "text/plain": [
       "LowLevelFEM.ScalarField(Matrix{Float64}[], [0.0; 6.024616756215297; … ; 10.3796740180515; 10.98348867262736;;], [0.0], Int64[], 1, :T, LowLevelFEM.Problem(\"body1-2D\", :PlaneHeatConduction, 2, 1, LowLevelFEM.Material[LowLevelFEM.Material(\"body\", :Hooke, 200000.0, 0.3, 7.85e-9, 45.0, 4.2e8, 1.2e-5, 115384.61538461536, 76923.07692307692, 166666.66666666666)], 1.0, 357))"
      ]
     },
     "metadata": {},
     "output_type": "display_data"
    }
   ],
   "source": [
    "T3 = FEM.solveTemperature(thermo, [], [temp], [heatconvB, heatconvT])"
   ]
  },
  {
   "cell_type": "code",
   "execution_count": 93,
   "id": "fde6bb7d",
   "metadata": {},
   "outputs": [
    {
     "data": {
      "text/plain": [
       "14"
      ]
     },
     "metadata": {},
     "output_type": "display_data"
    }
   ],
   "source": [
    "FEM.showDoFResults(T3, :T)"
   ]
  },
  {
   "cell_type": "code",
   "execution_count": 94,
   "id": "8cb70d7c",
   "metadata": {},
   "outputs": [
    {
     "data": {
      "text/plain": [
       "LowLevelFEM.VectorField(Matrix{Float64}[], [-2.459615580304121e-5; -2.727076956241131e-5; … ; 0.0017984535762595143; 1.249000902703301e-16;;], [0.0], Int64[], 1, :f2D, LowLevelFEM.Problem(\"body1-2D\", :AxiSymmetric, 2, 2, LowLevelFEM.Material[LowLevelFEM.Material(\"body\", :Hooke, 200000.0, 0.3, 7.85e-9, 45.0, 4.2e8, 1.2e-5, 115384.61538461536, 76923.07692307692, 166666.66666666666)], 1.0, 357))"
      ]
     },
     "metadata": {},
     "output_type": "display_data"
    }
   ],
   "source": [
    "fT = FEM.thermalLoadVector(problem, T1)"
   ]
  },
  {
   "cell_type": "code",
   "execution_count": 95,
   "id": "f38a169a",
   "metadata": {},
   "outputs": [
    {
     "data": {
      "text/plain": [
       "LowLevelFEM.VectorField(Matrix{Float64}[], [1.0253765896062089e-7; 0.0; … ; 2.502072421399843e-6; -1.0772663155238555e-6;;], [0.0], Int64[], 1, :u2D, LowLevelFEM.Problem(\"body1-2D\", :AxiSymmetric, 2, 2, LowLevelFEM.Material[LowLevelFEM.Material(\"body\", :Hooke, 200000.0, 0.3, 7.85e-9, 45.0, 4.2e8, 1.2e-5, 115384.61538461536, 76923.07692307692, 166666.66666666666)], 1.0, 357))"
      ]
     },
     "metadata": {},
     "output_type": "display_data"
    }
   ],
   "source": [
    "FEM.applyBoundaryConditions!(K, f, [supp])\n",
    "q5 = FEM.solveDisplacement(K, f)"
   ]
  },
  {
   "cell_type": "code",
   "execution_count": 96,
   "id": "6475f2b5",
   "metadata": {},
   "outputs": [
    {
     "data": {
      "text/plain": [
       "LowLevelFEM.TensorField([[1.1033521659185381; -0.003281651288591561; … ; 0.0; 1.1059636108513695;;], [1.1199280984085365; -0.0017294892322138118; … ; 0.0; 1.1059906709583183;;], [1.1189044958383978; 0.0008011322417677309; … ; 0.0; 1.103596240098447;;], [1.0368645199710396; -0.0676506948747367; … ; 0.0; 1.0111678044039898;;], [1.1047894530680031; 0.00229529203715033; … ; 0.0; 1.1036177136952485;;], [1.0349408928415766; -0.06270548427978213; … ; 0.0; 1.0024534793648634;;], [1.133091305554026; 6.084966246802305e-5; … ; 0.0; 1.1270984716799133;;], [1.0567115471726358; 0.1345144804975047; … ; 0.0; 1.0067666337826073;;], [1.052322493424773; 0.01253183385026228; … ; 0.0; 1.0334028502756862;;], [1.047995087000783; 0.041401670198620066; … ; 0.0; 1.0094483753212937;;]  …  [1.0606227393079548; -0.06127014159091846; … ; 0.0; 1.0407367747251544;;], [1.1070316516179477; -0.0023944247541154745; … ; 0.0; 1.1107604845569656;;], [1.117481021551377; 0.002215683191023508; … ; 0.0; 1.109440681383095;;], [1.0411320750671909; -0.05100224343412118; … ; 0.0; 1.013666498343737;;], [1.0948286245360144; 0.00355299650473519; … ; 0.0; 1.0828946488991984;;], [1.0837502206053526; 0.004133540761457129; … ; 0.0; 1.083734567146781;;], [1.070106951259927; 0.14917956013793385; … ; 0.0; 1.010338040712969;;], [1.0886777436312205; 0.003375583943671468; … ; 0.0; 1.0966167893941081;;], [1.0648793175832156; -0.01584518114599359; … ; 0.0; 1.026574533832639;;], [1.1073161467214454; 0.0030910544992979387; … ; 0.0; 1.0940770370544675;;]], Matrix{Float64}(undef, 0, 0), [0.0], [33, 34, 35, 36, 37, 38, 39, 40, 41, 42  …  185, 186, 187, 188, 189, 190, 191, 192, 193, 194], 1, :s, LowLevelFEM.Problem(\"body1-2D\", :AxiSymmetric, 2, 2, LowLevelFEM.Material[LowLevelFEM.Material(\"body\", :Hooke, 200000.0, 0.3, 7.85e-9, 45.0, 4.2e8, 1.2e-5, 115384.61538461536, 76923.07692307692, 166666.66666666666)], 1.0, 357))"
      ]
     },
     "metadata": {},
     "output_type": "display_data"
    }
   ],
   "source": [
    "ST1 = FEM.solveStress(q5, T=T1)"
   ]
  },
  {
   "cell_type": "code",
   "execution_count": 97,
   "id": "20c45766",
   "metadata": {},
   "outputs": [
    {
     "data": {
      "text/plain": [
       "LowLevelFEM.TensorField([[1.0013965325584007; -0.003281651288591561; … ; 0.0; 0.9955360058695047;;], [1.0010285218049446; -0.0017294892322138118; … ; 0.0; 0.9955630659764536;;], [1.0017390479654018; 0.0008011322417677309; … ; 0.0; 0.9946259264848133;;], [1.0210961619574674; -0.0676506948747367; … ; 0.0; 0.9866169587305373;;], [1.0040142737137316; 0.00229529203715033; … ; 0.0; 0.9946474000816148;;], [1.0191725348280045; -0.06270548427978213; … ; 0.0; 0.9820645634728655;;], [0.9997579722206935; 6.084966246802305e-5; … ; 0.0; 0.9937651383465806;;], [1.042113521547475; 0.1345144804975047; … ; 0.0; 0.987609406345219;;], [1.011003579616287; 0.01253183385026228; … ; 0.0; 0.9969055137602518;;], [1.024278657751167; 0.041401670198620066; … ; 0.0; 0.9902911478839054;;]  …  [1.035622739307955; -0.06127014159091846; … ; 0.0; 1.0074034413918214;;], [0.9987689411059633; -0.0023944247541154745; … ; 0.0; 0.9969024302490664;;], [1.0002502931198696; 0.002215683191023508; … ; 0.0; 0.9969488985794341;;], [1.016132075067191; -0.05100224343412118; … ; 0.0; 0.9942721128065894;;], [1.0033777764821692; 0.00355299650473519; … ; 0.0; 0.9955025582056096;;], [1.00041688727202; 0.004133540761457129; … ; 0.0; 0.9962552915457688;;], [1.0555089256347663; 0.14917956013793385; … ; 0.0; 0.9902968041584896;;], [0.9970525257625285; 0.003375583943671468; … ; 0.0; 0.9969277618718551;;], [1.0231036267058857; -0.01584518114599359; … ; 0.0; 0.9922807590979009;;], [1.0016724955233018; 0.0030910544992979387; … ; 0.0; 0.9955297874284731;;]], Matrix{Float64}(undef, 0, 0), [0.0], [33, 34, 35, 36, 37, 38, 39, 40, 41, 42  …  185, 186, 187, 188, 189, 190, 191, 192, 193, 194], 1, :s, LowLevelFEM.Problem(\"body1-2D\", :AxiSymmetric, 2, 2, LowLevelFEM.Material[LowLevelFEM.Material(\"body\", :Hooke, 200000.0, 0.3, 7.85e-9, 45.0, 4.2e8, 1.2e-5, 115384.61538461536, 76923.07692307692, 166666.66666666666)], 1.0, 357))"
      ]
     },
     "metadata": {},
     "output_type": "display_data"
    }
   ],
   "source": [
    "ST2 = FEM.solveStress(q5, T=T1, T₀=T1)"
   ]
  },
  {
   "cell_type": "code",
   "execution_count": 98,
   "id": "0cf15977",
   "metadata": {},
   "outputs": [
    {
     "name": "stdout",
     "output_type": "stream",
     "text": [
      "Info    : Running Plugin(Smooth)...\n",
      "Info    : Done running Plugin(Smooth)\n"
     ]
    },
    {
     "data": {
      "text/plain": [
       "15"
      ]
     },
     "metadata": {},
     "output_type": "display_data"
    }
   ],
   "source": [
    "FEM.showElementResults(ST1, :s)"
   ]
  },
  {
   "cell_type": "code",
   "execution_count": 99,
   "id": "7b06da70",
   "metadata": {},
   "outputs": [
    {
     "name": "stdout",
     "output_type": "stream",
     "text": [
      "Info    : Running Plugin(Smooth)...\n",
      "Info    : Done running Plugin(Smooth)\n"
     ]
    },
    {
     "data": {
      "text/plain": [
       "16"
      ]
     },
     "metadata": {},
     "output_type": "display_data"
    }
   ],
   "source": [
    "FEM.showElementResults(ST2, :s)"
   ]
  },
  {
   "cell_type": "code",
   "execution_count": 100,
   "id": "e07f8b10",
   "metadata": {},
   "outputs": [
    {
     "name": "stdout",
     "output_type": "stream",
     "text": [
      "-------------------------------------------------------\n",
      "Version       : 4.13.1\n",
      "License       : GNU General Public License\n",
      "Build OS      : Linux64-sdk\n",
      "Build date    : 19700101\n",
      "Build host    : amdci7.julia.csail.mit.edu\n",
      "Build options : 64Bit ALGLIB[contrib] ANN[contrib] Bamg Blossom Cairo DIntegration Dlopen DomHex Eigen[contrib] Fltk GMP Gmm[contrib] Hxt Jpeg Kbipack LinuxJoystick MathEx[contrib] Mesh Metis[contrib] Mmg Mpeg Netgen Nii2mesh ONELAB ONELABMetamodel OpenCASCADE OpenCASCADE-CAF OpenGL OpenMP OptHom Parser Plugins Png Post QuadMeshingTools QuadTri Solver TetGen/BR TinyXML2[contrib] Untangle Voro++[contrib] WinslowUntangler Zlib\n",
      "FLTK version  : 1.3.8\n",
      "OCC version   : 7.7.2\n",
      "Packaged by   : root\n",
      "Web site      : https://gmsh.info\n",
      "Issue tracker : https://gitlab.onelab.info/gmsh/gmsh/issues\n",
      "-------------------------------------------------------\n"
     ]
    },
    {
     "name": "stderr",
     "output_type": "stream",
     "text": [
      "XRequest.18: BadValue 0x0\n"
     ]
    }
   ],
   "source": [
    "FEM.openPostProcessor()"
   ]
  },
  {
   "cell_type": "code",
   "execution_count": 101,
   "id": "076f84a7",
   "metadata": {},
   "outputs": [],
   "source": [
    "gmsh.finalize()"
   ]
  }
 ],
 "metadata": {
  "kernelspec": {
   "display_name": "Julia 1.11.6",
   "language": "julia",
   "name": "julia-1.11"
  },
  "language_info": {
   "file_extension": ".jl",
   "mimetype": "application/julia",
   "name": "julia",
   "version": "1.11.6"
  }
 },
 "nbformat": 4,
 "nbformat_minor": 5
}
