{
 "cells": [
  {
   "cell_type": "code",
   "execution_count": 23,
   "id": "e95346f2",
   "metadata": {},
   "outputs": [],
   "source": [
    "using LowLevelFEM\n",
    "import LowLevelFEM as FEM\n",
    "gmsh.initialize()"
   ]
  },
  {
   "cell_type": "code",
   "execution_count": 24,
   "id": "c376ef73",
   "metadata": {},
   "outputs": [
    {
     "name": "stdout",
     "output_type": "stream",
     "text": [
      "Info    : Reading 'body2.geo'...\n",
      "Info    : Meshing 1D...\n",
      "Info    : [  0%] Meshing curve 1 (Line)\n",
      "Info    : [ 10%] Meshing curve 2 (Line)\n",
      "Info    : [ 20%] Meshing curve 3 (Line)\n",
      "Info    : [ 30%] Meshing curve 4 (Line)\n",
      "Info    : [ 40%] Meshing curve 5 (Line)\n",
      "Info    : [ 50%] Meshing curve 6 (Line)\n",
      "Info    : [ 60%] Meshing curve 7 (Line)\n",
      "Info    : [ 60%] Meshing curve 8 (Line)\n",
      "Info    : [ 70%] Meshing curve 9 (Line)\n",
      "Info    : [ 80%] Meshing curve 10 (Line)\n",
      "Info    : [ 90%] Meshing curve 11 (Line)\n",
      "Info    : [100%] Meshing curve 12 (Line)\n",
      "Info    : Done meshing 1D (Wall 0.000908227s, CPU 0.000909s)\n",
      "Info    : Meshing 2D...\n",
      "Info    : [  0%] Meshing surface 1 (Transfinite)\n",
      "Info    : [ 20%] Meshing surface 2 (Transfinite)\n",
      "Info    : [ 40%] Meshing surface 3 (Transfinite)\n",
      "Info    : [ 60%] Meshing surface 4 (Transfinite)\n",
      "Info    : [ 70%] Meshing surface 5 (Transfinite)\n",
      "Info    : [ 90%] Meshing surface 6 (Transfinite)\n",
      "Info    : Done meshing 2D (Wall 0.000375413s, CPU 0.00037s)\n",
      "Info    : Meshing 3D...\n",
      "Info    : Meshing volume 1 (Transfinite)\n",
      "Info    : Done meshing 3D (Wall 0.00187212s, CPU 0.001869s)\n",
      "Info    : Optimizing mesh...\n",
      "Info    : Done optimizing mesh (Wall 7.0622e-05s, CPU 7.1e-05s)\n",
      "Info    : Meshing order 2 (curvilinear on)...\n",
      "Info    : [  0%] Meshing curve 1 order 2\n",
      "Info    : [ 10%] Meshing curve 2 order 2\n",
      "Info    : [ 20%] Meshing curve 3 order 2\n",
      "Info    : [ 20%] Meshing curve 4 order 2\n",
      "Info    : [ 30%] Meshing curve 5 order 2\n",
      "Info    : [ 30%] Meshing curve 6 order 2\n",
      "Info    : [ 40%] Meshing curve 7 order 2\n",
      "Info    : [ 40%] Meshing curve 8 order 2\n",
      "Info    : [ 50%] Meshing curve 9 order 2\n",
      "Info    : [ 50%] Meshing curve 10 order 2\n",
      "Info    : [ 60%] Meshing curve 11 order 2\n",
      "Info    : [ 60%] Meshing curve 12 order 2\n",
      "Info    : [ 70%] Meshing surface 1 order 2\n",
      "Info    : [ 70%] Meshing surface 2 order 2\n",
      "Info    : [ 80%] Meshing surface 3 order 2\n",
      "Info    : [ 80%] Meshing surface 4 order 2\n",
      "Info    : [ 90%] Meshing surface 5 order 2\n",
      "Info    : [ 90%] Meshing surface 6 order 2\n",
      "Info    : [100%] Meshing volume 1 order 2\n",
      "Info    : Done meshing order 2 (Wall 0.0135652s, CPU 0.013547s)\n",
      "Info    : 3321 nodes 792 elements\n",
      "Info    : Done reading 'body2.geo'\n"
     ]
    }
   ],
   "source": [
    "gmsh.open(\"body2.geo\")"
   ]
  },
  {
   "cell_type": "code",
   "execution_count": 25,
   "id": "17d16e97",
   "metadata": {},
   "outputs": [
    {
     "name": "stdout",
     "output_type": "stream",
     "text": [
      "Info    : RCMK renumbering...\n",
      "Info    : Done RCMK renumbering (bandwidth is now 386)\n"
     ]
    },
    {
     "data": {
      "text/plain": [
       "LowLevelFEM.Problem(\"body2\", :HeatConduction, 3, 1, LowLevelFEM.Material[LowLevelFEM.Material(\"body\", :Hooke, 200000.0, 0.3, 7.85e-9, 45.0, 4.2e8, 1.2e-5, 115384.61538461536, 76923.07692307692, 166666.66666666666)], 1.0, 3321)"
      ]
     },
     "metadata": {},
     "output_type": "display_data"
    }
   ],
   "source": [
    "mat = FEM.material(\"body\")\n",
    "problem = FEM.Problem([mat], type=:HeatConduction)"
   ]
  },
  {
   "cell_type": "code",
   "execution_count": 26,
   "id": "cb740efb",
   "metadata": {},
   "outputs": [
    {
     "data": {
      "text/plain": [
       "(\"right\", 1, 0, 0)"
      ]
     },
     "metadata": {},
     "output_type": "display_data"
    }
   ],
   "source": [
    "supp = FEM.temperatureConstraint(\"left\", T=0)\n",
    "load = FEM.heatFlux(\"right\", qn=-1)"
   ]
  },
  {
   "cell_type": "code",
   "execution_count": 27,
   "id": "34e1f132",
   "metadata": {},
   "outputs": [
    {
     "data": {
      "text/plain": [
       "LowLevelFEM.ScalarField(Matrix{Float64}[], [0.0; 0.0; … ; 0.0; 0.0;;], [0.0], Int64[], 1, :T, LowLevelFEM.Problem(\"body2\", :HeatConduction, 3, 1, LowLevelFEM.Material[LowLevelFEM.Material(\"body\", :Hooke, 200000.0, 0.3, 7.85e-9, 45.0, 4.2e8, 1.2e-5, 115384.61538461536, 76923.07692307692, 166666.66666666666)], 1.0, 3321))"
      ]
     },
     "metadata": {},
     "output_type": "display_data"
    }
   ],
   "source": [
    "T0 = FEM.initialTemperature(problem, \"body\", T=0)"
   ]
  },
  {
   "cell_type": "code",
   "execution_count": 28,
   "id": "e2541d50",
   "metadata": {},
   "outputs": [
    {
     "data": {
      "text/plain": [
       "LowLevelFEM.ScalarField(Matrix{Float64}[], [0.0; 0.0; … ; 0.0; 0.0;;], [0.0], Int64[], 1, :T, LowLevelFEM.Problem(\"body2\", :HeatConduction, 3, 1, LowLevelFEM.Material[LowLevelFEM.Material(\"body\", :Hooke, 200000.0, 0.3, 7.85e-9, 45.0, 4.2e8, 1.2e-5, 115384.61538461536, 76923.07692307692, 166666.66666666666)], 1.0, 3321))"
      ]
     },
     "metadata": {},
     "output_type": "display_data"
    }
   ],
   "source": [
    "FEM.initialTemperature!(\"left\", T0, T=0)\n",
    "T0"
   ]
  },
  {
   "cell_type": "code",
   "execution_count": 29,
   "id": "93379cdd",
   "metadata": {},
   "outputs": [
    {
     "data": {
      "text/plain": [
       "LowLevelFEM.ScalarField(Matrix{Float64}[], [0.0; 0.0; … ; 0.0; 0.0;;], Float64[], Int64[], 1, :qn, LowLevelFEM.Problem(\"body2\", :HeatConduction, 3, 1, LowLevelFEM.Material[LowLevelFEM.Material(\"body\", :Hooke, 200000.0, 0.3, 7.85e-9, 45.0, 4.2e8, 1.2e-5, 115384.61538461536, 76923.07692307692, 166666.66666666666)], 1.0, 3321))"
      ]
     },
     "metadata": {},
     "output_type": "display_data"
    }
   ],
   "source": [
    "K = FEM.heatConductionMatrix(problem)\n",
    "C = FEM.heatCapacityMatrix(problem)\n",
    "q = FEM.heatFluxVector(problem, [load])"
   ]
  },
  {
   "cell_type": "code",
   "execution_count": 30,
   "id": "cc13a09e",
   "metadata": {},
   "outputs": [],
   "source": [
    "FEM.applyBoundaryConditions!(K, C, q, [supp])"
   ]
  },
  {
   "cell_type": "code",
   "execution_count": 31,
   "id": "826de555",
   "metadata": {},
   "outputs": [
    {
     "data": {
      "text/plain": [
       "29474.62441063031"
      ]
     },
     "metadata": {},
     "output_type": "display_data"
    }
   ],
   "source": [
    "λmax = FEM.largestEigenValue(K, C)"
   ]
  },
  {
   "cell_type": "code",
   "execution_count": 32,
   "id": "92275a67",
   "metadata": {},
   "outputs": [
    {
     "data": {
      "text/plain": [
       "LowLevelFEM.ScalarField(Matrix{Float64}[], [0.0 0.0 … 0.0 0.0; 0.0 0.0 … 0.0 0.0; … ; 0.0 1.2486392161077944e-5 … 0.006115173083554555 0.005655143580127581; 0.0 0.0002388769758174597 … 0.013060995910636931 0.012583050525767227], [0.0, 0.0019957346560979224, 0.003991469312195845, 0.005987203968293767, 0.00798293862439169, 0.009978673280489611, 0.011974407936587533, 0.013970142592685454, 0.015965877248783376, 0.017961611904881297, 0.01995734656097922, 0.02195308121707714, 0.023948815873175062, 0.025944550529272983, 0.027940285185370905, 0.029936019841468826, 0.03193175449756675, 0.033927489153664676, 0.0359232238097626, 0.037918958465860526], Int64[], 20, :T, LowLevelFEM.Problem(\"body2\", :HeatConduction, 3, 1, LowLevelFEM.Material[LowLevelFEM.Material(\"body\", :Hooke, 200000.0, 0.3, 7.85e-9, 45.0, 4.2e8, 1.2e-5, 115384.61538461536, 76923.07692307692, 166666.66666666666)], 1.0, 3321))"
      ]
     },
     "metadata": {},
     "output_type": "display_data"
    }
   ],
   "source": [
    "ϑ = 0.33\n",
    "T = FEM.FDM(K, C, q, T0, 200 * (2 / ((1 - 2ϑ) * λmax)), 10 * 2 / ((1 - 2ϑ) * λmax), ϑ=ϑ)"
   ]
  },
  {
   "cell_type": "code",
   "execution_count": 33,
   "id": "dbc09cfb",
   "metadata": {},
   "outputs": [
    {
     "data": {
      "text/plain": [
       "LowLevelFEM.ScalarField(Matrix{Float64}[], [0.0 0.0 … 0.0 0.0; 0.0 0.0 … 0.0 0.0; … ; 0.0 0.0008335803349351792 … 0.019271366519329328 0.020440644855610736; 0.0 0.004365347787506133 … 0.02804493083809825 0.029298012153639117], [0.0, 0.01, 0.02, 0.03, 0.04, 0.05, 0.060000000000000005, 0.07, 0.08, 0.09, 0.09999999999999999, 0.10999999999999999, 0.11999999999999998, 0.12999999999999998, 0.13999999999999999], Int64[], 15, :T, LowLevelFEM.Problem(\"body2\", :HeatConduction, 3, 1, LowLevelFEM.Material[LowLevelFEM.Material(\"body\", :Hooke, 200000.0, 0.3, 7.85e-9, 45.0, 4.2e8, 1.2e-5, 115384.61538461536, 76923.07692307692, 166666.66666666666)], 1.0, 3321))"
      ]
     },
     "metadata": {},
     "output_type": "display_data"
    }
   ],
   "source": [
    "ϑ = 0.66\n",
    "T = FEM.FDM(K, C, q, T0, 0.15, 0.01, ϑ=ϑ)"
   ]
  },
  {
   "cell_type": "code",
   "execution_count": 34,
   "id": "7d844bc4",
   "metadata": {},
   "outputs": [
    {
     "data": {
      "text/plain": [
       "0"
      ]
     },
     "metadata": {},
     "output_type": "display_data"
    }
   ],
   "source": [
    "FEM.showDoFResults(T, :T, visible=true)"
   ]
  },
  {
   "cell_type": "code",
   "execution_count": 35,
   "id": "7f4dcd1b",
   "metadata": {},
   "outputs": [
    {
     "data": {
      "text/plain": [
       "LowLevelFEM.VectorField([[0.0 -8.67631188906714e-15 … -1.3335568007227404e-6 -2.687352360112155e-6; 0.0 0.0 … 0.0 0.0; … ; 0.0 -4.4373425918681914e-30 … -2.9778502051908996e-22 5.955700410381799e-22; 0.0 4.4373425918681914e-30 … 5.955700410381799e-22 -5.955700410381799e-22], [0.0 -1.7791426939864793e-14 … -2.1186264475640967e-6 -4.155234312014839e-6; 0.0 -4.259848888193464e-28 … -2.3822801641527197e-21 0.0; … ; 0.0 -5.32481111024183e-29 … -4.7645603283054394e-21 2.3822801641527197e-21; 0.0 1.7749370367472766e-29 … 1.1911400820763599e-21 0.0], [0.0 -8.789233440404624e-14 … -5.548814773284402e-6 -1.0373077607971006e-5; 0.0 -3.9758589623138995e-27 … -1.9058241313221758e-20 -7.623296525288703e-20; … ; 0.0 -2.129924444096732e-28 … -1.9058241313221758e-20 -1.4293680984916318e-20; 0.0 -5.309063813275582e-28 … -5.6198706524954444e-21 -1.6292883476574588e-20], [0.0 -4.592722611852514e-13 … -1.5467988559098265e-5 -2.7640748303724845e-5; 0.0 -2.0447274663328626e-26 … 1.5246593050577406e-19 -3.8116482626443515e-20; … ; 0.0 -1.3739801327793953e-27 … -3.980171160640487e-20 4.6183386865304376e-20; 0.0 0.0 … 3.8116482626443515e-20 0.0], [0.0 -2.4049543997305858e-12 … -4.2299181927729896e-5 -7.229999389952279e-5; 0.0 -1.4994668086440992e-25 … -7.623296525288703e-20 5.336307567702092e-19; … ; 0.0 -6.815758221109542e-27 … 0.0 -1.1434944787933055e-19; 0.0 4.543838814073028e-27 … 1.9058241313221758e-20 1.9058241313221758e-19], [0.0 -1.2594385074093642e-11 … -0.00011213124851659894 -0.0001832606343959577; 0.0 -9.81469183839774e-25 … 1.5246593050577406e-19 9.147955830346444e-19; … ; 0.0 3.6350710512584224e-26 … 0.0 0.0; 0.0 4.8583048171871477e-26 … 3.494765557384028e-19 9.018958782790695e-20], [0.0 -6.595508898578653e-11 … -0.00028709741025315333 -0.00044848503593280793; 0.0 -5.525307997912802e-24 … -1.8295911660692887e-18 -3.0493186101154812e-18; … ; 0.0 2.20703613296276e-25 … 7.573455947793479e-19 -7.653388727065511e-19; 0.0 2.908056841006738e-25 … -3.049318610115481e-19 3.049318610115481e-19], [0.0 -3.45397904191251e-10 … -0.0007079432347571212 -0.0010569184715122715; 0.0 -3.7150137060674287e-23 … -6.145563937568506e-18 -2.323550879125123e-17; … ; 0.0 1.0118468399555272e-24 … 1.1859787142522333e-18 -7.354453798298328e-20; 0.0 -5.805543111963182e-25 … -1.206806907264766e-18 -1.8664269848557976e-18], [0.0 -1.8088022395278954e-9 … -0.0016764537498486169 -0.0023925527273139712; 0.0 -1.8378919235162584e-22 … -2.439454888092385e-17 -2.927345865710862e-17; … ; 0.0 -5.816113682013476e-24 … 0.0 -4.87890977618477e-18; 0.0 4.652890945610781e-24 … 1.2197274440461925e-18 0.0], [0.0 -9.472453371794484e-9 … -0.0038014606007551062 -0.005189647794364541; 0.0 -9.11966625339713e-22 … 4.87890977618477e-17 0.0; … ; 0.0 -9.305781891221561e-24 … -7.318364664277155e-18 4.87890977618477e-18; 0.0 5.583469134732937e-23 … 1.2197274440461925e-17 9.75781955236954e-18]  …  [0.0 -4.96059607404529e-8 … -0.00823064121022117 -0.010760807957947725; 0.0 -7.370179257847477e-21 … -1.0733601507606494e-16 -1.3660947373317356e-16; … ; 0.0 2.2333876538931747e-22 … -1.951563910473908e-17 2.439454888092385e-17; 0.0 3.7223127564886245e-23 … -1.463672932855431e-17 -3.903127820947816e-17], [0.0 -2.597797259484125e-7 … -0.016969227372757714 -0.02128325037361749; 0.0 -3.5138632421252616e-20 … -3.122502256758253e-16 -4.2934406030425976e-16; … ; 0.0 -1.4617981609153317e-21 … -3.3259935461620346e-17 1.4971705460280408e-17; 0.0 -6.563580787963075e-22 … -1.6187576410069562e-17 -8.917380214093318e-17], [0.0 -1.3604313878111494e-6 … -0.03323314856058276 -0.04007678908978743; 0.0 -1.5246593050577406e-19 … 0.0 0.0; … ; 0.0 -1.4689382123870214e-21 … -1.3272271168371934e-17 -1.0174508565381774e-16; 0.0 -3.563013117558406e-21 … 1.160823982103839e-17 2.923815209585148e-17], [0.0 -7.1243956940235125e-6 … -0.06169727899741542 -0.07173710742101462; 0.0 -1.0672615135404184e-18 … -1.8735013540549517e-15 -2.654126918244515e-15; … ; 0.0 -9.995725051791147e-20 … -2.1558235391234542e-16 -2.600557273844538e-16; 0.0 -5.839147231638761e-21 … -2.6432385551057788e-17 -2.2409473900261377e-16], [0.0 -3.7309499368940856e-5 … -0.10840946955167337 -0.1219318089692775; 0.0 -4.955142741437657e-18 … -1.2490009027033011e-15 -2.4980018054066022e-15; … ; 0.0 -2.7978825085121848e-19 … -4.47394608446571e-17 -3.3225101734677406e-16; 0.0 5.972552360012291e-20 … 8.956443073973436e-17 -3.6260555163818265e-18], [0.0 -0.00019538481619271338 … -0.18011733027885468 -0.19667958238188593; 0.0 -3.384743657228184e-17 … -6.557254739192331e-15 -7.494005416219807e-15; … ; 0.0 -7.623296525288703e-19 … -6.245004513516506e-16 -1.5612511283791264e-16; 0.0 -7.623296525288703e-19 … -1.0928757898653885e-15 -6.245004513516506e-16], [0.0 -0.001023203930483157 … -0.2828800927650818 -0.30106578749785784; 0.0 -1.463672932855431e-16 … -6.869504964868156e-15 -8.118505867571457e-15; … ; 0.0 -3.0493186101154812e-18 … -1.8735013540549517e-15 -1.2490009027033011e-15; 0.0 6.098637220230962e-19 … -6.245004513516506e-16 -6.245004513516506e-16], [0.0 -0.005358380982499415 … -0.420140472948773 -0.4375999304537972; 0.0 -4.195862407518902e-16 … 0.0 7.494005416219807e-15; … ; 0.0 1.951563910473908e-17 … 3.122502256758253e-16 1.2490009027033011e-15; 0.0 1.951563910473908e-17 … 6.245004513516506e-16 1.2490009027033011e-15], [0.0 -0.028061118510417978 … -0.5908167256472507 -0.6046993295633235; 0.0 -3.4737837606435562e-15 … -3.497202527569243e-14 0.0; … ; 0.0 7.806255641895632e-17 … -3.747002708109903e-15 -1.2490009027033011e-15; 0.0 -9.75781955236954e-17 … 1.8735013540549517e-15 0.0], [0.0 -0.1469522929831721 … -0.7882238592604152 -0.7959247728774452; 0.0 6.245004513516506e-16 … 0.0 7.494005416219807e-15; … ; 0.0 7.806255641895632e-16 … -1.2490009027033011e-15 0.0; 0.0 -1.5612511283791264e-16 … 3.1225022567582528e-15 3.747002708109903e-15]], Matrix{Float64}(undef, 0, 0), [0.0, 0.01, 0.02, 0.03, 0.04, 0.05, 0.060000000000000005, 0.07, 0.08, 0.09, 0.09999999999999999, 0.10999999999999999, 0.11999999999999998, 0.12999999999999998, 0.13999999999999999], [473, 474, 475, 476, 477, 478, 479, 480, 481, 482  …  783, 784, 785, 786, 787, 788, 789, 790, 791, 792], 15, :q3D, LowLevelFEM.Problem(\"body2\", :HeatConduction, 3, 1, LowLevelFEM.Material[LowLevelFEM.Material(\"body\", :Hooke, 200000.0, 0.3, 7.85e-9, 45.0, 4.2e8, 1.2e-5, 115384.61538461536, 76923.07692307692, 166666.66666666666)], 1.0, 3321))"
      ]
     },
     "metadata": {},
     "output_type": "display_data"
    }
   ],
   "source": [
    "q1 = FEM.solveHeatFlux(T)"
   ]
  },
  {
   "cell_type": "code",
   "execution_count": 36,
   "id": "91be4964",
   "metadata": {},
   "outputs": [
    {
     "name": "stdout",
     "output_type": "stream",
     "text": [
      "Info    : Running Plugin(Smooth)...\n",
      "Info    : Done running Plugin(Smooth)\n"
     ]
    },
    {
     "data": {
      "text/plain": [
       "1"
      ]
     },
     "metadata": {},
     "output_type": "display_data"
    }
   ],
   "source": [
    "FEM.showHeatFluxResults(q1, :qvec)"
   ]
  },
  {
   "cell_type": "code",
   "execution_count": 37,
   "id": "b0c70fc5",
   "metadata": {},
   "outputs": [
    {
     "data": {
      "text/plain": [
       "LowLevelFEM.VectorField(Matrix{Float64}[], [0.0 -8.676311889067161e-15 … -1.333556800722743e-6 -2.6873523601121547e-6; 0.0 0.0 … 0.0 0.0; … ; 0.0 7.806255641895632e-16 … -1.2490009027033011e-15 0.0; 0.0 -1.5612511283791264e-16 … 3.1225022567582528e-15 3.747002708109903e-15], [0.0, 0.01, 0.02, 0.03, 0.04, 0.05, 0.060000000000000005, 0.07, 0.08, 0.09, 0.09999999999999999, 0.10999999999999999, 0.11999999999999998, 0.12999999999999998, 0.13999999999999999], Int64[], 15, :q3D, LowLevelFEM.Problem(\"body2\", :HeatConduction, 3, 1, LowLevelFEM.Material[LowLevelFEM.Material(\"body\", :Hooke, 200000.0, 0.3, 7.85e-9, 45.0, 4.2e8, 1.2e-5, 115384.61538461536, 76923.07692307692, 166666.66666666666)], 1.0, 3321))"
      ]
     },
     "metadata": {},
     "output_type": "display_data"
    }
   ],
   "source": [
    "q2 = FEM.solveHeatFlux(T, DoFResults=true)"
   ]
  },
  {
   "cell_type": "code",
   "execution_count": 38,
   "id": "b98876db",
   "metadata": {},
   "outputs": [
    {
     "data": {
      "text/plain": [
       "2"
      ]
     },
     "metadata": {},
     "output_type": "display_data"
    }
   ],
   "source": [
    "FEM.showDoFResults(q2, :qvec)"
   ]
  },
  {
   "cell_type": "code",
   "execution_count": 39,
   "id": "1c94217c",
   "metadata": {},
   "outputs": [
    {
     "data": {
      "text/plain": [
       "LowLevelFEM.VectorField(Matrix{Float64}[], [0.0 -8.676311889067161e-15 … -1.333556800722743e-6 -2.6873523601121547e-6; 0.0 0.0 … 0.0 0.0; … ; 0.0 7.806255641895632e-16 … -1.2490009027033011e-15 0.0; 0.0 -1.5612511283791264e-16 … 3.1225022567582528e-15 3.747002708109903e-15], [0.0, 0.01, 0.02, 0.03, 0.04, 0.05, 0.060000000000000005, 0.07, 0.08, 0.09, 0.09999999999999999, 0.10999999999999999, 0.11999999999999998, 0.12999999999999998, 0.13999999999999999], Int64[], 15, :q3D, LowLevelFEM.Problem(\"body2\", :HeatConduction, 3, 1, LowLevelFEM.Material[LowLevelFEM.Material(\"body\", :Hooke, 200000.0, 0.3, 7.85e-9, 45.0, 4.2e8, 1.2e-5, 115384.61538461536, 76923.07692307692, 166666.66666666666)], 1.0, 3321))"
      ]
     },
     "metadata": {},
     "output_type": "display_data"
    }
   ],
   "source": [
    "q3 = FEM.elementsToNodes(q1)"
   ]
  },
  {
   "cell_type": "code",
   "execution_count": 40,
   "id": "c9101a26",
   "metadata": {},
   "outputs": [
    {
     "data": {
      "text/plain": [
       "3"
      ]
     },
     "metadata": {},
     "output_type": "display_data"
    }
   ],
   "source": [
    "FEM.showDoFResults(q3, :qvec)"
   ]
  },
  {
   "cell_type": "code",
   "execution_count": 41,
   "id": "276261f2",
   "metadata": {},
   "outputs": [
    {
     "data": {
      "text/plain": [
       "LowLevelFEM.VectorField(Matrix{Float64}[], [0.0 0.0 … 0.0 0.0; 0.0 0.0 … 0.0 0.0; … ; 0.0 0.0 … 0.0 0.0; 0.0 0.0 … 0.0 0.0], [0.0, 0.01, 0.02, 0.03, 0.04, 0.05, 0.060000000000000005, 0.07, 0.08, 0.09, 0.09999999999999999, 0.10999999999999999, 0.11999999999999998, 0.12999999999999998, 0.13999999999999999], Int64[], 15, :q3D, LowLevelFEM.Problem(\"body2\", :HeatConduction, 3, 1, LowLevelFEM.Material[LowLevelFEM.Material(\"body\", :Hooke, 200000.0, 0.3, 7.85e-9, 45.0, 4.2e8, 1.2e-5, 115384.61538461536, 76923.07692307692, 166666.66666666666)], 1.0, 3321))"
      ]
     },
     "metadata": {},
     "output_type": "display_data"
    }
   ],
   "source": [
    "err1 = FEM.fieldError(q1)"
   ]
  },
  {
   "cell_type": "code",
   "execution_count": 42,
   "id": "4c6cccf6",
   "metadata": {},
   "outputs": [
    {
     "data": {
      "text/plain": [
       "4"
      ]
     },
     "metadata": {},
     "output_type": "display_data"
    }
   ],
   "source": [
    "FEM.showDoFResults(err1, :vector)"
   ]
  },
  {
   "cell_type": "code",
   "execution_count": 43,
   "id": "e07f8b10",
   "metadata": {},
   "outputs": [
    {
     "name": "stdout",
     "output_type": "stream",
     "text": [
      "-------------------------------------------------------\n",
      "Version       : 4.13.1\n",
      "License       : GNU General Public License\n",
      "Build OS      : Linux64-sdk\n",
      "Build date    : 19700101\n",
      "Build host    : amdci7.julia.csail.mit.edu\n",
      "Build options : 64Bit ALGLIB[contrib] ANN[contrib] Bamg Blossom Cairo DIntegration Dlopen DomHex Eigen[contrib] Fltk GMP Gmm[contrib] Hxt Jpeg Kbipack LinuxJoystick MathEx[contrib] Mesh Metis[contrib] Mmg Mpeg Netgen Nii2mesh ONELAB ONELABMetamodel OpenCASCADE OpenCASCADE-CAF OpenGL OpenMP OptHom Parser Plugins Png Post QuadMeshingTools QuadTri Solver TetGen/BR TinyXML2[contrib] Untangle Voro++[contrib] WinslowUntangler Zlib\n",
      "FLTK version  : 1.3.8\n",
      "OCC version   : 7.7.2\n",
      "Packaged by   : root\n",
      "Web site      : https://gmsh.info\n",
      "Issue tracker : https://gitlab.onelab.info/gmsh/gmsh/issues\n",
      "-------------------------------------------------------\n"
     ]
    },
    {
     "name": "stderr",
     "output_type": "stream",
     "text": [
      "XRequest.18: BadValue 0x0\n"
     ]
    }
   ],
   "source": [
    "FEM.openPostProcessor()"
   ]
  },
  {
   "cell_type": "code",
   "execution_count": 44,
   "id": "076f84a7",
   "metadata": {},
   "outputs": [],
   "source": [
    "gmsh.finalize()"
   ]
  }
 ],
 "metadata": {
  "kernelspec": {
   "display_name": "Julia 1.11.6",
   "language": "julia",
   "name": "julia-1.11"
  },
  "language_info": {
   "file_extension": ".jl",
   "mimetype": "application/julia",
   "name": "julia",
   "version": "1.11.6"
  }
 },
 "nbformat": 4,
 "nbformat_minor": 5
}
