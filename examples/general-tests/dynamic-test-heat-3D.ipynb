{
 "cells": [
  {
   "cell_type": "code",
   "execution_count": 23,
   "id": "e95346f2",
   "metadata": {},
   "outputs": [],
   "source": [
    "using LowLevelFEM\n",
    "import LowLevelFEM as FEM\n",
    "gmsh.initialize()"
   ]
  },
  {
   "cell_type": "code",
   "execution_count": 24,
   "id": "c376ef73",
   "metadata": {},
   "outputs": [
    {
     "name": "stdout",
     "output_type": "stream",
     "text": [
      "Info    : Reading 'body2.geo'...\n",
      "Info    : Meshing 1D...\n",
      "Info    : [  0%] Meshing curve 1 (Line)\n",
      "Info    : [ 10%] Meshing curve 2 (Line)\n",
      "Info    : [ 20%] Meshing curve 3 (Line)\n",
      "Info    : [ 30%] Meshing curve 4 (Line)\n",
      "Info    : [ 40%] Meshing curve 5 (Line)\n",
      "Info    : [ 50%] Meshing curve 6 (Line)\n",
      "Info    : [ 60%] Meshing curve 7 (Line)\n",
      "Info    : [ 60%] Meshing curve 8 (Line)\n",
      "Info    : [ 70%] Meshing curve 9 (Line)\n",
      "Info    : [ 80%] Meshing curve 10 (Line)\n",
      "Info    : [ 90%] Meshing curve 11 (Line)\n",
      "Info    : [100%] Meshing curve 12 (Line)\n",
      "Info    : Done meshing 1D (Wall 0.00108456s, CPU 0.001049s)\n",
      "Info    : Meshing 2D...\n",
      "Info    : [  0%] Meshing surface 1 (Transfinite)\n",
      "Info    : [ 20%] Meshing surface 2 (Transfinite)\n",
      "Info    : [ 40%] Meshing surface 3 (Transfinite)\n",
      "Info    : [ 60%] Meshing surface 4 (Transfinite)\n",
      "Info    : [ 70%] Meshing surface 5 (Transfinite)\n",
      "Info    : [ 90%] Meshing surface 6 (Transfinite)\n",
      "Info    : Done meshing 2D (Wall 0.000467624s, CPU 0.000466s)\n",
      "Info    : Meshing 3D...\n",
      "Info    : Meshing volume 1 (Transfinite)\n",
      "Info    : Done meshing 3D (Wall 0.00347002s, CPU 0.002056s)\n",
      "Info    : Optimizing mesh...\n",
      "Info    : Done optimizing mesh (Wall 3.9268e-05s, CPU 3.9e-05s)\n",
      "Info    : Meshing order 2 (curvilinear on)...\n",
      "Info    : [  0%] Meshing curve 1 order 2\n",
      "Info    : [ 10%] Meshing curve 2 order 2\n",
      "Info    : [ 20%] Meshing curve 3 order 2\n",
      "Info    : [ 20%] Meshing curve 4 order 2\n",
      "Info    : [ 30%] Meshing curve 5 order 2\n",
      "Info    : [ 30%] Meshing curve 6 order 2\n",
      "Info    : [ 40%] Meshing curve 7 order 2\n",
      "Info    : [ 40%] Meshing curve 8 order 2\n",
      "Info    : [ 50%] Meshing curve 9 order 2\n",
      "Info    : [ 50%] Meshing curve 10 order 2\n",
      "Info    : [ 60%] Meshing curve 11 order 2\n",
      "Info    : [ 60%] Meshing curve 12 order 2\n",
      "Info    : [ 70%] Meshing surface 1 order 2\n",
      "Info    : [ 70%] Meshing surface 2 order 2\n",
      "Info    : [ 80%] Meshing surface 3 order 2\n",
      "Info    : [ 80%] Meshing surface 4 order 2\n",
      "Info    : [ 90%] Meshing surface 5 order 2\n",
      "Info    : [ 90%] Meshing surface 6 order 2\n",
      "Info    : [100%] Meshing volume 1 order 2\n",
      "Info    : Done meshing order 2 (Wall 0.0168823s, CPU 0.012021s)\n",
      "Info    : 3321 nodes 792 elements\n",
      "Info    : Done reading 'body2.geo'\n"
     ]
    }
   ],
   "source": [
    "gmsh.open(\"body2.geo\")"
   ]
  },
  {
   "cell_type": "code",
   "execution_count": 25,
   "id": "17d16e97",
   "metadata": {},
   "outputs": [
    {
     "name": "stdout",
     "output_type": "stream",
     "text": [
      "Info    : RCMK renumbering...\n",
      "Info    : Done RCMK renumbering (bandwidth is now 386)\n"
     ]
    },
    {
     "data": {
      "text/plain": [
       "LowLevelFEM.Problem(\"body2\", :HeatConduction, 3, 1, LowLevelFEM.Material[LowLevelFEM.Material(\"body\", 200000.0, 0.3, 7.85e-9, 45.0, 4.2e8, 1.2e-5, 115384.61538461536, 76923.07692307692, 166666.66666666666)], 1.0, 3321)"
      ]
     },
     "metadata": {},
     "output_type": "display_data"
    }
   ],
   "source": [
    "mat = FEM.material(\"body\")\n",
    "problem = FEM.Problem([mat], type=:HeatConduction)"
   ]
  },
  {
   "cell_type": "code",
   "execution_count": 26,
   "id": "cb740efb",
   "metadata": {},
   "outputs": [
    {
     "data": {
      "text/plain": [
       "(\"right\", 1, 0, 0)"
      ]
     },
     "metadata": {},
     "output_type": "display_data"
    }
   ],
   "source": [
    "supp = FEM.temperatureConstraint(\"left\", T=0)\n",
    "load = FEM.heatFlux(\"right\", qn=-1)"
   ]
  },
  {
   "cell_type": "code",
   "execution_count": 27,
   "id": "34e1f132",
   "metadata": {},
   "outputs": [
    {
     "data": {
      "text/plain": [
       "LowLevelFEM.ScalarField(Matrix{Float64}[], [0.0; 0.0; … ; 0.0; 0.0;;], [0.0], Int64[], 1, :T)"
      ]
     },
     "metadata": {},
     "output_type": "display_data"
    }
   ],
   "source": [
    "T0 = FEM.initialTemperature(problem, \"body\", T=0)"
   ]
  },
  {
   "cell_type": "code",
   "execution_count": 28,
   "id": "e2541d50",
   "metadata": {},
   "outputs": [
    {
     "data": {
      "text/plain": [
       "LowLevelFEM.ScalarField(Matrix{Float64}[], [0.0; 0.0; … ; 0.0; 0.0;;], [0.0], Int64[], 1, :T)"
      ]
     },
     "metadata": {},
     "output_type": "display_data"
    }
   ],
   "source": [
    "FEM.initialTemperature!(problem, \"left\", T0, T=0)\n",
    "T0"
   ]
  },
  {
   "cell_type": "code",
   "execution_count": 29,
   "id": "93379cdd",
   "metadata": {},
   "outputs": [
    {
     "data": {
      "text/plain": [
       "LowLevelFEM.ScalarField(Matrix{Float64}[], [0.0; 0.0; … ; 0.0; 0.0;;], Float64[], Int64[], 1, :qn)"
      ]
     },
     "metadata": {},
     "output_type": "display_data"
    }
   ],
   "source": [
    "K = FEM.heatConductionMatrix(problem)\n",
    "C = FEM.heatCapacityMatrix(problem)\n",
    "q = FEM.heatFluxVector(problem, [load])"
   ]
  },
  {
   "cell_type": "code",
   "execution_count": 30,
   "id": "cc13a09e",
   "metadata": {},
   "outputs": [],
   "source": [
    "FEM.applyBoundaryConditions!(problem, K, C, q, [supp])"
   ]
  },
  {
   "cell_type": "code",
   "execution_count": 31,
   "id": "826de555",
   "metadata": {},
   "outputs": [
    {
     "data": {
      "text/plain": [
       "29474.62441063024"
      ]
     },
     "metadata": {},
     "output_type": "display_data"
    }
   ],
   "source": [
    "λmax = FEM.largestEigenValue(K, C)"
   ]
  },
  {
   "cell_type": "code",
   "execution_count": 32,
   "id": "92275a67",
   "metadata": {},
   "outputs": [
    {
     "data": {
      "text/plain": [
       "LowLevelFEM.ScalarField(Matrix{Float64}[], [0.0 0.0 … 0.0 0.0; 0.0 0.0 … 0.0 0.0; … ; 0.0 1.248639216107802e-5 … 0.005655143580128274 0.00688188433604221; 0.0 0.00023887697581746192 … 0.012583050525775654 0.01402124972255328], [0.0, 0.001995734656097927, 0.003991469312195854, 0.005987203968293782, 0.007982938624391709, 0.009978673280489635, 0.011974407936587562, 0.013970142592685489, 0.015965877248783417, 0.017961611904881346  …  0.021953081217077203, 0.02394881587317513, 0.02594455052927306, 0.027940285185370988, 0.029936019841468917, 0.03193175449756684, 0.03392748915366477, 0.03592322380976269, 0.03791895846586062, 0.03991469312195854], Int64[], 21, :T)"
      ]
     },
     "metadata": {},
     "output_type": "display_data"
    }
   ],
   "source": [
    "ϑ = 0.33\n",
    "T = FEM.FDM(K, C, q, T0, 200 * (2 / ((1 - 2ϑ) * λmax)), 10 * 2 / ((1 - 2ϑ) * λmax), ϑ=ϑ)"
   ]
  },
  {
   "cell_type": "code",
   "execution_count": 33,
   "id": "dbc09cfb",
   "metadata": {},
   "outputs": [
    {
     "data": {
      "text/plain": [
       "LowLevelFEM.ScalarField(Matrix{Float64}[], [0.0 0.0 … 0.0 0.0; 0.0 0.0 … 0.0 0.0; … ; 0.0 0.0008335803349351795 … 0.019271366519329338 0.020440644855610743; 0.0 0.004365347787506136 … 0.028044930838098267 0.029298012153639138], [0.0, 0.01, 0.02, 0.03, 0.04, 0.05, 0.060000000000000005, 0.07, 0.08, 0.09, 0.09999999999999999, 0.10999999999999999, 0.11999999999999998, 0.12999999999999998, 0.13999999999999999], Int64[], 15, :T)"
      ]
     },
     "metadata": {},
     "output_type": "display_data"
    }
   ],
   "source": [
    "ϑ = 0.66\n",
    "T = FEM.FDM(K, C, q, T0, 0.15, 0.01, ϑ=ϑ)"
   ]
  },
  {
   "cell_type": "code",
   "execution_count": 34,
   "id": "7d844bc4",
   "metadata": {},
   "outputs": [
    {
     "data": {
      "text/plain": [
       "0"
      ]
     },
     "metadata": {},
     "output_type": "display_data"
    }
   ],
   "source": [
    "FEM.showDoFResults(problem, T, :T, visible=true)"
   ]
  },
  {
   "cell_type": "code",
   "execution_count": 35,
   "id": "7f4dcd1b",
   "metadata": {},
   "outputs": [
    {
     "data": {
      "text/plain": [
       "LowLevelFEM.VectorField([[0.0 -8.676311889067158e-15 … -1.3335568007227421e-6 -2.6873523601121593e-6; 0.0 0.0 … 0.0 0.0; … ; 0.0 -6.656013887802287e-30 … -5.955700410381799e-22 -1.1911400820763599e-21; 0.0 4.4373425918681914e-30 … 0.0 -5.955700410381799e-22], [0.0 -1.7791426939864756e-14 … -2.1186264475641013e-6 -4.155234312014839e-6; 0.0 -3.194886666145098e-28 … -4.7645603283054394e-21 1.4293680984916318e-20; … ; 0.0 0.0 … -5.955700410381799e-21 -4.7645603283054394e-21; 0.0 7.099748146989106e-29 … 0.0 -4.7645603283054394e-21], [0.0 -8.789233440404667e-14 … -5.54881477328442e-6 -1.0373077607970987e-5; 0.0 -3.8338639993741174e-27 … -9.529120656610879e-21 -1.334076891925523e-19; … ; 0.0 -2.129924444096732e-28 … -1.1911400820763599e-20 0.0; 0.0 -4.599088998576663e-28 … 1.5269698399627529e-21 -1.6292883476574546e-20], [0.0 -4.592722611852542e-13 … -1.5467988559098322e-5 -2.7640748303724767e-5; 0.0 -2.1583234366846883e-26 … 1.9058241313221758e-19 -3.8116482626443515e-20; … ; 0.0 3.2995942249799216e-28 … 7.843891676649555e-21 8.066904238860894e-21; 0.0 -2.8398992587956425e-28 … 9.529120656610879e-21 0.0], [0.0 -2.4049543997305902e-12 … -4.22991819277302e-5 -7.229999389952271e-5; 0.0 -1.4994668086440992e-25 … 7.623296525288703e-20 6.860966872759833e-19; … ; 0.0 -2.271919407036514e-27 … 1.9058241313221758e-20 -1.9058241313221758e-19; 0.0 2.271919407036514e-27 … 0.0 1.5246593050577406e-19], [0.0 -1.2594385074093624e-11 … -0.00011213124851659924 -0.000183260634395958; 0.0 -1.0359952496086504e-24 … 0.0 2.744386749103933e-18; … ; 0.0 9.087677628146056e-27 … 1.5246593050577406e-19 -1.5246593050577406e-19; 0.0 3.0407692915579686e-26 … 3.494765557384032e-19 3.9512144883945696e-19], [0.0 -6.595508898578631e-11 … -0.000287097410253153 -0.0004484850359328091; 0.0 -5.888815103038644e-24 … -1.5246593050577406e-18 -1.2197274440461925e-18; … ; 0.0 3.6610645534661375e-25 … 2.9994780326202607e-19 -1.3752025947296463e-18; 0.0 2.908056841006738e-25 … 0.0 9.147955830346444e-19], [0.0 -3.4539790419124927e-10 … -0.000707943234757123 -0.001056918471512275; 0.0 -3.8894971165278294e-23 … -8.58501882566086e-18 -1.8356599015066398e-17; … ; 0.0 7.2104115585484875e-25 … -3.3748729793960205e-20 -7.354453798298544e-20; 0.0 -2.897486270956393e-25 … -9.018750462532162e-19 -2.4762907068788896e-18], [0.0 -1.8088022395278815e-9 … -0.001676453749848634 -0.002392552727313974; 0.0 -2.0007431066126357e-22 … -2.1955093992831465e-17 -1.463672932855431e-17; … ; 0.0 -1.1632227364026952e-24 … -1.2197274440461925e-18 -1.2197274440461925e-18; 0.0 4.652890945610781e-24 … 1.2197274440461925e-18 2.439454888092385e-18], [0.0 -9.47245337179443e-9 … -0.003801460600755111 -0.005189647794364545; 0.0 -9.305781891221561e-22 … 5.366800753803247e-17 1.951563910473908e-17; … ; 0.0 -9.305781891221561e-24 … -7.318364664277155e-18 4.87890977618477e-18; 0.0 3.7223127564886245e-23 … 1.2197274440461925e-17 1.463672932855431e-17]  …  [0.0 -4.960596074045335e-8 … -0.00823064121022118 -0.010760807957947639; 0.0 -7.667964278366567e-21 … -1.2685165418080402e-16 -1.3660947373317356e-16; … ; 0.0 7.444625512977249e-23 … -1.463672932855431e-17 2.439454888092385e-17; 0.0 3.7223127564886245e-23 … -1.463672932855431e-17 -3.415236843329339e-17], [0.0 -2.5977972594841397e-7 … -0.016969227372757814 -0.02128325037361747; 0.0 -3.4543062380214436e-20 … -2.732189474663471e-16 -5.074066167232161e-16; … ; 0.0 -1.4617981609153401e-21 … -2.3502115909251154e-17 -4.543933644458604e-18; 0.0 -6.563580787963181e-22 … -6.429756857700371e-18 -1.086894412456724e-16], [0.0 -1.3604313878111494e-6 … -0.03323314856058272 -0.04007678908978743; 0.0 -1.5246593050577406e-19 … -1.5612511283791264e-16 -7.806255641895632e-17; … ; 0.0 9.133419517656814e-22 … 2.575900704110588e-17 -6.271380744433951e-17; 0.0 -1.180732953405661e-21 … 3.112387892577802e-17 -2.930876521836583e-17], [0.0 -7.124395694023493e-6 … -0.06169727899741511 -0.07173710742101531; 0.0 -1.095848875510251e-18 … -2.0296264668928643e-15 -2.3418766925686896e-15; … ; 0.0 -9.995725051791175e-20 … -2.5461363212182387e-16 -1.8199317096549692e-16; 0.0 -1.5368267888250114e-20 … -1.4352622017949448e-16 -6.79696261647003e-17], [0.0 -3.7309499368940856e-5 … -0.10840946955167367 -0.12193180896927733; 0.0 -5.031375706690544e-18 … -9.367506770274758e-16 -2.4980018054066022e-15; … ; 0.0 -3.1790473347766247e-19 … -3.569896865204825e-16 -2.0000791670950456e-17; 0.0 5.972552360012223e-20 … -6.656068209817911e-17 1.5249905732152943e-16], [0.0 -0.000195384816192714 … -0.1801173302788559 -0.19667958238188624; 0.0 -3.3542504711270293e-17 … -5.30825383648903e-15 -5.620504062164855e-15; … ; 0.0 -6.098637220230962e-19 … -4.683753385137379e-16 -4.683753385137379e-16; 0.0 -7.623296525288703e-19 … -9.367506770274758e-16 -9.367506770274758e-16], [0.0 -0.0010232039304831546 … -0.2828800927650843 -0.30106578749785595; 0.0 -1.463672932855431e-16 … -5.620504062164855e-15 -8.118505867571457e-15; … ; 0.0 -6.0986372202309624e-18 … -1.8735013540549517e-15 -1.2490009027033011e-15; 0.0 6.098637220230962e-19 … 0.0 -9.367506770274758e-16], [0.0 -0.005358380982499387 … -0.42014047294877427 -0.4375999304537934; 0.0 -4.195862407518902e-16 … 4.9960036108132044e-15 3.747002708109903e-15; … ; 0.0 2.439454888092385e-17 … -3.122502256758253e-16 2.185751579730777e-15; 0.0 2.927345865710862e-17 … 1.2490009027033011e-15 6.245004513516506e-16], [0.0 -0.02806111851041794 … -0.5908167256472532 -0.6046993295633185; 0.0 -3.590877595271991e-15 … -3.247402347028583e-14 2.4980018054066022e-15; … ; 0.0 1.3660947373317356e-16 … -2.4980018054066022e-15 -1.2490009027033011e-15; 0.0 -1.5612511283791264e-16 … 6.245004513516506e-16 1.8735013540549517e-15], [0.0 -0.1469522929831718 … -0.7882238592604176 -0.7959247728774415; 0.0 6.245004513516506e-16 … 0.0 1.2490009027033011e-14; … ; 0.0 6.245004513516506e-16 … 1.8735013540549517e-15 -6.245004513516506e-16; 0.0 -1.5612511283791264e-16 … 6.245004513516506e-16 4.371503159461554e-15]], Matrix{Float64}(undef, 0, 0), [0.0, 0.01, 0.02, 0.03, 0.04, 0.05, 0.060000000000000005, 0.07, 0.08, 0.09, 0.09999999999999999, 0.10999999999999999, 0.11999999999999998, 0.12999999999999998, 0.13999999999999999], [473, 474, 475, 476, 477, 478, 479, 480, 481, 482  …  783, 784, 785, 786, 787, 788, 789, 790, 791, 792], 15, :q3D)"
      ]
     },
     "metadata": {},
     "output_type": "display_data"
    }
   ],
   "source": [
    "q1 = FEM.solveHeatFlux(problem, T)"
   ]
  },
  {
   "cell_type": "code",
   "execution_count": 36,
   "id": "91be4964",
   "metadata": {},
   "outputs": [
    {
     "name": "stdout",
     "output_type": "stream",
     "text": [
      "Info    : Running Plugin(Smooth)...\n",
      "Info    : Done running Plugin(Smooth)\n"
     ]
    },
    {
     "data": {
      "text/plain": [
       "1"
      ]
     },
     "metadata": {},
     "output_type": "display_data"
    }
   ],
   "source": [
    "FEM.showHeatFluxResults(problem, q1, :qvec)"
   ]
  },
  {
   "cell_type": "code",
   "execution_count": 37,
   "id": "b0c70fc5",
   "metadata": {},
   "outputs": [
    {
     "data": {
      "text/plain": [
       "LowLevelFEM.VectorField(Matrix{Float64}[], [0.0 -8.676311889067165e-15 … -1.3335568007227434e-6 -2.687352360112158e-6; 0.0 0.0 … 0.0 0.0; … ; 0.0 6.245004513516506e-16 … 1.8735013540549517e-15 -6.245004513516506e-16; 0.0 -1.5612511283791264e-16 … 6.245004513516506e-16 4.371503159461554e-15], [0.0, 0.01, 0.02, 0.03, 0.04, 0.05, 0.060000000000000005, 0.07, 0.08, 0.09, 0.09999999999999999, 0.10999999999999999, 0.11999999999999998, 0.12999999999999998, 0.13999999999999999], Int64[], 15, :q3D)"
      ]
     },
     "metadata": {},
     "output_type": "display_data"
    }
   ],
   "source": [
    "q2 = FEM.solveHeatFlux(problem, T, DoFResults=true)"
   ]
  },
  {
   "cell_type": "code",
   "execution_count": 38,
   "id": "b98876db",
   "metadata": {},
   "outputs": [
    {
     "data": {
      "text/plain": [
       "2"
      ]
     },
     "metadata": {},
     "output_type": "display_data"
    }
   ],
   "source": [
    "FEM.showDoFResults(problem, q2, :qvec)"
   ]
  },
  {
   "cell_type": "code",
   "execution_count": 39,
   "id": "1c94217c",
   "metadata": {},
   "outputs": [
    {
     "data": {
      "text/plain": [
       "LowLevelFEM.VectorField(Matrix{Float64}[], [0.0 -8.676311889067165e-15 … -1.3335568007227434e-6 -2.687352360112158e-6; 0.0 0.0 … 0.0 0.0; … ; 0.0 6.245004513516506e-16 … 1.8735013540549517e-15 -6.245004513516506e-16; 0.0 -1.5612511283791264e-16 … 6.245004513516506e-16 4.371503159461554e-15], [0.0, 0.01, 0.02, 0.03, 0.04, 0.05, 0.060000000000000005, 0.07, 0.08, 0.09, 0.09999999999999999, 0.10999999999999999, 0.11999999999999998, 0.12999999999999998, 0.13999999999999999], Int64[], 15, :q3D)"
      ]
     },
     "metadata": {},
     "output_type": "display_data"
    }
   ],
   "source": [
    "q3 = FEM.elementsToNodes(problem, q1)"
   ]
  },
  {
   "cell_type": "code",
   "execution_count": 40,
   "id": "c9101a26",
   "metadata": {},
   "outputs": [
    {
     "data": {
      "text/plain": [
       "3"
      ]
     },
     "metadata": {},
     "output_type": "display_data"
    }
   ],
   "source": [
    "FEM.showDoFResults(problem, q3, :qvec)"
   ]
  },
  {
   "cell_type": "code",
   "execution_count": 41,
   "id": "276261f2",
   "metadata": {},
   "outputs": [
    {
     "data": {
      "text/plain": [
       "LowLevelFEM.VectorField(Matrix{Float64}[], [0.0 0.0 … 0.0 0.0; 0.0 0.0 … 0.0 0.0; … ; 0.0 0.0 … 0.0 0.0; 0.0 0.0 … 0.0 0.0], [0.0, 0.01, 0.02, 0.03, 0.04, 0.05, 0.060000000000000005, 0.07, 0.08, 0.09, 0.09999999999999999, 0.10999999999999999, 0.11999999999999998, 0.12999999999999998, 0.13999999999999999], Int64[], 15, :q3D)"
      ]
     },
     "metadata": {},
     "output_type": "display_data"
    }
   ],
   "source": [
    "err1 = FEM.fieldError(problem, q1)"
   ]
  },
  {
   "cell_type": "code",
   "execution_count": 42,
   "id": "4c6cccf6",
   "metadata": {},
   "outputs": [
    {
     "data": {
      "text/plain": [
       "4"
      ]
     },
     "metadata": {},
     "output_type": "display_data"
    }
   ],
   "source": [
    "FEM.showDoFResults(problem, err1, :vector)"
   ]
  },
  {
   "cell_type": "code",
   "execution_count": 43,
   "id": "e07f8b10",
   "metadata": {},
   "outputs": [
    {
     "name": "stdout",
     "output_type": "stream",
     "text": [
      "-------------------------------------------------------\n",
      "Version       : 4.13.1\n",
      "License       : GNU General Public License\n",
      "Build OS      : Linux64-sdk\n",
      "Build date    : 19700101\n",
      "Build host    : amdci7.julia.csail.mit.edu\n",
      "Build options : 64Bit ALGLIB[contrib] ANN[contrib] Bamg Blossom Cairo DIntegration Dlopen DomHex Eigen[contrib] Fltk GMP Gmm[contrib] Hxt Jpeg Kbipack LinuxJoystick MathEx[contrib] Mesh Metis[contrib] Mmg Mpeg Netgen Nii2mesh ONELAB ONELABMetamodel OpenCASCADE OpenCASCADE-CAF OpenGL OpenMP OptHom Parser Plugins Png Post QuadMeshingTools QuadTri Solver TetGen/BR TinyXML2[contrib] Untangle Voro++[contrib] WinslowUntangler Zlib\n",
      "FLTK version  : 1.3.8\n",
      "OCC version   : 7.7.2\n",
      "Packaged by   : root\n",
      "Web site      : https://gmsh.info\n",
      "Issue tracker : https://gitlab.onelab.info/gmsh/gmsh/issues\n",
      "-------------------------------------------------------\n"
     ]
    },
    {
     "name": "stderr",
     "output_type": "stream",
     "text": [
      "XRequest.18: BadValue 0x0\n"
     ]
    }
   ],
   "source": [
    "FEM.openPostProcessor()"
   ]
  },
  {
   "cell_type": "code",
   "execution_count": 44,
   "id": "076f84a7",
   "metadata": {},
   "outputs": [],
   "source": [
    "gmsh.finalize()"
   ]
  }
 ],
 "metadata": {
  "kernelspec": {
   "display_name": "Julia 1.11.5",
   "language": "julia",
   "name": "julia-1.11"
  },
  "language_info": {
   "file_extension": ".jl",
   "mimetype": "application/julia",
   "name": "julia",
   "version": "1.11.5"
  }
 },
 "nbformat": 4,
 "nbformat_minor": 5
}
