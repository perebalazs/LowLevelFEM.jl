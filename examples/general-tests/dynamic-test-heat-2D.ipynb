{
 "cells": [
  {
   "cell_type": "code",
   "execution_count": 1,
   "id": "e95346f2",
   "metadata": {},
   "outputs": [
    {
     "name": "stdout",
     "output_type": "stream",
     "text": [
      "Info    : Increasing process stack size (8192 kB < 16 MB)\n"
     ]
    }
   ],
   "source": [
    "using LowLevelFEM\n",
    "import LowLevelFEM as FEM\n",
    "gmsh.initialize()"
   ]
  },
  {
   "cell_type": "code",
   "execution_count": 2,
   "id": "c376ef73",
   "metadata": {},
   "outputs": [
    {
     "name": "stdout",
     "output_type": "stream",
     "text": [
      "Info    : Reading 'body1-2D.geo'...\n",
      "Info    : Meshing 1D...\n",
      "Info    : [  0%] Meshing curve 1 (Line)\n",
      "Info    : [ 30%] Meshing curve 2 (Line)\n",
      "Info    : [ 60%] Meshing curve 3 (Line)\n",
      "Info    : [ 80%] Meshing curve 4 (Line)\n",
      "Info    : Done meshing 1D (Wall 0.000524251s, CPU 0.000526s)\n",
      "Info    : Meshing 2D...\n",
      "Info    : Meshing surface 1 (Plane, Frontal-Delaunay)\n",
      "Info    : Done meshing 2D (Wall 0.00875961s, CPU 0.007683s)\n",
      "Info    : Meshing order 2 (curvilinear on)...\n",
      "Info    : [  0%] Meshing curve 1 order 2\n",
      "Info    : [ 30%] Meshing curve 2 order 2\n",
      "Info    : [ 50%] Meshing curve 3 order 2\n",
      "Info    : [ 70%] Meshing curve 4 order 2\n",
      "Info    : [ 90%] Meshing surface 1 order 2\n",
      "Info    : Surface mesh: worst distortion = 1 (0 elements in ]0, 0.2]); worst gamma = 0.781163\n",
      "Info    : Done meshing order 2 (Wall 0.000885342s, CPU 0.000854s)\n",
      "Info    : 357 nodes 198 elements\n",
      "Info    : Done reading 'body1-2D.geo'\n"
     ]
    }
   ],
   "source": [
    "gmsh.open(\"body1-2D.geo\")"
   ]
  },
  {
   "cell_type": "code",
   "execution_count": 3,
   "id": "17d16e97",
   "metadata": {},
   "outputs": [
    {
     "name": "stdout",
     "output_type": "stream",
     "text": [
      "Info    : RCMK renumbering...\n",
      "Info    : Done RCMK renumbering (bandwidth is now 61)\n"
     ]
    },
    {
     "data": {
      "text/plain": [
       "LowLevelFEM.Problem(\"body1-2D\", :PlaneHeatConduction, 2, 1, LowLevelFEM.Material[LowLevelFEM.Material(\"body\", :Hooke, 200000.0, 0.3, 7.85e-9, 45.0, 4.2e8, 1.2e-5, 115384.61538461536, 76923.07692307692, 166666.66666666666)], 1.0, 357)"
      ]
     },
     "metadata": {},
     "output_type": "display_data"
    }
   ],
   "source": [
    "mat = FEM.material(\"body\")\n",
    "problem = FEM.Problem([mat], type=:PlaneHeatConduction)"
   ]
  },
  {
   "cell_type": "code",
   "execution_count": 4,
   "id": "cb740efb",
   "metadata": {},
   "outputs": [
    {
     "data": {
      "text/plain": [
       "(\"right\", 1, 0, 0)"
      ]
     },
     "metadata": {},
     "output_type": "display_data"
    }
   ],
   "source": [
    "supp = FEM.temperatureConstraint(\"left\", T=0)\n",
    "load = FEM.heatFlux(\"right\", qn=-1)"
   ]
  },
  {
   "cell_type": "code",
   "execution_count": 5,
   "id": "34e1f132",
   "metadata": {},
   "outputs": [
    {
     "data": {
      "text/plain": [
       "LowLevelFEM.ScalarField(Matrix{Float64}[], [0.0; 0.0; … ; 0.0; 0.0;;], [0.0], Int64[], 1, :T, LowLevelFEM.Problem(\"body1-2D\", :PlaneHeatConduction, 2, 1, LowLevelFEM.Material[LowLevelFEM.Material(\"body\", :Hooke, 200000.0, 0.3, 7.85e-9, 45.0, 4.2e8, 1.2e-5, 115384.61538461536, 76923.07692307692, 166666.66666666666)], 1.0, 357))"
      ]
     },
     "metadata": {},
     "output_type": "display_data"
    }
   ],
   "source": [
    "T0 = FEM.initialTemperature(problem, \"body\", T=0)"
   ]
  },
  {
   "cell_type": "code",
   "execution_count": 6,
   "id": "e2541d50",
   "metadata": {},
   "outputs": [
    {
     "data": {
      "text/plain": [
       "LowLevelFEM.ScalarField(Matrix{Float64}[], [0.0; 0.0; … ; 0.0; 0.0;;], [0.0], Int64[], 1, :T, LowLevelFEM.Problem(\"body1-2D\", :PlaneHeatConduction, 2, 1, LowLevelFEM.Material[LowLevelFEM.Material(\"body\", :Hooke, 200000.0, 0.3, 7.85e-9, 45.0, 4.2e8, 1.2e-5, 115384.61538461536, 76923.07692307692, 166666.66666666666)], 1.0, 357))"
      ]
     },
     "metadata": {},
     "output_type": "display_data"
    }
   ],
   "source": [
    "FEM.initialTemperature!(\"left\", T0, T=0)\n",
    "T0"
   ]
  },
  {
   "cell_type": "code",
   "execution_count": 7,
   "id": "93379cdd",
   "metadata": {},
   "outputs": [
    {
     "data": {
      "text/plain": [
       "LowLevelFEM.ScalarField(Matrix{Float64}[], [0.0; 0.020833333333333297; … ; 0.0; 0.0;;], Float64[], Int64[], 1, :qn, LowLevelFEM.Problem(\"body1-2D\", :PlaneHeatConduction, 2, 1, LowLevelFEM.Material[LowLevelFEM.Material(\"body\", :Hooke, 200000.0, 0.3, 7.85e-9, 45.0, 4.2e8, 1.2e-5, 115384.61538461536, 76923.07692307692, 166666.66666666666)], 1.0, 357))"
      ]
     },
     "metadata": {},
     "output_type": "display_data"
    }
   ],
   "source": [
    "K = FEM.heatConductionMatrix(problem)\n",
    "C = FEM.heatCapacityMatrix(problem)\n",
    "q = FEM.heatFluxVector(problem, [load])"
   ]
  },
  {
   "cell_type": "code",
   "execution_count": 8,
   "id": "cc13a09e",
   "metadata": {},
   "outputs": [],
   "source": [
    "FEM.applyBoundaryConditions!(K, C, q, [supp])"
   ]
  },
  {
   "cell_type": "code",
   "execution_count": 9,
   "id": "826de555",
   "metadata": {},
   "outputs": [
    {
     "data": {
      "text/plain": [
       "161355.0686209338"
      ]
     },
     "metadata": {},
     "output_type": "display_data"
    }
   ],
   "source": [
    "λmax = FEM.largestEigenValue(K, C)"
   ]
  },
  {
   "cell_type": "code",
   "execution_count": 10,
   "id": "92275a67",
   "metadata": {},
   "outputs": [
    {
     "data": {
      "text/plain": [
       "LowLevelFEM.ScalarField(Matrix{Float64}[], [0.0 0.0 … 0.0 0.0; 0.0 0.002581667626896283 … -0.8020336718558312 1.3395259667126231; … ; 0.0 1.7230050428804905e-6 … -0.049873545587967305 0.10904683979677808; 0.0 3.620862210175205e-6 … 0.058314726384816225 -0.07355993797795542], [0.0, 0.0003645595388760728, 0.0007291190777521456, 0.0010936786166282184, 0.0014582381555042912, 0.001822797694380364, 0.0021873572332564368, 0.0025519167721325094, 0.002916476311008582, 0.0032810358498846547, 0.0036455953887607273, 0.0040101549276368, 0.004374714466512873, 0.004739274005388945, 0.005103833544265018, 0.005468393083141091, 0.005832952622017163, 0.006197512160893236, 0.0065620716997693085, 0.006926631238645381], Int64[], 20, :T, LowLevelFEM.Problem(\"body1-2D\", :PlaneHeatConduction, 2, 1, LowLevelFEM.Material[LowLevelFEM.Material(\"body\", :Hooke, 200000.0, 0.3, 7.85e-9, 45.0, 4.2e8, 1.2e-5, 115384.61538461536, 76923.07692307692, 166666.66666666666)], 1.0, 357))"
      ]
     },
     "metadata": {},
     "output_type": "display_data"
    }
   ],
   "source": [
    "ϑ = 0.33\n",
    "T = FEM.FDM(K, C, q, T0, 200 * (2 / ((1 - 2ϑ) * λmax)), 10 * 2 / ((1 - 2ϑ) * λmax), ϑ=ϑ)"
   ]
  },
  {
   "cell_type": "code",
   "execution_count": 11,
   "id": "dbc09cfb",
   "metadata": {},
   "outputs": [
    {
     "data": {
      "text/plain": [
       "LowLevelFEM.ScalarField(Matrix{Float64}[], [0.0 0.0 … 0.0 0.0; 0.0 0.010077163895915514 … 0.0219495172755809 0.02202453310540394; … ; 0.0 0.0035203738398650953 … 0.01502578822207357 0.01509204317681318; 0.0 0.003912263265401068 … 0.01571077665622408 0.01577868572289641], [0.0, 0.01, 0.02, 0.03, 0.04, 0.05, 0.060000000000000005, 0.07, 0.08, 0.09, 0.09999999999999999, 0.10999999999999999, 0.11999999999999998, 0.12999999999999998, 0.13999999999999999], Int64[], 15, :T, LowLevelFEM.Problem(\"body1-2D\", :PlaneHeatConduction, 2, 1, LowLevelFEM.Material[LowLevelFEM.Material(\"body\", :Hooke, 200000.0, 0.3, 7.85e-9, 45.0, 4.2e8, 1.2e-5, 115384.61538461536, 76923.07692307692, 166666.66666666666)], 1.0, 357))"
      ]
     },
     "metadata": {},
     "output_type": "display_data"
    }
   ],
   "source": [
    "ϑ = 0.66\n",
    "T = FEM.FDM(K, C, q, T0, 0.15, 0.01, ϑ=ϑ)"
   ]
  },
  {
   "cell_type": "code",
   "execution_count": 12,
   "id": "7d844bc4",
   "metadata": {},
   "outputs": [
    {
     "data": {
      "text/plain": [
       "1"
      ]
     },
     "metadata": {},
     "output_type": "display_data"
    }
   ],
   "source": [
    "FEM.showDoFResults(T, :T, visible=true)"
   ]
  },
  {
   "cell_type": "code",
   "execution_count": 13,
   "id": "7f4dcd1b",
   "metadata": {},
   "outputs": [
    {
     "data": {
      "text/plain": [
       "LowLevelFEM.VectorField([[0.0 -0.6806420869613321 … -0.9930046686000746 -0.9949419666513158; 0.0 -0.001327830952720932 … -2.3482932948182267e-6 -1.1993651971575758e-6; … ; 0.0 -0.8629198617416143 … -0.994858584131923 -0.9962862870625954; 0.0 -0.0004970069812029743 … -1.6598054056182754e-6 5.365037639148973e-7], [0.0 -1.0456498357788244 … -0.9967143714511489 -0.9976300894886776; 0.0 0.0010225684979332794 … 1.8796300665924193e-6 1.4834216505166253e-6; … ; 0.0 -0.8632257507145933 … -0.9948591665807796 -0.9962855852825949; 0.0 -3.110287349859797e-5 … -7.726687739628701e-7 -5.323879362362227e-7], [0.0 -1.0029124807280965 … -0.9963253677142064 -0.9973510880199432; 0.0 -0.0003140314760316336 … 1.2603189495155598e-6 -3.134341234369009e-6; … ; 0.0 -0.8318020737727303 … -0.9945402782141182 -0.9960552051152544; 0.0 0.001033602936469924 … 2.548746084185538e-6 -4.4636627644090154e-7], [0.0 -0.11444056614764124 … -0.980977127397247 -0.9862184780308807; 0.0 0.0008440360209792299 … 2.779092394211702e-5 2.0135855256300794e-5; … ; 0.0 -0.13016496614014028 … -0.9815502492657342 -0.9866337931543767; 0.0 -1.7808730059147918e-5 … 6.09112180693927e-7 4.4311357021153963e-7], [0.0 -0.661298521494444 … -0.9927552181077248 -0.9947590824946134; 0.0 0.0013646973748581911 … 3.7879359492815068e-6 2.643155970968869e-6; … ; 0.0 -0.8324339873539647 … -0.9945414482876525 -0.9960547195752874; 0.0 -2.491311320490519e-5 … 5.887603304888245e-7 3.6695988248069966e-7], [0.0 -0.11608815934460542 … -0.9810294246767777 -0.9862563679136384; 0.0 -7.517362406034723e-5 … -1.3862806281031426e-6 -1.0033104934359383e-6; … ; 0.0 -0.12233493245031626 … -0.981264888880507 -0.9864270054364674; 0.0 0.00024325409187527566 … 8.686150428614814e-6 6.2943409078614065e-6], [0.0 -1.4937712177233533 … -1.000118781970536 -0.999932565536853; 0.0 0.003289233730315866 … 7.862096758626258e-6 -2.81240096711155e-6; … ; 0.0 -1.4940681359530563 … -1.0001195544812789 -0.9999323056000984; 0.0 0.0001329386499063917 … 3.9500737306075173e-7 -1.5139581338585728e-7], [0.0 -0.11338232521826488 … -0.9809338828971299 -0.9861871359545902; 0.0 -0.0007689999554061789 … -2.573449950263318e-5 -1.8646430327909358e-5; … ; 0.0 -0.1203078655913565 … -0.9811919660694033 -0.9863741629547855; 0.0 -0.00041799684724670326 … -1.3331625603619363e-5 -9.65874480412035e-6], [0.0 -0.17044531321917114 … -0.9829423257924714 -0.9876424734825537; 0.0 5.023382883310827e-5 … -1.1068906416444868e-6 -8.07376754827227e-7; … ; 0.0 -0.1557516426569371 … -0.9824607677064741 -0.9872935821742542; 0.0 0.0006297240137295669 … 1.3625730694681593e-5 9.859560929567635e-6], [0.0 -0.12645527216794816 … -0.9814211208008047 -0.9865402250369655; 0.0 -0.0005109259585911463 … -1.7432683317511466e-5 -1.2631730605255909e-5; … ; 0.0 -0.12067181789333448 … -0.9812020035418328 -0.9863814330513065; 0.0 -0.00021035883700038904 … -7.605158724340033e-6 -5.511090379051176e-6]  …  [0.0 -0.1277772193863854 … -0.9814875859608847 -0.9865884141698757; 0.0 0.001225260212410744 … 3.2995235957206104e-5 2.389447973732972e-5; … ; 0.0 -0.1489167444529803 … -0.982212217026951 -0.9871134647797652; 0.0 -6.352442108009324e-5 … -4.044667425984194e-7 -2.8973443769175766e-7], [0.0 -0.804431488110661 … -0.9943657385612861 -0.9959339013787945; 0.0 -0.0033598418570487953 … -4.965866243211714e-6 -2.044811924784007e-6; … ; 0.0 -0.9350228043037968 … -0.9956064989179964 -0.9968296094209156; 0.0 -0.0015964418507496275 … -3.3242840430380838e-6 3.5657903629804366e-7], [0.0 -1.009680866146606 … -0.996347624922303 -0.9973679611218589; 0.0 0.0008241568466045568 … 4.041432118961907e-6 -4.366240702741164e-6; … ; 0.0 -0.901563892076685 … -0.9953009754908237 -0.9966104015334962; 0.0 0.002568377257961482 … 5.191722449449099e-6 -4.397176797676927e-7], [0.0 -0.12889030325317033 … -0.9815107501245848 -0.9866051762970726; 0.0 -0.00035272076459700805 … -1.1918892263151903e-5 -8.636241147219614e-6; … ; 0.0 -0.12135794102375833 … -0.9812268875360611 -0.9863994653379685; 0.0 -0.0001489007556842786 … -5.239536435032444e-6 -3.7966475816345047e-6], [0.0 -0.5351193965383445 … -0.990860318058604 -0.9933781367765615; 0.0 -4.805023941671649e-5 … -2.7291272966523117e-6 -1.9775077375605576e-6; … ; 0.0 -0.48410227775795656 … -0.9900600617453106 -0.992797344942769; 0.0 0.0022570165280717466 … 7.851687004317709e-6 5.926800245581454e-6], [0.0 -0.43303984808360846 … -0.9892596223817546 -0.9922164157545532; 0.0 -0.004870601043253098 … -1.9674347361275935e-5 -1.4762918867372576e-5; … ; 0.0 -0.48513792145116974 … -0.9900771151424488 -0.9928097210983855; 0.0 -0.0025580205253193655 … -8.785283473200511e-6 -6.6373396366559145e-6], [0.0 -0.11462947866062577 … -0.9809741933894103 -0.9862163423230146; 0.0 -9.842715540597183e-5 … -2.471060748052839e-6 -1.789704661345204e-6; … ; 0.0 -0.1221334524873865 … -0.9812565844705832 -0.9864209867819973; 0.0 0.00017519989986167824 … 6.348638411542151e-6 4.600579284405604e-6], [0.0 -0.5310280326782539 … -0.9908806582605143 -0.9933922590482112; 0.0 0.005221256725388354 … 1.4387757672762458e-5 1.0969946528660568e-5; … ; 0.0 -0.6616136501149015 … -0.9925627820657569 -0.9946163189280592; 0.0 -0.0001220456597308961 … 1.1390071061323503e-6 9.071407475191862e-7], [0.0 -0.17086159660808523 … -0.982960462725262 -0.9876556203654847; 0.0 0.0010870932945062847 … 2.6615483553343866e-5 1.9268098515462517e-5; … ; 0.0 -0.15122576412699917 … -0.9822921996582168 -0.9871714195376249; 0.0 9.443930781722135e-5 … 1.317800069067232e-6 9.514261066490004e-7], [0.0 -0.7541662719076083 … -0.9937959868276514 -0.9955134245897318; 0.0 0.0035007438262622814 … 8.021724999252022e-6 6.1503621170966305e-6; … ; 0.0 -0.6423586184150487 … -0.9923229383178555 -0.9944417089880406; 0.0 -0.00019465681236272014 … -1.7387305370486494e-6 -1.3378293772792205e-6]], Matrix{Float64}(undef, 0, 0), [0.0, 0.01, 0.02, 0.03, 0.04, 0.05, 0.060000000000000005, 0.07, 0.08, 0.09, 0.09999999999999999, 0.10999999999999999, 0.11999999999999998, 0.12999999999999998, 0.13999999999999999], [33, 34, 35, 36, 37, 38, 39, 40, 41, 42  …  185, 186, 187, 188, 189, 190, 191, 192, 193, 194], 15, :q2D, LowLevelFEM.Problem(\"body1-2D\", :PlaneHeatConduction, 2, 1, LowLevelFEM.Material[LowLevelFEM.Material(\"body\", :Hooke, 200000.0, 0.3, 7.85e-9, 45.0, 4.2e8, 1.2e-5, 115384.61538461536, 76923.07692307692, 166666.66666666666)], 1.0, 357))"
      ]
     },
     "metadata": {},
     "output_type": "display_data"
    }
   ],
   "source": [
    "q1 = FEM.solveHeatFlux(T)"
   ]
  },
  {
   "cell_type": "code",
   "execution_count": 14,
   "id": "91be4964",
   "metadata": {},
   "outputs": [
    {
     "name": "stdout",
     "output_type": "stream",
     "text": [
      "Info    : Running Plugin(Smooth)...\n",
      "Info    : Done running Plugin(Smooth)\n"
     ]
    },
    {
     "data": {
      "text/plain": [
       "2"
      ]
     },
     "metadata": {},
     "output_type": "display_data"
    }
   ],
   "source": [
    "FEM.showHeatFluxResults(q1, :qvec)"
   ]
  },
  {
   "cell_type": "code",
   "execution_count": 15,
   "id": "b0c70fc5",
   "metadata": {},
   "outputs": [
    {
     "data": {
      "text/plain": [
       "LowLevelFEM.VectorField(Matrix{Float64}[], [0.0 -0.10678624510315599 … -0.9806642820023019 -0.9859917441436443; 0.0 -0.00037569827549849494 … -1.437170107093308e-5 -1.0415118689831998e-5; … ; 0.0 -0.5945728642046613 … -0.9917294753940469 -0.9940095716255686; 0.0 0.002685405176205847 … 8.123533274187467e-6 6.051322588643271e-6], [0.0, 0.01, 0.02, 0.03, 0.04, 0.05, 0.060000000000000005, 0.07, 0.08, 0.09, 0.09999999999999999, 0.10999999999999999, 0.11999999999999998, 0.12999999999999998, 0.13999999999999999], Int64[], 15, :q2D, LowLevelFEM.Problem(\"body1-2D\", :PlaneHeatConduction, 2, 1, LowLevelFEM.Material[LowLevelFEM.Material(\"body\", :Hooke, 200000.0, 0.3, 7.85e-9, 45.0, 4.2e8, 1.2e-5, 115384.61538461536, 76923.07692307692, 166666.66666666666)], 1.0, 357))"
      ]
     },
     "metadata": {},
     "output_type": "display_data"
    }
   ],
   "source": [
    "q2 = FEM.solveHeatFlux(T, DoFResults=true)"
   ]
  },
  {
   "cell_type": "code",
   "execution_count": 16,
   "id": "b98876db",
   "metadata": {},
   "outputs": [
    {
     "data": {
      "text/plain": [
       "3"
      ]
     },
     "metadata": {},
     "output_type": "display_data"
    }
   ],
   "source": [
    "FEM.showDoFResults(q2, :qvec)"
   ]
  },
  {
   "cell_type": "code",
   "execution_count": 17,
   "id": "1c94217c",
   "metadata": {},
   "outputs": [
    {
     "data": {
      "text/plain": [
       "LowLevelFEM.VectorField(Matrix{Float64}[], [0.0 -0.10678624510315599 … -0.9806642820023019 -0.9859917441436443; 0.0 -0.00037569827549849494 … -1.437170107093308e-5 -1.0415118689831998e-5; … ; 0.0 -0.5945728642046613 … -0.9917294753940469 -0.9940095716255686; 0.0 0.002685405176205847 … 8.123533274187467e-6 6.051322588643271e-6], [0.0, 0.01, 0.02, 0.03, 0.04, 0.05, 0.060000000000000005, 0.07, 0.08, 0.09, 0.09999999999999999, 0.10999999999999999, 0.11999999999999998, 0.12999999999999998, 0.13999999999999999], Int64[], 15, :q2D, LowLevelFEM.Problem(\"body1-2D\", :PlaneHeatConduction, 2, 1, LowLevelFEM.Material[LowLevelFEM.Material(\"body\", :Hooke, 200000.0, 0.3, 7.85e-9, 45.0, 4.2e8, 1.2e-5, 115384.61538461536, 76923.07692307692, 166666.66666666666)], 1.0, 357))"
      ]
     },
     "metadata": {},
     "output_type": "display_data"
    }
   ],
   "source": [
    "q3 = FEM.elementsToNodes(q1)"
   ]
  },
  {
   "cell_type": "code",
   "execution_count": 18,
   "id": "c9101a26",
   "metadata": {},
   "outputs": [
    {
     "data": {
      "text/plain": [
       "4"
      ]
     },
     "metadata": {},
     "output_type": "display_data"
    }
   ],
   "source": [
    "FEM.showDoFResults(q3, :qvec)"
   ]
  },
  {
   "cell_type": "code",
   "execution_count": 19,
   "id": "276261f2",
   "metadata": {},
   "outputs": [
    {
     "data": {
      "text/plain": [
       "LowLevelFEM.VectorField(Matrix{Float64}[], [0.0 0.000375698275498465 … 1.4371701070770015e-5 1.0415118689766079e-5; 0.0 0.00037569827549849494 … 1.437170107093308e-5 1.0415118689831998e-5; … ; 0.0 0.00017852634485648888 … 1.8400294094500502e-6 1.4142528279581512e-6; 0.0 0.00015720930058077745 … 1.6203196053637958e-6 1.245383127249089e-6], [0.0, 0.01, 0.02, 0.03, 0.04, 0.05, 0.060000000000000005, 0.07, 0.08, 0.09, 0.09999999999999999, 0.10999999999999999, 0.11999999999999998, 0.12999999999999998, 0.13999999999999999], Int64[], 15, :q2D, LowLevelFEM.Problem(\"body1-2D\", :PlaneHeatConduction, 2, 1, LowLevelFEM.Material[LowLevelFEM.Material(\"body\", :Hooke, 200000.0, 0.3, 7.85e-9, 45.0, 4.2e8, 1.2e-5, 115384.61538461536, 76923.07692307692, 166666.66666666666)], 1.0, 357))"
      ]
     },
     "metadata": {},
     "output_type": "display_data"
    }
   ],
   "source": [
    "err1 = FEM.fieldError(q1)"
   ]
  },
  {
   "cell_type": "code",
   "execution_count": 20,
   "id": "4c6cccf6",
   "metadata": {},
   "outputs": [
    {
     "data": {
      "text/plain": [
       "5"
      ]
     },
     "metadata": {},
     "output_type": "display_data"
    }
   ],
   "source": [
    "FEM.showDoFResults(err1, :vector)"
   ]
  },
  {
   "cell_type": "code",
   "execution_count": 21,
   "id": "e07f8b10",
   "metadata": {},
   "outputs": [
    {
     "name": "stdout",
     "output_type": "stream",
     "text": [
      "-------------------------------------------------------\n",
      "Version       : 4.13.1\n",
      "License       : GNU General Public License\n",
      "Build OS      : Linux64-sdk\n",
      "Build date    : 19700101\n",
      "Build host    : amdci7.julia.csail.mit.edu\n",
      "Build options : 64Bit ALGLIB[contrib] ANN[contrib] Bamg Blossom Cairo DIntegration Dlopen DomHex Eigen[contrib] Fltk GMP Gmm[contrib] Hxt Jpeg Kbipack LinuxJoystick MathEx[contrib] Mesh Metis[contrib] Mmg Mpeg Netgen Nii2mesh ONELAB ONELABMetamodel OpenCASCADE OpenCASCADE-CAF OpenGL OpenMP OptHom Parser Plugins Png Post QuadMeshingTools QuadTri Solver TetGen/BR TinyXML2[contrib] Untangle Voro++[contrib] WinslowUntangler Zlib\n",
      "FLTK version  : 1.3.8\n",
      "OCC version   : 7.7.2\n",
      "Packaged by   : root\n",
      "Web site      : https://gmsh.info\n",
      "Issue tracker : https://gitlab.onelab.info/gmsh/gmsh/issues\n",
      "-------------------------------------------------------\n"
     ]
    },
    {
     "name": "stderr",
     "output_type": "stream",
     "text": [
      "XOpenIM() failed\n",
      "XRequest.18: BadValue 0x0\n"
     ]
    }
   ],
   "source": [
    "FEM.openPostProcessor()"
   ]
  },
  {
   "cell_type": "code",
   "execution_count": 22,
   "id": "076f84a7",
   "metadata": {},
   "outputs": [],
   "source": [
    "gmsh.finalize()"
   ]
  }
 ],
 "metadata": {
  "kernelspec": {
   "display_name": "Julia 1.11.6",
   "language": "julia",
   "name": "julia-1.11"
  },
  "language_info": {
   "file_extension": ".jl",
   "mimetype": "application/julia",
   "name": "julia",
   "version": "1.11.6"
  }
 },
 "nbformat": 4,
 "nbformat_minor": 5
}
