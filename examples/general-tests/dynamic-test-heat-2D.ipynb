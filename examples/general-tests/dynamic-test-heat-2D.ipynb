{
 "cells": [
  {
   "cell_type": "code",
   "execution_count": 1,
   "id": "e95346f2",
   "metadata": {},
   "outputs": [],
   "source": [
    "using LowLevelFEM\n",
    "import LowLevelFEM as FEM\n",
    "gmsh.initialize()"
   ]
  },
  {
   "cell_type": "code",
   "execution_count": 2,
   "id": "c376ef73",
   "metadata": {},
   "outputs": [
    {
     "name": "stdout",
     "output_type": "stream",
     "text": [
      "Info    : Reading 'body1-2D.geo'...\n",
      "Info    : Meshing 1D...\n",
      "Info    : [  0%] Meshing curve 1 (Line)\n",
      "Info    : [ 30%] Meshing curve 2 (Line)\n",
      "Info    : [ 60%] Meshing curve 3 (Line)\n",
      "Info    : [ 80%] Meshing curve 4 (Line)\n",
      "Info    : Done meshing 1D (Wall 0.000519213s, CPU 0.000503s)\n",
      "Info    : Meshing 2D...\n",
      "Info    : Meshing surface 1 (Plane, Frontal-Delaunay)\n",
      "Info    : Done meshing 2D (Wall 0.00830597s, CPU 0.008293s)\n",
      "Info    : 98 nodes 198 elements\n",
      "Info    : Done reading 'body1-2D.geo'\n"
     ]
    }
   ],
   "source": [
    "gmsh.open(\"body1-2D.geo\")"
   ]
  },
  {
   "cell_type": "code",
   "execution_count": 3,
   "id": "17d16e97",
   "metadata": {},
   "outputs": [
    {
     "name": "stdout",
     "output_type": "stream",
     "text": [
      "Info    : RCMK renumbering...\n",
      "Info    : Done RCMK renumbering (bandwidth is now 16)\n"
     ]
    },
    {
     "data": {
      "text/plain": [
       "LowLevelFEM.Problem(\"body1-2D\", :PlaneHeatConduction, 2, 1, LowLevelFEM.Material[LowLevelFEM.Material(\"body\", :Hooke, 200000.0, 0.3, 7.85e-9, 45.0, 4.2e8, 1.2e-5, 115384.61538461536, 76923.07692307692, 166666.66666666666)], 1.0, 98)"
      ]
     },
     "metadata": {},
     "output_type": "display_data"
    }
   ],
   "source": [
    "mat = FEM.material(\"body\")\n",
    "problem = FEM.Problem([mat], type=:PlaneHeatConduction)"
   ]
  },
  {
   "cell_type": "code",
   "execution_count": 4,
   "id": "cb740efb",
   "metadata": {},
   "outputs": [
    {
     "data": {
      "text/plain": [
       "(\"right\", 1, 0, 0)"
      ]
     },
     "metadata": {},
     "output_type": "display_data"
    }
   ],
   "source": [
    "supp = FEM.temperatureConstraint(\"left\", T=0)\n",
    "load = FEM.heatFlux(\"right\", qn=-1)"
   ]
  },
  {
   "cell_type": "code",
   "execution_count": 5,
   "id": "34e1f132",
   "metadata": {},
   "outputs": [
    {
     "data": {
      "text/plain": [
       "LowLevelFEM.ScalarField(Matrix{Float64}[], [0.0; 0.0; … ; 0.0; 0.0;;], [0.0], Int64[], 1, :T, LowLevelFEM.Problem(\"body1-2D\", :PlaneHeatConduction, 2, 1, LowLevelFEM.Material[LowLevelFEM.Material(\"body\", :Hooke, 200000.0, 0.3, 7.85e-9, 45.0, 4.2e8, 1.2e-5, 115384.61538461536, 76923.07692307692, 166666.66666666666)], 1.0, 98))"
      ]
     },
     "metadata": {},
     "output_type": "display_data"
    }
   ],
   "source": [
    "T0 = FEM.initialTemperature(problem, \"body\", T=0)"
   ]
  },
  {
   "cell_type": "code",
   "execution_count": 6,
   "id": "e2541d50",
   "metadata": {},
   "outputs": [
    {
     "data": {
      "text/plain": [
       "LowLevelFEM.ScalarField(Matrix{Float64}[], [0.0; 0.0; … ; 0.0; 0.0;;], [0.0], Int64[], 1, :T, LowLevelFEM.Problem(\"body1-2D\", :PlaneHeatConduction, 2, 1, LowLevelFEM.Material[LowLevelFEM.Material(\"body\", :Hooke, 200000.0, 0.3, 7.85e-9, 45.0, 4.2e8, 1.2e-5, 115384.61538461536, 76923.07692307692, 166666.66666666666)], 1.0, 98))"
      ]
     },
     "metadata": {},
     "output_type": "display_data"
    }
   ],
   "source": [
    "FEM.initialTemperature!(problem, \"left\", T0, T=0)\n",
    "T0"
   ]
  },
  {
   "cell_type": "code",
   "execution_count": 7,
   "id": "93379cdd",
   "metadata": {},
   "outputs": [
    {
     "data": {
      "text/plain": [
       "LowLevelFEM.ScalarField(Matrix{Float64}[], [0.0; 0.062499999999999924; … ; 0.0; 0.0;;], Float64[], Int64[], 1, :qn, LowLevelFEM.Problem(\"body1-2D\", :PlaneHeatConduction, 2, 1, LowLevelFEM.Material[LowLevelFEM.Material(\"body\", :Hooke, 200000.0, 0.3, 7.85e-9, 45.0, 4.2e8, 1.2e-5, 115384.61538461536, 76923.07692307692, 166666.66666666666)], 1.0, 98))"
      ]
     },
     "metadata": {},
     "output_type": "display_data"
    }
   ],
   "source": [
    "K = FEM.heatConductionMatrix(problem)\n",
    "C = FEM.heatCapacityMatrix(problem)\n",
    "q = FEM.heatFluxVector(problem, [load])"
   ]
  },
  {
   "cell_type": "code",
   "execution_count": 8,
   "id": "cc13a09e",
   "metadata": {},
   "outputs": [],
   "source": [
    "FEM.applyBoundaryConditions!(K, C, q, [supp])"
   ]
  },
  {
   "cell_type": "code",
   "execution_count": 9,
   "id": "826de555",
   "metadata": {},
   "outputs": [
    {
     "data": {
      "text/plain": [
       "28634.16628528273"
      ]
     },
     "metadata": {},
     "output_type": "display_data"
    }
   ],
   "source": [
    "λmax = FEM.largestEigenValue(K, C)"
   ]
  },
  {
   "cell_type": "code",
   "execution_count": 10,
   "id": "92275a67",
   "metadata": {},
   "outputs": [
    {
     "data": {
      "text/plain": [
       "LowLevelFEM.ScalarField(Matrix{Float64}[], [0.0 0.0 … 0.0 0.0; 0.0 0.0060297789879445165 … -5.641254670169763 10.156487808931965; … ; 0.0 1.6743417968164707e-6 … -0.021679854915271052 0.05736439147570354; 0.0 0.0003800042988058123 … 0.21748580922589214 -0.8924961347251542], [0.0, 0.002054312628686472, 0.004108625257372944, 0.006162937886059415, 0.008217250514745887, 0.010271563143432359, 0.01232587577211883, 0.014380188400805302, 0.016434501029491774, 0.018488813658178248, 0.02054312628686472, 0.022597438915551195, 0.02465175154423767, 0.026706064172924142, 0.028760376801610615, 0.03081468943029709, 0.03286900205898356, 0.034923314687670036, 0.03697762731635651, 0.03903193994504298], Int64[], 20, :T, LowLevelFEM.Problem(\"body1-2D\", :PlaneHeatConduction, 2, 1, LowLevelFEM.Material[LowLevelFEM.Material(\"body\", :Hooke, 200000.0, 0.3, 7.85e-9, 45.0, 4.2e8, 1.2e-5, 115384.61538461536, 76923.07692307692, 166666.66666666666)], 1.0, 98))"
      ]
     },
     "metadata": {},
     "output_type": "display_data"
    }
   ],
   "source": [
    "ϑ = 0.33\n",
    "T = FEM.FDM(K, C, q, T0, 200 * (2 / ((1 - 2ϑ) * λmax)), 10 * 2 / ((1 - 2ϑ) * λmax), ϑ=ϑ)"
   ]
  },
  {
   "cell_type": "code",
   "execution_count": 11,
   "id": "dbc09cfb",
   "metadata": {},
   "outputs": [
    {
     "data": {
      "text/plain": [
       "LowLevelFEM.ScalarField(Matrix{Float64}[], [0.0 0.0 … 0.0 0.0; 0.0 0.009997131200716583 … 0.02195142944671445 0.022026122044932768; … ; 0.0 0.0006955028498644957 … 0.0056738507269208415 0.005703532649398027; 0.0 0.004299019693876794 … 0.01639374619105087 0.016462740381772208], [0.0, 0.01, 0.02, 0.03, 0.04, 0.05, 0.060000000000000005, 0.07, 0.08, 0.09, 0.09999999999999999, 0.10999999999999999, 0.11999999999999998, 0.12999999999999998, 0.13999999999999999], Int64[], 15, :T, LowLevelFEM.Problem(\"body1-2D\", :PlaneHeatConduction, 2, 1, LowLevelFEM.Material[LowLevelFEM.Material(\"body\", :Hooke, 200000.0, 0.3, 7.85e-9, 45.0, 4.2e8, 1.2e-5, 115384.61538461536, 76923.07692307692, 166666.66666666666)], 1.0, 98))"
      ]
     },
     "metadata": {},
     "output_type": "display_data"
    }
   ],
   "source": [
    "ϑ = 0.66\n",
    "T = FEM.FDM(K, C, q, T0, 0.15, 0.01, ϑ=ϑ)"
   ]
  },
  {
   "cell_type": "code",
   "execution_count": 12,
   "id": "7d844bc4",
   "metadata": {},
   "outputs": [
    {
     "data": {
      "text/plain": [
       "1"
      ]
     },
     "metadata": {},
     "output_type": "display_data"
    }
   ],
   "source": [
    "FEM.showDoFResults(T, :T, visible=true)"
   ]
  },
  {
   "cell_type": "code",
   "execution_count": 13,
   "id": "7f4dcd1b",
   "metadata": {},
   "outputs": [
    {
     "data": {
      "text/plain": [
       "LowLevelFEM.VectorField([[0.0 -0.8737295094799341 … -0.9950319310459341 -0.996423284463112; 0.0 0.0045167319574253295 … 4.5151742416177365e-5 3.3471992803707495e-5; … ; 0.0 -0.8737295094799341 … -0.9950319310459341 -0.996423284463112; 0.0 0.0045167319574253295 … 4.5151742416177365e-5 3.3471992803707495e-5], [0.0 -0.8752832765651961 … -0.9950336078296276 -0.9964242720440206; 0.0 0.006883298036587937 … 4.77056769450368e-5 3.497619217626702e-5; … ; 0.0 -0.8752832765651961 … -0.9950336078296276 -0.9964242720440206; 0.0 0.006883298036587937 … 4.77056769450368e-5 3.497619217626702e-5], [0.0 -0.8519119019378492 … -0.9948052809402799 -0.9962591186700933; 0.0 -0.021856241883897207 … -0.00019636914842855076 -0.00013998047680337418; … ; 0.0 -0.8519119019378492 … -0.9948052809402799 -0.9962591186700933; 0.0 -0.021856241883897207 … -0.00019636914842855076 -0.00013998047680337418], [0.0 -0.12874648956120274 … -0.9817238415478617 -0.9867701484671489; 0.0 -0.0038867366066517965 … -0.00014282531649773694 -0.00010343592529868384; … ; 0.0 -0.12874648956120274 … -0.9817238415478617 -0.9867701484671489; 0.0 -0.0038867366066517965 … -0.00014282531649773694 -0.00010343592529868384], [0.0 -0.8456486932820447 … -0.9947486713183498 -0.9962201017629919; 0.0 -0.011364764755537448 … -0.00010154258486175238 -7.462340330072897e-5; … ; 0.0 -0.8456486932820447 … -0.9947486713183498 -0.9962201017629919; 0.0 -0.011364764755537448 … -0.00010154258486175238 -7.462340330072897e-5], [0.0 -0.11742669977826108 … -0.9813037945509139 -0.9864659385610928; 0.0 0.002428693663073185 … 9.152333927231471e-5 6.628599409161037e-5; … ; 0.0 -0.11742669977826108 … -0.9813037945509139 -0.9864659385610928; 0.0 0.002428693663073185 … 9.152333927231471e-5 6.628599409161037e-5], [0.0 -1.2203812832763057 … -0.9980195346119302 -0.9985271350275309; 0.0 0.0010195475174169105 … 4.719842300743293e-6 1.6180932106701906e-6; … ; 0.0 -1.2203812832763057 … -0.9980195346119302 -0.9985271350275309; 0.0 0.0010195475174169105 … 4.719842300743293e-6 1.6180932106701906e-6], [0.0 -0.12584596687621735 … -0.9816181097757194 -0.9866935770386304; 0.0 0.003394600748049981 … 0.00012505196147344355 9.056517673643877e-5; … ; 0.0 -0.12584596687621735 … -0.9816181097757194 -0.9866935770386304; 0.0 0.003394600748049981 … 0.00012505196147344355 9.056517673643877e-5], [0.0 -0.16787327437061889 … -0.9830511458819116 -0.9877311818166102; 0.0 -0.008500591828538469 … -0.00027226102446417655 -0.00019709155636257053; … ; 0.0 -0.16787327437061889 … -0.9830511458819116 -0.9877311818166102; 0.0 -0.008500591828538469 … -0.00027226102446417655 -0.00019709155636257053], [0.0 -0.11616219835812908 … -0.9812559188775246 -0.986431265248221; 0.0 -0.0021300749192119245 … -8.158115232156579e-5 -5.908602186490558e-5; … ; 0.0 -0.11616219835812908 … -0.9812559188775246 -0.986431265248221; 0.0 -0.0021300749192119245 … -8.158115232156579e-5 -5.908602186490558e-5]  …  [0.0 -0.14669293474543119 … -0.9823576118525581 -0.9872290915051181; 0.0 -0.00844716141632194 … -0.00028679228711733784 -0.00020765324556047682; … ; 0.0 -0.14669293474543119 … -0.9823576118525581 -0.9872290915051181; 0.0 -0.00844716141632194 … -0.00028679228711733784 -0.00020765324556047682], [0.0 -0.9560878031939901 … -0.995823374405866 -0.9969955210441841; 0.0 0.034134491489331356 … 0.0002979866111937901 0.00021113248633408688; … ; 0.0 -0.9560878031939901 … -0.995823374405866 -0.9969955210441841; 0.0 0.034134491489331356 … 0.0002979866111937901 0.00021113248633408688], [0.0 -0.9555469869422155 … -0.9958040795976798 -0.9969801905048088; 0.0 -0.06144651564023312 … -0.0005366347821861295 -0.0003801921796118407; … ; 0.0 -0.9555469869422155 … -0.9958040795976798 -0.9969801905048088; 0.0 -0.06144651564023312 … -0.0005366347821861295 -0.0003801921796118407], [0.0 -0.11809812408014721 … -0.9813327018560669 -0.9864868791709575; 0.0 -0.0010610790005783472 … -4.1164971675920065e-5 -2.9814440664112374e-5; … ; 0.0 -0.11809812408014721 … -0.9813327018560669 -0.9864868791709575; 0.0 -0.0010610790005783472 … -4.1164971675920065e-5 -2.9814440664112374e-5], [0.0 -0.5376481382941136 … -0.9909488454410049 -0.9934477313001336; 0.0 -0.0414171418270491 … -0.0006240785726734088 -0.0004533086735580838; … ; 0.0 -0.5376481382941136 … -0.9909488454410049 -0.9934477313001336; 0.0 -0.0414171418270491 … -0.0006240785726734088 -0.0004533086735580838], [0.0 -0.5380656286307735 … -0.9909551581111402 -0.9934523159996339; 0.0 0.045494728935519674 … 0.0006900739304820103 0.0005011201489169004; … ; 0.0 -0.5380656286307735 … -0.9909551581111402 -0.9934523159996339; 0.0 0.045494728935519674 … 0.0006900739304820103 0.0005011201489169004], [0.0 -0.1189506659839239 … -0.981360355208051 -0.9865069009113699; 0.0 0.0019042835834857583 … 7.21073848574923e-5 5.222322073311202e-5; … ; 0.0 -0.1189506659839239 … -0.981360355208051 -0.9865069009113699; 0.0 0.0019042835834857583 … 7.21073848574923e-5 5.222322073311202e-5], [0.0 -0.6576367004908383 … -0.9925815623294888 -0.9946357121194003; 0.0 -0.05979888804858769 … -0.0007421285258830262 -0.0005409718540821257; … ; 0.0 -0.6576367004908383 … -0.9925815623294888 -0.9946357121194003; 0.0 -0.05979888804858769 … -0.0007421285258830262 -0.0005409718540821257], [0.0 -0.14899716362651028 … -0.9824375146579668 -0.9872869504212552; 0.0 0.006923080416362831 … 0.0002328500094714303 0.00016859468628296903; … ; 0.0 -0.14899716362651028 … -0.9824375146579668 -0.9872869504212552; 0.0 0.006923080416362831 … 0.0002328500094714303 0.00016859468628296903], [0.0 -0.6420564538225978 … -0.9923942683499433 -0.9944997423192261; 0.0 0.04638925103136732 … 0.000591508242863345 0.00043142251251834796; … ; 0.0 -0.6420564538225978 … -0.9923942683499433 -0.9944997423192261; 0.0 0.04638925103136732 … 0.000591508242863345 0.00043142251251834796]], Matrix{Float64}(undef, 0, 0), [0.0, 0.01, 0.02, 0.03, 0.04, 0.05, 0.060000000000000005, 0.07, 0.08, 0.09, 0.09999999999999999, 0.10999999999999999, 0.11999999999999998, 0.12999999999999998, 0.13999999999999999], [33, 34, 35, 36, 37, 38, 39, 40, 41, 42  …  185, 186, 187, 188, 189, 190, 191, 192, 193, 194], 15, :q2D, LowLevelFEM.Problem(\"body1-2D\", :PlaneHeatConduction, 2, 1, LowLevelFEM.Material[LowLevelFEM.Material(\"body\", :Hooke, 200000.0, 0.3, 7.85e-9, 45.0, 4.2e8, 1.2e-5, 115384.61538461536, 76923.07692307692, 166666.66666666666)], 1.0, 98))"
      ]
     },
     "metadata": {},
     "output_type": "display_data"
    }
   ],
   "source": [
    "q1 = FEM.solveHeatFlux(T)"
   ]
  },
  {
   "cell_type": "code",
   "execution_count": 14,
   "id": "91be4964",
   "metadata": {},
   "outputs": [
    {
     "name": "stdout",
     "output_type": "stream",
     "text": [
      "Info    : Running Plugin(Smooth)...\n",
      "Info    : Done running Plugin(Smooth)\n"
     ]
    },
    {
     "data": {
      "text/plain": [
       "2"
      ]
     },
     "metadata": {},
     "output_type": "display_data"
    }
   ],
   "source": [
    "FEM.showHeatFluxResults(q1, :qvec)"
   ]
  },
  {
   "cell_type": "code",
   "execution_count": 15,
   "id": "b0c70fc5",
   "metadata": {},
   "outputs": [
    {
     "data": {
      "text/plain": [
       "LowLevelFEM.VectorField(Matrix{Float64}[], [0.0 -0.10867379353969966 … -0.9809659091686 -0.9862212190272407; 0.0 0.0004479021629753301 … 1.7803541702528583e-5 1.289491349776642e-5; … ; 0.0 -0.6669871496499238 … -0.9926187961925689 -0.9946654638767273; 0.0 -0.0011124294887973455 … -7.173390802403534e-6 -5.034886551118223e-6], [0.0, 0.01, 0.02, 0.03, 0.04, 0.05, 0.060000000000000005, 0.07, 0.08, 0.09, 0.09999999999999999, 0.10999999999999999, 0.11999999999999998, 0.12999999999999998, 0.13999999999999999], Int64[], 15, :q2D, LowLevelFEM.Problem(\"body1-2D\", :PlaneHeatConduction, 2, 1, LowLevelFEM.Material[LowLevelFEM.Material(\"body\", :Hooke, 200000.0, 0.3, 7.85e-9, 45.0, 4.2e8, 1.2e-5, 115384.61538461536, 76923.07692307692, 166666.66666666666)], 1.0, 98))"
      ]
     },
     "metadata": {},
     "output_type": "display_data"
    }
   ],
   "source": [
    "q2 = FEM.solveHeatFlux(T, DoFResults=true)"
   ]
  },
  {
   "cell_type": "code",
   "execution_count": 16,
   "id": "b98876db",
   "metadata": {},
   "outputs": [
    {
     "data": {
      "text/plain": [
       "3"
      ]
     },
     "metadata": {},
     "output_type": "display_data"
    }
   ],
   "source": [
    "FEM.showDoFResults(q2, :qvec)"
   ]
  },
  {
   "cell_type": "code",
   "execution_count": 17,
   "id": "1c94217c",
   "metadata": {},
   "outputs": [
    {
     "data": {
      "text/plain": [
       "LowLevelFEM.VectorField(Matrix{Float64}[], [0.0 -0.10867379353969966 … -0.9809659091686 -0.9862212190272407; 0.0 0.0004479021629753301 … 1.7803541702528583e-5 1.289491349776642e-5; … ; 0.0 -0.6669871496499238 … -0.9926187961925689 -0.9946654638767273; 0.0 -0.0011124294887973455 … -7.173390802403534e-6 -5.034886551118223e-6], [0.0, 0.01, 0.02, 0.03, 0.04, 0.05, 0.060000000000000005, 0.07, 0.08, 0.09, 0.09999999999999999, 0.10999999999999999, 0.11999999999999998, 0.12999999999999998, 0.13999999999999999], Int64[], 15, :q2D, LowLevelFEM.Problem(\"body1-2D\", :PlaneHeatConduction, 2, 1, LowLevelFEM.Material[LowLevelFEM.Material(\"body\", :Hooke, 200000.0, 0.3, 7.85e-9, 45.0, 4.2e8, 1.2e-5, 115384.61538461536, 76923.07692307692, 166666.66666666666)], 1.0, 98))"
      ]
     },
     "metadata": {},
     "output_type": "display_data"
    }
   ],
   "source": [
    "q3 = FEM.elementsToNodes(q1)"
   ]
  },
  {
   "cell_type": "code",
   "execution_count": 18,
   "id": "c9101a26",
   "metadata": {},
   "outputs": [
    {
     "data": {
      "text/plain": [
       "4"
      ]
     },
     "metadata": {},
     "output_type": "display_data"
    }
   ],
   "source": [
    "FEM.showDoFResults(q3, :qvec)"
   ]
  },
  {
   "cell_type": "code",
   "execution_count": 19,
   "id": "276261f2",
   "metadata": {},
   "outputs": [
    {
     "data": {
      "text/plain": [
       "LowLevelFEM.VectorField(Matrix{Float64}[], [0.0 0.0004479021629753485 … 1.7803541702554604e-5 1.2894913497873972e-5; 0.0 0.0004479021629753301 … 1.7803541702528583e-5 1.289491349776642e-5; … ; 0.0 0.1132033221401278 … 0.0014187127541194025 0.0010355757458751572; 0.0 0.048599625420262346 … 0.0006229325653385644 0.0004543881746332445], [0.0, 0.01, 0.02, 0.03, 0.04, 0.05, 0.060000000000000005, 0.07, 0.08, 0.09, 0.09999999999999999, 0.10999999999999999, 0.11999999999999998, 0.12999999999999998, 0.13999999999999999], Int64[], 15, :q2D, LowLevelFEM.Problem(\"body1-2D\", :PlaneHeatConduction, 2, 1, LowLevelFEM.Material[LowLevelFEM.Material(\"body\", :Hooke, 200000.0, 0.3, 7.85e-9, 45.0, 4.2e8, 1.2e-5, 115384.61538461536, 76923.07692307692, 166666.66666666666)], 1.0, 98))"
      ]
     },
     "metadata": {},
     "output_type": "display_data"
    }
   ],
   "source": [
    "err1 = FEM.fieldError(q1)"
   ]
  },
  {
   "cell_type": "code",
   "execution_count": 20,
   "id": "4c6cccf6",
   "metadata": {},
   "outputs": [
    {
     "data": {
      "text/plain": [
       "5"
      ]
     },
     "metadata": {},
     "output_type": "display_data"
    }
   ],
   "source": [
    "FEM.showDoFResults(err1, :vector)"
   ]
  },
  {
   "cell_type": "code",
   "execution_count": 21,
   "id": "e07f8b10",
   "metadata": {},
   "outputs": [
    {
     "name": "stdout",
     "output_type": "stream",
     "text": [
      "-------------------------------------------------------\n",
      "Version       : 4.13.1\n",
      "License       : GNU General Public License\n",
      "Build OS      : Linux64-sdk\n",
      "Build date    : 19700101\n",
      "Build host    : amdci7.julia.csail.mit.edu\n",
      "Build options : 64Bit ALGLIB[contrib] ANN[contrib] Bamg Blossom Cairo DIntegration Dlopen DomHex Eigen[contrib] Fltk GMP Gmm[contrib] Hxt Jpeg Kbipack LinuxJoystick MathEx[contrib] Mesh Metis[contrib] Mmg Mpeg Netgen Nii2mesh ONELAB ONELABMetamodel OpenCASCADE OpenCASCADE-CAF OpenGL OpenMP OptHom Parser Plugins Png Post QuadMeshingTools QuadTri Solver TetGen/BR TinyXML2[contrib] Untangle Voro++[contrib] WinslowUntangler Zlib\n",
      "FLTK version  : 1.3.8\n",
      "OCC version   : 7.7.2\n",
      "Packaged by   : root\n",
      "Web site      : https://gmsh.info\n",
      "Issue tracker : https://gitlab.onelab.info/gmsh/gmsh/issues\n",
      "-------------------------------------------------------\n"
     ]
    },
    {
     "name": "stderr",
     "output_type": "stream",
     "text": [
      "XOpenIM() failed\n",
      "XRequest.18: BadValue 0x0\n"
     ]
    }
   ],
   "source": [
    "FEM.openPostProcessor()"
   ]
  },
  {
   "cell_type": "code",
   "execution_count": 22,
   "id": "076f84a7",
   "metadata": {},
   "outputs": [],
   "source": [
    "gmsh.finalize()"
   ]
  }
 ],
 "metadata": {
  "kernelspec": {
   "display_name": "Julia 1.11.6",
   "language": "julia",
   "name": "julia-1.11"
  },
  "language_info": {
   "file_extension": ".jl",
   "mimetype": "application/julia",
   "name": "julia",
   "version": "1.11.6"
  }
 },
 "nbformat": 4,
 "nbformat_minor": 5
}
