{
 "cells": [
  {
   "cell_type": "code",
   "execution_count": null,
   "id": "e95346f2",
   "metadata": {},
   "outputs": [],
   "source": [
    "using LowLevelFEM\n",
    "import LowLevelFEM as FEM\n",
    "gmsh.initialize()"
   ]
  },
  {
   "cell_type": "code",
   "execution_count": null,
   "id": "c376ef73",
   "metadata": {},
   "outputs": [],
   "source": [
    "gmsh.open(\"body2.geo\")"
   ]
  },
  {
   "cell_type": "code",
   "execution_count": null,
   "id": "17d16e97",
   "metadata": {},
   "outputs": [],
   "source": [
    "mat = FEM.material(\"body\")\n",
    "problem = FEM.Problem([mat])"
   ]
  },
  {
   "cell_type": "code",
   "execution_count": null,
   "id": "cb740efb",
   "metadata": {},
   "outputs": [],
   "source": [
    "supp = FEM.displacementConstraint(\"left\", ux=0, uy=0, uz=0)\n",
    "load = FEM.load(\"right\", fx=1)"
   ]
  },
  {
   "cell_type": "code",
   "execution_count": null,
   "id": "34e1f132",
   "metadata": {},
   "outputs": [],
   "source": [
    "u0 = FEM.initialDisplacement(problem, \"body\", ux=0, uy=0, uz=0)"
   ]
  },
  {
   "cell_type": "code",
   "execution_count": null,
   "id": "e2541d50",
   "metadata": {},
   "outputs": [],
   "source": [
    "FEM.initialDisplacement!(\"left\", u0, ux=0, uy=0, uz=0)\n",
    "u0"
   ]
  },
  {
   "cell_type": "code",
   "execution_count": null,
   "id": "8584fdfc",
   "metadata": {},
   "outputs": [],
   "source": [
    "v0 = FEM.initialVelocity(problem, \"body\", vx=0, vy=0, vz=0)"
   ]
  },
  {
   "cell_type": "code",
   "execution_count": null,
   "id": "c9e14625",
   "metadata": {},
   "outputs": [],
   "source": [
    "FEM.initialVelocity!(\"body\", v0, vx=0, vy=0, vz=0)"
   ]
  },
  {
   "cell_type": "code",
   "execution_count": null,
   "id": "93379cdd",
   "metadata": {},
   "outputs": [],
   "source": [
    "K = FEM.stiffnessMatrix(problem)\n",
    "M = FEM.massMatrix(problem)\n",
    "f = FEM.loadVector(problem, [load])"
   ]
  },
  {
   "cell_type": "code",
   "execution_count": null,
   "id": "cc13a09e",
   "metadata": {},
   "outputs": [],
   "source": [
    "FEM.applyBoundaryConditions!(K, M, f, [supp])"
   ]
  },
  {
   "cell_type": "code",
   "execution_count": null,
   "id": "826de555",
   "metadata": {},
   "outputs": [],
   "source": [
    "Tmin = FEM.smallestPeriodTime(K, M)"
   ]
  },
  {
   "cell_type": "code",
   "execution_count": null,
   "id": "92275a67",
   "metadata": {},
   "outputs": [],
   "source": [
    "u, v = FEM.CDM(K, M, f, u0, v0, 10Tmin, Tmin / π)"
   ]
  },
  {
   "cell_type": "code",
   "execution_count": null,
   "id": "7d844bc4",
   "metadata": {},
   "outputs": [],
   "source": [
    "FEM.showDoFResults(u, :uvec, visible=true)"
   ]
  },
  {
   "cell_type": "code",
   "execution_count": null,
   "id": "2444071a",
   "metadata": {},
   "outputs": [],
   "source": [
    "FEM.showDoFResults(v, :vvec)"
   ]
  },
  {
   "cell_type": "code",
   "execution_count": null,
   "id": "7f4dcd1b",
   "metadata": {},
   "outputs": [],
   "source": [
    "e1 = FEM.solveStrain(u)"
   ]
  },
  {
   "cell_type": "code",
   "execution_count": null,
   "id": "91be4964",
   "metadata": {},
   "outputs": [],
   "source": [
    "FEM.showStrainResults(e1, :e)"
   ]
  },
  {
   "cell_type": "code",
   "execution_count": null,
   "id": "b0c70fc5",
   "metadata": {},
   "outputs": [],
   "source": [
    "e2 = FEM.solveStrain(u, DoFResults=true)"
   ]
  },
  {
   "cell_type": "code",
   "execution_count": null,
   "id": "b98876db",
   "metadata": {},
   "outputs": [],
   "source": [
    "FEM.showDoFResults(e2, :e)"
   ]
  },
  {
   "cell_type": "code",
   "execution_count": null,
   "id": "1c94217c",
   "metadata": {},
   "outputs": [],
   "source": [
    "e3 = FEM.elementsToNodes(e1)"
   ]
  },
  {
   "cell_type": "code",
   "execution_count": null,
   "id": "c9101a26",
   "metadata": {},
   "outputs": [],
   "source": [
    "FEM.showDoFResults(e3, :e)"
   ]
  },
  {
   "cell_type": "code",
   "execution_count": null,
   "id": "d928b289",
   "metadata": {},
   "outputs": [],
   "source": [
    "s1 = FEM.solveStress(u)"
   ]
  },
  {
   "cell_type": "code",
   "execution_count": null,
   "id": "cab94d1a",
   "metadata": {},
   "outputs": [],
   "source": [
    "FEM.showStressResults(s1, :s)"
   ]
  },
  {
   "cell_type": "code",
   "execution_count": null,
   "id": "333756f3",
   "metadata": {},
   "outputs": [],
   "source": [
    "s2 = FEM.solveStress(u, DoFResults=true)"
   ]
  },
  {
   "cell_type": "code",
   "execution_count": null,
   "id": "805958db",
   "metadata": {},
   "outputs": [],
   "source": [
    "FEM.showDoFResults(s2, :s)"
   ]
  },
  {
   "cell_type": "code",
   "execution_count": null,
   "id": "276261f2",
   "metadata": {},
   "outputs": [],
   "source": [
    "err1 = FEM.fieldError(e1)"
   ]
  },
  {
   "cell_type": "code",
   "execution_count": null,
   "id": "4c6cccf6",
   "metadata": {},
   "outputs": [],
   "source": [
    "FEM.showDoFResults(err1, :tensor)"
   ]
  },
  {
   "cell_type": "code",
   "execution_count": null,
   "id": "7da85e1d",
   "metadata": {},
   "outputs": [],
   "source": [
    "u2, v2 = FEM.HHT(K, M, f, u0, v0, 10Tmin, Tmin / π)"
   ]
  },
  {
   "cell_type": "code",
   "execution_count": null,
   "id": "6d342af9",
   "metadata": {},
   "outputs": [],
   "source": [
    "FEM.showDoFResults(u2, :uvec)"
   ]
  },
  {
   "cell_type": "code",
   "execution_count": null,
   "id": "4be0f8c5",
   "metadata": {},
   "outputs": [],
   "source": [
    "FEM.showDoFResults(v2, :vvec)"
   ]
  },
  {
   "cell_type": "code",
   "execution_count": null,
   "id": "e07f8b10",
   "metadata": {},
   "outputs": [],
   "source": [
    "FEM.openPostProcessor()"
   ]
  },
  {
   "cell_type": "code",
   "execution_count": null,
   "id": "076f84a7",
   "metadata": {},
   "outputs": [],
   "source": [
    "gmsh.finalize()"
   ]
  }
 ],
 "metadata": {
  "kernelspec": {
   "display_name": "Julia 1.11.6",
   "language": "julia",
   "name": "julia-1.11"
  },
  "language_info": {
   "file_extension": ".jl",
   "mimetype": "application/julia",
   "name": "julia",
   "version": "1.11.6"
  }
 },
 "nbformat": 4,
 "nbformat_minor": 5
}
