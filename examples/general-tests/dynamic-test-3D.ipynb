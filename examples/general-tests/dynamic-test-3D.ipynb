{
 "cells": [
  {
   "cell_type": "code",
   "execution_count": 1,
   "id": "e95346f2",
   "metadata": {},
   "outputs": [
    {
     "name": "stdout",
     "output_type": "stream",
     "text": [
      "Info    : Meshing 1D...\n",
      "Info    : [  0%] Meshing curve 1 (Line)\n",
      "Info    : [ 10%] Meshing curve 2 (Line)\n",
      "Info    : [ 20%] Meshing curve 3 (Line)\n",
      "Info    : [ 30%] Meshing curve 4 (Line)\n",
      "Info    : [ 40%] Meshing curve 5 (Line)\n",
      "Info    : [ 50%] Meshing curve 6 (Line)\n",
      "Info    : [ 60%] Meshing curve 7 (Line)\n",
      "Info    : [ 60%] Meshing curve 8 (Line)\n",
      "Info    : [ 70%] Meshing curve 9 (Line)\n",
      "Info    : [ 80%] Meshing curve 10 (Line)\n",
      "Info    : [ 90%] Meshing curve 11 (Line)\n",
      "Info    : [100%] Meshing curve 12 (Line)\n",
      "Info    : Done meshing 1D (Wall 0.00208668s, CPU 0.002085s)\n",
      "Info    : Meshing 2D...\n",
      "Info    : [  0%] Meshing surface 1 (Plane, Frontal-Delaunay)\n",
      "Info    : [ 20%] Meshing surface 2 (Plane, Frontal-Delaunay)\n",
      "Info    : [ 40%] Meshing surface 3 (Plane, Frontal-Delaunay)\n",
      "Info    : [ 60%] Meshing surface 4 (Plane, Frontal-Delaunay)\n",
      "Info    : [ 70%] Meshing surface 5 (Plane, Frontal-Delaunay)\n",
      "Info    : [ 90%] Meshing surface 6 (Plane, Frontal-Delaunay)\n",
      "Info    : Done meshing 2D (Wall 0.00200309s, CPU 0.002001s)\n",
      "Info    : Meshing 3D...\n",
      "Info    : 3D Meshing 1 volume with 1 connected component\n",
      "Info    : Tetrahedrizing 14 nodes...\n",
      "Info    : Done tetrahedrizing 22 nodes (Wall 0.000174735s, CPU 0.000171s)\n",
      "Info    : Reconstructing mesh...\n",
      "Info    :  - Creating surface mesh\n",
      "Info    :  - Identifying boundary edges\n",
      "Info    :  - Recovering boundary\n",
      "Info    : Done reconstructing mesh (Wall 0.000425569s, CPU 0.00042s)\n",
      "Info    : Found volume 1\n",
      "Info    : It. 0 - 0 nodes created - worst tet radius 0.707107 (nodes removed 0 0)\n",
      "Info    : 3D refinement terminated (14 nodes total):\n",
      "Info    :  - 0 Delaunay cavities modified for star shapeness\n",
      "Info    :  - 0 nodes could not be inserted\n",
      "Info    :  - 24 tetrahedra created in 8.835e-06 sec. (2716468 tets/s)\n",
      "Info    : 0 node relocations\n",
      "Info    : Done meshing 3D (Wall 0.00100104s, CPU 0.000994s)\n",
      "Info    : Optimizing mesh...\n",
      "Info    : Optimizing volume 1\n",
      "Info    : Optimization starts (volume = 1) with worst = 0.803848 / average = 0.869232:\n",
      "Info    : 0.00 < quality < 0.10 :         0 elements\n",
      "Info    : 0.10 < quality < 0.20 :         0 elements\n",
      "Info    : 0.20 < quality < 0.30 :         0 elements\n",
      "Info    : 0.30 < quality < 0.40 :         0 elements\n",
      "Info    : 0.40 < quality < 0.50 :         0 elements\n",
      "Info    : 0.50 < quality < 0.60 :         0 elements\n",
      "Info    : 0.60 < quality < 0.70 :         0 elements\n",
      "Info    : 0.70 < quality < 0.80 :         0 elements\n",
      "Info    : 0.80 < quality < 0.90 :        16 elements\n",
      "Info    : 0.90 < quality < 1.00 :         0 elements\n",
      "Info    : No ill-shaped tets in the mesh :-)\n",
      "Info    : 0.00 < quality < 0.10 :         0 elements\n",
      "Info    : 0.10 < quality < 0.20 :         0 elements\n",
      "Info    : 0.20 < quality < 0.30 :         0 elements\n",
      "Info    : 0.30 < quality < 0.40 :         0 elements\n",
      "Info    : 0.40 < quality < 0.50 :         0 elements\n",
      "Info    : 0.50 < quality < 0.60 :         0 elements\n",
      "Info    : 0.60 < quality < 0.70 :         0 elements\n",
      "Info    : 0.70 < quality < 0.80 :         0 elements\n",
      "Info    : 0.80 < quality < 0.90 :        16 elements\n",
      "Info    : 0.90 < quality < 1.00 :         0 elements\n",
      "Info    : Done optimizing mesh (Wall 0.000104317s, CPU 0.000105s)\n",
      "Info    : 14 nodes 68 elements\n"
     ]
    },
    {
     "name": "stderr",
     "output_type": "stream",
     "text": [
      "\u001b[33m\u001b[1m┌ \u001b[22m\u001b[39m\u001b[33m\u001b[1mWarning: \u001b[22m\u001b[39mNumber of threads(1) ≠ logical threads in CPU(4).\n",
      "\u001b[33m\u001b[1m└ \u001b[22m\u001b[39m\u001b[90m@ LowLevelFEM ~/Dokumentumok/GitHub/LowLevelFEM.jl/src/general.jl:104\u001b[39m\n"
     ]
    }
   ],
   "source": [
    "using LowLevelFEM\n",
    "import LowLevelFEM as FEM\n",
    "gmsh.initialize()"
   ]
  },
  {
   "cell_type": "code",
   "execution_count": 2,
   "id": "c376ef73",
   "metadata": {},
   "outputs": [
    {
     "name": "stdout",
     "output_type": "stream",
     "text": [
      "Info    : Reading 'body2.geo'...\n",
      "Info    : Meshing 1D...\n",
      "Info    : [  0%] Meshing curve 1 (Line)\n",
      "Info    : [ 10%] Meshing curve 2 (Line)\n",
      "Info    : [ 20%] Meshing curve 3 (Line)\n",
      "Info    : [ 30%] Meshing curve 4 (Line)\n",
      "Info    : [ 40%] Meshing curve 5 (Line)\n",
      "Info    : [ 50%] Meshing curve 6 (Line)\n",
      "Info    : [ 60%] Meshing curve 7 (Line)\n",
      "Info    : [ 60%] Meshing curve 8 (Line)\n",
      "Info    : [ 70%] Meshing curve 9 (Line)\n",
      "Info    : [ 80%] Meshing curve 10 (Line)\n",
      "Info    : [ 90%] Meshing curve 11 (Line)\n",
      "Info    : [100%] Meshing curve 12 (Line)\n",
      "Info    : Done meshing 1D (Wall 0.00133393s, CPU 0.001336s)\n",
      "Info    : Meshing 2D...\n",
      "Info    : [  0%] Meshing surface 1 (Transfinite)\n",
      "Info    : [ 20%] Meshing surface 2 (Transfinite)\n",
      "Info    : [ 40%] Meshing surface 3 (Transfinite)\n",
      "Info    : [ 60%] Meshing surface 4 (Transfinite)\n",
      "Info    : [ 70%] Meshing surface 5 (Transfinite)\n",
      "Info    : [ 90%] Meshing surface 6 (Transfinite)\n",
      "Info    : Done meshing 2D (Wall 0.000263286s, CPU 0.000263s)\n",
      "Info    : Meshing 3D...\n",
      "Info    : Meshing volume 1 (Transfinite)\n",
      "Info    : Done meshing 3D (Wall 0.00165964s, CPU 0.000687s)\n",
      "Info    : Optimizing mesh...\n",
      "Info    : Done optimizing mesh (Wall 4.1185e-05s, CPU 3.9e-05s)\n",
      "Info    : Meshing order 2 (curvilinear on)...\n",
      "Info    : [  0%] Meshing curve 1 order 2\n",
      "Info    : [ 10%] Meshing curve 2 order 2\n",
      "Info    : [ 20%] Meshing curve 3 order 2\n",
      "Info    : [ 20%] Meshing curve 4 order 2\n",
      "Info    : [ 30%] Meshing curve 5 order 2\n",
      "Info    : [ 30%] Meshing curve 6 order 2\n",
      "Info    : [ 40%] Meshing curve 7 order 2\n",
      "Info    : [ 40%] Meshing curve 8 order 2\n",
      "Info    : [ 50%] Meshing curve 9 order 2\n",
      "Info    : [ 50%] Meshing curve 10 order 2\n",
      "Info    : [ 60%] Meshing curve 11 order 2\n",
      "Info    : [ 60%] Meshing curve 12 order 2\n",
      "Info    : [ 70%] Meshing surface 1 order 2\n",
      "Info    : [ 70%] Meshing surface 2 order 2\n",
      "Info    : [ 80%] Meshing surface 3 order 2\n",
      "Info    : [ 80%] Meshing surface 4 order 2\n",
      "Info    : [ 90%] Meshing surface 5 order 2\n",
      "Info    : [ 90%] Meshing surface 6 order 2\n",
      "Info    : [100%] Meshing volume 1 order 2\n",
      "Info    : Done meshing order 2 (Wall 0.0109785s, CPU 0.00998s)\n",
      "Info    : 3321 nodes 792 elements\n",
      "Info    : Done reading 'body2.geo'\n"
     ]
    }
   ],
   "source": [
    "gmsh.open(\"body2.geo\")"
   ]
  },
  {
   "cell_type": "code",
   "execution_count": 3,
   "id": "17d16e97",
   "metadata": {},
   "outputs": [
    {
     "data": {
      "text/plain": [
       "Problem(\"body2\", :Solid, 3, 3, LowLevelFEM.Material[LowLevelFEM.Material(\"body\", :Hooke, 200000.0, 0.3, 7.85e-9, 45.0, 4.2e8, 1.2e-5, 115384.61538461536, 76923.07692307692, 166666.66666666666, 1.0)], 1.0, 3321)"
      ]
     },
     "metadata": {},
     "output_type": "display_data"
    }
   ],
   "source": [
    "mat = FEM.material(\"body\")\n",
    "problem = FEM.Problem([mat])"
   ]
  },
  {
   "cell_type": "code",
   "execution_count": 4,
   "id": "cb740efb",
   "metadata": {},
   "outputs": [
    {
     "data": {
      "text/plain": [
       "(\"right\", 1, 0, 0)"
      ]
     },
     "metadata": {},
     "output_type": "display_data"
    }
   ],
   "source": [
    "supp = FEM.displacementConstraint(\"left\", ux=0, uy=0, uz=0)\n",
    "load = FEM.load(\"right\", fx=1)"
   ]
  },
  {
   "cell_type": "code",
   "execution_count": 5,
   "id": "34e1f132",
   "metadata": {},
   "outputs": [
    {
     "data": {
      "text/plain": [
       "VectorField"
      ]
     },
     "metadata": {},
     "output_type": "display_data"
    },
    {
     "data": {
      "text/plain": [
       "9963×1 Matrix{Float64}:\n",
       " 0.0\n",
       " 0.0\n",
       " 0.0\n",
       " 0.0\n",
       " 0.0\n",
       " 0.0\n",
       " 0.0\n",
       " 0.0\n",
       " 0.0\n",
       " 0.0\n",
       " ⋮\n",
       " 0.0\n",
       " 0.0\n",
       " 0.0\n",
       " 0.0\n",
       " 0.0\n",
       " 0.0\n",
       " 0.0\n",
       " 0.0\n",
       " 0.0"
      ]
     },
     "metadata": {},
     "output_type": "display_data"
    },
    {
     "data": {
      "text/plain": []
     },
     "metadata": {},
     "output_type": "display_data"
    }
   ],
   "source": [
    "u0 = FEM.initialDisplacement(problem, \"body\", ux=0, uy=0, uz=0)"
   ]
  },
  {
   "cell_type": "code",
   "execution_count": 6,
   "id": "e2541d50",
   "metadata": {},
   "outputs": [
    {
     "data": {
      "text/plain": [
       "VectorField"
      ]
     },
     "metadata": {},
     "output_type": "display_data"
    },
    {
     "data": {
      "text/plain": [
       "9963×1 Matrix{Float64}:\n",
       " 0.0\n",
       " 0.0\n",
       " 0.0\n",
       " 0.0\n",
       " 0.0\n",
       " 0.0\n",
       " 0.0\n",
       " 0.0\n",
       " 0.0\n",
       " 0.0\n",
       " ⋮\n",
       " 0.0\n",
       " 0.0\n",
       " 0.0\n",
       " 0.0\n",
       " 0.0\n",
       " 0.0\n",
       " 0.0\n",
       " 0.0\n",
       " 0.0"
      ]
     },
     "metadata": {},
     "output_type": "display_data"
    },
    {
     "data": {
      "text/plain": []
     },
     "metadata": {},
     "output_type": "display_data"
    }
   ],
   "source": [
    "FEM.initialDisplacement!(\"left\", u0, ux=0, uy=0, uz=0)\n",
    "u0"
   ]
  },
  {
   "cell_type": "code",
   "execution_count": 7,
   "id": "8584fdfc",
   "metadata": {},
   "outputs": [
    {
     "data": {
      "text/plain": [
       "VectorField"
      ]
     },
     "metadata": {},
     "output_type": "display_data"
    },
    {
     "data": {
      "text/plain": [
       "9963×1 Matrix{Float64}:\n",
       " 0.0\n",
       " 0.0\n",
       " 0.0\n",
       " 0.0\n",
       " 0.0\n",
       " 0.0\n",
       " 0.0\n",
       " 0.0\n",
       " 0.0\n",
       " 0.0\n",
       " ⋮\n",
       " 0.0\n",
       " 0.0\n",
       " 0.0\n",
       " 0.0\n",
       " 0.0\n",
       " 0.0\n",
       " 0.0\n",
       " 0.0\n",
       " 0.0"
      ]
     },
     "metadata": {},
     "output_type": "display_data"
    },
    {
     "data": {
      "text/plain": []
     },
     "metadata": {},
     "output_type": "display_data"
    }
   ],
   "source": [
    "v0 = FEM.initialVelocity(problem, \"body\", vx=0, vy=0, vz=0)"
   ]
  },
  {
   "cell_type": "code",
   "execution_count": 8,
   "id": "c9e14625",
   "metadata": {},
   "outputs": [],
   "source": [
    "FEM.initialVelocity!(\"body\", v0, vx=0, vy=0, vz=0)"
   ]
  },
  {
   "cell_type": "code",
   "execution_count": 9,
   "id": "93379cdd",
   "metadata": {},
   "outputs": [
    {
     "data": {
      "text/plain": [
       "VectorField"
      ]
     },
     "metadata": {},
     "output_type": "display_data"
    },
    {
     "data": {
      "text/plain": [
       "9963×1 Matrix{Float64}:\n",
       " 0.0\n",
       " 0.0\n",
       " 0.0\n",
       " 0.0\n",
       " 0.0\n",
       " 0.0\n",
       " 0.0\n",
       " 0.0\n",
       " 0.0\n",
       " 0.0\n",
       " ⋮\n",
       " 0.0\n",
       " 0.0\n",
       " 0.0\n",
       " 0.0\n",
       " 0.0\n",
       " 0.0\n",
       " 0.0\n",
       " 0.0\n",
       " 0.0"
      ]
     },
     "metadata": {},
     "output_type": "display_data"
    },
    {
     "data": {
      "text/plain": []
     },
     "metadata": {},
     "output_type": "display_data"
    }
   ],
   "source": [
    "K = FEM.stiffnessMatrix(problem)\n",
    "M = FEM.massMatrix(problem)\n",
    "f = FEM.loadVector(problem, [load])"
   ]
  },
  {
   "cell_type": "code",
   "execution_count": 10,
   "id": "cc13a09e",
   "metadata": {},
   "outputs": [],
   "source": [
    "FEM.applyBoundaryConditions!(K, M, f, [supp])"
   ]
  },
  {
   "cell_type": "code",
   "execution_count": 11,
   "id": "826de555",
   "metadata": {},
   "outputs": [
    {
     "data": {
      "text/plain": [
       "4.818281735883919e-8"
      ]
     },
     "metadata": {},
     "output_type": "display_data"
    }
   ],
   "source": [
    "Tmin = FEM.smallestPeriodTime(K, M)"
   ]
  },
  {
   "cell_type": "code",
   "execution_count": 12,
   "id": "92275a67",
   "metadata": {},
   "outputs": [
    {
     "data": {
      "text/plain": [
       "VectorField"
      ]
     },
     "metadata": {},
     "output_type": "display_data"
    },
    {
     "data": {
      "text/plain": [
       "9963×32 Matrix{Float64}:\n",
       " 0.0  0.0   0.0           0.0          …   0.0          0.0\n",
       " 0.0  0.0   0.0           0.0              0.0          0.0\n",
       " 0.0  0.0   0.0           0.0              0.0          0.0\n",
       " 0.0  0.0   0.0           0.0              0.0          0.0\n",
       " 0.0  0.0   0.0           0.0              0.0          0.0\n",
       " 0.0  0.0   0.0           0.0          …   0.0          0.0\n",
       " 0.0  0.0   0.0           0.0              0.0          0.0\n",
       " 0.0  0.0   0.0           0.0              0.0          0.0\n",
       " 0.0  0.0   0.0           0.0              0.0          0.0\n",
       " 0.0  0.0   0.0           0.0              0.0          0.0\n",
       " ⋮                                     ⋱   ⋮           \n",
       " 0.0  0.0  -5.80184e-9   -2.4953e-8        8.98628e-6   9.46125e-6\n",
       " 0.0  0.0  -1.50374e-24   7.37287e-9   …  -5.03533e-7  -5.05009e-7\n",
       " 0.0  0.0   1.02393e-23   7.37287e-9      -5.03533e-7  -5.05009e-7\n",
       " 0.0  0.0   0.0           6.26633e-10      7.74705e-6   8.25773e-6\n",
       " 0.0  0.0   0.0           8.25322e-10     -4.7415e-7   -4.94878e-7\n",
       " 0.0  0.0   0.0           8.25322e-10     -4.7415e-7   -4.94878e-7\n",
       " 0.0  0.0   2.32074e-8    1.12391e-7   …   1.00139e-5   1.03985e-5\n",
       " 0.0  0.0   1.17814e-23  -1.62313e-8      -4.26473e-7  -4.6039e-7\n",
       " 0.0  0.0  -1.65717e-23  -1.62313e-8      -4.26473e-7  -4.6039e-7"
      ]
     },
     "metadata": {},
     "output_type": "display_data"
    },
    {
     "data": {
      "text/plain": [
       "VectorField"
      ]
     },
     "metadata": {},
     "output_type": "display_data"
    },
    {
     "data": {
      "text/plain": [
       "9963×32 Matrix{Float64}:\n",
       " 0.0  0.0   0.0           0.0        …   0.0       0.0       0.0\n",
       " 0.0  0.0   0.0           0.0            0.0       0.0       0.0\n",
       " 0.0  0.0   0.0           0.0            0.0       0.0       0.0\n",
       " 0.0  0.0   0.0           0.0            0.0       0.0       0.0\n",
       " 0.0  0.0   0.0           0.0            0.0       0.0       0.0\n",
       " 0.0  0.0   0.0           0.0        …   0.0       0.0       0.0\n",
       " 0.0  0.0   0.0           0.0            0.0       0.0       0.0\n",
       " 0.0  0.0   0.0           0.0            0.0       0.0       0.0\n",
       " 0.0  0.0   0.0           0.0            0.0       0.0       0.0\n",
       " 0.0  0.0   0.0           0.0            0.0       0.0       0.0\n",
       " ⋮                                   ⋱             ⋮        \n",
       " 0.0  0.0  -0.378289     -1.24869       31.9756   32.3094   30.9688\n",
       " 0.0  0.0  -9.80464e-17   0.480722   …  -1.74517  -1.21758  -0.0962357\n",
       " 0.0  0.0   6.67619e-16   0.480722      -1.74517  -1.21758  -0.0962357\n",
       " 0.0  0.0   0.0           0.0408574     31.4256   32.9435   33.2975\n",
       " 0.0  0.0   0.0           0.0538122      2.34529   0.25213  -1.35147\n",
       " 0.0  0.0   0.0           0.0538122      2.34529   0.25213  -1.35147\n",
       " 0.0  0.0   1.51316       5.81489    …  21.9428   22.3127   25.0794\n",
       " 0.0  0.0   7.68165e-16  -1.05831       -2.85725  -2.50254  -2.21141\n",
       " 0.0  0.0  -1.0805e-15   -1.05831       -2.85725  -2.50254  -2.21141"
      ]
     },
     "metadata": {},
     "output_type": "display_data"
    },
    {
     "data": {
      "text/plain": [
       "(, )"
      ]
     },
     "metadata": {},
     "output_type": "display_data"
    }
   ],
   "source": [
    "u, v = FEM.CDM(K, M, f, u0, v0, 10Tmin, Tmin / π)"
   ]
  },
  {
   "cell_type": "code",
   "execution_count": 13,
   "id": "7d844bc4",
   "metadata": {},
   "outputs": [
    {
     "data": {
      "text/plain": [
       "1"
      ]
     },
     "metadata": {},
     "output_type": "display_data"
    }
   ],
   "source": [
    "FEM.showDoFResults(u, :uvec, visible=true)"
   ]
  },
  {
   "cell_type": "code",
   "execution_count": 14,
   "id": "2444071a",
   "metadata": {},
   "outputs": [
    {
     "data": {
      "text/plain": [
       "2"
      ]
     },
     "metadata": {},
     "output_type": "display_data"
    }
   ],
   "source": [
    "FEM.showDoFResults(v, :vvec)"
   ]
  },
  {
   "cell_type": "code",
   "execution_count": 15,
   "id": "7f4dcd1b",
   "metadata": {},
   "outputs": [
    {
     "data": {
      "text/plain": [
       "TensorField"
      ]
     },
     "metadata": {},
     "output_type": "display_data"
    },
    {
     "data": {
      "text/plain": [
       "320-element Vector{Matrix{Float64}}:\n",
       " [0.0 0.0 … -5.5261150016167146e-14 -8.926695725650686e-13; 0.0 0.0 … 1.7778569746142656e-13 9.324976783564922e-14; … ; 0.0 0.0 … -6.41408061447263e-13 -6.867038044587606e-13; 0.0 0.0 … 1.6411846533500343e-13 1.1588441460487055e-13]\n",
       " [0.0 0.0 … -2.426317508244035e-12 5.730406607197682e-13; 0.0 0.0 … 1.2308901374709314e-12 -7.780846534323223e-14; … ; 0.0 0.0 … -2.2155948995471677e-12 4.009868995690499e-12; 0.0 0.0 … 4.562296538569861e-13 -1.0182669110832112e-12]\n",
       " [0.0 0.0 … -1.5294595531998183e-12 1.332111423270714e-11; 0.0 0.0 … 1.264360138424011e-12 -6.2689879666044354e-12; … ; 0.0 0.0 … 6.312789241007404e-12 8.500340140861849e-12; 0.0 0.0 … -1.7086319406673425e-12 -1.7753141415558091e-12]\n",
       " [0.0 0.0 … 2.307807244170097e-11 4.447426625915836e-12; 0.0 0.0 … -1.045439129588098e-11 -5.403699103817569e-12; … ; 0.0 0.0 … 2.113519474641094e-11 -3.734870247553109e-11; 0.0 0.0 … -4.8135139752427234e-12 9.806698714140095e-12]\n",
       " [0.0 0.0 … 2.8563103257676494e-11 -8.332055653078369e-11; 0.0 0.0 … -2.087393571386841e-11 3.170701722231118e-11; … ; 0.0 0.0 … -5.116675791839595e-11 -5.905798326583546e-11; 0.0 0.0 … 1.4437442072296245e-11 1.5487242788879992e-11]\n",
       " [0.0 0.0 … -1.0436686781057983e-10 -7.990311621471278e-11; 0.0 0.0 … 2.967870937424414e-11 6.680276096534615e-11; … ; 0.0 0.0 … -1.298625581571892e-10 1.9587819482463334e-10; 0.0 0.0 … 3.649636395449749e-11 -5.490433275521924e-11]\n",
       " [0.0 0.0 … -1.7935168439495628e-10 2.293965979956717e-10; 0.0 0.0 … 1.3872575491754763e-10 8.077654808866655e-12; … ; 0.0 0.0 … 2.2419210103422327e-10 2.5129407251211035e-10; 0.0 0.0 … -6.787826271347741e-11 -9.836053461823265e-11]\n",
       " [0.0 0.0 … 1.6509239760012238e-10 1.7455705032309355e-10; 0.0 0.0 … 1.7731396558243024e-10 -1.5295728474451902e-10; … ; 0.0 0.0 … 4.3025372449725724e-10 -6.342699046878397e-10; 0.0 0.0 … -1.8663180526762827e-10 1.7484518973701956e-10]\n",
       " [0.0 0.0 … 1.159445018679314e-10 -5.037470250067762e-10; 0.0 0.0 … -3.3220360669826165e-11 -5.063121134684649e-10; … ; 0.0 0.0 … -6.848071146886004e-10 -4.3740459166815114e-10; 0.0 0.0 … 1.8125667700851848e-10 4.1963951945348316e-10]\n",
       " [0.0 0.0 … -6.065240086008391e-10 3.3001576505737073e-10; 0.0 0.0 … -7.559043135174186e-10 -8.116855749576162e-10; … ; 0.0 0.0 … -5.357252853596556e-10 1.5172355198255233e-9; 0.0 0.0 … 6.902761295029988e-10 -1.9520341144635792e-10]\n",
       " ⋮\n",
       " [0.0 0.0 … 4.471822985633842e-9 6.793361704080122e-10; 0.0 0.0 … -8.198369780957504e-9 -1.8402405886153855e-9; … ; 0.0 0.0 … -2.494661162161812e-10 -2.4933021790750295e-9; 0.0 0.0 … -1.5933493430953368e-9 -1.5577649604e-9]\n",
       " [0.0 0.0 … 3.3654420173209864e-9 -6.3239651034771775e-9; 0.0 0.0 … -3.845920992409774e-9 1.1178434095388513e-8; … ; 0.0 0.0 … -3.0099177701155816e-9 8.458031969872997e-11; 0.0 0.0 … -3.0887809497127095e-9 -1.864861084602294e-9]\n",
       " [0.0 0.0 … 7.543148727191064e-9 -3.7694375753258086e-8; 0.0 0.0 … 1.0802437863754286e-8 2.3833723072315638e-8; … ; 0.0 0.0 … -1.0942921979109819e-9 1.1253143306046791e-9; 0.0 0.0 … 2.668443333211062e-9 9.417197305972905e-9]\n",
       " [0.0 0.0 … -4.484089366399494e-7 -3.0202720826908823e-7; 0.0 0.0 … 1.9880692184208277e-8 -3.1621826135620637e-9; … ; 0.0 0.0 … 3.8714432250776655e-9 7.31258987873417e-9; 0.0 0.0 … -8.137658484371099e-8 -1.7020624142259682e-7]\n",
       " [0.0 0.0 … 3.0336063087453446e-6 3.4404307767259453e-6; 0.0 0.0 … -2.8896790589664795e-8 7.742137442105131e-8; … ; 0.0 0.0 … -9.874771132969261e-9 -1.0588489811859284e-8; 0.0 0.0 … -9.577128899288413e-7 -1.0108136703882619e-6]\n",
       " [0.0 0.0 … 3.358617793930529e-6 4.44384548778582e-6; 0.0 0.0 … -1.3859400835131423e-7 -4.138010398381372e-7; … ; 0.0 0.0 … 5.482429613886166e-9 3.4361339466396125e-8; 0.0 0.0 … -1.1028744698505963e-6 -1.252472059881651e-6]\n",
       " [0.0 0.0 … 1.9334390079625815e-6 1.8080099130045538e-6; 0.0 0.0 … 1.5607025203812427e-7 -9.588505116133721e-8; … ; 0.0 0.0 … -7.341162220381712e-8 -1.2129052642246843e-7; 0.0 0.0 … -1.982854290589394e-6 -1.9771691614075924e-6]\n",
       " [0.0 0.0 … 6.783224758579098e-6 6.241169171917682e-6; 0.0 0.0 … 3.7775261492575816e-7 2.9726442092590886e-7; … ; 0.0 0.0 … 1.3422770211462625e-7 1.0150391493530099e-7; 0.0 0.0 … -1.4041611250615623e-6 -1.5517119961335902e-6]\n",
       " [0.0 -3.595805771029282e-7 … 4.9374874572659415e-6 3.984672351358136e-6; 0.0 0.0 … -2.974292995127573e-7 -2.86901741520315e-7; … ; 0.0 0.0 … -1.830186361152972e-7 -5.84012253817867e-8; 0.0 0.0 … -1.2796926035370087e-6 -1.1705853926928747e-6]"
      ]
     },
     "metadata": {},
     "output_type": "display_data"
    },
    {
     "data": {
      "text/plain": []
     },
     "metadata": {},
     "output_type": "display_data"
    }
   ],
   "source": [
    "e1 = FEM.solveStrain(u)"
   ]
  },
  {
   "cell_type": "code",
   "execution_count": 16,
   "id": "91be4964",
   "metadata": {},
   "outputs": [
    {
     "name": "stdout",
     "output_type": "stream",
     "text": [
      "Info    : Running Plugin(Smooth)...\n",
      "Info    : Done running Plugin(Smooth)\n"
     ]
    },
    {
     "data": {
      "text/plain": [
       "3"
      ]
     },
     "metadata": {},
     "output_type": "display_data"
    }
   ],
   "source": [
    "FEM.showStrainResults(e1, :e)"
   ]
  },
  {
   "cell_type": "code",
   "execution_count": 17,
   "id": "b0c70fc5",
   "metadata": {},
   "outputs": [
    {
     "data": {
      "text/plain": [
       "TensorField"
      ]
     },
     "metadata": {},
     "output_type": "display_data"
    },
    {
     "data": {
      "text/plain": [
       "29889×32 Matrix{Float64}:\n",
       " 0.0  0.0          0.0           0.0          …  -2.2608e-14   -3.14895e-12\n",
       " 0.0  0.0          0.0           0.0             -2.78828e-12   4.49852e-13\n",
       " 0.0  0.0          0.0           0.0              2.78828e-12  -4.49852e-13\n",
       " 0.0  0.0          0.0           0.0             -2.78828e-12   4.49852e-13\n",
       " 0.0  0.0          0.0           0.0              0.0           0.0\n",
       " 0.0  0.0          0.0           0.0          …   0.0           0.0\n",
       " 0.0  0.0          0.0           0.0              2.78828e-12  -4.49852e-13\n",
       " 0.0  0.0          0.0           0.0              0.0           0.0\n",
       " 0.0  0.0          0.0           0.0              0.0           0.0\n",
       " 0.0  0.0          0.0           0.0             -2.2608e-14   -3.14895e-12\n",
       " ⋮                                            ⋱   ⋮            \n",
       " 0.0  3.59581e-7   1.28747e-6    2.44419e-6   …   4.3414e-6     4.40904e-6\n",
       " 0.0  0.0         -1.36969e-24  -6.19541e-8      -2.03741e-7   -3.30841e-7\n",
       " 0.0  0.0         -3.38459e-23  -6.19541e-8      -2.03741e-7   -3.30841e-7\n",
       " 0.0  0.0         -1.36969e-24  -6.19541e-8      -2.03741e-7   -3.30841e-7\n",
       " 0.0  0.0         -1.19352e-7   -4.16136e-7      -1.27969e-6   -1.17059e-6\n",
       " 0.0  0.0          2.90121e-22   6.55127e-22  …  -1.83019e-7   -5.84012e-8\n",
       " 0.0  0.0         -3.38459e-23  -6.19541e-8      -2.03741e-7   -3.30841e-7\n",
       " 0.0  0.0          2.90121e-22   6.55127e-22     -1.83019e-7   -5.84012e-8\n",
       " 0.0  0.0         -1.19352e-7   -4.16136e-7      -1.27969e-6   -1.17059e-6"
      ]
     },
     "metadata": {},
     "output_type": "display_data"
    },
    {
     "data": {
      "text/plain": []
     },
     "metadata": {},
     "output_type": "display_data"
    }
   ],
   "source": [
    "e2 = FEM.solveStrain(u, DoFResults=true)"
   ]
  },
  {
   "cell_type": "code",
   "execution_count": 18,
   "id": "b98876db",
   "metadata": {},
   "outputs": [
    {
     "data": {
      "text/plain": [
       "4"
      ]
     },
     "metadata": {},
     "output_type": "display_data"
    }
   ],
   "source": [
    "FEM.showDoFResults(e2, :e)"
   ]
  },
  {
   "cell_type": "code",
   "execution_count": 19,
   "id": "1c94217c",
   "metadata": {},
   "outputs": [
    {
     "data": {
      "text/plain": [
       "TensorField"
      ]
     },
     "metadata": {},
     "output_type": "display_data"
    },
    {
     "data": {
      "text/plain": [
       "29889×32 Matrix{Float64}:\n",
       " 0.0  0.0          0.0           0.0          …  -2.2608e-14   -3.14895e-12\n",
       " 0.0  0.0          0.0           0.0             -2.78828e-12   4.49852e-13\n",
       " 0.0  0.0          0.0           0.0              2.78828e-12  -4.49852e-13\n",
       " 0.0  0.0          0.0           0.0             -2.78828e-12   4.49852e-13\n",
       " 0.0  0.0          0.0           0.0              0.0           0.0\n",
       " 0.0  0.0          0.0           0.0          …   0.0           0.0\n",
       " 0.0  0.0          0.0           0.0              2.78828e-12  -4.49852e-13\n",
       " 0.0  0.0          0.0           0.0              0.0           0.0\n",
       " 0.0  0.0          0.0           0.0              0.0           0.0\n",
       " 0.0  0.0          0.0           0.0             -2.2608e-14   -3.14895e-12\n",
       " ⋮                                            ⋱   ⋮            \n",
       " 0.0  3.59581e-7   1.28747e-6    2.44419e-6   …   4.3414e-6     4.40904e-6\n",
       " 0.0  0.0         -1.36969e-24  -6.19541e-8      -2.03741e-7   -3.30841e-7\n",
       " 0.0  0.0         -3.38459e-23  -6.19541e-8      -2.03741e-7   -3.30841e-7\n",
       " 0.0  0.0         -1.36969e-24  -6.19541e-8      -2.03741e-7   -3.30841e-7\n",
       " 0.0  0.0         -1.19352e-7   -4.16136e-7      -1.27969e-6   -1.17059e-6\n",
       " 0.0  0.0          2.90121e-22   6.55127e-22  …  -1.83019e-7   -5.84012e-8\n",
       " 0.0  0.0         -3.38459e-23  -6.19541e-8      -2.03741e-7   -3.30841e-7\n",
       " 0.0  0.0          2.90121e-22   6.55127e-22     -1.83019e-7   -5.84012e-8\n",
       " 0.0  0.0         -1.19352e-7   -4.16136e-7      -1.27969e-6   -1.17059e-6"
      ]
     },
     "metadata": {},
     "output_type": "display_data"
    },
    {
     "data": {
      "text/plain": []
     },
     "metadata": {},
     "output_type": "display_data"
    }
   ],
   "source": [
    "e3 = FEM.elementsToNodes(e1)"
   ]
  },
  {
   "cell_type": "code",
   "execution_count": 20,
   "id": "c9101a26",
   "metadata": {},
   "outputs": [
    {
     "data": {
      "text/plain": [
       "5"
      ]
     },
     "metadata": {},
     "output_type": "display_data"
    }
   ],
   "source": [
    "FEM.showDoFResults(e3, :e)"
   ]
  },
  {
   "cell_type": "code",
   "execution_count": 21,
   "id": "d928b289",
   "metadata": {},
   "outputs": [
    {
     "data": {
      "text/plain": [
       "TensorField"
      ]
     },
     "metadata": {},
     "output_type": "display_data"
    },
    {
     "data": {
      "text/plain": [
       "320-element Vector{Matrix{Float64}}:\n",
       " [0.0 0.0 … -1.4878001927429617e-8 -2.403341156905954e-7; 0.0 0.0 … 2.7351645763296393e-8 1.4346118128561418e-8; … ; 0.0 0.0 … -9.867816329957892e-8 -1.0564673914750164e-7; 0.0 0.0 … 6.748919302879434e-8 5.1159160451149745e-8]\n",
       " [0.0 0.0 … -2.210996506144627e-6 2.005026188632293e-6; 0.0 0.0 … 1.8936771345706639e-7 -1.1970533129728036e-8; … ; 0.0 0.0 … -3.4086075377648736e-7 6.16902922413923e-7; 0.0 0.0 … 1.9025039340518713e-7 -4.306263241862083e-7]\n",
       " [0.0 0.0 … 1.7614372127877464e-6 1.0196093929389022e-5; 0.0 0.0 … 1.9451694437292476e-7 -9.644596871699131e-7; … ; 0.0 0.0 … 9.7119834477037e-7 1.307744637055669e-6; 0.0 0.0 … -7.212560113085633e-7 -7.387542246337623e-7]\n",
       " [0.0 0.0 … 2.053612537698546e-5 -1.4217414910895427e-5; 0.0 0.0 … -1.6083678916739968e-6 -8.313383236642414e-7; … ; 0.0 0.0 … 3.2515684225247597e-6 -5.745954227004783e-6; 0.0 0.0 … -2.0058554800105566e-6 4.077133998893355e-6]\n",
       " [0.0 0.0 … -7.931892146058097e-6 -6.81707695487552e-5; 0.0 0.0 … -3.2113747252105245e-6 4.878002649586335e-6; … ; 0.0 0.0 … -7.871808910522454e-6 -9.085843579359302e-6; 0.0 0.0 … 5.977119296755998e-6 6.459136115553064e-6]\n",
       " [0.0 0.0 … -0.00011025862774218134 5.0734306397148646e-5; 0.0 0.0 … 4.565955288345253e-6 1.0277347840822484e-5; … ; 0.0 0.0 … -1.997885510110603e-5 3.0135106896097438e-5; 0.0 0.0 … 1.5132687660336487e-5 -2.2552372558580337e-5]\n",
       " [0.0 0.0 … 6.83094917436983e-6 0.00023567932838004386; 0.0 0.0 … 2.1342423833468864e-5 1.2427161244410238e-6; … ; 0.0 0.0 … 3.449109246680358e-5 3.866062654032467e-5; 0.0 0.0 … -2.7833798930055626e-5 -4.081231923205223e-5]\n",
       " [0.0 0.0 … 0.0002616586335676978 -0.00025202221217775374; 0.0 0.0 … 2.727907162806619e-5 -2.3531889960695235e-5; … ; 0.0 0.0 … 6.619288069188573e-5 -9.757998533659073e-5; 0.0 0.0 … -7.725077069740171e-5 7.114299339962442e-5]\n",
       " [0.0 0.0 … -0.0003582918364774937 -0.0004006570727072529; 0.0 0.0 … -5.110824718434794e-6 -7.789417130284075e-5; … ; 0.0 0.0 … -0.00010535494072132314 -6.729301410279248e-5; 0.0 0.0 … 7.348931376806352e-5 0.00017562823888914804]\n",
       " [0.0 0.0 … -0.00044177253914706564 0.0014949363424872249; 0.0 0.0 … -0.00011629297131037209 -0.00012487470383963327; … ; 0.0 0.0 … -8.241927467071625e-5 0.00023342084920392666; 0.0 0.0 … 0.00028997389943965753 -6.681378469750078e-5]\n",
       " ⋮\n",
       " [0.0 0.0 … 0.004352683691029341 0.0006998208414894771; 0.0 0.0 … -0.0012612876586088468 -0.0002831139367100593; … ; 0.0 0.0 … -3.837940249479711e-5 -0.0003835849506269276; 0.0 0.0 … -0.0006085516394952759 -0.000649345634692856]\n",
       " [0.0 0.0 … 0.001768843098482528 -0.005184348480655405; 0.0 0.0 … -0.0005916801526784268 0.0017197590915982326; … ; 0.0 0.0 … -0.0004630642723254741 1.3012356876727689e-5; 0.0 0.0 … -0.0010288604864234787 -0.0006821088459540585]\n",
       " [0.0 0.0 … -0.0023014032238849263 -0.012680434921364324; 0.0 0.0 … 0.0016619135175006594 0.003666726626510098; … ; 0.0 0.0 … -0.00016835264583245875 0.0001731252816314891; 0.0 0.0 … -0.0035990818598083452 -0.002213345265089305]\n",
       " [0.0 0.0 … -0.10842853776786732 -0.07119708069564608; 0.0 0.0 … 0.003058568028339735 -0.0004864896328557021; … ; 0.0 0.0 … 0.0005956066500119485 0.0011250138274975646; 0.0 0.0 … 0.032283168900405605 0.04079565538154761]\n",
       " [0.0 0.0 … 0.6513338212786236 0.7022287360777697; 0.0 0.0 … -0.0044456600907176605 0.011910980680161741; … ; 0.0 0.0 … -0.001519195558918348 -0.001628998432593736; 0.0 0.0 … -0.010140383691374058 -0.018806340187116147]\n",
       " [0.0 0.0 … 0.6836610496233333 1.0024095730817337; 0.0 0.0 … -0.02132215513097142 -0.0636616984366365; … ; 0.0 0.0 … 0.0008434507098286409 0.005286359917907096; 0.0 0.0 … 0.03533280699301897 0.0023040813965665152]\n",
       " [0.0 0.0 … 0.2825230208524001 0.33036204719056506; 0.0 0.0 … 0.02401080800586527 -0.014751546332513417; … ; 0.0 0.0 … -0.011294095723664173 -0.018660080988072064; 0.0 0.0 … -0.17918198410362798 -0.13735411000059272]\n",
       " [0.0 0.0 … 1.3207426376923836 1.1498506190757114; 0.0 0.0 … 0.0581157869116551 0.04573298783475521; … ; 0.0 0.0 … 0.0206504157099425 0.01561598691312323; 0.0 0.0 … 0.07334328532450818 0.009052008518603771]\n",
       " [0.0 -0.09681015537386528 … 0.9715112997593456 0.7757661278168551; 0.0 0.0 … -0.04575835377119343 -0.044138729464663844; … ; 0.0 0.0 … -0.028156713248507263 -0.008984803904890261; 0.0 0.041490066588800535 … 0.008741069670192309 0.05851064144530538]"
      ]
     },
     "metadata": {},
     "output_type": "display_data"
    },
    {
     "data": {
      "text/plain": []
     },
     "metadata": {},
     "output_type": "display_data"
    }
   ],
   "source": [
    "s1 = FEM.solveStress(u)"
   ]
  },
  {
   "cell_type": "code",
   "execution_count": 22,
   "id": "cab94d1a",
   "metadata": {},
   "outputs": [
    {
     "data": {
      "text/plain": [
       "6"
      ]
     },
     "metadata": {},
     "output_type": "display_data"
    }
   ],
   "source": [
    "FEM.showStressResults(s1, :s)"
   ]
  },
  {
   "cell_type": "code",
   "execution_count": 23,
   "id": "333756f3",
   "metadata": {},
   "outputs": [
    {
     "data": {
      "text/plain": [
       "TensorField"
      ]
     },
     "metadata": {},
     "output_type": "display_data"
    },
    {
     "data": {
      "text/plain": [
       "29889×32 Matrix{Float64}:\n",
       " 0.0  0.0         0.0           0.0          …  -6.08678e-9  -8.47794e-7\n",
       " 0.0  0.0         0.0           0.0             -4.28967e-7   6.9208e-8\n",
       " 0.0  0.0         0.0           0.0              4.28967e-7  -6.9208e-8\n",
       " 0.0  0.0         0.0           0.0             -4.28967e-7   6.9208e-8\n",
       " 0.0  0.0         0.0           0.0             -2.60862e-9  -3.6334e-7\n",
       " 0.0  0.0         0.0           0.0          …   0.0          0.0\n",
       " 0.0  0.0         0.0           0.0              4.28967e-7  -6.9208e-8\n",
       " 0.0  0.0         0.0           0.0              0.0          0.0\n",
       " 0.0  0.0         0.0           0.0             -2.60862e-9  -3.6334e-7\n",
       " 0.0  0.0         0.0           0.0             -6.08678e-9  -8.47794e-7\n",
       " ⋮                                           ⋱   ⋮           \n",
       " 0.0  0.0968102   0.319085      0.56202      …   0.873524     0.916915\n",
       " 0.0  0.0        -2.10721e-19  -0.00953141      -0.0313447   -0.0508987\n",
       " 0.0  0.0        -5.20707e-18  -0.00953141      -0.0313447   -0.0508987\n",
       " 0.0  0.0        -2.10721e-19  -0.00953141      -0.0313447   -0.0508987\n",
       " 0.0  0.0414901   0.10265       0.12197          0.00874107   0.0585106\n",
       " 0.0  0.0         4.4634e-17    1.00789e-16  …  -0.0281567   -0.0089848\n",
       " 0.0  0.0        -5.20707e-18  -0.00953141      -0.0313447   -0.0508987\n",
       " 0.0  0.0         4.4634e-17    1.00789e-16     -0.0281567   -0.0089848\n",
       " 0.0  0.0414901   0.10265       0.12197          0.00874107   0.0585106"
      ]
     },
     "metadata": {},
     "output_type": "display_data"
    },
    {
     "data": {
      "text/plain": []
     },
     "metadata": {},
     "output_type": "display_data"
    }
   ],
   "source": [
    "s2 = FEM.solveStress(u, DoFResults=true)"
   ]
  },
  {
   "cell_type": "code",
   "execution_count": 24,
   "id": "805958db",
   "metadata": {},
   "outputs": [
    {
     "data": {
      "text/plain": [
       "7"
      ]
     },
     "metadata": {},
     "output_type": "display_data"
    }
   ],
   "source": [
    "FEM.showDoFResults(s2, :s)"
   ]
  },
  {
   "cell_type": "code",
   "execution_count": 25,
   "id": "276261f2",
   "metadata": {},
   "outputs": [
    {
     "data": {
      "text/plain": [
       "TensorField"
      ]
     },
     "metadata": {},
     "output_type": "display_data"
    },
    {
     "data": {
      "text/plain": [
       "29889×32 Matrix{Float64}:\n",
       " 0.0  0.0  0.0  0.0  0.0  0.0  0.0  0.0  …  0.0  0.0  0.0  0.0  0.0  0.0  0.0\n",
       " 0.0  0.0  0.0  0.0  0.0  0.0  0.0  0.0     0.0  0.0  0.0  0.0  0.0  0.0  0.0\n",
       " 0.0  0.0  0.0  0.0  0.0  0.0  0.0  0.0     0.0  0.0  0.0  0.0  0.0  0.0  0.0\n",
       " 0.0  0.0  0.0  0.0  0.0  0.0  0.0  0.0     0.0  0.0  0.0  0.0  0.0  0.0  0.0\n",
       " 0.0  0.0  0.0  0.0  0.0  0.0  0.0  0.0     0.0  0.0  0.0  0.0  0.0  0.0  0.0\n",
       " 0.0  0.0  0.0  0.0  0.0  0.0  0.0  0.0  …  0.0  0.0  0.0  0.0  0.0  0.0  0.0\n",
       " 0.0  0.0  0.0  0.0  0.0  0.0  0.0  0.0     0.0  0.0  0.0  0.0  0.0  0.0  0.0\n",
       " 0.0  0.0  0.0  0.0  0.0  0.0  0.0  0.0     0.0  0.0  0.0  0.0  0.0  0.0  0.0\n",
       " 0.0  0.0  0.0  0.0  0.0  0.0  0.0  0.0     0.0  0.0  0.0  0.0  0.0  0.0  0.0\n",
       " 0.0  0.0  0.0  0.0  0.0  0.0  0.0  0.0     0.0  0.0  0.0  0.0  0.0  0.0  0.0\n",
       " ⋮                        ⋮              ⋱  ⋮                        ⋮    \n",
       " 0.0  0.0  0.0  0.0  0.0  0.0  0.0  0.0  …  0.0  0.0  0.0  0.0  0.0  0.0  0.0\n",
       " 0.0  0.0  0.0  0.0  0.0  0.0  0.0  0.0     0.0  0.0  0.0  0.0  0.0  0.0  0.0\n",
       " 0.0  0.0  0.0  0.0  0.0  0.0  0.0  0.0     0.0  0.0  0.0  0.0  0.0  0.0  0.0\n",
       " 0.0  0.0  0.0  0.0  0.0  0.0  0.0  0.0     0.0  0.0  0.0  0.0  0.0  0.0  0.0\n",
       " 0.0  0.0  0.0  0.0  0.0  0.0  0.0  0.0     0.0  0.0  0.0  0.0  0.0  0.0  0.0\n",
       " 0.0  0.0  0.0  0.0  0.0  0.0  0.0  0.0  …  0.0  0.0  0.0  0.0  0.0  0.0  0.0\n",
       " 0.0  0.0  0.0  0.0  0.0  0.0  0.0  0.0     0.0  0.0  0.0  0.0  0.0  0.0  0.0\n",
       " 0.0  0.0  0.0  0.0  0.0  0.0  0.0  0.0     0.0  0.0  0.0  0.0  0.0  0.0  0.0\n",
       " 0.0  0.0  0.0  0.0  0.0  0.0  0.0  0.0     0.0  0.0  0.0  0.0  0.0  0.0  0.0"
      ]
     },
     "metadata": {},
     "output_type": "display_data"
    },
    {
     "data": {
      "text/plain": []
     },
     "metadata": {},
     "output_type": "display_data"
    }
   ],
   "source": [
    "err1 = FEM.fieldError(e1)"
   ]
  },
  {
   "cell_type": "code",
   "execution_count": 26,
   "id": "4c6cccf6",
   "metadata": {},
   "outputs": [
    {
     "data": {
      "text/plain": [
       "8"
      ]
     },
     "metadata": {},
     "output_type": "display_data"
    }
   ],
   "source": [
    "FEM.showDoFResults(err1, :tensor)"
   ]
  },
  {
   "cell_type": "code",
   "execution_count": 27,
   "id": "7da85e1d",
   "metadata": {},
   "outputs": [
    {
     "data": {
      "text/plain": [
       "VectorField"
      ]
     },
     "metadata": {},
     "output_type": "display_data"
    },
    {
     "data": {
      "text/plain": [
       "9963×32 Matrix{Float64}:\n",
       " 0.0   0.0           0.0           0.0          …   0.0          0.0\n",
       " 0.0   0.0           0.0           0.0              0.0          0.0\n",
       " 0.0   0.0           0.0           0.0              0.0          0.0\n",
       " 0.0   0.0           0.0           0.0              0.0          0.0\n",
       " 0.0   0.0           0.0           0.0              0.0          0.0\n",
       " 0.0   0.0           0.0           0.0          …   0.0          0.0\n",
       " 0.0   0.0           0.0           0.0              0.0          0.0\n",
       " 0.0   0.0           0.0           0.0              0.0          0.0\n",
       " 0.0   0.0           0.0           0.0              0.0          0.0\n",
       " 0.0   0.0           0.0           0.0              0.0          0.0\n",
       " ⋮                                              ⋱   ⋮           \n",
       " 0.0  -9.58077e-10  -6.09895e-9   -1.72744e-8       8.89301e-6   9.39419e-6\n",
       " 0.0   1.71758e-10   1.50811e-9    6.0273e-9    …  -4.6505e-7   -4.94899e-7\n",
       " 0.0   1.71758e-10   1.50811e-9    6.0273e-9       -4.6505e-7   -4.94899e-7\n",
       " 0.0   1.12301e-11   8.73772e-11   2.9017e-10       7.69622e-6   8.19583e-6\n",
       " 0.0   1.72687e-11   1.50633e-10   6.10625e-10     -4.55683e-7  -4.4216e-7\n",
       " 0.0   1.72687e-11   1.50633e-10   6.10625e-10     -4.55683e-7  -4.4216e-7\n",
       " 0.0   4.59465e-9    3.31933e-8    1.19461e-7   …   1.01158e-5   1.04907e-5\n",
       " 0.0  -4.60371e-10  -4.39186e-9   -2.00347e-8      -4.21051e-7  -4.6708e-7\n",
       " 0.0  -4.60371e-10  -4.39186e-9   -2.00347e-8      -4.21051e-7  -4.6708e-7"
      ]
     },
     "metadata": {},
     "output_type": "display_data"
    },
    {
     "data": {
      "text/plain": [
       "VectorField"
      ]
     },
     "metadata": {},
     "output_type": "display_data"
    },
    {
     "data": {
      "text/plain": [
       "9963×32 Matrix{Float64}:\n",
       " 0.0   0.0          0.0          0.0        …   0.0       0.0       0.0\n",
       " 0.0   0.0          0.0          0.0            0.0       0.0       0.0\n",
       " 0.0   0.0          0.0          0.0            0.0       0.0       0.0\n",
       " 0.0   0.0          0.0          0.0            0.0       0.0       0.0\n",
       " 0.0   0.0          0.0          0.0            0.0       0.0       0.0\n",
       " 0.0   0.0          0.0          0.0        …   0.0       0.0       0.0\n",
       " 0.0   0.0          0.0          0.0            0.0       0.0       0.0\n",
       " 0.0   0.0          0.0          0.0            0.0       0.0       0.0\n",
       " 0.0   0.0          0.0          0.0            0.0       0.0       0.0\n",
       " 0.0   0.0          0.0          0.0            0.0       0.0       0.0\n",
       " ⋮                                          ⋱             ⋮        \n",
       " 0.0  -0.124936    -0.545449    -0.91187       30.5037   32.2893   33.066\n",
       " 0.0   0.0223978    0.151866     0.437451   …  -1.5563   -2.0742   -1.81825\n",
       " 0.0   0.0223978    0.151866     0.437451      -1.5563   -2.0742   -1.81825\n",
       " 0.0   0.00146444   0.00846538   0.0179795     31.829    32.592    32.5597\n",
       " 0.0   0.00225189   0.0151393    0.044845       3.55363   1.81785  -0.0543963\n",
       " 0.0   0.00225189   0.0151393    0.044845       3.55363   1.81785  -0.0543963\n",
       " 0.0   0.599156     3.1302       8.1194     …  25.3809   24.4503   24.4386\n",
       " 0.0  -0.0600338   -0.452645    -1.58723       -3.34017  -3.13108  -2.87118\n",
       " 0.0  -0.0600338   -0.452645    -1.58723       -3.34017  -3.13108  -2.87118"
      ]
     },
     "metadata": {},
     "output_type": "display_data"
    },
    {
     "data": {
      "text/plain": [
       "(, )"
      ]
     },
     "metadata": {},
     "output_type": "display_data"
    }
   ],
   "source": [
    "u2, v2 = FEM.HHT(K, M, f, u0, v0, 10Tmin, Tmin / π)"
   ]
  },
  {
   "cell_type": "code",
   "execution_count": 28,
   "id": "6d342af9",
   "metadata": {},
   "outputs": [
    {
     "data": {
      "text/plain": [
       "9"
      ]
     },
     "metadata": {},
     "output_type": "display_data"
    }
   ],
   "source": [
    "FEM.showDoFResults(u2, :uvec)"
   ]
  },
  {
   "cell_type": "code",
   "execution_count": 29,
   "id": "4be0f8c5",
   "metadata": {},
   "outputs": [
    {
     "data": {
      "text/plain": [
       "10"
      ]
     },
     "metadata": {},
     "output_type": "display_data"
    }
   ],
   "source": [
    "FEM.showDoFResults(v2, :vvec)"
   ]
  },
  {
   "cell_type": "code",
   "execution_count": 30,
   "id": "e07f8b10",
   "metadata": {},
   "outputs": [
    {
     "name": "stdout",
     "output_type": "stream",
     "text": [
      "-------------------------------------------------------\n",
      "Version       : 4.13.1\n",
      "License       : GNU General Public License\n",
      "Build OS      : Linux64-sdk\n",
      "Build date    : 19700101\n",
      "Build host    : amdci7.julia.csail.mit.edu\n",
      "Build options : 64Bit ALGLIB[contrib] ANN[contrib] Bamg Blossom Cairo DIntegration Dlopen DomHex Eigen[contrib] Fltk GMP Gmm[contrib] Hxt Jpeg Kbipack LinuxJoystick MathEx[contrib] Mesh Metis[contrib] Mmg Mpeg Netgen Nii2mesh ONELAB ONELABMetamodel OpenCASCADE OpenCASCADE-CAF OpenGL OpenMP OptHom Parser Plugins Png Post QuadMeshingTools QuadTri Solver TetGen/BR TinyXML2[contrib] Untangle Voro++[contrib] WinslowUntangler Zlib\n",
      "FLTK version  : 1.3.8\n",
      "OCC version   : 7.7.2\n",
      "Packaged by   : root\n",
      "Web site      : https://gmsh.info\n",
      "Issue tracker : https://gitlab.onelab.info/gmsh/gmsh/issues\n",
      "-------------------------------------------------------\n"
     ]
    },
    {
     "name": "stderr",
     "output_type": "stream",
     "text": [
      "XOpenIM() failed\n",
      "XRequest.18: BadValue 0x0\n",
      "Fontconfig warning: using without calling FcInit()\n"
     ]
    }
   ],
   "source": [
    "FEM.openPostProcessor()"
   ]
  },
  {
   "cell_type": "code",
   "execution_count": 31,
   "id": "076f84a7",
   "metadata": {},
   "outputs": [],
   "source": [
    "gmsh.finalize()"
   ]
  }
 ],
 "metadata": {
  "kernelspec": {
   "display_name": "Julia 1.11.7",
   "language": "julia",
   "name": "julia-1.11"
  },
  "language_info": {
   "file_extension": ".jl",
   "mimetype": "application/julia",
   "name": "julia",
   "version": "1.11.7"
  }
 },
 "nbformat": 4,
 "nbformat_minor": 5
}
