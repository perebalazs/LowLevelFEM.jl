{
 "cells": [
  {
   "cell_type": "code",
   "execution_count": 321,
   "id": "a0f2fb9c",
   "metadata": {},
   "outputs": [],
   "source": [
    "using LowLevelFEM\n",
    "import LowLevelFEM as FEM\n",
    "gmsh.initialize()"
   ]
  },
  {
   "cell_type": "code",
   "execution_count": 322,
   "id": "f8f5edb4",
   "metadata": {},
   "outputs": [
    {
     "name": "stdout",
     "output_type": "stream",
     "text": [
      "Info    : Reading 'test-twist-3D.geo'...\n",
      "Info    : Meshing 1D...\n",
      "Info    : [  0%] Meshing curve 1 (Circle)\n",
      "Info    : [ 40%] Meshing curve 2 (Line)\n",
      "Info    : [ 70%] Meshing curve 3 (Circle)\n",
      "Info    : Done meshing 1D (Wall 0.000491927s, CPU 0.000451s)\n",
      "Info    : Meshing 2D...\n",
      "Info    : [  0%] Meshing surface 1 (Cylinder, Frontal-Delaunay)\n",
      "Info    : [ 40%] Meshing surface 2 (Plane, Frontal-Delaunay)\n",
      "Info    : [ 70%] Meshing surface 3 (Plane, Frontal-Delaunay)\n",
      "Info    : Done meshing 2D (Wall 0.0474216s, CPU 0.037664s)\n",
      "Info    : Meshing 3D...\n",
      "Info    : 3D Meshing 1 volume with 1 connected component\n",
      "Info    : Tetrahedrizing 351 nodes...\n",
      "Info    : Done tetrahedrizing 359 nodes (Wall 0.0106513s, CPU 0.00516s)\n",
      "Info    : Reconstructing mesh...\n",
      "Info    :  - Creating surface mesh\n",
      "Info    :  - Identifying boundary edges\n",
      "Info    :  - Recovering boundary\n",
      "Info    : Done reconstructing mesh (Wall 0.0229711s, CPU 0.013388s)\n",
      "Info    : Found volume 1\n",
      "Info    : It. 0 - 0 nodes created - worst tet radius 2.08616 (nodes removed 0 0)\n",
      "Info    : 3D refinement terminated (435 nodes total):\n",
      "Info    :  - 0 Delaunay cavities modified for star shapeness\n",
      "Info    :  - 0 nodes could not be inserted\n",
      "Info    :  - 1453 tetrahedra created in 0.00878749 sec. (165348 tets/s)\n",
      "Info    : 0 node relocations\n",
      "Info    : Done meshing 3D (Wall 0.0558996s, CPU 0.045466s)\n",
      "Info    : Optimizing mesh...\n",
      "Info    : Optimizing volume 1\n",
      "Info    : Optimization starts (volume = 30459.3) with worst = 0.0206338 / average = 0.763323:\n",
      "Info    : 0.00 < quality < 0.10 :         7 elements\n",
      "Info    : 0.10 < quality < 0.20 :         7 elements\n",
      "Info    : 0.20 < quality < 0.30 :        10 elements\n",
      "Info    : 0.30 < quality < 0.40 :        40 elements\n",
      "Info    : 0.40 < quality < 0.50 :        37 elements\n",
      "Info    : 0.50 < quality < 0.60 :        59 elements\n",
      "Info    : 0.60 < quality < 0.70 :       171 elements\n",
      "Info    : 0.70 < quality < 0.80 :       462 elements\n",
      "Info    : 0.80 < quality < 0.90 :       443 elements\n",
      "Info    : 0.90 < quality < 1.00 :       217 elements\n",
      "Info    : 24 edge swaps, 2 node relocations (volume = 30459.3): worst = 0.29713 / average = 0.774295 (Wall 0.000487841s, CPU 0.000489s)\n",
      "Info    : 25 edge swaps, 2 node relocations (volume = 30459.3): worst = 0.300163 / average = 0.774816 (Wall 0.000615795s, CPU 0.000617s)\n",
      "Info    : No ill-shaped tets in the mesh :-)\n",
      "Info    : 0.00 < quality < 0.10 :         0 elements\n",
      "Info    : 0.10 < quality < 0.20 :         0 elements\n",
      "Info    : 0.20 < quality < 0.30 :         0 elements\n",
      "Info    : 0.30 < quality < 0.40 :        39 elements\n",
      "Info    : 0.40 < quality < 0.50 :        39 elements\n",
      "Info    : 0.50 < quality < 0.60 :        58 elements\n",
      "Info    : 0.60 < quality < 0.70 :       164 elements\n",
      "Info    : 0.70 < quality < 0.80 :       457 elements\n",
      "Info    : 0.80 < quality < 0.90 :       454 elements\n",
      "Info    : 0.90 < quality < 1.00 :       219 elements\n",
      "Info    : Done optimizing mesh (Wall 0.00360013s, CPU 0.003588s)\n",
      "Info    : Meshing order 2 (curvilinear on)...\n",
      "Info    : [  0%] Meshing curve 1 order 2\n",
      "Info    : [ 20%] Meshing curve 2 order 2\n",
      "Info    : [ 30%] Meshing curve 3 order 2\n",
      "Info    : [ 50%] Meshing surface 1 order 2\n",
      "Info    : [ 60%] Meshing surface 2 order 2\n",
      "Info    : [ 80%] Meshing surface 3 order 2\n",
      "Info    : [ 90%] Meshing volume 1 order 2\n",
      "Info    : Surface mesh: worst distortion = 0.971153 (0 elements in ]0, 0.2]); worst gamma = 0.717041\n",
      "Info    : Volume mesh: worst distortion = 0.756548 (0 elements in ]0, 0.2])\n",
      "Info    : Done meshing order 2 (Wall 0.0180591s, CPU 0.017919s)\n",
      "Info    : 2648 nodes 2176 elements\n",
      "Info    : Done reading 'test-twist-3D.geo'\n"
     ]
    }
   ],
   "source": [
    "gmsh.open(\"test-twist-3D.geo\")"
   ]
  },
  {
   "cell_type": "code",
   "execution_count": 323,
   "id": "376b921f",
   "metadata": {},
   "outputs": [
    {
     "name": "stdout",
     "output_type": "stream",
     "text": [
      "Info    : RCMK renumbering...\n",
      "Info    : Done RCMK renumbering (bandwidth is now 302)\n",
      "Info    : RCMK renumbering...\n",
      "Info    : Done RCMK renumbering (bandwidth is now 302)\n"
     ]
    },
    {
     "data": {
      "text/plain": [
       "LowLevelFEM.Problem(\"test-twist-3D\", :HeatConduction, 3, 1, LowLevelFEM.Material[LowLevelFEM.Material(\"body\", :Hooke, 200000.0, 0.3, 7.85e-9, 45.0, 4.2e8, 1.2e-5, 115384.61538461536, 76923.07692307692, 166666.66666666666)], 1.0, 2648)"
      ]
     },
     "metadata": {},
     "output_type": "display_data"
    }
   ],
   "source": [
    "mat = FEM.material(\"body\")\n",
    "elastic = FEM.Problem([mat])\n",
    "thermo = FEM.Problem([mat], type=:HeatConduction)"
   ]
  },
  {
   "cell_type": "code",
   "execution_count": 324,
   "id": "b4ad6cd8",
   "metadata": {},
   "outputs": [
    {
     "data": {
      "text/plain": [
       "(\"supp\", 0, 0, 0)"
      ]
     },
     "metadata": {},
     "output_type": "display_data"
    }
   ],
   "source": [
    "fx(x, y, z) = -y * 100\n",
    "fy(x, y, z) = x * 100\n",
    "load = FEM.load(\"load\", fx=fx, fy=fy, fz=-10)\n",
    "supp = FEM.displacementConstraint(\"supp\", ux=0, uy=0, uz=0)"
   ]
  },
  {
   "cell_type": "code",
   "execution_count": 325,
   "id": "16b20adc",
   "metadata": {},
   "outputs": [
    {
     "data": {
      "text/plain": [
       "LowLevelFEM.VectorField(Matrix{Float64}[], [-0.00013303957121353413; -1.2996882492884803; … ; -0.3135490877687742; -0.004356539884407498;;], [0.0], Int64[], 1, :u3D)"
      ]
     },
     "metadata": {},
     "output_type": "display_data"
    }
   ],
   "source": [
    "u = FEM.solveDisplacement(elastic, [load], [supp])"
   ]
  },
  {
   "cell_type": "code",
   "execution_count": 326,
   "id": "db7a64f4",
   "metadata": {},
   "outputs": [
    {
     "data": {
      "text/plain": [
       "0"
      ]
     },
     "metadata": {},
     "output_type": "display_data"
    }
   ],
   "source": [
    "FEM.showDoFResults(elastic, u, :uvec)"
   ]
  },
  {
   "cell_type": "code",
   "execution_count": 327,
   "id": "df322087",
   "metadata": {},
   "outputs": [
    {
     "data": {
      "text/plain": [
       "LowLevelFEM.ScalarField(Matrix{Float64}[], [273.0; 273.0; … ; 273.0; 273.0;;], [0.0], Int64[], 1, :T)"
      ]
     },
     "metadata": {},
     "output_type": "display_data"
    }
   ],
   "source": [
    "T0 = FEM.initialTemperature(thermo, \"body\", T=273)"
   ]
  },
  {
   "cell_type": "code",
   "execution_count": 328,
   "id": "f55aee55",
   "metadata": {},
   "outputs": [
    {
     "data": {
      "text/plain": [
       "2648×2648 SparseArrays.SparseMatrixCSC{Float64, Int64} with 63014 stored entries:\n",
       "⎡⣿⣿⡀⣰⣿⣿⣳⣶⣦⣀⣀⠀⠀⠀⠀⠀⠀⠀⠀⣟⣧⣶⣿⣷⣒⣖⣶⣶⣗⣶⣶⣶⣶⣶⣷⣇⣻⣿⣿⣿⎤\n",
       "⎢⢀⣨⣻⣾⣿⣇⣠⣠⣠⣦⣼⡿⠿⣷⣶⣶⣤⣤⣀⠀⣀⣿⣿⣿⣿⣿⣿⣿⣿⣿⣷⣿⣾⣿⣿⣿⣿⣿⣿⣧⎥\n",
       "⎢⣿⣿⠿⢿⣿⣿⣷⣿⣿⣿⡿⠟⠻⠿⠿⠷⣿⣿⣿⣷⣦⣿⣿⡿⣿⡿⢿⣿⣿⣿⣿⡿⣿⣿⣿⣿⣿⣿⣿⣿⎥\n",
       "⎢⢹⣾⠀⣺⣽⣿⠻⣦⣳⢿⢃⠀⠀⠀⠀⠀⠈⣐⡮⠉⠀⣿⣇⣶⢖⣵⣤⣆⡞⣤⢶⡧⢞⢾⣿⡿⢻⣿⡻⡿⎥\n",
       "⎢⠈⢻⠠⣾⣿⣿⣽⣞⣿⣿⣃⠀⠀⠀⢠⠤⣶⢾⣾⠄⠛⣿⡿⣷⣢⣶⣟⣾⡅⣗⢿⣾⣾⢟⣻⢿⢭⣟⣻⣯⎥\n",
       "⎢⠀⠘⣶⡿⣿⠏⠉⠐⠉⠘⠻⣦⡀⠀⣤⠆⣜⡆⠩⠀⠀⣿⡷⠋⠿⣷⡿⡥⣥⡃⡉⣷⢸⣿⣻⣏⣝⣿⢫⡟⎥\n",
       "⎢⠀⠀⢿⣧⣿⡆⠀⠀⠀⠀⠀⠈⣿⣿⣇⡀⡠⡫⠄⠀⠀⣿⣷⢰⣾⠂⡰⣿⡻⣟⡇⣾⡼⣿⣿⣻⣽⣪⡷⠅⎥\n",
       "⎢⠀⠀⢸⣿⢿⡇⠀⠀⠀⡖⠠⠟⠉⠹⣻⣾⣿⣟⣿⠀⠀⣿⣿⣹⡝⡻⣏⢻⣿⣿⣻⠿⣧⣮⣿⣙⣿⣿⢟⡧⎥\n",
       "⎢⠀⠀⠀⣿⣿⣿⢂⢠⣸⣟⠲⠽⡤⡪⣿⢿⣿⣿⣿⠄⠀⣿⡿⣯⣯⣿⡿⣭⣸⣽⢿⣿⣳⡜⣿⣿⣷⣿⣿⣾⎥\n",
       "⎢⣤⢤⠀⠘⢿⣿⡎⠋⠚⠟⠃⠂⠀⠁⠛⠛⠛⠟⠻⣦⡄⣿⣯⠗⠺⠓⠚⢻⠏⠞⣼⡗⠛⡬⡟⣽⣿⡿⣷⣷⎥\n",
       "⎢⢩⣿⣤⣼⣬⣿⣤⣤⣿⣤⣤⣤⣤⣤⣤⣤⣤⣤⣤⣭⣿⣿⣧⣼⣤⣼⣤⣤⣧⣤⣿⣧⣿⣿⣼⣯⣯⣼⣿⣿⎥\n",
       "⎢⢿⣿⣿⣿⣿⡿⢩⣽⢿⣯⡽⠋⢙⣛⣟⣻⡿⣯⢯⠟⣉⣿⣿⣿⣯⣿⣿⣿⣿⣿⣿⣿⣿⣿⣿⣽⢿⣟⣯⣻⎥\n",
       "⎢⢸⢼⣿⣿⣿⡿⢜⣵⢨⣾⢿⣧⠺⠛⣷⡩⣯⣿⢾⠂⣀⣿⣯⣿⣿⣿⣿⣿⣿⣿⣿⣿⣿⡿⣿⣷⡟⣿⣻⢽⎥\n",
       "⎢⢸⣿⣿⣿⣿⣷⠠⢿⣻⣽⠟⡯⣴⣮⣯⣙⡟⣯⣾⣀⠀⣿⣿⣿⣿⣿⣿⣿⣏⣿⣿⣿⣿⣿⣿⣿⣿⣿⣻⣭⎥\n",
       "⎢⢹⣽⣿⣿⣿⣿⠚⣭⢥⢭⠥⠻⣿⢮⣿⣿⣖⣾⣫⠅⠉⣿⣿⣿⣿⣿⣯⣽⣿⣿⣿⣿⣿⣿⣿⣿⣿⣿⣿⣿⎥\n",
       "⎢⢸⣿⣽⣿⣿⡿⠼⡷⣻⣷⢧⣬⣩⣭⣿⡞⣿⣷⢶⠿⠿⣿⣿⣿⣿⣿⣿⣿⣿⣿⣿⣿⣷⣿⣿⣿⣿⣿⣿⣞⎥\n",
       "⎢⢸⣿⣾⣿⣿⣿⣺⣕⣾⢟⣶⣶⣶⣯⡩⣿⣙⠾⡛⡤⣿⣿⣿⣿⣿⡿⣿⣿⣿⣿⣽⣿⣿⣿⣿⣿⣿⣿⣿⣿⎥\n",
       "⎢⠽⢿⣿⣿⣿⣿⣿⡿⣿⣞⡿⢾⣿⣻⣟⢻⣿⣿⣟⣭⡶⣿⣟⣿⢿⣿⣿⣿⣿⣿⣿⣿⣿⣿⣿⣿⣿⣿⣿⣿⎥\n",
       "⎢⣿⣾⣿⣿⣿⣿⣿⣶⣧⢷⣷⣽⡳⣻⣿⣿⣽⣿⣿⡿⣋⣿⣿⢷⣿⣭⣿⣿⣿⣿⣿⣿⣿⣿⣿⣿⣿⣿⣿⣿⎥\n",
       "⎣⣿⣿⠿⣿⣿⣿⣿⡮⡿⣾⣯⠶⠝⠏⠿⡵⣻⣿⢽⣿⣿⣿⣯⣻⣟⣞⡟⣾⣿⣿⣻⢿⣿⣿⣿⣿⣿⣿⣿⣿⎦"
      ]
     },
     "metadata": {},
     "output_type": "display_data"
    }
   ],
   "source": [
    "L = FEM.latentHeatMatrix(thermo, u, u, T0)"
   ]
  },
  {
   "cell_type": "code",
   "execution_count": 329,
   "id": "ef8e5cbd",
   "metadata": {},
   "outputs": [
    {
     "data": {
      "text/plain": [
       "2648×2648 SparseArrays.SparseMatrixCSC{Float64, Int64} with 63014 stored entries:\n",
       "⎡⣿⣿⡀⣰⣿⣿⣳⣶⣦⣀⣀⠀⠀⠀⠀⠀⠀⠀⠀⣟⣧⣶⣿⣷⣒⣖⣶⣶⣗⣶⣶⣶⣶⣶⣷⣇⣻⣿⣿⣿⎤\n",
       "⎢⢀⣨⣻⣾⣿⣇⣠⣠⣠⣦⣼⡿⠿⣷⣶⣶⣤⣤⣀⠀⣀⣿⣿⣿⣿⣿⣿⣿⣿⣿⣷⣿⣾⣿⣿⣿⣿⣿⣿⣧⎥\n",
       "⎢⣿⣿⠿⢿⣿⣿⣷⣿⣿⣿⡿⠟⠻⠿⠿⠷⣿⣿⣿⣷⣦⣿⣿⡿⣿⡿⢿⣿⣿⣿⣿⡿⣿⣿⣿⣿⣿⣿⣿⣿⎥\n",
       "⎢⢹⣾⠀⣺⣽⣿⠻⣦⣳⢿⢃⠀⠀⠀⠀⠀⠈⣐⡮⠉⠀⣿⣇⣶⢖⣵⣤⣆⡞⣤⢶⡧⢞⢾⣿⡿⢻⣿⡻⡿⎥\n",
       "⎢⠈⢻⠠⣾⣿⣿⣽⣞⣿⣿⣃⠀⠀⠀⢠⠤⣶⢾⣾⠄⠛⣿⡿⣷⣢⣶⣟⣾⡅⣗⢿⣾⣾⢟⣻⢿⢭⣟⣻⣯⎥\n",
       "⎢⠀⠘⣶⡿⣿⠏⠉⠐⠉⠘⠻⣦⡀⠀⣤⠆⣜⡆⠩⠀⠀⣿⡷⠋⠿⣷⡿⡥⣥⡃⡉⣷⢸⣿⣻⣏⣝⣿⢫⡟⎥\n",
       "⎢⠀⠀⢿⣧⣿⡆⠀⠀⠀⠀⠀⠈⣿⣿⣇⡀⡠⡫⠄⠀⠀⣿⣷⢰⣾⠂⡰⣿⡻⣟⡇⣾⡼⣿⣿⣻⣽⣪⡷⠅⎥\n",
       "⎢⠀⠀⢸⣿⢿⡇⠀⠀⠀⡖⠠⠟⠉⠹⣻⣾⣿⣟⣿⠀⠀⣿⣿⣹⡝⡻⣏⢻⣿⣿⣻⠿⣧⣮⣿⣙⣿⣿⢟⡧⎥\n",
       "⎢⠀⠀⠀⣿⣿⣿⢂⢠⣸⣟⠲⠽⡤⡪⣿⢿⣿⣿⣿⠄⠀⣿⡿⣯⣯⣿⡿⣭⣸⣽⢿⣿⣳⡜⣿⣿⣷⣿⣿⣾⎥\n",
       "⎢⣤⢤⠀⠘⢿⣿⡎⠋⠚⠟⠃⠂⠀⠁⠛⠛⠛⠟⠻⣦⡄⣿⣯⠗⠺⠓⠚⢻⠏⠞⣼⡗⠛⡬⡟⣽⣿⡿⣷⣷⎥\n",
       "⎢⢩⣿⣤⣼⣬⣿⣤⣤⣿⣤⣤⣤⣤⣤⣤⣤⣤⣤⣤⣭⣿⣿⣧⣼⣤⣼⣤⣤⣧⣤⣿⣧⣿⣿⣼⣯⣯⣼⣿⣿⎥\n",
       "⎢⢿⣿⣿⣿⣿⡿⢩⣽⢿⣯⡽⠋⢙⣛⣟⣻⡿⣯⢯⠟⣉⣿⣿⣿⣯⣿⣿⣿⣿⣿⣿⣿⣿⣿⣿⣽⢿⣟⣯⣻⎥\n",
       "⎢⢸⢼⣿⣿⣿⡿⢜⣵⢨⣾⢿⣧⠺⠛⣷⡩⣯⣿⢾⠂⣀⣿⣯⣿⣿⣿⣿⣿⣿⣿⣿⣿⣿⡿⣿⣷⡟⣿⣻⢽⎥\n",
       "⎢⢸⣿⣿⣿⣿⣷⠠⢿⣻⣽⠟⡯⣴⣮⣯⣙⡟⣯⣾⣀⠀⣿⣿⣿⣿⣿⣿⣿⣏⣿⣿⣿⣿⣿⣿⣿⣿⣿⣻⣭⎥\n",
       "⎢⢹⣽⣿⣿⣿⣿⠚⣭⢥⢭⠥⠻⣿⢮⣿⣿⣖⣾⣫⠅⠉⣿⣿⣿⣿⣿⣯⣽⣿⣿⣿⣿⣿⣿⣿⣿⣿⣿⣿⣿⎥\n",
       "⎢⢸⣿⣽⣿⣿⡿⠼⡷⣻⣷⢧⣬⣩⣭⣿⡞⣿⣷⢶⠿⠿⣿⣿⣿⣿⣿⣿⣿⣿⣿⣿⣿⣷⣿⣿⣿⣿⣿⣿⣞⎥\n",
       "⎢⢸⣿⣾⣿⣿⣿⣺⣕⣾⢟⣶⣶⣶⣯⡩⣿⣙⠾⡛⡤⣿⣿⣿⣿⣿⡿⣿⣿⣿⣿⣽⣿⣿⣿⣿⣿⣿⣿⣿⣿⎥\n",
       "⎢⠽⢿⣿⣿⣿⣿⣿⡿⣿⣞⡿⢾⣿⣻⣟⢻⣿⣿⣟⣭⡶⣿⣟⣿⢿⣿⣿⣿⣿⣿⣿⣿⣿⣿⣿⣿⣿⣿⣿⣿⎥\n",
       "⎢⣿⣾⣿⣿⣿⣿⣿⣶⣧⢷⣷⣽⡳⣻⣿⣿⣽⣿⣿⡿⣋⣿⣿⢷⣿⣭⣿⣿⣿⣿⣿⣿⣿⣿⣿⣿⣿⣿⣿⣿⎥\n",
       "⎣⣿⣿⠿⣿⣿⣿⣿⡮⡿⣾⣯⠶⠝⠏⠿⡵⣻⣿⢽⣿⣿⣿⣯⣻⣟⣞⡟⣾⣿⣿⣻⢿⣿⣿⣿⣿⣿⣿⣿⣿⎦"
      ]
     },
     "metadata": {},
     "output_type": "display_data"
    }
   ],
   "source": [
    "C = FEM.heatCapacityMatrix(thermo)"
   ]
  },
  {
   "cell_type": "code",
   "execution_count": 330,
   "id": "be88e434",
   "metadata": {},
   "outputs": [
    {
     "data": {
      "text/plain": [
       "LowLevelFEM.ScalarField(Matrix{Float64}[], [4.016618420386749; 4.08016298389731; … ; 1.7404374876010706; 0.3703037982343744;;], [0.0], Int64[], 1, :T)"
      ]
     },
     "metadata": {},
     "output_type": "display_data"
    }
   ],
   "source": [
    "T1 = C \\ ((C + L) * T0.a) - T0.a\n",
    "T1 = FEM.ScalarField([], reshape(T1, :, 1), [0.0], [], 1, :T)"
   ]
  },
  {
   "cell_type": "code",
   "execution_count": 331,
   "id": "58bcd364",
   "metadata": {},
   "outputs": [
    {
     "data": {
      "text/plain": [
       "1"
      ]
     },
     "metadata": {},
     "output_type": "display_data"
    }
   ],
   "source": [
    "FEM.showDoFResults(thermo, T1, :T, visible=true)"
   ]
  },
  {
   "cell_type": "code",
   "execution_count": 332,
   "id": "0d19f135",
   "metadata": {},
   "outputs": [
    {
     "name": "stdout",
     "output_type": "stream",
     "text": [
      "-------------------------------------------------------\n",
      "Version       : 4.13.1\n",
      "License       : GNU General Public License\n",
      "Build OS      : Linux64-sdk\n",
      "Build date    : 19700101\n",
      "Build host    : amdci7.julia.csail.mit.edu\n",
      "Build options : 64Bit ALGLIB[contrib] ANN[contrib] Bamg Blossom Cairo DIntegration Dlopen DomHex Eigen[contrib] Fltk GMP Gmm[contrib] Hxt Jpeg Kbipack LinuxJoystick MathEx[contrib] Mesh Metis[contrib] Mmg Mpeg Netgen Nii2mesh ONELAB ONELABMetamodel OpenCASCADE OpenCASCADE-CAF OpenGL OpenMP OptHom Parser Plugins Png Post QuadMeshingTools QuadTri Solver TetGen/BR TinyXML2[contrib] Untangle Voro++[contrib] WinslowUntangler Zlib\n",
      "FLTK version  : 1.3.8\n",
      "OCC version   : 7.7.2\n",
      "Packaged by   : root\n",
      "Web site      : https://gmsh.info\n",
      "Issue tracker : https://gitlab.onelab.info/gmsh/gmsh/issues\n",
      "-------------------------------------------------------\n"
     ]
    },
    {
     "name": "stderr",
     "output_type": "stream",
     "text": [
      "XRequest.18: BadValue 0x0\n"
     ]
    }
   ],
   "source": [
    "FEM.openPostProcessor()"
   ]
  },
  {
   "cell_type": "code",
   "execution_count": 333,
   "id": "3229f650",
   "metadata": {},
   "outputs": [],
   "source": [
    "gmsh.finalize()"
   ]
  }
 ],
 "metadata": {
  "kernelspec": {
   "display_name": "Julia 1.11.5",
   "language": "julia",
   "name": "julia-1.11"
  },
  "language_info": {
   "file_extension": ".jl",
   "mimetype": "application/julia",
   "name": "julia",
   "version": "1.11.5"
  }
 },
 "nbformat": 4,
 "nbformat_minor": 5
}
