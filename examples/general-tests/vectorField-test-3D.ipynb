{
 "cells": [
  {
   "cell_type": "code",
   "execution_count": 1,
   "id": "e95346f2",
   "metadata": {},
   "outputs": [],
   "source": [
    "using LowLevelFEM\n",
    "import LowLevelFEM as FEM\n",
    "gmsh.initialize()"
   ]
  },
  {
   "cell_type": "code",
   "execution_count": 2,
   "id": "c376ef73",
   "metadata": {},
   "outputs": [
    {
     "name": "stdout",
     "output_type": "stream",
     "text": [
      "Info    : Reading 'body2.geo'...\n",
      "Info    : Meshing 1D...\n",
      "Info    : [  0%] Meshing curve 1 (Line)\n",
      "Info    : [ 10%] Meshing curve 2 (Line)\n",
      "Info    : [ 20%] Meshing curve 3 (Line)\n",
      "Info    : [ 30%] Meshing curve 4 (Line)\n",
      "Info    : [ 40%] Meshing curve 5 (Line)\n",
      "Info    : [ 50%] Meshing curve 6 (Line)\n",
      "Info    : [ 60%] Meshing curve 7 (Line)\n",
      "Info    : [ 60%] Meshing curve 8 (Line)\n",
      "Info    : [ 70%] Meshing curve 9 (Line)\n",
      "Info    : [ 80%] Meshing curve 10 (Line)\n",
      "Info    : [ 90%] Meshing curve 11 (Line)\n",
      "Info    : [100%] Meshing curve 12 (Line)\n",
      "Info    : Done meshing 1D (Wall 0.000629244s, CPU 0.000631s)\n",
      "Info    : Meshing 2D...\n",
      "Info    : [  0%] Meshing surface 1 (Transfinite)\n",
      "Info    : [ 20%] Meshing surface 2 (Transfinite)\n",
      "Info    : [ 40%] Meshing surface 3 (Transfinite)\n",
      "Info    : [ 60%] Meshing surface 4 (Transfinite)\n",
      "Info    : [ 70%] Meshing surface 5 (Transfinite)\n",
      "Info    : [ 90%] Meshing surface 6 (Transfinite)\n",
      "Info    : Done meshing 2D (Wall 0.000251884s, CPU 0.000251s)\n",
      "Info    : Meshing 3D...\n",
      "Info    : Meshing volume 1 (Transfinite)\n",
      "Info    : Done meshing 3D (Wall 0.00107987s, CPU 0.001078s)\n",
      "Info    : Optimizing mesh...\n",
      "Info    : Done optimizing mesh (Wall 1.339e-05s, CPU 1.3e-05s)\n",
      "Info    : Meshing order 2 (curvilinear on)...\n",
      "Info    : [  0%] Meshing curve 1 order 2\n",
      "Info    : [ 10%] Meshing curve 2 order 2\n",
      "Info    : [ 20%] Meshing curve 3 order 2\n",
      "Info    : [ 20%] Meshing curve 4 order 2\n",
      "Info    : [ 30%] Meshing curve 5 order 2\n",
      "Info    : [ 30%] Meshing curve 6 order 2\n",
      "Info    : [ 40%] Meshing curve 7 order 2\n",
      "Info    : [ 40%] Meshing curve 8 order 2\n",
      "Info    : [ 50%] Meshing curve 9 order 2\n",
      "Info    : [ 50%] Meshing curve 10 order 2\n",
      "Info    : [ 60%] Meshing curve 11 order 2\n",
      "Info    : [ 60%] Meshing curve 12 order 2\n",
      "Info    : [ 70%] Meshing surface 1 order 2\n",
      "Info    : [ 70%] Meshing surface 2 order 2\n",
      "Info    : [ 80%] Meshing surface 3 order 2\n",
      "Info    : [ 80%] Meshing surface 4 order 2\n",
      "Info    : [ 90%] Meshing surface 5 order 2\n",
      "Info    : [ 90%] Meshing surface 6 order 2\n",
      "Info    : [100%] Meshing volume 1 order 2\n",
      "Info    : Done meshing order 2 (Wall 0.00837236s, CPU 0.00826s)\n",
      "Info    : 3321 nodes 792 elements\n",
      "Info    : Done reading 'body2.geo'\n"
     ]
    }
   ],
   "source": [
    "gmsh.open(\"body2.geo\")"
   ]
  },
  {
   "cell_type": "code",
   "execution_count": 3,
   "id": "17d16e97",
   "metadata": {},
   "outputs": [
    {
     "name": "stdout",
     "output_type": "stream",
     "text": [
      "Info    : RCMK renumbering...\n",
      "Info    : Done RCMK renumbering (bandwidth is now 386)\n"
     ]
    },
    {
     "data": {
      "text/plain": [
       "LowLevelFEM.Problem(\"body2\", :Solid, 3, 3, LowLevelFEM.Material[LowLevelFEM.Material(\"body\", 200000.0, 0.3, 7.85e-9, 45.0, 4.2e8, 1.2e-5, 115384.61538461536, 76923.07692307692, 166666.66666666666)], 1.0, 3321)"
      ]
     },
     "metadata": {},
     "output_type": "display_data"
    }
   ],
   "source": [
    "mat = FEM.material(\"body\")\n",
    "problem = FEM.Problem([mat])"
   ]
  },
  {
   "cell_type": "code",
   "execution_count": 4,
   "id": "cb740efb",
   "metadata": {},
   "outputs": [
    {
     "data": {
      "text/plain": [
       "(\"right\", 1, 0, 0)"
      ]
     },
     "metadata": {},
     "output_type": "display_data"
    }
   ],
   "source": [
    "supp = FEM.displacementConstraint(\"left\", ux=0, uy=0, uz=0)\n",
    "load = FEM.load(\"right\", fx=1)"
   ]
  },
  {
   "cell_type": "code",
   "execution_count": 5,
   "id": "93379cdd",
   "metadata": {},
   "outputs": [
    {
     "data": {
      "text/plain": [
       "LowLevelFEM.VectorField(Matrix{Float64}[], [0.0; 0.0; … ; 0.0; 0.0;;], Float64[], Int64[], 1, :f3D)"
      ]
     },
     "metadata": {},
     "output_type": "display_data"
    }
   ],
   "source": [
    "K = FEM.stiffnessMatrix(problem)\n",
    "f = FEM.loadVector(problem, [load])"
   ]
  },
  {
   "cell_type": "code",
   "execution_count": 6,
   "id": "cc13a09e",
   "metadata": {},
   "outputs": [],
   "source": [
    "FEM.applyBoundaryConditions!(problem, K, f, [supp])"
   ]
  },
  {
   "cell_type": "code",
   "execution_count": 7,
   "id": "85a20107",
   "metadata": {},
   "outputs": [
    {
     "data": {
      "text/plain": [
       "LowLevelFEM.VectorField(Matrix{Float64}[], [0.0; 0.0; … ; -5.625000002570498e-7; -5.62499999941991e-7;;], [0.0], Int64[], 1, :u3D)"
      ]
     },
     "metadata": {},
     "output_type": "display_data"
    }
   ],
   "source": [
    "q1 = FEM.solveDisplacement(K, f)"
   ]
  },
  {
   "cell_type": "code",
   "execution_count": 8,
   "id": "7d844bc4",
   "metadata": {},
   "outputs": [
    {
     "data": {
      "text/plain": [
       "1"
      ]
     },
     "metadata": {},
     "output_type": "display_data"
    }
   ],
   "source": [
    "FEM.showDoFResults(problem, q1, :uvec, visible=true)"
   ]
  },
  {
   "cell_type": "code",
   "execution_count": 9,
   "id": "868a2db1",
   "metadata": {},
   "outputs": [
    {
     "data": {
      "text/plain": [
       "LowLevelFEM.VectorField(Matrix{Float64}[], [0.0; 0.0; … ; -5.625000002570498e-7; -5.62499999941991e-7;;], [0.0], Int64[], 1, :u3D)"
      ]
     },
     "metadata": {},
     "output_type": "display_data"
    }
   ],
   "source": [
    "q2 = FEM.solveDisplacement(problem, [load], [supp])"
   ]
  },
  {
   "cell_type": "code",
   "execution_count": 10,
   "id": "44b8eba1",
   "metadata": {},
   "outputs": [
    {
     "data": {
      "text/plain": [
       "2"
      ]
     },
     "metadata": {},
     "output_type": "display_data"
    }
   ],
   "source": [
    "FEM.showDoFResults(problem, q2, :uvec)"
   ]
  },
  {
   "cell_type": "code",
   "execution_count": 11,
   "id": "f73f1bf4",
   "metadata": {},
   "outputs": [
    {
     "data": {
      "text/plain": [
       "(\"left\", 1.0e6, 1.0e6, 1.0e6)"
      ]
     },
     "metadata": {},
     "output_type": "display_data"
    }
   ],
   "source": [
    "elsupp = FEM.elasticSupport(\"left\", kx=1e6, ky=1e6, kz=1e6)"
   ]
  },
  {
   "cell_type": "code",
   "execution_count": 12,
   "id": "bc86a194",
   "metadata": {},
   "outputs": [
    {
     "data": {
      "text/plain": [
       "LowLevelFEM.VectorField(Matrix{Float64}[], [1.299265857591369e-6; 2.564102694320846e-7; … ; -5.625000001994694e-7; -5.624999998885229e-7;;], [0.0], Int64[], 1, :u3D)"
      ]
     },
     "metadata": {},
     "output_type": "display_data"
    }
   ],
   "source": [
    "q4 = FEM.solveDisplacement(problem, [load], [], [elsupp])"
   ]
  },
  {
   "cell_type": "code",
   "execution_count": 13,
   "id": "893d44b2",
   "metadata": {},
   "outputs": [
    {
     "data": {
      "text/plain": [
       "3"
      ]
     },
     "metadata": {},
     "output_type": "display_data"
    }
   ],
   "source": [
    "FEM.showDoFResults(problem, q4, :uvec)"
   ]
  },
  {
   "cell_type": "code",
   "execution_count": 14,
   "id": "0970c354",
   "metadata": {},
   "outputs": [
    {
     "data": {
      "text/plain": [
       "5.0"
      ]
     },
     "metadata": {},
     "output_type": "display_data"
    }
   ],
   "source": [
    "q3 = copy(q2)\n",
    "q3.a[1] = 5\n",
    "q2.a[1] = 3\n",
    "q3.a[1]"
   ]
  },
  {
   "cell_type": "code",
   "execution_count": 15,
   "id": "406e6594",
   "metadata": {},
   "outputs": [
    {
     "data": {
      "text/plain": [
       "LowLevelFEM.VectorField(Matrix{Float64}[], [1.5; 0.0; … ; -2.812500001285249e-7; -2.812499999709955e-7;;], [0.0], Int64[], 1, :u3D)"
      ]
     },
     "metadata": {},
     "output_type": "display_data"
    }
   ],
   "source": [
    "q2 + q3\n",
    "q2 - q3\n",
    "q2 * 2\n",
    "2 * q2\n",
    "q2 / 2"
   ]
  },
  {
   "cell_type": "code",
   "execution_count": 16,
   "id": "09382e6e",
   "metadata": {},
   "outputs": [
    {
     "data": {
      "text/plain": [
       "LowLevelFEM.TensorField([[3.7446247155861753e-6; 1.3851318264023598e-6; … ; 6.18405728896586e-8; -1.4299106321137822e-6;;], [5.133026643519805e-6; -4.5918775942833095e-7; … ; 1.0096309599970558e-8; -1.4776574859702471e-6;;], [5.025810444459495e-6; -6.841721803063807e-8; … ; 7.459255750614673e-11; -1.4982402288169446e-6;;], [5.00203429265627e-6; -3.4073685252966774e-9; … ; -1.0044044806630302e-10; -1.4999719035390086e-6;;], [5.000123437131989e-6; 1.5576390170739414e-10; … ; -9.223272747254567e-12; -1.5000103746277933e-6;;], [5.0000150295273184e-6; 2.0926500640828784e-11; … ; 1.8488057889888729e-13; -1.5000013391438653e-6;;], [5.000003209319867e-6; -3.5892013886436585e-12; … ; 1.0595661441734569e-13; -1.500000074292642e-6;;], [5.000000591887934e-6; -1.2084819771404284e-12; … ; 8.371152502331365e-15; -1.5000000007641868e-6;;], [5.0000000894281525e-6; -1.9056532424250672e-13; … ; -1.486322593865011e-16; -1.4999999998725372e-6;;], [5.0000000120014264e-6; -2.3626352678202296e-14; … ; -9.59730680886485e-17; -1.499999999988913e-6;;]  …  [4.9999999996612e-6; -2.3311651139177117e-15; … ; -1.1413768964251697e-17; -1.4999999999967172e-6;;], [4.999999999936072e-6; -3.0890698663301255e-16; … ; -1.0713902638348475e-18; -1.4999999999993165e-6;;], [4.999999999990174e-6; -4.3860213041774926e-17; … ; -1.6771252355510414e-19; -1.4999999999999964e-6;;], [4.999999999998766e-6; -6.4704846840756e-18; … ; -3.057192628683968e-20; -1.500000000000038e-6;;], [5.0000000000001215e-6; -1.4365678785432934e-18; … ; 1.95349650074829e-20; -1.500000000000009e-6;;], [4.9999999999998505e-6; 2.507217523872729e-19; … ; -1.3976043629695956e-20; -1.4999999999999355e-6;;], [4.999999999999525e-6; 5.293955920339377e-19; … ; -2.541098841762901e-20; -1.499999999999938e-6;;], [4.999999999999525e-6; 2.617331807015788e-19; … ; -3.9810548520952116e-20; -1.4999999999999782e-6;;], [5.000000000000013e-6; -3.8539999100070665e-19; … ; 4.446922973085077e-20; -1.4999999999999871e-6;;], [5.0000000000001215e-6; -4.2436350657440447e-19; … ; 5.505714157152952e-21; -1.5000000000000257e-6;;]], Matrix{Float64}(undef, 0, 0), [0.0], [473, 474, 475, 476, 477, 478, 479, 480, 481, 482  …  783, 784, 785, 786, 787, 788, 789, 790, 791, 792], 1, :e)"
      ]
     },
     "metadata": {},
     "output_type": "display_data"
    }
   ],
   "source": [
    "A1 = FEM.solveStrain(problem, q1)"
   ]
  },
  {
   "cell_type": "code",
   "execution_count": 17,
   "id": "81dd947c",
   "metadata": {},
   "outputs": [
    {
     "data": {
      "text/plain": [
       "LowLevelFEM.TensorField(Matrix{Float64}[], [6.204514322733413e-6; 3.49101654052599e-6; … ; 5.505714157152952e-21; -1.5000000000000257e-6;;], [0.0], Int64[], 1, :e)"
      ]
     },
     "metadata": {},
     "output_type": "display_data"
    }
   ],
   "source": [
    "A2 = FEM.solveStrain(problem, q1, DoFResults=true)"
   ]
  },
  {
   "cell_type": "code",
   "execution_count": 18,
   "id": "a093e10e",
   "metadata": {},
   "outputs": [
    {
     "name": "stdout",
     "output_type": "stream",
     "text": [
      "Info    : Running Plugin(Smooth)...\n",
      "Info    : Done running Plugin(Smooth)\n"
     ]
    },
    {
     "data": {
      "text/plain": [
       "4"
      ]
     },
     "metadata": {},
     "output_type": "display_data"
    }
   ],
   "source": [
    "FEM.showStrainResults(problem, A1, :e)"
   ]
  },
  {
   "cell_type": "code",
   "execution_count": 19,
   "id": "60dd8401",
   "metadata": {},
   "outputs": [
    {
     "data": {
      "text/plain": [
       "5"
      ]
     },
     "metadata": {},
     "output_type": "display_data"
    }
   ],
   "source": [
    "FEM.showDoFResults(problem, A2, :e)"
   ]
  },
  {
   "cell_type": "code",
   "execution_count": 20,
   "id": "bfccc448",
   "metadata": {},
   "outputs": [
    {
     "data": {
      "text/plain": [
       "LowLevelFEM.TensorField(Matrix{Float64}[], [6.204514322733413e-6; 3.49101654052599e-6; … ; 5.505714157152952e-21; -1.5000000000000257e-6;;], [0.0], Int64[], 1, :e)"
      ]
     },
     "metadata": {},
     "output_type": "display_data"
    }
   ],
   "source": [
    "A3 = FEM.elementsToNodes(problem, A1)"
   ]
  },
  {
   "cell_type": "code",
   "execution_count": 21,
   "id": "27dff127",
   "metadata": {},
   "outputs": [
    {
     "data": {
      "text/plain": [
       "6"
      ]
     },
     "metadata": {},
     "output_type": "display_data"
    }
   ],
   "source": [
    "FEM.showDoFResults(problem, A3, :e)"
   ]
  },
  {
   "cell_type": "code",
   "execution_count": 22,
   "id": "739d00d8",
   "metadata": {},
   "outputs": [
    {
     "data": {
      "text/plain": [
       "LowLevelFEM.TensorField([[1.0081681926578165; 0.10654860203095076; … ; 0.004756967145358354; 0.0023888308595453045;;], [0.9940006235281256; -0.03532213534064084; … ; 0.0007766391999977353; -0.005564414934470435;;], [0.9985925495589456; -0.005262862925433698; … ; 5.737889038934364e-6; -0.0007170019848763143;;], [0.9995717950658349; -0.0002621052711766675; … ; -7.72618831279254e-6; -1.1571908538898779e-5;;], [0.999926922409242; 1.1981838592876473e-5; … ; -7.094825190195821e-7; 5.791438610680544e-6;;], [0.9999914202398474; 1.609730818525291e-6; … ; 1.42215829922221e-8; 6.213018436951323e-7;;], [0.9999991610817622; -2.7609241451105066e-7; … ; 8.150508801334284e-9; 5.573410344350549e-10;;], [0.999999916140597; -9.296015208772526e-8; … ; 6.439348078716435e-10; -6.238942334979569e-9;;], [0.999999989917305; -1.465887109557744e-8; … ; -1.1433250722038546e-11; -6.736745328250748e-10;;], [0.999999998586056; -1.8174117444770997e-9; … ; -7.382543699126807e-12; -1.1883299899650979e-11;;]  …  [1.0000000007309011; -1.793203933782855e-10; … ; -8.779822280193613e-13; 5.96914184747277e-12;;], [1.0000000000966418; -2.376207589484712e-11; … ; -8.241463567960366e-14; 1.0506040482027856e-12;;], [1.0000000000133544; -3.3738625416749944e-12; … ; -1.2900963350392626e-14; 1.2082002065483266e-13;;], [1.000000000001874; -4.977295910827385e-13; … ; -2.3516866374492064e-15; 1.2073675392798577e-14;;], [1.000000000000333; -1.1050522142640718e-13; … ; 1.502689615960223e-15; 2.498001805406602e-16;;], [0.9999999999999983; 1.9286288645174838e-14; … ; -1.0750802792073812e-15; -1.4988010832439613e-15;;], [0.9999999999998691; 4.072273784876444e-14; … ; -1.954691416740693e-15; -2.1094237467877974e-15;;], [0.9999999999998932; 2.0133321592429138e-14; … ; -3.062349886227086e-15; -1.0269562977782698e-15;;], [0.999999999999988; -2.964615315390051e-14; … ; 3.420709979296213e-15; -1.609823385706477e-15;;], [1.000000000000018; -3.264334665956957e-14; … ; 4.2351647362715017e-16; -4.163336342344337e-16;;]], Matrix{Float64}(undef, 0, 0), [0.0], [473, 474, 475, 476, 477, 478, 479, 480, 481, 482  …  783, 784, 785, 786, 787, 788, 789, 790, 791, 792], 1, :s)"
      ]
     },
     "metadata": {},
     "output_type": "display_data"
    }
   ],
   "source": [
    "S1 = FEM.solveStress(problem, q1)"
   ]
  },
  {
   "cell_type": "code",
   "execution_count": 23,
   "id": "45fe3f5f",
   "metadata": {},
   "outputs": [
    {
     "data": {
      "text/plain": [
       "LowLevelFEM.TensorField(Matrix{Float64}[], [1.6704461638128423; 0.2685397338866146; … ; 4.2351647362715017e-16; -4.163336342344337e-16;;], [0.0], Int64[], 1, :s)"
      ]
     },
     "metadata": {},
     "output_type": "display_data"
    }
   ],
   "source": [
    "S2 = FEM.solveStress(problem, q1, DoFResults=true)"
   ]
  },
  {
   "cell_type": "code",
   "execution_count": 24,
   "id": "c9bdfc99",
   "metadata": {},
   "outputs": [
    {
     "name": "stdout",
     "output_type": "stream",
     "text": [
      "Info    : Running Plugin(Smooth)...\n",
      "Info    : Done running Plugin(Smooth)\n"
     ]
    },
    {
     "data": {
      "text/plain": [
       "7"
      ]
     },
     "metadata": {},
     "output_type": "display_data"
    }
   ],
   "source": [
    "FEM.showStressResults(problem, S1, :s)"
   ]
  },
  {
   "cell_type": "code",
   "execution_count": 25,
   "id": "be62d671",
   "metadata": {},
   "outputs": [
    {
     "data": {
      "text/plain": [
       "8"
      ]
     },
     "metadata": {},
     "output_type": "display_data"
    }
   ],
   "source": [
    "FEM.showDoFResults(problem, S2, :s)"
   ]
  },
  {
   "cell_type": "code",
   "execution_count": 26,
   "id": "1e24a75e",
   "metadata": {},
   "outputs": [
    {
     "data": {
      "text/plain": [
       "LowLevelFEM.TensorField(Matrix{Float64}[], [1.6704461638128423; 0.2685397338866146; … ; 4.2351647362715017e-16; -4.163336342344337e-16;;], [0.0], Int64[], 1, :s)"
      ]
     },
     "metadata": {},
     "output_type": "display_data"
    }
   ],
   "source": [
    "S3 = FEM.elementsToNodes(problem, S1)"
   ]
  },
  {
   "cell_type": "code",
   "execution_count": 27,
   "id": "7c44010a",
   "metadata": {},
   "outputs": [
    {
     "data": {
      "text/plain": [
       "9"
      ]
     },
     "metadata": {},
     "output_type": "display_data"
    }
   ],
   "source": [
    "FEM.showDoFResults(problem, S3, :s)"
   ]
  },
  {
   "cell_type": "code",
   "execution_count": 28,
   "id": "a0686542",
   "metadata": {},
   "outputs": [
    {
     "name": "stdout",
     "output_type": "stream",
     "text": [
      "Info    : RCMK renumbering...\n",
      "Info    : Done RCMK renumbering (bandwidth is now 386)\n",
      "Info    : Renumbering nodal model data (9 steps)\n"
     ]
    },
    {
     "data": {
      "text/plain": [
       "LowLevelFEM.Problem(\"body2\", :HeatConduction, 3, 1, LowLevelFEM.Material[LowLevelFEM.Material(\"body\", 200000.0, 0.3, 7.85e-9, 45.0, 4.2e8, 1.2e-5, 115384.61538461536, 76923.07692307692, 166666.66666666666)], 1.0, 3321)"
      ]
     },
     "metadata": {},
     "output_type": "display_data"
    }
   ],
   "source": [
    "thermo = FEM.Problem([mat], type=:HeatConduction)"
   ]
  },
  {
   "cell_type": "code",
   "execution_count": 29,
   "id": "ba6bc157",
   "metadata": {},
   "outputs": [
    {
     "data": {
      "text/plain": [
       "LowLevelFEM.ScalarField(Matrix{Float64}[], [0.0; 0.0; … ; 0.0; 0.0;;], Float64[], Int64[], 1, :qn)"
      ]
     },
     "metadata": {},
     "output_type": "display_data"
    }
   ],
   "source": [
    "temp = FEM.temperatureConstraint(\"left\", T=0)\n",
    "flux = FEM.heatFlux(\"right\", qn=1)\n",
    "\n",
    "flx = FEM.heatFluxVector(thermo, [flux])"
   ]
  },
  {
   "cell_type": "code",
   "execution_count": 30,
   "id": "216e0638",
   "metadata": {},
   "outputs": [
    {
     "data": {
      "text/plain": [
       "LowLevelFEM.ScalarField(Matrix{Float64}[], [0.0; 0.0; … ; -0.20555555555552796; -0.2166666666666383;;], [0.0], Int64[], 1, :T)"
      ]
     },
     "metadata": {},
     "output_type": "display_data"
    }
   ],
   "source": [
    "KT = FEM.heatConductionMatrix(thermo)\n",
    "\n",
    "FEM.applyBoundaryConditions!(thermo, KT, flx, [temp])\n",
    "\n",
    "T1 = FEM.solveTemperature(KT, flx)"
   ]
  },
  {
   "cell_type": "code",
   "execution_count": 31,
   "id": "256a8b96",
   "metadata": {},
   "outputs": [
    {
     "data": {
      "text/plain": [
       "10"
      ]
     },
     "metadata": {},
     "output_type": "display_data"
    }
   ],
   "source": [
    "FEM.showDoFResults(thermo, T1, :T)"
   ]
  },
  {
   "cell_type": "code",
   "execution_count": 32,
   "id": "e5018b61",
   "metadata": {},
   "outputs": [
    {
     "data": {
      "text/plain": [
       "LowLevelFEM.ScalarField(Matrix{Float64}[], [0.0; 0.0; … ; -0.20555555555552796; -0.2166666666666383;;], [0.0], Int64[], 1, :T)"
      ]
     },
     "metadata": {},
     "output_type": "display_data"
    }
   ],
   "source": [
    "T2 = FEM.solveTemperature(thermo, [flux], [temp])"
   ]
  },
  {
   "cell_type": "code",
   "execution_count": 33,
   "id": "62b2b69c",
   "metadata": {},
   "outputs": [
    {
     "data": {
      "text/plain": [
       "11"
      ]
     },
     "metadata": {},
     "output_type": "display_data"
    }
   ],
   "source": [
    "FEM.showDoFResults(thermo, T2, :T)"
   ]
  },
  {
   "cell_type": "code",
   "execution_count": 34,
   "id": "6701b1aa",
   "metadata": {},
   "outputs": [
    {
     "data": {
      "text/plain": [
       "LowLevelFEM.VectorField([[0.9999999999998873; 0.0; … ; 4.683753385137379e-16; 1.5612511283791264e-16;;], [0.9999999999998853; 3.747002708109903e-15; … ; -6.245004513516506e-16; 0.0;;], [0.9999999999998815; 7.494005416219807e-15; … ; 2.4980018054066022e-15; 1.5404344466680216e-15;;], [0.9999999999998715; 4.9960036108132044e-15; … ; 3.608224830032833e-16; -2.4980018054066022e-15;;], [0.9999999999998865; -4.9960036108132044e-15; … ; 2.4980018054066022e-15; -2.4980018054066022e-15;;], [0.9999999999998616; 4.9960036108132044e-15; … ; -2.4980018054066022e-15; -3.830269434954238e-15;;], [0.9999999999998765; 0.0; … ; 3.2196467714132044e-15; 0.0;;], [0.9999999999998566; 6.661338147776226e-15; … ; -7.216449660066265e-16; 8.271161533459161e-15;;], [0.9999999999998466; 0.0; … ; -4.9960036108132044e-15; -4.9960036108132044e-15;;], [0.9999999999998715; -4.9960036108132044e-14; … ; 1.9984014443252818e-14; 2.4980018054066022e-15;;]  …  [0.9999999999998765; -2.9976021664879227e-14; … ; 7.494005416219807e-15; 1.4988010832439613e-14;;], [0.9999999999998765; 0.0; … ; 7.1054273576001515e-15; -4.662936703436735e-15;;], [0.9999999999999165; -5.995204332975845e-14; … ; 1.354472090042648e-14; -1.2212453270820058e-15;;], [0.9999999999997966; 3.9968028886505635e-14; … ; -2.886579864026444e-15; 9.325873406831297e-15;;], [0.9999999999998266; 9.992007221626409e-14; … ; 1.3544720900426418e-14; 3.3306690738690148e-15;;], [0.9999999999998865; -1.9984014443252818e-14; … ; 1.9984014443252818e-14; 9.992007221626409e-15;;], [0.9999999999998666; 0.0; … ; 3.9968028886505635e-14; 1.4988010832439613e-14;;], [0.9999999999998066; -3.9968028886505635e-14; … ; -1.9984014443252818e-14; -9.992007221626409e-15;;], [0.9999999999999265; 0.0; … ; 1.9984014443252818e-14; -1.4988010832439613e-14;;], [0.9999999999999265; -7.993605777301127e-14; … ; 1.4988010832439613e-14; -1.4988010832439613e-14;;]], Matrix{Float64}(undef, 0, 0), [0.0], [473, 474, 475, 476, 477, 478, 479, 480, 481, 482  …  783, 784, 785, 786, 787, 788, 789, 790, 791, 792], 1, :q3D)"
      ]
     },
     "metadata": {},
     "output_type": "display_data"
    }
   ],
   "source": [
    "qT1 = FEM.solveHeatFlux(thermo, T2)"
   ]
  },
  {
   "cell_type": "code",
   "execution_count": 35,
   "id": "df8e8b88",
   "metadata": {},
   "outputs": [
    {
     "name": "stdout",
     "output_type": "stream",
     "text": [
      "Info    : Running Plugin(Smooth)...\n",
      "Info    : Done running Plugin(Smooth)\n"
     ]
    },
    {
     "data": {
      "text/plain": [
       "12"
      ]
     },
     "metadata": {},
     "output_type": "display_data"
    }
   ],
   "source": [
    "FEM.showElementResults(thermo, qT1, :qvec)"
   ]
  },
  {
   "cell_type": "code",
   "execution_count": 36,
   "id": "9182fc68",
   "metadata": {},
   "outputs": [
    {
     "data": {
      "text/plain": [
       "LowLevelFEM.VectorField(Matrix{Float64}[], [0.9999999999998881; 0.0; … ; 1.4988010832439613e-14; -1.4988010832439613e-14;;], [0.0], Int64[], 1, :q3D)"
      ]
     },
     "metadata": {},
     "output_type": "display_data"
    }
   ],
   "source": [
    "qT2 = FEM.solveHeatFlux(thermo, T2, DoFResults=true)"
   ]
  },
  {
   "cell_type": "code",
   "execution_count": 37,
   "id": "8f78b4be",
   "metadata": {},
   "outputs": [
    {
     "data": {
      "text/plain": [
       "13"
      ]
     },
     "metadata": {},
     "output_type": "display_data"
    }
   ],
   "source": [
    "FEM.showDoFResults(thermo, qT2, :qvec)"
   ]
  },
  {
   "cell_type": "code",
   "execution_count": 38,
   "id": "f21b2d03",
   "metadata": {},
   "outputs": [
    {
     "data": {
      "text/plain": [
       "LowLevelFEM.VectorField(Matrix{Float64}[], [0.9999999999998881; 0.0; … ; 1.4988010832439613e-14; -1.4988010832439613e-14;;], [0.0], Int64[], 1, :q3D)"
      ]
     },
     "metadata": {},
     "output_type": "display_data"
    }
   ],
   "source": [
    "qT3 = FEM.elementsToNodes(thermo, qT1)"
   ]
  },
  {
   "cell_type": "code",
   "execution_count": 39,
   "id": "fb70e93f",
   "metadata": {},
   "outputs": [
    {
     "data": {
      "text/plain": [
       "14"
      ]
     },
     "metadata": {},
     "output_type": "display_data"
    }
   ],
   "source": [
    "FEM.showDoFResults(thermo, qT3, :qvec)"
   ]
  },
  {
   "cell_type": "code",
   "execution_count": 40,
   "id": "e1daf3ac",
   "metadata": {},
   "outputs": [
    {
     "data": {
      "text/plain": [
       "(\"rear\", 1, 0, 0 + 2im)"
      ]
     },
     "metadata": {},
     "output_type": "display_data"
    }
   ],
   "source": [
    "heatconvB = FEM.heatConvection(\"bottom\", h=1, Tₐ=0)\n",
    "heatconvT = FEM.heatConvection(\"top\", h=100, Tₐ=20)\n",
    "heatconvF = FEM.heatConvection(\"front\", h=1, Tₐ=0)\n",
    "heatconvR = FEM.heatConvection(\"rear\", h=1, Tₐ=0)"
   ]
  },
  {
   "cell_type": "code",
   "execution_count": 41,
   "id": "5b4844cb",
   "metadata": {},
   "outputs": [
    {
     "data": {
      "text/plain": [
       "LowLevelFEM.ScalarField(Matrix{Float64}[], [0.0; 0.0; … ; 19.265254842451537; 19.265352202702054;;], [0.0], Int64[], 1, :T)"
      ]
     },
     "metadata": {},
     "output_type": "display_data"
    }
   ],
   "source": [
    "T3 = FEM.solveTemperature(thermo, [], [temp], [heatconvB, heatconvT, heatconvF, heatconvR])"
   ]
  },
  {
   "cell_type": "code",
   "execution_count": 42,
   "id": "fde6bb7d",
   "metadata": {},
   "outputs": [
    {
     "data": {
      "text/plain": [
       "15"
      ]
     },
     "metadata": {},
     "output_type": "display_data"
    }
   ],
   "source": [
    "FEM.showDoFResults(thermo, T3, :T)"
   ]
  },
  {
   "cell_type": "code",
   "execution_count": 43,
   "id": "e07f8b10",
   "metadata": {},
   "outputs": [
    {
     "name": "stdout",
     "output_type": "stream",
     "text": [
      "-------------------------------------------------------\n",
      "Version       : 4.13.1\n",
      "License       : GNU General Public License\n",
      "Build OS      : Linux64-sdk\n",
      "Build date    : 19700101\n",
      "Build host    : amdci7.julia.csail.mit.edu\n",
      "Build options : 64Bit ALGLIB[contrib] ANN[contrib] Bamg Blossom Cairo DIntegration Dlopen DomHex Eigen[contrib] Fltk GMP Gmm[contrib] Hxt Jpeg Kbipack LinuxJoystick MathEx[contrib] Mesh Metis[contrib] Mmg Mpeg Netgen Nii2mesh ONELAB ONELABMetamodel OpenCASCADE OpenCASCADE-CAF OpenGL OpenMP OptHom Parser Plugins Png Post QuadMeshingTools QuadTri Solver TetGen/BR TinyXML2[contrib] Untangle Voro++[contrib] WinslowUntangler Zlib\n",
      "FLTK version  : 1.3.8\n",
      "OCC version   : 7.7.2\n",
      "Packaged by   : root\n",
      "Web site      : https://gmsh.info\n",
      "Issue tracker : https://gitlab.onelab.info/gmsh/gmsh/issues\n",
      "-------------------------------------------------------\n"
     ]
    },
    {
     "name": "stderr",
     "output_type": "stream",
     "text": [
      "XOpenIM() failed\n",
      "XRequest.18: BadValue 0x0\n"
     ]
    }
   ],
   "source": [
    "FEM.openPostProcessor()"
   ]
  },
  {
   "cell_type": "code",
   "execution_count": 44,
   "id": "076f84a7",
   "metadata": {},
   "outputs": [],
   "source": [
    "gmsh.finalize()"
   ]
  }
 ],
 "metadata": {
  "kernelspec": {
   "display_name": "Julia 1.11.5",
   "language": "julia",
   "name": "julia-1.11"
  },
  "language_info": {
   "file_extension": ".jl",
   "mimetype": "application/julia",
   "name": "julia",
   "version": "1.11.5"
  }
 },
 "nbformat": 4,
 "nbformat_minor": 5
}
