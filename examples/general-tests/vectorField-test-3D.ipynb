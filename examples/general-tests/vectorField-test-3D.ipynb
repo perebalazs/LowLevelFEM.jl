{
 "cells": [
  {
   "cell_type": "code",
   "execution_count": null,
   "id": "e95346f2",
   "metadata": {},
   "outputs": [],
   "source": [
    "using LowLevelFEM\n",
    "import LowLevelFEM as FEM\n",
    "gmsh.initialize()"
   ]
  },
  {
   "cell_type": "code",
   "execution_count": null,
   "id": "c376ef73",
   "metadata": {},
   "outputs": [],
   "source": [
    "gmsh.open(\"body2.geo\")"
   ]
  },
  {
   "cell_type": "code",
   "execution_count": null,
   "id": "17d16e97",
   "metadata": {},
   "outputs": [],
   "source": [
    "mat = FEM.material(\"body\")\n",
    "problem = FEM.Problem([mat])"
   ]
  },
  {
   "cell_type": "code",
   "execution_count": null,
   "id": "cb740efb",
   "metadata": {},
   "outputs": [],
   "source": [
    "supp = FEM.displacementConstraint(\"left\", ux=0, uy=0, uz=0)\n",
    "load = FEM.load(\"right\", fx=1)"
   ]
  },
  {
   "cell_type": "code",
   "execution_count": null,
   "id": "93379cdd",
   "metadata": {},
   "outputs": [],
   "source": [
    "K = FEM.stiffnessMatrix(problem)\n",
    "f = FEM.loadVector(problem, [load])"
   ]
  },
  {
   "cell_type": "code",
   "execution_count": null,
   "id": "cc13a09e",
   "metadata": {},
   "outputs": [],
   "source": [
    "FEM.applyBoundaryConditions!(problem, K, f, [supp])"
   ]
  },
  {
   "cell_type": "code",
   "execution_count": null,
   "id": "85a20107",
   "metadata": {},
   "outputs": [],
   "source": [
    "q1 = FEM.solveDisplacement(K, f)"
   ]
  },
  {
   "cell_type": "code",
   "execution_count": null,
   "id": "7d844bc4",
   "metadata": {},
   "outputs": [],
   "source": [
    "FEM.showDoFResults(problem, q1, :uvec, visible=true)"
   ]
  },
  {
   "cell_type": "code",
   "execution_count": null,
   "id": "868a2db1",
   "metadata": {},
   "outputs": [],
   "source": [
    "q2 = FEM.solveDisplacement(problem, [load], [supp])"
   ]
  },
  {
   "cell_type": "code",
   "execution_count": null,
   "id": "44b8eba1",
   "metadata": {},
   "outputs": [],
   "source": [
    "FEM.showDoFResults(problem, q2, :uvec)"
   ]
  },
  {
   "cell_type": "code",
   "execution_count": null,
   "id": "f73f1bf4",
   "metadata": {},
   "outputs": [],
   "source": [
    "elsupp = FEM.elasticSupport(\"left\", kx=1e6, ky=1e6, kz=1e6)"
   ]
  },
  {
   "cell_type": "code",
   "execution_count": null,
   "id": "bc86a194",
   "metadata": {},
   "outputs": [],
   "source": [
    "q4 = FEM.solveDisplacement(problem, [load], [], [elsupp])"
   ]
  },
  {
   "cell_type": "code",
   "execution_count": null,
   "id": "893d44b2",
   "metadata": {},
   "outputs": [],
   "source": [
    "FEM.showDoFResults(problem, q4, :uvec)"
   ]
  },
  {
   "cell_type": "code",
   "execution_count": null,
   "id": "0970c354",
   "metadata": {},
   "outputs": [],
   "source": [
    "q3 = copy(q2)\n",
    "q3.a[1] = 5\n",
    "q2.a[1] = 3\n",
    "q3.a[1]"
   ]
  },
  {
   "cell_type": "code",
   "execution_count": null,
   "id": "406e6594",
   "metadata": {},
   "outputs": [],
   "source": [
    "q2 + q3\n",
    "q2 - q3\n",
    "q2 * 2\n",
    "2 * q2\n",
    "q2 / 2"
   ]
  },
  {
   "cell_type": "code",
   "execution_count": null,
   "id": "09382e6e",
   "metadata": {},
   "outputs": [],
   "source": [
    "A1 = FEM.solveStrain(problem, q1)"
   ]
  },
  {
   "cell_type": "code",
   "execution_count": null,
   "id": "81dd947c",
   "metadata": {},
   "outputs": [],
   "source": [
    "A2 = FEM.solveStrain(problem, q1, DoFResults=true)"
   ]
  },
  {
   "cell_type": "code",
   "execution_count": null,
   "id": "a093e10e",
   "metadata": {},
   "outputs": [],
   "source": [
    "FEM.showStrainResults(problem, A1, :e)"
   ]
  },
  {
   "cell_type": "code",
   "execution_count": null,
   "id": "60dd8401",
   "metadata": {},
   "outputs": [],
   "source": [
    "FEM.showDoFResults(problem, A2, :e)"
   ]
  },
  {
   "cell_type": "code",
   "execution_count": null,
   "id": "bfccc448",
   "metadata": {},
   "outputs": [],
   "source": [
    "A3 = FEM.elementsToNodes(problem, A1)"
   ]
  },
  {
   "cell_type": "code",
   "execution_count": null,
   "id": "27dff127",
   "metadata": {},
   "outputs": [],
   "source": [
    "FEM.showDoFResults(problem, A3, :e)"
   ]
  },
  {
   "cell_type": "code",
   "execution_count": null,
   "id": "739d00d8",
   "metadata": {},
   "outputs": [],
   "source": [
    "S1 = FEM.solveStress(problem, q1)"
   ]
  },
  {
   "cell_type": "code",
   "execution_count": null,
   "id": "45fe3f5f",
   "metadata": {},
   "outputs": [],
   "source": [
    "S2 = FEM.solveStress(problem, q1, DoFResults=true)"
   ]
  },
  {
   "cell_type": "code",
   "execution_count": null,
   "id": "c9bdfc99",
   "metadata": {},
   "outputs": [],
   "source": [
    "FEM.showStressResults(problem, S1, :s)"
   ]
  },
  {
   "cell_type": "code",
   "execution_count": null,
   "id": "be62d671",
   "metadata": {},
   "outputs": [],
   "source": [
    "FEM.showDoFResults(problem, S2, :s)"
   ]
  },
  {
   "cell_type": "code",
   "execution_count": null,
   "id": "1e24a75e",
   "metadata": {},
   "outputs": [],
   "source": [
    "S3 = FEM.elementsToNodes(problem, S1)"
   ]
  },
  {
   "cell_type": "code",
   "execution_count": null,
   "id": "7c44010a",
   "metadata": {},
   "outputs": [],
   "source": [
    "FEM.showDoFResults(problem, S3, :s)"
   ]
  },
  {
   "cell_type": "code",
   "execution_count": null,
   "id": "a0686542",
   "metadata": {},
   "outputs": [],
   "source": [
    "thermo = FEM.Problem([mat], type=:HeatConduction)"
   ]
  },
  {
   "cell_type": "code",
   "execution_count": null,
   "id": "ba6bc157",
   "metadata": {},
   "outputs": [],
   "source": [
    "temp = FEM.temperatureConstraint(\"left\", T=0)\n",
    "flux = FEM.heatFlux(\"right\", qn=1)\n",
    "\n",
    "flx = FEM.heatFluxVector(thermo, [flux])"
   ]
  },
  {
   "cell_type": "code",
   "execution_count": null,
   "id": "216e0638",
   "metadata": {},
   "outputs": [],
   "source": [
    "KT = FEM.heatConductionMatrix(thermo)\n",
    "\n",
    "FEM.applyBoundaryConditions!(thermo, KT, flx, [temp])\n",
    "\n",
    "T1 = FEM.solveTemperature(KT, flx)"
   ]
  },
  {
   "cell_type": "code",
   "execution_count": null,
   "id": "256a8b96",
   "metadata": {},
   "outputs": [],
   "source": [
    "FEM.showDoFResults(thermo, T1, :T)"
   ]
  },
  {
   "cell_type": "code",
   "execution_count": null,
   "id": "e5018b61",
   "metadata": {},
   "outputs": [],
   "source": [
    "T2 = FEM.solveTemperature(thermo, [flux], [temp])"
   ]
  },
  {
   "cell_type": "code",
   "execution_count": null,
   "id": "62b2b69c",
   "metadata": {},
   "outputs": [],
   "source": [
    "FEM.showDoFResults(thermo, T2, :T)"
   ]
  },
  {
   "cell_type": "code",
   "execution_count": null,
   "id": "6701b1aa",
   "metadata": {},
   "outputs": [],
   "source": [
    "qT1 = FEM.solveHeatFlux(thermo, T2)"
   ]
  },
  {
   "cell_type": "code",
   "execution_count": null,
   "id": "df8e8b88",
   "metadata": {},
   "outputs": [],
   "source": [
    "FEM.showElementResults(thermo, qT1, :qvec)"
   ]
  },
  {
   "cell_type": "code",
   "execution_count": null,
   "id": "9182fc68",
   "metadata": {},
   "outputs": [],
   "source": [
    "qT2 = FEM.solveHeatFlux(thermo, T2, DoFResults=true)"
   ]
  },
  {
   "cell_type": "code",
   "execution_count": null,
   "id": "8f78b4be",
   "metadata": {},
   "outputs": [],
   "source": [
    "FEM.showDoFResults(thermo, qT2, :qvec)"
   ]
  },
  {
   "cell_type": "code",
   "execution_count": null,
   "id": "f21b2d03",
   "metadata": {},
   "outputs": [],
   "source": [
    "qT3 = FEM.elementsToNodes(thermo, qT1)"
   ]
  },
  {
   "cell_type": "code",
   "execution_count": null,
   "id": "fb70e93f",
   "metadata": {},
   "outputs": [],
   "source": [
    "FEM.showDoFResults(thermo, qT3, :qvec)"
   ]
  },
  {
   "cell_type": "code",
   "execution_count": null,
   "id": "e1daf3ac",
   "metadata": {},
   "outputs": [],
   "source": [
    "heatconvB = FEM.heatConvection(\"bottom\", h=1, Tₐ=0)\n",
    "heatconvT = FEM.heatConvection(\"top\", h=100, Tₐ=20)\n",
    "heatconvF = FEM.heatConvection(\"front\", h=1, Tₐ=0)\n",
    "heatconvR = FEM.heatConvection(\"rear\", h=1, Tₐ=0)"
   ]
  },
  {
   "cell_type": "code",
   "execution_count": null,
   "id": "5b4844cb",
   "metadata": {},
   "outputs": [],
   "source": [
    "T3 = FEM.solveTemperature(thermo, [], [temp], [heatconvB, heatconvT, heatconvF, heatconvR])"
   ]
  },
  {
   "cell_type": "code",
   "execution_count": null,
   "id": "fde6bb7d",
   "metadata": {},
   "outputs": [],
   "source": [
    "FEM.showDoFResults(thermo, T3, :T)"
   ]
  },
  {
   "cell_type": "code",
   "execution_count": null,
   "id": "e07f8b10",
   "metadata": {},
   "outputs": [],
   "source": [
    "FEM.openPostProcessor()"
   ]
  },
  {
   "cell_type": "code",
   "execution_count": null,
   "id": "076f84a7",
   "metadata": {},
   "outputs": [],
   "source": [
    "gmsh.finalize()"
   ]
  }
 ],
 "metadata": {
  "kernelspec": {
   "display_name": "Julia 1.11.5",
   "language": "julia",
   "name": "julia-1.11"
  },
  "language_info": {
   "file_extension": ".jl",
   "mimetype": "application/julia",
   "name": "julia",
   "version": "1.11.5"
  }
 },
 "nbformat": 4,
 "nbformat_minor": 5
}
