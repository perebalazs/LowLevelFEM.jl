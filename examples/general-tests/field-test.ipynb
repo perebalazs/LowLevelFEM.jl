{
 "cells": [
  {
   "cell_type": "code",
   "execution_count": 47,
   "id": "385575e9",
   "metadata": {},
   "outputs": [],
   "source": [
    "using LowLevelFEM\n",
    "import LowLevelFEM as FEM\n",
    "gmsh.initialize()"
   ]
  },
  {
   "cell_type": "code",
   "execution_count": 48,
   "id": "6b919652",
   "metadata": {},
   "outputs": [
    {
     "name": "stdout",
     "output_type": "stream",
     "text": [
      "Info    : Reading 'body1-3D.geo'...\n",
      "Info    : Meshing 1D...                                                                                                                       \n",
      "Info    : [  0%] Meshing curve 1 (Line)\n",
      "Info    : [ 10%] Meshing curve 2 (Line)\n",
      "Info    : [ 20%] Meshing curve 3 (Line)\n",
      "Info    : [ 30%] Meshing curve 4 (Line)\n",
      "Info    : [ 40%] Meshing curve 5 (Line)\n",
      "Info    : [ 50%] Meshing curve 6 (Line)\n",
      "Info    : [ 60%] Meshing curve 7 (Line)\n",
      "Info    : [ 60%] Meshing curve 8 (Line)\n",
      "Info    : [ 70%] Meshing curve 9 (Line)\n",
      "Info    : [ 80%] Meshing curve 10 (Line)\n",
      "Info    : [ 90%] Meshing curve 11 (Line)\n",
      "Info    : [100%] Meshing curve 12 (Line)\n",
      "Info    : Done meshing 1D (Wall 0.000865825s, CPU 0.000785s)\n",
      "Info    : Meshing 2D...\n",
      "Info    : [  0%] Meshing surface 1 (Transfinite)\n",
      "Info    : [ 20%] Meshing surface 2 (Transfinite)\n",
      "Info    : [ 40%] Meshing surface 3 (Transfinite)\n",
      "Info    : [ 60%] Meshing surface 4 (Transfinite)\n",
      "Info    : [ 70%] Meshing surface 5 (Transfinite)\n",
      "Info    : [ 90%] Meshing surface 6 (Transfinite)\n",
      "Info    : Done meshing 2D (Wall 0.000101957s, CPU 0.000102s)\n",
      "Info    : Meshing 3D...\n",
      "Info    : Meshing volume 1 (Transfinite)\n",
      "Info    : Done meshing 3D (Wall 4.6623e-05s, CPU 4.6e-05s)\n",
      "Info    : Optimizing mesh...\n",
      "Info    : Done optimizing mesh (Wall 1.404e-06s, CPU 1e-06s)\n",
      "Info    : Meshing order 2 (curvilinear on)...\n",
      "Info    : [  0%] Meshing curve 1 order 2\n",
      "Info    : [ 10%] Meshing curve 2 order 2\n",
      "Info    : [ 20%] Meshing curve 3 order 2\n",
      "Info    : [ 20%] Meshing curve 4 order 2\n",
      "Info    : [ 30%] Meshing curve 5 order 2\n",
      "Info    : [ 30%] Meshing curve 6 order 2\n",
      "Info    : [ 40%] Meshing curve 7 order 2\n",
      "Info    : [ 40%] Meshing curve 8 order 2\n",
      "Info    : [ 50%] Meshing curve 9 order 2\n",
      "Info    : [ 50%] Meshing curve 10 order 2\n",
      "Info    : [ 60%] Meshing curve 11 order 2\n",
      "Info    : [ 60%] Meshing curve 12 order 2\n",
      "Info    : [ 70%] Meshing surface 1 order 2\n",
      "Info    : [ 70%] Meshing surface 2 order 2\n",
      "Info    : [ 80%] Meshing surface 3 order 2\n",
      "Info    : [ 80%] Meshing surface 4 order 2\n",
      "Info    : [ 90%] Meshing surface 5 order 2\n",
      "Info    : [ 90%] Meshing surface 6 order 2\n",
      "Info    : [100%] Meshing volume 1 order 2\n",
      "Info    : Done meshing order 2 (Wall 0.000321952s, CPU 0.000321s)\n",
      "Info    : 27 nodes 27 elements\n",
      "Info    : Done reading 'body1-3D.geo'\n"
     ]
    },
    {
     "name": "stderr",
     "output_type": "stream",
     "text": [
      "Warning : Boolean fragments skipped - too few arguments\n"
     ]
    }
   ],
   "source": [
    "gmsh.open(\"body1-3D.geo\")"
   ]
  },
  {
   "cell_type": "code",
   "execution_count": 49,
   "id": "23ff5de8",
   "metadata": {},
   "outputs": [
    {
     "name": "stdout",
     "output_type": "stream",
     "text": [
      "Info    : RCMK renumbering...\n",
      "Info    : Done RCMK renumbering (bandwidth is now 26)\n"
     ]
    },
    {
     "data": {
      "text/plain": [
       "LowLevelFEM.Problem(\"body1-3D\", :Solid, 3, 3, LowLevelFEM.Material[LowLevelFEM.Material(\"body\", :Hooke, 200000.0, 0.3, 7.85e-9, 45.0, 4.2e8, 1.2e-5, 115384.61538461536, 76923.07692307692, 166666.66666666666)], 1.0, 27)"
      ]
     },
     "metadata": {},
     "output_type": "display_data"
    }
   ],
   "source": [
    "mat = FEM.material(\"body\")\n",
    "problem = FEM.Problem([mat])"
   ]
  },
  {
   "cell_type": "code",
   "execution_count": 50,
   "id": "67b7be06",
   "metadata": {},
   "outputs": [
    {
     "data": {
      "text/plain": [
       "LowLevelFEM.ScalarField(Matrix{Float64}[], [1.0; 1.0; … ; 1.0; 1.0;;], [0.0], Int64[], 1, :scalarInNodes, LowLevelFEM.Problem(\"body1-3D\", :Solid, 3, 3, LowLevelFEM.Material[LowLevelFEM.Material(\"body\", :Hooke, 200000.0, 0.3, 7.85e-9, 45.0, 4.2e8, 1.2e-5, 115384.61538461536, 76923.07692307692, 166666.66666666666)], 1.0, 27))"
      ]
     },
     "metadata": {},
     "output_type": "display_data"
    }
   ],
   "source": [
    "f1 = FEM.field(\"body\", f=1)\n",
    "s1 = FEM.scalarField(problem, [f1])"
   ]
  },
  {
   "cell_type": "code",
   "execution_count": 51,
   "id": "a48ff43c",
   "metadata": {},
   "outputs": [
    {
     "data": {
      "text/plain": [
       "LowLevelFEM.VectorField(Matrix{Float64}[], [-1.0; 2.0; … ; 2.0; 3.0;;], [0.0], Int64[], 1, :u3D, LowLevelFEM.Problem(\"body1-3D\", :Solid, 3, 3, LowLevelFEM.Material[LowLevelFEM.Material(\"body\", :Hooke, 200000.0, 0.3, 7.85e-9, 45.0, 4.2e8, 1.2e-5, 115384.61538461536, 76923.07692307692, 166666.66666666666)], 1.0, 27))"
      ]
     },
     "metadata": {},
     "output_type": "display_data"
    }
   ],
   "source": [
    "fx(x, y, z) = y\n",
    "f2 = FEM.field(\"body\", fx=fx, fy=2, fz=3)\n",
    "v1 = FEM.vectorField(problem, [f2])"
   ]
  },
  {
   "cell_type": "code",
   "execution_count": 52,
   "id": "5d0336f4",
   "metadata": {},
   "outputs": [
    {
     "data": {
      "text/plain": [
       "LowLevelFEM.TensorField(Matrix{Float64}[], [1.0; 0.0; … ; 0.0; 2.0;;], [0.0], Int64[], 1, :e, LowLevelFEM.Problem(\"body1-3D\", :Solid, 3, 3, LowLevelFEM.Material[LowLevelFEM.Material(\"body\", :Hooke, 200000.0, 0.3, 7.85e-9, 45.0, 4.2e8, 1.2e-5, 115384.61538461536, 76923.07692307692, 166666.66666666666)], 1.0, 27))"
      ]
     },
     "metadata": {},
     "output_type": "display_data"
    }
   ],
   "source": [
    "fz(x, y, z) = z + 2\n",
    "f3 = FEM.field(\"body\", fx=1, fy=2, fz=fz)\n",
    "t1 = FEM.tensorField(problem, [f3])"
   ]
  },
  {
   "cell_type": "code",
   "execution_count": 53,
   "id": "1587c954",
   "metadata": {},
   "outputs": [
    {
     "data": {
      "text/plain": [
       "0"
      ]
     },
     "metadata": {},
     "output_type": "display_data"
    }
   ],
   "source": [
    "FEM.showDoFResults(s1, :scalar)"
   ]
  },
  {
   "cell_type": "code",
   "execution_count": 54,
   "id": "5cff5075",
   "metadata": {},
   "outputs": [
    {
     "data": {
      "text/plain": [
       "1"
      ]
     },
     "metadata": {},
     "output_type": "display_data"
    }
   ],
   "source": [
    "FEM.showDoFResults(v1, :vector)"
   ]
  },
  {
   "cell_type": "code",
   "execution_count": 55,
   "id": "6c36c5d2",
   "metadata": {},
   "outputs": [
    {
     "data": {
      "text/plain": [
       "2"
      ]
     },
     "metadata": {},
     "output_type": "display_data"
    }
   ],
   "source": [
    "FEM.showDoFResults(t1, :tensor)"
   ]
  },
  {
   "cell_type": "code",
   "execution_count": 56,
   "id": "b36e9576",
   "metadata": {},
   "outputs": [
    {
     "data": {
      "text/plain": [
       "LowLevelFEM.TensorField([[1.0; 0.0; … ; 0.0; 2.0;;]], Matrix{Float64}(undef, 0, 0), [0.0], [27], 1, :e, LowLevelFEM.Problem(\"body1-3D\", :Solid, 3, 3, LowLevelFEM.Material[LowLevelFEM.Material(\"body\", :Hooke, 200000.0, 0.3, 7.85e-9, 45.0, 4.2e8, 1.2e-5, 115384.61538461536, 76923.07692307692, 166666.66666666666)], 1.0, 27))"
      ]
     },
     "metadata": {},
     "output_type": "display_data"
    }
   ],
   "source": [
    "s1 = FEM.nodesToElements(s1)\n",
    "v1 = FEM.nodesToElements(v1)\n",
    "t1 = FEM.nodesToElements(t1)"
   ]
  },
  {
   "cell_type": "code",
   "execution_count": 57,
   "id": "b1014292",
   "metadata": {},
   "outputs": [
    {
     "data": {
      "text/plain": [
       "1.0"
      ]
     },
     "metadata": {},
     "output_type": "display_data"
    }
   ],
   "source": [
    "FEM.probe(s1, 0, 0, 0)"
   ]
  },
  {
   "cell_type": "code",
   "execution_count": 58,
   "id": "d3ffde96",
   "metadata": {},
   "outputs": [
    {
     "data": {
      "text/plain": [
       "3-element Vector{Float64}:\n",
       " 0.0\n",
       " 2.0\n",
       " 3.0"
      ]
     },
     "metadata": {},
     "output_type": "display_data"
    }
   ],
   "source": [
    "FEM.probe(v1, 0, 0, 0)"
   ]
  },
  {
   "cell_type": "code",
   "execution_count": 59,
   "id": "c2fa6a38",
   "metadata": {},
   "outputs": [
    {
     "data": {
      "text/plain": [
       "3×3 Matrix{Float64}:\n",
       " 1.0  0.0  0.0\n",
       " 0.0  2.0  0.0\n",
       " 0.0  0.0  2.0"
      ]
     },
     "metadata": {},
     "output_type": "display_data"
    }
   ],
   "source": [
    "FEM.probe(t1, 0, 0, 0)"
   ]
  },
  {
   "cell_type": "code",
   "execution_count": 60,
   "id": "822d79ad",
   "metadata": {},
   "outputs": [
    {
     "data": {
      "text/plain": [
       "2.0"
      ]
     },
     "metadata": {},
     "output_type": "display_data"
    }
   ],
   "source": [
    "FEM.probe(s1 * 2, 0, 0, 0)"
   ]
  },
  {
   "cell_type": "code",
   "execution_count": 61,
   "id": "31c3eb50",
   "metadata": {},
   "outputs": [
    {
     "data": {
      "text/plain": [
       "3-element Vector{Float64}:\n",
       " 0.0\n",
       " 2.0\n",
       " 3.0"
      ]
     },
     "metadata": {},
     "output_type": "display_data"
    }
   ],
   "source": [
    "FEM.probe(s1 * v1, 0, 0, 0)"
   ]
  },
  {
   "cell_type": "code",
   "execution_count": 62,
   "id": "306a1ce6",
   "metadata": {},
   "outputs": [
    {
     "data": {
      "text/plain": [
       "3-element Vector{Float64}:\n",
       " 0.0\n",
       " 4.0\n",
       " 6.0"
      ]
     },
     "metadata": {},
     "output_type": "display_data"
    }
   ],
   "source": [
    "FEM.probe(t1 * v1, 0, 0, 0)"
   ]
  },
  {
   "cell_type": "code",
   "execution_count": 63,
   "id": "a6f4c35e",
   "metadata": {},
   "outputs": [
    {
     "data": {
      "text/plain": [
       "3-element Vector{Float64}:\n",
       " 0.0\n",
       " 4.0\n",
       " 6.0"
      ]
     },
     "metadata": {},
     "output_type": "display_data"
    }
   ],
   "source": [
    "FEM.probe(v1 * t1, 0, 0, 0)"
   ]
  },
  {
   "cell_type": "code",
   "execution_count": 64,
   "id": "b4233902",
   "metadata": {},
   "outputs": [
    {
     "data": {
      "text/plain": [
       "26.0"
      ]
     },
     "metadata": {},
     "output_type": "display_data"
    }
   ],
   "source": [
    "FEM.probe(v1 * t1 * v1, 0, 0, 0)"
   ]
  },
  {
   "cell_type": "code",
   "execution_count": 65,
   "id": "4bf7d441",
   "metadata": {},
   "outputs": [
    {
     "data": {
      "text/plain": [
       "3×3 Matrix{Float64}:\n",
       " 0.0  0.0  0.0\n",
       " 0.0  4.0  6.0\n",
       " 0.0  6.0  9.0"
      ]
     },
     "metadata": {},
     "output_type": "display_data"
    }
   ],
   "source": [
    "FEM.probe(v1 ∘ v1, 0, 0, 0)"
   ]
  },
  {
   "cell_type": "code",
   "execution_count": 66,
   "id": "5a500323",
   "metadata": {},
   "outputs": [
    {
     "data": {
      "text/plain": [
       "4.0"
      ]
     },
     "metadata": {},
     "output_type": "display_data"
    }
   ],
   "source": [
    "FEM.probe(det(t1), 0, 0, 0)"
   ]
  },
  {
   "cell_type": "code",
   "execution_count": 67,
   "id": "c5ddf50f",
   "metadata": {},
   "outputs": [
    {
     "data": {
      "text/plain": [
       "3×3 Matrix{Float64}:\n",
       " 0.0  0.0  1.0\n",
       " 1.0  0.0  0.0\n",
       " 0.0  1.0  0.0"
      ]
     },
     "metadata": {},
     "output_type": "display_data"
    }
   ],
   "source": [
    "using LinearAlgebra\n",
    "FEM.probe(eigen(t1)[2], 0, 0, 0)"
   ]
  },
  {
   "cell_type": "code",
   "execution_count": 68,
   "id": "b8b2937d",
   "metadata": {},
   "outputs": [
    {
     "data": {
      "text/plain": [
       "3×3 Matrix{Float64}:\n",
       " 0.0  0.0       0.0\n",
       " 0.0  0.693147  0.0\n",
       " 0.0  0.0       0.693147"
      ]
     },
     "metadata": {},
     "output_type": "display_data"
    }
   ],
   "source": [
    "FEM.probe(log(t1), 0, 0, 0)"
   ]
  },
  {
   "cell_type": "code",
   "execution_count": 69,
   "id": "39b28b6a",
   "metadata": {},
   "outputs": [
    {
     "data": {
      "text/plain": [
       "3×3 Matrix{Float64}:\n",
       " 1.0  0.0      0.0\n",
       " 0.0  1.41421  0.0\n",
       " 0.0  0.0      1.41421"
      ]
     },
     "metadata": {},
     "output_type": "display_data"
    }
   ],
   "source": [
    "FEM.probe(sqrt(t1), 0, 0, 0)"
   ]
  },
  {
   "cell_type": "code",
   "execution_count": 70,
   "id": "f40278c7",
   "metadata": {},
   "outputs": [
    {
     "data": {
      "text/plain": [
       "5.0"
      ]
     },
     "metadata": {},
     "output_type": "display_data"
    }
   ],
   "source": [
    "FEM.probe(trace(t1), 0, 0, 0)"
   ]
  },
  {
   "cell_type": "code",
   "execution_count": 71,
   "id": "5f4c10c0",
   "metadata": {},
   "outputs": [
    {
     "data": {
      "text/plain": [
       "9.0"
      ]
     },
     "metadata": {},
     "output_type": "display_data"
    }
   ],
   "source": [
    "FEM.probe(t1 ⋅ t1, 0, 0, 0)"
   ]
  },
  {
   "cell_type": "code",
   "execution_count": 72,
   "id": "35b52130",
   "metadata": {},
   "outputs": [
    {
     "data": {
      "text/plain": [
       "LowLevelFEM.TensorField(Matrix{Float64}[], [1.0; 0.0; … ; 0.0; 2.0;;], [0.0], Int64[], 1, :e, LowLevelFEM.Problem(\"body1-3D\", :Solid, 3, 3, LowLevelFEM.Material[LowLevelFEM.Material(\"body\", :Hooke, 200000.0, 0.3, 7.85e-9, 45.0, 4.2e8, 1.2e-5, 115384.61538461536, 76923.07692307692, 166666.66666666666)], 1.0, 27))"
      ]
     },
     "metadata": {},
     "output_type": "display_data"
    }
   ],
   "source": [
    "s1 = FEM.elementsToNodes(s1)\n",
    "v1 = FEM.elementsToNodes(v1)\n",
    "t1 = FEM.elementsToNodes(t1)"
   ]
  },
  {
   "cell_type": "code",
   "execution_count": 73,
   "id": "546c12cf",
   "metadata": {},
   "outputs": [
    {
     "data": {
      "text/plain": [
       "LowLevelFEM.TensorField(Matrix{Float64}[], [1.0; 0.0; … ; 0.0; 2.0;;], [0.0], Int64[], 1, :e, LowLevelFEM.Problem(\"body1-3D\", :Solid, 3, 3, LowLevelFEM.Material[LowLevelFEM.Material(\"body\", :Hooke, 200000.0, 0.3, 7.85e-9, 45.0, 4.2e8, 1.2e-5, 115384.61538461536, 76923.07692307692, 166666.66666666666)], 1.0, 27))"
      ]
     },
     "metadata": {},
     "output_type": "display_data"
    }
   ],
   "source": [
    "s1 = FEM.elementsToNodes(s1)\n",
    "v1 = FEM.elementsToNodes(v1)\n",
    "t1 = FEM.elementsToNodes(t1)"
   ]
  },
  {
   "cell_type": "code",
   "execution_count": 74,
   "id": "85d3fabf",
   "metadata": {},
   "outputs": [
    {
     "data": {
      "text/plain": [
       "LowLevelFEM.TensorField([[0.0; 0.0; … ; 0.0; 0.0;;]], Matrix{Float64}(undef, 0, 0), [0.0], [27], 1, :e, LowLevelFEM.Problem(\"body1-3D\", :Solid, 3, 3, LowLevelFEM.Material[LowLevelFEM.Material(\"body\", :Hooke, 200000.0, 0.3, 7.85e-9, 45.0, 4.2e8, 1.2e-5, 115384.61538461536, 76923.07692307692, 166666.66666666666)], 1.0, 27))"
      ]
     },
     "metadata": {},
     "output_type": "display_data"
    }
   ],
   "source": [
    "g1 = ∇(v1)"
   ]
  },
  {
   "cell_type": "code",
   "execution_count": 75,
   "id": "9a3224c4",
   "metadata": {},
   "outputs": [
    {
     "data": {
      "text/plain": [
       "3"
      ]
     },
     "metadata": {},
     "output_type": "display_data"
    }
   ],
   "source": [
    "FEM.showDoFResults(g1, :tensor)"
   ]
  },
  {
   "cell_type": "code",
   "execution_count": 76,
   "id": "eff54819",
   "metadata": {},
   "outputs": [
    {
     "data": {
      "text/plain": [
       "LowLevelFEM.VectorField([[0.0; 0.0; … ; 0.0; -1.0;;]], Matrix{Float64}(undef, 0, 0), [0.0], [27], 1, :e, LowLevelFEM.Problem(\"body1-3D\", :Solid, 3, 3, LowLevelFEM.Material[LowLevelFEM.Material(\"body\", :Hooke, 200000.0, 0.3, 7.85e-9, 45.0, 4.2e8, 1.2e-5, 115384.61538461536, 76923.07692307692, 166666.66666666666)], 1.0, 27))"
      ]
     },
     "metadata": {},
     "output_type": "display_data"
    }
   ],
   "source": [
    "c1 = ∇(v1, nabla=:curl)"
   ]
  },
  {
   "cell_type": "code",
   "execution_count": 77,
   "id": "5bf9d3b0",
   "metadata": {},
   "outputs": [
    {
     "data": {
      "text/plain": [
       "4"
      ]
     },
     "metadata": {},
     "output_type": "display_data"
    }
   ],
   "source": [
    "FEM.showDoFResults(c1, :vector)"
   ]
  },
  {
   "cell_type": "code",
   "execution_count": 78,
   "id": "5e60895e",
   "metadata": {},
   "outputs": [
    {
     "data": {
      "text/plain": [
       "LowLevelFEM.VectorField([[0.0; 0.0; … ; 0.0; 0.0;;]], Matrix{Float64}(undef, 0, 0), [0.0], [27], 1, :e, LowLevelFEM.Problem(\"body1-3D\", :Solid, 3, 3, LowLevelFEM.Material[LowLevelFEM.Material(\"body\", :Hooke, 200000.0, 0.3, 7.85e-9, 45.0, 4.2e8, 1.2e-5, 115384.61538461536, 76923.07692307692, 166666.66666666666)], 1.0, 27))"
      ]
     },
     "metadata": {},
     "output_type": "display_data"
    }
   ],
   "source": [
    "g1 = ∇(s1)"
   ]
  },
  {
   "cell_type": "code",
   "execution_count": 79,
   "id": "844250a4",
   "metadata": {},
   "outputs": [
    {
     "data": {
      "text/plain": [
       "5"
      ]
     },
     "metadata": {},
     "output_type": "display_data"
    }
   ],
   "source": [
    "fvx(x, y, z) = x + y\n",
    "fvy(x, y, z) = y - x\n",
    "fvz(x, y, z) = z - x\n",
    "vv0 = FEM.field(\"body\", fx=fvx, fy=fvy, fz=fvz)\n",
    "vv1 = FEM.vectorField(problem, [vv0])\n",
    "FEM.showDoFResults(vv1, :vector)"
   ]
  },
  {
   "cell_type": "code",
   "execution_count": 80,
   "id": "d844a413",
   "metadata": {},
   "outputs": [
    {
     "data": {
      "text/plain": [
       "6"
      ]
     },
     "metadata": {},
     "output_type": "display_data"
    }
   ],
   "source": [
    "divv = div(vv1)\n",
    "FEM.showDoFResults(divv, :scalar)"
   ]
  },
  {
   "cell_type": "code",
   "execution_count": 81,
   "id": "190aa6d6",
   "metadata": {},
   "outputs": [
    {
     "data": {
      "text/plain": [
       "7"
      ]
     },
     "metadata": {},
     "output_type": "display_data"
    }
   ],
   "source": [
    "rotv = rot(vv1)\n",
    "FEM.showDoFResults(rotv, :vector)"
   ]
  },
  {
   "cell_type": "code",
   "execution_count": 82,
   "id": "1d48a4ef",
   "metadata": {},
   "outputs": [
    {
     "data": {
      "text/plain": [
       "8"
      ]
     },
     "metadata": {},
     "output_type": "display_data"
    }
   ],
   "source": [
    "divrotv = div(FEM.elementsToNodes(rot(vv1)))\n",
    "FEM.showDoFResults(divrotv, :scalar)"
   ]
  },
  {
   "cell_type": "code",
   "execution_count": 83,
   "id": "ad030191",
   "metadata": {},
   "outputs": [
    {
     "data": {
      "text/plain": [
       "9"
      ]
     },
     "metadata": {},
     "output_type": "display_data"
    }
   ],
   "source": [
    "divt = div(t1)\n",
    "FEM.showDoFResults(divt, :vector)"
   ]
  },
  {
   "cell_type": "code",
   "execution_count": 84,
   "id": "8713a363",
   "metadata": {},
   "outputs": [
    {
     "data": {
      "text/plain": [
       "LowLevelFEM.ScalarField([[2.999999999999999; 3.0; … ; 3.0; 3.0;;]], Matrix{Float64}(undef, 0, 0), [0.0], [27], 1, :e, LowLevelFEM.Problem(\"body1-3D\", :Solid, 3, 3, LowLevelFEM.Material[LowLevelFEM.Material(\"body\", :Hooke, 200000.0, 0.3, 7.85e-9, 45.0, 4.2e8, 1.2e-5, 115384.61538461536, 76923.07692307692, 166666.66666666666)], 1.0, 27))"
      ]
     },
     "metadata": {},
     "output_type": "display_data"
    }
   ],
   "source": [
    "vv1 ⋅ ∇"
   ]
  },
  {
   "cell_type": "code",
   "execution_count": 85,
   "id": "2be846d6",
   "metadata": {},
   "outputs": [
    {
     "data": {
      "text/plain": [
       "LowLevelFEM.ScalarField([[2.999999999999999; 3.0; … ; 3.0; 3.0;;]], Matrix{Float64}(undef, 0, 0), [0.0], [27], 1, :e, LowLevelFEM.Problem(\"body1-3D\", :Solid, 3, 3, LowLevelFEM.Material[LowLevelFEM.Material(\"body\", :Hooke, 200000.0, 0.3, 7.85e-9, 45.0, 4.2e8, 1.2e-5, 115384.61538461536, 76923.07692307692, 166666.66666666666)], 1.0, 27))"
      ]
     },
     "metadata": {},
     "output_type": "display_data"
    }
   ],
   "source": [
    "∇ ⋅ vv1"
   ]
  },
  {
   "cell_type": "code",
   "execution_count": 86,
   "id": "ba6efd15",
   "metadata": {},
   "outputs": [
    {
     "data": {
      "text/plain": [
       "LowLevelFEM.VectorField([[0.0; 1.0000000000000004; … ; 1.0; -2.0;;]], Matrix{Float64}(undef, 0, 0), [0.0], [27], 1, :e, LowLevelFEM.Problem(\"body1-3D\", :Solid, 3, 3, LowLevelFEM.Material[LowLevelFEM.Material(\"body\", :Hooke, 200000.0, 0.3, 7.85e-9, 45.0, 4.2e8, 1.2e-5, 115384.61538461536, 76923.07692307692, 166666.66666666666)], 1.0, 27))"
      ]
     },
     "metadata": {},
     "output_type": "display_data"
    }
   ],
   "source": [
    "∇ × vv1"
   ]
  },
  {
   "cell_type": "code",
   "execution_count": 87,
   "id": "486667eb",
   "metadata": {},
   "outputs": [
    {
     "data": {
      "text/plain": [
       "LowLevelFEM.VectorField([[-0.0; -1.0000000000000004; … ; -1.0; 2.0;;]], Matrix{Float64}(undef, 0, 0), [0.0], [27], 1, :e, LowLevelFEM.Problem(\"body1-3D\", :Solid, 3, 3, LowLevelFEM.Material[LowLevelFEM.Material(\"body\", :Hooke, 200000.0, 0.3, 7.85e-9, 45.0, 4.2e8, 1.2e-5, 115384.61538461536, 76923.07692307692, 166666.66666666666)], 1.0, 27))"
      ]
     },
     "metadata": {},
     "output_type": "display_data"
    }
   ],
   "source": [
    "vv1 × ∇"
   ]
  },
  {
   "cell_type": "code",
   "execution_count": 88,
   "id": "900ebaca",
   "metadata": {},
   "outputs": [
    {
     "data": {
      "text/plain": [
       "LowLevelFEM.VectorField([[0.0; 0.0; … ; 0.0; 0.0;;]], Matrix{Float64}(undef, 0, 0), [0.0], [27], 1, :e, LowLevelFEM.Problem(\"body1-3D\", :Solid, 3, 3, LowLevelFEM.Material[LowLevelFEM.Material(\"body\", :Hooke, 200000.0, 0.3, 7.85e-9, 45.0, 4.2e8, 1.2e-5, 115384.61538461536, 76923.07692307692, 166666.66666666666)], 1.0, 27))"
      ]
     },
     "metadata": {},
     "output_type": "display_data"
    }
   ],
   "source": [
    "∇ ∘ s1"
   ]
  },
  {
   "cell_type": "code",
   "execution_count": 89,
   "id": "db54ad0f",
   "metadata": {},
   "outputs": [
    {
     "data": {
      "text/plain": [
       "LowLevelFEM.VectorField([[0.0; 0.0; … ; 0.0; 0.0;;]], Matrix{Float64}(undef, 0, 0), [0.0], [27], 1, :e, LowLevelFEM.Problem(\"body1-3D\", :Solid, 3, 3, LowLevelFEM.Material[LowLevelFEM.Material(\"body\", :Hooke, 200000.0, 0.3, 7.85e-9, 45.0, 4.2e8, 1.2e-5, 115384.61538461536, 76923.07692307692, 166666.66666666666)], 1.0, 27))"
      ]
     },
     "metadata": {},
     "output_type": "display_data"
    }
   ],
   "source": [
    "s1 ∘ ∇"
   ]
  },
  {
   "cell_type": "code",
   "execution_count": 90,
   "id": "78e83f8e",
   "metadata": {},
   "outputs": [
    {
     "data": {
      "text/plain": [
       "LowLevelFEM.TensorField([[0.9999999999999998; -1.0000000000000004; … ; 0.0; 1.0;;]], Matrix{Float64}(undef, 0, 0), [0.0], [27], 1, :e, LowLevelFEM.Problem(\"body1-3D\", :Solid, 3, 3, LowLevelFEM.Material[LowLevelFEM.Material(\"body\", :Hooke, 200000.0, 0.3, 7.85e-9, 45.0, 4.2e8, 1.2e-5, 115384.61538461536, 76923.07692307692, 166666.66666666666)], 1.0, 27))"
      ]
     },
     "metadata": {},
     "output_type": "display_data"
    }
   ],
   "source": [
    "vv1 ∘ ∇"
   ]
  },
  {
   "cell_type": "code",
   "execution_count": 91,
   "id": "a14be9f7",
   "metadata": {},
   "outputs": [
    {
     "data": {
      "text/plain": [
       "LowLevelFEM.TensorField([[0.9999999999999998; 0.9999999999999998; … ; 0.0; 1.0;;]], Matrix{Float64}(undef, 0, 0), [0.0], [27], 1, :e, LowLevelFEM.Problem(\"body1-3D\", :Solid, 3, 3, LowLevelFEM.Material[LowLevelFEM.Material(\"body\", :Hooke, 200000.0, 0.3, 7.85e-9, 45.0, 4.2e8, 1.2e-5, 115384.61538461536, 76923.07692307692, 166666.66666666666)], 1.0, 27))"
      ]
     },
     "metadata": {},
     "output_type": "display_data"
    }
   ],
   "source": [
    "∇ ∘ vv1"
   ]
  },
  {
   "cell_type": "code",
   "execution_count": 92,
   "id": "f67242bc",
   "metadata": {},
   "outputs": [
    {
     "data": {
      "text/plain": [
       "LowLevelFEM.VectorField([[0.0; 0.0; … ; 0.0; 1.0;;]], Matrix{Float64}(undef, 0, 0), [0.0], [27], 1, :e, LowLevelFEM.Problem(\"body1-3D\", :Solid, 3, 3, LowLevelFEM.Material[LowLevelFEM.Material(\"body\", :Hooke, 200000.0, 0.3, 7.85e-9, 45.0, 4.2e8, 1.2e-5, 115384.61538461536, 76923.07692307692, 166666.66666666666)], 1.0, 27))"
      ]
     },
     "metadata": {},
     "output_type": "display_data"
    }
   ],
   "source": [
    "∇ ⋅ t1"
   ]
  },
  {
   "cell_type": "code",
   "execution_count": 93,
   "id": "517bef5c",
   "metadata": {},
   "outputs": [
    {
     "data": {
      "text/plain": [
       "LowLevelFEM.VectorField([[0.0; 0.0; … ; 0.0; 1.0;;]], Matrix{Float64}(undef, 0, 0), [0.0], [27], 1, :e, LowLevelFEM.Problem(\"body1-3D\", :Solid, 3, 3, LowLevelFEM.Material[LowLevelFEM.Material(\"body\", :Hooke, 200000.0, 0.3, 7.85e-9, 45.0, 4.2e8, 1.2e-5, 115384.61538461536, 76923.07692307692, 166666.66666666666)], 1.0, 27))"
      ]
     },
     "metadata": {},
     "output_type": "display_data"
    }
   ],
   "source": [
    "t1 ⋅ ∇"
   ]
  },
  {
   "cell_type": "code",
   "execution_count": 94,
   "id": "fe837f9f",
   "metadata": {},
   "outputs": [
    {
     "data": {
      "text/plain": [
       "true"
      ]
     },
     "metadata": {},
     "output_type": "display_data"
    }
   ],
   "source": [
    "FEM.isSaved(\"mydata\")"
   ]
  },
  {
   "cell_type": "code",
   "execution_count": 95,
   "id": "0b52e386",
   "metadata": {},
   "outputs": [],
   "source": [
    "FEM.saveField(\"mydata\", t1)"
   ]
  },
  {
   "cell_type": "code",
   "execution_count": 96,
   "id": "26bc552b",
   "metadata": {},
   "outputs": [
    {
     "data": {
      "text/plain": [
       "LowLevelFEM.TensorField(Matrix{Float64}[], [1.0; 0.0; … ; 0.0; 2.0;;], [0.0], Int64[], 1, :e, LowLevelFEM.Problem(\"body1-3D\", :Solid, 3, 3, LowLevelFEM.Material[LowLevelFEM.Material(\"body\", :Hooke, 200000.0, 0.3, 7.85e-9, 45.0, 4.2e8, 1.2e-5, 115384.61538461536, 76923.07692307692, 166666.66666666666)], 1.0, 27))"
      ]
     },
     "metadata": {},
     "output_type": "display_data"
    }
   ],
   "source": [
    "T1 = FEM.loadField(\"mydata\")"
   ]
  },
  {
   "cell_type": "code",
   "execution_count": 97,
   "id": "845281c5",
   "metadata": {},
   "outputs": [
    {
     "data": {
      "text/plain": [
       "LowLevelFEM.TensorField(Matrix{Float64}[], [1.0; 0.0; … ; 0.0; 2.0;;], [0.0], Int64[], 1, :e, LowLevelFEM.Problem(\"body1-3D\", :Solid, 3, 3, LowLevelFEM.Material[LowLevelFEM.Material(\"body\", :Hooke, 200000.0, 0.3, 7.85e-9, 45.0, 4.2e8, 1.2e-5, 115384.61538461536, 76923.07692307692, 166666.66666666666)], 1.0, 27))"
      ]
     },
     "metadata": {},
     "output_type": "display_data"
    }
   ],
   "source": [
    "t1"
   ]
  },
  {
   "cell_type": "code",
   "execution_count": 98,
   "id": "3f1e7003",
   "metadata": {},
   "outputs": [
    {
     "data": {
      "text/plain": [
       "false"
      ]
     },
     "metadata": {},
     "output_type": "display_data"
    }
   ],
   "source": [
    "t1 == T1"
   ]
  },
  {
   "cell_type": "code",
   "execution_count": 99,
   "id": "108d0a10",
   "metadata": {},
   "outputs": [
    {
     "data": {
      "text/plain": [
       "LowLevelFEM.TensorField(Matrix{Float64}[], [0.0; 0.0; … ; 0.0; 0.0;;], [0.0], Int64[], 1, :e, LowLevelFEM.Problem(\"body1-3D\", :Solid, 3, 3, LowLevelFEM.Material[LowLevelFEM.Material(\"body\", :Hooke, 200000.0, 0.3, 7.85e-9, 45.0, 4.2e8, 1.2e-5, 115384.61538461536, 76923.07692307692, 166666.66666666666)], 1.0, 27))"
      ]
     },
     "metadata": {},
     "output_type": "display_data"
    }
   ],
   "source": [
    "t1 - T1"
   ]
  },
  {
   "cell_type": "code",
   "execution_count": 100,
   "id": "e040ca57",
   "metadata": {},
   "outputs": [
    {
     "data": {
      "text/plain": [
       "true"
      ]
     },
     "metadata": {},
     "output_type": "display_data"
    }
   ],
   "source": [
    "FEM.isSaved(\"mydata\")"
   ]
  },
  {
   "cell_type": "code",
   "execution_count": null,
   "id": "05683872",
   "metadata": {},
   "outputs": [],
   "source": [
    "FEM.openPostProcessor()"
   ]
  },
  {
   "cell_type": "code",
   "execution_count": 46,
   "id": "09422610",
   "metadata": {},
   "outputs": [],
   "source": [
    "gmsh.finalize()"
   ]
  }
 ],
 "metadata": {
  "kernelspec": {
   "display_name": "Julia 1.11.6",
   "language": "julia",
   "name": "julia-1.11"
  },
  "language_info": {
   "file_extension": ".jl",
   "mimetype": "application/julia",
   "name": "julia",
   "version": "1.11.6"
  }
 },
 "nbformat": 4,
 "nbformat_minor": 5
}
