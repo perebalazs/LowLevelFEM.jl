{
 "cells": [
  {
   "cell_type": "code",
   "execution_count": null,
   "id": "385575e9",
   "metadata": {},
   "outputs": [],
   "source": [
    "using LowLevelFEM\n",
    "import LowLevelFEM as FEM\n",
    "gmsh.initialize()"
   ]
  },
  {
   "cell_type": "code",
   "execution_count": null,
   "id": "6b919652",
   "metadata": {},
   "outputs": [],
   "source": [
    "gmsh.open(\"body1-3D.geo\")"
   ]
  },
  {
   "cell_type": "code",
   "execution_count": null,
   "id": "23ff5de8",
   "metadata": {},
   "outputs": [],
   "source": [
    "mat = FEM.material(\"body\")\n",
    "problem = FEM.Problem([mat])"
   ]
  },
  {
   "cell_type": "code",
   "execution_count": null,
   "id": "67b7be06",
   "metadata": {},
   "outputs": [],
   "source": [
    "f1 = FEM.field(\"body\", f=1)\n",
    "s1 = FEM.scalarField(problem, [f1])"
   ]
  },
  {
   "cell_type": "code",
   "execution_count": null,
   "id": "a48ff43c",
   "metadata": {},
   "outputs": [],
   "source": [
    "f2 = FEM.field(\"body\", fx=1, fy=2, fz=3)\n",
    "v1 = FEM.vectorField(problem, [f2])"
   ]
  },
  {
   "cell_type": "code",
   "execution_count": null,
   "id": "5d0336f4",
   "metadata": {},
   "outputs": [],
   "source": [
    "f3 = FEM.field(\"body\", fx=1, fy=2, fz=3)\n",
    "t1 = FEM.tensorField(problem, [f3])"
   ]
  },
  {
   "cell_type": "code",
   "execution_count": null,
   "id": "1587c954",
   "metadata": {},
   "outputs": [],
   "source": [
    "FEM.showDoFResults(problem, s1, :scalar)"
   ]
  },
  {
   "cell_type": "code",
   "execution_count": null,
   "id": "5cff5075",
   "metadata": {},
   "outputs": [],
   "source": [
    "FEM.showDoFResults(problem, v1, :vector)"
   ]
  },
  {
   "cell_type": "code",
   "execution_count": null,
   "id": "6c36c5d2",
   "metadata": {},
   "outputs": [],
   "source": [
    "FEM.showDoFResults(problem, t1, :tensor)"
   ]
  },
  {
   "cell_type": "code",
   "execution_count": null,
   "id": "05683872",
   "metadata": {},
   "outputs": [],
   "source": [
    "FEM.openPostProcessor()"
   ]
  },
  {
   "cell_type": "code",
   "execution_count": null,
   "id": "09422610",
   "metadata": {},
   "outputs": [],
   "source": [
    "gmsh.finalize()"
   ]
  }
 ],
 "metadata": {
  "kernelspec": {
   "display_name": "Julia 1.11.6",
   "language": "julia",
   "name": "julia-1.11"
  },
  "language_info": {
   "file_extension": ".jl",
   "mimetype": "application/julia",
   "name": "julia",
   "version": "1.11.6"
  }
 },
 "nbformat": 4,
 "nbformat_minor": 5
}
