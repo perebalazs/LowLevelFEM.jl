{
 "cells": [
  {
   "cell_type": "code",
   "execution_count": 9,
   "id": "e95346f2",
   "metadata": {},
   "outputs": [],
   "source": [
    "using LowLevelFEM\n",
    "import LowLevelFEM as FEM\n",
    "gmsh.initialize()"
   ]
  },
  {
   "cell_type": "code",
   "execution_count": 10,
   "id": "c376ef73",
   "metadata": {},
   "outputs": [
    {
     "name": "stdout",
     "output_type": "stream",
     "text": [
      "Info    : Reading 'body2.geo'...\n",
      "Info    : Meshing 1D...\n",
      "Info    : [  0%] Meshing curve 1 (Line)\n",
      "Info    : [ 10%] Meshing curve 2 (Line)\n",
      "Info    : [ 20%] Meshing curve 3 (Line)\n",
      "Info    : [ 30%] Meshing curve 4 (Line)\n",
      "Info    : [ 40%] Meshing curve 5 (Line)\n",
      "Info    : [ 50%] Meshing curve 6 (Line)\n",
      "Info    : [ 60%] Meshing curve 7 (Line)\n",
      "Info    : [ 60%] Meshing curve 8 (Line)\n",
      "Info    : [ 70%] Meshing curve 9 (Line)\n",
      "Info    : [ 80%] Meshing curve 10 (Line)\n",
      "Info    : [ 90%] Meshing curve 11 (Line)\n",
      "Info    : [100%] Meshing curve 12 (Line)\n",
      "Info    : Done meshing 1D (Wall 0.00100866s, CPU 0.00101s)\n",
      "Info    : Meshing 2D...\n",
      "Info    : [  0%] Meshing surface 1 (Transfinite)\n",
      "Info    : [ 20%] Meshing surface 2 (Transfinite)\n",
      "Info    : [ 40%] Meshing surface 3 (Transfinite)\n",
      "Info    : [ 60%] Meshing surface 4 (Transfinite)\n",
      "Info    : [ 70%] Meshing surface 5 (Transfinite)\n",
      "Info    : [ 90%] Meshing surface 6 (Transfinite)\n",
      "Info    : Done meshing 2D (Wall 0.000443728s, CPU 0.000422s)\n",
      "Info    : Meshing 3D...\n",
      "Info    : Meshing volume 1 (Transfinite)\n",
      "Info    : Done meshing 3D (Wall 0.00250983s, CPU 0.002507s)\n",
      "Info    : Optimizing mesh...\n",
      "Info    : Done optimizing mesh (Wall 4.6452e-05s, CPU 4.6e-05s)\n",
      "Info    : Meshing order 2 (curvilinear on)...\n",
      "Info    : [  0%] Meshing curve 1 order 2\n",
      "Info    : [ 10%] Meshing curve 2 order 2\n",
      "Info    : [ 20%] Meshing curve 3 order 2\n",
      "Info    : [ 20%] Meshing curve 4 order 2\n",
      "Info    : [ 30%] Meshing curve 5 order 2\n",
      "Info    : [ 30%] Meshing curve 6 order 2\n",
      "Info    : [ 40%] Meshing curve 7 order 2\n",
      "Info    : [ 40%] Meshing curve 8 order 2\n",
      "Info    : [ 50%] Meshing curve 9 order 2\n",
      "Info    : [ 50%] Meshing curve 10 order 2\n",
      "Info    : [ 60%] Meshing curve 11 order 2\n",
      "Info    : [ 60%] Meshing curve 12 order 2\n",
      "Info    : [ 70%] Meshing surface 1 order 2\n",
      "Info    : [ 70%] Meshing surface 2 order 2\n",
      "Info    : [ 80%] Meshing surface 3 order 2\n",
      "Info    : [ 80%] Meshing surface 4 order 2\n",
      "Info    : [ 90%] Meshing surface 5 order 2\n",
      "Info    : [ 90%] Meshing surface 6 order 2\n",
      "Info    : [100%] Meshing volume 1 order 2\n",
      "Info    : Done meshing order 2 (Wall 0.0145105s, CPU 0.014164s)\n",
      "Info    : 3321 nodes 792 elements\n",
      "Info    : Done reading 'body2.geo'\n"
     ]
    }
   ],
   "source": [
    "gmsh.open(\"body2.geo\")"
   ]
  },
  {
   "cell_type": "code",
   "execution_count": 11,
   "id": "17d16e97",
   "metadata": {},
   "outputs": [
    {
     "name": "stdout",
     "output_type": "stream",
     "text": [
      "Info    : RCMK renumbering...\n",
      "Info    : Done RCMK renumbering (bandwidth is now 386)\n"
     ]
    },
    {
     "data": {
      "text/plain": [
       "LowLevelFEM.Problem(\"body2\", :Solid, 3, 3, LowLevelFEM.Material[LowLevelFEM.Material(\"body\", 200000.0, 0.3, 7.85e-9, 45.0, 4.2e8, 1.2e-5, 115384.61538461536, 76923.07692307692, 166666.66666666666)], 1.0, 3321)"
      ]
     },
     "metadata": {},
     "output_type": "display_data"
    }
   ],
   "source": [
    "mat = FEM.material(\"body\")\n",
    "problem = FEM.Problem([mat])"
   ]
  },
  {
   "cell_type": "code",
   "execution_count": 12,
   "id": "cb740efb",
   "metadata": {},
   "outputs": [
    {
     "data": {
      "text/plain": [
       "(\"right\", -1, 0, 0)"
      ]
     },
     "metadata": {},
     "output_type": "display_data"
    }
   ],
   "source": [
    "supp = FEM.displacementConstraint(\"left\", ux=0, uy=0, uz=0)\n",
    "load = FEM.load(\"right\", fx=-1)"
   ]
  },
  {
   "cell_type": "code",
   "execution_count": 13,
   "id": "c156853a",
   "metadata": {},
   "outputs": [
    {
     "data": {
      "text/plain": [
       "LowLevelFEM.Eigen([8128.479225138298, 8128.479225199797, 48791.85315992434, 48791.853159936196, 72058.18061175055, 126606.03369147264], [0.0 0.0 … 0.0 0.0; 0.0 0.0 … 0.0 0.0; … ; 0.03280297465154315 -0.009582752712860756 … 0.020166822424433 1.7199553923043223e-5; -0.0035244757220901993 -0.031569478903774886 … -0.020166822424433326 1.7199553927008953e-5])"
      ]
     },
     "metadata": {},
     "output_type": "display_data"
    }
   ],
   "source": [
    "q = FEM.solveModalAnalysis(problem, constraints=[supp], loads=[load])"
   ]
  },
  {
   "cell_type": "code",
   "execution_count": 14,
   "id": "6c36d325",
   "metadata": {},
   "outputs": [
    {
     "data": {
      "text/plain": [
       "0"
      ]
     },
     "metadata": {},
     "output_type": "display_data"
    }
   ],
   "source": [
    "FEM.showModalResults(problem, q)"
   ]
  },
  {
   "cell_type": "code",
   "execution_count": 15,
   "id": "e07f8b10",
   "metadata": {},
   "outputs": [
    {
     "name": "stdout",
     "output_type": "stream",
     "text": [
      "-------------------------------------------------------\n",
      "Version       : 4.13.1\n",
      "License       : GNU General Public License\n",
      "Build OS      : Linux64-sdk\n",
      "Build date    : 19700101\n",
      "Build host    : amdci7.julia.csail.mit.edu\n",
      "Build options : 64Bit ALGLIB[contrib] ANN[contrib] Bamg Blossom Cairo DIntegration Dlopen DomHex Eigen[contrib] Fltk GMP Gmm[contrib] Hxt Jpeg Kbipack LinuxJoystick MathEx[contrib] Mesh Metis[contrib] Mmg Mpeg Netgen Nii2mesh ONELAB ONELABMetamodel OpenCASCADE OpenCASCADE-CAF OpenGL OpenMP OptHom Parser Plugins Png Post QuadMeshingTools QuadTri Solver TetGen/BR TinyXML2[contrib] Untangle Voro++[contrib] WinslowUntangler Zlib\n",
      "FLTK version  : 1.3.8\n",
      "OCC version   : 7.7.2\n",
      "Packaged by   : root\n",
      "Web site      : https://gmsh.info\n",
      "Issue tracker : https://gitlab.onelab.info/gmsh/gmsh/issues\n",
      "-------------------------------------------------------\n"
     ]
    },
    {
     "name": "stderr",
     "output_type": "stream",
     "text": [
      "XRequest.18: BadValue 0x0\n"
     ]
    }
   ],
   "source": [
    "FEM.openPostProcessor()"
   ]
  },
  {
   "cell_type": "code",
   "execution_count": 16,
   "id": "076f84a7",
   "metadata": {},
   "outputs": [],
   "source": [
    "gmsh.finalize()"
   ]
  }
 ],
 "metadata": {
  "kernelspec": {
   "display_name": "Julia 1.11.5",
   "language": "julia",
   "name": "julia-1.11"
  },
  "language_info": {
   "file_extension": ".jl",
   "mimetype": "application/julia",
   "name": "julia",
   "version": "1.11.5"
  }
 },
 "nbformat": 4,
 "nbformat_minor": 5
}
