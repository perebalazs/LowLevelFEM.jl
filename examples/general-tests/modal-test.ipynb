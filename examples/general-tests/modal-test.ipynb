{
 "cells": [
  {
   "cell_type": "code",
   "execution_count": 1,
   "id": "e95346f2",
   "metadata": {},
   "outputs": [
    {
     "name": "stdout",
     "output_type": "stream",
     "text": [
      "Info    : Increasing process stack size (8192 kB < 16 MB)\n"
     ]
    }
   ],
   "source": [
    "using LowLevelFEM\n",
    "import LowLevelFEM as FEM\n",
    "gmsh.initialize()"
   ]
  },
  {
   "cell_type": "code",
   "execution_count": 2,
   "id": "c376ef73",
   "metadata": {},
   "outputs": [
    {
     "name": "stdout",
     "output_type": "stream",
     "text": [
      "Info    : Reading 'body2.geo'...\n",
      "Info    : Meshing 1D...\n",
      "Info    : [  0%] Meshing curve 1 (Line)\n",
      "Info    : [ 10%] Meshing curve 2 (Line)\n",
      "Info    : [ 20%] Meshing curve 3 (Line)\n",
      "Info    : [ 30%] Meshing curve 4 (Line)\n",
      "Info    : [ 40%] Meshing curve 5 (Line)\n",
      "Info    : [ 50%] Meshing curve 6 (Line)\n",
      "Info    : [ 60%] Meshing curve 7 (Line)\n",
      "Info    : [ 60%] Meshing curve 8 (Line)\n",
      "Info    : [ 70%] Meshing curve 9 (Line)\n",
      "Info    : [ 80%] Meshing curve 10 (Line)\n",
      "Info    : [ 90%] Meshing curve 11 (Line)\n",
      "Info    : [100%] Meshing curve 12 (Line)\n",
      "Info    : Done meshing 1D (Wall 0.000984522s, CPU 0.000984s)\n",
      "Info    : Meshing 2D...\n",
      "Info    : [  0%] Meshing surface 1 (Transfinite)\n",
      "Info    : [ 20%] Meshing surface 2 (Transfinite)\n",
      "Info    : [ 40%] Meshing surface 3 (Transfinite)\n",
      "Info    : [ 60%] Meshing surface 4 (Transfinite)\n",
      "Info    : [ 70%] Meshing surface 5 (Transfinite)\n",
      "Info    : [ 90%] Meshing surface 6 (Transfinite)\n",
      "Info    : Done meshing 2D (Wall 0.000451346s, CPU 0.000449s)\n",
      "Info    : Meshing 3D...\n",
      "Info    : Meshing volume 1 (Transfinite)\n",
      "Info    : Done meshing 3D (Wall 0.00173525s, CPU 0.00165s)\n",
      "Info    : Optimizing mesh...\n",
      "Info    : Done optimizing mesh (Wall 2.3369e-05s, CPU 2.3e-05s)\n",
      "Info    : Meshing order 2 (curvilinear on)...\n",
      "Info    : [  0%] Meshing curve 1 order 2\n",
      "Info    : [ 10%] Meshing curve 2 order 2\n",
      "Info    : [ 20%] Meshing curve 3 order 2\n",
      "Info    : [ 20%] Meshing curve 4 order 2\n",
      "Info    : [ 30%] Meshing curve 5 order 2\n",
      "Info    : [ 30%] Meshing curve 6 order 2\n",
      "Info    : [ 40%] Meshing curve 7 order 2\n",
      "Info    : [ 40%] Meshing curve 8 order 2\n",
      "Info    : [ 50%] Meshing curve 9 order 2\n",
      "Info    : [ 50%] Meshing curve 10 order 2\n",
      "Info    : [ 60%] Meshing curve 11 order 2\n",
      "Info    : [ 60%] Meshing curve 12 order 2\n",
      "Info    : [ 70%] Meshing surface 1 order 2\n",
      "Info    : [ 70%] Meshing surface 2 order 2\n",
      "Info    : [ 80%] Meshing surface 3 order 2\n",
      "Info    : [ 80%] Meshing surface 4 order 2\n",
      "Info    : [ 90%] Meshing surface 5 order 2\n",
      "Info    : [ 90%] Meshing surface 6 order 2\n",
      "Info    : [100%] Meshing volume 1 order 2\n",
      "Info    : Done meshing order 2 (Wall 0.0110376s, CPU 0.010603s)\n",
      "Info    : 3321 nodes 792 elements\n",
      "Info    : Done reading 'body2.geo'\n"
     ]
    }
   ],
   "source": [
    "gmsh.open(\"body2.geo\")"
   ]
  },
  {
   "cell_type": "code",
   "execution_count": 3,
   "id": "17d16e97",
   "metadata": {},
   "outputs": [
    {
     "name": "stdout",
     "output_type": "stream",
     "text": [
      "Info    : RCMK renumbering...\n",
      "Info    : Done RCMK renumbering (bandwidth is now 386)\n"
     ]
    },
    {
     "data": {
      "text/plain": [
       "LowLevelFEM.Problem(\"body2\", :Solid, 3, 3, LowLevelFEM.Material[LowLevelFEM.Material(\"body\", :Hooke, 200000.0, 0.3, 7.85e-9, 45.0, 4.2e8, 1.2e-5, 115384.61538461536, 76923.07692307692, 166666.66666666666)], 1.0, 3321)"
      ]
     },
     "metadata": {},
     "output_type": "display_data"
    }
   ],
   "source": [
    "mat = FEM.material(\"body\")\n",
    "problem = FEM.Problem([mat])"
   ]
  },
  {
   "cell_type": "code",
   "execution_count": 4,
   "id": "cb740efb",
   "metadata": {},
   "outputs": [
    {
     "data": {
      "text/plain": [
       "(\"right\", -1, 0, 0)"
      ]
     },
     "metadata": {},
     "output_type": "display_data"
    }
   ],
   "source": [
    "supp = FEM.displacementConstraint(\"left\", ux=0, uy=0, uz=0)\n",
    "load = FEM.load(\"right\", fx=-1)"
   ]
  },
  {
   "cell_type": "code",
   "execution_count": 5,
   "id": "c156853a",
   "metadata": {},
   "outputs": [
    {
     "data": {
      "text/plain": [
       "LowLevelFEM.Eigen([0.10140947383735353, 0.1027940429131387, 0.11069430649869351, 50136.70537661742, 50159.140582939835, 130614.50141844068], [0.0034383154351898407 0.0008662786462221179 … 0.008319765602119434 -0.0032656499173551023; -0.006341881656695426 -0.025110426962475094 … -0.032246155258268086 -0.016997995444332264; … ; 0.02410600232254721 0.011902374846670614 … -0.028541237985168437 0.013700415768907728; -0.00981308658483393 0.01111291893383504 … 0.003800813121034076 0.02130716444771169], LowLevelFEM.Problem(\"body2\", :Solid, 3, 3, LowLevelFEM.Material[LowLevelFEM.Material(\"body\", :Hooke, 200000.0, 0.3, 7.85e-9, 45.0, 4.2e8, 1.2e-5, 115384.61538461536, 76923.07692307692, 166666.66666666666)], 1.0, 3321))"
      ]
     },
     "metadata": {},
     "output_type": "display_data"
    }
   ],
   "source": [
    "q1 = FEM.solveModalAnalysis(problem)"
   ]
  },
  {
   "cell_type": "code",
   "execution_count": 6,
   "id": "67f5fe09",
   "metadata": {},
   "outputs": [
    {
     "data": {
      "text/plain": [
       "LowLevelFEM.Eigen([8137.647594674511, 8137.6475947523295, 48802.13800580099, 48802.13800580726, 72058.73304507803, 126606.35130894864], [0.0 0.0 … 0.0 0.0; 0.0 0.0 … 0.0 0.0; … ; -0.010430141803127263 -0.032959211606378165 … -0.020166822127644493 1.7199586216147618e-5; 0.03129643621124628 -0.0013959375845776756 … 0.020166822127645968 1.7199586229062492e-5], LowLevelFEM.Problem(\"body2\", :Solid, 3, 3, LowLevelFEM.Material[LowLevelFEM.Material(\"body\", :Hooke, 200000.0, 0.3, 7.85e-9, 45.0, 4.2e8, 1.2e-5, 115384.61538461536, 76923.07692307692, 166666.66666666666)], 1.0, 3321))"
      ]
     },
     "metadata": {},
     "output_type": "display_data"
    }
   ],
   "source": [
    "q2 = FEM.solveModalAnalysis(problem, constraints=[supp])"
   ]
  },
  {
   "cell_type": "code",
   "execution_count": 7,
   "id": "2c9f5e16",
   "metadata": {},
   "outputs": [
    {
     "data": {
      "text/plain": [
       "LowLevelFEM.Eigen([8128.479225138171, 8128.479225198013, 48791.85315992537, 48791.85315993663, 72058.18061175045, 126606.03369147319], [0.0 0.0 … 0.0 0.0; 0.0 0.0 … 0.0 0.0; … ; 0.032863633411149694 -0.009210879988153127 … -0.020166822424433312 1.719955391859457e-5; -0.0029049733805038905 -0.031679973693500355 … 0.020166822424433066 1.7199553922522606e-5], LowLevelFEM.Problem(\"body2\", :Solid, 3, 3, LowLevelFEM.Material[LowLevelFEM.Material(\"body\", :Hooke, 200000.0, 0.3, 7.85e-9, 45.0, 4.2e8, 1.2e-5, 115384.61538461536, 76923.07692307692, 166666.66666666666)], 1.0, 3321))"
      ]
     },
     "metadata": {},
     "output_type": "display_data"
    }
   ],
   "source": [
    "q3 = FEM.solveModalAnalysis(problem, constraints=[supp], loads=[load])"
   ]
  },
  {
   "cell_type": "code",
   "execution_count": 8,
   "id": "6c36d325",
   "metadata": {},
   "outputs": [
    {
     "data": {
      "text/plain": [
       "3"
      ]
     },
     "metadata": {},
     "output_type": "display_data"
    }
   ],
   "source": [
    "FEM.showModalResults(q1)\n",
    "FEM.showModalResults(q2)\n",
    "FEM.showModalResults(q3)"
   ]
  },
  {
   "cell_type": "code",
   "execution_count": 9,
   "id": "e07f8b10",
   "metadata": {},
   "outputs": [
    {
     "name": "stdout",
     "output_type": "stream",
     "text": [
      "-------------------------------------------------------\n",
      "Version       : 4.13.1\n",
      "License       : GNU General Public License\n",
      "Build OS      : Linux64-sdk\n",
      "Build date    : 19700101\n",
      "Build host    : amdci7.julia.csail.mit.edu\n",
      "Build options : 64Bit ALGLIB[contrib] ANN[contrib] Bamg Blossom Cairo DIntegration Dlopen DomHex Eigen[contrib] Fltk GMP Gmm[contrib] Hxt Jpeg Kbipack LinuxJoystick MathEx[contrib] Mesh Metis[contrib] Mmg Mpeg Netgen Nii2mesh ONELAB ONELABMetamodel OpenCASCADE OpenCASCADE-CAF OpenGL OpenMP OptHom Parser Plugins Png Post QuadMeshingTools QuadTri Solver TetGen/BR TinyXML2[contrib] Untangle Voro++[contrib] WinslowUntangler Zlib\n",
      "FLTK version  : 1.3.8\n",
      "OCC version   : 7.7.2\n",
      "Packaged by   : root\n",
      "Web site      : https://gmsh.info\n",
      "Issue tracker : https://gitlab.onelab.info/gmsh/gmsh/issues\n",
      "-------------------------------------------------------\n"
     ]
    },
    {
     "name": "stderr",
     "output_type": "stream",
     "text": [
      "XOpenIM() failed\n",
      "XRequest.18: BadValue 0x0\n"
     ]
    }
   ],
   "source": [
    "FEM.openPostProcessor()"
   ]
  },
  {
   "cell_type": "code",
   "execution_count": 10,
   "id": "076f84a7",
   "metadata": {},
   "outputs": [],
   "source": [
    "gmsh.finalize()"
   ]
  }
 ],
 "metadata": {
  "kernelspec": {
   "display_name": "Julia 1.11.6",
   "language": "julia",
   "name": "julia-1.11"
  },
  "language_info": {
   "file_extension": ".jl",
   "mimetype": "application/julia",
   "name": "julia",
   "version": "1.11.6"
  }
 },
 "nbformat": 4,
 "nbformat_minor": 5
}
