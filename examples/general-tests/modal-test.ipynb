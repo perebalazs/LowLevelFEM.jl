{
 "cells": [
  {
   "cell_type": "code",
   "execution_count": 1,
   "id": "e95346f2",
   "metadata": {},
   "outputs": [
    {
     "name": "stderr",
     "output_type": "stream",
     "text": [
      "\n",
      "SYSTEM: caught exception of type :MethodError while trying to print a failed Task notice; giving up\n",
      "\n",
      "SYSTEM: caught exception of type :MethodError while trying to print a failed Task notice; giving up\n",
      "\n",
      "SYSTEM: caught exception of type :MethodError while trying to print a failed Task notice; giving up\n",
      "\n",
      "SYSTEM: caught exception of type :MethodError while trying to print a failed Task notice; giving up\n",
      "\n",
      "SYSTEM: caught exception of type :MethodError while trying to print a failed Task notice; giving up\n"
     ]
    },
    {
     "ename": "LoadError",
     "evalue": "MethodError: no method matching pipe_writer(::IJulia.IJuliaStdio{Base.PipeEndpoint})\nThe applicable method may be too new: running in world age 38630, while current world is 38657.\n\n\u001b[0mClosest candidates are:\n\u001b[0m  pipe_writer(::IJulia.IJuliaStdio) (method too new to be called from this world context.)\n\u001b[0m\u001b[90m   @\u001b[39m \u001b[35mIJulia\u001b[39m \u001b[90m~/.julia/packages/IJulia/y8YGF/src/\u001b[39m\u001b[90m\u001b[4mstdio.jl:16\u001b[24m\u001b[39m\n\u001b[0m  pipe_writer(\u001b[91m::Base.ProcessChain\u001b[39m)\n\u001b[0m\u001b[90m   @\u001b[39m \u001b[90mBase\u001b[39m \u001b[90m\u001b[4mprocess.jl:37\u001b[24m\u001b[39m\n\u001b[0m  pipe_writer(\u001b[91m::Base.Process\u001b[39m)\n\u001b[0m\u001b[90m   @\u001b[39m \u001b[90mBase\u001b[39m \u001b[90m\u001b[4mprocess.jl:23\u001b[24m\u001b[39m\n\u001b[0m  ...\n",
     "output_type": "error",
     "traceback": [
      "MethodError: no method matching pipe_writer(::IJulia.IJuliaStdio{Base.PipeEndpoint})\nThe applicable method may be too new: running in world age 38630, while current world is 38657.\n\n\u001b[0mClosest candidates are:\n\u001b[0m  pipe_writer(::IJulia.IJuliaStdio) (method too new to be called from this world context.)\n\u001b[0m\u001b[90m   @\u001b[39m \u001b[35mIJulia\u001b[39m \u001b[90m~/.julia/packages/IJulia/y8YGF/src/\u001b[39m\u001b[90m\u001b[4mstdio.jl:16\u001b[24m\u001b[39m\n\u001b[0m  pipe_writer(\u001b[91m::Base.ProcessChain\u001b[39m)\n\u001b[0m\u001b[90m   @\u001b[39m \u001b[90mBase\u001b[39m \u001b[90m\u001b[4mprocess.jl:37\u001b[24m\u001b[39m\n\u001b[0m  pipe_writer(\u001b[91m::Base.Process\u001b[39m)\n\u001b[0m\u001b[90m   @\u001b[39m \u001b[90mBase\u001b[39m \u001b[90m\u001b[4mprocess.jl:23\u001b[24m\u001b[39m\n\u001b[0m  ...\n",
      "",
      "Stacktrace:",
      "  [1] \u001b[0m\u001b[1munsafe_write\u001b[22m\u001b[0m\u001b[1m(\u001b[22m\u001b[90mio\u001b[39m::\u001b[0mIJulia.IJuliaStdio\u001b[90m{Base.PipeEndpoint}\u001b[39m, \u001b[90mp\u001b[39m::\u001b[0mPtr\u001b[90m{UInt8}\u001b[39m, \u001b[90mnb\u001b[39m::\u001b[0mUInt64\u001b[0m\u001b[1m)\u001b[22m",
      "\u001b[90m    @\u001b[39m \u001b[90mBase\u001b[39m \u001b[90m./\u001b[39m\u001b[90m\u001b[4mio.jl:452\u001b[24m\u001b[39m",
      "  [2] \u001b[0m\u001b[1munsafe_write\u001b[22m\u001b[0m\u001b[1m(\u001b[22m\u001b[90mio\u001b[39m::\u001b[0mIOContext\u001b[90m{IO}\u001b[39m, \u001b[90mp\u001b[39m::\u001b[0mPtr\u001b[90m{UInt8}\u001b[39m, \u001b[90mnb\u001b[39m::\u001b[0mUInt64\u001b[0m\u001b[1m)\u001b[22m",
      "\u001b[90m    @\u001b[39m \u001b[90mBase\u001b[39m \u001b[90m./\u001b[39m\u001b[90m\u001b[4mio.jl:452\u001b[24m\u001b[39m",
      "  [3] \u001b[0m\u001b[1mwrite\u001b[22m",
      "\u001b[90m    @\u001b[39m \u001b[90m./strings/\u001b[39m\u001b[90m\u001b[4mio.jl:246\u001b[24m\u001b[39m\u001b[90m [inlined]\u001b[39m",
      "  [4] \u001b[0m\u001b[1mprint\u001b[22m",
      "\u001b[90m    @\u001b[39m \u001b[90m./strings/\u001b[39m\u001b[90m\u001b[4mio.jl:248\u001b[24m\u001b[39m\u001b[90m [inlined]\u001b[39m",
      "  [5] \u001b[0m\u001b[1mprint\u001b[22m\u001b[0m\u001b[1m(\u001b[22m::\u001b[0mIOContext\u001b[90m{IO}\u001b[39m, ::\u001b[0mString, ::\u001b[0mString\u001b[0m\u001b[1m)\u001b[22m",
      "\u001b[90m    @\u001b[39m \u001b[90mBase\u001b[39m \u001b[90m./strings/\u001b[39m\u001b[90m\u001b[4mio.jl:46\u001b[24m\u001b[39m",
      "  [6] \u001b[0m\u001b[1mprintln\u001b[22m",
      "\u001b[90m    @\u001b[39m \u001b[90m./strings/\u001b[39m\u001b[90m\u001b[4mio.jl:77\u001b[24m\u001b[39m\u001b[90m [inlined]\u001b[39m",
      "  [7] \u001b[0m\u001b[1mmacro expansion\u001b[22m",
      "\u001b[90m    @\u001b[39m \u001b[90m./\u001b[39m\u001b[90m\u001b[4mprecompilation.jl:1087\u001b[24m\u001b[39m\u001b[90m [inlined]\u001b[39m",
      "  [8] \u001b[0m\u001b[1mmacro expansion\u001b[22m",
      "\u001b[90m    @\u001b[39m \u001b[90m./\u001b[39m\u001b[90m\u001b[4mlock.jl:376\u001b[24m\u001b[39m\u001b[90m [inlined]\u001b[39m",
      "  [9] \u001b[0m\u001b[1m_precompilepkgs\u001b[22m\u001b[0m\u001b[1m(\u001b[22m\u001b[90mpkgs\u001b[39m::\u001b[0mVector\u001b[90m{String}\u001b[39m, \u001b[90minternal_call\u001b[39m::\u001b[0mBool, \u001b[90mstrict\u001b[39m::\u001b[0mBool, \u001b[90mwarn_loaded\u001b[39m::\u001b[0mBool, \u001b[90mtiming\u001b[39m::\u001b[0mBool, \u001b[90m_from_loading\u001b[39m::\u001b[0mBool, \u001b[90mconfigs\u001b[39m::\u001b[0mVector\u001b[90m{Pair{Cmd, Base.CacheFlags}}\u001b[39m, \u001b[90m_io\u001b[39m::\u001b[0mIOContext\u001b[90m{IO}\u001b[39m, \u001b[90mfancyprint\u001b[39m::\u001b[0mBool, \u001b[90mmanifest\u001b[39m::\u001b[0mBool, \u001b[90mignore_loaded\u001b[39m::\u001b[0mBool\u001b[0m\u001b[1m)\u001b[22m",
      "\u001b[90m    @\u001b[39m \u001b[90mBase.Precompilation\u001b[39m \u001b[90m./\u001b[39m\u001b[90m\u001b[4mprecompilation.jl:1086\u001b[24m\u001b[39m",
      " [10] \u001b[0m\u001b[1mprecompilepkgs\u001b[22m\u001b[0m\u001b[1m(\u001b[22m\u001b[90mpkgs\u001b[39m::\u001b[0mVector\u001b[90m{String}\u001b[39m; \u001b[90minternal_call\u001b[39m::\u001b[0mBool, \u001b[90mstrict\u001b[39m::\u001b[0mBool, \u001b[90mwarn_loaded\u001b[39m::\u001b[0mBool, \u001b[90mtiming\u001b[39m::\u001b[0mBool, \u001b[90m_from_loading\u001b[39m::\u001b[0mBool, \u001b[90mconfigs\u001b[39m::\u001b[0mPair\u001b[90m{Cmd, Base.CacheFlags}\u001b[39m, \u001b[90mio\u001b[39m::\u001b[0mIJulia.IJuliaStdio\u001b[90m{Base.PipeEndpoint}\u001b[39m, \u001b[90mfancyprint\u001b[39m::\u001b[0mBool, \u001b[90mmanifest\u001b[39m::\u001b[0mBool, \u001b[90mignore_loaded\u001b[39m::\u001b[0mBool\u001b[0m\u001b[1m)\u001b[22m",
      "\u001b[90m    @\u001b[39m \u001b[90mBase.Precompilation\u001b[39m \u001b[90m./\u001b[39m\u001b[90m\u001b[4mprecompilation.jl:472\u001b[24m\u001b[39m",
      " [11] \u001b[0m\u001b[1m__require_prelocked\u001b[22m\u001b[0m\u001b[1m(\u001b[22m\u001b[90mpkg\u001b[39m::\u001b[0mBase.PkgId, \u001b[90menv\u001b[39m::\u001b[0mString\u001b[0m\u001b[1m)\u001b[22m",
      "\u001b[90m    @\u001b[39m \u001b[90mBase\u001b[39m \u001b[90m./\u001b[39m\u001b[90m\u001b[4mloading.jl:2630\u001b[24m\u001b[39m",
      " [12] \u001b[0m\u001b[1m_require_prelocked\u001b[22m\u001b[0m\u001b[1m(\u001b[22m\u001b[90muuidkey\u001b[39m::\u001b[0mBase.PkgId, \u001b[90menv\u001b[39m::\u001b[0mString\u001b[0m\u001b[1m)\u001b[22m",
      "\u001b[90m    @\u001b[39m \u001b[90mBase\u001b[39m \u001b[90m./\u001b[39m\u001b[90m\u001b[4mloading.jl:2465\u001b[24m\u001b[39m",
      " [13] \u001b[0m\u001b[1mmacro expansion\u001b[22m",
      "\u001b[90m    @\u001b[39m \u001b[90m./\u001b[39m\u001b[90m\u001b[4mloading.jl:2393\u001b[24m\u001b[39m\u001b[90m [inlined]\u001b[39m",
      " [14] \u001b[0m\u001b[1mmacro expansion\u001b[22m",
      "\u001b[90m    @\u001b[39m \u001b[90m./\u001b[39m\u001b[90m\u001b[4mlock.jl:376\u001b[24m\u001b[39m\u001b[90m [inlined]\u001b[39m",
      " [15] \u001b[0m\u001b[1m__require\u001b[22m\u001b[0m\u001b[1m(\u001b[22m\u001b[90minto\u001b[39m::\u001b[0mModule, \u001b[90mmod\u001b[39m::\u001b[0mSymbol\u001b[0m\u001b[1m)\u001b[22m",
      "\u001b[90m    @\u001b[39m \u001b[90mBase\u001b[39m \u001b[90m./\u001b[39m\u001b[90m\u001b[4mloading.jl:2358\u001b[24m\u001b[39m",
      " [16] \u001b[0m\u001b[1mrequire\u001b[22m\u001b[0m\u001b[1m(\u001b[22m\u001b[90minto\u001b[39m::\u001b[0mModule, \u001b[90mmod\u001b[39m::\u001b[0mSymbol\u001b[0m\u001b[1m)\u001b[22m",
      "\u001b[90m    @\u001b[39m \u001b[90mBase\u001b[39m \u001b[90m./\u001b[39m\u001b[90m\u001b[4mloading.jl:2334\u001b[24m\u001b[39m",
      " [17] \u001b[0m\u001b[1meval\u001b[22m\u001b[0m\u001b[1m(\u001b[22m\u001b[90mm\u001b[39m::\u001b[0mModule, \u001b[90me\u001b[39m::\u001b[0mAny\u001b[0m\u001b[1m)\u001b[22m",
      "\u001b[90m    @\u001b[39m \u001b[90mCore\u001b[39m \u001b[90m./\u001b[39m\u001b[90m\u001b[4mboot.jl:489\u001b[24m\u001b[39m"
     ]
    }
   ],
   "source": [
    "using LowLevelFEM\n",
    "import LowLevelFEM as FEM\n",
    "gmsh.initialize()"
   ]
  },
  {
   "cell_type": "code",
   "execution_count": 2,
   "id": "c376ef73",
   "metadata": {},
   "outputs": [
    {
     "name": "stdout",
     "output_type": "stream",
     "text": [
      "Info    : Reading 'body2.geo'...\n",
      "Info    : Meshing 1D...\n",
      "Info    : [  0%] Meshing curve 1 (Line)\n",
      "Info    : [ 10%] Meshing curve 2 (Line)\n",
      "Info    : [ 20%] Meshing curve 3 (Line)\n",
      "Info    : [ 30%] Meshing curve 4 (Line)\n",
      "Info    : [ 40%] Meshing curve 5 (Line)\n",
      "Info    : [ 50%] Meshing curve 6 (Line)\n",
      "Info    : [ 60%] Meshing curve 7 (Line)\n",
      "Info    : [ 60%] Meshing curve 8 (Line)\n",
      "Info    : [ 70%] Meshing curve 9 (Line)\n",
      "Info    : [ 80%] Meshing curve 10 (Line)\n",
      "Info    : [ 90%] Meshing curve 11 (Line)\n",
      "Info    : [100%] Meshing curve 12 (Line)\n",
      "Info    : Done meshing 1D (Wall 0.000757006s, CPU 0.000722s)\n",
      "Info    : Meshing 2D...\n",
      "Info    : [  0%] Meshing surface 1 (Transfinite)\n",
      "Info    : [ 20%] Meshing surface 2 (Transfinite)\n",
      "Info    : [ 40%] Meshing surface 3 (Transfinite)\n",
      "Info    : [ 60%] Meshing surface 4 (Transfinite)\n",
      "Info    : [ 70%] Meshing surface 5 (Transfinite)\n",
      "Info    : [ 90%] Meshing surface 6 (Transfinite)\n",
      "Info    : Done meshing 2D (Wall 0.000371008s, CPU 0.000369s)\n",
      "Info    : Meshing 3D...\n",
      "Info    : Meshing volume 1 (Transfinite)\n",
      "Info    : Done meshing 3D (Wall 0.00467988s, CPU 0.003s)\n",
      "Info    : Optimizing mesh...\n",
      "Info    : Done optimizing mesh (Wall 4.7825e-05s, CPU 4.8e-05s)\n",
      "Info    : Meshing order 2 (curvilinear on)...\n",
      "Info    : [  0%] Meshing curve 1 order 2\n",
      "Info    : [ 10%] Meshing curve 2 order 2\n",
      "Info    : [ 20%] Meshing curve 3 order 2\n",
      "Info    : [ 20%] Meshing curve 4 order 2\n",
      "Info    : [ 30%] Meshing curve 5 order 2\n",
      "Info    : [ 30%] Meshing curve 6 order 2\n",
      "Info    : [ 40%] Meshing curve 7 order 2\n",
      "Info    : [ 40%] Meshing curve 8 order 2\n",
      "Info    : [ 50%] Meshing curve 9 order 2\n",
      "Info    : [ 50%] Meshing curve 10 order 2\n",
      "Info    : [ 60%] Meshing curve 11 order 2\n",
      "Info    : [ 60%] Meshing curve 12 order 2\n",
      "Info    : [ 70%] Meshing surface 1 order 2\n",
      "Info    : [ 70%] Meshing surface 2 order 2\n",
      "Info    : [ 80%] Meshing surface 3 order 2\n",
      "Info    : [ 80%] Meshing surface 4 order 2\n",
      "Info    : [ 90%] Meshing surface 5 order 2\n",
      "Info    : [ 90%] Meshing surface 6 order 2\n",
      "Info    : [100%] Meshing volume 1 order 2\n",
      "Info    : Done meshing order 2 (Wall 0.0160607s, CPU 0.015504s)\n",
      "Info    : 3321 nodes 792 elements\n",
      "Info    : Done reading 'body2.geo'\n"
     ]
    }
   ],
   "source": [
    "gmsh.open(\"body2.geo\")"
   ]
  },
  {
   "cell_type": "code",
   "execution_count": 3,
   "id": "17d16e97",
   "metadata": {},
   "outputs": [
    {
     "data": {
      "text/plain": [
       "Problem(\"body2\", :Solid, 3, 3, LowLevelFEM.Material[LowLevelFEM.Material(\"body\", :Hooke, 200000.0, 0.3, 7.85e-9, 45.0, 4.2e8, 1.2e-5, 115384.61538461536, 76923.07692307692, 166666.66666666666, 1.0)], 1.0, 3321)"
      ]
     },
     "metadata": {},
     "output_type": "display_data"
    }
   ],
   "source": [
    "mat = FEM.material(\"body\")\n",
    "problem = FEM.Problem([mat])"
   ]
  },
  {
   "cell_type": "code",
   "execution_count": 4,
   "id": "cb740efb",
   "metadata": {},
   "outputs": [
    {
     "data": {
      "text/plain": [
       "(\"right\", -1, 0, 0)"
      ]
     },
     "metadata": {},
     "output_type": "display_data"
    }
   ],
   "source": [
    "supp = FEM.displacementConstraint(\"left\", ux=0, uy=0, uz=0)\n",
    "load = FEM.load(\"right\", fx=-1)"
   ]
  },
  {
   "cell_type": "code",
   "execution_count": 5,
   "id": "c156853a",
   "metadata": {},
   "outputs": [
    {
     "data": {
      "text/plain": [
       "LowLevelFEM.Eigen([0.010004416929997834, 0.025666373401211365, 0.028452880113513684, 0.05283971836266333, 50136.499352958905, 50168.51605701686, 130488.94315839453, 130705.70937280625, 143758.38944966195, 238494.24384813625, 238898.232595653, 252197.12389645388, 287875.84249402734, 366062.7295993459, 366345.24254345987, 431485.80225017, 502072.9136169159, 502072.9136169159, 504846.3300578662, 578004.6409193443], [0.0015775129285746916 0.013990921638224234 … 0.0006064765724846774 0.0020075913839671697; -0.002573726179954927 0.013327113634187756 … -0.018015401942737118 0.02555836970036278; … ; -0.016140975183356963 -0.0006299115275990408 … -0.010151572274402774 0.019981069271577143; 0.01648019320742119 -0.009609478102080505 … -0.011322916065416015 -0.020224821739878728], Problem(\"body2\", :Solid, 3, 3, LowLevelFEM.Material[LowLevelFEM.Material(\"body\", :Hooke, 200000.0, 0.3, 7.85e-9, 45.0, 4.2e8, 1.2e-5, 115384.61538461536, 76923.07692307692, 166666.66666666666, 1.0)], 1.0, 3321))"
      ]
     },
     "metadata": {},
     "output_type": "display_data"
    }
   ],
   "source": [
    "q1 = FEM.solveModalAnalysis(problem, n=20, fₘᵢₙ=0)"
   ]
  },
  {
   "cell_type": "code",
   "execution_count": 6,
   "id": "67f5fe09",
   "metadata": {},
   "outputs": [
    {
     "data": {
      "text/plain": [
       "LowLevelFEM.Eigen([8137.647594666686, 8137.647594749007, 48802.1380058002, 48802.1380058075, 72058.73304507752, 126606.35130894894], [0.0 0.0 … 0.0 0.0; 0.0 0.0 … 0.0 0.0; … ; -0.011038941172225565 -0.032981158263011484 … -0.02016682212764465 1.719958622177551e-5; 0.031086916835045372 -0.0007079961301393115 … 0.02016682212764589 1.7199586214620502e-5], Problem(\"body2\", :Solid, 3, 3, LowLevelFEM.Material[LowLevelFEM.Material(\"body\", :Hooke, 200000.0, 0.3, 7.85e-9, 45.0, 4.2e8, 1.2e-5, 115384.61538461536, 76923.07692307692, 166666.66666666666, 1.0)], 1.0, 3321))"
      ]
     },
     "metadata": {},
     "output_type": "display_data"
    }
   ],
   "source": [
    "q2 = FEM.solveModalAnalysis(problem, constraints=[supp])"
   ]
  },
  {
   "cell_type": "code",
   "execution_count": 7,
   "id": "2c9f5e16",
   "metadata": {},
   "outputs": [
    {
     "data": {
      "text/plain": [
       "LowLevelFEM.Eigen([8128.4792251541185, 8128.47922519842, 48791.853159928156, 48791.85315993652, 72058.18061175114, 126606.03369147354], [0.0 0.0 … 0.0 0.0; 0.0 0.0 … 0.0 0.0; … ; 0.032518550530825925 -0.013590509547429325 … -0.020166822424432847 1.7199553922316377e-5; -0.005567792116449512 -0.030062605192077343 … 0.020166822424433125 1.7199553928942926e-5], Problem(\"body2\", :Solid, 3, 3, LowLevelFEM.Material[LowLevelFEM.Material(\"body\", :Hooke, 200000.0, 0.3, 7.85e-9, 45.0, 4.2e8, 1.2e-5, 115384.61538461536, 76923.07692307692, 166666.66666666666, 1.0)], 1.0, 3321))"
      ]
     },
     "metadata": {},
     "output_type": "display_data"
    }
   ],
   "source": [
    "q3 = FEM.solveModalAnalysis(problem, constraints=[supp], loads=[load])"
   ]
  },
  {
   "cell_type": "code",
   "execution_count": 8,
   "id": "6c36d325",
   "metadata": {},
   "outputs": [
    {
     "data": {
      "text/plain": [
       "3"
      ]
     },
     "metadata": {},
     "output_type": "display_data"
    }
   ],
   "source": [
    "FEM.showModalResults(q1)\n",
    "FEM.showModalResults(q2)\n",
    "FEM.showModalResults(q3)"
   ]
  },
  {
   "cell_type": "code",
   "execution_count": 9,
   "id": "e07f8b10",
   "metadata": {},
   "outputs": [
    {
     "name": "stdout",
     "output_type": "stream",
     "text": [
      "-------------------------------------------------------\n",
      "Version       : 4.13.1\n",
      "License       : GNU General Public License\n",
      "Build OS      : Linux64-sdk\n",
      "Build date    : 19700101\n",
      "Build host    : amdci7.julia.csail.mit.edu\n",
      "Build options : 64Bit ALGLIB[contrib] ANN[contrib] Bamg Blossom Cairo DIntegration Dlopen DomHex Eigen[contrib] Fltk GMP Gmm[contrib] Hxt Jpeg Kbipack LinuxJoystick MathEx[contrib] Mesh Metis[contrib] Mmg Mpeg Netgen Nii2mesh ONELAB ONELABMetamodel OpenCASCADE OpenCASCADE-CAF OpenGL OpenMP OptHom Parser Plugins Png Post QuadMeshingTools QuadTri Solver TetGen/BR TinyXML2[contrib] Untangle Voro++[contrib] WinslowUntangler Zlib\n",
      "FLTK version  : 1.3.8\n",
      "OCC version   : 7.7.2\n",
      "Packaged by   : root\n",
      "Web site      : https://gmsh.info\n",
      "Issue tracker : https://gitlab.onelab.info/gmsh/gmsh/issues\n",
      "-------------------------------------------------------\n"
     ]
    },
    {
     "name": "stderr",
     "output_type": "stream",
     "text": [
      "XOpenIM() failed\n",
      "XRequest.18: BadValue 0x0\n",
      "Fontconfig warning: using without calling FcInit()\n"
     ]
    }
   ],
   "source": [
    "FEM.openPostProcessor()"
   ]
  },
  {
   "cell_type": "code",
   "execution_count": 10,
   "id": "076f84a7",
   "metadata": {},
   "outputs": [],
   "source": [
    "gmsh.finalize()"
   ]
  }
 ],
 "metadata": {
  "kernelspec": {
   "display_name": "Julia 1.12.0",
   "language": "julia",
   "name": "julia-1.12"
  },
  "language_info": {
   "file_extension": ".jl",
   "mimetype": "application/julia",
   "name": "julia",
   "version": "1.12.0"
  }
 },
 "nbformat": 4,
 "nbformat_minor": 5
}
