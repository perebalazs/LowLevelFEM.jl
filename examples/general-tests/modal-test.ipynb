{
 "cells": [
  {
   "cell_type": "code",
   "execution_count": null,
   "id": "e95346f2",
   "metadata": {},
   "outputs": [],
   "source": [
    "using LowLevelFEM\n",
    "import LowLevelFEM as FEM\n",
    "gmsh.initialize()"
   ]
  },
  {
   "cell_type": "code",
   "execution_count": null,
   "id": "c376ef73",
   "metadata": {},
   "outputs": [],
   "source": [
    "gmsh.open(\"body2.geo\")"
   ]
  },
  {
   "cell_type": "code",
   "execution_count": null,
   "id": "17d16e97",
   "metadata": {},
   "outputs": [],
   "source": [
    "mat = FEM.material(\"body\")\n",
    "problem = FEM.Problem([mat])"
   ]
  },
  {
   "cell_type": "code",
   "execution_count": null,
   "id": "cb740efb",
   "metadata": {},
   "outputs": [],
   "source": [
    "supp = FEM.displacementConstraint(\"left\", ux=0, uy=0, uz=0)\n",
    "load = FEM.load(\"right\", fx=-1)"
   ]
  },
  {
   "cell_type": "code",
   "execution_count": null,
   "id": "c156853a",
   "metadata": {},
   "outputs": [],
   "source": [
    "q1 = FEM.solveModalAnalysis(problem, n=20, fₘᵢₙ=0)"
   ]
  },
  {
   "cell_type": "code",
   "execution_count": null,
   "id": "67f5fe09",
   "metadata": {},
   "outputs": [],
   "source": [
    "q2 = FEM.solveModalAnalysis(problem, constraints=[supp])"
   ]
  },
  {
   "cell_type": "code",
   "execution_count": null,
   "id": "2c9f5e16",
   "metadata": {},
   "outputs": [],
   "source": [
    "q3 = FEM.solveModalAnalysis(problem, constraints=[supp], loads=[load])"
   ]
  },
  {
   "cell_type": "code",
   "execution_count": null,
   "id": "6c36d325",
   "metadata": {},
   "outputs": [],
   "source": [
    "FEM.showModalResults(q1)\n",
    "FEM.showModalResults(q2)\n",
    "FEM.showModalResults(q3)"
   ]
  },
  {
   "cell_type": "code",
   "execution_count": null,
   "id": "e07f8b10",
   "metadata": {},
   "outputs": [],
   "source": [
    "FEM.openPostProcessor()"
   ]
  },
  {
   "cell_type": "code",
   "execution_count": null,
   "id": "076f84a7",
   "metadata": {},
   "outputs": [],
   "source": [
    "gmsh.finalize()"
   ]
  }
 ],
 "metadata": {
  "kernelspec": {
   "display_name": "Julia 1.12.0",
   "language": "julia",
   "name": "julia-1.12"
  },
  "language_info": {
   "file_extension": ".jl",
   "mimetype": "application/julia",
   "name": "julia",
   "version": "1.12.0"
  }
 },
 "nbformat": 4,
 "nbformat_minor": 5
}
