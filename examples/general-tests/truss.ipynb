{
 "cells": [
  {
   "cell_type": "code",
   "execution_count": 36,
   "id": "30bd17cc",
   "metadata": {},
   "outputs": [],
   "source": [
    "using LowLevelFEM\n",
    "gmsh.initialize()"
   ]
  },
  {
   "cell_type": "code",
   "execution_count": 37,
   "id": "cd19855c",
   "metadata": {},
   "outputs": [
    {
     "name": "stdout",
     "output_type": "stream",
     "text": [
      "Info    : Reading 'truss.geo'...\n",
      "Info    : Meshing 1D...\n",
      "Info    : [  0%] Meshing curve 1 (Line)\n",
      "Info    : [ 60%] Meshing curve 2 (Line)\n",
      "Info    : Done meshing 1D (Wall 0.000165588s, CPU 0.000164s)\n",
      "Info    : 3 nodes 5 elements\n",
      "Info    : Done reading 'truss.geo'\n"
     ]
    }
   ],
   "source": [
    "gmsh.open(\"truss.geo\")"
   ]
  },
  {
   "cell_type": "code",
   "execution_count": 38,
   "id": "02b0d8ef",
   "metadata": {},
   "outputs": [
    {
     "data": {
      "text/plain": [
       "Problem(\"truss\", :Truss, 3, 3, LowLevelFEM.Material[LowLevelFEM.Material(\"rod\", :Hooke, 200000.0, 0.3, 7.85e-9, 45.0, 4.2e8, 1.2e-5, 115384.61538461536, 76923.07692307692, 166666.66666666666, 1.0)], 1.0, 3)"
      ]
     },
     "metadata": {},
     "output_type": "display_data"
    }
   ],
   "source": [
    "mat = material(\"rod\")\n",
    "prob = Problem([mat], type=:Truss)"
   ]
  },
  {
   "cell_type": "code",
   "execution_count": 39,
   "id": "72bceeff",
   "metadata": {},
   "outputs": [
    {
     "data": {
      "text/plain": [
       "9×9 SparseArrays.SparseMatrixCSC{Float64, Int64} with 19 stored entries:\n",
       "  1000.0   ⋅    ⋅   -1000.0        ⋅      ⋅       ⋅         ⋅      ⋅ \n",
       "      ⋅    ⋅    ⋅        ⋅         ⋅      ⋅       ⋅         ⋅      ⋅ \n",
       "      ⋅    ⋅    ⋅        ⋅         ⋅      ⋅       ⋅         ⋅      ⋅ \n",
       " -1000.0   ⋅    ⋅    1715.54    357.771   ⋅   -715.542  -357.771   ⋅ \n",
       "      ⋅    ⋅    ⋅     357.771   178.885   ⋅   -357.771  -178.885   ⋅ \n",
       "      ⋅    ⋅    ⋅        ⋅         ⋅      ⋅       ⋅         ⋅      ⋅ \n",
       "      ⋅    ⋅    ⋅    -715.542  -357.771   ⋅    715.542   357.771   ⋅ \n",
       "      ⋅    ⋅    ⋅    -357.771  -178.885   ⋅    357.771   178.885   ⋅ \n",
       "      ⋅    ⋅    ⋅        ⋅         ⋅      ⋅       ⋅         ⋅      ⋅ "
      ]
     },
     "metadata": {},
     "output_type": "display_data"
    },
    {
     "data": {
      "text/plain": []
     },
     "metadata": {},
     "output_type": "display_data"
    }
   ],
   "source": [
    "K = stiffnessMatrix(prob)"
   ]
  },
  {
   "cell_type": "code",
   "execution_count": 40,
   "id": "ca0a310c",
   "metadata": {},
   "outputs": [
    {
     "data": {
      "text/plain": [
       "(\"C\", 0, -1, 0)"
      ]
     },
     "metadata": {},
     "output_type": "display_data"
    }
   ],
   "source": [
    "supp0 = displacementConstraint(\"rod\", uz=0)\n",
    "suppA = displacementConstraint(\"A\", ux=0, uy=0)\n",
    "suppB = displacementConstraint(\"B\", ux=0, uy=0)\n",
    "force = load(\"C\", fy=-1)"
   ]
  },
  {
   "cell_type": "code",
   "execution_count": 41,
   "id": "6d970d62",
   "metadata": {},
   "outputs": [
    {
     "data": {
      "text/plain": [
       "VectorField"
      ]
     },
     "metadata": {},
     "output_type": "display_data"
    },
    {
     "data": {
      "text/plain": [
       "9×1 Matrix{Float64}:\n",
       "  0.0\n",
       "  0.0\n",
       "  0.0\n",
       "  0.0\n",
       " -1.0\n",
       "  0.0\n",
       "  0.0\n",
       "  0.0\n",
       "  0.0"
      ]
     },
     "metadata": {},
     "output_type": "display_data"
    },
    {
     "data": {
      "text/plain": []
     },
     "metadata": {},
     "output_type": "display_data"
    }
   ],
   "source": [
    "f = loadVector(prob, [force])"
   ]
  },
  {
   "cell_type": "code",
   "execution_count": 42,
   "id": "d6a18d74",
   "metadata": {},
   "outputs": [],
   "source": [
    "applyBoundaryConditions!(K, f, [supp0, suppA, suppB])"
   ]
  },
  {
   "cell_type": "code",
   "execution_count": 43,
   "id": "38e41647",
   "metadata": {},
   "outputs": [
    {
     "data": {
      "text/plain": [
       "9×9 SparseArrays.SparseMatrixCSC{Float64, Int64} with 11 stored entries:\n",
       " 1.0   ⋅    ⋅       ⋅        ⋅      ⋅    ⋅    ⋅    ⋅ \n",
       "  ⋅   1.0   ⋅       ⋅        ⋅      ⋅    ⋅    ⋅    ⋅ \n",
       "  ⋅    ⋅   1.0      ⋅        ⋅      ⋅    ⋅    ⋅    ⋅ \n",
       "  ⋅    ⋅    ⋅   1715.54   357.771   ⋅    ⋅    ⋅    ⋅ \n",
       "  ⋅    ⋅    ⋅    357.771  178.885   ⋅    ⋅    ⋅    ⋅ \n",
       "  ⋅    ⋅    ⋅       ⋅        ⋅     1.0   ⋅    ⋅    ⋅ \n",
       "  ⋅    ⋅    ⋅       ⋅        ⋅      ⋅   1.0   ⋅    ⋅ \n",
       "  ⋅    ⋅    ⋅       ⋅        ⋅      ⋅    ⋅   1.0   ⋅ \n",
       "  ⋅    ⋅    ⋅       ⋅        ⋅      ⋅    ⋅    ⋅   1.0"
      ]
     },
     "metadata": {},
     "output_type": "display_data"
    },
    {
     "data": {
      "text/plain": []
     },
     "metadata": {},
     "output_type": "display_data"
    }
   ],
   "source": [
    "K"
   ]
  },
  {
   "cell_type": "code",
   "execution_count": 44,
   "id": "7b247c28",
   "metadata": {},
   "outputs": [
    {
     "data": {
      "text/plain": [
       "VectorField"
      ]
     },
     "metadata": {},
     "output_type": "display_data"
    },
    {
     "data": {
      "text/plain": [
       "9×1 Matrix{Float64}:\n",
       "  0.0\n",
       "  0.0\n",
       "  0.0\n",
       "  0.0020000000000000005\n",
       " -0.009590169943749475\n",
       "  0.0\n",
       "  0.0\n",
       "  0.0\n",
       "  0.0"
      ]
     },
     "metadata": {},
     "output_type": "display_data"
    },
    {
     "data": {
      "text/plain": []
     },
     "metadata": {},
     "output_type": "display_data"
    }
   ],
   "source": [
    "q = K \\ f"
   ]
  },
  {
   "cell_type": "code",
   "execution_count": 45,
   "id": "9cfa79fc",
   "metadata": {},
   "outputs": [
    {
     "data": {
      "text/plain": [
       "9×1 Matrix{Float64}:\n",
       "  0.0\n",
       "  0.0\n",
       "  0.0\n",
       "  0.0020000000000000005\n",
       " -0.009590169943749475\n",
       "  0.0\n",
       "  0.0\n",
       "  0.0\n",
       "  0.0"
      ]
     },
     "metadata": {},
     "output_type": "display_data"
    }
   ],
   "source": [
    "q.a"
   ]
  },
  {
   "cell_type": "code",
   "execution_count": 46,
   "id": "1be1a8b2",
   "metadata": {},
   "outputs": [
    {
     "data": {
      "text/plain": [
       "VectorField"
      ]
     },
     "metadata": {},
     "output_type": "display_data"
    },
    {
     "data": {
      "text/plain": [
       "9×1 Matrix{Float64}:\n",
       "  0.0\n",
       "  0.0\n",
       "  0.0\n",
       "  0.0020000000000000005\n",
       " -0.009590169943749475\n",
       "  0.0\n",
       "  0.0\n",
       "  0.0\n",
       "  0.0"
      ]
     },
     "metadata": {},
     "output_type": "display_data"
    },
    {
     "data": {
      "text/plain": []
     },
     "metadata": {},
     "output_type": "display_data"
    }
   ],
   "source": [
    "q2 = solveDisplacement(prob, [force], [supp0, suppA, suppB])"
   ]
  },
  {
   "cell_type": "code",
   "execution_count": 47,
   "id": "afb53b13",
   "metadata": {},
   "outputs": [
    {
     "data": {
      "text/plain": [
       "0"
      ]
     },
     "metadata": {},
     "output_type": "display_data"
    }
   ],
   "source": [
    "showDoFResults(q, :uvec)"
   ]
  },
  {
   "cell_type": "code",
   "execution_count": 48,
   "id": "0d963000",
   "metadata": {},
   "outputs": [
    {
     "data": {
      "text/plain": [
       "1"
      ]
     },
     "metadata": {},
     "output_type": "display_data"
    }
   ],
   "source": [
    "showDoFResults(q2, :uvec)"
   ]
  },
  {
   "cell_type": "code",
   "execution_count": 49,
   "id": "2552a483",
   "metadata": {},
   "outputs": [
    {
     "data": {
      "text/plain": [
       "ScalarField"
      ]
     },
     "metadata": {},
     "output_type": "display_data"
    },
    {
     "data": {
      "text/plain": [
       "2-element Vector{Matrix{Float64}}:\n",
       " [-2.2360679774997894; -2.2360679774997894;;]\n",
       " [2.0000000000000004; 2.0000000000000004;;]"
      ]
     },
     "metadata": {},
     "output_type": "display_data"
    },
    {
     "data": {
      "text/plain": []
     },
     "metadata": {},
     "output_type": "display_data"
    }
   ],
   "source": [
    "N = solveAxialForce(q)"
   ]
  },
  {
   "cell_type": "code",
   "execution_count": 50,
   "id": "1a2e74f6",
   "metadata": {},
   "outputs": [
    {
     "data": {
      "text/plain": [
       "2"
      ]
     },
     "metadata": {},
     "output_type": "display_data"
    }
   ],
   "source": [
    "showElementResults(N, :scalar)"
   ]
  },
  {
   "cell_type": "code",
   "execution_count": 51,
   "id": "24c4dafc",
   "metadata": {},
   "outputs": [
    {
     "name": "stdout",
     "output_type": "stream",
     "text": [
      "Info    : Running Plugin(Smooth)...\n",
      "Info    : Done running Plugin(Smooth)\n"
     ]
    },
    {
     "data": {
      "text/plain": [
       "3"
      ]
     },
     "metadata": {},
     "output_type": "display_data"
    }
   ],
   "source": [
    "showElementResults(N, :scalar, smooth=true)"
   ]
  },
  {
   "cell_type": "code",
   "execution_count": 52,
   "id": "d241ff47",
   "metadata": {},
   "outputs": [
    {
     "data": {
      "text/plain": [
       "4"
      ]
     },
     "metadata": {},
     "output_type": "display_data"
    }
   ],
   "source": [
    "showDoFResults(N, :scalar)"
   ]
  },
  {
   "cell_type": "code",
   "execution_count": 53,
   "id": "501673d3",
   "metadata": {},
   "outputs": [
    {
     "data": {
      "text/plain": [
       "2-element Vector{Matrix{Float64}}:\n",
       " [-2.2360679774997894; -2.2360679774997894;;]\n",
       " [2.0000000000000004; 2.0000000000000004;;]"
      ]
     },
     "metadata": {},
     "output_type": "display_data"
    }
   ],
   "source": [
    "N.A"
   ]
  },
  {
   "cell_type": "code",
   "execution_count": 54,
   "id": "ad64d249",
   "metadata": {},
   "outputs": [
    {
     "data": {
      "text/plain": [
       "2-element Vector{Int64}:\n",
       " 4\n",
       " 5"
      ]
     },
     "metadata": {},
     "output_type": "display_data"
    }
   ],
   "source": [
    "N.numElem"
   ]
  },
  {
   "cell_type": "code",
   "execution_count": 55,
   "id": "08202f90",
   "metadata": {},
   "outputs": [
    {
     "data": {
      "text/plain": [
       "ScalarField"
      ]
     },
     "metadata": {},
     "output_type": "display_data"
    },
    {
     "data": {
      "text/plain": [
       "3×1 Matrix{Float64}:\n",
       "  2.0000000000000004\n",
       " -0.11803398874989446\n",
       " -2.2360679774997894"
      ]
     },
     "metadata": {},
     "output_type": "display_data"
    },
    {
     "data": {
      "text/plain": []
     },
     "metadata": {},
     "output_type": "display_data"
    }
   ],
   "source": [
    "N1 = elementsToNodes(N)"
   ]
  },
  {
   "cell_type": "code",
   "execution_count": 56,
   "id": "0316523d",
   "metadata": {},
   "outputs": [
    {
     "data": {
      "text/plain": [
       "3×1 Matrix{Float64}:\n",
       "  2.0000000000000004\n",
       " -0.11803398874989446\n",
       " -2.2360679774997894"
      ]
     },
     "metadata": {},
     "output_type": "display_data"
    }
   ],
   "source": [
    "N1.a"
   ]
  },
  {
   "cell_type": "code",
   "execution_count": 57,
   "id": "d71229db",
   "metadata": {},
   "outputs": [
    {
     "data": {
      "text/plain": [
       "5"
      ]
     },
     "metadata": {},
     "output_type": "display_data"
    }
   ],
   "source": [
    "showDoFResults(N1, :scalar)"
   ]
  },
  {
   "cell_type": "code",
   "execution_count": 58,
   "id": "9db6a0d3",
   "metadata": {},
   "outputs": [
    {
     "data": {
      "text/plain": [
       "9×9 SparseArrays.SparseMatrixCSC{Float64, Int64} with 19 stored entries:\n",
       "  1000.0   ⋅    ⋅   -1000.0        ⋅      ⋅       ⋅         ⋅      ⋅ \n",
       "      ⋅    ⋅    ⋅        ⋅         ⋅      ⋅       ⋅         ⋅      ⋅ \n",
       "      ⋅    ⋅    ⋅        ⋅         ⋅      ⋅       ⋅         ⋅      ⋅ \n",
       " -1000.0   ⋅    ⋅    1715.54    357.771   ⋅   -715.542  -357.771   ⋅ \n",
       "      ⋅    ⋅    ⋅     357.771   178.885   ⋅   -357.771  -178.885   ⋅ \n",
       "      ⋅    ⋅    ⋅        ⋅         ⋅      ⋅       ⋅         ⋅      ⋅ \n",
       "      ⋅    ⋅    ⋅    -715.542  -357.771   ⋅    715.542   357.771   ⋅ \n",
       "      ⋅    ⋅    ⋅    -357.771  -178.885   ⋅    357.771   178.885   ⋅ \n",
       "      ⋅    ⋅    ⋅        ⋅         ⋅      ⋅       ⋅         ⋅      ⋅ "
      ]
     },
     "metadata": {},
     "output_type": "display_data"
    },
    {
     "data": {
      "text/plain": []
     },
     "metadata": {},
     "output_type": "display_data"
    }
   ],
   "source": [
    "K = stiffnessMatrix(prob)"
   ]
  },
  {
   "cell_type": "code",
   "execution_count": 59,
   "id": "c6ab9073",
   "metadata": {},
   "outputs": [
    {
     "data": {
      "text/plain": [
       "9×9 SparseArrays.SparseMatrixCSC{Float64, Int64} with 5 stored entries:\n",
       " 7.85e-7   ⋅    ⋅    ⋅           ⋅           ⋅    ⋅           ⋅           ⋅ \n",
       "  ⋅        ⋅    ⋅    ⋅           ⋅           ⋅    ⋅           ⋅           ⋅ \n",
       "  ⋅        ⋅    ⋅    ⋅           ⋅           ⋅    ⋅           ⋅           ⋅ \n",
       "  ⋅        ⋅    ⋅   1.83819e-6   ⋅           ⋅    ⋅           ⋅           ⋅ \n",
       "  ⋅        ⋅    ⋅    ⋅          5.26594e-7   ⋅    ⋅           ⋅           ⋅ \n",
       "  ⋅        ⋅    ⋅    ⋅           ⋅           ⋅    ⋅           ⋅           ⋅ \n",
       "  ⋅        ⋅    ⋅    ⋅           ⋅           ⋅   1.05319e-6   ⋅           ⋅ \n",
       "  ⋅        ⋅    ⋅    ⋅           ⋅           ⋅    ⋅          5.26594e-7   ⋅ \n",
       "  ⋅        ⋅    ⋅    ⋅           ⋅           ⋅    ⋅           ⋅           ⋅ "
      ]
     },
     "metadata": {},
     "output_type": "display_data"
    },
    {
     "data": {
      "text/plain": []
     },
     "metadata": {},
     "output_type": "display_data"
    }
   ],
   "source": [
    "M = massMatrix(prob)"
   ]
  },
  {
   "cell_type": "code",
   "execution_count": 60,
   "id": "bfce93ca",
   "metadata": {},
   "outputs": [
    {
     "data": {
      "text/plain": [
       "VectorField"
      ]
     },
     "metadata": {},
     "output_type": "display_data"
    },
    {
     "data": {
      "text/plain": [
       "9×1 Matrix{Float64}:\n",
       "  0.0\n",
       "  0.0\n",
       "  0.0\n",
       "  0.0\n",
       " -1.0\n",
       "  0.0\n",
       "  0.0\n",
       "  0.0\n",
       "  0.0"
      ]
     },
     "metadata": {},
     "output_type": "display_data"
    },
    {
     "data": {
      "text/plain": []
     },
     "metadata": {},
     "output_type": "display_data"
    }
   ],
   "source": [
    "f = loadVector(prob, [force])"
   ]
  },
  {
   "cell_type": "code",
   "execution_count": 61,
   "id": "cdb4b5b5",
   "metadata": {},
   "outputs": [],
   "source": [
    "applyBoundaryConditions!(K, M, f, [supp0, suppA, suppB])"
   ]
  },
  {
   "cell_type": "code",
   "execution_count": 62,
   "id": "4905a1a8",
   "metadata": {},
   "outputs": [
    {
     "data": {
      "text/plain": [
       "0.00048604587786191223"
      ]
     },
     "metadata": {},
     "output_type": "display_data"
    }
   ],
   "source": [
    "dt = largestPeriodTime(K, M)"
   ]
  },
  {
   "cell_type": "code",
   "execution_count": 63,
   "id": "050078c0",
   "metadata": {},
   "outputs": [
    {
     "data": {
      "text/plain": [
       "VectorField"
      ]
     },
     "metadata": {},
     "output_type": "display_data"
    },
    {
     "data": {
      "text/plain": [
       "9×1 Matrix{Float64}:\n",
       " 0.0\n",
       " 0.0\n",
       " 0.0\n",
       " 0.0\n",
       " 0.0\n",
       " 0.0\n",
       " 0.0\n",
       " 0.0\n",
       " 0.0"
      ]
     },
     "metadata": {},
     "output_type": "display_data"
    },
    {
     "data": {
      "text/plain": []
     },
     "metadata": {},
     "output_type": "display_data"
    }
   ],
   "source": [
    "u0 = initialDisplacement(prob, \"rod\")"
   ]
  },
  {
   "cell_type": "code",
   "execution_count": 64,
   "id": "ae98d982",
   "metadata": {},
   "outputs": [
    {
     "data": {
      "text/plain": [
       "VectorField"
      ]
     },
     "metadata": {},
     "output_type": "display_data"
    },
    {
     "data": {
      "text/plain": [
       "9×1 Matrix{Float64}:\n",
       " 0.0\n",
       " 0.0\n",
       " 0.0\n",
       " 0.0\n",
       " 0.0\n",
       " 0.0\n",
       " 0.0\n",
       " 0.0\n",
       " 0.0"
      ]
     },
     "metadata": {},
     "output_type": "display_data"
    },
    {
     "data": {
      "text/plain": []
     },
     "metadata": {},
     "output_type": "display_data"
    }
   ],
   "source": [
    "v0 = initialVelocity(prob, \"rod\")"
   ]
  },
  {
   "cell_type": "code",
   "execution_count": 65,
   "id": "d88c7a5c",
   "metadata": {},
   "outputs": [
    {
     "data": {
      "text/plain": [
       "VectorField"
      ]
     },
     "metadata": {},
     "output_type": "display_data"
    },
    {
     "data": {
      "text/plain": [
       "9×50 Matrix{Float64}:\n",
       " 0.0   0.0           0.0           0.0         …   0.0          0.0\n",
       " 0.0   0.0           0.0           0.0             0.0          0.0\n",
       " 0.0   0.0           0.0           0.0             0.0          0.0\n",
       " 0.0   0.000141963   0.000860341   0.00238466      0.00310784   0.00174763\n",
       " 0.0  -0.00191572   -0.0066699    -0.0121219      -0.0152395   -0.00997707\n",
       " 0.0   0.0           0.0           0.0         …   0.0          0.0\n",
       " 0.0   0.0           0.0           0.0             0.0          0.0\n",
       " 0.0   0.0           0.0           0.0             0.0          0.0\n",
       " 0.0   0.0           0.0           0.0             0.0          0.0"
      ]
     },
     "metadata": {},
     "output_type": "display_data"
    },
    {
     "data": {
      "text/plain": [
       "VectorField"
      ]
     },
     "metadata": {},
     "output_type": "display_data"
    },
    {
     "data": {
      "text/plain": [
       "9×50 Matrix{Float64}:\n",
       " 0.0    0.0         0.0        0.0     …    0.0       0.0       0.0\n",
       " 0.0    0.0         0.0        0.0          0.0       0.0       0.0\n",
       " 0.0    0.0         0.0        0.0          0.0       0.0       0.0\n",
       " 0.0    5.84153    23.7186    39.0046     -20.4516  -32.5597  -23.4109\n",
       " 0.0  -78.8286   -116.799   -107.541       30.6957   90.4171  126.125\n",
       " 0.0    0.0         0.0        0.0     …    0.0       0.0       0.0\n",
       " 0.0    0.0         0.0        0.0          0.0       0.0       0.0\n",
       " 0.0    0.0         0.0        0.0          0.0       0.0       0.0\n",
       " 0.0    0.0         0.0        0.0          0.0       0.0       0.0"
      ]
     },
     "metadata": {},
     "output_type": "display_data"
    },
    {
     "data": {
      "text/plain": [
       "(, )"
      ]
     },
     "metadata": {},
     "output_type": "display_data"
    }
   ],
   "source": [
    "u, v = HHT(K, M, f, u0, v0, 5dt, dt / 10)"
   ]
  },
  {
   "cell_type": "code",
   "execution_count": 66,
   "id": "9aec58c7",
   "metadata": {},
   "outputs": [
    {
     "data": {
      "text/plain": [
       "6"
      ]
     },
     "metadata": {},
     "output_type": "display_data"
    }
   ],
   "source": [
    "showDoFResults(u, :uvec)"
   ]
  },
  {
   "cell_type": "code",
   "execution_count": 67,
   "id": "dba492fa",
   "metadata": {},
   "outputs": [
    {
     "data": {
      "text/plain": [
       "LowLevelFEM.Eigen([2057.4181095857193, 5292.639058387366], [0.0 0.0; 0.0 0.0; … ; 0.0 0.0; 0.0 0.0], Problem(\"truss\", :Truss, 3, 3, LowLevelFEM.Material[LowLevelFEM.Material(\"rod\", :Hooke, 200000.0, 0.3, 7.85e-9, 45.0, 4.2e8, 1.2e-5, 115384.61538461536, 76923.07692307692, 166666.66666666666, 1.0)], 1.0, 3))"
      ]
     },
     "metadata": {},
     "output_type": "display_data"
    }
   ],
   "source": [
    "mod = solveModalAnalysis(prob, constraints=[supp0, suppA, suppB], n=2, directSolver=true)"
   ]
  },
  {
   "cell_type": "code",
   "execution_count": 69,
   "id": "518186ca",
   "metadata": {},
   "outputs": [
    {
     "data": {
      "text/plain": [
       "7"
      ]
     },
     "metadata": {},
     "output_type": "display_data"
    }
   ],
   "source": [
    "showModalResults(mod)"
   ]
  },
  {
   "cell_type": "code",
   "execution_count": 70,
   "id": "61f87afd",
   "metadata": {},
   "outputs": [
    {
     "name": "stdout",
     "output_type": "stream",
     "text": [
      "-------------------------------------------------------\n",
      "Version       : 4.13.1\n",
      "License       : GNU General Public License\n",
      "Build OS      : Linux64-sdk\n",
      "Build date    : 19700101\n",
      "Build host    : amdci7.julia.csail.mit.edu\n",
      "Build options : 64Bit ALGLIB[contrib] ANN[contrib] Bamg Blossom Cairo DIntegration Dlopen DomHex Eigen[contrib] Fltk GMP Gmm[contrib] Hxt Jpeg Kbipack LinuxJoystick MathEx[contrib] Mesh Metis[contrib] Mmg Mpeg Netgen Nii2mesh ONELAB ONELABMetamodel OpenCASCADE OpenCASCADE-CAF OpenGL OpenMP OptHom Parser Plugins Png Post QuadMeshingTools QuadTri Solver TetGen/BR TinyXML2[contrib] Untangle Voro++[contrib] WinslowUntangler Zlib\n",
      "FLTK version  : 1.3.8\n",
      "OCC version   : 7.7.2\n",
      "Packaged by   : root\n",
      "Web site      : https://gmsh.info\n",
      "Issue tracker : https://gitlab.onelab.info/gmsh/gmsh/issues\n",
      "-------------------------------------------------------\n"
     ]
    },
    {
     "name": "stderr",
     "output_type": "stream",
     "text": [
      "XRequest.18: BadValue 0x0\n"
     ]
    }
   ],
   "source": [
    "openPostProcessor()"
   ]
  },
  {
   "cell_type": "code",
   "execution_count": 71,
   "id": "5749127a",
   "metadata": {},
   "outputs": [],
   "source": [
    "gmsh.finalize()"
   ]
  }
 ],
 "metadata": {
  "kernelspec": {
   "display_name": "Julia 1.11.7",
   "language": "julia",
   "name": "julia-1.11"
  },
  "language_info": {
   "file_extension": ".jl",
   "mimetype": "application/julia",
   "name": "julia",
   "version": "1.11.7"
  }
 },
 "nbformat": 4,
 "nbformat_minor": 5
}
