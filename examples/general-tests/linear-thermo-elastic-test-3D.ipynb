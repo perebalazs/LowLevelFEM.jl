{
 "cells": [
  {
   "cell_type": "code",
   "execution_count": 1,
   "id": "e95346f2",
   "metadata": {},
   "outputs": [
    {
     "name": "stdout",
     "output_type": "stream",
     "text": [
      "Info    : Increasing process stack size (8192 kB < 16 MB)\n"
     ]
    }
   ],
   "source": [
    "using LowLevelFEM\n",
    "import LowLevelFEM as FEM\n",
    "gmsh.initialize()"
   ]
  },
  {
   "cell_type": "code",
   "execution_count": 2,
   "id": "c376ef73",
   "metadata": {},
   "outputs": [
    {
     "name": "stdout",
     "output_type": "stream",
     "text": [
      "Info    : Reading 'body2.geo'...\n",
      "Info    : Meshing 1D...\n",
      "Info    : [  0%] Meshing curve 1 (Line)\n",
      "Info    : [ 10%] Meshing curve 2 (Line)\n",
      "Info    : [ 20%] Meshing curve 3 (Line)\n",
      "Info    : [ 30%] Meshing curve 4 (Line)\n",
      "Info    : [ 40%] Meshing curve 5 (Line)\n",
      "Info    : [ 50%] Meshing curve 6 (Line)\n",
      "Info    : [ 60%] Meshing curve 7 (Line)\n",
      "Info    : [ 60%] Meshing curve 8 (Line)\n",
      "Info    : [ 70%] Meshing curve 9 (Line)\n",
      "Info    : [ 80%] Meshing curve 10 (Line)\n",
      "Info    : [ 90%] Meshing curve 11 (Line)\n",
      "Info    : [100%] Meshing curve 12 (Line)\n",
      "Info    : Done meshing 1D (Wall 0.000995506s, CPU 0.000997s)\n",
      "Info    : Meshing 2D...\n",
      "Info    : [  0%] Meshing surface 1 (Transfinite)\n",
      "Info    : [ 20%] Meshing surface 2 (Transfinite)\n",
      "Info    : [ 40%] Meshing surface 3 (Transfinite)\n",
      "Info    : [ 60%] Meshing surface 4 (Transfinite)\n",
      "Info    : [ 70%] Meshing surface 5 (Transfinite)\n",
      "Info    : [ 90%] Meshing surface 6 (Transfinite)\n",
      "Info    : Done meshing 2D (Wall 0.000378054s, CPU 0.000366s)\n",
      "Info    : Meshing 3D...\n",
      "Info    : Meshing volume 1 (Transfinite)\n",
      "Info    : Done meshing 3D (Wall 0.00145207s, CPU 0.001451s)\n",
      "Info    : Optimizing mesh...\n",
      "Info    : Done optimizing mesh (Wall 1.4182e-05s, CPU 1.5e-05s)\n",
      "Info    : Meshing order 2 (curvilinear on)...\n",
      "Info    : [  0%] Meshing curve 1 order 2\n",
      "Info    : [ 10%] Meshing curve 2 order 2\n",
      "Info    : [ 20%] Meshing curve 3 order 2\n",
      "Info    : [ 20%] Meshing curve 4 order 2\n",
      "Info    : [ 30%] Meshing curve 5 order 2\n",
      "Info    : [ 30%] Meshing curve 6 order 2\n",
      "Info    : [ 40%] Meshing curve 7 order 2\n",
      "Info    : [ 40%] Meshing curve 8 order 2\n",
      "Info    : [ 50%] Meshing curve 9 order 2\n",
      "Info    : [ 50%] Meshing curve 10 order 2\n",
      "Info    : [ 60%] Meshing curve 11 order 2\n",
      "Info    : [ 60%] Meshing curve 12 order 2\n",
      "Info    : [ 70%] Meshing surface 1 order 2\n",
      "Info    : [ 70%] Meshing surface 2 order 2\n",
      "Info    : [ 80%] Meshing surface 3 order 2\n",
      "Info    : [ 80%] Meshing surface 4 order 2\n",
      "Info    : [ 90%] Meshing surface 5 order 2\n",
      "Info    : [ 90%] Meshing surface 6 order 2\n",
      "Info    : [100%] Meshing volume 1 order 2\n",
      "Info    : Done meshing order 2 (Wall 0.00755364s, CPU 0.007552s)\n",
      "Info    : 3321 nodes 792 elements\n",
      "Info    : Done reading 'body2.geo'\n"
     ]
    }
   ],
   "source": [
    "gmsh.open(\"body2.geo\")"
   ]
  },
  {
   "cell_type": "code",
   "execution_count": 3,
   "id": "17d16e97",
   "metadata": {},
   "outputs": [
    {
     "name": "stdout",
     "output_type": "stream",
     "text": [
      "Info    : RCMK renumbering...\n",
      "Info    : Done RCMK renumbering (bandwidth is now 386)\n"
     ]
    },
    {
     "data": {
      "text/plain": [
       "LowLevelFEM.Problem(\"body2\", :Solid, 3, 3, LowLevelFEM.Material[LowLevelFEM.Material(\"body\", :Hooke, 200000.0, 0.3, 7.85e-9, 45.0, 4.2e8, 1.2e-5, 115384.61538461536, 76923.07692307692, 166666.66666666666)], 1.0, 3321)"
      ]
     },
     "metadata": {},
     "output_type": "display_data"
    }
   ],
   "source": [
    "mat = FEM.material(\"body\")\n",
    "problem = FEM.Problem([mat])"
   ]
  },
  {
   "cell_type": "code",
   "execution_count": 4,
   "id": "cb740efb",
   "metadata": {},
   "outputs": [
    {
     "data": {
      "text/plain": [
       "(\"right\", 1, 0, 0)"
      ]
     },
     "metadata": {},
     "output_type": "display_data"
    }
   ],
   "source": [
    "supp = FEM.displacementConstraint(\"left\", ux=0, uy=0, uz=0)\n",
    "load = FEM.load(\"right\", fx=1)"
   ]
  },
  {
   "cell_type": "code",
   "execution_count": 5,
   "id": "93379cdd",
   "metadata": {},
   "outputs": [
    {
     "data": {
      "text/plain": [
       "LowLevelFEM.VectorField(Matrix{Float64}[], [0.0; 0.0; … ; 0.0; 0.0;;], Float64[], Int64[], 1, :f3D, LowLevelFEM.Problem(\"body2\", :Solid, 3, 3, LowLevelFEM.Material[LowLevelFEM.Material(\"body\", :Hooke, 200000.0, 0.3, 7.85e-9, 45.0, 4.2e8, 1.2e-5, 115384.61538461536, 76923.07692307692, 166666.66666666666)], 1.0, 3321))"
      ]
     },
     "metadata": {},
     "output_type": "display_data"
    }
   ],
   "source": [
    "K = FEM.stiffnessMatrix(problem)\n",
    "f = FEM.loadVector(problem, [load])"
   ]
  },
  {
   "cell_type": "code",
   "execution_count": 6,
   "id": "cc13a09e",
   "metadata": {},
   "outputs": [],
   "source": [
    "FEM.applyBoundaryConditions!(K, f, [supp])"
   ]
  },
  {
   "cell_type": "code",
   "execution_count": 7,
   "id": "85a20107",
   "metadata": {},
   "outputs": [
    {
     "data": {
      "text/plain": [
       "LowLevelFEM.VectorField(Matrix{Float64}[], [0.0; 0.0; … ; -5.625000002573318e-7; -5.62499999941428e-7;;], [0.0], Int64[], 1, :u3D, LowLevelFEM.Problem(\"body2\", :Solid, 3, 3, LowLevelFEM.Material[LowLevelFEM.Material(\"body\", :Hooke, 200000.0, 0.3, 7.85e-9, 45.0, 4.2e8, 1.2e-5, 115384.61538461536, 76923.07692307692, 166666.66666666666)], 1.0, 3321))"
      ]
     },
     "metadata": {},
     "output_type": "display_data"
    }
   ],
   "source": [
    "q1 = FEM.solveDisplacement(K, f)"
   ]
  },
  {
   "cell_type": "code",
   "execution_count": 8,
   "id": "7d844bc4",
   "metadata": {},
   "outputs": [
    {
     "data": {
      "text/plain": [
       "1"
      ]
     },
     "metadata": {},
     "output_type": "display_data"
    }
   ],
   "source": [
    "FEM.showDoFResults(q1, :uvec, visible=true)"
   ]
  },
  {
   "cell_type": "code",
   "execution_count": 9,
   "id": "868a2db1",
   "metadata": {},
   "outputs": [
    {
     "data": {
      "text/plain": [
       "LowLevelFEM.VectorField(Matrix{Float64}[], [0.0; 0.0; … ; -5.625000002573318e-7; -5.62499999941428e-7;;], [0.0], Int64[], 1, :u3D, LowLevelFEM.Problem(\"body2\", :Solid, 3, 3, LowLevelFEM.Material[LowLevelFEM.Material(\"body\", :Hooke, 200000.0, 0.3, 7.85e-9, 45.0, 4.2e8, 1.2e-5, 115384.61538461536, 76923.07692307692, 166666.66666666666)], 1.0, 3321))"
      ]
     },
     "metadata": {},
     "output_type": "display_data"
    }
   ],
   "source": [
    "q2 = FEM.solveDisplacement(problem, [load], [supp])"
   ]
  },
  {
   "cell_type": "code",
   "execution_count": 10,
   "id": "44b8eba1",
   "metadata": {},
   "outputs": [
    {
     "data": {
      "text/plain": [
       "2"
      ]
     },
     "metadata": {},
     "output_type": "display_data"
    }
   ],
   "source": [
    "FEM.showDoFResults(q2, :uvec)"
   ]
  },
  {
   "cell_type": "code",
   "execution_count": 11,
   "id": "f73f1bf4",
   "metadata": {},
   "outputs": [
    {
     "data": {
      "text/plain": [
       "(\"left\", 1.0e6, 1.0e6, 1.0e6)"
      ]
     },
     "metadata": {},
     "output_type": "display_data"
    }
   ],
   "source": [
    "elsupp = FEM.elasticSupport(\"left\", kx=1e6, ky=1e6, kz=1e6)"
   ]
  },
  {
   "cell_type": "code",
   "execution_count": 12,
   "id": "bc86a194",
   "metadata": {},
   "outputs": [
    {
     "data": {
      "text/plain": [
       "LowLevelFEM.VectorField(Matrix{Float64}[], [1.2879297653428623e-6; 2.5783858700890014e-7; … ; -5.625000002021613e-7; -5.624999998816027e-7;;], [0.0], Int64[], 1, :u3D, LowLevelFEM.Problem(\"body2\", :Solid, 3, 3, LowLevelFEM.Material[LowLevelFEM.Material(\"body\", :Hooke, 200000.0, 0.3, 7.85e-9, 45.0, 4.2e8, 1.2e-5, 115384.61538461536, 76923.07692307692, 166666.66666666666)], 1.0, 3321))"
      ]
     },
     "metadata": {},
     "output_type": "display_data"
    }
   ],
   "source": [
    "q4 = FEM.solveDisplacement(problem, [load], [], [elsupp])"
   ]
  },
  {
   "cell_type": "code",
   "execution_count": 13,
   "id": "893d44b2",
   "metadata": {},
   "outputs": [
    {
     "data": {
      "text/plain": [
       "3"
      ]
     },
     "metadata": {},
     "output_type": "display_data"
    }
   ],
   "source": [
    "FEM.showDoFResults(q4, :uvec)"
   ]
  },
  {
   "cell_type": "code",
   "execution_count": 14,
   "id": "0970c354",
   "metadata": {},
   "outputs": [
    {
     "data": {
      "text/plain": [
       "5.0"
      ]
     },
     "metadata": {},
     "output_type": "display_data"
    }
   ],
   "source": [
    "q3 = copy(q2)\n",
    "q3.a[1] = 5\n",
    "q2.a[1] = 3\n",
    "q3.a[1]"
   ]
  },
  {
   "cell_type": "code",
   "execution_count": 15,
   "id": "406e6594",
   "metadata": {},
   "outputs": [
    {
     "data": {
      "text/plain": [
       "LowLevelFEM.VectorField(Matrix{Float64}[], [1.5; 0.0; … ; -2.812500001286659e-7; -2.81249999970714e-7;;], [0.0], Int64[], 1, :u3D, LowLevelFEM.Problem(\"body2\", :Solid, 3, 3, LowLevelFEM.Material[LowLevelFEM.Material(\"body\", :Hooke, 200000.0, 0.3, 7.85e-9, 45.0, 4.2e8, 1.2e-5, 115384.61538461536, 76923.07692307692, 166666.66666666666)], 1.0, 3321))"
      ]
     },
     "metadata": {},
     "output_type": "display_data"
    }
   ],
   "source": [
    "q2 + q3\n",
    "q2 - q3\n",
    "q2 * 2\n",
    "2 * q2\n",
    "q2 / 2"
   ]
  },
  {
   "cell_type": "code",
   "execution_count": 16,
   "id": "09382e6e",
   "metadata": {},
   "outputs": [
    {
     "data": {
      "text/plain": [
       "LowLevelFEM.TensorField([[3.744624715586172e-6; 6.925659132011806e-7; … ; 3.092028644482919e-8; -1.429910632113782e-6;;], [5.1330266435197945e-6; -2.2959387971417966e-7; … ; 5.048154799986338e-9; -1.4776574859702465e-6;;], [5.025810444459454e-6; -3.420860901532264e-8; … ; 3.72962787539204e-11; -1.4982402288169446e-6;;], [5.002034292656257e-6; -1.7036842626794671e-9; … ; -5.022022402933986e-11; -1.4999719035390067e-6;;], [5.000123437131975e-6; 7.788195083336828e-11; … ; -4.611636374262558e-12; -1.500010374627787e-6;;], [5.000015029527427e-6; 1.0463250334602194e-11; … ; 9.244028796713599e-14; -1.5000013391438625e-6;;], [5.000003209319867e-6; -1.7946006890278733e-12; … ; 5.2978301914716924e-14; -1.5000000742926244e-6;;], [5.000000591887988e-6; -6.042410859790032e-13; … ; 4.185576886440393e-15; -1.5000000007641923e-6;;], [5.000000089428261e-6; -9.528265407444036e-14; … ; -7.431718848443462e-17; -1.499999999872542e-6;;], [5.000000012001399e-6; -1.1812989144819805e-14; … ; -4.7991616242007776e-17; -1.4999999999889077e-6;;]  …  [4.9999999996612e-6; -1.1655296173996525e-15; … ; -5.712178438046188e-18; -1.4999999999967203e-6;;], [4.999999999936072e-6; -1.5458901858806696e-16; … ; -5.33789307786101e-19; -1.4999999999993173e-6;;], [4.999999999990201e-6; -2.207325508897344e-17; … ; -8.491505296161843e-20; -1.4999999999999846e-6;;], [4.999999999998983e-6; -3.512222115789956e-18; … ; -1.4227171959351827e-20; -1.5000000000000403e-6;;], [5.000000000000013e-6; -6.577210835429642e-19; … ; 1.4637921950454153e-20; -1.499999999999999e-6;;], [4.999999999999688e-6; -8.470329472543003e-21; … ; -1.291725244562808e-20; -1.4999999999999376e-6;;], [4.999999999999363e-6; 1.376428539288238e-19; … ; -3.5998900258307764e-21; -1.4999999999999551e-6;;], [4.999999999999308e-6; 1.8211208365967457e-19; … ; -1.1434944787933055e-20; -1.4999999999999763e-6;;], [4.999999999999471e-6; 3.316133988500586e-19; … ; 4.870439446712227e-21; -1.4999999999999566e-6;;], [5.000000000000013e-6; -3.015437292225309e-19; … ; -1.2705494208814505e-21; -1.5000000000000545e-6;;]], Matrix{Float64}(undef, 0, 0), [0.0], [473, 474, 475, 476, 477, 478, 479, 480, 481, 482  …  783, 784, 785, 786, 787, 788, 789, 790, 791, 792], 1, :e, LowLevelFEM.Problem(\"body2\", :Solid, 3, 3, LowLevelFEM.Material[LowLevelFEM.Material(\"body\", :Hooke, 200000.0, 0.3, 7.85e-9, 45.0, 4.2e8, 1.2e-5, 115384.61538461536, 76923.07692307692, 166666.66666666666)], 1.0, 3321))"
      ]
     },
     "metadata": {},
     "output_type": "display_data"
    }
   ],
   "source": [
    "A1 = FEM.solveStrain(q1)"
   ]
  },
  {
   "cell_type": "code",
   "execution_count": 17,
   "id": "81dd947c",
   "metadata": {},
   "outputs": [
    {
     "data": {
      "text/plain": [
       "LowLevelFEM.TensorField(Matrix{Float64}[], [6.204514322733398e-6; 1.7455082702629925e-6; … ; -1.2705494208814505e-21; -1.5000000000000545e-6;;], [0.0], Int64[], 1, :e, LowLevelFEM.Problem(\"body2\", :Solid, 3, 3, LowLevelFEM.Material[LowLevelFEM.Material(\"body\", :Hooke, 200000.0, 0.3, 7.85e-9, 45.0, 4.2e8, 1.2e-5, 115384.61538461536, 76923.07692307692, 166666.66666666666)], 1.0, 3321))"
      ]
     },
     "metadata": {},
     "output_type": "display_data"
    }
   ],
   "source": [
    "A2 = FEM.solveStrain(q1, DoFResults=true)"
   ]
  },
  {
   "cell_type": "code",
   "execution_count": 18,
   "id": "a093e10e",
   "metadata": {},
   "outputs": [
    {
     "name": "stdout",
     "output_type": "stream",
     "text": [
      "Info    : Running Plugin(Smooth)...\n",
      "Info    : Done running Plugin(Smooth)\n"
     ]
    },
    {
     "data": {
      "text/plain": [
       "4"
      ]
     },
     "metadata": {},
     "output_type": "display_data"
    }
   ],
   "source": [
    "FEM.showStrainResults(A1, :e)"
   ]
  },
  {
   "cell_type": "code",
   "execution_count": 19,
   "id": "60dd8401",
   "metadata": {},
   "outputs": [
    {
     "data": {
      "text/plain": [
       "5"
      ]
     },
     "metadata": {},
     "output_type": "display_data"
    }
   ],
   "source": [
    "FEM.showDoFResults(A2, :e)"
   ]
  },
  {
   "cell_type": "code",
   "execution_count": 20,
   "id": "bfccc448",
   "metadata": {},
   "outputs": [
    {
     "data": {
      "text/plain": [
       "LowLevelFEM.TensorField(Matrix{Float64}[], [6.204514322733398e-6; 1.7455082702629925e-6; … ; -1.2705494208814505e-21; -1.5000000000000545e-6;;], [0.0], Int64[], 1, :e, LowLevelFEM.Problem(\"body2\", :Solid, 3, 3, LowLevelFEM.Material[LowLevelFEM.Material(\"body\", :Hooke, 200000.0, 0.3, 7.85e-9, 45.0, 4.2e8, 1.2e-5, 115384.61538461536, 76923.07692307692, 166666.66666666666)], 1.0, 3321))"
      ]
     },
     "metadata": {},
     "output_type": "display_data"
    }
   ],
   "source": [
    "A3 = FEM.elementsToNodes(A1)"
   ]
  },
  {
   "cell_type": "code",
   "execution_count": 21,
   "id": "27dff127",
   "metadata": {},
   "outputs": [
    {
     "data": {
      "text/plain": [
       "6"
      ]
     },
     "metadata": {},
     "output_type": "display_data"
    }
   ],
   "source": [
    "FEM.showDoFResults(A3, :e)"
   ]
  },
  {
   "cell_type": "code",
   "execution_count": 22,
   "id": "739d00d8",
   "metadata": {},
   "outputs": [
    {
     "data": {
      "text/plain": [
       "LowLevelFEM.TensorField([[1.0081681926578157; 0.10654860203095086; … ; 0.004756967145358337; 0.0023888308595448604;;], [0.994000623528123; -0.035322135340643025; … ; 0.0007766391999978981; -0.005564414934470574;;], [0.9985925495589367; -0.005262862925434252; … ; 5.737889039064676e-6; -0.0007170019848765363;;], [0.9995717950658336; -0.00026210527118145647; … ; -7.726188312206132e-6; -1.15719085385102e-5;;], [0.9999269224092375; 1.1981838589748966e-5; … ; -7.094825191173167e-7; 5.791438610819322e-6;;], [0.9999914202398731; 1.6097308207080298e-6; … ; 1.4221582764174767e-8; 6.213018441114659e-7;;], [0.9999991610817627; -2.7609241369659587e-7; … ; 8.150507986879527e-9; 5.573432548811041e-10;;], [0.999999916140612; -9.29601670736928e-8; … ; 6.439349056062143e-10; -6.238944638692345e-9;;], [0.9999999899173276; -1.4658869857606208e-8; … ; -1.1433413612989942e-11; -6.736747271141041e-10;;], [0.9999999985860489; -1.817382945356893e-9; … ; -7.383325575693505e-12; -1.1882328454504432e-11;;]  …  [1.000000000730902; -1.7931224883071575e-10; … ; -8.787966827763366e-13; 5.969030825170307e-12;;], [1.000000000096633; -2.3782925936625687e-11; … ; -8.212143196709246e-14; 1.052963272130114e-12;;], [1.0000000000133606; -3.395885398303606e-12; … ; -1.306385430178745e-14; 1.2187473252822656e-13;;], [1.000000000001922; -5.403418639676855e-13; … ; -2.188795686054127e-15; 1.0297318553398327e-14;;], [1.0000000000003035; -1.0118785900660988e-13; … ; 2.2519879923775618e-15; -4.718447854656915e-16;;], [0.9999999999999623; -1.303127611160462e-15; … ; -1.9872696070197045e-15; 1.3877787807814457e-15;;], [0.999999999999817; 2.117582368135751e-14; … ; -5.538292347431964e-16; -3.247402347028583e-15;;], [0.9999999999998307; 2.8017243639949934e-14; … ; -1.7592222750666238e-15; -3.635980405647388e-15;;], [0.9999999999998417; 5.101744597693209e-14; … ; 7.492983764172657e-16; -5.828670879282072e-16;;], [0.999999999999991; -4.639134295731245e-14; … ; -1.954691416740693e-16; -3.83026943495679e-15;;]], Matrix{Float64}(undef, 0, 0), [0.0], [473, 474, 475, 476, 477, 478, 479, 480, 481, 482  …  783, 784, 785, 786, 787, 788, 789, 790, 791, 792], 1, :s, LowLevelFEM.Problem(\"body2\", :Solid, 3, 3, LowLevelFEM.Material[LowLevelFEM.Material(\"body\", :Hooke, 200000.0, 0.3, 7.85e-9, 45.0, 4.2e8, 1.2e-5, 115384.61538461536, 76923.07692307692, 166666.66666666666)], 1.0, 3321))"
      ]
     },
     "metadata": {},
     "output_type": "display_data"
    }
   ],
   "source": [
    "S1 = FEM.solveStress(q1)"
   ]
  },
  {
   "cell_type": "code",
   "execution_count": 23,
   "id": "45fe3f5f",
   "metadata": {},
   "outputs": [
    {
     "data": {
      "text/plain": [
       "LowLevelFEM.TensorField(Matrix{Float64}[], [1.670446163812838; 0.26853973388661423; … ; -1.954691416740693e-16; -3.83026943495679e-15;;], [0.0], Int64[], 1, :s, LowLevelFEM.Problem(\"body2\", :Solid, 3, 3, LowLevelFEM.Material[LowLevelFEM.Material(\"body\", :Hooke, 200000.0, 0.3, 7.85e-9, 45.0, 4.2e8, 1.2e-5, 115384.61538461536, 76923.07692307692, 166666.66666666666)], 1.0, 3321))"
      ]
     },
     "metadata": {},
     "output_type": "display_data"
    }
   ],
   "source": [
    "S2 = FEM.solveStress(q1, DoFResults=true)"
   ]
  },
  {
   "cell_type": "code",
   "execution_count": 24,
   "id": "c9bdfc99",
   "metadata": {},
   "outputs": [
    {
     "name": "stdout",
     "output_type": "stream",
     "text": [
      "Info    : Running Plugin(Smooth)...\n",
      "Info    : Done running Plugin(Smooth)\n"
     ]
    },
    {
     "data": {
      "text/plain": [
       "7"
      ]
     },
     "metadata": {},
     "output_type": "display_data"
    }
   ],
   "source": [
    "FEM.showStressResults(S1, :s)"
   ]
  },
  {
   "cell_type": "code",
   "execution_count": 25,
   "id": "be62d671",
   "metadata": {},
   "outputs": [
    {
     "data": {
      "text/plain": [
       "8"
      ]
     },
     "metadata": {},
     "output_type": "display_data"
    }
   ],
   "source": [
    "FEM.showDoFResults(S2, :s)"
   ]
  },
  {
   "cell_type": "code",
   "execution_count": 26,
   "id": "1e24a75e",
   "metadata": {},
   "outputs": [
    {
     "data": {
      "text/plain": [
       "LowLevelFEM.TensorField(Matrix{Float64}[], [1.670446163812838; 0.26853973388661423; … ; -1.954691416740693e-16; -3.83026943495679e-15;;], [0.0], Int64[], 1, :s, LowLevelFEM.Problem(\"body2\", :Solid, 3, 3, LowLevelFEM.Material[LowLevelFEM.Material(\"body\", :Hooke, 200000.0, 0.3, 7.85e-9, 45.0, 4.2e8, 1.2e-5, 115384.61538461536, 76923.07692307692, 166666.66666666666)], 1.0, 3321))"
      ]
     },
     "metadata": {},
     "output_type": "display_data"
    }
   ],
   "source": [
    "S3 = FEM.elementsToNodes(S1)"
   ]
  },
  {
   "cell_type": "code",
   "execution_count": 27,
   "id": "7c44010a",
   "metadata": {},
   "outputs": [
    {
     "data": {
      "text/plain": [
       "9"
      ]
     },
     "metadata": {},
     "output_type": "display_data"
    }
   ],
   "source": [
    "FEM.showDoFResults(S3, :s)"
   ]
  },
  {
   "cell_type": "code",
   "execution_count": 28,
   "id": "a0686542",
   "metadata": {},
   "outputs": [
    {
     "name": "stdout",
     "output_type": "stream",
     "text": [
      "Info    : RCMK renumbering...\n",
      "Info    : Done RCMK renumbering (bandwidth is now 386)\n",
      "Info    : Renumbering nodal model data (9 steps)\n"
     ]
    },
    {
     "data": {
      "text/plain": [
       "LowLevelFEM.Problem(\"body2\", :HeatConduction, 3, 1, LowLevelFEM.Material[LowLevelFEM.Material(\"body\", :Hooke, 200000.0, 0.3, 7.85e-9, 45.0, 4.2e8, 1.2e-5, 115384.61538461536, 76923.07692307692, 166666.66666666666)], 1.0, 3321)"
      ]
     },
     "metadata": {},
     "output_type": "display_data"
    }
   ],
   "source": [
    "thermo = FEM.Problem([mat], type=:HeatConduction)"
   ]
  },
  {
   "cell_type": "code",
   "execution_count": 29,
   "id": "ba6bc157",
   "metadata": {},
   "outputs": [
    {
     "data": {
      "text/plain": [
       "LowLevelFEM.ScalarField(Matrix{Float64}[], [0.0; 0.0; … ; 0.0; 0.0;;], Float64[], Int64[], 1, :qn, LowLevelFEM.Problem(\"body2\", :HeatConduction, 3, 1, LowLevelFEM.Material[LowLevelFEM.Material(\"body\", :Hooke, 200000.0, 0.3, 7.85e-9, 45.0, 4.2e8, 1.2e-5, 115384.61538461536, 76923.07692307692, 166666.66666666666)], 1.0, 3321))"
      ]
     },
     "metadata": {},
     "output_type": "display_data"
    }
   ],
   "source": [
    "temp = FEM.temperatureConstraint(\"left\", T=0)\n",
    "flux = FEM.heatFlux(\"right\", qn=1)\n",
    "\n",
    "flx = FEM.heatFluxVector(thermo, [flux])"
   ]
  },
  {
   "cell_type": "code",
   "execution_count": 30,
   "id": "216e0638",
   "metadata": {},
   "outputs": [
    {
     "data": {
      "text/plain": [
       "LowLevelFEM.ScalarField(Matrix{Float64}[], [0.0; 0.0; … ; -0.20555555555552774; -0.2166666666666381;;], [0.0], Int64[], 1, :T, LowLevelFEM.Problem(\"body2\", :HeatConduction, 3, 1, LowLevelFEM.Material[LowLevelFEM.Material(\"body\", :Hooke, 200000.0, 0.3, 7.85e-9, 45.0, 4.2e8, 1.2e-5, 115384.61538461536, 76923.07692307692, 166666.66666666666)], 1.0, 3321))"
      ]
     },
     "metadata": {},
     "output_type": "display_data"
    }
   ],
   "source": [
    "KT = FEM.heatConductionMatrix(thermo)\n",
    "\n",
    "FEM.applyBoundaryConditions!(KT, flx, [temp])\n",
    "\n",
    "T1 = FEM.solveTemperature(KT, flx)"
   ]
  },
  {
   "cell_type": "code",
   "execution_count": 31,
   "id": "256a8b96",
   "metadata": {},
   "outputs": [
    {
     "data": {
      "text/plain": [
       "10"
      ]
     },
     "metadata": {},
     "output_type": "display_data"
    }
   ],
   "source": [
    "FEM.showDoFResults(T1, :T)"
   ]
  },
  {
   "cell_type": "code",
   "execution_count": 32,
   "id": "e5018b61",
   "metadata": {},
   "outputs": [
    {
     "data": {
      "text/plain": [
       "LowLevelFEM.ScalarField(Matrix{Float64}[], [0.0; 0.0; … ; -0.20555555555552774; -0.2166666666666381;;], [0.0], Int64[], 1, :T, LowLevelFEM.Problem(\"body2\", :HeatConduction, 3, 1, LowLevelFEM.Material[LowLevelFEM.Material(\"body\", :Hooke, 200000.0, 0.3, 7.85e-9, 45.0, 4.2e8, 1.2e-5, 115384.61538461536, 76923.07692307692, 166666.66666666666)], 1.0, 3321))"
      ]
     },
     "metadata": {},
     "output_type": "display_data"
    }
   ],
   "source": [
    "T2 = FEM.solveTemperature(thermo, [flux], [temp])"
   ]
  },
  {
   "cell_type": "code",
   "execution_count": 33,
   "id": "62b2b69c",
   "metadata": {},
   "outputs": [
    {
     "data": {
      "text/plain": [
       "11"
      ]
     },
     "metadata": {},
     "output_type": "display_data"
    }
   ],
   "source": [
    "FEM.showDoFResults(T2, :T)"
   ]
  },
  {
   "cell_type": "code",
   "execution_count": 34,
   "id": "6701b1aa",
   "metadata": {},
   "outputs": [
    {
     "data": {
      "text/plain": [
       "LowLevelFEM.VectorField([[0.9999999999998869; 0.0; … ; 3.122502256758253e-16; 1.5612511283791264e-16;;], [0.9999999999998846; 6.2450045135165055e-15; … ; 0.0; 0.0;;], [0.9999999999998778; 1.2490009027033011e-14; … ; 6.245004513516506e-16; 2.789435349371326e-15;;], [0.9999999999998715; 4.9960036108132044e-15; … ; 2.8588242884098866e-15; 0.0;;], [0.9999999999998841; 0.0; … ; 6.2450045135165055e-15; -3.747002708109903e-15;;], [0.9999999999998641; 4.9960036108132044e-15; … ; -3.747002708109903e-15; -2.581268532250915e-15;;], [0.9999999999998765; 0.0; … ; 7.216449660066021e-16; 2.4980018054066022e-15;;], [0.9999999999998566; 1.6653345369402847e-14; … ; -3.2196467714132356e-15; 3.275157922645975e-15;;], [0.9999999999998616; 0.0; … ; -2.4980018054066022e-15; 2.4980018054066022e-15;;], [0.9999999999998666; -4.9960036108132044e-14; … ; 2.248201624865942e-14; -4.9960036108132044e-15;;]  …  [0.9999999999998915; -1.9984014443252818e-14; … ; 7.494005416219807e-15; 1.4988010832439613e-14;;], [0.9999999999998765; 0.0; … ; 7.105427357600169e-15; -4.662936703436806e-15;;], [0.9999999999999265; -3.9968028886505635e-14; … ; 1.8540724511239666e-14; -1.2212453270819526e-15;;], [0.9999999999997866; 5.995204332975845e-14; … ; 2.1094237467867605e-15; 9.325873406831136e-15;;], [0.9999999999998266; 7.993605777301127e-14; … ; 1.35447209004264e-14; 8.326672684682149e-15;;], [0.9999999999998965; 1.9984014443252818e-14; … ; 1.4988010832439613e-14; 9.992007221626409e-15;;], [0.9999999999998566; -3.9968028886505635e-14; … ; 3.9968028886505635e-14; 9.992007221626409e-15;;], [0.9999999999998166; -3.9968028886505635e-14; … ; -1.4988010832439613e-14; -4.9960036108132044e-15;;], [0.9999999999999265; -3.9968028886505635e-14; … ; 1.9984014443252818e-14; -1.4988010832439613e-14;;], [0.9999999999999465; -9.992007221626409e-14; … ; 1.9984014443252818e-14; -1.9984014443252818e-14;;]], Matrix{Float64}(undef, 0, 0), [0.0], [473, 474, 475, 476, 477, 478, 479, 480, 481, 482  …  783, 784, 785, 786, 787, 788, 789, 790, 791, 792], 1, :q3D, LowLevelFEM.Problem(\"body2\", :HeatConduction, 3, 1, LowLevelFEM.Material[LowLevelFEM.Material(\"body\", :Hooke, 200000.0, 0.3, 7.85e-9, 45.0, 4.2e8, 1.2e-5, 115384.61538461536, 76923.07692307692, 166666.66666666666)], 1.0, 3321))"
      ]
     },
     "metadata": {},
     "output_type": "display_data"
    }
   ],
   "source": [
    "qT1 = FEM.solveHeatFlux(T2)"
   ]
  },
  {
   "cell_type": "code",
   "execution_count": 35,
   "id": "df8e8b88",
   "metadata": {},
   "outputs": [
    {
     "name": "stdout",
     "output_type": "stream",
     "text": [
      "Info    : Running Plugin(Smooth)...\n",
      "Info    : Done running Plugin(Smooth)\n"
     ]
    },
    {
     "data": {
      "text/plain": [
       "12"
      ]
     },
     "metadata": {},
     "output_type": "display_data"
    }
   ],
   "source": [
    "FEM.showElementResults(qT1, :qvec)"
   ]
  },
  {
   "cell_type": "code",
   "execution_count": 36,
   "id": "9182fc68",
   "metadata": {},
   "outputs": [
    {
     "data": {
      "text/plain": [
       "LowLevelFEM.VectorField(Matrix{Float64}[], [0.9999999999998881; 0.0; … ; 1.9984014443252818e-14; -1.9984014443252818e-14;;], [0.0], Int64[], 1, :q3D, LowLevelFEM.Problem(\"body2\", :HeatConduction, 3, 1, LowLevelFEM.Material[LowLevelFEM.Material(\"body\", :Hooke, 200000.0, 0.3, 7.85e-9, 45.0, 4.2e8, 1.2e-5, 115384.61538461536, 76923.07692307692, 166666.66666666666)], 1.0, 3321))"
      ]
     },
     "metadata": {},
     "output_type": "display_data"
    }
   ],
   "source": [
    "qT2 = FEM.solveHeatFlux(T2, DoFResults=true)"
   ]
  },
  {
   "cell_type": "code",
   "execution_count": 37,
   "id": "8f78b4be",
   "metadata": {},
   "outputs": [
    {
     "data": {
      "text/plain": [
       "13"
      ]
     },
     "metadata": {},
     "output_type": "display_data"
    }
   ],
   "source": [
    "FEM.showDoFResults(qT2, :qvec)"
   ]
  },
  {
   "cell_type": "code",
   "execution_count": 38,
   "id": "f21b2d03",
   "metadata": {},
   "outputs": [
    {
     "data": {
      "text/plain": [
       "LowLevelFEM.VectorField(Matrix{Float64}[], [0.9999999999998881; 0.0; … ; 1.9984014443252818e-14; -1.9984014443252818e-14;;], [0.0], Int64[], 1, :q3D, LowLevelFEM.Problem(\"body2\", :HeatConduction, 3, 1, LowLevelFEM.Material[LowLevelFEM.Material(\"body\", :Hooke, 200000.0, 0.3, 7.85e-9, 45.0, 4.2e8, 1.2e-5, 115384.61538461536, 76923.07692307692, 166666.66666666666)], 1.0, 3321))"
      ]
     },
     "metadata": {},
     "output_type": "display_data"
    }
   ],
   "source": [
    "qT3 = FEM.elementsToNodes(qT1)"
   ]
  },
  {
   "cell_type": "code",
   "execution_count": 39,
   "id": "fb70e93f",
   "metadata": {},
   "outputs": [
    {
     "data": {
      "text/plain": [
       "14"
      ]
     },
     "metadata": {},
     "output_type": "display_data"
    }
   ],
   "source": [
    "FEM.showDoFResults(qT3, :qvec)"
   ]
  },
  {
   "cell_type": "code",
   "execution_count": 40,
   "id": "e1daf3ac",
   "metadata": {},
   "outputs": [
    {
     "data": {
      "text/plain": [
       "(\"rear\", 1, 0, 0 + 2im)"
      ]
     },
     "metadata": {},
     "output_type": "display_data"
    }
   ],
   "source": [
    "heatconvB = FEM.heatConvection(\"bottom\", h=1, Tₐ=0)\n",
    "heatconvT = FEM.heatConvection(\"top\", h=100, Tₐ=20)\n",
    "heatconvF = FEM.heatConvection(\"front\", h=1, Tₐ=0)\n",
    "heatconvR = FEM.heatConvection(\"rear\", h=1, Tₐ=0)"
   ]
  },
  {
   "cell_type": "code",
   "execution_count": 41,
   "id": "5b4844cb",
   "metadata": {},
   "outputs": [
    {
     "data": {
      "text/plain": [
       "LowLevelFEM.ScalarField(Matrix{Float64}[], [0.0; 0.0; … ; 19.265253476656536; 19.265350798849795;;], [0.0], Int64[], 1, :T, LowLevelFEM.Problem(\"body2\", :HeatConduction, 3, 1, LowLevelFEM.Material[LowLevelFEM.Material(\"body\", :Hooke, 200000.0, 0.3, 7.85e-9, 45.0, 4.2e8, 1.2e-5, 115384.61538461536, 76923.07692307692, 166666.66666666666)], 1.0, 3321))"
      ]
     },
     "metadata": {},
     "output_type": "display_data"
    }
   ],
   "source": [
    "T3 = FEM.solveTemperature(thermo, [], [temp], [heatconvB, heatconvT, heatconvF, heatconvR])"
   ]
  },
  {
   "cell_type": "code",
   "execution_count": 42,
   "id": "fde6bb7d",
   "metadata": {},
   "outputs": [
    {
     "data": {
      "text/plain": [
       "15"
      ]
     },
     "metadata": {},
     "output_type": "display_data"
    }
   ],
   "source": [
    "FEM.showDoFResults(T3, :T)"
   ]
  },
  {
   "cell_type": "code",
   "execution_count": 43,
   "id": "e07f8b10",
   "metadata": {},
   "outputs": [
    {
     "name": "stdout",
     "output_type": "stream",
     "text": [
      "-------------------------------------------------------\n",
      "Version       : 4.13.1\n",
      "License       : GNU General Public License\n",
      "Build OS      : Linux64-sdk\n",
      "Build date    : 19700101\n",
      "Build host    : amdci7.julia.csail.mit.edu\n",
      "Build options : 64Bit ALGLIB[contrib] ANN[contrib] Bamg Blossom Cairo DIntegration Dlopen DomHex Eigen[contrib] Fltk GMP Gmm[contrib] Hxt Jpeg Kbipack LinuxJoystick MathEx[contrib] Mesh Metis[contrib] Mmg Mpeg Netgen Nii2mesh ONELAB ONELABMetamodel OpenCASCADE OpenCASCADE-CAF OpenGL OpenMP OptHom Parser Plugins Png Post QuadMeshingTools QuadTri Solver TetGen/BR TinyXML2[contrib] Untangle Voro++[contrib] WinslowUntangler Zlib\n",
      "FLTK version  : 1.3.8\n",
      "OCC version   : 7.7.2\n",
      "Packaged by   : root\n",
      "Web site      : https://gmsh.info\n",
      "Issue tracker : https://gitlab.onelab.info/gmsh/gmsh/issues\n",
      "-------------------------------------------------------\n"
     ]
    },
    {
     "name": "stderr",
     "output_type": "stream",
     "text": [
      "XOpenIM() failed\n",
      "XRequest.18: BadValue 0x0\n"
     ]
    }
   ],
   "source": [
    "FEM.openPostProcessor()"
   ]
  },
  {
   "cell_type": "code",
   "execution_count": 44,
   "id": "076f84a7",
   "metadata": {},
   "outputs": [],
   "source": [
    "gmsh.finalize()"
   ]
  }
 ],
 "metadata": {
  "kernelspec": {
   "display_name": "Julia 1.11.6",
   "language": "julia",
   "name": "julia-1.11"
  },
  "language_info": {
   "file_extension": ".jl",
   "mimetype": "application/julia",
   "name": "julia",
   "version": "1.11.6"
  }
 },
 "nbformat": 4,
 "nbformat_minor": 5
}
