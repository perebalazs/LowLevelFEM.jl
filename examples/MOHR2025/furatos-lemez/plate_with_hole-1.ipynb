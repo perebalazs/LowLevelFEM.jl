{
 "cells": [
  {
   "cell_type": "code",
   "execution_count": 31,
   "metadata": {},
   "outputs": [],
   "source": [
    "using LowLevelFEM\n",
    "\n",
    "gmsh.initialize();"
   ]
  },
  {
   "cell_type": "code",
   "execution_count": 32,
   "metadata": {},
   "outputs": [
    {
     "name": "stdout",
     "output_type": "stream",
     "text": [
      "Info    : Reading 'plate_with_hole_tria_1st_size-def.geo'...\n",
      "Info    : Meshing 1D...nts                                                                                                          \n",
      "Info    : [  0%] Meshing curve 1 (Ellipse)\n",
      "Info    : [ 20%] Meshing curve 2 (Line)\n",
      "Info    : [ 30%] Meshing curve 3 (Line)\n",
      "Info    : [ 50%] Meshing curve 4 (Line)\n",
      "Info    : [ 60%] Meshing curve 5 (Ellipse)\n",
      "Info    : [ 80%] Meshing curve 6 (Line)\n",
      "Info    : [ 90%] Meshing curve 7 (Line)\n",
      "Info    : Done meshing 1D (Wall 0.000883105s, CPU 0.000855s)\n",
      "Info    : Meshing 2D...\n",
      "Info    : [  0%] Meshing surface 1 (Plane, Frontal-Delaunay)\n",
      "Info    : [ 60%] Meshing surface 2 (Plane, Frontal-Delaunay)\n",
      "Info    : Done meshing 2D (Wall 0.00570374s, CPU 0.004895s)\n",
      "Info    : 94 nodes 201 elements\n",
      "Info    : Done reading 'plate_with_hole_tria_1st_size-def.geo'\n",
      "Info    : RCMK renumbering...\n",
      "Info    : Done RCMK renumbering (bandwidth is now 13)\n"
     ]
    },
    {
     "name": "stderr",
     "output_type": "stream",
     "text": [
      "Warning : Unknown OpenCASCADE entity of dimension 0 with tag 7\n"
     ]
    },
    {
     "data": {
      "text/plain": [
       "Problem(\"plate_with_hole_tria_1st_size-def\", :PlaneStress, 2, 2, LowLevelFEM.Material[LowLevelFEM.Material(\"body\", :Hooke, 200000.0, 0.3, 7.85e-9, 45.0, 4.2e8, 1.2e-5, 115384.61538461536, 76923.07692307692, 166666.66666666666)], 1.0, 94)"
      ]
     },
     "metadata": {},
     "output_type": "display_data"
    }
   ],
   "source": [
    "gmsh.open(\"plate_with_hole_tria_1st_size-def.geo\")\n",
    "#gmsh.open(\"plate_with_hole_tria_1st_size-5.geo\")\n",
    "#gmsh.open(\"plate_with_hole_tria_1st_size-1.geo\")\n",
    "\n",
    "#gmsh.open(\"plate_with_hole_tria_1st_size-graded.geo\")\n",
    "\n",
    "#gmsh.open(\"plate_with_hole_tria_2nd_size-def.geo\")\n",
    "#gmsh.open(\"plate_with_hole_tria_3rd_size-def.geo\")\n",
    "#gmsh.open(\"plate_with_hole_tria_5th_size-def.geo\")\n",
    "\n",
    "#gmsh.open(\"plate_with_hole_quad_1st_size-def.geo\")\n",
    "\n",
    "#gmsh.open(\"plate_with_hole_quad_1st_size-5.geo\")\n",
    "#gmsh.open(\"plate_with_hole_quad_2nd_size-5.geo\")\n",
    "\n",
    "#gmsh.open(\"plate_with_hole_quad_5st_size-1-graded.geo\")\n",
    "\n",
    "#gmsh.open(\"plate_with_hole_quad_1st_size-regular.geo\")\n",
    "#gmsh.open(\"plate_with_hole_quad_2nd_size-regular.geo\")\n",
    "#gmsh.open(\"plate_with_hole_quad_5th_size-regular.geo\")\n",
    "\n",
    "#gmsh.open(\"plate_with_hole_quad_1st_size-regular2.geo\")\n",
    "\n",
    "#openPreProcessor()\n",
    "\n",
    "mat = material(\"body\")\n",
    "problem = Problem([mat], type=:PlaneStress)"
   ]
  },
  {
   "cell_type": "code",
   "execution_count": 33,
   "metadata": {},
   "outputs": [],
   "source": [
    "supp1 = displacementConstraint(\"bottom\", uy=0)\n",
    "supp2 = displacementConstraint(\"left\", ux=0)\n",
    "force = load(\"top\", fy=1);"
   ]
  },
  {
   "cell_type": "code",
   "execution_count": 34,
   "metadata": {},
   "outputs": [],
   "source": [
    "q = solveDisplacement(problem, [force], [supp1, supp2])\n",
    "S = solveStress(q);"
   ]
  },
  {
   "cell_type": "code",
   "execution_count": 35,
   "metadata": {},
   "outputs": [
    {
     "data": {
      "text/plain": [
       "0"
      ]
     },
     "metadata": {},
     "output_type": "display_data"
    }
   ],
   "source": [
    "#u = showDoFResults(problem, q, :uvec, name=\"uvec\", visible=false)\n",
    "#ux = showDoFResults(problem, q, :ux, name=\"ux\", visible=false)\n",
    "#uy = showDoFResults(problem, q, :uy, name=\"uy\", visible=false)\n",
    "\n",
    "s = showStressResults(S, :s, name=\"σ\", visible=true, smooth=false)\n",
    "#ss = showStressResults(problem, S, :s, name=\"σ smooth\", visible=false, smooth=true)\n",
    "#sx = showStressResults(problem, S, :sx, name=\"σx\", visible=false, smooth=true)\n",
    "#sy = showStressResults(problem, S, :sy, name=\"σy\", visible=false, smooth=true)\n",
    "#synsm = showStressResults(problem, S, :sy, name=\"σy non-smooth\", visible=false, smooth=false)\n",
    "#sxy = showStressResults(problem, S, :sxy, name=\"τxy\", visible=false, smooth=true)"
   ]
  },
  {
   "cell_type": "code",
   "execution_count": 36,
   "metadata": {},
   "outputs": [
    {
     "data": {
      "text/plain": [
       "1"
      ]
     },
     "metadata": {},
     "output_type": "display_data"
    }
   ],
   "source": [
    "err = fieldError(S)\n",
    "serr = showDoFResults(err, :s, name=\"error\")"
   ]
  },
  {
   "cell_type": "code",
   "execution_count": 37,
   "metadata": {},
   "outputs": [],
   "source": [
    "#FEM.plotOnPath(problem, \"left\", ss, name=\"σred\", visible=false);\n",
    "#FEM.plotOnPath(problem, \"path\", ss, name=\"σred\", visible=false);\n",
    "#FEM.plotOnPath(problem, \"bottom\", ss, name=\"σred\", visible=false);\n",
    "#FEM.plotOnPath(problem, \"path\", s, name=\"σred_ϵ\", visible=false);\n",
    "#FEM.plotOnPath(problem, \"top\", sy, name=\"σy\", visible=false);\n",
    "#FEM.plotOnPath(problem, \"top\", synsm, name=\"σy non-smooth\", visible=false);"
   ]
  },
  {
   "cell_type": "code",
   "execution_count": 38,
   "metadata": {},
   "outputs": [
    {
     "name": "stdout",
     "output_type": "stream",
     "text": [
      "-------------------------------------------------------\n",
      "Version       : 4.13.1\n",
      "License       : GNU General Public License\n",
      "Build OS      : Linux64-sdk\n",
      "Build date    : 19700101\n",
      "Build host    : amdci7.julia.csail.mit.edu\n",
      "Build options : 64Bit ALGLIB[contrib] ANN[contrib] Bamg Blossom Cairo DIntegration Dlopen DomHex Eigen[contrib] Fltk GMP Gmm[contrib] Hxt Jpeg Kbipack LinuxJoystick MathEx[contrib] Mesh Metis[contrib] Mmg Mpeg Netgen Nii2mesh ONELAB ONELABMetamodel OpenCASCADE OpenCASCADE-CAF OpenGL OpenMP OptHom Parser Plugins Png Post QuadMeshingTools QuadTri Solver TetGen/BR TinyXML2[contrib] Untangle Voro++[contrib] WinslowUntangler Zlib\n",
      "FLTK version  : 1.3.8\n",
      "OCC version   : 7.7.2\n",
      "Packaged by   : root\n",
      "Web site      : https://gmsh.info\n",
      "Issue tracker : https://gitlab.onelab.info/gmsh/gmsh/issues\n",
      "-------------------------------------------------------\n"
     ]
    },
    {
     "name": "stderr",
     "output_type": "stream",
     "text": [
      "XRequest.18: BadValue 0x0\n"
     ]
    }
   ],
   "source": [
    "openPostProcessor()"
   ]
  },
  {
   "cell_type": "code",
   "execution_count": 39,
   "metadata": {},
   "outputs": [],
   "source": [
    "gmsh.finalize()"
   ]
  },
  {
   "cell_type": "code",
   "execution_count": 40,
   "metadata": {},
   "outputs": [
    {
     "data": {
      "text/plain": [
       "3.0"
      ]
     },
     "metadata": {},
     "output_type": "display_data"
    }
   ],
   "source": [
    "N = 1\n",
    "σr = -N / 2 * (3 - 4 + 1)\n",
    "σφ = N / 2 * (1 + 1) + N / 2 * (3 + 1)"
   ]
  }
 ],
 "metadata": {
  "kernelspec": {
   "display_name": "Julia 1.11.6",
   "language": "julia",
   "name": "julia-1.11"
  },
  "language_info": {
   "file_extension": ".jl",
   "mimetype": "application/julia",
   "name": "julia",
   "version": "1.11.6"
  }
 },
 "nbformat": 4,
 "nbformat_minor": 4
}
