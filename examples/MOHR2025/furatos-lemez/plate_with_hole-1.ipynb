{
 "cells": [
  {
   "cell_type": "code",
   "execution_count": 21,
   "metadata": {},
   "outputs": [],
   "source": [
    "using LowLevelFEM\n",
    "\n",
    "gmsh.initialize();"
   ]
  },
  {
   "cell_type": "code",
   "execution_count": 22,
   "metadata": {},
   "outputs": [
    {
     "name": "stdout",
     "output_type": "stream",
     "text": [
      "Info    : Reading 'plate_with_hole_tria_1st_size-def.geo'...\n",
      "Info    : Meshing 1D...nts                                                                                                          \n",
      "Info    : [  0%] Meshing curve 1 (Ellipse)\n",
      "Info    : [ 20%] Meshing curve 2 (Line)\n",
      "Info    : [ 30%] Meshing curve 3 (Line)\n",
      "Info    : [ 50%] Meshing curve 4 (Line)\n",
      "Info    : [ 60%] Meshing curve 5 (Ellipse)\n",
      "Info    : [ 80%] Meshing curve 6 (Line)\n",
      "Info    : [ 90%] Meshing curve 7 (Line)\n",
      "Info    : Done meshing 1D (Wall 0.000729799s, CPU 0.000689s)\n",
      "Info    : Meshing 2D...\n",
      "Info    : [  0%] Meshing surface 1 (Plane, Frontal-Delaunay)\n",
      "Info    : [ 60%] Meshing surface 2 (Plane, Frontal-Delaunay)\n",
      "Info    : Done meshing 2D (Wall 0.00307078s, CPU 0.002935s)\n",
      "Info    : Meshing order 2 (curvilinear on)...\n",
      "Info    : [  0%] Meshing curve 1 order 2\n",
      "Info    : [ 20%] Meshing curve 2 order 2\n",
      "Info    : [ 30%] Meshing curve 3 order 2\n",
      "Info    : [ 40%] Meshing curve 4 order 2\n",
      "Info    : [ 50%] Meshing curve 5 order 2\n",
      "Info    : [ 60%] Meshing curve 6 order 2\n",
      "Info    : [ 70%] Meshing curve 7 order 2\n",
      "Info    : [ 80%] Meshing surface 1 order 2\n",
      "Info    : [ 90%] Meshing surface 2 order 2\n",
      "Info    : Surface mesh: worst distortion = 0.831865 (0 elements in ]0, 0.2]); worst gamma = 0.762272\n",
      "Info    : Done meshing order 2 (Wall 0.00145294s, CPU 0.001451s)\n",
      "Info    : 341 nodes 201 elements\n",
      "Info    : Done reading 'plate_with_hole_tria_1st_size-def.geo'\n",
      "Info    : RCMK renumbering...\n",
      "Info    : Done RCMK renumbering (bandwidth is now 54)\n"
     ]
    },
    {
     "name": "stderr",
     "output_type": "stream",
     "text": [
      "Warning : Unknown OpenCASCADE entity of dimension 0 with tag 7\n"
     ]
    },
    {
     "data": {
      "text/plain": [
       "Problem(\"plate_with_hole_tria_1st_size-def\", :PlaneStress, 2, 2, LowLevelFEM.Material[LowLevelFEM.Material(\"body\", :Hooke, 200000.0, 0.3, 7.85e-9, 45.0, 4.2e8, 1.2e-5, 115384.61538461536, 76923.07692307692, 166666.66666666666)], 1.0, 341)"
      ]
     },
     "metadata": {},
     "output_type": "display_data"
    }
   ],
   "source": [
    "gmsh.open(\"plate_with_hole_tria_1st_size-def.geo\")\n",
    "#gmsh.open(\"plate_with_hole_tria_1st_size-5.geo\")\n",
    "#gmsh.open(\"plate_with_hole_tria_1st_size-1.geo\")\n",
    "\n",
    "#gmsh.open(\"plate_with_hole_tria_1st_size-graded.geo\")\n",
    "\n",
    "#gmsh.open(\"plate_with_hole_tria_2nd_size-def.geo\")\n",
    "#gmsh.open(\"plate_with_hole_tria_3rd_size-def.geo\")\n",
    "#gmsh.open(\"plate_with_hole_tria_5th_size-def.geo\")\n",
    "\n",
    "#gmsh.open(\"plate_with_hole_quad_1st_size-def.geo\")\n",
    "\n",
    "#gmsh.open(\"plate_with_hole_quad_1st_size-5.geo\")\n",
    "#gmsh.open(\"plate_with_hole_quad_2nd_size-5.geo\")\n",
    "\n",
    "#gmsh.open(\"plate_with_hole_quad_5st_size-1-graded.geo\")\n",
    "\n",
    "#gmsh.open(\"plate_with_hole_quad_1st_size-regular.geo\")\n",
    "#gmsh.open(\"plate_with_hole_quad_2nd_size-regular.geo\")\n",
    "#gmsh.open(\"plate_with_hole_quad_5th_size-regular.geo\")\n",
    "\n",
    "#gmsh.open(\"plate_with_hole_quad_1st_size-regular2.geo\")\n",
    "\n",
    "#openPreProcessor()\n",
    "\n",
    "mat = material(\"body\")\n",
    "problem = Problem([mat], type=:PlaneStress)"
   ]
  },
  {
   "cell_type": "code",
   "execution_count": 23,
   "metadata": {},
   "outputs": [],
   "source": [
    "supp1 = displacementConstraint(\"bottom\", uy=0)\n",
    "supp2 = displacementConstraint(\"left\", ux=0)\n",
    "force = load(\"top\", fy=1);"
   ]
  },
  {
   "cell_type": "code",
   "execution_count": 24,
   "metadata": {},
   "outputs": [],
   "source": [
    "q = solveDisplacement(problem, [force], [supp1, supp2])\n",
    "S = solveStress(q);"
   ]
  },
  {
   "cell_type": "code",
   "execution_count": 25,
   "metadata": {},
   "outputs": [
    {
     "data": {
      "text/plain": [
       "0"
      ]
     },
     "metadata": {},
     "output_type": "display_data"
    }
   ],
   "source": [
    "#u = showDoFResults(problem, q, :uvec, name=\"uvec\", visible=false)\n",
    "#ux = showDoFResults(problem, q, :ux, name=\"ux\", visible=false)\n",
    "#uy = showDoFResults(problem, q, :uy, name=\"uy\", visible=false)\n",
    "\n",
    "s = showStressResults(S, :s, name=\"σ\", visible=true, smooth=false)\n",
    "#ss = showStressResults(problem, S, :s, name=\"σ smooth\", visible=false, smooth=true)\n",
    "#sx = showStressResults(problem, S, :sx, name=\"σx\", visible=false, smooth=true)\n",
    "#sy = showStressResults(problem, S, :sy, name=\"σy\", visible=false, smooth=true)\n",
    "#synsm = showStressResults(problem, S, :sy, name=\"σy non-smooth\", visible=false, smooth=false)\n",
    "#sxy = showStressResults(problem, S, :sxy, name=\"τxy\", visible=false, smooth=true)"
   ]
  },
  {
   "cell_type": "code",
   "execution_count": 26,
   "metadata": {},
   "outputs": [
    {
     "data": {
      "text/plain": [
       "1"
      ]
     },
     "metadata": {},
     "output_type": "display_data"
    }
   ],
   "source": [
    "err = fieldError(S)\n",
    "serr = showDoFResults(err, :s, name=\"error\")"
   ]
  },
  {
   "cell_type": "code",
   "execution_count": 27,
   "metadata": {},
   "outputs": [],
   "source": [
    "#FEM.plotOnPath(problem, \"left\", ss, name=\"σred\", visible=false);\n",
    "#FEM.plotOnPath(problem, \"path\", ss, name=\"σred\", visible=false);\n",
    "#FEM.plotOnPath(problem, \"bottom\", ss, name=\"σred\", visible=false);\n",
    "#FEM.plotOnPath(problem, \"path\", s, name=\"σred_ϵ\", visible=false);\n",
    "#FEM.plotOnPath(problem, \"top\", sy, name=\"σy\", visible=false);\n",
    "#FEM.plotOnPath(problem, \"top\", synsm, name=\"σy non-smooth\", visible=false);"
   ]
  },
  {
   "cell_type": "code",
   "execution_count": 28,
   "metadata": {},
   "outputs": [
    {
     "name": "stdout",
     "output_type": "stream",
     "text": [
      "-------------------------------------------------------\n",
      "Version       : 4.13.1\n",
      "License       : GNU General Public License\n",
      "Build OS      : Linux64-sdk\n",
      "Build date    : 19700101\n",
      "Build host    : amdci7.julia.csail.mit.edu\n",
      "Build options : 64Bit ALGLIB[contrib] ANN[contrib] Bamg Blossom Cairo DIntegration Dlopen DomHex Eigen[contrib] Fltk GMP Gmm[contrib] Hxt Jpeg Kbipack LinuxJoystick MathEx[contrib] Mesh Metis[contrib] Mmg Mpeg Netgen Nii2mesh ONELAB ONELABMetamodel OpenCASCADE OpenCASCADE-CAF OpenGL OpenMP OptHom Parser Plugins Png Post QuadMeshingTools QuadTri Solver TetGen/BR TinyXML2[contrib] Untangle Voro++[contrib] WinslowUntangler Zlib\n",
      "FLTK version  : 1.3.8\n",
      "OCC version   : 7.7.2\n",
      "Packaged by   : root\n",
      "Web site      : https://gmsh.info\n",
      "Issue tracker : https://gitlab.onelab.info/gmsh/gmsh/issues\n",
      "-------------------------------------------------------\n"
     ]
    },
    {
     "name": "stderr",
     "output_type": "stream",
     "text": [
      "XRequest.18: BadValue 0x0\n"
     ]
    }
   ],
   "source": [
    "openPostProcessor()"
   ]
  },
  {
   "cell_type": "code",
   "execution_count": 29,
   "metadata": {},
   "outputs": [],
   "source": [
    "gmsh.finalize()"
   ]
  },
  {
   "cell_type": "code",
   "execution_count": 30,
   "metadata": {},
   "outputs": [
    {
     "data": {
      "text/plain": [
       "3.0"
      ]
     },
     "metadata": {},
     "output_type": "display_data"
    }
   ],
   "source": [
    "N = 1\n",
    "σr = -N / 2 * (3 - 4 + 1)\n",
    "σφ = N / 2 * (1 + 1) + N / 2 * (3 + 1)"
   ]
  }
 ],
 "metadata": {
  "kernelspec": {
   "display_name": "Julia 1.11.6",
   "language": "julia",
   "name": "julia-1.11"
  },
  "language_info": {
   "file_extension": ".jl",
   "mimetype": "application/julia",
   "name": "julia",
   "version": "1.11.6"
  }
 },
 "nbformat": 4,
 "nbformat_minor": 4
}
