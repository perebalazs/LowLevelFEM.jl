{
 "cells": [
  {
   "cell_type": "code",
   "execution_count": 1,
   "metadata": {},
   "outputs": [],
   "source": [
    "using LinearAlgebra, SparseArrays\n",
    "import gmsh\n",
    "gmsh.initialize()\n",
    "\n",
    "include(\"../src/FEM.jl\")\n",
    "using .FEM"
   ]
  },
  {
   "cell_type": "code",
   "execution_count": 2,
   "metadata": {},
   "outputs": [
    {
     "name": "stdout",
     "output_type": "stream",
     "text": [
      "Info    : Reading 'LshapedPlate2.geo'...\n",
      "Info    : Meshing 1D...\n",
      "Info    : [  0%] Meshing curve 1 (Line)\n",
      "Info    : [ 20%] Meshing curve 2 (Line)\n",
      "Info    : [ 30%] Meshing curve 3 (Line)\n",
      "Info    : [ 50%] Meshing curve 4 (Circle)\n",
      "Info    : [ 60%] Meshing curve 5 (Line)\n",
      "Info    : [ 80%] Meshing curve 6 (Line)\n",
      "Info    : [ 90%] Meshing curve 7 (Line)\n",
      "Info    : Done meshing 1D (Wall 0.00657219s, CPU 0.006573s)\n",
      "Info    : Meshing 2D...\n",
      "Info    : Meshing surface 1 (Plane, Frontal-Delaunay)\n",
      "Info    : Done meshing 2D (Wall 0.00598244s, CPU 0.005936s)\n",
      "Info    : Meshing order 4 (curvilinear on)...\n",
      "Info    : [  0%] Meshing curve 1 order 4\n",
      "Info    : [ 20%] Meshing curve 2 order 4\n",
      "Info    : [ 30%] Meshing curve 3 order 4\n",
      "Info    : [ 40%] Meshing curve 4 order 4\n",
      "Info    : [ 50%] Meshing curve 5 order 4\n",
      "Info    : [ 70%] Meshing curve 6 order 4\n",
      "Info    : [ 80%] Meshing curve 7 order 4\n",
      "Info    : [ 90%] Meshing surface 1 order 4\n",
      "Info    : Surface mesh: worst distortion = 0.776535 (0 elements in ]0, 0.2]); worst gamma = 0.746895\n",
      "Info    : Done meshing order 4 (Wall 0.0051857s, CPU 0.005181s)\n",
      "Info    : Optimizing mesh (HighOrder)...\n",
      "Info    : Optimizing high-order mesh...\n",
      "Info    : Optimizing mesh...\n",
      "Info    : Computing connectivity and bad elements for entity 1...\n",
      "Info    : Starting patch generation from 0 bad elements...\n",
      "Info    : Constructing 0 primary patches\n",
      "Info    : Computing patch connectivity...\n",
      "Info    : Identifying groups of primary patches...\n",
      "Info    : Merging primary patches into 0 patches...\n",
      "Info    : Computing boundaries for 0 patches...\n",
      "Info    : Generated 0 patches\n",
      "Info    : Optimization succeeded\n",
      "Info    : Done optimizing mesh (0.001658 s)\n",
      "Info    : Done optimizing high-order mesh (0.001658 s)\n",
      "Info    : Done optimizing mesh (Wall 0.00180396s, CPU 0.001806s)\n",
      "Info    : 2696 nodes 380 elements\n",
      "Info    : Done reading 'LshapedPlate2.geo'\n"
     ]
    }
   ],
   "source": [
    "#gmsh.open(\"LshapedPlate.geo\")\n",
    "gmsh.open(\"LshapedPlate2.geo\")"
   ]
  },
  {
   "cell_type": "code",
   "execution_count": 3,
   "metadata": {},
   "outputs": [
    {
     "data": {
      "text/plain": [
       "Main.FEM.Problem(\"Lshape\", \"PlaneStress\", 2, 200000.0, 0.3, 7.85e-9, 1.0, 2695)"
      ]
     },
     "metadata": {},
     "output_type": "display_data"
    }
   ],
   "source": [
    "problem = FEM.Problem(type=\"PlaneStress\", thickness=1)"
   ]
  },
  {
   "cell_type": "code",
   "execution_count": 4,
   "metadata": {},
   "outputs": [
    {
     "data": {
      "text/plain": [
       "(\"load\", 0, -1, 0)"
      ]
     },
     "metadata": {},
     "output_type": "display_data"
    }
   ],
   "source": [
    "bc1 = FEM.displacementConstraint(\"fix\", ux=0, uy=0)\n",
    "ld1 = FEM.load(\"load\", fy=-1)"
   ]
  },
  {
   "cell_type": "code",
   "execution_count": 5,
   "metadata": {},
   "outputs": [
    {
     "name": "stdout",
     "output_type": "stream",
     "text": [
      "-------------------------------------------------------\n",
      "Version       : 4.12.2\n",
      "License       : GNU General Public License\n",
      "Build OS      : Linux64-sdk\n",
      "Build date    : 20240121\n",
      "Build host    : gmsh.info\n",
      "Build options : 64Bit ALGLIB[contrib] ANN[contrib] Bamg Blas[petsc] Blossom Cgns DIntegration Dlopen DomHex Eigen[contrib] Fltk Gmm[contrib] Hxt Jpeg Kbipack Lapack[petsc] LinuxJoystick MathEx[contrib] Med Mesh Metis[contrib] Mmg Mpeg Netgen ONELAB ONELABMetamodel OpenCASCADE OpenCASCADE-CAF OpenGL OpenMP OptHom PETSc Parser Plugins Png Post QuadMeshingTools QuadTri Solver TetGen/BR Voro++[contrib] WinslowUntangler Zlib\n",
      "FLTK version  : 1.4.0\n",
      "PETSc version : 3.14.4 (real arithmtic)\n",
      "OCC version   : 7.7.2\n",
      "MED version   : 4.1.0\n",
      "Packaged by   : geuzaine\n",
      "Web site      : https://gmsh.info\n",
      "Issue tracker : https://gitlab.onelab.info/gmsh/gmsh/issues\n",
      "-------------------------------------------------------\n"
     ]
    }
   ],
   "source": [
    "gmsh.fltk.run()"
   ]
  },
  {
   "cell_type": "code",
   "execution_count": 6,
   "metadata": {},
   "outputs": [],
   "source": [
    "# Néhány láthatósági beállítás 0:kikapcs. 1:bekapcs.\n",
    "gmsh.option.setNumber(\"Geometry.CurveLabels\", 0)\n",
    "gmsh.option.setNumber(\"Geometry.Points\", 0)\n",
    "gmsh.option.setNumber(\"Geometry.Curves\", 0)\n",
    "gmsh.option.setNumber(\"Mesh.Points\", 0)\n",
    "gmsh.option.setNumber(\"Mesh.Lines\", 0)\n",
    "gmsh.option.setNumber(\"Mesh.SurfaceEdges\", 0)\n",
    "gmsh.option.setNumber(\"Mesh.NodeLabels\", 0)\n",
    "gmsh.option.setNumber(\"Mesh.LineLabels\", 0)\n",
    "gmsh.option.setNumber(\"Mesh.SurfaceLabels\", 0)"
   ]
  },
  {
   "cell_type": "code",
   "execution_count": 7,
   "metadata": {},
   "outputs": [
    {
     "data": {
      "text/plain": [
       "5390×5390 SparseMatrixCSC{Float64, Int64} with 246660 stored entries:\n",
       "⎡⡿⣯⡉⣧⡿⢲⢖⠸⡅⢨⢀⢠⠘⢻⣟⡛⣋⢀⣿⣧⡓⢢⣰⢽⣡⠝⢃⢈⢀⠛⠃⠱⠞⣃⠀⠀⡀⡀⠀⠁⎤\n",
       "⎢⠧⣬⣿⣿⣿⣬⣬⣤⣴⣶⣦⣤⣦⣶⢭⣽⣵⣶⢿⣭⣥⣤⣭⣷⣧⣧⣤⣶⣧⣤⣤⣤⣥⣤⣤⣤⣤⣤⣤⣤⎥\n",
       "⎢⢻⣋⡛⣿⣿⣿⣿⢞⠷⠚⣿⠟⢛⠛⣛⠻⠻⠛⡛⢋⡟⢟⢿⠿⢟⡿⠿⠻⠻⠛⠟⠻⠛⢿⡟⠿⠿⠿⠻⠷⎥\n",
       "⎢⣘⡑⠂⣿⣻⢟⡻⣮⢤⡆⣤⢒⢥⡈⡶⠀⠀⠀⠀⡈⠤⠋⠁⠐⠈⠀⠀⠐⠉⠂⠀⠀⠈⠀⠁⠡⠀⠈⠄⠤⎥\n",
       "⎢⡁⣉⢰⣿⣹⠃⠠⠷⣿⣿⣎⠱⠠⢒⠠⠍⢎⣐⣀⡈⠀⢈⢀⠀⢁⠀⠠⢀⡀⠤⠤⠠⠀⠁⠀⠠⠄⠲⠠⠰⎥\n",
       "⎢⠀⣐⠈⣿⣿⠟⢠⢛⢎⡙⠻⣦⣘⢉⠒⡈⠯⠹⢐⢀⠸⠆⢒⡀⣊⡷⠐⠄⠠⠤⠈⠏⠠⠉⠬⠄⠀⠀⠇⠀⎥\n",
       "⎢⣶⣀⢨⣿⣿⠐⡁⠳⢠⢂⡖⢘⡿⣯⣷⡖⠂⢤⡁⠀⠀⠀⢀⡍⢌⡛⠁⠀⠀⠐⠀⠀⡘⠀⡒⠠⠄⢀⠀⠀⎥\n",
       "⎢⣿⠹⣇⣷⣿⡘⠘⠋⡄⠆⡘⠠⢹⠿⢿⣷⡚⠀⢡⠁⡌⡃⡃⢄⠦⠀⠐⠪⢒⢀⢠⠀⠐⠀⢀⣀⠀⠂⡀⠀⎥\n",
       "⎢⠋⢘⢱⣿⣿⠂⠀⠀⢊⢱⣏⡃⠈⣄⠚⠈⠻⢆⡀⠈⠅⣠⠏⠐⡊⣐⠨⢇⣲⠂⠠⣐⠴⠊⠊⠄⠫⠢⠅⠀⎥\n",
       "⎢⠿⣿⡟⣷⡿⢈⡀⠠⡀⠸⠐⢐⠁⠈⠅⠒⡀⠈⠿⣧⡡⢬⡰⣦⢲⡈⠑⠈⠑⠤⠔⠹⠇⡠⠀⠒⠀⠒⠀⠁⎥\n",
       "⎢⠹⣈⠁⣿⣿⢍⡤⠃⡀⢀⠲⠆⠀⠀⠦⠩⠁⣡⡁⣎⠻⢆⡈⠱⣄⢌⠄⠞⢀⠬⢔⢀⠀⡂⠀⠑⠢⠂⡃⠧⎥\n",
       "⎢⣔⣞⢧⣿⣿⡗⢁⠀⠀⠐⠘⠰⡄⠴⠉⢌⢋⠁⠰⣮⢆⡈⡻⣮⡴⠄⡝⡐⠌⣪⠆⠀⡄⠑⠀⢠⢰⠰⠐⠤⎥\n",
       "⎢⣅⠞⠭⣿⣿⡵⠂⠀⠁⠐⢮⡼⣦⠱⠈⠃⢊⢨⡘⠲⡀⢝⠐⠏⠿⣧⡄⡅⣏⢀⢃⣠⣎⣔⢚⠩⠂⠅⠀⠬⎥\n",
       "⎢⡉⢐⢠⣿⣿⡃⢀⠀⠀⢂⠐⠄⠁⠀⡰⡀⠦⢆⡑⠀⣠⠅⢓⠩⠄⠭⢻⣶⡶⢪⡵⠅⠌⢙⠂⠀⠰⢒⢐⡃⎥\n",
       "⎢⣤⠐⠉⣿⣿⠂⠣⠀⠀⡌⠀⡆⢀⠀⠘⢐⠸⠚⠑⡄⡀⡔⡢⣡⠋⢙⡸⣋⣿⣿⣅⠙⢫⠁⡮⠅⡢⠃⢠⣡⎥\n",
       "⎢⢍⡀⠀⣿⣿⡁⠀⠀⠀⡃⡦⠄⠀⠀⠀⠒⢀⢢⣔⡁⠐⢑⠈⠁⠉⣰⠕⠏⣅⠙⢻⣶⡂⣈⣪⢼⣪⢗⡤⡄⎥\n",
       "⎢⠾⢡⠁⣿⣿⣄⠂⠀⠄⠀⡄⠂⠒⠈⠐⠀⡰⠃⠉⡡⠠⠠⢄⠉⢊⢽⣆⢁⠏⠒⡈⢨⡵⣯⣗⡢⣴⣯⡭⡄⎥\n",
       "⎢⠀⠀⠀⣿⣿⡍⠅⡀⠀⡀⠂⠇⠘⡈⠀⢰⠊⠄⢠⠀⢄⠀⠀⣀⡞⡐⠈⠀⠎⠏⣊⣞⠹⡹⣻⣾⣃⣯⠯⣡⎥\n",
       "⎢⠀⠨⠀⣿⣿⡇⡀⠀⢠⡁⠀⠀⠀⢁⠠⠀⠫⡂⢠⠀⠨⠂⢐⡒⠌⠄⢰⢂⠬⠊⢮⢞⡴⣿⡭⣼⣿⣿⣿⣧⎥\n",
       "⎣⠄⠀⠀⣿⢿⡆⠀⡅⢀⡂⠉⠁⠀⠀⠀⠈⠁⠁⠄⠀⠭⡌⠐⡄⡀⡄⠴⠰⠄⣲⠀⠯⠃⠯⠏⣣⠿⣿⢿⣷⎦"
      ]
     },
     "metadata": {},
     "output_type": "display_data"
    }
   ],
   "source": [
    "K = FEM.stiffnessMatrix(problem)"
   ]
  },
  {
   "cell_type": "code",
   "execution_count": 8,
   "metadata": {},
   "outputs": [
    {
     "data": {
      "text/plain": [
       "5390-element Vector{Float64}:\n",
       "  0.0\n",
       "  0.0\n",
       "  0.0\n",
       " -0.9722222222184878\n",
       "  0.0\n",
       " -0.9722222222269862\n",
       "  0.0\n",
       "  0.0\n",
       "  0.0\n",
       "  0.0\n",
       "  ⋮\n",
       "  0.0\n",
       "  0.0\n",
       "  0.0\n",
       "  0.0\n",
       "  0.0\n",
       "  0.0\n",
       "  0.0\n",
       "  0.0\n",
       "  0.0"
      ]
     },
     "metadata": {},
     "output_type": "display_data"
    }
   ],
   "source": [
    "f = FEM.loadVector(problem, [ld1])"
   ]
  },
  {
   "cell_type": "code",
   "execution_count": 9,
   "metadata": {},
   "outputs": [
    {
     "data": {
      "text/plain": [
       "Any[]"
      ]
     },
     "metadata": {},
     "output_type": "display_data"
    }
   ],
   "source": [
    "FEM.applyBoundaryConditions!(problem, K, f, [bc1])"
   ]
  },
  {
   "cell_type": "code",
   "execution_count": 10,
   "metadata": {},
   "outputs": [
    {
     "data": {
      "text/plain": [
       "5390-element Vector{Float64}:\n",
       " -0.008395346470201816\n",
       "  0.0026891050717780074\n",
       " -0.00984694365396412\n",
       " -0.012108825842731735\n",
       " -0.0010369912756368826\n",
       " -0.012129417462599634\n",
       " -0.0018216407323847863\n",
       " -0.0029428344452681085\n",
       " -0.001928428803384269\n",
       " -0.002521431174944426\n",
       "  ⋮\n",
       " -0.002733164882080448\n",
       " -0.002114706567495996\n",
       " -0.002698186542176969\n",
       " -0.0025415629244365185\n",
       " -0.0023537428927769724\n",
       " -0.0024544279774257466\n",
       " -0.002326064414470019\n",
       " -0.0024598996989530202\n",
       " -0.0022465539840096247"
      ]
     },
     "metadata": {},
     "output_type": "display_data"
    }
   ],
   "source": [
    "q = FEM.solveDisplacement(K, f)"
   ]
  },
  {
   "cell_type": "code",
   "execution_count": 11,
   "metadata": {},
   "outputs": [
    {
     "data": {
      "text/plain": [
       "Main.FEM.StressField([[1.1764817457943482; 0.024811924406920136; … ; 0.0; 0.0;;], [2.5698583610761796; 0.7307042910178587; … ; 0.0; 0.0;;], [0.0003532207989150188; -0.999275557915606; … ; 0.0; 0.0;;], [0.07077221827802083; -0.16643702948735903; … ; 0.0; 0.0;;], [1.1781578060113356; 0.025576871883074087; … ; 0.0; 0.0;;], [8.581116514002684; -1.4267074622964628; … ; 0.0; 0.0;;], [-0.25194795431721895; 1.511248418512405; … ; 0.0; 0.0;;], [1.900193523768094; -1.031258346318296; … ; 0.0; 0.0;;], [0.9598478529155505; -0.5217271270928586; … ; 0.0; 0.0;;], [-0.003835990268033891; -1.0005708156524071; … ; 0.0; 0.0;;]  …  [1.0066158016559963; -1.7542059674044443; … ; 0.0; 0.0;;], [4.805610998024951; -3.091488834843131; … ; 0.0; 0.0;;], [1.7312949590857014; 0.03526029623717602; … ; 0.0; 0.0;;], [-1.04441823875217; -0.9745653614724658; … ; 0.0; 0.0;;], [3.270132170066172; -0.1505168297952738; … ; 0.0; 0.0;;], [0.13382653160879301; 0.03892508373052909; … ; 0.0; 0.0;;], [2.5797230110220046; 0.726985823960098; … ; 0.0; 0.0;;], [2.7006924567907586; 0.865498847969217; … ; 0.0; 0.0;;], [6.528097710515196; -2.259901368600735; … ; 0.0; 0.0;;], [3.123091637664828; -0.5671084590459599; … ; 0.0; 0.0;;]], [9, 10, 11, 12, 13, 14, 15, 16, 17, 18  …  324, 325, 326, 327, 328, 329, 330, 331, 332, 333], 1)"
      ]
     },
     "metadata": {},
     "output_type": "display_data"
    }
   ],
   "source": [
    "S = FEM.solveStress(problem, q)"
   ]
  },
  {
   "cell_type": "code",
   "execution_count": 12,
   "metadata": {},
   "outputs": [],
   "source": [
    "gmsh.option.setNumber(\"View.IntervalsType\", 3)\n",
    "gmsh.option.setNumber(\"View.VectorType\", 5)\n",
    "gmsh.option.setString(\"View.Format\", \"%.6g\")"
   ]
  },
  {
   "cell_type": "code",
   "execution_count": 13,
   "metadata": {},
   "outputs": [
    {
     "data": {
      "text/plain": [
       "\"uvec..ok\""
      ]
     },
     "metadata": {},
     "output_type": "display_data"
    },
    {
     "data": {
      "text/plain": [
       "\"ux..ok\""
      ]
     },
     "metadata": {},
     "output_type": "display_data"
    },
    {
     "data": {
      "text/plain": [
       "\"uy..ok\""
      ]
     },
     "metadata": {},
     "output_type": "display_data"
    },
    {
     "data": {
      "text/plain": [
       "\"uz..ok\""
      ]
     },
     "metadata": {},
     "output_type": "display_data"
    },
    {
     "data": {
      "text/plain": [
       "\"s..ok\""
      ]
     },
     "metadata": {},
     "output_type": "display_data"
    },
    {
     "data": {
      "text/plain": [
       "\"s..ok\""
      ]
     },
     "metadata": {},
     "output_type": "display_data"
    },
    {
     "data": {
      "text/plain": [
       "\"sx..ok\""
      ]
     },
     "metadata": {},
     "output_type": "display_data"
    },
    {
     "data": {
      "text/plain": [
       "\"sy..ok\""
      ]
     },
     "metadata": {},
     "output_type": "display_data"
    },
    {
     "data": {
      "text/plain": [
       "\"sz..ok\""
      ]
     },
     "metadata": {},
     "output_type": "display_data"
    },
    {
     "data": {
      "text/plain": [
       "\"sxy..ok\""
      ]
     },
     "metadata": {},
     "output_type": "display_data"
    },
    {
     "data": {
      "text/plain": [
       "\"syz..ok\""
      ]
     },
     "metadata": {},
     "output_type": "display_data"
    },
    {
     "data": {
      "text/plain": [
       "\"szx..ok\""
      ]
     },
     "metadata": {},
     "output_type": "display_data"
    },
    {
     "name": "stdout",
     "output_type": "stream",
     "text": [
      "Info    : Running Plugin(Smooth)...\n",
      "Info    : Done running Plugin(Smooth)\n",
      "Info    : Running Plugin(Smooth)...\n",
      "Info    : Done running Plugin(Smooth)\n",
      "Info    : Running Plugin(Smooth)...\n",
      "Info    : Done running Plugin(Smooth)\n",
      "Info    : Running Plugin(Smooth)...\n",
      "Info    : Done running Plugin(Smooth)\n",
      "Info    : Running Plugin(Smooth)...\n",
      "Info    : Done running Plugin(Smooth)\n",
      "Info    : Running Plugin(Smooth)...\n",
      "Info    : Done running Plugin(Smooth)\n",
      "Info    : Running Plugin(Smooth)...\n",
      "Info    : Done running Plugin(Smooth)\n"
     ]
    },
    {
     "data": {
      "text/plain": [
       "12"
      ]
     },
     "metadata": {},
     "output_type": "display_data"
    }
   ],
   "source": [
    "u = FEM.showDoFResults(problem, q, \"uvec\", name=\"uvec\", visible=false)\n",
    "ux = FEM.showDoFResults(problem, q, \"ux\", name=\"ux\", visible=false)\n",
    "uy = FEM.showDoFResults(problem, q, \"uy\", name=\"uy\", visible=false)\n",
    "uz = FEM.showDoFResults(problem, q, \"uz\", name=\"uz\", visible=false)\n",
    "s = FEM.showStressResults(problem, S, \"s\", name=\"σ red\", visible=false, smooth=false)\n",
    "ss = FEM.showStressResults(problem, S, \"s\", name=\"σ red smooth\", visible=true, smooth=true)\n",
    "sx = FEM.showStressResults(problem, S, \"sx\", name=\"σx\", visible=false, smooth=true)\n",
    "sy = FEM.showStressResults(problem, S, \"sy\", name=\"σy\", visible=false, smooth=true)\n",
    "sz = FEM.showStressResults(problem, S, \"sz\", name=\"σz\", visible=false, smooth=true)\n",
    "sxy = FEM.showStressResults(problem, S, \"sxy\", name=\"τxy\", visible=false, smooth=true)\n",
    "syz = FEM.showStressResults(problem, S, \"syz\", name=\"τyz\", visible=false, smooth=true)\n",
    "szx = FEM.showStressResults(problem, S, \"szx\", name=\"τzx\", visible=false, smooth=true)"
   ]
  },
  {
   "cell_type": "code",
   "execution_count": 14,
   "metadata": {},
   "outputs": [],
   "source": [
    "FEM.plotOnPath(problem, \"path\", s, 100, name=\"σred\", visible=false);"
   ]
  },
  {
   "cell_type": "code",
   "execution_count": 15,
   "metadata": {},
   "outputs": [],
   "source": [
    "#gmsh.option.setNumber(\"PostProcessing.Binary\", 1)\n",
    "#gmsh.option.setNumber(\"PostProcessing.SaveMesh\", 1)\n",
    "\n",
    "#gmsh.write(\"rect.msh\")\n",
    "#gmsh.write(\"rect.opt\")\n",
    "#gmsh.view.write(4, \"rect.pos\")"
   ]
  },
  {
   "cell_type": "code",
   "execution_count": 16,
   "metadata": {},
   "outputs": [
    {
     "name": "stdout",
     "output_type": "stream",
     "text": [
      "-------------------------------------------------------\n",
      "Version       : 4.12.2\n",
      "License       : GNU General Public License\n",
      "Build OS      : Linux64-sdk\n",
      "Build date    : 20240121\n",
      "Build host    : gmsh.info\n",
      "Build options : 64Bit ALGLIB[contrib] ANN[contrib] Bamg Blas[petsc] Blossom Cgns DIntegration Dlopen DomHex Eigen[contrib] Fltk Gmm[contrib] Hxt Jpeg Kbipack Lapack[petsc] LinuxJoystick MathEx[contrib] Med Mesh Metis[contrib] Mmg Mpeg Netgen ONELAB ONELABMetamodel OpenCASCADE OpenCASCADE-CAF OpenGL OpenMP OptHom PETSc Parser Plugins Png Post QuadMeshingTools QuadTri Solver TetGen/BR Voro++[contrib] WinslowUntangler Zlib\n",
      "FLTK version  : 1.4.0\n",
      "PETSc version : 3.14.4 (real arithmtic)\n",
      "OCC version   : 7.7.2\n",
      "MED version   : 4.1.0\n",
      "Packaged by   : geuzaine\n",
      "Web site      : https://gmsh.info\n",
      "Issue tracker : https://gitlab.onelab.info/gmsh/gmsh/issues\n",
      "-------------------------------------------------------\n"
     ]
    }
   ],
   "source": [
    "gmsh.fltk.run()"
   ]
  },
  {
   "cell_type": "code",
   "execution_count": 17,
   "metadata": {
    "slideshow": {
     "slide_type": ""
    },
    "tags": []
   },
   "outputs": [],
   "source": [
    "gmsh.finalize()"
   ]
  }
 ],
 "metadata": {
  "kernelspec": {
   "display_name": "Julia 1.10.1",
   "language": "julia",
   "name": "julia-1.10"
  },
  "language_info": {
   "file_extension": ".jl",
   "mimetype": "application/julia",
   "name": "julia",
   "version": "1.10.1"
  },
  "varInspector": {
   "cols": {
    "lenName": 16,
    "lenType": 16,
    "lenVar": 40
   },
   "kernels_config": {
    "python": {
     "delete_cmd_postfix": "",
     "delete_cmd_prefix": "del ",
     "library": "var_list.py",
     "varRefreshCmd": "print(var_dic_list())"
    },
    "r": {
     "delete_cmd_postfix": ") ",
     "delete_cmd_prefix": "rm(",
     "library": "var_list.r",
     "varRefreshCmd": "cat(var_dic_list()) "
    }
   },
   "types_to_exclude": [
    "module",
    "function",
    "builtin_function_or_method",
    "instance",
    "_Feature"
   ],
   "window_display": false
  }
 },
 "nbformat": 4,
 "nbformat_minor": 4
}
