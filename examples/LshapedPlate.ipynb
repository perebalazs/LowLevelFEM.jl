{
 "cells": [
  {
   "cell_type": "code",
   "execution_count": 19,
   "metadata": {},
   "outputs": [],
   "source": [
    "import LowLevelFEM as FEM\n",
    "using LowLevelFEM\n",
    "\n",
    "gmsh.initialize()"
   ]
  },
  {
   "cell_type": "code",
   "execution_count": 20,
   "metadata": {},
   "outputs": [
    {
     "name": "stdout",
     "output_type": "stream",
     "text": [
      "Info    : Reading 'LshapedPlate2.geo'...\n",
      "Info    : Meshing 1D...\n",
      "Info    : [  0%] Meshing curve 1 (Line)\n",
      "Info    : [ 20%] Meshing curve 2 (Line)\n",
      "Info    : [ 30%] Meshing curve 3 (Line)\n",
      "Info    : [ 50%] Meshing curve 4 (Circle)\n",
      "Info    : [ 60%] Meshing curve 5 (Line)\n",
      "Info    : [ 80%] Meshing curve 6 (Line)\n",
      "Info    : [ 90%] Meshing curve 7 (Line)\n",
      "Info    : Done meshing 1D (Wall 0.0112252s, CPU 0.006925s)\n",
      "Info    : Meshing 2D...\n",
      "Info    : Meshing surface 1 (Plane, Frontal-Delaunay)\n",
      "Info    : Done meshing 2D (Wall 0.00859443s, CPU 0.007916s)\n",
      "Info    : Meshing order 4 (curvilinear on)...\n",
      "Info    : [  0%] Meshing curve 1 order 4\n",
      "Info    : [ 20%] Meshing curve 2 order 4\n",
      "Info    : [ 30%] Meshing curve 3 order 4\n",
      "Info    : [ 40%] Meshing curve 4 order 4\n",
      "Info    : [ 60%] Meshing curve 5 order 4\n",
      "Info    : [ 70%] Meshing curve 6 order 4\n",
      "Info    : [ 80%] Meshing curve 7 order 4\n",
      "Info    : [ 90%] Meshing surface 1 order 4\n",
      "Info    : Surface mesh: worst distortion = 0.776535 (0 elements in ]0, 0.2]); worst gamma = 0.746895\n",
      "Info    : Done meshing order 4 (Wall 0.00807718s, CPU 0.007621s)\n",
      "Info    : Optimizing mesh (HighOrder)...\n",
      "Info    : Optimizing high-order mesh...\n",
      "Info    : Optimizing mesh...\n",
      "Info    : Computing connectivity and bad elements for entity 1...\n",
      "Info    : Starting patch generation from 0 bad elements...\n",
      "Info    : Constructing 0 primary patches\n",
      "Info    : Computing patch connectivity...\n",
      "Info    : Identifying groups of primary patches...\n",
      "Info    : Merging primary patches into 0 patches...\n",
      "Info    : Computing boundaries for 0 patches...\n",
      "Info    : Generated 0 patches\n",
      "Info    : Optimization succeeded\n",
      "Info    : Done optimizing mesh (0.001189 s)\n",
      "Info    : Done optimizing high-order mesh (0.001189 s)\n",
      "Info    : Done optimizing mesh (Wall 0.00259591s, CPU 0.001367s)\n",
      "Info    : 2696 nodes 380 elements\n",
      "Info    : Done reading 'LshapedPlate2.geo'\n"
     ]
    }
   ],
   "source": [
    "#gmsh.open(\"LshapedPlate.geo\")\n",
    "gmsh.open(\"LshapedPlate2.geo\")"
   ]
  },
  {
   "cell_type": "code",
   "execution_count": 21,
   "metadata": {},
   "outputs": [
    {
     "name": "stdout",
     "output_type": "stream",
     "text": [
      "Info    : RCMK renumbering...\n",
      "Info    : Done RCMK renumbering (bandwidth is now 396)\n",
      "Info    : Mapping does not contain a node tag (2696) - incrementing after last provided tag (2695)\n"
     ]
    },
    {
     "data": {
      "text/plain": [
       "LowLevelFEM.Problem(\"Lshape\", \"PlaneStress\", 2, 2, LowLevelFEM.Material[LowLevelFEM.Material(\"body\", 200000.0, 0.3, 7.85e-9, 45.0, 4.2e8, 1.2e-5)], 1.0, 2695)"
      ]
     },
     "metadata": {},
     "output_type": "display_data"
    }
   ],
   "source": [
    "mat = FEM.material(\"body\", E=2.e5, ν=0.3)\n",
    "problem = FEM.Problem([mat], type=\"PlaneStress\", thickness=1, bandwidth=\"none\")"
   ]
  },
  {
   "cell_type": "code",
   "execution_count": 22,
   "metadata": {},
   "outputs": [
    {
     "data": {
      "text/plain": [
       "(\"load\", 0, -1, 0)"
      ]
     },
     "metadata": {},
     "output_type": "display_data"
    }
   ],
   "source": [
    "bc1 = FEM.displacementConstraint(\"fix\", ux=0, uy=0)\n",
    "ld1 = FEM.load(\"load\", fy=-1)"
   ]
  },
  {
   "cell_type": "code",
   "execution_count": 23,
   "metadata": {},
   "outputs": [
    {
     "name": "stdout",
     "output_type": "stream",
     "text": [
      "-------------------------------------------------------\n",
      "Version       : 4.13.1\n",
      "License       : GNU General Public License\n",
      "Build OS      : Linux64-sdk\n",
      "Build date    : 19700101\n",
      "Build host    : amdci7.julia.csail.mit.edu\n",
      "Build options : 64Bit ALGLIB[contrib] ANN[contrib] Bamg Blossom Cairo DIntegration Dlopen DomHex Eigen[contrib] Fltk GMP Gmm[contrib] Hxt Jpeg Kbipack LinuxJoystick MathEx[contrib] Mesh Metis[contrib] Mmg Mpeg Netgen Nii2mesh ONELAB ONELABMetamodel OpenCASCADE OpenCASCADE-CAF OpenGL OpenMP OptHom Parser Plugins Png Post QuadMeshingTools QuadTri Solver TetGen/BR TinyXML2[contrib] Untangle Voro++[contrib] WinslowUntangler Zlib\n",
      "FLTK version  : 1.3.8\n",
      "OCC version   : 7.7.2\n",
      "Packaged by   : root\n",
      "Web site      : https://gmsh.info\n",
      "Issue tracker : https://gitlab.onelab.info/gmsh/gmsh/issues\n",
      "-------------------------------------------------------\n"
     ]
    },
    {
     "name": "stderr",
     "output_type": "stream",
     "text": [
      "XRequest.18: BadValue 0x0\n"
     ]
    }
   ],
   "source": [
    "gmsh.fltk.run()"
   ]
  },
  {
   "cell_type": "code",
   "execution_count": 24,
   "metadata": {},
   "outputs": [],
   "source": [
    "# Néhány láthatósági beállítás 0:kikapcs. 1:bekapcs.\n",
    "gmsh.option.setNumber(\"Geometry.CurveLabels\", 0)\n",
    "gmsh.option.setNumber(\"Geometry.Points\", 0)\n",
    "gmsh.option.setNumber(\"Geometry.Curves\", 0)\n",
    "gmsh.option.setNumber(\"Mesh.Points\", 0)\n",
    "gmsh.option.setNumber(\"Mesh.Lines\", 0)\n",
    "gmsh.option.setNumber(\"Mesh.SurfaceEdges\", 0)\n",
    "gmsh.option.setNumber(\"Mesh.NodeLabels\", 0)\n",
    "gmsh.option.setNumber(\"Mesh.LineLabels\", 0)\n",
    "gmsh.option.setNumber(\"Mesh.SurfaceLabels\", 0)"
   ]
  },
  {
   "cell_type": "code",
   "execution_count": 25,
   "metadata": {},
   "outputs": [
    {
     "data": {
      "text/plain": [
       "5390×5390 SparseArrays.SparseMatrixCSC{Float64, Int64} with 246660 stored entries:\n",
       "⎡⡿⣯⡉⣧⡿⢲⢖⠸⡅⢨⢀⢠⠘⢻⣟⡛⣋⢀⣿⣧⡓⢢⣰⢽⣡⠝⢃⢈⢀⠛⠃⠱⠞⣃⠀⠀⡀⡀⠀⠁⎤\n",
       "⎢⠧⣬⣿⣿⣿⣬⣬⣤⣴⣶⣦⣤⣦⣶⢭⣽⣵⣶⢿⣭⣥⣤⣭⣷⣧⣧⣤⣶⣧⣤⣤⣤⣥⣤⣤⣤⣤⣤⣤⣤⎥\n",
       "⎢⢻⣋⡛⣿⣿⣿⣿⢞⠷⠚⣿⠟⢛⠛⣛⠻⠻⠛⡛⢋⡟⢟⢿⠿⢟⡿⠿⠻⠻⠛⠟⠻⠛⢿⡟⠿⠿⠿⠻⠷⎥\n",
       "⎢⣘⡑⠂⣿⣻⢟⡻⣮⢤⡆⣤⢒⢥⡈⡶⠀⠀⠀⠀⡈⠤⠋⠁⠐⠈⠀⠀⠐⠉⠂⠀⠀⠈⠀⠁⠡⠀⠈⠄⠤⎥\n",
       "⎢⡁⣉⢰⣿⣹⠃⠠⠷⣿⣿⣎⠱⠠⢒⠠⠍⢎⣐⣀⡈⠀⢈⢀⠀⢁⠀⠠⢀⡀⠤⠤⠠⠀⠁⠀⠠⠄⠲⠠⠰⎥\n",
       "⎢⠀⣐⠈⣿⣿⠟⢠⢛⢎⡙⠻⣦⣘⢉⠒⡈⠯⠹⢐⢀⠸⠆⢒⡀⣊⡷⠐⠄⠠⠤⠈⠏⠠⠉⠬⠄⠀⠀⠇⠀⎥\n",
       "⎢⣶⣀⢨⣿⣿⠐⡁⠳⢠⢂⡖⢘⡿⣯⣷⡖⠂⢤⡁⠀⠀⠀⢀⡍⢌⡛⠁⠀⠀⠐⠀⠀⡘⠀⡒⠠⠄⢀⠀⠀⎥\n",
       "⎢⣿⠹⣇⣷⣿⡘⠘⠋⡄⠆⡘⠠⢹⠿⢿⣷⡚⠀⢡⠁⡌⡃⡃⢄⠦⠀⠐⠪⢒⢀⢠⠀⠐⠀⢀⣀⠀⠂⡀⠀⎥\n",
       "⎢⠋⢘⢱⣿⣿⠂⠀⠀⢊⢱⣏⡃⠈⣄⠚⠈⠻⢆⡀⠈⠅⣠⠏⠐⡊⣐⠨⢇⣲⠂⠠⣐⠴⠊⠊⠄⠫⠢⠅⠀⎥\n",
       "⎢⠿⣿⡟⣷⡿⢈⡀⠠⡀⠸⠐⢐⠁⠈⠅⠒⡀⠈⠿⣧⡡⢬⡰⣦⢲⡈⠑⠈⠑⠤⠔⠹⠇⡠⠀⠒⠀⠒⠀⠁⎥\n",
       "⎢⠹⣈⠁⣿⣿⢍⡤⠃⡀⢀⠲⠆⠀⠀⠦⠩⠁⣡⡁⣎⠻⢆⡈⠱⣄⢌⠄⠞⢀⠬⢔⢀⠀⡂⠀⠑⠢⠂⡃⠧⎥\n",
       "⎢⣔⣞⢧⣿⣿⡗⢁⠀⠀⠐⠘⠰⡄⠴⠉⢌⢋⠁⠰⣮⢆⡈⡻⣮⡴⠄⡝⡐⠌⣪⠆⠀⡄⠑⠀⢠⢰⠰⠐⠤⎥\n",
       "⎢⣅⠞⠭⣿⣿⡵⠂⠀⠁⠐⢮⡼⣦⠱⠈⠃⢊⢨⡘⠲⡀⢝⠐⠏⠿⣧⡄⡅⣏⢀⢃⣠⣎⣔⢚⠩⠂⠅⠀⠬⎥\n",
       "⎢⡉⢐⢠⣿⣿⡃⢀⠀⠀⢂⠐⠄⠁⠀⡰⡀⠦⢆⡑⠀⣠⠅⢓⠩⠄⠭⢻⣶⡶⢪⡵⠅⠌⢙⠂⠀⠰⢒⢐⡃⎥\n",
       "⎢⣤⠐⠉⣿⣿⠂⠣⠀⠀⡌⠀⡆⢀⠀⠘⢐⠸⠚⠑⡄⡀⡔⡢⣡⠋⢙⡸⣋⣿⣿⣅⠙⢫⠁⡮⠅⡢⠃⢠⣡⎥\n",
       "⎢⢍⡀⠀⣿⣿⡁⠀⠀⠀⡃⡦⠄⠀⠀⠀⠒⢀⢢⣔⡁⠐⢑⠈⠁⠉⣰⠕⠏⣅⠙⢻⣶⡂⣈⣪⢼⣪⢗⡤⡄⎥\n",
       "⎢⠾⢡⠁⣿⣿⣄⠂⠀⠄⠀⡄⠂⠒⠈⠐⠀⡰⠃⠉⡡⠠⠠⢄⠉⢊⢽⣆⢁⠏⠒⡈⢨⡵⣯⣗⡢⣴⣯⡭⡄⎥\n",
       "⎢⠀⠀⠀⣿⣿⡍⠅⡀⠀⡀⠂⠇⠘⡈⠀⢰⠊⠄⢠⠀⢄⠀⠀⣀⡞⡐⠈⠀⠎⠏⣊⣞⠹⡹⣻⣾⣃⣯⠯⣡⎥\n",
       "⎢⠀⠨⠀⣿⣿⡇⡀⠀⢠⡁⠀⠀⠀⢁⠠⠀⠫⡂⢠⠀⠨⠂⢐⡒⠌⠄⢰⢂⠬⠊⢮⢞⡴⣿⡭⣼⣿⣿⣿⣧⎥\n",
       "⎣⠄⠀⠀⣿⢿⡆⠀⡅⢀⡂⠉⠁⠀⠀⠀⠈⠁⠁⠄⠀⠭⡌⠐⡄⡀⡄⠴⠰⠄⣲⠀⠯⠃⠯⠏⣣⠿⣿⢿⣷⎦"
      ]
     },
     "metadata": {},
     "output_type": "display_data"
    }
   ],
   "source": [
    "K = FEM.stiffnessMatrix(problem)"
   ]
  },
  {
   "cell_type": "code",
   "execution_count": 26,
   "metadata": {},
   "outputs": [
    {
     "data": {
      "text/plain": [
       "5390-element Vector{Float64}:\n",
       "  0.0\n",
       "  0.0\n",
       "  0.0\n",
       " -0.9722222222184878\n",
       "  0.0\n",
       " -0.9722222222269862\n",
       "  0.0\n",
       "  0.0\n",
       "  0.0\n",
       "  0.0\n",
       "  ⋮\n",
       "  0.0\n",
       "  0.0\n",
       "  0.0\n",
       "  0.0\n",
       "  0.0\n",
       "  0.0\n",
       "  0.0\n",
       "  0.0\n",
       "  0.0"
      ]
     },
     "metadata": {},
     "output_type": "display_data"
    }
   ],
   "source": [
    "f = FEM.loadVector(problem, [ld1])"
   ]
  },
  {
   "cell_type": "code",
   "execution_count": 27,
   "metadata": {},
   "outputs": [],
   "source": [
    "FEM.applyBoundaryConditions!(problem, K, f, [bc1])"
   ]
  },
  {
   "cell_type": "code",
   "execution_count": 28,
   "metadata": {},
   "outputs": [
    {
     "data": {
      "text/plain": [
       "5390-element Vector{Float64}:\n",
       " -0.008395346470201816\n",
       "  0.002689105071778009\n",
       " -0.009846943653964118\n",
       " -0.012108825842731721\n",
       " -0.0010369912756368793\n",
       " -0.012129417462599637\n",
       " -0.0018216407323847874\n",
       " -0.002942834445268107\n",
       " -0.0019284288033842697\n",
       " -0.0025214311749444255\n",
       "  ⋮\n",
       " -0.0027331648820804453\n",
       " -0.002114706567495997\n",
       " -0.002698186542176967\n",
       " -0.002541562924436518\n",
       " -0.002353742892776972\n",
       " -0.002454427977425746\n",
       " -0.0023260644144700183\n",
       " -0.00245989969895302\n",
       " -0.0022465539840096234"
      ]
     },
     "metadata": {},
     "output_type": "display_data"
    }
   ],
   "source": [
    "q = FEM.solveDisplacement(K, f)"
   ]
  },
  {
   "cell_type": "code",
   "execution_count": 29,
   "metadata": {},
   "outputs": [
    {
     "data": {
      "text/plain": [
       "LowLevelFEM.TensorField([[1.1764817457943337; 0.024811924406920136; … ; 0.0; 0.0;;], [2.569858361076523; 0.7307042910174584; … ; 0.0; 0.0;;], [0.00035322079853376126; -0.999275557915606; … ; 0.0; 0.0;;], [0.07077221827813496; -0.16643702948738823; … ; 0.0; 0.0;;], [1.1781578060114066; 0.025576871883090768; … ; 0.0; 0.0;;], [8.581116514002987; -1.4267074622964628; … ; 0.0; 0.0;;], [-0.25194795431719036; 1.511248418512405; … ; 0.0; 0.0;;], [1.9001935237679985; -1.031258346318296; … ; 0.0; 0.0;;], [0.9598478529155754; -0.5217271270929253; … ; 0.0; 0.0;;], [-0.0038359902679195104; -1.0005708156524071; … ; 0.0; 0.0;;]  …  [1.00661580165489; -1.754205967405245; … ; 0.0; 0.0;;], [4.805610998024417; -3.0914888348432648; … ; 0.0; 0.0;;], [1.7312949590861206; 0.03526029623697586; … ; 0.0; 0.0;;], [-1.0444182387505307; -0.9745653614727326; … ; 0.0; 0.0;;], [3.270132170065791; -0.15051682979567413; … ; 0.0; 0.0;;], [0.13382653160878522; 0.038925083730512414; … ; 0.0; 0.0;;], [2.57972301102148; 0.726985823959631; … ; 0.0; 0.0;;], [2.7006924567907586; 0.865498847969217; … ; 0.0; 0.0;;], [6.528097710515652; -2.259901368600735; … ; 0.0; 0.0;;], [3.1230916376640083; -0.5671084590462268; … ; 0.0; 0.0;;]], [9, 10, 11, 12, 13, 14, 15, 16, 17, 18  …  324, 325, 326, 327, 328, 329, 330, 331, 332, 333], 1, \"s\")"
      ]
     },
     "metadata": {},
     "output_type": "display_data"
    }
   ],
   "source": [
    "S = FEM.solveStress(problem, q)"
   ]
  },
  {
   "cell_type": "code",
   "execution_count": 30,
   "metadata": {},
   "outputs": [
    {
     "data": {
      "text/plain": [
       "24255×1 Matrix{Float64}:\n",
       " -0.008365533339981999\n",
       "  0.015854709947396014\n",
       "  0.0\n",
       "  0.015854709947396014\n",
       " -0.007898839025188672\n",
       "  0.0\n",
       "  0.0\n",
       "  0.0\n",
       "  0.0\n",
       " -0.5184083661672296\n",
       "  ⋮\n",
       "  4.383001165907136\n",
       " -0.021648769980768694\n",
       "  0.0\n",
       " -0.021648769980768694\n",
       "  7.198650143452078\n",
       "  0.0\n",
       "  0.0\n",
       "  0.0\n",
       "  0.0"
      ]
     },
     "metadata": {},
     "output_type": "display_data"
    }
   ],
   "source": [
    "SDoF = FEM.solveStress(problem, q, DoFResults=true)"
   ]
  },
  {
   "cell_type": "code",
   "execution_count": 31,
   "metadata": {},
   "outputs": [],
   "source": [
    "gmsh.option.setNumber(\"View.IntervalsType\", 3)\n",
    "gmsh.option.setNumber(\"View.VectorType\", 5)"
   ]
  },
  {
   "cell_type": "code",
   "execution_count": 32,
   "metadata": {},
   "outputs": [
    {
     "name": "stdout",
     "output_type": "stream",
     "text": [
      "Info    : Running Plugin(Smooth)...\n",
      "Info    : Done running Plugin(Smooth)\n",
      "Info    : Running Plugin(Smooth)...\n",
      "Info    : Done running Plugin(Smooth)\n",
      "Info    : Running Plugin(Smooth)...\n",
      "Info    : Done running Plugin(Smooth)\n",
      "Info    : Running Plugin(Smooth)...\n",
      "Info    : Done running Plugin(Smooth)\n",
      "Info    : Running Plugin(Smooth)...\n",
      "Info    : Done running Plugin(Smooth)\n",
      "Info    : Running Plugin(Smooth)...\n",
      "Info    : Done running Plugin(Smooth)\n",
      "Info    : Running Plugin(Smooth)...\n",
      "Info    : Done running Plugin(Smooth)\n",
      "Info    : Running Plugin(Smooth)...\n",
      "Info    : Done running Plugin(Smooth)\n"
     ]
    },
    {
     "data": {
      "text/plain": [
       "14"
      ]
     },
     "metadata": {},
     "output_type": "display_data"
    }
   ],
   "source": [
    "u = FEM.showDoFResults(problem, q, \"uvec\", name=\"uvec\", visible=false)\n",
    "ux = FEM.showDoFResults(problem, q, \"ux\", name=\"ux\", visible=false)\n",
    "uy = FEM.showDoFResults(problem, q, \"uy\", name=\"uy\", visible=false)\n",
    "uz = FEM.showDoFResults(problem, q, \"uz\", name=\"uz\", visible=false)\n",
    "s = FEM.showStressResults(problem, S, \"s\", name=\"σ\", visible=false, smooth=false)\n",
    "ss = FEM.showStressResults(problem, S, \"s\", name=\"σ smooth\", visible=true, smooth=true)\n",
    "sdof = FEM.showDoFResults(problem, SDoF, \"seqv\")\n",
    "sred = FEM.showStressResults(problem, S, \"seqv\", name=\"σ red\", visible=false, smooth=false)\n",
    "ssred = FEM.showStressResults(problem, S, \"seqv\", name=\"σ red smooth\", visible=false, smooth=true)\n",
    "sx = FEM.showStressResults(problem, S, \"sx\", name=\"σx\", visible=false, smooth=true)\n",
    "sy = FEM.showStressResults(problem, S, \"sy\", name=\"σy\", visible=false, smooth=true)\n",
    "sz = FEM.showStressResults(problem, S, \"sz\", name=\"σz\", visible=false, smooth=true)\n",
    "sxy = FEM.showStressResults(problem, S, \"sxy\", name=\"τxy\", visible=false, smooth=true)\n",
    "syz = FEM.showStressResults(problem, S, \"syz\", name=\"τyz\", visible=false, smooth=true)\n",
    "szx = FEM.showStressResults(problem, S, \"szx\", name=\"τzx\", visible=false, smooth=true)"
   ]
  },
  {
   "cell_type": "code",
   "execution_count": 33,
   "metadata": {},
   "outputs": [
    {
     "data": {
      "text/plain": [
       "15"
      ]
     },
     "metadata": {},
     "output_type": "display_data"
    }
   ],
   "source": [
    "FEM.plotOnPath(problem, \"path\", s, name=\"σred\", visible=false)"
   ]
  },
  {
   "cell_type": "code",
   "execution_count": 34,
   "metadata": {},
   "outputs": [],
   "source": [
    "#gmsh.option.setNumber(\"PostProcessing.Binary\", 1)\n",
    "#gmsh.option.setNumber(\"PostProcessing.SaveMesh\", 1)\n",
    "\n",
    "#gmsh.write(\"rect.msh\")\n",
    "#gmsh.write(\"rect.opt\")\n",
    "#gmsh.view.write(4, \"rect.pos\")"
   ]
  },
  {
   "cell_type": "code",
   "execution_count": 35,
   "metadata": {},
   "outputs": [
    {
     "name": "stdout",
     "output_type": "stream",
     "text": [
      "-------------------------------------------------------\n",
      "Version       : 4.13.1\n",
      "License       : GNU General Public License\n",
      "Build OS      : Linux64-sdk\n",
      "Build date    : 19700101\n",
      "Build host    : amdci7.julia.csail.mit.edu\n",
      "Build options : 64Bit ALGLIB[contrib] ANN[contrib] Bamg Blossom Cairo DIntegration Dlopen DomHex Eigen[contrib] Fltk GMP Gmm[contrib] Hxt Jpeg Kbipack LinuxJoystick MathEx[contrib] Mesh Metis[contrib] Mmg Mpeg Netgen Nii2mesh ONELAB ONELABMetamodel OpenCASCADE OpenCASCADE-CAF OpenGL OpenMP OptHom Parser Plugins Png Post QuadMeshingTools QuadTri Solver TetGen/BR TinyXML2[contrib] Untangle Voro++[contrib] WinslowUntangler Zlib\n",
      "FLTK version  : 1.3.8\n",
      "OCC version   : 7.7.2\n",
      "Packaged by   : root\n",
      "Web site      : https://gmsh.info\n",
      "Issue tracker : https://gitlab.onelab.info/gmsh/gmsh/issues\n",
      "-------------------------------------------------------\n"
     ]
    },
    {
     "name": "stderr",
     "output_type": "stream",
     "text": [
      "XRequest.18: BadValue 0x0\n"
     ]
    }
   ],
   "source": [
    "gmsh.fltk.run()"
   ]
  },
  {
   "cell_type": "code",
   "execution_count": 36,
   "metadata": {
    "slideshow": {
     "slide_type": ""
    },
    "tags": []
   },
   "outputs": [],
   "source": [
    "gmsh.finalize()"
   ]
  }
 ],
 "metadata": {
  "kernelspec": {
   "display_name": "Julia 1.11.1",
   "language": "julia",
   "name": "julia-1.11"
  },
  "language_info": {
   "file_extension": ".jl",
   "mimetype": "application/julia",
   "name": "julia",
   "version": "1.11.1"
  },
  "varInspector": {
   "cols": {
    "lenName": 16,
    "lenType": 16,
    "lenVar": 40
   },
   "kernels_config": {
    "python": {
     "delete_cmd_postfix": "",
     "delete_cmd_prefix": "del ",
     "library": "var_list.py",
     "varRefreshCmd": "print(var_dic_list())"
    },
    "r": {
     "delete_cmd_postfix": ") ",
     "delete_cmd_prefix": "rm(",
     "library": "var_list.r",
     "varRefreshCmd": "cat(var_dic_list()) "
    }
   },
   "types_to_exclude": [
    "module",
    "function",
    "builtin_function_or_method",
    "instance",
    "_Feature"
   ],
   "window_display": false
  }
 },
 "nbformat": 4,
 "nbformat_minor": 4
}
