{
 "cells": [
  {
   "cell_type": "code",
   "execution_count": 19,
   "metadata": {},
   "outputs": [],
   "source": [
    "import LowLevelFEM as FEM\n",
    "using LowLevelFEM\n",
    "\n",
    "gmsh.initialize()"
   ]
  },
  {
   "cell_type": "code",
   "execution_count": 20,
   "metadata": {},
   "outputs": [
    {
     "name": "stdout",
     "output_type": "stream",
     "text": [
      "Info    : Reading 'LshapedPlate2.geo'...\n",
      "Info    : Meshing 1D...\n",
      "Info    : [  0%] Meshing curve 1 (Line)\n",
      "Info    : [ 20%] Meshing curve 2 (Line)\n",
      "Info    : [ 30%] Meshing curve 3 (Line)\n",
      "Info    : [ 50%] Meshing curve 4 (Circle)\n",
      "Info    : [ 60%] Meshing curve 5 (Line)\n",
      "Info    : [ 80%] Meshing curve 6 (Line)\n",
      "Info    : [ 90%] Meshing curve 7 (Line)\n",
      "Info    : Done meshing 1D (Wall 0.0527424s, CPU 0.049523s)\n",
      "Info    : Meshing 2D...\n",
      "Info    : Meshing surface 1 (Plane, Frontal-Delaunay)\n",
      "Info    : Done meshing 2D (Wall 0.00703015s, CPU 0.006987s)\n",
      "Info    : Meshing order 4 (curvilinear on)...\n",
      "Info    : [  0%] Meshing curve 1 order 4\n",
      "Info    : [ 20%] Meshing curve 2 order 4\n",
      "Info    : [ 30%] Meshing curve 3 order 4\n",
      "Info    : [ 40%] Meshing curve 4 order 4\n",
      "Info    : [ 60%] Meshing curve 5 order 4\n",
      "Info    : [ 70%] Meshing curve 6 order 4\n",
      "Info    : [ 80%] Meshing curve 7 order 4\n",
      "Info    : [ 90%] Meshing surface 1 order 4\n",
      "Info    : Surface mesh: worst distortion = 0.639428 (0 elements in ]0, 0.2]); worst gamma = 0.690129\n",
      "Info    : Done meshing order 4 (Wall 0.00856725s, CPU 0.008219s)\n",
      "Info    : Optimizing mesh (HighOrder)...\n",
      "Info    : Optimizing high-order mesh...\n",
      "Info    : Optimizing mesh...\n",
      "Info    : Computing connectivity and bad elements for entity 1...\n",
      "Info    : Starting patch generation from 0 bad elements...\n",
      "Info    : Constructing 0 primary patches\n",
      "Info    : Computing patch connectivity...\n",
      "Info    : Identifying groups of primary patches...\n",
      "Info    : Merging primary patches into 0 patches...\n",
      "Info    : Computing boundaries for 0 patches...\n",
      "Info    : Generated 0 patches\n",
      "Info    : Optimization succeeded\n",
      "Info    : Done optimizing mesh (0.001437 s)\n",
      "Info    : Done optimizing high-order mesh (0.001437 s)\n",
      "Info    : Done optimizing mesh (Wall 0.0249333s, CPU 0.001568s)\n",
      "Info    : 2410 nodes 342 elements\n",
      "Info    : Done reading 'LshapedPlate2.geo'\n"
     ]
    }
   ],
   "source": [
    "#gmsh.open(\"LshapedPlate.geo\")\n",
    "gmsh.open(\"LshapedPlate2.geo\")"
   ]
  },
  {
   "cell_type": "code",
   "execution_count": 21,
   "metadata": {},
   "outputs": [
    {
     "name": "stdout",
     "output_type": "stream",
     "text": [
      "Info    : RCMK renumbering...\n",
      "Info    : Done RCMK renumbering (bandwidth is now 234)\n",
      "Info    : Mapping does not contain a node tag (2410) - incrementing after last provided tag (2409)\n"
     ]
    },
    {
     "data": {
      "text/plain": [
       "LowLevelFEM.Problem(\"Lshape\", :PlaneStress, 2, 2, LowLevelFEM.Material[LowLevelFEM.Material(\"body\", 200000.0, 0.3, 7.85e-9, 45.0, 4.2e8, 1.2e-5)], 1.0, 2409)"
      ]
     },
     "metadata": {},
     "output_type": "display_data"
    }
   ],
   "source": [
    "mat = FEM.material(\"body\", E=2.e5, ν=0.3)\n",
    "problem = FEM.Problem([mat], type=:PlaneStress, thickness=1, bandwidth=:none)"
   ]
  },
  {
   "cell_type": "code",
   "execution_count": 22,
   "metadata": {},
   "outputs": [
    {
     "data": {
      "text/plain": [
       "(\"load\", 0, -1, 0)"
      ]
     },
     "metadata": {},
     "output_type": "display_data"
    }
   ],
   "source": [
    "bc1 = FEM.displacementConstraint(\"fix\", ux=0, uy=0)\n",
    "ld1 = FEM.load(\"load\", fy=-1)"
   ]
  },
  {
   "cell_type": "code",
   "execution_count": 23,
   "metadata": {},
   "outputs": [
    {
     "name": "stdout",
     "output_type": "stream",
     "text": [
      "-------------------------------------------------------\n",
      "Version       : 4.13.1\n",
      "License       : GNU General Public License\n",
      "Build OS      : Linux64-sdk\n",
      "Build date    : 19700101\n",
      "Build host    : amdci7.julia.csail.mit.edu\n",
      "Build options : 64Bit ALGLIB[contrib] ANN[contrib] Bamg Blossom Cairo DIntegration Dlopen DomHex Eigen[contrib] Fltk GMP Gmm[contrib] Hxt Jpeg Kbipack LinuxJoystick MathEx[contrib] Mesh Metis[contrib] Mmg Mpeg Netgen Nii2mesh ONELAB ONELABMetamodel OpenCASCADE OpenCASCADE-CAF OpenGL OpenMP OptHom Parser Plugins Png Post QuadMeshingTools QuadTri Solver TetGen/BR TinyXML2[contrib] Untangle Voro++[contrib] WinslowUntangler Zlib\n",
      "FLTK version  : 1.3.8\n",
      "OCC version   : 7.7.2\n",
      "Packaged by   : root\n",
      "Web site      : https://gmsh.info\n",
      "Issue tracker : https://gitlab.onelab.info/gmsh/gmsh/issues\n",
      "-------------------------------------------------------\n"
     ]
    },
    {
     "name": "stderr",
     "output_type": "stream",
     "text": [
      "XRequest.18: BadValue 0x0\n"
     ]
    }
   ],
   "source": [
    "gmsh.fltk.run()"
   ]
  },
  {
   "cell_type": "code",
   "execution_count": 24,
   "metadata": {},
   "outputs": [],
   "source": [
    "# Néhány láthatósági beállítás 0:kikapcs. 1:bekapcs.\n",
    "gmsh.option.setNumber(\"Geometry.CurveLabels\", 0)\n",
    "gmsh.option.setNumber(\"Geometry.Points\", 0)\n",
    "gmsh.option.setNumber(\"Geometry.Curves\", 0)\n",
    "gmsh.option.setNumber(\"Mesh.Points\", 0)\n",
    "gmsh.option.setNumber(\"Mesh.Lines\", 0)\n",
    "gmsh.option.setNumber(\"Mesh.SurfaceEdges\", 0)\n",
    "gmsh.option.setNumber(\"Mesh.NodeLabels\", 0)\n",
    "gmsh.option.setNumber(\"Mesh.LineLabels\", 0)\n",
    "gmsh.option.setNumber(\"Mesh.SurfaceLabels\", 0)"
   ]
  },
  {
   "cell_type": "code",
   "execution_count": 25,
   "metadata": {},
   "outputs": [
    {
     "data": {
      "text/plain": [
       "4818×4818 SparseArrays.SparseMatrixCSC{Float64, Int64} with 220196 stored entries:\n",
       "⎡⡿⣯⡉⣟⣿⢁⡀⠤⠑⠄⢌⡅⢀⢸⠜⠙⣱⣛⡜⠺⣀⡣⢸⣜⣭⢫⢋⣯⣤⢄⣥⡜⠀⡁⢈⡄⠀⠀⠀⠀⎤\n",
       "⎢⣧⢬⣿⣿⣿⣬⣧⣤⣤⡦⣶⣷⣮⣶⢴⣤⣿⣽⣥⣴⡿⣿⣯⣭⡟⣼⣼⣭⣤⣾⣴⣤⣤⢬⣤⣤⡤⣤⣤⣤⎥\n",
       "⎢⠟⢛⡛⣿⣿⣿⡻⠿⣿⡿⢻⠿⣿⡛⠿⣿⢟⣿⠻⠿⠛⠿⠿⠛⠿⠟⠚⠾⠿⠻⠿⠿⠿⠿⠿⠿⠿⠿⠿⠿⎥\n",
       "⎢⠀⡌⠉⣿⣿⡎⠿⣧⡰⣀⠭⠜⠋⠄⢀⣆⠀⠈⡈⠑⡐⡀⠀⡄⢀⣄⢀⠐⠤⠐⠮⠀⡲⠂⠀⠄⠁⡚⠠⠀⎥\n",
       "⎢⠑⠄⠠⡿⣿⡿⠐⢪⠟⣥⡪⠨⠝⠭⡠⠂⠐⠠⡄⠦⠄⠧⢠⠀⡈⠉⢀⠀⡄⠀⠀⢀⠀⠒⠐⠒⢀⠀⡀⢂⎥\n",
       "⎢⠆⠵⢼⣿⣿⡖⣃⠇⡊⡊⠻⣦⣀⠫⢁⡑⠂⠲⢤⢨⡡⣀⠲⠅⠳⡢⠀⠀⠠⠄⡀⠴⠂⠆⠠⠐⡀⠀⠀⠐⎥\n",
       "⎢⣀⣐⢪⣿⣿⠻⠋⠄⡗⡅⡤⡘⠿⣧⡬⣁⠀⣂⣌⠍⡌⠩⠴⠂⠀⢁⠲⠀⠀⠀⠖⠂⠈⠐⠂⠢⠆⠀⠈⠈⎥\n",
       "⎢⣖⠁⠐⣷⣿⣧⠠⢴⠠⠊⢅⠰⠆⢫⢻⣶⡈⢖⢁⢲⠄⠺⠀⠀⠀⡡⠄⣰⢀⠈⠣⢅⡰⠄⠁⠀⣈⠀⣁⡀⎥\n",
       "⎢⣵⢺⣟⣿⣿⣵⡀⠀⠐⡀⢨⡀⠠⢠⢢⢌⢻⣶⣂⡂⣔⠘⠛⠩⠁⠀⠴⠇⠈⠉⢀⣥⠀⠀⠄⢀⠄⠀⠀⣁⎥\n",
       "⎢⣲⡉⢁⣿⣿⡆⢆⠈⠠⡍⡀⣓⡆⠝⢡⣐⠨⠸⣻⣾⡅⠈⢫⠀⠀⢀⠈⡐⠐⡤⠴⡱⢆⡄⠀⠀⢀⣀⢐⡒⎥\n",
       "⎢⠤⡸⣿⣯⣿⡄⠐⠨⠤⡅⠁⢪⡆⡉⣠⡁⣐⠙⡁⠉⠿⢇⡀⠠⣀⠀⠀⢨⡔⣹⠘⡢⠰⠂⢴⢂⠀⡁⠀⠀⎥\n",
       "⎢⣒⢶⡏⣿⣿⠃⠀⠤⠀⠒⠜⠆⠰⠃⠀⠀⡟⡀⠋⠒⠀⡈⠻⣦⡏⠡⣢⡶⠧⠄⡦⣐⠀⢉⡐⠄⡄⠀⠀⠙⎥\n",
       "⎢⡧⣛⣛⣭⣿⠇⠀⢴⡆⠈⠹⡢⠄⢀⠄⡠⠁⠀⠀⢀⠀⠘⠏⡉⢿⣷⣌⠑⢀⡈⠄⣤⢷⠊⠀⢐⡄⠐⢠⠈⎥\n",
       "⎢⡯⣴⡖⣿⣺⡄⢀⠐⠀⠐⠀⠀⠘⠂⢀⣡⠴⠇⢂⠠⡀⣀⢨⡾⢆⠙⠿⢇⣠⣾⣠⠉⣈⠘⡈⣷⠊⠄⠬⠐⎥\n",
       "⎢⠀⢟⣠⣿⣿⡃⢀⠃⠀⠉⠀⠆⠀⠀⡀⠐⡆⠀⠐⡤⣔⣩⠉⠇⡀⠰⣠⣾⡿⣯⡉⠙⢦⢒⡎⢩⢋⡚⠀⠗⎥\n",
       "⎢⣁⠿⠐⣿⣿⡇⠊⠃⠀⢀⢀⡌⠸⠁⠍⢆⠄⣴⢔⡣⠲⡠⢈⢫⠀⣥⡄⠚⣇⠈⡿⣯⡒⠸⣕⠓⣫⠒⠂⣄⎥\n",
       "⎢⠄⠠⡀⣟⣿⡇⠸⠊⢠⠀⠨⠄⢂⠀⠐⠎⠀⠀⠈⠵⠰⠂⡄⢀⡹⠓⣂⠘⢨⢓⣘⡈⡻⣮⣞⡓⢩⠷⣵⡅⎥\n",
       "⎢⠂⠴⠀⣿⣿⡇⠀⠄⢰⠀⢀⠂⠨⡀⠁⠀⠀⢁⠀⠀⠰⢓⠐⠌⢀⢀⢦⣬⡎⣉⢵⠙⢾⠹⣻⣾⣻⣢⡬⡏⎥\n",
       "⎢⠀⠀⠀⣯⣿⡇⣡⠠⠀⠐⠀⠈⠈⠁⠂⠘⠀⠁⠀⢰⠄⠠⠀⠉⢀⠉⠊⠄⣫⠰⢫⠚⢧⡖⠻⣺⣻⣾⣟⡣⎥\n",
       "⎣⠀⠀⠀⣿⣿⡇⠀⠂⠠⢈⢀⠀⡂⠀⠁⠸⠄⢠⢰⠰⠀⠀⣄⠀⡀⠒⢂⠃⢤⠄⠈⢤⠕⠿⡦⠯⠿⡹⣻⣾⎦"
      ]
     },
     "metadata": {},
     "output_type": "display_data"
    }
   ],
   "source": [
    "K = FEM.stiffnessMatrix(problem)"
   ]
  },
  {
   "cell_type": "code",
   "execution_count": 26,
   "metadata": {},
   "outputs": [
    {
     "data": {
      "text/plain": [
       "4818-element Vector{Float64}:\n",
       "  0.0\n",
       "  0.0\n",
       "  0.0\n",
       " -0.9722222222184878\n",
       "  0.0\n",
       " -0.9722222222269862\n",
       "  0.0\n",
       "  0.0\n",
       "  0.0\n",
       "  0.0\n",
       "  ⋮\n",
       "  0.0\n",
       "  0.0\n",
       "  0.0\n",
       "  0.0\n",
       "  0.0\n",
       "  0.0\n",
       "  0.0\n",
       "  0.0\n",
       "  0.0"
      ]
     },
     "metadata": {},
     "output_type": "display_data"
    }
   ],
   "source": [
    "f = FEM.loadVector(problem, [ld1])"
   ]
  },
  {
   "cell_type": "code",
   "execution_count": 27,
   "metadata": {},
   "outputs": [],
   "source": [
    "FEM.applyBoundaryConditions!(problem, K, f, [bc1])"
   ]
  },
  {
   "cell_type": "code",
   "execution_count": 28,
   "metadata": {},
   "outputs": [
    {
     "data": {
      "text/plain": [
       "4818-element Vector{Float64}:\n",
       " -0.008395391622450232\n",
       "  0.00268911210427373\n",
       " -0.009846902193771016\n",
       " -0.012108761865174542\n",
       " -0.0010373744906061932\n",
       " -0.012129239981941653\n",
       " -0.001821601532843488\n",
       " -0.0029429178082407102\n",
       " -0.0019286162280682073\n",
       " -0.002521527030881709\n",
       "  ⋮\n",
       " -0.0010559236363628965\n",
       " -0.0014098629496088703\n",
       " -0.0010500320201841202\n",
       " -0.002271091178049029\n",
       " -0.004872519399289477\n",
       " -0.0022471660790247855\n",
       " -0.004685536770966526\n",
       " -0.002427164394947505\n",
       " -0.004675649690565988"
      ]
     },
     "metadata": {},
     "output_type": "display_data"
    }
   ],
   "source": [
    "q = FEM.solveDisplacement(K, f)"
   ]
  },
  {
   "cell_type": "code",
   "execution_count": 29,
   "metadata": {},
   "outputs": [
    {
     "data": {
      "text/plain": [
       "LowLevelFEM.TensorField([[-0.010412529985799175; -1.5674351533565578; … ; 0.0; 0.0;;], [5.0355384992804595; -3.3530486283557694; … ; 0.0; 0.0;;], [1.8604793410634235; 0.516682348422149; … ; 0.0; 0.0;;], [1.8617814063593998; 0.517552700201628; … ; 0.0; 0.0;;], [0.0016762289423857268; 0.0020927240002256787; … ; 0.0; 0.0;;], [-0.7579165555332374; 1.9209351154913867; … ; 0.0; 0.0;;], [-0.2518169759278668; 1.5111809991374754; … ; 0.0; 0.0;;], [0.09145619056477061; 0.02262376894246403; … ; 0.0; 0.0;;], [0.3796631626261628; 2.0201985704492293; … ; 0.0; 0.0;;], [-0.908436005901321; -0.8243235941332003; … ; 0.0; 0.0;;]  …  [0.3047856198550293; -0.411956526176785; … ; 0.0; 0.0;;], [13.375402475749596; -7.192518547424867; … ; 0.0; 0.0;;], [10.221241998366995; -3.1895019983472928; … ; 0.0; 0.0;;], [0.2811534152391908; -0.36957959423720854; … ; 0.0; 0.0;;], [2.3648739761707267; -0.3967433766101582; … ; 0.0; 0.0;;], [0.07935146496947487; -0.07112385850735689; … ; 0.0; 0.0;;], [-2.206389211766128; 0.6322095585783136; … ; 0.0; 0.0;;], [2.1314452378874233; -1.511241806338802; … ; 0.0; 0.0;;], [1.5847571966531626; -0.9221984509764625; … ; 0.0; 0.0;;], [3.899668254840243; -0.6448544191633571; … ; 0.0; 0.0;;]], [9, 10, 11, 12, 13, 14, 15, 16, 17, 18  …  289, 290, 291, 292, 293, 294, 295, 296, 297, 298], 1, :s)"
      ]
     },
     "metadata": {},
     "output_type": "display_data"
    }
   ],
   "source": [
    "S = FEM.solveStress(problem, q)"
   ]
  },
  {
   "cell_type": "code",
   "execution_count": 30,
   "metadata": {},
   "outputs": [
    {
     "data": {
      "text/plain": [
       "21681×1 Matrix{Float64}:\n",
       " -0.00835931130777345\n",
       "  0.015853328085381868\n",
       "  0.0\n",
       "  0.015853328085381868\n",
       " -0.007907928894566263\n",
       "  0.0\n",
       "  0.0\n",
       "  0.0\n",
       "  0.0\n",
       " -0.5094776661114395\n",
       "  ⋮\n",
       "  4.368454445169607\n",
       " -1.2832224805882406\n",
       "  0.0\n",
       " -1.2832224805882406\n",
       "  0.5213280905763704\n",
       "  0.0\n",
       "  0.0\n",
       "  0.0\n",
       "  0.0"
      ]
     },
     "metadata": {},
     "output_type": "display_data"
    }
   ],
   "source": [
    "SDoF = FEM.solveStress(problem, q, DoFResults=true)"
   ]
  },
  {
   "cell_type": "code",
   "execution_count": 31,
   "metadata": {},
   "outputs": [],
   "source": [
    "gmsh.option.setNumber(\"View.IntervalsType\", 3)\n",
    "gmsh.option.setNumber(\"View.VectorType\", 5)"
   ]
  },
  {
   "cell_type": "code",
   "execution_count": 32,
   "metadata": {},
   "outputs": [
    {
     "name": "stdout",
     "output_type": "stream",
     "text": [
      "Info    : Running Plugin(Smooth)...\n",
      "Info    : Done running Plugin(Smooth)\n",
      "Info    : Running Plugin(Smooth)...\n",
      "Info    : Done running Plugin(Smooth)\n",
      "Info    : Running Plugin(Smooth)...\n",
      "Info    : Done running Plugin(Smooth)\n",
      "Info    : Running Plugin(Smooth)...\n",
      "Info    : Done running Plugin(Smooth)\n",
      "Info    : Running Plugin(Smooth)...\n",
      "Info    : Done running Plugin(Smooth)\n",
      "Info    : Running Plugin(Smooth)...\n",
      "Info    : Done running Plugin(Smooth)\n",
      "Info    : Running Plugin(Smooth)...\n",
      "Info    : Done running Plugin(Smooth)\n",
      "Info    : Running Plugin(Smooth)...\n",
      "Info    : Done running Plugin(Smooth)\n"
     ]
    },
    {
     "data": {
      "text/plain": [
       "14"
      ]
     },
     "metadata": {},
     "output_type": "display_data"
    }
   ],
   "source": [
    "u = FEM.showDoFResults(problem, q, :uvec, name=\"uvec\", visible=false)\n",
    "ux = FEM.showDoFResults(problem, q, :ux, name=\"ux\", visible=false)\n",
    "uy = FEM.showDoFResults(problem, q, :uy, name=\"uy\", visible=false)\n",
    "uz = FEM.showDoFResults(problem, q, :uz, name=\"uz\", visible=false)\n",
    "s = FEM.showStressResults(problem, S, :s, name=\"σ\", visible=false, smooth=false)\n",
    "ss = FEM.showStressResults(problem, S, :s, name=\"σ smooth\", visible=true, smooth=true)\n",
    "sdof = FEM.showDoFResults(problem, SDoF, :seqv)\n",
    "sred = FEM.showStressResults(problem, S, :seqv, name=\"σ red\", visible=false, smooth=false)\n",
    "ssred = FEM.showStressResults(problem, S, :seqv, name=\"σ red smooth\", visible=false, smooth=true)\n",
    "sx = FEM.showStressResults(problem, S, :sx, name=\"σx\", visible=false, smooth=true)\n",
    "sy = FEM.showStressResults(problem, S, :sy, name=\"σy\", visible=false, smooth=true)\n",
    "sz = FEM.showStressResults(problem, S, :sz, name=\"σz\", visible=false, smooth=true)\n",
    "sxy = FEM.showStressResults(problem, S, :sxy, name=\"τxy\", visible=false, smooth=true)\n",
    "syz = FEM.showStressResults(problem, S, :syz, name=\"τyz\", visible=false, smooth=true)\n",
    "szx = FEM.showStressResults(problem, S, :szx, name=\"τzx\", visible=false, smooth=true)"
   ]
  },
  {
   "cell_type": "code",
   "execution_count": 33,
   "metadata": {},
   "outputs": [
    {
     "data": {
      "text/plain": [
       "15"
      ]
     },
     "metadata": {},
     "output_type": "display_data"
    }
   ],
   "source": [
    "FEM.plotOnPath(problem, \"path\", s, name=\"σred\", visible=false)"
   ]
  },
  {
   "cell_type": "code",
   "execution_count": 34,
   "metadata": {},
   "outputs": [],
   "source": [
    "#gmsh.option.setNumber(\"PostProcessing.Binary\", 1)\n",
    "#gmsh.option.setNumber(\"PostProcessing.SaveMesh\", 1)\n",
    "\n",
    "#gmsh.write(\"rect.msh\")\n",
    "#gmsh.write(\"rect.opt\")\n",
    "#gmsh.view.write(4, \"rect.pos\")"
   ]
  },
  {
   "cell_type": "code",
   "execution_count": 35,
   "metadata": {},
   "outputs": [
    {
     "name": "stdout",
     "output_type": "stream",
     "text": [
      "-------------------------------------------------------\n",
      "Version       : 4.13.1\n",
      "License       : GNU General Public License\n",
      "Build OS      : Linux64-sdk\n",
      "Build date    : 19700101\n",
      "Build host    : amdci7.julia.csail.mit.edu\n",
      "Build options : 64Bit ALGLIB[contrib] ANN[contrib] Bamg Blossom Cairo DIntegration Dlopen DomHex Eigen[contrib] Fltk GMP Gmm[contrib] Hxt Jpeg Kbipack LinuxJoystick MathEx[contrib] Mesh Metis[contrib] Mmg Mpeg Netgen Nii2mesh ONELAB ONELABMetamodel OpenCASCADE OpenCASCADE-CAF OpenGL OpenMP OptHom Parser Plugins Png Post QuadMeshingTools QuadTri Solver TetGen/BR TinyXML2[contrib] Untangle Voro++[contrib] WinslowUntangler Zlib\n",
      "FLTK version  : 1.3.8\n",
      "OCC version   : 7.7.2\n",
      "Packaged by   : root\n",
      "Web site      : https://gmsh.info\n",
      "Issue tracker : https://gitlab.onelab.info/gmsh/gmsh/issues\n",
      "-------------------------------------------------------\n"
     ]
    },
    {
     "name": "stderr",
     "output_type": "stream",
     "text": [
      "XRequest.18: BadValue 0x0\n"
     ]
    }
   ],
   "source": [
    "gmsh.fltk.run()"
   ]
  },
  {
   "cell_type": "code",
   "execution_count": 36,
   "metadata": {
    "slideshow": {
     "slide_type": ""
    },
    "tags": []
   },
   "outputs": [],
   "source": [
    "gmsh.finalize()"
   ]
  }
 ],
 "metadata": {
  "kernelspec": {
   "display_name": "Julia 1.11.3",
   "language": "julia",
   "name": "julia-1.11"
  },
  "language_info": {
   "file_extension": ".jl",
   "mimetype": "application/julia",
   "name": "julia",
   "version": "1.11.3"
  },
  "varInspector": {
   "cols": {
    "lenName": 16,
    "lenType": 16,
    "lenVar": 40
   },
   "kernels_config": {
    "python": {
     "delete_cmd_postfix": "",
     "delete_cmd_prefix": "del ",
     "library": "var_list.py",
     "varRefreshCmd": "print(var_dic_list())"
    },
    "r": {
     "delete_cmd_postfix": ") ",
     "delete_cmd_prefix": "rm(",
     "library": "var_list.r",
     "varRefreshCmd": "cat(var_dic_list()) "
    }
   },
   "types_to_exclude": [
    "module",
    "function",
    "builtin_function_or_method",
    "instance",
    "_Feature"
   ],
   "window_display": false
  }
 },
 "nbformat": 4,
 "nbformat_minor": 4
}
