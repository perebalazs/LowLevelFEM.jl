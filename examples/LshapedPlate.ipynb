{
 "cells": [
  {
   "cell_type": "code",
   "execution_count": 1,
   "metadata": {},
   "outputs": [],
   "source": [
    "import LowLevelFEM as FEM\n",
    "using LowLevelFEM\n",
    "\n",
    "gmsh.initialize()"
   ]
  },
  {
   "cell_type": "code",
   "execution_count": 2,
   "metadata": {},
   "outputs": [
    {
     "name": "stdout",
     "output_type": "stream",
     "text": [
      "Info    : Reading 'LshapedPlate2.geo'...\n",
      "Info    : Meshing 1D...\n",
      "Info    : [  0%] Meshing curve 1 (Line)\n",
      "Info    : [ 20%] Meshing curve 2 (Line)\n",
      "Info    : [ 30%] Meshing curve 3 (Line)\n",
      "Info    : [ 50%] Meshing curve 4 (Circle)\n",
      "Info    : [ 60%] Meshing curve 5 (Line)\n",
      "Info    : [ 80%] Meshing curve 6 (Line)\n",
      "Info    : [ 90%] Meshing curve 7 (Line)\n",
      "Info    : Done meshing 1D (Wall 0.00428115s, CPU 0.003275s)\n",
      "Info    : Meshing 2D...\n",
      "Info    : Meshing surface 1 (Plane, Frontal-Delaunay)\n",
      "Info    : Done meshing 2D (Wall 0.00475448s, CPU 0.004753s)\n",
      "Info    : 169 nodes 342 elements\n",
      "Info    : Done reading 'LshapedPlate2.geo'\n"
     ]
    }
   ],
   "source": [
    "#gmsh.open(\"LshapedPlate.geo\")\n",
    "gmsh.open(\"LshapedPlate2.geo\")"
   ]
  },
  {
   "cell_type": "code",
   "execution_count": 3,
   "metadata": {},
   "outputs": [
    {
     "name": "stdout",
     "output_type": "stream",
     "text": [
      "Info    : RCMK renumbering...\n",
      "Info    : Done RCMK renumbering (bandwidth is now 16)\n",
      "Info    : Mapping does not contain a node tag (169) - incrementing after last provided tag (168)\n"
     ]
    },
    {
     "data": {
      "text/plain": [
       "LowLevelFEM.Problem(\"Lshape\", :PlaneStress, 2, 2, LowLevelFEM.Material[LowLevelFEM.Material(\"body\", 200000.0, 0.3, 7.85e-9, 45.0, 4.2e8, 1.2e-5)], 1.0, 168)"
      ]
     },
     "metadata": {},
     "output_type": "display_data"
    }
   ],
   "source": [
    "mat = FEM.material(\"body\", E=2.e5, ν=0.3)\n",
    "problem = FEM.Problem([mat], type=:PlaneStress, thickness=1, bandwidth=:none)"
   ]
  },
  {
   "cell_type": "code",
   "execution_count": 4,
   "metadata": {},
   "outputs": [
    {
     "data": {
      "text/plain": [
       "(\"load\", 0, -1, 0)"
      ]
     },
     "metadata": {},
     "output_type": "display_data"
    }
   ],
   "source": [
    "bc1 = FEM.displacementConstraint(\"fix\", ux=0, uy=0)\n",
    "ld1 = FEM.load(\"load\", fy=-1)"
   ]
  },
  {
   "cell_type": "code",
   "execution_count": 5,
   "metadata": {},
   "outputs": [
    {
     "name": "stdout",
     "output_type": "stream",
     "text": [
      "-------------------------------------------------------\n",
      "Version       : 4.13.1\n",
      "License       : GNU General Public License\n",
      "Build OS      : Linux64-sdk\n",
      "Build date    : 19700101\n",
      "Build host    : amdci7.julia.csail.mit.edu\n",
      "Build options : 64Bit ALGLIB[contrib] ANN[contrib] Bamg Blossom Cairo DIntegration Dlopen DomHex Eigen[contrib] Fltk GMP Gmm[contrib] Hxt Jpeg Kbipack LinuxJoystick MathEx[contrib] Mesh Metis[contrib] Mmg Mpeg Netgen Nii2mesh ONELAB ONELABMetamodel OpenCASCADE OpenCASCADE-CAF OpenGL OpenMP OptHom Parser Plugins Png Post QuadMeshingTools QuadTri Solver TetGen/BR TinyXML2[contrib] Untangle Voro++[contrib] WinslowUntangler Zlib\n",
      "FLTK version  : 1.3.8\n",
      "OCC version   : 7.7.2\n",
      "Packaged by   : root\n",
      "Web site      : https://gmsh.info\n",
      "Issue tracker : https://gitlab.onelab.info/gmsh/gmsh/issues\n",
      "-------------------------------------------------------\n"
     ]
    },
    {
     "name": "stderr",
     "output_type": "stream",
     "text": [
      "XOpenIM() failed\n",
      "XRequest.18: BadValue 0x0\n"
     ]
    }
   ],
   "source": [
    "gmsh.fltk.run()"
   ]
  },
  {
   "cell_type": "code",
   "execution_count": 6,
   "metadata": {},
   "outputs": [],
   "source": [
    "# Néhány láthatósági beállítás 0:kikapcs. 1:bekapcs.\n",
    "gmsh.option.setNumber(\"Geometry.CurveLabels\", 0)\n",
    "gmsh.option.setNumber(\"Geometry.Points\", 0)\n",
    "gmsh.option.setNumber(\"Geometry.Curves\", 0)\n",
    "gmsh.option.setNumber(\"Mesh.Points\", 0)\n",
    "gmsh.option.setNumber(\"Mesh.Lines\", 0)\n",
    "gmsh.option.setNumber(\"Mesh.SurfaceEdges\", 0)\n",
    "gmsh.option.setNumber(\"Mesh.NodeLabels\", 0)\n",
    "gmsh.option.setNumber(\"Mesh.LineLabels\", 0)\n",
    "gmsh.option.setNumber(\"Mesh.SurfaceLabels\", 0)"
   ]
  },
  {
   "cell_type": "code",
   "execution_count": 7,
   "metadata": {},
   "outputs": [
    {
     "data": {
      "text/plain": [
       "336×336 SparseArrays.SparseMatrixCSC{Float64, Int64} with 4328 stored entries:\n",
       "⎡⡻⣮⡁⠓⠂⠰⠆⠀⣤⡀⠉⠀⠀⠀⠀⠀⠀⠀⠀⠀⠀⠀⠠⠆⠀⠀⢀⠀⢠⠀⠀⠂⠄⠀⢛⢀⠀⠀⠀⠀⎤\n",
       "⎢⢥⠈⠻⣦⠀⠀⠀⠀⠀⠀⠀⠀⢑⡘⠀⠀⠀⠀⠀⠀⡄⠀⠀⠀⠀⠀⠈⠰⠀⠀⠀⡀⠀⠀⠬⠀⠁⠐⠂⠀⎥\n",
       "⎢⢈⡀⠀⠀⠻⣦⡀⠀⠀⠀⢠⠞⠀⠀⠀⠀⠀⠀⠀⠀⠀⠀⠀⡀⠀⠰⠉⠘⡄⡀⠀⠁⠀⠀⠀⠀⠀⠀⠀⠀⎥\n",
       "⎢⠈⠁⠀⠀⠀⠈⠻⣦⡀⠀⠐⣄⠀⠀⠀⠀⠀⠀⠀⠀⠃⠠⠈⠁⠀⠀⠀⠀⠀⠁⠀⠀⠱⢀⡀⠀⠀⠀⠀⠀⎥\n",
       "⎢⠀⠻⠀⠀⠀⠀⠀⠈⠱⣦⡀⠈⣠⠂⠀⠀⡄⠀⠀⡀⠀⠀⠀⠀⠀⠈⠁⠆⠘⠀⠀⠀⠀⠀⠀⡰⠀⠀⠀⠀⎥\n",
       "⎢⠃⠀⠀⠀⣠⠖⠐⢤⡀⠈⠛⢄⠁⠛⠀⠀⠀⠀⠀⠁⠒⠠⠄⠀⠀⢢⣀⢠⢆⣂⠀⠀⠐⢠⡼⠅⢀⠐⠀⠀⎥\n",
       "⎢⠀⠀⣑⠰⠀⠀⠀⠀⠠⠚⣥⠀⢱⣶⡒⠀⠏⠀⠀⠑⠆⠀⠀⠀⠀⠀⢨⡇⠠⢶⡆⢆⡀⠀⢠⣝⣅⠐⠲⠆⎥\n",
       "⎢⠀⠀⠀⠀⠀⠀⠀⠀⠀⠀⠀⠀⠘⠈⣻⣾⡃⠀⠀⠀⠀⠀⠀⠀⠀⠀⠀⠄⢄⣈⠥⠈⠃⠀⢄⡉⠉⠞⡇⠶⎥\n",
       "⎢⠀⠀⠀⠀⠀⠀⠀⠀⠀⠉⠀⠀⠋⠁⠉⠈⢻⣶⣴⣎⠁⠀⠀⠀⠀⠀⠀⠈⠀⠉⠀⢆⠀⢀⠀⢠⠀⣏⣷⠀⎥\n",
       "⎢⠀⠀⠀⠀⠀⠀⠀⠀⠀⠠⠄⠀⢄⠀⠀⠀⡰⢿⣛⢜⠀⠢⠤⠀⠀⠒⠈⡃⠀⡨⡙⢏⠀⠖⠀⢤⠀⡘⠶⢀⎥\n",
       "⎢⠀⠀⠀⠉⠀⠀⠉⡀⠀⠀⠘⡀⠈⠁⠀⠀⠁⠀⠠⡀⢿⣷⡬⠄⠀⠤⠀⠈⠀⠀⠀⠀⢐⣴⠉⠀⠀⠀⠀⠀⎥\n",
       "⎢⠠⠆⠀⠀⠀⠠⠆⠀⠀⠀⠀⠁⠀⠀⠀⠀⠀⠀⠀⠃⠂⠏⠻⣦⣀⠶⠃⠀⠀⡇⠀⠀⢶⠏⠁⠘⠘⢀⠀⠀⎥\n",
       "⎢⠀⠀⠀⠀⢀⡀⠀⠀⡀⠀⠠⣀⠀⠀⠀⠀⠀⠀⢠⠀⠀⡄⢠⡜⠿⣧⡀⠀⣄⠀⢾⡆⠐⣦⠄⠀⡀⠨⠐⠀⎥\n",
       "⎢⠀⠐⢂⡀⣃⠀⠀⠀⠡⠄⠀⣘⠦⠶⠀⠄⡀⠀⠦⠠⡀⠀⠉⠀⠀⠈⠻⢆⢈⠻⠦⠃⠀⠀⣐⡶⠉⢀⡸⠣⎥\n",
       "⎢⠀⠒⠀⠀⠀⠩⠄⠀⠒⠀⠨⢱⢠⣆⡀⢱⡄⠀⡀⡠⠀⠀⠤⠤⠀⠙⣦⡐⢱⣶⡄⣀⠀⠀⠙⣣⠂⠠⢡⡄⎥\n",
       "⎢⠠⠀⠀⠠⠄⠀⠀⠀⠀⠀⠀⠀⠨⢍⡁⠃⠠⢄⡷⢌⠀⠀⠀⠀⠺⠷⠬⠃⠀⢩⡻⢎⡀⠆⠃⠉⠀⡰⠸⢅⎥\n",
       "⎢⠀⠁⠀⠀⠀⠀⠑⢂⠀⠀⠐⣀⠀⠈⠉⠀⠀⢀⢠⠄⢐⣴⡼⠗⠰⣤⠀⠀⠀⠀⠠⠌⠻⣦⡀⠀⢈⠁⠤⠀⎥\n",
       "⎢⠛⢐⠂⠃⠀⠀⠀⠈⢀⡠⠖⠏⣄⢶⡄⠱⠀⣀⠀⣄⠃⠀⣁⠀⠀⠁⢰⡼⠷⣠⡍⠀⠀⠈⠻⣦⡌⡀⠆⠉⎥\n",
       "⎢⠀⠀⢁⠀⠀⠀⠀⠀⠀⠀⢀⠐⢁⠙⣣⠄⡤⢤⣀⠠⠀⠀⠒⢀⡀⡈⠃⢀⠈⡀⢀⡠⠆⠐⠂⠩⠛⢄⡀⠥⎥\n",
       "⎣⠀⠀⠈⠀⠀⠀⠀⠀⠀⠀⠀⠀⠸⠆⢩⡍⠙⠛⠘⢃⠀⠀⠀⠀⠐⠀⠶⡊⠁⠶⠖⢆⠀⠃⡌⠁⠄⡌⠻⣦⎦"
      ]
     },
     "metadata": {},
     "output_type": "display_data"
    }
   ],
   "source": [
    "K = FEM.stiffnessMatrix(problem)"
   ]
  },
  {
   "cell_type": "code",
   "execution_count": 8,
   "metadata": {},
   "outputs": [
    {
     "data": {
      "text/plain": [
       "336-element Vector{Float64}:\n",
       "  0.0\n",
       "  0.0\n",
       "  0.0\n",
       " -6.249999999972043\n",
       "  0.0\n",
       " -6.250000000034177\n",
       "  0.0\n",
       "  0.0\n",
       "  0.0\n",
       "  0.0\n",
       "  ⋮\n",
       "  0.0\n",
       "  0.0\n",
       "  0.0\n",
       "  0.0\n",
       "  0.0\n",
       "  0.0\n",
       "  0.0\n",
       "  0.0\n",
       "  0.0"
      ]
     },
     "metadata": {},
     "output_type": "display_data"
    }
   ],
   "source": [
    "f = FEM.loadVector(problem, [ld1])"
   ]
  },
  {
   "cell_type": "code",
   "execution_count": 9,
   "metadata": {},
   "outputs": [],
   "source": [
    "FEM.applyBoundaryConditions!(problem, K, f, [bc1])"
   ]
  },
  {
   "cell_type": "code",
   "execution_count": 10,
   "metadata": {},
   "outputs": [
    {
     "data": {
      "text/plain": [
       "336-element Vector{Float64}:\n",
       " -0.007845925501913101\n",
       "  0.002505164424327473\n",
       " -0.009154749789036335\n",
       " -0.011290984004170425\n",
       " -0.0010299199440653914\n",
       " -0.011324631052604445\n",
       " -0.0017509027200386257\n",
       " -0.0027542112859665967\n",
       " -0.001807546864693874\n",
       " -0.002412286231786562\n",
       "  ⋮\n",
       " -0.002690457278541777\n",
       " -0.0031034139077359326\n",
       " -0.00872718903497003\n",
       " -0.000274832879497029\n",
       " -0.00031643058149456884\n",
       " -0.00378595364850362\n",
       " -0.0035893203730167113\n",
       " -0.003600830338628966\n",
       " -0.0024669616054007974"
      ]
     },
     "metadata": {},
     "output_type": "display_data"
    }
   ],
   "source": [
    "q = FEM.solveDisplacement(K, f)"
   ]
  },
  {
   "cell_type": "code",
   "execution_count": 11,
   "metadata": {},
   "outputs": [
    {
     "data": {
      "text/plain": [
       "LowLevelFEM.TensorField([[0.314713274126107; -1.522456525997385; … ; 0.0; 0.0;;], [4.534529903107245; -2.4425293930527348; … ; 0.0; 0.0;;], [1.6573463460790716; 0.31912320688401674; … ; 0.0; 0.0;;], [2.6407105188688793; 0.793848498644258; … ; 0.0; 0.0;;], [0.13561285552817948; -0.291521205252805; … ; 0.0; 0.0;;], [-0.0676608823677306; 2.1667034720384595; … ; 0.0; 0.0;;], [-0.5944588539565611; 1.7014010857866881; … ; 0.0; 0.0;;], [0.6098411598903766; 0.22337860649730512; … ; 0.0; 0.0;;], [-0.41359555538740245; 1.4892196708004288; … ; 0.0; 0.0;;], [0.18014397653197436; -1.1366952842563982; … ; 0.0; 0.0;;]  …  [0.2722269940404567; -0.7098292092184127; … ; 0.0; 0.0;;], [8.805943597855038; -2.994480533393374; … ; 0.0; 0.0;;], [9.083817851877317; -3.1117671413009567; … ; 0.0; 0.0;;], [0.11773645057892335; -0.18234537799964237; … ; 0.0; 0.0;;], [1.489035218239247; -0.23756727844482095; … ; 0.0; 0.0;;], [0.24937017434109054; 0.04255620884546226; … ; 0.0; 0.0;;], [-2.117927946246993; 0.4297683183112991; … ; 0.0; 0.0;;], [2.8313506575215706; -1.4114635687679813; … ; 0.0; 0.0;;], [1.5642562607584898; -0.9654679932901697; … ; 0.0; 0.0;;], [3.9967531247270958; -1.2115340019447076; … ; 0.0; 0.0;;]], [9, 10, 11, 12, 13, 14, 15, 16, 17, 18  …  289, 290, 291, 292, 293, 294, 295, 296, 297, 298], 1, :s)"
      ]
     },
     "metadata": {},
     "output_type": "display_data"
    }
   ],
   "source": [
    "S = FEM.solveStress(problem, q)"
   ]
  },
  {
   "cell_type": "code",
   "execution_count": 12,
   "metadata": {},
   "outputs": [
    {
     "data": {
      "text/plain": [
       "1512×1 Matrix{Float64}:\n",
       " -0.4083608341900337\n",
       "  0.39005525062452806\n",
       "  0.0\n",
       "  0.39005525062452806\n",
       " -0.3849918429318151\n",
       "  0.0\n",
       "  0.0\n",
       "  0.0\n",
       "  0.0\n",
       " -0.7461976645374175\n",
       "  ⋮\n",
       "  0.7372182138942135\n",
       " -0.16126866181270244\n",
       "  0.0\n",
       " -0.16126866181270244\n",
       "  3.6754070436119606\n",
       "  0.0\n",
       "  0.0\n",
       "  0.0\n",
       "  0.0"
      ]
     },
     "metadata": {},
     "output_type": "display_data"
    }
   ],
   "source": [
    "SDoF = FEM.solveStress(problem, q, DoFResults=true)"
   ]
  },
  {
   "cell_type": "code",
   "execution_count": 13,
   "metadata": {},
   "outputs": [],
   "source": [
    "gmsh.option.setNumber(\"View.IntervalsType\", 3)\n",
    "gmsh.option.setNumber(\"View.VectorType\", 5)"
   ]
  },
  {
   "cell_type": "code",
   "execution_count": 14,
   "metadata": {},
   "outputs": [
    {
     "name": "stdout",
     "output_type": "stream",
     "text": [
      "Info    : Running Plugin(Smooth)...\n",
      "Info    : Done running Plugin(Smooth)\n",
      "Info    : Running Plugin(Smooth)...\n",
      "Info    : Done running Plugin(Smooth)\n",
      "Info    : Running Plugin(Smooth)...\n",
      "Info    : Done running Plugin(Smooth)\n",
      "Info    : Running Plugin(Smooth)...\n",
      "Info    : Done running Plugin(Smooth)\n",
      "Info    : Running Plugin(Smooth)...\n",
      "Info    : Done running Plugin(Smooth)\n",
      "Info    : Running Plugin(Smooth)...\n",
      "Info    : Done running Plugin(Smooth)\n",
      "Info    : Running Plugin(Smooth)...\n",
      "Info    : Done running Plugin(Smooth)\n",
      "Info    : Running Plugin(Smooth)...\n",
      "Info    : Done running Plugin(Smooth)\n"
     ]
    },
    {
     "data": {
      "text/plain": [
       "15"
      ]
     },
     "metadata": {},
     "output_type": "display_data"
    }
   ],
   "source": [
    "u = FEM.showDoFResults(problem, q, :uvec, name=\"uvec\", visible=false)\n",
    "ux = FEM.showDoFResults(problem, q, :ux, name=\"ux\", visible=false)\n",
    "uy = FEM.showDoFResults(problem, q, :uy, name=\"uy\", visible=false)\n",
    "uz = FEM.showDoFResults(problem, q, :uz, name=\"uz\", visible=false)\n",
    "s = FEM.showStressResults(problem, S, :s, name=\"σ\", visible=false, smooth=false)\n",
    "ss = FEM.showStressResults(problem, S, :s, name=\"σ smooth\", visible=true, smooth=true)\n",
    "sdof = FEM.showDoFResults(problem, SDoF, :seqv)\n",
    "sred = FEM.showStressResults(problem, S, :seqv, name=\"σ red\", visible=false, smooth=false)\n",
    "ssred = FEM.showStressResults(problem, S, :seqv, name=\"σ red smooth\", visible=false, smooth=true)\n",
    "sx = FEM.showStressResults(problem, S, :sx, name=\"σx\", visible=false, smooth=true)\n",
    "sy = FEM.showStressResults(problem, S, :sy, name=\"σy\", visible=false, smooth=true)\n",
    "sz = FEM.showStressResults(problem, S, :sz, name=\"σz\", visible=false, smooth=true)\n",
    "sxy = FEM.showStressResults(problem, S, :sxy, name=\"τxy\", visible=false, smooth=true)\n",
    "syz = FEM.showStressResults(problem, S, :syz, name=\"τyz\", visible=false, smooth=true)\n",
    "szx = FEM.showStressResults(problem, S, :szx, name=\"τzx\", visible=false, smooth=true)"
   ]
  },
  {
   "cell_type": "code",
   "execution_count": 15,
   "metadata": {},
   "outputs": [
    {
     "data": {
      "text/plain": [
       "16"
      ]
     },
     "metadata": {},
     "output_type": "display_data"
    }
   ],
   "source": [
    "FEM.plotOnPath(problem, \"path\", s, name=\"σred\", visible=false)"
   ]
  },
  {
   "cell_type": "code",
   "execution_count": 16,
   "metadata": {},
   "outputs": [
    {
     "data": {
      "text/plain": [
       "17"
      ]
     },
     "metadata": {},
     "output_type": "display_data"
    }
   ],
   "source": [
    "Serr = FEM.fieldError(problem, S)\n",
    "serr = FEM.showDoFResults(problem, Serr, :sx, name=\"error\")"
   ]
  },
  {
   "cell_type": "code",
   "execution_count": 17,
   "metadata": {},
   "outputs": [],
   "source": [
    "#gmsh.option.setNumber(\"PostProcessing.Binary\", 1)\n",
    "#gmsh.option.setNumber(\"PostProcessing.SaveMesh\", 1)\n",
    "\n",
    "#gmsh.write(\"rect.msh\")\n",
    "#gmsh.write(\"rect.opt\")\n",
    "#gmsh.view.write(4, \"rect.pos\")"
   ]
  },
  {
   "cell_type": "code",
   "execution_count": 18,
   "metadata": {},
   "outputs": [
    {
     "name": "stdout",
     "output_type": "stream",
     "text": [
      "-------------------------------------------------------\n",
      "Version       : 4.13.1\n",
      "License       : GNU General Public License\n",
      "Build OS      : Linux64-sdk\n",
      "Build date    : 19700101\n",
      "Build host    : amdci7.julia.csail.mit.edu\n",
      "Build options : 64Bit ALGLIB[contrib] ANN[contrib] Bamg Blossom Cairo DIntegration Dlopen DomHex Eigen[contrib] Fltk GMP Gmm[contrib] Hxt Jpeg Kbipack LinuxJoystick MathEx[contrib] Mesh Metis[contrib] Mmg Mpeg Netgen Nii2mesh ONELAB ONELABMetamodel OpenCASCADE OpenCASCADE-CAF OpenGL OpenMP OptHom Parser Plugins Png Post QuadMeshingTools QuadTri Solver TetGen/BR TinyXML2[contrib] Untangle Voro++[contrib] WinslowUntangler Zlib\n",
      "FLTK version  : 1.3.8\n",
      "OCC version   : 7.7.2\n",
      "Packaged by   : root\n",
      "Web site      : https://gmsh.info\n",
      "Issue tracker : https://gitlab.onelab.info/gmsh/gmsh/issues\n",
      "-------------------------------------------------------\n"
     ]
    },
    {
     "name": "stderr",
     "output_type": "stream",
     "text": [
      "XRequest.18: BadValue 0x0\n"
     ]
    }
   ],
   "source": [
    "gmsh.fltk.run()"
   ]
  },
  {
   "cell_type": "code",
   "execution_count": 19,
   "metadata": {
    "slideshow": {
     "slide_type": ""
    },
    "tags": []
   },
   "outputs": [],
   "source": [
    "gmsh.finalize()"
   ]
  }
 ],
 "metadata": {
  "kernelspec": {
   "display_name": "Julia 1.11.3",
   "language": "julia",
   "name": "julia-1.11"
  },
  "language_info": {
   "file_extension": ".jl",
   "mimetype": "application/julia",
   "name": "julia",
   "version": "1.11.3"
  },
  "varInspector": {
   "cols": {
    "lenName": 16,
    "lenType": 16,
    "lenVar": 40
   },
   "kernels_config": {
    "python": {
     "delete_cmd_postfix": "",
     "delete_cmd_prefix": "del ",
     "library": "var_list.py",
     "varRefreshCmd": "print(var_dic_list())"
    },
    "r": {
     "delete_cmd_postfix": ") ",
     "delete_cmd_prefix": "rm(",
     "library": "var_list.r",
     "varRefreshCmd": "cat(var_dic_list()) "
    }
   },
   "types_to_exclude": [
    "module",
    "function",
    "builtin_function_or_method",
    "instance",
    "_Feature"
   ],
   "window_display": false
  }
 },
 "nbformat": 4,
 "nbformat_minor": 4
}
