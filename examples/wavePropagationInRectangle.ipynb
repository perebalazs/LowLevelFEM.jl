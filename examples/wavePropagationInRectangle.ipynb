{
 "cells": [
  {
   "cell_type": "code",
   "execution_count": 1,
   "metadata": {},
   "outputs": [],
   "source": [
    "using LinearAlgebra, SparseArrays\n",
    "using Arpack\n",
    "import gmsh\n",
    "gmsh.initialize()\n",
    "\n",
    "include(\"../src/FEM.jl\")\n",
    "using .FEM"
   ]
  },
  {
   "cell_type": "code",
   "execution_count": 2,
   "metadata": {},
   "outputs": [
    {
     "data": {
      "text/plain": [
       "true"
      ]
     },
     "metadata": {},
     "output_type": "display_data"
    }
   ],
   "source": [
    "# Adatok\n",
    "E = 2e5\n",
    "ν = 0.3\n",
    "ρ = 7.85e-9\n",
    "thickness = 1\n",
    "height = 10\n",
    "base = 100\n",
    "elemSize = 2 #22\n",
    "\n",
    "approxOrder = 2\n",
    "internalNodes = true\n",
    "quadElements = true"
   ]
  },
  {
   "cell_type": "code",
   "execution_count": 3,
   "metadata": {},
   "outputs": [],
   "source": [
    "# Geometria megrajzolása\n",
    "gmsh.model.add(\"rectangle\")\n",
    "\n",
    "p1 = gmsh.model.occ.addPoint(0, 0, 0)\n",
    "p2 = gmsh.model.occ.addPoint(base, 0, 0)\n",
    "#p23 = gmsh.model.occ.addPoint(base, height / 2, 0)\n",
    "p3 = gmsh.model.occ.addPoint(base, height, 0)\n",
    "p4 = gmsh.model.occ.addPoint(0, height, 0)\n",
    "\n",
    "l1 = gmsh.model.occ.addLine(p1, p2)\n",
    "l2 = gmsh.model.occ.addLine(p2, p3)\n",
    "#l23 = gmsh.model.occ.addLine(p23, p3)\n",
    "l3 = gmsh.model.occ.addLine(p3, p4)\n",
    "l4 = gmsh.model.occ.addLine(p4, p1)\n",
    "\n",
    "cl1 = gmsh.model.occ.addCurveLoop([l1, l2, l3, l4])\n",
    "\n",
    "l5 = gmsh.model.occ.addCircle(base / 2, height / 2, 0, min(base, height) / 4)\n",
    "cl2 = gmsh.model.occ.addCurveLoop([l5])\n",
    "\n",
    "sf1 = gmsh.model.occ.addPlaneSurface([cl1, cl2])\n",
    "#display(sf1)\n",
    "\n",
    "#cp1 = gmsh.model.occ.addPoint(base / 2, height / 2, 0)\n",
    "#cl1 = gmsh.model.occ.addLine(p1, p3)\n",
    "#cl2 = gmsh.model.occ.addLine(p2, p4)\n",
    "\n",
    "#sf2 = gmsh.model.occ.fragment([(2, sf1)], [(1, cl1)])\n",
    "#gmsh.model.occ.removeAllDuplicates()\n",
    "\n",
    "#p5 = gmsh.model.occ.addPoint(0, height / 2, 0)\n",
    "#p6 = gmsh.model.occ.addPoint(base, height / 2, 0)\n",
    "#l5 = gmsh.model.occ.addLine(p5, p6)\n",
    "\n",
    "gmsh.model.occ.synchronize()\n",
    "#sf2"
   ]
  },
  {
   "cell_type": "code",
   "execution_count": 4,
   "metadata": {},
   "outputs": [
    {
     "data": {
      "text/plain": [
       "Main.FEM.Problem(\"rectangle\", \"PlaneStress\", 2, 200000.0, 0.3, 7.85e-9, 1.0, 0)"
      ]
     },
     "metadata": {},
     "output_type": "display_data"
    }
   ],
   "source": [
    "problem = FEM.Problem(type=\"PlaneStress\", E=E, ν=ν, ρ=ρ, thickness=thickness)"
   ]
  },
  {
   "cell_type": "code",
   "execution_count": 5,
   "metadata": {},
   "outputs": [],
   "source": [
    "phg = gmsh.model.addPhysicalGroup(1, [l2])\n",
    "gmsh.model.setPhysicalName(1, phg, \"supp\")\n",
    "phg = gmsh.model.addPhysicalGroup(1, [l4])\n",
    "gmsh.model.setPhysicalName(1, phg, \"load\")\n",
    "phg = gmsh.model.addPhysicalGroup(2, [sf1])\n",
    "gmsh.model.setPhysicalName(2, phg, \"body\")\n"
   ]
  },
  {
   "cell_type": "code",
   "execution_count": 6,
   "metadata": {},
   "outputs": [
    {
     "data": {
      "text/plain": [
       "(\"load\", 1, 0, 0)"
      ]
     },
     "metadata": {},
     "output_type": "display_data"
    }
   ],
   "source": [
    "supp = FEM.displacementConstraint(\"supp\", ux=0, uy=0)\n",
    "load = FEM.load(\"load\", fx=1, fy=0)"
   ]
  },
  {
   "cell_type": "code",
   "execution_count": 7,
   "metadata": {},
   "outputs": [
    {
     "name": "stdout",
     "output_type": "stream",
     "text": [
      "Info    : Meshing 1D...\n",
      "Info    : [  0%] Meshing curve 1 (Line)\n",
      "Info    : [ 20%] Meshing curve 2 (Line)\n",
      "Info    : [ 40%] Meshing curve 3 (Line)\n",
      "Info    : [ 60%] Meshing curve 4 (Line)\n",
      "Info    : [ 80%] Meshing curve 5 (Circle)\n",
      "Info    : Done meshing 1D (Wall 0.000431058s, CPU 0.000409s)\n",
      "Info    : 118 nodes 123 elements\n",
      "Info    : Meshing 2D...\n",
      "Info    : Meshing surface 1 (Plane, Frontal-Delaunay)\n",
      "Info    : Done meshing 2D (Wall 0.022223s, CPU 0.022189s)\n",
      "Info    : 359 nodes 723 elements\n",
      "Info    : Recombining 2D mesh...\n",
      "Info    : Blossom: 841 internal 118 closed\n",
      "Info    : Blossom recombination completed (Wall 0.0127734s, CPU 0.012771s): 294 quads, 0 triangles, 0 invalid quads, 0 quads with Q < 0.1, avg Q = 0.799105, min Q = 0.508151\n",
      "Info    : Done recombining 2D mesh (Wall 0.0128315s, CPU 0.012832s)\n",
      "Info    : Meshing order 2 (curvilinear on)...\n",
      "Info    : [  0%] Meshing curve 1 order 2\n",
      "Info    : [ 20%] Meshing curve 2 order 2\n",
      "Info    : [ 40%] Meshing curve 3 order 2\n",
      "Info    : [ 50%] Meshing curve 4 order 2\n",
      "Info    : [ 70%] Meshing curve 5 order 2\n",
      "Info    : [ 90%] Meshing surface 1 order 2\n",
      "Info    : Done meshing order 2 (Wall 0.00699667s, CPU 0.006991s)\n"
     ]
    }
   ],
   "source": [
    "FEM.generateMesh(problem, sf1, elemSize, approxOrder=approxOrder, algorithm=6, quadrangle=quadElements, internalNodes=internalNodes)"
   ]
  },
  {
   "cell_type": "code",
   "execution_count": 8,
   "metadata": {},
   "outputs": [
    {
     "data": {
      "text/plain": [
       "\"true\""
      ]
     },
     "metadata": {},
     "output_type": "display_data"
    }
   ],
   "source": [
    "ENV[\"LIBGL_ALWAYS_SOFTWARE\"] = \"true\"\n",
    "#gmsh.fltk.run()\n",
    "#gmsh.fltk.wait(3)"
   ]
  },
  {
   "cell_type": "code",
   "execution_count": 9,
   "metadata": {},
   "outputs": [],
   "source": [
    "# Néhány láthatósági beállítás 0:kikapcs. 1:bekapcs.\n",
    "gmsh.option.setNumber(\"Geometry.CurveLabels\", 0)\n",
    "gmsh.option.setNumber(\"Geometry.Points\", 0)\n",
    "gmsh.option.setNumber(\"Geometry.Curves\", 0)\n",
    "gmsh.option.setNumber(\"Mesh.Points\", 0)\n",
    "gmsh.option.setNumber(\"Mesh.Lines\", 0)\n",
    "gmsh.option.setNumber(\"Mesh.SurfaceEdges\", 0)\n",
    "gmsh.option.setNumber(\"Mesh.NodeLabels\", 0)\n",
    "gmsh.option.setNumber(\"Mesh.LineLabels\", 0)\n",
    "gmsh.option.setNumber(\"Mesh.SurfaceLabels\", 0)"
   ]
  },
  {
   "cell_type": "code",
   "execution_count": 10,
   "metadata": {},
   "outputs": [
    {
     "data": {
      "text/plain": [
       "2588×2588 SparseMatrixCSC{Float64, Int64} with 77152 stored entries:\n",
       "⎡⣻⣾⣳⣍⠀⠁⢈⢿⣸⢸⡓⢰⣸⠨⡥⠶⠎⠦⠒⠂⠀⠐⢶⡰⣜⣓⣚⠀⠈⠏⢼⡠⡁⠀⠀⠀⠀⠌⢌⠄⎤\n",
       "⎢⡝⢾⠱⣦⡀⣀⠀⠹⣼⢸⢉⠸⣼⡐⡖⠚⠃⠓⠉⢁⡀⠈⠳⠜⠮⡩⢭⠀⠀⠃⡚⡔⡄⢀⠀⠀⠀⠂⢢⡆⎥\n",
       "⎢⠄⠀⠀⢨⣻⢞⡳⡅⡷⡃⢬⡳⣿⠀⣟⢼⡣⣋⡁⠠⣝⠲⠀⣉⠀⡇⠠⢈⠀⠀⠀⣟⣽⠄⠀⠀⠀⢘⡳⠀⎥\n",
       "⎢⣦⣔⣄⡀⠝⠮⠱⣦⢹⣥⣄⣹⣽⣠⣯⣾⣵⣁⣀⡄⠈⢙⣀⣀⣲⣧⣤⣦⠠⣶⣀⣏⢾⣆⣀⠀⢀⠼⠹⡂⎥\n",
       "⎢⣒⣚⣒⣛⠽⠫⠗⣶⣿⣿⣊⡟⣿⣻⣿⣾⣷⣿⠁⡈⠹⠛⣀⠋⢛⡋⢙⣚⣿⣿⣿⣿⣸⠉⠐⠛⣿⣻⣿⣟⎥\n",
       "⎢⢙⣈⣃⡐⢦⡳⣄⣹⣮⠼⣻⣾⢿⣿⣭⡉⠌⠠⣟⡛⠦⣴⣂⣶⣾⣿⡛⡿⠤⠤⢢⠲⣘⣶⣾⣻⢯⣏⢇⣅⎥\n",
       "⎢⡒⡚⢒⠻⠛⠛⠓⣻⣿⣻⣿⣷⣿⣿⡛⣚⣒⣃⠀⡽⢃⡼⣺⢿⡿⣝⣿⣿⣘⣛⣟⣲⣾⣾⢿⣦⣿⣟⣗⣛⎥\n",
       "⎢⢡⡏⣸⠉⣛⣝⣫⣿⣻⣿⡇⠻⣻⢨⣿⣿⣭⣹⠀⠐⢘⠁⣵⠀⠛⢚⠘⠛⢿⣻⠿⡟⠉⡀⠀⠀⠛⡟⡟⠛⎥\n",
       "⎢⠪⡅⢭⠀⡭⢪⠕⢻⣽⣿⠂⡁⠼⢸⣇⣻⣿⢟⡀⠀⡨⠑⠈⠀⠀⠐⠀⢀⢇⢿⣪⢫⠴⠂⠀⠀⢉⡲⣝⣙⎥\n",
       "⎢⠸⠀⠇⢀⠁⡈⠀⠼⡁⠠⣿⠹⣄⡤⢀⠀⠀⠈⣿⣿⡀⠰⠇⢨⠰⡠⣧⡯⠀⠀⡀⡠⠀⢀⢀⣠⡄⢄⡀⢀⎥\n",
       "⎢⢀⠀⡀⠈⢳⡙⣆⢀⣷⠂⢈⣧⣉⡴⠖⠐⢆⠊⢀⡈⡻⣮⡀⢉⡉⣏⢉⣈⠀⠒⠁⠲⢈⢥⢀⣤⠶⠀⠒⠆⎥\n",
       "⎢⢘⡳⣙⠆⡄⢠⠀⢸⡤⠘⢨⣼⣾⣞⠑⠛⠂⠀⡉⣁⡄⢈⣻⣾⣾⣤⡄⣨⡠⠣⡙⠙⠰⣲⣖⢀⡐⠀⠀⠃⎥\n",
       "⎢⢶⢹⡎⡣⠤⠤⠼⣾⡿⠰⣾⣿⣟⢯⣻⢀⢀⠀⠐⡢⡧⢬⠚⣿⣻⣾⣷⣛⢉⣐⣉⠂⢊⠑⠣⠤⠈⢙⠚⡛⎥\n",
       "⎢⠚⠘⠃⠓⡀⢂⠠⣿⣳⢰⣿⡬⣿⣿⣶⠀⠀⢀⡭⡿⡃⢰⡀⣩⣽⢻⢿⣷⡀⠀⢓⣀⠎⣱⣬⠭⢷⣶⢴⣶⎥\n",
       "⎢⡦⠄⠤⠀⠀⠀⢠⣦⣿⣿⠀⡇⣶⢸⣿⣳⣭⣕⠀⠀⢠⠀⠤⡊⢃⢰⠀⠈⣿⣿⣼⡍⣈⠂⠀⠀⠙⢶⣷⣅⎥\n",
       "⎢⠒⡳⢚⠬⣤⢤⡤⢼⣿⣿⢨⡒⢻⣹⣿⠧⡮⣚⠀⡨⢡⡀⣗⠈⠣⠘⠙⢰⡖⠿⣛⣼⣾⣍⠉⠀⣶⡶⣼⡏⎥\n",
       "⎢⠁⠈⠀⢉⠓⠟⠺⢷⡖⠚⢲⣼⣺⣿⠃⠠⠰⠃⠀⢀⠆⣔⢰⣢⢎⠐⢎⣡⠢⠘⡞⢿⢻⣶⣶⠢⣶⡜⡏⠁⎥\n",
       "⎢⠀⠀⠀⠀⠀⠀⠀⠘⣴⠀⣾⣻⠻⣷⠀⠀⠀⠀⠀⣰⠀⣴⠘⢙⠉⡆⡆⡟⠀⠀⠃⠀⠸⡛⢻⣶⡆⠀⠄⠀⎥\n",
       "⎢⡀⠄⠠⠀⣀⢀⣀⡔⣿⣻⡯⢷⣿⢿⣿⠤⢣⡰⠀⢍⠘⠃⠐⠈⣆⢀⢹⣷⢳⣄⢸⡿⣘⠿⠈⠉⣿⣿⣗⣿⎥\n",
       "⎣⠂⠕⠨⠶⠙⠊⠳⠢⣿⢿⠍⢵⣽⢹⣿⠉⣗⢹⠀⢈⠸⠄⠤⠀⣾⠠⢰⣷⠝⢿⡶⠿⠏⠉⠀⠁⣽⣽⣵⣿⎦"
      ]
     },
     "metadata": {},
     "output_type": "display_data"
    }
   ],
   "source": [
    "K = FEM.stiffnessMatrix(problem)"
   ]
  },
  {
   "cell_type": "code",
   "execution_count": 11,
   "metadata": {},
   "outputs": [
    {
     "data": {
      "text/plain": [
       "2588-element Vector{Float64}:\n",
       " 0.33333333333333326\n",
       " 0.0\n",
       " 0.0\n",
       " 0.0\n",
       " 0.0\n",
       " 0.0\n",
       " 0.33333333333333326\n",
       " 0.0\n",
       " 0.0\n",
       " 0.0\n",
       " ⋮\n",
       " 0.0\n",
       " 0.0\n",
       " 0.0\n",
       " 0.0\n",
       " 0.0\n",
       " 0.0\n",
       " 0.0\n",
       " 0.0\n",
       " 0.0"
      ]
     },
     "metadata": {},
     "output_type": "display_data"
    }
   ],
   "source": [
    "f = FEM.loadVector(problem, [load])"
   ]
  },
  {
   "cell_type": "code",
   "execution_count": 12,
   "metadata": {},
   "outputs": [
    {
     "data": {
      "text/plain": [
       "2588×2588 SparseMatrixCSC{Float64, Int64} with 2588 stored entries:\n",
       "⎡⠑⢄⠀⠀⠀⠀⠀⠀⠀⠀⠀⠀⠀⠀⠀⠀⠀⠀⠀⠀⠀⠀⠀⠀⠀⠀⠀⠀⠀⠀⠀⠀⠀⠀⠀⠀⠀⠀⠀⠀⎤\n",
       "⎢⠀⠀⠑⢄⠀⠀⠀⠀⠀⠀⠀⠀⠀⠀⠀⠀⠀⠀⠀⠀⠀⠀⠀⠀⠀⠀⠀⠀⠀⠀⠀⠀⠀⠀⠀⠀⠀⠀⠀⠀⎥\n",
       "⎢⠀⠀⠀⠀⠑⢄⠀⠀⠀⠀⠀⠀⠀⠀⠀⠀⠀⠀⠀⠀⠀⠀⠀⠀⠀⠀⠀⠀⠀⠀⠀⠀⠀⠀⠀⠀⠀⠀⠀⠀⎥\n",
       "⎢⠀⠀⠀⠀⠀⠀⠑⢄⠀⠀⠀⠀⠀⠀⠀⠀⠀⠀⠀⠀⠀⠀⠀⠀⠀⠀⠀⠀⠀⠀⠀⠀⠀⠀⠀⠀⠀⠀⠀⠀⎥\n",
       "⎢⠀⠀⠀⠀⠀⠀⠀⠀⠑⢄⠀⠀⠀⠀⠀⠀⠀⠀⠀⠀⠀⠀⠀⠀⠀⠀⠀⠀⠀⠀⠀⠀⠀⠀⠀⠀⠀⠀⠀⠀⎥\n",
       "⎢⠀⠀⠀⠀⠀⠀⠀⠀⠀⠀⠑⢄⠀⠀⠀⠀⠀⠀⠀⠀⠀⠀⠀⠀⠀⠀⠀⠀⠀⠀⠀⠀⠀⠀⠀⠀⠀⠀⠀⠀⎥\n",
       "⎢⠀⠀⠀⠀⠀⠀⠀⠀⠀⠀⠀⠀⠑⢄⠀⠀⠀⠀⠀⠀⠀⠀⠀⠀⠀⠀⠀⠀⠀⠀⠀⠀⠀⠀⠀⠀⠀⠀⠀⠀⎥\n",
       "⎢⠀⠀⠀⠀⠀⠀⠀⠀⠀⠀⠀⠀⠀⠀⠑⢄⠀⠀⠀⠀⠀⠀⠀⠀⠀⠀⠀⠀⠀⠀⠀⠀⠀⠀⠀⠀⠀⠀⠀⠀⎥\n",
       "⎢⠀⠀⠀⠀⠀⠀⠀⠀⠀⠀⠀⠀⠀⠀⠀⠀⠑⢄⠀⠀⠀⠀⠀⠀⠀⠀⠀⠀⠀⠀⠀⠀⠀⠀⠀⠀⠀⠀⠀⠀⎥\n",
       "⎢⠀⠀⠀⠀⠀⠀⠀⠀⠀⠀⠀⠀⠀⠀⠀⠀⠀⠀⠑⢄⠀⠀⠀⠀⠀⠀⠀⠀⠀⠀⠀⠀⠀⠀⠀⠀⠀⠀⠀⠀⎥\n",
       "⎢⠀⠀⠀⠀⠀⠀⠀⠀⠀⠀⠀⠀⠀⠀⠀⠀⠀⠀⠀⠀⠑⢄⠀⠀⠀⠀⠀⠀⠀⠀⠀⠀⠀⠀⠀⠀⠀⠀⠀⠀⎥\n",
       "⎢⠀⠀⠀⠀⠀⠀⠀⠀⠀⠀⠀⠀⠀⠀⠀⠀⠀⠀⠀⠀⠀⠀⠑⢄⠀⠀⠀⠀⠀⠀⠀⠀⠀⠀⠀⠀⠀⠀⠀⠀⎥\n",
       "⎢⠀⠀⠀⠀⠀⠀⠀⠀⠀⠀⠀⠀⠀⠀⠀⠀⠀⠀⠀⠀⠀⠀⠀⠀⠑⢄⠀⠀⠀⠀⠀⠀⠀⠀⠀⠀⠀⠀⠀⠀⎥\n",
       "⎢⠀⠀⠀⠀⠀⠀⠀⠀⠀⠀⠀⠀⠀⠀⠀⠀⠀⠀⠀⠀⠀⠀⠀⠀⠀⠀⠑⢄⠀⠀⠀⠀⠀⠀⠀⠀⠀⠀⠀⠀⎥\n",
       "⎢⠀⠀⠀⠀⠀⠀⠀⠀⠀⠀⠀⠀⠀⠀⠀⠀⠀⠀⠀⠀⠀⠀⠀⠀⠀⠀⠀⠀⠑⢄⠀⠀⠀⠀⠀⠀⠀⠀⠀⠀⎥\n",
       "⎢⠀⠀⠀⠀⠀⠀⠀⠀⠀⠀⠀⠀⠀⠀⠀⠀⠀⠀⠀⠀⠀⠀⠀⠀⠀⠀⠀⠀⠀⠀⠑⢄⠀⠀⠀⠀⠀⠀⠀⠀⎥\n",
       "⎢⠀⠀⠀⠀⠀⠀⠀⠀⠀⠀⠀⠀⠀⠀⠀⠀⠀⠀⠀⠀⠀⠀⠀⠀⠀⠀⠀⠀⠀⠀⠀⠀⠑⢄⠀⠀⠀⠀⠀⠀⎥\n",
       "⎢⠀⠀⠀⠀⠀⠀⠀⠀⠀⠀⠀⠀⠀⠀⠀⠀⠀⠀⠀⠀⠀⠀⠀⠀⠀⠀⠀⠀⠀⠀⠀⠀⠀⠀⠑⢄⠀⠀⠀⠀⎥\n",
       "⎢⠀⠀⠀⠀⠀⠀⠀⠀⠀⠀⠀⠀⠀⠀⠀⠀⠀⠀⠀⠀⠀⠀⠀⠀⠀⠀⠀⠀⠀⠀⠀⠀⠀⠀⠀⠀⠑⢄⠀⠀⎥\n",
       "⎣⠀⠀⠀⠀⠀⠀⠀⠀⠀⠀⠀⠀⠀⠀⠀⠀⠀⠀⠀⠀⠀⠀⠀⠀⠀⠀⠀⠀⠀⠀⠀⠀⠀⠀⠀⠀⠀⠀⠑⢄⎦"
      ]
     },
     "metadata": {},
     "output_type": "display_data"
    }
   ],
   "source": [
    "M = FEM.massMatrix(problem)"
   ]
  },
  {
   "cell_type": "code",
   "execution_count": 13,
   "metadata": {},
   "outputs": [
    {
     "data": {
      "text/plain": [
       "2588×2588 SparseMatrixCSC{Float64, Int64} with 77152 stored entries:\n",
       "⎡⣻⣾⣳⣍⠀⠁⢈⢿⣸⢸⡓⢰⣸⠨⡥⠶⠎⠦⠒⠂⠀⠐⢶⡰⣜⣓⣚⠀⠈⠏⢼⡠⡁⠀⠀⠀⠀⠌⢌⠄⎤\n",
       "⎢⡝⢾⠱⣦⡀⣀⠀⠹⣼⢸⢉⠸⣼⡐⡖⠚⠃⠓⠉⢁⡀⠈⠳⠜⠮⡩⢭⠀⠀⠃⡚⡔⡄⢀⠀⠀⠀⠂⢢⡆⎥\n",
       "⎢⠄⠀⠀⢨⣻⢞⡳⡅⡷⡃⢬⡳⣿⠀⣟⢼⡣⣋⡁⠠⣝⠲⠀⣉⠀⡇⠠⢈⠀⠀⠀⣟⣽⠄⠀⠀⠀⢘⡳⠀⎥\n",
       "⎢⣦⣔⣄⡀⠝⠮⠱⣦⢹⣥⣄⣹⣽⣠⣯⣾⣵⣁⣀⡄⠈⢙⣀⣀⣲⣧⣤⣦⠠⣶⣀⣏⢾⣆⣀⠀⢀⠼⠹⡂⎥\n",
       "⎢⣒⣚⣒⣛⠽⠫⠗⣶⣿⣿⣊⡟⣿⣻⣿⣾⣷⣿⠁⡈⠹⠛⣀⠋⢛⡋⢙⣚⣿⣿⣿⣿⣸⠉⠐⠛⣿⣻⣿⣟⎥\n",
       "⎢⢙⣈⣃⡐⢦⡳⣄⣹⣮⠼⣻⣾⢿⣿⣭⡉⠌⠠⣟⡛⠦⣴⣂⣶⣾⣿⡛⡿⠤⠤⢢⠲⣘⣶⣾⣻⢯⣏⢇⣅⎥\n",
       "⎢⡒⡚⢒⠻⠛⠛⠓⣻⣿⣻⣿⣷⣿⣿⡛⣚⣒⣃⠀⡽⢃⡼⣺⢿⡿⣝⣿⣿⣘⣛⣟⣲⣾⣾⢿⣦⣿⣟⣗⣛⎥\n",
       "⎢⢡⡏⣸⠉⣛⣝⣫⣿⣻⣿⡇⠻⣻⢨⣿⣿⣭⣹⠀⠐⢘⠁⣵⠀⠛⢚⠘⠛⢿⣻⠿⡟⠉⡀⠀⠀⠛⡟⡟⠛⎥\n",
       "⎢⠪⡅⢭⠀⡭⢪⠕⢻⣽⣿⠂⡁⠼⢸⣇⣻⣿⢟⡀⠀⡨⠑⠈⠀⠀⠐⠀⢀⢇⢿⣪⢫⠴⠂⠀⠀⢉⡲⣝⣙⎥\n",
       "⎢⠸⠀⠇⢀⠁⡈⠀⠼⡁⠠⣿⠹⣄⡤⢀⠀⠀⠈⣿⣿⡀⠰⠇⢨⠰⡠⣧⡯⠀⠀⡀⡠⠀⢀⢀⣠⡄⢄⡀⢀⎥\n",
       "⎢⢀⠀⡀⠈⢳⡙⣆⢀⣷⠂⢈⣧⣉⡴⠖⠐⢆⠊⢀⡈⡻⣮⡀⢉⡉⣏⢉⣈⠀⠒⠁⠲⢈⢥⢀⣤⠶⠀⠒⠆⎥\n",
       "⎢⢘⡳⣙⠆⡄⢠⠀⢸⡤⠘⢨⣼⣾⣞⠑⠛⠂⠀⡉⣁⡄⢈⣻⣾⣾⣤⡄⣨⡠⠣⡙⠙⠰⣲⣖⢀⡐⠀⠀⠃⎥\n",
       "⎢⢶⢹⡎⡣⠤⠤⠼⣾⡿⠰⣾⣿⣟⢯⣻⢀⢀⠀⠐⡢⡧⢬⠚⣿⣻⣾⣷⣛⢉⣐⣉⠂⢊⠑⠣⠤⠈⢙⠚⡛⎥\n",
       "⎢⠚⠘⠃⠓⡀⢂⠠⣿⣳⢰⣿⡬⣿⣿⣶⠀⠀⢀⡭⡿⡃⢰⡀⣩⣽⢻⢿⣷⡀⠀⢓⣀⠎⣱⣬⠭⢷⣶⢴⣶⎥\n",
       "⎢⡦⠄⠤⠀⠀⠀⢠⣦⣿⣿⠀⡇⣶⢸⣿⣳⣭⣕⠀⠀⢠⠀⠤⡊⢃⢰⠀⠈⣿⣿⣼⡍⣈⠂⠀⠀⠙⢶⣷⣅⎥\n",
       "⎢⠒⡳⢚⠬⣤⢤⡤⢼⣿⣿⢨⡒⢻⣹⣿⠧⡮⣚⠀⡨⢡⡀⣗⠈⠣⠘⠙⢰⡖⠿⣛⣼⣾⣍⠉⠀⣶⡶⣼⡏⎥\n",
       "⎢⠁⠈⠀⢉⠓⠟⠺⢷⡖⠚⢲⣼⣺⣿⠃⠠⠰⠃⠀⢀⠆⣔⢰⣢⢎⠐⢎⣡⠢⠘⡞⢿⢻⣶⣶⠢⣶⡜⡏⠁⎥\n",
       "⎢⠀⠀⠀⠀⠀⠀⠀⠘⣴⠀⣾⣻⠻⣷⠀⠀⠀⠀⠀⣰⠀⣴⠘⢙⠉⡆⡆⡟⠀⠀⠃⠀⠸⡛⢻⣶⡆⠀⠄⠀⎥\n",
       "⎢⡀⠄⠠⠀⣀⢀⣀⡔⣿⣻⡯⢷⣿⢿⣿⠤⢣⡰⠀⢍⠘⠃⠐⠈⣆⢀⢹⣷⢳⣄⢸⡿⣘⠿⠈⠉⣿⣿⣗⣿⎥\n",
       "⎣⠂⠕⠨⠶⠙⠊⠳⠢⣿⢿⠍⢵⣽⢹⣿⠉⣗⢹⠀⢈⠸⠄⠤⠀⣾⠠⢰⣷⠝⢿⡶⠿⠏⠉⠀⠁⣽⣽⣵⣿⎦"
      ]
     },
     "metadata": {},
     "output_type": "display_data"
    }
   ],
   "source": [
    "C = 4e-6 * K"
   ]
  },
  {
   "cell_type": "code",
   "execution_count": 14,
   "metadata": {},
   "outputs": [],
   "source": [
    "FEM.applyBoundaryConditions!(problem, K, M, C, f, [supp]);"
   ]
  },
  {
   "cell_type": "code",
   "execution_count": 15,
   "metadata": {},
   "outputs": [
    {
     "data": {
      "text/plain": [
       "2.745273270892753e-7"
      ]
     },
     "metadata": {},
     "output_type": "display_data"
    }
   ],
   "source": [
    "Tₘᵢₙ = FEM.smallestPeriodTime(K, M)"
   ]
  },
  {
   "cell_type": "code",
   "execution_count": 16,
   "metadata": {},
   "outputs": [
    {
     "data": {
      "text/plain": [
       "2588-element Vector{Float64}:\n",
       "  0.0005387852269263553\n",
       " -7.61154376898717e-6\n",
       "  0.0\n",
       "  0.0\n",
       "  0.0\n",
       "  0.0\n",
       "  0.00053876250692672\n",
       "  7.38845657550854e-6\n",
       "  0.00021869445637258067\n",
       " -9.836833553490047e-8\n",
       "  ⋮\n",
       " -7.853248222757615e-7\n",
       "  3.142137965855278e-5\n",
       "  3.66100795484183e-6\n",
       "  2.9191277887710847e-5\n",
       " -4.048479977032783e-6\n",
       "  0.0003092911248420364\n",
       " -3.535508653989133e-6\n",
       "  0.00022889873554789465\n",
       " -3.545778249045908e-6"
      ]
     },
     "metadata": {},
     "output_type": "display_data"
    }
   ],
   "source": [
    "q = FEM.solveDisplacement(K, f)"
   ]
  },
  {
   "cell_type": "code",
   "execution_count": 17,
   "metadata": {},
   "outputs": [
    {
     "data": {
      "text/plain": [
       "2588-element Vector{Float64}:\n",
       " 0.0\n",
       " 0.0\n",
       " 0.0\n",
       " 0.0\n",
       " 0.0\n",
       " 0.0\n",
       " 0.0\n",
       " 0.0\n",
       " 0.0\n",
       " 0.0\n",
       " ⋮\n",
       " 0.0\n",
       " 0.0\n",
       " 0.0\n",
       " 0.0\n",
       " 0.0\n",
       " 0.0\n",
       " 0.0\n",
       " 0.0\n",
       " 0.0"
      ]
     },
     "metadata": {},
     "output_type": "display_data"
    }
   ],
   "source": [
    "dim, dim = size(K)\n",
    "u0 = zeros(dim)\n",
    "v0 = zeros(dim)\n",
    "FEM.initialDisplacement!(problem, \"supp\", u0, ux=0)\n",
    "FEM.initialVelocity!(problem, \"body\", v0, vx=1000)\n",
    "FEM.initialVelocity!(problem, \"supp\", v0, vx=0)\n",
    "f = zeros(dim)"
   ]
  },
  {
   "cell_type": "markdown",
   "metadata": {},
   "source": [
    "$$\\mathbf{M}\\ddot{\\mathbf{q}}+\\mathbf{C}\\dot{\\mathbf{q}}+\\mathbf{K}\\mathbf{q}=\\mathbf{f}$$\n",
    "$$\\mathbf{M}\\ddot{\\mathbf{q}}_n+\\mathbf{C}\\dot{\\mathbf{q}}_n+\\mathbf{K}\\mathbf{q}_n=\\mathbf{f}_n$$\n",
    "$$\\ddot{\\mathbf{q}}_n = \\frac{\\mathbf{q}_{n+1}-2\\mathbf{q}_{n}+\\mathbf{q}_{n-1}}{\\Delta t^2}$$\n",
    "$$\\dot{\\mathbf{q}}_n = \\frac{\\mathbf{q}_{n}-\\mathbf{q}_{n-1}}{\\Delta t}$$\n",
    "$$\\mathbf{M}\\frac{\\mathbf{q}_{n+1}-2\\mathbf{q}_{n}+\\mathbf{q}_{n-1}}{\\Delta t^2}+\\mathbf{C}\\frac{\\mathbf{q}_{n}-\\mathbf{q}_{n-1}}{\\Delta t}+\\mathbf{K}\\mathbf{q}_n=\\mathbf{f}_n$$\n",
    "$$\\mathbf{M}(\\mathbf{q}_{n+1}-2\\mathbf{q}_{n}+\\mathbf{q}_{n-1})+\\Delta t\\mathbf{C}(\\mathbf{q}_{n}-\\mathbf{q}_{n-1})+\\Delta t^2\\mathbf{K}\\mathbf{q}_n=\\Delta t^2\\mathbf{f}_n$$\n",
    "$$\\mathbf{M}\\mathbf{q}_{n+1}=\\left(2\\mathbf{M}-\\Delta t\\mathbf{C}-\\Delta t^{2}\\mathbf{K}\\right)\\mathbf{q}_{n}+(\\Delta t\\mathbf{C}-\\mathbf{M})\\mathbf{q}_{n-1}+\\Delta t^{2}\\mathbf{f}_{n}$$"
   ]
  },
  {
   "cell_type": "code",
   "execution_count": 18,
   "metadata": {},
   "outputs": [
    {
     "data": {
      "text/plain": [
       "(2588, 502)"
      ]
     },
     "metadata": {},
     "output_type": "display_data"
    }
   ],
   "source": [
    "c = √(problem.E / problem.ρ)\n",
    "ξₘₐₓ = 1e-1\n",
    "β = ξₘₐₓ * Tₘᵢₙ / π\n",
    "C = β * K\n",
    "u, v, t = FEM.CDM(K, M, C, f, u0, v0, base / c * 2, Tₘᵢₙ / π * (√(1 + ξₘₐₓ^2) - ξₘₐₓ) * 1.0)\n",
    "size(u)"
   ]
  },
  {
   "cell_type": "code",
   "execution_count": 19,
   "metadata": {},
   "outputs": [
    {
     "data": {
      "text/plain": [
       "Main.FEM.StressField([[-0.9663738559958376; 0.036019482518852695; … ; 0.0; 0.0;;], [-0.9663975402210883; -0.03620082482717857; … ; 0.0; 0.0;;], [-0.999999998423474; 7.777042648359681e-9; … ; 0.0; 0.0;;], [-0.87964454316323; 0.06896142305257648; … ; 0.0; 0.0;;], [-0.8801542074254544; -0.07019244514658929; … ; 0.0; 0.0;;], [-1.5954850603594855; 0.19012632658749282; … ; 0.0; 0.0;;], [-0.8579902966017583; 0.09774510912011238; … ; 0.0; 0.0;;], [-0.8585320776106208; -0.09817032661196436; … ; 0.0; 0.0;;], [-1.00000000822951; -3.485584050288554e-8; … ; 0.0; 0.0;;], [-1.0574252542179057; 0.005285812589493098; … ; 0.0; 0.0;;]  …  [-1.0000000132997389; 2.487217329797056e-8; … ; 0.0; 0.0;;], [-1.016704921365176; 0.0061670456460195386; … ; 0.0; 0.0;;], [-1.0000000049286855; -3.6813000564572818e-9; … ; 0.0; 0.0;;], [-1.000000007040101; 3.11685293793835e-9; … ; 0.0; 0.0;;], [-1.0189183055077116; -0.008923567398218382; … ; 0.0; 0.0;;], [-1.000000008884062; 2.2052880688772945e-9; … ; 0.0; 0.0;;], [-0.9951263939415426; 0.009640635697541861; … ; 0.0; 0.0;;], [-0.9929660018280345; -0.010270165830655239; … ; 0.0; 0.0;;], [-1.4560822327614393; 0.05389903274415109; … ; 0.0; 0.0;;], [-1.4568224846240245; -0.05264600094990843; … ; 0.0; 0.0;;]], [11, 12, 13, 14, 15, 16, 17, 18, 19, 20  …  295, 296, 297, 298, 299, 300, 301, 302, 303, 304], 1)"
      ]
     },
     "metadata": {},
     "output_type": "display_data"
    }
   ],
   "source": [
    "S = FEM.solveStress(problem, q)"
   ]
  },
  {
   "cell_type": "code",
   "execution_count": 20,
   "metadata": {},
   "outputs": [],
   "source": [
    "gmsh.option.setNumber(\"View.IntervalsType\", 3)\n",
    "gmsh.option.setNumber(\"View.VectorType\", 5)\n",
    "gmsh.option.setString(\"View.Format\", \"%.6g\")"
   ]
  },
  {
   "cell_type": "code",
   "execution_count": 21,
   "metadata": {},
   "outputs": [
    {
     "data": {
      "text/plain": [
       "\"uvec..ok\""
      ]
     },
     "metadata": {},
     "output_type": "display_data"
    },
    {
     "data": {
      "text/plain": [
       "\"ux..ok\""
      ]
     },
     "metadata": {},
     "output_type": "display_data"
    },
    {
     "data": {
      "text/plain": [
       "\"uy..ok\""
      ]
     },
     "metadata": {},
     "output_type": "display_data"
    },
    {
     "data": {
      "text/plain": [
       "\"uz..ok\""
      ]
     },
     "metadata": {},
     "output_type": "display_data"
    },
    {
     "data": {
      "text/plain": [
       "\"s..ok\""
      ]
     },
     "metadata": {},
     "output_type": "display_data"
    },
    {
     "data": {
      "text/plain": [
       "\"sx..ok\""
      ]
     },
     "metadata": {},
     "output_type": "display_data"
    },
    {
     "data": {
      "text/plain": [
       "\"sy..ok\""
      ]
     },
     "metadata": {},
     "output_type": "display_data"
    },
    {
     "data": {
      "text/plain": [
       "\"sz..ok\""
      ]
     },
     "metadata": {},
     "output_type": "display_data"
    },
    {
     "data": {
      "text/plain": [
       "\"sxy..ok\""
      ]
     },
     "metadata": {},
     "output_type": "display_data"
    },
    {
     "data": {
      "text/plain": [
       "\"syz..ok\""
      ]
     },
     "metadata": {},
     "output_type": "display_data"
    },
    {
     "data": {
      "text/plain": [
       "\"szx..ok\""
      ]
     },
     "metadata": {},
     "output_type": "display_data"
    },
    {
     "data": {
      "text/plain": [
       "\"uvec..ok\""
      ]
     },
     "metadata": {},
     "output_type": "display_data"
    },
    {
     "name": "stdout",
     "output_type": "stream",
     "text": [
      "Info    : Running Plugin(Smooth)...\n",
      "Info    : Done running Plugin(Smooth)\n",
      "Info    : Running Plugin(Smooth)...\n",
      "Info    : Done running Plugin(Smooth)\n",
      "Info    : Running Plugin(Smooth)...\n",
      "Info    : Done running Plugin(Smooth)\n",
      "Info    : Running Plugin(Smooth)...\n",
      "Info    : Done running Plugin(Smooth)\n",
      "Info    : Running Plugin(Smooth)...\n",
      "Info    : Done running Plugin(Smooth)\n",
      "Info    : Running Plugin(Smooth)...\n",
      "Info    : Done running Plugin(Smooth)\n",
      "Info    : Running Plugin(Smooth)...\n",
      "Info    : Done running Plugin(Smooth)\n"
     ]
    }
   ],
   "source": [
    "uvec = FEM.showDoFResults(problem, q, \"uvec\", name=\"uvec\", visible=false)\n",
    "ux = FEM.showDoFResults(problem, q, \"ux\", name=\"ux\", visible=false)\n",
    "uy = FEM.showDoFResults(problem, q, \"uy\", name=\"uy\", visible=false)\n",
    "uz = FEM.showDoFResults(problem, q, \"uz\", name=\"uz\", visible=false)\n",
    "s = FEM.showStressResults(problem, S, \"s\", name=\"σ\", visible=false, smooth=true)\n",
    "sx = FEM.showStressResults(problem, S, \"sx\", name=\"σx\", visible=false, smooth=true)\n",
    "sy = FEM.showStressResults(problem, S, \"sy\", name=\"σy\", visible=false, smooth=true)\n",
    "sz = FEM.showStressResults(problem, S, \"sz\", name=\"σz\", visible=false, smooth=true)\n",
    "sxy = FEM.showStressResults(problem, S, \"sxy\", name=\"τxy\", visible=false, smooth=true)\n",
    "syz = FEM.showStressResults(problem, S, \"syz\", name=\"τyz\", visible=false, smooth=true)\n",
    "szx = FEM.showStressResults(problem, S, \"szx\", name=\"τzx\", visible=false, smooth=true)\n",
    "vvec = FEM.showDoFResults(problem, v, t=t, \"uvec\", name=\"v(t)\", visible=true)\n",
    "gmsh.view.option.setNumber(vvec, \"NormalRaise\", 0.03)"
   ]
  },
  {
   "cell_type": "code",
   "execution_count": 22,
   "metadata": {},
   "outputs": [],
   "source": [
    "#SS = []\n",
    "#for i in 1:10\n",
    "#    S = FEM.solveStress(problem, u[:, i])\n",
    "#    push!(SS, S)\n",
    "#end\n",
    "#SS"
   ]
  },
  {
   "cell_type": "code",
   "execution_count": 23,
   "metadata": {},
   "outputs": [],
   "source": [
    "#pp1 = gmsh.model.occ.addPoint(0, height / 2, 0)\n",
    "#pp2 = gmsh.model.occ.addPoint(base, height / 2, 0)\n",
    "#pp3 = gmsh.model.occ.addPoint(base / 8, height / 4, 0)\n",
    "\n",
    "#pl1 = gmsh.model.occ.addLine(pp1, pp2)\n",
    "#pl2 = gmsh.model.occ.addSpline([pp1, pp3, pp2])\n",
    "\n",
    "\n",
    "#gmsh.model.occ.synchronize()"
   ]
  },
  {
   "cell_type": "code",
   "execution_count": 24,
   "metadata": {},
   "outputs": [
    {
     "data": {
      "text/plain": [
       "84"
      ]
     },
     "metadata": {},
     "output_type": "display_data"
    },
    {
     "data": {
      "text/plain": [
       "\"s..ok\""
      ]
     },
     "metadata": {},
     "output_type": "display_data"
    }
   ],
   "source": [
    "sts = ceil(Int64, (base / c * 2) / 6 / (Tₘᵢₙ / π * (√(1 + ξₘₐₓ^2) - ξₘₐₓ)))\n",
    "display(sts)\n",
    "Sp = FEM.solveStress(problem, u[:, sts])\n",
    "sp = FEM.showStressResults(problem, Sp, \"s\", name=\"σ at t\", visible=false, smooth=false);"
   ]
  },
  {
   "cell_type": "code",
   "execution_count": 25,
   "metadata": {},
   "outputs": [
    {
     "data": {
      "text/plain": [
       "\"s..ok\""
      ]
     },
     "metadata": {},
     "output_type": "display_data"
    }
   ],
   "source": [
    "Sanim = FEM.solveStress(problem, u[:, 1:sts])\n",
    "sanim = FEM.showStressResults(problem, Sanim, \"s\", t=t[1:sts], name=\"σ anim\", visible=false, smooth=false);"
   ]
  },
  {
   "cell_type": "code",
   "execution_count": 26,
   "metadata": {},
   "outputs": [],
   "source": [
    "#gmsh.option.setNumber(\"PostProcessing.Binary\", 1)\n",
    "#gmsh.option.setNumber(\"PostProcessing.SaveMesh\", 1)\n",
    "\n",
    "#gmsh.write(\"rect.msh\")\n",
    "#gmsh.write(\"rect.opt\")\n",
    "#gmsh.view.write(4, \"rect.pos\")"
   ]
  },
  {
   "cell_type": "code",
   "execution_count": 27,
   "metadata": {},
   "outputs": [
    {
     "name": "stdout",
     "output_type": "stream",
     "text": [
      "-------------------------------------------------------\n",
      "Version       : 4.12.2\n",
      "License       : GNU General Public License\n",
      "Build OS      : Linux64-sdk\n",
      "Build date    : 20240121\n",
      "Build host    : gmsh.info\n",
      "Build options : 64Bit ALGLIB[contrib] ANN[contrib] Bamg Blas[petsc] Blossom Cgns DIntegration Dlopen DomHex Eigen[contrib] Fltk Gmm[contrib] Hxt Jpeg Kbipack Lapack[petsc] LinuxJoystick MathEx[contrib] Med Mesh Metis[contrib] Mmg Mpeg Netgen ONELAB ONELABMetamodel OpenCASCADE OpenCASCADE-CAF OpenGL OpenMP OptHom PETSc Parser Plugins Png Post QuadMeshingTools QuadTri Solver TetGen/BR Voro++[contrib] WinslowUntangler Zlib\n",
      "FLTK version  : 1.4.0\n",
      "PETSc version : 3.14.4 (real arithmtic)\n",
      "OCC version   : 7.7.2\n",
      "MED version   : 4.1.0\n",
      "Packaged by   : geuzaine\n",
      "Web site      : https://gmsh.info\n",
      "Issue tracker : https://gitlab.onelab.info/gmsh/gmsh/issues\n",
      "-------------------------------------------------------\n"
     ]
    }
   ],
   "source": [
    "ENV[\"LIBGL_ALWAYS_SOFTWARE\"] = \"false\"\n",
    "gmsh.fltk.run()"
   ]
  },
  {
   "cell_type": "code",
   "execution_count": 28,
   "metadata": {
    "slideshow": {
     "slide_type": ""
    },
    "tags": []
   },
   "outputs": [],
   "source": [
    "gmsh.finalize()"
   ]
  }
 ],
 "metadata": {
  "kernelspec": {
   "display_name": "Julia 1.10.1",
   "language": "julia",
   "name": "julia-1.10"
  },
  "language_info": {
   "file_extension": ".jl",
   "mimetype": "application/julia",
   "name": "julia",
   "version": "1.10.1"
  },
  "varInspector": {
   "cols": {
    "lenName": 16,
    "lenType": 16,
    "lenVar": 40
   },
   "kernels_config": {
    "python": {
     "delete_cmd_postfix": "",
     "delete_cmd_prefix": "del ",
     "library": "var_list.py",
     "varRefreshCmd": "print(var_dic_list())"
    },
    "r": {
     "delete_cmd_postfix": ") ",
     "delete_cmd_prefix": "rm(",
     "library": "var_list.r",
     "varRefreshCmd": "cat(var_dic_list()) "
    }
   },
   "types_to_exclude": [
    "module",
    "function",
    "builtin_function_or_method",
    "instance",
    "_Feature"
   ],
   "window_display": false
  }
 },
 "nbformat": 4,
 "nbformat_minor": 4
}
