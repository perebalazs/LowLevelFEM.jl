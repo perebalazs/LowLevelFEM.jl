{
 "cells": [
  {
   "cell_type": "code",
   "execution_count": 1,
   "metadata": {},
   "outputs": [],
   "source": [
    "using LinearAlgebra, SparseArrays\n",
    "import LowLevelFEM as FEM\n",
    "using LowLevelFEM\n",
    "\n",
    "gmsh.initialize()"
   ]
  },
  {
   "cell_type": "code",
   "execution_count": 2,
   "metadata": {},
   "outputs": [
    {
     "data": {
      "text/plain": [
       "true"
      ]
     },
     "metadata": {},
     "output_type": "display_data"
    }
   ],
   "source": [
    "# Adatok\n",
    "E = 2e5\n",
    "ν = 0.3\n",
    "ρ = 7.85e-9\n",
    "thickness = 1\n",
    "height = 10\n",
    "base = 100\n",
    "elemSize = 2 #22\n",
    "\n",
    "approxOrder = 2\n",
    "internalNodes = true\n",
    "quadElements = true"
   ]
  },
  {
   "cell_type": "code",
   "execution_count": 3,
   "metadata": {},
   "outputs": [],
   "source": [
    "# Geometria megrajzolása\n",
    "gmsh.model.add(\"rectangle\")\n",
    "\n",
    "p1 = gmsh.model.occ.addPoint(0, 0, 0)\n",
    "p2 = gmsh.model.occ.addPoint(base, 0, 0)\n",
    "#p23 = gmsh.model.occ.addPoint(base, height / 2, 0)\n",
    "p3 = gmsh.model.occ.addPoint(base, height, 0)\n",
    "p4 = gmsh.model.occ.addPoint(0, height, 0)\n",
    "\n",
    "l1 = gmsh.model.occ.addLine(p1, p2)\n",
    "l2 = gmsh.model.occ.addLine(p2, p3)\n",
    "#l23 = gmsh.model.occ.addLine(p23, p3)\n",
    "l3 = gmsh.model.occ.addLine(p3, p4)\n",
    "l4 = gmsh.model.occ.addLine(p4, p1)\n",
    "\n",
    "cl1 = gmsh.model.occ.addCurveLoop([l1, l2, l3, l4])\n",
    "\n",
    "l5 = gmsh.model.occ.addCircle(base / 2, height / 2, 0, min(base, height) / 4)\n",
    "cl2 = gmsh.model.occ.addCurveLoop([l5])\n",
    "\n",
    "sf1 = gmsh.model.occ.addPlaneSurface([cl1, cl2])\n",
    "#display(sf1)\n",
    "\n",
    "#cp1 = gmsh.model.occ.addPoint(base / 2, height / 2, 0)\n",
    "#cl1 = gmsh.model.occ.addLine(p1, p3)\n",
    "#cl2 = gmsh.model.occ.addLine(p2, p4)\n",
    "\n",
    "#sf2 = gmsh.model.occ.fragment([(2, sf1)], [(1, cl1)])\n",
    "#gmsh.model.occ.removeAllDuplicates()\n",
    "\n",
    "#p5 = gmsh.model.occ.addPoint(0, height / 2, 0)\n",
    "#p6 = gmsh.model.occ.addPoint(base, height / 2, 0)\n",
    "#l5 = gmsh.model.occ.addLine(p5, p6)\n",
    "\n",
    "gmsh.model.occ.synchronize()\n",
    "#sf2"
   ]
  },
  {
   "cell_type": "code",
   "execution_count": 4,
   "metadata": {},
   "outputs": [],
   "source": [
    "problem = FEM.Problem(type=\"PlaneStress\", E=E, ν=ν, ρ=ρ, thickness=thickness)"
   ]
  },
  {
   "cell_type": "code",
   "execution_count": null,
   "metadata": {},
   "outputs": [],
   "source": [
    "phg = gmsh.model.addPhysicalGroup(1, [l2])\n",
    "gmsh.model.setPhysicalName(1, phg, \"supp\")\n",
    "phg = gmsh.model.addPhysicalGroup(1, [l4])\n",
    "gmsh.model.setPhysicalName(1, phg, \"load\")\n",
    "phg = gmsh.model.addPhysicalGroup(2, [sf1])\n",
    "gmsh.model.setPhysicalName(2, phg, \"body\")\n"
   ]
  },
  {
   "cell_type": "code",
   "execution_count": null,
   "metadata": {},
   "outputs": [],
   "source": [
    "supp = FEM.displacementConstraint(\"supp\", ux=0, uy=0)\n",
    "load = FEM.load(\"load\", fx=1, fy=0)"
   ]
  },
  {
   "cell_type": "code",
   "execution_count": null,
   "metadata": {},
   "outputs": [],
   "source": [
    "FEM.generateMesh(problem, sf1, elemSize, approxOrder=approxOrder, algorithm=6, quadrangle=quadElements, internalNodes=internalNodes)"
   ]
  },
  {
   "cell_type": "code",
   "execution_count": null,
   "metadata": {},
   "outputs": [],
   "source": [
    "ENV[\"LIBGL_ALWAYS_SOFTWARE\"] = \"true\"\n",
    "#gmsh.fltk.run()\n",
    "#gmsh.fltk.wait(3)"
   ]
  },
  {
   "cell_type": "code",
   "execution_count": null,
   "metadata": {},
   "outputs": [],
   "source": [
    "# Néhány láthatósági beállítás 0:kikapcs. 1:bekapcs.\n",
    "gmsh.option.setNumber(\"Geometry.CurveLabels\", 0)\n",
    "gmsh.option.setNumber(\"Geometry.Points\", 0)\n",
    "gmsh.option.setNumber(\"Geometry.Curves\", 0)\n",
    "gmsh.option.setNumber(\"Mesh.Points\", 0)\n",
    "gmsh.option.setNumber(\"Mesh.Lines\", 0)\n",
    "gmsh.option.setNumber(\"Mesh.SurfaceEdges\", 0)\n",
    "gmsh.option.setNumber(\"Mesh.NodeLabels\", 0)\n",
    "gmsh.option.setNumber(\"Mesh.LineLabels\", 0)\n",
    "gmsh.option.setNumber(\"Mesh.SurfaceLabels\", 0)"
   ]
  },
  {
   "cell_type": "code",
   "execution_count": null,
   "metadata": {},
   "outputs": [],
   "source": [
    "K = FEM.stiffnessMatrix(problem)"
   ]
  },
  {
   "cell_type": "code",
   "execution_count": null,
   "metadata": {},
   "outputs": [],
   "source": [
    "f = FEM.loadVector(problem, [load])"
   ]
  },
  {
   "cell_type": "code",
   "execution_count": null,
   "metadata": {},
   "outputs": [],
   "source": [
    "M = FEM.massMatrix(problem)"
   ]
  },
  {
   "cell_type": "code",
   "execution_count": null,
   "metadata": {},
   "outputs": [],
   "source": [
    "C = 4e-6 * K"
   ]
  },
  {
   "cell_type": "code",
   "execution_count": null,
   "metadata": {},
   "outputs": [],
   "source": [
    "FEM.applyBoundaryConditions!(problem, K, M, C, f, [supp]);"
   ]
  },
  {
   "cell_type": "code",
   "execution_count": null,
   "metadata": {},
   "outputs": [],
   "source": [
    "Tₘᵢₙ = FEM.smallestPeriodTime(K, M)"
   ]
  },
  {
   "cell_type": "code",
   "execution_count": null,
   "metadata": {},
   "outputs": [],
   "source": [
    "q = FEM.solveDisplacement(K, f)"
   ]
  },
  {
   "cell_type": "code",
   "execution_count": null,
   "metadata": {},
   "outputs": [],
   "source": [
    "dim, dim = size(K)\n",
    "u0 = zeros(dim)\n",
    "v0 = zeros(dim)\n",
    "FEM.initialDisplacement!(problem, \"supp\", u0, ux=0)\n",
    "FEM.initialVelocity!(problem, \"body\", v0, vx=1000)\n",
    "FEM.initialVelocity!(problem, \"supp\", v0, vx=0)\n",
    "f = zeros(dim)"
   ]
  },
  {
   "cell_type": "markdown",
   "metadata": {},
   "source": [
    "$$\\mathbf{M}\\ddot{\\mathbf{q}}+\\mathbf{C}\\dot{\\mathbf{q}}+\\mathbf{K}\\mathbf{q}=\\mathbf{f}$$\n",
    "$$\\mathbf{M}\\ddot{\\mathbf{q}}_n+\\mathbf{C}\\dot{\\mathbf{q}}_n+\\mathbf{K}\\mathbf{q}_n=\\mathbf{f}_n$$\n",
    "$$\\ddot{\\mathbf{q}}_n = \\frac{\\mathbf{q}_{n+1}-2\\mathbf{q}_{n}+\\mathbf{q}_{n-1}}{\\Delta t^2}$$\n",
    "$$\\dot{\\mathbf{q}}_n = \\frac{\\mathbf{q}_{n}-\\mathbf{q}_{n-1}}{\\Delta t}$$\n",
    "$$\\mathbf{M}\\frac{\\mathbf{q}_{n+1}-2\\mathbf{q}_{n}+\\mathbf{q}_{n-1}}{\\Delta t^2}+\\mathbf{C}\\frac{\\mathbf{q}_{n}-\\mathbf{q}_{n-1}}{\\Delta t}+\\mathbf{K}\\mathbf{q}_n=\\mathbf{f}_n$$\n",
    "$$\\mathbf{M}(\\mathbf{q}_{n+1}-2\\mathbf{q}_{n}+\\mathbf{q}_{n-1})+\\Delta t\\mathbf{C}(\\mathbf{q}_{n}-\\mathbf{q}_{n-1})+\\Delta t^2\\mathbf{K}\\mathbf{q}_n=\\Delta t^2\\mathbf{f}_n$$\n",
    "$$\\mathbf{M}\\mathbf{q}_{n+1}=\\left(2\\mathbf{M}-\\Delta t\\mathbf{C}-\\Delta t^{2}\\mathbf{K}\\right)\\mathbf{q}_{n}+(\\Delta t\\mathbf{C}-\\mathbf{M})\\mathbf{q}_{n-1}+\\Delta t^{2}\\mathbf{f}_{n}$$"
   ]
  },
  {
   "cell_type": "code",
   "execution_count": null,
   "metadata": {},
   "outputs": [],
   "source": [
    "c = √(problem.E / problem.ρ)\n",
    "ξₘₐₓ = 1e-1\n",
    "β = ξₘₐₓ * Tₘᵢₙ / π\n",
    "C = β * K\n",
    "u, v, t = FEM.CDM(K, M, C, f, u0, v0, base / c * 2, Tₘᵢₙ / π * (√(1 + ξₘₐₓ^2) - ξₘₐₓ) * 1.0)\n",
    "size(u)"
   ]
  },
  {
   "cell_type": "code",
   "execution_count": null,
   "metadata": {},
   "outputs": [],
   "source": [
    "S = FEM.solveStress(problem, q)"
   ]
  },
  {
   "cell_type": "code",
   "execution_count": null,
   "metadata": {},
   "outputs": [],
   "source": [
    "gmsh.option.setNumber(\"View.IntervalsType\", 3)\n",
    "gmsh.option.setNumber(\"View.VectorType\", 5)\n",
    "gmsh.option.setString(\"View.Format\", \"%.6g\")"
   ]
  },
  {
   "cell_type": "code",
   "execution_count": null,
   "metadata": {},
   "outputs": [],
   "source": [
    "uvec = FEM.showDoFResults(problem, q, \"uvec\", name=\"uvec\", visible=false)\n",
    "ux = FEM.showDoFResults(problem, q, \"ux\", name=\"ux\", visible=false)\n",
    "uy = FEM.showDoFResults(problem, q, \"uy\", name=\"uy\", visible=false)\n",
    "uz = FEM.showDoFResults(problem, q, \"uz\", name=\"uz\", visible=false)\n",
    "s = FEM.showStressResults(problem, S, \"s\", name=\"σ\", visible=false, smooth=true)\n",
    "sx = FEM.showStressResults(problem, S, \"sx\", name=\"σx\", visible=false, smooth=true)\n",
    "sy = FEM.showStressResults(problem, S, \"sy\", name=\"σy\", visible=false, smooth=true)\n",
    "sz = FEM.showStressResults(problem, S, \"sz\", name=\"σz\", visible=false, smooth=true)\n",
    "sxy = FEM.showStressResults(problem, S, \"sxy\", name=\"τxy\", visible=false, smooth=true)\n",
    "syz = FEM.showStressResults(problem, S, \"syz\", name=\"τyz\", visible=false, smooth=true)\n",
    "szx = FEM.showStressResults(problem, S, \"szx\", name=\"τzx\", visible=false, smooth=true)\n",
    "vvec = FEM.showDoFResults(problem, v, t=t, \"uvec\", name=\"v(t)\", visible=true)\n",
    "gmsh.view.option.setNumber(vvec, \"NormalRaise\", 0.03)"
   ]
  },
  {
   "cell_type": "code",
   "execution_count": null,
   "metadata": {},
   "outputs": [],
   "source": [
    "#SS = []\n",
    "#for i in 1:10\n",
    "#    S = FEM.solveStress(problem, u[:, i])\n",
    "#    push!(SS, S)\n",
    "#end\n",
    "#SS"
   ]
  },
  {
   "cell_type": "code",
   "execution_count": null,
   "metadata": {},
   "outputs": [],
   "source": [
    "#pp1 = gmsh.model.occ.addPoint(0, height / 2, 0)\n",
    "#pp2 = gmsh.model.occ.addPoint(base, height / 2, 0)\n",
    "#pp3 = gmsh.model.occ.addPoint(base / 8, height / 4, 0)\n",
    "\n",
    "#pl1 = gmsh.model.occ.addLine(pp1, pp2)\n",
    "#pl2 = gmsh.model.occ.addSpline([pp1, pp3, pp2])\n",
    "\n",
    "\n",
    "#gmsh.model.occ.synchronize()"
   ]
  },
  {
   "cell_type": "code",
   "execution_count": null,
   "metadata": {},
   "outputs": [],
   "source": [
    "sts = ceil(Int64, (base / c * 2) / 6 / (Tₘᵢₙ / π * (√(1 + ξₘₐₓ^2) - ξₘₐₓ)))\n",
    "display(sts)\n",
    "Sp = FEM.solveStress(problem, u[:, sts])\n",
    "sp = FEM.showStressResults(problem, Sp, \"s\", name=\"σ at t\", visible=false, smooth=false);"
   ]
  },
  {
   "cell_type": "code",
   "execution_count": null,
   "metadata": {},
   "outputs": [],
   "source": [
    "Sanim = FEM.solveStress(problem, u[:, 1:sts])\n",
    "sanim = FEM.showStressResults(problem, Sanim, \"s\", t=t[1:sts], name=\"σ anim\", visible=false, smooth=false);"
   ]
  },
  {
   "cell_type": "code",
   "execution_count": null,
   "metadata": {},
   "outputs": [],
   "source": [
    "#gmsh.option.setNumber(\"PostProcessing.Binary\", 1)\n",
    "#gmsh.option.setNumber(\"PostProcessing.SaveMesh\", 1)\n",
    "\n",
    "#gmsh.write(\"rect.msh\")\n",
    "#gmsh.write(\"rect.opt\")\n",
    "#gmsh.view.write(4, \"rect.pos\")"
   ]
  },
  {
   "cell_type": "code",
   "execution_count": null,
   "metadata": {},
   "outputs": [],
   "source": [
    "ENV[\"LIBGL_ALWAYS_SOFTWARE\"] = \"false\"\n",
    "gmsh.fltk.run()"
   ]
  },
  {
   "cell_type": "code",
   "execution_count": null,
   "metadata": {
    "slideshow": {
     "slide_type": ""
    },
    "tags": []
   },
   "outputs": [],
   "source": [
    "gmsh.finalize()"
   ]
  }
 ],
 "metadata": {
  "kernelspec": {
   "display_name": "Julia 1.10.1",
   "language": "julia",
   "name": "julia-1.10"
  },
  "language_info": {
   "file_extension": ".jl",
   "mimetype": "application/julia",
   "name": "julia",
   "version": "1.10.1"
  },
  "varInspector": {
   "cols": {
    "lenName": 16,
    "lenType": 16,
    "lenVar": 40
   },
   "kernels_config": {
    "python": {
     "delete_cmd_postfix": "",
     "delete_cmd_prefix": "del ",
     "library": "var_list.py",
     "varRefreshCmd": "print(var_dic_list())"
    },
    "r": {
     "delete_cmd_postfix": ") ",
     "delete_cmd_prefix": "rm(",
     "library": "var_list.r",
     "varRefreshCmd": "cat(var_dic_list()) "
    }
   },
   "types_to_exclude": [
    "module",
    "function",
    "builtin_function_or_method",
    "instance",
    "_Feature"
   ],
   "window_display": false
  }
 },
 "nbformat": 4,
 "nbformat_minor": 4
}
