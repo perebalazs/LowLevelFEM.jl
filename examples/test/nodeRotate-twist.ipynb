{
 "cells": [
  {
   "cell_type": "code",
   "execution_count": 291,
   "metadata": {},
   "outputs": [],
   "source": [
    "import LowLevelFEM as FEM\n",
    "using LowLevelFEM\n",
    "\n",
    "gmsh.initialize()"
   ]
  },
  {
   "cell_type": "code",
   "execution_count": 292,
   "metadata": {},
   "outputs": [
    {
     "name": "stdout",
     "output_type": "stream",
     "text": [
      "Info    : Reading 'test-twist.geo'...\n",
      "Info    : Meshing 1D...\n",
      "Info    : [  0%] Meshing curve 1 (Circle)\n",
      "Info    : [ 40%] Meshing curve 2 (Line)\n",
      "Info    : [ 70%] Meshing curve 3 (Circle)\n",
      "Info    : Done meshing 1D (Wall 0.000477083s, CPU 0.000444s)\n",
      "Info    : Meshing 2D...\n",
      "Info    : [  0%] Meshing surface 1 (Cylinder, Frontal-Delaunay)\n",
      "Info    : [ 40%] Meshing surface 2 (Plane, Frontal-Delaunay)\n",
      "Info    : [ 70%] Meshing surface 3 (Plane, Frontal-Delaunay)\n",
      "Info    : Done meshing 2D (Wall 0.00812524s, CPU 0.00791s)\n",
      "Info    : Meshing 3D...\n",
      "Info    : 3D Meshing 1 volume with 1 connected component\n",
      "Info    : Tetrahedrizing 94 nodes...\n",
      "Info    : Done tetrahedrizing 102 nodes (Wall 0.00130897s, CPU 0.001306s)\n",
      "Info    : Reconstructing mesh...\n",
      "Info    :  - Creating surface mesh\n",
      "Info    :  - Identifying boundary edges\n",
      "Info    :  - Recovering boundary\n",
      "Info    : Done reconstructing mesh (Wall 0.00268566s, CPU 0.002677s)\n",
      "Info    : Found volume 1\n",
      "Info    : It. 0 - 0 nodes created - worst tet radius 1.161 (nodes removed 0 0)\n",
      "Info    : 3D refinement terminated (100 nodes total):\n",
      "Info    :  - 0 Delaunay cavities modified for star shapeness\n",
      "Info    :  - 0 nodes could not be inserted\n",
      "Info    :  - 227 tetrahedra created in 0.000849193 sec. (267312 tets/s)\n",
      "Info    : 0 node relocations\n",
      "Info    : Done meshing 3D (Wall 0.00790155s, CPU 0.007269s)\n",
      "Info    : Optimizing mesh...\n",
      "Info    : Optimizing volume 1\n",
      "Info    : Optimization starts (volume = 27826.4) with worst = 0.255755 / average = 0.811911:\n",
      "Info    : 0.00 < quality < 0.10 :         0 elements\n",
      "Info    : 0.10 < quality < 0.20 :         0 elements\n",
      "Info    : 0.20 < quality < 0.30 :         2 elements\n",
      "Info    : 0.30 < quality < 0.40 :         3 elements\n",
      "Info    : 0.40 < quality < 0.50 :         3 elements\n",
      "Info    : 0.50 < quality < 0.60 :         5 elements\n",
      "Info    : 0.60 < quality < 0.70 :        24 elements\n",
      "Info    : 0.70 < quality < 0.80 :        54 elements\n",
      "Info    : 0.80 < quality < 0.90 :        71 elements\n",
      "Info    : 0.90 < quality < 1.00 :        65 elements\n",
      "Info    : 2 edge swaps, 0 node relocations (volume = 27826.4): worst = 0.375899 / average = 0.818579 (Wall 0.000128456s, CPU 0.000132s)\n",
      "Info    : No ill-shaped tets in the mesh :-)\n",
      "Info    : 0.00 < quality < 0.10 :         0 elements\n",
      "Info    : 0.10 < quality < 0.20 :         0 elements\n",
      "Info    : 0.20 < quality < 0.30 :         0 elements\n",
      "Info    : 0.30 < quality < 0.40 :         2 elements\n",
      "Info    : 0.40 < quality < 0.50 :         3 elements\n",
      "Info    : 0.50 < quality < 0.60 :         5 elements\n",
      "Info    : 0.60 < quality < 0.70 :        25 elements\n",
      "Info    : 0.70 < quality < 0.80 :        54 elements\n",
      "Info    : 0.80 < quality < 0.90 :        70 elements\n",
      "Info    : 0.90 < quality < 1.00 :        66 elements\n",
      "Info    : Done optimizing mesh (Wall 0.000969376s, CPU 0.00097s)\n",
      "Info    : Meshing order 3 (curvilinear on)...\n",
      "Info    : [  0%] Meshing curve 1 order 3\n",
      "Info    : [ 20%] Meshing curve 2 order 3\n",
      "Info    : [ 30%] Meshing curve 3 order 3\n",
      "Info    : [ 50%] Meshing surface 1 order 3\n",
      "Info    : [ 60%] Meshing surface 2 order 3\n",
      "Info    : [ 80%] Meshing surface 3 order 3\n",
      "Info    : [ 90%] Meshing volume 1 order 3\n",
      "Info    : Surface mesh: worst distortion = 0.57293 (0 elements in ]0, 0.2]); worst gamma = 0.756029\n",
      "Info    : Done meshing order 3 (Wall 0.00704513s, CPU 0.006454s)\n",
      "Info    : 1474 nodes 435 elements\n",
      "Info    : Done reading 'test-twist.geo'\n"
     ]
    },
    {
     "name": "stderr",
     "output_type": "stream",
     "text": [
      "Warning : Volume mesh: worst distortion = -0.138437 (avg = 0.947339, 5 elements with jac. < 0)\n",
      "Warning : ------------------------------\n",
      "Warning : Mesh generation error summary\n",
      "Warning :     1 warning\n",
      "Warning :     0 errors\n",
      "Warning : Check the full log for details\n",
      "Warning : ------------------------------\n"
     ]
    }
   ],
   "source": [
    "gmsh.open(\"test-twist.geo\")"
   ]
  },
  {
   "cell_type": "code",
   "execution_count": 293,
   "metadata": {},
   "outputs": [],
   "source": [
    "#gmsh.fltk.run()"
   ]
  },
  {
   "cell_type": "code",
   "execution_count": 294,
   "metadata": {},
   "outputs": [
    {
     "name": "stdout",
     "output_type": "stream",
     "text": [
      "Info    : RCMK renumbering...\n",
      "Info    : Done RCMK renumbering (bandwidth is now 428)\n"
     ]
    },
    {
     "data": {
      "text/plain": [
       "LowLevelFEM.Problem(\"test-twist\", \"Solid\", 3, 3, LowLevelFEM.Material[LowLevelFEM.Material(\"body\", 200000.0, 0.3, 7.85e-9, 45.0, 4.2e8, 1.2e-5)], 1.0, 1474)"
      ]
     },
     "metadata": {},
     "output_type": "display_data"
    }
   ],
   "source": [
    "mat = FEM.material(\"body\", E=2e5, ν=0.3, ρ=7.85e-9)\n",
    "problem = FEM.Problem([mat], type=\"Solid\")"
   ]
  },
  {
   "cell_type": "code",
   "execution_count": 295,
   "metadata": {},
   "outputs": [
    {
     "data": {
      "text/plain": [
       "4422×4422 SparseArrays.SparseMatrixCSC{Float64, Int64} with 507906 stored entries:\n",
       "⎡⡿⣯⣷⣿⣿⠛⠷⠶⢶⣤⣀⠀⠀⠀⠀⠀⠀⠀⠀⠀⠀⣟⣷⡄⡶⠶⡲⣶⣟⡖⠿⠰⠶⣿⣿⣟⢟⣿⡷⡗⎤\n",
       "⎢⣽⣿⣿⣿⣭⣭⡿⠿⠿⣯⣿⣿⣿⣿⣿⣷⣶⣿⣶⣶⣥⣭⣿⣿⠿⣿⣿⣿⣿⣿⣿⣿⣿⣯⣭⣿⣿⣿⣿⣿⎥\n",
       "⎢⣿⠛⡇⣿⡿⣯⡃⠀⠀⢟⠒⠀⠀⢄⡀⠆⠀⠀⠀⠀⢀⣿⢻⢇⠀⠀⠃⠐⠛⡺⠻⠀⠘⣹⢿⣵⣿⣟⣋⠗⎥\n",
       "⎢⢹⡇⣿⡏⠉⠈⢿⣷⣄⠈⢈⡀⡄⠴⠋⠀⠀⠀⠀⠀⠀⠉⢻⠀⣠⣶⢸⣴⡏⡍⠄⠸⠻⠏⠈⢀⡋⣹⣷⢍⎥\n",
       "⎢⠘⣷⡿⣧⣤⢄⡀⠙⠿⣧⡀⢋⠺⠂⢠⠄⠀⠀⠀⠀⢀⣀⣸⡦⠟⠋⡉⢯⣅⣁⡁⠂⢀⢠⣤⠀⣠⢟⣢⡌⎥\n",
       "⎢⠀⠘⣿⣿⠘⠀⠂⠰⡤⢈⣻⣾⡀⠐⢲⠀⢀⣐⠀⢴⡤⠘⣻⠤⢤⠄⡳⣼⡝⣏⡧⠄⢄⡀⠠⡿⣿⢸⣶⣳⎥\n",
       "⎢⠀⠀⣿⣿⠀⢄⢀⡍⠺⠂⢀⠈⠻⣦⣁⠝⠇⣽⣖⢤⡄⡄⣹⣧⠟⢟⢿⠟⠃⣿⡥⢤⣌⠁⢄⣤⣠⢯⣿⡅⎥\n",
       "⎢⠀⠀⢿⣿⠠⠌⠋⠀⠀⠖⠘⠒⣅⠜⠿⣧⣈⡛⠈⠦⠈⠃⣻⠾⢨⣥⣆⡆⡞⣻⢲⢞⢸⡅⠌⣋⠳⠚⣯⣝⎥\n",
       "⎢⠀⠀⣼⣿⠀⠀⠀⠀⠀⠀⢀⢰⣍⣥⣦⠸⢿⣷⡁⠰⡖⡄⣾⠀⣀⢫⠉⡁⢁⣻⡽⢻⣿⡖⠀⣿⢿⣶⣾⡞⎥\n",
       "⎢⠀⠀⢸⣿⠀⠀⠀⠀⠀⠀⢀⣄⠘⣝⠢⡄⢁⡈⢻⣶⣳⠆⢸⣿⠏⡘⢁⣅⠌⢻⣸⣷⡄⢀⠓⣠⣠⠑⢏⣾⎥\n",
       "⎢⣤⢤⡅⣿⣤⣴⡄⠀⠀⢰⣀⠋⠀⠭⠦⠀⠘⠭⠹⠞⠻⣦⣼⠰⠃⠈⡀⢉⣀⣿⣟⠳⠥⣼⣿⣿⣿⣷⡸⣟⎥\n",
       "⎢⠙⠿⣿⣿⠿⢖⠛⠒⠲⡾⠛⡞⠷⣾⣻⡞⠚⠛⣶⣶⢒⡛⢻⣶⡖⠒⠓⡾⡟⣿⢳⣾⡛⠳⢶⣛⢻⠟⣿⣟⎥\n",
       "⎢⢸⡏⣿⣧⠀⠀⢠⣾⡿⠁⠀⠗⣿⢅⠆⣶⡤⣘⣋⠡⡉⠀⢸⠉⣿⣿⣦⣿⣌⣬⣫⡧⠴⠆⡈⡁⠀⡿⣿⢖⎥\n",
       "⎢⢸⣮⣿⣿⢉⠀⢒⣶⡧⣌⣙⣮⣿⠗⠨⠽⠇⠠⠅⢴⡄⢈⣹⡤⣬⣿⣿⣿⣯⡿⡿⡔⡒⢃⠀⢙⠫⣼⣿⢺⎥\n",
       "⎢⢻⠽⣿⣿⣻⡠⡏⠭⠅⢹⡷⢭⣭⣤⣾⣩⣥⣰⣦⣁⣤⣼⣿⣭⡂⣽⣯⡿⣿⣿⣛⣅⣹⣡⣤⣵⣿⣿⣿⣿⎥\n",
       "⎢⢛⡃⣿⣿⠛⠂⣀⡁⠡⠈⠉⠏⠁⣏⣸⢖⣷⣋⢶⣾⢿⡙⣹⣶⠯⡾⢛⠯⠟⢼⣿⣿⣍⡩⠿⣿⣿⣽⣞⣿⎥\n",
       "⎢⣼⣧⡿⣿⣖⣠⡿⠆⠀⣐⠀⠱⠆⠙⠖⠶⢻⠿⠀⢉⣁⣧⢿⡈⠰⠇⠼⢈⠗⣺⡇⡹⡿⣯⣠⣿⣟⣿⢿⡏⎥\n",
       "⎢⣿⢿⣧⣿⢟⣷⠂⢀⠀⠛⣤⡦⠀⣵⡦⢡⣤⣤⠙⣠⣿⣿⣼⢳⠆⠨⣄⢀⢄⣿⣿⣧⣤⣾⣿⣿⣿⣷⣾⣇⎥\n",
       "⎢⣿⣵⣿⣿⣿⢿⣏⣨⣤⢞⣛⣛⡤⣞⣹⠂⢻⣷⢄⠚⢿⣿⣿⠖⣤⡤⣋⣦⣿⣿⣟⣿⣿⣽⢿⣿⣿⣿⣿⣟⎥\n",
       "⎣⢽⠯⣿⣿⢯⠜⡝⢟⡈⠾⢼⣻⠟⠿⣏⢿⣺⠿⣫⣵⣶⢮⣿⢿⢻⢟⣻⣛⣿⣿⣾⣽⡿⠷⠾⢿⣿⢿⣿⣿⎦"
      ]
     },
     "metadata": {},
     "output_type": "display_data"
    }
   ],
   "source": [
    "K = FEM.stiffnessMatrix(problem)"
   ]
  },
  {
   "cell_type": "code",
   "execution_count": 296,
   "metadata": {},
   "outputs": [
    {
     "data": {
      "text/plain": [
       "LowLevelFEM.CoordinateSystem([1.0, 0.0, 0.0], [0.0, 1.0, 1.0], Function[LowLevelFEM.var\"#f#3\"(), LowLevelFEM.var\"#f#3\"(), LowLevelFEM.var\"#f#3\"()], Function[LowLevelFEM.var\"#f#3\"(), Main.e2y, Main.e2z], [0, 0, 0], [0, 1, 1])"
      ]
     },
     "metadata": {},
     "output_type": "display_data"
    }
   ],
   "source": [
    "e2y(x, y, z) = √(y^2 + z^2) * cos(atan(y, z))\n",
    "e2z(x, y, z) = -√(y^2 + z^2) * sin(atan(y, z))\n",
    "csys = FEM.CoordinateSystem([1, 0, 0], [0, e2y, e2z])"
   ]
  },
  {
   "cell_type": "code",
   "execution_count": 297,
   "metadata": {},
   "outputs": [
    {
     "data": {
      "text/plain": [
       "4422×4422 SparseArrays.SparseMatrixCSC{Float64, Int64} with 7370 stored entries:\n",
       "⎡⠑⣤⠀⠀⠀⠀⠀⠀⠀⠀⠀⠀⠀⠀⠀⠀⠀⠀⠀⠀⠀⠀⠀⠀⠀⠀⠀⠀⠀⠀⠀⠀⠀⠀⠀⠀⠀⠀⠀⠀⎤\n",
       "⎢⠀⠀⠱⢆⠀⠀⠀⠀⠀⠀⠀⠀⠀⠀⠀⠀⠀⠀⠀⠀⠀⠀⠀⠀⠀⠀⠀⠀⠀⠀⠀⠀⠀⠀⠀⠀⠀⠀⠀⠀⎥\n",
       "⎢⠀⠀⠀⠀⠛⢄⡀⠀⠀⠀⠀⠀⠀⠀⠀⠀⠀⠀⠀⠀⠀⠀⠀⠀⠀⠀⠀⠀⠀⠀⠀⠀⠀⠀⠀⠀⠀⠀⠀⠀⎥\n",
       "⎢⠀⠀⠀⠀⠀⠈⠑⣤⠀⠀⠀⠀⠀⠀⠀⠀⠀⠀⠀⠀⠀⠀⠀⠀⠀⠀⠀⠀⠀⠀⠀⠀⠀⠀⠀⠀⠀⠀⠀⠀⎥\n",
       "⎢⠀⠀⠀⠀⠀⠀⠀⠀⠱⢆⠀⠀⠀⠀⠀⠀⠀⠀⠀⠀⠀⠀⠀⠀⠀⠀⠀⠀⠀⠀⠀⠀⠀⠀⠀⠀⠀⠀⠀⠀⎥\n",
       "⎢⠀⠀⠀⠀⠀⠀⠀⠀⠀⠀⠛⢄⡀⠀⠀⠀⠀⠀⠀⠀⠀⠀⠀⠀⠀⠀⠀⠀⠀⠀⠀⠀⠀⠀⠀⠀⠀⠀⠀⠀⎥\n",
       "⎢⠀⠀⠀⠀⠀⠀⠀⠀⠀⠀⠀⠈⠑⢄⠀⠀⠀⠀⠀⠀⠀⠀⠀⠀⠀⠀⠀⠀⠀⠀⠀⠀⠀⠀⠀⠀⠀⠀⠀⠀⎥\n",
       "⎢⠀⠀⠀⠀⠀⠀⠀⠀⠀⠀⠀⠀⠀⠀⠛⢄⡀⠀⠀⠀⠀⠀⠀⠀⠀⠀⠀⠀⠀⠀⠀⠀⠀⠀⠀⠀⠀⠀⠀⠀⎥\n",
       "⎢⠀⠀⠀⠀⠀⠀⠀⠀⠀⠀⠀⠀⠀⠀⠀⠈⠑⣤⠀⠀⠀⠀⠀⠀⠀⠀⠀⠀⠀⠀⠀⠀⠀⠀⠀⠀⠀⠀⠀⠀⎥\n",
       "⎢⠀⠀⠀⠀⠀⠀⠀⠀⠀⠀⠀⠀⠀⠀⠀⠀⠀⠀⠱⢆⠀⠀⠀⠀⠀⠀⠀⠀⠀⠀⠀⠀⠀⠀⠀⠀⠀⠀⠀⠀⎥\n",
       "⎢⠀⠀⠀⠀⠀⠀⠀⠀⠀⠀⠀⠀⠀⠀⠀⠀⠀⠀⠀⠀⠛⢄⡀⠀⠀⠀⠀⠀⠀⠀⠀⠀⠀⠀⠀⠀⠀⠀⠀⠀⎥\n",
       "⎢⠀⠀⠀⠀⠀⠀⠀⠀⠀⠀⠀⠀⠀⠀⠀⠀⠀⠀⠀⠀⠀⠈⠑⣤⠀⠀⠀⠀⠀⠀⠀⠀⠀⠀⠀⠀⠀⠀⠀⠀⎥\n",
       "⎢⠀⠀⠀⠀⠀⠀⠀⠀⠀⠀⠀⠀⠀⠀⠀⠀⠀⠀⠀⠀⠀⠀⠀⠀⠱⢆⠀⠀⠀⠀⠀⠀⠀⠀⠀⠀⠀⠀⠀⠀⎥\n",
       "⎢⠀⠀⠀⠀⠀⠀⠀⠀⠀⠀⠀⠀⠀⠀⠀⠀⠀⠀⠀⠀⠀⠀⠀⠀⠀⠀⠛⣤⠀⠀⠀⠀⠀⠀⠀⠀⠀⠀⠀⠀⎥\n",
       "⎢⠀⠀⠀⠀⠀⠀⠀⠀⠀⠀⠀⠀⠀⠀⠀⠀⠀⠀⠀⠀⠀⠀⠀⠀⠀⠀⠀⠀⠱⢆⠀⠀⠀⠀⠀⠀⠀⠀⠀⠀⎥\n",
       "⎢⠀⠀⠀⠀⠀⠀⠀⠀⠀⠀⠀⠀⠀⠀⠀⠀⠀⠀⠀⠀⠀⠀⠀⠀⠀⠀⠀⠀⠀⠀⠛⢄⡀⠀⠀⠀⠀⠀⠀⠀⎥\n",
       "⎢⠀⠀⠀⠀⠀⠀⠀⠀⠀⠀⠀⠀⠀⠀⠀⠀⠀⠀⠀⠀⠀⠀⠀⠀⠀⠀⠀⠀⠀⠀⠀⠈⠑⣤⠀⠀⠀⠀⠀⠀⎥\n",
       "⎢⠀⠀⠀⠀⠀⠀⠀⠀⠀⠀⠀⠀⠀⠀⠀⠀⠀⠀⠀⠀⠀⠀⠀⠀⠀⠀⠀⠀⠀⠀⠀⠀⠀⠀⠱⢆⠀⠀⠀⠀⎥\n",
       "⎢⠀⠀⠀⠀⠀⠀⠀⠀⠀⠀⠀⠀⠀⠀⠀⠀⠀⠀⠀⠀⠀⠀⠀⠀⠀⠀⠀⠀⠀⠀⠀⠀⠀⠀⠀⠀⠛⢄⡀⠀⎥\n",
       "⎣⠀⠀⠀⠀⠀⠀⠀⠀⠀⠀⠀⠀⠀⠀⠀⠀⠀⠀⠀⠀⠀⠀⠀⠀⠀⠀⠀⠀⠀⠀⠀⠀⠀⠀⠀⠀⠀⠈⠑⣤⎦"
      ]
     },
     "metadata": {},
     "output_type": "display_data"
    }
   ],
   "source": [
    "T = FEM.rotateNodes(problem, \"body\", csys)"
   ]
  },
  {
   "cell_type": "code",
   "execution_count": 298,
   "metadata": {},
   "outputs": [
    {
     "data": {
      "text/plain": [
       "(\"load\", 0, Main.fcy, Main.fcz)"
      ]
     },
     "metadata": {},
     "output_type": "display_data"
    }
   ],
   "source": [
    "fcy(x, y, z) = -√(y^2 + z^2) * cos(atan(y, z))\n",
    "fcz(x, y, z) = √(y^2 + z^2) * sin(atan(y, z))\n",
    "load = FEM.load(\"load\", fy=fcy, fz=fcz)"
   ]
  },
  {
   "cell_type": "code",
   "execution_count": 299,
   "metadata": {},
   "outputs": [
    {
     "data": {
      "text/plain": [
       "4422×4422 SparseArrays.SparseMatrixCSC{Float64, Int64} with 507906 stored entries:\n",
       "⎡⡿⣯⣷⣿⣿⠛⠷⠶⢶⣤⣀⠀⠀⠀⠀⠀⠀⠀⠀⠀⠀⣟⣷⡄⡶⠶⡲⣶⣟⡖⠿⠰⠶⣿⣿⣟⢟⣿⡷⡗⎤\n",
       "⎢⣽⣿⣿⣿⣭⣭⡿⠿⠿⣯⣿⣿⣿⣿⣿⣷⣶⣿⣶⣶⣥⣭⣿⣿⠿⣿⣿⣿⣿⣿⣿⣿⣿⣯⣭⣿⣿⣿⣿⣿⎥\n",
       "⎢⣿⠛⡇⣿⡿⣯⡃⠀⠀⢟⠒⠀⠀⢄⡀⠆⠀⠀⠀⠀⢀⣿⢻⢇⠀⠀⠃⠐⠛⡺⠻⠀⠘⣹⢿⣵⣿⣟⣋⠗⎥\n",
       "⎢⢹⡇⣿⡏⠉⠈⢿⣷⣄⠈⢈⡀⡄⠴⠋⠀⠀⠀⠀⠀⠀⠉⢻⠀⣠⣶⢸⣴⡏⡍⠄⠸⠻⠏⠈⢀⡋⣹⣷⢍⎥\n",
       "⎢⠘⣷⡿⣧⣤⢄⡀⠙⠿⣧⡀⢋⠺⠂⢠⠄⠀⠀⠀⠀⢀⣀⣸⡦⠟⠋⡉⢯⣅⣁⡁⠂⢀⢠⣤⠀⣠⢟⣢⡌⎥\n",
       "⎢⠀⠘⣿⣿⠘⠀⠂⠰⡤⢈⣻⣾⡀⠐⢲⠀⢀⣐⠀⢴⡤⠘⣻⠤⢤⠄⡳⣼⡝⣏⡧⠄⢄⡀⠠⡿⣿⢸⣶⣳⎥\n",
       "⎢⠀⠀⣿⣿⠀⢄⢀⡍⠺⠂⢀⠈⠻⣦⣁⠝⠇⣽⣖⢤⡄⡄⣹⣧⠟⢟⢿⠟⠃⣿⡥⢤⣌⠁⢄⣤⣠⢯⣿⡅⎥\n",
       "⎢⠀⠀⢿⣿⠠⠌⠋⠀⠀⠖⠘⠒⣅⠜⠿⣧⣈⡛⠈⠦⠈⠃⣻⠾⢨⣥⣆⡆⡞⣻⢲⢞⢸⡅⠌⣋⠳⠚⣯⣝⎥\n",
       "⎢⠀⠀⣼⣿⠀⠀⠀⠀⠀⠀⢀⢰⣍⣥⣦⠸⢿⣷⡁⠰⡖⡄⣾⠀⣀⢫⠉⡁⢁⣻⡽⢻⣿⡖⠀⣿⢿⣶⣾⡞⎥\n",
       "⎢⠀⠀⢸⣿⠀⠀⠀⠀⠀⠀⢀⣄⠘⣝⠢⡄⢁⡈⢻⣶⣳⠆⢸⣿⠏⡘⢁⣅⠌⢻⣸⣷⡄⢀⠓⣠⣠⠑⢏⣾⎥\n",
       "⎢⣤⢤⡅⣿⣤⣴⡄⠀⠀⢰⣀⠋⠀⠭⠦⠀⠘⠭⠹⠞⠻⣦⣼⠰⠃⠈⡀⢉⣀⣿⣟⠳⠥⣼⣿⣿⣿⣷⡸⣟⎥\n",
       "⎢⠙⠿⣿⣿⠿⢖⠛⠒⠲⡾⠛⡞⠷⣾⣻⡞⠚⠛⣶⣶⢒⡛⢻⣶⡖⠒⠓⡾⡟⣿⢳⣾⡛⠳⢶⣛⢻⠟⣿⣟⎥\n",
       "⎢⢸⡏⣿⣧⠀⠀⢠⣾⡿⠁⠀⠗⣿⢅⠆⣶⡤⣘⣋⠡⡉⠀⢸⠉⣿⣿⣦⣿⣌⣬⣫⡧⠴⠆⡈⡁⠀⡿⣿⢖⎥\n",
       "⎢⢸⣮⣿⣿⢉⠀⢒⣶⡧⣌⣙⣮⣿⠗⠨⠽⠇⠠⠅⢴⡄⢈⣹⡤⣬⣿⣿⣿⣯⡿⡿⡔⡒⢃⠀⢙⠫⣼⣿⢺⎥\n",
       "⎢⢻⠽⣿⣿⣻⡠⡏⠭⠅⢹⡷⢭⣭⣤⣾⣩⣥⣰⣦⣁⣤⣼⣿⣭⡂⣽⣯⡿⣿⣿⣛⣅⣹⣡⣤⣵⣿⣿⣿⣿⎥\n",
       "⎢⢛⡃⣿⣿⠛⠂⣀⡁⠡⠈⠉⠏⠁⣏⣸⢖⣷⣋⢶⣾⢿⡙⣹⣶⠯⡾⢛⠯⠟⢼⣿⣿⣍⡩⠿⣿⣿⣽⣞⣿⎥\n",
       "⎢⣼⣧⡿⣿⣖⣠⡿⠆⠀⣐⠀⠱⠆⠙⠖⠶⢻⠿⠀⢉⣁⣧⢿⡈⠰⠇⠼⢈⠗⣺⡇⡹⡿⣯⣠⣿⣟⣿⢿⡏⎥\n",
       "⎢⣿⢿⣧⣿⢟⣷⠂⢀⠀⠛⣤⡦⠀⣵⡦⢡⣤⣤⠙⣠⣿⣿⣼⢳⠆⠨⣄⢀⢄⣿⣿⣧⣤⣾⣿⣿⣿⣷⣾⣇⎥\n",
       "⎢⣿⣵⣿⣿⣿⢿⣏⣨⣤⢞⣛⣛⡤⣞⣹⠂⢻⣷⢄⠚⢿⣿⣿⠖⣤⡤⣋⣦⣿⣿⣟⣿⣿⣽⢿⣿⣿⣿⣿⣟⎥\n",
       "⎣⢽⠯⣿⣿⢯⠜⡝⢟⡈⠾⢼⣻⠟⠿⣏⢿⣺⠿⣫⣵⣶⢮⣿⢿⢻⢟⣻⣛⣿⣿⣾⣽⡿⠷⠾⢿⣿⢿⣿⣿⎦"
      ]
     },
     "metadata": {},
     "output_type": "display_data"
    }
   ],
   "source": [
    "KK = T * K * T'"
   ]
  },
  {
   "cell_type": "code",
   "execution_count": 300,
   "metadata": {},
   "outputs": [
    {
     "data": {
      "text/plain": [
       "4422-element Vector{Float64}:\n",
       "   0.0\n",
       " -20.060530453676876\n",
       "  -1.2434497875801753e-14\n",
       "   0.0\n",
       "   0.0\n",
       "   0.0\n",
       "   0.0\n",
       " -12.507536157744042\n",
       " -15.68395426369321\n",
       "   0.0\n",
       "   ⋮\n",
       "   0.0\n",
       "   0.0\n",
       "   0.0\n",
       "   0.0\n",
       "   0.0\n",
       "   0.0\n",
       "   0.0\n",
       "   0.0\n",
       "   0.0"
      ]
     },
     "metadata": {},
     "output_type": "display_data"
    }
   ],
   "source": [
    "f = FEM.loadVector(problem, [load])"
   ]
  },
  {
   "cell_type": "code",
   "execution_count": 301,
   "metadata": {},
   "outputs": [],
   "source": [
    "supp = FEM.displacementConstraint(\"supp\", ux=0, uy=0, uz=0);"
   ]
  },
  {
   "cell_type": "code",
   "execution_count": 302,
   "metadata": {},
   "outputs": [],
   "source": [
    "FEM.applyBoundaryConditions!(problem, K, f, [supp]);"
   ]
  },
  {
   "cell_type": "code",
   "execution_count": 303,
   "metadata": {},
   "outputs": [
    {
     "data": {
      "text/plain": [
       "4422-element Vector{Float64}:\n",
       " -1.2444449842582155e-7\n",
       " -0.012960714194181759\n",
       "  8.540908201878538e-7\n",
       "  0.0\n",
       "  0.0\n",
       "  0.0\n",
       " -2.1819035180542076e-7\n",
       " -0.008081506510218836\n",
       " -0.01013282505354837\n",
       "  1.4507186192441898e-7\n",
       "  ⋮\n",
       " -3.870412330398341e-8\n",
       "  0.003476042203899151\n",
       " -0.0014158248593145464\n",
       " -2.1702228651758615e-8\n",
       "  0.00015243158583343587\n",
       "  0.0006096102929736173\n",
       " -1.0943141120922819e-7\n",
       " -0.0007615336792620638\n",
       "  0.0006011874876400512"
      ]
     },
     "metadata": {},
     "output_type": "display_data"
    }
   ],
   "source": [
    "q = FEM.solveDisplacement(K, f)"
   ]
  },
  {
   "cell_type": "code",
   "execution_count": null,
   "metadata": {},
   "outputs": [
    {
     "data": {
      "text/plain": [
       "3"
      ]
     },
     "metadata": {},
     "output_type": "display_data"
    }
   ],
   "source": [
    "u = FEM.showDoFResults(problem, q, \"uvec\", visible=true)\n",
    "ux = FEM.showDoFResults(problem, q, \"ux\")\n",
    "uy = FEM.showDoFResults(problem, T' * q, \"uy\")\n",
    "uz = FEM.showDoFResults(problem, T' * q, \"uz\")"
   ]
  },
  {
   "cell_type": "code",
   "execution_count": 305,
   "metadata": {},
   "outputs": [
    {
     "name": "stdout",
     "output_type": "stream",
     "text": [
      "-------------------------------------------------------\n",
      "Version       : 4.13.1\n",
      "License       : GNU General Public License\n",
      "Build OS      : Linux64-sdk\n",
      "Build date    : 19700101\n",
      "Build host    : amdci7.julia.csail.mit.edu\n",
      "Build options : 64Bit ALGLIB[contrib] ANN[contrib] Bamg Blossom Cairo DIntegration Dlopen DomHex Eigen[contrib] Fltk GMP Gmm[contrib] Hxt Jpeg Kbipack LinuxJoystick MathEx[contrib] Mesh Metis[contrib] Mmg Mpeg Netgen Nii2mesh ONELAB ONELABMetamodel OpenCASCADE OpenCASCADE-CAF OpenGL OpenMP OptHom Parser Plugins Png Post QuadMeshingTools QuadTri Solver TetGen/BR TinyXML2[contrib] Untangle Voro++[contrib] WinslowUntangler Zlib\n",
      "FLTK version  : 1.3.8\n",
      "OCC version   : 7.7.2\n",
      "Packaged by   : root\n",
      "Web site      : https://gmsh.info\n",
      "Issue tracker : https://gitlab.onelab.info/gmsh/gmsh/issues\n",
      "-------------------------------------------------------\n"
     ]
    },
    {
     "name": "stderr",
     "output_type": "stream",
     "text": [
      "XRequest.18: BadValue 0x0\n"
     ]
    }
   ],
   "source": [
    "gmsh.fltk.run()"
   ]
  },
  {
   "cell_type": "code",
   "execution_count": 306,
   "metadata": {},
   "outputs": [],
   "source": [
    "gmsh.finalize()"
   ]
  }
 ],
 "metadata": {
  "kernelspec": {
   "display_name": "Julia 1.11.1",
   "language": "julia",
   "name": "julia-1.11"
  },
  "language_info": {
   "file_extension": ".jl",
   "mimetype": "application/julia",
   "name": "julia",
   "version": "1.11.1"
  }
 },
 "nbformat": 4,
 "nbformat_minor": 2
}
