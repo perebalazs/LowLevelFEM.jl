{
 "cells": [
  {
   "cell_type": "code",
   "execution_count": 28,
   "id": "c55213e5",
   "metadata": {},
   "outputs": [],
   "source": [
    "using LowLevelFEM\n",
    "gmsh.initialize()"
   ]
  },
  {
   "cell_type": "code",
   "execution_count": 29,
   "id": "4da3947b",
   "metadata": {},
   "outputs": [
    {
     "name": "stdout",
     "output_type": "stream",
     "text": [
      "Info    : Meshing 1D...\n",
      "Info    : [  0%] Meshing curve 1 (Line)\n",
      "Info    : [ 10%] Meshing curve 2 (Line)\n",
      "Info    : [ 20%] Meshing curve 3 (Line)\n",
      "Info    : [ 30%] Meshing curve 4 (Line)\n",
      "Info    : [ 40%] Meshing curve 5 (Line)\n",
      "Info    : [ 50%] Meshing curve 6 (Line)\n",
      "Info    : [ 60%] Meshing curve 7 (Line)\n",
      "Info    : [ 60%] Meshing curve 8 (Line)\n",
      "Info    : [ 70%] Meshing curve 9 (Line)\n",
      "Info    : [ 80%] Meshing curve 10 (Line)\n",
      "Info    : [ 90%] Meshing curve 11 (Line)\n",
      "Info    : [100%] Meshing curve 12 (Line)\n",
      "Info    : Done meshing 1D (Wall 0.002676s, CPU 0.002351s)\n",
      "Info    : Meshing 2D...\n",
      "Info    : [  0%] Meshing surface 1 (Plane, Frontal-Delaunay)\n",
      "Info    : [ 20%] Meshing surface 2 (Plane, Frontal-Delaunay)\n",
      "Info    : [ 40%] Meshing surface 3 (Plane, Frontal-Delaunay)\n",
      "Info    : [ 60%] Meshing surface 4 (Plane, Frontal-Delaunay)\n",
      "Info    : [ 70%] Meshing surface 5 (Plane, Frontal-Delaunay)\n",
      "Info    : [ 90%] Meshing surface 6 (Plane, Frontal-Delaunay)\n",
      "Info    : Done meshing 2D (Wall 0.00570931s, CPU 0.005569s)\n",
      "Info    : Meshing 3D...\n",
      "Info    : 3D Meshing 1 volume with 1 connected component\n",
      "Info    : Tetrahedrizing 44 nodes...\n",
      "Info    : Done tetrahedrizing 52 nodes (Wall 0.0006514s, CPU 0.00065s)\n",
      "Info    : Reconstructing mesh...\n",
      "Info    :  - Creating surface mesh\n",
      "Info    :  - Identifying boundary edges\n",
      "Info    :  - Recovering boundary\n",
      "Info    : Done reconstructing mesh (Wall 0.0014963s, CPU 0.001495s)\n",
      "Info    : Found volume 1\n",
      "Info    : It. 0 - 0 nodes created - worst tet radius 1.01086 (nodes removed 0 0)\n",
      "Info    : 3D refinement terminated (45 nodes total):\n",
      "Info    :  - 0 Delaunay cavities modified for star shapeness\n",
      "Info    :  - 0 nodes could not be inserted\n",
      "Info    :  - 100 tetrahedra created in 0.000218303 sec. (458078 tets/s)\n",
      "Info    : 0 node relocations\n",
      "Info    : Done meshing 3D (Wall 0.0033243s, CPU 0.003323s)\n",
      "Info    : Optimizing mesh...\n",
      "Info    : Optimizing volume 1\n",
      "Info    : Optimization starts (volume = 1) with worst = 0.596244 / average = 0.825655:\n",
      "Info    : 0.00 < quality < 0.10 :         0 elements\n",
      "Info    : 0.10 < quality < 0.20 :         0 elements\n",
      "Info    : 0.20 < quality < 0.30 :         0 elements\n",
      "Info    : 0.30 < quality < 0.40 :         0 elements\n",
      "Info    : 0.40 < quality < 0.50 :         0 elements\n",
      "Info    : 0.50 < quality < 0.60 :         2 elements\n",
      "Info    : 0.60 < quality < 0.70 :         7 elements\n",
      "Info    : 0.70 < quality < 0.80 :        24 elements\n",
      "Info    : 0.80 < quality < 0.90 :        52 elements\n",
      "Info    : 0.90 < quality < 1.00 :        15 elements\n",
      "Info    : No ill-shaped tets in the mesh :-)\n",
      "Info    : 0.00 < quality < 0.10 :         0 elements\n",
      "Info    : 0.10 < quality < 0.20 :         0 elements\n",
      "Info    : 0.20 < quality < 0.30 :         0 elements\n",
      "Info    : 0.30 < quality < 0.40 :         0 elements\n",
      "Info    : 0.40 < quality < 0.50 :         0 elements\n",
      "Info    : 0.50 < quality < 0.60 :         2 elements\n",
      "Info    : 0.60 < quality < 0.70 :         7 elements\n",
      "Info    : 0.70 < quality < 0.80 :        24 elements\n",
      "Info    : 0.80 < quality < 0.90 :        52 elements\n",
      "Info    : 0.90 < quality < 1.00 :        15 elements\n",
      "Info    : Done optimizing mesh (Wall 0.000293525s, CPU 0s)\n",
      "Info    : 45 nodes 216 elements\n",
      "Info    : Meshing order 4 (curvilinear on)...\n",
      "Info    : [  0%] Meshing curve 1 order 4\n",
      "Info    : [ 10%] Meshing curve 2 order 4\n",
      "Info    : [ 20%] Meshing curve 3 order 4\n",
      "Info    : [ 20%] Meshing curve 4 order 4\n",
      "Info    : [ 30%] Meshing curve 5 order 4\n",
      "Info    : [ 30%] Meshing curve 6 order 4\n",
      "Info    : [ 40%] Meshing curve 7 order 4\n",
      "Info    : [ 40%] Meshing curve 8 order 4\n",
      "Info    : [ 50%] Meshing curve 9 order 4\n",
      "Info    : [ 50%] Meshing curve 10 order 4\n",
      "Info    : [ 60%] Meshing curve 11 order 4\n",
      "Info    : [ 60%] Meshing curve 12 order 4\n",
      "Info    : [ 70%] Meshing surface 1 order 4\n",
      "Info    : [ 70%] Meshing surface 2 order 4\n",
      "Info    : [ 80%] Meshing surface 3 order 4\n",
      "Info    : [ 80%] Meshing surface 4 order 4\n",
      "Info    : [ 90%] Meshing surface 5 order 4\n",
      "Info    : [ 90%] Meshing surface 6 order 4\n",
      "Info    : [100%] Meshing volume 1 order 4\n",
      "Info    : Surface mesh: worst distortion = 1 (0 elements in ]0, 0.2]); worst gamma = 0.828427\n",
      "Info    : Volume mesh: worst distortion = 1 (0 elements in ]0, 0.2])\n",
      "Info    : Done meshing order 4 (Wall 0.00548923s, CPU 0.005489s)\n"
     ]
    }
   ],
   "source": [
    "es = 0.5\n",
    "gmsh.model.add(\"cube\")\n",
    "b1 = gmsh.model.occ.addBox(0, 0, 0, 1, 1, 1, 1)\n",
    "pts = gmsh.model.getEntities(0)\n",
    "gmsh.model.occ.mesh.setSize(pts, es)\n",
    "gmsh.option.setNumber(\"Mesh.MeshSizeMin\", es)\n",
    "gmsh.option.setNumber(\"Mesh.MeshSizeMax\", es)\n",
    "gmsh.option.setNumber(\"Mesh.MeshSizeFromCurvature\", 0)\n",
    "gmsh.model.occ.synchronize()\n",
    "gmsh.model.addPhysicalGroup(3, [1], 10)\n",
    "gmsh.model.setPhysicalName(3, 10, \"body\")\n",
    "gmsh.model.mesh.generate(3)\n",
    "gmsh.model.mesh.setOrder(4)"
   ]
  },
  {
   "cell_type": "code",
   "execution_count": 30,
   "id": "a1e1fd85",
   "metadata": {},
   "outputs": [
    {
     "data": {
      "text/plain": [
       "Problem(\"cube\", :Solid, 3, 3, LowLevelFEM.Material[LowLevelFEM.Material(\"body\", :Hooke, 200000.0, 0.3, 7.85e-9, 45.0, 4.2e8, 1.2e-5, 115384.61538461536, 76923.07692307692, 166666.66666666666, 1.0)], 1.0, 1429)"
      ]
     },
     "execution_count": 30,
     "metadata": {},
     "output_type": "execute_result"
    }
   ],
   "source": [
    "mat = material(\"body\")\n",
    "prob = Problem([mat])"
   ]
  },
  {
   "cell_type": "code",
   "execution_count": 31,
   "id": "3f9682a0",
   "metadata": {},
   "outputs": [],
   "source": [
    "#using Profile\n",
    "#\n",
    "#Profile.clear()\n",
    "#@profile stiffnessMatrix(prob)\n",
    "#\n",
    "#Profile.print(maxdepth=10)   # egyszerű szöveges kimenet"
   ]
  },
  {
   "cell_type": "code",
   "execution_count": 32,
   "id": "6362597e",
   "metadata": {},
   "outputs": [
    {
     "name": "stdout",
     "output_type": "stream",
     "text": [
      "  0.556535 seconds (1.22 M allocations: 1.944 GiB, 20.38% gc time)\n"
     ]
    },
    {
     "data": {
      "text/plain": [
       "4287×4287 SparseArrays.SparseMatrixCSC{Float64, Int64} with 796041 stored entries:\n",
       "⎡⡿⣯⡹⠿⠿⣯⣭⣥⠟⠭⢽⢟⣙⢨⣍⣅⡟⣽⠮⣅⣉⡹⠙⡏⠘⣏⢬⢩⡛⠧⢯⡻⠓⡙⡻⢭⣽⠿⣿⣿⎤\n",
       "⎢⣷⡎⢻⣶⣲⡊⠈⠁⣿⠹⢟⡛⠛⢻⠛⠋⣿⠻⠟⠀⠛⢸⢶⡏⠳⠊⠑⠋⠾⣒⣖⣿⣗⢲⠿⢛⡿⣾⡻⣟⎥\n",
       "⎢⡿⣧⡸⠺⠿⣧⣤⣤⡆⣀⣸⢯⣌⢸⣃⣁⡖⣠⣰⣀⣡⣬⠶⣦⡚⣇⣠⣄⡀⢯⢿⣶⡺⣺⣖⣾⣝⠿⣹⣥⎥\n",
       "⎢⠇⣿⠆⠀⠀⣿⣿⣿⡅⠨⢸⢘⠗⢸⢹⠏⡇⢸⢨⣭⣙⣧⠀⢠⠀⠶⣽⢾⡅⢨⢘⣣⡄⡗⠮⢸⡇⠀⠿⠛⎥\n",
       "⎢⡟⡅⣟⡛⠈⢩⡁⡉⣿⣿⣿⠀⠀⢸⣏⢈⡟⣯⢋⡉⠀⢹⡋⣿⣟⢸⡏⢸⠙⠉⠋⡏⡃⡁⣻⡇⠘⠹⣙⣯⎥\n",
       "⎢⣷⢗⣿⠱⡶⣞⣒⢒⠛⠛⢻⣶⣶⣾⡖⣒⡷⢷⠾⠓⣖⡚⠱⠛⢻⣞⢹⡚⠂⠖⢐⣳⡷⠳⣛⠁⢲⣶⢶⣶⎥\n",
       "⎢⡓⣘⣿⣀⣂⣙⣙⣁⣀⣀⣸⣿⣿⣿⣘⣇⡅⠨⢰⣰⣿⣇⣀⠀⢐⣻⡨⣿⡀⣆⣈⢻⣿⣏⣿⣀⣃⢯⣘⣉⎥\n",
       "⎢⠇⢽⡿⠀⠍⢸⡷⠖⡋⢙⢸⢩⠶⢼⣿⣿⡄⠀⢸⣷⣯⠈⡄⠀⠈⢷⡆⠶⠂⠨⣥⢨⣥⡷⢸⡻⠎⠈⠿⠙⎥\n",
       "⎢⣟⣭⣿⡛⠘⣩⣉⣉⡿⣭⢽⣏⡁⡉⠀⠉⣿⣿⣿⠉⢉⡉⢙⣯⠏⠀⢉⠁⣻⣯⠉⣿⣿⢸⡇⢩⣽⣟⢟⣿⎥\n",
       "⎢⠎⢧⠛⠁⠐⢺⡆⣶⡏⠰⢾⠃⢐⣲⢶⣶⡟⠛⢻⣶⣖⡶⡞⢿⠷⣲⣾⣲⡟⠛⣲⠹⢟⣞⠷⢚⠋⠃⠶⠶⎥\n",
       "⎢⣇⡸⣛⣀⡁⣾⠷⣼⣄⣀⣸⠹⠿⢿⡋⠛⡇⠰⢸⡽⢿⣷⣃⢠⣘⣿⣵⣿⠅⢯⣻⢾⡿⡧⣋⣀⡈⢀⠰⡸⎥\n",
       "⎢⡷⠤⡼⠷⠸⣧⠀⣀⣯⣬⣵⠂⠀⠘⠀⠉⡷⣴⣾⣍⠉⣘⠻⣦⣿⠏⣵⣨⣶⣾⠛⣶⡚⡲⡦⠿⠦⠘⠂⣴⎥\n",
       "⎢⡶⢤⡹⠂⠾⢬⢠⡄⣛⣙⣻⢶⣴⣰⢦⣄⠋⠁⢹⣣⣶⣼⡿⠟⠻⣦⡉⣼⡍⡧⠿⡅⡲⣧⣗⡥⡴⠆⢰⠆⎥\n",
       "⎢⡆⣓⡵⠀⠀⢾⣳⣟⣋⣉⣳⠲⣦⣮⢨⡍⠇⠐⢺⣻⣵⣿⡑⣻⣃⣬⣻⣾⡗⠶⠈⠸⠷⣴⣮⣑⡆⠒⡰⠂⎥\n",
       "⎢⠿⡌⢺⢣⡤⣌⡁⣉⡗⠀⢨⠄⠠⢬⡈⡀⡿⣾⣿⠉⡥⣅⣸⣿⠧⡭⢹⡍⠿⣧⣛⢻⣥⢽⠇⢋⣛⠧⠔⠅⎥\n",
       "⎢⣯⡳⣼⣽⢻⣷⠶⣰⡯⠤⢴⣰⣦⣘⡁⣛⣧⣤⣜⡚⣻⣞⢻⣤⠟⠧⣂⡀⣿⣘⠻⣦⡙⢠⣍⢛⣋⠁⠼⢴⎥\n",
       "⎢⣝⠠⢹⣙⣺⣪⢤⠭⠍⠨⢽⡋⡿⢿⢥⡿⣛⣛⣻⢵⠿⡯⢺⡨⠼⣮⢙⣧⣅⣟⠓⣈⣿⣿⡏⡠⣄⣛⠤⡡⎥\n",
       "⎢⡟⣎⣿⢃⣸⣽⣊⣃⠿⠾⠟⠘⠛⢻⣶⡲⡍⣉⣹⢃⠋⢸⣬⡏⠝⡽⢎⢻⡭⢁⣧⢙⠋⡩⠿⣧⣻⠔⣞⡦⎥\n",
       "⎢⣷⡟⣻⣯⣷⡝⠉⠉⣖⡀⢸⣶⡭⣜⡊⠁⣷⢿⠯⠀⠂⢈⣈⠃⠰⠏⢨⠉⠿⡜⠏⠘⣤⢹⢛⠞⡻⣮⣽⡟⎥\n",
       "⎣⣿⣿⣿⢮⠗⣾⣿⠃⡷⣼⢸⣷⡖⢸⣟⠃⣿⣵⢸⡇⣐⡢⢈⣤⠰⠖⠰⠊⠔⠅⢒⣇⠄⡣⠺⡽⣷⠿⣿⣿⎦"
      ]
     },
     "metadata": {},
     "output_type": "display_data"
    },
    {
     "data": {
      "text/plain": []
     },
     "execution_count": 32,
     "metadata": {},
     "output_type": "execute_result"
    }
   ],
   "source": [
    "@time stiffnessMatrix(prob)"
   ]
  },
  {
   "cell_type": "code",
   "execution_count": 33,
   "id": "f8c5d45d",
   "metadata": {},
   "outputs": [
    {
     "name": "stdout",
     "output_type": "stream",
     "text": [
      "  0.561786 seconds (1.22 M allocations: 1.944 GiB, 28.36% gc time)\n"
     ]
    },
    {
     "data": {
      "text/plain": [
       "4287×4287 SparseArrays.SparseMatrixCSC{Float64, Int64} with 796041 stored entries:\n",
       "⎡⡿⣯⡹⠿⠿⣯⣭⣥⠟⠭⢽⢟⣙⢨⣍⣅⡟⣽⠮⣅⣉⡹⠙⡏⠘⣏⢬⢩⡛⠧⢯⡻⠓⡙⡻⢭⣽⠿⣿⣿⎤\n",
       "⎢⣷⡎⢻⣶⣲⡊⠈⠁⣿⠹⢟⡛⠛⢻⠛⠋⣿⠻⠟⠀⠛⢸⢶⡏⠳⠊⠑⠋⠾⣒⣖⣿⣗⢲⠿⢛⡿⣾⡻⣟⎥\n",
       "⎢⡿⣧⡸⠺⠿⣧⣤⣤⡆⣀⣸⢯⣌⢸⣃⣁⡖⣠⣰⣀⣡⣬⠶⣦⡚⣇⣠⣄⡀⢯⢿⣶⡺⣺⣖⣾⣝⠿⣹⣥⎥\n",
       "⎢⠇⣿⠆⠀⠀⣿⣿⣿⡅⠨⢸⢘⠗⢸⢹⠏⡇⢸⢨⣭⣙⣧⠀⢠⠀⠶⣽⢾⡅⢨⢘⣣⡄⡗⠮⢸⡇⠀⠿⠛⎥\n",
       "⎢⡟⡅⣟⡛⠈⢩⡁⡉⣿⣿⣿⠀⠀⢸⣏⢈⡟⣯⢋⡉⠀⢹⡋⣿⣟⢸⡏⢸⠙⠉⠋⡏⡃⡁⣻⡇⠘⠹⣙⣯⎥\n",
       "⎢⣷⢗⣿⠱⡶⣞⣒⢒⠛⠛⢻⣶⣶⣾⡖⣒⡷⢷⠾⠓⣖⡚⠱⠛⢻⣞⢹⡚⠂⠖⢐⣳⡷⠳⣛⠁⢲⣶⢶⣶⎥\n",
       "⎢⡓⣘⣿⣀⣂⣙⣙⣁⣀⣀⣸⣿⣿⣿⣘⣇⡅⠨⢰⣰⣿⣇⣀⠀⢐⣻⡨⣿⡀⣆⣈⢻⣿⣏⣿⣀⣃⢯⣘⣉⎥\n",
       "⎢⠇⢽⡿⠀⠍⢸⡷⠖⡋⢙⢸⢩⠶⢼⣿⣿⡄⠀⢸⣷⣯⠈⡄⠀⠈⢷⡆⠶⠂⠨⣥⢨⣥⡷⢸⡻⠎⠈⠿⠙⎥\n",
       "⎢⣟⣭⣿⡛⠘⣩⣉⣉⡿⣭⢽⣏⡁⡉⠀⠉⣿⣿⣿⠉⢉⡉⢙⣯⠏⠀⢉⠁⣻⣯⠉⣿⣿⢸⡇⢩⣽⣟⢟⣿⎥\n",
       "⎢⠎⢧⠛⠁⠐⢺⡆⣶⡏⠰⢾⠃⢐⣲⢶⣶⡟⠛⢻⣶⣖⡶⡞⢿⠷⣲⣾⣲⡟⠛⣲⠹⢟⣞⠷⢚⠋⠃⠶⠶⎥\n",
       "⎢⣇⡸⣛⣀⡁⣾⠷⣼⣄⣀⣸⠹⠿⢿⡋⠛⡇⠰⢸⡽⢿⣷⣃⢠⣘⣿⣵⣿⠅⢯⣻⢾⡿⡧⣋⣀⡈⢀⠰⡸⎥\n",
       "⎢⡷⠤⡼⠷⠸⣧⠀⣀⣯⣬⣵⠂⠀⠘⠀⠉⡷⣴⣾⣍⠉⣘⠻⣦⣿⠏⣵⣨⣶⣾⠛⣶⡚⡲⡦⠿⠦⠘⠂⣴⎥\n",
       "⎢⡶⢤⡹⠂⠾⢬⢠⡄⣛⣙⣻⢶⣴⣰⢦⣄⠋⠁⢹⣣⣶⣼⡿⠟⠻⣦⡉⣼⡍⡧⠿⡅⡲⣧⣗⡥⡴⠆⢰⠆⎥\n",
       "⎢⡆⣓⡵⠀⠀⢾⣳⣟⣋⣉⣳⠲⣦⣮⢨⡍⠇⠐⢺⣻⣵⣿⡑⣻⣃⣬⣻⣾⡗⠶⠈⠸⠷⣴⣮⣑⡆⠒⡰⠂⎥\n",
       "⎢⠿⡌⢺⢣⡤⣌⡁⣉⡗⠀⢨⠄⠠⢬⡈⡀⡿⣾⣿⠉⡥⣅⣸⣿⠧⡭⢹⡍⠿⣧⣛⢻⣥⢽⠇⢋⣛⠧⠔⠅⎥\n",
       "⎢⣯⡳⣼⣽⢻⣷⠶⣰⡯⠤⢴⣰⣦⣘⡁⣛⣧⣤⣜⡚⣻⣞⢻⣤⠟⠧⣂⡀⣿⣘⠻⣦⡙⢠⣍⢛⣋⠁⠼⢴⎥\n",
       "⎢⣝⠠⢹⣙⣺⣪⢤⠭⠍⠨⢽⡋⡿⢿⢥⡿⣛⣛⣻⢵⠿⡯⢺⡨⠼⣮⢙⣧⣅⣟⠓⣈⣿⣿⡏⡠⣄⣛⠤⡡⎥\n",
       "⎢⡟⣎⣿⢃⣸⣽⣊⣃⠿⠾⠟⠘⠛⢻⣶⡲⡍⣉⣹⢃⠋⢸⣬⡏⠝⡽⢎⢻⡭⢁⣧⢙⠋⡩⠿⣧⣻⠔⣞⡦⎥\n",
       "⎢⣷⡟⣻⣯⣷⡝⠉⠉⣖⡀⢸⣶⡭⣜⡊⠁⣷⢿⠯⠀⠂⢈⣈⠃⠰⠏⢨⠉⠿⡜⠏⠘⣤⢹⢛⠞⡻⣮⣽⡟⎥\n",
       "⎣⣿⣿⣿⢮⠗⣾⣿⠃⡷⣼⢸⣷⡖⢸⣟⠃⣿⣵⢸⡇⣐⡢⢈⣤⠰⠖⠰⠊⠔⠅⢒⣇⠄⡣⠺⡽⣷⠿⣿⣿⎦"
      ]
     },
     "metadata": {},
     "output_type": "display_data"
    },
    {
     "data": {
      "text/plain": []
     },
     "execution_count": 33,
     "metadata": {},
     "output_type": "execute_result"
    }
   ],
   "source": [
    "@time stiffnessMatrix(prob, forceOneThread=true)"
   ]
  },
  {
   "cell_type": "code",
   "execution_count": null,
   "id": "142c2b3d",
   "metadata": {},
   "outputs": [],
   "source": []
  },
  {
   "cell_type": "code",
   "execution_count": 34,
   "id": "3a640988",
   "metadata": {},
   "outputs": [
    {
     "name": "stdout",
     "output_type": "stream",
     "text": [
      "  0.394854 seconds (33.87 k allocations: 974.318 MiB, 36.15% gc time)\n"
     ]
    },
    {
     "data": {
      "text/plain": [
       "4287×4287 SparseArrays.SparseMatrixCSC{Float64, Int64} with 4287 stored entries:\n",
       "⎡⠑⢄⠀⠀⠀⠀⠀⠀⠀⠀⠀⠀⠀⠀⠀⠀⠀⠀⠀⠀⠀⠀⠀⠀⠀⠀⠀⠀⠀⠀⠀⠀⠀⠀⠀⠀⠀⠀⠀⠀⎤\n",
       "⎢⠀⠀⠑⢄⠀⠀⠀⠀⠀⠀⠀⠀⠀⠀⠀⠀⠀⠀⠀⠀⠀⠀⠀⠀⠀⠀⠀⠀⠀⠀⠀⠀⠀⠀⠀⠀⠀⠀⠀⠀⎥\n",
       "⎢⠀⠀⠀⠀⠑⢄⠀⠀⠀⠀⠀⠀⠀⠀⠀⠀⠀⠀⠀⠀⠀⠀⠀⠀⠀⠀⠀⠀⠀⠀⠀⠀⠀⠀⠀⠀⠀⠀⠀⠀⎥\n",
       "⎢⠀⠀⠀⠀⠀⠀⠑⢄⠀⠀⠀⠀⠀⠀⠀⠀⠀⠀⠀⠀⠀⠀⠀⠀⠀⠀⠀⠀⠀⠀⠀⠀⠀⠀⠀⠀⠀⠀⠀⠀⎥\n",
       "⎢⠀⠀⠀⠀⠀⠀⠀⠀⠑⢄⠀⠀⠀⠀⠀⠀⠀⠀⠀⠀⠀⠀⠀⠀⠀⠀⠀⠀⠀⠀⠀⠀⠀⠀⠀⠀⠀⠀⠀⠀⎥\n",
       "⎢⠀⠀⠀⠀⠀⠀⠀⠀⠀⠀⠑⢄⠀⠀⠀⠀⠀⠀⠀⠀⠀⠀⠀⠀⠀⠀⠀⠀⠀⠀⠀⠀⠀⠀⠀⠀⠀⠀⠀⠀⎥\n",
       "⎢⠀⠀⠀⠀⠀⠀⠀⠀⠀⠀⠀⠀⠑⢄⠀⠀⠀⠀⠀⠀⠀⠀⠀⠀⠀⠀⠀⠀⠀⠀⠀⠀⠀⠀⠀⠀⠀⠀⠀⠀⎥\n",
       "⎢⠀⠀⠀⠀⠀⠀⠀⠀⠀⠀⠀⠀⠀⠀⠑⢄⠀⠀⠀⠀⠀⠀⠀⠀⠀⠀⠀⠀⠀⠀⠀⠀⠀⠀⠀⠀⠀⠀⠀⠀⎥\n",
       "⎢⠀⠀⠀⠀⠀⠀⠀⠀⠀⠀⠀⠀⠀⠀⠀⠀⠑⢄⠀⠀⠀⠀⠀⠀⠀⠀⠀⠀⠀⠀⠀⠀⠀⠀⠀⠀⠀⠀⠀⠀⎥\n",
       "⎢⠀⠀⠀⠀⠀⠀⠀⠀⠀⠀⠀⠀⠀⠀⠀⠀⠀⠀⠑⢄⠀⠀⠀⠀⠀⠀⠀⠀⠀⠀⠀⠀⠀⠀⠀⠀⠀⠀⠀⠀⎥\n",
       "⎢⠀⠀⠀⠀⠀⠀⠀⠀⠀⠀⠀⠀⠀⠀⠀⠀⠀⠀⠀⠀⠑⢄⠀⠀⠀⠀⠀⠀⠀⠀⠀⠀⠀⠀⠀⠀⠀⠀⠀⠀⎥\n",
       "⎢⠀⠀⠀⠀⠀⠀⠀⠀⠀⠀⠀⠀⠀⠀⠀⠀⠀⠀⠀⠀⠀⠀⠑⢄⠀⠀⠀⠀⠀⠀⠀⠀⠀⠀⠀⠀⠀⠀⠀⠀⎥\n",
       "⎢⠀⠀⠀⠀⠀⠀⠀⠀⠀⠀⠀⠀⠀⠀⠀⠀⠀⠀⠀⠀⠀⠀⠀⠀⠑⢄⠀⠀⠀⠀⠀⠀⠀⠀⠀⠀⠀⠀⠀⠀⎥\n",
       "⎢⠀⠀⠀⠀⠀⠀⠀⠀⠀⠀⠀⠀⠀⠀⠀⠀⠀⠀⠀⠀⠀⠀⠀⠀⠀⠀⠑⢄⠀⠀⠀⠀⠀⠀⠀⠀⠀⠀⠀⠀⎥\n",
       "⎢⠀⠀⠀⠀⠀⠀⠀⠀⠀⠀⠀⠀⠀⠀⠀⠀⠀⠀⠀⠀⠀⠀⠀⠀⠀⠀⠀⠀⠑⢄⠀⠀⠀⠀⠀⠀⠀⠀⠀⠀⎥\n",
       "⎢⠀⠀⠀⠀⠀⠀⠀⠀⠀⠀⠀⠀⠀⠀⠀⠀⠀⠀⠀⠀⠀⠀⠀⠀⠀⠀⠀⠀⠀⠀⠑⢄⠀⠀⠀⠀⠀⠀⠀⠀⎥\n",
       "⎢⠀⠀⠀⠀⠀⠀⠀⠀⠀⠀⠀⠀⠀⠀⠀⠀⠀⠀⠀⠀⠀⠀⠀⠀⠀⠀⠀⠀⠀⠀⠀⠀⠑⢄⠀⠀⠀⠀⠀⠀⎥\n",
       "⎢⠀⠀⠀⠀⠀⠀⠀⠀⠀⠀⠀⠀⠀⠀⠀⠀⠀⠀⠀⠀⠀⠀⠀⠀⠀⠀⠀⠀⠀⠀⠀⠀⠀⠀⠑⢄⠀⠀⠀⠀⎥\n",
       "⎢⠀⠀⠀⠀⠀⠀⠀⠀⠀⠀⠀⠀⠀⠀⠀⠀⠀⠀⠀⠀⠀⠀⠀⠀⠀⠀⠀⠀⠀⠀⠀⠀⠀⠀⠀⠀⠑⢄⠀⠀⎥\n",
       "⎣⠀⠀⠀⠀⠀⠀⠀⠀⠀⠀⠀⠀⠀⠀⠀⠀⠀⠀⠀⠀⠀⠀⠀⠀⠀⠀⠀⠀⠀⠀⠀⠀⠀⠀⠀⠀⠀⠀⠑⢄⎦"
      ]
     },
     "metadata": {},
     "output_type": "display_data"
    },
    {
     "data": {
      "text/plain": []
     },
     "execution_count": 34,
     "metadata": {},
     "output_type": "execute_result"
    }
   ],
   "source": [
    "@time massMatrix(prob)"
   ]
  },
  {
   "cell_type": "code",
   "execution_count": 35,
   "id": "2f7ed16c",
   "metadata": {},
   "outputs": [
    {
     "name": "stdout",
     "output_type": "stream",
     "text": [
      "-------------------------------------------------------\n",
      "Version       : 4.13.1\n",
      "License       : GNU General Public License\n",
      "Build OS      : Linux64-sdk\n",
      "Build date    : 19700101\n",
      "Build host    : amdci7.julia.csail.mit.edu\n",
      "Build options : 64Bit ALGLIB[contrib] ANN[contrib] Bamg Blossom Cairo DIntegration Dlopen DomHex Eigen[contrib] Fltk GMP Gmm[contrib] Hxt Jpeg Kbipack LinuxJoystick MathEx[contrib] Mesh Metis[contrib] Mmg Mpeg Netgen Nii2mesh ONELAB ONELABMetamodel OpenCASCADE OpenCASCADE-CAF OpenGL OpenMP OptHom Parser Plugins Png Post QuadMeshingTools QuadTri Solver TetGen/BR TinyXML2[contrib] Untangle Voro++[contrib] WinslowUntangler Zlib\n",
      "FLTK version  : 1.3.8\n",
      "OCC version   : 7.7.2\n",
      "Packaged by   : root\n",
      "Web site      : https://gmsh.info\n",
      "Issue tracker : https://gitlab.onelab.info/gmsh/gmsh/issues\n",
      "-------------------------------------------------------\n"
     ]
    },
    {
     "name": "stderr",
     "output_type": "stream",
     "text": [
      "XRequest.18: BadValue 0x0\n"
     ]
    }
   ],
   "source": [
    "openPostProcessor()"
   ]
  },
  {
   "cell_type": "code",
   "execution_count": 36,
   "id": "32e23cc3",
   "metadata": {},
   "outputs": [],
   "source": [
    "gmsh.finalize()"
   ]
  }
 ],
 "metadata": {
  "kernelspec": {
   "display_name": "Julia 1.11.7",
   "language": "julia",
   "name": "julia-1.11"
  },
  "language_info": {
   "file_extension": ".jl",
   "mimetype": "application/julia",
   "name": "julia",
   "version": "1.11.7"
  }
 },
 "nbformat": 4,
 "nbformat_minor": 5
}
