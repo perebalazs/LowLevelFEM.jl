{
 "cells": [
  {
   "cell_type": "code",
   "execution_count": 21,
   "id": "d7f72801",
   "metadata": {},
   "outputs": [
    {
     "name": "stderr",
     "output_type": "stream",
     "text": [
      "Warning : Gmsh has aleady been initialized\n"
     ]
    }
   ],
   "source": [
    "using LowLevelFEM\n",
    "import LowLevelFEM as FEM\n",
    "\n",
    "gmsh.initialize()"
   ]
  },
  {
   "cell_type": "code",
   "execution_count": 22,
   "id": "e0dc6389",
   "metadata": {},
   "outputs": [
    {
     "name": "stdout",
     "output_type": "stream",
     "text": [
      "Info    : Reading 'mass-test.geo'...\n",
      "Info    : Meshing 1D...\n",
      "Info    : [  0%] Meshing curve 1 (Line)\n",
      "Info    : [ 10%] Meshing curve 2 (Line)\n",
      "Info    : [ 20%] Meshing curve 3 (Line)\n",
      "Info    : [ 30%] Meshing curve 4 (Line)\n",
      "Info    : [ 40%] Meshing curve 5 (Line)\n",
      "Info    : [ 50%] Meshing curve 6 (Line)\n",
      "Info    : [ 60%] Meshing curve 7 (Line)\n",
      "Info    : [ 60%] Meshing curve 8 (Line)\n",
      "Info    : [ 70%] Meshing curve 9 (Line)\n",
      "Info    : [ 80%] Meshing curve 10 (Line)\n",
      "Info    : [ 90%] Meshing curve 11 (Line)\n",
      "Info    : [100%] Meshing curve 12 (Line)\n",
      "Info    : Done meshing 1D (Wall 0.00512198s, CPU 0.001632s)\n",
      "Info    : Meshing 2D...\n",
      "Info    : [  0%] Meshing surface 1 (Plane, Frontal-Delaunay)\n",
      "Info    : [ 20%] Meshing surface 2 (Plane, Frontal-Delaunay)\n",
      "Info    : [ 40%] Meshing surface 3 (Plane, Frontal-Delaunay)\n",
      "Info    : [ 60%] Meshing surface 4 (Plane, Frontal-Delaunay)\n",
      "Info    : [ 70%] Meshing surface 5 (Plane, Frontal-Delaunay)\n",
      "Info    : [ 90%] Meshing surface 6 (Plane, Frontal-Delaunay)\n",
      "Info    : Done meshing 2D (Wall 0.0204723s, CPU 0.015255s)\n",
      "Info    : Meshing 3D...\n",
      "Info    : 3D Meshing 1 volume with 1 connected component\n",
      "Info    : Tetrahedrizing 272 nodes...\n",
      "Info    : Done tetrahedrizing 280 nodes (Wall 0.0038896s, CPU 0.003701s)\n",
      "Info    : Reconstructing mesh...\n",
      "Info    :  - Creating surface mesh\n",
      "Info    :  - Identifying boundary edges\n",
      "Info    :  - Recovering boundary\n",
      "Info    : Done reconstructing mesh (Wall 0.00788566s, CPU 0.00674s)\n",
      "Info    : Found volume 1\n",
      "Info    : It. 0 - 0 nodes created - worst tet radius 2.98501 (nodes removed 0 0)\n",
      "Info    : 3D refinement terminated (341 nodes total):\n",
      "Info    :  - 0 Delaunay cavities modified for star shapeness\n",
      "Info    :  - 0 nodes could not be inserted\n",
      "Info    :  - 1159 tetrahedra created in 0.0163934 sec. (70699 tets/s)\n",
      "Info    : 0 node relocations\n",
      "Info    : Done meshing 3D (Wall 0.0473012s, CPU 0.027132s)\n",
      "Info    : Optimizing mesh...\n",
      "Info    : Optimizing volume 1\n",
      "Info    : Optimization starts (volume = 1) with worst = 0.0354623 / average = 0.762603:\n",
      "Info    : 0.00 < quality < 0.10 :         4 elements\n",
      "Info    : 0.10 < quality < 0.20 :         5 elements\n",
      "Info    : 0.20 < quality < 0.30 :        12 elements\n",
      "Info    : 0.30 < quality < 0.40 :        20 elements\n",
      "Info    : 0.40 < quality < 0.50 :        29 elements\n",
      "Info    : 0.50 < quality < 0.60 :        35 elements\n",
      "Info    : 0.60 < quality < 0.70 :       211 elements\n",
      "Info    : 0.70 < quality < 0.80 :       315 elements\n",
      "Info    : 0.80 < quality < 0.90 :       365 elements\n",
      "Info    : 0.90 < quality < 1.00 :       159 elements\n",
      "Info    : 21 edge swaps, 0 node relocations (volume = 1): worst = 0.309599 / average = 0.773705 (Wall 0.00105067s, CPU 0.001055s)\n",
      "Info    : No ill-shaped tets in the mesh :-)\n",
      "Info    : 0.00 < quality < 0.10 :         0 elements\n",
      "Info    : 0.10 < quality < 0.20 :         0 elements\n",
      "Info    : 0.20 < quality < 0.30 :         0 elements\n",
      "Info    : 0.30 < quality < 0.40 :        21 elements\n",
      "Info    : 0.40 < quality < 0.50 :        25 elements\n",
      "Info    : 0.50 < quality < 0.60 :        37 elements\n",
      "Info    : 0.60 < quality < 0.70 :       213 elements\n",
      "Info    : 0.70 < quality < 0.80 :       315 elements\n",
      "Info    : 0.80 < quality < 0.90 :       365 elements\n",
      "Info    : 0.90 < quality < 1.00 :       160 elements\n",
      "Info    : Done optimizing mesh (Wall 0.0082628s, CPU 0.0032s)\n",
      "Info    : 341 nodes 1760 elements\n",
      "Info    : Done reading 'mass-test.geo'\n"
     ]
    }
   ],
   "source": [
    "gmsh.open(\"mass-test.geo\")"
   ]
  },
  {
   "cell_type": "code",
   "execution_count": 23,
   "id": "b87e92fc",
   "metadata": {},
   "outputs": [
    {
     "name": "stdout",
     "output_type": "stream",
     "text": [
      "Info    : RCMK renumbering...\n",
      "Info    : Done RCMK renumbering (bandwidth is now 103)\n"
     ]
    },
    {
     "data": {
      "text/plain": [
       "LowLevelFEM.Problem(\"mass-test\", :HeatConduction, 3, 1, LowLevelFEM.Material[LowLevelFEM.Material(\"body\", 200000.0, 0.3, 7.85e-9, 45.0, 4.2e8, 1.2e-5)], 1.0, 341)"
      ]
     },
     "metadata": {},
     "output_type": "display_data"
    }
   ],
   "source": [
    "mat = FEM.material(\"body\")\n",
    "prob = FEM.Problem([mat], type=:HeatConduction)"
   ]
  },
  {
   "cell_type": "code",
   "execution_count": 24,
   "id": "4e698f85",
   "metadata": {},
   "outputs": [
    {
     "data": {
      "text/plain": [
       "341×341 SparseArrays.SparseMatrixCSC{Float64, Int64} with 3841 stored entries:\n",
       "⎡⡕⣭⡋⠒⠲⠪⠓⠌⣦⠀⣄⢸⠀⠀⠀⠰⡄⠀⢠⢸⠀⠀⠀⠺⠀⠀⠀⠜⡀⠀⢀⢚⠀⠀⠀⠀⠀⠀⢀⠀⎤\n",
       "⎢⢫⠈⠻⢆⠀⠀⠀⠀⠏⠀⠳⠸⣀⠀⢀⣀⣀⠀⡀⢀⠃⠀⠘⠘⠆⠀⠠⠰⠁⠀⠁⠈⠀⠀⠀⠀⠀⠀⠀⠀⎥\n",
       "⎢⡸⡂⠀⠀⠻⣦⡀⠀⠀⠀⠀⠀⡿⠈⢧⢸⢀⠀⡀⢰⠰⠐⠀⠔⣤⠠⣀⣠⠙⠈⠀⠊⠀⠀⠀⠀⠀⠀⠀⢀⎥\n",
       "⎢⡙⠄⠀⠀⠀⠈⠻⢆⡀⠀⠀⠀⠀⠀⠀⠀⠛⠀⠃⠘⣄⠀⡴⢰⠱⠠⠅⢜⢂⢐⡚⢘⠀⠀⢄⠀⠀⠀⠠⠂⎥\n",
       "⎢⠈⠛⠋⠁⠀⠀⠀⠈⡿⣯⣟⣿⠀⠀⠀⠀⠁⠀⠘⠀⠃⠀⠙⠑⠁⠀⠈⠀⠃⠀⠋⠑⢠⢨⡝⠇⣛⢨⡸⠀⎥\n",
       "⎢⣀⣙⣙⡂⠀⠀⠀⠀⣿⣽⣿⢟⠀⠀⠀⠀⠁⠀⢘⢀⠀⠀⢈⢀⠂⠀⠐⢐⠀⠀⡈⢀⠀⢸⢽⡃⢽⠠⠏⠀⎥\n",
       "⎢⠀⠀⠀⠘⡛⠋⠀⠀⠀⠀⠀⠀⣿⣿⣿⡗⠑⠀⠂⠈⠘⠐⠀⠒⠉⠀⠀⠀⡋⢐⠀⠐⢀⡄⢝⣻⢠⠀⣭⠀⎥\n",
       "⎢⢀⡀⠀⢰⣉⣓⠀⠀⠀⠀⠀⠀⢿⠿⣿⢟⢖⠀⠄⢘⠀⠈⠀⣀⢑⠘⠀⣂⠈⠀⠀⣁⠴⠀⢱⣿⠰⠀⠥⠀⎥\n",
       "⎢⠀⠉⠀⠘⠀⠐⠛⠀⠁⠀⠁⠀⠑⠀⠘⠑⣿⣿⣿⡗⠀⠀⠀⠀⠁⠀⠑⠐⠁⠈⠑⠐⠀⢜⠘⣧⢏⡄⠀⣷⎥\n",
       "⎢⣀⣒⠀⢈⢀⣈⣉⠀⠒⠀⠒⢐⡈⠀⣀⢁⢿⠿⣵⢟⢀⣀⠀⠀⠁⠀⡁⢀⠀⠈⡁⢀⠀⠨⣸⣗⠴⠅⠀⠯⎥\n",
       "⎢⠀⠀⠉⠀⢐⠂⠀⠙⠉⠀⠀⠀⢒⠀⡀⠀⠀⠀⠀⢰⣻⣾⣻⡟⠀⠀⠀⠈⠐⠐⠀⠐⠰⠄⣿⢛⠀⣥⢀⠀⎥\n",
       "⎢⣠⡀⣒⠀⢀⠄⢐⣋⢗⠀⠂⢐⢠⠀⠀⢠⠀⠀⠀⠀⣿⠾⣿⢟⢐⢈⡁⣉⠀⠈⠁⢅⠠⠀⣿⣯⠀⠾⠸⠀⎥\n",
       "⎢⠀⠀⠈⠁⠀⡛⠑⡂⠁⠀⠈⠀⠃⠀⣑⠐⠁⠀⠁⠀⠀⠀⡐⢐⣻⣾⣿⡟⠀⠀⠀⠀⠰⠌⣞⣛⠀⠀⣕⣮⎥\n",
       "⎢⣀⠄⢀⡂⠀⣸⣁⢅⠂⠀⢐⢀⠀⠀⠠⢠⢑⠀⠁⢈⡀⠀⡅⢨⣿⠿⣿⢟⢀⢀⡀⡀⠠⠸⢴⣩⠀⠀⠦⠽⎥\n",
       "⎢⠀⠈⠁⠀⡓⠀⢈⢐⠉⠀⠀⠀⢋⢈⠂⠀⡁⠀⡀⠀⢐⠀⡀⠀⠀⠀⠀⢐⣻⣾⣯⡟⠰⢌⢹⡛⠀⣮⢈⡅⎥\n",
       "⎢⣠⢐⡁⠀⡠⠀⣚⢈⢏⠀⠂⢈⢀⠀⠄⢠⢑⠀⠁⢈⢀⠀⠅⢄⠀⠀⠀⠨⣯⠿⣵⢟⠠⣨⣪⣯⣀⢵⣐⡆⎥\n",
       "⎢⠀⠀⠀⠀⠀⠀⠀⠀⡀⣒⣀⣀⠀⠴⠐⠃⣀⢄⡀⡀⠐⠆⠀⠂⡐⠆⣀⡂⡐⢆⡀⣢⣿⣿⣿⣿⣿⣿⡿⣯⎥\n",
       "⎢⠀⠀⠀⠀⠀⠀⠀⠑⠷⠍⠷⠳⣷⣱⣵⣶⠶⣤⢶⢾⣿⢛⡿⣿⣾⢹⡔⣳⣷⠲⡮⣾⣿⣿⣿⣿⣿⡿⣿⣕⎥\n",
       "⎢⠀⠀⠀⠀⠀⠀⠀⠀⡛⣘⠓⡓⠀⠒⠐⠂⠋⠵⠔⠇⠄⣤⣠⡄⠀⠀⠀⠀⡠⣤⢄⣜⣿⣿⣿⡿⣿⣿⢿⡿⎥\n",
       "⎣⠀⠐⠀⠀⠀⢀⠠⠂⠒⠊⠋⠁⠃⠛⠁⠃⢤⣤⡤⡄⠀⠐⠒⠂⡱⣽⣌⡇⠆⠴⠰⠼⡿⣯⢟⢿⣿⡷⡿⣯⎦"
      ]
     },
     "metadata": {},
     "output_type": "display_data"
    }
   ],
   "source": [
    "C = FEM.heatCapacityMatrix(prob)"
   ]
  },
  {
   "cell_type": "code",
   "execution_count": 25,
   "id": "70cd18df",
   "metadata": {},
   "outputs": [
    {
     "data": {
      "text/plain": [
       "1.0000000000000018"
      ]
     },
     "metadata": {},
     "output_type": "display_data"
    }
   ],
   "source": [
    "sum(C) / prob.material[1].ρ / prob.material[1].c"
   ]
  },
  {
   "cell_type": "code",
   "execution_count": 26,
   "id": "a4ebc83a",
   "metadata": {},
   "outputs": [],
   "source": [
    "gmsh.finalize()"
   ]
  }
 ],
 "metadata": {
  "kernelspec": {
   "display_name": "Julia 1.11.5",
   "language": "julia",
   "name": "julia-1.11"
  },
  "language_info": {
   "file_extension": ".jl",
   "mimetype": "application/julia",
   "name": "julia",
   "version": "1.11.5"
  }
 },
 "nbformat": 4,
 "nbformat_minor": 5
}
