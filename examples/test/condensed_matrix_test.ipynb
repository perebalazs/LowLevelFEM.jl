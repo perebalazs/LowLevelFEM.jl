{
 "cells": [
  {
   "cell_type": "code",
   "execution_count": 206,
   "id": "0a8b4ccf",
   "metadata": {},
   "outputs": [],
   "source": [
    "using LowLevelFEM"
   ]
  },
  {
   "cell_type": "code",
   "execution_count": 207,
   "id": "26b66240",
   "metadata": {},
   "outputs": [],
   "source": [
    "gmsh.initialize()"
   ]
  },
  {
   "cell_type": "code",
   "execution_count": 208,
   "id": "512e5ac4",
   "metadata": {},
   "outputs": [
    {
     "name": "stdout",
     "output_type": "stream",
     "text": [
      "Info    : Reading 'cube1.geo'...\n",
      "Info    : Meshing 1D...\n",
      "Info    : [  0%] Meshing curve 1 (Line)\n",
      "Info    : [ 10%] Meshing curve 2 (Line)\n",
      "Info    : [ 20%] Meshing curve 3 (Line)\n",
      "Info    : [ 30%] Meshing curve 4 (Line)\n",
      "Info    : [ 40%] Meshing curve 5 (Line)\n",
      "Info    : [ 50%] Meshing curve 6 (Line)\n",
      "Info    : [ 60%] Meshing curve 7 (Line)\n",
      "Info    : [ 60%] Meshing curve 8 (Line)\n",
      "Info    : [ 70%] Meshing curve 9 (Line)\n",
      "Info    : [ 80%] Meshing curve 10 (Line)\n",
      "Info    : [ 90%] Meshing curve 11 (Line)\n",
      "Info    : [100%] Meshing curve 12 (Line)\n",
      "Info    : Done meshing 1D (Wall 0.00326694s, CPU 0.001268s)\n",
      "Info    : Meshing 2D...\n",
      "Info    : [  0%] Meshing surface 1 (Transfinite)\n",
      "Info    : [ 20%] Meshing surface 2 (Transfinite)\n",
      "Info    : [ 40%] Meshing surface 3 (Transfinite)\n",
      "Info    : [ 60%] Meshing surface 4 (Transfinite)\n",
      "Info    : [ 70%] Meshing surface 5 (Transfinite)\n",
      "Info    : [ 90%] Meshing surface 6 (Transfinite)\n",
      "Info    : Done meshing 2D (Wall 0.000177811s, CPU 0.000135s)\n",
      "Info    : Meshing 3D...\n",
      "Info    : Meshing volume 1 (Transfinite)\n",
      "Info    : Done meshing 3D (Wall 5.6197e-05s, CPU 5.6e-05s)\n",
      "Info    : Optimizing mesh...\n",
      "Info    : Done optimizing mesh (Wall 3.024e-06s, CPU 5e-06s)\n",
      "Info    : 8 nodes 27 elements\n",
      "Info    : Done reading 'cube1.geo'\n"
     ]
    }
   ],
   "source": [
    "gmsh.open(\"cube1.geo\")"
   ]
  },
  {
   "cell_type": "code",
   "execution_count": 209,
   "id": "1139ca54",
   "metadata": {},
   "outputs": [
    {
     "data": {
      "text/plain": [
       "Problem(\"cube1\", :Solid, 3, 3, LowLevelFEM.Material[LowLevelFEM.Material(\"cube\", :Hooke, 200000.0, 0.3, 7.85e-9, 45.0, 4.2e8, 1.2e-5, 115384.61538461536, 76923.07692307692, 166666.66666666666, 1.0)], 1.0, 8)"
      ]
     },
     "execution_count": 209,
     "metadata": {},
     "output_type": "execute_result"
    }
   ],
   "source": [
    "mat = material(\"cube\")\n",
    "prob = Problem([mat])"
   ]
  },
  {
   "cell_type": "code",
   "execution_count": 210,
   "id": "7c0e1a2e",
   "metadata": {},
   "outputs": [
    {
     "data": {
      "text/plain": [
       "(\"front\", 0, 0, 100000)"
      ]
     },
     "execution_count": 210,
     "metadata": {},
     "output_type": "execute_result"
    }
   ],
   "source": [
    "supp = displacementConstraint(\"rear\", ux=0, uy=0, uz=1)\n",
    "load1 = load(\"front\", fz=100000)"
   ]
  },
  {
   "cell_type": "code",
   "execution_count": 211,
   "id": "cca7ec55",
   "metadata": {},
   "outputs": [
    {
     "data": {
      "text/plain": [
       "24×24 SparseArrays.SparseMatrixCSC{Float64, Int64} with 576 stored entries:\n",
       "⎡⣿⣿⣿⣿⣿⣿⣿⣿⣿⣿⣿⣿⎤\n",
       "⎢⣿⣿⣿⣿⣿⣿⣿⣿⣿⣿⣿⣿⎥\n",
       "⎢⣿⣿⣿⣿⣿⣿⣿⣿⣿⣿⣿⣿⎥\n",
       "⎢⣿⣿⣿⣿⣿⣿⣿⣿⣿⣿⣿⣿⎥\n",
       "⎢⣿⣿⣿⣿⣿⣿⣿⣿⣿⣿⣿⣿⎥\n",
       "⎣⣿⣿⣿⣿⣿⣿⣿⣿⣿⣿⣿⣿⎦"
      ]
     },
     "metadata": {},
     "output_type": "display_data"
    },
    {
     "data": {
      "text/plain": []
     },
     "execution_count": 211,
     "metadata": {},
     "output_type": "execute_result"
    }
   ],
   "source": [
    "K = stiffnessMatrix(prob)"
   ]
  },
  {
   "cell_type": "code",
   "execution_count": 212,
   "id": "980b5bad",
   "metadata": {},
   "outputs": [
    {
     "data": {
      "text/plain": [
       "VectorField"
      ]
     },
     "metadata": {},
     "output_type": "display_data"
    },
    {
     "data": {
      "text/plain": [
       "24×1 Matrix{Float64}:\n",
       "     0.0\n",
       "     0.0\n",
       " 25000.0\n",
       "     0.0\n",
       "     0.0\n",
       "     0.0\n",
       "     0.0\n",
       "     0.0\n",
       " 25000.0\n",
       "     0.0\n",
       "     0.0\n",
       "     0.0\n",
       "     0.0\n",
       "     0.0\n",
       " 25000.0\n",
       "     0.0\n",
       "     0.0\n",
       "     0.0\n",
       "     0.0\n",
       "     0.0\n",
       " 25000.0\n",
       "     0.0\n",
       "     0.0\n",
       "     0.0"
      ]
     },
     "metadata": {},
     "output_type": "display_data"
    },
    {
     "data": {
      "text/plain": []
     },
     "execution_count": 212,
     "metadata": {},
     "output_type": "execute_result"
    }
   ],
   "source": [
    "f = loadVector(prob, [load1])"
   ]
  },
  {
   "cell_type": "code",
   "execution_count": 213,
   "id": "5242a31b",
   "metadata": {},
   "outputs": [
    {
     "data": {
      "text/plain": [
       "12-element Vector{Any}:\n",
       "  4\n",
       " 10\n",
       " 16\n",
       " 22\n",
       "  5\n",
       " 11\n",
       " 17\n",
       " 23\n",
       "  6\n",
       " 12\n",
       " 18\n",
       " 24"
      ]
     },
     "execution_count": 213,
     "metadata": {},
     "output_type": "execute_result"
    }
   ],
   "source": [
    "free = freeDoFs(prob, [supp])\n",
    "fixed = constrainedDoFs(prob, [supp])"
   ]
  },
  {
   "cell_type": "code",
   "execution_count": 214,
   "id": "b64df0e4",
   "metadata": {},
   "outputs": [
    {
     "data": {
      "text/plain": [
       "VectorField"
      ]
     },
     "metadata": {},
     "output_type": "display_data"
    },
    {
     "data": {
      "text/plain": [
       "24×1 Matrix{Float64}:\n",
       "     0.0\n",
       "     0.0\n",
       " 25000.0\n",
       "     0.0\n",
       "     0.0\n",
       "     0.0\n",
       "     0.0\n",
       "     0.0\n",
       " 25000.0\n",
       "     0.0\n",
       "     0.0\n",
       "     0.0\n",
       "     0.0\n",
       "     0.0\n",
       " 25000.0\n",
       "     0.0\n",
       "     0.0\n",
       "     0.0\n",
       "     0.0\n",
       "     0.0\n",
       " 25000.0\n",
       "     0.0\n",
       "     0.0\n",
       "     0.0"
      ]
     },
     "metadata": {},
     "output_type": "display_data"
    },
    {
     "data": {
      "text/plain": []
     },
     "execution_count": 214,
     "metadata": {},
     "output_type": "execute_result"
    }
   ],
   "source": [
    "u = copy(f)"
   ]
  },
  {
   "cell_type": "code",
   "execution_count": 215,
   "id": "5704c7c8",
   "metadata": {},
   "outputs": [
    {
     "data": {
      "text/plain": [
       "24×1 Matrix{Float64}:\n",
       " 0.0\n",
       " 0.0\n",
       " 0.0\n",
       " 0.0\n",
       " 0.0\n",
       " 0.0\n",
       " 0.0\n",
       " 0.0\n",
       " 0.0\n",
       " 0.0\n",
       " 0.0\n",
       " 0.0\n",
       " 0.0\n",
       " 0.0\n",
       " 0.0\n",
       " 0.0\n",
       " 0.0\n",
       " 0.0\n",
       " 0.0\n",
       " 0.0\n",
       " 0.0\n",
       " 0.0\n",
       " 0.0\n",
       " 0.0"
      ]
     },
     "execution_count": 215,
     "metadata": {},
     "output_type": "execute_result"
    }
   ],
   "source": [
    "fill!(u.a, 0.0)"
   ]
  },
  {
   "cell_type": "code",
   "execution_count": 216,
   "id": "92424364",
   "metadata": {},
   "outputs": [
    {
     "data": {
      "text/plain": [
       "VectorField"
      ]
     },
     "metadata": {},
     "output_type": "display_data"
    },
    {
     "data": {
      "text/plain": [
       "24×1 Matrix{Float64}:\n",
       " 0.0\n",
       " 0.0\n",
       " 0.0\n",
       " 0.0\n",
       " 0.0\n",
       " 1.0\n",
       " 0.0\n",
       " 0.0\n",
       " 0.0\n",
       " 0.0\n",
       " 0.0\n",
       " 1.0\n",
       " 0.0\n",
       " 0.0\n",
       " 0.0\n",
       " 0.0\n",
       " 0.0\n",
       " 1.0\n",
       " 0.0\n",
       " 0.0\n",
       " 0.0\n",
       " 0.0\n",
       " 0.0\n",
       " 1.0"
      ]
     },
     "metadata": {},
     "output_type": "display_data"
    },
    {
     "data": {
      "text/plain": []
     },
     "execution_count": 216,
     "metadata": {},
     "output_type": "execute_result"
    }
   ],
   "source": [
    "applyBoundaryConditions!(u, [supp])\n",
    "u"
   ]
  },
  {
   "cell_type": "code",
   "execution_count": 217,
   "id": "90e09723",
   "metadata": {},
   "outputs": [
    {
     "data": {
      "text/plain": [
       "24-element Vector{Float64}:\n",
       "  28846.15384615385\n",
       "  28846.15384615385\n",
       " -67307.6923076923\n",
       "  28846.153846153848\n",
       "  28846.15384615385\n",
       "  67307.69230769231\n",
       "  28846.153846153844\n",
       " -28846.153846153844\n",
       " -67307.69230769231\n",
       "  28846.153846153848\n",
       " -28846.15384615385\n",
       "  67307.69230769231\n",
       " -28846.153846153848\n",
       "  28846.15384615385\n",
       " -67307.69230769231\n",
       " -28846.153846153844\n",
       "  28846.153846153848\n",
       "  67307.6923076923\n",
       " -28846.153846153855\n",
       " -28846.15384615385\n",
       " -67307.69230769231\n",
       " -28846.153846153844\n",
       " -28846.15384615385\n",
       "  67307.69230769231"
      ]
     },
     "execution_count": 217,
     "metadata": {},
     "output_type": "execute_result"
    }
   ],
   "source": [
    "f_kin = K.A[:, fixed] * u.a[fixed]"
   ]
  },
  {
   "cell_type": "code",
   "execution_count": 218,
   "id": "0065c459",
   "metadata": {},
   "outputs": [
    {
     "data": {
      "text/plain": [
       "12-element Vector{Float64}:\n",
       "  0.0975000000000001\n",
       "  0.0974999999999998\n",
       "  1.4549999999999998\n",
       "  0.09750000000000066\n",
       " -0.09750000000000071\n",
       "  1.4550000000000012\n",
       " -0.09749999999999968\n",
       "  0.0974999999999996\n",
       "  1.455\n",
       " -0.09749999999999971\n",
       " -0.09750000000000016\n",
       "  1.455"
      ]
     },
     "execution_count": 218,
     "metadata": {},
     "output_type": "execute_result"
    }
   ],
   "source": [
    "u.a[free] = K.A[free, free] \\ (f.a[free] - f_kin[free])"
   ]
  },
  {
   "cell_type": "code",
   "execution_count": 219,
   "id": "37565d90",
   "metadata": {},
   "outputs": [
    {
     "data": {
      "text/plain": [
       "VectorField"
      ]
     },
     "metadata": {},
     "output_type": "display_data"
    },
    {
     "data": {
      "text/plain": [
       "24×1 Matrix{Float64}:\n",
       "  0.0975000000000001\n",
       "  0.0974999999999998\n",
       "  1.4549999999999998\n",
       "  0.0\n",
       "  0.0\n",
       "  1.0\n",
       "  0.09750000000000066\n",
       " -0.09750000000000071\n",
       "  1.4550000000000012\n",
       "  0.0\n",
       "  0.0\n",
       "  1.0\n",
       " -0.09749999999999968\n",
       "  0.0974999999999996\n",
       "  1.455\n",
       "  0.0\n",
       "  0.0\n",
       "  1.0\n",
       " -0.09749999999999971\n",
       " -0.09750000000000016\n",
       "  1.455\n",
       "  0.0\n",
       "  0.0\n",
       "  1.0"
      ]
     },
     "metadata": {},
     "output_type": "display_data"
    },
    {
     "data": {
      "text/plain": []
     },
     "execution_count": 219,
     "metadata": {},
     "output_type": "execute_result"
    }
   ],
   "source": [
    "u"
   ]
  },
  {
   "cell_type": "code",
   "execution_count": 220,
   "id": "8eb8dd21",
   "metadata": {},
   "outputs": [
    {
     "data": {
      "text/plain": [
       "0"
      ]
     },
     "execution_count": 220,
     "metadata": {},
     "output_type": "execute_result"
    }
   ],
   "source": [
    "showDoFResults(u)"
   ]
  },
  {
   "cell_type": "code",
   "execution_count": 221,
   "id": "04f522a4",
   "metadata": {},
   "outputs": [
    {
     "data": {
      "text/plain": [
       "1"
      ]
     },
     "execution_count": 221,
     "metadata": {},
     "output_type": "execute_result"
    }
   ],
   "source": [
    "showDoFResults(f)"
   ]
  },
  {
   "cell_type": "code",
   "execution_count": 222,
   "id": "34fff17e",
   "metadata": {},
   "outputs": [
    {
     "name": "stdout",
     "output_type": "stream",
     "text": [
      "-------------------------------------------------------\n",
      "Version       : 4.13.1\n",
      "License       : GNU General Public License\n",
      "Build OS      : Linux64-sdk\n",
      "Build date    : 19700101\n",
      "Build host    : amdci7.julia.csail.mit.edu\n",
      "Build options : 64Bit ALGLIB[contrib] ANN[contrib] Bamg Blossom Cairo DIntegration Dlopen DomHex Eigen[contrib] Fltk GMP Gmm[contrib] Hxt Jpeg Kbipack LinuxJoystick MathEx[contrib] Mesh Metis[contrib] Mmg Mpeg Netgen Nii2mesh ONELAB ONELABMetamodel OpenCASCADE OpenCASCADE-CAF OpenGL OpenMP OptHom Parser Plugins Png Post QuadMeshingTools QuadTri Solver TetGen/BR TinyXML2[contrib] Untangle Voro++[contrib] WinslowUntangler Zlib\n",
      "FLTK version  : 1.3.8\n",
      "OCC version   : 7.7.2\n",
      "Packaged by   : root\n",
      "Web site      : https://gmsh.info\n",
      "Issue tracker : https://gitlab.onelab.info/gmsh/gmsh/issues\n",
      "-------------------------------------------------------\n"
     ]
    },
    {
     "name": "stderr",
     "output_type": "stream",
     "text": [
      "XRequest.18: BadValue 0x0\n"
     ]
    }
   ],
   "source": [
    "openPostProcessor()"
   ]
  },
  {
   "cell_type": "code",
   "execution_count": 223,
   "id": "00feb886",
   "metadata": {},
   "outputs": [],
   "source": [
    "gmsh.finalize()"
   ]
  },
  {
   "cell_type": "code",
   "execution_count": 224,
   "id": "ebb2cdb9",
   "metadata": {},
   "outputs": [
    {
     "ename": "LoadError",
     "evalue": "MethodError: no method matching size(::LowLevelFEM.SystemMatrix, ::Int64)\nThe function `size` exists, but no method is defined for this combination of argument types.\n\n\u001b[0mClosest candidates are:\n\u001b[0m  size(\u001b[91m::BitVector\u001b[39m, ::Integer)\n\u001b[0m\u001b[90m   @\u001b[39m \u001b[90mBase\u001b[39m \u001b[90m\u001b[4mbitarray.jl:107\u001b[24m\u001b[39m\n\u001b[0m  size(\u001b[91m::Type{LinearAlgebra.Diagonal{T, StaticArraysCore.SVector{N, T}} where T}\u001b[39m, ::Int64) where N\n\u001b[0m\u001b[90m   @\u001b[39m \u001b[33mStaticArrays\u001b[39m \u001b[90m~/.julia/packages/StaticArrays/DsPgf/src/\u001b[39m\u001b[90m\u001b[4mSDiagonal.jl:19\u001b[24m\u001b[39m\n\u001b[0m  size(\u001b[91m::Type{LinearAlgebra.Diagonal{T, StaticArraysCore.SVector{N, T}}}\u001b[39m, ::Int64) where {N, T}\n\u001b[0m\u001b[90m   @\u001b[39m \u001b[33mStaticArrays\u001b[39m \u001b[90m~/.julia/packages/StaticArrays/DsPgf/src/\u001b[39m\u001b[90m\u001b[4mSDiagonal.jl:20\u001b[24m\u001b[39m\n\u001b[0m  ...\n",
     "output_type": "error",
     "traceback": [
      "MethodError: no method matching size(::LowLevelFEM.SystemMatrix, ::Int64)\nThe function `size` exists, but no method is defined for this combination of argument types.\n\n\u001b[0mClosest candidates are:\n\u001b[0m  size(\u001b[91m::BitVector\u001b[39m, ::Integer)\n\u001b[0m\u001b[90m   @\u001b[39m \u001b[90mBase\u001b[39m \u001b[90m\u001b[4mbitarray.jl:107\u001b[24m\u001b[39m\n\u001b[0m  size(\u001b[91m::Type{LinearAlgebra.Diagonal{T, StaticArraysCore.SVector{N, T}} where T}\u001b[39m, ::Int64) where N\n\u001b[0m\u001b[90m   @\u001b[39m \u001b[33mStaticArrays\u001b[39m \u001b[90m~/.julia/packages/StaticArrays/DsPgf/src/\u001b[39m\u001b[90m\u001b[4mSDiagonal.jl:19\u001b[24m\u001b[39m\n\u001b[0m  size(\u001b[91m::Type{LinearAlgebra.Diagonal{T, StaticArraysCore.SVector{N, T}}}\u001b[39m, ::Int64) where {N, T}\n\u001b[0m\u001b[90m   @\u001b[39m \u001b[33mStaticArrays\u001b[39m \u001b[90m~/.julia/packages/StaticArrays/DsPgf/src/\u001b[39m\u001b[90m\u001b[4mSDiagonal.jl:20\u001b[24m\u001b[39m\n\u001b[0m  ...\n",
      "",
      "Stacktrace:",
      " [1] top-level scope",
      "\u001b[90m   @\u001b[39m \u001b[90m./\u001b[39m\u001b[90m\u001b[4mIn[224]:1\u001b[24m\u001b[39m"
     ]
    }
   ],
   "source": [
    "for col in 1:size(K, 2)\n",
    "    colrange = K.colptr[col]:(K.colptr[col+1]-1)\n",
    "    for rowidx in colrange\n",
    "        row = K.rowval[rowidx]\n",
    "        if fixed[row]\n",
    "            K.nzval[rowidx] = 0.0\n",
    "        elseif fixed[col]\n",
    "            K.nzval[rowidx] = 0.0\n",
    "        end\n",
    "    end\n",
    "end\n",
    "for dof in fixed_dofs\n",
    "    K[dof, dof] = 1.0  # ha létezett korábban\n",
    "end\n"
   ]
  }
 ],
 "metadata": {
  "kernelspec": {
   "display_name": "Julia 1.11.7",
   "language": "julia",
   "name": "julia-1.11"
  },
  "language_info": {
   "file_extension": ".jl",
   "mimetype": "application/julia",
   "name": "julia",
   "version": "1.11.7"
  }
 },
 "nbformat": 4,
 "nbformat_minor": 5
}
