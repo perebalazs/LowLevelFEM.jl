{
 "cells": [
  {
   "cell_type": "code",
   "execution_count": 234,
   "id": "0a8b4ccf",
   "metadata": {},
   "outputs": [],
   "source": [
    "using LowLevelFEM"
   ]
  },
  {
   "cell_type": "code",
   "execution_count": 235,
   "id": "26b66240",
   "metadata": {},
   "outputs": [],
   "source": [
    "gmsh.initialize()"
   ]
  },
  {
   "cell_type": "code",
   "execution_count": 236,
   "id": "512e5ac4",
   "metadata": {},
   "outputs": [
    {
     "name": "stdout",
     "output_type": "stream",
     "text": [
      "Info    : Reading 'cube1.geo'...\n",
      "Info    : Meshing 1D...\n",
      "Info    : [  0%] Meshing curve 1 (Line)\n",
      "Info    : [ 10%] Meshing curve 2 (Line)\n",
      "Info    : [ 20%] Meshing curve 3 (Line)\n",
      "Info    : [ 30%] Meshing curve 4 (Line)\n",
      "Info    : [ 40%] Meshing curve 5 (Line)\n",
      "Info    : [ 50%] Meshing curve 6 (Line)\n",
      "Info    : [ 60%] Meshing curve 7 (Line)\n",
      "Info    : [ 60%] Meshing curve 8 (Line)\n",
      "Info    : [ 70%] Meshing curve 9 (Line)\n",
      "Info    : [ 80%] Meshing curve 10 (Line)\n",
      "Info    : [ 90%] Meshing curve 11 (Line)\n",
      "Info    : [100%] Meshing curve 12 (Line)\n",
      "Info    : Done meshing 1D (Wall 0.00370138s, CPU 0.002898s)\n",
      "Info    : Meshing 2D...\n",
      "Info    : [  0%] Meshing surface 1 (Transfinite)\n",
      "Info    : [ 20%] Meshing surface 2 (Transfinite)\n",
      "Info    : [ 40%] Meshing surface 3 (Transfinite)\n",
      "Info    : [ 60%] Meshing surface 4 (Transfinite)\n",
      "Info    : [ 70%] Meshing surface 5 (Transfinite)\n",
      "Info    : [ 90%] Meshing surface 6 (Transfinite)\n",
      "Info    : Done meshing 2D (Wall 0.00382445s, CPU 0.003823s)\n",
      "Info    : Meshing 3D...\n",
      "Info    : Meshing volume 1 (Transfinite)\n",
      "Info    : Done meshing 3D (Wall 0.0859529s, CPU 0.085498s)\n",
      "Info    : Optimizing mesh...\n",
      "Info    : Done optimizing mesh (Wall 0.00108178s, CPU 0.00108s)\n",
      "Info    : 29791 nodes 32768 elements\n",
      "Info    : Done reading 'cube1.geo'\n"
     ]
    }
   ],
   "source": [
    "gmsh.open(\"cube1.geo\")"
   ]
  },
  {
   "cell_type": "code",
   "execution_count": 237,
   "id": "1139ca54",
   "metadata": {},
   "outputs": [
    {
     "data": {
      "text/plain": [
       "Problem(\"cube1\", :Solid, 3, 3, LowLevelFEM.Material[LowLevelFEM.Material(\"cube\", :Hooke, 200000.0, 0.3, 7.85e-9, 45.0, 4.2e8, 1.2e-5, 115384.61538461536, 76923.07692307692, 166666.66666666666, 1.0)], 1.0, 29791)"
      ]
     },
     "execution_count": 237,
     "metadata": {},
     "output_type": "execute_result"
    }
   ],
   "source": [
    "mat = material(\"cube\")\n",
    "prob = Problem([mat])"
   ]
  },
  {
   "cell_type": "code",
   "execution_count": 238,
   "id": "7c0e1a2e",
   "metadata": {},
   "outputs": [
    {
     "data": {
      "text/plain": [
       "(\"front\", 0, 0, 100000)"
      ]
     },
     "execution_count": 238,
     "metadata": {},
     "output_type": "execute_result"
    }
   ],
   "source": [
    "supp = displacementConstraint(\"rear\", ux=0, uy=0, uz=1)\n",
    "load1 = load(\"front\", fz=100000)"
   ]
  },
  {
   "cell_type": "code",
   "execution_count": 239,
   "id": "800bf401",
   "metadata": {},
   "outputs": [],
   "source": [
    "f = loadVector(prob, [load1]);"
   ]
  },
  {
   "cell_type": "code",
   "execution_count": 240,
   "id": "7f7bb565",
   "metadata": {},
   "outputs": [],
   "source": [
    "using SparseArrays"
   ]
  },
  {
   "cell_type": "code",
   "execution_count": 241,
   "id": "cca7ec55",
   "metadata": {},
   "outputs": [
    {
     "data": {
      "text/plain": [
       "solveCondensed (generic function with 1 method)"
      ]
     },
     "execution_count": 241,
     "metadata": {},
     "output_type": "execute_result"
    }
   ],
   "source": [
    "function solveCondensed(prob, load, supp)\n",
    "    K = stiffnessMatrix(prob)\n",
    "    f = loadVector(prob, load)\n",
    "    free = freeDoFs(prob, supp)\n",
    "    fixed = constrainedDoFs(prob, supp)\n",
    "    u = copy(f)\n",
    "    fill!(u.a, 0.0)\n",
    "    applyBoundaryConditions!(u, supp)\n",
    "    f_kin = K.A[:, fixed] * u.a[fixed]\n",
    "    u.a[free] = K.A[free, free] \\ (f.a[free] - f_kin[free])\n",
    "    return u\n",
    "end"
   ]
  },
  {
   "cell_type": "code",
   "execution_count": 242,
   "id": "ebb2cdb9",
   "metadata": {},
   "outputs": [
    {
     "data": {
      "text/plain": [
       "solveZeroRows (generic function with 1 method)"
      ]
     },
     "execution_count": 242,
     "metadata": {},
     "output_type": "execute_result"
    }
   ],
   "source": [
    "function solveZeroRows(prob, load, supp)\n",
    "    K = stiffnessMatrix(prob)\n",
    "    f = loadVector(prob, load)\n",
    "    fixed_dofs = constrainedDoFs(prob, supp)\n",
    "    u2 = copy(f)\n",
    "    fill!(u2.a, 0.0)\n",
    "    applyBoundaryConditions!(u2, supp)\n",
    "    f_kin = K.A[:, fixed_dofs] * u2.a[fixed_dofs]\n",
    "    fixed = falses(size(K.A, 1))\n",
    "    fixed[fixed_dofs] .= true\n",
    "    for col in 1:size(K.A, 2)\n",
    "        colrange = K.A.colptr[col]:(K.A.colptr[col+1]-1)\n",
    "        for rowidx in colrange\n",
    "            row = K.A.rowval[rowidx]\n",
    "            if fixed[row]\n",
    "                K.A.nzval[rowidx] = 0.0\n",
    "            elseif fixed[col]\n",
    "                K.A.nzval[rowidx] = 0.0\n",
    "            end\n",
    "        end\n",
    "    end\n",
    "    for dof in fixed_dofs\n",
    "        K.A[dof, dof] = 1.0  # ha létezett korábban\n",
    "        f.a[dof] = u2.a[dof]\n",
    "        f_kin[dof] = 0.0\n",
    "    end\n",
    "    dropzeros!(K.A)\n",
    "    u2.a .= K.A \\ (f.a - f_kin)\n",
    "    return u2\n",
    "end"
   ]
  },
  {
   "cell_type": "code",
   "execution_count": 243,
   "id": "7780ef37",
   "metadata": {},
   "outputs": [],
   "source": [
    "using BenchmarkTools"
   ]
  },
  {
   "cell_type": "code",
   "execution_count": 244,
   "id": "cd1eb35e",
   "metadata": {},
   "outputs": [
    {
     "name": "stdout",
     "output_type": "stream",
     "text": [
      "  81.434 s (59035006 allocations: 13.45 GiB)\n"
     ]
    }
   ],
   "source": [
    "@btime solveCondensed(prob, [load1], [supp]);"
   ]
  },
  {
   "cell_type": "code",
   "execution_count": 245,
   "id": "202db963",
   "metadata": {},
   "outputs": [
    {
     "name": "stdout",
     "output_type": "stream",
     "text": [
      "  83.952 s (14982935 allocations: 12.59 GiB)\n"
     ]
    }
   ],
   "source": [
    "@btime solveDisplacement(prob, [load1], [supp]);"
   ]
  },
  {
   "cell_type": "code",
   "execution_count": 246,
   "id": "414fad78",
   "metadata": {},
   "outputs": [
    {
     "name": "stdout",
     "output_type": "stream",
     "text": [
      "  83.693 s (43630060 allocations: 13.12 GiB)\n"
     ]
    }
   ],
   "source": [
    "@btime solveZeroRows(prob, [load1], [supp]);"
   ]
  },
  {
   "cell_type": "code",
   "execution_count": 247,
   "id": "daa03c6b",
   "metadata": {},
   "outputs": [],
   "source": [
    "u = solveCondensed(prob, [load1], [supp]);"
   ]
  },
  {
   "cell_type": "code",
   "execution_count": 248,
   "id": "3bb07275",
   "metadata": {},
   "outputs": [],
   "source": [
    "u2 = solveZeroRows(prob, [load1], [supp]);"
   ]
  },
  {
   "cell_type": "code",
   "execution_count": 249,
   "id": "d2ea5471",
   "metadata": {},
   "outputs": [],
   "source": [
    "u3 = solveDisplacement(prob, [load1], [supp]);"
   ]
  },
  {
   "cell_type": "code",
   "execution_count": 250,
   "id": "8eb8dd21",
   "metadata": {},
   "outputs": [
    {
     "data": {
      "text/plain": [
       "1"
      ]
     },
     "execution_count": 250,
     "metadata": {},
     "output_type": "execute_result"
    }
   ],
   "source": [
    "showDoFResults(f)\n",
    "showDoFResults(u)"
   ]
  },
  {
   "cell_type": "code",
   "execution_count": 251,
   "id": "f6f86c66",
   "metadata": {},
   "outputs": [
    {
     "data": {
      "text/plain": [
       "2"
      ]
     },
     "execution_count": 251,
     "metadata": {},
     "output_type": "execute_result"
    }
   ],
   "source": [
    "showDoFResults(u2)"
   ]
  },
  {
   "cell_type": "code",
   "execution_count": 252,
   "id": "6452d8f4",
   "metadata": {},
   "outputs": [
    {
     "data": {
      "text/plain": [
       "3"
      ]
     },
     "execution_count": 252,
     "metadata": {},
     "output_type": "execute_result"
    }
   ],
   "source": [
    "showDoFResults(u3)"
   ]
  },
  {
   "cell_type": "code",
   "execution_count": 253,
   "id": "34fff17e",
   "metadata": {},
   "outputs": [
    {
     "name": "stdout",
     "output_type": "stream",
     "text": [
      "-------------------------------------------------------\n",
      "Version       : 4.13.1\n",
      "License       : GNU General Public License\n",
      "Build OS      : Linux64-sdk\n",
      "Build date    : 19700101\n",
      "Build host    : amdci7.julia.csail.mit.edu\n",
      "Build options : 64Bit ALGLIB[contrib] ANN[contrib] Bamg Blossom Cairo DIntegration Dlopen DomHex Eigen[contrib] Fltk GMP Gmm[contrib] Hxt Jpeg Kbipack LinuxJoystick MathEx[contrib] Mesh Metis[contrib] Mmg Mpeg Netgen Nii2mesh ONELAB ONELABMetamodel OpenCASCADE OpenCASCADE-CAF OpenGL OpenMP OptHom Parser Plugins Png Post QuadMeshingTools QuadTri Solver TetGen/BR TinyXML2[contrib] Untangle Voro++[contrib] WinslowUntangler Zlib\n",
      "FLTK version  : 1.3.8\n",
      "OCC version   : 7.7.2\n",
      "Packaged by   : root\n",
      "Web site      : https://gmsh.info\n",
      "Issue tracker : https://gitlab.onelab.info/gmsh/gmsh/issues\n",
      "-------------------------------------------------------\n"
     ]
    },
    {
     "name": "stderr",
     "output_type": "stream",
     "text": [
      "XRequest.18: BadValue 0x0\n"
     ]
    }
   ],
   "source": [
    "openPostProcessor()"
   ]
  },
  {
   "cell_type": "code",
   "execution_count": 254,
   "id": "00feb886",
   "metadata": {},
   "outputs": [],
   "source": [
    "gmsh.finalize()"
   ]
  }
 ],
 "metadata": {
  "kernelspec": {
   "display_name": "Julia 1.11.7",
   "language": "julia",
   "name": "julia-1.11"
  },
  "language_info": {
   "file_extension": ".jl",
   "mimetype": "application/julia",
   "name": "julia",
   "version": "1.11.7"
  }
 },
 "nbformat": 4,
 "nbformat_minor": 5
}
