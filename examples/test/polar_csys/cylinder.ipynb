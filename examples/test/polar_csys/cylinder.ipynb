{
 "cells": [
  {
   "cell_type": "code",
   "execution_count": 24,
   "metadata": {},
   "outputs": [],
   "source": [
    "using LowLevelFEM\n",
    "import LowLevelFEM as FEM\n",
    "\n",
    "gmsh.initialize()"
   ]
  },
  {
   "cell_type": "code",
   "execution_count": 25,
   "metadata": {},
   "outputs": [
    {
     "name": "stdout",
     "output_type": "stream",
     "text": [
      "Info    : Reading 'cylinder.geo'...\n",
      "Info    : Meshing 1D...\n",
      "Info    : [  0%] Meshing curve 1 (Circle)\n",
      "Info    : [ 40%] Meshing curve 2 (Line)\n",
      "Info    : [ 70%] Meshing curve 3 (Circle)\n",
      "Info    : Done meshing 1D (Wall 0.00940666s, CPU 0.001026s)\n",
      "Info    : Meshing 2D...\n",
      "Info    : [  0%] Meshing surface 1 (Cylinder, Frontal-Delaunay)\n",
      "Info    : [ 40%] Meshing surface 2 (Plane, Frontal-Delaunay)\n",
      "Info    : [ 70%] Meshing surface 3 (Plane, Frontal-Delaunay)\n",
      "Info    : Done meshing 2D (Wall 0.338333s, CPU 0.031104s)\n",
      "Info    : Meshing 3D...\n",
      "Info    : 3D Meshing 1 volume with 1 connected component\n",
      "Info    : Tetrahedrizing 351 nodes...\n",
      "Info    : Done tetrahedrizing 359 nodes (Wall 0.0128854s, CPU 0.005142s)\n",
      "Info    : Reconstructing mesh...\n",
      "Info    :  - Creating surface mesh\n",
      "Info    :  - Identifying boundary edges\n",
      "Info    :  - Recovering boundary\n",
      "Info    : Done reconstructing mesh (Wall 0.0414657s, CPU 0.012413s)\n",
      "Info    : Found volume 1\n",
      "Info    : It. 0 - 0 nodes created - worst tet radius 2.08088 (nodes removed 0 0)\n",
      "Info    : 3D refinement terminated (435 nodes total):\n",
      "Info    :  - 0 Delaunay cavities modified for star shapeness\n",
      "Info    :  - 0 nodes could not be inserted\n",
      "Info    :  - 1458 tetrahedra created in 0.0223106 sec. (65350 tets/s)\n",
      "Info    : 0 node relocations\n",
      "Info    : Done meshing 3D (Wall 0.169743s, CPU 0.037343s)\n",
      "Info    : Optimizing mesh...\n",
      "Info    : Optimizing volume 1\n",
      "Info    : Optimization starts (volume = 30459.3) with worst = 0.0346847 / average = 0.762791:\n",
      "Info    : 0.00 < quality < 0.10 :         9 elements\n",
      "Info    : 0.10 < quality < 0.20 :        11 elements\n",
      "Info    : 0.20 < quality < 0.30 :        18 elements\n",
      "Info    : 0.30 < quality < 0.40 :        32 elements\n",
      "Info    : 0.40 < quality < 0.50 :        35 elements\n",
      "Info    : 0.50 < quality < 0.60 :        50 elements\n",
      "Info    : 0.60 < quality < 0.70 :       177 elements\n",
      "Info    : 0.70 < quality < 0.80 :       461 elements\n",
      "Info    : 0.80 < quality < 0.90 :       442 elements\n",
      "Info    : 0.90 < quality < 1.00 :       223 elements\n",
      "Info    : 38 edge swaps, 2 node relocations (volume = 30459.3): worst = 0.240473 / average = 0.78082 (Wall 0.0010167s, CPU 0.001017s)\n",
      "Info    : 39 edge swaps, 2 node relocations (volume = 30459.3): worst = 0.300163 / average = 0.78136 (Wall 0.00114026s, CPU 0.001134s)\n",
      "Info    : No ill-shaped tets in the mesh :-)\n",
      "Info    : 0.00 < quality < 0.10 :         0 elements\n",
      "Info    : 0.10 < quality < 0.20 :         0 elements\n",
      "Info    : 0.20 < quality < 0.30 :         0 elements\n",
      "Info    : 0.30 < quality < 0.40 :        30 elements\n",
      "Info    : 0.40 < quality < 0.50 :        34 elements\n",
      "Info    : 0.50 < quality < 0.60 :        49 elements\n",
      "Info    : 0.60 < quality < 0.70 :       164 elements\n",
      "Info    : 0.70 < quality < 0.80 :       463 elements\n",
      "Info    : 0.80 < quality < 0.90 :       452 elements\n",
      "Info    : 0.90 < quality < 1.00 :       228 elements\n",
      "Info    : Done optimizing mesh (Wall 0.00843422s, CPU 0.004928s)\n",
      "Info    : Meshing order 3 (curvilinear on)...\n",
      "Info    : [  0%] Meshing curve 1 order 3\n",
      "Info    : [ 20%] Meshing curve 2 order 3\n",
      "Info    : [ 30%] Meshing curve 3 order 3\n",
      "Info    : [ 50%] Meshing surface 1 order 3\n",
      "Info    : [ 60%] Meshing surface 2 order 3\n",
      "Info    : [ 80%] Meshing surface 3 order 3\n",
      "Info    : [ 90%] Meshing volume 1 order 3\n",
      "Info    : Surface mesh: worst distortion = 0.82685 (0 elements in ]0, 0.2]); worst gamma = 0.717041\n",
      "Info    : Volume mesh: worst distortion = 0.751693 (0 elements in ]0, 0.2])\n",
      "Info    : Done meshing order 3 (Wall 0.0454421s, CPU 0.027783s)\n",
      "Info    : 8030 nodes 2166 elements\n",
      "Info    : Done reading 'cylinder.geo'\n"
     ]
    }
   ],
   "source": [
    "gmsh.open(\"cylinder.geo\")"
   ]
  },
  {
   "cell_type": "code",
   "execution_count": 26,
   "metadata": {},
   "outputs": [
    {
     "name": "stdout",
     "output_type": "stream",
     "text": [
      "Info    : RCMK renumbering...\n",
      "Info    : Done RCMK renumbering (bandwidth is now 1443)\n"
     ]
    },
    {
     "data": {
      "text/plain": [
       "LowLevelFEM.Problem(\"cylinder\", :Solid, 3, 3, LowLevelFEM.Material[LowLevelFEM.Material(\"body\", 200000.0, 0.3, 7.85e-9, 45.0, 4.2e8, 1.2e-5)], 1.0, 8030)"
      ]
     },
     "metadata": {},
     "output_type": "display_data"
    }
   ],
   "source": [
    "mat = FEM.material(\"body\", ν=0.3)\n",
    "problem = FEM.Problem([mat])"
   ]
  },
  {
   "cell_type": "code",
   "execution_count": 27,
   "metadata": {},
   "outputs": [],
   "source": [
    "csx(x, y, z) = x\n",
    "csy(x, y, z) = y\n",
    "csyy(x, y, z) = -y\n",
    "cs = FEM.CoordinateSystem([csx, csy, 0], [csyy, csx, 0])\n",
    "Q = FEM.rotateNodes(problem, \"body\", cs);"
   ]
  },
  {
   "cell_type": "code",
   "execution_count": 28,
   "metadata": {},
   "outputs": [
    {
     "data": {
      "text/plain": [
       "(\"left\", 0 + 1im, 0, 0)"
      ]
     },
     "metadata": {},
     "output_type": "display_data"
    }
   ],
   "source": [
    "supp = FEM.displacementConstraint(\"left\", uy=0, uz=0)"
   ]
  },
  {
   "cell_type": "code",
   "execution_count": 29,
   "metadata": {},
   "outputs": [
    {
     "data": {
      "text/plain": [
       "(\"right\", Main.fx, Main.fy, 3)"
      ]
     },
     "metadata": {},
     "output_type": "display_data"
    }
   ],
   "source": [
    "fx(x, y, z) = -y\n",
    "fy(x, y, z) = x\n",
    "load = FEM.load(\"right\", fx=fx, fy=fy, fz=3)"
   ]
  },
  {
   "cell_type": "code",
   "execution_count": 30,
   "metadata": {},
   "outputs": [],
   "source": [
    "f2x(x, y, z) = -y * z / 100000 - 0.3 * x / 10000\n",
    "f2y(x, y, z) = x * z / 100000 - 0.3 * y / 10000\n",
    "f2z(x, y, z) = 0.01 / 100 * z\n",
    "torque = FEM.field(\"body\", fx=f2x, fy=f2y, fz=f2z)\n",
    "q = FEM.vectorField(problem, [torque]);"
   ]
  },
  {
   "cell_type": "code",
   "execution_count": 31,
   "metadata": {},
   "outputs": [],
   "source": [
    "f2x(x, y, z) = x / 10000\n",
    "f2y(x, y, z) = y / 10000\n",
    "f2z(x, y, z) = 0 * 0.01 / 100 * z\n",
    "torque = FEM.field(\"body\", fx=f2x, fy=f2y, fz=f2z)\n",
    "q2 = FEM.vectorField(problem, [torque]);"
   ]
  },
  {
   "cell_type": "code",
   "execution_count": 32,
   "metadata": {},
   "outputs": [
    {
     "data": {
      "text/plain": [
       "24090-element Vector{Float64}:\n",
       " -0.0003\n",
       "  0.01\n",
       "  0.01\n",
       " -0.0003\n",
       "  1.2037062152420224e-35\n",
       "  0.0\n",
       " -0.00029999999999999905\n",
       "  0.010000000000000002\n",
       "  0.010000000000000002\n",
       " -0.0002999999999999999\n",
       "  ⋮\n",
       " -0.00023921778586815908\n",
       "  0.007334409569432159\n",
       "  0.009197990286735293\n",
       " -0.00019965969933294055\n",
       "  0.00021250489881176056\n",
       "  0.00031930063932040706\n",
       " -0.00017827117557701422\n",
       "  0.0021195073637302157\n",
       "  0.003566769597277784"
      ]
     },
     "metadata": {},
     "output_type": "display_data"
    }
   ],
   "source": [
    "q = Q' * q"
   ]
  },
  {
   "cell_type": "code",
   "execution_count": 33,
   "metadata": {},
   "outputs": [],
   "source": [
    "S = FEM.solveStress(problem, q)\n",
    "S = FEM.elementsToNodes(problem, S);"
   ]
  },
  {
   "cell_type": "code",
   "execution_count": 34,
   "metadata": {},
   "outputs": [
    {
     "data": {
      "text/plain": [
       "43"
      ]
     },
     "metadata": {},
     "output_type": "display_data"
    }
   ],
   "source": [
    "point = FEM.displacementConstraint(\"A\", uz=0)\n",
    "n = FEM.constrainedDoFs(problem, [point])[1] ÷ 3\n",
    "n = 43"
   ]
  },
  {
   "cell_type": "code",
   "execution_count": 35,
   "metadata": {},
   "outputs": [
    {
     "data": {
      "text/plain": [
       "3×3 Matrix{Float64}:\n",
       "  3.77427    11.2383   -0.0241606\n",
       " 11.2383      8.42722   7.82389\n",
       " -0.0241606   7.82389  23.6604"
      ]
     },
     "metadata": {},
     "output_type": "display_data"
    }
   ],
   "source": [
    "reshape(S[n*9-8:n*9], 3, 3)"
   ]
  },
  {
   "cell_type": "code",
   "execution_count": 36,
   "metadata": {},
   "outputs": [],
   "source": [
    "#=\n",
    "using SparseArrays\n",
    "struct Transformation\n",
    "    T::SparseMatrixCSC{Float64}\n",
    "    non::Int64\n",
    "    dim::Int64\n",
    "end\n",
    "\n",
    "import Base.transpose\n",
    "function transpose(A::Transformation)\n",
    "    return Transformation(transpose(A.T), A.non, A.dim)\n",
    "end\n",
    "\n",
    "import Base.adjoint\n",
    "function adjoint(A::Transformation)\n",
    "    return Transformation(adjoint(A.T), A.non, A.dim)\n",
    "end\n",
    "\n",
    "import Base.*\n",
    "function *(A::Transformation, B)\n",
    "    n = size(B, 1)\n",
    "    m = size(B, 2)\n",
    "    non = A.non\n",
    "    dim = A.dim\n",
    "    if dim * non == n\n",
    "        if m == n\n",
    "            return dropzeros!(A.T * B)\n",
    "        else\n",
    "            return A.T * B\n",
    "        end\n",
    "    elseif 9non == n\n",
    "        C = zeros(3non, 3)\n",
    "        E = zeros(n, m)\n",
    "        T = []\n",
    "        I = []\n",
    "        J = []\n",
    "        V = []\n",
    "        T1 = zeros(9)\n",
    "        I0 = [1, 2, 3, 1, 2, 3, 1, 2, 3]\n",
    "        J0 = [1, 1, 1, 2, 2, 2, 3, 3, 3]\n",
    "        if dim == 2\n",
    "            for i in 1:non\n",
    "                T1 = [A.T[2i-1, 2i-1], A.T[2i, 2i-1], 0, A.T[2i-1, 2i], A.T[2i, 2i], 0, 0, 0, 1]\n",
    "                Idx = I0 .+ (3i - 3)\n",
    "                Jdx = J0 .+ (3i - 3)\n",
    "                append!(I, Idx)\n",
    "                append!(J, Jdx)\n",
    "                append!(V, T1)\n",
    "            end\n",
    "            fn(x, y) = y\n",
    "            T = sparse(I, J, V, 3non, 3non, fn)\n",
    "        else\n",
    "            T = A.T\n",
    "        end\n",
    "        for k in 1:m\n",
    "            for i in 1:non\n",
    "                for j = 1:3\n",
    "                    C[3i-2:3i, j] = B[9i-9+3j-2:9i-9+3j, k]\n",
    "                end\n",
    "            end\n",
    "            D = T * C\n",
    "            for i in 1:non\n",
    "                for j = 1:3\n",
    "                    E[9i-9+3j-2:9i-9+3j, k] = D[3i-2:3i, j]\n",
    "                end\n",
    "            end\n",
    "        end\n",
    "        return E\n",
    "    else\n",
    "        error(\"*(A::Transformation, B): size missmatch dim * non = $dim * $non ≠ $n.\")\n",
    "    end\n",
    "end\n",
    "\n",
    "function *(B, A::Transformation)\n",
    "    n = size(B, 1)\n",
    "    m = size(B, 2)\n",
    "    non = A.non\n",
    "    dim = A.dim\n",
    "    if dim * non == n\n",
    "        if m == n\n",
    "            return dropzeros!(A.T * B)\n",
    "        else\n",
    "            return A.T * B\n",
    "        end\n",
    "    elseif 9non == n\n",
    "        C = zeros(3, 3non)\n",
    "        E = zeros(n, m)\n",
    "        T = []\n",
    "        I = []\n",
    "        J = []\n",
    "        V = []\n",
    "        T1 = zeros(9)\n",
    "        I0 = [1, 2, 3, 1, 2, 3, 1, 2, 3]\n",
    "        J0 = [1, 1, 1, 2, 2, 2, 3, 3, 3]\n",
    "        if dim == 2\n",
    "            for i in 1:non\n",
    "                T1 = [A.T[2i-1, 2i-1], A.T[2i, 2i-1], 0, A.T[2i-1, 2i], A.T[2i, 2i], 0, 0, 0, 1]\n",
    "                Idx = I0 .+ (3i - 3)\n",
    "                Jdx = J0 .+ (3i - 3)\n",
    "                append!(I, Idx)\n",
    "                append!(J, Jdx)\n",
    "                append!(V, T1)\n",
    "            end\n",
    "            fn(x, y) = y\n",
    "            T = sparse(I, J, V, 3non, 3non, fn)\n",
    "        else\n",
    "            T = A.T\n",
    "        end\n",
    "        for k in 1:m\n",
    "            for i in 1:non\n",
    "                for j = 1:3\n",
    "                    C[1:3, 3i-3+j] = B[9i-9+3j-2:9i-9+3j, k]\n",
    "                end\n",
    "            end\n",
    "            D = C * T\n",
    "            for i in 1:non\n",
    "                for j = 1:3\n",
    "                    E[9i-9+3j-2:9i-9+3j, k] = D[1:3, 3i-3+j]\n",
    "                end\n",
    "            end\n",
    "        end\n",
    "        return E\n",
    "    else\n",
    "        error(\"*(B, A::Transformation): size missmatch dim * non = $dim * $non ≠ $n.\")\n",
    "    end\n",
    "end\n",
    "=#"
   ]
  },
  {
   "cell_type": "code",
   "execution_count": 37,
   "metadata": {},
   "outputs": [],
   "source": [
    "q1 = Q' * q\n",
    "S2 = FEM.solveStress(problem, q1)\n",
    "S2 = FEM.elementsToNodes(problem, S2);"
   ]
  },
  {
   "cell_type": "code",
   "execution_count": 38,
   "metadata": {},
   "outputs": [
    {
     "ename": "DimensionMismatch",
     "evalue": "DimensionMismatch: first dimension of A, 24090, does not match the first dimension of B, 72270",
     "output_type": "error",
     "traceback": [
      "DimensionMismatch: first dimension of A, 24090, does not match the first dimension of B, 72270\n",
      "\n",
      "Stacktrace:\n",
      "  [1] _At_or_Ac_mul_B!(tfun::typeof(transpose), C::Matrix{Float64}, A::SparseMatrixCSC{Float64, Int64}, B::Matrix{Float64}, α::Bool, β::Bool)\n",
      "    @ SparseArrays ~/.julia/juliaup/julia-1.11.5+0.x64.linux.gnu/share/julia/stdlib/v1.11/SparseArrays/src/linalg.jl:100\n",
      "  [2] spdensemul!\n",
      "    @ ~/.julia/juliaup/julia-1.11.5+0.x64.linux.gnu/share/julia/stdlib/v1.11/SparseArrays/src/linalg.jl:61 [inlined]\n",
      "  [3] generic_matmatmul!\n",
      "    @ ~/.julia/juliaup/julia-1.11.5+0.x64.linux.gnu/share/julia/stdlib/v1.11/SparseArrays/src/linalg.jl:50 [inlined]\n",
      "  [4] _mul!\n",
      "    @ ~/.julia/juliaup/julia-1.11.5+0.x64.linux.gnu/share/julia/stdlib/v1.11/LinearAlgebra/src/matmul.jl:287 [inlined]\n",
      "  [5] mul!\n",
      "    @ ~/.julia/juliaup/julia-1.11.5+0.x64.linux.gnu/share/julia/stdlib/v1.11/LinearAlgebra/src/matmul.jl:285 [inlined]\n",
      "  [6] mul!\n",
      "    @ ~/.julia/juliaup/julia-1.11.5+0.x64.linux.gnu/share/julia/stdlib/v1.11/LinearAlgebra/src/matmul.jl:253 [inlined]\n",
      "  [7] *\n",
      "    @ ~/.julia/juliaup/julia-1.11.5+0.x64.linux.gnu/share/julia/stdlib/v1.11/LinearAlgebra/src/matmul.jl:114 [inlined]\n",
      "  [8] _tri_matmul(A::LinearAlgebra.Adjoint{Float64, SparseMatrixCSC{Float64, Int64}}, B::Matrix{Float64}, C::SparseMatrixCSC{Float64, Int64}, δ::Nothing)\n",
      "    @ LinearAlgebra ~/.julia/juliaup/julia-1.11.5+0.x64.linux.gnu/share/julia/stdlib/v1.11/LinearAlgebra/src/matmul.jl:1144\n",
      "  [9] _tri_matmul\n",
      "    @ ~/.julia/juliaup/julia-1.11.5+0.x64.linux.gnu/share/julia/stdlib/v1.11/LinearAlgebra/src/matmul.jl:1136 [inlined]\n",
      " [10] *(A::LinearAlgebra.Adjoint{Float64, SparseMatrixCSC{Float64, Int64}}, B::Matrix{Float64}, C::SparseMatrixCSC{Float64, Int64})\n",
      "    @ LinearAlgebra ~/.julia/juliaup/julia-1.11.5+0.x64.linux.gnu/share/julia/stdlib/v1.11/LinearAlgebra/src/matmul.jl:1132\n",
      " [11] top-level scope\n",
      "    @ ~/Dokumentumok/GitHub/LowLevelFEM.jl/examples/test/polar_csys/jl_notebook_cell_df34fa98e69747e1a8f8a730347b8e2f_X21sZmlsZQ==.jl:1"
     ]
    }
   ],
   "source": [
    "S3 = Q' * S * Q;"
   ]
  },
  {
   "cell_type": "code",
   "execution_count": 39,
   "metadata": {},
   "outputs": [
    {
     "data": {
      "text/plain": [
       "3×3 Matrix{Float64}:\n",
       "  6.95256   23.0697   -0.047888\n",
       " 23.0697    16.158     7.71215\n",
       " -0.047888   7.71215  26.9332"
      ]
     },
     "metadata": {},
     "output_type": "display_data"
    }
   ],
   "source": [
    "reshape(S2[n*9-8:n*9], 3, 3)"
   ]
  },
  {
   "cell_type": "code",
   "execution_count": 40,
   "metadata": {},
   "outputs": [
    {
     "data": {
      "text/plain": [
       "3×3 Matrix{Float64}:\n",
       " -0.0384409    0.00346762   0.047888\n",
       "  0.00346762  -0.0250046    7.71215\n",
       "  0.047888     7.71215     19.981"
      ]
     },
     "metadata": {},
     "output_type": "display_data"
    }
   ],
   "source": [
    "reshape(S3[n*9-8:n*9], 3, 3)"
   ]
  },
  {
   "cell_type": "code",
   "execution_count": 41,
   "metadata": {},
   "outputs": [
    {
     "data": {
      "text/plain": [
       "9"
      ]
     },
     "metadata": {},
     "output_type": "display_data"
    }
   ],
   "source": [
    "u = FEM.showDoFResults(problem, q1, :uvec)\n",
    "ux = FEM.showDoFResults(problem, q1, :ux)\n",
    "uy = FEM.showDoFResults(problem, q1, :uy)\n",
    "uz = FEM.showDoFResults(problem, q1, :uz)\n",
    "sx = FEM.showDoFResults(problem, S2, :sx)\n",
    "sy = FEM.showDoFResults(problem, S2, :sy)\n",
    "sz = FEM.showDoFResults(problem, S2, :sz)\n",
    "sxy = FEM.showDoFResults(problem, S2, :sxy)\n",
    "syz = FEM.showDoFResults(problem, S2, :syz, visible=false)\n",
    "szx = FEM.showDoFResults(problem, S2, :szx)"
   ]
  },
  {
   "cell_type": "code",
   "execution_count": 42,
   "metadata": {},
   "outputs": [
    {
     "data": {
      "text/plain": [
       "15"
      ]
     },
     "metadata": {},
     "output_type": "display_data"
    }
   ],
   "source": [
    "s2x = FEM.showDoFResults(problem, S3, :sx)\n",
    "s2y = FEM.showDoFResults(problem, S3, :sy)\n",
    "s2z = FEM.showDoFResults(problem, S3, :sz)\n",
    "s2xy = FEM.showDoFResults(problem, S3, :sxy)\n",
    "s2yz = FEM.showDoFResults(problem, S3, :syz, visible=true)\n",
    "s2zx = FEM.showDoFResults(problem, S3, :szx)"
   ]
  },
  {
   "cell_type": "code",
   "execution_count": 43,
   "metadata": {},
   "outputs": [
    {
     "data": {
      "text/plain": [
       "17"
      ]
     },
     "metadata": {},
     "output_type": "display_data"
    }
   ],
   "source": [
    "p1 = FEM.plotOnPath(problem, \"path1\", s2yz)\n",
    "p2 = FEM.plotOnPath(problem, \"path2\", s2yz)"
   ]
  },
  {
   "cell_type": "code",
   "execution_count": 44,
   "metadata": {},
   "outputs": [
    {
     "name": "stdout",
     "output_type": "stream",
     "text": [
      "-------------------------------------------------------\n",
      "Version       : 4.13.1\n",
      "License       : GNU General Public License\n",
      "Build OS      : Linux64-sdk\n",
      "Build date    : 19700101\n",
      "Build host    : amdci7.julia.csail.mit.edu\n",
      "Build options : 64Bit ALGLIB[contrib] ANN[contrib] Bamg Blossom Cairo DIntegration Dlopen DomHex Eigen[contrib] Fltk GMP Gmm[contrib] Hxt Jpeg Kbipack LinuxJoystick MathEx[contrib] Mesh Metis[contrib] Mmg Mpeg Netgen Nii2mesh ONELAB ONELABMetamodel OpenCASCADE OpenCASCADE-CAF OpenGL OpenMP OptHom Parser Plugins Png Post QuadMeshingTools QuadTri Solver TetGen/BR TinyXML2[contrib] Untangle Voro++[contrib] WinslowUntangler Zlib\n",
      "FLTK version  : 1.3.8\n",
      "OCC version   : 7.7.2\n",
      "Packaged by   : root\n",
      "Web site      : https://gmsh.info\n",
      "Issue tracker : https://gitlab.onelab.info/gmsh/gmsh/issues\n",
      "-------------------------------------------------------\n"
     ]
    },
    {
     "name": "stderr",
     "output_type": "stream",
     "text": [
      "XRequest.18: BadValue 0x0\n"
     ]
    }
   ],
   "source": [
    "FEM.openPostProcessor()"
   ]
  },
  {
   "cell_type": "code",
   "execution_count": 45,
   "metadata": {},
   "outputs": [],
   "source": [
    "gmsh.finalize()"
   ]
  }
 ],
 "metadata": {
  "kernelspec": {
   "display_name": "Julia 1.11.5",
   "language": "julia",
   "name": "julia-1.11"
  },
  "language_info": {
   "file_extension": ".jl",
   "mimetype": "application/julia",
   "name": "julia",
   "version": "1.11.5"
  }
 },
 "nbformat": 4,
 "nbformat_minor": 2
}
