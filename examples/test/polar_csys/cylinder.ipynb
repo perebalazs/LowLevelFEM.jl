{
 "cells": [
  {
   "cell_type": "code",
   "execution_count": 16,
   "metadata": {},
   "outputs": [],
   "source": [
    "using LowLevelFEM\n",
    "import LowLevelFEM as FEM\n",
    "\n",
    "gmsh.initialize()"
   ]
  },
  {
   "cell_type": "code",
   "execution_count": 17,
   "metadata": {},
   "outputs": [
    {
     "name": "stdout",
     "output_type": "stream",
     "text": [
      "Info    : Reading 'cylinder.geo'...\n",
      "Info    : Meshing 1D...\n",
      "Info    : [  0%] Meshing curve 1 (Circle)\n",
      "Info    : [ 40%] Meshing curve 2 (Line)\n",
      "Info    : [ 70%] Meshing curve 3 (Circle)\n",
      "Info    : Done meshing 1D (Wall 0.0004648s, CPU 0.000464s)\n",
      "Info    : Meshing 2D...\n",
      "Info    : [  0%] Meshing surface 1 (Cylinder, Frontal-Delaunay)\n",
      "Info    : [ 40%] Meshing surface 2 (Plane, Frontal-Delaunay)\n",
      "Info    : [ 70%] Meshing surface 3 (Plane, Frontal-Delaunay)\n",
      "Info    : Done meshing 2D (Wall 0.0452821s, CPU 0.035438s)\n",
      "Info    : Meshing 3D...\n",
      "Info    : 3D Meshing 1 volume with 1 connected component\n",
      "Info    : Tetrahedrizing 351 nodes...\n",
      "Info    : Done tetrahedrizing 359 nodes (Wall 0.00705857s, CPU 0.006355s)\n",
      "Info    : Reconstructing mesh...\n",
      "Info    :  - Creating surface mesh\n",
      "Info    :  - Identifying boundary edges\n",
      "Info    :  - Recovering boundary\n",
      "Info    : Done reconstructing mesh (Wall 0.0162867s, CPU 0.015434s)\n",
      "Info    : Found volume 1\n",
      "Info    : It. 0 - 0 nodes created - worst tet radius 2.08088 (nodes removed 0 0)\n",
      "Info    : 3D refinement terminated (435 nodes total):\n",
      "Info    :  - 0 Delaunay cavities modified for star shapeness\n",
      "Info    :  - 0 nodes could not be inserted\n",
      "Info    :  - 1458 tetrahedra created in 0.0138579 sec. (105210 tets/s)\n",
      "Info    : 0 node relocations\n",
      "Info    : Done meshing 3D (Wall 0.0559387s, CPU 0.054506s)\n",
      "Info    : Optimizing mesh...\n",
      "Info    : Optimizing volume 1\n",
      "Info    : Optimization starts (volume = 30459.3) with worst = 0.0346847 / average = 0.762791:\n",
      "Info    : 0.00 < quality < 0.10 :         9 elements\n",
      "Info    : 0.10 < quality < 0.20 :        11 elements\n",
      "Info    : 0.20 < quality < 0.30 :        18 elements\n",
      "Info    : 0.30 < quality < 0.40 :        32 elements\n",
      "Info    : 0.40 < quality < 0.50 :        35 elements\n",
      "Info    : 0.50 < quality < 0.60 :        50 elements\n",
      "Info    : 0.60 < quality < 0.70 :       177 elements\n",
      "Info    : 0.70 < quality < 0.80 :       461 elements\n",
      "Info    : 0.80 < quality < 0.90 :       442 elements\n",
      "Info    : 0.90 < quality < 1.00 :       223 elements\n",
      "Info    : 38 edge swaps, 2 node relocations (volume = 30459.3): worst = 0.240473 / average = 0.78082 (Wall 0.00183675s, CPU 0.00182s)\n",
      "Info    : 39 edge swaps, 2 node relocations (volume = 30459.3): worst = 0.300163 / average = 0.78136 (Wall 0.00219388s, CPU 0.002175s)\n",
      "Info    : No ill-shaped tets in the mesh :-)\n",
      "Info    : 0.00 < quality < 0.10 :         0 elements\n",
      "Info    : 0.10 < quality < 0.20 :         0 elements\n",
      "Info    : 0.20 < quality < 0.30 :         0 elements\n",
      "Info    : 0.30 < quality < 0.40 :        30 elements\n",
      "Info    : 0.40 < quality < 0.50 :        34 elements\n",
      "Info    : 0.50 < quality < 0.60 :        49 elements\n",
      "Info    : 0.60 < quality < 0.70 :       164 elements\n",
      "Info    : 0.70 < quality < 0.80 :       463 elements\n",
      "Info    : 0.80 < quality < 0.90 :       452 elements\n",
      "Info    : 0.90 < quality < 1.00 :       228 elements\n",
      "Info    : Done optimizing mesh (Wall 0.0074467s, CPU 0.006473s)\n",
      "Info    : Meshing order 3 (curvilinear on)...\n",
      "Info    : [  0%] Meshing curve 1 order 3\n",
      "Info    : [ 20%] Meshing curve 2 order 3\n",
      "Info    : [ 30%] Meshing curve 3 order 3\n",
      "Info    : [ 50%] Meshing surface 1 order 3\n",
      "Info    : [ 60%] Meshing surface 2 order 3\n",
      "Info    : [ 80%] Meshing surface 3 order 3\n",
      "Info    : [ 90%] Meshing volume 1 order 3\n",
      "Info    : Surface mesh: worst distortion = 0.82685 (0 elements in ]0, 0.2]); worst gamma = 0.717041\n",
      "Info    : Volume mesh: worst distortion = 0.751693 (0 elements in ]0, 0.2])\n",
      "Info    : Done meshing order 3 (Wall 0.0519636s, CPU 0.049748s)\n",
      "Info    : 8030 nodes 2166 elements\n",
      "Info    : Done reading 'cylinder.geo'\n"
     ]
    }
   ],
   "source": [
    "gmsh.open(\"cylinder.geo\")"
   ]
  },
  {
   "cell_type": "code",
   "execution_count": 18,
   "metadata": {},
   "outputs": [
    {
     "name": "stdout",
     "output_type": "stream",
     "text": [
      "Info    : RCMK renumbering...\n",
      "Info    : Done RCMK renumbering (bandwidth is now 1443)\n"
     ]
    },
    {
     "data": {
      "text/plain": [
       "LowLevelFEM.Problem(\"cylinder\", :Solid, 3, 3, LowLevelFEM.Material[LowLevelFEM.Material(\"body\", 200000.0, 0.3, 7.85e-9, 45.0, 4.2e8, 1.2e-5)], 1.0, 8030)"
      ]
     },
     "metadata": {},
     "output_type": "display_data"
    }
   ],
   "source": [
    "mat = FEM.material(\"body\", ν=0.3)\n",
    "problem = FEM.Problem([mat])"
   ]
  },
  {
   "cell_type": "code",
   "execution_count": 19,
   "metadata": {},
   "outputs": [],
   "source": [
    "n1x(x, y, z) = x\n",
    "n1y(x, y, z) = y\n",
    "n2x(x, y, z) = -y\n",
    "n2y = n1x\n",
    "cs = FEM.CoordinateSystem([n1x, n1y, 0], [n2x, n2y, 0])\n",
    "Q = FEM.rotateNodes(problem, \"body\", cs);"
   ]
  },
  {
   "cell_type": "code",
   "execution_count": 20,
   "metadata": {},
   "outputs": [
    {
     "data": {
      "text/plain": [
       "(\"left\", 0 + 1im, 0, 0)"
      ]
     },
     "metadata": {},
     "output_type": "display_data"
    }
   ],
   "source": [
    "supp = FEM.displacementConstraint(\"left\", uy=0, uz=0)"
   ]
  },
  {
   "cell_type": "code",
   "execution_count": 21,
   "metadata": {},
   "outputs": [
    {
     "data": {
      "text/plain": [
       "(\"right\", Main.fx, Main.fy, 3)"
      ]
     },
     "metadata": {},
     "output_type": "display_data"
    }
   ],
   "source": [
    "fx(x, y, z) = -y\n",
    "fy(x, y, z) = x\n",
    "load = FEM.load(\"right\", fx=fx, fy=fy, fz=3)"
   ]
  },
  {
   "cell_type": "code",
   "execution_count": 22,
   "metadata": {},
   "outputs": [],
   "source": [
    "f2x(x, y, z) = -y * z / 100000 - 0.3 * x / 10000\n",
    "f2y(x, y, z) = x * z / 100000 - 0.3 * y / 10000\n",
    "f2z(x, y, z) = 0.01 / 100 * z\n",
    "torque = FEM.field(\"body\", fx=f2x, fy=f2y, fz=f2z)\n",
    "q = FEM.vectorField(problem, [torque]);"
   ]
  },
  {
   "cell_type": "code",
   "execution_count": 23,
   "metadata": {},
   "outputs": [
    {
     "data": {
      "text/plain": [
       "0"
      ]
     },
     "metadata": {},
     "output_type": "display_data"
    }
   ],
   "source": [
    "f1(x, y, z) = y\n",
    "f2 = FEM.field(\"right\", f=f1)\n",
    "qq = FEM.scalarField(problem, [f2])\n",
    "qqq = FEM.showDoFResults(problem, qq, :scalar)"
   ]
  },
  {
   "cell_type": "code",
   "execution_count": 24,
   "metadata": {},
   "outputs": [],
   "source": [
    "S = FEM.solveStress(problem, q)\n",
    "S = FEM.elementsToNodes(problem, S);"
   ]
  },
  {
   "cell_type": "code",
   "execution_count": 25,
   "metadata": {},
   "outputs": [],
   "source": [
    "q1 = Q' * q\n",
    "S1 = FEM.solveStress(problem, q)\n",
    "S1 = FEM.elementsToNodes(problem, S1);\n",
    "S1 = Q' * S1 * Q;"
   ]
  },
  {
   "cell_type": "code",
   "execution_count": 26,
   "metadata": {},
   "outputs": [
    {
     "data": {
      "text/plain": [
       "10"
      ]
     },
     "metadata": {},
     "output_type": "display_data"
    }
   ],
   "source": [
    "u = FEM.showDoFResults(problem, q, :uvec)\n",
    "ux = FEM.showDoFResults(problem, q, :ux)\n",
    "uy = FEM.showDoFResults(problem, q, :uy)\n",
    "uz = FEM.showDoFResults(problem, q, :uz)\n",
    "sx = FEM.showDoFResults(problem, S, :sx)\n",
    "sy = FEM.showDoFResults(problem, S, :sy)\n",
    "sz = FEM.showDoFResults(problem, S, :sz)\n",
    "sxy = FEM.showDoFResults(problem, S, :sxy)\n",
    "syz = FEM.showDoFResults(problem, S, :syz, visible=true)\n",
    "szx = FEM.showDoFResults(problem, S, :szx)"
   ]
  },
  {
   "cell_type": "code",
   "execution_count": 27,
   "metadata": {},
   "outputs": [
    {
     "data": {
      "text/plain": [
       "20"
      ]
     },
     "metadata": {},
     "output_type": "display_data"
    }
   ],
   "source": [
    "u1 = FEM.showDoFResults(problem, q1, :uvec, name=\"uvec-HKR\")\n",
    "u1x = FEM.showDoFResults(problem, q1, :ux, name=\"ux-HKR\")\n",
    "u1y = FEM.showDoFResults(problem, q1, :uy, name=\"uy-HKR\")\n",
    "u1z = FEM.showDoFResults(problem, q1, :uz, name=\"uz-HKR\")\n",
    "s1x = FEM.showDoFResults(problem, S1, :sx, name=\"sx-HKR\")\n",
    "s1y = FEM.showDoFResults(problem, S1, :sy, name=\"sy-HKR\")\n",
    "s1z = FEM.showDoFResults(problem, S1, :sz, name=\"sz-HKR\")\n",
    "s1xy = FEM.showDoFResults(problem, S1, :sxy, name=\"sxy-HKR\")\n",
    "s1yz = FEM.showDoFResults(problem, S1, :syz, name=\"syz-HKR\")\n",
    "s1zx = FEM.showDoFResults(problem, S1, :szx, name=\"szx-HKR\")"
   ]
  },
  {
   "cell_type": "code",
   "execution_count": 28,
   "metadata": {},
   "outputs": [
    {
     "data": {
      "text/plain": [
       "22"
      ]
     },
     "metadata": {},
     "output_type": "display_data"
    }
   ],
   "source": [
    "p1 = FEM.plotOnPath(problem, \"path1\", s1yz)\n",
    "p2 = FEM.plotOnPath(problem, \"path2\", s1yz)"
   ]
  },
  {
   "cell_type": "code",
   "execution_count": 29,
   "metadata": {},
   "outputs": [
    {
     "name": "stdout",
     "output_type": "stream",
     "text": [
      "-------------------------------------------------------\n",
      "Version       : 4.13.1\n",
      "License       : GNU General Public License\n",
      "Build OS      : Linux64-sdk\n",
      "Build date    : 19700101\n",
      "Build host    : amdci7.julia.csail.mit.edu\n",
      "Build options : 64Bit ALGLIB[contrib] ANN[contrib] Bamg Blossom Cairo DIntegration Dlopen DomHex Eigen[contrib] Fltk GMP Gmm[contrib] Hxt Jpeg Kbipack LinuxJoystick MathEx[contrib] Mesh Metis[contrib] Mmg Mpeg Netgen Nii2mesh ONELAB ONELABMetamodel OpenCASCADE OpenCASCADE-CAF OpenGL OpenMP OptHom Parser Plugins Png Post QuadMeshingTools QuadTri Solver TetGen/BR TinyXML2[contrib] Untangle Voro++[contrib] WinslowUntangler Zlib\n",
      "FLTK version  : 1.3.8\n",
      "OCC version   : 7.7.2\n",
      "Packaged by   : root\n",
      "Web site      : https://gmsh.info\n",
      "Issue tracker : https://gitlab.onelab.info/gmsh/gmsh/issues\n",
      "-------------------------------------------------------\n"
     ]
    },
    {
     "name": "stderr",
     "output_type": "stream",
     "text": [
      "XRequest.18: BadValue 0x0\n"
     ]
    }
   ],
   "source": [
    "FEM.openPostProcessor()"
   ]
  },
  {
   "cell_type": "code",
   "execution_count": 30,
   "metadata": {},
   "outputs": [],
   "source": [
    "gmsh.finalize()"
   ]
  }
 ],
 "metadata": {
  "kernelspec": {
   "display_name": "Julia 1.11.5",
   "language": "julia",
   "name": "julia-1.11"
  },
  "language_info": {
   "file_extension": ".jl",
   "mimetype": "application/julia",
   "name": "julia",
   "version": "1.11.5"
  }
 },
 "nbformat": 4,
 "nbformat_minor": 2
}
