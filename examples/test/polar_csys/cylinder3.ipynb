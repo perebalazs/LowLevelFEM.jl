{
 "cells": [
  {
   "cell_type": "code",
   "execution_count": 553,
   "metadata": {},
   "outputs": [],
   "source": [
    "using LowLevelFEM\n",
    "import LowLevelFEM as FEM\n",
    "\n",
    "gmsh.initialize()"
   ]
  },
  {
   "cell_type": "code",
   "execution_count": 554,
   "metadata": {},
   "outputs": [
    {
     "data": {
      "text/plain": [
       "* (generic function with 283 methods)"
      ]
     },
     "metadata": {},
     "output_type": "display_data"
    }
   ],
   "source": [
    "using SparseArrays\n",
    "struct Transformation\n",
    "    T::SparseMatrixCSC{Float64}\n",
    "    non::Int64\n",
    "    dim::Int64\n",
    "end\n",
    "\n",
    "import Base.transpose\n",
    "function transpose(A::Transformation)\n",
    "    return Transformation(transpose(A.T), A.non, A.dim)\n",
    "end\n",
    "\n",
    "import Base.adjoint\n",
    "function adjoint(A::Transformation)\n",
    "    return Transformation(adjoint(A.T), A.non, A.dim)\n",
    "end\n",
    "\n",
    "import Base.*\n",
    "function *(A::Transformation, B)\n",
    "    n = size(B, 1)\n",
    "    m = size(B, 2)\n",
    "    non = A.non\n",
    "    dim = A.dim\n",
    "    if dim * non == n\n",
    "        if m == n\n",
    "            return dropzeros!(A.T * B)\n",
    "        else\n",
    "            return A.T * B\n",
    "        end\n",
    "    elseif 9non == n\n",
    "        C = zeros(3non, 3)\n",
    "        E = zeros(n, m)\n",
    "        T = []\n",
    "        I = []\n",
    "        J = []\n",
    "        V = []\n",
    "        T1 = zeros(9)\n",
    "        I0 = [1, 2, 3, 1, 2, 3, 1, 2, 3]\n",
    "        J0 = [1, 1, 1, 2, 2, 2, 3, 3, 3]\n",
    "        if dim == 2\n",
    "            for i in 1:non\n",
    "                T1 = [A.T[2i-1, 2i-1], A.T[2i, 2i-1], 0, A.T[2i-1, 2i], A.T[2i, 2i], 0, 0, 0, 1]\n",
    "                Idx = I0 .+ (3i - 3)\n",
    "                Jdx = J0 .+ (3i - 3)\n",
    "                append!(I, Idx)\n",
    "                append!(J, Jdx)\n",
    "                append!(V, T1)\n",
    "            end\n",
    "            fn(x, y) = y\n",
    "            T = sparse(I, J, V, 3non, 3non, fn)\n",
    "        else\n",
    "            T = A.T\n",
    "        end\n",
    "        for k in 1:m\n",
    "            for i in 1:non\n",
    "                for j = 1:3\n",
    "                    C[3i-2:3i, j] = B[9i-9+3j-2:9i-9+3j, k]\n",
    "                end\n",
    "            end\n",
    "            D = T * C\n",
    "            for i in 1:non\n",
    "                for j = 1:3\n",
    "                    E[9i-9+3j-2:9i-9+3j, k] = D[3i-2:3i, j]\n",
    "                end\n",
    "            end\n",
    "        end\n",
    "        return E\n",
    "    else\n",
    "        error(\"*(A::Transformation, B): size missmatch dim * non = $dim * $non ≠ $n.\")\n",
    "    end\n",
    "end\n",
    "\n",
    "function *(B, A::Transformation)\n",
    "    n = size(B, 1)\n",
    "    m = size(B, 2)\n",
    "    non = A.non\n",
    "    dim = A.dim\n",
    "    if dim * non == n\n",
    "        if m == n\n",
    "            return dropzeros!(A.T * B)\n",
    "        else\n",
    "            return A.T * B\n",
    "        end\n",
    "    elseif 9non == n\n",
    "        C = zeros(3, 3non)\n",
    "        E = zeros(n, m)\n",
    "        T = []\n",
    "        I = []\n",
    "        J = []\n",
    "        V = []\n",
    "        T1 = zeros(9)\n",
    "        I0 = [1, 2, 3, 1, 2, 3, 1, 2, 3]\n",
    "        J0 = [1, 1, 1, 2, 2, 2, 3, 3, 3]\n",
    "        if dim == 2\n",
    "            for i in 1:non\n",
    "                T1 = [A.T[2i-1, 2i-1], A.T[2i, 2i-1], 0, A.T[2i-1, 2i], A.T[2i, 2i], 0, 0, 0, 1]\n",
    "                Idx = I0 .+ (3i - 3)\n",
    "                Jdx = J0 .+ (3i - 3)\n",
    "                append!(I, Idx)\n",
    "                append!(J, Jdx)\n",
    "                append!(V, T1)\n",
    "            end\n",
    "            fn(x, y) = y\n",
    "            T = sparse(I, J, V, 3non, 3non, fn)\n",
    "        else\n",
    "            T = A.T\n",
    "        end\n",
    "        for k in 1:m\n",
    "            for i in 1:non\n",
    "                for j = 1:3\n",
    "                    C[1:3, 3i-3+j] = B[9i-9+3j-2:9i-9+3j, k]\n",
    "                end\n",
    "            end\n",
    "            D = C * T\n",
    "            for i in 1:non\n",
    "                for j = 1:3\n",
    "                    E[9i-9+3j-2:9i-9+3j, k] = D[1:3, 3i-3+j]\n",
    "                end\n",
    "            end\n",
    "        end\n",
    "        return E\n",
    "    else\n",
    "        error(\"*(B, A::Transformation): size missmatch dim * non = $dim * $non ≠ $n.\")\n",
    "    end\n",
    "end"
   ]
  },
  {
   "cell_type": "code",
   "execution_count": 555,
   "metadata": {},
   "outputs": [
    {
     "name": "stdout",
     "output_type": "stream",
     "text": [
      "Info    : Reading 'cylinder.geo'...\n",
      "Info    : Meshing 1D...\n",
      "Info    : [  0%] Meshing curve 1 (Circle)\n",
      "Info    : [ 40%] Meshing curve 2 (Line)\n",
      "Info    : [ 70%] Meshing curve 3 (Circle)\n",
      "Info    : Done meshing 1D (Wall 0.00046127s, CPU 0.000463s)\n",
      "Info    : Meshing 2D...\n",
      "Info    : [  0%] Meshing surface 1 (Cylinder, Frontal-Delaunay)\n",
      "Info    : [ 40%] Meshing surface 2 (Plane, Frontal-Delaunay)\n",
      "Info    : [ 70%] Meshing surface 3 (Plane, Frontal-Delaunay)\n",
      "Info    : Done meshing 2D (Wall 0.0453573s, CPU 0.036617s)\n",
      "Info    : Meshing 3D...\n",
      "Info    : 3D Meshing 1 volume with 1 connected component\n",
      "Info    : Tetrahedrizing 351 nodes...\n",
      "Info    : Done tetrahedrizing 359 nodes (Wall 0.0158661s, CPU 0.006439s)\n",
      "Info    : Reconstructing mesh...\n",
      "Info    :  - Creating surface mesh\n",
      "Info    :  - Identifying boundary edges\n",
      "Info    :  - Recovering boundary\n",
      "Info    : Done reconstructing mesh (Wall 0.0298934s, CPU 0.015336s)\n",
      "Info    : Found volume 1\n",
      "Info    : It. 0 - 0 nodes created - worst tet radius 2.08088 (nodes removed 0 0)\n",
      "Info    : 3D refinement terminated (435 nodes total):\n",
      "Info    :  - 0 Delaunay cavities modified for star shapeness\n",
      "Info    :  - 0 nodes could not be inserted\n",
      "Info    :  - 1458 tetrahedra created in 0.032457 sec. (44920 tets/s)\n",
      "Info    : 0 node relocations\n",
      "Info    : Done meshing 3D (Wall 0.0939631s, CPU 0.054227s)\n",
      "Info    : Optimizing mesh...\n",
      "Info    : Optimizing volume 1\n",
      "Info    : Optimization starts (volume = 30459.3) with worst = 0.0346847 / average = 0.762791:\n",
      "Info    : 0.00 < quality < 0.10 :         9 elements\n",
      "Info    : 0.10 < quality < 0.20 :        11 elements\n",
      "Info    : 0.20 < quality < 0.30 :        18 elements\n",
      "Info    : 0.30 < quality < 0.40 :        32 elements\n",
      "Info    : 0.40 < quality < 0.50 :        35 elements\n",
      "Info    : 0.50 < quality < 0.60 :        50 elements\n",
      "Info    : 0.60 < quality < 0.70 :       177 elements\n",
      "Info    : 0.70 < quality < 0.80 :       461 elements\n",
      "Info    : 0.80 < quality < 0.90 :       442 elements\n",
      "Info    : 0.90 < quality < 1.00 :       223 elements\n",
      "Info    : 38 edge swaps, 2 node relocations (volume = 30459.3): worst = 0.240473 / average = 0.78082 (Wall 0.00164588s, CPU 0.00158s)\n",
      "Info    : 39 edge swaps, 2 node relocations (volume = 30459.3): worst = 0.300163 / average = 0.78136 (Wall 0.00209841s, CPU 0.002032s)\n",
      "Info    : No ill-shaped tets in the mesh :-)\n",
      "Info    : 0.00 < quality < 0.10 :         0 elements\n",
      "Info    : 0.10 < quality < 0.20 :         0 elements\n",
      "Info    : 0.20 < quality < 0.30 :         0 elements\n",
      "Info    : 0.30 < quality < 0.40 :        30 elements\n",
      "Info    : 0.40 < quality < 0.50 :        34 elements\n",
      "Info    : 0.50 < quality < 0.60 :        49 elements\n",
      "Info    : 0.60 < quality < 0.70 :       164 elements\n",
      "Info    : 0.70 < quality < 0.80 :       463 elements\n",
      "Info    : 0.80 < quality < 0.90 :       452 elements\n",
      "Info    : 0.90 < quality < 1.00 :       228 elements\n",
      "Info    : Done optimizing mesh (Wall 0.00915223s, CPU 0.006315s)\n",
      "Info    : Meshing order 3 (curvilinear on)...\n",
      "Info    : [  0%] Meshing curve 1 order 3\n",
      "Info    : [ 20%] Meshing curve 2 order 3\n",
      "Info    : [ 30%] Meshing curve 3 order 3\n",
      "Info    : [ 50%] Meshing surface 1 order 3\n",
      "Info    : [ 60%] Meshing surface 2 order 3\n",
      "Info    : [ 80%] Meshing surface 3 order 3\n",
      "Info    : [ 90%] Meshing volume 1 order 3\n",
      "Info    : Surface mesh: worst distortion = 0.82685 (0 elements in ]0, 0.2]); worst gamma = 0.717041\n",
      "Info    : Volume mesh: worst distortion = 0.751693 (0 elements in ]0, 0.2])\n",
      "Info    : Done meshing order 3 (Wall 0.0744357s, CPU 0.050094s)\n",
      "Info    : 8030 nodes 2166 elements\n",
      "Info    : Done reading 'cylinder.geo'\n"
     ]
    }
   ],
   "source": [
    "gmsh.open(\"cylinder.geo\")"
   ]
  },
  {
   "cell_type": "code",
   "execution_count": 556,
   "metadata": {},
   "outputs": [
    {
     "name": "stdout",
     "output_type": "stream",
     "text": [
      "Info    : RCMK renumbering...\n",
      "Info    : Done RCMK renumbering (bandwidth is now 1443)\n"
     ]
    },
    {
     "data": {
      "text/plain": [
       "LowLevelFEM.Problem(\"cylinder\", :Solid, 3, 3, LowLevelFEM.Material[LowLevelFEM.Material(\"body\", 200000.0, 0.3, 7.85e-9, 45.0, 4.2e8, 1.2e-5)], 1.0, 8030)"
      ]
     },
     "metadata": {},
     "output_type": "display_data"
    }
   ],
   "source": [
    "mat = FEM.material(\"body\")\n",
    "problem = FEM.Problem([mat])"
   ]
  },
  {
   "cell_type": "code",
   "execution_count": 557,
   "metadata": {},
   "outputs": [],
   "source": [
    "csx(x, y, z) = x\n",
    "csy(x, y, z) = y\n",
    "csyy(x, y, z) = -y\n",
    "cs = FEM.CoordinateSystem([csx, csy, 0], [csyy, csx, 0])\n",
    "T = FEM.rotateNodes(problem, \"body\", cs);"
   ]
  },
  {
   "cell_type": "code",
   "execution_count": 558,
   "metadata": {},
   "outputs": [
    {
     "data": {
      "text/plain": [
       "Transformation(sparse([1, 2, 1, 2, 3, 4, 5, 4, 5, 6  …  24085, 24086, 24085, 24086, 24087, 24088, 24089, 24088, 24089, 24090], [1, 1, 2, 2, 3, 4, 4, 5, 5, 6  …  24085, 24085, 24086, 24086, 24087, 24088, 24088, 24089, 24089, 24090], [1.0, -2.4492935982947064e-16, 2.4492935982947064e-16, 1.0, 1.0, 1.0, -2.4492935982947064e-16, 2.4492935982947064e-16, 1.0, 1.0  …  0.7712240794707432, 0.6365637589782382, -0.6365637589782382, 0.7712240794707433, 1.0, -0.3976860309299219, -0.917521564216997, 0.917521564216997, -0.3976860309299219, 0.9999999999999998], 24090, 24090), 8030, 3)"
      ]
     },
     "metadata": {},
     "output_type": "display_data"
    }
   ],
   "source": [
    "Q = Transformation(T, size(T, 1) ÷ 3, 3)"
   ]
  },
  {
   "cell_type": "code",
   "execution_count": 559,
   "metadata": {},
   "outputs": [
    {
     "data": {
      "text/plain": [
       "(\"left\", 0, 0, 0)"
      ]
     },
     "metadata": {},
     "output_type": "display_data"
    }
   ],
   "source": [
    "supp = FEM.displacementConstraint(\"left\", ux=0, uy=0, uz=0)"
   ]
  },
  {
   "cell_type": "code",
   "execution_count": 560,
   "metadata": {},
   "outputs": [
    {
     "data": {
      "text/plain": [
       "(\"right\", 0, 10, 0)"
      ]
     },
     "metadata": {},
     "output_type": "display_data"
    }
   ],
   "source": [
    "fy(x, y, z) = x\n",
    "load = FEM.load(\"right\", fy=10, fz=0)"
   ]
  },
  {
   "cell_type": "code",
   "execution_count": 561,
   "metadata": {},
   "outputs": [
    {
     "data": {
      "text/plain": [
       "24090-element Vector{Float64}:\n",
       " -0.00019184200754141772\n",
       "  0.016861841750326966\n",
       "  2.8180788583151335e-5\n",
       "  0.0\n",
       "  0.0\n",
       "  0.0\n",
       " -0.008208273428356299\n",
       "  0.01488471717627566\n",
       "  5.226218364646502e-5\n",
       " -0.014392487757367508\n",
       "  ⋮\n",
       " -0.012229909308815446\n",
       " -0.004352188310824554\n",
       "  3.683837686760975e-5\n",
       " -0.00023532678390269168\n",
       "  0.00028311900262628723\n",
       "  2.0447725036132245e-6\n",
       "  0.0033378887958016206\n",
       " -0.0015289026347458444\n",
       " -2.2364126589822576e-5"
      ]
     },
     "metadata": {},
     "output_type": "display_data"
    }
   ],
   "source": [
    "K = FEM.stiffnessMatrix(problem)\n",
    "K = Q.T' * K * Q.T\n",
    "f = FEM.loadVector(problem, [load])\n",
    "FEM.applyBoundaryConditions!(problem, K, f, [supp])\n",
    "q = FEM.solveDisplacement(K, f)\n",
    "q = Q.T * q"
   ]
  },
  {
   "cell_type": "code",
   "execution_count": 562,
   "metadata": {},
   "outputs": [],
   "source": [
    "S = FEM.solveStress(problem, q)\n",
    "S = FEM.elementsToNodes(problem, S);"
   ]
  },
  {
   "cell_type": "code",
   "execution_count": 563,
   "metadata": {},
   "outputs": [],
   "source": [
    "S2 = Q' * S * Q;"
   ]
  },
  {
   "cell_type": "code",
   "execution_count": 564,
   "metadata": {},
   "outputs": [
    {
     "data": {
      "text/plain": [
       "9"
      ]
     },
     "metadata": {},
     "output_type": "display_data"
    }
   ],
   "source": [
    "u = FEM.showDoFResults(problem, q, :uvec)\n",
    "ux = FEM.showDoFResults(problem, q, :ux)\n",
    "uy = FEM.showDoFResults(problem, q, :uy)\n",
    "uz = FEM.showDoFResults(problem, q, :uz)\n",
    "sx = FEM.showDoFResults(problem, S, :sx)\n",
    "sy = FEM.showDoFResults(problem, S, :sy)\n",
    "sz = FEM.showDoFResults(problem, S, :sz)\n",
    "sxy = FEM.showDoFResults(problem, S, :sxy)\n",
    "syz = FEM.showDoFResults(problem, S, :syz, visible=false)\n",
    "szx = FEM.showDoFResults(problem, S, :szx)"
   ]
  },
  {
   "cell_type": "code",
   "execution_count": 565,
   "metadata": {},
   "outputs": [
    {
     "data": {
      "text/plain": [
       "15"
      ]
     },
     "metadata": {},
     "output_type": "display_data"
    }
   ],
   "source": [
    "s2x = FEM.showDoFResults(problem, S2, :sx)\n",
    "s2y = FEM.showDoFResults(problem, S2, :sy)\n",
    "s2z = FEM.showDoFResults(problem, S2, :sz)\n",
    "s2xy = FEM.showDoFResults(problem, S2, :sxy)\n",
    "s2yz = FEM.showDoFResults(problem, S2, :syz, visible=true)\n",
    "s2zx = FEM.showDoFResults(problem, S2, :szx)"
   ]
  },
  {
   "cell_type": "code",
   "execution_count": 566,
   "metadata": {},
   "outputs": [
    {
     "data": {
      "text/plain": [
       "17"
      ]
     },
     "metadata": {},
     "output_type": "display_data"
    }
   ],
   "source": [
    "p1 = FEM.plotOnPath(problem, \"path1\", s2yz)\n",
    "p2 = FEM.plotOnPath(problem, \"path2\", s2yz)"
   ]
  },
  {
   "cell_type": "code",
   "execution_count": 567,
   "metadata": {},
   "outputs": [
    {
     "name": "stdout",
     "output_type": "stream",
     "text": [
      "-------------------------------------------------------\n",
      "Version       : 4.13.1\n",
      "License       : GNU General Public License\n",
      "Build OS      : Linux64-sdk\n",
      "Build date    : 19700101\n",
      "Build host    : amdci7.julia.csail.mit.edu\n",
      "Build options : 64Bit ALGLIB[contrib] ANN[contrib] Bamg Blossom Cairo DIntegration Dlopen DomHex Eigen[contrib] Fltk GMP Gmm[contrib] Hxt Jpeg Kbipack LinuxJoystick MathEx[contrib] Mesh Metis[contrib] Mmg Mpeg Netgen Nii2mesh ONELAB ONELABMetamodel OpenCASCADE OpenCASCADE-CAF OpenGL OpenMP OptHom Parser Plugins Png Post QuadMeshingTools QuadTri Solver TetGen/BR TinyXML2[contrib] Untangle Voro++[contrib] WinslowUntangler Zlib\n",
      "FLTK version  : 1.3.8\n",
      "OCC version   : 7.7.2\n",
      "Packaged by   : root\n",
      "Web site      : https://gmsh.info\n",
      "Issue tracker : https://gitlab.onelab.info/gmsh/gmsh/issues\n",
      "-------------------------------------------------------\n"
     ]
    },
    {
     "name": "stderr",
     "output_type": "stream",
     "text": [
      "XRequest.18: BadValue 0x0\n"
     ]
    }
   ],
   "source": [
    "FEM.openPostProcessor()"
   ]
  },
  {
   "cell_type": "code",
   "execution_count": 568,
   "metadata": {},
   "outputs": [],
   "source": [
    "gmsh.finalize()"
   ]
  }
 ],
 "metadata": {
  "kernelspec": {
   "display_name": "Julia 1.11.4",
   "language": "julia",
   "name": "julia-1.11"
  },
  "language_info": {
   "file_extension": ".jl",
   "mimetype": "application/julia",
   "name": "julia",
   "version": "1.11.4"
  }
 },
 "nbformat": 4,
 "nbformat_minor": 2
}
