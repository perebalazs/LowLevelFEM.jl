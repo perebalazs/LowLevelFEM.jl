{
 "cells": [
  {
   "cell_type": "code",
   "execution_count": 1,
   "metadata": {},
   "outputs": [
    {
     "name": "stdout",
     "output_type": "stream",
     "text": [
      "Info    : Increasing process stack size (8192 kB < 16 MB)\n"
     ]
    }
   ],
   "source": [
    "using LowLevelFEM\n",
    "import LowLevelFEM as FEM\n",
    "\n",
    "gmsh.initialize()"
   ]
  },
  {
   "cell_type": "code",
   "execution_count": 2,
   "metadata": {},
   "outputs": [
    {
     "name": "stdout",
     "output_type": "stream",
     "text": [
      "Info    : Reading 'rod.geo'...\n",
      "Info    : Meshing 1D...\n",
      "Info    : [  0%] Meshing curve 1 (Line)\n",
      "Info    : [ 30%] Meshing curve 2 (Line)\n",
      "Info    : [ 60%] Meshing curve 3 (Line)\n",
      "Info    : [ 80%] Meshing curve 4 (Line)\n",
      "Info    : Done meshing 1D (Wall 0.000365447s, CPU 0.00035s)\n",
      "Info    : Meshing 2D...\n",
      "Info    : Meshing surface 1 (Plane, Frontal-Delaunay)\n",
      "Info    : Done meshing 2D (Wall 0.0159107s, CPU 0.015909s)\n",
      "Info    : 270 nodes 542 elements\n",
      "Info    : Done reading 'rod.geo'\n"
     ]
    }
   ],
   "source": [
    "gmsh.open(\"rod.geo\")"
   ]
  },
  {
   "cell_type": "code",
   "execution_count": 3,
   "metadata": {},
   "outputs": [
    {
     "name": "stdout",
     "output_type": "stream",
     "text": [
      "Info    : RCMK renumbering...\n",
      "Info    : Done RCMK renumbering (bandwidth is now 20)\n"
     ]
    },
    {
     "data": {
      "text/plain": [
       "LowLevelFEM.Problem(\"rod\", :PlaneStress, 2, 2, LowLevelFEM.Material[LowLevelFEM.Material(\"body\", 200000.0, 0.3, 7.85e-9, 45.0, 4.2e8, 1.2e-5)], 1.0, 270)"
      ]
     },
     "metadata": {},
     "output_type": "display_data"
    }
   ],
   "source": [
    "mat = FEM.material(\"body\")\n",
    "problem = FEM.Problem([mat], type=:PlaneStress)"
   ]
  },
  {
   "cell_type": "code",
   "execution_count": 4,
   "metadata": {},
   "outputs": [
    {
     "data": {
      "text/plain": [
       "(\"body\", :no, Main.fn, Main.fn, :no, :no, :no, :no)"
      ]
     },
     "metadata": {},
     "output_type": "display_data"
    }
   ],
   "source": [
    "fn(x, y, z) = x + y\n",
    "f = FEM.field(\"body\", f=fn)\n",
    "f2 = FEM.field(\"left\", f=2)\n",
    "v = FEM.field(\"body\", fx=fn, fy=fn)"
   ]
  },
  {
   "cell_type": "code",
   "execution_count": 5,
   "metadata": {},
   "outputs": [
    {
     "data": {
      "text/plain": [
       "270-element Vector{Float64}:\n",
       "   2.0\n",
       " 100.0\n",
       " 150.0\n",
       "   2.0\n",
       "   5.0\n",
       "  10.0\n",
       "  15.0\n",
       "  20.0\n",
       "  25.0\n",
       "  30.0\n",
       "   ⋮\n",
       " 142.67949192431126\n",
       "   7.320508075688757\n",
       " 100.0\n",
       "  50.0\n",
       "  58.58593221417077\n",
       "  72.2733899275353\n",
       " 108.26144385845971\n",
       "  83.39808698164121\n",
       "  21.840376841193272"
      ]
     },
     "metadata": {},
     "output_type": "display_data"
    }
   ],
   "source": [
    "ff = FEM.scalarField(problem, [f, f2])"
   ]
  },
  {
   "cell_type": "code",
   "execution_count": 6,
   "metadata": {},
   "outputs": [
    {
     "data": {
      "text/plain": [
       "1"
      ]
     },
     "metadata": {},
     "output_type": "display_data"
    }
   ],
   "source": [
    "FEM.showDoFResults(problem, ff, :scalar, visible=false)"
   ]
  },
  {
   "cell_type": "code",
   "execution_count": 7,
   "metadata": {},
   "outputs": [
    {
     "data": {
      "text/plain": [
       "540-element Vector{Float64}:\n",
       "   0.0\n",
       "   0.0\n",
       " 100.0\n",
       " 100.0\n",
       " 150.0\n",
       " 150.0\n",
       "  50.0\n",
       "  50.0\n",
       "   5.0\n",
       "   5.0\n",
       "   ⋮\n",
       "  58.58593221417077\n",
       "  72.2733899275353\n",
       "  72.2733899275353\n",
       " 108.26144385845971\n",
       " 108.26144385845971\n",
       "  83.39808698164121\n",
       "  83.39808698164121\n",
       "  21.840376841193272\n",
       "  21.840376841193272"
      ]
     },
     "metadata": {},
     "output_type": "display_data"
    }
   ],
   "source": [
    "vv = FEM.vectorField(problem, [v])"
   ]
  },
  {
   "cell_type": "code",
   "execution_count": 8,
   "metadata": {},
   "outputs": [
    {
     "data": {
      "text/plain": [
       "2"
      ]
     },
     "metadata": {},
     "output_type": "display_data"
    }
   ],
   "source": [
    "FEM.showDoFResults(problem, vv, :vvec, visible=true)"
   ]
  },
  {
   "cell_type": "code",
   "execution_count": 9,
   "metadata": {},
   "outputs": [
    {
     "name": "stdout",
     "output_type": "stream",
     "text": [
      "-------------------------------------------------------\n",
      "Version       : 4.13.1\n",
      "License       : GNU General Public License\n",
      "Build OS      : Linux64-sdk\n",
      "Build date    : 19700101\n",
      "Build host    : amdci7.julia.csail.mit.edu\n",
      "Build options : 64Bit ALGLIB[contrib] ANN[contrib] Bamg Blossom Cairo DIntegration Dlopen DomHex Eigen[contrib] Fltk GMP Gmm[contrib] Hxt Jpeg Kbipack LinuxJoystick MathEx[contrib] Mesh Metis[contrib] Mmg Mpeg Netgen Nii2mesh ONELAB ONELABMetamodel OpenCASCADE OpenCASCADE-CAF OpenGL OpenMP OptHom Parser Plugins Png Post QuadMeshingTools QuadTri Solver TetGen/BR TinyXML2[contrib] Untangle Voro++[contrib] WinslowUntangler Zlib\n",
      "FLTK version  : 1.3.8\n",
      "OCC version   : 7.7.2\n",
      "Packaged by   : root\n",
      "Web site      : https://gmsh.info\n",
      "Issue tracker : https://gitlab.onelab.info/gmsh/gmsh/issues\n",
      "-------------------------------------------------------\n"
     ]
    },
    {
     "name": "stderr",
     "output_type": "stream",
     "text": [
      "XOpenIM() failed\n",
      "XRequest.18: BadValue 0x0\n"
     ]
    }
   ],
   "source": [
    "gmsh.fltk.run()"
   ]
  },
  {
   "cell_type": "code",
   "execution_count": 10,
   "metadata": {},
   "outputs": [],
   "source": [
    "gmsh.finalize()"
   ]
  }
 ],
 "metadata": {
  "kernelspec": {
   "display_name": "Julia 1.11.4",
   "language": "julia",
   "name": "julia-1.11"
  },
  "language_info": {
   "file_extension": ".jl",
   "mimetype": "application/julia",
   "name": "julia",
   "version": "1.11.4"
  }
 },
 "nbformat": 4,
 "nbformat_minor": 2
}
