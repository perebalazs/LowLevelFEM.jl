{
 "cells": [
  {
   "cell_type": "code",
   "execution_count": 1,
   "metadata": {},
   "outputs": [],
   "source": [
    "import LowLevelFEM as FEM\n",
    "using LowLevelFEM\n",
    "\n",
    "gmsh.initialize()"
   ]
  },
  {
   "cell_type": "code",
   "execution_count": 2,
   "metadata": {},
   "outputs": [
    {
     "name": "stdout",
     "output_type": "stream",
     "text": [
      "Info    : Reading 'bending3D.geo'...\n",
      "Info    : Meshing 1D...\n",
      "Info    : [  0%] Meshing curve 1 (Line)\n",
      "Info    : [ 10%] Meshing curve 2 (Line)\n",
      "Info    : [ 20%] Meshing curve 3 (Line)\n",
      "Info    : [ 30%] Meshing curve 4 (Line)\n",
      "Info    : [ 40%] Meshing curve 5 (Line)\n",
      "Info    : [ 50%] Meshing curve 6 (Line)\n",
      "Info    : [ 50%] Meshing curve 7 (Line)\n",
      "Info    : [ 60%] Meshing curve 8 (Line)\n",
      "Info    : [ 70%] Meshing curve 9 (Line)\n",
      "Info    : [ 80%] Meshing curve 10 (Line)\n",
      "Info    : [ 90%] Meshing curve 11 (Line)\n",
      "Info    : [100%] Meshing curve 12 (Line)\n",
      "Info    : Done meshing 1D (Wall 0.000619095s, CPU 0.00062s)\n",
      "Info    : Meshing 2D...\n",
      "Info    : [  0%] Meshing surface 1 (Transfinite)\n",
      "Info    : [ 20%] Meshing surface 2 (Transfinite)\n",
      "Info    : [ 40%] Meshing surface 3 (Transfinite)\n",
      "Info    : [ 50%] Meshing surface 4 (Transfinite)\n",
      "Info    : [ 70%] Meshing surface 5 (Transfinite)\n",
      "Info    : [ 90%] Meshing surface 6 (Transfinite)\n",
      "Info    : Done meshing 2D (Wall 0.000264216s, CPU 0.000264s)\n",
      "Info    : Meshing 3D...\n",
      "Info    : Meshing volume 1 (Transfinite)\n",
      "Info    : Done meshing 3D (Wall 0.000928297s, CPU 0.000928s)\n",
      "Info    : Optimizing mesh...\n",
      "Info    : Done optimizing mesh (Wall 8.136e-06s, CPU 8e-06s)\n",
      "Info    : Meshing order 3 (curvilinear on)...\n",
      "Info    : [  0%] Meshing curve 1 order 3\n",
      "Info    : [ 10%] Meshing curve 2 order 3\n",
      "Info    : [ 20%] Meshing curve 3 order 3\n",
      "Info    : [ 20%] Meshing curve 4 order 3\n",
      "Info    : [ 30%] Meshing curve 5 order 3\n",
      "Info    : [ 30%] Meshing curve 6 order 3\n",
      "Info    : [ 40%] Meshing curve 7 order 3\n",
      "Info    : [ 40%] Meshing curve 8 order 3\n",
      "Info    : [ 50%] Meshing curve 9 order 3\n",
      "Info    : [ 50%] Meshing curve 10 order 3\n",
      "Info    : [ 60%] Meshing curve 11 order 3\n",
      "Info    : [ 60%] Meshing curve 12 order 3\n",
      "Info    : [ 70%] Meshing surface 1 order 3\n",
      "Info    : [ 70%] Meshing surface 2 order 3\n",
      "Info    : [ 80%] Meshing surface 3 order 3\n",
      "Info    : [ 80%] Meshing surface 4 order 3\n",
      "Info    : [ 90%] Meshing surface 5 order 3\n",
      "Info    : [ 90%] Meshing surface 6 order 3\n",
      "Info    : [100%] Meshing volume 1 order 3\n",
      "Info    : Done meshing order 3 (Wall 0.0099915s, CPU 0.008996s)\n",
      "Info    : 9100 nodes 800 elements\n",
      "Info    : Done reading 'bending3D.geo'\n"
     ]
    }
   ],
   "source": [
    "gmsh.open(\"bending3D.geo\")"
   ]
  },
  {
   "cell_type": "code",
   "execution_count": 3,
   "metadata": {},
   "outputs": [
    {
     "name": "stdout",
     "output_type": "stream",
     "text": [
      "Info    : RCMK renumbering...\n",
      "Info    : Done RCMK renumbering (bandwidth is now 657)\n"
     ]
    },
    {
     "data": {
      "text/plain": [
       "LowLevelFEM.Problem(\"bending3D\", \"Solid\", 3, [(\"body\", 200000.0, 0.3, 7.85e-9)], 1.0, 9100)"
      ]
     },
     "metadata": {},
     "output_type": "display_data"
    }
   ],
   "source": [
    "mat = FEM.material(\"body\", E=2.e5, ν=0.3)\n",
    "problem = FEM.Problem([mat])"
   ]
  },
  {
   "cell_type": "code",
   "execution_count": 4,
   "metadata": {},
   "outputs": [],
   "source": [
    "#gmsh.fltk.run()"
   ]
  },
  {
   "cell_type": "code",
   "execution_count": 5,
   "metadata": {},
   "outputs": [],
   "source": [
    "# Néhány láthatósági beállítás 0:kikapcs. 1:bekapcs.\n",
    "gmsh.option.setNumber(\"Geometry.CurveLabels\", 0)\n",
    "gmsh.option.setNumber(\"Geometry.Points\", 0)\n",
    "gmsh.option.setNumber(\"Geometry.Curves\", 0)\n",
    "gmsh.option.setNumber(\"Mesh.Points\", 0)\n",
    "gmsh.option.setNumber(\"Mesh.Lines\", 0)\n",
    "gmsh.option.setNumber(\"Mesh.SurfaceEdges\", 0)\n",
    "gmsh.option.setNumber(\"Mesh.NodeLabels\", 0)\n",
    "gmsh.option.setNumber(\"Mesh.LineLabels\", 0)\n",
    "gmsh.option.setNumber(\"Mesh.SurfaceLabels\", 0)"
   ]
  },
  {
   "cell_type": "code",
   "execution_count": 6,
   "metadata": {},
   "outputs": [
    {
     "data": {
      "text/plain": [
       "27300×27300 SparseArrays.SparseMatrixCSC{Float64, Int64} with 8588773 stored entries:\n",
       "⎡⣿⣿⣿⠷⠶⢾⣧⣤⣼⡗⣧⣿⡷⣅⣛⣟⠒⠒⠺⣤⣤⣤⣧⣤⣿⠶⠤⢬⣀⣀⣀⣃⣀⣻⠶⢬⣀⣀⣃⣘⎤\n",
       "⎢⢿⡟⢿⣷⡒⠚⠃⠈⢹⣗⠃⢹⣗⠋⠛⡿⣖⠒⠚⠀⠀⠀⠃⠀⠻⣖⠒⠚⠁⠈⠉⠃⠈⢻⣖⠚⠀⠉⠃⠙⎥\n",
       "⎢⣸⣇⣸⠈⠻⣦⣀⣀⣸⡹⣄⣈⡿⣄⣀⣇⠈⠻⣦⣀⣀⣀⣀⣀⣀⠈⠻⣦⣀⣀⣀⣀⣀⣀⠙⢦⣀⣀⣀⣀⎥\n",
       "⎢⠉⣿⡉⠀⠀⢸⠻⣦⡘⡇⢳⢯⡇⢳⢿⡏⠀⠀⠈⠛⢦⡈⠹⣦⠉⠀⠀⠈⠻⣦⡈⠹⣦⠉⠀⠈⢳⣌⢻⡌⎥\n",
       "⎢⢶⠿⢷⢶⣖⡺⠶⠬⢿⣷⣾⡿⠃⠈⠛⡿⢶⣶⣶⠶⣶⣿⠶⠬⠷⠀⠀⠀⠀⠀⠙⠂⠈⠓⠀⠀⠀⠙⠂⠙⎥\n",
       "⎢⣭⣿⣍⣀⡀⢹⡽⣖⣾⡿⢿⣷⣀⣀⠀⡏⠙⠒⠯⠽⣗⣺⡭⣗⣦⣀⡀⢀⣀⣀⠀⠀⠀⢀⣀⢀⣀⡀⠀⠀⎥\n",
       "⎢⠝⢯⡽⠙⠛⢯⢭⣉⡉⠀⠀⢸⣿⣿⣏⣿⠀⠀⠀⠀⠀⠀⠀⠀⠨⣿⣛⡯⢽⣛⣿⢭⣉⠩⣟⡿⣽⣻⢭⡉⎥\n",
       "⎢⣿⢼⣿⡤⠤⢼⡿⠷⣿⡤⡤⠤⣯⣽⣿⣿⡤⠤⣤⣤⠤⣤⡤⢤⣤⡤⢤⣭⡽⠷⣿⡿⢿⣿⠤⣭⠽⢾⡿⣿⎥\n",
       "⎢⢸⠀⢸⠙⣦⡀⠀⠀⢸⣷⢳⠀⠀⠀⠀⡏⠻⣦⡀⠙⢧⡄⠀⠀⠈⠻⣦⡀⠙⢦⡀⠀⠀⠀⠀⠀⠀⠀⠀⠀⎥\n",
       "⎢⠚⣦⠚⠀⠈⢻⣦⠀⢸⡟⣏⡇⠀⠀⠀⣿⣄⠈⠻⣦⡀⠙⢧⡀⠰⣄⠈⠻⣦⡀⠙⢦⡀⠀⠀⠀⠀⠀⠀⠀⎥\n",
       "⎢⠀⣿⠀⠀⠀⢸⡈⠳⣼⣿⣹⣹⠀⠀⠀⣧⠉⠷⣄⠈⠻⣦⡈⢳⡄⠈⠳⣄⠈⠻⣦⡈⠳⡄⠀⠀⠀⠀⠀⠀⎥\n",
       "⎢⠉⣿⠉⠀⠀⢸⠳⣦⡘⡇⢧⢯⠀⠀⠀⣏⠀⠀⠉⠳⢦⣈⠻⣦⡉⠀⠀⠈⠳⢦⣈⠻⣦⡉⠀⠀⠀⠀⠀⠀⎥\n",
       "⎢⢻⡟⢻⢦⡀⠘⠃⠀⠙⠃⠈⢻⣦⣦⠀⡿⣦⡀⠐⢦⡀⠉⠃⠈⠻⣦⡀⠐⢦⡄⠉⠃⠈⠻⣄⠐⢦⠀⠀⠀⎥\n",
       "⎢⡀⣇⣸⠀⠻⣦⡀⠀⠀⠀⠀⢈⡿⡼⡄⣷⠈⠻⣦⡀⠙⢦⡀⠀⢀⠈⠻⣦⡀⠙⢧⡀⠀⢀⠘⢧⡈⢳⡀⠀⎥\n",
       "⎢⠀⢸⡁⠀⠀⢸⠻⣦⠀⠀⠀⢸⣷⢳⢷⡏⠳⣄⠈⠻⣦⡀⠹⣆⠈⠷⣄⠈⠻⣦⡀⠹⣦⠘⢧⡈⢳⡄⢻⡀⎥\n",
       "⎢⠤⢸⠧⠀⠀⢸⣆⡈⠳⠀⠀⠀⡟⣟⣿⡿⠀⠈⠳⣄⡈⠻⣦⡘⠧⠀⠉⠳⣄⡈⠻⣦⡘⠷⠈⠳⣄⠹⣆⠳⎥\n",
       "⎢⣤⣸⣦⣀⠀⢸⡌⠛⢦⠀⠀⢀⡇⡘⣿⣷⠀⠀⠀⠈⠙⠦⡌⠻⣦⡀⠀⢀⣈⠛⢶⡌⠻⣦⡀⢀⡈⠳⡜⢧⎥\n",
       "⎢⡘⣇⣸⠙⠳⣄⡀⠀⠀⠀⠀⢘⣿⡽⡄⣧⠀⠀⠀⠀⠀⠀⠀⠀⢀⠙⠶⣄⡉⠳⢦⡀⠀⢈⠻⣦⡙⢦⡀⠀⎥\n",
       "⎢⠀⢸⡄⠀⠀⢸⡙⢶⣄⠀⠀⠸⣷⣻⣳⣇⠀⠀⠀⠀⠀⠀⠀⠀⠈⠓⢦⣈⠙⠶⣄⡙⢦⡈⠳⣌⠻⣦⡹⣆⎥\n",
       "⎣⣉⢸⣍⠀⠀⢸⡛⠶⣌⠀⠀⠀⡇⠳⣿⣯⠀⠀⠀⠀⠀⠀⠀⠀⠀⠀⠀⠈⠛⠲⢬⡙⠶⣍⠀⠈⠳⢮⡻⣮⎦"
      ]
     },
     "metadata": {},
     "output_type": "display_data"
    }
   ],
   "source": [
    "K = FEM.stiffnessMatrix(problem)"
   ]
  },
  {
   "cell_type": "code",
   "execution_count": 7,
   "metadata": {},
   "outputs": [
    {
     "data": {
      "text/plain": [
       "(\"load\", 0, -1, 0)"
      ]
     },
     "metadata": {},
     "output_type": "display_data"
    }
   ],
   "source": [
    "supp = FEM.displacementConstraint(\"supp\", ux=0, uy=0, uz=0)\n",
    "load = FEM.load(\"load\", fy=-1)"
   ]
  },
  {
   "cell_type": "code",
   "execution_count": 8,
   "metadata": {},
   "outputs": [
    {
     "data": {
      "text/plain": [
       "(\"load\", fl2, 0, 0)"
      ]
     },
     "metadata": {},
     "output_type": "display_data"
    }
   ],
   "source": [
    "fl2(x, y, z) = (y - 5) / 5\n",
    "load2 = FEM.load(\"load\", fx=fl2)"
   ]
  },
  {
   "cell_type": "code",
   "execution_count": 9,
   "metadata": {},
   "outputs": [
    {
     "data": {
      "text/plain": [
       "27300-element Vector{Float64}:\n",
       " 0.0\n",
       " 0.0\n",
       " 0.0\n",
       " 0.0\n",
       " 0.0\n",
       " 0.0\n",
       " 0.0\n",
       " 0.0\n",
       " 0.0\n",
       " 0.0\n",
       " ⋮\n",
       " 0.0\n",
       " 0.0\n",
       " 0.0\n",
       " 0.0\n",
       " 0.0\n",
       " 0.0\n",
       " 0.0\n",
       " 0.0\n",
       " 0.0"
      ]
     },
     "metadata": {},
     "output_type": "display_data"
    }
   ],
   "source": [
    "f = FEM.loadVector(problem, [load2])"
   ]
  },
  {
   "cell_type": "code",
   "execution_count": 10,
   "metadata": {},
   "outputs": [],
   "source": [
    "FEM.applyBoundaryConditions!(problem, K, f, [supp])"
   ]
  },
  {
   "cell_type": "code",
   "execution_count": 11,
   "metadata": {},
   "outputs": [
    {
     "data": {
      "text/plain": [
       "27300-element Vector{Float64}:\n",
       "  0.0\n",
       "  0.0\n",
       "  0.0\n",
       "  0.0\n",
       "  0.0\n",
       "  0.0\n",
       "  0.0\n",
       "  0.0\n",
       "  0.0\n",
       "  0.0\n",
       "  ⋮\n",
       "  0.00027402412526363653\n",
       " -0.004865124041689335\n",
       " -3.240740756730221e-6\n",
       "  0.00027402412526337876\n",
       " -0.004866235152800618\n",
       " -2.3148148308014444e-6\n",
       "  0.0003836337753684071\n",
       " -0.0048673462639117196\n",
       " -3.240740756906226e-6"
      ]
     },
     "metadata": {},
     "output_type": "display_data"
    }
   ],
   "source": [
    "q = FEM.solveDisplacement(K, f)"
   ]
  },
  {
   "cell_type": "code",
   "execution_count": 12,
   "metadata": {},
   "outputs": [
    {
     "data": {
      "text/plain": [
       "LowLevelFEM.StressField([[-0.27498443936508693; 0.0482093721516828; … ; 0.008662655350988334; -0.023455715178651124;;], [-0.34902537303694103; -0.015666804269624995; … ; 0.003940857659658331; -0.001397809880722814;;], [-0.337623981411424; -0.00417860141883289; … ; 0.0010917628630210772; 1.1468997135985481e-5;;], [-0.3339878309269413; -0.000778818090419401; … ; 0.00022264878128826175; 4.2103905222232174e-5;;], [-0.33344786754249506; -0.00012237834793454256; … ; 3.440924223349186e-5; 1.294455621804469e-5;;], [-0.3333481853202257; -1.4535433535539654e-5; … ; 3.532696361562861e-6; 2.4650190889180523e-6;;], [-0.3333343124249692; -6.542893785804793e-7; … ; 1.1662173250784378e-8; 3.018259048109817e-7;;], [-0.33333314690842125; 2.3034852470931986e-7; … ; -9.745477756190271e-8; 5.154217039282649e-9;;], [-0.3333332484536273; 8.032526508196168e-8; … ; -2.6456390649634206e-8; -9.098964179332647e-9;;], [-0.33333331513956005; 1.4263811064116676e-8; … ; -4.0535266978585766e-9; -2.9865690198693784e-9;;]  …  [0.9999999998711173; 3.01598059218044e-12; … ; -5.992758101824175e-14; 2.410571742217371e-13;;], [0.999999999893834; 3.715476521476768e-12; … ; 1.8631467020566706e-13; 3.6637359812630166e-14;;], [0.9999999999136848; 2.1307277200866756e-12; … ; -2.3733211618259914e-14; 3.477773624638303e-14;;], [0.999999999935244; 4.9671076239971906e-12; … ; 2.1055284377325165e-13; -4.4325654258159375e-14;;], [0.999999999952357; 4.184840123392166e-12; … ; 4.76618923781939e-14; 4.926614671774132e-14;;], [0.9999999999658862; 4.120733908213505e-12; … ; 1.9893871893878403e-13; 3.808064974464287e-14;;], [0.9999999999758322; 4.241027908929982e-12; … ; -2.1187226047955163e-13; 3.2959746043559335e-13;;], [0.999999999980402; 7.414687874271878e-12; … ; 8.291149426008439e-14; 1.0422218643668657e-13;;], [0.9999999999973798; 2.2992910766984334e-12; … ; -6.059543391896149e-15; 2.2698509738461325e-13;;], [0.9999999999991724; 5.775031340138226e-12; … ; 4.1649587362202316e-13; 7.900069487476458e-13;;]], [19, 20, 21, 22, 23, 24, 25, 26, 27, 28  …  279, 280, 281, 282, 283, 284, 285, 286, 287, 288], 1)"
      ]
     },
     "metadata": {},
     "output_type": "display_data"
    }
   ],
   "source": [
    "S = FEM.solveStress(problem, q)"
   ]
  },
  {
   "cell_type": "code",
   "execution_count": 13,
   "metadata": {},
   "outputs": [
    {
     "data": {
      "text/plain": [
       "LowLevelFEM.StressField([[-1.021370774784624e-6; 6.267218379718764e-7; … ; 1.1261451956284835e-7; 7.816048914862955e-7;;], [-1.7471765921768516e-6; -2.0366845550512495e-7; … ; 5.123114957555831e-8; 8.133628733566655e-7;;], [-1.6840211924178732e-6; -5.4321818444827574e-8; … ; 1.4192917219274003e-8; 8.288247816229157e-7;;], [-1.6704568913308504e-6; -1.0124635175452213e-8; … ; 2.894434156747403e-9; 8.326263540523415e-7;;], [-1.6673523702901705e-6; -1.5909185231490532e-9; … ; 4.473201490353942e-10; 8.332602279994978e-7;;], [-1.6667762425915626e-6; -1.889606359620155e-10; … ; 4.592505270031719e-11; 8.333328284339625e-7;;], [-1.6666783100852445e-6; -8.505761921546232e-12; … ; 1.516082522601969e-13; 8.333353141093118e-7;;], [-1.6666665639472511e-6; 2.994530821221158e-12; … ; -1.2669121083047353e-12; 8.333338896217638e-7;;], [-1.6666662534098517e-6; 1.0442284460655019e-12; … ; -3.439330784452447e-13; 8.333334230983002e-7;;], [-1.6666665487510606e-6; 1.8542954383351678e-13; … ; -5.26958470721615e-14; 8.333333392359021e-7;;]  …  [4.999999999355531e-6; 3.9207747698345725e-17; … ; -7.790585532371427e-19; -1.1666666665360975e-6;;], [4.999999999474327e-6; 4.8301194779197984e-17; … ; 2.422090712673672e-18; -1.166666666562256e-6;;], [4.999999999565689e-6; 2.7699460361126783e-17; … ; -3.085317510373789e-19; -1.1666666665849383e-6;;], [4.999999999676516e-6; 6.457239911196348e-17; … ; 2.7371869690522715e-18; -1.1666666666048639e-6;;], [4.999999999758501e-6; 5.440292160409816e-17; … ; 6.196046009165207e-19; -1.1666666666242294e-6;;], [4.999999999836474e-6; 5.3569540806775564e-17; … ; 2.5862033462041925e-18; -1.166666666638408e-6;;], [4.999999999878235e-6; 5.513336281608977e-17; … ; -2.754339386234171e-18; -1.1666666666473968e-6;;], [4.9999999999169615e-6; 9.639094236553442e-17; … ; 1.0778494253810972e-18; -1.1666666666579339e-6;;], [4.9999999999723854e-6; 2.9890783997079634e-17; … ; -7.877406409464993e-20; -1.1666666666645172e-6;;], [4.999999999991052e-6; 7.507540742179694e-17; … ; 5.414446357086301e-18; -1.1666666666667938e-6;;]], [19, 20, 21, 22, 23, 24, 25, 26, 27, 28  …  279, 280, 281, 282, 283, 284, 285, 286, 287, 288], 1)"
      ]
     },
     "metadata": {},
     "output_type": "display_data"
    }
   ],
   "source": [
    "E = FEM.solveStrain(problem, q)"
   ]
  },
  {
   "cell_type": "code",
   "execution_count": 14,
   "metadata": {},
   "outputs": [],
   "source": [
    "gmsh.option.setNumber(\"View.IntervalsType\", 3)\n",
    "gmsh.option.setNumber(\"View.VectorType\", 5)"
   ]
  },
  {
   "cell_type": "code",
   "execution_count": 15,
   "metadata": {},
   "outputs": [
    {
     "data": {
      "text/plain": [
       "4"
      ]
     },
     "metadata": {},
     "output_type": "display_data"
    }
   ],
   "source": [
    "u = FEM.showDoFResults(problem, q, \"uvec\", name=\"uvec\", visible=false)\n",
    "ux = FEM.showDoFResults(problem, q, \"ux\", name=\"ux\", visible=false)\n",
    "uy = FEM.showDoFResults(problem, q, \"uy\", name=\"uy\", visible=false)\n",
    "uz = FEM.showDoFResults(problem, q, \"uz\", name=\"uz\", visible=false)"
   ]
  },
  {
   "cell_type": "code",
   "execution_count": 16,
   "metadata": {},
   "outputs": [
    {
     "name": "stdout",
     "output_type": "stream",
     "text": [
      "Info    : Running Plugin(Smooth)...\n",
      "Info    : Done running Plugin(Smooth)\n",
      "Info    : Running Plugin(Smooth)...\n",
      "Info    : Done running Plugin(Smooth)\n",
      "Info    : Running Plugin(Smooth)...\n",
      "Info    : Done running Plugin(Smooth)\n",
      "Info    : Running Plugin(Smooth)...\n",
      "Info    : Done running Plugin(Smooth)\n",
      "Info    : Running Plugin(Smooth)...\n",
      "Info    : Done running Plugin(Smooth)\n",
      "Info    : Running Plugin(Smooth)...\n",
      "Info    : Done running Plugin(Smooth)\n",
      "Info    : Running Plugin(Smooth)...\n",
      "Info    : Done running Plugin(Smooth)\n",
      "Info    : Running Plugin(Smooth)...\n",
      "Info    : Done running Plugin(Smooth)\n"
     ]
    },
    {
     "data": {
      "text/plain": [
       "12"
      ]
     },
     "metadata": {},
     "output_type": "display_data"
    }
   ],
   "source": [
    "s = FEM.showStressResults(problem, S, \"s\", name=\"σ\", visible=true, smooth=true)\n",
    "sx = FEM.showStressResults(problem, S, \"sx\", name=\"σx\", visible=false, smooth=true)\n",
    "sy = FEM.showStressResults(problem, S, \"sy\", name=\"σy\", visible=false, smooth=true)\n",
    "sz = FEM.showStressResults(problem, S, \"sz\", name=\"σz\", visible=false, smooth=true)\n",
    "sxy = FEM.showStressResults(problem, S, \"sxy\", name=\"τxy\", visible=false, smooth=true)\n",
    "syz = FEM.showStressResults(problem, S, \"syz\", name=\"τyz\", visible=false, smooth=true)\n",
    "szx = FEM.showStressResults(problem, S, \"szx\", name=\"τzx\", visible=false, smooth=true)\n",
    "seqv = FEM.showStressResults(problem, S, \"seqv\", name=\"σeqv\", visible=false, smooth=true)"
   ]
  },
  {
   "cell_type": "code",
   "execution_count": 17,
   "metadata": {},
   "outputs": [
    {
     "name": "stdout",
     "output_type": "stream",
     "text": [
      "Info    : Running Plugin(Smooth)...\n",
      "Info    : Done running Plugin(Smooth)\n",
      "Info    : Running Plugin(Smooth)...\n",
      "Info    : Done running Plugin(Smooth)\n",
      "Info    : Running Plugin(Smooth)...\n",
      "Info    : Done running Plugin(Smooth)\n",
      "Info    : Running Plugin(Smooth)...\n",
      "Info    : Done running Plugin(Smooth)\n",
      "Info    : Running Plugin(Smooth)...\n",
      "Info    : Done running Plugin(Smooth)\n",
      "Info    : Running Plugin(Smooth)...\n",
      "Info    : Done running Plugin(Smooth)\n",
      "Info    : Running Plugin(Smooth)...\n",
      "Info    : Done running Plugin(Smooth)\n"
     ]
    },
    {
     "data": {
      "text/plain": [
       "19"
      ]
     },
     "metadata": {},
     "output_type": "display_data"
    }
   ],
   "source": [
    "e = FEM.showStrainResults(problem, E, \"e\", name=\"ε\", visible=false, smooth=true)\n",
    "ex = FEM.showStrainResults(problem, E, \"ex\", name=\"εx\", visible=false, smooth=true)\n",
    "ey = FEM.showStrainResults(problem, E, \"ey\", name=\"εy\", visible=false, smooth=true)\n",
    "ez = FEM.showStrainResults(problem, E, \"ez\", name=\"εz\", visible=false, smooth=true)\n",
    "exy = FEM.showStrainResults(problem, E, \"exy\", name=\"γxy\", visible=false, smooth=true)\n",
    "eyz = FEM.showStrainResults(problem, E, \"eyz\", name=\"γyz\", visible=false, smooth=true)\n",
    "ezx = FEM.showStrainResults(problem, E, \"ezx\", name=\"γzx\", visible=false, smooth=true)"
   ]
  },
  {
   "cell_type": "code",
   "execution_count": 18,
   "metadata": {},
   "outputs": [],
   "source": [
    "FEM.plotOnPath(problem, \"path\", sx, 100, name=\"σx\", visible=false);\n",
    "FEM.plotOnPath(problem, \"path\", sxy, 100, name=\"τxy\", visible=false);\n",
    "FEM.plotOnPath(problem, \"path\", ux, 100, name=\"ux\", visible=false);"
   ]
  },
  {
   "cell_type": "code",
   "execution_count": 19,
   "metadata": {},
   "outputs": [],
   "source": [
    "#gmsh.option.setNumber(\"PostProcessing.Binary\", 1)\n",
    "#gmsh.option.setNumber(\"PostProcessing.SaveMesh\", 1)\n",
    "\n",
    "#gmsh.write(\"rect.msh\")\n",
    "#gmsh.write(\"rect.opt\")\n",
    "#gmsh.view.write(4, \"rect.pos\")"
   ]
  },
  {
   "cell_type": "code",
   "execution_count": 20,
   "metadata": {},
   "outputs": [
    {
     "name": "stdout",
     "output_type": "stream",
     "text": [
      "-------------------------------------------------------\n",
      "Version       : 4.12.2\n",
      "License       : GNU General Public License\n",
      "Build OS      : Linux64-sdk\n",
      "Build date    : 19700101\n",
      "Build host    : amdci7.julia.csail.mit.edu\n",
      "Build options : 64Bit ALGLIB[contrib] ANN[contrib] Bamg Blossom Cairo DIntegration Dlopen DomHex Eigen[contrib] Fltk GMP Gmm[contrib] Hxt Jpeg Kbipack LinuxJoystick MathEx[contrib] Mesh Metis[contrib] Mmg Mpeg Netgen ONELAB ONELABMetamodel OpenCASCADE OpenCASCADE-CAF OpenGL OpenMP OptHom Parser Plugins Png Post QuadMeshingTools QuadTri Solver TetGen/BR Voro++[contrib] WinslowUntangler Zlib\n",
      "FLTK version  : 1.3.8\n",
      "OCC version   : 7.6.2\n",
      "Packaged by   : root\n",
      "Web site      : https://gmsh.info\n",
      "Issue tracker : https://gitlab.onelab.info/gmsh/gmsh/issues\n",
      "-------------------------------------------------------\n"
     ]
    },
    {
     "name": "stderr",
     "output_type": "stream",
     "text": [
      "XOpenIM() failed\n",
      "XRequest.18: BadValue 0x0\n"
     ]
    }
   ],
   "source": [
    "gmsh.fltk.run()"
   ]
  },
  {
   "cell_type": "code",
   "execution_count": 21,
   "metadata": {
    "slideshow": {
     "slide_type": ""
    },
    "tags": []
   },
   "outputs": [],
   "source": [
    "gmsh.finalize()"
   ]
  }
 ],
 "metadata": {
  "kernelspec": {
   "display_name": "Julia 1.10.5",
   "language": "julia",
   "name": "julia-1.10"
  },
  "language_info": {
   "file_extension": ".jl",
   "mimetype": "application/julia",
   "name": "julia",
   "version": "1.10.5"
  },
  "varInspector": {
   "cols": {
    "lenName": 16,
    "lenType": 16,
    "lenVar": 40
   },
   "kernels_config": {
    "python": {
     "delete_cmd_postfix": "",
     "delete_cmd_prefix": "del ",
     "library": "var_list.py",
     "varRefreshCmd": "print(var_dic_list())"
    },
    "r": {
     "delete_cmd_postfix": ") ",
     "delete_cmd_prefix": "rm(",
     "library": "var_list.r",
     "varRefreshCmd": "cat(var_dic_list()) "
    }
   },
   "types_to_exclude": [
    "module",
    "function",
    "builtin_function_or_method",
    "instance",
    "_Feature"
   ],
   "window_display": false
  }
 },
 "nbformat": 4,
 "nbformat_minor": 4
}
