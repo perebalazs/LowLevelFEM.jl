{
 "cells": [
  {
   "cell_type": "code",
   "execution_count": 69,
   "metadata": {},
   "outputs": [
    {
     "name": "stderr",
     "output_type": "stream",
     "text": [
      "WARNING: replacing module FEM.\n"
     ]
    }
   ],
   "source": [
    "using LinearAlgebra, SparseArrays\n",
    "import gmsh\n",
    "gmsh.initialize()\n",
    "\n",
    "include(\"../src/FEM.jl\")\n",
    "using .FEM"
   ]
  },
  {
   "cell_type": "code",
   "execution_count": 70,
   "metadata": {},
   "outputs": [
    {
     "name": "stdout",
     "output_type": "stream",
     "text": [
      "Info    : Reading 'bending3D.geo'...\n",
      "Info    : Meshing 1D...\n",
      "Info    : [  0%] Meshing curve 1 (Line)\n",
      "Info    : [ 10%] Meshing curve 2 (Line)\n",
      "Info    : [ 20%] Meshing curve 3 (Line)\n",
      "Info    : [ 30%] Meshing curve 4 (Line)\n",
      "Info    : [ 40%] Meshing curve 5 (Line)\n",
      "Info    : [ 50%] Meshing curve 6 (Line)\n",
      "Info    : [ 50%] Meshing curve 7 (Line)\n",
      "Info    : [ 60%] Meshing curve 8 (Line)\n",
      "Info    : [ 70%] Meshing curve 9 (Line)\n",
      "Info    : [ 80%] Meshing curve 10 (Line)\n",
      "Info    : [ 90%] Meshing curve 11 (Line)\n",
      "Info    : [100%] Meshing curve 12 (Line)\n",
      "Info    : Done meshing 1D (Wall 0.00313725s, CPU 0.001165s)\n",
      "Info    : Meshing 2D...\n",
      "Info    : [  0%] Meshing surface 1 (Transfinite)\n",
      "Info    : [ 20%] Meshing surface 2 (Transfinite)\n",
      "Info    : [ 40%] Meshing surface 3 (Transfinite)\n",
      "Info    : [ 50%] Meshing surface 4 (Transfinite)\n",
      "Info    : [ 70%] Meshing surface 5 (Transfinite)\n",
      "Info    : [ 90%] Meshing surface 6 (Transfinite)\n",
      "Info    : Done meshing 2D (Wall 0.000585182s, CPU 0.000581s)\n",
      "Info    : Meshing 3D...\n",
      "Info    : Meshing volume 1 (Transfinite)\n",
      "Info    : Done meshing 3D (Wall 0.00219885s, CPU 0.002135s)\n",
      "Info    : Optimizing mesh...\n",
      "Info    : Done optimizing mesh (Wall 4.2583e-05s, CPU 4.4e-05s)\n",
      "Info    : Meshing order 3 (curvilinear on)...\n",
      "Info    : [  0%] Meshing curve 1 order 3\n",
      "Info    : [ 10%] Meshing curve 2 order 3\n",
      "Info    : [ 20%] Meshing curve 3 order 3\n",
      "Info    : [ 20%] Meshing curve 4 order 3\n",
      "Info    : [ 30%] Meshing curve 5 order 3\n",
      "Info    : [ 30%] Meshing curve 6 order 3\n",
      "Info    : [ 40%] Meshing curve 7 order 3\n",
      "Info    : [ 40%] Meshing curve 8 order 3\n",
      "Info    : [ 50%] Meshing curve 9 order 3\n",
      "Info    : [ 50%] Meshing curve 10 order 3\n",
      "Info    : [ 60%] Meshing curve 11 order 3\n",
      "Info    : [ 60%] Meshing curve 12 order 3\n",
      "Info    : [ 70%] Meshing surface 1 order 3\n",
      "Info    : [ 70%] Meshing surface 2 order 3\n",
      "Info    : [ 80%] Meshing surface 3 order 3\n",
      "Info    : [ 80%] Meshing surface 4 order 3\n",
      "Info    : [ 90%] Meshing surface 5 order 3\n",
      "Info    : [ 90%] Meshing surface 6 order 3\n",
      "Info    : [100%] Meshing volume 1 order 3\n",
      "Info    : Done meshing order 3 (Wall 0.0333249s, CPU 0.026571s)\n",
      "Info    : 9100 nodes 800 elements\n",
      "Info    : Done reading 'bending3D.geo'\n"
     ]
    }
   ],
   "source": [
    "gmsh.open(\"bending3D.geo\")"
   ]
  },
  {
   "cell_type": "code",
   "execution_count": 71,
   "metadata": {},
   "outputs": [
    {
     "data": {
      "text/plain": [
       "Main.FEM.Problem(\"bending3D\", \"Solid\", 3, 200000.0, 0.3, 7.85e-9, 1.0, 9100)"
      ]
     },
     "metadata": {},
     "output_type": "display_data"
    }
   ],
   "source": [
    "problem = FEM.Problem()"
   ]
  },
  {
   "cell_type": "code",
   "execution_count": 72,
   "metadata": {},
   "outputs": [],
   "source": [
    "#gmsh.fltk.run()"
   ]
  },
  {
   "cell_type": "code",
   "execution_count": 73,
   "metadata": {},
   "outputs": [],
   "source": [
    "# Néhány láthatósági beállítás 0:kikapcs. 1:bekapcs.\n",
    "gmsh.option.setNumber(\"Geometry.CurveLabels\", 0)\n",
    "gmsh.option.setNumber(\"Geometry.Points\", 0)\n",
    "gmsh.option.setNumber(\"Geometry.Curves\", 0)\n",
    "gmsh.option.setNumber(\"Mesh.Points\", 0)\n",
    "gmsh.option.setNumber(\"Mesh.Lines\", 0)\n",
    "gmsh.option.setNumber(\"Mesh.SurfaceEdges\", 0)\n",
    "gmsh.option.setNumber(\"Mesh.NodeLabels\", 0)\n",
    "gmsh.option.setNumber(\"Mesh.LineLabels\", 0)\n",
    "gmsh.option.setNumber(\"Mesh.SurfaceLabels\", 0)"
   ]
  },
  {
   "cell_type": "code",
   "execution_count": 74,
   "metadata": {},
   "outputs": [
    {
     "data": {
      "text/plain": [
       "27300×27300 SparseMatrixCSC{Float64, Int64} with 8588844 stored entries:\n",
       "⎡⣿⣿⣿⠷⠶⢾⣧⣤⣼⡗⣧⣿⡷⣅⣛⣟⠒⠒⠺⣤⣤⣤⣧⣤⣿⠶⠤⢬⣀⣀⣀⣃⣀⣻⠶⢬⣀⣀⣃⣘⎤\n",
       "⎢⢿⡟⢿⣷⡒⠚⠃⠈⢹⣗⠃⢹⣗⠋⠛⡿⣖⠒⠚⠀⠀⠀⠃⠀⠻⣖⠒⠚⠁⠈⠉⠃⠈⢻⣖⠚⠀⠉⠃⠙⎥\n",
       "⎢⣸⣇⣸⠈⠻⣦⣀⣀⣸⡹⣄⣈⡿⣄⣀⣇⠈⠻⣦⣀⣀⣀⣀⣀⣀⠈⠻⣦⣀⣀⣀⣀⣀⣀⠙⢦⣀⣀⣀⣀⎥\n",
       "⎢⠉⣿⡉⠀⠀⢸⠻⣦⡘⡇⢳⢯⡇⢳⢿⡏⠀⠀⠈⠛⢦⡈⠹⣦⠉⠀⠀⠈⠻⣦⡈⠹⣦⠉⠀⠈⢳⣌⢻⡌⎥\n",
       "⎢⢶⠿⢷⢶⣖⡺⠶⠬⢿⣷⣾⡿⠃⠈⠛⡿⢶⣶⣶⠶⣶⣿⠶⠬⠷⠀⠀⠀⠀⠀⠙⠂⠈⠓⠀⠀⠀⠙⠂⠙⎥\n",
       "⎢⣭⣿⣍⣀⡀⢹⡽⣖⣾⡿⢿⣷⣀⣀⠀⡏⠙⠒⠯⠽⣗⣺⡭⣗⣦⣀⡀⢀⣀⣀⠀⠀⠀⢀⣀⢀⣀⡀⠀⠀⎥\n",
       "⎢⠝⢯⡽⠙⠛⢯⢭⣉⡉⠀⠀⢸⣿⣿⣏⣿⠀⠀⠀⠀⠀⠀⠀⠀⠨⣿⣛⡯⢽⣛⣿⢭⣉⠩⣟⡿⣽⣻⢭⡉⎥\n",
       "⎢⣿⢼⣿⡤⠤⢼⡿⠷⣿⡤⡤⠤⣯⣽⣿⣿⡤⠤⣤⣤⠤⣤⡤⢤⣤⡤⢤⣭⡽⠷⣿⡿⢿⣿⠤⣭⠽⢾⡿⣿⎥\n",
       "⎢⢸⠀⢸⠙⣦⡀⠀⠀⢸⣷⢳⠀⠀⠀⠀⡏⠻⣦⡀⠙⢧⡄⠀⠀⠈⠻⣦⡀⠙⢦⡀⠀⠀⠀⠀⠀⠀⠀⠀⠀⎥\n",
       "⎢⠚⣦⠚⠀⠈⢻⣦⠀⢸⡟⣏⡇⠀⠀⠀⣿⣄⠈⠻⣦⡀⠙⢧⡀⠰⣄⠈⠻⣦⡀⠙⢦⡀⠀⠀⠀⠀⠀⠀⠀⎥\n",
       "⎢⠀⣿⠀⠀⠀⢸⡈⠳⣼⣿⣹⣹⠀⠀⠀⣧⠉⠷⣄⠈⠻⣦⡈⢳⡄⠈⠳⣄⠈⠻⣦⡈⠳⡄⠀⠀⠀⠀⠀⠀⎥\n",
       "⎢⠉⣿⠉⠀⠀⢸⠳⣦⡘⡇⢧⢯⠀⠀⠀⣏⠀⠀⠉⠳⢦⣈⠻⣦⡉⠀⠀⠈⠳⢦⣈⠻⣦⡉⠀⠀⠀⠀⠀⠀⎥\n",
       "⎢⢻⡟⢻⢦⡀⠘⠃⠀⠙⠃⠈⢻⣦⣦⠀⡿⣦⡀⠐⢦⡀⠉⠃⠈⠻⣦⡀⠐⢦⡄⠉⠃⠈⠻⣄⠐⢦⠀⠀⠀⎥\n",
       "⎢⡀⣇⣸⠀⠻⣦⡀⠀⠀⠀⠀⢈⡿⡼⡄⣷⠈⠻⣦⡀⠙⢦⡀⠀⢀⠈⠻⣦⡀⠙⢧⡀⠀⢀⠘⢧⡈⢳⡀⠀⎥\n",
       "⎢⠀⢸⡁⠀⠀⢸⠻⣦⠀⠀⠀⢸⣷⢳⢷⡏⠳⣄⠈⠻⣦⡀⠹⣆⠈⠷⣄⠈⠻⣦⡀⠹⣦⠘⢧⡈⢳⡄⢻⡀⎥\n",
       "⎢⠤⢸⠧⠀⠀⢸⣆⡈⠳⠀⠀⠀⡟⣟⣿⡿⠀⠈⠳⣄⡈⠻⣦⡘⠧⠀⠉⠳⣄⡈⠻⣦⡘⠷⠈⠳⣄⠹⣆⠳⎥\n",
       "⎢⣤⣸⣦⣀⠀⢸⡌⠛⢦⠀⠀⢀⡇⡘⣿⣷⠀⠀⠀⠈⠙⠦⡌⠻⣦⡀⠀⢀⣈⠛⢶⡌⠻⣦⡀⢀⡈⠳⡜⢧⎥\n",
       "⎢⡘⣇⣸⠙⠳⣄⡀⠀⠀⠀⠀⢘⣿⡽⡄⣧⠀⠀⠀⠀⠀⠀⠀⠀⢀⠙⠶⣄⡉⠳⢦⡀⠀⢈⠻⣦⡙⢦⡀⠀⎥\n",
       "⎢⠀⢸⡄⠀⠀⢸⡙⢶⣄⠀⠀⠸⣷⣻⣳⣇⠀⠀⠀⠀⠀⠀⠀⠀⠈⠓⢦⣈⠙⠶⣄⡙⢦⡈⠳⣌⠻⣦⡹⣆⎥\n",
       "⎣⣉⢸⣍⠀⠀⢸⡛⠶⣌⠀⠀⠀⡇⠳⣿⣯⠀⠀⠀⠀⠀⠀⠀⠀⠀⠀⠀⠈⠛⠲⢬⡙⠶⣍⠀⠈⠳⢮⡻⣮⎦"
      ]
     },
     "metadata": {},
     "output_type": "display_data"
    }
   ],
   "source": [
    "K = FEM.stiffnessMatrix(problem)"
   ]
  },
  {
   "cell_type": "code",
   "execution_count": 75,
   "metadata": {},
   "outputs": [
    {
     "data": {
      "text/plain": [
       "(\"load\", 0, -1, 0)"
      ]
     },
     "metadata": {},
     "output_type": "display_data"
    }
   ],
   "source": [
    "supp = FEM.displacementConstraint(\"supp\", ux=0, uy=0, uz=0)\n",
    "load = FEM.load(\"load\", fy=-1)"
   ]
  },
  {
   "cell_type": "code",
   "execution_count": 76,
   "metadata": {},
   "outputs": [
    {
     "data": {
      "text/plain": [
       "27300-element Vector{Float64}:\n",
       " 0.0\n",
       " 0.0\n",
       " 0.0\n",
       " 0.0\n",
       " 0.0\n",
       " 0.0\n",
       " 0.0\n",
       " 0.0\n",
       " 0.0\n",
       " 0.0\n",
       " ⋮\n",
       " 0.0\n",
       " 0.0\n",
       " 0.0\n",
       " 0.0\n",
       " 0.0\n",
       " 0.0\n",
       " 0.0\n",
       " 0.0\n",
       " 0.0"
      ]
     },
     "metadata": {},
     "output_type": "display_data"
    }
   ],
   "source": [
    "f = FEM.loadVector(problem, [load])"
   ]
  },
  {
   "cell_type": "code",
   "execution_count": 77,
   "metadata": {},
   "outputs": [
    {
     "data": {
      "text/plain": [
       "Any[]"
      ]
     },
     "metadata": {},
     "output_type": "display_data"
    }
   ],
   "source": [
    "FEM.applyBoundaryConditions!(problem, K, f, [supp])"
   ]
  },
  {
   "cell_type": "code",
   "execution_count": 78,
   "metadata": {},
   "outputs": [
    {
     "data": {
      "text/plain": [
       "27300-element Vector{Float64}:\n",
       "  0.0\n",
       "  0.0\n",
       "  0.0\n",
       "  0.0\n",
       "  0.0\n",
       "  0.0\n",
       "  0.0\n",
       "  0.0\n",
       "  0.0\n",
       "  0.0\n",
       "  ⋮\n",
       "  0.008283400964928557\n",
       " -0.1967708558453253\n",
       " -1.1210428791212807e-6\n",
       "  0.008285163083478196\n",
       " -0.19677265552510645\n",
       " -1.1408926370505853e-6\n",
       "  0.011609410778627148\n",
       " -0.19677468999061415\n",
       " -2.466806546655696e-6"
      ]
     },
     "metadata": {},
     "output_type": "display_data"
    }
   ],
   "source": [
    "q = FEM.solveDisplacement(K, f)"
   ]
  },
  {
   "cell_type": "code",
   "execution_count": 79,
   "metadata": {},
   "outputs": [
    {
     "data": {
      "text/plain": [
       "Main.FEM.StressField([[-16.072613933423582; 1.7647279636734383; … ; 0.5382915187731298; -1.3714252475342974;;], [-20.205785564052686; -2.171748346874601; … ; 0.23805160514851542; -0.08139511205230576;;], [-18.921045022913237; -1.516367858466239; … ; 0.06521032667653305; 0.0011588402381184082;;], [-18.039279225116438; -1.314379136100835; … ; 0.013185496143988416; 0.0025869744062783084;;], [-17.340135101348217; -1.2752684153811813; … ; 0.002015344315869504; 0.0007775589995846488;;], [-16.667532703708886; -1.2689014508912522; … ; 0.00020182971143997382; 0.00014594482593022207;;], [-16.00005329229583; -1.2680954143556578; … ; -8.645020567632766e-7; 1.7479300772116346e-5;;], [-15.33332140732932; -1.2680473117474311; … ; -6.001274764259558e-6; 1.864273748708456e-7;;], [-14.666661529851536; -1.2680569549485834; … ; -1.58471820276661e-6; -5.61204291038564e-7;;], [-13.999998921132633; -1.2680609541811487; … ; -2.378392288137333e-7; -1.795292345896371e-7;;]  …  [19.999999974313003; -0.03578270447415992; … ; 2.2709735192454488e-9; 1.685634476444875e-8;;], [17.99999997392108; -0.03578269743510311; … ; 5.649138857979734e-8; 1.1786233455879369e-7;;], [16.000000436169767; -0.03578265261029091; … ; 4.93736669429365e-7; 4.955971404374537e-7;;], [14.000004824629176; -0.03578241473500179; … ; 3.093642574217129e-6; 6.277493933559697e-7;;], [12.000030610133788; -0.03578085915968545; … ; 1.533712518063682e-5; -1.0783783477963382e-5;;], [10.000145631527442; -0.03577474146035009; … ; 6.0085830867879006e-5; -0.00012181033059266433;;], [8.000422417969208; -0.03571462347613408; … ; 0.00016488882737454512; -0.0007716615060130438;;], [6.001688089016349; -0.03592534223607608; … ; 5.779147863607157e-5; -0.0029030413603802208;;], [4.00625168572857; -0.034192194808414; … ; -0.0026341341084301934; -0.0047728197895789415;;], [1.9208399250378103; -0.0947010167883708; … ; 4.461112243188724e-5; -0.06119346424162103;;]], [19, 20, 21, 22, 23, 24, 25, 26, 27, 28  …  279, 280, 281, 282, 283, 284, 285, 286, 287, 288], 1)"
      ]
     },
     "metadata": {},
     "output_type": "display_data"
    }
   ],
   "source": [
    "S = FEM.solveStress(problem, q)"
   ]
  },
  {
   "cell_type": "code",
   "execution_count": 80,
   "metadata": {},
   "outputs": [],
   "source": [
    "gmsh.option.setNumber(\"View.IntervalsType\", 3)\n",
    "gmsh.option.setNumber(\"View.VectorType\", 5)\n",
    "gmsh.option.setString(\"View.Format\", \"%.6g\")"
   ]
  },
  {
   "cell_type": "code",
   "execution_count": 81,
   "metadata": {},
   "outputs": [
    {
     "data": {
      "text/plain": [
       "\"uvec..ok\""
      ]
     },
     "metadata": {},
     "output_type": "display_data"
    },
    {
     "data": {
      "text/plain": [
       "\"ux..ok\""
      ]
     },
     "metadata": {},
     "output_type": "display_data"
    },
    {
     "data": {
      "text/plain": [
       "\"uy..ok\""
      ]
     },
     "metadata": {},
     "output_type": "display_data"
    },
    {
     "data": {
      "text/plain": [
       "\"uz..ok\""
      ]
     },
     "metadata": {},
     "output_type": "display_data"
    },
    {
     "data": {
      "text/plain": [
       "\"s..ok\""
      ]
     },
     "metadata": {},
     "output_type": "display_data"
    },
    {
     "data": {
      "text/plain": [
       "\"sx..ok\""
      ]
     },
     "metadata": {},
     "output_type": "display_data"
    },
    {
     "data": {
      "text/plain": [
       "\"sy..ok\""
      ]
     },
     "metadata": {},
     "output_type": "display_data"
    },
    {
     "data": {
      "text/plain": [
       "\"sz..ok\""
      ]
     },
     "metadata": {},
     "output_type": "display_data"
    },
    {
     "data": {
      "text/plain": [
       "\"sxy..ok\""
      ]
     },
     "metadata": {},
     "output_type": "display_data"
    },
    {
     "data": {
      "text/plain": [
       "\"syz..ok\""
      ]
     },
     "metadata": {},
     "output_type": "display_data"
    },
    {
     "data": {
      "text/plain": [
       "\"szx..ok\""
      ]
     },
     "metadata": {},
     "output_type": "display_data"
    },
    {
     "name": "stdout",
     "output_type": "stream",
     "text": [
      "Info    : Running Plugin(Smooth)...\n",
      "Info    : Done running Plugin(Smooth)\n",
      "Info    : Running Plugin(Smooth)...\n",
      "Info    : Done running Plugin(Smooth)\n",
      "Info    : Running Plugin(Smooth)...\n",
      "Info    : Done running Plugin(Smooth)\n",
      "Info    : Running Plugin(Smooth)...\n",
      "Info    : Done running Plugin(Smooth)\n",
      "Info    : Running Plugin(Smooth)...\n",
      "Info    : Done running Plugin(Smooth)\n",
      "Info    : Running Plugin(Smooth)...\n",
      "Info    : Done running Plugin(Smooth)\n",
      "Info    : Running Plugin(Smooth)...\n",
      "Info    : Done running Plugin(Smooth)\n"
     ]
    },
    {
     "data": {
      "text/plain": [
       "10"
      ]
     },
     "metadata": {},
     "output_type": "display_data"
    }
   ],
   "source": [
    "u = FEM.showDoFResults(problem, q, \"uvec\", name=\"uvec\", visible=false)\n",
    "ux = FEM.showDoFResults(problem, q, \"ux\", name=\"ux\", visible=false)\n",
    "uy = FEM.showDoFResults(problem, q, \"uy\", name=\"uy\", visible=false)\n",
    "uz = FEM.showDoFResults(problem, q, \"uz\", name=\"uz\", visible=false)\n",
    "s = FEM.showStressResults(problem, S, \"s\", name=\"σ\", visible=true, smooth=true)\n",
    "sx = FEM.showStressResults(problem, S, \"sx\", name=\"σx\", visible=false, smooth=true)\n",
    "sy = FEM.showStressResults(problem, S, \"sy\", name=\"σy\", visible=false, smooth=true)\n",
    "sz = FEM.showStressResults(problem, S, \"sz\", name=\"σz\", visible=false, smooth=true)\n",
    "sxy = FEM.showStressResults(problem, S, \"sxy\", name=\"τxy\", visible=false, smooth=true)\n",
    "syz = FEM.showStressResults(problem, S, \"syz\", name=\"τyz\", visible=false, smooth=true)\n",
    "szx = FEM.showStressResults(problem, S, \"szx\", name=\"τzx\", visible=false, smooth=true)"
   ]
  },
  {
   "cell_type": "code",
   "execution_count": 82,
   "metadata": {},
   "outputs": [],
   "source": [
    "FEM.plotOnPath(problem, \"path\", sx, 100, name=\"σx\", visible=false);\n",
    "FEM.plotOnPath(problem, \"path\", sxy, 100, name=\"τxy\", visible=false);\n",
    "FEM.plotOnPath(problem, \"path\", ux, 100, name=\"ux\", visible=false);"
   ]
  },
  {
   "cell_type": "code",
   "execution_count": 83,
   "metadata": {},
   "outputs": [],
   "source": [
    "#gmsh.option.setNumber(\"PostProcessing.Binary\", 1)\n",
    "#gmsh.option.setNumber(\"PostProcessing.SaveMesh\", 1)\n",
    "\n",
    "#gmsh.write(\"rect.msh\")\n",
    "#gmsh.write(\"rect.opt\")\n",
    "#gmsh.view.write(4, \"rect.pos\")"
   ]
  },
  {
   "cell_type": "code",
   "execution_count": 84,
   "metadata": {},
   "outputs": [
    {
     "name": "stdout",
     "output_type": "stream",
     "text": [
      "-------------------------------------------------------\n",
      "Version       : 4.12.2\n",
      "License       : GNU General Public License\n",
      "Build OS      : Linux64-sdk\n",
      "Build date    : 20240121\n",
      "Build host    : gmsh.info\n",
      "Build options : 64Bit ALGLIB[contrib] ANN[contrib] Bamg Blas[petsc] Blossom Cgns DIntegration Dlopen DomHex Eigen[contrib] Fltk Gmm[contrib] Hxt Jpeg Kbipack Lapack[petsc] LinuxJoystick MathEx[contrib] Med Mesh Metis[contrib] Mmg Mpeg Netgen ONELAB ONELABMetamodel OpenCASCADE OpenCASCADE-CAF OpenGL OpenMP OptHom PETSc Parser Plugins Png Post QuadMeshingTools QuadTri Solver TetGen/BR Voro++[contrib] WinslowUntangler Zlib\n",
      "FLTK version  : 1.4.0\n",
      "PETSc version : 3.14.4 (real arithmtic)\n",
      "OCC version   : 7.7.2\n",
      "MED version   : 4.1.0\n",
      "Packaged by   : geuzaine\n",
      "Web site      : https://gmsh.info\n",
      "Issue tracker : https://gitlab.onelab.info/gmsh/gmsh/issues\n",
      "-------------------------------------------------------\n"
     ]
    }
   ],
   "source": [
    "gmsh.fltk.run()"
   ]
  },
  {
   "cell_type": "code",
   "execution_count": 85,
   "metadata": {
    "slideshow": {
     "slide_type": ""
    },
    "tags": []
   },
   "outputs": [],
   "source": [
    "gmsh.finalize()"
   ]
  }
 ],
 "metadata": {
  "kernelspec": {
   "display_name": "Julia 1.10.1",
   "language": "julia",
   "name": "julia-1.10"
  },
  "language_info": {
   "file_extension": ".jl",
   "mimetype": "application/julia",
   "name": "julia",
   "version": "1.10.1"
  },
  "varInspector": {
   "cols": {
    "lenName": 16,
    "lenType": 16,
    "lenVar": 40
   },
   "kernels_config": {
    "python": {
     "delete_cmd_postfix": "",
     "delete_cmd_prefix": "del ",
     "library": "var_list.py",
     "varRefreshCmd": "print(var_dic_list())"
    },
    "r": {
     "delete_cmd_postfix": ") ",
     "delete_cmd_prefix": "rm(",
     "library": "var_list.r",
     "varRefreshCmd": "cat(var_dic_list()) "
    }
   },
   "types_to_exclude": [
    "module",
    "function",
    "builtin_function_or_method",
    "instance",
    "_Feature"
   ],
   "window_display": false
  }
 },
 "nbformat": 4,
 "nbformat_minor": 4
}
