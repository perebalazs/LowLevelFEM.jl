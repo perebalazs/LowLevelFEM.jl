{
 "cells": [
  {
   "cell_type": "code",
   "execution_count": 1,
   "metadata": {},
   "outputs": [],
   "source": [
    "import LowLevelFEM as FEM\n",
    "using LowLevelFEM\n",
    "\n",
    "gmsh.initialize()"
   ]
  },
  {
   "cell_type": "code",
   "execution_count": 2,
   "metadata": {},
   "outputs": [
    {
     "name": "stdout",
     "output_type": "stream",
     "text": [
      "Info    : Reading 'bending3D.geo'...\n",
      "Info    : Meshing 1D...\n",
      "Info    : [  0%] Meshing curve 1 (Line)\n",
      "Info    : [ 10%] Meshing curve 2 (Line)\n",
      "Info    : [ 20%] Meshing curve 3 (Line)\n",
      "Info    : [ 30%] Meshing curve 4 (Line)\n",
      "Info    : [ 40%] Meshing curve 5 (Line)\n",
      "Info    : [ 50%] Meshing curve 6 (Line)\n",
      "Info    : [ 60%] Meshing curve 7 (Line)\n",
      "Info    : [ 60%] Meshing curve 8 (Line)\n",
      "Info    : [ 70%] Meshing curve 9 (Line)\n",
      "Info    : [ 80%] Meshing curve 10 (Line)\n",
      "Info    : [ 90%] Meshing curve 11 (Line)\n",
      "Info    : [100%] Meshing curve 12 (Line)\n",
      "Info    : Done meshing 1D (Wall 0.00108105s, CPU 0.00108s)\n",
      "Info    : Meshing 2D...\n",
      "Info    : [  0%] Meshing surface 1 (Transfinite)\n",
      "Info    : [ 20%] Meshing surface 2 (Transfinite)\n",
      "Info    : [ 40%] Meshing surface 3 (Transfinite)\n",
      "Info    : [ 60%] Meshing surface 4 (Transfinite)\n",
      "Info    : [ 70%] Meshing surface 5 (Transfinite)\n",
      "Info    : [ 90%] Meshing surface 6 (Transfinite)\n",
      "Info    : Done meshing 2D (Wall 0.000445571s, CPU 0.00043s)\n",
      "Info    : Meshing 3D...\n",
      "Info    : Meshing volume 1 (Transfinite)\n",
      "Info    : Done meshing 3D (Wall 0.00156958s, CPU 0.001568s)\n",
      "Info    : Optimizing mesh...\n",
      "Info    : Done optimizing mesh (Wall 2.0061e-05s, CPU 2e-05s)\n",
      "Info    : Meshing order 3 (curvilinear on)...\n",
      "Info    : [  0%] Meshing curve 1 order 3\n",
      "Info    : [ 10%] Meshing curve 2 order 3\n",
      "Info    : [ 20%] Meshing curve 3 order 3\n",
      "Info    : [ 20%] Meshing curve 4 order 3\n",
      "Info    : [ 30%] Meshing curve 5 order 3\n",
      "Info    : [ 30%] Meshing curve 6 order 3\n",
      "Info    : [ 40%] Meshing curve 7 order 3\n",
      "Info    : [ 40%] Meshing curve 8 order 3\n",
      "Info    : [ 50%] Meshing curve 9 order 3\n",
      "Info    : [ 50%] Meshing curve 10 order 3\n",
      "Info    : [ 60%] Meshing curve 11 order 3\n",
      "Info    : [ 60%] Meshing curve 12 order 3\n",
      "Info    : [ 70%] Meshing surface 1 order 3\n",
      "Info    : [ 70%] Meshing surface 2 order 3\n",
      "Info    : [ 80%] Meshing surface 3 order 3\n",
      "Info    : [ 80%] Meshing surface 4 order 3\n",
      "Info    : [ 90%] Meshing surface 5 order 3\n",
      "Info    : [ 90%] Meshing surface 6 order 3\n",
      "Info    : [100%] Meshing volume 1 order 3\n",
      "Info    : Done meshing order 3 (Wall 0.017047s, CPU 0.017044s)\n",
      "Info    : 9100 nodes 800 elements\n",
      "Info    : Done reading 'bending3D.geo'\n"
     ]
    }
   ],
   "source": [
    "gmsh.open(\"bending3D.geo\")"
   ]
  },
  {
   "cell_type": "code",
   "execution_count": 3,
   "metadata": {},
   "outputs": [
    {
     "name": "stdout",
     "output_type": "stream",
     "text": [
      "Info    : RCMK renumbering...\n",
      "Info    : Done RCMK renumbering (bandwidth is now 657)\n"
     ]
    },
    {
     "data": {
      "text/plain": [
       "LowLevelFEM.Problem(\"bending3D\", \"Solid\", 3, 3, LowLevelFEM.Material[LowLevelFEM.Material(\"body\", 200000.0, 0.3, 7.85e-9, 45.0, 4.2e8, 0.01)], 1.0, 9100)"
      ]
     },
     "metadata": {},
     "output_type": "display_data"
    }
   ],
   "source": [
    "mat = FEM.material(\"body\", E=2.e5, ν=0.3)\n",
    "problem = FEM.Problem([mat])"
   ]
  },
  {
   "cell_type": "code",
   "execution_count": 4,
   "metadata": {},
   "outputs": [],
   "source": [
    "#gmsh.fltk.run()"
   ]
  },
  {
   "cell_type": "code",
   "execution_count": 5,
   "metadata": {},
   "outputs": [],
   "source": [
    "# Néhány láthatósági beállítás 0:kikapcs. 1:bekapcs.\n",
    "gmsh.option.setNumber(\"Geometry.CurveLabels\", 0)\n",
    "gmsh.option.setNumber(\"Geometry.Points\", 0)\n",
    "gmsh.option.setNumber(\"Geometry.Curves\", 0)\n",
    "gmsh.option.setNumber(\"Mesh.Points\", 0)\n",
    "gmsh.option.setNumber(\"Mesh.Lines\", 0)\n",
    "gmsh.option.setNumber(\"Mesh.SurfaceEdges\", 0)\n",
    "gmsh.option.setNumber(\"Mesh.NodeLabels\", 0)\n",
    "gmsh.option.setNumber(\"Mesh.LineLabels\", 0)\n",
    "gmsh.option.setNumber(\"Mesh.SurfaceLabels\", 0)"
   ]
  },
  {
   "cell_type": "code",
   "execution_count": 6,
   "metadata": {},
   "outputs": [
    {
     "data": {
      "text/plain": [
       "27300×27300 SparseArrays.SparseMatrixCSC{Float64, Int64} with 8588773 stored entries:\n",
       "⎡⣿⣿⣿⠷⠶⢾⣧⣤⣼⡗⣧⣿⡷⣅⣛⣟⠒⠒⠺⣤⣤⣤⣧⣤⣿⠶⠤⢬⣀⣀⣀⣃⣀⣻⠶⢬⣀⣀⣃⣘⎤\n",
       "⎢⢿⡟⢿⣷⡒⠚⠃⠈⢹⣗⠃⢹⣗⠋⠛⡿⣖⠒⠚⠀⠀⠀⠃⠀⠻⣖⠒⠚⠁⠈⠉⠃⠈⢻⣖⠚⠀⠉⠃⠙⎥\n",
       "⎢⣸⣇⣸⠈⠻⣦⣀⣀⣸⡹⣄⣈⡿⣄⣀⣇⠈⠻⣦⣀⣀⣀⣀⣀⣀⠈⠻⣦⣀⣀⣀⣀⣀⣀⠙⢦⣀⣀⣀⣀⎥\n",
       "⎢⠉⣿⡉⠀⠀⢸⠻⣦⡘⡇⢳⢯⡇⢳⢿⡏⠀⠀⠈⠛⢦⡈⠹⣦⠉⠀⠀⠈⠻⣦⡈⠹⣦⠉⠀⠈⢳⣌⢻⡌⎥\n",
       "⎢⢶⠿⢷⢶⣖⡺⠶⠬⢿⣷⣾⡿⠃⠈⠛⡿⢶⣶⣶⠶⣶⣿⠶⠬⠷⠀⠀⠀⠀⠀⠙⠂⠈⠓⠀⠀⠀⠙⠂⠙⎥\n",
       "⎢⣭⣿⣍⣀⡀⢹⡽⣖⣾⡿⢿⣷⣀⣀⠀⡏⠙⠒⠯⠽⣗⣺⡭⣗⣦⣀⡀⢀⣀⣀⠀⠀⠀⢀⣀⢀⣀⡀⠀⠀⎥\n",
       "⎢⠝⢯⡽⠙⠛⢯⢭⣉⡉⠀⠀⢸⣿⣿⣏⣿⠀⠀⠀⠀⠀⠀⠀⠀⠨⣿⣛⡯⢽⣛⣿⢭⣉⠩⣟⡿⣽⣻⢭⡉⎥\n",
       "⎢⣿⢼⣿⡤⠤⢼⡿⠷⣿⡤⡤⠤⣯⣽⣿⣿⡤⠤⣤⣤⠤⣤⡤⢤⣤⡤⢤⣭⡽⠷⣿⡿⢿⣿⠤⣭⠽⢾⡿⣿⎥\n",
       "⎢⢸⠀⢸⠙⣦⡀⠀⠀⢸⣷⢳⠀⠀⠀⠀⡏⠻⣦⡀⠙⢧⡄⠀⠀⠈⠻⣦⡀⠙⢦⡀⠀⠀⠀⠀⠀⠀⠀⠀⠀⎥\n",
       "⎢⠚⣦⠚⠀⠈⢻⣦⠀⢸⡟⣏⡇⠀⠀⠀⣿⣄⠈⠻⣦⡀⠙⢧⡀⠰⣄⠈⠻⣦⡀⠙⢦⡀⠀⠀⠀⠀⠀⠀⠀⎥\n",
       "⎢⠀⣿⠀⠀⠀⢸⡈⠳⣼⣿⣹⣹⠀⠀⠀⣧⠉⠷⣄⠈⠻⣦⡈⢳⡄⠈⠳⣄⠈⠻⣦⡈⠳⡄⠀⠀⠀⠀⠀⠀⎥\n",
       "⎢⠉⣿⠉⠀⠀⢸⠳⣦⡘⡇⢧⢯⠀⠀⠀⣏⠀⠀⠉⠳⢦⣈⠻⣦⡉⠀⠀⠈⠳⢦⣈⠻⣦⡉⠀⠀⠀⠀⠀⠀⎥\n",
       "⎢⢻⡟⢻⢦⡀⠘⠃⠀⠙⠃⠈⢻⣦⣦⠀⡿⣦⡀⠐⢦⡀⠉⠃⠈⠻⣦⡀⠐⢦⡄⠉⠃⠈⠻⣄⠐⢦⠀⠀⠀⎥\n",
       "⎢⡀⣇⣸⠀⠻⣦⡀⠀⠀⠀⠀⢈⡿⡼⡄⣷⠈⠻⣦⡀⠙⢦⡀⠀⢀⠈⠻⣦⡀⠙⢧⡀⠀⢀⠘⢧⡈⢳⡀⠀⎥\n",
       "⎢⠀⢸⡁⠀⠀⢸⠻⣦⠀⠀⠀⢸⣷⢳⢷⡏⠳⣄⠈⠻⣦⡀⠹⣆⠈⠷⣄⠈⠻⣦⡀⠹⣦⠘⢧⡈⢳⡄⢻⡀⎥\n",
       "⎢⠤⢸⠧⠀⠀⢸⣆⡈⠳⠀⠀⠀⡟⣟⣿⡿⠀⠈⠳⣄⡈⠻⣦⡘⠧⠀⠉⠳⣄⡈⠻⣦⡘⠷⠈⠳⣄⠹⣆⠳⎥\n",
       "⎢⣤⣸⣦⣀⠀⢸⡌⠛⢦⠀⠀⢀⡇⡘⣿⣷⠀⠀⠀⠈⠙⠦⡌⠻⣦⡀⠀⢀⣈⠛⢶⡌⠻⣦⡀⢀⡈⠳⡜⢧⎥\n",
       "⎢⡘⣇⣸⠙⠳⣄⡀⠀⠀⠀⠀⢘⣿⡽⡄⣧⠀⠀⠀⠀⠀⠀⠀⠀⢀⠙⠶⣄⡉⠳⢦⡀⠀⢈⠻⣦⡙⢦⡀⠀⎥\n",
       "⎢⠀⢸⡄⠀⠀⢸⡙⢶⣄⠀⠀⠸⣷⣻⣳⣇⠀⠀⠀⠀⠀⠀⠀⠀⠈⠓⢦⣈⠙⠶⣄⡙⢦⡈⠳⣌⠻⣦⡹⣆⎥\n",
       "⎣⣉⢸⣍⠀⠀⢸⡛⠶⣌⠀⠀⠀⡇⠳⣿⣯⠀⠀⠀⠀⠀⠀⠀⠀⠀⠀⠀⠈⠛⠲⢬⡙⠶⣍⠀⠈⠳⢮⡻⣮⎦"
      ]
     },
     "metadata": {},
     "output_type": "display_data"
    }
   ],
   "source": [
    "K = FEM.stiffnessMatrix(problem)"
   ]
  },
  {
   "cell_type": "code",
   "execution_count": 7,
   "metadata": {},
   "outputs": [
    {
     "data": {
      "text/plain": [
       "(\"load\", 0, -1, 0)"
      ]
     },
     "metadata": {},
     "output_type": "display_data"
    }
   ],
   "source": [
    "supp = FEM.displacementConstraint(\"supp\", ux=0, uy=0, uz=0)\n",
    "load = FEM.load(\"load\", fy=-1)"
   ]
  },
  {
   "cell_type": "code",
   "execution_count": 8,
   "metadata": {},
   "outputs": [
    {
     "data": {
      "text/plain": [
       "(\"load\", Main.fl2, 0, 0)"
      ]
     },
     "metadata": {},
     "output_type": "display_data"
    }
   ],
   "source": [
    "fl2(x, y, z) = (y - 5) / 5\n",
    "load2 = FEM.load(\"load\", fx=fl2)"
   ]
  },
  {
   "cell_type": "code",
   "execution_count": 9,
   "metadata": {},
   "outputs": [
    {
     "data": {
      "text/plain": [
       "27300-element Vector{Float64}:\n",
       " 0.0\n",
       " 0.0\n",
       " 0.0\n",
       " 0.0\n",
       " 0.0\n",
       " 0.0\n",
       " 0.0\n",
       " 0.0\n",
       " 0.0\n",
       " 0.0\n",
       " ⋮\n",
       " 0.0\n",
       " 0.0\n",
       " 0.0\n",
       " 0.0\n",
       " 0.0\n",
       " 0.0\n",
       " 0.0\n",
       " 0.0\n",
       " 0.0"
      ]
     },
     "metadata": {},
     "output_type": "display_data"
    }
   ],
   "source": [
    "f = FEM.loadVector(problem, [load2])"
   ]
  },
  {
   "cell_type": "code",
   "execution_count": 10,
   "metadata": {},
   "outputs": [],
   "source": [
    "FEM.applyBoundaryConditions!(problem, K, f, [supp])"
   ]
  },
  {
   "cell_type": "code",
   "execution_count": 11,
   "metadata": {},
   "outputs": [
    {
     "data": {
      "text/plain": [
       "27300-element Vector{Float64}:\n",
       "  0.0\n",
       "  0.0\n",
       "  0.0\n",
       "  0.0\n",
       "  0.0\n",
       "  0.0\n",
       "  0.0\n",
       "  0.0\n",
       "  0.0\n",
       "  0.0\n",
       "  ⋮\n",
       "  0.0002740241252637001\n",
       " -0.004865124041690177\n",
       " -3.240740757207398e-6\n",
       "  0.0002740241252634347\n",
       " -0.004866235152801464\n",
       " -2.3148148312788297e-6\n",
       "  0.0003836337753684794\n",
       " -0.004867346263912567\n",
       " -3.2407407573860375e-6"
      ]
     },
     "metadata": {},
     "output_type": "display_data"
    }
   ],
   "source": [
    "q = FEM.solveDisplacement(K, f)"
   ]
  },
  {
   "cell_type": "code",
   "execution_count": 12,
   "metadata": {},
   "outputs": [
    {
     "data": {
      "text/plain": [
       "LowLevelFEM.TensorField([[-0.27498443936516315; 0.04820937215168791; … ; 0.008662655350990192; -0.02345571517865523;;], [-0.3490253730370323; -0.015666804269628125; … ; 0.003940857659659406; -0.0013978098807217454;;], [-0.3376239814115326; -0.004178601418818295; … ; 0.00109176286302124; 1.1468997137761838e-5;;], [-0.3339878309270543; -0.0007788180903995934; … ; 0.00022264878129164988; 4.210390522481344e-5;;], [-0.33344786754258343; -0.00012237834792411752; … ; 3.440924223844374e-5; 1.2944556218308367e-5;;], [-0.33334818532026733; -1.4535433462564508e-5; … ; 3.532696360422624e-6; 2.4650190828950924e-6;;], [-0.3333343124251716; -6.542893577304376e-7; … ; 1.1662197521536136e-8; 3.0182589177973895e-7;;], [-0.33333314690853316; 2.3034857891942848e-7; … ; -9.745477881616304e-8; 5.154194973600035e-9;;], [-0.333333248453839; 8.032526508196168e-8; … ; -2.645638457380172e-8; -9.098951869734861e-9;;], [-0.333333315139803; 1.4263961184417483e-8; … ; -4.053557744873913e-9; -2.986561747908567e-9;;]  …  [0.9999999998713553; 4.617263800773798e-12; … ; -1.0731255877906405e-13; 2.6653679263688446e-13;;], [0.9999999998939673; 3.648756387784677e-12; … ; 2.2728174448152409e-13; 5.1264548162066603e-14;;], [0.99999999991458; 2.8980092575372124e-12; … ; 4.9193067321307445e-14; 1.6095458299503207e-13;;], [0.9999999999366921; 5.100547891379217e-12; … ; 1.8489751892853006e-13; -6.106226635438361e-15;;], [0.9999999999508612; 3.3841985190942948e-12; … ; 1.9791250594499517e-13; -3.319566843629218e-14;;], [0.9999999999661445; 2.452730565927157e-12; … ; 3.6037994086642576e-13; 4.4825254619240695e-14;;], [0.9999999999763151; 4.1743077752375436e-12; … ; -2.1477171941438364e-13; 3.827493877395227e-14;;], [0.9999999999820983; 6.8142066710480424e-12; … ; 7.541851049591174e-15; 3.5907388173939125e-13;;], [0.9999999999963469; 4.434335354822577e-12; … ; 3.0618612133729006e-13; 4.020395127923848e-13;;], [0.9999999999984661; 6.4422326770511644e-12; … ; 4.87662930286524e-13; 7.251699241095366e-13;;]], [19, 20, 21, 22, 23, 24, 25, 26, 27, 28  …  279, 280, 281, 282, 283, 284, 285, 286, 287, 288], 1)"
      ]
     },
     "metadata": {},
     "output_type": "display_data"
    }
   ],
   "source": [
    "S = FEM.solveStress(problem, q)"
   ]
  },
  {
   "cell_type": "code",
   "execution_count": 13,
   "metadata": {},
   "outputs": [
    {
     "data": {
      "text/plain": [
       "LowLevelFEM.TensorField([[-1.021370774784907e-6; 6.267218379719429e-7; … ; 1.1261451956287249e-7; 7.816048914865865e-7;;], [-1.74717659217732e-6; -2.036684555051656e-7; … ; 5.123114957557228e-8; 8.133628733569545e-7;;], [-1.6840211924183984e-6; -5.432181844463784e-8; … ; 1.4192917219276121e-8; 8.288247816231996e-7;;], [-1.6704568913313145e-6; -1.0124635175194715e-8; … ; 2.8944341567914485e-9; 8.326263540526583e-7;;], [-1.6673523702906178e-6; -1.590918523013528e-9; … ; 4.473201490997687e-10; 8.332602279997544e-7;;], [-1.666776242592125e-6; -1.889606350133386e-10; … ; 4.5925052685494115e-11; 8.333328284342814e-7;;], [-1.6666783100858137e-6; -8.505761650495689e-12; … ; 1.5160856777996976e-13; 8.333353141096295e-7;;], [-1.6666665639474409e-6; 2.9945315259525702e-12; … ; -1.2669121246101196e-12; 8.333338896220535e-7;;], [-1.6666662534102108e-6; 1.0442284460655019e-12; … ; -3.4393299945942237e-13; 8.333334230984563e-7;;], [-1.6666665487517382e-6; 1.8543149539742728e-13; … ; -5.269625068336087e-14; 8.333333392361295e-7;;]  …  [4.999999999357212e-6; 6.002442941005937e-17; … ; -1.3950632641278327e-18; -1.1666666665365081e-6;;], [4.999999999470207e-6; 4.74338330412008e-17; … ; 2.954662678259813e-18; -1.1666666665625387e-6;;], [4.999999999568942e-6; 3.767412034798376e-17; … ; 6.395098751769968e-19; -1.1666666665851782e-6;;], [4.999999999671203e-6; 6.630712258792981e-17; … ; 2.4036677460708908e-18; -1.166666666604838e-6;;], [4.999999999753622e-6; 4.399458074822583e-17; … ; 2.5728625772849373e-18; -1.1666666666244661e-6;;], [4.999999999834956e-6; 3.188549735705304e-17; … ; 4.684939231263535e-18; -1.1666666666380811e-6;;], [4.999999999878018e-6; 5.426600107808807e-17; … ; -2.7920323523869875e-18; -1.1666666666473638e-6;;], [4.999999999919347e-6; 8.858468672362455e-17; … ; 9.804406364468526e-20; -1.1666666666579862e-6;;], [4.999999999971301e-6; 5.76463596126935e-17; … ; 3.980419577384771e-18; -1.1666666666642854e-6;;], [4.999999999985848e-6; 8.374902480166514e-17; … ; 6.339618093724811e-18; -1.1666666666668953e-6;;]], [19, 20, 21, 22, 23, 24, 25, 26, 27, 28  …  279, 280, 281, 282, 283, 284, 285, 286, 287, 288], 1)"
      ]
     },
     "metadata": {},
     "output_type": "display_data"
    }
   ],
   "source": [
    "E = FEM.solveStrain(problem, q)"
   ]
  },
  {
   "cell_type": "code",
   "execution_count": 14,
   "metadata": {},
   "outputs": [],
   "source": [
    "gmsh.option.setNumber(\"View.IntervalsType\", 3)\n",
    "gmsh.option.setNumber(\"View.VectorType\", 5)"
   ]
  },
  {
   "cell_type": "code",
   "execution_count": 15,
   "metadata": {},
   "outputs": [
    {
     "data": {
      "text/plain": [
       "4"
      ]
     },
     "metadata": {},
     "output_type": "display_data"
    }
   ],
   "source": [
    "u = FEM.showDoFResults(problem, q, \"uvec\", name=\"uvec\", visible=false)\n",
    "ux = FEM.showDoFResults(problem, q, \"ux\", name=\"ux\", visible=false)\n",
    "uy = FEM.showDoFResults(problem, q, \"uy\", name=\"uy\", visible=false)\n",
    "uz = FEM.showDoFResults(problem, q, \"uz\", name=\"uz\", visible=false)"
   ]
  },
  {
   "cell_type": "code",
   "execution_count": 16,
   "metadata": {},
   "outputs": [
    {
     "name": "stdout",
     "output_type": "stream",
     "text": [
      "Info    : Running Plugin(Smooth)...\n",
      "Info    : Done running Plugin(Smooth)\n",
      "Info    : Running Plugin(Smooth)...\n",
      "Info    : Done running Plugin(Smooth)\n",
      "Info    : Running Plugin(Smooth)...\n",
      "Info    : Done running Plugin(Smooth)\n",
      "Info    : Running Plugin(Smooth)...\n",
      "Info    : Done running Plugin(Smooth)\n",
      "Info    : Running Plugin(Smooth)...\n",
      "Info    : Done running Plugin(Smooth)\n",
      "Info    : Running Plugin(Smooth)...\n",
      "Info    : Done running Plugin(Smooth)\n",
      "Info    : Running Plugin(Smooth)...\n",
      "Info    : Done running Plugin(Smooth)\n",
      "Info    : Running Plugin(Smooth)...\n",
      "Info    : Done running Plugin(Smooth)\n"
     ]
    },
    {
     "data": {
      "text/plain": [
       "12"
      ]
     },
     "metadata": {},
     "output_type": "display_data"
    }
   ],
   "source": [
    "s = FEM.showStressResults(problem, S, \"s\", name=\"σ\", visible=true, smooth=true)\n",
    "sx = FEM.showStressResults(problem, S, \"sx\", name=\"σx\", visible=false, smooth=true)\n",
    "sy = FEM.showStressResults(problem, S, \"sy\", name=\"σy\", visible=false, smooth=true)\n",
    "sz = FEM.showStressResults(problem, S, \"sz\", name=\"σz\", visible=false, smooth=true)\n",
    "sxy = FEM.showStressResults(problem, S, \"sxy\", name=\"τxy\", visible=false, smooth=true)\n",
    "syz = FEM.showStressResults(problem, S, \"syz\", name=\"τyz\", visible=false, smooth=true)\n",
    "szx = FEM.showStressResults(problem, S, \"szx\", name=\"τzx\", visible=false, smooth=true)\n",
    "seqv = FEM.showStressResults(problem, S, \"seqv\", name=\"σeqv\", visible=false, smooth=true)"
   ]
  },
  {
   "cell_type": "code",
   "execution_count": 17,
   "metadata": {},
   "outputs": [
    {
     "name": "stdout",
     "output_type": "stream",
     "text": [
      "Info    : Running Plugin(Smooth)...\n",
      "Info    : Done running Plugin(Smooth)\n",
      "Info    : Running Plugin(Smooth)...\n",
      "Info    : Done running Plugin(Smooth)\n",
      "Info    : Running Plugin(Smooth)...\n",
      "Info    : Done running Plugin(Smooth)\n",
      "Info    : Running Plugin(Smooth)...\n",
      "Info    : Done running Plugin(Smooth)\n",
      "Info    : Running Plugin(Smooth)...\n",
      "Info    : Done running Plugin(Smooth)\n",
      "Info    : Running Plugin(Smooth)...\n",
      "Info    : Done running Plugin(Smooth)\n",
      "Info    : Running Plugin(Smooth)...\n",
      "Info    : Done running Plugin(Smooth)\n"
     ]
    },
    {
     "data": {
      "text/plain": [
       "19"
      ]
     },
     "metadata": {},
     "output_type": "display_data"
    }
   ],
   "source": [
    "e = FEM.showStrainResults(problem, E, \"e\", name=\"ε\", visible=false, smooth=true)\n",
    "ex = FEM.showStrainResults(problem, E, \"ex\", name=\"εx\", visible=false, smooth=true)\n",
    "ey = FEM.showStrainResults(problem, E, \"ey\", name=\"εy\", visible=false, smooth=true)\n",
    "ez = FEM.showStrainResults(problem, E, \"ez\", name=\"εz\", visible=false, smooth=true)\n",
    "exy = FEM.showStrainResults(problem, E, \"exy\", name=\"γxy\", visible=false, smooth=true)\n",
    "eyz = FEM.showStrainResults(problem, E, \"eyz\", name=\"γyz\", visible=false, smooth=true)\n",
    "ezx = FEM.showStrainResults(problem, E, \"ezx\", name=\"γzx\", visible=false, smooth=true)"
   ]
  },
  {
   "cell_type": "code",
   "execution_count": 18,
   "metadata": {},
   "outputs": [],
   "source": [
    "FEM.plotOnPath(problem, \"path\", sx, 100, name=\"σx\", visible=false);\n",
    "FEM.plotOnPath(problem, \"path\", sxy, 100, name=\"τxy\", visible=false);\n",
    "FEM.plotOnPath(problem, \"path\", ux, 100, name=\"ux\", visible=false);"
   ]
  },
  {
   "cell_type": "code",
   "execution_count": 19,
   "metadata": {},
   "outputs": [],
   "source": [
    "#gmsh.option.setNumber(\"PostProcessing.Binary\", 1)\n",
    "#gmsh.option.setNumber(\"PostProcessing.SaveMesh\", 1)\n",
    "\n",
    "#gmsh.write(\"rect.msh\")\n",
    "#gmsh.write(\"rect.opt\")\n",
    "#gmsh.view.write(4, \"rect.pos\")"
   ]
  },
  {
   "cell_type": "code",
   "execution_count": 20,
   "metadata": {},
   "outputs": [
    {
     "name": "stdout",
     "output_type": "stream",
     "text": [
      "-------------------------------------------------------\n",
      "Version       : 4.13.1\n",
      "License       : GNU General Public License\n",
      "Build OS      : Linux64-sdk\n",
      "Build date    : 19700101\n",
      "Build host    : amdci7.julia.csail.mit.edu\n",
      "Build options : 64Bit ALGLIB[contrib] ANN[contrib] Bamg Blossom Cairo DIntegration Dlopen DomHex Eigen[contrib] Fltk GMP Gmm[contrib] Hxt Jpeg Kbipack LinuxJoystick MathEx[contrib] Mesh Metis[contrib] Mmg Mpeg Netgen Nii2mesh ONELAB ONELABMetamodel OpenCASCADE OpenCASCADE-CAF OpenGL OpenMP OptHom Parser Plugins Png Post QuadMeshingTools QuadTri Solver TetGen/BR TinyXML2[contrib] Untangle Voro++[contrib] WinslowUntangler Zlib\n",
      "FLTK version  : 1.3.8\n",
      "OCC version   : 7.7.2\n",
      "Packaged by   : root\n",
      "Web site      : https://gmsh.info\n",
      "Issue tracker : https://gitlab.onelab.info/gmsh/gmsh/issues\n",
      "-------------------------------------------------------\n"
     ]
    },
    {
     "name": "stderr",
     "output_type": "stream",
     "text": [
      "XOpenIM() failed\n",
      "XRequest.18: BadValue 0x0\n"
     ]
    }
   ],
   "source": [
    "gmsh.fltk.run()"
   ]
  },
  {
   "cell_type": "code",
   "execution_count": 21,
   "metadata": {
    "slideshow": {
     "slide_type": ""
    },
    "tags": []
   },
   "outputs": [],
   "source": [
    "gmsh.finalize()"
   ]
  }
 ],
 "metadata": {
  "kernelspec": {
   "display_name": "Julia 1.11.1",
   "language": "julia",
   "name": "julia-1.11"
  },
  "language_info": {
   "file_extension": ".jl",
   "mimetype": "application/julia",
   "name": "julia",
   "version": "1.11.1"
  },
  "varInspector": {
   "cols": {
    "lenName": 16,
    "lenType": 16,
    "lenVar": 40
   },
   "kernels_config": {
    "python": {
     "delete_cmd_postfix": "",
     "delete_cmd_prefix": "del ",
     "library": "var_list.py",
     "varRefreshCmd": "print(var_dic_list())"
    },
    "r": {
     "delete_cmd_postfix": ") ",
     "delete_cmd_prefix": "rm(",
     "library": "var_list.r",
     "varRefreshCmd": "cat(var_dic_list()) "
    }
   },
   "types_to_exclude": [
    "module",
    "function",
    "builtin_function_or_method",
    "instance",
    "_Feature"
   ],
   "window_display": false
  }
 },
 "nbformat": 4,
 "nbformat_minor": 4
}
