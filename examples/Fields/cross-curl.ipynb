{
 "cells": [
  {
   "cell_type": "code",
   "execution_count": 88,
   "id": "0b99cb23",
   "metadata": {},
   "outputs": [],
   "source": [
    "using LowLevelFEM"
   ]
  },
  {
   "cell_type": "code",
   "execution_count": 89,
   "id": "e03f2673",
   "metadata": {},
   "outputs": [],
   "source": [
    "gmsh.initialize()"
   ]
  },
  {
   "cell_type": "code",
   "execution_count": 90,
   "id": "b3614a0c",
   "metadata": {},
   "outputs": [
    {
     "name": "stdout",
     "output_type": "stream",
     "text": [
      "Info    : Reading 'cube.geo'...\n",
      "Info    : Meshing 1D...\n",
      "Info    : [  0%] Meshing curve 1 (Line)\n",
      "Info    : [ 10%] Meshing curve 2 (Line)\n",
      "Info    : [ 20%] Meshing curve 3 (Line)\n",
      "Info    : [ 30%] Meshing curve 4 (Line)\n",
      "Info    : [ 40%] Meshing curve 5 (Line)\n",
      "Info    : [ 50%] Meshing curve 6 (Line)\n",
      "Info    : [ 60%] Meshing curve 7 (Line)\n",
      "Info    : [ 60%] Meshing curve 8 (Line)\n",
      "Info    : [ 70%] Meshing curve 9 (Line)\n",
      "Info    : [ 80%] Meshing curve 10 (Line)\n",
      "Info    : [ 90%] Meshing curve 11 (Line)\n",
      "Info    : [100%] Meshing curve 12 (Line)\n",
      "Info    : Done meshing 1D (Wall 0.00206483s, CPU 0.002022s)\n",
      "Info    : Meshing 2D...\n",
      "Info    : [  0%] Meshing surface 1 (Plane, Frontal-Delaunay)\n",
      "Info    : [ 20%] Meshing surface 2 (Plane, Frontal-Delaunay)\n",
      "Info    : [ 40%] Meshing surface 3 (Plane, Frontal-Delaunay)\n",
      "Info    : [ 60%] Meshing surface 4 (Plane, Frontal-Delaunay)\n",
      "Info    : [ 70%] Meshing surface 5 (Plane, Frontal-Delaunay)\n",
      "Info    : [ 90%] Meshing surface 6 (Plane, Frontal-Delaunay)\n",
      "Info    : Done meshing 2D (Wall 0.0156633s, CPU 0.015097s)\n",
      "Info    : Meshing 3D...\n",
      "Info    : 3D Meshing 1 volume with 1 connected component\n",
      "Info    : Tetrahedrizing 200 nodes...\n",
      "Info    : Done tetrahedrizing 208 nodes (Wall 0.00214596s, CPU 0.002143s)\n",
      "Info    : Reconstructing mesh...\n",
      "Info    :  - Creating surface mesh\n",
      "Info    :  - Identifying boundary edges\n",
      "Info    :  - Recovering boundary\n",
      "Info    : Done reconstructing mesh (Wall 0.00522899s, CPU 0.005224s)\n",
      "Info    : Found volume 1\n",
      "Info    : It. 0 - 0 nodes created - worst tet radius 2.29263 (nodes removed 0 0)\n",
      "Info    : 3D refinement terminated (233 nodes total):\n",
      "Info    :  - 0 Delaunay cavities modified for star shapeness\n",
      "Info    :  - 0 nodes could not be inserted\n",
      "Info    :  - 722 tetrahedra created in 0.00330391 sec. (218528 tets/s)\n",
      "Info    : 0 node relocations\n",
      "Info    : Done meshing 3D (Wall 0.0182195s, CPU 0.017982s)\n",
      "Info    : Optimizing mesh...\n",
      "Info    : Optimizing volume 1\n",
      "Info    : Optimization starts (volume = 1) with worst = 0.0210204 / average = 0.77505:\n",
      "Info    : 0.00 < quality < 0.10 :         1 elements\n",
      "Info    : 0.10 < quality < 0.20 :         4 elements\n",
      "Info    : 0.20 < quality < 0.30 :         6 elements\n",
      "Info    : 0.30 < quality < 0.40 :         9 elements\n",
      "Info    : 0.40 < quality < 0.50 :         7 elements\n",
      "Info    : 0.50 < quality < 0.60 :        20 elements\n",
      "Info    : 0.60 < quality < 0.70 :       130 elements\n",
      "Info    : 0.70 < quality < 0.80 :       218 elements\n",
      "Info    : 0.80 < quality < 0.90 :       212 elements\n",
      "Info    : 0.90 < quality < 1.00 :       108 elements\n",
      "Info    : 11 edge swaps, 0 node relocations (volume = 1): worst = 0.312571 / average = 0.784648 (Wall 0.00023943s, CPU 0.000241s)\n",
      "Info    : No ill-shaped tets in the mesh :-)\n",
      "Info    : 0.00 < quality < 0.10 :         0 elements\n",
      "Info    : 0.10 < quality < 0.20 :         0 elements\n",
      "Info    : 0.20 < quality < 0.30 :         0 elements\n",
      "Info    : 0.30 < quality < 0.40 :         9 elements\n",
      "Info    : 0.40 < quality < 0.50 :         6 elements\n",
      "Info    : 0.50 < quality < 0.60 :        19 elements\n",
      "Info    : 0.60 < quality < 0.70 :       132 elements\n",
      "Info    : 0.70 < quality < 0.80 :       216 elements\n",
      "Info    : 0.80 < quality < 0.90 :       214 elements\n",
      "Info    : 0.90 < quality < 1.00 :       109 elements\n",
      "Info    : Done optimizing mesh (Wall 0.00181196s, CPU 0.001771s)\n",
      "Info    : Meshing order 2 (curvilinear on)...\n",
      "Info    : [  0%] Meshing curve 1 order 2\n",
      "Info    : [ 10%] Meshing curve 2 order 2\n",
      "Info    : [ 20%] Meshing curve 3 order 2\n",
      "Info    : [ 20%] Meshing curve 4 order 2\n",
      "Info    : [ 30%] Meshing curve 5 order 2\n",
      "Info    : [ 30%] Meshing curve 6 order 2\n",
      "Info    : [ 40%] Meshing curve 7 order 2\n",
      "Info    : [ 40%] Meshing curve 8 order 2\n",
      "Info    : [ 50%] Meshing curve 9 order 2\n",
      "Info    : [ 50%] Meshing curve 10 order 2\n",
      "Info    : [ 60%] Meshing curve 11 order 2\n",
      "Info    : [ 60%] Meshing curve 12 order 2\n",
      "Info    : [ 70%] Meshing surface 1 order 2\n",
      "Info    : [ 70%] Meshing surface 2 order 2\n",
      "Info    : [ 80%] Meshing surface 3 order 2\n",
      "Info    : [ 80%] Meshing surface 4 order 2\n",
      "Info    : [ 90%] Meshing surface 5 order 2\n",
      "Info    : [ 90%] Meshing surface 6 order 2\n",
      "Info    : [100%] Meshing volume 1 order 2\n",
      "Info    : Surface mesh: worst distortion = 1 (0 elements in ]0, 0.2]); worst gamma = 0.882458\n",
      "Info    : Volume mesh: worst distortion = 1 (0 elements in ]0, 0.2])\n",
      "Info    : Done meshing order 2 (Wall 0.00520843s, CPU 0.005158s)\n",
      "Info    : 1375 nodes 1176 elements\n",
      "Info    : Done reading 'cube.geo'\n"
     ]
    }
   ],
   "source": [
    "gmsh.open(\"cube.geo\")"
   ]
  },
  {
   "cell_type": "code",
   "execution_count": 91,
   "id": "0db6d6d3",
   "metadata": {},
   "outputs": [
    {
     "name": "stdout",
     "output_type": "stream",
     "text": [
      "Info    : RCMK renumbering...\n",
      "Info    : Done RCMK renumbering (bandwidth is now 457)\n"
     ]
    },
    {
     "data": {
      "text/plain": [
       "Problem(\"cube\", :Solid, 3, 3, LowLevelFEM.Material[LowLevelFEM.Material(\"cube\", :Hooke, 200000.0, 0.3, 7.85e-9, 45.0, 4.2e8, 1.2e-5, 115384.61538461536, 76923.07692307692, 166666.66666666666)], 1.0, 1375)"
      ]
     },
     "metadata": {},
     "output_type": "display_data"
    }
   ],
   "source": [
    "mat = material(\"cube\")\n",
    "demo = Problem([mat])"
   ]
  },
  {
   "cell_type": "code",
   "execution_count": 92,
   "id": "7b6f0dc3",
   "metadata": {},
   "outputs": [
    {
     "data": {
      "text/plain": [
       "LowLevelFEM.VectorField(Matrix{Float64}[], [0.0; 0.0; … ; 0.6036789330033907; 0.5938713118680594;;], [0.0], Int64[], 1, :u3D, Problem(\"cube\", :Solid, 3, 3, LowLevelFEM.Material[LowLevelFEM.Material(\"cube\", :Hooke, 200000.0, 0.3, 7.85e-9, 45.0, 4.2e8, 1.2e-5, 115384.61538461536, 76923.07692307692, 166666.66666666666)], 1.0, 1375))"
      ]
     },
     "metadata": {},
     "output_type": "display_data"
    }
   ],
   "source": [
    "rx(x, y, z) = x\n",
    "ry(x, y, z) = y\n",
    "rz(x, y, z) = z\n",
    "r0 = field(\"cube\", fx=rx, fy=ry, fz=rz)\n",
    "r = vectorField(demo, [r0])"
   ]
  },
  {
   "cell_type": "code",
   "execution_count": 93,
   "id": "5ad8f40b",
   "metadata": {},
   "outputs": [
    {
     "data": {
      "text/plain": [
       "LowLevelFEM.VectorField(Matrix{Float64}[], [1.0; 2.0; … ; 2.0; 3.0;;], [0.0], Int64[], 1, :u3D, Problem(\"cube\", :Solid, 3, 3, LowLevelFEM.Material[LowLevelFEM.Material(\"cube\", :Hooke, 200000.0, 0.3, 7.85e-9, 45.0, 4.2e8, 1.2e-5, 115384.61538461536, 76923.07692307692, 166666.66666666666)], 1.0, 1375))"
      ]
     },
     "metadata": {},
     "output_type": "display_data"
    }
   ],
   "source": [
    "ω0 = field(\"cube\", fx=1, fy=2, fz=3)\n",
    "ω = vectorField(demo, [ω0])"
   ]
  },
  {
   "cell_type": "code",
   "execution_count": 94,
   "id": "69861a30",
   "metadata": {},
   "outputs": [
    {
     "data": {
      "text/plain": [
       "LowLevelFEM.VectorField([[0.33876428695354716; 1.9302771267089127; … ; 2.155225701787952; -1.311249548943806;;], [-0.09745757843147418; -0.49193677296650107; … ; -0.2870307078498989; 0.37904816871249114;;], [0.2928203230275506; 2.4143593539448984; … ; 2.155225701787952; -1.311249548943806;;], [-0.5607695154586736; -0.560769515458674; … ; -0.2870307078498989; 0.37904816871249114;;], [-0.14641016151377545; 2.8535898384862244; … ; 2.155225701787952; -1.311249548943806;;], [-0.5607695154586736; -0.560769515458674; … ; -0.2985166988313982; 0.4558998762579892;;], [-1.6016949477123505; -0.1910892991103258; … ; -0.07890145656073544; 0.38269479550110175;;], [0.09207232623695005; 2.699529177109489; … ; 2.301635863301727; -1.4576597104575815;;], [-0.14641016151377545; 2.8535898384862244; … ; 2.283672091533118; -1.373707855830511;;], [-0.8535898384862244; -0.8535898384862246; … ; -0.21382949892940795; 0.4358410498411627;;]  …  [-1.3769249619981139; 0.16247887267097716; … ; -0.511553999097439; 0.6010154718895107;;], [-1.3769249619981139; 0.16247887267097716; … ; 0.24843686978916035; -0.0029681550327749218;;], [-0.48078072322340226; -0.6785385660760865; … ; -0.1332757786857247; 0.37031280776905595;;], [-0.48078072322340226; -0.6785385660760865; … ; -0.12984135062255409; 0.22773450908767978;;], [0.4758440469649585; 1.599474411167424; … ; 1.8025545657049935; -1.1195832406957649;;], [0.4758440469649585; 1.599474411167424; … ; 1.8498715547976408; -1.2691255744052405;;], [-1.7608949832321394; 2.8306178565232263; … ; 2.517600699550319; -1.0819919306100134;;], [-1.7608949832321394; 2.8306178565232263; … ; 2.475485528319344; -1.2694222917576898;;], [-1.5907087739628116; -0.5060815484130842; … ; -0.052839582862400036; 0.7441346669444728;;], [-1.5907087739628116; -0.5060815484130842; … ; 0.09104705747082009; 0.5021227886858056;;]], Matrix{Float64}(undef, 0, 0), [0.0], [465, 466, 467, 468, 469, 470, 471, 472, 473, 474  …  1167, 1168, 1169, 1170, 1171, 1172, 1173, 1174, 1175, 1176], 1, :vector, Problem(\"cube\", :Solid, 3, 3, LowLevelFEM.Material[LowLevelFEM.Material(\"cube\", :Hooke, 200000.0, 0.3, 7.85e-9, 45.0, 4.2e8, 1.2e-5, 115384.61538461536, 76923.07692307692, 166666.66666666666)], 1.0, 1375))"
      ]
     },
     "metadata": {},
     "output_type": "display_data"
    }
   ],
   "source": [
    "using LinearAlgebra\n",
    "w = ω × r"
   ]
  },
  {
   "cell_type": "code",
   "execution_count": 95,
   "id": "b1398129",
   "metadata": {},
   "outputs": [
    {
     "data": {
      "text/plain": [
       "0"
      ]
     },
     "metadata": {},
     "output_type": "display_data"
    }
   ],
   "source": [
    "showDoFResults(w, :vector, visible=true)"
   ]
  },
  {
   "cell_type": "code",
   "execution_count": 96,
   "id": "2433e18c",
   "metadata": {},
   "outputs": [
    {
     "data": {
      "text/plain": [
       "LowLevelFEM.VectorField([[0.9999999999999964; 2.0000000000000036; … ; 2.0; 3.0;;], [1.0000000000000013; 2.000000000000001; … ; 1.9999999999999996; 2.999999999999996;;], [0.9999999999999947; 2.000000000000003; … ; 1.9999999999999991; 2.9999999999999973;;], [0.9999999999999968; 2.0000000000000018; … ; 2.000000000000003; 3.000000000000001;;], [0.9999999999999973; 2.000000000000001; … ; 1.9999999999999984; 3.0000000000000018;;], [0.9999999999999984; 2.0000000000000013; … ; 2.0; 3.0000000000000004;;], [1.0000000000000002; 1.9999999999999973; … ; 2.0000000000000018; 3.0000000000000004;;], [1.000000000000004; 1.999999999999999; … ; 2.000000000000001; 3.0000000000000018;;], [0.9999999999999907; 2.0000000000000036; … ; 1.9999999999999982; 2.9999999999999982;;], [1.000000000000001; 2.000000000000004; … ; 1.999999999999996; 3.0000000000000018;;]  …  [1.0000000000000029; 1.9999999999999991; … ; 1.9999999999999998; 2.999999999999999;;], [1.0000000000000018; 2.0000000000000018; … ; 2.0; 2.9999999999999996;;], [1.0000000000000022; 1.9999999999999976; … ; 2.0000000000000004; 3.0000000000000018;;], [0.9999999999999978; 1.9999999999999987; … ; 2.0000000000000036; 3.0000000000000036;;], [0.9999999999999991; 1.9999999999999973; … ; 2.000000000000001; 2.9999999999999973;;], [0.9999999999999963; 1.9999999999999984; … ; 2.0000000000000018; 3.000000000000001;;], [1.0; 2.0000000000000027; … ; 1.9999999999999973; 3.0000000000000013;;], [1.0000000000000036; 2.0000000000000018; … ; 2.0000000000000027; 3.000000000000004;;], [0.9999999999999991; 1.9999999999999987; … ; 1.9999999999999993; 3.0000000000000036;;], [0.9999999999999996; 2.0; … ; 1.9999999999999976; 3.000000000000001;;]], Matrix{Float64}(undef, 0, 0), [0.0], [465, 466, 467, 468, 469, 470, 471, 472, 473, 474  …  1167, 1168, 1169, 1170, 1171, 1172, 1173, 1174, 1175, 1176], 1, :e, Problem(\"cube\", :Solid, 3, 3, LowLevelFEM.Material[LowLevelFEM.Material(\"cube\", :Hooke, 200000.0, 0.3, 7.85e-9, 45.0, 4.2e8, 1.2e-5, 115384.61538461536, 76923.07692307692, 166666.66666666666)], 1.0, 1375))"
      ]
     },
     "metadata": {},
     "output_type": "display_data"
    }
   ],
   "source": [
    "ω1 = ∇ × w / 2"
   ]
  },
  {
   "cell_type": "code",
   "execution_count": 97,
   "id": "fd1ec83f",
   "metadata": {},
   "outputs": [
    {
     "data": {
      "text/plain": [
       "3-element Vector{Float64}:\n",
       " 1.0\n",
       " 2.0\n",
       " 3.0"
      ]
     },
     "metadata": {},
     "output_type": "display_data"
    }
   ],
   "source": [
    "probe(ω1, \"P\")"
   ]
  },
  {
   "cell_type": "code",
   "execution_count": 98,
   "id": "aaa3fa1e",
   "metadata": {},
   "outputs": [
    {
     "ename": "Base.Meta.ParseError",
     "evalue": "ParseError:\n# Error @ /home/perebal/Dokumentumok/GitHub/LowLevelFEM.jl/examples/Fields/jl_notebook_cell_df34fa98e69747e1a8f8a730347b8e2f_X15sZmlsZQ==.jl:1:1\n⋅∘\n╙ ── not a unary operator",
     "output_type": "error",
     "traceback": [
      "ParseError:\n",
      "# Error @ /home/perebal/Dokumentumok/GitHub/LowLevelFEM.jl/examples/Fields/jl_notebook_cell_df34fa98e69747e1a8f8a730347b8e2f_X15sZmlsZQ==.jl:1:1\n",
      "⋅∘\n",
      "╙ ── not a unary operator\n",
      "\n",
      "Stacktrace:\n",
      " [1] top-level scope\n",
      "   @ ~/Dokumentumok/GitHub/LowLevelFEM.jl/examples/Fields/jl_notebook_cell_df34fa98e69747e1a8f8a730347b8e2f_X15sZmlsZQ==.jl:1"
     ]
    }
   ],
   "source": [
    "⋅∘"
   ]
  },
  {
   "cell_type": "code",
   "execution_count": 99,
   "id": "d9cedc86",
   "metadata": {},
   "outputs": [
    {
     "name": "stdout",
     "output_type": "stream",
     "text": [
      "-------------------------------------------------------\n",
      "Version       : 4.13.1\n",
      "License       : GNU General Public License\n",
      "Build OS      : Linux64-sdk\n",
      "Build date    : 19700101\n",
      "Build host    : amdci7.julia.csail.mit.edu\n",
      "Build options : 64Bit ALGLIB[contrib] ANN[contrib] Bamg Blossom Cairo DIntegration Dlopen DomHex Eigen[contrib] Fltk GMP Gmm[contrib] Hxt Jpeg Kbipack LinuxJoystick MathEx[contrib] Mesh Metis[contrib] Mmg Mpeg Netgen Nii2mesh ONELAB ONELABMetamodel OpenCASCADE OpenCASCADE-CAF OpenGL OpenMP OptHom Parser Plugins Png Post QuadMeshingTools QuadTri Solver TetGen/BR TinyXML2[contrib] Untangle Voro++[contrib] WinslowUntangler Zlib\n",
      "FLTK version  : 1.3.8\n",
      "OCC version   : 7.7.2\n",
      "Packaged by   : root\n",
      "Web site      : https://gmsh.info\n",
      "Issue tracker : https://gitlab.onelab.info/gmsh/gmsh/issues\n",
      "-------------------------------------------------------\n"
     ]
    },
    {
     "name": "stderr",
     "output_type": "stream",
     "text": [
      "XRequest.18: BadValue 0x0\n"
     ]
    }
   ],
   "source": [
    "openPostProcessor()"
   ]
  },
  {
   "cell_type": "code",
   "execution_count": 100,
   "id": "f5391502",
   "metadata": {},
   "outputs": [],
   "source": [
    "gmsh.finalize()"
   ]
  }
 ],
 "metadata": {
  "kernelspec": {
   "display_name": "Julia 1.11.6",
   "language": "julia",
   "name": "julia-1.11"
  },
  "language_info": {
   "file_extension": ".jl",
   "mimetype": "application/julia",
   "name": "julia",
   "version": "1.11.6"
  }
 },
 "nbformat": 4,
 "nbformat_minor": 5
}
