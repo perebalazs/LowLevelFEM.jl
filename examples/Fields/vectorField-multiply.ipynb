{
 "cells": [
  {
   "cell_type": "code",
   "execution_count": 1,
   "id": "343c90a8",
   "metadata": {},
   "outputs": [
    {
     "name": "stdout",
     "output_type": "stream",
     "text": [
      "Info    : Reading 'cube.geo'...\n",
      "Info    : Meshing 1D...\n",
      "Info    : [  0%] Meshing curve 1 (Line)\n",
      "Info    : [ 10%] Meshing curve 2 (Line)\n",
      "Info    : [ 20%] Meshing curve 3 (Line)\n",
      "Info    : [ 30%] Meshing curve 4 (Line)\n",
      "Info    : [ 40%] Meshing curve 5 (Line)\n",
      "Info    : [ 50%] Meshing curve 6 (Line)\n",
      "Info    : [ 60%] Meshing curve 7 (Line)\n",
      "Info    : [ 60%] Meshing curve 8 (Line)\n",
      "Info    : [ 70%] Meshing curve 9 (Line)\n",
      "Info    : [ 80%] Meshing curve 10 (Line)\n",
      "Info    : [ 90%] Meshing curve 11 (Line)\n",
      "Info    : [100%] Meshing curve 12 (Line)\n",
      "Info    : Done meshing 1D (Wall 0.00088613s, CPU 0.000887s)\n",
      "Info    : Meshing 2D...\n",
      "Info    : [  0%] Meshing surface 1 (Plane, Frontal-Delaunay)\n",
      "Info    : [ 20%] Meshing surface 2 (Plane, Frontal-Delaunay)\n",
      "Info    : [ 40%] Meshing surface 3 (Plane, Frontal-Delaunay)\n",
      "Info    : [ 60%] Meshing surface 4 (Plane, Frontal-Delaunay)\n",
      "Info    : [ 70%] Meshing surface 5 (Plane, Frontal-Delaunay)\n",
      "Info    : [ 90%] Meshing surface 6 (Plane, Frontal-Delaunay)\n",
      "Info    : Done meshing 2D (Wall 0.008686s, CPU 0.008674s)\n",
      "Info    : Meshing 3D...\n",
      "Info    : 3D Meshing 1 volume with 1 connected component\n",
      "Info    : Tetrahedrizing 200 nodes...\n",
      "Info    : Done tetrahedrizing 208 nodes (Wall 0.00204211s, CPU 0.002041s)\n",
      "Info    : Reconstructing mesh...\n",
      "Info    :  - Creating surface mesh\n",
      "Info    :  - Identifying boundary edges\n",
      "Info    :  - Recovering boundary\n",
      "Info    : Done reconstructing mesh (Wall 0.00430956s, CPU 0.004308s)\n",
      "Info    : Found volume 1\n",
      "Info    : It. 0 - 0 nodes created - worst tet radius 2.29263 (nodes removed 0 0)\n",
      "Info    : 3D refinement terminated (233 nodes total):\n",
      "Info    :  - 0 Delaunay cavities modified for star shapeness\n",
      "Info    :  - 0 nodes could not be inserted\n",
      "Info    :  - 722 tetrahedra created in 0.00163498 sec. (441594 tets/s)\n",
      "Info    : 0 node relocations\n",
      "Info    : Done meshing 3D (Wall 0.0112215s, CPU 0.010202s)\n",
      "Info    : Optimizing mesh...\n",
      "Info    : Optimizing volume 1\n",
      "Info    : Optimization starts (volume = 1) with worst = 0.0210204 / average = 0.77505:\n",
      "Info    : 0.00 < quality < 0.10 :         1 elements\n",
      "Info    : 0.10 < quality < 0.20 :         4 elements\n",
      "Info    : 0.20 < quality < 0.30 :         6 elements\n",
      "Info    : 0.30 < quality < 0.40 :         9 elements\n",
      "Info    : 0.40 < quality < 0.50 :         7 elements\n",
      "Info    : 0.50 < quality < 0.60 :        20 elements\n",
      "Info    : 0.60 < quality < 0.70 :       130 elements\n",
      "Info    : 0.70 < quality < 0.80 :       218 elements\n",
      "Info    : 0.80 < quality < 0.90 :       212 elements\n",
      "Info    : 0.90 < quality < 1.00 :       108 elements\n",
      "Info    : 11 edge swaps, 0 node relocations (volume = 1): worst = 0.312571 / average = 0.784648 (Wall 0.000197197s, CPU 0.000197s)\n",
      "Info    : No ill-shaped tets in the mesh :-)\n",
      "Info    : 0.00 < quality < 0.10 :         0 elements\n",
      "Info    : 0.10 < quality < 0.20 :         0 elements\n",
      "Info    : 0.20 < quality < 0.30 :         0 elements\n",
      "Info    : 0.30 < quality < 0.40 :         9 elements\n",
      "Info    : 0.40 < quality < 0.50 :         6 elements\n",
      "Info    : 0.50 < quality < 0.60 :        19 elements\n",
      "Info    : 0.60 < quality < 0.70 :       132 elements\n",
      "Info    : 0.70 < quality < 0.80 :       216 elements\n",
      "Info    : 0.80 < quality < 0.90 :       214 elements\n",
      "Info    : 0.90 < quality < 1.00 :       109 elements\n",
      "Info    : Done optimizing mesh (Wall 0.000805968s, CPU 0.000806s)\n",
      "Info    : 233 nodes 1176 elements\n",
      "Info    : Done reading 'cube.geo'\n"
     ]
    }
   ],
   "source": [
    "using LowLevelFEM\n",
    "gmsh.initialize()\n",
    "\n",
    "gmsh.open(\"cube.geo\")"
   ]
  },
  {
   "cell_type": "code",
   "execution_count": 2,
   "id": "93848cb3",
   "metadata": {},
   "outputs": [
    {
     "name": "stdout",
     "output_type": "stream",
     "text": [
      "Info    : RCMK renumbering...\n",
      "Info    : Done RCMK renumbering (bandwidth is now 76)\n"
     ]
    }
   ],
   "source": [
    "mat = material(\"cube\")\n",
    "\n",
    "prob = Problem([mat]);"
   ]
  },
  {
   "cell_type": "code",
   "execution_count": 3,
   "id": "638af149",
   "metadata": {},
   "outputs": [],
   "source": [
    "fv1 = field(\"cube\", fx=1, fy=2, fz=3)\n",
    "fv2 = field(\"cube\", fx=2, fy=-1, fz=3)\n",
    "v1 = vectorField(prob, [fv1])\n",
    "v2 = vectorField(prob, [fv2]);"
   ]
  },
  {
   "cell_type": "code",
   "execution_count": 4,
   "id": "896acad0",
   "metadata": {},
   "outputs": [
    {
     "data": {
      "text/plain": [
       "true"
      ]
     },
     "metadata": {},
     "output_type": "display_data"
    }
   ],
   "source": [
    "isNodal(v1)"
   ]
  },
  {
   "cell_type": "code",
   "execution_count": 5,
   "id": "3f63548c",
   "metadata": {},
   "outputs": [
    {
     "data": {
      "text/plain": [
       "712-element Vector{Matrix{Float64}}:\n",
       " [9.0; 9.0; 9.0; 9.0;;]\n",
       " [9.0; 9.0; 9.0; 9.0;;]\n",
       " [9.0; 9.0; 9.0; 9.0;;]\n",
       " [9.0; 9.0; 9.0; 9.0;;]\n",
       " [9.0; 9.0; 9.0; 9.0;;]\n",
       " [9.0; 9.0; 9.0; 9.0;;]\n",
       " [9.0; 9.0; 9.0; 9.0;;]\n",
       " [9.0; 9.0; 9.0; 9.0;;]\n",
       " [9.0; 9.0; 9.0; 9.0;;]\n",
       " [9.0; 9.0; 9.0; 9.0;;]\n",
       " ⋮\n",
       " [9.0; 9.0; 9.0; 9.0;;]\n",
       " [9.0; 9.0; 9.0; 9.0;;]\n",
       " [9.0; 9.0; 9.0; 9.0;;]\n",
       " [9.0; 9.0; 9.0; 9.0;;]\n",
       " [9.0; 9.0; 9.0; 9.0;;]\n",
       " [9.0; 9.0; 9.0; 9.0;;]\n",
       " [9.0; 9.0; 9.0; 9.0;;]\n",
       " [9.0; 9.0; 9.0; 9.0;;]\n",
       " [9.0; 9.0; 9.0; 9.0;;]"
      ]
     },
     "metadata": {},
     "output_type": "display_data"
    },
    {
     "data": {
      "text/plain": []
     },
     "metadata": {},
     "output_type": "display_data"
    }
   ],
   "source": [
    "using LinearAlgebra\n",
    "v1 ⋅ v2\n",
    "#isNodal(v1 ⋅ v2)"
   ]
  },
  {
   "cell_type": "code",
   "execution_count": 6,
   "id": "d9b0f079",
   "metadata": {},
   "outputs": [
    {
     "data": {
      "text/plain": [
       "5"
      ]
     },
     "metadata": {},
     "output_type": "display_data"
    }
   ],
   "source": [
    "showDoFResults(v1)\n",
    "showDoFResults(v2)\n",
    "showDoFResults(v1 + v2)\n",
    "showElementResults(v1 ⋅ v2)\n",
    "showElementResults(v1 ∘ v2)"
   ]
  },
  {
   "cell_type": "code",
   "execution_count": 7,
   "id": "68941249",
   "metadata": {},
   "outputs": [
    {
     "name": "stdout",
     "output_type": "stream",
     "text": [
      "-------------------------------------------------------\n",
      "Version       : 4.13.1\n",
      "License       : GNU General Public License\n",
      "Build OS      : Linux64-sdk\n",
      "Build date    : 19700101\n",
      "Build host    : amdci7.julia.csail.mit.edu\n",
      "Build options : 64Bit ALGLIB[contrib] ANN[contrib] Bamg Blossom Cairo DIntegration Dlopen DomHex Eigen[contrib] Fltk GMP Gmm[contrib] Hxt Jpeg Kbipack LinuxJoystick MathEx[contrib] Mesh Metis[contrib] Mmg Mpeg Netgen Nii2mesh ONELAB ONELABMetamodel OpenCASCADE OpenCASCADE-CAF OpenGL OpenMP OptHom Parser Plugins Png Post QuadMeshingTools QuadTri Solver TetGen/BR TinyXML2[contrib] Untangle Voro++[contrib] WinslowUntangler Zlib\n",
      "FLTK version  : 1.3.8\n",
      "OCC version   : 7.7.2\n",
      "Packaged by   : root\n",
      "Web site      : https://gmsh.info\n",
      "Issue tracker : https://gitlab.onelab.info/gmsh/gmsh/issues\n",
      "-------------------------------------------------------\n"
     ]
    },
    {
     "name": "stderr",
     "output_type": "stream",
     "text": [
      "XOpenIM() failed\n",
      "XRequest.18: BadValue 0x0\n",
      "Fontconfig warning: using without calling FcInit()\n"
     ]
    }
   ],
   "source": [
    "openPostProcessor()"
   ]
  },
  {
   "cell_type": "code",
   "execution_count": 8,
   "id": "bee48e70",
   "metadata": {},
   "outputs": [],
   "source": [
    "gmsh.finalize()"
   ]
  }
 ],
 "metadata": {
  "kernelspec": {
   "display_name": "Julia 1.11.7",
   "language": "julia",
   "name": "julia-1.11"
  },
  "language_info": {
   "file_extension": ".jl",
   "mimetype": "application/julia",
   "name": "julia",
   "version": "1.11.7"
  }
 },
 "nbformat": 4,
 "nbformat_minor": 5
}
