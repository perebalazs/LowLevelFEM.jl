{
 "cells": [
  {
   "cell_type": "code",
   "execution_count": 1,
   "id": "343c90a8",
   "metadata": {},
   "outputs": [
    {
     "name": "stderr",
     "output_type": "stream",
     "text": [
      "WARNING: Method definition *(LowLevelFEM.VectorField, LowLevelFEM.VectorField) in module LowLevelFEM at /home/perebal/Dokumentumok/GitHub/LowLevelFEM.jl/src/operators.jl:834 overwritten at /home/perebal/Dokumentumok/GitHub/LowLevelFEM.jl/src/operators.jl:936.\n",
      "ERROR: Method overwriting is not permitted during Module precompilation. Use `__precompile__(false)` to opt-out of precompilation.\n"
     ]
    },
    {
     "name": "stdout",
     "output_type": "stream",
     "text": [
      "Info    : Reading 'convert-plane.geo'...\n",
      "Info    : Meshing 1D...                                                                                                     \n",
      "Info    : [  0%] Meshing curve 1 (Line)\n",
      "Info    : [ 20%] Meshing curve 2 (Line)\n",
      "Info    : [ 30%] Meshing curve 3 (Line)\n",
      "Info    : [ 50%] Meshing curve 4 (Line)\n",
      "Info    : [ 60%] Meshing curve 5 (Line)\n",
      "Info    : [ 80%] Meshing curve 6 (Line)\n",
      "Info    : [ 90%] Meshing curve 7 (Line)\n",
      "Info    : Done meshing 1D (Wall 0.000353077s, CPU 0.000345s)\n",
      "Info    : Meshing 2D...\n",
      "Info    : [  0%] Meshing surface 1 (Transfinite)\n",
      "Info    : [ 60%] Meshing surface 2 (Transfinite)\n",
      "Info    : Done meshing 2D (Wall 0.000116282s, CPU 0.000113s)\n",
      "Info    : 15 nodes 28 elements\n",
      "Info    : Done reading 'convert-plane.geo'\n"
     ]
    }
   ],
   "source": [
    "using LowLevelFEM\n",
    "gmsh.initialize()\n",
    "\n",
    "gmsh.open(\"convert-plane.geo\")"
   ]
  },
  {
   "cell_type": "code",
   "execution_count": 2,
   "id": "93848cb3",
   "metadata": {},
   "outputs": [
    {
     "name": "stdout",
     "output_type": "stream",
     "text": [
      "Info    : RCMK renumbering...\n",
      "Info    : Done RCMK renumbering (bandwidth is now 6)\n"
     ]
    },
    {
     "data": {
      "text/plain": [
       "Problem(\"convert-plane\", :PlaneStress, 2, 2, LowLevelFEM.Material[LowLevelFEM.Material(\"plane1\", :Hooke, 200000.0, 0.3, 7.85e-9, 45.0, 4.2e8, 1.2e-5, 115384.61538461536, 76923.07692307692, 166666.66666666666, 1.0), LowLevelFEM.Material(\"plane2\", :Hooke, 200000.0, 0.3, 7.85e-9, 45.0, 4.2e8, 1.2e-5, 115384.61538461536, 76923.07692307692, 166666.66666666666, 1.0)], 1.0, 15)"
      ]
     },
     "metadata": {},
     "output_type": "display_data"
    }
   ],
   "source": [
    "mat1 = material(\"plane1\")\n",
    "mat2 = material(\"plane2\")\n",
    "\n",
    "prob = Problem([mat1, mat2], type=:PlaneStress)"
   ]
  },
  {
   "cell_type": "code",
   "execution_count": 3,
   "id": "638af149",
   "metadata": {},
   "outputs": [
    {
     "data": {
      "text/plain": [
       "4-element Vector{Matrix{Float64}}:\n",
       " [1.0; 1.5; 1.5; 1.0;;]\n",
       " [1.0; 1.5; 1.5; 1.0;;]\n",
       " [1.5; 2.0; 2.0; 1.5;;]\n",
       " [1.5; 2.0; 2.0; 1.5;;]"
      ]
     },
     "metadata": {},
     "output_type": "display_data"
    },
    {
     "data": {
      "text/plain": []
     },
     "metadata": {},
     "output_type": "display_data"
    }
   ],
   "source": [
    "fx(x, y, z) = x\n",
    "f2 = field(\"plane2\", f=fx)\n",
    "s2 = ScalarField(prob, [f2])"
   ]
  },
  {
   "cell_type": "code",
   "execution_count": null,
   "id": "97644e8d",
   "metadata": {},
   "outputs": [
    {
     "data": {
      "text/plain": [
       "8-element Vector{Matrix{Float64}}:\n",
       " [0.0; 0.5; 0.5; 0.0;;]\n",
       " [0.0; 0.5; 0.5; 0.0;;]\n",
       " [0.5; 1.0; 1.0; 0.5;;]\n",
       " [0.5; 1.0; 1.0; 0.5;;]\n",
       " [1.0; 1.5; 1.5; 1.0;;]\n",
       " [1.0; 1.5; 1.5; 1.0;;]\n",
       " [1.5; 2.0; 2.0; 1.5;;]\n",
       " [1.5; 2.0; 2.0; 1.5;;]"
      ]
     },
     "metadata": {},
     "output_type": "display_data"
    },
    {
     "data": {
      "text/plain": []
     },
     "metadata": {},
     "output_type": "display_data"
    }
   ],
   "source": [
    "fx(x, y, z) = x\n",
    "f1 = field(\"plane1\", f=fx)\n",
    "s1 = ScalarField(prob, [f1, f2])"
   ]
  },
  {
   "cell_type": "code",
   "execution_count": 5,
   "id": "896acad0",
   "metadata": {},
   "outputs": [
    {
     "data": {
      "text/plain": [
       "false"
      ]
     },
     "metadata": {},
     "output_type": "display_data"
    }
   ],
   "source": [
    "isNodal(s1)"
   ]
  },
  {
   "cell_type": "code",
   "execution_count": 6,
   "id": "74d101b1",
   "metadata": {},
   "outputs": [
    {
     "data": {
      "text/plain": [
       "0×0 Matrix{Float64}"
      ]
     },
     "metadata": {},
     "output_type": "display_data"
    }
   ],
   "source": [
    "(s1 * s2).a"
   ]
  },
  {
   "cell_type": "code",
   "execution_count": 7,
   "id": "0ddfe46e",
   "metadata": {},
   "outputs": [
    {
     "data": {
      "text/plain": [
       "4-element Vector{Matrix{Float64}}:\n",
       " [1.0; 2.25; 2.25; 1.0;;]\n",
       " [1.0; 2.25; 2.25; 1.0;;]\n",
       " [2.25; 4.0; 4.0; 2.25;;]\n",
       " [2.25; 4.0; 4.0; 2.25;;]"
      ]
     },
     "metadata": {},
     "output_type": "display_data"
    }
   ],
   "source": [
    "(s1 * s2).A"
   ]
  },
  {
   "cell_type": "code",
   "execution_count": 8,
   "id": "3f63548c",
   "metadata": {},
   "outputs": [
    {
     "data": {
      "text/plain": [
       "4-element Vector{Matrix{Float64}}:\n",
       " [1.0; 2.25; 2.25; 1.0;;]\n",
       " [1.0; 2.25; 2.25; 1.0;;]\n",
       " [2.25; 4.0; 4.0; 2.25;;]\n",
       " [2.25; 4.0; 4.0; 2.25;;]"
      ]
     },
     "metadata": {},
     "output_type": "display_data"
    },
    {
     "data": {
      "text/plain": []
     },
     "metadata": {},
     "output_type": "display_data"
    }
   ],
   "source": [
    "s1 * s2"
   ]
  },
  {
   "cell_type": "code",
   "execution_count": 9,
   "id": "cc93c6ea",
   "metadata": {},
   "outputs": [
    {
     "data": {
      "text/plain": [
       "false"
      ]
     },
     "metadata": {},
     "output_type": "display_data"
    }
   ],
   "source": [
    "isNodal(s1)"
   ]
  },
  {
   "cell_type": "code",
   "execution_count": 10,
   "id": "e392282d",
   "metadata": {},
   "outputs": [
    {
     "data": {
      "text/plain": [
       "8-element Vector{Matrix{Float64}}:\n",
       " [2.0; 3.0; 3.0; 2.0;;]\n",
       " [2.0; 3.0; 3.0; 2.0;;]\n",
       " [3.0; 4.0; 4.0; 3.0;;]\n",
       " [3.0; 4.0; 4.0; 3.0;;]\n",
       " [0.0; 0.5; 0.5; 0.0;;]\n",
       " [0.0; 0.5; 0.5; 0.0;;]\n",
       " [0.5; 1.0; 1.0; 0.5;;]\n",
       " [0.5; 1.0; 1.0; 0.5;;]"
      ]
     },
     "metadata": {},
     "output_type": "display_data"
    },
    {
     "data": {
      "text/plain": []
     },
     "metadata": {},
     "output_type": "display_data"
    }
   ],
   "source": [
    "s1 + s2"
   ]
  },
  {
   "cell_type": "code",
   "execution_count": 11,
   "id": "f40a28d6",
   "metadata": {},
   "outputs": [
    {
     "data": {
      "text/plain": [
       "8-element Vector{Int64}:\n",
       " 25\n",
       " 26\n",
       " 27\n",
       " 28\n",
       " 21\n",
       " 22\n",
       " 23\n",
       " 24"
      ]
     },
     "metadata": {},
     "output_type": "display_data"
    }
   ],
   "source": [
    "(s1 + s2).numElem"
   ]
  },
  {
   "cell_type": "code",
   "execution_count": 12,
   "id": "c386df52",
   "metadata": {},
   "outputs": [
    {
     "data": {
      "text/plain": [
       "15×1 Matrix{Float64}:\n",
       " 0.0\n",
       " 1.0\n",
       " 1.0\n",
       " 0.0\n",
       " 4.0\n",
       " 4.0\n",
       " 0.0\n",
       " 1.0\n",
       " 0.0\n",
       " 0.0\n",
       " 2.25\n",
       " 4.0\n",
       " 2.25\n",
       " 0.0\n",
       " 2.25"
      ]
     },
     "metadata": {},
     "output_type": "display_data"
    },
    {
     "data": {
      "text/plain": []
     },
     "metadata": {},
     "output_type": "display_data"
    }
   ],
   "source": [
    "elementsToNodes(s1 * s2)"
   ]
  },
  {
   "cell_type": "code",
   "execution_count": null,
   "id": "d9b0f079",
   "metadata": {},
   "outputs": [
    {
     "data": {
      "text/plain": [
       "2"
      ]
     },
     "metadata": {},
     "output_type": "display_data"
    }
   ],
   "source": [
    "showElementResults(s1)\n",
    "showElementResults(s2)\n",
    "#showElementResults(s1 * s2)\n",
    "#showDoFResults(s1 * s2)\n",
    "#showElementResults(s2 - s1)"
   ]
  },
  {
   "cell_type": "code",
   "execution_count": 14,
   "id": "68941249",
   "metadata": {},
   "outputs": [
    {
     "name": "stdout",
     "output_type": "stream",
     "text": [
      "-------------------------------------------------------\n",
      "Version       : 4.13.1\n",
      "License       : GNU General Public License\n",
      "Build OS      : Linux64-sdk\n",
      "Build date    : 19700101\n",
      "Build host    : amdci7.julia.csail.mit.edu\n",
      "Build options : 64Bit ALGLIB[contrib] ANN[contrib] Bamg Blossom Cairo DIntegration Dlopen DomHex Eigen[contrib] Fltk GMP Gmm[contrib] Hxt Jpeg Kbipack LinuxJoystick MathEx[contrib] Mesh Metis[contrib] Mmg Mpeg Netgen Nii2mesh ONELAB ONELABMetamodel OpenCASCADE OpenCASCADE-CAF OpenGL OpenMP OptHom Parser Plugins Png Post QuadMeshingTools QuadTri Solver TetGen/BR TinyXML2[contrib] Untangle Voro++[contrib] WinslowUntangler Zlib\n",
      "FLTK version  : 1.3.8\n",
      "OCC version   : 7.7.2\n",
      "Packaged by   : root\n",
      "Web site      : https://gmsh.info\n",
      "Issue tracker : https://gitlab.onelab.info/gmsh/gmsh/issues\n",
      "-------------------------------------------------------\n"
     ]
    },
    {
     "name": "stderr",
     "output_type": "stream",
     "text": [
      "XOpenIM() failed\n",
      "XRequest.18: BadValue 0x0\n",
      "Fontconfig warning: using without calling FcInit()\n"
     ]
    }
   ],
   "source": [
    "openPostProcessor()"
   ]
  },
  {
   "cell_type": "code",
   "execution_count": 15,
   "id": "bee48e70",
   "metadata": {},
   "outputs": [],
   "source": [
    "gmsh.finalize()"
   ]
  }
 ],
 "metadata": {
  "kernelspec": {
   "display_name": "Julia 1.11.7",
   "language": "julia",
   "name": "julia-1.11"
  },
  "language_info": {
   "file_extension": ".jl",
   "mimetype": "application/julia",
   "name": "julia",
   "version": "1.11.7"
  }
 },
 "nbformat": 4,
 "nbformat_minor": 5
}
