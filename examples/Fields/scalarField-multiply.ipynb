{
 "cells": [
  {
   "cell_type": "code",
   "execution_count": 1,
   "id": "343c90a8",
   "metadata": {},
   "outputs": [
    {
     "name": "stdout",
     "output_type": "stream",
     "text": [
      "Info    : Reading 'convert-plane.geo'...\n",
      "Info    : Meshing 1D...                                                                                                     \n",
      "Info    : [  0%] Meshing curve 1 (Line)\n",
      "Info    : [ 20%] Meshing curve 2 (Line)\n",
      "Info    : [ 30%] Meshing curve 3 (Line)\n",
      "Info    : [ 50%] Meshing curve 4 (Line)\n",
      "Info    : [ 60%] Meshing curve 5 (Line)\n",
      "Info    : [ 80%] Meshing curve 6 (Line)\n",
      "Info    : [ 90%] Meshing curve 7 (Line)\n",
      "Info    : Done meshing 1D (Wall 0.000346508s, CPU 0.000348s)\n",
      "Info    : Meshing 2D...\n",
      "Info    : [  0%] Meshing surface 1 (Transfinite)\n",
      "Info    : [ 60%] Meshing surface 2 (Transfinite)\n",
      "Info    : Done meshing 2D (Wall 9.5682e-05s, CPU 9.6e-05s)\n",
      "Info    : 6 nodes 15 elements\n",
      "Info    : Done reading 'convert-plane.geo'\n"
     ]
    }
   ],
   "source": [
    "using LowLevelFEM\n",
    "gmsh.initialize()\n",
    "\n",
    "gmsh.open(\"convert-plane.geo\")"
   ]
  },
  {
   "cell_type": "code",
   "execution_count": 2,
   "id": "93848cb3",
   "metadata": {},
   "outputs": [
    {
     "name": "stdout",
     "output_type": "stream",
     "text": [
      "Info    : RCMK renumbering...\n",
      "Info    : Done RCMK renumbering (bandwidth is now 3)\n"
     ]
    },
    {
     "data": {
      "text/plain": [
       "Problem(\"convert-plane\", :PlaneStress, 2, 2, LowLevelFEM.Material[LowLevelFEM.Material(\"plane1\", :Hooke, 200000.0, 0.3, 7.85e-9, 45.0, 4.2e8, 1.2e-5, 115384.61538461536, 76923.07692307692, 166666.66666666666, 1.0), LowLevelFEM.Material(\"plane2\", :Hooke, 200000.0, 0.3, 7.85e-9, 45.0, 4.2e8, 1.2e-5, 115384.61538461536, 76923.07692307692, 166666.66666666666, 1.0)], 1.0, 6)"
      ]
     },
     "metadata": {},
     "output_type": "display_data"
    }
   ],
   "source": [
    "mat1 = material(\"plane1\")\n",
    "mat2 = material(\"plane2\")\n",
    "\n",
    "prob = Problem([mat1, mat2], type=:PlaneStress)"
   ]
  },
  {
   "cell_type": "code",
   "execution_count": 3,
   "id": "97644e8d",
   "metadata": {},
   "outputs": [
    {
     "data": {
      "text/plain": [
       "1-element Vector{Matrix{Float64}}:\n",
       " [0.0; 1.0; 1.0; 0.0;;]"
      ]
     },
     "metadata": {},
     "output_type": "display_data"
    },
    {
     "data": {
      "text/plain": []
     },
     "metadata": {},
     "output_type": "display_data"
    }
   ],
   "source": [
    "fx(x, y, z) = x\n",
    "f1 = field(\"plane1\", f=fx)\n",
    "s1 = ScalarField(prob, [f1])"
   ]
  },
  {
   "cell_type": "code",
   "execution_count": 4,
   "id": "638af149",
   "metadata": {},
   "outputs": [
    {
     "data": {
      "text/plain": [
       "1-element Vector{Matrix{Float64}}:\n",
       " [1.0; 2.0; 2.0; 1.0;;]"
      ]
     },
     "metadata": {},
     "output_type": "display_data"
    },
    {
     "data": {
      "text/plain": []
     },
     "metadata": {},
     "output_type": "display_data"
    }
   ],
   "source": [
    "f2 = field(\"plane2\", f=fx)\n",
    "s2 = ScalarField(prob, [f2])"
   ]
  },
  {
   "cell_type": "code",
   "execution_count": 5,
   "id": "896acad0",
   "metadata": {},
   "outputs": [
    {
     "data": {
      "text/plain": [
       "false"
      ]
     },
     "metadata": {},
     "output_type": "display_data"
    }
   ],
   "source": [
    "isNodal(s1)"
   ]
  },
  {
   "cell_type": "code",
   "execution_count": 26,
   "id": "74d101b1",
   "metadata": {},
   "outputs": [
    {
     "data": {
      "text/plain": [
       "Matrix{Float64}[]"
      ]
     },
     "metadata": {},
     "output_type": "display_data"
    }
   ],
   "source": [
    "(s1 * s2).A"
   ]
  },
  {
   "cell_type": "code",
   "execution_count": 7,
   "id": "3f63548c",
   "metadata": {},
   "outputs": [
    {
     "ename": "ErrorException",
     "evalue": "isNodal: internal error.",
     "output_type": "error",
     "traceback": [
      "isNodal: internal error.\n",
      "\n",
      "Stacktrace:\n",
      "  [1] error(s::String)\n",
      "    @ Base ./error.jl:35\n",
      "  [2] isNodal(a::ScalarField)\n",
      "    @ LowLevelFEM ~/Dokumentumok/GitHub/LowLevelFEM.jl/src/general.jl:1455\n",
      "  [3] show\n",
      "    @ ~/Dokumentumok/GitHub/LowLevelFEM.jl/src/general.jl:411 [inlined]\n",
      "  [4] show\n",
      "    @ ./multimedia.jl:47 [inlined]\n",
      "  [5] limitstringmime(mime::MIME{Symbol(\"text/plain\")}, x::ScalarField)\n",
      "    @ VSCodeServer.IJuliaCore ~/.vscode/extensions/julialang.language-julia-1.149.2/scripts/packages/IJuliaCore/src/inline.jl:22\n",
      "  [6] display_mimestring(m::MIME{Symbol(\"text/plain\")}, x::ScalarField)\n",
      "    @ VSCodeServer.IJuliaCore ~/.vscode/extensions/julialang.language-julia-1.149.2/scripts/packages/IJuliaCore/src/display.jl:67\n",
      "  [7] display_dict(x::ScalarField)\n",
      "    @ VSCodeServer.IJuliaCore ~/.vscode/extensions/julialang.language-julia-1.149.2/scripts/packages/IJuliaCore/src/display.jl:98\n",
      "  [8] display(::VSCodeServer.JuliaNotebookInlineDisplay, x::ScalarField)\n",
      "    @ VSCodeServer ~/.vscode/extensions/julialang.language-julia-1.149.2/scripts/packages/VSCodeServer/src/notebookdisplay.jl:32\n",
      "  [9] display(x::Any)\n",
      "    @ Base.Multimedia ./multimedia.jl:340\n",
      " [10] #invokelatest#2\n",
      "    @ ./essentials.jl:1055 [inlined]\n",
      " [11] invokelatest\n",
      "    @ ./essentials.jl:1052 [inlined]\n",
      " [12] (::VSCodeServer.var\"#217#218\"{VSCodeServer.NotebookRunCellArguments, String})()\n",
      "    @ VSCodeServer ~/.vscode/extensions/julialang.language-julia-1.149.2/scripts/packages/VSCodeServer/src/serve_notebook.jl:54\n",
      " [13] withpath(f::VSCodeServer.var\"#217#218\"{VSCodeServer.NotebookRunCellArguments, String}, path::String)\n",
      "    @ VSCodeServer ~/.vscode/extensions/julialang.language-julia-1.149.2/scripts/packages/VSCodeServer/src/repl.jl:276\n",
      " [14] notebook_runcell_request(conn::VSCodeServer.JSONRPC.JSONRPCEndpoint{Base.PipeEndpoint, Base.PipeEndpoint, VSCodeServer.JSON.Serializations.StandardSerialization}, params::VSCodeServer.NotebookRunCellArguments, token::VSCodeServer.CancellationTokens.CancellationToken)\n",
      "    @ VSCodeServer ~/.vscode/extensions/julialang.language-julia-1.149.2/scripts/packages/VSCodeServer/src/serve_notebook.jl:13\n",
      " [15] dispatch_msg(x::VSCodeServer.JSONRPC.JSONRPCEndpoint{Base.PipeEndpoint, Base.PipeEndpoint, VSCodeServer.JSON.Serializations.StandardSerialization}, dispatcher::VSCodeServer.JSONRPC.MsgDispatcher, msg::VSCodeServer.JSONRPC.Request)\n",
      "    @ VSCodeServer.JSONRPC ~/.vscode/extensions/julialang.language-julia-1.149.2/scripts/packages/JSONRPC/src/typed.jl:68\n",
      " [16] serve_notebook(pipename::String, debugger_pipename::String, outputchannel_logger::Base.CoreLogging.SimpleLogger; error_handler::var\"#5#10\"{String})\n",
      "    @ VSCodeServer ~/.vscode/extensions/julialang.language-julia-1.149.2/scripts/packages/VSCodeServer/src/serve_notebook.jl:147\n",
      " [17] top-level scope\n",
      "    @ ~/.vscode/extensions/julialang.language-julia-1.149.2/scripts/notebook/notebook.jl:35"
     ]
    }
   ],
   "source": [
    "s1 * s2"
   ]
  },
  {
   "cell_type": "code",
   "execution_count": 8,
   "id": "c386df52",
   "metadata": {},
   "outputs": [
    {
     "data": {
      "text/plain": [
       "6×1 Matrix{Float64}:\n",
       " NaN\n",
       " NaN\n",
       " NaN\n",
       " NaN\n",
       " NaN\n",
       " NaN"
      ]
     },
     "metadata": {},
     "output_type": "display_data"
    },
    {
     "data": {
      "text/plain": []
     },
     "metadata": {},
     "output_type": "display_data"
    }
   ],
   "source": [
    "elementsToNodes(s1 * s2)"
   ]
  },
  {
   "cell_type": "code",
   "execution_count": 9,
   "id": "d9b0f079",
   "metadata": {},
   "outputs": [
    {
     "ename": "ErrorException",
     "evalue": "isElementwise: internal error.",
     "output_type": "error",
     "traceback": [
      "isElementwise: internal error.\n",
      "\n",
      "Stacktrace:\n",
      " [1] error(s::String)\n",
      "   @ Base ./error.jl:35\n",
      " [2] isElementwise(a::ScalarField)\n",
      "   @ LowLevelFEM ~/Dokumentumok/GitHub/LowLevelFEM.jl/src/general.jl:1479\n",
      " [3] showElementResults(F::ScalarField, comp::Symbol; name::Symbol, visible::Bool, smooth::Bool, factor::Int64)\n",
      "   @ LowLevelFEM ~/Dokumentumok/GitHub/LowLevelFEM.jl/src/general.jl:2225\n",
      " [4] showElementResults\n",
      "   @ ~/Dokumentumok/GitHub/LowLevelFEM.jl/src/general.jl:2218 [inlined]\n",
      " [5] #showElementResults#28\n",
      "   @ ~/Dokumentumok/GitHub/LowLevelFEM.jl/src/general.jl:2236 [inlined]\n",
      " [6] showElementResults(q::ScalarField)\n",
      "   @ LowLevelFEM ~/Dokumentumok/GitHub/LowLevelFEM.jl/src/general.jl:2234\n",
      " [7] top-level scope\n",
      "   @ ~/Dokumentumok/GitHub/LowLevelFEM.jl/examples/Fields/jl_notebook_cell_df34fa98e69747e1a8f8a730347b8e2f_X26sZmlsZQ==.jl:3"
     ]
    }
   ],
   "source": [
    "showElementResults(s1)\n",
    "showElementResults(s2)\n",
    "showElementResults(s1 * s2)\n",
    "showDoFResults(s1 * s2)"
   ]
  },
  {
   "cell_type": "code",
   "execution_count": 10,
   "id": "68941249",
   "metadata": {},
   "outputs": [
    {
     "name": "stdout",
     "output_type": "stream",
     "text": [
      "-------------------------------------------------------\n",
      "Version       : 4.13.1\n",
      "License       : GNU General Public License\n",
      "Build OS      : Linux64-sdk\n",
      "Build date    : 19700101\n",
      "Build host    : amdci7.julia.csail.mit.edu\n",
      "Build options : 64Bit ALGLIB[contrib] ANN[contrib] Bamg Blossom Cairo DIntegration Dlopen DomHex Eigen[contrib] Fltk GMP Gmm[contrib] Hxt Jpeg Kbipack LinuxJoystick MathEx[contrib] Mesh Metis[contrib] Mmg Mpeg Netgen Nii2mesh ONELAB ONELABMetamodel OpenCASCADE OpenCASCADE-CAF OpenGL OpenMP OptHom Parser Plugins Png Post QuadMeshingTools QuadTri Solver TetGen/BR TinyXML2[contrib] Untangle Voro++[contrib] WinslowUntangler Zlib\n",
      "FLTK version  : 1.3.8\n",
      "OCC version   : 7.7.2\n",
      "Packaged by   : root\n",
      "Web site      : https://gmsh.info\n",
      "Issue tracker : https://gitlab.onelab.info/gmsh/gmsh/issues\n",
      "-------------------------------------------------------\n"
     ]
    },
    {
     "name": "stderr",
     "output_type": "stream",
     "text": [
      "XOpenIM() failed\n",
      "XRequest.18: BadValue 0x0\n",
      "Fontconfig warning: using without calling FcInit()\n"
     ]
    }
   ],
   "source": [
    "openPostProcessor()"
   ]
  },
  {
   "cell_type": "code",
   "execution_count": 11,
   "id": "bee48e70",
   "metadata": {},
   "outputs": [],
   "source": [
    "gmsh.finalize()"
   ]
  }
 ],
 "metadata": {
  "kernelspec": {
   "display_name": "Julia 1.11.7",
   "language": "julia",
   "name": "julia-1.11"
  },
  "language_info": {
   "file_extension": ".jl",
   "mimetype": "application/julia",
   "name": "julia",
   "version": "1.11.7"
  }
 },
 "nbformat": 4,
 "nbformat_minor": 5
}
