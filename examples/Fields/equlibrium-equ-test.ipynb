{
 "cells": [
  {
   "cell_type": "code",
   "execution_count": 1,
   "id": "3af10513",
   "metadata": {},
   "outputs": [
    {
     "name": "stdout",
     "output_type": "stream",
     "text": [
      "Info    : Reading 'beam.geo'...\n",
      "Info    : Meshing 1D...\n",
      "Info    : [  0%] Meshing curve 1 (Line)\n",
      "Info    : [ 10%] Meshing curve 2 (Line)\n",
      "Info    : [ 20%] Meshing curve 3 (Line)\n",
      "Info    : [ 30%] Meshing curve 4 (Line)\n",
      "Info    : [ 40%] Meshing curve 5 (Line)\n",
      "Info    : [ 50%] Meshing curve 6 (Line)\n",
      "Info    : [ 60%] Meshing curve 7 (Line)\n",
      "Info    : [ 60%] Meshing curve 8 (Line)\n",
      "Info    : [ 70%] Meshing curve 9 (Line)\n",
      "Info    : [ 80%] Meshing curve 10 (Line)\n",
      "Info    : [ 90%] Meshing curve 11 (Line)\n",
      "Info    : [100%] Meshing curve 12 (Line)\n",
      "Info    : Done meshing 1D (Wall 0.00101866s, CPU 0.001018s)\n",
      "Info    : Meshing 2D...\n",
      "Info    : [  0%] Meshing surface 1 (Transfinite)\n",
      "Info    : [ 20%] Meshing surface 2 (Transfinite)\n",
      "Info    : [ 40%] Meshing surface 3 (Transfinite)\n",
      "Info    : [ 60%] Meshing surface 4 (Transfinite)\n",
      "Info    : [ 70%] Meshing surface 5 (Transfinite)\n",
      "Info    : [ 90%] Meshing surface 6 (Transfinite)\n",
      "Info    : Done meshing 2D (Wall 0.000661287s, CPU 0.000548s)\n",
      "Info    : Meshing 3D...\n",
      "Info    : Meshing volume 1 (Transfinite)\n",
      "Info    : Done meshing 3D (Wall 0.00284465s, CPU 0.002843s)\n",
      "Info    : Optimizing mesh...\n",
      "Info    : Done optimizing mesh (Wall 3.2841e-05s, CPU 3.4e-05s)\n",
      "Info    : 1025 nodes 1512 elements\n",
      "Info    : Done reading 'beam.geo'\n"
     ]
    }
   ],
   "source": [
    "using LowLevelFEM\n",
    "gmsh.initialize()\n",
    "gmsh.open(\"beam.geo\")"
   ]
  },
  {
   "cell_type": "code",
   "execution_count": 2,
   "id": "0644c35e",
   "metadata": {},
   "outputs": [
    {
     "name": "stdout",
     "output_type": "stream",
     "text": [
      "Info    : RCMK renumbering...\n",
      "Info    : Done RCMK renumbering (bandwidth is now 70)\n"
     ]
    },
    {
     "data": {
      "text/plain": [
       "Problem(\"beam\", :Solid, 3, 3, LowLevelFEM.Material[LowLevelFEM.Material(\"body\", :Hooke, 200000.0, 0.3, 7.85e-9, 45.0, 4.2e8, 1.2e-5, 115384.61538461536, 76923.07692307692, 166666.66666666666, 1.0)], 1.0, 1025)"
      ]
     },
     "metadata": {},
     "output_type": "display_data"
    }
   ],
   "source": [
    "mat = material(\"body\")\n",
    "problem = Problem([mat])"
   ]
  },
  {
   "cell_type": "code",
   "execution_count": 3,
   "id": "ca758b98",
   "metadata": {},
   "outputs": [
    {
     "data": {
      "text/plain": [
       "LowLevelFEM.VectorField(Matrix{Float64}[], [4.087575115376782e-6; 0.19297463271894813; … ; 0.18573045863216198; -0.0071946810642607864;;], [0.0], Int64[], 1, :u3D, Problem(\"beam\", :Solid, 3, 3, LowLevelFEM.Material[LowLevelFEM.Material(\"body\", :Hooke, 200000.0, 0.3, 7.85e-9, 45.0, 4.2e8, 1.2e-5, 115384.61538461536, 76923.07692307692, 166666.66666666666, 1.0)], 1.0, 1025))"
      ]
     },
     "metadata": {},
     "output_type": "display_data"
    }
   ],
   "source": [
    "force = load(\"right\", fy=1)\n",
    "supp = displacementConstraint(\"left\", ux=0, uy=0, uz=0)\n",
    "\n",
    "u = solveDisplacement(problem, [force], [supp])"
   ]
  },
  {
   "cell_type": "code",
   "execution_count": 4,
   "id": "ac14ba3e",
   "metadata": {},
   "outputs": [
    {
     "data": {
      "text/plain": [
       "1"
      ]
     },
     "metadata": {},
     "output_type": "display_data"
    }
   ],
   "source": [
    "S = solveStress(u)\n",
    "showDoFResults(S, :s)"
   ]
  },
  {
   "cell_type": "code",
   "execution_count": 5,
   "id": "bed12a19",
   "metadata": {},
   "outputs": [
    {
     "data": {
      "text/plain": [
       "LowLevelFEM.VectorField([[1.0274214953515854; 2.4250357083929144; … ; 8.01748813448001; 5.5081584783819615;;], [0.09031659253098723; 3.326980786537831; … ; 8.322219627312673; 5.1366696161088585;;], [0.5171760727644091; 3.5443771628465908; … ; 8.017488134479407; 5.122498149093444;;], [-0.14803358721726748; 2.6632016299506325; … ; 8.154916211025627; 7.225987715418362;;], [-0.0004554187945625991; -0.2589963473747612; … ; 6.2641071959505945; 0.6126874053252942;;], [0.006498924166289643; 0.29182921477481816; … ; 6.235179254315598; 0.6169418414470011;;], [-4.0113421697472015e-14; 0.3119984393655579; … ; 6.264107195950599; 0.6126874053245145;;], [-0.006498924165734554; -0.3584966746846815; … ; 7.2195573948947205; 0.6163217047377779;;], [-0.9730496828387178; 0.17592770927494458; … ; 6.894083924377959; -3.852194685679665;;], [-0.013240614191841082; 0.9283048673683109; … ; 6.9433891314249445; -3.3809256792413347;;]  …  [1.3104051619275122e-12; -0.08880084062534639; … ; 0.06507197376833568; -0.1289532841490815;;], [0.010386614301024152; -0.10759171272389041; … ; 0.06906667026326518; -0.14503397734839485;;], [0.00032686381333947405; -0.12138354318818355; … ; 0.01055695618338881; -0.028874402434838853;;], [0.0002959744580174513; -0.13102656505873064; … ; 0.028671302135706345; -0.0489672063078575;;], [0.012909036698771853; -0.12688496560430823; … ; 0.03216409810859716; -0.04524062744022872;;], [0.008554150303513712; -0.14895001247460352; … ; 0.03599478638993758; -0.012051781695244068;;], [0.012246525779473355; 0.023788010497774792; … ; 0.031750100940616394; -0.14484570469068547;;], [0.009665959898803526; 0.029571074097029824; … ; 0.054753735016537686; -0.16519834598422745;;], [0.01265345346169211; 0.03318162751184561; … ; 0.0526773417976574; -0.16235642579319043;;], [0.002770561830168678; 0.012646557870660841; … ; 0.0438769121585508; -0.1284140969369294;;]], Matrix{Float64}(undef, 0, 0), [0.0], [873, 874, 875, 876, 877, 878, 879, 880, 881, 882  …  1503, 1504, 1505, 1506, 1507, 1508, 1509, 1510, 1511, 1512], 1, :vector, Problem(\"beam\", :Solid, 3, 3, LowLevelFEM.Material[LowLevelFEM.Material(\"body\", :Hooke, 200000.0, 0.3, 7.85e-9, 45.0, 4.2e8, 1.2e-5, 115384.61538461536, 76923.07692307692, 166666.66666666666, 1.0)], 1.0, 1025))"
      ]
     },
     "metadata": {},
     "output_type": "display_data"
    }
   ],
   "source": [
    "using LinearAlgebra\n",
    "b = -S ⋅ ∇"
   ]
  },
  {
   "cell_type": "code",
   "execution_count": 6,
   "id": "01d3cc9b",
   "metadata": {},
   "outputs": [
    {
     "data": {
      "text/plain": [
       "2"
      ]
     },
     "metadata": {},
     "output_type": "display_data"
    }
   ],
   "source": [
    "showDoFResults(b, :vector, visible=true)"
   ]
  },
  {
   "cell_type": "code",
   "execution_count": 7,
   "id": "7e83f112",
   "metadata": {},
   "outputs": [
    {
     "name": "stdout",
     "output_type": "stream",
     "text": [
      "-------------------------------------------------------\n",
      "Version       : 4.13.1\n",
      "License       : GNU General Public License\n",
      "Build OS      : Linux64-sdk\n",
      "Build date    : 19700101\n",
      "Build host    : amdci7.julia.csail.mit.edu\n",
      "Build options : 64Bit ALGLIB[contrib] ANN[contrib] Bamg Blossom Cairo DIntegration Dlopen DomHex Eigen[contrib] Fltk GMP Gmm[contrib] Hxt Jpeg Kbipack LinuxJoystick MathEx[contrib] Mesh Metis[contrib] Mmg Mpeg Netgen Nii2mesh ONELAB ONELABMetamodel OpenCASCADE OpenCASCADE-CAF OpenGL OpenMP OptHom Parser Plugins Png Post QuadMeshingTools QuadTri Solver TetGen/BR TinyXML2[contrib] Untangle Voro++[contrib] WinslowUntangler Zlib\n",
      "FLTK version  : 1.3.8\n",
      "OCC version   : 7.7.2\n",
      "Packaged by   : root\n",
      "Web site      : https://gmsh.info\n",
      "Issue tracker : https://gitlab.onelab.info/gmsh/gmsh/issues\n",
      "-------------------------------------------------------\n"
     ]
    },
    {
     "name": "stderr",
     "output_type": "stream",
     "text": [
      "XOpenIM() failed\n",
      "XRequest.18: BadValue 0x0\n",
      "Fontconfig warning: using without calling FcInit()\n"
     ]
    }
   ],
   "source": [
    "openPostProcessor()"
   ]
  },
  {
   "cell_type": "code",
   "execution_count": 8,
   "id": "d90ba882",
   "metadata": {},
   "outputs": [],
   "source": [
    "gmsh.finalize()"
   ]
  }
 ],
 "metadata": {
  "kernelspec": {
   "display_name": "Julia 1.11.6",
   "language": "julia",
   "name": "julia-1.11"
  },
  "language_info": {
   "file_extension": ".jl",
   "mimetype": "application/julia",
   "name": "julia",
   "version": "1.11.6"
  }
 },
 "nbformat": 4,
 "nbformat_minor": 5
}
