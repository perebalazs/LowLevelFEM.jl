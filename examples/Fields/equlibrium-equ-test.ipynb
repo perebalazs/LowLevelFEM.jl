{
 "cells": [
  {
   "cell_type": "code",
   "execution_count": 2,
   "id": "3af10513",
   "metadata": {},
   "outputs": [
    {
     "name": "stdout",
     "output_type": "stream",
     "text": [
      "Info    : Reading 'beam.geo'...\n",
      "Info    : Meshing 1D...\n",
      "Info    : [  0%] Meshing curve 1 (Line)\n",
      "Info    : [ 10%] Meshing curve 2 (Line)\n",
      "Info    : [ 20%] Meshing curve 3 (Line)\n",
      "Info    : [ 30%] Meshing curve 4 (Line)\n",
      "Info    : [ 40%] Meshing curve 5 (Line)\n",
      "Info    : [ 50%] Meshing curve 6 (Line)\n",
      "Info    : [ 60%] Meshing curve 7 (Line)\n",
      "Info    : [ 60%] Meshing curve 8 (Line)\n",
      "Info    : [ 70%] Meshing curve 9 (Line)\n",
      "Info    : [ 80%] Meshing curve 10 (Line)\n",
      "Info    : [ 90%] Meshing curve 11 (Line)\n",
      "Info    : [100%] Meshing curve 12 (Line)\n",
      "Info    : Done meshing 1D (Wall 0.00392424s, CPU 0.001394s)\n",
      "Info    : Meshing 2D...\n",
      "Info    : [  0%] Meshing surface 1 (Plane, Frontal-Delaunay)\n",
      "Info    : [ 20%] Meshing surface 2 (Plane, Frontal-Delaunay)\n",
      "Info    : [ 40%] Meshing surface 3 (Plane, Frontal-Delaunay)\n",
      "Info    : [ 60%] Meshing surface 4 (Plane, Frontal-Delaunay)\n",
      "Info    : [ 70%] Meshing surface 5 (Plane, Frontal-Delaunay)\n",
      "Info    : [ 90%] Meshing surface 6 (Plane, Frontal-Delaunay)\n",
      "Info    : Done meshing 2D (Wall 0.0132537s, CPU 0.004811s)\n",
      "Info    : Meshing 3D...\n",
      "Info    : 3D Meshing 1 volume with 1 connected component\n",
      "Info    : Tetrahedrizing 86 nodes...\n",
      "Info    : Done tetrahedrizing 94 nodes (Wall 0.00498297s, CPU 0.000279s)\n",
      "Info    : Reconstructing mesh...\n",
      "Info    :  - Creating surface mesh\n",
      "Info    :  - Identifying boundary edges\n",
      "Info    :  - Recovering boundary\n",
      "Info    : Done reconstructing mesh (Wall 0.00822022s, CPU 0.001652s)\n",
      "Info    : Found volume 1\n",
      "Info    : It. 0 - 0 nodes created - worst tet radius 0.906164 (nodes removed 0 0)\n",
      "Info    : 3D refinement terminated (86 nodes total):\n",
      "Info    :  - 0 Delaunay cavities modified for star shapeness\n",
      "Info    :  - 0 nodes could not be inserted\n",
      "Info    :  - 200 tetrahedra created in 1.2982e-05 sec. (15405946 tets/s)\n",
      "Info    : 0 node relocations\n",
      "Info    : Done meshing 3D (Wall 0.0129627s, CPU 0.003906s)\n",
      "Info    : Optimizing mesh...\n",
      "Info    : Optimizing volume 1\n",
      "Info    : Optimization starts (volume = 10000) with worst = 0.343555 / average = 0.618741:\n",
      "Info    : 0.00 < quality < 0.10 :         0 elements\n",
      "Info    : 0.10 < quality < 0.20 :         0 elements\n",
      "Info    : 0.20 < quality < 0.30 :         0 elements\n",
      "Info    : 0.30 < quality < 0.40 :         8 elements\n",
      "Info    : 0.40 < quality < 0.50 :        28 elements\n",
      "Info    : 0.50 < quality < 0.60 :        71 elements\n",
      "Info    : 0.60 < quality < 0.70 :        25 elements\n",
      "Info    : 0.70 < quality < 0.80 :         4 elements\n",
      "Info    : 0.80 < quality < 0.90 :        56 elements\n",
      "Info    : 0.90 < quality < 1.00 :         1 elements\n",
      "Info    : No ill-shaped tets in the mesh :-)\n",
      "Info    : 0.00 < quality < 0.10 :         0 elements\n",
      "Info    : 0.10 < quality < 0.20 :         0 elements\n",
      "Info    : 0.20 < quality < 0.30 :         0 elements\n",
      "Info    : 0.30 < quality < 0.40 :         8 elements\n",
      "Info    : 0.40 < quality < 0.50 :        28 elements\n",
      "Info    : 0.50 < quality < 0.60 :        71 elements\n",
      "Info    : 0.60 < quality < 0.70 :        25 elements\n",
      "Info    : 0.70 < quality < 0.80 :         4 elements\n",
      "Info    : 0.80 < quality < 0.90 :        56 elements\n",
      "Info    : 0.90 < quality < 1.00 :         1 elements\n",
      "Info    : Done optimizing mesh (Wall 0.000386858s, CPU 0.000387s)\n",
      "Info    : Meshing order 2 (curvilinear on)...\n",
      "Info    : [  0%] Meshing curve 1 order 2\n",
      "Info    : [ 10%] Meshing curve 2 order 2\n",
      "Info    : [ 20%] Meshing curve 3 order 2\n",
      "Info    : [ 20%] Meshing curve 4 order 2\n",
      "Info    : [ 30%] Meshing curve 5 order 2\n",
      "Info    : [ 30%] Meshing curve 6 order 2\n",
      "Info    : [ 40%] Meshing curve 7 order 2\n",
      "Info    : [ 40%] Meshing curve 8 order 2\n",
      "Info    : [ 50%] Meshing curve 9 order 2\n",
      "Info    : [ 50%] Meshing curve 10 order 2\n",
      "Info    : [ 60%] Meshing curve 11 order 2\n",
      "Info    : [ 60%] Meshing curve 12 order 2\n",
      "Info    : [ 70%] Meshing surface 1 order 2\n",
      "Info    : [ 70%] Meshing surface 2 order 2\n",
      "Info    : [ 80%] Meshing surface 3 order 2\n",
      "Info    : [ 80%] Meshing surface 4 order 2\n",
      "Info    : [ 90%] Meshing surface 5 order 2\n",
      "Info    : [ 90%] Meshing surface 6 order 2\n",
      "Info    : [100%] Meshing volume 1 order 2\n",
      "Info    : Surface mesh: worst distortion = 1 (0 elements in ]0, 0.2]); worst gamma = 0.828427\n",
      "Info    : Volume mesh: worst distortion = 1 (0 elements in ]0, 0.2])\n",
      "Info    : Done meshing order 2 (Wall 0.0059886s, CPU 0.001933s)\n",
      "Info    : 455 nodes 424 elements\n",
      "Info    : Done reading 'beam.geo'\n"
     ]
    },
    {
     "name": "stderr",
     "output_type": "stream",
     "text": [
      "Warning : Gmsh has aleady been initialized\n"
     ]
    }
   ],
   "source": [
    "using LowLevelFEM\n",
    "gmsh.initialize()\n",
    "gmsh.open(\"beam.geo\")"
   ]
  },
  {
   "cell_type": "code",
   "execution_count": 3,
   "id": "0644c35e",
   "metadata": {},
   "outputs": [
    {
     "name": "stdout",
     "output_type": "stream",
     "text": [
      "Info    : RCMK renumbering...\n",
      "Info    : Done RCMK renumbering (bandwidth is now 106)\n"
     ]
    },
    {
     "data": {
      "text/plain": [
       "Problem(\"beam\", :Solid, 3, 3, LowLevelFEM.Material[LowLevelFEM.Material(\"body\", :Hooke, 200000.0, 0.3, 7.85e-9, 45.0, 4.2e8, 1.2e-5, 115384.61538461536, 76923.07692307692, 166666.66666666666)], 1.0, 455)"
      ]
     },
     "metadata": {},
     "output_type": "display_data"
    }
   ],
   "source": [
    "mat = material(\"body\")\n",
    "problem = Problem([mat])"
   ]
  },
  {
   "cell_type": "code",
   "execution_count": 6,
   "id": "ca758b98",
   "metadata": {},
   "outputs": [
    {
     "data": {
      "text/plain": [
       "LowLevelFEM.VectorField(Matrix{Float64}[], [0.0; 0.0; … ; 0.1914066894554314; -4.4956229122841393e-7;;], [0.0], Int64[], 1, :u3D, Problem(\"beam\", :Solid, 3, 3, LowLevelFEM.Material[LowLevelFEM.Material(\"body\", :Hooke, 200000.0, 0.3, 7.85e-9, 45.0, 4.2e8, 1.2e-5, 115384.61538461536, 76923.07692307692, 166666.66666666666)], 1.0, 455))"
      ]
     },
     "metadata": {},
     "output_type": "display_data"
    }
   ],
   "source": [
    "load = LowLevelFEM.load(\"right\", fy=1)\n",
    "supp = LowLevelFEM.displacementConstraint(\"left\", ux=0, uy=0, uz=0)\n",
    "\n",
    "u = LowLevelFEM.solveDisplacement(problem, [load], [supp])"
   ]
  },
  {
   "cell_type": "code",
   "execution_count": 7,
   "id": "ac14ba3e",
   "metadata": {},
   "outputs": [
    {
     "data": {
      "text/plain": [
       "LowLevelFEM.TensorField([[-0.3486970716341299; 0.04561591740675305; … ; -0.9203269028405417; 21.535124189749908;;], [-0.09681109272721944; -0.07850457275968643; … ; -1.296563302654194; 15.029073162877284;;], [-0.009601950081496113; 0.05489182010881341; … ; -1.5788974683803538; -14.242536008294163;;], [-0.3646007873826269; 0.09122845351626069; … ; -1.616465590033729; 1.0983244787119995;;], [0.09214496771601079; -0.19236063756583813; … ; -1.0433278274039959; -20.815563818786654;;], [0.04927235153402918; -0.02618071455489133; … ; -1.0050045110635009; -0.4159003011102462;;], [0.09309093214541253; 0.07265059658248316; … ; -1.1069607391754317; 11.639884259641896;;], [-0.07640045016840044; -0.02618071455489133; … ; -1.1083645180849262; -0.2848320600479551;;], [0.17300216129642015; 0.007284962207728588; … ; -0.9532847860123554; 0.7199040902873071;;], [-0.28680877632794555; -0.03240655724377014; … ; -0.7907377319720112; -34.05065993660854;;]  …  [0.399351302830369; -0.04356021778220484; … ; -0.340580631363668; 52.47346479615845;;], [0.08321592794702859; 0.2235196438209724; … ; -1.241154695127938; 24.108114801108833;;], [2.467859421668786; -1.8302439972096851; … ; -0.7926171411002513; -28.493468821399834;;], [2.5287628023652253; 1.7561325306424465; … ; -0.6557214040677841; -26.46632135282905;;], [0.6634123003070744; -1.8241131669184167; … ; -0.7476348155554814; -1.0572764685475677;;], [-2.791892057100971; 1.7238373647527199; … ; -0.8810494426090338; 28.42291699535578;;], [0.19870923121185485; -0.020792851221789883; … ; -0.47220041027854254; 1.701620654566081;;], [0.2748335333550306; 0.05966018701393409; … ; -0.8962765572274349; 1.2046379609902427;;], [-0.044841307763395614; 0.020679255586754694; … ; -0.7564245222302635; -1.0803381658245312;;], [0.4346746424362213; -0.26622079106475294; … ; -1.5078288707589753; 0.2436325244804949;;]], Matrix{Float64}(undef, 0, 0), [0.0], [1, 2, 3, 4, 5, 6, 7, 8, 9, 10  …  191, 192, 193, 194, 195, 196, 197, 198, 199, 200], 1, :s, Problem(\"beam\", :Solid, 3, 3, LowLevelFEM.Material[LowLevelFEM.Material(\"body\", :Hooke, 200000.0, 0.3, 7.85e-9, 45.0, 4.2e8, 1.2e-5, 115384.61538461536, 76923.07692307692, 166666.66666666666)], 1.0, 455))"
      ]
     },
     "metadata": {},
     "output_type": "display_data"
    }
   ],
   "source": [
    "S = LowLevelFEM.solveStress(u)"
   ]
  },
  {
   "cell_type": "code",
   "execution_count": 9,
   "id": "bed12a19",
   "metadata": {},
   "outputs": [
    {
     "data": {
      "text/plain": [
       "LowLevelFEM.VectorField([[-0.056957758590683326; 0.30441280774341506; … ; 0.05696444548001933; -0.06888173262133002;;], [0.05285567143842619; 0.04363917471683956; … ; -0.02138435463886669; 0.2504563216844462;;], [0.024613415683301793; -0.11704495207764828; … ; -0.19557296612975084; 0.2526133285587493;;], [0.05472909821831808; -0.18865788431803684; … ; -0.08619377699910898; -0.014306569513593133;;], [-0.04779819802386242; 0.2394456987434327; … ; 0.10177453966427942; 0.13135181477228608;;], [-0.038603072233291666; -0.06328578445381605; … ; -0.17302081499378744; -0.12166132613868876;;], [-0.09860945781497683; 0.053910074593863155; … ; 0.11193014260188588; 0.1976886629517125;;], [0.10107123840538489; 0.1624406872986247; … ; -0.03636990458117817; 0.06966644603848288;;], [-0.13068977355514522; 0.17986370116962846; … ; 0.02622350475126606; 0.13796143571634084;;], [0.07497489341581778; 0.24832680888428005; … ; 0.07350044235126932; -0.759450306470006;;]  …  [-0.24066156290206966; -0.01175194523587396; … ; 0.1474482279322554; 0.2662156479940734;;], [-1.4065541206279737; 0.7515796966053078; … ; 0.0018685474998786922; 0.284310287447024;;], [2.376862583405117; -0.4625700970019567; … ; -0.8814429027234008; -0.5408833192077493;;], [-2.5132877355877534; -0.42415202379635; … ; -0.9906501004507168; -0.9108754367005787;;], [-2.5023089587956466; -0.17520409367861228; … ; -0.9865119584221447; 0.3277603650107692;;], [2.595228921053189; -0.5206116674681819; … ; -0.8580915264539966; 0.649042606581118;;], [-0.08687330547034725; -0.08590009157724321; … ; -0.17829565844374537; 0.1975430150603468;;], [0.09501216682926898; -0.0639088029331138; … ; -0.006382770704632786; 0.21511754140204017;;], [0.14382229877045039; 0.08674238341734991; … ; -0.041181018420513624; -0.11975068092839182;;], [-0.07647565241640801; -0.3951575403046256; … ; 0.09089473238562468; 0.02795638720207383;;]], Matrix{Float64}(undef, 0, 0), [0.0], [1, 2, 3, 4, 5, 6, 7, 8, 9, 10  …  191, 192, 193, 194, 195, 196, 197, 198, 199, 200], 1, :e, Problem(\"beam\", :Solid, 3, 3, LowLevelFEM.Material[LowLevelFEM.Material(\"body\", :Hooke, 200000.0, 0.3, 7.85e-9, 45.0, 4.2e8, 1.2e-5, 115384.61538461536, 76923.07692307692, 166666.66666666666)], 1.0, 455))"
      ]
     },
     "metadata": {},
     "output_type": "display_data"
    }
   ],
   "source": [
    "using LinearAlgebra\n",
    "b = S ⋅ ∇"
   ]
  },
  {
   "cell_type": "code",
   "execution_count": 14,
   "id": "01d3cc9b",
   "metadata": {},
   "outputs": [
    {
     "data": {
      "text/plain": [
       "3"
      ]
     },
     "metadata": {},
     "output_type": "display_data"
    }
   ],
   "source": [
    "LowLevelFEM.showDoFResults(b, :vector, visible=true)"
   ]
  },
  {
   "cell_type": "code",
   "execution_count": 15,
   "id": "7e83f112",
   "metadata": {},
   "outputs": [
    {
     "name": "stdout",
     "output_type": "stream",
     "text": [
      "-------------------------------------------------------\n",
      "Version       : 4.13.1\n",
      "License       : GNU General Public License\n",
      "Build OS      : Linux64-sdk\n",
      "Build date    : 19700101\n",
      "Build host    : amdci7.julia.csail.mit.edu\n",
      "Build options : 64Bit ALGLIB[contrib] ANN[contrib] Bamg Blossom Cairo DIntegration Dlopen DomHex Eigen[contrib] Fltk GMP Gmm[contrib] Hxt Jpeg Kbipack LinuxJoystick MathEx[contrib] Mesh Metis[contrib] Mmg Mpeg Netgen Nii2mesh ONELAB ONELABMetamodel OpenCASCADE OpenCASCADE-CAF OpenGL OpenMP OptHom Parser Plugins Png Post QuadMeshingTools QuadTri Solver TetGen/BR TinyXML2[contrib] Untangle Voro++[contrib] WinslowUntangler Zlib\n",
      "FLTK version  : 1.3.8\n",
      "OCC version   : 7.7.2\n",
      "Packaged by   : root\n",
      "Web site      : https://gmsh.info\n",
      "Issue tracker : https://gitlab.onelab.info/gmsh/gmsh/issues\n",
      "-------------------------------------------------------\n"
     ]
    },
    {
     "name": "stderr",
     "output_type": "stream",
     "text": [
      "XRequest.18: BadValue 0x0\n"
     ]
    }
   ],
   "source": [
    "openPostProcessor()"
   ]
  }
 ],
 "metadata": {
  "kernelspec": {
   "display_name": "Julia 1.11.6",
   "language": "julia",
   "name": "julia-1.11"
  },
  "language_info": {
   "file_extension": ".jl",
   "mimetype": "application/julia",
   "name": "julia",
   "version": "1.11.6"
  }
 },
 "nbformat": 4,
 "nbformat_minor": 5
}
