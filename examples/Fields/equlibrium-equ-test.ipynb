{
 "cells": [
  {
   "cell_type": "code",
   "execution_count": 1,
   "id": "3af10513",
   "metadata": {},
   "outputs": [
    {
     "name": "stdout",
     "output_type": "stream",
     "text": [
      "Info    : Increasing process stack size (8192 kB < 16 MB)\n",
      "Info    : Reading 'beam.geo'...\n",
      "Info    : Meshing 1D...\n",
      "Info    : [  0%] Meshing curve 1 (Line)\n",
      "Info    : [ 10%] Meshing curve 2 (Line)\n",
      "Info    : [ 20%] Meshing curve 3 (Line)\n",
      "Info    : [ 30%] Meshing curve 4 (Line)\n",
      "Info    : [ 40%] Meshing curve 5 (Line)\n",
      "Info    : [ 50%] Meshing curve 6 (Line)\n",
      "Info    : [ 60%] Meshing curve 7 (Line)\n",
      "Info    : [ 60%] Meshing curve 8 (Line)\n",
      "Info    : [ 70%] Meshing curve 9 (Line)\n",
      "Info    : [ 80%] Meshing curve 10 (Line)\n",
      "Info    : [ 90%] Meshing curve 11 (Line)\n",
      "Info    : [100%] Meshing curve 12 (Line)\n",
      "Info    : Done meshing 1D (Wall 0.00113915s, CPU 0.001134s)\n",
      "Info    : Meshing 2D...\n",
      "Info    : [  0%] Meshing surface 1 (Transfinite)\n",
      "Info    : [ 20%] Meshing surface 2 (Transfinite)\n",
      "Info    : [ 40%] Meshing surface 3 (Transfinite)\n",
      "Info    : [ 60%] Meshing surface 4 (Transfinite)\n",
      "Info    : [ 70%] Meshing surface 5 (Transfinite)\n",
      "Info    : [ 90%] Meshing surface 6 (Transfinite)\n",
      "Info    : Done meshing 2D (Wall 0.000605246s, CPU 0.000603s)\n",
      "Info    : Meshing 3D...\n",
      "Info    : Meshing volume 1 (Transfinite)\n",
      "Info    : Done meshing 3D (Wall 0.00301791s, CPU 0.003016s)\n",
      "Info    : Optimizing mesh...\n",
      "Info    : Done optimizing mesh (Wall 2.6617e-05s, CPU 2.7e-05s)\n",
      "Info    : Meshing order 2 (curvilinear on)...\n",
      "Info    : [  0%] Meshing curve 1 order 2\n",
      "Info    : [ 10%] Meshing curve 2 order 2\n",
      "Info    : [ 20%] Meshing curve 3 order 2\n",
      "Info    : [ 20%] Meshing curve 4 order 2\n",
      "Info    : [ 30%] Meshing curve 5 order 2\n",
      "Info    : [ 30%] Meshing curve 6 order 2\n",
      "Info    : [ 40%] Meshing curve 7 order 2\n",
      "Info    : [ 40%] Meshing curve 8 order 2\n",
      "Info    : [ 50%] Meshing curve 9 order 2\n",
      "Info    : [ 50%] Meshing curve 10 order 2\n",
      "Info    : [ 60%] Meshing curve 11 order 2\n",
      "Info    : [ 60%] Meshing curve 12 order 2\n",
      "Info    : [ 70%] Meshing surface 1 order 2\n",
      "Info    : [ 70%] Meshing surface 2 order 2\n",
      "Info    : [ 80%] Meshing surface 3 order 2\n",
      "Info    : [ 80%] Meshing surface 4 order 2\n",
      "Info    : [ 90%] Meshing surface 5 order 2\n",
      "Info    : [ 90%] Meshing surface 6 order 2\n",
      "Info    : [100%] Meshing volume 1 order 2\n",
      "Info    : Done meshing order 2 (Wall 0.0153035s, CPU 0.015299s)\n",
      "Info    : 6561 nodes 1512 elements\n",
      "Info    : Done reading 'beam.geo'\n"
     ]
    }
   ],
   "source": [
    "using LowLevelFEM\n",
    "gmsh.initialize()\n",
    "gmsh.open(\"beam.geo\")"
   ]
  },
  {
   "cell_type": "code",
   "execution_count": 2,
   "id": "0644c35e",
   "metadata": {},
   "outputs": [
    {
     "name": "stdout",
     "output_type": "stream",
     "text": [
      "Info    : RCMK renumbering...\n",
      "Info    : Done RCMK renumbering (bandwidth is now 386)\n"
     ]
    },
    {
     "data": {
      "text/plain": [
       "Problem(\"beam\", :Solid, 3, 3, LowLevelFEM.Material[LowLevelFEM.Material(\"body\", :Hooke, 200000.0, 0.3, 7.85e-9, 45.0, 4.2e8, 1.2e-5, 115384.61538461536, 76923.07692307692, 166666.66666666666)], 1.0, 6561)"
      ]
     },
     "metadata": {},
     "output_type": "display_data"
    }
   ],
   "source": [
    "mat = material(\"body\")\n",
    "problem = Problem([mat])"
   ]
  },
  {
   "cell_type": "code",
   "execution_count": 3,
   "id": "ca758b98",
   "metadata": {},
   "outputs": [
    {
     "data": {
      "text/plain": [
       "LowLevelFEM.VectorField(Matrix{Float64}[], [1.6389009743089854e-6; 0.20004210307818365; … ; 0.19628232556138697; -0.011188675432254415;;], [0.0], Int64[], 1, :u3D, Problem(\"beam\", :Solid, 3, 3, LowLevelFEM.Material[LowLevelFEM.Material(\"body\", :Hooke, 200000.0, 0.3, 7.85e-9, 45.0, 4.2e8, 1.2e-5, 115384.61538461536, 76923.07692307692, 166666.66666666666)], 1.0, 6561))"
      ]
     },
     "metadata": {},
     "output_type": "display_data"
    }
   ],
   "source": [
    "force = load(\"right\", fy=1)\n",
    "supp = displacementConstraint(\"left\", ux=0, uy=0, uz=0)\n",
    "\n",
    "u = solveDisplacement(problem, [force], [supp])"
   ]
  },
  {
   "cell_type": "code",
   "execution_count": 4,
   "id": "ac14ba3e",
   "metadata": {},
   "outputs": [
    {
     "data": {
      "text/plain": [
       "1"
      ]
     },
     "metadata": {},
     "output_type": "display_data"
    }
   ],
   "source": [
    "S = solveStress(u)\n",
    "showDoFResults(S, :s)"
   ]
  },
  {
   "cell_type": "code",
   "execution_count": 5,
   "id": "bed12a19",
   "metadata": {},
   "outputs": [
    {
     "data": {
      "text/plain": [
       "LowLevelFEM.VectorField([[-2.1418057405500828; 0.6266145625554744; … ; -1.4045892792375023; -1.006823084960647;;], [0.18299679891357493; 2.320600452454583; … ; -1.4176308638051391; -0.20860368049641323;;], [-0.00994940119091936; 2.7437964991665167; … ; -1.4176308638020048; -0.20860368049413136;;], [-2.6529044261718795; 2.7239397926625344; … ; -1.4045892792290344; -1.0068230849522062;;], [0.11043151563109825; -2.4705137097839014; … ; 0.0696623411922021; -0.10226493579187057;;], [0.05936141446873275; -0.44338908732759585; … ; 0.17687182928552297; 0.32531426942417346;;], [4.2826357174832926e-13; 0.06945218173702927; … ; 0.17687182928443668; 0.32531426942153263;;], [-0.05936141445945784; 0.06331186955634927; … ; 0.06966234118759276; -0.10226493579148233;;], [2.00167458015892; -2.529695953468164; … ; 0.06966234119008713; 0.10226493578958062;;], [-0.014700804566061392; -0.6598102693260809; … ; 0.17687182928498674; -0.3253142694212335;;]  …  [-1.96863052023545e-11; -0.2765575657448254; … ; 0.046980980478965664; 0.005731736221227884;;], [0.021436729529520235; -0.3254130909415869; … ; 0.03238509241667742; 0.008064750230448694;;], [-0.18404748028999462; -0.6100614519302072; … ; 0.03238509241640092; -0.008064750227738348;;], [0.012387305606569421; -0.7239451190511453; … ; 0.04698098048465302; -0.005731736231932623;;], [0.047129597159934034; -0.758450206412529; … ; 0.046980980521394926; -0.005731736219349043;;], [0.04779394954032351; -0.794973203332445; … ; 0.0323850923554937; -0.00806475022807529;;], [-0.002028684605426448; 0.1547802336424985; … ; 0.0022564076212253387; -0.025288230315247004;;], [-0.0006607226611686223; 0.2956476845705081; … ; 0.0013941644068849008; -0.023889455362530152;;], [0.04472008194892829; 0.32036933740178514; … ; 0.0013941644062345276; -0.02388945536368755;;], [0.005496309349499198; 0.3345231898251446; … ; 0.0022564076346056018; -0.02528823030786119;;]], Matrix{Float64}(undef, 0, 0), [0.0], [873, 874, 875, 876, 877, 878, 879, 880, 881, 882  …  1503, 1504, 1505, 1506, 1507, 1508, 1509, 1510, 1511, 1512], 1, :vector, Problem(\"beam\", :Solid, 3, 3, LowLevelFEM.Material[LowLevelFEM.Material(\"body\", :Hooke, 200000.0, 0.3, 7.85e-9, 45.0, 4.2e8, 1.2e-5, 115384.61538461536, 76923.07692307692, 166666.66666666666)], 1.0, 6561))"
      ]
     },
     "metadata": {},
     "output_type": "display_data"
    }
   ],
   "source": [
    "using LinearAlgebra\n",
    "b = -S ⋅ ∇"
   ]
  },
  {
   "cell_type": "code",
   "execution_count": 6,
   "id": "01d3cc9b",
   "metadata": {},
   "outputs": [
    {
     "data": {
      "text/plain": [
       "2"
      ]
     },
     "metadata": {},
     "output_type": "display_data"
    }
   ],
   "source": [
    "showDoFResults(b, :vector, visible=true)"
   ]
  },
  {
   "cell_type": "code",
   "execution_count": 7,
   "id": "7e83f112",
   "metadata": {},
   "outputs": [
    {
     "name": "stdout",
     "output_type": "stream",
     "text": [
      "-------------------------------------------------------\n",
      "Version       : 4.13.1\n",
      "License       : GNU General Public License\n",
      "Build OS      : Linux64-sdk\n",
      "Build date    : 19700101\n",
      "Build host    : amdci7.julia.csail.mit.edu\n",
      "Build options : 64Bit ALGLIB[contrib] ANN[contrib] Bamg Blossom Cairo DIntegration Dlopen DomHex Eigen[contrib] Fltk GMP Gmm[contrib] Hxt Jpeg Kbipack LinuxJoystick MathEx[contrib] Mesh Metis[contrib] Mmg Mpeg Netgen Nii2mesh ONELAB ONELABMetamodel OpenCASCADE OpenCASCADE-CAF OpenGL OpenMP OptHom Parser Plugins Png Post QuadMeshingTools QuadTri Solver TetGen/BR TinyXML2[contrib] Untangle Voro++[contrib] WinslowUntangler Zlib\n",
      "FLTK version  : 1.3.8\n",
      "OCC version   : 7.7.2\n",
      "Packaged by   : root\n",
      "Web site      : https://gmsh.info\n",
      "Issue tracker : https://gitlab.onelab.info/gmsh/gmsh/issues\n",
      "-------------------------------------------------------\n"
     ]
    },
    {
     "name": "stderr",
     "output_type": "stream",
     "text": [
      "XOpenIM() failed\n",
      "XRequest.18: BadValue 0x0\n",
      "Fontconfig warning: using without calling FcInit()\n"
     ]
    }
   ],
   "source": [
    "openPostProcessor()"
   ]
  },
  {
   "cell_type": "code",
   "execution_count": 8,
   "id": "d90ba882",
   "metadata": {},
   "outputs": [],
   "source": [
    "gmsh.finalize()"
   ]
  }
 ],
 "metadata": {
  "kernelspec": {
   "display_name": "Julia 1.11.6",
   "language": "julia",
   "name": "julia-1.11"
  },
  "language_info": {
   "file_extension": ".jl",
   "mimetype": "application/julia",
   "name": "julia",
   "version": "1.11.6"
  }
 },
 "nbformat": 4,
 "nbformat_minor": 5
}
