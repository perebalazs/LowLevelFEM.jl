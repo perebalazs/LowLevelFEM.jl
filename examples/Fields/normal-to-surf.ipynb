{
 "cells": [
  {
   "cell_type": "code",
   "execution_count": 1,
   "id": "86951025",
   "metadata": {},
   "outputs": [
    {
     "name": "stdout",
     "output_type": "stream",
     "text": [
      "Info    : Reading 'cube1.geo'...\n",
      "Info    : Meshing 1D...\n",
      "Info    : [  0%] Meshing curve 1 (Line)\n",
      "Info    : [ 10%] Meshing curve 2 (Line)\n",
      "Info    : [ 20%] Meshing curve 3 (Line)\n",
      "Info    : [ 30%] Meshing curve 4 (Line)\n",
      "Info    : [ 40%] Meshing curve 5 (Line)\n",
      "Info    : [ 50%] Meshing curve 6 (Line)\n",
      "Info    : [ 60%] Meshing curve 7 (Line)\n",
      "Info    : [ 60%] Meshing curve 8 (Line)\n",
      "Info    : [ 70%] Meshing curve 9 (Line)\n",
      "Info    : [ 80%] Meshing curve 10 (Line)\n",
      "Info    : [ 90%] Meshing curve 11 (Line)\n",
      "Info    : [100%] Meshing curve 12 (Line)\n",
      "Info    : Done meshing 1D (Wall 0.000906933s, CPU 0.000895s)\n",
      "Info    : Meshing 2D...\n",
      "Info    : [  0%] Meshing surface 1 (Transfinite)\n",
      "Info    : [ 20%] Meshing surface 2 (Transfinite)\n",
      "Info    : [ 40%] Meshing surface 3 (Transfinite)\n",
      "Info    : [ 60%] Meshing surface 4 (Transfinite)\n",
      "Info    : [ 70%] Meshing surface 5 (Transfinite)\n",
      "Info    : [ 90%] Meshing surface 6 (Transfinite)\n",
      "Info    : Done meshing 2D (Wall 0.000290384s, CPU 0.000258s)\n",
      "Info    : Meshing 3D...\n",
      "Info    : Meshing volume 1 (Transfinite)\n",
      "Info    : Done meshing 3D (Wall 0.000153007s, CPU 0.000153s)\n",
      "Info    : Optimizing mesh...\n",
      "Info    : Done optimizing mesh (Wall 1.757e-06s, CPU 2e-06s)\n",
      "Info    : 27 nodes 64 elements\n",
      "Info    : Done reading 'cube1.geo'\n"
     ]
    }
   ],
   "source": [
    "using LowLevelFEM\n",
    "gmsh.initialize()\n",
    "\n",
    "gmsh.open(\"cube1.geo\")"
   ]
  },
  {
   "cell_type": "code",
   "execution_count": 2,
   "id": "f40649ec",
   "metadata": {},
   "outputs": [
    {
     "name": "stdout",
     "output_type": "stream",
     "text": [
      "Info    : RCMK renumbering...\n",
      "Info    : Done RCMK renumbering (bandwidth is now 19)\n"
     ]
    },
    {
     "data": {
      "text/plain": [
       "Problem(\"cube1\", :Solid, 3, 3, LowLevelFEM.Material[LowLevelFEM.Material(\"cube\", :Hooke, 200000.0, 0.3, 7.85e-9, 45.0, 4.2e8, 1.2e-5, 115384.61538461536, 76923.07692307692, 166666.66666666666, 1.0)], 1.0, 27)"
      ]
     },
     "metadata": {},
     "output_type": "display_data"
    }
   ],
   "source": [
    "mat = material(\"cube\")\n",
    "prob = Problem([mat])"
   ]
  },
  {
   "cell_type": "code",
   "execution_count": 3,
   "id": "b4c8899e",
   "metadata": {},
   "outputs": [
    {
     "data": {
      "text/plain": [
       "normalVector (generic function with 1 method)"
      ]
     },
     "metadata": {},
     "output_type": "display_data"
    }
   ],
   "source": [
    "function normalVector(problem, phName)\n",
    "    gmsh.model.setCurrent(problem.name)\n",
    "    dim = problem.dim\n",
    "    non = problem.non\n",
    "    field = zeros(non * dim)\n",
    "    ncoord2 = zeros(3 * problem.non)\n",
    "    numElem = Int[]\n",
    "    normalvectors = []\n",
    "\n",
    "    dimTags = gmsh.model.getEntitiesForPhysicalName(phName)\n",
    "    for idm in 1:length(dimTags)\n",
    "        dimTag = dimTags[idm]\n",
    "        edim = dimTag[1]\n",
    "        etag = dimTag[2]\n",
    "        if edim != 2\n",
    "            error(\"normalVector: physical group is not a surface.\")\n",
    "        end\n",
    "        elemTypes, elemTags, elemNodeTags = gmsh.model.mesh.getElements(edim, etag)\n",
    "        nodeTags, ncoord, parametricCoord = gmsh.model.mesh.getNodes(edim, etag, true, false)\n",
    "        ncoord2[nodeTags*3 .- 2] = ncoord[1:3:length(ncoord)]\n",
    "        ncoord2[nodeTags*3 .- 1] = ncoord[2:3:length(ncoord)]\n",
    "        ncoord2[nodeTags*3 .- 0] = ncoord[3:3:length(ncoord)]\n",
    "        for i in 1:length(elemTypes)\n",
    "            et = elemTypes[i]\n",
    "            elementName, eldim, order, numNodes::Int64, localNodeCoord, numPrimaryNodes = gmsh.model.mesh.getElementProperties(et)\n",
    "            localNodeCoord2 = zeros(length(localNodeCoord) ÷ 2 * 3)\n",
    "            localNodeCoord2[1:3:length(localNodeCoord2)] .= localNodeCoord[1:2:length(localNodeCoord)]\n",
    "            localNodeCoord2[2:3:length(localNodeCoord2)] .= localNodeCoord[2:2:length(localNodeCoord)]\n",
    "            comp, fun, ori = gmsh.model.mesh.getBasisFunctions(et, localNodeCoord2, \"Lagrange\")\n",
    "            h = reshape(fun, :, numNodes)\n",
    "            comp3, dfun, ori = gmsh.model.mesh.getBasisFunctions(et, localNodeCoord2, \"GradLagrange\")\n",
    "            ∇h = reshape(dfun, :, numNodes)\n",
    "            nnet = zeros(Int, length(elemTags[i]), numNodes)\n",
    "            nn2 = zeros(Int, dim * numNodes)\n",
    "            vx = zeros(numNodes)\n",
    "            vy = zeros(numNodes)\n",
    "            vz = zeros(numNodes)\n",
    "            normvec = zeros(3numNodes)\n",
    "            for j in 1:length(elemTags[i])\n",
    "                elem = elemTags[i][j]\n",
    "                for k in 1:numNodes\n",
    "                    nnet[j, k] = elemNodeTags[i][(j-1)*numNodes+k]\n",
    "                end\n",
    "                for k in 1:numNodes\n",
    "                    v1x = ∇h[1:3:size(∇h,1), k]' * ncoord2[nnet[j, :] * 3 .- 2]\n",
    "                    v1y = ∇h[1:3:size(∇h,1), k]' * ncoord2[nnet[j, :] * 3 .- 1]\n",
    "                    v1z = ∇h[1:3:size(∇h,1), k]' * ncoord2[nnet[j, :] * 3 .- 0]\n",
    "                    v2x = ∇h[2:3:size(∇h,1), k]' * ncoord2[nnet[j, :] * 3 .- 2]\n",
    "                    v2y = ∇h[2:3:size(∇h,1), k]' * ncoord2[nnet[j, :] * 3 .- 1]\n",
    "                    v2z = ∇h[2:3:size(∇h,1), k]' * ncoord2[nnet[j, :] * 3 .- 0]\n",
    "                    vx[k] = v1y * v2z - v1z * v2y\n",
    "                    vy[k] = v1z * v2x - v1x * v2z\n",
    "                    vz[k] = v1x * v2y - v1y * v2x\n",
    "                    v = √(vx[k]^2 + vy[k]^2 + vz[k]^2)\n",
    "                    vx[k] ./= v\n",
    "                    vy[k] ./= v\n",
    "                    vz[k] ./= v\n",
    "                end\n",
    "                normvec[1:3:3numNodes] .= vx\n",
    "                normvec[2:3:3numNodes] .= vy\n",
    "                normvec[3:3:3numNodes] .= vz\n",
    "                push!(numElem, elem)\n",
    "                push!(normalvectors, reshape(normvec,:,1))\n",
    "                #display(\"normvec = $normvec\")\n",
    "                #for k in 1:numNodes, l in 1:numNodes\n",
    "                #    display(∇h[l*dim-(dim-1):l*dim-(dim-dim), k])\n",
    "                #end\n",
    "            end\n",
    "        end\n",
    "    end\n",
    "    return LowLevelFEM.VectorField(normalvectors, [;;], [0.0], numElem, 1, :v3D, problem)\n",
    "end"
   ]
  },
  {
   "cell_type": "code",
   "execution_count": 4,
   "id": "e37c6745",
   "metadata": {},
   "outputs": [
    {
     "ename": "MethodError",
     "evalue": "MethodError: no method matching copyto!(::Float64, ::Base.Broadcast.Broadcasted{Base.Broadcast.DefaultArrayStyle{0}, Tuple{}, typeof(/), Tuple{Float64, Float64}})\nThe function `copyto!` exists, but no method is defined for this combination of argument types.\n\nClosest candidates are:\n  copyto!(!Matched::AbstractArray, ::Base.Broadcast.Broadcasted{<:Base.Broadcast.AbstractArrayStyle{0}})\n   @ Base broadcast.jl:928\n  copyto!(!Matched::AbstractArray, ::Base.Broadcast.Broadcasted)\n   @ Base broadcast.jl:925\n  copyto!(!Matched::AbstractArray, ::Any)\n   @ Base abstractarray.jl:931\n  ...\n",
     "output_type": "error",
     "traceback": [
      "MethodError: no method matching copyto!(::Float64, ::Base.Broadcast.Broadcasted{Base.Broadcast.DefaultArrayStyle{0}, Tuple{}, typeof(/), Tuple{Float64, Float64}})\n",
      "The function `copyto!` exists, but no method is defined for this combination of argument types.\n",
      "\n",
      "Closest candidates are:\n",
      "  copyto!(!Matched::AbstractArray, ::Base.Broadcast.Broadcasted{<:Base.Broadcast.AbstractArrayStyle{0}})\n",
      "   @ Base broadcast.jl:928\n",
      "  copyto!(!Matched::AbstractArray, ::Base.Broadcast.Broadcasted)\n",
      "   @ Base broadcast.jl:925\n",
      "  copyto!(!Matched::AbstractArray, ::Any)\n",
      "   @ Base abstractarray.jl:931\n",
      "  ...\n",
      "\n",
      "\n",
      "Stacktrace:\n",
      " [1] materialize!\n",
      "   @ ./broadcast.jl:883 [inlined]\n",
      " [2] materialize!\n",
      "   @ ./broadcast.jl:880 [inlined]\n",
      " [3] normalVector(problem::Problem, phName::String)\n",
      "   @ Main ~/Dokumentumok/GitHub/LowLevelFEM.jl/examples/Fields/jl_notebook_cell_df34fa98e69747e1a8f8a730347b8e2f_W2sZmlsZQ==.jl:55\n",
      " [4] top-level scope\n",
      "   @ ~/Dokumentumok/GitHub/LowLevelFEM.jl/examples/Fields/jl_notebook_cell_df34fa98e69747e1a8f8a730347b8e2f_W3sZmlsZQ==.jl:1"
     ]
    }
   ],
   "source": [
    "n = normalVector(prob, \"bottom\")"
   ]
  },
  {
   "cell_type": "code",
   "execution_count": 5,
   "id": "2fecb510",
   "metadata": {},
   "outputs": [
    {
     "ename": "UndefVarError",
     "evalue": "UndefVarError: `n` not defined in `Main`\nSuggestion: check for spelling errors or missing imports.",
     "output_type": "error",
     "traceback": [
      "UndefVarError: `n` not defined in `Main`\n",
      "Suggestion: check for spelling errors or missing imports.\n",
      "\n",
      "Stacktrace:\n",
      " [1] top-level scope\n",
      "   @ ~/Dokumentumok/GitHub/LowLevelFEM.jl/examples/Fields/jl_notebook_cell_df34fa98e69747e1a8f8a730347b8e2f_W4sZmlsZQ==.jl:1"
     ]
    }
   ],
   "source": [
    "showElementResults(n, visible=true)"
   ]
  },
  {
   "cell_type": "code",
   "execution_count": 6,
   "id": "33b17567",
   "metadata": {},
   "outputs": [
    {
     "name": "stdout",
     "output_type": "stream",
     "text": [
      "-------------------------------------------------------\n",
      "Version       : 4.13.1\n",
      "License       : GNU General Public License\n",
      "Build OS      : Linux64-sdk\n",
      "Build date    : 19700101\n",
      "Build host    : amdci7.julia.csail.mit.edu\n",
      "Build options : 64Bit ALGLIB[contrib] ANN[contrib] Bamg Blossom Cairo DIntegration Dlopen DomHex Eigen[contrib] Fltk GMP Gmm[contrib] Hxt Jpeg Kbipack LinuxJoystick MathEx[contrib] Mesh Metis[contrib] Mmg Mpeg Netgen Nii2mesh ONELAB ONELABMetamodel OpenCASCADE OpenCASCADE-CAF OpenGL OpenMP OptHom Parser Plugins Png Post QuadMeshingTools QuadTri Solver TetGen/BR TinyXML2[contrib] Untangle Voro++[contrib] WinslowUntangler Zlib\n",
      "FLTK version  : 1.3.8\n",
      "OCC version   : 7.7.2\n",
      "Packaged by   : root\n",
      "Web site      : https://gmsh.info\n",
      "Issue tracker : https://gitlab.onelab.info/gmsh/gmsh/issues\n",
      "-------------------------------------------------------\n"
     ]
    },
    {
     "name": "stderr",
     "output_type": "stream",
     "text": [
      "XOpenIM() failed\n",
      "XRequest.18: BadValue 0x0\n",
      "Fontconfig warning: using without calling FcInit()\n"
     ]
    }
   ],
   "source": [
    "openPostProcessor()"
   ]
  },
  {
   "cell_type": "code",
   "execution_count": 7,
   "id": "cd9ab71a",
   "metadata": {},
   "outputs": [],
   "source": [
    "gmsh.finalize()"
   ]
  }
 ],
 "metadata": {
  "kernelspec": {
   "display_name": "Julia 1.11.7",
   "language": "julia",
   "name": "julia-1.11"
  },
  "language_info": {
   "file_extension": ".jl",
   "mimetype": "application/julia",
   "name": "julia",
   "version": "1.11.7"
  }
 },
 "nbformat": 4,
 "nbformat_minor": 5
}
