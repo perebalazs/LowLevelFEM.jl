{
 "cells": [
  {
   "cell_type": "code",
   "execution_count": 1,
   "id": "45ff0366",
   "metadata": {},
   "outputs": [
    {
     "name": "stdout",
     "output_type": "stream",
     "text": [
      "Info    : Reading 'cube1.geo'...\n",
      "Info    : Meshing 1D...\n",
      "Info    : [  0%] Meshing curve 1 (Line)\n",
      "Info    : [ 10%] Meshing curve 2 (Line)\n",
      "Info    : [ 20%] Meshing curve 3 (Line)\n",
      "Info    : [ 30%] Meshing curve 4 (Line)\n",
      "Info    : [ 40%] Meshing curve 5 (Line)\n",
      "Info    : [ 50%] Meshing curve 6 (Line)\n",
      "Info    : [ 60%] Meshing curve 7 (Line)\n",
      "Info    : [ 60%] Meshing curve 8 (Line)\n",
      "Info    : [ 70%] Meshing curve 9 (Line)\n",
      "Info    : [ 80%] Meshing curve 10 (Line)\n",
      "Info    : [ 90%] Meshing curve 11 (Line)\n",
      "Info    : [100%] Meshing curve 12 (Line)\n",
      "Info    : Done meshing 1D (Wall 0.00114974s, CPU 0.001141s)\n",
      "Info    : Meshing 2D...\n",
      "Info    : [  0%] Meshing surface 1 (Transfinite)\n",
      "Info    : [ 20%] Meshing surface 2 (Transfinite)\n",
      "Info    : [ 40%] Meshing surface 3 (Transfinite)\n",
      "Info    : [ 60%] Meshing surface 4 (Transfinite)\n",
      "Info    : [ 70%] Meshing surface 5 (Transfinite)\n",
      "Info    : [ 90%] Meshing surface 6 (Transfinite)\n",
      "Info    : Done meshing 2D (Wall 0.000335856s, CPU 0s)\n",
      "Info    : Meshing 3D...\n",
      "Info    : Meshing volume 1 (Transfinite)\n",
      "Info    : Done meshing 3D (Wall 0.000215702s, CPU 0s)\n",
      "Info    : Optimizing mesh...\n",
      "Info    : Done optimizing mesh (Wall 2.657e-06s, CPU 0s)\n",
      "Info    : 27 nodes 64 elements\n",
      "Info    : Done reading 'cube1.geo'\n"
     ]
    }
   ],
   "source": [
    "using LowLevelFEM, LinearAlgebra\n",
    "gmsh.initialize()\n",
    "\n",
    "gmsh.open(\"cube1.geo\")"
   ]
  },
  {
   "cell_type": "code",
   "execution_count": null,
   "id": "4bc7d62d",
   "metadata": {},
   "outputs": [],
   "source": [
    "mat = material(\"cube\")\n",
    "prob = Problem([mat])"
   ]
  },
  {
   "cell_type": "code",
   "execution_count": null,
   "id": "4c1244f6",
   "metadata": {},
   "outputs": [],
   "source": [
    "load1 = load(\"cube\", fx=1)"
   ]
  },
  {
   "cell_type": "code",
   "execution_count": null,
   "id": "27dda897",
   "metadata": {},
   "outputs": [],
   "source": [
    "f1 = loadVector(prob, [load1])"
   ]
  },
  {
   "cell_type": "code",
   "execution_count": null,
   "id": "3d60e207",
   "metadata": {},
   "outputs": [],
   "source": [
    "sum(f1.a)"
   ]
  },
  {
   "cell_type": "code",
   "execution_count": null,
   "id": "39804cd9",
   "metadata": {},
   "outputs": [],
   "source": [
    "fld = field(\"cube\", f=1)\n",
    "s1 = scalarField(prob, [fld])"
   ]
  },
  {
   "cell_type": "code",
   "execution_count": null,
   "id": "7950ad33",
   "metadata": {},
   "outputs": [],
   "source": [
    "load2 = load(\"cube\", fx=s1)"
   ]
  },
  {
   "cell_type": "code",
   "execution_count": null,
   "id": "ce46c2c8",
   "metadata": {},
   "outputs": [],
   "source": [
    "f2 = loadVector(prob, [load2])"
   ]
  },
  {
   "cell_type": "code",
   "execution_count": null,
   "id": "99fad8f2",
   "metadata": {},
   "outputs": [],
   "source": [
    "sum(f2.a)"
   ]
  },
  {
   "cell_type": "code",
   "execution_count": null,
   "id": "8df55368",
   "metadata": {},
   "outputs": [],
   "source": [
    "f1 - f2"
   ]
  },
  {
   "cell_type": "code",
   "execution_count": null,
   "id": "f599ec46",
   "metadata": {},
   "outputs": [],
   "source": [
    "load3 = load(\"left\", fx=s1);"
   ]
  },
  {
   "cell_type": "code",
   "execution_count": null,
   "id": "87410921",
   "metadata": {},
   "outputs": [],
   "source": [
    "f3 = loadVector(prob, [load3])"
   ]
  },
  {
   "cell_type": "code",
   "execution_count": null,
   "id": "f69aa8f4",
   "metadata": {},
   "outputs": [],
   "source": [
    "sum(f3.a)"
   ]
  },
  {
   "cell_type": "code",
   "execution_count": null,
   "id": "9e2fecea",
   "metadata": {},
   "outputs": [],
   "source": [
    "load4 = load(\"topleft\", fx=s1);"
   ]
  },
  {
   "cell_type": "code",
   "execution_count": null,
   "id": "8d9d3829",
   "metadata": {},
   "outputs": [],
   "source": [
    "f4 = loadVector(prob, [load4])"
   ]
  },
  {
   "cell_type": "code",
   "execution_count": null,
   "id": "710c7a8a",
   "metadata": {},
   "outputs": [],
   "source": [
    "sum(f4.a)"
   ]
  },
  {
   "cell_type": "code",
   "execution_count": null,
   "id": "441cee4f",
   "metadata": {},
   "outputs": [],
   "source": [
    "load5 = load(\"topleftfront\", fx=1)"
   ]
  },
  {
   "cell_type": "code",
   "execution_count": null,
   "id": "e681a863",
   "metadata": {},
   "outputs": [],
   "source": [
    "f5 = loadVector(prob, [load5])"
   ]
  },
  {
   "cell_type": "code",
   "execution_count": null,
   "id": "d41cf1f7",
   "metadata": {},
   "outputs": [],
   "source": [
    "sum(f5.a)"
   ]
  }
 ],
 "metadata": {
  "kernelspec": {
   "display_name": "Julia 1.11.7",
   "language": "julia",
   "name": "julia-1.11"
  },
  "language_info": {
   "file_extension": ".jl",
   "mimetype": "application/julia",
   "name": "julia",
   "version": "1.11.7"
  }
 },
 "nbformat": 4,
 "nbformat_minor": 5
}
