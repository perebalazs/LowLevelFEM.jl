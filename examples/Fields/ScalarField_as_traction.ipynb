{
 "cells": [
  {
   "cell_type": "code",
   "execution_count": 1,
   "id": "45ff0366",
   "metadata": {},
   "outputs": [
    {
     "name": "stdout",
     "output_type": "stream",
     "text": [
      "Info    : Reading 'cube.geo'...\n",
      "Info    : Meshing 1D...\n",
      "Info    : [  0%] Meshing curve 1 (Line)\n",
      "Info    : [ 10%] Meshing curve 2 (Line)\n",
      "Info    : [ 20%] Meshing curve 3 (Line)\n",
      "Info    : [ 30%] Meshing curve 4 (Line)\n",
      "Info    : [ 40%] Meshing curve 5 (Line)\n",
      "Info    : [ 50%] Meshing curve 6 (Line)\n",
      "Info    : [ 60%] Meshing curve 7 (Line)\n",
      "Info    : [ 60%] Meshing curve 8 (Line)\n",
      "Info    : [ 70%] Meshing curve 9 (Line)\n",
      "Info    : [ 80%] Meshing curve 10 (Line)\n",
      "Info    : [ 90%] Meshing curve 11 (Line)\n",
      "Info    : [100%] Meshing curve 12 (Line)\n",
      "Info    : Done meshing 1D (Wall 0.0011849s, CPU 0.00118s)\n",
      "Info    : Meshing 2D...\n",
      "Info    : [  0%] Meshing surface 1 (Plane, Frontal-Delaunay)\n",
      "Info    : [ 20%] Meshing surface 2 (Plane, Frontal-Delaunay)\n",
      "Info    : [ 40%] Meshing surface 3 (Plane, Frontal-Delaunay)\n",
      "Info    : [ 60%] Meshing surface 4 (Plane, Frontal-Delaunay)\n",
      "Info    : [ 70%] Meshing surface 5 (Plane, Frontal-Delaunay)\n",
      "Info    : [ 90%] Meshing surface 6 (Plane, Frontal-Delaunay)\n",
      "Info    : Done meshing 2D (Wall 0.00841548s, CPU 0.0084s)\n",
      "Info    : Meshing 3D...\n",
      "Info    : 3D Meshing 1 volume with 1 connected component\n",
      "Info    : Tetrahedrizing 200 nodes...\n",
      "Info    : Done tetrahedrizing 208 nodes (Wall 0.00315247s, CPU 0.00237s)\n",
      "Info    : Reconstructing mesh...\n",
      "Info    :  - Creating surface mesh\n",
      "Info    :  - Identifying boundary edges\n",
      "Info    :  - Recovering boundary\n",
      "Info    : Done reconstructing mesh (Wall 0.00552024s, CPU 0.004513s)\n",
      "Info    : Found volume 1\n",
      "Info    : It. 0 - 0 nodes created - worst tet radius 2.29263 (nodes removed 0 0)\n",
      "Info    : 3D refinement terminated (233 nodes total):\n",
      "Info    :  - 0 Delaunay cavities modified for star shapeness\n",
      "Info    :  - 0 nodes could not be inserted\n",
      "Info    :  - 722 tetrahedra created in 0.00191235 sec. (377545 tets/s)\n",
      "Info    : 0 node relocations\n",
      "Info    : Done meshing 3D (Wall 0.0129853s, CPU 0.01194s)\n",
      "Info    : Optimizing mesh...\n",
      "Info    : Optimizing volume 1\n",
      "Info    : Optimization starts (volume = 1) with worst = 0.0210204 / average = 0.77505:\n",
      "Info    : 0.00 < quality < 0.10 :         1 elements\n",
      "Info    : 0.10 < quality < 0.20 :         4 elements\n",
      "Info    : 0.20 < quality < 0.30 :         6 elements\n",
      "Info    : 0.30 < quality < 0.40 :         9 elements\n",
      "Info    : 0.40 < quality < 0.50 :         7 elements\n",
      "Info    : 0.50 < quality < 0.60 :        20 elements\n",
      "Info    : 0.60 < quality < 0.70 :       130 elements\n",
      "Info    : 0.70 < quality < 0.80 :       218 elements\n",
      "Info    : 0.80 < quality < 0.90 :       212 elements\n",
      "Info    : 0.90 < quality < 1.00 :       108 elements\n",
      "Info    : 11 edge swaps, 0 node relocations (volume = 1): worst = 0.312571 / average = 0.784648 (Wall 0.000250739s, CPU 0.00025s)\n",
      "Info    : No ill-shaped tets in the mesh :-)\n",
      "Info    : 0.00 < quality < 0.10 :         0 elements\n",
      "Info    : 0.10 < quality < 0.20 :         0 elements\n",
      "Info    : 0.20 < quality < 0.30 :         0 elements\n",
      "Info    : 0.30 < quality < 0.40 :         9 elements\n",
      "Info    : 0.40 < quality < 0.50 :         6 elements\n",
      "Info    : 0.50 < quality < 0.60 :        19 elements\n",
      "Info    : 0.60 < quality < 0.70 :       132 elements\n",
      "Info    : 0.70 < quality < 0.80 :       216 elements\n",
      "Info    : 0.80 < quality < 0.90 :       214 elements\n",
      "Info    : 0.90 < quality < 1.00 :       109 elements\n",
      "Info    : Done optimizing mesh (Wall 0.000963689s, CPU 0.000964s)\n",
      "Info    : 233 nodes 1176 elements\n",
      "Info    : Done reading 'cube.geo'\n"
     ]
    }
   ],
   "source": [
    "using LowLevelFEM\n",
    "gmsh.initialize()\n",
    "\n",
    "gmsh.open(\"cube.geo\")"
   ]
  },
  {
   "cell_type": "code",
   "execution_count": 2,
   "id": "4bc7d62d",
   "metadata": {},
   "outputs": [
    {
     "name": "stdout",
     "output_type": "stream",
     "text": [
      "Info    : RCMK renumbering...\n",
      "Info    : Done RCMK renumbering (bandwidth is now 76)\n"
     ]
    },
    {
     "data": {
      "text/plain": [
       "Problem(\"cube\", :Solid, 3, 3, LowLevelFEM.Material[LowLevelFEM.Material(\"cube\", :Hooke, 200000.0, 0.3, 7.85e-9, 45.0, 4.2e8, 1.2e-5, 115384.61538461536, 76923.07692307692, 166666.66666666666, 1.0)], 1.0, 233)"
      ]
     },
     "metadata": {},
     "output_type": "display_data"
    }
   ],
   "source": [
    "mat = material(\"cube\")\n",
    "prob = Problem([mat])"
   ]
  },
  {
   "cell_type": "code",
   "execution_count": 3,
   "id": "4c1244f6",
   "metadata": {},
   "outputs": [
    {
     "data": {
      "text/plain": [
       "(\"cube\", 1, 0, 0)"
      ]
     },
     "metadata": {},
     "output_type": "display_data"
    }
   ],
   "source": [
    "load1 = load(\"cube\", fx=1)"
   ]
  },
  {
   "cell_type": "code",
   "execution_count": 4,
   "id": "27dda897",
   "metadata": {},
   "outputs": [
    {
     "data": {
      "text/plain": [
       "699×1 Matrix{Float64}:\n",
       " 0.000797434948468068\n",
       " 0.0\n",
       " 0.0\n",
       " 0.0007974349484712385\n",
       " 0.0\n",
       " 0.0\n",
       " 0.0007974349484712373\n",
       " 0.0\n",
       " 0.0\n",
       " 0.0007974349484725237\n",
       " ⋮\n",
       " 0.009274605602643402\n",
       " 0.0\n",
       " 0.0\n",
       " 0.009129995235765319\n",
       " 0.0\n",
       " 0.0\n",
       " 0.009667584366326447\n",
       " 0.0\n",
       " 0.0"
      ]
     },
     "metadata": {},
     "output_type": "display_data"
    },
    {
     "data": {
      "text/plain": []
     },
     "metadata": {},
     "output_type": "display_data"
    }
   ],
   "source": [
    "f1 = loadVector(prob, [load1])"
   ]
  },
  {
   "cell_type": "code",
   "execution_count": 5,
   "id": "39804cd9",
   "metadata": {},
   "outputs": [
    {
     "data": {
      "text/plain": [
       "233×1 Matrix{Float64}:\n",
       " 1.0\n",
       " 1.0\n",
       " 1.0\n",
       " 1.0\n",
       " 1.0\n",
       " 1.0\n",
       " 1.0\n",
       " 1.0\n",
       " 1.0\n",
       " 1.0\n",
       " ⋮\n",
       " 1.0\n",
       " 1.0\n",
       " 1.0\n",
       " 1.0\n",
       " 1.0\n",
       " 1.0\n",
       " 1.0\n",
       " 1.0\n",
       " 1.0"
      ]
     },
     "metadata": {},
     "output_type": "display_data"
    },
    {
     "data": {
      "text/plain": []
     },
     "metadata": {},
     "output_type": "display_data"
    }
   ],
   "source": [
    "fld = field(\"cube\", f=1)\n",
    "s1 = scalarField(prob, [fld])"
   ]
  },
  {
   "cell_type": "code",
   "execution_count": 6,
   "id": "7950ad33",
   "metadata": {},
   "outputs": [
    {
     "data": {
      "text/plain": [
       "233×1 Matrix{Float64}:\n",
       " 1.0\n",
       " 1.0\n",
       " 1.0\n",
       " 1.0\n",
       " 1.0\n",
       " 1.0\n",
       " 1.0\n",
       " 1.0\n",
       " 1.0\n",
       " 1.0\n",
       " ⋮\n",
       " 1.0\n",
       " 1.0\n",
       " 1.0\n",
       " 1.0\n",
       " 1.0\n",
       " 1.0\n",
       " 1.0\n",
       " 1.0\n",
       " 1.0"
      ]
     },
     "metadata": {},
     "output_type": "display_data"
    },
    {
     "data": {
      "text/plain": [
       "(\"cube\", , 0, 0)"
      ]
     },
     "metadata": {},
     "output_type": "display_data"
    }
   ],
   "source": [
    "load2 = load(\"cube\", fx=s1)"
   ]
  },
  {
   "cell_type": "code",
   "execution_count": 7,
   "id": "ce46c2c8",
   "metadata": {},
   "outputs": [
    {
     "data": {
      "text/plain": [
       "699×1 Matrix{Float64}:\n",
       " 0.000797434948468068\n",
       " 0.0\n",
       " 0.0\n",
       " 0.0007974349484712385\n",
       " 0.0\n",
       " 0.0\n",
       " 0.0007974349484712373\n",
       " 0.0\n",
       " 0.0\n",
       " 0.0007974349484725237\n",
       " ⋮\n",
       " 0.009274605602643402\n",
       " 0.0\n",
       " 0.0\n",
       " 0.009129995235765319\n",
       " 0.0\n",
       " 0.0\n",
       " 0.009667584366326447\n",
       " 0.0\n",
       " 0.0"
      ]
     },
     "metadata": {},
     "output_type": "display_data"
    },
    {
     "data": {
      "text/plain": []
     },
     "metadata": {},
     "output_type": "display_data"
    }
   ],
   "source": [
    "f2 = loadVector(prob, [load2])"
   ]
  },
  {
   "cell_type": "code",
   "execution_count": 8,
   "id": "8df55368",
   "metadata": {},
   "outputs": [
    {
     "data": {
      "text/plain": [
       "699×1 Matrix{Float64}:\n",
       " 0.0\n",
       " 0.0\n",
       " 0.0\n",
       " 0.0\n",
       " 0.0\n",
       " 0.0\n",
       " 0.0\n",
       " 0.0\n",
       " 0.0\n",
       " 0.0\n",
       " ⋮\n",
       " 0.0\n",
       " 0.0\n",
       " 0.0\n",
       " 0.0\n",
       " 0.0\n",
       " 0.0\n",
       " 0.0\n",
       " 0.0\n",
       " 0.0"
      ]
     },
     "metadata": {},
     "output_type": "display_data"
    },
    {
     "data": {
      "text/plain": []
     },
     "metadata": {},
     "output_type": "display_data"
    }
   ],
   "source": [
    "f1 - f2"
   ]
  }
 ],
 "metadata": {
  "kernelspec": {
   "display_name": "Julia 1.11.7",
   "language": "julia",
   "name": "julia-1.11"
  },
  "language_info": {
   "file_extension": ".jl",
   "mimetype": "application/julia",
   "name": "julia",
   "version": "1.11.7"
  }
 },
 "nbformat": 4,
 "nbformat_minor": 5
}
