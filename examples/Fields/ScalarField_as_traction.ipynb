{
 "cells": [
  {
   "cell_type": "code",
   "execution_count": 78,
   "id": "45ff0366",
   "metadata": {},
   "outputs": [
    {
     "name": "stdout",
     "output_type": "stream",
     "text": [
      "Info    : Reading 'cube1.geo'...\n",
      "Info    : Meshing 1D...\n",
      "Info    : [  0%] Meshing curve 1 (Line)\n",
      "Info    : [ 10%] Meshing curve 2 (Line)\n",
      "Info    : [ 20%] Meshing curve 3 (Line)\n",
      "Info    : [ 30%] Meshing curve 4 (Line)\n",
      "Info    : [ 40%] Meshing curve 5 (Line)\n",
      "Info    : [ 50%] Meshing curve 6 (Line)\n",
      "Info    : [ 60%] Meshing curve 7 (Line)\n",
      "Info    : [ 60%] Meshing curve 8 (Line)\n",
      "Info    : [ 70%] Meshing curve 9 (Line)\n",
      "Info    : [ 80%] Meshing curve 10 (Line)\n",
      "Info    : [ 90%] Meshing curve 11 (Line)\n",
      "Info    : [100%] Meshing curve 12 (Line)\n",
      "Info    : Done meshing 1D (Wall 0.00121601s, CPU 0.001057s)\n",
      "Info    : Meshing 2D...\n",
      "Info    : [  0%] Meshing surface 1 (Transfinite)\n",
      "Info    : [ 20%] Meshing surface 2 (Transfinite)\n",
      "Info    : [ 40%] Meshing surface 3 (Transfinite)\n",
      "Info    : [ 60%] Meshing surface 4 (Transfinite)\n",
      "Info    : [ 70%] Meshing surface 5 (Transfinite)\n",
      "Info    : [ 90%] Meshing surface 6 (Transfinite)\n",
      "Info    : Done meshing 2D (Wall 0.000123359s, CPU 0.000121s)\n",
      "Info    : Meshing 3D...\n",
      "Info    : Meshing volume 1 (Transfinite)\n",
      "Info    : Done meshing 3D (Wall 4.1402e-05s, CPU 4.1e-05s)\n",
      "Info    : Optimizing mesh...\n",
      "Info    : Done optimizing mesh (Wall 1.315e-06s, CPU 1e-06s)\n",
      "Info    : 8 nodes 27 elements\n",
      "Info    : Done reading 'cube1.geo'\n"
     ]
    },
    {
     "name": "stderr",
     "output_type": "stream",
     "text": [
      "Warning : Gmsh has aleady been initialized\n"
     ]
    }
   ],
   "source": [
    "using LowLevelFEM, LinearAlgebra\n",
    "gmsh.initialize()\n",
    "\n",
    "gmsh.open(\"cube1.geo\")"
   ]
  },
  {
   "cell_type": "code",
   "execution_count": 79,
   "id": "4bc7d62d",
   "metadata": {},
   "outputs": [
    {
     "name": "stdout",
     "output_type": "stream",
     "text": [
      "Info    : RCMK renumbering...\n",
      "Info    : Done RCMK renumbering (bandwidth is now 7)\n"
     ]
    },
    {
     "data": {
      "text/plain": [
       "Problem(\"cube1\", :Solid, 3, 3, LowLevelFEM.Material[LowLevelFEM.Material(\"cube\", :Hooke, 200000.0, 0.3, 7.85e-9, 45.0, 4.2e8, 1.2e-5, 115384.61538461536, 76923.07692307692, 166666.66666666666, 1.0)], 1.0, 8)"
      ]
     },
     "metadata": {},
     "output_type": "display_data"
    }
   ],
   "source": [
    "mat = material(\"cube\")\n",
    "prob = Problem([mat])"
   ]
  },
  {
   "cell_type": "code",
   "execution_count": 80,
   "id": "4c1244f6",
   "metadata": {},
   "outputs": [
    {
     "data": {
      "text/plain": [
       "(\"cube\", 1, 0, 0)"
      ]
     },
     "metadata": {},
     "output_type": "display_data"
    }
   ],
   "source": [
    "load1 = load(\"cube\", fx=1)"
   ]
  },
  {
   "cell_type": "code",
   "execution_count": 81,
   "id": "27dda897",
   "metadata": {},
   "outputs": [
    {
     "data": {
      "text/plain": [
       "24×1 Matrix{Float64}:\n",
       " 0.125\n",
       " 0.0\n",
       " 0.0\n",
       " 0.125\n",
       " 0.0\n",
       " 0.0\n",
       " 0.12499999999999997\n",
       " 0.0\n",
       " 0.0\n",
       " 0.12499999999999999\n",
       " ⋮\n",
       " 0.125\n",
       " 0.0\n",
       " 0.0\n",
       " 0.12499999999999997\n",
       " 0.0\n",
       " 0.0\n",
       " 0.12499999999999999\n",
       " 0.0\n",
       " 0.0"
      ]
     },
     "metadata": {},
     "output_type": "display_data"
    },
    {
     "data": {
      "text/plain": []
     },
     "metadata": {},
     "output_type": "display_data"
    }
   ],
   "source": [
    "f1 = loadVector(prob, [load1])"
   ]
  },
  {
   "cell_type": "code",
   "execution_count": 82,
   "id": "3d60e207",
   "metadata": {},
   "outputs": [
    {
     "data": {
      "text/plain": [
       "1.0"
      ]
     },
     "metadata": {},
     "output_type": "display_data"
    }
   ],
   "source": [
    "sum(f1.a)"
   ]
  },
  {
   "cell_type": "code",
   "execution_count": 83,
   "id": "39804cd9",
   "metadata": {},
   "outputs": [
    {
     "data": {
      "text/plain": [
       "8×1 Matrix{Float64}:\n",
       " 1.0\n",
       " 1.0\n",
       " 1.0\n",
       " 1.0\n",
       " 1.0\n",
       " 1.0\n",
       " 1.0\n",
       " 1.0"
      ]
     },
     "metadata": {},
     "output_type": "display_data"
    },
    {
     "data": {
      "text/plain": []
     },
     "metadata": {},
     "output_type": "display_data"
    }
   ],
   "source": [
    "fld = field(\"cube\", f=1)\n",
    "s1 = scalarField(prob, [fld])"
   ]
  },
  {
   "cell_type": "code",
   "execution_count": 84,
   "id": "7950ad33",
   "metadata": {},
   "outputs": [
    {
     "data": {
      "text/plain": [
       "8×1 Matrix{Float64}:\n",
       " 1.0\n",
       " 1.0\n",
       " 1.0\n",
       " 1.0\n",
       " 1.0\n",
       " 1.0\n",
       " 1.0\n",
       " 1.0"
      ]
     },
     "metadata": {},
     "output_type": "display_data"
    },
    {
     "data": {
      "text/plain": [
       "(\"cube\", , 0, 0)"
      ]
     },
     "metadata": {},
     "output_type": "display_data"
    }
   ],
   "source": [
    "load2 = load(\"cube\", fx=s1)"
   ]
  },
  {
   "cell_type": "code",
   "execution_count": 85,
   "id": "ce46c2c8",
   "metadata": {},
   "outputs": [
    {
     "data": {
      "text/plain": [
       "24×1 Matrix{Float64}:\n",
       " 0.12499999999999999\n",
       " 0.0\n",
       " 0.0\n",
       " 0.12499999999999997\n",
       " 0.0\n",
       " 0.0\n",
       " 0.12499999999999997\n",
       " 0.0\n",
       " 0.0\n",
       " 0.12499999999999997\n",
       " ⋮\n",
       " 0.12499999999999999\n",
       " 0.0\n",
       " 0.0\n",
       " 0.12499999999999997\n",
       " 0.0\n",
       " 0.0\n",
       " 0.12499999999999999\n",
       " 0.0\n",
       " 0.0"
      ]
     },
     "metadata": {},
     "output_type": "display_data"
    },
    {
     "data": {
      "text/plain": []
     },
     "metadata": {},
     "output_type": "display_data"
    }
   ],
   "source": [
    "f2 = loadVector(prob, [load2])"
   ]
  },
  {
   "cell_type": "code",
   "execution_count": 86,
   "id": "99fad8f2",
   "metadata": {},
   "outputs": [
    {
     "data": {
      "text/plain": [
       "0.9999999999999998"
      ]
     },
     "metadata": {},
     "output_type": "display_data"
    }
   ],
   "source": [
    "sum(f2.a)"
   ]
  },
  {
   "cell_type": "code",
   "execution_count": 87,
   "id": "8df55368",
   "metadata": {},
   "outputs": [
    {
     "data": {
      "text/plain": [
       "24×1 Matrix{Float64}:\n",
       " 1.3877787807814457e-17\n",
       " 0.0\n",
       " 0.0\n",
       " 2.7755575615628914e-17\n",
       " 0.0\n",
       " 0.0\n",
       " 0.0\n",
       " 0.0\n",
       " 0.0\n",
       " 1.3877787807814457e-17\n",
       " ⋮\n",
       " 1.3877787807814457e-17\n",
       " 0.0\n",
       " 0.0\n",
       " 0.0\n",
       " 0.0\n",
       " 0.0\n",
       " 0.0\n",
       " 0.0\n",
       " 0.0"
      ]
     },
     "metadata": {},
     "output_type": "display_data"
    },
    {
     "data": {
      "text/plain": []
     },
     "metadata": {},
     "output_type": "display_data"
    }
   ],
   "source": [
    "f1 - f2"
   ]
  },
  {
   "cell_type": "code",
   "execution_count": 88,
   "id": "f599ec46",
   "metadata": {},
   "outputs": [],
   "source": [
    "load3 = load(\"left\", fx=s1);"
   ]
  },
  {
   "cell_type": "code",
   "execution_count": 89,
   "id": "87410921",
   "metadata": {},
   "outputs": [
    {
     "data": {
      "text/plain": [
       "24×1 Matrix{Float64}:\n",
       " 0.25\n",
       " 0.0\n",
       " 0.0\n",
       " 0.25\n",
       " 0.0\n",
       " 0.0\n",
       " 0.25\n",
       " 0.0\n",
       " 0.0\n",
       " 0.25\n",
       " ⋮\n",
       " 0.0\n",
       " 0.0\n",
       " 0.0\n",
       " 0.0\n",
       " 0.0\n",
       " 0.0\n",
       " 0.0\n",
       " 0.0\n",
       " 0.0"
      ]
     },
     "metadata": {},
     "output_type": "display_data"
    },
    {
     "data": {
      "text/plain": []
     },
     "metadata": {},
     "output_type": "display_data"
    }
   ],
   "source": [
    "f3 = loadVector(prob, [load3])"
   ]
  },
  {
   "cell_type": "code",
   "execution_count": 90,
   "id": "f69aa8f4",
   "metadata": {},
   "outputs": [
    {
     "data": {
      "text/plain": [
       "1.0"
      ]
     },
     "metadata": {},
     "output_type": "display_data"
    }
   ],
   "source": [
    "sum(f3.a)"
   ]
  },
  {
   "cell_type": "code",
   "execution_count": 91,
   "id": "9e2fecea",
   "metadata": {},
   "outputs": [],
   "source": [
    "load4 = load(\"topleft\", fx=s1);"
   ]
  },
  {
   "cell_type": "code",
   "execution_count": 92,
   "id": "8d9d3829",
   "metadata": {},
   "outputs": [
    {
     "data": {
      "text/plain": [
       "24×1 Matrix{Float64}:\n",
       " 0.0\n",
       " 0.0\n",
       " 0.0\n",
       " 0.0\n",
       " 0.0\n",
       " 0.0\n",
       " 0.5\n",
       " 0.0\n",
       " 0.0\n",
       " 0.5\n",
       " ⋮\n",
       " 0.0\n",
       " 0.0\n",
       " 0.0\n",
       " 0.0\n",
       " 0.0\n",
       " 0.0\n",
       " 0.0\n",
       " 0.0\n",
       " 0.0"
      ]
     },
     "metadata": {},
     "output_type": "display_data"
    },
    {
     "data": {
      "text/plain": []
     },
     "metadata": {},
     "output_type": "display_data"
    }
   ],
   "source": [
    "f4 = loadVector(prob, [load4])"
   ]
  },
  {
   "cell_type": "code",
   "execution_count": 93,
   "id": "710c7a8a",
   "metadata": {},
   "outputs": [
    {
     "data": {
      "text/plain": [
       "1.0"
      ]
     },
     "metadata": {},
     "output_type": "display_data"
    }
   ],
   "source": [
    "sum(f4.a)"
   ]
  },
  {
   "cell_type": "code",
   "execution_count": 94,
   "id": "441cee4f",
   "metadata": {},
   "outputs": [
    {
     "data": {
      "text/plain": [
       "(\"topleftfront\", 1, 0, 0)"
      ]
     },
     "metadata": {},
     "output_type": "display_data"
    }
   ],
   "source": [
    "load5 = load(\"topleftfront\", fx=1)"
   ]
  },
  {
   "cell_type": "code",
   "execution_count": 95,
   "id": "e681a863",
   "metadata": {},
   "outputs": [
    {
     "data": {
      "text/plain": [
       "24×1 Matrix{Float64}:\n",
       " 0.0\n",
       " 0.0\n",
       " 0.0\n",
       " 0.0\n",
       " 0.0\n",
       " 0.0\n",
       " 1.0\n",
       " 0.0\n",
       " 0.0\n",
       " 0.0\n",
       " ⋮\n",
       " 0.0\n",
       " 0.0\n",
       " 0.0\n",
       " 0.0\n",
       " 0.0\n",
       " 0.0\n",
       " 0.0\n",
       " 0.0\n",
       " 0.0"
      ]
     },
     "metadata": {},
     "output_type": "display_data"
    },
    {
     "data": {
      "text/plain": []
     },
     "metadata": {},
     "output_type": "display_data"
    }
   ],
   "source": [
    "f5 = loadVector(prob, [load5])"
   ]
  },
  {
   "cell_type": "code",
   "execution_count": 96,
   "id": "d41cf1f7",
   "metadata": {},
   "outputs": [
    {
     "data": {
      "text/plain": [
       "1.0"
      ]
     },
     "metadata": {},
     "output_type": "display_data"
    }
   ],
   "source": [
    "sum(f5.a)"
   ]
  }
 ],
 "metadata": {
  "kernelspec": {
   "display_name": "Julia 1.11.7",
   "language": "julia",
   "name": "julia-1.11"
  },
  "language_info": {
   "file_extension": ".jl",
   "mimetype": "application/julia",
   "name": "julia",
   "version": "1.11.7"
  }
 },
 "nbformat": 4,
 "nbformat_minor": 5
}
