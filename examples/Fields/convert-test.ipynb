{
 "cells": [
  {
   "cell_type": "code",
   "execution_count": 1,
   "id": "343c90a8",
   "metadata": {},
   "outputs": [
    {
     "name": "stderr",
     "output_type": "stream",
     "text": [
      "\n",
      "SYSTEM: caught exception of type :MethodError while trying to print a failed Task notice; giving up\n",
      "\n",
      "SYSTEM: caught exception of type :MethodError while trying to print a failed Task notice; giving up\n",
      "\n",
      "SYSTEM: caught exception of type :MethodError while trying to print a failed Task notice; giving up\n",
      "\n",
      "SYSTEM: caught exception of type :MethodError while trying to print a failed Task notice; giving up\n",
      "\n",
      "SYSTEM: caught exception of type :MethodError while trying to print a failed Task notice; giving up\n"
     ]
    },
    {
     "ename": "MethodError",
     "evalue": "MethodError: no method matching pipe_writer(::VSCodeServer.IJuliaCore.IJuliaStdio{Base.PipeEndpoint, typeof(VSCodeServer.io_send_callback)})\nThe applicable method may be too new: running in world age 38630, while current world is 38681.\n\nClosest candidates are:\n  pipe_writer(::VSCodeServer.IJuliaCore.IJuliaStdio) (method too new to be called from this world context.)\n   @ VSCodeServer ~/.vscode/extensions/julialang.language-julia-1.156.1/scripts/packages/IJuliaCore/src/stdio.jl:16\n  pipe_writer(!Matched::Base.ProcessChain)\n   @ Base process.jl:37\n  pipe_writer(!Matched::Base.Process)\n   @ Base process.jl:23\n  ...\n",
     "output_type": "error",
     "traceback": [
      "MethodError: no method matching pipe_writer(::VSCodeServer.IJuliaCore.IJuliaStdio{Base.PipeEndpoint, typeof(VSCodeServer.io_send_callback)})\n",
      "The applicable method may be too new: running in world age 38630, while current world is 38681.\n",
      "\n",
      "Closest candidates are:\n",
      "  pipe_writer(::VSCodeServer.IJuliaCore.IJuliaStdio) (method too new to be called from this world context.)\n",
      "   @ VSCodeServer ~/.vscode/extensions/julialang.language-julia-1.156.1/scripts/packages/IJuliaCore/src/stdio.jl:16\n",
      "  pipe_writer(!Matched::Base.ProcessChain)\n",
      "   @ Base process.jl:37\n",
      "  pipe_writer(!Matched::Base.Process)\n",
      "   @ Base process.jl:23\n",
      "  ...\n",
      "\n",
      "\n",
      "Stacktrace:\n",
      "  [1] unsafe_write(io::VSCodeServer.IJuliaCore.IJuliaStdio{Base.PipeEndpoint, typeof(VSCodeServer.io_send_callback)}, p::Ptr{UInt8}, nb::UInt64)\n",
      "    @ Base ./io.jl:452\n",
      "  [2] unsafe_write(io::IOContext{IO}, p::Ptr{UInt8}, nb::UInt64)\n",
      "    @ Base ./io.jl:452\n",
      "  [3] write\n",
      "    @ ./strings/io.jl:246 [inlined]\n",
      "  [4] print\n",
      "    @ ./strings/io.jl:248 [inlined]\n",
      "  [5] print(::IOContext{IO}, ::String, ::String)\n",
      "    @ Base ./strings/io.jl:46\n",
      "  [6] println\n",
      "    @ ./strings/io.jl:77 [inlined]\n",
      "  [7] macro expansion\n",
      "    @ ./precompilation.jl:1087 [inlined]\n",
      "  [8] macro expansion\n",
      "    @ ./lock.jl:376 [inlined]\n",
      "  [9] _precompilepkgs(pkgs::Vector{String}, internal_call::Bool, strict::Bool, warn_loaded::Bool, timing::Bool, _from_loading::Bool, configs::Vector{Pair{Cmd, Base.CacheFlags}}, _io::IOContext{IO}, fancyprint::Bool, manifest::Bool, ignore_loaded::Bool)\n",
      "    @ Base.Precompilation ./precompilation.jl:1086\n",
      " [10] precompilepkgs(pkgs::Vector{String}; internal_call::Bool, strict::Bool, warn_loaded::Bool, timing::Bool, _from_loading::Bool, configs::Pair{Cmd, Base.CacheFlags}, io::VSCodeServer.IJuliaCore.IJuliaStdio{Base.PipeEndpoint, typeof(VSCodeServer.io_send_callback)}, fancyprint::Bool, manifest::Bool, ignore_loaded::Bool)\n",
      "    @ Base.Precompilation ./precompilation.jl:472\n",
      " [11] __require_prelocked(pkg::Base.PkgId, env::String)\n",
      "    @ Base ./loading.jl:2630\n",
      " [12] _require_prelocked(uuidkey::Base.PkgId, env::String)\n",
      "    @ Base ./loading.jl:2465\n",
      " [13] macro expansion\n",
      "    @ ./loading.jl:2393 [inlined]\n",
      " [14] macro expansion\n",
      "    @ ./lock.jl:376 [inlined]\n",
      " [15] __require(into::Module, mod::Symbol)\n",
      "    @ Base ./loading.jl:2358\n",
      " [16] require(into::Module, mod::Symbol)\n",
      "    @ Base ./loading.jl:2334\n",
      " [17] eval(m::Module, e::Any)\n",
      "    @ Core ./boot.jl:489\n",
      " [18] include_string(mapexpr::typeof(REPL.softscope), mod::Module, code::String, filename::String)\n",
      "    @ Base ./loading.jl:2843\n",
      " [19] (::VSCodeServer.var\"#notebook_runcell_request##0#notebook_runcell_request##1\"{VSCodeServer.NotebookRunCellArguments, String})()\n",
      "    @ VSCodeServer ~/.vscode/extensions/julialang.language-julia-1.156.1/scripts/packages/VSCodeServer/src/serve_notebook.jl:24\n",
      " [20] withpath(f::VSCodeServer.var\"#notebook_runcell_request##0#notebook_runcell_request##1\"{VSCodeServer.NotebookRunCellArguments, String}, path::String)\n",
      "    @ VSCodeServer ~/.vscode/extensions/julialang.language-julia-1.156.1/scripts/packages/VSCodeServer/src/repl.jl:276\n",
      " [21] notebook_runcell_request(conn::VSCodeServer.JSONRPC.JSONRPCEndpoint{Base.PipeEndpoint, Base.PipeEndpoint, VSCodeServer.JSON.Serializations.StandardSerialization}, params::VSCodeServer.NotebookRunCellArguments, token::VSCodeServer.CancellationTokens.CancellationToken)\n",
      "    @ VSCodeServer ~/.vscode/extensions/julialang.language-julia-1.156.1/scripts/packages/VSCodeServer/src/serve_notebook.jl:13\n",
      " [22] dispatch_msg(x::VSCodeServer.JSONRPC.JSONRPCEndpoint{Base.PipeEndpoint, Base.PipeEndpoint, VSCodeServer.JSON.Serializations.StandardSerialization}, dispatcher::VSCodeServer.JSONRPC.MsgDispatcher, msg::VSCodeServer.JSONRPC.Request)\n",
      "    @ VSCodeServer.JSONRPC ~/.vscode/extensions/julialang.language-julia-1.156.1/scripts/packages/JSONRPC/src/typed.jl:68\n",
      " [23] serve_notebook(pipename::String, debugger_pipename::String, outputchannel_logger::Base.CoreLogging.SimpleLogger; error_handler::var\"#14#15\"{String})\n",
      "    @ VSCodeServer ~/.vscode/extensions/julialang.language-julia-1.156.1/scripts/packages/VSCodeServer/src/serve_notebook.jl:147\n",
      " [24] top-level scope\n",
      "    @ ~/.vscode/extensions/julialang.language-julia-1.156.1/scripts/notebook/notebook.jl:35"
     ]
    }
   ],
   "source": [
    "using LowLevelFEM\n",
    "gmsh.initialize()\n",
    "\n",
    "gmsh.open(\"convert-plane.geo\")"
   ]
  },
  {
   "cell_type": "code",
   "execution_count": 2,
   "id": "93848cb3",
   "metadata": {},
   "outputs": [
    {
     "name": "stdout",
     "output_type": "stream",
     "text": [
      "Info    : RCMK renumbering...\n",
      "Info    : Done RCMK renumbering (bandwidth is now 3)\n"
     ]
    },
    {
     "data": {
      "text/plain": [
       "Problem(\"convert-plane\", :PlaneStress, 2, 2, LowLevelFEM.Material[LowLevelFEM.Material(\"plane1\", :Hooke, 200000.0, 0.3, 7.85e-9, 45.0, 4.2e8, 1.2e-5, 115384.61538461536, 76923.07692307692, 166666.66666666666, 1.0), LowLevelFEM.Material(\"plane2\", :Hooke, 200000.0, 0.3, 7.85e-9, 45.0, 4.2e8, 1.2e-5, 115384.61538461536, 76923.07692307692, 166666.66666666666, 1.0)], 1.0, 6)"
      ]
     },
     "metadata": {},
     "output_type": "display_data"
    }
   ],
   "source": [
    "mat1 = material(\"plane1\")\n",
    "mat2 = material(\"plane2\")\n",
    "\n",
    "prob = Problem([mat1, mat2], type=:PlaneStress)"
   ]
  },
  {
   "cell_type": "code",
   "execution_count": 3,
   "id": "97644e8d",
   "metadata": {},
   "outputs": [
    {
     "data": {
      "text/plain": [
       "LowLevelFEM.VectorField(Matrix{Float64}[], [1.0; 2.0; … ; 0.0; 0.0;;], [0.0], Int64[], 1, :v2D, Problem(\"convert-plane\", :PlaneStress, 2, 2, LowLevelFEM.Material[LowLevelFEM.Material(\"plane1\", :Hooke, 200000.0, 0.3, 7.85e-9, 45.0, 4.2e8, 1.2e-5, 115384.61538461536, 76923.07692307692, 166666.66666666666, 1.0), LowLevelFEM.Material(\"plane2\", :Hooke, 200000.0, 0.3, 7.85e-9, 45.0, 4.2e8, 1.2e-5, 115384.61538461536, 76923.07692307692, 166666.66666666666, 1.0)], 1.0, 6))"
      ]
     },
     "metadata": {},
     "output_type": "display_data"
    }
   ],
   "source": [
    "f0 = field(\"plane1\", fx=1, fy=2)\n",
    "v2 = vectorField(prob, [f0])"
   ]
  },
  {
   "cell_type": "code",
   "execution_count": 4,
   "id": "d0f177b6",
   "metadata": {},
   "outputs": [
    {
     "data": {
      "text/plain": [
       "LowLevelFEM.VectorField([[1.0; 2.0; … ; 1.0; 2.0;;], [1.0; 2.0; … ; 1.0; 2.0;;]], Matrix{Float64}(undef, 0, 0), [0.0], [14, 15], 1, :v2D, Problem(\"convert-plane\", :PlaneStress, 2, 2, LowLevelFEM.Material[LowLevelFEM.Material(\"plane1\", :Hooke, 200000.0, 0.3, 7.85e-9, 45.0, 4.2e8, 1.2e-5, 115384.61538461536, 76923.07692307692, 166666.66666666666, 1.0), LowLevelFEM.Material(\"plane2\", :Hooke, 200000.0, 0.3, 7.85e-9, 45.0, 4.2e8, 1.2e-5, 115384.61538461536, 76923.07692307692, 166666.66666666666, 1.0)], 1.0, 6))"
      ]
     },
     "metadata": {},
     "output_type": "display_data"
    }
   ],
   "source": [
    "v2 = nodesToElements(v2)"
   ]
  },
  {
   "cell_type": "code",
   "execution_count": 5,
   "id": "65c3038a",
   "metadata": {},
   "outputs": [
    {
     "data": {
      "text/plain": [
       "0×0 Matrix{Float64}"
      ]
     },
     "metadata": {},
     "output_type": "display_data"
    }
   ],
   "source": [
    "v2.a"
   ]
  },
  {
   "cell_type": "code",
   "execution_count": 6,
   "id": "896acad0",
   "metadata": {},
   "outputs": [
    {
     "data": {
      "text/plain": [
       "2-element Vector{Matrix{Float64}}:\n",
       " [1.0; 2.0; … ; 1.0; 2.0;;]\n",
       " [1.0; 2.0; … ; 1.0; 2.0;;]"
      ]
     },
     "metadata": {},
     "output_type": "display_data"
    }
   ],
   "source": [
    "v2.A"
   ]
  },
  {
   "cell_type": "code",
   "execution_count": 7,
   "id": "95e7e6c4",
   "metadata": {},
   "outputs": [
    {
     "data": {
      "text/plain": [
       "LowLevelFEM.VectorField([[1.0; 2.0; … ; 2.0; 0.0;;], [1.0; 2.0; … ; 2.0; 0.0;;]], Matrix{Float64}(undef, 0, 0), [0.0], [14, 15], 1, :v3D, Problem(\"convert-plane\", :PlaneStress, 2, 2, LowLevelFEM.Material[LowLevelFEM.Material(\"plane1\", :Hooke, 200000.0, 0.3, 7.85e-9, 45.0, 4.2e8, 1.2e-5, 115384.61538461536, 76923.07692307692, 166666.66666666666, 1.0), LowLevelFEM.Material(\"plane2\", :Hooke, 200000.0, 0.3, 7.85e-9, 45.0, 4.2e8, 1.2e-5, 115384.61538461536, 76923.07692307692, 166666.66666666666, 1.0)], 1.0, 6))"
      ]
     },
     "metadata": {},
     "output_type": "display_data"
    }
   ],
   "source": [
    "v3 = planeToSpace(v2)"
   ]
  },
  {
   "cell_type": "code",
   "execution_count": 8,
   "id": "4c746c0a",
   "metadata": {},
   "outputs": [
    {
     "data": {
      "text/plain": [
       "1"
      ]
     },
     "metadata": {},
     "output_type": "display_data"
    }
   ],
   "source": [
    "v2.nsteps"
   ]
  },
  {
   "cell_type": "code",
   "execution_count": 9,
   "id": "05fe14a7",
   "metadata": {},
   "outputs": [
    {
     "data": {
      "text/plain": [
       "0×0 Matrix{Float64}"
      ]
     },
     "metadata": {},
     "output_type": "display_data"
    }
   ],
   "source": [
    "v3.a"
   ]
  },
  {
   "cell_type": "code",
   "execution_count": 10,
   "id": "3691fb93",
   "metadata": {},
   "outputs": [
    {
     "data": {
      "text/plain": [
       "2-element Vector{Matrix{Float64}}:\n",
       " [1.0; 2.0; … ; 2.0; 0.0;;]\n",
       " [1.0; 2.0; … ; 2.0; 0.0;;]"
      ]
     },
     "metadata": {},
     "output_type": "display_data"
    }
   ],
   "source": [
    "v3.A"
   ]
  },
  {
   "cell_type": "code",
   "execution_count": 11,
   "id": "e2354589",
   "metadata": {},
   "outputs": [
    {
     "data": {
      "text/plain": [
       "LowLevelFEM.VectorField([[1.0; 2.0; … ; 1.0; 2.0;;], [1.0; 2.0; … ; 1.0; 2.0;;]], Matrix{Float64}(undef, 0, 0), [0.0], [14, 15], 1, :v2D, Problem(\"convert-plane\", :PlaneStress, 2, 2, LowLevelFEM.Material[LowLevelFEM.Material(\"plane1\", :Hooke, 200000.0, 0.3, 7.85e-9, 45.0, 4.2e8, 1.2e-5, 115384.61538461536, 76923.07692307692, 166666.66666666666, 1.0), LowLevelFEM.Material(\"plane2\", :Hooke, 200000.0, 0.3, 7.85e-9, 45.0, 4.2e8, 1.2e-5, 115384.61538461536, 76923.07692307692, 166666.66666666666, 1.0)], 1.0, 6))"
      ]
     },
     "metadata": {},
     "output_type": "display_data"
    }
   ],
   "source": [
    "v2_2 = spaceToPlane(v3)"
   ]
  },
  {
   "cell_type": "code",
   "execution_count": 12,
   "id": "dd4d0375",
   "metadata": {},
   "outputs": [
    {
     "data": {
      "text/plain": [
       "0×0 Matrix{Float64}"
      ]
     },
     "metadata": {},
     "output_type": "display_data"
    }
   ],
   "source": [
    "v2_2.a"
   ]
  },
  {
   "cell_type": "code",
   "execution_count": 13,
   "id": "65617ff0",
   "metadata": {},
   "outputs": [
    {
     "data": {
      "text/plain": [
       "1"
      ]
     },
     "metadata": {},
     "output_type": "display_data"
    }
   ],
   "source": [
    "showDoFResults(v2, :vector)"
   ]
  },
  {
   "cell_type": "code",
   "execution_count": 14,
   "id": "0e2a50fe",
   "metadata": {},
   "outputs": [
    {
     "data": {
      "text/plain": [
       "2"
      ]
     },
     "metadata": {},
     "output_type": "display_data"
    }
   ],
   "source": [
    "showDoFResults(v3, :vector)"
   ]
  },
  {
   "cell_type": "code",
   "execution_count": 15,
   "id": "74c0ed73",
   "metadata": {},
   "outputs": [
    {
     "data": {
      "text/plain": [
       "3"
      ]
     },
     "metadata": {},
     "output_type": "display_data"
    }
   ],
   "source": [
    "showDoFResults(v2_2, :vector)"
   ]
  },
  {
   "cell_type": "code",
   "execution_count": 16,
   "id": "68941249",
   "metadata": {},
   "outputs": [
    {
     "name": "stdout",
     "output_type": "stream",
     "text": [
      "-------------------------------------------------------\n",
      "Version       : 4.13.1\n",
      "License       : GNU General Public License\n",
      "Build OS      : Linux64-sdk\n",
      "Build date    : 19700101\n",
      "Build host    : amdci7.julia.csail.mit.edu\n",
      "Build options : 64Bit ALGLIB[contrib] ANN[contrib] Bamg Blossom Cairo DIntegration Dlopen DomHex Eigen[contrib] Fltk GMP Gmm[contrib] Hxt Jpeg Kbipack LinuxJoystick MathEx[contrib] Mesh Metis[contrib] Mmg Mpeg Netgen Nii2mesh ONELAB ONELABMetamodel OpenCASCADE OpenCASCADE-CAF OpenGL OpenMP OptHom Parser Plugins Png Post QuadMeshingTools QuadTri Solver TetGen/BR TinyXML2[contrib] Untangle Voro++[contrib] WinslowUntangler Zlib\n",
      "FLTK version  : 1.3.8\n",
      "OCC version   : 7.7.2\n",
      "Packaged by   : root\n",
      "Web site      : https://gmsh.info\n",
      "Issue tracker : https://gitlab.onelab.info/gmsh/gmsh/issues\n",
      "-------------------------------------------------------\n"
     ]
    },
    {
     "name": "stderr",
     "output_type": "stream",
     "text": [
      "XOpenIM() failed\n",
      "XRequest.18: BadValue 0x0\n",
      "Fontconfig warning: using without calling FcInit()\n"
     ]
    }
   ],
   "source": [
    "openPostProcessor()"
   ]
  },
  {
   "cell_type": "code",
   "execution_count": 17,
   "id": "bee48e70",
   "metadata": {},
   "outputs": [],
   "source": [
    "gmsh.finalize()"
   ]
  }
 ],
 "metadata": {
  "kernelspec": {
   "display_name": "Julia 1.12.0",
   "language": "julia",
   "name": "julia-1.12"
  },
  "language_info": {
   "file_extension": ".jl",
   "mimetype": "application/julia",
   "name": "julia",
   "version": "1.12.0"
  }
 },
 "nbformat": 4,
 "nbformat_minor": 5
}
