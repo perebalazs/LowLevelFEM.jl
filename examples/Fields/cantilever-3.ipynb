{
 "cells": [
  {
   "cell_type": "code",
   "execution_count": 56,
   "id": "3af10513",
   "metadata": {},
   "outputs": [
    {
     "name": "stdout",
     "output_type": "stream",
     "text": [
      "Info    : Reading 'beam.geo'...\n",
      "Info    : Meshing 1D...\n",
      "Info    : [  0%] Meshing curve 1 (Line)\n",
      "Info    : [ 10%] Meshing curve 2 (Line)\n",
      "Info    : [ 20%] Meshing curve 3 (Line)\n",
      "Info    : [ 30%] Meshing curve 4 (Line)\n",
      "Info    : [ 40%] Meshing curve 5 (Line)\n",
      "Info    : [ 50%] Meshing curve 6 (Line)\n",
      "Info    : [ 60%] Meshing curve 7 (Line)\n",
      "Info    : [ 60%] Meshing curve 8 (Line)\n",
      "Info    : [ 70%] Meshing curve 9 (Line)\n",
      "Info    : [ 80%] Meshing curve 10 (Line)\n",
      "Info    : [ 90%] Meshing curve 11 (Line)\n",
      "Info    : [100%] Meshing curve 12 (Line)\n",
      "Info    : Done meshing 1D (Wall 0.00128514s, CPU 0.001076s)\n",
      "Info    : Meshing 2D...\n",
      "Info    : [  0%] Meshing surface 1 (Transfinite)\n",
      "Info    : [ 20%] Meshing surface 2 (Transfinite)\n",
      "Info    : [ 40%] Meshing surface 3 (Transfinite)\n",
      "Info    : [ 60%] Meshing surface 4 (Transfinite)\n",
      "Info    : [ 70%] Meshing surface 5 (Transfinite)\n",
      "Info    : [ 90%] Meshing surface 6 (Transfinite)\n",
      "Info    : Done meshing 2D (Wall 0.000787207s, CPU 0.000678s)\n",
      "Info    : Meshing 3D...\n",
      "Info    : Meshing volume 1 (Transfinite)\n",
      "Info    : Done meshing 3D (Wall 0.0063976s, CPU 0.004274s)\n",
      "Info    : Optimizing mesh...\n",
      "Info    : Done optimizing mesh (Wall 0.000140477s, CPU 0.000139s)\n",
      "Info    : Meshing order 3 (curvilinear on)...\n",
      "Info    : [  0%] Meshing curve 1 order 3\n",
      "Info    : [ 10%] Meshing curve 2 order 3\n",
      "Info    : [ 20%] Meshing curve 3 order 3\n",
      "Info    : [ 20%] Meshing curve 4 order 3\n",
      "Info    : [ 30%] Meshing curve 5 order 3\n",
      "Info    : [ 30%] Meshing curve 6 order 3\n",
      "Info    : [ 40%] Meshing curve 7 order 3\n",
      "Info    : [ 40%] Meshing curve 8 order 3\n",
      "Info    : [ 50%] Meshing curve 9 order 3\n",
      "Info    : [ 50%] Meshing curve 10 order 3\n",
      "Info    : [ 60%] Meshing curve 11 order 3\n",
      "Info    : [ 60%] Meshing curve 12 order 3\n",
      "Info    : [ 70%] Meshing surface 1 order 3\n",
      "Info    : [ 70%] Meshing surface 2 order 3\n",
      "Info    : [ 80%] Meshing surface 3 order 3\n",
      "Info    : [ 80%] Meshing surface 4 order 3\n",
      "Info    : [ 90%] Meshing surface 5 order 3\n",
      "Info    : [ 90%] Meshing surface 6 order 3\n",
      "Info    : [100%] Meshing volume 1 order 3\n",
      "Info    : Done meshing order 3 (Wall 0.045074s, CPU 0.041896s)\n",
      "Info    : 20449 nodes 1512 elements\n",
      "Info    : Done reading 'beam.geo'\n"
     ]
    }
   ],
   "source": [
    "using LowLevelFEM, LinearAlgebra\n",
    "gmsh.initialize()\n",
    "gmsh.open(\"beam.geo\")"
   ]
  },
  {
   "cell_type": "code",
   "execution_count": 57,
   "id": "0644c35e",
   "metadata": {},
   "outputs": [
    {
     "name": "stdout",
     "output_type": "stream",
     "text": [
      "Info    : RCMK renumbering...\n",
      "Info    : Done RCMK renumbering (bandwidth is now 1197)\n"
     ]
    },
    {
     "data": {
      "text/plain": [
       "Problem(\"beam\", :Solid, 3, 3, LowLevelFEM.Material[LowLevelFEM.Material(\"body\", :Hooke, 200000.0, 0.3, 7.85e-9, 45.0, 4.2e8, 1.2e-5, 115384.61538461536, 76923.07692307692, 166666.66666666666)], 1.0, 20449)"
      ]
     },
     "metadata": {},
     "output_type": "display_data"
    }
   ],
   "source": [
    "mat = material(\"body\", E=2e5, ν=0.3)\n",
    "cantilever = Problem([mat], type=:Solid)"
   ]
  },
  {
   "cell_type": "code",
   "execution_count": 58,
   "id": "ca758b98",
   "metadata": {},
   "outputs": [
    {
     "data": {
      "text/plain": [
       "(\"left\", 0, 0, 0)"
      ]
     },
     "metadata": {},
     "output_type": "display_data"
    }
   ],
   "source": [
    "force = load(\"top\", fy=-1)\n",
    "supp = displacementConstraint(\"left\", ux=0, uy=0, uz=0)"
   ]
  },
  {
   "cell_type": "code",
   "execution_count": 59,
   "id": "64de4a5b",
   "metadata": {},
   "outputs": [
    {
     "data": {
      "text/plain": [
       "61347×61347 SparseArrays.SparseMatrixCSC{Float64, Int64} with 20126758 stored entries:\n",
       "⎡⣿⣿⣿⣿⠷⠶⣿⡿⢿⣿⠭⣿⣿⣿⣿⣷⣿⣷⡿⠿⠿⠾⠿⠾⠿⠾⠿⠿⠷⣿⣷⣿⣷⣿⣿⣿⣾⣿⣾⣿⎤\n",
       "⎢⣿⣿⠻⣦⣀⡀⣟⣆⣸⣷⣀⣀⣧⣀⣀⣀⣈⣉⣉⣉⣉⣉⣙⣛⣓⣒⣒⡒⠶⠶⠤⠤⠤⠤⣤⣤⣀⣀⣀⣀⎥\n",
       "⎢⢹⡇⠀⠸⡿⣯⣹⠘⣿⡇⢻⡏⣏⠉⠉⠉⠛⠛⠒⠒⠒⠒⠶⠶⠤⠬⠭⠭⣭⣭⣉⣉⣉⣉⣉⣉⠉⠉⠉⠉⎥\n",
       "⎢⣿⡿⠻⢽⣓⠚⣿⣿⣟⠁⠈⣿⣿⡿⣿⣗⣿⣿⣿⠿⠿⠺⢿⢾⣛⣛⣛⣻⡗⣿⣗⣿⣿⣿⢽⣿⣻⣿⣿⡏⎥\n",
       "⎢⣿⣷⢶⣾⠿⠿⠟⠙⢻⣶⣦⣿⣿⣷⣷⣶⣶⣿⣿⣾⣿⣿⣿⡿⠿⠿⢷⣿⣿⣿⣿⣿⣿⣿⣾⣿⣿⣯⣿⣧⎥\n",
       "⎢⣧⣧⠀⢸⡿⠶⣦⣤⣬⣿⣿⣿⣿⣭⣭⣭⠽⠿⠷⠶⠶⠾⠿⠿⠿⠿⠿⠿⠿⠿⠿⠿⠿⠿⠿⠿⠿⠿⢿⣿⎥\n",
       "⎢⣿⣿⠉⢻⡏⠙⣿⡿⢿⣿⡟⣿⢻⣶⣍⠉⠉⠉⠉⠉⠉⠉⠉⠉⠉⠉⠉⠉⠉⠉⠉⠉⠉⠙⠛⠛⠒⠒⠒⠒⎥\n",
       "⎢⢿⣿⠀⢸⡇⠀⢿⢿⢹⣿⡇⣿⡇⠙⢿⣷⣄⠀⠀⠀⠀⠀⠀⠀⠀⠀⠀⠀⠀⠀⠀⠀⠀⠀⠀⠀⠀⠀⠀⠀⎥\n",
       "⎢⢿⣿⡆⢸⣿⠀⣿⣿⣼⣿⣷⡇⡇⠀⠀⠙⢿⣷⣄⠀⠀⠀⠀⠀⠀⠀⠀⠀⠀⠀⠀⠀⠀⠀⠀⠀⠀⠀⠀⠀⎥\n",
       "⎢⣿⡏⡇⢸⢸⠀⣿⡟⣻⣿⢹⡇⡇⠀⠀⠀⠀⠙⢿⣷⣄⠀⠀⠀⠀⠀⠀⠀⠀⠀⠀⠀⠀⠀⠀⠀⠀⠀⠀⠀⎥\n",
       "⎢⣻⡇⡇⢸⢸⠀⣻⡃⣿⣿⣸⡇⡇⠀⠀⠀⠀⠀⠀⠙⢿⣷⣄⠀⠀⠀⠀⠀⠀⠀⠀⠀⠀⠀⠀⠀⠀⠀⠀⠀⎥\n",
       "⎢⣻⡇⣷⢸⢸⡇⣻⣗⣿⡿⣿⡇⡇⠀⠀⠀⠀⠀⠀⠀⠀⠙⢿⣷⣄⠀⠀⠀⠀⠀⠀⠀⠀⠀⠀⠀⠀⠀⠀⠀⎥\n",
       "⎢⣻⡇⢹⢸⡀⡇⣿⢸⣿⡇⣿⡇⡇⠀⠀⠀⠀⠀⠀⠀⠀⠀⠀⠙⢿⣷⣄⠀⠀⠀⠀⠀⠀⠀⠀⠀⠀⠀⠀⠀⎥\n",
       "⎢⣿⡇⢸⠸⡇⡇⣿⣸⣽⣷⣿⡇⡇⠀⠀⠀⠀⠀⠀⠀⠀⠀⠀⠀⠀⠙⢿⣷⣄⠀⠀⠀⠀⠀⠀⠀⠀⠀⠀⠀⎥\n",
       "⎢⣽⣧⢸⡇⡇⣿⣽⣭⣿⣿⣿⡇⡇⠀⠀⠀⠀⠀⠀⠀⠀⠀⠀⠀⠀⠀⠀⠙⢿⣷⣄⠀⠀⠀⠀⠀⠀⠀⠀⠀⎥\n",
       "⎢⣽⣿⠀⡇⡇⢸⣽⣽⣿⣿⣿⡇⡇⠀⠀⠀⠀⠀⠀⠀⠀⠀⠀⠀⠀⠀⠀⠀⠀⠙⢿⣷⣄⠀⠀⠀⠀⠀⠀⠀⎥\n",
       "⎢⣽⣿⠀⡇⡇⢸⣿⣿⣿⣿⣿⡇⣇⠀⠀⠀⠀⠀⠀⠀⠀⠀⠀⠀⠀⠀⠀⠀⠀⠀⠀⠙⢿⣷⣄⠀⠀⠀⠀⠀⎥\n",
       "⎢⣿⣿⠀⣿⡇⢸⣷⣷⣾⣿⣿⡇⣿⠀⠀⠀⠀⠀⠀⠀⠀⠀⠀⠀⠀⠀⠀⠀⠀⠀⠀⠀⠀⠙⢿⣷⣄⠀⠀⠀⎥\n",
       "⎢⣾⣿⠀⢸⡇⠀⣿⣾⡿⣿⣿⡇⢸⠀⠀⠀⠀⠀⠀⠀⠀⠀⠀⠀⠀⠀⠀⠀⠀⠀⠀⠀⠀⠀⠀⠙⢿⣷⣄⠀⎥\n",
       "⎣⣾⣿⠀⢸⡇⠀⡿⠿⠿⣿⣿⣷⢸⠀⠀⠀⠀⠀⠀⠀⠀⠀⠀⠀⠀⠀⠀⠀⠀⠀⠀⠀⠀⠀⠀⠀⠀⠙⢿⣷⎦"
      ]
     },
     "metadata": {},
     "output_type": "display_data"
    },
    {
     "data": {
      "text/plain": []
     },
     "metadata": {},
     "output_type": "display_data"
    }
   ],
   "source": [
    "K = stiffnessMatrix(cantilever)"
   ]
  },
  {
   "cell_type": "code",
   "execution_count": 60,
   "id": "c375332b",
   "metadata": {},
   "outputs": [
    {
     "data": {
      "text/plain": [
       "LowLevelFEM.VectorField(Matrix{Float64}[], [0.0; 0.0; … ; 0.0; 0.0;;], Float64[], Int64[], 1, :f3D, Problem(\"beam\", :Solid, 3, 3, LowLevelFEM.Material[LowLevelFEM.Material(\"body\", :Hooke, 200000.0, 0.3, 7.85e-9, 45.0, 4.2e8, 1.2e-5, 115384.61538461536, 76923.07692307692, 166666.66666666666)], 1.0, 20449))"
      ]
     },
     "metadata": {},
     "output_type": "display_data"
    }
   ],
   "source": [
    "f = loadVector(cantilever, [force])"
   ]
  },
  {
   "cell_type": "code",
   "execution_count": 61,
   "id": "e619e7d3",
   "metadata": {},
   "outputs": [],
   "source": [
    "applyBoundaryConditions!(K, f, [supp])"
   ]
  },
  {
   "cell_type": "code",
   "execution_count": 62,
   "id": "3c9b28bd",
   "metadata": {},
   "outputs": [
    {
     "data": {
      "text/plain": [
       "0.3"
      ]
     },
     "metadata": {},
     "output_type": "display_data"
    }
   ],
   "source": [
    "E = mat.E\n",
    "ν = mat.ν"
   ]
  },
  {
   "cell_type": "code",
   "execution_count": 63,
   "id": "cd92c0cc",
   "metadata": {},
   "outputs": [
    {
     "data": {
      "text/plain": [
       "LowLevelFEM.TensorField([[33.34459176956221; 1.1059619218281747; … ; -16.674890386167807; -130.8668206672592;;], [25.394324343018308; 2.9944432255657407; … ; -24.584690320488846; -125.69561967640801;;], [21.122791865334825; 0.023362776629658577; … ; -23.253947411357036; -126.16576425295008;;], [27.463879583602566; -2.506618254482443; … ; -9.79372571995055; -140.77714138348077;;], [-0.1373549216113313; 0.22008388617260044; … ; -0.9262176277818037; -30.912734966351735;;], [-0.15689898737994148; 4.177120131829018; … ; -8.187010373125055; -29.272752364752364;;], [-0.16314547029346635; 0.04901373843349913; … ; -6.9515448405352425; -29.465407491747385;;], [-0.15408266155814435; -3.6979711352415516; … ; 5.5394730918414705; -33.54680585931425;;], [-33.598441160852644; -0.07991691713710343; … ; -3.8422394757421845; 61.823633376152074;;], [-25.69420002755768; 3.0026627997154627; … ; -11.206125572598841; 58.665047709171155;;]  …  [-0.10268423933760283; -0.0003732554630399232; … ; -0.2566981596922121; -0.1432896073059018;;], [-0.10268423914156605; 0.04064229939269242; … ; -0.30274271434338684; -0.14460062623673794;;], [0.003644993614454181; -0.005571771285196626; … ; -0.24511377842065893; 0.004040242350521962;;], [-0.01858069978680607; -0.02988703572735925; … ; -0.21757490464432874; 0.0024249831741090418;;], [-0.027048466203933225; -0.0003259590030903067; … ; -0.222702325164281; 0.002602232278658773;;], [-0.020207768873768385; 0.02749918423663844; … ; -0.2647000284356792; 0.005573518982517194;;], [0.01093587232104969; 0.0045434705080927545; … ; -0.04930035485513244; 0.0654156608181204;;], [0.028979000904504705; -0.0011730388462628505; … ; -0.04007695422560665; 0.06641606778212022;;], [0.011140418262596178; -0.0004064564201139283; … ; -0.04162865879359528; 0.06546929984029731;;], [0.029805824737907907; 0.003189514197444756; … ; -0.05559218004018749; 0.0705241438147817;;]], Matrix{Float64}(undef, 0, 0), [0.0], [873, 874, 875, 876, 877, 878, 879, 880, 881, 882  …  1503, 1504, 1505, 1506, 1507, 1508, 1509, 1510, 1511, 1512], 1, :e, Problem(\"beam\", :Solid, 3, 3, LowLevelFEM.Material[LowLevelFEM.Material(\"body\", :Hooke, 200000.0, 0.3, 7.85e-9, 45.0, 4.2e8, 1.2e-5, 115384.61538461536, 76923.07692307692, 166666.66666666666)], 1.0, 20449))"
      ]
     },
     "metadata": {},
     "output_type": "display_data"
    }
   ],
   "source": [
    "u = K \\ f\n",
    "A = (u ∘ ∇ + ∇ ∘ u) / 2\n",
    "I = unitTensor(A)\n",
    "S = E / (1 + ν) * (A + ν / (1 - 2ν) * trace(A) * I)"
   ]
  },
  {
   "cell_type": "code",
   "execution_count": 64,
   "id": "01d3cc9b",
   "metadata": {},
   "outputs": [
    {
     "data": {
      "text/plain": [
       "2"
      ]
     },
     "metadata": {},
     "output_type": "display_data"
    }
   ],
   "source": [
    "showDoFResults(u, :vector, visible=true)\n",
    "Sz = showDoFResults(S, :sz)\n",
    "Syz = showDoFResults(S, :syz)"
   ]
  },
  {
   "cell_type": "code",
   "execution_count": 65,
   "id": "0790f0e0",
   "metadata": {},
   "outputs": [
    {
     "data": {
      "text/plain": [
       "4"
      ]
     },
     "metadata": {},
     "output_type": "display_data"
    }
   ],
   "source": [
    "plotOnPath(\"path\", Sz)\n",
    "plotOnPath(\"path\", Syz)"
   ]
  },
  {
   "cell_type": "code",
   "execution_count": 66,
   "id": "7fe529e0",
   "metadata": {},
   "outputs": [
    {
     "data": {
      "text/plain": [
       "LowLevelFEM.VectorField([[-1.4785210354638554; -1.2679868955232962; … ; 18.51357319863682; 11.636344100038187;;], [-4.328181239896128; 4.355160052156223; … ; 19.904529262224735; 9.370991832717593;;], [-0.7454038752409856; 4.047772065861443; … ; 19.488022966922692; 10.768909417339259;;], [5.912875670833289; 5.941223636909293; … ; 17.469614849707682; 28.399808247914805;;], [0.4073699927794837; 11.896577031762316; … ; 18.711292849602494; 2.0126474636766716;;], [-0.049423121962331444; 16.46580223932786; … ; 19.591715192306708; 1.1836028075335108;;], [0.008970494009811302; 17.013306550868684; … ; 19.306823193549334; 1.5968776005430847;;], [0.06715531935037926; 18.01014367705592; … ; 17.555952875471394; 6.583218344331279;;], [0.0636363643177781; 8.559883071247137; … ; 19.30285700923694; -5.786814304644416;;], [4.423745959398229; 9.567440180582288; … ; 20.379797889312986; -4.511692827934716;;]  …  [0.00022956829938329315; -0.05346759821369435; … ; -0.010515547404694348; 0.01911970927113267;;], [-0.0007115860077883196; -0.06478582864136734; … ; -0.008447059215850927; 0.019516289683827848;;], [0.0035020763948086188; -0.016826130273052776; … ; -0.007124858204280077; -0.010338956710883673;;], [-0.003183487375773371; -0.026818199220589516; … ; -0.008839465078056385; -0.009035268144345594;;], [0.0005402688572496959; -0.02951277497822934; … ; -0.008583798236946466; -0.009358324930940543;;], [-0.00032297573567309035; -0.031186486785243196; … ; -0.0068810647117150125; -0.010431264079222013;;], [-0.014011347122222685; -0.060950780347206766; … ; 0.004998283232726785; -0.006262402558865697;;], [-0.009492903372715578; -0.06415901969062483; … ; 0.0037562449401381884; -0.002376239728441823;;], [-0.015511792245564905; -0.06197338571117721; … ; 0.0041480050926410925; -0.0031136064090028226;;], [-0.012426484827865994; -0.05666861435986313; … ; 0.005075441478687867; -0.00979701667040396;;]], Matrix{Float64}(undef, 0, 0), [0.0], [873, 874, 875, 876, 877, 878, 879, 880, 881, 882  …  1503, 1504, 1505, 1506, 1507, 1508, 1509, 1510, 1511, 1512], 1, :e, Problem(\"beam\", :Solid, 3, 3, LowLevelFEM.Material[LowLevelFEM.Material(\"body\", :Hooke, 200000.0, 0.3, 7.85e-9, 45.0, 4.2e8, 1.2e-5, 115384.61538461536, 76923.07692307692, 166666.66666666666)], 1.0, 20449))"
      ]
     },
     "metadata": {},
     "output_type": "display_data"
    }
   ],
   "source": [
    "b = -S ⋅ ∇"
   ]
  },
  {
   "cell_type": "code",
   "execution_count": 67,
   "id": "7ac8b0c3",
   "metadata": {},
   "outputs": [
    {
     "data": {
      "text/plain": [
       "5"
      ]
     },
     "metadata": {},
     "output_type": "display_data"
    }
   ],
   "source": [
    "showDoFResults(b, :vector)"
   ]
  },
  {
   "cell_type": "code",
   "execution_count": 68,
   "id": "7e83f112",
   "metadata": {},
   "outputs": [
    {
     "name": "stdout",
     "output_type": "stream",
     "text": [
      "-------------------------------------------------------\n",
      "Version       : 4.13.1\n",
      "License       : GNU General Public License\n",
      "Build OS      : Linux64-sdk\n",
      "Build date    : 19700101\n",
      "Build host    : amdci7.julia.csail.mit.edu\n",
      "Build options : 64Bit ALGLIB[contrib] ANN[contrib] Bamg Blossom Cairo DIntegration Dlopen DomHex Eigen[contrib] Fltk GMP Gmm[contrib] Hxt Jpeg Kbipack LinuxJoystick MathEx[contrib] Mesh Metis[contrib] Mmg Mpeg Netgen Nii2mesh ONELAB ONELABMetamodel OpenCASCADE OpenCASCADE-CAF OpenGL OpenMP OptHom Parser Plugins Png Post QuadMeshingTools QuadTri Solver TetGen/BR TinyXML2[contrib] Untangle Voro++[contrib] WinslowUntangler Zlib\n",
      "FLTK version  : 1.3.8\n",
      "OCC version   : 7.7.2\n",
      "Packaged by   : root\n",
      "Web site      : https://gmsh.info\n",
      "Issue tracker : https://gitlab.onelab.info/gmsh/gmsh/issues\n",
      "-------------------------------------------------------\n"
     ]
    },
    {
     "name": "stderr",
     "output_type": "stream",
     "text": [
      "XRequest.18: BadValue 0x0\n"
     ]
    }
   ],
   "source": [
    "openPostProcessor()"
   ]
  },
  {
   "cell_type": "code",
   "execution_count": 69,
   "id": "85f3adfb",
   "metadata": {},
   "outputs": [],
   "source": [
    "gmsh.finalize()"
   ]
  }
 ],
 "metadata": {
  "kernelspec": {
   "display_name": "Julia 1.11.6",
   "language": "julia",
   "name": "julia-1.11"
  },
  "language_info": {
   "file_extension": ".jl",
   "mimetype": "application/julia",
   "name": "julia",
   "version": "1.11.6"
  }
 },
 "nbformat": 4,
 "nbformat_minor": 5
}
