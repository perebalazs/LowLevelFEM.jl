{
 "cells": [
  {
   "cell_type": "code",
   "execution_count": 1,
   "id": "3af10513",
   "metadata": {},
   "outputs": [
    {
     "name": "stdout",
     "output_type": "stream",
     "text": [
      "Info    : Increasing process stack size (8192 kB < 16 MB)\n",
      "Info    : Reading 'beam.geo'...\n",
      "Info    : Meshing 1D...\n",
      "Info    : [  0%] Meshing curve 1 (Line)\n",
      "Info    : [ 10%] Meshing curve 2 (Line)\n",
      "Info    : [ 20%] Meshing curve 3 (Line)\n",
      "Info    : [ 30%] Meshing curve 4 (Line)\n",
      "Info    : [ 40%] Meshing curve 5 (Line)\n",
      "Info    : [ 50%] Meshing curve 6 (Line)\n",
      "Info    : [ 60%] Meshing curve 7 (Line)\n",
      "Info    : [ 60%] Meshing curve 8 (Line)\n",
      "Info    : [ 70%] Meshing curve 9 (Line)\n",
      "Info    : [ 80%] Meshing curve 10 (Line)\n",
      "Info    : [ 90%] Meshing curve 11 (Line)\n",
      "Info    : [100%] Meshing curve 12 (Line)\n",
      "Info    : Done meshing 1D (Wall 0.000861379s, CPU 0.000647s)\n",
      "Info    : Meshing 2D...\n",
      "Info    : [  0%] Meshing surface 1 (Transfinite)\n",
      "Info    : [ 20%] Meshing surface 2 (Transfinite)\n",
      "Info    : [ 40%] Meshing surface 3 (Transfinite)\n",
      "Info    : [ 60%] Meshing surface 4 (Transfinite)\n",
      "Info    : [ 70%] Meshing surface 5 (Transfinite)\n",
      "Info    : [ 90%] Meshing surface 6 (Transfinite)\n",
      "Info    : Done meshing 2D (Wall 0.000337323s, CPU 0.000337s)\n",
      "Info    : Meshing 3D...\n",
      "Info    : Meshing volume 1 (Transfinite)\n",
      "Info    : Done meshing 3D (Wall 0.00165376s, CPU 0.001654s)\n",
      "Info    : Optimizing mesh...\n",
      "Info    : Done optimizing mesh (Wall 1.5427e-05s, CPU 1.6e-05s)\n",
      "Info    : 1025 nodes 1512 elements\n",
      "Info    : Done reading 'beam.geo'\n"
     ]
    }
   ],
   "source": [
    "using LowLevelFEM, LinearAlgebra\n",
    "gmsh.initialize()\n",
    "gmsh.open(\"beam.geo\")"
   ]
  },
  {
   "cell_type": "code",
   "execution_count": 2,
   "id": "0644c35e",
   "metadata": {},
   "outputs": [
    {
     "name": "stdout",
     "output_type": "stream",
     "text": [
      "Info    : RCMK renumbering...\n",
      "Info    : Done RCMK renumbering (bandwidth is now 70)\n"
     ]
    },
    {
     "data": {
      "text/plain": [
       "Problem(\"beam\", :Solid, 3, 3, LowLevelFEM.Material[LowLevelFEM.Material(\"body\", :Hooke, 200000.0, 0.3, 7.85e-9, 45.0, 4.2e8, 1.2e-5, 115384.61538461536, 76923.07692307692, 166666.66666666666)], 1.0, 1025)"
      ]
     },
     "metadata": {},
     "output_type": "display_data"
    }
   ],
   "source": [
    "mat = material(\"body\", E=2e5, ν=0.3)\n",
    "cantilever = Problem([mat], type=:Solid)"
   ]
  },
  {
   "cell_type": "code",
   "execution_count": 3,
   "id": "ca758b98",
   "metadata": {},
   "outputs": [
    {
     "data": {
      "text/plain": [
       "(\"left\", 0, 0, 0)"
      ]
     },
     "metadata": {},
     "output_type": "display_data"
    }
   ],
   "source": [
    "force = load(\"top\", fy=-1)\n",
    "supp = displacementConstraint(\"left\", ux=0, uy=0, uz=0)"
   ]
  },
  {
   "cell_type": "code",
   "execution_count": 4,
   "id": "64de4a5b",
   "metadata": {},
   "outputs": [
    {
     "data": {
      "text/plain": [
       "3075×3075 SparseArrays.SparseMatrixCSC{Float64, Int64} with 182454 stored entries:\n",
       "⎡⠻⣦⡁⠘⠀⠃⠘⠛⠲⠤⣄⣈⠃⠀⠀⠀⠻⣮⡁⠈⠈⠁⠉⠀⠂⠛⠓⠒⠒⠲⠦⠤⠤⠤⣤⣀⣀⣀⣀⡙⎤\n",
       "⎢⣁⠈⡻⣮⡀⠀⢀⣉⠛⠲⠦⣬⣀⠀⠀⠀⢀⠈⠁⢀⠀⡳⣍⠀⠀⢈⣉⣉⡙⠛⠒⠒⠒⠶⠦⠤⠤⢤⣬⣉⎥\n",
       "⎢⠤⠀⠀⠈⠻⣦⡠⠄⠀⠀⠀⠀⣍⣙⠓⠶⠤⠀⠀⠈⠳⠄⠀⠀⣄⠤⢤⣬⣉⣉⣉⣉⡛⠒⠒⠒⠲⠦⠤⠤⎥\n",
       "⎢⣶⠀⡄⢰⠀⠎⠻⣦⡀⠀⠀⠠⠆⠈⠉⠓⢶⠠⠄⠴⠠⡄⠤⠠⠎⢷⣶⣀⡀⠀⠀⠉⠉⠉⠉⠙⠛⠒⠒⠶⎥\n",
       "⎢⠘⡆⢻⡀⠀⠀⠀⠈⠻⣦⡀⠀⠀⠀⠀⠀⠸⡆⠀⠀⠀⢷⠀⠀⠀⠀⠀⠉⠙⠛⠶⢤⣤⣀⡀⠀⠀⠀⠀⠀⎥\n",
       "⎢⡀⢹⡈⣧⠀⠀⠀⡀⠀⠈⠻⣦⠀⠀⠀⠀⠀⢻⡀⠀⠀⠘⣇⠀⠀⢀⡀⠀⠀⠀⠀⠀⠀⠉⠙⠛⠶⢦⣤⣀⎥\n",
       "⎢⠉⠀⠀⠘⣇⢹⡈⠁⠀⠀⠀⠀⠻⣦⡀⠀⠀⠀⠀⢸⡄⠀⠀⠀⣧⠈⠉⠛⠳⠶⣤⣄⣀⠀⠀⠀⠀⠀⠀⠀⎥\n",
       "⎢⠀⠀⠀⠀⢹⡄⢧⠀⠀⠀⠀⠀⠀⠈⠻⣦⡀⠀⠀⠀⢷⠀⠀⠀⠸⡆⠀⠀⠀⠀⠀⠈⠉⠛⠳⠶⣤⣄⣀⠀⎥\n",
       "⎢⡻⣦⡀⠐⠀⠃⠘⡓⠲⠦⣤⣀⠀⠀⠀⠈⠻⣦⣶⣄⠈⠁⠀⠀⠀⢛⠓⠒⠒⠒⠶⠤⠤⠤⢤⣄⣀⣈⣉⡛⎥\n",
       "⎢⡁⠈⠁⢀⡀⠀⢀⡅⠀⠀⠀⠈⣀⣀⠀⠀⠘⢿⣿⣿⣷⡄⠀⠀⠀⢨⣉⣉⣉⣉⣛⠒⠒⠒⠲⠦⠤⠤⠤⣥⎥\n",
       "⎢⠆⠀⢤⡠⠙⠆⠀⠦⢤⣄⣀⠀⠀⠉⠙⠓⠆⠀⠙⠿⠻⣦⣠⣄⠀⠰⠤⠤⠤⠤⣭⣍⣉⣉⣙⣓⠒⠒⠒⠶⎥\n",
       "⎢⠃⠀⠃⠙⠀⠀⠀⡃⠀⠀⠉⠙⠀⠀⠀⠀⠀⠀⠀⠀⠀⢾⣿⣿⣷⣔⡓⠒⠒⠒⠶⠦⠤⠤⢬⣭⣉⣉⣉⣛⎥\n",
       "⎢⣬⠀⡀⢀⠀⡝⢮⣅⠀⠀⠀⢀⡉⠛⠲⠦⣤⢀⡀⣀⢀⡀⢙⢿⡿⣯⣍⠉⠉⠉⠛⠓⠒⠒⠲⠶⠤⠤⠤⣭⎥\n",
       "⎢⢹⠀⡇⢸⡀⣷⠘⢻⡄⠀⠀⠈⣧⠀⠀⠀⢹⠀⡇⢸⠀⡇⢹⠈⡇⠙⠻⣦⡀⠀⠀⠀⠀⠀⠀⠀⠀⠀⠀⠉⎥\n",
       "⎢⢸⡀⣷⠈⡇⢸⠀⠈⣷⠀⠀⠀⢹⡆⠀⠀⢸⠀⡇⢸⠀⡇⢸⠀⡇⠀⠀⠈⠻⣦⡀⠀⠀⠀⠀⠀⠀⠀⠀⠀⎥\n",
       "⎢⠈⡇⢸⠀⡇⢸⡄⠀⠘⣇⠀⠀⠀⢿⡀⠀⠘⡇⢻⠘⡇⢿⠸⡇⢿⠀⠀⠀⠀⠈⠻⣦⡄⠀⠀⠀⠀⠀⠀⠀⎥\n",
       "⎢⠀⡇⢸⡄⢻⠈⡇⠀⠀⢻⡄⠀⠀⠘⣧⠀⠀⡇⢸⠀⡇⢸⠀⡇⢸⠀⠀⠀⠀⠀⠀⠉⢿⣷⣀⠀⠀⠀⠀⠀⎥\n",
       "⎢⠀⢻⠈⡇⢸⠀⣇⠀⠀⠈⣷⠀⠀⠀⢹⡆⠀⢷⠸⡆⢷⢸⡆⣷⢸⡆⠀⠀⠀⠀⠀⠀⠀⠘⠻⣦⣀⠀⠀⠀⎥\n",
       "⎢⠀⢸⠀⣇⠸⡆⢻⠀⠀⠀⠸⣇⠀⠀⠀⢿⡀⢸⠀⡇⢸⠀⡇⢸⠀⡇⠀⠀⠀⠀⠀⠀⠀⠀⠀⠘⢻⣶⡄⠀⎥\n",
       "⎣⣄⠸⡆⢻⠀⡇⢸⡄⠀⠀⠀⢻⠀⠀⠀⠘⣧⠸⠄⣧⢸⡄⣧⢸⡄⣧⡄⠀⠀⠀⠀⠀⠀⠀⠀⠀⠀⠉⠿⣧⎦"
      ]
     },
     "metadata": {},
     "output_type": "display_data"
    },
    {
     "data": {
      "text/plain": []
     },
     "metadata": {},
     "output_type": "display_data"
    }
   ],
   "source": [
    "K = stiffnessMatrix(cantilever)"
   ]
  },
  {
   "cell_type": "code",
   "execution_count": 5,
   "id": "c375332b",
   "metadata": {},
   "outputs": [
    {
     "data": {
      "text/plain": [
       "LowLevelFEM.VectorField(Matrix{Float64}[], [0.0; 0.0; … ; 0.0; 0.0;;], Float64[], Int64[], 1, :f3D, Problem(\"beam\", :Solid, 3, 3, LowLevelFEM.Material[LowLevelFEM.Material(\"body\", :Hooke, 200000.0, 0.3, 7.85e-9, 45.0, 4.2e8, 1.2e-5, 115384.61538461536, 76923.07692307692, 166666.66666666666)], 1.0, 1025))"
      ]
     },
     "metadata": {},
     "output_type": "display_data"
    }
   ],
   "source": [
    "f = loadVector(cantilever, [force])"
   ]
  },
  {
   "cell_type": "code",
   "execution_count": 6,
   "id": "e619e7d3",
   "metadata": {},
   "outputs": [],
   "source": [
    "applyBoundaryConditions!(K, f, [supp])"
   ]
  },
  {
   "cell_type": "code",
   "execution_count": 7,
   "id": "3c9b28bd",
   "metadata": {},
   "outputs": [
    {
     "data": {
      "text/plain": [
       "0.3"
      ]
     },
     "metadata": {},
     "output_type": "display_data"
    }
   ],
   "source": [
    "E = mat.E\n",
    "ν = mat.ν"
   ]
  },
  {
   "cell_type": "code",
   "execution_count": 8,
   "id": "cd92c0cc",
   "metadata": {},
   "outputs": [
    {
     "data": {
      "text/plain": [
       "LowLevelFEM.TensorField([[29.945167036675244; 10.711736549700605; … ; -32.23547184350109; -84.7900104414165;;], [20.608358788432; 7.091981943390772; … ; -35.38889527015259; -84.45454868369842;;], [20.608358788454368; 3.153423426651136; … ; -32.23547184350827; -84.79001044154833;;], [29.94516703676121; 4.7686539663701; … ; -17.22141250711008; -97.8091120923605;;], [-0.11543088310449878; 10.421023186577564; … ; -25.081738855254702; -0.20364202124664044;;], [-0.13342112009985288; 7.263955981179121; … ; -28.188672828339314; -0.20012465835177196;;], [-0.13342112007652715; 3.1069339730918055; … ; -25.081738855245312; -0.20364202137778076;;], [-0.1154308830149661; 4.609275773318428; … ; -10.101573127659243; -0.24943862139415213;;], [-30.153720726590944; 10.37789547475; … ; -32.48220957797191; 84.40039929441816;;], [-20.867528234912527; 7.214146735615265; … ; -35.63511639975577; 84.07191060174583;;]  …  [-0.0731001572709989; 0.0061244750732015315; … ; -0.21670153894405575; -0.10161393924602542;;], [-0.07310015727612462; 0.015608355712335386; … ; -0.2715164591498906; -0.10161393924100318;;], [-0.007603462725822973; -0.04850460604416986; … ; -0.22977642178726743; 0.046775339809357254;;], [-0.011633146607818463; -0.03411692961991999; … ; -0.21593456489448043; 0.043921290552813116;;], [-0.011633146601501257; 0.003383424284573556; … ; -0.22977642178299731; 0.04677533980668845;;], [-0.007603462719152686; 0.01575625874674762; … ; -0.28341670556171056; 0.059919268150120136;;], [0.03265705894728467; -0.020700804625751707; … ; -0.054058739892490215; 0.04770986411852329;;], [0.022334178690797103; -0.017082410522076766; … ; -0.05155415048028808; 0.05218652461755168;;], [0.02233417868707374; 9.87478692135952e-5; … ; -0.05405873988501756; 0.04770986411852329;;], [0.032657058954639585; 0.0005705437891623914; … ; -0.07503820793003059; 0.06238384799321365;;]], Matrix{Float64}(undef, 0, 0), [0.0], [873, 874, 875, 876, 877, 878, 879, 880, 881, 882  …  1503, 1504, 1505, 1506, 1507, 1508, 1509, 1510, 1511, 1512], 1, :e, Problem(\"beam\", :Solid, 3, 3, LowLevelFEM.Material[LowLevelFEM.Material(\"body\", :Hooke, 200000.0, 0.3, 7.85e-9, 45.0, 4.2e8, 1.2e-5, 115384.61538461536, 76923.07692307692, 166666.66666666666)], 1.0, 1025))"
      ]
     },
     "metadata": {},
     "output_type": "display_data"
    }
   ],
   "source": [
    "u = K \\ f\n",
    "A = (u ∘ ∇ + ∇ ∘ u) / 2\n",
    "I = unitTensor(A)\n",
    "S = E / (1 + ν) * (A + ν / (1 - 2ν) * trace(A) * I)"
   ]
  },
  {
   "cell_type": "code",
   "execution_count": 9,
   "id": "01d3cc9b",
   "metadata": {},
   "outputs": [
    {
     "data": {
      "text/plain": [
       "3"
      ]
     },
     "metadata": {},
     "output_type": "display_data"
    }
   ],
   "source": [
    "showDoFResults(u, :vector, visible=true)\n",
    "Sz = showDoFResults(S, :sz)\n",
    "Syz = showDoFResults(S, :syz)"
   ]
  },
  {
   "cell_type": "code",
   "execution_count": 10,
   "id": "0790f0e0",
   "metadata": {},
   "outputs": [
    {
     "data": {
      "text/plain": [
       "5"
      ]
     },
     "metadata": {},
     "output_type": "display_data"
    }
   ],
   "source": [
    "plotOnPath(\"path\", Sz)\n",
    "plotOnPath(\"path\", Syz)"
   ]
  },
  {
   "cell_type": "code",
   "execution_count": 11,
   "id": "7fe529e0",
   "metadata": {},
   "outputs": [
    {
     "data": {
      "text/plain": [
       "LowLevelFEM.VectorField([[-5.364209964713007; 3.586527555400866; … ; -8.442593343355082; -12.443347129544705;;], [-1.1234599898420994; 0.23990786746397708; … ; -8.804581679705608; -11.427182186228741;;], [-1.8673616496648489; 0.381061124724351; … ; -8.442593343358261; -10.575985479902325;;], [1.1223682204686067; 3.4801560684520694; … ; -8.030004619946366; -16.334857950372246;;], [0.041731393242739376; 11.898863210047551; … ; -4.9273854747750665; -2.898986606567309;;], [-0.04300967626794085; 9.618073362432941; … ; -4.931540353890669; -2.914676048690055;;], [-0.0035980474136196317; 10.154044997834735; … ; -4.927385474775107; -2.89538855917251;;], [0.04191790689858006; 12.723147025663753; … ; -5.420410191334166; -2.8974173483607712;;], [5.02900574175845; 9.370787830274077; … ; -8.49625340995468; 4.260791377407145;;], [0.7153418780488368; 6.052363380204276; … ; -8.857786725499313; 2.7498054591730217;;]  …  [3.214324639788657e-12; 0.021011908303347756; … ; 0.017032509391600864; 0.03267179452447192;;], [-0.004924179821462628; 0.02093083469462461; … ; 0.010863865434016934; 0.03888831042000402;;], [-0.0075383303446801865; 0.036352847680833925; … ; 0.039620446539899115; -0.016746290555890518;;], [-0.0028533873089304843; 0.04435005784846334; … ; 0.041559833024450335; -0.009375084823081567;;], [-0.0008059367801802955; 0.044577442208663276; … ; 0.03999921020554291; -0.010697393205566424;;], [0.0011978055745115752; 0.04467113953033588; … ; 0.03327550890297529; -0.018947838281340987;;], [-0.014017268284860851; -0.004612147662916715; … ; 0.005310651768366675; -0.017431856189095374;;], [-0.005931128241511323; 0.0028956728877458445; … ; 0.009068736681786344; -0.010694713519046273;;], [-0.0020645760528262697; 0.003811038890006422; … ; 0.008436770310760767; -0.013346336966144914;;], [0.004160792338538985; 0.0016765327589052265; … ; -0.0001738919107220141; -0.01939194019835;;]], Matrix{Float64}(undef, 0, 0), [0.0], [873, 874, 875, 876, 877, 878, 879, 880, 881, 882  …  1503, 1504, 1505, 1506, 1507, 1508, 1509, 1510, 1511, 1512], 1, :e, Problem(\"beam\", :Solid, 3, 3, LowLevelFEM.Material[LowLevelFEM.Material(\"body\", :Hooke, 200000.0, 0.3, 7.85e-9, 45.0, 4.2e8, 1.2e-5, 115384.61538461536, 76923.07692307692, 166666.66666666666)], 1.0, 1025))"
      ]
     },
     "metadata": {},
     "output_type": "display_data"
    }
   ],
   "source": [
    "b = -S ⋅ ∇"
   ]
  },
  {
   "cell_type": "code",
   "execution_count": 12,
   "id": "7ac8b0c3",
   "metadata": {},
   "outputs": [
    {
     "data": {
      "text/plain": [
       "6"
      ]
     },
     "metadata": {},
     "output_type": "display_data"
    }
   ],
   "source": [
    "showDoFResults(b, :vector)"
   ]
  },
  {
   "cell_type": "code",
   "execution_count": 13,
   "id": "7e83f112",
   "metadata": {},
   "outputs": [
    {
     "name": "stdout",
     "output_type": "stream",
     "text": [
      "-------------------------------------------------------\n",
      "Version       : 4.13.1\n",
      "License       : GNU General Public License\n",
      "Build OS      : Linux64-sdk\n",
      "Build date    : 19700101\n",
      "Build host    : amdci7.julia.csail.mit.edu\n",
      "Build options : 64Bit ALGLIB[contrib] ANN[contrib] Bamg Blossom Cairo DIntegration Dlopen DomHex Eigen[contrib] Fltk GMP Gmm[contrib] Hxt Jpeg Kbipack LinuxJoystick MathEx[contrib] Mesh Metis[contrib] Mmg Mpeg Netgen Nii2mesh ONELAB ONELABMetamodel OpenCASCADE OpenCASCADE-CAF OpenGL OpenMP OptHom Parser Plugins Png Post QuadMeshingTools QuadTri Solver TetGen/BR TinyXML2[contrib] Untangle Voro++[contrib] WinslowUntangler Zlib\n",
      "FLTK version  : 1.3.8\n",
      "OCC version   : 7.7.2\n",
      "Packaged by   : root\n",
      "Web site      : https://gmsh.info\n",
      "Issue tracker : https://gitlab.onelab.info/gmsh/gmsh/issues\n",
      "-------------------------------------------------------\n"
     ]
    },
    {
     "name": "stderr",
     "output_type": "stream",
     "text": [
      "XOpenIM() failed\n",
      "XRequest.18: BadValue 0x0\n",
      "Fontconfig warning: using without calling FcInit()\n"
     ]
    }
   ],
   "source": [
    "openPostProcessor()"
   ]
  },
  {
   "cell_type": "code",
   "execution_count": 14,
   "id": "85f3adfb",
   "metadata": {},
   "outputs": [],
   "source": [
    "gmsh.finalize()"
   ]
  }
 ],
 "metadata": {
  "kernelspec": {
   "display_name": "Julia 1.11.6",
   "language": "julia",
   "name": "julia-1.11"
  },
  "language_info": {
   "file_extension": ".jl",
   "mimetype": "application/julia",
   "name": "julia",
   "version": "1.11.6"
  }
 },
 "nbformat": 4,
 "nbformat_minor": 5
}
