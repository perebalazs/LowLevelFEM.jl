{
 "cells": [
  {
   "cell_type": "code",
   "execution_count": 9,
   "id": "3af10513",
   "metadata": {},
   "outputs": [
    {
     "name": "stdout",
     "output_type": "stream",
     "text": [
      "Info    : Reading 'beam.geo'...\n",
      "Info    : Meshing 1D...\n",
      "Info    : [  0%] Meshing curve 1 (Line)\n",
      "Info    : [ 10%] Meshing curve 2 (Line)\n",
      "Info    : [ 20%] Meshing curve 3 (Line)\n",
      "Info    : [ 30%] Meshing curve 4 (Line)\n",
      "Info    : [ 40%] Meshing curve 5 (Line)\n",
      "Info    : [ 50%] Meshing curve 6 (Line)\n",
      "Info    : [ 60%] Meshing curve 7 (Line)\n",
      "Info    : [ 60%] Meshing curve 8 (Line)\n",
      "Info    : [ 70%] Meshing curve 9 (Line)\n",
      "Info    : [ 80%] Meshing curve 10 (Line)\n",
      "Info    : [ 90%] Meshing curve 11 (Line)\n",
      "Info    : [100%] Meshing curve 12 (Line)\n",
      "Info    : Done meshing 1D (Wall 0.00157429s, CPU 0.001545s)\n",
      "Info    : Meshing 2D...\n",
      "Info    : [  0%] Meshing surface 1 (Transfinite)\n",
      "Info    : [ 20%] Meshing surface 2 (Transfinite)\n",
      "Info    : [ 40%] Meshing surface 3 (Transfinite)\n",
      "Info    : [ 60%] Meshing surface 4 (Transfinite)\n",
      "Info    : [ 70%] Meshing surface 5 (Transfinite)\n",
      "Info    : [ 90%] Meshing surface 6 (Transfinite)\n",
      "Info    : Done meshing 2D (Wall 0.000803008s, CPU 0.000772s)\n",
      "Info    : Meshing 3D...\n",
      "Info    : Meshing volume 1 (Transfinite)\n",
      "Info    : Done meshing 3D (Wall 0.00598796s, CPU 0.004198s)\n",
      "Info    : Optimizing mesh...\n",
      "Info    : Done optimizing mesh (Wall 0.00135536s, CPU 0s)\n",
      "Info    : 1025 nodes 1512 elements\n",
      "Info    : Done reading 'beam.geo'\n"
     ]
    }
   ],
   "source": [
    "using LowLevelFEM\n",
    "gmsh.initialize()\n",
    "gmsh.open(\"beam.geo\")"
   ]
  },
  {
   "cell_type": "code",
   "execution_count": 10,
   "id": "0644c35e",
   "metadata": {},
   "outputs": [
    {
     "name": "stdout",
     "output_type": "stream",
     "text": [
      "Info    : RCMK renumbering...\n",
      "Info    : Done RCMK renumbering (bandwidth is now 70)\n"
     ]
    },
    {
     "data": {
      "text/plain": [
       "Problem(\"beam\", :Solid, 3, 3, LowLevelFEM.Material[LowLevelFEM.Material(\"body\", :Hooke, 200000.0, 0.3, 7.85e-9, 45.0, 4.2e8, 1.2e-5, 115384.61538461536, 76923.07692307692, 166666.66666666666)], 1.0, 1025)"
      ]
     },
     "metadata": {},
     "output_type": "display_data"
    }
   ],
   "source": [
    "mat = material(\"body\", E=2e5, ν=0.3)\n",
    "cantilever = Problem([mat], type=:Solid)"
   ]
  },
  {
   "cell_type": "code",
   "execution_count": 11,
   "id": "ca758b98",
   "metadata": {},
   "outputs": [
    {
     "data": {
      "text/plain": [
       "(\"left\", 0, 0, 0)"
      ]
     },
     "metadata": {},
     "output_type": "display_data"
    }
   ],
   "source": [
    "force = load(\"top\", fy=-1)\n",
    "supp = displacementConstraint(\"left\", ux=0, uy=0, uz=0)"
   ]
  },
  {
   "cell_type": "code",
   "execution_count": 12,
   "id": "64de4a5b",
   "metadata": {},
   "outputs": [
    {
     "data": {
      "text/plain": [
       "LowLevelFEM.TensorField([[19.79642150422807; 10.711736549700612; … ; -32.23547184350109; -148.00277080188076;;], [14.421349014019789; 7.091981943390766; … ; -35.38889527015259; -147.4157127258741;;], [16.629460488739955; 3.153423426651135; … ; -32.23547184350827; -148.00277080211146;;], [30.760763448532096; 4.7686539663701; … ; -17.22141250711008; -170.78619869103275;;], [10.783273325994069; 10.421023186577562; … ; -25.081738855254702; 0.023373933416511495;;], [10.836978274383508; 7.263955981179121; … ; -28.188672828339314; 0.02952931848253129;;], [10.909350476945802; 3.1069339730918064; … ; -25.081738855245312; 0.02337393318701588;;], [10.868461189208555; 4.609275773318428; … ; -10.101573127659243; -0.056770116841634;;], [9.657322177334805; 10.377895474749998; … ; -32.48220957797191; 148.08044623582992;;], [16.174016243764513; 7.214146735615261; … ; -35.63511639975577; 147.50559102365335;;]  …  [0.11814537435148606; 0.006124475072387925; … ; -0.21670153894440447; 0.10264462626808069;;], [0.12225695048523885; 0.015608355710469915; … ; -0.2715164591481371; 0.10418472632335657;;], [0.11373402506559599; -0.04850460604533834; … ; -0.22977642178940247; 0.17001624356091333;;], [0.09660227742253807; -0.034116929619017085; … ; -0.21593456489474733; 0.165746704395564;;], [0.09857331668590663; 0.003383424284331992; … ; -0.22977642178353108; 0.16966091086379792;;], [0.10365422423831738; 0.015756258746442323; … ; -0.2834167055605096; 0.1914780180946049;;], [0.04150873845092995; -0.02070080462601709; … ; -0.05405873989369118; 0.04449630834271934;;], [0.014592018512130656; -0.01708241052030738; … ; -0.05155415047962088; 0.03989033764211347;;], [0.022876528490289427; 9.874786885624495e-5; … ; -0.05405873988568476; 0.02909761495850749;;], [0.03265705895463955; 0.0005705437916985873; … ; -0.07503820792882963; 0.062383847993213726;;]], Matrix{Float64}(undef, 0, 0), [0.0], [873, 874, 875, 876, 877, 878, 879, 880, 881, 882  …  1503, 1504, 1505, 1506, 1507, 1508, 1509, 1510, 1511, 1512], 1, :s, Problem(\"beam\", :Solid, 3, 3, LowLevelFEM.Material[LowLevelFEM.Material(\"body\", :Hooke, 200000.0, 0.3, 7.85e-9, 45.0, 4.2e8, 1.2e-5, 115384.61538461536, 76923.07692307692, 166666.66666666666)], 1.0, 1025))"
      ]
     },
     "metadata": {},
     "output_type": "display_data"
    }
   ],
   "source": [
    "u = solveDisplacement(cantilever, [force], [supp])\n",
    "S = solveStress(u)"
   ]
  },
  {
   "cell_type": "code",
   "execution_count": 13,
   "id": "01d3cc9b",
   "metadata": {},
   "outputs": [
    {
     "data": {
      "text/plain": [
       "2"
      ]
     },
     "metadata": {},
     "output_type": "display_data"
    }
   ],
   "source": [
    "showDoFResults(u, :vector, visible=true)\n",
    "Sz = showDoFResults(S, :sz)\n",
    "Syz = showDoFResults(S, :syz)"
   ]
  },
  {
   "cell_type": "code",
   "execution_count": 14,
   "id": "0790f0e0",
   "metadata": {},
   "outputs": [
    {
     "data": {
      "text/plain": [
       "4"
      ]
     },
     "metadata": {},
     "output_type": "display_data"
    }
   ],
   "source": [
    "plotOnPath(\"path\", Sz)\n",
    "plotOnPath(\"path\", Syz)"
   ]
  },
  {
   "cell_type": "code",
   "execution_count": 15,
   "id": "7e83f112",
   "metadata": {},
   "outputs": [
    {
     "name": "stdout",
     "output_type": "stream",
     "text": [
      "-------------------------------------------------------\n",
      "Version       : 4.13.1\n",
      "License       : GNU General Public License\n",
      "Build OS      : Linux64-sdk\n",
      "Build date    : 19700101\n",
      "Build host    : amdci7.julia.csail.mit.edu\n",
      "Build options : 64Bit ALGLIB[contrib] ANN[contrib] Bamg Blossom Cairo DIntegration Dlopen DomHex Eigen[contrib] Fltk GMP Gmm[contrib] Hxt Jpeg Kbipack LinuxJoystick MathEx[contrib] Mesh Metis[contrib] Mmg Mpeg Netgen Nii2mesh ONELAB ONELABMetamodel OpenCASCADE OpenCASCADE-CAF OpenGL OpenMP OptHom Parser Plugins Png Post QuadMeshingTools QuadTri Solver TetGen/BR TinyXML2[contrib] Untangle Voro++[contrib] WinslowUntangler Zlib\n",
      "FLTK version  : 1.3.8\n",
      "OCC version   : 7.7.2\n",
      "Packaged by   : root\n",
      "Web site      : https://gmsh.info\n",
      "Issue tracker : https://gitlab.onelab.info/gmsh/gmsh/issues\n",
      "-------------------------------------------------------\n"
     ]
    },
    {
     "name": "stderr",
     "output_type": "stream",
     "text": [
      "XRequest.18: BadValue 0x0\n"
     ]
    }
   ],
   "source": [
    "openPostProcessor()"
   ]
  },
  {
   "cell_type": "code",
   "execution_count": 16,
   "id": "85f3adfb",
   "metadata": {},
   "outputs": [],
   "source": [
    "gmsh.finalize()"
   ]
  }
 ],
 "metadata": {
  "kernelspec": {
   "display_name": "Julia 1.11.6",
   "language": "julia",
   "name": "julia-1.11"
  },
  "language_info": {
   "file_extension": ".jl",
   "mimetype": "application/julia",
   "name": "julia",
   "version": "1.11.6"
  }
 },
 "nbformat": 4,
 "nbformat_minor": 5
}
