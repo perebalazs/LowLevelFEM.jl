{
 "cells": [
  {
   "cell_type": "code",
   "execution_count": 1,
   "id": "b43b947e-53ae-40bd-8200-328ca63a2987",
   "metadata": {},
   "outputs": [
    {
     "data": {
      "text/plain": [
       "(\"aaa\", 1, 2.0)"
      ]
     },
     "execution_count": 1,
     "metadata": {},
     "output_type": "execute_result"
    }
   ],
   "source": [
    "tup = \"aaa\", 1, 2.0"
   ]
  },
  {
   "cell_type": "code",
   "execution_count": 2,
   "id": "26107568-7876-4cf9-b34a-2210f130abfd",
   "metadata": {},
   "outputs": [
    {
     "data": {
      "text/plain": [
       "fn (generic function with 1 method)"
      ]
     },
     "execution_count": 2,
     "metadata": {},
     "output_type": "execute_result"
    }
   ],
   "source": [
    "function fn(x; a = (\"bbb\", 3, 4.0))\n",
    "    s, b, c = a\n",
    "    return x * c\n",
    "end"
   ]
  },
  {
   "cell_type": "code",
   "execution_count": 3,
   "id": "de190f9d-40b2-45a4-85e0-32ab8a1e2bf9",
   "metadata": {},
   "outputs": [
    {
     "data": {
      "text/plain": [
       "10.0"
      ]
     },
     "metadata": {},
     "output_type": "display_data"
    }
   ],
   "source": [
    "display(fn(5, a=tup))"
   ]
  },
  {
   "cell_type": "code",
   "execution_count": 4,
   "id": "2cd098d8-5322-43ab-93fd-0406a0536481",
   "metadata": {},
   "outputs": [
    {
     "data": {
      "text/plain": [
       "20.0"
      ]
     },
     "metadata": {},
     "output_type": "display_data"
    }
   ],
   "source": [
    "display(fn(5))"
   ]
  }
 ],
 "metadata": {
  "kernelspec": {
   "display_name": "Julia 1.10.1",
   "language": "julia",
   "name": "julia-1.10"
  },
  "language_info": {
   "file_extension": ".jl",
   "mimetype": "application/julia",
   "name": "julia",
   "version": "1.10.1"
  }
 },
 "nbformat": 4,
 "nbformat_minor": 5
}
