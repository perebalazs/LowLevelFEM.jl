{
 "cells": [
  {
   "cell_type": "code",
   "execution_count": 8,
   "id": "56227efb",
   "metadata": {},
   "outputs": [
    {
     "name": "stderr",
     "output_type": "stream",
     "text": [
      "\n",
      "SYSTEM: caught exception of type :MethodError while trying to print a failed Task notice; giving up\n",
      "\n",
      "SYSTEM: caught exception of type :MethodError while trying to print a failed Task notice; giving up\n",
      "\n",
      "SYSTEM: caught exception of type :MethodError while trying to print a failed Task notice; giving up\n",
      "\n",
      "SYSTEM: caught exception of type :MethodError while trying to print a failed Task notice; giving up\n",
      "\n",
      "SYSTEM: caught exception of type :MethodError while trying to print a failed Task notice; giving up\n"
     ]
    },
    {
     "ename": "LoadError",
     "evalue": "MethodError: no method matching pipe_writer(::IJulia.IJuliaStdio{Base.PipeEndpoint})\nThe applicable method may be too new: running in world age 38630, while current world is 38658.\n\n\u001b[0mClosest candidates are:\n\u001b[0m  pipe_writer(::IJulia.IJuliaStdio) (method too new to be called from this world context.)\n\u001b[0m\u001b[90m   @\u001b[39m \u001b[35mMain\u001b[39m \u001b[90m\u001b[4mIn[1]:3\u001b[24m\u001b[39m\n\u001b[0m  pipe_writer(\u001b[91m::Base.ProcessChain\u001b[39m)\n\u001b[0m\u001b[90m   @\u001b[39m \u001b[90mBase\u001b[39m \u001b[90m\u001b[4mprocess.jl:37\u001b[24m\u001b[39m\n\u001b[0m  pipe_writer(\u001b[91m::Base.Process\u001b[39m)\n\u001b[0m\u001b[90m   @\u001b[39m \u001b[90mBase\u001b[39m \u001b[90m\u001b[4mprocess.jl:23\u001b[24m\u001b[39m\n\u001b[0m  ...\n",
     "output_type": "error",
     "traceback": [
      "MethodError: no method matching pipe_writer(::IJulia.IJuliaStdio{Base.PipeEndpoint})\nThe applicable method may be too new: running in world age 38630, while current world is 38658.\n\n\u001b[0mClosest candidates are:\n\u001b[0m  pipe_writer(::IJulia.IJuliaStdio) (method too new to be called from this world context.)\n\u001b[0m\u001b[90m   @\u001b[39m \u001b[35mMain\u001b[39m \u001b[90m\u001b[4mIn[1]:3\u001b[24m\u001b[39m\n\u001b[0m  pipe_writer(\u001b[91m::Base.ProcessChain\u001b[39m)\n\u001b[0m\u001b[90m   @\u001b[39m \u001b[90mBase\u001b[39m \u001b[90m\u001b[4mprocess.jl:37\u001b[24m\u001b[39m\n\u001b[0m  pipe_writer(\u001b[91m::Base.Process\u001b[39m)\n\u001b[0m\u001b[90m   @\u001b[39m \u001b[90mBase\u001b[39m \u001b[90m\u001b[4mprocess.jl:23\u001b[24m\u001b[39m\n\u001b[0m  ...\n",
      "",
      "Stacktrace:",
      "  [1] \u001b[0m\u001b[1munsafe_write\u001b[22m\u001b[0m\u001b[1m(\u001b[22m\u001b[90mio\u001b[39m::\u001b[0mIJulia.IJuliaStdio\u001b[90m{Base.PipeEndpoint}\u001b[39m, \u001b[90mp\u001b[39m::\u001b[0mPtr\u001b[90m{UInt8}\u001b[39m, \u001b[90mnb\u001b[39m::\u001b[0mUInt64\u001b[0m\u001b[1m)\u001b[22m",
      "\u001b[90m    @\u001b[39m \u001b[90mBase\u001b[39m \u001b[90m./\u001b[39m\u001b[90m\u001b[4mio.jl:452\u001b[24m\u001b[39m",
      "  [2] \u001b[0m\u001b[1munsafe_write\u001b[22m\u001b[0m\u001b[1m(\u001b[22m\u001b[90mio\u001b[39m::\u001b[0mIOContext\u001b[90m{IO}\u001b[39m, \u001b[90mp\u001b[39m::\u001b[0mPtr\u001b[90m{UInt8}\u001b[39m, \u001b[90mnb\u001b[39m::\u001b[0mUInt64\u001b[0m\u001b[1m)\u001b[22m",
      "\u001b[90m    @\u001b[39m \u001b[90mBase\u001b[39m \u001b[90m./\u001b[39m\u001b[90m\u001b[4mio.jl:452\u001b[24m\u001b[39m",
      "  [3] \u001b[0m\u001b[1mwrite\u001b[22m",
      "\u001b[90m    @\u001b[39m \u001b[90m./strings/\u001b[39m\u001b[90m\u001b[4mio.jl:246\u001b[24m\u001b[39m\u001b[90m [inlined]\u001b[39m",
      "  [4] \u001b[0m\u001b[1mprint\u001b[22m",
      "\u001b[90m    @\u001b[39m \u001b[90m./strings/\u001b[39m\u001b[90m\u001b[4mio.jl:248\u001b[24m\u001b[39m\u001b[90m [inlined]\u001b[39m",
      "  [5] \u001b[0m\u001b[1mprint\u001b[22m\u001b[0m\u001b[1m(\u001b[22m::\u001b[0mIOContext\u001b[90m{IO}\u001b[39m, ::\u001b[0mString, ::\u001b[0mString\u001b[0m\u001b[1m)\u001b[22m",
      "\u001b[90m    @\u001b[39m \u001b[90mBase\u001b[39m \u001b[90m./strings/\u001b[39m\u001b[90m\u001b[4mio.jl:46\u001b[24m\u001b[39m",
      "  [6] \u001b[0m\u001b[1mprintln\u001b[22m",
      "\u001b[90m    @\u001b[39m \u001b[90m./strings/\u001b[39m\u001b[90m\u001b[4mio.jl:77\u001b[24m\u001b[39m\u001b[90m [inlined]\u001b[39m",
      "  [7] \u001b[0m\u001b[1mmacro expansion\u001b[22m",
      "\u001b[90m    @\u001b[39m \u001b[90m./\u001b[39m\u001b[90m\u001b[4mprecompilation.jl:1087\u001b[24m\u001b[39m\u001b[90m [inlined]\u001b[39m",
      "  [8] \u001b[0m\u001b[1mmacro expansion\u001b[22m",
      "\u001b[90m    @\u001b[39m \u001b[90m./\u001b[39m\u001b[90m\u001b[4mlock.jl:376\u001b[24m\u001b[39m\u001b[90m [inlined]\u001b[39m",
      "  [9] \u001b[0m\u001b[1m_precompilepkgs\u001b[22m\u001b[0m\u001b[1m(\u001b[22m\u001b[90mpkgs\u001b[39m::\u001b[0mVector\u001b[90m{String}\u001b[39m, \u001b[90minternal_call\u001b[39m::\u001b[0mBool, \u001b[90mstrict\u001b[39m::\u001b[0mBool, \u001b[90mwarn_loaded\u001b[39m::\u001b[0mBool, \u001b[90mtiming\u001b[39m::\u001b[0mBool, \u001b[90m_from_loading\u001b[39m::\u001b[0mBool, \u001b[90mconfigs\u001b[39m::\u001b[0mVector\u001b[90m{Pair{Cmd, Base.CacheFlags}}\u001b[39m, \u001b[90m_io\u001b[39m::\u001b[0mIOContext\u001b[90m{IO}\u001b[39m, \u001b[90mfancyprint\u001b[39m::\u001b[0mBool, \u001b[90mmanifest\u001b[39m::\u001b[0mBool, \u001b[90mignore_loaded\u001b[39m::\u001b[0mBool\u001b[0m\u001b[1m)\u001b[22m",
      "\u001b[90m    @\u001b[39m \u001b[90mBase.Precompilation\u001b[39m \u001b[90m./\u001b[39m\u001b[90m\u001b[4mprecompilation.jl:1086\u001b[24m\u001b[39m",
      " [10] \u001b[0m\u001b[1mprecompilepkgs\u001b[22m\u001b[0m\u001b[1m(\u001b[22m\u001b[90mpkgs\u001b[39m::\u001b[0mVector\u001b[90m{String}\u001b[39m; \u001b[90minternal_call\u001b[39m::\u001b[0mBool, \u001b[90mstrict\u001b[39m::\u001b[0mBool, \u001b[90mwarn_loaded\u001b[39m::\u001b[0mBool, \u001b[90mtiming\u001b[39m::\u001b[0mBool, \u001b[90m_from_loading\u001b[39m::\u001b[0mBool, \u001b[90mconfigs\u001b[39m::\u001b[0mPair\u001b[90m{Cmd, Base.CacheFlags}\u001b[39m, \u001b[90mio\u001b[39m::\u001b[0mIJulia.IJuliaStdio\u001b[90m{Base.PipeEndpoint}\u001b[39m, \u001b[90mfancyprint\u001b[39m::\u001b[0mBool, \u001b[90mmanifest\u001b[39m::\u001b[0mBool, \u001b[90mignore_loaded\u001b[39m::\u001b[0mBool\u001b[0m\u001b[1m)\u001b[22m",
      "\u001b[90m    @\u001b[39m \u001b[90mBase.Precompilation\u001b[39m \u001b[90m./\u001b[39m\u001b[90m\u001b[4mprecompilation.jl:472\u001b[24m\u001b[39m",
      " [11] \u001b[0m\u001b[1m__require_prelocked\u001b[22m\u001b[0m\u001b[1m(\u001b[22m\u001b[90mpkg\u001b[39m::\u001b[0mBase.PkgId, \u001b[90menv\u001b[39m::\u001b[0mString\u001b[0m\u001b[1m)\u001b[22m",
      "\u001b[90m    @\u001b[39m \u001b[90mBase\u001b[39m \u001b[90m./\u001b[39m\u001b[90m\u001b[4mloading.jl:2630\u001b[24m\u001b[39m",
      " [12] \u001b[0m\u001b[1m_require_prelocked\u001b[22m\u001b[0m\u001b[1m(\u001b[22m\u001b[90muuidkey\u001b[39m::\u001b[0mBase.PkgId, \u001b[90menv\u001b[39m::\u001b[0mString\u001b[0m\u001b[1m)\u001b[22m",
      "\u001b[90m    @\u001b[39m \u001b[90mBase\u001b[39m \u001b[90m./\u001b[39m\u001b[90m\u001b[4mloading.jl:2465\u001b[24m\u001b[39m",
      " [13] \u001b[0m\u001b[1mmacro expansion\u001b[22m",
      "\u001b[90m    @\u001b[39m \u001b[90m./\u001b[39m\u001b[90m\u001b[4mloading.jl:2393\u001b[24m\u001b[39m\u001b[90m [inlined]\u001b[39m",
      " [14] \u001b[0m\u001b[1mmacro expansion\u001b[22m",
      "\u001b[90m    @\u001b[39m \u001b[90m./\u001b[39m\u001b[90m\u001b[4mlock.jl:376\u001b[24m\u001b[39m\u001b[90m [inlined]\u001b[39m",
      " [15] \u001b[0m\u001b[1m__require\u001b[22m\u001b[0m\u001b[1m(\u001b[22m\u001b[90minto\u001b[39m::\u001b[0mModule, \u001b[90mmod\u001b[39m::\u001b[0mSymbol\u001b[0m\u001b[1m)\u001b[22m",
      "\u001b[90m    @\u001b[39m \u001b[90mBase\u001b[39m \u001b[90m./\u001b[39m\u001b[90m\u001b[4mloading.jl:2358\u001b[24m\u001b[39m",
      " [16] \u001b[0m\u001b[1mrequire\u001b[22m\u001b[0m\u001b[1m(\u001b[22m\u001b[90minto\u001b[39m::\u001b[0mModule, \u001b[90mmod\u001b[39m::\u001b[0mSymbol\u001b[0m\u001b[1m)\u001b[22m",
      "\u001b[90m    @\u001b[39m \u001b[90mBase\u001b[39m \u001b[90m./\u001b[39m\u001b[90m\u001b[4mloading.jl:2334\u001b[24m\u001b[39m",
      " [17] \u001b[0m\u001b[1meval\u001b[22m\u001b[0m\u001b[1m(\u001b[22m\u001b[90mm\u001b[39m::\u001b[0mModule, \u001b[90me\u001b[39m::\u001b[0mAny\u001b[0m\u001b[1m)\u001b[22m",
      "\u001b[90m    @\u001b[39m \u001b[90mCore\u001b[39m \u001b[90m./\u001b[39m\u001b[90m\u001b[4mboot.jl:489\u001b[24m\u001b[39m"
     ]
    }
   ],
   "source": [
    "using LowLevelFEM"
   ]
  },
  {
   "cell_type": "code",
   "execution_count": null,
   "id": "6953671e",
   "metadata": {},
   "outputs": [],
   "source": [
    "gmsh.initialize()\n",
    "\n",
    "gmsh.open(\"rectmesh.geo\")"
   ]
  },
  {
   "cell_type": "code",
   "execution_count": null,
   "id": "894f1aa9",
   "metadata": {},
   "outputs": [],
   "source": [
    "mat = material(\"body\")\n",
    "prob = Problem([mat], type=:PlaneStrain)"
   ]
  },
  {
   "cell_type": "code",
   "execution_count": null,
   "id": "bbb69223",
   "metadata": {},
   "outputs": [],
   "source": [
    "@time K = LowLevelFEM.stiffnessMatrixSolidOld(prob)"
   ]
  },
  {
   "cell_type": "code",
   "execution_count": null,
   "id": "86483f72",
   "metadata": {},
   "outputs": [],
   "source": [
    "@time K = LowLevelFEM.stiffnessMatrixSolid(prob)"
   ]
  },
  {
   "cell_type": "code",
   "execution_count": null,
   "id": "c7dc5d1e",
   "metadata": {},
   "outputs": [],
   "source": [
    "@time K = LowLevelFEM.stiffnessMatrixSolidParallel(prob)"
   ]
  },
  {
   "cell_type": "code",
   "execution_count": null,
   "id": "fc778c63",
   "metadata": {},
   "outputs": [],
   "source": [
    "gmsh.finalize()"
   ]
  }
 ],
 "metadata": {
  "kernelspec": {
   "display_name": "Julia 1.12.0",
   "language": "julia",
   "name": "julia-1.12"
  },
  "language_info": {
   "file_extension": ".jl",
   "mimetype": "application/julia",
   "name": "julia",
   "version": "1.12.0"
  }
 },
 "nbformat": 4,
 "nbformat_minor": 5
}
