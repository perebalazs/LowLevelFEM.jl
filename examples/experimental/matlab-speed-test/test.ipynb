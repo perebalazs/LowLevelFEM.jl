{
 "cells": [
  {
   "cell_type": "code",
   "execution_count": null,
   "id": "56227efb",
   "metadata": {},
   "outputs": [],
   "source": [
    "Base.pipe_writer(io::IJulia.IJuliaStdio) = io.io\n",
    "using LowLevelFEM"
   ]
  },
  {
   "cell_type": "code",
   "execution_count": 8,
   "id": "6953671e",
   "metadata": {},
   "outputs": [
    {
     "ename": "LoadError",
     "evalue": "UndefVarError: `gmsh` not defined in `Main`\nSuggestion: check for spelling errors or missing imports.",
     "output_type": "error",
     "traceback": [
      "UndefVarError: `gmsh` not defined in `Main`\nSuggestion: check for spelling errors or missing imports.",
      "",
      "Stacktrace:",
      " [1] top-level scope",
      "\u001b[90m   @\u001b[39m \u001b[90m\u001b[4mIn[8]:1\u001b[24m\u001b[39m",
      " [2] \u001b[0m\u001b[1meval\u001b[22m\u001b[0m\u001b[1m(\u001b[22m\u001b[90mm\u001b[39m::\u001b[0mModule, \u001b[90me\u001b[39m::\u001b[0mAny\u001b[0m\u001b[1m)\u001b[22m",
      "\u001b[90m   @\u001b[39m \u001b[90mCore\u001b[39m \u001b[90m./\u001b[39m\u001b[90m\u001b[4mboot.jl:489\u001b[24m\u001b[39m"
     ]
    }
   ],
   "source": [
    "gmsh.initialize()\n",
    "\n",
    "gmsh.open(\"rectmesh.geo\")"
   ]
  },
  {
   "cell_type": "code",
   "execution_count": null,
   "id": "894f1aa9",
   "metadata": {},
   "outputs": [],
   "source": [
    "mat = material(\"body\")\n",
    "prob = Problem([mat], type=:PlaneStrain)"
   ]
  },
  {
   "cell_type": "code",
   "execution_count": null,
   "id": "bbb69223",
   "metadata": {},
   "outputs": [],
   "source": [
    "@time K = LowLevelFEM.stiffnessMatrixSolidOld(prob)"
   ]
  },
  {
   "cell_type": "code",
   "execution_count": null,
   "id": "86483f72",
   "metadata": {},
   "outputs": [],
   "source": [
    "@time K = LowLevelFEM.stiffnessMatrixSolid(prob)"
   ]
  },
  {
   "cell_type": "code",
   "execution_count": null,
   "id": "c7dc5d1e",
   "metadata": {},
   "outputs": [],
   "source": [
    "@time K = LowLevelFEM.stiffnessMatrixSolidParallel(prob)"
   ]
  },
  {
   "cell_type": "code",
   "execution_count": null,
   "id": "fc778c63",
   "metadata": {},
   "outputs": [],
   "source": [
    "gmsh.finalize()"
   ]
  }
 ],
 "metadata": {
  "kernelspec": {
   "display_name": "Julia 1.12.0",
   "language": "julia",
   "name": "julia-1.12"
  },
  "language_info": {
   "file_extension": ".jl",
   "mimetype": "application/julia",
   "name": "julia",
   "version": "1.12.0"
  },
  "widgets": {
   "application/vnd.jupyter.widget-state+json": {
    "state": {},
    "version_major": 2,
    "version_minor": 0
   }
  }
 },
 "nbformat": 4,
 "nbformat_minor": 5
}
