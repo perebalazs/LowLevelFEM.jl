{
 "cells": [
  {
   "cell_type": "code",
   "execution_count": null,
   "id": "aba43948",
   "metadata": {},
   "outputs": [
    {
     "name": "stderr",
     "output_type": "stream",
     "text": [
      "\u001b[36m\u001b[1m[ \u001b[22m\u001b[39m\u001b[36m\u001b[1mInfo: \u001b[22m\u001b[39mPrecompiling LowLevelFEM [6171b9fb-adbf-4751-adb9-5faded75de07] (cache misses: include_dependency fsize change (2), wrong dep version loaded (4))\n",
      "\n",
      "SYSTEM: caught exception of type :MethodError while trying to print a failed Task notice; giving up\n"
     ]
    }
   ],
   "source": [
    "using LowLevelFEM"
   ]
  },
  {
   "cell_type": "code",
   "execution_count": null,
   "id": "7d69682f",
   "metadata": {},
   "outputs": [],
   "source": [
    "gmsh.initialize()\n",
    "gmsh.option.setNumber(\"General.Terminal\", 0)\n",
    "\n"
   ]
  },
  {
   "cell_type": "code",
   "execution_count": null,
   "id": "a67faa4d",
   "metadata": {},
   "outputs": [
    {
     "ename": "LoadError",
     "evalue": "MethodError: no method matching unsafe_convert(::Type{Ptr{Int8}}, ::Type{TensorField})\nThe function `unsafe_convert` exists, but no method is defined for this combination of argument types.\n\n\u001b[0mClosest candidates are:\n\u001b[0m  unsafe_convert(::Type{Ptr{Int8}}, \u001b[91m::String\u001b[39m)\n\u001b[0m\u001b[90m   @\u001b[39m \u001b[90mBase\u001b[39m \u001b[90m\u001b[4messentials.jl:694\u001b[24m\u001b[39m\n\u001b[0m  unsafe_convert(::Type{Ptr{Int8}}, \u001b[91m::Symbol\u001b[39m)\n\u001b[0m\u001b[90m   @\u001b[39m \u001b[90mBase\u001b[39m \u001b[90m\u001b[4mpointer.jl:61\u001b[24m\u001b[39m\n\u001b[0m  unsafe_convert(\u001b[91m::Type{Cwstring}\u001b[39m, ::Any)\n\u001b[0m\u001b[90m   @\u001b[39m \u001b[90mBase\u001b[39m \u001b[90mstrings/\u001b[39m\u001b[90m\u001b[4mcstring.jl:101\u001b[24m\u001b[39m\n\u001b[0m  ...\n",
     "output_type": "error",
     "traceback": [
      "MethodError: no method matching unsafe_convert(::Type{Ptr{Int8}}, ::Type{TensorField})\nThe function `unsafe_convert` exists, but no method is defined for this combination of argument types.\n\n\u001b[0mClosest candidates are:\n\u001b[0m  unsafe_convert(::Type{Ptr{Int8}}, \u001b[91m::String\u001b[39m)\n\u001b[0m\u001b[90m   @\u001b[39m \u001b[90mBase\u001b[39m \u001b[90m\u001b[4messentials.jl:694\u001b[24m\u001b[39m\n\u001b[0m  unsafe_convert(::Type{Ptr{Int8}}, \u001b[91m::Symbol\u001b[39m)\n\u001b[0m\u001b[90m   @\u001b[39m \u001b[90mBase\u001b[39m \u001b[90m\u001b[4mpointer.jl:61\u001b[24m\u001b[39m\n\u001b[0m  unsafe_convert(\u001b[91m::Type{Cwstring}\u001b[39m, ::Any)\n\u001b[0m\u001b[90m   @\u001b[39m \u001b[90mBase\u001b[39m \u001b[90mstrings/\u001b[39m\u001b[90m\u001b[4mcstring.jl:101\u001b[24m\u001b[39m\n\u001b[0m  ...\n",
      "",
      "Stacktrace:",
      " [1] \u001b[0m\u001b[1madd\u001b[22m\u001b[0m\u001b[1m(\u001b[22m\u001b[90mname\u001b[39m::\u001b[0mType, \u001b[90mtag\u001b[39m::\u001b[0mInt64\u001b[0m\u001b[1m)\u001b[22m",
      "\u001b[90m   @\u001b[39m \u001b[36mLowLevelFEM.gmsh.view\u001b[39m \u001b[90m~/.julia/artifacts/548af07fc27d416ad9c5fd0694b301f877eddc61/lib/\u001b[39m\u001b[90m\u001b[4mgmsh.jl:8179\u001b[24m\u001b[39m",
      " [2] \u001b[0m\u001b[1madd\u001b[22m\u001b[0m\u001b[1m(\u001b[22m\u001b[90mname\u001b[39m::\u001b[0mType\u001b[0m\u001b[1m)\u001b[22m",
      "\u001b[90m   @\u001b[39m \u001b[36mLowLevelFEM.gmsh.view\u001b[39m \u001b[90m~/.julia/artifacts/548af07fc27d416ad9c5fd0694b301f877eddc61/lib/\u001b[39m\u001b[90m\u001b[4mgmsh.jl:8178\u001b[24m\u001b[39m",
      " [3] \u001b[0m\u001b[1mshowStressResults\u001b[22m\u001b[0m\u001b[1m(\u001b[22m\u001b[90mS\u001b[39m::\u001b[0mTensorField, \u001b[90mcomp\u001b[39m::\u001b[0mSymbol; \u001b[90mname\u001b[39m::\u001b[0mType, \u001b[90mvisible\u001b[39m::\u001b[0mBool, \u001b[90msmooth\u001b[39m::\u001b[0mBool\u001b[0m\u001b[1m)\u001b[22m",
      "\u001b[90m   @\u001b[39m \u001b[36mLowLevelFEM\u001b[39m \u001b[90m~/Dokumentumok/GitHub/LowLevelFEM.jl/src/\u001b[39m\u001b[90m\u001b[4mgeneral.jl:2906\u001b[24m\u001b[39m",
      " [4] \u001b[0m\u001b[1mshowElementResults\u001b[22m\u001b[0m\u001b[1m(\u001b[22m\u001b[90mF\u001b[39m::\u001b[0mTensorField, \u001b[90mcomp\u001b[39m::\u001b[0mSymbol; \u001b[90mname\u001b[39m::\u001b[0mType, \u001b[90mvisible\u001b[39m::\u001b[0mBool, \u001b[90msmooth\u001b[39m::\u001b[0mBool, \u001b[90mfactor\u001b[39m::\u001b[0mInt64\u001b[0m\u001b[1m)\u001b[22m",
      "\u001b[90m   @\u001b[39m \u001b[36mLowLevelFEM\u001b[39m \u001b[90m~/Dokumentumok/GitHub/LowLevelFEM.jl/src/\u001b[39m\u001b[90m\u001b[4mgeneral.jl:2826\u001b[24m\u001b[39m",
      " [5] \u001b[0m\u001b[1mshowElementResults\u001b[22m\u001b[0m\u001b[1m(\u001b[22m\u001b[90mq\u001b[39m::\u001b[0mTensorField; \u001b[90mname\u001b[39m::\u001b[0mType, \u001b[90mvisible\u001b[39m::\u001b[0mBool, \u001b[90msmooth\u001b[39m::\u001b[0mBool, \u001b[90mff\u001b[39m::\u001b[0mInt64, \u001b[90mfactor\u001b[39m::\u001b[0mInt64\u001b[0m\u001b[1m)\u001b[22m",
      "\u001b[90m   @\u001b[39m \u001b[36mLowLevelFEM\u001b[39m \u001b[90m~/Dokumentumok/GitHub/LowLevelFEM.jl/src/\u001b[39m\u001b[90m\u001b[4mgeneral.jl:2844\u001b[24m\u001b[39m",
      " [6] \u001b[0m\u001b[1mshowElementResults\u001b[22m\u001b[0m\u001b[1m(\u001b[22m\u001b[90mq\u001b[39m::\u001b[0mTensorField\u001b[0m\u001b[1m)\u001b[22m",
      "\u001b[90m   @\u001b[39m \u001b[36mLowLevelFEM\u001b[39m \u001b[90m~/Dokumentumok/GitHub/LowLevelFEM.jl/src/\u001b[39m\u001b[90m\u001b[4mgeneral.jl:2838\u001b[24m\u001b[39m",
      " [7] top-level scope",
      "\u001b[90m   @\u001b[39m \u001b[90m\u001b[4mIn[15]:31\u001b[24m\u001b[39m",
      " [8] \u001b[0m\u001b[1meval\u001b[22m\u001b[0m\u001b[1m(\u001b[22m\u001b[90mm\u001b[39m::\u001b[0mModule, \u001b[90me\u001b[39m::\u001b[0mAny\u001b[0m\u001b[1m)\u001b[22m",
      "\u001b[90m   @\u001b[39m \u001b[90mCore\u001b[39m \u001b[90m./\u001b[39m\u001b[90m\u001b[4mboot.jl:489\u001b[24m\u001b[39m"
     ]
    }
   ],
   "source": [
    "# nagyon kicsi 3D próba-probléma (pl. egy 1×1×1 kocka)\n",
    "gmsh.model.add(\"cube\")\n",
    "b1 = gmsh.model.occ.addBox(0, 0, 0, 1, 1, 1, 1)\n",
    "pts = gmsh.model.getEntities(0)\n",
    "gmsh.model.occ.mesh.setSize(pts, 1.0)\n",
    "gmsh.option.setNumber(\"Mesh.MeshSizeMin\", 1.0)\n",
    "gmsh.option.setNumber(\"Mesh.MeshSizeMax\", 1.0)\n",
    "gmsh.option.setNumber(\"Mesh.MeshSizeFromCurvature\", 0)\n",
    "gmsh.model.occ.synchronize()\n",
    "gmsh.model.mesh.generate(3)\n",
    "gmsh.model.addPhysicalGroup(3, [1], 10)\n",
    "gmsh.model.setPhysicalName(3, 10, \"body\")\n",
    "gmsh.model.addPhysicalGroup(2, [1], 11)\n",
    "gmsh.model.setPhysicalName(2, 11, \"left\")\n",
    "gmsh.model.addPhysicalGroup(2, [2], 12)\n",
    "gmsh.model.setPhysicalName(2, 12, \"right\")\n",
    "\n",
    "mat = material(\"body\")\n",
    "prob = Problem([mat])\n",
    "\n",
    "stiffnessMatrix(prob)\n",
    "supp = displacementConstraint(\"left\", ux=0, uy=0, uz=0)\n",
    "load1 = load(\"right\", fx=1)\n",
    "\n",
    "u = solveDisplacement(prob, [load1], [supp])\n",
    "\n",
    "S = solveStress(u)\n",
    "\n",
    "showDoFResults(u)\n",
    "showDoFResults(S)\n",
    "showElementResults(S)\n",
    "\n",
    "openPostProcessor()\n"
   ]
  },
  {
   "cell_type": "code",
   "execution_count": 16,
   "id": "6a43ed88",
   "metadata": {},
   "outputs": [],
   "source": [
    "\n",
    "gmsh.finalize()"
   ]
  }
 ],
 "metadata": {
  "kernelspec": {
   "display_name": "Julia 1.12.0",
   "language": "julia",
   "name": "julia-1.12"
  },
  "language_info": {
   "file_extension": ".jl",
   "mimetype": "application/julia",
   "name": "julia",
   "version": "1.12.0"
  }
 },
 "nbformat": 4,
 "nbformat_minor": 5
}
