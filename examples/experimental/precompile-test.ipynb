{
 "cells": [
  {
   "cell_type": "code",
   "execution_count": 1,
   "id": "aba43948",
   "metadata": {},
   "outputs": [
    {
     "name": "stderr",
     "output_type": "stream",
     "text": [
      "\u001b[36m\u001b[1m[ \u001b[22m\u001b[39m\u001b[36m\u001b[1mInfo: \u001b[22m\u001b[39mPrecompiling LowLevelFEM [6171b9fb-adbf-4751-adb9-5faded75de07] (cache misses: include_dependency fsize change (2), wrong dep version loaded (4))\n",
      "\n",
      "SYSTEM: caught exception of type :MethodError while trying to print a failed Task notice; giving up\n",
      "\u001b[33m\u001b[1m┌ \u001b[22m\u001b[39m\u001b[33m\u001b[1mWarning: \u001b[22m\u001b[39mNumber of threads(1) ≠ logical threads in CPU(4).\n",
      "\u001b[33m\u001b[1m└ \u001b[22m\u001b[39m\u001b[90m@ LowLevelFEM ~/Dokumentumok/GitHub/LowLevelFEM.jl/src/general.jl:104\u001b[39m\n",
      "\n",
      "SYSTEM: caught exception of type :MethodError while trying to print a failed Task notice; giving up\n"
     ]
    }
   ],
   "source": [
    "using LowLevelFEM"
   ]
  },
  {
   "cell_type": "code",
   "execution_count": 2,
   "id": "7d69682f",
   "metadata": {},
   "outputs": [],
   "source": [
    "gmsh.initialize()\n",
    "gmsh.option.setNumber(\"General.Terminal\", 0)\n",
    "\n"
   ]
  },
  {
   "cell_type": "code",
   "execution_count": 3,
   "id": "a67faa4d",
   "metadata": {},
   "outputs": [
    {
     "name": "stderr",
     "output_type": "stream",
     "text": [
      "XOpenIM() failed\n",
      "XRequest.18: BadValue 0x0\n",
      "Fontconfig warning: using without calling FcInit()\n"
     ]
    }
   ],
   "source": [
    "# nagyon kicsi 3D próba-probléma (pl. egy 1×1×1 kocka)\n",
    "gmsh.model.add(\"cube\")\n",
    "b1 = gmsh.model.occ.addBox(0, 0, 0, 1, 1, 1, 1)\n",
    "pts = gmsh.model.getEntities(0)\n",
    "gmsh.model.occ.mesh.setSize(pts, 1.0)\n",
    "gmsh.option.setNumber(\"Mesh.MeshSizeMin\", 1.0)\n",
    "gmsh.option.setNumber(\"Mesh.MeshSizeMax\", 1.0)\n",
    "gmsh.option.setNumber(\"Mesh.MeshSizeFromCurvature\", 0)\n",
    "gmsh.model.occ.synchronize()\n",
    "gmsh.model.mesh.generate(3)\n",
    "gmsh.model.addPhysicalGroup(3, [1], 10)\n",
    "gmsh.model.setPhysicalName(3, 10, \"body\")\n",
    "gmsh.model.addPhysicalGroup(2, [1], 11)\n",
    "gmsh.model.setPhysicalName(2, 11, \"left\")\n",
    "gmsh.model.addPhysicalGroup(2, [2], 12)\n",
    "gmsh.model.setPhysicalName(2, 12, \"right\")\n",
    "\n",
    "mat = material(\"body\")\n",
    "prob = Problem([mat])\n",
    "\n",
    "stiffnessMatrix(prob)\n",
    "supp = displacementConstraint(\"left\", ux=0, uy=0, uz=0)\n",
    "load1 = load(\"right\", fx=1)\n",
    "\n",
    "u = solveDisplacement(prob, [load1], [supp])\n",
    "\n",
    "S = solveStress(u)\n",
    "\n",
    "showDoFResults(u)\n",
    "showDoFResults(S)\n",
    "showElementResults(S)\n",
    "\n",
    "openPostProcessor()\n"
   ]
  },
  {
   "cell_type": "code",
   "execution_count": null,
   "id": "6a43ed88",
   "metadata": {},
   "outputs": [],
   "source": [
    "\n",
    "gmsh.finalize()"
   ]
  }
 ],
 "metadata": {
  "kernelspec": {
   "display_name": "Julia 1.12.0",
   "language": "julia",
   "name": "julia-1.12"
  },
  "language_info": {
   "file_extension": ".jl",
   "mimetype": "application/julia",
   "name": "julia",
   "version": "1.12.0"
  }
 },
 "nbformat": 4,
 "nbformat_minor": 5
}
