{
 "cells": [
  {
   "cell_type": "code",
   "execution_count": null,
   "id": "41ef2261",
   "metadata": {},
   "outputs": [],
   "source": [
    "using LowLevelFEM\n",
    "gmsh.initialize()"
   ]
  },
  {
   "cell_type": "code",
   "execution_count": null,
   "id": "e494ad99",
   "metadata": {},
   "outputs": [],
   "source": [
    "gmsh.open(\"cube.geo\")"
   ]
  },
  {
   "cell_type": "code",
   "execution_count": null,
   "id": "5cb75724",
   "metadata": {},
   "outputs": [],
   "source": [
    "mat = material(\"body\")\n",
    "prob = Problem([mat])"
   ]
  },
  {
   "cell_type": "code",
   "execution_count": null,
   "id": "1a364d38",
   "metadata": {},
   "outputs": [],
   "source": [
    "fs = field(\"body\", fx=1)\n",
    "v = vectorField(prob, [fs])"
   ]
  },
  {
   "cell_type": "code",
   "execution_count": null,
   "id": "42afbfc9",
   "metadata": {},
   "outputs": [],
   "source": [
    "getfree"
   ]
  },
  {
   "cell_type": "code",
   "execution_count": null,
   "id": "8340c2ca",
   "metadata": {},
   "outputs": [],
   "source": [
    "showDoFResults(v, :vector)"
   ]
  },
  {
   "cell_type": "code",
   "execution_count": null,
   "id": "463ec310",
   "metadata": {},
   "outputs": [],
   "source": [
    "showElementResults(V, :vector)"
   ]
  },
  {
   "cell_type": "code",
   "execution_count": null,
   "id": "33b1077f",
   "metadata": {},
   "outputs": [],
   "source": [
    "v.a"
   ]
  },
  {
   "cell_type": "code",
   "execution_count": null,
   "id": "e460785a",
   "metadata": {},
   "outputs": [],
   "source": [
    "V.A"
   ]
  },
  {
   "cell_type": "code",
   "execution_count": null,
   "id": "d89edb94",
   "metadata": {},
   "outputs": [],
   "source": [
    "openPostProcessor()"
   ]
  },
  {
   "cell_type": "code",
   "execution_count": null,
   "id": "93a080dc",
   "metadata": {},
   "outputs": [],
   "source": [
    "gmsh.finalize()"
   ]
  }
 ],
 "metadata": {
  "kernelspec": {
   "display_name": "Julia 1.11.6",
   "language": "julia",
   "name": "julia-1.11"
  },
  "language_info": {
   "file_extension": ".jl",
   "mimetype": "application/julia",
   "name": "julia",
   "version": "1.11.6"
  }
 },
 "nbformat": 4,
 "nbformat_minor": 5
}
