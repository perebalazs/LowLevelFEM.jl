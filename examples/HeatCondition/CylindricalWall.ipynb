{
 "cells": [
  {
   "cell_type": "code",
   "execution_count": 66,
   "metadata": {},
   "outputs": [],
   "source": [
    "import LowLevelFEM as FEM\n",
    "using LowLevelFEM\n",
    "\n",
    "gmsh.initialize()"
   ]
  },
  {
   "cell_type": "code",
   "execution_count": 67,
   "metadata": {},
   "outputs": [
    {
     "name": "stdout",
     "output_type": "stream",
     "text": [
      "Info    : Reading 'CylindricalWall.geo'...\n",
      "Info    : Meshing 1D...\n",
      "Info    : [  0%] Meshing curve 1 (Line)\n",
      "Info    : [ 30%] Meshing curve 2 (Line)\n",
      "Info    : [ 60%] Meshing curve 3 (Line)\n",
      "Info    : [ 80%] Meshing curve 4 (Line)\n",
      "Info    : Done meshing 1D (Wall 0.00051752s, CPU 0.000507s)\n",
      "Info    : Meshing 2D...\n",
      "Info    : Meshing surface 1 (Plane, Frontal-Delaunay)\n",
      "Info    : Done meshing 2D (Wall 0.0100174s, CPU 0.007807s)\n",
      "Info    : Meshing order 5 (curvilinear on)...\n",
      "Info    : [  0%] Meshing curve 1 order 5\n",
      "Info    : [ 30%] Meshing curve 2 order 5\n",
      "Info    : [ 50%] Meshing curve 3 order 5\n",
      "Info    : [ 70%] Meshing curve 4 order 5\n",
      "Info    : [ 90%] Meshing surface 1 order 5\n",
      "Info    : Surface mesh: worst distortion = 1 (0 elements in ]0, 0.2]); worst gamma = 0.81652\n",
      "Info    : Done meshing order 5 (Wall 0.00604169s, CPU 0.004756s)\n",
      "Info    : 1446 nodes 142 elements\n",
      "Info    : Done reading 'CylindricalWall.geo'\n"
     ]
    }
   ],
   "source": [
    "gmsh.open(\"CylindricalWall.geo\")"
   ]
  },
  {
   "cell_type": "code",
   "execution_count": 68,
   "metadata": {},
   "outputs": [
    {
     "name": "stdout",
     "output_type": "stream",
     "text": [
      "Info    : RCMK renumbering...\n",
      "Info    : Done RCMK renumbering (bandwidth is now 400)\n"
     ]
    },
    {
     "data": {
      "text/plain": [
       "LowLevelFEM.Problem(\"CylindricalWall\", \"AxiSymmetricHeatConduction\", 2, 1, LowLevelFEM.Material[LowLevelFEM.Material(\"wall\", 200000.0, 0.3, 7.85e-9, 45.0, 4.2e8)], 1.0, 1446)"
      ]
     },
     "metadata": {},
     "output_type": "display_data"
    }
   ],
   "source": [
    "mat = FEM.material(\"wall\")\n",
    "problem = FEM.Problem([mat], type=\"AxiSymmetricHeatConduction\", bandwidth=\"none\")\n",
    "#problem = FEM.Problem([mat], type=\"PlaneHeatConduction\", bandwidth=\"none\")"
   ]
  },
  {
   "cell_type": "code",
   "execution_count": 69,
   "metadata": {},
   "outputs": [
    {
     "data": {
      "text/plain": [
       "1446×1446 SparseArrays.SparseMatrixCSC{Float64, Int64} with 43116 stored entries:\n",
       "⎡⣿⣿⡉⠉⣿⡇⠁⠚⠃⠀⠀⠛⠇⠀⠭⠰⠆⠸⠯⠭⠀⠀⠨⠅⣀⢀⣀⢛⡈⣹⣏⡁⠙⠓⠊⠀⢀⡀⢁⠉⎤\n",
       "⎢⡇⠈⠿⣧⣿⡇⠀⠀⠈⠈⠤⠀⠨⠟⠉⠻⠫⠀⠀⠘⠃⠹⠇⠇⢠⣬⣥⠤⢬⠟⢨⠁⣀⡉⠀⠀⠠⠀⡠⠀⎥\n",
       "⎢⠿⠿⠿⠿⣿⣿⡿⠟⠻⠟⠟⠻⠻⠟⠿⠻⠛⠻⠽⠟⡛⠛⢛⠩⠟⠿⠿⠿⠿⠵⠿⠾⠿⠿⣿⠿⠿⠿⠷⠷⎥\n",
       "⎢⣡⠀⠀⠀⣿⠏⢻⣶⣁⠆⠈⢉⡄⠀⠀⠀⠐⠂⡀⠀⠀⠀⠀⠀⠀⠀⠀⣀⠠⠀⠄⠠⠀⠀⠀⠀⠀⠀⠀⠀⎥\n",
       "⎢⠉⠀⡂⠀⣿⠆⠡⠜⢻⣶⡌⡈⠘⠢⠀⢀⢐⡀⠁⠀⠀⠀⠀⠀⠄⠀⠀⠀⠀⠀⠒⠀⠀⠀⠈⠀⠀⠈⠀⠀⎥\n",
       "⎢⣤⠀⠀⠃⣿⡁⡆⢀⡂⠩⠟⣥⡟⠀⣠⠄⠀⠄⡀⠀⠄⠀⠀⠀⠘⠓⠘⠃⠀⠀⠀⠀⠀⠀⠀⠀⠀⠈⠀⠁⎥\n",
       "⎢⠉⠁⣦⠆⣿⠆⠀⠉⠲⡀⠛⠉⠻⣦⡀⠈⠵⣈⣁⠀⣀⡀⣀⠀⠀⠘⠀⠀⠀⠆⠀⠀⠀⠖⠐⠀⠀⠐⠀⠀⎥\n",
       "⎢⢃⡃⣧⡀⣿⡃⠀⠀⠀⢀⠀⠞⡀⠈⠿⢇⣄⠉⠈⠓⠙⢳⡝⡇⠀⠀⠀⠀⠀⢀⠀⠀⠀⢀⡀⠀⠀⠀⠀⠀⎥\n",
       "⎢⣈⡁⠋⠂⣿⡀⠰⠀⠐⠰⠀⠄⡑⢣⡄⠙⡿⣯⣠⣀⠄⠀⠃⠀⡀⠐⠀⠂⠀⠀⠀⢀⡀⠀⠀⠀⠀⠀⠀⠀⎥\n",
       "⎢⡏⡇⣀⠀⣷⠇⠀⠈⠁⠀⠀⠈⠁⠘⢦⠀⠀⢺⢻⣶⡉⣀⣰⠄⠀⠀⠀⠀⠀⠀⠀⠨⠀⠀⠶⠮⠀⠀⠀⠀⎥\n",
       "⎢⠀⠀⣍⡀⣿⠈⠀⠀⠀⠀⠀⠁⠀⠸⢷⣀⠀⠁⠃⢨⠿⣧⡿⡛⠂⠀⠀⠀⠀⠀⠀⠀⠀⠀⠀⠀⠀⠀⠀⠀⎥\n",
       "⎢⠆⠆⠭⠅⡟⡐⠀⠀⠀⠀⠀⠀⠀⠘⠷⠭⠉⠀⠐⠞⣿⠫⢻⣶⡆⠀⠀⠀⠀⠀⠀⠀⠀⠀⢀⠀⡀⡀⠀⠀⎥\n",
       "⎢⠀⢘⡀⣶⣿⡅⠀⠀⠀⠁⢶⠀⣀⠀⠀⠀⢀⠈⠀⠀⠈⠀⠈⠉⡻⣮⡳⣞⠊⠀⢀⡈⠥⠀⠀⠀⢀⠀⢀⠀⎥\n",
       "⎢⣤⢘⠁⡟⣿⡇⠀⢠⠀⠀⠶⠀⠀⠀⠀⠀⠠⠀⠀⠀⠀⠀⠀⠀⣹⢮⡻⣮⡃⠀⠬⠂⣠⠀⣠⠀⠈⢂⡘⣤⎥\n",
       "⎢⣆⣨⣦⠗⢟⡇⠀⠂⠀⠀⠀⠀⠠⠄⠀⢀⠀⠀⠀⠀⠀⠀⠀⠀⠊⠀⠉⠈⠻⣦⡲⡄⠂⢤⡀⠀⠀⠈⠁⠀⎥\n",
       "⎢⠏⠹⠆⠒⣻⡇⠀⡁⠘⠀⠀⠀⠀⠀⠀⠀⠀⢀⡀⡀⠀⠀⠀⠀⡀⠰⠢⠃⠘⠮⠻⢆⡀⠈⡀⣀⠸⠍⠱⠛⎥\n",
       "⎢⢷⠀⡄⠸⣿⡇⠀⠀⠀⠀⠀⠀⢠⠄⠀⢀⠀⠈⠀⠀⠀⠀⠀⠀⠁⠃⠀⠚⠈⣄⡀⠈⠿⣧⡕⠂⢠⣄⠇⠓⎥\n",
       "⎢⠊⠀⠀⠀⣿⡟⠀⠀⠂⠀⠀⠀⠐⠀⠀⠈⠀⠀⡸⡇⠀⠀⠀⠐⠀⠀⠀⠚⠀⠈⠀⢨⠱⠉⠿⣧⣎⠒⠀⠓⎥\n",
       "⎢⠀⠰⠀⠂⣿⡇⠀⠀⡀⠀⡀⠀⢀⠀⠀⠀⠀⠀⠀⠀⠀⠀⠀⠨⠀⠐⠢⢀⡀⠀⡖⠆⠀⢶⢪⠙⢿⣷⡶⡀⎥\n",
       "⎣⡅⠐⠀⠊⢽⡇⠀⠀⠀⠀⠄⠀⠀⠀⠀⠀⠀⠀⠀⠀⠀⠀⠀⠀⠀⠐⠒⣬⠁⠀⣵⠂⢭⠁⢤⠀⠘⠫⠑⣤⎦"
      ]
     },
     "metadata": {},
     "output_type": "display_data"
    }
   ],
   "source": [
    "K = FEM.heatConductionMatrix(problem)"
   ]
  },
  {
   "cell_type": "code",
   "execution_count": 70,
   "metadata": {},
   "outputs": [
    {
     "data": {
      "text/plain": [
       "(\"outer\", 10000, -10, 0 + 2im)"
      ]
     },
     "metadata": {},
     "output_type": "display_data"
    }
   ],
   "source": [
    "inn = FEM.temperatureConstraint(\"inner\", T=30)\n",
    "out = FEM.temperatureConstraint(\"outer\", T=-10)\n",
    "load = FEM.heatFlux(\"inner\", qn=0)\n",
    "conv = FEM.heatConvection(\"outer\", λ=10000, Tₐ=-10)"
   ]
  },
  {
   "cell_type": "code",
   "execution_count": 71,
   "metadata": {},
   "outputs": [
    {
     "data": {
      "text/plain": [
       "\"loads[n] =(\\\"inner\\\", 0, 0, 0)\""
      ]
     },
     "metadata": {},
     "output_type": "display_data"
    },
    {
     "data": {
      "text/plain": [
       "1446-element Vector{Float64}:\n",
       " 0.0\n",
       " 0.0\n",
       " 0.0\n",
       " 0.0\n",
       " 0.0\n",
       " 0.0\n",
       " 0.0\n",
       " 0.0\n",
       " 0.0\n",
       " 0.0\n",
       " ⋮\n",
       " 0.0\n",
       " 0.0\n",
       " 0.0\n",
       " 0.0\n",
       " 0.0\n",
       " 0.0\n",
       " 0.0\n",
       " 0.0\n",
       " 0.0"
      ]
     },
     "metadata": {},
     "output_type": "display_data"
    }
   ],
   "source": [
    "f = FEM.loadVector(problem, [load])"
   ]
  },
  {
   "cell_type": "code",
   "execution_count": 72,
   "metadata": {},
   "outputs": [
    {
     "data": {
      "text/plain": [
       "\"loads[n] =(\\\"outer\\\", 10000, -10, 0 + 2im)\""
      ]
     },
     "metadata": {},
     "output_type": "display_data"
    },
    {
     "data": {
      "text/plain": [
       "1446-element Vector{Float64}:\n",
       "      0.0\n",
       " -13194.44444444435\n",
       " -13194.444444444352\n",
       "      0.0\n",
       "      0.0\n",
       "      0.0\n",
       "      0.0\n",
       "      0.0\n",
       "      0.0\n",
       "      0.0\n",
       "      ⋮\n",
       "      0.0\n",
       "      0.0\n",
       "      0.0\n",
       "      0.0\n",
       "      0.0\n",
       "      0.0\n",
       "      0.0\n",
       "      0.0\n",
       "      0.0"
      ]
     },
     "metadata": {},
     "output_type": "display_data"
    }
   ],
   "source": [
    "FEM.applyHeatConvection!(problem, K, f, [conv])"
   ]
  },
  {
   "cell_type": "code",
   "execution_count": 73,
   "metadata": {},
   "outputs": [],
   "source": [
    "FEM.applyBoundaryConditions!(problem, K, f, [inn])"
   ]
  },
  {
   "cell_type": "code",
   "execution_count": 74,
   "metadata": {},
   "outputs": [
    {
     "data": {
      "text/plain": [
       "1446-element Vector{Float64}:\n",
       " 30.0\n",
       " 30.000000000009504\n",
       " 30.000000000008153\n",
       " 30.0\n",
       " 30.00000000000186\n",
       " 30.00000000000359\n",
       " 30.000000000005485\n",
       " 30.000000000006093\n",
       " 30.000000000007415\n",
       " 30.000000000007727\n",
       "  ⋮\n",
       " 30.000000000003\n",
       " 30.000000000002476\n",
       " 30.000000000002807\n",
       " 30.000000000003997\n",
       " 30.000000000004178\n",
       " 30.0000000000036\n",
       " 30.000000000004324\n",
       " 30.000000000004064\n",
       " 30.000000000003983"
      ]
     },
     "metadata": {},
     "output_type": "display_data"
    }
   ],
   "source": [
    "T = K \\ f"
   ]
  },
  {
   "cell_type": "code",
   "execution_count": 75,
   "metadata": {},
   "outputs": [
    {
     "data": {
      "text/plain": [
       "0"
      ]
     },
     "metadata": {},
     "output_type": "display_data"
    }
   ],
   "source": [
    "T1 = FEM.showDoFResults(problem, T, \"T\", name=\"T\", visible=true)"
   ]
  },
  {
   "cell_type": "code",
   "execution_count": 76,
   "metadata": {},
   "outputs": [],
   "source": [
    "FEM.plotOnPath(problem, \"path\", T1, 100, name=\"T\", visible=false);"
   ]
  },
  {
   "cell_type": "code",
   "execution_count": 77,
   "metadata": {},
   "outputs": [
    {
     "name": "stdout",
     "output_type": "stream",
     "text": [
      "-------------------------------------------------------\n",
      "Version       : 4.13.1\n",
      "License       : GNU General Public License\n",
      "Build OS      : Linux64-sdk\n",
      "Build date    : 19700101\n",
      "Build host    : amdci7.julia.csail.mit.edu\n",
      "Build options : 64Bit ALGLIB[contrib] ANN[contrib] Bamg Blossom Cairo DIntegration Dlopen DomHex Eigen[contrib] Fltk GMP Gmm[contrib] Hxt Jpeg Kbipack LinuxJoystick MathEx[contrib] Mesh Metis[contrib] Mmg Mpeg Netgen Nii2mesh ONELAB ONELABMetamodel OpenCASCADE OpenCASCADE-CAF OpenGL OpenMP OptHom Parser Plugins Png Post QuadMeshingTools QuadTri Solver TetGen/BR TinyXML2[contrib] Untangle Voro++[contrib] WinslowUntangler Zlib\n",
      "FLTK version  : 1.3.8\n",
      "OCC version   : 7.7.2\n",
      "Packaged by   : root\n",
      "Web site      : https://gmsh.info\n",
      "Issue tracker : https://gitlab.onelab.info/gmsh/gmsh/issues\n",
      "-------------------------------------------------------\n"
     ]
    },
    {
     "name": "stderr",
     "output_type": "stream",
     "text": [
      "XRequest.18: BadValue 0x0\n"
     ]
    }
   ],
   "source": [
    "gmsh.fltk.run()"
   ]
  },
  {
   "cell_type": "code",
   "execution_count": 78,
   "metadata": {},
   "outputs": [],
   "source": [
    "gmsh.finalize()"
   ]
  }
 ],
 "metadata": {
  "kernelspec": {
   "display_name": "Julia 1.11.1",
   "language": "julia",
   "name": "julia-1.11"
  },
  "language_info": {
   "file_extension": ".jl",
   "mimetype": "application/julia",
   "name": "julia",
   "version": "1.11.1"
  }
 },
 "nbformat": 4,
 "nbformat_minor": 2
}
