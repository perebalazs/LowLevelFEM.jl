{
 "cells": [
  {
   "cell_type": "code",
   "execution_count": 18,
   "metadata": {},
   "outputs": [],
   "source": [
    "import LowLevelFEM as FEM\n",
    "using LowLevelFEM\n",
    "\n",
    "gmsh.initialize()"
   ]
  },
  {
   "cell_type": "code",
   "execution_count": 19,
   "metadata": {},
   "outputs": [
    {
     "name": "stdout",
     "output_type": "stream",
     "text": [
      "Info    : Reading 'CylindricalWall.geo'...\n",
      "Info    : Meshing 1D...\n",
      "Info    : [  0%] Meshing curve 1 (Line)\n",
      "Info    : [ 30%] Meshing curve 2 (Line)\n",
      "Info    : [ 60%] Meshing curve 3 (Line)\n",
      "Info    : [ 80%] Meshing curve 4 (Line)\n",
      "Info    : Done meshing 1D (Wall 0.0035286s, CPU 0.001606s)\n",
      "Info    : Meshing 2D...\n",
      "Info    : Meshing surface 1 (Plane, Frontal-Delaunay)\n",
      "Info    : Done meshing 2D (Wall 0.0374409s, CPU 0.018304s)\n",
      "Info    : Meshing order 5 (curvilinear on)...\n",
      "Info    : [  0%] Meshing curve 1 order 5\n",
      "Info    : [ 30%] Meshing curve 2 order 5\n",
      "Info    : [ 50%] Meshing curve 3 order 5\n",
      "Info    : [ 70%] Meshing curve 4 order 5\n",
      "Info    : [ 90%] Meshing surface 1 order 5\n",
      "Info    : Surface mesh: worst distortion = 1 (0 elements in ]0, 0.2]); worst gamma = 0.81652\n",
      "Info    : Done meshing order 5 (Wall 0.0109267s, CPU 0.010804s)\n",
      "Info    : 1446 nodes 142 elements\n",
      "Info    : Done reading 'CylindricalWall.geo'\n"
     ]
    }
   ],
   "source": [
    "gmsh.open(\"CylindricalWall.geo\")"
   ]
  },
  {
   "cell_type": "code",
   "execution_count": 20,
   "metadata": {},
   "outputs": [
    {
     "name": "stdout",
     "output_type": "stream",
     "text": [
      "Info    : RCMK renumbering...\n",
      "Info    : Done RCMK renumbering (bandwidth is now 400)\n"
     ]
    },
    {
     "data": {
      "text/plain": [
       "LowLevelFEM.Problem(\"CylindricalWall\", \"AxiSymmetricHeatConduction\", 2, 1, LowLevelFEM.Material[LowLevelFEM.Material(\"wall\", 200000.0, 0.3, 7.85e-9, 45.0, 4.2e8)], 1.0, 1446)"
      ]
     },
     "metadata": {},
     "output_type": "display_data"
    }
   ],
   "source": [
    "mat = FEM.material(\"wall\")\n",
    "problem = FEM.Problem([mat], type=\"AxiSymmetricHeatConduction\", bandwidth=\"none\")\n",
    "#problem = FEM.Problem([mat], type=\"PlaneHeatConduction\", bandwidth=\"none\")"
   ]
  },
  {
   "cell_type": "code",
   "execution_count": 21,
   "metadata": {},
   "outputs": [
    {
     "data": {
      "text/plain": [
       "1446×1446 SparseArrays.SparseMatrixCSC{Float64, Int64} with 43116 stored entries:\n",
       "⎡⣿⣿⡉⠉⣿⡇⠁⠚⠃⠀⠀⠛⠇⠀⠭⠰⠆⠸⠯⠭⠀⠀⠨⠅⣀⢀⣀⢛⡈⣹⣏⡁⠙⠓⠊⠀⢀⡀⢁⠉⎤\n",
       "⎢⡇⠈⠿⣧⣿⡇⠀⠀⠈⠈⠤⠀⠨⠟⠉⠻⠫⠀⠀⠘⠃⠹⠇⠇⢠⣬⣥⠤⢬⠟⢨⠁⣀⡉⠀⠀⠠⠀⡠⠀⎥\n",
       "⎢⠿⠿⠿⠿⣿⣿⡿⠟⠻⠟⠟⠻⠻⠟⠿⠻⠛⠻⠽⠟⡛⠛⢛⠩⠟⠿⠿⠿⠿⠵⠿⠾⠿⠿⣿⠿⠿⠿⠷⠷⎥\n",
       "⎢⣡⠀⠀⠀⣿⠏⢻⣶⣁⠆⠈⢉⡄⠀⠀⠀⠐⠂⡀⠀⠀⠀⠀⠀⠀⠀⠀⣀⠠⠀⠄⠠⠀⠀⠀⠀⠀⠀⠀⠀⎥\n",
       "⎢⠉⠀⡂⠀⣿⠆⠡⠜⢻⣶⡌⡈⠘⠢⠀⢀⢐⡀⠁⠀⠀⠀⠀⠀⠄⠀⠀⠀⠀⠀⠒⠀⠀⠀⠈⠀⠀⠈⠀⠀⎥\n",
       "⎢⣤⠀⠀⠃⣿⡁⡆⢀⡂⠩⠟⣥⡟⠀⣠⠄⠀⠄⡀⠀⠄⠀⠀⠀⠘⠓⠘⠃⠀⠀⠀⠀⠀⠀⠀⠀⠀⠈⠀⠁⎥\n",
       "⎢⠉⠁⣦⠆⣿⠆⠀⠉⠲⡀⠛⠉⠻⣦⡀⠈⠵⣈⣁⠀⣀⡀⣀⠀⠀⠘⠀⠀⠀⠆⠀⠀⠀⠖⠐⠀⠀⠐⠀⠀⎥\n",
       "⎢⢃⡃⣧⡀⣿⡃⠀⠀⠀⢀⠀⠞⡀⠈⠿⢇⣄⠉⠈⠓⠙⢳⡝⡇⠀⠀⠀⠀⠀⢀⠀⠀⠀⢀⡀⠀⠀⠀⠀⠀⎥\n",
       "⎢⣈⡁⠋⠂⣿⡀⠰⠀⠐⠰⠀⠄⡑⢣⡄⠙⡿⣯⣠⣀⠄⠀⠃⠀⡀⠐⠀⠂⠀⠀⠀⢀⡀⠀⠀⠀⠀⠀⠀⠀⎥\n",
       "⎢⡏⡇⣀⠀⣷⠇⠀⠈⠁⠀⠀⠈⠁⠘⢦⠀⠀⢺⢻⣶⡉⣀⣰⠄⠀⠀⠀⠀⠀⠀⠀⠨⠀⠀⠶⠮⠀⠀⠀⠀⎥\n",
       "⎢⠀⠀⣍⡀⣿⠈⠀⠀⠀⠀⠀⠁⠀⠸⢷⣀⠀⠁⠃⢨⠿⣧⡿⡛⠂⠀⠀⠀⠀⠀⠀⠀⠀⠀⠀⠀⠀⠀⠀⠀⎥\n",
       "⎢⠆⠆⠭⠅⡟⡐⠀⠀⠀⠀⠀⠀⠀⠘⠷⠭⠉⠀⠐⠞⣿⠫⢻⣶⡆⠀⠀⠀⠀⠀⠀⠀⠀⠀⢀⠀⡀⡀⠀⠀⎥\n",
       "⎢⠀⢘⡀⣶⣿⡅⠀⠀⠀⠁⢶⠀⣀⠀⠀⠀⢀⠈⠀⠀⠈⠀⠈⠉⡻⣮⡳⣞⠊⠀⢀⡈⠥⠀⠀⠀⢀⠀⢀⠀⎥\n",
       "⎢⣤⢘⠁⡟⣿⡇⠀⢠⠀⠀⠶⠀⠀⠀⠀⠀⠠⠀⠀⠀⠀⠀⠀⠀⣹⢮⡻⣮⡃⠀⠬⠂⣠⠀⣠⠀⠈⢂⡘⣤⎥\n",
       "⎢⣆⣨⣦⠗⢟⡇⠀⠂⠀⠀⠀⠀⠠⠄⠀⢀⠀⠀⠀⠀⠀⠀⠀⠀⠊⠀⠉⠈⠻⣦⡲⡄⠂⢤⡀⠀⠀⠈⠁⠀⎥\n",
       "⎢⠏⠹⠆⠒⣻⡇⠀⡁⠘⠀⠀⠀⠀⠀⠀⠀⠀⢀⡀⡀⠀⠀⠀⠀⡀⠰⠢⠃⠘⠮⠻⢆⡀⠈⡀⣀⠸⠍⠱⠛⎥\n",
       "⎢⢷⠀⡄⠸⣿⡇⠀⠀⠀⠀⠀⠀⢠⠄⠀⢀⠀⠈⠀⠀⠀⠀⠀⠀⠁⠃⠀⠚⠈⣄⡀⠈⠿⣧⡕⠂⢠⣄⠇⠓⎥\n",
       "⎢⠊⠀⠀⠀⣿⡟⠀⠀⠂⠀⠀⠀⠐⠀⠀⠈⠀⠀⡸⡇⠀⠀⠀⠐⠀⠀⠀⠚⠀⠈⠀⢨⠱⠉⠿⣧⣎⠒⠀⠓⎥\n",
       "⎢⠀⠰⠀⠂⣿⡇⠀⠀⡀⠀⡀⠀⢀⠀⠀⠀⠀⠀⠀⠀⠀⠀⠀⠨⠀⠐⠢⢀⡀⠀⡖⠆⠀⢶⢪⠙⢿⣷⡶⡀⎥\n",
       "⎣⡅⠐⠀⠊⢽⡇⠀⠀⠀⠀⠄⠀⠀⠀⠀⠀⠀⠀⠀⠀⠀⠀⠀⠀⠀⠐⠒⣬⠁⠀⣵⠂⢭⠁⢤⠀⠘⠫⠑⣤⎦"
      ]
     },
     "metadata": {},
     "output_type": "display_data"
    }
   ],
   "source": [
    "K = FEM.heatConductionMatrix(problem)"
   ]
  },
  {
   "cell_type": "code",
   "execution_count": 22,
   "metadata": {},
   "outputs": [
    {
     "ename": "MethodError",
     "evalue": "MethodError: no method matching heatConvection(::String; h::Float64, Tₐ::Int64)\nThis error has been manually thrown, explicitly, so the method may exist but be intentionally marked as unimplemented.\n\nClosest candidates are:\n  heatConvection(::Any; λ, Tₐ) got unsupported keyword argument \"h\"\n   @ LowLevelFEM ~/Dokumentumok/GitHub/LowLevelFEM.jl/src/LowLevelFEM.jl:292\n",
     "output_type": "error",
     "traceback": [
      "MethodError: no method matching heatConvection(::String; h::Float64, Tₐ::Int64)\n",
      "This error has been manually thrown, explicitly, so the method may exist but be intentionally marked as unimplemented.\n",
      "\n",
      "Closest candidates are:\n",
      "  heatConvection(::Any; λ, Tₐ) got unsupported keyword argument \"h\"\n",
      "   @ LowLevelFEM ~/Dokumentumok/GitHub/LowLevelFEM.jl/src/LowLevelFEM.jl:292\n",
      "\n",
      "\n",
      "Stacktrace:\n",
      " [1] kwerr(::@NamedTuple{h::Float64, Tₐ::Int64}, ::Function, ::String)\n",
      "   @ Base ./error.jl:165\n",
      " [2] top-level scope\n",
      "   @ ~/Dokumentumok/GitHub/LowLevelFEM.jl/examples/HeatCondition/jl_notebook_cell_df34fa98e69747e1a8f8a730347b8e2f_W4sZmlsZQ==.jl:4"
     ]
    }
   ],
   "source": [
    "inn = FEM.temperatureConstraint(\"inner\", T=30)\n",
    "out = FEM.temperatureConstraint(\"outer\", T=-10)\n",
    "load = FEM.heatFlux(\"inner\", qn=0)\n",
    "conv = FEM.heatConvection(\"outer\", h=0.01, Tₐ=-10)"
   ]
  },
  {
   "cell_type": "code",
   "execution_count": 23,
   "metadata": {},
   "outputs": [
    {
     "data": {
      "text/plain": [
       "1446-element Vector{Float64}:\n",
       " 0.0\n",
       " 0.0\n",
       " 0.0\n",
       " 0.0\n",
       " 0.0\n",
       " 0.0\n",
       " 0.0\n",
       " 0.0\n",
       " 0.0\n",
       " 0.0\n",
       " ⋮\n",
       " 0.0\n",
       " 0.0\n",
       " 0.0\n",
       " 0.0\n",
       " 0.0\n",
       " 0.0\n",
       " 0.0\n",
       " 0.0\n",
       " 0.0"
      ]
     },
     "metadata": {},
     "output_type": "display_data"
    }
   ],
   "source": [
    "f = FEM.loadVector(problem, [load])"
   ]
  },
  {
   "cell_type": "code",
   "execution_count": 24,
   "metadata": {},
   "outputs": [
    {
     "data": {
      "text/plain": [
       "1446×1446 SparseArrays.SparseMatrixCSC{Float64, Int64} with 176 stored entries:\n",
       "⎡⡁⢈⡁⠀⠀⠀⠀⠀⠀⠀⠀⠀⠀⠀⠀⠀⠀⠀⠀⠀⠀⠀⠀⠀⠀⠀⠀⠀⠀⠀⠀⠀⠀⠀⠀⠀⠀⠀⠀⠀⎤\n",
       "⎢⠁⠈⠁⠀⠀⠀⠀⠀⠀⠀⠀⠀⠀⠀⠀⠀⠀⠀⠀⠀⠀⠀⠀⠀⠀⠀⠀⠀⠀⠀⠀⠀⠀⠀⠀⠀⠀⠀⠀⠀⎥\n",
       "⎢⠀⠀⠀⠀⠀⠀⠀⠀⠀⠀⠀⠀⠀⠀⠀⠀⠀⠀⠀⠀⠀⠀⠀⠀⠀⠀⠀⠀⠀⠀⠀⠀⠀⠀⠀⠀⠀⠀⠀⠀⎥\n",
       "⎢⠀⠀⠀⠀⠀⠀⠀⠀⠀⠀⠀⠀⠀⠀⠀⠀⠀⠀⠀⠀⠀⠀⠀⠀⠀⠀⠀⠀⠀⠀⠀⠀⠀⠀⠀⠀⠀⠀⠀⠀⎥\n",
       "⎢⠀⠀⠀⠀⠀⠀⠀⠀⠀⠀⠀⠀⠀⠀⠀⠀⠀⠀⠀⠀⠀⠀⠀⠀⠀⠀⠀⠀⠀⠀⠀⠀⠀⠀⠀⠀⠀⠀⠀⠀⎥\n",
       "⎢⠀⠀⠀⠀⠀⠀⠀⠀⠀⠀⠀⠀⠀⠀⠀⠀⠀⠀⠀⠀⠀⠀⠀⠀⠀⠀⠀⠀⠀⠀⠀⠀⠀⠀⠀⠀⠀⠀⠀⠀⎥\n",
       "⎢⠀⠀⠀⠀⠀⠀⠀⠀⠀⠀⠀⠀⠀⠀⠀⠀⠀⠀⠀⠀⠀⠀⠀⠀⠀⠀⠀⠀⠀⠀⠀⠀⠀⠀⠀⠀⠀⠀⠀⠀⎥\n",
       "⎢⠀⠀⠀⠀⠀⠀⠀⠀⠀⠀⠀⠀⠀⠀⠀⠀⠀⠀⠀⠀⠀⠀⠀⠀⠀⠀⠀⠀⠀⠀⠀⠀⠀⠀⠀⠀⠀⠀⠀⠀⎥\n",
       "⎢⠀⠀⠀⠀⠀⠀⠀⠀⠀⠀⠀⠀⠀⠀⠀⠀⠀⠀⠀⠀⠀⠀⠀⠀⠀⠀⠀⠀⠀⠀⠀⠀⠀⠀⠀⠀⠀⠀⠀⠀⎥\n",
       "⎢⠀⠀⠀⠀⠀⠀⠀⠀⠀⠀⠀⠀⠀⠀⠀⠀⠀⠀⠀⠀⠀⠀⠀⠀⠀⠀⠀⠀⠀⠀⠀⠀⠀⠀⠀⠀⠀⠀⠀⠀⎥\n",
       "⎢⠀⠀⠀⠀⠀⠀⠀⠀⠀⠀⠀⠀⠀⠀⠀⠀⠀⠀⠀⠀⠀⠀⠀⠀⠀⠀⠀⠀⠀⠀⠀⠀⠀⠀⠀⠀⠀⠀⠀⠀⎥\n",
       "⎢⠀⠀⠀⠀⠀⠀⠀⠀⠀⠀⠀⠀⠀⠀⠀⠀⠀⠀⠀⠀⠀⠀⠀⠀⠀⠀⠀⠀⠀⠀⠀⠀⠀⠀⠀⠀⠀⠀⠀⠀⎥\n",
       "⎢⠀⠀⠀⠀⠀⠀⠀⠀⠀⠀⠀⠀⠀⠀⠀⠀⠀⠀⠀⠀⠀⠀⠀⠀⠀⠀⠀⠀⠀⠀⠀⠀⠀⠀⠀⠀⠀⠀⠀⠀⎥\n",
       "⎢⠀⠀⠀⠀⠀⠀⠀⠀⠀⠀⠀⠀⠀⠀⠀⠀⠀⠀⠀⠀⠀⠀⠀⠀⠀⠀⠀⠀⠀⠀⠀⠀⠀⠀⠀⠀⠀⠀⠀⠀⎥\n",
       "⎢⠀⠀⠀⠀⠀⠀⠀⠀⠀⠀⠀⠀⠀⠀⠀⠀⠀⠀⠀⠀⠀⠀⠀⠀⠀⠀⠀⠀⠀⠀⠀⠀⠀⠀⠀⠀⠀⠀⠀⠀⎥\n",
       "⎢⠀⠀⠀⠀⠀⠀⠀⠀⠀⠀⠀⠀⠀⠀⠀⠀⠀⠀⠀⠀⠀⠀⠀⠀⠀⠀⠀⠀⠀⠀⠀⠀⠀⠀⠀⠀⠀⠀⠀⠀⎥\n",
       "⎢⠀⠀⠀⠀⠀⠀⠀⠀⠀⠀⠀⠀⠀⠀⠀⠀⠀⠀⠀⠀⠀⠀⠀⠀⠀⠀⠀⠀⠀⠀⠀⠀⠀⠀⠀⠀⠀⠀⠀⠀⎥\n",
       "⎢⠀⠀⠀⠀⠀⠀⠀⠀⠀⠀⠀⠀⠀⠀⠀⠀⠀⠀⠀⠀⠀⠀⠀⠀⠀⠀⠀⠀⠀⠀⠀⠀⠀⠀⠀⠀⠀⠀⠀⠀⎥\n",
       "⎢⠀⠀⠀⠀⠀⠀⠀⠀⠀⠀⠀⠀⠀⠀⠀⠀⠀⠀⠀⠀⠀⠀⠀⠀⠀⠀⠀⠀⠀⠀⠀⠀⠀⠀⠀⠀⠀⠀⠀⠀⎥\n",
       "⎣⠀⠀⠀⠀⠀⠀⠀⠀⠀⠀⠀⠀⠀⠀⠀⠀⠀⠀⠀⠀⠀⠀⠀⠀⠀⠀⠀⠀⠀⠀⠀⠀⠀⠀⠀⠀⠀⠀⠀⠀⎦"
      ]
     },
     "metadata": {},
     "output_type": "display_data"
    }
   ],
   "source": [
    "C = FEM.heatConvectionMatrix(problem, [conv])"
   ]
  },
  {
   "cell_type": "code",
   "execution_count": 25,
   "metadata": {},
   "outputs": [
    {
     "data": {
      "text/plain": [
       "1446-element Vector{Float64}:\n",
       "  0.0\n",
       " -0.13194444444444353\n",
       " -0.13194444444444353\n",
       "  0.0\n",
       "  0.0\n",
       "  0.0\n",
       "  0.0\n",
       "  0.0\n",
       "  0.0\n",
       "  0.0\n",
       "  ⋮\n",
       "  0.0\n",
       "  0.0\n",
       "  0.0\n",
       "  0.0\n",
       "  0.0\n",
       "  0.0\n",
       "  0.0\n",
       "  0.0\n",
       "  0.0"
      ]
     },
     "metadata": {},
     "output_type": "display_data"
    }
   ],
   "source": [
    "fc = FEM.heatConvectionVector(problem, [conv])"
   ]
  },
  {
   "cell_type": "code",
   "execution_count": 26,
   "metadata": {},
   "outputs": [
    {
     "data": {
      "text/plain": [
       "1446-element Vector{Float64}:\n",
       "  0.0\n",
       " -0.13194444444444353\n",
       " -0.13194444444444353\n",
       "  0.0\n",
       "  0.0\n",
       "  0.0\n",
       "  0.0\n",
       "  0.0\n",
       "  0.0\n",
       "  0.0\n",
       "  ⋮\n",
       "  0.0\n",
       "  0.0\n",
       "  0.0\n",
       "  0.0\n",
       "  0.0\n",
       "  0.0\n",
       "  0.0\n",
       "  0.0\n",
       "  0.0"
      ]
     },
     "metadata": {},
     "output_type": "display_data"
    }
   ],
   "source": [
    "FEM.applyHeatConvection!(problem, K, f, [conv])"
   ]
  },
  {
   "cell_type": "code",
   "execution_count": 27,
   "metadata": {},
   "outputs": [],
   "source": [
    "#K .+= C"
   ]
  },
  {
   "cell_type": "code",
   "execution_count": 28,
   "metadata": {},
   "outputs": [],
   "source": [
    "#f += fc"
   ]
  },
  {
   "cell_type": "code",
   "execution_count": 29,
   "metadata": {},
   "outputs": [],
   "source": [
    "FEM.applyBoundaryConditions!(problem, K, f, [inn])"
   ]
  },
  {
   "cell_type": "code",
   "execution_count": 30,
   "metadata": {},
   "outputs": [
    {
     "data": {
      "text/plain": [
       "1446-element Vector{Float64}:\n",
       " 30.0\n",
       " 29.99844584194193\n",
       " 29.998445841940388\n",
       " 30.0\n",
       " 29.9997161200691\n",
       " 29.99947979606941\n",
       " 29.99927735765658\n",
       " 29.999100294911678\n",
       " 29.998942948941313\n",
       " 29.998801365312847\n",
       "  ⋮\n",
       " 29.9997150136648\n",
       " 29.999734693713638\n",
       " 29.999696149199423\n",
       " 29.99952159150922\n",
       " 29.999589994535846\n",
       " 29.99957018990964\n",
       " 29.999555379625857\n",
       " 29.999580057566074\n",
       " 29.99954568202923"
      ]
     },
     "metadata": {},
     "output_type": "display_data"
    }
   ],
   "source": [
    "T = K \\ f"
   ]
  },
  {
   "cell_type": "code",
   "execution_count": 31,
   "metadata": {},
   "outputs": [
    {
     "data": {
      "text/plain": [
       "0"
      ]
     },
     "metadata": {},
     "output_type": "display_data"
    }
   ],
   "source": [
    "T1 = FEM.showDoFResults(problem, T, \"T\", name=\"T\", visible=true)"
   ]
  },
  {
   "cell_type": "code",
   "execution_count": 32,
   "metadata": {},
   "outputs": [],
   "source": [
    "FEM.plotOnPath(problem, \"path\", T1, 100, name=\"T\", visible=false);"
   ]
  },
  {
   "cell_type": "code",
   "execution_count": 33,
   "metadata": {},
   "outputs": [
    {
     "name": "stdout",
     "output_type": "stream",
     "text": [
      "-------------------------------------------------------\n",
      "Version       : 4.13.1\n",
      "License       : GNU General Public License\n",
      "Build OS      : Linux64-sdk\n",
      "Build date    : 19700101\n",
      "Build host    : amdci7.julia.csail.mit.edu\n",
      "Build options : 64Bit ALGLIB[contrib] ANN[contrib] Bamg Blossom Cairo DIntegration Dlopen DomHex Eigen[contrib] Fltk GMP Gmm[contrib] Hxt Jpeg Kbipack LinuxJoystick MathEx[contrib] Mesh Metis[contrib] Mmg Mpeg Netgen Nii2mesh ONELAB ONELABMetamodel OpenCASCADE OpenCASCADE-CAF OpenGL OpenMP OptHom Parser Plugins Png Post QuadMeshingTools QuadTri Solver TetGen/BR TinyXML2[contrib] Untangle Voro++[contrib] WinslowUntangler Zlib\n",
      "FLTK version  : 1.3.8\n",
      "OCC version   : 7.7.2\n",
      "Packaged by   : root\n",
      "Web site      : https://gmsh.info\n",
      "Issue tracker : https://gitlab.onelab.info/gmsh/gmsh/issues\n",
      "-------------------------------------------------------\n"
     ]
    },
    {
     "name": "stderr",
     "output_type": "stream",
     "text": [
      "XRequest.18: BadValue 0x0\n"
     ]
    }
   ],
   "source": [
    "gmsh.fltk.run()"
   ]
  },
  {
   "cell_type": "code",
   "execution_count": 34,
   "metadata": {},
   "outputs": [],
   "source": [
    "gmsh.finalize()"
   ]
  }
 ],
 "metadata": {
  "kernelspec": {
   "display_name": "Julia 1.11.1",
   "language": "julia",
   "name": "julia-1.11"
  },
  "language_info": {
   "file_extension": ".jl",
   "mimetype": "application/julia",
   "name": "julia",
   "version": "1.11.1"
  }
 },
 "nbformat": 4,
 "nbformat_minor": 2
}
