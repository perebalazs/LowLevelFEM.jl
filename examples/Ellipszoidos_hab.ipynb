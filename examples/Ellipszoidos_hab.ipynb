{
 "cells": [
  {
   "cell_type": "code",
   "execution_count": 1,
   "metadata": {},
   "outputs": [],
   "source": [
    "using LinearAlgebra, SparseArrays\n",
    "import gmsh\n",
    "gmsh.initialize()\n",
    "\n",
    "include(\"../src/FEM.jl\")\n",
    "using .FEM"
   ]
  },
  {
   "cell_type": "code",
   "execution_count": 2,
   "metadata": {},
   "outputs": [
    {
     "name": "stdout",
     "output_type": "stream",
     "text": [
      "Info    : Reading 'Ellipszoidos_hab.geo'...\n",
      "Info    : Meshing 1D...\n",
      "Info    : [  0%] Meshing curve 1 (Line)\n",
      "Info    : [ 10%] Meshing curve 2 (Line)\n",
      "Info    : [ 20%] Meshing curve 3 (Line)\n",
      "Info    : [ 20%] Meshing curve 4 (Line)\n",
      "Info    : [ 30%] Meshing curve 5 (Line)\n",
      "Info    : [ 30%] Meshing curve 6 (Line)\n",
      "Info    : [ 40%] Meshing curve 7 (Line)\n",
      "Info    : [ 40%] Meshing curve 8 (Line)\n",
      "Info    : [ 50%] Meshing curve 9 (Line)\n",
      "Info    : [ 50%] Meshing curve 10 (Line)\n",
      "Info    : [ 60%] Meshing curve 11 (Line)\n",
      "Info    : [ 70%] Meshing curve 12 (Line)\n",
      "Info    : [ 80%] Meshing curve 14 (TrimmedCurve)\n",
      "Info    : [ 90%] Meshing curve 17 (TrimmedCurve)\n",
      "Info    : Done meshing 1D (Wall 0.0058857s, CPU 0.005888s)\n",
      "Info    : Meshing 2D...\n",
      "Info    : [  0%] Meshing surface 1 (Transfinite)\n",
      "Info    : [ 20%] Meshing surface 2 (Transfinite)\n",
      "Info    : [ 30%] Meshing surface 3 (Transfinite)\n",
      "Info    : [ 40%] Meshing surface 4 (Transfinite)\n",
      "Info    : [ 50%] Meshing surface 5 (Transfinite)\n",
      "Info    : [ 70%] Meshing surface 6 (Transfinite)\n",
      "Info    : [ 80%] Meshing surface 7 (BSpline surface, Frontal-Delaunay)\n",
      "Info    : [ 90%] Meshing surface 8 (BSpline surface, Frontal-Delaunay)\n",
      "Info    : Done meshing 2D (Wall 0.0697271s, CPU 0.069671s)\n",
      "Info    : Meshing 3D...\n",
      "Info    : 3D Meshing 1 volume with 1 connected component\n",
      "Info    : Tetrahedrizing 3144 nodes...\n",
      "Info    : Done tetrahedrizing 3152 nodes (Wall 0.0482495s, CPU 0.046283s)\n",
      "Info    : Reconstructing mesh...\n",
      "Info    :  - Creating surface mesh\n",
      "Info    :  - Identifying boundary edges\n",
      "Info    :  - Recovering boundary\n",
      "Info    :  - Added 88 Steiner points\n",
      "Info    : Done reconstructing mesh (Wall 0.215247s, CPU 0.210259s)\n",
      "Info    : Found volume 3\n",
      "Info    : Found void region\n",
      "Info    : Found void region\n",
      "Info    : It. 0 - 0 nodes created - worst tet radius 17.1108 (nodes removed 0 0)\n",
      "Info    : It. 500 - 376 nodes created - worst tet radius 1.67871 (nodes removed 0 124)\n",
      "Info    : It. 1000 - 841 nodes created - worst tet radius 1.31427 (nodes removed 0 159)\n",
      "Info    : It. 1500 - 1332 nodes created - worst tet radius 1.1477 (nodes removed 0 168)\n",
      "Info    : It. 2000 - 1828 nodes created - worst tet radius 1.0447 (nodes removed 0 172)\n",
      "Info    : 3D refinement terminated (5323 nodes total):\n",
      "Info    :  - 97 Delaunay cavities modified for star shapeness\n",
      "Info    :  - 172 nodes could not be inserted\n",
      "Info    :  - 23630 tetrahedra created in 0.132767 sec. (177981 tets/s)\n",
      "Info    : 18 node relocations\n",
      "Info    : Done meshing 3D (Wall 0.514539s, CPU 0.508364s)\n",
      "Info    : Optimizing mesh...\n",
      "Info    : Optimizing volume 3\n",
      "Info    : Optimization starts (volume = 7.20796) with worst = 0.000600086 / average = 0.722932:\n",
      "Info    : 0.00 < quality < 0.10 :        56 elements\n",
      "Info    : 0.10 < quality < 0.20 :       211 elements\n",
      "Info    : 0.20 < quality < 0.30 :       468 elements\n",
      "Info    : 0.30 < quality < 0.40 :       641 elements\n",
      "Info    : 0.40 < quality < 0.50 :       918 elements\n",
      "Info    : 0.50 < quality < 0.60 :      1988 elements\n",
      "Info    : 0.60 < quality < 0.70 :      4250 elements\n",
      "Info    : 0.70 < quality < 0.80 :      6428 elements\n",
      "Info    : 0.80 < quality < 0.90 :      6043 elements\n",
      "Info    : 0.90 < quality < 1.00 :      2627 elements\n",
      "Info    : 579 edge swaps, 101 node relocations (volume = 7.20796): worst = 0.000610899 / average = 0.737257 (Wall 0.0165281s, CPU 0.015494s)\n",
      "Info    : 613 edge swaps, 110 node relocations (volume = 7.20796): worst = 0.000610899 / average = 0.738148 (Wall 0.0216864s, CPU 0.020655s)\n",
      "Info    : 0.00 < quality < 0.10 :         5 elements\n",
      "Info    : 0.10 < quality < 0.20 :        10 elements\n",
      "Info    : 0.20 < quality < 0.30 :        34 elements\n",
      "Info    : 0.30 < quality < 0.40 :       623 elements\n",
      "Info    : 0.40 < quality < 0.50 :       913 elements\n",
      "Info    : 0.50 < quality < 0.60 :      2050 elements\n",
      "Info    : 0.60 < quality < 0.70 :      4314 elements\n",
      "Info    : 0.70 < quality < 0.80 :      6433 elements\n",
      "Info    : 0.80 < quality < 0.90 :      6140 elements\n",
      "Info    : 0.90 < quality < 1.00 :      2619 elements\n",
      "Info    : Done optimizing mesh (Wall 0.054357s, CPU 0.053322s)\n",
      "Info    : 5322 nodes 29728 elements\n",
      "Info    : Done reading 'Ellipszoidos_hab.geo'\n"
     ]
    },
    {
     "name": "stderr",
     "output_type": "stream",
     "text": [
      "Warning : 1 ill-shaped tets are still in the mesh\n",
      "Warning : ------------------------------\n",
      "Warning : Mesh generation error summary\n",
      "Warning :     1 warning\n",
      "Warning :     0 errors\n",
      "Warning : Check the full log for details\n",
      "Warning : ------------------------------\n"
     ]
    }
   ],
   "source": [
    "gmsh.open(\"Ellipszoidos_hab.geo\")"
   ]
  },
  {
   "cell_type": "code",
   "execution_count": 3,
   "metadata": {},
   "outputs": [
    {
     "data": {
      "text/plain": [
       "Main.FEM.Problem(\"hab\", \"Solid\", 3, 200000.0, 0.3, 7.85e-9, 1.0, 5322)"
      ]
     },
     "execution_count": 3,
     "metadata": {},
     "output_type": "execute_result"
    }
   ],
   "source": [
    "problem = FEM.Problem()"
   ]
  },
  {
   "cell_type": "code",
   "execution_count": 4,
   "metadata": {},
   "outputs": [
    {
     "name": "stdout",
     "output_type": "stream",
     "text": [
      "-------------------------------------------------------\n",
      "Version       : 4.12.2\n",
      "License       : GNU General Public License\n",
      "Build OS      : Linux64-sdk\n",
      "Build date    : 20240121\n",
      "Build host    : gmsh.info\n",
      "Build options : 64Bit ALGLIB[contrib] ANN[contrib] Bamg Blas[petsc] Blossom Cgns DIntegration Dlopen DomHex Eigen[contrib] Fltk Gmm[contrib] Hxt Jpeg Kbipack Lapack[petsc] LinuxJoystick MathEx[contrib] Med Mesh Metis[contrib] Mmg Mpeg Netgen ONELAB ONELABMetamodel OpenCASCADE OpenCASCADE-CAF OpenGL OpenMP OptHom PETSc Parser Plugins Png Post QuadMeshingTools QuadTri Solver TetGen/BR Voro++[contrib] WinslowUntangler Zlib\n",
      "FLTK version  : 1.4.0\n",
      "PETSc version : 3.14.4 (real arithmtic)\n",
      "OCC version   : 7.7.2\n",
      "MED version   : 4.1.0\n",
      "Packaged by   : geuzaine\n",
      "Web site      : https://gmsh.info\n",
      "Issue tracker : https://gitlab.onelab.info/gmsh/gmsh/issues\n",
      "-------------------------------------------------------\n"
     ]
    }
   ],
   "source": [
    "gmsh.fltk.run()"
   ]
  },
  {
   "cell_type": "code",
   "execution_count": 5,
   "metadata": {},
   "outputs": [
    {
     "data": {
      "text/plain": [
       "15966×15966 SparseMatrixCSC{Float64, Int64} with 617256 stored entries:\n",
       "⎡⣿⣿⡟⠛⢻⠶⠾⣥⣥⣟⣀⣸⠶⠶⡿⠶⢾⠀⢈⣉⡉⠉⠁⢸⣇⠀⣓⣡⡊⣈⡈⣁⢀⠜⣙⣇⠈⠉⣈⡂⎤\n",
       "⎢⣿⠉⠻⣦⡀⠀⠀⡇⠀⣇⠀⠈⠉⠉⠁⠀⠈⠀⠈⠉⠉⠉⠈⢱⠁⠞⣽⣿⣿⣿⣻⣞⣫⣿⣿⣷⣿⣹⠿⡿⎥\n",
       "⎢⢻⡖⠀⠈⠻⣦⡀⠁⠀⡞⠀⢰⠒⠒⠛⠒⠒⠀⠀⠀⠀⠀⠀⢘⠇⢸⣿⣿⣿⠿⣫⠿⣟⣻⣿⡌⡿⣿⣮⣕⎥\n",
       "⎢⠞⣧⠤⠤⠄⠈⠻⣦⡀⠃⠀⢸⠀⠀⡖⠒⠦⣀⣀⣀⡀⠀⠀⢸⠆⠻⣿⣿⣫⣷⣯⡾⣾⡚⢿⣷⡭⣻⣝⣏⎥\n",
       "⎢⣥⢿⠤⢤⣠⠤⠤⠈⠻⣦⡀⠸⠀⠀⡇⠀⢈⠛⠛⠛⠀⠀⠀⢸⠄⢶⣿⣭⣷⣷⣾⢷⣻⣳⣯⣳⣿⣼⡽⣧⎥\n",
       "⎢⣀⣸⡀⠀⢀⣀⣀⣀⣀⡈⠻⣦⡀⠀⡇⠀⢸⠀⠀⠀⠰⠞⠻⠻⣦⢽⣯⣿⣽⣹⢿⣿⢻⡞⣿⣯⣱⣻⣿⡯⎥\n",
       "⎢⢸⡇⡇⠀⢸⠀⠀⠀⠀⠀⠀⠈⠻⣦⡀⠀⠀⠀⠀⠀⠀⠀⠀⢰⣇⢸⡻⣻⡻⣟⣷⣿⣩⡟⣿⣷⣾⣿⣷⢃⎥\n",
       "⎢⢻⡏⠁⠀⢻⠀⢸⠉⠉⠉⠉⠉⠀⠈⠻⣦⡀⠀⠀⠀⠀⠀⠀⢸⠙⣚⣿⣮⣽⣷⡽⣿⣸⣷⣽⣫⡸⣷⣴⣿⎥\n",
       "⎢⠚⠓⠂⠀⠘⠀⠈⢣⣦⠐⠒⠒⠀⠀⠀⠈⢻⣶⣶⣶⣢⠀⢀⢈⡗⠩⣻⣿⣿⣿⣷⣿⣿⣿⣷⣿⣷⣿⣖⡿⎥\n",
       "⎢⡆⢰⡆⠀⠀⠀⠀⢸⣿⠀⠀⠀⠀⠀⠀⠀⢸⣿⣿⣿⣿⠀⢐⡃⡅⠀⣬⣿⣿⣿⣿⣿⣿⣿⣾⣿⣿⣿⣿⣿⎥\n",
       "⎢⡇⠈⡇⠀⠀⠀⠀⠈⠀⠀⣰⠆⠀⠀⠀⠀⠈⠚⠛⠛⣿⣿⣺⣿⡏⠐⢯⣽⣿⣿⣿⣿⣿⣿⣿⢿⣿⣿⣿⣧⎥\n",
       "⎢⣁⣀⢆⣀⣀⢀⣀⣀⣀⣀⣿⡂⢀⣀⣀⣀⡀⢐⠴⠰⣾⣾⣿⣿⢅⢀⣻⣿⣿⣿⣿⣷⣿⣿⣿⣿⣿⣿⣿⣿⎥\n",
       "⎢⠉⠙⣡⠄⣉⣁⣬⡁⢠⣅⣌⣟⣉⣙⣳⢠⡝⡉⠁⠉⢋⠉⠁⢑⣿⣿⣿⣿⣿⣿⣿⣿⣿⣿⣿⣿⣿⣿⣿⣿⎥\n",
       "⎢⠝⣸⣷⣿⣿⣿⣿⣿⡟⣿⣯⣿⣿⣪⡻⣿⣿⣾⣦⣿⣏⣷⣿⣾⣿⣿⣿⣿⣿⣿⣿⣿⣿⣿⣿⣿⣿⣿⣿⣿⎥\n",
       "⎢⡊⢨⣿⣿⣿⡟⢯⣾⢽⣿⣗⣻⣿⢮⢷⣿⣿⣿⣿⣿⣿⣿⣿⣿⣿⣿⣿⣿⣿⣿⣿⣿⣿⣿⣿⣿⣿⣿⣿⣿⎥\n",
       "⎢⠆⢨⣻⢾⣯⡞⣫⡿⢾⣟⣿⣷⣽⣿⣷⣯⣽⣿⣿⣿⣿⣿⢿⣿⣿⣿⣿⣿⣿⣿⣿⣿⣿⣿⣿⣿⣿⣿⣿⣿⎥\n",
       "⎢⣀⠔⣯⣾⣿⣹⣺⠻⢿⣺⣻⠶⣧⠾⢶⣾⣿⣿⣿⣿⣿⣿⣿⣿⣿⣿⣿⣿⣿⣿⣿⣿⣿⣿⣿⣿⣿⣿⣿⣿⎥\n",
       "⎢⠷⢼⢿⣿⡛⠿⢿⣷⢯⣻⡿⣿⢿⣿⡷⣻⣽⣿⣾⣿⣿⣟⣿⣿⣿⣿⣿⣿⣿⣿⣿⣿⣿⣿⣿⣿⣿⣿⣿⣿⎥\n",
       "⎢⡆⠀⣟⣻⣿⣯⣧⣫⣛⣿⣵⣺⣾⣿⢶⣮⣽⣿⣿⣿⣿⣿⣿⣿⣿⣿⣿⣿⣿⣿⣿⣿⣿⣿⣿⣿⣿⣿⣿⣿⎥\n",
       "⎣⠢⠸⣿⡧⢎⢿⡷⢽⠷⣯⡿⡿⠽⢛⣴⣿⣼⡽⣿⣿⠿⣿⣿⣿⣿⣿⣿⣿⣿⣿⣿⣿⣿⣿⣿⣿⣿⣿⣿⣿⎦"
      ]
     },
     "execution_count": 5,
     "metadata": {},
     "output_type": "execute_result"
    }
   ],
   "source": [
    "K = FEM.stiffnessMatrix(problem)"
   ]
  },
  {
   "cell_type": "code",
   "execution_count": 6,
   "metadata": {},
   "outputs": [
    {
     "data": {
      "text/plain": [
       "(\"load\", -1, 0, 0)"
      ]
     },
     "execution_count": 6,
     "metadata": {},
     "output_type": "execute_result"
    }
   ],
   "source": [
    "supp = FEM.displacementConstraint(\"supp\", ux=0, uy=0, uz=0)\n",
    "load = FEM.load(\"load\", fx=-1)"
   ]
  },
  {
   "cell_type": "code",
   "execution_count": 7,
   "metadata": {},
   "outputs": [
    {
     "data": {
      "text/plain": [
       "15966-element Vector{Float64}:\n",
       "  0.0\n",
       "  0.0\n",
       "  0.0\n",
       "  0.0\n",
       "  0.0\n",
       "  0.0\n",
       "  0.0\n",
       "  0.0\n",
       "  0.0\n",
       "  0.0\n",
       "  0.0\n",
       "  0.0\n",
       " -0.0036934441366574325\n",
       "  ⋮\n",
       "  0.0\n",
       "  0.0\n",
       "  0.0\n",
       "  0.0\n",
       "  0.0\n",
       "  0.0\n",
       "  0.0\n",
       "  0.0\n",
       "  0.0\n",
       "  0.0\n",
       "  0.0\n",
       "  0.0"
      ]
     },
     "execution_count": 7,
     "metadata": {},
     "output_type": "execute_result"
    }
   ],
   "source": [
    "f = FEM.loadVector(problem, [load])"
   ]
  },
  {
   "cell_type": "code",
   "execution_count": 8,
   "metadata": {},
   "outputs": [
    {
     "data": {
      "text/plain": [
       "Any[]"
      ]
     },
     "execution_count": 8,
     "metadata": {},
     "output_type": "execute_result"
    }
   ],
   "source": [
    "FEM.applyBoundaryConditions!(problem, K, f, [supp])"
   ]
  },
  {
   "cell_type": "code",
   "execution_count": 9,
   "metadata": {},
   "outputs": [
    {
     "data": {
      "text/plain": [
       "15966-element Vector{Float64}:\n",
       "  0.0\n",
       "  0.0\n",
       "  0.0\n",
       "  0.0\n",
       "  0.0\n",
       "  0.0\n",
       "  0.0\n",
       "  0.0\n",
       "  0.0\n",
       "  0.0\n",
       "  0.0\n",
       "  0.0\n",
       " -1.1973242370118823e-5\n",
       "  ⋮\n",
       " -9.234020784626878e-6\n",
       " -7.390616094620787e-7\n",
       " -6.736684112612787e-7\n",
       " -1.318101565334489e-5\n",
       " -2.1497875341165005e-6\n",
       " -2.40668565597719e-8\n",
       " -3.1836964649427093e-7\n",
       " -1.957661370101677e-7\n",
       "  1.934518057124956e-8\n",
       " -3.4628368809398738e-6\n",
       "  6.876159908581769e-7\n",
       " -1.4546771319441347e-6"
      ]
     },
     "execution_count": 9,
     "metadata": {},
     "output_type": "execute_result"
    }
   ],
   "source": [
    "q = FEM.solveDisplacement(K, f)"
   ]
  },
  {
   "cell_type": "code",
   "execution_count": 10,
   "metadata": {},
   "outputs": [
    {
     "data": {
      "text/plain": [
       "Main.FEM.StressField([[-1.1509522054754324; -0.06477914298552315; … ; 0.027187204384214958; -0.11740527918125165;;], [-1.255310492655242; -0.02375752845105191; … ; -0.03741123152078394; -0.05921365601393075;;], [-1.060034054537083; -0.04383636145618681; … ; -0.004457689104992451; 0.0070225589233319785;;], [-1.1313152135077535; -0.034747165020150454; … ; -0.02880268992658881; 0.023951787174122552;;], [-1.0069278030087936; 0.007191273776322918; … ; -0.026749040150833424; -0.02580720535933398;;], [-1.552036417534668; 0.11348066081286144; … ; 0.011955894495285007; 0.12554066940333197;;], [-1.222640036001307; 0.1418817852051052; … ; 0.057782440969319206; -0.019786776333221207;;], [-1.6052675503946223; -0.00765404436316245; … ; 0.08227467174416149; -0.17565823709339046;;], [-1.1867048511291631; 0.30497191005738933; … ; -0.09810650522678674; -0.20733037734497958;;], [-0.3737408489342433; -0.18884413056504137; … ; 0.061150614925456474; -0.01458697624660843;;]  …  [-1.2853383793190032; 0.15504196994094566; … ; -0.01488197586713024; -0.06176398666694988;;], [-3.1073726042405787; 0.2851080346472551; … ; -0.10019203511703227; 0.33215885080424945;;], [-2.8796224804109625; 0.11833678992803169; … ; -0.12198255097056276; 0.4801451786236925;;], [-3.230994590423807; 0.12208899857824344; … ; -0.1372165496602066; 0.20145227440494476;;], [-2.946915181627229; -0.09503026415753998; … ; -0.16665766459177636; 0.373099443065276;;], [-2.7226054813139453; 0.04425327691643635; … ; -0.12056444015215916; -0.22467587402317818;;], [-1.5264310431060604; -0.011230085564964475; … ; -0.09281265940624146; -0.08869860985164074;;], [-1.4693177527127117; -0.04136318690753895; … ; -0.06036780859340472; 0.0014627832118482287;;], [-2.397873329357258; -0.07467547427050689; … ; -0.07138876149166008; -0.25749379585637017;;], [-2.5128685095340786; -0.12527449398527563; … ; -0.10853740560769318; -0.2869564236060287;;]], [6555, 6556, 6557, 6558, 6559, 6560, 6561, 6562, 6563, 6564  …  29719, 29720, 29721, 29722, 29723, 29724, 29725, 29726, 29727, 29728], 1)"
      ]
     },
     "execution_count": 10,
     "metadata": {},
     "output_type": "execute_result"
    }
   ],
   "source": [
    "S = FEM.solveStress(problem, q)"
   ]
  },
  {
   "cell_type": "code",
   "execution_count": 11,
   "metadata": {},
   "outputs": [
    {
     "data": {
      "text/plain": [
       "\"uvec..ok\""
      ]
     },
     "metadata": {},
     "output_type": "display_data"
    },
    {
     "data": {
      "text/plain": [
       "\"ux..ok\""
      ]
     },
     "metadata": {},
     "output_type": "display_data"
    },
    {
     "data": {
      "text/plain": [
       "\"uy..ok\""
      ]
     },
     "metadata": {},
     "output_type": "display_data"
    },
    {
     "data": {
      "text/plain": [
       "\"uz..ok\""
      ]
     },
     "metadata": {},
     "output_type": "display_data"
    },
    {
     "name": "stdout",
     "output_type": "stream",
     "text": [
      "Info    : Running Plugin(Smooth)...\n",
      "Info    : Done running Plugin(Smooth)\n"
     ]
    },
    {
     "data": {
      "text/plain": [
       "\"s..ok\""
      ]
     },
     "metadata": {},
     "output_type": "display_data"
    },
    {
     "name": "stdout",
     "output_type": "stream",
     "text": [
      "Info    : Running Plugin(Smooth)...\n",
      "Info    : Done running Plugin(Smooth)\n"
     ]
    },
    {
     "data": {
      "text/plain": [
       "\"sx..ok\""
      ]
     },
     "metadata": {},
     "output_type": "display_data"
    },
    {
     "name": "stdout",
     "output_type": "stream",
     "text": [
      "Info    : Running Plugin(Smooth)...\n",
      "Info    : Done running Plugin(Smooth)\n"
     ]
    },
    {
     "data": {
      "text/plain": [
       "\"sy..ok\""
      ]
     },
     "metadata": {},
     "output_type": "display_data"
    },
    {
     "name": "stdout",
     "output_type": "stream",
     "text": [
      "Info    : Running Plugin(Smooth)...\n",
      "Info    : Done running Plugin(Smooth)\n"
     ]
    },
    {
     "data": {
      "text/plain": [
       "\"sz..ok\""
      ]
     },
     "metadata": {},
     "output_type": "display_data"
    },
    {
     "name": "stdout",
     "output_type": "stream",
     "text": [
      "Info    : Running Plugin(Smooth)...\n",
      "Info    : Done running Plugin(Smooth)\n"
     ]
    },
    {
     "data": {
      "text/plain": [
       "\"sxy..ok\""
      ]
     },
     "metadata": {},
     "output_type": "display_data"
    },
    {
     "name": "stdout",
     "output_type": "stream",
     "text": [
      "Info    : Running Plugin(Smooth)...\n",
      "Info    : Done running Plugin(Smooth)\n"
     ]
    },
    {
     "data": {
      "text/plain": [
       "\"syz..ok\""
      ]
     },
     "metadata": {},
     "output_type": "display_data"
    },
    {
     "name": "stdout",
     "output_type": "stream",
     "text": [
      "Info    : Running Plugin(Smooth)...\n",
      "Info    : Done running Plugin(Smooth)\n"
     ]
    },
    {
     "data": {
      "text/plain": [
       "\"szx..ok\""
      ]
     },
     "metadata": {},
     "output_type": "display_data"
    },
    {
     "data": {
      "text/plain": [
       "11"
      ]
     },
     "execution_count": 11,
     "metadata": {},
     "output_type": "execute_result"
    }
   ],
   "source": [
    "u = FEM.showDoFResults(problem, q, \"uvec\", name=\"uvec\", visible=false)\n",
    "ux = FEM.showDoFResults(problem, q, \"ux\", name=\"ux\", visible=false)\n",
    "uy = FEM.showDoFResults(problem, q, \"uy\", name=\"uy\", visible=false)\n",
    "uz = FEM.showDoFResults(problem, q, \"uz\", name=\"uz\", visible=false)\n",
    "s = FEM.showStressResults(problem, S, \"s\", name=\"σ\", visible=true, smooth=true)\n",
    "sx = FEM.showStressResults(problem, S, \"sx\", name=\"σx\", visible=false, smooth=true)\n",
    "sy = FEM.showStressResults(problem, S, \"sy\", name=\"σy\", visible=false, smooth=true)\n",
    "sz = FEM.showStressResults(problem, S, \"sz\", name=\"σz\", visible=false, smooth=true)\n",
    "sxy = FEM.showStressResults(problem, S, \"sxy\", name=\"τxy\", visible=false, smooth=true)\n",
    "syz = FEM.showStressResults(problem, S, \"syz\", name=\"τyz\", visible=false, smooth=true)\n",
    "szx = FEM.showStressResults(problem, S, \"szx\", name=\"τzx\", visible=false, smooth=true)"
   ]
  },
  {
   "cell_type": "code",
   "execution_count": 12,
   "metadata": {},
   "outputs": [
    {
     "name": "stdout",
     "output_type": "stream",
     "text": [
      "-------------------------------------------------------\n",
      "Version       : 4.12.2\n",
      "License       : GNU General Public License\n",
      "Build OS      : Linux64-sdk\n",
      "Build date    : 20240121\n",
      "Build host    : gmsh.info\n",
      "Build options : 64Bit ALGLIB[contrib] ANN[contrib] Bamg Blas[petsc] Blossom Cgns DIntegration Dlopen DomHex Eigen[contrib] Fltk Gmm[contrib] Hxt Jpeg Kbipack Lapack[petsc] LinuxJoystick MathEx[contrib] Med Mesh Metis[contrib] Mmg Mpeg Netgen ONELAB ONELABMetamodel OpenCASCADE OpenCASCADE-CAF OpenGL OpenMP OptHom PETSc Parser Plugins Png Post QuadMeshingTools QuadTri Solver TetGen/BR Voro++[contrib] WinslowUntangler Zlib\n",
      "FLTK version  : 1.4.0\n",
      "PETSc version : 3.14.4 (real arithmtic)\n",
      "OCC version   : 7.7.2\n",
      "MED version   : 4.1.0\n",
      "Packaged by   : geuzaine\n",
      "Web site      : https://gmsh.info\n",
      "Issue tracker : https://gitlab.onelab.info/gmsh/gmsh/issues\n",
      "-------------------------------------------------------\n"
     ]
    }
   ],
   "source": [
    "gmsh.fltk.run()"
   ]
  },
  {
   "cell_type": "code",
   "execution_count": 13,
   "metadata": {},
   "outputs": [],
   "source": [
    "gmsh.finalize()"
   ]
  }
 ],
 "metadata": {
  "kernelspec": {
   "display_name": "Julia 1.10.0",
   "language": "julia",
   "name": "julia-1.10"
  },
  "language_info": {
   "file_extension": ".jl",
   "mimetype": "application/julia",
   "name": "julia",
   "version": "1.10.0"
  }
 },
 "nbformat": 4,
 "nbformat_minor": 4
}
