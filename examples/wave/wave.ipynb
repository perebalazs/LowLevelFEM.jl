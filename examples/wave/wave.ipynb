{
 "cells": [
  {
   "cell_type": "code",
   "execution_count": 1,
   "metadata": {},
   "outputs": [],
   "source": [
    "using LowLevelFEM\n",
    "import LowLevelFEM as FEM\n",
    "\n",
    "gmsh.initialize()"
   ]
  },
  {
   "cell_type": "code",
   "execution_count": null,
   "metadata": {},
   "outputs": [],
   "source": [
    "#using Plots"
   ]
  },
  {
   "cell_type": "code",
   "execution_count": null,
   "metadata": {},
   "outputs": [],
   "source": [
    "gmsh.open(\"wave.geo\")"
   ]
  },
  {
   "cell_type": "code",
   "execution_count": 4,
   "metadata": {},
   "outputs": [],
   "source": [
    "#gmsh.fltk.run()"
   ]
  },
  {
   "cell_type": "code",
   "execution_count": null,
   "metadata": {},
   "outputs": [],
   "source": [
    "body = FEM.material(\"body\", ν=0)\n",
    "problem1 = FEM.Problem([body], type=\"PlaneStress\", bandwidth=\"RCMK\")\n",
    "problem2 = FEM.Problem([body], type=\"PlaneHeatConduction\")"
   ]
  },
  {
   "cell_type": "code",
   "execution_count": null,
   "metadata": {},
   "outputs": [],
   "source": [
    "K1 = FEM.stiffnessMatrix(problem1)"
   ]
  },
  {
   "cell_type": "code",
   "execution_count": null,
   "metadata": {},
   "outputs": [],
   "source": [
    "M1 = FEM.massMatrix(problem1, lumped=true)"
   ]
  },
  {
   "cell_type": "code",
   "execution_count": null,
   "metadata": {},
   "outputs": [],
   "source": [
    "K2 = FEM.heatConductionMatrix(problem2)"
   ]
  },
  {
   "cell_type": "code",
   "execution_count": null,
   "metadata": {},
   "outputs": [],
   "source": [
    "C2 = FEM.heatCapacityMatrix(problem2, lumped=false)"
   ]
  },
  {
   "cell_type": "code",
   "execution_count": 10,
   "metadata": {},
   "outputs": [],
   "source": [
    "load = FEM.load(\"left\", fx=0)\n",
    "f1 = FEM.loadVector(problem1, [load]);"
   ]
  },
  {
   "cell_type": "code",
   "execution_count": 11,
   "metadata": {},
   "outputs": [],
   "source": [
    "hf = FEM.heatFlux(\"left\", qn=0)\n",
    "q2 = FEM.heatFluxVector(problem2, [hf]);"
   ]
  },
  {
   "cell_type": "code",
   "execution_count": 12,
   "metadata": {},
   "outputs": [],
   "source": [
    "right1 = FEM.displacementConstraint(\"right\", ux=0);"
   ]
  },
  {
   "cell_type": "code",
   "execution_count": 13,
   "metadata": {},
   "outputs": [],
   "source": [
    "u0 = FEM.initialDisplacement(problem1, \"body\", ux=0, uy=0)\n",
    "v0 = FEM.initialVelocity(problem1, \"body\", vx=1000)\n",
    "FEM.initialVelocity!(problem1, \"right\", v0, vx=0);"
   ]
  },
  {
   "cell_type": "code",
   "execution_count": 14,
   "metadata": {},
   "outputs": [],
   "source": [
    "FEM.applyBoundaryConditions!(problem1, K1, M1, f1, [right1])"
   ]
  },
  {
   "cell_type": "code",
   "execution_count": null,
   "metadata": {},
   "outputs": [],
   "source": [
    "Tₘᵢₙ = FEM.smallestPeriodTime(K1, M1)\n",
    "Δt = Tₘᵢₙ / π"
   ]
  },
  {
   "cell_type": "code",
   "execution_count": 16,
   "metadata": {},
   "outputs": [],
   "source": [
    "T0 = FEM.initialTemperature(problem2, \"body\", T=273);"
   ]
  },
  {
   "cell_type": "code",
   "execution_count": 17,
   "metadata": {},
   "outputs": [],
   "source": [
    "using SparseArrays, LinearAlgebra\n",
    "ϑ = 0.66\n",
    "invM1 = spdiagm(1 ./ diag(M1))\n",
    "nsteps = 500\n",
    "dof1, dof1 = size(K1)\n",
    "dof2, dof2 = size(K2)\n",
    "u = zeros(dof1, nsteps)\n",
    "v = zeros(dof1, nsteps)\n",
    "T = zeros(dof2, nsteps)\n",
    "t = zeros(nsteps)\n",
    "a0 = M1 \\ (f1 - K1 * u0)\n",
    "u00 = u0 - v0 * Δt + a0 * Δt^2 / 2\n",
    "u[:, 1] = u0\n",
    "v[:, 1] = v0\n",
    "T[:, 1] = T0\n",
    "t[1] = 0\n",
    "T00 = copy(T0)\n",
    "u1 = u0\n",
    "v1 = v0\n",
    "T1 = T0\n",
    "for i in 2:nsteps\n",
    "    for j in 1:3\n",
    "        LH2 = FEM.latentHeatMatrix(problem2, u1, v1, T00)\n",
    "        fq1 = FEM.thermalLoadVector(problem1, T1, T₀=T00)\n",
    "        u1 = 2.0 * u0 - u00 + Δt * Δt * invM1 * ((f1 + fq1) - K1 * u0)\n",
    "        v1 = (u1 - u0) / Δt\n",
    "        A = C2 + ϑ * Δt * (K2 - LH2)\n",
    "        b = (C2 - (1 - ϑ) * Δt * (K2 - LH2)) * T0 + Δt * q2\n",
    "        T1 = A \\ b\n",
    "    end\n",
    "\n",
    "    u[:, i] = u1\n",
    "    v[:, i] = v1\n",
    "    T[:, i] = T1\n",
    "    t[i] = t[i-1] + Δt\n",
    "    u00 = u0\n",
    "    u0 = u1\n",
    "    T0 = T1\n",
    "end"
   ]
  },
  {
   "cell_type": "code",
   "execution_count": null,
   "metadata": {},
   "outputs": [],
   "source": [
    "T[:, size(T, 2)]"
   ]
  },
  {
   "cell_type": "code",
   "execution_count": null,
   "metadata": {},
   "outputs": [],
   "source": [
    "TT = FEM.showDoFResults(problem2, T, t=t, \"T\")"
   ]
  },
  {
   "cell_type": "code",
   "execution_count": 20,
   "metadata": {},
   "outputs": [],
   "source": [
    "e = FEM.solveStrain(problem1, u, DoFResults=true);"
   ]
  },
  {
   "cell_type": "code",
   "execution_count": 21,
   "metadata": {},
   "outputs": [],
   "source": [
    "s = FEM.solveStress(problem1, u, DoFResults=true);"
   ]
  },
  {
   "cell_type": "code",
   "execution_count": null,
   "metadata": {},
   "outputs": [],
   "source": [
    "ex = FEM.showDoFResults(problem1, e, t=t, \"ex\")"
   ]
  },
  {
   "cell_type": "code",
   "execution_count": null,
   "metadata": {},
   "outputs": [],
   "source": [
    "sx = FEM.showDoFResults(problem1, s, t=t, \"sx\")"
   ]
  },
  {
   "cell_type": "code",
   "execution_count": null,
   "metadata": {},
   "outputs": [],
   "source": [
    "TTp = FEM.plotOnPath(problem2, \"path\", TT, visible=true)"
   ]
  },
  {
   "cell_type": "code",
   "execution_count": null,
   "metadata": {},
   "outputs": [],
   "source": [
    "expp = FEM.plotOnPath(problem1, \"path\", ex, visible=true)"
   ]
  },
  {
   "cell_type": "code",
   "execution_count": null,
   "metadata": {},
   "outputs": [],
   "source": [
    "gmsh.fltk.run()"
   ]
  },
  {
   "cell_type": "code",
   "execution_count": 27,
   "metadata": {},
   "outputs": [],
   "source": [
    "gmsh.finalize()"
   ]
  }
 ],
 "metadata": {
  "kernelspec": {
   "display_name": "Julia O3 1.11.3",
   "language": "julia",
   "name": "julia-o3-1.11"
  },
  "language_info": {
   "file_extension": ".jl",
   "mimetype": "application/julia",
   "name": "julia",
   "version": "1.11.3"
  }
 },
 "nbformat": 4,
 "nbformat_minor": 4
}
