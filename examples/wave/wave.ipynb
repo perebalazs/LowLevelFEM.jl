{
 "cells": [
  {
   "cell_type": "code",
   "execution_count": 1,
   "metadata": {},
   "outputs": [],
   "source": [
    "using LowLevelFEM\n",
    "import LowLevelFEM as FEM\n",
    "\n",
    "gmsh.initialize()"
   ]
  },
  {
   "cell_type": "code",
   "execution_count": 2,
   "metadata": {},
   "outputs": [],
   "source": [
    "using Plots"
   ]
  },
  {
   "cell_type": "code",
   "execution_count": 3,
   "metadata": {},
   "outputs": [
    {
     "name": "stdout",
     "output_type": "stream",
     "text": [
      "Info    : Reading 'wave.geo'...\n",
      "Info    : Meshing 1D...\n",
      "Info    : [  0%] Meshing curve 1 (Line)\n",
      "Info    : [ 30%] Meshing curve 2 (Line)\n",
      "Info    : [ 60%] Meshing curve 3 (Line)\n",
      "Info    : [ 80%] Meshing curve 4 (Line)\n",
      "Info    : Done meshing 1D (Wall 0.000526511s, CPU 0.000506s)\n",
      "Info    : Meshing 2D...\n",
      "Info    : Meshing surface 1 (Plane, Frontal-Delaunay)\n",
      "Info    : Done meshing 2D (Wall 0.0586206s, CPU 0.058617s)\n",
      "Info    : 1314 nodes 2630 elements\n",
      "Info    : Done reading 'wave.geo'\n"
     ]
    }
   ],
   "source": [
    "gmsh.open(\"wave.geo\")"
   ]
  },
  {
   "cell_type": "code",
   "execution_count": 4,
   "metadata": {},
   "outputs": [],
   "source": [
    "#gmsh.fltk.run()"
   ]
  },
  {
   "cell_type": "code",
   "execution_count": 5,
   "metadata": {},
   "outputs": [
    {
     "name": "stdout",
     "output_type": "stream",
     "text": [
      "Info    : RCMK renumbering...\n",
      "Info    : Done RCMK renumbering (bandwidth is now 18)\n",
      "Info    : RCMK renumbering...\n",
      "Info    : Done RCMK renumbering (bandwidth is now 18)\n"
     ]
    },
    {
     "data": {
      "text/plain": [
       "LowLevelFEM.Problem(\"wave\", \"PlaneHeatConduction\", 2, 1, LowLevelFEM.Material[LowLevelFEM.Material(\"body\", 200000.0, 0.3, 7.85e-9, 45.0, 4.2e8, 1.2e-5)], 1.0, 1314)"
      ]
     },
     "metadata": {},
     "output_type": "display_data"
    }
   ],
   "source": [
    "body = FEM.material(\"body\")\n",
    "problem1 = FEM.Problem([body], type=\"PlaneStress\")\n",
    "problem2 = FEM.Problem([body], type=\"PlaneHeatConduction\")"
   ]
  },
  {
   "cell_type": "code",
   "execution_count": 6,
   "metadata": {},
   "outputs": [
    {
     "data": {
      "text/plain": [
       "2628×2628 SparseArrays.SparseMatrixCSC{Float64, Int64} with 35004 stored entries:\n",
       "⎡⠻⣦⡀⠉⠀⠀⠸⣧⢘⠁⠀⠀⠀⠀⠀⠀⠀⠀⠀⠀⠀⠀⠀⠀⠀⠀⠀⠀⠀⠀⠀⢘⠀⠀⠀⠀⢠⠆⢠⠎⎤\n",
       "⎢⡄⠈⠻⣦⡀⠀⠀⡳⢰⡄⠀⠀⠀⠀⠀⠀⠀⠀⠀⠀⠀⠀⠀⠀⠀⡀⠀⠀⣀⠀⢀⠸⣄⠀⠀⢴⠃⠰⠏⢠⎥\n",
       "⎢⠀⠀⠀⠈⠻⣦⡀⠹⣟⠀⠀⠀⠀⠀⠀⠀⠀⠀⠀⠀⠀⠀⠀⠀⠀⠀⢀⠑⢃⠢⢼⠄⠀⢐⣳⡆⠀⠀⠀⠀⎥\n",
       "⎢⠶⣦⢤⡠⣄⡈⡻⣮⠙⠂⠀⠀⠀⠀⠀⠀⠀⠈⠀⠀⠀⠀⠀⠀⠀⢤⠉⡀⠤⢀⣠⣳⢠⠠⣈⣱⢤⣶⣤⡖⎥\n",
       "⎢⠖⠐⠐⠶⠛⠙⠳⠀⠻⣦⡀⠀⠀⠀⢠⡄⢀⠴⠆⠀⠀⠀⠀⠀⢀⡖⠚⠋⡍⠉⠻⠷⢧⣙⠛⠷⠀⠖⠀⠶⎥\n",
       "⎢⠀⠀⠀⠀⠀⠀⠀⠀⠀⠈⠻⣦⡀⠀⠀⡇⣸⡁⠀⠀⠀⠀⠀⠀⢷⠀⠃⠲⢅⡒⡀⠀⡑⡼⠇⠀⠀⠀⠀⠀⎥\n",
       "⎢⠀⠀⠀⠀⠀⠀⠀⠀⠀⠀⠀⠈⠻⣦⡀⢹⡇⠀⠀⠀⠀⠀⠀⠀⣸⠀⢀⠀⣀⠉⡥⠦⠷⣇⡀⠂⠀⠀⠀⠀⎥\n",
       "⎢⠀⠀⠀⠀⠀⠀⠀⠀⠀⠶⠤⠤⣄⣈⣻⣾⣳⢆⠤⠤⠤⣄⣀⣀⣧⠂⠉⠀⢗⠀⠄⠀⢿⣮⣇⠀⠀⠀⠀⠀⎥\n",
       "⎢⠀⠀⠀⠀⠀⠀⡀⠀⢀⡔⠖⠺⠉⠉⠹⢞⢿⣷⡄⠀⠀⠀⠀⠀⠐⡶⡏⠒⠟⠛⠭⣩⠿⠿⢿⣳⠀⣀⠀⢠⎥\n",
       "⎢⠀⠀⠀⠀⠀⠀⠀⠀⠈⠁⠀⠀⠀⠀⠀⡇⠀⠉⠻⣦⡀⠀⠀⠀⣞⠁⠀⠀⠂⠀⠀⠀⠚⢰⠄⠸⡆⠛⡇⠈⎥\n",
       "⎢⠀⠀⠀⠀⠀⠀⠀⠀⠀⠀⠀⠀⠀⠀⠀⢧⠀⠀⠀⠈⠻⣦⡀⠀⢹⠀⠀⠀⠀⠀⠂⠀⠆⡇⠀⠀⢳⠰⢻⠀⎥\n",
       "⎢⠀⠀⠀⠀⠀⠀⠀⠀⠀⠀⠀⠀⠀⠀⠀⢸⠀⠀⠀⠀⠀⠈⠻⣦⡞⠀⠀⠀⠀⠀⠀⠀⠘⢳⡄⠀⠘⡆⠘⡇⎥\n",
       "⎢⠀⠀⠀⠠⠀⠀⠀⣄⢠⠴⠙⠓⠒⠚⠩⠛⢰⡤⠞⠙⠓⠒⠚⠉⠻⣦⡄⠀⣮⠀⢀⢄⢼⠿⠩⠄⠀⠈⠀⠁⎥\n",
       "⎢⠀⠀⠀⠀⢄⠐⠃⠠⡾⠀⢩⡀⠀⠐⠃⠀⢫⠉⠀⠀⠀⠀⠀⠀⠀⠉⠻⣦⡁⢤⠀⠩⠻⢺⡿⡇⠀⠈⠀⠀⎥\n",
       "⎢⠀⠀⠀⠘⠩⡐⠀⢃⡇⠉⢡⠱⡄⠘⠙⠑⣿⠁⠈⠀⠀⠀⠀⠀⠊⠛⠁⣌⠻⣦⣆⠒⣼⠉⣻⡃⠀⠀⠀⠀⎥\n",
       "⎢⣀⢀⣀⡐⠒⠗⢤⣺⢿⡆⠀⠈⠡⡏⠀⠁⡇⣣⠀⠀⠈⠀⠀⠀⠀⢔⡄⡀⢨⠙⣟⣽⣳⠔⡾⣆⠀⣀⠀⣀⎥\n",
       "⎢⠀⠀⠀⠙⢀⢀⠀⡒⣍⢳⣑⡬⠽⢧⡻⣷⣿⡇⢚⣀⠬⠥⢶⣀⣶⡗⣻⣂⡖⠛⢙⠞⢻⣶⡷⡟⠀⠀⠀⠛⎥\n",
       "⎢⠀⠀⢀⣄⠹⠾⢆⣸⢿⡄⠉⠁⠠⠈⠉⠙⢿⣳⣀⡁⠀⠀⠀⠉⠃⠆⠿⠯⠿⠺⠺⢯⣽⠯⠿⣧⠀⣐⡀⣀⎥\n",
       "⎢⠠⠖⢉⡀⠀⠀⢠⣷⢠⠄⠀⠀⠀⠀⠀⠀⠀⢠⣬⠉⢙⡒⠲⠤⡀⠀⡀⠀⠀⠀⠀⢠⠀⠀⢀⢠⣻⣾⣝⣦⎥\n",
       "⎣⡠⠖⠋⣁⠀⠀⢠⠿⢠⡄⠀⠀⠀⠀⠀⠀⠀⣀⡉⠉⠛⠒⠶⠤⠄⠀⠀⠀⠀⠀⠀⢠⣤⠀⠀⢨⠳⣽⠑⣤⎦"
      ]
     },
     "metadata": {},
     "output_type": "display_data"
    }
   ],
   "source": [
    "K1 = FEM.stiffnessMatrix(problem1)"
   ]
  },
  {
   "cell_type": "code",
   "execution_count": 7,
   "metadata": {},
   "outputs": [
    {
     "data": {
      "text/plain": [
       "2628×2628 SparseArrays.SparseMatrixCSC{Float64, Int64} with 2628 stored entries:\n",
       "⎡⠑⢄⠀⠀⠀⠀⠀⠀⠀⠀⠀⠀⠀⠀⠀⠀⠀⠀⠀⠀⠀⠀⠀⠀⠀⠀⠀⠀⠀⠀⠀⠀⠀⠀⠀⠀⠀⠀⠀⠀⎤\n",
       "⎢⠀⠀⠑⢄⠀⠀⠀⠀⠀⠀⠀⠀⠀⠀⠀⠀⠀⠀⠀⠀⠀⠀⠀⠀⠀⠀⠀⠀⠀⠀⠀⠀⠀⠀⠀⠀⠀⠀⠀⠀⎥\n",
       "⎢⠀⠀⠀⠀⠑⢄⠀⠀⠀⠀⠀⠀⠀⠀⠀⠀⠀⠀⠀⠀⠀⠀⠀⠀⠀⠀⠀⠀⠀⠀⠀⠀⠀⠀⠀⠀⠀⠀⠀⠀⎥\n",
       "⎢⠀⠀⠀⠀⠀⠀⠑⢄⠀⠀⠀⠀⠀⠀⠀⠀⠀⠀⠀⠀⠀⠀⠀⠀⠀⠀⠀⠀⠀⠀⠀⠀⠀⠀⠀⠀⠀⠀⠀⠀⎥\n",
       "⎢⠀⠀⠀⠀⠀⠀⠀⠀⠑⢄⠀⠀⠀⠀⠀⠀⠀⠀⠀⠀⠀⠀⠀⠀⠀⠀⠀⠀⠀⠀⠀⠀⠀⠀⠀⠀⠀⠀⠀⠀⎥\n",
       "⎢⠀⠀⠀⠀⠀⠀⠀⠀⠀⠀⠑⢄⠀⠀⠀⠀⠀⠀⠀⠀⠀⠀⠀⠀⠀⠀⠀⠀⠀⠀⠀⠀⠀⠀⠀⠀⠀⠀⠀⠀⎥\n",
       "⎢⠀⠀⠀⠀⠀⠀⠀⠀⠀⠀⠀⠀⠑⢄⠀⠀⠀⠀⠀⠀⠀⠀⠀⠀⠀⠀⠀⠀⠀⠀⠀⠀⠀⠀⠀⠀⠀⠀⠀⠀⎥\n",
       "⎢⠀⠀⠀⠀⠀⠀⠀⠀⠀⠀⠀⠀⠀⠀⠑⢄⠀⠀⠀⠀⠀⠀⠀⠀⠀⠀⠀⠀⠀⠀⠀⠀⠀⠀⠀⠀⠀⠀⠀⠀⎥\n",
       "⎢⠀⠀⠀⠀⠀⠀⠀⠀⠀⠀⠀⠀⠀⠀⠀⠀⠑⢄⠀⠀⠀⠀⠀⠀⠀⠀⠀⠀⠀⠀⠀⠀⠀⠀⠀⠀⠀⠀⠀⠀⎥\n",
       "⎢⠀⠀⠀⠀⠀⠀⠀⠀⠀⠀⠀⠀⠀⠀⠀⠀⠀⠀⠑⢄⠀⠀⠀⠀⠀⠀⠀⠀⠀⠀⠀⠀⠀⠀⠀⠀⠀⠀⠀⠀⎥\n",
       "⎢⠀⠀⠀⠀⠀⠀⠀⠀⠀⠀⠀⠀⠀⠀⠀⠀⠀⠀⠀⠀⠑⢄⠀⠀⠀⠀⠀⠀⠀⠀⠀⠀⠀⠀⠀⠀⠀⠀⠀⠀⎥\n",
       "⎢⠀⠀⠀⠀⠀⠀⠀⠀⠀⠀⠀⠀⠀⠀⠀⠀⠀⠀⠀⠀⠀⠀⠑⢄⠀⠀⠀⠀⠀⠀⠀⠀⠀⠀⠀⠀⠀⠀⠀⠀⎥\n",
       "⎢⠀⠀⠀⠀⠀⠀⠀⠀⠀⠀⠀⠀⠀⠀⠀⠀⠀⠀⠀⠀⠀⠀⠀⠀⠑⢄⠀⠀⠀⠀⠀⠀⠀⠀⠀⠀⠀⠀⠀⠀⎥\n",
       "⎢⠀⠀⠀⠀⠀⠀⠀⠀⠀⠀⠀⠀⠀⠀⠀⠀⠀⠀⠀⠀⠀⠀⠀⠀⠀⠀⠑⢄⠀⠀⠀⠀⠀⠀⠀⠀⠀⠀⠀⠀⎥\n",
       "⎢⠀⠀⠀⠀⠀⠀⠀⠀⠀⠀⠀⠀⠀⠀⠀⠀⠀⠀⠀⠀⠀⠀⠀⠀⠀⠀⠀⠀⠑⢄⠀⠀⠀⠀⠀⠀⠀⠀⠀⠀⎥\n",
       "⎢⠀⠀⠀⠀⠀⠀⠀⠀⠀⠀⠀⠀⠀⠀⠀⠀⠀⠀⠀⠀⠀⠀⠀⠀⠀⠀⠀⠀⠀⠀⠑⢄⠀⠀⠀⠀⠀⠀⠀⠀⎥\n",
       "⎢⠀⠀⠀⠀⠀⠀⠀⠀⠀⠀⠀⠀⠀⠀⠀⠀⠀⠀⠀⠀⠀⠀⠀⠀⠀⠀⠀⠀⠀⠀⠀⠀⠑⢄⠀⠀⠀⠀⠀⠀⎥\n",
       "⎢⠀⠀⠀⠀⠀⠀⠀⠀⠀⠀⠀⠀⠀⠀⠀⠀⠀⠀⠀⠀⠀⠀⠀⠀⠀⠀⠀⠀⠀⠀⠀⠀⠀⠀⠑⢄⠀⠀⠀⠀⎥\n",
       "⎢⠀⠀⠀⠀⠀⠀⠀⠀⠀⠀⠀⠀⠀⠀⠀⠀⠀⠀⠀⠀⠀⠀⠀⠀⠀⠀⠀⠀⠀⠀⠀⠀⠀⠀⠀⠀⠑⢄⠀⠀⎥\n",
       "⎣⠀⠀⠀⠀⠀⠀⠀⠀⠀⠀⠀⠀⠀⠀⠀⠀⠀⠀⠀⠀⠀⠀⠀⠀⠀⠀⠀⠀⠀⠀⠀⠀⠀⠀⠀⠀⠀⠀⠑⢄⎦"
      ]
     },
     "metadata": {},
     "output_type": "display_data"
    }
   ],
   "source": [
    "M1 = FEM.massMatrix(problem1, lumped=true)"
   ]
  },
  {
   "cell_type": "code",
   "execution_count": 8,
   "metadata": {},
   "outputs": [
    {
     "data": {
      "text/plain": [
       "1314×1314 SparseArrays.SparseMatrixCSC{Float64, Int64} with 8752 stored entries:\n",
       "⎡⠻⣦⡀⠉⠀⠀⠸⣧⢘⠁⠀⠀⠀⠀⠀⠀⠀⠀⠀⠀⠀⠀⠀⠀⠀⠀⠀⠀⠀⠀⠀⢘⠀⠀⠀⠀⢠⠆⢠⠎⎤\n",
       "⎢⡄⠈⠻⣦⡀⠀⠀⡳⢰⡄⠀⠀⠀⠀⠀⠀⠀⠀⠀⠀⠀⠀⠀⠀⠀⡀⠀⠀⣀⠀⢀⠰⣄⠀⠀⢰⠃⠠⠏⢠⎥\n",
       "⎢⠀⠀⠀⠈⠻⣦⡀⠹⡟⠀⠀⠀⠀⠀⠀⠀⠀⠀⠀⠀⠀⠀⠀⠀⠀⠀⢀⠑⢃⠢⢼⠄⠀⢐⣱⡆⠀⠀⠀⠀⎥\n",
       "⎢⠶⣦⢤⡠⣄⡈⡛⢌⠘⠂⠀⠀⠀⠀⠀⠀⠀⠈⠀⠀⠀⠀⠀⠀⠀⢤⠉⡀⠤⢀⣠⣳⢠⠠⣈⣱⢤⣶⣤⡖⎥\n",
       "⎢⠖⠐⠐⠶⠛⠉⠲⠀⠱⣦⡀⠀⠀⠀⢠⡀⢀⠴⠆⠀⠀⠀⠀⠀⢀⡖⠊⠉⡍⠉⠻⠷⢧⣉⠛⠳⠀⠖⠀⠴⎥\n",
       "⎢⠀⠀⠀⠀⠀⠀⠀⠀⠀⠈⠻⣦⡀⠀⠀⡇⣸⡁⠀⠀⠀⠀⠀⠀⢷⠀⠃⠲⢅⡒⡀⠀⡑⡼⠇⠀⠀⠀⠀⠀⎥\n",
       "⎢⠀⠀⠀⠀⠀⠀⠀⠀⠀⠀⠀⠈⠻⣦⡀⢹⡇⠀⠀⠀⠀⠀⠀⠀⣸⠀⢀⠀⣀⠉⡥⠢⠷⣇⡀⠂⠀⠀⠀⠀⎥\n",
       "⎢⠀⠀⠀⠀⠀⠀⠀⠀⠀⠲⠤⠤⣄⣈⣛⢜⣓⢂⠤⠤⠤⣄⣀⣀⣧⠂⠉⠀⢗⠀⠄⠀⢿⣮⣇⠀⠀⠀⠀⠀⎥\n",
       "⎢⠀⠀⠀⠀⠀⠀⡀⠀⢀⡔⠖⠺⠉⠉⠹⢘⢿⣷⡄⠀⠀⠀⠀⠀⠐⡶⡏⠒⠟⠛⠭⣩⠿⠿⢿⣳⠀⣀⠀⢠⎥\n",
       "⎢⠀⠀⠀⠀⠀⠀⠀⠀⠈⠁⠀⠀⠀⠀⠀⡇⠀⠉⠻⣦⡀⠀⠀⠀⣞⠁⠀⠀⠂⠀⠀⠀⠚⢰⠄⠸⡆⠛⡇⠈⎥\n",
       "⎢⠀⠀⠀⠀⠀⠀⠀⠀⠀⠀⠀⠀⠀⠀⠀⢧⠀⠀⠀⠈⠻⣦⡀⠀⢹⠀⠀⠀⠀⠀⠂⠀⠆⡇⠀⠀⢳⠰⢻⠀⎥\n",
       "⎢⠀⠀⠀⠀⠀⠀⠀⠀⠀⠀⠀⠀⠀⠀⠀⢸⠀⠀⠀⠀⠀⠈⠻⣦⡞⠀⠀⠀⠀⠀⠀⠀⠈⢳⡄⠀⠘⡆⠘⡇⎥\n",
       "⎢⠀⠀⠀⠠⠀⠀⠀⣄⢠⠴⠙⠓⠒⠚⠩⠛⢰⡤⠞⠙⠓⠒⠚⠉⠱⣦⡄⠀⡬⠀⢀⢄⢼⠿⠩⠄⠀⠈⠀⠁⎥\n",
       "⎢⠀⠀⠀⠀⢄⠐⠃⠠⡎⠀⢩⡀⠀⠐⠃⠀⢫⠉⠀⠀⠀⠀⠀⠀⠀⠉⠻⣦⡁⢤⠀⠩⠻⢺⡿⡇⠀⠈⠀⠀⎥\n",
       "⎢⠀⠀⠀⠘⠩⡐⠀⢃⡇⠉⢡⠱⡄⠘⠙⠑⣿⠁⠈⠀⠀⠀⠀⠀⠂⠋⠁⣌⠻⣦⣆⠐⣼⠉⣻⡃⠀⠀⠀⠀⎥\n",
       "⎢⣀⢀⢀⡐⠒⠗⢤⣺⢿⡆⠀⠈⠡⡋⠀⠁⡇⣣⠀⠀⠈⠀⠀⠀⠀⢔⡄⡀⢈⠙⣛⢜⣳⠔⡾⣆⠀⣀⠀⣀⎥\n",
       "⎢⠀⠀⠀⠙⢀⢀⠀⡒⡍⢳⣑⡬⠽⢧⡻⣷⣿⡇⢚⣀⠬⠥⢦⣀⣶⡗⣻⣂⡖⠛⢙⠞⢛⣴⡷⡟⠀⠀⠀⠙⎥\n",
       "⎢⠀⠀⢀⣀⠱⠾⢆⣸⢿⡀⠉⠁⠠⠈⠉⠙⢿⣳⣀⡁⠀⠀⠀⠉⠃⠆⠿⠯⠿⠺⠺⢯⣽⠯⠿⢇⠀⣐⡀⢀⎥\n",
       "⎢⠠⠖⠉⡀⠀⠀⢠⣷⢠⠄⠀⠀⠀⠀⠀⠀⠀⢠⣬⠉⢙⡒⠲⠤⡀⠀⡀⠀⠀⠀⠀⢠⠀⠀⢀⢠⣑⣼⢝⣦⎥\n",
       "⎣⡠⠖⠋⣁⠀⠀⢠⠿⢀⡄⠀⠀⠀⠀⠀⠀⠀⣀⡉⠉⠛⠒⠶⠤⠄⠀⠀⠀⠀⠀⠀⢠⣄⠀⠀⢈⠳⣵⠑⢄⎦"
      ]
     },
     "metadata": {},
     "output_type": "display_data"
    }
   ],
   "source": [
    "K2 = FEM.heatConductionMatrix(problem2)"
   ]
  },
  {
   "cell_type": "code",
   "execution_count": 9,
   "metadata": {},
   "outputs": [
    {
     "data": {
      "text/plain": [
       "1314×1314 SparseArrays.SparseMatrixCSC{Float64, Int64} with 8752 stored entries:\n",
       "⎡⠻⣦⡀⠉⠀⠀⠸⣧⢘⠁⠀⠀⠀⠀⠀⠀⠀⠀⠀⠀⠀⠀⠀⠀⠀⠀⠀⠀⠀⠀⠀⢘⠀⠀⠀⠀⢠⠆⢠⠎⎤\n",
       "⎢⡄⠈⠻⣦⡀⠀⠀⡳⢰⡄⠀⠀⠀⠀⠀⠀⠀⠀⠀⠀⠀⠀⠀⠀⠀⡀⠀⠀⣀⠀⢀⠰⣄⠀⠀⢰⠃⠠⠏⢠⎥\n",
       "⎢⠀⠀⠀⠈⠻⣦⡀⠹⡟⠀⠀⠀⠀⠀⠀⠀⠀⠀⠀⠀⠀⠀⠀⠀⠀⠀⢀⠑⢃⠢⢼⠄⠀⢐⣱⡆⠀⠀⠀⠀⎥\n",
       "⎢⠶⣦⢤⡠⣄⡈⡛⢌⠘⠂⠀⠀⠀⠀⠀⠀⠀⠈⠀⠀⠀⠀⠀⠀⠀⢤⠉⡀⠤⢀⣠⣳⢠⠠⣈⣱⢤⣶⣤⡖⎥\n",
       "⎢⠖⠐⠐⠶⠛⠉⠲⠀⠱⣦⡀⠀⠀⠀⢠⡀⢀⠴⠆⠀⠀⠀⠀⠀⢀⡖⠊⠉⡍⠉⠻⠷⢧⣉⠛⠳⠀⠖⠀⠴⎥\n",
       "⎢⠀⠀⠀⠀⠀⠀⠀⠀⠀⠈⠻⣦⡀⠀⠀⡇⣸⡁⠀⠀⠀⠀⠀⠀⢷⠀⠃⠲⢅⡒⡀⠀⡑⡼⠇⠀⠀⠀⠀⠀⎥\n",
       "⎢⠀⠀⠀⠀⠀⠀⠀⠀⠀⠀⠀⠈⠻⣦⡀⢹⡇⠀⠀⠀⠀⠀⠀⠀⣸⠀⢀⠀⣀⠉⡥⠢⠷⣇⡀⠂⠀⠀⠀⠀⎥\n",
       "⎢⠀⠀⠀⠀⠀⠀⠀⠀⠀⠲⠤⠤⣄⣈⣛⢜⣓⢂⠤⠤⠤⣄⣀⣀⣧⠂⠉⠀⢗⠀⠄⠀⢿⣮⣇⠀⠀⠀⠀⠀⎥\n",
       "⎢⠀⠀⠀⠀⠀⠀⡀⠀⢀⡔⠖⠺⠉⠉⠹⢘⢿⣷⡄⠀⠀⠀⠀⠀⠐⡶⡏⠒⠟⠛⠭⣩⠿⠿⢿⣳⠀⣀⠀⢠⎥\n",
       "⎢⠀⠀⠀⠀⠀⠀⠀⠀⠈⠁⠀⠀⠀⠀⠀⡇⠀⠉⠻⣦⡀⠀⠀⠀⣞⠁⠀⠀⠂⠀⠀⠀⠚⢰⠄⠸⡆⠛⡇⠈⎥\n",
       "⎢⠀⠀⠀⠀⠀⠀⠀⠀⠀⠀⠀⠀⠀⠀⠀⢧⠀⠀⠀⠈⠻⣦⡀⠀⢹⠀⠀⠀⠀⠀⠂⠀⠆⡇⠀⠀⢳⠰⢻⠀⎥\n",
       "⎢⠀⠀⠀⠀⠀⠀⠀⠀⠀⠀⠀⠀⠀⠀⠀⢸⠀⠀⠀⠀⠀⠈⠻⣦⡞⠀⠀⠀⠀⠀⠀⠀⠈⢳⡄⠀⠘⡆⠘⡇⎥\n",
       "⎢⠀⠀⠀⠠⠀⠀⠀⣄⢠⠴⠙⠓⠒⠚⠩⠛⢰⡤⠞⠙⠓⠒⠚⠉⠱⣦⡄⠀⡬⠀⢀⢄⢼⠿⠩⠄⠀⠈⠀⠁⎥\n",
       "⎢⠀⠀⠀⠀⢄⠐⠃⠠⡎⠀⢩⡀⠀⠐⠃⠀⢫⠉⠀⠀⠀⠀⠀⠀⠀⠉⠻⣦⡁⢤⠀⠩⠻⢺⡿⡇⠀⠈⠀⠀⎥\n",
       "⎢⠀⠀⠀⠘⠩⡐⠀⢃⡇⠉⢡⠱⡄⠘⠙⠑⣿⠁⠈⠀⠀⠀⠀⠀⠂⠋⠁⣌⠻⣦⣆⠐⣼⠉⣻⡃⠀⠀⠀⠀⎥\n",
       "⎢⣀⢀⢀⡐⠒⠗⢤⣺⢿⡆⠀⠈⠡⡋⠀⠁⡇⣣⠀⠀⠈⠀⠀⠀⠀⢔⡄⡀⢈⠙⣛⢜⣳⠔⡾⣆⠀⣀⠀⣀⎥\n",
       "⎢⠀⠀⠀⠙⢀⢀⠀⡒⡍⢳⣑⡬⠽⢧⡻⣷⣿⡇⢚⣀⠬⠥⢦⣀⣶⡗⣻⣂⡖⠛⢙⠞⢛⣴⡷⡟⠀⠀⠀⠙⎥\n",
       "⎢⠀⠀⢀⣀⠱⠾⢆⣸⢿⡀⠉⠁⠠⠈⠉⠙⢿⣳⣀⡁⠀⠀⠀⠉⠃⠆⠿⠯⠿⠺⠺⢯⣽⠯⠿⢇⠀⣐⡀⢀⎥\n",
       "⎢⠠⠖⠉⡀⠀⠀⢠⣷⢠⠄⠀⠀⠀⠀⠀⠀⠀⢠⣬⠉⢙⡒⠲⠤⡀⠀⡀⠀⠀⠀⠀⢠⠀⠀⢀⢠⣑⣼⢝⣦⎥\n",
       "⎣⡠⠖⠋⣁⠀⠀⢠⠿⢀⡄⠀⠀⠀⠀⠀⠀⠀⣀⡉⠉⠛⠒⠶⠤⠄⠀⠀⠀⠀⠀⠀⢠⣄⠀⠀⢈⠳⣵⠑⢄⎦"
      ]
     },
     "metadata": {},
     "output_type": "display_data"
    }
   ],
   "source": [
    "C2 = FEM.heatCapacityMatrix(problem2, lumped=false)"
   ]
  },
  {
   "cell_type": "code",
   "execution_count": 10,
   "metadata": {},
   "outputs": [],
   "source": [
    "load = FEM.load(\"left\", fx=0)\n",
    "f1 = FEM.loadVector(problem1, [load]);"
   ]
  },
  {
   "cell_type": "code",
   "execution_count": 11,
   "metadata": {},
   "outputs": [],
   "source": [
    "hf = FEM.heatFlux(\"left\", qn=0)\n",
    "q2 = FEM.heatFluxVector(problem2, [hf]);"
   ]
  },
  {
   "cell_type": "code",
   "execution_count": 12,
   "metadata": {},
   "outputs": [],
   "source": [
    "right1 = FEM.displacementConstraint(\"right\", ux=0);"
   ]
  },
  {
   "cell_type": "code",
   "execution_count": 13,
   "metadata": {},
   "outputs": [],
   "source": [
    "u0 = FEM.initialDisplacement(problem1, \"body\", ux=0, uy=0)\n",
    "v0 = FEM.initialVelocity(problem1, \"body\", vx=1000)\n",
    "FEM.initialVelocity!(problem1, \"right\", v0, vx=0);"
   ]
  },
  {
   "cell_type": "code",
   "execution_count": 14,
   "metadata": {},
   "outputs": [],
   "source": [
    "FEM.applyBoundaryConditions!(problem1, K1, M1, f1, [right1])"
   ]
  },
  {
   "cell_type": "code",
   "execution_count": 15,
   "metadata": {},
   "outputs": [
    {
     "data": {
      "text/plain": [
       "7.496398032527125e6"
      ]
     },
     "metadata": {},
     "output_type": "display_data"
    }
   ],
   "source": [
    "Tₘᵢₙ = FEM.smallestPeriodTime(K1, M1)\n",
    "Δt = Tₘᵢₙ \\ π"
   ]
  },
  {
   "cell_type": "code",
   "execution_count": 16,
   "metadata": {},
   "outputs": [],
   "source": [
    "u1, v1, t1 = FEM.CDM(K1, M1, f1, u0, v0, 2Δt, Δt);"
   ]
  },
  {
   "cell_type": "code",
   "execution_count": 17,
   "metadata": {},
   "outputs": [],
   "source": [
    "T0 = FEM.initialTemperature(problem2, \"body\", T=0);"
   ]
  },
  {
   "cell_type": "code",
   "execution_count": 18,
   "metadata": {},
   "outputs": [
    {
     "data": {
      "text/plain": [
       "([0.0 0.0; 0.0 0.0; … ; 0.0 0.0; 0.0 0.0], [0.0, 7.496398032527125e6])"
      ]
     },
     "metadata": {},
     "output_type": "display_data"
    }
   ],
   "source": [
    "T2, t2 = FEM.FDM(K2, C2, q2, T0, 2Δt, Δt)"
   ]
  },
  {
   "cell_type": "code",
   "execution_count": 19,
   "metadata": {},
   "outputs": [
    {
     "data": {
      "text/plain": [
       "\"∇H1: (6,)\""
      ]
     },
     "metadata": {},
     "output_type": "display_data"
    },
    {
     "data": {
      "text/plain": [
       "\"dq1: (6,)\""
      ]
     },
     "metadata": {},
     "output_type": "display_data"
    },
    {
     "ename": "MethodError",
     "evalue": "MethodError: no method matching *(::Vector{Float64}, ::Vector{Float64})\nThe function `*` exists, but no method is defined for this combination of argument types.\n\nClosest candidates are:\n  *(::Any, ::Any, !Matched::Any, !Matched::Any...)\n   @ Base operators.jl:596\n  *(!Matched::SparseArrays.SPQR.QRSparseQ, ::AbstractVector)\n   @ SparseArrays ~/.julia/juliaup/julia-1.11.1+0.x64.linux.gnu/share/julia/stdlib/v1.11/SparseArrays/src/solvers/spqr.jl:298\n  *(!Matched::Number, ::AbstractArray)\n   @ Base arraymath.jl:21\n  ...\n",
     "output_type": "error",
     "traceback": [
      "MethodError: no method matching *(::Vector{Float64}, ::Vector{Float64})\n",
      "The function `*` exists, but no method is defined for this combination of argument types.\n",
      "\n",
      "Closest candidates are:\n",
      "  *(::Any, ::Any, !Matched::Any, !Matched::Any...)\n",
      "   @ Base operators.jl:596\n",
      "  *(!Matched::SparseArrays.SPQR.QRSparseQ, ::AbstractVector)\n",
      "   @ SparseArrays ~/.julia/juliaup/julia-1.11.1+0.x64.linux.gnu/share/julia/stdlib/v1.11/SparseArrays/src/solvers/spqr.jl:298\n",
      "  *(!Matched::Number, ::AbstractArray)\n",
      "   @ Base arraymath.jl:21\n",
      "  ...\n",
      "\n",
      "\n",
      "Stacktrace:\n",
      " [1] latentHeatMatrix(problem::LowLevelFEM.Problem, u::Vector{Float64}, v::Vector{Float64}, T0::Vector{Float64}; elements::Vector{Any})\n",
      "   @ LowLevelFEM ~/Dokumentumok/GitHub/LowLevelFEM.jl/src/LowLevelFEM.jl:1329\n",
      " [2] latentHeatMatrix(problem::LowLevelFEM.Problem, u::Vector{Float64}, v::Vector{Float64}, T0::Vector{Float64})\n",
      "   @ LowLevelFEM ~/Dokumentumok/GitHub/LowLevelFEM.jl/src/LowLevelFEM.jl:1196\n",
      " [3] top-level scope\n",
      "   @ ~/Dokumentumok/GitHub/LowLevelFEM.jl/examples/wave/jl_notebook_cell_df34fa98e69747e1a8f8a730347b8e2f_X31sZmlsZQ==.jl:1"
     ]
    }
   ],
   "source": [
    "LH2 = FEM.latentHeatMatrix(problem2, u1[:, 2], v1[:, 2], T0)"
   ]
  },
  {
   "cell_type": "code",
   "execution_count": null,
   "metadata": {},
   "outputs": [],
   "source": [
    "T0 = FEM.initialTemperature(problem, \"right\", T=100)"
   ]
  },
  {
   "cell_type": "code",
   "execution_count": null,
   "metadata": {},
   "outputs": [],
   "source": [
    "λₘᵢₙ = FEM.smallestEigenValue(K, C)"
   ]
  },
  {
   "cell_type": "code",
   "execution_count": null,
   "metadata": {},
   "outputs": [],
   "source": [
    "λₘₐₓ = FEM.largestEigenValue(K, C)"
   ]
  },
  {
   "cell_type": "code",
   "execution_count": null,
   "metadata": {},
   "outputs": [],
   "source": [
    "ϑ = 0.4\n",
    "Δt = 2 / ((1 - 2ϑ) * λₘₐₓ)\n",
    "ϑ = 0.5"
   ]
  },
  {
   "cell_type": "code",
   "execution_count": null,
   "metadata": {},
   "outputs": [],
   "source": [
    "xy = FEM.FDMaccuracyAnalysis(λₘᵢₙ, λₘₐₓ, Δt, ϑ=ϑ)\n",
    "plot(xy)"
   ]
  },
  {
   "cell_type": "code",
   "execution_count": null,
   "metadata": {},
   "outputs": [],
   "source": [
    "T, t = FEM.FDM(K, C, q0, T0, 1000 * Δt, Δt, ϑ=ϑ)"
   ]
  },
  {
   "cell_type": "code",
   "execution_count": 499,
   "metadata": {},
   "outputs": [],
   "source": [
    "T1 = FEM.showDoFResults(problem, T, \"T\", t=t, visible=true);"
   ]
  },
  {
   "cell_type": "code",
   "execution_count": null,
   "metadata": {},
   "outputs": [],
   "source": [
    "p1, xy = FEM.plotOnPath(problem, \"path\", T1, plot=true)\n",
    "plot(xy)"
   ]
  },
  {
   "cell_type": "code",
   "execution_count": null,
   "metadata": {},
   "outputs": [],
   "source": [
    "gmsh.fltk.run()"
   ]
  },
  {
   "cell_type": "code",
   "execution_count": 502,
   "metadata": {},
   "outputs": [],
   "source": [
    "gmsh.finalize()"
   ]
  }
 ],
 "metadata": {
  "kernelspec": {
   "display_name": "Julia 1.11.1",
   "language": "julia",
   "name": "julia-1.11"
  },
  "language_info": {
   "file_extension": ".jl",
   "mimetype": "application/julia",
   "name": "julia",
   "version": "1.11.1"
  }
 },
 "nbformat": 4,
 "nbformat_minor": 2
}
