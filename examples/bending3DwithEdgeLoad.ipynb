{
 "cells": [
  {
   "cell_type": "code",
   "execution_count": 18,
   "metadata": {},
   "outputs": [
    {
     "name": "stderr",
     "output_type": "stream",
     "text": [
      "WARNING: replacing module FEM.\n"
     ]
    }
   ],
   "source": [
    "using LinearAlgebra, SparseArrays\n",
    "import gmsh\n",
    "gmsh.initialize()\n",
    "\n",
    "include(\"../src/FEM.jl\")\n",
    "using .FEM"
   ]
  },
  {
   "cell_type": "code",
   "execution_count": 19,
   "metadata": {},
   "outputs": [
    {
     "name": "stdout",
     "output_type": "stream",
     "text": [
      "Info    : Reading 'bending3DwithEdgeLoad.geo'...\n",
      "Info    : Meshing 1D...\n",
      "Info    : [  0%] Meshing curve 1 (Line)\n",
      "Info    : [ 10%] Meshing curve 2 (Line)\n",
      "Info    : [ 20%] Meshing curve 3 (Line)\n",
      "Info    : [ 30%] Meshing curve 4 (Line)\n",
      "Info    : [ 40%] Meshing curve 5 (Line)\n",
      "Info    : [ 50%] Meshing curve 6 (Line)\n",
      "Info    : [ 50%] Meshing curve 7 (Line)\n",
      "Info    : [ 60%] Meshing curve 8 (Line)\n",
      "Info    : [ 70%] Meshing curve 9 (Line)\n",
      "Info    : [ 80%] Meshing curve 10 (Line)\n",
      "Info    : [ 90%] Meshing curve 11 (Line)\n",
      "Info    : [100%] Meshing curve 12 (Line)\n",
      "Info    : Done meshing 1D (Wall 0.000775094s, CPU 0.000735s)\n",
      "Info    : Meshing 2D...\n",
      "Info    : [  0%] Meshing surface 1 (Transfinite)\n",
      "Info    : [ 20%] Meshing surface 2 (Transfinite)\n",
      "Info    : [ 40%] Meshing surface 3 (Transfinite)\n",
      "Info    : [ 50%] Meshing surface 4 (Transfinite)\n",
      "Info    : [ 70%] Meshing surface 5 (Transfinite)\n",
      "Info    : [ 90%] Meshing surface 6 (Transfinite)\n",
      "Info    : Done meshing 2D (Wall 0.000375359s, CPU 0.000354s)\n",
      "Info    : Meshing 3D...\n",
      "Info    : Meshing volume 1 (Transfinite)\n",
      "Info    : Done meshing 3D (Wall 0.00154666s, CPU 0.001461s)\n",
      "Info    : Optimizing mesh...\n",
      "Info    : Done optimizing mesh (Wall 1.9228e-05s, CPU 1.9e-05s)\n",
      "Info    : Meshing order 3 (curvilinear on)...\n",
      "Info    : [  0%] Meshing curve 1 order 3\n",
      "Info    : [ 10%] Meshing curve 2 order 3\n",
      "Info    : [ 20%] Meshing curve 3 order 3\n",
      "Info    : [ 20%] Meshing curve 4 order 3\n",
      "Info    : [ 30%] Meshing curve 5 order 3\n",
      "Info    : [ 30%] Meshing curve 6 order 3\n",
      "Info    : [ 40%] Meshing curve 7 order 3\n",
      "Info    : [ 40%] Meshing curve 8 order 3\n",
      "Info    : [ 50%] Meshing curve 9 order 3\n",
      "Info    : [ 50%] Meshing curve 10 order 3\n",
      "Info    : [ 60%] Meshing curve 11 order 3\n",
      "Info    : [ 60%] Meshing curve 12 order 3\n",
      "Info    : [ 70%] Meshing surface 1 order 3\n",
      "Info    : [ 70%] Meshing surface 2 order 3\n",
      "Info    : [ 80%] Meshing surface 3 order 3\n",
      "Info    : [ 80%] Meshing surface 4 order 3\n",
      "Info    : [ 90%] Meshing surface 5 order 3\n",
      "Info    : [ 90%] Meshing surface 6 order 3\n",
      "Info    : [100%] Meshing volume 1 order 3\n",
      "Info    : Done meshing order 3 (Wall 0.0141265s, CPU 0.014036s)\n",
      "Info    : 9100 nodes 800 elements\n",
      "Info    : Done reading 'bending3DwithEdgeLoad.geo'\n"
     ]
    }
   ],
   "source": [
    "gmsh.open(\"bending3DwithEdgeLoad.geo\")"
   ]
  },
  {
   "cell_type": "code",
   "execution_count": 20,
   "metadata": {},
   "outputs": [
    {
     "data": {
      "text/plain": [
       "Main.FEM.Problem(\"bending3D\", \"Solid\", 3, 200000.0, 0.3, 7.85e-9, 1.0, 9100)"
      ]
     },
     "metadata": {},
     "output_type": "display_data"
    }
   ],
   "source": [
    "problem = FEM.Problem()"
   ]
  },
  {
   "cell_type": "code",
   "execution_count": 21,
   "metadata": {},
   "outputs": [],
   "source": [
    "#gmsh.fltk.run()"
   ]
  },
  {
   "cell_type": "code",
   "execution_count": 22,
   "metadata": {},
   "outputs": [],
   "source": [
    "# Néhány láthatósági beállítás 0:kikapcs. 1:bekapcs.\n",
    "gmsh.option.setNumber(\"Geometry.CurveLabels\", 0)\n",
    "gmsh.option.setNumber(\"Geometry.Points\", 0)\n",
    "gmsh.option.setNumber(\"Geometry.Curves\", 0)\n",
    "gmsh.option.setNumber(\"Mesh.Points\", 0)\n",
    "gmsh.option.setNumber(\"Mesh.Lines\", 0)\n",
    "gmsh.option.setNumber(\"Mesh.SurfaceEdges\", 0)\n",
    "gmsh.option.setNumber(\"Mesh.NodeLabels\", 0)\n",
    "gmsh.option.setNumber(\"Mesh.LineLabels\", 0)\n",
    "gmsh.option.setNumber(\"Mesh.SurfaceLabels\", 0)"
   ]
  },
  {
   "cell_type": "code",
   "execution_count": 23,
   "metadata": {},
   "outputs": [
    {
     "data": {
      "text/plain": [
       "27300×27300 SparseMatrixCSC{Float64, Int64} with 8588844 stored entries:\n",
       "⎡⣿⣿⣿⠷⠶⢾⣧⣤⣼⡗⣧⣿⡷⣅⣛⣟⠒⠒⠺⣤⣤⣤⣧⣤⣿⠶⠤⢬⣀⣀⣀⣃⣀⣻⠶⢬⣀⣀⣃⣘⎤\n",
       "⎢⢿⡟⢿⣷⡒⠚⠃⠈⢹⣗⠃⢹⣗⠋⠛⡿⣖⠒⠚⠀⠀⠀⠃⠀⠻⣖⠒⠚⠁⠈⠉⠃⠈⢻⣖⠚⠀⠉⠃⠙⎥\n",
       "⎢⣸⣇⣸⠈⠻⣦⣀⣀⣸⡹⣄⣈⡿⣄⣀⣇⠈⠻⣦⣀⣀⣀⣀⣀⣀⠈⠻⣦⣀⣀⣀⣀⣀⣀⠙⢦⣀⣀⣀⣀⎥\n",
       "⎢⠉⣿⡉⠀⠀⢸⠻⣦⡘⡇⢳⢯⡇⢳⢿⡏⠀⠀⠈⠛⢦⡈⠹⣦⠉⠀⠀⠈⠻⣦⡈⠹⣦⠉⠀⠈⢳⣌⢻⡌⎥\n",
       "⎢⢶⠿⢷⢶⣖⡺⠶⠬⢿⣷⣾⡿⠃⠈⠛⡿⢶⣶⣶⠶⣶⣿⠶⠬⠷⠀⠀⠀⠀⠀⠙⠂⠈⠓⠀⠀⠀⠙⠂⠙⎥\n",
       "⎢⣭⣿⣍⣀⡀⢹⡽⣖⣾⡿⢿⣷⣀⣀⠀⡏⠙⠒⠯⠽⣗⣺⡭⣗⣦⣀⡀⢀⣀⣀⠀⠀⠀⢀⣀⢀⣀⡀⠀⠀⎥\n",
       "⎢⠝⢯⡽⠙⠛⢯⢭⣉⡉⠀⠀⢸⣿⣿⣏⣿⠀⠀⠀⠀⠀⠀⠀⠀⠨⣿⣛⡯⢽⣛⣿⢭⣉⠩⣟⡿⣽⣻⢭⡉⎥\n",
       "⎢⣿⢼⣿⡤⠤⢼⡿⠷⣿⡤⡤⠤⣯⣽⣿⣿⡤⠤⣤⣤⠤⣤⡤⢤⣤⡤⢤⣭⡽⠷⣿⡿⢿⣿⠤⣭⠽⢾⡿⣿⎥\n",
       "⎢⢸⠀⢸⠙⣦⡀⠀⠀⢸⣷⢳⠀⠀⠀⠀⡏⠻⣦⡀⠙⢧⡄⠀⠀⠈⠻⣦⡀⠙⢦⡀⠀⠀⠀⠀⠀⠀⠀⠀⠀⎥\n",
       "⎢⠚⣦⠚⠀⠈⢻⣦⠀⢸⡟⣏⡇⠀⠀⠀⣿⣄⠈⠻⣦⡀⠙⢧⡀⠰⣄⠈⠻⣦⡀⠙⢦⡀⠀⠀⠀⠀⠀⠀⠀⎥\n",
       "⎢⠀⣿⠀⠀⠀⢸⡈⠳⣼⣿⣹⣹⠀⠀⠀⣧⠉⠷⣄⠈⠻⣦⡈⢳⡄⠈⠳⣄⠈⠻⣦⡈⠳⡄⠀⠀⠀⠀⠀⠀⎥\n",
       "⎢⠉⣿⠉⠀⠀⢸⠳⣦⡘⡇⢧⢯⠀⠀⠀⣏⠀⠀⠉⠳⢦⣈⠻⣦⡉⠀⠀⠈⠳⢦⣈⠻⣦⡉⠀⠀⠀⠀⠀⠀⎥\n",
       "⎢⢻⡟⢻⢦⡀⠘⠃⠀⠙⠃⠈⢻⣦⣦⠀⡿⣦⡀⠐⢦⡀⠉⠃⠈⠻⣦⡀⠐⢦⡄⠉⠃⠈⠻⣄⠐⢦⠀⠀⠀⎥\n",
       "⎢⡀⣇⣸⠀⠻⣦⡀⠀⠀⠀⠀⢈⡿⡼⡄⣷⠈⠻⣦⡀⠙⢦⡀⠀⢀⠈⠻⣦⡀⠙⢧⡀⠀⢀⠘⢧⡈⢳⡀⠀⎥\n",
       "⎢⠀⢸⡁⠀⠀⢸⠻⣦⠀⠀⠀⢸⣷⢳⢷⡏⠳⣄⠈⠻⣦⡀⠹⣆⠈⠷⣄⠈⠻⣦⡀⠹⣦⠘⢧⡈⢳⡄⢻⡀⎥\n",
       "⎢⠤⢸⠧⠀⠀⢸⣆⡈⠳⠀⠀⠀⡟⣟⣿⡿⠀⠈⠳⣄⡈⠻⣦⡘⠧⠀⠉⠳⣄⡈⠻⣦⡘⠷⠈⠳⣄⠹⣆⠳⎥\n",
       "⎢⣤⣸⣦⣀⠀⢸⡌⠛⢦⠀⠀⢀⡇⡘⣿⣷⠀⠀⠀⠈⠙⠦⡌⠻⣦⡀⠀⢀⣈⠛⢶⡌⠻⣦⡀⢀⡈⠳⡜⢧⎥\n",
       "⎢⡘⣇⣸⠙⠳⣄⡀⠀⠀⠀⠀⢘⣿⡽⡄⣧⠀⠀⠀⠀⠀⠀⠀⠀⢀⠙⠶⣄⡉⠳⢦⡀⠀⢈⠻⣦⡙⢦⡀⠀⎥\n",
       "⎢⠀⢸⡄⠀⠀⢸⡙⢶⣄⠀⠀⠸⣷⣻⣳⣇⠀⠀⠀⠀⠀⠀⠀⠀⠈⠓⢦⣈⠙⠶⣄⡙⢦⡈⠳⣌⠻⣦⡹⣆⎥\n",
       "⎣⣉⢸⣍⠀⠀⢸⡛⠶⣌⠀⠀⠀⡇⠳⣿⣯⠀⠀⠀⠀⠀⠀⠀⠀⠀⠀⠀⠈⠛⠲⢬⡙⠶⣍⠀⠈⠳⢮⡻⣮⎦"
      ]
     },
     "metadata": {},
     "output_type": "display_data"
    }
   ],
   "source": [
    "K = FEM.stiffnessMatrix(problem)"
   ]
  },
  {
   "cell_type": "code",
   "execution_count": 24,
   "metadata": {},
   "outputs": [
    {
     "data": {
      "text/plain": [
       "(\"lowerload\", -1, 0, 0)"
      ]
     },
     "metadata": {},
     "output_type": "display_data"
    }
   ],
   "source": [
    "supp = FEM.displacementConstraint(\"supp\", ux=0, uy=0, uz=0)\n",
    "load1 = FEM.load(\"upperload\", fx=1)\n",
    "load2 = FEM.load(\"lowerload\", fx=-1)"
   ]
  },
  {
   "cell_type": "code",
   "execution_count": 25,
   "metadata": {},
   "outputs": [
    {
     "data": {
      "text/plain": [
       "27300-element Vector{Float64}:\n",
       " 0.0\n",
       " 0.0\n",
       " 0.0\n",
       " 0.0\n",
       " 0.0\n",
       " 0.0\n",
       " 0.0\n",
       " 0.0\n",
       " 0.0\n",
       " 0.0\n",
       " ⋮\n",
       " 0.0\n",
       " 0.0\n",
       " 0.0\n",
       " 0.0\n",
       " 0.0\n",
       " 0.0\n",
       " 0.0\n",
       " 0.0\n",
       " 0.0"
      ]
     },
     "metadata": {},
     "output_type": "display_data"
    }
   ],
   "source": [
    "f = FEM.loadVector(problem, [load1 load2])"
   ]
  },
  {
   "cell_type": "code",
   "execution_count": 26,
   "metadata": {},
   "outputs": [
    {
     "data": {
      "text/plain": [
       "Any[]"
      ]
     },
     "metadata": {},
     "output_type": "display_data"
    }
   ],
   "source": [
    "FEM.applyBoundaryConditions!(problem, K, f, [supp])"
   ]
  },
  {
   "cell_type": "code",
   "execution_count": 27,
   "metadata": {},
   "outputs": [
    {
     "data": {
      "text/plain": [
       "27300-element Vector{Float64}:\n",
       "  0.0\n",
       "  0.0\n",
       "  0.0\n",
       "  0.0\n",
       "  0.0\n",
       "  0.0\n",
       "  0.0\n",
       "  0.0\n",
       "  0.0\n",
       "  0.0\n",
       "  ⋮\n",
       "  0.00016086941832466433\n",
       " -0.0029206331903387592\n",
       " -9.55621447175191e-7\n",
       "  0.00016112910795498605\n",
       " -0.002921479844946377\n",
       " -8.553571295095969e-7\n",
       "  0.00022963434484656172\n",
       " -0.0029209625277017894\n",
       " -1.756373570999381e-6"
      ]
     },
     "metadata": {},
     "output_type": "display_data"
    }
   ],
   "source": [
    "q = FEM.solveDisplacement(K, f)"
   ]
  },
  {
   "cell_type": "code",
   "execution_count": 28,
   "metadata": {},
   "outputs": [
    {
     "data": {
      "text/plain": [
       "Main.FEM.StressField([[-0.1649906636190434; 0.02892562329100888; … ; 0.005197593210592825; -0.014073429107189749;;], [-0.20941522382215091; -0.009400082561774159; … ; 0.002364514595794839; -0.0008386859284332526;;], [-0.20257438884684087; -0.002507160851289415; … ; 0.0006550577178109148; 6.881398282254647e-6;;], [-0.20039269855617486; -0.000467290854245177; … ; 0.00013358926877612203; 2.526234313582343e-5;;], [-0.20006872052546656; -7.342700877031655e-5; … ; 2.064554534285286e-5; 7.766733730152353e-6;;], [-0.20000891119216058; -8.72126010923077e-6; … ; 2.119617815600382e-6; 1.4790114482646222e-6;;], [-0.20000058745501878; -3.9257349954603176e-7; … ; 6.9973105817612576e-9; 1.8109552890610559e-7;;], [-0.19999988814504926; 1.3820908897154014e-7; … ; -5.847285556317823e-8; 3.0925195876330136e-9;;], [-0.1999999490720869; 4.819513903313689e-8; … ; -1.5873830778488132e-8; -5.459361643311844e-9;;], [-0.1999999890837511; 8.558295812488387e-9; … ; -2.4321193628663782e-9; -1.79193827831714e-9;;]  …  [0.5999999870737914; 3.739678220728471e-10; … ; -1.072128540421699e-9; 7.367569748728542e-9;;], [0.5999999676275087; 2.7825640090485974e-9; … ; 1.6052649801662573e-8; 6.23092139828696e-8;;], [0.6000001031710536; 1.952386977930163e-8; … ; 1.920934550632315e-7; 3.1658374863297034e-7;;], [0.6000019443669453; 1.0152042588958664e-7; … ; 1.3487126670877513e-6; 8.689561525471179e-7;;], [0.6000142195666304; 7.606090659401946e-7; … ; 7.115752654703294e-6; -2.3304683330338527e-6;;], [0.6000722971788156; 2.2855688066563594e-6; … ; 2.884057691765088e-5; -4.941565292398975e-5;;], [0.6002057006052935; 4.306586389843713e-5; … ; 7.722975128051466e-5; -0.00036772281998123657;;], [0.6008051825675669; -0.00025068501901854146; … ; -7.95986834318002e-5; -0.0013290838961793477;;], [0.6087585808800251; 0.004526164743847992; … ; -0.0035990301843667727; 0.0013696596039240588;;], [0.8718535591095089; -0.2833884894188616; … ; -0.03128744059622247; -0.025198234004133954;;]], [25, 26, 27, 28, 29, 30, 31, 32, 33, 34  …  285, 286, 287, 288, 289, 290, 291, 292, 293, 294], 1)"
      ]
     },
     "metadata": {},
     "output_type": "display_data"
    }
   ],
   "source": [
    "S = FEM.solveStress(problem, q)"
   ]
  },
  {
   "cell_type": "code",
   "execution_count": 29,
   "metadata": {},
   "outputs": [],
   "source": [
    "gmsh.option.setNumber(\"View.IntervalsType\", 3)\n",
    "gmsh.option.setNumber(\"View.VectorType\", 5)\n",
    "gmsh.option.setString(\"View.Format\", \"%.6g\")"
   ]
  },
  {
   "cell_type": "code",
   "execution_count": 30,
   "metadata": {},
   "outputs": [
    {
     "data": {
      "text/plain": [
       "\"uvec..ok\""
      ]
     },
     "metadata": {},
     "output_type": "display_data"
    },
    {
     "data": {
      "text/plain": [
       "\"ux..ok\""
      ]
     },
     "metadata": {},
     "output_type": "display_data"
    },
    {
     "data": {
      "text/plain": [
       "\"uy..ok\""
      ]
     },
     "metadata": {},
     "output_type": "display_data"
    },
    {
     "data": {
      "text/plain": [
       "\"uz..ok\""
      ]
     },
     "metadata": {},
     "output_type": "display_data"
    },
    {
     "data": {
      "text/plain": [
       "\"s..ok\""
      ]
     },
     "metadata": {},
     "output_type": "display_data"
    },
    {
     "data": {
      "text/plain": [
       "\"sx..ok\""
      ]
     },
     "metadata": {},
     "output_type": "display_data"
    },
    {
     "data": {
      "text/plain": [
       "\"sy..ok\""
      ]
     },
     "metadata": {},
     "output_type": "display_data"
    },
    {
     "data": {
      "text/plain": [
       "\"sz..ok\""
      ]
     },
     "metadata": {},
     "output_type": "display_data"
    },
    {
     "data": {
      "text/plain": [
       "\"sxy..ok\""
      ]
     },
     "metadata": {},
     "output_type": "display_data"
    },
    {
     "data": {
      "text/plain": [
       "\"syz..ok\""
      ]
     },
     "metadata": {},
     "output_type": "display_data"
    },
    {
     "data": {
      "text/plain": [
       "\"szx..ok\""
      ]
     },
     "metadata": {},
     "output_type": "display_data"
    },
    {
     "name": "stdout",
     "output_type": "stream",
     "text": [
      "Info    : Running Plugin(Smooth)...\n",
      "Info    : Done running Plugin(Smooth)\n",
      "Info    : Running Plugin(Smooth)...\n",
      "Info    : Done running Plugin(Smooth)\n",
      "Info    : Running Plugin(Smooth)...\n",
      "Info    : Done running Plugin(Smooth)\n",
      "Info    : Running Plugin(Smooth)...\n",
      "Info    : Done running Plugin(Smooth)\n",
      "Info    : Running Plugin(Smooth)...\n",
      "Info    : Done running Plugin(Smooth)\n",
      "Info    : Running Plugin(Smooth)...\n",
      "Info    : Done running Plugin(Smooth)\n",
      "Info    : Running Plugin(Smooth)...\n",
      "Info    : Done running Plugin(Smooth)\n"
     ]
    },
    {
     "data": {
      "text/plain": [
       "10"
      ]
     },
     "metadata": {},
     "output_type": "display_data"
    }
   ],
   "source": [
    "u = FEM.showDoFResults(problem, q, \"uvec\", name=\"uvec\", visible=false)\n",
    "ux = FEM.showDoFResults(problem, q, \"ux\", name=\"ux\", visible=false)\n",
    "uy = FEM.showDoFResults(problem, q, \"uy\", name=\"uy\", visible=false)\n",
    "uz = FEM.showDoFResults(problem, q, \"uz\", name=\"uz\", visible=false)\n",
    "s = FEM.showStressResults(problem, S, \"s\", name=\"σ\", visible=true, smooth=true)\n",
    "sx = FEM.showStressResults(problem, S, \"sx\", name=\"σx\", visible=false, smooth=true)\n",
    "sy = FEM.showStressResults(problem, S, \"sy\", name=\"σy\", visible=false, smooth=true)\n",
    "sz = FEM.showStressResults(problem, S, \"sz\", name=\"σz\", visible=false, smooth=true)\n",
    "sxy = FEM.showStressResults(problem, S, \"sxy\", name=\"τxy\", visible=false, smooth=true)\n",
    "syz = FEM.showStressResults(problem, S, \"syz\", name=\"τyz\", visible=false, smooth=true)\n",
    "szx = FEM.showStressResults(problem, S, \"szx\", name=\"τzx\", visible=false, smooth=true)"
   ]
  },
  {
   "cell_type": "code",
   "execution_count": 31,
   "metadata": {},
   "outputs": [],
   "source": [
    "FEM.plotOnPath(problem, \"path\", sx, 100, name=\"σx\", visible=false);\n",
    "FEM.plotOnPath(problem, \"path\", sxy, 100, name=\"τxy\", visible=false);\n",
    "FEM.plotOnPath(problem, \"path\", ux, 100, name=\"ux\", visible=false);"
   ]
  },
  {
   "cell_type": "code",
   "execution_count": 32,
   "metadata": {},
   "outputs": [],
   "source": [
    "#gmsh.option.setNumber(\"PostProcessing.Binary\", 1)\n",
    "#gmsh.option.setNumber(\"PostProcessing.SaveMesh\", 1)\n",
    "\n",
    "#gmsh.write(\"rect.msh\")\n",
    "#gmsh.write(\"rect.opt\")\n",
    "#gmsh.view.write(4, \"rect.pos\")"
   ]
  },
  {
   "cell_type": "code",
   "execution_count": 33,
   "metadata": {},
   "outputs": [
    {
     "name": "stdout",
     "output_type": "stream",
     "text": [
      "-------------------------------------------------------\n",
      "Version       : 4.12.2\n",
      "License       : GNU General Public License\n",
      "Build OS      : Linux64-sdk\n",
      "Build date    : 20240121\n",
      "Build host    : gmsh.info\n",
      "Build options : 64Bit ALGLIB[contrib] ANN[contrib] Bamg Blas[petsc] Blossom Cgns DIntegration Dlopen DomHex Eigen[contrib] Fltk Gmm[contrib] Hxt Jpeg Kbipack Lapack[petsc] LinuxJoystick MathEx[contrib] Med Mesh Metis[contrib] Mmg Mpeg Netgen ONELAB ONELABMetamodel OpenCASCADE OpenCASCADE-CAF OpenGL OpenMP OptHom PETSc Parser Plugins Png Post QuadMeshingTools QuadTri Solver TetGen/BR Voro++[contrib] WinslowUntangler Zlib\n",
      "FLTK version  : 1.4.0\n",
      "PETSc version : 3.14.4 (real arithmtic)\n",
      "OCC version   : 7.7.2\n",
      "MED version   : 4.1.0\n",
      "Packaged by   : geuzaine\n",
      "Web site      : https://gmsh.info\n",
      "Issue tracker : https://gitlab.onelab.info/gmsh/gmsh/issues\n",
      "-------------------------------------------------------\n"
     ]
    }
   ],
   "source": [
    "gmsh.fltk.run()"
   ]
  },
  {
   "cell_type": "code",
   "execution_count": 34,
   "metadata": {
    "slideshow": {
     "slide_type": ""
    },
    "tags": []
   },
   "outputs": [],
   "source": [
    "gmsh.finalize()"
   ]
  }
 ],
 "metadata": {
  "kernelspec": {
   "display_name": "Julia 1.10.1",
   "language": "julia",
   "name": "julia-1.10"
  },
  "language_info": {
   "file_extension": ".jl",
   "mimetype": "application/julia",
   "name": "julia",
   "version": "1.10.1"
  },
  "varInspector": {
   "cols": {
    "lenName": 16,
    "lenType": 16,
    "lenVar": 40
   },
   "kernels_config": {
    "python": {
     "delete_cmd_postfix": "",
     "delete_cmd_prefix": "del ",
     "library": "var_list.py",
     "varRefreshCmd": "print(var_dic_list())"
    },
    "r": {
     "delete_cmd_postfix": ") ",
     "delete_cmd_prefix": "rm(",
     "library": "var_list.r",
     "varRefreshCmd": "cat(var_dic_list()) "
    }
   },
   "types_to_exclude": [
    "module",
    "function",
    "builtin_function_or_method",
    "instance",
    "_Feature"
   ],
   "window_display": false
  }
 },
 "nbformat": 4,
 "nbformat_minor": 4
}
