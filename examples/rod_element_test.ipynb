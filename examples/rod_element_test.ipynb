{
 "cells": [
  {
   "cell_type": "code",
   "execution_count": 87,
   "metadata": {},
   "outputs": [],
   "source": [
    "import LowLevelFEM as FEM\n",
    "using LowLevelFEM\n",
    "\n",
    "gmsh.initialize()"
   ]
  },
  {
   "cell_type": "code",
   "execution_count": 88,
   "metadata": {},
   "outputs": [
    {
     "name": "stdout",
     "output_type": "stream",
     "text": [
      "Info    : Reading 'rod_element_test_2.geo'...\n",
      "Info    : Meshing 1D...\n",
      "Info    : [  0%] Meshing curve 1 (Line)\n",
      "Info    : [ 30%] Meshing curve 2 (Line)\n",
      "Info    : [ 50%] Meshing curve 3 (Line)\n",
      "Info    : [ 80%] Meshing curve 4 (Line)\n",
      "Info    : Done meshing 1D (Wall 0.00020867s, CPU 0.000203s)\n",
      "Info    : Meshing 2D...\n",
      "Info    : Meshing surface 1 (Transfinite)\n",
      "Info    : Done meshing 2D (Wall 2.5392e-05s, CPU 2.5e-05s)\n",
      "Info    : 4 nodes 9 elements\n",
      "Info    : Done reading 'rod_element_test_2.geo'\n"
     ]
    }
   ],
   "source": [
    "gmsh.open(\"rod_element_test_2.geo\")"
   ]
  },
  {
   "cell_type": "code",
   "execution_count": 89,
   "metadata": {},
   "outputs": [
    {
     "name": "stdout",
     "output_type": "stream",
     "text": [
      "Info    : RCMK renumbering...\n",
      "Info    : Done RCMK renumbering (bandwidth is now 3)\n"
     ]
    },
    {
     "data": {
      "text/plain": [
       "LowLevelFEM.Problem(\"rod_element_test_2\", \"PlaneStress\", 2, [(\"body\", 1.0, 0.0, 7.85e-9)], 1.0, 4)"
      ]
     },
     "metadata": {},
     "output_type": "display_data"
    }
   ],
   "source": [
    "mat = FEM.material(\"body\", E=1.0, ν=0.0)\n",
    "problem = FEM.Problem([mat], type=\"PlaneStress\")"
   ]
  },
  {
   "cell_type": "code",
   "execution_count": 90,
   "metadata": {},
   "outputs": [
    {
     "data": {
      "text/plain": [
       "8×8 SparseArrays.SparseMatrixCSC{Float64, Int64} with 64 stored entries:\n",
       "  16.67     0.125   -16.665    0.125    -8.335   -0.125     8.33    -0.125\n",
       "   0.125   33.335    -0.125  -33.3325   -0.125  -16.6675    0.125   16.665\n",
       " -16.665   -0.125    16.67    -0.125     8.33     0.125    -8.335    0.125\n",
       "   0.125  -33.3325   -0.125   33.335    -0.125   16.665     0.125  -16.6675\n",
       "  -8.335   -0.125     8.33    -0.125    16.67     0.125   -16.665    0.125\n",
       "  -0.125  -16.6675    0.125   16.665     0.125   33.335    -0.125  -33.3325\n",
       "   8.33     0.125    -8.335    0.125   -16.665   -0.125    16.67    -0.125\n",
       "  -0.125   16.665     0.125  -16.6675    0.125  -33.3325   -0.125   33.335"
      ]
     },
     "metadata": {},
     "output_type": "display_data"
    }
   ],
   "source": [
    "FEM.stiffnessMatrix(problem)"
   ]
  },
  {
   "cell_type": "code",
   "execution_count": 91,
   "metadata": {},
   "outputs": [],
   "source": []
  },
  {
   "cell_type": "code",
   "execution_count": 92,
   "metadata": {},
   "outputs": [],
   "source": [
    "#gmsh.fltk.run()"
   ]
  },
  {
   "cell_type": "code",
   "execution_count": 93,
   "metadata": {},
   "outputs": [],
   "source": [
    "gmsh.finalize()"
   ]
  }
 ],
 "metadata": {
  "kernelspec": {
   "display_name": "Julia 1.10.3",
   "language": "julia",
   "name": "julia-1.10"
  },
  "language_info": {
   "file_extension": ".jl",
   "mimetype": "application/julia",
   "name": "julia",
   "version": "1.10.3"
  }
 },
 "nbformat": 4,
 "nbformat_minor": 2
}
