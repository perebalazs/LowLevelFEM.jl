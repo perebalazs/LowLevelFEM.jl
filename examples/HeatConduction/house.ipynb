{
 "cells": [
  {
   "cell_type": "code",
   "execution_count": 53,
   "metadata": {},
   "outputs": [],
   "source": [
    "import LowLevelFEM as FEM\n",
    "using LowLevelFEM\n",
    "\n",
    "gmsh.initialize()"
   ]
  },
  {
   "cell_type": "code",
   "execution_count": 54,
   "metadata": {},
   "outputs": [
    {
     "name": "stdout",
     "output_type": "stream",
     "text": [
      "Info    : Reading 'house.geo'...\n",
      "Info    : Meshing 1D...                                                                                                                         \n",
      "Info    : [  0%] Meshing curve 1 (Line)\n",
      "Info    : [ 10%] Meshing curve 2 (Line)\n",
      "Info    : [ 10%] Meshing curve 3 (Line)\n",
      "Info    : [ 10%] Meshing curve 4 (Line)\n",
      "Info    : [ 20%] Meshing curve 5 (Line)\n",
      "Info    : [ 20%] Meshing curve 6 (Line)\n",
      "Info    : [ 20%] Meshing curve 7 (Line)\n",
      "Info    : [ 30%] Meshing curve 8 (Line)\n",
      "Info    : [ 30%] Meshing curve 9 (Line)\n",
      "Info    : [ 30%] Meshing curve 10 (Line)\n",
      "Info    : [ 40%] Meshing curve 11 (Line)\n",
      "Info    : [ 40%] Meshing curve 12 (Line)\n",
      "Info    : [ 40%] Meshing curve 13 (Line)\n",
      "Info    : [ 40%] Meshing curve 14 (Line)\n",
      "Info    : [ 50%] Meshing curve 15 (Line)\n",
      "Info    : [ 50%] Meshing curve 16 (Line)\n",
      "Info    : [ 50%] Meshing curve 17 (Line)\n",
      "Info    : [ 60%] Meshing curve 18 (Line)\n",
      "Info    : [ 60%] Meshing curve 19 (Line)\n",
      "Info    : [ 60%] Meshing curve 20 (Line)\n",
      "Info    : [ 70%] Meshing curve 21 (Line)\n",
      "Info    : [ 70%] Meshing curve 22 (Line)\n",
      "Info    : [ 70%] Meshing curve 23 (Line)\n",
      "Info    : [ 70%] Meshing curve 24 (Line)\n",
      "Info    : [ 80%] Meshing curve 25 (Line)\n",
      "Info    : [ 80%] Meshing curve 26 (Line)\n",
      "Info    : [ 80%] Meshing curve 27 (Line)\n",
      "Info    : [ 90%] Meshing curve 28 (Line)\n",
      "Info    : [ 90%] Meshing curve 29 (Line)\n",
      "Info    : [ 90%] Meshing curve 30 (Line)\n",
      "Info    : [100%] Meshing curve 31 (Line)\n",
      "Info    : [100%] Meshing curve 32 (Line)\n",
      "Info    : [100%] Meshing curve 33 (Line)\n",
      "Info    : Done meshing 1D (Wall 0.0393972s, CPU 0.016057s)\n",
      "Info    : Meshing 2D...\n",
      "Info    : [  0%] Meshing surface 1 (Plane, Frontal-Delaunay)\n",
      "Info    : [  0%] Blossom: 1966 internal 160 closed\n",
      "Info    : [  0%] Blossom recombination completed (Wall 0.0646453s, CPU 0.048408s): 667 quads, 0 triangles, 0 invalid quads, 0 quads with Q < 0.1, avg Q = 0.769666, min Q = 0.429787\n",
      "Info    : [ 20%] Meshing surface 2 (Plane, Frontal-Delaunay)\n",
      "Info    : [ 20%] Blossom: 1972 internal 160 closed\n",
      "Info    : [ 20%] Blossom recombination completed (Wall 0.0498108s, CPU 0.048422s): 667 quads, 0 triangles, 0 invalid quads, 0 quads with Q < 0.1, avg Q = 0.781675, min Q = 0.454181\n",
      "Info    : [ 30%] Meshing surface 3 (Plane, Frontal-Delaunay)\n",
      "Info    : [ 30%] Blossom: 1311 internal 192 closed\n",
      "Info    : [ 30%] Blossom recombination completed (Wall 0.0277866s, CPU 0.027636s): 467 quads, 0 triangles, 0 invalid quads, 0 quads with Q < 0.1, avg Q = 0.815051, min Q = 0.502956\n",
      "Info    : [ 40%] Meshing surface 4 (Plane, Frontal-Delaunay)\n",
      "Info    : [ 40%] Blossom: 1618 internal 196 closed\n",
      "Info    : [ 40%] Blossom recombination completed (Wall 0.0381624s, CPU 0.03248s): 568 quads, 0 triangles, 0 invalid quads, 0 quads with Q < 0.1, avg Q = 0.876855, min Q = 0.506446\n",
      "Info    : [ 50%] Meshing surface 5 (Plane, Frontal-Delaunay)\n",
      "Info    : [ 50%] Blossom: 2610 internal 480 closed\n",
      "Info    : [ 50%] Blossom recombination completed (Wall 0.0709519s, CPU 0.070858s): 947 quads, 0 triangles, 0 invalid quads, 0 quads with Q < 0.1, avg Q = 0.807166, min Q = 0.441764\n",
      "Info    : [ 60%] Meshing surface 6 (Plane, Frontal-Delaunay)\n",
      "Info    : [ 60%] Blossom: 2610 internal 480 closed\n",
      "Info    : [ 60%] Blossom recombination completed (Wall 0.0807598s, CPU 0.070949s): 949 quads, 0 triangles, 0 invalid quads, 0 quads with Q < 0.1, avg Q = 0.8702, min Q = 0.55529\n",
      "Info    : [ 70%] Meshing surface 7 (Plane, Frontal-Delaunay)\n",
      "Info    : [ 70%] Blossom: 5790 internal 378 closed\n",
      "Info    : [ 70%] Blossom recombination completed (Wall 0.190835s, CPU 0.188804s): 1942 quads, 0 triangles, 0 invalid quads, 0 quads with Q < 0.1, avg Q = 0.781733, min Q = 0.328057\n",
      "Info    : [ 80%] Meshing surface 8 (Plane, Frontal-Delaunay)\n",
      "Info    : [ 80%] Blossom: 125 internal 126 closed\n",
      "Info    : [ 80%] Blossom recombination completed (Wall 0.0014918s, CPU 0.001493s): 62 quads, 2 triangles, 0 invalid quads, 0 quads with Q < 0.1, avg Q = 0.299374, min Q = 0.129044\n",
      "Info    : [ 90%] Meshing surface 9 (Plane, Frontal-Delaunay)\n",
      "Info    : [ 90%] Blossom: 125 internal 126 closed\n",
      "Info    : [ 90%] Blossom recombination completed (Wall 0.00203157s, CPU 0.002031s): 62 quads, 2 triangles, 0 invalid quads, 0 quads with Q < 0.1, avg Q = 0.299374, min Q = 0.129044\n",
      "Info    : Done meshing 2D (Wall 1.07307s, CPU 0.938863s)\n",
      "Info    : Meshing order 2 (curvilinear on)...\n",
      "Info    : [  0%] Meshing curve 1 order 2\n",
      "Info    : [ 10%] Meshing curve 2 order 2\n",
      "Info    : [ 10%] Meshing curve 3 order 2\n",
      "Info    : [ 10%] Meshing curve 4 order 2\n",
      "Info    : [ 10%] Meshing curve 5 order 2\n",
      "Info    : [ 20%] Meshing curve 6 order 2\n",
      "Info    : [ 20%] Meshing curve 7 order 2\n",
      "Info    : [ 20%] Meshing curve 8 order 2\n",
      "Info    : [ 20%] Meshing curve 9 order 2\n",
      "Info    : [ 30%] Meshing curve 10 order 2\n",
      "Info    : [ 30%] Meshing curve 11 order 2\n",
      "Info    : [ 30%] Meshing curve 12 order 2\n",
      "Info    : [ 30%] Meshing curve 13 order 2\n",
      "Info    : [ 40%] Meshing curve 14 order 2\n",
      "Info    : [ 40%] Meshing curve 15 order 2\n",
      "Info    : [ 40%] Meshing curve 16 order 2\n",
      "Info    : [ 40%] Meshing curve 17 order 2\n",
      "Info    : [ 50%] Meshing curve 18 order 2\n",
      "Info    : [ 50%] Meshing curve 19 order 2\n",
      "Info    : [ 50%] Meshing curve 20 order 2\n",
      "Info    : [ 50%] Meshing curve 21 order 2\n",
      "Info    : [ 60%] Meshing curve 22 order 2\n",
      "Info    : [ 60%] Meshing curve 23 order 2\n",
      "Info    : [ 60%] Meshing curve 24 order 2\n",
      "Info    : [ 60%] Meshing curve 25 order 2\n",
      "Info    : [ 60%] Meshing curve 26 order 2\n",
      "Info    : [ 70%] Meshing curve 27 order 2\n",
      "Info    : [ 70%] Meshing curve 28 order 2\n",
      "Info    : [ 70%] Meshing curve 29 order 2\n",
      "Info    : [ 70%] Meshing curve 30 order 2\n",
      "Info    : [ 80%] Meshing curve 31 order 2\n",
      "Info    : [ 80%] Meshing curve 32 order 2\n",
      "Info    : [ 80%] Meshing curve 33 order 2\n",
      "Info    : [ 80%] Meshing surface 1 order 2\n",
      "Info    : [ 90%] Meshing surface 2 order 2\n",
      "Info    : [ 90%] Meshing surface 3 order 2\n",
      "Info    : [ 90%] Meshing surface 4 order 2\n",
      "Info    : [ 90%] Meshing surface 5 order 2\n",
      "Info    : [100%] Meshing surface 6 order 2\n",
      "Info    : [100%] Meshing surface 7 order 2\n",
      "Info    : [100%] Meshing surface 8 order 2\n",
      "Info    : [100%] Meshing surface 9 order 2\n",
      "Info    : Surface mesh: worst distortion = 1 (0 elements in ]0, 0.2]); worst gamma = 0.360157\n",
      "Info    : Done meshing order 2 (Wall 0.0853364s, CPU 0.08511s)\n",
      "Info    : 26150 nodes 7919 elements\n",
      "Info    : Done reading 'house.geo'\n"
     ]
    }
   ],
   "source": [
    "gmsh.open(\"house.geo\")"
   ]
  },
  {
   "cell_type": "code",
   "execution_count": 55,
   "metadata": {},
   "outputs": [
    {
     "name": "stdout",
     "output_type": "stream",
     "text": [
      "Info    : RCMK renumbering...\n",
      "Info    : Done RCMK renumbering (bandwidth is now 304)\n"
     ]
    },
    {
     "data": {
      "text/plain": [
       "LowLevelFEM.Problem(\"house\", \"PlaneHeatConduction\", 2, 1, LowLevelFEM.Material[LowLevelFEM.Material(\"tegla\", 200000.0, 0.3, 7.85e-9, 0.155, 4.2e8, 1.2e-5), LowLevelFEM.Material(\"beton\", 200000.0, 0.3, 7.85e-9, 1.55, 4.2e8, 1.2e-5), LowLevelFEM.Material(\"hungarocell\", 200000.0, 0.3, 7.85e-9, 0.15, 4.2e8, 1.2e-5), LowLevelFEM.Material(\"kgyapot\", 200000.0, 0.3, 7.85e-9, 0.04, 4.2e8, 1.2e-5)], 1.0, 26150)"
      ]
     },
     "metadata": {},
     "output_type": "display_data"
    }
   ],
   "source": [
    "tegla = FEM.material(\"tegla\", k=0.155)\n",
    "beton = FEM.material(\"beton\", k=1.55)\n",
    "hungarocell = FEM.material(\"hungarocell\", k=0.15)\n",
    "kgyapot = FEM.material(\"kgyapot\", k=0.04)\n",
    "\n",
    "problem = FEM.Problem([tegla, beton, hungarocell, kgyapot], type=\"PlaneHeatConduction\")"
   ]
  },
  {
   "cell_type": "code",
   "execution_count": 56,
   "metadata": {},
   "outputs": [
    {
     "data": {
      "text/plain": [
       "26150×26150 SparseArrays.SparseMatrixCSC{Float64, Int64} with 408548 stored entries:\n",
       "⎡⣿⣿⡭⠭⢹⠛⠛⠛⠻⠿⠷⠾⢿⣿⣿⣬⣤⣨⡭⠅⠀⠅⠀⠅⠅⠀⠀⠀⠇⠘⠛⠙⠀⠉⠋⠛⠃⠃⠈⣻⎤\n",
       "⎢⡇⡏⠻⣦⡈⠀⠀⠀⠀⠀⠀⠀⠀⠀⠀⠉⠉⠉⣿⡿⠿⠿⠀⣷⣶⣶⣶⣶⡇⠘⠛⠛⠛⠛⠛⠛⠛⠛⠛⠋⎥\n",
       "⎢⣷⠒⠂⠈⢻⣶⣶⣶⣶⠀⠀⠀⠀⠀⠀⠀⠀⠀⠀⠀⠀⠀⠀⠉⠉⠉⠉⠉⠋⠙⠛⠛⠛⠛⠛⠛⠑⠛⠓⠓⎥\n",
       "⎢⣿⠀⠀⠀⢸⣿⣿⣿⣿⠀⠀⠀⠀⠀⠀⠀⠀⠀⠀⠀⠀⠀⠀⠀⠀⠀⠀⠀⠀⠀⠀⠀⠀⠀⠀⠀⠀⠀⠀⠀⎥\n",
       "⎢⣿⡆⠀⠀⠘⠛⠛⠛⢻⣶⣶⣶⣶⠀⠀⠀⠀⠀⠀⠀⠀⠀⠀⠀⠀⠀⠀⠀⠀⠀⠀⠀⠀⠀⠀⠀⠀⠀⠀⠀⎥\n",
       "⎢⣹⡇⠀⠀⠀⠀⠀⠀⢸⣿⣿⣿⣯⠀⠀⠀⠀⠀⠀⠀⠀⠀⠀⠀⠀⠀⠀⠀⠀⠀⠀⠀⠀⠀⠀⠀⠀⠀⠀⠀⎥\n",
       "⎢⣿⣷⠀⠀⠀⠀⠀⠀⠘⠛⠋⠛⢻⣶⣶⡆⠀⠀⠀⠀⠀⠀⠀⠀⠀⠀⠀⠀⠀⠀⠀⠀⠀⠀⠀⠀⠀⠀⠀⠀⎥\n",
       "⎢⡛⣿⡄⠀⠀⠀⠀⠀⠀⠀⠀⠀⠸⠿⠿⣧⣤⣤⡄⠀⠀⠀⠀⠀⠀⠀⠀⠀⠀⠀⠀⠀⠀⠀⠀⠀⠀⠀⠀⠀⎥\n",
       "⎢⡀⣻⡇⠀⠀⠀⠀⠀⠀⠀⠀⠀⠀⠀⠀⣿⣿⣿⡇⠀⠀⠀⠀⠀⠀⠀⠀⠀⠀⠀⠀⠀⠀⠀⠀⠀⠀⠀⠀⠀⎥\n",
       "⎢⠇⠏⣿⡿⠀⠀⠀⠀⠀⠀⠀⠀⠀⠀⠀⠉⠉⠉⣿⣿⣿⣿⣿⡇⠀⠀⠀⠀⠀⠀⠀⠀⠀⠀⠀⠀⠀⠀⠀⠀⎥\n",
       "⎢⠄⠄⣿⡇⠀⠀⠀⠀⠀⠀⠀⠀⠀⠀⠀⠀⠀⠀⣿⣿⣿⣿⣿⡇⠀⠀⠀⠀⠀⠀⠀⠀⠀⠀⠀⠀⠀⠀⠀⠀⎥\n",
       "⎢⠄⠄⢤⣤⡄⠀⠀⠀⠀⠀⠀⠀⠀⠀⠀⠀⠀⠀⠿⠿⠿⠿⠿⣧⣤⣤⣤⣤⡄⠀⠀⠀⠀⠀⠀⠀⠀⠀⠀⠀⎥\n",
       "⎢⠁⠁⢸⣿⡇⠀⠀⠀⠀⠀⠀⠀⠀⠀⠀⠀⠀⠀⠀⠀⠀⠀⠀⣿⣿⣿⣿⣿⡇⠀⠀⠀⠀⠀⠀⠀⠀⠀⠀⠀⎥\n",
       "⎢⠀⠀⢸⣿⡇⠀⠀⠀⠀⠀⠀⠀⠀⠀⠀⠀⠀⠀⠀⠀⠀⠀⠀⣿⣿⣿⣿⣿⡇⠀⠀⠀⠀⠀⠀⠀⠀⠀⠀⠀⎥\n",
       "⎢⣉⠁⣉⠉⣏⠀⠀⠀⠀⠀⠀⠀⠀⠀⠀⠀⠀⠀⠀⠀⠀⠀⠀⠉⠉⠉⠉⠉⣿⣿⣿⣿⣿⣿⣿⣿⣿⣿⣿⡇⎥\n",
       "⎢⣟⠀⣿⠀⣿⠀⠀⠀⠀⠀⠀⠀⠀⠀⠀⠀⠀⠀⠀⠀⠀⠀⠀⠀⠀⠀⠀⠀⣿⣿⣿⣿⣿⣿⣿⣿⣿⣿⣿⡇⎥\n",
       "⎢⡄⠀⣿⠀⣿⠀⠀⠀⠀⠀⠀⠀⠀⠀⠀⠀⠀⠀⠀⠀⠀⠀⠀⠀⠀⠀⠀⠀⣿⣿⣿⣿⣿⣿⣿⣿⣿⣿⣿⡇⎥\n",
       "⎢⣯⠀⣿⠀⣿⠀⠀⠀⠀⠀⠀⠀⠀⠀⠀⠀⠀⠀⠀⠀⠀⠀⠀⠀⠀⠀⠀⠀⣿⣿⣿⣿⣿⣿⣿⣿⣿⣿⣿⡇⎥\n",
       "⎢⠭⠀⣿⠀⣵⠀⠀⠀⠀⠀⠀⠀⠀⠀⠀⠀⠀⠀⠀⠀⠀⠀⠀⠀⠀⠀⠀⠀⣿⣿⣿⣿⣿⣿⣿⣿⣿⣿⣿⡇⎥\n",
       "⎣⣦⣠⡿⠀⢽⠀⠀⠀⠀⠀⠀⠀⠀⠀⠀⠀⠀⠀⠀⠀⠀⠀⠀⠀⠀⠀⠀⠀⠿⠿⠿⠿⠿⠿⠿⠿⠿⠿⠿⣧⎦"
      ]
     },
     "metadata": {},
     "output_type": "display_data"
    }
   ],
   "source": [
    "K = FEM.heatConductionMatrix(problem)"
   ]
  },
  {
   "cell_type": "code",
   "execution_count": 57,
   "metadata": {},
   "outputs": [
    {
     "data": {
      "text/plain": [
       "Tszoba (generic function with 1 method)"
      ]
     },
     "metadata": {},
     "output_type": "display_data"
    }
   ],
   "source": [
    "Tszoba(x, y, z) = 15 + 8 / 2500 * y"
   ]
  },
  {
   "cell_type": "code",
   "execution_count": 58,
   "metadata": {},
   "outputs": [],
   "source": [
    "belsofalj = FEM.heatConvection(\"belsofalj\", h=10, Tₐ=Tszoba)\n",
    "belsofalb = FEM.heatConvection(\"belsofalb\", h=10, Tₐ=Tszoba)\n",
    "padlo = FEM.heatConvection(\"padlo\", h=10, Tₐ=Tszoba)\n",
    "plafon = FEM.heatConvection(\"plafon\", h=10, Tₐ=Tszoba)\n",
    "levego = FEM.heatConvection(\"levego\", h=20, Tₐ=-10)\n",
    "talaj = FEM.heatConvection(\"talaj\", h=100, Tₐ=-10)\n",
    "\n",
    "lv = FEM.heatFlux(\"padlo\", qn=0);"
   ]
  },
  {
   "cell_type": "code",
   "execution_count": 59,
   "metadata": {},
   "outputs": [],
   "source": [
    "f = FEM.heatFluxVector(problem, [lv]);"
   ]
  },
  {
   "cell_type": "code",
   "execution_count": 60,
   "metadata": {},
   "outputs": [],
   "source": [
    "FEM.applyHeatConvection!(problem, K, f, [talaj, levego, padlo, plafon, belsofalj, belsofalb])"
   ]
  },
  {
   "cell_type": "code",
   "execution_count": 61,
   "metadata": {},
   "outputs": [],
   "source": [
    "T = FEM.solveTemperature(K, f);"
   ]
  },
  {
   "cell_type": "code",
   "execution_count": 62,
   "metadata": {},
   "outputs": [],
   "source": [
    "q = FEM.solveHeatFlux(problem, T);"
   ]
  },
  {
   "cell_type": "code",
   "execution_count": 63,
   "metadata": {},
   "outputs": [],
   "source": [
    "T1 = FEM.showDoFResults(problem, T, \"T\", visible=true);"
   ]
  },
  {
   "cell_type": "code",
   "execution_count": 64,
   "metadata": {},
   "outputs": [
    {
     "name": "stdout",
     "output_type": "stream",
     "text": [
      "Info    : Running Plugin(Smooth)...\n",
      "Info    : Done running Plugin(Smooth)\n"
     ]
    },
    {
     "data": {
      "text/plain": [
       "1"
      ]
     },
     "metadata": {},
     "output_type": "display_data"
    }
   ],
   "source": [
    "q1 = FEM.showElementResults(problem, q, \"qvec\")"
   ]
  },
  {
   "cell_type": "code",
   "execution_count": 65,
   "metadata": {},
   "outputs": [],
   "source": [
    "K = FEM.heatConductionMatrix(problem)\n",
    "f = FEM.heatFluxVector(problem, [lv]);\n",
    "FEM.applyHeatConvection!(problem, K, f, [talaj, levego, padlo, plafon, belsofalj, belsofalb])"
   ]
  },
  {
   "cell_type": "code",
   "execution_count": 66,
   "metadata": {},
   "outputs": [],
   "source": [
    "fQ = K * T - f;"
   ]
  },
  {
   "cell_type": "code",
   "execution_count": 67,
   "metadata": {},
   "outputs": [],
   "source": [
    "Kcv0 = FEM.heatConvectionMatrix(problem, [talaj, levego, padlo, plafon, belsofalj, belsofalb])\n",
    "qcv0 = FEM.heatConvectionVector(problem, [talaj, levego, padlo, plafon, belsofalj, belsofalb])\n",
    "qcv = Kcv0 * T - qcv0;"
   ]
  },
  {
   "cell_type": "code",
   "execution_count": 68,
   "metadata": {},
   "outputs": [
    {
     "data": {
      "text/plain": [
       "2"
      ]
     },
     "metadata": {},
     "output_type": "display_data"
    }
   ],
   "source": [
    "fq = FEM.showDoFResults(problem, qcv, \"qn\")"
   ]
  },
  {
   "cell_type": "code",
   "execution_count": 69,
   "metadata": {},
   "outputs": [
    {
     "data": {
      "text/plain": [
       "-63.632995589478924"
      ]
     },
     "metadata": {},
     "output_type": "display_data"
    }
   ],
   "source": [
    "q_pl = FEM.resultant(qcv, \"plafon\", dim=1)"
   ]
  },
  {
   "cell_type": "code",
   "execution_count": 70,
   "metadata": {},
   "outputs": [
    {
     "data": {
      "text/plain": [
       "-183.88326064544697"
      ]
     },
     "metadata": {},
     "output_type": "display_data"
    }
   ],
   "source": [
    "q_pa = FEM.resultant(qcv, \"padlo\", dim=1)"
   ]
  },
  {
   "cell_type": "code",
   "execution_count": 71,
   "metadata": {},
   "outputs": [
    {
     "data": {
      "text/plain": [
       "-43.88613186410964"
      ]
     },
     "metadata": {},
     "output_type": "display_data"
    }
   ],
   "source": [
    "q_fj = FEM.resultant(qcv, \"belsofalj\", dim=1)"
   ]
  },
  {
   "cell_type": "code",
   "execution_count": 72,
   "metadata": {},
   "outputs": [
    {
     "data": {
      "text/plain": [
       "-43.935104247872914"
      ]
     },
     "metadata": {},
     "output_type": "display_data"
    }
   ],
   "source": [
    "q_fb = FEM.resultant(qcv, \"belsofalb\", dim=1)"
   ]
  },
  {
   "cell_type": "code",
   "execution_count": 73,
   "metadata": {},
   "outputs": [
    {
     "data": {
      "text/plain": [
       "140.09748236221776"
      ]
     },
     "metadata": {},
     "output_type": "display_data"
    }
   ],
   "source": [
    "q_lev = FEM.resultant(qcv, \"levego\", dim=1)"
   ]
  },
  {
   "cell_type": "code",
   "execution_count": 74,
   "metadata": {},
   "outputs": [
    {
     "data": {
      "text/plain": [
       "182.39759078847237"
      ]
     },
     "metadata": {},
     "output_type": "display_data"
    }
   ],
   "source": [
    "q_ta = FEM.resultant(qcv, \"talaj\", dim=1)"
   ]
  },
  {
   "cell_type": "code",
   "execution_count": 75,
   "metadata": {},
   "outputs": [
    {
     "data": {
      "text/plain": [
       "-335.33749234690845"
      ]
     },
     "metadata": {},
     "output_type": "display_data"
    }
   ],
   "source": [
    "q_pa + q_pl + q_fj + q_fb"
   ]
  },
  {
   "cell_type": "code",
   "execution_count": 76,
   "metadata": {},
   "outputs": [
    {
     "data": {
      "text/plain": [
       "322.49507315069013"
      ]
     },
     "metadata": {},
     "output_type": "display_data"
    }
   ],
   "source": [
    "q_lev + q_ta"
   ]
  },
  {
   "cell_type": "code",
   "execution_count": 77,
   "metadata": {},
   "outputs": [
    {
     "name": "stdout",
     "output_type": "stream",
     "text": [
      "-------------------------------------------------------\n",
      "Version       : 4.13.1\n",
      "License       : GNU General Public License\n",
      "Build OS      : Linux64-sdk\n",
      "Build date    : 19700101\n",
      "Build host    : amdci7.julia.csail.mit.edu\n",
      "Build options : 64Bit ALGLIB[contrib] ANN[contrib] Bamg Blossom Cairo DIntegration Dlopen DomHex Eigen[contrib] Fltk GMP Gmm[contrib] Hxt Jpeg Kbipack LinuxJoystick MathEx[contrib] Mesh Metis[contrib] Mmg Mpeg Netgen Nii2mesh ONELAB ONELABMetamodel OpenCASCADE OpenCASCADE-CAF OpenGL OpenMP OptHom Parser Plugins Png Post QuadMeshingTools QuadTri Solver TetGen/BR TinyXML2[contrib] Untangle Voro++[contrib] WinslowUntangler Zlib\n",
      "FLTK version  : 1.3.8\n",
      "OCC version   : 7.7.2\n",
      "Packaged by   : root\n",
      "Web site      : https://gmsh.info\n",
      "Issue tracker : https://gitlab.onelab.info/gmsh/gmsh/issues\n",
      "-------------------------------------------------------\n"
     ]
    },
    {
     "name": "stderr",
     "output_type": "stream",
     "text": [
      "XRequest.18: BadValue 0x0\n"
     ]
    }
   ],
   "source": [
    "gmsh.fltk.run()"
   ]
  },
  {
   "cell_type": "code",
   "execution_count": 78,
   "metadata": {},
   "outputs": [],
   "source": [
    "gmsh.finalize()"
   ]
  }
 ],
 "metadata": {
  "kernelspec": {
   "display_name": "Julia 1.11.1",
   "language": "julia",
   "name": "julia-1.11"
  },
  "language_info": {
   "file_extension": ".jl",
   "mimetype": "application/julia",
   "name": "julia",
   "version": "1.11.1"
  }
 },
 "nbformat": 4,
 "nbformat_minor": 2
}
