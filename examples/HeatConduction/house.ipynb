{
 "cells": [
  {
   "cell_type": "code",
   "execution_count": 1,
   "metadata": {},
   "outputs": [],
   "source": [
    "import LowLevelFEM as FEM\n",
    "using LowLevelFEM\n",
    "\n",
    "gmsh.initialize()"
   ]
  },
  {
   "cell_type": "code",
   "execution_count": 2,
   "metadata": {},
   "outputs": [
    {
     "name": "stdout",
     "output_type": "stream",
     "text": [
      "Info    : Reading 'house.geo'...\n",
      "Info    : Meshing 1D...                                                                                                                         \n",
      "Info    : [  0%] Meshing curve 1 (Line)\n",
      "Info    : [ 10%] Meshing curve 2 (Line)\n",
      "Info    : [ 10%] Meshing curve 3 (Line)\n",
      "Info    : [ 10%] Meshing curve 4 (Line)\n",
      "Info    : [ 20%] Meshing curve 5 (Line)\n",
      "Info    : [ 20%] Meshing curve 6 (Line)\n",
      "Info    : [ 20%] Meshing curve 7 (Line)\n",
      "Info    : [ 30%] Meshing curve 8 (Line)\n",
      "Info    : [ 30%] Meshing curve 9 (Line)\n",
      "Info    : [ 30%] Meshing curve 10 (Line)\n",
      "Info    : [ 40%] Meshing curve 11 (Line)\n",
      "Info    : [ 40%] Meshing curve 12 (Line)\n",
      "Info    : [ 40%] Meshing curve 13 (Line)\n",
      "Info    : [ 40%] Meshing curve 14 (Line)\n",
      "Info    : [ 50%] Meshing curve 15 (Line)\n",
      "Info    : [ 50%] Meshing curve 16 (Line)\n",
      "Info    : [ 50%] Meshing curve 17 (Line)\n",
      "Info    : [ 60%] Meshing curve 18 (Line)\n",
      "Info    : [ 60%] Meshing curve 19 (Line)\n",
      "Info    : [ 60%] Meshing curve 20 (Line)\n",
      "Info    : [ 70%] Meshing curve 21 (Line)\n",
      "Info    : [ 70%] Meshing curve 22 (Line)\n",
      "Info    : [ 70%] Meshing curve 23 (Line)\n",
      "Info    : [ 70%] Meshing curve 24 (Line)\n",
      "Info    : [ 80%] Meshing curve 25 (Line)\n",
      "Info    : [ 80%] Meshing curve 26 (Line)\n",
      "Info    : [ 80%] Meshing curve 27 (Line)\n",
      "Info    : [ 90%] Meshing curve 28 (Line)\n",
      "Info    : [ 90%] Meshing curve 29 (Line)\n",
      "Info    : [ 90%] Meshing curve 30 (Line)\n",
      "Info    : [100%] Meshing curve 31 (Line)\n",
      "Info    : [100%] Meshing curve 32 (Line)\n",
      "Info    : [100%] Meshing curve 33 (Line)\n",
      "Info    : Done meshing 1D (Wall 0.016078s, CPU 0.01568s)\n",
      "Info    : Meshing 2D...\n",
      "Info    : [  0%] Meshing surface 1 (Plane, Unknown)\n",
      "Info    : [  0%] Blossom: 467 internal 80 closed\n",
      "Info    : [  0%] Blossom recombination completed (Wall 0.00896308s, CPU 0.008401s): 168 quads, 2 triangles, 0 invalid quads, 0 quads with Q < 0.1, avg Q = 0.737679, min Q = 0.481505\n",
      "Info    : [  0%] Blossom recombination completed (Wall 0.0107806s, CPU 0.010192s): 678 quads, 0 triangles, 0 invalid quads, 0 quads with Q < 0.1, avg Q = 0.816814, min Q = 0.418865\n",
      "Info    : [ 20%] Meshing surface 2 (Plane, Unknown)\n",
      "Info    : [ 20%] Blossom: 473 internal 80 closed\n",
      "Info    : [ 20%] Blossom recombination completed (Wall 0.0101937s, CPU 0.009921s): 167 quads, 2 triangles, 0 invalid quads, 0 quads with Q < 0.1, avg Q = 0.716574, min Q = 0.437289\n",
      "Info    : [ 20%] Blossom recombination completed (Wall 0.00979464s, CPU 0.009754s): 674 quads, 0 triangles, 0 invalid quads, 0 quads with Q < 0.1, avg Q = 0.794948, min Q = 0.438231\n",
      "Info    : [ 30%] Meshing surface 3 (Plane, Unknown)\n",
      "Info    : [ 30%] Blossom: 231 internal 96 closed\n",
      "Info    : [ 30%] Blossom recombination completed (Wall 0.00276949s, CPU 0.002767s): 93 quads, 0 triangles, 0 invalid quads, 0 quads with Q < 0.1, avg Q = 0.958803, min Q = 0.506011\n",
      "Info    : [ 30%] Blossom recombination completed (Wall 0.00715894s, CPU 0.007117s): 372 quads, 0 triangles, 0 invalid quads, 0 quads with Q < 0.1, avg Q = 0.97512, min Q = 0.501014\n",
      "Info    : [ 40%] Meshing surface 4 (Plane, Unknown)\n",
      "Info    : [ 40%] Blossom: 245 internal 98 closed\n",
      "Info    : [ 40%] Blossom recombination completed (Wall 0.00454065s, CPU 0.004539s): 98 quads, 0 triangles, 0 invalid quads, 0 quads with Q < 0.1, avg Q = 0.762721, min Q = 0.534092\n",
      "Info    : [ 40%] Blossom recombination completed (Wall 0.00963535s, CPU 0.009635s): 392 quads, 0 triangles, 0 invalid quads, 0 quads with Q < 0.1, avg Q = 0.775566, min Q = 0.556135\n",
      "Info    : [ 50%] Meshing surface 5 (Plane, Unknown)\n",
      "Info    : [ 50%] Blossom: 591 internal 240 closed\n",
      "Info    : [ 50%] Blossom recombination completed (Wall 0.00614612s, CPU 0.006146s): 237 quads, 0 triangles, 0 invalid quads, 0 quads with Q < 0.1, avg Q = 0.959189, min Q = 0.653272\n",
      "Info    : [ 50%] Blossom recombination completed (Wall 0.0134698s, CPU 0.013415s): 948 quads, 0 triangles, 0 invalid quads, 0 quads with Q < 0.1, avg Q = 0.979115, min Q = 0.643438\n",
      "Info    : [ 60%] Meshing surface 6 (Plane, Unknown)\n",
      "Info    : [ 60%] Blossom: 591 internal 240 closed\n",
      "Info    : [ 60%] Blossom recombination completed (Wall 0.0108224s, CPU 0.010821s): 237 quads, 0 triangles, 0 invalid quads, 0 quads with Q < 0.1, avg Q = 0.965227, min Q = 0.56208\n",
      "Info    : [ 60%] Blossom recombination completed (Wall 0.032616s, CPU 0.024104s): 948 quads, 0 triangles, 0 invalid quads, 0 quads with Q < 0.1, avg Q = 0.981847, min Q = 0.547574\n",
      "Info    : [ 70%] Meshing surface 7 (Plane, Unknown)\n",
      "Info    : [ 70%] Blossom: 1399 internal 190 closed\n",
      "Info    : [ 70%] Blossom recombination completed (Wall 0.0494066s, CPU 0.043433s): 485 quads, 4 triangles, 0 invalid quads, 0 quads with Q < 0.1, avg Q = 0.712478, min Q = 0.420603\n",
      "Info    : [ 70%] Blossom recombination completed (Wall 0.0448794s, CPU 0.043591s): 1952 quads, 0 triangles, 0 invalid quads, 0 quads with Q < 0.1, avg Q = 0.801846, min Q = 0.437777\n",
      "Info    : [ 80%] Meshing surface 8 (Plane, Unknown)\n",
      "Info    : [ 80%] Blossom recombination completed (Wall 0.00369608s, CPU 0.003695s): 52 quads, 25 triangles, 0 invalid quads, 0 quads with Q < 0.1, avg Q = 0.759414, min Q = 0.632372\n",
      "Info    : [ 80%] Blossom recombination completed (Wall 0.00884993s, CPU 0.008851s): 283 quads, 0 triangles, 0 invalid quads, 0 quads with Q < 0.1, avg Q = 0.747048, min Q = 0.493281\n",
      "Info    : [ 90%] Meshing surface 9 (Plane, Unknown)\n",
      "Info    : [ 90%] Blossom recombination completed (Wall 0.00356303s, CPU 0.00356s): 52 quads, 25 triangles, 0 invalid quads, 0 quads with Q < 0.1, avg Q = 0.759344, min Q = 0.632449\n",
      "Info    : [ 90%] Blossom recombination completed (Wall 0.0085266s, CPU 0.008521s): 283 quads, 0 triangles, 0 invalid quads, 0 quads with Q < 0.1, avg Q = 0.746987, min Q = 0.493281\n",
      "Info    : Done meshing 2D (Wall 0.409489s, CPU 0.384643s)\n",
      "Info    : Meshing order 2 (curvilinear on)...\n",
      "Info    : [  0%] Meshing curve 1 order 2\n",
      "Info    : [ 10%] Meshing curve 2 order 2\n",
      "Info    : [ 10%] Meshing curve 3 order 2\n",
      "Info    : [ 10%] Meshing curve 4 order 2\n",
      "Info    : [ 10%] Meshing curve 5 order 2\n",
      "Info    : [ 20%] Meshing curve 6 order 2\n",
      "Info    : [ 20%] Meshing curve 7 order 2\n",
      "Info    : [ 20%] Meshing curve 8 order 2\n",
      "Info    : [ 20%] Meshing curve 9 order 2\n",
      "Info    : [ 30%] Meshing curve 10 order 2\n",
      "Info    : [ 30%] Meshing curve 11 order 2\n",
      "Info    : [ 30%] Meshing curve 12 order 2\n",
      "Info    : [ 30%] Meshing curve 13 order 2\n",
      "Info    : [ 40%] Meshing curve 14 order 2\n",
      "Info    : [ 40%] Meshing curve 15 order 2\n",
      "Info    : [ 40%] Meshing curve 16 order 2\n",
      "Info    : [ 40%] Meshing curve 17 order 2\n",
      "Info    : [ 50%] Meshing curve 18 order 2\n",
      "Info    : [ 50%] Meshing curve 19 order 2\n",
      "Info    : [ 50%] Meshing curve 20 order 2\n",
      "Info    : [ 50%] Meshing curve 21 order 2\n",
      "Info    : [ 60%] Meshing curve 22 order 2\n",
      "Info    : [ 60%] Meshing curve 23 order 2\n",
      "Info    : [ 60%] Meshing curve 24 order 2\n",
      "Info    : [ 60%] Meshing curve 25 order 2\n",
      "Info    : [ 60%] Meshing curve 26 order 2\n",
      "Info    : [ 70%] Meshing curve 27 order 2\n",
      "Info    : [ 70%] Meshing curve 28 order 2\n",
      "Info    : [ 70%] Meshing curve 29 order 2\n",
      "Info    : [ 70%] Meshing curve 30 order 2\n",
      "Info    : [ 80%] Meshing curve 31 order 2\n",
      "Info    : [ 80%] Meshing curve 32 order 2\n",
      "Info    : [ 80%] Meshing curve 33 order 2\n",
      "Info    : [ 80%] Meshing surface 1 order 2\n",
      "Info    : [ 90%] Meshing surface 2 order 2\n",
      "Info    : [ 90%] Meshing surface 3 order 2\n",
      "Info    : [ 90%] Meshing surface 4 order 2\n",
      "Info    : [ 90%] Meshing surface 5 order 2\n",
      "Info    : [100%] Meshing surface 6 order 2\n",
      "Info    : [100%] Meshing surface 7 order 2\n",
      "Info    : [100%] Meshing surface 8 order 2\n",
      "Info    : [100%] Meshing surface 9 order 2\n",
      "Info    : Done meshing order 2 (Wall 0.102105s, CPU 0.10134s)\n",
      "Info    : 26940 nodes 8122 elements\n",
      "Info    : Done reading 'house.geo'\n"
     ]
    },
    {
     "name": "stderr",
     "output_type": "stream",
     "text": [
      "Warning : Cannot apply Blossom: odd number of triangles (129) in surface 8\n",
      "Warning : Cannot apply Blossom: odd number of triangles (129) in surface 9\n",
      "Warning : ------------------------------\n",
      "Warning : Mesh generation error summary\n",
      "Warning :     2 warnings\n",
      "Warning :     0 errors\n",
      "Warning : Check the full log for details\n",
      "Warning : ------------------------------\n"
     ]
    }
   ],
   "source": [
    "gmsh.open(\"house.geo\")"
   ]
  },
  {
   "cell_type": "code",
   "execution_count": 3,
   "metadata": {},
   "outputs": [],
   "source": [
    "#gmsh.fltk.run()"
   ]
  },
  {
   "cell_type": "code",
   "execution_count": 4,
   "metadata": {},
   "outputs": [
    {
     "name": "stdout",
     "output_type": "stream",
     "text": [
      "Info    : RCMK renumbering...\n",
      "Info    : Done RCMK renumbering (bandwidth is now 312)\n"
     ]
    },
    {
     "data": {
      "text/plain": [
       "LowLevelFEM.Problem(\"house\", \"PlaneHeatConduction\", 2, 1, LowLevelFEM.Material[LowLevelFEM.Material(\"tegla\", 200000.0, 0.3, 7.85e-9, 0.155, 4.2e8, 1.2e-5), LowLevelFEM.Material(\"beton\", 200000.0, 0.3, 7.85e-9, 1.55, 4.2e8, 1.2e-5), LowLevelFEM.Material(\"hungarocell\", 200000.0, 0.3, 7.85e-9, 0.04, 4.2e8, 1.2e-5), LowLevelFEM.Material(\"kgyapot\", 200000.0, 0.3, 7.85e-9, 0.04, 4.2e8, 1.2e-5)], 1.0, 26940)"
      ]
     },
     "metadata": {},
     "output_type": "display_data"
    }
   ],
   "source": [
    "tegla = FEM.material(\"tegla\", k=0.155)\n",
    "beton = FEM.material(\"beton\", k=1.55)\n",
    "hungarocell = FEM.material(\"hungarocell\", k=0.04)\n",
    "kgyapot = FEM.material(\"kgyapot\", k=0.04)\n",
    "\n",
    "problem = FEM.Problem([tegla, beton, hungarocell, kgyapot], type=\"PlaneHeatConduction\")"
   ]
  },
  {
   "cell_type": "code",
   "execution_count": 5,
   "metadata": {},
   "outputs": [
    {
     "data": {
      "text/plain": [
       "26940×26940 SparseArrays.SparseMatrixCSC{Float64, Int64} with 421200 stored entries:\n",
       "⎡⣿⣿⡭⠭⢋⠛⠛⠛⠻⠷⠻⠿⣿⣥⣭⣤⡅⠅⠀⠀⠀⠅⠅⠀⠀⠀⠀⠀⠃⠀⠀⠀⠀⠀⠀⠛⢛⣛⣿⡟⎤\n",
       "⎢⡇⡏⠻⣦⡁⠀⠀⠀⠀⠀⠀⠀⠀⠀⠉⠀⠿⠿⠿⠿⠿⣷⣶⣶⣶⣶⠘⠛⠛⠛⠘⠘⠛⠋⠛⠛⠛⠉⠀⠀⎥\n",
       "⎢⣯⠐⠁⠈⢻⣶⣶⣶⣶⠀⠀⠀⠀⠀⠀⠀⠀⠀⠀⠀⠀⠉⠉⠉⠀⠀⠈⠉⠉⠀⠉⠈⠉⠉⠉⠉⠙⠛⠛⠚⎥\n",
       "⎢⣿⠀⠀⠀⢸⣿⣿⣿⣷⠀⠀⠀⠀⠀⠀⠀⠀⠀⠀⠀⠀⠀⠀⠀⠀⠀⠀⠀⠀⠀⠀⠀⠀⠀⠀⠀⠀⠀⠀⠀⎥\n",
       "⎢⢿⡆⠀⠀⠘⠛⠙⠛⢻⣶⣶⣶⡆⠀⠀⠀⠀⠀⠀⠀⠀⠀⠀⠀⠀⠀⠀⠀⠀⠀⠀⠀⠀⠀⠀⠀⠀⠀⠀⠀⎥\n",
       "⎢⣿⡆⠀⠀⠀⠀⠀⠀⢸⣿⣿⣿⡇⠀⠀⠀⠀⠀⠀⠀⠀⠀⠀⠀⠀⠀⠀⠀⠀⠀⠀⠀⠀⠀⠀⠀⠀⠀⠀⠀⎥\n",
       "⎢⠟⣿⠀⠀⠀⠀⠀⠀⠈⠉⠉⠉⣿⣿⡃⠀⠀⠀⠀⠀⠀⠀⠀⠀⠀⠀⠀⠀⠀⠀⠀⠀⠀⠀⠀⠀⠀⠀⠀⠀⎥\n",
       "⎢⠃⣿⠃⠀⠀⠀⠀⠀⠀⠀⠀⠀⠉⠈⣿⣿⡃⠀⠀⠀⠀⠀⠀⠀⠀⠀⠀⠀⠀⠀⠀⠀⠀⠀⠀⠀⠀⠀⠀⠀⎥\n",
       "⎢⠅⠍⣿⡇⠀⠀⠀⠀⠀⠀⠀⠀⠀⠀⠉⠈⣿⣿⡛⠻⠯⠅⠀⠀⠀⠀⠀⠀⠀⠀⠀⠀⠀⠀⠀⠀⠀⠀⠀⠀⎥\n",
       "⎢⠀⠀⣿⡇⠀⠀⠀⠀⠀⠀⠀⠀⠀⠀⠀⠀⣿⡈⠻⣦⡀⠀⠀⠀⠀⠀⠀⠀⠀⠀⠀⠀⠀⠀⠀⠀⠀⠀⠀⠀⎥\n",
       "⎢⠄⠄⢿⣧⡄⠀⠀⠀⠀⠀⠀⠀⠀⠀⠀⠀⠏⠇⠀⠈⠻⣦⡤⣤⣤⡤⠀⠀⠀⠀⠀⠀⠀⠀⠀⠀⠀⠀⠀⠀⎥\n",
       "⎢⠁⠁⢸⣿⡇⠀⠀⠀⠀⠀⠀⠀⠀⠀⠀⠀⠀⠀⠀⠀⠀⣯⠻⣦⡀⠉⠀⠀⠀⠀⠀⠀⠀⠀⠀⠀⠀⠀⠀⠀⎥\n",
       "⎢⠀⠀⢸⣿⠀⠀⠀⠀⠀⠀⠀⠀⠀⠀⠀⠀⠀⠀⠀⠀⠀⡿⡄⠈⠻⣦⢀⣀⣀⣀⣀⣀⣀⣀⡀⣀⣀⠀⠀⠀⎥\n",
       "⎢⠀⠀⣶⠀⡆⠀⠀⠀⠀⠀⠀⠀⠀⠀⠀⠀⠀⠀⠀⠀⠀⠀⠀⠀⠀⢰⣿⣿⣿⣿⣿⣿⣿⣿⣿⣿⣿⠀⠀⠀⎥\n",
       "⎢⠉⠀⣿⠀⠃⠀⠀⠀⠀⠀⠀⠀⠀⠀⠀⠀⠀⠀⠀⠀⠀⠀⠀⠀⠀⢸⣿⣿⣿⣿⣿⣿⣿⣿⣿⣿⣟⠀⠀⠀⎥\n",
       "⎢⠀⠀⣒⠀⡃⠀⠀⠀⠀⠀⠀⠀⠀⠀⠀⠀⠀⠀⠀⠀⠀⠀⠀⠀⠀⢸⣿⣿⣿⣿⣿⣿⣿⣿⣿⣿⣿⠀⠀⠀⎥\n",
       "⎢⠀⠀⡿⠀⡇⠀⠀⠀⠀⠀⠀⠀⠀⠀⠀⠀⠀⠀⠀⠀⠀⠀⠀⠀⠀⢸⣿⣿⣿⣿⣿⣿⣿⣿⣿⣻⣿⠀⠀⠀⎥\n",
       "⎢⣤⠀⣿⠀⡇⠀⠀⠀⠀⠀⠀⠀⠀⠀⠀⠀⠀⠀⠀⠀⠀⠀⠀⠀⠀⢨⣿⣿⣿⣿⣿⣿⣿⣻⣻⣾⣿⠀⠀⠀⎥\n",
       "⎢⣿⢰⡟⠀⣷⠀⠀⠀⠀⠀⠀⠀⠀⠀⠀⠀⠀⠀⠀⠀⠀⠀⠀⠀⠀⠘⠛⠛⠛⠙⠛⠛⠛⠛⠛⠛⢻⣶⡆⠀⎥\n",
       "⎣⣿⠿⠀⠀⣻⠀⠀⠀⠀⠀⠀⠀⠀⠀⠀⠀⠀⠀⠀⠀⠀⠀⠀⠀⠀⠀⠀⠀⠀⠀⠀⠀⠀⠀⠀⠀⠈⠉⣿⣿⎦"
      ]
     },
     "metadata": {},
     "output_type": "display_data"
    }
   ],
   "source": [
    "K = FEM.heatConductionMatrix(problem)"
   ]
  },
  {
   "cell_type": "code",
   "execution_count": 6,
   "metadata": {},
   "outputs": [
    {
     "data": {
      "text/plain": [
       "Tszoba (generic function with 1 method)"
      ]
     },
     "metadata": {},
     "output_type": "display_data"
    }
   ],
   "source": [
    "Tszoba(x, y, z) = 20 + 3 / 2500 * y"
   ]
  },
  {
   "cell_type": "code",
   "execution_count": 7,
   "metadata": {},
   "outputs": [],
   "source": [
    "belsofalj = FEM.heatConvection(\"belsofalj\", h=10, Tₐ=Tszoba)\n",
    "belsofalb = FEM.heatConvection(\"belsofalb\", h=10, Tₐ=Tszoba)\n",
    "padlo = FEM.heatConvection(\"padlo\", h=10, Tₐ=Tszoba)\n",
    "plafon = FEM.heatConvection(\"plafon\", h=10, Tₐ=Tszoba)\n",
    "levego = FEM.heatConvection(\"levego\", h=20, Tₐ=-10)\n",
    "talaj = FEM.heatConvection(\"talaj\", h=100, Tₐ=0)\n",
    "\n",
    "lv = FEM.heatFlux(\"padlo\", qn=0);"
   ]
  },
  {
   "cell_type": "code",
   "execution_count": 8,
   "metadata": {},
   "outputs": [],
   "source": [
    "f = FEM.heatFluxVector(problem, [lv]);"
   ]
  },
  {
   "cell_type": "code",
   "execution_count": 9,
   "metadata": {},
   "outputs": [],
   "source": [
    "FEM.applyHeatConvection!(problem, K, f, [talaj, levego, padlo, plafon, belsofalj, belsofalb])"
   ]
  },
  {
   "cell_type": "code",
   "execution_count": 10,
   "metadata": {},
   "outputs": [],
   "source": [
    "T = FEM.solveTemperature(K, f);"
   ]
  },
  {
   "cell_type": "code",
   "execution_count": 11,
   "metadata": {},
   "outputs": [],
   "source": [
    "q = FEM.solveHeatFlux(problem, T);"
   ]
  },
  {
   "cell_type": "code",
   "execution_count": 12,
   "metadata": {},
   "outputs": [],
   "source": [
    "T1 = FEM.showDoFResults(problem, T, \"T\", visible=true);"
   ]
  },
  {
   "cell_type": "code",
   "execution_count": 13,
   "metadata": {},
   "outputs": [
    {
     "name": "stdout",
     "output_type": "stream",
     "text": [
      "Info    : Running Plugin(Smooth)...\n",
      "Info    : Done running Plugin(Smooth)\n"
     ]
    },
    {
     "data": {
      "text/plain": [
       "2"
      ]
     },
     "metadata": {},
     "output_type": "display_data"
    }
   ],
   "source": [
    "q1 = FEM.showElementResults(problem, q, \"qvec\")"
   ]
  },
  {
   "cell_type": "code",
   "execution_count": 14,
   "metadata": {},
   "outputs": [],
   "source": [
    "#K = FEM.heatConductionMatrix(problem)\n",
    "#f = FEM.heatFluxVector(problem, [lv]);\n",
    "#FEM.applyHeatConvection!(problem, K, f, [talaj, levego, padlo, plafon, belsofalj, belsofalb])"
   ]
  },
  {
   "cell_type": "code",
   "execution_count": 15,
   "metadata": {},
   "outputs": [],
   "source": [
    "#fQ = K * T - f;"
   ]
  },
  {
   "cell_type": "code",
   "execution_count": 16,
   "metadata": {},
   "outputs": [],
   "source": [
    "Kcv0 = FEM.heatConvectionMatrix(problem, [talaj, levego, padlo, plafon, belsofalj, belsofalb])\n",
    "qcv0 = FEM.heatConvectionVector(problem, [talaj, levego, padlo, plafon, belsofalj, belsofalb])\n",
    "qcv = Kcv0 * T - qcv0;"
   ]
  },
  {
   "cell_type": "code",
   "execution_count": 17,
   "metadata": {},
   "outputs": [
    {
     "data": {
      "text/plain": [
       "3"
      ]
     },
     "metadata": {},
     "output_type": "display_data"
    }
   ],
   "source": [
    "fq = FEM.showDoFResults(problem, qcv, \"qn\")"
   ]
  },
  {
   "cell_type": "code",
   "execution_count": 18,
   "metadata": {},
   "outputs": [
    {
     "data": {
      "text/plain": [
       "-29.25267177057458"
      ]
     },
     "metadata": {},
     "output_type": "display_data"
    }
   ],
   "source": [
    "q_pl = FEM.resultant(qcv, \"plafon\", dim=1)"
   ]
  },
  {
   "cell_type": "code",
   "execution_count": 19,
   "metadata": {},
   "outputs": [
    {
     "data": {
      "text/plain": [
       "-58.626964797477285"
      ]
     },
     "metadata": {},
     "output_type": "display_data"
    }
   ],
   "source": [
    "q_pa = FEM.resultant(qcv, \"padlo\", dim=1)"
   ]
  },
  {
   "cell_type": "code",
   "execution_count": 20,
   "metadata": {},
   "outputs": [
    {
     "data": {
      "text/plain": [
       "-16.563062639167356"
      ]
     },
     "metadata": {},
     "output_type": "display_data"
    }
   ],
   "source": [
    "q_fj = FEM.resultant(qcv, \"belsofalj\", dim=1)"
   ]
  },
  {
   "cell_type": "code",
   "execution_count": 21,
   "metadata": {},
   "outputs": [
    {
     "data": {
      "text/plain": [
       "-16.62409500905642"
      ]
     },
     "metadata": {},
     "output_type": "display_data"
    }
   ],
   "source": [
    "q_fb = FEM.resultant(qcv, \"belsofalb\", dim=1)"
   ]
  },
  {
   "cell_type": "code",
   "execution_count": 22,
   "metadata": {},
   "outputs": [
    {
     "data": {
      "text/plain": [
       "106.42525306954167"
      ]
     },
     "metadata": {},
     "output_type": "display_data"
    }
   ],
   "source": [
    "q_lev = FEM.resultant(qcv, \"levego\", dim=1)"
   ]
  },
  {
   "cell_type": "code",
   "execution_count": 23,
   "metadata": {},
   "outputs": [
    {
     "data": {
      "text/plain": [
       "-9.866287567387012"
      ]
     },
     "metadata": {},
     "output_type": "display_data"
    }
   ],
   "source": [
    "q_ta = FEM.resultant(qcv, \"talaj\", dim=1)"
   ]
  },
  {
   "cell_type": "code",
   "execution_count": 24,
   "metadata": {},
   "outputs": [
    {
     "data": {
      "text/plain": [
       "-121.06679421627564"
      ]
     },
     "metadata": {},
     "output_type": "display_data"
    }
   ],
   "source": [
    "q_pa + q_pl + q_fj + q_fb"
   ]
  },
  {
   "cell_type": "code",
   "execution_count": 25,
   "metadata": {},
   "outputs": [
    {
     "data": {
      "text/plain": [
       "96.55896550215465"
      ]
     },
     "metadata": {},
     "output_type": "display_data"
    }
   ],
   "source": [
    "q_lev + q_ta"
   ]
  },
  {
   "cell_type": "code",
   "execution_count": 26,
   "metadata": {},
   "outputs": [
    {
     "data": {
      "text/plain": [
       "617.0158074579977"
      ]
     },
     "metadata": {},
     "output_type": "display_data"
    }
   ],
   "source": [
    "-(q_pl + q_pa + 2 * (q_fb + q_fj)) * 4"
   ]
  },
  {
   "cell_type": "code",
   "execution_count": 27,
   "metadata": {},
   "outputs": [
    {
     "name": "stdout",
     "output_type": "stream",
     "text": [
      "-------------------------------------------------------\n",
      "Version       : 4.13.1\n",
      "License       : GNU General Public License\n",
      "Build OS      : Linux64-sdk\n",
      "Build date    : 19700101\n",
      "Build host    : amdci7.julia.csail.mit.edu\n",
      "Build options : 64Bit ALGLIB[contrib] ANN[contrib] Bamg Blossom Cairo DIntegration Dlopen DomHex Eigen[contrib] Fltk GMP Gmm[contrib] Hxt Jpeg Kbipack LinuxJoystick MathEx[contrib] Mesh Metis[contrib] Mmg Mpeg Netgen Nii2mesh ONELAB ONELABMetamodel OpenCASCADE OpenCASCADE-CAF OpenGL OpenMP OptHom Parser Plugins Png Post QuadMeshingTools QuadTri Solver TetGen/BR TinyXML2[contrib] Untangle Voro++[contrib] WinslowUntangler Zlib\n",
      "FLTK version  : 1.3.8\n",
      "OCC version   : 7.7.2\n",
      "Packaged by   : root\n",
      "Web site      : https://gmsh.info\n",
      "Issue tracker : https://gitlab.onelab.info/gmsh/gmsh/issues\n",
      "-------------------------------------------------------\n"
     ]
    },
    {
     "name": "stderr",
     "output_type": "stream",
     "text": [
      "XOpenIM() failed\n",
      "XRequest.18: BadValue 0x0\n"
     ]
    }
   ],
   "source": [
    "gmsh.fltk.run()"
   ]
  },
  {
   "cell_type": "code",
   "execution_count": 28,
   "metadata": {},
   "outputs": [],
   "source": [
    "gmsh.finalize()"
   ]
  }
 ],
 "metadata": {
  "kernelspec": {
   "display_name": "Julia 1.11.1",
   "language": "julia",
   "name": "julia-1.11"
  },
  "language_info": {
   "file_extension": ".jl",
   "mimetype": "application/julia",
   "name": "julia",
   "version": "1.11.1"
  }
 },
 "nbformat": 4,
 "nbformat_minor": 2
}
