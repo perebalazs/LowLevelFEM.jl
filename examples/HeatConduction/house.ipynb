{
 "cells": [
  {
   "cell_type": "code",
   "execution_count": 137,
   "metadata": {},
   "outputs": [],
   "source": [
    "import LowLevelFEM as FEM\n",
    "using LowLevelFEM\n",
    "\n",
    "gmsh.initialize()"
   ]
  },
  {
   "cell_type": "code",
   "execution_count": 138,
   "metadata": {},
   "outputs": [
    {
     "name": "stdout",
     "output_type": "stream",
     "text": [
      "Info    : Reading 'house.geo'...\n",
      "Info    : Meshing 1D...                                                                                                                         \n",
      "Info    : [  0%] Meshing curve 1 (Line)\n",
      "Info    : [ 10%] Meshing curve 2 (Line)\n",
      "Info    : [ 10%] Meshing curve 3 (Line)\n",
      "Info    : [ 10%] Meshing curve 4 (Line)\n",
      "Info    : [ 20%] Meshing curve 5 (Line)\n",
      "Info    : [ 20%] Meshing curve 6 (Line)\n",
      "Info    : [ 20%] Meshing curve 7 (Line)\n",
      "Info    : [ 30%] Meshing curve 8 (Line)\n",
      "Info    : [ 30%] Meshing curve 9 (Line)\n",
      "Info    : [ 30%] Meshing curve 10 (Line)\n",
      "Info    : [ 40%] Meshing curve 11 (Line)\n",
      "Info    : [ 40%] Meshing curve 12 (Line)\n",
      "Info    : [ 40%] Meshing curve 13 (Line)\n",
      "Info    : [ 40%] Meshing curve 14 (Line)\n",
      "Info    : [ 50%] Meshing curve 15 (Line)\n",
      "Info    : [ 50%] Meshing curve 16 (Line)\n",
      "Info    : [ 50%] Meshing curve 17 (Line)\n",
      "Info    : [ 60%] Meshing curve 18 (Line)\n",
      "Info    : [ 60%] Meshing curve 19 (Line)\n",
      "Info    : [ 60%] Meshing curve 20 (Line)\n",
      "Info    : [ 70%] Meshing curve 21 (Line)\n",
      "Info    : [ 70%] Meshing curve 22 (Line)\n",
      "Info    : [ 70%] Meshing curve 23 (Line)\n",
      "Info    : [ 70%] Meshing curve 24 (Line)\n",
      "Info    : [ 80%] Meshing curve 25 (Line)\n",
      "Info    : [ 80%] Meshing curve 26 (Line)\n",
      "Info    : [ 80%] Meshing curve 27 (Line)\n",
      "Info    : [ 90%] Meshing curve 28 (Line)\n",
      "Info    : [ 90%] Meshing curve 29 (Line)\n",
      "Info    : [ 90%] Meshing curve 30 (Line)\n",
      "Info    : [100%] Meshing curve 31 (Line)\n",
      "Info    : [100%] Meshing curve 32 (Line)\n",
      "Info    : [100%] Meshing curve 33 (Line)\n",
      "Info    : Done meshing 1D (Wall 0.0248933s, CPU 0.014515s)\n",
      "Info    : Meshing 2D...\n",
      "Info    : [  0%] Meshing surface 1 (Plane, Frontal-Delaunay)\n",
      "Info    : [  0%] Blossom: 1966 internal 160 closed\n",
      "Info    : [  0%] Blossom recombination completed (Wall 0.0505889s, CPU 0.050294s): 667 quads, 0 triangles, 0 invalid quads, 0 quads with Q < 0.1, avg Q = 0.769666, min Q = 0.429787\n",
      "Info    : [ 20%] Meshing surface 2 (Plane, Frontal-Delaunay)\n",
      "Info    : [ 20%] Blossom: 1972 internal 160 closed\n",
      "Info    : [ 20%] Blossom recombination completed (Wall 0.0501487s, CPU 0.0497s): 667 quads, 0 triangles, 0 invalid quads, 0 quads with Q < 0.1, avg Q = 0.781675, min Q = 0.454181\n",
      "Info    : [ 30%] Meshing surface 3 (Plane, Frontal-Delaunay)\n",
      "Info    : [ 30%] Blossom: 1311 internal 192 closed\n",
      "Info    : [ 30%] Blossom recombination completed (Wall 0.0275977s, CPU 0.027421s): 467 quads, 0 triangles, 0 invalid quads, 0 quads with Q < 0.1, avg Q = 0.815051, min Q = 0.502956\n",
      "Info    : [ 40%] Meshing surface 4 (Plane, Frontal-Delaunay)\n",
      "Info    : [ 40%] Blossom: 1618 internal 196 closed\n",
      "Info    : [ 40%] Blossom recombination completed (Wall 0.0312014s, CPU 0.031174s): 568 quads, 0 triangles, 0 invalid quads, 0 quads with Q < 0.1, avg Q = 0.876855, min Q = 0.506446\n",
      "Info    : [ 50%] Meshing surface 5 (Plane, Frontal-Delaunay)\n",
      "Info    : [ 50%] Blossom: 2610 internal 480 closed\n",
      "Info    : [ 50%] Blossom recombination completed (Wall 0.0658859s, CPU 0.065128s): 947 quads, 0 triangles, 0 invalid quads, 0 quads with Q < 0.1, avg Q = 0.807166, min Q = 0.441764\n",
      "Info    : [ 60%] Meshing surface 6 (Plane, Frontal-Delaunay)\n",
      "Info    : [ 60%] Blossom: 2610 internal 480 closed\n",
      "Info    : [ 60%] Blossom recombination completed (Wall 0.0615128s, CPU 0.061196s): 949 quads, 0 triangles, 0 invalid quads, 0 quads with Q < 0.1, avg Q = 0.8702, min Q = 0.55529\n",
      "Info    : [ 70%] Meshing surface 7 (Plane, Frontal-Delaunay)\n",
      "Info    : [ 70%] Blossom: 5711 internal 380 closed\n",
      "Info    : [ 70%] Blossom recombination completed (Wall 0.150417s, CPU 0.15038s): 1907 quads, 0 triangles, 0 invalid quads, 0 quads with Q < 0.1, avg Q = 0.763281, min Q = 0.392303\n",
      "Info    : [ 80%] Meshing surface 8 (Plane, Frontal-Delaunay)\n",
      "Info    : [ 80%] Blossom: 704 internal 134 closed\n",
      "Info    : [ 80%] Blossom recombination completed (Wall 0.0113433s, CPU 0.011321s): 257 quads, 0 triangles, 0 invalid quads, 0 quads with Q < 0.1, avg Q = 0.728334, min Q = 0.523357\n",
      "Info    : [ 90%] Meshing surface 9 (Plane, Frontal-Delaunay)\n",
      "Info    : [ 90%] Blossom: 704 internal 134 closed\n",
      "Info    : [ 90%] Blossom recombination completed (Wall 0.0110009s, CPU 0.010999s): 257 quads, 0 triangles, 0 invalid quads, 0 quads with Q < 0.1, avg Q = 0.7279, min Q = 0.503504\n",
      "Info    : Done meshing 2D (Wall 1.00079s, CPU 0.995927s)\n",
      "Info    : Meshing order 2 (curvilinear on)...\n",
      "Info    : [  0%] Meshing curve 1 order 2\n",
      "Info    : [ 10%] Meshing curve 2 order 2\n",
      "Info    : [ 10%] Meshing curve 3 order 2\n",
      "Info    : [ 10%] Meshing curve 4 order 2\n",
      "Info    : [ 10%] Meshing curve 5 order 2\n",
      "Info    : [ 20%] Meshing curve 6 order 2\n",
      "Info    : [ 20%] Meshing curve 7 order 2\n",
      "Info    : [ 20%] Meshing curve 8 order 2\n",
      "Info    : [ 20%] Meshing curve 9 order 2\n",
      "Info    : [ 30%] Meshing curve 10 order 2\n",
      "Info    : [ 30%] Meshing curve 11 order 2\n",
      "Info    : [ 30%] Meshing curve 12 order 2\n",
      "Info    : [ 30%] Meshing curve 13 order 2\n",
      "Info    : [ 40%] Meshing curve 14 order 2\n",
      "Info    : [ 40%] Meshing curve 15 order 2\n",
      "Info    : [ 40%] Meshing curve 16 order 2\n",
      "Info    : [ 40%] Meshing curve 17 order 2\n",
      "Info    : [ 50%] Meshing curve 18 order 2\n",
      "Info    : [ 50%] Meshing curve 19 order 2\n",
      "Info    : [ 50%] Meshing curve 20 order 2\n",
      "Info    : [ 50%] Meshing curve 21 order 2\n",
      "Info    : [ 60%] Meshing curve 22 order 2\n",
      "Info    : [ 60%] Meshing curve 23 order 2\n",
      "Info    : [ 60%] Meshing curve 24 order 2\n",
      "Info    : [ 60%] Meshing curve 25 order 2\n",
      "Info    : [ 60%] Meshing curve 26 order 2\n",
      "Info    : [ 70%] Meshing curve 27 order 2\n",
      "Info    : [ 70%] Meshing curve 28 order 2\n",
      "Info    : [ 70%] Meshing curve 29 order 2\n",
      "Info    : [ 70%] Meshing curve 30 order 2\n",
      "Info    : [ 80%] Meshing curve 31 order 2\n",
      "Info    : [ 80%] Meshing curve 32 order 2\n",
      "Info    : [ 80%] Meshing curve 33 order 2\n",
      "Info    : [ 80%] Meshing surface 1 order 2\n",
      "Info    : [ 90%] Meshing surface 2 order 2\n",
      "Info    : [ 90%] Meshing surface 3 order 2\n",
      "Info    : [ 90%] Meshing surface 4 order 2\n",
      "Info    : [ 90%] Meshing surface 5 order 2\n",
      "Info    : [100%] Meshing surface 6 order 2\n",
      "Info    : [100%] Meshing surface 7 order 2\n",
      "Info    : [100%] Meshing surface 8 order 2\n",
      "Info    : [100%] Meshing surface 9 order 2\n",
      "Info    : Done meshing order 2 (Wall 0.104695s, CPU 0.104686s)\n",
      "Info    : 27564 nodes 8278 elements\n",
      "Info    : Done reading 'house.geo'\n"
     ]
    }
   ],
   "source": [
    "gmsh.open(\"house.geo\")"
   ]
  },
  {
   "cell_type": "code",
   "execution_count": 139,
   "metadata": {},
   "outputs": [
    {
     "name": "stdout",
     "output_type": "stream",
     "text": [
      "Info    : RCMK renumbering...\n",
      "Info    : Done RCMK renumbering (bandwidth is now 308)\n"
     ]
    },
    {
     "data": {
      "text/plain": [
       "LowLevelFEM.Problem(\"house\", \"PlaneHeatConduction\", 2, 1, LowLevelFEM.Material[LowLevelFEM.Material(\"tegla\", 200000.0, 0.3, 7.85e-9, 0.155, 4.2e8, 1.2e-5), LowLevelFEM.Material(\"beton\", 200000.0, 0.3, 7.85e-9, 1.55, 4.2e8, 1.2e-5), LowLevelFEM.Material(\"hungarocell\", 200000.0, 0.3, 7.85e-9, 0.04, 4.2e8, 1.2e-5), LowLevelFEM.Material(\"kgyapot\", 200000.0, 0.3, 7.85e-9, 0.04, 4.2e8, 1.2e-5)], 1.0, 27564)"
      ]
     },
     "metadata": {},
     "output_type": "display_data"
    }
   ],
   "source": [
    "tegla = FEM.material(\"tegla\", k=0.155)\n",
    "beton = FEM.material(\"beton\", k=1.55)\n",
    "hungarocell = FEM.material(\"hungarocell\", k=0.04)\n",
    "kgyapot = FEM.material(\"kgyapot\", k=0.04)\n",
    "\n",
    "problem = FEM.Problem([tegla, beton, hungarocell, kgyapot], type=\"PlaneHeatConduction\")"
   ]
  },
  {
   "cell_type": "code",
   "execution_count": 140,
   "metadata": {},
   "outputs": [
    {
     "data": {
      "text/plain": [
       "27564×27564 SparseArrays.SparseMatrixCSC{Float64, Int64} with 431184 stored entries:\n",
       "⎡⣿⣿⡭⠭⣛⠛⠛⠛⠿⠿⠶⢿⣿⣼⣯⣤⣬⣭⡅⡀⡅⢨⠅⠅⠀⠀⢸⠀⣛⡛⠛⣙⠚⢛⢛⣛⠋⣛⣿⣟⎤\n",
       "⎢⡇⡏⠻⣦⡀⠀⠀⠀⠀⠀⠀⠀⠀⠀⠀⠀⠀⠿⠿⠿⠿⠸⣶⣶⣶⣶⣾⠀⠛⠛⠛⠛⠛⠛⠛⠛⠛⠀⠀⠀⎥\n",
       "⎢⣿⠘⠀⠈⢻⣶⣶⣶⡆⠀⠀⠀⠀⠀⠀⠀⠀⠀⠀⠀⠀⠀⠉⠉⠉⠈⠉⠀⠉⠉⠉⠉⠉⠉⠉⠉⠉⠛⠛⠛⎥\n",
       "⎢⣿⠀⠀⠀⢸⣿⣿⣿⡇⠀⠀⠀⠀⠀⠀⠀⠀⠀⠀⠀⠀⠀⠀⠀⠀⠀⠀⠀⠀⠀⠀⠀⠀⠀⠀⠀⠀⠀⠀⠀⎥\n",
       "⎢⣿⡇⠀⠀⠈⠉⠉⠉⣿⣿⣿⣿⠀⠀⠀⠀⠀⠀⠀⠀⠀⠀⠀⠀⠀⠀⠀⠀⠀⠀⠀⠀⠀⠀⠀⠀⠀⠀⠀⠀⎥\n",
       "⎢⣼⣇⠀⠀⠀⠀⠀⠀⣿⣿⣿⣿⣀⣀⡀⠀⠀⠀⠀⠀⠀⠀⠀⠀⠀⠀⠀⠀⠀⠀⠀⠀⠀⠀⠀⠀⠀⠀⠀⠀⎥\n",
       "⎢⣛⣿⠀⠀⠀⠀⠀⠀⠀⠀⠀⢸⣿⣿⡇⠀⠀⠀⠀⠀⠀⠀⠀⠀⠀⠀⠀⠀⠀⠀⠀⠀⠀⠀⠀⠀⠀⠀⠀⠀⎥\n",
       "⎢⠋⣿⠀⠀⠀⠀⠀⠀⠀⠀⠀⠈⠉⠉⣿⣿⣿⡇⠀⠀⠀⠀⠀⠀⠀⠀⠀⠀⠀⠀⠀⠀⠀⠀⠀⠀⠀⠀⠀⠀⎥\n",
       "⎢⡆⣿⣤⡄⠀⠀⠀⠀⠀⠀⠀⠀⠀⠀⠿⠿⠿⣧⣤⣤⣤⣤⡄⠀⠀⠀⠀⠀⠀⠀⠀⠀⠀⠀⠀⠀⠀⠀⠀⠀⎥\n",
       "⎢⠁⠩⣿⡇⠀⠀⠀⠀⠀⠀⠀⠀⠀⠀⠀⠀⠀⣿⣿⣿⣿⣿⠃⠀⠀⠀⠀⠀⠀⠀⠀⠀⠀⠀⠀⠀⠀⠀⠀⠀⎥\n",
       "⎢⡁⣉⣛⡃⠀⠀⠀⠀⠀⠀⠀⠀⠀⠀⠀⠀⠀⣿⣿⣿⣿⣿⡇⠀⠀⠀⠀⠀⠀⠀⠀⠀⠀⠀⠀⠀⠀⠀⠀⠀⎥\n",
       "⎢⠅⠅⢸⣿⡇⠀⠀⠀⠀⠀⠀⠀⠀⠀⠀⠀⠀⠉⠉⠀⠉⠉⣿⣿⣿⣿⣿⠀⠀⠀⠀⠀⠀⠀⠀⠀⠀⠀⠀⠀⎥\n",
       "⎢⠀⠀⢸⣿⡃⠀⠀⠀⠀⠀⠀⠀⠀⠀⠀⠀⠀⠀⠀⠀⠀⠀⣿⣿⣿⣿⣿⠀⠀⠀⠀⠀⠀⠀⠀⠀⠀⠀⠀⠀⎥\n",
       "⎢⠒⠒⠚⠛⠃⠀⠀⠀⠀⠀⠀⠀⠀⠀⠀⠀⠀⠀⠀⠀⠀⠀⠛⠛⠛⠛⢻⣶⣶⣶⣶⣶⣶⣶⣶⣶⣶⡆⠀⠀⎥\n",
       "⎢⣿⠸⣿⠀⡇⠀⠀⠀⠀⠀⠀⠀⠀⠀⠀⠀⠀⠀⠀⠀⠀⠀⠀⠀⠀⠀⢸⣿⣿⣿⣿⣿⣿⣿⣿⣿⣿⡇⠀⠀⎥\n",
       "⎢⣟⢠⣿⠀⡇⠀⠀⠀⠀⠀⠀⠀⠀⠀⠀⠀⠀⠀⠀⠀⠀⠀⠀⠀⠀⠀⢸⣿⣿⣿⣿⣿⣿⣿⣿⣿⣿⡇⠀⠀⎥\n",
       "⎢⣾⢀⣿⠀⡇⠀⠀⠀⠀⠀⠀⠀⠀⠀⠀⠀⠀⠀⠀⠀⠀⠀⠀⠀⠀⠀⢸⣿⣿⣿⣿⣿⣿⣿⣿⣿⣿⡇⠀⠀⎥\n",
       "⎢⣿⢰⣿⠀⡇⠀⠀⠀⠀⠀⠀⠀⠀⠀⠀⠀⠀⠀⠀⠀⠀⠀⠀⠀⠀⠀⢸⣿⣿⣿⣿⣿⣿⣿⣿⣿⣿⡇⠀⠀⎥\n",
       "⎢⣯⢠⠛⠀⣧⠀⠀⠀⠀⠀⠀⠀⠀⠀⠀⠀⠀⠀⠀⠀⠀⠀⠀⠀⠀⠀⠸⠿⠿⠿⠿⠿⠿⠿⠿⠿⠿⣧⡄⠀⎥\n",
       "⎣⣿⢿⠀⠀⣿⠀⠀⠀⠀⠀⠀⠀⠀⠀⠀⠀⠀⠀⠀⠀⠀⠀⠀⠀⠀⠀⠀⠀⠀⠀⠀⠀⠀⠀⠀⠀⠀⠉⣿⣿⎦"
      ]
     },
     "metadata": {},
     "output_type": "display_data"
    }
   ],
   "source": [
    "K = FEM.heatConductionMatrix(problem)"
   ]
  },
  {
   "cell_type": "code",
   "execution_count": 141,
   "metadata": {},
   "outputs": [
    {
     "data": {
      "text/plain": [
       "fal (generic function with 1 method)"
      ]
     },
     "metadata": {},
     "output_type": "display_data"
    }
   ],
   "source": [
    "fal(x, y, z) = 15 + 8 / 2500 * y"
   ]
  },
  {
   "cell_type": "code",
   "execution_count": 142,
   "metadata": {},
   "outputs": [],
   "source": [
    "talaj = FEM.temperatureConstraint(\"talaj\", T=0)\n",
    "#belsofal = FEM.temperatureConstraint(\"belsofal\", T=fal)\n",
    "#padlo = FEM.temperatureConstraint(\"padlo\", T=15)\n",
    "#plafon = FEM.temperatureConstraint(\"plafon\", T=23)\n",
    "belsofalj = FEM.heatConvection(\"belsofalj\", h=10, Tₐ=20)\n",
    "belsofalb = FEM.heatConvection(\"belsofalb\", h=10, Tₐ=20)\n",
    "padlo = FEM.heatConvection(\"padlo\", h=10, Tₐ=20)\n",
    "plafon = FEM.heatConvection(\"plafon\", h=10, Tₐ=20)\n",
    "levego = FEM.heatConvection(\"levego\", h=10, Tₐ=-10)\n",
    "lv = FEM.heatFlux(\"padlo\", qn=0);"
   ]
  },
  {
   "cell_type": "code",
   "execution_count": 143,
   "metadata": {},
   "outputs": [],
   "source": [
    "f = FEM.heatFluxVector(problem, [lv]);"
   ]
  },
  {
   "cell_type": "code",
   "execution_count": 144,
   "metadata": {},
   "outputs": [],
   "source": [
    "FEM.applyHeatConvection!(problem, K, f, [levego, padlo, plafon, belsofalj, belsofalb])"
   ]
  },
  {
   "cell_type": "code",
   "execution_count": 145,
   "metadata": {},
   "outputs": [],
   "source": [
    "#FEM.applyBoundaryConditions!(problem, K, f, [talaj, belsofal, padlo, plafon])\n",
    "FEM.applyBoundaryConditions!(problem, K, f, [talaj])"
   ]
  },
  {
   "cell_type": "code",
   "execution_count": 146,
   "metadata": {},
   "outputs": [
    {
     "data": {
      "text/plain": [
       "27564-element Vector{Float64}:\n",
       " -0.22455841998244655\n",
       "  2.5500132255927705\n",
       " 17.608594890200003\n",
       " 19.984882883309727\n",
       " 19.942877183426766\n",
       " 15.538861280115647\n",
       "  2.5497198303711746\n",
       " -0.22065186504020057\n",
       " 15.536531332231048\n",
       " 19.942908812381518\n",
       "  ⋮\n",
       " -5.363431843631105\n",
       " -0.7166152549722695\n",
       " -9.154800235676262\n",
       " -6.9889672892930115\n",
       " -0.011435764857461152\n",
       " -9.307239860099372\n",
       " -0.8471887710510468\n",
       " -2.4924698342258704\n",
       " -0.690271649077193"
      ]
     },
     "metadata": {},
     "output_type": "display_data"
    }
   ],
   "source": [
    "T = FEM.solveTemperature(K, f)"
   ]
  },
  {
   "cell_type": "code",
   "execution_count": 147,
   "metadata": {},
   "outputs": [
    {
     "data": {
      "text/plain": [
       "LowLevelFEM.VectorField([[-0.005451272652227776; -0.0006767941101187236; … ; -0.0007569446128479148; 0.0;;], [-0.005273972873619548; -8.855362949375167e-5; … ; -7.835887665973374e-5; 0.0;;], [-0.005451765207758763; -0.0006780100841879622; … ; -0.0005795494062178547; 0.0;;], [-0.01160082539169116; -0.0010899549732304207; … ; -0.0014022487704891046; 0.0;;], [-0.004878663238341642; -0.0009313957170997566; … ; -0.0008457586020743943; 0.0;;], [-0.005205675996875329; -0.00023413882535033848; … ; -0.00019833145306400262; 0.0;;], [-0.004496957350349; -0.000649549722488093; … ; -6.435028354459832e-5; 0.0;;], [-0.005688618105723242; -0.0018305888176314243; … ; -0.0021213696778588304; 0.0;;], [-0.005276604275344247; -5.824530082129408e-6; … ; -5.898019637630564e-6; 0.0;;], [-0.01232778427823906; -0.0027566672285422623; … ; -0.0018627262936613104; 0.0;;]  …  [0.0011637651766144863; 0.0028637997663849292; … ; 0.0030336982633982195; 0.0;;], [-0.0026518624609547657; 0.0036501936194766028; … ; 0.004878911581966323; 0.0;;], [-0.002498763831159694; 0.003954167419624014; … ; 0.004303593425412074; 0.0;;], [0.0009719245619785781; 0.003952091787031513; … ; 0.0036743165177193517; 0.0;;], [-0.0005370856230041554; 0.0033963068080263524; … ; 0.0035033016808772638; 0.0;;], [0.0025220358991783353; 0.003924949874772486; … ; 0.004255391835229019; 0.0;;], [-7.937677420301881e-6; 0.0047093861285653; … ; 0.004702575482403307; 0.0;;], [5.788962336851889e-5; 0.004691081013967038; … ; 0.0046956649672086756; 0.0;;], [1.0120713571350367e-6; 0.004705900074533711; … ; 0.004704081555865434; 0.0;;], [-3.765816808543043e-7; 0.004702449565908658; … ; 0.004702687095245689; 0.0;;]], [1593, 1594, 1595, 1596, 1597, 1598, 1599, 1600, 1601, 1602  …  3952, 3953, 3954, 3955, 3956, 3957, 3958, 3959, 3960, 3961], 1, \"q\")"
      ]
     },
     "metadata": {},
     "output_type": "display_data"
    }
   ],
   "source": [
    "q = FEM.solveHeatFlux(problem, T)"
   ]
  },
  {
   "cell_type": "code",
   "execution_count": 148,
   "metadata": {},
   "outputs": [
    {
     "data": {
      "text/plain": [
       "55128×1 Matrix{Float64}:\n",
       " -0.012782508503985091\n",
       " -0.004375356428595908\n",
       "  0.009866638036235323\n",
       " -0.021190806821526093\n",
       " -0.08140392596930159\n",
       " -0.0657019743777319\n",
       " -0.01766180072622749\n",
       " -0.03001707130821109\n",
       " -0.029673104133366702\n",
       "  0.041029184847619776\n",
       "  ⋮\n",
       " -0.0008758556750521027\n",
       "  0.0007435547047019498\n",
       "  0.0007807252810046961\n",
       "  0.003715155609125123\n",
       " -0.00048811168789340056\n",
       "  0.002301169547086415\n",
       "  0.0007703876783661802\n",
       "  0.006630714339629522\n",
       " -0.00021243613116768355"
      ]
     },
     "metadata": {},
     "output_type": "display_data"
    }
   ],
   "source": [
    "q2 = FEM.solveHeatFlux(problem, T, DoFResults=true)"
   ]
  },
  {
   "cell_type": "code",
   "execution_count": 149,
   "metadata": {},
   "outputs": [],
   "source": [
    "T1 = FEM.showDoFResults(problem, T, \"T\", visible=true);"
   ]
  },
  {
   "cell_type": "code",
   "execution_count": 150,
   "metadata": {},
   "outputs": [
    {
     "name": "stdout",
     "output_type": "stream",
     "text": [
      "Info    : Running Plugin(Smooth)...\n",
      "Info    : Done running Plugin(Smooth)\n"
     ]
    },
    {
     "data": {
      "text/plain": [
       "1"
      ]
     },
     "metadata": {},
     "output_type": "display_data"
    }
   ],
   "source": [
    "q1 = FEM.showElementResults(problem, q, \"qvec\")"
   ]
  },
  {
   "cell_type": "code",
   "execution_count": 151,
   "metadata": {},
   "outputs": [
    {
     "data": {
      "text/plain": [
       "2"
      ]
     },
     "metadata": {},
     "output_type": "display_data"
    }
   ],
   "source": [
    "q11 = FEM.showDoFResults(problem, q2, \"uvec\")"
   ]
  },
  {
   "cell_type": "code",
   "execution_count": 152,
   "metadata": {},
   "outputs": [
    {
     "data": {
      "text/plain": [
       "(0.0006095544740802576, 1.0170316042831453)"
      ]
     },
     "metadata": {},
     "output_type": "display_data"
    }
   ],
   "source": [
    "FEM.resultant(q2, \"plafon\", dim=2)"
   ]
  },
  {
   "cell_type": "code",
   "execution_count": 153,
   "metadata": {},
   "outputs": [
    {
     "data": {
      "text/plain": [
       "(3.868267018676563e-5, -6.8793950527810255)"
      ]
     },
     "metadata": {},
     "output_type": "display_data"
    }
   ],
   "source": [
    "FEM.resultant(q2, \"padlo\", dim=2)"
   ]
  },
  {
   "cell_type": "code",
   "execution_count": 154,
   "metadata": {},
   "outputs": [
    {
     "data": {
      "text/plain": [
       "(1.055938015607953, 0.004983786673187481)"
      ]
     },
     "metadata": {},
     "output_type": "display_data"
    }
   ],
   "source": [
    "FEM.resultant(q2, \"belsofalj\", dim=2)"
   ]
  },
  {
   "cell_type": "code",
   "execution_count": 155,
   "metadata": {},
   "outputs": [
    {
     "data": {
      "text/plain": [
       "(-1.055438359112537, 0.010990745546349191)"
      ]
     },
     "metadata": {},
     "output_type": "display_data"
    }
   ],
   "source": [
    "FEM.resultant(q2, \"belsofalb\", dim=2)"
   ]
  },
  {
   "cell_type": "code",
   "execution_count": 156,
   "metadata": {},
   "outputs": [],
   "source": [
    "#FEM.plotOnPath(problem, \"path\", T1, 100, name=\"T\", visible=false);"
   ]
  },
  {
   "cell_type": "code",
   "execution_count": 157,
   "metadata": {},
   "outputs": [
    {
     "name": "stdout",
     "output_type": "stream",
     "text": [
      "-------------------------------------------------------\n",
      "Version       : 4.13.1\n",
      "License       : GNU General Public License\n",
      "Build OS      : Linux64-sdk\n",
      "Build date    : 19700101\n",
      "Build host    : amdci7.julia.csail.mit.edu\n",
      "Build options : 64Bit ALGLIB[contrib] ANN[contrib] Bamg Blossom Cairo DIntegration Dlopen DomHex Eigen[contrib] Fltk GMP Gmm[contrib] Hxt Jpeg Kbipack LinuxJoystick MathEx[contrib] Mesh Metis[contrib] Mmg Mpeg Netgen Nii2mesh ONELAB ONELABMetamodel OpenCASCADE OpenCASCADE-CAF OpenGL OpenMP OptHom Parser Plugins Png Post QuadMeshingTools QuadTri Solver TetGen/BR TinyXML2[contrib] Untangle Voro++[contrib] WinslowUntangler Zlib\n",
      "FLTK version  : 1.3.8\n",
      "OCC version   : 7.7.2\n",
      "Packaged by   : root\n",
      "Web site      : https://gmsh.info\n",
      "Issue tracker : https://gitlab.onelab.info/gmsh/gmsh/issues\n",
      "-------------------------------------------------------\n"
     ]
    },
    {
     "name": "stderr",
     "output_type": "stream",
     "text": [
      "XRequest.18: BadValue 0x0\n"
     ]
    }
   ],
   "source": [
    "gmsh.fltk.run()"
   ]
  },
  {
   "cell_type": "code",
   "execution_count": 158,
   "metadata": {},
   "outputs": [],
   "source": [
    "gmsh.finalize()"
   ]
  }
 ],
 "metadata": {
  "kernelspec": {
   "display_name": "Julia 1.11.1",
   "language": "julia",
   "name": "julia-1.11"
  },
  "language_info": {
   "file_extension": ".jl",
   "mimetype": "application/julia",
   "name": "julia",
   "version": "1.11.1"
  }
 },
 "nbformat": 4,
 "nbformat_minor": 2
}
