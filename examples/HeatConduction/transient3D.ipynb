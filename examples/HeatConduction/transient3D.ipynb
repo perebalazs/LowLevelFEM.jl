{
 "cells": [
  {
   "cell_type": "code",
   "execution_count": 39,
   "metadata": {},
   "outputs": [],
   "source": [
    "import LowLevelFEM as FEM\n",
    "using LowLevelFEM\n",
    "\n",
    "gmsh.initialize()"
   ]
  },
  {
   "cell_type": "code",
   "execution_count": 40,
   "metadata": {},
   "outputs": [],
   "source": [
    "using Plots"
   ]
  },
  {
   "cell_type": "code",
   "execution_count": 41,
   "metadata": {},
   "outputs": [
    {
     "name": "stdout",
     "output_type": "stream",
     "text": [
      "Info    : Reading 'transient3D.geo'...\n",
      "Info    : Meshing 1D...\n",
      "Info    : [  0%] Meshing curve 1 (Line)\n",
      "Info    : [ 10%] Meshing curve 2 (Line)\n",
      "Info    : [ 20%] Meshing curve 3 (Line)\n",
      "Info    : [ 30%] Meshing curve 4 (Line)\n",
      "Info    : [ 40%] Meshing curve 5 (Line)\n",
      "Info    : [ 50%] Meshing curve 6 (Line)\n",
      "Info    : [ 60%] Meshing curve 7 (Line)\n",
      "Info    : [ 60%] Meshing curve 8 (Line)\n",
      "Info    : [ 70%] Meshing curve 9 (Line)\n",
      "Info    : [ 80%] Meshing curve 10 (Line)\n",
      "Info    : [ 90%] Meshing curve 11 (Line)\n",
      "Info    : [100%] Meshing curve 12 (Line)\n",
      "Info    : Done meshing 1D (Wall 0.00137877s, CPU 0.001331s)\n",
      "Info    : Meshing 2D...\n",
      "Info    : [  0%] Meshing surface 1 (Plane, Frontal-Delaunay)\n",
      "Info    : [ 20%] Meshing surface 2 (Plane, Frontal-Delaunay)\n",
      "Info    : [ 40%] Meshing surface 3 (Plane, Frontal-Delaunay)\n",
      "Info    : [ 60%] Meshing surface 4 (Plane, Frontal-Delaunay)\n",
      "Info    : [ 70%] Meshing surface 5 (Plane, Frontal-Delaunay)\n",
      "Info    : [ 90%] Meshing surface 6 (Plane, Frontal-Delaunay)\n",
      "Info    : Done meshing 2D (Wall 0.0421945s, CPU 0.036989s)\n",
      "Info    : Meshing 3D...\n",
      "Info    : 3D Meshing 1 volume with 1 connected component\n",
      "Info    : Tetrahedrizing 614 nodes...\n",
      "Info    : Done tetrahedrizing 622 nodes (Wall 0.0108765s, CPU 0.010593s)\n",
      "Info    : Reconstructing mesh...\n",
      "Info    :  - Creating surface mesh\n",
      "Info    :  - Identifying boundary edges\n",
      "Info    :  - Recovering boundary\n",
      "Info    : Done reconstructing mesh (Wall 0.0239922s, CPU 0.021253s)\n",
      "Info    : Found volume 1\n",
      "Info    : It. 0 - 0 nodes created - worst tet radius 1.97446 (nodes removed 0 0)\n",
      "Info    : 3D refinement terminated (726 nodes total):\n",
      "Info    :  - 0 Delaunay cavities modified for star shapeness\n",
      "Info    :  - 0 nodes could not be inserted\n",
      "Info    :  - 2346 tetrahedra created in 0.0214955 sec. (109138 tets/s)\n",
      "Info    : 0 node relocations\n",
      "Info    : Done meshing 3D (Wall 0.0885099s, CPU 0.072953s)\n",
      "Info    : Optimizing mesh...\n",
      "Info    : Optimizing volume 1\n",
      "Info    : Optimization starts (volume = 10000) with worst = 7.52441e-05 / average = 0.779326:\n",
      "Info    : 0.00 < quality < 0.10 :         4 elements\n",
      "Info    : 0.10 < quality < 0.20 :         9 elements\n",
      "Info    : 0.20 < quality < 0.30 :         7 elements\n",
      "Info    : 0.30 < quality < 0.40 :        57 elements\n",
      "Info    : 0.40 < quality < 0.50 :        31 elements\n",
      "Info    : 0.50 < quality < 0.60 :        73 elements\n",
      "Info    : 0.60 < quality < 0.70 :       420 elements\n",
      "Info    : 0.70 < quality < 0.80 :       512 elements\n",
      "Info    : 0.80 < quality < 0.90 :       779 elements\n",
      "Info    : 0.90 < quality < 1.00 :       454 elements\n",
      "Info    : 20 edge swaps, 0 node relocations (volume = 10000): worst = 0.33144 / average = 0.785629 (Wall 0.00211825s, CPU 0.002055s)\n",
      "Info    : No ill-shaped tets in the mesh :-)\n",
      "Info    : 0.00 < quality < 0.10 :         0 elements\n",
      "Info    : 0.10 < quality < 0.20 :         0 elements\n",
      "Info    : 0.20 < quality < 0.30 :         0 elements\n",
      "Info    : 0.30 < quality < 0.40 :        56 elements\n",
      "Info    : 0.40 < quality < 0.50 :        25 elements\n",
      "Info    : 0.50 < quality < 0.60 :        72 elements\n",
      "Info    : 0.60 < quality < 0.70 :       419 elements\n",
      "Info    : 0.70 < quality < 0.80 :       522 elements\n",
      "Info    : 0.80 < quality < 0.90 :       778 elements\n",
      "Info    : 0.90 < quality < 1.00 :       454 elements\n",
      "Info    : Done optimizing mesh (Wall 0.00778078s, CPU 0.007664s)\n",
      "Info    : 726 nodes 3726 elements\n",
      "Info    : Done reading 'transient3D.geo'\n"
     ]
    }
   ],
   "source": [
    "gmsh.open(\"transient3D.geo\")"
   ]
  },
  {
   "cell_type": "code",
   "execution_count": 42,
   "metadata": {},
   "outputs": [],
   "source": [
    "#gmsh.fltk.run()"
   ]
  },
  {
   "cell_type": "code",
   "execution_count": 43,
   "metadata": {},
   "outputs": [
    {
     "name": "stdout",
     "output_type": "stream",
     "text": [
      "Info    : RCMK renumbering...\n",
      "Info    : Done RCMK renumbering (bandwidth is now 89)\n"
     ]
    },
    {
     "data": {
      "text/plain": [
       "LowLevelFEM.Problem(\"transient3D\", \"HeatConduction\", 3, 1, LowLevelFEM.Material[LowLevelFEM.Material(\"body\", 200000.0, 0.3, 7.85e-9, 45.0, 4.2e8, 1.2e-5)], 1.0, 726)"
      ]
     },
     "metadata": {},
     "output_type": "display_data"
    }
   ],
   "source": [
    "body = FEM.material(\"body\")\n",
    "problem = FEM.Problem([body], type=\"HeatConduction\")"
   ]
  },
  {
   "cell_type": "code",
   "execution_count": 44,
   "metadata": {},
   "outputs": [
    {
     "data": {
      "text/plain": [
       "726×726 SparseArrays.SparseMatrixCSC{Float64, Int64} with 8052 stored entries:\n",
       "⎡⣿⢟⡀⠘⠀⠈⠀⠃⠀⠾⣼⠀⠆⠀⠂⠀⡇⠀⡄⠀⠄⢨⡇⢠⠀⠠⠀⣸⠀⡂⠀⠂⠀⣛⠀⠀⠀⠀⠀⠀⎤\n",
       "⎢⣀⠈⠻⣦⡀⠀⠀⠀⠀⠀⠰⣛⢼⢿⢄⠀⡁⠀⠀⠀⠀⠀⡞⡪⢞⡏⠀⢈⡀⠀⢀⡀⠀⡀⠀⠀⠰⡝⣨⠂⎥\n",
       "⎢⡀⠀⠀⠈⠻⣦⡀⠀⠀⠀⠠⠞⠷⠭⠋⠘⣄⡀⣀⢀⠀⢀⣀⣀⠀⣀⠀⢐⠧⠿⠩⠎⠀⣇⠀⠀⠠⢊⡊⡻⎥\n",
       "⎢⠤⠀⠀⠀⠀⠈⠻⣦⡀⠀⠀⠀⠀⠀⠀⠀⠰⣭⡞⡟⡀⠠⠜⠷⠾⠚⠁⠡⣠⣠⣀⡀⠀⠄⠀⠀⠐⢂⡙⡠⎥\n",
       "⎢⣠⡄⠀⠀⠀⠀⠀⠈⠻⣦⠀⠀⡄⠀⡄⠀⡸⠚⡜⠗⡅⢨⡄⢀⠀⢠⠀⢠⠺⡧⠋⡎⠀⣠⢠⢠⡄⠋⠻⠏⎥\n",
       "⎢⠒⠛⣴⢢⣠⠆⠀⠀⠀⠀⠛⢄⢱⣶⣶⣶⡃⠀⠁⠀⠀⠘⣣⠼⣦⢆⠀⢓⡦⣡⢠⢀⠀⡛⣸⢾⡳⣆⣴⣴⎥\n",
       "⎢⠈⠁⣶⣗⡝⡇⠀⠀⠀⠉⢱⣶⣟⢝⢿⣿⠁⠀⠀⠀⠀⠀⢗⡔⣥⡗⠀⠐⡇⠛⣕⡃⠀⠒⡟⣽⢺⣾⢓⣯⎥\n",
       "⎢⠈⠀⠀⠑⣋⠀⠀⠀⠀⠉⢸⣿⣿⣷⣿⣿⠃⠀⠀⠀⠀⠀⠁⠀⠀⠁⠀⠈⠁⠈⠘⠉⠀⣸⡾⣿⣷⣿⢿⣽⎥\n",
       "⎢⠉⠉⠁⠈⠀⠹⡔⣦⣲⠊⠉⠈⠁⠀⠉⠀⠑⢄⣶⣶⣶⣶⠴⡶⠒⠲⡀⠬⢤⡰⣒⣀⠀⢉⡬⣮⢿⣲⣴⡖⎥\n",
       "⎢⠀⠉⠀⠀⠀⢘⣾⠭⢶⠍⠁⠀⠀⠀⠀⠀⢸⣿⣕⢝⣿⣟⢍⡯⠔⣑⠄⡄⡸⠎⡦⡑⠀⢀⣞⡾⣫⡶⣣⡷⎥\n",
       "⎢⡀⣁⠀⠀⠀⢀⠀⡈⡁⣉⣀⠀⠀⠀⠀⠀⢸⣿⣿⢿⣿⣿⣁⢀⠀⠀⠀⠀⢁⠀⡉⠀⠀⣸⣷⣯⡿⣷⡿⣷⎥\n",
       "⎢⠉⣉⡺⡩⠀⢸⢶⡅⠀⢉⣉⡞⢙⠵⠁⠀⢰⡧⡧⡵⠁⢘⢛⣴⢿⣷⣿⣿⠈⠀⠀⠀⠀⢸⣼⣯⣿⡷⡲⠋⎥\n",
       "⎢⠀⡀⡾⠵⠀⢠⣺⠃⠀⣀⠨⢟⢥⠿⠄⠀⢸⡀⢔⢡⠀⠀⢿⣷⣟⣽⢿⣇⠀⠀⠀⠀⠀⢠⣓⢿⡯⣿⣺⡟⎥\n",
       "⎢⣀⣠⡀⢀⢀⢀⠅⡀⠀⣀⢤⢀⢀⠀⡀⠀⡀⡌⠀⠥⠀⠀⣿⣿⠿⢷⡿⣯⠀⢀⠀⡀⣀⢘⢯⢿⡿⡷⠻⡜⎥\n",
       "⎢⠠⠠⠀⠈⣭⡇⠀⣺⠾⡦⠌⣫⣭⠉⡁⠀⢀⡳⡲⠎⠁⠐⠂⠀⠀⠀⠀⢀⣑⣼⢿⣿⣿⣷⣽⣿⣾⡿⣟⣿⎥\n",
       "⎢⠠⠀⠀⠰⡣⠆⠀⠸⡫⠤⠀⢒⠵⠹⡖⠀⠘⢸⢌⠫⠃⠈⠀⠀⠀⠀⠀⠠⣿⣷⣕⣽⣿⣥⣓⢯⢴⠙⣾⣿⎥\n",
       "⎢⣤⢠⠀⠠⠤⢤⠀⠄⠀⣠⣤⠠⢠⠀⣀⣠⡄⢀⠀⢀⣀⣠⣀⣀⠀⣀⣀⢘⢿⣿⠟⣿⣿⣿⢿⣻⣴⡿⣿⣻⎥\n",
       "⎢⠀⠀⠀⠀⠀⠀⠀⠀⠀⣒⣲⣞⣟⣭⣾⣯⡢⣯⣺⡽⡽⣿⡶⣿⣽⣜⣯⣗⣷⣿⡽⣜⣿⣳⣿⣿⣿⣿⣿⣿⎥\n",
       "⎢⠀⠀⣔⠦⡠⢂⠰⢀⡤⠉⠹⢮⣺⣶⣽⣿⢻⣳⢫⡾⢿⣯⢿⡿⣯⣯⢿⡯⣾⡿⣔⠓⣴⡿⣿⣿⢿⢗⣿⣿⎥\n",
       "⎣⠀⠀⠢⠚⣮⡨⠓⡨⡿⠆⢐⣿⡽⣴⣟⣷⢰⠿⢭⡾⢿⣯⡼⠊⣾⠾⣛⠦⣿⣽⣾⣿⣿⣻⣿⣿⣿⣿⣿⣿⎦"
      ]
     },
     "metadata": {},
     "output_type": "display_data"
    }
   ],
   "source": [
    "K = FEM.heatConductionMatrix(problem)"
   ]
  },
  {
   "cell_type": "code",
   "execution_count": 45,
   "metadata": {},
   "outputs": [
    {
     "data": {
      "text/plain": [
       "726×726 SparseArrays.SparseMatrixCSC{Float64, Int64} with 8052 stored entries:\n",
       "⎡⣿⢟⡀⠘⠀⠈⠀⠃⠀⠾⣼⠀⠆⠀⠂⠀⡇⠀⡄⠀⠄⢨⡇⢠⠀⠠⠀⣸⠀⡂⠀⠂⠀⣛⠀⠀⠀⠀⠀⠀⎤\n",
       "⎢⣀⠈⠻⣦⡀⠀⠀⠀⠀⠀⠰⣛⢼⢿⢄⠀⡁⠀⠀⠀⠀⠀⡞⡪⢞⡏⠀⢈⡀⠀⢀⡀⠀⡀⠀⠀⠰⡝⣨⠂⎥\n",
       "⎢⡀⠀⠀⠈⠻⣦⡀⠀⠀⠀⠠⠞⠷⠭⠋⠘⣄⡀⣀⢀⠀⢀⣀⣀⠀⣀⠀⢐⠧⠿⠩⠎⠀⣇⠀⠀⠠⢊⡊⡻⎥\n",
       "⎢⠤⠀⠀⠀⠀⠈⠻⣦⡀⠀⠀⠀⠀⠀⠀⠀⠰⣭⡞⡟⡀⠠⠜⠷⠾⠚⠁⠡⣠⣠⣀⡀⠀⠄⠀⠀⠐⢂⡙⡠⎥\n",
       "⎢⣠⡄⠀⠀⠀⠀⠀⠈⠻⣦⠀⠀⡄⠀⡄⠀⡸⠚⡜⠗⡅⢨⡄⢀⠀⢠⠀⢠⠺⡧⠋⡎⠀⣠⢠⢠⡄⠋⠻⠏⎥\n",
       "⎢⠒⠛⣴⢢⣠⠆⠀⠀⠀⠀⠛⢄⢱⣶⣶⣶⡃⠀⠁⠀⠀⠘⣣⠼⣦⢆⠀⢓⡦⣡⢠⢀⠀⡛⣸⢾⡳⣆⣴⣴⎥\n",
       "⎢⠈⠁⣶⣗⡝⡇⠀⠀⠀⠉⢱⣶⣟⢝⢿⣿⠁⠀⠀⠀⠀⠀⢗⡔⣥⡗⠀⠐⡇⠛⣕⡃⠀⠒⡟⣽⢺⣾⢓⣯⎥\n",
       "⎢⠈⠀⠀⠑⣋⠀⠀⠀⠀⠉⢸⣿⣿⣷⣿⣿⠃⠀⠀⠀⠀⠀⠁⠀⠀⠁⠀⠈⠁⠈⠘⠉⠀⣸⡾⣿⣷⣿⢿⣽⎥\n",
       "⎢⠉⠉⠁⠈⠀⠹⡔⣦⣲⠊⠉⠈⠁⠀⠉⠀⠑⢄⣶⣶⣶⣶⠴⡶⠒⠲⡀⠬⢤⡰⣒⣀⠀⢉⡬⣮⢿⣲⣴⡖⎥\n",
       "⎢⠀⠉⠀⠀⠀⢘⣾⠭⢶⠍⠁⠀⠀⠀⠀⠀⢸⣿⣕⢝⣿⣟⢍⡯⠔⣑⠄⡄⡸⠎⡦⡑⠀⢀⣞⡾⣫⡶⣣⡷⎥\n",
       "⎢⡀⣁⠀⠀⠀⢀⠀⡈⡁⣉⣀⠀⠀⠀⠀⠀⢸⣿⣿⢿⣿⣿⣁⢀⠀⠀⠀⠀⢁⠀⡉⠀⠀⣸⣷⣯⡿⣷⡿⣷⎥\n",
       "⎢⠉⣉⡺⡩⠀⢸⢶⡅⠀⢉⣉⡞⢙⠵⠁⠀⢰⡧⡧⡵⠁⢘⢛⣴⢿⣷⣿⣿⠈⠀⠀⠀⠀⢸⣼⣯⣿⡷⡲⠋⎥\n",
       "⎢⠀⡀⡾⠵⠀⢠⣺⠃⠀⣀⠨⢟⢥⠿⠄⠀⢸⡀⢔⢡⠀⠀⢿⣷⣟⣽⢿⣇⠀⠀⠀⠀⠀⢠⣓⢿⡯⣿⣺⡟⎥\n",
       "⎢⣀⣠⡀⢀⢀⢀⠅⡀⠀⣀⢤⢀⢀⠀⡀⠀⡀⡌⠀⠥⠀⠀⣿⣿⠿⢷⡿⣯⠀⢀⠀⡀⣀⢘⢯⢿⡿⡷⠻⡜⎥\n",
       "⎢⠠⠠⠀⠈⣭⡇⠀⣺⠾⡦⠌⣫⣭⠉⡁⠀⢀⡳⡲⠎⠁⠐⠂⠀⠀⠀⠀⢀⣑⣼⢿⣿⣿⣷⣽⣿⣾⡿⣟⣿⎥\n",
       "⎢⠠⠀⠀⠰⡣⠆⠀⠸⡫⠤⠀⢒⠵⠹⡖⠀⠘⢸⢌⠫⠃⠈⠀⠀⠀⠀⠀⠠⣿⣷⣕⣽⣿⣥⣓⢯⢴⠙⣾⣿⎥\n",
       "⎢⣤⢠⠀⠠⠤⢤⠀⠄⠀⣠⣤⠠⢠⠀⣀⣠⡄⢀⠀⢀⣀⣠⣀⣀⠀⣀⣀⢘⢿⣿⠟⣿⣿⣿⢿⣻⣴⡿⣿⣻⎥\n",
       "⎢⠀⠀⠀⠀⠀⠀⠀⠀⠀⣒⣲⣞⣟⣭⣾⣯⡢⣯⣺⡽⡽⣿⡶⣿⣽⣜⣯⣗⣷⣿⡽⣜⣿⣳⣿⣿⣿⣿⣿⣿⎥\n",
       "⎢⠀⠀⣔⠦⡠⢂⠰⢀⡤⠉⠹⢮⣺⣶⣽⣿⢻⣳⢫⡾⢿⣯⢿⡿⣯⣯⢿⡯⣾⡿⣔⠓⣴⡿⣿⣿⢿⢗⣿⣿⎥\n",
       "⎣⠀⠀⠢⠚⣮⡨⠓⡨⡿⠆⢐⣿⡽⣴⣟⣷⢰⠿⢭⡾⢿⣯⡼⠊⣾⠾⣛⠦⣿⣽⣾⣿⣿⣻⣿⣿⣿⣿⣿⣿⎦"
      ]
     },
     "metadata": {},
     "output_type": "display_data"
    }
   ],
   "source": [
    "C = FEM.heatCapacityMatrix(problem, lumped=false)"
   ]
  },
  {
   "cell_type": "code",
   "execution_count": 46,
   "metadata": {},
   "outputs": [
    {
     "data": {
      "text/plain": [
       "(\"left\", 0, 0, 0)"
      ]
     },
     "metadata": {},
     "output_type": "display_data"
    }
   ],
   "source": [
    "left = FEM.temperatureConstraint(\"left\", T=0)\n",
    "right = FEM.temperatureConstraint(\"right\", T=100)\n",
    "hf = FEM.heatFlux(\"left\", qn=0)"
   ]
  },
  {
   "cell_type": "code",
   "execution_count": 47,
   "metadata": {},
   "outputs": [
    {
     "data": {
      "text/plain": [
       "726-element Vector{Float64}:\n",
       " 0.0\n",
       " 0.0\n",
       " 0.0\n",
       " 0.0\n",
       " 0.0\n",
       " 0.0\n",
       " 0.0\n",
       " 0.0\n",
       " 0.0\n",
       " 0.0\n",
       " ⋮\n",
       " 0.0\n",
       " 0.0\n",
       " 0.0\n",
       " 0.0\n",
       " 0.0\n",
       " 0.0\n",
       " 0.0\n",
       " 0.0\n",
       " 0.0"
      ]
     },
     "metadata": {},
     "output_type": "display_data"
    }
   ],
   "source": [
    "q0 = zeros(problem.non)"
   ]
  },
  {
   "cell_type": "code",
   "execution_count": 48,
   "metadata": {},
   "outputs": [],
   "source": [
    "FEM.applyBoundaryConditions!(problem, K, C, q0, [left, right])"
   ]
  },
  {
   "cell_type": "code",
   "execution_count": 49,
   "metadata": {},
   "outputs": [
    {
     "data": {
      "text/plain": [
       "726-element Vector{Float64}:\n",
       "   0.0\n",
       "   0.0\n",
       "   0.0\n",
       "   0.0\n",
       " 100.0\n",
       " 100.0\n",
       " 100.0\n",
       " 100.0\n",
       "   0.0\n",
       "   0.0\n",
       "   ⋮\n",
       "   0.0\n",
       "   0.0\n",
       "   0.0\n",
       "   0.0\n",
       "   0.0\n",
       "   0.0\n",
       "   0.0\n",
       "   0.0\n",
       "   0.0"
      ]
     },
     "metadata": {},
     "output_type": "display_data"
    }
   ],
   "source": [
    "T0 = FEM.initialTemperature(problem, \"right\", T=100)"
   ]
  },
  {
   "cell_type": "code",
   "execution_count": 50,
   "metadata": {},
   "outputs": [
    {
     "data": {
      "text/plain": [
       "0.013482257500489757"
      ]
     },
     "metadata": {},
     "output_type": "display_data"
    }
   ],
   "source": [
    "λₘᵢₙ = FEM.smallestEigenValue(K, C)"
   ]
  },
  {
   "cell_type": "code",
   "execution_count": 51,
   "metadata": {},
   "outputs": [
    {
     "data": {
      "text/plain": [
       "92.67769212160222"
      ]
     },
     "metadata": {},
     "output_type": "display_data"
    }
   ],
   "source": [
    "λₘₐₓ = FEM.largestEigenValue(K, C)"
   ]
  },
  {
   "cell_type": "code",
   "execution_count": 52,
   "metadata": {},
   "outputs": [
    {
     "data": {
      "text/plain": [
       "\"Δt=0.10790083105305452\""
      ]
     },
     "metadata": {},
     "output_type": "display_data"
    }
   ],
   "source": [
    "ϑ = 0.4\n",
    "Δt = 2 / ((1 - 2ϑ) * λₘₐₓ)\n",
    "ϑ = 0.5\n",
    "display(\"Δt=$Δt\")"
   ]
  },
  {
   "cell_type": "code",
   "execution_count": 53,
   "metadata": {},
   "outputs": [
    {
     "data": {
      "text/plain": [
       "([0.0 0.0 … 0.0 0.0; 0.0 0.0 … 0.0 0.0; … ; 0.0 -0.0002527380087643924 … 33.206209168085316 33.23029588974396; 0.0 -1.316481334499097e-16 … 0.041822981882081806 0.04212357600442542], [0.0, 0.01, 0.02, 0.03, 0.04, 0.05, 0.060000000000000005, 0.07, 0.08, 0.09  …  9.899999999999833, 9.909999999999833, 9.919999999999833, 9.929999999999833, 9.939999999999833, 9.949999999999832, 9.959999999999832, 9.969999999999832, 9.979999999999832, 9.989999999999831])"
      ]
     },
     "metadata": {},
     "output_type": "display_data"
    }
   ],
   "source": [
    "#T, t = FEM.FDM(K, C, q0, T0, 1000 * Δt, Δt, ϑ=0.5)\n",
    "T, t = FEM.FDM(K, C, q0, T0, 10, 0.01, ϑ=0.66)"
   ]
  },
  {
   "cell_type": "code",
   "execution_count": 54,
   "metadata": {},
   "outputs": [],
   "source": [
    "T1 = FEM.showDoFResults(problem, T, \"T\", t=t, visible=true);"
   ]
  },
  {
   "cell_type": "code",
   "execution_count": 55,
   "metadata": {},
   "outputs": [
    {
     "data": {
      "image/png": "[encoded data removed]",
      "image/svg+xml": [
       "<?xml version=\"1.0\" encoding=\"utf-8\"?>\n",
       "<svg xmlns=\"http://www.w3.org/2000/svg\" xmlns:xlink=\"http://www.w3.org/1999/xlink\" width=\"600\" height=\"400\" viewBox=\"0 0 2400 1600\">\n",
       "<defs>\n",
       "  <clipPath id=\"clip810\">\n",
       "    <rect x=\"0\" y=\"0\" width=\"2400\" height=\"1600\"/>\n",
       "  </clipPath>\n",
       "</defs>\n",
       "<path clip-path=\"url(#clip810)\" d=\"M0 1600 L2400 1600 L2400 0 L0 0  Z\" fill=\"#ffffff\" fill-rule=\"evenodd\" fill-opacity=\"1\"/>\n",
       "<defs>\n",
       "  <clipPath id=\"clip811\">\n",
       "    <rect x=\"480\" y=\"0\" width=\"1681\" height=\"1600\"/>\n",
       "  </clipPath>\n",
       "</defs>\n",
       "<path clip-path=\"url(#clip810)\" d=\"M169.121 1486.45 L2352.76 1486.45 L2352.76 47.2441 L169.121 47.2441  Z\" fill=\"#ffffff\" fill-rule=\"evenodd\" fill-opacity=\"1\"/>\n",
       "<defs>\n",
       "  <clipPath id=\"clip812\">\n",
       "    <rect x=\"169\" y=\"47\" width=\"2185\" height=\"1440\"/>\n",
       "  </clipPath>\n",
       "</defs>\n",
       "<polyline clip-path=\"url(#clip812)\" style=\"stroke:#000000; stroke-linecap:round; stroke-linejoin:round; stroke-width:2; stroke-opacity:0.1; fill:none\" points=\"230.922,1486.45 230.922,47.2441 \"/>\n",
       "<polyline clip-path=\"url(#clip812)\" style=\"stroke:#000000; stroke-linecap:round; stroke-linejoin:round; stroke-width:2; stroke-opacity:0.1; fill:none\" points=\"745.93,1486.45 745.93,47.2441 \"/>\n",
       "<polyline clip-path=\"url(#clip812)\" style=\"stroke:#000000; stroke-linecap:round; stroke-linejoin:round; stroke-width:2; stroke-opacity:0.1; fill:none\" points=\"1260.94,1486.45 1260.94,47.2441 \"/>\n",
       "<polyline clip-path=\"url(#clip812)\" style=\"stroke:#000000; stroke-linecap:round; stroke-linejoin:round; stroke-width:2; stroke-opacity:0.1; fill:none\" points=\"1775.95,1486.45 1775.95,47.2441 \"/>\n",
       "<polyline clip-path=\"url(#clip812)\" style=\"stroke:#000000; stroke-linecap:round; stroke-linejoin:round; stroke-width:2; stroke-opacity:0.1; fill:none\" points=\"2290.95,1486.45 2290.95,47.2441 \"/>\n",
       "<polyline clip-path=\"url(#clip812)\" style=\"stroke:#000000; stroke-linecap:round; stroke-linejoin:round; stroke-width:2; stroke-opacity:0.1; fill:none\" points=\"169.121,1445.72 2352.76,1445.72 \"/>\n",
       "<polyline clip-path=\"url(#clip812)\" style=\"stroke:#000000; stroke-linecap:round; stroke-linejoin:round; stroke-width:2; stroke-opacity:0.1; fill:none\" points=\"169.121,1106.28 2352.76,1106.28 \"/>\n",
       "<polyline clip-path=\"url(#clip812)\" style=\"stroke:#000000; stroke-linecap:round; stroke-linejoin:round; stroke-width:2; stroke-opacity:0.1; fill:none\" points=\"169.121,766.846 2352.76,766.846 \"/>\n",
       "<polyline clip-path=\"url(#clip812)\" style=\"stroke:#000000; stroke-linecap:round; stroke-linejoin:round; stroke-width:2; stroke-opacity:0.1; fill:none\" points=\"169.121,427.411 2352.76,427.411 \"/>\n",
       "<polyline clip-path=\"url(#clip812)\" style=\"stroke:#000000; stroke-linecap:round; stroke-linejoin:round; stroke-width:2; stroke-opacity:0.1; fill:none\" points=\"169.121,87.9763 2352.76,87.9763 \"/>\n",
       "<polyline clip-path=\"url(#clip810)\" style=\"stroke:#000000; stroke-linecap:round; stroke-linejoin:round; stroke-width:4; stroke-opacity:1; fill:none\" points=\"169.121,1486.45 2352.76,1486.45 \"/>\n",
       "<polyline clip-path=\"url(#clip810)\" style=\"stroke:#000000; stroke-linecap:round; stroke-linejoin:round; stroke-width:4; stroke-opacity:1; fill:none\" points=\"230.922,1486.45 230.922,1467.55 \"/>\n",
       "<polyline clip-path=\"url(#clip810)\" style=\"stroke:#000000; stroke-linecap:round; stroke-linejoin:round; stroke-width:4; stroke-opacity:1; fill:none\" points=\"745.93,1486.45 745.93,1467.55 \"/>\n",
       "<polyline clip-path=\"url(#clip810)\" style=\"stroke:#000000; stroke-linecap:round; stroke-linejoin:round; stroke-width:4; stroke-opacity:1; fill:none\" points=\"1260.94,1486.45 1260.94,1467.55 \"/>\n",
       "<polyline clip-path=\"url(#clip810)\" style=\"stroke:#000000; stroke-linecap:round; stroke-linejoin:round; stroke-width:4; stroke-opacity:1; fill:none\" points=\"1775.95,1486.45 1775.95,1467.55 \"/>\n",
       "<polyline clip-path=\"url(#clip810)\" style=\"stroke:#000000; stroke-linecap:round; stroke-linejoin:round; stroke-width:4; stroke-opacity:1; fill:none\" points=\"2290.95,1486.45 2290.95,1467.55 \"/>\n",
       "<path clip-path=\"url(#clip810)\" d=\"M230.922 1517.37 Q227.311 1517.37 225.483 1520.93 Q223.677 1524.47 223.677 1531.6 Q223.677 1538.71 225.483 1542.27 Q227.311 1545.82 230.922 1545.82 Q234.557 1545.82 236.362 1542.27 Q238.191 1538.71 238.191 1531.6 Q238.191 1524.47 236.362 1520.93 Q234.557 1517.37 230.922 1517.37 M230.922 1513.66 Q236.732 1513.66 239.788 1518.27 Q242.867 1522.85 242.867 1531.6 Q242.867 1540.33 239.788 1544.94 Q236.732 1549.52 230.922 1549.52 Q225.112 1549.52 222.033 1544.94 Q218.978 1540.33 218.978 1531.6 Q218.978 1522.85 222.033 1518.27 Q225.112 1513.66 230.922 1513.66 Z\" fill=\"#000000\" fill-rule=\"nonzero\" fill-opacity=\"1\" /><path clip-path=\"url(#clip810)\" d=\"M725.201 1544.91 L741.521 1544.91 L741.521 1548.85 L719.576 1548.85 L719.576 1544.91 Q722.238 1542.16 726.822 1537.53 Q731.428 1532.88 732.609 1531.53 Q734.854 1529.01 735.734 1527.27 Q736.637 1525.51 736.637 1523.82 Q736.637 1521.07 734.692 1519.33 Q732.771 1517.6 729.669 1517.6 Q727.47 1517.6 725.016 1518.36 Q722.586 1519.13 719.808 1520.68 L719.808 1515.95 Q722.632 1514.82 725.086 1514.24 Q727.539 1513.66 729.576 1513.66 Q734.947 1513.66 738.141 1516.35 Q741.336 1519.03 741.336 1523.52 Q741.336 1525.65 740.525 1527.57 Q739.738 1529.47 737.632 1532.07 Q737.053 1532.74 733.951 1535.95 Q730.85 1539.15 725.201 1544.91 Z\" fill=\"#000000\" fill-rule=\"nonzero\" fill-opacity=\"1\" /><path clip-path=\"url(#clip810)\" d=\"M751.382 1514.29 L769.738 1514.29 L769.738 1518.22 L755.664 1518.22 L755.664 1526.7 Q756.683 1526.35 757.701 1526.19 Q758.72 1526 759.738 1526 Q765.525 1526 768.905 1529.17 Q772.284 1532.34 772.284 1537.76 Q772.284 1543.34 768.812 1546.44 Q765.34 1549.52 759.021 1549.52 Q756.845 1549.52 754.576 1549.15 Q752.331 1548.78 749.923 1548.04 L749.923 1543.34 Q752.007 1544.47 754.229 1545.03 Q756.451 1545.58 758.928 1545.58 Q762.933 1545.58 765.271 1543.48 Q767.609 1541.37 767.609 1537.76 Q767.609 1534.15 765.271 1532.04 Q762.933 1529.94 758.928 1529.94 Q757.053 1529.94 755.178 1530.35 Q753.326 1530.77 751.382 1531.65 L751.382 1514.29 Z\" fill=\"#000000\" fill-rule=\"nonzero\" fill-opacity=\"1\" /><path clip-path=\"url(#clip810)\" d=\"M1235.64 1514.29 L1253.99 1514.29 L1253.99 1518.22 L1239.92 1518.22 L1239.92 1526.7 Q1240.94 1526.35 1241.96 1526.19 Q1242.98 1526 1243.99 1526 Q1249.78 1526 1253.16 1529.17 Q1256.54 1532.34 1256.54 1537.76 Q1256.54 1543.34 1253.07 1546.44 Q1249.6 1549.52 1243.28 1549.52 Q1241.1 1549.52 1238.83 1549.15 Q1236.59 1548.78 1234.18 1548.04 L1234.18 1543.34 Q1236.26 1544.47 1238.49 1545.03 Q1240.71 1545.58 1243.18 1545.58 Q1247.19 1545.58 1249.53 1543.48 Q1251.86 1541.37 1251.86 1537.76 Q1251.86 1534.15 1249.53 1532.04 Q1247.19 1529.94 1243.18 1529.94 Q1241.31 1529.94 1239.43 1530.35 Q1237.58 1530.77 1235.64 1531.65 L1235.64 1514.29 Z\" fill=\"#000000\" fill-rule=\"nonzero\" fill-opacity=\"1\" /><path clip-path=\"url(#clip810)\" d=\"M1275.75 1517.37 Q1272.14 1517.37 1270.31 1520.93 Q1268.51 1524.47 1268.51 1531.6 Q1268.51 1538.71 1270.31 1542.27 Q1272.14 1545.82 1275.75 1545.82 Q1279.39 1545.82 1281.19 1542.27 Q1283.02 1538.71 1283.02 1531.6 Q1283.02 1524.47 1281.19 1520.93 Q1279.39 1517.37 1275.75 1517.37 M1275.75 1513.66 Q1281.56 1513.66 1284.62 1518.27 Q1287.7 1522.85 1287.7 1531.6 Q1287.7 1540.33 1284.62 1544.94 Q1281.56 1549.52 1275.75 1549.52 Q1269.94 1549.52 1266.86 1544.94 Q1263.81 1540.33 1263.81 1531.6 Q1263.81 1522.85 1266.86 1518.27 Q1269.94 1513.66 1275.75 1513.66 Z\" fill=\"#000000\" fill-rule=\"nonzero\" fill-opacity=\"1\" /><path clip-path=\"url(#clip810)\" d=\"M1749.8 1514.29 L1772.02 1514.29 L1772.02 1516.28 L1759.48 1548.85 L1754.59 1548.85 L1766.4 1518.22 L1749.8 1518.22 L1749.8 1514.29 Z\" fill=\"#000000\" fill-rule=\"nonzero\" fill-opacity=\"1\" /><path clip-path=\"url(#clip810)\" d=\"M1781.19 1514.29 L1799.55 1514.29 L1799.55 1518.22 L1785.47 1518.22 L1785.47 1526.7 Q1786.49 1526.35 1787.51 1526.19 Q1788.53 1526 1789.55 1526 Q1795.33 1526 1798.71 1529.17 Q1802.09 1532.34 1802.09 1537.76 Q1802.09 1543.34 1798.62 1546.44 Q1795.15 1549.52 1788.83 1549.52 Q1786.65 1549.52 1784.38 1549.15 Q1782.14 1548.78 1779.73 1548.04 L1779.73 1543.34 Q1781.81 1544.47 1784.04 1545.03 Q1786.26 1545.58 1788.74 1545.58 Q1792.74 1545.58 1795.08 1543.48 Q1797.42 1541.37 1797.42 1537.76 Q1797.42 1534.15 1795.08 1532.04 Q1792.74 1529.94 1788.74 1529.94 Q1786.86 1529.94 1784.99 1530.35 Q1783.13 1530.77 1781.19 1531.65 L1781.19 1514.29 Z\" fill=\"#000000\" fill-rule=\"nonzero\" fill-opacity=\"1\" /><path clip-path=\"url(#clip810)\" d=\"M2250.56 1544.91 L2258.2 1544.91 L2258.2 1518.55 L2249.89 1520.21 L2249.89 1515.95 L2258.15 1514.29 L2262.83 1514.29 L2262.83 1544.91 L2270.47 1544.91 L2270.47 1548.85 L2250.56 1548.85 L2250.56 1544.91 Z\" fill=\"#000000\" fill-rule=\"nonzero\" fill-opacity=\"1\" /><path clip-path=\"url(#clip810)\" d=\"M2289.91 1517.37 Q2286.3 1517.37 2284.47 1520.93 Q2282.67 1524.47 2282.67 1531.6 Q2282.67 1538.71 2284.47 1542.27 Q2286.3 1545.82 2289.91 1545.82 Q2293.55 1545.82 2295.35 1542.27 Q2297.18 1538.71 2297.18 1531.6 Q2297.18 1524.47 2295.35 1520.93 Q2293.55 1517.37 2289.91 1517.37 M2289.91 1513.66 Q2295.72 1513.66 2298.78 1518.27 Q2301.86 1522.85 2301.86 1531.6 Q2301.86 1540.33 2298.78 1544.94 Q2295.72 1549.52 2289.91 1549.52 Q2284.1 1549.52 2281.02 1544.94 Q2277.97 1540.33 2277.97 1531.6 Q2277.97 1522.85 2281.02 1518.27 Q2284.1 1513.66 2289.91 1513.66 Z\" fill=\"#000000\" fill-rule=\"nonzero\" fill-opacity=\"1\" /><path clip-path=\"url(#clip810)\" d=\"M2320.08 1517.37 Q2316.46 1517.37 2314.64 1520.93 Q2312.83 1524.47 2312.83 1531.6 Q2312.83 1538.71 2314.64 1542.27 Q2316.46 1545.82 2320.08 1545.82 Q2323.71 1545.82 2325.51 1542.27 Q2327.34 1538.71 2327.34 1531.6 Q2327.34 1524.47 2325.51 1520.93 Q2323.71 1517.37 2320.08 1517.37 M2320.08 1513.66 Q2325.89 1513.66 2328.94 1518.27 Q2332.02 1522.85 2332.02 1531.6 Q2332.02 1540.33 2328.94 1544.94 Q2325.89 1549.52 2320.08 1549.52 Q2314.26 1549.52 2311.19 1544.94 Q2308.13 1540.33 2308.13 1531.6 Q2308.13 1522.85 2311.19 1518.27 Q2314.26 1513.66 2320.08 1513.66 Z\" fill=\"#000000\" fill-rule=\"nonzero\" fill-opacity=\"1\" /><polyline clip-path=\"url(#clip810)\" style=\"stroke:#000000; stroke-linecap:round; stroke-linejoin:round; stroke-width:4; stroke-opacity:1; fill:none\" points=\"169.121,1486.45 169.121,47.2441 \"/>\n",
       "<polyline clip-path=\"url(#clip810)\" style=\"stroke:#000000; stroke-linecap:round; stroke-linejoin:round; stroke-width:4; stroke-opacity:1; fill:none\" points=\"169.121,1445.72 188.019,1445.72 \"/>\n",
       "<polyline clip-path=\"url(#clip810)\" style=\"stroke:#000000; stroke-linecap:round; stroke-linejoin:round; stroke-width:4; stroke-opacity:1; fill:none\" points=\"169.121,1106.28 188.019,1106.28 \"/>\n",
       "<polyline clip-path=\"url(#clip810)\" style=\"stroke:#000000; stroke-linecap:round; stroke-linejoin:round; stroke-width:4; stroke-opacity:1; fill:none\" points=\"169.121,766.846 188.019,766.846 \"/>\n",
       "<polyline clip-path=\"url(#clip810)\" style=\"stroke:#000000; stroke-linecap:round; stroke-linejoin:round; stroke-width:4; stroke-opacity:1; fill:none\" points=\"169.121,427.411 188.019,427.411 \"/>\n",
       "<polyline clip-path=\"url(#clip810)\" style=\"stroke:#000000; stroke-linecap:round; stroke-linejoin:round; stroke-width:4; stroke-opacity:1; fill:none\" points=\"169.121,87.9763 188.019,87.9763 \"/>\n",
       "<path clip-path=\"url(#clip810)\" d=\"M121.177 1431.51 Q117.566 1431.51 115.737 1435.08 Q113.932 1438.62 113.932 1445.75 Q113.932 1452.86 115.737 1456.42 Q117.566 1459.96 121.177 1459.96 Q124.811 1459.96 126.617 1456.42 Q128.445 1452.86 128.445 1445.75 Q128.445 1438.62 126.617 1435.08 Q124.811 1431.51 121.177 1431.51 M121.177 1427.81 Q126.987 1427.81 130.043 1432.42 Q133.121 1437 133.121 1445.75 Q133.121 1454.48 130.043 1459.08 Q126.987 1463.67 121.177 1463.67 Q115.367 1463.67 112.288 1459.08 Q109.233 1454.48 109.233 1445.75 Q109.233 1437 112.288 1432.42 Q115.367 1427.81 121.177 1427.81 Z\" fill=\"#000000\" fill-rule=\"nonzero\" fill-opacity=\"1\" /><path clip-path=\"url(#clip810)\" d=\"M86.0382 1119.63 L102.358 1119.63 L102.358 1123.56 L80.4133 1123.56 L80.4133 1119.63 Q83.0753 1116.87 87.6586 1112.24 Q92.2651 1107.59 93.4456 1106.25 Q95.691 1103.72 96.5706 1101.99 Q97.4734 1100.23 97.4734 1098.54 Q97.4734 1095.78 95.5289 1094.05 Q93.6076 1092.31 90.5058 1092.31 Q88.3067 1092.31 85.8531 1093.07 Q83.4225 1093.84 80.6447 1095.39 L80.6447 1090.67 Q83.4688 1089.53 85.9225 1088.95 Q88.3762 1088.38 90.4132 1088.38 Q95.7836 1088.38 98.978 1091.06 Q102.172 1093.75 102.172 1098.24 Q102.172 1100.37 101.362 1102.29 Q100.575 1104.19 98.4687 1106.78 Q97.89 1107.45 94.7882 1110.67 Q91.6864 1113.86 86.0382 1119.63 Z\" fill=\"#000000\" fill-rule=\"nonzero\" fill-opacity=\"1\" /><path clip-path=\"url(#clip810)\" d=\"M112.219 1089 L130.575 1089 L130.575 1092.94 L116.501 1092.94 L116.501 1101.41 Q117.52 1101.06 118.538 1100.9 Q119.557 1100.71 120.575 1100.71 Q126.362 1100.71 129.742 1103.89 Q133.121 1107.06 133.121 1112.47 Q133.121 1118.05 129.649 1121.15 Q126.177 1124.23 119.857 1124.23 Q117.682 1124.23 115.413 1123.86 Q113.168 1123.49 110.76 1122.75 L110.76 1118.05 Q112.844 1119.19 115.066 1119.74 Q117.288 1120.3 119.765 1120.3 Q123.77 1120.3 126.107 1118.19 Q128.445 1116.08 128.445 1112.47 Q128.445 1108.86 126.107 1106.76 Q123.77 1104.65 119.765 1104.65 Q117.89 1104.65 116.015 1105.07 Q114.163 1105.48 112.219 1106.36 L112.219 1089 Z\" fill=\"#000000\" fill-rule=\"nonzero\" fill-opacity=\"1\" /><path clip-path=\"url(#clip810)\" d=\"M81.0614 749.566 L99.4178 749.566 L99.4178 753.501 L85.3438 753.501 L85.3438 761.973 Q86.3623 761.626 87.3808 761.464 Q88.3993 761.279 89.4178 761.279 Q95.2049 761.279 98.5845 764.45 Q101.964 767.621 101.964 773.038 Q101.964 778.617 98.4919 781.719 Q95.0197 784.797 88.7003 784.797 Q86.5243 784.797 84.2558 784.427 Q82.0105 784.057 79.6031 783.316 L79.6031 778.617 Q81.6864 779.751 83.9086 780.307 Q86.1308 780.862 88.6077 780.862 Q92.6123 780.862 94.9502 778.756 Q97.2882 776.649 97.2882 773.038 Q97.2882 769.427 94.9502 767.321 Q92.6123 765.214 88.6077 765.214 Q86.7327 765.214 84.8577 765.631 Q83.0058 766.047 81.0614 766.927 L81.0614 749.566 Z\" fill=\"#000000\" fill-rule=\"nonzero\" fill-opacity=\"1\" /><path clip-path=\"url(#clip810)\" d=\"M121.177 752.645 Q117.566 752.645 115.737 756.209 Q113.932 759.751 113.932 766.881 Q113.932 773.987 115.737 777.552 Q117.566 781.094 121.177 781.094 Q124.811 781.094 126.617 777.552 Q128.445 773.987 128.445 766.881 Q128.445 759.751 126.617 756.209 Q124.811 752.645 121.177 752.645 M121.177 748.941 Q126.987 748.941 130.043 753.547 Q133.121 758.131 133.121 766.881 Q133.121 775.608 130.043 780.214 Q126.987 784.797 121.177 784.797 Q115.367 784.797 112.288 780.214 Q109.233 775.608 109.233 766.881 Q109.233 758.131 112.288 753.547 Q115.367 748.941 121.177 748.941 Z\" fill=\"#000000\" fill-rule=\"nonzero\" fill-opacity=\"1\" /><path clip-path=\"url(#clip810)\" d=\"M80.8299 410.131 L103.052 410.131 L103.052 412.122 L90.5058 444.691 L85.6216 444.691 L97.4271 414.066 L80.8299 414.066 L80.8299 410.131 Z\" fill=\"#000000\" fill-rule=\"nonzero\" fill-opacity=\"1\" /><path clip-path=\"url(#clip810)\" d=\"M112.219 410.131 L130.575 410.131 L130.575 414.066 L116.501 414.066 L116.501 422.538 Q117.52 422.191 118.538 422.029 Q119.557 421.844 120.575 421.844 Q126.362 421.844 129.742 425.015 Q133.121 428.187 133.121 433.603 Q133.121 439.182 129.649 442.284 Q126.177 445.362 119.857 445.362 Q117.682 445.362 115.413 444.992 Q113.168 444.622 110.76 443.881 L110.76 439.182 Q112.844 440.316 115.066 440.872 Q117.288 441.427 119.765 441.427 Q123.77 441.427 126.107 439.321 Q128.445 437.214 128.445 433.603 Q128.445 429.992 126.107 427.886 Q123.77 425.779 119.765 425.779 Q117.89 425.779 116.015 426.196 Q114.163 426.613 112.219 427.492 L112.219 410.131 Z\" fill=\"#000000\" fill-rule=\"nonzero\" fill-opacity=\"1\" /><path clip-path=\"url(#clip810)\" d=\"M51.6634 101.321 L59.3023 101.321 L59.3023 74.9555 L50.9921 76.6222 L50.9921 72.3629 L59.256 70.6963 L63.9319 70.6963 L63.9319 101.321 L71.5707 101.321 L71.5707 105.256 L51.6634 105.256 L51.6634 101.321 Z\" fill=\"#000000\" fill-rule=\"nonzero\" fill-opacity=\"1\" /><path clip-path=\"url(#clip810)\" d=\"M91.0151 73.775 Q87.404 73.775 85.5753 77.3398 Q83.7697 80.8814 83.7697 88.011 Q83.7697 95.1174 85.5753 98.6822 Q87.404 102.224 91.0151 102.224 Q94.6493 102.224 96.4548 98.6822 Q98.2835 95.1174 98.2835 88.011 Q98.2835 80.8814 96.4548 77.3398 Q94.6493 73.775 91.0151 73.775 M91.0151 70.0713 Q96.8252 70.0713 99.8808 74.6777 Q102.959 79.261 102.959 88.011 Q102.959 96.7378 99.8808 101.344 Q96.8252 105.928 91.0151 105.928 Q85.2049 105.928 82.1262 101.344 Q79.0707 96.7378 79.0707 88.011 Q79.0707 79.261 82.1262 74.6777 Q85.2049 70.0713 91.0151 70.0713 Z\" fill=\"#000000\" fill-rule=\"nonzero\" fill-opacity=\"1\" /><path clip-path=\"url(#clip810)\" d=\"M121.177 73.775 Q117.566 73.775 115.737 77.3398 Q113.932 80.8814 113.932 88.011 Q113.932 95.1174 115.737 98.6822 Q117.566 102.224 121.177 102.224 Q124.811 102.224 126.617 98.6822 Q128.445 95.1174 128.445 88.011 Q128.445 80.8814 126.617 77.3398 Q124.811 73.775 121.177 73.775 M121.177 70.0713 Q126.987 70.0713 130.043 74.6777 Q133.121 79.261 133.121 88.011 Q133.121 96.7378 130.043 101.344 Q126.987 105.928 121.177 105.928 Q115.367 105.928 112.288 101.344 Q109.233 96.7378 109.233 88.011 Q109.233 79.261 112.288 74.6777 Q115.367 70.0713 121.177 70.0713 Z\" fill=\"#000000\" fill-rule=\"nonzero\" fill-opacity=\"1\" /><polyline clip-path=\"url(#clip812)\" style=\"stroke:#009af9; stroke-linecap:round; stroke-linejoin:round; stroke-width:4; stroke-opacity:1; fill:none\" points=\"230.922,1445.72 251.731,1445.72 272.539,1445.72 293.348,1445.72 314.156,1445.72 334.964,1445.72 355.773,1445.72 376.581,1445.72 397.39,1445.72 418.198,1445.72 439.006,1445.72 459.815,1445.72 480.623,1445.72 501.432,1445.72 522.24,1445.72 543.048,1445.72 563.857,1445.72 584.665,1445.72 605.474,1445.72 626.282,1445.72 647.091,1445.72 667.899,1445.72 688.707,1445.72 709.516,1445.72 730.324,1445.72 751.133,1445.72 771.941,1445.72 792.749,1445.72 813.558,1445.72 834.366,1445.72 855.175,1445.72 875.983,1445.72 896.791,1445.72 917.6,1445.72 938.408,1445.72 959.217,1445.72 980.025,1445.72 1000.83,1445.72 1021.64,1445.72 1042.45,1445.72 1063.26,1445.72 1084.07,1445.72 1104.88,1445.72 1125.68,1445.72 1146.49,1445.72 1167.3,1445.72 1188.11,1445.72 1208.92,1445.72 1229.73,1445.72 1250.53,1445.72 1271.34,1445.72 1292.15,1445.72 1312.96,1445.72 1333.77,1445.72 1354.58,1445.72 1375.38,1445.72 1396.19,1445.72 1417,1445.72 1437.81,1445.72 1458.62,1445.72 1479.43,1445.72 1500.24,1445.72 1521.04,1445.72 1541.85,1445.72 1562.66,1445.72 1583.47,1445.72 1604.28,1445.72 1625.09,1445.72 1645.89,1445.72 1666.7,1445.72 1687.51,1445.72 1708.32,1445.72 1729.13,1445.72 1749.94,1445.72 1770.74,1445.72 1791.55,1445.72 1812.36,1445.72 1833.17,1445.72 1853.98,1445.72 1874.79,1445.72 1895.6,1445.72 1916.4,1445.72 1937.21,1445.72 1958.02,1445.72 1978.83,1445.72 1999.64,1445.72 2020.45,1445.72 2041.25,1445.72 2062.06,1445.72 2082.87,1445.72 2103.68,1445.72 2124.49,1445.72 2145.3,1445.72 2166.1,1445.72 2186.91,1445.72 2207.72,1259.15 2228.53,946.95 2249.34,660.625 2270.15,374.301 2290.95,87.9763 \"/>\n",
       "<path clip-path=\"url(#clip810)\" d=\"M241.909 198.898 L512.703 198.898 L512.703 95.2176 L241.909 95.2176  Z\" fill=\"#ffffff\" fill-rule=\"evenodd\" fill-opacity=\"1\"/>\n",
       "<polyline clip-path=\"url(#clip810)\" style=\"stroke:#000000; stroke-linecap:round; stroke-linejoin:round; stroke-width:4; stroke-opacity:1; fill:none\" points=\"241.909,198.898 512.703,198.898 512.703,95.2176 241.909,95.2176 241.909,198.898 \"/>\n",
       "<polyline clip-path=\"url(#clip810)\" style=\"stroke:#009af9; stroke-linecap:round; stroke-linejoin:round; stroke-width:4; stroke-opacity:1; fill:none\" points=\"266.172,147.058 411.747,147.058 \"/>\n",
       "<path clip-path=\"url(#clip810)\" d=\"M449.853 166.745 Q448.047 171.375 446.334 172.787 Q444.621 174.199 441.751 174.199 L438.348 174.199 L438.348 170.634 L440.848 170.634 Q442.607 170.634 443.579 169.8 Q444.552 168.967 445.732 165.865 L446.496 163.921 L436.01 138.412 L440.524 138.412 L448.626 158.689 L456.727 138.412 L461.241 138.412 L449.853 166.745 Z\" fill=\"#000000\" fill-rule=\"nonzero\" fill-opacity=\"1\" /><path clip-path=\"url(#clip810)\" d=\"M468.533 160.402 L476.172 160.402 L476.172 134.037 L467.862 135.703 L467.862 131.444 L476.126 129.778 L480.801 129.778 L480.801 160.402 L488.44 160.402 L488.44 164.338 L468.533 164.338 L468.533 160.402 Z\" fill=\"#000000\" fill-rule=\"nonzero\" fill-opacity=\"1\" /></svg>\n"
      ],
      "text/html": [
       "<?xml version=\"1.0\" encoding=\"utf-8\"?>\n",
       "<svg xmlns=\"http://www.w3.org/2000/svg\" xmlns:xlink=\"http://www.w3.org/1999/xlink\" width=\"600\" height=\"400\" viewBox=\"0 0 2400 1600\">\n",
       "<defs>\n",
       "  <clipPath id=\"clip860\">\n",
       "    <rect x=\"0\" y=\"0\" width=\"2400\" height=\"1600\"/>\n",
       "  </clipPath>\n",
       "</defs>\n",
       "<path clip-path=\"url(#clip860)\" d=\"M0 1600 L2400 1600 L2400 0 L0 0  Z\" fill=\"#ffffff\" fill-rule=\"evenodd\" fill-opacity=\"1\"/>\n",
       "<defs>\n",
       "  <clipPath id=\"clip861\">\n",
       "    <rect x=\"480\" y=\"0\" width=\"1681\" height=\"1600\"/>\n",
       "  </clipPath>\n",
       "</defs>\n",
       "<path clip-path=\"url(#clip860)\" d=\"M169.121 1486.45 L2352.76 1486.45 L2352.76 47.2441 L169.121 47.2441  Z\" fill=\"#ffffff\" fill-rule=\"evenodd\" fill-opacity=\"1\"/>\n",
       "<defs>\n",
       "  <clipPath id=\"clip862\">\n",
       "    <rect x=\"169\" y=\"47\" width=\"2185\" height=\"1440\"/>\n",
       "  </clipPath>\n",
       "</defs>\n",
       "<polyline clip-path=\"url(#clip862)\" style=\"stroke:#000000; stroke-linecap:round; stroke-linejoin:round; stroke-width:2; stroke-opacity:0.1; fill:none\" points=\"230.922,1486.45 230.922,47.2441 \"/>\n",
       "<polyline clip-path=\"url(#clip862)\" style=\"stroke:#000000; stroke-linecap:round; stroke-linejoin:round; stroke-width:2; stroke-opacity:0.1; fill:none\" points=\"745.93,1486.45 745.93,47.2441 \"/>\n",
       "<polyline clip-path=\"url(#clip862)\" style=\"stroke:#000000; stroke-linecap:round; stroke-linejoin:round; stroke-width:2; stroke-opacity:0.1; fill:none\" points=\"1260.94,1486.45 1260.94,47.2441 \"/>\n",
       "<polyline clip-path=\"url(#clip862)\" style=\"stroke:#000000; stroke-linecap:round; stroke-linejoin:round; stroke-width:2; stroke-opacity:0.1; fill:none\" points=\"1775.95,1486.45 1775.95,47.2441 \"/>\n",
       "<polyline clip-path=\"url(#clip862)\" style=\"stroke:#000000; stroke-linecap:round; stroke-linejoin:round; stroke-width:2; stroke-opacity:0.1; fill:none\" points=\"2290.95,1486.45 2290.95,47.2441 \"/>\n",
       "<polyline clip-path=\"url(#clip862)\" style=\"stroke:#000000; stroke-linecap:round; stroke-linejoin:round; stroke-width:2; stroke-opacity:0.1; fill:none\" points=\"169.121,1445.72 2352.76,1445.72 \"/>\n",
       "<polyline clip-path=\"url(#clip862)\" style=\"stroke:#000000; stroke-linecap:round; stroke-linejoin:round; stroke-width:2; stroke-opacity:0.1; fill:none\" points=\"169.121,1106.28 2352.76,1106.28 \"/>\n",
       "<polyline clip-path=\"url(#clip862)\" style=\"stroke:#000000; stroke-linecap:round; stroke-linejoin:round; stroke-width:2; stroke-opacity:0.1; fill:none\" points=\"169.121,766.846 2352.76,766.846 \"/>\n",
       "<polyline clip-path=\"url(#clip862)\" style=\"stroke:#000000; stroke-linecap:round; stroke-linejoin:round; stroke-width:2; stroke-opacity:0.1; fill:none\" points=\"169.121,427.411 2352.76,427.411 \"/>\n",
       "<polyline clip-path=\"url(#clip862)\" style=\"stroke:#000000; stroke-linecap:round; stroke-linejoin:round; stroke-width:2; stroke-opacity:0.1; fill:none\" points=\"169.121,87.9763 2352.76,87.9763 \"/>\n",
       "<polyline clip-path=\"url(#clip860)\" style=\"stroke:#000000; stroke-linecap:round; stroke-linejoin:round; stroke-width:4; stroke-opacity:1; fill:none\" points=\"169.121,1486.45 2352.76,1486.45 \"/>\n",
       "<polyline clip-path=\"url(#clip860)\" style=\"stroke:#000000; stroke-linecap:round; stroke-linejoin:round; stroke-width:4; stroke-opacity:1; fill:none\" points=\"230.922,1486.45 230.922,1467.55 \"/>\n",
       "<polyline clip-path=\"url(#clip860)\" style=\"stroke:#000000; stroke-linecap:round; stroke-linejoin:round; stroke-width:4; stroke-opacity:1; fill:none\" points=\"745.93,1486.45 745.93,1467.55 \"/>\n",
       "<polyline clip-path=\"url(#clip860)\" style=\"stroke:#000000; stroke-linecap:round; stroke-linejoin:round; stroke-width:4; stroke-opacity:1; fill:none\" points=\"1260.94,1486.45 1260.94,1467.55 \"/>\n",
       "<polyline clip-path=\"url(#clip860)\" style=\"stroke:#000000; stroke-linecap:round; stroke-linejoin:round; stroke-width:4; stroke-opacity:1; fill:none\" points=\"1775.95,1486.45 1775.95,1467.55 \"/>\n",
       "<polyline clip-path=\"url(#clip860)\" style=\"stroke:#000000; stroke-linecap:round; stroke-linejoin:round; stroke-width:4; stroke-opacity:1; fill:none\" points=\"2290.95,1486.45 2290.95,1467.55 \"/>\n",
       "<path clip-path=\"url(#clip860)\" d=\"M230.922 1517.37 Q227.311 1517.37 225.483 1520.93 Q223.677 1524.47 223.677 1531.6 Q223.677 1538.71 225.483 1542.27 Q227.311 1545.82 230.922 1545.82 Q234.557 1545.82 236.362 1542.27 Q238.191 1538.71 238.191 1531.6 Q238.191 1524.47 236.362 1520.93 Q234.557 1517.37 230.922 1517.37 M230.922 1513.66 Q236.732 1513.66 239.788 1518.27 Q242.867 1522.85 242.867 1531.6 Q242.867 1540.33 239.788 1544.94 Q236.732 1549.52 230.922 1549.52 Q225.112 1549.52 222.033 1544.94 Q218.978 1540.33 218.978 1531.6 Q218.978 1522.85 222.033 1518.27 Q225.112 1513.66 230.922 1513.66 Z\" fill=\"#000000\" fill-rule=\"nonzero\" fill-opacity=\"1\" /><path clip-path=\"url(#clip860)\" d=\"M725.201 1544.91 L741.521 1544.91 L741.521 1548.85 L719.576 1548.85 L719.576 1544.91 Q722.238 1542.16 726.822 1537.53 Q731.428 1532.88 732.609 1531.53 Q734.854 1529.01 735.734 1527.27 Q736.637 1525.51 736.637 1523.82 Q736.637 1521.07 734.692 1519.33 Q732.771 1517.6 729.669 1517.6 Q727.47 1517.6 725.016 1518.36 Q722.586 1519.13 719.808 1520.68 L719.808 1515.95 Q722.632 1514.82 725.086 1514.24 Q727.539 1513.66 729.576 1513.66 Q734.947 1513.66 738.141 1516.35 Q741.336 1519.03 741.336 1523.52 Q741.336 1525.65 740.525 1527.57 Q739.738 1529.47 737.632 1532.07 Q737.053 1532.74 733.951 1535.95 Q730.85 1539.15 725.201 1544.91 Z\" fill=\"#000000\" fill-rule=\"nonzero\" fill-opacity=\"1\" /><path clip-path=\"url(#clip860)\" d=\"M751.382 1514.29 L769.738 1514.29 L769.738 1518.22 L755.664 1518.22 L755.664 1526.7 Q756.683 1526.35 757.701 1526.19 Q758.72 1526 759.738 1526 Q765.525 1526 768.905 1529.17 Q772.284 1532.34 772.284 1537.76 Q772.284 1543.34 768.812 1546.44 Q765.34 1549.52 759.021 1549.52 Q756.845 1549.52 754.576 1549.15 Q752.331 1548.78 749.923 1548.04 L749.923 1543.34 Q752.007 1544.47 754.229 1545.03 Q756.451 1545.58 758.928 1545.58 Q762.933 1545.58 765.271 1543.48 Q767.609 1541.37 767.609 1537.76 Q767.609 1534.15 765.271 1532.04 Q762.933 1529.94 758.928 1529.94 Q757.053 1529.94 755.178 1530.35 Q753.326 1530.77 751.382 1531.65 L751.382 1514.29 Z\" fill=\"#000000\" fill-rule=\"nonzero\" fill-opacity=\"1\" /><path clip-path=\"url(#clip860)\" d=\"M1235.64 1514.29 L1253.99 1514.29 L1253.99 1518.22 L1239.92 1518.22 L1239.92 1526.7 Q1240.94 1526.35 1241.96 1526.19 Q1242.98 1526 1243.99 1526 Q1249.78 1526 1253.16 1529.17 Q1256.54 1532.34 1256.54 1537.76 Q1256.54 1543.34 1253.07 1546.44 Q1249.6 1549.52 1243.28 1549.52 Q1241.1 1549.52 1238.83 1549.15 Q1236.59 1548.78 1234.18 1548.04 L1234.18 1543.34 Q1236.26 1544.47 1238.49 1545.03 Q1240.71 1545.58 1243.18 1545.58 Q1247.19 1545.58 1249.53 1543.48 Q1251.86 1541.37 1251.86 1537.76 Q1251.86 1534.15 1249.53 1532.04 Q1247.19 1529.94 1243.18 1529.94 Q1241.31 1529.94 1239.43 1530.35 Q1237.58 1530.77 1235.64 1531.65 L1235.64 1514.29 Z\" fill=\"#000000\" fill-rule=\"nonzero\" fill-opacity=\"1\" /><path clip-path=\"url(#clip860)\" d=\"M1275.75 1517.37 Q1272.14 1517.37 1270.31 1520.93 Q1268.51 1524.47 1268.51 1531.6 Q1268.51 1538.71 1270.31 1542.27 Q1272.14 1545.82 1275.75 1545.82 Q1279.39 1545.82 1281.19 1542.27 Q1283.02 1538.71 1283.02 1531.6 Q1283.02 1524.47 1281.19 1520.93 Q1279.39 1517.37 1275.75 1517.37 M1275.75 1513.66 Q1281.56 1513.66 1284.62 1518.27 Q1287.7 1522.85 1287.7 1531.6 Q1287.7 1540.33 1284.62 1544.94 Q1281.56 1549.52 1275.75 1549.52 Q1269.94 1549.52 1266.86 1544.94 Q1263.81 1540.33 1263.81 1531.6 Q1263.81 1522.85 1266.86 1518.27 Q1269.94 1513.66 1275.75 1513.66 Z\" fill=\"#000000\" fill-rule=\"nonzero\" fill-opacity=\"1\" /><path clip-path=\"url(#clip860)\" d=\"M1749.8 1514.29 L1772.02 1514.29 L1772.02 1516.28 L1759.48 1548.85 L1754.59 1548.85 L1766.4 1518.22 L1749.8 1518.22 L1749.8 1514.29 Z\" fill=\"#000000\" fill-rule=\"nonzero\" fill-opacity=\"1\" /><path clip-path=\"url(#clip860)\" d=\"M1781.19 1514.29 L1799.55 1514.29 L1799.55 1518.22 L1785.47 1518.22 L1785.47 1526.7 Q1786.49 1526.35 1787.51 1526.19 Q1788.53 1526 1789.55 1526 Q1795.33 1526 1798.71 1529.17 Q1802.09 1532.34 1802.09 1537.76 Q1802.09 1543.34 1798.62 1546.44 Q1795.15 1549.52 1788.83 1549.52 Q1786.65 1549.52 1784.38 1549.15 Q1782.14 1548.78 1779.73 1548.04 L1779.73 1543.34 Q1781.81 1544.47 1784.04 1545.03 Q1786.26 1545.58 1788.74 1545.58 Q1792.74 1545.58 1795.08 1543.48 Q1797.42 1541.37 1797.42 1537.76 Q1797.42 1534.15 1795.08 1532.04 Q1792.74 1529.94 1788.74 1529.94 Q1786.86 1529.94 1784.99 1530.35 Q1783.13 1530.77 1781.19 1531.65 L1781.19 1514.29 Z\" fill=\"#000000\" fill-rule=\"nonzero\" fill-opacity=\"1\" /><path clip-path=\"url(#clip860)\" d=\"M2250.56 1544.91 L2258.2 1544.91 L2258.2 1518.55 L2249.89 1520.21 L2249.89 1515.95 L2258.15 1514.29 L2262.83 1514.29 L2262.83 1544.91 L2270.47 1544.91 L2270.47 1548.85 L2250.56 1548.85 L2250.56 1544.91 Z\" fill=\"#000000\" fill-rule=\"nonzero\" fill-opacity=\"1\" /><path clip-path=\"url(#clip860)\" d=\"M2289.91 1517.37 Q2286.3 1517.37 2284.47 1520.93 Q2282.67 1524.47 2282.67 1531.6 Q2282.67 1538.71 2284.47 1542.27 Q2286.3 1545.82 2289.91 1545.82 Q2293.55 1545.82 2295.35 1542.27 Q2297.18 1538.71 2297.18 1531.6 Q2297.18 1524.47 2295.35 1520.93 Q2293.55 1517.37 2289.91 1517.37 M2289.91 1513.66 Q2295.72 1513.66 2298.78 1518.27 Q2301.86 1522.85 2301.86 1531.6 Q2301.86 1540.33 2298.78 1544.94 Q2295.72 1549.52 2289.91 1549.52 Q2284.1 1549.52 2281.02 1544.94 Q2277.97 1540.33 2277.97 1531.6 Q2277.97 1522.85 2281.02 1518.27 Q2284.1 1513.66 2289.91 1513.66 Z\" fill=\"#000000\" fill-rule=\"nonzero\" fill-opacity=\"1\" /><path clip-path=\"url(#clip860)\" d=\"M2320.08 1517.37 Q2316.46 1517.37 2314.64 1520.93 Q2312.83 1524.47 2312.83 1531.6 Q2312.83 1538.71 2314.64 1542.27 Q2316.46 1545.82 2320.08 1545.82 Q2323.71 1545.82 2325.51 1542.27 Q2327.34 1538.71 2327.34 1531.6 Q2327.34 1524.47 2325.51 1520.93 Q2323.71 1517.37 2320.08 1517.37 M2320.08 1513.66 Q2325.89 1513.66 2328.94 1518.27 Q2332.02 1522.85 2332.02 1531.6 Q2332.02 1540.33 2328.94 1544.94 Q2325.89 1549.52 2320.08 1549.52 Q2314.26 1549.52 2311.19 1544.94 Q2308.13 1540.33 2308.13 1531.6 Q2308.13 1522.85 2311.19 1518.27 Q2314.26 1513.66 2320.08 1513.66 Z\" fill=\"#000000\" fill-rule=\"nonzero\" fill-opacity=\"1\" /><polyline clip-path=\"url(#clip860)\" style=\"stroke:#000000; stroke-linecap:round; stroke-linejoin:round; stroke-width:4; stroke-opacity:1; fill:none\" points=\"169.121,1486.45 169.121,47.2441 \"/>\n",
       "<polyline clip-path=\"url(#clip860)\" style=\"stroke:#000000; stroke-linecap:round; stroke-linejoin:round; stroke-width:4; stroke-opacity:1; fill:none\" points=\"169.121,1445.72 188.019,1445.72 \"/>\n",
       "<polyline clip-path=\"url(#clip860)\" style=\"stroke:#000000; stroke-linecap:round; stroke-linejoin:round; stroke-width:4; stroke-opacity:1; fill:none\" points=\"169.121,1106.28 188.019,1106.28 \"/>\n",
       "<polyline clip-path=\"url(#clip860)\" style=\"stroke:#000000; stroke-linecap:round; stroke-linejoin:round; stroke-width:4; stroke-opacity:1; fill:none\" points=\"169.121,766.846 188.019,766.846 \"/>\n",
       "<polyline clip-path=\"url(#clip860)\" style=\"stroke:#000000; stroke-linecap:round; stroke-linejoin:round; stroke-width:4; stroke-opacity:1; fill:none\" points=\"169.121,427.411 188.019,427.411 \"/>\n",
       "<polyline clip-path=\"url(#clip860)\" style=\"stroke:#000000; stroke-linecap:round; stroke-linejoin:round; stroke-width:4; stroke-opacity:1; fill:none\" points=\"169.121,87.9763 188.019,87.9763 \"/>\n",
       "<path clip-path=\"url(#clip860)\" d=\"M121.177 1431.51 Q117.566 1431.51 115.737 1435.08 Q113.932 1438.62 113.932 1445.75 Q113.932 1452.86 115.737 1456.42 Q117.566 1459.96 121.177 1459.96 Q124.811 1459.96 126.617 1456.42 Q128.445 1452.86 128.445 1445.75 Q128.445 1438.62 126.617 1435.08 Q124.811 1431.51 121.177 1431.51 M121.177 1427.81 Q126.987 1427.81 130.043 1432.42 Q133.121 1437 133.121 1445.75 Q133.121 1454.48 130.043 1459.08 Q126.987 1463.67 121.177 1463.67 Q115.367 1463.67 112.288 1459.08 Q109.233 1454.48 109.233 1445.75 Q109.233 1437 112.288 1432.42 Q115.367 1427.81 121.177 1427.81 Z\" fill=\"#000000\" fill-rule=\"nonzero\" fill-opacity=\"1\" /><path clip-path=\"url(#clip860)\" d=\"M86.0382 1119.63 L102.358 1119.63 L102.358 1123.56 L80.4133 1123.56 L80.4133 1119.63 Q83.0753 1116.87 87.6586 1112.24 Q92.2651 1107.59 93.4456 1106.25 Q95.691 1103.72 96.5706 1101.99 Q97.4734 1100.23 97.4734 1098.54 Q97.4734 1095.78 95.5289 1094.05 Q93.6076 1092.31 90.5058 1092.31 Q88.3067 1092.31 85.8531 1093.07 Q83.4225 1093.84 80.6447 1095.39 L80.6447 1090.67 Q83.4688 1089.53 85.9225 1088.95 Q88.3762 1088.38 90.4132 1088.38 Q95.7836 1088.38 98.978 1091.06 Q102.172 1093.75 102.172 1098.24 Q102.172 1100.37 101.362 1102.29 Q100.575 1104.19 98.4687 1106.78 Q97.89 1107.45 94.7882 1110.67 Q91.6864 1113.86 86.0382 1119.63 Z\" fill=\"#000000\" fill-rule=\"nonzero\" fill-opacity=\"1\" /><path clip-path=\"url(#clip860)\" d=\"M112.219 1089 L130.575 1089 L130.575 1092.94 L116.501 1092.94 L116.501 1101.41 Q117.52 1101.06 118.538 1100.9 Q119.557 1100.71 120.575 1100.71 Q126.362 1100.71 129.742 1103.89 Q133.121 1107.06 133.121 1112.47 Q133.121 1118.05 129.649 1121.15 Q126.177 1124.23 119.857 1124.23 Q117.682 1124.23 115.413 1123.86 Q113.168 1123.49 110.76 1122.75 L110.76 1118.05 Q112.844 1119.19 115.066 1119.74 Q117.288 1120.3 119.765 1120.3 Q123.77 1120.3 126.107 1118.19 Q128.445 1116.08 128.445 1112.47 Q128.445 1108.86 126.107 1106.76 Q123.77 1104.65 119.765 1104.65 Q117.89 1104.65 116.015 1105.07 Q114.163 1105.48 112.219 1106.36 L112.219 1089 Z\" fill=\"#000000\" fill-rule=\"nonzero\" fill-opacity=\"1\" /><path clip-path=\"url(#clip860)\" d=\"M81.0614 749.566 L99.4178 749.566 L99.4178 753.501 L85.3438 753.501 L85.3438 761.973 Q86.3623 761.626 87.3808 761.464 Q88.3993 761.279 89.4178 761.279 Q95.2049 761.279 98.5845 764.45 Q101.964 767.621 101.964 773.038 Q101.964 778.617 98.4919 781.719 Q95.0197 784.797 88.7003 784.797 Q86.5243 784.797 84.2558 784.427 Q82.0105 784.057 79.6031 783.316 L79.6031 778.617 Q81.6864 779.751 83.9086 780.307 Q86.1308 780.862 88.6077 780.862 Q92.6123 780.862 94.9502 778.756 Q97.2882 776.649 97.2882 773.038 Q97.2882 769.427 94.9502 767.321 Q92.6123 765.214 88.6077 765.214 Q86.7327 765.214 84.8577 765.631 Q83.0058 766.047 81.0614 766.927 L81.0614 749.566 Z\" fill=\"#000000\" fill-rule=\"nonzero\" fill-opacity=\"1\" /><path clip-path=\"url(#clip860)\" d=\"M121.177 752.645 Q117.566 752.645 115.737 756.209 Q113.932 759.751 113.932 766.881 Q113.932 773.987 115.737 777.552 Q117.566 781.094 121.177 781.094 Q124.811 781.094 126.617 777.552 Q128.445 773.987 128.445 766.881 Q128.445 759.751 126.617 756.209 Q124.811 752.645 121.177 752.645 M121.177 748.941 Q126.987 748.941 130.043 753.547 Q133.121 758.131 133.121 766.881 Q133.121 775.608 130.043 780.214 Q126.987 784.797 121.177 784.797 Q115.367 784.797 112.288 780.214 Q109.233 775.608 109.233 766.881 Q109.233 758.131 112.288 753.547 Q115.367 748.941 121.177 748.941 Z\" fill=\"#000000\" fill-rule=\"nonzero\" fill-opacity=\"1\" /><path clip-path=\"url(#clip860)\" d=\"M80.8299 410.131 L103.052 410.131 L103.052 412.122 L90.5058 444.691 L85.6216 444.691 L97.4271 414.066 L80.8299 414.066 L80.8299 410.131 Z\" fill=\"#000000\" fill-rule=\"nonzero\" fill-opacity=\"1\" /><path clip-path=\"url(#clip860)\" d=\"M112.219 410.131 L130.575 410.131 L130.575 414.066 L116.501 414.066 L116.501 422.538 Q117.52 422.191 118.538 422.029 Q119.557 421.844 120.575 421.844 Q126.362 421.844 129.742 425.015 Q133.121 428.187 133.121 433.603 Q133.121 439.182 129.649 442.284 Q126.177 445.362 119.857 445.362 Q117.682 445.362 115.413 444.992 Q113.168 444.622 110.76 443.881 L110.76 439.182 Q112.844 440.316 115.066 440.872 Q117.288 441.427 119.765 441.427 Q123.77 441.427 126.107 439.321 Q128.445 437.214 128.445 433.603 Q128.445 429.992 126.107 427.886 Q123.77 425.779 119.765 425.779 Q117.89 425.779 116.015 426.196 Q114.163 426.613 112.219 427.492 L112.219 410.131 Z\" fill=\"#000000\" fill-rule=\"nonzero\" fill-opacity=\"1\" /><path clip-path=\"url(#clip860)\" d=\"M51.6634 101.321 L59.3023 101.321 L59.3023 74.9555 L50.9921 76.6222 L50.9921 72.3629 L59.256 70.6963 L63.9319 70.6963 L63.9319 101.321 L71.5707 101.321 L71.5707 105.256 L51.6634 105.256 L51.6634 101.321 Z\" fill=\"#000000\" fill-rule=\"nonzero\" fill-opacity=\"1\" /><path clip-path=\"url(#clip860)\" d=\"M91.0151 73.775 Q87.404 73.775 85.5753 77.3398 Q83.7697 80.8814 83.7697 88.011 Q83.7697 95.1174 85.5753 98.6822 Q87.404 102.224 91.0151 102.224 Q94.6493 102.224 96.4548 98.6822 Q98.2835 95.1174 98.2835 88.011 Q98.2835 80.8814 96.4548 77.3398 Q94.6493 73.775 91.0151 73.775 M91.0151 70.0713 Q96.8252 70.0713 99.8808 74.6777 Q102.959 79.261 102.959 88.011 Q102.959 96.7378 99.8808 101.344 Q96.8252 105.928 91.0151 105.928 Q85.2049 105.928 82.1262 101.344 Q79.0707 96.7378 79.0707 88.011 Q79.0707 79.261 82.1262 74.6777 Q85.2049 70.0713 91.0151 70.0713 Z\" fill=\"#000000\" fill-rule=\"nonzero\" fill-opacity=\"1\" /><path clip-path=\"url(#clip860)\" d=\"M121.177 73.775 Q117.566 73.775 115.737 77.3398 Q113.932 80.8814 113.932 88.011 Q113.932 95.1174 115.737 98.6822 Q117.566 102.224 121.177 102.224 Q124.811 102.224 126.617 98.6822 Q128.445 95.1174 128.445 88.011 Q128.445 80.8814 126.617 77.3398 Q124.811 73.775 121.177 73.775 M121.177 70.0713 Q126.987 70.0713 130.043 74.6777 Q133.121 79.261 133.121 88.011 Q133.121 96.7378 130.043 101.344 Q126.987 105.928 121.177 105.928 Q115.367 105.928 112.288 101.344 Q109.233 96.7378 109.233 88.011 Q109.233 79.261 112.288 74.6777 Q115.367 70.0713 121.177 70.0713 Z\" fill=\"#000000\" fill-rule=\"nonzero\" fill-opacity=\"1\" /><polyline clip-path=\"url(#clip862)\" style=\"stroke:#009af9; stroke-linecap:round; stroke-linejoin:round; stroke-width:4; stroke-opacity:1; fill:none\" points=\"230.922,1445.72 251.731,1445.72 272.539,1445.72 293.348,1445.72 314.156,1445.72 334.964,1445.72 355.773,1445.72 376.581,1445.72 397.39,1445.72 418.198,1445.72 439.006,1445.72 459.815,1445.72 480.623,1445.72 501.432,1445.72 522.24,1445.72 543.048,1445.72 563.857,1445.72 584.665,1445.72 605.474,1445.72 626.282,1445.72 647.091,1445.72 667.899,1445.72 688.707,1445.72 709.516,1445.72 730.324,1445.72 751.133,1445.72 771.941,1445.72 792.749,1445.72 813.558,1445.72 834.366,1445.72 855.175,1445.72 875.983,1445.72 896.791,1445.72 917.6,1445.72 938.408,1445.72 959.217,1445.72 980.025,1445.72 1000.83,1445.72 1021.64,1445.72 1042.45,1445.72 1063.26,1445.72 1084.07,1445.72 1104.88,1445.72 1125.68,1445.72 1146.49,1445.72 1167.3,1445.72 1188.11,1445.72 1208.92,1445.72 1229.73,1445.72 1250.53,1445.72 1271.34,1445.72 1292.15,1445.72 1312.96,1445.72 1333.77,1445.72 1354.58,1445.72 1375.38,1445.72 1396.19,1445.72 1417,1445.72 1437.81,1445.72 1458.62,1445.72 1479.43,1445.72 1500.24,1445.72 1521.04,1445.72 1541.85,1445.72 1562.66,1445.72 1583.47,1445.72 1604.28,1445.72 1625.09,1445.72 1645.89,1445.72 1666.7,1445.72 1687.51,1445.72 1708.32,1445.72 1729.13,1445.72 1749.94,1445.72 1770.74,1445.72 1791.55,1445.72 1812.36,1445.72 1833.17,1445.72 1853.98,1445.72 1874.79,1445.72 1895.6,1445.72 1916.4,1445.72 1937.21,1445.72 1958.02,1445.72 1978.83,1445.72 1999.64,1445.72 2020.45,1445.72 2041.25,1445.72 2062.06,1445.72 2082.87,1445.72 2103.68,1445.72 2124.49,1445.72 2145.3,1445.72 2166.1,1445.72 2186.91,1445.72 2207.72,1259.15 2228.53,946.95 2249.34,660.625 2270.15,374.301 2290.95,87.9763 \"/>\n",
       "<path clip-path=\"url(#clip860)\" d=\"M241.909 198.898 L512.703 198.898 L512.703 95.2176 L241.909 95.2176  Z\" fill=\"#ffffff\" fill-rule=\"evenodd\" fill-opacity=\"1\"/>\n",
       "<polyline clip-path=\"url(#clip860)\" style=\"stroke:#000000; stroke-linecap:round; stroke-linejoin:round; stroke-width:4; stroke-opacity:1; fill:none\" points=\"241.909,198.898 512.703,198.898 512.703,95.2176 241.909,95.2176 241.909,198.898 \"/>\n",
       "<polyline clip-path=\"url(#clip860)\" style=\"stroke:#009af9; stroke-linecap:round; stroke-linejoin:round; stroke-width:4; stroke-opacity:1; fill:none\" points=\"266.172,147.058 411.747,147.058 \"/>\n",
       "<path clip-path=\"url(#clip860)\" d=\"M449.853 166.745 Q448.047 171.375 446.334 172.787 Q444.621 174.199 441.751 174.199 L438.348 174.199 L438.348 170.634 L440.848 170.634 Q442.607 170.634 443.579 169.8 Q444.552 168.967 445.732 165.865 L446.496 163.921 L436.01 138.412 L440.524 138.412 L448.626 158.689 L456.727 138.412 L461.241 138.412 L449.853 166.745 Z\" fill=\"#000000\" fill-rule=\"nonzero\" fill-opacity=\"1\" /><path clip-path=\"url(#clip860)\" d=\"M468.533 160.402 L476.172 160.402 L476.172 134.037 L467.862 135.703 L467.862 131.444 L476.126 129.778 L480.801 129.778 L480.801 160.402 L488.44 160.402 L488.44 164.338 L468.533 164.338 L468.533 160.402 Z\" fill=\"#000000\" fill-rule=\"nonzero\" fill-opacity=\"1\" /></svg>\n"
      ]
     },
     "metadata": {},
     "output_type": "display_data"
    }
   ],
   "source": [
    "p1, xy = FEM.plotOnPath(problem, \"path\", T1, plot=true)\n",
    "plot(xy)"
   ]
  },
  {
   "cell_type": "code",
   "execution_count": 56,
   "metadata": {},
   "outputs": [
    {
     "name": "stdout",
     "output_type": "stream",
     "text": [
      "-------------------------------------------------------\n",
      "Version       : 4.13.1\n",
      "License       : GNU General Public License\n",
      "Build OS      : Linux64-sdk\n",
      "Build date    : 19700101\n",
      "Build host    : amdci7.julia.csail.mit.edu\n",
      "Build options : 64Bit ALGLIB[contrib] ANN[contrib] Bamg Blossom Cairo DIntegration Dlopen DomHex Eigen[contrib] Fltk GMP Gmm[contrib] Hxt Jpeg Kbipack LinuxJoystick MathEx[contrib] Mesh Metis[contrib] Mmg Mpeg Netgen Nii2mesh ONELAB ONELABMetamodel OpenCASCADE OpenCASCADE-CAF OpenGL OpenMP OptHom Parser Plugins Png Post QuadMeshingTools QuadTri Solver TetGen/BR TinyXML2[contrib] Untangle Voro++[contrib] WinslowUntangler Zlib\n",
      "FLTK version  : 1.3.8\n",
      "OCC version   : 7.7.2\n",
      "Packaged by   : root\n",
      "Web site      : https://gmsh.info\n",
      "Issue tracker : https://gitlab.onelab.info/gmsh/gmsh/issues\n",
      "-------------------------------------------------------\n"
     ]
    },
    {
     "name": "stderr",
     "output_type": "stream",
     "text": [
      "XRequest.18: BadValue 0x0\n"
     ]
    }
   ],
   "source": [
    "gmsh.fltk.run()"
   ]
  },
  {
   "cell_type": "code",
   "execution_count": 57,
   "metadata": {},
   "outputs": [],
   "source": [
    "gmsh.finalize()"
   ]
  }
 ],
 "metadata": {
  "kernelspec": {
   "display_name": "Julia 1.11.1",
   "language": "julia",
   "name": "julia-1.11"
  },
  "language_info": {
   "file_extension": ".jl",
   "mimetype": "application/julia",
   "name": "julia",
   "version": "1.11.1"
  }
 },
 "nbformat": 4,
 "nbformat_minor": 2
}
