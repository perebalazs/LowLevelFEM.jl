{
 "cells": [
  {
   "cell_type": "code",
   "execution_count": null,
   "metadata": {},
   "outputs": [],
   "source": [
    "using LinearAlgebra, SparseArrays\n",
    "import LowLevelFEM as FEM\n",
    "using LowLevelFEM\n",
    "\n",
    "gmsh.initialize()"
   ]
  },
  {
   "cell_type": "code",
   "execution_count": 2,
   "metadata": {},
   "outputs": [
    {
     "name": "stdout",
     "output_type": "stream",
     "text": [
      "Info    : Reading 'cantilever1D.geo'...\n",
      "Info    : Meshing 1D...\n",
      "Info    : [  0%] Meshing curve 1 (Line)\n",
      "Info    : [ 30%] Meshing curve 2 (Line)\n",
      "Info    : [ 50%] Meshing curve 3 (Line)\n",
      "Info    : [ 80%] Meshing curve 4 (Line)\n",
      "Info    : Done meshing 1D (Wall 0.00023879s, CPU 0.000233s)\n",
      "Info    : Meshing 2D...\n",
      "Info    : Meshing surface 1 (Plane, Frontal-Delaunay)\n",
      "Info    : Blossom: 59 internal 26 closed\n",
      "Info    : Blossom recombination completed (Wall 0.00110301s, CPU 0.001091s): 24 quads, 0 triangles, 0 invalid quads, 0 quads with Q < 0.1, avg Q = 0.534656, min Q = 0.417442\n",
      "Info    : Done meshing 2D (Wall 0.00444128s, CPU 0.004428s)\n",
      "Info    : 38 nodes 54 elements\n",
      "Info    : Done reading 'cantilever1D.geo'\n"
     ]
    }
   ],
   "source": [
    "gmsh.open(\"cantilever1D.geo\")"
   ]
  },
  {
   "cell_type": "code",
   "execution_count": 3,
   "metadata": {},
   "outputs": [
    {
     "name": "stdout",
     "output_type": "stream",
     "text": [
      "Info    : RCMK renumbering...\n",
      "Info    : Done RCMK renumbering (bandwidth is now 4)\n"
     ]
    },
    {
     "data": {
      "text/plain": [
       "Main.LowLevelFEM.Problem(\"cantilever\", \"PlaneStress\", 2, 200000.0, 0.0, 1.0, 1.0, 38)"
      ]
     },
     "execution_count": 3,
     "metadata": {},
     "output_type": "execute_result"
    }
   ],
   "source": [
    "problem = FEM.Problem(type=\"PlaneStress\", E=2.0e5, ν=0.0, ρ=1.0)"
   ]
  },
  {
   "cell_type": "code",
   "execution_count": 4,
   "metadata": {},
   "outputs": [
    {
     "data": {
      "text/plain": [
       "76×76 SparseMatrixCSC{Float64, Int64} with 1024 stored entries:\n",
       "⎡⣿⣿⣿⣿⣤⣤⠀⠀⠀⠀⠀⠀⠀⠀⠀⠀⠀⠀⠀⠀⠀⠀⠀⠀⠀⠀⠀⠀⠀⠀⠀⠀⠀⠀⠀⠀⠀⠀⎤\n",
       "⎢⣿⣿⣿⣿⠛⣿⣿⠀⠀⠀⠀⠀⠀⠀⠀⠀⠀⠀⠀⠀⠀⠀⠀⠀⠀⠀⠀⠀⠀⠀⠀⠀⠀⠀⠀⠀⠀⠀⎥\n",
       "⎢⠀⣿⣿⣤⣿⣿⣤⣿⣿⣤⠀⠀⠀⠀⠀⠀⠀⠀⠀⠀⠀⠀⠀⠀⠀⠀⠀⠀⠀⠀⠀⠀⠀⠀⠀⠀⠀⠀⎥\n",
       "⎢⠀⠀⠛⠛⣤⣿⠛⣤⣿⠛⣤⣤⠀⠀⠀⠀⠀⠀⠀⠀⠀⠀⠀⠀⠀⠀⠀⠀⠀⠀⠀⠀⠀⠀⠀⠀⠀⠀⎥\n",
       "⎢⠀⠀⠀⠀⠛⣿⣿⠛⣿⣿⠛⣿⣿⠀⠀⠀⠀⠀⠀⠀⠀⠀⠀⠀⠀⠀⠀⠀⠀⠀⠀⠀⠀⠀⠀⠀⠀⠀⎥\n",
       "⎢⠀⠀⠀⠀⠀⠀⠀⣿⣿⣤⣿⣿⣤⣿⣿⣤⠀⠀⠀⠀⠀⠀⠀⠀⠀⠀⠀⠀⠀⠀⠀⠀⠀⠀⠀⠀⠀⠀⎥\n",
       "⎢⠀⠀⠀⠀⠀⠀⠀⠀⠛⠛⣤⣿⠛⣤⣿⠛⣤⣤⠀⠀⠀⠀⠀⠀⠀⠀⠀⠀⠀⠀⠀⠀⠀⠀⠀⠀⠀⠀⎥\n",
       "⎢⠀⠀⠀⠀⠀⠀⠀⠀⠀⠀⠛⣿⣿⠛⣿⣿⠛⣿⣿⠀⠀⠀⠀⠀⠀⠀⠀⠀⠀⠀⠀⠀⠀⠀⠀⠀⠀⠀⎥\n",
       "⎢⠀⠀⠀⠀⠀⠀⠀⠀⠀⠀⠀⠀⠀⣿⣿⣤⣿⣿⣤⣿⣿⣤⠀⠀⠀⠀⠀⠀⠀⠀⠀⠀⠀⠀⠀⠀⠀⠀⎥\n",
       "⎢⠀⠀⠀⠀⠀⠀⠀⠀⠀⠀⠀⠀⠀⠀⠛⠛⣤⣿⠛⣤⣿⠛⣤⣤⠀⠀⠀⠀⠀⠀⠀⠀⠀⠀⠀⠀⠀⠀⎥\n",
       "⎢⠀⠀⠀⠀⠀⠀⠀⠀⠀⠀⠀⠀⠀⠀⠀⠀⠛⣿⣿⠛⣿⣿⠛⣿⣿⠀⠀⠀⠀⠀⠀⠀⠀⠀⠀⠀⠀⠀⎥\n",
       "⎢⠀⠀⠀⠀⠀⠀⠀⠀⠀⠀⠀⠀⠀⠀⠀⠀⠀⠀⠀⣿⣿⣤⣿⣿⣤⣿⣿⣤⠀⠀⠀⠀⠀⠀⠀⠀⠀⠀⎥\n",
       "⎢⠀⠀⠀⠀⠀⠀⠀⠀⠀⠀⠀⠀⠀⠀⠀⠀⠀⠀⠀⠀⠛⠛⣤⣿⠛⣤⣿⠛⣤⣤⠀⠀⠀⠀⠀⠀⠀⠀⎥\n",
       "⎢⠀⠀⠀⠀⠀⠀⠀⠀⠀⠀⠀⠀⠀⠀⠀⠀⠀⠀⠀⠀⠀⠀⠛⣿⣿⠛⣿⣿⠛⣿⣿⠀⠀⠀⠀⠀⠀⠀⎥\n",
       "⎢⠀⠀⠀⠀⠀⠀⠀⠀⠀⠀⠀⠀⠀⠀⠀⠀⠀⠀⠀⠀⠀⠀⠀⠀⠀⣿⣿⣤⣿⣿⣤⣿⣿⣤⠀⠀⠀⠀⎥\n",
       "⎢⠀⠀⠀⠀⠀⠀⠀⠀⠀⠀⠀⠀⠀⠀⠀⠀⠀⠀⠀⠀⠀⠀⠀⠀⠀⠀⠛⠛⣤⣿⠛⣤⣿⠛⣤⣤⠀⠀⎥\n",
       "⎢⠀⠀⠀⠀⠀⠀⠀⠀⠀⠀⠀⠀⠀⠀⠀⠀⠀⠀⠀⠀⠀⠀⠀⠀⠀⠀⠀⠀⠛⣿⣿⠛⣿⣿⣿⠛⣿⠀⎥\n",
       "⎢⠀⠀⠀⠀⠀⠀⠀⠀⠀⠀⠀⠀⠀⠀⠀⠀⠀⠀⠀⠀⠀⠀⠀⠀⠀⠀⠀⠀⠀⠀⠀⣿⣿⠛⣿⣿⣿⣿⎥\n",
       "⎣⠀⠀⠀⠀⠀⠀⠀⠀⠀⠀⠀⠀⠀⠀⠀⠀⠀⠀⠀⠀⠀⠀⠀⠀⠀⠀⠀⠀⠀⠀⠀⠀⠛⠛⣿⣿⣿⣿⎦"
      ]
     },
     "execution_count": 4,
     "metadata": {},
     "output_type": "execute_result"
    }
   ],
   "source": [
    "K = FEM.stiffnessMatrix(problem)"
   ]
  },
  {
   "cell_type": "code",
   "execution_count": 5,
   "metadata": {},
   "outputs": [
    {
     "data": {
      "text/plain": [
       "(\"body\", 1, 0, 0)"
      ]
     },
     "execution_count": 5,
     "metadata": {},
     "output_type": "execute_result"
    }
   ],
   "source": [
    "supp1 = FEM.displacementConstraint(\"bottom\", uy=0)\n",
    "supp2 = FEM.displacementConstraint(\"left\", ux=0)\n",
    "load1 = FEM.load(\"right\", fx=10)\n",
    "load4 = FEM.load(\"body\", fx=1)"
   ]
  },
  {
   "cell_type": "code",
   "execution_count": 6,
   "metadata": {},
   "outputs": [
    {
     "data": {
      "text/plain": [
       "76-element Vector{Float64}:\n",
       " 16.87083267742667\n",
       "  0.0\n",
       " 26.20078889482331\n",
       "  0.0\n",
       " 27.641738326093385\n",
       "  0.0\n",
       " 20.090923619649082\n",
       "  0.0\n",
       " 20.3125177088577\n",
       "  0.0\n",
       " 37.49568190087324\n",
       "  0.0\n",
       " 19.268656574912256\n",
       "  ⋮\n",
       " 37.51251049596894\n",
       "  0.0\n",
       " 20.317822875742905\n",
       "  0.0\n",
       " 27.641738326093392\n",
       "  0.0\n",
       " 20.090923619649082\n",
       "  0.0\n",
       " 76.2007888948233\n",
       "  0.0\n",
       " 66.87083267742666\n",
       "  0.0"
      ]
     },
     "execution_count": 6,
     "metadata": {},
     "output_type": "execute_result"
    }
   ],
   "source": [
    "f = FEM.loadVector(problem, [load1 load4])"
   ]
  },
  {
   "cell_type": "code",
   "execution_count": 7,
   "metadata": {},
   "outputs": [
    {
     "data": {
      "text/plain": [
       "(sparse([1, 2, 3, 4, 5, 6, 7, 9, 10, 11  …  73, 75, 76, 69, 70, 71, 72, 73, 75, 76], [1, 2, 3, 4, 4, 4, 4, 4, 4, 4  …  75, 75, 75, 76, 76, 76, 76, 76, 76, 76], [1.0, 1.0, 1.0, 120262.75589244816, 18347.832593852356, -37985.86667046019, 18828.081945332055, -50827.11789706122, -29687.107140525462, 10444.144696816371  …  4377.289180227082, 130283.5088980176, 39236.340048099555, -35015.04611009374, -88185.01175042975, 29986.74888452452, 15521.300026981433, -34208.042822530326, 39236.340048099555, 116225.17313409975], 76, 76), [0.0, 0.0, 0.0, 0.0, 27.641738326093385, 0.0, 20.090923619649082, 0.0, 20.3125177088577, 0.0  …  20.317822875742905, 0.0, 27.641738326093392, 0.0, 20.090923619649082, 0.0, 76.2007888948233, 0.0, 66.87083267742666, 0.0])"
      ]
     },
     "execution_count": 7,
     "metadata": {},
     "output_type": "execute_result"
    }
   ],
   "source": [
    "K1, f1 = FEM.applyBoundaryConditions(problem, K, f, [supp1 supp2])"
   ]
  },
  {
   "cell_type": "code",
   "execution_count": 8,
   "metadata": {},
   "outputs": [
    {
     "data": {
      "text/plain": [
       "76-element Vector{Float64}:\n",
       "  0.0\n",
       "  0.0\n",
       "  0.0\n",
       "  6.934361299121678e-6\n",
       "  0.0037789163851801176\n",
       " -3.901190377228818e-7\n",
       "  0.004419998759019663\n",
       "  0.0\n",
       "  0.004398609030561748\n",
       " -5.062330736510724e-7\n",
       "  0.0067142574912961665\n",
       "  1.24965333695701e-6\n",
       "  0.008460777811394008\n",
       "  ⋮\n",
       "  0.028917022953665404\n",
       " -3.5022810146032495e-6\n",
       "  0.02940435402710592\n",
       "  0.0\n",
       "  0.02949448813278993\n",
       " -4.09680339076964e-6\n",
       "  0.029412681057934206\n",
       " -1.0196162255763098e-5\n",
       "  0.030040699126238718\n",
       "  0.0\n",
       "  0.029959300873761193\n",
       "  2.3208118059761256e-5"
      ]
     },
     "execution_count": 8,
     "metadata": {},
     "output_type": "execute_result"
    }
   ],
   "source": [
    "q = FEM.solveDisplacement(K1, f1)"
   ]
  },
  {
   "cell_type": "code",
   "execution_count": 9,
   "metadata": {},
   "outputs": [
    {
     "data": {
      "text/plain": [
       "76-element Vector{Float64}:\n",
       " -546.4988951401458\n",
       "   -0.04520687685152325\n",
       " -553.5011048598549\n",
       "    3.0801750039444187e-14\n",
       "   -1.6697754290362354e-13\n",
       "   -2.842170943040401e-14\n",
       "    1.4921397450962104e-13\n",
       "   -0.22424072334763423\n",
       "    8.171241461241152e-14\n",
       "   -3.657924657618494e-14\n",
       "    7.105427357601002e-14\n",
       "    8.526512829121202e-14\n",
       "   -2.2737367544323206e-13\n",
       "    ⋮\n",
       "    8.810729923425242e-13\n",
       "   -2.2737367544323206e-13\n",
       "   -1.3926637620897964e-12\n",
       "    1.9424217043796261\n",
       "   -1.4566126083082054e-12\n",
       "   -5.311306949806749e-13\n",
       "   -1.5205614545266144e-12\n",
       "   -1.0036416142611415e-13\n",
       "   -1.5631940186722204e-13\n",
       "   -3.1525656716679866\n",
       "    2.4158453015843406e-13\n",
       "    9.192646643896296e-14"
      ]
     },
     "execution_count": 9,
     "metadata": {},
     "output_type": "execute_result"
    }
   ],
   "source": [
    "FT = K * q - f"
   ]
  },
  {
   "cell_type": "code",
   "execution_count": 10,
   "metadata": {},
   "outputs": [
    {
     "data": {
      "text/plain": [
       "Main.LowLevelFEM.StressField([[14.05490992790609; -0.5780457197589689; … ; 0.0; 0.0;;], [39.176285759795135; 0.8635468897481933; … ; 0.0; 0.0;;], [80.81683506411373; -0.8615151235256534; … ; 0.0; 0.0;;], [22.842959985478785; -0.8233802489748115; … ; 0.0; 0.0;;], [19.78756593514156; -0.5198654547597208; … ; 0.0; 0.0;;], [51.66703754605987; -0.8687732224147044; … ; 0.0; 0.0;;], [30.843874993731653; -0.8934532672090836; … ; 0.0; 0.0;;], [105.90192246540529; -0.04928864009530094; … ; 0.0; 0.0;;], [100.1663935637331; 0.39920502926599816; … ; 0.0; 0.0;;], [100.34389076277711; -0.8738013154958943; … ; 0.0; 0.0;;]  …  [72.49474228015734; -0.865148927232614; … ; 0.0; 0.0;;], [84.95172503318375; 0.8606641954440322; … ; 0.0; 0.0;;], [97.52820680898127; -0.8185182204716663; … ; 0.0; 0.0;;], [89.14059449884205; 0.8788775728666006; … ; 0.0; 0.0;;], [55.83451824300546; -0.8679821013166892; … ; 0.0; 0.0;;], [76.66042727439505; -0.8623663635162803; … ; 0.0; 0.0;;], [43.33893491129462; 0.8642989828451085; … ; 0.0; 0.0;;], [39.16694468483516; -0.8792658485220431; … ; 0.0; 0.0;;], [22.606928497736437; 0.7782662659697528; … ; 0.0; 0.0;;], [64.16739421811756; 0.868509845498096; … ; 0.0; 0.0;;]], [27, 28, 29, 30, 31, 32, 33, 34, 35, 36  …  41, 42, 43, 44, 45, 46, 47, 48, 49, 50], 1)"
      ]
     },
     "execution_count": 10,
     "metadata": {},
     "output_type": "execute_result"
    }
   ],
   "source": [
    "S = FEM.solveStress(problem, q)"
   ]
  },
  {
   "cell_type": "code",
   "execution_count": 11,
   "metadata": {},
   "outputs": [
    {
     "data": {
      "text/plain": [
       "\"ux..ok\""
      ]
     },
     "metadata": {},
     "output_type": "display_data"
    },
    {
     "data": {
      "text/plain": [
       "\"sx..ok\""
      ]
     },
     "metadata": {},
     "output_type": "display_data"
    },
    {
     "data": {
      "text/plain": [
       "\"uvec..ok\""
      ]
     },
     "metadata": {},
     "output_type": "display_data"
    }
   ],
   "source": [
    "ux = FEM.showDoFResults(problem, q, \"ux\", name=\"ux\", visible=false)\n",
    "sx = FEM.showStressResults(problem, S, \"sx\", name=\"σx\", visible=false, smooth=false)\n",
    "gmsh.view.option.setNumber(sx, \"MaxRecursionLevel\", 0)\n",
    "ft = FEM.showDoFResults(problem, FT, \"uvec\", name=\"F_T\", visible=false)\n",
    "gmsh.view.option.setNumber(ft, \"MaxRecursionLevel\", 0)"
   ]
  },
  {
   "cell_type": "code",
   "execution_count": 12,
   "metadata": {},
   "outputs": [],
   "source": [
    "FEM.plotOnPath(problem, \"path\", sx, 1000, name=\"σx\", visible=true);\n",
    "FEM.plotOnPath(problem, \"path\", ux, 1000, name=\"ux\", visible=true);"
   ]
  },
  {
   "cell_type": "code",
   "execution_count": 13,
   "metadata": {},
   "outputs": [
    {
     "name": "stdout",
     "output_type": "stream",
     "text": [
      "-------------------------------------------------------\n",
      "Version       : 4.12.2\n",
      "License       : GNU General Public License\n",
      "Build OS      : Linux64-sdk\n",
      "Build date    : 19700101\n",
      "Build host    : amdci7.julia.csail.mit.edu\n",
      "Build options : 64Bit ALGLIB[contrib] ANN[contrib] Bamg Blossom Cairo DIntegration Dlopen DomHex Eigen[contrib] Fltk GMP Gmm[contrib] Hxt Jpeg Kbipack LinuxJoystick MathEx[contrib] Mesh Metis[contrib] Mmg Mpeg Netgen ONELAB ONELABMetamodel OpenCASCADE OpenCASCADE-CAF OpenGL OpenMP OptHom Parser Plugins Png Post QuadMeshingTools QuadTri Solver TetGen/BR Voro++[contrib] WinslowUntangler Zlib\n",
      "FLTK version  : 1.3.8\n",
      "OCC version   : 7.6.2\n",
      "Packaged by   : root\n",
      "Web site      : https://gmsh.info\n",
      "Issue tracker : https://gitlab.onelab.info/gmsh/gmsh/issues\n",
      "-------------------------------------------------------\n"
     ]
    },
    {
     "name": "stderr",
     "output_type": "stream",
     "text": [
      "XOpenIM() failed\n",
      "XRequest.18: BadValue 0x0\n"
     ]
    }
   ],
   "source": [
    "gmsh.fltk.run()"
   ]
  },
  {
   "cell_type": "code",
   "execution_count": 14,
   "metadata": {
    "slideshow": {
     "slide_type": ""
    },
    "tags": []
   },
   "outputs": [],
   "source": [
    "gmsh.finalize()"
   ]
  }
 ],
 "metadata": {
  "kernelspec": {
   "display_name": "Julia 1.10.2",
   "language": "julia",
   "name": "julia-1.10"
  },
  "language_info": {
   "file_extension": ".jl",
   "mimetype": "application/julia",
   "name": "julia",
   "version": "1.10.2"
  },
  "varInspector": {
   "cols": {
    "lenName": 16,
    "lenType": 16,
    "lenVar": 40
   },
   "kernels_config": {
    "python": {
     "delete_cmd_postfix": "",
     "delete_cmd_prefix": "del ",
     "library": "var_list.py",
     "varRefreshCmd": "print(var_dic_list())"
    },
    "r": {
     "delete_cmd_postfix": ") ",
     "delete_cmd_prefix": "rm(",
     "library": "var_list.r",
     "varRefreshCmd": "cat(var_dic_list()) "
    }
   },
   "types_to_exclude": [
    "module",
    "function",
    "builtin_function_or_method",
    "instance",
    "_Feature"
   ],
   "window_display": false
  }
 },
 "nbformat": 4,
 "nbformat_minor": 4
}
