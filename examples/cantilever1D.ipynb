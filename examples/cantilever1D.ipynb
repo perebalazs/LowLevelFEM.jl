{
 "cells": [
  {
   "cell_type": "code",
   "execution_count": 1,
   "metadata": {},
   "outputs": [],
   "source": [
    "using LinearAlgebra, SparseArrays\n",
    "import gmsh\n",
    "gmsh.initialize()\n",
    "\n",
    "include(\"../src/FEM.jl\")\n",
    "using .FEM"
   ]
  },
  {
   "cell_type": "code",
   "execution_count": 2,
   "metadata": {},
   "outputs": [
    {
     "name": "stdout",
     "output_type": "stream",
     "text": [
      "Info    : Reading 'cantilever1D.geo'...\n",
      "Info    : Meshing 1D...\n",
      "Info    : [  0%] Meshing curve 1 (Line)\n",
      "Info    : [ 30%] Meshing curve 2 (Line)\n",
      "Info    : [ 50%] Meshing curve 3 (Line)\n",
      "Info    : [ 80%] Meshing curve 4 (Line)\n",
      "Info    : Done meshing 1D (Wall 0.000335858s, CPU 0.000311s)\n",
      "Info    : Meshing 2D...\n",
      "Info    : Meshing surface 1 (Plane, Frontal-Delaunay)\n",
      "Info    : Blossom: 3 internal 4 closed\n",
      "Info    : Blossom recombination completed (Wall 7.1828e-05s, CPU 6.8e-05s): 2 quads, 0 triangles, 0 invalid quads, 0 quads with Q < 0.1, avg Q = 1, min Q = 1\n",
      "Info    : Done meshing 2D (Wall 0.00056736s, CPU 0.000526s)\n",
      "Info    : 6 nodes 12 elements\n",
      "Info    : Done reading 'cantilever1D.geo'\n"
     ]
    }
   ],
   "source": [
    "gmsh.open(\"cantilever1D.geo\")"
   ]
  },
  {
   "cell_type": "code",
   "execution_count": 3,
   "metadata": {},
   "outputs": [
    {
     "data": {
      "text/plain": [
       "Main.FEM.Problem(\"cantilever\", \"PlaneStress\", 2, 200000.0, 0.0, 1.0, 1.0, 6)"
      ]
     },
     "metadata": {},
     "output_type": "display_data"
    }
   ],
   "source": [
    "problem = FEM.Problem(type=\"PlaneStress\", E=2.0e5, ν=0.0, ρ=1.0)"
   ]
  },
  {
   "cell_type": "code",
   "execution_count": 4,
   "metadata": {},
   "outputs": [],
   "source": [
    "#gmsh.fltk.run()"
   ]
  },
  {
   "cell_type": "code",
   "execution_count": 5,
   "metadata": {},
   "outputs": [],
   "source": [
    "# Néhány láthatósági beállítás 0:kikapcs. 1:bekapcs.\n",
    "gmsh.option.setNumber(\"Geometry.CurveLabels\", 0)\n",
    "gmsh.option.setNumber(\"Geometry.Points\", 0)\n",
    "gmsh.option.setNumber(\"Geometry.Curves\", 0)\n",
    "gmsh.option.setNumber(\"Mesh.Points\", 0)\n",
    "gmsh.option.setNumber(\"Mesh.Lines\", 0)\n",
    "gmsh.option.setNumber(\"Mesh.SurfaceEdges\", 0)\n",
    "gmsh.option.setNumber(\"Mesh.NodeLabels\", 0)\n",
    "gmsh.option.setNumber(\"Mesh.LineLabels\", 0)\n",
    "gmsh.option.setNumber(\"Mesh.SurfaceLabels\", 0)"
   ]
  },
  {
   "cell_type": "code",
   "execution_count": 6,
   "metadata": {},
   "outputs": [
    {
     "data": {
      "text/plain": [
       "12×12 SparseMatrixCSC{Float64, Int64} with 112 stored entries:\n",
       "  180000.0    25000.0         ⋅          ⋅   …   -90000.0           -25000.0\n",
       "   25000.0   340000.0         ⋅          ⋅       -25000.0          -170000.0\n",
       "        ⋅          ⋅    180000.0   -25000.0      -90000.0            25000.0\n",
       "        ⋅          ⋅    -25000.0   340000.0       25000.0          -170000.0\n",
       "        ⋅          ⋅   -160000.0    25000.0       70000.0           -25000.0\n",
       "        ⋅          ⋅    -25000.0  -330000.0  …    25000.0           160000.0\n",
       " -160000.0   -25000.0         ⋅          ⋅        70000.0            25000.0\n",
       "   25000.0  -330000.0         ⋅          ⋅       -25000.0           160000.0\n",
       "   70000.0    25000.0    70000.0   -25000.0     -320000.0                0.0\n",
       "  -25000.0   160000.0    25000.0   160000.0           3.63798e-12  -660000.0\n",
       "  -90000.0   -25000.0   -90000.0    25000.0  …   360000.0                0.0\n",
       "  -25000.0  -170000.0    25000.0  -170000.0           0.0           680000.0"
      ]
     },
     "metadata": {},
     "output_type": "display_data"
    }
   ],
   "source": [
    "K = FEM.stiffnessMatrix(problem)"
   ]
  },
  {
   "cell_type": "code",
   "execution_count": 7,
   "metadata": {},
   "outputs": [],
   "source": [
    "#M = FEM.massMatrix(problem, lumped=false)"
   ]
  },
  {
   "cell_type": "code",
   "execution_count": 8,
   "metadata": {},
   "outputs": [],
   "source": [
    "#dof, dof = size(M)\n",
    "#a = zeros(dof)\n",
    "#a[1:2:dof] .= 10\n",
    "#fx = M * a"
   ]
  },
  {
   "cell_type": "code",
   "execution_count": 9,
   "metadata": {},
   "outputs": [
    {
     "data": {
      "text/plain": [
       "(\"body\", 1, 0, 0)"
      ]
     },
     "metadata": {},
     "output_type": "display_data"
    }
   ],
   "source": [
    "supp1 = FEM.displacementConstraint(\"bottom\", uy=0)\n",
    "supp2 = FEM.displacementConstraint(\"left\", ux=0)\n",
    "load1 = FEM.load(\"right\", fx=10)\n",
    "#load2 = FEM.traction(\"bottom\", fx=1)\n",
    "#load3 = FEM.traction(\"top\", fx=1)\n",
    "load4 = FEM.load(\"body\", fx=1)"
   ]
  },
  {
   "cell_type": "code",
   "execution_count": 10,
   "metadata": {},
   "outputs": [
    {
     "data": {
      "text/plain": [
       "12-element Vector{Float64}:\n",
       " 125.0\n",
       "   0.0\n",
       " 175.0\n",
       "   0.0\n",
       " 175.0\n",
       "   0.0\n",
       " 125.0\n",
       "   0.0\n",
       " 250.0\n",
       "   0.0\n",
       " 250.0\n",
       "   0.0"
      ]
     },
     "metadata": {},
     "output_type": "display_data"
    }
   ],
   "source": [
    "f = FEM.loadVector(problem, [load1 load4])"
   ]
  },
  {
   "cell_type": "code",
   "execution_count": 11,
   "metadata": {},
   "outputs": [
    {
     "data": {
      "text/plain": [
       "(sparse([1, 2, 3, 5, 6, 9, 11, 12, 4, 3  …  5, 6, 8, 9, 11, 3, 5, 6, 8, 12], [1, 2, 3, 3, 3, 3, 3, 3, 4, 5  …  11, 11, 11, 11, 11, 12, 12, 12, 12, 12], [1.0, 1.0, 180000.00000000003, -160000.00000000003, -25000.000000000004, 70000.00000000003, -90000.00000000001, 25000.000000000004, 1.0, -160000.00000000003  …  70000.00000000001, 25000.0, -25000.0, -320000.0, 360000.0, 25000.000000000004, -25000.000000000004, 160000.00000000006, 160000.00000000006, 680000.0], 12, 12), [0.0, 0.0, 175.0, 0.0, 175.0, 0.0, 0.0, 0.0, 250.0, 0.0, 250.0, 0.0])"
      ]
     },
     "metadata": {},
     "output_type": "display_data"
    }
   ],
   "source": [
    "K1, f1 = FEM.applyBoundaryConditions(problem, K, f, [supp1 supp2])"
   ]
  },
  {
   "cell_type": "code",
   "execution_count": 12,
   "metadata": {},
   "outputs": [
    {
     "data": {
      "text/plain": [
       "12-element Vector{Float64}:\n",
       "  0.0\n",
       "  0.0\n",
       "  0.030000000000000124\n",
       "  0.0\n",
       "  0.030000000000000124\n",
       " -1.9871403873599e-19\n",
       "  0.0\n",
       " -9.95921618758584e-20\n",
       "  0.021250000000000085\n",
       "  0.0\n",
       "  0.021250000000000085\n",
       "  2.11633343986199e-19"
      ]
     },
     "metadata": {},
     "output_type": "display_data"
    }
   ],
   "source": [
    "q = FEM.solveDisplacement(K1, f1)"
   ]
  },
  {
   "cell_type": "code",
   "execution_count": 13,
   "metadata": {},
   "outputs": [
    {
     "data": {
      "text/plain": [
       "12-element Vector{Float64}:\n",
       " -550.0000000000018\n",
       "   -3.597766847765384e-14\n",
       "    2.2737367544323206e-13\n",
       "    7.770916924396219e-14\n",
       "   -9.094947017729282e-13\n",
       "   -7.982550268382418e-14\n",
       " -550.0000000000018\n",
       "    3.386133503779185e-14\n",
       "    1.8189894035458565e-12\n",
       "   -8.89659529268771e-14\n",
       "    1.8189894035458565e-12\n",
       "    9.618168181271956e-14"
      ]
     },
     "metadata": {},
     "output_type": "display_data"
    }
   ],
   "source": [
    "FT = K * q - f"
   ]
  },
  {
   "cell_type": "code",
   "execution_count": 14,
   "metadata": {},
   "outputs": [
    {
     "data": {
      "text/plain": [
       "Main.FEM.StressField([[35.00000000000015; 0.0; … ; 0.0; 0.0;;], [85.00000000000034; 0.0; … ; 0.0; 0.0;;]], [7, 8], 1)"
      ]
     },
     "metadata": {},
     "output_type": "display_data"
    }
   ],
   "source": [
    "S = FEM.solveStress(problem, q)"
   ]
  },
  {
   "cell_type": "code",
   "execution_count": 15,
   "metadata": {},
   "outputs": [],
   "source": [
    "gmsh.option.setNumber(\"View.IntervalsType\", 3)\n",
    "gmsh.option.setNumber(\"View.VectorType\", 5)\n",
    "gmsh.option.setString(\"View.Format\", \"%.6g\")"
   ]
  },
  {
   "cell_type": "code",
   "execution_count": 16,
   "metadata": {},
   "outputs": [
    {
     "data": {
      "text/plain": [
       "\"ux..ok\""
      ]
     },
     "metadata": {},
     "output_type": "display_data"
    },
    {
     "data": {
      "text/plain": [
       "\"sx..ok\""
      ]
     },
     "metadata": {},
     "output_type": "display_data"
    },
    {
     "data": {
      "text/plain": [
       "\"uvec..ok\""
      ]
     },
     "metadata": {},
     "output_type": "display_data"
    }
   ],
   "source": [
    "#u = FEM.showDoFResults(problem, q, \"uvec\", name=\"uvec\", visible=false)\n",
    "ux = FEM.showDoFResults(problem, q, \"ux\", name=\"ux\", visible=false)\n",
    "#uy = FEM.showDoFResults(problem, q, \"uy\", name=\"uy\", visible=false)\n",
    "#uz = FEM.showDoFResults(problem, q, \"uz\", name=\"uz\", visible=false)\n",
    "#s = FEM.showStressResults(problem, S, \"s\", name=\"σ\", visible=true, smooth=true)\n",
    "sx = FEM.showStressResults(problem, S, \"sx\", name=\"σx\", visible=false, smooth=false)\n",
    "gmsh.view.option.setNumber(sx, \"MaxRecursionLevel\", 0)\n",
    "#sy = FEM.showStressResults(problem, S, \"sy\", name=\"σy\", visible=false, smooth=true)\n",
    "#sz = FEM.showStressResults(problem, S, \"sz\", name=\"σz\", visible=false, smooth=true)\n",
    "#sxy = FEM.showStressResults(problem, S, \"sxy\", name=\"τxy\", visible=false, smooth=true)\n",
    "#syz = FEM.showStressResults(problem, S, \"syz\", name=\"τyz\", visible=false, smooth=true)\n",
    "#szx = FEM.showStressResults(problem, S, \"szx\", name=\"τzx\", visible=false, smooth=true)\n",
    "ft = FEM.showDoFResults(problem, FT, \"uvec\", name=\"F_T\", visible=false)\n",
    "gmsh.view.option.setNumber(ft, \"MaxRecursionLevel\", 0)"
   ]
  },
  {
   "cell_type": "code",
   "execution_count": 17,
   "metadata": {},
   "outputs": [],
   "source": [
    "FEM.plotOnPath(problem, \"path\", sx, 1000, name=\"σx\", visible=true);\n",
    "#FEM.plotOnPath(problem, \"path\", sxy, 100, name=\"τxy\", visible=false);\n",
    "FEM.plotOnPath(problem, \"path\", ux, 1000, name=\"ux\", visible=true);"
   ]
  },
  {
   "cell_type": "code",
   "execution_count": 18,
   "metadata": {},
   "outputs": [],
   "source": [
    "#gmsh.option.setNumber(\"PostProcessing.Binary\", 1)\n",
    "#gmsh.option.setNumber(\"PostProcessing.SaveMesh\", 1)\n",
    "\n",
    "#gmsh.write(\"rect.msh\")\n",
    "#gmsh.write(\"rect.opt\")\n",
    "#gmsh.view.write(4, \"rect.pos\")"
   ]
  },
  {
   "cell_type": "code",
   "execution_count": 19,
   "metadata": {},
   "outputs": [
    {
     "name": "stdout",
     "output_type": "stream",
     "text": [
      "-------------------------------------------------------\n",
      "Version       : 4.12.2\n",
      "License       : GNU General Public License\n",
      "Build OS      : Linux64-sdk\n",
      "Build date    : 20240121\n",
      "Build host    : gmsh.info\n",
      "Build options : 64Bit ALGLIB[contrib] ANN[contrib] Bamg Blas[petsc] Blossom Cgns DIntegration Dlopen DomHex Eigen[contrib] Fltk Gmm[contrib] Hxt Jpeg Kbipack Lapack[petsc] LinuxJoystick MathEx[contrib] Med Mesh Metis[contrib] Mmg Mpeg Netgen ONELAB ONELABMetamodel OpenCASCADE OpenCASCADE-CAF OpenGL OpenMP OptHom PETSc Parser Plugins Png Post QuadMeshingTools QuadTri Solver TetGen/BR Voro++[contrib] WinslowUntangler Zlib\n",
      "FLTK version  : 1.4.0\n",
      "PETSc version : 3.14.4 (real arithmtic)\n",
      "OCC version   : 7.7.2\n",
      "MED version   : 4.1.0\n",
      "Packaged by   : geuzaine\n",
      "Web site      : https://gmsh.info\n",
      "Issue tracker : https://gitlab.onelab.info/gmsh/gmsh/issues\n",
      "-------------------------------------------------------\n"
     ]
    }
   ],
   "source": [
    "gmsh.fltk.run()"
   ]
  },
  {
   "cell_type": "code",
   "execution_count": 20,
   "metadata": {
    "slideshow": {
     "slide_type": ""
    },
    "tags": []
   },
   "outputs": [],
   "source": [
    "gmsh.finalize()"
   ]
  }
 ],
 "metadata": {
  "kernelspec": {
   "display_name": "Julia 1.10.1",
   "language": "julia",
   "name": "julia-1.10"
  },
  "language_info": {
   "file_extension": ".jl",
   "mimetype": "application/julia",
   "name": "julia",
   "version": "1.10.1"
  },
  "varInspector": {
   "cols": {
    "lenName": 16,
    "lenType": 16,
    "lenVar": 40
   },
   "kernels_config": {
    "python": {
     "delete_cmd_postfix": "",
     "delete_cmd_prefix": "del ",
     "library": "var_list.py",
     "varRefreshCmd": "print(var_dic_list())"
    },
    "r": {
     "delete_cmd_postfix": ") ",
     "delete_cmd_prefix": "rm(",
     "library": "var_list.r",
     "varRefreshCmd": "cat(var_dic_list()) "
    }
   },
   "types_to_exclude": [
    "module",
    "function",
    "builtin_function_or_method",
    "instance",
    "_Feature"
   ],
   "window_display": false
  }
 },
 "nbformat": 4,
 "nbformat_minor": 4
}
