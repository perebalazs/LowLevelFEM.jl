{
 "cells": [
  {
   "cell_type": "code",
   "execution_count": 12,
   "metadata": {},
   "outputs": [],
   "source": [
    "import LowLevelFEM as FEM\n",
    "using LowLevelFEM\n",
    "\n",
    "gmsh.initialize()"
   ]
  },
  {
   "cell_type": "code",
   "execution_count": 13,
   "metadata": {},
   "outputs": [
    {
     "name": "stdout",
     "output_type": "stream",
     "text": [
      "Info    : Reading 'foam_2D_inhom.geo'...\n",
      "Info    : Meshing 1D...\n",
      "Info    : [  0%] Meshing curve 1 (Line)\n",
      "Info    : [ 10%] Meshing curve 2 (Line)\n",
      "Info    : [ 10%] Meshing curve 3 (Line)\n",
      "Info    : [ 10%] Meshing curve 4 (Line)\n",
      "Info    : [ 10%] Meshing curve 5 (Circle)\n",
      "Info    : [ 20%] Meshing curve 6 (Circle)\n",
      "Info    : [ 20%] Meshing curve 7 (Circle)\n",
      "Info    : [ 20%] Meshing curve 8 (Circle)\n",
      "Info    : [ 20%] Meshing curve 9 (Circle)\n",
      "Info    : [ 20%] Meshing curve 10 (Circle)\n",
      "Info    : [ 30%] Meshing curve 11 (Circle)\n",
      "Info    : [ 30%] Meshing curve 12 (Circle)\n",
      "Info    : [ 30%] Meshing curve 13 (Circle)\n",
      "Info    : [ 30%] Meshing curve 14 (Circle)\n",
      "Info    : [ 40%] Meshing curve 15 (Circle)\n",
      "Info    : [ 40%] Meshing curve 16 (Circle)\n",
      "Info    : [ 40%] Meshing curve 17 (Circle)\n",
      "Info    : [ 40%] Meshing curve 18 (Circle)\n",
      "Info    : [ 40%] Meshing curve 19 (Circle)\n",
      "Info    : [ 50%] Meshing curve 20 (Circle)\n",
      "Info    : [ 50%] Meshing curve 21 (Circle)\n",
      "Info    : [ 50%] Meshing curve 22 (Circle)\n",
      "Info    : [ 50%] Meshing curve 23 (Circle)\n",
      "Info    : [ 50%] Meshing curve 24 (Circle)\n",
      "Info    : [ 60%] Meshing curve 25 (Circle)\n",
      "Info    : [ 60%] Meshing curve 26 (Circle)\n",
      "Info    : [ 60%] Meshing curve 27 (Circle)\n",
      "Info    : [ 60%] Meshing curve 28 (Circle)\n",
      "Info    : [ 70%] Meshing curve 29 (Circle)\n",
      "Info    : [ 70%] Meshing curve 30 (Circle)\n",
      "Info    : [ 70%] Meshing curve 31 (Circle)\n",
      "Info    : [ 70%] Meshing curve 32 (Circle)\n",
      "Info    : [ 70%] Meshing curve 33 (Circle)\n",
      "Info    : [ 80%] Meshing curve 34 (Circle)\n",
      "Info    : [ 80%] Meshing curve 35 (Circle)\n",
      "Info    : [ 80%] Meshing curve 36 (Circle)\n",
      "Info    : [ 80%] Meshing curve 37 (Circle)\n",
      "Info    : [ 90%] Meshing curve 38 (Circle)\n",
      "Info    : [ 90%] Meshing curve 39 (Circle)\n",
      "Info    : [ 90%] Meshing curve 40 (Circle)\n",
      "Info    : [ 90%] Meshing curve 41 (Circle)\n",
      "Info    : [ 90%] Meshing curve 42 (Circle)\n",
      "Info    : [100%] Meshing curve 43 (Circle)\n",
      "Info    : [100%] Meshing curve 44 (Circle)\n",
      "Info    : [100%] Meshing curve 45 (Circle)\n",
      "Info    : [100%] Meshing curve 46 (Circle)\n",
      "Info    : Done meshing 1D (Wall 0.00930834s, CPU 0.006715s)\n",
      "Info    : Meshing 2D...\n",
      "Info    : [  0%] Meshing surface 1 (Plane, Frontal-Delaunay)\n",
      "Info    : [ 10%] Meshing surface 2 (Plane, Frontal-Delaunay)\n",
      "Info    : [ 10%] Blossom: 495 internal 198 closed\n",
      "Info    : [ 10%] Blossom recombination completed (Wall 0.0211135s, CPU 0.020905s): 198 quads, 0 triangles, 0 invalid quads, 0 quads with Q < 0.1, avg Q = 0.555241, min Q = 0.5313\n",
      "Info    : [ 10%] Meshing surface 3 (Plane, Frontal-Delaunay)\n",
      "Info    : [ 10%] Blossom: 495 internal 198 closed\n",
      "Info    : [ 10%] Blossom recombination completed (Wall 0.0222685s, CPU 0.022269s): 198 quads, 0 triangles, 0 invalid quads, 0 quads with Q < 0.1, avg Q = 0.542607, min Q = 0.517924\n",
      "Info    : [ 20%] Meshing surface 4 (Plane, Frontal-Delaunay)\n",
      "Info    : [ 20%] Blossom: 495 internal 198 closed\n",
      "Info    : [ 20%] Blossom recombination completed (Wall 0.0212768s, CPU 0.02111s): 198 quads, 0 triangles, 0 invalid quads, 0 quads with Q < 0.1, avg Q = 0.938768, min Q = 0.92179\n",
      "Info    : [ 20%] Meshing surface 5 (Plane, Frontal-Delaunay)\n",
      "Info    : [ 20%] Blossom: 495 internal 198 closed\n",
      "Info    : [ 20%] Blossom recombination completed (Wall 0.0196528s, CPU 0.019654s): 198 quads, 0 triangles, 0 invalid quads, 0 quads with Q < 0.1, avg Q = 0.938801, min Q = 0.921758\n",
      "Info    : [ 30%] Meshing surface 6 (Plane, Frontal-Delaunay)\n",
      "Info    : [ 30%] Blossom: 495 internal 198 closed\n",
      "Info    : [ 30%] Blossom recombination completed (Wall 0.0214211s, CPU 0.021421s): 198 quads, 0 triangles, 0 invalid quads, 0 quads with Q < 0.1, avg Q = 0.938744, min Q = 0.922297\n",
      "Info    : [ 30%] Meshing surface 7 (Plane, Frontal-Delaunay)\n",
      "Info    : [ 30%] Blossom: 495 internal 198 closed\n",
      "Info    : [ 30%] Blossom recombination completed (Wall 0.0198142s, CPU 0.019808s): 198 quads, 0 triangles, 0 invalid quads, 0 quads with Q < 0.1, avg Q = 0.555242, min Q = 0.531268\n",
      "Info    : [ 40%] Meshing surface 8 (Plane, Frontal-Delaunay)\n",
      "Info    : [ 40%] Blossom: 495 internal 198 closed\n",
      "Info    : [ 40%] Blossom recombination completed (Wall 0.0216375s, CPU 0.021605s): 198 quads, 0 triangles, 0 invalid quads, 0 quads with Q < 0.1, avg Q = 0.941812, min Q = 0.926443\n",
      "Info    : [ 40%] Meshing surface 9 (Plane, Frontal-Delaunay)\n",
      "Info    : [ 40%] Blossom: 495 internal 198 closed\n",
      "Info    : [ 40%] Blossom recombination completed (Wall 0.0201847s, CPU 0.019943s): 198 quads, 0 triangles, 0 invalid quads, 0 quads with Q < 0.1, avg Q = 0.943449, min Q = 0.928285\n",
      "Info    : [ 50%] Meshing surface 10 (Plane, Frontal-Delaunay)\n",
      "Info    : [ 50%] Blossom: 495 internal 198 closed\n",
      "Info    : [ 50%] Blossom recombination completed (Wall 0.0221006s, CPU 0.022095s): 198 quads, 0 triangles, 0 invalid quads, 0 quads with Q < 0.1, avg Q = 0.542607, min Q = 0.517925\n",
      "Info    : [ 50%] Meshing surface 11 (Plane, Frontal-Delaunay)\n",
      "Info    : [ 50%] Blossom: 495 internal 198 closed\n",
      "Info    : [ 50%] Blossom recombination completed (Wall 0.0341313s, CPU 0.03408s): 198 quads, 0 triangles, 0 invalid quads, 0 quads with Q < 0.1, avg Q = 0.474973, min Q = 0.473362\n",
      "Info    : [ 50%] Meshing surface 12 (Plane, Frontal-Delaunay)\n",
      "Info    : [ 50%] Blossom: 495 internal 198 closed\n",
      "Info    : [ 50%] Blossom recombination completed (Wall 0.0228167s, CPU 0.022817s): 198 quads, 0 triangles, 0 invalid quads, 0 quads with Q < 0.1, avg Q = 0.95476, min Q = 0.945422\n",
      "Info    : [ 60%] Meshing surface 13 (Plane, Frontal-Delaunay)\n",
      "Info    : [ 60%] Blossom: 495 internal 198 closed\n",
      "Info    : [ 60%] Blossom recombination completed (Wall 0.0193857s, CPU 0.019386s): 198 quads, 0 triangles, 0 invalid quads, 0 quads with Q < 0.1, avg Q = 0.954666, min Q = 0.945277\n",
      "Info    : [ 60%] Meshing surface 14 (Plane, Frontal-Delaunay)\n",
      "Info    : [ 60%] Blossom: 495 internal 198 closed\n",
      "Info    : [ 60%] Blossom recombination completed (Wall 0.0194176s, CPU 0.019418s): 198 quads, 0 triangles, 0 invalid quads, 0 quads with Q < 0.1, avg Q = 0.954738, min Q = 0.947122\n",
      "Info    : [ 70%] Meshing surface 15 (Plane, Frontal-Delaunay)\n",
      "Info    : [ 70%] Blossom: 495 internal 198 closed\n",
      "Info    : [ 70%] Blossom recombination completed (Wall 0.0191682s, CPU 0.019168s): 198 quads, 0 triangles, 0 invalid quads, 0 quads with Q < 0.1, avg Q = 0.954743, min Q = 0.947252\n",
      "Info    : [ 70%] Meshing surface 16 (Plane, Frontal-Delaunay)\n",
      "Info    : [ 70%] Blossom: 495 internal 198 closed\n",
      "Info    : [ 70%] Blossom recombination completed (Wall 0.0197819s, CPU 0.019781s): 198 quads, 0 triangles, 0 invalid quads, 0 quads with Q < 0.1, avg Q = 0.938772, min Q = 0.92179\n",
      "Info    : [ 80%] Meshing surface 17 (Plane, Frontal-Delaunay)\n",
      "Info    : [ 80%] Blossom: 495 internal 198 closed\n",
      "Info    : [ 80%] Blossom recombination completed (Wall 0.0199201s, CPU 0.01992s): 198 quads, 0 triangles, 0 invalid quads, 0 quads with Q < 0.1, avg Q = 0.530358, min Q = 0.504943\n",
      "Info    : [ 80%] Meshing surface 18 (Plane, Frontal-Delaunay)\n",
      "Info    : [ 80%] Blossom: 495 internal 198 closed\n",
      "Info    : [ 80%] Blossom recombination completed (Wall 0.0269946s, CPU 0.026994s): 198 quads, 0 triangles, 0 invalid quads, 0 quads with Q < 0.1, avg Q = 0.507304, min Q = 0.506631\n",
      "Info    : [ 90%] Meshing surface 19 (Plane, Frontal-Delaunay)\n",
      "Info    : [ 90%] Blossom: 495 internal 198 closed\n",
      "Info    : [ 90%] Blossom recombination completed (Wall 0.01205s, CPU 0.01205s): 99 quads, 0 triangles, 0 invalid quads, 0 quads with Q < 0.1, avg Q = 0.979798, min Q = 0.979798\n",
      "Info    : [ 90%] Meshing surface 20 (Plane, Frontal-Delaunay)\n",
      "Info    : [ 90%] Blossom: 495 internal 198 closed\n",
      "Info    : [ 90%] Blossom recombination completed (Wall 0.0214246s, CPU 0.021425s): 198 quads, 0 triangles, 0 invalid quads, 0 quads with Q < 0.1, avg Q = 0.948058, min Q = 0.935615\n",
      "Info    : [100%] Meshing surface 21 (Plane, Frontal-Delaunay)\n",
      "Info    : [100%] Blossom: 792 internal 198 closed\n",
      "Info    : [100%] Blossom recombination completed (Wall 0.0230781s, CPU 0.023048s): 297 quads, 0 triangles, 0 invalid quads, 0 quads with Q < 0.1, avg Q = 0.692039, min Q = 0.599889\n",
      "Info    : [100%] Meshing surface 22 (Plane, Frontal-Delaunay)\n",
      "Info    : [100%] Blossom: 495 internal 198 closed\n",
      "Info    : [100%] Blossom recombination completed (Wall 0.0201856s, CPU 0.019987s): 198 quads, 0 triangles, 0 invalid quads, 0 quads with Q < 0.1, avg Q = 0.953267, min Q = 0.945168\n",
      "Info    : Done meshing 2D (Wall 3.02075s, CPU 2.92379s)\n",
      "Info    : 14672 nodes 27351 elements\n",
      "Info    : Done reading 'foam_2D_inhom.geo'\n"
     ]
    }
   ],
   "source": [
    "gmsh.open(\"foam_2D_inhom.geo\")"
   ]
  },
  {
   "cell_type": "code",
   "execution_count": 14,
   "metadata": {},
   "outputs": [
    {
     "name": "stdout",
     "output_type": "stream",
     "text": [
      "Info    : RCMK renumbering...\n",
      "Info    : Done RCMK renumbering (bandwidth is now 137)\n"
     ]
    },
    {
     "data": {
      "text/plain": [
       "LowLevelFEM.Problem(\"foam_2D_inhom\", \"PlaneStress\", 2, [(\"Fe\", 100000.0, 0.3, 7.85e-9), (\"Al\", 100000.0, 0.4, 7.85e-9)], 1.0, 14672)"
      ]
     },
     "metadata": {},
     "output_type": "display_data"
    }
   ],
   "source": [
    "mat1 = FEM.material(\"Fe\", E=2e5, ν=0.3)\n",
    "mat2 = FEM.material(\"Al\", E=1e5, ν=0.4)\n",
    "\n",
    "problem = FEM.Problem([mat1, mat2], type=\"PlaneStress\")"
   ]
  },
  {
   "cell_type": "code",
   "execution_count": 15,
   "metadata": {},
   "outputs": [
    {
     "data": {
      "text/plain": [
       "(\"load\", 1, 0, 0)"
      ]
     },
     "metadata": {},
     "output_type": "display_data"
    }
   ],
   "source": [
    "supp = FEM.displacementConstraint(\"supp\", ux=0, uy=0)\n",
    "load = FEM.load(\"load\", fx=1)"
   ]
  },
  {
   "cell_type": "code",
   "execution_count": 16,
   "metadata": {},
   "outputs": [],
   "source": [
    "K = FEM.stiffnessMatrix(problem)\n",
    "f = FEM.loadVector(problem, [load]);"
   ]
  },
  {
   "cell_type": "code",
   "execution_count": 17,
   "metadata": {},
   "outputs": [
    {
     "data": {
      "text/plain": [
       "29344×29344 SparseArrays.SparseMatrixCSC{Float64, Int64} with 424724 stored entries:\n",
       "⎡⠻⣦⡀⠀⠀⠀⠀⠀⠀⠀⠀⠀⠀⠀⠀⠀⠀⠀⠀⠀⠀⠀⠀⠀⠀⠀⠀⠀⠀⠀⠀⠀⠀⠀⠀⠀⠀⠀⠀⠀⎤\n",
       "⎢⠀⠈⠻⣦⡀⠀⠀⠀⠀⠀⠀⠀⠀⠀⠀⠀⠀⠀⠀⠀⠀⠀⠀⠀⠀⠀⠀⠀⠀⠀⠀⠀⠀⠀⠀⠀⠀⠀⠀⠀⎥\n",
       "⎢⠀⠀⠀⠈⠻⣦⡀⠀⠀⠀⠀⠀⠀⠀⠀⠀⠀⠀⠀⠀⠀⠀⠀⠀⠀⠀⠀⠀⠀⠀⠀⠀⠀⠀⠀⠀⠀⠀⠀⠀⎥\n",
       "⎢⠀⠀⠀⠀⠀⠈⠻⣦⡀⠀⠀⠀⠀⠀⠀⠀⠀⠀⠀⠀⠀⠀⠀⠀⠀⠀⠀⠀⠀⠀⠀⠀⠀⠀⠀⠀⠀⠀⠀⠀⎥\n",
       "⎢⠀⠀⠀⠀⠀⠀⠀⠈⠻⣦⡀⠀⠀⠀⠀⠀⠀⠀⠀⠀⠀⠀⠀⠀⠀⠀⠀⠀⠀⠀⠀⠀⠀⠀⠀⠀⠀⠀⠀⠀⎥\n",
       "⎢⠀⠀⠀⠀⠀⠀⠀⠀⠀⠈⠻⣦⡀⠀⠀⠀⠀⠀⠀⠀⠀⠀⠀⠀⠀⠀⠀⠀⠀⠀⠀⠀⠀⠀⠀⠀⠀⠀⠀⠀⎥\n",
       "⎢⠀⠀⠀⠀⠀⠀⠀⠀⠀⠀⠀⠈⠻⣦⡀⠀⠀⠀⠀⠀⠀⠀⠀⠀⠀⠀⠀⠀⠀⠀⠀⠀⠀⠀⠀⠀⠀⠀⠀⠀⎥\n",
       "⎢⠀⠀⠀⠀⠀⠀⠀⠀⠀⠀⠀⠀⠀⠈⠻⣦⡀⠀⠀⠀⠀⠀⠀⠀⠀⠀⠀⠀⠀⠀⠀⠀⠀⠀⠀⠀⠀⠀⠀⠀⎥\n",
       "⎢⠀⠀⠀⠀⠀⠀⠀⠀⠀⠀⠀⠀⠀⠀⠀⠈⠻⣦⡀⠀⠀⠀⠀⠀⠀⠀⠀⠀⠀⠀⠀⠀⠀⠀⠀⠀⠀⠀⠀⠀⎥\n",
       "⎢⠀⠀⠀⠀⠀⠀⠀⠀⠀⠀⠀⠀⠀⠀⠀⠀⠀⠈⠻⣦⡀⠀⠀⠀⠀⠀⠀⠀⠀⠀⠀⠀⠀⠀⠀⠀⠀⠀⠀⠀⎥\n",
       "⎢⠀⠀⠀⠀⠀⠀⠀⠀⠀⠀⠀⠀⠀⠀⠀⠀⠀⠀⠀⠈⠻⣦⡀⠀⠀⠀⠀⠀⠀⠀⠀⠀⠀⠀⠀⠀⠀⠀⠀⠀⎥\n",
       "⎢⠀⠀⠀⠀⠀⠀⠀⠀⠀⠀⠀⠀⠀⠀⠀⠀⠀⠀⠀⠀⠀⠈⠻⣦⡀⠀⠀⠀⠀⠀⠀⠀⠀⠀⠀⠀⠀⠀⠀⠀⎥\n",
       "⎢⠀⠀⠀⠀⠀⠀⠀⠀⠀⠀⠀⠀⠀⠀⠀⠀⠀⠀⠀⠀⠀⠀⠀⠈⠻⣦⡀⠀⠀⠀⠀⠀⠀⠀⠀⠀⠀⠀⠀⠀⎥\n",
       "⎢⠀⠀⠀⠀⠀⠀⠀⠀⠀⠀⠀⠀⠀⠀⠀⠀⠀⠀⠀⠀⠀⠀⠀⠀⠀⠈⠻⣦⡀⠀⠀⠀⠀⠀⠀⠀⠀⠀⠀⠀⎥\n",
       "⎢⠀⠀⠀⠀⠀⠀⠀⠀⠀⠀⠀⠀⠀⠀⠀⠀⠀⠀⠀⠀⠀⠀⠀⠀⠀⠀⠀⠈⠻⣦⡀⠀⠀⠀⠀⠀⠀⠀⠀⠀⎥\n",
       "⎢⠀⠀⠀⠀⠀⠀⠀⠀⠀⠀⠀⠀⠀⠀⠀⠀⠀⠀⠀⠀⠀⠀⠀⠀⠀⠀⠀⠀⠀⠈⠻⣦⡀⠀⠀⠀⠀⠀⠀⠀⎥\n",
       "⎢⠀⠀⠀⠀⠀⠀⠀⠀⠀⠀⠀⠀⠀⠀⠀⠀⠀⠀⠀⠀⠀⠀⠀⠀⠀⠀⠀⠀⠀⠀⠀⠈⠻⣦⡀⠀⠀⠀⠀⠀⎥\n",
       "⎢⠀⠀⠀⠀⠀⠀⠀⠀⠀⠀⠀⠀⠀⠀⠀⠀⠀⠀⠀⠀⠀⠀⠀⠀⠀⠀⠀⠀⠀⠀⠀⠀⠀⠈⠻⣦⡀⠀⠀⠀⎥\n",
       "⎢⠀⠀⠀⠀⠀⠀⠀⠀⠀⠀⠀⠀⠀⠀⠀⠀⠀⠀⠀⠀⠀⠀⠀⠀⠀⠀⠀⠀⠀⠀⠀⠀⠀⠀⠀⠈⠻⣦⡀⠀⎥\n",
       "⎣⠀⠀⠀⠀⠀⠀⠀⠀⠀⠀⠀⠀⠀⠀⠀⠀⠀⠀⠀⠀⠀⠀⠀⠀⠀⠀⠀⠀⠀⠀⠀⠀⠀⠀⠀⠀⠀⠈⠻⣦⎦"
      ]
     },
     "metadata": {},
     "output_type": "display_data"
    }
   ],
   "source": [
    "display(K)"
   ]
  },
  {
   "cell_type": "code",
   "execution_count": 18,
   "metadata": {},
   "outputs": [],
   "source": [
    "FEM.applyBoundaryConditions!(problem, K, f, [supp])"
   ]
  },
  {
   "cell_type": "code",
   "execution_count": 19,
   "metadata": {},
   "outputs": [
    {
     "data": {
      "text/plain": [
       "LowLevelFEM.StressField([[-0.05897936134431443; 0.022601234181648496; … ; 0.0; 0.0;;], [-0.1822605760262538; -0.11775148016422796; … ; 0.0; 0.0;;], [0.0010118937655737336; 0.02923269765470362; … ; 0.0; 0.0;;], [1.0017854084126305; 0.5286922237027526; … ; 0.0; 0.0;;], [-0.05654372862878074; 0.16572809650311102; … ; 0.0; 0.0;;], [-0.2551077755557718; -0.19302842290863612; … ; 0.0; 0.0;;], [8.45752125256576; 0.008546272648828162; … ; 0.0; 0.0;;], [2.742304547398488; -0.8517661430459118; … ; 0.0; 0.0;;], [-0.11813218832559771; -0.04653233121515643; … ; 0.0; 0.0;;], [0.38494002247039044; -0.34916279003594086; … ; 0.0; 0.0;;]  …  [0.9908768491328143; -0.6710624880019508; … ; 0.0; 0.0;;], [1.6473324467496355; -1.0383820003342392; … ; 0.0; 0.0;;], [0.9970298905315422; -0.9068709493052456; … ; 0.0; 0.0;;], [0.7234170740986612; 0.04354954040986229; … ; 0.0; 0.0;;], [1.0739355631507408; -0.040579595513458896; … ; 0.0; 0.0;;], [3.1980757298556233; 0.9425293078775011; … ; 0.0; 0.0;;], [6.023599364079271; -1.003406412386091; … ; 0.0; 0.0;;], [3.1848649082736813; 0.7466870848070936; … ; 0.0; 0.0;;], [2.534547586419485; -0.3842802340815434; … ; 0.0; 0.0;;], [1.520783758264016; 0.06610594847734585; … ; 0.0; 0.0;;]], [23194, 23195, 23196, 23197, 23198, 23199, 23200, 23201, 23202, 23203  …  23184, 23185, 23186, 23187, 23188, 23189, 23190, 23191, 23192, 23193], 1)"
      ]
     },
     "metadata": {},
     "output_type": "display_data"
    }
   ],
   "source": [
    "q = FEM.solveDisplacement(K, f)\n",
    "S = FEM.solveStress(problem, q)"
   ]
  },
  {
   "cell_type": "code",
   "execution_count": 20,
   "metadata": {},
   "outputs": [
    {
     "data": {
      "text/plain": [
       "\"uvec..ok\""
      ]
     },
     "metadata": {},
     "output_type": "display_data"
    },
    {
     "data": {
      "text/plain": [
       "\"ux..ok\""
      ]
     },
     "metadata": {},
     "output_type": "display_data"
    },
    {
     "data": {
      "text/plain": [
       "\"uy..ok\""
      ]
     },
     "metadata": {},
     "output_type": "display_data"
    },
    {
     "data": {
      "text/plain": [
       "\"s..ok\""
      ]
     },
     "metadata": {},
     "output_type": "display_data"
    },
    {
     "data": {
      "text/plain": [
       "\"sx..ok\""
      ]
     },
     "metadata": {},
     "output_type": "display_data"
    },
    {
     "data": {
      "text/plain": [
       "\"sy..ok\""
      ]
     },
     "metadata": {},
     "output_type": "display_data"
    },
    {
     "data": {
      "text/plain": [
       "\"sxy..ok\""
      ]
     },
     "metadata": {},
     "output_type": "display_data"
    },
    {
     "name": "stdout",
     "output_type": "stream",
     "text": [
      "Info    : Running Plugin(Smooth)...\n",
      "Info    : Done running Plugin(Smooth)\n",
      "Info    : Running Plugin(Smooth)...\n",
      "Info    : Done running Plugin(Smooth)\n",
      "Info    : Running Plugin(Smooth)...\n",
      "Info    : Done running Plugin(Smooth)\n",
      "Info    : Running Plugin(Smooth)...\n",
      "Info    : Done running Plugin(Smooth)\n"
     ]
    },
    {
     "data": {
      "text/plain": [
       "6"
      ]
     },
     "metadata": {},
     "output_type": "display_data"
    }
   ],
   "source": [
    "u = FEM.showDoFResults(problem, q, \"uvec\", name=\"uvec\", visible=false)\n",
    "ux = FEM.showDoFResults(problem, q, \"ux\", name=\"ux\", visible=false)\n",
    "uy = FEM.showDoFResults(problem, q, \"uy\", name=\"uy\", visible=false)\n",
    "\n",
    "s = FEM.showStressResults(problem, S, \"s\", name=\"σ\", visible=true, smooth=true)\n",
    "sx = FEM.showStressResults(problem, S, \"sx\", name=\"σx\", visible=false, smooth=true)\n",
    "sy = FEM.showStressResults(problem, S, \"sy\", name=\"σy\", visible=false, smooth=true)\n",
    "sxy = FEM.showStressResults(problem, S, \"sxy\", name=\"τxy\", visible=false, smooth=true)"
   ]
  },
  {
   "cell_type": "code",
   "execution_count": 21,
   "metadata": {},
   "outputs": [
    {
     "name": "stdout",
     "output_type": "stream",
     "text": [
      "-------------------------------------------------------\n",
      "Version       : 4.12.2\n",
      "License       : GNU General Public License\n",
      "Build OS      : Linux64-sdk\n",
      "Build date    : 19700101\n",
      "Build host    : amdci7.julia.csail.mit.edu\n",
      "Build options : 64Bit ALGLIB[contrib] ANN[contrib] Bamg Blossom Cairo DIntegration Dlopen DomHex Eigen[contrib] Fltk GMP Gmm[contrib] Hxt Jpeg Kbipack LinuxJoystick MathEx[contrib] Mesh Metis[contrib] Mmg Mpeg Netgen ONELAB ONELABMetamodel OpenCASCADE OpenCASCADE-CAF OpenGL OpenMP OptHom Parser Plugins Png Post QuadMeshingTools QuadTri Solver TetGen/BR Voro++[contrib] WinslowUntangler Zlib\n",
      "FLTK version  : 1.3.8\n",
      "OCC version   : 7.6.2\n",
      "Packaged by   : root\n",
      "Web site      : https://gmsh.info\n",
      "Issue tracker : https://gitlab.onelab.info/gmsh/gmsh/issues\n",
      "-------------------------------------------------------\n"
     ]
    },
    {
     "name": "stderr",
     "output_type": "stream",
     "text": [
      "XRequest.18: BadValue 0x0\n"
     ]
    }
   ],
   "source": [
    "gmsh.fltk.run()"
   ]
  },
  {
   "cell_type": "code",
   "execution_count": 22,
   "metadata": {},
   "outputs": [],
   "source": [
    "gmsh.finalize()"
   ]
  }
 ],
 "metadata": {
  "kernelspec": {
   "display_name": "Julia 1.10.1",
   "language": "julia",
   "name": "julia-1.10"
  },
  "language_info": {
   "file_extension": ".jl",
   "mimetype": "application/julia",
   "name": "julia",
   "version": "1.10.1"
  }
 },
 "nbformat": 4,
 "nbformat_minor": 2
}
